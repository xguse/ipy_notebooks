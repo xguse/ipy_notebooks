{
 "metadata": {
  "name": "gFunc_only_nWay"
 },
 "nbformat": 3,
 "nbformat_minor": 0,
 "worksheets": [
  {
   "cells": [
    {
     "cell_type": "code",
     "collapsed": false,
     "input": [
      "# get some imports out of the way\n",
      "import networkx as nx\n"
     ],
     "language": "python",
     "metadata": {},
     "outputs": [],
     "prompt_number": 4
    },
    {
     "cell_type": "markdown",
     "metadata": {},
     "source": [
      "# 1: Make sure I can import from gFunc and access data"
     ]
    },
    {
     "cell_type": "markdown",
     "metadata": {},
     "source": [
      "## 1.1: Test Importing"
     ]
    },
    {
     "cell_type": "markdown",
     "metadata": {},
     "source": [
      "### The following did not work at first:\n",
      "    from gfunc.scripts.gfunc_build_n_way_one2one import *\n",
      "    \n",
      "    ---------------------------------------------------------------------------\n",
      "    ImportError                               Traceback (most recent call last)\n",
      "    <ipython-input-1-d315a0942c03> in <module>()\n",
      "    ----> 1 from gfunc.scripts.gfunc_build_n_way_one2one import *\n",
      "\n",
      "    /home/gus/Dropbox/repos/git/gFunc/src/gfunc/scripts/gfunc_build_n_way_one2one.py in <module>()\n",
      "         31 from gfunc.graphTools import GraphHandler\n",
      "         32 from gfunc.parsers.Cufflinks import CDiffFpkmTrackerParser\n",
      "    ---> 33 from gfunc.parsers.ETE import PhyloXMLParser\n",
      "         34 from gfunc.parsers.JASPAR import BasicTFBSParser\n",
      "         35 from gfunc.parsers.edge_lists import OneToOneOrthoListParser\n",
      "\n",
      "    /home/gus/Dropbox/repos/git/gFunc/src/gfunc/parsers/ETE.py in <module>()\n",
      "          8 import cPickle\n",
      "          9 \n",
      "    ---> 10 import ete2\n",
      "         11 \n",
      "         12 from gfunc.parsers.base import GFuncParserBase\n",
      "\n",
      "    ImportError: No module named ete2\n",
      "\n",
      "    bestChoose is 'choose' from 'rSeq'."
     ]
    },
    {
     "cell_type": "markdown",
     "metadata": {},
     "source": [
      "Could not load ete which could not be installed because of dependency issues.\n",
      "\n",
      "Addressing issues...\n",
      "\n",
      "    - building PyQt and SIP by hand because they use `configure.py` instead of `setup.py`"
     ]
    },
    {
     "cell_type": "code",
     "collapsed": false,
     "input": [
      "from gfunc.scripts.gfunc_build_n_way_one2one import *"
     ],
     "language": "python",
     "metadata": {},
     "outputs": [
      {
       "output_type": "stream",
       "stream": "stdout",
       "text": [
        "bestChoose is 'choose' from 'rSeq'.\n"
       ]
      }
     ],
     "prompt_number": 1
    },
    {
     "cell_type": "markdown",
     "metadata": {},
     "source": [
      "OK!  That seemed to do it!\n",
      "\n",
      "Let's move on."
     ]
    },
    {
     "cell_type": "markdown",
     "metadata": {},
     "source": [
      "## 1.2: Test Data access"
     ]
    },
    {
     "cell_type": "code",
     "collapsed": false,
     "input": [
      "# run gfunc_build_n_way_one2one script and capture output in variable `trap`\n",
      "%run -i ../../../Dropbox/repos/git/gFunc/src/gfunc/scripts/gfunc_build_n_way_one2one.py ../../../Dropbox/common/gfunc/Aa_Ag_Cq_sort_pci.conf\n",
      "\n",
      "graphHandler,graphBuilder,n_way_ortho_table,ortho_parser = trap\n",
      "\n",
      "# save original graphHandler in case we alter it and then want to use the original later\n",
      "from copy import deepcopy\n",
      "original_graphHandler =  deepcopy(graphHandler)"
     ],
     "language": "python",
     "metadata": {},
     "outputs": [
      {
       "output_type": "stream",
       "stream": "stdout",
       "text": [
        "main() completed.\n"
       ]
      }
     ],
     "prompt_number": 2
    },
    {
     "cell_type": "markdown",
     "metadata": {},
     "source": [
      "Ok seems like things are working."
     ]
    },
    {
     "cell_type": "markdown",
     "metadata": {},
     "source": [
      "# 2: Develop code to calculate PTCI with only full n-way sets"
     ]
    },
    {
     "cell_type": "markdown",
     "metadata": {},
     "source": [
      "## 2.1: Develope ability to test for \"$n$-way\" sets "
     ]
    },
    {
     "cell_type": "markdown",
     "metadata": {},
     "source": [
      "### Equation to determine correct number of edges ($E_n$) in a completely connected graph with $n$ nodes ($K_{n}$)\n",
      "\n",
      "   $$ E_{n} = n(n-1)/2 $$\n",
      "\n",
      "A completely connected subgraph represents a $n$-by-$n$ ($n$ 1-to-1 ortholog relationships) which is what I am seeking."
     ]
    },
    {
     "cell_type": "markdown",
     "metadata": {},
     "source": [
      "### Function to find $E_n$"
     ]
    },
    {
     "cell_type": "code",
     "collapsed": false,
     "input": [
      "def K_n_edges(n):\n",
      "    edges = (n*(n - 1.0))/2.0\n",
      "    return edges"
     ],
     "language": "python",
     "metadata": {},
     "outputs": [],
     "prompt_number": 2
    },
    {
     "cell_type": "markdown",
     "metadata": {},
     "source": [
      "### Function to collect subgraphs with complete connectedness"
     ]
    },
    {
     "cell_type": "code",
     "collapsed": false,
     "input": [
      "def get_completes(graph):\n",
      "    subgraphs = nx.connected_component_subgraphs(graph)\n",
      "    completes = [x for x in subgraphs if len(x.edges()) == K_n_edges(len(x.nodes()))]\n",
      "    return completes"
     ],
     "language": "python",
     "metadata": {},
     "outputs": [],
     "prompt_number": 3
    },
    {
     "cell_type": "code",
     "collapsed": false,
     "input": [],
     "language": "python",
     "metadata": {},
     "outputs": []
    }
   ],
   "metadata": {}
  }
 ]
}