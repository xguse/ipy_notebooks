{
 "cells": [
  {
   "cell_type": "code",
   "execution_count": 1,
   "metadata": {
    "collapsed": false
   },
   "outputs": [],
   "source": [
    "import pandas as pd\n",
    "import munch"
   ]
  },
  {
   "cell_type": "code",
   "execution_count": 4,
   "metadata": {
    "collapsed": false
   },
   "outputs": [],
   "source": [
    "# Load files\n",
    "dfs_in = munch.Munch()\n",
    "\n",
    "dfs_in.ms150821_Body_1 = pd.read_excel(\"/home/gus/MEGAsync/projects/Asteph/sam_peps/ms150821_Head-3/ms150821_Body-1.xls\", sheetname=\"Sheet1\")\n",
    "dfs_in.ms150821_Body_2 = pd.read_excel(\"/home/gus/MEGAsync/projects/Asteph/sam_peps/ms150821_Head-3/ms150821_Body-2.xls\", sheetname=\"Sheet1\")\n",
    "dfs_in.ms150821_Body_3 = pd.read_excel(\"/home/gus/MEGAsync/projects/Asteph/sam_peps/ms150821_Head-3/ms150821_Body-3.xls\", sheetname=\"Sheet1\")\n",
    "dfs_in.ms150821_Head_1 = pd.read_excel(\"/home/gus/MEGAsync/projects/Asteph/sam_peps/ms150821_Head-3/ms150821_Head-1.xls\", sheetname=\"Sheet1\")\n",
    "dfs_in.ms150821_Head_2 = pd.read_excel(\"/home/gus/MEGAsync/projects/Asteph/sam_peps/ms150821_Head-3/ms150821_Head-2.xls\", sheetname=\"Sheet1\")\n",
    "dfs_in.ms150821_Head_3 = pd.read_excel(\"/home/gus/MEGAsync/projects/Asteph/sam_peps/ms150821_Head-3/ms150821_Head-3.xls\", sheetname=\"Sheet1\")"
   ]
  },
  {
   "cell_type": "code",
   "execution_count": 5,
   "metadata": {
    "collapsed": false
   },
   "outputs": [
    {
     "data": {
      "text/html": [
       "<div>\n",
       "<table border=\"1\" class=\"dataframe\">\n",
       "  <thead>\n",
       "    <tr style=\"text-align: right;\">\n",
       "      <th></th>\n",
       "      <th>prot_hit_num</th>\n",
       "      <th>prot_acc</th>\n",
       "      <th>prot_desc</th>\n",
       "      <th>prot_score</th>\n",
       "      <th>prot_mass</th>\n",
       "      <th>prot_matches</th>\n",
       "      <th>prot_matches_sig</th>\n",
       "      <th>prot_sequences</th>\n",
       "      <th>prot_sequences_sig</th>\n",
       "      <th>pep_query</th>\n",
       "      <th>...</th>\n",
       "      <th>pep_score</th>\n",
       "      <th>pep_ident</th>\n",
       "      <th>pep_expect</th>\n",
       "      <th>pep_res_before</th>\n",
       "      <th>pep_seq</th>\n",
       "      <th>pep_res_after</th>\n",
       "      <th>pep_var_mod</th>\n",
       "      <th>pep_var_mod_pos</th>\n",
       "      <th>pep_summed_mod_pos</th>\n",
       "      <th>pep_scan_title</th>\n",
       "    </tr>\n",
       "  </thead>\n",
       "  <tbody>\n",
       "    <tr>\n",
       "      <th>0</th>\n",
       "      <td>1</td>\n",
       "      <td>ASTEI08310-PA</td>\n",
       "      <td>hypothetical protein|protein_coding|scaffold_...</td>\n",
       "      <td>4935</td>\n",
       "      <td>151910</td>\n",
       "      <td>154</td>\n",
       "      <td>154</td>\n",
       "      <td>106</td>\n",
       "      <td>106</td>\n",
       "      <td>18</td>\n",
       "      <td>...</td>\n",
       "      <td>25.80</td>\n",
       "      <td>19</td>\n",
       "      <td>0.01200</td>\n",
       "      <td>R</td>\n",
       "      <td>VEDQIAK</td>\n",
       "      <td>L</td>\n",
       "      <td>NaN</td>\n",
       "      <td>NaN</td>\n",
       "      <td>NaN</td>\n",
       "      <td>150821_o2_05_in150820_anopheles_Body-1.7875.78...</td>\n",
       "    </tr>\n",
       "    <tr>\n",
       "      <th>1</th>\n",
       "      <td>1</td>\n",
       "      <td>ASTEI08310-PA</td>\n",
       "      <td>hypothetical protein|protein_coding|scaffold_...</td>\n",
       "      <td>4935</td>\n",
       "      <td>151910</td>\n",
       "      <td>154</td>\n",
       "      <td>154</td>\n",
       "      <td>106</td>\n",
       "      <td>106</td>\n",
       "      <td>23</td>\n",
       "      <td>...</td>\n",
       "      <td>20.30</td>\n",
       "      <td>18</td>\n",
       "      <td>0.03400</td>\n",
       "      <td>R</td>\n",
       "      <td>LADEEAR</td>\n",
       "      <td>E</td>\n",
       "      <td>NaN</td>\n",
       "      <td>NaN</td>\n",
       "      <td>NaN</td>\n",
       "      <td>150821_o2_05_in150820_anopheles_Body-1.6442.64...</td>\n",
       "    </tr>\n",
       "    <tr>\n",
       "      <th>2</th>\n",
       "      <td>1</td>\n",
       "      <td>ASTEI08310-PA</td>\n",
       "      <td>hypothetical protein|protein_coding|scaffold_...</td>\n",
       "      <td>4935</td>\n",
       "      <td>151910</td>\n",
       "      <td>154</td>\n",
       "      <td>154</td>\n",
       "      <td>106</td>\n",
       "      <td>106</td>\n",
       "      <td>620</td>\n",
       "      <td>...</td>\n",
       "      <td>31.25</td>\n",
       "      <td>21</td>\n",
       "      <td>0.00230</td>\n",
       "      <td>R</td>\n",
       "      <td>TWAWWK</td>\n",
       "      <td>L</td>\n",
       "      <td>NaN</td>\n",
       "      <td>NaN</td>\n",
       "      <td>NaN</td>\n",
       "      <td>150821_o2_05_in150820_anopheles_Body-1.31865.3...</td>\n",
       "    </tr>\n",
       "    <tr>\n",
       "      <th>3</th>\n",
       "      <td>1</td>\n",
       "      <td>ASTEI08310-PA</td>\n",
       "      <td>hypothetical protein|protein_coding|scaffold_...</td>\n",
       "      <td>4935</td>\n",
       "      <td>151910</td>\n",
       "      <td>154</td>\n",
       "      <td>154</td>\n",
       "      <td>106</td>\n",
       "      <td>106</td>\n",
       "      <td>1038</td>\n",
       "      <td>...</td>\n",
       "      <td>34.89</td>\n",
       "      <td>17</td>\n",
       "      <td>0.00088</td>\n",
       "      <td>R</td>\n",
       "      <td>LAQEEDAR</td>\n",
       "      <td>N</td>\n",
       "      <td>NaN</td>\n",
       "      <td>NaN</td>\n",
       "      <td>NaN</td>\n",
       "      <td>150821_o2_05_in150820_anopheles_Body-1.6271.62...</td>\n",
       "    </tr>\n",
       "    <tr>\n",
       "      <th>4</th>\n",
       "      <td>1</td>\n",
       "      <td>ASTEI08310-PA</td>\n",
       "      <td>hypothetical protein|protein_coding|scaffold_...</td>\n",
       "      <td>4935</td>\n",
       "      <td>151910</td>\n",
       "      <td>154</td>\n",
       "      <td>154</td>\n",
       "      <td>106</td>\n",
       "      <td>106</td>\n",
       "      <td>1040</td>\n",
       "      <td>...</td>\n",
       "      <td>33.68</td>\n",
       "      <td>20</td>\n",
       "      <td>0.00240</td>\n",
       "      <td>R</td>\n",
       "      <td>EQLGISER</td>\n",
       "      <td>R</td>\n",
       "      <td>NaN</td>\n",
       "      <td>NaN</td>\n",
       "      <td>NaN</td>\n",
       "      <td>150821_o2_05_in150820_anopheles_Body-1.13749.1...</td>\n",
       "    </tr>\n",
       "  </tbody>\n",
       "</table>\n",
       "<p>5 rows × 29 columns</p>\n",
       "</div>"
      ],
      "text/plain": [
       "   prot_hit_num       prot_acc  \\\n",
       "0             1  ASTEI08310-PA   \n",
       "1             1  ASTEI08310-PA   \n",
       "2             1  ASTEI08310-PA   \n",
       "3             1  ASTEI08310-PA   \n",
       "4             1  ASTEI08310-PA   \n",
       "\n",
       "                                           prot_desc  prot_score  prot_mass  \\\n",
       "0   hypothetical protein|protein_coding|scaffold_...        4935     151910   \n",
       "1   hypothetical protein|protein_coding|scaffold_...        4935     151910   \n",
       "2   hypothetical protein|protein_coding|scaffold_...        4935     151910   \n",
       "3   hypothetical protein|protein_coding|scaffold_...        4935     151910   \n",
       "4   hypothetical protein|protein_coding|scaffold_...        4935     151910   \n",
       "\n",
       "   prot_matches  prot_matches_sig  prot_sequences  prot_sequences_sig  \\\n",
       "0           154               154             106                 106   \n",
       "1           154               154             106                 106   \n",
       "2           154               154             106                 106   \n",
       "3           154               154             106                 106   \n",
       "4           154               154             106                 106   \n",
       "\n",
       "   pep_query                        ...                          pep_score  \\\n",
       "0         18                        ...                              25.80   \n",
       "1         23                        ...                              20.30   \n",
       "2        620                        ...                              31.25   \n",
       "3       1038                        ...                              34.89   \n",
       "4       1040                        ...                              33.68   \n",
       "\n",
       "   pep_ident  pep_expect  pep_res_before   pep_seq  pep_res_after  \\\n",
       "0         19     0.01200               R   VEDQIAK              L   \n",
       "1         18     0.03400               R   LADEEAR              E   \n",
       "2         21     0.00230               R    TWAWWK              L   \n",
       "3         17     0.00088               R  LAQEEDAR              N   \n",
       "4         20     0.00240               R  EQLGISER              R   \n",
       "\n",
       "   pep_var_mod  pep_var_mod_pos  pep_summed_mod_pos  \\\n",
       "0          NaN              NaN                 NaN   \n",
       "1          NaN              NaN                 NaN   \n",
       "2          NaN              NaN                 NaN   \n",
       "3          NaN              NaN                 NaN   \n",
       "4          NaN              NaN                 NaN   \n",
       "\n",
       "                                      pep_scan_title  \n",
       "0  150821_o2_05_in150820_anopheles_Body-1.7875.78...  \n",
       "1  150821_o2_05_in150820_anopheles_Body-1.6442.64...  \n",
       "2  150821_o2_05_in150820_anopheles_Body-1.31865.3...  \n",
       "3  150821_o2_05_in150820_anopheles_Body-1.6271.62...  \n",
       "4  150821_o2_05_in150820_anopheles_Body-1.13749.1...  \n",
       "\n",
       "[5 rows x 29 columns]"
      ]
     },
     "execution_count": 5,
     "metadata": {},
     "output_type": "execute_result"
    }
   ],
   "source": [
    "dfs_in.ms150821_Body_1.head()"
   ]
  },
  {
   "cell_type": "markdown",
   "metadata": {},
   "source": [
    "# Get unique set of protein names in all files"
   ]
  },
  {
   "cell_type": "code",
   "execution_count": 9,
   "metadata": {
    "collapsed": false
   },
   "outputs": [],
   "source": [
    "astei_prots = set()\n",
    "\n",
    "astei_prots.update(dfs_in.ms150821_Body_1.prot_acc.unique())\n",
    "astei_prots.update(dfs_in.ms150821_Body_2.prot_acc.unique())\n",
    "astei_prots.update(dfs_in.ms150821_Body_3.prot_acc.unique())\n",
    "astei_prots.update(dfs_in.ms150821_Head_1.prot_acc.unique())\n",
    "astei_prots.update(dfs_in.ms150821_Head_2.prot_acc.unique())\n",
    "astei_prots.update(dfs_in.ms150821_Head_3.prot_acc.unique())"
   ]
  },
  {
   "cell_type": "code",
   "execution_count": 11,
   "metadata": {
    "collapsed": false
   },
   "outputs": [
    {
     "data": {
      "text/plain": [
       "1233"
      ]
     },
     "execution_count": 11,
     "metadata": {},
     "output_type": "execute_result"
    }
   ],
   "source": [
    "len(astei_prots)"
   ]
  },
  {
   "cell_type": "code",
   "execution_count": null,
   "metadata": {
    "collapsed": true
   },
   "outputs": [],
   "source": [
    "set.update"
   ]
  }
 ],
 "metadata": {
  "kernelspec": {
   "display_name": "Python 2",
   "language": "python",
   "name": "python2"
  },
  "language_info": {
   "codemirror_mode": {
    "name": "ipython",
    "version": 2
   },
   "file_extension": ".py",
   "mimetype": "text/x-python",
   "name": "python",
   "nbconvert_exporter": "python",
   "pygments_lexer": "ipython2",
   "version": "2.7.10"
  }
 },
 "nbformat": 4,
 "nbformat_minor": 0
}
