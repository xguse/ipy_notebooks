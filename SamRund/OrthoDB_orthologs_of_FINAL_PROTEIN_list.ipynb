{
 "cells": [
  {
   "cell_type": "code",
   "execution_count": 1,
   "metadata": {
    "collapsed": false
   },
   "outputs": [],
   "source": [
    "import pandas as pd\n",
    "import re"
   ]
  },
  {
   "cell_type": "markdown",
   "metadata": {},
   "source": [
    "# Load Sam's proteomics files"
   ]
  },
  {
   "cell_type": "code",
   "execution_count": 2,
   "metadata": {
    "collapsed": false
   },
   "outputs": [],
   "source": [
    "sams_prots = pd.read_excel(\"/home/gus/MEGAsync/zim/main/SamsProteomics/peptide_data/pr151026_ms151023_SR_protein.xlsx\",\n",
    "                           sheetname=\"Sheet1\",\n",
    "                           skiprows=[0,1]\n",
    "                          )"
   ]
  },
  {
   "cell_type": "code",
   "execution_count": 3,
   "metadata": {
    "collapsed": false
   },
   "outputs": [
    {
     "data": {
      "text/html": [
       "<div>\n",
       "<table border=\"1\" class=\"dataframe\">\n",
       "  <thead>\n",
       "    <tr style=\"text-align: right;\">\n",
       "      <th></th>\n",
       "      <th>Accession</th>\n",
       "      <th>Peptide count</th>\n",
       "      <th>Unique peptides</th>\n",
       "      <th>Confidence score</th>\n",
       "      <th>Anova (p)</th>\n",
       "      <th>Max fold change</th>\n",
       "      <th>Highest mean condition</th>\n",
       "      <th>Lowest mean condition</th>\n",
       "      <th>Description</th>\n",
       "      <th>151023_o2_02_in151022_an_SR1-pulse</th>\n",
       "      <th>...</th>\n",
       "      <th>151023_o2_04_in151022_an_SR3-pulse</th>\n",
       "      <th>151023_o2_05_in151022_an_SR4-pulse</th>\n",
       "      <th>151023_o2_02_in151022_an_SR1-pulse.1</th>\n",
       "      <th>151023_o2_03_in151022_an_SR2-pulse.1</th>\n",
       "      <th>151023_o2_04_in151022_an_SR3-pulse.1</th>\n",
       "      <th>151023_o2_05_in151022_an_SR4-pulse.1</th>\n",
       "      <th>151023_o2_02_in151022_an_SR1-pulse.2</th>\n",
       "      <th>151023_o2_03_in151022_an_SR2-pulse.2</th>\n",
       "      <th>151023_o2_04_in151022_an_SR3-pulse.2</th>\n",
       "      <th>151023_o2_05_in151022_an_SR4-pulse.2</th>\n",
       "    </tr>\n",
       "  </thead>\n",
       "  <tbody>\n",
       "    <tr>\n",
       "      <th>0</th>\n",
       "      <td>ASTEI05705-PA</td>\n",
       "      <td>274</td>\n",
       "      <td>271</td>\n",
       "      <td>18696.33</td>\n",
       "      <td>NaN</td>\n",
       "      <td>1.0728</td>\n",
       "      <td>SR2</td>\n",
       "      <td>SR3</td>\n",
       "      <td>hypothetical protein|protein_coding|scaffold_...</td>\n",
       "      <td>1.004464e+10</td>\n",
       "      <td>...</td>\n",
       "      <td>9.888590e+09</td>\n",
       "      <td>1.022448e+10</td>\n",
       "      <td>8.163486e+09</td>\n",
       "      <td>1.060844e+10</td>\n",
       "      <td>9.425724e+09</td>\n",
       "      <td>1.025766e+10</td>\n",
       "      <td>283</td>\n",
       "      <td>299</td>\n",
       "      <td>263</td>\n",
       "      <td>279</td>\n",
       "    </tr>\n",
       "    <tr>\n",
       "      <th>1</th>\n",
       "      <td>ASTEI08310-PA</td>\n",
       "      <td>194</td>\n",
       "      <td>190</td>\n",
       "      <td>18318.32</td>\n",
       "      <td>NaN</td>\n",
       "      <td>1.22286</td>\n",
       "      <td>SR1</td>\n",
       "      <td>SR3</td>\n",
       "      <td>hypothetical protein|protein_coding|scaffold_...</td>\n",
       "      <td>1.368064e+11</td>\n",
       "      <td>...</td>\n",
       "      <td>1.118741e+11</td>\n",
       "      <td>1.291522e+11</td>\n",
       "      <td>1.111853e+11</td>\n",
       "      <td>1.311113e+11</td>\n",
       "      <td>1.066375e+11</td>\n",
       "      <td>1.295713e+11</td>\n",
       "      <td>267</td>\n",
       "      <td>276</td>\n",
       "      <td>274</td>\n",
       "      <td>276</td>\n",
       "    </tr>\n",
       "    <tr>\n",
       "      <th>2</th>\n",
       "      <td>ASTEI01466-PA</td>\n",
       "      <td>168</td>\n",
       "      <td>164</td>\n",
       "      <td>11120.27</td>\n",
       "      <td>NaN</td>\n",
       "      <td>1.06332</td>\n",
       "      <td>SR2</td>\n",
       "      <td>SR3</td>\n",
       "      <td>hypothetical protein|protein_coding|scaffold_...</td>\n",
       "      <td>5.035113e+09</td>\n",
       "      <td>...</td>\n",
       "      <td>4.744827e+09</td>\n",
       "      <td>4.890575e+09</td>\n",
       "      <td>4.092138e+09</td>\n",
       "      <td>5.045285e+09</td>\n",
       "      <td>4.522731e+09</td>\n",
       "      <td>4.906444e+09</td>\n",
       "      <td>153</td>\n",
       "      <td>150</td>\n",
       "      <td>150</td>\n",
       "      <td>150</td>\n",
       "    </tr>\n",
       "    <tr>\n",
       "      <th>3</th>\n",
       "      <td>ASTEI02092-PA;ASTEI04446-PA</td>\n",
       "      <td>119</td>\n",
       "      <td>114</td>\n",
       "      <td>7116.22</td>\n",
       "      <td>NaN</td>\n",
       "      <td>1.0765</td>\n",
       "      <td>SR2</td>\n",
       "      <td>SR3</td>\n",
       "      <td>hypothetical protein|protein_coding|scaffold_...</td>\n",
       "      <td>4.649045e+09</td>\n",
       "      <td>...</td>\n",
       "      <td>4.385391e+09</td>\n",
       "      <td>4.486687e+09</td>\n",
       "      <td>3.778373e+09</td>\n",
       "      <td>4.720867e+09</td>\n",
       "      <td>4.180119e+09</td>\n",
       "      <td>4.501246e+09</td>\n",
       "      <td>104</td>\n",
       "      <td>108</td>\n",
       "      <td>106</td>\n",
       "      <td>102</td>\n",
       "    </tr>\n",
       "    <tr>\n",
       "      <th>4</th>\n",
       "      <td>ASTEI00150-PA</td>\n",
       "      <td>104</td>\n",
       "      <td>102</td>\n",
       "      <td>7110.97</td>\n",
       "      <td>NaN</td>\n",
       "      <td>1.14679</td>\n",
       "      <td>SR1</td>\n",
       "      <td>SR2</td>\n",
       "      <td>hypothetical protein|protein_coding|scaffold_...</td>\n",
       "      <td>3.163588e+09</td>\n",
       "      <td>...</td>\n",
       "      <td>2.980585e+09</td>\n",
       "      <td>2.956743e+09</td>\n",
       "      <td>2.571112e+09</td>\n",
       "      <td>2.758636e+09</td>\n",
       "      <td>2.841070e+09</td>\n",
       "      <td>2.966337e+09</td>\n",
       "      <td>101</td>\n",
       "      <td>93</td>\n",
       "      <td>96</td>\n",
       "      <td>104</td>\n",
       "    </tr>\n",
       "  </tbody>\n",
       "</table>\n",
       "<p>5 rows × 21 columns</p>\n",
       "</div>"
      ],
      "text/plain": [
       "                     Accession  Peptide count  Unique peptides  \\\n",
       "0                ASTEI05705-PA            274              271   \n",
       "1                ASTEI08310-PA            194              190   \n",
       "2                ASTEI01466-PA            168              164   \n",
       "3  ASTEI02092-PA;ASTEI04446-PA            119              114   \n",
       "4                ASTEI00150-PA            104              102   \n",
       "\n",
       "   Confidence score  Anova (p) Max fold change Highest mean condition  \\\n",
       "0          18696.33        NaN          1.0728                    SR2   \n",
       "1          18318.32        NaN         1.22286                    SR1   \n",
       "2          11120.27        NaN         1.06332                    SR2   \n",
       "3           7116.22        NaN          1.0765                    SR2   \n",
       "4           7110.97        NaN         1.14679                    SR1   \n",
       "\n",
       "  Lowest mean condition                                        Description  \\\n",
       "0                   SR3   hypothetical protein|protein_coding|scaffold_...   \n",
       "1                   SR3   hypothetical protein|protein_coding|scaffold_...   \n",
       "2                   SR3   hypothetical protein|protein_coding|scaffold_...   \n",
       "3                   SR3   hypothetical protein|protein_coding|scaffold_...   \n",
       "4                   SR2   hypothetical protein|protein_coding|scaffold_...   \n",
       "\n",
       "   151023_o2_02_in151022_an_SR1-pulse                  ...                   \\\n",
       "0                        1.004464e+10                  ...                    \n",
       "1                        1.368064e+11                  ...                    \n",
       "2                        5.035113e+09                  ...                    \n",
       "3                        4.649045e+09                  ...                    \n",
       "4                        3.163588e+09                  ...                    \n",
       "\n",
       "   151023_o2_04_in151022_an_SR3-pulse  151023_o2_05_in151022_an_SR4-pulse  \\\n",
       "0                        9.888590e+09                        1.022448e+10   \n",
       "1                        1.118741e+11                        1.291522e+11   \n",
       "2                        4.744827e+09                        4.890575e+09   \n",
       "3                        4.385391e+09                        4.486687e+09   \n",
       "4                        2.980585e+09                        2.956743e+09   \n",
       "\n",
       "   151023_o2_02_in151022_an_SR1-pulse.1  151023_o2_03_in151022_an_SR2-pulse.1  \\\n",
       "0                          8.163486e+09                          1.060844e+10   \n",
       "1                          1.111853e+11                          1.311113e+11   \n",
       "2                          4.092138e+09                          5.045285e+09   \n",
       "3                          3.778373e+09                          4.720867e+09   \n",
       "4                          2.571112e+09                          2.758636e+09   \n",
       "\n",
       "   151023_o2_04_in151022_an_SR3-pulse.1  151023_o2_05_in151022_an_SR4-pulse.1  \\\n",
       "0                          9.425724e+09                          1.025766e+10   \n",
       "1                          1.066375e+11                          1.295713e+11   \n",
       "2                          4.522731e+09                          4.906444e+09   \n",
       "3                          4.180119e+09                          4.501246e+09   \n",
       "4                          2.841070e+09                          2.966337e+09   \n",
       "\n",
       "   151023_o2_02_in151022_an_SR1-pulse.2  151023_o2_03_in151022_an_SR2-pulse.2  \\\n",
       "0                                   283                                   299   \n",
       "1                                   267                                   276   \n",
       "2                                   153                                   150   \n",
       "3                                   104                                   108   \n",
       "4                                   101                                    93   \n",
       "\n",
       "   151023_o2_04_in151022_an_SR3-pulse.2  151023_o2_05_in151022_an_SR4-pulse.2  \n",
       "0                                   263                                   279  \n",
       "1                                   274                                   276  \n",
       "2                                   150                                   150  \n",
       "3                                   106                                   102  \n",
       "4                                    96                                   104  \n",
       "\n",
       "[5 rows x 21 columns]"
      ]
     },
     "execution_count": 3,
     "metadata": {},
     "output_type": "execute_result"
    }
   ],
   "source": [
    "sams_prots.head()"
   ]
  },
  {
   "cell_type": "code",
   "execution_count": 4,
   "metadata": {
    "collapsed": false
   },
   "outputs": [],
   "source": [
    "prot_set = set()\n",
    "\n",
    "for row in list(sams_prots.Accession.apply(lambda r: r.split(';'))):\n",
    "    prot_set.update(row)\n",
    "\n",
    "prot_list = [x[:-3] for x in list(prot_set)]  "
   ]
  },
  {
   "cell_type": "code",
   "execution_count": 5,
   "metadata": {
    "collapsed": false
   },
   "outputs": [
    {
     "data": {
      "text/plain": [
       "[u'ASTEI11137',\n",
       " u'ASTEI02810',\n",
       " u'ASTEI00393',\n",
       " u'ASTEI07414',\n",
       " u'ASTEI04291',\n",
       " u'ASTEI01662']"
      ]
     },
     "execution_count": 5,
     "metadata": {},
     "output_type": "execute_result"
    }
   ],
   "source": [
    "prot_list[:6]"
   ]
  },
  {
   "cell_type": "code",
   "execution_count": 6,
   "metadata": {
    "collapsed": false
   },
   "outputs": [
    {
     "data": {
      "text/plain": [
       "True"
      ]
     },
     "execution_count": 6,
     "metadata": {},
     "output_type": "execute_result"
    }
   ],
   "source": [
    "'ASTEI097191' in prot_list"
   ]
  },
  {
   "cell_type": "code",
   "execution_count": 7,
   "metadata": {
    "collapsed": false
   },
   "outputs": [
    {
     "data": {
      "text/html": [
       "<div>\n",
       "<table border=\"1\" class=\"dataframe\">\n",
       "  <thead>\n",
       "    <tr style=\"text-align: right;\">\n",
       "      <th></th>\n",
       "      <th>TARGET_PROTS</th>\n",
       "    </tr>\n",
       "  </thead>\n",
       "  <tbody>\n",
       "    <tr>\n",
       "      <th>0</th>\n",
       "      <td>ASTEI11137</td>\n",
       "    </tr>\n",
       "    <tr>\n",
       "      <th>1</th>\n",
       "      <td>ASTEI02810</td>\n",
       "    </tr>\n",
       "    <tr>\n",
       "      <th>2</th>\n",
       "      <td>ASTEI00393</td>\n",
       "    </tr>\n",
       "    <tr>\n",
       "      <th>3</th>\n",
       "      <td>ASTEI07414</td>\n",
       "    </tr>\n",
       "    <tr>\n",
       "      <th>4</th>\n",
       "      <td>ASTEI04291</td>\n",
       "    </tr>\n",
       "  </tbody>\n",
       "</table>\n",
       "</div>"
      ],
      "text/plain": [
       "  TARGET_PROTS\n",
       "0   ASTEI11137\n",
       "1   ASTEI02810\n",
       "2   ASTEI00393\n",
       "3   ASTEI07414\n",
       "4   ASTEI04291"
      ]
     },
     "execution_count": 7,
     "metadata": {},
     "output_type": "execute_result"
    }
   ],
   "source": [
    "sams_data = pd.DataFrame(data=prot_list,columns=['TARGET_PROTS']\n",
    "                         \n",
    "                        )\n",
    "sams_data.head()"
   ]
  },
  {
   "cell_type": "markdown",
   "metadata": {},
   "source": [
    "# Load conversion table from ASTEI to ASTE"
   ]
  },
  {
   "cell_type": "code",
   "execution_count": 8,
   "metadata": {
    "collapsed": true
   },
   "outputs": [],
   "source": [
    "def split_and_fold(df,col_name,pattern):\n",
    "    df = df.copy()\n",
    "    s = df[col_name].str.split(pattern).apply(pd.Series, 1).stack()\n",
    "    s.index = s.index.droplevel(-1) # to line up with df's index\n",
    "    s.name = col_name # needs a name to join\n",
    "    del df[col_name]\n",
    "    return df.join(s)"
   ]
  },
  {
   "cell_type": "code",
   "execution_count": 9,
   "metadata": {
    "collapsed": true
   },
   "outputs": [],
   "source": [
    "mapping = pd.read_csv(\"/home/gus/MEGAsync/zim/main/SamsProteomics/peptide_data/Anopheles_stephensi_MAPPINGS_AsteS1.2_AsteI2.2.csv\", sep='\\t')"
   ]
  },
  {
   "cell_type": "code",
   "execution_count": 10,
   "metadata": {
    "collapsed": false
   },
   "outputs": [
    {
     "data": {
      "text/html": [
       "<div>\n",
       "<table border=\"1\" class=\"dataframe\">\n",
       "  <thead>\n",
       "    <tr style=\"text-align: right;\">\n",
       "      <th></th>\n",
       "      <th>mapping_type</th>\n",
       "      <th>overlap</th>\n",
       "      <th>exon_match</th>\n",
       "      <th>ids_1</th>\n",
       "      <th>length_1</th>\n",
       "      <th>overlap_1</th>\n",
       "      <th>ids_2</th>\n",
       "      <th>length_2</th>\n",
       "      <th>overlap_2</th>\n",
       "    </tr>\n",
       "  </thead>\n",
       "  <tbody>\n",
       "    <tr>\n",
       "      <th>0</th>\n",
       "      <td>many_to_one</td>\n",
       "      <td>1131</td>\n",
       "      <td>2</td>\n",
       "      <td>ASTE000001-RA,ASTE000002-RA</td>\n",
       "      <td>1197</td>\n",
       "      <td>0.9449</td>\n",
       "      <td>ASTEI07101-RA</td>\n",
       "      <td>1131</td>\n",
       "      <td>1</td>\n",
       "    </tr>\n",
       "    <tr>\n",
       "      <th>1</th>\n",
       "      <td>one_to_one</td>\n",
       "      <td>2553</td>\n",
       "      <td>5</td>\n",
       "      <td>ASTE000003-RA</td>\n",
       "      <td>2553</td>\n",
       "      <td>1.0000</td>\n",
       "      <td>ASTEI07102-RA</td>\n",
       "      <td>2553</td>\n",
       "      <td>1</td>\n",
       "    </tr>\n",
       "    <tr>\n",
       "      <th>2</th>\n",
       "      <td>one_to_one</td>\n",
       "      <td>453</td>\n",
       "      <td>0</td>\n",
       "      <td>ASTE000004-RA</td>\n",
       "      <td>564</td>\n",
       "      <td>0.8032</td>\n",
       "      <td>ASTEI07103-RA</td>\n",
       "      <td>453</td>\n",
       "      <td>1</td>\n",
       "    </tr>\n",
       "    <tr>\n",
       "      <th>3</th>\n",
       "      <td>one_to_one</td>\n",
       "      <td>669</td>\n",
       "      <td>0</td>\n",
       "      <td>ASTE000005-RA</td>\n",
       "      <td>861</td>\n",
       "      <td>0.7770</td>\n",
       "      <td>ASTEI07104-RA</td>\n",
       "      <td>669</td>\n",
       "      <td>1</td>\n",
       "    </tr>\n",
       "    <tr>\n",
       "      <th>4</th>\n",
       "      <td>one_to_one</td>\n",
       "      <td>2886</td>\n",
       "      <td>1</td>\n",
       "      <td>ASTE000006-RA</td>\n",
       "      <td>2886</td>\n",
       "      <td>1.0000</td>\n",
       "      <td>ASTEI07105-RA</td>\n",
       "      <td>2886</td>\n",
       "      <td>1</td>\n",
       "    </tr>\n",
       "  </tbody>\n",
       "</table>\n",
       "</div>"
      ],
      "text/plain": [
       "  mapping_type  overlap  exon_match                        ids_1  length_1  \\\n",
       "0  many_to_one     1131           2  ASTE000001-RA,ASTE000002-RA      1197   \n",
       "1   one_to_one     2553           5                ASTE000003-RA      2553   \n",
       "2   one_to_one      453           0                ASTE000004-RA       564   \n",
       "3   one_to_one      669           0                ASTE000005-RA       861   \n",
       "4   one_to_one     2886           1                ASTE000006-RA      2886   \n",
       "\n",
       "   overlap_1          ids_2  length_2  overlap_2  \n",
       "0     0.9449  ASTEI07101-RA      1131          1  \n",
       "1     1.0000  ASTEI07102-RA      2553          1  \n",
       "2     0.8032  ASTEI07103-RA       453          1  \n",
       "3     0.7770  ASTEI07104-RA       669          1  \n",
       "4     1.0000  ASTEI07105-RA      2886          1  "
      ]
     },
     "execution_count": 10,
     "metadata": {},
     "output_type": "execute_result"
    }
   ],
   "source": [
    "mapping.head()"
   ]
  },
  {
   "cell_type": "code",
   "execution_count": 11,
   "metadata": {
    "collapsed": false
   },
   "outputs": [],
   "source": [
    "mapping = mapping[['mapping_type','ids_1','ids_2']]"
   ]
  },
  {
   "cell_type": "code",
   "execution_count": 12,
   "metadata": {
    "collapsed": false
   },
   "outputs": [
    {
     "data": {
      "text/html": [
       "<div>\n",
       "<table border=\"1\" class=\"dataframe\">\n",
       "  <thead>\n",
       "    <tr style=\"text-align: right;\">\n",
       "      <th></th>\n",
       "      <th>mapping_type</th>\n",
       "      <th>ids_1</th>\n",
       "      <th>ids_2</th>\n",
       "    </tr>\n",
       "  </thead>\n",
       "  <tbody>\n",
       "    <tr>\n",
       "      <th>0</th>\n",
       "      <td>many_to_one</td>\n",
       "      <td>ASTE000001-RA,ASTE000002-RA</td>\n",
       "      <td>ASTEI07101-RA</td>\n",
       "    </tr>\n",
       "    <tr>\n",
       "      <th>1</th>\n",
       "      <td>one_to_one</td>\n",
       "      <td>ASTE000003-RA</td>\n",
       "      <td>ASTEI07102-RA</td>\n",
       "    </tr>\n",
       "    <tr>\n",
       "      <th>2</th>\n",
       "      <td>one_to_one</td>\n",
       "      <td>ASTE000004-RA</td>\n",
       "      <td>ASTEI07103-RA</td>\n",
       "    </tr>\n",
       "    <tr>\n",
       "      <th>3</th>\n",
       "      <td>one_to_one</td>\n",
       "      <td>ASTE000005-RA</td>\n",
       "      <td>ASTEI07104-RA</td>\n",
       "    </tr>\n",
       "    <tr>\n",
       "      <th>4</th>\n",
       "      <td>one_to_one</td>\n",
       "      <td>ASTE000006-RA</td>\n",
       "      <td>ASTEI07105-RA</td>\n",
       "    </tr>\n",
       "  </tbody>\n",
       "</table>\n",
       "</div>"
      ],
      "text/plain": [
       "  mapping_type                        ids_1          ids_2\n",
       "0  many_to_one  ASTE000001-RA,ASTE000002-RA  ASTEI07101-RA\n",
       "1   one_to_one                ASTE000003-RA  ASTEI07102-RA\n",
       "2   one_to_one                ASTE000004-RA  ASTEI07103-RA\n",
       "3   one_to_one                ASTE000005-RA  ASTEI07104-RA\n",
       "4   one_to_one                ASTE000006-RA  ASTEI07105-RA"
      ]
     },
     "execution_count": 12,
     "metadata": {},
     "output_type": "execute_result"
    }
   ],
   "source": [
    "mapping.head()"
   ]
  },
  {
   "cell_type": "code",
   "execution_count": 13,
   "metadata": {
    "collapsed": false
   },
   "outputs": [],
   "source": [
    "mapping_folded = split_and_fold(df=split_and_fold(df=mapping,col_name='ids_1',pattern=','),col_name='ids_2',pattern=',')"
   ]
  },
  {
   "cell_type": "code",
   "execution_count": 14,
   "metadata": {
    "collapsed": false
   },
   "outputs": [],
   "source": [
    "mapping_folded.drop_duplicates(inplace=True)"
   ]
  },
  {
   "cell_type": "code",
   "execution_count": 15,
   "metadata": {
    "collapsed": false
   },
   "outputs": [
    {
     "data": {
      "text/html": [
       "<div>\n",
       "<table border=\"1\" class=\"dataframe\">\n",
       "  <thead>\n",
       "    <tr style=\"text-align: right;\">\n",
       "      <th></th>\n",
       "      <th>mapping_type</th>\n",
       "      <th>ids_1</th>\n",
       "      <th>ids_2</th>\n",
       "    </tr>\n",
       "  </thead>\n",
       "  <tbody>\n",
       "    <tr>\n",
       "      <th>0</th>\n",
       "      <td>many_to_one</td>\n",
       "      <td>ASTE000001-RA</td>\n",
       "      <td>ASTEI07101-RA</td>\n",
       "    </tr>\n",
       "    <tr>\n",
       "      <th>0</th>\n",
       "      <td>many_to_one</td>\n",
       "      <td>ASTE000002-RA</td>\n",
       "      <td>ASTEI07101-RA</td>\n",
       "    </tr>\n",
       "    <tr>\n",
       "      <th>1</th>\n",
       "      <td>one_to_one</td>\n",
       "      <td>ASTE000003-RA</td>\n",
       "      <td>ASTEI07102-RA</td>\n",
       "    </tr>\n",
       "    <tr>\n",
       "      <th>2</th>\n",
       "      <td>one_to_one</td>\n",
       "      <td>ASTE000004-RA</td>\n",
       "      <td>ASTEI07103-RA</td>\n",
       "    </tr>\n",
       "    <tr>\n",
       "      <th>3</th>\n",
       "      <td>one_to_one</td>\n",
       "      <td>ASTE000005-RA</td>\n",
       "      <td>ASTEI07104-RA</td>\n",
       "    </tr>\n",
       "  </tbody>\n",
       "</table>\n",
       "</div>"
      ],
      "text/plain": [
       "  mapping_type          ids_1          ids_2\n",
       "0  many_to_one  ASTE000001-RA  ASTEI07101-RA\n",
       "0  many_to_one  ASTE000002-RA  ASTEI07101-RA\n",
       "1   one_to_one  ASTE000003-RA  ASTEI07102-RA\n",
       "2   one_to_one  ASTE000004-RA  ASTEI07103-RA\n",
       "3   one_to_one  ASTE000005-RA  ASTEI07104-RA"
      ]
     },
     "execution_count": 15,
     "metadata": {},
     "output_type": "execute_result"
    }
   ],
   "source": [
    "mapping_folded.head()"
   ]
  },
  {
   "cell_type": "code",
   "execution_count": 16,
   "metadata": {
    "collapsed": true
   },
   "outputs": [],
   "source": [
    "mapping_folded['ids_1'] = mapping_folded.ids_1.apply(lambda x: x[:-3])\n",
    "mapping_folded['ids_2'] = mapping_folded.ids_2.apply(lambda x: x[:-3])"
   ]
  },
  {
   "cell_type": "code",
   "execution_count": 17,
   "metadata": {
    "collapsed": false
   },
   "outputs": [
    {
     "data": {
      "text/html": [
       "<div>\n",
       "<table border=\"1\" class=\"dataframe\">\n",
       "  <thead>\n",
       "    <tr style=\"text-align: right;\">\n",
       "      <th></th>\n",
       "      <th>mapping_type</th>\n",
       "      <th>ids_1</th>\n",
       "      <th>ids_2</th>\n",
       "    </tr>\n",
       "  </thead>\n",
       "  <tbody>\n",
       "    <tr>\n",
       "      <th>0</th>\n",
       "      <td>many_to_one</td>\n",
       "      <td>ASTE000001</td>\n",
       "      <td>ASTEI07101</td>\n",
       "    </tr>\n",
       "    <tr>\n",
       "      <th>0</th>\n",
       "      <td>many_to_one</td>\n",
       "      <td>ASTE000002</td>\n",
       "      <td>ASTEI07101</td>\n",
       "    </tr>\n",
       "    <tr>\n",
       "      <th>1</th>\n",
       "      <td>one_to_one</td>\n",
       "      <td>ASTE000003</td>\n",
       "      <td>ASTEI07102</td>\n",
       "    </tr>\n",
       "    <tr>\n",
       "      <th>2</th>\n",
       "      <td>one_to_one</td>\n",
       "      <td>ASTE000004</td>\n",
       "      <td>ASTEI07103</td>\n",
       "    </tr>\n",
       "    <tr>\n",
       "      <th>3</th>\n",
       "      <td>one_to_one</td>\n",
       "      <td>ASTE000005</td>\n",
       "      <td>ASTEI07104</td>\n",
       "    </tr>\n",
       "  </tbody>\n",
       "</table>\n",
       "</div>"
      ],
      "text/plain": [
       "  mapping_type       ids_1       ids_2\n",
       "0  many_to_one  ASTE000001  ASTEI07101\n",
       "0  many_to_one  ASTE000002  ASTEI07101\n",
       "1   one_to_one  ASTE000003  ASTEI07102\n",
       "2   one_to_one  ASTE000004  ASTEI07103\n",
       "3   one_to_one  ASTE000005  ASTEI07104"
      ]
     },
     "execution_count": 17,
     "metadata": {},
     "output_type": "execute_result"
    }
   ],
   "source": [
    "mapping_folded.head()"
   ]
  },
  {
   "cell_type": "markdown",
   "metadata": {},
   "source": [
    "# Get TARGET_PROTS as ASTE gene names"
   ]
  },
  {
   "cell_type": "code",
   "execution_count": 18,
   "metadata": {
    "collapsed": true
   },
   "outputs": [],
   "source": [
    "target_aste = pd.merge(left=mapping_folded, right=sams_data, how='inner',\n",
    "                       on=None, left_on=\"ids_2\", right_on=\"TARGET_PROTS\"\n",
    "                      )"
   ]
  },
  {
   "cell_type": "code",
   "execution_count": 19,
   "metadata": {
    "collapsed": false
   },
   "outputs": [
    {
     "data": {
      "text/html": [
       "<div>\n",
       "<table border=\"1\" class=\"dataframe\">\n",
       "  <thead>\n",
       "    <tr style=\"text-align: right;\">\n",
       "      <th></th>\n",
       "      <th>mapping_type</th>\n",
       "      <th>ids_1</th>\n",
       "      <th>ids_2</th>\n",
       "      <th>TARGET_PROTS</th>\n",
       "    </tr>\n",
       "  </thead>\n",
       "  <tbody>\n",
       "    <tr>\n",
       "      <th>0</th>\n",
       "      <td>one_to_many</td>\n",
       "      <td>ASTE000013</td>\n",
       "      <td>ASTEI08291</td>\n",
       "      <td>ASTEI08291</td>\n",
       "    </tr>\n",
       "    <tr>\n",
       "      <th>1</th>\n",
       "      <td>one_to_one</td>\n",
       "      <td>ASTE000014</td>\n",
       "      <td>ASTEI11137</td>\n",
       "      <td>ASTEI11137</td>\n",
       "    </tr>\n",
       "    <tr>\n",
       "      <th>2</th>\n",
       "      <td>one_to_one</td>\n",
       "      <td>ASTE000015</td>\n",
       "      <td>ASTEI11136</td>\n",
       "      <td>ASTEI11136</td>\n",
       "    </tr>\n",
       "    <tr>\n",
       "      <th>3</th>\n",
       "      <td>one_to_one</td>\n",
       "      <td>ASTE000016</td>\n",
       "      <td>ASTEI08290</td>\n",
       "      <td>ASTEI08290</td>\n",
       "    </tr>\n",
       "    <tr>\n",
       "      <th>4</th>\n",
       "      <td>one_to_one</td>\n",
       "      <td>ASTE000053</td>\n",
       "      <td>ASTEI01972</td>\n",
       "      <td>ASTEI01972</td>\n",
       "    </tr>\n",
       "  </tbody>\n",
       "</table>\n",
       "</div>"
      ],
      "text/plain": [
       "  mapping_type       ids_1       ids_2 TARGET_PROTS\n",
       "0  one_to_many  ASTE000013  ASTEI08291   ASTEI08291\n",
       "1   one_to_one  ASTE000014  ASTEI11137   ASTEI11137\n",
       "2   one_to_one  ASTE000015  ASTEI11136   ASTEI11136\n",
       "3   one_to_one  ASTE000016  ASTEI08290   ASTEI08290\n",
       "4   one_to_one  ASTE000053  ASTEI01972   ASTEI01972"
      ]
     },
     "execution_count": 19,
     "metadata": {},
     "output_type": "execute_result"
    }
   ],
   "source": [
    "target_aste.head()"
   ]
  },
  {
   "cell_type": "code",
   "execution_count": 20,
   "metadata": {
    "collapsed": false
   },
   "outputs": [],
   "source": [
    "target_aste = target_aste.drop('TARGET_PROTS', axis=1)"
   ]
  },
  {
   "cell_type": "code",
   "execution_count": 21,
   "metadata": {
    "collapsed": false
   },
   "outputs": [
    {
     "data": {
      "text/html": [
       "<div>\n",
       "<table border=\"1\" class=\"dataframe\">\n",
       "  <thead>\n",
       "    <tr style=\"text-align: right;\">\n",
       "      <th></th>\n",
       "      <th>mapping_type</th>\n",
       "      <th>ids_1</th>\n",
       "      <th>ids_2</th>\n",
       "    </tr>\n",
       "  </thead>\n",
       "  <tbody>\n",
       "    <tr>\n",
       "      <th>0</th>\n",
       "      <td>one_to_many</td>\n",
       "      <td>ASTE000013</td>\n",
       "      <td>ASTEI08291</td>\n",
       "    </tr>\n",
       "    <tr>\n",
       "      <th>1</th>\n",
       "      <td>one_to_one</td>\n",
       "      <td>ASTE000014</td>\n",
       "      <td>ASTEI11137</td>\n",
       "    </tr>\n",
       "    <tr>\n",
       "      <th>2</th>\n",
       "      <td>one_to_one</td>\n",
       "      <td>ASTE000015</td>\n",
       "      <td>ASTEI11136</td>\n",
       "    </tr>\n",
       "    <tr>\n",
       "      <th>3</th>\n",
       "      <td>one_to_one</td>\n",
       "      <td>ASTE000016</td>\n",
       "      <td>ASTEI08290</td>\n",
       "    </tr>\n",
       "    <tr>\n",
       "      <th>4</th>\n",
       "      <td>one_to_one</td>\n",
       "      <td>ASTE000053</td>\n",
       "      <td>ASTEI01972</td>\n",
       "    </tr>\n",
       "  </tbody>\n",
       "</table>\n",
       "</div>"
      ],
      "text/plain": [
       "  mapping_type       ids_1       ids_2\n",
       "0  one_to_many  ASTE000013  ASTEI08291\n",
       "1   one_to_one  ASTE000014  ASTEI11137\n",
       "2   one_to_one  ASTE000015  ASTEI11136\n",
       "3   one_to_one  ASTE000016  ASTEI08290\n",
       "4   one_to_one  ASTE000053  ASTEI01972"
      ]
     },
     "execution_count": 21,
     "metadata": {},
     "output_type": "execute_result"
    }
   ],
   "source": [
    "target_aste.head()"
   ]
  },
  {
   "cell_type": "code",
   "execution_count": 22,
   "metadata": {
    "collapsed": true
   },
   "outputs": [],
   "source": [
    "target_aste.rename(columns={\"mapping_type\":\"mapping_type_aste_to_astei\",\"ids_1\":\"aste_target\",\"ids_2\":\"astei_target\"},inplace=True)"
   ]
  },
  {
   "cell_type": "code",
   "execution_count": 23,
   "metadata": {
    "collapsed": false
   },
   "outputs": [
    {
     "data": {
      "text/html": [
       "<div>\n",
       "<table border=\"1\" class=\"dataframe\">\n",
       "  <thead>\n",
       "    <tr style=\"text-align: right;\">\n",
       "      <th></th>\n",
       "      <th>mapping_type_aste_to_astei</th>\n",
       "      <th>aste_target</th>\n",
       "      <th>astei_target</th>\n",
       "    </tr>\n",
       "  </thead>\n",
       "  <tbody>\n",
       "    <tr>\n",
       "      <th>0</th>\n",
       "      <td>one_to_many</td>\n",
       "      <td>ASTE000013</td>\n",
       "      <td>ASTEI08291</td>\n",
       "    </tr>\n",
       "    <tr>\n",
       "      <th>1</th>\n",
       "      <td>one_to_one</td>\n",
       "      <td>ASTE000014</td>\n",
       "      <td>ASTEI11137</td>\n",
       "    </tr>\n",
       "    <tr>\n",
       "      <th>2</th>\n",
       "      <td>one_to_one</td>\n",
       "      <td>ASTE000015</td>\n",
       "      <td>ASTEI11136</td>\n",
       "    </tr>\n",
       "    <tr>\n",
       "      <th>3</th>\n",
       "      <td>one_to_one</td>\n",
       "      <td>ASTE000016</td>\n",
       "      <td>ASTEI08290</td>\n",
       "    </tr>\n",
       "    <tr>\n",
       "      <th>4</th>\n",
       "      <td>one_to_one</td>\n",
       "      <td>ASTE000053</td>\n",
       "      <td>ASTEI01972</td>\n",
       "    </tr>\n",
       "  </tbody>\n",
       "</table>\n",
       "</div>"
      ],
      "text/plain": [
       "  mapping_type_aste_to_astei aste_target astei_target\n",
       "0                one_to_many  ASTE000013   ASTEI08291\n",
       "1                 one_to_one  ASTE000014   ASTEI11137\n",
       "2                 one_to_one  ASTE000015   ASTEI11136\n",
       "3                 one_to_one  ASTE000016   ASTEI08290\n",
       "4                 one_to_one  ASTE000053   ASTEI01972"
      ]
     },
     "execution_count": 23,
     "metadata": {},
     "output_type": "execute_result"
    }
   ],
   "source": [
    "target_aste.head()"
   ]
  },
  {
   "cell_type": "code",
   "execution_count": 24,
   "metadata": {
    "collapsed": false
   },
   "outputs": [
    {
     "name": "stdout",
     "output_type": "stream",
     "text": [
      "1255\n",
      "1371\n"
     ]
    }
   ],
   "source": [
    "print len(sams_data)\n",
    "print len(target_aste)"
   ]
  },
  {
   "cell_type": "markdown",
   "metadata": {},
   "source": [
    "# Load OrthoDB8 ~~Dm_As_Ag~~ Diptera ortholog table\n",
    "\n",
    "http://orthodb.org/\n",
    "\n",
    "### Page options used:\n",
    "\n",
    "- Selected ~~_Anopheles gambiae_, _An stephensi_, and _Drosophila melanogaster_~~ Diptera\n",
    "- No filters as to type of orthologs returned (single copy etc)\n",
    "- No search terms supplied\n",
    "- clicked submit\n",
    "- clicked download as table\n",
    "\n",
    "Use this link to replicate AgAsDm search: http://tiny.cc/ortho8_AgAsDm\n",
    "\n",
    "Use this link to replicate Diptera search: http://tiny.cc/ortho8_Diptera_rund"
   ]
  },
  {
   "cell_type": "code",
   "execution_count": 25,
   "metadata": {
    "collapsed": true
   },
   "outputs": [],
   "source": [
    "# AGASDM\n",
    "ag_as_dm_path = \"/home/gus/MEGAsync/zim/main/SamsProteomics/peptide_data/orthodb8/selected_species_nodes_tab_data/orthodb8_Dm_As_Ag_tab_data.csv\"\n",
    "\n",
    "# all levels dump from orthoDB8\n",
    "odb8_all_path = \"/home/gus/MEGAsync/zim/main/SamsProteomics/peptide_data/orthodb8/ODB8_EukOGs_genes_ALL_levels.txt\"\n",
    "\n",
    "# diptera\n",
    "diptera_path = \"/home/gus/MEGAsync/zim/main/SamsProteomics/peptide_data/orthodb8/ODB8_EukOGs_genes_ALL_levels.grep_7147:Diptera.txt\""
   ]
  },
  {
   "cell_type": "markdown",
   "metadata": {},
   "source": [
    "### First pull out only dipteran data from the `all_levels` file"
   ]
  },
  {
   "cell_type": "code",
   "execution_count": 26,
   "metadata": {
    "collapsed": true
   },
   "outputs": [],
   "source": [
    "!head -n 1 $odb8_all_path > $diptera_path\n",
    "!grep '7147:Diptera' $odb8_all_path >> $diptera_path"
   ]
  },
  {
   "cell_type": "code",
   "execution_count": 27,
   "metadata": {
    "collapsed": false
   },
   "outputs": [
    {
     "name": "stdout",
     "output_type": "stream",
     "text": [
      "odb8_level\todb8_og_id\tprotein_id\todb8_prot_id\torganism\tuniprot_description\r\n",
      "7147:Diptera\tEOG808R20\tAALB007334-PA\t7167:001ca5\tAnopheles albimanus\t\r\n",
      "7147:Diptera\tEOG80CM7H\t5512162.p\t7370:0017f8\tMusca domestica\t\r\n",
      "7147:Diptera\tEOG80CM7K\t3231350.p\t7370:0020f5\tMusca domestica\t\r\n",
      "7147:Diptera\tEOG80GGGX\tAMEM002228-PA\t30066:00068f\tAnopheles merus\t\r\n",
      "7147:Diptera\tEOG80GGHT\t3451754.p\t7370:004304\tMusca domestica\t\r\n",
      "7147:Diptera\tEOG80GGJ3\t5507785.p\t7370:000228\tMusca domestica\t\r\n",
      "7147:Diptera\tEOG80VZDR\tAMEC015278-PA\t34690:002a9b\tAnopheles melas\t\r\n",
      "7147:Diptera\tEOG80VZF7\tCPIJ000359-PA\t7176:000152\tCulex quinquefasciatus\tNop2p\r\n",
      "7147:Diptera\tEOG80VZF9\t3079430.p\t7370:002762\tMusca domestica\t\r\n"
     ]
    }
   ],
   "source": [
    "!head $diptera_path"
   ]
  },
  {
   "cell_type": "markdown",
   "metadata": {},
   "source": [
    "### Continue with only dipteran file after mild cleaning\n",
    "\n",
    "- drop any record where \n",
    "    ```python\n",
    "    isinstance(protein_id, NaN) == True\n",
    "    ```"
   ]
  },
  {
   "cell_type": "code",
   "execution_count": 28,
   "metadata": {
    "collapsed": false
   },
   "outputs": [],
   "source": [
    "diptera = pd.read_csv(diptera_path, sep='\\t')"
   ]
  },
  {
   "cell_type": "code",
   "execution_count": 29,
   "metadata": {
    "collapsed": false
   },
   "outputs": [
    {
     "data": {
      "text/html": [
       "<div>\n",
       "<table border=\"1\" class=\"dataframe\">\n",
       "  <thead>\n",
       "    <tr style=\"text-align: right;\">\n",
       "      <th></th>\n",
       "      <th>odb8_level</th>\n",
       "      <th>odb8_og_id</th>\n",
       "      <th>protein_id</th>\n",
       "      <th>odb8_prot_id</th>\n",
       "      <th>organism</th>\n",
       "      <th>uniprot_description</th>\n",
       "    </tr>\n",
       "  </thead>\n",
       "  <tbody>\n",
       "    <tr>\n",
       "      <th>0</th>\n",
       "      <td>7147:Diptera</td>\n",
       "      <td>EOG808R20</td>\n",
       "      <td>AALB007334-PA</td>\n",
       "      <td>7167:001ca5</td>\n",
       "      <td>Anopheles albimanus</td>\n",
       "      <td>NaN</td>\n",
       "    </tr>\n",
       "    <tr>\n",
       "      <th>1</th>\n",
       "      <td>7147:Diptera</td>\n",
       "      <td>EOG80CM7H</td>\n",
       "      <td>5512162.p</td>\n",
       "      <td>7370:0017f8</td>\n",
       "      <td>Musca domestica</td>\n",
       "      <td>NaN</td>\n",
       "    </tr>\n",
       "    <tr>\n",
       "      <th>2</th>\n",
       "      <td>7147:Diptera</td>\n",
       "      <td>EOG80CM7K</td>\n",
       "      <td>3231350.p</td>\n",
       "      <td>7370:0020f5</td>\n",
       "      <td>Musca domestica</td>\n",
       "      <td>NaN</td>\n",
       "    </tr>\n",
       "    <tr>\n",
       "      <th>3</th>\n",
       "      <td>7147:Diptera</td>\n",
       "      <td>EOG80GGGX</td>\n",
       "      <td>AMEM002228-PA</td>\n",
       "      <td>30066:00068f</td>\n",
       "      <td>Anopheles merus</td>\n",
       "      <td>NaN</td>\n",
       "    </tr>\n",
       "    <tr>\n",
       "      <th>4</th>\n",
       "      <td>7147:Diptera</td>\n",
       "      <td>EOG80GGHT</td>\n",
       "      <td>3451754.p</td>\n",
       "      <td>7370:004304</td>\n",
       "      <td>Musca domestica</td>\n",
       "      <td>NaN</td>\n",
       "    </tr>\n",
       "  </tbody>\n",
       "</table>\n",
       "</div>"
      ],
      "text/plain": [
       "     odb8_level odb8_og_id     protein_id  odb8_prot_id             organism  \\\n",
       "0  7147:Diptera  EOG808R20  AALB007334-PA   7167:001ca5  Anopheles albimanus   \n",
       "1  7147:Diptera  EOG80CM7H      5512162.p   7370:0017f8      Musca domestica   \n",
       "2  7147:Diptera  EOG80CM7K      3231350.p   7370:0020f5      Musca domestica   \n",
       "3  7147:Diptera  EOG80GGGX  AMEM002228-PA  30066:00068f      Anopheles merus   \n",
       "4  7147:Diptera  EOG80GGHT      3451754.p   7370:004304      Musca domestica   \n",
       "\n",
       "  uniprot_description  \n",
       "0                 NaN  \n",
       "1                 NaN  \n",
       "2                 NaN  \n",
       "3                 NaN  \n",
       "4                 NaN  "
      ]
     },
     "execution_count": 29,
     "metadata": {},
     "output_type": "execute_result"
    }
   ],
   "source": [
    "diptera.head()"
   ]
  },
  {
   "cell_type": "code",
   "execution_count": 30,
   "metadata": {
    "collapsed": false
   },
   "outputs": [],
   "source": [
    "diptera = diptera.dropna(subset=['protein_id'])"
   ]
  },
  {
   "cell_type": "code",
   "execution_count": 31,
   "metadata": {
    "collapsed": true
   },
   "outputs": [],
   "source": [
    "ensembl_product_suffix = re.compile(r'-[PR].\\b')"
   ]
  },
  {
   "cell_type": "code",
   "execution_count": 32,
   "metadata": {
    "collapsed": false
   },
   "outputs": [],
   "source": [
    "def test_prot_id(x):\n",
    "    try:\n",
    "        found = ensembl_product_suffix.search(x)\n",
    "        if found is None:\n",
    "            return False\n",
    "        else:\n",
    "            return True\n",
    "    except TypeError:\n",
    "        print x\n",
    "\n",
    "def ensembl_prot_to_gene(df):\n",
    "    df = df.copy()\n",
    "    df['ensembl_gene_id'] = df.protein_id.apply(lambda x: x[:-3] if test_prot_id(x) else x)\n",
    "    \n",
    "    return df"
   ]
  },
  {
   "cell_type": "code",
   "execution_count": 33,
   "metadata": {
    "collapsed": false
   },
   "outputs": [],
   "source": [
    "diptera = ensembl_prot_to_gene(diptera)"
   ]
  },
  {
   "cell_type": "markdown",
   "metadata": {},
   "source": [
    "# Get `pub_og_ids` that contain the ASTE target genes"
   ]
  },
  {
   "cell_type": "code",
   "execution_count": 34,
   "metadata": {
    "collapsed": false
   },
   "outputs": [],
   "source": [
    "target_aste_ortho_groups = pd.merge(left=diptera, right=target_aste, how='inner',\n",
    "                                    left_on=\"ensembl_gene_id\", right_on=\"aste_target\"\n",
    "                                   )"
   ]
  },
  {
   "cell_type": "code",
   "execution_count": 35,
   "metadata": {
    "collapsed": false
   },
   "outputs": [
    {
     "data": {
      "text/plain": [
       "1346"
      ]
     },
     "execution_count": 35,
     "metadata": {},
     "output_type": "execute_result"
    }
   ],
   "source": [
    "len(target_aste_ortho_groups)"
   ]
  },
  {
   "cell_type": "code",
   "execution_count": 36,
   "metadata": {
    "collapsed": false
   },
   "outputs": [
    {
     "data": {
      "text/html": [
       "<div>\n",
       "<table border=\"1\" class=\"dataframe\">\n",
       "  <thead>\n",
       "    <tr style=\"text-align: right;\">\n",
       "      <th></th>\n",
       "      <th>odb8_level</th>\n",
       "      <th>odb8_og_id</th>\n",
       "      <th>protein_id</th>\n",
       "      <th>odb8_prot_id</th>\n",
       "      <th>organism</th>\n",
       "      <th>uniprot_description</th>\n",
       "      <th>ensembl_gene_id</th>\n",
       "      <th>mapping_type_aste_to_astei</th>\n",
       "      <th>aste_target</th>\n",
       "      <th>astei_target</th>\n",
       "    </tr>\n",
       "  </thead>\n",
       "  <tbody>\n",
       "    <tr>\n",
       "      <th>0</th>\n",
       "      <td>7147:Diptera</td>\n",
       "      <td>EOG80048M</td>\n",
       "      <td>ASTE003050-PA</td>\n",
       "      <td>30069:000be9</td>\n",
       "      <td>Anopheles stephensi</td>\n",
       "      <td>NaN</td>\n",
       "      <td>ASTE003050</td>\n",
       "      <td>one_to_one</td>\n",
       "      <td>ASTE003050</td>\n",
       "      <td>ASTEI05206</td>\n",
       "    </tr>\n",
       "    <tr>\n",
       "      <th>1</th>\n",
       "      <td>7147:Diptera</td>\n",
       "      <td>EOG80048S</td>\n",
       "      <td>ASTE011524-PA</td>\n",
       "      <td>30069:002d03</td>\n",
       "      <td>Anopheles stephensi</td>\n",
       "      <td>NaN</td>\n",
       "      <td>ASTE011524</td>\n",
       "      <td>one_to_one</td>\n",
       "      <td>ASTE011524</td>\n",
       "      <td>ASTEI02453</td>\n",
       "    </tr>\n",
       "    <tr>\n",
       "      <th>2</th>\n",
       "      <td>7147:Diptera</td>\n",
       "      <td>EOG80048V</td>\n",
       "      <td>ASTE005096-PA</td>\n",
       "      <td>30069:0013e7</td>\n",
       "      <td>Anopheles stephensi</td>\n",
       "      <td>NaN</td>\n",
       "      <td>ASTE005096</td>\n",
       "      <td>one_to_one</td>\n",
       "      <td>ASTE005096</td>\n",
       "      <td>ASTEI10108</td>\n",
       "    </tr>\n",
       "    <tr>\n",
       "      <th>3</th>\n",
       "      <td>7147:Diptera</td>\n",
       "      <td>EOG80048W</td>\n",
       "      <td>ASTE005418-PA</td>\n",
       "      <td>30069:001529</td>\n",
       "      <td>Anopheles stephensi</td>\n",
       "      <td>NaN</td>\n",
       "      <td>ASTE005418</td>\n",
       "      <td>one_to_one</td>\n",
       "      <td>ASTE005418</td>\n",
       "      <td>ASTEI01149</td>\n",
       "    </tr>\n",
       "    <tr>\n",
       "      <th>4</th>\n",
       "      <td>7147:Diptera</td>\n",
       "      <td>EOG800494</td>\n",
       "      <td>ASTE011590-PA</td>\n",
       "      <td>30069:002d45</td>\n",
       "      <td>Anopheles stephensi</td>\n",
       "      <td>NaN</td>\n",
       "      <td>ASTE011590</td>\n",
       "      <td>one_to_one</td>\n",
       "      <td>ASTE011590</td>\n",
       "      <td>ASTEI06289</td>\n",
       "    </tr>\n",
       "  </tbody>\n",
       "</table>\n",
       "</div>"
      ],
      "text/plain": [
       "     odb8_level odb8_og_id     protein_id  odb8_prot_id             organism  \\\n",
       "0  7147:Diptera  EOG80048M  ASTE003050-PA  30069:000be9  Anopheles stephensi   \n",
       "1  7147:Diptera  EOG80048S  ASTE011524-PA  30069:002d03  Anopheles stephensi   \n",
       "2  7147:Diptera  EOG80048V  ASTE005096-PA  30069:0013e7  Anopheles stephensi   \n",
       "3  7147:Diptera  EOG80048W  ASTE005418-PA  30069:001529  Anopheles stephensi   \n",
       "4  7147:Diptera  EOG800494  ASTE011590-PA  30069:002d45  Anopheles stephensi   \n",
       "\n",
       "  uniprot_description ensembl_gene_id mapping_type_aste_to_astei aste_target  \\\n",
       "0                 NaN      ASTE003050                 one_to_one  ASTE003050   \n",
       "1                 NaN      ASTE011524                 one_to_one  ASTE011524   \n",
       "2                 NaN      ASTE005096                 one_to_one  ASTE005096   \n",
       "3                 NaN      ASTE005418                 one_to_one  ASTE005418   \n",
       "4                 NaN      ASTE011590                 one_to_one  ASTE011590   \n",
       "\n",
       "  astei_target  \n",
       "0   ASTEI05206  \n",
       "1   ASTEI02453  \n",
       "2   ASTEI10108  \n",
       "3   ASTEI01149  \n",
       "4   ASTEI06289  "
      ]
     },
     "execution_count": 36,
     "metadata": {},
     "output_type": "execute_result"
    }
   ],
   "source": [
    "target_aste_ortho_groups.head()"
   ]
  },
  {
   "cell_type": "code",
   "execution_count": 37,
   "metadata": {
    "collapsed": false
   },
   "outputs": [],
   "source": [
    "target_og_ids = pd.DataFrame(target_aste_ortho_groups.odb8_og_id)"
   ]
  },
  {
   "cell_type": "code",
   "execution_count": 38,
   "metadata": {
    "collapsed": false
   },
   "outputs": [
    {
     "data": {
      "text/html": [
       "<div>\n",
       "<table border=\"1\" class=\"dataframe\">\n",
       "  <thead>\n",
       "    <tr style=\"text-align: right;\">\n",
       "      <th></th>\n",
       "      <th>odb8_og_id</th>\n",
       "    </tr>\n",
       "  </thead>\n",
       "  <tbody>\n",
       "    <tr>\n",
       "      <th>0</th>\n",
       "      <td>EOG80048M</td>\n",
       "    </tr>\n",
       "    <tr>\n",
       "      <th>1</th>\n",
       "      <td>EOG80048S</td>\n",
       "    </tr>\n",
       "    <tr>\n",
       "      <th>2</th>\n",
       "      <td>EOG80048V</td>\n",
       "    </tr>\n",
       "    <tr>\n",
       "      <th>3</th>\n",
       "      <td>EOG80048W</td>\n",
       "    </tr>\n",
       "    <tr>\n",
       "      <th>4</th>\n",
       "      <td>EOG800494</td>\n",
       "    </tr>\n",
       "  </tbody>\n",
       "</table>\n",
       "</div>"
      ],
      "text/plain": [
       "  odb8_og_id\n",
       "0  EOG80048M\n",
       "1  EOG80048S\n",
       "2  EOG80048V\n",
       "3  EOG80048W\n",
       "4  EOG800494"
      ]
     },
     "execution_count": 38,
     "metadata": {},
     "output_type": "execute_result"
    }
   ],
   "source": [
    "target_og_ids.head()"
   ]
  },
  {
   "cell_type": "markdown",
   "metadata": {},
   "source": [
    "# Use the `pub_og_ids` from above to pull out all member genes from any dipteran"
   ]
  },
  {
   "cell_type": "code",
   "execution_count": 39,
   "metadata": {
    "collapsed": true
   },
   "outputs": [],
   "source": [
    "target_diptera = pd.merge(left=diptera, right=target_og_ids, how='inner',\n",
    "                          left_on=\"odb8_og_id\", right_on=\"odb8_og_id\"\n",
    "                         )"
   ]
  },
  {
   "cell_type": "code",
   "execution_count": 40,
   "metadata": {
    "collapsed": false
   },
   "outputs": [
    {
     "data": {
      "text/plain": [
       "1865"
      ]
     },
     "execution_count": 40,
     "metadata": {},
     "output_type": "execute_result"
    }
   ],
   "source": [
    "len(target_diptera.query(\"\"\"organism == 'Anopheles gambiae'\"\"\"))"
   ]
  },
  {
   "cell_type": "code",
   "execution_count": 41,
   "metadata": {
    "collapsed": false
   },
   "outputs": [
    {
     "data": {
      "text/html": [
       "<div>\n",
       "<table border=\"1\" class=\"dataframe\">\n",
       "  <thead>\n",
       "    <tr style=\"text-align: right;\">\n",
       "      <th></th>\n",
       "      <th>odb8_level</th>\n",
       "      <th>odb8_og_id</th>\n",
       "      <th>protein_id</th>\n",
       "      <th>odb8_prot_id</th>\n",
       "      <th>organism</th>\n",
       "      <th>uniprot_description</th>\n",
       "      <th>ensembl_gene_id</th>\n",
       "    </tr>\n",
       "  </thead>\n",
       "  <tbody>\n",
       "    <tr>\n",
       "      <th>0</th>\n",
       "      <td>7147:Diptera</td>\n",
       "      <td>EOG80CM7K</td>\n",
       "      <td>3231350.p</td>\n",
       "      <td>7370:0020f5</td>\n",
       "      <td>Musca domestica</td>\n",
       "      <td>NaN</td>\n",
       "      <td>3231350.p</td>\n",
       "    </tr>\n",
       "    <tr>\n",
       "      <th>1</th>\n",
       "      <td>7147:Diptera</td>\n",
       "      <td>EOG80CM7K</td>\n",
       "      <td>AAEL010901-PA</td>\n",
       "      <td>7159:0028d4</td>\n",
       "      <td>Aedes aegypti</td>\n",
       "      <td>AAEL010901-PA</td>\n",
       "      <td>AAEL010901</td>\n",
       "    </tr>\n",
       "    <tr>\n",
       "      <th>2</th>\n",
       "      <td>7147:Diptera</td>\n",
       "      <td>EOG80CM7K</td>\n",
       "      <td>AALB004306-PA</td>\n",
       "      <td>7167:0010d1</td>\n",
       "      <td>Anopheles albimanus</td>\n",
       "      <td>NaN</td>\n",
       "      <td>AALB004306</td>\n",
       "    </tr>\n",
       "    <tr>\n",
       "      <th>3</th>\n",
       "      <td>7147:Diptera</td>\n",
       "      <td>EOG80CM7K</td>\n",
       "      <td>AARA002395-PA</td>\n",
       "      <td>7173:00095a</td>\n",
       "      <td>Anopheles arabiensis</td>\n",
       "      <td>NaN</td>\n",
       "      <td>AARA002395</td>\n",
       "    </tr>\n",
       "    <tr>\n",
       "      <th>4</th>\n",
       "      <td>7147:Diptera</td>\n",
       "      <td>EOG80CM7K</td>\n",
       "      <td>AATE004704-PA</td>\n",
       "      <td>41427:000bee</td>\n",
       "      <td>Anopheles atroparvus</td>\n",
       "      <td>NaN</td>\n",
       "      <td>AATE004704</td>\n",
       "    </tr>\n",
       "  </tbody>\n",
       "</table>\n",
       "</div>"
      ],
      "text/plain": [
       "     odb8_level odb8_og_id     protein_id  odb8_prot_id              organism  \\\n",
       "0  7147:Diptera  EOG80CM7K      3231350.p   7370:0020f5       Musca domestica   \n",
       "1  7147:Diptera  EOG80CM7K  AAEL010901-PA   7159:0028d4         Aedes aegypti   \n",
       "2  7147:Diptera  EOG80CM7K  AALB004306-PA   7167:0010d1   Anopheles albimanus   \n",
       "3  7147:Diptera  EOG80CM7K  AARA002395-PA   7173:00095a  Anopheles arabiensis   \n",
       "4  7147:Diptera  EOG80CM7K  AATE004704-PA  41427:000bee  Anopheles atroparvus   \n",
       "\n",
       "  uniprot_description ensembl_gene_id  \n",
       "0                 NaN       3231350.p  \n",
       "1       AAEL010901-PA      AAEL010901  \n",
       "2                 NaN      AALB004306  \n",
       "3                 NaN      AARA002395  \n",
       "4                 NaN      AATE004704  "
      ]
     },
     "execution_count": 41,
     "metadata": {},
     "output_type": "execute_result"
    }
   ],
   "source": [
    "target_diptera.head()"
   ]
  },
  {
   "cell_type": "markdown",
   "metadata": {},
   "source": [
    "# Build results table and write to file"
   ]
  },
  {
   "cell_type": "code",
   "execution_count": 42,
   "metadata": {
    "collapsed": false
   },
   "outputs": [
    {
     "data": {
      "text/html": [
       "<div>\n",
       "<table border=\"1\" class=\"dataframe\">\n",
       "  <thead>\n",
       "    <tr style=\"text-align: right;\">\n",
       "      <th></th>\n",
       "      <th>odb8_level</th>\n",
       "      <th>odb8_og_id</th>\n",
       "      <th>protein_id</th>\n",
       "      <th>odb8_prot_id</th>\n",
       "      <th>organism</th>\n",
       "      <th>uniprot_description</th>\n",
       "      <th>ensembl_gene_id</th>\n",
       "      <th>mapping_type_aste_to_astei</th>\n",
       "      <th>aste_target</th>\n",
       "      <th>astei_target</th>\n",
       "    </tr>\n",
       "  </thead>\n",
       "  <tbody>\n",
       "    <tr>\n",
       "      <th>0</th>\n",
       "      <td>7147:Diptera</td>\n",
       "      <td>EOG80048M</td>\n",
       "      <td>ASTE003050-PA</td>\n",
       "      <td>30069:000be9</td>\n",
       "      <td>Anopheles stephensi</td>\n",
       "      <td>NaN</td>\n",
       "      <td>ASTE003050</td>\n",
       "      <td>one_to_one</td>\n",
       "      <td>ASTE003050</td>\n",
       "      <td>ASTEI05206</td>\n",
       "    </tr>\n",
       "    <tr>\n",
       "      <th>1</th>\n",
       "      <td>7147:Diptera</td>\n",
       "      <td>EOG80048S</td>\n",
       "      <td>ASTE011524-PA</td>\n",
       "      <td>30069:002d03</td>\n",
       "      <td>Anopheles stephensi</td>\n",
       "      <td>NaN</td>\n",
       "      <td>ASTE011524</td>\n",
       "      <td>one_to_one</td>\n",
       "      <td>ASTE011524</td>\n",
       "      <td>ASTEI02453</td>\n",
       "    </tr>\n",
       "    <tr>\n",
       "      <th>2</th>\n",
       "      <td>7147:Diptera</td>\n",
       "      <td>EOG80048V</td>\n",
       "      <td>ASTE005096-PA</td>\n",
       "      <td>30069:0013e7</td>\n",
       "      <td>Anopheles stephensi</td>\n",
       "      <td>NaN</td>\n",
       "      <td>ASTE005096</td>\n",
       "      <td>one_to_one</td>\n",
       "      <td>ASTE005096</td>\n",
       "      <td>ASTEI10108</td>\n",
       "    </tr>\n",
       "    <tr>\n",
       "      <th>3</th>\n",
       "      <td>7147:Diptera</td>\n",
       "      <td>EOG80048W</td>\n",
       "      <td>ASTE005418-PA</td>\n",
       "      <td>30069:001529</td>\n",
       "      <td>Anopheles stephensi</td>\n",
       "      <td>NaN</td>\n",
       "      <td>ASTE005418</td>\n",
       "      <td>one_to_one</td>\n",
       "      <td>ASTE005418</td>\n",
       "      <td>ASTEI01149</td>\n",
       "    </tr>\n",
       "    <tr>\n",
       "      <th>4</th>\n",
       "      <td>7147:Diptera</td>\n",
       "      <td>EOG800494</td>\n",
       "      <td>ASTE011590-PA</td>\n",
       "      <td>30069:002d45</td>\n",
       "      <td>Anopheles stephensi</td>\n",
       "      <td>NaN</td>\n",
       "      <td>ASTE011590</td>\n",
       "      <td>one_to_one</td>\n",
       "      <td>ASTE011590</td>\n",
       "      <td>ASTEI06289</td>\n",
       "    </tr>\n",
       "  </tbody>\n",
       "</table>\n",
       "</div>"
      ],
      "text/plain": [
       "     odb8_level odb8_og_id     protein_id  odb8_prot_id             organism  \\\n",
       "0  7147:Diptera  EOG80048M  ASTE003050-PA  30069:000be9  Anopheles stephensi   \n",
       "1  7147:Diptera  EOG80048S  ASTE011524-PA  30069:002d03  Anopheles stephensi   \n",
       "2  7147:Diptera  EOG80048V  ASTE005096-PA  30069:0013e7  Anopheles stephensi   \n",
       "3  7147:Diptera  EOG80048W  ASTE005418-PA  30069:001529  Anopheles stephensi   \n",
       "4  7147:Diptera  EOG800494  ASTE011590-PA  30069:002d45  Anopheles stephensi   \n",
       "\n",
       "  uniprot_description ensembl_gene_id mapping_type_aste_to_astei aste_target  \\\n",
       "0                 NaN      ASTE003050                 one_to_one  ASTE003050   \n",
       "1                 NaN      ASTE011524                 one_to_one  ASTE011524   \n",
       "2                 NaN      ASTE005096                 one_to_one  ASTE005096   \n",
       "3                 NaN      ASTE005418                 one_to_one  ASTE005418   \n",
       "4                 NaN      ASTE011590                 one_to_one  ASTE011590   \n",
       "\n",
       "  astei_target  \n",
       "0   ASTEI05206  \n",
       "1   ASTEI02453  \n",
       "2   ASTEI10108  \n",
       "3   ASTEI01149  \n",
       "4   ASTEI06289  "
      ]
     },
     "execution_count": 42,
     "metadata": {},
     "output_type": "execute_result"
    }
   ],
   "source": [
    "target_aste_ortho_groups.head()"
   ]
  },
  {
   "cell_type": "code",
   "execution_count": 43,
   "metadata": {
    "collapsed": false
   },
   "outputs": [
    {
     "data": {
      "text/html": [
       "<div>\n",
       "<table border=\"1\" class=\"dataframe\">\n",
       "  <thead>\n",
       "    <tr style=\"text-align: right;\">\n",
       "      <th></th>\n",
       "      <th>odb8_og_id</th>\n",
       "      <th>mapping_type_aste_to_astei</th>\n",
       "      <th>aste_target</th>\n",
       "      <th>astei_target</th>\n",
       "    </tr>\n",
       "  </thead>\n",
       "  <tbody>\n",
       "    <tr>\n",
       "      <th>0</th>\n",
       "      <td>EOG80048M</td>\n",
       "      <td>one_to_one</td>\n",
       "      <td>ASTE003050</td>\n",
       "      <td>ASTEI05206</td>\n",
       "    </tr>\n",
       "    <tr>\n",
       "      <th>1</th>\n",
       "      <td>EOG80048S</td>\n",
       "      <td>one_to_one</td>\n",
       "      <td>ASTE011524</td>\n",
       "      <td>ASTEI02453</td>\n",
       "    </tr>\n",
       "    <tr>\n",
       "      <th>2</th>\n",
       "      <td>EOG80048V</td>\n",
       "      <td>one_to_one</td>\n",
       "      <td>ASTE005096</td>\n",
       "      <td>ASTEI10108</td>\n",
       "    </tr>\n",
       "    <tr>\n",
       "      <th>3</th>\n",
       "      <td>EOG80048W</td>\n",
       "      <td>one_to_one</td>\n",
       "      <td>ASTE005418</td>\n",
       "      <td>ASTEI01149</td>\n",
       "    </tr>\n",
       "    <tr>\n",
       "      <th>4</th>\n",
       "      <td>EOG800494</td>\n",
       "      <td>one_to_one</td>\n",
       "      <td>ASTE011590</td>\n",
       "      <td>ASTEI06289</td>\n",
       "    </tr>\n",
       "  </tbody>\n",
       "</table>\n",
       "</div>"
      ],
      "text/plain": [
       "  odb8_og_id mapping_type_aste_to_astei aste_target astei_target\n",
       "0  EOG80048M                 one_to_one  ASTE003050   ASTEI05206\n",
       "1  EOG80048S                 one_to_one  ASTE011524   ASTEI02453\n",
       "2  EOG80048V                 one_to_one  ASTE005096   ASTEI10108\n",
       "3  EOG80048W                 one_to_one  ASTE005418   ASTEI01149\n",
       "4  EOG800494                 one_to_one  ASTE011590   ASTEI06289"
      ]
     },
     "execution_count": 43,
     "metadata": {},
     "output_type": "execute_result"
    }
   ],
   "source": [
    "target_aste_ortho_groups[[\"odb8_og_id\",\"mapping_type_aste_to_astei\",\"aste_target\",\"astei_target\"]].head()"
   ]
  },
  {
   "cell_type": "raw",
   "metadata": {},
   "source": []
  },
  {
   "cell_type": "code",
   "execution_count": 44,
   "metadata": {
    "collapsed": false
   },
   "outputs": [
    {
     "data": {
      "text/html": [
       "<div>\n",
       "<table border=\"1\" class=\"dataframe\">\n",
       "  <thead>\n",
       "    <tr style=\"text-align: right;\">\n",
       "      <th></th>\n",
       "      <th>odb8_level</th>\n",
       "      <th>odb8_og_id</th>\n",
       "      <th>protein_id</th>\n",
       "      <th>odb8_prot_id</th>\n",
       "      <th>organism</th>\n",
       "      <th>uniprot_description</th>\n",
       "      <th>ensembl_gene_id</th>\n",
       "      <th>mapping_type_aste_to_astei</th>\n",
       "      <th>aste_target</th>\n",
       "      <th>astei_target</th>\n",
       "    </tr>\n",
       "  </thead>\n",
       "  <tbody>\n",
       "    <tr>\n",
       "      <th>0</th>\n",
       "      <td>7147:Diptera</td>\n",
       "      <td>EOG80CM7K</td>\n",
       "      <td>3231350.p</td>\n",
       "      <td>7370:0020f5</td>\n",
       "      <td>Musca domestica</td>\n",
       "      <td>NaN</td>\n",
       "      <td>3231350.p</td>\n",
       "      <td>one_to_one</td>\n",
       "      <td>ASTE000566</td>\n",
       "      <td>ASTEI10787</td>\n",
       "    </tr>\n",
       "    <tr>\n",
       "      <th>1</th>\n",
       "      <td>7147:Diptera</td>\n",
       "      <td>EOG80CM7K</td>\n",
       "      <td>AAEL010901-PA</td>\n",
       "      <td>7159:0028d4</td>\n",
       "      <td>Aedes aegypti</td>\n",
       "      <td>AAEL010901-PA</td>\n",
       "      <td>AAEL010901</td>\n",
       "      <td>one_to_one</td>\n",
       "      <td>ASTE000566</td>\n",
       "      <td>ASTEI10787</td>\n",
       "    </tr>\n",
       "    <tr>\n",
       "      <th>2</th>\n",
       "      <td>7147:Diptera</td>\n",
       "      <td>EOG80CM7K</td>\n",
       "      <td>AALB004306-PA</td>\n",
       "      <td>7167:0010d1</td>\n",
       "      <td>Anopheles albimanus</td>\n",
       "      <td>NaN</td>\n",
       "      <td>AALB004306</td>\n",
       "      <td>one_to_one</td>\n",
       "      <td>ASTE000566</td>\n",
       "      <td>ASTEI10787</td>\n",
       "    </tr>\n",
       "    <tr>\n",
       "      <th>3</th>\n",
       "      <td>7147:Diptera</td>\n",
       "      <td>EOG80CM7K</td>\n",
       "      <td>AARA002395-PA</td>\n",
       "      <td>7173:00095a</td>\n",
       "      <td>Anopheles arabiensis</td>\n",
       "      <td>NaN</td>\n",
       "      <td>AARA002395</td>\n",
       "      <td>one_to_one</td>\n",
       "      <td>ASTE000566</td>\n",
       "      <td>ASTEI10787</td>\n",
       "    </tr>\n",
       "    <tr>\n",
       "      <th>4</th>\n",
       "      <td>7147:Diptera</td>\n",
       "      <td>EOG80CM7K</td>\n",
       "      <td>AATE004704-PA</td>\n",
       "      <td>41427:000bee</td>\n",
       "      <td>Anopheles atroparvus</td>\n",
       "      <td>NaN</td>\n",
       "      <td>AATE004704</td>\n",
       "      <td>one_to_one</td>\n",
       "      <td>ASTE000566</td>\n",
       "      <td>ASTEI10787</td>\n",
       "    </tr>\n",
       "  </tbody>\n",
       "</table>\n",
       "</div>"
      ],
      "text/plain": [
       "     odb8_level odb8_og_id     protein_id  odb8_prot_id              organism  \\\n",
       "0  7147:Diptera  EOG80CM7K      3231350.p   7370:0020f5       Musca domestica   \n",
       "1  7147:Diptera  EOG80CM7K  AAEL010901-PA   7159:0028d4         Aedes aegypti   \n",
       "2  7147:Diptera  EOG80CM7K  AALB004306-PA   7167:0010d1   Anopheles albimanus   \n",
       "3  7147:Diptera  EOG80CM7K  AARA002395-PA   7173:00095a  Anopheles arabiensis   \n",
       "4  7147:Diptera  EOG80CM7K  AATE004704-PA  41427:000bee  Anopheles atroparvus   \n",
       "\n",
       "  uniprot_description ensembl_gene_id mapping_type_aste_to_astei aste_target  \\\n",
       "0                 NaN       3231350.p                 one_to_one  ASTE000566   \n",
       "1       AAEL010901-PA      AAEL010901                 one_to_one  ASTE000566   \n",
       "2                 NaN      AALB004306                 one_to_one  ASTE000566   \n",
       "3                 NaN      AARA002395                 one_to_one  ASTE000566   \n",
       "4                 NaN      AATE004704                 one_to_one  ASTE000566   \n",
       "\n",
       "  astei_target  \n",
       "0   ASTEI10787  \n",
       "1   ASTEI10787  \n",
       "2   ASTEI10787  \n",
       "3   ASTEI10787  \n",
       "4   ASTEI10787  "
      ]
     },
     "execution_count": 44,
     "metadata": {},
     "output_type": "execute_result"
    }
   ],
   "source": [
    "# join the original ASTEI gene names to make it easier to use\n",
    "selected_columns = [\"odb8_og_id\",\"mapping_type_aste_to_astei\",\"aste_target\",\"astei_target\"]\n",
    "target_diptera_joined_ASTEI = pd.merge(left=target_diptera,\n",
    "                                       right=target_aste_ortho_groups[selected_columns],\n",
    "                                       how='inner', on=\"odb8_og_id\"\n",
    "                                      )\n",
    "target_diptera_joined_ASTEI.head()"
   ]
  },
  {
   "cell_type": "code",
   "execution_count": 47,
   "metadata": {
    "collapsed": false
   },
   "outputs": [],
   "source": [
    "selected_columns = ['odb8_og_id','protein_id','odb8_prot_id','organism','uniprot_description','ensembl_gene_id','mapping_type_aste_to_astei','aste_target','astei_target']\n",
    "target_diptera_joined_ASTEI.to_csv(\"/home/gus/MEGAsync/zim/main/SamsProteomics/peptide_data/pr151026_ms151023_SR_protein.orthodb8_orthogroups_diptera.csv\",\n",
    "                                     index=False,\n",
    "                                     columns=selected_columns\n",
    "                                    )"
   ]
  }
 ],
 "metadata": {
  "kernelspec": {
   "display_name": "Python 2",
   "language": "python",
   "name": "python2"
  },
  "language_info": {
   "codemirror_mode": {
    "name": "ipython",
    "version": 2
   },
   "file_extension": ".py",
   "mimetype": "text/x-python",
   "name": "python",
   "nbconvert_exporter": "python",
   "pygments_lexer": "ipython2",
   "version": "2.7.10"
  }
 },
 "nbformat": 4,
 "nbformat_minor": 0
}
