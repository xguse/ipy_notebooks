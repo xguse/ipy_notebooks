{
 "metadata": {
  "name": "",
  "signature": "sha256:46307962694dbb89ed0fadf62d3631b6830dc18aa57a1c4d397cd17f3c464a83"
 },
 "nbformat": 3,
 "nbformat_minor": 0,
 "worksheets": [
  {
   "cells": [
    {
     "cell_type": "code",
     "collapsed": false,
     "input": [
      "%matplotlib\n",
      "import networkx as nx\n",
      "import pyfasta"
     ],
     "language": "python",
     "metadata": {},
     "outputs": [
      {
       "output_type": "stream",
       "stream": "stdout",
       "text": [
        "Using matplotlib backend: TkAgg\n"
       ]
      }
     ],
     "prompt_number": 1
    },
    {
     "cell_type": "heading",
     "level": 1,
     "metadata": {},
     "source": [
      "Develop/test functions to easily extract upstream seq of genes."
     ]
    },
    {
     "cell_type": "heading",
     "level": 1,
     "metadata": {},
     "source": [
      "Test `load_genes_gffutils(gff3_path)`"
     ]
    },
    {
     "cell_type": "code",
     "collapsed": false,
     "input": [
      "gff3_path = \"/home/gus/Dropbox/repos/git/spartan/testing/gff3/test1.ensembl.gff3\"\n",
      "gff3_db = gff3_path+'.db'\n",
      "\n",
      "fasta_path = '/home/gus/genome_data/agambiae/Genome/agambiae.CHROMOSOMES-PEST.AgamP3.renamed.fa'\n",
      "\n",
      "AGAP004685_seqs = pyfasta.Fasta('/home/gus/Dropbox/repos/git/spartan/testing/fasta/AGAP004685.fasta', flatten_inplace=True)"
     ],
     "language": "python",
     "metadata": {},
     "outputs": [],
     "prompt_number": 2
    },
    {
     "cell_type": "code",
     "collapsed": false,
     "input": [
      "from spartan.utils.annotations.gffutils_helpers import load_gff3"
     ],
     "language": "python",
     "metadata": {},
     "outputs": [],
     "prompt_number": 3
    },
    {
     "cell_type": "code",
     "collapsed": false,
     "input": [
      "#%psource load_gff3"
     ],
     "language": "python",
     "metadata": {},
     "outputs": [],
     "prompt_number": 4
    },
    {
     "cell_type": "code",
     "collapsed": false,
     "input": [
      "db = load_gff3(gff3_path)"
     ],
     "language": "python",
     "metadata": {},
     "outputs": [],
     "prompt_number": 5
    },
    {
     "cell_type": "code",
     "collapsed": false,
     "input": [
      "len(list(db.all_features()))"
     ],
     "language": "python",
     "metadata": {},
     "outputs": [
      {
       "metadata": {},
       "output_type": "pyout",
       "prompt_number": 6,
       "text": [
        "281"
       ]
      }
     ],
     "prompt_number": 6
    },
    {
     "cell_type": "code",
     "collapsed": false,
     "input": [
      "gene = db['AGAP004677']"
     ],
     "language": "python",
     "metadata": {},
     "outputs": [],
     "prompt_number": 7
    },
    {
     "cell_type": "code",
     "collapsed": false,
     "input": [
      "print gene"
     ],
     "language": "python",
     "metadata": {},
     "outputs": [
      {
       "output_type": "stream",
       "stream": "stdout",
       "text": [
        "2L\tVectorBase\tgene\t157348\t186936\t.\t-\t.\tID=AGAP004677;\n"
       ]
      }
     ],
     "prompt_number": 8
    },
    {
     "cell_type": "code",
     "collapsed": false,
     "input": [
      "for i in db.children(gene, featuretype='mRNA', order_by='start'):\n",
      "    print i"
     ],
     "language": "python",
     "metadata": {},
     "outputs": [
      {
       "output_type": "stream",
       "stream": "stdout",
       "text": [
        "2L\tVectorBase\tmRNA\t157348\t181305\t.\t-\t.\tDbxref=RefSeq_peptide:XP_001687783,RefSeq_peptide:XP_314619,RefSeq_NA:XM_001687731,RefSeq_NA:XM_001687731,RefSeq_mRNA_predicted:XM_001687731,RefSeq_Prot:XP_001687783,RefSeq_Prot:XP_314619,RefSeq_rna_predicted:XM_001687731,GenBank:AAAB01008942,UniProtKB:A7UTF7,UniProtKB:Q7PHT4,goslim_goa:GO:0003674,goslim_goa:GO:0008150,goslim_goa:GO:0009058,goslim_goa:GO:0016491,goslim_goa:GO:0016810,goslim_goa:GO:0034641,goslim_goa:GO:0051186,protein_id:EAA44412,protein_id:EDO64016,UniParc:UPI0000020060;ID=AGAP004677-RA;Parent=AGAP004677;description=hypothetical protein;\n",
        "2L\tVectorBase\tmRNA\t157348\t186936\t.\t-\t.\tDbxref=RefSeq_peptide:XP_314619,RefSeq_NA:XM_314619,RefSeq_NA:XM_314619,RefSeq_mRNA_predicted:XM_314619,RefSeq_Prot:XP_314619,RefSeq_rna_predicted:XM_314619,GenBank:AAAB01008942,UniProtKB:Q7PHT4,goslim_goa:GO:0003674,goslim_goa:GO:0008150,goslim_goa:GO:0009058,goslim_goa:GO:0016491,goslim_goa:GO:0016810,goslim_goa:GO:0034641,goslim_goa:GO:0051186,protein_id:EAA44412,UniParc:UPI000002004D;ID=AGAP004677-RB;Parent=AGAP004677;description=hypothetical protein;\n"
       ]
      }
     ],
     "prompt_number": 9
    },
    {
     "cell_type": "code",
     "collapsed": false,
     "input": [
      "gene.attributes"
     ],
     "language": "python",
     "metadata": {},
     "outputs": [
      {
       "metadata": {},
       "output_type": "pyout",
       "prompt_number": 10,
       "text": [
        "{u'ID': [u'AGAP004677']}"
       ]
      }
     ],
     "prompt_number": 10
    },
    {
     "cell_type": "heading",
     "level": 1,
     "metadata": {},
     "source": [
      "Test `SimpleFeatureGFF3`"
     ]
    },
    {
     "cell_type": "code",
     "collapsed": false,
     "input": [
      "from spartan.utils.annotations.ensembl import gff3"
     ],
     "language": "python",
     "metadata": {},
     "outputs": [],
     "prompt_number": 11
    },
    {
     "cell_type": "code",
     "collapsed": false,
     "input": [
      "feats = list(gff3.parse_gff3(gff3_path))"
     ],
     "language": "python",
     "metadata": {},
     "outputs": [
      {
       "output_type": "stream",
       "stream": "stdout",
       "text": [
        "Automatic pdb calling has been turned OFF\n"
       ]
      },
      {
       "ename": "TypeError",
       "evalue": "int() argument must be a string or a number, not 'NoneType'",
       "output_type": "pyerr",
       "traceback": [
        "\u001b[1;31m---------------------------------------------------------------------------\u001b[0m\n\u001b[1;31mTypeError\u001b[0m                                 Traceback (most recent call last)",
        "\u001b[1;32m<ipython-input-14-e4e941657ac3>\u001b[0m in \u001b[0;36m<module>\u001b[1;34m()\u001b[0m\n\u001b[0;32m      1\u001b[0m \u001b[0mget_ipython\u001b[0m\u001b[1;33m(\u001b[0m\u001b[1;33m)\u001b[0m\u001b[1;33m.\u001b[0m\u001b[0mmagic\u001b[0m\u001b[1;33m(\u001b[0m\u001b[1;34mu'pdb'\u001b[0m\u001b[1;33m)\u001b[0m\u001b[1;33m\u001b[0m\u001b[0m\n\u001b[1;32m----> 2\u001b[1;33m \u001b[0mfeats\u001b[0m \u001b[1;33m=\u001b[0m \u001b[0mlist\u001b[0m\u001b[1;33m(\u001b[0m\u001b[0mgff3\u001b[0m\u001b[1;33m.\u001b[0m\u001b[0mparse_gff3\u001b[0m\u001b[1;33m(\u001b[0m\u001b[0mgff3_path\u001b[0m\u001b[1;33m)\u001b[0m\u001b[1;33m)\u001b[0m\u001b[1;33m\u001b[0m\u001b[0m\n\u001b[0m",
        "\u001b[1;32m/home/gus/Dropbox/repos/git/spartan/src/spartan/utils/annotations/ensembl/gff3.py\u001b[0m in \u001b[0;36mparse_gff3\u001b[1;34m(gff3_path)\u001b[0m\n\u001b[0;32m     51\u001b[0m             \u001b[1;32mcontinue\u001b[0m\u001b[1;33m\u001b[0m\u001b[0m\n\u001b[0;32m     52\u001b[0m         \u001b[1;32melse\u001b[0m\u001b[1;33m:\u001b[0m\u001b[1;33m\u001b[0m\u001b[0m\n\u001b[1;32m---> 53\u001b[1;33m             \u001b[0mfeature\u001b[0m \u001b[1;33m=\u001b[0m \u001b[0mSimpleFeatureGFF3\u001b[0m\u001b[1;33m(\u001b[0m\u001b[0mdata\u001b[0m\u001b[1;33m)\u001b[0m\u001b[1;33m\u001b[0m\u001b[0m\n\u001b[0m\u001b[0;32m     54\u001b[0m             \u001b[0mfeature\u001b[0m\u001b[1;33m.\u001b[0m\u001b[0mline_no\u001b[0m \u001b[1;33m=\u001b[0m \u001b[0mline_no\u001b[0m \u001b[1;33m+\u001b[0m \u001b[1;36m1\u001b[0m  \u001b[1;31m# to correct for python vs file index\u001b[0m\u001b[1;33m\u001b[0m\u001b[0m\n\u001b[0;32m     55\u001b[0m             \u001b[1;32myield\u001b[0m \u001b[0mfeature\u001b[0m\u001b[1;33m\u001b[0m\u001b[0m\n",
        "\u001b[1;32m/home/gus/Dropbox/repos/git/spartan/src/spartan/utils/annotations/ensembl/gff3.py\u001b[0m in \u001b[0;36m__init__\u001b[1;34m(self, gff3_data, start, end)\u001b[0m\n\u001b[0;32m    130\u001b[0m             \u001b[1;33m:\u001b[0m\u001b[0mparam\u001b[0m \u001b[0mgff3_data\u001b[0m\u001b[1;33m:\u001b[0m \u001b[0meither\u001b[0m \u001b[0ma\u001b[0m \u001b[0msingle\u001b[0m \u001b[0mgff3\u001b[0m \u001b[0mfile\u001b[0m \u001b[0mline\u001b[0m \u001b[1;32mor\u001b[0m \u001b[0ma\u001b[0m \u001b[0mdict\u001b[0m \u001b[0mof\u001b[0m \u001b[0mproper\u001b[0m \u001b[0minformation\u001b[0m\u001b[1;33m.\u001b[0m\u001b[1;33m\u001b[0m\u001b[0m\n\u001b[0;32m    131\u001b[0m             \"\"\"\n\u001b[1;32m--> 132\u001b[1;33m         \u001b[0msuper\u001b[0m\u001b[1;33m(\u001b[0m\u001b[0mSimpleFeatureGFF3\u001b[0m\u001b[1;33m,\u001b[0m \u001b[0mself\u001b[0m\u001b[1;33m)\u001b[0m\u001b[1;33m.\u001b[0m\u001b[0m__init__\u001b[0m\u001b[1;33m(\u001b[0m\u001b[0mstart\u001b[0m\u001b[1;33m,\u001b[0m \u001b[0mend\u001b[0m\u001b[1;33m)\u001b[0m\u001b[1;33m\u001b[0m\u001b[0m\n\u001b[0m\u001b[0;32m    133\u001b[0m         \u001b[1;32mif\u001b[0m \u001b[0misinstance\u001b[0m\u001b[1;33m(\u001b[0m\u001b[0mgff3_data\u001b[0m\u001b[1;33m,\u001b[0m \u001b[0mstr\u001b[0m\u001b[1;33m)\u001b[0m\u001b[1;33m:\u001b[0m\u001b[1;33m\u001b[0m\u001b[0m\n\u001b[0;32m    134\u001b[0m             \u001b[0mfields\u001b[0m \u001b[1;33m=\u001b[0m \u001b[0mgff3_data\u001b[0m\u001b[1;33m.\u001b[0m\u001b[0mrstrip\u001b[0m\u001b[1;33m(\u001b[0m\u001b[1;34m'\\n'\u001b[0m\u001b[1;33m)\u001b[0m\u001b[1;33m.\u001b[0m\u001b[0msplit\u001b[0m\u001b[1;33m(\u001b[0m\u001b[1;34m'\\t'\u001b[0m\u001b[1;33m)\u001b[0m\u001b[1;33m\u001b[0m\u001b[0m\n",
        "\u001b[1;32m/home/gus/Dropbox/repos/git/spartan/src/spartan/utils/annotations/intervals.py\u001b[0m in \u001b[0;36m__init__\u001b[1;34m(self, start, end)\u001b[0m\n\u001b[0;32m    102\u001b[0m         \u001b[0mself\u001b[0m\u001b[1;33m.\u001b[0m\u001b[0mdata\u001b[0m \u001b[1;33m=\u001b[0m \u001b[0mBunch\u001b[0m\u001b[1;33m(\u001b[0m\u001b[1;33m)\u001b[0m\u001b[1;33m\u001b[0m\u001b[0m\n\u001b[0;32m    103\u001b[0m \u001b[1;33m\u001b[0m\u001b[0m\n\u001b[1;32m--> 104\u001b[1;33m         \u001b[0mstart\u001b[0m \u001b[1;33m=\u001b[0m \u001b[0mint\u001b[0m\u001b[1;33m(\u001b[0m\u001b[0mstart\u001b[0m\u001b[1;33m)\u001b[0m\u001b[1;33m\u001b[0m\u001b[0m\n\u001b[0m\u001b[0;32m    105\u001b[0m         \u001b[0mend\u001b[0m \u001b[1;33m=\u001b[0m \u001b[0mint\u001b[0m\u001b[1;33m(\u001b[0m\u001b[0mend\u001b[0m\u001b[1;33m)\u001b[0m\u001b[1;33m\u001b[0m\u001b[0m\n\u001b[0;32m    106\u001b[0m \u001b[1;33m\u001b[0m\u001b[0m\n",
        "\u001b[1;31mTypeError\u001b[0m: int() argument must be a string or a number, not 'NoneType'"
       ]
      }
     ],
     "prompt_number": 14
    },
    {
     "cell_type": "code",
     "collapsed": false,
     "input": [
      "len(feats)"
     ],
     "language": "python",
     "metadata": {},
     "outputs": []
    },
    {
     "cell_type": "code",
     "collapsed": false,
     "input": [
      "feats[2].data.attributes"
     ],
     "language": "python",
     "metadata": {},
     "outputs": []
    },
    {
     "cell_type": "code",
     "collapsed": false,
     "input": [
      "feature_x = feats[2]"
     ],
     "language": "python",
     "metadata": {},
     "outputs": []
    },
    {
     "cell_type": "code",
     "collapsed": false,
     "input": [
      "feature_x.line_no"
     ],
     "language": "python",
     "metadata": {},
     "outputs": []
    },
    {
     "cell_type": "code",
     "collapsed": false,
     "input": [
      "feature_x.data.strand"
     ],
     "language": "python",
     "metadata": {},
     "outputs": []
    },
    {
     "cell_type": "code",
     "collapsed": false,
     "input": [
      "feature_x.get_range()"
     ],
     "language": "python",
     "metadata": {},
     "outputs": []
    },
    {
     "cell_type": "code",
     "collapsed": false,
     "input": [
      "upstream = feature_x.get_upstream(1000)"
     ],
     "language": "python",
     "metadata": {},
     "outputs": []
    },
    {
     "cell_type": "code",
     "collapsed": false,
     "input": [
      "upstream.get_range()"
     ],
     "language": "python",
     "metadata": {},
     "outputs": []
    },
    {
     "cell_type": "code",
     "collapsed": false,
     "input": [
      "upstream.data.strand"
     ],
     "language": "python",
     "metadata": {},
     "outputs": []
    },
    {
     "cell_type": "code",
     "collapsed": false,
     "input": [
      "downstream = feature_x.get_downstream(1000)"
     ],
     "language": "python",
     "metadata": {},
     "outputs": []
    },
    {
     "cell_type": "code",
     "collapsed": false,
     "input": [
      "downstream.data.strand"
     ],
     "language": "python",
     "metadata": {},
     "outputs": []
    },
    {
     "cell_type": "code",
     "collapsed": true,
     "input": [
      "downstream.get_range()"
     ],
     "language": "python",
     "metadata": {},
     "outputs": []
    },
    {
     "cell_type": "code",
     "collapsed": false,
     "input": [
      "len(downstream)"
     ],
     "language": "python",
     "metadata": {},
     "outputs": []
    },
    {
     "cell_type": "code",
     "collapsed": false,
     "input": [
      "downstream.data"
     ],
     "language": "python",
     "metadata": {},
     "outputs": []
    },
    {
     "cell_type": "heading",
     "level": 1,
     "metadata": {},
     "source": [
      "Test `GFF3` class:"
     ]
    },
    {
     "cell_type": "heading",
     "level": 2,
     "metadata": {},
     "source": [
      "Note: "
     ]
    },
    {
     "cell_type": "markdown",
     "metadata": {},
     "source": [
      "[Sat May 10 13:50:14 PDT 2014]\n",
      "\n",
      "Some features do not have `ID`'s in there attributes string even if they **do** have `Parent` defined.\n",
      "This makes building the `GFF3.parent_graph` based on `ID`,`Parent` defined edges incomplete."
     ]
    },
    {
     "cell_type": "heading",
     "level": 2,
     "metadata": {},
     "source": [
      "Proposal:"
     ]
    },
    {
     "cell_type": "markdown",
     "metadata": {},
     "source": [
      "[Sat May 10 13:50:14 PDT 2014]\n",
      "\n",
      "- generate unique ID from certain `feature.data` contents and `feature.line_no`\n",
      "- this `uniq_id` will be used to build the parent child edges for `GFF3.parent_graph`\n",
      "- access methods will then need to be written for `SimpleFeatureGFF3` that translate `feature.data.ID` to `feature.unique_id` when quereying the `GFF3.parent_graph`.\n",
      "\n",
      "##Note: \n",
      "[Sat May 10 19:00:06 PDT 2014]\n",
      "\n",
      "    uniq_id = '%s:%s:%s:%s:%s' % (feature.data.seqid, feature.data.type, feature.data.start, feature.data.end, feature.data.strand)\n",
      "    \n",
      "[Sun May 11 12:30:56 PDT 2014]\n",
      "```python\n",
      "def set_feature_uniq_id(self, feature):\n",
      "    try:\n",
      "        u_id = '%s:%s:%s:%s:%s:%s:%s' % (feature.line_no, feature.data.seqid, feature.data.type,\n",
      "                                         feature.data.start, feature.data.end, feature.data.strand,\n",
      "                                         feature.data .attributes.ID)\n",
      "    except AttributeError:\n",
      "        u_id = '%s:%s:%s:%s:%s:%s' % (feature.line_no, feature.data.seqid, feature.data.type,\n",
      "                                      feature.data.start, feature.data.end, feature.data.strand)\n",
      "    feature.uniq_id = u_id\n",
      "```"
     ]
    },
    {
     "cell_type": "code",
     "collapsed": false,
     "input": [
      "#%pdb\n",
      "gff3_db = gff3.GFF3(gff3_path, fasta_path=fasta_path)"
     ],
     "language": "python",
     "metadata": {},
     "outputs": []
    },
    {
     "cell_type": "code",
     "collapsed": false,
     "input": [
      "gff3_db.seqids"
     ],
     "language": "python",
     "metadata": {},
     "outputs": []
    },
    {
     "cell_type": "code",
     "collapsed": false,
     "input": [
      "gff3_db.sources"
     ],
     "language": "python",
     "metadata": {},
     "outputs": []
    },
    {
     "cell_type": "code",
     "collapsed": false,
     "input": [
      "gff3_db.types"
     ],
     "language": "python",
     "metadata": {},
     "outputs": []
    },
    {
     "cell_type": "code",
     "collapsed": false,
     "input": [
      "p_graph = gff3_db.parents_graph"
     ],
     "language": "python",
     "metadata": {},
     "outputs": []
    },
    {
     "cell_type": "code",
     "collapsed": false,
     "input": [
      "nx.draw_graphviz(p_graph)"
     ],
     "language": "python",
     "metadata": {},
     "outputs": []
    },
    {
     "cell_type": "code",
     "collapsed": false,
     "input": [
      "exon = gff3_db.common_to_uniq_id['E013870A']\n",
      "exon"
     ],
     "language": "python",
     "metadata": {},
     "outputs": []
    },
    {
     "cell_type": "code",
     "collapsed": false,
     "input": [
      "exon_node = p_graph[exon]\n",
      "exon_node"
     ],
     "language": "python",
     "metadata": {},
     "outputs": []
    },
    {
     "cell_type": "code",
     "collapsed": false,
     "input": [
      "p_graph.neighbors('289:2L:mRNA:1133037:1133751:-1:AGAP004690-RA')"
     ],
     "language": "python",
     "metadata": {},
     "outputs": []
    },
    {
     "cell_type": "code",
     "collapsed": false,
     "input": [
      "p_graph.neighbors('288:2L:gene:1133037:1133751:-1:AGAP004690')"
     ],
     "language": "python",
     "metadata": {},
     "outputs": []
    },
    {
     "cell_type": "heading",
     "level": 1,
     "metadata": {},
     "source": [
      "Test Sequence access:"
     ]
    },
    {
     "cell_type": "code",
     "collapsed": false,
     "input": [
      "AGAP004685_seqs.keys()"
     ],
     "language": "python",
     "metadata": {},
     "outputs": []
    },
    {
     "cell_type": "code",
     "collapsed": false,
     "input": [
      "uniq_id = gff3_db.common_to_uniq_id['AGAP004685']\n",
      "AGAP004685_feat = gff3_db.feature_db[uniq_id]"
     ],
     "language": "python",
     "metadata": {},
     "outputs": []
    },
    {
     "cell_type": "code",
     "collapsed": false,
     "input": [
      "AGAP004685_feat.get_vitals()"
     ],
     "language": "python",
     "metadata": {},
     "outputs": []
    },
    {
     "cell_type": "code",
     "collapsed": false,
     "input": [
      "AGAP004685_feat.get_dna_sequence()"
     ],
     "language": "python",
     "metadata": {},
     "outputs": []
    },
    {
     "cell_type": "code",
     "collapsed": false,
     "input": [
      "AGAP004685_feat.get_dna_sequence() in str(AGAP004685_seqs['2L dna:chromosome chromosome:AgamP4:2L:492579:498632:-1'])"
     ],
     "language": "python",
     "metadata": {},
     "outputs": []
    },
    {
     "cell_type": "code",
     "collapsed": false,
     "input": [
      "AGAP004685_feat.uniq_id"
     ],
     "language": "python",
     "metadata": {},
     "outputs": []
    },
    {
     "cell_type": "code",
     "collapsed": false,
     "input": [],
     "language": "python",
     "metadata": {},
     "outputs": []
    }
   ],
   "metadata": {}
  }
 ]
}