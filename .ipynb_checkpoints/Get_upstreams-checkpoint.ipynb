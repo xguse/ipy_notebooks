{
 "metadata": {
  "name": "",
  "signature": "sha256:3fb1eaacddbfef51286c2a3f2622b329169d562e439e6da787e59d9655aaba04"
 },
 "nbformat": 3,
 "nbformat_minor": 0,
 "worksheets": [
  {
   "cells": [
    {
     "cell_type": "heading",
     "level": 1,
     "metadata": {},
     "source": [
      "Develop/test functions to easily extract upstream seq of genes."
     ]
    },
    {
     "cell_type": "heading",
     "level": 2,
     "metadata": {},
     "source": [
      "`load_genes_gffutils(gff3_path)`"
     ]
    },
    {
     "cell_type": "code",
     "collapsed": false,
     "input": [
      "gff3_path = \"/home/gus/Dropbox/repos/git/spartan/testing/gff3/test1.ensembl.gff3\"\n",
      "gff3_db = gff3_path+'.db'"
     ],
     "language": "python",
     "metadata": {},
     "outputs": [],
     "prompt_number": 1
    },
    {
     "cell_type": "code",
     "collapsed": false,
     "input": [
      "from spartan.utils.annotations.gffutils_helpers import load_gff3"
     ],
     "language": "python",
     "metadata": {},
     "outputs": [],
     "prompt_number": 2
    },
    {
     "cell_type": "code",
     "collapsed": false,
     "input": [
      "#%psource load_gff3"
     ],
     "language": "python",
     "metadata": {},
     "outputs": [],
     "prompt_number": 3
    },
    {
     "cell_type": "code",
     "collapsed": false,
     "input": [
      "db = load_gff3(gff3_path)"
     ],
     "language": "python",
     "metadata": {},
     "outputs": [],
     "prompt_number": 4
    },
    {
     "cell_type": "code",
     "collapsed": false,
     "input": [
      "len(list(db.all_features()))"
     ],
     "language": "python",
     "metadata": {},
     "outputs": [
      {
       "metadata": {},
       "output_type": "pyout",
       "prompt_number": 5,
       "text": [
        "281"
       ]
      }
     ],
     "prompt_number": 5
    },
    {
     "cell_type": "code",
     "collapsed": false,
     "input": [
      "gene = db['AGAP004677']"
     ],
     "language": "python",
     "metadata": {},
     "outputs": [],
     "prompt_number": 6
    },
    {
     "cell_type": "code",
     "collapsed": false,
     "input": [
      "print gene"
     ],
     "language": "python",
     "metadata": {},
     "outputs": [
      {
       "output_type": "stream",
       "stream": "stdout",
       "text": [
        "2L\tVectorBase\tgene\t157348\t186936\t.\t-\t.\tID=AGAP004677;\n"
       ]
      }
     ],
     "prompt_number": 7
    },
    {
     "cell_type": "code",
     "collapsed": false,
     "input": [
      "for i in db.children(gene, featuretype='mRNA', order_by='start'):\n",
      "    print i"
     ],
     "language": "python",
     "metadata": {},
     "outputs": [
      {
       "output_type": "stream",
       "stream": "stdout",
       "text": [
        "2L\tVectorBase\tmRNA\t157348\t181305\t.\t-\t.\tDbxref=RefSeq_peptide:XP_001687783,RefSeq_peptide:XP_314619,RefSeq_NA:XM_001687731,RefSeq_NA:XM_001687731,RefSeq_mRNA_predicted:XM_001687731,RefSeq_Prot:XP_001687783,RefSeq_Prot:XP_314619,RefSeq_rna_predicted:XM_001687731,GenBank:AAAB01008942,UniProtKB:A7UTF7,UniProtKB:Q7PHT4,goslim_goa:GO:0003674,goslim_goa:GO:0008150,goslim_goa:GO:0009058,goslim_goa:GO:0016491,goslim_goa:GO:0016810,goslim_goa:GO:0034641,goslim_goa:GO:0051186,protein_id:EAA44412,protein_id:EDO64016,UniParc:UPI0000020060;ID=AGAP004677-RA;Parent=AGAP004677;description=hypothetical protein;\n",
        "2L\tVectorBase\tmRNA\t157348\t186936\t.\t-\t.\tDbxref=RefSeq_peptide:XP_314619,RefSeq_NA:XM_314619,RefSeq_NA:XM_314619,RefSeq_mRNA_predicted:XM_314619,RefSeq_Prot:XP_314619,RefSeq_rna_predicted:XM_314619,GenBank:AAAB01008942,UniProtKB:Q7PHT4,goslim_goa:GO:0003674,goslim_goa:GO:0008150,goslim_goa:GO:0009058,goslim_goa:GO:0016491,goslim_goa:GO:0016810,goslim_goa:GO:0034641,goslim_goa:GO:0051186,protein_id:EAA44412,UniParc:UPI000002004D;ID=AGAP004677-RB;Parent=AGAP004677;description=hypothetical protein;\n"
       ]
      }
     ],
     "prompt_number": 8
    },
    {
     "cell_type": "code",
     "collapsed": false,
     "input": [
      "gene.attributes"
     ],
     "language": "python",
     "metadata": {},
     "outputs": [
      {
       "metadata": {},
       "output_type": "pyout",
       "prompt_number": 9,
       "text": [
        "{u'ID': [u'AGAP004677']}"
       ]
      }
     ],
     "prompt_number": 9
    },
    {
     "cell_type": "heading",
     "level": 2,
     "metadata": {},
     "source": [
      "Test `SimpleFeatureGFF3`"
     ]
    },
    {
     "cell_type": "code",
     "collapsed": false,
     "input": [
      "from spartan.utils.annotations.ensembl import gff3"
     ],
     "language": "python",
     "metadata": {},
     "outputs": [],
     "prompt_number": 10
    },
    {
     "cell_type": "code",
     "collapsed": false,
     "input": [
      "feats = list(gff3.parse_gff3(gff3_path))"
     ],
     "language": "python",
     "metadata": {},
     "outputs": [],
     "prompt_number": 11
    },
    {
     "cell_type": "code",
     "collapsed": false,
     "input": [
      "len(feats)"
     ],
     "language": "python",
     "metadata": {},
     "outputs": [
      {
       "metadata": {},
       "output_type": "pyout",
       "prompt_number": 12,
       "text": [
        "281"
       ]
      }
     ],
     "prompt_number": 12
    },
    {
     "cell_type": "code",
     "collapsed": false,
     "input": [
      "feats[2].data.attributes"
     ],
     "language": "python",
     "metadata": {},
     "outputs": [
      {
       "metadata": {},
       "output_type": "pyout",
       "prompt_number": 13,
       "text": [
        "{'Dbxref': 'RefSeq_peptide:XP_314619,RefSeq_NA:XM_314619,RefSeq_NA:XM_314619,RefSeq_mRNA_predicted:XM_314619,RefSeq_Prot:XP_314619,RefSeq_rna_predicted:XM_314619,GenBank:AAAB01008942,UniProtKB:Q7PHT4,goslim_goa:GO:0003674,goslim_goa:GO:0008150,goslim_goa:GO:0009058,goslim_goa:GO:0016491,goslim_goa:GO:0016810,goslim_goa:GO:0034641,goslim_goa:GO:0051186,protein_id:EAA44412,UniParc:UPI000002004D',\n",
        " 'ID': 'AGAP004677-RB',\n",
        " 'Parent': 'AGAP004677',\n",
        " 'description': 'hypothetical protein',\n",
        " 'unnamed': ['']}"
       ]
      }
     ],
     "prompt_number": 13
    },
    {
     "cell_type": "code",
     "collapsed": false,
     "input": [
      "feature_x = feats[2]"
     ],
     "language": "python",
     "metadata": {},
     "outputs": [],
     "prompt_number": 14
    },
    {
     "cell_type": "code",
     "collapsed": false,
     "input": [
      "feature_x.data.strand"
     ],
     "language": "python",
     "metadata": {},
     "outputs": [
      {
       "metadata": {},
       "output_type": "pyout",
       "prompt_number": 24,
       "text": [
        "-1"
       ]
      }
     ],
     "prompt_number": 24
    },
    {
     "cell_type": "code",
     "collapsed": false,
     "input": [
      "feature_x.get_range()"
     ],
     "language": "python",
     "metadata": {},
     "outputs": [
      {
       "metadata": {},
       "output_type": "pyout",
       "prompt_number": 15,
       "text": [
        "(157348, 186936)"
       ]
      }
     ],
     "prompt_number": 15
    },
    {
     "cell_type": "code",
     "collapsed": false,
     "input": [
      "upstream = feature_x.get_upstream(1000)"
     ],
     "language": "python",
     "metadata": {},
     "outputs": [],
     "prompt_number": 27
    },
    {
     "cell_type": "code",
     "collapsed": false,
     "input": [
      "upstream.get_range()"
     ],
     "language": "python",
     "metadata": {},
     "outputs": [
      {
       "metadata": {},
       "output_type": "pyout",
       "prompt_number": 28,
       "text": [
        "(186937, 187936)"
       ]
      }
     ],
     "prompt_number": 28
    },
    {
     "cell_type": "code",
     "collapsed": false,
     "input": [
      "upstream.data.strand"
     ],
     "language": "python",
     "metadata": {},
     "outputs": [
      {
       "metadata": {},
       "output_type": "pyout",
       "prompt_number": 29,
       "text": [
        "-1"
       ]
      }
     ],
     "prompt_number": 29
    },
    {
     "cell_type": "code",
     "collapsed": false,
     "input": [
      "downstream = feature_x.get_downstream(1000)"
     ],
     "language": "python",
     "metadata": {},
     "outputs": [],
     "prompt_number": 30
    },
    {
     "cell_type": "code",
     "collapsed": true,
     "input": [],
     "language": "python",
     "metadata": {},
     "outputs": []
    },
    {
     "cell_type": "heading",
     "level": 1,
     "metadata": {},
     "source": [
      "Testing `pybedtool`'s plotting"
     ]
    },
    {
     "cell_type": "code",
     "collapsed": false,
     "input": [
      "import pybedtools"
     ],
     "language": "python",
     "metadata": {},
     "outputs": [],
     "prompt_number": 18
    },
    {
     "cell_type": "markdown",
     "metadata": {},
     "source": [
      ">>> a = pybedtools.example_bedtool('a.bed')\n",
      ">>> track = pybedtools.contrib.plotting.Track(a, alpha=0.5, picker=5)\n",
      ">>> import matplotlib.pyplot as plt\n",
      ">>> fig = plt.figure()\n",
      ">>> ax = fig.add_subplot(111)\n",
      ">>> ax.add_collection(track) \n",
      ">>> limits = ax.axis('tight')"
     ]
    },
    {
     "cell_type": "code",
     "collapsed": false,
     "input": [],
     "language": "python",
     "metadata": {},
     "outputs": [
      {
       "ename": "AttributeError",
       "evalue": "'module' object has no attribute 'plotting'",
       "output_type": "pyerr",
       "traceback": [
        "\u001b[1;31m---------------------------------------------------------------------------\u001b[0m\n\u001b[1;31mAttributeError\u001b[0m                            Traceback (most recent call last)",
        "\u001b[1;32m<ipython-input-20-b35d766c0587>\u001b[0m in \u001b[0;36m<module>\u001b[1;34m()\u001b[0m\n\u001b[1;32m----> 1\u001b[1;33m \u001b[0mpybedtools\u001b[0m\u001b[1;33m.\u001b[0m\u001b[0mplotting\u001b[0m\u001b[1;33m\u001b[0m\u001b[0m\n\u001b[0m",
        "\u001b[1;31mAttributeError\u001b[0m: 'module' object has no attribute 'plotting'"
       ]
      }
     ],
     "prompt_number": 20
    },
    {
     "cell_type": "code",
     "collapsed": false,
     "input": [],
     "language": "python",
     "metadata": {},
     "outputs": []
    }
   ],
   "metadata": {}
  }
 ]
}