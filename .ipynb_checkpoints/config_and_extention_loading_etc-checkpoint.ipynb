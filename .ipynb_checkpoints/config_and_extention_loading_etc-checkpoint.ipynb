{
 "cells": [
  {
   "cell_type": "markdown",
   "metadata": {},
   "source": [
    "# Where are my configs?"
   ]
  },
  {
   "cell_type": "code",
   "execution_count": 1,
   "metadata": {
    "collapsed": true
   },
   "outputs": [],
   "source": [
    "from __future__ import print_function"
   ]
  },
  {
   "cell_type": "code",
   "execution_count": 2,
   "metadata": {
    "collapsed": false
   },
   "outputs": [
    {
     "name": "stdout",
     "output_type": "stream",
     "text": [
      "/home/gus/.jupyter\n",
      "['/home/gus/.jupyter', '/home/gus/anaconda2/envs/stack2/etc/jupyter', '/usr/local/etc/jupyter', '/etc/jupyter']\n"
     ]
    }
   ],
   "source": [
    "from jupyter_core.paths import jupyter_config_dir, jupyter_config_path\n",
    "print(jupyter_config_dir())\n",
    "print(jupyter_config_path())"
   ]
  },
  {
   "cell_type": "code",
   "execution_count": 3,
   "metadata": {
    "collapsed": false
   },
   "outputs": [
    {
     "data": {
      "text/plain": [
       "'/home/gus/.local/share/jupyter'"
      ]
     },
     "execution_count": 3,
     "metadata": {},
     "output_type": "execute_result"
    }
   ],
   "source": [
    "from jupyter_core.paths import jupyter_data_dir, jupyter_path\n",
    "jupyter_data_dir()"
   ]
  },
  {
   "cell_type": "code",
   "execution_count": 4,
   "metadata": {
    "collapsed": false
   },
   "outputs": [
    {
     "data": {
      "text/plain": [
       "['/home/gus/.local/share/jupyter',\n",
       " '/home/gus/anaconda2/envs/stack2/share/jupyter',\n",
       " '/usr/local/share/jupyter',\n",
       " '/usr/share/jupyter']"
      ]
     },
     "execution_count": 4,
     "metadata": {},
     "output_type": "execute_result"
    }
   ],
   "source": [
    "jupyter_path()"
   ]
  },
  {
   "cell_type": "code",
   "execution_count": 8,
   "metadata": {
    "collapsed": false
   },
   "outputs": [
    {
     "data": {
      "text/plain": [
       "True"
      ]
     },
     "execution_count": 8,
     "metadata": {},
     "output_type": "execute_result"
    }
   ],
   "source": [
    "import notebook\n",
    "notebook.nbextensions.check_nbextension('repo/usability/rubberband', user=True)\n",
    "notebook.nbextensions.check_nbextension('repo/usability/rubberband/main.js', user=True)"
   ]
  },
  {
   "cell_type": "code",
   "execution_count": null,
   "metadata": {
    "collapsed": false
   },
   "outputs": [],
   "source": [
    "notebook.nbextensions.jupyter_data_dir()"
   ]
  },
  {
   "cell_type": "code",
   "execution_count": 7,
   "metadata": {
    "collapsed": false
   },
   "outputs": [
    {
     "name": "stdout",
     "output_type": "stream",
     "text": [
      "total 8\r\n",
      "\u001b[0m\u001b[00;38;5;244mlrwxrwxrwx 1 gus   39 Aug  5 15:04 \u001b[m\u001b[00;38;5;37mlivereveal\u001b[0m -> \u001b[m\u001b[00;38;5;33m/home/gus/src/repos/git/RISE/livereveal\u001b[0m/\r\n",
      "\u001b[00;38;5;244m-rwxr-xr-x 1 gus 7990 Sep  2 18:59 \u001b[m\u001b[00;38;5;64mmain.js\u001b[0m*\r\n",
      "\u001b[00;38;5;244mlrwxrwxrwx 1 gus   51 Sep  2 19:32 \u001b[m\u001b[00;38;5;37mrepo\u001b[0m -> \u001b[m\u001b[00;38;5;33m/home/gus/src/repos/git/IPython-notebook-extensions\u001b[0m/\r\n"
     ]
    }
   ],
   "source": [
    "ll /home/gus/.local/share/jupyter/nbextensions"
   ]
  },
  {
   "cell_type": "code",
   "execution_count": null,
   "metadata": {
    "collapsed": true
   },
   "outputs": [],
   "source": []
  }
 ],
 "metadata": {
  "kernelspec": {
   "display_name": "Python 2",
   "language": "python2",
   "name": "python2"
  },
  "language_info": {
   "codemirror_mode": {
    "name": "ipython",
    "version": 2
   },
   "file_extension": ".py",
   "mimetype": "text/x-python",
   "name": "python",
   "nbconvert_exporter": "python",
   "pygments_lexer": "ipython2",
   "version": "2.7.10"
  }
 },
 "nbformat": 4,
 "nbformat_minor": 0
}
