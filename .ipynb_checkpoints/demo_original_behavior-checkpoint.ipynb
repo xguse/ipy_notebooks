{
 "metadata": {
  "name": "",
  "signature": "sha256:677566cdae26b0222cb26381c8a43929ab2c35380edda4688d57d0781ddd65c3"
 },
 "nbformat": 3,
 "nbformat_minor": 0,
 "worksheets": [
  {
   "cells": [
    {
     "cell_type": "raw",
     "metadata": {},
     "source": []
    }
   ],
   "metadata": {}
  }
 ]
}