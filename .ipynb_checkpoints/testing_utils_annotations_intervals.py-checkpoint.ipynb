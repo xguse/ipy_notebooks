{
 "metadata": {
  "name": "",
  "signature": "sha256:bab0e91088fa44e7417d859ffa59fd57258becf3dc513389166384d3854b4e47"
 },
 "nbformat": 3,
 "nbformat_minor": 0,
 "worksheets": [
  {
   "cells": [
    {
     "cell_type": "code",
     "collapsed": false,
     "input": [
      "%matplotlib inline\n",
      "from spartan.utils.annotations import intervals"
     ],
     "language": "python",
     "metadata": {},
     "outputs": [],
     "prompt_number": 1
    },
    {
     "cell_type": "heading",
     "level": 1,
     "metadata": {},
     "source": [
      "Testing `class SimpleFeature(object)`:"
     ]
    },
    {
     "cell_type": "heading",
     "level": 3,
     "metadata": {},
     "source": [
      "Object creation:"
     ]
    },
    {
     "cell_type": "code",
     "collapsed": true,
     "input": [
      "feat1 = intervals.SimpleFeature(start=5, end=15)\n",
      "feat2 = intervals.SimpleFeature(start=5, end=15)\n",
      "feat3 = intervals.SimpleFeature(start=20, end=35)\n",
      "feat4 = intervals.SimpleFeature(start=7, end=10)\n",
      "feat5 = intervals.SimpleFeature(start=1, end=10)\n",
      "feat6 = intervals.SimpleFeature(start=10, end=17)\n",
      "\n",
      "feat_list = [feat1,\n",
      "             feat2,\n",
      "             feat3,\n",
      "             feat4,\n",
      "             feat5,\n",
      "             feat6,]"
     ],
     "language": "python",
     "metadata": {},
     "outputs": [],
     "prompt_number": 2
    },
    {
     "cell_type": "heading",
     "level": 3,
     "metadata": {},
     "source": [
      "Feature graphic:"
     ]
    },
    {
     "cell_type": "code",
     "collapsed": false,
     "input": [
      "str(feat1)\n"
     ],
     "language": "python",
     "metadata": {},
     "outputs": [
      {
       "metadata": {},
       "output_type": "pyout",
       "prompt_number": 3,
       "text": [
        "'5-15'"
       ]
      }
     ],
     "prompt_number": 3
    },
    {
     "cell_type": "code",
     "collapsed": false,
     "input": [
      "import matplotlib.pyplot as plt\n",
      "fig, ax = plt.subplots()\n",
      "\n",
      "ax.broken_barh([ (feat6.data.start, 8) ] , (10, 9), alpha=0.5)\n",
      "ax.broken_barh([ (feat5.data.start, 10) ] , (20, 9), alpha=0.5)\n",
      "ax.broken_barh([ (feat4.data.start, 4) ] , (30, 9), alpha=0.5)\n",
      "ax.broken_barh([ (feat3.data.start, 16) ] , (40, 9), alpha=0.5)\n",
      "ax.broken_barh([ (feat2.data.start, 11) ] , (50, 9), alpha=0.5)\n",
      "ax.broken_barh([ (feat1.data.start, 11) ] , (60, 9), alpha=0.5)\n",
      "\n",
      "\n",
      "ax.set_ylim(5,75)\n",
      "#ax.set_xlim(0,200)\n",
      "ax.set_yticks([15,25,35,45,55,65])\n",
      "ax.set_yticklabels(['feat6',\n",
      "                    'feat5',\n",
      "                    'feat4',\n",
      "                    'feat3',\n",
      "                    'feat2',\n",
      "                    'feat1',])\n",
      "ax.grid(True)\n"
     ],
     "language": "python",
     "metadata": {},
     "outputs": [
      {
       "metadata": {},
       "output_type": "display_data",
       "png": "[encoded data removed]",
       "text": [
        "<matplotlib.figure.Figure at 0x4434c90>"
       ]
      }
     ],
     "prompt_number": 4
    },
    {
     "cell_type": "heading",
     "level": 3,
     "metadata": {},
     "source": [
      "Overlap detection:"
     ]
    },
    {
     "cell_type": "heading",
     "level": 5,
     "metadata": {},
     "source": [
      "Perfect overlap:"
     ]
    },
    {
     "cell_type": "code",
     "collapsed": false,
     "input": [
      "assert feat1.has_overlap(feat2) == True"
     ],
     "language": "python",
     "metadata": {},
     "outputs": [],
     "prompt_number": 5
    },
    {
     "cell_type": "heading",
     "level": 5,
     "metadata": {},
     "source": [
      "Internal overlap:"
     ]
    },
    {
     "cell_type": "code",
     "collapsed": false,
     "input": [
      "assert feat1.has_overlap(feat4) == True"
     ],
     "language": "python",
     "metadata": {},
     "outputs": [],
     "prompt_number": 6
    },
    {
     "cell_type": "heading",
     "level": 5,
     "metadata": {},
     "source": [
      "Left flank overlap:"
     ]
    },
    {
     "cell_type": "code",
     "collapsed": false,
     "input": [
      "assert feat1.has_overlap(feat5) == True"
     ],
     "language": "python",
     "metadata": {},
     "outputs": [],
     "prompt_number": 7
    },
    {
     "cell_type": "heading",
     "level": 5,
     "metadata": {},
     "source": [
      "Right flank overlap:"
     ]
    },
    {
     "cell_type": "code",
     "collapsed": false,
     "input": [
      "assert feat1.has_overlap(feat6) == True"
     ],
     "language": "python",
     "metadata": {},
     "outputs": [],
     "prompt_number": 8
    },
    {
     "cell_type": "heading",
     "level": 5,
     "metadata": {},
     "source": [
      "No overlap:"
     ]
    },
    {
     "cell_type": "code",
     "collapsed": false,
     "input": [
      "assert feat1.has_overlap(feat3) == False"
     ],
     "language": "python",
     "metadata": {},
     "outputs": [],
     "prompt_number": 9
    },
    {
     "cell_type": "heading",
     "level": 3,
     "metadata": {},
     "source": [
      "Operator overloading:"
     ]
    },
    {
     "cell_type": "heading",
     "level": 5,
     "metadata": {},
     "source": [
      "`__len__`:"
     ]
    },
    {
     "cell_type": "code",
     "collapsed": false,
     "input": [
      "assert len(feat1) == 11"
     ],
     "language": "python",
     "metadata": {},
     "outputs": [],
     "prompt_number": 10
    },
    {
     "cell_type": "heading",
     "level": 5,
     "metadata": {},
     "source": [
      "`__eq__`:"
     ]
    },
    {
     "cell_type": "code",
     "collapsed": false,
     "input": [
      "assert feat1 == feat1"
     ],
     "language": "python",
     "metadata": {},
     "outputs": [],
     "prompt_number": 11
    },
    {
     "cell_type": "code",
     "collapsed": false,
     "input": [
      "assert feat1 == feat2"
     ],
     "language": "python",
     "metadata": {},
     "outputs": [],
     "prompt_number": 12
    },
    {
     "cell_type": "code",
     "collapsed": false,
     "input": [
      "assert feat1 != feat4"
     ],
     "language": "python",
     "metadata": {},
     "outputs": [],
     "prompt_number": 13
    },
    {
     "cell_type": "heading",
     "level": 5,
     "metadata": {},
     "source": [
      "`__lt__`:"
     ]
    },
    {
     "cell_type": "code",
     "collapsed": false,
     "input": [
      "assert feat2 < feat3"
     ],
     "language": "python",
     "metadata": {},
     "outputs": [],
     "prompt_number": 14
    },
    {
     "cell_type": "code",
     "collapsed": false,
     "input": [
      "assert not feat2 > feat3"
     ],
     "language": "python",
     "metadata": {},
     "outputs": [],
     "prompt_number": 15
    },
    {
     "cell_type": "heading",
     "level": 5,
     "metadata": {},
     "source": [
      "`__le__`:"
     ]
    },
    {
     "cell_type": "code",
     "collapsed": false,
     "input": [
      "assert feat5 <= feat1"
     ],
     "language": "python",
     "metadata": {},
     "outputs": [],
     "prompt_number": 16
    },
    {
     "cell_type": "code",
     "collapsed": false,
     "input": [
      "assert not feat4 > feat1"
     ],
     "language": "python",
     "metadata": {},
     "outputs": [],
     "prompt_number": 18
    },
    {
     "cell_type": "heading",
     "level": 5,
     "metadata": {},
     "source": [
      "`__gt__`:"
     ]
    },
    {
     "cell_type": "code",
     "collapsed": false,
     "input": [
      "assert feat3 > feat2"
     ],
     "language": "python",
     "metadata": {},
     "outputs": [],
     "prompt_number": 19
    },
    {
     "cell_type": "code",
     "collapsed": false,
     "input": [
      "assert not feat3 < feat2"
     ],
     "language": "python",
     "metadata": {},
     "outputs": [],
     "prompt_number": 20
    },
    {
     "cell_type": "heading",
     "level": 5,
     "metadata": {},
     "source": [
      "`__ge__`:"
     ]
    },
    {
     "cell_type": "code",
     "collapsed": false,
     "input": [
      "assert feat1 >= feat5"
     ],
     "language": "python",
     "metadata": {},
     "outputs": [],
     "prompt_number": 21
    },
    {
     "cell_type": "heading",
     "level": 5,
     "metadata": {},
     "source": [
      "`__contains__`:"
     ]
    },
    {
     "cell_type": "code",
     "collapsed": false,
     "input": [
      "assert feat1 in feat2"
     ],
     "language": "python",
     "metadata": {},
     "outputs": [],
     "prompt_number": 24
    },
    {
     "cell_type": "code",
     "collapsed": false,
     "input": [
      "assert feat4 in feat1"
     ],
     "language": "python",
     "metadata": {},
     "outputs": [],
     "prompt_number": 25
    },
    {
     "cell_type": "code",
     "collapsed": false,
     "input": [
      "assert not feat1 in feat4"
     ],
     "language": "python",
     "metadata": {},
     "outputs": [],
     "prompt_number": 26
    },
    {
     "cell_type": "heading",
     "level": 3,
     "metadata": {},
     "source": [
      "Sorting behavior:"
     ]
    },
    {
     "cell_type": "code",
     "collapsed": false,
     "input": [
      "for i in sorted(feat_list):\n",
      "    print i"
     ],
     "language": "python",
     "metadata": {},
     "outputs": [
      {
       "output_type": "stream",
       "stream": "stdout",
       "text": [
        "1-10\n",
        "5-15\n",
        "5-15\n",
        "7-10\n",
        "10-17\n",
        "20-35\n"
       ]
      }
     ],
     "prompt_number": 27
    },
    {
     "cell_type": "code",
     "collapsed": false,
     "input": [],
     "language": "python",
     "metadata": {},
     "outputs": []
    }
   ],
   "metadata": {}
  }
 ]
}