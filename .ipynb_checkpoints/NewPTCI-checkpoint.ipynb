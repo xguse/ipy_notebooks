{
 "metadata": {
  "name": ""
 },
 "nbformat": 3,
 "nbformat_minor": 0,
 "worksheets": [
  {
   "cells": [
    {
     "cell_type": "markdown",
     "metadata": {},
     "source": [
      "# Explore how different PTCI calculations affect a spectrum of expression-, tfbs-profile correlation, and divergence values"
     ]
    },
    {
     "cell_type": "code",
     "collapsed": false,
     "input": [
      "from gfunc.dev import devel as dev\n",
      "from gfunc import xpermutations as combine\n",
      "\n",
      "import pandas as pd\n",
      "import numpy as np\n",
      "\n",
      "from collections import defaultdict\n",
      "\n",
      "#a = 1.5\n",
      "#rcParams['figure.figsize'] = 8*a, 6*a"
     ],
     "language": "python",
     "metadata": {},
     "outputs": [],
     "prompt_number": 21
    },
    {
     "cell_type": "code",
     "collapsed": false,
     "input": [
      "pd.set_option('max_rows',200)\n",
      "pd.set_option('max_columns',200)\n",
      "pd.set_option('notebook_repr_html',False)"
     ],
     "language": "python",
     "metadata": {},
     "outputs": [],
     "prompt_number": 22
    },
    {
     "cell_type": "code",
     "collapsed": false,
     "input": [
      "base_dir = '/home/gus/Dropbox/common/projects/Aa_Ag_Cq_As/gfunc_stuff/ptci_calc_parameter_space'"
     ],
     "language": "python",
     "metadata": {},
     "outputs": [],
     "prompt_number": 23
    },
    {
     "cell_type": "markdown",
     "metadata": {},
     "source": [
      "## Set up score spectrums for expression/tfbs/divergence:"
     ]
    },
    {
     "cell_type": "code",
     "collapsed": false,
     "input": [
      "xprn = np.arange(-1,1.1,0.1).round(1)"
     ],
     "language": "python",
     "metadata": {},
     "outputs": [],
     "prompt_number": 24
    },
    {
     "cell_type": "code",
     "collapsed": false,
     "input": [
      "tfbs = np.arange(-1,1.1,0.1).round(1)"
     ],
     "language": "python",
     "metadata": {},
     "outputs": [],
     "prompt_number": 25
    },
    {
     "cell_type": "code",
     "collapsed": false,
     "input": [
      "dvrg = np.array([1.1,1.5])"
     ],
     "language": "python",
     "metadata": {},
     "outputs": [],
     "prompt_number": 26
    },
    {
     "cell_type": "markdown",
     "metadata": {},
     "source": [
      "## Define function to generate parameter combinations:"
     ]
    },
    {
     "cell_type": "code",
     "collapsed": false,
     "input": [
      "def cartesian(arrays, out=None):\n",
      "    \"\"\"\n",
      "    Generate a cartesian product of input arrays.\n",
      "\n",
      "    Parameters\n",
      "    ----------\n",
      "    arrays : list of array-like\n",
      "        1-D arrays to form the cartesian product of.\n",
      "    out : ndarray\n",
      "        Array to place the cartesian product in.\n",
      "\n",
      "    Returns\n",
      "    -------\n",
      "    out : ndarray\n",
      "        2-D array of shape (M, len(arrays)) containing cartesian products\n",
      "        formed of input arrays.\n",
      "\n",
      "    Examples\n",
      "    --------\n",
      "    >>> cartesian(([1, 2, 3], [4, 5], [6, 7]))\n",
      "    array([[1, 4, 6],\n",
      "           [1, 4, 7],\n",
      "           [1, 5, 6],\n",
      "           [1, 5, 7],\n",
      "           [2, 4, 6],\n",
      "           [2, 4, 7],\n",
      "           [2, 5, 6],\n",
      "           [2, 5, 7],\n",
      "           [3, 4, 6],\n",
      "           [3, 4, 7],\n",
      "           [3, 5, 6],\n",
      "           [3, 5, 7]])\n",
      "\n",
      "    \"\"\"\n",
      "\n",
      "    arrays = [np.asarray(x) for x in arrays]\n",
      "    dtype = arrays[0].dtype\n",
      "\n",
      "    n = np.prod([x.size for x in arrays])\n",
      "    if out is None:\n",
      "        out = np.zeros([n, len(arrays)], dtype=dtype)\n",
      "\n",
      "    m = n / arrays[0].size\n",
      "    out[:,0] = np.repeat(arrays[0], m)\n",
      "    if arrays[1:]:\n",
      "        cartesian(arrays[1:], out=out[0:m,1:])\n",
      "        for j in xrange(1, arrays[0].size):\n",
      "            out[j*m:(j+1)*m,1:] = out[0:m,1:]\n",
      "    return out"
     ],
     "language": "python",
     "metadata": {},
     "outputs": [],
     "prompt_number": 27
    },
    {
     "cell_type": "markdown",
     "metadata": {},
     "source": [
      "## Define function to apply multiple functions to a set of parameters and record each result set:"
     ]
    },
    {
     "cell_type": "code",
     "collapsed": false,
     "input": [
      "def apply_funcs_to_2_parameters(funcs,params):\n",
      "    \"\"\"\n",
      "    applies a dict of functions (funcs) to a list of parameters (params).\n",
      "    \n",
      "    returns a dict of results trees (nested dicts) keyed on the keys from funcs.\n",
      "    \"\"\"\n",
      "    \n",
      "    dict_tree = lambda: defaultdict(dict_tree)\n",
      "    \n",
      "    results = {}\n",
      "    \n",
      "    for func_name,function in funcs.iteritems():\n",
      "        results[func_name] = dict_tree()\n",
      "        r = results[func_name]\n",
      "        \n",
      "        for param_set in params:\n",
      "            r[param_set[0]][param_set[1]] = function(param_set)\n",
      "    \n",
      "    return results\n",
      "    "
     ],
     "language": "python",
     "metadata": {},
     "outputs": [],
     "prompt_number": 28
    },
    {
     "cell_type": "markdown",
     "metadata": {},
     "source": [
      "## Define functions to display results"
     ]
    },
    {
     "cell_type": "code",
     "collapsed": false,
     "input": [
      "def plot_results_from_one_function(dataframe,titl='',xlabl='',ylabl='',save=False):\n",
      "    \"\"\"\n",
      "    \"\"\"\n",
      "    df = dataframe\n",
      "    \n",
      "    pcolor(df)\n",
      "    xticks(arange(len(df.columns))+0.5,tuple(df.columns),rotation=90)\n",
      "    yticks(arange(len(df.columns))+0.5,tuple(df.columns))\n",
      "    xlim(0,len(df.columns))\n",
      "    ylim(0,len(df.index))\n",
      "    title(titl)\n",
      "    xlabel(xlabl)\n",
      "    ylabel(ylabl)\n",
      "    colorbar()\n",
      "    subplots_adjust(bottom=0.15)\n",
      "    \n",
      "    if save:\n",
      "        savefig(save)\n",
      "    \n",
      "\n",
      "def plot_results_from_one_function_subplots(dataframe,ax,titl='',xlabl='',ylabl=''):\n",
      "    \"\"\"\n",
      "    \"\"\"\n",
      "    df = dataframe\n",
      "    \n",
      "    cbar = colorbar(ax.pcolor(df,cmap=cm.Blues))\n",
      "    \n",
      "    ax.set_xticks(arange(len(df.columns)) + 0.5)\n",
      "    ax.set_xticklabels(tuple(df.columns))\n",
      "    \n",
      "    ax.set_yticks(arange(len(df.index))+ 0.5)\n",
      "    ax.set_yticklabels(tuple(df.index))\n",
      "    \n",
      "    ax.set_title(titl)\n",
      "    ax.set_xlabel(xlabl)\n",
      "    ax.set_ylabel(ylabl)\n",
      "\n",
      "def plot_results_from_all_functions(results_dict,xlabl='',ylabl=''):\n",
      "    \"\"\"\n",
      "    \"\"\"\n",
      "    fig,ax_list = subplots(len(results_dict),sharex=True,sharey=True)\n",
      "\n",
      "    \n",
      "    for i,func_name in enumerate(results_dict.keys()):\n",
      "        dataframe = pd.DataFrame(results_dict[func_name])\n",
      "        ax = ax_list[i]\n",
      "        titl=func_name\n",
      "\n",
      "        plot_results_from_one_function(dataframe,ax,titl,xlabl,ylabl)"
     ],
     "language": "python",
     "metadata": {},
     "outputs": [],
     "prompt_number": 29
    },
    {
     "cell_type": "markdown",
     "metadata": {},
     "source": [
      "## Evaluate results from xprn vs tfbs"
     ]
    },
    {
     "cell_type": "code",
     "collapsed": false,
     "input": [
      "def f1(params):\n",
      "    x,t = params\n",
      "    return x*t\n",
      "\n",
      "def f2(params):\n",
      "    x,t = params\n",
      "    return x+t"
     ],
     "language": "python",
     "metadata": {},
     "outputs": [],
     "prompt_number": 30
    },
    {
     "cell_type": "code",
     "collapsed": false,
     "input": [
      "functions = {'multiply':f1,'add':f2}"
     ],
     "language": "python",
     "metadata": {},
     "outputs": [],
     "prompt_number": 31
    },
    {
     "cell_type": "code",
     "collapsed": false,
     "input": [
      "x_vs_t = cartesian([xprn,tfbs])\n",
      "r_dict_xvt = apply_funcs_to_2_parameters(functions,x_vs_t)"
     ],
     "language": "python",
     "metadata": {},
     "outputs": [],
     "prompt_number": 32
    },
    {
     "cell_type": "markdown",
     "metadata": {},
     "source": [
      "# What would a good combination score look like?"
     ]
    },
    {
     "cell_type": "markdown",
     "metadata": {},
     "source": [
      "      xprn       tfbs      score  \n",
      "    =========  =========  =========\n",
      "     [-----]    [-----]    [-----]\n",
      "     [+++++]    [+++++]    [+++++]\n",
      "     [-----]    [+++  ]    [--   ]\n",
      "     [+++++]    [---  ]    [+++  ]\n",
      "     [0    ]    [0    ]    [0    ]\n",
      "     [+++++]    [0    ]    [++++ ]"
     ]
    },
    {
     "cell_type": "markdown",
     "metadata": {},
     "source": [
      "- we should trust the **xprn** more than **tfbs** data because the motif scans are prone to false positive identifications"
     ]
    },
    {
     "cell_type": "markdown",
     "metadata": {},
     "source": [
      "# xprn * tfbs"
     ]
    },
    {
     "cell_type": "code",
     "collapsed": false,
     "input": [
      "mult_xvt = pd.DataFrame(r_dict_xvt['multiply'])\n",
      "fig = plot_results_from_one_function(mult_xvt, titl=r'xprn * tfbs', xlabl='xprn r_vals', ylabl='tfbs r_vals',save='%s/mult_xvt.pdf' % (base_dir))"
     ],
     "language": "python",
     "metadata": {},
     "outputs": [
      {
       "metadata": {},
       "output_type": "display_data",
       "png": "[encoded data removed]",
       "text": [
        "<matplotlib.figure.Figure at 0x52b0490>"
       ]
      }
     ],
     "prompt_number": 33
    },
    {
     "cell_type": "markdown",
     "metadata": {},
     "source": [
      "      xprn       tfbs      score  \n",
      "    =========  =========  =========\n",
      "     [-----]    [-----]    [-----]\n",
      "     [+++++]    [+++++]    [+++++]\n",
      "     [-----]    [+++  ]    [--   ]\n",
      "     [+++++]    [---  ]    [+++  ]\n",
      "     [0    ]    [0    ]    [0    ]\n",
      "     [+++++]    [0    ]    [++++ ]"
     ]
    },
    {
     "cell_type": "markdown",
     "metadata": {},
     "source": [
      "# xprn + tfbs"
     ]
    },
    {
     "cell_type": "code",
     "collapsed": false,
     "input": [
      "add_xvt = pd.DataFrame(r_dict_xvt['add'])\n",
      "plot_results_from_one_function(add_xvt, titl=r'$r_{x} + r_{t}$', xlabl=r'expression profile correlation coefficient ($r_{x}$)', ylabl=r'TFBS profile correlation coefficient ($r_{t}$)',save='%s/thesis-xprn-tfbs.png' % (base_dir))"
     ],
     "language": "python",
     "metadata": {},
     "outputs": [
      {
       "metadata": {},
       "output_type": "display_data",
       "png": "[encoded data removed]",
       "text": [
        "<matplotlib.figure.Figure at 0x5db4b50>"
       ]
      }
     ],
     "prompt_number": 34
    },
    {
     "cell_type": "markdown",
     "metadata": {},
     "source": [
      "      xprn       tfbs      score  \n",
      "    =========  =========  =========\n",
      "     [-----]    [-----]    [-----]\n",
      "     [+++++]    [+++++]    [+++++]\n",
      "     [-----]    [+++  ]    [--   ]\n",
      "     [+++++]    [---  ]    [+++  ]\n",
      "     [0    ]    [0    ]    [0    ]\n",
      "     [+++++]    [0    ]    [++++ ]"
     ]
    },
    {
     "cell_type": "markdown",
     "metadata": {},
     "source": [
      "# Shift the tfbs r-values so that they span $0$ to $2$ instead of $-1$ to $+1$ to avoid $-1 \\cdot -1$ scoring the same as $1\\cdot1$ :"
     ]
    },
    {
     "cell_type": "code",
     "collapsed": false,
     "input": [
      "x_vs_st = cartesian([xprn,(tfbs+1)])\n",
      "r_dict_xvst = apply_funcs_to_2_parameters(functions,x_vs_st)"
     ],
     "language": "python",
     "metadata": {},
     "outputs": [],
     "prompt_number": 35
    },
    {
     "cell_type": "code",
     "collapsed": false,
     "input": [
      "(tfbs+1)"
     ],
     "language": "python",
     "metadata": {},
     "outputs": [
      {
       "metadata": {},
       "output_type": "pyout",
       "prompt_number": 36,
       "text": [
        "array([ 0. ,  0.1,  0.2,  0.3,  0.4,  0.5,  0.6,  0.7,  0.8,  0.9,  1. ,\n",
        "        1.1,  1.2,  1.3,  1.4,  1.5,  1.6,  1.7,  1.8,  1.9,  2. ])"
       ]
      }
     ],
     "prompt_number": 36
    },
    {
     "cell_type": "markdown",
     "metadata": {},
     "source": [
      "# xprn * shifted(tfbs)"
     ]
    },
    {
     "cell_type": "markdown",
     "metadata": {},
     "source": [
      "mult_xvst = pd.DataFrame(r_dict_xvst['multiply'])\n",
      "plot_results_from_one_function(mult_xvst, titl='xprn * shifted(tfbs)', xlabl='xprn r_vals', ylabl='tfbs r_vals',save='%s/mult_xvst.pdf' % (base_dir))"
     ]
    },
    {
     "cell_type": "markdown",
     "metadata": {},
     "source": [
      "      xprn       tfbs      score  \n",
      "    =========  =========  =========\n",
      "     [-----]    [-----]    [-----]\n",
      "     [+++++]    [+++++]    [+++++]\n",
      "     [-----]    [+++  ]    [--   ]\n",
      "     [+++++]    [---  ]    [+++  ]\n",
      "     [0    ]    [0    ]    [0    ]\n",
      "     [+++++]    [0    ]    [++++ ]"
     ]
    },
    {
     "cell_type": "markdown",
     "metadata": {},
     "source": [
      "# xprn + shifted(tfbs)"
     ]
    },
    {
     "cell_type": "markdown",
     "metadata": {},
     "source": [
      "add_xvst = pd.DataFrame(r_dict_xvst['add'])\n",
      "plot_results_from_one_function(add_xvst, titl='xprn + shifted(tfbs)', xlabl='xprn r_vals', ylabl='tfbs r_vals',save='%s/add_xvst.pdf' % (base_dir))"
     ]
    },
    {
     "cell_type": "markdown",
     "metadata": {},
     "source": [
      "      xprn       tfbs      score  \n",
      "    =========  =========  =========\n",
      "     [-----]    [-----]    [-----]\n",
      "     [+++++]    [+++++]    [+++++]\n",
      "     [-----]    [+++  ]    [--   ]\n",
      "     [+++++]    [---  ]    [+++  ]\n",
      "     [0    ]    [0    ]    [0    ]\n",
      "     [+++++]    [0    ]    [++++ ]"
     ]
    },
    {
     "cell_type": "markdown",
     "metadata": {},
     "source": [
      "# xprn + shifted(tfbs) is almost what I want\n",
      "\n",
      "- **-xprn** and **-tfbs** scores are ranked lowest\n",
      "- neutral **xprn** and **tfbs** scores are ranked in the middle\n",
      "- **+xprn** and **+tfbs** scores are ranked at the top\n",
      "\n",
      "# BUT...\n",
      "\n",
      "\n",
      "- I would like to punish the **tfbs** results so that it acts only as a **supplement** to the **xprn** data not nearly it's equal"
     ]
    },
    {
     "cell_type": "markdown",
     "metadata": {},
     "source": [
      "# Scale the tfbs data to < |1| as it's top contribution to the addition on either side of zero:"
     ]
    },
    {
     "cell_type": "code",
     "collapsed": false,
     "input": [
      "x_vs_st_ = cartesian([xprn,(tfbs)/2])\n",
      "r_dict_xvst_ = apply_funcs_to_2_parameters(functions,x_vs_st_)"
     ],
     "language": "python",
     "metadata": {},
     "outputs": [],
     "prompt_number": 37
    },
    {
     "cell_type": "code",
     "collapsed": false,
     "input": [
      "(tfbs)/2"
     ],
     "language": "python",
     "metadata": {},
     "outputs": [
      {
       "metadata": {},
       "output_type": "pyout",
       "prompt_number": 38,
       "text": [
        "array([-0.5 , -0.45, -0.4 , -0.35, -0.3 , -0.25, -0.2 , -0.15, -0.1 ,\n",
        "       -0.05, -0.  ,  0.05,  0.1 ,  0.15,  0.2 ,  0.25,  0.3 ,  0.35,\n",
        "        0.4 ,  0.45,  0.5 ])"
       ]
      }
     ],
     "prompt_number": 38
    },
    {
     "cell_type": "code",
     "collapsed": false,
     "input": [
      "add_xvst_ = pd.DataFrame(r_dict_xvst_['add'])\n",
      "plot_results_from_one_function(add_xvst_, titl=r'$r_{x} + \\frac{r_{t}}{2}$', xlabl=r'expression profile correlation coefficient ($r_{x}$)', ylabl=r'TFBS profile correlation coefficient ($r_{t}$)',save='%s/thesis-xprn-scaled-tfbs.png' % (base_dir))"
     ],
     "language": "python",
     "metadata": {},
     "outputs": [
      {
       "metadata": {},
       "output_type": "display_data",
       "png": "[encoded data removed]",
       "text": [
        "<matplotlib.figure.Figure at 0x529d610>"
       ]
      }
     ],
     "prompt_number": 39
    },
    {
     "cell_type": "markdown",
     "metadata": {},
     "source": [
      "      xprn       tfbs      score  \n",
      "    =========  =========  =========\n",
      "     [-----]    [-----]    [-----]\n",
      "     [+++++]    [+++++]    [+++++]\n",
      "     [-----]    [+++  ]    [--   ]\n",
      "     [+++++]    [---  ]    [+++  ]\n",
      "     [0    ]    [0    ]    [0    ]\n",
      "     [+++++]    [0    ]    [++++ ]"
     ]
    },
    {
     "cell_type": "markdown",
     "metadata": {},
     "source": [
      "x_vs_st_ = cartesian([xprn,(tfbs)/3])\n",
      "r_dict_xvst_ = apply_funcs_to_2_parameters(functions,x_vs_st_)"
     ]
    },
    {
     "cell_type": "code",
     "collapsed": false,
     "input": [
      "(tfbs)/3"
     ],
     "language": "python",
     "metadata": {},
     "outputs": [
      {
       "metadata": {},
       "output_type": "pyout",
       "prompt_number": 40,
       "text": [
        "array([-0.33333333, -0.3       , -0.26666667, -0.23333333, -0.2       ,\n",
        "       -0.16666667, -0.13333333, -0.1       , -0.06666667, -0.03333333,\n",
        "       -0.        ,  0.03333333,  0.06666667,  0.1       ,  0.13333333,\n",
        "        0.16666667,  0.2       ,  0.23333333,  0.26666667,  0.3       ,\n",
        "        0.33333333])"
       ]
      }
     ],
     "prompt_number": 40
    },
    {
     "cell_type": "markdown",
     "metadata": {},
     "source": [
      "add_xvst_ = pd.DataFrame(r_dict_xvst_['add'])\n",
      "plot_results_from_one_function(add_xvst_, titl='xprn + scaled(tfbs_)', xlabl='xprn r_vals', ylabl='tfbs r_vals',save='%s/add_xvst_.pdf' % (base_dir))"
     ]
    },
    {
     "cell_type": "code",
     "collapsed": false,
     "input": [],
     "language": "python",
     "metadata": {},
     "outputs": [],
     "prompt_number": 40
    }
   ],
   "metadata": {}
  }
 ]
}