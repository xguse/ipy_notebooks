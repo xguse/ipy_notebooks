{
 "metadata": {
  "name": ""
 },
 "nbformat": 3,
 "nbformat_minor": 0,
 "worksheets": [
  {
   "cells": [
    {
     "cell_type": "code",
     "collapsed": false,
     "input": [
      "from gfunc.dev.motifs import norm_and_save_STEME_SCAN"
     ],
     "language": "python",
     "metadata": {},
     "outputs": [],
     "prompt_number": 1
    },
    {
     "cell_type": "markdown",
     "metadata": {},
     "source": [
      "#### Setup parameter variables:"
     ]
    },
    {
     "cell_type": "code",
     "collapsed": false,
     "input": [
      "pssm_matrix_path = '/home/gus/Dropbox/common/motif_databases/JASPAR_CORE_2009.meme'\n",
      "\n",
      "STEME_list = ['/home/gus/Dropbox/common/projects/Aa_Ag_Cq_As/gfunc_stuff/motif_searches/steme_searches/Aa_Z50_L001_MKV4/steme-pwm-scan',\n",
      "              '/home/gus/Dropbox/common/projects/Aa_Ag_Cq_As/gfunc_stuff/motif_searches/steme_searches/Ag_Z50_L001_MKV4/steme-pwm-scan',\n",
      "              '/home/gus/Dropbox/common/projects/Aa_Ag_Cq_As/gfunc_stuff/motif_searches/steme_searches/Cq_Z50_L001_MKV4/steme-pwm-scan']\n",
      "\n",
      "species = ['Aedes aegypti','Anopheles gambiae','Culex quinquefasciatus']\n",
      "spc_abrv = ['Aa','Ag','Cq']\n",
      "\n",
      "out_path_common = '/home/gus/Dropbox/common/projects/Aa_Ag_Cq_As/gfunc_stuff/motif_searches'\n",
      "out_name_common = 'AaAgCq_ortho_2000up.MEAN_standardized_motif_scores.STEME_Z50_L001_MKV4.JASPAR_CORE_2009_meme.tsv'"
     ],
     "language": "python",
     "metadata": {},
     "outputs": [],
     "prompt_number": 2
    },
    {
     "cell_type": "markdown",
     "metadata": {},
     "source": [
      "#### Iterate through:"
     ]
    },
    {
     "cell_type": "code",
     "collapsed": false,
     "input": [
      "for i,STEME_path in enumerate(STEME_list):\n",
      "    out_path = '%s/%s_%s' % (out_path_common,spc_abrv[i],out_name_common)\n",
      "    norm_and_save_STEME_SCAN(steme_pwm_scan_out='%s.out' % (STEME_path),\n",
      "                             steme_pwm_scan_seqs='%s.seqs' % (STEME_path),\n",
      "                             motif_file_meme=pssm_matrix_path,\n",
      "                             species=species[i],\n",
      "                             out_path=out_path)\n",
      "    print 'round done'"
     ],
     "language": "python",
     "metadata": {},
     "outputs": [
      {
       "output_type": "stream",
       "stream": "stdout",
       "text": [
        "round done\n",
        "round done"
       ]
      },
      {
       "output_type": "stream",
       "stream": "stdout",
       "text": [
        "\n",
        "round done"
       ]
      },
      {
       "output_type": "stream",
       "stream": "stdout",
       "text": [
        "\n"
       ]
      }
     ],
     "prompt_number": 3
    },
    {
     "cell_type": "code",
     "collapsed": false,
     "input": [],
     "language": "python",
     "metadata": {},
     "outputs": [],
     "prompt_number": 3
    }
   ],
   "metadata": {}
  }
 ]
}