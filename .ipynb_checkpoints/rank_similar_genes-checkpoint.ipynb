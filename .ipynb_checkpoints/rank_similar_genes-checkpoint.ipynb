{
 "metadata": {
  "name": ""
 },
 "nbformat": 3,
 "nbformat_minor": 0,
 "worksheets": [
  {
   "cells": [
    {
     "cell_type": "code",
     "collapsed": false,
     "input": [
      "import pandas as pd\n",
      "from scipy.stats import pearsonr\n",
      "import rpy2\n",
      "from spartan.utils import gtf\n",
      "from spartan.utils import cufflinks\n",
      "reload(cufflinks)"
     ],
     "language": "python",
     "metadata": {},
     "outputs": [
      {
       "metadata": {},
       "output_type": "pyout",
       "prompt_number": 1,
       "text": [
        "<module 'spartan.utils.cufflinks' from '/home/gus/Dropbox/repos/git/spartan/src/spartan/utils/cufflinks.pyc'>"
       ]
      }
     ],
     "prompt_number": 1
    },
    {
     "cell_type": "code",
     "collapsed": false,
     "input": [
      "%load_ext memory_profiler"
     ],
     "language": "python",
     "metadata": {},
     "outputs": [],
     "prompt_number": 2
    },
    {
     "cell_type": "heading",
     "level": 1,
     "metadata": {},
     "source": [
      "Explore getting Pearson and ranking with small data"
     ]
    },
    {
     "cell_type": "code",
     "collapsed": false,
     "input": [
      "Aa_file = '/home/gus/Dropbox/common/projects/Aa_Ag_Cq_As/gfunc_stuff/prelim_gene_analysis/ecr_team_20130903/ptci_1_X/target_gene_profiles_from_cummerbund/AaTargetOrthos.csv'"
     ],
     "language": "python",
     "metadata": {},
     "outputs": [],
     "prompt_number": 3
    },
    {
     "cell_type": "code",
     "collapsed": false,
     "input": [
      "AaFPKMs = pd.read_table(Aa_file, sep=',', header=0, index_col=0)"
     ],
     "language": "python",
     "metadata": {},
     "outputs": [],
     "prompt_number": 4
    },
    {
     "cell_type": "code",
     "collapsed": false,
     "input": [
      "AaFPKMs"
     ],
     "language": "python",
     "metadata": {},
     "outputs": [
      {
       "html": [
        "<div style=\"max-height:1000px;max-width:1500px;overflow:auto;\">\n",
        "<table border=\"1\" class=\"dataframe\">\n",
        "  <thead>\n",
        "    <tr style=\"text-align: right;\">\n",
        "      <th></th>\n",
        "      <th>Aa_00</th>\n",
        "      <th>Aa_04</th>\n",
        "      <th>Aa_06</th>\n",
        "      <th>Aa_08</th>\n",
        "      <th>Aa_10</th>\n",
        "    </tr>\n",
        "  </thead>\n",
        "  <tbody>\n",
        "    <tr>\n",
        "      <th>AAEL008319</th>\n",
        "      <td>  12.82540</td>\n",
        "      <td>  112.8270</td>\n",
        "      <td>  131.75200</td>\n",
        "      <td>  162.5130</td>\n",
        "      <td>  173.3900</td>\n",
        "    </tr>\n",
        "    <tr>\n",
        "      <th>AAEL017064</th>\n",
        "      <td>  44.34630</td>\n",
        "      <td>   70.9555</td>\n",
        "      <td>   91.87570</td>\n",
        "      <td>  106.7060</td>\n",
        "      <td>  105.4400</td>\n",
        "    </tr>\n",
        "    <tr>\n",
        "      <th>AAEL014345</th>\n",
        "      <td>  68.74950</td>\n",
        "      <td>  128.9900</td>\n",
        "      <td>  139.30300</td>\n",
        "      <td>  160.4810</td>\n",
        "      <td>  163.8370</td>\n",
        "    </tr>\n",
        "    <tr>\n",
        "      <th>AAEL001887</th>\n",
        "      <td>  42.11010</td>\n",
        "      <td> 4033.2500</td>\n",
        "      <td> 4134.32000</td>\n",
        "      <td> 4035.6900</td>\n",
        "      <td> 3460.1800</td>\n",
        "    </tr>\n",
        "    <tr>\n",
        "      <th>AAEL014298</th>\n",
        "      <td>   4.20717</td>\n",
        "      <td>   13.5855</td>\n",
        "      <td>    7.68083</td>\n",
        "      <td>   11.1886</td>\n",
        "      <td>   10.9656</td>\n",
        "    </tr>\n",
        "    <tr>\n",
        "      <th>AAEL003318</th>\n",
        "      <td> 181.64700</td>\n",
        "      <td> 5544.8800</td>\n",
        "      <td> 4422.76000</td>\n",
        "      <td> 4121.3900</td>\n",
        "      <td> 3487.3600</td>\n",
        "    </tr>\n",
        "    <tr>\n",
        "      <th>AAEL000388</th>\n",
        "      <td>  55.12520</td>\n",
        "      <td>   75.2552</td>\n",
        "      <td>   72.65770</td>\n",
        "      <td>   56.6974</td>\n",
        "      <td>   36.9212</td>\n",
        "    </tr>\n",
        "    <tr>\n",
        "      <th>AAEL002387</th>\n",
        "      <td>  20.00310</td>\n",
        "      <td>   39.8934</td>\n",
        "      <td>   51.25740</td>\n",
        "      <td>   50.9431</td>\n",
        "      <td>   49.1633</td>\n",
        "    </tr>\n",
        "  </tbody>\n",
        "</table>\n",
        "</div>"
       ],
       "metadata": {},
       "output_type": "pyout",
       "prompt_number": 5,
       "text": [
        "                Aa_00      Aa_04       Aa_06      Aa_08      Aa_10\n",
        "AAEL008319   12.82540   112.8270   131.75200   162.5130   173.3900\n",
        "AAEL017064   44.34630    70.9555    91.87570   106.7060   105.4400\n",
        "AAEL014345   68.74950   128.9900   139.30300   160.4810   163.8370\n",
        "AAEL001887   42.11010  4033.2500  4134.32000  4035.6900  3460.1800\n",
        "AAEL014298    4.20717    13.5855     7.68083    11.1886    10.9656\n",
        "AAEL003318  181.64700  5544.8800  4422.76000  4121.3900  3487.3600\n",
        "AAEL000388   55.12520    75.2552    72.65770    56.6974    36.9212\n",
        "AAEL002387   20.00310    39.8934    51.25740    50.9431    49.1633"
       ]
      }
     ],
     "prompt_number": 5
    },
    {
     "cell_type": "code",
     "collapsed": false,
     "input": [
      "target = AaFPKMs.ix['AAEL003318']"
     ],
     "language": "python",
     "metadata": {},
     "outputs": [],
     "prompt_number": 6
    },
    {
     "cell_type": "code",
     "collapsed": false,
     "input": [
      "AaFPKMs.T.corr()"
     ],
     "language": "python",
     "metadata": {},
     "outputs": [
      {
       "html": [
        "<div style=\"max-height:1000px;max-width:1500px;overflow:auto;\">\n",
        "<table border=\"1\" class=\"dataframe\">\n",
        "  <thead>\n",
        "    <tr style=\"text-align: right;\">\n",
        "      <th></th>\n",
        "      <th>AAEL008319</th>\n",
        "      <th>AAEL017064</th>\n",
        "      <th>AAEL014345</th>\n",
        "      <th>AAEL001887</th>\n",
        "      <th>AAEL014298</th>\n",
        "      <th>AAEL003318</th>\n",
        "      <th>AAEL000388</th>\n",
        "      <th>AAEL002387</th>\n",
        "    </tr>\n",
        "  </thead>\n",
        "  <tbody>\n",
        "    <tr>\n",
        "      <th>AAEL008319</th>\n",
        "      <td> 1.000000</td>\n",
        "      <td> 0.971599</td>\n",
        "      <td> 0.999495</td>\n",
        "      <td> 0.876275</td>\n",
        "      <td> 0.716763</td>\n",
        "      <td> 0.729975</td>\n",
        "      <td>-0.206155</td>\n",
        "      <td> 0.956760</td>\n",
        "    </tr>\n",
        "    <tr>\n",
        "      <th>AAEL017064</th>\n",
        "      <td> 0.971599</td>\n",
        "      <td> 1.000000</td>\n",
        "      <td> 0.972543</td>\n",
        "      <td> 0.791176</td>\n",
        "      <td> 0.552376</td>\n",
        "      <td> 0.590053</td>\n",
        "      <td>-0.291846</td>\n",
        "      <td> 0.949699</td>\n",
        "    </tr>\n",
        "    <tr>\n",
        "      <th>AAEL014345</th>\n",
        "      <td> 0.999495</td>\n",
        "      <td> 0.972543</td>\n",
        "      <td> 1.000000</td>\n",
        "      <td> 0.878225</td>\n",
        "      <td> 0.723003</td>\n",
        "      <td> 0.732388</td>\n",
        "      <td>-0.199190</td>\n",
        "      <td> 0.956026</td>\n",
        "    </tr>\n",
        "    <tr>\n",
        "      <th>AAEL001887</th>\n",
        "      <td> 0.876275</td>\n",
        "      <td> 0.791176</td>\n",
        "      <td> 0.878225</td>\n",
        "      <td> 1.000000</td>\n",
        "      <td> 0.792184</td>\n",
        "      <td> 0.955832</td>\n",
        "      <td> 0.285441</td>\n",
        "      <td> 0.921511</td>\n",
        "    </tr>\n",
        "    <tr>\n",
        "      <th>AAEL014298</th>\n",
        "      <td> 0.716763</td>\n",
        "      <td> 0.552376</td>\n",
        "      <td> 0.723003</td>\n",
        "      <td> 0.792184</td>\n",
        "      <td> 1.000000</td>\n",
        "      <td> 0.856358</td>\n",
        "      <td> 0.114417</td>\n",
        "      <td> 0.602877</td>\n",
        "    </tr>\n",
        "    <tr>\n",
        "      <th>AAEL003318</th>\n",
        "      <td> 0.729975</td>\n",
        "      <td> 0.590053</td>\n",
        "      <td> 0.732388</td>\n",
        "      <td> 0.955832</td>\n",
        "      <td> 0.856358</td>\n",
        "      <td> 1.000000</td>\n",
        "      <td> 0.458200</td>\n",
        "      <td> 0.768062</td>\n",
        "    </tr>\n",
        "    <tr>\n",
        "      <th>AAEL000388</th>\n",
        "      <td>-0.206155</td>\n",
        "      <td>-0.291846</td>\n",
        "      <td>-0.199190</td>\n",
        "      <td> 0.285441</td>\n",
        "      <td> 0.114417</td>\n",
        "      <td> 0.458200</td>\n",
        "      <td> 1.000000</td>\n",
        "      <td>-0.002120</td>\n",
        "    </tr>\n",
        "    <tr>\n",
        "      <th>AAEL002387</th>\n",
        "      <td> 0.956760</td>\n",
        "      <td> 0.949699</td>\n",
        "      <td> 0.956026</td>\n",
        "      <td> 0.921511</td>\n",
        "      <td> 0.602877</td>\n",
        "      <td> 0.768062</td>\n",
        "      <td>-0.002120</td>\n",
        "      <td> 1.000000</td>\n",
        "    </tr>\n",
        "  </tbody>\n",
        "</table>\n",
        "</div>"
       ],
       "metadata": {},
       "output_type": "pyout",
       "prompt_number": 7,
       "text": [
        "            AAEL008319  AAEL017064  AAEL014345  AAEL001887  AAEL014298  \\\n",
        "AAEL008319    1.000000    0.971599    0.999495    0.876275    0.716763   \n",
        "AAEL017064    0.971599    1.000000    0.972543    0.791176    0.552376   \n",
        "AAEL014345    0.999495    0.972543    1.000000    0.878225    0.723003   \n",
        "AAEL001887    0.876275    0.791176    0.878225    1.000000    0.792184   \n",
        "AAEL014298    0.716763    0.552376    0.723003    0.792184    1.000000   \n",
        "AAEL003318    0.729975    0.590053    0.732388    0.955832    0.856358   \n",
        "AAEL000388   -0.206155   -0.291846   -0.199190    0.285441    0.114417   \n",
        "AAEL002387    0.956760    0.949699    0.956026    0.921511    0.602877   \n",
        "\n",
        "            AAEL003318  AAEL000388  AAEL002387  \n",
        "AAEL008319    0.729975   -0.206155    0.956760  \n",
        "AAEL017064    0.590053   -0.291846    0.949699  \n",
        "AAEL014345    0.732388   -0.199190    0.956026  \n",
        "AAEL001887    0.955832    0.285441    0.921511  \n",
        "AAEL014298    0.856358    0.114417    0.602877  \n",
        "AAEL003318    1.000000    0.458200    0.768062  \n",
        "AAEL000388    0.458200    1.000000   -0.002120  \n",
        "AAEL002387    0.768062   -0.002120    1.000000  "
       ]
      }
     ],
     "prompt_number": 7
    },
    {
     "cell_type": "heading",
     "level": 1,
     "metadata": {},
     "source": [
      "Write ``def`` to dump FPKM tables using rpy2"
     ]
    },
    {
     "cell_type": "markdown",
     "metadata": {},
     "source": [
      "I wrote a quick R script to do this instead.  Basically just recoreded the process for one and repeaded it for the others chaning the inputs/outputs:\n",
      "\n",
      "    /home/gus/Dropbox/common/projects/Aa_Ag_Cq_As/RNAseq_results/bio/dunnw/data/4mosqs_mg_RNAseq/gtf_strict/gene_fpkm_dumps/rebuild_dbs_dump_gene_fpkm_and_annotations.R"
     ]
    },
    {
     "cell_type": "heading",
     "level": 1,
     "metadata": {},
     "source": [
      "Write ``def`` to return ranked gene names vs target if given a large data frame"
     ]
    },
    {
     "cell_type": "code",
     "collapsed": false,
     "input": [
      "def get_correlation_matrix(dataframe,transpose=True):\n",
      "    \"\"\"\n",
      "    \"\"\"\n",
      "    if transpose:\n",
      "        corr_matrix = dataframe.T.corr()\n",
      "    else:\n",
      "        corr_matrix = dataframe.corr()\n",
      "\n",
      "    return corr_matrix\n",
      "\n",
      "def get_ranked_vectors_for_gene(gene_name,correlation_matrix):\n",
      "    \"\"\"\n",
      "    \"\"\"\n",
      "    \n",
      "    gene_vector = correlation_matrix[gene_name].copy()\n",
      "    \n",
      "    gene_vector.sort(ascending=False)\n",
      "    \n",
      "    return gene_vector\n",
      "    "
     ],
     "language": "python",
     "metadata": {},
     "outputs": [],
     "prompt_number": 8
    },
    {
     "cell_type": "code",
     "collapsed": false,
     "input": [
      "corr_mat = get_correlation_matrix(AaFPKMs)\n",
      "\n",
      "AAEL003318_set = get_ranked_vectors_for_gene('AAEL003318', corr_mat)"
     ],
     "language": "python",
     "metadata": {},
     "outputs": [],
     "prompt_number": 9
    },
    {
     "cell_type": "code",
     "collapsed": false,
     "input": [
      "AAEL003318_set"
     ],
     "language": "python",
     "metadata": {},
     "outputs": [
      {
       "metadata": {},
       "output_type": "pyout",
       "prompt_number": 10,
       "text": [
        "AAEL003318    1.000000\n",
        "AAEL001887    0.955832\n",
        "AAEL014298    0.856358\n",
        "AAEL002387    0.768062\n",
        "AAEL014345    0.732388\n",
        "AAEL008319    0.729975\n",
        "AAEL017064    0.590053\n",
        "AAEL000388    0.458200\n",
        "Name: AAEL003318, dtype: float64"
       ]
      }
     ],
     "prompt_number": 10
    },
    {
     "cell_type": "heading",
     "level": 1,
     "metadata": {},
     "source": [
      "Write def to make a map from XLOC to '``nearest_ref``' and back using the GTF"
     ]
    },
    {
     "cell_type": "code",
     "collapsed": false,
     "input": [
      "name_maps = cufflinks.get_XLOC_to_nearest_ref_map('/home/gus/Dropbox/common/projects/Aa_Ag_Cq_As/RNAseq_results/bio/dunnw/data/4mosqs_mg_RNAseq/gtf_strict/cuffmerge_Ag_00_0.Ag_04_0.Ag_06_0.Ag_08_0.Ag_10_0/merged.gtf')"
     ],
     "language": "python",
     "metadata": {},
     "outputs": [
      {
       "ename": "ValueError",
       "evalue": "dictionary update sequence element #0 has length 26817; 2 is required",
       "output_type": "pyerr",
       "traceback": [
        "\u001b[1;31m---------------------------------------------------------------------------\u001b[0m\n\u001b[1;31mValueError\u001b[0m                                Traceback (most recent call last)",
        "\u001b[1;32m<ipython-input-12-9da72200e992>\u001b[0m in \u001b[0;36m<module>\u001b[1;34m()\u001b[0m\n\u001b[1;32m----> 1\u001b[1;33m \u001b[0mname_maps\u001b[0m \u001b[1;33m=\u001b[0m \u001b[0mcufflinks\u001b[0m\u001b[1;33m.\u001b[0m\u001b[0mget_XLOC_to_nearest_ref_map\u001b[0m\u001b[1;33m(\u001b[0m\u001b[1;34m'/home/gus/Dropbox/common/projects/Aa_Ag_Cq_As/RNAseq_results/bio/dunnw/data/4mosqs_mg_RNAseq/gtf_strict/cuffmerge_Ag_00_0.Ag_04_0.Ag_06_0.Ag_08_0.Ag_10_0/merged.gtf'\u001b[0m\u001b[1;33m)\u001b[0m\u001b[1;33m\u001b[0m\u001b[0m\n\u001b[0m",
        "\u001b[1;32m/home/gus/Dropbox/repos/git/spartan/src/spartan/utils/cufflinks.pyc\u001b[0m in \u001b[0;36mget_XLOC_to_nearest_ref_map\u001b[1;34m(merged_gtf, kind)\u001b[0m\n\u001b[0;32m     72\u001b[0m         \u001b[0mname_maps\u001b[0m\u001b[1;33m[\u001b[0m\u001b[0mxloc\u001b[0m\u001b[1;33m]\u001b[0m \u001b[1;33m=\u001b[0m \u001b[1;34m','\u001b[0m\u001b[1;33m.\u001b[0m\u001b[0mjoin\u001b[0m\u001b[1;33m(\u001b[0m\u001b[0msorted\u001b[0m\u001b[1;33m(\u001b[0m\u001b[0mlist\u001b[0m\u001b[1;33m(\u001b[0m\u001b[0mnearest_set\u001b[0m\u001b[1;33m)\u001b[0m\u001b[1;33m)\u001b[0m\u001b[1;33m)\u001b[0m\u001b[1;33m\u001b[0m\u001b[0m\n\u001b[0;32m     73\u001b[0m \u001b[1;33m\u001b[0m\u001b[0m\n\u001b[1;32m---> 74\u001b[1;33m     \u001b[1;32mreturn\u001b[0m \u001b[0mXLOCmapping\u001b[0m\u001b[1;33m(\u001b[0m\u001b[0mdict\u001b[0m\u001b[1;33m(\u001b[0m\u001b[0mname_maps\u001b[0m\u001b[1;33m)\u001b[0m\u001b[1;33m)\u001b[0m\u001b[1;33m\u001b[0m\u001b[0m\n\u001b[0m\u001b[0;32m     75\u001b[0m \u001b[1;33m\u001b[0m\u001b[0m\n\u001b[0;32m     76\u001b[0m \u001b[1;32mclass\u001b[0m \u001b[0mXLOCmapping\u001b[0m\u001b[1;33m(\u001b[0m\u001b[0mdict\u001b[0m\u001b[1;33m)\u001b[0m\u001b[1;33m:\u001b[0m\u001b[1;33m\u001b[0m\u001b[0m\n",
        "\u001b[1;32m/home/gus/Dropbox/repos/git/spartan/src/spartan/utils/cufflinks.pyc\u001b[0m in \u001b[0;36m__init__\u001b[1;34m(self, *args)\u001b[0m\n\u001b[0;32m     78\u001b[0m     \"\"\"\n\u001b[0;32m     79\u001b[0m     \u001b[1;32mdef\u001b[0m \u001b[0m__init__\u001b[0m\u001b[1;33m(\u001b[0m\u001b[0mself\u001b[0m\u001b[1;33m,\u001b[0m \u001b[1;33m*\u001b[0m\u001b[0margs\u001b[0m\u001b[1;33m)\u001b[0m\u001b[1;33m:\u001b[0m\u001b[1;33m\u001b[0m\u001b[0m\n\u001b[1;32m---> 80\u001b[1;33m         \u001b[0mdict\u001b[0m\u001b[1;33m.\u001b[0m\u001b[0m__init__\u001b[0m\u001b[1;33m(\u001b[0m\u001b[0mself\u001b[0m\u001b[1;33m,\u001b[0m \u001b[0margs\u001b[0m\u001b[1;33m)\u001b[0m\u001b[1;33m\u001b[0m\u001b[0m\n\u001b[0m\u001b[0;32m     81\u001b[0m \u001b[1;33m\u001b[0m\u001b[0m\n\u001b[0;32m     82\u001b[0m     \u001b[1;32mdef\u001b[0m \u001b[0m__getitem__\u001b[0m\u001b[1;33m(\u001b[0m\u001b[0mself\u001b[0m\u001b[1;33m,\u001b[0m\u001b[0mkey\u001b[0m\u001b[1;33m)\u001b[0m\u001b[1;33m:\u001b[0m\u001b[1;33m\u001b[0m\u001b[0m\n",
        "\u001b[1;31mValueError\u001b[0m: dictionary update sequence element #0 has length 26817; 2 is required"
       ]
      }
     ],
     "prompt_number": 12
    },
    {
     "cell_type": "code",
     "collapsed": false,
     "input": [
      "len(name_maps)"
     ],
     "language": "python",
     "metadata": {},
     "outputs": []
    },
    {
     "cell_type": "code",
     "collapsed": false,
     "input": [
      "name_maps.keys()[-5:]"
     ],
     "language": "python",
     "metadata": {},
     "outputs": []
    },
    {
     "cell_type": "code",
     "collapsed": false,
     "input": [
      "name_maps['AGAP000000']"
     ],
     "language": "python",
     "metadata": {},
     "outputs": []
    },
    {
     "cell_type": "heading",
     "level": 1,
     "metadata": {},
     "source": [
      "Def to translate dataframe row names (gene names) from XLOC"
     ]
    },
    {
     "cell_type": "code",
     "collapsed": false,
     "input": [
      "fpkm_path = '/home/gus/Dropbox/common/projects/Aa_Ag_Cq_As/RNAseq_results/bio/dunnw/data/4mosqs_mg_RNAseq/gtf_strict/gene_fpkm_dumps/Ag.fpkm'\n",
      "\n",
      "ag_fpkms = pd.read_table(fpkm_path, sep=' ', )"
     ],
     "language": "python",
     "metadata": {},
     "outputs": []
    },
    {
     "cell_type": "code",
     "collapsed": false,
     "input": [
      "x = 40\n",
      "ag_fpkms[x:x+20]"
     ],
     "language": "python",
     "metadata": {},
     "outputs": []
    },
    {
     "cell_type": "code",
     "collapsed": false,
     "input": [
      "ag_fpkms.ix[['XLOC_000042','XLOC_000047','XLOC_000043','x']]"
     ],
     "language": "python",
     "metadata": {},
     "outputs": []
    },
    {
     "cell_type": "code",
     "collapsed": false,
     "input": [
      "ag_corr = get_correlation_matrix(ag_fpkms)"
     ],
     "language": "python",
     "metadata": {},
     "outputs": []
    },
    {
     "cell_type": "code",
     "collapsed": false,
     "input": [
      "rnkd_vectors = get_ranked_vectors_for_gene(name_maps['AGAP010383'],ag_corr)"
     ],
     "language": "python",
     "metadata": {},
     "outputs": []
    },
    {
     "cell_type": "heading",
     "level": 1,
     "metadata": {},
     "source": [
      "Extract fpkm data from dataframe for gene list"
     ]
    },
    {
     "cell_type": "code",
     "collapsed": false,
     "input": [
      "ag_orthos = '/home/gus/Dropbox/common/korea_data/orthologs/Ag_orthologs.txt'"
     ],
     "language": "python",
     "metadata": {},
     "outputs": []
    },
    {
     "cell_type": "code",
     "collapsed": false,
     "input": [
      "ag_orthos = [x.strip() for x in open(ag_orthos,'rU')]"
     ],
     "language": "python",
     "metadata": {},
     "outputs": []
    },
    {
     "cell_type": "code",
     "collapsed": false,
     "input": [
      "len(ag_orthos)"
     ],
     "language": "python",
     "metadata": {},
     "outputs": []
    },
    {
     "cell_type": "code",
     "collapsed": false,
     "input": [
      "len([name_maps[x] for x in ag_orthos])"
     ],
     "language": "python",
     "metadata": {},
     "outputs": []
    },
    {
     "cell_type": "code",
     "collapsed": false,
     "input": [
      "rnkd_vectors[None]"
     ],
     "language": "python",
     "metadata": {},
     "outputs": []
    },
    {
     "cell_type": "code",
     "collapsed": false,
     "input": [
      "name_maps['AGAP000000']"
     ],
     "language": "python",
     "metadata": {},
     "outputs": []
    }
   ],
   "metadata": {}
  }
 ]
}