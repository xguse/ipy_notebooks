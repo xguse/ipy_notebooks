{
 "metadata": {
  "name": ""
 },
 "nbformat": 3,
 "nbformat_minor": 0,
 "worksheets": [
  {
   "cells": [
    {
     "cell_type": "heading",
     "level": 1,
     "metadata": {},
     "source": [
      "Load required modules"
     ]
    },
    {
     "cell_type": "code",
     "collapsed": false,
     "input": [
      "from gfunc.dev import devel as gdev\n",
      "\n",
      "from spartan.utils import cufflinks\n",
      "from spartan.utils import spandas as spd\n",
      "from spartan.utils.externals import mkdirp\n",
      "\n",
      "import numpy as np\n",
      "import pandas as pd\n",
      "from matplotlib import  pylab as plt"
     ],
     "language": "python",
     "metadata": {},
     "outputs": []
    },
    {
     "cell_type": "heading",
     "level": 1,
     "metadata": {},
     "source": [
      "Figure settings"
     ]
    },
    {
     "cell_type": "code",
     "collapsed": false,
     "input": [
      "cluster_name = 'downAt4'\n",
      "cluster_id = 19"
     ],
     "language": "python",
     "metadata": {},
     "outputs": []
    },
    {
     "cell_type": "code",
     "collapsed": false,
     "input": [
      "a = 2\n",
      "rcParams['figure.figsize'] = 8*a, 6*a\n",
      "\n",
      "rcParams['font.size'] = 14"
     ],
     "language": "python",
     "metadata": {},
     "outputs": []
    },
    {
     "cell_type": "code",
     "collapsed": false,
     "input": [
      "save_figs = True\n",
      "save_dir = '/home/gus/Dropbox/repos/git/uci-thesis-latex/figures/figs/ecr_and_insects_ptci_20130903/%s_gene_profiles_from_cummerbund' % (cluster_name)\n",
      "\n",
      "mkdirp(save_dir)"
     ],
     "language": "python",
     "metadata": {},
     "outputs": []
    },
    {
     "cell_type": "code",
     "collapsed": false,
     "input": [
      "def save_figure(save_as):\n",
      "    if save_figs:\n",
      "        out_path = '%s/%s' % (save_dir.rstrip('/'),save_as)\n",
      "        print 'saving figure as: %s' % (out_path)\n",
      "        savefig(out_path)"
     ],
     "language": "python",
     "metadata": {},
     "outputs": []
    },
    {
     "cell_type": "heading",
     "level": 1,
     "metadata": {},
     "source": [
      "Load an instance of the ortholog graph to facilitate comparisons"
     ]
    },
    {
     "cell_type": "code",
     "collapsed": false,
     "input": [
      "ortho_graph = gdev.load_graph('/home/gus/Dropbox/common/projects/Aa_Ag_Cq_As/basic_ortho_graph.gpkl')\n",
      "node_dict= ortho_graph.node['maps']['nodes']\n",
      "edge_dict= ortho_graph.node['maps']['edges']"
     ],
     "language": "python",
     "metadata": {},
     "outputs": []
    },
    {
     "cell_type": "heading",
     "level": 1,
     "metadata": {},
     "source": [
      "Load FPKM data retrieved from cummeRbund"
     ]
    },
    {
     "cell_type": "code",
     "collapsed": false,
     "input": [
      "Aa_file = '/home/gus/Dropbox/common/projects/Aa_Ag_Cq_As/RNAseq_results/bio/dunnw/data/4mosqs_mg_RNAseq/gtf_strict/gene_fpkm_dumps/Aa.fpkm'\n",
      "Ag_file = '/home/gus/Dropbox/common/projects/Aa_Ag_Cq_As/RNAseq_results/bio/dunnw/data/4mosqs_mg_RNAseq/gtf_strict/gene_fpkm_dumps/Ag.fpkm'\n",
      "Cq_file = '/home/gus/Dropbox/common/projects/Aa_Ag_Cq_As/RNAseq_results/bio/dunnw/data/4mosqs_mg_RNAseq/gtf_strict/gene_fpkm_dumps/Cq.fpkm'"
     ],
     "language": "python",
     "metadata": {},
     "outputs": []
    },
    {
     "cell_type": "code",
     "collapsed": false,
     "input": [
      "AaFPKMs = pd.read_table(Aa_file, sep=' ', header=0, index_col=0)\n",
      "AgFPKMs = pd.read_table(Ag_file, sep=' ', header=0, index_col=0)\n",
      "CqFPKMs = pd.read_table(Cq_file, sep=' ', header=0, index_col=0)"
     ],
     "language": "python",
     "metadata": {},
     "outputs": []
    },
    {
     "cell_type": "heading",
     "level": 1,
     "metadata": {},
     "source": [
      "Load name mappings from Cufflinks generated IDs to Vectorbase Accession IDs"
     ]
    },
    {
     "cell_type": "code",
     "collapsed": false,
     "input": [
      "AaGTF = '/home/gus/Dropbox/common/projects/Aa_Ag_Cq_As/RNAseq_results/bio/dunnw/data/4mosqs_mg_RNAseq/gtf_strict/cuffmerge_Aa_00_0.Aa_04_0.Aa_06_0.Aa_08_0.Aa_10_0/merged.gtf'\n",
      "AgGTF = '/home/gus/Dropbox/common/projects/Aa_Ag_Cq_As/RNAseq_results/bio/dunnw/data/4mosqs_mg_RNAseq/gtf_strict/cuffmerge_Ag_00_0.Ag_04_0.Ag_06_0.Ag_08_0.Ag_10_0/merged.gtf'\n",
      "CqGTF = '/home/gus/Dropbox/common/projects/Aa_Ag_Cq_As/RNAseq_results/bio/dunnw/data/4mosqs_mg_RNAseq/gtf_strict/cuffmerge_Cq_00_0.Cq_04_0.Cq_06_0.Cq_08_0.Cq_10_0/merged.gtf'"
     ],
     "language": "python",
     "metadata": {},
     "outputs": []
    },
    {
     "cell_type": "code",
     "collapsed": false,
     "input": [
      "Aa_xloc2vb = cufflinks.get_XLOC_to_nearest_ref_map(AaGTF)\n",
      "Ag_xloc2vb = cufflinks.get_XLOC_to_nearest_ref_map(AgGTF)\n",
      "Cq_xloc2vb = cufflinks.get_XLOC_to_nearest_ref_map(CqGTF)"
     ],
     "language": "python",
     "metadata": {},
     "outputs": []
    },
    {
     "cell_type": "heading",
     "level": 1,
     "metadata": {},
     "source": [
      "Load ortholog names"
     ]
    },
    {
     "cell_type": "code",
     "collapsed": false,
     "input": [
      "Aa_orthos = '/home/gus/Dropbox/common/projects/Aa_Ag_Cq_As/gfunc_stuff/prelim_gene_analysis/ecr_OR_insect_20130903/ptci_1_0/all/ecr_OR_insect_meanPTCI_thresh_1_gene_names.AAEL.txt'\n",
      "Ag_orthos = '/home/gus/Dropbox/common/projects/Aa_Ag_Cq_As/gfunc_stuff/prelim_gene_analysis/ecr_OR_insect_20130903/ptci_1_0/all/ecr_OR_insect_meanPTCI_thresh_1_gene_names.AGAP.txt'\n",
      "Cq_orthos = '/home/gus/Dropbox/common/projects/Aa_Ag_Cq_As/gfunc_stuff/prelim_gene_analysis/ecr_OR_insect_20130903/ptci_1_0/all/ecr_OR_insect_meanPTCI_thresh_1_gene_names.CPIJ.txt'"
     ],
     "language": "python",
     "metadata": {},
     "outputs": []
    },
    {
     "cell_type": "code",
     "collapsed": false,
     "input": [
      "Aa_orthos = [x.rstrip('\\n') for x in open(Aa_orthos,'rU')]\n",
      "Ag_orthos = [x.rstrip('\\n') for x in open(Ag_orthos,'rU')]\n",
      "Cq_orthos = [x.rstrip('\\n') for x in open(Cq_orthos,'rU')]"
     ],
     "language": "python",
     "metadata": {},
     "outputs": []
    },
    {
     "cell_type": "heading",
     "level": 1,
     "metadata": {},
     "source": [
      "Load promoter fastas and prepare for export"
     ]
    },
    {
     "cell_type": "code",
     "collapsed": false,
     "input": [
      "fasta_list_promoters = ['/home/gus/Dropbox/common/korea_data/orthologs/Aa_AaAgCq_ortho_2000up.fasta',\n",
      "                        '/home/gus/Dropbox/common/korea_data/orthologs/Ag_AaAgCq_ortho_2000up.fasta',\n",
      "                        '/home/gus/Dropbox/common/korea_data/orthologs/Cq_AaAgCq_ortho_2000up.fasta']"
     ],
     "language": "python",
     "metadata": {},
     "outputs": []
    },
    {
     "cell_type": "heading",
     "level": 1,
     "metadata": {},
     "source": [
      "Begin plotting the orthologs' mRNA abundance profiles"
     ]
    },
    {
     "cell_type": "code",
     "collapsed": false,
     "input": [
      "def plot_abundance_profiles(data_frame,title_text=False,draw_legend=True,transpose=True,cm='spectral',logy=0,plt_med=True):\n",
      "    \"\"\"\n",
      "    \"\"\"\n",
      "    \n",
      "    df = spd.stddf(data_frame,1)\n",
      "    df.T.plot(marker='o',logy=logy, colormap=cm, lw=4,ms=11,legend=draw_legend)\n",
      "    if plt_med:\n",
      "        df.median().plot('median', color='grey', ls='-', lw=20,logy=logy, alpha=0.7)\n",
      "    xlabel('Time point')\n",
      "    ylabel('standardized abundance profile')\n",
      "    if title_text:\n",
      "        title(title_text)\n",
      "    if draw_legend:\n",
      "        leg = legend(fancybox=True)\n",
      "        leg.get_frame().set_alpha(0.6)"
     ],
     "language": "python",
     "metadata": {},
     "outputs": []
    },
    {
     "cell_type": "code",
     "collapsed": false,
     "input": [
      "glist = '/home/gus/Dropbox/common/projects/Aa_Ag_Cq_As/gfunc_stuff/prelim_gene_analysis/ecr_OR_insect_20130903/ptci_1_0/clusters/XoLg_cls%s.names.AGAP.txt' % (cluster_id)\n",
      "glist = [x.strip() for x in open(glist)]"
     ],
     "language": "python",
     "metadata": {},
     "outputs": []
    },
    {
     "cell_type": "code",
     "collapsed": false,
     "input": [
      "Ag_target_FPKMs_vb_orthos = pd.DataFrame(gdev.get_neighbors(gene_list = glist, graph = ortho_graph, node_dict = node_dict))"
     ],
     "language": "python",
     "metadata": {},
     "outputs": []
    },
    {
     "cell_type": "heading",
     "level": 1,
     "metadata": {},
     "source": [
      "Write ortholog data out for later"
     ]
    },
    {
     "cell_type": "code",
     "collapsed": false,
     "input": [
      "Ag_target_FPKMs_vb_orthos"
     ],
     "language": "python",
     "metadata": {},
     "outputs": []
    },
    {
     "cell_type": "code",
     "collapsed": false,
     "input": [
      "ortho_out = '/home/gus/Dropbox/common/projects/Aa_Ag_Cq_As/gfunc_stuff/prelim_gene_analysis/ecr_OR_insect_20130903/ptci_1_0/clusters/XoLg_cls%s.names.all.txt' % (cluster_id)"
     ],
     "language": "python",
     "metadata": {},
     "outputs": []
    },
    {
     "cell_type": "code",
     "collapsed": false,
     "input": [
      "ortho_out = open(ortho_out,'w')\n",
      "\n",
      "ortho_names = list(Ag_target_FPKMs_vb_orthos.stack())\n",
      "\n",
      "for gene in ortho_names:\n",
      "    ortho_out.write('%s\\n' % (gene))\n",
      "\n",
      "ortho_out.close()"
     ],
     "language": "python",
     "metadata": {},
     "outputs": []
    },
    {
     "cell_type": "code",
     "collapsed": false,
     "input": [
      "pos_path = '/home/gus/Dropbox/common/projects/Aa_Ag_Cq_As/gfunc_stuff/prelim_gene_analysis/ecr_OR_insect_20130903/ptci_1_0/clusters/cls%s/ecr_OR_insect_meanPTCI_thresh_1_genes_%s_cls%s.2000up.positives.fasta' % (cluster_id,cluster_name, cluster_id)\n",
      "neg_path = '/home/gus/Dropbox/common/projects/Aa_Ag_Cq_As/gfunc_stuff/prelim_gene_analysis/ecr_OR_insect_20130903/ptci_1_0/clusters/cls%s/ecr_OR_insect_meanPTCI_thresh_1_genes_%s_cls%s.2000up.negatives.fasta' % (cluster_id,cluster_name, cluster_id)\n",
      "\n",
      "gdev.write_pos_neg_seq_fastas(pos_names=ortho_names,fasta_paths=fasta_list_promoters,pos_path=pos_path,neg_path=neg_path,neg_names='left_overs')"
     ],
     "language": "python",
     "metadata": {},
     "outputs": []
    },
    {
     "cell_type": "heading",
     "level": 2,
     "metadata": {},
     "source": [
      "Plot profiles based on N-way ortholog sets matching '``Ag_target_FPKMs_vb``'"
     ]
    },
    {
     "cell_type": "code",
     "collapsed": false,
     "input": [
      "AaFPKMs_AgOrthos_vb = AaFPKMs.ix[[Aa_xloc2vb[x] for x in list(Ag_target_FPKMs_vb_orthos[0])]]\n",
      "AaFPKMs_AgOrthos_vb.index = [Aa_xloc2vb[x] for x in list(AaFPKMs_AgOrthos_vb.index)]"
     ],
     "language": "python",
     "metadata": {},
     "outputs": []
    },
    {
     "cell_type": "code",
     "collapsed": false,
     "input": [
      "AgFPKMs_AgOrthos_vb = AgFPKMs.ix[[Ag_xloc2vb[x] for x in list(Ag_target_FPKMs_vb_orthos[1])]]\n",
      "AgFPKMs_AgOrthos_vb.index = [Ag_xloc2vb[x] for x in list(AgFPKMs_AgOrthos_vb.index)]"
     ],
     "language": "python",
     "metadata": {},
     "outputs": []
    },
    {
     "cell_type": "code",
     "collapsed": false,
     "input": [
      "CqFPKMs_AgOrthos_vb = CqFPKMs.ix[[Cq_xloc2vb[x] for x in list(Ag_target_FPKMs_vb_orthos[2])]]\n",
      "CqFPKMs_AgOrthos_vb.index = [Cq_xloc2vb[x] for x in list(CqFPKMs_AgOrthos_vb.index)]"
     ],
     "language": "python",
     "metadata": {},
     "outputs": []
    },
    {
     "cell_type": "code",
     "collapsed": false,
     "input": [
      "plot_abundance_profiles(AaFPKMs_AgOrthos_vb,draw_legend=1,cm='spectral',logy=0)\n",
      "save_figure('Aa_%s_cls%s_Ag_target_FPKMs_vb_orthos.pdf' % (cluster_name,cluster_id))"
     ],
     "language": "python",
     "metadata": {},
     "outputs": []
    },
    {
     "cell_type": "code",
     "collapsed": false,
     "input": [
      "plot_abundance_profiles(AgFPKMs_AgOrthos_vb,draw_legend=1,cm='spectral',logy=0)\n",
      "save_figure('Ag_%s_cls%s_Ag_target_FPKMs_vb_orthos.pdf' % (cluster_name,cluster_id))"
     ],
     "language": "python",
     "metadata": {},
     "outputs": []
    },
    {
     "cell_type": "code",
     "collapsed": false,
     "input": [
      "plot_abundance_profiles(CqFPKMs_AgOrthos_vb+1,draw_legend=1,cm='spectral',logy=0)\n",
      "save_figure('Cq_%s_cls%s_Ag_target_FPKMs_vb_orthos.pdf' % (cluster_name,cluster_id))"
     ],
     "language": "python",
     "metadata": {},
     "outputs": []
    },
    {
     "cell_type": "heading",
     "level": 1,
     "metadata": {},
     "source": [
      "Load the Argot2 results that match the genes above"
     ]
    },
    {
     "cell_type": "code",
     "collapsed": false,
     "input": [
      "argot2 = pd.read_table('/home/gus/Dropbox/common/projects/Aa_Ag_Cq_As/gfunc_stuff/prelim_gene_analysis/ecr_OR_insect_20130903/ptci_1_0/all/argot2/ecr_OR_insect_meanPTCI_thresh_1_genes.PEPTIDES.blast.argot2.results.tsv')"
     ],
     "language": "python",
     "metadata": {},
     "outputs": []
    },
    {
     "cell_type": "code",
     "collapsed": false,
     "input": [
      "def get_argot_records_for_gene(df,gene_names,total_score=200):\n",
      "    \"\"\"\n",
      "    \"\"\"\n",
      "    if type(gene_names) == type([]):\n",
      "        gene_names = '|'.join(gene_names)\n",
      "        \n",
      "    gene_mask = df.Sequence.str.contains(gene_names)\n",
      "    total_score_mask = df['Total Score'] >= total_score\n",
      "    \n",
      "    return df[gene_mask & total_score_mask]\n",
      "    \n",
      "    "
     ],
     "language": "python",
     "metadata": {},
     "outputs": []
    },
    {
     "cell_type": "code",
     "collapsed": false,
     "input": [
      "argot_results = []\n",
      "\n",
      "\n",
      "for i in range(len(Ag_target_FPKMs_vb_orthos.index)):\n",
      "    argot_results.append(get_argot_records_for_gene(argot2,list(Ag_target_FPKMs_vb_orthos.ix[i]),150).sort('Total Score', ascending=False))"
     ],
     "language": "python",
     "metadata": {},
     "outputs": []
    },
    {
     "cell_type": "code",
     "collapsed": false,
     "input": [
      "len(argot_results)"
     ],
     "language": "python",
     "metadata": {},
     "outputs": []
    },
    {
     "cell_type": "heading",
     "level": 2,
     "metadata": {},
     "source": [
      "Display Argot2 results"
     ]
    },
    {
     "cell_type": "code",
     "collapsed": false,
     "input": [
      "argot_results[0].head(60)"
     ],
     "language": "python",
     "metadata": {},
     "outputs": []
    },
    {
     "cell_type": "code",
     "collapsed": false,
     "input": [
      "argot_results[1].head(60)"
     ],
     "language": "python",
     "metadata": {},
     "outputs": []
    },
    {
     "cell_type": "code",
     "collapsed": false,
     "input": [
      "argot_results[2].head(60)"
     ],
     "language": "python",
     "metadata": {},
     "outputs": []
    },
    {
     "cell_type": "code",
     "collapsed": false,
     "input": [
      "argot_results[3].head(60)"
     ],
     "language": "python",
     "metadata": {},
     "outputs": []
    },
    {
     "cell_type": "code",
     "collapsed": false,
     "input": [
      "argot_results[4].head(60)"
     ],
     "language": "python",
     "metadata": {},
     "outputs": []
    },
    {
     "cell_type": "code",
     "collapsed": false,
     "input": [
      "argot_results[5].head(60)"
     ],
     "language": "python",
     "metadata": {},
     "outputs": []
    },
    {
     "cell_type": "code",
     "collapsed": false,
     "input": [
      "argot_results[6].head(60)"
     ],
     "language": "python",
     "metadata": {},
     "outputs": []
    },
    {
     "cell_type": "code",
     "collapsed": false,
     "input": [
      "argot_results[7].head(60)"
     ],
     "language": "python",
     "metadata": {},
     "outputs": []
    },
    {
     "cell_type": "code",
     "collapsed": false,
     "input": [
      "argot_results[8].head(60)"
     ],
     "language": "python",
     "metadata": {},
     "outputs": []
    },
    {
     "cell_type": "code",
     "collapsed": false,
     "input": [
      "argot_results[9].head(60)"
     ],
     "language": "python",
     "metadata": {},
     "outputs": []
    },
    {
     "cell_type": "code",
     "collapsed": false,
     "input": [
      "argot_results[10].head(60)"
     ],
     "language": "python",
     "metadata": {},
     "outputs": []
    },
    {
     "cell_type": "code",
     "collapsed": false,
     "input": [
      "argot_results[11].head(60)"
     ],
     "language": "python",
     "metadata": {},
     "outputs": []
    },
    {
     "cell_type": "code",
     "collapsed": false,
     "input": [
      "argot_results[12].head(60)"
     ],
     "language": "python",
     "metadata": {},
     "outputs": []
    },
    {
     "cell_type": "code",
     "collapsed": false,
     "input": [
      "argot_results[13].head(60)"
     ],
     "language": "python",
     "metadata": {},
     "outputs": []
    },
    {
     "cell_type": "code",
     "collapsed": false,
     "input": [
      "argot_results[14].head(60)"
     ],
     "language": "python",
     "metadata": {},
     "outputs": []
    },
    {
     "cell_type": "code",
     "collapsed": false,
     "input": [
      "argot_results[15].head(60)"
     ],
     "language": "python",
     "metadata": {},
     "outputs": []
    },
    {
     "cell_type": "code",
     "collapsed": false,
     "input": [
      "argot_results[16].head(60)"
     ],
     "language": "python",
     "metadata": {},
     "outputs": []
    }
   ],
   "metadata": {}
  }
 ]
}