{
 "metadata": {
  "name": ""
 },
 "nbformat": 3,
 "nbformat_minor": 0,
 "worksheets": [
  {
   "cells": [
    {
     "cell_type": "heading",
     "level": 1,
     "metadata": {},
     "source": [
      "Load required modules"
     ]
    },
    {
     "cell_type": "code",
     "collapsed": false,
     "input": [
      "from gfunc.dev import devel as gdev\n",
      "\n",
      "from spartan.utils.externals import mkdirp\n",
      "from spartan.utils import pandas as spandas\n",
      "from spartan.utils import cufflinks\n",
      "\n",
      "import numpy as np\n",
      "import pandas as pd\n",
      "from matplotlib import  pylab as plt"
     ],
     "language": "python",
     "metadata": {},
     "outputs": [],
     "prompt_number": 1
    },
    {
     "cell_type": "heading",
     "level": 1,
     "metadata": {},
     "source": [
      "Figure settings"
     ]
    },
    {
     "cell_type": "code",
     "collapsed": false,
     "input": [
      "a = 2.2\n",
      "rcParams['figure.figsize'] = 8*a, 6*a\n",
      "\n",
      "rcParams['font.size'] = 14"
     ],
     "language": "python",
     "metadata": {},
     "outputs": [],
     "prompt_number": 2
    },
    {
     "cell_type": "code",
     "collapsed": false,
     "input": [
      "save_figs = True\n",
      "save_dir = '/home/gus/Dropbox/repos/git/uci-thesis-latex/figures/figs/ecr_and_insects_ptci_20130903/activated_gene_profiles_from_cummerbund'\n",
      "\n",
      "mkdirp(save_dir)"
     ],
     "language": "python",
     "metadata": {},
     "outputs": [],
     "prompt_number": 3
    },
    {
     "cell_type": "code",
     "collapsed": false,
     "input": [
      "def save_figure(save_as):\n",
      "    if save_figs:\n",
      "        out_path = '%s/%s' % (save_dir.rstrip('/'),save_as)\n",
      "        print 'saving figure as: %s' % (out_path)\n",
      "        savefig(out_path)"
     ],
     "language": "python",
     "metadata": {},
     "outputs": [],
     "prompt_number": 4
    },
    {
     "cell_type": "heading",
     "level": 1,
     "metadata": {},
     "source": [
      "Load an instance of the ortholog graph to facilitate comparisons"
     ]
    },
    {
     "cell_type": "code",
     "collapsed": false,
     "input": [
      "ortho_graph = gdev.load_graph('/home/gus/Dropbox/common/projects/Aa_Ag_Cq_As/basic_ortho_graph.gpkl')\n",
      "node_dict= ortho_graph.node['maps']['nodes']\n",
      "edge_dict= ortho_graph.node['maps']['edges']"
     ],
     "language": "python",
     "metadata": {},
     "outputs": [],
     "prompt_number": 5
    },
    {
     "cell_type": "heading",
     "level": 1,
     "metadata": {},
     "source": [
      "Load FPKM data retrieved from cummeRbund"
     ]
    },
    {
     "cell_type": "code",
     "collapsed": false,
     "input": [
      "Aa_file = '/home/gus/Dropbox/common/projects/Aa_Ag_Cq_As/RNAseq_results/bio/dunnw/data/4mosqs_mg_RNAseq/gtf_strict/gene_fpkm_dumps/Aa.fpkm'\n",
      "Ag_file = '/home/gus/Dropbox/common/projects/Aa_Ag_Cq_As/RNAseq_results/bio/dunnw/data/4mosqs_mg_RNAseq/gtf_strict/gene_fpkm_dumps/Ag.fpkm'\n",
      "Cq_file = '/home/gus/Dropbox/common/projects/Aa_Ag_Cq_As/RNAseq_results/bio/dunnw/data/4mosqs_mg_RNAseq/gtf_strict/gene_fpkm_dumps/Cq.fpkm'"
     ],
     "language": "python",
     "metadata": {},
     "outputs": [],
     "prompt_number": 6
    },
    {
     "cell_type": "code",
     "collapsed": false,
     "input": [
      "AaFPKMs = pd.read_table(Aa_file, sep=' ', header=0, index_col=0)\n",
      "AgFPKMs = pd.read_table(Ag_file, sep=' ', header=0, index_col=0)\n",
      "CqFPKMs = pd.read_table(Cq_file, sep=' ', header=0, index_col=0)"
     ],
     "language": "python",
     "metadata": {},
     "outputs": [],
     "prompt_number": 7
    },
    {
     "cell_type": "heading",
     "level": 1,
     "metadata": {},
     "source": [
      "Load name mappings from Cufflinks generated IDs to Vectorbase Accession IDs"
     ]
    },
    {
     "cell_type": "code",
     "collapsed": false,
     "input": [
      "AaGTF = '/home/gus/Dropbox/common/projects/Aa_Ag_Cq_As/RNAseq_results/bio/dunnw/data/4mosqs_mg_RNAseq/gtf_strict/cuffmerge_Aa_00_0.Aa_04_0.Aa_06_0.Aa_08_0.Aa_10_0/merged.gtf'\n",
      "AgGTF = '/home/gus/Dropbox/common/projects/Aa_Ag_Cq_As/RNAseq_results/bio/dunnw/data/4mosqs_mg_RNAseq/gtf_strict/cuffmerge_Ag_00_0.Ag_04_0.Ag_06_0.Ag_08_0.Ag_10_0/merged.gtf'\n",
      "CqGTF = '/home/gus/Dropbox/common/projects/Aa_Ag_Cq_As/RNAseq_results/bio/dunnw/data/4mosqs_mg_RNAseq/gtf_strict/cuffmerge_Cq_00_0.Cq_04_0.Cq_06_0.Cq_08_0.Cq_10_0/merged.gtf'"
     ],
     "language": "python",
     "metadata": {},
     "outputs": [],
     "prompt_number": "*"
    },
    {
     "cell_type": "code",
     "collapsed": false,
     "input": [
      "Aa_xloc2vb = cufflinks.get_XLOC_to_nearest_ref_map(AaGTF)\n",
      "Ag_xloc2vb = cufflinks.get_XLOC_to_nearest_ref_map(AgGTF)\n",
      "Cq_xloc2vb = cufflinks.get_XLOC_to_nearest_ref_map(CqGTF)"
     ],
     "language": "python",
     "metadata": {},
     "outputs": [],
     "prompt_number": "*"
    },
    {
     "cell_type": "heading",
     "level": 1,
     "metadata": {},
     "source": [
      "Filter FPKM data for N-way orthos with mean PTCI meeting threshold"
     ]
    },
    {
     "cell_type": "heading",
     "level": 3,
     "metadata": {},
     "source": [
      "Load ortholog names"
     ]
    },
    {
     "cell_type": "code",
     "collapsed": false,
     "input": [
      "Aa_orthos = '/home/gus/Dropbox/common/projects/Aa_Ag_Cq_As/gfunc_stuff/prelim_gene_analysis/ecr_OR_insect_20130903/ptci_1_0/ecr_OR_insect_meanPTCI_thresh_1_gene_names.AAEL.txt'\n",
      "Ag_orthos = '/home/gus/Dropbox/common/projects/Aa_Ag_Cq_As/gfunc_stuff/prelim_gene_analysis/ecr_OR_insect_20130903/ptci_1_0/ecr_OR_insect_meanPTCI_thresh_1_gene_names.AGAP.txt'\n",
      "Cq_orthos = '/home/gus/Dropbox/common/projects/Aa_Ag_Cq_As/gfunc_stuff/prelim_gene_analysis/ecr_OR_insect_20130903/ptci_1_0/ecr_OR_insect_meanPTCI_thresh_1_gene_names.CPIJ.txt'"
     ],
     "language": "python",
     "metadata": {},
     "outputs": [],
     "prompt_number": "*"
    },
    {
     "cell_type": "code",
     "collapsed": false,
     "input": [
      "Aa_orthos = [x.rstrip('\\n') for x in open(Aa_orthos,'rU')]\n",
      "Ag_orthos = [x.rstrip('\\n') for x in open(Ag_orthos,'rU')]\n",
      "Cq_orthos = [x.rstrip('\\n') for x in open(Cq_orthos,'rU')]"
     ],
     "language": "python",
     "metadata": {},
     "outputs": [],
     "prompt_number": "*"
    },
    {
     "cell_type": "heading",
     "level": 3,
     "metadata": {},
     "source": [
      "Define functions to prepare data for plotting"
     ]
    },
    {
     "cell_type": "code",
     "collapsed": false,
     "input": [
      "def get_and_rank_profiles_similar_to_x(dataframe,target,gene_list,xloc2vb):\n",
      "    \"\"\"\n",
      "    returns 'ready to plot' dataframe of gene abundance profiles ranked in order of profile similarity\n",
      "    to ``target`` (Vectorbase name).\n",
      "    \n",
      "    - gene names converted from XLOC to Vectorbase\n",
      "    \"\"\"\n",
      "    \n",
      "    # make new df from those in gene_list\n",
      "    gene_list_xlocs = list(set([xloc2vb[x] for x in gene_list]))\n",
      "    filtered_df = dataframe.ix[gene_list_xlocs]\n",
      "    \n",
      "    # make corr matrix and drop genes with NaN as value\n",
      "    corr_mat = filtered_df.T.corr(method='pearson' )\n",
      "    #corr_mat = corr_mat.dropna()\n",
      "    \n",
      "    # get Series of ranked corr vals for target\n",
      "    target_set = spandas.get_ranked_corrs_against_item(xloc2vb[target],corr_mat)\n",
      "    \n",
      "    # re-order filtered_df based on target_set rankings\n",
      "    filtered_df = filtered_df.ix[target_set.index]\n",
      "    \n",
      "    return target_set,filtered_df\n",
      "\n",
      "def get_profiles_by_correlation(dataframe,target_set,threshold=0.95):\n",
      "    \"\"\"\n",
      "    \"\"\"\n",
      "    filtered_indexes = list(target_set[target_set >= .95].index)\n",
      "    \n",
      "    return dataframe.ix[filtered_indexes]"
     ],
     "language": "python",
     "metadata": {},
     "outputs": [],
     "prompt_number": "*"
    },
    {
     "cell_type": "code",
     "collapsed": false,
     "input": [
      "target = 'AGAP010383'\n",
      "target_set,filtered_df = get_and_rank_profiles_similar_to_x(AgFPKMs,target,Ag_orthos,Ag_xloc2vb)"
     ],
     "language": "python",
     "metadata": {},
     "outputs": [],
     "prompt_number": "*"
    },
    {
     "cell_type": "code",
     "collapsed": false,
     "input": [
      "Ag_xloc2vb[target]"
     ],
     "language": "python",
     "metadata": {},
     "outputs": [],
     "prompt_number": "*"
    },
    {
     "cell_type": "code",
     "collapsed": false,
     "input": [
      "Ag_xloc2vb['AGAP008988']"
     ],
     "language": "python",
     "metadata": {},
     "outputs": [],
     "prompt_number": "*"
    },
    {
     "cell_type": "code",
     "collapsed": false,
     "input": [
      "filtered_df.head()"
     ],
     "language": "python",
     "metadata": {},
     "outputs": [],
     "prompt_number": "*"
    },
    {
     "cell_type": "code",
     "collapsed": false,
     "input": [
      "target_set[target_set >= .95]"
     ],
     "language": "python",
     "metadata": {},
     "outputs": [],
     "prompt_number": "*"
    },
    {
     "cell_type": "code",
     "collapsed": false,
     "input": [
      "get_profiles_by_correlation(AgFPKMs,target_set)"
     ],
     "language": "python",
     "metadata": {},
     "outputs": [],
     "prompt_number": "*"
    },
    {
     "cell_type": "code",
     "collapsed": false,
     "input": [
      "Aa_target = 'AAEL001887'\n",
      "Aa_target_corrs_xloc,Aa_target_FPKMs_xloc = get_and_rank_profiles_similar_to_x(AaFPKMs,Aa_target,Aa_orthos,Aa_xloc2vb)\n",
      "Aa_target_FPKMs_xloc_filtered = get_profiles_by_correlation(Aa_target_FPKMs_xloc,Aa_target_corrs_xloc,threshold=0.95)\n",
      "\n",
      "Aa_target_FPKMs_vb = Aa_target_FPKMs_xloc_filtered.copy()\n",
      "Aa_target_FPKMs_vb.index = [Aa_xloc2vb[x] for x in Aa_target_FPKMs_xloc_filtered.index]"
     ],
     "language": "python",
     "metadata": {},
     "outputs": [],
     "prompt_number": "*"
    },
    {
     "cell_type": "code",
     "collapsed": false,
     "input": [
      "Ag_target = 'AGAP008988'\n",
      "Ag_target_corrs_xloc,Ag_target_FPKMs_xloc = get_and_rank_profiles_similar_to_x(AgFPKMs,Ag_target,Ag_orthos,Ag_xloc2vb)\n",
      "Ag_target_FPKMs_xloc_filtered = get_profiles_by_correlation(Ag_target_FPKMs_xloc,Ag_target_corrs_xloc,threshold=0.95)\n",
      "\n",
      "Ag_target_FPKMs_vb = Ag_target_FPKMs_xloc_filtered.copy()\n",
      "Ag_target_FPKMs_vb.index = [Ag_xloc2vb[x] for x in Ag_target_FPKMs_xloc_filtered.index]"
     ],
     "language": "python",
     "metadata": {},
     "outputs": [],
     "prompt_number": "*"
    },
    {
     "cell_type": "code",
     "collapsed": false,
     "input": [
      "Cq_target = 'CPIJ010973'\n",
      "Cq_target_corrs_xloc,Cq_target_FPKMs_xloc = get_and_rank_profiles_similar_to_x(CqFPKMs,Cq_target,Cq_orthos,Cq_xloc2vb)\n",
      "Cq_target_FPKMs_xloc_filtered = get_profiles_by_correlation(Cq_target_FPKMs_xloc,Cq_target_corrs_xloc,threshold=0.95)\n",
      "\n",
      "Cq_target_FPKMs_vb = Cq_target_FPKMs_xloc_filtered.copy()\n",
      "Cq_target_FPKMs_vb.index = [Cq_xloc2vb[x] for x in Cq_target_FPKMs_xloc_filtered.index]"
     ],
     "language": "python",
     "metadata": {},
     "outputs": [],
     "prompt_number": "*"
    },
    {
     "cell_type": "heading",
     "level": 2,
     "metadata": {},
     "source": [
      "Begin plotting the orthologs' mRNA abundance profiles (1 + FPKM)"
     ]
    },
    {
     "cell_type": "code",
     "collapsed": false,
     "input": [
      "def plot_abundance_profiles(data_frame,title_text=False,draw_legend=True,transpose=True,cm='spectral',logy=0,plt_med=True):\n",
      "    \"\"\"\n",
      "    \"\"\"\n",
      "    df_p1 = data_frame + 1\n",
      "    df_p1.T.plot(marker='o',logy=logy, colormap=cm, lw=4,ms=11,legend=draw_legend)\n",
      "    if plt_med:\n",
      "        df_p1.median().plot('median', color='grey', ls='-', lw=20,logy=1, alpha=0.7)\n",
      "    xlabel('Time point')\n",
      "    ylabel('FPKM + 1')\n",
      "    if title_text:\n",
      "        title(title_text)\n",
      "    if draw_legend:\n",
      "        leg = legend(fancybox=True)\n",
      "        leg.get_frame().set_alpha(0.6)"
     ],
     "language": "python",
     "metadata": {},
     "outputs": [],
     "prompt_number": "*"
    },
    {
     "cell_type": "heading",
     "level": 3,
     "metadata": {},
     "source": [
      "Plot profiles based on orthologous target profiles but using only correlation to chose profiles INSIDE species"
     ]
    },
    {
     "cell_type": "code",
     "collapsed": false,
     "input": [
      "title_text= 'Aa members of N-way orthos with correlation at least 0.95 wrt %s' % (Aa_target)\n",
      "plot_abundance_profiles(Aa_target_FPKMs_vb,draw_legend=1,title_text=title_text,cm='autumn')\n",
      "save_figure('Aa_activated_r95.pdf')"
     ],
     "language": "python",
     "metadata": {},
     "outputs": [],
     "prompt_number": "*"
    },
    {
     "cell_type": "code",
     "collapsed": false,
     "input": [
      "title_text= 'Ag members of N-way orthos with correlation at least 0.95 wrt %s' % (Ag_target)\n",
      "plot_abundance_profiles(Ag_target_FPKMs_vb,draw_legend=1,title_text=title_text,cm='autumn')\n",
      "save_figure('Ag_activated_r95.pdf')"
     ],
     "language": "python",
     "metadata": {},
     "outputs": [],
     "prompt_number": "*"
    },
    {
     "cell_type": "code",
     "collapsed": false,
     "input": [
      "title_text= 'Cq members of N-way orthos with correlation at least 0.95 wrt %s' % (Cq_target)\n",
      "plot_abundance_profiles(Cq_target_FPKMs_vb,draw_legend=1,title_text=title_text,cm='autumn')\n",
      "save_figure('Cq_activated_r95.pdf')"
     ],
     "language": "python",
     "metadata": {},
     "outputs": [],
     "prompt_number": "*"
    },
    {
     "cell_type": "heading",
     "level": 3,
     "metadata": {},
     "source": [
      "Plot profiles based on N-way ortholog sets matching '``Ag_target_FPKMs_vb``'"
     ]
    },
    {
     "cell_type": "code",
     "collapsed": false,
     "input": [
      "Ag_target_FPKMs_vb_orthos = pd.DataFrame(gdev.get_neighbors(gene_list = Ag_target_FPKMs_vb.index, graph = ortho_graph, node_dict = node_dict))"
     ],
     "language": "python",
     "metadata": {},
     "outputs": [],
     "prompt_number": "*"
    },
    {
     "cell_type": "code",
     "collapsed": false,
     "input": [
      "Ag_target_FPKMs_vb_orthos"
     ],
     "language": "python",
     "metadata": {},
     "outputs": [],
     "prompt_number": "*"
    },
    {
     "cell_type": "code",
     "collapsed": false,
     "input": [
      "AaFPKMs_AgOrthos_vb = AaFPKMs.ix[[Aa_xloc2vb[x] for x in list(Ag_target_FPKMs_vb_orthos[0])]]\n",
      "AaFPKMs_AgOrthos_vb.index = [Aa_xloc2vb[x] for x in list(AaFPKMs_AgOrthos_vb.index)]"
     ],
     "language": "python",
     "metadata": {},
     "outputs": [],
     "prompt_number": "*"
    },
    {
     "cell_type": "code",
     "collapsed": false,
     "input": [
      "AgFPKMs_AgOrthos_vb = AgFPKMs.ix[[Ag_xloc2vb[x] for x in list(Ag_target_FPKMs_vb_orthos[1])]]\n",
      "AgFPKMs_AgOrthos_vb.index = [Ag_xloc2vb[x] for x in list(AgFPKMs_AgOrthos_vb.index)]"
     ],
     "language": "python",
     "metadata": {},
     "outputs": [],
     "prompt_number": "*"
    },
    {
     "cell_type": "code",
     "collapsed": false,
     "input": [
      "CqFPKMs_AgOrthos_vb = CqFPKMs.ix[[Cq_xloc2vb[x] for x in list(Ag_target_FPKMs_vb_orthos[2])]]\n",
      "CqFPKMs_AgOrthos_vb.index = [Cq_xloc2vb[x] for x in list(CqFPKMs_AgOrthos_vb.index)]"
     ],
     "language": "python",
     "metadata": {},
     "outputs": [],
     "prompt_number": "*"
    },
    {
     "cell_type": "code",
     "collapsed": false,
     "input": [
      "plot_abundance_profiles(AaFPKMs_AgOrthos_vb,draw_legend=1,cm='spectral',logy=1)\n",
      "save_figure('Aa_activated_Ag_target_FPKMs_vb_orthos.pdf')"
     ],
     "language": "python",
     "metadata": {},
     "outputs": [],
     "prompt_number": "*"
    },
    {
     "cell_type": "code",
     "collapsed": false,
     "input": [
      "plot_abundance_profiles(AgFPKMs_AgOrthos_vb,draw_legend=1,cm='spectral',logy=1)\n",
      "save_figure('Ag_activated_Ag_target_FPKMs_vb_orthos.pdf')"
     ],
     "language": "python",
     "metadata": {},
     "outputs": [],
     "prompt_number": "*"
    },
    {
     "cell_type": "code",
     "collapsed": false,
     "input": [
      "plot_abundance_profiles(CqFPKMs_AgOrthos_vb,draw_legend=1,cm='spectral',logy=1)\n",
      "save_figure('Cq_activated_Ag_target_FPKMs_vb_orthos.pdf')"
     ],
     "language": "python",
     "metadata": {},
     "outputs": [],
     "prompt_number": "*"
    },
    {
     "cell_type": "markdown",
     "metadata": {},
     "source": [
      "# Load the Argot2 results that match the genes above"
     ]
    },
    {
     "cell_type": "code",
     "collapsed": false,
     "input": [
      "argot2 = pd.read_table('/home/gus/Dropbox/common/projects/Aa_Ag_Cq_As/gfunc_stuff/prelim_gene_analysis/ecr_OR_insect_20130903/ptci_1_0/argot2/ecr_OR_insect_meanPTCI_thresh_1_genes.PEPTIDES.blast.argot2.results.tsv')"
     ],
     "language": "python",
     "metadata": {},
     "outputs": [],
     "prompt_number": "*"
    },
    {
     "cell_type": "code",
     "collapsed": false,
     "input": [
      "argot2.head()"
     ],
     "language": "python",
     "metadata": {},
     "outputs": [],
     "prompt_number": "*"
    },
    {
     "cell_type": "code",
     "collapsed": false,
     "input": [
      "def get_argot_records_for_gene(df,gene_names,total_score=200):\n",
      "    \"\"\"\n",
      "    \"\"\"\n",
      "    if type(gene_names) == type([]):\n",
      "        gene_names = '|'.join(gene_names)\n",
      "        \n",
      "    gene_mask = df.Sequence.str.contains(gene_names)\n",
      "    total_score_mask = df['Total Score'] >= total_score\n",
      "    \n",
      "    return df[gene_mask & total_score_mask]\n",
      "    \n",
      "    "
     ],
     "language": "python",
     "metadata": {},
     "outputs": [],
     "prompt_number": "*"
    },
    {
     "cell_type": "code",
     "collapsed": false,
     "input": [
      "argot_results = []\n",
      "\n",
      "\n",
      "for i in range(len(Ag_target_FPKMs_vb_orthos.index)):\n",
      "    argot_results.append(get_argot_records_for_gene(argot2,list(Ag_target_FPKMs_vb_orthos.ix[i]),150).sort('Total Score', ascending=False))"
     ],
     "language": "python",
     "metadata": {},
     "outputs": [],
     "prompt_number": "*"
    },
    {
     "cell_type": "code",
     "collapsed": false,
     "input": [
      "argot_results[0]"
     ],
     "language": "python",
     "metadata": {},
     "outputs": [],
     "prompt_number": "*"
    },
    {
     "cell_type": "code",
     "collapsed": false,
     "input": [
      "argot_results[1]"
     ],
     "language": "python",
     "metadata": {},
     "outputs": [],
     "prompt_number": "*"
    },
    {
     "cell_type": "code",
     "collapsed": false,
     "input": [
      "argot_results[2]"
     ],
     "language": "python",
     "metadata": {},
     "outputs": [],
     "prompt_number": "*"
    },
    {
     "cell_type": "code",
     "collapsed": false,
     "input": [
      "argot_results[3]"
     ],
     "language": "python",
     "metadata": {},
     "outputs": [],
     "prompt_number": "*"
    },
    {
     "cell_type": "code",
     "collapsed": false,
     "input": [
      "argot_results[4]"
     ],
     "language": "python",
     "metadata": {},
     "outputs": [],
     "prompt_number": "*"
    },
    {
     "cell_type": "code",
     "collapsed": false,
     "input": [
      "argot_results[5]"
     ],
     "language": "python",
     "metadata": {},
     "outputs": [],
     "prompt_number": "*"
    },
    {
     "cell_type": "code",
     "collapsed": false,
     "input": [
      "argot_results[6]"
     ],
     "language": "python",
     "metadata": {},
     "outputs": [],
     "prompt_number": "*"
    },
    {
     "cell_type": "code",
     "collapsed": false,
     "input": [
      "argot_results[7]"
     ],
     "language": "python",
     "metadata": {},
     "outputs": [],
     "prompt_number": "*"
    },
    {
     "cell_type": "code",
     "collapsed": false,
     "input": [
      "argot_results[8]"
     ],
     "language": "python",
     "metadata": {},
     "outputs": [],
     "prompt_number": "*"
    },
    {
     "cell_type": "code",
     "collapsed": false,
     "input": [
      "argot_results[9]"
     ],
     "language": "python",
     "metadata": {},
     "outputs": [],
     "prompt_number": "*"
    },
    {
     "cell_type": "code",
     "collapsed": false,
     "input": [
      "argot_results[10]"
     ],
     "language": "python",
     "metadata": {},
     "outputs": [],
     "prompt_number": "*"
    },
    {
     "cell_type": "code",
     "collapsed": false,
     "input": [
      "argot_results[11]"
     ],
     "language": "python",
     "metadata": {},
     "outputs": [],
     "prompt_number": "*"
    },
    {
     "cell_type": "code",
     "collapsed": false,
     "input": [
      "argot_results[12]"
     ],
     "language": "python",
     "metadata": {},
     "outputs": [],
     "prompt_number": "*"
    },
    {
     "cell_type": "code",
     "collapsed": false,
     "input": [
      "argot_results[13]"
     ],
     "language": "python",
     "metadata": {},
     "outputs": [],
     "prompt_number": "*"
    },
    {
     "cell_type": "code",
     "collapsed": false,
     "input": [
      "argot_results[14]"
     ],
     "language": "python",
     "metadata": {},
     "outputs": [],
     "prompt_number": "*"
    },
    {
     "cell_type": "code",
     "collapsed": false,
     "input": [
      "argot_results[15]"
     ],
     "language": "python",
     "metadata": {},
     "outputs": [],
     "prompt_number": "*"
    },
    {
     "cell_type": "code",
     "collapsed": false,
     "input": [
      "argot_results[16]"
     ],
     "language": "python",
     "metadata": {},
     "outputs": [],
     "prompt_number": "*"
    },
    {
     "cell_type": "code",
     "collapsed": false,
     "input": [
      "argot_results[17]"
     ],
     "language": "python",
     "metadata": {},
     "outputs": [],
     "prompt_number": "*"
    },
    {
     "cell_type": "code",
     "collapsed": false,
     "input": [
      "argot_results[18].head(60)"
     ],
     "language": "python",
     "metadata": {},
     "outputs": [],
     "prompt_number": "*"
    },
    {
     "cell_type": "code",
     "collapsed": false,
     "input": [
      "argot_results[19]"
     ],
     "language": "python",
     "metadata": {},
     "outputs": [],
     "prompt_number": "*"
    },
    {
     "cell_type": "code",
     "collapsed": false,
     "input": [
      "argot_results[20]"
     ],
     "language": "python",
     "metadata": {},
     "outputs": [],
     "prompt_number": "*"
    },
    {
     "cell_type": "code",
     "collapsed": false,
     "input": [
      "argot_results[21]"
     ],
     "language": "python",
     "metadata": {},
     "outputs": [],
     "prompt_number": "*"
    },
    {
     "cell_type": "code",
     "collapsed": false,
     "input": [
      "argot_results[22]"
     ],
     "language": "python",
     "metadata": {},
     "outputs": [],
     "prompt_number": "*"
    },
    {
     "cell_type": "code",
     "collapsed": false,
     "input": [
      "argot_results[23]"
     ],
     "language": "python",
     "metadata": {},
     "outputs": [],
     "prompt_number": "*"
    },
    {
     "cell_type": "code",
     "collapsed": false,
     "input": [],
     "language": "python",
     "metadata": {},
     "outputs": [],
     "prompt_number": "*"
    }
   ],
   "metadata": {}
  }
 ]
}