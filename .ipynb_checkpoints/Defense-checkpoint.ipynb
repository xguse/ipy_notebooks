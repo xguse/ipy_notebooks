{
 "metadata": {
  "name": ""
 },
 "nbformat": 3,
 "nbformat_minor": 0,
 "worksheets": [
  {
   "cells": [
    {
     "cell_type": "markdown",
     "metadata": {
      "slideshow": {
       "slide_type": "slide"
      }
     },
     "source": [
      "# Awesome Title\n",
      "## By Augustine Dunn"
     ]
    },
    {
     "cell_type": "markdown",
     "metadata": {
      "slideshow": {
       "slide_type": "subslide"
      }
     },
     "source": [
      "## Committee:\n",
      "### Anthony James (chair)\n",
      "### Xiaohui Xie\n",
      "### Donald Senear"
     ]
    },
    {
     "cell_type": "markdown",
     "metadata": {
      "slideshow": {
       "slide_type": "subslide"
      }
     },
     "source": [
      "## Acknowldgements\n",
      "\n",
      "- Great \n",
      "- People\n",
      "- Everywhere"
     ]
    },
    {
     "cell_type": "markdown",
     "metadata": {
      "slideshow": {
       "slide_type": "slide"
      }
     },
     "source": [
      "## Showing a linked figure"
     ]
    },
    {
     "cell_type": "markdown",
     "metadata": {},
     "source": [
      "<figure>\n",
      "<center>\n",
      "<img src=\"files/general_files/Ag_Aa_Cq_3way_PTCI.png\" width=\"300\" />\n",
      "<figcaption>Australian Birds. From left to right, Kookburra, Pelican and Rainbow Lorikeet. Originals by <a href=\"http://www.flickr.com/photos/rclark/\">Richard Clark</a></figcaption>\n",
      "</center>\n",
      "</figure>"
     ]
    }
   ],
   "metadata": {}
  }
 ]
}