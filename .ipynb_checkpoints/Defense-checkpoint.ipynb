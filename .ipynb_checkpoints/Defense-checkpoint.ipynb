{
 "metadata": {
  "celltoolbar": "Slideshow",
  "name": "",
  "signature": "sha256:e4222ed82e11768fc1a306cff6be95b2baa121cdc028d50c391932cb757fa68e"
 },
 "nbformat": 3,
 "nbformat_minor": 0,
 "worksheets": [
  {
   "cells": [
    {
     "cell_type": "code",
     "collapsed": false,
     "input": [
      "from IPython.display import HTML"
     ],
     "language": "python",
     "metadata": {
      "slideshow": {
       "slide_type": "skip"
      }
     },
     "outputs": [],
     "prompt_number": 1
    },
    {
     "cell_type": "heading",
     "level": 1,
     "metadata": {
      "slideshow": {
       "slide_type": "slide"
      }
     },
     "source": [
      "Awesome Title"
     ]
    },
    {
     "cell_type": "heading",
     "level": 3,
     "metadata": {},
     "source": [
      "By Augustine Dunn"
     ]
    },
    {
     "cell_type": "heading",
     "level": 1,
     "metadata": {
      "slideshow": {
       "slide_type": "subslide"
      }
     },
     "source": [
      "Committee:"
     ]
    },
    {
     "cell_type": "markdown",
     "metadata": {},
     "source": [
      "Anthony James (chair)\n",
      "\n",
      "Xiaohui Xie\n",
      "\n",
      "Donald Senear"
     ]
    },
    {
     "cell_type": "markdown",
     "metadata": {
      "slideshow": {
       "slide_type": "subslide"
      }
     },
     "source": [
      "## Acknowldgements"
     ]
    },
    {
     "cell_type": "markdown",
     "metadata": {
      "slideshow": {
       "slide_type": "fragment"
      }
     },
     "source": [
      "- Great "
     ]
    },
    {
     "cell_type": "markdown",
     "metadata": {
      "slideshow": {
       "slide_type": "fragment"
      }
     },
     "source": [
      "- People "
     ]
    },
    {
     "cell_type": "markdown",
     "metadata": {
      "slideshow": {
       "slide_type": "fragment"
      }
     },
     "source": [
      "- Everywhere "
     ]
    },
    {
     "cell_type": "heading",
     "level": 1,
     "metadata": {
      "slideshow": {
       "slide_type": "slide"
      }
     },
     "source": [
      "The ultimate goal:"
     ]
    },
    {
     "cell_type": "heading",
     "level": 3,
     "metadata": {
      "slideshow": {
       "slide_type": "subslide"
      }
     },
     "source": [
      " reduce morbidity and mortality of mosquito borne tropical diseases..."
     ]
    },
    {
     "cell_type": "heading",
     "level": 3,
     "metadata": {
      "slideshow": {
       "slide_type": "subslide"
      }
     },
     "source": [
      "dengue fever"
     ]
    },
    {
     "cell_type": "heading",
     "level": 3,
     "metadata": {
      "slideshow": {
       "slide_type": "subslide"
      }
     },
     "source": [
      "malaria"
     ]
    },
    {
     "cell_type": "heading",
     "level": 1,
     "metadata": {
      "slideshow": {
       "slide_type": "slide"
      }
     },
     "source": [
      "a better mosquito."
     ]
    },
    {
     "cell_type": "heading",
     "level": 1,
     "metadata": {
      "slideshow": {
       "slide_type": "slide"
      }
     },
     "source": [
      "Why the insects rather than the people?"
     ]
    },
    {
     "cell_type": "heading",
     "level": 1,
     "metadata": {
      "slideshow": {
       "slide_type": "subslide"
      }
     },
     "source": [
      "1. Effective medical interventions to dengue and malaria either do not exist or are not yet suited for use in the isolated/impoverished areas most affected."
     ]
    },
    {
     "cell_type": "heading",
     "level": 1,
     "metadata": {
      "slideshow": {
       "slide_type": "subslide"
      }
     },
     "source": [
      "Many serotypes of dengue virus exist (DENV1 - DENV5)."
     ]
    },
    {
     "cell_type": "markdown",
     "metadata": {
      "slideshow": {
       "slide_type": "-"
      }
     },
     "source": [
      "<figure>\n",
      "<center>\n",
      "<img src=\"general_files/denv_1_to_4.png\" width=\"600\" />\n",
      "</center>\n",
      "</figure>"
     ]
    },
    {
     "cell_type": "heading",
     "level": 3,
     "metadata": {
      "slideshow": {
       "slide_type": "subslide"
      }
     },
     "source": [
      "Antibodies that completely protect against one serotype actually <u>increase</u> the risk of serious disease when in the presence of another serotype in the same patient."
     ]
    },
    {
     "cell_type": "heading",
     "level": 3,
     "metadata": {
      "slideshow": {
       "slide_type": "subslide"
      }
     },
     "source": [
      "Vaccines must simultaneously protect against all serotypes or risk harming to the patient."
     ]
    },
    {
     "cell_type": "heading",
     "level": 1,
     "metadata": {
      "slideshow": {
       "slide_type": "subslide"
      }
     },
     "source": [
      "2. Dengue fever and malaria require a mosquito to infect humans."
     ]
    },
    {
     "cell_type": "markdown",
     "metadata": {
      "slideshow": {
       "slide_type": "subslide"
      }
     },
     "source": [
      "<figure>\n",
      "<center>\n",
      "<img src=\"general_files/prime_geog_vectors_of_d_and_m.png\" width=\"600\" />\n",
      "<figcaption>Primary geographic vectors of dengue fever and malaria.</figcaption>\n",
      "</center>\n",
      "</figure>"
     ]
    },
    {
     "cell_type": "markdown",
     "metadata": {},
     "source": []
    },
    {
     "cell_type": "heading",
     "level": 3,
     "metadata": {
      "slideshow": {
       "slide_type": "fragment"
      }
     },
     "source": [
      "Mosquitoes have been called the deadliest animals known to humans."
     ]
    },
    {
     "cell_type": "heading",
     "level": 1,
     "metadata": {
      "slideshow": {
       "slide_type": "slide"
      }
     },
     "source": [
      "Diseases"
     ]
    },
    {
     "cell_type": "markdown",
     "metadata": {
      "slideshow": {
       "slide_type": "fragment"
      }
     },
     "source": [
      "transmitted through the act of feeding on our blood"
     ]
    },
    {
     "cell_type": "heading",
     "level": 1,
     "metadata": {
      "slideshow": {
       "slide_type": "slide"
      }
     },
     "source": [
      "Hematophagy"
     ]
    },
    {
     "cell_type": "heading",
     "level": 3,
     "metadata": {
      "slideshow": {
       "slide_type": "fragment"
      }
     },
     "source": [
      "a fancy name for feeding on blood"
     ]
    },
    {
     "cell_type": "heading",
     "level": 3,
     "metadata": {
      "slideshow": {
       "slide_type": "fragment"
      }
     },
     "source": [
      "a trait hypothesized to be ancestral to the mosquito clade"
     ]
    },
    {
     "cell_type": "heading",
     "level": 1,
     "metadata": {
      "slideshow": {
       "slide_type": "slide"
      }
     },
     "source": [
      "A typical transmission cycle"
     ]
    },
    {
     "cell_type": "markdown",
     "metadata": {
      "slideshow": {
       "slide_type": "fragment"
      }
     },
     "source": [
      "### 1. A female mosquito bites an infected person."
     ]
    },
    {
     "cell_type": "markdown",
     "metadata": {
      "slideshow": {
       "slide_type": "fragment"
      }
     },
     "source": [
      "### 2. The pathogen is taken into the midgut along with the bloodmeal."
     ]
    },
    {
     "cell_type": "markdown",
     "metadata": {
      "slideshow": {
       "slide_type": "fragment"
      }
     },
     "source": [
      "### 3. The pathogen must escape the midgut to gain access to the hemolymph."
     ]
    },
    {
     "cell_type": "markdown",
     "metadata": {
      "slideshow": {
       "slide_type": "fragment"
      }
     },
     "source": [
      "### 4. The pathogen must gain access to the salivary glands."
     ]
    },
    {
     "cell_type": "markdown",
     "metadata": {
      "slideshow": {
       "slide_type": "fragment"
      }
     },
     "source": [
      "### 5. Infectious mosquito bites an uninfected person and the pathogen in transfered in her saliva."
     ]
    },
    {
     "cell_type": "markdown",
     "metadata": {
      "slideshow": {
       "slide_type": "subslide"
      }
     },
     "source": [
      "<figure>\n",
      "<center>\n",
      "<img src=\"general_files/mosqXsection.png\" width=\"900\" />\n",
      "<figcaption>**Cross section of a female mosquito with tissues important to the transmission cycle highlighted.**</figcaption>\n",
      "</center>\n",
      "</figure>"
     ]
    },
    {
     "cell_type": "heading",
     "level": 1,
     "metadata": {
      "slideshow": {
       "slide_type": "slide"
      }
     },
     "source": [
      "Strategic \"choke\" points"
     ]
    },
    {
     "cell_type": "markdown",
     "metadata": {
      "slideshow": {
       "slide_type": "fragment"
      }
     },
     "source": [
      "### 1. If the pathogen is unable to escape the midgut, the insect remains essentially uninfected."
     ]
    },
    {
     "cell_type": "markdown",
     "metadata": {
      "slideshow": {
       "slide_type": "fragment"
      }
     },
     "source": [
      "### 2. If the pathogen is unable to access the salivary glands, the insect in unable to transmit the pathogen to another human."
     ]
    },
    {
     "cell_type": "markdown",
     "metadata": {
      "slideshow": {
       "slide_type": "notes"
      }
     },
     "source": [
      "1. Dengue will infect the lining of the midgut but eventually be cleared by the mosquito's anti-sense RNA machinery"
     ]
    },
    {
     "cell_type": "heading",
     "level": 1,
     "metadata": {
      "slideshow": {
       "slide_type": "subslide"
      }
     },
     "source": [
      "These events present targets for designing transgenic mosquitoes that are able to block the pathogen from achieving  these objectives."
     ]
    },
    {
     "cell_type": "heading",
     "level": 1,
     "metadata": {
      "slideshow": {
       "slide_type": "slide"
      }
     },
     "source": [
      "How does one design a transgenic mosquito to do this?"
     ]
    },
    {
     "cell_type": "heading",
     "level": 1,
     "metadata": {
      "slideshow": {
       "slide_type": "subslide"
      }
     },
     "source": [
      "Elements of transgenic vector mosquito control"
     ]
    },
    {
     "cell_type": "markdown",
     "metadata": {
      "slideshow": {
       "slide_type": "fragment"
      }
     },
     "source": [
      "There are four fundamental elements needed for a successful transgenic vector control product\n",
      "\n",
      "1. genomic introduction of heritible traits\n",
      "2. development of effective anti-pathogen gene construct\n",
      "3. genetic control of spaciotemporal expression pattern of gene construct \n",
      "4. strategy to bring gene construct to near-fixation frequencies in native populations"
     ]
    },
    {
     "cell_type": "heading",
     "level": 3,
     "metadata": {
      "slideshow": {
       "slide_type": "fragment"
      }
     },
     "source": [
      "<font color=\"red\">My work will improve our ability to evaluate and design the control of spaciotemporal expression patterns of gene constructs.</font>"
     ]
    },
    {
     "cell_type": "markdown",
     "metadata": {
      "slideshow": {
       "slide_type": "notes"
      }
     },
     "source": [
      "How much depth should i take the 4 elements in this talk?"
     ]
    },
    {
     "cell_type": "heading",
     "level": 1,
     "metadata": {
      "slideshow": {
       "slide_type": "slide"
      }
     },
     "source": [
      "Genetic control of expression patterns"
     ]
    },
    {
     "cell_type": "markdown",
     "metadata": {
      "slideshow": {
       "slide_type": "subslide"
      }
     },
     "source": [
      "## How does the genome determine gene expression patterns? "
     ]
    },
    {
     "cell_type": "markdown",
     "metadata": {
      "slideshow": {
       "slide_type": "fragment"
      }
     },
     "source": [
      "Through ***cis*-regulatory elements** working together as ***cis*-regulatory modules**"
     ]
    },
    {
     "cell_type": "markdown",
     "metadata": {
      "slideshow": {
       "slide_type": "subslide"
      }
     },
     "source": [
      "## **CREs** and **CRMs**"
     ]
    },
    {
     "cell_type": "markdown",
     "metadata": {
      "slideshow": {
       "slide_type": "subslide"
      }
     },
     "source": [
      "## How does it work?"
     ]
    },
    {
     "cell_type": "markdown",
     "metadata": {},
     "source": [
      "<figure>\n",
      "<center>\n",
      "<img src=\"general_files/CREandCRM.png\" width=\"900\" />\n",
      "<figcaption>Elements of  transcriptional regulation: **CREs** and **CRMs**</figcaption>\n",
      "</center>\n",
      "</figure>"
     ]
    },
    {
     "cell_type": "markdown",
     "metadata": {
      "slideshow": {
       "slide_type": "notes"
      }
     },
     "source": [
      "* CREs made up of individual regions of DNA sequence conforming to a TFBS PWM illustrated by the colored boxes in **-A-**\n",
      "    - the TFBS PWM denoted by the LOGO\n",
      "* A CRM is constructed of binding sites for multiple cooperative TFs that interact to define the conditions required for expression or repression for the gene(s) under its influence\n",
      "* **-A-** denotes only the sequence binding sites while **-B-** adds the TFs and other cooperative elements"
     ]
    },
    {
     "cell_type": "markdown",
     "metadata": {
      "slideshow": {
       "slide_type": "subslide"
      }
     },
     "source": [
      "## Standard methods for characterizing CRE and CRM activity by experimentation are impractical in most mosquito systems"
     ]
    },
    {
     "cell_type": "markdown",
     "metadata": {
      "slideshow": {
       "slide_type": "fragment"
      }
     },
     "source": [
      "* **Promoter bashing** methods require the ability to place altered versions of a promoter in the same genomic context or location to accurately interpret the results."
     ]
    },
    {
     "cell_type": "markdown",
     "metadata": {
      "slideshow": {
       "slide_type": "fragment"
      }
     },
     "source": [
      "* Generating tarnsgenic lines with genomic integrations take months and is very labor intensive."
     ]
    },
    {
     "cell_type": "heading",
     "level": 3,
     "metadata": {
      "slideshow": {
       "slide_type": "fragment"
      }
     },
     "source": [
      "Without a way to predict which CREs/CRMs may be important in a promoter region intended for use in controlling a transgene, each candidate promoter remains a \"black box\"."
     ]
    }
   ],
   "metadata": {}
  }
 ]
}