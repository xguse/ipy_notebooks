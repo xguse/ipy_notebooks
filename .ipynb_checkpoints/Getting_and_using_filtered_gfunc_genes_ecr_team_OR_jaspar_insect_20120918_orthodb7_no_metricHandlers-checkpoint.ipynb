{
 "metadata": {
  "name": ""
 },
 "nbformat": 3,
 "nbformat_minor": 0,
 "worksheets": [
  {
   "cells": [
    {
     "cell_type": "code",
     "collapsed": false,
     "input": [
      "from gfunc.dev import devel as dev\n",
      "from gfunc import maths as m\n",
      "\n",
      "from collections import defaultdict\n",
      "\n",
      "from spartan.utils.files import ParseFastA\n",
      "from spartan.utils.misc import fold_seq\n",
      "\n",
      "import numpy as np\n",
      "import pandas as pd"
     ],
     "language": "python",
     "metadata": {},
     "outputs": [
      {
       "output_type": "stream",
       "stream": "stderr",
       "text": [
        "/home/gus/virtualenvs/py275/lib/python2.7/site-packages/pytz/__init__.py:31: UserWarning: Module argparse was already imported from /home/gus/Dropbox/repos/git/khmer/python/argparse.pyc, but /home/gus/virtualenvs/py275/lib/python2.7/site-packages is being added to sys.path\n",
        "  from pkg_resources import resource_stream\n"
       ]
      }
     ],
     "prompt_number": 1
    },
    {
     "cell_type": "code",
     "collapsed": false,
     "input": [
      "# run gfunc_build_n_way_one2one script and capture output in variable `trap`\n",
      "%run -i ../../../Dropbox/repos/git/gfunc/src/gfunc/scripts/gfunc_build_n_way_one2one.py ../../../Dropbox/common/gfunc/Aa_Ag_Cq_sort_pci.new_data.Jaspar_insect_nr_orthodb7.yaml\n",
      "\n",
      "graphHandler_j,graphBuilder_j,n_way_ortho_table,ortho_parser = trap\n",
      "\n",
      "# extract edge data from the graphs\n",
      "edges_j = graphHandler_j.edge_dict.values() "
     ],
     "language": "python",
     "metadata": {},
     "outputs": [
      {
       "output_type": "stream",
       "stream": "stdout",
       "text": [
        "bestChoose is 'choose' from 'rSeq'.\n",
        "main() completed."
       ]
      },
      {
       "output_type": "stream",
       "stream": "stdout",
       "text": [
        "\n"
       ]
      }
     ],
     "prompt_number": 2
    },
    {
     "cell_type": "code",
     "collapsed": false,
     "input": [
      "# run gfunc_build_n_way_one2one script and capture output in variable `trap`\n",
      "%run -i ../../../Dropbox/repos/git/gfunc/src/gfunc/scripts/gfunc_build_n_way_one2one.py ../../../Dropbox/common/gfunc/Aa_Ag_Cq_sort_pci.new_data.ecr_team_orthodb7.yaml\n",
      "\n",
      "graphHandler_e,graphBuilder_e,n_way_ortho_table,ortho_parser = trap\n",
      "\n",
      "# extract edge data from the graphs\n",
      "edges_e = graphHandler_e.edge_dict.values() "
     ],
     "language": "python",
     "metadata": {},
     "outputs": [
      {
       "output_type": "stream",
       "stream": "stdout",
       "text": [
        "main() completed.\n"
       ]
      }
     ],
     "prompt_number": 3
    },
    {
     "cell_type": "code",
     "collapsed": false,
     "input": [
      "#set the parameters of ptci to calculate\n",
      "\n",
      "options = Bunch()\n",
      "\n",
      "options.kind = 'rsrd'\n",
      "options.w_min = 1.0\n",
      "options.w_max = 1.1\n",
      "options.n_way_ortho_table = n_way_ortho_table\n",
      "\n",
      "ptci_threshold = 1.0\n",
      "\n",
      "save_fasta = False"
     ],
     "language": "python",
     "metadata": {},
     "outputs": [],
     "prompt_number": 4
    },
    {
     "cell_type": "code",
     "collapsed": false,
     "input": [
      "def initiate_graph_with_ptci_data(graphHandler,options):\n",
      "    opts = options\n",
      "    \n",
      "    edges = graphHandler.edge_dict.values()\n",
      "    # get r_z_values\n",
      "    r_and_p_values = dev.get_edge_r_and_p_vals(edges,quiet=False)\n",
      "    r_values = [r_and_p_values[i][0] for i in range(len(r_and_p_values))]\n",
      "    z_stats = m.get_z_score_stats(r_values)\n",
      "    dev.set_z_vals(graphHandler,z_stats,use_center='median')\n",
      "    \n",
      "    # sort out the pairwise ptcis\n",
      "    pairwise_ptci_vals = dev.get_pairwise_ptci_vals(edges,kind=opts.kind,quiet=True,w_min=opts.w_min,w_max=opts.w_max)\n",
      "    \n",
      "    # sort out the mean ptcis\n",
      "    n_way_mean_ptcis = dev.get_mean_ptcis(graphHandler,opts.n_way_ortho_table,kind=opts.kind,quiet=True,w_min=opts.w_min,w_max=opts.w_max)\n",
      "    \n",
      "    return graphHandler"
     ],
     "language": "python",
     "metadata": {},
     "outputs": [],
     "prompt_number": 5
    },
    {
     "cell_type": "code",
     "collapsed": false,
     "input": [
      "jaspar = initiate_graph_with_ptci_data(graphHandler_j,options)"
     ],
     "language": "python",
     "metadata": {},
     "outputs": [
      {
       "output_type": "stream",
       "stream": "stdout",
       "text": [
        "r_vals before cleaning: 15303\n",
        "Returning 13536 r_vals."
       ]
      },
      {
       "output_type": "stream",
       "stream": "stdout",
       "text": [
        "\n"
       ]
      }
     ],
     "prompt_number": 6
    },
    {
     "cell_type": "code",
     "collapsed": false,
     "input": [
      "ecr_team = initiate_graph_with_ptci_data(graphHandler_e,options)"
     ],
     "language": "python",
     "metadata": {},
     "outputs": [
      {
       "output_type": "stream",
       "stream": "stdout",
       "text": [
        "r_vals before cleaning: 15303\n",
        "Returning 13536 r_vals."
       ]
      },
      {
       "output_type": "stream",
       "stream": "stdout",
       "text": [
        "\n"
       ]
      }
     ],
     "prompt_number": 7
    },
    {
     "cell_type": "markdown",
     "metadata": {},
     "source": [
      "## Pull out edges with pairwise ptci scores at or above given threshold:"
     ]
    },
    {
     "cell_type": "code",
     "collapsed": false,
     "input": [
      "def filter_edges_by_pairwise_ptci(graphHandler,ptci_thresh):\n",
      "    \"\"\"\n",
      "    returns a tuple of edges that meet or exceed the supplied ptci_threshold\n",
      "    \"\"\"\n",
      "    edges = graphHandler.edge_dict.values()\n",
      "    \n",
      "    filtered_edges = []\n",
      "    \n",
      "    for edge in edges:\n",
      "        try:\n",
      "            if edge.data.PTCI >= ptci_thresh:\n",
      "                filtered_edges.append(edge)\n",
      "            else:\n",
      "                pass\n",
      "        except AttributeError as exc:\n",
      "            if \"'Bunch' object has no attribute 'PTCI'\" in str(exc):\n",
      "                pass\n",
      "            else:\n",
      "                raise\n",
      "            \n",
      "    return tuple(filtered_edges)"
     ],
     "language": "python",
     "metadata": {},
     "outputs": [],
     "prompt_number": 8
    },
    {
     "cell_type": "code",
     "collapsed": false,
     "input": [
      "jaspar_edges_p_ptci = filter_edges_by_pairwise_ptci(graphHandler=jaspar,ptci_thresh=ptci_threshold)\n",
      "print \"jaspar_p_ptci: %s\" % (len(jaspar_edges_p_ptci))"
     ],
     "language": "python",
     "metadata": {},
     "outputs": [
      {
       "output_type": "stream",
       "stream": "stdout",
       "text": [
        "jaspar_p_ptci: 1160\n"
       ]
      }
     ],
     "prompt_number": 9
    },
    {
     "cell_type": "code",
     "collapsed": false,
     "input": [
      "ecr_edges_p_ptci = filter_edges_by_pairwise_ptci(graphHandler=ecr_team,ptci_thresh=ptci_threshold)\n",
      "print \"ecr_p_ptci: %s\" % (len(ecr_edges_p_ptci))"
     ],
     "language": "python",
     "metadata": {},
     "outputs": [
      {
       "output_type": "stream",
       "stream": "stdout",
       "text": [
        "ecr_p_ptci: 1362\n"
       ]
      }
     ],
     "prompt_number": 10
    },
    {
     "cell_type": "markdown",
     "metadata": {},
     "source": [
      "## Pull out edges with MEAN ptci scores at or above given threshold:"
     ]
    },
    {
     "cell_type": "code",
     "collapsed": false,
     "input": [
      "def filter_edges_by_mean_ptci(graphHandler,ptci_thresh):\n",
      "    \"\"\"\n",
      "    returns a tuple of edges that meet or exceed the supplied ptci_threshold\n",
      "    \"\"\"\n",
      "    edges = graphHandler.edge_dict.values()\n",
      "    \n",
      "    filtered_edges = []\n",
      "    \n",
      "    for edge in edges:\n",
      "        try:\n",
      "            if edge.data.meanPTCI >= ptci_thresh:\n",
      "                filtered_edges.append(edge)\n",
      "            else:\n",
      "                pass\n",
      "        except AttributeError as exc:\n",
      "            if \"'Bunch' object has no attribute 'meanPTCI'\" in str(exc):\n",
      "                pass\n",
      "            else:\n",
      "                raise\n",
      "            \n",
      "    return tuple(filtered_edges)"
     ],
     "language": "python",
     "metadata": {},
     "outputs": [],
     "prompt_number": 11
    },
    {
     "cell_type": "code",
     "collapsed": false,
     "input": [
      "jaspar_edges_m_ptci = filter_edges_by_mean_ptci(graphHandler=jaspar,ptci_thresh=ptci_threshold)\n",
      "print \"jaspar_m_ptci: %s\" % (len(jaspar_edges_m_ptci))"
     ],
     "language": "python",
     "metadata": {},
     "outputs": [
      {
       "output_type": "stream",
       "stream": "stdout",
       "text": [
        "jaspar_m_ptci: 387\n"
       ]
      }
     ],
     "prompt_number": 12
    },
    {
     "cell_type": "code",
     "collapsed": false,
     "input": [
      "ecr_edges_m_ptci = filter_edges_by_mean_ptci(graphHandler=ecr_team,ptci_thresh=ptci_threshold)\n",
      "print \"ecr_m_ptci: %s\" % (len(ecr_edges_m_ptci))"
     ],
     "language": "python",
     "metadata": {},
     "outputs": [
      {
       "output_type": "stream",
       "stream": "stdout",
       "text": [
        "ecr_m_ptci: 480\n"
       ]
      }
     ],
     "prompt_number": 13
    },
    {
     "cell_type": "markdown",
     "metadata": {},
     "source": [
      "## Overlap of edges between pairwise(jaspar : ecr_team)"
     ]
    },
    {
     "cell_type": "code",
     "collapsed": false,
     "input": [
      "def get_edge_intersection(edges1,edges2):\n",
      "    \"\"\"\n",
      "    \"\"\"\n",
      "    e1 = set([str(e) for e in edges1])\n",
      "    e2 = set([str(e) for e in edges2])\n",
      "    \n",
      "    return len(e1),len(e2),e1.intersection(e2)\n",
      "    "
     ],
     "language": "python",
     "metadata": {},
     "outputs": [],
     "prompt_number": 14
    },
    {
     "cell_type": "code",
     "collapsed": false,
     "input": [
      "def get_edge_union(edges1,edges2):\n",
      "    \"\"\"\n",
      "    \"\"\"\n",
      "    e1 = set([str(e) for e in edges1])\n",
      "    e2 = set([str(e) for e in edges2])\n",
      "    \n",
      "    return len(e1),len(e2),e1.union(e2)\n",
      "    "
     ],
     "language": "python",
     "metadata": {},
     "outputs": [],
     "prompt_number": 15
    },
    {
     "cell_type": "code",
     "collapsed": false,
     "input": [
      "lp1,lp2,intersect_p = get_edge_intersection(jaspar_edges_p_ptci,ecr_edges_p_ptci)"
     ],
     "language": "python",
     "metadata": {},
     "outputs": [],
     "prompt_number": 16
    },
    {
     "cell_type": "code",
     "collapsed": false,
     "input": [
      "len(intersect_p)"
     ],
     "language": "python",
     "metadata": {},
     "outputs": [
      {
       "metadata": {},
       "output_type": "pyout",
       "prompt_number": 17,
       "text": [
        "696"
       ]
      }
     ],
     "prompt_number": 17
    },
    {
     "cell_type": "markdown",
     "metadata": {},
     "source": [
      "## Overlap of edges between mean(jaspar : ecr_team)"
     ]
    },
    {
     "cell_type": "code",
     "collapsed": false,
     "input": [
      "lm1,lm2,intersect_m = get_edge_intersection(jaspar_edges_m_ptci,ecr_edges_m_ptci)"
     ],
     "language": "python",
     "metadata": {},
     "outputs": [],
     "prompt_number": 18
    },
    {
     "cell_type": "code",
     "collapsed": false,
     "input": [
      "lm1,lm2,len(intersect_m)"
     ],
     "language": "python",
     "metadata": {},
     "outputs": [
      {
       "metadata": {},
       "output_type": "pyout",
       "prompt_number": 19,
       "text": [
        "(387, 480, 231)"
       ]
      }
     ],
     "prompt_number": 19
    },
    {
     "cell_type": "markdown",
     "metadata": {},
     "source": [
      "## Overlap of edges between pairwise(jaspar) and mean(jaspar)"
     ]
    },
    {
     "cell_type": "code",
     "collapsed": false,
     "input": [
      "lp_jaspar,lm_jaspar,intersect_pm_jaspar = get_edge_intersection(jaspar_edges_p_ptci,jaspar_edges_m_ptci)"
     ],
     "language": "python",
     "metadata": {},
     "outputs": [],
     "prompt_number": 20
    },
    {
     "cell_type": "code",
     "collapsed": false,
     "input": [
      "print \"jaspar_pANDm_ptci: %s\" % len(intersect_pm_jaspar)"
     ],
     "language": "python",
     "metadata": {},
     "outputs": [
      {
       "output_type": "stream",
       "stream": "stdout",
       "text": [
        "jaspar_pANDm_ptci: 276\n"
       ]
      }
     ],
     "prompt_number": 21
    },
    {
     "cell_type": "markdown",
     "metadata": {},
     "source": [
      "## Overlap of edges between pairwise(ecr_team) and mean(ecr_team)"
     ]
    },
    {
     "cell_type": "code",
     "collapsed": false,
     "input": [
      "lp_ecr,lm_ecr,intersect_pm_ecr = get_edge_intersection(ecr_edges_p_ptci,ecr_edges_m_ptci)"
     ],
     "language": "python",
     "metadata": {},
     "outputs": [],
     "prompt_number": 22
    },
    {
     "cell_type": "code",
     "collapsed": false,
     "input": [
      "lp_ecr,lm_ecr,len(intersect_pm_ecr)"
     ],
     "language": "python",
     "metadata": {},
     "outputs": [
      {
       "metadata": {},
       "output_type": "pyout",
       "prompt_number": 23,
       "text": [
        "(1362, 480, 309)"
       ]
      }
     ],
     "prompt_number": 23
    },
    {
     "cell_type": "markdown",
     "metadata": {},
     "source": [
      "### Union of ecr and jaspar_insects"
     ]
    },
    {
     "cell_type": "code",
     "collapsed": false,
     "input": [
      "edges1,edges2,ecr_OR_insect = get_edge_union(jaspar_edges_m_ptci,ecr_edges_m_ptci)"
     ],
     "language": "python",
     "metadata": {},
     "outputs": [],
     "prompt_number": 24
    },
    {
     "cell_type": "code",
     "collapsed": false,
     "input": [
      "len(ecr_OR_insect)"
     ],
     "language": "python",
     "metadata": {},
     "outputs": [
      {
       "metadata": {},
       "output_type": "pyout",
       "prompt_number": 25,
       "text": [
        "636"
       ]
      }
     ],
     "prompt_number": 25
    },
    {
     "cell_type": "markdown",
     "metadata": {},
     "source": [
      "## Function to extract nr gene list from edge-sets"
     ]
    },
    {
     "cell_type": "code",
     "collapsed": false,
     "input": [
      "def get_nr_gene_names_from_edge_set(edge_set):\n",
      "    \"\"\"\n",
      "    \"\"\"\n",
      "    genes_nr = []\n",
      "    for edge in edge_set:\n",
      "        edge = str(edge)\n",
      "        genes = edge.rstrip(')').replace('(',',').split(',')[1:]\n",
      "        genes_nr.extend(genes)\n",
      "        \n",
      "    return sorted(list(set(genes_nr)))"
     ],
     "language": "python",
     "metadata": {},
     "outputs": [],
     "prompt_number": 26
    },
    {
     "cell_type": "code",
     "collapsed": false,
     "input": [
      "jaspar_edges_m_ptci_genes = get_nr_gene_names_from_edge_set(jaspar_edges_m_ptci)"
     ],
     "language": "python",
     "metadata": {},
     "outputs": [],
     "prompt_number": 27
    },
    {
     "cell_type": "code",
     "collapsed": false,
     "input": [
      "ecr_edges_m_ptci_genes = get_nr_gene_names_from_edge_set(ecr_edges_m_ptci)"
     ],
     "language": "python",
     "metadata": {},
     "outputs": [],
     "prompt_number": 28
    },
    {
     "cell_type": "code",
     "collapsed": false,
     "input": [
      "ecr_OR_insect_edges_m_ptci_genes = get_nr_gene_names_from_edge_set(ecr_OR_insect)"
     ],
     "language": "python",
     "metadata": {},
     "outputs": [],
     "prompt_number": 29
    },
    {
     "cell_type": "code",
     "collapsed": false,
     "input": [
      "len(jaspar_edges_m_ptci_genes)"
     ],
     "language": "python",
     "metadata": {},
     "outputs": [
      {
       "metadata": {},
       "output_type": "pyout",
       "prompt_number": 30,
       "text": [
        "387"
       ]
      }
     ],
     "prompt_number": 30
    },
    {
     "cell_type": "code",
     "collapsed": false,
     "input": [
      "len(ecr_edges_m_ptci_genes)"
     ],
     "language": "python",
     "metadata": {},
     "outputs": [
      {
       "metadata": {},
       "output_type": "pyout",
       "prompt_number": 31,
       "text": [
        "480"
       ]
      }
     ],
     "prompt_number": 31
    },
    {
     "cell_type": "code",
     "collapsed": false,
     "input": [
      "len(ecr_OR_insect_edges_m_ptci_genes)"
     ],
     "language": "python",
     "metadata": {},
     "outputs": [
      {
       "metadata": {},
       "output_type": "pyout",
       "prompt_number": 32,
       "text": [
        "636"
       ]
      }
     ],
     "prompt_number": 32
    }
   ],
   "metadata": {}
  }
 ]
}