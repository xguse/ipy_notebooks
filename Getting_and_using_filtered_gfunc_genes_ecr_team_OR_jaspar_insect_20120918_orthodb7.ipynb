{
 "metadata": {
  "name": ""
 },
 "nbformat": 3,
 "nbformat_minor": 0,
 "worksheets": [
  {
   "cells": [
    {
     "cell_type": "code",
     "collapsed": false,
     "input": [
      "from gfunc.dev import devel as dev\n",
      "from gfunc import maths as m\n",
      "\n",
      "from collections import defaultdict\n",
      "\n",
      "from spartan.utils.files import ParseFastA\n",
      "from spartan.utils.misc import fold_seq\n",
      "\n",
      "import numpy as np\n",
      "import pandas as pd"
     ],
     "language": "python",
     "metadata": {},
     "outputs": [],
     "prompt_number": 1
    },
    {
     "cell_type": "code",
     "collapsed": false,
     "input": [
      "# run gfunc_build_n_way_one2one script and capture output in variable `trap`\n",
      "%run -i ../../../Dropbox/repos/git/gfunc/src/gfunc/scripts/gfunc_build_n_way_one2one.py ../../../Dropbox/common/gfunc/Aa_Ag_Cq_sort_pci.new_data.Jaspar_insect_nr_orthodb7.yaml\n",
      "\n",
      "graphHandler_j,graphBuilder_j,n_way_ortho_table,ortho_parser = trap\n",
      "\n",
      "# extract edge data from the graphs\n",
      "edges_j = graphHandler_j.edge_dict.values() "
     ],
     "language": "python",
     "metadata": {},
     "outputs": [
      {
       "output_type": "stream",
       "stream": "stdout",
       "text": [
        "bestChoose is 'choose' from 'rSeq'.\n",
        "main() completed."
       ]
      },
      {
       "output_type": "stream",
       "stream": "stdout",
       "text": [
        "\n"
       ]
      }
     ],
     "prompt_number": 2
    },
    {
     "cell_type": "code",
     "collapsed": false,
     "input": [
      "# run gfunc_build_n_way_one2one script and capture output in variable `trap`\n",
      "%run -i ../../../Dropbox/repos/git/gfunc/src/gfunc/scripts/gfunc_build_n_way_one2one.py ../../../Dropbox/common/gfunc/Aa_Ag_Cq_sort_pci.new_data.ecr_team_orthodb7.yaml\n",
      "\n",
      "graphHandler_e,graphBuilder_e,n_way_ortho_table,ortho_parser = trap\n",
      "\n",
      "# extract edge data from the graphs\n",
      "edges_e = graphHandler_e.edge_dict.values() "
     ],
     "language": "python",
     "metadata": {},
     "outputs": [
      {
       "output_type": "stream",
       "stream": "stdout",
       "text": [
        "main() completed.\n"
       ]
      }
     ],
     "prompt_number": 3
    },
    {
     "cell_type": "code",
     "collapsed": false,
     "input": [
      "#set the parameters of ptci to calculate\n",
      "\n",
      "options = Bunch()\n",
      "\n",
      "options.kind = 'rsrd'\n",
      "options.w_min = 1.0\n",
      "options.w_max = 1.1\n",
      "options.n_way_ortho_table = n_way_ortho_table\n",
      "\n",
      "ptci_threshold = 0.95\n",
      "\n",
      "save_fasta = True"
     ],
     "language": "python",
     "metadata": {},
     "outputs": [],
     "prompt_number": 4
    },
    {
     "cell_type": "code",
     "collapsed": false,
     "input": [
      "def initiate_graph_with_ptci_data(graphHandler,options):\n",
      "    opts = options\n",
      "    \n",
      "    edges = graphHandler.edge_dict.values()\n",
      "    # get r_z_values\n",
      "    r_and_p_values = dev.get_edge_r_and_p_vals(edges,quiet=False)\n",
      "    r_values = [r_and_p_values[i][0] for i in range(len(r_and_p_values))]\n",
      "    z_stats = m.get_z_score_stats(r_values)\n",
      "    dev.set_z_vals(graphHandler,z_stats,use_center='median')\n",
      "    \n",
      "    # sort out the pairwise ptcis\n",
      "    pairwise_ptci_vals = dev.get_pairwise_ptci_vals(edges,kind=opts.kind,quiet=True,w_min=opts.w_min,w_max=opts.w_max)\n",
      "    \n",
      "    # sort out the mean ptcis\n",
      "    n_way_mean_ptcis = dev.get_mean_ptcis(graphHandler,opts.n_way_ortho_table,kind=opts.kind,quiet=True,w_min=opts.w_min,w_max=opts.w_max)\n",
      "    \n",
      "    return graphHandler"
     ],
     "language": "python",
     "metadata": {},
     "outputs": [],
     "prompt_number": 5
    },
    {
     "cell_type": "code",
     "collapsed": false,
     "input": [
      "jaspar = initiate_graph_with_ptci_data(graphHandler_j,options)"
     ],
     "language": "python",
     "metadata": {},
     "outputs": [
      {
       "output_type": "stream",
       "stream": "stdout",
       "text": [
        "r_vals before cleaning: 15303\n",
        "Returning 13536 r_vals."
       ]
      },
      {
       "output_type": "stream",
       "stream": "stdout",
       "text": [
        "\n"
       ]
      }
     ],
     "prompt_number": 6
    },
    {
     "cell_type": "code",
     "collapsed": false,
     "input": [
      "ecr_team = initiate_graph_with_ptci_data(graphHandler_e,options)"
     ],
     "language": "python",
     "metadata": {},
     "outputs": [
      {
       "output_type": "stream",
       "stream": "stdout",
       "text": [
        "r_vals before cleaning: 15303\n",
        "Returning 13536 r_vals."
       ]
      },
      {
       "output_type": "stream",
       "stream": "stdout",
       "text": [
        "\n"
       ]
      }
     ],
     "prompt_number": 7
    },
    {
     "cell_type": "markdown",
     "metadata": {},
     "source": [
      "## Pull out edges with pairwise ptci scores at or above given threshold:"
     ]
    },
    {
     "cell_type": "code",
     "collapsed": false,
     "input": [
      "def filter_edges_by_pairwise_ptci(graphHandler,ptci_thresh):\n",
      "    \"\"\"\n",
      "    returns a tuple of edges that meet or exceed the supplied ptci_threshold\n",
      "    \"\"\"\n",
      "    edges = graphHandler.edge_dict.values()\n",
      "    \n",
      "    filtered_edges = []\n",
      "    \n",
      "    for edge in edges:\n",
      "        try:\n",
      "            if edge.data.PTCI >= ptci_thresh:\n",
      "                filtered_edges.append(edge)\n",
      "            else:\n",
      "                pass\n",
      "        except AttributeError as exc:\n",
      "            if \"'Bunch' object has no attribute 'PTCI'\" in str(exc):\n",
      "                pass\n",
      "            else:\n",
      "                raise\n",
      "            \n",
      "    return tuple(filtered_edges)"
     ],
     "language": "python",
     "metadata": {},
     "outputs": [],
     "prompt_number": 8
    },
    {
     "cell_type": "code",
     "collapsed": false,
     "input": [
      "jaspar_edges_p_ptci = filter_edges_by_pairwise_ptci(graphHandler=jaspar,ptci_thresh=ptci_threshold)\n",
      "print \"jaspar_p_ptci: %s\" % (len(jaspar_edges_p_ptci))"
     ],
     "language": "python",
     "metadata": {},
     "outputs": [
      {
       "output_type": "stream",
       "stream": "stdout",
       "text": [
        "jaspar_p_ptci: 1614\n"
       ]
      }
     ],
     "prompt_number": 9
    },
    {
     "cell_type": "code",
     "collapsed": false,
     "input": [
      "ecr_edges_p_ptci = filter_edges_by_pairwise_ptci(graphHandler=ecr_team,ptci_thresh=ptci_threshold)\n",
      "print \"ecr_p_ptci: %s\" % (len(ecr_edges_p_ptci))"
     ],
     "language": "python",
     "metadata": {},
     "outputs": [
      {
       "output_type": "stream",
       "stream": "stdout",
       "text": [
        "ecr_p_ptci: 1736\n"
       ]
      }
     ],
     "prompt_number": 10
    },
    {
     "cell_type": "markdown",
     "metadata": {},
     "source": [
      "## Pull out edges with MEAN ptci scores at or above given threshold:"
     ]
    },
    {
     "cell_type": "code",
     "collapsed": false,
     "input": [
      "def filter_edges_by_mean_ptci(graphHandler,ptci_thresh):\n",
      "    \"\"\"\n",
      "    returns a tuple of edges that meet or exceed the supplied ptci_threshold\n",
      "    \"\"\"\n",
      "    edges = graphHandler.edge_dict.values()\n",
      "    \n",
      "    filtered_edges = []\n",
      "    \n",
      "    for edge in edges:\n",
      "        try:\n",
      "            if edge.data.meanPTCI >= ptci_thresh:\n",
      "                filtered_edges.append(edge)\n",
      "            else:\n",
      "                pass\n",
      "        except AttributeError as exc:\n",
      "            if \"'Bunch' object has no attribute 'meanPTCI'\" in str(exc):\n",
      "                pass\n",
      "            else:\n",
      "                raise\n",
      "            \n",
      "    return tuple(filtered_edges)"
     ],
     "language": "python",
     "metadata": {},
     "outputs": [],
     "prompt_number": 11
    },
    {
     "cell_type": "code",
     "collapsed": false,
     "input": [
      "jaspar_edges_m_ptci = filter_edges_by_mean_ptci(graphHandler=jaspar,ptci_thresh=ptci_threshold)\n",
      "print \"jaspar_m_ptci: %s\" % (len(jaspar_edges_m_ptci))"
     ],
     "language": "python",
     "metadata": {},
     "outputs": [
      {
       "output_type": "stream",
       "stream": "stdout",
       "text": [
        "jaspar_m_ptci: 666\n"
       ]
      }
     ],
     "prompt_number": 12
    },
    {
     "cell_type": "code",
     "collapsed": false,
     "input": [
      "ecr_edges_m_ptci = filter_edges_by_mean_ptci(graphHandler=ecr_team,ptci_thresh=ptci_threshold)\n",
      "print \"ecr_m_ptci: %s\" % (len(ecr_edges_m_ptci))"
     ],
     "language": "python",
     "metadata": {},
     "outputs": [
      {
       "output_type": "stream",
       "stream": "stdout",
       "text": [
        "ecr_m_ptci: 708\n"
       ]
      }
     ],
     "prompt_number": 13
    },
    {
     "cell_type": "markdown",
     "metadata": {},
     "source": [
      "## Overlap of edges between pairwise(jaspar : ecr_team)"
     ]
    },
    {
     "cell_type": "code",
     "collapsed": false,
     "input": [
      "def get_edge_intersection(edges1,edges2):\n",
      "    \"\"\"\n",
      "    \"\"\"\n",
      "    e1 = set([str(e) for e in edges1])\n",
      "    e2 = set([str(e) for e in edges2])\n",
      "    \n",
      "    return len(e1),len(e2),e1.intersection(e2)\n",
      "    "
     ],
     "language": "python",
     "metadata": {},
     "outputs": [],
     "prompt_number": 14
    },
    {
     "cell_type": "code",
     "collapsed": false,
     "input": [
      "def get_edge_union(edges1,edges2):\n",
      "    \"\"\"\n",
      "    \"\"\"\n",
      "    e1 = set([str(e) for e in edges1])\n",
      "    e2 = set([str(e) for e in edges2])\n",
      "    \n",
      "    return len(e1),len(e2),e1.union(e2)\n",
      "    "
     ],
     "language": "python",
     "metadata": {},
     "outputs": [],
     "prompt_number": 15
    },
    {
     "cell_type": "code",
     "collapsed": false,
     "input": [
      "lp1,lp2,intersect_p = get_edge_intersection(jaspar_edges_p_ptci,ecr_edges_p_ptci)"
     ],
     "language": "python",
     "metadata": {},
     "outputs": [],
     "prompt_number": 16
    },
    {
     "cell_type": "code",
     "collapsed": false,
     "input": [
      "len(intersect_p)"
     ],
     "language": "python",
     "metadata": {},
     "outputs": [
      {
       "metadata": {},
       "output_type": "pyout",
       "prompt_number": 17,
       "text": [
        "1053"
       ]
      }
     ],
     "prompt_number": 17
    },
    {
     "cell_type": "markdown",
     "metadata": {},
     "source": [
      "## Overlap of edges between mean(jaspar : ecr_team)"
     ]
    },
    {
     "cell_type": "code",
     "collapsed": false,
     "input": [
      "lm1,lm2,intersect_m = get_edge_intersection(jaspar_edges_m_ptci,ecr_edges_m_ptci)"
     ],
     "language": "python",
     "metadata": {},
     "outputs": [],
     "prompt_number": 18
    },
    {
     "cell_type": "code",
     "collapsed": false,
     "input": [
      "lm1,lm2,len(intersect_m)"
     ],
     "language": "python",
     "metadata": {},
     "outputs": [
      {
       "metadata": {},
       "output_type": "pyout",
       "prompt_number": 19,
       "text": [
        "(666, 708, 444)"
       ]
      }
     ],
     "prompt_number": 19
    },
    {
     "cell_type": "markdown",
     "metadata": {},
     "source": [
      "## Overlap of edges between pairwise(jaspar) and mean(jaspar)"
     ]
    },
    {
     "cell_type": "code",
     "collapsed": false,
     "input": [
      "lp_jaspar,lm_jaspar,intersect_pm_jaspar = get_edge_intersection(jaspar_edges_p_ptci,jaspar_edges_m_ptci)"
     ],
     "language": "python",
     "metadata": {},
     "outputs": [],
     "prompt_number": 20
    },
    {
     "cell_type": "code",
     "collapsed": false,
     "input": [
      "print \"jaspar_pANDm_ptci: %s\" % len(intersect_pm_jaspar)"
     ],
     "language": "python",
     "metadata": {},
     "outputs": [
      {
       "output_type": "stream",
       "stream": "stdout",
       "text": [
        "jaspar_pANDm_ptci: 474\n"
       ]
      }
     ],
     "prompt_number": 21
    },
    {
     "cell_type": "markdown",
     "metadata": {},
     "source": [
      "## Overlap of edges between pairwise(ecr_team) and mean(ecr_team)"
     ]
    },
    {
     "cell_type": "code",
     "collapsed": false,
     "input": [
      "lp_ecr,lm_ecr,intersect_pm_ecr = get_edge_intersection(ecr_edges_p_ptci,ecr_edges_m_ptci)"
     ],
     "language": "python",
     "metadata": {},
     "outputs": [],
     "prompt_number": 22
    },
    {
     "cell_type": "code",
     "collapsed": false,
     "input": [
      "lp_ecr,lm_ecr,len(intersect_pm_ecr)"
     ],
     "language": "python",
     "metadata": {},
     "outputs": [
      {
       "metadata": {},
       "output_type": "pyout",
       "prompt_number": 23,
       "text": [
        "(1736, 708, 486)"
       ]
      }
     ],
     "prompt_number": 23
    },
    {
     "cell_type": "markdown",
     "metadata": {},
     "source": [
      "### Union of ecr and jaspar_insects"
     ]
    },
    {
     "cell_type": "code",
     "collapsed": false,
     "input": [
      "edges1,edges2,ecr_OR_insect = get_edge_union(jaspar_edges_m_ptci,ecr_edges_m_ptci)"
     ],
     "language": "python",
     "metadata": {},
     "outputs": [],
     "prompt_number": 24
    },
    {
     "cell_type": "code",
     "collapsed": false,
     "input": [
      "len(ecr_OR_insect)"
     ],
     "language": "python",
     "metadata": {},
     "outputs": [
      {
       "metadata": {},
       "output_type": "pyout",
       "prompt_number": 25,
       "text": [
        "930"
       ]
      }
     ],
     "prompt_number": 25
    },
    {
     "cell_type": "markdown",
     "metadata": {},
     "source": [
      "## Function to extract nr gene list from edge-sets"
     ]
    },
    {
     "cell_type": "code",
     "collapsed": false,
     "input": [
      "def get_nr_gene_names_from_edge_set(edge_set):\n",
      "    \"\"\"\n",
      "    \"\"\"\n",
      "    genes_nr = []\n",
      "    for edge in edge_set:\n",
      "        edge = str(edge)\n",
      "        genes = edge.rstrip(')').replace('(',',').split(',')[1:]\n",
      "        genes_nr.extend(genes)\n",
      "        \n",
      "    return sorted(list(set(genes_nr)))"
     ],
     "language": "python",
     "metadata": {},
     "outputs": [],
     "prompt_number": 26
    },
    {
     "cell_type": "code",
     "collapsed": false,
     "input": [
      "jaspar_edges_m_ptci_genes = get_nr_gene_names_from_edge_set(jaspar_edges_m_ptci)"
     ],
     "language": "python",
     "metadata": {},
     "outputs": [],
     "prompt_number": 27
    },
    {
     "cell_type": "code",
     "collapsed": false,
     "input": [
      "ecr_edges_m_ptci_genes = get_nr_gene_names_from_edge_set(ecr_edges_m_ptci)"
     ],
     "language": "python",
     "metadata": {},
     "outputs": [],
     "prompt_number": 28
    },
    {
     "cell_type": "code",
     "collapsed": false,
     "input": [
      "ecr_OR_insect_edges_m_ptci_genes = get_nr_gene_names_from_edge_set(ecr_OR_insect)"
     ],
     "language": "python",
     "metadata": {},
     "outputs": [],
     "prompt_number": 29
    },
    {
     "cell_type": "code",
     "collapsed": false,
     "input": [
      "len(jaspar_edges_m_ptci_genes)"
     ],
     "language": "python",
     "metadata": {},
     "outputs": [
      {
       "metadata": {},
       "output_type": "pyout",
       "prompt_number": 30,
       "text": [
        "666"
       ]
      }
     ],
     "prompt_number": 30
    },
    {
     "cell_type": "code",
     "collapsed": false,
     "input": [
      "len(ecr_edges_m_ptci_genes)"
     ],
     "language": "python",
     "metadata": {},
     "outputs": [
      {
       "metadata": {},
       "output_type": "pyout",
       "prompt_number": 31,
       "text": [
        "708"
       ]
      }
     ],
     "prompt_number": 31
    },
    {
     "cell_type": "code",
     "collapsed": false,
     "input": [
      "len(ecr_OR_insect_edges_m_ptci_genes)"
     ],
     "language": "python",
     "metadata": {},
     "outputs": [
      {
       "metadata": {},
       "output_type": "pyout",
       "prompt_number": 32,
       "text": [
        "930"
       ]
      }
     ],
     "prompt_number": 32
    },
    {
     "cell_type": "markdown",
     "metadata": {},
     "source": [
      "## Function to partition genes based on their prefix"
     ]
    },
    {
     "cell_type": "code",
     "collapsed": false,
     "input": [
      "def parition_gene_names_by_prefix(gene_names):\n",
      "    \"\"\"\n",
      "    \"\"\"\n",
      "    partitioned_names = defaultdict(list)\n",
      "    for name in gene_names:\n",
      "        pfx = name[:4]\n",
      "        partitioned_names[pfx].append(name)\n",
      "        \n",
      "    return Bunch(partitioned_names)\n",
      "    "
     ],
     "language": "python",
     "metadata": {},
     "outputs": [],
     "prompt_number": 33
    },
    {
     "cell_type": "code",
     "collapsed": false,
     "input": [
      "partitioned_names = parition_gene_names_by_prefix(ecr_OR_insect_edges_m_ptci_genes)"
     ],
     "language": "python",
     "metadata": {},
     "outputs": [],
     "prompt_number": 34
    },
    {
     "cell_type": "code",
     "collapsed": false,
     "input": [
      "len(partitioned_names)"
     ],
     "language": "python",
     "metadata": {},
     "outputs": [
      {
       "metadata": {},
       "output_type": "pyout",
       "prompt_number": 35,
       "text": [
        "3"
       ]
      }
     ],
     "prompt_number": 35
    },
    {
     "cell_type": "code",
     "collapsed": false,
     "input": [
      "for pfx in [x for x in partitioned_names]:\n",
      "    print '%s: %s\\n' % (pfx,len(partitioned_names[pfx]))"
     ],
     "language": "python",
     "metadata": {},
     "outputs": [
      {
       "output_type": "stream",
       "stream": "stdout",
       "text": [
        "CPIJ: 310\n",
        "\n",
        "AAEL: 310\n",
        "\n",
        "AGAP: 310\n",
        "\n"
       ]
      }
     ],
     "prompt_number": 36
    },
    {
     "cell_type": "code",
     "collapsed": false,
     "input": [
      "# names_out = open('/home/gus/Dropbox/common/projects/Aa_Ag_Cq_As/gfunc_stuff/prelim_gene_analysis/ecr_OR_insect_20130918_orthodb7/ecr_OR_insect_meanPTCI_thresh_0_95_gene_names.txt.test', 'w')\n",
      "    "
     ],
     "language": "python",
     "metadata": {},
     "outputs": [],
     "prompt_number": 37
    },
    {
     "cell_type": "code",
     "collapsed": false,
     "input": [
      "# gene_names = []\n",
      "# for pfx in partitioned_names.keys():\n",
      "#     for gene_name in partitioned_names[pfx]:\n",
      "#         gene_names.append(gene_name)\n",
      "#         names_out.write(gene_name + '\\n')"
     ],
     "language": "python",
     "metadata": {},
     "outputs": [],
     "prompt_number": 38
    },
    {
     "cell_type": "code",
     "collapsed": false,
     "input": [
      "# names_out.close()"
     ],
     "language": "python",
     "metadata": {},
     "outputs": [],
     "prompt_number": 39
    },
    {
     "cell_type": "markdown",
     "metadata": {},
     "source": [
      "## Function for extracting sequences from gene names"
     ]
    },
    {
     "cell_type": "code",
     "collapsed": false,
     "input": [
      "def make_fasta_from_gene_names(gene_names,out_path,fasta_path_list=[]):\n",
      "    \"\"\"\n",
      "    \"\"\"\n",
      "    # create one large nested fasta dict keyed as fastas[gene_name][transcript_prot_name]=seq\n",
      "    \n",
      "    fasta_db = dev.dict_tree()\n",
      "    \n",
      "    for fasta_path in fasta_path_list:\n",
      "        p = ParseFastA(fasta_path)\n",
      "        d = p.to_dict()\n",
      "        for name,seq in d.iteritems():\n",
      "            fasta_db[name[:-3]][name] = seq\n",
      "    \n",
      "    # collect my seqs\n",
      "    my_seqs = dev.dict_tree()\n",
      "    \n",
      "    for name in gene_names:\n",
      "        children = fasta_db[name]\n",
      "        for child in children.keys():\n",
      "            my_seqs[child] = fasta_db[name][child]\n",
      "            \n",
      "    # write seqs to file\n",
      "    write_fasta_from_seq_dict(my_seqs,out_path)\n",
      "    \n",
      "    \n",
      "def write_fasta_from_seq_dict(seq_dict,out_path):\n",
      "    \"\"\"\n",
      "    \"\"\"\n",
      "    out_file = open(out_path,'w')\n",
      "    \n",
      "    for name,seq in seq_dict.iteritems():\n",
      "        folded = fold_seq(seq)\n",
      "        folded = '\\n'.join(folded)\n",
      "        rec = '>%s\\n%s\\n' % (name,folded)\n",
      "        out_file.write(rec)\n",
      "        \n",
      "    out_file.close()"
     ],
     "language": "python",
     "metadata": {},
     "outputs": [],
     "prompt_number": 40
    },
    {
     "cell_type": "code",
     "collapsed": false,
     "input": [
      "# f_path_list = ['/home/gus/genome_data/cquinquefasciatus/Geneset/cquinquefasciatus.PEPTIDES-CpipJ1.3.fa',\n",
      "#                '/home/gus/genome_data/agambiae/Geneset/agambiae.PEPTIDES-AgamP3.7.fa',\n",
      "#                '/home/gus/genome_data/aaegypti/Geneset/aaegypti.PEPTIDES-AaegL1.3.fa']\n",
      "# fasta_out_path = '/home/gus/Dropbox/common/projects/Aa_Ag_Cq_As/gfunc_stuff/prelim_gene_analysis/ecr_OR_insect_20130918_orthodb7/ptci_1_0/ecr_OR_insect_meanPTCI_thresh_1_genes.PEPTIDES.fasta'\n"
     ],
     "language": "python",
     "metadata": {},
     "outputs": [],
     "prompt_number": 41
    },
    {
     "cell_type": "code",
     "collapsed": false,
     "input": [
      "# make_fasta_from_gene_names(gene_names=gene_names,out_path=fasta_out_path,fasta_path_list=f_path_list)"
     ],
     "language": "python",
     "metadata": {},
     "outputs": [],
     "prompt_number": 42
    },
    {
     "cell_type": "code",
     "collapsed": false,
     "input": [
      "# fasta_list_promoters = ['/home/gus/Dropbox/common/korea_data/orthologs/Aa_AaAgCq_ortho_2000up.fasta',\n",
      "#                         '/home/gus/Dropbox/common/korea_data/orthologs/Ag_AaAgCq_ortho_2000up.fasta',\n",
      "#                         '/home/gus/Dropbox/common/korea_data/orthologs/Cq_AaAgCq_ortho_2000up.fasta']"
     ],
     "language": "python",
     "metadata": {},
     "outputs": [],
     "prompt_number": 43
    },
    {
     "cell_type": "code",
     "collapsed": false,
     "input": [
      "# def write_pos_neg_seq_fastas(pos_names,fasta_paths,pos_path,neg_path,neg_names='left_overs',write_negs=True):\n",
      "#     \"\"\"\n",
      "#     function to output forground/background fasta files for motif discovery purposes\n",
      "#     \"\"\"\n",
      "    \n",
      "    \n",
      "#     # build mega-seq-dict\n",
      "#     mega_dict = {}\n",
      "    \n",
      "#     for fasta_path in fasta_paths:\n",
      "#         p = ParseFastA(fasta_path)\n",
      "#         d = p.to_dict()\n",
      "#         mega_dict.update(d)\n",
      "    \n",
      "#     # if neg_names = left_overs retrieve neg_name list\n",
      "#     if neg_names == 'left_overs':\n",
      "#         neg_names = list(set(mega_dict.keys()) - set(pos_names))\n",
      "        \n",
      "#     # build pos_dict\n",
      "#     pos_dict = {}\n",
      "#     for name in pos_names:\n",
      "#         pos_dict[name] = mega_dict[name]\n",
      "\n",
      "#     # build neg_dict\n",
      "#     if write_negs:\n",
      "#         neg_dict = {}\n",
      "#         for name in neg_names:\n",
      "#             neg_dict[name] = mega_dict[name]\n",
      "        \n",
      "#     # write out_files\n",
      "#     write_fasta_from_seq_dict(pos_dict,pos_path)\n",
      "#     if write_negs:\n",
      "#         write_fasta_from_seq_dict(neg_dict,neg_path)    \n",
      "    "
     ],
     "language": "python",
     "metadata": {},
     "outputs": [],
     "prompt_number": 44
    },
    {
     "cell_type": "code",
     "collapsed": false,
     "input": [
      "# pos_path = '/home/gus/Dropbox/common/projects/Aa_Ag_Cq_As/gfunc_stuff/prelim_gene_analysis/ecr_OR_insect_20130918_orthodb7/ptci_1_0/ecr_OR_insect_meanPTCI_thresh_1_genes.2000up.positives.fasta'\n",
      "# neg_path = '/home/gus/Dropbox/common/projects/Aa_Ag_Cq_As/gfunc_stuff/prelim_gene_analysis/ecr_OR_insect_20130918_orthodb7/ptci_1_0/ecr_OR_insect_meanPTCI_thresh_1_genes.2000up.negatives.fasta'\n",
      "\n",
      "# write_pos_neg_seq_fastas(pos_names=gene_names,fasta_paths=fasta_list_promoters,pos_path=pos_path,neg_path=neg_path,neg_names='left_overs')"
     ],
     "language": "python",
     "metadata": {},
     "outputs": [],
     "prompt_number": 45
    },
    {
     "cell_type": "markdown",
     "metadata": {},
     "source": [
      "spc = 'CPIJ'\n",
      "gene_names_spc = [x.strip() for x in open('/home/gus/Dropbox/common/projects/Aa_Ag_Cq_As/gfunc_stuff/prelim_gene_analysis/ecr_team_20130903/ecr_team_meanPTCI_thresh_XX_gene_names.%s.txt' % (spc))]\n",
      "\n",
      "pos_path = '/home/gus/Dropbox/common/projects/Aa_Ag_Cq_As/gfunc_stuff/prelim_gene_analysis/ecr_team_20130903/ecr_team_meanPTCI_thresh_XX_genes.%s.2000up.positives.fasta' % (spc)\n",
      "neg_path = '/home/gus/Dropbox/common/projects/Aa_Ag_Cq_As/gfunc_stuff/prelim_gene_analysis/ecr_team_20130903/ecr_team_meanPTCI_thresh_XX_genes.2000up.negatives.fasta'\n",
      "\n",
      "write_pos_neg_seq_fastas(pos_names=gene_names_spc,fasta_paths=fasta_list_promoters,pos_path=pos_path,neg_path=neg_path,neg_names='left_overs',write_negs=False)"
     ]
    },
    {
     "cell_type": "code",
     "collapsed": false,
     "input": [],
     "language": "python",
     "metadata": {},
     "outputs": [],
     "prompt_number": 45
    }
   ],
   "metadata": {}
  }
 ]
}