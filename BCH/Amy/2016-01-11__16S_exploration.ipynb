{
 "cells": [
  {
   "cell_type": "code",
   "execution_count": 88,
   "metadata": {
    "collapsed": false
   },
   "outputs": [],
   "source": [
    "%matplotlib inline\n",
    "# %matplotlib"
   ]
  },
  {
   "cell_type": "code",
   "execution_count": 2,
   "metadata": {
    "collapsed": true
   },
   "outputs": [],
   "source": [
    "from __future__ import division,print_function"
   ]
  },
  {
   "cell_type": "code",
   "execution_count": 3,
   "metadata": {
    "collapsed": false
   },
   "outputs": [],
   "source": [
    "from spartan.utils import sklearn as splearn"
   ]
  },
  {
   "cell_type": "code",
   "execution_count": 592,
   "metadata": {
    "collapsed": false
   },
   "outputs": [],
   "source": [
    "import numpy as np\n",
    "import pandas as pd\n",
    "import sklearn as skl\n",
    "import sklearn.preprocessing as ppro\n",
    "\n",
    "from sklearn.pipeline import Pipeline\n",
    "from sklearn.pipeline import make_pipeline\n",
    "\n",
    "from sklearn.decomposition import PCA, RandomizedPCA, KernelPCA, FactorAnalysis\n",
    "from sklearn.discriminant_analysis import LinearDiscriminantAnalysis\n",
    "\n",
    "from sklearn.grid_search import GridSearchCV\n",
    "from sklearn.cross_validation import train_test_split\n",
    "\n",
    "from sklearn.svm import SVC, LinearSVC\n",
    "from sklearn.ensemble import RandomForestClassifier,ExtraTreesClassifier\n",
    "\n",
    "from sklearn.linear_model import LogisticRegression\n",
    "from sklearn.linear_model import RandomizedLogisticRegression\n",
    "from sklearn.linear_model import Lasso\n",
    "\n",
    "from sklearn.feature_selection import SelectKBest\n",
    "\n",
    "from sklearn.metrics import confusion_matrix\n",
    "\n",
    "from sklearn.feature_selection import SelectFromModel"
   ]
  },
  {
   "cell_type": "code",
   "execution_count": 5,
   "metadata": {
    "collapsed": true
   },
   "outputs": [],
   "source": [
    "from matplotlib import pyplot as plt\n",
    "import seaborn as sns"
   ]
  },
  {
   "cell_type": "code",
   "execution_count": 86,
   "metadata": {
    "collapsed": false
   },
   "outputs": [],
   "source": [
    "sns.set_context('poster')"
   ]
  },
  {
   "cell_type": "code",
   "execution_count": 7,
   "metadata": {
    "collapsed": true
   },
   "outputs": [],
   "source": [
    "tax_path = \"/home/gus/MEGAsync/zim/main/BCH/Projects/Amy/2016-01-07_~_16s_data/otu_table_mc2_w_tax_no_pynast_failures.biom.TAXON.tsv\"\n",
    "map_path = \"/home/gus/MEGAsync/zim/main/BCH/Projects/Amy/2016-01-07_~_16s_data/BL6SPFDec16map.txt\""
   ]
  },
  {
   "cell_type": "code",
   "execution_count": 8,
   "metadata": {
    "collapsed": true
   },
   "outputs": [],
   "source": [
    "tax = pd.read_csv(filepath_or_buffer=tax_path, sep='\\t', \n",
    "                  quoting=0, skipinitialspace=False, lineterminator=None, header='infer', index_col=None, names=None)\n",
    "\n",
    "meta = pd.read_csv(filepath_or_buffer=map_path, sep='\\t')"
   ]
  },
  {
   "cell_type": "code",
   "execution_count": 9,
   "metadata": {
    "collapsed": false
   },
   "outputs": [
    {
     "data": {
      "text/html": [
       "<div>\n",
       "<table border=\"1\" class=\"dataframe\">\n",
       "  <thead>\n",
       "    <tr style=\"text-align: right;\">\n",
       "      <th></th>\n",
       "      <th>OTU ID</th>\n",
       "      <th>23</th>\n",
       "      <th>25</th>\n",
       "      <th>27</th>\n",
       "      <th>28</th>\n",
       "      <th>30</th>\n",
       "      <th>39</th>\n",
       "      <th>41</th>\n",
       "      <th>8</th>\n",
       "      <th>24</th>\n",
       "      <th>7</th>\n",
       "      <th>9</th>\n",
       "      <th>5</th>\n",
       "    </tr>\n",
       "  </thead>\n",
       "  <tbody>\n",
       "    <tr>\n",
       "      <th>0</th>\n",
       "      <td>206494</td>\n",
       "      <td>33</td>\n",
       "      <td>16</td>\n",
       "      <td>190</td>\n",
       "      <td>11</td>\n",
       "      <td>92</td>\n",
       "      <td>12</td>\n",
       "      <td>2272</td>\n",
       "      <td>2</td>\n",
       "      <td>0</td>\n",
       "      <td>0</td>\n",
       "      <td>0</td>\n",
       "      <td>0</td>\n",
       "    </tr>\n",
       "    <tr>\n",
       "      <th>1</th>\n",
       "      <td>276629</td>\n",
       "      <td>0</td>\n",
       "      <td>0</td>\n",
       "      <td>1</td>\n",
       "      <td>0</td>\n",
       "      <td>0</td>\n",
       "      <td>0</td>\n",
       "      <td>0</td>\n",
       "      <td>0</td>\n",
       "      <td>1</td>\n",
       "      <td>1</td>\n",
       "      <td>0</td>\n",
       "      <td>0</td>\n",
       "    </tr>\n",
       "    <tr>\n",
       "      <th>2</th>\n",
       "      <td>276620</td>\n",
       "      <td>0</td>\n",
       "      <td>0</td>\n",
       "      <td>0</td>\n",
       "      <td>0</td>\n",
       "      <td>0</td>\n",
       "      <td>0</td>\n",
       "      <td>0</td>\n",
       "      <td>0</td>\n",
       "      <td>2</td>\n",
       "      <td>1</td>\n",
       "      <td>1</td>\n",
       "      <td>0</td>\n",
       "    </tr>\n",
       "    <tr>\n",
       "      <th>3</th>\n",
       "      <td>330294</td>\n",
       "      <td>0</td>\n",
       "      <td>0</td>\n",
       "      <td>0</td>\n",
       "      <td>0</td>\n",
       "      <td>0</td>\n",
       "      <td>0</td>\n",
       "      <td>2</td>\n",
       "      <td>0</td>\n",
       "      <td>0</td>\n",
       "      <td>0</td>\n",
       "      <td>2</td>\n",
       "      <td>0</td>\n",
       "    </tr>\n",
       "    <tr>\n",
       "      <th>4</th>\n",
       "      <td>184456</td>\n",
       "      <td>1</td>\n",
       "      <td>0</td>\n",
       "      <td>0</td>\n",
       "      <td>0</td>\n",
       "      <td>0</td>\n",
       "      <td>0</td>\n",
       "      <td>1</td>\n",
       "      <td>0</td>\n",
       "      <td>0</td>\n",
       "      <td>0</td>\n",
       "      <td>0</td>\n",
       "      <td>0</td>\n",
       "    </tr>\n",
       "  </tbody>\n",
       "</table>\n",
       "</div>"
      ],
      "text/plain": [
       "   OTU ID  23  25   27  28  30  39    41  8  24  7  9  5\n",
       "0  206494  33  16  190  11  92  12  2272  2   0  0  0  0\n",
       "1  276629   0   0    1   0   0   0     0  0   1  1  0  0\n",
       "2  276620   0   0    0   0   0   0     0  0   2  1  1  0\n",
       "3  330294   0   0    0   0   0   0     2  0   0  0  2  0\n",
       "4  184456   1   0    0   0   0   0     1  0   0  0  0  0"
      ]
     },
     "execution_count": 9,
     "metadata": {},
     "output_type": "execute_result"
    }
   ],
   "source": [
    "tax.head()"
   ]
  },
  {
   "cell_type": "code",
   "execution_count": 10,
   "metadata": {
    "collapsed": false
   },
   "outputs": [],
   "source": [
    "tax.index = tax['OTU ID'].values\n",
    "tax = tax.drop(['OTU ID'],axis=1)"
   ]
  },
  {
   "cell_type": "code",
   "execution_count": 11,
   "metadata": {
    "collapsed": false
   },
   "outputs": [
    {
     "data": {
      "text/html": [
       "<div>\n",
       "<table border=\"1\" class=\"dataframe\">\n",
       "  <thead>\n",
       "    <tr style=\"text-align: right;\">\n",
       "      <th></th>\n",
       "      <th>23</th>\n",
       "      <th>25</th>\n",
       "      <th>27</th>\n",
       "      <th>28</th>\n",
       "      <th>30</th>\n",
       "      <th>39</th>\n",
       "      <th>41</th>\n",
       "      <th>8</th>\n",
       "      <th>24</th>\n",
       "      <th>7</th>\n",
       "      <th>9</th>\n",
       "      <th>5</th>\n",
       "    </tr>\n",
       "  </thead>\n",
       "  <tbody>\n",
       "    <tr>\n",
       "      <th>206494</th>\n",
       "      <td>33</td>\n",
       "      <td>16</td>\n",
       "      <td>190</td>\n",
       "      <td>11</td>\n",
       "      <td>92</td>\n",
       "      <td>12</td>\n",
       "      <td>2272</td>\n",
       "      <td>2</td>\n",
       "      <td>0</td>\n",
       "      <td>0</td>\n",
       "      <td>0</td>\n",
       "      <td>0</td>\n",
       "    </tr>\n",
       "    <tr>\n",
       "      <th>276629</th>\n",
       "      <td>0</td>\n",
       "      <td>0</td>\n",
       "      <td>1</td>\n",
       "      <td>0</td>\n",
       "      <td>0</td>\n",
       "      <td>0</td>\n",
       "      <td>0</td>\n",
       "      <td>0</td>\n",
       "      <td>1</td>\n",
       "      <td>1</td>\n",
       "      <td>0</td>\n",
       "      <td>0</td>\n",
       "    </tr>\n",
       "    <tr>\n",
       "      <th>276620</th>\n",
       "      <td>0</td>\n",
       "      <td>0</td>\n",
       "      <td>0</td>\n",
       "      <td>0</td>\n",
       "      <td>0</td>\n",
       "      <td>0</td>\n",
       "      <td>0</td>\n",
       "      <td>0</td>\n",
       "      <td>2</td>\n",
       "      <td>1</td>\n",
       "      <td>1</td>\n",
       "      <td>0</td>\n",
       "    </tr>\n",
       "    <tr>\n",
       "      <th>330294</th>\n",
       "      <td>0</td>\n",
       "      <td>0</td>\n",
       "      <td>0</td>\n",
       "      <td>0</td>\n",
       "      <td>0</td>\n",
       "      <td>0</td>\n",
       "      <td>2</td>\n",
       "      <td>0</td>\n",
       "      <td>0</td>\n",
       "      <td>0</td>\n",
       "      <td>2</td>\n",
       "      <td>0</td>\n",
       "    </tr>\n",
       "    <tr>\n",
       "      <th>184456</th>\n",
       "      <td>1</td>\n",
       "      <td>0</td>\n",
       "      <td>0</td>\n",
       "      <td>0</td>\n",
       "      <td>0</td>\n",
       "      <td>0</td>\n",
       "      <td>1</td>\n",
       "      <td>0</td>\n",
       "      <td>0</td>\n",
       "      <td>0</td>\n",
       "      <td>0</td>\n",
       "      <td>0</td>\n",
       "    </tr>\n",
       "  </tbody>\n",
       "</table>\n",
       "</div>"
      ],
      "text/plain": [
       "        23  25   27  28  30  39    41  8  24  7  9  5\n",
       "206494  33  16  190  11  92  12  2272  2   0  0  0  0\n",
       "276629   0   0    1   0   0   0     0  0   1  1  0  0\n",
       "276620   0   0    0   0   0   0     0  0   2  1  1  0\n",
       "330294   0   0    0   0   0   0     2  0   0  0  2  0\n",
       "184456   1   0    0   0   0   0     1  0   0  0  0  0"
      ]
     },
     "execution_count": 11,
     "metadata": {},
     "output_type": "execute_result"
    }
   ],
   "source": [
    "tax.head()"
   ]
  },
  {
   "cell_type": "code",
   "execution_count": 12,
   "metadata": {
    "collapsed": false
   },
   "outputs": [],
   "source": [
    "tax_scaled = tax.T.apply(lambda m: (m - m.mean())/m.std()).T\n",
    "# tax_scaled = tax.T.apply(lambda m: (m / m.sum())).T\n",
    "# tax_scaled = tax"
   ]
  },
  {
   "cell_type": "code",
   "execution_count": 13,
   "metadata": {
    "collapsed": false
   },
   "outputs": [
    {
     "data": {
      "text/html": [
       "<div>\n",
       "<table border=\"1\" class=\"dataframe\">\n",
       "  <thead>\n",
       "    <tr style=\"text-align: right;\">\n",
       "      <th></th>\n",
       "      <th>23</th>\n",
       "      <th>25</th>\n",
       "      <th>27</th>\n",
       "      <th>28</th>\n",
       "      <th>30</th>\n",
       "      <th>39</th>\n",
       "      <th>41</th>\n",
       "      <th>8</th>\n",
       "      <th>24</th>\n",
       "      <th>7</th>\n",
       "      <th>9</th>\n",
       "      <th>5</th>\n",
       "    </tr>\n",
       "  </thead>\n",
       "  <tbody>\n",
       "    <tr>\n",
       "      <th>206494</th>\n",
       "      <td>-0.286613</td>\n",
       "      <td>-0.312809</td>\n",
       "      <td>-0.044687</td>\n",
       "      <td>-0.320513</td>\n",
       "      <td>-0.195698</td>\n",
       "      <td>-0.318972</td>\n",
       "      <td>3.163527</td>\n",
       "      <td>-0.334382</td>\n",
       "      <td>-0.337463</td>\n",
       "      <td>-0.337463</td>\n",
       "      <td>-0.337463</td>\n",
       "      <td>-0.337463</td>\n",
       "    </tr>\n",
       "    <tr>\n",
       "      <th>276629</th>\n",
       "      <td>-0.552771</td>\n",
       "      <td>-0.552771</td>\n",
       "      <td>1.658312</td>\n",
       "      <td>-0.552771</td>\n",
       "      <td>-0.552771</td>\n",
       "      <td>-0.552771</td>\n",
       "      <td>-0.552771</td>\n",
       "      <td>-0.552771</td>\n",
       "      <td>1.658312</td>\n",
       "      <td>1.658312</td>\n",
       "      <td>-0.552771</td>\n",
       "      <td>-0.552771</td>\n",
       "    </tr>\n",
       "    <tr>\n",
       "      <th>276620</th>\n",
       "      <td>-0.511766</td>\n",
       "      <td>-0.511766</td>\n",
       "      <td>-0.511766</td>\n",
       "      <td>-0.511766</td>\n",
       "      <td>-0.511766</td>\n",
       "      <td>-0.511766</td>\n",
       "      <td>-0.511766</td>\n",
       "      <td>-0.511766</td>\n",
       "      <td>2.558832</td>\n",
       "      <td>1.023533</td>\n",
       "      <td>1.023533</td>\n",
       "      <td>-0.511766</td>\n",
       "    </tr>\n",
       "    <tr>\n",
       "      <th>330294</th>\n",
       "      <td>-0.428174</td>\n",
       "      <td>-0.428174</td>\n",
       "      <td>-0.428174</td>\n",
       "      <td>-0.428174</td>\n",
       "      <td>-0.428174</td>\n",
       "      <td>-0.428174</td>\n",
       "      <td>2.140872</td>\n",
       "      <td>-0.428174</td>\n",
       "      <td>-0.428174</td>\n",
       "      <td>-0.428174</td>\n",
       "      <td>2.140872</td>\n",
       "      <td>-0.428174</td>\n",
       "    </tr>\n",
       "    <tr>\n",
       "      <th>184456</th>\n",
       "      <td>2.140872</td>\n",
       "      <td>-0.428174</td>\n",
       "      <td>-0.428174</td>\n",
       "      <td>-0.428174</td>\n",
       "      <td>-0.428174</td>\n",
       "      <td>-0.428174</td>\n",
       "      <td>2.140872</td>\n",
       "      <td>-0.428174</td>\n",
       "      <td>-0.428174</td>\n",
       "      <td>-0.428174</td>\n",
       "      <td>-0.428174</td>\n",
       "      <td>-0.428174</td>\n",
       "    </tr>\n",
       "  </tbody>\n",
       "</table>\n",
       "</div>"
      ],
      "text/plain": [
       "              23        25        27        28        30        39        41  \\\n",
       "206494 -0.286613 -0.312809 -0.044687 -0.320513 -0.195698 -0.318972  3.163527   \n",
       "276629 -0.552771 -0.552771  1.658312 -0.552771 -0.552771 -0.552771 -0.552771   \n",
       "276620 -0.511766 -0.511766 -0.511766 -0.511766 -0.511766 -0.511766 -0.511766   \n",
       "330294 -0.428174 -0.428174 -0.428174 -0.428174 -0.428174 -0.428174  2.140872   \n",
       "184456  2.140872 -0.428174 -0.428174 -0.428174 -0.428174 -0.428174  2.140872   \n",
       "\n",
       "               8        24         7         9         5  \n",
       "206494 -0.334382 -0.337463 -0.337463 -0.337463 -0.337463  \n",
       "276629 -0.552771  1.658312  1.658312 -0.552771 -0.552771  \n",
       "276620 -0.511766  2.558832  1.023533  1.023533 -0.511766  \n",
       "330294 -0.428174 -0.428174 -0.428174  2.140872 -0.428174  \n",
       "184456 -0.428174 -0.428174 -0.428174 -0.428174 -0.428174  "
      ]
     },
     "execution_count": 13,
     "metadata": {},
     "output_type": "execute_result"
    }
   ],
   "source": [
    "tax_scaled.head()"
   ]
  },
  {
   "cell_type": "code",
   "execution_count": 14,
   "metadata": {
    "collapsed": true
   },
   "outputs": [],
   "source": [
    "s = tax.sum()"
   ]
  },
  {
   "cell_type": "code",
   "execution_count": 15,
   "metadata": {
    "collapsed": false
   },
   "outputs": [
    {
     "data": {
      "image/png": "[encoded data removed]",
      "text/plain": [
       "<matplotlib.figure.Figure at 0x7fb8248856d0>"
      ]
     },
     "metadata": {},
     "output_type": "display_data"
    }
   ],
   "source": [
    "sns.barplot(x=s.index.values,y=s);"
   ]
  },
  {
   "cell_type": "code",
   "execution_count": 16,
   "metadata": {
    "collapsed": false
   },
   "outputs": [],
   "source": [
    "meta.SampleID = meta.SampleID.astype(str)"
   ]
  },
  {
   "cell_type": "markdown",
   "metadata": {},
   "source": [
    "# Join meta data"
   ]
  },
  {
   "cell_type": "code",
   "execution_count": 97,
   "metadata": {
    "collapsed": false
   },
   "outputs": [],
   "source": [
    "# meta.set_index('SampleID')"
   ]
  },
  {
   "cell_type": "code",
   "execution_count": 98,
   "metadata": {
    "collapsed": false
   },
   "outputs": [
    {
     "data": {
      "text/html": [
       "<div>\n",
       "<table border=\"1\" class=\"dataframe\">\n",
       "  <thead>\n",
       "    <tr style=\"text-align: right;\">\n",
       "      <th></th>\n",
       "      <th>SampleID</th>\n",
       "      <th>Mouse ID</th>\n",
       "      <th>Gender</th>\n",
       "      <th>DOB</th>\n",
       "      <th>Ear Tag</th>\n",
       "      <th>Genotype1</th>\n",
       "      <th>Genotype</th>\n",
       "      <th>Cage</th>\n",
       "      <th>Notes</th>\n",
       "      <th>WT or not</th>\n",
       "    </tr>\n",
       "  </thead>\n",
       "  <tbody>\n",
       "    <tr>\n",
       "      <th>0</th>\n",
       "      <td>23</td>\n",
       "      <td>I175</td>\n",
       "      <td>F</td>\n",
       "      <td>7/6/15</td>\n",
       "      <td>R</td>\n",
       "      <td>WT</td>\n",
       "      <td>WT (08/25/15) cre+ (08/26/15)</td>\n",
       "      <td>943947</td>\n",
       "      <td>Parent cage 892230</td>\n",
       "      <td>WT</td>\n",
       "    </tr>\n",
       "    <tr>\n",
       "      <th>1</th>\n",
       "      <td>24</td>\n",
       "      <td>I176</td>\n",
       "      <td>F</td>\n",
       "      <td>7/5/15</td>\n",
       "      <td>L</td>\n",
       "      <td>WT</td>\n",
       "      <td>WT</td>\n",
       "      <td>943947</td>\n",
       "      <td>Parent cage 892234</td>\n",
       "      <td>WT</td>\n",
       "    </tr>\n",
       "    <tr>\n",
       "      <th>2</th>\n",
       "      <td>25</td>\n",
       "      <td>I177</td>\n",
       "      <td>F</td>\n",
       "      <td>7/4/15</td>\n",
       "      <td>-</td>\n",
       "      <td>TregWKO</td>\n",
       "      <td>WASp fl/fl (08/25/15) cre+ (09/08/15)</td>\n",
       "      <td>943947</td>\n",
       "      <td>Parent cage 892221</td>\n",
       "      <td>mutant</td>\n",
       "    </tr>\n",
       "    <tr>\n",
       "      <th>3</th>\n",
       "      <td>41</td>\n",
       "      <td>I208</td>\n",
       "      <td>F</td>\n",
       "      <td>7/1/15</td>\n",
       "      <td>RL</td>\n",
       "      <td>WT</td>\n",
       "      <td>WT</td>\n",
       "      <td>943947</td>\n",
       "      <td>Parent cage 892226</td>\n",
       "      <td>WT</td>\n",
       "    </tr>\n",
       "    <tr>\n",
       "      <th>4</th>\n",
       "      <td>27</td>\n",
       "      <td>I179</td>\n",
       "      <td>F</td>\n",
       "      <td>7/7/15</td>\n",
       "      <td>2L</td>\n",
       "      <td>WKO</td>\n",
       "      <td>WKO (8/20/15)</td>\n",
       "      <td>943947</td>\n",
       "      <td>Parent cage 892227</td>\n",
       "      <td>mutant</td>\n",
       "    </tr>\n",
       "  </tbody>\n",
       "</table>\n",
       "</div>"
      ],
      "text/plain": [
       "  SampleID Mouse ID Gender     DOB Ear Tag Genotype1  \\\n",
       "0       23     I175      F  7/6/15       R        WT   \n",
       "1       24     I176      F  7/5/15       L        WT   \n",
       "2       25     I177      F  7/4/15       -   TregWKO   \n",
       "3       41     I208      F  7/1/15      RL        WT   \n",
       "4       27     I179      F  7/7/15      2L       WKO   \n",
       "\n",
       "                                Genotype    Cage               Notes WT or not  \n",
       "0          WT (08/25/15) cre+ (08/26/15)  943947  Parent cage 892230        WT  \n",
       "1                                     WT  943947  Parent cage 892234        WT  \n",
       "2  WASp fl/fl (08/25/15) cre+ (09/08/15)  943947  Parent cage 892221    mutant  \n",
       "3                                     WT  943947  Parent cage 892226        WT  \n",
       "4                          WKO (8/20/15)  943947  Parent cage 892227    mutant  "
      ]
     },
     "execution_count": 98,
     "metadata": {},
     "output_type": "execute_result"
    }
   ],
   "source": [
    "meta['WT or not'] = meta.Genotype1.apply(lambda i: i if i == 'WT' else 'mutant')\n",
    "meta.head()"
   ]
  },
  {
   "cell_type": "code",
   "execution_count": 99,
   "metadata": {
    "collapsed": false
   },
   "outputs": [],
   "source": [
    "full_table = meta.set_index('SampleID').join(tax_scaled.T).reset_index()"
   ]
  },
  {
   "cell_type": "code",
   "execution_count": 100,
   "metadata": {
    "collapsed": false
   },
   "outputs": [
    {
     "data": {
      "text/html": [
       "<div>\n",
       "<table border=\"1\" class=\"dataframe\">\n",
       "  <thead>\n",
       "    <tr style=\"text-align: right;\">\n",
       "      <th></th>\n",
       "      <th>SampleID</th>\n",
       "      <th>Mouse ID</th>\n",
       "      <th>Gender</th>\n",
       "      <th>DOB</th>\n",
       "      <th>Ear Tag</th>\n",
       "      <th>Genotype1</th>\n",
       "      <th>Genotype</th>\n",
       "      <th>Cage</th>\n",
       "      <th>Notes</th>\n",
       "      <th>WT or not</th>\n",
       "      <th>...</th>\n",
       "      <th>New.CleanUp.ReferenceOTU56003</th>\n",
       "      <th>New.CleanUp.ReferenceOTU56005</th>\n",
       "      <th>New.CleanUp.ReferenceOTU56008</th>\n",
       "      <th>New.CleanUp.ReferenceOTU56017</th>\n",
       "      <th>New.CleanUp.ReferenceOTU56020</th>\n",
       "      <th>New.CleanUp.ReferenceOTU56032</th>\n",
       "      <th>New.CleanUp.ReferenceOTU56042</th>\n",
       "      <th>New.CleanUp.ReferenceOTU56061</th>\n",
       "      <th>New.CleanUp.ReferenceOTU56065</th>\n",
       "      <th>New.CleanUp.ReferenceOTU56069</th>\n",
       "    </tr>\n",
       "  </thead>\n",
       "  <tbody>\n",
       "    <tr>\n",
       "      <th>0</th>\n",
       "      <td>23</td>\n",
       "      <td>I175</td>\n",
       "      <td>F</td>\n",
       "      <td>7/6/15</td>\n",
       "      <td>R</td>\n",
       "      <td>WT</td>\n",
       "      <td>WT (08/25/15) cre+ (08/26/15)</td>\n",
       "      <td>943947</td>\n",
       "      <td>Parent cage 892230</td>\n",
       "      <td>WT</td>\n",
       "      <td>...</td>\n",
       "      <td>2.140872</td>\n",
       "      <td>-0.552771</td>\n",
       "      <td>2.140872</td>\n",
       "      <td>2.140872</td>\n",
       "      <td>-0.552771</td>\n",
       "      <td>-0.428174</td>\n",
       "      <td>-0.428174</td>\n",
       "      <td>-0.428174</td>\n",
       "      <td>-0.428174</td>\n",
       "      <td>-0.4022</td>\n",
       "    </tr>\n",
       "    <tr>\n",
       "      <th>1</th>\n",
       "      <td>24</td>\n",
       "      <td>I176</td>\n",
       "      <td>F</td>\n",
       "      <td>7/5/15</td>\n",
       "      <td>L</td>\n",
       "      <td>WT</td>\n",
       "      <td>WT</td>\n",
       "      <td>943947</td>\n",
       "      <td>Parent cage 892234</td>\n",
       "      <td>WT</td>\n",
       "      <td>...</td>\n",
       "      <td>-0.428174</td>\n",
       "      <td>-0.552771</td>\n",
       "      <td>-0.428174</td>\n",
       "      <td>-0.428174</td>\n",
       "      <td>-0.552771</td>\n",
       "      <td>-0.428174</td>\n",
       "      <td>-0.428174</td>\n",
       "      <td>-0.428174</td>\n",
       "      <td>-0.428174</td>\n",
       "      <td>-0.4022</td>\n",
       "    </tr>\n",
       "    <tr>\n",
       "      <th>2</th>\n",
       "      <td>25</td>\n",
       "      <td>I177</td>\n",
       "      <td>F</td>\n",
       "      <td>7/4/15</td>\n",
       "      <td>-</td>\n",
       "      <td>TregWKO</td>\n",
       "      <td>WASp fl/fl (08/25/15) cre+ (09/08/15)</td>\n",
       "      <td>943947</td>\n",
       "      <td>Parent cage 892221</td>\n",
       "      <td>mutant</td>\n",
       "      <td>...</td>\n",
       "      <td>-0.428174</td>\n",
       "      <td>1.658312</td>\n",
       "      <td>-0.428174</td>\n",
       "      <td>-0.428174</td>\n",
       "      <td>1.658312</td>\n",
       "      <td>-0.428174</td>\n",
       "      <td>-0.428174</td>\n",
       "      <td>2.140872</td>\n",
       "      <td>-0.428174</td>\n",
       "      <td>-0.4022</td>\n",
       "    </tr>\n",
       "    <tr>\n",
       "      <th>3</th>\n",
       "      <td>41</td>\n",
       "      <td>I208</td>\n",
       "      <td>F</td>\n",
       "      <td>7/1/15</td>\n",
       "      <td>RL</td>\n",
       "      <td>WT</td>\n",
       "      <td>WT</td>\n",
       "      <td>943947</td>\n",
       "      <td>Parent cage 892226</td>\n",
       "      <td>WT</td>\n",
       "      <td>...</td>\n",
       "      <td>-0.428174</td>\n",
       "      <td>-0.552771</td>\n",
       "      <td>-0.428174</td>\n",
       "      <td>-0.428174</td>\n",
       "      <td>-0.552771</td>\n",
       "      <td>-0.428174</td>\n",
       "      <td>-0.428174</td>\n",
       "      <td>-0.428174</td>\n",
       "      <td>-0.428174</td>\n",
       "      <td>-0.4022</td>\n",
       "    </tr>\n",
       "    <tr>\n",
       "      <th>4</th>\n",
       "      <td>27</td>\n",
       "      <td>I179</td>\n",
       "      <td>F</td>\n",
       "      <td>7/7/15</td>\n",
       "      <td>2L</td>\n",
       "      <td>WKO</td>\n",
       "      <td>WKO (8/20/15)</td>\n",
       "      <td>943947</td>\n",
       "      <td>Parent cage 892227</td>\n",
       "      <td>mutant</td>\n",
       "      <td>...</td>\n",
       "      <td>-0.428174</td>\n",
       "      <td>-0.552771</td>\n",
       "      <td>-0.428174</td>\n",
       "      <td>-0.428174</td>\n",
       "      <td>-0.552771</td>\n",
       "      <td>-0.428174</td>\n",
       "      <td>2.140872</td>\n",
       "      <td>2.140872</td>\n",
       "      <td>2.140872</td>\n",
       "      <td>-0.4022</td>\n",
       "    </tr>\n",
       "  </tbody>\n",
       "</table>\n",
       "<p>5 rows × 10767 columns</p>\n",
       "</div>"
      ],
      "text/plain": [
       "  SampleID Mouse ID Gender     DOB Ear Tag Genotype1  \\\n",
       "0       23     I175      F  7/6/15       R        WT   \n",
       "1       24     I176      F  7/5/15       L        WT   \n",
       "2       25     I177      F  7/4/15       -   TregWKO   \n",
       "3       41     I208      F  7/1/15      RL        WT   \n",
       "4       27     I179      F  7/7/15      2L       WKO   \n",
       "\n",
       "                                Genotype    Cage               Notes  \\\n",
       "0          WT (08/25/15) cre+ (08/26/15)  943947  Parent cage 892230   \n",
       "1                                     WT  943947  Parent cage 892234   \n",
       "2  WASp fl/fl (08/25/15) cre+ (09/08/15)  943947  Parent cage 892221   \n",
       "3                                     WT  943947  Parent cage 892226   \n",
       "4                          WKO (8/20/15)  943947  Parent cage 892227   \n",
       "\n",
       "  WT or not              ...                New.CleanUp.ReferenceOTU56003  \\\n",
       "0        WT              ...                                     2.140872   \n",
       "1        WT              ...                                    -0.428174   \n",
       "2    mutant              ...                                    -0.428174   \n",
       "3        WT              ...                                    -0.428174   \n",
       "4    mutant              ...                                    -0.428174   \n",
       "\n",
       "   New.CleanUp.ReferenceOTU56005  New.CleanUp.ReferenceOTU56008  \\\n",
       "0                      -0.552771                       2.140872   \n",
       "1                      -0.552771                      -0.428174   \n",
       "2                       1.658312                      -0.428174   \n",
       "3                      -0.552771                      -0.428174   \n",
       "4                      -0.552771                      -0.428174   \n",
       "\n",
       "   New.CleanUp.ReferenceOTU56017  New.CleanUp.ReferenceOTU56020  \\\n",
       "0                       2.140872                      -0.552771   \n",
       "1                      -0.428174                      -0.552771   \n",
       "2                      -0.428174                       1.658312   \n",
       "3                      -0.428174                      -0.552771   \n",
       "4                      -0.428174                      -0.552771   \n",
       "\n",
       "   New.CleanUp.ReferenceOTU56032  New.CleanUp.ReferenceOTU56042  \\\n",
       "0                      -0.428174                      -0.428174   \n",
       "1                      -0.428174                      -0.428174   \n",
       "2                      -0.428174                      -0.428174   \n",
       "3                      -0.428174                      -0.428174   \n",
       "4                      -0.428174                       2.140872   \n",
       "\n",
       "   New.CleanUp.ReferenceOTU56061  New.CleanUp.ReferenceOTU56065  \\\n",
       "0                      -0.428174                      -0.428174   \n",
       "1                      -0.428174                      -0.428174   \n",
       "2                       2.140872                      -0.428174   \n",
       "3                      -0.428174                      -0.428174   \n",
       "4                       2.140872                       2.140872   \n",
       "\n",
       "   New.CleanUp.ReferenceOTU56069  \n",
       "0                        -0.4022  \n",
       "1                        -0.4022  \n",
       "2                        -0.4022  \n",
       "3                        -0.4022  \n",
       "4                        -0.4022  \n",
       "\n",
       "[5 rows x 10767 columns]"
      ]
     },
     "execution_count": 100,
     "metadata": {},
     "output_type": "execute_result"
    }
   ],
   "source": [
    "full_table.head()"
   ]
  },
  {
   "cell_type": "markdown",
   "metadata": {},
   "source": [
    "# Set up test/train split"
   ]
  },
  {
   "cell_type": "markdown",
   "metadata": {},
   "source": [
    "## Encode 'y' labels"
   ]
  },
  {
   "cell_type": "code",
   "execution_count": 120,
   "metadata": {
    "collapsed": false
   },
   "outputs": [],
   "source": [
    "y_geno = full_table['WT or not']"
   ]
  },
  {
   "cell_type": "code",
   "execution_count": 121,
   "metadata": {
    "collapsed": true
   },
   "outputs": [],
   "source": [
    "geno_encoder = ppro.LabelEncoder()"
   ]
  },
  {
   "cell_type": "code",
   "execution_count": 122,
   "metadata": {
    "collapsed": false
   },
   "outputs": [],
   "source": [
    "y_geno_encoded = geno_encoder.fit_transform(y_geno)"
   ]
  },
  {
   "cell_type": "markdown",
   "metadata": {},
   "source": [
    "## Encode 'X' data"
   ]
  },
  {
   "cell_type": "code",
   "execution_count": 124,
   "metadata": {
    "collapsed": false
   },
   "outputs": [],
   "source": [
    "X_cols_cat = list(full_table.columns[[2,7]].values)\n",
    "X_cols_num = list(full_table.columns[10:])"
   ]
  },
  {
   "cell_type": "code",
   "execution_count": 1,
   "metadata": {
    "collapsed": false
   },
   "outputs": [
    {
     "ename": "NameError",
     "evalue": "name 'X_cols_num' is not defined",
     "output_type": "error",
     "traceback": [
      "\u001b[1;31m---------------------------------------------------------------------------\u001b[0m",
      "\u001b[1;31mNameError\u001b[0m                                 Traceback (most recent call last)",
      "\u001b[1;32m<ipython-input-1-7a38fc6e0e23>\u001b[0m in \u001b[0;36m<module>\u001b[1;34m()\u001b[0m\n\u001b[1;32m----> 1\u001b[1;33m \u001b[0mX_cols_num\u001b[0m\u001b[1;33m[\u001b[0m\u001b[1;33m:\u001b[0m\u001b[1;36m10\u001b[0m\u001b[1;33m]\u001b[0m\u001b[1;33m\u001b[0m\u001b[0m\n\u001b[0m",
      "\u001b[1;31mNameError\u001b[0m: name 'X_cols_num' is not defined"
     ]
    }
   ],
   "source": [
    "X_cols_num[:10]"
   ]
  },
  {
   "cell_type": "code",
   "execution_count": 126,
   "metadata": {
    "collapsed": true
   },
   "outputs": [],
   "source": [
    "# make the dummy variable columns for the original categorical data columns\n",
    "# HOPEFULLY we dont run into colinearity issues\n",
    "X_data_cat = pd.get_dummies(full_table[X_cols_cat].astype(str))"
   ]
  },
  {
   "cell_type": "code",
   "execution_count": 127,
   "metadata": {
    "collapsed": false
   },
   "outputs": [
    {
     "data": {
      "text/html": [
       "<div>\n",
       "<table border=\"1\" class=\"dataframe\">\n",
       "  <thead>\n",
       "    <tr style=\"text-align: right;\">\n",
       "      <th></th>\n",
       "      <th>Gender_F</th>\n",
       "      <th>Gender_M</th>\n",
       "      <th>Cage_943947</th>\n",
       "      <th>Cage_943948</th>\n",
       "      <th>Cage_943951</th>\n",
       "    </tr>\n",
       "  </thead>\n",
       "  <tbody>\n",
       "    <tr>\n",
       "      <th>0</th>\n",
       "      <td>1</td>\n",
       "      <td>0</td>\n",
       "      <td>1</td>\n",
       "      <td>0</td>\n",
       "      <td>0</td>\n",
       "    </tr>\n",
       "    <tr>\n",
       "      <th>1</th>\n",
       "      <td>1</td>\n",
       "      <td>0</td>\n",
       "      <td>1</td>\n",
       "      <td>0</td>\n",
       "      <td>0</td>\n",
       "    </tr>\n",
       "    <tr>\n",
       "      <th>2</th>\n",
       "      <td>1</td>\n",
       "      <td>0</td>\n",
       "      <td>1</td>\n",
       "      <td>0</td>\n",
       "      <td>0</td>\n",
       "    </tr>\n",
       "    <tr>\n",
       "      <th>3</th>\n",
       "      <td>1</td>\n",
       "      <td>0</td>\n",
       "      <td>1</td>\n",
       "      <td>0</td>\n",
       "      <td>0</td>\n",
       "    </tr>\n",
       "    <tr>\n",
       "      <th>4</th>\n",
       "      <td>1</td>\n",
       "      <td>0</td>\n",
       "      <td>1</td>\n",
       "      <td>0</td>\n",
       "      <td>0</td>\n",
       "    </tr>\n",
       "    <tr>\n",
       "      <th>5</th>\n",
       "      <td>0</td>\n",
       "      <td>1</td>\n",
       "      <td>0</td>\n",
       "      <td>1</td>\n",
       "      <td>0</td>\n",
       "    </tr>\n",
       "    <tr>\n",
       "      <th>6</th>\n",
       "      <td>0</td>\n",
       "      <td>1</td>\n",
       "      <td>0</td>\n",
       "      <td>1</td>\n",
       "      <td>0</td>\n",
       "    </tr>\n",
       "    <tr>\n",
       "      <th>7</th>\n",
       "      <td>0</td>\n",
       "      <td>1</td>\n",
       "      <td>0</td>\n",
       "      <td>1</td>\n",
       "      <td>0</td>\n",
       "    </tr>\n",
       "    <tr>\n",
       "      <th>8</th>\n",
       "      <td>0</td>\n",
       "      <td>1</td>\n",
       "      <td>0</td>\n",
       "      <td>1</td>\n",
       "      <td>0</td>\n",
       "    </tr>\n",
       "    <tr>\n",
       "      <th>9</th>\n",
       "      <td>1</td>\n",
       "      <td>0</td>\n",
       "      <td>0</td>\n",
       "      <td>0</td>\n",
       "      <td>1</td>\n",
       "    </tr>\n",
       "    <tr>\n",
       "      <th>10</th>\n",
       "      <td>1</td>\n",
       "      <td>0</td>\n",
       "      <td>0</td>\n",
       "      <td>0</td>\n",
       "      <td>1</td>\n",
       "    </tr>\n",
       "    <tr>\n",
       "      <th>11</th>\n",
       "      <td>1</td>\n",
       "      <td>0</td>\n",
       "      <td>0</td>\n",
       "      <td>0</td>\n",
       "      <td>1</td>\n",
       "    </tr>\n",
       "  </tbody>\n",
       "</table>\n",
       "</div>"
      ],
      "text/plain": [
       "    Gender_F  Gender_M  Cage_943947  Cage_943948  Cage_943951\n",
       "0          1         0            1            0            0\n",
       "1          1         0            1            0            0\n",
       "2          1         0            1            0            0\n",
       "3          1         0            1            0            0\n",
       "4          1         0            1            0            0\n",
       "5          0         1            0            1            0\n",
       "6          0         1            0            1            0\n",
       "7          0         1            0            1            0\n",
       "8          0         1            0            1            0\n",
       "9          1         0            0            0            1\n",
       "10         1         0            0            0            1\n",
       "11         1         0            0            0            1"
      ]
     },
     "execution_count": 127,
     "metadata": {},
     "output_type": "execute_result"
    }
   ],
   "source": [
    "X_data_cat"
   ]
  },
  {
   "cell_type": "code",
   "execution_count": 220,
   "metadata": {
    "collapsed": false
   },
   "outputs": [
    {
     "data": {
      "text/html": [
       "<div>\n",
       "<table border=\"1\" class=\"dataframe\">\n",
       "  <thead>\n",
       "    <tr style=\"text-align: right;\">\n",
       "      <th></th>\n",
       "      <th>Gender_F</th>\n",
       "      <th>Cage_943947</th>\n",
       "      <th>Cage_943948</th>\n",
       "    </tr>\n",
       "  </thead>\n",
       "  <tbody>\n",
       "    <tr>\n",
       "      <th>0</th>\n",
       "      <td>1</td>\n",
       "      <td>1</td>\n",
       "      <td>0</td>\n",
       "    </tr>\n",
       "    <tr>\n",
       "      <th>1</th>\n",
       "      <td>1</td>\n",
       "      <td>1</td>\n",
       "      <td>0</td>\n",
       "    </tr>\n",
       "    <tr>\n",
       "      <th>2</th>\n",
       "      <td>1</td>\n",
       "      <td>1</td>\n",
       "      <td>0</td>\n",
       "    </tr>\n",
       "    <tr>\n",
       "      <th>3</th>\n",
       "      <td>1</td>\n",
       "      <td>1</td>\n",
       "      <td>0</td>\n",
       "    </tr>\n",
       "    <tr>\n",
       "      <th>4</th>\n",
       "      <td>1</td>\n",
       "      <td>1</td>\n",
       "      <td>0</td>\n",
       "    </tr>\n",
       "    <tr>\n",
       "      <th>5</th>\n",
       "      <td>0</td>\n",
       "      <td>0</td>\n",
       "      <td>1</td>\n",
       "    </tr>\n",
       "    <tr>\n",
       "      <th>6</th>\n",
       "      <td>0</td>\n",
       "      <td>0</td>\n",
       "      <td>1</td>\n",
       "    </tr>\n",
       "    <tr>\n",
       "      <th>7</th>\n",
       "      <td>0</td>\n",
       "      <td>0</td>\n",
       "      <td>1</td>\n",
       "    </tr>\n",
       "    <tr>\n",
       "      <th>8</th>\n",
       "      <td>0</td>\n",
       "      <td>0</td>\n",
       "      <td>1</td>\n",
       "    </tr>\n",
       "    <tr>\n",
       "      <th>9</th>\n",
       "      <td>1</td>\n",
       "      <td>0</td>\n",
       "      <td>0</td>\n",
       "    </tr>\n",
       "    <tr>\n",
       "      <th>10</th>\n",
       "      <td>1</td>\n",
       "      <td>0</td>\n",
       "      <td>0</td>\n",
       "    </tr>\n",
       "    <tr>\n",
       "      <th>11</th>\n",
       "      <td>1</td>\n",
       "      <td>0</td>\n",
       "      <td>0</td>\n",
       "    </tr>\n",
       "  </tbody>\n",
       "</table>\n",
       "</div>"
      ],
      "text/plain": [
       "    Gender_F  Cage_943947  Cage_943948\n",
       "0          1            1            0\n",
       "1          1            1            0\n",
       "2          1            1            0\n",
       "3          1            1            0\n",
       "4          1            1            0\n",
       "5          0            0            1\n",
       "6          0            0            1\n",
       "7          0            0            1\n",
       "8          0            0            1\n",
       "9          1            0            0\n",
       "10         1            0            0\n",
       "11         1            0            0"
      ]
     },
     "execution_count": 220,
     "metadata": {},
     "output_type": "execute_result"
    }
   ],
   "source": [
    "X_data_cat = X_data_cat[['Gender_F', 'Cage_943947', 'Cage_943948']]\n",
    "X_data_cat"
   ]
  },
  {
   "cell_type": "code",
   "execution_count": 325,
   "metadata": {
    "collapsed": false
   },
   "outputs": [],
   "source": [
    "# put all data columns together\n",
    "X = pd.concat([X_data_cat,full_table[X_cols_num]],axis=1) # Accounting for Cages and Sex\n",
    "# X = full_table[X_cols_num] # IGNORING Cages and Sex"
   ]
  },
  {
   "cell_type": "code",
   "execution_count": 326,
   "metadata": {
    "collapsed": false
   },
   "outputs": [
    {
     "data": {
      "text/html": [
       "<div>\n",
       "<table border=\"1\" class=\"dataframe\">\n",
       "  <thead>\n",
       "    <tr style=\"text-align: right;\">\n",
       "      <th></th>\n",
       "      <th>Gender_F</th>\n",
       "      <th>Cage_943947</th>\n",
       "      <th>Cage_943948</th>\n",
       "      <th>206494</th>\n",
       "      <th>276629</th>\n",
       "      <th>276620</th>\n",
       "      <th>330294</th>\n",
       "      <th>184456</th>\n",
       "      <th>273164</th>\n",
       "      <th>182583</th>\n",
       "      <th>...</th>\n",
       "      <th>New.CleanUp.ReferenceOTU56003</th>\n",
       "      <th>New.CleanUp.ReferenceOTU56005</th>\n",
       "      <th>New.CleanUp.ReferenceOTU56008</th>\n",
       "      <th>New.CleanUp.ReferenceOTU56017</th>\n",
       "      <th>New.CleanUp.ReferenceOTU56020</th>\n",
       "      <th>New.CleanUp.ReferenceOTU56032</th>\n",
       "      <th>New.CleanUp.ReferenceOTU56042</th>\n",
       "      <th>New.CleanUp.ReferenceOTU56061</th>\n",
       "      <th>New.CleanUp.ReferenceOTU56065</th>\n",
       "      <th>New.CleanUp.ReferenceOTU56069</th>\n",
       "    </tr>\n",
       "  </thead>\n",
       "  <tbody>\n",
       "    <tr>\n",
       "      <th>0</th>\n",
       "      <td>1</td>\n",
       "      <td>1</td>\n",
       "      <td>0</td>\n",
       "      <td>-0.286613</td>\n",
       "      <td>-0.552771</td>\n",
       "      <td>-0.511766</td>\n",
       "      <td>-0.428174</td>\n",
       "      <td>2.140872</td>\n",
       "      <td>1.206599</td>\n",
       "      <td>-0.428174</td>\n",
       "      <td>...</td>\n",
       "      <td>2.140872</td>\n",
       "      <td>-0.552771</td>\n",
       "      <td>2.140872</td>\n",
       "      <td>2.140872</td>\n",
       "      <td>-0.552771</td>\n",
       "      <td>-0.428174</td>\n",
       "      <td>-0.428174</td>\n",
       "      <td>-0.428174</td>\n",
       "      <td>-0.428174</td>\n",
       "      <td>-0.4022</td>\n",
       "    </tr>\n",
       "    <tr>\n",
       "      <th>1</th>\n",
       "      <td>1</td>\n",
       "      <td>1</td>\n",
       "      <td>0</td>\n",
       "      <td>-0.337463</td>\n",
       "      <td>1.658312</td>\n",
       "      <td>2.558832</td>\n",
       "      <td>-0.428174</td>\n",
       "      <td>-0.428174</td>\n",
       "      <td>-0.402200</td>\n",
       "      <td>-0.428174</td>\n",
       "      <td>...</td>\n",
       "      <td>-0.428174</td>\n",
       "      <td>-0.552771</td>\n",
       "      <td>-0.428174</td>\n",
       "      <td>-0.428174</td>\n",
       "      <td>-0.552771</td>\n",
       "      <td>-0.428174</td>\n",
       "      <td>-0.428174</td>\n",
       "      <td>-0.428174</td>\n",
       "      <td>-0.428174</td>\n",
       "      <td>-0.4022</td>\n",
       "    </tr>\n",
       "    <tr>\n",
       "      <th>2</th>\n",
       "      <td>1</td>\n",
       "      <td>1</td>\n",
       "      <td>0</td>\n",
       "      <td>-0.312809</td>\n",
       "      <td>-0.552771</td>\n",
       "      <td>-0.511766</td>\n",
       "      <td>-0.428174</td>\n",
       "      <td>-0.428174</td>\n",
       "      <td>-0.402200</td>\n",
       "      <td>-0.428174</td>\n",
       "      <td>...</td>\n",
       "      <td>-0.428174</td>\n",
       "      <td>1.658312</td>\n",
       "      <td>-0.428174</td>\n",
       "      <td>-0.428174</td>\n",
       "      <td>1.658312</td>\n",
       "      <td>-0.428174</td>\n",
       "      <td>-0.428174</td>\n",
       "      <td>2.140872</td>\n",
       "      <td>-0.428174</td>\n",
       "      <td>-0.4022</td>\n",
       "    </tr>\n",
       "    <tr>\n",
       "      <th>3</th>\n",
       "      <td>1</td>\n",
       "      <td>1</td>\n",
       "      <td>0</td>\n",
       "      <td>3.163527</td>\n",
       "      <td>-0.552771</td>\n",
       "      <td>-0.511766</td>\n",
       "      <td>2.140872</td>\n",
       "      <td>2.140872</td>\n",
       "      <td>-0.402200</td>\n",
       "      <td>-0.428174</td>\n",
       "      <td>...</td>\n",
       "      <td>-0.428174</td>\n",
       "      <td>-0.552771</td>\n",
       "      <td>-0.428174</td>\n",
       "      <td>-0.428174</td>\n",
       "      <td>-0.552771</td>\n",
       "      <td>-0.428174</td>\n",
       "      <td>-0.428174</td>\n",
       "      <td>-0.428174</td>\n",
       "      <td>-0.428174</td>\n",
       "      <td>-0.4022</td>\n",
       "    </tr>\n",
       "    <tr>\n",
       "      <th>4</th>\n",
       "      <td>1</td>\n",
       "      <td>1</td>\n",
       "      <td>0</td>\n",
       "      <td>-0.044687</td>\n",
       "      <td>1.658312</td>\n",
       "      <td>-0.511766</td>\n",
       "      <td>-0.428174</td>\n",
       "      <td>-0.428174</td>\n",
       "      <td>2.815399</td>\n",
       "      <td>-0.428174</td>\n",
       "      <td>...</td>\n",
       "      <td>-0.428174</td>\n",
       "      <td>-0.552771</td>\n",
       "      <td>-0.428174</td>\n",
       "      <td>-0.428174</td>\n",
       "      <td>-0.552771</td>\n",
       "      <td>-0.428174</td>\n",
       "      <td>2.140872</td>\n",
       "      <td>2.140872</td>\n",
       "      <td>2.140872</td>\n",
       "      <td>-0.4022</td>\n",
       "    </tr>\n",
       "  </tbody>\n",
       "</table>\n",
       "<p>5 rows × 10760 columns</p>\n",
       "</div>"
      ],
      "text/plain": [
       "   Gender_F  Cage_943947  Cage_943948    206494    276629    276620    330294  \\\n",
       "0         1            1            0 -0.286613 -0.552771 -0.511766 -0.428174   \n",
       "1         1            1            0 -0.337463  1.658312  2.558832 -0.428174   \n",
       "2         1            1            0 -0.312809 -0.552771 -0.511766 -0.428174   \n",
       "3         1            1            0  3.163527 -0.552771 -0.511766  2.140872   \n",
       "4         1            1            0 -0.044687  1.658312 -0.511766 -0.428174   \n",
       "\n",
       "     184456    273164    182583              ...                \\\n",
       "0  2.140872  1.206599 -0.428174              ...                 \n",
       "1 -0.428174 -0.402200 -0.428174              ...                 \n",
       "2 -0.428174 -0.402200 -0.428174              ...                 \n",
       "3  2.140872 -0.402200 -0.428174              ...                 \n",
       "4 -0.428174  2.815399 -0.428174              ...                 \n",
       "\n",
       "   New.CleanUp.ReferenceOTU56003  New.CleanUp.ReferenceOTU56005  \\\n",
       "0                       2.140872                      -0.552771   \n",
       "1                      -0.428174                      -0.552771   \n",
       "2                      -0.428174                       1.658312   \n",
       "3                      -0.428174                      -0.552771   \n",
       "4                      -0.428174                      -0.552771   \n",
       "\n",
       "   New.CleanUp.ReferenceOTU56008  New.CleanUp.ReferenceOTU56017  \\\n",
       "0                       2.140872                       2.140872   \n",
       "1                      -0.428174                      -0.428174   \n",
       "2                      -0.428174                      -0.428174   \n",
       "3                      -0.428174                      -0.428174   \n",
       "4                      -0.428174                      -0.428174   \n",
       "\n",
       "   New.CleanUp.ReferenceOTU56020  New.CleanUp.ReferenceOTU56032  \\\n",
       "0                      -0.552771                      -0.428174   \n",
       "1                      -0.552771                      -0.428174   \n",
       "2                       1.658312                      -0.428174   \n",
       "3                      -0.552771                      -0.428174   \n",
       "4                      -0.552771                      -0.428174   \n",
       "\n",
       "   New.CleanUp.ReferenceOTU56042  New.CleanUp.ReferenceOTU56061  \\\n",
       "0                      -0.428174                      -0.428174   \n",
       "1                      -0.428174                      -0.428174   \n",
       "2                      -0.428174                       2.140872   \n",
       "3                      -0.428174                      -0.428174   \n",
       "4                       2.140872                       2.140872   \n",
       "\n",
       "   New.CleanUp.ReferenceOTU56065  New.CleanUp.ReferenceOTU56069  \n",
       "0                      -0.428174                        -0.4022  \n",
       "1                      -0.428174                        -0.4022  \n",
       "2                      -0.428174                        -0.4022  \n",
       "3                      -0.428174                        -0.4022  \n",
       "4                       2.140872                        -0.4022  \n",
       "\n",
       "[5 rows x 10760 columns]"
      ]
     },
     "execution_count": 326,
     "metadata": {},
     "output_type": "execute_result"
    }
   ],
   "source": [
    "X.head()"
   ]
  },
  {
   "cell_type": "code",
   "execution_count": 327,
   "metadata": {
    "collapsed": false
   },
   "outputs": [],
   "source": [
    "X_train, X_test, y_train, y_test = train_test_split(X, y_geno_encoded,\n",
    "                                                    test_size=0.33, random_state=42,\n",
    "                                                   )\n",
    "\n"
   ]
  },
  {
   "cell_type": "code",
   "execution_count": 337,
   "metadata": {
    "collapsed": false
   },
   "outputs": [
    {
     "data": {
      "text/html": [
       "<div>\n",
       "<table border=\"1\" class=\"dataframe\">\n",
       "  <thead>\n",
       "    <tr style=\"text-align: right;\">\n",
       "      <th></th>\n",
       "      <th>Gender_F</th>\n",
       "      <th>Cage_943947</th>\n",
       "      <th>Cage_943948</th>\n",
       "      <th>206494</th>\n",
       "      <th>276629</th>\n",
       "      <th>276620</th>\n",
       "      <th>330294</th>\n",
       "      <th>184456</th>\n",
       "      <th>273164</th>\n",
       "      <th>182583</th>\n",
       "      <th>...</th>\n",
       "      <th>New.CleanUp.ReferenceOTU56003</th>\n",
       "      <th>New.CleanUp.ReferenceOTU56005</th>\n",
       "      <th>New.CleanUp.ReferenceOTU56008</th>\n",
       "      <th>New.CleanUp.ReferenceOTU56017</th>\n",
       "      <th>New.CleanUp.ReferenceOTU56020</th>\n",
       "      <th>New.CleanUp.ReferenceOTU56032</th>\n",
       "      <th>New.CleanUp.ReferenceOTU56042</th>\n",
       "      <th>New.CleanUp.ReferenceOTU56061</th>\n",
       "      <th>New.CleanUp.ReferenceOTU56065</th>\n",
       "      <th>New.CleanUp.ReferenceOTU56069</th>\n",
       "    </tr>\n",
       "  </thead>\n",
       "  <tbody>\n",
       "    <tr>\n",
       "      <th>5</th>\n",
       "      <td>0</td>\n",
       "      <td>0</td>\n",
       "      <td>1</td>\n",
       "      <td>-0.337463</td>\n",
       "      <td>-0.552771</td>\n",
       "      <td>-0.511766</td>\n",
       "      <td>-0.428174</td>\n",
       "      <td>-0.428174</td>\n",
       "      <td>-0.402200</td>\n",
       "      <td>2.140872</td>\n",
       "      <td>...</td>\n",
       "      <td>-0.428174</td>\n",
       "      <td>1.658312</td>\n",
       "      <td>-0.428174</td>\n",
       "      <td>-0.428174</td>\n",
       "      <td>1.658312</td>\n",
       "      <td>2.140872</td>\n",
       "      <td>-0.428174</td>\n",
       "      <td>-0.428174</td>\n",
       "      <td>-0.428174</td>\n",
       "      <td>2.815399</td>\n",
       "    </tr>\n",
       "    <tr>\n",
       "      <th>2</th>\n",
       "      <td>1</td>\n",
       "      <td>1</td>\n",
       "      <td>0</td>\n",
       "      <td>-0.312809</td>\n",
       "      <td>-0.552771</td>\n",
       "      <td>-0.511766</td>\n",
       "      <td>-0.428174</td>\n",
       "      <td>-0.428174</td>\n",
       "      <td>-0.402200</td>\n",
       "      <td>-0.428174</td>\n",
       "      <td>...</td>\n",
       "      <td>-0.428174</td>\n",
       "      <td>1.658312</td>\n",
       "      <td>-0.428174</td>\n",
       "      <td>-0.428174</td>\n",
       "      <td>1.658312</td>\n",
       "      <td>-0.428174</td>\n",
       "      <td>-0.428174</td>\n",
       "      <td>2.140872</td>\n",
       "      <td>-0.428174</td>\n",
       "      <td>-0.402200</td>\n",
       "    </tr>\n",
       "    <tr>\n",
       "      <th>1</th>\n",
       "      <td>1</td>\n",
       "      <td>1</td>\n",
       "      <td>0</td>\n",
       "      <td>-0.337463</td>\n",
       "      <td>1.658312</td>\n",
       "      <td>2.558832</td>\n",
       "      <td>-0.428174</td>\n",
       "      <td>-0.428174</td>\n",
       "      <td>-0.402200</td>\n",
       "      <td>-0.428174</td>\n",
       "      <td>...</td>\n",
       "      <td>-0.428174</td>\n",
       "      <td>-0.552771</td>\n",
       "      <td>-0.428174</td>\n",
       "      <td>-0.428174</td>\n",
       "      <td>-0.552771</td>\n",
       "      <td>-0.428174</td>\n",
       "      <td>-0.428174</td>\n",
       "      <td>-0.428174</td>\n",
       "      <td>-0.428174</td>\n",
       "      <td>-0.402200</td>\n",
       "    </tr>\n",
       "    <tr>\n",
       "      <th>11</th>\n",
       "      <td>1</td>\n",
       "      <td>0</td>\n",
       "      <td>0</td>\n",
       "      <td>-0.195698</td>\n",
       "      <td>-0.552771</td>\n",
       "      <td>-0.511766</td>\n",
       "      <td>-0.428174</td>\n",
       "      <td>-0.428174</td>\n",
       "      <td>-0.402200</td>\n",
       "      <td>-0.428174</td>\n",
       "      <td>...</td>\n",
       "      <td>-0.428174</td>\n",
       "      <td>-0.552771</td>\n",
       "      <td>-0.428174</td>\n",
       "      <td>-0.428174</td>\n",
       "      <td>1.658312</td>\n",
       "      <td>-0.428174</td>\n",
       "      <td>2.140872</td>\n",
       "      <td>-0.428174</td>\n",
       "      <td>-0.428174</td>\n",
       "      <td>-0.402200</td>\n",
       "    </tr>\n",
       "    <tr>\n",
       "      <th>4</th>\n",
       "      <td>1</td>\n",
       "      <td>1</td>\n",
       "      <td>0</td>\n",
       "      <td>-0.044687</td>\n",
       "      <td>1.658312</td>\n",
       "      <td>-0.511766</td>\n",
       "      <td>-0.428174</td>\n",
       "      <td>-0.428174</td>\n",
       "      <td>2.815399</td>\n",
       "      <td>-0.428174</td>\n",
       "      <td>...</td>\n",
       "      <td>-0.428174</td>\n",
       "      <td>-0.552771</td>\n",
       "      <td>-0.428174</td>\n",
       "      <td>-0.428174</td>\n",
       "      <td>-0.552771</td>\n",
       "      <td>-0.428174</td>\n",
       "      <td>2.140872</td>\n",
       "      <td>2.140872</td>\n",
       "      <td>2.140872</td>\n",
       "      <td>-0.402200</td>\n",
       "    </tr>\n",
       "    <tr>\n",
       "      <th>7</th>\n",
       "      <td>0</td>\n",
       "      <td>0</td>\n",
       "      <td>1</td>\n",
       "      <td>-0.334382</td>\n",
       "      <td>-0.552771</td>\n",
       "      <td>-0.511766</td>\n",
       "      <td>-0.428174</td>\n",
       "      <td>-0.428174</td>\n",
       "      <td>-0.402200</td>\n",
       "      <td>-0.428174</td>\n",
       "      <td>...</td>\n",
       "      <td>-0.428174</td>\n",
       "      <td>-0.552771</td>\n",
       "      <td>-0.428174</td>\n",
       "      <td>-0.428174</td>\n",
       "      <td>-0.552771</td>\n",
       "      <td>-0.428174</td>\n",
       "      <td>-0.428174</td>\n",
       "      <td>-0.428174</td>\n",
       "      <td>-0.428174</td>\n",
       "      <td>-0.402200</td>\n",
       "    </tr>\n",
       "    <tr>\n",
       "      <th>3</th>\n",
       "      <td>1</td>\n",
       "      <td>1</td>\n",
       "      <td>0</td>\n",
       "      <td>3.163527</td>\n",
       "      <td>-0.552771</td>\n",
       "      <td>-0.511766</td>\n",
       "      <td>2.140872</td>\n",
       "      <td>2.140872</td>\n",
       "      <td>-0.402200</td>\n",
       "      <td>-0.428174</td>\n",
       "      <td>...</td>\n",
       "      <td>-0.428174</td>\n",
       "      <td>-0.552771</td>\n",
       "      <td>-0.428174</td>\n",
       "      <td>-0.428174</td>\n",
       "      <td>-0.552771</td>\n",
       "      <td>-0.428174</td>\n",
       "      <td>-0.428174</td>\n",
       "      <td>-0.428174</td>\n",
       "      <td>-0.428174</td>\n",
       "      <td>-0.402200</td>\n",
       "    </tr>\n",
       "    <tr>\n",
       "      <th>6</th>\n",
       "      <td>0</td>\n",
       "      <td>0</td>\n",
       "      <td>1</td>\n",
       "      <td>-0.337463</td>\n",
       "      <td>1.658312</td>\n",
       "      <td>1.023533</td>\n",
       "      <td>-0.428174</td>\n",
       "      <td>-0.428174</td>\n",
       "      <td>-0.402200</td>\n",
       "      <td>-0.428174</td>\n",
       "      <td>...</td>\n",
       "      <td>-0.428174</td>\n",
       "      <td>-0.552771</td>\n",
       "      <td>-0.428174</td>\n",
       "      <td>-0.428174</td>\n",
       "      <td>-0.552771</td>\n",
       "      <td>2.140872</td>\n",
       "      <td>-0.428174</td>\n",
       "      <td>-0.428174</td>\n",
       "      <td>-0.428174</td>\n",
       "      <td>-0.402200</td>\n",
       "    </tr>\n",
       "  </tbody>\n",
       "</table>\n",
       "<p>8 rows × 10760 columns</p>\n",
       "</div>"
      ],
      "text/plain": [
       "    Gender_F  Cage_943947  Cage_943948    206494    276629    276620  \\\n",
       "5          0            0            1 -0.337463 -0.552771 -0.511766   \n",
       "2          1            1            0 -0.312809 -0.552771 -0.511766   \n",
       "1          1            1            0 -0.337463  1.658312  2.558832   \n",
       "11         1            0            0 -0.195698 -0.552771 -0.511766   \n",
       "4          1            1            0 -0.044687  1.658312 -0.511766   \n",
       "7          0            0            1 -0.334382 -0.552771 -0.511766   \n",
       "3          1            1            0  3.163527 -0.552771 -0.511766   \n",
       "6          0            0            1 -0.337463  1.658312  1.023533   \n",
       "\n",
       "      330294    184456    273164    182583              ...                \\\n",
       "5  -0.428174 -0.428174 -0.402200  2.140872              ...                 \n",
       "2  -0.428174 -0.428174 -0.402200 -0.428174              ...                 \n",
       "1  -0.428174 -0.428174 -0.402200 -0.428174              ...                 \n",
       "11 -0.428174 -0.428174 -0.402200 -0.428174              ...                 \n",
       "4  -0.428174 -0.428174  2.815399 -0.428174              ...                 \n",
       "7  -0.428174 -0.428174 -0.402200 -0.428174              ...                 \n",
       "3   2.140872  2.140872 -0.402200 -0.428174              ...                 \n",
       "6  -0.428174 -0.428174 -0.402200 -0.428174              ...                 \n",
       "\n",
       "    New.CleanUp.ReferenceOTU56003  New.CleanUp.ReferenceOTU56005  \\\n",
       "5                       -0.428174                       1.658312   \n",
       "2                       -0.428174                       1.658312   \n",
       "1                       -0.428174                      -0.552771   \n",
       "11                      -0.428174                      -0.552771   \n",
       "4                       -0.428174                      -0.552771   \n",
       "7                       -0.428174                      -0.552771   \n",
       "3                       -0.428174                      -0.552771   \n",
       "6                       -0.428174                      -0.552771   \n",
       "\n",
       "    New.CleanUp.ReferenceOTU56008  New.CleanUp.ReferenceOTU56017  \\\n",
       "5                       -0.428174                      -0.428174   \n",
       "2                       -0.428174                      -0.428174   \n",
       "1                       -0.428174                      -0.428174   \n",
       "11                      -0.428174                      -0.428174   \n",
       "4                       -0.428174                      -0.428174   \n",
       "7                       -0.428174                      -0.428174   \n",
       "3                       -0.428174                      -0.428174   \n",
       "6                       -0.428174                      -0.428174   \n",
       "\n",
       "    New.CleanUp.ReferenceOTU56020  New.CleanUp.ReferenceOTU56032  \\\n",
       "5                        1.658312                       2.140872   \n",
       "2                        1.658312                      -0.428174   \n",
       "1                       -0.552771                      -0.428174   \n",
       "11                       1.658312                      -0.428174   \n",
       "4                       -0.552771                      -0.428174   \n",
       "7                       -0.552771                      -0.428174   \n",
       "3                       -0.552771                      -0.428174   \n",
       "6                       -0.552771                       2.140872   \n",
       "\n",
       "    New.CleanUp.ReferenceOTU56042  New.CleanUp.ReferenceOTU56061  \\\n",
       "5                       -0.428174                      -0.428174   \n",
       "2                       -0.428174                       2.140872   \n",
       "1                       -0.428174                      -0.428174   \n",
       "11                       2.140872                      -0.428174   \n",
       "4                        2.140872                       2.140872   \n",
       "7                       -0.428174                      -0.428174   \n",
       "3                       -0.428174                      -0.428174   \n",
       "6                       -0.428174                      -0.428174   \n",
       "\n",
       "    New.CleanUp.ReferenceOTU56065  New.CleanUp.ReferenceOTU56069  \n",
       "5                       -0.428174                       2.815399  \n",
       "2                       -0.428174                      -0.402200  \n",
       "1                       -0.428174                      -0.402200  \n",
       "11                      -0.428174                      -0.402200  \n",
       "4                        2.140872                      -0.402200  \n",
       "7                       -0.428174                      -0.402200  \n",
       "3                       -0.428174                      -0.402200  \n",
       "6                       -0.428174                      -0.402200  \n",
       "\n",
       "[8 rows x 10760 columns]"
      ]
     },
     "execution_count": 337,
     "metadata": {},
     "output_type": "execute_result"
    }
   ],
   "source": [
    "X_train"
   ]
  },
  {
   "cell_type": "code",
   "execution_count": 328,
   "metadata": {
    "collapsed": false
   },
   "outputs": [
    {
     "data": {
      "text/plain": [
       "array([1, 1, 0, 1, 1, 0, 0, 1])"
      ]
     },
     "execution_count": 328,
     "metadata": {},
     "output_type": "execute_result"
    }
   ],
   "source": [
    "y_train"
   ]
  },
  {
   "cell_type": "markdown",
   "metadata": {},
   "source": [
    "# Set up pipelines"
   ]
  },
  {
   "cell_type": "markdown",
   "metadata": {},
   "source": [
    "## SVM classifier"
   ]
  },
  {
   "cell_type": "code",
   "execution_count": 329,
   "metadata": {
    "collapsed": false
   },
   "outputs": [],
   "source": [
    "svc_param_grid = {'svc__C': 10. ** np.arange(-3, 3),\n",
    "                  'svc__gamma': 10. ** np.arange(-3, 3)\n",
    "                 }\n",
    "\n",
    "\n",
    "\n",
    "svc_pipe = make_pipeline(\n",
    "                         SVC(kernel='linear', random_state=42))"
   ]
  },
  {
   "cell_type": "code",
   "execution_count": 330,
   "metadata": {
    "collapsed": false
   },
   "outputs": [],
   "source": [
    "svc_grid = GridSearchCV(svc_pipe, param_grid=svc_param_grid, cv=3)"
   ]
  },
  {
   "cell_type": "code",
   "execution_count": 331,
   "metadata": {
    "collapsed": false
   },
   "outputs": [
    {
     "name": "stdout",
     "output_type": "stream",
     "text": [
      "{'svc__gamma': 0.001, 'svc__C': 0.001}\n"
     ]
    }
   ],
   "source": [
    "svc_grid.fit(X_train, y_train)\n",
    "# svc_grid.fit(X, y_geno_encoded)\n",
    "print(svc_grid.best_params_)"
   ]
  },
  {
   "cell_type": "code",
   "execution_count": 332,
   "metadata": {
    "collapsed": false
   },
   "outputs": [
    {
     "data": {
      "text/plain": [
       "array([0, 0, 1, 0, 1, 1, 1, 0, 0, 0, 0, 1])"
      ]
     },
     "execution_count": 332,
     "metadata": {},
     "output_type": "execute_result"
    }
   ],
   "source": [
    "svc_grid.predict(X)"
   ]
  },
  {
   "cell_type": "code",
   "execution_count": 333,
   "metadata": {
    "collapsed": false
   },
   "outputs": [
    {
     "data": {
      "text/plain": [
       "array([0, 0, 1, 0, 1, 1, 1, 0, 0, 1, 1, 1])"
      ]
     },
     "execution_count": 333,
     "metadata": {},
     "output_type": "execute_result"
    }
   ],
   "source": [
    "y_geno_encoded"
   ]
  },
  {
   "cell_type": "code",
   "execution_count": 334,
   "metadata": {
    "collapsed": false
   },
   "outputs": [],
   "source": [
    "svc_cm = confusion_matrix(y_geno_encoded,svc_grid.predict(X))"
   ]
  },
  {
   "cell_type": "code",
   "execution_count": 335,
   "metadata": {
    "collapsed": false
   },
   "outputs": [
    {
     "data": {
      "image/png": "[encoded data removed]",
      "text/plain": [
       "<matplotlib.figure.Figure at 0x7fb817f94310>"
      ]
     },
     "metadata": {},
     "output_type": "display_data"
    }
   ],
   "source": [
    "splearn.plot_confusion_matrix(cm=svc_cm, labels=geno_encoder.classes_, cmap='Blues', title=None,\n",
    "                 norm=False, context=None, annot=True);"
   ]
  },
  {
   "cell_type": "code",
   "execution_count": 336,
   "metadata": {
    "collapsed": false
   },
   "outputs": [
    {
     "data": {
      "image/png": "[encoded data removed]",
      "text/plain": [
       "<matplotlib.figure.Figure at 0x7fb820056250>"
      ]
     },
     "metadata": {},
     "output_type": "display_data"
    }
   ],
   "source": [
    "splearn.plot_confusion_matrix(cm=svc_cm, labels=geno_encoder.classes_, cmap='Blues', title=None,\n",
    "                 norm=True, context=None, annot=True);"
   ]
  },
  {
   "cell_type": "markdown",
   "metadata": {},
   "source": [
    "## RandomizedLogisticRegression"
   ]
  },
  {
   "cell_type": "code",
   "execution_count": 233,
   "metadata": {
    "collapsed": true
   },
   "outputs": [],
   "source": [
    "rfst_param_grid = {'randomforestclassifier__n_estimators': np.arange(1,15,),\n",
    "                   'randomforestclassifier__min_samples_leaf': np.arange(1,10,2)\n",
    "                  }\n",
    "rfst_pipe = make_pipeline(RandomForestClassifier(random_state=42,n_jobs=8))"
   ]
  },
  {
   "cell_type": "markdown",
   "metadata": {},
   "source": [
    "## RandomForestClassifier"
   ]
  },
  {
   "cell_type": "code",
   "execution_count": 234,
   "metadata": {
    "collapsed": false
   },
   "outputs": [],
   "source": [
    "# scaler_minmax = ppro.MinMaxScaler()\n",
    "\n",
    "# clf_rfst = RandomForestClassifier(n_estimators=30, criterion='gini', \n",
    "#                                 max_depth=None, min_samples_split=2, \n",
    "#                                 min_samples_leaf=1, min_weight_fraction_leaf=0.0, \n",
    "#                                 max_features='auto', max_leaf_nodes=None, \n",
    "#                                 bootstrap=True, oob_score=False, n_jobs=6,\n",
    "#                                 random_state=None, verbose=0, warm_start=False, class_weight=None)\n",
    "\n",
    "\n",
    "rfst_param_grid = {'extratreesclassifier__n_estimators': np.arange(10,200,20),\n",
    "#                    'extratreesclassifier__min_samples_leaf': np.arange(1,10,2)\n",
    "                  }\n",
    "rfst_pipe = make_pipeline(ExtraTreesClassifier(random_state=42,n_jobs=8))"
   ]
  },
  {
   "cell_type": "code",
   "execution_count": 235,
   "metadata": {
    "collapsed": true
   },
   "outputs": [],
   "source": [
    "rfst_grid = GridSearchCV(rfst_pipe, param_grid=rfst_param_grid, cv=3)"
   ]
  },
  {
   "cell_type": "code",
   "execution_count": 236,
   "metadata": {
    "collapsed": false
   },
   "outputs": [
    {
     "name": "stdout",
     "output_type": "stream",
     "text": [
      "{'extratreesclassifier__n_estimators': 10}\n"
     ]
    }
   ],
   "source": [
    "rfst_grid.fit(X_train, y_train)\n",
    "# rfst_grid.fit(X, y_geno_encoded)\n",
    "print(rfst_grid.best_params_)"
   ]
  },
  {
   "cell_type": "code",
   "execution_count": 237,
   "metadata": {
    "collapsed": false
   },
   "outputs": [],
   "source": [
    "rfst_cm = confusion_matrix(y_geno_encoded,rfst_grid.predict(X))"
   ]
  },
  {
   "cell_type": "code",
   "execution_count": 238,
   "metadata": {
    "collapsed": false
   },
   "outputs": [
    {
     "data": {
      "image/png": "[encoded data removed]",
      "text/plain": [
       "<matplotlib.figure.Figure at 0x7fb820cf7990>"
      ]
     },
     "metadata": {},
     "output_type": "display_data"
    }
   ],
   "source": [
    "splearn.plot_confusion_matrix(cm=rfst_cm, labels=geno_encoder.classes_, cmap='Blues', title=None,\n",
    "                 norm=False, context=None, annot=True);"
   ]
  },
  {
   "cell_type": "code",
   "execution_count": 239,
   "metadata": {
    "collapsed": false
   },
   "outputs": [
    {
     "data": {
      "image/png": "[encoded data removed]",
      "text/plain": [
       "<matplotlib.figure.Figure at 0x7fb820cf7ed0>"
      ]
     },
     "metadata": {},
     "output_type": "display_data"
    }
   ],
   "source": [
    "splearn.plot_confusion_matrix(cm=rfst_cm, labels=geno_encoder.classes_, cmap='Blues', title=None,\n",
    "                 norm=True, context=None, annot=True);"
   ]
  },
  {
   "cell_type": "code",
   "execution_count": 240,
   "metadata": {
    "collapsed": false
   },
   "outputs": [],
   "source": [
    "# ExtraTreesClassifier"
   ]
  },
  {
   "cell_type": "code",
   "execution_count": 632,
   "metadata": {
    "collapsed": false
   },
   "outputs": [],
   "source": [
    "# Build a forest and compute the feature importances\n",
    "forest = ExtraTreesClassifier(n_estimators=10000,\n",
    "                              random_state=0,\n",
    "                              n_jobs=8\n",
    "                             )\n",
    "\n",
    "forest.fit(X, y_geno_encoded)\n",
    "importances = forest.feature_importances_\n",
    "std = np.std([tree.feature_importances_ for tree in forest.estimators_],\n",
    "             axis=0)\n",
    "indices = np.argsort(importances)[::-1]\n",
    "\n",
    "\n"
   ]
  },
  {
   "cell_type": "code",
   "execution_count": 633,
   "metadata": {
    "collapsed": false
   },
   "outputs": [
    {
     "name": "stdout",
     "output_type": "stream",
     "text": [
      "Feature ranking:\n",
      "1. feature 7537 (0.010519)\n",
      "2. feature 316 (0.009195)\n",
      "3. feature 6108 (0.005898)\n",
      "4. feature 3507 (0.005457)\n",
      "5. feature 8106 (0.005255)\n",
      "6. feature 9223 (0.005181)\n",
      "7. feature 8655 (0.005116)\n"
     ]
    },
    {
     "data": {
      "image/png": "[encoded data removed]",
      "text/plain": [
       "<matplotlib.figure.Figure at 0x7fb817c26c50>"
      ]
     },
     "metadata": {},
     "output_type": "display_data"
    }
   ],
   "source": [
    "n_features = 7\n",
    "\n",
    "\n",
    "# Print the feature ranking\n",
    "print(\"Feature ranking:\")\n",
    "\n",
    "for f in range(n_features):\n",
    "    print(\"%d. feature %d (%f)\" % (f + 1, indices[f], importances[indices[f]]))\n",
    "\n",
    "    \n",
    "# Plot the feature importances of the forest\n",
    "plt.figure()\n",
    "plt.title(\"Feature importances\")\n",
    "plt.bar(range(n_features), importances[indices][:n_features],\n",
    "       color=\"r\", yerr=std[indices][:n_features], align=\"center\")\n",
    "plt.xticks(range(n_features), indices[:n_features])\n",
    "# plt.xlim([-1, n_features])\n",
    "plt.show()"
   ]
  },
  {
   "cell_type": "code",
   "execution_count": 634,
   "metadata": {
    "collapsed": true
   },
   "outputs": [],
   "source": [
    "X_tree_sorted = X.iloc[:,indices]"
   ]
  },
  {
   "cell_type": "code",
   "execution_count": 635,
   "metadata": {
    "collapsed": true
   },
   "outputs": [],
   "source": [
    "def repandasify(array, y_names, X_names=None):\n",
    "    df = pd.DataFrame(data=array, index=y_names,columns=X_names)\n",
    "    return df"
   ]
  },
  {
   "cell_type": "markdown",
   "metadata": {},
   "source": [
    "# PCA"
   ]
  },
  {
   "cell_type": "code",
   "execution_count": 678,
   "metadata": {
    "collapsed": false
   },
   "outputs": [
    {
     "name": "stdout",
     "output_type": "stream",
     "text": [
      "            PC 1      PC 2\n",
      "WT      1.732051 -0.134829\n",
      "WT     -0.577350 -0.246664\n",
      "mutant -0.577350 -0.394768\n",
      "WT      1.732051  0.021324\n",
      "mutant -0.577350 -0.450692\n",
      "mutant -0.577350 -0.394768\n",
      "mutant -0.577350 -0.394768\n",
      "WT      1.732051  0.113504\n",
      "WT     -0.577350  3.177811\n",
      "mutant -0.577350 -0.394768\n",
      "mutant -0.577350 -0.450692\n",
      "mutant -0.577350 -0.450692\n"
     ]
    }
   ],
   "source": [
    "top_n_sorted_features = 7\n",
    "\n",
    "# pca = PCA(n_components=2, whiten=False)\n",
    "pca = RandomizedPCA(n_components=2, whiten=False)\n",
    "# pca = KernelPCA(n_components=2,)\n",
    "pca = FactorAnalysis(n_components=2, iterated_power=5)\n",
    "pca_t = pca.fit_transform(X_tree_sorted.iloc[:,:top_n_sorted_features],y_geno_encoded)\n",
    "# top_n_comp = 2\n",
    "# print('explained_variance_ratio_ of top {num}: {val}'.format(num=top_n_comp,val=pca.explained_variance_ratio_[:top_n_comp].sum()))\n",
    "\n",
    "pca_t_l = repandasify(array=pca_t, y_names=geno_encoder.inverse_transform(y_geno_encoded), X_names=['PC {v_}'.format(v_=v+1) for v in range(len(pca_t[0]))])\n",
    "print(pca_t_l)"
   ]
  },
  {
   "cell_type": "code",
   "execution_count": 679,
   "metadata": {
    "collapsed": false
   },
   "outputs": [],
   "source": [
    "pca_t_l = repandasify(array=pca_t, y_names=geno_encoder.inverse_transform(y_geno_encoded), X_names=['PC {v_}'.format(v_=v+1) for v in range(len(pca_t[0]))])\n",
    "\n",
    "pca_t_l['geno'] = pca_t_l.index.values\n",
    "pca_t_l = pca_t_l.reset_index(drop=True)\n",
    "pca_t_l['Cage'] = full_table.Cage.astype(str)\n",
    "pca_t_l['Sex'] = full_table.Gender\n",
    "pca_t_l['Specific Genotype'] = full_table.Genotype1\n",
    "# pca_t_l"
   ]
  },
  {
   "cell_type": "code",
   "execution_count": 680,
   "metadata": {
    "collapsed": true
   },
   "outputs": [],
   "source": [
    "plot_alpha = 0.7"
   ]
  },
  {
   "cell_type": "code",
   "execution_count": 681,
   "metadata": {
    "collapsed": false
   },
   "outputs": [
    {
     "data": {
      "image/png": "[encoded data removed]",
      "text/plain": [
       "<matplotlib.figure.Figure at 0x7fb817df4250>"
      ]
     },
     "metadata": {},
     "output_type": "display_data"
    }
   ],
   "source": [
    "with sns.color_palette(sns.color_palette(\"hls\", 2)):\n",
    "    with sns.axes_style(\"white\"):\n",
    "        sns.lmplot(x='PC 1', y='PC 2', data=pca_t_l.append(pca_t_l.iloc[9,:]), #sns.lmplot(x='PC 1', y='PC 2', data=pca_t_l,\n",
    "                   hue='geno', palette=None,\n",
    "                   fit_reg=False,\n",
    "                   scatter_kws={'alpha':plot_alpha}\n",
    "                  );"
   ]
  },
  {
   "cell_type": "code",
   "execution_count": 677,
   "metadata": {
    "collapsed": false
   },
   "outputs": [
    {
     "data": {
      "image/png": "[encoded data removed]",
      "text/plain": [
       "<matplotlib.figure.Figure at 0x7fb8185981d0>"
      ]
     },
     "metadata": {},
     "output_type": "display_data"
    }
   ],
   "source": [
    "with sns.color_palette(sns.color_palette(\"Set2\", 3)):\n",
    "    with sns.axes_style(\"white\"):\n",
    "        sns.lmplot(x='PC 1', y='PC 2', data=pca_t_l.append(pca_t_l.iloc[9,:]), #sns.lmplot(x='PC 1', y='PC 2', data=pca_t_l,\n",
    "                   hue='Specific Genotype', palette=None,\n",
    "                   fit_reg=False,\n",
    "                   scatter_kws={'alpha':plot_alpha}\n",
    "                  );"
   ]
  },
  {
   "cell_type": "code",
   "execution_count": 672,
   "metadata": {
    "collapsed": false
   },
   "outputs": [
    {
     "data": {
      "image/png": "[encoded data removed]",
      "text/plain": [
       "<matplotlib.figure.Figure at 0x7fb8185bcd90>"
      ]
     },
     "metadata": {},
     "output_type": "display_data"
    }
   ],
   "source": [
    "with sns.color_palette(sns.color_palette(\"hls\", 5)):\n",
    "    with sns.axes_style(\"white\"):\n",
    "        sns.lmplot(x='PC 1', y='PC 2', data=pca_t_l.append(pca_t_l.iloc[9,:]), #sns.lmplot(x='PC 1', y='PC 2', data=pca_t_l,\n",
    "                   hue='Cage', palette=None,\n",
    "                   fit_reg=False,\n",
    "                   scatter_kws={'alpha':plot_alpha}\n",
    "                  );"
   ]
  },
  {
   "cell_type": "code",
   "execution_count": 627,
   "metadata": {
    "collapsed": false
   },
   "outputs": [
    {
     "data": {
      "image/png": "[encoded data removed]",
      "text/plain": [
       "<matplotlib.figure.Figure at 0x7fb81865cb90>"
      ]
     },
     "metadata": {},
     "output_type": "display_data"
    }
   ],
   "source": [
    "with sns.color_palette(sns.color_palette(\"hls\", 2)):\n",
    "    with sns.axes_style(\"white\"):\n",
    "        sns.lmplot(x='PC 1', y='PC 2', data=pca_t_l.append(pca_t_l.iloc[9,:]), #sns.lmplot(x='PC 1', y='PC 2', data=pca_t_l,\n",
    "                   hue='Sex', palette=None,\n",
    "                   fit_reg=False,\n",
    "                   scatter_kws={'alpha':plot_alpha}\n",
    "                  );"
   ]
  },
  {
   "cell_type": "markdown",
   "metadata": {},
   "source": [
    "# LinearDiscriminantAnalysis"
   ]
  },
  {
   "cell_type": "code",
   "execution_count": 477,
   "metadata": {
    "collapsed": false
   },
   "outputs": [
    {
     "data": {
      "text/plain": [
       "LinearDiscriminantAnalysis(n_components=None, priors=None, shrinkage=None,\n",
       "              solver='svd', store_covariance=False, tol=0.0001)"
      ]
     },
     "execution_count": 477,
     "metadata": {},
     "output_type": "execute_result"
    }
   ],
   "source": [
    "LinearDiscriminantAnalysis()"
   ]
  },
  {
   "cell_type": "code",
   "execution_count": 478,
   "metadata": {
    "collapsed": false
   },
   "outputs": [
    {
     "data": {
      "text/html": [
       "<div>\n",
       "<table border=\"1\" class=\"dataframe\">\n",
       "  <thead>\n",
       "    <tr style=\"text-align: right;\">\n",
       "      <th></th>\n",
       "      <th>PC 1</th>\n",
       "      <th>geno</th>\n",
       "      <th>Cage</th>\n",
       "      <th>Sex</th>\n",
       "      <th>Specific Genotype</th>\n",
       "    </tr>\n",
       "  </thead>\n",
       "  <tbody>\n",
       "    <tr>\n",
       "      <th>0</th>\n",
       "      <td>-1.175815</td>\n",
       "      <td>WT</td>\n",
       "      <td>NaN</td>\n",
       "      <td>NaN</td>\n",
       "      <td>NaN</td>\n",
       "    </tr>\n",
       "    <tr>\n",
       "      <th>1</th>\n",
       "      <td>-0.356567</td>\n",
       "      <td>WT</td>\n",
       "      <td>NaN</td>\n",
       "      <td>NaN</td>\n",
       "      <td>NaN</td>\n",
       "    </tr>\n",
       "    <tr>\n",
       "      <th>2</th>\n",
       "      <td>-0.342533</td>\n",
       "      <td>mutant</td>\n",
       "      <td>NaN</td>\n",
       "      <td>NaN</td>\n",
       "      <td>NaN</td>\n",
       "    </tr>\n",
       "    <tr>\n",
       "      <th>3</th>\n",
       "      <td>-1.280321</td>\n",
       "      <td>WT</td>\n",
       "      <td>NaN</td>\n",
       "      <td>NaN</td>\n",
       "      <td>NaN</td>\n",
       "    </tr>\n",
       "    <tr>\n",
       "      <th>4</th>\n",
       "      <td>0.620619</td>\n",
       "      <td>mutant</td>\n",
       "      <td>NaN</td>\n",
       "      <td>NaN</td>\n",
       "      <td>NaN</td>\n",
       "    </tr>\n",
       "    <tr>\n",
       "      <th>5</th>\n",
       "      <td>0.859429</td>\n",
       "      <td>mutant</td>\n",
       "      <td>NaN</td>\n",
       "      <td>NaN</td>\n",
       "      <td>NaN</td>\n",
       "    </tr>\n",
       "    <tr>\n",
       "      <th>6</th>\n",
       "      <td>1.094525</td>\n",
       "      <td>mutant</td>\n",
       "      <td>NaN</td>\n",
       "      <td>NaN</td>\n",
       "      <td>NaN</td>\n",
       "    </tr>\n",
       "    <tr>\n",
       "      <th>7</th>\n",
       "      <td>1.764654</td>\n",
       "      <td>WT</td>\n",
       "      <td>NaN</td>\n",
       "      <td>NaN</td>\n",
       "      <td>NaN</td>\n",
       "    </tr>\n",
       "    <tr>\n",
       "      <th>8</th>\n",
       "      <td>-1.024927</td>\n",
       "      <td>WT</td>\n",
       "      <td>NaN</td>\n",
       "      <td>NaN</td>\n",
       "      <td>NaN</td>\n",
       "    </tr>\n",
       "    <tr>\n",
       "      <th>9</th>\n",
       "      <td>0.174184</td>\n",
       "      <td>mutant</td>\n",
       "      <td>NaN</td>\n",
       "      <td>NaN</td>\n",
       "      <td>NaN</td>\n",
       "    </tr>\n",
       "    <tr>\n",
       "      <th>10</th>\n",
       "      <td>-1.070778</td>\n",
       "      <td>mutant</td>\n",
       "      <td>NaN</td>\n",
       "      <td>NaN</td>\n",
       "      <td>NaN</td>\n",
       "    </tr>\n",
       "    <tr>\n",
       "      <th>11</th>\n",
       "      <td>0.737530</td>\n",
       "      <td>mutant</td>\n",
       "      <td>NaN</td>\n",
       "      <td>NaN</td>\n",
       "      <td>NaN</td>\n",
       "    </tr>\n",
       "  </tbody>\n",
       "</table>\n",
       "</div>"
      ],
      "text/plain": [
       "        PC 1    geno Cage  Sex Specific Genotype\n",
       "0  -1.175815      WT  NaN  NaN               NaN\n",
       "1  -0.356567      WT  NaN  NaN               NaN\n",
       "2  -0.342533  mutant  NaN  NaN               NaN\n",
       "3  -1.280321      WT  NaN  NaN               NaN\n",
       "4   0.620619  mutant  NaN  NaN               NaN\n",
       "5   0.859429  mutant  NaN  NaN               NaN\n",
       "6   1.094525  mutant  NaN  NaN               NaN\n",
       "7   1.764654      WT  NaN  NaN               NaN\n",
       "8  -1.024927      WT  NaN  NaN               NaN\n",
       "9   0.174184  mutant  NaN  NaN               NaN\n",
       "10 -1.070778  mutant  NaN  NaN               NaN\n",
       "11  0.737530  mutant  NaN  NaN               NaN"
      ]
     },
     "execution_count": 478,
     "metadata": {},
     "output_type": "execute_result"
    }
   ],
   "source": [
    "lda = LinearDiscriminantAnalysis(n_components=2)\n",
    "lda_t = lda.fit_transform(X,y_geno_encoded)\n",
    "# print('explained_variance_ratio_: ',lda.explained_variance_ratio_)\n",
    "\n",
    "lda_t_l = repandasify(array=lda_t, y_names=geno_encoder.inverse_transform(y_geno_encoded), X_names=['PC {v_}'.format(v_=v+1) for v in range(len(lda_t[0]))])\n",
    "\n",
    "lda_t_l['geno'] = lda_t_l.index.values\n",
    "lda_t_l['Cage'] = full_table.Cage.astype(str)\n",
    "lda_t_l['Sex'] = full_table.Gender\n",
    "lda_t_l['Specific Genotype'] = full_table.Genotype1\n",
    "\n",
    "lda_t_l = lda_t_l.reset_index(drop=True)\n",
    "lda_t_l"
   ]
  },
  {
   "cell_type": "code",
   "execution_count": 289,
   "metadata": {
    "collapsed": false
   },
   "outputs": [
    {
     "ename": "KeyError",
     "evalue": "\"['Cage'] not in index\"",
     "output_type": "error",
     "traceback": [
      "\u001b[1;31m---------------------------------------------------------------------------\u001b[0m",
      "\u001b[1;31mKeyError\u001b[0m                                  Traceback (most recent call last)",
      "\u001b[1;32m<ipython-input-289-9c238150860e>\u001b[0m in \u001b[0;36m<module>\u001b[1;34m()\u001b[0m\n\u001b[0;32m      2\u001b[0m     sns.lmplot(x='PC 1', y='PC 1', data=lda_t_l, \n\u001b[0;32m      3\u001b[0m                \u001b[0mhue\u001b[0m\u001b[1;33m=\u001b[0m\u001b[1;34m'Cage'\u001b[0m\u001b[1;33m,\u001b[0m \u001b[0mpalette\u001b[0m\u001b[1;33m=\u001b[0m\u001b[1;34m'bright'\u001b[0m\u001b[1;33m,\u001b[0m\u001b[1;33m\u001b[0m\u001b[0m\n\u001b[1;32m----> 4\u001b[1;33m                fit_reg=False);\n\u001b[0m",
      "\u001b[1;32m/home/gus/anaconda2/envs/stack2/lib/python2.7/site-packages/seaborn/linearmodels.pyc\u001b[0m in \u001b[0;36mlmplot\u001b[1;34m(x, y, data, hue, col, row, palette, col_wrap, size, aspect, markers, sharex, sharey, hue_order, col_order, row_order, legend, legend_out, x_estimator, x_bins, x_ci, scatter, fit_reg, ci, n_boot, units, order, logistic, lowess, robust, logx, x_partial, y_partial, truncate, x_jitter, y_jitter, scatter_kws, line_kws)\u001b[0m\n\u001b[0;32m    531\u001b[0m     \u001b[0mneed_cols\u001b[0m \u001b[1;33m=\u001b[0m \u001b[1;33m[\u001b[0m\u001b[0mx\u001b[0m\u001b[1;33m,\u001b[0m \u001b[0my\u001b[0m\u001b[1;33m,\u001b[0m \u001b[0mhue\u001b[0m\u001b[1;33m,\u001b[0m \u001b[0mcol\u001b[0m\u001b[1;33m,\u001b[0m \u001b[0mrow\u001b[0m\u001b[1;33m,\u001b[0m \u001b[0munits\u001b[0m\u001b[1;33m,\u001b[0m \u001b[0mx_partial\u001b[0m\u001b[1;33m,\u001b[0m \u001b[0my_partial\u001b[0m\u001b[1;33m]\u001b[0m\u001b[1;33m\u001b[0m\u001b[0m\n\u001b[0;32m    532\u001b[0m     \u001b[0mcols\u001b[0m \u001b[1;33m=\u001b[0m \u001b[0mnp\u001b[0m\u001b[1;33m.\u001b[0m\u001b[0munique\u001b[0m\u001b[1;33m(\u001b[0m\u001b[1;33m[\u001b[0m\u001b[0ma\u001b[0m \u001b[1;32mfor\u001b[0m \u001b[0ma\u001b[0m \u001b[1;32min\u001b[0m \u001b[0mneed_cols\u001b[0m \u001b[1;32mif\u001b[0m \u001b[0ma\u001b[0m \u001b[1;32mis\u001b[0m \u001b[1;32mnot\u001b[0m \u001b[0mNone\u001b[0m\u001b[1;33m]\u001b[0m\u001b[1;33m)\u001b[0m\u001b[1;33m.\u001b[0m\u001b[0mtolist\u001b[0m\u001b[1;33m(\u001b[0m\u001b[1;33m)\u001b[0m\u001b[1;33m\u001b[0m\u001b[0m\n\u001b[1;32m--> 533\u001b[1;33m     \u001b[0mdata\u001b[0m \u001b[1;33m=\u001b[0m \u001b[0mdata\u001b[0m\u001b[1;33m[\u001b[0m\u001b[0mcols\u001b[0m\u001b[1;33m]\u001b[0m\u001b[1;33m\u001b[0m\u001b[0m\n\u001b[0m\u001b[0;32m    534\u001b[0m \u001b[1;33m\u001b[0m\u001b[0m\n\u001b[0;32m    535\u001b[0m     \u001b[1;31m# Initialize the grid\u001b[0m\u001b[1;33m\u001b[0m\u001b[1;33m\u001b[0m\u001b[0m\n",
      "\u001b[1;32m/home/gus/anaconda2/envs/stack2/lib/python2.7/site-packages/pandas/core/frame.pyc\u001b[0m in \u001b[0;36m__getitem__\u001b[1;34m(self, key)\u001b[0m\n\u001b[0;32m   1961\u001b[0m         \u001b[1;32mif\u001b[0m \u001b[0misinstance\u001b[0m\u001b[1;33m(\u001b[0m\u001b[0mkey\u001b[0m\u001b[1;33m,\u001b[0m \u001b[1;33m(\u001b[0m\u001b[0mSeries\u001b[0m\u001b[1;33m,\u001b[0m \u001b[0mnp\u001b[0m\u001b[1;33m.\u001b[0m\u001b[0mndarray\u001b[0m\u001b[1;33m,\u001b[0m \u001b[0mIndex\u001b[0m\u001b[1;33m,\u001b[0m \u001b[0mlist\u001b[0m\u001b[1;33m)\u001b[0m\u001b[1;33m)\u001b[0m\u001b[1;33m:\u001b[0m\u001b[1;33m\u001b[0m\u001b[0m\n\u001b[0;32m   1962\u001b[0m             \u001b[1;31m# either boolean or fancy integer index\u001b[0m\u001b[1;33m\u001b[0m\u001b[1;33m\u001b[0m\u001b[0m\n\u001b[1;32m-> 1963\u001b[1;33m             \u001b[1;32mreturn\u001b[0m \u001b[0mself\u001b[0m\u001b[1;33m.\u001b[0m\u001b[0m_getitem_array\u001b[0m\u001b[1;33m(\u001b[0m\u001b[0mkey\u001b[0m\u001b[1;33m)\u001b[0m\u001b[1;33m\u001b[0m\u001b[0m\n\u001b[0m\u001b[0;32m   1964\u001b[0m         \u001b[1;32melif\u001b[0m \u001b[0misinstance\u001b[0m\u001b[1;33m(\u001b[0m\u001b[0mkey\u001b[0m\u001b[1;33m,\u001b[0m \u001b[0mDataFrame\u001b[0m\u001b[1;33m)\u001b[0m\u001b[1;33m:\u001b[0m\u001b[1;33m\u001b[0m\u001b[0m\n\u001b[0;32m   1965\u001b[0m             \u001b[1;32mreturn\u001b[0m \u001b[0mself\u001b[0m\u001b[1;33m.\u001b[0m\u001b[0m_getitem_frame\u001b[0m\u001b[1;33m(\u001b[0m\u001b[0mkey\u001b[0m\u001b[1;33m)\u001b[0m\u001b[1;33m\u001b[0m\u001b[0m\n",
      "\u001b[1;32m/home/gus/anaconda2/envs/stack2/lib/python2.7/site-packages/pandas/core/frame.pyc\u001b[0m in \u001b[0;36m_getitem_array\u001b[1;34m(self, key)\u001b[0m\n\u001b[0;32m   2005\u001b[0m             \u001b[1;32mreturn\u001b[0m \u001b[0mself\u001b[0m\u001b[1;33m.\u001b[0m\u001b[0mtake\u001b[0m\u001b[1;33m(\u001b[0m\u001b[0mindexer\u001b[0m\u001b[1;33m,\u001b[0m \u001b[0maxis\u001b[0m\u001b[1;33m=\u001b[0m\u001b[1;36m0\u001b[0m\u001b[1;33m,\u001b[0m \u001b[0mconvert\u001b[0m\u001b[1;33m=\u001b[0m\u001b[0mFalse\u001b[0m\u001b[1;33m)\u001b[0m\u001b[1;33m\u001b[0m\u001b[0m\n\u001b[0;32m   2006\u001b[0m         \u001b[1;32melse\u001b[0m\u001b[1;33m:\u001b[0m\u001b[1;33m\u001b[0m\u001b[0m\n\u001b[1;32m-> 2007\u001b[1;33m             \u001b[0mindexer\u001b[0m \u001b[1;33m=\u001b[0m \u001b[0mself\u001b[0m\u001b[1;33m.\u001b[0m\u001b[0mix\u001b[0m\u001b[1;33m.\u001b[0m\u001b[0m_convert_to_indexer\u001b[0m\u001b[1;33m(\u001b[0m\u001b[0mkey\u001b[0m\u001b[1;33m,\u001b[0m \u001b[0maxis\u001b[0m\u001b[1;33m=\u001b[0m\u001b[1;36m1\u001b[0m\u001b[1;33m)\u001b[0m\u001b[1;33m\u001b[0m\u001b[0m\n\u001b[0m\u001b[0;32m   2008\u001b[0m             \u001b[1;32mreturn\u001b[0m \u001b[0mself\u001b[0m\u001b[1;33m.\u001b[0m\u001b[0mtake\u001b[0m\u001b[1;33m(\u001b[0m\u001b[0mindexer\u001b[0m\u001b[1;33m,\u001b[0m \u001b[0maxis\u001b[0m\u001b[1;33m=\u001b[0m\u001b[1;36m1\u001b[0m\u001b[1;33m,\u001b[0m \u001b[0mconvert\u001b[0m\u001b[1;33m=\u001b[0m\u001b[0mTrue\u001b[0m\u001b[1;33m)\u001b[0m\u001b[1;33m\u001b[0m\u001b[0m\n\u001b[0;32m   2009\u001b[0m \u001b[1;33m\u001b[0m\u001b[0m\n",
      "\u001b[1;32m/home/gus/anaconda2/envs/stack2/lib/python2.7/site-packages/pandas/core/indexing.pyc\u001b[0m in \u001b[0;36m_convert_to_indexer\u001b[1;34m(self, obj, axis, is_setter)\u001b[0m\n\u001b[0;32m   1148\u001b[0m                 \u001b[0mmask\u001b[0m \u001b[1;33m=\u001b[0m \u001b[0mcheck\u001b[0m \u001b[1;33m==\u001b[0m \u001b[1;33m-\u001b[0m\u001b[1;36m1\u001b[0m\u001b[1;33m\u001b[0m\u001b[0m\n\u001b[0;32m   1149\u001b[0m                 \u001b[1;32mif\u001b[0m \u001b[0mmask\u001b[0m\u001b[1;33m.\u001b[0m\u001b[0many\u001b[0m\u001b[1;33m(\u001b[0m\u001b[1;33m)\u001b[0m\u001b[1;33m:\u001b[0m\u001b[1;33m\u001b[0m\u001b[0m\n\u001b[1;32m-> 1150\u001b[1;33m                     \u001b[1;32mraise\u001b[0m \u001b[0mKeyError\u001b[0m\u001b[1;33m(\u001b[0m\u001b[1;34m'%s not in index'\u001b[0m \u001b[1;33m%\u001b[0m \u001b[0mobjarr\u001b[0m\u001b[1;33m[\u001b[0m\u001b[0mmask\u001b[0m\u001b[1;33m]\u001b[0m\u001b[1;33m)\u001b[0m\u001b[1;33m\u001b[0m\u001b[0m\n\u001b[0m\u001b[0;32m   1151\u001b[0m \u001b[1;33m\u001b[0m\u001b[0m\n\u001b[0;32m   1152\u001b[0m                 \u001b[1;32mreturn\u001b[0m \u001b[0m_values_from_object\u001b[0m\u001b[1;33m(\u001b[0m\u001b[0mindexer\u001b[0m\u001b[1;33m)\u001b[0m\u001b[1;33m\u001b[0m\u001b[0m\n",
      "\u001b[1;31mKeyError\u001b[0m: \"['Cage'] not in index\""
     ]
    }
   ],
   "source": [
    "with sns.axes_style(\"white\"):\n",
    "    sns.lmplot(x='PC 1', y='PC 1', data=lda_t_l, \n",
    "               hue='Cage', palette='bright',\n",
    "               fit_reg=False);"
   ]
  },
  {
   "cell_type": "code",
   "execution_count": null,
   "metadata": {
    "collapsed": true
   },
   "outputs": [],
   "source": []
  }
 ],
 "metadata": {
  "kernelspec": {
   "display_name": "Python 2",
   "language": "python",
   "name": "python2"
  },
  "language_info": {
   "codemirror_mode": {
    "name": "ipython",
    "version": 2
   },
   "file_extension": ".py",
   "mimetype": "text/x-python",
   "name": "python",
   "nbconvert_exporter": "python",
   "pygments_lexer": "ipython2",
   "version": "2.7.11"
  }
 },
 "nbformat": 4,
 "nbformat_minor": 0
}
