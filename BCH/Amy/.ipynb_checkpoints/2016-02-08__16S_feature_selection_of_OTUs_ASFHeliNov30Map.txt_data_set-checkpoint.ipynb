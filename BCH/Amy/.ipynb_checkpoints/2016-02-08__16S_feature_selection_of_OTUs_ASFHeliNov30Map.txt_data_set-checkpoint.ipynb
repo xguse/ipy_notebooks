{
 "cells": [
  {
   "cell_type": "code",
   "execution_count": 1,
   "metadata": {
    "collapsed": false
   },
   "outputs": [],
   "source": [
    "%matplotlib inline\n",
    "# %matplotlib"
   ]
  },
  {
   "cell_type": "code",
   "execution_count": 2,
   "metadata": {
    "collapsed": true
   },
   "outputs": [],
   "source": [
    "from __future__ import division,print_function"
   ]
  },
  {
   "cell_type": "code",
   "execution_count": 3,
   "metadata": {
    "collapsed": false
   },
   "outputs": [],
   "source": [
    "from spartan.utils.sklearn import model_assessment, feature_selection\n",
    "from spartan.utils.sklearn import pandas_helpers"
   ]
  },
  {
   "cell_type": "code",
   "execution_count": 4,
   "metadata": {
    "collapsed": false
   },
   "outputs": [],
   "source": [
    "from collections import Counter, defaultdict\n",
    "import math\n",
    "\n",
    "import numpy as np\n",
    "import pandas as pd\n",
    "pd.set_option('display.max_rows', 500)\n",
    "\n",
    "\n",
    "import sklearn as skl\n",
    "import sklearn.preprocessing as ppro\n",
    "\n",
    "from sklearn.pipeline import Pipeline\n",
    "from sklearn.pipeline import make_pipeline\n",
    "\n",
    "from sklearn.decomposition import PCA, RandomizedPCA, KernelPCA, FactorAnalysis\n",
    "from sklearn.discriminant_analysis import LinearDiscriminantAnalysis\n",
    "\n",
    "from sklearn.grid_search import GridSearchCV\n",
    "from sklearn.cross_validation import train_test_split\n",
    "\n",
    "from sklearn.svm import SVC, LinearSVC\n",
    "from sklearn.ensemble import RandomForestClassifier,ExtraTreesClassifier\n",
    "\n",
    "from sklearn.linear_model import LogisticRegression\n",
    "from sklearn.linear_model import RandomizedLogisticRegression\n",
    "from sklearn.linear_model import Lasso\n",
    "\n",
    "from sklearn.feature_selection import SelectKBest\n",
    "\n",
    "from sklearn.metrics import confusion_matrix\n",
    "\n",
    "from sklearn.feature_selection import SelectFromModel"
   ]
  },
  {
   "cell_type": "code",
   "execution_count": 5,
   "metadata": {
    "collapsed": true
   },
   "outputs": [],
   "source": [
    "from matplotlib import pyplot as plt\n",
    "import seaborn as sns"
   ]
  },
  {
   "cell_type": "code",
   "execution_count": 6,
   "metadata": {
    "collapsed": false
   },
   "outputs": [],
   "source": [
    "sns.set_context('poster')"
   ]
  },
  {
   "cell_type": "code",
   "execution_count": 7,
   "metadata": {
    "collapsed": true
   },
   "outputs": [],
   "source": [
    "otu_path = \"/home/gus/MEGAsync/zim/main/BCH/Projects/Amy/ASFHeliNov30Map/otu_table_L7.csv\"\n",
    "map_path = \"/home/gus/MEGAsync/zim/main/BCH/Projects/Amy/ASFHeliNov30Map/ASFHeliNov30Map.csv\""
   ]
  },
  {
   "cell_type": "code",
   "execution_count": 157,
   "metadata": {
    "collapsed": false
   },
   "outputs": [],
   "source": [
    "otu = pd.read_csv(filepath_or_buffer=otu_path, sep='\\t', \n",
    "                  quoting=0, skipinitialspace=False, lineterminator=None, header='infer', index_col=None, names=None)\n",
    "\n",
    "meta = pd.read_csv(filepath_or_buffer=map_path, sep='\\t')"
   ]
  },
  {
   "cell_type": "markdown",
   "metadata": {},
   "source": [
    "# Recode OTU table as needed"
   ]
  },
  {
   "cell_type": "code",
   "execution_count": 158,
   "metadata": {
    "collapsed": false
   },
   "outputs": [
    {
     "data": {
      "text/html": [
       "<div>\n",
       "<table border=\"1\" class=\"dataframe\">\n",
       "  <thead>\n",
       "    <tr style=\"text-align: right;\">\n",
       "      <th></th>\n",
       "      <th>OTU ID</th>\n",
       "      <th>36</th>\n",
       "      <th>37</th>\n",
       "      <th>40</th>\n",
       "      <th>43</th>\n",
       "      <th>53</th>\n",
       "      <th>54</th>\n",
       "      <th>57</th>\n",
       "      <th>60</th>\n",
       "      <th>63</th>\n",
       "      <th>...</th>\n",
       "      <th>416</th>\n",
       "      <th>316</th>\n",
       "      <th>370</th>\n",
       "      <th>134</th>\n",
       "      <th>155</th>\n",
       "      <th>47</th>\n",
       "      <th>169</th>\n",
       "      <th>253</th>\n",
       "      <th>292</th>\n",
       "      <th>368</th>\n",
       "    </tr>\n",
       "  </thead>\n",
       "  <tbody>\n",
       "    <tr>\n",
       "      <th>0</th>\n",
       "      <td>k__Bacteria;p__Actinobacteria;c__Acidimicrobii...</td>\n",
       "      <td>0</td>\n",
       "      <td>0</td>\n",
       "      <td>0</td>\n",
       "      <td>0</td>\n",
       "      <td>0</td>\n",
       "      <td>0</td>\n",
       "      <td>0</td>\n",
       "      <td>0</td>\n",
       "      <td>0</td>\n",
       "      <td>...</td>\n",
       "      <td>0.00004</td>\n",
       "      <td>0</td>\n",
       "      <td>0</td>\n",
       "      <td>0</td>\n",
       "      <td>0</td>\n",
       "      <td>0</td>\n",
       "      <td>0</td>\n",
       "      <td>0</td>\n",
       "      <td>0</td>\n",
       "      <td>0</td>\n",
       "    </tr>\n",
       "    <tr>\n",
       "      <th>1</th>\n",
       "      <td>k__Bacteria;p__Actinobacteria;c__Actinobacteri...</td>\n",
       "      <td>0</td>\n",
       "      <td>0</td>\n",
       "      <td>0</td>\n",
       "      <td>0</td>\n",
       "      <td>0</td>\n",
       "      <td>0</td>\n",
       "      <td>0</td>\n",
       "      <td>0</td>\n",
       "      <td>0</td>\n",
       "      <td>...</td>\n",
       "      <td>0.00000</td>\n",
       "      <td>0</td>\n",
       "      <td>0</td>\n",
       "      <td>0</td>\n",
       "      <td>0</td>\n",
       "      <td>0</td>\n",
       "      <td>0</td>\n",
       "      <td>0</td>\n",
       "      <td>0</td>\n",
       "      <td>0</td>\n",
       "    </tr>\n",
       "    <tr>\n",
       "      <th>2</th>\n",
       "      <td>k__Bacteria;p__Actinobacteria;c__Actinobacteri...</td>\n",
       "      <td>0</td>\n",
       "      <td>0</td>\n",
       "      <td>0</td>\n",
       "      <td>0</td>\n",
       "      <td>0</td>\n",
       "      <td>0</td>\n",
       "      <td>0</td>\n",
       "      <td>0</td>\n",
       "      <td>0</td>\n",
       "      <td>...</td>\n",
       "      <td>0.00000</td>\n",
       "      <td>0</td>\n",
       "      <td>0</td>\n",
       "      <td>0</td>\n",
       "      <td>0</td>\n",
       "      <td>0</td>\n",
       "      <td>0</td>\n",
       "      <td>0</td>\n",
       "      <td>0</td>\n",
       "      <td>0</td>\n",
       "    </tr>\n",
       "    <tr>\n",
       "      <th>3</th>\n",
       "      <td>k__Bacteria;p__Actinobacteria;c__Actinobacteri...</td>\n",
       "      <td>0</td>\n",
       "      <td>0</td>\n",
       "      <td>0</td>\n",
       "      <td>0</td>\n",
       "      <td>0</td>\n",
       "      <td>0</td>\n",
       "      <td>0</td>\n",
       "      <td>0</td>\n",
       "      <td>0</td>\n",
       "      <td>...</td>\n",
       "      <td>0.00000</td>\n",
       "      <td>0</td>\n",
       "      <td>0</td>\n",
       "      <td>0</td>\n",
       "      <td>0</td>\n",
       "      <td>0</td>\n",
       "      <td>0</td>\n",
       "      <td>0</td>\n",
       "      <td>0</td>\n",
       "      <td>0</td>\n",
       "    </tr>\n",
       "    <tr>\n",
       "      <th>4</th>\n",
       "      <td>k__Bacteria;p__Actinobacteria;c__Actinobacteri...</td>\n",
       "      <td>0</td>\n",
       "      <td>0</td>\n",
       "      <td>0</td>\n",
       "      <td>0</td>\n",
       "      <td>0</td>\n",
       "      <td>0</td>\n",
       "      <td>0</td>\n",
       "      <td>0</td>\n",
       "      <td>0</td>\n",
       "      <td>...</td>\n",
       "      <td>0.00000</td>\n",
       "      <td>0</td>\n",
       "      <td>0</td>\n",
       "      <td>0</td>\n",
       "      <td>0</td>\n",
       "      <td>0</td>\n",
       "      <td>0</td>\n",
       "      <td>0</td>\n",
       "      <td>0</td>\n",
       "      <td>0</td>\n",
       "    </tr>\n",
       "  </tbody>\n",
       "</table>\n",
       "<p>5 rows × 376 columns</p>\n",
       "</div>"
      ],
      "text/plain": [
       "                                              OTU ID  36  37  40  43  53  54  \\\n",
       "0  k__Bacteria;p__Actinobacteria;c__Acidimicrobii...   0   0   0   0   0   0   \n",
       "1  k__Bacteria;p__Actinobacteria;c__Actinobacteri...   0   0   0   0   0   0   \n",
       "2  k__Bacteria;p__Actinobacteria;c__Actinobacteri...   0   0   0   0   0   0   \n",
       "3  k__Bacteria;p__Actinobacteria;c__Actinobacteri...   0   0   0   0   0   0   \n",
       "4  k__Bacteria;p__Actinobacteria;c__Actinobacteri...   0   0   0   0   0   0   \n",
       "\n",
       "   57  60  63 ...       416  316  370  134  155  47  169  253  292  368  \n",
       "0   0   0   0 ...   0.00004    0    0    0    0   0    0    0    0    0  \n",
       "1   0   0   0 ...   0.00000    0    0    0    0   0    0    0    0    0  \n",
       "2   0   0   0 ...   0.00000    0    0    0    0   0    0    0    0    0  \n",
       "3   0   0   0 ...   0.00000    0    0    0    0   0    0    0    0    0  \n",
       "4   0   0   0 ...   0.00000    0    0    0    0   0    0    0    0    0  \n",
       "\n",
       "[5 rows x 376 columns]"
      ]
     },
     "execution_count": 158,
     "metadata": {},
     "output_type": "execute_result"
    }
   ],
   "source": [
    "otu.head()"
   ]
  },
  {
   "cell_type": "code",
   "execution_count": 159,
   "metadata": {
    "collapsed": false
   },
   "outputs": [],
   "source": [
    "otu.index = otu['OTU ID'].values\n",
    "otu = otu.drop(['OTU ID'],axis=1)"
   ]
  },
  {
   "cell_type": "markdown",
   "metadata": {},
   "source": [
    "It looks like the data are not in \"counts\" but in \"fraction of counts\" format?"
   ]
  },
  {
   "cell_type": "code",
   "execution_count": 160,
   "metadata": {
    "collapsed": false,
    "scrolled": true
   },
   "outputs": [],
   "source": [
    "# otu.plot(kind='line');"
   ]
  },
  {
   "cell_type": "code",
   "execution_count": 161,
   "metadata": {
    "collapsed": false
   },
   "outputs": [],
   "source": [
    "# otu_scaled = otu.T.apply(lambda m: (m - m.mean())/m.std()).T\n",
    "# otu_scaled = otu.T.apply(lambda m: (m / m.sum())).T\n",
    "# otu_scaled = otu\n",
    "\n",
    "otu_shrunk = otu.sum().min() / otu.sum() * otu\n",
    "\n",
    "otu_scaled = otu_shrunk.T.apply(lambda m: (m - m.mean())/m.std()).T"
   ]
  },
  {
   "cell_type": "markdown",
   "metadata": {},
   "source": [
    "# Recode metadata table as needed\n",
    "- convert Date column from string to date object \n",
    "- make sure some lable values are not interpreted as numbers\n",
    "- add relative date to allow comparison of time points between WT and Was-/- mice"
   ]
  },
  {
   "cell_type": "code",
   "execution_count": 162,
   "metadata": {
    "collapsed": false
   },
   "outputs": [],
   "source": [
    "meta['Date'] = meta.Date.apply(lambda t: pd.Timestamp(t))"
   ]
  },
  {
   "cell_type": "code",
   "execution_count": 163,
   "metadata": {
    "collapsed": false
   },
   "outputs": [],
   "source": [
    "meta.SampleID = meta.SampleID.astype(str)"
   ]
  },
  {
   "cell_type": "code",
   "execution_count": 164,
   "metadata": {
    "collapsed": false
   },
   "outputs": [
    {
     "data": {
      "text/html": [
       "<div>\n",
       "<table border=\"1\" class=\"dataframe\">\n",
       "  <thead>\n",
       "    <tr style=\"text-align: right;\">\n",
       "      <th></th>\n",
       "      <th>SampleID</th>\n",
       "      <th>Date</th>\n",
       "      <th>Timepoint</th>\n",
       "      <th>Mouse ID</th>\n",
       "      <th>Genotype</th>\n",
       "      <th>Helicobacter</th>\n",
       "    </tr>\n",
       "  </thead>\n",
       "  <tbody>\n",
       "    <tr>\n",
       "      <th>0</th>\n",
       "      <td>33</td>\n",
       "      <td>2014-10-29</td>\n",
       "      <td>3</td>\n",
       "      <td>1</td>\n",
       "      <td>Was-/-</td>\n",
       "      <td>No</td>\n",
       "    </tr>\n",
       "    <tr>\n",
       "      <th>1</th>\n",
       "      <td>34</td>\n",
       "      <td>2014-10-29</td>\n",
       "      <td>3</td>\n",
       "      <td>2</td>\n",
       "      <td>Was-/-</td>\n",
       "      <td>Yes</td>\n",
       "    </tr>\n",
       "    <tr>\n",
       "      <th>2</th>\n",
       "      <td>35</td>\n",
       "      <td>2014-10-29</td>\n",
       "      <td>3</td>\n",
       "      <td>3</td>\n",
       "      <td>Was-/-</td>\n",
       "      <td>Yes</td>\n",
       "    </tr>\n",
       "    <tr>\n",
       "      <th>3</th>\n",
       "      <td>36</td>\n",
       "      <td>2014-10-29</td>\n",
       "      <td>3</td>\n",
       "      <td>4</td>\n",
       "      <td>Was-/-</td>\n",
       "      <td>Yes</td>\n",
       "    </tr>\n",
       "    <tr>\n",
       "      <th>4</th>\n",
       "      <td>37</td>\n",
       "      <td>2014-10-29</td>\n",
       "      <td>3</td>\n",
       "      <td>5</td>\n",
       "      <td>Was-/-</td>\n",
       "      <td>No</td>\n",
       "    </tr>\n",
       "  </tbody>\n",
       "</table>\n",
       "</div>"
      ],
      "text/plain": [
       "  SampleID       Date  Timepoint  Mouse ID Genotype Helicobacter\n",
       "0       33 2014-10-29          3         1   Was-/-           No\n",
       "1       34 2014-10-29          3         2   Was-/-          Yes\n",
       "2       35 2014-10-29          3         3   Was-/-          Yes\n",
       "3       36 2014-10-29          3         4   Was-/-          Yes\n",
       "4       37 2014-10-29          3         5   Was-/-           No"
      ]
     },
     "execution_count": 164,
     "metadata": {},
     "output_type": "execute_result"
    }
   ],
   "source": [
    "meta.head()"
   ]
  },
  {
   "cell_type": "code",
   "execution_count": 165,
   "metadata": {
    "collapsed": false
   },
   "outputs": [
    {
     "data": {
      "text/html": [
       "<div>\n",
       "<table border=\"1\" class=\"dataframe\">\n",
       "  <thead>\n",
       "    <tr style=\"text-align: right;\">\n",
       "      <th></th>\n",
       "      <th>SampleID</th>\n",
       "      <th>Date</th>\n",
       "      <th>Timepoint</th>\n",
       "      <th>Mouse ID</th>\n",
       "      <th>Genotype</th>\n",
       "      <th>Helicobacter</th>\n",
       "      <th>genotype</th>\n",
       "    </tr>\n",
       "  </thead>\n",
       "  <tbody>\n",
       "    <tr>\n",
       "      <th>0</th>\n",
       "      <td>33</td>\n",
       "      <td>2014-10-29</td>\n",
       "      <td>3</td>\n",
       "      <td>1</td>\n",
       "      <td>Was-/-</td>\n",
       "      <td>No</td>\n",
       "      <td>MUT</td>\n",
       "    </tr>\n",
       "    <tr>\n",
       "      <th>1</th>\n",
       "      <td>34</td>\n",
       "      <td>2014-10-29</td>\n",
       "      <td>3</td>\n",
       "      <td>2</td>\n",
       "      <td>Was-/-</td>\n",
       "      <td>Yes</td>\n",
       "      <td>MUT</td>\n",
       "    </tr>\n",
       "    <tr>\n",
       "      <th>2</th>\n",
       "      <td>35</td>\n",
       "      <td>2014-10-29</td>\n",
       "      <td>3</td>\n",
       "      <td>3</td>\n",
       "      <td>Was-/-</td>\n",
       "      <td>Yes</td>\n",
       "      <td>MUT</td>\n",
       "    </tr>\n",
       "    <tr>\n",
       "      <th>3</th>\n",
       "      <td>36</td>\n",
       "      <td>2014-10-29</td>\n",
       "      <td>3</td>\n",
       "      <td>4</td>\n",
       "      <td>Was-/-</td>\n",
       "      <td>Yes</td>\n",
       "      <td>MUT</td>\n",
       "    </tr>\n",
       "    <tr>\n",
       "      <th>4</th>\n",
       "      <td>37</td>\n",
       "      <td>2014-10-29</td>\n",
       "      <td>3</td>\n",
       "      <td>5</td>\n",
       "      <td>Was-/-</td>\n",
       "      <td>No</td>\n",
       "      <td>MUT</td>\n",
       "    </tr>\n",
       "  </tbody>\n",
       "</table>\n",
       "</div>"
      ],
      "text/plain": [
       "  SampleID       Date  Timepoint  Mouse ID Genotype Helicobacter genotype\n",
       "0       33 2014-10-29          3         1   Was-/-           No      MUT\n",
       "1       34 2014-10-29          3         2   Was-/-          Yes      MUT\n",
       "2       35 2014-10-29          3         3   Was-/-          Yes      MUT\n",
       "3       36 2014-10-29          3         4   Was-/-          Yes      MUT\n",
       "4       37 2014-10-29          3         5   Was-/-           No      MUT"
      ]
     },
     "execution_count": 165,
     "metadata": {},
     "output_type": "execute_result"
    }
   ],
   "source": [
    "meta['genotype'] = meta.Genotype.apply(lambda i: i if i == 'WT' else 'MUT')\n",
    "meta.head()"
   ]
  },
  {
   "cell_type": "markdown",
   "metadata": {},
   "source": [
    "### Pull time points into two DFs based on WT/MUT"
   ]
  },
  {
   "cell_type": "code",
   "execution_count": 166,
   "metadata": {
    "collapsed": false
   },
   "outputs": [
    {
     "data": {
      "text/plain": [
       "Timedelta('21 days 00:00:00')"
      ]
     },
     "execution_count": 166,
     "metadata": {},
     "output_type": "execute_result"
    }
   ],
   "source": [
    "week_delta* 3"
   ]
  },
  {
   "cell_type": "code",
   "execution_count": 167,
   "metadata": {
    "collapsed": true
   },
   "outputs": [],
   "source": [
    "week_delta = pd.Timedelta(1,'W')"
   ]
  },
  {
   "cell_type": "code",
   "execution_count": 168,
   "metadata": {
    "collapsed": false
   },
   "outputs": [
    {
     "data": {
      "text/plain": [
       "'D'"
      ]
     },
     "execution_count": 168,
     "metadata": {},
     "output_type": "execute_result"
    }
   ],
   "source": [
    "week_delta.resolution"
   ]
  },
  {
   "cell_type": "code",
   "execution_count": 169,
   "metadata": {
    "collapsed": false
   },
   "outputs": [],
   "source": [
    "wt = meta.query(\"\"\"genotype == 'WT' \"\"\").query(\"\"\" Timepoint >= 3 \"\"\").copy().sort_values('Date')\n",
    "mut = meta.query(\"\"\"genotype == 'MUT' \"\"\").copy().sort_values('Date')"
   ]
  },
  {
   "cell_type": "code",
   "execution_count": 170,
   "metadata": {
    "collapsed": false
   },
   "outputs": [],
   "source": [
    "wt['weeks'] = ((wt.Date - wt.Date.iloc[0] + (3 * week_delta)) / week_delta).round()\n",
    "mut['weeks'] = ((mut.Date - mut.Date.iloc[0] + (3 * week_delta)) / week_delta).round()"
   ]
  },
  {
   "cell_type": "code",
   "execution_count": 171,
   "metadata": {
    "collapsed": false
   },
   "outputs": [
    {
     "data": {
      "text/html": [
       "<div>\n",
       "<table border=\"1\" class=\"dataframe\">\n",
       "  <thead>\n",
       "    <tr style=\"text-align: right;\">\n",
       "      <th></th>\n",
       "      <th>SampleID</th>\n",
       "      <th>Date</th>\n",
       "      <th>Timepoint</th>\n",
       "      <th>Mouse ID</th>\n",
       "      <th>Genotype</th>\n",
       "      <th>Helicobacter</th>\n",
       "      <th>genotype</th>\n",
       "      <th>weeks</th>\n",
       "    </tr>\n",
       "  </thead>\n",
       "  <tbody>\n",
       "    <tr>\n",
       "      <th>0</th>\n",
       "      <td>33</td>\n",
       "      <td>2014-10-29</td>\n",
       "      <td>3</td>\n",
       "      <td>1</td>\n",
       "      <td>Was-/-</td>\n",
       "      <td>No</td>\n",
       "      <td>MUT</td>\n",
       "      <td>3</td>\n",
       "    </tr>\n",
       "    <tr>\n",
       "      <th>15</th>\n",
       "      <td>48</td>\n",
       "      <td>2014-10-29</td>\n",
       "      <td>3</td>\n",
       "      <td>16</td>\n",
       "      <td>Was-/-</td>\n",
       "      <td>Yes</td>\n",
       "      <td>MUT</td>\n",
       "      <td>3</td>\n",
       "    </tr>\n",
       "    <tr>\n",
       "      <th>14</th>\n",
       "      <td>47</td>\n",
       "      <td>2014-10-29</td>\n",
       "      <td>3</td>\n",
       "      <td>15</td>\n",
       "      <td>Was-/-</td>\n",
       "      <td>Yes</td>\n",
       "      <td>MUT</td>\n",
       "      <td>3</td>\n",
       "    </tr>\n",
       "    <tr>\n",
       "      <th>13</th>\n",
       "      <td>46</td>\n",
       "      <td>2014-10-29</td>\n",
       "      <td>3</td>\n",
       "      <td>14</td>\n",
       "      <td>Was-/-</td>\n",
       "      <td>Yes</td>\n",
       "      <td>MUT</td>\n",
       "      <td>3</td>\n",
       "    </tr>\n",
       "    <tr>\n",
       "      <th>12</th>\n",
       "      <td>45</td>\n",
       "      <td>2014-10-29</td>\n",
       "      <td>3</td>\n",
       "      <td>13</td>\n",
       "      <td>Was-/-</td>\n",
       "      <td>Yes</td>\n",
       "      <td>MUT</td>\n",
       "      <td>3</td>\n",
       "    </tr>\n",
       "  </tbody>\n",
       "</table>\n",
       "</div>"
      ],
      "text/plain": [
       "   SampleID       Date  Timepoint  Mouse ID Genotype Helicobacter genotype  \\\n",
       "0        33 2014-10-29          3         1   Was-/-           No      MUT   \n",
       "15       48 2014-10-29          3        16   Was-/-          Yes      MUT   \n",
       "14       47 2014-10-29          3        15   Was-/-          Yes      MUT   \n",
       "13       46 2014-10-29          3        14   Was-/-          Yes      MUT   \n",
       "12       45 2014-10-29          3        13   Was-/-          Yes      MUT   \n",
       "\n",
       "    weeks  \n",
       "0       3  \n",
       "15      3  \n",
       "14      3  \n",
       "13      3  \n",
       "12      3  "
      ]
     },
     "execution_count": 171,
     "metadata": {},
     "output_type": "execute_result"
    }
   ],
   "source": [
    "mut.head()"
   ]
  },
  {
   "cell_type": "code",
   "execution_count": 172,
   "metadata": {
    "collapsed": false
   },
   "outputs": [
    {
     "data": {
      "text/html": [
       "<div>\n",
       "<table border=\"1\" class=\"dataframe\">\n",
       "  <thead>\n",
       "    <tr style=\"text-align: right;\">\n",
       "      <th></th>\n",
       "      <th>SampleID</th>\n",
       "      <th>Date</th>\n",
       "      <th>Timepoint</th>\n",
       "      <th>Mouse ID</th>\n",
       "      <th>Genotype</th>\n",
       "      <th>Helicobacter</th>\n",
       "      <th>genotype</th>\n",
       "      <th>weeks</th>\n",
       "    </tr>\n",
       "  </thead>\n",
       "  <tbody>\n",
       "    <tr>\n",
       "      <th>214</th>\n",
       "      <td>249</td>\n",
       "      <td>2015-08-06</td>\n",
       "      <td>3</td>\n",
       "      <td>17</td>\n",
       "      <td>WT</td>\n",
       "      <td>No</td>\n",
       "      <td>WT</td>\n",
       "      <td>3</td>\n",
       "    </tr>\n",
       "    <tr>\n",
       "      <th>225</th>\n",
       "      <td>260</td>\n",
       "      <td>2015-08-06</td>\n",
       "      <td>3</td>\n",
       "      <td>28</td>\n",
       "      <td>WT</td>\n",
       "      <td>Yes</td>\n",
       "      <td>WT</td>\n",
       "      <td>3</td>\n",
       "    </tr>\n",
       "    <tr>\n",
       "      <th>224</th>\n",
       "      <td>259</td>\n",
       "      <td>2015-08-06</td>\n",
       "      <td>3</td>\n",
       "      <td>27</td>\n",
       "      <td>WT</td>\n",
       "      <td>Yes</td>\n",
       "      <td>WT</td>\n",
       "      <td>3</td>\n",
       "    </tr>\n",
       "    <tr>\n",
       "      <th>223</th>\n",
       "      <td>258</td>\n",
       "      <td>2015-08-06</td>\n",
       "      <td>3</td>\n",
       "      <td>26</td>\n",
       "      <td>WT</td>\n",
       "      <td>Yes</td>\n",
       "      <td>WT</td>\n",
       "      <td>3</td>\n",
       "    </tr>\n",
       "    <tr>\n",
       "      <th>221</th>\n",
       "      <td>256</td>\n",
       "      <td>2015-08-06</td>\n",
       "      <td>3</td>\n",
       "      <td>24</td>\n",
       "      <td>WT</td>\n",
       "      <td>Yes</td>\n",
       "      <td>WT</td>\n",
       "      <td>3</td>\n",
       "    </tr>\n",
       "  </tbody>\n",
       "</table>\n",
       "</div>"
      ],
      "text/plain": [
       "    SampleID       Date  Timepoint  Mouse ID Genotype Helicobacter genotype  \\\n",
       "214      249 2015-08-06          3        17       WT           No       WT   \n",
       "225      260 2015-08-06          3        28       WT          Yes       WT   \n",
       "224      259 2015-08-06          3        27       WT          Yes       WT   \n",
       "223      258 2015-08-06          3        26       WT          Yes       WT   \n",
       "221      256 2015-08-06          3        24       WT          Yes       WT   \n",
       "\n",
       "     weeks  \n",
       "214      3  \n",
       "225      3  \n",
       "224      3  \n",
       "223      3  \n",
       "221      3  "
      ]
     },
     "execution_count": 172,
     "metadata": {},
     "output_type": "execute_result"
    }
   ],
   "source": [
    "wt.head()"
   ]
  },
  {
   "cell_type": "markdown",
   "metadata": {},
   "source": [
    "### How many time points do we have with MATCHING week numbers?"
   ]
  },
  {
   "cell_type": "code",
   "execution_count": 173,
   "metadata": {
    "collapsed": false
   },
   "outputs": [],
   "source": [
    "common_week_data = list(set(wt.weeks).intersection(set(mut.weeks)))"
   ]
  },
  {
   "cell_type": "code",
   "execution_count": 174,
   "metadata": {
    "collapsed": false
   },
   "outputs": [
    {
     "data": {
      "text/plain": [
       "12"
      ]
     },
     "execution_count": 174,
     "metadata": {},
     "output_type": "execute_result"
    }
   ],
   "source": [
    "len(common_week_data)"
   ]
  },
  {
   "cell_type": "code",
   "execution_count": 175,
   "metadata": {
    "collapsed": false
   },
   "outputs": [
    {
     "data": {
      "text/plain": [
       "[3.0, 6.0, 7.0, 8.0, 9.0, 10.0, 11.0, 12.0, 13.0, 14.0, 15.0, 16.0]"
      ]
     },
     "execution_count": 175,
     "metadata": {},
     "output_type": "execute_result"
    }
   ],
   "source": [
    "common_week_data"
   ]
  },
  {
   "cell_type": "markdown",
   "metadata": {},
   "source": [
    "### Only use data from `mut` and `wt` that have matching week data"
   ]
  },
  {
   "cell_type": "code",
   "execution_count": 176,
   "metadata": {
    "collapsed": false
   },
   "outputs": [],
   "source": [
    "mut_common = mut.query(\"\"\" weeks in {common_week_data} \"\"\".format(common_week_data=common_week_data)).copy()\n",
    "wt_common = wt.query(\"\"\" weeks in {common_week_data} \"\"\".format(common_week_data=common_week_data)).copy()"
   ]
  },
  {
   "cell_type": "markdown",
   "metadata": {},
   "source": [
    "### Bring common weeks back into single metadata table"
   ]
  },
  {
   "cell_type": "code",
   "execution_count": 194,
   "metadata": {
    "collapsed": false
   },
   "outputs": [],
   "source": [
    "# ALSO: we get rid of columns we dont need here\n",
    "meta_common = pd.concat([mut_common,wt_common]).drop(['Timepoint','Date','Genotype'], axis=1)"
   ]
  },
  {
   "cell_type": "markdown",
   "metadata": {},
   "source": [
    "# Join meta data"
   ]
  },
  {
   "cell_type": "code",
   "execution_count": 195,
   "metadata": {
    "collapsed": false
   },
   "outputs": [],
   "source": [
    "meta_common_i = meta_common.set_index('SampleID')\n",
    "full_table = meta_common_i.join(otu_scaled.T)"
   ]
  },
  {
   "cell_type": "code",
   "execution_count": 196,
   "metadata": {
    "collapsed": false
   },
   "outputs": [
    {
     "data": {
      "text/html": [
       "<div>\n",
       "<table border=\"1\" class=\"dataframe\">\n",
       "  <thead>\n",
       "    <tr style=\"text-align: right;\">\n",
       "      <th></th>\n",
       "      <th>Mouse ID</th>\n",
       "      <th>Helicobacter</th>\n",
       "      <th>genotype</th>\n",
       "      <th>weeks</th>\n",
       "      <th>k__Bacteria;p__Actinobacteria;c__Acidimicrobiia;o__Acidimicrobiales;f__;g__;s__</th>\n",
       "      <th>k__Bacteria;p__Actinobacteria;c__Actinobacteria;o__Actinomycetales;f__Corynebacteriaceae;g__Corynebacterium;s__</th>\n",
       "      <th>k__Bacteria;p__Actinobacteria;c__Actinobacteria;o__Actinomycetales;f__Microbacteriaceae;g__;s__</th>\n",
       "      <th>k__Bacteria;p__Actinobacteria;c__Actinobacteria;o__Actinomycetales;f__Propionibacteriaceae;g__Propionibacterium;s__acnes</th>\n",
       "      <th>k__Bacteria;p__Actinobacteria;c__Actinobacteria;o__Actinomycetales;f__Streptomycetaceae;g__Streptomyces;s__</th>\n",
       "      <th>k__Bacteria;p__Bacteroidetes;c__Bacteroidia;o__Bacteroidales;f__Bacteroidaceae;g__Bacteroides;s__</th>\n",
       "      <th>...</th>\n",
       "      <th>k__Bacteria;p__Proteobacteria;c__Epsilonproteobacteria;o__Campylobacterales;f__Helicobacteraceae;g__Helicobacter;s__</th>\n",
       "      <th>k__Bacteria;p__Proteobacteria;c__Gammaproteobacteria;o__Enterobacteriales;f__Enterobacteriaceae;g__;s__</th>\n",
       "      <th>k__Bacteria;p__Proteobacteria;c__Gammaproteobacteria;o__Oceanospirillales;f__Halomonadaceae;g__Halomonas;s__pacifica</th>\n",
       "      <th>k__Bacteria;p__Proteobacteria;c__Gammaproteobacteria;o__Pasteurellales;f__Pasteurellaceae;g__;s__</th>\n",
       "      <th>k__Bacteria;p__Proteobacteria;c__Gammaproteobacteria;o__Pasteurellales;f__Pasteurellaceae;g__Haemophilus;s__parainfluenzae</th>\n",
       "      <th>k__Bacteria;p__Proteobacteria;c__Gammaproteobacteria;o__Pseudomonadales;f__Moraxellaceae;g__;s__</th>\n",
       "      <th>k__Bacteria;p__Proteobacteria;c__Gammaproteobacteria;o__Pseudomonadales;f__Moraxellaceae;g__Acinetobacter;s__</th>\n",
       "      <th>k__Bacteria;p__Proteobacteria;c__Gammaproteobacteria;o__Pseudomonadales;f__Pseudomonadaceae;g__;s__</th>\n",
       "      <th>k__Bacteria;p__Proteobacteria;c__Gammaproteobacteria;o__Pseudomonadales;f__Pseudomonadaceae;g__Pseudomonas;s__</th>\n",
       "      <th>k__Bacteria;p__Proteobacteria;c__Gammaproteobacteria;o__Xanthomonadales;f__Xanthomonadaceae;g__;s__</th>\n",
       "    </tr>\n",
       "    <tr>\n",
       "      <th>SampleID</th>\n",
       "      <th></th>\n",
       "      <th></th>\n",
       "      <th></th>\n",
       "      <th></th>\n",
       "      <th></th>\n",
       "      <th></th>\n",
       "      <th></th>\n",
       "      <th></th>\n",
       "      <th></th>\n",
       "      <th></th>\n",
       "      <th></th>\n",
       "      <th></th>\n",
       "      <th></th>\n",
       "      <th></th>\n",
       "      <th></th>\n",
       "      <th></th>\n",
       "      <th></th>\n",
       "      <th></th>\n",
       "      <th></th>\n",
       "      <th></th>\n",
       "      <th></th>\n",
       "    </tr>\n",
       "  </thead>\n",
       "  <tbody>\n",
       "    <tr>\n",
       "      <th>33</th>\n",
       "      <td>1</td>\n",
       "      <td>No</td>\n",
       "      <td>MUT</td>\n",
       "      <td>3</td>\n",
       "      <td>-0.05164</td>\n",
       "      <td>-0.073125</td>\n",
       "      <td>-0.05164</td>\n",
       "      <td>-0.05164</td>\n",
       "      <td>-0.05164</td>\n",
       "      <td>-0.05164</td>\n",
       "      <td>...</td>\n",
       "      <td>-0.478886</td>\n",
       "      <td>-0.057719</td>\n",
       "      <td>-0.05164</td>\n",
       "      <td>-0.05164</td>\n",
       "      <td>-0.071295</td>\n",
       "      <td>-0.05164</td>\n",
       "      <td>-0.063621</td>\n",
       "      <td>-0.05164</td>\n",
       "      <td>-0.068713</td>\n",
       "      <td>-0.103745</td>\n",
       "    </tr>\n",
       "    <tr>\n",
       "      <th>48</th>\n",
       "      <td>16</td>\n",
       "      <td>Yes</td>\n",
       "      <td>MUT</td>\n",
       "      <td>3</td>\n",
       "      <td>-0.05164</td>\n",
       "      <td>-0.073125</td>\n",
       "      <td>-0.05164</td>\n",
       "      <td>-0.05164</td>\n",
       "      <td>-0.05164</td>\n",
       "      <td>-0.05164</td>\n",
       "      <td>...</td>\n",
       "      <td>-0.478886</td>\n",
       "      <td>-0.057719</td>\n",
       "      <td>-0.05164</td>\n",
       "      <td>-0.05164</td>\n",
       "      <td>-0.071295</td>\n",
       "      <td>-0.05164</td>\n",
       "      <td>-0.063621</td>\n",
       "      <td>-0.05164</td>\n",
       "      <td>-0.068713</td>\n",
       "      <td>-0.103745</td>\n",
       "    </tr>\n",
       "    <tr>\n",
       "      <th>47</th>\n",
       "      <td>15</td>\n",
       "      <td>Yes</td>\n",
       "      <td>MUT</td>\n",
       "      <td>3</td>\n",
       "      <td>-0.05164</td>\n",
       "      <td>-0.073125</td>\n",
       "      <td>-0.05164</td>\n",
       "      <td>-0.05164</td>\n",
       "      <td>-0.05164</td>\n",
       "      <td>-0.05164</td>\n",
       "      <td>...</td>\n",
       "      <td>-0.478886</td>\n",
       "      <td>-0.057719</td>\n",
       "      <td>-0.05164</td>\n",
       "      <td>-0.05164</td>\n",
       "      <td>-0.071295</td>\n",
       "      <td>-0.05164</td>\n",
       "      <td>-0.063621</td>\n",
       "      <td>-0.05164</td>\n",
       "      <td>-0.068713</td>\n",
       "      <td>-0.103745</td>\n",
       "    </tr>\n",
       "    <tr>\n",
       "      <th>46</th>\n",
       "      <td>14</td>\n",
       "      <td>Yes</td>\n",
       "      <td>MUT</td>\n",
       "      <td>3</td>\n",
       "      <td>-0.05164</td>\n",
       "      <td>-0.073125</td>\n",
       "      <td>-0.05164</td>\n",
       "      <td>-0.05164</td>\n",
       "      <td>-0.05164</td>\n",
       "      <td>-0.05164</td>\n",
       "      <td>...</td>\n",
       "      <td>-0.478886</td>\n",
       "      <td>-0.057719</td>\n",
       "      <td>-0.05164</td>\n",
       "      <td>-0.05164</td>\n",
       "      <td>-0.071295</td>\n",
       "      <td>-0.05164</td>\n",
       "      <td>-0.063621</td>\n",
       "      <td>-0.05164</td>\n",
       "      <td>-0.068713</td>\n",
       "      <td>-0.103745</td>\n",
       "    </tr>\n",
       "    <tr>\n",
       "      <th>45</th>\n",
       "      <td>13</td>\n",
       "      <td>Yes</td>\n",
       "      <td>MUT</td>\n",
       "      <td>3</td>\n",
       "      <td>-0.05164</td>\n",
       "      <td>-0.073125</td>\n",
       "      <td>-0.05164</td>\n",
       "      <td>-0.05164</td>\n",
       "      <td>-0.05164</td>\n",
       "      <td>-0.05164</td>\n",
       "      <td>...</td>\n",
       "      <td>-0.478886</td>\n",
       "      <td>-0.057719</td>\n",
       "      <td>-0.05164</td>\n",
       "      <td>-0.05164</td>\n",
       "      <td>-0.071295</td>\n",
       "      <td>-0.05164</td>\n",
       "      <td>-0.063621</td>\n",
       "      <td>-0.05164</td>\n",
       "      <td>-0.068713</td>\n",
       "      <td>-0.103745</td>\n",
       "    </tr>\n",
       "  </tbody>\n",
       "</table>\n",
       "<p>5 rows × 83 columns</p>\n",
       "</div>"
      ],
      "text/plain": [
       "          Mouse ID Helicobacter genotype  weeks  \\\n",
       "SampleID                                          \n",
       "33               1           No      MUT      3   \n",
       "48              16          Yes      MUT      3   \n",
       "47              15          Yes      MUT      3   \n",
       "46              14          Yes      MUT      3   \n",
       "45              13          Yes      MUT      3   \n",
       "\n",
       "          k__Bacteria;p__Actinobacteria;c__Acidimicrobiia;o__Acidimicrobiales;f__;g__;s__  \\\n",
       "SampleID                                                                                    \n",
       "33                                                 -0.05164                                 \n",
       "48                                                 -0.05164                                 \n",
       "47                                                 -0.05164                                 \n",
       "46                                                 -0.05164                                 \n",
       "45                                                 -0.05164                                 \n",
       "\n",
       "          k__Bacteria;p__Actinobacteria;c__Actinobacteria;o__Actinomycetales;f__Corynebacteriaceae;g__Corynebacterium;s__  \\\n",
       "SampleID                                                                                                                    \n",
       "33                                                -0.073125                                                                 \n",
       "48                                                -0.073125                                                                 \n",
       "47                                                -0.073125                                                                 \n",
       "46                                                -0.073125                                                                 \n",
       "45                                                -0.073125                                                                 \n",
       "\n",
       "          k__Bacteria;p__Actinobacteria;c__Actinobacteria;o__Actinomycetales;f__Microbacteriaceae;g__;s__  \\\n",
       "SampleID                                                                                                    \n",
       "33                                                 -0.05164                                                 \n",
       "48                                                 -0.05164                                                 \n",
       "47                                                 -0.05164                                                 \n",
       "46                                                 -0.05164                                                 \n",
       "45                                                 -0.05164                                                 \n",
       "\n",
       "          k__Bacteria;p__Actinobacteria;c__Actinobacteria;o__Actinomycetales;f__Propionibacteriaceae;g__Propionibacterium;s__acnes  \\\n",
       "SampleID                                                                                                                             \n",
       "33                                                 -0.05164                                                                          \n",
       "48                                                 -0.05164                                                                          \n",
       "47                                                 -0.05164                                                                          \n",
       "46                                                 -0.05164                                                                          \n",
       "45                                                 -0.05164                                                                          \n",
       "\n",
       "          k__Bacteria;p__Actinobacteria;c__Actinobacteria;o__Actinomycetales;f__Streptomycetaceae;g__Streptomyces;s__  \\\n",
       "SampleID                                                                                                                \n",
       "33                                                 -0.05164                                                             \n",
       "48                                                 -0.05164                                                             \n",
       "47                                                 -0.05164                                                             \n",
       "46                                                 -0.05164                                                             \n",
       "45                                                 -0.05164                                                             \n",
       "\n",
       "          k__Bacteria;p__Bacteroidetes;c__Bacteroidia;o__Bacteroidales;f__Bacteroidaceae;g__Bacteroides;s__  \\\n",
       "SampleID                                                                                                      \n",
       "33                                                 -0.05164                                                   \n",
       "48                                                 -0.05164                                                   \n",
       "47                                                 -0.05164                                                   \n",
       "46                                                 -0.05164                                                   \n",
       "45                                                 -0.05164                                                   \n",
       "\n",
       "                                                         ...                                                   \\\n",
       "SampleID                                                 ...                                                    \n",
       "33                                                       ...                                                    \n",
       "48                                                       ...                                                    \n",
       "47                                                       ...                                                    \n",
       "46                                                       ...                                                    \n",
       "45                                                       ...                                                    \n",
       "\n",
       "          k__Bacteria;p__Proteobacteria;c__Epsilonproteobacteria;o__Campylobacterales;f__Helicobacteraceae;g__Helicobacter;s__  \\\n",
       "SampleID                                                                                                                         \n",
       "33                                                -0.478886                                                                      \n",
       "48                                                -0.478886                                                                      \n",
       "47                                                -0.478886                                                                      \n",
       "46                                                -0.478886                                                                      \n",
       "45                                                -0.478886                                                                      \n",
       "\n",
       "          k__Bacteria;p__Proteobacteria;c__Gammaproteobacteria;o__Enterobacteriales;f__Enterobacteriaceae;g__;s__  \\\n",
       "SampleID                                                                                                            \n",
       "33                                                -0.057719                                                         \n",
       "48                                                -0.057719                                                         \n",
       "47                                                -0.057719                                                         \n",
       "46                                                -0.057719                                                         \n",
       "45                                                -0.057719                                                         \n",
       "\n",
       "          k__Bacteria;p__Proteobacteria;c__Gammaproteobacteria;o__Oceanospirillales;f__Halomonadaceae;g__Halomonas;s__pacifica  \\\n",
       "SampleID                                                                                                                         \n",
       "33                                                 -0.05164                                                                      \n",
       "48                                                 -0.05164                                                                      \n",
       "47                                                 -0.05164                                                                      \n",
       "46                                                 -0.05164                                                                      \n",
       "45                                                 -0.05164                                                                      \n",
       "\n",
       "          k__Bacteria;p__Proteobacteria;c__Gammaproteobacteria;o__Pasteurellales;f__Pasteurellaceae;g__;s__  \\\n",
       "SampleID                                                                                                      \n",
       "33                                                 -0.05164                                                   \n",
       "48                                                 -0.05164                                                   \n",
       "47                                                 -0.05164                                                   \n",
       "46                                                 -0.05164                                                   \n",
       "45                                                 -0.05164                                                   \n",
       "\n",
       "          k__Bacteria;p__Proteobacteria;c__Gammaproteobacteria;o__Pasteurellales;f__Pasteurellaceae;g__Haemophilus;s__parainfluenzae  \\\n",
       "SampleID                                                                                                                               \n",
       "33                                                -0.071295                                                                            \n",
       "48                                                -0.071295                                                                            \n",
       "47                                                -0.071295                                                                            \n",
       "46                                                -0.071295                                                                            \n",
       "45                                                -0.071295                                                                            \n",
       "\n",
       "          k__Bacteria;p__Proteobacteria;c__Gammaproteobacteria;o__Pseudomonadales;f__Moraxellaceae;g__;s__  \\\n",
       "SampleID                                                                                                     \n",
       "33                                                 -0.05164                                                  \n",
       "48                                                 -0.05164                                                  \n",
       "47                                                 -0.05164                                                  \n",
       "46                                                 -0.05164                                                  \n",
       "45                                                 -0.05164                                                  \n",
       "\n",
       "          k__Bacteria;p__Proteobacteria;c__Gammaproteobacteria;o__Pseudomonadales;f__Moraxellaceae;g__Acinetobacter;s__  \\\n",
       "SampleID                                                                                                                  \n",
       "33                                                -0.063621                                                               \n",
       "48                                                -0.063621                                                               \n",
       "47                                                -0.063621                                                               \n",
       "46                                                -0.063621                                                               \n",
       "45                                                -0.063621                                                               \n",
       "\n",
       "          k__Bacteria;p__Proteobacteria;c__Gammaproteobacteria;o__Pseudomonadales;f__Pseudomonadaceae;g__;s__  \\\n",
       "SampleID                                                                                                        \n",
       "33                                                 -0.05164                                                     \n",
       "48                                                 -0.05164                                                     \n",
       "47                                                 -0.05164                                                     \n",
       "46                                                 -0.05164                                                     \n",
       "45                                                 -0.05164                                                     \n",
       "\n",
       "          k__Bacteria;p__Proteobacteria;c__Gammaproteobacteria;o__Pseudomonadales;f__Pseudomonadaceae;g__Pseudomonas;s__  \\\n",
       "SampleID                                                                                                                   \n",
       "33                                                -0.068713                                                                \n",
       "48                                                -0.068713                                                                \n",
       "47                                                -0.068713                                                                \n",
       "46                                                -0.068713                                                                \n",
       "45                                                -0.068713                                                                \n",
       "\n",
       "          k__Bacteria;p__Proteobacteria;c__Gammaproteobacteria;o__Xanthomonadales;f__Xanthomonadaceae;g__;s__  \n",
       "SampleID                                                                                                       \n",
       "33                                                -0.103745                                                    \n",
       "48                                                -0.103745                                                    \n",
       "47                                                -0.103745                                                    \n",
       "46                                                -0.103745                                                    \n",
       "45                                                -0.103745                                                    \n",
       "\n",
       "[5 rows x 83 columns]"
      ]
     },
     "execution_count": 196,
     "metadata": {},
     "output_type": "execute_result"
    }
   ],
   "source": [
    "full_table.head()"
   ]
  },
  {
   "cell_type": "markdown",
   "metadata": {},
   "source": [
    "### Rearrange datatable so that we have each mouse represented as a single row"
   ]
  },
  {
   "cell_type": "code",
   "execution_count": 204,
   "metadata": {
    "collapsed": false
   },
   "outputs": [
    {
     "data": {
      "text/plain": [
       "count     317\n",
       "unique     28\n",
       "top         8\n",
       "freq       12\n",
       "Name: Mouse ID, dtype: object"
      ]
     },
     "execution_count": 204,
     "metadata": {},
     "output_type": "execute_result"
    }
   ],
   "source": [
    "full_table['Mouse ID'].astype(str).describe()"
   ]
  },
  {
   "cell_type": "code",
   "execution_count": null,
   "metadata": {
    "collapsed": true
   },
   "outputs": [],
   "source": [
    "full_table.pivoat_table()"
   ]
  },
  {
   "cell_type": "code",
   "execution_count": null,
   "metadata": {
    "collapsed": true
   },
   "outputs": [],
   "source": [
    "otu_by_mouse = full_table.groupby(\"Mouse ID\")"
   ]
  },
  {
   "cell_type": "code",
   "execution_count": null,
   "metadata": {
    "collapsed": false
   },
   "outputs": [],
   "source": [
    "otu_by_mouse.get_group(3)"
   ]
  },
  {
   "cell_type": "markdown",
   "metadata": {},
   "source": [
    "# Encode 'y' (labels)"
   ]
  },
  {
   "cell_type": "code",
   "execution_count": null,
   "metadata": {
    "collapsed": true
   },
   "outputs": [],
   "source": [
    "y_geno_any_mut = full_table['genotype']\n",
    "y_geno_spc_mut = full_table['Genotype1']\n",
    "geno_encoder = ppro.LabelEncoder()\n",
    "y_geno_encoded_any = geno_encoder.fit_transform(y_geno_any_mut)\n",
    "y_geno_encoded_spc = geno_encoder.fit_transform(y_geno_spc_mut)"
   ]
  },
  {
   "cell_type": "markdown",
   "metadata": {},
   "source": [
    "# Encode 'X' (data)"
   ]
  },
  {
   "cell_type": "markdown",
   "metadata": {},
   "source": [
    "## Combine (or not) the categorical and numerical data types for X"
   ]
  },
  {
   "cell_type": "code",
   "execution_count": null,
   "metadata": {
    "collapsed": false
   },
   "outputs": [],
   "source": [
    "X_cols_cat = list(full_table.columns[[2,7]].values)\n",
    "X_cols_num = list(full_table.columns[10:])"
   ]
  },
  {
   "cell_type": "code",
   "execution_count": null,
   "metadata": {
    "collapsed": false
   },
   "outputs": [],
   "source": [
    "# X_cols_num"
   ]
  },
  {
   "cell_type": "code",
   "execution_count": null,
   "metadata": {
    "collapsed": true
   },
   "outputs": [],
   "source": [
    "# make the dummy variable columns for the original categorical data columns\n",
    "# HOPEFULLY we dont run into colinearity issues\n",
    "X_data_cat = pd.get_dummies(full_table[X_cols_cat].astype(str))"
   ]
  },
  {
   "cell_type": "code",
   "execution_count": null,
   "metadata": {
    "collapsed": false
   },
   "outputs": [],
   "source": [
    "X_data_cat"
   ]
  },
  {
   "cell_type": "code",
   "execution_count": null,
   "metadata": {
    "collapsed": false
   },
   "outputs": [],
   "source": [
    "# To avoid colinearity we remove one column from each class of categorical \n",
    "X_data_cat = X_data_cat[['Gender_F', 'Cage_943947', 'Cage_943948']]\n",
    "X_data_cat"
   ]
  },
  {
   "cell_type": "code",
   "execution_count": null,
   "metadata": {
    "collapsed": false
   },
   "outputs": [],
   "source": [
    "# put all data columns together\n",
    "X = pd.concat([X_data_cat,full_table[X_cols_num]],axis=1) # Accounting for Cages and Sex\n",
    "# X = full_table[X_cols_num] # IGNORING Cages and Sex"
   ]
  },
  {
   "cell_type": "code",
   "execution_count": null,
   "metadata": {
    "collapsed": false
   },
   "outputs": [],
   "source": [
    "X.head()"
   ]
  },
  {
   "cell_type": "code",
   "execution_count": null,
   "metadata": {
    "collapsed": false
   },
   "outputs": [],
   "source": [
    "# pca = PCA(n_components=2, whiten=False)\n",
    "pca = RandomizedPCA(n_components=2, whiten=False)\n",
    "\n",
    "\n",
    "pca_t = pca.fit_transform(X,y_geno_encoded_spc)\n",
    "top_n_comp = 2\n",
    "print('explained_variance_ratio_ of top {num}: {val}'.format(num=top_n_comp,val=pca.explained_variance_ratio_[:top_n_comp].sum()))\n",
    "\n",
    "pca_t_l = pandas_helpers.repandasify(array=pca_t, y_names=geno_encoder.inverse_transform(y_geno_encoded_spc), X_names=['PC {v_}'.format(v_=v+1) for v in range(len(pca_t[0]))])\n",
    "print(pca_t_l)"
   ]
  },
  {
   "cell_type": "code",
   "execution_count": null,
   "metadata": {
    "collapsed": false
   },
   "outputs": [],
   "source": [
    "pca_t_l = pandas_helpers.repandasify(array=pca_t, y_names=geno_encoder.inverse_transform(y_geno_encoded_spc), X_names=['PC {v_}'.format(v_=v+1) for v in range(len(pca_t[0]))])\n",
    "\n",
    "pca_t_l['geno'] = pca_t_l.index.values\n",
    "pca_t_l = pca_t_l.reset_index(drop=True)\n",
    "pca_t_l['Cage'] = full_table.Cage.astype(str)\n",
    "pca_t_l['Sex'] = full_table.Gender\n",
    "pca_t_l['Specific Genotype'] = full_table.Genotype1\n",
    "# pca_t_l"
   ]
  },
  {
   "cell_type": "code",
   "execution_count": null,
   "metadata": {
    "collapsed": false
   },
   "outputs": [],
   "source": [
    "with sns.color_palette(sns.color_palette(\"hls\", 2)):\n",
    "    with sns.axes_style(\"white\"):\n",
    "        sns.lmplot(x='PC 1', y='PC 2', data=pca_t_l.append(pca_t_l.iloc[9,:]), #sns.lmplot(x='PC 1', y='PC 2', data=pca_t_l,\n",
    "                   hue='Specific Genotype', palette=None,\n",
    "                   fit_reg=False,\n",
    "                   scatter_kws={'alpha':0.7}\n",
    "                  );"
   ]
  },
  {
   "cell_type": "markdown",
   "metadata": {},
   "source": [
    "# Feature Selection"
   ]
  },
  {
   "cell_type": "markdown",
   "metadata": {},
   "source": [
    "## LogisticRegression method\n",
    "\n",
    "- ran this a couple times manually and got varying numbers of features retained\n",
    "- I decided to \n",
    "    - run it 100 times\n",
    "    - count how frequently each feature is retained\n",
    "    - keep the top X number of them"
   ]
  },
  {
   "cell_type": "code",
   "execution_count": null,
   "metadata": {
    "collapsed": false
   },
   "outputs": [],
   "source": [
    "rlgrg = RandomizedLogisticRegression(C=1, scaling=0.5, \n",
    "                                      sample_fraction=0.70, n_resampling=200, \n",
    "                                      verbose=False, normalize=False, \n",
    "                                      random_state=None, n_jobs=1, )\n",
    "# rlgrg.fit(X_, y_)\n",
    " \n",
    "\n"
   ]
  },
  {
   "cell_type": "code",
   "execution_count": null,
   "metadata": {
    "collapsed": false
   },
   "outputs": [],
   "source": [
    "itr = 20\n",
    "f_sel_db = feature_selection.consensus_top10pct_feature_selection(X=X, y=y_geno_encoded_spc,\n",
    "                                                      clf=rlgrg, names=None, iters=itr)"
   ]
  },
  {
   "cell_type": "code",
   "execution_count": null,
   "metadata": {
    "collapsed": false
   },
   "outputs": [],
   "source": [
    "len(f_sel_db)"
   ]
  },
  {
   "cell_type": "code",
   "execution_count": null,
   "metadata": {
    "collapsed": false
   },
   "outputs": [],
   "source": [
    "sns.distplot([len(l) for l in f_sel_db.values()], kde=False)\n",
    "plt.xlabel('number of times an OTU was retained');"
   ]
  },
  {
   "cell_type": "markdown",
   "metadata": {},
   "source": [
    "### Look at the OTUs that were retained at least X times"
   ]
  },
  {
   "cell_type": "code",
   "execution_count": null,
   "metadata": {
    "collapsed": false
   },
   "outputs": [],
   "source": [
    "my_otus = feature_selection.process_retained_features(retained=f_sel_db, iters=itr)\n",
    "my_otus.head()"
   ]
  },
  {
   "cell_type": "code",
   "execution_count": null,
   "metadata": {
    "collapsed": false
   },
   "outputs": [],
   "source": [
    "my_otus.tail()"
   ]
  },
  {
   "cell_type": "code",
   "execution_count": null,
   "metadata": {
    "collapsed": false
   },
   "outputs": [],
   "source": [
    "my_otus_ = my_otus.sort_values(by='avg_score', axis=0, ascending=False).query(\"\"\"retention_rate > 0.75 \"\"\")\n",
    "my_otus_ = my_otus_.query(\"\"\"avg_score > 0.01 \"\"\")\n",
    "my_otus_.shape"
   ]
  },
  {
   "cell_type": "code",
   "execution_count": null,
   "metadata": {
    "collapsed": false
   },
   "outputs": [],
   "source": [
    "my_otus_.head()"
   ]
  },
  {
   "cell_type": "code",
   "execution_count": null,
   "metadata": {
    "collapsed": false
   },
   "outputs": [],
   "source": [
    "my_otus_.tail()"
   ]
  },
  {
   "cell_type": "code",
   "execution_count": null,
   "metadata": {
    "collapsed": false
   },
   "outputs": [],
   "source": [
    "X_best = X[my_otus_.feature_names.values]\n",
    "X_best.shape"
   ]
  },
  {
   "cell_type": "code",
   "execution_count": null,
   "metadata": {
    "collapsed": false
   },
   "outputs": [],
   "source": [
    "top_n_sorted_features = 10\n",
    "\n",
    "# pca = PCA(n_components=2, whiten=False)\n",
    "pca = RandomizedPCA(n_components=2, whiten=False)\n",
    "\n",
    "pca_t = pca.fit_transform(X_best.iloc[:,:top_n_sorted_features],y_geno_encoded_spc)\n",
    "top_n_comp = 2\n",
    "print('explained_variance_ratio_ of top {num}: {val}'.format(num=top_n_comp,val=pca.explained_variance_ratio_[:top_n_comp].sum()))\n",
    "\n",
    "pca_t_l = pandas_helpers.repandasify(array=pca_t, y_names=geno_encoder.inverse_transform(y_geno_encoded_spc), X_names=['PC {v_}'.format(v_=v+1) for v in range(len(pca_t[0]))])\n",
    "print(pca_t_l)"
   ]
  },
  {
   "cell_type": "code",
   "execution_count": null,
   "metadata": {
    "collapsed": false
   },
   "outputs": [],
   "source": [
    "pca_t_l = pandas_helpers.repandasify(array=pca_t, y_names=geno_encoder.inverse_transform(y_geno_encoded_spc), X_names=['PC {v_}'.format(v_=v+1) for v in range(len(pca_t[0]))])\n",
    "\n",
    "pca_t_l['geno'] = pca_t_l.index.values\n",
    "pca_t_l = pca_t_l.reset_index(drop=True)\n",
    "pca_t_l['Cage'] = full_table.Cage.astype(str)\n",
    "pca_t_l['Sex'] = full_table.Gender\n",
    "pca_t_l['Specific Genotype'] = full_table.Genotype1\n",
    "# pca_t_l"
   ]
  },
  {
   "cell_type": "code",
   "execution_count": null,
   "metadata": {
    "collapsed": true
   },
   "outputs": [],
   "source": [
    "plot_alpha = 0.7"
   ]
  },
  {
   "cell_type": "code",
   "execution_count": null,
   "metadata": {
    "collapsed": false
   },
   "outputs": [],
   "source": [
    "with sns.color_palette(sns.color_palette(\"hls\", 3)):\n",
    "    with sns.axes_style(\"white\"):\n",
    "        sns.lmplot(x='PC 1', y='PC 2', data=pca_t_l.append(pca_t_l.iloc[9,:]), #sns.lmplot(x='PC 1', y='PC 2', data=pca_t_l,\n",
    "                   hue='Specific Genotype', palette=None,\n",
    "                   fit_reg=False,\n",
    "                   scatter_kws={'alpha':plot_alpha}\n",
    "                  );"
   ]
  },
  {
   "cell_type": "markdown",
   "metadata": {},
   "source": [
    "# Write top 10 OTUs to file for Amy"
   ]
  },
  {
   "cell_type": "code",
   "execution_count": null,
   "metadata": {
    "collapsed": true
   },
   "outputs": [],
   "source": [
    "out_path = \"/home/gus/MEGAsync/zim/main/BCH/Projects/Amy/2016-01-07_~_16s_data/top_10_OTUs_3_genotypes.xls\""
   ]
  },
  {
   "cell_type": "code",
   "execution_count": null,
   "metadata": {
    "collapsed": false
   },
   "outputs": [],
   "source": [
    "top_10 = my_otus_0_001.iloc[:10,:]\n",
    "# top_10.to_excel(out_path,index=False,)"
   ]
  },
  {
   "cell_type": "markdown",
   "metadata": {
    "collapsed": true
   },
   "source": [
    "# Test crossvalidation results and preditions on reduced data"
   ]
  },
  {
   "cell_type": "code",
   "execution_count": null,
   "metadata": {
    "collapsed": false
   },
   "outputs": [],
   "source": [
    "X_reduced = X[top_10.feature_names.values.astype(str)]"
   ]
  },
  {
   "cell_type": "code",
   "execution_count": null,
   "metadata": {
    "collapsed": false
   },
   "outputs": [],
   "source": [
    "X_reduced"
   ]
  },
  {
   "cell_type": "markdown",
   "metadata": {},
   "source": [
    "## split data into training and testing"
   ]
  },
  {
   "cell_type": "code",
   "execution_count": null,
   "metadata": {
    "collapsed": true
   },
   "outputs": [],
   "source": [
    "X_train, X_test, y_train, y_test = train_test_split(X_reduced, y_geno_encoded_spc,\n",
    "                                                    test_size=0.33, random_state=42,\n",
    "                                                   )"
   ]
  },
  {
   "cell_type": "code",
   "execution_count": null,
   "metadata": {
    "collapsed": false
   },
   "outputs": [],
   "source": [
    "y_geno_encoded_spc"
   ]
  },
  {
   "cell_type": "code",
   "execution_count": null,
   "metadata": {
    "collapsed": false
   },
   "outputs": [],
   "source": [
    "X_reduced"
   ]
  },
  {
   "cell_type": "markdown",
   "metadata": {},
   "source": [
    "## SVM classifier"
   ]
  },
  {
   "cell_type": "code",
   "execution_count": null,
   "metadata": {
    "collapsed": false
   },
   "outputs": [],
   "source": [
    "svc_param_grid = {'svc__C': 10. ** np.arange(-3, 3),\n",
    "                  'svc__gamma': 10. ** np.arange(-3, 3)\n",
    "                 }\n",
    "\n",
    "\n",
    "\n",
    "svc_pipe = make_pipeline(SVC(kernel='linear', random_state=42))\n",
    "\n",
    "# run the gridsearch to tune the hyper-parameters\n",
    "svc_grid = GridSearchCV(svc_pipe, param_grid=svc_param_grid, cv=3)\n",
    "\n",
    "svc_grid.fit(X_train, y_train)\n",
    "print(svc_grid.best_params_)\n",
    "\n",
    "\n",
    "# generate and plot confusion matrices\n",
    "svc_cm = confusion_matrix(y_test,svc_grid.predict(X_test))\n",
    "\n"
   ]
  },
  {
   "cell_type": "code",
   "execution_count": null,
   "metadata": {
    "collapsed": false
   },
   "outputs": [],
   "source": [
    "# Non-normalized\n",
    "model_assessment.plot_confusion_matrix(cm=svc_cm, labels=geno_encoder.classes_, cmap='Blues', title=None,\n",
    "                 norm=False, context=None, annot=True);\n"
   ]
  },
  {
   "cell_type": "code",
   "execution_count": null,
   "metadata": {
    "collapsed": false
   },
   "outputs": [],
   "source": [
    "# Normalized\n",
    "model_assessment.plot_confusion_matrix(cm=svc_cm, labels=geno_encoder.classes_, cmap='Blues', title=None,\n",
    "                 norm=True, context=None, annot=True);"
   ]
  },
  {
   "cell_type": "markdown",
   "metadata": {},
   "source": [
    "## RandomForest classifier"
   ]
  },
  {
   "cell_type": "code",
   "execution_count": null,
   "metadata": {
    "collapsed": false
   },
   "outputs": [],
   "source": [
    "rfst_param_grid = {'randomforestclassifier__n_estimators': np.arange(1,15,),\n",
    "                   'randomforestclassifier__min_samples_leaf': np.arange(1,10,2)\n",
    "                  }\n",
    "\n",
    "\n",
    "\n",
    "rfst_pipe = make_pipeline(RandomForestClassifier(random_state=42,n_jobs=8))\n",
    "\n",
    "# run the gridsearch to tune the hyper-parameters\n",
    "rfst_grid = GridSearchCV(rfst_pipe, param_grid=rfst_param_grid, cv=3)\n",
    "\n",
    "\n",
    "rfst_grid.fit(X_train, y_train)\n",
    "print(rfst_grid.best_params_)\n",
    "\n",
    "\n",
    "# generate and plot confusion matrices\n",
    "rfst_cm = confusion_matrix(y_test,rfst_grid.predict(X_test))"
   ]
  },
  {
   "cell_type": "code",
   "execution_count": null,
   "metadata": {
    "collapsed": false
   },
   "outputs": [],
   "source": [
    "# Non-normalized\n",
    "model_assessment.plot_confusion_matrix(cm=svc_cm, labels=geno_encoder.classes_, cmap='Blues', title=None,\n",
    "                 norm=False, context=None, annot=True);"
   ]
  },
  {
   "cell_type": "code",
   "execution_count": null,
   "metadata": {
    "collapsed": false
   },
   "outputs": [],
   "source": [
    "# Normalized\n",
    "model_assessment.plot_confusion_matrix(cm=svc_cm, labels=geno_encoder.classes_, cmap='Blues', title=None,\n",
    "                 norm=True, context=None, annot=True);"
   ]
  },
  {
   "cell_type": "markdown",
   "metadata": {},
   "source": [
    "## LogisticRegression classifier"
   ]
  },
  {
   "cell_type": "code",
   "execution_count": null,
   "metadata": {
    "collapsed": true
   },
   "outputs": [],
   "source": []
  }
 ],
 "metadata": {
  "kernelspec": {
   "display_name": "Python 2",
   "language": "python",
   "name": "python2"
  },
  "language_info": {
   "codemirror_mode": {
    "name": "ipython",
    "version": 2
   },
   "file_extension": ".py",
   "mimetype": "text/x-python",
   "name": "python",
   "nbconvert_exporter": "python",
   "pygments_lexer": "ipython2",
   "version": "2.7.11"
  }
 },
 "nbformat": 4,
 "nbformat_minor": 0
}
