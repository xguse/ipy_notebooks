{
 "cells": [
  {
   "cell_type": "code",
   "execution_count": 1,
   "metadata": {
    "collapsed": true
   },
   "outputs": [],
   "source": [
    "%matplotlib inline\n",
    "# %matplotlib"
   ]
  },
  {
   "cell_type": "code",
   "execution_count": 2,
   "metadata": {
    "collapsed": true
   },
   "outputs": [],
   "source": [
    "from __future__ import division,print_function"
   ]
  },
  {
   "cell_type": "code",
   "execution_count": 3,
   "metadata": {
    "collapsed": false
   },
   "outputs": [],
   "source": [
    "from spartan.utils import sklearn as splearn"
   ]
  },
  {
   "cell_type": "code",
   "execution_count": 4,
   "metadata": {
    "collapsed": false
   },
   "outputs": [],
   "source": [
    "import numpy as np\n",
    "import pandas as pd\n",
    "import sklearn as skl\n",
    "import sklearn.preprocessing as ppro\n",
    "\n",
    "from sklearn.pipeline import Pipeline\n",
    "from sklearn.pipeline import make_pipeline\n",
    "\n",
    "from sklearn.decomposition import PCA, RandomizedPCA\n",
    "from sklearn.discriminant_analysis import LinearDiscriminantAnalysis\n",
    "\n",
    "from sklearn.grid_search import GridSearchCV\n",
    "from sklearn.cross_validation import train_test_split\n",
    "\n",
    "from sklearn.svm import SVC, LinearSVC\n",
    "from sklearn.ensemble import RandomForestClassifier,ExtraTreesClassifier\n",
    "\n",
    "from sklearn.linear_model import LogisticRegression\n",
    "from sklearn.linear_model import RandomizedLogisticRegression\n",
    "from sklearn.linear_model import Lasso\n",
    "\n",
    "from sklearn.feature_selection import SelectKBest\n",
    "\n",
    "from sklearn.metrics import confusion_matrix\n",
    "\n",
    "from sklearn.feature_selection import SelectFromModel"
   ]
  },
  {
   "cell_type": "code",
   "execution_count": 5,
   "metadata": {
    "collapsed": true
   },
   "outputs": [],
   "source": [
    "from matplotlib import pyplot as plt\n",
    "import seaborn as sns"
   ]
  },
  {
   "cell_type": "code",
   "execution_count": 6,
   "metadata": {
    "collapsed": false
   },
   "outputs": [],
   "source": [
    "sns.set_context('poster',)"
   ]
  },
  {
   "cell_type": "code",
   "execution_count": 7,
   "metadata": {
    "collapsed": true
   },
   "outputs": [],
   "source": [
    "tax_path = \"/home/gus/MEGAsync/zim/main/BCH/Projects/Amy/2016-01-07_~_16s_data/otu_table_mc2_w_tax_no_pynast_failures.biom.TAXON.tsv\"\n",
    "map_path = \"/home/gus/MEGAsync/zim/main/BCH/Projects/Amy/2016-01-07_~_16s_data/BL6SPFDec16map.txt\""
   ]
  },
  {
   "cell_type": "code",
   "execution_count": 8,
   "metadata": {
    "collapsed": true
   },
   "outputs": [],
   "source": [
    "tax = pd.read_csv(filepath_or_buffer=tax_path, sep='\\t', \n",
    "                  quoting=0, skipinitialspace=False, lineterminator=None, header='infer', index_col=None, names=None)\n",
    "\n",
    "meta = pd.read_csv(filepath_or_buffer=map_path, sep='\\t')"
   ]
  },
  {
   "cell_type": "code",
   "execution_count": 9,
   "metadata": {
    "collapsed": false
   },
   "outputs": [
    {
     "data": {
      "text/html": [
       "<div>\n",
       "<table border=\"1\" class=\"dataframe\">\n",
       "  <thead>\n",
       "    <tr style=\"text-align: right;\">\n",
       "      <th></th>\n",
       "      <th>OTU ID</th>\n",
       "      <th>23</th>\n",
       "      <th>25</th>\n",
       "      <th>27</th>\n",
       "      <th>28</th>\n",
       "      <th>30</th>\n",
       "      <th>39</th>\n",
       "      <th>41</th>\n",
       "      <th>8</th>\n",
       "      <th>24</th>\n",
       "      <th>7</th>\n",
       "      <th>9</th>\n",
       "      <th>5</th>\n",
       "    </tr>\n",
       "  </thead>\n",
       "  <tbody>\n",
       "    <tr>\n",
       "      <th>0</th>\n",
       "      <td>206494</td>\n",
       "      <td>33</td>\n",
       "      <td>16</td>\n",
       "      <td>190</td>\n",
       "      <td>11</td>\n",
       "      <td>92</td>\n",
       "      <td>12</td>\n",
       "      <td>2272</td>\n",
       "      <td>2</td>\n",
       "      <td>0</td>\n",
       "      <td>0</td>\n",
       "      <td>0</td>\n",
       "      <td>0</td>\n",
       "    </tr>\n",
       "    <tr>\n",
       "      <th>1</th>\n",
       "      <td>276629</td>\n",
       "      <td>0</td>\n",
       "      <td>0</td>\n",
       "      <td>1</td>\n",
       "      <td>0</td>\n",
       "      <td>0</td>\n",
       "      <td>0</td>\n",
       "      <td>0</td>\n",
       "      <td>0</td>\n",
       "      <td>1</td>\n",
       "      <td>1</td>\n",
       "      <td>0</td>\n",
       "      <td>0</td>\n",
       "    </tr>\n",
       "    <tr>\n",
       "      <th>2</th>\n",
       "      <td>276620</td>\n",
       "      <td>0</td>\n",
       "      <td>0</td>\n",
       "      <td>0</td>\n",
       "      <td>0</td>\n",
       "      <td>0</td>\n",
       "      <td>0</td>\n",
       "      <td>0</td>\n",
       "      <td>0</td>\n",
       "      <td>2</td>\n",
       "      <td>1</td>\n",
       "      <td>1</td>\n",
       "      <td>0</td>\n",
       "    </tr>\n",
       "    <tr>\n",
       "      <th>3</th>\n",
       "      <td>330294</td>\n",
       "      <td>0</td>\n",
       "      <td>0</td>\n",
       "      <td>0</td>\n",
       "      <td>0</td>\n",
       "      <td>0</td>\n",
       "      <td>0</td>\n",
       "      <td>2</td>\n",
       "      <td>0</td>\n",
       "      <td>0</td>\n",
       "      <td>0</td>\n",
       "      <td>2</td>\n",
       "      <td>0</td>\n",
       "    </tr>\n",
       "    <tr>\n",
       "      <th>4</th>\n",
       "      <td>184456</td>\n",
       "      <td>1</td>\n",
       "      <td>0</td>\n",
       "      <td>0</td>\n",
       "      <td>0</td>\n",
       "      <td>0</td>\n",
       "      <td>0</td>\n",
       "      <td>1</td>\n",
       "      <td>0</td>\n",
       "      <td>0</td>\n",
       "      <td>0</td>\n",
       "      <td>0</td>\n",
       "      <td>0</td>\n",
       "    </tr>\n",
       "  </tbody>\n",
       "</table>\n",
       "</div>"
      ],
      "text/plain": [
       "   OTU ID  23  25   27  28  30  39    41  8  24  7  9  5\n",
       "0  206494  33  16  190  11  92  12  2272  2   0  0  0  0\n",
       "1  276629   0   0    1   0   0   0     0  0   1  1  0  0\n",
       "2  276620   0   0    0   0   0   0     0  0   2  1  1  0\n",
       "3  330294   0   0    0   0   0   0     2  0   0  0  2  0\n",
       "4  184456   1   0    0   0   0   0     1  0   0  0  0  0"
      ]
     },
     "execution_count": 9,
     "metadata": {},
     "output_type": "execute_result"
    }
   ],
   "source": [
    "tax.head()"
   ]
  },
  {
   "cell_type": "code",
   "execution_count": 10,
   "metadata": {
    "collapsed": false
   },
   "outputs": [],
   "source": [
    "tax.index = tax['OTU ID'].values\n",
    "tax = tax.drop(['OTU ID'],axis=1)"
   ]
  },
  {
   "cell_type": "code",
   "execution_count": 11,
   "metadata": {
    "collapsed": false
   },
   "outputs": [
    {
     "data": {
      "text/html": [
       "<div>\n",
       "<table border=\"1\" class=\"dataframe\">\n",
       "  <thead>\n",
       "    <tr style=\"text-align: right;\">\n",
       "      <th></th>\n",
       "      <th>23</th>\n",
       "      <th>25</th>\n",
       "      <th>27</th>\n",
       "      <th>28</th>\n",
       "      <th>30</th>\n",
       "      <th>39</th>\n",
       "      <th>41</th>\n",
       "      <th>8</th>\n",
       "      <th>24</th>\n",
       "      <th>7</th>\n",
       "      <th>9</th>\n",
       "      <th>5</th>\n",
       "    </tr>\n",
       "  </thead>\n",
       "  <tbody>\n",
       "    <tr>\n",
       "      <th>206494</th>\n",
       "      <td>33</td>\n",
       "      <td>16</td>\n",
       "      <td>190</td>\n",
       "      <td>11</td>\n",
       "      <td>92</td>\n",
       "      <td>12</td>\n",
       "      <td>2272</td>\n",
       "      <td>2</td>\n",
       "      <td>0</td>\n",
       "      <td>0</td>\n",
       "      <td>0</td>\n",
       "      <td>0</td>\n",
       "    </tr>\n",
       "    <tr>\n",
       "      <th>276629</th>\n",
       "      <td>0</td>\n",
       "      <td>0</td>\n",
       "      <td>1</td>\n",
       "      <td>0</td>\n",
       "      <td>0</td>\n",
       "      <td>0</td>\n",
       "      <td>0</td>\n",
       "      <td>0</td>\n",
       "      <td>1</td>\n",
       "      <td>1</td>\n",
       "      <td>0</td>\n",
       "      <td>0</td>\n",
       "    </tr>\n",
       "    <tr>\n",
       "      <th>276620</th>\n",
       "      <td>0</td>\n",
       "      <td>0</td>\n",
       "      <td>0</td>\n",
       "      <td>0</td>\n",
       "      <td>0</td>\n",
       "      <td>0</td>\n",
       "      <td>0</td>\n",
       "      <td>0</td>\n",
       "      <td>2</td>\n",
       "      <td>1</td>\n",
       "      <td>1</td>\n",
       "      <td>0</td>\n",
       "    </tr>\n",
       "    <tr>\n",
       "      <th>330294</th>\n",
       "      <td>0</td>\n",
       "      <td>0</td>\n",
       "      <td>0</td>\n",
       "      <td>0</td>\n",
       "      <td>0</td>\n",
       "      <td>0</td>\n",
       "      <td>2</td>\n",
       "      <td>0</td>\n",
       "      <td>0</td>\n",
       "      <td>0</td>\n",
       "      <td>2</td>\n",
       "      <td>0</td>\n",
       "    </tr>\n",
       "    <tr>\n",
       "      <th>184456</th>\n",
       "      <td>1</td>\n",
       "      <td>0</td>\n",
       "      <td>0</td>\n",
       "      <td>0</td>\n",
       "      <td>0</td>\n",
       "      <td>0</td>\n",
       "      <td>1</td>\n",
       "      <td>0</td>\n",
       "      <td>0</td>\n",
       "      <td>0</td>\n",
       "      <td>0</td>\n",
       "      <td>0</td>\n",
       "    </tr>\n",
       "  </tbody>\n",
       "</table>\n",
       "</div>"
      ],
      "text/plain": [
       "        23  25   27  28  30  39    41  8  24  7  9  5\n",
       "206494  33  16  190  11  92  12  2272  2   0  0  0  0\n",
       "276629   0   0    1   0   0   0     0  0   1  1  0  0\n",
       "276620   0   0    0   0   0   0     0  0   2  1  1  0\n",
       "330294   0   0    0   0   0   0     2  0   0  0  2  0\n",
       "184456   1   0    0   0   0   0     1  0   0  0  0  0"
      ]
     },
     "execution_count": 11,
     "metadata": {},
     "output_type": "execute_result"
    }
   ],
   "source": [
    "tax.head()"
   ]
  },
  {
   "cell_type": "code",
   "execution_count": 12,
   "metadata": {
    "collapsed": false
   },
   "outputs": [],
   "source": [
    "# tax_scaled = tax.T.apply(lambda m: (m - m.mean())/m.std()).T\n",
    "# tax_scaled = tax.T.apply(lambda m: (m / m.sum())).T\n",
    "tax_scaled = tax"
   ]
  },
  {
   "cell_type": "code",
   "execution_count": 13,
   "metadata": {
    "collapsed": false
   },
   "outputs": [
    {
     "data": {
      "text/html": [
       "<div>\n",
       "<table border=\"1\" class=\"dataframe\">\n",
       "  <thead>\n",
       "    <tr style=\"text-align: right;\">\n",
       "      <th></th>\n",
       "      <th>23</th>\n",
       "      <th>25</th>\n",
       "      <th>27</th>\n",
       "      <th>28</th>\n",
       "      <th>30</th>\n",
       "      <th>39</th>\n",
       "      <th>41</th>\n",
       "      <th>8</th>\n",
       "      <th>24</th>\n",
       "      <th>7</th>\n",
       "      <th>9</th>\n",
       "      <th>5</th>\n",
       "    </tr>\n",
       "  </thead>\n",
       "  <tbody>\n",
       "    <tr>\n",
       "      <th>206494</th>\n",
       "      <td>33</td>\n",
       "      <td>16</td>\n",
       "      <td>190</td>\n",
       "      <td>11</td>\n",
       "      <td>92</td>\n",
       "      <td>12</td>\n",
       "      <td>2272</td>\n",
       "      <td>2</td>\n",
       "      <td>0</td>\n",
       "      <td>0</td>\n",
       "      <td>0</td>\n",
       "      <td>0</td>\n",
       "    </tr>\n",
       "    <tr>\n",
       "      <th>276629</th>\n",
       "      <td>0</td>\n",
       "      <td>0</td>\n",
       "      <td>1</td>\n",
       "      <td>0</td>\n",
       "      <td>0</td>\n",
       "      <td>0</td>\n",
       "      <td>0</td>\n",
       "      <td>0</td>\n",
       "      <td>1</td>\n",
       "      <td>1</td>\n",
       "      <td>0</td>\n",
       "      <td>0</td>\n",
       "    </tr>\n",
       "    <tr>\n",
       "      <th>276620</th>\n",
       "      <td>0</td>\n",
       "      <td>0</td>\n",
       "      <td>0</td>\n",
       "      <td>0</td>\n",
       "      <td>0</td>\n",
       "      <td>0</td>\n",
       "      <td>0</td>\n",
       "      <td>0</td>\n",
       "      <td>2</td>\n",
       "      <td>1</td>\n",
       "      <td>1</td>\n",
       "      <td>0</td>\n",
       "    </tr>\n",
       "    <tr>\n",
       "      <th>330294</th>\n",
       "      <td>0</td>\n",
       "      <td>0</td>\n",
       "      <td>0</td>\n",
       "      <td>0</td>\n",
       "      <td>0</td>\n",
       "      <td>0</td>\n",
       "      <td>2</td>\n",
       "      <td>0</td>\n",
       "      <td>0</td>\n",
       "      <td>0</td>\n",
       "      <td>2</td>\n",
       "      <td>0</td>\n",
       "    </tr>\n",
       "    <tr>\n",
       "      <th>184456</th>\n",
       "      <td>1</td>\n",
       "      <td>0</td>\n",
       "      <td>0</td>\n",
       "      <td>0</td>\n",
       "      <td>0</td>\n",
       "      <td>0</td>\n",
       "      <td>1</td>\n",
       "      <td>0</td>\n",
       "      <td>0</td>\n",
       "      <td>0</td>\n",
       "      <td>0</td>\n",
       "      <td>0</td>\n",
       "    </tr>\n",
       "  </tbody>\n",
       "</table>\n",
       "</div>"
      ],
      "text/plain": [
       "        23  25   27  28  30  39    41  8  24  7  9  5\n",
       "206494  33  16  190  11  92  12  2272  2   0  0  0  0\n",
       "276629   0   0    1   0   0   0     0  0   1  1  0  0\n",
       "276620   0   0    0   0   0   0     0  0   2  1  1  0\n",
       "330294   0   0    0   0   0   0     2  0   0  0  2  0\n",
       "184456   1   0    0   0   0   0     1  0   0  0  0  0"
      ]
     },
     "execution_count": 13,
     "metadata": {},
     "output_type": "execute_result"
    }
   ],
   "source": [
    "tax_scaled.head()"
   ]
  },
  {
   "cell_type": "code",
   "execution_count": 14,
   "metadata": {
    "collapsed": true
   },
   "outputs": [],
   "source": [
    "s = tax.sum()"
   ]
  },
  {
   "cell_type": "code",
   "execution_count": 15,
   "metadata": {
    "collapsed": false
   },
   "outputs": [
    {
     "data": {
      "image/png": "[encoded data removed]",
      "text/plain": [
       "<matplotlib.figure.Figure at 0x7f455ebc2dd0>"
      ]
     },
     "metadata": {},
     "output_type": "display_data"
    }
   ],
   "source": [
    "sns.barplot(x=s.index.values,y=s);"
   ]
  },
  {
   "cell_type": "code",
   "execution_count": 16,
   "metadata": {
    "collapsed": false
   },
   "outputs": [],
   "source": [
    "meta.SampleID = meta.SampleID.astype(str)"
   ]
  },
  {
   "cell_type": "markdown",
   "metadata": {},
   "source": [
    "# Join meta data"
   ]
  },
  {
   "cell_type": "code",
   "execution_count": 17,
   "metadata": {
    "collapsed": false
   },
   "outputs": [
    {
     "data": {
      "text/html": [
       "<div>\n",
       "<table border=\"1\" class=\"dataframe\">\n",
       "  <thead>\n",
       "    <tr style=\"text-align: right;\">\n",
       "      <th></th>\n",
       "      <th>Mouse ID</th>\n",
       "      <th>Gender</th>\n",
       "      <th>DOB</th>\n",
       "      <th>Ear Tag</th>\n",
       "      <th>Genotype1</th>\n",
       "      <th>Genotype</th>\n",
       "      <th>Cage</th>\n",
       "      <th>Notes</th>\n",
       "    </tr>\n",
       "    <tr>\n",
       "      <th>SampleID</th>\n",
       "      <th></th>\n",
       "      <th></th>\n",
       "      <th></th>\n",
       "      <th></th>\n",
       "      <th></th>\n",
       "      <th></th>\n",
       "      <th></th>\n",
       "      <th></th>\n",
       "    </tr>\n",
       "  </thead>\n",
       "  <tbody>\n",
       "    <tr>\n",
       "      <th>23</th>\n",
       "      <td>I175</td>\n",
       "      <td>F</td>\n",
       "      <td>7/6/15</td>\n",
       "      <td>R</td>\n",
       "      <td>WT</td>\n",
       "      <td>WT (08/25/15) cre+ (08/26/15)</td>\n",
       "      <td>943947</td>\n",
       "      <td>Parent cage 892230</td>\n",
       "    </tr>\n",
       "    <tr>\n",
       "      <th>24</th>\n",
       "      <td>I176</td>\n",
       "      <td>F</td>\n",
       "      <td>7/5/15</td>\n",
       "      <td>L</td>\n",
       "      <td>WT</td>\n",
       "      <td>WT</td>\n",
       "      <td>943947</td>\n",
       "      <td>Parent cage 892234</td>\n",
       "    </tr>\n",
       "    <tr>\n",
       "      <th>25</th>\n",
       "      <td>I177</td>\n",
       "      <td>F</td>\n",
       "      <td>7/4/15</td>\n",
       "      <td>-</td>\n",
       "      <td>TregWKO</td>\n",
       "      <td>WASp fl/fl (08/25/15) cre+ (09/08/15)</td>\n",
       "      <td>943947</td>\n",
       "      <td>Parent cage 892221</td>\n",
       "    </tr>\n",
       "    <tr>\n",
       "      <th>41</th>\n",
       "      <td>I208</td>\n",
       "      <td>F</td>\n",
       "      <td>7/1/15</td>\n",
       "      <td>RL</td>\n",
       "      <td>WT</td>\n",
       "      <td>WT</td>\n",
       "      <td>943947</td>\n",
       "      <td>Parent cage 892226</td>\n",
       "    </tr>\n",
       "    <tr>\n",
       "      <th>27</th>\n",
       "      <td>I179</td>\n",
       "      <td>F</td>\n",
       "      <td>7/7/15</td>\n",
       "      <td>2L</td>\n",
       "      <td>WKO</td>\n",
       "      <td>WKO (8/20/15)</td>\n",
       "      <td>943947</td>\n",
       "      <td>Parent cage 892227</td>\n",
       "    </tr>\n",
       "    <tr>\n",
       "      <th>5</th>\n",
       "      <td>I180</td>\n",
       "      <td>M</td>\n",
       "      <td>7/7/15</td>\n",
       "      <td>R</td>\n",
       "      <td>WKO</td>\n",
       "      <td>WKO (8/20/15)</td>\n",
       "      <td>943948</td>\n",
       "      <td>Parent cage 892227</td>\n",
       "    </tr>\n",
       "    <tr>\n",
       "      <th>7</th>\n",
       "      <td>I182</td>\n",
       "      <td>M</td>\n",
       "      <td>7/4/15</td>\n",
       "      <td>-</td>\n",
       "      <td>TregWKO</td>\n",
       "      <td>WASp fl/fl (08/25/15) cre+ (09/08/15)</td>\n",
       "      <td>943948</td>\n",
       "      <td>Parent cage 892221</td>\n",
       "    </tr>\n",
       "    <tr>\n",
       "      <th>8</th>\n",
       "      <td>I183</td>\n",
       "      <td>M</td>\n",
       "      <td>7/1/15</td>\n",
       "      <td>RL</td>\n",
       "      <td>WT</td>\n",
       "      <td>WT</td>\n",
       "      <td>943948</td>\n",
       "      <td>Parent cage 892226</td>\n",
       "    </tr>\n",
       "    <tr>\n",
       "      <th>9</th>\n",
       "      <td>I184</td>\n",
       "      <td>M</td>\n",
       "      <td>7/1/15</td>\n",
       "      <td>2L</td>\n",
       "      <td>WT</td>\n",
       "      <td>WT</td>\n",
       "      <td>943948</td>\n",
       "      <td>Parent cage 892226</td>\n",
       "    </tr>\n",
       "    <tr>\n",
       "      <th>28</th>\n",
       "      <td>I195</td>\n",
       "      <td>F</td>\n",
       "      <td>7/7/15</td>\n",
       "      <td>R</td>\n",
       "      <td>WKO</td>\n",
       "      <td>WKO (8/20/15)</td>\n",
       "      <td>943951</td>\n",
       "      <td>Parent cage 892227</td>\n",
       "    </tr>\n",
       "    <tr>\n",
       "      <th>39</th>\n",
       "      <td>I206</td>\n",
       "      <td>F</td>\n",
       "      <td>7/4/15</td>\n",
       "      <td>L</td>\n",
       "      <td>TregWKO</td>\n",
       "      <td>WASp fl/fl (08/25/15) cre+ (08/26/15)</td>\n",
       "      <td>943951</td>\n",
       "      <td>Parent cage 892221</td>\n",
       "    </tr>\n",
       "    <tr>\n",
       "      <th>30</th>\n",
       "      <td>I197</td>\n",
       "      <td>F</td>\n",
       "      <td>7/4/15</td>\n",
       "      <td>-</td>\n",
       "      <td>TregWKO</td>\n",
       "      <td>WASp fl/fl (08/25/15) cre?</td>\n",
       "      <td>943951</td>\n",
       "      <td>Parent cage 892221</td>\n",
       "    </tr>\n",
       "  </tbody>\n",
       "</table>\n",
       "</div>"
      ],
      "text/plain": [
       "         Mouse ID Gender     DOB Ear Tag Genotype1  \\\n",
       "SampleID                                             \n",
       "23           I175      F  7/6/15       R        WT   \n",
       "24           I176      F  7/5/15       L        WT   \n",
       "25           I177      F  7/4/15       -   TregWKO   \n",
       "41           I208      F  7/1/15      RL        WT   \n",
       "27           I179      F  7/7/15      2L       WKO   \n",
       "5            I180      M  7/7/15       R       WKO   \n",
       "7            I182      M  7/4/15       -   TregWKO   \n",
       "8            I183      M  7/1/15      RL        WT   \n",
       "9            I184      M  7/1/15      2L        WT   \n",
       "28           I195      F  7/7/15       R       WKO   \n",
       "39           I206      F  7/4/15       L   TregWKO   \n",
       "30           I197      F  7/4/15       -   TregWKO   \n",
       "\n",
       "                                       Genotype    Cage               Notes  \n",
       "SampleID                                                                     \n",
       "23                WT (08/25/15) cre+ (08/26/15)  943947  Parent cage 892230  \n",
       "24                                           WT  943947  Parent cage 892234  \n",
       "25        WASp fl/fl (08/25/15) cre+ (09/08/15)  943947  Parent cage 892221  \n",
       "41                                           WT  943947  Parent cage 892226  \n",
       "27                                WKO (8/20/15)  943947  Parent cage 892227  \n",
       "5                                 WKO (8/20/15)  943948  Parent cage 892227  \n",
       "7         WASp fl/fl (08/25/15) cre+ (09/08/15)  943948  Parent cage 892221  \n",
       "8                                            WT  943948  Parent cage 892226  \n",
       "9                                            WT  943948  Parent cage 892226  \n",
       "28                                WKO (8/20/15)  943951  Parent cage 892227  \n",
       "39        WASp fl/fl (08/25/15) cre+ (08/26/15)  943951  Parent cage 892221  \n",
       "30                   WASp fl/fl (08/25/15) cre?  943951  Parent cage 892221  "
      ]
     },
     "execution_count": 17,
     "metadata": {},
     "output_type": "execute_result"
    }
   ],
   "source": [
    "meta.set_index('SampleID')"
   ]
  },
  {
   "cell_type": "code",
   "execution_count": 18,
   "metadata": {
    "collapsed": false
   },
   "outputs": [],
   "source": [
    "full_table = meta.set_index('SampleID').join(tax_scaled.T).reset_index()"
   ]
  },
  {
   "cell_type": "code",
   "execution_count": 19,
   "metadata": {
    "collapsed": false
   },
   "outputs": [
    {
     "data": {
      "text/html": [
       "<div>\n",
       "<table border=\"1\" class=\"dataframe\">\n",
       "  <thead>\n",
       "    <tr style=\"text-align: right;\">\n",
       "      <th></th>\n",
       "      <th>SampleID</th>\n",
       "      <th>Mouse ID</th>\n",
       "      <th>Gender</th>\n",
       "      <th>DOB</th>\n",
       "      <th>Ear Tag</th>\n",
       "      <th>Genotype1</th>\n",
       "      <th>Genotype</th>\n",
       "      <th>Cage</th>\n",
       "      <th>Notes</th>\n",
       "      <th>206494</th>\n",
       "      <th>...</th>\n",
       "      <th>New.CleanUp.ReferenceOTU56003</th>\n",
       "      <th>New.CleanUp.ReferenceOTU56005</th>\n",
       "      <th>New.CleanUp.ReferenceOTU56008</th>\n",
       "      <th>New.CleanUp.ReferenceOTU56017</th>\n",
       "      <th>New.CleanUp.ReferenceOTU56020</th>\n",
       "      <th>New.CleanUp.ReferenceOTU56032</th>\n",
       "      <th>New.CleanUp.ReferenceOTU56042</th>\n",
       "      <th>New.CleanUp.ReferenceOTU56061</th>\n",
       "      <th>New.CleanUp.ReferenceOTU56065</th>\n",
       "      <th>New.CleanUp.ReferenceOTU56069</th>\n",
       "    </tr>\n",
       "  </thead>\n",
       "  <tbody>\n",
       "    <tr>\n",
       "      <th>0</th>\n",
       "      <td>23</td>\n",
       "      <td>I175</td>\n",
       "      <td>F</td>\n",
       "      <td>7/6/15</td>\n",
       "      <td>R</td>\n",
       "      <td>WT</td>\n",
       "      <td>WT (08/25/15) cre+ (08/26/15)</td>\n",
       "      <td>943947</td>\n",
       "      <td>Parent cage 892230</td>\n",
       "      <td>33</td>\n",
       "      <td>...</td>\n",
       "      <td>1</td>\n",
       "      <td>0</td>\n",
       "      <td>1</td>\n",
       "      <td>1</td>\n",
       "      <td>0</td>\n",
       "      <td>0</td>\n",
       "      <td>0</td>\n",
       "      <td>0</td>\n",
       "      <td>0</td>\n",
       "      <td>0</td>\n",
       "    </tr>\n",
       "    <tr>\n",
       "      <th>1</th>\n",
       "      <td>24</td>\n",
       "      <td>I176</td>\n",
       "      <td>F</td>\n",
       "      <td>7/5/15</td>\n",
       "      <td>L</td>\n",
       "      <td>WT</td>\n",
       "      <td>WT</td>\n",
       "      <td>943947</td>\n",
       "      <td>Parent cage 892234</td>\n",
       "      <td>0</td>\n",
       "      <td>...</td>\n",
       "      <td>0</td>\n",
       "      <td>0</td>\n",
       "      <td>0</td>\n",
       "      <td>0</td>\n",
       "      <td>0</td>\n",
       "      <td>0</td>\n",
       "      <td>0</td>\n",
       "      <td>0</td>\n",
       "      <td>0</td>\n",
       "      <td>0</td>\n",
       "    </tr>\n",
       "    <tr>\n",
       "      <th>2</th>\n",
       "      <td>25</td>\n",
       "      <td>I177</td>\n",
       "      <td>F</td>\n",
       "      <td>7/4/15</td>\n",
       "      <td>-</td>\n",
       "      <td>TregWKO</td>\n",
       "      <td>WASp fl/fl (08/25/15) cre+ (09/08/15)</td>\n",
       "      <td>943947</td>\n",
       "      <td>Parent cage 892221</td>\n",
       "      <td>16</td>\n",
       "      <td>...</td>\n",
       "      <td>0</td>\n",
       "      <td>1</td>\n",
       "      <td>0</td>\n",
       "      <td>0</td>\n",
       "      <td>1</td>\n",
       "      <td>0</td>\n",
       "      <td>0</td>\n",
       "      <td>1</td>\n",
       "      <td>0</td>\n",
       "      <td>0</td>\n",
       "    </tr>\n",
       "    <tr>\n",
       "      <th>3</th>\n",
       "      <td>41</td>\n",
       "      <td>I208</td>\n",
       "      <td>F</td>\n",
       "      <td>7/1/15</td>\n",
       "      <td>RL</td>\n",
       "      <td>WT</td>\n",
       "      <td>WT</td>\n",
       "      <td>943947</td>\n",
       "      <td>Parent cage 892226</td>\n",
       "      <td>2272</td>\n",
       "      <td>...</td>\n",
       "      <td>0</td>\n",
       "      <td>0</td>\n",
       "      <td>0</td>\n",
       "      <td>0</td>\n",
       "      <td>0</td>\n",
       "      <td>0</td>\n",
       "      <td>0</td>\n",
       "      <td>0</td>\n",
       "      <td>0</td>\n",
       "      <td>0</td>\n",
       "    </tr>\n",
       "    <tr>\n",
       "      <th>4</th>\n",
       "      <td>27</td>\n",
       "      <td>I179</td>\n",
       "      <td>F</td>\n",
       "      <td>7/7/15</td>\n",
       "      <td>2L</td>\n",
       "      <td>WKO</td>\n",
       "      <td>WKO (8/20/15)</td>\n",
       "      <td>943947</td>\n",
       "      <td>Parent cage 892227</td>\n",
       "      <td>190</td>\n",
       "      <td>...</td>\n",
       "      <td>0</td>\n",
       "      <td>0</td>\n",
       "      <td>0</td>\n",
       "      <td>0</td>\n",
       "      <td>0</td>\n",
       "      <td>0</td>\n",
       "      <td>1</td>\n",
       "      <td>1</td>\n",
       "      <td>1</td>\n",
       "      <td>0</td>\n",
       "    </tr>\n",
       "  </tbody>\n",
       "</table>\n",
       "<p>5 rows × 10766 columns</p>\n",
       "</div>"
      ],
      "text/plain": [
       "  SampleID Mouse ID Gender     DOB Ear Tag Genotype1  \\\n",
       "0       23     I175      F  7/6/15       R        WT   \n",
       "1       24     I176      F  7/5/15       L        WT   \n",
       "2       25     I177      F  7/4/15       -   TregWKO   \n",
       "3       41     I208      F  7/1/15      RL        WT   \n",
       "4       27     I179      F  7/7/15      2L       WKO   \n",
       "\n",
       "                                Genotype    Cage               Notes  206494  \\\n",
       "0          WT (08/25/15) cre+ (08/26/15)  943947  Parent cage 892230      33   \n",
       "1                                     WT  943947  Parent cage 892234       0   \n",
       "2  WASp fl/fl (08/25/15) cre+ (09/08/15)  943947  Parent cage 892221      16   \n",
       "3                                     WT  943947  Parent cage 892226    2272   \n",
       "4                          WKO (8/20/15)  943947  Parent cage 892227     190   \n",
       "\n",
       "               ...                New.CleanUp.ReferenceOTU56003  \\\n",
       "0              ...                                            1   \n",
       "1              ...                                            0   \n",
       "2              ...                                            0   \n",
       "3              ...                                            0   \n",
       "4              ...                                            0   \n",
       "\n",
       "   New.CleanUp.ReferenceOTU56005  New.CleanUp.ReferenceOTU56008  \\\n",
       "0                              0                              1   \n",
       "1                              0                              0   \n",
       "2                              1                              0   \n",
       "3                              0                              0   \n",
       "4                              0                              0   \n",
       "\n",
       "   New.CleanUp.ReferenceOTU56017  New.CleanUp.ReferenceOTU56020  \\\n",
       "0                              1                              0   \n",
       "1                              0                              0   \n",
       "2                              0                              1   \n",
       "3                              0                              0   \n",
       "4                              0                              0   \n",
       "\n",
       "   New.CleanUp.ReferenceOTU56032  New.CleanUp.ReferenceOTU56042  \\\n",
       "0                              0                              0   \n",
       "1                              0                              0   \n",
       "2                              0                              0   \n",
       "3                              0                              0   \n",
       "4                              0                              1   \n",
       "\n",
       "   New.CleanUp.ReferenceOTU56061  New.CleanUp.ReferenceOTU56065  \\\n",
       "0                              0                              0   \n",
       "1                              0                              0   \n",
       "2                              1                              0   \n",
       "3                              0                              0   \n",
       "4                              1                              1   \n",
       "\n",
       "   New.CleanUp.ReferenceOTU56069  \n",
       "0                              0  \n",
       "1                              0  \n",
       "2                              0  \n",
       "3                              0  \n",
       "4                              0  \n",
       "\n",
       "[5 rows x 10766 columns]"
      ]
     },
     "execution_count": 19,
     "metadata": {},
     "output_type": "execute_result"
    }
   ],
   "source": [
    "full_table.head()"
   ]
  },
  {
   "cell_type": "markdown",
   "metadata": {},
   "source": [
    "# Set up test/train split"
   ]
  },
  {
   "cell_type": "markdown",
   "metadata": {},
   "source": [
    "## Encode 'y' labels"
   ]
  },
  {
   "cell_type": "code",
   "execution_count": 20,
   "metadata": {
    "collapsed": false
   },
   "outputs": [],
   "source": [
    "y_geno = full_table['Genotype1']"
   ]
  },
  {
   "cell_type": "code",
   "execution_count": 21,
   "metadata": {
    "collapsed": true
   },
   "outputs": [],
   "source": [
    "geno_encoder = ppro.LabelEncoder()"
   ]
  },
  {
   "cell_type": "code",
   "execution_count": 22,
   "metadata": {
    "collapsed": false
   },
   "outputs": [],
   "source": [
    "y_geno_encoded = geno_encoder.fit_transform(y_geno)"
   ]
  },
  {
   "cell_type": "markdown",
   "metadata": {},
   "source": [
    "## Encode 'X' data"
   ]
  },
  {
   "cell_type": "code",
   "execution_count": 23,
   "metadata": {
    "collapsed": false
   },
   "outputs": [],
   "source": [
    "X_cols_cat = list(full_table.columns[[2,7]].values)\n",
    "X_cols_num = list(full_table.columns[9:])"
   ]
  },
  {
   "cell_type": "code",
   "execution_count": 24,
   "metadata": {
    "collapsed": true
   },
   "outputs": [],
   "source": [
    "# make the dummy variable columns for the original categorical data columns\n",
    "# HOPEFULLY we dont run into colinearity issues\n",
    "X_data_cat = pd.get_dummies(full_table[X_cols_cat].astype(str))"
   ]
  },
  {
   "cell_type": "code",
   "execution_count": 25,
   "metadata": {
    "collapsed": false
   },
   "outputs": [
    {
     "data": {
      "text/html": [
       "<div>\n",
       "<table border=\"1\" class=\"dataframe\">\n",
       "  <thead>\n",
       "    <tr style=\"text-align: right;\">\n",
       "      <th></th>\n",
       "      <th>Gender_F</th>\n",
       "      <th>Gender_M</th>\n",
       "      <th>Cage_943947</th>\n",
       "      <th>Cage_943948</th>\n",
       "      <th>Cage_943951</th>\n",
       "    </tr>\n",
       "  </thead>\n",
       "  <tbody>\n",
       "    <tr>\n",
       "      <th>0</th>\n",
       "      <td>1</td>\n",
       "      <td>0</td>\n",
       "      <td>1</td>\n",
       "      <td>0</td>\n",
       "      <td>0</td>\n",
       "    </tr>\n",
       "    <tr>\n",
       "      <th>1</th>\n",
       "      <td>1</td>\n",
       "      <td>0</td>\n",
       "      <td>1</td>\n",
       "      <td>0</td>\n",
       "      <td>0</td>\n",
       "    </tr>\n",
       "    <tr>\n",
       "      <th>2</th>\n",
       "      <td>1</td>\n",
       "      <td>0</td>\n",
       "      <td>1</td>\n",
       "      <td>0</td>\n",
       "      <td>0</td>\n",
       "    </tr>\n",
       "    <tr>\n",
       "      <th>3</th>\n",
       "      <td>1</td>\n",
       "      <td>0</td>\n",
       "      <td>1</td>\n",
       "      <td>0</td>\n",
       "      <td>0</td>\n",
       "    </tr>\n",
       "    <tr>\n",
       "      <th>4</th>\n",
       "      <td>1</td>\n",
       "      <td>0</td>\n",
       "      <td>1</td>\n",
       "      <td>0</td>\n",
       "      <td>0</td>\n",
       "    </tr>\n",
       "    <tr>\n",
       "      <th>5</th>\n",
       "      <td>0</td>\n",
       "      <td>1</td>\n",
       "      <td>0</td>\n",
       "      <td>1</td>\n",
       "      <td>0</td>\n",
       "    </tr>\n",
       "    <tr>\n",
       "      <th>6</th>\n",
       "      <td>0</td>\n",
       "      <td>1</td>\n",
       "      <td>0</td>\n",
       "      <td>1</td>\n",
       "      <td>0</td>\n",
       "    </tr>\n",
       "    <tr>\n",
       "      <th>7</th>\n",
       "      <td>0</td>\n",
       "      <td>1</td>\n",
       "      <td>0</td>\n",
       "      <td>1</td>\n",
       "      <td>0</td>\n",
       "    </tr>\n",
       "    <tr>\n",
       "      <th>8</th>\n",
       "      <td>0</td>\n",
       "      <td>1</td>\n",
       "      <td>0</td>\n",
       "      <td>1</td>\n",
       "      <td>0</td>\n",
       "    </tr>\n",
       "    <tr>\n",
       "      <th>9</th>\n",
       "      <td>1</td>\n",
       "      <td>0</td>\n",
       "      <td>0</td>\n",
       "      <td>0</td>\n",
       "      <td>1</td>\n",
       "    </tr>\n",
       "    <tr>\n",
       "      <th>10</th>\n",
       "      <td>1</td>\n",
       "      <td>0</td>\n",
       "      <td>0</td>\n",
       "      <td>0</td>\n",
       "      <td>1</td>\n",
       "    </tr>\n",
       "    <tr>\n",
       "      <th>11</th>\n",
       "      <td>1</td>\n",
       "      <td>0</td>\n",
       "      <td>0</td>\n",
       "      <td>0</td>\n",
       "      <td>1</td>\n",
       "    </tr>\n",
       "  </tbody>\n",
       "</table>\n",
       "</div>"
      ],
      "text/plain": [
       "    Gender_F  Gender_M  Cage_943947  Cage_943948  Cage_943951\n",
       "0          1         0            1            0            0\n",
       "1          1         0            1            0            0\n",
       "2          1         0            1            0            0\n",
       "3          1         0            1            0            0\n",
       "4          1         0            1            0            0\n",
       "5          0         1            0            1            0\n",
       "6          0         1            0            1            0\n",
       "7          0         1            0            1            0\n",
       "8          0         1            0            1            0\n",
       "9          1         0            0            0            1\n",
       "10         1         0            0            0            1\n",
       "11         1         0            0            0            1"
      ]
     },
     "execution_count": 25,
     "metadata": {},
     "output_type": "execute_result"
    }
   ],
   "source": [
    "X_data_cat"
   ]
  },
  {
   "cell_type": "code",
   "execution_count": 26,
   "metadata": {
    "collapsed": false
   },
   "outputs": [],
   "source": [
    "# put all data columns together\n",
    "X = pd.concat([X_data_cat,full_table[X_cols_num]],axis=1) # Accounting for Cages and Sex\n",
    "# X = full_table[X_cols_num] # IGNORING Cages and Sex"
   ]
  },
  {
   "cell_type": "code",
   "execution_count": 27,
   "metadata": {
    "collapsed": false
   },
   "outputs": [
    {
     "data": {
      "text/html": [
       "<div>\n",
       "<table border=\"1\" class=\"dataframe\">\n",
       "  <thead>\n",
       "    <tr style=\"text-align: right;\">\n",
       "      <th></th>\n",
       "      <th>206494</th>\n",
       "      <th>276629</th>\n",
       "      <th>276620</th>\n",
       "      <th>330294</th>\n",
       "      <th>184456</th>\n",
       "      <th>273164</th>\n",
       "      <th>182583</th>\n",
       "      <th>4359056</th>\n",
       "      <th>339886</th>\n",
       "      <th>193680</th>\n",
       "      <th>...</th>\n",
       "      <th>New.CleanUp.ReferenceOTU56003</th>\n",
       "      <th>New.CleanUp.ReferenceOTU56005</th>\n",
       "      <th>New.CleanUp.ReferenceOTU56008</th>\n",
       "      <th>New.CleanUp.ReferenceOTU56017</th>\n",
       "      <th>New.CleanUp.ReferenceOTU56020</th>\n",
       "      <th>New.CleanUp.ReferenceOTU56032</th>\n",
       "      <th>New.CleanUp.ReferenceOTU56042</th>\n",
       "      <th>New.CleanUp.ReferenceOTU56061</th>\n",
       "      <th>New.CleanUp.ReferenceOTU56065</th>\n",
       "      <th>New.CleanUp.ReferenceOTU56069</th>\n",
       "    </tr>\n",
       "  </thead>\n",
       "  <tbody>\n",
       "    <tr>\n",
       "      <th>0</th>\n",
       "      <td>33</td>\n",
       "      <td>0</td>\n",
       "      <td>0</td>\n",
       "      <td>0</td>\n",
       "      <td>1</td>\n",
       "      <td>1</td>\n",
       "      <td>0</td>\n",
       "      <td>0</td>\n",
       "      <td>1</td>\n",
       "      <td>0</td>\n",
       "      <td>...</td>\n",
       "      <td>1</td>\n",
       "      <td>0</td>\n",
       "      <td>1</td>\n",
       "      <td>1</td>\n",
       "      <td>0</td>\n",
       "      <td>0</td>\n",
       "      <td>0</td>\n",
       "      <td>0</td>\n",
       "      <td>0</td>\n",
       "      <td>0</td>\n",
       "    </tr>\n",
       "    <tr>\n",
       "      <th>1</th>\n",
       "      <td>0</td>\n",
       "      <td>1</td>\n",
       "      <td>2</td>\n",
       "      <td>0</td>\n",
       "      <td>0</td>\n",
       "      <td>0</td>\n",
       "      <td>0</td>\n",
       "      <td>0</td>\n",
       "      <td>1</td>\n",
       "      <td>0</td>\n",
       "      <td>...</td>\n",
       "      <td>0</td>\n",
       "      <td>0</td>\n",
       "      <td>0</td>\n",
       "      <td>0</td>\n",
       "      <td>0</td>\n",
       "      <td>0</td>\n",
       "      <td>0</td>\n",
       "      <td>0</td>\n",
       "      <td>0</td>\n",
       "      <td>0</td>\n",
       "    </tr>\n",
       "    <tr>\n",
       "      <th>2</th>\n",
       "      <td>16</td>\n",
       "      <td>0</td>\n",
       "      <td>0</td>\n",
       "      <td>0</td>\n",
       "      <td>0</td>\n",
       "      <td>0</td>\n",
       "      <td>0</td>\n",
       "      <td>1</td>\n",
       "      <td>4</td>\n",
       "      <td>0</td>\n",
       "      <td>...</td>\n",
       "      <td>0</td>\n",
       "      <td>1</td>\n",
       "      <td>0</td>\n",
       "      <td>0</td>\n",
       "      <td>1</td>\n",
       "      <td>0</td>\n",
       "      <td>0</td>\n",
       "      <td>1</td>\n",
       "      <td>0</td>\n",
       "      <td>0</td>\n",
       "    </tr>\n",
       "    <tr>\n",
       "      <th>3</th>\n",
       "      <td>2272</td>\n",
       "      <td>0</td>\n",
       "      <td>0</td>\n",
       "      <td>2</td>\n",
       "      <td>1</td>\n",
       "      <td>0</td>\n",
       "      <td>0</td>\n",
       "      <td>0</td>\n",
       "      <td>1</td>\n",
       "      <td>0</td>\n",
       "      <td>...</td>\n",
       "      <td>0</td>\n",
       "      <td>0</td>\n",
       "      <td>0</td>\n",
       "      <td>0</td>\n",
       "      <td>0</td>\n",
       "      <td>0</td>\n",
       "      <td>0</td>\n",
       "      <td>0</td>\n",
       "      <td>0</td>\n",
       "      <td>0</td>\n",
       "    </tr>\n",
       "    <tr>\n",
       "      <th>4</th>\n",
       "      <td>190</td>\n",
       "      <td>1</td>\n",
       "      <td>0</td>\n",
       "      <td>0</td>\n",
       "      <td>0</td>\n",
       "      <td>2</td>\n",
       "      <td>0</td>\n",
       "      <td>1</td>\n",
       "      <td>2</td>\n",
       "      <td>0</td>\n",
       "      <td>...</td>\n",
       "      <td>0</td>\n",
       "      <td>0</td>\n",
       "      <td>0</td>\n",
       "      <td>0</td>\n",
       "      <td>0</td>\n",
       "      <td>0</td>\n",
       "      <td>1</td>\n",
       "      <td>1</td>\n",
       "      <td>1</td>\n",
       "      <td>0</td>\n",
       "    </tr>\n",
       "  </tbody>\n",
       "</table>\n",
       "<p>5 rows × 10757 columns</p>\n",
       "</div>"
      ],
      "text/plain": [
       "   206494  276629  276620  330294  184456  273164  182583  4359056  339886  \\\n",
       "0      33       0       0       0       1       1       0        0       1   \n",
       "1       0       1       2       0       0       0       0        0       1   \n",
       "2      16       0       0       0       0       0       0        1       4   \n",
       "3    2272       0       0       2       1       0       0        0       1   \n",
       "4     190       1       0       0       0       2       0        1       2   \n",
       "\n",
       "   193680              ...                New.CleanUp.ReferenceOTU56003  \\\n",
       "0       0              ...                                            1   \n",
       "1       0              ...                                            0   \n",
       "2       0              ...                                            0   \n",
       "3       0              ...                                            0   \n",
       "4       0              ...                                            0   \n",
       "\n",
       "   New.CleanUp.ReferenceOTU56005  New.CleanUp.ReferenceOTU56008  \\\n",
       "0                              0                              1   \n",
       "1                              0                              0   \n",
       "2                              1                              0   \n",
       "3                              0                              0   \n",
       "4                              0                              0   \n",
       "\n",
       "   New.CleanUp.ReferenceOTU56017  New.CleanUp.ReferenceOTU56020  \\\n",
       "0                              1                              0   \n",
       "1                              0                              0   \n",
       "2                              0                              1   \n",
       "3                              0                              0   \n",
       "4                              0                              0   \n",
       "\n",
       "   New.CleanUp.ReferenceOTU56032  New.CleanUp.ReferenceOTU56042  \\\n",
       "0                              0                              0   \n",
       "1                              0                              0   \n",
       "2                              0                              0   \n",
       "3                              0                              0   \n",
       "4                              0                              1   \n",
       "\n",
       "   New.CleanUp.ReferenceOTU56061  New.CleanUp.ReferenceOTU56065  \\\n",
       "0                              0                              0   \n",
       "1                              0                              0   \n",
       "2                              1                              0   \n",
       "3                              0                              0   \n",
       "4                              1                              1   \n",
       "\n",
       "   New.CleanUp.ReferenceOTU56069  \n",
       "0                              0  \n",
       "1                              0  \n",
       "2                              0  \n",
       "3                              0  \n",
       "4                              0  \n",
       "\n",
       "[5 rows x 10757 columns]"
      ]
     },
     "execution_count": 27,
     "metadata": {},
     "output_type": "execute_result"
    }
   ],
   "source": [
    "X.head()"
   ]
  },
  {
   "cell_type": "code",
   "execution_count": 28,
   "metadata": {
    "collapsed": false
   },
   "outputs": [],
   "source": [
    "X_train, X_test, y_train, y_test = train_test_split(X, y_geno_encoded,\n",
    "                                                    test_size=0.33, random_state=42,\n",
    "                                                   )\n",
    "\n"
   ]
  },
  {
   "cell_type": "code",
   "execution_count": 29,
   "metadata": {
    "collapsed": false
   },
   "outputs": [
    {
     "data": {
      "text/plain": [
       "array([1, 0, 2, 0, 1, 2, 2, 0])"
      ]
     },
     "execution_count": 29,
     "metadata": {},
     "output_type": "execute_result"
    }
   ],
   "source": [
    "y_train"
   ]
  },
  {
   "cell_type": "markdown",
   "metadata": {},
   "source": [
    "# Set up pipelines"
   ]
  },
  {
   "cell_type": "markdown",
   "metadata": {},
   "source": [
    "## SVM classifier"
   ]
  },
  {
   "cell_type": "code",
   "execution_count": 30,
   "metadata": {
    "collapsed": false
   },
   "outputs": [],
   "source": [
    "svc_param_grid = {'svc__C': 10. ** np.arange(-3, 3),\n",
    "                  'svc__gamma': 10. ** np.arange(-3, 3)\n",
    "                 }\n",
    "\n",
    "\n",
    "\n",
    "svc_pipe = make_pipeline(\n",
    "                         SVC(kernel='linear', random_state=42))"
   ]
  },
  {
   "cell_type": "code",
   "execution_count": 31,
   "metadata": {
    "collapsed": false
   },
   "outputs": [],
   "source": [
    "svc_grid = GridSearchCV(svc_pipe, param_grid=svc_param_grid, cv=2)"
   ]
  },
  {
   "cell_type": "code",
   "execution_count": 32,
   "metadata": {
    "collapsed": false
   },
   "outputs": [
    {
     "name": "stdout",
     "output_type": "stream",
     "text": [
      "{'svc__gamma': 0.001, 'svc__C': 0.001}\n"
     ]
    }
   ],
   "source": [
    "# svc_grid.fit(X_train, y_train)\n",
    "svc_grid.fit(X, y_geno_encoded)\n",
    "print(svc_grid.best_params_)"
   ]
  },
  {
   "cell_type": "code",
   "execution_count": 33,
   "metadata": {
    "collapsed": false
   },
   "outputs": [
    {
     "data": {
      "text/plain": [
       "array([2, 2, 0, 2, 1, 1, 0, 2, 2, 1, 0, 0])"
      ]
     },
     "execution_count": 33,
     "metadata": {},
     "output_type": "execute_result"
    }
   ],
   "source": [
    "svc_grid.predict(X)"
   ]
  },
  {
   "cell_type": "code",
   "execution_count": 34,
   "metadata": {
    "collapsed": false
   },
   "outputs": [
    {
     "data": {
      "text/plain": [
       "array([2, 2, 0, 2, 1, 1, 0, 2, 2, 1, 0, 0])"
      ]
     },
     "execution_count": 34,
     "metadata": {},
     "output_type": "execute_result"
    }
   ],
   "source": [
    "y_geno_encoded"
   ]
  },
  {
   "cell_type": "code",
   "execution_count": 35,
   "metadata": {
    "collapsed": false
   },
   "outputs": [],
   "source": [
    "svc_cm = confusion_matrix(y_geno_encoded,svc_grid.predict(X))"
   ]
  },
  {
   "cell_type": "code",
   "execution_count": 36,
   "metadata": {
    "collapsed": false
   },
   "outputs": [
    {
     "data": {
      "image/png": "[encoded data removed]",
      "text/plain": [
       "<matplotlib.figure.Figure at 0x7f455ea39850>"
      ]
     },
     "metadata": {},
     "output_type": "display_data"
    }
   ],
   "source": [
    "splearn.plot_confusion_matrix(cm=svc_cm, labels=geno_encoder.classes_, cmap='Blues', title=None,\n",
    "                 norm=False, context=None, annot=True);"
   ]
  },
  {
   "cell_type": "code",
   "execution_count": 37,
   "metadata": {
    "collapsed": false
   },
   "outputs": [
    {
     "data": {
      "image/png": "[encoded data removed]",
      "text/plain": [
       "<matplotlib.figure.Figure at 0x7f455e952b90>"
      ]
     },
     "metadata": {},
     "output_type": "display_data"
    }
   ],
   "source": [
    "splearn.plot_confusion_matrix(cm=svc_cm, labels=geno_encoder.classes_, cmap='Blues', title=None,\n",
    "                 norm=True, context=None, annot=True);"
   ]
  },
  {
   "cell_type": "markdown",
   "metadata": {},
   "source": [
    "## RandomizedLogisticRegression"
   ]
  },
  {
   "cell_type": "code",
   "execution_count": 38,
   "metadata": {
    "collapsed": true
   },
   "outputs": [],
   "source": [
    "rfst_param_grid = {'randomforestclassifier__n_estimators': np.arange(1,15,),\n",
    "                   'randomforestclassifier__min_samples_leaf': np.arange(1,10,2)\n",
    "                  }\n",
    "rfst_pipe = make_pipeline(RandomForestClassifier(random_state=42,n_jobs=8))"
   ]
  },
  {
   "cell_type": "markdown",
   "metadata": {},
   "source": [
    "## RandomForestClassifier"
   ]
  },
  {
   "cell_type": "code",
   "execution_count": 39,
   "metadata": {
    "collapsed": false
   },
   "outputs": [],
   "source": [
    "# scaler_minmax = ppro.MinMaxScaler()\n",
    "\n",
    "# clf_rfst = RandomForestClassifier(n_estimators=30, criterion='gini', \n",
    "#                                 max_depth=None, min_samples_split=2, \n",
    "#                                 min_samples_leaf=1, min_weight_fraction_leaf=0.0, \n",
    "#                                 max_features='auto', max_leaf_nodes=None, \n",
    "#                                 bootstrap=True, oob_score=False, n_jobs=6,\n",
    "#                                 random_state=None, verbose=0, warm_start=False, class_weight=None)\n",
    "\n",
    "\n",
    "rfst_param_grid = {'extratreesclassifier__n_estimators': np.arange(10,200,20),\n",
    "#                    'extratreesclassifier__min_samples_leaf': np.arange(1,10,2)\n",
    "                  }\n",
    "rfst_pipe = make_pipeline(ExtraTreesClassifier(random_state=42,n_jobs=8))"
   ]
  },
  {
   "cell_type": "code",
   "execution_count": 40,
   "metadata": {
    "collapsed": true
   },
   "outputs": [],
   "source": [
    "rfst_grid = GridSearchCV(rfst_pipe, param_grid=rfst_param_grid, cv=2)"
   ]
  },
  {
   "cell_type": "code",
   "execution_count": 41,
   "metadata": {
    "collapsed": false
   },
   "outputs": [
    {
     "name": "stdout",
     "output_type": "stream",
     "text": [
      "{'extratreesclassifier__n_estimators': 90}\n"
     ]
    }
   ],
   "source": [
    "# rfst_grid.fit(X_train, y_train)\n",
    "rfst_grid.fit(X, y_geno_encoded)\n",
    "print(rfst_grid.best_params_)"
   ]
  },
  {
   "cell_type": "code",
   "execution_count": 42,
   "metadata": {
    "collapsed": false
   },
   "outputs": [],
   "source": [
    "rfst_cm = confusion_matrix(y_geno_encoded,rfst_grid.predict(X))"
   ]
  },
  {
   "cell_type": "code",
   "execution_count": 43,
   "metadata": {
    "collapsed": false
   },
   "outputs": [
    {
     "data": {
      "image/png": "[encoded data removed]",
      "text/plain": [
       "<matplotlib.figure.Figure at 0x7f455e917290>"
      ]
     },
     "metadata": {},
     "output_type": "display_data"
    }
   ],
   "source": [
    "splearn.plot_confusion_matrix(cm=rfst_cm, labels=geno_encoder.classes_, cmap='Blues', title=None,\n",
    "                 norm=False, context=None, annot=True);"
   ]
  },
  {
   "cell_type": "code",
   "execution_count": 44,
   "metadata": {
    "collapsed": false
   },
   "outputs": [
    {
     "data": {
      "image/png": "[encoded data removed]",
      "text/plain": [
       "<matplotlib.figure.Figure at 0x7f455e917090>"
      ]
     },
     "metadata": {},
     "output_type": "display_data"
    }
   ],
   "source": [
    "splearn.plot_confusion_matrix(cm=rfst_cm, labels=geno_encoder.classes_, cmap='Blues', title=None,\n",
    "                 norm=True, context=None, annot=True);"
   ]
  },
  {
   "cell_type": "code",
   "execution_count": 45,
   "metadata": {
    "collapsed": false
   },
   "outputs": [],
   "source": [
    "# ExtraTreesClassifier"
   ]
  },
  {
   "cell_type": "code",
   "execution_count": 46,
   "metadata": {
    "collapsed": false
   },
   "outputs": [],
   "source": [
    "# # Build a forest and compute the feature importances\n",
    "# forest = ExtraTreesClassifier(n_estimators=250,\n",
    "#                               random_state=0)\n",
    "\n",
    "# forest.fit(X, y_geno_encoded)\n",
    "# importances = forest.feature_importances_\n",
    "# std = np.std([tree.feature_importances_ for tree in forest.estimators_],\n",
    "#              axis=0)\n",
    "# indices = np.argsort(importances)[::-1]\n",
    "\n",
    "# # Print the feature ranking\n",
    "# print(\"Feature ranking:\")\n",
    "\n",
    "# for f in range(X.shape[1]):\n",
    "#     print(\"%d. feature %d (%f)\" % (f + 1, indices[f], importances[indices[f]]))\n"
   ]
  },
  {
   "cell_type": "code",
   "execution_count": 47,
   "metadata": {
    "collapsed": false
   },
   "outputs": [],
   "source": [
    "# # Plot the feature importances of the forest\n",
    "# plt.figure()\n",
    "# plt.title(\"Feature importances\")\n",
    "# plt.bar(range(X.shape[1]), importances[indices],\n",
    "#        color=\"r\", yerr=std[indices], align=\"center\")\n",
    "# plt.xticks(range(X.shape[1]), indices)\n",
    "# plt.xlim([-1, X.shape[1]])\n",
    "# plt.show()\n"
   ]
  },
  {
   "cell_type": "code",
   "execution_count": 48,
   "metadata": {
    "collapsed": true
   },
   "outputs": [],
   "source": [
    "def repandasify(array, y_names, X_names=None):\n",
    "    df = pd.DataFrame(data=array, index=y_names,columns=X_names)\n",
    "    return df"
   ]
  },
  {
   "cell_type": "code",
   "execution_count": 49,
   "metadata": {
    "collapsed": true
   },
   "outputs": [],
   "source": [
    "pca = PCA(n_components=5, whiten=False)"
   ]
  },
  {
   "cell_type": "code",
   "execution_count": 50,
   "metadata": {
    "collapsed": false
   },
   "outputs": [
    {
     "data": {
      "text/plain": [
       "PCA(copy=True, n_components=5, whiten=False)"
      ]
     },
     "execution_count": 50,
     "metadata": {},
     "output_type": "execute_result"
    }
   ],
   "source": [
    "pca.fit(X,y_geno_encoded)"
   ]
  },
  {
   "cell_type": "code",
   "execution_count": 51,
   "metadata": {
    "collapsed": false
   },
   "outputs": [
    {
     "data": {
      "text/plain": [
       "array([ 0.42620708,  0.18503565,  0.11134279,  0.07150594,  0.05355426])"
      ]
     },
     "execution_count": 51,
     "metadata": {},
     "output_type": "execute_result"
    }
   ],
   "source": [
    "pca.explained_variance_ratio_"
   ]
  },
  {
   "cell_type": "code",
   "execution_count": 52,
   "metadata": {
    "collapsed": false
   },
   "outputs": [
    {
     "data": {
      "text/html": [
       "<div>\n",
       "<table border=\"1\" class=\"dataframe\">\n",
       "  <thead>\n",
       "    <tr style=\"text-align: right;\">\n",
       "      <th></th>\n",
       "      <th>206494</th>\n",
       "      <th>276629</th>\n",
       "      <th>276620</th>\n",
       "      <th>330294</th>\n",
       "      <th>184456</th>\n",
       "      <th>273164</th>\n",
       "      <th>182583</th>\n",
       "      <th>4359056</th>\n",
       "      <th>339886</th>\n",
       "      <th>193680</th>\n",
       "      <th>...</th>\n",
       "      <th>New.CleanUp.ReferenceOTU56003</th>\n",
       "      <th>New.CleanUp.ReferenceOTU56005</th>\n",
       "      <th>New.CleanUp.ReferenceOTU56008</th>\n",
       "      <th>New.CleanUp.ReferenceOTU56017</th>\n",
       "      <th>New.CleanUp.ReferenceOTU56020</th>\n",
       "      <th>New.CleanUp.ReferenceOTU56032</th>\n",
       "      <th>New.CleanUp.ReferenceOTU56042</th>\n",
       "      <th>New.CleanUp.ReferenceOTU56061</th>\n",
       "      <th>New.CleanUp.ReferenceOTU56065</th>\n",
       "      <th>New.CleanUp.ReferenceOTU56069</th>\n",
       "    </tr>\n",
       "  </thead>\n",
       "  <tbody>\n",
       "    <tr>\n",
       "      <th>0</th>\n",
       "      <td>33</td>\n",
       "      <td>0</td>\n",
       "      <td>0</td>\n",
       "      <td>0</td>\n",
       "      <td>1</td>\n",
       "      <td>1</td>\n",
       "      <td>0</td>\n",
       "      <td>0</td>\n",
       "      <td>1</td>\n",
       "      <td>0</td>\n",
       "      <td>...</td>\n",
       "      <td>1</td>\n",
       "      <td>0</td>\n",
       "      <td>1</td>\n",
       "      <td>1</td>\n",
       "      <td>0</td>\n",
       "      <td>0</td>\n",
       "      <td>0</td>\n",
       "      <td>0</td>\n",
       "      <td>0</td>\n",
       "      <td>0</td>\n",
       "    </tr>\n",
       "    <tr>\n",
       "      <th>1</th>\n",
       "      <td>0</td>\n",
       "      <td>1</td>\n",
       "      <td>2</td>\n",
       "      <td>0</td>\n",
       "      <td>0</td>\n",
       "      <td>0</td>\n",
       "      <td>0</td>\n",
       "      <td>0</td>\n",
       "      <td>1</td>\n",
       "      <td>0</td>\n",
       "      <td>...</td>\n",
       "      <td>0</td>\n",
       "      <td>0</td>\n",
       "      <td>0</td>\n",
       "      <td>0</td>\n",
       "      <td>0</td>\n",
       "      <td>0</td>\n",
       "      <td>0</td>\n",
       "      <td>0</td>\n",
       "      <td>0</td>\n",
       "      <td>0</td>\n",
       "    </tr>\n",
       "    <tr>\n",
       "      <th>2</th>\n",
       "      <td>16</td>\n",
       "      <td>0</td>\n",
       "      <td>0</td>\n",
       "      <td>0</td>\n",
       "      <td>0</td>\n",
       "      <td>0</td>\n",
       "      <td>0</td>\n",
       "      <td>1</td>\n",
       "      <td>4</td>\n",
       "      <td>0</td>\n",
       "      <td>...</td>\n",
       "      <td>0</td>\n",
       "      <td>1</td>\n",
       "      <td>0</td>\n",
       "      <td>0</td>\n",
       "      <td>1</td>\n",
       "      <td>0</td>\n",
       "      <td>0</td>\n",
       "      <td>1</td>\n",
       "      <td>0</td>\n",
       "      <td>0</td>\n",
       "    </tr>\n",
       "    <tr>\n",
       "      <th>3</th>\n",
       "      <td>2272</td>\n",
       "      <td>0</td>\n",
       "      <td>0</td>\n",
       "      <td>2</td>\n",
       "      <td>1</td>\n",
       "      <td>0</td>\n",
       "      <td>0</td>\n",
       "      <td>0</td>\n",
       "      <td>1</td>\n",
       "      <td>0</td>\n",
       "      <td>...</td>\n",
       "      <td>0</td>\n",
       "      <td>0</td>\n",
       "      <td>0</td>\n",
       "      <td>0</td>\n",
       "      <td>0</td>\n",
       "      <td>0</td>\n",
       "      <td>0</td>\n",
       "      <td>0</td>\n",
       "      <td>0</td>\n",
       "      <td>0</td>\n",
       "    </tr>\n",
       "    <tr>\n",
       "      <th>4</th>\n",
       "      <td>190</td>\n",
       "      <td>1</td>\n",
       "      <td>0</td>\n",
       "      <td>0</td>\n",
       "      <td>0</td>\n",
       "      <td>2</td>\n",
       "      <td>0</td>\n",
       "      <td>1</td>\n",
       "      <td>2</td>\n",
       "      <td>0</td>\n",
       "      <td>...</td>\n",
       "      <td>0</td>\n",
       "      <td>0</td>\n",
       "      <td>0</td>\n",
       "      <td>0</td>\n",
       "      <td>0</td>\n",
       "      <td>0</td>\n",
       "      <td>1</td>\n",
       "      <td>1</td>\n",
       "      <td>1</td>\n",
       "      <td>0</td>\n",
       "    </tr>\n",
       "  </tbody>\n",
       "</table>\n",
       "<p>5 rows × 10757 columns</p>\n",
       "</div>"
      ],
      "text/plain": [
       "   206494  276629  276620  330294  184456  273164  182583  4359056  339886  \\\n",
       "0      33       0       0       0       1       1       0        0       1   \n",
       "1       0       1       2       0       0       0       0        0       1   \n",
       "2      16       0       0       0       0       0       0        1       4   \n",
       "3    2272       0       0       2       1       0       0        0       1   \n",
       "4     190       1       0       0       0       2       0        1       2   \n",
       "\n",
       "   193680              ...                New.CleanUp.ReferenceOTU56003  \\\n",
       "0       0              ...                                            1   \n",
       "1       0              ...                                            0   \n",
       "2       0              ...                                            0   \n",
       "3       0              ...                                            0   \n",
       "4       0              ...                                            0   \n",
       "\n",
       "   New.CleanUp.ReferenceOTU56005  New.CleanUp.ReferenceOTU56008  \\\n",
       "0                              0                              1   \n",
       "1                              0                              0   \n",
       "2                              1                              0   \n",
       "3                              0                              0   \n",
       "4                              0                              0   \n",
       "\n",
       "   New.CleanUp.ReferenceOTU56017  New.CleanUp.ReferenceOTU56020  \\\n",
       "0                              1                              0   \n",
       "1                              0                              0   \n",
       "2                              0                              1   \n",
       "3                              0                              0   \n",
       "4                              0                              0   \n",
       "\n",
       "   New.CleanUp.ReferenceOTU56032  New.CleanUp.ReferenceOTU56042  \\\n",
       "0                              0                              0   \n",
       "1                              0                              0   \n",
       "2                              0                              0   \n",
       "3                              0                              0   \n",
       "4                              0                              1   \n",
       "\n",
       "   New.CleanUp.ReferenceOTU56061  New.CleanUp.ReferenceOTU56065  \\\n",
       "0                              0                              0   \n",
       "1                              0                              0   \n",
       "2                              1                              0   \n",
       "3                              0                              0   \n",
       "4                              1                              1   \n",
       "\n",
       "   New.CleanUp.ReferenceOTU56069  \n",
       "0                              0  \n",
       "1                              0  \n",
       "2                              0  \n",
       "3                              0  \n",
       "4                              0  \n",
       "\n",
       "[5 rows x 10757 columns]"
      ]
     },
     "execution_count": 52,
     "metadata": {},
     "output_type": "execute_result"
    }
   ],
   "source": [
    "X.head()"
   ]
  },
  {
   "cell_type": "code",
   "execution_count": 53,
   "metadata": {
    "collapsed": true
   },
   "outputs": [],
   "source": [
    "pca_t = pca.transform(X)"
   ]
  },
  {
   "cell_type": "code",
   "execution_count": 54,
   "metadata": {
    "collapsed": false
   },
   "outputs": [
    {
     "data": {
      "text/plain": [
       "5"
      ]
     },
     "execution_count": 54,
     "metadata": {},
     "output_type": "execute_result"
    }
   ],
   "source": [
    "len(pca_t[0])"
   ]
  },
  {
   "cell_type": "code",
   "execution_count": 55,
   "metadata": {
    "collapsed": false
   },
   "outputs": [],
   "source": [
    "pca_t_l = repandasify(array=pca_t, y_names=geno_encoder.inverse_transform(y_geno_encoded), X_names=['PC {v_}'.format(v_=v+1) for v in range(len(pca_t[0]))])"
   ]
  },
  {
   "cell_type": "code",
   "execution_count": 56,
   "metadata": {
    "collapsed": false
   },
   "outputs": [
    {
     "data": {
      "text/html": [
       "<div>\n",
       "<table border=\"1\" class=\"dataframe\">\n",
       "  <thead>\n",
       "    <tr style=\"text-align: right;\">\n",
       "      <th></th>\n",
       "      <th>PC 1</th>\n",
       "      <th>PC 2</th>\n",
       "      <th>PC 3</th>\n",
       "      <th>PC 4</th>\n",
       "      <th>PC 5</th>\n",
       "      <th>geno</th>\n",
       "    </tr>\n",
       "  </thead>\n",
       "  <tbody>\n",
       "    <tr>\n",
       "      <th>0</th>\n",
       "      <td>-4574.340792</td>\n",
       "      <td>5684.770077</td>\n",
       "      <td>3857.953101</td>\n",
       "      <td>-404.900451</td>\n",
       "      <td>-1853.522361</td>\n",
       "      <td>WT</td>\n",
       "    </tr>\n",
       "    <tr>\n",
       "      <th>1</th>\n",
       "      <td>-2382.729202</td>\n",
       "      <td>-8.960490</td>\n",
       "      <td>-1503.502852</td>\n",
       "      <td>-1192.881318</td>\n",
       "      <td>-415.788740</td>\n",
       "      <td>WT</td>\n",
       "    </tr>\n",
       "    <tr>\n",
       "      <th>2</th>\n",
       "      <td>-1987.228875</td>\n",
       "      <td>2026.056370</td>\n",
       "      <td>-1599.941909</td>\n",
       "      <td>1906.815468</td>\n",
       "      <td>-446.241769</td>\n",
       "      <td>TregWKO</td>\n",
       "    </tr>\n",
       "    <tr>\n",
       "      <th>3</th>\n",
       "      <td>-370.346384</td>\n",
       "      <td>-796.493477</td>\n",
       "      <td>-3092.374400</td>\n",
       "      <td>-1406.825081</td>\n",
       "      <td>-766.307801</td>\n",
       "      <td>WT</td>\n",
       "    </tr>\n",
       "    <tr>\n",
       "      <th>4</th>\n",
       "      <td>-1536.185403</td>\n",
       "      <td>-1103.569271</td>\n",
       "      <td>1490.895484</td>\n",
       "      <td>1443.670436</td>\n",
       "      <td>4393.409528</td>\n",
       "      <td>WKO</td>\n",
       "    </tr>\n",
       "    <tr>\n",
       "      <th>5</th>\n",
       "      <td>4021.769591</td>\n",
       "      <td>-6568.866273</td>\n",
       "      <td>3110.531127</td>\n",
       "      <td>1167.811394</td>\n",
       "      <td>-2358.448288</td>\n",
       "      <td>WKO</td>\n",
       "    </tr>\n",
       "    <tr>\n",
       "      <th>6</th>\n",
       "      <td>13584.677585</td>\n",
       "      <td>3583.470965</td>\n",
       "      <td>-389.065845</td>\n",
       "      <td>-970.506976</td>\n",
       "      <td>525.820623</td>\n",
       "      <td>TregWKO</td>\n",
       "    </tr>\n",
       "    <tr>\n",
       "      <th>7</th>\n",
       "      <td>-1996.222144</td>\n",
       "      <td>-1284.500127</td>\n",
       "      <td>-3268.635918</td>\n",
       "      <td>644.334638</td>\n",
       "      <td>-467.258632</td>\n",
       "      <td>WT</td>\n",
       "    </tr>\n",
       "    <tr>\n",
       "      <th>8</th>\n",
       "      <td>-380.892989</td>\n",
       "      <td>-1905.120918</td>\n",
       "      <td>-1137.083532</td>\n",
       "      <td>1073.252554</td>\n",
       "      <td>104.268751</td>\n",
       "      <td>WT</td>\n",
       "    </tr>\n",
       "    <tr>\n",
       "      <th>9</th>\n",
       "      <td>-2510.519795</td>\n",
       "      <td>-2104.353271</td>\n",
       "      <td>1755.724796</td>\n",
       "      <td>-4862.098020</td>\n",
       "      <td>1049.917602</td>\n",
       "      <td>WKO</td>\n",
       "    </tr>\n",
       "    <tr>\n",
       "      <th>10</th>\n",
       "      <td>-1685.252910</td>\n",
       "      <td>1572.837532</td>\n",
       "      <td>-1595.778255</td>\n",
       "      <td>503.901977</td>\n",
       "      <td>-157.583509</td>\n",
       "      <td>TregWKO</td>\n",
       "    </tr>\n",
       "    <tr>\n",
       "      <th>11</th>\n",
       "      <td>-182.728681</td>\n",
       "      <td>904.728883</td>\n",
       "      <td>2371.278202</td>\n",
       "      <td>2097.425378</td>\n",
       "      <td>391.734595</td>\n",
       "      <td>TregWKO</td>\n",
       "    </tr>\n",
       "  </tbody>\n",
       "</table>\n",
       "</div>"
      ],
      "text/plain": [
       "            PC 1         PC 2         PC 3         PC 4         PC 5     geno\n",
       "0   -4574.340792  5684.770077  3857.953101  -404.900451 -1853.522361       WT\n",
       "1   -2382.729202    -8.960490 -1503.502852 -1192.881318  -415.788740       WT\n",
       "2   -1987.228875  2026.056370 -1599.941909  1906.815468  -446.241769  TregWKO\n",
       "3    -370.346384  -796.493477 -3092.374400 -1406.825081  -766.307801       WT\n",
       "4   -1536.185403 -1103.569271  1490.895484  1443.670436  4393.409528      WKO\n",
       "5    4021.769591 -6568.866273  3110.531127  1167.811394 -2358.448288      WKO\n",
       "6   13584.677585  3583.470965  -389.065845  -970.506976   525.820623  TregWKO\n",
       "7   -1996.222144 -1284.500127 -3268.635918   644.334638  -467.258632       WT\n",
       "8    -380.892989 -1905.120918 -1137.083532  1073.252554   104.268751       WT\n",
       "9   -2510.519795 -2104.353271  1755.724796 -4862.098020  1049.917602      WKO\n",
       "10  -1685.252910  1572.837532 -1595.778255   503.901977  -157.583509  TregWKO\n",
       "11   -182.728681   904.728883  2371.278202  2097.425378   391.734595  TregWKO"
      ]
     },
     "execution_count": 56,
     "metadata": {},
     "output_type": "execute_result"
    }
   ],
   "source": [
    "pca_t_l['geno'] = pca_t_l.index.values\n",
    "pca_t_l = pca_t_l.reset_index(drop=True)\n",
    "pca_t_l"
   ]
  },
  {
   "cell_type": "code",
   "execution_count": 57,
   "metadata": {
    "collapsed": false
   },
   "outputs": [
    {
     "data": {
      "text/html": [
       "<div>\n",
       "<table border=\"1\" class=\"dataframe\">\n",
       "  <thead>\n",
       "    <tr style=\"text-align: right;\">\n",
       "      <th></th>\n",
       "      <th>PC 1</th>\n",
       "      <th>PC 2</th>\n",
       "      <th>PC 3</th>\n",
       "      <th>PC 4</th>\n",
       "      <th>PC 5</th>\n",
       "      <th>geno</th>\n",
       "    </tr>\n",
       "  </thead>\n",
       "  <tbody>\n",
       "    <tr>\n",
       "      <th>0</th>\n",
       "      <td>-4574.340792</td>\n",
       "      <td>5684.770077</td>\n",
       "      <td>3857.953101</td>\n",
       "      <td>-404.900451</td>\n",
       "      <td>-1853.522361</td>\n",
       "      <td>WT</td>\n",
       "    </tr>\n",
       "    <tr>\n",
       "      <th>1</th>\n",
       "      <td>-2382.729202</td>\n",
       "      <td>-8.960490</td>\n",
       "      <td>-1503.502852</td>\n",
       "      <td>-1192.881318</td>\n",
       "      <td>-415.788740</td>\n",
       "      <td>WT</td>\n",
       "    </tr>\n",
       "    <tr>\n",
       "      <th>2</th>\n",
       "      <td>-1987.228875</td>\n",
       "      <td>2026.056370</td>\n",
       "      <td>-1599.941909</td>\n",
       "      <td>1906.815468</td>\n",
       "      <td>-446.241769</td>\n",
       "      <td>TregWKO</td>\n",
       "    </tr>\n",
       "    <tr>\n",
       "      <th>3</th>\n",
       "      <td>-370.346384</td>\n",
       "      <td>-796.493477</td>\n",
       "      <td>-3092.374400</td>\n",
       "      <td>-1406.825081</td>\n",
       "      <td>-766.307801</td>\n",
       "      <td>WT</td>\n",
       "    </tr>\n",
       "    <tr>\n",
       "      <th>4</th>\n",
       "      <td>-1536.185403</td>\n",
       "      <td>-1103.569271</td>\n",
       "      <td>1490.895484</td>\n",
       "      <td>1443.670436</td>\n",
       "      <td>4393.409528</td>\n",
       "      <td>WKO</td>\n",
       "    </tr>\n",
       "    <tr>\n",
       "      <th>5</th>\n",
       "      <td>4021.769591</td>\n",
       "      <td>-6568.866273</td>\n",
       "      <td>3110.531127</td>\n",
       "      <td>1167.811394</td>\n",
       "      <td>-2358.448288</td>\n",
       "      <td>WKO</td>\n",
       "    </tr>\n",
       "    <tr>\n",
       "      <th>6</th>\n",
       "      <td>13584.677585</td>\n",
       "      <td>3583.470965</td>\n",
       "      <td>-389.065845</td>\n",
       "      <td>-970.506976</td>\n",
       "      <td>525.820623</td>\n",
       "      <td>TregWKO</td>\n",
       "    </tr>\n",
       "    <tr>\n",
       "      <th>7</th>\n",
       "      <td>-1996.222144</td>\n",
       "      <td>-1284.500127</td>\n",
       "      <td>-3268.635918</td>\n",
       "      <td>644.334638</td>\n",
       "      <td>-467.258632</td>\n",
       "      <td>WT</td>\n",
       "    </tr>\n",
       "    <tr>\n",
       "      <th>8</th>\n",
       "      <td>-380.892989</td>\n",
       "      <td>-1905.120918</td>\n",
       "      <td>-1137.083532</td>\n",
       "      <td>1073.252554</td>\n",
       "      <td>104.268751</td>\n",
       "      <td>WT</td>\n",
       "    </tr>\n",
       "    <tr>\n",
       "      <th>9</th>\n",
       "      <td>-2510.519795</td>\n",
       "      <td>-2104.353271</td>\n",
       "      <td>1755.724796</td>\n",
       "      <td>-4862.098020</td>\n",
       "      <td>1049.917602</td>\n",
       "      <td>WKO</td>\n",
       "    </tr>\n",
       "    <tr>\n",
       "      <th>10</th>\n",
       "      <td>-1685.252910</td>\n",
       "      <td>1572.837532</td>\n",
       "      <td>-1595.778255</td>\n",
       "      <td>503.901977</td>\n",
       "      <td>-157.583509</td>\n",
       "      <td>TregWKO</td>\n",
       "    </tr>\n",
       "    <tr>\n",
       "      <th>11</th>\n",
       "      <td>-182.728681</td>\n",
       "      <td>904.728883</td>\n",
       "      <td>2371.278202</td>\n",
       "      <td>2097.425378</td>\n",
       "      <td>391.734595</td>\n",
       "      <td>TregWKO</td>\n",
       "    </tr>\n",
       "  </tbody>\n",
       "</table>\n",
       "</div>"
      ],
      "text/plain": [
       "            PC 1         PC 2         PC 3         PC 4         PC 5     geno\n",
       "0   -4574.340792  5684.770077  3857.953101  -404.900451 -1853.522361       WT\n",
       "1   -2382.729202    -8.960490 -1503.502852 -1192.881318  -415.788740       WT\n",
       "2   -1987.228875  2026.056370 -1599.941909  1906.815468  -446.241769  TregWKO\n",
       "3    -370.346384  -796.493477 -3092.374400 -1406.825081  -766.307801       WT\n",
       "4   -1536.185403 -1103.569271  1490.895484  1443.670436  4393.409528      WKO\n",
       "5    4021.769591 -6568.866273  3110.531127  1167.811394 -2358.448288      WKO\n",
       "6   13584.677585  3583.470965  -389.065845  -970.506976   525.820623  TregWKO\n",
       "7   -1996.222144 -1284.500127 -3268.635918   644.334638  -467.258632       WT\n",
       "8    -380.892989 -1905.120918 -1137.083532  1073.252554   104.268751       WT\n",
       "9   -2510.519795 -2104.353271  1755.724796 -4862.098020  1049.917602      WKO\n",
       "10  -1685.252910  1572.837532 -1595.778255   503.901977  -157.583509  TregWKO\n",
       "11   -182.728681   904.728883  2371.278202  2097.425378   391.734595  TregWKO"
      ]
     },
     "execution_count": 57,
     "metadata": {},
     "output_type": "execute_result"
    }
   ],
   "source": [
    "pca_t_l"
   ]
  },
  {
   "cell_type": "code",
   "execution_count": 58,
   "metadata": {
    "collapsed": false
   },
   "outputs": [
    {
     "data": {
      "image/png": "[encoded data removed]",
      "text/plain": [
       "<matplotlib.figure.Figure at 0x7f455e887c10>"
      ]
     },
     "metadata": {},
     "output_type": "display_data"
    }
   ],
   "source": [
    "with sns.axes_style(\"white\"):\n",
    "    sns.lmplot(x='PC 1', y='PC 2', data=pca_t_l, \n",
    "               hue='geno', palette=None,\n",
    "               fit_reg=False);"
   ]
  },
  {
   "cell_type": "code",
   "execution_count": null,
   "metadata": {
    "collapsed": true
   },
   "outputs": [],
   "source": []
  }
 ],
 "metadata": {
  "kernelspec": {
   "display_name": "Python 2",
   "language": "python",
   "name": "python2"
  },
  "language_info": {
   "codemirror_mode": {
    "name": "ipython",
    "version": 2
   },
   "file_extension": ".py",
   "mimetype": "text/x-python",
   "name": "python",
   "nbconvert_exporter": "python",
   "pygments_lexer": "ipython2",
   "version": "2.7.11"
  }
 },
 "nbformat": 4,
 "nbformat_minor": 0
}
