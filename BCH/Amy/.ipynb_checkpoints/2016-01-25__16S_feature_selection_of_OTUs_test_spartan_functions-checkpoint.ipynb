{
 "cells": [
  {
   "cell_type": "code",
   "execution_count": 1,
   "metadata": {
    "collapsed": false
   },
   "outputs": [],
   "source": [
    "%matplotlib inline\n",
    "# %matplotlib"
   ]
  },
  {
   "cell_type": "code",
   "execution_count": 2,
   "metadata": {
    "collapsed": true
   },
   "outputs": [],
   "source": [
    "from __future__ import division,print_function"
   ]
  },
  {
   "cell_type": "code",
   "execution_count": 3,
   "metadata": {
    "collapsed": false
   },
   "outputs": [],
   "source": [
    "from spartan.utils.sklearn import model_assessment, feature_selection\n",
    "from spartan.utils.sklearn import pandas_helpers"
   ]
  },
  {
   "cell_type": "code",
   "execution_count": 4,
   "metadata": {
    "collapsed": false
   },
   "outputs": [],
   "source": [
    "from collections import Counter, defaultdict\n",
    "import math\n",
    "\n",
    "import numpy as np\n",
    "import pandas as pd\n",
    "import sklearn as skl\n",
    "import sklearn.preprocessing as ppro\n",
    "\n",
    "from sklearn.pipeline import Pipeline\n",
    "from sklearn.pipeline import make_pipeline\n",
    "\n",
    "from sklearn.decomposition import PCA, RandomizedPCA, KernelPCA, FactorAnalysis\n",
    "from sklearn.manifold import TSNE\n",
    "from sklearn.discriminant_analysis import LinearDiscriminantAnalysis\n",
    "\n",
    "from sklearn.grid_search import GridSearchCV\n",
    "from sklearn.cross_validation import train_test_split\n",
    "\n",
    "from sklearn.svm import SVC, LinearSVC\n",
    "from sklearn.ensemble import RandomForestClassifier,ExtraTreesClassifier\n",
    "\n",
    "from sklearn.linear_model import LogisticRegression\n",
    "from sklearn.linear_model import RandomizedLogisticRegression\n",
    "from sklearn.linear_model import Lasso\n",
    "\n",
    "from sklearn.feature_selection import SelectKBest\n",
    "\n",
    "from sklearn.metrics import confusion_matrix\n",
    "\n",
    "from sklearn.feature_selection import SelectFromModel"
   ]
  },
  {
   "cell_type": "code",
   "execution_count": 5,
   "metadata": {
    "collapsed": true
   },
   "outputs": [],
   "source": [
    "from matplotlib import pyplot as plt\n",
    "import seaborn as sns"
   ]
  },
  {
   "cell_type": "code",
   "execution_count": 6,
   "metadata": {
    "collapsed": false
   },
   "outputs": [],
   "source": [
    "sns.set_context('poster')"
   ]
  },
  {
   "cell_type": "code",
   "execution_count": 7,
   "metadata": {
    "collapsed": true
   },
   "outputs": [],
   "source": [
    "tax_path = \"/home/gus/MEGAsync/zim/main/BCH/Projects/Amy/2016-01-07_~_16s_data/otu_table_mc2_w_tax_no_pynast_failures.biom.TAXON.tsv\"\n",
    "map_path = \"/home/gus/MEGAsync/zim/main/BCH/Projects/Amy/2016-01-07_~_16s_data/BL6SPFDec16map.txt\""
   ]
  },
  {
   "cell_type": "code",
   "execution_count": 8,
   "metadata": {
    "collapsed": true
   },
   "outputs": [],
   "source": [
    "tax = pd.read_csv(filepath_or_buffer=tax_path, sep='\\t', \n",
    "                  quoting=0, skipinitialspace=False, lineterminator=None, header='infer', index_col=None, names=None)\n",
    "\n",
    "meta = pd.read_csv(filepath_or_buffer=map_path, sep='\\t')"
   ]
  },
  {
   "cell_type": "code",
   "execution_count": 9,
   "metadata": {
    "collapsed": false
   },
   "outputs": [
    {
     "data": {
      "text/html": [
       "<div>\n",
       "<table border=\"1\" class=\"dataframe\">\n",
       "  <thead>\n",
       "    <tr style=\"text-align: right;\">\n",
       "      <th></th>\n",
       "      <th>OTU ID</th>\n",
       "      <th>23</th>\n",
       "      <th>25</th>\n",
       "      <th>27</th>\n",
       "      <th>28</th>\n",
       "      <th>30</th>\n",
       "      <th>39</th>\n",
       "      <th>41</th>\n",
       "      <th>8</th>\n",
       "      <th>24</th>\n",
       "      <th>7</th>\n",
       "      <th>9</th>\n",
       "      <th>5</th>\n",
       "    </tr>\n",
       "  </thead>\n",
       "  <tbody>\n",
       "    <tr>\n",
       "      <th>0</th>\n",
       "      <td>206494</td>\n",
       "      <td>33</td>\n",
       "      <td>16</td>\n",
       "      <td>190</td>\n",
       "      <td>11</td>\n",
       "      <td>92</td>\n",
       "      <td>12</td>\n",
       "      <td>2272</td>\n",
       "      <td>2</td>\n",
       "      <td>0</td>\n",
       "      <td>0</td>\n",
       "      <td>0</td>\n",
       "      <td>0</td>\n",
       "    </tr>\n",
       "    <tr>\n",
       "      <th>1</th>\n",
       "      <td>276629</td>\n",
       "      <td>0</td>\n",
       "      <td>0</td>\n",
       "      <td>1</td>\n",
       "      <td>0</td>\n",
       "      <td>0</td>\n",
       "      <td>0</td>\n",
       "      <td>0</td>\n",
       "      <td>0</td>\n",
       "      <td>1</td>\n",
       "      <td>1</td>\n",
       "      <td>0</td>\n",
       "      <td>0</td>\n",
       "    </tr>\n",
       "    <tr>\n",
       "      <th>2</th>\n",
       "      <td>276620</td>\n",
       "      <td>0</td>\n",
       "      <td>0</td>\n",
       "      <td>0</td>\n",
       "      <td>0</td>\n",
       "      <td>0</td>\n",
       "      <td>0</td>\n",
       "      <td>0</td>\n",
       "      <td>0</td>\n",
       "      <td>2</td>\n",
       "      <td>1</td>\n",
       "      <td>1</td>\n",
       "      <td>0</td>\n",
       "    </tr>\n",
       "    <tr>\n",
       "      <th>3</th>\n",
       "      <td>330294</td>\n",
       "      <td>0</td>\n",
       "      <td>0</td>\n",
       "      <td>0</td>\n",
       "      <td>0</td>\n",
       "      <td>0</td>\n",
       "      <td>0</td>\n",
       "      <td>2</td>\n",
       "      <td>0</td>\n",
       "      <td>0</td>\n",
       "      <td>0</td>\n",
       "      <td>2</td>\n",
       "      <td>0</td>\n",
       "    </tr>\n",
       "    <tr>\n",
       "      <th>4</th>\n",
       "      <td>184456</td>\n",
       "      <td>1</td>\n",
       "      <td>0</td>\n",
       "      <td>0</td>\n",
       "      <td>0</td>\n",
       "      <td>0</td>\n",
       "      <td>0</td>\n",
       "      <td>1</td>\n",
       "      <td>0</td>\n",
       "      <td>0</td>\n",
       "      <td>0</td>\n",
       "      <td>0</td>\n",
       "      <td>0</td>\n",
       "    </tr>\n",
       "  </tbody>\n",
       "</table>\n",
       "</div>"
      ],
      "text/plain": [
       "   OTU ID  23  25   27  28  30  39    41  8  24  7  9  5\n",
       "0  206494  33  16  190  11  92  12  2272  2   0  0  0  0\n",
       "1  276629   0   0    1   0   0   0     0  0   1  1  0  0\n",
       "2  276620   0   0    0   0   0   0     0  0   2  1  1  0\n",
       "3  330294   0   0    0   0   0   0     2  0   0  0  2  0\n",
       "4  184456   1   0    0   0   0   0     1  0   0  0  0  0"
      ]
     },
     "execution_count": 9,
     "metadata": {},
     "output_type": "execute_result"
    }
   ],
   "source": [
    "tax.head()"
   ]
  },
  {
   "cell_type": "code",
   "execution_count": 10,
   "metadata": {
    "collapsed": false
   },
   "outputs": [],
   "source": [
    "tax.index = tax['OTU ID'].values\n",
    "tax = tax.drop(['OTU ID'],axis=1)"
   ]
  },
  {
   "cell_type": "code",
   "execution_count": 11,
   "metadata": {
    "collapsed": false
   },
   "outputs": [
    {
     "data": {
      "text/html": [
       "<div>\n",
       "<table border=\"1\" class=\"dataframe\">\n",
       "  <thead>\n",
       "    <tr style=\"text-align: right;\">\n",
       "      <th></th>\n",
       "      <th>23</th>\n",
       "      <th>25</th>\n",
       "      <th>27</th>\n",
       "      <th>28</th>\n",
       "      <th>30</th>\n",
       "      <th>39</th>\n",
       "      <th>41</th>\n",
       "      <th>8</th>\n",
       "      <th>24</th>\n",
       "      <th>7</th>\n",
       "      <th>9</th>\n",
       "      <th>5</th>\n",
       "    </tr>\n",
       "  </thead>\n",
       "  <tbody>\n",
       "    <tr>\n",
       "      <th>206494</th>\n",
       "      <td>33</td>\n",
       "      <td>16</td>\n",
       "      <td>190</td>\n",
       "      <td>11</td>\n",
       "      <td>92</td>\n",
       "      <td>12</td>\n",
       "      <td>2272</td>\n",
       "      <td>2</td>\n",
       "      <td>0</td>\n",
       "      <td>0</td>\n",
       "      <td>0</td>\n",
       "      <td>0</td>\n",
       "    </tr>\n",
       "    <tr>\n",
       "      <th>276629</th>\n",
       "      <td>0</td>\n",
       "      <td>0</td>\n",
       "      <td>1</td>\n",
       "      <td>0</td>\n",
       "      <td>0</td>\n",
       "      <td>0</td>\n",
       "      <td>0</td>\n",
       "      <td>0</td>\n",
       "      <td>1</td>\n",
       "      <td>1</td>\n",
       "      <td>0</td>\n",
       "      <td>0</td>\n",
       "    </tr>\n",
       "    <tr>\n",
       "      <th>276620</th>\n",
       "      <td>0</td>\n",
       "      <td>0</td>\n",
       "      <td>0</td>\n",
       "      <td>0</td>\n",
       "      <td>0</td>\n",
       "      <td>0</td>\n",
       "      <td>0</td>\n",
       "      <td>0</td>\n",
       "      <td>2</td>\n",
       "      <td>1</td>\n",
       "      <td>1</td>\n",
       "      <td>0</td>\n",
       "    </tr>\n",
       "    <tr>\n",
       "      <th>330294</th>\n",
       "      <td>0</td>\n",
       "      <td>0</td>\n",
       "      <td>0</td>\n",
       "      <td>0</td>\n",
       "      <td>0</td>\n",
       "      <td>0</td>\n",
       "      <td>2</td>\n",
       "      <td>0</td>\n",
       "      <td>0</td>\n",
       "      <td>0</td>\n",
       "      <td>2</td>\n",
       "      <td>0</td>\n",
       "    </tr>\n",
       "    <tr>\n",
       "      <th>184456</th>\n",
       "      <td>1</td>\n",
       "      <td>0</td>\n",
       "      <td>0</td>\n",
       "      <td>0</td>\n",
       "      <td>0</td>\n",
       "      <td>0</td>\n",
       "      <td>1</td>\n",
       "      <td>0</td>\n",
       "      <td>0</td>\n",
       "      <td>0</td>\n",
       "      <td>0</td>\n",
       "      <td>0</td>\n",
       "    </tr>\n",
       "  </tbody>\n",
       "</table>\n",
       "</div>"
      ],
      "text/plain": [
       "        23  25   27  28  30  39    41  8  24  7  9  5\n",
       "206494  33  16  190  11  92  12  2272  2   0  0  0  0\n",
       "276629   0   0    1   0   0   0     0  0   1  1  0  0\n",
       "276620   0   0    0   0   0   0     0  0   2  1  1  0\n",
       "330294   0   0    0   0   0   0     2  0   0  0  2  0\n",
       "184456   1   0    0   0   0   0     1  0   0  0  0  0"
      ]
     },
     "execution_count": 11,
     "metadata": {},
     "output_type": "execute_result"
    }
   ],
   "source": [
    "tax.head()"
   ]
  },
  {
   "cell_type": "code",
   "execution_count": 12,
   "metadata": {
    "collapsed": false
   },
   "outputs": [],
   "source": [
    "# tax_scaled = tax.T.apply(lambda m: (m - m.mean())/m.std()).T\n",
    "# tax_scaled = tax.T.apply(lambda m: (m / m.sum())).T\n",
    "# tax_scaled = tax\n",
    "\n",
    "tax_shrunk = tax.sum().min() / tax.sum() * tax\n",
    "\n",
    "tax_scaled = tax_shrunk.T.apply(lambda m: (m - m.mean())/m.std()).T"
   ]
  },
  {
   "cell_type": "code",
   "execution_count": 13,
   "metadata": {
    "collapsed": false
   },
   "outputs": [
    {
     "data": {
      "text/html": [
       "<div>\n",
       "<table border=\"1\" class=\"dataframe\">\n",
       "  <thead>\n",
       "    <tr style=\"text-align: right;\">\n",
       "      <th></th>\n",
       "      <th>23</th>\n",
       "      <th>25</th>\n",
       "      <th>27</th>\n",
       "      <th>28</th>\n",
       "      <th>30</th>\n",
       "      <th>39</th>\n",
       "      <th>41</th>\n",
       "      <th>8</th>\n",
       "      <th>24</th>\n",
       "      <th>7</th>\n",
       "      <th>9</th>\n",
       "      <th>5</th>\n",
       "    </tr>\n",
       "  </thead>\n",
       "  <tbody>\n",
       "    <tr>\n",
       "      <th>206494</th>\n",
       "      <td>-0.287446</td>\n",
       "      <td>-0.300611</td>\n",
       "      <td>-0.094477</td>\n",
       "      <td>-0.316614</td>\n",
       "      <td>-0.216835</td>\n",
       "      <td>-0.307211</td>\n",
       "      <td>3.167871</td>\n",
       "      <td>-0.323058</td>\n",
       "      <td>-0.330404</td>\n",
       "      <td>-0.330404</td>\n",
       "      <td>-0.330404</td>\n",
       "      <td>-0.330404</td>\n",
       "    </tr>\n",
       "    <tr>\n",
       "      <th>276629</th>\n",
       "      <td>-0.519369</td>\n",
       "      <td>-0.519369</td>\n",
       "      <td>1.482178</td>\n",
       "      <td>-0.519369</td>\n",
       "      <td>-0.519369</td>\n",
       "      <td>-0.519369</td>\n",
       "      <td>-0.519369</td>\n",
       "      <td>-0.519369</td>\n",
       "      <td>2.396246</td>\n",
       "      <td>0.795900</td>\n",
       "      <td>-0.519369</td>\n",
       "      <td>-0.519369</td>\n",
       "    </tr>\n",
       "    <tr>\n",
       "      <th>276620</th>\n",
       "      <td>-0.457204</td>\n",
       "      <td>-0.457204</td>\n",
       "      <td>-0.457204</td>\n",
       "      <td>-0.457204</td>\n",
       "      <td>-0.457204</td>\n",
       "      <td>-0.457204</td>\n",
       "      <td>-0.457204</td>\n",
       "      <td>-0.457204</td>\n",
       "      <td>2.838286</td>\n",
       "      <td>0.286114</td>\n",
       "      <td>0.990431</td>\n",
       "      <td>-0.457204</td>\n",
       "    </tr>\n",
       "    <tr>\n",
       "      <th>330294</th>\n",
       "      <td>-0.428110</td>\n",
       "      <td>-0.428110</td>\n",
       "      <td>-0.428110</td>\n",
       "      <td>-0.428110</td>\n",
       "      <td>-0.428110</td>\n",
       "      <td>-0.428110</td>\n",
       "      <td>2.100003</td>\n",
       "      <td>-0.428110</td>\n",
       "      <td>-0.428110</td>\n",
       "      <td>-0.428110</td>\n",
       "      <td>2.181101</td>\n",
       "      <td>-0.428110</td>\n",
       "    </tr>\n",
       "    <tr>\n",
       "      <th>184456</th>\n",
       "      <td>1.917666</td>\n",
       "      <td>-0.426384</td>\n",
       "      <td>-0.426384</td>\n",
       "      <td>-0.426384</td>\n",
       "      <td>-0.426384</td>\n",
       "      <td>-0.426384</td>\n",
       "      <td>2.346172</td>\n",
       "      <td>-0.426384</td>\n",
       "      <td>-0.426384</td>\n",
       "      <td>-0.426384</td>\n",
       "      <td>-0.426384</td>\n",
       "      <td>-0.426384</td>\n",
       "    </tr>\n",
       "  </tbody>\n",
       "</table>\n",
       "</div>"
      ],
      "text/plain": [
       "              23        25        27        28        30        39        41  \\\n",
       "206494 -0.287446 -0.300611 -0.094477 -0.316614 -0.216835 -0.307211  3.167871   \n",
       "276629 -0.519369 -0.519369  1.482178 -0.519369 -0.519369 -0.519369 -0.519369   \n",
       "276620 -0.457204 -0.457204 -0.457204 -0.457204 -0.457204 -0.457204 -0.457204   \n",
       "330294 -0.428110 -0.428110 -0.428110 -0.428110 -0.428110 -0.428110  2.100003   \n",
       "184456  1.917666 -0.426384 -0.426384 -0.426384 -0.426384 -0.426384  2.346172   \n",
       "\n",
       "               8        24         7         9         5  \n",
       "206494 -0.323058 -0.330404 -0.330404 -0.330404 -0.330404  \n",
       "276629 -0.519369  2.396246  0.795900 -0.519369 -0.519369  \n",
       "276620 -0.457204  2.838286  0.286114  0.990431 -0.457204  \n",
       "330294 -0.428110 -0.428110 -0.428110  2.181101 -0.428110  \n",
       "184456 -0.426384 -0.426384 -0.426384 -0.426384 -0.426384  "
      ]
     },
     "execution_count": 13,
     "metadata": {},
     "output_type": "execute_result"
    }
   ],
   "source": [
    "tax_scaled.head()"
   ]
  },
  {
   "cell_type": "code",
   "execution_count": 14,
   "metadata": {
    "collapsed": false
   },
   "outputs": [],
   "source": [
    "meta.SampleID = meta.SampleID.astype(str)"
   ]
  },
  {
   "cell_type": "markdown",
   "metadata": {},
   "source": [
    "# Join meta data"
   ]
  },
  {
   "cell_type": "code",
   "execution_count": 15,
   "metadata": {
    "collapsed": false
   },
   "outputs": [],
   "source": [
    "# meta.set_index('SampleID')"
   ]
  },
  {
   "cell_type": "code",
   "execution_count": 16,
   "metadata": {
    "collapsed": false
   },
   "outputs": [
    {
     "data": {
      "text/html": [
       "<div>\n",
       "<table border=\"1\" class=\"dataframe\">\n",
       "  <thead>\n",
       "    <tr style=\"text-align: right;\">\n",
       "      <th></th>\n",
       "      <th>SampleID</th>\n",
       "      <th>Mouse ID</th>\n",
       "      <th>Gender</th>\n",
       "      <th>DOB</th>\n",
       "      <th>Ear Tag</th>\n",
       "      <th>Genotype1</th>\n",
       "      <th>Genotype</th>\n",
       "      <th>Cage</th>\n",
       "      <th>Notes</th>\n",
       "      <th>WT or not</th>\n",
       "    </tr>\n",
       "  </thead>\n",
       "  <tbody>\n",
       "    <tr>\n",
       "      <th>0</th>\n",
       "      <td>23</td>\n",
       "      <td>I175</td>\n",
       "      <td>F</td>\n",
       "      <td>7/6/15</td>\n",
       "      <td>R</td>\n",
       "      <td>WT</td>\n",
       "      <td>WT (08/25/15) cre+ (08/26/15)</td>\n",
       "      <td>943947</td>\n",
       "      <td>Parent cage 892230</td>\n",
       "      <td>WT</td>\n",
       "    </tr>\n",
       "    <tr>\n",
       "      <th>1</th>\n",
       "      <td>24</td>\n",
       "      <td>I176</td>\n",
       "      <td>F</td>\n",
       "      <td>7/5/15</td>\n",
       "      <td>L</td>\n",
       "      <td>WT</td>\n",
       "      <td>WT</td>\n",
       "      <td>943947</td>\n",
       "      <td>Parent cage 892234</td>\n",
       "      <td>WT</td>\n",
       "    </tr>\n",
       "    <tr>\n",
       "      <th>2</th>\n",
       "      <td>25</td>\n",
       "      <td>I177</td>\n",
       "      <td>F</td>\n",
       "      <td>7/4/15</td>\n",
       "      <td>-</td>\n",
       "      <td>TregWKO</td>\n",
       "      <td>WASp fl/fl (08/25/15) cre+ (09/08/15)</td>\n",
       "      <td>943947</td>\n",
       "      <td>Parent cage 892221</td>\n",
       "      <td>mutant</td>\n",
       "    </tr>\n",
       "    <tr>\n",
       "      <th>3</th>\n",
       "      <td>41</td>\n",
       "      <td>I208</td>\n",
       "      <td>F</td>\n",
       "      <td>7/1/15</td>\n",
       "      <td>RL</td>\n",
       "      <td>WT</td>\n",
       "      <td>WT</td>\n",
       "      <td>943947</td>\n",
       "      <td>Parent cage 892226</td>\n",
       "      <td>WT</td>\n",
       "    </tr>\n",
       "    <tr>\n",
       "      <th>4</th>\n",
       "      <td>27</td>\n",
       "      <td>I179</td>\n",
       "      <td>F</td>\n",
       "      <td>7/7/15</td>\n",
       "      <td>2L</td>\n",
       "      <td>WKO</td>\n",
       "      <td>WKO (8/20/15)</td>\n",
       "      <td>943947</td>\n",
       "      <td>Parent cage 892227</td>\n",
       "      <td>mutant</td>\n",
       "    </tr>\n",
       "  </tbody>\n",
       "</table>\n",
       "</div>"
      ],
      "text/plain": [
       "  SampleID Mouse ID Gender     DOB Ear Tag Genotype1  \\\n",
       "0       23     I175      F  7/6/15       R        WT   \n",
       "1       24     I176      F  7/5/15       L        WT   \n",
       "2       25     I177      F  7/4/15       -   TregWKO   \n",
       "3       41     I208      F  7/1/15      RL        WT   \n",
       "4       27     I179      F  7/7/15      2L       WKO   \n",
       "\n",
       "                                Genotype    Cage               Notes WT or not  \n",
       "0          WT (08/25/15) cre+ (08/26/15)  943947  Parent cage 892230        WT  \n",
       "1                                     WT  943947  Parent cage 892234        WT  \n",
       "2  WASp fl/fl (08/25/15) cre+ (09/08/15)  943947  Parent cage 892221    mutant  \n",
       "3                                     WT  943947  Parent cage 892226        WT  \n",
       "4                          WKO (8/20/15)  943947  Parent cage 892227    mutant  "
      ]
     },
     "execution_count": 16,
     "metadata": {},
     "output_type": "execute_result"
    }
   ],
   "source": [
    "meta['WT or not'] = meta.Genotype1.apply(lambda i: i if i == 'WT' else 'mutant')\n",
    "meta.head()"
   ]
  },
  {
   "cell_type": "code",
   "execution_count": 17,
   "metadata": {
    "collapsed": false
   },
   "outputs": [],
   "source": [
    "full_table = meta.set_index('SampleID').join(tax_scaled.T).reset_index()"
   ]
  },
  {
   "cell_type": "code",
   "execution_count": 18,
   "metadata": {
    "collapsed": false
   },
   "outputs": [
    {
     "data": {
      "text/html": [
       "<div>\n",
       "<table border=\"1\" class=\"dataframe\">\n",
       "  <thead>\n",
       "    <tr style=\"text-align: right;\">\n",
       "      <th></th>\n",
       "      <th>SampleID</th>\n",
       "      <th>Mouse ID</th>\n",
       "      <th>Gender</th>\n",
       "      <th>DOB</th>\n",
       "      <th>Ear Tag</th>\n",
       "      <th>Genotype1</th>\n",
       "      <th>Genotype</th>\n",
       "      <th>Cage</th>\n",
       "      <th>Notes</th>\n",
       "      <th>WT or not</th>\n",
       "      <th>...</th>\n",
       "      <th>New.CleanUp.ReferenceOTU56003</th>\n",
       "      <th>New.CleanUp.ReferenceOTU56005</th>\n",
       "      <th>New.CleanUp.ReferenceOTU56008</th>\n",
       "      <th>New.CleanUp.ReferenceOTU56017</th>\n",
       "      <th>New.CleanUp.ReferenceOTU56020</th>\n",
       "      <th>New.CleanUp.ReferenceOTU56032</th>\n",
       "      <th>New.CleanUp.ReferenceOTU56042</th>\n",
       "      <th>New.CleanUp.ReferenceOTU56061</th>\n",
       "      <th>New.CleanUp.ReferenceOTU56065</th>\n",
       "      <th>New.CleanUp.ReferenceOTU56069</th>\n",
       "    </tr>\n",
       "  </thead>\n",
       "  <tbody>\n",
       "    <tr>\n",
       "      <th>0</th>\n",
       "      <td>23</td>\n",
       "      <td>I175</td>\n",
       "      <td>F</td>\n",
       "      <td>7/6/15</td>\n",
       "      <td>R</td>\n",
       "      <td>WT</td>\n",
       "      <td>WT (08/25/15) cre+ (08/26/15)</td>\n",
       "      <td>943947</td>\n",
       "      <td>Parent cage 892230</td>\n",
       "      <td>WT</td>\n",
       "      <td>...</td>\n",
       "      <td>1.603512</td>\n",
       "      <td>-0.534904</td>\n",
       "      <td>1.603512</td>\n",
       "      <td>1.603512</td>\n",
       "      <td>-0.534387</td>\n",
       "      <td>-0.421588</td>\n",
       "      <td>-0.428172</td>\n",
       "      <td>-0.418267</td>\n",
       "      <td>-0.416497</td>\n",
       "      <td>-0.420525</td>\n",
       "    </tr>\n",
       "    <tr>\n",
       "      <th>1</th>\n",
       "      <td>24</td>\n",
       "      <td>I176</td>\n",
       "      <td>F</td>\n",
       "      <td>7/5/15</td>\n",
       "      <td>L</td>\n",
       "      <td>WT</td>\n",
       "      <td>WT</td>\n",
       "      <td>943947</td>\n",
       "      <td>Parent cage 892234</td>\n",
       "      <td>WT</td>\n",
       "      <td>...</td>\n",
       "      <td>-0.418721</td>\n",
       "      <td>-0.534904</td>\n",
       "      <td>-0.418721</td>\n",
       "      <td>-0.418721</td>\n",
       "      <td>-0.534387</td>\n",
       "      <td>-0.421588</td>\n",
       "      <td>-0.428172</td>\n",
       "      <td>-0.418267</td>\n",
       "      <td>-0.416497</td>\n",
       "      <td>-0.420525</td>\n",
       "    </tr>\n",
       "    <tr>\n",
       "      <th>2</th>\n",
       "      <td>25</td>\n",
       "      <td>I177</td>\n",
       "      <td>F</td>\n",
       "      <td>7/4/15</td>\n",
       "      <td>-</td>\n",
       "      <td>TregWKO</td>\n",
       "      <td>WASp fl/fl (08/25/15) cre+ (09/08/15)</td>\n",
       "      <td>943947</td>\n",
       "      <td>Parent cage 892221</td>\n",
       "      <td>mutant</td>\n",
       "      <td>...</td>\n",
       "      <td>-0.418721</td>\n",
       "      <td>2.279275</td>\n",
       "      <td>-0.418721</td>\n",
       "      <td>-0.418721</td>\n",
       "      <td>2.289846</td>\n",
       "      <td>-0.421588</td>\n",
       "      <td>-0.428172</td>\n",
       "      <td>2.592911</td>\n",
       "      <td>-0.416497</td>\n",
       "      <td>-0.420525</td>\n",
       "    </tr>\n",
       "    <tr>\n",
       "      <th>3</th>\n",
       "      <td>41</td>\n",
       "      <td>I208</td>\n",
       "      <td>F</td>\n",
       "      <td>7/1/15</td>\n",
       "      <td>RL</td>\n",
       "      <td>WT</td>\n",
       "      <td>WT</td>\n",
       "      <td>943947</td>\n",
       "      <td>Parent cage 892226</td>\n",
       "      <td>WT</td>\n",
       "      <td>...</td>\n",
       "      <td>-0.418721</td>\n",
       "      <td>-0.534904</td>\n",
       "      <td>-0.418721</td>\n",
       "      <td>-0.418721</td>\n",
       "      <td>-0.534387</td>\n",
       "      <td>-0.421588</td>\n",
       "      <td>-0.428172</td>\n",
       "      <td>-0.418267</td>\n",
       "      <td>-0.416497</td>\n",
       "      <td>-0.420525</td>\n",
       "    </tr>\n",
       "    <tr>\n",
       "      <th>4</th>\n",
       "      <td>27</td>\n",
       "      <td>I179</td>\n",
       "      <td>F</td>\n",
       "      <td>7/7/15</td>\n",
       "      <td>2L</td>\n",
       "      <td>WKO</td>\n",
       "      <td>WKO (8/20/15)</td>\n",
       "      <td>943947</td>\n",
       "      <td>Parent cage 892227</td>\n",
       "      <td>mutant</td>\n",
       "      <td>...</td>\n",
       "      <td>-0.418721</td>\n",
       "      <td>-0.534904</td>\n",
       "      <td>-0.418721</td>\n",
       "      <td>-0.418721</td>\n",
       "      <td>-0.534387</td>\n",
       "      <td>-0.421588</td>\n",
       "      <td>2.148415</td>\n",
       "      <td>1.589760</td>\n",
       "      <td>1.538512</td>\n",
       "      <td>-0.420525</td>\n",
       "    </tr>\n",
       "  </tbody>\n",
       "</table>\n",
       "<p>5 rows × 10767 columns</p>\n",
       "</div>"
      ],
      "text/plain": [
       "  SampleID Mouse ID Gender     DOB Ear Tag Genotype1  \\\n",
       "0       23     I175      F  7/6/15       R        WT   \n",
       "1       24     I176      F  7/5/15       L        WT   \n",
       "2       25     I177      F  7/4/15       -   TregWKO   \n",
       "3       41     I208      F  7/1/15      RL        WT   \n",
       "4       27     I179      F  7/7/15      2L       WKO   \n",
       "\n",
       "                                Genotype    Cage               Notes  \\\n",
       "0          WT (08/25/15) cre+ (08/26/15)  943947  Parent cage 892230   \n",
       "1                                     WT  943947  Parent cage 892234   \n",
       "2  WASp fl/fl (08/25/15) cre+ (09/08/15)  943947  Parent cage 892221   \n",
       "3                                     WT  943947  Parent cage 892226   \n",
       "4                          WKO (8/20/15)  943947  Parent cage 892227   \n",
       "\n",
       "  WT or not              ...                New.CleanUp.ReferenceOTU56003  \\\n",
       "0        WT              ...                                     1.603512   \n",
       "1        WT              ...                                    -0.418721   \n",
       "2    mutant              ...                                    -0.418721   \n",
       "3        WT              ...                                    -0.418721   \n",
       "4    mutant              ...                                    -0.418721   \n",
       "\n",
       "   New.CleanUp.ReferenceOTU56005  New.CleanUp.ReferenceOTU56008  \\\n",
       "0                      -0.534904                       1.603512   \n",
       "1                      -0.534904                      -0.418721   \n",
       "2                       2.279275                      -0.418721   \n",
       "3                      -0.534904                      -0.418721   \n",
       "4                      -0.534904                      -0.418721   \n",
       "\n",
       "   New.CleanUp.ReferenceOTU56017  New.CleanUp.ReferenceOTU56020  \\\n",
       "0                       1.603512                      -0.534387   \n",
       "1                      -0.418721                      -0.534387   \n",
       "2                      -0.418721                       2.289846   \n",
       "3                      -0.418721                      -0.534387   \n",
       "4                      -0.418721                      -0.534387   \n",
       "\n",
       "   New.CleanUp.ReferenceOTU56032  New.CleanUp.ReferenceOTU56042  \\\n",
       "0                      -0.421588                      -0.428172   \n",
       "1                      -0.421588                      -0.428172   \n",
       "2                      -0.421588                      -0.428172   \n",
       "3                      -0.421588                      -0.428172   \n",
       "4                      -0.421588                       2.148415   \n",
       "\n",
       "   New.CleanUp.ReferenceOTU56061  New.CleanUp.ReferenceOTU56065  \\\n",
       "0                      -0.418267                      -0.416497   \n",
       "1                      -0.418267                      -0.416497   \n",
       "2                       2.592911                      -0.416497   \n",
       "3                      -0.418267                      -0.416497   \n",
       "4                       1.589760                       1.538512   \n",
       "\n",
       "   New.CleanUp.ReferenceOTU56069  \n",
       "0                      -0.420525  \n",
       "1                      -0.420525  \n",
       "2                      -0.420525  \n",
       "3                      -0.420525  \n",
       "4                      -0.420525  \n",
       "\n",
       "[5 rows x 10767 columns]"
      ]
     },
     "execution_count": 18,
     "metadata": {},
     "output_type": "execute_result"
    }
   ],
   "source": [
    "full_table.head()"
   ]
  },
  {
   "cell_type": "markdown",
   "metadata": {},
   "source": [
    "# Encode 'y' (labels)"
   ]
  },
  {
   "cell_type": "code",
   "execution_count": 19,
   "metadata": {
    "collapsed": true
   },
   "outputs": [],
   "source": [
    "y_geno_any_mut = full_table['WT or not']\n",
    "y_geno_spc_mut = full_table['Genotype1']\n",
    "geno_encoder = ppro.LabelEncoder()\n",
    "y_geno_encoded_any = geno_encoder.fit_transform(y_geno_any_mut)\n",
    "y_geno_encoded_spc = geno_encoder.fit_transform(y_geno_spc_mut)"
   ]
  },
  {
   "cell_type": "markdown",
   "metadata": {},
   "source": [
    "# Encode 'X' (data)"
   ]
  },
  {
   "cell_type": "markdown",
   "metadata": {},
   "source": [
    "## Combine (or not) the categorical and numerical data types for X"
   ]
  },
  {
   "cell_type": "code",
   "execution_count": 20,
   "metadata": {
    "collapsed": false
   },
   "outputs": [],
   "source": [
    "X_cols_cat = list(full_table.columns[[2,7]].values)\n",
    "X_cols_num = list(full_table.columns[10:])"
   ]
  },
  {
   "cell_type": "code",
   "execution_count": 21,
   "metadata": {
    "collapsed": false
   },
   "outputs": [],
   "source": [
    "# X_cols_num"
   ]
  },
  {
   "cell_type": "code",
   "execution_count": 22,
   "metadata": {
    "collapsed": true
   },
   "outputs": [],
   "source": [
    "# make the dummy variable columns for the original categorical data columns\n",
    "# HOPEFULLY we dont run into colinearity issues\n",
    "X_data_cat = pd.get_dummies(full_table[X_cols_cat].astype(str))"
   ]
  },
  {
   "cell_type": "code",
   "execution_count": 23,
   "metadata": {
    "collapsed": false
   },
   "outputs": [
    {
     "data": {
      "text/html": [
       "<div>\n",
       "<table border=\"1\" class=\"dataframe\">\n",
       "  <thead>\n",
       "    <tr style=\"text-align: right;\">\n",
       "      <th></th>\n",
       "      <th>Gender_F</th>\n",
       "      <th>Gender_M</th>\n",
       "      <th>Cage_943947</th>\n",
       "      <th>Cage_943948</th>\n",
       "      <th>Cage_943951</th>\n",
       "    </tr>\n",
       "  </thead>\n",
       "  <tbody>\n",
       "    <tr>\n",
       "      <th>0</th>\n",
       "      <td>1</td>\n",
       "      <td>0</td>\n",
       "      <td>1</td>\n",
       "      <td>0</td>\n",
       "      <td>0</td>\n",
       "    </tr>\n",
       "    <tr>\n",
       "      <th>1</th>\n",
       "      <td>1</td>\n",
       "      <td>0</td>\n",
       "      <td>1</td>\n",
       "      <td>0</td>\n",
       "      <td>0</td>\n",
       "    </tr>\n",
       "    <tr>\n",
       "      <th>2</th>\n",
       "      <td>1</td>\n",
       "      <td>0</td>\n",
       "      <td>1</td>\n",
       "      <td>0</td>\n",
       "      <td>0</td>\n",
       "    </tr>\n",
       "    <tr>\n",
       "      <th>3</th>\n",
       "      <td>1</td>\n",
       "      <td>0</td>\n",
       "      <td>1</td>\n",
       "      <td>0</td>\n",
       "      <td>0</td>\n",
       "    </tr>\n",
       "    <tr>\n",
       "      <th>4</th>\n",
       "      <td>1</td>\n",
       "      <td>0</td>\n",
       "      <td>1</td>\n",
       "      <td>0</td>\n",
       "      <td>0</td>\n",
       "    </tr>\n",
       "    <tr>\n",
       "      <th>5</th>\n",
       "      <td>0</td>\n",
       "      <td>1</td>\n",
       "      <td>0</td>\n",
       "      <td>1</td>\n",
       "      <td>0</td>\n",
       "    </tr>\n",
       "    <tr>\n",
       "      <th>6</th>\n",
       "      <td>0</td>\n",
       "      <td>1</td>\n",
       "      <td>0</td>\n",
       "      <td>1</td>\n",
       "      <td>0</td>\n",
       "    </tr>\n",
       "    <tr>\n",
       "      <th>7</th>\n",
       "      <td>0</td>\n",
       "      <td>1</td>\n",
       "      <td>0</td>\n",
       "      <td>1</td>\n",
       "      <td>0</td>\n",
       "    </tr>\n",
       "    <tr>\n",
       "      <th>8</th>\n",
       "      <td>0</td>\n",
       "      <td>1</td>\n",
       "      <td>0</td>\n",
       "      <td>1</td>\n",
       "      <td>0</td>\n",
       "    </tr>\n",
       "    <tr>\n",
       "      <th>9</th>\n",
       "      <td>1</td>\n",
       "      <td>0</td>\n",
       "      <td>0</td>\n",
       "      <td>0</td>\n",
       "      <td>1</td>\n",
       "    </tr>\n",
       "    <tr>\n",
       "      <th>10</th>\n",
       "      <td>1</td>\n",
       "      <td>0</td>\n",
       "      <td>0</td>\n",
       "      <td>0</td>\n",
       "      <td>1</td>\n",
       "    </tr>\n",
       "    <tr>\n",
       "      <th>11</th>\n",
       "      <td>1</td>\n",
       "      <td>0</td>\n",
       "      <td>0</td>\n",
       "      <td>0</td>\n",
       "      <td>1</td>\n",
       "    </tr>\n",
       "  </tbody>\n",
       "</table>\n",
       "</div>"
      ],
      "text/plain": [
       "    Gender_F  Gender_M  Cage_943947  Cage_943948  Cage_943951\n",
       "0          1         0            1            0            0\n",
       "1          1         0            1            0            0\n",
       "2          1         0            1            0            0\n",
       "3          1         0            1            0            0\n",
       "4          1         0            1            0            0\n",
       "5          0         1            0            1            0\n",
       "6          0         1            0            1            0\n",
       "7          0         1            0            1            0\n",
       "8          0         1            0            1            0\n",
       "9          1         0            0            0            1\n",
       "10         1         0            0            0            1\n",
       "11         1         0            0            0            1"
      ]
     },
     "execution_count": 23,
     "metadata": {},
     "output_type": "execute_result"
    }
   ],
   "source": [
    "X_data_cat"
   ]
  },
  {
   "cell_type": "code",
   "execution_count": 24,
   "metadata": {
    "collapsed": false
   },
   "outputs": [
    {
     "data": {
      "text/html": [
       "<div>\n",
       "<table border=\"1\" class=\"dataframe\">\n",
       "  <thead>\n",
       "    <tr style=\"text-align: right;\">\n",
       "      <th></th>\n",
       "      <th>Gender_F</th>\n",
       "      <th>Cage_943947</th>\n",
       "      <th>Cage_943948</th>\n",
       "    </tr>\n",
       "  </thead>\n",
       "  <tbody>\n",
       "    <tr>\n",
       "      <th>0</th>\n",
       "      <td>1</td>\n",
       "      <td>1</td>\n",
       "      <td>0</td>\n",
       "    </tr>\n",
       "    <tr>\n",
       "      <th>1</th>\n",
       "      <td>1</td>\n",
       "      <td>1</td>\n",
       "      <td>0</td>\n",
       "    </tr>\n",
       "    <tr>\n",
       "      <th>2</th>\n",
       "      <td>1</td>\n",
       "      <td>1</td>\n",
       "      <td>0</td>\n",
       "    </tr>\n",
       "    <tr>\n",
       "      <th>3</th>\n",
       "      <td>1</td>\n",
       "      <td>1</td>\n",
       "      <td>0</td>\n",
       "    </tr>\n",
       "    <tr>\n",
       "      <th>4</th>\n",
       "      <td>1</td>\n",
       "      <td>1</td>\n",
       "      <td>0</td>\n",
       "    </tr>\n",
       "    <tr>\n",
       "      <th>5</th>\n",
       "      <td>0</td>\n",
       "      <td>0</td>\n",
       "      <td>1</td>\n",
       "    </tr>\n",
       "    <tr>\n",
       "      <th>6</th>\n",
       "      <td>0</td>\n",
       "      <td>0</td>\n",
       "      <td>1</td>\n",
       "    </tr>\n",
       "    <tr>\n",
       "      <th>7</th>\n",
       "      <td>0</td>\n",
       "      <td>0</td>\n",
       "      <td>1</td>\n",
       "    </tr>\n",
       "    <tr>\n",
       "      <th>8</th>\n",
       "      <td>0</td>\n",
       "      <td>0</td>\n",
       "      <td>1</td>\n",
       "    </tr>\n",
       "    <tr>\n",
       "      <th>9</th>\n",
       "      <td>1</td>\n",
       "      <td>0</td>\n",
       "      <td>0</td>\n",
       "    </tr>\n",
       "    <tr>\n",
       "      <th>10</th>\n",
       "      <td>1</td>\n",
       "      <td>0</td>\n",
       "      <td>0</td>\n",
       "    </tr>\n",
       "    <tr>\n",
       "      <th>11</th>\n",
       "      <td>1</td>\n",
       "      <td>0</td>\n",
       "      <td>0</td>\n",
       "    </tr>\n",
       "  </tbody>\n",
       "</table>\n",
       "</div>"
      ],
      "text/plain": [
       "    Gender_F  Cage_943947  Cage_943948\n",
       "0          1            1            0\n",
       "1          1            1            0\n",
       "2          1            1            0\n",
       "3          1            1            0\n",
       "4          1            1            0\n",
       "5          0            0            1\n",
       "6          0            0            1\n",
       "7          0            0            1\n",
       "8          0            0            1\n",
       "9          1            0            0\n",
       "10         1            0            0\n",
       "11         1            0            0"
      ]
     },
     "execution_count": 24,
     "metadata": {},
     "output_type": "execute_result"
    }
   ],
   "source": [
    "# To avoid colinearity we remove one column from each class of categorical \n",
    "X_data_cat = X_data_cat[['Gender_F', 'Cage_943947', 'Cage_943948']]\n",
    "X_data_cat"
   ]
  },
  {
   "cell_type": "code",
   "execution_count": 25,
   "metadata": {
    "collapsed": false
   },
   "outputs": [],
   "source": [
    "# put all data columns together\n",
    "X = pd.concat([X_data_cat,full_table[X_cols_num]],axis=1) # Accounting for Cages and Sex\n",
    "# X = full_table[X_cols_num] # IGNORING Cages and Sex"
   ]
  },
  {
   "cell_type": "code",
   "execution_count": 26,
   "metadata": {
    "collapsed": false
   },
   "outputs": [
    {
     "data": {
      "text/html": [
       "<div>\n",
       "<table border=\"1\" class=\"dataframe\">\n",
       "  <thead>\n",
       "    <tr style=\"text-align: right;\">\n",
       "      <th></th>\n",
       "      <th>Gender_F</th>\n",
       "      <th>Cage_943947</th>\n",
       "      <th>Cage_943948</th>\n",
       "      <th>206494</th>\n",
       "      <th>276629</th>\n",
       "      <th>276620</th>\n",
       "      <th>330294</th>\n",
       "      <th>184456</th>\n",
       "      <th>273164</th>\n",
       "      <th>182583</th>\n",
       "      <th>...</th>\n",
       "      <th>New.CleanUp.ReferenceOTU56003</th>\n",
       "      <th>New.CleanUp.ReferenceOTU56005</th>\n",
       "      <th>New.CleanUp.ReferenceOTU56008</th>\n",
       "      <th>New.CleanUp.ReferenceOTU56017</th>\n",
       "      <th>New.CleanUp.ReferenceOTU56020</th>\n",
       "      <th>New.CleanUp.ReferenceOTU56032</th>\n",
       "      <th>New.CleanUp.ReferenceOTU56042</th>\n",
       "      <th>New.CleanUp.ReferenceOTU56061</th>\n",
       "      <th>New.CleanUp.ReferenceOTU56065</th>\n",
       "      <th>New.CleanUp.ReferenceOTU56069</th>\n",
       "    </tr>\n",
       "  </thead>\n",
       "  <tbody>\n",
       "    <tr>\n",
       "      <th>0</th>\n",
       "      <td>1</td>\n",
       "      <td>1</td>\n",
       "      <td>0</td>\n",
       "      <td>-0.287446</td>\n",
       "      <td>-0.519369</td>\n",
       "      <td>-0.457204</td>\n",
       "      <td>-0.428110</td>\n",
       "      <td>1.917666</td>\n",
       "      <td>1.266825</td>\n",
       "      <td>-0.427501</td>\n",
       "      <td>...</td>\n",
       "      <td>1.603512</td>\n",
       "      <td>-0.534904</td>\n",
       "      <td>1.603512</td>\n",
       "      <td>1.603512</td>\n",
       "      <td>-0.534387</td>\n",
       "      <td>-0.421588</td>\n",
       "      <td>-0.428172</td>\n",
       "      <td>-0.418267</td>\n",
       "      <td>-0.416497</td>\n",
       "      <td>-0.420525</td>\n",
       "    </tr>\n",
       "    <tr>\n",
       "      <th>1</th>\n",
       "      <td>1</td>\n",
       "      <td>1</td>\n",
       "      <td>0</td>\n",
       "      <td>-0.330404</td>\n",
       "      <td>2.396246</td>\n",
       "      <td>2.838286</td>\n",
       "      <td>-0.428110</td>\n",
       "      <td>-0.426384</td>\n",
       "      <td>-0.405139</td>\n",
       "      <td>-0.427501</td>\n",
       "      <td>...</td>\n",
       "      <td>-0.418721</td>\n",
       "      <td>-0.534904</td>\n",
       "      <td>-0.418721</td>\n",
       "      <td>-0.418721</td>\n",
       "      <td>-0.534387</td>\n",
       "      <td>-0.421588</td>\n",
       "      <td>-0.428172</td>\n",
       "      <td>-0.418267</td>\n",
       "      <td>-0.416497</td>\n",
       "      <td>-0.420525</td>\n",
       "    </tr>\n",
       "    <tr>\n",
       "      <th>2</th>\n",
       "      <td>1</td>\n",
       "      <td>1</td>\n",
       "      <td>0</td>\n",
       "      <td>-0.300611</td>\n",
       "      <td>-0.519369</td>\n",
       "      <td>-0.457204</td>\n",
       "      <td>-0.428110</td>\n",
       "      <td>-0.426384</td>\n",
       "      <td>-0.405139</td>\n",
       "      <td>-0.427501</td>\n",
       "      <td>...</td>\n",
       "      <td>-0.418721</td>\n",
       "      <td>2.279275</td>\n",
       "      <td>-0.418721</td>\n",
       "      <td>-0.418721</td>\n",
       "      <td>2.289846</td>\n",
       "      <td>-0.421588</td>\n",
       "      <td>-0.428172</td>\n",
       "      <td>2.592911</td>\n",
       "      <td>-0.416497</td>\n",
       "      <td>-0.420525</td>\n",
       "    </tr>\n",
       "    <tr>\n",
       "      <th>3</th>\n",
       "      <td>1</td>\n",
       "      <td>1</td>\n",
       "      <td>0</td>\n",
       "      <td>3.167871</td>\n",
       "      <td>-0.519369</td>\n",
       "      <td>-0.457204</td>\n",
       "      <td>2.100003</td>\n",
       "      <td>2.346172</td>\n",
       "      <td>-0.405139</td>\n",
       "      <td>-0.427501</td>\n",
       "      <td>...</td>\n",
       "      <td>-0.418721</td>\n",
       "      <td>-0.534904</td>\n",
       "      <td>-0.418721</td>\n",
       "      <td>-0.418721</td>\n",
       "      <td>-0.534387</td>\n",
       "      <td>-0.421588</td>\n",
       "      <td>-0.428172</td>\n",
       "      <td>-0.418267</td>\n",
       "      <td>-0.416497</td>\n",
       "      <td>-0.420525</td>\n",
       "    </tr>\n",
       "    <tr>\n",
       "      <th>4</th>\n",
       "      <td>1</td>\n",
       "      <td>1</td>\n",
       "      <td>0</td>\n",
       "      <td>-0.094477</td>\n",
       "      <td>1.482178</td>\n",
       "      <td>-0.457204</td>\n",
       "      <td>-0.428110</td>\n",
       "      <td>-0.426384</td>\n",
       "      <td>2.784561</td>\n",
       "      <td>-0.427501</td>\n",
       "      <td>...</td>\n",
       "      <td>-0.418721</td>\n",
       "      <td>-0.534904</td>\n",
       "      <td>-0.418721</td>\n",
       "      <td>-0.418721</td>\n",
       "      <td>-0.534387</td>\n",
       "      <td>-0.421588</td>\n",
       "      <td>2.148415</td>\n",
       "      <td>1.589760</td>\n",
       "      <td>1.538512</td>\n",
       "      <td>-0.420525</td>\n",
       "    </tr>\n",
       "  </tbody>\n",
       "</table>\n",
       "<p>5 rows × 10760 columns</p>\n",
       "</div>"
      ],
      "text/plain": [
       "   Gender_F  Cage_943947  Cage_943948    206494    276629    276620    330294  \\\n",
       "0         1            1            0 -0.287446 -0.519369 -0.457204 -0.428110   \n",
       "1         1            1            0 -0.330404  2.396246  2.838286 -0.428110   \n",
       "2         1            1            0 -0.300611 -0.519369 -0.457204 -0.428110   \n",
       "3         1            1            0  3.167871 -0.519369 -0.457204  2.100003   \n",
       "4         1            1            0 -0.094477  1.482178 -0.457204 -0.428110   \n",
       "\n",
       "     184456    273164    182583              ...                \\\n",
       "0  1.917666  1.266825 -0.427501              ...                 \n",
       "1 -0.426384 -0.405139 -0.427501              ...                 \n",
       "2 -0.426384 -0.405139 -0.427501              ...                 \n",
       "3  2.346172 -0.405139 -0.427501              ...                 \n",
       "4 -0.426384  2.784561 -0.427501              ...                 \n",
       "\n",
       "   New.CleanUp.ReferenceOTU56003  New.CleanUp.ReferenceOTU56005  \\\n",
       "0                       1.603512                      -0.534904   \n",
       "1                      -0.418721                      -0.534904   \n",
       "2                      -0.418721                       2.279275   \n",
       "3                      -0.418721                      -0.534904   \n",
       "4                      -0.418721                      -0.534904   \n",
       "\n",
       "   New.CleanUp.ReferenceOTU56008  New.CleanUp.ReferenceOTU56017  \\\n",
       "0                       1.603512                       1.603512   \n",
       "1                      -0.418721                      -0.418721   \n",
       "2                      -0.418721                      -0.418721   \n",
       "3                      -0.418721                      -0.418721   \n",
       "4                      -0.418721                      -0.418721   \n",
       "\n",
       "   New.CleanUp.ReferenceOTU56020  New.CleanUp.ReferenceOTU56032  \\\n",
       "0                      -0.534387                      -0.421588   \n",
       "1                      -0.534387                      -0.421588   \n",
       "2                       2.289846                      -0.421588   \n",
       "3                      -0.534387                      -0.421588   \n",
       "4                      -0.534387                      -0.421588   \n",
       "\n",
       "   New.CleanUp.ReferenceOTU56042  New.CleanUp.ReferenceOTU56061  \\\n",
       "0                      -0.428172                      -0.418267   \n",
       "1                      -0.428172                      -0.418267   \n",
       "2                      -0.428172                       2.592911   \n",
       "3                      -0.428172                      -0.418267   \n",
       "4                       2.148415                       1.589760   \n",
       "\n",
       "   New.CleanUp.ReferenceOTU56065  New.CleanUp.ReferenceOTU56069  \n",
       "0                      -0.416497                      -0.420525  \n",
       "1                      -0.416497                      -0.420525  \n",
       "2                      -0.416497                      -0.420525  \n",
       "3                      -0.416497                      -0.420525  \n",
       "4                       1.538512                      -0.420525  \n",
       "\n",
       "[5 rows x 10760 columns]"
      ]
     },
     "execution_count": 26,
     "metadata": {},
     "output_type": "execute_result"
    }
   ],
   "source": [
    "X.head()"
   ]
  },
  {
   "cell_type": "code",
   "execution_count": 49,
   "metadata": {
    "collapsed": false
   },
   "outputs": [
    {
     "name": "stdout",
     "output_type": "stream",
     "text": [
      "              PC 1       PC 2\n",
      "WT      -41.122174   6.564849\n",
      "WT      -22.906974   5.307760\n",
      "TregWKO -31.816748  14.224279\n",
      "WT       49.017791  96.434792\n",
      "WKO     -25.279226 -10.628731\n",
      "WKO      54.946174 -40.054342\n",
      "TregWKO  49.412519 -23.154984\n",
      "WT       -5.557566  -8.997462\n",
      "WT       37.004613 -27.802727\n",
      "WKO     -23.915908   1.230295\n",
      "TregWKO -24.570123  -0.213071\n",
      "TregWKO -15.212379 -12.910658\n"
     ]
    }
   ],
   "source": [
    "\n",
    "\n",
    "pca = PCA(n_components=2, whiten=False)\n",
    "# pca = RandomizedPCA(n_components=2, whiten=False)\n",
    "\n",
    "\n",
    "pca_t = pca.fit_transform(X,y_geno_encoded_spc)\n",
    "top_n_comp = 2\n",
    "# print('explained_variance_ratio_ of top {num}: {val}'.format(num=top_n_comp,val=pca.explained_variance_ratio_[:top_n_comp].sum()))\n",
    "\n",
    "pca_t_l = pandas_helpers.repandasify(array=pca_t, y_names=geno_encoder.inverse_transform(y_geno_encoded_spc), X_names=['PC {v_}'.format(v_=v+1) for v in range(len(pca_t[0]))])\n",
    "print(pca_t_l)"
   ]
  },
  {
   "cell_type": "code",
   "execution_count": 50,
   "metadata": {
    "collapsed": false
   },
   "outputs": [],
   "source": [
    "pca_t_l = pandas_helpers.repandasify(array=pca_t, y_names=geno_encoder.inverse_transform(y_geno_encoded_spc), X_names=['PC {v_}'.format(v_=v+1) for v in range(len(pca_t[0]))])\n",
    "\n",
    "pca_t_l['geno'] = pca_t_l.index.values\n",
    "pca_t_l = pca_t_l.reset_index(drop=True)\n",
    "pca_t_l['Cage'] = full_table.Cage.astype(str)\n",
    "pca_t_l['Sex'] = full_table.Gender\n",
    "pca_t_l['Specific Genotype'] = full_table.Genotype1\n",
    "# pca_t_l"
   ]
  },
  {
   "cell_type": "code",
   "execution_count": null,
   "metadata": {
    "collapsed": true
   },
   "outputs": [],
   "source": []
  },
  {
   "cell_type": "code",
   "execution_count": 51,
   "metadata": {
    "collapsed": false
   },
   "outputs": [
    {
     "data": {
      "image/png": "[encoded data removed]",
      "text/plain": [
       "<matplotlib.figure.Figure at 0x7f0d7ed6c790>"
      ]
     },
     "metadata": {},
     "output_type": "display_data"
    }
   ],
   "source": [
    "with sns.color_palette(sns.color_palette(\"hls\", 2)):\n",
    "    with sns.axes_style(\"white\"):\n",
    "        sns.lmplot(x='PC 1', y='PC 2', data=pca_t_l.append(pca_t_l.iloc[9,:]), #sns.lmplot(x='PC 1', y='PC 2', data=pca_t_l,\n",
    "                   hue='Specific Genotype', palette=None,\n",
    "                   fit_reg=False,\n",
    "                   scatter_kws={'alpha':0.7}\n",
    "                  );"
   ]
  },
  {
   "cell_type": "markdown",
   "metadata": {},
   "source": [
    "# Feature Selection"
   ]
  },
  {
   "cell_type": "markdown",
   "metadata": {},
   "source": [
    "## LogisticRegression method\n",
    "\n",
    "- ran this a couple times manually and got varying numbers of features retained\n",
    "- I decided to \n",
    "    - run it 100 times\n",
    "    - count how frequently each feature is retained\n",
    "    - keep the top X number of them"
   ]
  },
  {
   "cell_type": "code",
   "execution_count": 30,
   "metadata": {
    "collapsed": false
   },
   "outputs": [],
   "source": [
    "rlgrg = RandomizedLogisticRegression(C=1, scaling=0.5, \n",
    "                                      sample_fraction=0.70, n_resampling=200, \n",
    "                                      verbose=False, normalize=False, \n",
    "                                      random_state=None, n_jobs=1, )\n",
    "# rlgrg.fit(X_, y_)\n",
    " \n",
    "\n"
   ]
  },
  {
   "cell_type": "code",
   "execution_count": 31,
   "metadata": {
    "collapsed": false
   },
   "outputs": [],
   "source": [
    "itr = 20\n",
    "f_sel_db = feature_selection.consensus_top10pct_feature_selection(X=X, y=y_geno_encoded_spc,\n",
    "                                                      clf=rlgrg, names=None, iters=itr)"
   ]
  },
  {
   "cell_type": "code",
   "execution_count": 32,
   "metadata": {
    "collapsed": false
   },
   "outputs": [
    {
     "data": {
      "text/plain": [
       "2967"
      ]
     },
     "execution_count": 32,
     "metadata": {},
     "output_type": "execute_result"
    }
   ],
   "source": [
    "len(f_sel_db)"
   ]
  },
  {
   "cell_type": "code",
   "execution_count": 33,
   "metadata": {
    "collapsed": false
   },
   "outputs": [
    {
     "data": {
      "image/png": "[encoded data removed]",
      "text/plain": [
       "<matplotlib.figure.Figure at 0x7f0d7e52f550>"
      ]
     },
     "metadata": {},
     "output_type": "display_data"
    }
   ],
   "source": [
    "sns.distplot([len(l) for l in f_sel_db.values()], kde=False)\n",
    "plt.xlabel('number of times an OTU was retained');"
   ]
  },
  {
   "cell_type": "markdown",
   "metadata": {},
   "source": [
    "### Look at the OTUs that were retained at least X times"
   ]
  },
  {
   "cell_type": "code",
   "execution_count": 34,
   "metadata": {
    "collapsed": false
   },
   "outputs": [
    {
     "data": {
      "text/html": [
       "<div>\n",
       "<table border=\"1\" class=\"dataframe\">\n",
       "  <thead>\n",
       "    <tr style=\"text-align: right;\">\n",
       "      <th></th>\n",
       "      <th>avg_score</th>\n",
       "      <th>feature_names</th>\n",
       "      <th>retention_rate</th>\n",
       "    </tr>\n",
       "  </thead>\n",
       "  <tbody>\n",
       "    <tr>\n",
       "      <th>0</th>\n",
       "      <td>0.010000</td>\n",
       "      <td>New.CleanUp.ReferenceOTU36017</td>\n",
       "      <td>0</td>\n",
       "    </tr>\n",
       "    <tr>\n",
       "      <th>1</th>\n",
       "      <td>0.010000</td>\n",
       "      <td>New.CleanUp.ReferenceOTU36010</td>\n",
       "      <td>0</td>\n",
       "    </tr>\n",
       "    <tr>\n",
       "      <th>2</th>\n",
       "      <td>0.005000</td>\n",
       "      <td>New.CleanUp.ReferenceOTU55127</td>\n",
       "      <td>0</td>\n",
       "    </tr>\n",
       "    <tr>\n",
       "      <th>3</th>\n",
       "      <td>0.015357</td>\n",
       "      <td>New.CleanUp.ReferenceOTU33513</td>\n",
       "      <td>0</td>\n",
       "    </tr>\n",
       "    <tr>\n",
       "      <th>4</th>\n",
       "      <td>0.012000</td>\n",
       "      <td>New.CleanUp.ReferenceOTU34500</td>\n",
       "      <td>0</td>\n",
       "    </tr>\n",
       "  </tbody>\n",
       "</table>\n",
       "</div>"
      ],
      "text/plain": [
       "   avg_score                  feature_names  retention_rate\n",
       "0   0.010000  New.CleanUp.ReferenceOTU36017               0\n",
       "1   0.010000  New.CleanUp.ReferenceOTU36010               0\n",
       "2   0.005000  New.CleanUp.ReferenceOTU55127               0\n",
       "3   0.015357  New.CleanUp.ReferenceOTU33513               0\n",
       "4   0.012000  New.CleanUp.ReferenceOTU34500               0"
      ]
     },
     "execution_count": 34,
     "metadata": {},
     "output_type": "execute_result"
    }
   ],
   "source": [
    "my_otus = feature_selection.process_retained_features(retained=f_sel_db, iters=itr)\n",
    "my_otus.head()"
   ]
  },
  {
   "cell_type": "code",
   "execution_count": 35,
   "metadata": {
    "collapsed": false
   },
   "outputs": [
    {
     "data": {
      "text/html": [
       "<div>\n",
       "<table border=\"1\" class=\"dataframe\">\n",
       "  <thead>\n",
       "    <tr style=\"text-align: right;\">\n",
       "      <th></th>\n",
       "      <th>avg_score</th>\n",
       "      <th>feature_names</th>\n",
       "      <th>retention_rate</th>\n",
       "    </tr>\n",
       "  </thead>\n",
       "  <tbody>\n",
       "    <tr>\n",
       "      <th>2962</th>\n",
       "      <td>0.012222</td>\n",
       "      <td>New.CleanUp.ReferenceOTU29226</td>\n",
       "      <td>0</td>\n",
       "    </tr>\n",
       "    <tr>\n",
       "      <th>2963</th>\n",
       "      <td>0.013182</td>\n",
       "      <td>New.CleanUp.ReferenceOTU27386</td>\n",
       "      <td>0</td>\n",
       "    </tr>\n",
       "    <tr>\n",
       "      <th>2964</th>\n",
       "      <td>0.005000</td>\n",
       "      <td>New.CleanUp.ReferenceOTU49223</td>\n",
       "      <td>0</td>\n",
       "    </tr>\n",
       "    <tr>\n",
       "      <th>2965</th>\n",
       "      <td>0.010000</td>\n",
       "      <td>New.CleanUp.ReferenceOTU27506</td>\n",
       "      <td>0</td>\n",
       "    </tr>\n",
       "    <tr>\n",
       "      <th>2966</th>\n",
       "      <td>0.006000</td>\n",
       "      <td>New.CleanUp.ReferenceOTU52146</td>\n",
       "      <td>0</td>\n",
       "    </tr>\n",
       "  </tbody>\n",
       "</table>\n",
       "</div>"
      ],
      "text/plain": [
       "      avg_score                  feature_names  retention_rate\n",
       "2962   0.012222  New.CleanUp.ReferenceOTU29226               0\n",
       "2963   0.013182  New.CleanUp.ReferenceOTU27386               0\n",
       "2964   0.005000  New.CleanUp.ReferenceOTU49223               0\n",
       "2965   0.010000  New.CleanUp.ReferenceOTU27506               0\n",
       "2966   0.006000  New.CleanUp.ReferenceOTU52146               0"
      ]
     },
     "execution_count": 35,
     "metadata": {},
     "output_type": "execute_result"
    }
   ],
   "source": [
    "my_otus.tail()"
   ]
  },
  {
   "cell_type": "code",
   "execution_count": 36,
   "metadata": {
    "collapsed": false
   },
   "outputs": [
    {
     "data": {
      "text/plain": [
       "(339, 3)"
      ]
     },
     "execution_count": 36,
     "metadata": {},
     "output_type": "execute_result"
    }
   ],
   "source": [
    "my_otus_ = my_otus.sort_values(by='avg_score', axis=0, ascending=False).query(\"\"\"retention_rate > 0.75 \"\"\")\n",
    "my_otus_ = my_otus_.query(\"\"\"avg_score > 0.01 \"\"\")\n",
    "my_otus_.shape"
   ]
  },
  {
   "cell_type": "code",
   "execution_count": 37,
   "metadata": {
    "collapsed": false
   },
   "outputs": [
    {
     "data": {
      "text/html": [
       "<div>\n",
       "<table border=\"1\" class=\"dataframe\">\n",
       "  <thead>\n",
       "    <tr style=\"text-align: right;\">\n",
       "      <th></th>\n",
       "      <th>avg_score</th>\n",
       "      <th>feature_names</th>\n",
       "      <th>retention_rate</th>\n",
       "    </tr>\n",
       "  </thead>\n",
       "  <tbody>\n",
       "    <tr>\n",
       "      <th>2432</th>\n",
       "      <td>0.36325</td>\n",
       "      <td>New.CleanUp.ReferenceOTU53528</td>\n",
       "      <td>1</td>\n",
       "    </tr>\n",
       "    <tr>\n",
       "      <th>1571</th>\n",
       "      <td>0.29225</td>\n",
       "      <td>New.CleanUp.ReferenceOTU47290</td>\n",
       "      <td>1</td>\n",
       "    </tr>\n",
       "    <tr>\n",
       "      <th>914</th>\n",
       "      <td>0.27050</td>\n",
       "      <td>New.CleanUp.ReferenceOTU46426</td>\n",
       "      <td>1</td>\n",
       "    </tr>\n",
       "    <tr>\n",
       "      <th>2174</th>\n",
       "      <td>0.25750</td>\n",
       "      <td>New.CleanUp.ReferenceOTU3397</td>\n",
       "      <td>1</td>\n",
       "    </tr>\n",
       "    <tr>\n",
       "      <th>2448</th>\n",
       "      <td>0.25325</td>\n",
       "      <td>New.CleanUp.ReferenceOTU25436</td>\n",
       "      <td>1</td>\n",
       "    </tr>\n",
       "  </tbody>\n",
       "</table>\n",
       "</div>"
      ],
      "text/plain": [
       "      avg_score                  feature_names  retention_rate\n",
       "2432    0.36325  New.CleanUp.ReferenceOTU53528               1\n",
       "1571    0.29225  New.CleanUp.ReferenceOTU47290               1\n",
       "914     0.27050  New.CleanUp.ReferenceOTU46426               1\n",
       "2174    0.25750   New.CleanUp.ReferenceOTU3397               1\n",
       "2448    0.25325  New.CleanUp.ReferenceOTU25436               1"
      ]
     },
     "execution_count": 37,
     "metadata": {},
     "output_type": "execute_result"
    }
   ],
   "source": [
    "my_otus_.head()"
   ]
  },
  {
   "cell_type": "code",
   "execution_count": 38,
   "metadata": {
    "collapsed": false
   },
   "outputs": [
    {
     "data": {
      "text/html": [
       "<div>\n",
       "<table border=\"1\" class=\"dataframe\">\n",
       "  <thead>\n",
       "    <tr style=\"text-align: right;\">\n",
       "      <th></th>\n",
       "      <th>avg_score</th>\n",
       "      <th>feature_names</th>\n",
       "      <th>retention_rate</th>\n",
       "    </tr>\n",
       "  </thead>\n",
       "  <tbody>\n",
       "    <tr>\n",
       "      <th>2865</th>\n",
       "      <td>0.01525</td>\n",
       "      <td>New.CleanUp.ReferenceOTU7059</td>\n",
       "      <td>1</td>\n",
       "    </tr>\n",
       "    <tr>\n",
       "      <th>1597</th>\n",
       "      <td>0.01500</td>\n",
       "      <td>New.CleanUp.ReferenceOTU53582</td>\n",
       "      <td>1</td>\n",
       "    </tr>\n",
       "    <tr>\n",
       "      <th>1590</th>\n",
       "      <td>0.01300</td>\n",
       "      <td>New.CleanUp.ReferenceOTU7100</td>\n",
       "      <td>1</td>\n",
       "    </tr>\n",
       "    <tr>\n",
       "      <th>2960</th>\n",
       "      <td>0.01175</td>\n",
       "      <td>New.CleanUp.ReferenceOTU9619</td>\n",
       "      <td>1</td>\n",
       "    </tr>\n",
       "    <tr>\n",
       "      <th>1379</th>\n",
       "      <td>0.01150</td>\n",
       "      <td>New.CleanUp.ReferenceOTU53243</td>\n",
       "      <td>1</td>\n",
       "    </tr>\n",
       "  </tbody>\n",
       "</table>\n",
       "</div>"
      ],
      "text/plain": [
       "      avg_score                  feature_names  retention_rate\n",
       "2865    0.01525   New.CleanUp.ReferenceOTU7059               1\n",
       "1597    0.01500  New.CleanUp.ReferenceOTU53582               1\n",
       "1590    0.01300   New.CleanUp.ReferenceOTU7100               1\n",
       "2960    0.01175   New.CleanUp.ReferenceOTU9619               1\n",
       "1379    0.01150  New.CleanUp.ReferenceOTU53243               1"
      ]
     },
     "execution_count": 38,
     "metadata": {},
     "output_type": "execute_result"
    }
   ],
   "source": [
    "my_otus_.tail()"
   ]
  },
  {
   "cell_type": "code",
   "execution_count": 39,
   "metadata": {
    "collapsed": false
   },
   "outputs": [
    {
     "data": {
      "text/plain": [
       "(12, 339)"
      ]
     },
     "execution_count": 39,
     "metadata": {},
     "output_type": "execute_result"
    }
   ],
   "source": [
    "X_best = X[my_otus_.feature_names.values]\n",
    "X_best.shape"
   ]
  },
  {
   "cell_type": "code",
   "execution_count": 40,
   "metadata": {
    "collapsed": false
   },
   "outputs": [
    {
     "name": "stdout",
     "output_type": "stream",
     "text": [
      "explained_variance_ratio_ of top 2: 0.951516832303\n",
      "             PC 1      PC 2\n",
      "WT      -1.671355 -1.686740\n",
      "WT      -1.563383 -1.236054\n",
      "TregWKO -1.424953  2.159380\n",
      "WT      -1.526828 -1.083472\n",
      "WKO      4.524917 -0.639644\n",
      "WKO      4.260435  0.518406\n",
      "TregWKO -1.181174  1.635776\n",
      "WT      -1.567141 -1.251744\n",
      "WT      -1.641488 -1.562072\n",
      "WKO      4.692635 -0.113817\n",
      "TregWKO -1.429026  2.249329\n",
      "TregWKO -1.472638  1.010652\n"
     ]
    }
   ],
   "source": [
    "top_n_sorted_features = 10\n",
    "\n",
    "# pca = PCA(n_components=2, whiten=False)\n",
    "pca = RandomizedPCA(n_components=2, whiten=False)\n",
    "\n",
    "pca_t = pca.fit_transform(X_best.iloc[:,:top_n_sorted_features],y_geno_encoded_spc)\n",
    "top_n_comp = 2\n",
    "print('explained_variance_ratio_ of top {num}: {val}'.format(num=top_n_comp,val=pca.explained_variance_ratio_[:top_n_comp].sum()))\n",
    "\n",
    "pca_t_l = pandas_helpers.repandasify(array=pca_t, y_names=geno_encoder.inverse_transform(y_geno_encoded_spc), X_names=['PC {v_}'.format(v_=v+1) for v in range(len(pca_t[0]))])\n",
    "print(pca_t_l)"
   ]
  },
  {
   "cell_type": "code",
   "execution_count": 41,
   "metadata": {
    "collapsed": false
   },
   "outputs": [],
   "source": [
    "pca_t_l = pandas_helpers.repandasify(array=pca_t, y_names=geno_encoder.inverse_transform(y_geno_encoded_spc), X_names=['PC {v_}'.format(v_=v+1) for v in range(len(pca_t[0]))])\n",
    "\n",
    "pca_t_l['geno'] = pca_t_l.index.values\n",
    "pca_t_l = pca_t_l.reset_index(drop=True)\n",
    "pca_t_l['Cage'] = full_table.Cage.astype(str)\n",
    "pca_t_l['Sex'] = full_table.Gender\n",
    "pca_t_l['Specific Genotype'] = full_table.Genotype1\n",
    "# pca_t_l"
   ]
  },
  {
   "cell_type": "code",
   "execution_count": 42,
   "metadata": {
    "collapsed": true
   },
   "outputs": [],
   "source": [
    "plot_alpha = 0.7"
   ]
  },
  {
   "cell_type": "code",
   "execution_count": 43,
   "metadata": {
    "collapsed": false
   },
   "outputs": [
    {
     "data": {
      "image/png": "[encoded data removed]",
      "text/plain": [
       "<matplotlib.figure.Figure at 0x7f0d7e52fc10>"
      ]
     },
     "metadata": {},
     "output_type": "display_data"
    }
   ],
   "source": [
    "with sns.color_palette(sns.color_palette(\"hls\", 3)):\n",
    "    with sns.axes_style(\"white\"):\n",
    "        sns.lmplot(x='PC 1', y='PC 2', data=pca_t_l.append(pca_t_l.iloc[9,:]), #sns.lmplot(x='PC 1', y='PC 2', data=pca_t_l,\n",
    "                   hue='Specific Genotype', palette=None,\n",
    "                   fit_reg=False,\n",
    "                   scatter_kws={'alpha':plot_alpha}\n",
    "                  );"
   ]
  },
  {
   "cell_type": "code",
   "execution_count": 68,
   "metadata": {
    "collapsed": false
   },
   "outputs": [
    {
     "name": "stdout",
     "output_type": "stream",
     "text": [
      "\n"
     ]
    }
   ],
   "source": [
    "\n",
    "# tsne = TSNE(n_components=2, random_state=None, init='random')\n",
    "\n",
    "# tsne_t = tsne.fit_transform(X_best.iloc[:,:top_n_sorted_features],y_geno_encoded_spc)\n",
    "\n",
    "# tsne_t_l = pandas_helpers.repandasify(array=tsne_t, y_names=geno_encoder.inverse_transform(y_geno_encoded_spc), X_names=['tSNE {v_}'.format(v_=v+1) for v in range(len(tsne_t[0]))])\n",
    "\n",
    "# tsne_t_l = tsne_t_l*1000\n",
    "\n",
    "# print()"
   ]
  },
  {
   "cell_type": "code",
   "execution_count": 69,
   "metadata": {
    "collapsed": false
   },
   "outputs": [],
   "source": [
    "# tsne_t_l['geno'] = tsne_t_l.index.values\n",
    "# tsne_t_l = tsne_t_l.reset_index(drop=True)\n",
    "# tsne_t_l['Cage'] = full_table.Cage.astype(str)\n",
    "# tsne_t_l['Sex'] = full_table.Gender\n",
    "# tsne_t_l['Specific Genotype'] = full_table.Genotype1\n",
    "# # tsne_t_l"
   ]
  },
  {
   "cell_type": "code",
   "execution_count": 70,
   "metadata": {
    "collapsed": false
   },
   "outputs": [
    {
     "data": {
      "image/png": "[encoded data removed]",
      "text/plain": [
       "<matplotlib.figure.Figure at 0x7f0d7eb21250>"
      ]
     },
     "metadata": {},
     "output_type": "display_data"
    }
   ],
   "source": [
    "# with sns.color_palette(sns.color_palette(\"hls\", 3)):\n",
    "#     with sns.axes_style(\"white\"):\n",
    "#         sns.lmplot(x='tSNE 1', y='tSNE 2', data=tsne_t_l.append(tsne_t_l.iloc[9,:]), #sns.lmplot(x='PC 1', y='PC 2', data=tsne_t_l,\n",
    "#                    hue='Specific Genotype', palette=None,\n",
    "#                    fit_reg=False,\n",
    "#                    scatter_kws={'alpha':plot_alpha}\n",
    "#                   );"
   ]
  },
  {
   "cell_type": "markdown",
   "metadata": {},
   "source": [
    "# Write top 10 OTUs to file for Amy"
   ]
  },
  {
   "cell_type": "code",
   "execution_count": 47,
   "metadata": {
    "collapsed": true
   },
   "outputs": [],
   "source": [
    "# out_path = \"/home/gus/MEGAsync/zim/main/BCH/Projects/Amy/2016-01-07_~_16s_data/top_10_OTUs_3_genotypes.xls\""
   ]
  },
  {
   "cell_type": "code",
   "execution_count": 48,
   "metadata": {
    "collapsed": false
   },
   "outputs": [
    {
     "ename": "NameError",
     "evalue": "name 'my_otus_0_001' is not defined",
     "output_type": "error",
     "traceback": [
      "\u001b[1;31m---------------------------------------------------------------------------\u001b[0m",
      "\u001b[1;31mNameError\u001b[0m                                 Traceback (most recent call last)",
      "\u001b[1;32m<ipython-input-48-5d1d9ab1e35d>\u001b[0m in \u001b[0;36m<module>\u001b[1;34m()\u001b[0m\n\u001b[1;32m----> 1\u001b[1;33m \u001b[0mtop_10\u001b[0m \u001b[1;33m=\u001b[0m \u001b[0mmy_otus_0_001\u001b[0m\u001b[1;33m.\u001b[0m\u001b[0miloc\u001b[0m\u001b[1;33m[\u001b[0m\u001b[1;33m:\u001b[0m\u001b[1;36m10\u001b[0m\u001b[1;33m,\u001b[0m\u001b[1;33m:\u001b[0m\u001b[1;33m]\u001b[0m\u001b[1;33m\u001b[0m\u001b[0m\n\u001b[0m\u001b[0;32m      2\u001b[0m \u001b[1;31m# top_10.to_excel(out_path,index=False,)\u001b[0m\u001b[1;33m\u001b[0m\u001b[1;33m\u001b[0m\u001b[0m\n",
      "\u001b[1;31mNameError\u001b[0m: name 'my_otus_0_001' is not defined"
     ]
    }
   ],
   "source": [
    "# top_10 = my_otus_0_001.iloc[:10,:]\n",
    "# # top_10.to_excel(out_path,index=False,)"
   ]
  },
  {
   "cell_type": "markdown",
   "metadata": {
    "collapsed": true
   },
   "source": [
    "# Test crossvalidation results and preditions on reduced data"
   ]
  },
  {
   "cell_type": "code",
   "execution_count": null,
   "metadata": {
    "collapsed": false
   },
   "outputs": [],
   "source": [
    "X_reduced = X[top_10.feature_names.values.astype(str)]"
   ]
  },
  {
   "cell_type": "code",
   "execution_count": null,
   "metadata": {
    "collapsed": false
   },
   "outputs": [],
   "source": [
    "X_reduced"
   ]
  },
  {
   "cell_type": "markdown",
   "metadata": {},
   "source": [
    "## split data into training and testing"
   ]
  },
  {
   "cell_type": "code",
   "execution_count": null,
   "metadata": {
    "collapsed": true
   },
   "outputs": [],
   "source": [
    "X_train, X_test, y_train, y_test = train_test_split(X_reduced, y_geno_encoded_spc,\n",
    "                                                    test_size=0.33, random_state=42,\n",
    "                                                   )"
   ]
  },
  {
   "cell_type": "code",
   "execution_count": null,
   "metadata": {
    "collapsed": false
   },
   "outputs": [],
   "source": [
    "y_geno_encoded_spc"
   ]
  },
  {
   "cell_type": "code",
   "execution_count": null,
   "metadata": {
    "collapsed": false
   },
   "outputs": [],
   "source": [
    "X_reduced"
   ]
  },
  {
   "cell_type": "markdown",
   "metadata": {},
   "source": [
    "## SVM classifier"
   ]
  },
  {
   "cell_type": "code",
   "execution_count": null,
   "metadata": {
    "collapsed": false
   },
   "outputs": [],
   "source": [
    "svc_param_grid = {'svc__C': 10. ** np.arange(-3, 3),\n",
    "                  'svc__gamma': 10. ** np.arange(-3, 3)\n",
    "                 }\n",
    "\n",
    "\n",
    "\n",
    "svc_pipe = make_pipeline(SVC(kernel='linear', random_state=42))\n",
    "\n",
    "# run the gridsearch to tune the hyper-parameters\n",
    "svc_grid = GridSearchCV(svc_pipe, param_grid=svc_param_grid, cv=3)\n",
    "\n",
    "svc_grid.fit(X_train, y_train)\n",
    "print(svc_grid.best_params_)\n",
    "\n",
    "\n",
    "# generate and plot confusion matrices\n",
    "svc_cm = confusion_matrix(y_test,svc_grid.predict(X_test))\n",
    "\n"
   ]
  },
  {
   "cell_type": "code",
   "execution_count": null,
   "metadata": {
    "collapsed": false
   },
   "outputs": [],
   "source": [
    "# Non-normalized\n",
    "model_assessment.plot_confusion_matrix(cm=svc_cm, labels=geno_encoder.classes_, cmap='Blues', title=None,\n",
    "                 norm=False, context=None, annot=True);\n"
   ]
  },
  {
   "cell_type": "code",
   "execution_count": null,
   "metadata": {
    "collapsed": false
   },
   "outputs": [],
   "source": [
    "# Normalized\n",
    "model_assessment.plot_confusion_matrix(cm=svc_cm, labels=geno_encoder.classes_, cmap='Blues', title=None,\n",
    "                 norm=True, context=None, annot=True);"
   ]
  },
  {
   "cell_type": "markdown",
   "metadata": {},
   "source": [
    "## RandomForest classifier"
   ]
  },
  {
   "cell_type": "code",
   "execution_count": null,
   "metadata": {
    "collapsed": false
   },
   "outputs": [],
   "source": [
    "rfst_param_grid = {'randomforestclassifier__n_estimators': np.arange(1,15,),\n",
    "                   'randomforestclassifier__min_samples_leaf': np.arange(1,10,2)\n",
    "                  }\n",
    "\n",
    "\n",
    "\n",
    "rfst_pipe = make_pipeline(RandomForestClassifier(random_state=42,n_jobs=8))\n",
    "\n",
    "# run the gridsearch to tune the hyper-parameters\n",
    "rfst_grid = GridSearchCV(rfst_pipe, param_grid=rfst_param_grid, cv=3)\n",
    "\n",
    "\n",
    "rfst_grid.fit(X_train, y_train)\n",
    "print(rfst_grid.best_params_)\n",
    "\n",
    "\n",
    "# generate and plot confusion matrices\n",
    "rfst_cm = confusion_matrix(y_test,rfst_grid.predict(X_test))"
   ]
  },
  {
   "cell_type": "code",
   "execution_count": null,
   "metadata": {
    "collapsed": false
   },
   "outputs": [],
   "source": [
    "# Non-normalized\n",
    "model_assessment.plot_confusion_matrix(cm=svc_cm, labels=geno_encoder.classes_, cmap='Blues', title=None,\n",
    "                 norm=False, context=None, annot=True);"
   ]
  },
  {
   "cell_type": "code",
   "execution_count": null,
   "metadata": {
    "collapsed": false
   },
   "outputs": [],
   "source": [
    "# Normalized\n",
    "model_assessment.plot_confusion_matrix(cm=svc_cm, labels=geno_encoder.classes_, cmap='Blues', title=None,\n",
    "                 norm=True, context=None, annot=True);"
   ]
  },
  {
   "cell_type": "markdown",
   "metadata": {},
   "source": [
    "## LogisticRegression classifier"
   ]
  },
  {
   "cell_type": "code",
   "execution_count": null,
   "metadata": {
    "collapsed": true
   },
   "outputs": [],
   "source": []
  }
 ],
 "metadata": {
  "kernelspec": {
   "display_name": "Python 2",
   "language": "python",
   "name": "python2"
  },
  "language_info": {
   "codemirror_mode": {
    "name": "ipython",
    "version": 2
   },
   "file_extension": ".py",
   "mimetype": "text/x-python",
   "name": "python",
   "nbconvert_exporter": "python",
   "pygments_lexer": "ipython2",
   "version": "2.7.11"
  }
 },
 "nbformat": 4,
 "nbformat_minor": 0
}
