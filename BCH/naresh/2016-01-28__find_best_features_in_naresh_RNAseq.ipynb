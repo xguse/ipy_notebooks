{
 "cells": [
  {
   "cell_type": "code",
   "execution_count": 1,
   "metadata": {
    "collapsed": false
   },
   "outputs": [],
   "source": [
    "%matplotlib inline\n",
    "# %matplotlib"
   ]
  },
  {
   "cell_type": "code",
   "execution_count": 2,
   "metadata": {
    "collapsed": true
   },
   "outputs": [],
   "source": [
    "import time"
   ]
  },
  {
   "cell_type": "code",
   "execution_count": 3,
   "metadata": {
    "collapsed": true
   },
   "outputs": [],
   "source": [
    "from __future__ import division,print_function"
   ]
  },
  {
   "cell_type": "code",
   "execution_count": 4,
   "metadata": {
    "collapsed": false
   },
   "outputs": [],
   "source": [
    "from spartan.utils.sklearn import model_assessment, feature_selection\n",
    "from spartan.utils.sklearn import pandas_helpers"
   ]
  },
  {
   "cell_type": "code",
   "execution_count": 5,
   "metadata": {
    "collapsed": false
   },
   "outputs": [],
   "source": [
    "from collections import Counter, defaultdict\n",
    "import math\n",
    "\n",
    "import numpy as np\n",
    "import pandas as pd\n",
    "import sklearn as skl\n",
    "import sklearn.preprocessing as ppro\n",
    "\n",
    "from sklearn.pipeline import Pipeline\n",
    "from sklearn.pipeline import make_pipeline\n",
    "\n",
    "from sklearn.decomposition import PCA, RandomizedPCA, KernelPCA, FactorAnalysis\n",
    "from sklearn.discriminant_analysis import LinearDiscriminantAnalysis\n",
    "\n",
    "from sklearn.grid_search import GridSearchCV\n",
    "\n",
    "from sklearn.cross_validation import train_test_split\n",
    "\n",
    "from sklearn.svm import SVC, LinearSVC\n",
    "from sklearn.ensemble import RandomForestClassifier,ExtraTreesClassifier\n",
    "from sklearn.dummy import DummyClassifier\n",
    "\n",
    "from sklearn.linear_model import LogisticRegression\n",
    "from sklearn.linear_model import RandomizedLogisticRegression\n",
    "from sklearn.linear_model import Lasso\n",
    "\n",
    "from sklearn.feature_selection import SelectKBest\n",
    "from sklearn.feature_selection import chi2, univariate_selection\n",
    "from sklearn.feature_selection import SelectFromModel\n",
    "\n",
    "from sklearn.metrics import confusion_matrix\n",
    "\n"
   ]
  },
  {
   "cell_type": "code",
   "execution_count": 6,
   "metadata": {
    "collapsed": true
   },
   "outputs": [],
   "source": [
    "from matplotlib import pyplot as plt\n",
    "import seaborn as sns"
   ]
  },
  {
   "cell_type": "code",
   "execution_count": 7,
   "metadata": {
    "collapsed": false
   },
   "outputs": [],
   "source": [
    "sns.set_context('poster')"
   ]
  },
  {
   "cell_type": "code",
   "execution_count": 8,
   "metadata": {
    "collapsed": false
   },
   "outputs": [],
   "source": [
    "data = pd.read_excel(\"/home/gus/MEGAsync/zim/main/BCH/Projects/Naresh/RNAseq/genes_log3WH.xlsx\")"
   ]
  },
  {
   "cell_type": "code",
   "execution_count": 9,
   "metadata": {
    "collapsed": false
   },
   "outputs": [
    {
     "data": {
      "text/html": [
       "<div>\n",
       "<table border=\"1\" class=\"dataframe\">\n",
       "  <thead>\n",
       "    <tr style=\"text-align: right;\">\n",
       "      <th></th>\n",
       "      <th>tracking_id</th>\n",
       "      <th>class_code</th>\n",
       "      <th>nearest_ref_id</th>\n",
       "      <th>gene_id</th>\n",
       "      <th>gene_short_name</th>\n",
       "      <th>tss_id</th>\n",
       "      <th>locus</th>\n",
       "      <th>length</th>\n",
       "      <th>coverage</th>\n",
       "      <th>1WH1_FPKM</th>\n",
       "      <th>...</th>\n",
       "      <th>3WH1_FPKM</th>\n",
       "      <th>3WK1_FPKM</th>\n",
       "      <th>12WH2_FPKM</th>\n",
       "      <th>12WK2_FPKM</th>\n",
       "      <th>log1WH</th>\n",
       "      <th>log1WK</th>\n",
       "      <th>log3WH</th>\n",
       "      <th>log3WK</th>\n",
       "      <th>log12WH</th>\n",
       "      <th>log12WK</th>\n",
       "    </tr>\n",
       "  </thead>\n",
       "  <tbody>\n",
       "    <tr>\n",
       "      <th>0</th>\n",
       "      <td>ENSMUSG00000028167</td>\n",
       "      <td>-</td>\n",
       "      <td>-</td>\n",
       "      <td>ENSMUSG00000028167</td>\n",
       "      <td>Bdh2</td>\n",
       "      <td>-</td>\n",
       "      <td>chr3:135281220-135304426</td>\n",
       "      <td>-</td>\n",
       "      <td>-</td>\n",
       "      <td>0.000056</td>\n",
       "      <td>...</td>\n",
       "      <td>0.205478</td>\n",
       "      <td>0.077530</td>\n",
       "      <td>0.342887</td>\n",
       "      <td>0.237588</td>\n",
       "      <td>-11.851611</td>\n",
       "      <td>-1.650177</td>\n",
       "      <td>0</td>\n",
       "      <td>-1.406152</td>\n",
       "      <td>0.738749</td>\n",
       "      <td>0.209478</td>\n",
       "    </tr>\n",
       "    <tr>\n",
       "      <th>1</th>\n",
       "      <td>ENSMUSG00000052414</td>\n",
       "      <td>-</td>\n",
       "      <td>-</td>\n",
       "      <td>ENSMUSG00000052414</td>\n",
       "      <td>Gm28047</td>\n",
       "      <td>-</td>\n",
       "      <td>chr15:102523838-102625464</td>\n",
       "      <td>-</td>\n",
       "      <td>-</td>\n",
       "      <td>0.000503</td>\n",
       "      <td>...</td>\n",
       "      <td>0.676173</td>\n",
       "      <td>0.319848</td>\n",
       "      <td>0.000443</td>\n",
       "      <td>0.000000</td>\n",
       "      <td>-10.392320</td>\n",
       "      <td>-11.320051</td>\n",
       "      <td>0</td>\n",
       "      <td>-1.080006</td>\n",
       "      <td>-10.576838</td>\n",
       "      <td>NaN</td>\n",
       "    </tr>\n",
       "    <tr>\n",
       "      <th>2</th>\n",
       "      <td>ENSMUSG00000076128</td>\n",
       "      <td>-</td>\n",
       "      <td>-</td>\n",
       "      <td>ENSMUSG00000076128</td>\n",
       "      <td>Mir686</td>\n",
       "      <td>-</td>\n",
       "      <td>chr14:54614119-54617995</td>\n",
       "      <td>-</td>\n",
       "      <td>-</td>\n",
       "      <td>0.104032</td>\n",
       "      <td>...</td>\n",
       "      <td>82.695900</td>\n",
       "      <td>0.000000</td>\n",
       "      <td>23.360600</td>\n",
       "      <td>0.438910</td>\n",
       "      <td>-9.634645</td>\n",
       "      <td>-2.978292</td>\n",
       "      <td>0</td>\n",
       "      <td>NaN</td>\n",
       "      <td>-1.823738</td>\n",
       "      <td>-7.557747</td>\n",
       "    </tr>\n",
       "    <tr>\n",
       "      <th>3</th>\n",
       "      <td>ENSMUSG00000091071</td>\n",
       "      <td>-</td>\n",
       "      <td>-</td>\n",
       "      <td>ENSMUSG00000091071</td>\n",
       "      <td>1700030C10Rik</td>\n",
       "      <td>-</td>\n",
       "      <td>chr12:20804380-20815779</td>\n",
       "      <td>-</td>\n",
       "      <td>-</td>\n",
       "      <td>0.021897</td>\n",
       "      <td>...</td>\n",
       "      <td>10.595400</td>\n",
       "      <td>0.037717</td>\n",
       "      <td>0.009808</td>\n",
       "      <td>0.000000</td>\n",
       "      <td>-8.918483</td>\n",
       "      <td>-7.727768</td>\n",
       "      <td>0</td>\n",
       "      <td>-8.134019</td>\n",
       "      <td>-10.077155</td>\n",
       "      <td>NaN</td>\n",
       "    </tr>\n",
       "    <tr>\n",
       "      <th>4</th>\n",
       "      <td>ENSMUSG00000042251</td>\n",
       "      <td>-</td>\n",
       "      <td>-</td>\n",
       "      <td>ENSMUSG00000042251</td>\n",
       "      <td>Pm20d1</td>\n",
       "      <td>-</td>\n",
       "      <td>chr1:131797380-131821473</td>\n",
       "      <td>-</td>\n",
       "      <td>-</td>\n",
       "      <td>0.033215</td>\n",
       "      <td>...</td>\n",
       "      <td>5.645610</td>\n",
       "      <td>0.321783</td>\n",
       "      <td>0.239373</td>\n",
       "      <td>0.058433</td>\n",
       "      <td>-7.409172</td>\n",
       "      <td>-4.941761</td>\n",
       "      <td>0</td>\n",
       "      <td>-4.132969</td>\n",
       "      <td>-4.559797</td>\n",
       "      <td>-6.594212</td>\n",
       "    </tr>\n",
       "  </tbody>\n",
       "</table>\n",
       "<p>5 rows × 21 columns</p>\n",
       "</div>"
      ],
      "text/plain": [
       "          tracking_id class_code nearest_ref_id             gene_id  \\\n",
       "0  ENSMUSG00000028167          -              -  ENSMUSG00000028167   \n",
       "1  ENSMUSG00000052414          -              -  ENSMUSG00000052414   \n",
       "2  ENSMUSG00000076128          -              -  ENSMUSG00000076128   \n",
       "3  ENSMUSG00000091071          -              -  ENSMUSG00000091071   \n",
       "4  ENSMUSG00000042251          -              -  ENSMUSG00000042251   \n",
       "\n",
       "  gene_short_name tss_id                      locus length coverage  \\\n",
       "0            Bdh2      -   chr3:135281220-135304426      -        -   \n",
       "1         Gm28047      -  chr15:102523838-102625464      -        -   \n",
       "2          Mir686      -    chr14:54614119-54617995      -        -   \n",
       "3   1700030C10Rik      -    chr12:20804380-20815779      -        -   \n",
       "4          Pm20d1      -   chr1:131797380-131821473      -        -   \n",
       "\n",
       "   1WH1_FPKM    ...     3WH1_FPKM  3WK1_FPKM  12WH2_FPKM  12WK2_FPKM  \\\n",
       "0   0.000056    ...      0.205478   0.077530    0.342887    0.237588   \n",
       "1   0.000503    ...      0.676173   0.319848    0.000443    0.000000   \n",
       "2   0.104032    ...     82.695900   0.000000   23.360600    0.438910   \n",
       "3   0.021897    ...     10.595400   0.037717    0.009808    0.000000   \n",
       "4   0.033215    ...      5.645610   0.321783    0.239373    0.058433   \n",
       "\n",
       "      log1WH     log1WK  log3WH    log3WK    log12WH   log12WK  \n",
       "0 -11.851611  -1.650177       0 -1.406152   0.738749  0.209478  \n",
       "1 -10.392320 -11.320051       0 -1.080006 -10.576838       NaN  \n",
       "2  -9.634645  -2.978292       0       NaN  -1.823738 -7.557747  \n",
       "3  -8.918483  -7.727768       0 -8.134019 -10.077155       NaN  \n",
       "4  -7.409172  -4.941761       0 -4.132969  -4.559797 -6.594212  \n",
       "\n",
       "[5 rows x 21 columns]"
      ]
     },
     "execution_count": 9,
     "metadata": {},
     "output_type": "execute_result"
    }
   ],
   "source": [
    "data.head()"
   ]
  },
  {
   "cell_type": "code",
   "execution_count": 10,
   "metadata": {
    "collapsed": false
   },
   "outputs": [
    {
     "data": {
      "text/plain": [
       "Index([u'tracking_id', u'class_code', u'nearest_ref_id', u'gene_id',\n",
       "       u'gene_short_name', u'tss_id', u'locus', u'length', u'coverage',\n",
       "       u'1WH1_FPKM', u'1WK1_FPKM', u'3WH1_FPKM', u'3WK1_FPKM', u'12WH2_FPKM',\n",
       "       u'12WK2_FPKM', u'log1WH', u'log1WK', u'log3WH', u'log3WK', u'log12WH',\n",
       "       u'log12WK'],\n",
       "      dtype='object')"
      ]
     },
     "execution_count": 10,
     "metadata": {},
     "output_type": "execute_result"
    }
   ],
   "source": [
    "data.columns"
   ]
  },
  {
   "cell_type": "code",
   "execution_count": 12,
   "metadata": {
    "collapsed": false
   },
   "outputs": [
    {
     "data": {
      "text/html": [
       "<div>\n",
       "<table border=\"1\" class=\"dataframe\">\n",
       "  <thead>\n",
       "    <tr style=\"text-align: right;\">\n",
       "      <th></th>\n",
       "      <th>tracking_id</th>\n",
       "      <th>1WH1_FPKM</th>\n",
       "      <th>1WK1_FPKM</th>\n",
       "      <th>3WH1_FPKM</th>\n",
       "      <th>3WK1_FPKM</th>\n",
       "      <th>12WH2_FPKM</th>\n",
       "      <th>12WK2_FPKM</th>\n",
       "    </tr>\n",
       "  </thead>\n",
       "  <tbody>\n",
       "    <tr>\n",
       "      <th>0</th>\n",
       "      <td>ENSMUSG00000028167</td>\n",
       "      <td>0.000056</td>\n",
       "      <td>0.065465</td>\n",
       "      <td>0.205478</td>\n",
       "      <td>0.077530</td>\n",
       "      <td>0.342887</td>\n",
       "      <td>0.237588</td>\n",
       "    </tr>\n",
       "    <tr>\n",
       "      <th>1</th>\n",
       "      <td>ENSMUSG00000052414</td>\n",
       "      <td>0.000503</td>\n",
       "      <td>0.000264</td>\n",
       "      <td>0.676173</td>\n",
       "      <td>0.319848</td>\n",
       "      <td>0.000443</td>\n",
       "      <td>0.000000</td>\n",
       "    </tr>\n",
       "    <tr>\n",
       "      <th>2</th>\n",
       "      <td>ENSMUSG00000076128</td>\n",
       "      <td>0.104032</td>\n",
       "      <td>10.493700</td>\n",
       "      <td>82.695900</td>\n",
       "      <td>0.000000</td>\n",
       "      <td>23.360600</td>\n",
       "      <td>0.438910</td>\n",
       "    </tr>\n",
       "    <tr>\n",
       "      <th>3</th>\n",
       "      <td>ENSMUSG00000091071</td>\n",
       "      <td>0.021897</td>\n",
       "      <td>0.049984</td>\n",
       "      <td>10.595400</td>\n",
       "      <td>0.037717</td>\n",
       "      <td>0.009808</td>\n",
       "      <td>0.000000</td>\n",
       "    </tr>\n",
       "    <tr>\n",
       "      <th>4</th>\n",
       "      <td>ENSMUSG00000042251</td>\n",
       "      <td>0.033215</td>\n",
       "      <td>0.183693</td>\n",
       "      <td>5.645610</td>\n",
       "      <td>0.321783</td>\n",
       "      <td>0.239373</td>\n",
       "      <td>0.058433</td>\n",
       "    </tr>\n",
       "  </tbody>\n",
       "</table>\n",
       "</div>"
      ],
      "text/plain": [
       "          tracking_id  1WH1_FPKM  1WK1_FPKM  3WH1_FPKM  3WK1_FPKM  12WH2_FPKM  \\\n",
       "0  ENSMUSG00000028167   0.000056   0.065465   0.205478   0.077530    0.342887   \n",
       "1  ENSMUSG00000052414   0.000503   0.000264   0.676173   0.319848    0.000443   \n",
       "2  ENSMUSG00000076128   0.104032  10.493700  82.695900   0.000000   23.360600   \n",
       "3  ENSMUSG00000091071   0.021897   0.049984  10.595400   0.037717    0.009808   \n",
       "4  ENSMUSG00000042251   0.033215   0.183693   5.645610   0.321783    0.239373   \n",
       "\n",
       "   12WK2_FPKM  \n",
       "0    0.237588  \n",
       "1    0.000000  \n",
       "2    0.438910  \n",
       "3    0.000000  \n",
       "4    0.058433  "
      ]
     },
     "execution_count": 12,
     "metadata": {},
     "output_type": "execute_result"
    }
   ],
   "source": [
    "data_fpkm = data[['tracking_id','1WH1_FPKM','1WK1_FPKM','3WH1_FPKM','3WK1_FPKM','12WH2_FPKM','12WK2_FPKM']]\n",
    "data_fpkm.head()"
   ]
  },
  {
   "cell_type": "code",
   "execution_count": 13,
   "metadata": {
    "collapsed": false
   },
   "outputs": [
    {
     "data": {
      "text/html": [
       "<div>\n",
       "<table border=\"1\" class=\"dataframe\">\n",
       "  <thead>\n",
       "    <tr style=\"text-align: right;\">\n",
       "      <th></th>\n",
       "      <th>1WH1_FPKM</th>\n",
       "      <th>1WK1_FPKM</th>\n",
       "      <th>3WH1_FPKM</th>\n",
       "      <th>3WK1_FPKM</th>\n",
       "      <th>12WH2_FPKM</th>\n",
       "      <th>12WK2_FPKM</th>\n",
       "    </tr>\n",
       "    <tr>\n",
       "      <th>tracking_id</th>\n",
       "      <th></th>\n",
       "      <th></th>\n",
       "      <th></th>\n",
       "      <th></th>\n",
       "      <th></th>\n",
       "      <th></th>\n",
       "    </tr>\n",
       "  </thead>\n",
       "  <tbody>\n",
       "    <tr>\n",
       "      <th>ENSMUSG00000028167</th>\n",
       "      <td>0.000056</td>\n",
       "      <td>0.065465</td>\n",
       "      <td>0.205478</td>\n",
       "      <td>0.077530</td>\n",
       "      <td>0.342887</td>\n",
       "      <td>0.237588</td>\n",
       "    </tr>\n",
       "    <tr>\n",
       "      <th>ENSMUSG00000052414</th>\n",
       "      <td>0.000503</td>\n",
       "      <td>0.000264</td>\n",
       "      <td>0.676173</td>\n",
       "      <td>0.319848</td>\n",
       "      <td>0.000443</td>\n",
       "      <td>0.000000</td>\n",
       "    </tr>\n",
       "    <tr>\n",
       "      <th>ENSMUSG00000076128</th>\n",
       "      <td>0.104032</td>\n",
       "      <td>10.493700</td>\n",
       "      <td>82.695900</td>\n",
       "      <td>0.000000</td>\n",
       "      <td>23.360600</td>\n",
       "      <td>0.438910</td>\n",
       "    </tr>\n",
       "    <tr>\n",
       "      <th>ENSMUSG00000091071</th>\n",
       "      <td>0.021897</td>\n",
       "      <td>0.049984</td>\n",
       "      <td>10.595400</td>\n",
       "      <td>0.037717</td>\n",
       "      <td>0.009808</td>\n",
       "      <td>0.000000</td>\n",
       "    </tr>\n",
       "    <tr>\n",
       "      <th>ENSMUSG00000042251</th>\n",
       "      <td>0.033215</td>\n",
       "      <td>0.183693</td>\n",
       "      <td>5.645610</td>\n",
       "      <td>0.321783</td>\n",
       "      <td>0.239373</td>\n",
       "      <td>0.058433</td>\n",
       "    </tr>\n",
       "  </tbody>\n",
       "</table>\n",
       "</div>"
      ],
      "text/plain": [
       "                    1WH1_FPKM  1WK1_FPKM  3WH1_FPKM  3WK1_FPKM  12WH2_FPKM  \\\n",
       "tracking_id                                                                  \n",
       "ENSMUSG00000028167   0.000056   0.065465   0.205478   0.077530    0.342887   \n",
       "ENSMUSG00000052414   0.000503   0.000264   0.676173   0.319848    0.000443   \n",
       "ENSMUSG00000076128   0.104032  10.493700  82.695900   0.000000   23.360600   \n",
       "ENSMUSG00000091071   0.021897   0.049984  10.595400   0.037717    0.009808   \n",
       "ENSMUSG00000042251   0.033215   0.183693   5.645610   0.321783    0.239373   \n",
       "\n",
       "                    12WK2_FPKM  \n",
       "tracking_id                     \n",
       "ENSMUSG00000028167    0.237588  \n",
       "ENSMUSG00000052414    0.000000  \n",
       "ENSMUSG00000076128    0.438910  \n",
       "ENSMUSG00000091071    0.000000  \n",
       "ENSMUSG00000042251    0.058433  "
      ]
     },
     "execution_count": 13,
     "metadata": {},
     "output_type": "execute_result"
    }
   ],
   "source": [
    "data_fpkm = data_fpkm.set_index('tracking_id').copy()\n",
    "data_fpkm.head()"
   ]
  },
  {
   "cell_type": "code",
   "execution_count": 14,
   "metadata": {
    "collapsed": false
   },
   "outputs": [],
   "source": [
    "fpkm = data_fpkm.T.copy()"
   ]
  },
  {
   "cell_type": "code",
   "execution_count": 15,
   "metadata": {
    "collapsed": false
   },
   "outputs": [
    {
     "data": {
      "text/html": [
       "<div>\n",
       "<table border=\"1\" class=\"dataframe\">\n",
       "  <thead>\n",
       "    <tr style=\"text-align: right;\">\n",
       "      <th>tracking_id</th>\n",
       "      <th>ENSMUSG00000028167</th>\n",
       "      <th>ENSMUSG00000052414</th>\n",
       "      <th>ENSMUSG00000076128</th>\n",
       "      <th>ENSMUSG00000091071</th>\n",
       "      <th>ENSMUSG00000042251</th>\n",
       "      <th>ENSMUSG00000069515</th>\n",
       "      <th>ENSMUSG00000022818</th>\n",
       "      <th>ENSMUSG00000040026</th>\n",
       "      <th>ENSMUSG00000020017</th>\n",
       "      <th>ENSMUSG00000028699</th>\n",
       "      <th>...</th>\n",
       "      <th>ENSMUSG00000031965</th>\n",
       "      <th>ENSMUSG00000049804</th>\n",
       "      <th>ENSMUSG00000062151</th>\n",
       "      <th>ENSMUSG00000046532</th>\n",
       "      <th>ENSMUSG00000061603</th>\n",
       "      <th>ENSMUSG00000046958</th>\n",
       "      <th>ENSMUSG00000076236</th>\n",
       "      <th>ENSMUSG00000030209</th>\n",
       "      <th>ENSMUSG00000100046</th>\n",
       "      <th>ENSMUSG00000098754</th>\n",
       "    </tr>\n",
       "  </thead>\n",
       "  <tbody>\n",
       "    <tr>\n",
       "      <th>1WH1_FPKM</th>\n",
       "      <td>0.000056</td>\n",
       "      <td>0.000503</td>\n",
       "      <td>0.104032</td>\n",
       "      <td>0.021897</td>\n",
       "      <td>0.033215</td>\n",
       "      <td>2.11964</td>\n",
       "      <td>0.011293</td>\n",
       "      <td>1.18057</td>\n",
       "      <td>0.654752</td>\n",
       "      <td>0.042601</td>\n",
       "      <td>...</td>\n",
       "      <td>0.004461</td>\n",
       "      <td>0.003568</td>\n",
       "      <td>0.003236</td>\n",
       "      <td>0.003127</td>\n",
       "      <td>0.002764</td>\n",
       "      <td>0.002607</td>\n",
       "      <td>0.002091</td>\n",
       "      <td>0.001187</td>\n",
       "      <td>0.000738</td>\n",
       "      <td>0.000063</td>\n",
       "    </tr>\n",
       "    <tr>\n",
       "      <th>1WK1_FPKM</th>\n",
       "      <td>0.065465</td>\n",
       "      <td>0.000264</td>\n",
       "      <td>10.493700</td>\n",
       "      <td>0.049984</td>\n",
       "      <td>0.183693</td>\n",
       "      <td>9.51395</td>\n",
       "      <td>0.031213</td>\n",
       "      <td>2.08476</td>\n",
       "      <td>3.433130</td>\n",
       "      <td>2.577210</td>\n",
       "      <td>...</td>\n",
       "      <td>0.000000</td>\n",
       "      <td>0.000000</td>\n",
       "      <td>0.000000</td>\n",
       "      <td>0.000000</td>\n",
       "      <td>0.000000</td>\n",
       "      <td>0.000000</td>\n",
       "      <td>0.000000</td>\n",
       "      <td>0.000000</td>\n",
       "      <td>0.000000</td>\n",
       "      <td>0.000052</td>\n",
       "    </tr>\n",
       "    <tr>\n",
       "      <th>3WH1_FPKM</th>\n",
       "      <td>0.205478</td>\n",
       "      <td>0.676173</td>\n",
       "      <td>82.695900</td>\n",
       "      <td>10.595400</td>\n",
       "      <td>5.645610</td>\n",
       "      <td>295.24000</td>\n",
       "      <td>1.343170</td>\n",
       "      <td>126.90700</td>\n",
       "      <td>68.837300</td>\n",
       "      <td>4.083650</td>\n",
       "      <td>...</td>\n",
       "      <td>0.000000</td>\n",
       "      <td>0.000000</td>\n",
       "      <td>0.000000</td>\n",
       "      <td>0.000000</td>\n",
       "      <td>0.000000</td>\n",
       "      <td>0.000000</td>\n",
       "      <td>0.000000</td>\n",
       "      <td>0.000000</td>\n",
       "      <td>0.000000</td>\n",
       "      <td>0.000000</td>\n",
       "    </tr>\n",
       "    <tr>\n",
       "      <th>3WK1_FPKM</th>\n",
       "      <td>0.077530</td>\n",
       "      <td>0.319848</td>\n",
       "      <td>0.000000</td>\n",
       "      <td>0.037717</td>\n",
       "      <td>0.321783</td>\n",
       "      <td>305.50000</td>\n",
       "      <td>0.450592</td>\n",
       "      <td>48.58040</td>\n",
       "      <td>109.721000</td>\n",
       "      <td>2.689990</td>\n",
       "      <td>...</td>\n",
       "      <td>0.000000</td>\n",
       "      <td>0.000000</td>\n",
       "      <td>0.000000</td>\n",
       "      <td>0.000000</td>\n",
       "      <td>0.000000</td>\n",
       "      <td>0.000000</td>\n",
       "      <td>0.000000</td>\n",
       "      <td>0.000000</td>\n",
       "      <td>0.000000</td>\n",
       "      <td>0.000000</td>\n",
       "    </tr>\n",
       "    <tr>\n",
       "      <th>12WH2_FPKM</th>\n",
       "      <td>0.342887</td>\n",
       "      <td>0.000443</td>\n",
       "      <td>23.360600</td>\n",
       "      <td>0.009808</td>\n",
       "      <td>0.239373</td>\n",
       "      <td>429.57200</td>\n",
       "      <td>0.534761</td>\n",
       "      <td>59.43200</td>\n",
       "      <td>209.012000</td>\n",
       "      <td>1.609380</td>\n",
       "      <td>...</td>\n",
       "      <td>0.000000</td>\n",
       "      <td>0.022381</td>\n",
       "      <td>0.000000</td>\n",
       "      <td>0.072850</td>\n",
       "      <td>0.018577</td>\n",
       "      <td>0.000000</td>\n",
       "      <td>0.000000</td>\n",
       "      <td>0.000532</td>\n",
       "      <td>0.027166</td>\n",
       "      <td>0.000000</td>\n",
       "    </tr>\n",
       "  </tbody>\n",
       "</table>\n",
       "<p>5 rows × 19227 columns</p>\n",
       "</div>"
      ],
      "text/plain": [
       "tracking_id  ENSMUSG00000028167  ENSMUSG00000052414  ENSMUSG00000076128  \\\n",
       "1WH1_FPKM              0.000056            0.000503            0.104032   \n",
       "1WK1_FPKM              0.065465            0.000264           10.493700   \n",
       "3WH1_FPKM              0.205478            0.676173           82.695900   \n",
       "3WK1_FPKM              0.077530            0.319848            0.000000   \n",
       "12WH2_FPKM             0.342887            0.000443           23.360600   \n",
       "\n",
       "tracking_id  ENSMUSG00000091071  ENSMUSG00000042251  ENSMUSG00000069515  \\\n",
       "1WH1_FPKM              0.021897            0.033215             2.11964   \n",
       "1WK1_FPKM              0.049984            0.183693             9.51395   \n",
       "3WH1_FPKM             10.595400            5.645610           295.24000   \n",
       "3WK1_FPKM              0.037717            0.321783           305.50000   \n",
       "12WH2_FPKM             0.009808            0.239373           429.57200   \n",
       "\n",
       "tracking_id  ENSMUSG00000022818  ENSMUSG00000040026  ENSMUSG00000020017  \\\n",
       "1WH1_FPKM              0.011293             1.18057            0.654752   \n",
       "1WK1_FPKM              0.031213             2.08476            3.433130   \n",
       "3WH1_FPKM              1.343170           126.90700           68.837300   \n",
       "3WK1_FPKM              0.450592            48.58040          109.721000   \n",
       "12WH2_FPKM             0.534761            59.43200          209.012000   \n",
       "\n",
       "tracking_id  ENSMUSG00000028699         ...          ENSMUSG00000031965  \\\n",
       "1WH1_FPKM              0.042601         ...                    0.004461   \n",
       "1WK1_FPKM              2.577210         ...                    0.000000   \n",
       "3WH1_FPKM              4.083650         ...                    0.000000   \n",
       "3WK1_FPKM              2.689990         ...                    0.000000   \n",
       "12WH2_FPKM             1.609380         ...                    0.000000   \n",
       "\n",
       "tracking_id  ENSMUSG00000049804  ENSMUSG00000062151  ENSMUSG00000046532  \\\n",
       "1WH1_FPKM              0.003568            0.003236            0.003127   \n",
       "1WK1_FPKM              0.000000            0.000000            0.000000   \n",
       "3WH1_FPKM              0.000000            0.000000            0.000000   \n",
       "3WK1_FPKM              0.000000            0.000000            0.000000   \n",
       "12WH2_FPKM             0.022381            0.000000            0.072850   \n",
       "\n",
       "tracking_id  ENSMUSG00000061603  ENSMUSG00000046958  ENSMUSG00000076236  \\\n",
       "1WH1_FPKM              0.002764            0.002607            0.002091   \n",
       "1WK1_FPKM              0.000000            0.000000            0.000000   \n",
       "3WH1_FPKM              0.000000            0.000000            0.000000   \n",
       "3WK1_FPKM              0.000000            0.000000            0.000000   \n",
       "12WH2_FPKM             0.018577            0.000000            0.000000   \n",
       "\n",
       "tracking_id  ENSMUSG00000030209  ENSMUSG00000100046  ENSMUSG00000098754  \n",
       "1WH1_FPKM              0.001187            0.000738            0.000063  \n",
       "1WK1_FPKM              0.000000            0.000000            0.000052  \n",
       "3WH1_FPKM              0.000000            0.000000            0.000000  \n",
       "3WK1_FPKM              0.000000            0.000000            0.000000  \n",
       "12WH2_FPKM             0.000532            0.027166            0.000000  \n",
       "\n",
       "[5 rows x 19227 columns]"
      ]
     },
     "execution_count": 15,
     "metadata": {},
     "output_type": "execute_result"
    }
   ],
   "source": [
    "fpkm.head()"
   ]
  },
  {
   "cell_type": "code",
   "execution_count": 16,
   "metadata": {
    "collapsed": false
   },
   "outputs": [],
   "source": [
    "fpkm_scaled = (fpkm - fpkm.mean())/fpkm.std()"
   ]
  },
  {
   "cell_type": "code",
   "execution_count": 17,
   "metadata": {
    "collapsed": false
   },
   "outputs": [
    {
     "data": {
      "text/html": [
       "<div>\n",
       "<table border=\"1\" class=\"dataframe\">\n",
       "  <thead>\n",
       "    <tr style=\"text-align: right;\">\n",
       "      <th>tracking_id</th>\n",
       "      <th>ENSMUSG00000028167</th>\n",
       "      <th>ENSMUSG00000052414</th>\n",
       "      <th>ENSMUSG00000076128</th>\n",
       "      <th>ENSMUSG00000091071</th>\n",
       "      <th>ENSMUSG00000042251</th>\n",
       "      <th>ENSMUSG00000069515</th>\n",
       "      <th>ENSMUSG00000022818</th>\n",
       "      <th>ENSMUSG00000040026</th>\n",
       "      <th>ENSMUSG00000020017</th>\n",
       "      <th>ENSMUSG00000028699</th>\n",
       "      <th>...</th>\n",
       "      <th>ENSMUSG00000031965</th>\n",
       "      <th>ENSMUSG00000049804</th>\n",
       "      <th>ENSMUSG00000062151</th>\n",
       "      <th>ENSMUSG00000046532</th>\n",
       "      <th>ENSMUSG00000061603</th>\n",
       "      <th>ENSMUSG00000046958</th>\n",
       "      <th>ENSMUSG00000076236</th>\n",
       "      <th>ENSMUSG00000030209</th>\n",
       "      <th>ENSMUSG00000100046</th>\n",
       "      <th>ENSMUSG00000098754</th>\n",
       "    </tr>\n",
       "  </thead>\n",
       "  <tbody>\n",
       "    <tr>\n",
       "      <th>1WH1_FPKM</th>\n",
       "      <td>-1.203521</td>\n",
       "      <td>-0.590463</td>\n",
       "      <td>-0.601375</td>\n",
       "      <td>-0.408704</td>\n",
       "      <td>-0.467648</td>\n",
       "      <td>-1.027568</td>\n",
       "      <td>-0.825859</td>\n",
       "      <td>-0.474908</td>\n",
       "      <td>-0.821636</td>\n",
       "      <td>-1.525484</td>\n",
       "      <td>...</td>\n",
       "      <td>1.710755</td>\n",
       "      <td>-0.084467</td>\n",
       "      <td>2.041241</td>\n",
       "      <td>-0.347102</td>\n",
       "      <td>-0.106537</td>\n",
       "      <td>2.041241</td>\n",
       "      <td>2.041241</td>\n",
       "      <td>1.838641</td>\n",
       "      <td>-0.354605</td>\n",
       "      <td>-0.406811</td>\n",
       "    </tr>\n",
       "    <tr>\n",
       "      <th>1WK1_FPKM</th>\n",
       "      <td>-0.694909</td>\n",
       "      <td>-0.591313</td>\n",
       "      <td>-0.279499</td>\n",
       "      <td>-0.402197</td>\n",
       "      <td>-0.400445</td>\n",
       "      <td>-0.986460</td>\n",
       "      <td>-0.805621</td>\n",
       "      <td>-0.473593</td>\n",
       "      <td>-0.787554</td>\n",
       "      <td>-0.027846</td>\n",
       "      <td>...</td>\n",
       "      <td>-0.614913</td>\n",
       "      <td>-0.482678</td>\n",
       "      <td>-0.408248</td>\n",
       "      <td>-0.454059</td>\n",
       "      <td>-0.478011</td>\n",
       "      <td>-0.408248</td>\n",
       "      <td>-0.408248</td>\n",
       "      <td>-0.584901</td>\n",
       "      <td>-0.421476</td>\n",
       "      <td>-0.407213</td>\n",
       "    </tr>\n",
       "    <tr>\n",
       "      <th>3WH1_FPKM</th>\n",
       "      <td>0.393795</td>\n",
       "      <td>1.817220</td>\n",
       "      <td>1.957350</td>\n",
       "      <td>2.041223</td>\n",
       "      <td>2.038832</td>\n",
       "      <td>0.602000</td>\n",
       "      <td>0.527300</td>\n",
       "      <td>-0.292010</td>\n",
       "      <td>0.014743</td>\n",
       "      <td>0.862272</td>\n",
       "      <td>...</td>\n",
       "      <td>-0.614913</td>\n",
       "      <td>-0.482678</td>\n",
       "      <td>-0.408248</td>\n",
       "      <td>-0.454059</td>\n",
       "      <td>-0.478011</td>\n",
       "      <td>-0.408248</td>\n",
       "      <td>-0.408248</td>\n",
       "      <td>-0.584901</td>\n",
       "      <td>-0.421476</td>\n",
       "      <td>-0.409072</td>\n",
       "    </tr>\n",
       "    <tr>\n",
       "      <th>3WK1_FPKM</th>\n",
       "      <td>-0.601096</td>\n",
       "      <td>0.547491</td>\n",
       "      <td>-0.604598</td>\n",
       "      <td>-0.405039</td>\n",
       "      <td>-0.338774</td>\n",
       "      <td>0.659039</td>\n",
       "      <td>-0.379540</td>\n",
       "      <td>-0.405954</td>\n",
       "      <td>0.516253</td>\n",
       "      <td>0.038793</td>\n",
       "      <td>...</td>\n",
       "      <td>-0.614913</td>\n",
       "      <td>-0.482678</td>\n",
       "      <td>-0.408248</td>\n",
       "      <td>-0.454059</td>\n",
       "      <td>-0.478011</td>\n",
       "      <td>-0.408248</td>\n",
       "      <td>-0.408248</td>\n",
       "      <td>-0.584901</td>\n",
       "      <td>-0.421476</td>\n",
       "      <td>-0.409072</td>\n",
       "    </tr>\n",
       "    <tr>\n",
       "      <th>12WH2_FPKM</th>\n",
       "      <td>1.462255</td>\n",
       "      <td>-0.590678</td>\n",
       "      <td>0.119122</td>\n",
       "      <td>-0.411505</td>\n",
       "      <td>-0.375578</td>\n",
       "      <td>1.348803</td>\n",
       "      <td>-0.294026</td>\n",
       "      <td>-0.390168</td>\n",
       "      <td>1.734231</td>\n",
       "      <td>-0.599713</td>\n",
       "      <td>...</td>\n",
       "      <td>-0.614913</td>\n",
       "      <td>2.015180</td>\n",
       "      <td>-0.408248</td>\n",
       "      <td>2.037896</td>\n",
       "      <td>2.018582</td>\n",
       "      <td>-0.408248</td>\n",
       "      <td>-0.408248</td>\n",
       "      <td>0.500963</td>\n",
       "      <td>2.040511</td>\n",
       "      <td>-0.409072</td>\n",
       "    </tr>\n",
       "    <tr>\n",
       "      <th>12WK2_FPKM</th>\n",
       "      <td>0.643475</td>\n",
       "      <td>-0.592256</td>\n",
       "      <td>-0.591000</td>\n",
       "      <td>-0.413778</td>\n",
       "      <td>-0.456386</td>\n",
       "      <td>-0.595814</td>\n",
       "      <td>1.777747</td>\n",
       "      <td>2.036633</td>\n",
       "      <td>-0.656036</td>\n",
       "      <td>1.251978</td>\n",
       "      <td>...</td>\n",
       "      <td>0.748897</td>\n",
       "      <td>-0.482678</td>\n",
       "      <td>-0.408248</td>\n",
       "      <td>-0.328616</td>\n",
       "      <td>-0.478011</td>\n",
       "      <td>-0.408248</td>\n",
       "      <td>-0.408248</td>\n",
       "      <td>-0.584901</td>\n",
       "      <td>-0.421476</td>\n",
       "      <td>2.041240</td>\n",
       "    </tr>\n",
       "  </tbody>\n",
       "</table>\n",
       "<p>6 rows × 19227 columns</p>\n",
       "</div>"
      ],
      "text/plain": [
       "tracking_id  ENSMUSG00000028167  ENSMUSG00000052414  ENSMUSG00000076128  \\\n",
       "1WH1_FPKM             -1.203521           -0.590463           -0.601375   \n",
       "1WK1_FPKM             -0.694909           -0.591313           -0.279499   \n",
       "3WH1_FPKM              0.393795            1.817220            1.957350   \n",
       "3WK1_FPKM             -0.601096            0.547491           -0.604598   \n",
       "12WH2_FPKM             1.462255           -0.590678            0.119122   \n",
       "12WK2_FPKM             0.643475           -0.592256           -0.591000   \n",
       "\n",
       "tracking_id  ENSMUSG00000091071  ENSMUSG00000042251  ENSMUSG00000069515  \\\n",
       "1WH1_FPKM             -0.408704           -0.467648           -1.027568   \n",
       "1WK1_FPKM             -0.402197           -0.400445           -0.986460   \n",
       "3WH1_FPKM              2.041223            2.038832            0.602000   \n",
       "3WK1_FPKM             -0.405039           -0.338774            0.659039   \n",
       "12WH2_FPKM            -0.411505           -0.375578            1.348803   \n",
       "12WK2_FPKM            -0.413778           -0.456386           -0.595814   \n",
       "\n",
       "tracking_id  ENSMUSG00000022818  ENSMUSG00000040026  ENSMUSG00000020017  \\\n",
       "1WH1_FPKM             -0.825859           -0.474908           -0.821636   \n",
       "1WK1_FPKM             -0.805621           -0.473593           -0.787554   \n",
       "3WH1_FPKM              0.527300           -0.292010            0.014743   \n",
       "3WK1_FPKM             -0.379540           -0.405954            0.516253   \n",
       "12WH2_FPKM            -0.294026           -0.390168            1.734231   \n",
       "12WK2_FPKM             1.777747            2.036633           -0.656036   \n",
       "\n",
       "tracking_id  ENSMUSG00000028699         ...          ENSMUSG00000031965  \\\n",
       "1WH1_FPKM             -1.525484         ...                    1.710755   \n",
       "1WK1_FPKM             -0.027846         ...                   -0.614913   \n",
       "3WH1_FPKM              0.862272         ...                   -0.614913   \n",
       "3WK1_FPKM              0.038793         ...                   -0.614913   \n",
       "12WH2_FPKM            -0.599713         ...                   -0.614913   \n",
       "12WK2_FPKM             1.251978         ...                    0.748897   \n",
       "\n",
       "tracking_id  ENSMUSG00000049804  ENSMUSG00000062151  ENSMUSG00000046532  \\\n",
       "1WH1_FPKM             -0.084467            2.041241           -0.347102   \n",
       "1WK1_FPKM             -0.482678           -0.408248           -0.454059   \n",
       "3WH1_FPKM             -0.482678           -0.408248           -0.454059   \n",
       "3WK1_FPKM             -0.482678           -0.408248           -0.454059   \n",
       "12WH2_FPKM             2.015180           -0.408248            2.037896   \n",
       "12WK2_FPKM            -0.482678           -0.408248           -0.328616   \n",
       "\n",
       "tracking_id  ENSMUSG00000061603  ENSMUSG00000046958  ENSMUSG00000076236  \\\n",
       "1WH1_FPKM             -0.106537            2.041241            2.041241   \n",
       "1WK1_FPKM             -0.478011           -0.408248           -0.408248   \n",
       "3WH1_FPKM             -0.478011           -0.408248           -0.408248   \n",
       "3WK1_FPKM             -0.478011           -0.408248           -0.408248   \n",
       "12WH2_FPKM             2.018582           -0.408248           -0.408248   \n",
       "12WK2_FPKM            -0.478011           -0.408248           -0.408248   \n",
       "\n",
       "tracking_id  ENSMUSG00000030209  ENSMUSG00000100046  ENSMUSG00000098754  \n",
       "1WH1_FPKM              1.838641           -0.354605           -0.406811  \n",
       "1WK1_FPKM             -0.584901           -0.421476           -0.407213  \n",
       "3WH1_FPKM             -0.584901           -0.421476           -0.409072  \n",
       "3WK1_FPKM             -0.584901           -0.421476           -0.409072  \n",
       "12WH2_FPKM             0.500963            2.040511           -0.409072  \n",
       "12WK2_FPKM            -0.584901           -0.421476            2.041240  \n",
       "\n",
       "[6 rows x 19227 columns]"
      ]
     },
     "execution_count": 17,
     "metadata": {},
     "output_type": "execute_result"
    }
   ],
   "source": [
    "fpkm_scaled"
   ]
  },
  {
   "cell_type": "code",
   "execution_count": 18,
   "metadata": {
    "collapsed": false
   },
   "outputs": [],
   "source": [
    "fpkm_labels = fpkm_scaled.iloc[:,-2:].copy()\n",
    "fpkm_labels['genotype'] = ['HET','KO']*3\n",
    "fpkm_labels['week'] = ['wk1']*2 + ['wk3']*2 + ['wk12']*2 \n",
    "fpkm_labels = fpkm_labels[['genotype','week']].copy()"
   ]
  },
  {
   "cell_type": "code",
   "execution_count": 19,
   "metadata": {
    "collapsed": false
   },
   "outputs": [
    {
     "data": {
      "text/html": [
       "<div>\n",
       "<table border=\"1\" class=\"dataframe\">\n",
       "  <thead>\n",
       "    <tr style=\"text-align: right;\">\n",
       "      <th>tracking_id</th>\n",
       "      <th>genotype</th>\n",
       "      <th>week</th>\n",
       "    </tr>\n",
       "  </thead>\n",
       "  <tbody>\n",
       "    <tr>\n",
       "      <th>1WH1_FPKM</th>\n",
       "      <td>HET</td>\n",
       "      <td>wk1</td>\n",
       "    </tr>\n",
       "    <tr>\n",
       "      <th>1WK1_FPKM</th>\n",
       "      <td>KO</td>\n",
       "      <td>wk1</td>\n",
       "    </tr>\n",
       "    <tr>\n",
       "      <th>3WH1_FPKM</th>\n",
       "      <td>HET</td>\n",
       "      <td>wk3</td>\n",
       "    </tr>\n",
       "    <tr>\n",
       "      <th>3WK1_FPKM</th>\n",
       "      <td>KO</td>\n",
       "      <td>wk3</td>\n",
       "    </tr>\n",
       "    <tr>\n",
       "      <th>12WH2_FPKM</th>\n",
       "      <td>HET</td>\n",
       "      <td>wk12</td>\n",
       "    </tr>\n",
       "    <tr>\n",
       "      <th>12WK2_FPKM</th>\n",
       "      <td>KO</td>\n",
       "      <td>wk12</td>\n",
       "    </tr>\n",
       "  </tbody>\n",
       "</table>\n",
       "</div>"
      ],
      "text/plain": [
       "tracking_id genotype  week\n",
       "1WH1_FPKM        HET   wk1\n",
       "1WK1_FPKM         KO   wk1\n",
       "3WH1_FPKM        HET   wk3\n",
       "3WK1_FPKM         KO   wk3\n",
       "12WH2_FPKM       HET  wk12\n",
       "12WK2_FPKM        KO  wk12"
      ]
     },
     "execution_count": 19,
     "metadata": {},
     "output_type": "execute_result"
    }
   ],
   "source": [
    "fpkm_labels"
   ]
  },
  {
   "cell_type": "code",
   "execution_count": 20,
   "metadata": {
    "collapsed": false
   },
   "outputs": [
    {
     "data": {
      "text/html": [
       "<div>\n",
       "<table border=\"1\" class=\"dataframe\">\n",
       "  <thead>\n",
       "    <tr style=\"text-align: right;\">\n",
       "      <th>tracking_id</th>\n",
       "      <th>ENSMUSG00000028167</th>\n",
       "      <th>ENSMUSG00000052414</th>\n",
       "      <th>ENSMUSG00000076128</th>\n",
       "      <th>ENSMUSG00000091071</th>\n",
       "      <th>ENSMUSG00000042251</th>\n",
       "      <th>ENSMUSG00000069515</th>\n",
       "      <th>ENSMUSG00000022818</th>\n",
       "      <th>ENSMUSG00000040026</th>\n",
       "      <th>ENSMUSG00000020017</th>\n",
       "      <th>ENSMUSG00000028699</th>\n",
       "      <th>...</th>\n",
       "      <th>ENSMUSG00000031965</th>\n",
       "      <th>ENSMUSG00000049804</th>\n",
       "      <th>ENSMUSG00000062151</th>\n",
       "      <th>ENSMUSG00000046532</th>\n",
       "      <th>ENSMUSG00000061603</th>\n",
       "      <th>ENSMUSG00000046958</th>\n",
       "      <th>ENSMUSG00000076236</th>\n",
       "      <th>ENSMUSG00000030209</th>\n",
       "      <th>ENSMUSG00000100046</th>\n",
       "      <th>ENSMUSG00000098754</th>\n",
       "    </tr>\n",
       "  </thead>\n",
       "  <tbody>\n",
       "    <tr>\n",
       "      <th>1WH1_FPKM</th>\n",
       "      <td>-1.203521</td>\n",
       "      <td>-0.590463</td>\n",
       "      <td>-0.601375</td>\n",
       "      <td>-0.408704</td>\n",
       "      <td>-0.467648</td>\n",
       "      <td>-1.027568</td>\n",
       "      <td>-0.825859</td>\n",
       "      <td>-0.474908</td>\n",
       "      <td>-0.821636</td>\n",
       "      <td>-1.525484</td>\n",
       "      <td>...</td>\n",
       "      <td>1.710755</td>\n",
       "      <td>-0.084467</td>\n",
       "      <td>2.041241</td>\n",
       "      <td>-0.347102</td>\n",
       "      <td>-0.106537</td>\n",
       "      <td>2.041241</td>\n",
       "      <td>2.041241</td>\n",
       "      <td>1.838641</td>\n",
       "      <td>-0.354605</td>\n",
       "      <td>-0.406811</td>\n",
       "    </tr>\n",
       "    <tr>\n",
       "      <th>1WK1_FPKM</th>\n",
       "      <td>-0.694909</td>\n",
       "      <td>-0.591313</td>\n",
       "      <td>-0.279499</td>\n",
       "      <td>-0.402197</td>\n",
       "      <td>-0.400445</td>\n",
       "      <td>-0.986460</td>\n",
       "      <td>-0.805621</td>\n",
       "      <td>-0.473593</td>\n",
       "      <td>-0.787554</td>\n",
       "      <td>-0.027846</td>\n",
       "      <td>...</td>\n",
       "      <td>-0.614913</td>\n",
       "      <td>-0.482678</td>\n",
       "      <td>-0.408248</td>\n",
       "      <td>-0.454059</td>\n",
       "      <td>-0.478011</td>\n",
       "      <td>-0.408248</td>\n",
       "      <td>-0.408248</td>\n",
       "      <td>-0.584901</td>\n",
       "      <td>-0.421476</td>\n",
       "      <td>-0.407213</td>\n",
       "    </tr>\n",
       "    <tr>\n",
       "      <th>3WH1_FPKM</th>\n",
       "      <td>0.393795</td>\n",
       "      <td>1.817220</td>\n",
       "      <td>1.957350</td>\n",
       "      <td>2.041223</td>\n",
       "      <td>2.038832</td>\n",
       "      <td>0.602000</td>\n",
       "      <td>0.527300</td>\n",
       "      <td>-0.292010</td>\n",
       "      <td>0.014743</td>\n",
       "      <td>0.862272</td>\n",
       "      <td>...</td>\n",
       "      <td>-0.614913</td>\n",
       "      <td>-0.482678</td>\n",
       "      <td>-0.408248</td>\n",
       "      <td>-0.454059</td>\n",
       "      <td>-0.478011</td>\n",
       "      <td>-0.408248</td>\n",
       "      <td>-0.408248</td>\n",
       "      <td>-0.584901</td>\n",
       "      <td>-0.421476</td>\n",
       "      <td>-0.409072</td>\n",
       "    </tr>\n",
       "    <tr>\n",
       "      <th>3WK1_FPKM</th>\n",
       "      <td>-0.601096</td>\n",
       "      <td>0.547491</td>\n",
       "      <td>-0.604598</td>\n",
       "      <td>-0.405039</td>\n",
       "      <td>-0.338774</td>\n",
       "      <td>0.659039</td>\n",
       "      <td>-0.379540</td>\n",
       "      <td>-0.405954</td>\n",
       "      <td>0.516253</td>\n",
       "      <td>0.038793</td>\n",
       "      <td>...</td>\n",
       "      <td>-0.614913</td>\n",
       "      <td>-0.482678</td>\n",
       "      <td>-0.408248</td>\n",
       "      <td>-0.454059</td>\n",
       "      <td>-0.478011</td>\n",
       "      <td>-0.408248</td>\n",
       "      <td>-0.408248</td>\n",
       "      <td>-0.584901</td>\n",
       "      <td>-0.421476</td>\n",
       "      <td>-0.409072</td>\n",
       "    </tr>\n",
       "    <tr>\n",
       "      <th>12WH2_FPKM</th>\n",
       "      <td>1.462255</td>\n",
       "      <td>-0.590678</td>\n",
       "      <td>0.119122</td>\n",
       "      <td>-0.411505</td>\n",
       "      <td>-0.375578</td>\n",
       "      <td>1.348803</td>\n",
       "      <td>-0.294026</td>\n",
       "      <td>-0.390168</td>\n",
       "      <td>1.734231</td>\n",
       "      <td>-0.599713</td>\n",
       "      <td>...</td>\n",
       "      <td>-0.614913</td>\n",
       "      <td>2.015180</td>\n",
       "      <td>-0.408248</td>\n",
       "      <td>2.037896</td>\n",
       "      <td>2.018582</td>\n",
       "      <td>-0.408248</td>\n",
       "      <td>-0.408248</td>\n",
       "      <td>0.500963</td>\n",
       "      <td>2.040511</td>\n",
       "      <td>-0.409072</td>\n",
       "    </tr>\n",
       "    <tr>\n",
       "      <th>12WK2_FPKM</th>\n",
       "      <td>0.643475</td>\n",
       "      <td>-0.592256</td>\n",
       "      <td>-0.591000</td>\n",
       "      <td>-0.413778</td>\n",
       "      <td>-0.456386</td>\n",
       "      <td>-0.595814</td>\n",
       "      <td>1.777747</td>\n",
       "      <td>2.036633</td>\n",
       "      <td>-0.656036</td>\n",
       "      <td>1.251978</td>\n",
       "      <td>...</td>\n",
       "      <td>0.748897</td>\n",
       "      <td>-0.482678</td>\n",
       "      <td>-0.408248</td>\n",
       "      <td>-0.328616</td>\n",
       "      <td>-0.478011</td>\n",
       "      <td>-0.408248</td>\n",
       "      <td>-0.408248</td>\n",
       "      <td>-0.584901</td>\n",
       "      <td>-0.421476</td>\n",
       "      <td>2.041240</td>\n",
       "    </tr>\n",
       "  </tbody>\n",
       "</table>\n",
       "<p>6 rows × 19227 columns</p>\n",
       "</div>"
      ],
      "text/plain": [
       "tracking_id  ENSMUSG00000028167  ENSMUSG00000052414  ENSMUSG00000076128  \\\n",
       "1WH1_FPKM             -1.203521           -0.590463           -0.601375   \n",
       "1WK1_FPKM             -0.694909           -0.591313           -0.279499   \n",
       "3WH1_FPKM              0.393795            1.817220            1.957350   \n",
       "3WK1_FPKM             -0.601096            0.547491           -0.604598   \n",
       "12WH2_FPKM             1.462255           -0.590678            0.119122   \n",
       "12WK2_FPKM             0.643475           -0.592256           -0.591000   \n",
       "\n",
       "tracking_id  ENSMUSG00000091071  ENSMUSG00000042251  ENSMUSG00000069515  \\\n",
       "1WH1_FPKM             -0.408704           -0.467648           -1.027568   \n",
       "1WK1_FPKM             -0.402197           -0.400445           -0.986460   \n",
       "3WH1_FPKM              2.041223            2.038832            0.602000   \n",
       "3WK1_FPKM             -0.405039           -0.338774            0.659039   \n",
       "12WH2_FPKM            -0.411505           -0.375578            1.348803   \n",
       "12WK2_FPKM            -0.413778           -0.456386           -0.595814   \n",
       "\n",
       "tracking_id  ENSMUSG00000022818  ENSMUSG00000040026  ENSMUSG00000020017  \\\n",
       "1WH1_FPKM             -0.825859           -0.474908           -0.821636   \n",
       "1WK1_FPKM             -0.805621           -0.473593           -0.787554   \n",
       "3WH1_FPKM              0.527300           -0.292010            0.014743   \n",
       "3WK1_FPKM             -0.379540           -0.405954            0.516253   \n",
       "12WH2_FPKM            -0.294026           -0.390168            1.734231   \n",
       "12WK2_FPKM             1.777747            2.036633           -0.656036   \n",
       "\n",
       "tracking_id  ENSMUSG00000028699         ...          ENSMUSG00000031965  \\\n",
       "1WH1_FPKM             -1.525484         ...                    1.710755   \n",
       "1WK1_FPKM             -0.027846         ...                   -0.614913   \n",
       "3WH1_FPKM              0.862272         ...                   -0.614913   \n",
       "3WK1_FPKM              0.038793         ...                   -0.614913   \n",
       "12WH2_FPKM            -0.599713         ...                   -0.614913   \n",
       "12WK2_FPKM             1.251978         ...                    0.748897   \n",
       "\n",
       "tracking_id  ENSMUSG00000049804  ENSMUSG00000062151  ENSMUSG00000046532  \\\n",
       "1WH1_FPKM             -0.084467            2.041241           -0.347102   \n",
       "1WK1_FPKM             -0.482678           -0.408248           -0.454059   \n",
       "3WH1_FPKM             -0.482678           -0.408248           -0.454059   \n",
       "3WK1_FPKM             -0.482678           -0.408248           -0.454059   \n",
       "12WH2_FPKM             2.015180           -0.408248            2.037896   \n",
       "12WK2_FPKM            -0.482678           -0.408248           -0.328616   \n",
       "\n",
       "tracking_id  ENSMUSG00000061603  ENSMUSG00000046958  ENSMUSG00000076236  \\\n",
       "1WH1_FPKM             -0.106537            2.041241            2.041241   \n",
       "1WK1_FPKM             -0.478011           -0.408248           -0.408248   \n",
       "3WH1_FPKM             -0.478011           -0.408248           -0.408248   \n",
       "3WK1_FPKM             -0.478011           -0.408248           -0.408248   \n",
       "12WH2_FPKM             2.018582           -0.408248           -0.408248   \n",
       "12WK2_FPKM            -0.478011           -0.408248           -0.408248   \n",
       "\n",
       "tracking_id  ENSMUSG00000030209  ENSMUSG00000100046  ENSMUSG00000098754  \n",
       "1WH1_FPKM              1.838641           -0.354605           -0.406811  \n",
       "1WK1_FPKM             -0.584901           -0.421476           -0.407213  \n",
       "3WH1_FPKM             -0.584901           -0.421476           -0.409072  \n",
       "3WK1_FPKM             -0.584901           -0.421476           -0.409072  \n",
       "12WH2_FPKM             0.500963            2.040511           -0.409072  \n",
       "12WK2_FPKM            -0.584901           -0.421476            2.041240  \n",
       "\n",
       "[6 rows x 19227 columns]"
      ]
     },
     "execution_count": 20,
     "metadata": {},
     "output_type": "execute_result"
    }
   ],
   "source": [
    "fpkm_scaled"
   ]
  },
  {
   "cell_type": "code",
   "execution_count": 69,
   "metadata": {
    "collapsed": false
   },
   "outputs": [],
   "source": [
    "full_table = fpkm_labels.join(fpkm_scaled.replace(to_replace=0, value=0.000001))"
   ]
  },
  {
   "cell_type": "code",
   "execution_count": 70,
   "metadata": {
    "collapsed": false,
    "scrolled": true
   },
   "outputs": [
    {
     "data": {
      "text/html": [
       "<div>\n",
       "<table border=\"1\" class=\"dataframe\">\n",
       "  <thead>\n",
       "    <tr style=\"text-align: right;\">\n",
       "      <th>tracking_id</th>\n",
       "      <th>genotype</th>\n",
       "      <th>week</th>\n",
       "      <th>ENSMUSG00000028167</th>\n",
       "      <th>ENSMUSG00000052414</th>\n",
       "      <th>ENSMUSG00000076128</th>\n",
       "      <th>ENSMUSG00000091071</th>\n",
       "      <th>ENSMUSG00000042251</th>\n",
       "      <th>ENSMUSG00000069515</th>\n",
       "      <th>ENSMUSG00000022818</th>\n",
       "      <th>ENSMUSG00000040026</th>\n",
       "      <th>...</th>\n",
       "      <th>ENSMUSG00000031965</th>\n",
       "      <th>ENSMUSG00000049804</th>\n",
       "      <th>ENSMUSG00000062151</th>\n",
       "      <th>ENSMUSG00000046532</th>\n",
       "      <th>ENSMUSG00000061603</th>\n",
       "      <th>ENSMUSG00000046958</th>\n",
       "      <th>ENSMUSG00000076236</th>\n",
       "      <th>ENSMUSG00000030209</th>\n",
       "      <th>ENSMUSG00000100046</th>\n",
       "      <th>ENSMUSG00000098754</th>\n",
       "    </tr>\n",
       "  </thead>\n",
       "  <tbody>\n",
       "    <tr>\n",
       "      <th>1WH1_FPKM</th>\n",
       "      <td>HET</td>\n",
       "      <td>wk1</td>\n",
       "      <td>-1.203521</td>\n",
       "      <td>-0.590463</td>\n",
       "      <td>-0.601375</td>\n",
       "      <td>-0.408704</td>\n",
       "      <td>-0.467648</td>\n",
       "      <td>-1.027568</td>\n",
       "      <td>-0.825859</td>\n",
       "      <td>-0.474908</td>\n",
       "      <td>...</td>\n",
       "      <td>1.710755</td>\n",
       "      <td>-0.084467</td>\n",
       "      <td>2.041241</td>\n",
       "      <td>-0.347102</td>\n",
       "      <td>-0.106537</td>\n",
       "      <td>2.041241</td>\n",
       "      <td>2.041241</td>\n",
       "      <td>1.838641</td>\n",
       "      <td>-0.354605</td>\n",
       "      <td>-0.406811</td>\n",
       "    </tr>\n",
       "    <tr>\n",
       "      <th>1WK1_FPKM</th>\n",
       "      <td>KO</td>\n",
       "      <td>wk1</td>\n",
       "      <td>-0.694909</td>\n",
       "      <td>-0.591313</td>\n",
       "      <td>-0.279499</td>\n",
       "      <td>-0.402197</td>\n",
       "      <td>-0.400445</td>\n",
       "      <td>-0.986460</td>\n",
       "      <td>-0.805621</td>\n",
       "      <td>-0.473593</td>\n",
       "      <td>...</td>\n",
       "      <td>-0.614913</td>\n",
       "      <td>-0.482678</td>\n",
       "      <td>-0.408248</td>\n",
       "      <td>-0.454059</td>\n",
       "      <td>-0.478011</td>\n",
       "      <td>-0.408248</td>\n",
       "      <td>-0.408248</td>\n",
       "      <td>-0.584901</td>\n",
       "      <td>-0.421476</td>\n",
       "      <td>-0.407213</td>\n",
       "    </tr>\n",
       "    <tr>\n",
       "      <th>3WH1_FPKM</th>\n",
       "      <td>HET</td>\n",
       "      <td>wk3</td>\n",
       "      <td>0.393795</td>\n",
       "      <td>1.817220</td>\n",
       "      <td>1.957350</td>\n",
       "      <td>2.041223</td>\n",
       "      <td>2.038832</td>\n",
       "      <td>0.602000</td>\n",
       "      <td>0.527300</td>\n",
       "      <td>-0.292010</td>\n",
       "      <td>...</td>\n",
       "      <td>-0.614913</td>\n",
       "      <td>-0.482678</td>\n",
       "      <td>-0.408248</td>\n",
       "      <td>-0.454059</td>\n",
       "      <td>-0.478011</td>\n",
       "      <td>-0.408248</td>\n",
       "      <td>-0.408248</td>\n",
       "      <td>-0.584901</td>\n",
       "      <td>-0.421476</td>\n",
       "      <td>-0.409072</td>\n",
       "    </tr>\n",
       "    <tr>\n",
       "      <th>3WK1_FPKM</th>\n",
       "      <td>KO</td>\n",
       "      <td>wk3</td>\n",
       "      <td>-0.601096</td>\n",
       "      <td>0.547491</td>\n",
       "      <td>-0.604598</td>\n",
       "      <td>-0.405039</td>\n",
       "      <td>-0.338774</td>\n",
       "      <td>0.659039</td>\n",
       "      <td>-0.379540</td>\n",
       "      <td>-0.405954</td>\n",
       "      <td>...</td>\n",
       "      <td>-0.614913</td>\n",
       "      <td>-0.482678</td>\n",
       "      <td>-0.408248</td>\n",
       "      <td>-0.454059</td>\n",
       "      <td>-0.478011</td>\n",
       "      <td>-0.408248</td>\n",
       "      <td>-0.408248</td>\n",
       "      <td>-0.584901</td>\n",
       "      <td>-0.421476</td>\n",
       "      <td>-0.409072</td>\n",
       "    </tr>\n",
       "    <tr>\n",
       "      <th>12WH2_FPKM</th>\n",
       "      <td>HET</td>\n",
       "      <td>wk12</td>\n",
       "      <td>1.462255</td>\n",
       "      <td>-0.590678</td>\n",
       "      <td>0.119122</td>\n",
       "      <td>-0.411505</td>\n",
       "      <td>-0.375578</td>\n",
       "      <td>1.348803</td>\n",
       "      <td>-0.294026</td>\n",
       "      <td>-0.390168</td>\n",
       "      <td>...</td>\n",
       "      <td>-0.614913</td>\n",
       "      <td>2.015180</td>\n",
       "      <td>-0.408248</td>\n",
       "      <td>2.037896</td>\n",
       "      <td>2.018582</td>\n",
       "      <td>-0.408248</td>\n",
       "      <td>-0.408248</td>\n",
       "      <td>0.500963</td>\n",
       "      <td>2.040511</td>\n",
       "      <td>-0.409072</td>\n",
       "    </tr>\n",
       "    <tr>\n",
       "      <th>12WK2_FPKM</th>\n",
       "      <td>KO</td>\n",
       "      <td>wk12</td>\n",
       "      <td>0.643475</td>\n",
       "      <td>-0.592256</td>\n",
       "      <td>-0.591000</td>\n",
       "      <td>-0.413778</td>\n",
       "      <td>-0.456386</td>\n",
       "      <td>-0.595814</td>\n",
       "      <td>1.777747</td>\n",
       "      <td>2.036633</td>\n",
       "      <td>...</td>\n",
       "      <td>0.748897</td>\n",
       "      <td>-0.482678</td>\n",
       "      <td>-0.408248</td>\n",
       "      <td>-0.328616</td>\n",
       "      <td>-0.478011</td>\n",
       "      <td>-0.408248</td>\n",
       "      <td>-0.408248</td>\n",
       "      <td>-0.584901</td>\n",
       "      <td>-0.421476</td>\n",
       "      <td>2.041240</td>\n",
       "    </tr>\n",
       "  </tbody>\n",
       "</table>\n",
       "<p>6 rows × 19229 columns</p>\n",
       "</div>"
      ],
      "text/plain": [
       "tracking_id genotype  week  ENSMUSG00000028167  ENSMUSG00000052414  \\\n",
       "1WH1_FPKM        HET   wk1           -1.203521           -0.590463   \n",
       "1WK1_FPKM         KO   wk1           -0.694909           -0.591313   \n",
       "3WH1_FPKM        HET   wk3            0.393795            1.817220   \n",
       "3WK1_FPKM         KO   wk3           -0.601096            0.547491   \n",
       "12WH2_FPKM       HET  wk12            1.462255           -0.590678   \n",
       "12WK2_FPKM        KO  wk12            0.643475           -0.592256   \n",
       "\n",
       "tracking_id  ENSMUSG00000076128  ENSMUSG00000091071  ENSMUSG00000042251  \\\n",
       "1WH1_FPKM             -0.601375           -0.408704           -0.467648   \n",
       "1WK1_FPKM             -0.279499           -0.402197           -0.400445   \n",
       "3WH1_FPKM              1.957350            2.041223            2.038832   \n",
       "3WK1_FPKM             -0.604598           -0.405039           -0.338774   \n",
       "12WH2_FPKM             0.119122           -0.411505           -0.375578   \n",
       "12WK2_FPKM            -0.591000           -0.413778           -0.456386   \n",
       "\n",
       "tracking_id  ENSMUSG00000069515  ENSMUSG00000022818  ENSMUSG00000040026  \\\n",
       "1WH1_FPKM             -1.027568           -0.825859           -0.474908   \n",
       "1WK1_FPKM             -0.986460           -0.805621           -0.473593   \n",
       "3WH1_FPKM              0.602000            0.527300           -0.292010   \n",
       "3WK1_FPKM              0.659039           -0.379540           -0.405954   \n",
       "12WH2_FPKM             1.348803           -0.294026           -0.390168   \n",
       "12WK2_FPKM            -0.595814            1.777747            2.036633   \n",
       "\n",
       "tracking_id         ...          ENSMUSG00000031965  ENSMUSG00000049804  \\\n",
       "1WH1_FPKM           ...                    1.710755           -0.084467   \n",
       "1WK1_FPKM           ...                   -0.614913           -0.482678   \n",
       "3WH1_FPKM           ...                   -0.614913           -0.482678   \n",
       "3WK1_FPKM           ...                   -0.614913           -0.482678   \n",
       "12WH2_FPKM          ...                   -0.614913            2.015180   \n",
       "12WK2_FPKM          ...                    0.748897           -0.482678   \n",
       "\n",
       "tracking_id  ENSMUSG00000062151  ENSMUSG00000046532  ENSMUSG00000061603  \\\n",
       "1WH1_FPKM              2.041241           -0.347102           -0.106537   \n",
       "1WK1_FPKM             -0.408248           -0.454059           -0.478011   \n",
       "3WH1_FPKM             -0.408248           -0.454059           -0.478011   \n",
       "3WK1_FPKM             -0.408248           -0.454059           -0.478011   \n",
       "12WH2_FPKM            -0.408248            2.037896            2.018582   \n",
       "12WK2_FPKM            -0.408248           -0.328616           -0.478011   \n",
       "\n",
       "tracking_id  ENSMUSG00000046958  ENSMUSG00000076236  ENSMUSG00000030209  \\\n",
       "1WH1_FPKM              2.041241            2.041241            1.838641   \n",
       "1WK1_FPKM             -0.408248           -0.408248           -0.584901   \n",
       "3WH1_FPKM             -0.408248           -0.408248           -0.584901   \n",
       "3WK1_FPKM             -0.408248           -0.408248           -0.584901   \n",
       "12WH2_FPKM            -0.408248           -0.408248            0.500963   \n",
       "12WK2_FPKM            -0.408248           -0.408248           -0.584901   \n",
       "\n",
       "tracking_id  ENSMUSG00000100046  ENSMUSG00000098754  \n",
       "1WH1_FPKM             -0.354605           -0.406811  \n",
       "1WK1_FPKM             -0.421476           -0.407213  \n",
       "3WH1_FPKM             -0.421476           -0.409072  \n",
       "3WK1_FPKM             -0.421476           -0.409072  \n",
       "12WH2_FPKM             2.040511           -0.409072  \n",
       "12WK2_FPKM            -0.421476            2.041240  \n",
       "\n",
       "[6 rows x 19229 columns]"
      ]
     },
     "execution_count": 70,
     "metadata": {},
     "output_type": "execute_result"
    }
   ],
   "source": [
    "full_table"
   ]
  },
  {
   "cell_type": "markdown",
   "metadata": {},
   "source": [
    "# Encode 'y' (labels)"
   ]
  },
  {
   "cell_type": "code",
   "execution_count": 71,
   "metadata": {
    "collapsed": true
   },
   "outputs": [],
   "source": [
    "y_geno = full_table['genotype']\n",
    "# y_wk = full_table['week']\n",
    "encoder_geno = ppro.LabelEncoder()\n",
    "# encoder_wk = ppro.LabelEncoder()\n",
    "y_encoded_geno = encoder_geno.fit_transform(y_geno)\n",
    "# y_encoded_wk = encoder_wk.fit_transform(y_wk)"
   ]
  },
  {
   "cell_type": "markdown",
   "metadata": {},
   "source": [
    "# Encode 'X' (data)"
   ]
  },
  {
   "cell_type": "markdown",
   "metadata": {},
   "source": [
    "## Combine (or not) the categorical and numerical data types for X"
   ]
  },
  {
   "cell_type": "code",
   "execution_count": 72,
   "metadata": {
    "collapsed": false
   },
   "outputs": [],
   "source": [
    "X_cols_num = list(full_table.columns[2:])"
   ]
  },
  {
   "cell_type": "code",
   "execution_count": 73,
   "metadata": {
    "collapsed": false
   },
   "outputs": [],
   "source": [
    "# X_cols_num"
   ]
  },
  {
   "cell_type": "code",
   "execution_count": 74,
   "metadata": {
    "collapsed": true
   },
   "outputs": [],
   "source": [
    "# make the dummy variable columns for the original categorical data columns\n",
    "# to avoid running into colinearity issues we will drop wk1\n",
    "X_data_cat = pd.get_dummies(full_table['week'].astype(str))[['wk3','wk12']]"
   ]
  },
  {
   "cell_type": "code",
   "execution_count": 75,
   "metadata": {
    "collapsed": false
   },
   "outputs": [
    {
     "data": {
      "text/html": [
       "<div>\n",
       "<table border=\"1\" class=\"dataframe\">\n",
       "  <thead>\n",
       "    <tr style=\"text-align: right;\">\n",
       "      <th></th>\n",
       "      <th>wk3</th>\n",
       "      <th>wk12</th>\n",
       "    </tr>\n",
       "  </thead>\n",
       "  <tbody>\n",
       "    <tr>\n",
       "      <th>1WH1_FPKM</th>\n",
       "      <td>0</td>\n",
       "      <td>0</td>\n",
       "    </tr>\n",
       "    <tr>\n",
       "      <th>1WK1_FPKM</th>\n",
       "      <td>0</td>\n",
       "      <td>0</td>\n",
       "    </tr>\n",
       "    <tr>\n",
       "      <th>3WH1_FPKM</th>\n",
       "      <td>1</td>\n",
       "      <td>0</td>\n",
       "    </tr>\n",
       "    <tr>\n",
       "      <th>3WK1_FPKM</th>\n",
       "      <td>1</td>\n",
       "      <td>0</td>\n",
       "    </tr>\n",
       "    <tr>\n",
       "      <th>12WH2_FPKM</th>\n",
       "      <td>0</td>\n",
       "      <td>1</td>\n",
       "    </tr>\n",
       "    <tr>\n",
       "      <th>12WK2_FPKM</th>\n",
       "      <td>0</td>\n",
       "      <td>1</td>\n",
       "    </tr>\n",
       "  </tbody>\n",
       "</table>\n",
       "</div>"
      ],
      "text/plain": [
       "            wk3  wk12\n",
       "1WH1_FPKM     0     0\n",
       "1WK1_FPKM     0     0\n",
       "3WH1_FPKM     1     0\n",
       "3WK1_FPKM     1     0\n",
       "12WH2_FPKM    0     1\n",
       "12WK2_FPKM    0     1"
      ]
     },
     "execution_count": 75,
     "metadata": {},
     "output_type": "execute_result"
    }
   ],
   "source": [
    "X_data_cat"
   ]
  },
  {
   "cell_type": "code",
   "execution_count": 76,
   "metadata": {
    "collapsed": false
   },
   "outputs": [],
   "source": [
    "# put all data columns together\n",
    "\n",
    "X = X_data_cat.join(full_table[X_cols_num].copy()).astype(np.float64)\n"
   ]
  },
  {
   "cell_type": "code",
   "execution_count": 77,
   "metadata": {
    "collapsed": false
   },
   "outputs": [
    {
     "data": {
      "text/html": [
       "<div>\n",
       "<table border=\"1\" class=\"dataframe\">\n",
       "  <thead>\n",
       "    <tr style=\"text-align: right;\">\n",
       "      <th></th>\n",
       "      <th>wk3</th>\n",
       "      <th>wk12</th>\n",
       "      <th>ENSMUSG00000028167</th>\n",
       "      <th>ENSMUSG00000052414</th>\n",
       "      <th>ENSMUSG00000076128</th>\n",
       "      <th>ENSMUSG00000091071</th>\n",
       "      <th>ENSMUSG00000042251</th>\n",
       "      <th>ENSMUSG00000069515</th>\n",
       "      <th>ENSMUSG00000022818</th>\n",
       "      <th>ENSMUSG00000040026</th>\n",
       "      <th>...</th>\n",
       "      <th>ENSMUSG00000031965</th>\n",
       "      <th>ENSMUSG00000049804</th>\n",
       "      <th>ENSMUSG00000062151</th>\n",
       "      <th>ENSMUSG00000046532</th>\n",
       "      <th>ENSMUSG00000061603</th>\n",
       "      <th>ENSMUSG00000046958</th>\n",
       "      <th>ENSMUSG00000076236</th>\n",
       "      <th>ENSMUSG00000030209</th>\n",
       "      <th>ENSMUSG00000100046</th>\n",
       "      <th>ENSMUSG00000098754</th>\n",
       "    </tr>\n",
       "  </thead>\n",
       "  <tbody>\n",
       "    <tr>\n",
       "      <th>1WH1_FPKM</th>\n",
       "      <td>0</td>\n",
       "      <td>0</td>\n",
       "      <td>-1.203521</td>\n",
       "      <td>-0.590463</td>\n",
       "      <td>-0.601375</td>\n",
       "      <td>-0.408704</td>\n",
       "      <td>-0.467648</td>\n",
       "      <td>-1.027568</td>\n",
       "      <td>-0.825859</td>\n",
       "      <td>-0.474908</td>\n",
       "      <td>...</td>\n",
       "      <td>1.710755</td>\n",
       "      <td>-0.084467</td>\n",
       "      <td>2.041241</td>\n",
       "      <td>-0.347102</td>\n",
       "      <td>-0.106537</td>\n",
       "      <td>2.041241</td>\n",
       "      <td>2.041241</td>\n",
       "      <td>1.838641</td>\n",
       "      <td>-0.354605</td>\n",
       "      <td>-0.406811</td>\n",
       "    </tr>\n",
       "    <tr>\n",
       "      <th>1WK1_FPKM</th>\n",
       "      <td>0</td>\n",
       "      <td>0</td>\n",
       "      <td>-0.694909</td>\n",
       "      <td>-0.591313</td>\n",
       "      <td>-0.279499</td>\n",
       "      <td>-0.402197</td>\n",
       "      <td>-0.400445</td>\n",
       "      <td>-0.986460</td>\n",
       "      <td>-0.805621</td>\n",
       "      <td>-0.473593</td>\n",
       "      <td>...</td>\n",
       "      <td>-0.614913</td>\n",
       "      <td>-0.482678</td>\n",
       "      <td>-0.408248</td>\n",
       "      <td>-0.454059</td>\n",
       "      <td>-0.478011</td>\n",
       "      <td>-0.408248</td>\n",
       "      <td>-0.408248</td>\n",
       "      <td>-0.584901</td>\n",
       "      <td>-0.421476</td>\n",
       "      <td>-0.407213</td>\n",
       "    </tr>\n",
       "    <tr>\n",
       "      <th>3WH1_FPKM</th>\n",
       "      <td>1</td>\n",
       "      <td>0</td>\n",
       "      <td>0.393795</td>\n",
       "      <td>1.817220</td>\n",
       "      <td>1.957350</td>\n",
       "      <td>2.041223</td>\n",
       "      <td>2.038832</td>\n",
       "      <td>0.602000</td>\n",
       "      <td>0.527300</td>\n",
       "      <td>-0.292010</td>\n",
       "      <td>...</td>\n",
       "      <td>-0.614913</td>\n",
       "      <td>-0.482678</td>\n",
       "      <td>-0.408248</td>\n",
       "      <td>-0.454059</td>\n",
       "      <td>-0.478011</td>\n",
       "      <td>-0.408248</td>\n",
       "      <td>-0.408248</td>\n",
       "      <td>-0.584901</td>\n",
       "      <td>-0.421476</td>\n",
       "      <td>-0.409072</td>\n",
       "    </tr>\n",
       "    <tr>\n",
       "      <th>3WK1_FPKM</th>\n",
       "      <td>1</td>\n",
       "      <td>0</td>\n",
       "      <td>-0.601096</td>\n",
       "      <td>0.547491</td>\n",
       "      <td>-0.604598</td>\n",
       "      <td>-0.405039</td>\n",
       "      <td>-0.338774</td>\n",
       "      <td>0.659039</td>\n",
       "      <td>-0.379540</td>\n",
       "      <td>-0.405954</td>\n",
       "      <td>...</td>\n",
       "      <td>-0.614913</td>\n",
       "      <td>-0.482678</td>\n",
       "      <td>-0.408248</td>\n",
       "      <td>-0.454059</td>\n",
       "      <td>-0.478011</td>\n",
       "      <td>-0.408248</td>\n",
       "      <td>-0.408248</td>\n",
       "      <td>-0.584901</td>\n",
       "      <td>-0.421476</td>\n",
       "      <td>-0.409072</td>\n",
       "    </tr>\n",
       "    <tr>\n",
       "      <th>12WH2_FPKM</th>\n",
       "      <td>0</td>\n",
       "      <td>1</td>\n",
       "      <td>1.462255</td>\n",
       "      <td>-0.590678</td>\n",
       "      <td>0.119122</td>\n",
       "      <td>-0.411505</td>\n",
       "      <td>-0.375578</td>\n",
       "      <td>1.348803</td>\n",
       "      <td>-0.294026</td>\n",
       "      <td>-0.390168</td>\n",
       "      <td>...</td>\n",
       "      <td>-0.614913</td>\n",
       "      <td>2.015180</td>\n",
       "      <td>-0.408248</td>\n",
       "      <td>2.037896</td>\n",
       "      <td>2.018582</td>\n",
       "      <td>-0.408248</td>\n",
       "      <td>-0.408248</td>\n",
       "      <td>0.500963</td>\n",
       "      <td>2.040511</td>\n",
       "      <td>-0.409072</td>\n",
       "    </tr>\n",
       "    <tr>\n",
       "      <th>12WK2_FPKM</th>\n",
       "      <td>0</td>\n",
       "      <td>1</td>\n",
       "      <td>0.643475</td>\n",
       "      <td>-0.592256</td>\n",
       "      <td>-0.591000</td>\n",
       "      <td>-0.413778</td>\n",
       "      <td>-0.456386</td>\n",
       "      <td>-0.595814</td>\n",
       "      <td>1.777747</td>\n",
       "      <td>2.036633</td>\n",
       "      <td>...</td>\n",
       "      <td>0.748897</td>\n",
       "      <td>-0.482678</td>\n",
       "      <td>-0.408248</td>\n",
       "      <td>-0.328616</td>\n",
       "      <td>-0.478011</td>\n",
       "      <td>-0.408248</td>\n",
       "      <td>-0.408248</td>\n",
       "      <td>-0.584901</td>\n",
       "      <td>-0.421476</td>\n",
       "      <td>2.041240</td>\n",
       "    </tr>\n",
       "  </tbody>\n",
       "</table>\n",
       "<p>6 rows × 19229 columns</p>\n",
       "</div>"
      ],
      "text/plain": [
       "            wk3  wk12  ENSMUSG00000028167  ENSMUSG00000052414  \\\n",
       "1WH1_FPKM     0     0           -1.203521           -0.590463   \n",
       "1WK1_FPKM     0     0           -0.694909           -0.591313   \n",
       "3WH1_FPKM     1     0            0.393795            1.817220   \n",
       "3WK1_FPKM     1     0           -0.601096            0.547491   \n",
       "12WH2_FPKM    0     1            1.462255           -0.590678   \n",
       "12WK2_FPKM    0     1            0.643475           -0.592256   \n",
       "\n",
       "            ENSMUSG00000076128  ENSMUSG00000091071  ENSMUSG00000042251  \\\n",
       "1WH1_FPKM            -0.601375           -0.408704           -0.467648   \n",
       "1WK1_FPKM            -0.279499           -0.402197           -0.400445   \n",
       "3WH1_FPKM             1.957350            2.041223            2.038832   \n",
       "3WK1_FPKM            -0.604598           -0.405039           -0.338774   \n",
       "12WH2_FPKM            0.119122           -0.411505           -0.375578   \n",
       "12WK2_FPKM           -0.591000           -0.413778           -0.456386   \n",
       "\n",
       "            ENSMUSG00000069515  ENSMUSG00000022818  ENSMUSG00000040026  \\\n",
       "1WH1_FPKM            -1.027568           -0.825859           -0.474908   \n",
       "1WK1_FPKM            -0.986460           -0.805621           -0.473593   \n",
       "3WH1_FPKM             0.602000            0.527300           -0.292010   \n",
       "3WK1_FPKM             0.659039           -0.379540           -0.405954   \n",
       "12WH2_FPKM            1.348803           -0.294026           -0.390168   \n",
       "12WK2_FPKM           -0.595814            1.777747            2.036633   \n",
       "\n",
       "                   ...          ENSMUSG00000031965  ENSMUSG00000049804  \\\n",
       "1WH1_FPKM          ...                    1.710755           -0.084467   \n",
       "1WK1_FPKM          ...                   -0.614913           -0.482678   \n",
       "3WH1_FPKM          ...                   -0.614913           -0.482678   \n",
       "3WK1_FPKM          ...                   -0.614913           -0.482678   \n",
       "12WH2_FPKM         ...                   -0.614913            2.015180   \n",
       "12WK2_FPKM         ...                    0.748897           -0.482678   \n",
       "\n",
       "            ENSMUSG00000062151  ENSMUSG00000046532  ENSMUSG00000061603  \\\n",
       "1WH1_FPKM             2.041241           -0.347102           -0.106537   \n",
       "1WK1_FPKM            -0.408248           -0.454059           -0.478011   \n",
       "3WH1_FPKM            -0.408248           -0.454059           -0.478011   \n",
       "3WK1_FPKM            -0.408248           -0.454059           -0.478011   \n",
       "12WH2_FPKM           -0.408248            2.037896            2.018582   \n",
       "12WK2_FPKM           -0.408248           -0.328616           -0.478011   \n",
       "\n",
       "            ENSMUSG00000046958  ENSMUSG00000076236  ENSMUSG00000030209  \\\n",
       "1WH1_FPKM             2.041241            2.041241            1.838641   \n",
       "1WK1_FPKM            -0.408248           -0.408248           -0.584901   \n",
       "3WH1_FPKM            -0.408248           -0.408248           -0.584901   \n",
       "3WK1_FPKM            -0.408248           -0.408248           -0.584901   \n",
       "12WH2_FPKM           -0.408248           -0.408248            0.500963   \n",
       "12WK2_FPKM           -0.408248           -0.408248           -0.584901   \n",
       "\n",
       "            ENSMUSG00000100046  ENSMUSG00000098754  \n",
       "1WH1_FPKM            -0.354605           -0.406811  \n",
       "1WK1_FPKM            -0.421476           -0.407213  \n",
       "3WH1_FPKM            -0.421476           -0.409072  \n",
       "3WK1_FPKM            -0.421476           -0.409072  \n",
       "12WH2_FPKM            2.040511           -0.409072  \n",
       "12WK2_FPKM           -0.421476            2.041240  \n",
       "\n",
       "[6 rows x 19229 columns]"
      ]
     },
     "execution_count": 77,
     "metadata": {},
     "output_type": "execute_result"
    }
   ],
   "source": [
    "X"
   ]
  },
  {
   "cell_type": "code",
   "execution_count": 78,
   "metadata": {
    "collapsed": false
   },
   "outputs": [
    {
     "name": "stdout",
     "output_type": "stream",
     "text": [
      "explained_variance_ratio_ of top 2: 0.603773006196\n",
      "           PC 1       PC 2\n",
      "HET  -91.277888  65.895711\n",
      "KO   -50.235171  33.631687\n",
      "HET  -41.488787 -51.131715\n",
      "KO    -9.410282 -18.184647\n",
      "HET   43.439123 -93.926499\n",
      "KO   148.973005  63.715464\n"
     ]
    }
   ],
   "source": [
    "# pca = PCA(n_components=2, whiten=False)\n",
    "pca = PCA(n_components=2, whiten=False)\n",
    "\n",
    "\n",
    "pca_t = pca.fit_transform(X,y_encoded_geno)\n",
    "top_n_comp = 2\n",
    "print('explained_variance_ratio_ of top {num}: {val}'.format(num=top_n_comp,val=pca.explained_variance_ratio_[:top_n_comp].sum()))\n",
    "\n",
    "pca_t_l = pandas_helpers.repandasify(array=pca_t, y_names=encoder_geno.inverse_transform(y_encoded_geno), X_names=['PC {v_}'.format(v_=v+1) for v in range(len(pca_t[0]))])\n",
    "print(pca_t_l)"
   ]
  },
  {
   "cell_type": "code",
   "execution_count": 79,
   "metadata": {
    "collapsed": false
   },
   "outputs": [],
   "source": [
    "pca_t_l.index = X.index.values\n",
    "pca_t_l['genotype'] = full_table['genotype'].copy()\n",
    "pca_t_l['week'] = full_table['week'].copy()\n",
    "# pca_t_l"
   ]
  },
  {
   "cell_type": "code",
   "execution_count": 80,
   "metadata": {
    "collapsed": false
   },
   "outputs": [
    {
     "data": {
      "text/html": [
       "<div>\n",
       "<table border=\"1\" class=\"dataframe\">\n",
       "  <thead>\n",
       "    <tr style=\"text-align: right;\">\n",
       "      <th></th>\n",
       "      <th>PC 1</th>\n",
       "      <th>PC 2</th>\n",
       "      <th>genotype</th>\n",
       "      <th>week</th>\n",
       "    </tr>\n",
       "  </thead>\n",
       "  <tbody>\n",
       "    <tr>\n",
       "      <th>1WH1_FPKM</th>\n",
       "      <td>-91.277888</td>\n",
       "      <td>65.895711</td>\n",
       "      <td>HET</td>\n",
       "      <td>wk1</td>\n",
       "    </tr>\n",
       "    <tr>\n",
       "      <th>1WK1_FPKM</th>\n",
       "      <td>-50.235171</td>\n",
       "      <td>33.631687</td>\n",
       "      <td>KO</td>\n",
       "      <td>wk1</td>\n",
       "    </tr>\n",
       "    <tr>\n",
       "      <th>3WH1_FPKM</th>\n",
       "      <td>-41.488787</td>\n",
       "      <td>-51.131715</td>\n",
       "      <td>HET</td>\n",
       "      <td>wk3</td>\n",
       "    </tr>\n",
       "    <tr>\n",
       "      <th>3WK1_FPKM</th>\n",
       "      <td>-9.410282</td>\n",
       "      <td>-18.184647</td>\n",
       "      <td>KO</td>\n",
       "      <td>wk3</td>\n",
       "    </tr>\n",
       "    <tr>\n",
       "      <th>12WH2_FPKM</th>\n",
       "      <td>43.439123</td>\n",
       "      <td>-93.926499</td>\n",
       "      <td>HET</td>\n",
       "      <td>wk12</td>\n",
       "    </tr>\n",
       "    <tr>\n",
       "      <th>12WK2_FPKM</th>\n",
       "      <td>148.973005</td>\n",
       "      <td>63.715464</td>\n",
       "      <td>KO</td>\n",
       "      <td>wk12</td>\n",
       "    </tr>\n",
       "  </tbody>\n",
       "</table>\n",
       "</div>"
      ],
      "text/plain": [
       "                  PC 1       PC 2 genotype  week\n",
       "1WH1_FPKM   -91.277888  65.895711      HET   wk1\n",
       "1WK1_FPKM   -50.235171  33.631687       KO   wk1\n",
       "3WH1_FPKM   -41.488787 -51.131715      HET   wk3\n",
       "3WK1_FPKM    -9.410282 -18.184647       KO   wk3\n",
       "12WH2_FPKM   43.439123 -93.926499      HET  wk12\n",
       "12WK2_FPKM  148.973005  63.715464       KO  wk12"
      ]
     },
     "execution_count": 80,
     "metadata": {},
     "output_type": "execute_result"
    }
   ],
   "source": [
    "pca_t_l"
   ]
  },
  {
   "cell_type": "code",
   "execution_count": 81,
   "metadata": {
    "collapsed": false
   },
   "outputs": [
    {
     "data": {
      "image/png": "[encoded data removed]",
      "text/plain": [
       "<matplotlib.figure.Figure at 0x7f2119928ad0>"
      ]
     },
     "metadata": {},
     "output_type": "display_data"
    }
   ],
   "source": [
    "with sns.color_palette(sns.color_palette(\"hls\", 2)):\n",
    "    with sns.axes_style(\"white\"):\n",
    "        sns.lmplot(x='PC 1', y='PC 2', data=pca_t_l.append(pca_t_l.iloc[:,:]), #sns.lmplot(x='PC 1', y='PC 2', data=pca_t_l,\n",
    "                   hue='genotype', palette=None,\n",
    "                   fit_reg=False,\n",
    "                   scatter_kws={'alpha':0.7}\n",
    "                  );"
   ]
  },
  {
   "cell_type": "code",
   "execution_count": 82,
   "metadata": {
    "collapsed": false
   },
   "outputs": [
    {
     "data": {
      "image/png": "[encoded data removed]",
      "text/plain": [
       "<matplotlib.figure.Figure at 0x7f21199a6e50>"
      ]
     },
     "metadata": {},
     "output_type": "display_data"
    }
   ],
   "source": [
    "with sns.color_palette(sns.color_palette(\"hls\", 2)):\n",
    "    with sns.axes_style(\"white\"):\n",
    "        sns.lmplot(x='PC 1', y='PC 2', data=pca_t_l.append(pca_t_l.iloc[:,:]), #sns.lmplot(x='PC 1', y='PC 2', data=pca_t_l,\n",
    "                   hue='week', palette=None,\n",
    "                   fit_reg=False,\n",
    "                   scatter_kws={'alpha':0.7}\n",
    "                  );"
   ]
  },
  {
   "cell_type": "markdown",
   "metadata": {},
   "source": [
    "# Feature Selection"
   ]
  },
  {
   "cell_type": "markdown",
   "metadata": {},
   "source": [
    "## LogisticRegression method\n",
    "\n",
    "- ran this a couple times manually and got varying numbers of features retained\n",
    "- I decided to \n",
    "    - run it 100 times\n",
    "    - count how frequently each feature is retained\n",
    "    - keep the top X number of them"
   ]
  },
  {
   "cell_type": "code",
   "execution_count": 89,
   "metadata": {
    "collapsed": false
   },
   "outputs": [],
   "source": [
    "rlgrg = RandomizedLogisticRegression(C=1, scaling=0.5,\n",
    "                                     sample_fraction=0.5, n_resampling=20,\n",
    "                                     verbose=True, normalize=False,\n",
    "                                     random_state=None, n_jobs=1,\n",
    "                                     selection_threshold=0.25, tol=0.01                                     \n",
    "                                    )\n",
    "# rlgrg.fit(X_, y_)\n",
    " \n",
    "\n"
   ]
  },
  {
   "cell_type": "code",
   "execution_count": 90,
   "metadata": {
    "collapsed": false
   },
   "outputs": [
    {
     "data": {
      "text/plain": [
       "array([0, 1, 0, 1, 0, 1])"
      ]
     },
     "execution_count": 90,
     "metadata": {},
     "output_type": "execute_result"
    }
   ],
   "source": [
    "y_encoded_geno"
   ]
  },
  {
   "cell_type": "code",
   "execution_count": 91,
   "metadata": {
    "collapsed": false
   },
   "outputs": [
    {
     "ename": "ValueError",
     "evalue": "Found array with 0 sample(s) (shape=(0, 19227)) while a minimum of 1 is required.",
     "output_type": "error",
     "traceback": [
      "\u001b[1;31m---------------------------------------------------------------------------\u001b[0m",
      "\u001b[1;31mValueError\u001b[0m                                Traceback (most recent call last)",
      "\u001b[1;32m<ipython-input-91-a85eb6a0b5f3>\u001b[0m in \u001b[0;36m<module>\u001b[1;34m()\u001b[0m\n\u001b[0;32m      3\u001b[0m \u001b[0mitr\u001b[0m \u001b[1;33m=\u001b[0m \u001b[1;36m1\u001b[0m\u001b[1;33m\u001b[0m\u001b[0m\n\u001b[0;32m      4\u001b[0m f_sel_db = feature_selection.consensus_top10pct_feature_selection(X=X.iloc[:,2:], y=y_encoded_geno,\n\u001b[1;32m----> 5\u001b[1;33m                                                       clf=rlgrg, names=None, iters=itr)\n\u001b[0m\u001b[0;32m      6\u001b[0m \u001b[1;33m\u001b[0m\u001b[0m\n\u001b[0;32m      7\u001b[0m \u001b[0mt2\u001b[0m \u001b[1;33m=\u001b[0m \u001b[0mtime\u001b[0m\u001b[1;33m.\u001b[0m\u001b[0mtime\u001b[0m\u001b[1;33m(\u001b[0m\u001b[1;33m)\u001b[0m\u001b[1;33m\u001b[0m\u001b[0m\n",
      "\u001b[1;32m/home/gus/src/repos/git/spartan/src/spartan/utils/sklearn/feature_selection.pyc\u001b[0m in \u001b[0;36mconsensus_top10pct_feature_selection\u001b[1;34m(X, y, clf, names, iters)\u001b[0m\n\u001b[0;32m     46\u001b[0m \u001b[1;33m\u001b[0m\u001b[0m\n\u001b[0;32m     47\u001b[0m         \u001b[1;32mtry\u001b[0m\u001b[1;33m:\u001b[0m\u001b[1;33m\u001b[0m\u001b[0m\n\u001b[1;32m---> 48\u001b[1;33m             \u001b[0mclf\u001b[0m\u001b[1;33m.\u001b[0m\u001b[0mfit\u001b[0m\u001b[1;33m(\u001b[0m\u001b[0mX\u001b[0m\u001b[1;33m,\u001b[0m \u001b[0my\u001b[0m\u001b[1;33m)\u001b[0m\u001b[1;33m\u001b[0m\u001b[0m\n\u001b[0m\u001b[0;32m     49\u001b[0m \u001b[1;33m\u001b[0m\u001b[0m\n\u001b[0;32m     50\u001b[0m             \u001b[1;31m# get first 10% of features\u001b[0m\u001b[1;33m\u001b[0m\u001b[1;33m\u001b[0m\u001b[0m\n",
      "\u001b[1;32m/home/gus/anaconda2/envs/stack2/lib/python2.7/site-packages/sklearn/linear_model/randomized_l1.pyc\u001b[0m in \u001b[0;36mfit\u001b[1;34m(self, X, y)\u001b[0m\n\u001b[0;32m    110\u001b[0m             \u001b[0mn_jobs\u001b[0m\u001b[1;33m=\u001b[0m\u001b[0mself\u001b[0m\u001b[1;33m.\u001b[0m\u001b[0mn_jobs\u001b[0m\u001b[1;33m,\u001b[0m \u001b[0mverbose\u001b[0m\u001b[1;33m=\u001b[0m\u001b[0mself\u001b[0m\u001b[1;33m.\u001b[0m\u001b[0mverbose\u001b[0m\u001b[1;33m,\u001b[0m\u001b[1;33m\u001b[0m\u001b[0m\n\u001b[0;32m    111\u001b[0m             \u001b[0mpre_dispatch\u001b[0m\u001b[1;33m=\u001b[0m\u001b[0mself\u001b[0m\u001b[1;33m.\u001b[0m\u001b[0mpre_dispatch\u001b[0m\u001b[1;33m,\u001b[0m \u001b[0mrandom_state\u001b[0m\u001b[1;33m=\u001b[0m\u001b[0mself\u001b[0m\u001b[1;33m.\u001b[0m\u001b[0mrandom_state\u001b[0m\u001b[1;33m,\u001b[0m\u001b[1;33m\u001b[0m\u001b[0m\n\u001b[1;32m--> 112\u001b[1;33m             sample_fraction=self.sample_fraction, **params)\n\u001b[0m\u001b[0;32m    113\u001b[0m \u001b[1;33m\u001b[0m\u001b[0m\n\u001b[0;32m    114\u001b[0m         \u001b[1;32mif\u001b[0m \u001b[0mscores_\u001b[0m\u001b[1;33m.\u001b[0m\u001b[0mndim\u001b[0m \u001b[1;33m==\u001b[0m \u001b[1;36m1\u001b[0m\u001b[1;33m:\u001b[0m\u001b[1;33m\u001b[0m\u001b[0m\n",
      "\u001b[1;32m/home/gus/anaconda2/envs/stack2/lib/python2.7/site-packages/sklearn/externals/joblib/memory.pyc\u001b[0m in \u001b[0;36m__call__\u001b[1;34m(self, *args, **kwargs)\u001b[0m\n\u001b[0;32m    281\u001b[0m \u001b[1;33m\u001b[0m\u001b[0m\n\u001b[0;32m    282\u001b[0m     \u001b[1;32mdef\u001b[0m \u001b[0m__call__\u001b[0m\u001b[1;33m(\u001b[0m\u001b[0mself\u001b[0m\u001b[1;33m,\u001b[0m \u001b[1;33m*\u001b[0m\u001b[0margs\u001b[0m\u001b[1;33m,\u001b[0m \u001b[1;33m**\u001b[0m\u001b[0mkwargs\u001b[0m\u001b[1;33m)\u001b[0m\u001b[1;33m:\u001b[0m\u001b[1;33m\u001b[0m\u001b[0m\n\u001b[1;32m--> 283\u001b[1;33m         \u001b[1;32mreturn\u001b[0m \u001b[0mself\u001b[0m\u001b[1;33m.\u001b[0m\u001b[0mfunc\u001b[0m\u001b[1;33m(\u001b[0m\u001b[1;33m*\u001b[0m\u001b[0margs\u001b[0m\u001b[1;33m,\u001b[0m \u001b[1;33m**\u001b[0m\u001b[0mkwargs\u001b[0m\u001b[1;33m)\u001b[0m\u001b[1;33m\u001b[0m\u001b[0m\n\u001b[0m\u001b[0;32m    284\u001b[0m \u001b[1;33m\u001b[0m\u001b[0m\n\u001b[0;32m    285\u001b[0m     \u001b[1;32mdef\u001b[0m \u001b[0mcall_and_shelve\u001b[0m\u001b[1;33m(\u001b[0m\u001b[0mself\u001b[0m\u001b[1;33m,\u001b[0m \u001b[1;33m*\u001b[0m\u001b[0margs\u001b[0m\u001b[1;33m,\u001b[0m \u001b[1;33m**\u001b[0m\u001b[0mkwargs\u001b[0m\u001b[1;33m)\u001b[0m\u001b[1;33m:\u001b[0m\u001b[1;33m\u001b[0m\u001b[0m\n",
      "\u001b[1;32m/home/gus/anaconda2/envs/stack2/lib/python2.7/site-packages/sklearn/linear_model/randomized_l1.pyc\u001b[0m in \u001b[0;36m_resample_model\u001b[1;34m(estimator_func, X, y, scaling, n_resampling, n_jobs, verbose, pre_dispatch, random_state, sample_fraction, **params)\u001b[0m\n\u001b[0;32m     51\u001b[0m                 \u001b[0mverbose\u001b[0m\u001b[1;33m=\u001b[0m\u001b[0mmax\u001b[0m\u001b[1;33m(\u001b[0m\u001b[1;36m0\u001b[0m\u001b[1;33m,\u001b[0m \u001b[0mverbose\u001b[0m \u001b[1;33m-\u001b[0m \u001b[1;36m1\u001b[0m\u001b[1;33m)\u001b[0m\u001b[1;33m,\u001b[0m\u001b[1;33m\u001b[0m\u001b[0m\n\u001b[0;32m     52\u001b[0m                 **params)\n\u001b[1;32m---> 53\u001b[1;33m             for _ in range(n_resampling)):\n\u001b[0m\u001b[0;32m     54\u001b[0m         \u001b[0mscores_\u001b[0m \u001b[1;33m+=\u001b[0m \u001b[0mactive_set\u001b[0m\u001b[1;33m\u001b[0m\u001b[0m\n\u001b[0;32m     55\u001b[0m \u001b[1;33m\u001b[0m\u001b[0m\n",
      "\u001b[1;32m/home/gus/anaconda2/envs/stack2/lib/python2.7/site-packages/sklearn/externals/joblib/parallel.pyc\u001b[0m in \u001b[0;36m__call__\u001b[1;34m(self, iterable)\u001b[0m\n\u001b[0;32m    802\u001b[0m             \u001b[0mself\u001b[0m\u001b[1;33m.\u001b[0m\u001b[0m_iterating\u001b[0m \u001b[1;33m=\u001b[0m \u001b[0mTrue\u001b[0m\u001b[1;33m\u001b[0m\u001b[0m\n\u001b[0;32m    803\u001b[0m \u001b[1;33m\u001b[0m\u001b[0m\n\u001b[1;32m--> 804\u001b[1;33m             \u001b[1;32mwhile\u001b[0m \u001b[0mself\u001b[0m\u001b[1;33m.\u001b[0m\u001b[0mdispatch_one_batch\u001b[0m\u001b[1;33m(\u001b[0m\u001b[0miterator\u001b[0m\u001b[1;33m)\u001b[0m\u001b[1;33m:\u001b[0m\u001b[1;33m\u001b[0m\u001b[0m\n\u001b[0m\u001b[0;32m    805\u001b[0m                 \u001b[1;32mpass\u001b[0m\u001b[1;33m\u001b[0m\u001b[0m\n\u001b[0;32m    806\u001b[0m \u001b[1;33m\u001b[0m\u001b[0m\n",
      "\u001b[1;32m/home/gus/anaconda2/envs/stack2/lib/python2.7/site-packages/sklearn/externals/joblib/parallel.pyc\u001b[0m in \u001b[0;36mdispatch_one_batch\u001b[1;34m(self, iterator)\u001b[0m\n\u001b[0;32m    660\u001b[0m                 \u001b[1;32mreturn\u001b[0m \u001b[0mFalse\u001b[0m\u001b[1;33m\u001b[0m\u001b[0m\n\u001b[0;32m    661\u001b[0m             \u001b[1;32melse\u001b[0m\u001b[1;33m:\u001b[0m\u001b[1;33m\u001b[0m\u001b[0m\n\u001b[1;32m--> 662\u001b[1;33m                 \u001b[0mself\u001b[0m\u001b[1;33m.\u001b[0m\u001b[0m_dispatch\u001b[0m\u001b[1;33m(\u001b[0m\u001b[0mtasks\u001b[0m\u001b[1;33m)\u001b[0m\u001b[1;33m\u001b[0m\u001b[0m\n\u001b[0m\u001b[0;32m    663\u001b[0m                 \u001b[1;32mreturn\u001b[0m \u001b[0mTrue\u001b[0m\u001b[1;33m\u001b[0m\u001b[0m\n\u001b[0;32m    664\u001b[0m \u001b[1;33m\u001b[0m\u001b[0m\n",
      "\u001b[1;32m/home/gus/anaconda2/envs/stack2/lib/python2.7/site-packages/sklearn/externals/joblib/parallel.pyc\u001b[0m in \u001b[0;36m_dispatch\u001b[1;34m(self, batch)\u001b[0m\n\u001b[0;32m    568\u001b[0m \u001b[1;33m\u001b[0m\u001b[0m\n\u001b[0;32m    569\u001b[0m         \u001b[1;32mif\u001b[0m \u001b[0mself\u001b[0m\u001b[1;33m.\u001b[0m\u001b[0m_pool\u001b[0m \u001b[1;32mis\u001b[0m \u001b[0mNone\u001b[0m\u001b[1;33m:\u001b[0m\u001b[1;33m\u001b[0m\u001b[0m\n\u001b[1;32m--> 570\u001b[1;33m             \u001b[0mjob\u001b[0m \u001b[1;33m=\u001b[0m \u001b[0mImmediateComputeBatch\u001b[0m\u001b[1;33m(\u001b[0m\u001b[0mbatch\u001b[0m\u001b[1;33m)\u001b[0m\u001b[1;33m\u001b[0m\u001b[0m\n\u001b[0m\u001b[0;32m    571\u001b[0m             \u001b[0mself\u001b[0m\u001b[1;33m.\u001b[0m\u001b[0m_jobs\u001b[0m\u001b[1;33m.\u001b[0m\u001b[0mappend\u001b[0m\u001b[1;33m(\u001b[0m\u001b[0mjob\u001b[0m\u001b[1;33m)\u001b[0m\u001b[1;33m\u001b[0m\u001b[0m\n\u001b[0;32m    572\u001b[0m             \u001b[0mself\u001b[0m\u001b[1;33m.\u001b[0m\u001b[0mn_dispatched_batches\u001b[0m \u001b[1;33m+=\u001b[0m \u001b[1;36m1\u001b[0m\u001b[1;33m\u001b[0m\u001b[0m\n",
      "\u001b[1;32m/home/gus/anaconda2/envs/stack2/lib/python2.7/site-packages/sklearn/externals/joblib/parallel.pyc\u001b[0m in \u001b[0;36m__init__\u001b[1;34m(self, batch)\u001b[0m\n\u001b[0;32m    181\u001b[0m         \u001b[1;31m# Don't delay the application, to avoid keeping the input\u001b[0m\u001b[1;33m\u001b[0m\u001b[1;33m\u001b[0m\u001b[0m\n\u001b[0;32m    182\u001b[0m         \u001b[1;31m# arguments in memory\u001b[0m\u001b[1;33m\u001b[0m\u001b[1;33m\u001b[0m\u001b[0m\n\u001b[1;32m--> 183\u001b[1;33m         \u001b[0mself\u001b[0m\u001b[1;33m.\u001b[0m\u001b[0mresults\u001b[0m \u001b[1;33m=\u001b[0m \u001b[0mbatch\u001b[0m\u001b[1;33m(\u001b[0m\u001b[1;33m)\u001b[0m\u001b[1;33m\u001b[0m\u001b[0m\n\u001b[0m\u001b[0;32m    184\u001b[0m \u001b[1;33m\u001b[0m\u001b[0m\n\u001b[0;32m    185\u001b[0m     \u001b[1;32mdef\u001b[0m \u001b[0mget\u001b[0m\u001b[1;33m(\u001b[0m\u001b[0mself\u001b[0m\u001b[1;33m)\u001b[0m\u001b[1;33m:\u001b[0m\u001b[1;33m\u001b[0m\u001b[0m\n",
      "\u001b[1;32m/home/gus/anaconda2/envs/stack2/lib/python2.7/site-packages/sklearn/externals/joblib/parallel.pyc\u001b[0m in \u001b[0;36m__call__\u001b[1;34m(self)\u001b[0m\n\u001b[0;32m     70\u001b[0m \u001b[1;33m\u001b[0m\u001b[0m\n\u001b[0;32m     71\u001b[0m     \u001b[1;32mdef\u001b[0m \u001b[0m__call__\u001b[0m\u001b[1;33m(\u001b[0m\u001b[0mself\u001b[0m\u001b[1;33m)\u001b[0m\u001b[1;33m:\u001b[0m\u001b[1;33m\u001b[0m\u001b[0m\n\u001b[1;32m---> 72\u001b[1;33m         \u001b[1;32mreturn\u001b[0m \u001b[1;33m[\u001b[0m\u001b[0mfunc\u001b[0m\u001b[1;33m(\u001b[0m\u001b[1;33m*\u001b[0m\u001b[0margs\u001b[0m\u001b[1;33m,\u001b[0m \u001b[1;33m**\u001b[0m\u001b[0mkwargs\u001b[0m\u001b[1;33m)\u001b[0m \u001b[1;32mfor\u001b[0m \u001b[0mfunc\u001b[0m\u001b[1;33m,\u001b[0m \u001b[0margs\u001b[0m\u001b[1;33m,\u001b[0m \u001b[0mkwargs\u001b[0m \u001b[1;32min\u001b[0m \u001b[0mself\u001b[0m\u001b[1;33m.\u001b[0m\u001b[0mitems\u001b[0m\u001b[1;33m]\u001b[0m\u001b[1;33m\u001b[0m\u001b[0m\n\u001b[0m\u001b[0;32m     73\u001b[0m \u001b[1;33m\u001b[0m\u001b[0m\n\u001b[0;32m     74\u001b[0m     \u001b[1;32mdef\u001b[0m \u001b[0m__len__\u001b[0m\u001b[1;33m(\u001b[0m\u001b[0mself\u001b[0m\u001b[1;33m)\u001b[0m\u001b[1;33m:\u001b[0m\u001b[1;33m\u001b[0m\u001b[0m\n",
      "\u001b[1;32m/home/gus/anaconda2/envs/stack2/lib/python2.7/site-packages/sklearn/linear_model/randomized_l1.pyc\u001b[0m in \u001b[0;36m_randomized_logistic\u001b[1;34m(X, y, weights, mask, C, verbose, fit_intercept, tol)\u001b[0m\n\u001b[0;32m    363\u001b[0m         clf = LogisticRegression(C=this_C, tol=tol, penalty='l1', dual=False,\n\u001b[0;32m    364\u001b[0m                                  fit_intercept=fit_intercept)\n\u001b[1;32m--> 365\u001b[1;33m         \u001b[0mclf\u001b[0m\u001b[1;33m.\u001b[0m\u001b[0mfit\u001b[0m\u001b[1;33m(\u001b[0m\u001b[0mX\u001b[0m\u001b[1;33m,\u001b[0m \u001b[0my\u001b[0m\u001b[1;33m)\u001b[0m\u001b[1;33m\u001b[0m\u001b[0m\n\u001b[0m\u001b[0;32m    366\u001b[0m         this_scores[:] = np.any(\n\u001b[0;32m    367\u001b[0m             np.abs(clf.coef_) > 10 * np.finfo(np.float).eps, axis=0)\n",
      "\u001b[1;32m/home/gus/anaconda2/envs/stack2/lib/python2.7/site-packages/sklearn/linear_model/logistic.pyc\u001b[0m in \u001b[0;36mfit\u001b[1;34m(self, X, y, sample_weight)\u001b[0m\n\u001b[0;32m   1140\u001b[0m \u001b[1;33m\u001b[0m\u001b[0m\n\u001b[0;32m   1141\u001b[0m         X, y = check_X_y(X, y, accept_sparse='csr', dtype=np.float64, \n\u001b[1;32m-> 1142\u001b[1;33m                          order=\"C\")\n\u001b[0m\u001b[0;32m   1143\u001b[0m         \u001b[0mcheck_classification_targets\u001b[0m\u001b[1;33m(\u001b[0m\u001b[0my\u001b[0m\u001b[1;33m)\u001b[0m\u001b[1;33m\u001b[0m\u001b[0m\n\u001b[0;32m   1144\u001b[0m         \u001b[0mself\u001b[0m\u001b[1;33m.\u001b[0m\u001b[0mclasses_\u001b[0m \u001b[1;33m=\u001b[0m \u001b[0mnp\u001b[0m\u001b[1;33m.\u001b[0m\u001b[0munique\u001b[0m\u001b[1;33m(\u001b[0m\u001b[0my\u001b[0m\u001b[1;33m)\u001b[0m\u001b[1;33m\u001b[0m\u001b[0m\n",
      "\u001b[1;32m/home/gus/anaconda2/envs/stack2/lib/python2.7/site-packages/sklearn/utils/validation.pyc\u001b[0m in \u001b[0;36mcheck_X_y\u001b[1;34m(X, y, accept_sparse, dtype, order, copy, force_all_finite, ensure_2d, allow_nd, multi_output, ensure_min_samples, ensure_min_features, y_numeric, warn_on_dtype, estimator)\u001b[0m\n\u001b[0;32m    508\u001b[0m     X = check_array(X, accept_sparse, dtype, order, copy, force_all_finite,\n\u001b[0;32m    509\u001b[0m                     \u001b[0mensure_2d\u001b[0m\u001b[1;33m,\u001b[0m \u001b[0mallow_nd\u001b[0m\u001b[1;33m,\u001b[0m \u001b[0mensure_min_samples\u001b[0m\u001b[1;33m,\u001b[0m\u001b[1;33m\u001b[0m\u001b[0m\n\u001b[1;32m--> 510\u001b[1;33m                     ensure_min_features, warn_on_dtype, estimator)\n\u001b[0m\u001b[0;32m    511\u001b[0m     \u001b[1;32mif\u001b[0m \u001b[0mmulti_output\u001b[0m\u001b[1;33m:\u001b[0m\u001b[1;33m\u001b[0m\u001b[0m\n\u001b[0;32m    512\u001b[0m         y = check_array(y, 'csr', force_all_finite=True, ensure_2d=False,\n",
      "\u001b[1;32m/home/gus/anaconda2/envs/stack2/lib/python2.7/site-packages/sklearn/utils/validation.pyc\u001b[0m in \u001b[0;36mcheck_array\u001b[1;34m(array, accept_sparse, dtype, order, copy, force_all_finite, ensure_2d, allow_nd, ensure_min_samples, ensure_min_features, warn_on_dtype, estimator)\u001b[0m\n\u001b[0;32m    405\u001b[0m                              \u001b[1;34m\" minimum of %d is required%s.\"\u001b[0m\u001b[1;33m\u001b[0m\u001b[0m\n\u001b[0;32m    406\u001b[0m                              % (n_samples, shape_repr, ensure_min_samples,\n\u001b[1;32m--> 407\u001b[1;33m                                 context))\n\u001b[0m\u001b[0;32m    408\u001b[0m \u001b[1;33m\u001b[0m\u001b[0m\n\u001b[0;32m    409\u001b[0m     \u001b[1;32mif\u001b[0m \u001b[0mensure_min_features\u001b[0m \u001b[1;33m>\u001b[0m \u001b[1;36m0\u001b[0m \u001b[1;32mand\u001b[0m \u001b[0marray\u001b[0m\u001b[1;33m.\u001b[0m\u001b[0mndim\u001b[0m \u001b[1;33m==\u001b[0m \u001b[1;36m2\u001b[0m\u001b[1;33m:\u001b[0m\u001b[1;33m\u001b[0m\u001b[0m\n",
      "\u001b[1;31mValueError\u001b[0m: Found array with 0 sample(s) (shape=(0, 19227)) while a minimum of 1 is required."
     ]
    }
   ],
   "source": [
    "t1 = time.time()\n",
    "\n",
    "itr = 1\n",
    "f_sel_db = feature_selection.consensus_top10pct_feature_selection(X=X.iloc[:,2:], y=y_encoded_geno,\n",
    "                                                      clf=rlgrg, names=None, iters=itr)\n",
    "\n",
    "t2 = time.time()"
   ]
  },
  {
   "cell_type": "code",
   "execution_count": null,
   "metadata": {
    "collapsed": false
   },
   "outputs": [],
   "source": [
    "seconds = t2-t1\n",
    "print(seconds)"
   ]
  },
  {
   "cell_type": "code",
   "execution_count": null,
   "metadata": {
    "collapsed": false
   },
   "outputs": [],
   "source": [
    "seconds/60"
   ]
  },
  {
   "cell_type": "code",
   "execution_count": null,
   "metadata": {
    "collapsed": false
   },
   "outputs": [],
   "source": [
    "len(f_sel_db)"
   ]
  },
  {
   "cell_type": "code",
   "execution_count": null,
   "metadata": {
    "collapsed": false
   },
   "outputs": [],
   "source": [
    "sns.distplot([len(l) for l in f_sel_db.values()], kde=False)\n",
    "plt.xlabel('number of times a feature was retained');"
   ]
  },
  {
   "cell_type": "markdown",
   "metadata": {},
   "source": [
    "### Look at the Features that were retained at least X times"
   ]
  },
  {
   "cell_type": "code",
   "execution_count": null,
   "metadata": {
    "collapsed": false
   },
   "outputs": [],
   "source": [
    "my_features = feature_selection.process_retained_features(retained=f_sel_db, iters=itr)\n",
    "my_features.head()"
   ]
  },
  {
   "cell_type": "code",
   "execution_count": null,
   "metadata": {
    "collapsed": false
   },
   "outputs": [],
   "source": [
    "my_features.tail()"
   ]
  },
  {
   "cell_type": "code",
   "execution_count": null,
   "metadata": {
    "collapsed": false
   },
   "outputs": [],
   "source": [
    "my_features_ = my_features.sort_values(by='avg_score', axis=0, ascending=False).query(\"\"\"retention_rate > 0.99\"\"\")\n",
    "my_features_ = my_features_.query(\"\"\"avg_score > 0.5 \"\"\")\n",
    "my_features_.shape"
   ]
  },
  {
   "cell_type": "code",
   "execution_count": null,
   "metadata": {
    "collapsed": false
   },
   "outputs": [],
   "source": [
    "my_features_.head()"
   ]
  },
  {
   "cell_type": "code",
   "execution_count": null,
   "metadata": {
    "collapsed": false
   },
   "outputs": [],
   "source": [
    "my_features_.tail()"
   ]
  },
  {
   "cell_type": "code",
   "execution_count": null,
   "metadata": {
    "collapsed": false
   },
   "outputs": [],
   "source": [
    "X_best = X[my_features_.feature_names.values]\n",
    "X_best.shape"
   ]
  },
  {
   "cell_type": "code",
   "execution_count": null,
   "metadata": {
    "collapsed": false
   },
   "outputs": [],
   "source": [
    "X_best"
   ]
  },
  {
   "cell_type": "code",
   "execution_count": null,
   "metadata": {
    "collapsed": false
   },
   "outputs": [],
   "source": [
    "top_n_sorted_features = 4\n",
    "\n",
    "if top_n_sorted_features > X_best.shape[1]:\n",
    "    raise ValueError(\"X_best.shape[1] is smaller than value provided for top_n_sorted_features.\")\n",
    "\n",
    "pca = PCA(n_components=2, whiten=False)\n",
    "# pca = RandomizedPCA(n_components=2, whiten=False)\n",
    "\n",
    "pca_t = pca.fit_transform(X_best.iloc[:,:top_n_sorted_features],y_disease_encoded_any)\n",
    "top_n_comp = 2\n",
    "print('explained_variance_ratio_ of top {num}: {val}'.format(num=top_n_comp,val=pca.explained_variance_ratio_[:top_n_comp].sum()))\n",
    "\n",
    "pca_t_l = pandas_helpers.repandasify(array=pca_t, y_names=disease_encoder_any.inverse_transform(y_disease_encoded_any), X_names=['PC {v_}'.format(v_=v+1) for v in range(len(pca_t[0]))])\n",
    "# print(pca_t_l)"
   ]
  },
  {
   "cell_type": "code",
   "execution_count": null,
   "metadata": {
    "collapsed": false
   },
   "outputs": [],
   "source": [
    "pca_t_l = pca_t_l.reset_index(drop=True)\n",
    "pca_t_l['ExtentDisease'] = full_table['ExtentDisease']\n",
    "pca_t_l['Disease_or_Normal'] = full_table['Disease_or_Normal']\n",
    "# pca_t_l"
   ]
  },
  {
   "cell_type": "code",
   "execution_count": null,
   "metadata": {
    "collapsed": true
   },
   "outputs": [],
   "source": [
    "plot_alpha = 0.7"
   ]
  },
  {
   "cell_type": "code",
   "execution_count": null,
   "metadata": {
    "collapsed": false
   },
   "outputs": [],
   "source": [
    "with sns.color_palette(sns.color_palette(\"hls\", 3)):\n",
    "    with sns.axes_style(\"white\"):\n",
    "        sns.lmplot(x='PC 1', y='PC 2', data=pca_t_l.append(pca_t_l.iloc[9,:]), #sns.lmplot(x='PC 1', y='PC 2', data=pca_t_l,\n",
    "                   hue='ExtentDisease', palette=None,\n",
    "                   fit_reg=False,\n",
    "                   scatter_kws={'alpha':plot_alpha}\n",
    "                  );"
   ]
  },
  {
   "cell_type": "code",
   "execution_count": null,
   "metadata": {
    "collapsed": false
   },
   "outputs": [],
   "source": [
    "top_10 = my_features_.iloc[:10,:]"
   ]
  },
  {
   "cell_type": "markdown",
   "metadata": {
    "collapsed": true
   },
   "source": [
    "# Test crossvalidation results and preditions on reduced data"
   ]
  },
  {
   "cell_type": "code",
   "execution_count": null,
   "metadata": {
    "collapsed": false
   },
   "outputs": [],
   "source": [
    "X_reduced = X[top_10.feature_names.values.astype(str)]"
   ]
  },
  {
   "cell_type": "code",
   "execution_count": null,
   "metadata": {
    "collapsed": false
   },
   "outputs": [],
   "source": [
    "top_10.feature_names.values.astype(str)"
   ]
  },
  {
   "cell_type": "code",
   "execution_count": null,
   "metadata": {
    "collapsed": false
   },
   "outputs": [],
   "source": [
    "X_reduced.head()"
   ]
  },
  {
   "cell_type": "markdown",
   "metadata": {},
   "source": [
    "## split data into training and testing"
   ]
  },
  {
   "cell_type": "code",
   "execution_count": null,
   "metadata": {
    "collapsed": true
   },
   "outputs": [],
   "source": [
    "X_train, X_test, y_train, y_test = train_test_split(X_reduced, y_disease_encoded_any,\n",
    "                                                    test_size=0.33, random_state=42,\n",
    "                                                    stratify=y_disease_encoded_any\n",
    "                                                   )\n",
    "\n",
    "# X_train, X_test, y_train, y_test = train_test_split(X, y_disease_encoded_spc,\n",
    "#                                                     test_size=0.33, random_state=42,\n",
    "#                                                     stratify=y_disease_encoded_spc\n",
    "#                                                    )"
   ]
  },
  {
   "cell_type": "code",
   "execution_count": null,
   "metadata": {
    "collapsed": false
   },
   "outputs": [],
   "source": [
    "y_train"
   ]
  },
  {
   "cell_type": "code",
   "execution_count": null,
   "metadata": {
    "collapsed": false
   },
   "outputs": [],
   "source": [
    "y_test"
   ]
  },
  {
   "cell_type": "code",
   "execution_count": null,
   "metadata": {
    "collapsed": false
   },
   "outputs": [],
   "source": [
    "y_disease_encoded_any"
   ]
  },
  {
   "cell_type": "markdown",
   "metadata": {},
   "source": [
    "# Dummy Classifiers"
   ]
  },
  {
   "cell_type": "code",
   "execution_count": null,
   "metadata": {
    "collapsed": true
   },
   "outputs": [],
   "source": [
    "dummy_strat = DummyClassifier(strategy='stratified')\n",
    "dummy_freq = DummyClassifier(strategy='most_frequent')\n",
    "dummy_unif = DummyClassifier(strategy='uniform')\n",
    "# dummy_constant = DummyClassifier(strategy='constant', constant=1)"
   ]
  },
  {
   "cell_type": "code",
   "execution_count": null,
   "metadata": {
    "collapsed": false
   },
   "outputs": [],
   "source": [
    "dummy_strat.fit(X_train, y_train)\n",
    "dummy_freq.fit(X_train, y_train)\n",
    "dummy_unif.fit(X_train, y_train)\n",
    "# dummy_constant.fit(X_train, y_train)"
   ]
  },
  {
   "cell_type": "markdown",
   "metadata": {},
   "source": [
    "## dummy_strat"
   ]
  },
  {
   "cell_type": "code",
   "execution_count": null,
   "metadata": {
    "collapsed": false
   },
   "outputs": [],
   "source": [
    "dummy_strat_cm = confusion_matrix(y_test,dummy_strat.predict(X_test))\n",
    "model_assessment.plot_confusion_matrix(cm=dummy_strat_cm, labels=disease_encoder_any.classes_, cmap='Blues', title=\"dummy_strat confusion matrix\",\n",
    "                 norm=False, context=None, annot=True);"
   ]
  },
  {
   "cell_type": "code",
   "execution_count": null,
   "metadata": {
    "collapsed": false,
    "scrolled": true
   },
   "outputs": [],
   "source": [
    "model_assessment.plot_confusion_matrix(cm=dummy_strat_cm, labels=disease_encoder_any.classes_, cmap='Blues', title=\"dummy_strat normalized confusion matrix\",\n",
    "                 norm=True, context=None, annot=True);"
   ]
  },
  {
   "cell_type": "markdown",
   "metadata": {},
   "source": [
    "## dummy_freq"
   ]
  },
  {
   "cell_type": "code",
   "execution_count": null,
   "metadata": {
    "collapsed": false
   },
   "outputs": [],
   "source": [
    "dummy_freq_cm = confusion_matrix(y_test,dummy_freq.predict(X_test))\n",
    "model_assessment.plot_confusion_matrix(cm=dummy_freq_cm, labels=disease_encoder_any.classes_, cmap='Blues', title=\"dummy_freq confusion matrix\",\n",
    "                 norm=False, context=None, annot=True);"
   ]
  },
  {
   "cell_type": "code",
   "execution_count": null,
   "metadata": {
    "collapsed": false,
    "scrolled": true
   },
   "outputs": [],
   "source": [
    "model_assessment.plot_confusion_matrix(cm=dummy_freq_cm, labels=disease_encoder_any.classes_, cmap='Blues', title=\"dummy_freq normalized confusion matrix\",\n",
    "                 norm=True, context=None, annot=True);"
   ]
  },
  {
   "cell_type": "markdown",
   "metadata": {},
   "source": [
    "## dummy_unif"
   ]
  },
  {
   "cell_type": "code",
   "execution_count": null,
   "metadata": {
    "collapsed": false
   },
   "outputs": [],
   "source": [
    "dummy_unif_cm = confusion_matrix(y_test,dummy_unif.predict(X_test))\n",
    "model_assessment.plot_confusion_matrix(cm=dummy_unif_cm, labels=disease_encoder_any.classes_, cmap='Blues', title=\"dummy_unif confusion matrix\",\n",
    "                 norm=False, context=None, annot=True);"
   ]
  },
  {
   "cell_type": "code",
   "execution_count": null,
   "metadata": {
    "collapsed": false
   },
   "outputs": [],
   "source": [
    "model_assessment.plot_confusion_matrix(cm=dummy_unif_cm, labels=disease_encoder_any.classes_, cmap='Blues', title=\"dummy_unif normalized confusion matrix\",\n",
    "              norm=True, context=None, annot=True);"
   ]
  },
  {
   "cell_type": "markdown",
   "metadata": {},
   "source": [
    "## SVM classifier"
   ]
  },
  {
   "cell_type": "code",
   "execution_count": null,
   "metadata": {
    "collapsed": false
   },
   "outputs": [],
   "source": [
    "SVC"
   ]
  },
  {
   "cell_type": "code",
   "execution_count": null,
   "metadata": {
    "collapsed": false
   },
   "outputs": [],
   "source": [
    "svc_param_grid = {'svc__C': 10. ** np.arange(-3, 3),\n",
    "                  'svc__gamma': 10. ** np.arange(-3, 3)\n",
    "                 }\n",
    "\n",
    "\n",
    "\n",
    "svc_pipe = make_pipeline(SVC(kernel='linear', random_state=42))\n",
    "\n",
    "# run the gridsearch to tune the hyper-parameters\n",
    "svc_grid = GridSearchCV(svc_pipe, param_grid=svc_param_grid, cv=10)\n",
    "\n",
    "svc_grid.fit(X_train, y_train)\n",
    "print(svc_grid.best_params_)\n",
    "\n",
    "\n",
    "# generate and plot confusion matrices\n",
    "svc_cm = confusion_matrix(y_test,svc_grid.predict(X_test))\n",
    "\n"
   ]
  },
  {
   "cell_type": "code",
   "execution_count": null,
   "metadata": {
    "collapsed": false
   },
   "outputs": [],
   "source": [
    "# Non-normalized\n",
    "model_assessment.plot_confusion_matrix(cm=svc_cm, labels=disease_encoder_any.classes_, cmap='Blues', title=None,\n",
    "                 norm=False, context=None, annot=True);\n"
   ]
  },
  {
   "cell_type": "code",
   "execution_count": null,
   "metadata": {
    "collapsed": false
   },
   "outputs": [],
   "source": [
    "# Normalized\n",
    "model_assessment.plot_confusion_matrix(cm=svc_cm, labels=disease_encoder_any.classes_, cmap='Blues', title=None,\n",
    "                 norm=True, context=None, annot=True);"
   ]
  },
  {
   "cell_type": "markdown",
   "metadata": {},
   "source": [
    "## RandomForest classifier"
   ]
  },
  {
   "cell_type": "code",
   "execution_count": null,
   "metadata": {
    "collapsed": false
   },
   "outputs": [],
   "source": [
    "rfst_param_grid = {'randomforestclassifier__n_estimators': np.arange(1,15,),\n",
    "                   'randomforestclassifier__min_samples_leaf': np.arange(1,10,2)\n",
    "                  }\n",
    "\n",
    "\n",
    "\n",
    "rfst_pipe = make_pipeline(RandomForestClassifier(random_state=42,n_jobs=8))\n",
    "\n",
    "# run the gridsearch to tune the hyper-parameters\n",
    "rfst_grid = GridSearchCV(rfst_pipe, param_grid=rfst_param_grid, cv=3)\n",
    "\n",
    "\n",
    "rfst_grid.fit(X_train, y_train)\n",
    "print(rfst_grid.best_params_)\n",
    "\n",
    "\n",
    "# generate and plot confusion matrices\n",
    "rfst_cm = confusion_matrix(y_test,rfst_grid.predict(X_test))"
   ]
  },
  {
   "cell_type": "code",
   "execution_count": null,
   "metadata": {
    "collapsed": false
   },
   "outputs": [],
   "source": [
    "# Non-normalized\n",
    "model_assessment.plot_confusion_matrix(cm=svc_cm, labels=disease_encoder_any.classes_, cmap='Blues', title=None,\n",
    "                 norm=False, context=None, annot=True);"
   ]
  },
  {
   "cell_type": "code",
   "execution_count": null,
   "metadata": {
    "collapsed": false
   },
   "outputs": [],
   "source": [
    "# Normalized\n",
    "model_assessment.plot_confusion_matrix(cm=svc_cm, labels=disease_encoder_any.classes_, cmap='Blues', title=None,\n",
    "                 norm=True, context=None, annot=True);"
   ]
  },
  {
   "cell_type": "markdown",
   "metadata": {},
   "source": [
    "## LogisticRegression classifier"
   ]
  },
  {
   "cell_type": "code",
   "execution_count": null,
   "metadata": {
    "collapsed": false
   },
   "outputs": [],
   "source": [
    "log_reg_param_grid = {'logisticregression__penalty': ['l1','l2'],\n",
    "                     }\n",
    "\n",
    "\n",
    "\n",
    "log_reg_pipe = make_pipeline(LogisticRegression(random_state=42,n_jobs=8))\n",
    "\n",
    "# run the gridsearch to tune the hyper-parameters\n",
    "log_reg_grid = GridSearchCV(log_reg_pipe, param_grid=log_reg_param_grid, cv=5)\n",
    "\n",
    "\n",
    "log_reg_grid.fit(X_train, y_train)\n",
    "print(log_reg_grid.best_params_)\n",
    "\n",
    "\n",
    "# generate and plot confusion matrices\n",
    "log_reg_cm = confusion_matrix(y_test,log_reg_grid.predict(X_test))"
   ]
  },
  {
   "cell_type": "code",
   "execution_count": null,
   "metadata": {
    "collapsed": false
   },
   "outputs": [],
   "source": [
    "model_assessment.plot_confusion_matrix(cm=log_reg_cm, labels=disease_encoder_any.classes_, cmap='Blues', title=\"log_reg_cm confusion matrix\",\n",
    "              norm=False, context=None, annot=True);"
   ]
  },
  {
   "cell_type": "code",
   "execution_count": null,
   "metadata": {
    "collapsed": false,
    "scrolled": true
   },
   "outputs": [],
   "source": [
    "model_assessment.plot_confusion_matrix(cm=log_reg_cm, labels=disease_encoder_any.classes_, cmap='Blues', title=\"log_reg_cm normalized confusion matrix\",\n",
    "              norm=True, context=None, annot=True);"
   ]
  },
  {
   "cell_type": "markdown",
   "metadata": {},
   "source": [
    "# What genes/probes did we recover?"
   ]
  },
  {
   "cell_type": "code",
   "execution_count": null,
   "metadata": {
    "collapsed": false
   },
   "outputs": [],
   "source": [
    "mapping_table_file = pd.read_excel('/home/gus/MEGAsync/zim/main/BCH/Projects/Jodie_and_James/comparison_gus_v2.xls')\n",
    "mapping_table = mapping_table_file[['probes','GENE_SYMBOL']]"
   ]
  },
  {
   "cell_type": "code",
   "execution_count": null,
   "metadata": {
    "collapsed": false
   },
   "outputs": [],
   "source": [
    "mapping_table.head()"
   ]
  },
  {
   "cell_type": "code",
   "execution_count": null,
   "metadata": {
    "collapsed": false
   },
   "outputs": [],
   "source": [
    "my_probes = [x[1:] for x in X_reduced.columns.values]"
   ]
  },
  {
   "cell_type": "code",
   "execution_count": null,
   "metadata": {
    "collapsed": false
   },
   "outputs": [],
   "source": [
    "mapping_table[mapping_table.probes.apply(lambda x: x in my_probes)]"
   ]
  },
  {
   "cell_type": "code",
   "execution_count": null,
   "metadata": {
    "collapsed": true
   },
   "outputs": [],
   "source": []
  }
 ],
 "metadata": {
  "kernelspec": {
   "display_name": "Python 2",
   "language": "python",
   "name": "python2"
  },
  "language_info": {
   "codemirror_mode": {
    "name": "ipython",
    "version": 2
   },
   "file_extension": ".py",
   "mimetype": "text/x-python",
   "name": "python",
   "nbconvert_exporter": "python",
   "pygments_lexer": "ipython2",
   "version": "2.7.11"
  }
 },
 "nbformat": 4,
 "nbformat_minor": 0
}
