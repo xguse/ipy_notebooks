{
 "cells": [
  {
   "cell_type": "markdown",
   "metadata": {},
   "source": [
    "# Set up plotting in the notebook"
   ]
  },
  {
   "cell_type": "code",
   "execution_count": null,
   "metadata": {
    "collapsed": false
   },
   "outputs": [],
   "source": [
    "%matplotlib inline"
   ]
  },
  {
   "cell_type": "code",
   "execution_count": null,
   "metadata": {
    "collapsed": false
   },
   "outputs": [],
   "source": [
    "# %matplotlib"
   ]
  },
  {
   "cell_type": "markdown",
   "metadata": {},
   "source": [
    "# Imports"
   ]
  },
  {
   "cell_type": "code",
   "execution_count": null,
   "metadata": {
    "collapsed": true
   },
   "outputs": [],
   "source": [
    "from __future__ import division"
   ]
  },
  {
   "cell_type": "code",
   "execution_count": null,
   "metadata": {
    "collapsed": false
   },
   "outputs": [],
   "source": [
    "from bokeh.charts import Scatter, output_file, show\n",
    "from bokeh.sampledata.autompg import autompg as df\n",
    "from bokeh.models import HoverTool\n",
    "from bokeh.models import GlyphRenderer\n",
    "from bokeh.io import output_notebook"
   ]
  },
  {
   "cell_type": "code",
   "execution_count": null,
   "metadata": {
    "collapsed": false
   },
   "outputs": [],
   "source": [
    "# output_notebook()"
   ]
  },
  {
   "cell_type": "code",
   "execution_count": null,
   "metadata": {
    "collapsed": false
   },
   "outputs": [],
   "source": [
    "import pandas as pd\n",
    "pd.options.display.max_columns = 999\n",
    "import numpy as np"
   ]
  },
  {
   "cell_type": "code",
   "execution_count": null,
   "metadata": {
    "collapsed": true
   },
   "outputs": [],
   "source": [
    "from sklearn.decomposition import PCA\n",
    "from sklearn.cluster.bicluster import SpectralBiclustering\n",
    "from sklearn.metrics import consensus_score\n",
    "\n",
    "from sklearn.pipeline import make_pipeline\n",
    "from sklearn.preprocessing import StandardScaler, normalize, scale\n",
    "\n",
    "from sklearn.feature_selection import SelectKBest"
   ]
  },
  {
   "cell_type": "code",
   "execution_count": null,
   "metadata": {
    "collapsed": false
   },
   "outputs": [],
   "source": [
    "from matplotlib import pyplot as plt\n",
    "import seaborn as sns"
   ]
  },
  {
   "cell_type": "code",
   "execution_count": null,
   "metadata": {
    "collapsed": true
   },
   "outputs": [],
   "source": [
    "sns.set_context(\"poster\")"
   ]
  },
  {
   "cell_type": "markdown",
   "metadata": {},
   "source": [
    "# Load data"
   ]
  },
  {
   "cell_type": "code",
   "execution_count": null,
   "metadata": {
    "collapsed": false
   },
   "outputs": [],
   "source": [
    "data = pd.read_excel(\"/home/gus/MEGAsync/zim/main/BCH/Projects/Naresh/RNAseq/genes_log3WH.xlsx\")"
   ]
  },
  {
   "cell_type": "code",
   "execution_count": null,
   "metadata": {
    "collapsed": false,
    "scrolled": true
   },
   "outputs": [],
   "source": [
    "data.head()"
   ]
  },
  {
   "cell_type": "code",
   "execution_count": null,
   "metadata": {
    "collapsed": true
   },
   "outputs": [],
   "source": [
    "data_ = data[[\"gene_id\",\"1WH1_FPKM\",\"1WK1_FPKM\",\"3WH1_FPKM\",\"3WK1_FPKM\",\"12WH2_FPKM\",\"12WK2_FPKM\",]]"
   ]
  },
  {
   "cell_type": "markdown",
   "metadata": {},
   "source": [
    "# Transpose the data so we are PCA'ing the conditions"
   ]
  },
  {
   "cell_type": "code",
   "execution_count": null,
   "metadata": {
    "collapsed": false
   },
   "outputs": [],
   "source": [
    "data_.head()"
   ]
  },
  {
   "cell_type": "code",
   "execution_count": null,
   "metadata": {
    "collapsed": false
   },
   "outputs": [],
   "source": [
    "dataT_ = data_.T.drop('gene_id',axis=0)"
   ]
  },
  {
   "cell_type": "code",
   "execution_count": null,
   "metadata": {
    "collapsed": false
   },
   "outputs": [],
   "source": [
    "dataT_"
   ]
  },
  {
   "cell_type": "markdown",
   "metadata": {},
   "source": [
    "# PCA logic "
   ]
  },
  {
   "cell_type": "code",
   "execution_count": null,
   "metadata": {
    "collapsed": false
   },
   "outputs": [],
   "source": [
    "pca = PCA(n_components=4)\n",
    "pca.fit(dataT_)\n",
    "\n",
    "print pca.explained_variance_ratio_  \n",
    "print sum(pca.explained_variance_ratio_)"
   ]
  },
  {
   "cell_type": "markdown",
   "metadata": {},
   "source": [
    "# Prepare results and plot them"
   ]
  },
  {
   "cell_type": "code",
   "execution_count": null,
   "metadata": {
    "collapsed": true
   },
   "outputs": [],
   "source": [
    "pca_plot_data = pd.DataFrame(pca.transform(dataT_), index=[dataT_.index], columns=[\"PC1\",\"PC2\",\"PC3\",\"PC4\"] )\n"
   ]
  },
  {
   "cell_type": "code",
   "execution_count": null,
   "metadata": {
    "collapsed": false
   },
   "outputs": [],
   "source": [
    "pca_plot_data = pd.DataFrame(pca.transform(dataT_), index=[dataT_.index], columns=[\"PC1\",\"PC2\",\"PC3\",\"PC4\"] )"
   ]
  },
  {
   "cell_type": "code",
   "execution_count": null,
   "metadata": {
    "collapsed": false
   },
   "outputs": [],
   "source": [
    "pca_plot_data.index"
   ]
  },
  {
   "cell_type": "code",
   "execution_count": null,
   "metadata": {
    "collapsed": false
   },
   "outputs": [],
   "source": [
    "pca_plot_data.reset_index(inplace=True)\n",
    "pca_plot_data = pca_plot_data.rename(columns={'index':'Treatment'})\n",
    "pca_plot_data"
   ]
  },
  {
   "cell_type": "code",
   "execution_count": null,
   "metadata": {
    "collapsed": false
   },
   "outputs": [],
   "source": []
  },
  {
   "cell_type": "code",
   "execution_count": null,
   "metadata": {
    "collapsed": false
   },
   "outputs": [],
   "source": [
    "pca_plot_data"
   ]
  },
  {
   "cell_type": "code",
   "execution_count": null,
   "metadata": {
    "collapsed": false
   },
   "outputs": [],
   "source": [
    "# pca_plot_data[''] = 0\n",
    "# pca_plot_data"
   ]
  },
  {
   "cell_type": "code",
   "execution_count": null,
   "metadata": {
    "collapsed": false
   },
   "outputs": [],
   "source": [
    "g = sns.PairGrid(pca_plot_data, hue=\"Treatment\",\n",
    "                 hue_order=None, palette='Paired', \n",
    "                 hue_kws=None, \n",
    "                 vars=None, x_vars=None, y_vars=None,\n",
    "                 diag_sharey=False, size=5, aspect=1, despine=True, dropna=True)\n",
    "g = g.map(plt.scatter,s=200)\n",
    "g = g.add_legend()\n",
    "# g.savefig('/tmp/test.jpg')"
   ]
  },
  {
   "cell_type": "markdown",
   "metadata": {
    "collapsed": true
   },
   "source": [
    "# Volcano-like plots\n",
    "\n",
    "- We do not have p-value information so we are plotting __absolute change in FPKM__ as the _y-axis_\n",
    "- also, to avoid 'divide by zero' errors we will add a very small _pseudo-value_ to all FPKM measurements\n",
    "    - the value of the pseudo-value will be 1e_X_, where _X_ is the order of magnitude of the smallest NON-ZERO value in the data."
   ]
  },
  {
   "cell_type": "markdown",
   "metadata": {},
   "source": [
    "## Add psuedo-values"
   ]
  },
  {
   "cell_type": "code",
   "execution_count": null,
   "metadata": {
    "collapsed": false
   },
   "outputs": [],
   "source": [
    "# smallest numerical value that is not zero\n",
    "data_[data_ != 0].min().min()"
   ]
  },
  {
   "cell_type": "code",
   "execution_count": null,
   "metadata": {
    "collapsed": true
   },
   "outputs": [],
   "source": [
    "shift_by = 1e-07\n",
    "data_shifted_ = data_.set_index('gene_id') + shift_by"
   ]
  },
  {
   "cell_type": "code",
   "execution_count": null,
   "metadata": {
    "collapsed": false
   },
   "outputs": [],
   "source": [
    "data_shifted_.head()"
   ]
  },
  {
   "cell_type": "markdown",
   "metadata": {},
   "source": [
    "## Calculate the fold_change and abs_diff for each time point"
   ]
  },
  {
   "cell_type": "code",
   "execution_count": null,
   "metadata": {
    "collapsed": false
   },
   "outputs": [],
   "source": [
    "week1 = data_[[\"gene_id\",\"1WK1_FPKM\",\"1WH1_FPKM\"]].set_index('gene_id').copy()\n",
    "week1['fold_change'] = np.log2(data_shifted_['1WK1_FPKM'] / data_shifted_['1WH1_FPKM'])\n",
    "week1['abs_diff'] = abs(data_shifted_['1WK1_FPKM'] - data_shifted_['1WH1_FPKM'])\n",
    "week1 = week1.reset_index()"
   ]
  },
  {
   "cell_type": "code",
   "execution_count": null,
   "metadata": {
    "collapsed": false
   },
   "outputs": [],
   "source": [
    "week1.head()"
   ]
  },
  {
   "cell_type": "code",
   "execution_count": null,
   "metadata": {
    "collapsed": true
   },
   "outputs": [],
   "source": [
    "week3 = data_[[\"gene_id\",\"3WK1_FPKM\",\"3WH1_FPKM\"]].set_index('gene_id').copy()\n",
    "week3['fold_change'] = np.log2(data_shifted_['3WK1_FPKM'] / data_shifted_['3WH1_FPKM'])\n",
    "week3['abs_diff'] = abs(data_shifted_['3WK1_FPKM'] - data_shifted_['3WH1_FPKM'])\n",
    "week3 = week3.reset_index()"
   ]
  },
  {
   "cell_type": "code",
   "execution_count": null,
   "metadata": {
    "collapsed": false
   },
   "outputs": [],
   "source": [
    "week12 = data_[[\"gene_id\",\"12WK2_FPKM\",\"12WH2_FPKM\"]].set_index('gene_id').copy()\n",
    "week12['fold_change'] = np.log2(data_shifted_['12WK2_FPKM'] / data_shifted_['12WH2_FPKM'])\n",
    "week12['abs_diff'] = abs(data_shifted_['12WK2_FPKM'] - data_shifted_['12WH2_FPKM'])\n",
    "week12 = week12.reset_index()"
   ]
  },
  {
   "cell_type": "markdown",
   "metadata": {},
   "source": [
    "## Plot the figures"
   ]
  },
  {
   "cell_type": "code",
   "execution_count": null,
   "metadata": {
    "collapsed": true
   },
   "outputs": [],
   "source": [
    "# set up colors\n",
    "wk1_clr = \"#1F78B3\"\n",
    "wk3_clr = \"#36A12E\"\n",
    "wk12_clr = \"#E31B1C\"\n",
    "\n",
    "# set up filtered data\n",
    "week1_gte2 = week1.query(\"\"\"abs(fold_change) >= 1\"\"\")\n",
    "week3_gte2 = week3.query(\"\"\"abs(fold_change) >= 1\"\"\")\n",
    "week12_gte2 = week12.query(\"\"\"abs(fold_change) >= 1\"\"\")"
   ]
  },
  {
   "cell_type": "code",
   "execution_count": null,
   "metadata": {
    "collapsed": false
   },
   "outputs": [],
   "source": [
    "# set up the hover/tool-tips etc\n",
    "\n",
    "hover = HoverTool(\n",
    "        tooltips=[\n",
    "            (\"index\", \"$index\"),\n",
    "            (\"fold_change\", \"@x_values\"),\n",
    "            (\"abs_diff\", \"@y_values\"),\n",
    "            (\"gene_id\", \"@gene_id\"),\n",
    "        ]\n",
    "    )\n",
    "    \n",
    "tools = \"pan,wheel_zoom,box_zoom,reset,resize,previewsave\""
   ]
  },
  {
   "cell_type": "code",
   "execution_count": null,
   "metadata": {
    "collapsed": false
   },
   "outputs": [],
   "source": [
    "hover.tooltips"
   ]
  },
  {
   "cell_type": "code",
   "execution_count": null,
   "metadata": {
    "collapsed": false
   },
   "outputs": [],
   "source": [
    "# p1 = Scatter(week1_gte2, x=\"fold_change\", y=\"abs_diff\", title=\"Week 1\",\n",
    "#             xlabel=\"log2(Fold Change)\", ylabel=\"abs(FPKM difference)\",\n",
    "#             tools=tools,\n",
    "#             color=wk1_clr)\n",
    "\n",
    "# # manually add gene_id and original values to data_source\n",
    "# s1 = p1.select(GlyphRenderer)[0].data_source\n",
    "# s1.data['gene_id'] = week1_gte2.gene_id\n",
    "# s1.data['1WH1_FPKM'] = week1_gte2['1WH1_FPKM']\n",
    "# s1.data['1WK1_FPKM'] = week1_gte2['1WK1_FPKM']\n",
    "\n",
    "# # add original values to hover table\n",
    "# h1 = hover.clone()\n",
    "# h1.tooltips = h1.tooltips + [('1WH1_FPKM','@1WH1_FPKM'),\n",
    "#                              ('1WK1_FPKM','@1WK1_FPKM')]\n",
    "# p1.add_tools(h1)\n",
    "\n",
    "# show(p1)"
   ]
  },
  {
   "cell_type": "code",
   "execution_count": null,
   "metadata": {
    "collapsed": false
   },
   "outputs": [],
   "source": [
    "# p3 = Scatter(week3_gte2, x=\"fold_change\", y=\"abs_diff\", title=\"Week 3\",\n",
    "#             xlabel=\"log2(Fold Change)\", ylabel=\"abs(FPKM difference)\",\n",
    "#             tools=tools,\n",
    "#             color=wk3_clr)\n",
    "\n",
    "# # manually add gene_id and original values to data_source\n",
    "# s3 = p3.select(GlyphRenderer)[0].data_source\n",
    "# s3.data['gene_id'] = week3_gte2.gene_id\n",
    "# s3.data['3WH1_FPKM'] = week3_gte2['3WH1_FPKM']\n",
    "# s3.data['3WK1_FPKM'] = week3_gte2['3WK1_FPKM']\n",
    "\n",
    "# # add original values to hover table\n",
    "# h3 = hover.clone()\n",
    "# h3.tooltips = h3.tooltips + [('3WH1_FPKM','@3WH1_FPKM'),\n",
    "#                              ('3WK1_FPKM','@3WK1_FPKM')]\n",
    "# p3.add_tools(h3)\n",
    "\n",
    "\n",
    "# show(p3)"
   ]
  },
  {
   "cell_type": "code",
   "execution_count": null,
   "metadata": {
    "collapsed": false
   },
   "outputs": [],
   "source": [
    "week12.head()"
   ]
  },
  {
   "cell_type": "code",
   "execution_count": null,
   "metadata": {
    "collapsed": false
   },
   "outputs": [],
   "source": [
    "# p12 = Scatter(week12_gte2, x=\"fold_change\", y=\"abs_diff\", title=\"Week 12\",\n",
    "#             xlabel=\"log2(Fold Change)\", ylabel=\"abs(FPKM difference)\",\n",
    "#             tools=tools,\n",
    "#             color=wk12_clr)\n",
    "\n",
    "# # manually add gene_id and original values to data_source\n",
    "# s12 = p12.select(GlyphRenderer)[0].data_source\n",
    "# s12.data['gene_id'] = week12_gte2.gene_id\n",
    "# s12.data['12WH2_FPKM'] = week12_gte2['12WH2_FPKM']\n",
    "# s12.data['12WK2_FPKM'] = week12_gte2['12WK2_FPKM']\n",
    "\n",
    "# # add original values to hover table\n",
    "# h12 = hover.clone()\n",
    "# h12.tooltips = h12.tooltips + [('12WH2_FPKM','@12WH2_FPKM'),\n",
    "#                                ('12WK2_FPKM','@12WK2_FPKM')]\n",
    "# p12.add_tools(h12)\n",
    "\n",
    "# show(p12)"
   ]
  },
  {
   "cell_type": "code",
   "execution_count": null,
   "metadata": {
    "collapsed": false
   },
   "outputs": [],
   "source": [
    "week12_gte2[week12_gte2.gene_id == \"ENSMUSG00000051439\"]"
   ]
  },
  {
   "cell_type": "markdown",
   "metadata": {
    "collapsed": true
   },
   "source": [
    "# Gene lists"
   ]
  },
  {
   "cell_type": "markdown",
   "metadata": {},
   "source": [
    "## Bicluster ALL genes"
   ]
  },
  {
   "cell_type": "code",
   "execution_count": null,
   "metadata": {
    "collapsed": true
   },
   "outputs": [],
   "source": [
    "bicluster_clf = SpectralBiclustering(n_clusters=(100,3), \n",
    "                          method='bistochastic', n_components=6, \n",
    "                          n_best=3, svd_method='randomized', n_svd_vecs=None, \n",
    "                          mini_batch=False, init='k-means++', \n",
    "                          n_init=10, n_jobs=1, random_state=None)\n",
    "\n",
    "m = 3"
   ]
  },
  {
   "cell_type": "code",
   "execution_count": null,
   "metadata": {
    "collapsed": false
   },
   "outputs": [],
   "source": [
    "data_cls = data_.set_index(data_.gene_id.values).drop('gene_id',1)\n",
    "data_cls.head()"
   ]
  },
  {
   "cell_type": "code",
   "execution_count": null,
   "metadata": {
    "collapsed": true
   },
   "outputs": [],
   "source": [
    "data_cls_scl = data_cls.T.apply(lambda x: scale(x, axis=0)).T"
   ]
  },
  {
   "cell_type": "code",
   "execution_count": null,
   "metadata": {
    "collapsed": false,
    "scrolled": true
   },
   "outputs": [],
   "source": [
    "bicluster_clf.fit(X=data_cls_scl)"
   ]
  },
  {
   "cell_type": "code",
   "execution_count": null,
   "metadata": {
    "collapsed": true
   },
   "outputs": [],
   "source": [
    "fit_data = data_cls_scl.iloc[np.argsort(bicluster_clf.row_labels_),np.argsort(bicluster_clf.column_labels_)]"
   ]
  },
  {
   "cell_type": "code",
   "execution_count": null,
   "metadata": {
    "collapsed": false
   },
   "outputs": [],
   "source": [
    "bicluster_clf.column_labels_"
   ]
  },
  {
   "cell_type": "code",
   "execution_count": null,
   "metadata": {
    "collapsed": false,
    "scrolled": false
   },
   "outputs": [],
   "source": [
    "sns.set(rc={'figure.figsize': [1*m,6*m]})\n",
    "sns.heatmap(fit_data.iloc[:,:], square=False, cbar=False, yticklabels=False);"
   ]
  },
  {
   "cell_type": "markdown",
   "metadata": {},
   "source": [
    "## Week 1: log2(fold_change) >= 1"
   ]
  },
  {
   "cell_type": "code",
   "execution_count": null,
   "metadata": {
    "collapsed": false
   },
   "outputs": [],
   "source": [
    "gte2_template = 'number of genes in week {week} with >= 2 fold change: {num}'"
   ]
  },
  {
   "cell_type": "code",
   "execution_count": null,
   "metadata": {
    "collapsed": false
   },
   "outputs": [],
   "source": [
    "print gte2_template.format(week=' 1',num=len(week1_gte2))\n",
    "print gte2_template.format(week=' 3',num=len(week3_gte2))\n",
    "print gte2_template.format(week='12',num=len(week12_gte2))"
   ]
  },
  {
   "cell_type": "code",
   "execution_count": null,
   "metadata": {
    "collapsed": false
   },
   "outputs": [],
   "source": [
    "data_deltas_ = data_.set_index('gene_id')"
   ]
  },
  {
   "cell_type": "code",
   "execution_count": null,
   "metadata": {
    "collapsed": false
   },
   "outputs": [],
   "source": [
    "data_deltas_.head()"
   ]
  },
  {
   "cell_type": "code",
   "execution_count": null,
   "metadata": {
    "collapsed": true
   },
   "outputs": [],
   "source": [
    "data_deltas_['wk1_fold'] = week1.set_index(\"gene_id\").fold_change\n",
    "data_deltas_['wk3_fold'] = week3.set_index(\"gene_id\").fold_change\n",
    "data_deltas_['wk12_fold'] = week12.set_index(\"gene_id\").fold_change"
   ]
  },
  {
   "cell_type": "code",
   "execution_count": null,
   "metadata": {
    "collapsed": false
   },
   "outputs": [],
   "source": [
    "data_deltas_.iloc[:,-3:].head()"
   ]
  },
  {
   "cell_type": "code",
   "execution_count": null,
   "metadata": {
    "collapsed": false
   },
   "outputs": [],
   "source": [
    "wk3_gte2_full_data_ = data_.set_index('gene_id')"
   ]
  },
  {
   "cell_type": "code",
   "execution_count": null,
   "metadata": {
    "collapsed": false,
    "scrolled": true
   },
   "outputs": [],
   "source": [
    "week3_gte2_top_100_fc = week3_gte2.sort_values(by='fold_change', axis=0, ascending=False, inplace=False, kind='quicksort', na_position='last').iloc[:100,:]\n",
    "week3_gte2_top_100_fc.tail()"
   ]
  },
  {
   "cell_type": "code",
   "execution_count": null,
   "metadata": {
    "collapsed": false
   },
   "outputs": [],
   "source": [
    "week3_gte2_top_100_abs = week3_gte2.sort_values(by='abs_diff', axis=0, ascending=False, inplace=False, kind='quicksort', na_position='last').iloc[:100,:]\n",
    "week3_gte2_top_100_abs.tail()"
   ]
  },
  {
   "cell_type": "code",
   "execution_count": null,
   "metadata": {
    "collapsed": false
   },
   "outputs": [],
   "source": [
    "week3_gte2_top_100_union = pd.concat([week3_gte2_top_100_fc,week3_gte2_top_100_abs]).drop_duplicates()"
   ]
  },
  {
   "cell_type": "code",
   "execution_count": null,
   "metadata": {
    "collapsed": false
   },
   "outputs": [],
   "source": [
    "data_week3_gte2_top_100_union = pd.merge(left=data_, right=week3_gte2_top_100_union[['gene_id']], \n",
    "                                         how='inner', \n",
    "                                         on=\"gene_id\", left_on=None, right_on=None, \n",
    "                                         left_index=False, right_index=False, \n",
    "                                         sort=False, suffixes=('_x', '_y'), copy=True, indicator=False)"
   ]
  },
  {
   "cell_type": "code",
   "execution_count": null,
   "metadata": {
    "collapsed": false
   },
   "outputs": [],
   "source": [
    "data_week3_gte2_top_100_union.head()"
   ]
  },
  {
   "cell_type": "code",
   "execution_count": null,
   "metadata": {
    "collapsed": false
   },
   "outputs": [],
   "source": [
    "data_week3_gte2_top_100_union_SHIFTED = data_week3_gte2_top_100_union.set_index(data_week3_gte2_top_100_union.gene_id.values)\n",
    "data_week3_gte2_top_100_union_SHIFTED = data_week3_gte2_top_100_union_SHIFTED.drop('gene_id',1) + shift_by\n",
    "\n",
    "    \n",
    "data_week3_gte2_top_100_union_SHIFTED_vs_3WH1_FPKM = data_week3_gte2_top_100_union_SHIFTED.copy()\n",
    "data_week3_gte2_top_100_union_SHIFTED_vs_3WH1_FPKM['1WH1_FPKM'] = data_week3_gte2_top_100_union_SHIFTED['1WH1_FPKM'] / data_week3_gte2_top_100_union_SHIFTED['3WH1_FPKM']\n",
    "data_week3_gte2_top_100_union_SHIFTED_vs_3WH1_FPKM['1WK1_FPKM'] = data_week3_gte2_top_100_union_SHIFTED['1WK1_FPKM'] / data_week3_gte2_top_100_union_SHIFTED['3WH1_FPKM']\n",
    "data_week3_gte2_top_100_union_SHIFTED_vs_3WH1_FPKM['3WH1_FPKM'] = data_week3_gte2_top_100_union_SHIFTED['3WH1_FPKM'] / data_week3_gte2_top_100_union_SHIFTED['3WH1_FPKM']\n",
    "data_week3_gte2_top_100_union_SHIFTED_vs_3WH1_FPKM['3WK1_FPKM'] = data_week3_gte2_top_100_union_SHIFTED['3WK1_FPKM'] / data_week3_gte2_top_100_union_SHIFTED['3WH1_FPKM']\n",
    "data_week3_gte2_top_100_union_SHIFTED_vs_3WH1_FPKM['12WH2_FPKM'] = data_week3_gte2_top_100_union_SHIFTED['12WH2_FPKM'] / data_week3_gte2_top_100_union_SHIFTED['3WH1_FPKM']\n",
    "data_week3_gte2_top_100_union_SHIFTED_vs_3WH1_FPKM['12WK2_FPKM'] = data_week3_gte2_top_100_union_SHIFTED['12WK2_FPKM'] / data_week3_gte2_top_100_union_SHIFTED['3WH1_FPKM']\n",
    "\n",
    "\n",
    "# data_week3_gte2_top_100_union_SHIFTED_vs_3WH1_FPKM = np.log2(data_week3_gte2_top_100_union_SHIFTED_vs_3WH1_FPKM)\n",
    "\n",
    "data_week3_gte2_top_100_union_SHIFTED_vs_3WH1_FPKM.head()"
   ]
  },
  {
   "cell_type": "code",
   "execution_count": null,
   "metadata": {
    "collapsed": true
   },
   "outputs": [],
   "source": [
    "data_week3_gte2_top_100_union_SHIFTED_vs_3WH1_FPKM_path = \"~/tmp/data_week3_gte2_top_100_union_SHIFTED_vs_3WH1_FPKM\"\n",
    "data_week3_gte2_top_100_union_SHIFTED_vs_3WH1_FPKM.to_csv(data_week3_gte2_top_100_union_SHIFTED_vs_3WH1_FPKM_path)\n",
    "# data_week3_gte2_top_100_union_SHIFTED_vs_3WH1_FPKM = pd.read_csv(data_week3_gte2_top_100_union_SHIFTED_vs_3WH1_FPKM_path, index_col=0)"
   ]
  },
  {
   "cell_type": "code",
   "execution_count": null,
   "metadata": {
    "collapsed": false
   },
   "outputs": [],
   "source": [
    "data_week3_gte2_top_100_union_SHIFTED_vs_3WH1_FPKM.head()"
   ]
  },
  {
   "cell_type": "code",
   "execution_count": null,
   "metadata": {
    "collapsed": false
   },
   "outputs": [],
   "source": [
    "data_week3_gte2_top_100_union_SHIFTED_vs_3WH1_FPKM.describe()"
   ]
  },
  {
   "cell_type": "code",
   "execution_count": null,
   "metadata": {
    "collapsed": false,
    "scrolled": true
   },
   "outputs": [],
   "source": [
    "sns.heatmap(data=data_week3_gte2_top_100_union_SHIFTED_vs_3WH1_FPKM.sample(10), \n",
    "            vmin=None, vmax=None, cmap=None, \n",
    "            center=None, robust=False, annot=False, \n",
    "            fmt='.2g', annot_kws=None, linewidths=0, linecolor='white', \n",
    "            cbar=True, cbar_kws=None, cbar_ax=None, \n",
    "            square=False, ax=None, xticklabels=True, yticklabels=True, mask=None,);"
   ]
  },
  {
   "cell_type": "code",
   "execution_count": null,
   "metadata": {
    "collapsed": false
   },
   "outputs": [],
   "source": [
    "data_week3_gte2_top_100_union_SHIFTED_vs_3WH1_FPKM.T"
   ]
  },
  {
   "cell_type": "code",
   "execution_count": null,
   "metadata": {
    "collapsed": false
   },
   "outputs": [],
   "source": [
    "pca = PCA(n_components=3)\n",
    "pca.fit(data_week3_gte2_top_100_union_SHIFTED_vs_3WH1_FPKM.T)\n",
    "\n",
    "print pca.explained_variance_ratio_  \n",
    "print sum(pca.explained_variance_ratio_)"
   ]
  },
  {
   "cell_type": "code",
   "execution_count": null,
   "metadata": {
    "collapsed": false
   },
   "outputs": [],
   "source": [
    "pca_plot_data_ = pd.DataFrame(pca.transform(data_week3_gte2_top_100_union_SHIFTED_vs_3WH1_FPKM.T), index=[data_week3_gte2_top_100_union_SHIFTED_vs_3WH1_FPKM.T.index], columns=[\"PC1\",\"PC2\",\"PC3\"] )\n",
    "pca_plot_data_"
   ]
  },
  {
   "cell_type": "code",
   "execution_count": null,
   "metadata": {
    "collapsed": false
   },
   "outputs": [],
   "source": [
    "pca_plot_data_.reset_index(inplace=True)\n",
    "pca_plot_data_ = pca_plot_data_.rename(columns={'index':'Treatment'})\n",
    "pca_plot_data_"
   ]
  },
  {
   "cell_type": "code",
   "execution_count": null,
   "metadata": {
    "collapsed": false
   },
   "outputs": [],
   "source": [
    "pca_plt2 = sns.PairGrid(pca_plot_data_, hue=\"Treatment\",\n",
    "                 hue_order=None, palette='Paired', \n",
    "                 hue_kws=None, \n",
    "                 vars=None, x_vars=None, y_vars=None,\n",
    "                 diag_sharey=False, size=5, aspect=1, despine=True, dropna=True)\n",
    "pca_plt2 = pca_plt2.map(plt.scatter,s=200)\n",
    "pca_plt2 = pca_plt2.add_legend();"
   ]
  },
  {
   "cell_type": "code",
   "execution_count": null,
   "metadata": {
    "collapsed": false
   },
   "outputs": [],
   "source": [
    "sns.clustermap(data_week3_gte2_top_100_union_SHIFTED_vs_3WH1_FPKM.sample(5), \n",
    "               pivot_kws=None, \n",
    "               method='average', metric='euclidean', \n",
    "               z_score=0, standard_scale=None, \n",
    "               figsize=None, \n",
    "               cbar_kws=None, \n",
    "               row_cluster=True, col_cluster=True, \n",
    "               row_linkage=None, col_linkage=None, \n",
    "               row_colors=None, col_colors=None, mask=None\n",
    "              );"
   ]
  },
  {
   "cell_type": "code",
   "execution_count": null,
   "metadata": {
    "collapsed": false
   },
   "outputs": [],
   "source": [
    "# no_fold = [\"3WK1_FPKM\",\"3WH1_FPKM\",\"abs_diff\"]\n",
    "# no_abs = [\"3WK1_FPKM\",\"3WH1_FPKM\",\"fold_change\"]\n",
    "\n",
    "# sns.clustermap(data=week3_gte2.set_index(\"gene_id\").sort_values(by=\"abs_diff\",ascending=False)[no_abs].sample(200,random_state=1), \n",
    "#                pivot_kws=None, \n",
    "#                method='average', metric='euclidean', \n",
    "#                z_score=True, standard_scale=None, \n",
    "#                figsize=(13,13), \n",
    "#                cbar_kws=None, \n",
    "#                row_cluster=True, col_cluster=False, \n",
    "#                row_linkage=None, col_linkage=None, \n",
    "#                row_colors=None, col_colors=None, \n",
    "#                mask=None);"
   ]
  },
  {
   "cell_type": "markdown",
   "metadata": {},
   "source": [
    "# Biclustering of expression profiles"
   ]
  },
  {
   "cell_type": "code",
   "execution_count": null,
   "metadata": {
    "collapsed": true
   },
   "outputs": [],
   "source": []
  }
 ],
 "metadata": {
  "kernelspec": {
   "display_name": "Python 2",
   "language": "python",
   "name": "python2"
  },
  "language_info": {
   "codemirror_mode": {
    "name": "ipython",
    "version": 2
   },
   "file_extension": ".py",
   "mimetype": "text/x-python",
   "name": "python",
   "nbconvert_exporter": "python",
   "pygments_lexer": "ipython2",
   "version": "2.7.11"
  }
 },
 "nbformat": 4,
 "nbformat_minor": 0
}
