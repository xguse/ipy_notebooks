{
 "cells": [
  {
   "cell_type": "code",
   "execution_count": 2,
   "metadata": {
    "collapsed": true
   },
   "outputs": [],
   "source": [
    "%matplotlib inline"
   ]
  },
  {
   "cell_type": "code",
   "execution_count": 135,
   "metadata": {
    "collapsed": false
   },
   "outputs": [],
   "source": [
    "from __future__ import print_function\n",
    "\n",
    "import collections\n",
    "\n",
    "import pandas as pd\n",
    "\n",
    "import seaborn as sns"
   ]
  },
  {
   "cell_type": "code",
   "execution_count": 26,
   "metadata": {
    "collapsed": true
   },
   "outputs": [],
   "source": [
    "from sklearn.decomposition import PCA\n",
    "from sklearn.preprocessing import LabelEncoder\n",
    "\n",
    "from sklearn.pipeline import make_pipeline\n",
    "from sklearn.preprocessing import StandardScaler\n",
    "from sklearn.grid_search import GridSearchCV\n",
    "from sklearn.cross_validation import train_test_split\n",
    "\n",
    "from sklearn.svm import SVC\n",
    "from sklearn.ensemble import RandomForestClassifier\n",
    "from sklearn.linear_model import LogisticRegression\n",
    "from sklearn.linear_model import Lasso\n",
    "\n",
    "from sklearn.feature_selection import SelectKBest\n"
   ]
  },
  {
   "cell_type": "code",
   "execution_count": 30,
   "metadata": {
    "collapsed": true
   },
   "outputs": [],
   "source": [
    "import numpy as np\n",
    "import matplotlib.pyplot as plt\n",
    "\n",
    "from sklearn import svm, datasets\n",
    "from sklearn.cross_validation import train_test_split\n",
    "from sklearn.metrics import confusion_matrix"
   ]
  },
  {
   "cell_type": "code",
   "execution_count": 19,
   "metadata": {
    "collapsed": true
   },
   "outputs": [],
   "source": [
    "label_encoder = LabelEncoder()"
   ]
  },
  {
   "cell_type": "code",
   "execution_count": 21,
   "metadata": {
    "collapsed": false
   },
   "outputs": [
    {
     "data": {
      "text/html": [
       "<div>\n",
       "<table border=\"1\" class=\"dataframe\">\n",
       "  <thead>\n",
       "    <tr style=\"text-align: right;\">\n",
       "      <th></th>\n",
       "      <th>ID</th>\n",
       "      <th>SiteSubject ID</th>\n",
       "      <th>Visit</th>\n",
       "      <th>Disease_or_Normal</th>\n",
       "      <th>Age in Years</th>\n",
       "      <th>Sex</th>\n",
       "      <th>ExtentDisease</th>\n",
       "      <th>_1007_PM_s_at</th>\n",
       "      <th>_1053_PM_at</th>\n",
       "      <th>_117_PM_at</th>\n",
       "      <th>...</th>\n",
       "      <th>_AFFX-r2-TagO-3_at</th>\n",
       "      <th>_AFFX-r2-TagO-5_at</th>\n",
       "      <th>_AFFX-r2-TagQ-3_at</th>\n",
       "      <th>_AFFX-r2-TagQ-5_at</th>\n",
       "      <th>_AFFX-ThrX-3_at</th>\n",
       "      <th>_AFFX-ThrX-5_at</th>\n",
       "      <th>_AFFX-ThrX-M_at</th>\n",
       "      <th>_AFFX-TrpnX-3_at</th>\n",
       "      <th>_AFFX-TrpnX-5_at</th>\n",
       "      <th>_AFFX-TrpnX-M_at</th>\n",
       "    </tr>\n",
       "  </thead>\n",
       "  <tbody>\n",
       "    <tr>\n",
       "      <th>0</th>\n",
       "      <td>5500254131236090112251_101136.A02</td>\n",
       "      <td>7532-00001</td>\n",
       "      <td>Week 0</td>\n",
       "      <td>diseased</td>\n",
       "      <td>44</td>\n",
       "      <td>F</td>\n",
       "      <td>Extensive</td>\n",
       "      <td>9.674214</td>\n",
       "      <td>7.176943</td>\n",
       "      <td>7.530333</td>\n",
       "      <td>...</td>\n",
       "      <td>4.498194</td>\n",
       "      <td>3.455266</td>\n",
       "      <td>3.531909</td>\n",
       "      <td>3.470912</td>\n",
       "      <td>4.453369</td>\n",
       "      <td>3.499877</td>\n",
       "      <td>3.659598</td>\n",
       "      <td>3.164482</td>\n",
       "      <td>3.729298</td>\n",
       "      <td>3.746295</td>\n",
       "    </tr>\n",
       "    <tr>\n",
       "      <th>1</th>\n",
       "      <td>5500254131236090112251_101136.B08</td>\n",
       "      <td>6502-00028</td>\n",
       "      <td>Week 0</td>\n",
       "      <td>diseased</td>\n",
       "      <td>27</td>\n",
       "      <td>M</td>\n",
       "      <td>Extensive</td>\n",
       "      <td>10.287132</td>\n",
       "      <td>7.426960</td>\n",
       "      <td>6.380001</td>\n",
       "      <td>...</td>\n",
       "      <td>4.753581</td>\n",
       "      <td>3.691656</td>\n",
       "      <td>3.603318</td>\n",
       "      <td>3.872274</td>\n",
       "      <td>4.784521</td>\n",
       "      <td>3.577326</td>\n",
       "      <td>3.710226</td>\n",
       "      <td>3.282151</td>\n",
       "      <td>3.888459</td>\n",
       "      <td>3.964700</td>\n",
       "    </tr>\n",
       "    <tr>\n",
       "      <th>2</th>\n",
       "      <td>5500254131236090112251_101136.E05</td>\n",
       "      <td>7756-00011</td>\n",
       "      <td>Week 0</td>\n",
       "      <td>diseased</td>\n",
       "      <td>46</td>\n",
       "      <td>M</td>\n",
       "      <td>Extensive</td>\n",
       "      <td>9.842515</td>\n",
       "      <td>7.312331</td>\n",
       "      <td>7.272196</td>\n",
       "      <td>...</td>\n",
       "      <td>4.408918</td>\n",
       "      <td>3.354399</td>\n",
       "      <td>3.609886</td>\n",
       "      <td>3.925905</td>\n",
       "      <td>4.356703</td>\n",
       "      <td>3.507491</td>\n",
       "      <td>3.593398</td>\n",
       "      <td>3.149996</td>\n",
       "      <td>3.718695</td>\n",
       "      <td>3.525178</td>\n",
       "    </tr>\n",
       "    <tr>\n",
       "      <th>3</th>\n",
       "      <td>5500254131236090112251_101136.G12</td>\n",
       "      <td>7530-00008</td>\n",
       "      <td>Week 0</td>\n",
       "      <td>diseased</td>\n",
       "      <td>56</td>\n",
       "      <td>M</td>\n",
       "      <td>Extensive</td>\n",
       "      <td>9.622503</td>\n",
       "      <td>7.743776</td>\n",
       "      <td>7.129598</td>\n",
       "      <td>...</td>\n",
       "      <td>4.668693</td>\n",
       "      <td>3.384722</td>\n",
       "      <td>3.578263</td>\n",
       "      <td>3.414231</td>\n",
       "      <td>4.444389</td>\n",
       "      <td>3.452806</td>\n",
       "      <td>3.561378</td>\n",
       "      <td>3.298016</td>\n",
       "      <td>3.663710</td>\n",
       "      <td>3.640893</td>\n",
       "    </tr>\n",
       "    <tr>\n",
       "      <th>4</th>\n",
       "      <td>5500254131236090112252_101136.A08</td>\n",
       "      <td>7530-00011</td>\n",
       "      <td>Week 0</td>\n",
       "      <td>diseased</td>\n",
       "      <td>63</td>\n",
       "      <td>F</td>\n",
       "      <td>Extensive</td>\n",
       "      <td>9.720709</td>\n",
       "      <td>7.099984</td>\n",
       "      <td>6.909100</td>\n",
       "      <td>...</td>\n",
       "      <td>4.703255</td>\n",
       "      <td>3.692352</td>\n",
       "      <td>3.520985</td>\n",
       "      <td>3.726691</td>\n",
       "      <td>4.575027</td>\n",
       "      <td>3.557793</td>\n",
       "      <td>3.549866</td>\n",
       "      <td>3.216523</td>\n",
       "      <td>3.678702</td>\n",
       "      <td>3.821898</td>\n",
       "    </tr>\n",
       "  </tbody>\n",
       "</table>\n",
       "<p>5 rows × 54722 columns</p>\n",
       "</div>"
      ],
      "text/plain": [
       "                                  ID SiteSubject ID   Visit Disease_or_Normal  \\\n",
       "0  5500254131236090112251_101136.A02     7532-00001  Week 0          diseased   \n",
       "1  5500254131236090112251_101136.B08     6502-00028  Week 0          diseased   \n",
       "2  5500254131236090112251_101136.E05     7756-00011  Week 0          diseased   \n",
       "3  5500254131236090112251_101136.G12     7530-00008  Week 0          diseased   \n",
       "4  5500254131236090112252_101136.A08     7530-00011  Week 0          diseased   \n",
       "\n",
       "  Age in Years Sex ExtentDisease  _1007_PM_s_at  _1053_PM_at  _117_PM_at  \\\n",
       "0           44   F     Extensive       9.674214     7.176943    7.530333   \n",
       "1           27   M     Extensive      10.287132     7.426960    6.380001   \n",
       "2           46   M     Extensive       9.842515     7.312331    7.272196   \n",
       "3           56   M     Extensive       9.622503     7.743776    7.129598   \n",
       "4           63   F     Extensive       9.720709     7.099984    6.909100   \n",
       "\n",
       "         ...         _AFFX-r2-TagO-3_at  _AFFX-r2-TagO-5_at  \\\n",
       "0        ...                   4.498194            3.455266   \n",
       "1        ...                   4.753581            3.691656   \n",
       "2        ...                   4.408918            3.354399   \n",
       "3        ...                   4.668693            3.384722   \n",
       "4        ...                   4.703255            3.692352   \n",
       "\n",
       "   _AFFX-r2-TagQ-3_at  _AFFX-r2-TagQ-5_at  _AFFX-ThrX-3_at  _AFFX-ThrX-5_at  \\\n",
       "0            3.531909            3.470912         4.453369         3.499877   \n",
       "1            3.603318            3.872274         4.784521         3.577326   \n",
       "2            3.609886            3.925905         4.356703         3.507491   \n",
       "3            3.578263            3.414231         4.444389         3.452806   \n",
       "4            3.520985            3.726691         4.575027         3.557793   \n",
       "\n",
       "   _AFFX-ThrX-M_at  _AFFX-TrpnX-3_at  _AFFX-TrpnX-5_at  _AFFX-TrpnX-M_at  \n",
       "0         3.659598          3.164482          3.729298          3.746295  \n",
       "1         3.710226          3.282151          3.888459          3.964700  \n",
       "2         3.593398          3.149996          3.718695          3.525178  \n",
       "3         3.561378          3.298016          3.663710          3.640893  \n",
       "4         3.549866          3.216523          3.678702          3.821898  \n",
       "\n",
       "[5 rows x 54722 columns]"
      ]
     },
     "execution_count": 21,
     "metadata": {},
     "output_type": "execute_result"
    }
   ],
   "source": [
    "labeled_data = pd.read_csv(\"/home/gus/Documents/zim/main/BCH/Projects/Jodie_and_James/labeled_data_gus.csv\", low_memory=False)\n",
    "labeled_data.head()"
   ]
  },
  {
   "cell_type": "code",
   "execution_count": 22,
   "metadata": {
    "collapsed": true
   },
   "outputs": [],
   "source": [
    "labeled_data = labeled_data.set_index(labeled_data.ID.values).drop('ID',1)"
   ]
  },
  {
   "cell_type": "code",
   "execution_count": 23,
   "metadata": {
    "collapsed": false
   },
   "outputs": [
    {
     "data": {
      "text/html": [
       "<div>\n",
       "<table border=\"1\" class=\"dataframe\">\n",
       "  <thead>\n",
       "    <tr style=\"text-align: right;\">\n",
       "      <th></th>\n",
       "      <th>SiteSubject ID</th>\n",
       "      <th>Visit</th>\n",
       "      <th>Disease_or_Normal</th>\n",
       "      <th>Age in Years</th>\n",
       "      <th>Sex</th>\n",
       "      <th>ExtentDisease</th>\n",
       "      <th>_1007_PM_s_at</th>\n",
       "      <th>_1053_PM_at</th>\n",
       "      <th>_117_PM_at</th>\n",
       "      <th>_121_PM_at</th>\n",
       "      <th>...</th>\n",
       "      <th>_AFFX-r2-TagO-3_at</th>\n",
       "      <th>_AFFX-r2-TagO-5_at</th>\n",
       "      <th>_AFFX-r2-TagQ-3_at</th>\n",
       "      <th>_AFFX-r2-TagQ-5_at</th>\n",
       "      <th>_AFFX-ThrX-3_at</th>\n",
       "      <th>_AFFX-ThrX-5_at</th>\n",
       "      <th>_AFFX-ThrX-M_at</th>\n",
       "      <th>_AFFX-TrpnX-3_at</th>\n",
       "      <th>_AFFX-TrpnX-5_at</th>\n",
       "      <th>_AFFX-TrpnX-M_at</th>\n",
       "    </tr>\n",
       "  </thead>\n",
       "  <tbody>\n",
       "    <tr>\n",
       "      <th>5500254131236090112251_101136.A02</th>\n",
       "      <td>7532-00001</td>\n",
       "      <td>Week 0</td>\n",
       "      <td>diseased</td>\n",
       "      <td>44</td>\n",
       "      <td>F</td>\n",
       "      <td>Extensive</td>\n",
       "      <td>9.674214</td>\n",
       "      <td>7.176943</td>\n",
       "      <td>7.530333</td>\n",
       "      <td>7.032434</td>\n",
       "      <td>...</td>\n",
       "      <td>4.498194</td>\n",
       "      <td>3.455266</td>\n",
       "      <td>3.531909</td>\n",
       "      <td>3.470912</td>\n",
       "      <td>4.453369</td>\n",
       "      <td>3.499877</td>\n",
       "      <td>3.659598</td>\n",
       "      <td>3.164482</td>\n",
       "      <td>3.729298</td>\n",
       "      <td>3.746295</td>\n",
       "    </tr>\n",
       "    <tr>\n",
       "      <th>5500254131236090112251_101136.B08</th>\n",
       "      <td>6502-00028</td>\n",
       "      <td>Week 0</td>\n",
       "      <td>diseased</td>\n",
       "      <td>27</td>\n",
       "      <td>M</td>\n",
       "      <td>Extensive</td>\n",
       "      <td>10.287132</td>\n",
       "      <td>7.426960</td>\n",
       "      <td>6.380001</td>\n",
       "      <td>7.577584</td>\n",
       "      <td>...</td>\n",
       "      <td>4.753581</td>\n",
       "      <td>3.691656</td>\n",
       "      <td>3.603318</td>\n",
       "      <td>3.872274</td>\n",
       "      <td>4.784521</td>\n",
       "      <td>3.577326</td>\n",
       "      <td>3.710226</td>\n",
       "      <td>3.282151</td>\n",
       "      <td>3.888459</td>\n",
       "      <td>3.964700</td>\n",
       "    </tr>\n",
       "    <tr>\n",
       "      <th>5500254131236090112251_101136.E05</th>\n",
       "      <td>7756-00011</td>\n",
       "      <td>Week 0</td>\n",
       "      <td>diseased</td>\n",
       "      <td>46</td>\n",
       "      <td>M</td>\n",
       "      <td>Extensive</td>\n",
       "      <td>9.842515</td>\n",
       "      <td>7.312331</td>\n",
       "      <td>7.272196</td>\n",
       "      <td>6.793723</td>\n",
       "      <td>...</td>\n",
       "      <td>4.408918</td>\n",
       "      <td>3.354399</td>\n",
       "      <td>3.609886</td>\n",
       "      <td>3.925905</td>\n",
       "      <td>4.356703</td>\n",
       "      <td>3.507491</td>\n",
       "      <td>3.593398</td>\n",
       "      <td>3.149996</td>\n",
       "      <td>3.718695</td>\n",
       "      <td>3.525178</td>\n",
       "    </tr>\n",
       "    <tr>\n",
       "      <th>5500254131236090112251_101136.G12</th>\n",
       "      <td>7530-00008</td>\n",
       "      <td>Week 0</td>\n",
       "      <td>diseased</td>\n",
       "      <td>56</td>\n",
       "      <td>M</td>\n",
       "      <td>Extensive</td>\n",
       "      <td>9.622503</td>\n",
       "      <td>7.743776</td>\n",
       "      <td>7.129598</td>\n",
       "      <td>6.437619</td>\n",
       "      <td>...</td>\n",
       "      <td>4.668693</td>\n",
       "      <td>3.384722</td>\n",
       "      <td>3.578263</td>\n",
       "      <td>3.414231</td>\n",
       "      <td>4.444389</td>\n",
       "      <td>3.452806</td>\n",
       "      <td>3.561378</td>\n",
       "      <td>3.298016</td>\n",
       "      <td>3.663710</td>\n",
       "      <td>3.640893</td>\n",
       "    </tr>\n",
       "    <tr>\n",
       "      <th>5500254131236090112252_101136.A08</th>\n",
       "      <td>7530-00011</td>\n",
       "      <td>Week 0</td>\n",
       "      <td>diseased</td>\n",
       "      <td>63</td>\n",
       "      <td>F</td>\n",
       "      <td>Extensive</td>\n",
       "      <td>9.720709</td>\n",
       "      <td>7.099984</td>\n",
       "      <td>6.909100</td>\n",
       "      <td>6.427605</td>\n",
       "      <td>...</td>\n",
       "      <td>4.703255</td>\n",
       "      <td>3.692352</td>\n",
       "      <td>3.520985</td>\n",
       "      <td>3.726691</td>\n",
       "      <td>4.575027</td>\n",
       "      <td>3.557793</td>\n",
       "      <td>3.549866</td>\n",
       "      <td>3.216523</td>\n",
       "      <td>3.678702</td>\n",
       "      <td>3.821898</td>\n",
       "    </tr>\n",
       "  </tbody>\n",
       "</table>\n",
       "<p>5 rows × 54721 columns</p>\n",
       "</div>"
      ],
      "text/plain": [
       "                                  SiteSubject ID   Visit Disease_or_Normal  \\\n",
       "5500254131236090112251_101136.A02     7532-00001  Week 0          diseased   \n",
       "5500254131236090112251_101136.B08     6502-00028  Week 0          diseased   \n",
       "5500254131236090112251_101136.E05     7756-00011  Week 0          diseased   \n",
       "5500254131236090112251_101136.G12     7530-00008  Week 0          diseased   \n",
       "5500254131236090112252_101136.A08     7530-00011  Week 0          diseased   \n",
       "\n",
       "                                  Age in Years Sex ExtentDisease  \\\n",
       "5500254131236090112251_101136.A02           44   F     Extensive   \n",
       "5500254131236090112251_101136.B08           27   M     Extensive   \n",
       "5500254131236090112251_101136.E05           46   M     Extensive   \n",
       "5500254131236090112251_101136.G12           56   M     Extensive   \n",
       "5500254131236090112252_101136.A08           63   F     Extensive   \n",
       "\n",
       "                                   _1007_PM_s_at  _1053_PM_at  _117_PM_at  \\\n",
       "5500254131236090112251_101136.A02       9.674214     7.176943    7.530333   \n",
       "5500254131236090112251_101136.B08      10.287132     7.426960    6.380001   \n",
       "5500254131236090112251_101136.E05       9.842515     7.312331    7.272196   \n",
       "5500254131236090112251_101136.G12       9.622503     7.743776    7.129598   \n",
       "5500254131236090112252_101136.A08       9.720709     7.099984    6.909100   \n",
       "\n",
       "                                   _121_PM_at        ...         \\\n",
       "5500254131236090112251_101136.A02    7.032434        ...          \n",
       "5500254131236090112251_101136.B08    7.577584        ...          \n",
       "5500254131236090112251_101136.E05    6.793723        ...          \n",
       "5500254131236090112251_101136.G12    6.437619        ...          \n",
       "5500254131236090112252_101136.A08    6.427605        ...          \n",
       "\n",
       "                                   _AFFX-r2-TagO-3_at  _AFFX-r2-TagO-5_at  \\\n",
       "5500254131236090112251_101136.A02            4.498194            3.455266   \n",
       "5500254131236090112251_101136.B08            4.753581            3.691656   \n",
       "5500254131236090112251_101136.E05            4.408918            3.354399   \n",
       "5500254131236090112251_101136.G12            4.668693            3.384722   \n",
       "5500254131236090112252_101136.A08            4.703255            3.692352   \n",
       "\n",
       "                                   _AFFX-r2-TagQ-3_at  _AFFX-r2-TagQ-5_at  \\\n",
       "5500254131236090112251_101136.A02            3.531909            3.470912   \n",
       "5500254131236090112251_101136.B08            3.603318            3.872274   \n",
       "5500254131236090112251_101136.E05            3.609886            3.925905   \n",
       "5500254131236090112251_101136.G12            3.578263            3.414231   \n",
       "5500254131236090112252_101136.A08            3.520985            3.726691   \n",
       "\n",
       "                                   _AFFX-ThrX-3_at  _AFFX-ThrX-5_at  \\\n",
       "5500254131236090112251_101136.A02         4.453369         3.499877   \n",
       "5500254131236090112251_101136.B08         4.784521         3.577326   \n",
       "5500254131236090112251_101136.E05         4.356703         3.507491   \n",
       "5500254131236090112251_101136.G12         4.444389         3.452806   \n",
       "5500254131236090112252_101136.A08         4.575027         3.557793   \n",
       "\n",
       "                                   _AFFX-ThrX-M_at  _AFFX-TrpnX-3_at  \\\n",
       "5500254131236090112251_101136.A02         3.659598          3.164482   \n",
       "5500254131236090112251_101136.B08         3.710226          3.282151   \n",
       "5500254131236090112251_101136.E05         3.593398          3.149996   \n",
       "5500254131236090112251_101136.G12         3.561378          3.298016   \n",
       "5500254131236090112252_101136.A08         3.549866          3.216523   \n",
       "\n",
       "                                   _AFFX-TrpnX-5_at  _AFFX-TrpnX-M_at  \n",
       "5500254131236090112251_101136.A02          3.729298          3.746295  \n",
       "5500254131236090112251_101136.B08          3.888459          3.964700  \n",
       "5500254131236090112251_101136.E05          3.718695          3.525178  \n",
       "5500254131236090112251_101136.G12          3.663710          3.640893  \n",
       "5500254131236090112252_101136.A08          3.678702          3.821898  \n",
       "\n",
       "[5 rows x 54721 columns]"
      ]
     },
     "execution_count": 23,
     "metadata": {},
     "output_type": "execute_result"
    }
   ],
   "source": [
    "labeled_data.head()"
   ]
  },
  {
   "cell_type": "code",
   "execution_count": 24,
   "metadata": {
    "collapsed": true
   },
   "outputs": [],
   "source": [
    "y_qual = labeled_data['Disease_or_Normal']\n",
    "y_quant = labeled_data['ExtentDisease']\n",
    "\n",
    "X = labeled_data.iloc[:,6:]\n",
    "\n",
    "\n",
    "X_train_qual, X_test_qual, y_train_qual, y_test_qual = train_test_split(X, y_qual,\n",
    "                                                                        test_size=0.33, random_state=42, stratify=y_qual\n",
    "                                                                       )\n",
    "\n",
    "X_train_quant, X_test_quant, y_train_quant, y_test_quant = train_test_split(X, y_quant,\n",
    "                                                                            test_size=0.33, random_state=42, stratify=y_quant\n",
    "                                                                           )"
   ]
  },
  {
   "cell_type": "code",
   "execution_count": 64,
   "metadata": {
    "collapsed": true
   },
   "outputs": [],
   "source": [
    "param_grid_pipeline = {\n",
    "#                        'svc__C': 10. ** np.arange(-3, 3), 'svc__gamma': 10. ** np.arange(-3, 3),\n",
    "                       'randomforestclassifier__n_estimators': np.arange(10,200,10),\n",
    "#                        'lasso__alpha': np.arange(0.01,1.01,0.09), 'lasso__normalize': (True, False)\n",
    "                      }\n",
    "\n",
    "scaler_pipe = make_pipeline(StandardScaler(), RandomForestClassifier())\n",
    "grid = GridSearchCV(scaler_pipe, param_grid=param_grid_pipeline, cv=5)\n",
    "\n",
    "y_qual_encoder = LabelEncoder().fit(y_qual)\n",
    "y_quant_encoder = LabelEncoder().fit(y_quant)"
   ]
  },
  {
   "cell_type": "code",
   "execution_count": 65,
   "metadata": {
    "collapsed": false
   },
   "outputs": [
    {
     "data": {
      "text/plain": [
       "array([1, 1, 1, 1, 0, 1, 1, 1, 1, 1, 1, 1, 1, 1, 1, 1, 1, 0, 1, 0, 0, 1, 1,\n",
       "       1, 1, 1, 0, 1, 1, 1, 1, 1, 1, 0, 1, 1, 0, 1, 1, 1, 0, 1, 1, 1, 1, 1,\n",
       "       1, 0, 0, 1, 1, 1, 0, 1, 1, 1, 1, 1, 1, 1, 1, 1, 1, 1, 1, 1, 0, 0, 1,\n",
       "       1, 0, 1])"
      ]
     },
     "execution_count": 65,
     "metadata": {},
     "output_type": "execute_result"
    }
   ],
   "source": [
    "y_qual_encoder.transform(y_train_qual)"
   ]
  },
  {
   "cell_type": "code",
   "execution_count": 66,
   "metadata": {
    "collapsed": false
   },
   "outputs": [
    {
     "name": "stdout",
     "output_type": "stream",
     "text": [
      "{'randomforestclassifier__n_estimators': 20}\n"
     ]
    }
   ],
   "source": [
    "grid.fit(X_train_qual, y_qual_encoder.transform(y_train_qual))\n",
    "print(grid.best_params_)"
   ]
  },
  {
   "cell_type": "code",
   "execution_count": 67,
   "metadata": {
    "collapsed": false
   },
   "outputs": [
    {
     "data": {
      "text/plain": [
       "array(['Normal', 'diseased'], dtype=object)"
      ]
     },
     "execution_count": 67,
     "metadata": {},
     "output_type": "execute_result"
    }
   ],
   "source": [
    "y_qual_encoder.classes_"
   ]
  },
  {
   "cell_type": "code",
   "execution_count": 68,
   "metadata": {
    "collapsed": false
   },
   "outputs": [],
   "source": [
    "y_pred_qual = grid.predict(X_test_qual)"
   ]
  },
  {
   "cell_type": "code",
   "execution_count": 70,
   "metadata": {
    "collapsed": false
   },
   "outputs": [],
   "source": [
    "my_cm = confusion_matrix(y_qual_encoder.transform(y_test_qual),\n",
    "                         y_pred_qual\n",
    "                        )"
   ]
  },
  {
   "cell_type": "code",
   "execution_count": 150,
   "metadata": {
    "collapsed": true
   },
   "outputs": [],
   "source": [
    "def cm_to_pandas(cm, labels):\n",
    "    return pd.DataFrame(data=cm, index=labels, columns=labels)\n",
    "\n",
    "def normalize_cm(cm):\n",
    "    return cm.astype('float') / cm.sum(axis=1)[:, np.newaxis]\n",
    "\n",
    "def plot_cfsn_matrix(cm, labels=None, cmap='Blues', title=None, norm=False, context=None, annot=True):\n",
    "    \n",
    "    if labels is None:\n",
    "        labels = True\n",
    "    \n",
    "    if isinstance(labels, collections.Iterable) and not isinstance(labels,str):\n",
    "        labels = [label.title() for label in labels]\n",
    "        \n",
    "        \n",
    "    if norm:\n",
    "        cm = normalize_cm(cm)\n",
    "        \n",
    "    if title is None:\n",
    "        \n",
    "        if norm:\n",
    "            title = \"Normalized Confusion Matrix\"\n",
    "        else:\n",
    "            title = \"Confusion Matrix\"\n",
    "    \n",
    "    if context is None:\n",
    "        context = sns.plotting_context(\"notebook\", font_scale=1.5)\n",
    "    \n",
    "    with context:\n",
    "        ax = sns.heatmap(cm,\n",
    "                         xticklabels=labels,\n",
    "                         yticklabels=labels,\n",
    "                         cmap=cmap,\n",
    "                         annot=annot\n",
    "                        )\n",
    "        ax.set_title(title)\n",
    "        ax.set_ylabel(\"True Label\")\n",
    "        ax.set_xlabel(\"Predicted Label\")\n",
    "        \n",
    "        return ax"
   ]
  },
  {
   "cell_type": "code",
   "execution_count": 154,
   "metadata": {
    "collapsed": false
   },
   "outputs": [
    {
     "data": {
      "image/png": "[encoded data removed]",
      "text/plain": [
       "<matplotlib.figure.Figure at 0x7fa9ef3e1e10>"
      ]
     },
     "metadata": {},
     "output_type": "display_data"
    }
   ],
   "source": [
    "plot_cfsn_matrix(cm=my_cm, labels=y_qual_encoder.classes_, cmap='Blues', title=None,\n",
    "                 norm=True, context=None, annot=True);"
   ]
  },
  {
   "cell_type": "code",
   "execution_count": 153,
   "metadata": {
    "collapsed": false,
    "scrolled": true
   },
   "outputs": [
    {
     "data": {
      "image/png": "[encoded data removed]",
      "text/plain": [
       "<matplotlib.figure.Figure at 0x7fa9eedb8510>"
      ]
     },
     "metadata": {},
     "output_type": "display_data"
    }
   ],
   "source": [
    "plot_cfsn_matrix(cm=my_cm, labels=y_qual_encoder.classes_, cmap='Blues', title=None,\n",
    "                 norm=False, context=None, annot=True);"
   ]
  },
  {
   "cell_type": "code",
   "execution_count": 146,
   "metadata": {
    "collapsed": false
   },
   "outputs": [
    {
     "ename": "ValueError",
     "evalue": "Shape of passed values is (1, 2), indices imply (2, 2)",
     "output_type": "error",
     "traceback": [
      "\u001b[1;31m---------------------------------------------------------------------------\u001b[0m",
      "\u001b[1;31mValueError\u001b[0m                                Traceback (most recent call last)",
      "\u001b[1;32m<ipython-input-146-d18c6e72473e>\u001b[0m in \u001b[0;36m<module>\u001b[1;34m()\u001b[0m\n\u001b[1;32m----> 1\u001b[1;33m \u001b[0mmy_cm_df\u001b[0m\u001b[1;33m.\u001b[0m\u001b[0mastype\u001b[0m\u001b[1;33m(\u001b[0m\u001b[1;34m'float'\u001b[0m\u001b[1;33m)\u001b[0m \u001b[1;33m/\u001b[0m \u001b[0mmy_cm_df\u001b[0m\u001b[1;33m.\u001b[0m\u001b[0msum\u001b[0m\u001b[1;33m(\u001b[0m\u001b[0maxis\u001b[0m\u001b[1;33m=\u001b[0m\u001b[1;36m1\u001b[0m\u001b[1;33m)\u001b[0m\u001b[1;33m[\u001b[0m\u001b[1;33m:\u001b[0m\u001b[1;33m,\u001b[0m \u001b[0mnp\u001b[0m\u001b[1;33m.\u001b[0m\u001b[0mnewaxis\u001b[0m\u001b[1;33m]\u001b[0m\u001b[1;33m\u001b[0m\u001b[0m\n\u001b[0m",
      "\u001b[1;32m/home/gus/.anaconda/envs/stack2/lib/python2.7/site-packages/pandas/core/ops.pyc\u001b[0m in \u001b[0;36mf\u001b[1;34m(self, other, axis, level, fill_value)\u001b[0m\n\u001b[0;32m   1019\u001b[0m                 \u001b[1;31m#                            columns=self.columns)\u001b[0m\u001b[1;33m\u001b[0m\u001b[1;33m\u001b[0m\u001b[0m\n\u001b[0;32m   1020\u001b[0m                 casted = pd.DataFrame(other, index=self.index,\n\u001b[1;32m-> 1021\u001b[1;33m                                       columns=self.columns)\n\u001b[0m\u001b[0;32m   1022\u001b[0m                 \u001b[1;32mreturn\u001b[0m \u001b[0mself\u001b[0m\u001b[1;33m.\u001b[0m\u001b[0m_combine_frame\u001b[0m\u001b[1;33m(\u001b[0m\u001b[0mcasted\u001b[0m\u001b[1;33m,\u001b[0m \u001b[0mna_op\u001b[0m\u001b[1;33m,\u001b[0m \u001b[0mfill_value\u001b[0m\u001b[1;33m,\u001b[0m \u001b[0mlevel\u001b[0m\u001b[1;33m)\u001b[0m\u001b[1;33m\u001b[0m\u001b[0m\n\u001b[0;32m   1023\u001b[0m             \u001b[1;32melse\u001b[0m\u001b[1;33m:\u001b[0m\u001b[1;33m\u001b[0m\u001b[0m\n",
      "\u001b[1;32m/home/gus/.anaconda/envs/stack2/lib/python2.7/site-packages/pandas/core/frame.pyc\u001b[0m in \u001b[0;36m__init__\u001b[1;34m(self, data, index, columns, dtype, copy)\u001b[0m\n\u001b[0;32m    255\u001b[0m             \u001b[1;32melse\u001b[0m\u001b[1;33m:\u001b[0m\u001b[1;33m\u001b[0m\u001b[0m\n\u001b[0;32m    256\u001b[0m                 mgr = self._init_ndarray(data, index, columns, dtype=dtype,\n\u001b[1;32m--> 257\u001b[1;33m                                          copy=copy)\n\u001b[0m\u001b[0;32m    258\u001b[0m         \u001b[1;32melif\u001b[0m \u001b[0misinstance\u001b[0m\u001b[1;33m(\u001b[0m\u001b[0mdata\u001b[0m\u001b[1;33m,\u001b[0m \u001b[1;33m(\u001b[0m\u001b[0mlist\u001b[0m\u001b[1;33m,\u001b[0m \u001b[0mtypes\u001b[0m\u001b[1;33m.\u001b[0m\u001b[0mGeneratorType\u001b[0m\u001b[1;33m)\u001b[0m\u001b[1;33m)\u001b[0m\u001b[1;33m:\u001b[0m\u001b[1;33m\u001b[0m\u001b[0m\n\u001b[0;32m    259\u001b[0m             \u001b[1;32mif\u001b[0m \u001b[0misinstance\u001b[0m\u001b[1;33m(\u001b[0m\u001b[0mdata\u001b[0m\u001b[1;33m,\u001b[0m \u001b[0mtypes\u001b[0m\u001b[1;33m.\u001b[0m\u001b[0mGeneratorType\u001b[0m\u001b[1;33m)\u001b[0m\u001b[1;33m:\u001b[0m\u001b[1;33m\u001b[0m\u001b[0m\n",
      "\u001b[1;32m/home/gus/.anaconda/envs/stack2/lib/python2.7/site-packages/pandas/core/frame.pyc\u001b[0m in \u001b[0;36m_init_ndarray\u001b[1;34m(self, values, index, columns, dtype, copy)\u001b[0m\n\u001b[0;32m    435\u001b[0m             \u001b[0mvalues\u001b[0m \u001b[1;33m=\u001b[0m \u001b[0m_possibly_infer_to_datetimelike\u001b[0m\u001b[1;33m(\u001b[0m\u001b[0mvalues\u001b[0m\u001b[1;33m)\u001b[0m\u001b[1;33m\u001b[0m\u001b[0m\n\u001b[0;32m    436\u001b[0m \u001b[1;33m\u001b[0m\u001b[0m\n\u001b[1;32m--> 437\u001b[1;33m         \u001b[1;32mreturn\u001b[0m \u001b[0mcreate_block_manager_from_blocks\u001b[0m\u001b[1;33m(\u001b[0m\u001b[1;33m[\u001b[0m\u001b[0mvalues\u001b[0m\u001b[1;33m]\u001b[0m\u001b[1;33m,\u001b[0m \u001b[1;33m[\u001b[0m\u001b[0mcolumns\u001b[0m\u001b[1;33m,\u001b[0m \u001b[0mindex\u001b[0m\u001b[1;33m]\u001b[0m\u001b[1;33m)\u001b[0m\u001b[1;33m\u001b[0m\u001b[0m\n\u001b[0m\u001b[0;32m    438\u001b[0m \u001b[1;33m\u001b[0m\u001b[0m\n\u001b[0;32m    439\u001b[0m     \u001b[1;33m@\u001b[0m\u001b[0mproperty\u001b[0m\u001b[1;33m\u001b[0m\u001b[0m\n",
      "\u001b[1;32m/home/gus/.anaconda/envs/stack2/lib/python2.7/site-packages/pandas/core/internals.pyc\u001b[0m in \u001b[0;36mcreate_block_manager_from_blocks\u001b[1;34m(blocks, axes)\u001b[0m\n\u001b[0;32m   3903\u001b[0m         \u001b[0mblocks\u001b[0m \u001b[1;33m=\u001b[0m \u001b[1;33m[\u001b[0m\u001b[0mgetattr\u001b[0m\u001b[1;33m(\u001b[0m\u001b[0mb\u001b[0m\u001b[1;33m,\u001b[0m \u001b[1;34m'values'\u001b[0m\u001b[1;33m,\u001b[0m \u001b[0mb\u001b[0m\u001b[1;33m)\u001b[0m \u001b[1;32mfor\u001b[0m \u001b[0mb\u001b[0m \u001b[1;32min\u001b[0m \u001b[0mblocks\u001b[0m\u001b[1;33m]\u001b[0m\u001b[1;33m\u001b[0m\u001b[0m\n\u001b[0;32m   3904\u001b[0m         \u001b[0mtot_items\u001b[0m \u001b[1;33m=\u001b[0m \u001b[0msum\u001b[0m\u001b[1;33m(\u001b[0m\u001b[0mb\u001b[0m\u001b[1;33m.\u001b[0m\u001b[0mshape\u001b[0m\u001b[1;33m[\u001b[0m\u001b[1;36m0\u001b[0m\u001b[1;33m]\u001b[0m \u001b[1;32mfor\u001b[0m \u001b[0mb\u001b[0m \u001b[1;32min\u001b[0m \u001b[0mblocks\u001b[0m\u001b[1;33m)\u001b[0m\u001b[1;33m\u001b[0m\u001b[0m\n\u001b[1;32m-> 3905\u001b[1;33m         \u001b[0mconstruction_error\u001b[0m\u001b[1;33m(\u001b[0m\u001b[0mtot_items\u001b[0m\u001b[1;33m,\u001b[0m \u001b[0mblocks\u001b[0m\u001b[1;33m[\u001b[0m\u001b[1;36m0\u001b[0m\u001b[1;33m]\u001b[0m\u001b[1;33m.\u001b[0m\u001b[0mshape\u001b[0m\u001b[1;33m[\u001b[0m\u001b[1;36m1\u001b[0m\u001b[1;33m:\u001b[0m\u001b[1;33m]\u001b[0m\u001b[1;33m,\u001b[0m \u001b[0maxes\u001b[0m\u001b[1;33m,\u001b[0m \u001b[0me\u001b[0m\u001b[1;33m)\u001b[0m\u001b[1;33m\u001b[0m\u001b[0m\n\u001b[0m\u001b[0;32m   3906\u001b[0m \u001b[1;33m\u001b[0m\u001b[0m\n\u001b[0;32m   3907\u001b[0m \u001b[1;33m\u001b[0m\u001b[0m\n",
      "\u001b[1;32m/home/gus/.anaconda/envs/stack2/lib/python2.7/site-packages/pandas/core/internals.pyc\u001b[0m in \u001b[0;36mconstruction_error\u001b[1;34m(tot_items, block_shape, axes, e)\u001b[0m\n\u001b[0;32m   3880\u001b[0m         \u001b[1;32mraise\u001b[0m \u001b[0me\u001b[0m\u001b[1;33m\u001b[0m\u001b[0m\n\u001b[0;32m   3881\u001b[0m     raise ValueError(\"Shape of passed values is {0}, indices imply {1}\".format(\n\u001b[1;32m-> 3882\u001b[1;33m         passed,implied))\n\u001b[0m\u001b[0;32m   3883\u001b[0m \u001b[1;33m\u001b[0m\u001b[0m\n\u001b[0;32m   3884\u001b[0m \u001b[1;33m\u001b[0m\u001b[0m\n",
      "\u001b[1;31mValueError\u001b[0m: Shape of passed values is (1, 2), indices imply (2, 2)"
     ]
    }
   ],
   "source": [
    "my_cm_df.astype('float') / my_cm_df.sum(axis=1)[:, np.newaxis]"
   ]
  },
  {
   "cell_type": "markdown",
   "metadata": {},
   "source": [
    "# Example strategy"
   ]
  },
  {
   "cell_type": "code",
   "execution_count": 47,
   "metadata": {
    "collapsed": false
   },
   "outputs": [
    {
     "data": {
      "text/plain": [
       "array([2, 1, 0, 2, 0, 2, 0, 1, 1, 1, 2, 1, 1, 1, 1, 0, 1, 1, 0, 0, 2, 1, 0,\n",
       "       0, 2, 0, 0, 1, 1, 0, 2, 1, 0, 2, 2, 1, 0, 1])"
      ]
     },
     "execution_count": 47,
     "metadata": {},
     "output_type": "execute_result"
    }
   ],
   "source": [
    "y_test\n",
    "# y_pred"
   ]
  },
  {
   "cell_type": "code",
   "execution_count": 5,
   "metadata": {
    "collapsed": false
   },
   "outputs": [
    {
     "name": "stdout",
     "output_type": "stream",
     "text": [
      "Confusion matrix, without normalization\n",
      "[[13  0  0]\n",
      " [ 0 10  6]\n",
      " [ 0  0  9]]\n",
      "Normalized confusion matrix\n",
      "[[ 1.    0.    0.  ]\n",
      " [ 0.    0.62  0.38]\n",
      " [ 0.    0.    1.  ]]\n"
     ]
    },
    {
     "data": {
      "image/png": "[encoded data removed]",
      "text/plain": [
       "<matplotlib.figure.Figure at 0x7faa05d4f6d0>"
      ]
     },
     "metadata": {},
     "output_type": "display_data"
    },
    {
     "data": {
      "image/png": "[encoded data removed]",
      "text/plain": [
       "<matplotlib.figure.Figure at 0x7faa0283ec50>"
      ]
     },
     "metadata": {},
     "output_type": "display_data"
    }
   ],
   "source": [
    "# import some data to play with\n",
    "iris = datasets.load_iris()\n",
    "X = iris.data\n",
    "y = iris.target\n",
    "\n",
    "# Split the data into a training set and a test set\n",
    "X_train, X_test, y_train, y_test = train_test_split(X, y, random_state=0)\n",
    "\n",
    "# Run classifier, using a model that is too regularized (C too low) to see\n",
    "# the impact on the results\n",
    "classifier = svm.SVC(kernel='linear', C=0.01)\n",
    "y_pred = classifier.fit(X_train, y_train).predict(X_test)\n",
    "\n",
    "\n",
    "def plot_confusion_matrix(cm, title='Confusion matrix', cmap=plt.cm.Blues):\n",
    "    plt.imshow(cm, interpolation='nearest', cmap=cmap)\n",
    "    plt.title(title)\n",
    "    plt.colorbar()\n",
    "    tick_marks = np.arange(len(iris.target_names))\n",
    "    plt.xticks(tick_marks, iris.target_names, rotation=45)\n",
    "    plt.yticks(tick_marks, iris.target_names)\n",
    "    plt.tight_layout()\n",
    "    plt.ylabel('True label')\n",
    "    plt.xlabel('Predicted label')\n",
    "\n",
    "\n",
    "# Compute confusion matrix\n",
    "cm = confusion_matrix(y_test, y_pred)\n",
    "np.set_printoptions(precision=2)\n",
    "print('Confusion matrix, without normalization')\n",
    "print(cm)\n",
    "plt.figure()\n",
    "plot_confusion_matrix(cm)\n",
    "\n",
    "# Normalize the confusion matrix by row (i.e by the number of samples\n",
    "# in each class)\n",
    "cm_normalized = cm.astype('float') / cm.sum(axis=1)[:, np.newaxis]\n",
    "print('Normalized confusion matrix')\n",
    "print(cm_normalized)\n",
    "plt.figure()\n",
    "plot_confusion_matrix(cm_normalized, title='Normalized confusion matrix')\n",
    "\n",
    "plt.show()"
   ]
  },
  {
   "cell_type": "code",
   "execution_count": 8,
   "metadata": {
    "collapsed": false
   },
   "outputs": [],
   "source": [
    "cm_df = pd.DataFrame(data=cm, index=iris.target_names, columns=iris.target_names)"
   ]
  },
  {
   "cell_type": "code",
   "execution_count": 11,
   "metadata": {
    "collapsed": false
   },
   "outputs": [
    {
     "data": {
      "image/png": "[encoded data removed]",
      "text/plain": [
       "<matplotlib.figure.Figure at 0x7faa0790c350>"
      ]
     },
     "metadata": {},
     "output_type": "display_data"
    }
   ],
   "source": [
    "sns.heatmap(cm_df, cmap='Blues');"
   ]
  },
  {
   "cell_type": "code",
   "execution_count": 13,
   "metadata": {
    "collapsed": true
   },
   "outputs": [],
   "source": [
    "le = LabelEncoder()"
   ]
  },
  {
   "cell_type": "code",
   "execution_count": 17,
   "metadata": {
    "collapsed": false
   },
   "outputs": [],
   "source": [
    "tnames = le.fit_transform(iris.target_names)"
   ]
  },
  {
   "cell_type": "code",
   "execution_count": 18,
   "metadata": {
    "collapsed": false
   },
   "outputs": [
    {
     "data": {
      "text/plain": [
       "array(['setosa', 'versicolor', 'virginica'], \n",
       "      dtype='|S10')"
      ]
     },
     "execution_count": 18,
     "metadata": {},
     "output_type": "execute_result"
    }
   ],
   "source": [
    "le.inverse_transform(tnames)"
   ]
  },
  {
   "cell_type": "code",
   "execution_count": null,
   "metadata": {
    "collapsed": true
   },
   "outputs": [],
   "source": []
  }
 ],
 "metadata": {
  "kernelspec": {
   "display_name": "Python 2",
   "language": "python",
   "name": "python2"
  },
  "language_info": {
   "codemirror_mode": {
    "name": "ipython",
    "version": 2
   },
   "file_extension": ".py",
   "mimetype": "text/x-python",
   "name": "python",
   "nbconvert_exporter": "python",
   "pygments_lexer": "ipython2",
   "version": "2.7.11"
  }
 },
 "nbformat": 4,
 "nbformat_minor": 0
}
