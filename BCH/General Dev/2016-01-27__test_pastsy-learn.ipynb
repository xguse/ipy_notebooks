{
 "cells": [
  {
   "cell_type": "code",
   "execution_count": 4,
   "metadata": {
    "collapsed": false
   },
   "outputs": [
    {
     "name": "stdout",
     "output_type": "stream",
     "text": [
      "0.921052631579\n",
      "(38, 3)\n"
     ]
    }
   ],
   "source": [
    "# put the iris dataset into a pandas dataframe\n",
    "from sklearn.datasets import load_iris\n",
    "import pandas as pd\n",
    "import numpy as np\n",
    "\n",
    "iris = load_iris()\n",
    "names = [f_name.replace(\" \", \"_\").strip(\"_(cm)\") for f_name in iris.feature_names]\n",
    "iris_df = pd.DataFrame(iris.data, columns=names)\n",
    "iris_df['species'] = iris.target\n",
    "\n",
    "# create logistic regression with two features\n",
    "from patsylearn import PatsyModel, PatsyTransformer\n",
    "from sklearn.linear_model import LogisticRegression\n",
    "model = PatsyModel(LogisticRegression(), \"species ~ sepal_length + petal_length\")\n",
    "# model is an sklearn estimator.\n",
    "\n",
    "from sklearn.cross_validation import train_test_split\n",
    "data_train, data_test = train_test_split(iris_df)\n",
    "model.fit(data_train)\n",
    "print(model.score(data_test))\n",
    "\n",
    "# use PatsyTransformer to just select and transform features\n",
    "transformer = PatsyTransformer(\"sepal_length + np.log(petal_length) + petal_length:sepal_width\")\n",
    "# transformer is a scikit-learn transformer\n",
    "\n",
    "transformer.fit(data_test)\n",
    "print(transformer.transform(data_test).shape)"
   ]
  },
  {
   "cell_type": "code",
   "execution_count": 7,
   "metadata": {
    "collapsed": false
   },
   "outputs": [
    {
     "data": {
      "text/plain": [
       "array([[  7.9       ,   1.85629799,  24.32      ],\n",
       "       [  6.6       ,   1.5260563 ,  13.34      ],\n",
       "       [  5.8       ,   1.41098697,  11.07      ],\n",
       "       [  6.        ,   1.62924054,  13.77      ],\n",
       "       [  6.7       ,   1.74046617,  18.81      ],\n",
       "       [  5.5       ,   1.38629436,  10.        ],\n",
       "       [  7.3       ,   1.84054963,  18.27      ],\n",
       "       [  6.2       ,   1.68639895,  18.36      ],\n",
       "       [  5.1       ,   0.40546511,   5.7       ],\n",
       "       [  6.7       ,   1.54756251,  14.57      ],\n",
       "       [  4.8       ,   0.64185389,   6.46      ],\n",
       "       [  4.5       ,   0.26236426,   2.99      ],\n",
       "       [  5.6       ,   1.28093385,  10.44      ],\n",
       "       [  5.2       ,   0.40546511,   6.15      ],\n",
       "       [  6.1       ,   1.7227666 ,  14.56      ],\n",
       "       [  7.7       ,   1.93152141,  17.94      ],\n",
       "       [  6.7       ,   1.48160454,  13.64      ],\n",
       "       [  6.        ,   1.38629436,   8.8       ],\n",
       "       [  5.1       ,   0.64185389,   7.22      ],\n",
       "       [  5.4       ,   0.40546511,   5.55      ],\n",
       "       [  5.4       ,   0.53062825,   5.78      ],\n",
       "       [  5.8       ,   1.36097655,  10.53      ],\n",
       "       [  6.8       ,   1.77495235,  18.88      ],\n",
       "       [  6.3       ,   1.7227666 ,  19.04      ],\n",
       "       [  5.6       ,   1.5040774 ,  13.5       ],\n",
       "       [  5.8       ,   1.38629436,  10.4       ],\n",
       "       [  6.3       ,   1.62924054,  14.28      ],\n",
       "       [  4.6       ,   0.        ,   3.6       ],\n",
       "       [  5.7       ,   0.53062825,   6.46      ],\n",
       "       [  5.        ,   0.47000363,   5.44      ],\n",
       "       [  6.7       ,   1.64865863,  15.6       ],\n",
       "       [  5.5       ,   1.48160454,  11.44      ],\n",
       "       [  6.4       ,   1.45861502,  12.47      ],\n",
       "       [  6.7       ,   1.75785792,  14.5       ],\n",
       "       [  4.9       ,   0.40546511,   4.65      ],\n",
       "       [  5.6       ,   1.43508453,  11.34      ],\n",
       "       [  4.8       ,   0.33647224,   4.2       ],\n",
       "       [  5.4       ,   0.53062825,   6.63      ]])"
      ]
     },
     "execution_count": 7,
     "metadata": {},
     "output_type": "execute_result"
    }
   ],
   "source": [
    "train_test_split"
   ]
  },
  {
   "cell_type": "code",
   "execution_count": null,
   "metadata": {
    "collapsed": true
   },
   "outputs": [],
   "source": []
  }
 ],
 "metadata": {
  "kernelspec": {
   "display_name": "Python 2",
   "language": "python",
   "name": "python2"
  },
  "language_info": {
   "codemirror_mode": {
    "name": "ipython",
    "version": 2
   },
   "file_extension": ".py",
   "mimetype": "text/x-python",
   "name": "python",
   "nbconvert_exporter": "python",
   "pygments_lexer": "ipython2",
   "version": "2.7.11"
  }
 },
 "nbformat": 4,
 "nbformat_minor": 0
}
