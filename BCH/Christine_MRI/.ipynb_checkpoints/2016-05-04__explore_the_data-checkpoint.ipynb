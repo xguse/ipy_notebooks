{
 "cells": [
  {
   "cell_type": "markdown",
   "metadata": {
    "toc": "true"
   },
   "source": [
    "# Table of Contents\n",
    " <p><div class=\"lev1\"><a href=\"#Imports\"><span class=\"toc-item-num\">1&nbsp;&nbsp;</span>Imports</a></div><div class=\"lev1\"><a href=\"#File-path-info\"><span class=\"toc-item-num\">2&nbsp;&nbsp;</span>File path info</a></div><div class=\"lev1\"><a href=\"#Functions\"><span class=\"toc-item-num\">3&nbsp;&nbsp;</span>Functions</a></div><div class=\"lev2\"><a href=\"#Loading\"><span class=\"toc-item-num\">3.1&nbsp;&nbsp;</span>Loading</a></div><div class=\"lev2\"><a href=\"#Scaling\"><span class=\"toc-item-num\">3.2&nbsp;&nbsp;</span>Scaling</a></div><div class=\"lev2\"><a href=\"#sklearn-helpers\"><span class=\"toc-item-num\">3.3&nbsp;&nbsp;</span>sklearn helpers</a></div><div class=\"lev1\"><a href=\"#Load-and-view-the-subfiles\"><span class=\"toc-item-num\">4&nbsp;&nbsp;</span>Load and view the subfiles</a></div><div class=\"lev2\"><a href=\"#Labels\"><span class=\"toc-item-num\">4.1&nbsp;&nbsp;</span>Labels</a></div><div class=\"lev2\"><a href=\"#Demo\"><span class=\"toc-item-num\">4.2&nbsp;&nbsp;</span>Demo</a></div><div class=\"lev2\"><a href=\"#Meds\"><span class=\"toc-item-num\">4.3&nbsp;&nbsp;</span>Meds</a></div><div class=\"lev2\"><a href=\"#Disease\"><span class=\"toc-item-num\">4.4&nbsp;&nbsp;</span>Disease</a></div><div class=\"lev2\"><a href=\"#Labs\"><span class=\"toc-item-num\">4.5&nbsp;&nbsp;</span>Labs</a></div><div class=\"lev2\"><a href=\"#Cognition\"><span class=\"toc-item-num\">4.6&nbsp;&nbsp;</span>Cognition</a></div><div class=\"lev2\"><a href=\"#Thick_left\"><span class=\"toc-item-num\">4.7&nbsp;&nbsp;</span>Thick_left</a></div><div class=\"lev2\"><a href=\"#Thick_right\"><span class=\"toc-item-num\">4.8&nbsp;&nbsp;</span>Thick_right</a></div><div class=\"lev2\"><a href=\"#Nanostring\"><span class=\"toc-item-num\">4.9&nbsp;&nbsp;</span>Nanostring</a></div><div class=\"lev1\"><a href=\"#Scale-the-subfile-data\"><span class=\"toc-item-num\">5&nbsp;&nbsp;</span>Scale the subfile data</a></div><div class=\"lev2\"><a href=\"#Demo\"><span class=\"toc-item-num\">5.1&nbsp;&nbsp;</span>Demo</a></div><div class=\"lev2\"><a href=\"#Disease\"><span class=\"toc-item-num\">5.2&nbsp;&nbsp;</span>Disease</a></div><div class=\"lev2\"><a href=\"#Labs\"><span class=\"toc-item-num\">5.3&nbsp;&nbsp;</span>Labs</a></div><div class=\"lev2\"><a href=\"#Cognition\"><span class=\"toc-item-num\">5.4&nbsp;&nbsp;</span>Cognition</a></div><div class=\"lev2\"><a href=\"#Thick_left\"><span class=\"toc-item-num\">5.5&nbsp;&nbsp;</span>Thick_left</a></div><div class=\"lev2\"><a href=\"#Thick_right\"><span class=\"toc-item-num\">5.6&nbsp;&nbsp;</span>Thick_right</a></div><div class=\"lev2\"><a href=\"#Nanostring\"><span class=\"toc-item-num\">5.7&nbsp;&nbsp;</span>Nanostring</a></div><div class=\"lev1\"><a href=\"#Machine-Learning\"><span class=\"toc-item-num\">6&nbsp;&nbsp;</span>Machine Learning</a></div><div class=\"lev2\"><a href=\"#Classification\"><span class=\"toc-item-num\">6.1&nbsp;&nbsp;</span>Classification</a></div><div class=\"lev3\"><a href=\"#SVM-classification\"><span class=\"toc-item-num\">6.1.1&nbsp;&nbsp;</span>SVM classification</a></div><div class=\"lev4\"><a href=\"#Non-weighted\"><span class=\"toc-item-num\">6.1.1.1&nbsp;&nbsp;</span>Non-weighted</a></div><div class=\"lev4\"><a href=\"#Weighted\"><span class=\"toc-item-num\">6.1.1.2&nbsp;&nbsp;</span>Weighted</a></div><div class=\"lev3\"><a href=\"#Random-forest\"><span class=\"toc-item-num\">6.1.2&nbsp;&nbsp;</span>Random forest</a></div><div class=\"lev3\"><a href=\"#PCA\"><span class=\"toc-item-num\">6.1.3&nbsp;&nbsp;</span>PCA</a></div><div class=\"lev2\"><a href=\"#Regression\"><span class=\"toc-item-num\">6.2&nbsp;&nbsp;</span>Regression</a></div><div class=\"lev3\"><a href=\"#Lasso\"><span class=\"toc-item-num\">6.2.1&nbsp;&nbsp;</span>Lasso</a></div><div class=\"lev1\"><a href=\"#Regular-Stats\"><span class=\"toc-item-num\">7&nbsp;&nbsp;</span>Regular Stats</a></div>"
   ]
  },
  {
   "cell_type": "markdown",
   "metadata": {},
   "source": [
    "# Imports"
   ]
  },
  {
   "cell_type": "code",
   "execution_count": 156,
   "metadata": {
    "ExecuteTime": {
     "end_time": "2016-05-05T14:57:38.375662",
     "start_time": "2016-05-05T14:57:36.856230"
    },
    "collapsed": true
   },
   "outputs": [],
   "source": [
    "%matplotlib inline"
   ]
  },
  {
   "cell_type": "code",
   "execution_count": 579,
   "metadata": {
    "ExecuteTime": {
     "end_time": "2016-05-05T17:52:29.293961",
     "start_time": "2016-05-05T17:52:29.289278"
    },
    "collapsed": false
   },
   "outputs": [],
   "source": [
    "from pathlib import Path\n",
    "\n",
    "import collections\n",
    "\n",
    "import pandas as pd\n",
    "import numpy as np\n",
    "\n",
    "import seaborn as sns\n",
    "sns.set_context(\"talk\", )"
   ]
  },
  {
   "cell_type": "code",
   "execution_count": 696,
   "metadata": {
    "ExecuteTime": {
     "end_time": "2016-05-06T12:27:24.443092",
     "start_time": "2016-05-06T12:27:23.472240"
    },
    "collapsed": true
   },
   "outputs": [],
   "source": [
    "import patsy\n",
    "import statsmodels as smd\n",
    "import statsmodels.api as sm\n",
    "from statsmodels.formula.api import logit, glm"
   ]
  },
  {
   "cell_type": "code",
   "execution_count": 682,
   "metadata": {
    "ExecuteTime": {
     "end_time": "2016-05-05T19:45:53.894997",
     "start_time": "2016-05-05T19:45:53.871015"
    },
    "collapsed": false
   },
   "outputs": [],
   "source": [
    "from sklearn.pipeline import Pipeline\n",
    "from sklearn.pipeline import make_pipeline\n",
    "\n",
    "from sklearn.manifold import MDS, TSNE\n",
    "from sklearn.decomposition import PCA, RandomizedPCA, KernelPCA, FactorAnalysis\n",
    "from sklearn.discriminant_analysis import LinearDiscriminantAnalysis\n",
    "\n",
    "from sklearn.grid_search import GridSearchCV\n",
    "\n",
    "from sklearn.cross_validation import train_test_split, StratifiedShuffleSplit, ShuffleSplit\n",
    "\n",
    "from sklearn.svm import SVC, LinearSVC\n",
    "from sklearn.ensemble import RandomForestClassifier,ExtraTreesClassifier\n",
    "from sklearn.dummy import DummyClassifier\n",
    "\n",
    "from sklearn.linear_model import LogisticRegression\n",
    "from sklearn.linear_model import RandomizedLogisticRegression\n",
    "from sklearn.linear_model import Lasso\n",
    "\n",
    "from sklearn.feature_selection import SelectKBest\n",
    "from sklearn.feature_selection import chi2, univariate_selection\n",
    "from sklearn.feature_selection import SelectFromModel\n",
    "\n",
    "from sklearn.metrics import confusion_matrix\n",
    "from sklearn.metrics import classification_report\n",
    "from sklearn.metrics import explained_variance_score\n",
    "from sklearn.metrics import r2_score\n",
    "from sklearn.metrics import mean_squared_error"
   ]
  },
  {
   "cell_type": "markdown",
   "metadata": {},
   "source": [
    "# File path info"
   ]
  },
  {
   "cell_type": "code",
   "execution_count": 2,
   "metadata": {
    "ExecuteTime": {
     "end_time": "2016-05-05T11:59:02.489751",
     "start_time": "2016-05-05T11:59:02.483191"
    },
    "collapsed": true
   },
   "outputs": [],
   "source": [
    "base = Path(\"/home/gus/MEGAsync/zim/main/BCH/Projects/Christine_MRI/data\")\n",
    "labels_ = base / \"labels.csv\"\n",
    "demo_ = base / \"demo.csv\"\n",
    "meds_ = base / \"meds.csv\"\n",
    "disease_ = base / \"disease.csv\"\n",
    "labs_ = base / \"labs.csv\"\n",
    "cognition_ = base / \"cognition.csv\"\n",
    "thick_left_ = base / \"thick_left.csv\"\n",
    "thick_right_ = base / \"thick_right.csv\"\n",
    "nanostring_ = base / \"nanostring.csv\""
   ]
  },
  {
   "cell_type": "markdown",
   "metadata": {},
   "source": [
    "# Functions"
   ]
  },
  {
   "cell_type": "markdown",
   "metadata": {},
   "source": [
    "## Loading"
   ]
  },
  {
   "cell_type": "code",
   "execution_count": 48,
   "metadata": {
    "ExecuteTime": {
     "end_time": "2016-05-05T12:14:39.206208",
     "start_time": "2016-05-05T12:14:39.128937"
    },
    "collapsed": true
   },
   "outputs": [],
   "source": [
    "def read_csv(path, converters=None):\n",
    "    return pd.read_csv(path, index_col=\"ID\", converters=converters, na_values=['None'])\n",
    "\n",
    "def load_labels(path):\n",
    "    df = read_csv(path)\n",
    "    return pd.get_dummies(df.astype(int).astype(str), drop_first=True).astype(int)\n",
    "\n",
    "def load_demo(path):\n",
    "    sex_map = {\"1.0\": \"M\",\n",
    "               \"2.0\": \"F\",\n",
    "               \"1\": \"M\",\n",
    "               \"2\": \"F\",}\n",
    "    \n",
    "    hand_map = {\"1.0\": \"R\",\n",
    "                \"2.0\": \"L\",\n",
    "                \"1\": \"R\",\n",
    "                \"2\": \"L\",}\n",
    "    \n",
    "    converters = {\"sex\": lambda x: sex_map[x],\n",
    "                  \"hand\": lambda x: hand_map[x],\n",
    "                  \"AGE_dx\": lambda x: np.nan if x == 'None' else np.float64(x),\n",
    "                  \"Age_MRI\": lambda x: np.float64(x)}\n",
    "    \n",
    "    df = read_csv(path, converters=converters)\n",
    "    \n",
    "    df_float = df[[\"AGE_dx\",\"Age_MRI\"]].copy()\n",
    "    df_dummy = pd.get_dummies(df[[\"sex\",\"hand\"]].copy(), drop_first=True).astype(int)\n",
    "    return pd.concat([df_float, df_dummy], axis=1)\n",
    "\n",
    "def load_meds(path):\n",
    "    converters = {\"steroid_yn\": lambda x: \"yes\" if float(x) == 1 else \"no\",\n",
    "                  \"Inflix_yn\": lambda x: \"yes\" if float(x) == 1 else \"no\" ,\n",
    "                  \"aminosali\": lambda x: \"yes\" if float(x) == 1 else \"no\"  }\n",
    "    \n",
    "    df = read_csv(path, converters=converters)\n",
    "    return pd.get_dummies(df, drop_first=True).astype(int)\n",
    "\n",
    "def load_disease(path):    \n",
    "    return read_csv(path)\n",
    "\n",
    "def load_labs(path):\n",
    "    return read_csv(path)\n",
    "\n",
    "def load_cognition(path):\n",
    "    return read_csv(path)\n",
    "\n",
    "def load_thick_left(path):\n",
    "    return read_csv(path)\n",
    "\n",
    "def load_thick_right(path):\n",
    "    return read_csv(path)\n",
    "\n",
    "def load_nanostring(path):\n",
    "    return read_csv(path)"
   ]
  },
  {
   "cell_type": "markdown",
   "metadata": {},
   "source": [
    "## Scaling"
   ]
  },
  {
   "cell_type": "code",
   "execution_count": 109,
   "metadata": {
    "ExecuteTime": {
     "end_time": "2016-05-05T13:32:20.294562",
     "start_time": "2016-05-05T13:32:20.236283"
    },
    "collapsed": true
   },
   "outputs": [],
   "source": [
    "def apply_ignore_null(func, s, fillwith=None):\n",
    "    \"\"\"Perform `func` on values on `s` that are not 'nan' or equivalent.\n",
    "    \n",
    "    `func` applied to `s` after filling the 'nan' with `fillwith`.\n",
    "    If `fillwith` is None, min(s) is used.\n",
    "    \n",
    "    You may prefer to use the mean or median like this:\n",
    "    \n",
    "    >>> apply_ignore_null(func, s, fillwith=np.mean(s))\n",
    "    \n",
    "    Returns a reconstituted pandas.Series with 'nan' everywhere there was an original 'nan',\n",
    "    but with the transformed values everywhere else.\n",
    "    \"\"\"\n",
    "    if fillwith is None:\n",
    "        fillwith = s.min()\n",
    "        \n",
    "    idx = s.index\n",
    "    isnull = s.isnull()\n",
    "    \n",
    "    applied = pd.Series(func(s.fillna(fillwith)), index=idx)\n",
    "    \n",
    "    return pd.concat([applied[s.notnull()], s[s.isnull()]])\n",
    "\n",
    "\n",
    "def scale_columns(df, exclude=None, func=None, fillwith=None):\n",
    "    df = df.copy()\n",
    "    \n",
    "    if exclude is None:\n",
    "        exclude = set()\n",
    "    else:\n",
    "        exclude = set(exclude)\n",
    "        \n",
    "    if func is None:\n",
    "        func = pproc.minmax_scale\n",
    "\n",
    "    \n",
    "    cols = list(set(df.columns.values) - exclude)\n",
    "    \n",
    "    for col in cols:\n",
    "        df[col] = apply_ignore_null(func=func, s=df[col], fillwith=fillwith)\n",
    "        \n",
    "    return df.copy()\n",
    "    \n",
    "\n",
    "def scale_demo(df):\n",
    "    return scale_columns(df, exclude=None, func=pproc.minmax_scale, fillwith=None)\n",
    "\n",
    "def scale_disease(df):\n",
    "    return scale_columns(df, exclude=None, func=pproc.minmax_scale, fillwith=None)\n",
    "\n",
    "def scale_labs(df):\n",
    "    return scale_columns(df, exclude=None, func=pproc.minmax_scale, fillwith=None)\n",
    "\n",
    "def scale_cognition(df):\n",
    "    return scale_columns(df, exclude=None, func=pproc.minmax_scale, fillwith=None)\n",
    "\n",
    "def scale_thick_left(df):\n",
    "    return scale_columns(df, exclude=None, func=pproc.minmax_scale, fillwith=None)\n",
    "\n",
    "def scale_thick_right(df):\n",
    "    return scale_columns(df, exclude=None, func=pproc.minmax_scale, fillwith=None)\n",
    "\n",
    "def scale_nanostring(df):\n",
    "    return scale_columns(df, exclude=None, func=pproc.minmax_scale, fillwith=None)"
   ]
  },
  {
   "cell_type": "markdown",
   "metadata": {},
   "source": [
    "## sklearn helpers"
   ]
  },
  {
   "cell_type": "code",
   "execution_count": 150,
   "metadata": {
    "ExecuteTime": {
     "end_time": "2016-05-05T14:49:36.430735",
     "start_time": "2016-05-05T14:49:36.387654"
    },
    "collapsed": true
   },
   "outputs": [],
   "source": [
    "def confusion_matrix_to_pandas(cm, labels):\n",
    "    \"\"\"Return the confusion matrix as a pandas dataframe.\n",
    "\n",
    "    It is created from the confusion matrix stored in `cm` with rows and columns\n",
    "    labeled with `labels`.\n",
    "    \"\"\"\n",
    "    return pd.DataFrame(data=cm, index=labels, columns=labels)\n",
    "\n",
    "\n",
    "def normalize_confusion_matrix(cm):\n",
    "    \"\"\"Return confusion matrix with values as fractions of outcomes instead of specific cases.\"\"\"\n",
    "    try:\n",
    "        return cm.astype('float') / cm.sum(axis=1)[:, np.newaxis]\n",
    "    except ValueError as exc:\n",
    "        if \"Shape of passed values is\" in exc:\n",
    "            raise Exception()\n",
    "\n",
    "\n",
    "def plot_confusion_matrix(cm, labels=None, cmap='Blues', title=None, norm=False, context=None, annot=True):\n",
    "    \"\"\"Plot and return the confusion matrix heatmap figure.\"\"\"\n",
    "    if labels is None:\n",
    "        labels = True\n",
    "\n",
    "    if isinstance(labels, collections.Iterable) and not isinstance(labels,str):\n",
    "        labels = [label.title() for label in labels]\n",
    "\n",
    "    if norm:\n",
    "        cm = normalize_confusion_matrix(cm)\n",
    "\n",
    "    if title is None:\n",
    "        if norm:\n",
    "            title = \"Normalized Confusion Matrix\"\n",
    "        else:\n",
    "            title = \"Confusion Matrix\"\n",
    "\n",
    "    if context is None:\n",
    "        context = sns.plotting_context(\"notebook\", font_scale=1.5)\n",
    "\n",
    "    with context:\n",
    "        ax = sns.heatmap(cm,\n",
    "                         xticklabels=labels,\n",
    "                         yticklabels=labels,\n",
    "                         cmap=cmap,\n",
    "                         annot=annot\n",
    "                        )\n",
    "        ax.set_title(title)\n",
    "\n",
    "        return ax\n",
    "    \n",
    "def repandasify(array, y_names, X_names=None):\n",
    "    \"\"\"Convert numpy array into pandas dataframe using provided index and column names.\"\"\"\n",
    "    df = pd.DataFrame(data=array, index=y_names, columns=X_names)\n",
    "    return df"
   ]
  },
  {
   "cell_type": "markdown",
   "metadata": {},
   "source": [
    "# Load and view the subfiles"
   ]
  },
  {
   "cell_type": "markdown",
   "metadata": {},
   "source": [
    "## Labels"
   ]
  },
  {
   "cell_type": "code",
   "execution_count": 50,
   "metadata": {
    "ExecuteTime": {
     "end_time": "2016-05-05T12:14:43.865466",
     "start_time": "2016-05-05T12:14:43.843643"
    },
    "collapsed": false
   },
   "outputs": [
    {
     "data": {
      "text/html": [
       "<div>\n",
       "<table border=\"1\" class=\"dataframe\">\n",
       "  <thead>\n",
       "    <tr style=\"text-align: right;\">\n",
       "      <th></th>\n",
       "      <th>StudyGroup_1</th>\n",
       "      <th>StudyGroup_2</th>\n",
       "      <th>Group_1</th>\n",
       "      <th>NanoGroup_1</th>\n",
       "      <th>NanoGroup_2</th>\n",
       "    </tr>\n",
       "    <tr>\n",
       "      <th>ID</th>\n",
       "      <th></th>\n",
       "      <th></th>\n",
       "      <th></th>\n",
       "      <th></th>\n",
       "      <th></th>\n",
       "    </tr>\n",
       "  </thead>\n",
       "  <tbody>\n",
       "    <tr>\n",
       "      <th>CD001</th>\n",
       "      <td>1</td>\n",
       "      <td>0</td>\n",
       "      <td>1</td>\n",
       "      <td>1</td>\n",
       "      <td>0</td>\n",
       "    </tr>\n",
       "    <tr>\n",
       "      <th>CD002</th>\n",
       "      <td>1</td>\n",
       "      <td>0</td>\n",
       "      <td>1</td>\n",
       "      <td>1</td>\n",
       "      <td>0</td>\n",
       "    </tr>\n",
       "    <tr>\n",
       "      <th>CD003</th>\n",
       "      <td>1</td>\n",
       "      <td>0</td>\n",
       "      <td>1</td>\n",
       "      <td>1</td>\n",
       "      <td>0</td>\n",
       "    </tr>\n",
       "    <tr>\n",
       "      <th>CD004</th>\n",
       "      <td>0</td>\n",
       "      <td>1</td>\n",
       "      <td>1</td>\n",
       "      <td>0</td>\n",
       "      <td>1</td>\n",
       "    </tr>\n",
       "    <tr>\n",
       "      <th>CD005</th>\n",
       "      <td>1</td>\n",
       "      <td>0</td>\n",
       "      <td>1</td>\n",
       "      <td>1</td>\n",
       "      <td>0</td>\n",
       "    </tr>\n",
       "  </tbody>\n",
       "</table>\n",
       "</div>"
      ],
      "text/plain": [
       "       StudyGroup_1  StudyGroup_2  Group_1  NanoGroup_1  NanoGroup_2\n",
       "ID                                                                  \n",
       "CD001             1             0        1            1            0\n",
       "CD002             1             0        1            1            0\n",
       "CD003             1             0        1            1            0\n",
       "CD004             0             1        1            0            1\n",
       "CD005             1             0        1            1            0"
      ]
     },
     "execution_count": 50,
     "metadata": {},
     "output_type": "execute_result"
    }
   ],
   "source": [
    "labels = load_labels(labels_)\n",
    "labels.head()"
   ]
  },
  {
   "cell_type": "markdown",
   "metadata": {},
   "source": [
    "## Demo"
   ]
  },
  {
   "cell_type": "code",
   "execution_count": 124,
   "metadata": {
    "ExecuteTime": {
     "end_time": "2016-05-05T13:40:15.229966",
     "start_time": "2016-05-05T13:40:15.205472"
    },
    "collapsed": false
   },
   "outputs": [
    {
     "data": {
      "text/html": [
       "<div>\n",
       "<table border=\"1\" class=\"dataframe\">\n",
       "  <thead>\n",
       "    <tr style=\"text-align: right;\">\n",
       "      <th></th>\n",
       "      <th>AGE_dx</th>\n",
       "      <th>Age_MRI</th>\n",
       "      <th>sex_M</th>\n",
       "      <th>hand_R</th>\n",
       "    </tr>\n",
       "    <tr>\n",
       "      <th>ID</th>\n",
       "      <th></th>\n",
       "      <th></th>\n",
       "      <th></th>\n",
       "      <th></th>\n",
       "    </tr>\n",
       "  </thead>\n",
       "  <tbody>\n",
       "    <tr>\n",
       "      <th>HC012</th>\n",
       "      <td>NaN</td>\n",
       "      <td>12.500</td>\n",
       "      <td>1</td>\n",
       "      <td>1</td>\n",
       "    </tr>\n",
       "    <tr>\n",
       "      <th>HC013</th>\n",
       "      <td>NaN</td>\n",
       "      <td>15.310</td>\n",
       "      <td>0</td>\n",
       "      <td>1</td>\n",
       "    </tr>\n",
       "    <tr>\n",
       "      <th>HC014</th>\n",
       "      <td>NaN</td>\n",
       "      <td>11.769</td>\n",
       "      <td>0</td>\n",
       "      <td>1</td>\n",
       "    </tr>\n",
       "    <tr>\n",
       "      <th>HC015</th>\n",
       "      <td>NaN</td>\n",
       "      <td>11.579</td>\n",
       "      <td>0</td>\n",
       "      <td>1</td>\n",
       "    </tr>\n",
       "    <tr>\n",
       "      <th>HC016</th>\n",
       "      <td>NaN</td>\n",
       "      <td>10.160</td>\n",
       "      <td>1</td>\n",
       "      <td>0</td>\n",
       "    </tr>\n",
       "  </tbody>\n",
       "</table>\n",
       "</div>"
      ],
      "text/plain": [
       "       AGE_dx  Age_MRI  sex_M  hand_R\n",
       "ID                                   \n",
       "HC012     NaN   12.500      1       1\n",
       "HC013     NaN   15.310      0       1\n",
       "HC014     NaN   11.769      0       1\n",
       "HC015     NaN   11.579      0       1\n",
       "HC016     NaN   10.160      1       0"
      ]
     },
     "execution_count": 124,
     "metadata": {},
     "output_type": "execute_result"
    }
   ],
   "source": [
    "demo = load_demo(demo_)\n",
    "# demo.AGE_dx.apply(lambda x: type(x))\n",
    "demo.tail()"
   ]
  },
  {
   "cell_type": "markdown",
   "metadata": {},
   "source": [
    "## Meds"
   ]
  },
  {
   "cell_type": "code",
   "execution_count": 52,
   "metadata": {
    "ExecuteTime": {
     "end_time": "2016-05-05T12:14:47.364623",
     "start_time": "2016-05-05T12:14:47.351547"
    },
    "collapsed": false
   },
   "outputs": [
    {
     "data": {
      "text/html": [
       "<div>\n",
       "<table border=\"1\" class=\"dataframe\">\n",
       "  <thead>\n",
       "    <tr style=\"text-align: right;\">\n",
       "      <th></th>\n",
       "      <th>steroid_yn</th>\n",
       "      <th>Inflix_yn</th>\n",
       "      <th>aminosali</th>\n",
       "    </tr>\n",
       "    <tr>\n",
       "      <th>ID</th>\n",
       "      <th></th>\n",
       "      <th></th>\n",
       "      <th></th>\n",
       "    </tr>\n",
       "  </thead>\n",
       "  <tbody>\n",
       "    <tr>\n",
       "      <th>CD001</th>\n",
       "      <td>0</td>\n",
       "      <td>0</td>\n",
       "      <td>1</td>\n",
       "    </tr>\n",
       "    <tr>\n",
       "      <th>CD002</th>\n",
       "      <td>0</td>\n",
       "      <td>0</td>\n",
       "      <td>0</td>\n",
       "    </tr>\n",
       "    <tr>\n",
       "      <th>CD003</th>\n",
       "      <td>0</td>\n",
       "      <td>1</td>\n",
       "      <td>1</td>\n",
       "    </tr>\n",
       "    <tr>\n",
       "      <th>CD004</th>\n",
       "      <td>1</td>\n",
       "      <td>0</td>\n",
       "      <td>0</td>\n",
       "    </tr>\n",
       "    <tr>\n",
       "      <th>CD005</th>\n",
       "      <td>0</td>\n",
       "      <td>1</td>\n",
       "      <td>0</td>\n",
       "    </tr>\n",
       "  </tbody>\n",
       "</table>\n",
       "</div>"
      ],
      "text/plain": [
       "       steroid_yn  Inflix_yn  aminosali\n",
       "ID                                     \n",
       "CD001           0          0          1\n",
       "CD002           0          0          0\n",
       "CD003           0          1          1\n",
       "CD004           1          0          0\n",
       "CD005           0          1          0"
      ]
     },
     "execution_count": 52,
     "metadata": {},
     "output_type": "execute_result"
    }
   ],
   "source": [
    "meds = pd.read_csv(meds_, index_col=\"ID\")\n",
    "meds.head()"
   ]
  },
  {
   "cell_type": "code",
   "execution_count": 53,
   "metadata": {
    "ExecuteTime": {
     "end_time": "2016-05-05T12:14:49.533244",
     "start_time": "2016-05-05T12:14:49.512094"
    },
    "collapsed": false
   },
   "outputs": [
    {
     "data": {
      "text/html": [
       "<div>\n",
       "<table border=\"1\" class=\"dataframe\">\n",
       "  <thead>\n",
       "    <tr style=\"text-align: right;\">\n",
       "      <th></th>\n",
       "      <th>steroid_yn_yes</th>\n",
       "      <th>Inflix_yn_yes</th>\n",
       "      <th>aminosali_yes</th>\n",
       "    </tr>\n",
       "    <tr>\n",
       "      <th>ID</th>\n",
       "      <th></th>\n",
       "      <th></th>\n",
       "      <th></th>\n",
       "    </tr>\n",
       "  </thead>\n",
       "  <tbody>\n",
       "    <tr>\n",
       "      <th>CD001</th>\n",
       "      <td>0</td>\n",
       "      <td>0</td>\n",
       "      <td>1</td>\n",
       "    </tr>\n",
       "    <tr>\n",
       "      <th>CD002</th>\n",
       "      <td>0</td>\n",
       "      <td>0</td>\n",
       "      <td>0</td>\n",
       "    </tr>\n",
       "    <tr>\n",
       "      <th>CD003</th>\n",
       "      <td>0</td>\n",
       "      <td>1</td>\n",
       "      <td>1</td>\n",
       "    </tr>\n",
       "    <tr>\n",
       "      <th>CD004</th>\n",
       "      <td>1</td>\n",
       "      <td>0</td>\n",
       "      <td>0</td>\n",
       "    </tr>\n",
       "    <tr>\n",
       "      <th>CD005</th>\n",
       "      <td>0</td>\n",
       "      <td>1</td>\n",
       "      <td>0</td>\n",
       "    </tr>\n",
       "  </tbody>\n",
       "</table>\n",
       "</div>"
      ],
      "text/plain": [
       "       steroid_yn_yes  Inflix_yn_yes  aminosali_yes\n",
       "ID                                                 \n",
       "CD001               0              0              1\n",
       "CD002               0              0              0\n",
       "CD003               0              1              1\n",
       "CD004               1              0              0\n",
       "CD005               0              1              0"
      ]
     },
     "execution_count": 53,
     "metadata": {},
     "output_type": "execute_result"
    }
   ],
   "source": [
    "meds = load_meds(meds_)\n",
    "meds.head()"
   ]
  },
  {
   "cell_type": "markdown",
   "metadata": {},
   "source": [
    "## Disease"
   ]
  },
  {
   "cell_type": "code",
   "execution_count": 54,
   "metadata": {
    "ExecuteTime": {
     "end_time": "2016-05-05T12:14:50.793815",
     "start_time": "2016-05-05T12:14:50.780159"
    },
    "collapsed": false
   },
   "outputs": [
    {
     "data": {
      "text/html": [
       "<div>\n",
       "<table border=\"1\" class=\"dataframe\">\n",
       "  <thead>\n",
       "    <tr style=\"text-align: right;\">\n",
       "      <th></th>\n",
       "      <th>PCDAI_severity</th>\n",
       "      <th>pcdaiscore</th>\n",
       "      <th>hbaiscore</th>\n",
       "    </tr>\n",
       "    <tr>\n",
       "      <th>ID</th>\n",
       "      <th></th>\n",
       "      <th></th>\n",
       "      <th></th>\n",
       "    </tr>\n",
       "  </thead>\n",
       "  <tbody>\n",
       "    <tr>\n",
       "      <th>CD001</th>\n",
       "      <td>1</td>\n",
       "      <td>2.5</td>\n",
       "      <td>0</td>\n",
       "    </tr>\n",
       "    <tr>\n",
       "      <th>CD002</th>\n",
       "      <td>1</td>\n",
       "      <td>10.0</td>\n",
       "      <td>0</td>\n",
       "    </tr>\n",
       "    <tr>\n",
       "      <th>CD003</th>\n",
       "      <td>1</td>\n",
       "      <td>2.5</td>\n",
       "      <td>0</td>\n",
       "    </tr>\n",
       "    <tr>\n",
       "      <th>CD004</th>\n",
       "      <td>2</td>\n",
       "      <td>15.0</td>\n",
       "      <td>4</td>\n",
       "    </tr>\n",
       "    <tr>\n",
       "      <th>CD005</th>\n",
       "      <td>1</td>\n",
       "      <td>10.0</td>\n",
       "      <td>0</td>\n",
       "    </tr>\n",
       "  </tbody>\n",
       "</table>\n",
       "</div>"
      ],
      "text/plain": [
       "       PCDAI_severity  pcdaiscore  hbaiscore\n",
       "ID                                          \n",
       "CD001               1         2.5          0\n",
       "CD002               1        10.0          0\n",
       "CD003               1         2.5          0\n",
       "CD004               2        15.0          4\n",
       "CD005               1        10.0          0"
      ]
     },
     "execution_count": 54,
     "metadata": {},
     "output_type": "execute_result"
    }
   ],
   "source": [
    "disease = pd.read_csv(disease_, index_col=\"ID\")\n",
    "disease.head()"
   ]
  },
  {
   "cell_type": "code",
   "execution_count": 55,
   "metadata": {
    "ExecuteTime": {
     "end_time": "2016-05-05T12:14:51.461471",
     "start_time": "2016-05-05T12:14:51.446870"
    },
    "collapsed": false
   },
   "outputs": [
    {
     "data": {
      "text/html": [
       "<div>\n",
       "<table border=\"1\" class=\"dataframe\">\n",
       "  <thead>\n",
       "    <tr style=\"text-align: right;\">\n",
       "      <th></th>\n",
       "      <th>PCDAI_severity</th>\n",
       "      <th>pcdaiscore</th>\n",
       "      <th>hbaiscore</th>\n",
       "    </tr>\n",
       "    <tr>\n",
       "      <th>ID</th>\n",
       "      <th></th>\n",
       "      <th></th>\n",
       "      <th></th>\n",
       "    </tr>\n",
       "  </thead>\n",
       "  <tbody>\n",
       "    <tr>\n",
       "      <th>CD001</th>\n",
       "      <td>1</td>\n",
       "      <td>2.5</td>\n",
       "      <td>0</td>\n",
       "    </tr>\n",
       "    <tr>\n",
       "      <th>CD002</th>\n",
       "      <td>1</td>\n",
       "      <td>10.0</td>\n",
       "      <td>0</td>\n",
       "    </tr>\n",
       "    <tr>\n",
       "      <th>CD003</th>\n",
       "      <td>1</td>\n",
       "      <td>2.5</td>\n",
       "      <td>0</td>\n",
       "    </tr>\n",
       "    <tr>\n",
       "      <th>CD004</th>\n",
       "      <td>2</td>\n",
       "      <td>15.0</td>\n",
       "      <td>4</td>\n",
       "    </tr>\n",
       "    <tr>\n",
       "      <th>CD005</th>\n",
       "      <td>1</td>\n",
       "      <td>10.0</td>\n",
       "      <td>0</td>\n",
       "    </tr>\n",
       "  </tbody>\n",
       "</table>\n",
       "</div>"
      ],
      "text/plain": [
       "       PCDAI_severity  pcdaiscore  hbaiscore\n",
       "ID                                          \n",
       "CD001               1         2.5          0\n",
       "CD002               1        10.0          0\n",
       "CD003               1         2.5          0\n",
       "CD004               2        15.0          4\n",
       "CD005               1        10.0          0"
      ]
     },
     "execution_count": 55,
     "metadata": {},
     "output_type": "execute_result"
    }
   ],
   "source": [
    "disease = load_disease(disease_)\n",
    "disease.head()"
   ]
  },
  {
   "cell_type": "code",
   "execution_count": 644,
   "metadata": {
    "ExecuteTime": {
     "end_time": "2016-05-05T19:00:02.344628",
     "start_time": "2016-05-05T19:00:01.331083"
    },
    "collapsed": false
   },
   "outputs": [
    {
     "data": {
      "image/png": "[encoded data removed]",
      "text/plain": [
       "<matplotlib.figure.Figure at 0x7f4f780b6208>"
      ]
     },
     "metadata": {},
     "output_type": "display_data"
    }
   ],
   "source": [
    "disease.hist();"
   ]
  },
  {
   "cell_type": "markdown",
   "metadata": {},
   "source": [
    "## Labs"
   ]
  },
  {
   "cell_type": "code",
   "execution_count": 56,
   "metadata": {
    "ExecuteTime": {
     "end_time": "2016-05-05T12:14:52.740178",
     "start_time": "2016-05-05T12:14:52.724060"
    },
    "collapsed": false
   },
   "outputs": [
    {
     "data": {
      "text/html": [
       "<div>\n",
       "<table border=\"1\" class=\"dataframe\">\n",
       "  <thead>\n",
       "    <tr style=\"text-align: right;\">\n",
       "      <th></th>\n",
       "      <th>ESR</th>\n",
       "      <th>CRP</th>\n",
       "      <th>hct</th>\n",
       "      <th>alb</th>\n",
       "    </tr>\n",
       "    <tr>\n",
       "      <th>ID</th>\n",
       "      <th></th>\n",
       "      <th></th>\n",
       "      <th></th>\n",
       "      <th></th>\n",
       "    </tr>\n",
       "  </thead>\n",
       "  <tbody>\n",
       "    <tr>\n",
       "      <th>CD001</th>\n",
       "      <td>22</td>\n",
       "      <td>0.60</td>\n",
       "      <td>38.0</td>\n",
       "      <td>4.6</td>\n",
       "    </tr>\n",
       "    <tr>\n",
       "      <th>CD002</th>\n",
       "      <td>2</td>\n",
       "      <td>0.02</td>\n",
       "      <td>39.1</td>\n",
       "      <td>4.6</td>\n",
       "    </tr>\n",
       "    <tr>\n",
       "      <th>CD003</th>\n",
       "      <td>12</td>\n",
       "      <td>0.03</td>\n",
       "      <td>32.1</td>\n",
       "      <td>4.4</td>\n",
       "    </tr>\n",
       "    <tr>\n",
       "      <th>CD004</th>\n",
       "      <td>68</td>\n",
       "      <td>9.30</td>\n",
       "      <td>35.3</td>\n",
       "      <td>4.7</td>\n",
       "    </tr>\n",
       "    <tr>\n",
       "      <th>CD005</th>\n",
       "      <td>16</td>\n",
       "      <td>0.18</td>\n",
       "      <td>37.1</td>\n",
       "      <td>4.4</td>\n",
       "    </tr>\n",
       "  </tbody>\n",
       "</table>\n",
       "</div>"
      ],
      "text/plain": [
       "      ESR   CRP   hct  alb\n",
       "ID                        \n",
       "CD001  22  0.60  38.0  4.6\n",
       "CD002   2  0.02  39.1  4.6\n",
       "CD003  12  0.03  32.1  4.4\n",
       "CD004  68  9.30  35.3  4.7\n",
       "CD005  16  0.18  37.1  4.4"
      ]
     },
     "execution_count": 56,
     "metadata": {},
     "output_type": "execute_result"
    }
   ],
   "source": [
    "labs = pd.read_csv(labs_, index_col=\"ID\")\n",
    "labs.head()"
   ]
  },
  {
   "cell_type": "code",
   "execution_count": 57,
   "metadata": {
    "ExecuteTime": {
     "end_time": "2016-05-05T12:14:53.332357",
     "start_time": "2016-05-05T12:14:53.302883"
    },
    "collapsed": false
   },
   "outputs": [
    {
     "data": {
      "text/html": [
       "<div>\n",
       "<table border=\"1\" class=\"dataframe\">\n",
       "  <thead>\n",
       "    <tr style=\"text-align: right;\">\n",
       "      <th></th>\n",
       "      <th>ESR</th>\n",
       "      <th>CRP</th>\n",
       "      <th>hct</th>\n",
       "      <th>alb</th>\n",
       "    </tr>\n",
       "    <tr>\n",
       "      <th>ID</th>\n",
       "      <th></th>\n",
       "      <th></th>\n",
       "      <th></th>\n",
       "      <th></th>\n",
       "    </tr>\n",
       "  </thead>\n",
       "  <tbody>\n",
       "    <tr>\n",
       "      <th>CD001</th>\n",
       "      <td>22.0</td>\n",
       "      <td>0.60</td>\n",
       "      <td>38.0</td>\n",
       "      <td>4.6</td>\n",
       "    </tr>\n",
       "    <tr>\n",
       "      <th>CD002</th>\n",
       "      <td>2.0</td>\n",
       "      <td>0.02</td>\n",
       "      <td>39.1</td>\n",
       "      <td>4.6</td>\n",
       "    </tr>\n",
       "    <tr>\n",
       "      <th>CD003</th>\n",
       "      <td>12.0</td>\n",
       "      <td>0.03</td>\n",
       "      <td>32.1</td>\n",
       "      <td>4.4</td>\n",
       "    </tr>\n",
       "    <tr>\n",
       "      <th>CD004</th>\n",
       "      <td>68.0</td>\n",
       "      <td>9.30</td>\n",
       "      <td>35.3</td>\n",
       "      <td>4.7</td>\n",
       "    </tr>\n",
       "    <tr>\n",
       "      <th>CD005</th>\n",
       "      <td>16.0</td>\n",
       "      <td>0.18</td>\n",
       "      <td>37.1</td>\n",
       "      <td>4.4</td>\n",
       "    </tr>\n",
       "  </tbody>\n",
       "</table>\n",
       "</div>"
      ],
      "text/plain": [
       "        ESR   CRP   hct  alb\n",
       "ID                          \n",
       "CD001  22.0  0.60  38.0  4.6\n",
       "CD002   2.0  0.02  39.1  4.6\n",
       "CD003  12.0  0.03  32.1  4.4\n",
       "CD004  68.0  9.30  35.3  4.7\n",
       "CD005  16.0  0.18  37.1  4.4"
      ]
     },
     "execution_count": 57,
     "metadata": {},
     "output_type": "execute_result"
    }
   ],
   "source": [
    "labs = load_labs(labs_)\n",
    "labs.head()"
   ]
  },
  {
   "cell_type": "markdown",
   "metadata": {},
   "source": [
    "## Cognition"
   ]
  },
  {
   "cell_type": "code",
   "execution_count": 58,
   "metadata": {
    "ExecuteTime": {
     "end_time": "2016-05-05T12:14:55.163505",
     "start_time": "2016-05-05T12:14:55.150267"
    },
    "collapsed": false,
    "scrolled": false
   },
   "outputs": [
    {
     "data": {
      "text/html": [
       "<div>\n",
       "<table border=\"1\" class=\"dataframe\">\n",
       "  <thead>\n",
       "    <tr style=\"text-align: right;\">\n",
       "      <th></th>\n",
       "      <th>VIQ</th>\n",
       "      <th>PIQ</th>\n",
       "      <th>FSIQ4</th>\n",
       "    </tr>\n",
       "    <tr>\n",
       "      <th>ID</th>\n",
       "      <th></th>\n",
       "      <th></th>\n",
       "      <th></th>\n",
       "    </tr>\n",
       "  </thead>\n",
       "  <tbody>\n",
       "    <tr>\n",
       "      <th>CD001</th>\n",
       "      <td>115</td>\n",
       "      <td>103</td>\n",
       "      <td>110</td>\n",
       "    </tr>\n",
       "    <tr>\n",
       "      <th>CD002</th>\n",
       "      <td>118</td>\n",
       "      <td>118</td>\n",
       "      <td>120</td>\n",
       "    </tr>\n",
       "    <tr>\n",
       "      <th>CD003</th>\n",
       "      <td>105</td>\n",
       "      <td>131</td>\n",
       "      <td>118</td>\n",
       "    </tr>\n",
       "    <tr>\n",
       "      <th>CD004</th>\n",
       "      <td>104</td>\n",
       "      <td>103</td>\n",
       "      <td>104</td>\n",
       "    </tr>\n",
       "    <tr>\n",
       "      <th>CD005</th>\n",
       "      <td>125</td>\n",
       "      <td>131</td>\n",
       "      <td>132</td>\n",
       "    </tr>\n",
       "  </tbody>\n",
       "</table>\n",
       "</div>"
      ],
      "text/plain": [
       "       VIQ  PIQ  FSIQ4\n",
       "ID                    \n",
       "CD001  115  103    110\n",
       "CD002  118  118    120\n",
       "CD003  105  131    118\n",
       "CD004  104  103    104\n",
       "CD005  125  131    132"
      ]
     },
     "execution_count": 58,
     "metadata": {},
     "output_type": "execute_result"
    }
   ],
   "source": [
    "cognition = pd.read_csv(cognition_, index_col=\"ID\")\n",
    "cognition.head()"
   ]
  },
  {
   "cell_type": "code",
   "execution_count": 59,
   "metadata": {
    "ExecuteTime": {
     "end_time": "2016-05-05T12:14:55.924252",
     "start_time": "2016-05-05T12:14:55.912375"
    },
    "collapsed": false,
    "scrolled": true
   },
   "outputs": [
    {
     "data": {
      "text/html": [
       "<div>\n",
       "<table border=\"1\" class=\"dataframe\">\n",
       "  <thead>\n",
       "    <tr style=\"text-align: right;\">\n",
       "      <th></th>\n",
       "      <th>VIQ</th>\n",
       "      <th>PIQ</th>\n",
       "      <th>FSIQ4</th>\n",
       "    </tr>\n",
       "    <tr>\n",
       "      <th>ID</th>\n",
       "      <th></th>\n",
       "      <th></th>\n",
       "      <th></th>\n",
       "    </tr>\n",
       "  </thead>\n",
       "  <tbody>\n",
       "    <tr>\n",
       "      <th>CD001</th>\n",
       "      <td>115</td>\n",
       "      <td>103</td>\n",
       "      <td>110</td>\n",
       "    </tr>\n",
       "    <tr>\n",
       "      <th>CD002</th>\n",
       "      <td>118</td>\n",
       "      <td>118</td>\n",
       "      <td>120</td>\n",
       "    </tr>\n",
       "    <tr>\n",
       "      <th>CD003</th>\n",
       "      <td>105</td>\n",
       "      <td>131</td>\n",
       "      <td>118</td>\n",
       "    </tr>\n",
       "    <tr>\n",
       "      <th>CD004</th>\n",
       "      <td>104</td>\n",
       "      <td>103</td>\n",
       "      <td>104</td>\n",
       "    </tr>\n",
       "    <tr>\n",
       "      <th>CD005</th>\n",
       "      <td>125</td>\n",
       "      <td>131</td>\n",
       "      <td>132</td>\n",
       "    </tr>\n",
       "  </tbody>\n",
       "</table>\n",
       "</div>"
      ],
      "text/plain": [
       "       VIQ  PIQ  FSIQ4\n",
       "ID                    \n",
       "CD001  115  103    110\n",
       "CD002  118  118    120\n",
       "CD003  105  131    118\n",
       "CD004  104  103    104\n",
       "CD005  125  131    132"
      ]
     },
     "execution_count": 59,
     "metadata": {},
     "output_type": "execute_result"
    }
   ],
   "source": [
    "cognition = load_cognition(cognition_)\n",
    "cognition.head()"
   ]
  },
  {
   "cell_type": "markdown",
   "metadata": {},
   "source": [
    "## Thick_left"
   ]
  },
  {
   "cell_type": "code",
   "execution_count": 60,
   "metadata": {
    "ExecuteTime": {
     "end_time": "2016-05-05T12:14:58.356541",
     "start_time": "2016-05-05T12:14:58.309086"
    },
    "collapsed": false
   },
   "outputs": [
    {
     "data": {
      "text/html": [
       "<div>\n",
       "<table border=\"1\" class=\"dataframe\">\n",
       "  <thead>\n",
       "    <tr style=\"text-align: right;\">\n",
       "      <th></th>\n",
       "      <th>lcACC</th>\n",
       "      <th>lcMFG</th>\n",
       "      <th>lCUN</th>\n",
       "      <th>lENT</th>\n",
       "      <th>lFUS</th>\n",
       "      <th>lIPL</th>\n",
       "      <th>lITG</th>\n",
       "      <th>liCC</th>\n",
       "      <th>lLOG</th>\n",
       "      <th>lLOF</th>\n",
       "      <th>...</th>\n",
       "      <th>lPCUN</th>\n",
       "      <th>lrACC</th>\n",
       "      <th>lrMFG</th>\n",
       "      <th>lSFG</th>\n",
       "      <th>lSPL</th>\n",
       "      <th>lSTG</th>\n",
       "      <th>lSMAR</th>\n",
       "      <th>lTT</th>\n",
       "      <th>lINS</th>\n",
       "      <th>LH_MeanThickness</th>\n",
       "    </tr>\n",
       "    <tr>\n",
       "      <th>ID</th>\n",
       "      <th></th>\n",
       "      <th></th>\n",
       "      <th></th>\n",
       "      <th></th>\n",
       "      <th></th>\n",
       "      <th></th>\n",
       "      <th></th>\n",
       "      <th></th>\n",
       "      <th></th>\n",
       "      <th></th>\n",
       "      <th></th>\n",
       "      <th></th>\n",
       "      <th></th>\n",
       "      <th></th>\n",
       "      <th></th>\n",
       "      <th></th>\n",
       "      <th></th>\n",
       "      <th></th>\n",
       "      <th></th>\n",
       "      <th></th>\n",
       "      <th></th>\n",
       "    </tr>\n",
       "  </thead>\n",
       "  <tbody>\n",
       "    <tr>\n",
       "      <th>CD001</th>\n",
       "      <td>3.047</td>\n",
       "      <td>2.899</td>\n",
       "      <td>2.066</td>\n",
       "      <td>3.804</td>\n",
       "      <td>2.915</td>\n",
       "      <td>2.718</td>\n",
       "      <td>3.159</td>\n",
       "      <td>2.952</td>\n",
       "      <td>2.443</td>\n",
       "      <td>3.085</td>\n",
       "      <td>...</td>\n",
       "      <td>2.577</td>\n",
       "      <td>3.197</td>\n",
       "      <td>2.790</td>\n",
       "      <td>3.073</td>\n",
       "      <td>2.484</td>\n",
       "      <td>3.293</td>\n",
       "      <td>2.898</td>\n",
       "      <td>2.851</td>\n",
       "      <td>3.306</td>\n",
       "      <td>2.82100</td>\n",
       "    </tr>\n",
       "    <tr>\n",
       "      <th>CD002</th>\n",
       "      <td>2.894</td>\n",
       "      <td>2.734</td>\n",
       "      <td>1.970</td>\n",
       "      <td>3.363</td>\n",
       "      <td>3.016</td>\n",
       "      <td>2.663</td>\n",
       "      <td>3.018</td>\n",
       "      <td>2.582</td>\n",
       "      <td>2.230</td>\n",
       "      <td>2.758</td>\n",
       "      <td>...</td>\n",
       "      <td>2.568</td>\n",
       "      <td>2.950</td>\n",
       "      <td>2.718</td>\n",
       "      <td>2.878</td>\n",
       "      <td>2.355</td>\n",
       "      <td>3.057</td>\n",
       "      <td>2.910</td>\n",
       "      <td>2.726</td>\n",
       "      <td>3.459</td>\n",
       "      <td>2.68657</td>\n",
       "    </tr>\n",
       "    <tr>\n",
       "      <th>CD003</th>\n",
       "      <td>2.611</td>\n",
       "      <td>2.720</td>\n",
       "      <td>2.076</td>\n",
       "      <td>3.566</td>\n",
       "      <td>2.736</td>\n",
       "      <td>2.584</td>\n",
       "      <td>3.065</td>\n",
       "      <td>2.621</td>\n",
       "      <td>2.314</td>\n",
       "      <td>2.812</td>\n",
       "      <td>...</td>\n",
       "      <td>2.530</td>\n",
       "      <td>2.952</td>\n",
       "      <td>2.640</td>\n",
       "      <td>2.947</td>\n",
       "      <td>2.358</td>\n",
       "      <td>2.941</td>\n",
       "      <td>2.712</td>\n",
       "      <td>2.248</td>\n",
       "      <td>3.210</td>\n",
       "      <td>2.64565</td>\n",
       "    </tr>\n",
       "    <tr>\n",
       "      <th>CD004</th>\n",
       "      <td>2.847</td>\n",
       "      <td>2.864</td>\n",
       "      <td>1.828</td>\n",
       "      <td>3.789</td>\n",
       "      <td>2.890</td>\n",
       "      <td>2.601</td>\n",
       "      <td>3.030</td>\n",
       "      <td>2.351</td>\n",
       "      <td>2.253</td>\n",
       "      <td>3.160</td>\n",
       "      <td>...</td>\n",
       "      <td>2.494</td>\n",
       "      <td>3.158</td>\n",
       "      <td>2.677</td>\n",
       "      <td>3.069</td>\n",
       "      <td>2.342</td>\n",
       "      <td>3.079</td>\n",
       "      <td>2.754</td>\n",
       "      <td>2.504</td>\n",
       "      <td>3.287</td>\n",
       "      <td>2.68975</td>\n",
       "    </tr>\n",
       "    <tr>\n",
       "      <th>CD005</th>\n",
       "      <td>2.839</td>\n",
       "      <td>3.011</td>\n",
       "      <td>2.142</td>\n",
       "      <td>3.441</td>\n",
       "      <td>2.999</td>\n",
       "      <td>2.733</td>\n",
       "      <td>3.287</td>\n",
       "      <td>2.573</td>\n",
       "      <td>2.428</td>\n",
       "      <td>3.016</td>\n",
       "      <td>...</td>\n",
       "      <td>2.706</td>\n",
       "      <td>3.191</td>\n",
       "      <td>2.678</td>\n",
       "      <td>3.082</td>\n",
       "      <td>2.516</td>\n",
       "      <td>3.295</td>\n",
       "      <td>2.915</td>\n",
       "      <td>2.921</td>\n",
       "      <td>3.415</td>\n",
       "      <td>2.81904</td>\n",
       "    </tr>\n",
       "  </tbody>\n",
       "</table>\n",
       "<p>5 rows × 32 columns</p>\n",
       "</div>"
      ],
      "text/plain": [
       "       lcACC  lcMFG   lCUN   lENT   lFUS   lIPL   lITG   liCC   lLOG   lLOF  \\\n",
       "ID                                                                            \n",
       "CD001  3.047  2.899  2.066  3.804  2.915  2.718  3.159  2.952  2.443  3.085   \n",
       "CD002  2.894  2.734  1.970  3.363  3.016  2.663  3.018  2.582  2.230  2.758   \n",
       "CD003  2.611  2.720  2.076  3.566  2.736  2.584  3.065  2.621  2.314  2.812   \n",
       "CD004  2.847  2.864  1.828  3.789  2.890  2.601  3.030  2.351  2.253  3.160   \n",
       "CD005  2.839  3.011  2.142  3.441  2.999  2.733  3.287  2.573  2.428  3.016   \n",
       "\n",
       "             ...         lPCUN  lrACC  lrMFG   lSFG   lSPL   lSTG  lSMAR  \\\n",
       "ID           ...                                                           \n",
       "CD001        ...         2.577  3.197  2.790  3.073  2.484  3.293  2.898   \n",
       "CD002        ...         2.568  2.950  2.718  2.878  2.355  3.057  2.910   \n",
       "CD003        ...         2.530  2.952  2.640  2.947  2.358  2.941  2.712   \n",
       "CD004        ...         2.494  3.158  2.677  3.069  2.342  3.079  2.754   \n",
       "CD005        ...         2.706  3.191  2.678  3.082  2.516  3.295  2.915   \n",
       "\n",
       "         lTT   lINS  LH_MeanThickness  \n",
       "ID                                     \n",
       "CD001  2.851  3.306           2.82100  \n",
       "CD002  2.726  3.459           2.68657  \n",
       "CD003  2.248  3.210           2.64565  \n",
       "CD004  2.504  3.287           2.68975  \n",
       "CD005  2.921  3.415           2.81904  \n",
       "\n",
       "[5 rows x 32 columns]"
      ]
     },
     "execution_count": 60,
     "metadata": {},
     "output_type": "execute_result"
    }
   ],
   "source": [
    "thick_left = load_thick_left(thick_left_)\n",
    "thick_left.head()"
   ]
  },
  {
   "cell_type": "markdown",
   "metadata": {},
   "source": [
    "## Thick_right"
   ]
  },
  {
   "cell_type": "code",
   "execution_count": 61,
   "metadata": {
    "ExecuteTime": {
     "end_time": "2016-05-05T12:14:59.716956",
     "start_time": "2016-05-05T12:14:59.652885"
    },
    "collapsed": false
   },
   "outputs": [
    {
     "data": {
      "text/html": [
       "<div>\n",
       "<table border=\"1\" class=\"dataframe\">\n",
       "  <thead>\n",
       "    <tr style=\"text-align: right;\">\n",
       "      <th></th>\n",
       "      <th>rcACC</th>\n",
       "      <th>rcMFG</th>\n",
       "      <th>rCUN</th>\n",
       "      <th>rENT</th>\n",
       "      <th>rFUS</th>\n",
       "      <th>rIPL</th>\n",
       "      <th>rITG</th>\n",
       "      <th>riCC</th>\n",
       "      <th>rLOG</th>\n",
       "      <th>rLOF</th>\n",
       "      <th>...</th>\n",
       "      <th>rPCUN</th>\n",
       "      <th>rrACC</th>\n",
       "      <th>rrMFG</th>\n",
       "      <th>rSFG</th>\n",
       "      <th>rSPL</th>\n",
       "      <th>rSTG</th>\n",
       "      <th>rSMAR</th>\n",
       "      <th>rTT</th>\n",
       "      <th>rINS</th>\n",
       "      <th>RH_MeanThickness</th>\n",
       "    </tr>\n",
       "    <tr>\n",
       "      <th>ID</th>\n",
       "      <th></th>\n",
       "      <th></th>\n",
       "      <th></th>\n",
       "      <th></th>\n",
       "      <th></th>\n",
       "      <th></th>\n",
       "      <th></th>\n",
       "      <th></th>\n",
       "      <th></th>\n",
       "      <th></th>\n",
       "      <th></th>\n",
       "      <th></th>\n",
       "      <th></th>\n",
       "      <th></th>\n",
       "      <th></th>\n",
       "      <th></th>\n",
       "      <th></th>\n",
       "      <th></th>\n",
       "      <th></th>\n",
       "      <th></th>\n",
       "      <th></th>\n",
       "    </tr>\n",
       "  </thead>\n",
       "  <tbody>\n",
       "    <tr>\n",
       "      <th>CD001</th>\n",
       "      <td>2.695</td>\n",
       "      <td>2.759</td>\n",
       "      <td>2.168</td>\n",
       "      <td>3.615</td>\n",
       "      <td>3.063</td>\n",
       "      <td>2.796</td>\n",
       "      <td>3.287</td>\n",
       "      <td>2.279</td>\n",
       "      <td>2.629</td>\n",
       "      <td>2.846</td>\n",
       "      <td>...</td>\n",
       "      <td>2.619</td>\n",
       "      <td>3.286</td>\n",
       "      <td>2.627</td>\n",
       "      <td>2.810</td>\n",
       "      <td>2.563</td>\n",
       "      <td>3.267</td>\n",
       "      <td>2.725</td>\n",
       "      <td>2.689</td>\n",
       "      <td>3.455</td>\n",
       "      <td>2.77389</td>\n",
       "    </tr>\n",
       "    <tr>\n",
       "      <th>CD002</th>\n",
       "      <td>2.482</td>\n",
       "      <td>2.635</td>\n",
       "      <td>2.032</td>\n",
       "      <td>3.430</td>\n",
       "      <td>2.888</td>\n",
       "      <td>2.802</td>\n",
       "      <td>3.027</td>\n",
       "      <td>2.635</td>\n",
       "      <td>2.275</td>\n",
       "      <td>2.910</td>\n",
       "      <td>...</td>\n",
       "      <td>2.536</td>\n",
       "      <td>3.252</td>\n",
       "      <td>2.464</td>\n",
       "      <td>2.890</td>\n",
       "      <td>2.420</td>\n",
       "      <td>3.064</td>\n",
       "      <td>2.833</td>\n",
       "      <td>2.620</td>\n",
       "      <td>3.190</td>\n",
       "      <td>2.64032</td>\n",
       "    </tr>\n",
       "    <tr>\n",
       "      <th>CD003</th>\n",
       "      <td>2.518</td>\n",
       "      <td>2.591</td>\n",
       "      <td>2.048</td>\n",
       "      <td>3.700</td>\n",
       "      <td>2.876</td>\n",
       "      <td>2.660</td>\n",
       "      <td>3.010</td>\n",
       "      <td>2.394</td>\n",
       "      <td>2.337</td>\n",
       "      <td>2.721</td>\n",
       "      <td>...</td>\n",
       "      <td>2.586</td>\n",
       "      <td>2.922</td>\n",
       "      <td>2.476</td>\n",
       "      <td>2.845</td>\n",
       "      <td>2.400</td>\n",
       "      <td>3.049</td>\n",
       "      <td>2.891</td>\n",
       "      <td>2.892</td>\n",
       "      <td>3.245</td>\n",
       "      <td>2.65053</td>\n",
       "    </tr>\n",
       "    <tr>\n",
       "      <th>CD004</th>\n",
       "      <td>2.730</td>\n",
       "      <td>2.775</td>\n",
       "      <td>1.964</td>\n",
       "      <td>3.252</td>\n",
       "      <td>2.844</td>\n",
       "      <td>2.689</td>\n",
       "      <td>3.069</td>\n",
       "      <td>2.271</td>\n",
       "      <td>2.248</td>\n",
       "      <td>3.005</td>\n",
       "      <td>...</td>\n",
       "      <td>2.484</td>\n",
       "      <td>3.079</td>\n",
       "      <td>2.597</td>\n",
       "      <td>2.859</td>\n",
       "      <td>2.333</td>\n",
       "      <td>3.210</td>\n",
       "      <td>2.824</td>\n",
       "      <td>2.624</td>\n",
       "      <td>3.265</td>\n",
       "      <td>2.68730</td>\n",
       "    </tr>\n",
       "    <tr>\n",
       "      <th>CD005</th>\n",
       "      <td>2.776</td>\n",
       "      <td>2.895</td>\n",
       "      <td>1.933</td>\n",
       "      <td>3.338</td>\n",
       "      <td>3.102</td>\n",
       "      <td>2.856</td>\n",
       "      <td>3.266</td>\n",
       "      <td>2.497</td>\n",
       "      <td>2.414</td>\n",
       "      <td>2.834</td>\n",
       "      <td>...</td>\n",
       "      <td>2.645</td>\n",
       "      <td>3.021</td>\n",
       "      <td>2.653</td>\n",
       "      <td>3.035</td>\n",
       "      <td>2.546</td>\n",
       "      <td>3.379</td>\n",
       "      <td>2.855</td>\n",
       "      <td>3.111</td>\n",
       "      <td>3.383</td>\n",
       "      <td>2.79935</td>\n",
       "    </tr>\n",
       "  </tbody>\n",
       "</table>\n",
       "<p>5 rows × 32 columns</p>\n",
       "</div>"
      ],
      "text/plain": [
       "       rcACC  rcMFG   rCUN   rENT   rFUS   rIPL   rITG   riCC   rLOG   rLOF  \\\n",
       "ID                                                                            \n",
       "CD001  2.695  2.759  2.168  3.615  3.063  2.796  3.287  2.279  2.629  2.846   \n",
       "CD002  2.482  2.635  2.032  3.430  2.888  2.802  3.027  2.635  2.275  2.910   \n",
       "CD003  2.518  2.591  2.048  3.700  2.876  2.660  3.010  2.394  2.337  2.721   \n",
       "CD004  2.730  2.775  1.964  3.252  2.844  2.689  3.069  2.271  2.248  3.005   \n",
       "CD005  2.776  2.895  1.933  3.338  3.102  2.856  3.266  2.497  2.414  2.834   \n",
       "\n",
       "             ...         rPCUN  rrACC  rrMFG   rSFG   rSPL   rSTG  rSMAR  \\\n",
       "ID           ...                                                           \n",
       "CD001        ...         2.619  3.286  2.627  2.810  2.563  3.267  2.725   \n",
       "CD002        ...         2.536  3.252  2.464  2.890  2.420  3.064  2.833   \n",
       "CD003        ...         2.586  2.922  2.476  2.845  2.400  3.049  2.891   \n",
       "CD004        ...         2.484  3.079  2.597  2.859  2.333  3.210  2.824   \n",
       "CD005        ...         2.645  3.021  2.653  3.035  2.546  3.379  2.855   \n",
       "\n",
       "         rTT   rINS  RH_MeanThickness  \n",
       "ID                                     \n",
       "CD001  2.689  3.455           2.77389  \n",
       "CD002  2.620  3.190           2.64032  \n",
       "CD003  2.892  3.245           2.65053  \n",
       "CD004  2.624  3.265           2.68730  \n",
       "CD005  3.111  3.383           2.79935  \n",
       "\n",
       "[5 rows x 32 columns]"
      ]
     },
     "execution_count": 61,
     "metadata": {},
     "output_type": "execute_result"
    }
   ],
   "source": [
    "thick_right = load_thick_right(thick_right_)\n",
    "thick_right.head()"
   ]
  },
  {
   "cell_type": "markdown",
   "metadata": {},
   "source": [
    "## Nanostring"
   ]
  },
  {
   "cell_type": "code",
   "execution_count": 62,
   "metadata": {
    "ExecuteTime": {
     "end_time": "2016-05-05T12:15:00.959735",
     "start_time": "2016-05-05T12:15:00.876622"
    },
    "collapsed": false
   },
   "outputs": [
    {
     "data": {
      "text/html": [
       "<div>\n",
       "<table border=\"1\" class=\"dataframe\">\n",
       "  <thead>\n",
       "    <tr style=\"text-align: right;\">\n",
       "      <th></th>\n",
       "      <th>ABCB1</th>\n",
       "      <th>ABL1</th>\n",
       "      <th>ADA</th>\n",
       "      <th>AHR</th>\n",
       "      <th>AICDA</th>\n",
       "      <th>AIRE</th>\n",
       "      <th>APP</th>\n",
       "      <th>ARG1</th>\n",
       "      <th>ARG2</th>\n",
       "      <th>ARHGDIB</th>\n",
       "      <th>...</th>\n",
       "      <th>UBE2L3</th>\n",
       "      <th>VCAM1</th>\n",
       "      <th>VTN</th>\n",
       "      <th>XBP1</th>\n",
       "      <th>XCL1</th>\n",
       "      <th>XCR1</th>\n",
       "      <th>ZAP70</th>\n",
       "      <th>ZBTB16</th>\n",
       "      <th>ZEB1</th>\n",
       "      <th>sCTLA4</th>\n",
       "    </tr>\n",
       "    <tr>\n",
       "      <th>ID</th>\n",
       "      <th></th>\n",
       "      <th></th>\n",
       "      <th></th>\n",
       "      <th></th>\n",
       "      <th></th>\n",
       "      <th></th>\n",
       "      <th></th>\n",
       "      <th></th>\n",
       "      <th></th>\n",
       "      <th></th>\n",
       "      <th></th>\n",
       "      <th></th>\n",
       "      <th></th>\n",
       "      <th></th>\n",
       "      <th></th>\n",
       "      <th></th>\n",
       "      <th></th>\n",
       "      <th></th>\n",
       "      <th></th>\n",
       "      <th></th>\n",
       "      <th></th>\n",
       "    </tr>\n",
       "  </thead>\n",
       "  <tbody>\n",
       "    <tr>\n",
       "      <th>CD001</th>\n",
       "      <td>71.58</td>\n",
       "      <td>74.63</td>\n",
       "      <td>101.69</td>\n",
       "      <td>1762.32</td>\n",
       "      <td>3.06</td>\n",
       "      <td>5.67</td>\n",
       "      <td>314.67</td>\n",
       "      <td>34.48</td>\n",
       "      <td>5.67</td>\n",
       "      <td>3533.81</td>\n",
       "      <td>...</td>\n",
       "      <td>142.28</td>\n",
       "      <td>5.24</td>\n",
       "      <td>1.75</td>\n",
       "      <td>217.34</td>\n",
       "      <td>6.55</td>\n",
       "      <td>4.36</td>\n",
       "      <td>392.79</td>\n",
       "      <td>65.03</td>\n",
       "      <td>107.80</td>\n",
       "      <td>24.88</td>\n",
       "    </tr>\n",
       "    <tr>\n",
       "      <th>CD002</th>\n",
       "      <td>83.07</td>\n",
       "      <td>117.27</td>\n",
       "      <td>83.77</td>\n",
       "      <td>1072.23</td>\n",
       "      <td>4.19</td>\n",
       "      <td>6.28</td>\n",
       "      <td>392.31</td>\n",
       "      <td>112.39</td>\n",
       "      <td>12.57</td>\n",
       "      <td>3218.08</td>\n",
       "      <td>...</td>\n",
       "      <td>189.18</td>\n",
       "      <td>9.77</td>\n",
       "      <td>4.19</td>\n",
       "      <td>235.95</td>\n",
       "      <td>15.36</td>\n",
       "      <td>6.98</td>\n",
       "      <td>654.09</td>\n",
       "      <td>43.28</td>\n",
       "      <td>172.42</td>\n",
       "      <td>34.90</td>\n",
       "    </tr>\n",
       "    <tr>\n",
       "      <th>CD003</th>\n",
       "      <td>103.67</td>\n",
       "      <td>126.48</td>\n",
       "      <td>77.75</td>\n",
       "      <td>840.78</td>\n",
       "      <td>8.29</td>\n",
       "      <td>17.62</td>\n",
       "      <td>346.27</td>\n",
       "      <td>148.25</td>\n",
       "      <td>18.66</td>\n",
       "      <td>2848.92</td>\n",
       "      <td>...</td>\n",
       "      <td>143.07</td>\n",
       "      <td>4.15</td>\n",
       "      <td>5.18</td>\n",
       "      <td>236.37</td>\n",
       "      <td>9.33</td>\n",
       "      <td>14.51</td>\n",
       "      <td>713.27</td>\n",
       "      <td>74.64</td>\n",
       "      <td>123.37</td>\n",
       "      <td>37.32</td>\n",
       "    </tr>\n",
       "    <tr>\n",
       "      <th>CD004</th>\n",
       "      <td>59.45</td>\n",
       "      <td>79.27</td>\n",
       "      <td>61.11</td>\n",
       "      <td>360.03</td>\n",
       "      <td>9.91</td>\n",
       "      <td>14.86</td>\n",
       "      <td>487.19</td>\n",
       "      <td>1205.59</td>\n",
       "      <td>14.86</td>\n",
       "      <td>5732.33</td>\n",
       "      <td>...</td>\n",
       "      <td>262.59</td>\n",
       "      <td>18.17</td>\n",
       "      <td>11.56</td>\n",
       "      <td>218.00</td>\n",
       "      <td>26.42</td>\n",
       "      <td>11.56</td>\n",
       "      <td>315.43</td>\n",
       "      <td>123.86</td>\n",
       "      <td>128.82</td>\n",
       "      <td>33.03</td>\n",
       "    </tr>\n",
       "    <tr>\n",
       "      <th>CD005</th>\n",
       "      <td>74.70</td>\n",
       "      <td>64.03</td>\n",
       "      <td>92.99</td>\n",
       "      <td>1211.19</td>\n",
       "      <td>2.29</td>\n",
       "      <td>15.24</td>\n",
       "      <td>266.78</td>\n",
       "      <td>121.96</td>\n",
       "      <td>9.15</td>\n",
       "      <td>3125.15</td>\n",
       "      <td>...</td>\n",
       "      <td>131.87</td>\n",
       "      <td>11.43</td>\n",
       "      <td>8.38</td>\n",
       "      <td>202.75</td>\n",
       "      <td>11.43</td>\n",
       "      <td>3.81</td>\n",
       "      <td>370.45</td>\n",
       "      <td>74.70</td>\n",
       "      <td>112.05</td>\n",
       "      <td>22.87</td>\n",
       "    </tr>\n",
       "  </tbody>\n",
       "</table>\n",
       "<p>5 rows × 579 columns</p>\n",
       "</div>"
      ],
      "text/plain": [
       "        ABCB1    ABL1     ADA      AHR  AICDA   AIRE     APP     ARG1   ARG2  \\\n",
       "ID                                                                             \n",
       "CD001   71.58   74.63  101.69  1762.32   3.06   5.67  314.67    34.48   5.67   \n",
       "CD002   83.07  117.27   83.77  1072.23   4.19   6.28  392.31   112.39  12.57   \n",
       "CD003  103.67  126.48   77.75   840.78   8.29  17.62  346.27   148.25  18.66   \n",
       "CD004   59.45   79.27   61.11   360.03   9.91  14.86  487.19  1205.59  14.86   \n",
       "CD005   74.70   64.03   92.99  1211.19   2.29  15.24  266.78   121.96   9.15   \n",
       "\n",
       "       ARHGDIB   ...    UBE2L3  VCAM1    VTN    XBP1   XCL1   XCR1   ZAP70  \\\n",
       "ID               ...                                                         \n",
       "CD001  3533.81   ...    142.28   5.24   1.75  217.34   6.55   4.36  392.79   \n",
       "CD002  3218.08   ...    189.18   9.77   4.19  235.95  15.36   6.98  654.09   \n",
       "CD003  2848.92   ...    143.07   4.15   5.18  236.37   9.33  14.51  713.27   \n",
       "CD004  5732.33   ...    262.59  18.17  11.56  218.00  26.42  11.56  315.43   \n",
       "CD005  3125.15   ...    131.87  11.43   8.38  202.75  11.43   3.81  370.45   \n",
       "\n",
       "       ZBTB16    ZEB1  sCTLA4  \n",
       "ID                             \n",
       "CD001   65.03  107.80   24.88  \n",
       "CD002   43.28  172.42   34.90  \n",
       "CD003   74.64  123.37   37.32  \n",
       "CD004  123.86  128.82   33.03  \n",
       "CD005   74.70  112.05   22.87  \n",
       "\n",
       "[5 rows x 579 columns]"
      ]
     },
     "execution_count": 62,
     "metadata": {},
     "output_type": "execute_result"
    }
   ],
   "source": [
    "nanostring = load_nanostring(nanostring_)\n",
    "nanostring.head()"
   ]
  },
  {
   "cell_type": "markdown",
   "metadata": {},
   "source": [
    "# Scale the subfile data"
   ]
  },
  {
   "cell_type": "markdown",
   "metadata": {},
   "source": [
    "## Demo"
   ]
  },
  {
   "cell_type": "code",
   "execution_count": 73,
   "metadata": {
    "ExecuteTime": {
     "end_time": "2016-05-05T12:17:48.661312",
     "start_time": "2016-05-05T12:17:48.646581"
    },
    "collapsed": false
   },
   "outputs": [
    {
     "data": {
      "text/html": [
       "<div>\n",
       "<table border=\"1\" class=\"dataframe\">\n",
       "  <thead>\n",
       "    <tr style=\"text-align: right;\">\n",
       "      <th></th>\n",
       "      <th>AGE_dx</th>\n",
       "      <th>Age_MRI</th>\n",
       "      <th>sex_M</th>\n",
       "      <th>hand_R</th>\n",
       "    </tr>\n",
       "    <tr>\n",
       "      <th>ID</th>\n",
       "      <th></th>\n",
       "      <th></th>\n",
       "      <th></th>\n",
       "      <th></th>\n",
       "    </tr>\n",
       "  </thead>\n",
       "  <tbody>\n",
       "    <tr>\n",
       "      <th>HC012</th>\n",
       "      <td>NaN</td>\n",
       "      <td>12.500</td>\n",
       "      <td>1</td>\n",
       "      <td>1</td>\n",
       "    </tr>\n",
       "    <tr>\n",
       "      <th>HC013</th>\n",
       "      <td>NaN</td>\n",
       "      <td>15.310</td>\n",
       "      <td>0</td>\n",
       "      <td>1</td>\n",
       "    </tr>\n",
       "    <tr>\n",
       "      <th>HC014</th>\n",
       "      <td>NaN</td>\n",
       "      <td>11.769</td>\n",
       "      <td>0</td>\n",
       "      <td>1</td>\n",
       "    </tr>\n",
       "    <tr>\n",
       "      <th>HC015</th>\n",
       "      <td>NaN</td>\n",
       "      <td>11.579</td>\n",
       "      <td>0</td>\n",
       "      <td>1</td>\n",
       "    </tr>\n",
       "    <tr>\n",
       "      <th>HC016</th>\n",
       "      <td>NaN</td>\n",
       "      <td>10.160</td>\n",
       "      <td>1</td>\n",
       "      <td>0</td>\n",
       "    </tr>\n",
       "  </tbody>\n",
       "</table>\n",
       "</div>"
      ],
      "text/plain": [
       "       AGE_dx  Age_MRI  sex_M  hand_R\n",
       "ID                                   \n",
       "HC012     NaN   12.500      1       1\n",
       "HC013     NaN   15.310      0       1\n",
       "HC014     NaN   11.769      0       1\n",
       "HC015     NaN   11.579      0       1\n",
       "HC016     NaN   10.160      1       0"
      ]
     },
     "execution_count": 73,
     "metadata": {},
     "output_type": "execute_result"
    }
   ],
   "source": [
    "demo.tail()"
   ]
  },
  {
   "cell_type": "code",
   "execution_count": 112,
   "metadata": {
    "ExecuteTime": {
     "end_time": "2016-05-05T13:34:13.884443",
     "start_time": "2016-05-05T13:34:13.851733"
    },
    "collapsed": false
   },
   "outputs": [
    {
     "name": "stderr",
     "output_type": "stream",
     "text": [
      "/home/gus/.anaconda/envs/chri-mri/lib/python3.5/site-packages/sklearn/utils/validation.py:420: DataConversionWarning: Data with input dtype int64 was converted to float64.\n",
      "  warnings.warn(msg, DataConversionWarning)\n",
      "/home/gus/.anaconda/envs/chri-mri/lib/python3.5/site-packages/sklearn/utils/validation.py:420: DataConversionWarning: Data with input dtype int64 was converted to float64.\n",
      "  warnings.warn(msg, DataConversionWarning)\n"
     ]
    },
    {
     "data": {
      "text/html": [
       "<div>\n",
       "<table border=\"1\" class=\"dataframe\">\n",
       "  <thead>\n",
       "    <tr style=\"text-align: right;\">\n",
       "      <th></th>\n",
       "      <th>AGE_dx</th>\n",
       "      <th>Age_MRI</th>\n",
       "      <th>sex_M</th>\n",
       "      <th>hand_R</th>\n",
       "    </tr>\n",
       "    <tr>\n",
       "      <th>ID</th>\n",
       "      <th></th>\n",
       "      <th></th>\n",
       "      <th></th>\n",
       "      <th></th>\n",
       "    </tr>\n",
       "  </thead>\n",
       "  <tbody>\n",
       "    <tr>\n",
       "      <th>HC012</th>\n",
       "      <td>NaN</td>\n",
       "      <td>0.412888</td>\n",
       "      <td>1.0</td>\n",
       "      <td>1.0</td>\n",
       "    </tr>\n",
       "    <tr>\n",
       "      <th>HC013</th>\n",
       "      <td>NaN</td>\n",
       "      <td>0.908706</td>\n",
       "      <td>0.0</td>\n",
       "      <td>1.0</td>\n",
       "    </tr>\n",
       "    <tr>\n",
       "      <th>HC014</th>\n",
       "      <td>NaN</td>\n",
       "      <td>0.283905</td>\n",
       "      <td>0.0</td>\n",
       "      <td>1.0</td>\n",
       "    </tr>\n",
       "    <tr>\n",
       "      <th>HC015</th>\n",
       "      <td>NaN</td>\n",
       "      <td>0.250379</td>\n",
       "      <td>0.0</td>\n",
       "      <td>1.0</td>\n",
       "    </tr>\n",
       "    <tr>\n",
       "      <th>HC016</th>\n",
       "      <td>NaN</td>\n",
       "      <td>0.000000</td>\n",
       "      <td>1.0</td>\n",
       "      <td>0.0</td>\n",
       "    </tr>\n",
       "  </tbody>\n",
       "</table>\n",
       "</div>"
      ],
      "text/plain": [
       "       AGE_dx   Age_MRI  sex_M  hand_R\n",
       "ID                                    \n",
       "HC012     NaN  0.412888    1.0     1.0\n",
       "HC013     NaN  0.908706    0.0     1.0\n",
       "HC014     NaN  0.283905    0.0     1.0\n",
       "HC015     NaN  0.250379    0.0     1.0\n",
       "HC016     NaN  0.000000    1.0     0.0"
      ]
     },
     "execution_count": 112,
     "metadata": {},
     "output_type": "execute_result"
    }
   ],
   "source": [
    "scale_demo(demo).tail()"
   ]
  },
  {
   "cell_type": "markdown",
   "metadata": {
    "collapsed": true
   },
   "source": [
    "## Disease"
   ]
  },
  {
   "cell_type": "code",
   "execution_count": 90,
   "metadata": {
    "ExecuteTime": {
     "end_time": "2016-05-05T12:27:30.838475",
     "start_time": "2016-05-05T12:27:30.829467"
    },
    "collapsed": false
   },
   "outputs": [
    {
     "data": {
      "text/html": [
       "<div>\n",
       "<table border=\"1\" class=\"dataframe\">\n",
       "  <thead>\n",
       "    <tr style=\"text-align: right;\">\n",
       "      <th></th>\n",
       "      <th>PCDAI_severity</th>\n",
       "      <th>pcdaiscore</th>\n",
       "      <th>hbaiscore</th>\n",
       "    </tr>\n",
       "    <tr>\n",
       "      <th>ID</th>\n",
       "      <th></th>\n",
       "      <th></th>\n",
       "      <th></th>\n",
       "    </tr>\n",
       "  </thead>\n",
       "  <tbody>\n",
       "    <tr>\n",
       "      <th>CD001</th>\n",
       "      <td>1</td>\n",
       "      <td>2.5</td>\n",
       "      <td>0</td>\n",
       "    </tr>\n",
       "    <tr>\n",
       "      <th>CD002</th>\n",
       "      <td>1</td>\n",
       "      <td>10.0</td>\n",
       "      <td>0</td>\n",
       "    </tr>\n",
       "    <tr>\n",
       "      <th>CD003</th>\n",
       "      <td>1</td>\n",
       "      <td>2.5</td>\n",
       "      <td>0</td>\n",
       "    </tr>\n",
       "    <tr>\n",
       "      <th>CD004</th>\n",
       "      <td>2</td>\n",
       "      <td>15.0</td>\n",
       "      <td>4</td>\n",
       "    </tr>\n",
       "    <tr>\n",
       "      <th>CD005</th>\n",
       "      <td>1</td>\n",
       "      <td>10.0</td>\n",
       "      <td>0</td>\n",
       "    </tr>\n",
       "  </tbody>\n",
       "</table>\n",
       "</div>"
      ],
      "text/plain": [
       "       PCDAI_severity  pcdaiscore  hbaiscore\n",
       "ID                                          \n",
       "CD001               1         2.5          0\n",
       "CD002               1        10.0          0\n",
       "CD003               1         2.5          0\n",
       "CD004               2        15.0          4\n",
       "CD005               1        10.0          0"
      ]
     },
     "execution_count": 90,
     "metadata": {},
     "output_type": "execute_result"
    }
   ],
   "source": [
    "disease.head()"
   ]
  },
  {
   "cell_type": "code",
   "execution_count": 538,
   "metadata": {
    "ExecuteTime": {
     "end_time": "2016-05-05T17:19:42.447770",
     "start_time": "2016-05-05T17:19:42.419689"
    },
    "collapsed": false
   },
   "outputs": [
    {
     "name": "stderr",
     "output_type": "stream",
     "text": [
      "/home/gus/.anaconda/envs/chri-mri/lib/python3.5/site-packages/sklearn/utils/validation.py:420: DataConversionWarning: Data with input dtype int64 was converted to float64.\n",
      "  warnings.warn(msg, DataConversionWarning)\n",
      "/home/gus/.anaconda/envs/chri-mri/lib/python3.5/site-packages/sklearn/utils/validation.py:420: DataConversionWarning: Data with input dtype int64 was converted to float64.\n",
      "  warnings.warn(msg, DataConversionWarning)\n"
     ]
    },
    {
     "data": {
      "text/html": [
       "<div>\n",
       "<table border=\"1\" class=\"dataframe\">\n",
       "  <thead>\n",
       "    <tr style=\"text-align: right;\">\n",
       "      <th></th>\n",
       "      <th>PCDAI_severity</th>\n",
       "      <th>pcdaiscore</th>\n",
       "      <th>hbaiscore</th>\n",
       "    </tr>\n",
       "    <tr>\n",
       "      <th>ID</th>\n",
       "      <th></th>\n",
       "      <th></th>\n",
       "      <th></th>\n",
       "    </tr>\n",
       "  </thead>\n",
       "  <tbody>\n",
       "    <tr>\n",
       "      <th>CD001</th>\n",
       "      <td>0.0</td>\n",
       "      <td>0.058824</td>\n",
       "      <td>0.000000</td>\n",
       "    </tr>\n",
       "    <tr>\n",
       "      <th>CD002</th>\n",
       "      <td>0.0</td>\n",
       "      <td>0.235294</td>\n",
       "      <td>0.000000</td>\n",
       "    </tr>\n",
       "    <tr>\n",
       "      <th>CD003</th>\n",
       "      <td>0.0</td>\n",
       "      <td>0.058824</td>\n",
       "      <td>0.000000</td>\n",
       "    </tr>\n",
       "    <tr>\n",
       "      <th>CD004</th>\n",
       "      <td>0.5</td>\n",
       "      <td>0.352941</td>\n",
       "      <td>0.444444</td>\n",
       "    </tr>\n",
       "    <tr>\n",
       "      <th>CD005</th>\n",
       "      <td>0.0</td>\n",
       "      <td>0.235294</td>\n",
       "      <td>0.000000</td>\n",
       "    </tr>\n",
       "  </tbody>\n",
       "</table>\n",
       "</div>"
      ],
      "text/plain": [
       "       PCDAI_severity  pcdaiscore  hbaiscore\n",
       "ID                                          \n",
       "CD001             0.0    0.058824   0.000000\n",
       "CD002             0.0    0.235294   0.000000\n",
       "CD003             0.0    0.058824   0.000000\n",
       "CD004             0.5    0.352941   0.444444\n",
       "CD005             0.0    0.235294   0.000000"
      ]
     },
     "execution_count": 538,
     "metadata": {},
     "output_type": "execute_result"
    }
   ],
   "source": [
    "disease_s = scale_disease(disease)\n",
    "disease_s.head()"
   ]
  },
  {
   "cell_type": "markdown",
   "metadata": {},
   "source": [
    "## Labs"
   ]
  },
  {
   "cell_type": "code",
   "execution_count": 98,
   "metadata": {
    "ExecuteTime": {
     "end_time": "2016-05-05T12:29:41.971759",
     "start_time": "2016-05-05T12:29:41.954937"
    },
    "collapsed": false
   },
   "outputs": [
    {
     "data": {
      "text/html": [
       "<div>\n",
       "<table border=\"1\" class=\"dataframe\">\n",
       "  <thead>\n",
       "    <tr style=\"text-align: right;\">\n",
       "      <th></th>\n",
       "      <th>ESR</th>\n",
       "      <th>CRP</th>\n",
       "      <th>hct</th>\n",
       "      <th>alb</th>\n",
       "    </tr>\n",
       "    <tr>\n",
       "      <th>ID</th>\n",
       "      <th></th>\n",
       "      <th></th>\n",
       "      <th></th>\n",
       "      <th></th>\n",
       "    </tr>\n",
       "  </thead>\n",
       "  <tbody>\n",
       "    <tr>\n",
       "      <th>CD001</th>\n",
       "      <td>22.0</td>\n",
       "      <td>0.60</td>\n",
       "      <td>38.0</td>\n",
       "      <td>4.6</td>\n",
       "    </tr>\n",
       "    <tr>\n",
       "      <th>CD002</th>\n",
       "      <td>2.0</td>\n",
       "      <td>0.02</td>\n",
       "      <td>39.1</td>\n",
       "      <td>4.6</td>\n",
       "    </tr>\n",
       "    <tr>\n",
       "      <th>CD003</th>\n",
       "      <td>12.0</td>\n",
       "      <td>0.03</td>\n",
       "      <td>32.1</td>\n",
       "      <td>4.4</td>\n",
       "    </tr>\n",
       "    <tr>\n",
       "      <th>CD004</th>\n",
       "      <td>68.0</td>\n",
       "      <td>9.30</td>\n",
       "      <td>35.3</td>\n",
       "      <td>4.7</td>\n",
       "    </tr>\n",
       "    <tr>\n",
       "      <th>CD005</th>\n",
       "      <td>16.0</td>\n",
       "      <td>0.18</td>\n",
       "      <td>37.1</td>\n",
       "      <td>4.4</td>\n",
       "    </tr>\n",
       "    <tr>\n",
       "      <th>CD006</th>\n",
       "      <td>2.0</td>\n",
       "      <td>0.03</td>\n",
       "      <td>39.8</td>\n",
       "      <td>4.2</td>\n",
       "    </tr>\n",
       "    <tr>\n",
       "      <th>CD007</th>\n",
       "      <td>6.0</td>\n",
       "      <td>0.03</td>\n",
       "      <td>38.4</td>\n",
       "      <td>4.5</td>\n",
       "    </tr>\n",
       "    <tr>\n",
       "      <th>CD008</th>\n",
       "      <td>8.0</td>\n",
       "      <td>0.04</td>\n",
       "      <td>36.0</td>\n",
       "      <td>4.3</td>\n",
       "    </tr>\n",
       "    <tr>\n",
       "      <th>CD009</th>\n",
       "      <td>73.0</td>\n",
       "      <td>3.35</td>\n",
       "      <td>36.0</td>\n",
       "      <td>4.0</td>\n",
       "    </tr>\n",
       "    <tr>\n",
       "      <th>CD010</th>\n",
       "      <td>8.0</td>\n",
       "      <td>0.03</td>\n",
       "      <td>37.9</td>\n",
       "      <td>4.4</td>\n",
       "    </tr>\n",
       "    <tr>\n",
       "      <th>CD011</th>\n",
       "      <td>74.0</td>\n",
       "      <td>6.02</td>\n",
       "      <td>36.5</td>\n",
       "      <td>3.6</td>\n",
       "    </tr>\n",
       "    <tr>\n",
       "      <th>CD012</th>\n",
       "      <td>NaN</td>\n",
       "      <td>0.03</td>\n",
       "      <td>38.9</td>\n",
       "      <td>NaN</td>\n",
       "    </tr>\n",
       "    <tr>\n",
       "      <th>CD013</th>\n",
       "      <td>8.0</td>\n",
       "      <td>0.03</td>\n",
       "      <td>36.9</td>\n",
       "      <td>4.2</td>\n",
       "    </tr>\n",
       "    <tr>\n",
       "      <th>CD014</th>\n",
       "      <td>2.0</td>\n",
       "      <td>0.03</td>\n",
       "      <td>34.9</td>\n",
       "      <td>4.5</td>\n",
       "    </tr>\n",
       "    <tr>\n",
       "      <th>CD015</th>\n",
       "      <td>15.0</td>\n",
       "      <td>0.03</td>\n",
       "      <td>38.2</td>\n",
       "      <td>4.1</td>\n",
       "    </tr>\n",
       "  </tbody>\n",
       "</table>\n",
       "</div>"
      ],
      "text/plain": [
       "        ESR   CRP   hct  alb\n",
       "ID                          \n",
       "CD001  22.0  0.60  38.0  4.6\n",
       "CD002   2.0  0.02  39.1  4.6\n",
       "CD003  12.0  0.03  32.1  4.4\n",
       "CD004  68.0  9.30  35.3  4.7\n",
       "CD005  16.0  0.18  37.1  4.4\n",
       "CD006   2.0  0.03  39.8  4.2\n",
       "CD007   6.0  0.03  38.4  4.5\n",
       "CD008   8.0  0.04  36.0  4.3\n",
       "CD009  73.0  3.35  36.0  4.0\n",
       "CD010   8.0  0.03  37.9  4.4\n",
       "CD011  74.0  6.02  36.5  3.6\n",
       "CD012   NaN  0.03  38.9  NaN\n",
       "CD013   8.0  0.03  36.9  4.2\n",
       "CD014   2.0  0.03  34.9  4.5\n",
       "CD015  15.0  0.03  38.2  4.1"
      ]
     },
     "execution_count": 98,
     "metadata": {},
     "output_type": "execute_result"
    }
   ],
   "source": [
    "labs.head(15)"
   ]
  },
  {
   "cell_type": "code",
   "execution_count": 554,
   "metadata": {
    "ExecuteTime": {
     "end_time": "2016-05-05T17:29:10.168707",
     "start_time": "2016-05-05T17:29:10.134760"
    },
    "collapsed": false
   },
   "outputs": [
    {
     "data": {
      "text/html": [
       "<div>\n",
       "<table border=\"1\" class=\"dataframe\">\n",
       "  <thead>\n",
       "    <tr style=\"text-align: right;\">\n",
       "      <th></th>\n",
       "      <th>ESR</th>\n",
       "      <th>CRP</th>\n",
       "      <th>hct</th>\n",
       "      <th>alb</th>\n",
       "    </tr>\n",
       "    <tr>\n",
       "      <th>ID</th>\n",
       "      <th></th>\n",
       "      <th></th>\n",
       "      <th></th>\n",
       "      <th></th>\n",
       "    </tr>\n",
       "  </thead>\n",
       "  <tbody>\n",
       "    <tr>\n",
       "      <th>CD001</th>\n",
       "      <td>0.277778</td>\n",
       "      <td>0.052347</td>\n",
       "      <td>0.475806</td>\n",
       "      <td>0.6875</td>\n",
       "    </tr>\n",
       "    <tr>\n",
       "      <th>CD002</th>\n",
       "      <td>0.000000</td>\n",
       "      <td>0.000000</td>\n",
       "      <td>0.564516</td>\n",
       "      <td>0.6875</td>\n",
       "    </tr>\n",
       "    <tr>\n",
       "      <th>CD003</th>\n",
       "      <td>0.138889</td>\n",
       "      <td>0.000903</td>\n",
       "      <td>0.000000</td>\n",
       "      <td>0.5625</td>\n",
       "    </tr>\n",
       "    <tr>\n",
       "      <th>CD004</th>\n",
       "      <td>0.916667</td>\n",
       "      <td>0.837545</td>\n",
       "      <td>0.258065</td>\n",
       "      <td>0.7500</td>\n",
       "    </tr>\n",
       "    <tr>\n",
       "      <th>CD005</th>\n",
       "      <td>0.194444</td>\n",
       "      <td>0.014440</td>\n",
       "      <td>0.403226</td>\n",
       "      <td>0.5625</td>\n",
       "    </tr>\n",
       "  </tbody>\n",
       "</table>\n",
       "</div>"
      ],
      "text/plain": [
       "            ESR       CRP       hct     alb\n",
       "ID                                         \n",
       "CD001  0.277778  0.052347  0.475806  0.6875\n",
       "CD002  0.000000  0.000000  0.564516  0.6875\n",
       "CD003  0.138889  0.000903  0.000000  0.5625\n",
       "CD004  0.916667  0.837545  0.258065  0.7500\n",
       "CD005  0.194444  0.014440  0.403226  0.5625"
      ]
     },
     "execution_count": 554,
     "metadata": {},
     "output_type": "execute_result"
    }
   ],
   "source": [
    "labs_s = scale_labs(labs)\n",
    "labs_s.head()"
   ]
  },
  {
   "cell_type": "code",
   "execution_count": 549,
   "metadata": {
    "ExecuteTime": {
     "end_time": "2016-05-05T17:27:54.389146",
     "start_time": "2016-05-05T17:27:54.379543"
    },
    "collapsed": true
   },
   "outputs": [],
   "source": [
    "labs_i = labs.copy()\n",
    "labs_i[\"ESR\"] = labs_i.ESR.fillna(labs_i.ESR.mean())\n",
    "labs_i[\"alb\"] = labs_i.alb.fillna(labs_i.alb.mean())"
   ]
  },
  {
   "cell_type": "code",
   "execution_count": 553,
   "metadata": {
    "ExecuteTime": {
     "end_time": "2016-05-05T17:29:03.282856",
     "start_time": "2016-05-05T17:29:03.247232"
    },
    "collapsed": false
   },
   "outputs": [
    {
     "data": {
      "text/html": [
       "<div>\n",
       "<table border=\"1\" class=\"dataframe\">\n",
       "  <thead>\n",
       "    <tr style=\"text-align: right;\">\n",
       "      <th></th>\n",
       "      <th>ESR</th>\n",
       "      <th>CRP</th>\n",
       "      <th>hct</th>\n",
       "      <th>alb</th>\n",
       "    </tr>\n",
       "    <tr>\n",
       "      <th>ID</th>\n",
       "      <th></th>\n",
       "      <th></th>\n",
       "      <th></th>\n",
       "      <th></th>\n",
       "    </tr>\n",
       "  </thead>\n",
       "  <tbody>\n",
       "    <tr>\n",
       "      <th>CD001</th>\n",
       "      <td>0.277778</td>\n",
       "      <td>0.052347</td>\n",
       "      <td>0.475806</td>\n",
       "      <td>0.6875</td>\n",
       "    </tr>\n",
       "    <tr>\n",
       "      <th>CD002</th>\n",
       "      <td>0.000000</td>\n",
       "      <td>0.000000</td>\n",
       "      <td>0.564516</td>\n",
       "      <td>0.6875</td>\n",
       "    </tr>\n",
       "    <tr>\n",
       "      <th>CD003</th>\n",
       "      <td>0.138889</td>\n",
       "      <td>0.000903</td>\n",
       "      <td>0.000000</td>\n",
       "      <td>0.5625</td>\n",
       "    </tr>\n",
       "    <tr>\n",
       "      <th>CD004</th>\n",
       "      <td>0.916667</td>\n",
       "      <td>0.837545</td>\n",
       "      <td>0.258065</td>\n",
       "      <td>0.7500</td>\n",
       "    </tr>\n",
       "    <tr>\n",
       "      <th>CD005</th>\n",
       "      <td>0.194444</td>\n",
       "      <td>0.014440</td>\n",
       "      <td>0.403226</td>\n",
       "      <td>0.5625</td>\n",
       "    </tr>\n",
       "  </tbody>\n",
       "</table>\n",
       "</div>"
      ],
      "text/plain": [
       "            ESR       CRP       hct     alb\n",
       "ID                                         \n",
       "CD001  0.277778  0.052347  0.475806  0.6875\n",
       "CD002  0.000000  0.000000  0.564516  0.6875\n",
       "CD003  0.138889  0.000903  0.000000  0.5625\n",
       "CD004  0.916667  0.837545  0.258065  0.7500\n",
       "CD005  0.194444  0.014440  0.403226  0.5625"
      ]
     },
     "execution_count": 553,
     "metadata": {},
     "output_type": "execute_result"
    }
   ],
   "source": [
    "labs_i_s = scale_labs(labs_i)\n",
    "labs_i_s.head()"
   ]
  },
  {
   "cell_type": "markdown",
   "metadata": {},
   "source": [
    "## Cognition"
   ]
  },
  {
   "cell_type": "code",
   "execution_count": 114,
   "metadata": {
    "ExecuteTime": {
     "end_time": "2016-05-05T13:34:57.988980",
     "start_time": "2016-05-05T13:34:57.977390"
    },
    "collapsed": false
   },
   "outputs": [
    {
     "data": {
      "text/html": [
       "<div>\n",
       "<table border=\"1\" class=\"dataframe\">\n",
       "  <thead>\n",
       "    <tr style=\"text-align: right;\">\n",
       "      <th></th>\n",
       "      <th>VIQ</th>\n",
       "      <th>PIQ</th>\n",
       "      <th>FSIQ4</th>\n",
       "    </tr>\n",
       "    <tr>\n",
       "      <th>ID</th>\n",
       "      <th></th>\n",
       "      <th></th>\n",
       "      <th></th>\n",
       "    </tr>\n",
       "  </thead>\n",
       "  <tbody>\n",
       "    <tr>\n",
       "      <th>CD001</th>\n",
       "      <td>115</td>\n",
       "      <td>103</td>\n",
       "      <td>110</td>\n",
       "    </tr>\n",
       "    <tr>\n",
       "      <th>CD002</th>\n",
       "      <td>118</td>\n",
       "      <td>118</td>\n",
       "      <td>120</td>\n",
       "    </tr>\n",
       "    <tr>\n",
       "      <th>CD003</th>\n",
       "      <td>105</td>\n",
       "      <td>131</td>\n",
       "      <td>118</td>\n",
       "    </tr>\n",
       "    <tr>\n",
       "      <th>CD004</th>\n",
       "      <td>104</td>\n",
       "      <td>103</td>\n",
       "      <td>104</td>\n",
       "    </tr>\n",
       "    <tr>\n",
       "      <th>CD005</th>\n",
       "      <td>125</td>\n",
       "      <td>131</td>\n",
       "      <td>132</td>\n",
       "    </tr>\n",
       "  </tbody>\n",
       "</table>\n",
       "</div>"
      ],
      "text/plain": [
       "       VIQ  PIQ  FSIQ4\n",
       "ID                    \n",
       "CD001  115  103    110\n",
       "CD002  118  118    120\n",
       "CD003  105  131    118\n",
       "CD004  104  103    104\n",
       "CD005  125  131    132"
      ]
     },
     "execution_count": 114,
     "metadata": {},
     "output_type": "execute_result"
    }
   ],
   "source": [
    "cognition.head()"
   ]
  },
  {
   "cell_type": "code",
   "execution_count": 352,
   "metadata": {
    "ExecuteTime": {
     "end_time": "2016-05-05T16:21:07.130808",
     "start_time": "2016-05-05T16:21:07.100567"
    },
    "collapsed": false
   },
   "outputs": [
    {
     "name": "stderr",
     "output_type": "stream",
     "text": [
      "/home/gus/.anaconda/envs/chri-mri/lib/python3.5/site-packages/sklearn/utils/validation.py:420: DataConversionWarning: Data with input dtype int64 was converted to float64.\n",
      "  warnings.warn(msg, DataConversionWarning)\n",
      "/home/gus/.anaconda/envs/chri-mri/lib/python3.5/site-packages/sklearn/utils/validation.py:420: DataConversionWarning: Data with input dtype int64 was converted to float64.\n",
      "  warnings.warn(msg, DataConversionWarning)\n",
      "/home/gus/.anaconda/envs/chri-mri/lib/python3.5/site-packages/sklearn/utils/validation.py:420: DataConversionWarning: Data with input dtype int64 was converted to float64.\n",
      "  warnings.warn(msg, DataConversionWarning)\n"
     ]
    },
    {
     "data": {
      "text/html": [
       "<div>\n",
       "<table border=\"1\" class=\"dataframe\">\n",
       "  <thead>\n",
       "    <tr style=\"text-align: right;\">\n",
       "      <th></th>\n",
       "      <th>VIQ</th>\n",
       "      <th>PIQ</th>\n",
       "      <th>FSIQ4</th>\n",
       "    </tr>\n",
       "    <tr>\n",
       "      <th>ID</th>\n",
       "      <th></th>\n",
       "      <th></th>\n",
       "      <th></th>\n",
       "    </tr>\n",
       "  </thead>\n",
       "  <tbody>\n",
       "    <tr>\n",
       "      <th>CD001</th>\n",
       "      <td>0.434783</td>\n",
       "      <td>0.461538</td>\n",
       "      <td>0.428571</td>\n",
       "    </tr>\n",
       "    <tr>\n",
       "      <th>CD002</th>\n",
       "      <td>0.500000</td>\n",
       "      <td>0.750000</td>\n",
       "      <td>0.632653</td>\n",
       "    </tr>\n",
       "    <tr>\n",
       "      <th>CD003</th>\n",
       "      <td>0.217391</td>\n",
       "      <td>1.000000</td>\n",
       "      <td>0.591837</td>\n",
       "    </tr>\n",
       "    <tr>\n",
       "      <th>CD004</th>\n",
       "      <td>0.195652</td>\n",
       "      <td>0.461538</td>\n",
       "      <td>0.306122</td>\n",
       "    </tr>\n",
       "    <tr>\n",
       "      <th>CD005</th>\n",
       "      <td>0.652174</td>\n",
       "      <td>1.000000</td>\n",
       "      <td>0.877551</td>\n",
       "    </tr>\n",
       "  </tbody>\n",
       "</table>\n",
       "</div>"
      ],
      "text/plain": [
       "            VIQ       PIQ     FSIQ4\n",
       "ID                                 \n",
       "CD001  0.434783  0.461538  0.428571\n",
       "CD002  0.500000  0.750000  0.632653\n",
       "CD003  0.217391  1.000000  0.591837\n",
       "CD004  0.195652  0.461538  0.306122\n",
       "CD005  0.652174  1.000000  0.877551"
      ]
     },
     "execution_count": 352,
     "metadata": {},
     "output_type": "execute_result"
    }
   ],
   "source": [
    "cognition_s = scale_cognition(cognition)\n",
    "cognition_s.head()"
   ]
  },
  {
   "cell_type": "markdown",
   "metadata": {},
   "source": [
    "## Thick_left"
   ]
  },
  {
   "cell_type": "code",
   "execution_count": 119,
   "metadata": {
    "ExecuteTime": {
     "end_time": "2016-05-05T13:38:24.458905",
     "start_time": "2016-05-05T13:38:24.417870"
    },
    "collapsed": false
   },
   "outputs": [
    {
     "data": {
      "text/html": [
       "<div>\n",
       "<table border=\"1\" class=\"dataframe\">\n",
       "  <thead>\n",
       "    <tr style=\"text-align: right;\">\n",
       "      <th></th>\n",
       "      <th>lcACC</th>\n",
       "      <th>lcMFG</th>\n",
       "      <th>lCUN</th>\n",
       "      <th>lENT</th>\n",
       "      <th>lFUS</th>\n",
       "      <th>lIPL</th>\n",
       "      <th>lITG</th>\n",
       "      <th>liCC</th>\n",
       "      <th>lLOG</th>\n",
       "      <th>lLOF</th>\n",
       "      <th>...</th>\n",
       "      <th>lPCUN</th>\n",
       "      <th>lrACC</th>\n",
       "      <th>lrMFG</th>\n",
       "      <th>lSFG</th>\n",
       "      <th>lSPL</th>\n",
       "      <th>lSTG</th>\n",
       "      <th>lSMAR</th>\n",
       "      <th>lTT</th>\n",
       "      <th>lINS</th>\n",
       "      <th>LH_MeanThickness</th>\n",
       "    </tr>\n",
       "    <tr>\n",
       "      <th>ID</th>\n",
       "      <th></th>\n",
       "      <th></th>\n",
       "      <th></th>\n",
       "      <th></th>\n",
       "      <th></th>\n",
       "      <th></th>\n",
       "      <th></th>\n",
       "      <th></th>\n",
       "      <th></th>\n",
       "      <th></th>\n",
       "      <th></th>\n",
       "      <th></th>\n",
       "      <th></th>\n",
       "      <th></th>\n",
       "      <th></th>\n",
       "      <th></th>\n",
       "      <th></th>\n",
       "      <th></th>\n",
       "      <th></th>\n",
       "      <th></th>\n",
       "      <th></th>\n",
       "    </tr>\n",
       "  </thead>\n",
       "  <tbody>\n",
       "    <tr>\n",
       "      <th>CD001</th>\n",
       "      <td>3.047</td>\n",
       "      <td>2.899</td>\n",
       "      <td>2.066</td>\n",
       "      <td>3.804</td>\n",
       "      <td>2.915</td>\n",
       "      <td>2.718</td>\n",
       "      <td>3.159</td>\n",
       "      <td>2.952</td>\n",
       "      <td>2.443</td>\n",
       "      <td>3.085</td>\n",
       "      <td>...</td>\n",
       "      <td>2.577</td>\n",
       "      <td>3.197</td>\n",
       "      <td>2.790</td>\n",
       "      <td>3.073</td>\n",
       "      <td>2.484</td>\n",
       "      <td>3.293</td>\n",
       "      <td>2.898</td>\n",
       "      <td>2.851</td>\n",
       "      <td>3.306</td>\n",
       "      <td>2.82100</td>\n",
       "    </tr>\n",
       "    <tr>\n",
       "      <th>CD002</th>\n",
       "      <td>2.894</td>\n",
       "      <td>2.734</td>\n",
       "      <td>1.970</td>\n",
       "      <td>3.363</td>\n",
       "      <td>3.016</td>\n",
       "      <td>2.663</td>\n",
       "      <td>3.018</td>\n",
       "      <td>2.582</td>\n",
       "      <td>2.230</td>\n",
       "      <td>2.758</td>\n",
       "      <td>...</td>\n",
       "      <td>2.568</td>\n",
       "      <td>2.950</td>\n",
       "      <td>2.718</td>\n",
       "      <td>2.878</td>\n",
       "      <td>2.355</td>\n",
       "      <td>3.057</td>\n",
       "      <td>2.910</td>\n",
       "      <td>2.726</td>\n",
       "      <td>3.459</td>\n",
       "      <td>2.68657</td>\n",
       "    </tr>\n",
       "    <tr>\n",
       "      <th>CD003</th>\n",
       "      <td>2.611</td>\n",
       "      <td>2.720</td>\n",
       "      <td>2.076</td>\n",
       "      <td>3.566</td>\n",
       "      <td>2.736</td>\n",
       "      <td>2.584</td>\n",
       "      <td>3.065</td>\n",
       "      <td>2.621</td>\n",
       "      <td>2.314</td>\n",
       "      <td>2.812</td>\n",
       "      <td>...</td>\n",
       "      <td>2.530</td>\n",
       "      <td>2.952</td>\n",
       "      <td>2.640</td>\n",
       "      <td>2.947</td>\n",
       "      <td>2.358</td>\n",
       "      <td>2.941</td>\n",
       "      <td>2.712</td>\n",
       "      <td>2.248</td>\n",
       "      <td>3.210</td>\n",
       "      <td>2.64565</td>\n",
       "    </tr>\n",
       "    <tr>\n",
       "      <th>CD004</th>\n",
       "      <td>2.847</td>\n",
       "      <td>2.864</td>\n",
       "      <td>1.828</td>\n",
       "      <td>3.789</td>\n",
       "      <td>2.890</td>\n",
       "      <td>2.601</td>\n",
       "      <td>3.030</td>\n",
       "      <td>2.351</td>\n",
       "      <td>2.253</td>\n",
       "      <td>3.160</td>\n",
       "      <td>...</td>\n",
       "      <td>2.494</td>\n",
       "      <td>3.158</td>\n",
       "      <td>2.677</td>\n",
       "      <td>3.069</td>\n",
       "      <td>2.342</td>\n",
       "      <td>3.079</td>\n",
       "      <td>2.754</td>\n",
       "      <td>2.504</td>\n",
       "      <td>3.287</td>\n",
       "      <td>2.68975</td>\n",
       "    </tr>\n",
       "    <tr>\n",
       "      <th>CD005</th>\n",
       "      <td>2.839</td>\n",
       "      <td>3.011</td>\n",
       "      <td>2.142</td>\n",
       "      <td>3.441</td>\n",
       "      <td>2.999</td>\n",
       "      <td>2.733</td>\n",
       "      <td>3.287</td>\n",
       "      <td>2.573</td>\n",
       "      <td>2.428</td>\n",
       "      <td>3.016</td>\n",
       "      <td>...</td>\n",
       "      <td>2.706</td>\n",
       "      <td>3.191</td>\n",
       "      <td>2.678</td>\n",
       "      <td>3.082</td>\n",
       "      <td>2.516</td>\n",
       "      <td>3.295</td>\n",
       "      <td>2.915</td>\n",
       "      <td>2.921</td>\n",
       "      <td>3.415</td>\n",
       "      <td>2.81904</td>\n",
       "    </tr>\n",
       "  </tbody>\n",
       "</table>\n",
       "<p>5 rows × 32 columns</p>\n",
       "</div>"
      ],
      "text/plain": [
       "       lcACC  lcMFG   lCUN   lENT   lFUS   lIPL   lITG   liCC   lLOG   lLOF  \\\n",
       "ID                                                                            \n",
       "CD001  3.047  2.899  2.066  3.804  2.915  2.718  3.159  2.952  2.443  3.085   \n",
       "CD002  2.894  2.734  1.970  3.363  3.016  2.663  3.018  2.582  2.230  2.758   \n",
       "CD003  2.611  2.720  2.076  3.566  2.736  2.584  3.065  2.621  2.314  2.812   \n",
       "CD004  2.847  2.864  1.828  3.789  2.890  2.601  3.030  2.351  2.253  3.160   \n",
       "CD005  2.839  3.011  2.142  3.441  2.999  2.733  3.287  2.573  2.428  3.016   \n",
       "\n",
       "             ...         lPCUN  lrACC  lrMFG   lSFG   lSPL   lSTG  lSMAR  \\\n",
       "ID           ...                                                           \n",
       "CD001        ...         2.577  3.197  2.790  3.073  2.484  3.293  2.898   \n",
       "CD002        ...         2.568  2.950  2.718  2.878  2.355  3.057  2.910   \n",
       "CD003        ...         2.530  2.952  2.640  2.947  2.358  2.941  2.712   \n",
       "CD004        ...         2.494  3.158  2.677  3.069  2.342  3.079  2.754   \n",
       "CD005        ...         2.706  3.191  2.678  3.082  2.516  3.295  2.915   \n",
       "\n",
       "         lTT   lINS  LH_MeanThickness  \n",
       "ID                                     \n",
       "CD001  2.851  3.306           2.82100  \n",
       "CD002  2.726  3.459           2.68657  \n",
       "CD003  2.248  3.210           2.64565  \n",
       "CD004  2.504  3.287           2.68975  \n",
       "CD005  2.921  3.415           2.81904  \n",
       "\n",
       "[5 rows x 32 columns]"
      ]
     },
     "execution_count": 119,
     "metadata": {},
     "output_type": "execute_result"
    }
   ],
   "source": [
    "thick_left.head()"
   ]
  },
  {
   "cell_type": "code",
   "execution_count": 351,
   "metadata": {
    "ExecuteTime": {
     "end_time": "2016-05-05T16:20:42.894300",
     "start_time": "2016-05-05T16:20:42.684891"
    },
    "collapsed": false
   },
   "outputs": [
    {
     "data": {
      "text/html": [
       "<div>\n",
       "<table border=\"1\" class=\"dataframe\">\n",
       "  <thead>\n",
       "    <tr style=\"text-align: right;\">\n",
       "      <th></th>\n",
       "      <th>lcACC</th>\n",
       "      <th>lcMFG</th>\n",
       "      <th>lCUN</th>\n",
       "      <th>lENT</th>\n",
       "      <th>lFUS</th>\n",
       "      <th>lIPL</th>\n",
       "      <th>lITG</th>\n",
       "      <th>liCC</th>\n",
       "      <th>lLOG</th>\n",
       "      <th>lLOF</th>\n",
       "      <th>...</th>\n",
       "      <th>lPCUN</th>\n",
       "      <th>lrACC</th>\n",
       "      <th>lrMFG</th>\n",
       "      <th>lSFG</th>\n",
       "      <th>lSPL</th>\n",
       "      <th>lSTG</th>\n",
       "      <th>lSMAR</th>\n",
       "      <th>lTT</th>\n",
       "      <th>lINS</th>\n",
       "      <th>LH_MeanThickness</th>\n",
       "    </tr>\n",
       "    <tr>\n",
       "      <th>ID</th>\n",
       "      <th></th>\n",
       "      <th></th>\n",
       "      <th></th>\n",
       "      <th></th>\n",
       "      <th></th>\n",
       "      <th></th>\n",
       "      <th></th>\n",
       "      <th></th>\n",
       "      <th></th>\n",
       "      <th></th>\n",
       "      <th></th>\n",
       "      <th></th>\n",
       "      <th></th>\n",
       "      <th></th>\n",
       "      <th></th>\n",
       "      <th></th>\n",
       "      <th></th>\n",
       "      <th></th>\n",
       "      <th></th>\n",
       "      <th></th>\n",
       "      <th></th>\n",
       "    </tr>\n",
       "  </thead>\n",
       "  <tbody>\n",
       "    <tr>\n",
       "      <th>CD001</th>\n",
       "      <td>0.836151</td>\n",
       "      <td>0.690323</td>\n",
       "      <td>0.418605</td>\n",
       "      <td>0.788321</td>\n",
       "      <td>0.775056</td>\n",
       "      <td>0.512308</td>\n",
       "      <td>0.722343</td>\n",
       "      <td>0.877301</td>\n",
       "      <td>0.933439</td>\n",
       "      <td>0.647335</td>\n",
       "      <td>...</td>\n",
       "      <td>0.450223</td>\n",
       "      <td>0.612944</td>\n",
       "      <td>0.608108</td>\n",
       "      <td>0.729412</td>\n",
       "      <td>0.688857</td>\n",
       "      <td>0.996422</td>\n",
       "      <td>0.680934</td>\n",
       "      <td>0.712607</td>\n",
       "      <td>0.616438</td>\n",
       "      <td>0.890121</td>\n",
       "    </tr>\n",
       "    <tr>\n",
       "      <th>CD002</th>\n",
       "      <td>0.637191</td>\n",
       "      <td>0.335484</td>\n",
       "      <td>0.301102</td>\n",
       "      <td>0.430657</td>\n",
       "      <td>1.000000</td>\n",
       "      <td>0.427692</td>\n",
       "      <td>0.416486</td>\n",
       "      <td>0.423313</td>\n",
       "      <td>0.595880</td>\n",
       "      <td>0.134796</td>\n",
       "      <td>...</td>\n",
       "      <td>0.436850</td>\n",
       "      <td>0.299492</td>\n",
       "      <td>0.486486</td>\n",
       "      <td>0.347059</td>\n",
       "      <td>0.502171</td>\n",
       "      <td>0.574240</td>\n",
       "      <td>0.704280</td>\n",
       "      <td>0.579060</td>\n",
       "      <td>0.915851</td>\n",
       "      <td>0.548658</td>\n",
       "    </tr>\n",
       "    <tr>\n",
       "      <th>CD003</th>\n",
       "      <td>0.269181</td>\n",
       "      <td>0.305376</td>\n",
       "      <td>0.430845</td>\n",
       "      <td>0.595296</td>\n",
       "      <td>0.376392</td>\n",
       "      <td>0.306154</td>\n",
       "      <td>0.518438</td>\n",
       "      <td>0.471166</td>\n",
       "      <td>0.729002</td>\n",
       "      <td>0.219436</td>\n",
       "      <td>...</td>\n",
       "      <td>0.380386</td>\n",
       "      <td>0.302030</td>\n",
       "      <td>0.354730</td>\n",
       "      <td>0.482353</td>\n",
       "      <td>0.506512</td>\n",
       "      <td>0.366726</td>\n",
       "      <td>0.319066</td>\n",
       "      <td>0.068376</td>\n",
       "      <td>0.428571</td>\n",
       "      <td>0.444718</td>\n",
       "    </tr>\n",
       "    <tr>\n",
       "      <th>CD004</th>\n",
       "      <td>0.576073</td>\n",
       "      <td>0.615054</td>\n",
       "      <td>0.127295</td>\n",
       "      <td>0.776156</td>\n",
       "      <td>0.719376</td>\n",
       "      <td>0.332308</td>\n",
       "      <td>0.442516</td>\n",
       "      <td>0.139877</td>\n",
       "      <td>0.632330</td>\n",
       "      <td>0.764890</td>\n",
       "      <td>...</td>\n",
       "      <td>0.326895</td>\n",
       "      <td>0.563452</td>\n",
       "      <td>0.417230</td>\n",
       "      <td>0.721569</td>\n",
       "      <td>0.483357</td>\n",
       "      <td>0.613596</td>\n",
       "      <td>0.400778</td>\n",
       "      <td>0.341880</td>\n",
       "      <td>0.579256</td>\n",
       "      <td>0.556735</td>\n",
       "    </tr>\n",
       "    <tr>\n",
       "      <th>CD005</th>\n",
       "      <td>0.565670</td>\n",
       "      <td>0.931183</td>\n",
       "      <td>0.511628</td>\n",
       "      <td>0.493917</td>\n",
       "      <td>0.962138</td>\n",
       "      <td>0.535385</td>\n",
       "      <td>1.000000</td>\n",
       "      <td>0.412270</td>\n",
       "      <td>0.909667</td>\n",
       "      <td>0.539185</td>\n",
       "      <td>...</td>\n",
       "      <td>0.641902</td>\n",
       "      <td>0.605330</td>\n",
       "      <td>0.418919</td>\n",
       "      <td>0.747059</td>\n",
       "      <td>0.735166</td>\n",
       "      <td>1.000000</td>\n",
       "      <td>0.714008</td>\n",
       "      <td>0.787393</td>\n",
       "      <td>0.829746</td>\n",
       "      <td>0.885142</td>\n",
       "    </tr>\n",
       "  </tbody>\n",
       "</table>\n",
       "<p>5 rows × 32 columns</p>\n",
       "</div>"
      ],
      "text/plain": [
       "          lcACC     lcMFG      lCUN      lENT      lFUS      lIPL      lITG  \\\n",
       "ID                                                                            \n",
       "CD001  0.836151  0.690323  0.418605  0.788321  0.775056  0.512308  0.722343   \n",
       "CD002  0.637191  0.335484  0.301102  0.430657  1.000000  0.427692  0.416486   \n",
       "CD003  0.269181  0.305376  0.430845  0.595296  0.376392  0.306154  0.518438   \n",
       "CD004  0.576073  0.615054  0.127295  0.776156  0.719376  0.332308  0.442516   \n",
       "CD005  0.565670  0.931183  0.511628  0.493917  0.962138  0.535385  1.000000   \n",
       "\n",
       "           liCC      lLOG      lLOF        ...            lPCUN     lrACC  \\\n",
       "ID                                         ...                              \n",
       "CD001  0.877301  0.933439  0.647335        ...         0.450223  0.612944   \n",
       "CD002  0.423313  0.595880  0.134796        ...         0.436850  0.299492   \n",
       "CD003  0.471166  0.729002  0.219436        ...         0.380386  0.302030   \n",
       "CD004  0.139877  0.632330  0.764890        ...         0.326895  0.563452   \n",
       "CD005  0.412270  0.909667  0.539185        ...         0.641902  0.605330   \n",
       "\n",
       "          lrMFG      lSFG      lSPL      lSTG     lSMAR       lTT      lINS  \\\n",
       "ID                                                                            \n",
       "CD001  0.608108  0.729412  0.688857  0.996422  0.680934  0.712607  0.616438   \n",
       "CD002  0.486486  0.347059  0.502171  0.574240  0.704280  0.579060  0.915851   \n",
       "CD003  0.354730  0.482353  0.506512  0.366726  0.319066  0.068376  0.428571   \n",
       "CD004  0.417230  0.721569  0.483357  0.613596  0.400778  0.341880  0.579256   \n",
       "CD005  0.418919  0.747059  0.735166  1.000000  0.714008  0.787393  0.829746   \n",
       "\n",
       "       LH_MeanThickness  \n",
       "ID                       \n",
       "CD001          0.890121  \n",
       "CD002          0.548658  \n",
       "CD003          0.444718  \n",
       "CD004          0.556735  \n",
       "CD005          0.885142  \n",
       "\n",
       "[5 rows x 32 columns]"
      ]
     },
     "execution_count": 351,
     "metadata": {},
     "output_type": "execute_result"
    }
   ],
   "source": [
    "thick_left_s = scale_thick_left(thick_left)\n",
    "thick_left_s.head()"
   ]
  },
  {
   "cell_type": "markdown",
   "metadata": {},
   "source": [
    "## Thick_right"
   ]
  },
  {
   "cell_type": "code",
   "execution_count": 120,
   "metadata": {
    "ExecuteTime": {
     "end_time": "2016-05-05T13:39:18.678695",
     "start_time": "2016-05-05T13:39:18.632836"
    },
    "collapsed": false
   },
   "outputs": [
    {
     "data": {
      "text/html": [
       "<div>\n",
       "<table border=\"1\" class=\"dataframe\">\n",
       "  <thead>\n",
       "    <tr style=\"text-align: right;\">\n",
       "      <th></th>\n",
       "      <th>rcACC</th>\n",
       "      <th>rcMFG</th>\n",
       "      <th>rCUN</th>\n",
       "      <th>rENT</th>\n",
       "      <th>rFUS</th>\n",
       "      <th>rIPL</th>\n",
       "      <th>rITG</th>\n",
       "      <th>riCC</th>\n",
       "      <th>rLOG</th>\n",
       "      <th>rLOF</th>\n",
       "      <th>...</th>\n",
       "      <th>rPCUN</th>\n",
       "      <th>rrACC</th>\n",
       "      <th>rrMFG</th>\n",
       "      <th>rSFG</th>\n",
       "      <th>rSPL</th>\n",
       "      <th>rSTG</th>\n",
       "      <th>rSMAR</th>\n",
       "      <th>rTT</th>\n",
       "      <th>rINS</th>\n",
       "      <th>RH_MeanThickness</th>\n",
       "    </tr>\n",
       "    <tr>\n",
       "      <th>ID</th>\n",
       "      <th></th>\n",
       "      <th></th>\n",
       "      <th></th>\n",
       "      <th></th>\n",
       "      <th></th>\n",
       "      <th></th>\n",
       "      <th></th>\n",
       "      <th></th>\n",
       "      <th></th>\n",
       "      <th></th>\n",
       "      <th></th>\n",
       "      <th></th>\n",
       "      <th></th>\n",
       "      <th></th>\n",
       "      <th></th>\n",
       "      <th></th>\n",
       "      <th></th>\n",
       "      <th></th>\n",
       "      <th></th>\n",
       "      <th></th>\n",
       "      <th></th>\n",
       "    </tr>\n",
       "  </thead>\n",
       "  <tbody>\n",
       "    <tr>\n",
       "      <th>CD001</th>\n",
       "      <td>2.695</td>\n",
       "      <td>2.759</td>\n",
       "      <td>2.168</td>\n",
       "      <td>3.615</td>\n",
       "      <td>3.063</td>\n",
       "      <td>2.796</td>\n",
       "      <td>3.287</td>\n",
       "      <td>2.279</td>\n",
       "      <td>2.629</td>\n",
       "      <td>2.846</td>\n",
       "      <td>...</td>\n",
       "      <td>2.619</td>\n",
       "      <td>3.286</td>\n",
       "      <td>2.627</td>\n",
       "      <td>2.810</td>\n",
       "      <td>2.563</td>\n",
       "      <td>3.267</td>\n",
       "      <td>2.725</td>\n",
       "      <td>2.689</td>\n",
       "      <td>3.455</td>\n",
       "      <td>2.77389</td>\n",
       "    </tr>\n",
       "    <tr>\n",
       "      <th>CD002</th>\n",
       "      <td>2.482</td>\n",
       "      <td>2.635</td>\n",
       "      <td>2.032</td>\n",
       "      <td>3.430</td>\n",
       "      <td>2.888</td>\n",
       "      <td>2.802</td>\n",
       "      <td>3.027</td>\n",
       "      <td>2.635</td>\n",
       "      <td>2.275</td>\n",
       "      <td>2.910</td>\n",
       "      <td>...</td>\n",
       "      <td>2.536</td>\n",
       "      <td>3.252</td>\n",
       "      <td>2.464</td>\n",
       "      <td>2.890</td>\n",
       "      <td>2.420</td>\n",
       "      <td>3.064</td>\n",
       "      <td>2.833</td>\n",
       "      <td>2.620</td>\n",
       "      <td>3.190</td>\n",
       "      <td>2.64032</td>\n",
       "    </tr>\n",
       "    <tr>\n",
       "      <th>CD003</th>\n",
       "      <td>2.518</td>\n",
       "      <td>2.591</td>\n",
       "      <td>2.048</td>\n",
       "      <td>3.700</td>\n",
       "      <td>2.876</td>\n",
       "      <td>2.660</td>\n",
       "      <td>3.010</td>\n",
       "      <td>2.394</td>\n",
       "      <td>2.337</td>\n",
       "      <td>2.721</td>\n",
       "      <td>...</td>\n",
       "      <td>2.586</td>\n",
       "      <td>2.922</td>\n",
       "      <td>2.476</td>\n",
       "      <td>2.845</td>\n",
       "      <td>2.400</td>\n",
       "      <td>3.049</td>\n",
       "      <td>2.891</td>\n",
       "      <td>2.892</td>\n",
       "      <td>3.245</td>\n",
       "      <td>2.65053</td>\n",
       "    </tr>\n",
       "    <tr>\n",
       "      <th>CD004</th>\n",
       "      <td>2.730</td>\n",
       "      <td>2.775</td>\n",
       "      <td>1.964</td>\n",
       "      <td>3.252</td>\n",
       "      <td>2.844</td>\n",
       "      <td>2.689</td>\n",
       "      <td>3.069</td>\n",
       "      <td>2.271</td>\n",
       "      <td>2.248</td>\n",
       "      <td>3.005</td>\n",
       "      <td>...</td>\n",
       "      <td>2.484</td>\n",
       "      <td>3.079</td>\n",
       "      <td>2.597</td>\n",
       "      <td>2.859</td>\n",
       "      <td>2.333</td>\n",
       "      <td>3.210</td>\n",
       "      <td>2.824</td>\n",
       "      <td>2.624</td>\n",
       "      <td>3.265</td>\n",
       "      <td>2.68730</td>\n",
       "    </tr>\n",
       "    <tr>\n",
       "      <th>CD005</th>\n",
       "      <td>2.776</td>\n",
       "      <td>2.895</td>\n",
       "      <td>1.933</td>\n",
       "      <td>3.338</td>\n",
       "      <td>3.102</td>\n",
       "      <td>2.856</td>\n",
       "      <td>3.266</td>\n",
       "      <td>2.497</td>\n",
       "      <td>2.414</td>\n",
       "      <td>2.834</td>\n",
       "      <td>...</td>\n",
       "      <td>2.645</td>\n",
       "      <td>3.021</td>\n",
       "      <td>2.653</td>\n",
       "      <td>3.035</td>\n",
       "      <td>2.546</td>\n",
       "      <td>3.379</td>\n",
       "      <td>2.855</td>\n",
       "      <td>3.111</td>\n",
       "      <td>3.383</td>\n",
       "      <td>2.79935</td>\n",
       "    </tr>\n",
       "  </tbody>\n",
       "</table>\n",
       "<p>5 rows × 32 columns</p>\n",
       "</div>"
      ],
      "text/plain": [
       "       rcACC  rcMFG   rCUN   rENT   rFUS   rIPL   rITG   riCC   rLOG   rLOF  \\\n",
       "ID                                                                            \n",
       "CD001  2.695  2.759  2.168  3.615  3.063  2.796  3.287  2.279  2.629  2.846   \n",
       "CD002  2.482  2.635  2.032  3.430  2.888  2.802  3.027  2.635  2.275  2.910   \n",
       "CD003  2.518  2.591  2.048  3.700  2.876  2.660  3.010  2.394  2.337  2.721   \n",
       "CD004  2.730  2.775  1.964  3.252  2.844  2.689  3.069  2.271  2.248  3.005   \n",
       "CD005  2.776  2.895  1.933  3.338  3.102  2.856  3.266  2.497  2.414  2.834   \n",
       "\n",
       "             ...         rPCUN  rrACC  rrMFG   rSFG   rSPL   rSTG  rSMAR  \\\n",
       "ID           ...                                                           \n",
       "CD001        ...         2.619  3.286  2.627  2.810  2.563  3.267  2.725   \n",
       "CD002        ...         2.536  3.252  2.464  2.890  2.420  3.064  2.833   \n",
       "CD003        ...         2.586  2.922  2.476  2.845  2.400  3.049  2.891   \n",
       "CD004        ...         2.484  3.079  2.597  2.859  2.333  3.210  2.824   \n",
       "CD005        ...         2.645  3.021  2.653  3.035  2.546  3.379  2.855   \n",
       "\n",
       "         rTT   rINS  RH_MeanThickness  \n",
       "ID                                     \n",
       "CD001  2.689  3.455           2.77389  \n",
       "CD002  2.620  3.190           2.64032  \n",
       "CD003  2.892  3.245           2.65053  \n",
       "CD004  2.624  3.265           2.68730  \n",
       "CD005  3.111  3.383           2.79935  \n",
       "\n",
       "[5 rows x 32 columns]"
      ]
     },
     "execution_count": 120,
     "metadata": {},
     "output_type": "execute_result"
    }
   ],
   "source": [
    "thick_right.head()"
   ]
  },
  {
   "cell_type": "code",
   "execution_count": 121,
   "metadata": {
    "ExecuteTime": {
     "end_time": "2016-05-05T16:20:15.197543",
     "start_time": "2016-05-05T16:20:12.624945"
    },
    "collapsed": false
   },
   "outputs": [
    {
     "data": {
      "text/html": [
       "<div>\n",
       "<table border=\"1\" class=\"dataframe\">\n",
       "  <thead>\n",
       "    <tr style=\"text-align: right;\">\n",
       "      <th></th>\n",
       "      <th>rcACC</th>\n",
       "      <th>rcMFG</th>\n",
       "      <th>rCUN</th>\n",
       "      <th>rENT</th>\n",
       "      <th>rFUS</th>\n",
       "      <th>rIPL</th>\n",
       "      <th>rITG</th>\n",
       "      <th>riCC</th>\n",
       "      <th>rLOG</th>\n",
       "      <th>rLOF</th>\n",
       "      <th>...</th>\n",
       "      <th>rPCUN</th>\n",
       "      <th>rrACC</th>\n",
       "      <th>rrMFG</th>\n",
       "      <th>rSFG</th>\n",
       "      <th>rSPL</th>\n",
       "      <th>rSTG</th>\n",
       "      <th>rSMAR</th>\n",
       "      <th>rTT</th>\n",
       "      <th>rINS</th>\n",
       "      <th>RH_MeanThickness</th>\n",
       "    </tr>\n",
       "    <tr>\n",
       "      <th>ID</th>\n",
       "      <th></th>\n",
       "      <th></th>\n",
       "      <th></th>\n",
       "      <th></th>\n",
       "      <th></th>\n",
       "      <th></th>\n",
       "      <th></th>\n",
       "      <th></th>\n",
       "      <th></th>\n",
       "      <th></th>\n",
       "      <th></th>\n",
       "      <th></th>\n",
       "      <th></th>\n",
       "      <th></th>\n",
       "      <th></th>\n",
       "      <th></th>\n",
       "      <th></th>\n",
       "      <th></th>\n",
       "      <th></th>\n",
       "      <th></th>\n",
       "      <th></th>\n",
       "    </tr>\n",
       "  </thead>\n",
       "  <tbody>\n",
       "    <tr>\n",
       "      <th>CD001</th>\n",
       "      <td>0.332457</td>\n",
       "      <td>0.502203</td>\n",
       "      <td>0.801887</td>\n",
       "      <td>0.346535</td>\n",
       "      <td>0.935000</td>\n",
       "      <td>0.678883</td>\n",
       "      <td>0.897655</td>\n",
       "      <td>0.227322</td>\n",
       "      <td>1.000000</td>\n",
       "      <td>0.401264</td>\n",
       "      <td>...</td>\n",
       "      <td>0.589404</td>\n",
       "      <td>0.891979</td>\n",
       "      <td>0.583916</td>\n",
       "      <td>0.363977</td>\n",
       "      <td>0.852431</td>\n",
       "      <td>0.795620</td>\n",
       "      <td>0.398126</td>\n",
       "      <td>0.580933</td>\n",
       "      <td>0.851577</td>\n",
       "      <td>0.761061</td>\n",
       "    </tr>\n",
       "    <tr>\n",
       "      <th>CD002</th>\n",
       "      <td>0.192510</td>\n",
       "      <td>0.229075</td>\n",
       "      <td>0.588050</td>\n",
       "      <td>0.205636</td>\n",
       "      <td>0.643333</td>\n",
       "      <td>0.689354</td>\n",
       "      <td>0.343284</td>\n",
       "      <td>0.616393</td>\n",
       "      <td>0.479412</td>\n",
       "      <td>0.502370</td>\n",
       "      <td>...</td>\n",
       "      <td>0.451987</td>\n",
       "      <td>0.855615</td>\n",
       "      <td>0.298951</td>\n",
       "      <td>0.514071</td>\n",
       "      <td>0.604167</td>\n",
       "      <td>0.425182</td>\n",
       "      <td>0.524590</td>\n",
       "      <td>0.512413</td>\n",
       "      <td>0.359926</td>\n",
       "      <td>0.445314</td>\n",
       "    </tr>\n",
       "    <tr>\n",
       "      <th>CD003</th>\n",
       "      <td>0.216163</td>\n",
       "      <td>0.132159</td>\n",
       "      <td>0.613208</td>\n",
       "      <td>0.411272</td>\n",
       "      <td>0.623333</td>\n",
       "      <td>0.441536</td>\n",
       "      <td>0.307036</td>\n",
       "      <td>0.353005</td>\n",
       "      <td>0.570588</td>\n",
       "      <td>0.203791</td>\n",
       "      <td>...</td>\n",
       "      <td>0.534768</td>\n",
       "      <td>0.502674</td>\n",
       "      <td>0.319930</td>\n",
       "      <td>0.429644</td>\n",
       "      <td>0.569444</td>\n",
       "      <td>0.397810</td>\n",
       "      <td>0.592506</td>\n",
       "      <td>0.782522</td>\n",
       "      <td>0.461967</td>\n",
       "      <td>0.469449</td>\n",
       "    </tr>\n",
       "    <tr>\n",
       "      <th>CD004</th>\n",
       "      <td>0.355453</td>\n",
       "      <td>0.537445</td>\n",
       "      <td>0.481132</td>\n",
       "      <td>0.070069</td>\n",
       "      <td>0.570000</td>\n",
       "      <td>0.492147</td>\n",
       "      <td>0.432836</td>\n",
       "      <td>0.218579</td>\n",
       "      <td>0.439706</td>\n",
       "      <td>0.652449</td>\n",
       "      <td>...</td>\n",
       "      <td>0.365894</td>\n",
       "      <td>0.670588</td>\n",
       "      <td>0.531469</td>\n",
       "      <td>0.455910</td>\n",
       "      <td>0.453125</td>\n",
       "      <td>0.691606</td>\n",
       "      <td>0.514052</td>\n",
       "      <td>0.516385</td>\n",
       "      <td>0.499072</td>\n",
       "      <td>0.556370</td>\n",
       "    </tr>\n",
       "    <tr>\n",
       "      <th>CD005</th>\n",
       "      <td>0.385677</td>\n",
       "      <td>0.801762</td>\n",
       "      <td>0.432390</td>\n",
       "      <td>0.135567</td>\n",
       "      <td>1.000000</td>\n",
       "      <td>0.783595</td>\n",
       "      <td>0.852878</td>\n",
       "      <td>0.465574</td>\n",
       "      <td>0.683824</td>\n",
       "      <td>0.382306</td>\n",
       "      <td>...</td>\n",
       "      <td>0.632450</td>\n",
       "      <td>0.608556</td>\n",
       "      <td>0.629371</td>\n",
       "      <td>0.786116</td>\n",
       "      <td>0.822917</td>\n",
       "      <td>1.000000</td>\n",
       "      <td>0.550351</td>\n",
       "      <td>1.000000</td>\n",
       "      <td>0.717996</td>\n",
       "      <td>0.821246</td>\n",
       "    </tr>\n",
       "  </tbody>\n",
       "</table>\n",
       "<p>5 rows × 32 columns</p>\n",
       "</div>"
      ],
      "text/plain": [
       "          rcACC     rcMFG      rCUN      rENT      rFUS      rIPL      rITG  \\\n",
       "ID                                                                            \n",
       "CD001  0.332457  0.502203  0.801887  0.346535  0.935000  0.678883  0.897655   \n",
       "CD002  0.192510  0.229075  0.588050  0.205636  0.643333  0.689354  0.343284   \n",
       "CD003  0.216163  0.132159  0.613208  0.411272  0.623333  0.441536  0.307036   \n",
       "CD004  0.355453  0.537445  0.481132  0.070069  0.570000  0.492147  0.432836   \n",
       "CD005  0.385677  0.801762  0.432390  0.135567  1.000000  0.783595  0.852878   \n",
       "\n",
       "           riCC      rLOG      rLOF        ...            rPCUN     rrACC  \\\n",
       "ID                                         ...                              \n",
       "CD001  0.227322  1.000000  0.401264        ...         0.589404  0.891979   \n",
       "CD002  0.616393  0.479412  0.502370        ...         0.451987  0.855615   \n",
       "CD003  0.353005  0.570588  0.203791        ...         0.534768  0.502674   \n",
       "CD004  0.218579  0.439706  0.652449        ...         0.365894  0.670588   \n",
       "CD005  0.465574  0.683824  0.382306        ...         0.632450  0.608556   \n",
       "\n",
       "          rrMFG      rSFG      rSPL      rSTG     rSMAR       rTT      rINS  \\\n",
       "ID                                                                            \n",
       "CD001  0.583916  0.363977  0.852431  0.795620  0.398126  0.580933  0.851577   \n",
       "CD002  0.298951  0.514071  0.604167  0.425182  0.524590  0.512413  0.359926   \n",
       "CD003  0.319930  0.429644  0.569444  0.397810  0.592506  0.782522  0.461967   \n",
       "CD004  0.531469  0.455910  0.453125  0.691606  0.514052  0.516385  0.499072   \n",
       "CD005  0.629371  0.786116  0.822917  1.000000  0.550351  1.000000  0.717996   \n",
       "\n",
       "       RH_MeanThickness  \n",
       "ID                       \n",
       "CD001          0.761061  \n",
       "CD002          0.445314  \n",
       "CD003          0.469449  \n",
       "CD004          0.556370  \n",
       "CD005          0.821246  \n",
       "\n",
       "[5 rows x 32 columns]"
      ]
     },
     "execution_count": 121,
     "metadata": {},
     "output_type": "execute_result"
    }
   ],
   "source": [
    "scale_thick_right(thick_right).head()"
   ]
  },
  {
   "cell_type": "markdown",
   "metadata": {},
   "source": [
    "## Nanostring"
   ]
  },
  {
   "cell_type": "code",
   "execution_count": 122,
   "metadata": {
    "ExecuteTime": {
     "end_time": "2016-05-05T13:39:18.678695",
     "start_time": "2016-05-05T13:39:18.632836"
    },
    "collapsed": false
   },
   "outputs": [
    {
     "data": {
      "text/html": [
       "<div>\n",
       "<table border=\"1\" class=\"dataframe\">\n",
       "  <thead>\n",
       "    <tr style=\"text-align: right;\">\n",
       "      <th></th>\n",
       "      <th>ABCB1</th>\n",
       "      <th>ABL1</th>\n",
       "      <th>ADA</th>\n",
       "      <th>AHR</th>\n",
       "      <th>AICDA</th>\n",
       "      <th>AIRE</th>\n",
       "      <th>APP</th>\n",
       "      <th>ARG1</th>\n",
       "      <th>ARG2</th>\n",
       "      <th>ARHGDIB</th>\n",
       "      <th>...</th>\n",
       "      <th>UBE2L3</th>\n",
       "      <th>VCAM1</th>\n",
       "      <th>VTN</th>\n",
       "      <th>XBP1</th>\n",
       "      <th>XCL1</th>\n",
       "      <th>XCR1</th>\n",
       "      <th>ZAP70</th>\n",
       "      <th>ZBTB16</th>\n",
       "      <th>ZEB1</th>\n",
       "      <th>sCTLA4</th>\n",
       "    </tr>\n",
       "    <tr>\n",
       "      <th>ID</th>\n",
       "      <th></th>\n",
       "      <th></th>\n",
       "      <th></th>\n",
       "      <th></th>\n",
       "      <th></th>\n",
       "      <th></th>\n",
       "      <th></th>\n",
       "      <th></th>\n",
       "      <th></th>\n",
       "      <th></th>\n",
       "      <th></th>\n",
       "      <th></th>\n",
       "      <th></th>\n",
       "      <th></th>\n",
       "      <th></th>\n",
       "      <th></th>\n",
       "      <th></th>\n",
       "      <th></th>\n",
       "      <th></th>\n",
       "      <th></th>\n",
       "      <th></th>\n",
       "    </tr>\n",
       "  </thead>\n",
       "  <tbody>\n",
       "    <tr>\n",
       "      <th>CD001</th>\n",
       "      <td>71.58</td>\n",
       "      <td>74.63</td>\n",
       "      <td>101.69</td>\n",
       "      <td>1762.32</td>\n",
       "      <td>3.06</td>\n",
       "      <td>5.67</td>\n",
       "      <td>314.67</td>\n",
       "      <td>34.48</td>\n",
       "      <td>5.67</td>\n",
       "      <td>3533.81</td>\n",
       "      <td>...</td>\n",
       "      <td>142.28</td>\n",
       "      <td>5.24</td>\n",
       "      <td>1.75</td>\n",
       "      <td>217.34</td>\n",
       "      <td>6.55</td>\n",
       "      <td>4.36</td>\n",
       "      <td>392.79</td>\n",
       "      <td>65.03</td>\n",
       "      <td>107.80</td>\n",
       "      <td>24.88</td>\n",
       "    </tr>\n",
       "    <tr>\n",
       "      <th>CD002</th>\n",
       "      <td>83.07</td>\n",
       "      <td>117.27</td>\n",
       "      <td>83.77</td>\n",
       "      <td>1072.23</td>\n",
       "      <td>4.19</td>\n",
       "      <td>6.28</td>\n",
       "      <td>392.31</td>\n",
       "      <td>112.39</td>\n",
       "      <td>12.57</td>\n",
       "      <td>3218.08</td>\n",
       "      <td>...</td>\n",
       "      <td>189.18</td>\n",
       "      <td>9.77</td>\n",
       "      <td>4.19</td>\n",
       "      <td>235.95</td>\n",
       "      <td>15.36</td>\n",
       "      <td>6.98</td>\n",
       "      <td>654.09</td>\n",
       "      <td>43.28</td>\n",
       "      <td>172.42</td>\n",
       "      <td>34.90</td>\n",
       "    </tr>\n",
       "    <tr>\n",
       "      <th>CD003</th>\n",
       "      <td>103.67</td>\n",
       "      <td>126.48</td>\n",
       "      <td>77.75</td>\n",
       "      <td>840.78</td>\n",
       "      <td>8.29</td>\n",
       "      <td>17.62</td>\n",
       "      <td>346.27</td>\n",
       "      <td>148.25</td>\n",
       "      <td>18.66</td>\n",
       "      <td>2848.92</td>\n",
       "      <td>...</td>\n",
       "      <td>143.07</td>\n",
       "      <td>4.15</td>\n",
       "      <td>5.18</td>\n",
       "      <td>236.37</td>\n",
       "      <td>9.33</td>\n",
       "      <td>14.51</td>\n",
       "      <td>713.27</td>\n",
       "      <td>74.64</td>\n",
       "      <td>123.37</td>\n",
       "      <td>37.32</td>\n",
       "    </tr>\n",
       "    <tr>\n",
       "      <th>CD004</th>\n",
       "      <td>59.45</td>\n",
       "      <td>79.27</td>\n",
       "      <td>61.11</td>\n",
       "      <td>360.03</td>\n",
       "      <td>9.91</td>\n",
       "      <td>14.86</td>\n",
       "      <td>487.19</td>\n",
       "      <td>1205.59</td>\n",
       "      <td>14.86</td>\n",
       "      <td>5732.33</td>\n",
       "      <td>...</td>\n",
       "      <td>262.59</td>\n",
       "      <td>18.17</td>\n",
       "      <td>11.56</td>\n",
       "      <td>218.00</td>\n",
       "      <td>26.42</td>\n",
       "      <td>11.56</td>\n",
       "      <td>315.43</td>\n",
       "      <td>123.86</td>\n",
       "      <td>128.82</td>\n",
       "      <td>33.03</td>\n",
       "    </tr>\n",
       "    <tr>\n",
       "      <th>CD005</th>\n",
       "      <td>74.70</td>\n",
       "      <td>64.03</td>\n",
       "      <td>92.99</td>\n",
       "      <td>1211.19</td>\n",
       "      <td>2.29</td>\n",
       "      <td>15.24</td>\n",
       "      <td>266.78</td>\n",
       "      <td>121.96</td>\n",
       "      <td>9.15</td>\n",
       "      <td>3125.15</td>\n",
       "      <td>...</td>\n",
       "      <td>131.87</td>\n",
       "      <td>11.43</td>\n",
       "      <td>8.38</td>\n",
       "      <td>202.75</td>\n",
       "      <td>11.43</td>\n",
       "      <td>3.81</td>\n",
       "      <td>370.45</td>\n",
       "      <td>74.70</td>\n",
       "      <td>112.05</td>\n",
       "      <td>22.87</td>\n",
       "    </tr>\n",
       "  </tbody>\n",
       "</table>\n",
       "<p>5 rows × 579 columns</p>\n",
       "</div>"
      ],
      "text/plain": [
       "        ABCB1    ABL1     ADA      AHR  AICDA   AIRE     APP     ARG1   ARG2  \\\n",
       "ID                                                                             \n",
       "CD001   71.58   74.63  101.69  1762.32   3.06   5.67  314.67    34.48   5.67   \n",
       "CD002   83.07  117.27   83.77  1072.23   4.19   6.28  392.31   112.39  12.57   \n",
       "CD003  103.67  126.48   77.75   840.78   8.29  17.62  346.27   148.25  18.66   \n",
       "CD004   59.45   79.27   61.11   360.03   9.91  14.86  487.19  1205.59  14.86   \n",
       "CD005   74.70   64.03   92.99  1211.19   2.29  15.24  266.78   121.96   9.15   \n",
       "\n",
       "       ARHGDIB   ...    UBE2L3  VCAM1    VTN    XBP1   XCL1   XCR1   ZAP70  \\\n",
       "ID               ...                                                         \n",
       "CD001  3533.81   ...    142.28   5.24   1.75  217.34   6.55   4.36  392.79   \n",
       "CD002  3218.08   ...    189.18   9.77   4.19  235.95  15.36   6.98  654.09   \n",
       "CD003  2848.92   ...    143.07   4.15   5.18  236.37   9.33  14.51  713.27   \n",
       "CD004  5732.33   ...    262.59  18.17  11.56  218.00  26.42  11.56  315.43   \n",
       "CD005  3125.15   ...    131.87  11.43   8.38  202.75  11.43   3.81  370.45   \n",
       "\n",
       "       ZBTB16    ZEB1  sCTLA4  \n",
       "ID                             \n",
       "CD001   65.03  107.80   24.88  \n",
       "CD002   43.28  172.42   34.90  \n",
       "CD003   74.64  123.37   37.32  \n",
       "CD004  123.86  128.82   33.03  \n",
       "CD005   74.70  112.05   22.87  \n",
       "\n",
       "[5 rows x 579 columns]"
      ]
     },
     "execution_count": 122,
     "metadata": {},
     "output_type": "execute_result"
    }
   ],
   "source": [
    "nanostring.head()"
   ]
  },
  {
   "cell_type": "code",
   "execution_count": 350,
   "metadata": {
    "ExecuteTime": {
     "end_time": "2016-05-05T16:20:15.197543",
     "start_time": "2016-05-05T16:20:12.624945"
    },
    "collapsed": false
   },
   "outputs": [
    {
     "data": {
      "text/html": [
       "<div>\n",
       "<table border=\"1\" class=\"dataframe\">\n",
       "  <thead>\n",
       "    <tr style=\"text-align: right;\">\n",
       "      <th></th>\n",
       "      <th>ABCB1</th>\n",
       "      <th>ABL1</th>\n",
       "      <th>ADA</th>\n",
       "      <th>AHR</th>\n",
       "      <th>AICDA</th>\n",
       "      <th>AIRE</th>\n",
       "      <th>APP</th>\n",
       "      <th>ARG1</th>\n",
       "      <th>ARG2</th>\n",
       "      <th>ARHGDIB</th>\n",
       "      <th>...</th>\n",
       "      <th>UBE2L3</th>\n",
       "      <th>VCAM1</th>\n",
       "      <th>VTN</th>\n",
       "      <th>XBP1</th>\n",
       "      <th>XCL1</th>\n",
       "      <th>XCR1</th>\n",
       "      <th>ZAP70</th>\n",
       "      <th>ZBTB16</th>\n",
       "      <th>ZEB1</th>\n",
       "      <th>sCTLA4</th>\n",
       "    </tr>\n",
       "    <tr>\n",
       "      <th>ID</th>\n",
       "      <th></th>\n",
       "      <th></th>\n",
       "      <th></th>\n",
       "      <th></th>\n",
       "      <th></th>\n",
       "      <th></th>\n",
       "      <th></th>\n",
       "      <th></th>\n",
       "      <th></th>\n",
       "      <th></th>\n",
       "      <th></th>\n",
       "      <th></th>\n",
       "      <th></th>\n",
       "      <th></th>\n",
       "      <th></th>\n",
       "      <th></th>\n",
       "      <th></th>\n",
       "      <th></th>\n",
       "      <th></th>\n",
       "      <th></th>\n",
       "      <th></th>\n",
       "    </tr>\n",
       "  </thead>\n",
       "  <tbody>\n",
       "    <tr>\n",
       "      <th>CD001</th>\n",
       "      <td>0.306032</td>\n",
       "      <td>0.302351</td>\n",
       "      <td>0.522867</td>\n",
       "      <td>0.998946</td>\n",
       "      <td>0.025319</td>\n",
       "      <td>0.040944</td>\n",
       "      <td>0.421879</td>\n",
       "      <td>0.011402</td>\n",
       "      <td>0.079706</td>\n",
       "      <td>0.307116</td>\n",
       "      <td>...</td>\n",
       "      <td>0.296926</td>\n",
       "      <td>0.081827</td>\n",
       "      <td>0.000000</td>\n",
       "      <td>0.432851</td>\n",
       "      <td>0.095168</td>\n",
       "      <td>0.012006</td>\n",
       "      <td>0.307793</td>\n",
       "      <td>0.044880</td>\n",
       "      <td>0.201294</td>\n",
       "      <td>0.246339</td>\n",
       "    </tr>\n",
       "    <tr>\n",
       "      <th>CD002</th>\n",
       "      <td>0.382110</td>\n",
       "      <td>0.692434</td>\n",
       "      <td>0.353186</td>\n",
       "      <td>0.510808</td>\n",
       "      <td>0.044018</td>\n",
       "      <td>0.052195</td>\n",
       "      <td>0.612014</td>\n",
       "      <td>0.060000</td>\n",
       "      <td>0.267410</td>\n",
       "      <td>0.207611</td>\n",
       "      <td>...</td>\n",
       "      <td>0.571003</td>\n",
       "      <td>0.173807</td>\n",
       "      <td>0.052530</td>\n",
       "      <td>0.521352</td>\n",
       "      <td>0.312377</td>\n",
       "      <td>0.033260</td>\n",
       "      <td>0.659906</td>\n",
       "      <td>0.022455</td>\n",
       "      <td>0.603385</td>\n",
       "      <td>0.462102</td>\n",
       "    </tr>\n",
       "    <tr>\n",
       "      <th>CD003</th>\n",
       "      <td>0.518506</td>\n",
       "      <td>0.776690</td>\n",
       "      <td>0.296184</td>\n",
       "      <td>0.347091</td>\n",
       "      <td>0.111865</td>\n",
       "      <td>0.261343</td>\n",
       "      <td>0.499265</td>\n",
       "      <td>0.082368</td>\n",
       "      <td>0.433079</td>\n",
       "      <td>0.091267</td>\n",
       "      <td>...</td>\n",
       "      <td>0.301543</td>\n",
       "      <td>0.059695</td>\n",
       "      <td>0.073843</td>\n",
       "      <td>0.523350</td>\n",
       "      <td>0.163708</td>\n",
       "      <td>0.094346</td>\n",
       "      <td>0.739654</td>\n",
       "      <td>0.054788</td>\n",
       "      <td>0.298177</td>\n",
       "      <td>0.514212</td>\n",
       "    </tr>\n",
       "    <tr>\n",
       "      <th>CD004</th>\n",
       "      <td>0.225717</td>\n",
       "      <td>0.344799</td>\n",
       "      <td>0.138623</td>\n",
       "      <td>0.007031</td>\n",
       "      <td>0.138673</td>\n",
       "      <td>0.210439</td>\n",
       "      <td>0.844370</td>\n",
       "      <td>0.741894</td>\n",
       "      <td>0.329706</td>\n",
       "      <td>1.000000</td>\n",
       "      <td>...</td>\n",
       "      <td>1.000000</td>\n",
       "      <td>0.344365</td>\n",
       "      <td>0.211195</td>\n",
       "      <td>0.435990</td>\n",
       "      <td>0.585059</td>\n",
       "      <td>0.070415</td>\n",
       "      <td>0.203547</td>\n",
       "      <td>0.105534</td>\n",
       "      <td>0.332089</td>\n",
       "      <td>0.421835</td>\n",
       "    </tr>\n",
       "    <tr>\n",
       "      <th>CD005</th>\n",
       "      <td>0.326690</td>\n",
       "      <td>0.205379</td>\n",
       "      <td>0.440489</td>\n",
       "      <td>0.609102</td>\n",
       "      <td>0.012577</td>\n",
       "      <td>0.217447</td>\n",
       "      <td>0.304599</td>\n",
       "      <td>0.065969</td>\n",
       "      <td>0.174374</td>\n",
       "      <td>0.178323</td>\n",
       "      <td>...</td>\n",
       "      <td>0.236092</td>\n",
       "      <td>0.207513</td>\n",
       "      <td>0.142734</td>\n",
       "      <td>0.363468</td>\n",
       "      <td>0.215483</td>\n",
       "      <td>0.007544</td>\n",
       "      <td>0.277689</td>\n",
       "      <td>0.054850</td>\n",
       "      <td>0.227739</td>\n",
       "      <td>0.203058</td>\n",
       "    </tr>\n",
       "  </tbody>\n",
       "</table>\n",
       "<p>5 rows × 579 columns</p>\n",
       "</div>"
      ],
      "text/plain": [
       "          ABCB1      ABL1       ADA       AHR     AICDA      AIRE       APP  \\\n",
       "ID                                                                            \n",
       "CD001  0.306032  0.302351  0.522867  0.998946  0.025319  0.040944  0.421879   \n",
       "CD002  0.382110  0.692434  0.353186  0.510808  0.044018  0.052195  0.612014   \n",
       "CD003  0.518506  0.776690  0.296184  0.347091  0.111865  0.261343  0.499265   \n",
       "CD004  0.225717  0.344799  0.138623  0.007031  0.138673  0.210439  0.844370   \n",
       "CD005  0.326690  0.205379  0.440489  0.609102  0.012577  0.217447  0.304599   \n",
       "\n",
       "           ARG1      ARG2   ARHGDIB    ...       UBE2L3     VCAM1       VTN  \\\n",
       "ID                                     ...                                    \n",
       "CD001  0.011402  0.079706  0.307116    ...     0.296926  0.081827  0.000000   \n",
       "CD002  0.060000  0.267410  0.207611    ...     0.571003  0.173807  0.052530   \n",
       "CD003  0.082368  0.433079  0.091267    ...     0.301543  0.059695  0.073843   \n",
       "CD004  0.741894  0.329706  1.000000    ...     1.000000  0.344365  0.211195   \n",
       "CD005  0.065969  0.174374  0.178323    ...     0.236092  0.207513  0.142734   \n",
       "\n",
       "           XBP1      XCL1      XCR1     ZAP70    ZBTB16      ZEB1    sCTLA4  \n",
       "ID                                                                           \n",
       "CD001  0.432851  0.095168  0.012006  0.307793  0.044880  0.201294  0.246339  \n",
       "CD002  0.521352  0.312377  0.033260  0.659906  0.022455  0.603385  0.462102  \n",
       "CD003  0.523350  0.163708  0.094346  0.739654  0.054788  0.298177  0.514212  \n",
       "CD004  0.435990  0.585059  0.070415  0.203547  0.105534  0.332089  0.421835  \n",
       "CD005  0.363468  0.215483  0.007544  0.277689  0.054850  0.227739  0.203058  \n",
       "\n",
       "[5 rows x 579 columns]"
      ]
     },
     "execution_count": 350,
     "metadata": {},
     "output_type": "execute_result"
    }
   ],
   "source": [
    "nanostring_s = scale_nanostring(nanostring)\n",
    "nanostring_s.head()"
   ]
  },
  {
   "cell_type": "markdown",
   "metadata": {},
   "source": [
    "# Machine Learning"
   ]
  },
  {
   "cell_type": "code",
   "execution_count": 129,
   "metadata": {
    "ExecuteTime": {
     "end_time": "2016-05-05T14:23:10.071051",
     "start_time": "2016-05-05T14:23:10.062886"
    },
    "collapsed": false
   },
   "outputs": [
    {
     "data": {
      "text/plain": [
       "ID\n",
       "CD001    1\n",
       "CD002    1\n",
       "CD003    1\n",
       "CD004    1\n",
       "CD005    1\n",
       "CD006    1\n",
       "CD007    1\n",
       "CD008    1\n",
       "CD009    1\n",
       "CD010    1\n",
       "CD011    1\n",
       "CD012    1\n",
       "CD013    1\n",
       "CD014    1\n",
       "CD015    1\n",
       "CD016    1\n",
       "CD017    1\n",
       "CD018    1\n",
       "CD019    1\n",
       "CD020    1\n",
       "CD021    1\n",
       "CD022    1\n",
       "CD023    1\n",
       "CD026    1\n",
       "CD027    1\n",
       "CD028    1\n",
       "CD029    1\n",
       "CD030    1\n",
       "CD031    1\n",
       "CD033    1\n",
       "HC003    0\n",
       "HC004    0\n",
       "HC005    0\n",
       "HC006    0\n",
       "HC007    0\n",
       "HC008    0\n",
       "HC009    0\n",
       "HC010    0\n",
       "HC011    0\n",
       "HC012    0\n",
       "HC013    0\n",
       "HC014    0\n",
       "HC015    0\n",
       "HC016    0\n",
       "Name: Group_1, dtype: int64"
      ]
     },
     "execution_count": 129,
     "metadata": {},
     "output_type": "execute_result"
    }
   ],
   "source": [
    "y = labels"
   ]
  },
  {
   "cell_type": "markdown",
   "metadata": {},
   "source": [
    "## Classification"
   ]
  },
  {
   "cell_type": "code",
   "execution_count": 642,
   "metadata": {
    "ExecuteTime": {
     "end_time": "2016-05-05T18:59:01.012058",
     "start_time": "2016-05-05T18:58:58.086069"
    },
    "collapsed": true
   },
   "outputs": [],
   "source": [
    "nanostring_s = scale_nanostring(nanostring)"
   ]
  },
  {
   "cell_type": "code",
   "execution_count": 144,
   "metadata": {
    "ExecuteTime": {
     "end_time": "2016-05-05T14:36:17.192808",
     "start_time": "2016-05-05T14:36:17.189300"
    },
    "collapsed": false
   },
   "outputs": [],
   "source": [
    "affected_encoder = pproc.LabelEncoder()\n",
    "y_affected = affected_encoder.fit_transform(labels.Group_1.apply(lambda i: \"CD\" if i == 1 else \"HC\"))"
   ]
  },
  {
   "cell_type": "code",
   "execution_count": 562,
   "metadata": {
    "ExecuteTime": {
     "end_time": "2016-05-05T17:29:59.969214",
     "start_time": "2016-05-05T17:29:59.958157"
    },
    "collapsed": false
   },
   "outputs": [],
   "source": [
    "X = pd.concat([cognition_s,disease_s], axis=1)\n",
    "X_train, X_test, y_train, y_test = train_test_split(X, y_affected,\n",
    "                                                    test_size=0.33, random_state=42,\n",
    "                                                    stratify=y_affected\n",
    "                                                   )\n",
    "\n",
    "cv = StratifiedShuffleSplit(y_train, n_iter=10, test_size=0.3, random_state=42)"
   ]
  },
  {
   "cell_type": "markdown",
   "metadata": {},
   "source": [
    "### SVM classification"
   ]
  },
  {
   "cell_type": "code",
   "execution_count": 564,
   "metadata": {
    "ExecuteTime": {
     "end_time": "2016-05-05T17:30:02.755663",
     "start_time": "2016-05-05T17:30:02.748965"
    },
    "collapsed": true
   },
   "outputs": [],
   "source": [
    "C_range = np.logspace(-2, 10, 13)\n",
    "gamma_range = np.logspace(-9, 3, 13)\n",
    "param_grid = dict(gamma=gamma_range, C=C_range)"
   ]
  },
  {
   "cell_type": "markdown",
   "metadata": {},
   "source": [
    "#### Non-weighted"
   ]
  },
  {
   "cell_type": "code",
   "execution_count": 565,
   "metadata": {
    "ExecuteTime": {
     "end_time": "2016-05-05T17:30:08.312066",
     "start_time": "2016-05-05T17:30:03.307311"
    },
    "collapsed": false
   },
   "outputs": [
    {
     "name": "stdout",
     "output_type": "stream",
     "text": [
      "The best parameters are {'C': 1000.0, 'gamma': 1.0} with a score of 0.82\n",
      "             precision    recall  f1-score   support\n",
      "\n",
      "         CD       1.00      0.80      0.89        10\n",
      "         HC       0.71      1.00      0.83         5\n",
      "\n",
      "avg / total       0.90      0.87      0.87        15\n",
      "\n"
     ]
    }
   ],
   "source": [
    "grid = GridSearchCV(SVC(), param_grid=param_grid, cv=cv)\n",
    "grid.fit(X_train, y_train)\n",
    "\n",
    "print(\"The best parameters are %s with a score of %0.2f\"\n",
    "      % (grid.best_params_, grid.best_score_))\n",
    "\n",
    "print(classification_report(y_true=y_test, y_pred=grid.predict(X_test), labels=None, target_names=['CD','HC']))"
   ]
  },
  {
   "cell_type": "code",
   "execution_count": 566,
   "metadata": {
    "ExecuteTime": {
     "end_time": "2016-05-05T17:30:08.320263",
     "start_time": "2016-05-05T17:30:08.313884"
    },
    "collapsed": false
   },
   "outputs": [],
   "source": [
    "cm = confusion_matrix(y_true=y_test, y_pred=grid.predict(X_test), labels=None)"
   ]
  },
  {
   "cell_type": "code",
   "execution_count": 567,
   "metadata": {
    "ExecuteTime": {
     "end_time": "2016-05-05T17:30:08.844375",
     "start_time": "2016-05-05T17:30:08.321936"
    },
    "collapsed": false
   },
   "outputs": [
    {
     "data": {
      "image/png": "[encoded data removed]",
      "text/plain": [
       "<matplotlib.figure.Figure at 0x7f4f7a993198>"
      ]
     },
     "metadata": {},
     "output_type": "display_data"
    }
   ],
   "source": [
    "plot_confusion_matrix(cm=cm, labels=affected_encoder.classes_, cmap='Blues', title=\"SVC non-weighted confusion matrix\",\n",
    "                      norm=False, context=None, annot=True);"
   ]
  },
  {
   "cell_type": "code",
   "execution_count": 568,
   "metadata": {
    "ExecuteTime": {
     "end_time": "2016-05-05T17:30:09.384210",
     "start_time": "2016-05-05T17:30:08.846220"
    },
    "collapsed": false
   },
   "outputs": [
    {
     "data": {
      "image/png": "[encoded data removed]",
      "text/plain": [
       "<matplotlib.figure.Figure at 0x7f4f7a8ab3c8>"
      ]
     },
     "metadata": {},
     "output_type": "display_data"
    }
   ],
   "source": [
    "plot_confusion_matrix(cm=cm, labels=affected_encoder.classes_, cmap='Blues', title=\"SVC non-weighted confusion matrix (norm)\",\n",
    "                      norm=True, context=None, annot=True);"
   ]
  },
  {
   "cell_type": "markdown",
   "metadata": {},
   "source": [
    "#### Weighted"
   ]
  },
  {
   "cell_type": "code",
   "execution_count": 569,
   "metadata": {
    "ExecuteTime": {
     "end_time": "2016-05-05T17:30:09.391896",
     "start_time": "2016-05-05T17:30:09.386177"
    },
    "collapsed": true
   },
   "outputs": [],
   "source": [
    "# bring the weight of '0' up to equal that of '1'\n",
    "class_weights = {0 : 2.1428571428571428, 1: 1}"
   ]
  },
  {
   "cell_type": "code",
   "execution_count": 570,
   "metadata": {
    "ExecuteTime": {
     "end_time": "2016-05-05T17:30:14.823170",
     "start_time": "2016-05-05T17:30:09.394179"
    },
    "collapsed": false
   },
   "outputs": [
    {
     "name": "stdout",
     "output_type": "stream",
     "text": [
      "The best parameters are {'C': 1000.0, 'gamma': 1.0} with a score of 0.82\n",
      "             precision    recall  f1-score   support\n",
      "\n",
      "         CD       1.00      0.80      0.89        10\n",
      "         HC       0.71      1.00      0.83         5\n",
      "\n",
      "avg / total       0.90      0.87      0.87        15\n",
      "\n"
     ]
    }
   ],
   "source": [
    "grid_w = GridSearchCV(SVC(class_weight=class_weights), param_grid=param_grid, cv=cv)\n",
    "grid_w.fit(X_train, y_train)\n",
    "\n",
    "print(\"The best parameters are %s with a score of %0.2f\"\n",
    "      % (grid_w.best_params_, grid_w.best_score_))\n",
    "\n",
    "print(classification_report(y_true=y_test, y_pred=grid_w.predict(X_test), labels=None, target_names=['CD','HC']))"
   ]
  },
  {
   "cell_type": "code",
   "execution_count": 571,
   "metadata": {
    "ExecuteTime": {
     "end_time": "2016-05-05T17:30:14.828786",
     "start_time": "2016-05-05T17:30:14.825135"
    },
    "collapsed": true
   },
   "outputs": [],
   "source": [
    "cm = confusion_matrix(y_true=y_test, y_pred=grid_w.predict(X_test), labels=None)"
   ]
  },
  {
   "cell_type": "code",
   "execution_count": 572,
   "metadata": {
    "ExecuteTime": {
     "end_time": "2016-05-05T17:30:15.345730",
     "start_time": "2016-05-05T17:30:14.833505"
    },
    "collapsed": false
   },
   "outputs": [
    {
     "data": {
      "image/png": "[encoded data removed]",
      "text/plain": [
       "<matplotlib.figure.Figure at 0x7f4f7a8abda0>"
      ]
     },
     "metadata": {},
     "output_type": "display_data"
    }
   ],
   "source": [
    "plot_confusion_matrix(cm=cm, labels=affected_encoder.classes_, cmap='Blues', title=\"SVC weighted: confusion matrix\",\n",
    "                      norm=False, context=None, annot=True);"
   ]
  },
  {
   "cell_type": "code",
   "execution_count": 573,
   "metadata": {
    "ExecuteTime": {
     "end_time": "2016-05-05T17:30:15.753022",
     "start_time": "2016-05-05T17:30:15.347743"
    },
    "collapsed": false
   },
   "outputs": [
    {
     "data": {
      "image/png": "[encoded data removed]",
      "text/plain": [
       "<matplotlib.figure.Figure at 0x7f4f7f32e160>"
      ]
     },
     "metadata": {},
     "output_type": "display_data"
    }
   ],
   "source": [
    "plot_confusion_matrix(cm=cm, labels=affected_encoder.classes_, cmap='Blues', title=\"SVC weighted: confusion matrix (norm)\",\n",
    "                      norm=True, context=None, annot=True);"
   ]
  },
  {
   "cell_type": "markdown",
   "metadata": {},
   "source": [
    "### Random forest"
   ]
  },
  {
   "cell_type": "code",
   "execution_count": 505,
   "metadata": {
    "ExecuteTime": {
     "end_time": "2016-05-05T17:11:57.021555",
     "start_time": "2016-05-05T17:09:49.805170"
    },
    "collapsed": false
   },
   "outputs": [
    {
     "name": "stdout",
     "output_type": "stream",
     "text": [
      "{'randomforestclassifier__min_samples_leaf': 3, 'randomforestclassifier__n_estimators': 81}\n",
      "             precision    recall  f1-score   support\n",
      "\n",
      "         CD       0.77      1.00      0.87        10\n",
      "         HC       1.00      0.40      0.57         5\n",
      "\n",
      "avg / total       0.85      0.80      0.77        15\n",
      "\n"
     ]
    },
    {
     "data": {
      "image/png": "[encoded data removed]",
      "text/plain": [
       "<matplotlib.figure.Figure at 0x7f4f7e6df860>"
      ]
     },
     "metadata": {},
     "output_type": "display_data"
    }
   ],
   "source": [
    "rfst_param_grid = {'randomforestclassifier__n_estimators': np.arange(1,100,10),\n",
    "                   'randomforestclassifier__min_samples_leaf': np.arange(1,10,2)\n",
    "                  }\n",
    "\n",
    "\n",
    "\n",
    "rfst_pipe = make_pipeline(RandomForestClassifier(random_state=42,n_jobs=8))\n",
    "\n",
    "# run the gridsearch to tune the hyper-parameters\n",
    "rfst_grid = GridSearchCV(rfst_pipe, param_grid=rfst_param_grid, cv=cv)\n",
    "\n",
    "\n",
    "rfst_grid.fit(X_train, y_train)\n",
    "print(rfst_grid.best_params_)\n",
    "\n",
    "print(classification_report(y_true=y_test, y_pred=rfst_grid.predict(X_test), labels=None, target_names=['CD','HC']))\n",
    "\n",
    "# generate confusion matrices\n",
    "rfst_cm = confusion_matrix(y_true=y_test, y_pred=rfst_grid.predict(X_test),)\n",
    "\n",
    "plot_confusion_matrix(cm=cm, labels=affected_encoder.classes_, cmap='Blues', title=\"RF: confusion matrix (norm)\",\n",
    "                      norm=True, context=None, annot=True);"
   ]
  },
  {
   "cell_type": "code",
   "execution_count": 506,
   "metadata": {
    "ExecuteTime": {
     "end_time": "2016-05-05T17:11:57.470057",
     "start_time": "2016-05-05T17:11:57.023596"
    },
    "collapsed": false
   },
   "outputs": [
    {
     "data": {
      "image/png": "[encoded data removed]",
      "text/plain": [
       "<matplotlib.figure.Figure at 0x7f4f7e5cf630>"
      ]
     },
     "metadata": {},
     "output_type": "display_data"
    }
   ],
   "source": [
    "plot_confusion_matrix(cm=cm, labels=affected_encoder.classes_, cmap='Blues', title=\"RF: confusion matrix (norm)\",\n",
    "                      norm=True, context=None, annot=True);"
   ]
  },
  {
   "cell_type": "markdown",
   "metadata": {},
   "source": [
    "### PCA"
   ]
  },
  {
   "cell_type": "code",
   "execution_count": 638,
   "metadata": {
    "ExecuteTime": {
     "end_time": "2016-05-05T18:11:24.072581",
     "start_time": "2016-05-05T18:11:22.957725"
    },
    "collapsed": false
   },
   "outputs": [
    {
     "data": {
      "image/png": "[encoded data removed]",
      "text/plain": [
       "<matplotlib.figure.Figure at 0x7f4f7a8f8f28>"
      ]
     },
     "metadata": {},
     "output_type": "display_data"
    }
   ],
   "source": [
    "pca = MDS(n_components=2, n_jobs=-1, n_init=40, max_iter=3000)\n",
    "# pca = TSNE(n_components=2, n_iter=10000, learning_rate=10000)\n",
    "# pca = PCA(n_components=2, whiten=True)\n",
    "\n",
    "\n",
    "pca_t = pca.fit_transform(pd.concat([X], axis=1),y_affected)\n",
    "top_n_comp = 2\n",
    "# print('explained_variance_ratio_ of top {num}: {val}'.format(num=top_n_comp,val=pca.explained_variance_ratio_[:top_n_comp].sum()))\n",
    "\n",
    "pca_t_l = repandasify(array=pca_t, y_names=affected_encoder.inverse_transform(y_affected), X_names=['PC {v_}'.format(v_=v+1) for v in range(len(pca_t[0]))])\n",
    "pca_t_l['Affected'] = affected_encoder.inverse_transform(y_affected)\n",
    "# print(pca_t_l)\n",
    "\n",
    "with sns.color_palette(sns.color_palette(\"hls\", 2)):\n",
    "    with sns.axes_style(\"white\"):\n",
    "        sns.lmplot(x='PC 1', y='PC 2', data=pca_t_l, \n",
    "                   hue='Affected', palette=None,\n",
    "                   fit_reg=False,\n",
    "                   scatter_kws={'alpha':0.7}\n",
    "                  );"
   ]
  },
  {
   "cell_type": "markdown",
   "metadata": {
    "ExecuteTime": {
     "end_time": "2016-05-05T17:25:59.334894",
     "start_time": "2016-05-05T17:25:59.310758"
    },
    "collapsed": false
   },
   "source": [
    "## Regression"
   ]
  },
  {
   "cell_type": "code",
   "execution_count": 681,
   "metadata": {
    "ExecuteTime": {
     "end_time": "2016-05-05T19:36:31.452768",
     "start_time": "2016-05-05T19:36:31.442595"
    },
    "collapsed": false
   },
   "outputs": [],
   "source": [
    "X = pd.concat([cognition_s,nanostring_s], axis=1)\n",
    "X_train, X_test, y_train, y_test = train_test_split(X, disease.pcdaiscore,\n",
    "                                                    test_size=0.33, random_state=42,\n",
    "                                                    stratify=y_affected\n",
    "                                                   )\n",
    "\n",
    "cv = ShuffleSplit(y_train.shape[0], n_iter=10, test_size=0.3, random_state=42)"
   ]
  },
  {
   "cell_type": "markdown",
   "metadata": {},
   "source": [
    "### Lasso"
   ]
  },
  {
   "cell_type": "code",
   "execution_count": 685,
   "metadata": {
    "ExecuteTime": {
     "end_time": "2016-05-05T19:47:15.206207",
     "start_time": "2016-05-05T19:47:15.203036"
    },
    "collapsed": false
   },
   "outputs": [
    {
     "name": "stdout",
     "output_type": "stream",
     "text": [
      "explained_variance_score\n",
      "r2_score\n",
      "mean_squared_error\n",
      "\n"
     ]
    }
   ],
   "source": [
    "print(\"\"\"\\\n",
    "explained_variance_score\n",
    "r2_score\n",
    "mean_squared_error\n",
    "\"\"\")"
   ]
  },
  {
   "cell_type": "code",
   "execution_count": 688,
   "metadata": {
    "ExecuteTime": {
     "end_time": "2016-05-05T19:52:53.635359",
     "start_time": "2016-05-05T19:52:41.493951"
    },
    "collapsed": false,
    "scrolled": false
   },
   "outputs": [
    {
     "name": "stdout",
     "output_type": "stream",
     "text": [
      "{'lasso__tol': 0.00081000000000000006, 'lasso__selection': 'random', 'lasso__alpha': 1}\n"
     ]
    }
   ],
   "source": [
    "lasso_param_grid = {'lasso__alpha': [0.1,1,5,10],\n",
    "                    'lasso__tol': np.arange(0.00001,0.001,0.00005),\n",
    "                    'lasso__selection': ['cyclic','random']\n",
    "                  }\n",
    "\n",
    "\n",
    "\n",
    "lasso_pipe = make_pipeline(Lasso(random_state=42, max_iter=100000))\n",
    "\n",
    "# run the gridsearch to tune the hyper-parameters\n",
    "lasso_grid = GridSearchCV(lasso_pipe, param_grid=lasso_param_grid, cv=cv)\n",
    "\n",
    "\n",
    "lasso_grid.fit(X_train, y_train)\n",
    "print(lasso_grid.best_params_)\n",
    "\n",
    "y_true = y_test\n",
    "y_pred = lasso_grid.predict(X_test)\n"
   ]
  },
  {
   "cell_type": "code",
   "execution_count": null,
   "metadata": {
    "collapsed": true
   },
   "outputs": [],
   "source": []
  },
  {
   "cell_type": "code",
   "execution_count": 689,
   "metadata": {
    "ExecuteTime": {
     "end_time": "2016-05-05T19:52:59.495401",
     "start_time": "2016-05-05T19:52:59.489150"
    },
    "collapsed": false
   },
   "outputs": [
    {
     "name": "stdout",
     "output_type": "stream",
     "text": [
      "explained_variance_score: 0.3567568842411686\n",
      "r2_score: 0.33441296859864833\n",
      "mean_squared_error: 102.53737989310822\n",
      "\n"
     ]
    }
   ],
   "source": [
    "report = \"\"\"\\\n",
    "explained_variance_score: {explained_variance_score}\n",
    "r2_score: {r2_score}\n",
    "mean_squared_error: {mean_squared_error}\n",
    "\"\"\".format(explained_variance_score=explained_variance_score(y_true,y_pred),\n",
    "           r2_score=r2_score(y_true,y_pred),\n",
    "           mean_squared_error=mean_squared_error(y_true,y_pred))\n",
    "           \n",
    "\n",
    "\n",
    "print(report)"
   ]
  },
  {
   "cell_type": "code",
   "execution_count": 695,
   "metadata": {
    "ExecuteTime": {
     "end_time": "2016-05-05T19:57:02.453736",
     "start_time": "2016-05-05T19:57:02.449966"
    },
    "collapsed": false
   },
   "outputs": [
    {
     "data": {
      "text/plain": [
       "0.18757082216076323"
      ]
     },
     "execution_count": 695,
     "metadata": {},
     "output_type": "execute_result"
    }
   ],
   "source": [
    "lasso_grid.best_score_"
   ]
  },
  {
   "cell_type": "markdown",
   "metadata": {
    "collapsed": true
   },
   "source": [
    "# Regular Stats"
   ]
  },
  {
   "cell_type": "code",
   "execution_count": 700,
   "metadata": {
    "ExecuteTime": {
     "end_time": "2016-05-06T12:30:42.653501",
     "start_time": "2016-05-06T12:30:42.639533"
    },
    "collapsed": false
   },
   "outputs": [
    {
     "data": {
      "text/html": [
       "<div>\n",
       "<table border=\"1\" class=\"dataframe\">\n",
       "  <thead>\n",
       "    <tr style=\"text-align: right;\">\n",
       "      <th></th>\n",
       "      <th>ESR</th>\n",
       "      <th>CRP</th>\n",
       "      <th>hct</th>\n",
       "      <th>alb</th>\n",
       "    </tr>\n",
       "    <tr>\n",
       "      <th>ID</th>\n",
       "      <th></th>\n",
       "      <th></th>\n",
       "      <th></th>\n",
       "      <th></th>\n",
       "    </tr>\n",
       "  </thead>\n",
       "  <tbody>\n",
       "    <tr>\n",
       "      <th>CD001</th>\n",
       "      <td>22.0</td>\n",
       "      <td>0.60</td>\n",
       "      <td>38.0</td>\n",
       "      <td>4.6</td>\n",
       "    </tr>\n",
       "    <tr>\n",
       "      <th>CD002</th>\n",
       "      <td>2.0</td>\n",
       "      <td>0.02</td>\n",
       "      <td>39.1</td>\n",
       "      <td>4.6</td>\n",
       "    </tr>\n",
       "    <tr>\n",
       "      <th>CD003</th>\n",
       "      <td>12.0</td>\n",
       "      <td>0.03</td>\n",
       "      <td>32.1</td>\n",
       "      <td>4.4</td>\n",
       "    </tr>\n",
       "    <tr>\n",
       "      <th>CD004</th>\n",
       "      <td>68.0</td>\n",
       "      <td>9.30</td>\n",
       "      <td>35.3</td>\n",
       "      <td>4.7</td>\n",
       "    </tr>\n",
       "    <tr>\n",
       "      <th>CD005</th>\n",
       "      <td>16.0</td>\n",
       "      <td>0.18</td>\n",
       "      <td>37.1</td>\n",
       "      <td>4.4</td>\n",
       "    </tr>\n",
       "  </tbody>\n",
       "</table>\n",
       "</div>"
      ],
      "text/plain": [
       "        ESR   CRP   hct  alb\n",
       "ID                          \n",
       "CD001  22.0  0.60  38.0  4.6\n",
       "CD002   2.0  0.02  39.1  4.6\n",
       "CD003  12.0  0.03  32.1  4.4\n",
       "CD004  68.0  9.30  35.3  4.7\n",
       "CD005  16.0  0.18  37.1  4.4"
      ]
     },
     "execution_count": 700,
     "metadata": {},
     "output_type": "execute_result"
    }
   ],
   "source": [
    "labs.head()"
   ]
  },
  {
   "cell_type": "code",
   "execution_count": 704,
   "metadata": {
    "ExecuteTime": {
     "end_time": "2016-05-06T12:33:02.552845",
     "start_time": "2016-05-06T12:33:02.541992"
    },
    "collapsed": false
   },
   "outputs": [
    {
     "data": {
      "text/html": [
       "<div>\n",
       "<table border=\"1\" class=\"dataframe\">\n",
       "  <thead>\n",
       "    <tr style=\"text-align: right;\">\n",
       "      <th></th>\n",
       "      <th>StudyGroup_1</th>\n",
       "      <th>StudyGroup_2</th>\n",
       "      <th>Group_1</th>\n",
       "      <th>NanoGroup_1</th>\n",
       "      <th>NanoGroup_2</th>\n",
       "    </tr>\n",
       "    <tr>\n",
       "      <th>ID</th>\n",
       "      <th></th>\n",
       "      <th></th>\n",
       "      <th></th>\n",
       "      <th></th>\n",
       "      <th></th>\n",
       "    </tr>\n",
       "  </thead>\n",
       "  <tbody>\n",
       "    <tr>\n",
       "      <th>CD001</th>\n",
       "      <td>1</td>\n",
       "      <td>0</td>\n",
       "      <td>1</td>\n",
       "      <td>1</td>\n",
       "      <td>0</td>\n",
       "    </tr>\n",
       "    <tr>\n",
       "      <th>CD002</th>\n",
       "      <td>1</td>\n",
       "      <td>0</td>\n",
       "      <td>1</td>\n",
       "      <td>1</td>\n",
       "      <td>0</td>\n",
       "    </tr>\n",
       "    <tr>\n",
       "      <th>CD003</th>\n",
       "      <td>1</td>\n",
       "      <td>0</td>\n",
       "      <td>1</td>\n",
       "      <td>1</td>\n",
       "      <td>0</td>\n",
       "    </tr>\n",
       "    <tr>\n",
       "      <th>CD004</th>\n",
       "      <td>0</td>\n",
       "      <td>1</td>\n",
       "      <td>1</td>\n",
       "      <td>0</td>\n",
       "      <td>1</td>\n",
       "    </tr>\n",
       "    <tr>\n",
       "      <th>CD005</th>\n",
       "      <td>1</td>\n",
       "      <td>0</td>\n",
       "      <td>1</td>\n",
       "      <td>1</td>\n",
       "      <td>0</td>\n",
       "    </tr>\n",
       "  </tbody>\n",
       "</table>\n",
       "</div>"
      ],
      "text/plain": [
       "       StudyGroup_1  StudyGroup_2  Group_1  NanoGroup_1  NanoGroup_2\n",
       "ID                                                                  \n",
       "CD001             1             0        1            1            0\n",
       "CD002             1             0        1            1            0\n",
       "CD003             1             0        1            1            0\n",
       "CD004             0             1        1            0            1\n",
       "CD005             1             0        1            1            0"
      ]
     },
     "execution_count": 704,
     "metadata": {},
     "output_type": "execute_result"
    }
   ],
   "source": []
  },
  {
   "cell_type": "code",
   "execution_count": 718,
   "metadata": {
    "ExecuteTime": {
     "end_time": "2016-05-06T12:42:53.167766",
     "start_time": "2016-05-06T12:42:53.128828"
    },
    "collapsed": false
   },
   "outputs": [
    {
     "name": "stdout",
     "output_type": "stream",
     "text": [
      "Optimization terminated successfully.\n",
      "         Current function value: 0.432518\n",
      "         Iterations 8\n"
     ]
    },
    {
     "data": {
      "text/html": [
       "<table class=\"simpletable\">\n",
       "<caption>Logit Regression Results</caption>\n",
       "<tr>\n",
       "  <th>Dep. Variable:</th>      <td>Group_1</td>     <th>  No. Observations:  </th>  <td>    43</td> \n",
       "</tr>\n",
       "<tr>\n",
       "  <th>Model:</th>               <td>Logit</td>      <th>  Df Residuals:      </th>  <td>    38</td> \n",
       "</tr>\n",
       "<tr>\n",
       "  <th>Method:</th>               <td>MLE</td>       <th>  Df Model:          </th>  <td>     4</td> \n",
       "</tr>\n",
       "<tr>\n",
       "  <th>Date:</th>          <td>Fri, 06 May 2016</td> <th>  Pseudo R-squ.:     </th>  <td>0.3146</td> \n",
       "</tr>\n",
       "<tr>\n",
       "  <th>Time:</th>              <td>12:42:53</td>     <th>  Log-Likelihood:    </th> <td> -18.598</td>\n",
       "</tr>\n",
       "<tr>\n",
       "  <th>converged:</th>           <td>True</td>       <th>  LL-Null:           </th> <td> -27.133</td>\n",
       "</tr>\n",
       "<tr>\n",
       "  <th> </th>                      <td> </td>        <th>  LLR p-value:       </th> <td>0.001873</td>\n",
       "</tr>\n",
       "</table>\n",
       "<table class=\"simpletable\">\n",
       "<tr>\n",
       "      <td></td>         <th>coef</th>     <th>std err</th>      <th>z</th>      <th>P>|z|</th> <th>[95.0% Conf. Int.]</th> \n",
       "</tr>\n",
       "<tr>\n",
       "  <th>Intercept</th> <td>    1.7068</td> <td>    0.658</td> <td>    2.592</td> <td> 0.010</td> <td>    0.416     2.997</td>\n",
       "</tr>\n",
       "<tr>\n",
       "  <th>ESR</th>       <td>    0.1311</td> <td>    0.065</td> <td>    2.025</td> <td> 0.043</td> <td>    0.004     0.258</td>\n",
       "</tr>\n",
       "<tr>\n",
       "  <th>CRP</th>       <td>   -0.5454</td> <td>    0.407</td> <td>   -1.339</td> <td> 0.181</td> <td>   -1.344     0.253</td>\n",
       "</tr>\n",
       "<tr>\n",
       "  <th>hct</th>       <td>    0.0889</td> <td>    0.185</td> <td>    0.480</td> <td> 0.631</td> <td>   -0.274     0.452</td>\n",
       "</tr>\n",
       "<tr>\n",
       "  <th>alb</th>       <td>   -4.2782</td> <td>    2.053</td> <td>   -2.084</td> <td> 0.037</td> <td>   -8.302    -0.255</td>\n",
       "</tr>\n",
       "</table>"
      ],
      "text/plain": [
       "<class 'statsmodels.iolib.summary.Summary'>\n",
       "\"\"\"\n",
       "                           Logit Regression Results                           \n",
       "==============================================================================\n",
       "Dep. Variable:                Group_1   No. Observations:                   43\n",
       "Model:                          Logit   Df Residuals:                       38\n",
       "Method:                           MLE   Df Model:                            4\n",
       "Date:                Fri, 06 May 2016   Pseudo R-squ.:                  0.3146\n",
       "Time:                        12:42:53   Log-Likelihood:                -18.598\n",
       "converged:                       True   LL-Null:                       -27.133\n",
       "                                        LLR p-value:                  0.001873\n",
       "==============================================================================\n",
       "                 coef    std err          z      P>|z|      [95.0% Conf. Int.]\n",
       "------------------------------------------------------------------------------\n",
       "Intercept      1.7068      0.658      2.592      0.010         0.416     2.997\n",
       "ESR            0.1311      0.065      2.025      0.043         0.004     0.258\n",
       "CRP           -0.5454      0.407     -1.339      0.181        -1.344     0.253\n",
       "hct            0.0889      0.185      0.480      0.631        -0.274     0.452\n",
       "alb           -4.2782      2.053     -2.084      0.037        -8.302    -0.255\n",
       "==============================================================================\n",
       "\"\"\""
      ]
     },
     "execution_count": 718,
     "metadata": {},
     "output_type": "execute_result"
    }
   ],
   "source": [
    "logit_labs = logit('Group_1 ~ ESR + CRP + hct + alb',\n",
    "                data=pd.concat([labels[[\"Group_1\"]],labs-labs.mean()], axis=1),\n",
    "               ).fit()\n",
    "logit_labs.summary()"
   ]
  },
  {
   "cell_type": "code",
   "execution_count": 719,
   "metadata": {
    "ExecuteTime": {
     "end_time": "2016-05-06T12:42:54.039204",
     "start_time": "2016-05-06T12:42:54.019316"
    },
    "collapsed": false
   },
   "outputs": [
    {
     "data": {
      "text/html": [
       "<table class=\"simpletable\">\n",
       "<caption>Logit Marginal Effects</caption>\n",
       "<tr>\n",
       "  <th>Dep. Variable:</th> <td>Group_1</td>\n",
       "</tr>\n",
       "<tr>\n",
       "  <th>Method:</th>         <td>dydx</td>  \n",
       "</tr>\n",
       "<tr>\n",
       "  <th>At:</th>            <td>overall</td>\n",
       "</tr>\n",
       "</table>\n",
       "<table class=\"simpletable\">\n",
       "<tr>\n",
       "   <th></th>      <th>dy/dx</th>    <th>std err</th>      <th>z</th>      <th>P>|z|</th> <th>[95.0% Conf. Int.]</th> \n",
       "</tr>\n",
       "<tr>\n",
       "  <th>ESR</th> <td>    0.0187</td> <td>    0.007</td> <td>    2.512</td> <td> 0.012</td> <td>    0.004     0.033</td>\n",
       "</tr>\n",
       "<tr>\n",
       "  <th>CRP</th> <td>   -0.0780</td> <td>    0.054</td> <td>   -1.451</td> <td> 0.147</td> <td>   -0.183     0.027</td>\n",
       "</tr>\n",
       "<tr>\n",
       "  <th>hct</th> <td>    0.0127</td> <td>    0.026</td> <td>    0.483</td> <td> 0.629</td> <td>   -0.039     0.064</td>\n",
       "</tr>\n",
       "<tr>\n",
       "  <th>alb</th> <td>   -0.6116</td> <td>    0.229</td> <td>   -2.670</td> <td> 0.008</td> <td>   -1.060    -0.163</td>\n",
       "</tr>\n",
       "</table>"
      ],
      "text/plain": [
       "<class 'statsmodels.iolib.summary.Summary'>\n",
       "\"\"\"\n",
       "        Logit Marginal Effects       \n",
       "=====================================\n",
       "Dep. Variable:                Group_1\n",
       "Method:                          dydx\n",
       "At:                           overall\n",
       "==============================================================================\n",
       "                dy/dx    std err          z      P>|z|      [95.0% Conf. Int.]\n",
       "------------------------------------------------------------------------------\n",
       "ESR            0.0187      0.007      2.512      0.012         0.004     0.033\n",
       "CRP           -0.0780      0.054     -1.451      0.147        -0.183     0.027\n",
       "hct            0.0127      0.026      0.483      0.629        -0.039     0.064\n",
       "alb           -0.6116      0.229     -2.670      0.008        -1.060    -0.163\n",
       "==============================================================================\n",
       "\"\"\""
      ]
     },
     "execution_count": 719,
     "metadata": {},
     "output_type": "execute_result"
    }
   ],
   "source": [
    "logit_labs.get_margeff().summary()"
   ]
  },
  {
   "cell_type": "code",
   "execution_count": null,
   "metadata": {
    "collapsed": true
   },
   "outputs": [],
   "source": []
  }
 ],
 "metadata": {
  "kernelspec": {
   "display_name": "Python (chri-mri)",
   "language": "python",
   "name": "chri-mri"
  },
  "language_info": {
   "codemirror_mode": {
    "name": "ipython",
    "version": 3
   },
   "file_extension": ".py",
   "mimetype": "text/x-python",
   "name": "python",
   "nbconvert_exporter": "python",
   "pygments_lexer": "ipython3",
   "version": "3.5.1"
  },
  "toc": {
   "toc_cell": true,
   "toc_number_sections": true,
   "toc_section_display": "block",
   "toc_threshold": 6,
   "toc_window_display": true
  },
  "toc_position": {
   "height": "655px",
   "left": "1619.05px",
   "right": "20px",
   "top": "224.975px",
   "width": "355px"
  }
 },
 "nbformat": 4,
 "nbformat_minor": 0
}
