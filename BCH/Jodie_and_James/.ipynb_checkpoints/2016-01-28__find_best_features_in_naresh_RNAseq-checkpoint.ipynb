{
 "cells": [
  {
   "cell_type": "code",
   "execution_count": 1,
   "metadata": {
    "collapsed": false
   },
   "outputs": [],
   "source": [
    "%matplotlib inline\n",
    "# %matplotlib"
   ]
  },
  {
   "cell_type": "code",
   "execution_count": 2,
   "metadata": {
    "collapsed": true
   },
   "outputs": [],
   "source": [
    "import time"
   ]
  },
  {
   "cell_type": "code",
   "execution_count": 3,
   "metadata": {
    "collapsed": true
   },
   "outputs": [],
   "source": [
    "from __future__ import division,print_function"
   ]
  },
  {
   "cell_type": "code",
   "execution_count": 4,
   "metadata": {
    "collapsed": false
   },
   "outputs": [],
   "source": [
    "from spartan.utils.sklearn import model_assessment, feature_selection\n",
    "from spartan.utils.sklearn import pandas_helpers"
   ]
  },
  {
   "cell_type": "code",
   "execution_count": 5,
   "metadata": {
    "collapsed": false
   },
   "outputs": [],
   "source": [
    "from collections import Counter, defaultdict\n",
    "import math\n",
    "\n",
    "import numpy as np\n",
    "import pandas as pd\n",
    "import sklearn as skl\n",
    "import sklearn.preprocessing as ppro\n",
    "\n",
    "from sklearn.pipeline import Pipeline\n",
    "from sklearn.pipeline import make_pipeline\n",
    "\n",
    "from sklearn.decomposition import PCA, RandomizedPCA, KernelPCA, FactorAnalysis\n",
    "from sklearn.discriminant_analysis import LinearDiscriminantAnalysis\n",
    "\n",
    "from sklearn.grid_search import GridSearchCV\n",
    "\n",
    "from sklearn.cross_validation import train_test_split\n",
    "\n",
    "from sklearn.svm import SVC, LinearSVC\n",
    "from sklearn.ensemble import RandomForestClassifier,ExtraTreesClassifier\n",
    "from sklearn.dummy import DummyClassifier\n",
    "\n",
    "from sklearn.linear_model import LogisticRegression\n",
    "from sklearn.linear_model import RandomizedLogisticRegression\n",
    "from sklearn.linear_model import Lasso\n",
    "\n",
    "from sklearn.feature_selection import SelectKBest\n",
    "from sklearn.feature_selection import chi2, univariate_selection\n",
    "from sklearn.feature_selection import SelectFromModel\n",
    "\n",
    "from sklearn.metrics import confusion_matrix\n",
    "\n"
   ]
  },
  {
   "cell_type": "code",
   "execution_count": 6,
   "metadata": {
    "collapsed": true
   },
   "outputs": [],
   "source": [
    "from matplotlib import pyplot as plt\n",
    "import seaborn as sns"
   ]
  },
  {
   "cell_type": "code",
   "execution_count": 7,
   "metadata": {
    "collapsed": false
   },
   "outputs": [],
   "source": [
    "sns.set_context('poster')"
   ]
  },
  {
   "cell_type": "code",
   "execution_count": 8,
   "metadata": {
    "collapsed": false
   },
   "outputs": [
    {
     "name": "stderr",
     "output_type": "stream",
     "text": [
      "/home/gus/anaconda2/envs/stack2/lib/python2.7/site-packages/IPython/core/interactiveshell.py:2902: DtypeWarning: Columns (4) have mixed types. Specify dtype option on import or set low_memory=False.\n",
      "  interactivity=interactivity, compiler=compiler, result=result)\n"
     ]
    },
    {
     "data": {
      "text/html": [
       "<div>\n",
       "<table border=\"1\" class=\"dataframe\">\n",
       "  <thead>\n",
       "    <tr style=\"text-align: right;\">\n",
       "      <th></th>\n",
       "      <th>ID</th>\n",
       "      <th>SiteSubject ID</th>\n",
       "      <th>Visit</th>\n",
       "      <th>Disease_or_Normal</th>\n",
       "      <th>Age in Years</th>\n",
       "      <th>Sex</th>\n",
       "      <th>ExtentDisease</th>\n",
       "      <th>_1007_PM_s_at</th>\n",
       "      <th>_1053_PM_at</th>\n",
       "      <th>_117_PM_at</th>\n",
       "      <th>...</th>\n",
       "      <th>_AFFX-r2-TagO-3_at</th>\n",
       "      <th>_AFFX-r2-TagO-5_at</th>\n",
       "      <th>_AFFX-r2-TagQ-3_at</th>\n",
       "      <th>_AFFX-r2-TagQ-5_at</th>\n",
       "      <th>_AFFX-ThrX-3_at</th>\n",
       "      <th>_AFFX-ThrX-5_at</th>\n",
       "      <th>_AFFX-ThrX-M_at</th>\n",
       "      <th>_AFFX-TrpnX-3_at</th>\n",
       "      <th>_AFFX-TrpnX-5_at</th>\n",
       "      <th>_AFFX-TrpnX-M_at</th>\n",
       "    </tr>\n",
       "  </thead>\n",
       "  <tbody>\n",
       "    <tr>\n",
       "      <th>0</th>\n",
       "      <td>5500254131236090112251_101136.A02</td>\n",
       "      <td>7532-00001</td>\n",
       "      <td>Week 0</td>\n",
       "      <td>diseased</td>\n",
       "      <td>44</td>\n",
       "      <td>F</td>\n",
       "      <td>Extensive</td>\n",
       "      <td>9.674214</td>\n",
       "      <td>7.176943</td>\n",
       "      <td>7.530333</td>\n",
       "      <td>...</td>\n",
       "      <td>4.498194</td>\n",
       "      <td>3.455266</td>\n",
       "      <td>3.531909</td>\n",
       "      <td>3.470912</td>\n",
       "      <td>4.453369</td>\n",
       "      <td>3.499877</td>\n",
       "      <td>3.659598</td>\n",
       "      <td>3.164482</td>\n",
       "      <td>3.729298</td>\n",
       "      <td>3.746295</td>\n",
       "    </tr>\n",
       "    <tr>\n",
       "      <th>1</th>\n",
       "      <td>5500254131236090112251_101136.B08</td>\n",
       "      <td>6502-00028</td>\n",
       "      <td>Week 0</td>\n",
       "      <td>diseased</td>\n",
       "      <td>27</td>\n",
       "      <td>M</td>\n",
       "      <td>Extensive</td>\n",
       "      <td>10.287132</td>\n",
       "      <td>7.426960</td>\n",
       "      <td>6.380001</td>\n",
       "      <td>...</td>\n",
       "      <td>4.753581</td>\n",
       "      <td>3.691656</td>\n",
       "      <td>3.603318</td>\n",
       "      <td>3.872274</td>\n",
       "      <td>4.784521</td>\n",
       "      <td>3.577326</td>\n",
       "      <td>3.710226</td>\n",
       "      <td>3.282151</td>\n",
       "      <td>3.888459</td>\n",
       "      <td>3.964700</td>\n",
       "    </tr>\n",
       "    <tr>\n",
       "      <th>2</th>\n",
       "      <td>5500254131236090112251_101136.E05</td>\n",
       "      <td>7756-00011</td>\n",
       "      <td>Week 0</td>\n",
       "      <td>diseased</td>\n",
       "      <td>46</td>\n",
       "      <td>M</td>\n",
       "      <td>Extensive</td>\n",
       "      <td>9.842515</td>\n",
       "      <td>7.312331</td>\n",
       "      <td>7.272196</td>\n",
       "      <td>...</td>\n",
       "      <td>4.408918</td>\n",
       "      <td>3.354399</td>\n",
       "      <td>3.609886</td>\n",
       "      <td>3.925905</td>\n",
       "      <td>4.356703</td>\n",
       "      <td>3.507491</td>\n",
       "      <td>3.593398</td>\n",
       "      <td>3.149996</td>\n",
       "      <td>3.718695</td>\n",
       "      <td>3.525178</td>\n",
       "    </tr>\n",
       "    <tr>\n",
       "      <th>3</th>\n",
       "      <td>5500254131236090112251_101136.G12</td>\n",
       "      <td>7530-00008</td>\n",
       "      <td>Week 0</td>\n",
       "      <td>diseased</td>\n",
       "      <td>56</td>\n",
       "      <td>M</td>\n",
       "      <td>Extensive</td>\n",
       "      <td>9.622503</td>\n",
       "      <td>7.743776</td>\n",
       "      <td>7.129598</td>\n",
       "      <td>...</td>\n",
       "      <td>4.668693</td>\n",
       "      <td>3.384722</td>\n",
       "      <td>3.578263</td>\n",
       "      <td>3.414231</td>\n",
       "      <td>4.444389</td>\n",
       "      <td>3.452806</td>\n",
       "      <td>3.561378</td>\n",
       "      <td>3.298016</td>\n",
       "      <td>3.663710</td>\n",
       "      <td>3.640893</td>\n",
       "    </tr>\n",
       "    <tr>\n",
       "      <th>4</th>\n",
       "      <td>5500254131236090112252_101136.A08</td>\n",
       "      <td>7530-00011</td>\n",
       "      <td>Week 0</td>\n",
       "      <td>diseased</td>\n",
       "      <td>63</td>\n",
       "      <td>F</td>\n",
       "      <td>Extensive</td>\n",
       "      <td>9.720709</td>\n",
       "      <td>7.099984</td>\n",
       "      <td>6.909100</td>\n",
       "      <td>...</td>\n",
       "      <td>4.703255</td>\n",
       "      <td>3.692352</td>\n",
       "      <td>3.520985</td>\n",
       "      <td>3.726691</td>\n",
       "      <td>4.575027</td>\n",
       "      <td>3.557793</td>\n",
       "      <td>3.549866</td>\n",
       "      <td>3.216523</td>\n",
       "      <td>3.678702</td>\n",
       "      <td>3.821898</td>\n",
       "    </tr>\n",
       "  </tbody>\n",
       "</table>\n",
       "<p>5 rows × 54722 columns</p>\n",
       "</div>"
      ],
      "text/plain": [
       "                                  ID SiteSubject ID   Visit Disease_or_Normal  \\\n",
       "0  5500254131236090112251_101136.A02     7532-00001  Week 0          diseased   \n",
       "1  5500254131236090112251_101136.B08     6502-00028  Week 0          diseased   \n",
       "2  5500254131236090112251_101136.E05     7756-00011  Week 0          diseased   \n",
       "3  5500254131236090112251_101136.G12     7530-00008  Week 0          diseased   \n",
       "4  5500254131236090112252_101136.A08     7530-00011  Week 0          diseased   \n",
       "\n",
       "  Age in Years Sex ExtentDisease  _1007_PM_s_at  _1053_PM_at  _117_PM_at  \\\n",
       "0           44   F     Extensive       9.674214     7.176943    7.530333   \n",
       "1           27   M     Extensive      10.287132     7.426960    6.380001   \n",
       "2           46   M     Extensive       9.842515     7.312331    7.272196   \n",
       "3           56   M     Extensive       9.622503     7.743776    7.129598   \n",
       "4           63   F     Extensive       9.720709     7.099984    6.909100   \n",
       "\n",
       "         ...         _AFFX-r2-TagO-3_at  _AFFX-r2-TagO-5_at  \\\n",
       "0        ...                   4.498194            3.455266   \n",
       "1        ...                   4.753581            3.691656   \n",
       "2        ...                   4.408918            3.354399   \n",
       "3        ...                   4.668693            3.384722   \n",
       "4        ...                   4.703255            3.692352   \n",
       "\n",
       "   _AFFX-r2-TagQ-3_at  _AFFX-r2-TagQ-5_at  _AFFX-ThrX-3_at  _AFFX-ThrX-5_at  \\\n",
       "0            3.531909            3.470912         4.453369         3.499877   \n",
       "1            3.603318            3.872274         4.784521         3.577326   \n",
       "2            3.609886            3.925905         4.356703         3.507491   \n",
       "3            3.578263            3.414231         4.444389         3.452806   \n",
       "4            3.520985            3.726691         4.575027         3.557793   \n",
       "\n",
       "   _AFFX-ThrX-M_at  _AFFX-TrpnX-3_at  _AFFX-TrpnX-5_at  _AFFX-TrpnX-M_at  \n",
       "0         3.659598          3.164482          3.729298          3.746295  \n",
       "1         3.710226          3.282151          3.888459          3.964700  \n",
       "2         3.593398          3.149996          3.718695          3.525178  \n",
       "3         3.561378          3.298016          3.663710          3.640893  \n",
       "4         3.549866          3.216523          3.678702          3.821898  \n",
       "\n",
       "[5 rows x 54722 columns]"
      ]
     },
     "execution_count": 8,
     "metadata": {},
     "output_type": "execute_result"
    }
   ],
   "source": [
    "gus_processed_path = '/home/gus/MEGAsync/zim/main/BCH/Projects/Jodie_and_James/labeled_data_gus.csv'\n",
    "gus_processed_data = pd.read_csv(gus_processed_path)\n",
    "gus_processed_data.head()"
   ]
  },
  {
   "cell_type": "code",
   "execution_count": 9,
   "metadata": {
    "collapsed": false
   },
   "outputs": [],
   "source": [
    "# # tax_scaled = tax.T.apply(lambda m: (m - m.mean())/m.std()).T\n",
    "# # tax_scaled = tax.T.apply(lambda m: (m / m.sum())).T\n",
    "# # tax_scaled = tax\n",
    "\n",
    "# tax_shrunk = tax.sum().min() / tax.sum() * tax\n",
    "\n",
    "# tax_scaled = tax_shrunk.T.apply(lambda m: (m - m.mean())/m.std()).T"
   ]
  },
  {
   "cell_type": "code",
   "execution_count": 10,
   "metadata": {
    "collapsed": false
   },
   "outputs": [],
   "source": [
    "full_table = gus_processed_data"
   ]
  },
  {
   "cell_type": "code",
   "execution_count": 11,
   "metadata": {
    "collapsed": false,
    "scrolled": true
   },
   "outputs": [
    {
     "data": {
      "text/html": [
       "<div>\n",
       "<table border=\"1\" class=\"dataframe\">\n",
       "  <thead>\n",
       "    <tr style=\"text-align: right;\">\n",
       "      <th></th>\n",
       "      <th>ID</th>\n",
       "      <th>SiteSubject ID</th>\n",
       "      <th>Visit</th>\n",
       "      <th>Disease_or_Normal</th>\n",
       "      <th>Age in Years</th>\n",
       "      <th>Sex</th>\n",
       "      <th>ExtentDisease</th>\n",
       "      <th>_1007_PM_s_at</th>\n",
       "      <th>_1053_PM_at</th>\n",
       "      <th>_117_PM_at</th>\n",
       "      <th>...</th>\n",
       "      <th>_AFFX-r2-TagO-3_at</th>\n",
       "      <th>_AFFX-r2-TagO-5_at</th>\n",
       "      <th>_AFFX-r2-TagQ-3_at</th>\n",
       "      <th>_AFFX-r2-TagQ-5_at</th>\n",
       "      <th>_AFFX-ThrX-3_at</th>\n",
       "      <th>_AFFX-ThrX-5_at</th>\n",
       "      <th>_AFFX-ThrX-M_at</th>\n",
       "      <th>_AFFX-TrpnX-3_at</th>\n",
       "      <th>_AFFX-TrpnX-5_at</th>\n",
       "      <th>_AFFX-TrpnX-M_at</th>\n",
       "    </tr>\n",
       "  </thead>\n",
       "  <tbody>\n",
       "    <tr>\n",
       "      <th>0</th>\n",
       "      <td>5500254131236090112251_101136.A02</td>\n",
       "      <td>7532-00001</td>\n",
       "      <td>Week 0</td>\n",
       "      <td>diseased</td>\n",
       "      <td>44</td>\n",
       "      <td>F</td>\n",
       "      <td>Extensive</td>\n",
       "      <td>9.674214</td>\n",
       "      <td>7.176943</td>\n",
       "      <td>7.530333</td>\n",
       "      <td>...</td>\n",
       "      <td>4.498194</td>\n",
       "      <td>3.455266</td>\n",
       "      <td>3.531909</td>\n",
       "      <td>3.470912</td>\n",
       "      <td>4.453369</td>\n",
       "      <td>3.499877</td>\n",
       "      <td>3.659598</td>\n",
       "      <td>3.164482</td>\n",
       "      <td>3.729298</td>\n",
       "      <td>3.746295</td>\n",
       "    </tr>\n",
       "    <tr>\n",
       "      <th>1</th>\n",
       "      <td>5500254131236090112251_101136.B08</td>\n",
       "      <td>6502-00028</td>\n",
       "      <td>Week 0</td>\n",
       "      <td>diseased</td>\n",
       "      <td>27</td>\n",
       "      <td>M</td>\n",
       "      <td>Extensive</td>\n",
       "      <td>10.287132</td>\n",
       "      <td>7.426960</td>\n",
       "      <td>6.380001</td>\n",
       "      <td>...</td>\n",
       "      <td>4.753581</td>\n",
       "      <td>3.691656</td>\n",
       "      <td>3.603318</td>\n",
       "      <td>3.872274</td>\n",
       "      <td>4.784521</td>\n",
       "      <td>3.577326</td>\n",
       "      <td>3.710226</td>\n",
       "      <td>3.282151</td>\n",
       "      <td>3.888459</td>\n",
       "      <td>3.964700</td>\n",
       "    </tr>\n",
       "    <tr>\n",
       "      <th>2</th>\n",
       "      <td>5500254131236090112251_101136.E05</td>\n",
       "      <td>7756-00011</td>\n",
       "      <td>Week 0</td>\n",
       "      <td>diseased</td>\n",
       "      <td>46</td>\n",
       "      <td>M</td>\n",
       "      <td>Extensive</td>\n",
       "      <td>9.842515</td>\n",
       "      <td>7.312331</td>\n",
       "      <td>7.272196</td>\n",
       "      <td>...</td>\n",
       "      <td>4.408918</td>\n",
       "      <td>3.354399</td>\n",
       "      <td>3.609886</td>\n",
       "      <td>3.925905</td>\n",
       "      <td>4.356703</td>\n",
       "      <td>3.507491</td>\n",
       "      <td>3.593398</td>\n",
       "      <td>3.149996</td>\n",
       "      <td>3.718695</td>\n",
       "      <td>3.525178</td>\n",
       "    </tr>\n",
       "    <tr>\n",
       "      <th>3</th>\n",
       "      <td>5500254131236090112251_101136.G12</td>\n",
       "      <td>7530-00008</td>\n",
       "      <td>Week 0</td>\n",
       "      <td>diseased</td>\n",
       "      <td>56</td>\n",
       "      <td>M</td>\n",
       "      <td>Extensive</td>\n",
       "      <td>9.622503</td>\n",
       "      <td>7.743776</td>\n",
       "      <td>7.129598</td>\n",
       "      <td>...</td>\n",
       "      <td>4.668693</td>\n",
       "      <td>3.384722</td>\n",
       "      <td>3.578263</td>\n",
       "      <td>3.414231</td>\n",
       "      <td>4.444389</td>\n",
       "      <td>3.452806</td>\n",
       "      <td>3.561378</td>\n",
       "      <td>3.298016</td>\n",
       "      <td>3.663710</td>\n",
       "      <td>3.640893</td>\n",
       "    </tr>\n",
       "    <tr>\n",
       "      <th>4</th>\n",
       "      <td>5500254131236090112252_101136.A08</td>\n",
       "      <td>7530-00011</td>\n",
       "      <td>Week 0</td>\n",
       "      <td>diseased</td>\n",
       "      <td>63</td>\n",
       "      <td>F</td>\n",
       "      <td>Extensive</td>\n",
       "      <td>9.720709</td>\n",
       "      <td>7.099984</td>\n",
       "      <td>6.909100</td>\n",
       "      <td>...</td>\n",
       "      <td>4.703255</td>\n",
       "      <td>3.692352</td>\n",
       "      <td>3.520985</td>\n",
       "      <td>3.726691</td>\n",
       "      <td>4.575027</td>\n",
       "      <td>3.557793</td>\n",
       "      <td>3.549866</td>\n",
       "      <td>3.216523</td>\n",
       "      <td>3.678702</td>\n",
       "      <td>3.821898</td>\n",
       "    </tr>\n",
       "  </tbody>\n",
       "</table>\n",
       "<p>5 rows × 54722 columns</p>\n",
       "</div>"
      ],
      "text/plain": [
       "                                  ID SiteSubject ID   Visit Disease_or_Normal  \\\n",
       "0  5500254131236090112251_101136.A02     7532-00001  Week 0          diseased   \n",
       "1  5500254131236090112251_101136.B08     6502-00028  Week 0          diseased   \n",
       "2  5500254131236090112251_101136.E05     7756-00011  Week 0          diseased   \n",
       "3  5500254131236090112251_101136.G12     7530-00008  Week 0          diseased   \n",
       "4  5500254131236090112252_101136.A08     7530-00011  Week 0          diseased   \n",
       "\n",
       "  Age in Years Sex ExtentDisease  _1007_PM_s_at  _1053_PM_at  _117_PM_at  \\\n",
       "0           44   F     Extensive       9.674214     7.176943    7.530333   \n",
       "1           27   M     Extensive      10.287132     7.426960    6.380001   \n",
       "2           46   M     Extensive       9.842515     7.312331    7.272196   \n",
       "3           56   M     Extensive       9.622503     7.743776    7.129598   \n",
       "4           63   F     Extensive       9.720709     7.099984    6.909100   \n",
       "\n",
       "         ...         _AFFX-r2-TagO-3_at  _AFFX-r2-TagO-5_at  \\\n",
       "0        ...                   4.498194            3.455266   \n",
       "1        ...                   4.753581            3.691656   \n",
       "2        ...                   4.408918            3.354399   \n",
       "3        ...                   4.668693            3.384722   \n",
       "4        ...                   4.703255            3.692352   \n",
       "\n",
       "   _AFFX-r2-TagQ-3_at  _AFFX-r2-TagQ-5_at  _AFFX-ThrX-3_at  _AFFX-ThrX-5_at  \\\n",
       "0            3.531909            3.470912         4.453369         3.499877   \n",
       "1            3.603318            3.872274         4.784521         3.577326   \n",
       "2            3.609886            3.925905         4.356703         3.507491   \n",
       "3            3.578263            3.414231         4.444389         3.452806   \n",
       "4            3.520985            3.726691         4.575027         3.557793   \n",
       "\n",
       "   _AFFX-ThrX-M_at  _AFFX-TrpnX-3_at  _AFFX-TrpnX-5_at  _AFFX-TrpnX-M_at  \n",
       "0         3.659598          3.164482          3.729298          3.746295  \n",
       "1         3.710226          3.282151          3.888459          3.964700  \n",
       "2         3.593398          3.149996          3.718695          3.525178  \n",
       "3         3.561378          3.298016          3.663710          3.640893  \n",
       "4         3.549866          3.216523          3.678702          3.821898  \n",
       "\n",
       "[5 rows x 54722 columns]"
      ]
     },
     "execution_count": 11,
     "metadata": {},
     "output_type": "execute_result"
    }
   ],
   "source": [
    "full_table.head()"
   ]
  },
  {
   "cell_type": "markdown",
   "metadata": {},
   "source": [
    "# Encode 'y' (labels)"
   ]
  },
  {
   "cell_type": "code",
   "execution_count": 12,
   "metadata": {
    "collapsed": true
   },
   "outputs": [],
   "source": [
    "y_disease_any_dis = full_table['Disease_or_Normal']\n",
    "y_disease_spc_dis = full_table['ExtentDisease']\n",
    "disease_encoder_any = ppro.LabelEncoder()\n",
    "disease_encoder_spc = ppro.LabelEncoder()\n",
    "y_disease_encoded_any = disease_encoder_any.fit_transform(y_disease_any_dis)\n",
    "y_disease_encoded_spc = disease_encoder_spc.fit_transform(y_disease_spc_dis)"
   ]
  },
  {
   "cell_type": "markdown",
   "metadata": {},
   "source": [
    "# Encode 'X' (data)"
   ]
  },
  {
   "cell_type": "markdown",
   "metadata": {},
   "source": [
    "## Combine (or not) the categorical and numerical data types for X"
   ]
  },
  {
   "cell_type": "code",
   "execution_count": 13,
   "metadata": {
    "collapsed": false
   },
   "outputs": [],
   "source": [
    "X_cols_cat = list(full_table.columns[[5]].values)\n",
    "X_cols_num = list(full_table.columns[7:])"
   ]
  },
  {
   "cell_type": "code",
   "execution_count": 14,
   "metadata": {
    "collapsed": false
   },
   "outputs": [],
   "source": [
    "# X_cols_cat"
   ]
  },
  {
   "cell_type": "code",
   "execution_count": 15,
   "metadata": {
    "collapsed": true
   },
   "outputs": [],
   "source": [
    "# make the dummy variable columns for the original categorical data columns\n",
    "# HOPEFULLY we dont run into colinearity issues\n",
    "X_data_cat = pd.get_dummies(full_table[X_cols_cat].astype(str))"
   ]
  },
  {
   "cell_type": "code",
   "execution_count": 16,
   "metadata": {
    "collapsed": false
   },
   "outputs": [
    {
     "data": {
      "text/html": [
       "<div>\n",
       "<table border=\"1\" class=\"dataframe\">\n",
       "  <thead>\n",
       "    <tr style=\"text-align: right;\">\n",
       "      <th></th>\n",
       "      <th>Sex_.</th>\n",
       "      <th>Sex_F</th>\n",
       "      <th>Sex_M</th>\n",
       "    </tr>\n",
       "  </thead>\n",
       "  <tbody>\n",
       "    <tr>\n",
       "      <th>0</th>\n",
       "      <td>0</td>\n",
       "      <td>1</td>\n",
       "      <td>0</td>\n",
       "    </tr>\n",
       "    <tr>\n",
       "      <th>1</th>\n",
       "      <td>0</td>\n",
       "      <td>0</td>\n",
       "      <td>1</td>\n",
       "    </tr>\n",
       "    <tr>\n",
       "      <th>2</th>\n",
       "      <td>0</td>\n",
       "      <td>0</td>\n",
       "      <td>1</td>\n",
       "    </tr>\n",
       "    <tr>\n",
       "      <th>3</th>\n",
       "      <td>0</td>\n",
       "      <td>0</td>\n",
       "      <td>1</td>\n",
       "    </tr>\n",
       "    <tr>\n",
       "      <th>4</th>\n",
       "      <td>0</td>\n",
       "      <td>1</td>\n",
       "      <td>0</td>\n",
       "    </tr>\n",
       "  </tbody>\n",
       "</table>\n",
       "</div>"
      ],
      "text/plain": [
       "   Sex_.  Sex_F  Sex_M\n",
       "0      0      1      0\n",
       "1      0      0      1\n",
       "2      0      0      1\n",
       "3      0      0      1\n",
       "4      0      1      0"
      ]
     },
     "execution_count": 16,
     "metadata": {},
     "output_type": "execute_result"
    }
   ],
   "source": [
    "X_data_cat.head()"
   ]
  },
  {
   "cell_type": "markdown",
   "metadata": {},
   "source": [
    "NOTE: because some subjects have `.` listed as Sex, we can not properly accomidate this information.\n",
    "\n",
    "\n",
    "NO CATEGORICAL DATA WILL BE RETAINED"
   ]
  },
  {
   "cell_type": "code",
   "execution_count": 17,
   "metadata": {
    "collapsed": false
   },
   "outputs": [],
   "source": [
    "# put all data columns together\n",
    "\n",
    "X = full_table[X_cols_num].copy() # IGNORING Sex\n",
    "X['ID'] = full_table.ID.copy()\n",
    "X = X.set_index('ID')"
   ]
  },
  {
   "cell_type": "code",
   "execution_count": 18,
   "metadata": {
    "collapsed": false
   },
   "outputs": [
    {
     "data": {
      "text/html": [
       "<div>\n",
       "<table border=\"1\" class=\"dataframe\">\n",
       "  <thead>\n",
       "    <tr style=\"text-align: right;\">\n",
       "      <th></th>\n",
       "      <th>_1007_PM_s_at</th>\n",
       "      <th>_1053_PM_at</th>\n",
       "      <th>_117_PM_at</th>\n",
       "      <th>_121_PM_at</th>\n",
       "      <th>_1255_PM_g_at</th>\n",
       "      <th>_1294_PM_at</th>\n",
       "      <th>_1316_PM_at</th>\n",
       "      <th>_1320_PM_at</th>\n",
       "      <th>_1405_PM_i_at</th>\n",
       "      <th>_1431_PM_at</th>\n",
       "      <th>...</th>\n",
       "      <th>_AFFX-r2-TagO-3_at</th>\n",
       "      <th>_AFFX-r2-TagO-5_at</th>\n",
       "      <th>_AFFX-r2-TagQ-3_at</th>\n",
       "      <th>_AFFX-r2-TagQ-5_at</th>\n",
       "      <th>_AFFX-ThrX-3_at</th>\n",
       "      <th>_AFFX-ThrX-5_at</th>\n",
       "      <th>_AFFX-ThrX-M_at</th>\n",
       "      <th>_AFFX-TrpnX-3_at</th>\n",
       "      <th>_AFFX-TrpnX-5_at</th>\n",
       "      <th>_AFFX-TrpnX-M_at</th>\n",
       "    </tr>\n",
       "    <tr>\n",
       "      <th>ID</th>\n",
       "      <th></th>\n",
       "      <th></th>\n",
       "      <th></th>\n",
       "      <th></th>\n",
       "      <th></th>\n",
       "      <th></th>\n",
       "      <th></th>\n",
       "      <th></th>\n",
       "      <th></th>\n",
       "      <th></th>\n",
       "      <th></th>\n",
       "      <th></th>\n",
       "      <th></th>\n",
       "      <th></th>\n",
       "      <th></th>\n",
       "      <th></th>\n",
       "      <th></th>\n",
       "      <th></th>\n",
       "      <th></th>\n",
       "      <th></th>\n",
       "      <th></th>\n",
       "    </tr>\n",
       "  </thead>\n",
       "  <tbody>\n",
       "    <tr>\n",
       "      <th>5500254131236090112251_101136.A02</th>\n",
       "      <td>9.674214</td>\n",
       "      <td>7.176943</td>\n",
       "      <td>7.530333</td>\n",
       "      <td>7.032434</td>\n",
       "      <td>3.314738</td>\n",
       "      <td>9.043722</td>\n",
       "      <td>6.816082</td>\n",
       "      <td>5.757636</td>\n",
       "      <td>7.180860</td>\n",
       "      <td>4.285610</td>\n",
       "      <td>...</td>\n",
       "      <td>4.498194</td>\n",
       "      <td>3.455266</td>\n",
       "      <td>3.531909</td>\n",
       "      <td>3.470912</td>\n",
       "      <td>4.453369</td>\n",
       "      <td>3.499877</td>\n",
       "      <td>3.659598</td>\n",
       "      <td>3.164482</td>\n",
       "      <td>3.729298</td>\n",
       "      <td>3.746295</td>\n",
       "    </tr>\n",
       "    <tr>\n",
       "      <th>5500254131236090112251_101136.B08</th>\n",
       "      <td>10.287132</td>\n",
       "      <td>7.426960</td>\n",
       "      <td>6.380001</td>\n",
       "      <td>7.577584</td>\n",
       "      <td>3.527655</td>\n",
       "      <td>9.082327</td>\n",
       "      <td>7.414247</td>\n",
       "      <td>6.139447</td>\n",
       "      <td>8.159124</td>\n",
       "      <td>3.998207</td>\n",
       "      <td>...</td>\n",
       "      <td>4.753581</td>\n",
       "      <td>3.691656</td>\n",
       "      <td>3.603318</td>\n",
       "      <td>3.872274</td>\n",
       "      <td>4.784521</td>\n",
       "      <td>3.577326</td>\n",
       "      <td>3.710226</td>\n",
       "      <td>3.282151</td>\n",
       "      <td>3.888459</td>\n",
       "      <td>3.964700</td>\n",
       "    </tr>\n",
       "    <tr>\n",
       "      <th>5500254131236090112251_101136.E05</th>\n",
       "      <td>9.842515</td>\n",
       "      <td>7.312331</td>\n",
       "      <td>7.272196</td>\n",
       "      <td>6.793723</td>\n",
       "      <td>3.455780</td>\n",
       "      <td>8.750017</td>\n",
       "      <td>6.963601</td>\n",
       "      <td>5.680492</td>\n",
       "      <td>6.388111</td>\n",
       "      <td>4.609823</td>\n",
       "      <td>...</td>\n",
       "      <td>4.408918</td>\n",
       "      <td>3.354399</td>\n",
       "      <td>3.609886</td>\n",
       "      <td>3.925905</td>\n",
       "      <td>4.356703</td>\n",
       "      <td>3.507491</td>\n",
       "      <td>3.593398</td>\n",
       "      <td>3.149996</td>\n",
       "      <td>3.718695</td>\n",
       "      <td>3.525178</td>\n",
       "    </tr>\n",
       "    <tr>\n",
       "      <th>5500254131236090112251_101136.G12</th>\n",
       "      <td>9.622503</td>\n",
       "      <td>7.743776</td>\n",
       "      <td>7.129598</td>\n",
       "      <td>6.437619</td>\n",
       "      <td>3.376454</td>\n",
       "      <td>9.169355</td>\n",
       "      <td>6.924986</td>\n",
       "      <td>5.812655</td>\n",
       "      <td>8.538156</td>\n",
       "      <td>4.205977</td>\n",
       "      <td>...</td>\n",
       "      <td>4.668693</td>\n",
       "      <td>3.384722</td>\n",
       "      <td>3.578263</td>\n",
       "      <td>3.414231</td>\n",
       "      <td>4.444389</td>\n",
       "      <td>3.452806</td>\n",
       "      <td>3.561378</td>\n",
       "      <td>3.298016</td>\n",
       "      <td>3.663710</td>\n",
       "      <td>3.640893</td>\n",
       "    </tr>\n",
       "    <tr>\n",
       "      <th>5500254131236090112252_101136.A08</th>\n",
       "      <td>9.720709</td>\n",
       "      <td>7.099984</td>\n",
       "      <td>6.909100</td>\n",
       "      <td>6.427605</td>\n",
       "      <td>3.419198</td>\n",
       "      <td>9.453103</td>\n",
       "      <td>7.551722</td>\n",
       "      <td>5.793996</td>\n",
       "      <td>8.234240</td>\n",
       "      <td>4.299076</td>\n",
       "      <td>...</td>\n",
       "      <td>4.703255</td>\n",
       "      <td>3.692352</td>\n",
       "      <td>3.520985</td>\n",
       "      <td>3.726691</td>\n",
       "      <td>4.575027</td>\n",
       "      <td>3.557793</td>\n",
       "      <td>3.549866</td>\n",
       "      <td>3.216523</td>\n",
       "      <td>3.678702</td>\n",
       "      <td>3.821898</td>\n",
       "    </tr>\n",
       "  </tbody>\n",
       "</table>\n",
       "<p>5 rows × 54715 columns</p>\n",
       "</div>"
      ],
      "text/plain": [
       "                                   _1007_PM_s_at  _1053_PM_at  _117_PM_at  \\\n",
       "ID                                                                          \n",
       "5500254131236090112251_101136.A02       9.674214     7.176943    7.530333   \n",
       "5500254131236090112251_101136.B08      10.287132     7.426960    6.380001   \n",
       "5500254131236090112251_101136.E05       9.842515     7.312331    7.272196   \n",
       "5500254131236090112251_101136.G12       9.622503     7.743776    7.129598   \n",
       "5500254131236090112252_101136.A08       9.720709     7.099984    6.909100   \n",
       "\n",
       "                                   _121_PM_at  _1255_PM_g_at  _1294_PM_at  \\\n",
       "ID                                                                          \n",
       "5500254131236090112251_101136.A02    7.032434       3.314738     9.043722   \n",
       "5500254131236090112251_101136.B08    7.577584       3.527655     9.082327   \n",
       "5500254131236090112251_101136.E05    6.793723       3.455780     8.750017   \n",
       "5500254131236090112251_101136.G12    6.437619       3.376454     9.169355   \n",
       "5500254131236090112252_101136.A08    6.427605       3.419198     9.453103   \n",
       "\n",
       "                                   _1316_PM_at  _1320_PM_at  _1405_PM_i_at  \\\n",
       "ID                                                                           \n",
       "5500254131236090112251_101136.A02     6.816082     5.757636       7.180860   \n",
       "5500254131236090112251_101136.B08     7.414247     6.139447       8.159124   \n",
       "5500254131236090112251_101136.E05     6.963601     5.680492       6.388111   \n",
       "5500254131236090112251_101136.G12     6.924986     5.812655       8.538156   \n",
       "5500254131236090112252_101136.A08     7.551722     5.793996       8.234240   \n",
       "\n",
       "                                   _1431_PM_at        ...         \\\n",
       "ID                                                    ...          \n",
       "5500254131236090112251_101136.A02     4.285610        ...          \n",
       "5500254131236090112251_101136.B08     3.998207        ...          \n",
       "5500254131236090112251_101136.E05     4.609823        ...          \n",
       "5500254131236090112251_101136.G12     4.205977        ...          \n",
       "5500254131236090112252_101136.A08     4.299076        ...          \n",
       "\n",
       "                                   _AFFX-r2-TagO-3_at  _AFFX-r2-TagO-5_at  \\\n",
       "ID                                                                          \n",
       "5500254131236090112251_101136.A02            4.498194            3.455266   \n",
       "5500254131236090112251_101136.B08            4.753581            3.691656   \n",
       "5500254131236090112251_101136.E05            4.408918            3.354399   \n",
       "5500254131236090112251_101136.G12            4.668693            3.384722   \n",
       "5500254131236090112252_101136.A08            4.703255            3.692352   \n",
       "\n",
       "                                   _AFFX-r2-TagQ-3_at  _AFFX-r2-TagQ-5_at  \\\n",
       "ID                                                                          \n",
       "5500254131236090112251_101136.A02            3.531909            3.470912   \n",
       "5500254131236090112251_101136.B08            3.603318            3.872274   \n",
       "5500254131236090112251_101136.E05            3.609886            3.925905   \n",
       "5500254131236090112251_101136.G12            3.578263            3.414231   \n",
       "5500254131236090112252_101136.A08            3.520985            3.726691   \n",
       "\n",
       "                                   _AFFX-ThrX-3_at  _AFFX-ThrX-5_at  \\\n",
       "ID                                                                    \n",
       "5500254131236090112251_101136.A02         4.453369         3.499877   \n",
       "5500254131236090112251_101136.B08         4.784521         3.577326   \n",
       "5500254131236090112251_101136.E05         4.356703         3.507491   \n",
       "5500254131236090112251_101136.G12         4.444389         3.452806   \n",
       "5500254131236090112252_101136.A08         4.575027         3.557793   \n",
       "\n",
       "                                   _AFFX-ThrX-M_at  _AFFX-TrpnX-3_at  \\\n",
       "ID                                                                     \n",
       "5500254131236090112251_101136.A02         3.659598          3.164482   \n",
       "5500254131236090112251_101136.B08         3.710226          3.282151   \n",
       "5500254131236090112251_101136.E05         3.593398          3.149996   \n",
       "5500254131236090112251_101136.G12         3.561378          3.298016   \n",
       "5500254131236090112252_101136.A08         3.549866          3.216523   \n",
       "\n",
       "                                   _AFFX-TrpnX-5_at  _AFFX-TrpnX-M_at  \n",
       "ID                                                                     \n",
       "5500254131236090112251_101136.A02          3.729298          3.746295  \n",
       "5500254131236090112251_101136.B08          3.888459          3.964700  \n",
       "5500254131236090112251_101136.E05          3.718695          3.525178  \n",
       "5500254131236090112251_101136.G12          3.663710          3.640893  \n",
       "5500254131236090112252_101136.A08          3.678702          3.821898  \n",
       "\n",
       "[5 rows x 54715 columns]"
      ]
     },
     "execution_count": 18,
     "metadata": {},
     "output_type": "execute_result"
    }
   ],
   "source": [
    "X.head()"
   ]
  },
  {
   "cell_type": "code",
   "execution_count": 19,
   "metadata": {
    "collapsed": false
   },
   "outputs": [
    {
     "name": "stdout",
     "output_type": "stream",
     "text": [
      "explained_variance_ratio_ of top 2: 0.380142404164\n",
      "               PC 1        PC 2\n",
      "diseased -37.340497   10.757052\n",
      "diseased  58.443815   27.655610\n",
      "diseased -58.907401   41.396034\n",
      "diseased -30.947769   46.694888\n",
      "diseased -14.386648   -4.048464\n",
      "diseased  -3.918087   37.716107\n",
      "diseased -18.426812   33.961307\n",
      "diseased -64.945276    2.423432\n",
      "diseased  43.925704  -42.990774\n",
      "diseased -76.997353   31.834247\n",
      "diseased -50.362856   20.779564\n",
      "diseased  -5.386842  -81.084503\n",
      "diseased -79.056697   -5.291783\n",
      "diseased -15.528685  -82.978275\n",
      "diseased -79.153637  -58.622138\n",
      "diseased  30.291843   15.531620\n",
      "diseased  59.072894   -4.464865\n",
      "diseased -82.556982  -10.657647\n",
      "diseased -54.166270  -23.491806\n",
      "diseased -28.750783   28.688891\n",
      "diseased -19.533484  -13.210801\n",
      "diseased  27.748921    2.867552\n",
      "diseased -49.331354  -55.102989\n",
      "diseased  35.438998   16.472660\n",
      "diseased -91.549622   19.966290\n",
      "diseased -54.837393   38.210869\n",
      "diseased -24.828823   40.331158\n",
      "diseased  16.653422   -4.283375\n",
      "diseased -14.691842  -74.504741\n",
      "diseased -29.311062  -93.451959\n",
      "...             ...         ...\n",
      "diseased -20.628312    4.384239\n",
      "diseased -44.754560   38.110730\n",
      "diseased -10.377215  -10.672083\n",
      "diseased -68.844480   17.659495\n",
      "diseased -10.440294   19.280856\n",
      "diseased -16.540821   15.461272\n",
      "diseased  -7.314033   15.629342\n",
      "diseased -23.116379  -92.616120\n",
      "diseased -31.350147   29.639624\n",
      "Normal    71.004543  -13.603051\n",
      "Normal    81.918793   19.626953\n",
      "Normal    59.339807   11.772209\n",
      "Normal    71.040969   40.568734\n",
      "Normal    80.539569   -5.060294\n",
      "Normal    89.602906  -49.259060\n",
      "Normal    83.057252  -56.930933\n",
      "Normal    79.877173  -71.033417\n",
      "Normal    60.709504 -121.076281\n",
      "Normal    84.990069  -40.625712\n",
      "Normal    46.770863   49.001150\n",
      "Normal    88.736135  -29.229493\n",
      "Normal    81.874747   17.360472\n",
      "Normal    60.287865   10.138069\n",
      "Normal    56.182990   21.120139\n",
      "Normal    82.333262   54.624622\n",
      "Normal    77.421936   50.921982\n",
      "Normal    94.811241  -65.298127\n",
      "Normal    76.006754   40.208907\n",
      "Normal    80.464743   14.634614\n",
      "Normal    91.343922   51.064808\n",
      "\n",
      "[108 rows x 2 columns]\n"
     ]
    }
   ],
   "source": [
    "# pca = PCA(n_components=2, whiten=False)\n",
    "pca = PCA(n_components=2, whiten=False)\n",
    "\n",
    "\n",
    "pca_t = pca.fit_transform(X,y_disease_encoded_any)\n",
    "top_n_comp = 2\n",
    "print('explained_variance_ratio_ of top {num}: {val}'.format(num=top_n_comp,val=pca.explained_variance_ratio_[:top_n_comp].sum()))\n",
    "\n",
    "pca_t_l = pandas_helpers.repandasify(array=pca_t, y_names=disease_encoder_any.inverse_transform(y_disease_encoded_any), X_names=['PC {v_}'.format(v_=v+1) for v in range(len(pca_t[0]))])\n",
    "print(pca_t_l)"
   ]
  },
  {
   "cell_type": "code",
   "execution_count": 20,
   "metadata": {
    "collapsed": false
   },
   "outputs": [],
   "source": [
    "pca_t_l = pandas_helpers.repandasify(array=pca_t, y_names=disease_encoder_any.inverse_transform(y_disease_encoded_any), X_names=['PC {v_}'.format(v_=v+1) for v in range(len(pca_t[0]))])\n",
    "\n",
    "pca_t_l = pca_t_l.reset_index(drop=True)\n",
    "pca_t_l['ExtentDisease'] = full_table['ExtentDisease']\n",
    "pca_t_l['Disease_or_Normal'] = full_table['Disease_or_Normal']\n",
    "# pca_t_l"
   ]
  },
  {
   "cell_type": "code",
   "execution_count": 21,
   "metadata": {
    "collapsed": false
   },
   "outputs": [
    {
     "data": {
      "text/html": [
       "<div>\n",
       "<table border=\"1\" class=\"dataframe\">\n",
       "  <thead>\n",
       "    <tr style=\"text-align: right;\">\n",
       "      <th></th>\n",
       "      <th>PC 1</th>\n",
       "      <th>PC 2</th>\n",
       "      <th>ExtentDisease</th>\n",
       "      <th>Disease_or_Normal</th>\n",
       "    </tr>\n",
       "  </thead>\n",
       "  <tbody>\n",
       "    <tr>\n",
       "      <th>0</th>\n",
       "      <td>-37.340497</td>\n",
       "      <td>10.757052</td>\n",
       "      <td>Extensive</td>\n",
       "      <td>diseased</td>\n",
       "    </tr>\n",
       "    <tr>\n",
       "      <th>1</th>\n",
       "      <td>58.443815</td>\n",
       "      <td>27.655610</td>\n",
       "      <td>Extensive</td>\n",
       "      <td>diseased</td>\n",
       "    </tr>\n",
       "    <tr>\n",
       "      <th>2</th>\n",
       "      <td>-58.907401</td>\n",
       "      <td>41.396034</td>\n",
       "      <td>Extensive</td>\n",
       "      <td>diseased</td>\n",
       "    </tr>\n",
       "    <tr>\n",
       "      <th>3</th>\n",
       "      <td>-30.947769</td>\n",
       "      <td>46.694888</td>\n",
       "      <td>Extensive</td>\n",
       "      <td>diseased</td>\n",
       "    </tr>\n",
       "    <tr>\n",
       "      <th>4</th>\n",
       "      <td>-14.386648</td>\n",
       "      <td>-4.048464</td>\n",
       "      <td>Extensive</td>\n",
       "      <td>diseased</td>\n",
       "    </tr>\n",
       "  </tbody>\n",
       "</table>\n",
       "</div>"
      ],
      "text/plain": [
       "        PC 1       PC 2 ExtentDisease Disease_or_Normal\n",
       "0 -37.340497  10.757052     Extensive          diseased\n",
       "1  58.443815  27.655610     Extensive          diseased\n",
       "2 -58.907401  41.396034     Extensive          diseased\n",
       "3 -30.947769  46.694888     Extensive          diseased\n",
       "4 -14.386648  -4.048464     Extensive          diseased"
      ]
     },
     "execution_count": 21,
     "metadata": {},
     "output_type": "execute_result"
    }
   ],
   "source": [
    "pca_t_l.head()"
   ]
  },
  {
   "cell_type": "code",
   "execution_count": 22,
   "metadata": {
    "collapsed": false
   },
   "outputs": [
    {
     "data": {
      "image/png": "[encoded data removed]",
      "text/plain": [
       "<matplotlib.figure.Figure at 0x7f124ef80d50>"
      ]
     },
     "metadata": {},
     "output_type": "display_data"
    }
   ],
   "source": [
    "with sns.color_palette(sns.color_palette(\"hls\", 2)):\n",
    "    with sns.axes_style(\"white\"):\n",
    "        sns.lmplot(x='PC 1', y='PC 2', data=pca_t_l.append(pca_t_l.iloc[9,:]), #sns.lmplot(x='PC 1', y='PC 2', data=pca_t_l,\n",
    "                   hue='ExtentDisease', palette=None,\n",
    "                   fit_reg=False,\n",
    "                   scatter_kws={'alpha':0.7}\n",
    "                  );"
   ]
  },
  {
   "cell_type": "markdown",
   "metadata": {},
   "source": [
    "# Feature Selection"
   ]
  },
  {
   "cell_type": "markdown",
   "metadata": {},
   "source": [
    "## LogisticRegression method\n",
    "\n",
    "- ran this a couple times manually and got varying numbers of features retained\n",
    "- I decided to \n",
    "    - run it 100 times\n",
    "    - count how frequently each feature is retained\n",
    "    - keep the top X number of them"
   ]
  },
  {
   "cell_type": "code",
   "execution_count": 23,
   "metadata": {
    "collapsed": false
   },
   "outputs": [
    {
     "data": {
      "text/plain": [
       "sklearn.linear_model.randomized_l1.RandomizedLogisticRegression"
      ]
     },
     "execution_count": 23,
     "metadata": {},
     "output_type": "execute_result"
    }
   ],
   "source": [
    "RandomizedLogisticRegression"
   ]
  },
  {
   "cell_type": "code",
   "execution_count": 24,
   "metadata": {
    "collapsed": false
   },
   "outputs": [],
   "source": [
    "rlgrg = RandomizedLogisticRegression(C=1, scaling=0.5, \n",
    "                                      sample_fraction=0.70, n_resampling=500, \n",
    "                                      verbose=False, normalize=False, \n",
    "                                      random_state=None, n_jobs=1, )\n",
    "# rlgrg.fit(X_, y_)\n",
    " \n",
    "\n"
   ]
  },
  {
   "cell_type": "code",
   "execution_count": 25,
   "metadata": {
    "collapsed": true
   },
   "outputs": [],
   "source": [
    "# select_k_best = SelectKBest(chi2, k=50)"
   ]
  },
  {
   "cell_type": "code",
   "execution_count": 26,
   "metadata": {
    "collapsed": true
   },
   "outputs": [],
   "source": [
    "# X_kbest = select_k_best.fit_transform(X, y_disease_encoded_any)"
   ]
  },
  {
   "cell_type": "code",
   "execution_count": 27,
   "metadata": {
    "collapsed": false
   },
   "outputs": [],
   "source": [
    "# select_k_best.scores_"
   ]
  },
  {
   "cell_type": "code",
   "execution_count": 28,
   "metadata": {
    "collapsed": false
   },
   "outputs": [],
   "source": [
    "# X.columns.values[select_k_best.get_support()]"
   ]
  },
  {
   "cell_type": "code",
   "execution_count": 29,
   "metadata": {
    "collapsed": false
   },
   "outputs": [],
   "source": [
    "t1 = time.time()\n",
    "\n",
    "itr = 1\n",
    "f_sel_db = feature_selection.consensus_top10pct_feature_selection(X=X, y=y_disease_encoded_any,\n",
    "                                                      clf=rlgrg, names=None, iters=itr)\n",
    "\n",
    "t2 = time.time()"
   ]
  },
  {
   "cell_type": "code",
   "execution_count": 30,
   "metadata": {
    "collapsed": false
   },
   "outputs": [
    {
     "name": "stdout",
     "output_type": "stream",
     "text": [
      "254.139344931\n"
     ]
    }
   ],
   "source": [
    "seconds = t2-t1\n",
    "print(seconds)"
   ]
  },
  {
   "cell_type": "code",
   "execution_count": 31,
   "metadata": {
    "collapsed": false
   },
   "outputs": [
    {
     "data": {
      "text/plain": [
       "4.235655748844147"
      ]
     },
     "execution_count": 31,
     "metadata": {},
     "output_type": "execute_result"
    }
   ],
   "source": [
    "seconds/60"
   ]
  },
  {
   "cell_type": "code",
   "execution_count": 32,
   "metadata": {
    "collapsed": false
   },
   "outputs": [
    {
     "data": {
      "text/plain": [
       "5470"
      ]
     },
     "execution_count": 32,
     "metadata": {},
     "output_type": "execute_result"
    }
   ],
   "source": [
    "len(f_sel_db)"
   ]
  },
  {
   "cell_type": "code",
   "execution_count": 33,
   "metadata": {
    "collapsed": false
   },
   "outputs": [
    {
     "data": {
      "image/png": "[encoded data removed]",
      "text/plain": [
       "<matplotlib.figure.Figure at 0x7f1252ee2b10>"
      ]
     },
     "metadata": {},
     "output_type": "display_data"
    }
   ],
   "source": [
    "sns.distplot([len(l) for l in f_sel_db.values()], kde=False)\n",
    "plt.xlabel('number of times a feature was retained');"
   ]
  },
  {
   "cell_type": "markdown",
   "metadata": {},
   "source": [
    "### Look at the Features that were retained at least X times"
   ]
  },
  {
   "cell_type": "code",
   "execution_count": 34,
   "metadata": {
    "collapsed": false
   },
   "outputs": [
    {
     "data": {
      "text/html": [
       "<div>\n",
       "<table border=\"1\" class=\"dataframe\">\n",
       "  <thead>\n",
       "    <tr style=\"text-align: right;\">\n",
       "      <th></th>\n",
       "      <th>avg_score</th>\n",
       "      <th>feature_names</th>\n",
       "      <th>retention_rate</th>\n",
       "    </tr>\n",
       "  </thead>\n",
       "  <tbody>\n",
       "    <tr>\n",
       "      <th>0</th>\n",
       "      <td>0.002</td>\n",
       "      <td>_227610_PM_at</td>\n",
       "      <td>1</td>\n",
       "    </tr>\n",
       "    <tr>\n",
       "      <th>1</th>\n",
       "      <td>0.000</td>\n",
       "      <td>_37652_PM_at</td>\n",
       "      <td>1</td>\n",
       "    </tr>\n",
       "    <tr>\n",
       "      <th>2</th>\n",
       "      <td>0.000</td>\n",
       "      <td>_241923_PM_x_at</td>\n",
       "      <td>1</td>\n",
       "    </tr>\n",
       "    <tr>\n",
       "      <th>3</th>\n",
       "      <td>0.000</td>\n",
       "      <td>_241736_PM_at</td>\n",
       "      <td>1</td>\n",
       "    </tr>\n",
       "    <tr>\n",
       "      <th>4</th>\n",
       "      <td>0.004</td>\n",
       "      <td>_240856_PM_at</td>\n",
       "      <td>1</td>\n",
       "    </tr>\n",
       "  </tbody>\n",
       "</table>\n",
       "</div>"
      ],
      "text/plain": [
       "   avg_score    feature_names  retention_rate\n",
       "0      0.002    _227610_PM_at               1\n",
       "1      0.000     _37652_PM_at               1\n",
       "2      0.000  _241923_PM_x_at               1\n",
       "3      0.000    _241736_PM_at               1\n",
       "4      0.004    _240856_PM_at               1"
      ]
     },
     "execution_count": 34,
     "metadata": {},
     "output_type": "execute_result"
    }
   ],
   "source": [
    "my_features = feature_selection.process_retained_features(retained=f_sel_db, iters=itr)\n",
    "my_features.head()"
   ]
  },
  {
   "cell_type": "code",
   "execution_count": 35,
   "metadata": {
    "collapsed": false
   },
   "outputs": [
    {
     "data": {
      "text/html": [
       "<div>\n",
       "<table border=\"1\" class=\"dataframe\">\n",
       "  <thead>\n",
       "    <tr style=\"text-align: right;\">\n",
       "      <th></th>\n",
       "      <th>avg_score</th>\n",
       "      <th>feature_names</th>\n",
       "      <th>retention_rate</th>\n",
       "    </tr>\n",
       "  </thead>\n",
       "  <tbody>\n",
       "    <tr>\n",
       "      <th>5465</th>\n",
       "      <td>0.000</td>\n",
       "      <td>_41047_PM_at</td>\n",
       "      <td>1</td>\n",
       "    </tr>\n",
       "    <tr>\n",
       "      <th>5466</th>\n",
       "      <td>0.000</td>\n",
       "      <td>_241255_PM_at</td>\n",
       "      <td>1</td>\n",
       "    </tr>\n",
       "    <tr>\n",
       "      <th>5467</th>\n",
       "      <td>0.000</td>\n",
       "      <td>_241795_PM_at</td>\n",
       "      <td>1</td>\n",
       "    </tr>\n",
       "    <tr>\n",
       "      <th>5468</th>\n",
       "      <td>0.000</td>\n",
       "      <td>_243888_PM_at</td>\n",
       "      <td>1</td>\n",
       "    </tr>\n",
       "    <tr>\n",
       "      <th>5469</th>\n",
       "      <td>0.032</td>\n",
       "      <td>_238688_PM_at</td>\n",
       "      <td>1</td>\n",
       "    </tr>\n",
       "  </tbody>\n",
       "</table>\n",
       "</div>"
      ],
      "text/plain": [
       "      avg_score  feature_names  retention_rate\n",
       "5465      0.000   _41047_PM_at               1\n",
       "5466      0.000  _241255_PM_at               1\n",
       "5467      0.000  _241795_PM_at               1\n",
       "5468      0.000  _243888_PM_at               1\n",
       "5469      0.032  _238688_PM_at               1"
      ]
     },
     "execution_count": 35,
     "metadata": {},
     "output_type": "execute_result"
    }
   ],
   "source": [
    "my_features.tail()"
   ]
  },
  {
   "cell_type": "code",
   "execution_count": 36,
   "metadata": {
    "collapsed": false
   },
   "outputs": [
    {
     "data": {
      "text/plain": [
       "(5, 3)"
      ]
     },
     "execution_count": 36,
     "metadata": {},
     "output_type": "execute_result"
    }
   ],
   "source": [
    "my_features_ = my_features.sort_values(by='avg_score', axis=0, ascending=False).query(\"\"\"retention_rate > 0.99\"\"\")\n",
    "my_features_ = my_features_.query(\"\"\"avg_score > 0.5 \"\"\")\n",
    "my_features_.shape"
   ]
  },
  {
   "cell_type": "code",
   "execution_count": 37,
   "metadata": {
    "collapsed": false
   },
   "outputs": [
    {
     "data": {
      "text/html": [
       "<div>\n",
       "<table border=\"1\" class=\"dataframe\">\n",
       "  <thead>\n",
       "    <tr style=\"text-align: right;\">\n",
       "      <th></th>\n",
       "      <th>avg_score</th>\n",
       "      <th>feature_names</th>\n",
       "      <th>retention_rate</th>\n",
       "    </tr>\n",
       "  </thead>\n",
       "  <tbody>\n",
       "    <tr>\n",
       "      <th>515</th>\n",
       "      <td>0.892</td>\n",
       "      <td>_236351_PM_at</td>\n",
       "      <td>1</td>\n",
       "    </tr>\n",
       "    <tr>\n",
       "      <th>1143</th>\n",
       "      <td>0.802</td>\n",
       "      <td>_219795_PM_at</td>\n",
       "      <td>1</td>\n",
       "    </tr>\n",
       "    <tr>\n",
       "      <th>2733</th>\n",
       "      <td>0.786</td>\n",
       "      <td>_207529_PM_at</td>\n",
       "      <td>1</td>\n",
       "    </tr>\n",
       "    <tr>\n",
       "      <th>1724</th>\n",
       "      <td>0.658</td>\n",
       "      <td>_219727_PM_at</td>\n",
       "      <td>1</td>\n",
       "    </tr>\n",
       "    <tr>\n",
       "      <th>1549</th>\n",
       "      <td>0.574</td>\n",
       "      <td>_230784_PM_at</td>\n",
       "      <td>1</td>\n",
       "    </tr>\n",
       "  </tbody>\n",
       "</table>\n",
       "</div>"
      ],
      "text/plain": [
       "      avg_score  feature_names  retention_rate\n",
       "515       0.892  _236351_PM_at               1\n",
       "1143      0.802  _219795_PM_at               1\n",
       "2733      0.786  _207529_PM_at               1\n",
       "1724      0.658  _219727_PM_at               1\n",
       "1549      0.574  _230784_PM_at               1"
      ]
     },
     "execution_count": 37,
     "metadata": {},
     "output_type": "execute_result"
    }
   ],
   "source": [
    "my_features_.head()"
   ]
  },
  {
   "cell_type": "code",
   "execution_count": 38,
   "metadata": {
    "collapsed": false
   },
   "outputs": [
    {
     "data": {
      "text/html": [
       "<div>\n",
       "<table border=\"1\" class=\"dataframe\">\n",
       "  <thead>\n",
       "    <tr style=\"text-align: right;\">\n",
       "      <th></th>\n",
       "      <th>avg_score</th>\n",
       "      <th>feature_names</th>\n",
       "      <th>retention_rate</th>\n",
       "    </tr>\n",
       "  </thead>\n",
       "  <tbody>\n",
       "    <tr>\n",
       "      <th>515</th>\n",
       "      <td>0.892</td>\n",
       "      <td>_236351_PM_at</td>\n",
       "      <td>1</td>\n",
       "    </tr>\n",
       "    <tr>\n",
       "      <th>1143</th>\n",
       "      <td>0.802</td>\n",
       "      <td>_219795_PM_at</td>\n",
       "      <td>1</td>\n",
       "    </tr>\n",
       "    <tr>\n",
       "      <th>2733</th>\n",
       "      <td>0.786</td>\n",
       "      <td>_207529_PM_at</td>\n",
       "      <td>1</td>\n",
       "    </tr>\n",
       "    <tr>\n",
       "      <th>1724</th>\n",
       "      <td>0.658</td>\n",
       "      <td>_219727_PM_at</td>\n",
       "      <td>1</td>\n",
       "    </tr>\n",
       "    <tr>\n",
       "      <th>1549</th>\n",
       "      <td>0.574</td>\n",
       "      <td>_230784_PM_at</td>\n",
       "      <td>1</td>\n",
       "    </tr>\n",
       "  </tbody>\n",
       "</table>\n",
       "</div>"
      ],
      "text/plain": [
       "      avg_score  feature_names  retention_rate\n",
       "515       0.892  _236351_PM_at               1\n",
       "1143      0.802  _219795_PM_at               1\n",
       "2733      0.786  _207529_PM_at               1\n",
       "1724      0.658  _219727_PM_at               1\n",
       "1549      0.574  _230784_PM_at               1"
      ]
     },
     "execution_count": 38,
     "metadata": {},
     "output_type": "execute_result"
    }
   ],
   "source": [
    "my_features_.tail()"
   ]
  },
  {
   "cell_type": "code",
   "execution_count": 39,
   "metadata": {
    "collapsed": false
   },
   "outputs": [
    {
     "data": {
      "text/plain": [
       "(108, 5)"
      ]
     },
     "execution_count": 39,
     "metadata": {},
     "output_type": "execute_result"
    }
   ],
   "source": [
    "X_best = X[my_features_.feature_names.values]\n",
    "X_best.shape"
   ]
  },
  {
   "cell_type": "code",
   "execution_count": 40,
   "metadata": {
    "collapsed": false
   },
   "outputs": [
    {
     "data": {
      "text/html": [
       "<div>\n",
       "<table border=\"1\" class=\"dataframe\">\n",
       "  <thead>\n",
       "    <tr style=\"text-align: right;\">\n",
       "      <th></th>\n",
       "      <th>_236351_PM_at</th>\n",
       "      <th>_219795_PM_at</th>\n",
       "      <th>_207529_PM_at</th>\n",
       "      <th>_219727_PM_at</th>\n",
       "      <th>_230784_PM_at</th>\n",
       "    </tr>\n",
       "    <tr>\n",
       "      <th>ID</th>\n",
       "      <th></th>\n",
       "      <th></th>\n",
       "      <th></th>\n",
       "      <th></th>\n",
       "      <th></th>\n",
       "    </tr>\n",
       "  </thead>\n",
       "  <tbody>\n",
       "    <tr>\n",
       "      <th>5500254131236090112251_101136.A02</th>\n",
       "      <td>4.532976</td>\n",
       "      <td>11.243378</td>\n",
       "      <td>11.376795</td>\n",
       "      <td>11.474473</td>\n",
       "      <td>10.162654</td>\n",
       "    </tr>\n",
       "    <tr>\n",
       "      <th>5500254131236090112251_101136.B08</th>\n",
       "      <td>6.259859</td>\n",
       "      <td>9.117716</td>\n",
       "      <td>9.777576</td>\n",
       "      <td>8.259775</td>\n",
       "      <td>11.487572</td>\n",
       "    </tr>\n",
       "    <tr>\n",
       "      <th>5500254131236090112251_101136.E05</th>\n",
       "      <td>4.306215</td>\n",
       "      <td>10.770249</td>\n",
       "      <td>12.068077</td>\n",
       "      <td>11.219646</td>\n",
       "      <td>9.861509</td>\n",
       "    </tr>\n",
       "    <tr>\n",
       "      <th>5500254131236090112251_101136.G12</th>\n",
       "      <td>4.156322</td>\n",
       "      <td>10.599896</td>\n",
       "      <td>12.395652</td>\n",
       "      <td>11.123872</td>\n",
       "      <td>10.533403</td>\n",
       "    </tr>\n",
       "    <tr>\n",
       "      <th>5500254131236090112252_101136.A08</th>\n",
       "      <td>4.319810</td>\n",
       "      <td>10.123012</td>\n",
       "      <td>8.535239</td>\n",
       "      <td>11.472549</td>\n",
       "      <td>10.356152</td>\n",
       "    </tr>\n",
       "    <tr>\n",
       "      <th>5500254131236090112252_101136.B01</th>\n",
       "      <td>4.431861</td>\n",
       "      <td>10.336847</td>\n",
       "      <td>9.537896</td>\n",
       "      <td>10.726516</td>\n",
       "      <td>10.828460</td>\n",
       "    </tr>\n",
       "    <tr>\n",
       "      <th>5500254131236090112252_101136.B06</th>\n",
       "      <td>4.295033</td>\n",
       "      <td>10.070607</td>\n",
       "      <td>10.943123</td>\n",
       "      <td>11.106394</td>\n",
       "      <td>11.150406</td>\n",
       "    </tr>\n",
       "    <tr>\n",
       "      <th>5500254131236090112252_101136.B12</th>\n",
       "      <td>4.271961</td>\n",
       "      <td>10.827306</td>\n",
       "      <td>11.653160</td>\n",
       "      <td>11.573142</td>\n",
       "      <td>9.587501</td>\n",
       "    </tr>\n",
       "    <tr>\n",
       "      <th>5500254131236090112252_101136.E08</th>\n",
       "      <td>4.455954</td>\n",
       "      <td>10.189449</td>\n",
       "      <td>11.123806</td>\n",
       "      <td>10.423208</td>\n",
       "      <td>11.044093</td>\n",
       "    </tr>\n",
       "    <tr>\n",
       "      <th>5500254131236090112252_101136.E12</th>\n",
       "      <td>4.154310</td>\n",
       "      <td>9.653617</td>\n",
       "      <td>10.205493</td>\n",
       "      <td>11.247770</td>\n",
       "      <td>8.628016</td>\n",
       "    </tr>\n",
       "    <tr>\n",
       "      <th>5500254131236090112256_101136.B05</th>\n",
       "      <td>4.363423</td>\n",
       "      <td>10.641953</td>\n",
       "      <td>10.559604</td>\n",
       "      <td>11.170624</td>\n",
       "      <td>9.174205</td>\n",
       "    </tr>\n",
       "    <tr>\n",
       "      <th>5500254131236090112256_101136.B11</th>\n",
       "      <td>5.650819</td>\n",
       "      <td>10.195212</td>\n",
       "      <td>9.050217</td>\n",
       "      <td>11.650514</td>\n",
       "      <td>10.247124</td>\n",
       "    </tr>\n",
       "    <tr>\n",
       "      <th>5500254131236090112256_101136.C09</th>\n",
       "      <td>4.446604</td>\n",
       "      <td>11.111414</td>\n",
       "      <td>7.321553</td>\n",
       "      <td>10.600019</td>\n",
       "      <td>9.140551</td>\n",
       "    </tr>\n",
       "    <tr>\n",
       "      <th>5500254131236090112256_101136.G05</th>\n",
       "      <td>5.274573</td>\n",
       "      <td>10.456045</td>\n",
       "      <td>8.100848</td>\n",
       "      <td>11.188003</td>\n",
       "      <td>10.802699</td>\n",
       "    </tr>\n",
       "    <tr>\n",
       "      <th>5500254131236090112256_101136.G06</th>\n",
       "      <td>4.746898</td>\n",
       "      <td>9.978772</td>\n",
       "      <td>10.556910</td>\n",
       "      <td>10.613901</td>\n",
       "      <td>6.306795</td>\n",
       "    </tr>\n",
       "    <tr>\n",
       "      <th>5500254131236090112256_101136.G08</th>\n",
       "      <td>4.424663</td>\n",
       "      <td>11.023887</td>\n",
       "      <td>12.150271</td>\n",
       "      <td>10.069459</td>\n",
       "      <td>10.912199</td>\n",
       "    </tr>\n",
       "    <tr>\n",
       "      <th>5500254131236090112256_101136.G09</th>\n",
       "      <td>6.069409</td>\n",
       "      <td>8.260982</td>\n",
       "      <td>9.528611</td>\n",
       "      <td>8.908814</td>\n",
       "      <td>11.916722</td>\n",
       "    </tr>\n",
       "    <tr>\n",
       "      <th>5500254131236090112256_101136.G11</th>\n",
       "      <td>4.500494</td>\n",
       "      <td>10.069958</td>\n",
       "      <td>5.444316</td>\n",
       "      <td>10.514447</td>\n",
       "      <td>9.044646</td>\n",
       "    </tr>\n",
       "    <tr>\n",
       "      <th>5500254131236090112258_101136.A02</th>\n",
       "      <td>4.703653</td>\n",
       "      <td>10.788512</td>\n",
       "      <td>11.757440</td>\n",
       "      <td>10.946778</td>\n",
       "      <td>9.836878</td>\n",
       "    </tr>\n",
       "    <tr>\n",
       "      <th>5500254131236090112258_101136.D09</th>\n",
       "      <td>4.633055</td>\n",
       "      <td>9.422975</td>\n",
       "      <td>10.807293</td>\n",
       "      <td>9.786202</td>\n",
       "      <td>10.383802</td>\n",
       "    </tr>\n",
       "    <tr>\n",
       "      <th>5500254131236090112258_101136.E11</th>\n",
       "      <td>4.535478</td>\n",
       "      <td>10.745304</td>\n",
       "      <td>10.370979</td>\n",
       "      <td>11.305764</td>\n",
       "      <td>10.243018</td>\n",
       "    </tr>\n",
       "    <tr>\n",
       "      <th>5500254131236090112258_101136.G09</th>\n",
       "      <td>4.853719</td>\n",
       "      <td>10.698780</td>\n",
       "      <td>12.314501</td>\n",
       "      <td>10.900600</td>\n",
       "      <td>9.746231</td>\n",
       "    </tr>\n",
       "    <tr>\n",
       "      <th>5500254131236090112259_101136.B07</th>\n",
       "      <td>4.401016</td>\n",
       "      <td>10.715634</td>\n",
       "      <td>10.958168</td>\n",
       "      <td>10.977209</td>\n",
       "      <td>10.203572</td>\n",
       "    </tr>\n",
       "    <tr>\n",
       "      <th>5500254131236090112259_101136.C03</th>\n",
       "      <td>5.952850</td>\n",
       "      <td>10.211832</td>\n",
       "      <td>10.200283</td>\n",
       "      <td>10.897090</td>\n",
       "      <td>11.132084</td>\n",
       "    </tr>\n",
       "    <tr>\n",
       "      <th>5500254131236090112259_101136.F02</th>\n",
       "      <td>4.505190</td>\n",
       "      <td>10.329149</td>\n",
       "      <td>4.406908</td>\n",
       "      <td>10.580475</td>\n",
       "      <td>8.542575</td>\n",
       "    </tr>\n",
       "    <tr>\n",
       "      <th>5500254131236090112259_101136.F04</th>\n",
       "      <td>4.175512</td>\n",
       "      <td>9.733789</td>\n",
       "      <td>4.425618</td>\n",
       "      <td>11.024097</td>\n",
       "      <td>9.140268</td>\n",
       "    </tr>\n",
       "    <tr>\n",
       "      <th>5500254131236090112259_101136.H08</th>\n",
       "      <td>4.298060</td>\n",
       "      <td>11.127285</td>\n",
       "      <td>10.843785</td>\n",
       "      <td>11.742855</td>\n",
       "      <td>9.954340</td>\n",
       "    </tr>\n",
       "    <tr>\n",
       "      <th>5500254131236090112251_101136.A03</th>\n",
       "      <td>5.299038</td>\n",
       "      <td>10.734586</td>\n",
       "      <td>6.705934</td>\n",
       "      <td>11.553866</td>\n",
       "      <td>11.064191</td>\n",
       "    </tr>\n",
       "    <tr>\n",
       "      <th>5500254131236090112251_101136.A07</th>\n",
       "      <td>4.799222</td>\n",
       "      <td>10.518117</td>\n",
       "      <td>10.573274</td>\n",
       "      <td>11.249514</td>\n",
       "      <td>10.485424</td>\n",
       "    </tr>\n",
       "    <tr>\n",
       "      <th>5500254131236090112251_101136.A12</th>\n",
       "      <td>5.761537</td>\n",
       "      <td>10.329798</td>\n",
       "      <td>10.672898</td>\n",
       "      <td>11.159791</td>\n",
       "      <td>10.708321</td>\n",
       "    </tr>\n",
       "    <tr>\n",
       "      <th>...</th>\n",
       "      <td>...</td>\n",
       "      <td>...</td>\n",
       "      <td>...</td>\n",
       "      <td>...</td>\n",
       "      <td>...</td>\n",
       "    </tr>\n",
       "    <tr>\n",
       "      <th>5500254131236090112259_101136.A12</th>\n",
       "      <td>5.072319</td>\n",
       "      <td>10.892047</td>\n",
       "      <td>10.048324</td>\n",
       "      <td>10.860910</td>\n",
       "      <td>10.827923</td>\n",
       "    </tr>\n",
       "    <tr>\n",
       "      <th>5500254131236090112259_101136.B02</th>\n",
       "      <td>4.399418</td>\n",
       "      <td>10.439384</td>\n",
       "      <td>7.184208</td>\n",
       "      <td>11.614661</td>\n",
       "      <td>9.370462</td>\n",
       "    </tr>\n",
       "    <tr>\n",
       "      <th>5500254131236090112259_101136.B12</th>\n",
       "      <td>4.700900</td>\n",
       "      <td>10.326444</td>\n",
       "      <td>9.872636</td>\n",
       "      <td>11.070730</td>\n",
       "      <td>11.719134</td>\n",
       "    </tr>\n",
       "    <tr>\n",
       "      <th>5500254131236090112259_101136.C06</th>\n",
       "      <td>4.170343</td>\n",
       "      <td>10.575855</td>\n",
       "      <td>11.148051</td>\n",
       "      <td>11.129109</td>\n",
       "      <td>9.620869</td>\n",
       "    </tr>\n",
       "    <tr>\n",
       "      <th>5500254131236090112259_101136.E03</th>\n",
       "      <td>4.459152</td>\n",
       "      <td>10.716675</td>\n",
       "      <td>5.522920</td>\n",
       "      <td>11.111552</td>\n",
       "      <td>11.697205</td>\n",
       "    </tr>\n",
       "    <tr>\n",
       "      <th>5500254131236090112259_101136.F01</th>\n",
       "      <td>5.362619</td>\n",
       "      <td>11.388369</td>\n",
       "      <td>9.596481</td>\n",
       "      <td>12.012470</td>\n",
       "      <td>10.456166</td>\n",
       "    </tr>\n",
       "    <tr>\n",
       "      <th>5500254131236090112259_101136.F12</th>\n",
       "      <td>4.344914</td>\n",
       "      <td>10.801503</td>\n",
       "      <td>11.243319</td>\n",
       "      <td>12.049013</td>\n",
       "      <td>10.434052</td>\n",
       "    </tr>\n",
       "    <tr>\n",
       "      <th>5500254131236090112259_101136.G08</th>\n",
       "      <td>4.589318</td>\n",
       "      <td>9.638394</td>\n",
       "      <td>8.086928</td>\n",
       "      <td>10.897894</td>\n",
       "      <td>10.386080</td>\n",
       "    </tr>\n",
       "    <tr>\n",
       "      <th>5500254131236090112259_101136.H11</th>\n",
       "      <td>4.251655</td>\n",
       "      <td>9.699935</td>\n",
       "      <td>4.955917</td>\n",
       "      <td>10.752689</td>\n",
       "      <td>10.238847</td>\n",
       "    </tr>\n",
       "    <tr>\n",
       "      <th>5500254131236090112251_101136.F04</th>\n",
       "      <td>8.239336</td>\n",
       "      <td>5.015229</td>\n",
       "      <td>8.531103</td>\n",
       "      <td>4.150178</td>\n",
       "      <td>4.431559</td>\n",
       "    </tr>\n",
       "    <tr>\n",
       "      <th>5500254131236090112251_101136.H03</th>\n",
       "      <td>8.842206</td>\n",
       "      <td>4.807677</td>\n",
       "      <td>5.974332</td>\n",
       "      <td>4.288781</td>\n",
       "      <td>10.172562</td>\n",
       "    </tr>\n",
       "    <tr>\n",
       "      <th>5500254131236090112252_101136.A07</th>\n",
       "      <td>7.504489</td>\n",
       "      <td>4.337377</td>\n",
       "      <td>10.209540</td>\n",
       "      <td>9.373228</td>\n",
       "      <td>4.672565</td>\n",
       "    </tr>\n",
       "    <tr>\n",
       "      <th>5500254131236090112252_101136.C12</th>\n",
       "      <td>8.258530</td>\n",
       "      <td>3.852399</td>\n",
       "      <td>4.695206</td>\n",
       "      <td>4.835677</td>\n",
       "      <td>10.758511</td>\n",
       "    </tr>\n",
       "    <tr>\n",
       "      <th>5500254131236090112252_101136.G02</th>\n",
       "      <td>7.791076</td>\n",
       "      <td>5.293409</td>\n",
       "      <td>5.277172</td>\n",
       "      <td>6.012977</td>\n",
       "      <td>10.919386</td>\n",
       "    </tr>\n",
       "    <tr>\n",
       "      <th>5500254131236090112252_101136.G05</th>\n",
       "      <td>8.238012</td>\n",
       "      <td>3.806667</td>\n",
       "      <td>6.192301</td>\n",
       "      <td>4.578377</td>\n",
       "      <td>5.176426</td>\n",
       "    </tr>\n",
       "    <tr>\n",
       "      <th>5500254131236090112252_101136.H02</th>\n",
       "      <td>7.860832</td>\n",
       "      <td>4.159669</td>\n",
       "      <td>8.010315</td>\n",
       "      <td>4.137290</td>\n",
       "      <td>4.830699</td>\n",
       "    </tr>\n",
       "    <tr>\n",
       "      <th>5500254131236090112256_101136.A01</th>\n",
       "      <td>8.759687</td>\n",
       "      <td>4.459770</td>\n",
       "      <td>6.040059</td>\n",
       "      <td>6.872964</td>\n",
       "      <td>9.260292</td>\n",
       "    </tr>\n",
       "    <tr>\n",
       "      <th>5500254131236090112256_101136.A10</th>\n",
       "      <td>8.638633</td>\n",
       "      <td>4.693201</td>\n",
       "      <td>4.629516</td>\n",
       "      <td>6.532894</td>\n",
       "      <td>10.527298</td>\n",
       "    </tr>\n",
       "    <tr>\n",
       "      <th>5500254131236090112256_101136.D03</th>\n",
       "      <td>8.946748</td>\n",
       "      <td>4.743876</td>\n",
       "      <td>5.459477</td>\n",
       "      <td>5.283989</td>\n",
       "      <td>5.088534</td>\n",
       "    </tr>\n",
       "    <tr>\n",
       "      <th>5500254131236090112258_101136.A05</th>\n",
       "      <td>7.771645</td>\n",
       "      <td>9.696572</td>\n",
       "      <td>12.350006</td>\n",
       "      <td>9.951924</td>\n",
       "      <td>7.503897</td>\n",
       "    </tr>\n",
       "    <tr>\n",
       "      <th>5500254131236090112258_101136.A11</th>\n",
       "      <td>9.120067</td>\n",
       "      <td>5.999384</td>\n",
       "      <td>4.652698</td>\n",
       "      <td>5.059390</td>\n",
       "      <td>10.426071</td>\n",
       "    </tr>\n",
       "    <tr>\n",
       "      <th>5500254131236090112258_101136.C02</th>\n",
       "      <td>8.707709</td>\n",
       "      <td>5.264894</td>\n",
       "      <td>7.158546</td>\n",
       "      <td>5.453891</td>\n",
       "      <td>5.157326</td>\n",
       "    </tr>\n",
       "    <tr>\n",
       "      <th>5500254131236090112258_101136.G05</th>\n",
       "      <td>8.615759</td>\n",
       "      <td>6.050169</td>\n",
       "      <td>5.113374</td>\n",
       "      <td>8.608881</td>\n",
       "      <td>11.456275</td>\n",
       "    </tr>\n",
       "    <tr>\n",
       "      <th>5500254131236090112258_101136.H04</th>\n",
       "      <td>7.966376</td>\n",
       "      <td>8.952993</td>\n",
       "      <td>7.034062</td>\n",
       "      <td>6.537360</td>\n",
       "      <td>11.632926</td>\n",
       "    </tr>\n",
       "    <tr>\n",
       "      <th>5500254131236090112258_101136.H05</th>\n",
       "      <td>8.817135</td>\n",
       "      <td>4.399624</td>\n",
       "      <td>4.397355</td>\n",
       "      <td>3.761952</td>\n",
       "      <td>11.471925</td>\n",
       "    </tr>\n",
       "    <tr>\n",
       "      <th>5500254131236090112259_101136.B10</th>\n",
       "      <td>8.351450</td>\n",
       "      <td>4.304771</td>\n",
       "      <td>6.009660</td>\n",
       "      <td>5.422375</td>\n",
       "      <td>11.468112</td>\n",
       "    </tr>\n",
       "    <tr>\n",
       "      <th>5500254131236090112259_101136.C11</th>\n",
       "      <td>8.038468</td>\n",
       "      <td>4.076956</td>\n",
       "      <td>5.979731</td>\n",
       "      <td>3.997335</td>\n",
       "      <td>5.348798</td>\n",
       "    </tr>\n",
       "    <tr>\n",
       "      <th>5500254131236090112259_101136.D06</th>\n",
       "      <td>7.771751</td>\n",
       "      <td>6.436854</td>\n",
       "      <td>8.903701</td>\n",
       "      <td>7.080893</td>\n",
       "      <td>6.017414</td>\n",
       "    </tr>\n",
       "    <tr>\n",
       "      <th>5500254131236090112259_101136.E10</th>\n",
       "      <td>8.082014</td>\n",
       "      <td>5.221954</td>\n",
       "      <td>8.519251</td>\n",
       "      <td>5.590517</td>\n",
       "      <td>4.306576</td>\n",
       "    </tr>\n",
       "    <tr>\n",
       "      <th>5500254131236090112259_101136.H05</th>\n",
       "      <td>9.214071</td>\n",
       "      <td>5.490845</td>\n",
       "      <td>5.835573</td>\n",
       "      <td>6.137510</td>\n",
       "      <td>11.961960</td>\n",
       "    </tr>\n",
       "  </tbody>\n",
       "</table>\n",
       "<p>108 rows × 5 columns</p>\n",
       "</div>"
      ],
      "text/plain": [
       "                                   _236351_PM_at  _219795_PM_at  \\\n",
       "ID                                                                \n",
       "5500254131236090112251_101136.A02       4.532976      11.243378   \n",
       "5500254131236090112251_101136.B08       6.259859       9.117716   \n",
       "5500254131236090112251_101136.E05       4.306215      10.770249   \n",
       "5500254131236090112251_101136.G12       4.156322      10.599896   \n",
       "5500254131236090112252_101136.A08       4.319810      10.123012   \n",
       "5500254131236090112252_101136.B01       4.431861      10.336847   \n",
       "5500254131236090112252_101136.B06       4.295033      10.070607   \n",
       "5500254131236090112252_101136.B12       4.271961      10.827306   \n",
       "5500254131236090112252_101136.E08       4.455954      10.189449   \n",
       "5500254131236090112252_101136.E12       4.154310       9.653617   \n",
       "5500254131236090112256_101136.B05       4.363423      10.641953   \n",
       "5500254131236090112256_101136.B11       5.650819      10.195212   \n",
       "5500254131236090112256_101136.C09       4.446604      11.111414   \n",
       "5500254131236090112256_101136.G05       5.274573      10.456045   \n",
       "5500254131236090112256_101136.G06       4.746898       9.978772   \n",
       "5500254131236090112256_101136.G08       4.424663      11.023887   \n",
       "5500254131236090112256_101136.G09       6.069409       8.260982   \n",
       "5500254131236090112256_101136.G11       4.500494      10.069958   \n",
       "5500254131236090112258_101136.A02       4.703653      10.788512   \n",
       "5500254131236090112258_101136.D09       4.633055       9.422975   \n",
       "5500254131236090112258_101136.E11       4.535478      10.745304   \n",
       "5500254131236090112258_101136.G09       4.853719      10.698780   \n",
       "5500254131236090112259_101136.B07       4.401016      10.715634   \n",
       "5500254131236090112259_101136.C03       5.952850      10.211832   \n",
       "5500254131236090112259_101136.F02       4.505190      10.329149   \n",
       "5500254131236090112259_101136.F04       4.175512       9.733789   \n",
       "5500254131236090112259_101136.H08       4.298060      11.127285   \n",
       "5500254131236090112251_101136.A03       5.299038      10.734586   \n",
       "5500254131236090112251_101136.A07       4.799222      10.518117   \n",
       "5500254131236090112251_101136.A12       5.761537      10.329798   \n",
       "...                                          ...            ...   \n",
       "5500254131236090112259_101136.A12       5.072319      10.892047   \n",
       "5500254131236090112259_101136.B02       4.399418      10.439384   \n",
       "5500254131236090112259_101136.B12       4.700900      10.326444   \n",
       "5500254131236090112259_101136.C06       4.170343      10.575855   \n",
       "5500254131236090112259_101136.E03       4.459152      10.716675   \n",
       "5500254131236090112259_101136.F01       5.362619      11.388369   \n",
       "5500254131236090112259_101136.F12       4.344914      10.801503   \n",
       "5500254131236090112259_101136.G08       4.589318       9.638394   \n",
       "5500254131236090112259_101136.H11       4.251655       9.699935   \n",
       "5500254131236090112251_101136.F04       8.239336       5.015229   \n",
       "5500254131236090112251_101136.H03       8.842206       4.807677   \n",
       "5500254131236090112252_101136.A07       7.504489       4.337377   \n",
       "5500254131236090112252_101136.C12       8.258530       3.852399   \n",
       "5500254131236090112252_101136.G02       7.791076       5.293409   \n",
       "5500254131236090112252_101136.G05       8.238012       3.806667   \n",
       "5500254131236090112252_101136.H02       7.860832       4.159669   \n",
       "5500254131236090112256_101136.A01       8.759687       4.459770   \n",
       "5500254131236090112256_101136.A10       8.638633       4.693201   \n",
       "5500254131236090112256_101136.D03       8.946748       4.743876   \n",
       "5500254131236090112258_101136.A05       7.771645       9.696572   \n",
       "5500254131236090112258_101136.A11       9.120067       5.999384   \n",
       "5500254131236090112258_101136.C02       8.707709       5.264894   \n",
       "5500254131236090112258_101136.G05       8.615759       6.050169   \n",
       "5500254131236090112258_101136.H04       7.966376       8.952993   \n",
       "5500254131236090112258_101136.H05       8.817135       4.399624   \n",
       "5500254131236090112259_101136.B10       8.351450       4.304771   \n",
       "5500254131236090112259_101136.C11       8.038468       4.076956   \n",
       "5500254131236090112259_101136.D06       7.771751       6.436854   \n",
       "5500254131236090112259_101136.E10       8.082014       5.221954   \n",
       "5500254131236090112259_101136.H05       9.214071       5.490845   \n",
       "\n",
       "                                   _207529_PM_at  _219727_PM_at  _230784_PM_at  \n",
       "ID                                                                              \n",
       "5500254131236090112251_101136.A02      11.376795      11.474473      10.162654  \n",
       "5500254131236090112251_101136.B08       9.777576       8.259775      11.487572  \n",
       "5500254131236090112251_101136.E05      12.068077      11.219646       9.861509  \n",
       "5500254131236090112251_101136.G12      12.395652      11.123872      10.533403  \n",
       "5500254131236090112252_101136.A08       8.535239      11.472549      10.356152  \n",
       "5500254131236090112252_101136.B01       9.537896      10.726516      10.828460  \n",
       "5500254131236090112252_101136.B06      10.943123      11.106394      11.150406  \n",
       "5500254131236090112252_101136.B12      11.653160      11.573142       9.587501  \n",
       "5500254131236090112252_101136.E08      11.123806      10.423208      11.044093  \n",
       "5500254131236090112252_101136.E12      10.205493      11.247770       8.628016  \n",
       "5500254131236090112256_101136.B05      10.559604      11.170624       9.174205  \n",
       "5500254131236090112256_101136.B11       9.050217      11.650514      10.247124  \n",
       "5500254131236090112256_101136.C09       7.321553      10.600019       9.140551  \n",
       "5500254131236090112256_101136.G05       8.100848      11.188003      10.802699  \n",
       "5500254131236090112256_101136.G06      10.556910      10.613901       6.306795  \n",
       "5500254131236090112256_101136.G08      12.150271      10.069459      10.912199  \n",
       "5500254131236090112256_101136.G09       9.528611       8.908814      11.916722  \n",
       "5500254131236090112256_101136.G11       5.444316      10.514447       9.044646  \n",
       "5500254131236090112258_101136.A02      11.757440      10.946778       9.836878  \n",
       "5500254131236090112258_101136.D09      10.807293       9.786202      10.383802  \n",
       "5500254131236090112258_101136.E11      10.370979      11.305764      10.243018  \n",
       "5500254131236090112258_101136.G09      12.314501      10.900600       9.746231  \n",
       "5500254131236090112259_101136.B07      10.958168      10.977209      10.203572  \n",
       "5500254131236090112259_101136.C03      10.200283      10.897090      11.132084  \n",
       "5500254131236090112259_101136.F02       4.406908      10.580475       8.542575  \n",
       "5500254131236090112259_101136.F04       4.425618      11.024097       9.140268  \n",
       "5500254131236090112259_101136.H08      10.843785      11.742855       9.954340  \n",
       "5500254131236090112251_101136.A03       6.705934      11.553866      11.064191  \n",
       "5500254131236090112251_101136.A07      10.573274      11.249514      10.485424  \n",
       "5500254131236090112251_101136.A12      10.672898      11.159791      10.708321  \n",
       "...                                          ...            ...            ...  \n",
       "5500254131236090112259_101136.A12      10.048324      10.860910      10.827923  \n",
       "5500254131236090112259_101136.B02       7.184208      11.614661       9.370462  \n",
       "5500254131236090112259_101136.B12       9.872636      11.070730      11.719134  \n",
       "5500254131236090112259_101136.C06      11.148051      11.129109       9.620869  \n",
       "5500254131236090112259_101136.E03       5.522920      11.111552      11.697205  \n",
       "5500254131236090112259_101136.F01       9.596481      12.012470      10.456166  \n",
       "5500254131236090112259_101136.F12      11.243319      12.049013      10.434052  \n",
       "5500254131236090112259_101136.G08       8.086928      10.897894      10.386080  \n",
       "5500254131236090112259_101136.H11       4.955917      10.752689      10.238847  \n",
       "5500254131236090112251_101136.F04       8.531103       4.150178       4.431559  \n",
       "5500254131236090112251_101136.H03       5.974332       4.288781      10.172562  \n",
       "5500254131236090112252_101136.A07      10.209540       9.373228       4.672565  \n",
       "5500254131236090112252_101136.C12       4.695206       4.835677      10.758511  \n",
       "5500254131236090112252_101136.G02       5.277172       6.012977      10.919386  \n",
       "5500254131236090112252_101136.G05       6.192301       4.578377       5.176426  \n",
       "5500254131236090112252_101136.H02       8.010315       4.137290       4.830699  \n",
       "5500254131236090112256_101136.A01       6.040059       6.872964       9.260292  \n",
       "5500254131236090112256_101136.A10       4.629516       6.532894      10.527298  \n",
       "5500254131236090112256_101136.D03       5.459477       5.283989       5.088534  \n",
       "5500254131236090112258_101136.A05      12.350006       9.951924       7.503897  \n",
       "5500254131236090112258_101136.A11       4.652698       5.059390      10.426071  \n",
       "5500254131236090112258_101136.C02       7.158546       5.453891       5.157326  \n",
       "5500254131236090112258_101136.G05       5.113374       8.608881      11.456275  \n",
       "5500254131236090112258_101136.H04       7.034062       6.537360      11.632926  \n",
       "5500254131236090112258_101136.H05       4.397355       3.761952      11.471925  \n",
       "5500254131236090112259_101136.B10       6.009660       5.422375      11.468112  \n",
       "5500254131236090112259_101136.C11       5.979731       3.997335       5.348798  \n",
       "5500254131236090112259_101136.D06       8.903701       7.080893       6.017414  \n",
       "5500254131236090112259_101136.E10       8.519251       5.590517       4.306576  \n",
       "5500254131236090112259_101136.H05       5.835573       6.137510      11.961960  \n",
       "\n",
       "[108 rows x 5 columns]"
      ]
     },
     "execution_count": 40,
     "metadata": {},
     "output_type": "execute_result"
    }
   ],
   "source": [
    "X_best"
   ]
  },
  {
   "cell_type": "code",
   "execution_count": 41,
   "metadata": {
    "collapsed": false
   },
   "outputs": [
    {
     "name": "stdout",
     "output_type": "stream",
     "text": [
      "explained_variance_ratio_ of top 2: 0.945768240756\n"
     ]
    }
   ],
   "source": [
    "top_n_sorted_features = 4\n",
    "\n",
    "if top_n_sorted_features > X_best.shape[1]:\n",
    "    raise ValueError(\"X_best.shape[1] is smaller than value provided for top_n_sorted_features.\")\n",
    "\n",
    "pca = PCA(n_components=2, whiten=False)\n",
    "# pca = RandomizedPCA(n_components=2, whiten=False)\n",
    "\n",
    "pca_t = pca.fit_transform(X_best.iloc[:,:top_n_sorted_features],y_disease_encoded_any)\n",
    "top_n_comp = 2\n",
    "print('explained_variance_ratio_ of top {num}: {val}'.format(num=top_n_comp,val=pca.explained_variance_ratio_[:top_n_comp].sum()))\n",
    "\n",
    "pca_t_l = pandas_helpers.repandasify(array=pca_t, y_names=disease_encoder_any.inverse_transform(y_disease_encoded_any), X_names=['PC {v_}'.format(v_=v+1) for v in range(len(pca_t[0]))])\n",
    "# print(pca_t_l)"
   ]
  },
  {
   "cell_type": "code",
   "execution_count": 42,
   "metadata": {
    "collapsed": false
   },
   "outputs": [],
   "source": [
    "pca_t_l = pca_t_l.reset_index(drop=True)\n",
    "pca_t_l['ExtentDisease'] = full_table['ExtentDisease']\n",
    "pca_t_l['Disease_or_Normal'] = full_table['Disease_or_Normal']\n",
    "# pca_t_l"
   ]
  },
  {
   "cell_type": "code",
   "execution_count": 43,
   "metadata": {
    "collapsed": true
   },
   "outputs": [],
   "source": [
    "plot_alpha = 0.7"
   ]
  },
  {
   "cell_type": "code",
   "execution_count": 44,
   "metadata": {
    "collapsed": false
   },
   "outputs": [
    {
     "data": {
      "image/png": "[encoded data removed]",
      "text/plain": [
       "<matplotlib.figure.Figure at 0x7f1253008410>"
      ]
     },
     "metadata": {},
     "output_type": "display_data"
    }
   ],
   "source": [
    "with sns.color_palette(sns.color_palette(\"hls\", 3)):\n",
    "    with sns.axes_style(\"white\"):\n",
    "        sns.lmplot(x='PC 1', y='PC 2', data=pca_t_l.append(pca_t_l.iloc[9,:]), #sns.lmplot(x='PC 1', y='PC 2', data=pca_t_l,\n",
    "                   hue='ExtentDisease', palette=None,\n",
    "                   fit_reg=False,\n",
    "                   scatter_kws={'alpha':plot_alpha}\n",
    "                  );"
   ]
  },
  {
   "cell_type": "code",
   "execution_count": 45,
   "metadata": {
    "collapsed": false
   },
   "outputs": [],
   "source": [
    "top_10 = my_features_.iloc[:10,:]"
   ]
  },
  {
   "cell_type": "markdown",
   "metadata": {
    "collapsed": true
   },
   "source": [
    "# Test crossvalidation results and preditions on reduced data"
   ]
  },
  {
   "cell_type": "code",
   "execution_count": 46,
   "metadata": {
    "collapsed": false
   },
   "outputs": [],
   "source": [
    "X_reduced = X[top_10.feature_names.values.astype(str)]"
   ]
  },
  {
   "cell_type": "code",
   "execution_count": 47,
   "metadata": {
    "collapsed": false
   },
   "outputs": [
    {
     "data": {
      "text/plain": [
       "array(['_236351_PM_at', '_219795_PM_at', '_207529_PM_at', '_219727_PM_at',\n",
       "       '_230784_PM_at'], \n",
       "      dtype='|S13')"
      ]
     },
     "execution_count": 47,
     "metadata": {},
     "output_type": "execute_result"
    }
   ],
   "source": [
    "top_10.feature_names.values.astype(str)"
   ]
  },
  {
   "cell_type": "code",
   "execution_count": 48,
   "metadata": {
    "collapsed": false
   },
   "outputs": [
    {
     "data": {
      "text/html": [
       "<div>\n",
       "<table border=\"1\" class=\"dataframe\">\n",
       "  <thead>\n",
       "    <tr style=\"text-align: right;\">\n",
       "      <th></th>\n",
       "      <th>_236351_PM_at</th>\n",
       "      <th>_219795_PM_at</th>\n",
       "      <th>_207529_PM_at</th>\n",
       "      <th>_219727_PM_at</th>\n",
       "      <th>_230784_PM_at</th>\n",
       "    </tr>\n",
       "    <tr>\n",
       "      <th>ID</th>\n",
       "      <th></th>\n",
       "      <th></th>\n",
       "      <th></th>\n",
       "      <th></th>\n",
       "      <th></th>\n",
       "    </tr>\n",
       "  </thead>\n",
       "  <tbody>\n",
       "    <tr>\n",
       "      <th>5500254131236090112251_101136.A02</th>\n",
       "      <td>4.532976</td>\n",
       "      <td>11.243378</td>\n",
       "      <td>11.376795</td>\n",
       "      <td>11.474473</td>\n",
       "      <td>10.162654</td>\n",
       "    </tr>\n",
       "    <tr>\n",
       "      <th>5500254131236090112251_101136.B08</th>\n",
       "      <td>6.259859</td>\n",
       "      <td>9.117716</td>\n",
       "      <td>9.777576</td>\n",
       "      <td>8.259775</td>\n",
       "      <td>11.487572</td>\n",
       "    </tr>\n",
       "    <tr>\n",
       "      <th>5500254131236090112251_101136.E05</th>\n",
       "      <td>4.306215</td>\n",
       "      <td>10.770249</td>\n",
       "      <td>12.068077</td>\n",
       "      <td>11.219646</td>\n",
       "      <td>9.861509</td>\n",
       "    </tr>\n",
       "    <tr>\n",
       "      <th>5500254131236090112251_101136.G12</th>\n",
       "      <td>4.156322</td>\n",
       "      <td>10.599896</td>\n",
       "      <td>12.395652</td>\n",
       "      <td>11.123872</td>\n",
       "      <td>10.533403</td>\n",
       "    </tr>\n",
       "    <tr>\n",
       "      <th>5500254131236090112252_101136.A08</th>\n",
       "      <td>4.319810</td>\n",
       "      <td>10.123012</td>\n",
       "      <td>8.535239</td>\n",
       "      <td>11.472549</td>\n",
       "      <td>10.356152</td>\n",
       "    </tr>\n",
       "  </tbody>\n",
       "</table>\n",
       "</div>"
      ],
      "text/plain": [
       "                                   _236351_PM_at  _219795_PM_at  \\\n",
       "ID                                                                \n",
       "5500254131236090112251_101136.A02       4.532976      11.243378   \n",
       "5500254131236090112251_101136.B08       6.259859       9.117716   \n",
       "5500254131236090112251_101136.E05       4.306215      10.770249   \n",
       "5500254131236090112251_101136.G12       4.156322      10.599896   \n",
       "5500254131236090112252_101136.A08       4.319810      10.123012   \n",
       "\n",
       "                                   _207529_PM_at  _219727_PM_at  _230784_PM_at  \n",
       "ID                                                                              \n",
       "5500254131236090112251_101136.A02      11.376795      11.474473      10.162654  \n",
       "5500254131236090112251_101136.B08       9.777576       8.259775      11.487572  \n",
       "5500254131236090112251_101136.E05      12.068077      11.219646       9.861509  \n",
       "5500254131236090112251_101136.G12      12.395652      11.123872      10.533403  \n",
       "5500254131236090112252_101136.A08       8.535239      11.472549      10.356152  "
      ]
     },
     "execution_count": 48,
     "metadata": {},
     "output_type": "execute_result"
    }
   ],
   "source": [
    "X_reduced.head()"
   ]
  },
  {
   "cell_type": "markdown",
   "metadata": {},
   "source": [
    "## split data into training and testing"
   ]
  },
  {
   "cell_type": "code",
   "execution_count": 49,
   "metadata": {
    "collapsed": true
   },
   "outputs": [],
   "source": [
    "X_train, X_test, y_train, y_test = train_test_split(X_reduced, y_disease_encoded_any,\n",
    "                                                    test_size=0.33, random_state=42,\n",
    "                                                    stratify=y_disease_encoded_any\n",
    "                                                   )\n",
    "\n",
    "# X_train, X_test, y_train, y_test = train_test_split(X, y_disease_encoded_spc,\n",
    "#                                                     test_size=0.33, random_state=42,\n",
    "#                                                     stratify=y_disease_encoded_spc\n",
    "#                                                    )"
   ]
  },
  {
   "cell_type": "code",
   "execution_count": 50,
   "metadata": {
    "collapsed": false
   },
   "outputs": [
    {
     "data": {
      "text/plain": [
       "array([1, 1, 1, 1, 0, 1, 1, 1, 1, 1, 1, 1, 1, 1, 1, 1, 1, 0, 1, 0, 0, 1, 1,\n",
       "       1, 1, 1, 0, 1, 1, 1, 1, 1, 1, 0, 1, 1, 0, 1, 1, 1, 0, 1, 1, 1, 1, 1,\n",
       "       1, 0, 0, 1, 1, 1, 0, 1, 1, 1, 1, 1, 1, 1, 1, 1, 1, 1, 1, 1, 0, 0, 1,\n",
       "       1, 0, 1])"
      ]
     },
     "execution_count": 50,
     "metadata": {},
     "output_type": "execute_result"
    }
   ],
   "source": [
    "y_train"
   ]
  },
  {
   "cell_type": "code",
   "execution_count": 51,
   "metadata": {
    "collapsed": false
   },
   "outputs": [
    {
     "data": {
      "text/plain": [
       "array([1, 1, 0, 1, 1, 1, 1, 1, 1, 1, 1, 1, 1, 0, 0, 1, 1, 1, 1, 1, 1, 1, 1,\n",
       "       1, 1, 1, 1, 0, 0, 1, 1, 1, 1, 0, 0, 1])"
      ]
     },
     "execution_count": 51,
     "metadata": {},
     "output_type": "execute_result"
    }
   ],
   "source": [
    "y_test"
   ]
  },
  {
   "cell_type": "code",
   "execution_count": 52,
   "metadata": {
    "collapsed": false
   },
   "outputs": [
    {
     "data": {
      "text/plain": [
       "array([1, 1, 1, 1, 1, 1, 1, 1, 1, 1, 1, 1, 1, 1, 1, 1, 1, 1, 1, 1, 1, 1, 1,\n",
       "       1, 1, 1, 1, 1, 1, 1, 1, 1, 1, 1, 1, 1, 1, 1, 1, 1, 1, 1, 1, 1, 1, 1,\n",
       "       1, 1, 1, 1, 1, 1, 1, 1, 1, 1, 1, 1, 1, 1, 1, 1, 1, 1, 1, 1, 1, 1, 1,\n",
       "       1, 1, 1, 1, 1, 1, 1, 1, 1, 1, 1, 1, 1, 1, 1, 1, 1, 1, 0, 0, 0, 0, 0,\n",
       "       0, 0, 0, 0, 0, 0, 0, 0, 0, 0, 0, 0, 0, 0, 0, 0])"
      ]
     },
     "execution_count": 52,
     "metadata": {},
     "output_type": "execute_result"
    }
   ],
   "source": [
    "y_disease_encoded_any"
   ]
  },
  {
   "cell_type": "markdown",
   "metadata": {},
   "source": [
    "# Dummy Classifiers"
   ]
  },
  {
   "cell_type": "code",
   "execution_count": 53,
   "metadata": {
    "collapsed": true
   },
   "outputs": [],
   "source": [
    "dummy_strat = DummyClassifier(strategy='stratified')\n",
    "dummy_freq = DummyClassifier(strategy='most_frequent')\n",
    "dummy_unif = DummyClassifier(strategy='uniform')\n",
    "# dummy_constant = DummyClassifier(strategy='constant', constant=1)"
   ]
  },
  {
   "cell_type": "code",
   "execution_count": 54,
   "metadata": {
    "collapsed": false
   },
   "outputs": [
    {
     "data": {
      "text/plain": [
       "DummyClassifier(constant=None, random_state=None, strategy='uniform')"
      ]
     },
     "execution_count": 54,
     "metadata": {},
     "output_type": "execute_result"
    }
   ],
   "source": [
    "dummy_strat.fit(X_train, y_train)\n",
    "dummy_freq.fit(X_train, y_train)\n",
    "dummy_unif.fit(X_train, y_train)\n",
    "# dummy_constant.fit(X_train, y_train)"
   ]
  },
  {
   "cell_type": "markdown",
   "metadata": {},
   "source": [
    "## dummy_strat"
   ]
  },
  {
   "cell_type": "code",
   "execution_count": 55,
   "metadata": {
    "collapsed": false
   },
   "outputs": [
    {
     "data": {
      "image/png": "[encoded data removed]",
      "text/plain": [
       "<matplotlib.figure.Figure at 0x7f1252fb2c10>"
      ]
     },
     "metadata": {},
     "output_type": "display_data"
    }
   ],
   "source": [
    "dummy_strat_cm = confusion_matrix(y_test,dummy_strat.predict(X_test))\n",
    "model_assessment.plot_confusion_matrix(cm=dummy_strat_cm, labels=disease_encoder_any.classes_, cmap='Blues', title=\"dummy_strat confusion matrix\",\n",
    "                 norm=False, context=None, annot=True);"
   ]
  },
  {
   "cell_type": "code",
   "execution_count": 56,
   "metadata": {
    "collapsed": false,
    "scrolled": true
   },
   "outputs": [
    {
     "data": {
      "image/png": "[encoded data removed]",
      "text/plain": [
       "<matplotlib.figure.Figure at 0x7f125408ab90>"
      ]
     },
     "metadata": {},
     "output_type": "display_data"
    }
   ],
   "source": [
    "model_assessment.plot_confusion_matrix(cm=dummy_strat_cm, labels=disease_encoder_any.classes_, cmap='Blues', title=\"dummy_strat normalized confusion matrix\",\n",
    "                 norm=True, context=None, annot=True);"
   ]
  },
  {
   "cell_type": "markdown",
   "metadata": {},
   "source": [
    "## dummy_freq"
   ]
  },
  {
   "cell_type": "code",
   "execution_count": 57,
   "metadata": {
    "collapsed": false
   },
   "outputs": [
    {
     "data": {
      "image/png": "[encoded data removed]",
      "text/plain": [
       "<matplotlib.figure.Figure at 0x7f1252f18190>"
      ]
     },
     "metadata": {},
     "output_type": "display_data"
    }
   ],
   "source": [
    "dummy_freq_cm = confusion_matrix(y_test,dummy_freq.predict(X_test))\n",
    "model_assessment.plot_confusion_matrix(cm=dummy_freq_cm, labels=disease_encoder_any.classes_, cmap='Blues', title=\"dummy_freq confusion matrix\",\n",
    "                 norm=False, context=None, annot=True);"
   ]
  },
  {
   "cell_type": "code",
   "execution_count": 58,
   "metadata": {
    "collapsed": false,
    "scrolled": true
   },
   "outputs": [
    {
     "data": {
      "image/png": "[encoded data removed]",
      "text/plain": [
       "<matplotlib.figure.Figure at 0x7f125301ca10>"
      ]
     },
     "metadata": {},
     "output_type": "display_data"
    }
   ],
   "source": [
    "model_assessment.plot_confusion_matrix(cm=dummy_freq_cm, labels=disease_encoder_any.classes_, cmap='Blues', title=\"dummy_freq normalized confusion matrix\",\n",
    "                 norm=True, context=None, annot=True);"
   ]
  },
  {
   "cell_type": "markdown",
   "metadata": {},
   "source": [
    "## dummy_unif"
   ]
  },
  {
   "cell_type": "code",
   "execution_count": 59,
   "metadata": {
    "collapsed": false
   },
   "outputs": [
    {
     "data": {
      "image/png": "[encoded data removed]",
      "text/plain": [
       "<matplotlib.figure.Figure at 0x7f1252eaedd0>"
      ]
     },
     "metadata": {},
     "output_type": "display_data"
    }
   ],
   "source": [
    "dummy_unif_cm = confusion_matrix(y_test,dummy_unif.predict(X_test))\n",
    "model_assessment.plot_confusion_matrix(cm=dummy_unif_cm, labels=disease_encoder_any.classes_, cmap='Blues', title=\"dummy_unif confusion matrix\",\n",
    "                 norm=False, context=None, annot=True);"
   ]
  },
  {
   "cell_type": "code",
   "execution_count": 60,
   "metadata": {
    "collapsed": false
   },
   "outputs": [
    {
     "data": {
      "image/png": "[encoded data removed]",
      "text/plain": [
       "<matplotlib.figure.Figure at 0x7f12530ea950>"
      ]
     },
     "metadata": {},
     "output_type": "display_data"
    }
   ],
   "source": [
    "model_assessment.plot_confusion_matrix(cm=dummy_unif_cm, labels=disease_encoder_any.classes_, cmap='Blues', title=\"dummy_unif normalized confusion matrix\",\n",
    "              norm=True, context=None, annot=True);"
   ]
  },
  {
   "cell_type": "markdown",
   "metadata": {},
   "source": [
    "## SVM classifier"
   ]
  },
  {
   "cell_type": "code",
   "execution_count": 61,
   "metadata": {
    "collapsed": false
   },
   "outputs": [
    {
     "data": {
      "text/plain": [
       "sklearn.svm.classes.SVC"
      ]
     },
     "execution_count": 61,
     "metadata": {},
     "output_type": "execute_result"
    }
   ],
   "source": [
    "SVC"
   ]
  },
  {
   "cell_type": "code",
   "execution_count": 62,
   "metadata": {
    "collapsed": false
   },
   "outputs": [
    {
     "name": "stdout",
     "output_type": "stream",
     "text": [
      "{'svc__gamma': 0.001, 'svc__C': 0.01}\n"
     ]
    }
   ],
   "source": [
    "svc_param_grid = {'svc__C': 10. ** np.arange(-3, 3),\n",
    "                  'svc__gamma': 10. ** np.arange(-3, 3)\n",
    "                 }\n",
    "\n",
    "\n",
    "\n",
    "svc_pipe = make_pipeline(SVC(kernel='linear', random_state=42))\n",
    "\n",
    "# run the gridsearch to tune the hyper-parameters\n",
    "svc_grid = GridSearchCV(svc_pipe, param_grid=svc_param_grid, cv=10)\n",
    "\n",
    "svc_grid.fit(X_train, y_train)\n",
    "print(svc_grid.best_params_)\n",
    "\n",
    "\n",
    "# generate and plot confusion matrices\n",
    "svc_cm = confusion_matrix(y_test,svc_grid.predict(X_test))\n",
    "\n"
   ]
  },
  {
   "cell_type": "code",
   "execution_count": 63,
   "metadata": {
    "collapsed": false
   },
   "outputs": [
    {
     "data": {
      "image/png": "[encoded data removed]",
      "text/plain": [
       "<matplotlib.figure.Figure at 0x7f1252ab5e90>"
      ]
     },
     "metadata": {},
     "output_type": "display_data"
    }
   ],
   "source": [
    "# Non-normalized\n",
    "model_assessment.plot_confusion_matrix(cm=svc_cm, labels=disease_encoder_any.classes_, cmap='Blues', title=None,\n",
    "                 norm=False, context=None, annot=True);\n"
   ]
  },
  {
   "cell_type": "code",
   "execution_count": 64,
   "metadata": {
    "collapsed": false
   },
   "outputs": [
    {
     "data": {
      "image/png": "[encoded data removed]",
      "text/plain": [
       "<matplotlib.figure.Figure at 0x7f1252aa0790>"
      ]
     },
     "metadata": {},
     "output_type": "display_data"
    }
   ],
   "source": [
    "# Normalized\n",
    "model_assessment.plot_confusion_matrix(cm=svc_cm, labels=disease_encoder_any.classes_, cmap='Blues', title=None,\n",
    "                 norm=True, context=None, annot=True);"
   ]
  },
  {
   "cell_type": "markdown",
   "metadata": {},
   "source": [
    "## RandomForest classifier"
   ]
  },
  {
   "cell_type": "code",
   "execution_count": 65,
   "metadata": {
    "collapsed": false
   },
   "outputs": [
    {
     "name": "stdout",
     "output_type": "stream",
     "text": [
      "{'randomforestclassifier__min_samples_leaf': 7, 'randomforestclassifier__n_estimators': 11}\n"
     ]
    }
   ],
   "source": [
    "rfst_param_grid = {'randomforestclassifier__n_estimators': np.arange(1,15,),\n",
    "                   'randomforestclassifier__min_samples_leaf': np.arange(1,10,2)\n",
    "                  }\n",
    "\n",
    "\n",
    "\n",
    "rfst_pipe = make_pipeline(RandomForestClassifier(random_state=42,n_jobs=8))\n",
    "\n",
    "# run the gridsearch to tune the hyper-parameters\n",
    "rfst_grid = GridSearchCV(rfst_pipe, param_grid=rfst_param_grid, cv=3)\n",
    "\n",
    "\n",
    "rfst_grid.fit(X_train, y_train)\n",
    "print(rfst_grid.best_params_)\n",
    "\n",
    "\n",
    "# generate and plot confusion matrices\n",
    "rfst_cm = confusion_matrix(y_test,rfst_grid.predict(X_test))"
   ]
  },
  {
   "cell_type": "code",
   "execution_count": 66,
   "metadata": {
    "collapsed": false
   },
   "outputs": [
    {
     "data": {
      "image/png": "[encoded data removed]",
      "text/plain": [
       "<matplotlib.figure.Figure at 0x7f12530ea810>"
      ]
     },
     "metadata": {},
     "output_type": "display_data"
    }
   ],
   "source": [
    "# Non-normalized\n",
    "model_assessment.plot_confusion_matrix(cm=svc_cm, labels=disease_encoder_any.classes_, cmap='Blues', title=None,\n",
    "                 norm=False, context=None, annot=True);"
   ]
  },
  {
   "cell_type": "code",
   "execution_count": 67,
   "metadata": {
    "collapsed": false
   },
   "outputs": [
    {
     "data": {
      "image/png": "[encoded data removed]",
      "text/plain": [
       "<matplotlib.figure.Figure at 0x7f1252e0db50>"
      ]
     },
     "metadata": {},
     "output_type": "display_data"
    }
   ],
   "source": [
    "# Normalized\n",
    "model_assessment.plot_confusion_matrix(cm=svc_cm, labels=disease_encoder_any.classes_, cmap='Blues', title=None,\n",
    "                 norm=True, context=None, annot=True);"
   ]
  },
  {
   "cell_type": "markdown",
   "metadata": {},
   "source": [
    "## LogisticRegression classifier"
   ]
  },
  {
   "cell_type": "code",
   "execution_count": 68,
   "metadata": {
    "collapsed": false
   },
   "outputs": [
    {
     "name": "stdout",
     "output_type": "stream",
     "text": [
      "{'logisticregression__penalty': 'l1'}\n"
     ]
    }
   ],
   "source": [
    "log_reg_param_grid = {'logisticregression__penalty': ['l1','l2'],\n",
    "                     }\n",
    "\n",
    "\n",
    "\n",
    "log_reg_pipe = make_pipeline(LogisticRegression(random_state=42,n_jobs=8))\n",
    "\n",
    "# run the gridsearch to tune the hyper-parameters\n",
    "log_reg_grid = GridSearchCV(log_reg_pipe, param_grid=log_reg_param_grid, cv=5)\n",
    "\n",
    "\n",
    "log_reg_grid.fit(X_train, y_train)\n",
    "print(log_reg_grid.best_params_)\n",
    "\n",
    "\n",
    "# generate and plot confusion matrices\n",
    "log_reg_cm = confusion_matrix(y_test,log_reg_grid.predict(X_test))"
   ]
  },
  {
   "cell_type": "code",
   "execution_count": 69,
   "metadata": {
    "collapsed": false
   },
   "outputs": [
    {
     "data": {
      "image/png": "[encoded data removed]",
      "text/plain": [
       "<matplotlib.figure.Figure at 0x7f1252eaec50>"
      ]
     },
     "metadata": {},
     "output_type": "display_data"
    }
   ],
   "source": [
    "model_assessment.plot_confusion_matrix(cm=log_reg_cm, labels=disease_encoder_any.classes_, cmap='Blues', title=\"log_reg_cm confusion matrix\",\n",
    "              norm=False, context=None, annot=True);"
   ]
  },
  {
   "cell_type": "code",
   "execution_count": 70,
   "metadata": {
    "collapsed": false,
    "scrolled": true
   },
   "outputs": [
    {
     "data": {
      "image/png": "[encoded data removed]",
      "text/plain": [
       "<matplotlib.figure.Figure at 0x7f1252f02a50>"
      ]
     },
     "metadata": {},
     "output_type": "display_data"
    }
   ],
   "source": [
    "model_assessment.plot_confusion_matrix(cm=log_reg_cm, labels=disease_encoder_any.classes_, cmap='Blues', title=\"log_reg_cm normalized confusion matrix\",\n",
    "              norm=True, context=None, annot=True);"
   ]
  },
  {
   "cell_type": "markdown",
   "metadata": {},
   "source": [
    "# What genes/probes did we recover?"
   ]
  },
  {
   "cell_type": "code",
   "execution_count": 71,
   "metadata": {
    "collapsed": false
   },
   "outputs": [],
   "source": [
    "mapping_table_file = pd.read_excel('/home/gus/MEGAsync/zim/main/BCH/Projects/Jodie_and_James/comparison_gus_v2.xls')\n",
    "mapping_table = mapping_table_file[['probes','GENE_SYMBOL']]"
   ]
  },
  {
   "cell_type": "code",
   "execution_count": 72,
   "metadata": {
    "collapsed": false
   },
   "outputs": [
    {
     "data": {
      "text/html": [
       "<div>\n",
       "<table border=\"1\" class=\"dataframe\">\n",
       "  <thead>\n",
       "    <tr style=\"text-align: right;\">\n",
       "      <th></th>\n",
       "      <th>probes</th>\n",
       "      <th>GENE_SYMBOL</th>\n",
       "    </tr>\n",
       "  </thead>\n",
       "  <tbody>\n",
       "    <tr>\n",
       "      <th>0</th>\n",
       "      <td>1552281_PM_at</td>\n",
       "      <td>SLC39A5</td>\n",
       "    </tr>\n",
       "    <tr>\n",
       "      <th>1</th>\n",
       "      <td>1552296_PM_at</td>\n",
       "      <td>BEST4</td>\n",
       "    </tr>\n",
       "    <tr>\n",
       "      <th>2</th>\n",
       "      <td>1552365_PM_at</td>\n",
       "      <td>SCIN</td>\n",
       "    </tr>\n",
       "    <tr>\n",
       "      <th>3</th>\n",
       "      <td>1552367_PM_a_at</td>\n",
       "      <td>SCIN</td>\n",
       "    </tr>\n",
       "    <tr>\n",
       "      <th>4</th>\n",
       "      <td>1552497_PM_a_at</td>\n",
       "      <td>SLAMF6</td>\n",
       "    </tr>\n",
       "  </tbody>\n",
       "</table>\n",
       "</div>"
      ],
      "text/plain": [
       "            probes GENE_SYMBOL\n",
       "0    1552281_PM_at     SLC39A5\n",
       "1    1552296_PM_at       BEST4\n",
       "2    1552365_PM_at        SCIN\n",
       "3  1552367_PM_a_at        SCIN\n",
       "4  1552497_PM_a_at      SLAMF6"
      ]
     },
     "execution_count": 72,
     "metadata": {},
     "output_type": "execute_result"
    }
   ],
   "source": [
    "mapping_table.head()"
   ]
  },
  {
   "cell_type": "code",
   "execution_count": 73,
   "metadata": {
    "collapsed": false
   },
   "outputs": [],
   "source": [
    "my_probes = [x[1:] for x in X_reduced.columns.values]"
   ]
  },
  {
   "cell_type": "code",
   "execution_count": 74,
   "metadata": {
    "collapsed": false
   },
   "outputs": [
    {
     "data": {
      "text/html": [
       "<div>\n",
       "<table border=\"1\" class=\"dataframe\">\n",
       "  <thead>\n",
       "    <tr style=\"text-align: right;\">\n",
       "      <th></th>\n",
       "      <th>probes</th>\n",
       "      <th>GENE_SYMBOL</th>\n",
       "    </tr>\n",
       "  </thead>\n",
       "  <tbody>\n",
       "    <tr>\n",
       "      <th>691</th>\n",
       "      <td>207529_PM_at</td>\n",
       "      <td>DEFA5</td>\n",
       "    </tr>\n",
       "    <tr>\n",
       "      <th>1336</th>\n",
       "      <td>219727_PM_at</td>\n",
       "      <td>DUOX2</td>\n",
       "    </tr>\n",
       "    <tr>\n",
       "      <th>1340</th>\n",
       "      <td>219795_PM_at</td>\n",
       "      <td>SLC6A14</td>\n",
       "    </tr>\n",
       "    <tr>\n",
       "      <th>1866</th>\n",
       "      <td>230784_PM_at</td>\n",
       "      <td>PRAC</td>\n",
       "    </tr>\n",
       "    <tr>\n",
       "      <th>2056</th>\n",
       "      <td>236351_PM_at</td>\n",
       "      <td>LOC389023</td>\n",
       "    </tr>\n",
       "  </tbody>\n",
       "</table>\n",
       "</div>"
      ],
      "text/plain": [
       "            probes GENE_SYMBOL\n",
       "691   207529_PM_at       DEFA5\n",
       "1336  219727_PM_at       DUOX2\n",
       "1340  219795_PM_at     SLC6A14\n",
       "1866  230784_PM_at        PRAC\n",
       "2056  236351_PM_at   LOC389023"
      ]
     },
     "execution_count": 74,
     "metadata": {},
     "output_type": "execute_result"
    }
   ],
   "source": [
    "mapping_table[mapping_table.probes.apply(lambda x: x in my_probes)]"
   ]
  },
  {
   "cell_type": "code",
   "execution_count": null,
   "metadata": {
    "collapsed": true
   },
   "outputs": [],
   "source": []
  }
 ],
 "metadata": {
  "kernelspec": {
   "display_name": "Python 2",
   "language": "python",
   "name": "python2"
  },
  "language_info": {
   "codemirror_mode": {
    "name": "ipython",
    "version": 2
   },
   "file_extension": ".py",
   "mimetype": "text/x-python",
   "name": "python",
   "nbconvert_exporter": "python",
   "pygments_lexer": "ipython2",
   "version": "2.7.11"
  }
 },
 "nbformat": 4,
 "nbformat_minor": 0
}
