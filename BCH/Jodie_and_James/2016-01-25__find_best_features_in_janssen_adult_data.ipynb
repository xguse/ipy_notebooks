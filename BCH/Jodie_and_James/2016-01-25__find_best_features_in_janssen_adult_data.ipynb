{
 "cells": [
  {
   "cell_type": "code",
   "execution_count": 1,
   "metadata": {
    "collapsed": false
   },
   "outputs": [],
   "source": [
    "%matplotlib inline\n",
    "# %matplotlib"
   ]
  },
  {
   "cell_type": "code",
   "execution_count": 51,
   "metadata": {
    "collapsed": true
   },
   "outputs": [],
   "source": [
    "import time"
   ]
  },
  {
   "cell_type": "code",
   "execution_count": 2,
   "metadata": {
    "collapsed": true
   },
   "outputs": [],
   "source": [
    "from __future__ import division,print_function"
   ]
  },
  {
   "cell_type": "code",
   "execution_count": 3,
   "metadata": {
    "collapsed": false
   },
   "outputs": [],
   "source": [
    "from spartan.utils.sklearn import model_assessment, feature_selection\n",
    "from spartan.utils.sklearn import pandas_helpers"
   ]
  },
  {
   "cell_type": "code",
   "execution_count": 4,
   "metadata": {
    "collapsed": false
   },
   "outputs": [],
   "source": [
    "from collections import Counter, defaultdict\n",
    "import math\n",
    "\n",
    "import numpy as np\n",
    "import pandas as pd\n",
    "import sklearn as skl\n",
    "import sklearn.preprocessing as ppro\n",
    "\n",
    "from sklearn.pipeline import Pipeline\n",
    "from sklearn.pipeline import make_pipeline\n",
    "\n",
    "from sklearn.decomposition import PCA, RandomizedPCA, KernelPCA, FactorAnalysis\n",
    "from sklearn.discriminant_analysis import LinearDiscriminantAnalysis\n",
    "\n",
    "from sklearn.grid_search import GridSearchCV\n",
    "from sklearn.cross_validation import train_test_split\n",
    "\n",
    "from sklearn.svm import SVC, LinearSVC\n",
    "from sklearn.ensemble import RandomForestClassifier,ExtraTreesClassifier\n",
    "\n",
    "from sklearn.linear_model import LogisticRegression\n",
    "from sklearn.linear_model import RandomizedLogisticRegression\n",
    "from sklearn.linear_model import Lasso\n",
    "\n",
    "from sklearn.feature_selection import SelectKBest\n",
    "\n",
    "from sklearn.metrics import confusion_matrix\n",
    "\n",
    "from sklearn.feature_selection import SelectFromModel"
   ]
  },
  {
   "cell_type": "code",
   "execution_count": 5,
   "metadata": {
    "collapsed": true
   },
   "outputs": [],
   "source": [
    "from matplotlib import pyplot as plt\n",
    "import seaborn as sns"
   ]
  },
  {
   "cell_type": "code",
   "execution_count": 6,
   "metadata": {
    "collapsed": false
   },
   "outputs": [],
   "source": [
    "sns.set_context('poster')"
   ]
  },
  {
   "cell_type": "code",
   "execution_count": 7,
   "metadata": {
    "collapsed": false
   },
   "outputs": [
    {
     "name": "stderr",
     "output_type": "stream",
     "text": [
      "/home/gus/anaconda2/envs/stack2/lib/python2.7/site-packages/IPython/core/interactiveshell.py:2902: DtypeWarning: Columns (4) have mixed types. Specify dtype option on import or set low_memory=False.\n",
      "  interactivity=interactivity, compiler=compiler, result=result)\n"
     ]
    },
    {
     "data": {
      "text/html": [
       "<div>\n",
       "<table border=\"1\" class=\"dataframe\">\n",
       "  <thead>\n",
       "    <tr style=\"text-align: right;\">\n",
       "      <th></th>\n",
       "      <th>ID</th>\n",
       "      <th>SiteSubject ID</th>\n",
       "      <th>Visit</th>\n",
       "      <th>Disease_or_Normal</th>\n",
       "      <th>Age in Years</th>\n",
       "      <th>Sex</th>\n",
       "      <th>ExtentDisease</th>\n",
       "      <th>_1007_PM_s_at</th>\n",
       "      <th>_1053_PM_at</th>\n",
       "      <th>_117_PM_at</th>\n",
       "      <th>...</th>\n",
       "      <th>_AFFX-r2-TagO-3_at</th>\n",
       "      <th>_AFFX-r2-TagO-5_at</th>\n",
       "      <th>_AFFX-r2-TagQ-3_at</th>\n",
       "      <th>_AFFX-r2-TagQ-5_at</th>\n",
       "      <th>_AFFX-ThrX-3_at</th>\n",
       "      <th>_AFFX-ThrX-5_at</th>\n",
       "      <th>_AFFX-ThrX-M_at</th>\n",
       "      <th>_AFFX-TrpnX-3_at</th>\n",
       "      <th>_AFFX-TrpnX-5_at</th>\n",
       "      <th>_AFFX-TrpnX-M_at</th>\n",
       "    </tr>\n",
       "  </thead>\n",
       "  <tbody>\n",
       "    <tr>\n",
       "      <th>0</th>\n",
       "      <td>5500254131236090112251_101136.A02</td>\n",
       "      <td>7532-00001</td>\n",
       "      <td>Week 0</td>\n",
       "      <td>diseased</td>\n",
       "      <td>44</td>\n",
       "      <td>F</td>\n",
       "      <td>Extensive</td>\n",
       "      <td>9.674214</td>\n",
       "      <td>7.176943</td>\n",
       "      <td>7.530333</td>\n",
       "      <td>...</td>\n",
       "      <td>4.498194</td>\n",
       "      <td>3.455266</td>\n",
       "      <td>3.531909</td>\n",
       "      <td>3.470912</td>\n",
       "      <td>4.453369</td>\n",
       "      <td>3.499877</td>\n",
       "      <td>3.659598</td>\n",
       "      <td>3.164482</td>\n",
       "      <td>3.729298</td>\n",
       "      <td>3.746295</td>\n",
       "    </tr>\n",
       "    <tr>\n",
       "      <th>1</th>\n",
       "      <td>5500254131236090112251_101136.B08</td>\n",
       "      <td>6502-00028</td>\n",
       "      <td>Week 0</td>\n",
       "      <td>diseased</td>\n",
       "      <td>27</td>\n",
       "      <td>M</td>\n",
       "      <td>Extensive</td>\n",
       "      <td>10.287132</td>\n",
       "      <td>7.426960</td>\n",
       "      <td>6.380001</td>\n",
       "      <td>...</td>\n",
       "      <td>4.753581</td>\n",
       "      <td>3.691656</td>\n",
       "      <td>3.603318</td>\n",
       "      <td>3.872274</td>\n",
       "      <td>4.784521</td>\n",
       "      <td>3.577326</td>\n",
       "      <td>3.710226</td>\n",
       "      <td>3.282151</td>\n",
       "      <td>3.888459</td>\n",
       "      <td>3.964700</td>\n",
       "    </tr>\n",
       "    <tr>\n",
       "      <th>2</th>\n",
       "      <td>5500254131236090112251_101136.E05</td>\n",
       "      <td>7756-00011</td>\n",
       "      <td>Week 0</td>\n",
       "      <td>diseased</td>\n",
       "      <td>46</td>\n",
       "      <td>M</td>\n",
       "      <td>Extensive</td>\n",
       "      <td>9.842515</td>\n",
       "      <td>7.312331</td>\n",
       "      <td>7.272196</td>\n",
       "      <td>...</td>\n",
       "      <td>4.408918</td>\n",
       "      <td>3.354399</td>\n",
       "      <td>3.609886</td>\n",
       "      <td>3.925905</td>\n",
       "      <td>4.356703</td>\n",
       "      <td>3.507491</td>\n",
       "      <td>3.593398</td>\n",
       "      <td>3.149996</td>\n",
       "      <td>3.718695</td>\n",
       "      <td>3.525178</td>\n",
       "    </tr>\n",
       "    <tr>\n",
       "      <th>3</th>\n",
       "      <td>5500254131236090112251_101136.G12</td>\n",
       "      <td>7530-00008</td>\n",
       "      <td>Week 0</td>\n",
       "      <td>diseased</td>\n",
       "      <td>56</td>\n",
       "      <td>M</td>\n",
       "      <td>Extensive</td>\n",
       "      <td>9.622503</td>\n",
       "      <td>7.743776</td>\n",
       "      <td>7.129598</td>\n",
       "      <td>...</td>\n",
       "      <td>4.668693</td>\n",
       "      <td>3.384722</td>\n",
       "      <td>3.578263</td>\n",
       "      <td>3.414231</td>\n",
       "      <td>4.444389</td>\n",
       "      <td>3.452806</td>\n",
       "      <td>3.561378</td>\n",
       "      <td>3.298016</td>\n",
       "      <td>3.663710</td>\n",
       "      <td>3.640893</td>\n",
       "    </tr>\n",
       "    <tr>\n",
       "      <th>4</th>\n",
       "      <td>5500254131236090112252_101136.A08</td>\n",
       "      <td>7530-00011</td>\n",
       "      <td>Week 0</td>\n",
       "      <td>diseased</td>\n",
       "      <td>63</td>\n",
       "      <td>F</td>\n",
       "      <td>Extensive</td>\n",
       "      <td>9.720709</td>\n",
       "      <td>7.099984</td>\n",
       "      <td>6.909100</td>\n",
       "      <td>...</td>\n",
       "      <td>4.703255</td>\n",
       "      <td>3.692352</td>\n",
       "      <td>3.520985</td>\n",
       "      <td>3.726691</td>\n",
       "      <td>4.575027</td>\n",
       "      <td>3.557793</td>\n",
       "      <td>3.549866</td>\n",
       "      <td>3.216523</td>\n",
       "      <td>3.678702</td>\n",
       "      <td>3.821898</td>\n",
       "    </tr>\n",
       "  </tbody>\n",
       "</table>\n",
       "<p>5 rows × 54722 columns</p>\n",
       "</div>"
      ],
      "text/plain": [
       "                                  ID SiteSubject ID   Visit Disease_or_Normal  \\\n",
       "0  5500254131236090112251_101136.A02     7532-00001  Week 0          diseased   \n",
       "1  5500254131236090112251_101136.B08     6502-00028  Week 0          diseased   \n",
       "2  5500254131236090112251_101136.E05     7756-00011  Week 0          diseased   \n",
       "3  5500254131236090112251_101136.G12     7530-00008  Week 0          diseased   \n",
       "4  5500254131236090112252_101136.A08     7530-00011  Week 0          diseased   \n",
       "\n",
       "  Age in Years Sex ExtentDisease  _1007_PM_s_at  _1053_PM_at  _117_PM_at  \\\n",
       "0           44   F     Extensive       9.674214     7.176943    7.530333   \n",
       "1           27   M     Extensive      10.287132     7.426960    6.380001   \n",
       "2           46   M     Extensive       9.842515     7.312331    7.272196   \n",
       "3           56   M     Extensive       9.622503     7.743776    7.129598   \n",
       "4           63   F     Extensive       9.720709     7.099984    6.909100   \n",
       "\n",
       "         ...         _AFFX-r2-TagO-3_at  _AFFX-r2-TagO-5_at  \\\n",
       "0        ...                   4.498194            3.455266   \n",
       "1        ...                   4.753581            3.691656   \n",
       "2        ...                   4.408918            3.354399   \n",
       "3        ...                   4.668693            3.384722   \n",
       "4        ...                   4.703255            3.692352   \n",
       "\n",
       "   _AFFX-r2-TagQ-3_at  _AFFX-r2-TagQ-5_at  _AFFX-ThrX-3_at  _AFFX-ThrX-5_at  \\\n",
       "0            3.531909            3.470912         4.453369         3.499877   \n",
       "1            3.603318            3.872274         4.784521         3.577326   \n",
       "2            3.609886            3.925905         4.356703         3.507491   \n",
       "3            3.578263            3.414231         4.444389         3.452806   \n",
       "4            3.520985            3.726691         4.575027         3.557793   \n",
       "\n",
       "   _AFFX-ThrX-M_at  _AFFX-TrpnX-3_at  _AFFX-TrpnX-5_at  _AFFX-TrpnX-M_at  \n",
       "0         3.659598          3.164482          3.729298          3.746295  \n",
       "1         3.710226          3.282151          3.888459          3.964700  \n",
       "2         3.593398          3.149996          3.718695          3.525178  \n",
       "3         3.561378          3.298016          3.663710          3.640893  \n",
       "4         3.549866          3.216523          3.678702          3.821898  \n",
       "\n",
       "[5 rows x 54722 columns]"
      ]
     },
     "execution_count": 7,
     "metadata": {},
     "output_type": "execute_result"
    }
   ],
   "source": [
    "gus_processed_path = '/home/gus/MEGAsync/zim/main/BCH/Projects/Jodie_and_James/labeled_data_gus.csv'\n",
    "gus_processed_data = pd.read_csv(gus_processed_path)\n",
    "gus_processed_data.head()"
   ]
  },
  {
   "cell_type": "code",
   "execution_count": 8,
   "metadata": {
    "collapsed": false
   },
   "outputs": [],
   "source": [
    "# # tax_scaled = tax.T.apply(lambda m: (m - m.mean())/m.std()).T\n",
    "# # tax_scaled = tax.T.apply(lambda m: (m / m.sum())).T\n",
    "# # tax_scaled = tax\n",
    "\n",
    "# tax_shrunk = tax.sum().min() / tax.sum() * tax\n",
    "\n",
    "# tax_scaled = tax_shrunk.T.apply(lambda m: (m - m.mean())/m.std()).T"
   ]
  },
  {
   "cell_type": "code",
   "execution_count": 9,
   "metadata": {
    "collapsed": false
   },
   "outputs": [],
   "source": [
    "full_table = gus_processed_data"
   ]
  },
  {
   "cell_type": "code",
   "execution_count": 10,
   "metadata": {
    "collapsed": false,
    "scrolled": true
   },
   "outputs": [
    {
     "data": {
      "text/html": [
       "<div>\n",
       "<table border=\"1\" class=\"dataframe\">\n",
       "  <thead>\n",
       "    <tr style=\"text-align: right;\">\n",
       "      <th></th>\n",
       "      <th>ID</th>\n",
       "      <th>SiteSubject ID</th>\n",
       "      <th>Visit</th>\n",
       "      <th>Disease_or_Normal</th>\n",
       "      <th>Age in Years</th>\n",
       "      <th>Sex</th>\n",
       "      <th>ExtentDisease</th>\n",
       "      <th>_1007_PM_s_at</th>\n",
       "      <th>_1053_PM_at</th>\n",
       "      <th>_117_PM_at</th>\n",
       "      <th>...</th>\n",
       "      <th>_AFFX-r2-TagO-3_at</th>\n",
       "      <th>_AFFX-r2-TagO-5_at</th>\n",
       "      <th>_AFFX-r2-TagQ-3_at</th>\n",
       "      <th>_AFFX-r2-TagQ-5_at</th>\n",
       "      <th>_AFFX-ThrX-3_at</th>\n",
       "      <th>_AFFX-ThrX-5_at</th>\n",
       "      <th>_AFFX-ThrX-M_at</th>\n",
       "      <th>_AFFX-TrpnX-3_at</th>\n",
       "      <th>_AFFX-TrpnX-5_at</th>\n",
       "      <th>_AFFX-TrpnX-M_at</th>\n",
       "    </tr>\n",
       "  </thead>\n",
       "  <tbody>\n",
       "    <tr>\n",
       "      <th>0</th>\n",
       "      <td>5500254131236090112251_101136.A02</td>\n",
       "      <td>7532-00001</td>\n",
       "      <td>Week 0</td>\n",
       "      <td>diseased</td>\n",
       "      <td>44</td>\n",
       "      <td>F</td>\n",
       "      <td>Extensive</td>\n",
       "      <td>9.674214</td>\n",
       "      <td>7.176943</td>\n",
       "      <td>7.530333</td>\n",
       "      <td>...</td>\n",
       "      <td>4.498194</td>\n",
       "      <td>3.455266</td>\n",
       "      <td>3.531909</td>\n",
       "      <td>3.470912</td>\n",
       "      <td>4.453369</td>\n",
       "      <td>3.499877</td>\n",
       "      <td>3.659598</td>\n",
       "      <td>3.164482</td>\n",
       "      <td>3.729298</td>\n",
       "      <td>3.746295</td>\n",
       "    </tr>\n",
       "    <tr>\n",
       "      <th>1</th>\n",
       "      <td>5500254131236090112251_101136.B08</td>\n",
       "      <td>6502-00028</td>\n",
       "      <td>Week 0</td>\n",
       "      <td>diseased</td>\n",
       "      <td>27</td>\n",
       "      <td>M</td>\n",
       "      <td>Extensive</td>\n",
       "      <td>10.287132</td>\n",
       "      <td>7.426960</td>\n",
       "      <td>6.380001</td>\n",
       "      <td>...</td>\n",
       "      <td>4.753581</td>\n",
       "      <td>3.691656</td>\n",
       "      <td>3.603318</td>\n",
       "      <td>3.872274</td>\n",
       "      <td>4.784521</td>\n",
       "      <td>3.577326</td>\n",
       "      <td>3.710226</td>\n",
       "      <td>3.282151</td>\n",
       "      <td>3.888459</td>\n",
       "      <td>3.964700</td>\n",
       "    </tr>\n",
       "    <tr>\n",
       "      <th>2</th>\n",
       "      <td>5500254131236090112251_101136.E05</td>\n",
       "      <td>7756-00011</td>\n",
       "      <td>Week 0</td>\n",
       "      <td>diseased</td>\n",
       "      <td>46</td>\n",
       "      <td>M</td>\n",
       "      <td>Extensive</td>\n",
       "      <td>9.842515</td>\n",
       "      <td>7.312331</td>\n",
       "      <td>7.272196</td>\n",
       "      <td>...</td>\n",
       "      <td>4.408918</td>\n",
       "      <td>3.354399</td>\n",
       "      <td>3.609886</td>\n",
       "      <td>3.925905</td>\n",
       "      <td>4.356703</td>\n",
       "      <td>3.507491</td>\n",
       "      <td>3.593398</td>\n",
       "      <td>3.149996</td>\n",
       "      <td>3.718695</td>\n",
       "      <td>3.525178</td>\n",
       "    </tr>\n",
       "    <tr>\n",
       "      <th>3</th>\n",
       "      <td>5500254131236090112251_101136.G12</td>\n",
       "      <td>7530-00008</td>\n",
       "      <td>Week 0</td>\n",
       "      <td>diseased</td>\n",
       "      <td>56</td>\n",
       "      <td>M</td>\n",
       "      <td>Extensive</td>\n",
       "      <td>9.622503</td>\n",
       "      <td>7.743776</td>\n",
       "      <td>7.129598</td>\n",
       "      <td>...</td>\n",
       "      <td>4.668693</td>\n",
       "      <td>3.384722</td>\n",
       "      <td>3.578263</td>\n",
       "      <td>3.414231</td>\n",
       "      <td>4.444389</td>\n",
       "      <td>3.452806</td>\n",
       "      <td>3.561378</td>\n",
       "      <td>3.298016</td>\n",
       "      <td>3.663710</td>\n",
       "      <td>3.640893</td>\n",
       "    </tr>\n",
       "    <tr>\n",
       "      <th>4</th>\n",
       "      <td>5500254131236090112252_101136.A08</td>\n",
       "      <td>7530-00011</td>\n",
       "      <td>Week 0</td>\n",
       "      <td>diseased</td>\n",
       "      <td>63</td>\n",
       "      <td>F</td>\n",
       "      <td>Extensive</td>\n",
       "      <td>9.720709</td>\n",
       "      <td>7.099984</td>\n",
       "      <td>6.909100</td>\n",
       "      <td>...</td>\n",
       "      <td>4.703255</td>\n",
       "      <td>3.692352</td>\n",
       "      <td>3.520985</td>\n",
       "      <td>3.726691</td>\n",
       "      <td>4.575027</td>\n",
       "      <td>3.557793</td>\n",
       "      <td>3.549866</td>\n",
       "      <td>3.216523</td>\n",
       "      <td>3.678702</td>\n",
       "      <td>3.821898</td>\n",
       "    </tr>\n",
       "  </tbody>\n",
       "</table>\n",
       "<p>5 rows × 54722 columns</p>\n",
       "</div>"
      ],
      "text/plain": [
       "                                  ID SiteSubject ID   Visit Disease_or_Normal  \\\n",
       "0  5500254131236090112251_101136.A02     7532-00001  Week 0          diseased   \n",
       "1  5500254131236090112251_101136.B08     6502-00028  Week 0          diseased   \n",
       "2  5500254131236090112251_101136.E05     7756-00011  Week 0          diseased   \n",
       "3  5500254131236090112251_101136.G12     7530-00008  Week 0          diseased   \n",
       "4  5500254131236090112252_101136.A08     7530-00011  Week 0          diseased   \n",
       "\n",
       "  Age in Years Sex ExtentDisease  _1007_PM_s_at  _1053_PM_at  _117_PM_at  \\\n",
       "0           44   F     Extensive       9.674214     7.176943    7.530333   \n",
       "1           27   M     Extensive      10.287132     7.426960    6.380001   \n",
       "2           46   M     Extensive       9.842515     7.312331    7.272196   \n",
       "3           56   M     Extensive       9.622503     7.743776    7.129598   \n",
       "4           63   F     Extensive       9.720709     7.099984    6.909100   \n",
       "\n",
       "         ...         _AFFX-r2-TagO-3_at  _AFFX-r2-TagO-5_at  \\\n",
       "0        ...                   4.498194            3.455266   \n",
       "1        ...                   4.753581            3.691656   \n",
       "2        ...                   4.408918            3.354399   \n",
       "3        ...                   4.668693            3.384722   \n",
       "4        ...                   4.703255            3.692352   \n",
       "\n",
       "   _AFFX-r2-TagQ-3_at  _AFFX-r2-TagQ-5_at  _AFFX-ThrX-3_at  _AFFX-ThrX-5_at  \\\n",
       "0            3.531909            3.470912         4.453369         3.499877   \n",
       "1            3.603318            3.872274         4.784521         3.577326   \n",
       "2            3.609886            3.925905         4.356703         3.507491   \n",
       "3            3.578263            3.414231         4.444389         3.452806   \n",
       "4            3.520985            3.726691         4.575027         3.557793   \n",
       "\n",
       "   _AFFX-ThrX-M_at  _AFFX-TrpnX-3_at  _AFFX-TrpnX-5_at  _AFFX-TrpnX-M_at  \n",
       "0         3.659598          3.164482          3.729298          3.746295  \n",
       "1         3.710226          3.282151          3.888459          3.964700  \n",
       "2         3.593398          3.149996          3.718695          3.525178  \n",
       "3         3.561378          3.298016          3.663710          3.640893  \n",
       "4         3.549866          3.216523          3.678702          3.821898  \n",
       "\n",
       "[5 rows x 54722 columns]"
      ]
     },
     "execution_count": 10,
     "metadata": {},
     "output_type": "execute_result"
    }
   ],
   "source": [
    "full_table.head()"
   ]
  },
  {
   "cell_type": "markdown",
   "metadata": {},
   "source": [
    "# Encode 'y' (labels)"
   ]
  },
  {
   "cell_type": "code",
   "execution_count": 11,
   "metadata": {
    "collapsed": true
   },
   "outputs": [],
   "source": [
    "y_disease_any_dis = full_table['Disease_or_Normal']\n",
    "y_disease_spc_dis = full_table['ExtentDisease']\n",
    "disease_encoder = ppro.LabelEncoder()\n",
    "y_disease_encoded_any = disease_encoder.fit_transform(y_disease_any_dis)\n",
    "y_disease_encoded_spc = disease_encoder.fit_transform(y_disease_spc_dis)"
   ]
  },
  {
   "cell_type": "code",
   "execution_count": null,
   "metadata": {
    "collapsed": true
   },
   "outputs": [],
   "source": []
  },
  {
   "cell_type": "markdown",
   "metadata": {},
   "source": [
    "# Encode 'X' (data)"
   ]
  },
  {
   "cell_type": "markdown",
   "metadata": {},
   "source": [
    "## Combine (or not) the categorical and numerical data types for X"
   ]
  },
  {
   "cell_type": "code",
   "execution_count": 12,
   "metadata": {
    "collapsed": false
   },
   "outputs": [],
   "source": [
    "X_cols_cat = list(full_table.columns[[5]].values)\n",
    "X_cols_num = list(full_table.columns[7:])"
   ]
  },
  {
   "cell_type": "code",
   "execution_count": 13,
   "metadata": {
    "collapsed": false
   },
   "outputs": [],
   "source": [
    "# X_cols_cat"
   ]
  },
  {
   "cell_type": "code",
   "execution_count": 14,
   "metadata": {
    "collapsed": true
   },
   "outputs": [],
   "source": [
    "# make the dummy variable columns for the original categorical data columns\n",
    "# HOPEFULLY we dont run into colinearity issues\n",
    "X_data_cat = pd.get_dummies(full_table[X_cols_cat].astype(str))"
   ]
  },
  {
   "cell_type": "code",
   "execution_count": 15,
   "metadata": {
    "collapsed": false
   },
   "outputs": [
    {
     "data": {
      "text/html": [
       "<div>\n",
       "<table border=\"1\" class=\"dataframe\">\n",
       "  <thead>\n",
       "    <tr style=\"text-align: right;\">\n",
       "      <th></th>\n",
       "      <th>Sex_.</th>\n",
       "      <th>Sex_F</th>\n",
       "      <th>Sex_M</th>\n",
       "    </tr>\n",
       "  </thead>\n",
       "  <tbody>\n",
       "    <tr>\n",
       "      <th>0</th>\n",
       "      <td>0</td>\n",
       "      <td>1</td>\n",
       "      <td>0</td>\n",
       "    </tr>\n",
       "    <tr>\n",
       "      <th>1</th>\n",
       "      <td>0</td>\n",
       "      <td>0</td>\n",
       "      <td>1</td>\n",
       "    </tr>\n",
       "    <tr>\n",
       "      <th>2</th>\n",
       "      <td>0</td>\n",
       "      <td>0</td>\n",
       "      <td>1</td>\n",
       "    </tr>\n",
       "    <tr>\n",
       "      <th>3</th>\n",
       "      <td>0</td>\n",
       "      <td>0</td>\n",
       "      <td>1</td>\n",
       "    </tr>\n",
       "    <tr>\n",
       "      <th>4</th>\n",
       "      <td>0</td>\n",
       "      <td>1</td>\n",
       "      <td>0</td>\n",
       "    </tr>\n",
       "  </tbody>\n",
       "</table>\n",
       "</div>"
      ],
      "text/plain": [
       "   Sex_.  Sex_F  Sex_M\n",
       "0      0      1      0\n",
       "1      0      0      1\n",
       "2      0      0      1\n",
       "3      0      0      1\n",
       "4      0      1      0"
      ]
     },
     "execution_count": 15,
     "metadata": {},
     "output_type": "execute_result"
    }
   ],
   "source": [
    "X_data_cat.head()"
   ]
  },
  {
   "cell_type": "markdown",
   "metadata": {},
   "source": [
    "NOTE: because some subjects have `.` listed as Sex, we can not properly accomidate this information.\n",
    "\n",
    "\n",
    "NO CATEGORICAL DATA WILL BE RETAINED"
   ]
  },
  {
   "cell_type": "code",
   "execution_count": 16,
   "metadata": {
    "collapsed": false
   },
   "outputs": [],
   "source": [
    "# put all data columns together\n",
    "\n",
    "X = full_table[X_cols_num].copy() # IGNORING Sex\n",
    "X['ID'] = full_table.ID.copy()\n",
    "X = X.set_index('ID')"
   ]
  },
  {
   "cell_type": "code",
   "execution_count": 17,
   "metadata": {
    "collapsed": false
   },
   "outputs": [
    {
     "data": {
      "text/html": [
       "<div>\n",
       "<table border=\"1\" class=\"dataframe\">\n",
       "  <thead>\n",
       "    <tr style=\"text-align: right;\">\n",
       "      <th></th>\n",
       "      <th>_1007_PM_s_at</th>\n",
       "      <th>_1053_PM_at</th>\n",
       "      <th>_117_PM_at</th>\n",
       "      <th>_121_PM_at</th>\n",
       "      <th>_1255_PM_g_at</th>\n",
       "      <th>_1294_PM_at</th>\n",
       "      <th>_1316_PM_at</th>\n",
       "      <th>_1320_PM_at</th>\n",
       "      <th>_1405_PM_i_at</th>\n",
       "      <th>_1431_PM_at</th>\n",
       "      <th>...</th>\n",
       "      <th>_AFFX-r2-TagO-3_at</th>\n",
       "      <th>_AFFX-r2-TagO-5_at</th>\n",
       "      <th>_AFFX-r2-TagQ-3_at</th>\n",
       "      <th>_AFFX-r2-TagQ-5_at</th>\n",
       "      <th>_AFFX-ThrX-3_at</th>\n",
       "      <th>_AFFX-ThrX-5_at</th>\n",
       "      <th>_AFFX-ThrX-M_at</th>\n",
       "      <th>_AFFX-TrpnX-3_at</th>\n",
       "      <th>_AFFX-TrpnX-5_at</th>\n",
       "      <th>_AFFX-TrpnX-M_at</th>\n",
       "    </tr>\n",
       "    <tr>\n",
       "      <th>ID</th>\n",
       "      <th></th>\n",
       "      <th></th>\n",
       "      <th></th>\n",
       "      <th></th>\n",
       "      <th></th>\n",
       "      <th></th>\n",
       "      <th></th>\n",
       "      <th></th>\n",
       "      <th></th>\n",
       "      <th></th>\n",
       "      <th></th>\n",
       "      <th></th>\n",
       "      <th></th>\n",
       "      <th></th>\n",
       "      <th></th>\n",
       "      <th></th>\n",
       "      <th></th>\n",
       "      <th></th>\n",
       "      <th></th>\n",
       "      <th></th>\n",
       "      <th></th>\n",
       "    </tr>\n",
       "  </thead>\n",
       "  <tbody>\n",
       "    <tr>\n",
       "      <th>5500254131236090112251_101136.A02</th>\n",
       "      <td>9.674214</td>\n",
       "      <td>7.176943</td>\n",
       "      <td>7.530333</td>\n",
       "      <td>7.032434</td>\n",
       "      <td>3.314738</td>\n",
       "      <td>9.043722</td>\n",
       "      <td>6.816082</td>\n",
       "      <td>5.757636</td>\n",
       "      <td>7.180860</td>\n",
       "      <td>4.285610</td>\n",
       "      <td>...</td>\n",
       "      <td>4.498194</td>\n",
       "      <td>3.455266</td>\n",
       "      <td>3.531909</td>\n",
       "      <td>3.470912</td>\n",
       "      <td>4.453369</td>\n",
       "      <td>3.499877</td>\n",
       "      <td>3.659598</td>\n",
       "      <td>3.164482</td>\n",
       "      <td>3.729298</td>\n",
       "      <td>3.746295</td>\n",
       "    </tr>\n",
       "    <tr>\n",
       "      <th>5500254131236090112251_101136.B08</th>\n",
       "      <td>10.287132</td>\n",
       "      <td>7.426960</td>\n",
       "      <td>6.380001</td>\n",
       "      <td>7.577584</td>\n",
       "      <td>3.527655</td>\n",
       "      <td>9.082327</td>\n",
       "      <td>7.414247</td>\n",
       "      <td>6.139447</td>\n",
       "      <td>8.159124</td>\n",
       "      <td>3.998207</td>\n",
       "      <td>...</td>\n",
       "      <td>4.753581</td>\n",
       "      <td>3.691656</td>\n",
       "      <td>3.603318</td>\n",
       "      <td>3.872274</td>\n",
       "      <td>4.784521</td>\n",
       "      <td>3.577326</td>\n",
       "      <td>3.710226</td>\n",
       "      <td>3.282151</td>\n",
       "      <td>3.888459</td>\n",
       "      <td>3.964700</td>\n",
       "    </tr>\n",
       "    <tr>\n",
       "      <th>5500254131236090112251_101136.E05</th>\n",
       "      <td>9.842515</td>\n",
       "      <td>7.312331</td>\n",
       "      <td>7.272196</td>\n",
       "      <td>6.793723</td>\n",
       "      <td>3.455780</td>\n",
       "      <td>8.750017</td>\n",
       "      <td>6.963601</td>\n",
       "      <td>5.680492</td>\n",
       "      <td>6.388111</td>\n",
       "      <td>4.609823</td>\n",
       "      <td>...</td>\n",
       "      <td>4.408918</td>\n",
       "      <td>3.354399</td>\n",
       "      <td>3.609886</td>\n",
       "      <td>3.925905</td>\n",
       "      <td>4.356703</td>\n",
       "      <td>3.507491</td>\n",
       "      <td>3.593398</td>\n",
       "      <td>3.149996</td>\n",
       "      <td>3.718695</td>\n",
       "      <td>3.525178</td>\n",
       "    </tr>\n",
       "    <tr>\n",
       "      <th>5500254131236090112251_101136.G12</th>\n",
       "      <td>9.622503</td>\n",
       "      <td>7.743776</td>\n",
       "      <td>7.129598</td>\n",
       "      <td>6.437619</td>\n",
       "      <td>3.376454</td>\n",
       "      <td>9.169355</td>\n",
       "      <td>6.924986</td>\n",
       "      <td>5.812655</td>\n",
       "      <td>8.538156</td>\n",
       "      <td>4.205977</td>\n",
       "      <td>...</td>\n",
       "      <td>4.668693</td>\n",
       "      <td>3.384722</td>\n",
       "      <td>3.578263</td>\n",
       "      <td>3.414231</td>\n",
       "      <td>4.444389</td>\n",
       "      <td>3.452806</td>\n",
       "      <td>3.561378</td>\n",
       "      <td>3.298016</td>\n",
       "      <td>3.663710</td>\n",
       "      <td>3.640893</td>\n",
       "    </tr>\n",
       "    <tr>\n",
       "      <th>5500254131236090112252_101136.A08</th>\n",
       "      <td>9.720709</td>\n",
       "      <td>7.099984</td>\n",
       "      <td>6.909100</td>\n",
       "      <td>6.427605</td>\n",
       "      <td>3.419198</td>\n",
       "      <td>9.453103</td>\n",
       "      <td>7.551722</td>\n",
       "      <td>5.793996</td>\n",
       "      <td>8.234240</td>\n",
       "      <td>4.299076</td>\n",
       "      <td>...</td>\n",
       "      <td>4.703255</td>\n",
       "      <td>3.692352</td>\n",
       "      <td>3.520985</td>\n",
       "      <td>3.726691</td>\n",
       "      <td>4.575027</td>\n",
       "      <td>3.557793</td>\n",
       "      <td>3.549866</td>\n",
       "      <td>3.216523</td>\n",
       "      <td>3.678702</td>\n",
       "      <td>3.821898</td>\n",
       "    </tr>\n",
       "  </tbody>\n",
       "</table>\n",
       "<p>5 rows × 54715 columns</p>\n",
       "</div>"
      ],
      "text/plain": [
       "                                   _1007_PM_s_at  _1053_PM_at  _117_PM_at  \\\n",
       "ID                                                                          \n",
       "5500254131236090112251_101136.A02       9.674214     7.176943    7.530333   \n",
       "5500254131236090112251_101136.B08      10.287132     7.426960    6.380001   \n",
       "5500254131236090112251_101136.E05       9.842515     7.312331    7.272196   \n",
       "5500254131236090112251_101136.G12       9.622503     7.743776    7.129598   \n",
       "5500254131236090112252_101136.A08       9.720709     7.099984    6.909100   \n",
       "\n",
       "                                   _121_PM_at  _1255_PM_g_at  _1294_PM_at  \\\n",
       "ID                                                                          \n",
       "5500254131236090112251_101136.A02    7.032434       3.314738     9.043722   \n",
       "5500254131236090112251_101136.B08    7.577584       3.527655     9.082327   \n",
       "5500254131236090112251_101136.E05    6.793723       3.455780     8.750017   \n",
       "5500254131236090112251_101136.G12    6.437619       3.376454     9.169355   \n",
       "5500254131236090112252_101136.A08    6.427605       3.419198     9.453103   \n",
       "\n",
       "                                   _1316_PM_at  _1320_PM_at  _1405_PM_i_at  \\\n",
       "ID                                                                           \n",
       "5500254131236090112251_101136.A02     6.816082     5.757636       7.180860   \n",
       "5500254131236090112251_101136.B08     7.414247     6.139447       8.159124   \n",
       "5500254131236090112251_101136.E05     6.963601     5.680492       6.388111   \n",
       "5500254131236090112251_101136.G12     6.924986     5.812655       8.538156   \n",
       "5500254131236090112252_101136.A08     7.551722     5.793996       8.234240   \n",
       "\n",
       "                                   _1431_PM_at        ...         \\\n",
       "ID                                                    ...          \n",
       "5500254131236090112251_101136.A02     4.285610        ...          \n",
       "5500254131236090112251_101136.B08     3.998207        ...          \n",
       "5500254131236090112251_101136.E05     4.609823        ...          \n",
       "5500254131236090112251_101136.G12     4.205977        ...          \n",
       "5500254131236090112252_101136.A08     4.299076        ...          \n",
       "\n",
       "                                   _AFFX-r2-TagO-3_at  _AFFX-r2-TagO-5_at  \\\n",
       "ID                                                                          \n",
       "5500254131236090112251_101136.A02            4.498194            3.455266   \n",
       "5500254131236090112251_101136.B08            4.753581            3.691656   \n",
       "5500254131236090112251_101136.E05            4.408918            3.354399   \n",
       "5500254131236090112251_101136.G12            4.668693            3.384722   \n",
       "5500254131236090112252_101136.A08            4.703255            3.692352   \n",
       "\n",
       "                                   _AFFX-r2-TagQ-3_at  _AFFX-r2-TagQ-5_at  \\\n",
       "ID                                                                          \n",
       "5500254131236090112251_101136.A02            3.531909            3.470912   \n",
       "5500254131236090112251_101136.B08            3.603318            3.872274   \n",
       "5500254131236090112251_101136.E05            3.609886            3.925905   \n",
       "5500254131236090112251_101136.G12            3.578263            3.414231   \n",
       "5500254131236090112252_101136.A08            3.520985            3.726691   \n",
       "\n",
       "                                   _AFFX-ThrX-3_at  _AFFX-ThrX-5_at  \\\n",
       "ID                                                                    \n",
       "5500254131236090112251_101136.A02         4.453369         3.499877   \n",
       "5500254131236090112251_101136.B08         4.784521         3.577326   \n",
       "5500254131236090112251_101136.E05         4.356703         3.507491   \n",
       "5500254131236090112251_101136.G12         4.444389         3.452806   \n",
       "5500254131236090112252_101136.A08         4.575027         3.557793   \n",
       "\n",
       "                                   _AFFX-ThrX-M_at  _AFFX-TrpnX-3_at  \\\n",
       "ID                                                                     \n",
       "5500254131236090112251_101136.A02         3.659598          3.164482   \n",
       "5500254131236090112251_101136.B08         3.710226          3.282151   \n",
       "5500254131236090112251_101136.E05         3.593398          3.149996   \n",
       "5500254131236090112251_101136.G12         3.561378          3.298016   \n",
       "5500254131236090112252_101136.A08         3.549866          3.216523   \n",
       "\n",
       "                                   _AFFX-TrpnX-5_at  _AFFX-TrpnX-M_at  \n",
       "ID                                                                     \n",
       "5500254131236090112251_101136.A02          3.729298          3.746295  \n",
       "5500254131236090112251_101136.B08          3.888459          3.964700  \n",
       "5500254131236090112251_101136.E05          3.718695          3.525178  \n",
       "5500254131236090112251_101136.G12          3.663710          3.640893  \n",
       "5500254131236090112252_101136.A08          3.678702          3.821898  \n",
       "\n",
       "[5 rows x 54715 columns]"
      ]
     },
     "execution_count": 17,
     "metadata": {},
     "output_type": "execute_result"
    }
   ],
   "source": [
    "X.head()"
   ]
  },
  {
   "cell_type": "code",
   "execution_count": 18,
   "metadata": {
    "collapsed": false
   },
   "outputs": [
    {
     "name": "stdout",
     "output_type": "stream",
     "text": [
      "explained_variance_ratio_ of top 2: 0.380142404164\n",
      "                PC 1        PC 2\n",
      "Extensive -37.340497   10.757052\n",
      "Extensive  58.443815   27.655610\n",
      "Extensive -58.907401   41.396034\n",
      "Extensive -30.947769   46.694888\n",
      "Extensive -14.386648   -4.048464\n",
      "Extensive  -3.918087   37.716107\n",
      "Extensive -18.426812   33.961307\n",
      "Extensive -64.945276    2.423432\n",
      "Extensive  43.925704  -42.990774\n",
      "Extensive -76.997353   31.834247\n",
      "Extensive -50.362856   20.779564\n",
      "Extensive  -5.386842  -81.084503\n",
      "Extensive -79.056697   -5.291783\n",
      "Extensive -15.528685  -82.978275\n",
      "Extensive -79.153637  -58.622138\n",
      "Extensive  30.291843   15.531620\n",
      "Extensive  59.072894   -4.464865\n",
      "Extensive -82.556982  -10.657647\n",
      "Extensive -54.166270  -23.491806\n",
      "Extensive -28.750783   28.688891\n",
      "Extensive -19.533484  -13.210801\n",
      "Extensive  27.748921    2.867552\n",
      "Extensive -49.331354  -55.102989\n",
      "Extensive  35.438998   16.472660\n",
      "Extensive -91.549622   19.966290\n",
      "Extensive -54.837393   38.210869\n",
      "Extensive -24.828823   40.331158\n",
      "Limited    16.653422   -4.283375\n",
      "Limited   -14.691842  -74.504741\n",
      "Limited   -29.311062  -93.451959\n",
      "...              ...         ...\n",
      "Limited   -20.628312    4.384239\n",
      "Limited   -44.754560   38.110730\n",
      "Limited   -10.377215  -10.672083\n",
      "Limited   -68.844480   17.659495\n",
      "Limited   -10.440294   19.280856\n",
      "Limited   -16.540821   15.461272\n",
      "Limited    -7.314033   15.629342\n",
      "Limited   -23.116379  -92.616120\n",
      "Limited   -31.350147   29.639624\n",
      "Normal     71.004543  -13.603051\n",
      "Normal     81.918793   19.626953\n",
      "Normal     59.339807   11.772209\n",
      "Normal     71.040969   40.568734\n",
      "Normal     80.539569   -5.060294\n",
      "Normal     89.602906  -49.259060\n",
      "Normal     83.057252  -56.930933\n",
      "Normal     79.877173  -71.033417\n",
      "Normal     60.709504 -121.076281\n",
      "Normal     84.990069  -40.625712\n",
      "Normal     46.770863   49.001150\n",
      "Normal     88.736135  -29.229493\n",
      "Normal     81.874747   17.360472\n",
      "Normal     60.287865   10.138069\n",
      "Normal     56.182990   21.120139\n",
      "Normal     82.333262   54.624622\n",
      "Normal     77.421936   50.921982\n",
      "Normal     94.811241  -65.298127\n",
      "Normal     76.006754   40.208907\n",
      "Normal     80.464743   14.634614\n",
      "Normal     91.343922   51.064808\n",
      "\n",
      "[108 rows x 2 columns]\n"
     ]
    }
   ],
   "source": [
    "# pca = PCA(n_components=2, whiten=False)\n",
    "pca = PCA(n_components=2, whiten=False)\n",
    "\n",
    "\n",
    "pca_t = pca.fit_transform(X,y_disease_encoded_spc)\n",
    "top_n_comp = 2\n",
    "print('explained_variance_ratio_ of top {num}: {val}'.format(num=top_n_comp,val=pca.explained_variance_ratio_[:top_n_comp].sum()))\n",
    "\n",
    "pca_t_l = pandas_helpers.repandasify(array=pca_t, y_names=disease_encoder.inverse_transform(y_disease_encoded_spc), X_names=['PC {v_}'.format(v_=v+1) for v in range(len(pca_t[0]))])\n",
    "print(pca_t_l)"
   ]
  },
  {
   "cell_type": "code",
   "execution_count": 19,
   "metadata": {
    "collapsed": false
   },
   "outputs": [],
   "source": [
    "pca_t_l = pandas_helpers.repandasify(array=pca_t, y_names=disease_encoder.inverse_transform(y_disease_encoded_spc), X_names=['PC {v_}'.format(v_=v+1) for v in range(len(pca_t[0]))])\n",
    "\n",
    "pca_t_l = pca_t_l.reset_index(drop=True)\n",
    "pca_t_l['ExtentDisease'] = full_table['ExtentDisease']\n",
    "pca_t_l['Disease_or_Normal'] = full_table['Disease_or_Normal']\n",
    "# pca_t_l"
   ]
  },
  {
   "cell_type": "code",
   "execution_count": 20,
   "metadata": {
    "collapsed": false
   },
   "outputs": [
    {
     "data": {
      "text/html": [
       "<div>\n",
       "<table border=\"1\" class=\"dataframe\">\n",
       "  <thead>\n",
       "    <tr style=\"text-align: right;\">\n",
       "      <th></th>\n",
       "      <th>PC 1</th>\n",
       "      <th>PC 2</th>\n",
       "      <th>ExtentDisease</th>\n",
       "      <th>Disease_or_Normal</th>\n",
       "    </tr>\n",
       "  </thead>\n",
       "  <tbody>\n",
       "    <tr>\n",
       "      <th>0</th>\n",
       "      <td>-37.340497</td>\n",
       "      <td>10.757052</td>\n",
       "      <td>Extensive</td>\n",
       "      <td>diseased</td>\n",
       "    </tr>\n",
       "    <tr>\n",
       "      <th>1</th>\n",
       "      <td>58.443815</td>\n",
       "      <td>27.655610</td>\n",
       "      <td>Extensive</td>\n",
       "      <td>diseased</td>\n",
       "    </tr>\n",
       "    <tr>\n",
       "      <th>2</th>\n",
       "      <td>-58.907401</td>\n",
       "      <td>41.396034</td>\n",
       "      <td>Extensive</td>\n",
       "      <td>diseased</td>\n",
       "    </tr>\n",
       "    <tr>\n",
       "      <th>3</th>\n",
       "      <td>-30.947769</td>\n",
       "      <td>46.694888</td>\n",
       "      <td>Extensive</td>\n",
       "      <td>diseased</td>\n",
       "    </tr>\n",
       "    <tr>\n",
       "      <th>4</th>\n",
       "      <td>-14.386648</td>\n",
       "      <td>-4.048464</td>\n",
       "      <td>Extensive</td>\n",
       "      <td>diseased</td>\n",
       "    </tr>\n",
       "  </tbody>\n",
       "</table>\n",
       "</div>"
      ],
      "text/plain": [
       "        PC 1       PC 2 ExtentDisease Disease_or_Normal\n",
       "0 -37.340497  10.757052     Extensive          diseased\n",
       "1  58.443815  27.655610     Extensive          diseased\n",
       "2 -58.907401  41.396034     Extensive          diseased\n",
       "3 -30.947769  46.694888     Extensive          diseased\n",
       "4 -14.386648  -4.048464     Extensive          diseased"
      ]
     },
     "execution_count": 20,
     "metadata": {},
     "output_type": "execute_result"
    }
   ],
   "source": [
    "pca_t_l.head()"
   ]
  },
  {
   "cell_type": "code",
   "execution_count": 21,
   "metadata": {
    "collapsed": false
   },
   "outputs": [
    {
     "data": {
      "image/png": "[encoded data removed]",
      "text/plain": [
       "<matplotlib.figure.Figure at 0x7f210f858a50>"
      ]
     },
     "metadata": {},
     "output_type": "display_data"
    }
   ],
   "source": [
    "with sns.color_palette(sns.color_palette(\"hls\", 2)):\n",
    "    with sns.axes_style(\"white\"):\n",
    "        sns.lmplot(x='PC 1', y='PC 2', data=pca_t_l.append(pca_t_l.iloc[9,:]), #sns.lmplot(x='PC 1', y='PC 2', data=pca_t_l,\n",
    "                   hue='ExtentDisease', palette=None,\n",
    "                   fit_reg=False,\n",
    "                   scatter_kws={'alpha':0.7}\n",
    "                  );"
   ]
  },
  {
   "cell_type": "markdown",
   "metadata": {},
   "source": [
    "# Feature Selection"
   ]
  },
  {
   "cell_type": "markdown",
   "metadata": {},
   "source": [
    "## LogisticRegression method\n",
    "\n",
    "- ran this a couple times manually and got varying numbers of features retained\n",
    "- I decided to \n",
    "    - run it 100 times\n",
    "    - count how frequently each feature is retained\n",
    "    - keep the top X number of them"
   ]
  },
  {
   "cell_type": "code",
   "execution_count": 60,
   "metadata": {
    "collapsed": false
   },
   "outputs": [],
   "source": [
    "rlgrg = RandomizedLogisticRegression(C=1, scaling=0.5, \n",
    "                                      sample_fraction=0.70, n_resampling=200, \n",
    "                                      verbose=False, normalize=False, \n",
    "                                      random_state=None, n_jobs=1, )\n",
    "# rlgrg.fit(X_, y_)\n",
    " \n",
    "\n"
   ]
  },
  {
   "cell_type": "code",
   "execution_count": 61,
   "metadata": {
    "collapsed": false
   },
   "outputs": [],
   "source": [
    "t1 = time.time()\n",
    "\n",
    "itr = 20\n",
    "f_sel_db = feature_selection.consensus_top10pct_feature_selection(X=X, y=y_disease_encoded_spc,\n",
    "                                                      clf=rlgrg, names=None, iters=itr)\n",
    "\n",
    "t2 = time.time()"
   ]
  },
  {
   "cell_type": "code",
   "execution_count": 63,
   "metadata": {
    "collapsed": false
   },
   "outputs": [
    {
     "name": "stdout",
     "output_type": "stream",
     "text": [
      "5879.62812901\n"
     ]
    }
   ],
   "source": [
    "seconds = t2-t1\n",
    "print(seconds)"
   ]
  },
  {
   "cell_type": "code",
   "execution_count": 64,
   "metadata": {
    "collapsed": false
   },
   "outputs": [
    {
     "data": {
      "text/plain": [
       "97.99380215009053"
      ]
     },
     "execution_count": 64,
     "metadata": {},
     "output_type": "execute_result"
    }
   ],
   "source": [
    "seconds/60"
   ]
  },
  {
   "cell_type": "code",
   "execution_count": 65,
   "metadata": {
    "collapsed": false
   },
   "outputs": [
    {
     "data": {
      "text/plain": [
       "7814"
      ]
     },
     "execution_count": 65,
     "metadata": {},
     "output_type": "execute_result"
    }
   ],
   "source": [
    "len(f_sel_db)"
   ]
  },
  {
   "cell_type": "code",
   "execution_count": 66,
   "metadata": {
    "collapsed": false
   },
   "outputs": [
    {
     "data": {
      "image/png": "[encoded data removed]",
      "text/plain": [
       "<matplotlib.figure.Figure at 0x7f210b450410>"
      ]
     },
     "metadata": {},
     "output_type": "display_data"
    }
   ],
   "source": [
    "sns.distplot([len(l) for l in f_sel_db.values()], kde=False)\n",
    "plt.xlabel('number of times a feature was retained');"
   ]
  },
  {
   "cell_type": "markdown",
   "metadata": {},
   "source": [
    "### Look at the Features that were retained at least X times"
   ]
  },
  {
   "cell_type": "code",
   "execution_count": 67,
   "metadata": {
    "collapsed": false
   },
   "outputs": [
    {
     "data": {
      "text/html": [
       "<div>\n",
       "<table border=\"1\" class=\"dataframe\">\n",
       "  <thead>\n",
       "    <tr style=\"text-align: right;\">\n",
       "      <th></th>\n",
       "      <th>avg_score</th>\n",
       "      <th>feature_names</th>\n",
       "      <th>retention_rate</th>\n",
       "    </tr>\n",
       "  </thead>\n",
       "  <tbody>\n",
       "    <tr>\n",
       "      <th>0</th>\n",
       "      <td>0.005</td>\n",
       "      <td>_227610_PM_at</td>\n",
       "      <td>0</td>\n",
       "    </tr>\n",
       "    <tr>\n",
       "      <th>1</th>\n",
       "      <td>0.005</td>\n",
       "      <td>_1560034_PM_a_at</td>\n",
       "      <td>0</td>\n",
       "    </tr>\n",
       "    <tr>\n",
       "      <th>2</th>\n",
       "      <td>0.005</td>\n",
       "      <td>_1553995_PM_a_at</td>\n",
       "      <td>0</td>\n",
       "    </tr>\n",
       "    <tr>\n",
       "      <th>3</th>\n",
       "      <td>0.000</td>\n",
       "      <td>_37652_PM_at</td>\n",
       "      <td>1</td>\n",
       "    </tr>\n",
       "    <tr>\n",
       "      <th>4</th>\n",
       "      <td>0.005</td>\n",
       "      <td>_239002_PM_at</td>\n",
       "      <td>0</td>\n",
       "    </tr>\n",
       "  </tbody>\n",
       "</table>\n",
       "</div>"
      ],
      "text/plain": [
       "   avg_score     feature_names  retention_rate\n",
       "0      0.005     _227610_PM_at               0\n",
       "1      0.005  _1560034_PM_a_at               0\n",
       "2      0.005  _1553995_PM_a_at               0\n",
       "3      0.000      _37652_PM_at               1\n",
       "4      0.005     _239002_PM_at               0"
      ]
     },
     "execution_count": 67,
     "metadata": {},
     "output_type": "execute_result"
    }
   ],
   "source": [
    "my_features = feature_selection.process_retained_features(retained=f_sel_db, iters=itr)\n",
    "my_features.head()"
   ]
  },
  {
   "cell_type": "code",
   "execution_count": 68,
   "metadata": {
    "collapsed": false
   },
   "outputs": [
    {
     "data": {
      "text/html": [
       "<div>\n",
       "<table border=\"1\" class=\"dataframe\">\n",
       "  <thead>\n",
       "    <tr style=\"text-align: right;\">\n",
       "      <th></th>\n",
       "      <th>avg_score</th>\n",
       "      <th>feature_names</th>\n",
       "      <th>retention_rate</th>\n",
       "    </tr>\n",
       "  </thead>\n",
       "  <tbody>\n",
       "    <tr>\n",
       "      <th>7809</th>\n",
       "      <td>0.000000</td>\n",
       "      <td>_41047_PM_at</td>\n",
       "      <td>1</td>\n",
       "    </tr>\n",
       "    <tr>\n",
       "      <th>7810</th>\n",
       "      <td>0.005000</td>\n",
       "      <td>_234013_PM_at</td>\n",
       "      <td>0</td>\n",
       "    </tr>\n",
       "    <tr>\n",
       "      <th>7811</th>\n",
       "      <td>0.054286</td>\n",
       "      <td>_208170_PM_s_at</td>\n",
       "      <td>1</td>\n",
       "    </tr>\n",
       "    <tr>\n",
       "      <th>7812</th>\n",
       "      <td>0.000000</td>\n",
       "      <td>_243888_PM_at</td>\n",
       "      <td>1</td>\n",
       "    </tr>\n",
       "    <tr>\n",
       "      <th>7813</th>\n",
       "      <td>0.000000</td>\n",
       "      <td>_40273_PM_at</td>\n",
       "      <td>1</td>\n",
       "    </tr>\n",
       "  </tbody>\n",
       "</table>\n",
       "</div>"
      ],
      "text/plain": [
       "      avg_score    feature_names  retention_rate\n",
       "7809   0.000000     _41047_PM_at               1\n",
       "7810   0.005000    _234013_PM_at               0\n",
       "7811   0.054286  _208170_PM_s_at               1\n",
       "7812   0.000000    _243888_PM_at               1\n",
       "7813   0.000000     _40273_PM_at               1"
      ]
     },
     "execution_count": 68,
     "metadata": {},
     "output_type": "execute_result"
    }
   ],
   "source": [
    "my_features.tail()"
   ]
  },
  {
   "cell_type": "code",
   "execution_count": 142,
   "metadata": {
    "collapsed": false
   },
   "outputs": [
    {
     "data": {
      "text/plain": [
       "(7, 3)"
      ]
     },
     "execution_count": 142,
     "metadata": {},
     "output_type": "execute_result"
    }
   ],
   "source": [
    "my_features_ = my_features.sort_values(by='avg_score', axis=0, ascending=False).query(\"\"\"retention_rate > 0.99 \"\"\")\n",
    "my_features_ = my_features_.query(\"\"\"avg_score > 0.8 \"\"\")\n",
    "my_features_.shape"
   ]
  },
  {
   "cell_type": "code",
   "execution_count": 143,
   "metadata": {
    "collapsed": false
   },
   "outputs": [
    {
     "data": {
      "text/html": [
       "<div>\n",
       "<table border=\"1\" class=\"dataframe\">\n",
       "  <thead>\n",
       "    <tr style=\"text-align: right;\">\n",
       "      <th></th>\n",
       "      <th>avg_score</th>\n",
       "      <th>feature_names</th>\n",
       "      <th>retention_rate</th>\n",
       "    </tr>\n",
       "  </thead>\n",
       "  <tbody>\n",
       "    <tr>\n",
       "      <th>1391</th>\n",
       "      <td>0.977381</td>\n",
       "      <td>_207245_PM_at</td>\n",
       "      <td>1</td>\n",
       "    </tr>\n",
       "    <tr>\n",
       "      <th>3173</th>\n",
       "      <td>0.885714</td>\n",
       "      <td>_203815_PM_at</td>\n",
       "      <td>1</td>\n",
       "    </tr>\n",
       "    <tr>\n",
       "      <th>728</th>\n",
       "      <td>0.859286</td>\n",
       "      <td>_236351_PM_at</td>\n",
       "      <td>1</td>\n",
       "    </tr>\n",
       "    <tr>\n",
       "      <th>401</th>\n",
       "      <td>0.842381</td>\n",
       "      <td>_213831_PM_at</td>\n",
       "      <td>1</td>\n",
       "    </tr>\n",
       "    <tr>\n",
       "      <th>3059</th>\n",
       "      <td>0.833810</td>\n",
       "      <td>_205048_PM_s_at</td>\n",
       "      <td>1</td>\n",
       "    </tr>\n",
       "  </tbody>\n",
       "</table>\n",
       "</div>"
      ],
      "text/plain": [
       "      avg_score    feature_names  retention_rate\n",
       "1391   0.977381    _207245_PM_at               1\n",
       "3173   0.885714    _203815_PM_at               1\n",
       "728    0.859286    _236351_PM_at               1\n",
       "401    0.842381    _213831_PM_at               1\n",
       "3059   0.833810  _205048_PM_s_at               1"
      ]
     },
     "execution_count": 143,
     "metadata": {},
     "output_type": "execute_result"
    }
   ],
   "source": [
    "my_features_.head()"
   ]
  },
  {
   "cell_type": "code",
   "execution_count": 144,
   "metadata": {
    "collapsed": false
   },
   "outputs": [
    {
     "data": {
      "text/html": [
       "<div>\n",
       "<table border=\"1\" class=\"dataframe\">\n",
       "  <thead>\n",
       "    <tr style=\"text-align: right;\">\n",
       "      <th></th>\n",
       "      <th>avg_score</th>\n",
       "      <th>feature_names</th>\n",
       "      <th>retention_rate</th>\n",
       "    </tr>\n",
       "  </thead>\n",
       "  <tbody>\n",
       "    <tr>\n",
       "      <th>728</th>\n",
       "      <td>0.859286</td>\n",
       "      <td>_236351_PM_at</td>\n",
       "      <td>1</td>\n",
       "    </tr>\n",
       "    <tr>\n",
       "      <th>401</th>\n",
       "      <td>0.842381</td>\n",
       "      <td>_213831_PM_at</td>\n",
       "      <td>1</td>\n",
       "    </tr>\n",
       "    <tr>\n",
       "      <th>3059</th>\n",
       "      <td>0.833810</td>\n",
       "      <td>_205048_PM_s_at</td>\n",
       "      <td>1</td>\n",
       "    </tr>\n",
       "    <tr>\n",
       "      <th>3873</th>\n",
       "      <td>0.819048</td>\n",
       "      <td>_207529_PM_at</td>\n",
       "      <td>1</td>\n",
       "    </tr>\n",
       "    <tr>\n",
       "      <th>5279</th>\n",
       "      <td>0.812619</td>\n",
       "      <td>_203290_PM_at</td>\n",
       "      <td>1</td>\n",
       "    </tr>\n",
       "  </tbody>\n",
       "</table>\n",
       "</div>"
      ],
      "text/plain": [
       "      avg_score    feature_names  retention_rate\n",
       "728    0.859286    _236351_PM_at               1\n",
       "401    0.842381    _213831_PM_at               1\n",
       "3059   0.833810  _205048_PM_s_at               1\n",
       "3873   0.819048    _207529_PM_at               1\n",
       "5279   0.812619    _203290_PM_at               1"
      ]
     },
     "execution_count": 144,
     "metadata": {},
     "output_type": "execute_result"
    }
   ],
   "source": [
    "my_features_.tail()"
   ]
  },
  {
   "cell_type": "code",
   "execution_count": 145,
   "metadata": {
    "collapsed": false
   },
   "outputs": [
    {
     "data": {
      "text/plain": [
       "(108, 7)"
      ]
     },
     "execution_count": 145,
     "metadata": {},
     "output_type": "execute_result"
    }
   ],
   "source": [
    "X_best = X[my_features_.feature_names.values]\n",
    "X_best.shape"
   ]
  },
  {
   "cell_type": "code",
   "execution_count": 148,
   "metadata": {
    "collapsed": false
   },
   "outputs": [
    {
     "name": "stdout",
     "output_type": "stream",
     "text": [
      "explained_variance_ratio_ of top 2: 0.537873308107\n"
     ]
    }
   ],
   "source": [
    "top_n_sorted_features = 7\n",
    "\n",
    "pca = PCA(n_components=2, whiten=False)\n",
    "# pca = RandomizedPCA(n_components=2, whiten=False)\n",
    "\n",
    "pca_t = pca.fit_transform(X_best.iloc[:,:top_n_sorted_features],y_disease_encoded_spc)\n",
    "top_n_comp = 2\n",
    "print('explained_variance_ratio_ of top {num}: {val}'.format(num=top_n_comp,val=pca.explained_variance_ratio_[:top_n_comp].sum()))\n",
    "\n",
    "pca_t_l = pandas_helpers.repandasify(array=pca_t, y_names=disease_encoder.inverse_transform(y_disease_encoded_spc), X_names=['PC {v_}'.format(v_=v+1) for v in range(len(pca_t[0]))])\n",
    "# print(pca_t_l)"
   ]
  },
  {
   "cell_type": "code",
   "execution_count": 149,
   "metadata": {
    "collapsed": false
   },
   "outputs": [],
   "source": [
    "pca_t_l = pandas_helpers.repandasify(array=pca_t, y_names=disease_encoder.inverse_transform(y_disease_encoded_spc), X_names=['PC {v_}'.format(v_=v+1) for v in range(len(pca_t[0]))])\n",
    "\n",
    "pca_t_l = pca_t_l.reset_index(drop=True)\n",
    "pca_t_l['ExtentDisease'] = full_table['ExtentDisease']\n",
    "pca_t_l['Disease_or_Normal'] = full_table['Disease_or_Normal']\n",
    "# pca_t_l"
   ]
  },
  {
   "cell_type": "code",
   "execution_count": 150,
   "metadata": {
    "collapsed": true
   },
   "outputs": [],
   "source": [
    "plot_alpha = 0.7"
   ]
  },
  {
   "cell_type": "code",
   "execution_count": 151,
   "metadata": {
    "collapsed": false
   },
   "outputs": [
    {
     "data": {
      "image/png": "[encoded data removed]",
      "text/plain": [
       "<matplotlib.figure.Figure at 0x7f210b65b8d0>"
      ]
     },
     "metadata": {},
     "output_type": "display_data"
    }
   ],
   "source": [
    "with sns.color_palette(sns.color_palette(\"hls\", 3)):\n",
    "    with sns.axes_style(\"white\"):\n",
    "        sns.lmplot(x='PC 1', y='PC 2', data=pca_t_l.append(pca_t_l.iloc[9,:]), #sns.lmplot(x='PC 1', y='PC 2', data=pca_t_l,\n",
    "                   hue='ExtentDisease', palette=None,\n",
    "                   fit_reg=False,\n",
    "                   scatter_kws={'alpha':plot_alpha}\n",
    "                  );"
   ]
  },
  {
   "cell_type": "markdown",
   "metadata": {},
   "source": [
    "# Write top 10 features to file for Amy"
   ]
  },
  {
   "cell_type": "code",
   "execution_count": null,
   "metadata": {
    "collapsed": true
   },
   "outputs": [],
   "source": [
    "# out_path = \"/home/gus/MEGAsync/zim/main/BCH/Projects/Amy/2016-01-07_~_16s_data/top_10_features_3_genotypes.xls\""
   ]
  },
  {
   "cell_type": "code",
   "execution_count": null,
   "metadata": {
    "collapsed": false
   },
   "outputs": [],
   "source": [
    "top_10 = my_features_0_001.iloc[:10,:]\n",
    "# top_10.to_excel(out_path,index=False,)"
   ]
  },
  {
   "cell_type": "markdown",
   "metadata": {
    "collapsed": true
   },
   "source": [
    "# Test crossvalidation results and preditions on reduced data"
   ]
  },
  {
   "cell_type": "code",
   "execution_count": null,
   "metadata": {
    "collapsed": false
   },
   "outputs": [],
   "source": [
    "X_reduced = X[top_10.feature_names.values.astype(str)]"
   ]
  },
  {
   "cell_type": "code",
   "execution_count": null,
   "metadata": {
    "collapsed": false
   },
   "outputs": [],
   "source": [
    "X_reduced"
   ]
  },
  {
   "cell_type": "markdown",
   "metadata": {},
   "source": [
    "## split data into training and testing"
   ]
  },
  {
   "cell_type": "code",
   "execution_count": null,
   "metadata": {
    "collapsed": true
   },
   "outputs": [],
   "source": [
    "X_train, X_test, y_train, y_test = train_test_split(X_reduced, y_disease_encoded_spc,\n",
    "                                                    test_size=0.33, random_state=42,\n",
    "                                                   )"
   ]
  },
  {
   "cell_type": "code",
   "execution_count": null,
   "metadata": {
    "collapsed": false
   },
   "outputs": [],
   "source": [
    "y_disease_encoded_spc"
   ]
  },
  {
   "cell_type": "code",
   "execution_count": null,
   "metadata": {
    "collapsed": false
   },
   "outputs": [],
   "source": [
    "X_reduced"
   ]
  },
  {
   "cell_type": "markdown",
   "metadata": {},
   "source": [
    "## SVM classifier"
   ]
  },
  {
   "cell_type": "code",
   "execution_count": null,
   "metadata": {
    "collapsed": false
   },
   "outputs": [],
   "source": [
    "svc_param_grid = {'svc__C': 10. ** np.arange(-3, 3),\n",
    "                  'svc__gamma': 10. ** np.arange(-3, 3)\n",
    "                 }\n",
    "\n",
    "\n",
    "\n",
    "svc_pipe = make_pipeline(SVC(kernel='linear', random_state=42))\n",
    "\n",
    "# run the gridsearch to tune the hyper-parameters\n",
    "svc_grid = GridSearchCV(svc_pipe, param_grid=svc_param_grid, cv=3)\n",
    "\n",
    "svc_grid.fit(X_train, y_train)\n",
    "print(svc_grid.best_params_)\n",
    "\n",
    "\n",
    "# generate and plot confusion matrices\n",
    "svc_cm = confusion_matrix(y_test,svc_grid.predict(X_test))\n",
    "\n"
   ]
  },
  {
   "cell_type": "code",
   "execution_count": null,
   "metadata": {
    "collapsed": false
   },
   "outputs": [],
   "source": [
    "# Non-normalized\n",
    "model_assessment.plot_confusion_matrix(cm=svc_cm, labels=disease_encoder.classes_, cmap='Blues', title=None,\n",
    "                 norm=False, context=None, annot=True);\n"
   ]
  },
  {
   "cell_type": "code",
   "execution_count": null,
   "metadata": {
    "collapsed": false
   },
   "outputs": [],
   "source": [
    "# Normalized\n",
    "model_assessment.plot_confusion_matrix(cm=svc_cm, labels=disease_encoder.classes_, cmap='Blues', title=None,\n",
    "                 norm=True, context=None, annot=True);"
   ]
  },
  {
   "cell_type": "markdown",
   "metadata": {},
   "source": [
    "## RandomForest classifier"
   ]
  },
  {
   "cell_type": "code",
   "execution_count": null,
   "metadata": {
    "collapsed": false
   },
   "outputs": [],
   "source": [
    "rfst_param_grid = {'randomforestclassifier__n_estimators': np.arange(1,15,),\n",
    "                   'randomforestclassifier__min_samples_leaf': np.arange(1,10,2)\n",
    "                  }\n",
    "\n",
    "\n",
    "\n",
    "rfst_pipe = make_pipeline(RandomForestClassifier(random_state=42,n_jobs=8))\n",
    "\n",
    "# run the gridsearch to tune the hyper-parameters\n",
    "rfst_grid = GridSearchCV(rfst_pipe, param_grid=rfst_param_grid, cv=3)\n",
    "\n",
    "\n",
    "rfst_grid.fit(X_train, y_train)\n",
    "print(rfst_grid.best_params_)\n",
    "\n",
    "\n",
    "# generate and plot confusion matrices\n",
    "rfst_cm = confusion_matrix(y_test,rfst_grid.predict(X_test))"
   ]
  },
  {
   "cell_type": "code",
   "execution_count": null,
   "metadata": {
    "collapsed": false
   },
   "outputs": [],
   "source": [
    "# Non-normalized\n",
    "model_assessment.plot_confusion_matrix(cm=svc_cm, labels=disease_encoder.classes_, cmap='Blues', title=None,\n",
    "                 norm=False, context=None, annot=True);"
   ]
  },
  {
   "cell_type": "code",
   "execution_count": null,
   "metadata": {
    "collapsed": false
   },
   "outputs": [],
   "source": [
    "# Normalized\n",
    "model_assessment.plot_confusion_matrix(cm=svc_cm, labels=disease_encoder.classes_, cmap='Blues', title=None,\n",
    "                 norm=True, context=None, annot=True);"
   ]
  },
  {
   "cell_type": "markdown",
   "metadata": {},
   "source": [
    "## LogisticRegression classifier"
   ]
  },
  {
   "cell_type": "code",
   "execution_count": null,
   "metadata": {
    "collapsed": true
   },
   "outputs": [],
   "source": []
  }
 ],
 "metadata": {
  "kernelspec": {
   "display_name": "Python 2",
   "language": "python",
   "name": "python2"
  },
  "language_info": {
   "codemirror_mode": {
    "name": "ipython",
    "version": 2
   },
   "file_extension": ".py",
   "mimetype": "text/x-python",
   "name": "python",
   "nbconvert_exporter": "python",
   "pygments_lexer": "ipython2",
   "version": "2.7.11"
  }
 },
 "nbformat": 4,
 "nbformat_minor": 0
}
