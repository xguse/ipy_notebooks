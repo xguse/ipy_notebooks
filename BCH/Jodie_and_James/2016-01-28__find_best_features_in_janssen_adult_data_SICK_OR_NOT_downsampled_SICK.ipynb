{
 "cells": [
  {
   "cell_type": "code",
   "execution_count": 1,
   "metadata": {
    "collapsed": false
   },
   "outputs": [],
   "source": [
    "%matplotlib inline\n",
    "# %matplotlib"
   ]
  },
  {
   "cell_type": "code",
   "execution_count": 2,
   "metadata": {
    "collapsed": true
   },
   "outputs": [],
   "source": [
    "import time"
   ]
  },
  {
   "cell_type": "code",
   "execution_count": 3,
   "metadata": {
    "collapsed": true
   },
   "outputs": [],
   "source": [
    "from __future__ import division,print_function"
   ]
  },
  {
   "cell_type": "code",
   "execution_count": 4,
   "metadata": {
    "collapsed": false
   },
   "outputs": [],
   "source": [
    "from spartan.utils.sklearn import model_assessment, feature_selection\n",
    "from spartan.utils.sklearn import pandas_helpers"
   ]
  },
  {
   "cell_type": "code",
   "execution_count": 5,
   "metadata": {
    "collapsed": false
   },
   "outputs": [],
   "source": [
    "from collections import Counter, defaultdict\n",
    "import math\n",
    "\n",
    "import numpy as np\n",
    "import pandas as pd\n",
    "import sklearn as skl\n",
    "import sklearn.preprocessing as ppro\n",
    "\n",
    "from sklearn.pipeline import Pipeline\n",
    "from sklearn.pipeline import make_pipeline\n",
    "\n",
    "from sklearn.decomposition import PCA, RandomizedPCA, KernelPCA, FactorAnalysis\n",
    "from sklearn.discriminant_analysis import LinearDiscriminantAnalysis\n",
    "\n",
    "from sklearn.grid_search import GridSearchCV\n",
    "\n",
    "from sklearn.cross_validation import train_test_split\n",
    "\n",
    "from sklearn.svm import SVC, LinearSVC\n",
    "from sklearn.ensemble import RandomForestClassifier,ExtraTreesClassifier\n",
    "from sklearn.dummy import DummyClassifier\n",
    "\n",
    "from sklearn.linear_model import LogisticRegression\n",
    "from sklearn.linear_model import RandomizedLogisticRegression\n",
    "from sklearn.linear_model import Lasso\n",
    "\n",
    "from sklearn.feature_selection import SelectKBest\n",
    "from sklearn.feature_selection import chi2, univariate_selection\n",
    "from sklearn.feature_selection import SelectFromModel\n",
    "\n",
    "from sklearn.metrics import confusion_matrix\n",
    "\n"
   ]
  },
  {
   "cell_type": "code",
   "execution_count": 6,
   "metadata": {
    "collapsed": true
   },
   "outputs": [],
   "source": [
    "from matplotlib import pyplot as plt\n",
    "import seaborn as sns"
   ]
  },
  {
   "cell_type": "code",
   "execution_count": 7,
   "metadata": {
    "collapsed": false
   },
   "outputs": [],
   "source": [
    "sns.set_context('poster')"
   ]
  },
  {
   "cell_type": "code",
   "execution_count": 8,
   "metadata": {
    "collapsed": false
   },
   "outputs": [
    {
     "name": "stderr",
     "output_type": "stream",
     "text": [
      "/home/gus/anaconda2/envs/stack2/lib/python2.7/site-packages/IPython/core/interactiveshell.py:2902: DtypeWarning: Columns (4) have mixed types. Specify dtype option on import or set low_memory=False.\n",
      "  interactivity=interactivity, compiler=compiler, result=result)\n"
     ]
    },
    {
     "data": {
      "text/html": [
       "<div>\n",
       "<table border=\"1\" class=\"dataframe\">\n",
       "  <thead>\n",
       "    <tr style=\"text-align: right;\">\n",
       "      <th></th>\n",
       "      <th>ID</th>\n",
       "      <th>SiteSubject ID</th>\n",
       "      <th>Visit</th>\n",
       "      <th>Disease_or_Normal</th>\n",
       "      <th>Age in Years</th>\n",
       "      <th>Sex</th>\n",
       "      <th>ExtentDisease</th>\n",
       "      <th>_1007_PM_s_at</th>\n",
       "      <th>_1053_PM_at</th>\n",
       "      <th>_117_PM_at</th>\n",
       "      <th>...</th>\n",
       "      <th>_AFFX-r2-TagO-3_at</th>\n",
       "      <th>_AFFX-r2-TagO-5_at</th>\n",
       "      <th>_AFFX-r2-TagQ-3_at</th>\n",
       "      <th>_AFFX-r2-TagQ-5_at</th>\n",
       "      <th>_AFFX-ThrX-3_at</th>\n",
       "      <th>_AFFX-ThrX-5_at</th>\n",
       "      <th>_AFFX-ThrX-M_at</th>\n",
       "      <th>_AFFX-TrpnX-3_at</th>\n",
       "      <th>_AFFX-TrpnX-5_at</th>\n",
       "      <th>_AFFX-TrpnX-M_at</th>\n",
       "    </tr>\n",
       "  </thead>\n",
       "  <tbody>\n",
       "    <tr>\n",
       "      <th>0</th>\n",
       "      <td>5500254131236090112251_101136.A02</td>\n",
       "      <td>7532-00001</td>\n",
       "      <td>Week 0</td>\n",
       "      <td>diseased</td>\n",
       "      <td>44</td>\n",
       "      <td>F</td>\n",
       "      <td>Extensive</td>\n",
       "      <td>9.674214</td>\n",
       "      <td>7.176943</td>\n",
       "      <td>7.530333</td>\n",
       "      <td>...</td>\n",
       "      <td>4.498194</td>\n",
       "      <td>3.455266</td>\n",
       "      <td>3.531909</td>\n",
       "      <td>3.470912</td>\n",
       "      <td>4.453369</td>\n",
       "      <td>3.499877</td>\n",
       "      <td>3.659598</td>\n",
       "      <td>3.164482</td>\n",
       "      <td>3.729298</td>\n",
       "      <td>3.746295</td>\n",
       "    </tr>\n",
       "    <tr>\n",
       "      <th>1</th>\n",
       "      <td>5500254131236090112251_101136.B08</td>\n",
       "      <td>6502-00028</td>\n",
       "      <td>Week 0</td>\n",
       "      <td>diseased</td>\n",
       "      <td>27</td>\n",
       "      <td>M</td>\n",
       "      <td>Extensive</td>\n",
       "      <td>10.287132</td>\n",
       "      <td>7.426960</td>\n",
       "      <td>6.380001</td>\n",
       "      <td>...</td>\n",
       "      <td>4.753581</td>\n",
       "      <td>3.691656</td>\n",
       "      <td>3.603318</td>\n",
       "      <td>3.872274</td>\n",
       "      <td>4.784521</td>\n",
       "      <td>3.577326</td>\n",
       "      <td>3.710226</td>\n",
       "      <td>3.282151</td>\n",
       "      <td>3.888459</td>\n",
       "      <td>3.964700</td>\n",
       "    </tr>\n",
       "    <tr>\n",
       "      <th>2</th>\n",
       "      <td>5500254131236090112251_101136.E05</td>\n",
       "      <td>7756-00011</td>\n",
       "      <td>Week 0</td>\n",
       "      <td>diseased</td>\n",
       "      <td>46</td>\n",
       "      <td>M</td>\n",
       "      <td>Extensive</td>\n",
       "      <td>9.842515</td>\n",
       "      <td>7.312331</td>\n",
       "      <td>7.272196</td>\n",
       "      <td>...</td>\n",
       "      <td>4.408918</td>\n",
       "      <td>3.354399</td>\n",
       "      <td>3.609886</td>\n",
       "      <td>3.925905</td>\n",
       "      <td>4.356703</td>\n",
       "      <td>3.507491</td>\n",
       "      <td>3.593398</td>\n",
       "      <td>3.149996</td>\n",
       "      <td>3.718695</td>\n",
       "      <td>3.525178</td>\n",
       "    </tr>\n",
       "    <tr>\n",
       "      <th>3</th>\n",
       "      <td>5500254131236090112251_101136.G12</td>\n",
       "      <td>7530-00008</td>\n",
       "      <td>Week 0</td>\n",
       "      <td>diseased</td>\n",
       "      <td>56</td>\n",
       "      <td>M</td>\n",
       "      <td>Extensive</td>\n",
       "      <td>9.622503</td>\n",
       "      <td>7.743776</td>\n",
       "      <td>7.129598</td>\n",
       "      <td>...</td>\n",
       "      <td>4.668693</td>\n",
       "      <td>3.384722</td>\n",
       "      <td>3.578263</td>\n",
       "      <td>3.414231</td>\n",
       "      <td>4.444389</td>\n",
       "      <td>3.452806</td>\n",
       "      <td>3.561378</td>\n",
       "      <td>3.298016</td>\n",
       "      <td>3.663710</td>\n",
       "      <td>3.640893</td>\n",
       "    </tr>\n",
       "    <tr>\n",
       "      <th>4</th>\n",
       "      <td>5500254131236090112252_101136.A08</td>\n",
       "      <td>7530-00011</td>\n",
       "      <td>Week 0</td>\n",
       "      <td>diseased</td>\n",
       "      <td>63</td>\n",
       "      <td>F</td>\n",
       "      <td>Extensive</td>\n",
       "      <td>9.720709</td>\n",
       "      <td>7.099984</td>\n",
       "      <td>6.909100</td>\n",
       "      <td>...</td>\n",
       "      <td>4.703255</td>\n",
       "      <td>3.692352</td>\n",
       "      <td>3.520985</td>\n",
       "      <td>3.726691</td>\n",
       "      <td>4.575027</td>\n",
       "      <td>3.557793</td>\n",
       "      <td>3.549866</td>\n",
       "      <td>3.216523</td>\n",
       "      <td>3.678702</td>\n",
       "      <td>3.821898</td>\n",
       "    </tr>\n",
       "  </tbody>\n",
       "</table>\n",
       "<p>5 rows × 54722 columns</p>\n",
       "</div>"
      ],
      "text/plain": [
       "                                  ID SiteSubject ID   Visit Disease_or_Normal  \\\n",
       "0  5500254131236090112251_101136.A02     7532-00001  Week 0          diseased   \n",
       "1  5500254131236090112251_101136.B08     6502-00028  Week 0          diseased   \n",
       "2  5500254131236090112251_101136.E05     7756-00011  Week 0          diseased   \n",
       "3  5500254131236090112251_101136.G12     7530-00008  Week 0          diseased   \n",
       "4  5500254131236090112252_101136.A08     7530-00011  Week 0          diseased   \n",
       "\n",
       "  Age in Years Sex ExtentDisease  _1007_PM_s_at  _1053_PM_at  _117_PM_at  \\\n",
       "0           44   F     Extensive       9.674214     7.176943    7.530333   \n",
       "1           27   M     Extensive      10.287132     7.426960    6.380001   \n",
       "2           46   M     Extensive       9.842515     7.312331    7.272196   \n",
       "3           56   M     Extensive       9.622503     7.743776    7.129598   \n",
       "4           63   F     Extensive       9.720709     7.099984    6.909100   \n",
       "\n",
       "         ...         _AFFX-r2-TagO-3_at  _AFFX-r2-TagO-5_at  \\\n",
       "0        ...                   4.498194            3.455266   \n",
       "1        ...                   4.753581            3.691656   \n",
       "2        ...                   4.408918            3.354399   \n",
       "3        ...                   4.668693            3.384722   \n",
       "4        ...                   4.703255            3.692352   \n",
       "\n",
       "   _AFFX-r2-TagQ-3_at  _AFFX-r2-TagQ-5_at  _AFFX-ThrX-3_at  _AFFX-ThrX-5_at  \\\n",
       "0            3.531909            3.470912         4.453369         3.499877   \n",
       "1            3.603318            3.872274         4.784521         3.577326   \n",
       "2            3.609886            3.925905         4.356703         3.507491   \n",
       "3            3.578263            3.414231         4.444389         3.452806   \n",
       "4            3.520985            3.726691         4.575027         3.557793   \n",
       "\n",
       "   _AFFX-ThrX-M_at  _AFFX-TrpnX-3_at  _AFFX-TrpnX-5_at  _AFFX-TrpnX-M_at  \n",
       "0         3.659598          3.164482          3.729298          3.746295  \n",
       "1         3.710226          3.282151          3.888459          3.964700  \n",
       "2         3.593398          3.149996          3.718695          3.525178  \n",
       "3         3.561378          3.298016          3.663710          3.640893  \n",
       "4         3.549866          3.216523          3.678702          3.821898  \n",
       "\n",
       "[5 rows x 54722 columns]"
      ]
     },
     "execution_count": 8,
     "metadata": {},
     "output_type": "execute_result"
    }
   ],
   "source": [
    "gus_processed_path = '/home/gus/MEGAsync/zim/main/BCH/Projects/Jodie_and_James/labeled_data_gus.csv'\n",
    "gus_processed_data = pd.read_csv(gus_processed_path)\n",
    "gus_processed_data.head()"
   ]
  },
  {
   "cell_type": "code",
   "execution_count": 21,
   "metadata": {
    "collapsed": false,
    "scrolled": true
   },
   "outputs": [
    {
     "data": {
      "text/html": [
       "<div>\n",
       "<table border=\"1\" class=\"dataframe\">\n",
       "  <thead>\n",
       "    <tr style=\"text-align: right;\">\n",
       "      <th></th>\n",
       "      <th>ID</th>\n",
       "      <th>SiteSubject ID</th>\n",
       "      <th>Visit</th>\n",
       "      <th>Disease_or_Normal</th>\n",
       "      <th>Age in Years</th>\n",
       "      <th>Sex</th>\n",
       "      <th>ExtentDisease</th>\n",
       "      <th>_1007_PM_s_at</th>\n",
       "      <th>_1053_PM_at</th>\n",
       "      <th>_117_PM_at</th>\n",
       "      <th>...</th>\n",
       "      <th>_AFFX-r2-TagO-3_at</th>\n",
       "      <th>_AFFX-r2-TagO-5_at</th>\n",
       "      <th>_AFFX-r2-TagQ-3_at</th>\n",
       "      <th>_AFFX-r2-TagQ-5_at</th>\n",
       "      <th>_AFFX-ThrX-3_at</th>\n",
       "      <th>_AFFX-ThrX-5_at</th>\n",
       "      <th>_AFFX-ThrX-M_at</th>\n",
       "      <th>_AFFX-TrpnX-3_at</th>\n",
       "      <th>_AFFX-TrpnX-5_at</th>\n",
       "      <th>_AFFX-TrpnX-M_at</th>\n",
       "    </tr>\n",
       "  </thead>\n",
       "  <tbody>\n",
       "    <tr>\n",
       "      <th>103</th>\n",
       "      <td>5500254131236090112259_101136.B10</td>\n",
       "      <td>.</td>\n",
       "      <td>Normal</td>\n",
       "      <td>Normal</td>\n",
       "      <td>.</td>\n",
       "      <td>.</td>\n",
       "      <td>Normal</td>\n",
       "      <td>10.252898</td>\n",
       "      <td>7.882619</td>\n",
       "      <td>6.724022</td>\n",
       "      <td>...</td>\n",
       "      <td>4.823232</td>\n",
       "      <td>3.625039</td>\n",
       "      <td>3.550293</td>\n",
       "      <td>3.439727</td>\n",
       "      <td>4.612666</td>\n",
       "      <td>3.552836</td>\n",
       "      <td>3.673508</td>\n",
       "      <td>3.230785</td>\n",
       "      <td>3.768986</td>\n",
       "      <td>3.766062</td>\n",
       "    </tr>\n",
       "    <tr>\n",
       "      <th>104</th>\n",
       "      <td>5500254131236090112259_101136.C11</td>\n",
       "      <td>.</td>\n",
       "      <td>Normal</td>\n",
       "      <td>Normal</td>\n",
       "      <td>.</td>\n",
       "      <td>.</td>\n",
       "      <td>Normal</td>\n",
       "      <td>10.311617</td>\n",
       "      <td>7.045658</td>\n",
       "      <td>6.843561</td>\n",
       "      <td>...</td>\n",
       "      <td>4.550793</td>\n",
       "      <td>3.873718</td>\n",
       "      <td>3.695416</td>\n",
       "      <td>3.631053</td>\n",
       "      <td>4.652092</td>\n",
       "      <td>3.616987</td>\n",
       "      <td>3.848297</td>\n",
       "      <td>3.224663</td>\n",
       "      <td>4.107616</td>\n",
       "      <td>4.225421</td>\n",
       "    </tr>\n",
       "    <tr>\n",
       "      <th>105</th>\n",
       "      <td>5500254131236090112259_101136.D06</td>\n",
       "      <td>.</td>\n",
       "      <td>Normal</td>\n",
       "      <td>Normal</td>\n",
       "      <td>.</td>\n",
       "      <td>.</td>\n",
       "      <td>Normal</td>\n",
       "      <td>10.068288</td>\n",
       "      <td>7.970621</td>\n",
       "      <td>6.714864</td>\n",
       "      <td>...</td>\n",
       "      <td>4.866475</td>\n",
       "      <td>4.042822</td>\n",
       "      <td>3.770522</td>\n",
       "      <td>3.619762</td>\n",
       "      <td>4.946282</td>\n",
       "      <td>3.493188</td>\n",
       "      <td>3.916108</td>\n",
       "      <td>3.551680</td>\n",
       "      <td>4.205676</td>\n",
       "      <td>4.079009</td>\n",
       "    </tr>\n",
       "    <tr>\n",
       "      <th>106</th>\n",
       "      <td>5500254131236090112259_101136.E10</td>\n",
       "      <td>.</td>\n",
       "      <td>Normal</td>\n",
       "      <td>Normal</td>\n",
       "      <td>.</td>\n",
       "      <td>.</td>\n",
       "      <td>Normal</td>\n",
       "      <td>10.591233</td>\n",
       "      <td>7.858821</td>\n",
       "      <td>6.374861</td>\n",
       "      <td>...</td>\n",
       "      <td>4.862376</td>\n",
       "      <td>3.705397</td>\n",
       "      <td>3.483649</td>\n",
       "      <td>3.264232</td>\n",
       "      <td>4.680069</td>\n",
       "      <td>3.658482</td>\n",
       "      <td>3.621009</td>\n",
       "      <td>3.295860</td>\n",
       "      <td>3.569263</td>\n",
       "      <td>3.755452</td>\n",
       "    </tr>\n",
       "    <tr>\n",
       "      <th>107</th>\n",
       "      <td>5500254131236090112259_101136.H05</td>\n",
       "      <td>.</td>\n",
       "      <td>Normal</td>\n",
       "      <td>Normal</td>\n",
       "      <td>.</td>\n",
       "      <td>.</td>\n",
       "      <td>Normal</td>\n",
       "      <td>9.676252</td>\n",
       "      <td>8.188352</td>\n",
       "      <td>6.738682</td>\n",
       "      <td>...</td>\n",
       "      <td>4.880349</td>\n",
       "      <td>3.906007</td>\n",
       "      <td>3.632593</td>\n",
       "      <td>3.489538</td>\n",
       "      <td>4.959148</td>\n",
       "      <td>3.700468</td>\n",
       "      <td>4.000122</td>\n",
       "      <td>3.354756</td>\n",
       "      <td>4.152416</td>\n",
       "      <td>4.312197</td>\n",
       "    </tr>\n",
       "  </tbody>\n",
       "</table>\n",
       "<p>5 rows × 54722 columns</p>\n",
       "</div>"
      ],
      "text/plain": [
       "                                    ID SiteSubject ID   Visit  \\\n",
       "103  5500254131236090112259_101136.B10              .  Normal   \n",
       "104  5500254131236090112259_101136.C11              .  Normal   \n",
       "105  5500254131236090112259_101136.D06              .  Normal   \n",
       "106  5500254131236090112259_101136.E10              .  Normal   \n",
       "107  5500254131236090112259_101136.H05              .  Normal   \n",
       "\n",
       "    Disease_or_Normal Age in Years Sex ExtentDisease  _1007_PM_s_at  \\\n",
       "103            Normal            .   .        Normal      10.252898   \n",
       "104            Normal            .   .        Normal      10.311617   \n",
       "105            Normal            .   .        Normal      10.068288   \n",
       "106            Normal            .   .        Normal      10.591233   \n",
       "107            Normal            .   .        Normal       9.676252   \n",
       "\n",
       "     _1053_PM_at  _117_PM_at        ...         _AFFX-r2-TagO-3_at  \\\n",
       "103     7.882619    6.724022        ...                   4.823232   \n",
       "104     7.045658    6.843561        ...                   4.550793   \n",
       "105     7.970621    6.714864        ...                   4.866475   \n",
       "106     7.858821    6.374861        ...                   4.862376   \n",
       "107     8.188352    6.738682        ...                   4.880349   \n",
       "\n",
       "     _AFFX-r2-TagO-5_at  _AFFX-r2-TagQ-3_at  _AFFX-r2-TagQ-5_at  \\\n",
       "103            3.625039            3.550293            3.439727   \n",
       "104            3.873718            3.695416            3.631053   \n",
       "105            4.042822            3.770522            3.619762   \n",
       "106            3.705397            3.483649            3.264232   \n",
       "107            3.906007            3.632593            3.489538   \n",
       "\n",
       "     _AFFX-ThrX-3_at  _AFFX-ThrX-5_at  _AFFX-ThrX-M_at  _AFFX-TrpnX-3_at  \\\n",
       "103         4.612666         3.552836         3.673508          3.230785   \n",
       "104         4.652092         3.616987         3.848297          3.224663   \n",
       "105         4.946282         3.493188         3.916108          3.551680   \n",
       "106         4.680069         3.658482         3.621009          3.295860   \n",
       "107         4.959148         3.700468         4.000122          3.354756   \n",
       "\n",
       "     _AFFX-TrpnX-5_at  _AFFX-TrpnX-M_at  \n",
       "103          3.768986          3.766062  \n",
       "104          4.107616          4.225421  \n",
       "105          4.205676          4.079009  \n",
       "106          3.569263          3.755452  \n",
       "107          4.152416          4.312197  \n",
       "\n",
       "[5 rows x 54722 columns]"
      ]
     },
     "execution_count": 21,
     "metadata": {},
     "output_type": "execute_result"
    }
   ],
   "source": [
    "gus_processed_data.tail()"
   ]
  },
  {
   "cell_type": "markdown",
   "metadata": {},
   "source": [
    "## Downsample sicks"
   ]
  },
  {
   "cell_type": "code",
   "execution_count": 16,
   "metadata": {
    "collapsed": false
   },
   "outputs": [],
   "source": [
    "grp_sick = gus_processed_data.groupby(by=\"Disease_or_Normal\")"
   ]
  },
  {
   "cell_type": "code",
   "execution_count": 22,
   "metadata": {
    "collapsed": false
   },
   "outputs": [],
   "source": [
    "sick = grp_sick.get_group('diseased')\n",
    "norm = grp_sick.get_group('Normal')"
   ]
  },
  {
   "cell_type": "code",
   "execution_count": 23,
   "metadata": {
    "collapsed": true
   },
   "outputs": [],
   "source": [
    "sick_sampled = sick.sample(n=len(norm))"
   ]
  },
  {
   "cell_type": "code",
   "execution_count": 27,
   "metadata": {
    "collapsed": false
   },
   "outputs": [
    {
     "data": {
      "text/plain": [
       "(21, 54722)"
      ]
     },
     "execution_count": 27,
     "metadata": {},
     "output_type": "execute_result"
    }
   ],
   "source": [
    "sick_sampled.shape"
   ]
  },
  {
   "cell_type": "code",
   "execution_count": 63,
   "metadata": {
    "collapsed": false
   },
   "outputs": [
    {
     "data": {
      "text/plain": [
       "(42, 54722)"
      ]
     },
     "execution_count": 63,
     "metadata": {},
     "output_type": "execute_result"
    }
   ],
   "source": [
    "full_table = pd.concat([sick_sampled,norm]).reset_index(drop=True)\n",
    "full_table.shape"
   ]
  },
  {
   "cell_type": "code",
   "execution_count": 65,
   "metadata": {
    "collapsed": false
   },
   "outputs": [
    {
     "data": {
      "text/html": [
       "<div>\n",
       "<table border=\"1\" class=\"dataframe\">\n",
       "  <thead>\n",
       "    <tr style=\"text-align: right;\">\n",
       "      <th></th>\n",
       "      <th>ID</th>\n",
       "      <th>SiteSubject ID</th>\n",
       "      <th>Visit</th>\n",
       "      <th>Disease_or_Normal</th>\n",
       "      <th>Age in Years</th>\n",
       "      <th>Sex</th>\n",
       "      <th>ExtentDisease</th>\n",
       "      <th>_1007_PM_s_at</th>\n",
       "      <th>_1053_PM_at</th>\n",
       "      <th>_117_PM_at</th>\n",
       "      <th>...</th>\n",
       "      <th>_AFFX-r2-TagO-3_at</th>\n",
       "      <th>_AFFX-r2-TagO-5_at</th>\n",
       "      <th>_AFFX-r2-TagQ-3_at</th>\n",
       "      <th>_AFFX-r2-TagQ-5_at</th>\n",
       "      <th>_AFFX-ThrX-3_at</th>\n",
       "      <th>_AFFX-ThrX-5_at</th>\n",
       "      <th>_AFFX-ThrX-M_at</th>\n",
       "      <th>_AFFX-TrpnX-3_at</th>\n",
       "      <th>_AFFX-TrpnX-5_at</th>\n",
       "      <th>_AFFX-TrpnX-M_at</th>\n",
       "    </tr>\n",
       "  </thead>\n",
       "  <tbody>\n",
       "    <tr>\n",
       "      <th>0</th>\n",
       "      <td>5500254131236090112252_101136.C02</td>\n",
       "      <td>6716-00010</td>\n",
       "      <td>Week 0</td>\n",
       "      <td>diseased</td>\n",
       "      <td>69</td>\n",
       "      <td>M</td>\n",
       "      <td>Limited</td>\n",
       "      <td>9.494358</td>\n",
       "      <td>6.941798</td>\n",
       "      <td>8.016999</td>\n",
       "      <td>...</td>\n",
       "      <td>5.080478</td>\n",
       "      <td>3.828776</td>\n",
       "      <td>3.717677</td>\n",
       "      <td>3.834526</td>\n",
       "      <td>4.803935</td>\n",
       "      <td>3.784397</td>\n",
       "      <td>3.808867</td>\n",
       "      <td>3.477693</td>\n",
       "      <td>4.021209</td>\n",
       "      <td>4.071295</td>\n",
       "    </tr>\n",
       "    <tr>\n",
       "      <th>1</th>\n",
       "      <td>5500254131236090112258_101136.E10</td>\n",
       "      <td>7502-00003</td>\n",
       "      <td>Week 0</td>\n",
       "      <td>diseased</td>\n",
       "      <td>33</td>\n",
       "      <td>F</td>\n",
       "      <td>Limited</td>\n",
       "      <td>9.672715</td>\n",
       "      <td>6.516883</td>\n",
       "      <td>7.304307</td>\n",
       "      <td>...</td>\n",
       "      <td>4.478269</td>\n",
       "      <td>3.508120</td>\n",
       "      <td>3.413598</td>\n",
       "      <td>3.433618</td>\n",
       "      <td>4.706139</td>\n",
       "      <td>3.499645</td>\n",
       "      <td>3.770255</td>\n",
       "      <td>3.217914</td>\n",
       "      <td>3.721868</td>\n",
       "      <td>3.743521</td>\n",
       "    </tr>\n",
       "    <tr>\n",
       "      <th>2</th>\n",
       "      <td>5500254131236090112256_101136.G08</td>\n",
       "      <td>7785-00001</td>\n",
       "      <td>Week 0</td>\n",
       "      <td>diseased</td>\n",
       "      <td>29</td>\n",
       "      <td>M</td>\n",
       "      <td>Extensive</td>\n",
       "      <td>10.484569</td>\n",
       "      <td>7.791297</td>\n",
       "      <td>6.633305</td>\n",
       "      <td>...</td>\n",
       "      <td>4.842862</td>\n",
       "      <td>3.867644</td>\n",
       "      <td>3.794719</td>\n",
       "      <td>3.702251</td>\n",
       "      <td>4.806208</td>\n",
       "      <td>3.487442</td>\n",
       "      <td>3.666449</td>\n",
       "      <td>3.306639</td>\n",
       "      <td>3.844972</td>\n",
       "      <td>3.990382</td>\n",
       "    </tr>\n",
       "    <tr>\n",
       "      <th>3</th>\n",
       "      <td>5500254131236090112256_101136.E12</td>\n",
       "      <td>6404-00021</td>\n",
       "      <td>Week 0</td>\n",
       "      <td>diseased</td>\n",
       "      <td>63</td>\n",
       "      <td>F</td>\n",
       "      <td>Limited</td>\n",
       "      <td>10.054469</td>\n",
       "      <td>8.575984</td>\n",
       "      <td>7.177610</td>\n",
       "      <td>...</td>\n",
       "      <td>4.720165</td>\n",
       "      <td>3.833445</td>\n",
       "      <td>3.503206</td>\n",
       "      <td>3.517192</td>\n",
       "      <td>4.707482</td>\n",
       "      <td>3.667777</td>\n",
       "      <td>3.857674</td>\n",
       "      <td>3.478909</td>\n",
       "      <td>3.879630</td>\n",
       "      <td>3.937842</td>\n",
       "    </tr>\n",
       "    <tr>\n",
       "      <th>4</th>\n",
       "      <td>5500254131236090112259_101136.F12</td>\n",
       "      <td>7407-00026</td>\n",
       "      <td>Week 0</td>\n",
       "      <td>diseased</td>\n",
       "      <td>53</td>\n",
       "      <td>M</td>\n",
       "      <td>Limited</td>\n",
       "      <td>10.055666</td>\n",
       "      <td>7.299673</td>\n",
       "      <td>6.727593</td>\n",
       "      <td>...</td>\n",
       "      <td>4.812635</td>\n",
       "      <td>3.690569</td>\n",
       "      <td>3.502554</td>\n",
       "      <td>3.482334</td>\n",
       "      <td>4.623572</td>\n",
       "      <td>3.585210</td>\n",
       "      <td>3.640833</td>\n",
       "      <td>3.172180</td>\n",
       "      <td>3.758743</td>\n",
       "      <td>3.795621</td>\n",
       "    </tr>\n",
       "  </tbody>\n",
       "</table>\n",
       "<p>5 rows × 54722 columns</p>\n",
       "</div>"
      ],
      "text/plain": [
       "                                  ID SiteSubject ID   Visit Disease_or_Normal  \\\n",
       "0  5500254131236090112252_101136.C02     6716-00010  Week 0          diseased   \n",
       "1  5500254131236090112258_101136.E10     7502-00003  Week 0          diseased   \n",
       "2  5500254131236090112256_101136.G08     7785-00001  Week 0          diseased   \n",
       "3  5500254131236090112256_101136.E12     6404-00021  Week 0          diseased   \n",
       "4  5500254131236090112259_101136.F12     7407-00026  Week 0          diseased   \n",
       "\n",
       "  Age in Years Sex ExtentDisease  _1007_PM_s_at  _1053_PM_at  _117_PM_at  \\\n",
       "0           69   M       Limited       9.494358     6.941798    8.016999   \n",
       "1           33   F       Limited       9.672715     6.516883    7.304307   \n",
       "2           29   M     Extensive      10.484569     7.791297    6.633305   \n",
       "3           63   F       Limited      10.054469     8.575984    7.177610   \n",
       "4           53   M       Limited      10.055666     7.299673    6.727593   \n",
       "\n",
       "         ...         _AFFX-r2-TagO-3_at  _AFFX-r2-TagO-5_at  \\\n",
       "0        ...                   5.080478            3.828776   \n",
       "1        ...                   4.478269            3.508120   \n",
       "2        ...                   4.842862            3.867644   \n",
       "3        ...                   4.720165            3.833445   \n",
       "4        ...                   4.812635            3.690569   \n",
       "\n",
       "   _AFFX-r2-TagQ-3_at  _AFFX-r2-TagQ-5_at  _AFFX-ThrX-3_at  _AFFX-ThrX-5_at  \\\n",
       "0            3.717677            3.834526         4.803935         3.784397   \n",
       "1            3.413598            3.433618         4.706139         3.499645   \n",
       "2            3.794719            3.702251         4.806208         3.487442   \n",
       "3            3.503206            3.517192         4.707482         3.667777   \n",
       "4            3.502554            3.482334         4.623572         3.585210   \n",
       "\n",
       "   _AFFX-ThrX-M_at  _AFFX-TrpnX-3_at  _AFFX-TrpnX-5_at  _AFFX-TrpnX-M_at  \n",
       "0         3.808867          3.477693          4.021209          4.071295  \n",
       "1         3.770255          3.217914          3.721868          3.743521  \n",
       "2         3.666449          3.306639          3.844972          3.990382  \n",
       "3         3.857674          3.478909          3.879630          3.937842  \n",
       "4         3.640833          3.172180          3.758743          3.795621  \n",
       "\n",
       "[5 rows x 54722 columns]"
      ]
     },
     "execution_count": 65,
     "metadata": {},
     "output_type": "execute_result"
    }
   ],
   "source": [
    "full_table.head()"
   ]
  },
  {
   "cell_type": "code",
   "execution_count": 66,
   "metadata": {
    "collapsed": true
   },
   "outputs": [],
   "source": [
    "# full_table = gus_processed_data"
   ]
  },
  {
   "cell_type": "markdown",
   "metadata": {},
   "source": [
    "# Encode 'y' (labels)"
   ]
  },
  {
   "cell_type": "code",
   "execution_count": 67,
   "metadata": {
    "collapsed": false
   },
   "outputs": [
    {
     "data": {
      "text/plain": [
       "42     diseased\n",
       "73     diseased\n",
       "15     diseased\n",
       "60     diseased\n",
       "84     diseased\n",
       "35     diseased\n",
       "21     diseased\n",
       "56     diseased\n",
       "72     diseased\n",
       "85     diseased\n",
       "24     diseased\n",
       "71     diseased\n",
       "1      diseased\n",
       "53     diseased\n",
       "25     diseased\n",
       "27     diseased\n",
       "36     diseased\n",
       "52     diseased\n",
       "76     diseased\n",
       "3      diseased\n",
       "18     diseased\n",
       "87       Normal\n",
       "88       Normal\n",
       "89       Normal\n",
       "90       Normal\n",
       "91       Normal\n",
       "92       Normal\n",
       "93       Normal\n",
       "94       Normal\n",
       "95       Normal\n",
       "96       Normal\n",
       "97       Normal\n",
       "98       Normal\n",
       "99       Normal\n",
       "100      Normal\n",
       "101      Normal\n",
       "102      Normal\n",
       "103      Normal\n",
       "104      Normal\n",
       "105      Normal\n",
       "106      Normal\n",
       "107      Normal\n",
       "Name: Disease_or_Normal, dtype: object"
      ]
     },
     "execution_count": 67,
     "metadata": {},
     "output_type": "execute_result"
    }
   ],
   "source": [
    "y_disease_any_dis\n",
    "# y_disease_spc_dis"
   ]
  },
  {
   "cell_type": "code",
   "execution_count": 68,
   "metadata": {
    "collapsed": true
   },
   "outputs": [],
   "source": [
    "y_disease_any_dis = full_table['Disease_or_Normal']\n",
    "y_disease_spc_dis = full_table['ExtentDisease']\n",
    "disease_encoder_any = ppro.LabelEncoder()\n",
    "disease_encoder_spc = ppro.LabelEncoder()\n",
    "y_disease_encoded_any = disease_encoder_any.fit_transform(y_disease_any_dis)\n",
    "y_disease_encoded_spc = disease_encoder_spc.fit_transform(y_disease_spc_dis)"
   ]
  },
  {
   "cell_type": "markdown",
   "metadata": {},
   "source": [
    "# Encode 'X' (data)"
   ]
  },
  {
   "cell_type": "markdown",
   "metadata": {},
   "source": [
    "## Combine (or not) the categorical and numerical data types for X"
   ]
  },
  {
   "cell_type": "code",
   "execution_count": 69,
   "metadata": {
    "collapsed": false
   },
   "outputs": [],
   "source": [
    "X_cols_cat = list(full_table.columns[[5]].values)\n",
    "X_cols_num = list(full_table.columns[7:])"
   ]
  },
  {
   "cell_type": "code",
   "execution_count": 70,
   "metadata": {
    "collapsed": false
   },
   "outputs": [],
   "source": [
    "# X_cols_cat"
   ]
  },
  {
   "cell_type": "code",
   "execution_count": 71,
   "metadata": {
    "collapsed": true
   },
   "outputs": [],
   "source": [
    "# make the dummy variable columns for the original categorical data columns\n",
    "# HOPEFULLY we dont run into colinearity issues\n",
    "X_data_cat = pd.get_dummies(full_table[X_cols_cat].astype(str))"
   ]
  },
  {
   "cell_type": "code",
   "execution_count": 72,
   "metadata": {
    "collapsed": false
   },
   "outputs": [
    {
     "data": {
      "text/html": [
       "<div>\n",
       "<table border=\"1\" class=\"dataframe\">\n",
       "  <thead>\n",
       "    <tr style=\"text-align: right;\">\n",
       "      <th></th>\n",
       "      <th>Sex_.</th>\n",
       "      <th>Sex_F</th>\n",
       "      <th>Sex_M</th>\n",
       "    </tr>\n",
       "  </thead>\n",
       "  <tbody>\n",
       "    <tr>\n",
       "      <th>0</th>\n",
       "      <td>0</td>\n",
       "      <td>0</td>\n",
       "      <td>1</td>\n",
       "    </tr>\n",
       "    <tr>\n",
       "      <th>1</th>\n",
       "      <td>0</td>\n",
       "      <td>1</td>\n",
       "      <td>0</td>\n",
       "    </tr>\n",
       "    <tr>\n",
       "      <th>2</th>\n",
       "      <td>0</td>\n",
       "      <td>0</td>\n",
       "      <td>1</td>\n",
       "    </tr>\n",
       "    <tr>\n",
       "      <th>3</th>\n",
       "      <td>0</td>\n",
       "      <td>1</td>\n",
       "      <td>0</td>\n",
       "    </tr>\n",
       "    <tr>\n",
       "      <th>4</th>\n",
       "      <td>0</td>\n",
       "      <td>0</td>\n",
       "      <td>1</td>\n",
       "    </tr>\n",
       "  </tbody>\n",
       "</table>\n",
       "</div>"
      ],
      "text/plain": [
       "   Sex_.  Sex_F  Sex_M\n",
       "0      0      0      1\n",
       "1      0      1      0\n",
       "2      0      0      1\n",
       "3      0      1      0\n",
       "4      0      0      1"
      ]
     },
     "execution_count": 72,
     "metadata": {},
     "output_type": "execute_result"
    }
   ],
   "source": [
    "X_data_cat.head()"
   ]
  },
  {
   "cell_type": "markdown",
   "metadata": {},
   "source": [
    "NOTE: because some subjects have `.` listed as Sex, we can not properly accomidate this information.\n",
    "\n",
    "\n",
    "NO CATEGORICAL DATA WILL BE RETAINED"
   ]
  },
  {
   "cell_type": "code",
   "execution_count": 73,
   "metadata": {
    "collapsed": false
   },
   "outputs": [],
   "source": [
    "# put all data columns together\n",
    "\n",
    "X = full_table[X_cols_num].copy() # IGNORING Sex\n",
    "X['ID'] = full_table.ID.copy()\n",
    "X = X.set_index('ID')"
   ]
  },
  {
   "cell_type": "code",
   "execution_count": 74,
   "metadata": {
    "collapsed": false
   },
   "outputs": [
    {
     "data": {
      "text/html": [
       "<div>\n",
       "<table border=\"1\" class=\"dataframe\">\n",
       "  <thead>\n",
       "    <tr style=\"text-align: right;\">\n",
       "      <th></th>\n",
       "      <th>_1007_PM_s_at</th>\n",
       "      <th>_1053_PM_at</th>\n",
       "      <th>_117_PM_at</th>\n",
       "      <th>_121_PM_at</th>\n",
       "      <th>_1255_PM_g_at</th>\n",
       "      <th>_1294_PM_at</th>\n",
       "      <th>_1316_PM_at</th>\n",
       "      <th>_1320_PM_at</th>\n",
       "      <th>_1405_PM_i_at</th>\n",
       "      <th>_1431_PM_at</th>\n",
       "      <th>...</th>\n",
       "      <th>_AFFX-r2-TagO-3_at</th>\n",
       "      <th>_AFFX-r2-TagO-5_at</th>\n",
       "      <th>_AFFX-r2-TagQ-3_at</th>\n",
       "      <th>_AFFX-r2-TagQ-5_at</th>\n",
       "      <th>_AFFX-ThrX-3_at</th>\n",
       "      <th>_AFFX-ThrX-5_at</th>\n",
       "      <th>_AFFX-ThrX-M_at</th>\n",
       "      <th>_AFFX-TrpnX-3_at</th>\n",
       "      <th>_AFFX-TrpnX-5_at</th>\n",
       "      <th>_AFFX-TrpnX-M_at</th>\n",
       "    </tr>\n",
       "    <tr>\n",
       "      <th>ID</th>\n",
       "      <th></th>\n",
       "      <th></th>\n",
       "      <th></th>\n",
       "      <th></th>\n",
       "      <th></th>\n",
       "      <th></th>\n",
       "      <th></th>\n",
       "      <th></th>\n",
       "      <th></th>\n",
       "      <th></th>\n",
       "      <th></th>\n",
       "      <th></th>\n",
       "      <th></th>\n",
       "      <th></th>\n",
       "      <th></th>\n",
       "      <th></th>\n",
       "      <th></th>\n",
       "      <th></th>\n",
       "      <th></th>\n",
       "      <th></th>\n",
       "      <th></th>\n",
       "    </tr>\n",
       "  </thead>\n",
       "  <tbody>\n",
       "    <tr>\n",
       "      <th>5500254131236090112252_101136.C02</th>\n",
       "      <td>9.494358</td>\n",
       "      <td>6.941798</td>\n",
       "      <td>8.016999</td>\n",
       "      <td>6.239807</td>\n",
       "      <td>3.546170</td>\n",
       "      <td>9.929514</td>\n",
       "      <td>8.092192</td>\n",
       "      <td>6.118858</td>\n",
       "      <td>8.622708</td>\n",
       "      <td>4.250445</td>\n",
       "      <td>...</td>\n",
       "      <td>5.080478</td>\n",
       "      <td>3.828776</td>\n",
       "      <td>3.717677</td>\n",
       "      <td>3.834526</td>\n",
       "      <td>4.803935</td>\n",
       "      <td>3.784397</td>\n",
       "      <td>3.808867</td>\n",
       "      <td>3.477693</td>\n",
       "      <td>4.021209</td>\n",
       "      <td>4.071295</td>\n",
       "    </tr>\n",
       "    <tr>\n",
       "      <th>5500254131236090112258_101136.E10</th>\n",
       "      <td>9.672715</td>\n",
       "      <td>6.516883</td>\n",
       "      <td>7.304307</td>\n",
       "      <td>6.511681</td>\n",
       "      <td>3.518518</td>\n",
       "      <td>8.502285</td>\n",
       "      <td>6.464837</td>\n",
       "      <td>5.649911</td>\n",
       "      <td>7.983006</td>\n",
       "      <td>4.115206</td>\n",
       "      <td>...</td>\n",
       "      <td>4.478269</td>\n",
       "      <td>3.508120</td>\n",
       "      <td>3.413598</td>\n",
       "      <td>3.433618</td>\n",
       "      <td>4.706139</td>\n",
       "      <td>3.499645</td>\n",
       "      <td>3.770255</td>\n",
       "      <td>3.217914</td>\n",
       "      <td>3.721868</td>\n",
       "      <td>3.743521</td>\n",
       "    </tr>\n",
       "    <tr>\n",
       "      <th>5500254131236090112256_101136.G08</th>\n",
       "      <td>10.484569</td>\n",
       "      <td>7.791297</td>\n",
       "      <td>6.633305</td>\n",
       "      <td>6.742769</td>\n",
       "      <td>3.210330</td>\n",
       "      <td>8.969945</td>\n",
       "      <td>6.737905</td>\n",
       "      <td>6.104574</td>\n",
       "      <td>8.284944</td>\n",
       "      <td>3.935192</td>\n",
       "      <td>...</td>\n",
       "      <td>4.842862</td>\n",
       "      <td>3.867644</td>\n",
       "      <td>3.794719</td>\n",
       "      <td>3.702251</td>\n",
       "      <td>4.806208</td>\n",
       "      <td>3.487442</td>\n",
       "      <td>3.666449</td>\n",
       "      <td>3.306639</td>\n",
       "      <td>3.844972</td>\n",
       "      <td>3.990382</td>\n",
       "    </tr>\n",
       "    <tr>\n",
       "      <th>5500254131236090112256_101136.E12</th>\n",
       "      <td>10.054469</td>\n",
       "      <td>8.575984</td>\n",
       "      <td>7.177610</td>\n",
       "      <td>6.780481</td>\n",
       "      <td>3.282678</td>\n",
       "      <td>9.348753</td>\n",
       "      <td>6.894259</td>\n",
       "      <td>6.159259</td>\n",
       "      <td>8.437065</td>\n",
       "      <td>4.393347</td>\n",
       "      <td>...</td>\n",
       "      <td>4.720165</td>\n",
       "      <td>3.833445</td>\n",
       "      <td>3.503206</td>\n",
       "      <td>3.517192</td>\n",
       "      <td>4.707482</td>\n",
       "      <td>3.667777</td>\n",
       "      <td>3.857674</td>\n",
       "      <td>3.478909</td>\n",
       "      <td>3.879630</td>\n",
       "      <td>3.937842</td>\n",
       "    </tr>\n",
       "    <tr>\n",
       "      <th>5500254131236090112259_101136.F12</th>\n",
       "      <td>10.055666</td>\n",
       "      <td>7.299673</td>\n",
       "      <td>6.727593</td>\n",
       "      <td>7.038897</td>\n",
       "      <td>3.369805</td>\n",
       "      <td>9.401108</td>\n",
       "      <td>7.212193</td>\n",
       "      <td>5.941620</td>\n",
       "      <td>7.437784</td>\n",
       "      <td>4.446207</td>\n",
       "      <td>...</td>\n",
       "      <td>4.812635</td>\n",
       "      <td>3.690569</td>\n",
       "      <td>3.502554</td>\n",
       "      <td>3.482334</td>\n",
       "      <td>4.623572</td>\n",
       "      <td>3.585210</td>\n",
       "      <td>3.640833</td>\n",
       "      <td>3.172180</td>\n",
       "      <td>3.758743</td>\n",
       "      <td>3.795621</td>\n",
       "    </tr>\n",
       "  </tbody>\n",
       "</table>\n",
       "<p>5 rows × 54715 columns</p>\n",
       "</div>"
      ],
      "text/plain": [
       "                                   _1007_PM_s_at  _1053_PM_at  _117_PM_at  \\\n",
       "ID                                                                          \n",
       "5500254131236090112252_101136.C02       9.494358     6.941798    8.016999   \n",
       "5500254131236090112258_101136.E10       9.672715     6.516883    7.304307   \n",
       "5500254131236090112256_101136.G08      10.484569     7.791297    6.633305   \n",
       "5500254131236090112256_101136.E12      10.054469     8.575984    7.177610   \n",
       "5500254131236090112259_101136.F12      10.055666     7.299673    6.727593   \n",
       "\n",
       "                                   _121_PM_at  _1255_PM_g_at  _1294_PM_at  \\\n",
       "ID                                                                          \n",
       "5500254131236090112252_101136.C02    6.239807       3.546170     9.929514   \n",
       "5500254131236090112258_101136.E10    6.511681       3.518518     8.502285   \n",
       "5500254131236090112256_101136.G08    6.742769       3.210330     8.969945   \n",
       "5500254131236090112256_101136.E12    6.780481       3.282678     9.348753   \n",
       "5500254131236090112259_101136.F12    7.038897       3.369805     9.401108   \n",
       "\n",
       "                                   _1316_PM_at  _1320_PM_at  _1405_PM_i_at  \\\n",
       "ID                                                                           \n",
       "5500254131236090112252_101136.C02     8.092192     6.118858       8.622708   \n",
       "5500254131236090112258_101136.E10     6.464837     5.649911       7.983006   \n",
       "5500254131236090112256_101136.G08     6.737905     6.104574       8.284944   \n",
       "5500254131236090112256_101136.E12     6.894259     6.159259       8.437065   \n",
       "5500254131236090112259_101136.F12     7.212193     5.941620       7.437784   \n",
       "\n",
       "                                   _1431_PM_at        ...         \\\n",
       "ID                                                    ...          \n",
       "5500254131236090112252_101136.C02     4.250445        ...          \n",
       "5500254131236090112258_101136.E10     4.115206        ...          \n",
       "5500254131236090112256_101136.G08     3.935192        ...          \n",
       "5500254131236090112256_101136.E12     4.393347        ...          \n",
       "5500254131236090112259_101136.F12     4.446207        ...          \n",
       "\n",
       "                                   _AFFX-r2-TagO-3_at  _AFFX-r2-TagO-5_at  \\\n",
       "ID                                                                          \n",
       "5500254131236090112252_101136.C02            5.080478            3.828776   \n",
       "5500254131236090112258_101136.E10            4.478269            3.508120   \n",
       "5500254131236090112256_101136.G08            4.842862            3.867644   \n",
       "5500254131236090112256_101136.E12            4.720165            3.833445   \n",
       "5500254131236090112259_101136.F12            4.812635            3.690569   \n",
       "\n",
       "                                   _AFFX-r2-TagQ-3_at  _AFFX-r2-TagQ-5_at  \\\n",
       "ID                                                                          \n",
       "5500254131236090112252_101136.C02            3.717677            3.834526   \n",
       "5500254131236090112258_101136.E10            3.413598            3.433618   \n",
       "5500254131236090112256_101136.G08            3.794719            3.702251   \n",
       "5500254131236090112256_101136.E12            3.503206            3.517192   \n",
       "5500254131236090112259_101136.F12            3.502554            3.482334   \n",
       "\n",
       "                                   _AFFX-ThrX-3_at  _AFFX-ThrX-5_at  \\\n",
       "ID                                                                    \n",
       "5500254131236090112252_101136.C02         4.803935         3.784397   \n",
       "5500254131236090112258_101136.E10         4.706139         3.499645   \n",
       "5500254131236090112256_101136.G08         4.806208         3.487442   \n",
       "5500254131236090112256_101136.E12         4.707482         3.667777   \n",
       "5500254131236090112259_101136.F12         4.623572         3.585210   \n",
       "\n",
       "                                   _AFFX-ThrX-M_at  _AFFX-TrpnX-3_at  \\\n",
       "ID                                                                     \n",
       "5500254131236090112252_101136.C02         3.808867          3.477693   \n",
       "5500254131236090112258_101136.E10         3.770255          3.217914   \n",
       "5500254131236090112256_101136.G08         3.666449          3.306639   \n",
       "5500254131236090112256_101136.E12         3.857674          3.478909   \n",
       "5500254131236090112259_101136.F12         3.640833          3.172180   \n",
       "\n",
       "                                   _AFFX-TrpnX-5_at  _AFFX-TrpnX-M_at  \n",
       "ID                                                                     \n",
       "5500254131236090112252_101136.C02          4.021209          4.071295  \n",
       "5500254131236090112258_101136.E10          3.721868          3.743521  \n",
       "5500254131236090112256_101136.G08          3.844972          3.990382  \n",
       "5500254131236090112256_101136.E12          3.879630          3.937842  \n",
       "5500254131236090112259_101136.F12          3.758743          3.795621  \n",
       "\n",
       "[5 rows x 54715 columns]"
      ]
     },
     "execution_count": 74,
     "metadata": {},
     "output_type": "execute_result"
    }
   ],
   "source": [
    "X.head()"
   ]
  },
  {
   "cell_type": "code",
   "execution_count": 75,
   "metadata": {
    "collapsed": false
   },
   "outputs": [
    {
     "name": "stdout",
     "output_type": "stream",
     "text": [
      "explained_variance_ratio_ of top 2: 0.422556199512\n",
      "                PC 1        PC 2\n",
      "diseased  -43.251644  101.903960\n",
      "diseased  -47.343495  -39.963374\n",
      "diseased   -7.866800  -19.048239\n",
      "diseased  -22.741210  -21.192538\n",
      "diseased  -42.271899    8.623392\n",
      "diseased  -78.839730   11.267312\n",
      "diseased  -12.728984  -25.479165\n",
      "diseased  -87.939271  -10.718758\n",
      "diseased  -68.992757  -37.474111\n",
      "diseased  -45.095750   91.319687\n",
      "diseased -115.418064    6.513401\n",
      "diseased  -24.401813  -41.563074\n",
      "diseased   21.183305  -26.088046\n",
      "diseased  -43.698027   51.981956\n",
      "diseased  -83.950104   -3.327843\n",
      "diseased  -20.020363   16.532997\n",
      "diseased  -27.266412   -9.161994\n",
      "diseased  -50.067564   52.608506\n",
      "diseased  -41.401499   -6.974136\n",
      "diseased  -67.266838  -25.946344\n",
      "diseased  -87.623408    3.796131\n",
      "Normal     46.213218   27.838566\n",
      "Normal     52.479846  -62.371450\n",
      "Normal     32.531374    6.560411\n",
      "Normal     42.730515  -18.913841\n",
      "Normal     53.157286   25.167809\n",
      "Normal     70.452172   55.312016\n",
      "Normal     62.616079   58.813149\n",
      "Normal     58.797545   60.038923\n",
      "Normal     44.137358  104.991279\n",
      "Normal     62.760722   37.515635\n",
      "Normal      6.541593  -79.889760\n",
      "Normal     57.592590   -7.674466\n",
      "Normal     45.680785  -51.648747\n",
      "Normal     22.421286  -51.246975\n",
      "Normal     16.755763  -40.000699\n",
      "Normal     44.892733  -72.270339\n",
      "Normal     45.237629  -31.028464\n",
      "Normal     76.532574   64.496345\n",
      "Normal     44.823412  -38.775578\n",
      "Normal     55.410924    6.795011\n",
      "Normal     55.236923  -71.318545\n"
     ]
    }
   ],
   "source": [
    "# pca = PCA(n_components=2, whiten=False)\n",
    "pca = PCA(n_components=2, whiten=False)\n",
    "\n",
    "\n",
    "pca_t = pca.fit_transform(X,y_disease_encoded_any)\n",
    "top_n_comp = 2\n",
    "print('explained_variance_ratio_ of top {num}: {val}'.format(num=top_n_comp,val=pca.explained_variance_ratio_[:top_n_comp].sum()))\n",
    "\n",
    "pca_t_l = pandas_helpers.repandasify(array=pca_t, y_names=disease_encoder_any.inverse_transform(y_disease_encoded_any), X_names=['PC {v_}'.format(v_=v+1) for v in range(len(pca_t[0]))])\n",
    "print(pca_t_l)"
   ]
  },
  {
   "cell_type": "code",
   "execution_count": 76,
   "metadata": {
    "collapsed": true
   },
   "outputs": [],
   "source": [
    "pca_t_l = pandas_helpers.repandasify(array=pca_t, y_names=disease_encoder_any.inverse_transform(y_disease_encoded_any), X_names=['PC {v_}'.format(v_=v+1) for v in range(len(pca_t[0]))])"
   ]
  },
  {
   "cell_type": "code",
   "execution_count": 80,
   "metadata": {
    "collapsed": false
   },
   "outputs": [],
   "source": [
    "pca_t_l = pca_t_l.reset_index(drop=True)\n",
    "pca_t_l['ExtentDisease'] = full_table['ExtentDisease']\n",
    "pca_t_l['Disease_or_Normal'] = full_table['Disease_or_Normal']\n",
    "# pca_t_l"
   ]
  },
  {
   "cell_type": "code",
   "execution_count": 81,
   "metadata": {
    "collapsed": false
   },
   "outputs": [
    {
     "data": {
      "text/html": [
       "<div>\n",
       "<table border=\"1\" class=\"dataframe\">\n",
       "  <thead>\n",
       "    <tr style=\"text-align: right;\">\n",
       "      <th></th>\n",
       "      <th>PC 1</th>\n",
       "      <th>PC 2</th>\n",
       "      <th>ExtentDisease</th>\n",
       "      <th>Disease_or_Normal</th>\n",
       "    </tr>\n",
       "  </thead>\n",
       "  <tbody>\n",
       "    <tr>\n",
       "      <th>0</th>\n",
       "      <td>-43.251644</td>\n",
       "      <td>101.903960</td>\n",
       "      <td>Limited</td>\n",
       "      <td>diseased</td>\n",
       "    </tr>\n",
       "    <tr>\n",
       "      <th>1</th>\n",
       "      <td>-47.343495</td>\n",
       "      <td>-39.963374</td>\n",
       "      <td>Limited</td>\n",
       "      <td>diseased</td>\n",
       "    </tr>\n",
       "    <tr>\n",
       "      <th>2</th>\n",
       "      <td>-7.866800</td>\n",
       "      <td>-19.048239</td>\n",
       "      <td>Extensive</td>\n",
       "      <td>diseased</td>\n",
       "    </tr>\n",
       "    <tr>\n",
       "      <th>3</th>\n",
       "      <td>-22.741210</td>\n",
       "      <td>-21.192538</td>\n",
       "      <td>Limited</td>\n",
       "      <td>diseased</td>\n",
       "    </tr>\n",
       "    <tr>\n",
       "      <th>4</th>\n",
       "      <td>-42.271899</td>\n",
       "      <td>8.623392</td>\n",
       "      <td>Limited</td>\n",
       "      <td>diseased</td>\n",
       "    </tr>\n",
       "  </tbody>\n",
       "</table>\n",
       "</div>"
      ],
      "text/plain": [
       "        PC 1        PC 2 ExtentDisease Disease_or_Normal\n",
       "0 -43.251644  101.903960       Limited          diseased\n",
       "1 -47.343495  -39.963374       Limited          diseased\n",
       "2  -7.866800  -19.048239     Extensive          diseased\n",
       "3 -22.741210  -21.192538       Limited          diseased\n",
       "4 -42.271899    8.623392       Limited          diseased"
      ]
     },
     "execution_count": 81,
     "metadata": {},
     "output_type": "execute_result"
    }
   ],
   "source": [
    "pca_t_l.head()"
   ]
  },
  {
   "cell_type": "code",
   "execution_count": 82,
   "metadata": {
    "collapsed": false
   },
   "outputs": [
    {
     "data": {
      "image/png": "[encoded data removed]",
      "text/plain": [
       "<matplotlib.figure.Figure at 0x7f291bd66b50>"
      ]
     },
     "metadata": {},
     "output_type": "display_data"
    }
   ],
   "source": [
    "with sns.color_palette(sns.color_palette(\"hls\", 2)):\n",
    "    with sns.axes_style(\"white\"):\n",
    "        sns.lmplot(x='PC 1', y='PC 2', data=pca_t_l.append(pca_t_l.iloc[9,:]), #sns.lmplot(x='PC 1', y='PC 2', data=pca_t_l,\n",
    "                   hue='ExtentDisease', palette=None,\n",
    "                   fit_reg=False,\n",
    "                   scatter_kws={'alpha':0.7}\n",
    "                  );"
   ]
  },
  {
   "cell_type": "markdown",
   "metadata": {},
   "source": [
    "# Feature Selection"
   ]
  },
  {
   "cell_type": "markdown",
   "metadata": {},
   "source": [
    "## LogisticRegression method\n",
    "\n",
    "- ran this a couple times manually and got varying numbers of features retained\n",
    "- I decided to \n",
    "    - run it 100 times\n",
    "    - count how frequently each feature is retained\n",
    "    - keep the top X number of them"
   ]
  },
  {
   "cell_type": "code",
   "execution_count": 83,
   "metadata": {
    "collapsed": false
   },
   "outputs": [],
   "source": [
    "rlgrg = RandomizedLogisticRegression(C=1, scaling=0.5, \n",
    "                                      sample_fraction=0.70, n_resampling=500, \n",
    "                                      verbose=False, normalize=False, \n",
    "                                      random_state=None, n_jobs=1, )\n",
    "# rlgrg.fit(X_, y_)\n",
    " \n",
    "\n"
   ]
  },
  {
   "cell_type": "code",
   "execution_count": 84,
   "metadata": {
    "collapsed": true
   },
   "outputs": [],
   "source": [
    "# select_k_best = SelectKBest(chi2, k=50)"
   ]
  },
  {
   "cell_type": "code",
   "execution_count": 85,
   "metadata": {
    "collapsed": true
   },
   "outputs": [],
   "source": [
    "# X_kbest = select_k_best.fit_transform(X, y_disease_encoded_any)"
   ]
  },
  {
   "cell_type": "code",
   "execution_count": 86,
   "metadata": {
    "collapsed": false
   },
   "outputs": [],
   "source": [
    "# select_k_best.scores_"
   ]
  },
  {
   "cell_type": "code",
   "execution_count": 87,
   "metadata": {
    "collapsed": false
   },
   "outputs": [],
   "source": [
    "# X.columns.values[select_k_best.get_support()]"
   ]
  },
  {
   "cell_type": "code",
   "execution_count": 88,
   "metadata": {
    "collapsed": false
   },
   "outputs": [],
   "source": [
    "t1 = time.time()\n",
    "\n",
    "itr = 1\n",
    "f_sel_db = feature_selection.consensus_top10pct_feature_selection(X=X, y=y_disease_encoded_any,\n",
    "                                                      clf=rlgrg, names=None, iters=itr)\n",
    "\n",
    "t2 = time.time()"
   ]
  },
  {
   "cell_type": "code",
   "execution_count": 89,
   "metadata": {
    "collapsed": false
   },
   "outputs": [
    {
     "name": "stdout",
     "output_type": "stream",
     "text": [
      "116.171915054\n"
     ]
    }
   ],
   "source": [
    "seconds = t2-t1\n",
    "print(seconds)"
   ]
  },
  {
   "cell_type": "code",
   "execution_count": 90,
   "metadata": {
    "collapsed": false
   },
   "outputs": [
    {
     "data": {
      "text/plain": [
       "1.9361985842386882"
      ]
     },
     "execution_count": 90,
     "metadata": {},
     "output_type": "execute_result"
    }
   ],
   "source": [
    "seconds/60"
   ]
  },
  {
   "cell_type": "code",
   "execution_count": 91,
   "metadata": {
    "collapsed": false
   },
   "outputs": [
    {
     "data": {
      "text/plain": [
       "5470"
      ]
     },
     "execution_count": 91,
     "metadata": {},
     "output_type": "execute_result"
    }
   ],
   "source": [
    "len(f_sel_db)"
   ]
  },
  {
   "cell_type": "code",
   "execution_count": 92,
   "metadata": {
    "collapsed": false
   },
   "outputs": [
    {
     "data": {
      "image/png": "[encoded data removed]",
      "text/plain": [
       "<matplotlib.figure.Figure at 0x7f291bca7e50>"
      ]
     },
     "metadata": {},
     "output_type": "display_data"
    }
   ],
   "source": [
    "sns.distplot([len(l) for l in f_sel_db.values()], kde=False)\n",
    "plt.xlabel('number of times a feature was retained');"
   ]
  },
  {
   "cell_type": "markdown",
   "metadata": {},
   "source": [
    "### Look at the Features that were retained at least X times"
   ]
  },
  {
   "cell_type": "code",
   "execution_count": 93,
   "metadata": {
    "collapsed": false
   },
   "outputs": [
    {
     "data": {
      "text/html": [
       "<div>\n",
       "<table border=\"1\" class=\"dataframe\">\n",
       "  <thead>\n",
       "    <tr style=\"text-align: right;\">\n",
       "      <th></th>\n",
       "      <th>avg_score</th>\n",
       "      <th>feature_names</th>\n",
       "      <th>retention_rate</th>\n",
       "    </tr>\n",
       "  </thead>\n",
       "  <tbody>\n",
       "    <tr>\n",
       "      <th>0</th>\n",
       "      <td>0.000</td>\n",
       "      <td>_37652_PM_at</td>\n",
       "      <td>1</td>\n",
       "    </tr>\n",
       "    <tr>\n",
       "      <th>1</th>\n",
       "      <td>0.000</td>\n",
       "      <td>_241923_PM_x_at</td>\n",
       "      <td>1</td>\n",
       "    </tr>\n",
       "    <tr>\n",
       "      <th>2</th>\n",
       "      <td>0.000</td>\n",
       "      <td>_241736_PM_at</td>\n",
       "      <td>1</td>\n",
       "    </tr>\n",
       "    <tr>\n",
       "      <th>3</th>\n",
       "      <td>0.008</td>\n",
       "      <td>_204259_PM_at</td>\n",
       "      <td>1</td>\n",
       "    </tr>\n",
       "    <tr>\n",
       "      <th>4</th>\n",
       "      <td>0.000</td>\n",
       "      <td>_240856_PM_at</td>\n",
       "      <td>1</td>\n",
       "    </tr>\n",
       "  </tbody>\n",
       "</table>\n",
       "</div>"
      ],
      "text/plain": [
       "   avg_score    feature_names  retention_rate\n",
       "0      0.000     _37652_PM_at               1\n",
       "1      0.000  _241923_PM_x_at               1\n",
       "2      0.000    _241736_PM_at               1\n",
       "3      0.008    _204259_PM_at               1\n",
       "4      0.000    _240856_PM_at               1"
      ]
     },
     "execution_count": 93,
     "metadata": {},
     "output_type": "execute_result"
    }
   ],
   "source": [
    "my_features = feature_selection.process_retained_features(retained=f_sel_db, iters=itr)\n",
    "my_features.head()"
   ]
  },
  {
   "cell_type": "code",
   "execution_count": 94,
   "metadata": {
    "collapsed": false
   },
   "outputs": [
    {
     "data": {
      "text/html": [
       "<div>\n",
       "<table border=\"1\" class=\"dataframe\">\n",
       "  <thead>\n",
       "    <tr style=\"text-align: right;\">\n",
       "      <th></th>\n",
       "      <th>avg_score</th>\n",
       "      <th>feature_names</th>\n",
       "      <th>retention_rate</th>\n",
       "    </tr>\n",
       "  </thead>\n",
       "  <tbody>\n",
       "    <tr>\n",
       "      <th>5465</th>\n",
       "      <td>0</td>\n",
       "      <td>_41047_PM_at</td>\n",
       "      <td>1</td>\n",
       "    </tr>\n",
       "    <tr>\n",
       "      <th>5466</th>\n",
       "      <td>0</td>\n",
       "      <td>_241255_PM_at</td>\n",
       "      <td>1</td>\n",
       "    </tr>\n",
       "    <tr>\n",
       "      <th>5467</th>\n",
       "      <td>0</td>\n",
       "      <td>_241795_PM_at</td>\n",
       "      <td>1</td>\n",
       "    </tr>\n",
       "    <tr>\n",
       "      <th>5468</th>\n",
       "      <td>0</td>\n",
       "      <td>_51158_PM_at</td>\n",
       "      <td>1</td>\n",
       "    </tr>\n",
       "    <tr>\n",
       "      <th>5469</th>\n",
       "      <td>0</td>\n",
       "      <td>_243888_PM_at</td>\n",
       "      <td>1</td>\n",
       "    </tr>\n",
       "  </tbody>\n",
       "</table>\n",
       "</div>"
      ],
      "text/plain": [
       "      avg_score  feature_names  retention_rate\n",
       "5465          0   _41047_PM_at               1\n",
       "5466          0  _241255_PM_at               1\n",
       "5467          0  _241795_PM_at               1\n",
       "5468          0   _51158_PM_at               1\n",
       "5469          0  _243888_PM_at               1"
      ]
     },
     "execution_count": 94,
     "metadata": {},
     "output_type": "execute_result"
    }
   ],
   "source": [
    "my_features.tail()"
   ]
  },
  {
   "cell_type": "code",
   "execution_count": 95,
   "metadata": {
    "collapsed": false
   },
   "outputs": [
    {
     "data": {
      "text/plain": [
       "(2, 3)"
      ]
     },
     "execution_count": 95,
     "metadata": {},
     "output_type": "execute_result"
    }
   ],
   "source": [
    "my_features_ = my_features.sort_values(by='avg_score', axis=0, ascending=False).query(\"\"\"retention_rate > 0.99\"\"\")\n",
    "my_features_ = my_features_.query(\"\"\"avg_score > 0.5 \"\"\")\n",
    "my_features_.shape"
   ]
  },
  {
   "cell_type": "code",
   "execution_count": 96,
   "metadata": {
    "collapsed": false
   },
   "outputs": [
    {
     "data": {
      "text/html": [
       "<div>\n",
       "<table border=\"1\" class=\"dataframe\">\n",
       "  <thead>\n",
       "    <tr style=\"text-align: right;\">\n",
       "      <th></th>\n",
       "      <th>avg_score</th>\n",
       "      <th>feature_names</th>\n",
       "      <th>retention_rate</th>\n",
       "    </tr>\n",
       "  </thead>\n",
       "  <tbody>\n",
       "    <tr>\n",
       "      <th>1131</th>\n",
       "      <td>0.618</td>\n",
       "      <td>_219795_PM_at</td>\n",
       "      <td>1</td>\n",
       "    </tr>\n",
       "    <tr>\n",
       "      <th>2717</th>\n",
       "      <td>0.506</td>\n",
       "      <td>_206784_PM_at</td>\n",
       "      <td>1</td>\n",
       "    </tr>\n",
       "  </tbody>\n",
       "</table>\n",
       "</div>"
      ],
      "text/plain": [
       "      avg_score  feature_names  retention_rate\n",
       "1131      0.618  _219795_PM_at               1\n",
       "2717      0.506  _206784_PM_at               1"
      ]
     },
     "execution_count": 96,
     "metadata": {},
     "output_type": "execute_result"
    }
   ],
   "source": [
    "my_features_.head()"
   ]
  },
  {
   "cell_type": "code",
   "execution_count": 97,
   "metadata": {
    "collapsed": false
   },
   "outputs": [
    {
     "data": {
      "text/html": [
       "<div>\n",
       "<table border=\"1\" class=\"dataframe\">\n",
       "  <thead>\n",
       "    <tr style=\"text-align: right;\">\n",
       "      <th></th>\n",
       "      <th>avg_score</th>\n",
       "      <th>feature_names</th>\n",
       "      <th>retention_rate</th>\n",
       "    </tr>\n",
       "  </thead>\n",
       "  <tbody>\n",
       "    <tr>\n",
       "      <th>1131</th>\n",
       "      <td>0.618</td>\n",
       "      <td>_219795_PM_at</td>\n",
       "      <td>1</td>\n",
       "    </tr>\n",
       "    <tr>\n",
       "      <th>2717</th>\n",
       "      <td>0.506</td>\n",
       "      <td>_206784_PM_at</td>\n",
       "      <td>1</td>\n",
       "    </tr>\n",
       "  </tbody>\n",
       "</table>\n",
       "</div>"
      ],
      "text/plain": [
       "      avg_score  feature_names  retention_rate\n",
       "1131      0.618  _219795_PM_at               1\n",
       "2717      0.506  _206784_PM_at               1"
      ]
     },
     "execution_count": 97,
     "metadata": {},
     "output_type": "execute_result"
    }
   ],
   "source": [
    "my_features_.tail()"
   ]
  },
  {
   "cell_type": "code",
   "execution_count": 98,
   "metadata": {
    "collapsed": false
   },
   "outputs": [
    {
     "data": {
      "text/plain": [
       "(42, 2)"
      ]
     },
     "execution_count": 98,
     "metadata": {},
     "output_type": "execute_result"
    }
   ],
   "source": [
    "X_best = X[my_features_.feature_names.values]\n",
    "X_best.shape"
   ]
  },
  {
   "cell_type": "code",
   "execution_count": 99,
   "metadata": {
    "collapsed": false
   },
   "outputs": [
    {
     "data": {
      "text/html": [
       "<div>\n",
       "<table border=\"1\" class=\"dataframe\">\n",
       "  <thead>\n",
       "    <tr style=\"text-align: right;\">\n",
       "      <th></th>\n",
       "      <th>_219795_PM_at</th>\n",
       "      <th>_206784_PM_at</th>\n",
       "    </tr>\n",
       "    <tr>\n",
       "      <th>ID</th>\n",
       "      <th></th>\n",
       "      <th></th>\n",
       "    </tr>\n",
       "  </thead>\n",
       "  <tbody>\n",
       "    <tr>\n",
       "      <th>5500254131236090112252_101136.C02</th>\n",
       "      <td>10.140158</td>\n",
       "      <td>5.323102</td>\n",
       "    </tr>\n",
       "    <tr>\n",
       "      <th>5500254131236090112258_101136.E10</th>\n",
       "      <td>10.482177</td>\n",
       "      <td>5.552003</td>\n",
       "    </tr>\n",
       "    <tr>\n",
       "      <th>5500254131236090112256_101136.G08</th>\n",
       "      <td>11.023887</td>\n",
       "      <td>6.801303</td>\n",
       "    </tr>\n",
       "    <tr>\n",
       "      <th>5500254131236090112256_101136.E12</th>\n",
       "      <td>10.011436</td>\n",
       "      <td>9.427869</td>\n",
       "    </tr>\n",
       "    <tr>\n",
       "      <th>5500254131236090112259_101136.F12</th>\n",
       "      <td>10.801503</td>\n",
       "      <td>6.315544</td>\n",
       "    </tr>\n",
       "    <tr>\n",
       "      <th>5500254131236090112251_101136.D04</th>\n",
       "      <td>10.808175</td>\n",
       "      <td>4.899746</td>\n",
       "    </tr>\n",
       "    <tr>\n",
       "      <th>5500254131236090112258_101136.G09</th>\n",
       "      <td>10.698780</td>\n",
       "      <td>8.938404</td>\n",
       "    </tr>\n",
       "    <tr>\n",
       "      <th>5500254131236090112256_101136.C11</th>\n",
       "      <td>10.610472</td>\n",
       "      <td>6.231183</td>\n",
       "    </tr>\n",
       "    <tr>\n",
       "      <th>5500254131236090112258_101136.E05</th>\n",
       "      <td>11.397591</td>\n",
       "      <td>5.739588</td>\n",
       "    </tr>\n",
       "    <tr>\n",
       "      <th>5500254131236090112259_101136.G08</th>\n",
       "      <td>9.638394</td>\n",
       "      <td>7.792203</td>\n",
       "    </tr>\n",
       "    <tr>\n",
       "      <th>5500254131236090112259_101136.F02</th>\n",
       "      <td>10.329149</td>\n",
       "      <td>5.360536</td>\n",
       "    </tr>\n",
       "    <tr>\n",
       "      <th>5500254131236090112258_101136.D11</th>\n",
       "      <td>10.858707</td>\n",
       "      <td>6.579163</td>\n",
       "    </tr>\n",
       "    <tr>\n",
       "      <th>5500254131236090112251_101136.B08</th>\n",
       "      <td>9.117716</td>\n",
       "      <td>10.304747</td>\n",
       "    </tr>\n",
       "    <tr>\n",
       "      <th>5500254131236090112252_101136.H05</th>\n",
       "      <td>9.287765</td>\n",
       "      <td>8.532580</td>\n",
       "    </tr>\n",
       "    <tr>\n",
       "      <th>5500254131236090112259_101136.F04</th>\n",
       "      <td>9.733789</td>\n",
       "      <td>5.392797</td>\n",
       "    </tr>\n",
       "    <tr>\n",
       "      <th>5500254131236090112251_101136.A03</th>\n",
       "      <td>10.734586</td>\n",
       "      <td>6.357431</td>\n",
       "    </tr>\n",
       "    <tr>\n",
       "      <th>5500254131236090112251_101136.D08</th>\n",
       "      <td>10.724752</td>\n",
       "      <td>10.353474</td>\n",
       "    </tr>\n",
       "    <tr>\n",
       "      <th>5500254131236090112252_101136.G06</th>\n",
       "      <td>10.311184</td>\n",
       "      <td>6.456930</td>\n",
       "    </tr>\n",
       "    <tr>\n",
       "      <th>5500254131236090112258_101136.H09</th>\n",
       "      <td>10.011232</td>\n",
       "      <td>8.016760</td>\n",
       "    </tr>\n",
       "    <tr>\n",
       "      <th>5500254131236090112251_101136.G12</th>\n",
       "      <td>10.599896</td>\n",
       "      <td>5.608635</td>\n",
       "    </tr>\n",
       "    <tr>\n",
       "      <th>5500254131236090112258_101136.A02</th>\n",
       "      <td>10.788512</td>\n",
       "      <td>5.730348</td>\n",
       "    </tr>\n",
       "    <tr>\n",
       "      <th>5500254131236090112251_101136.F04</th>\n",
       "      <td>5.015229</td>\n",
       "      <td>12.477896</td>\n",
       "    </tr>\n",
       "    <tr>\n",
       "      <th>5500254131236090112251_101136.H03</th>\n",
       "      <td>4.807677</td>\n",
       "      <td>12.481302</td>\n",
       "    </tr>\n",
       "    <tr>\n",
       "      <th>5500254131236090112252_101136.A07</th>\n",
       "      <td>4.337377</td>\n",
       "      <td>11.837565</td>\n",
       "    </tr>\n",
       "    <tr>\n",
       "      <th>5500254131236090112252_101136.C12</th>\n",
       "      <td>3.852399</td>\n",
       "      <td>12.001279</td>\n",
       "    </tr>\n",
       "    <tr>\n",
       "      <th>5500254131236090112252_101136.G02</th>\n",
       "      <td>5.293409</td>\n",
       "      <td>11.245003</td>\n",
       "    </tr>\n",
       "    <tr>\n",
       "      <th>5500254131236090112252_101136.G05</th>\n",
       "      <td>3.806667</td>\n",
       "      <td>12.578724</td>\n",
       "    </tr>\n",
       "    <tr>\n",
       "      <th>5500254131236090112252_101136.H02</th>\n",
       "      <td>4.159669</td>\n",
       "      <td>12.581478</td>\n",
       "    </tr>\n",
       "    <tr>\n",
       "      <th>5500254131236090112256_101136.A01</th>\n",
       "      <td>4.459770</td>\n",
       "      <td>12.460221</td>\n",
       "    </tr>\n",
       "    <tr>\n",
       "      <th>5500254131236090112256_101136.A10</th>\n",
       "      <td>4.693201</td>\n",
       "      <td>11.809709</td>\n",
       "    </tr>\n",
       "    <tr>\n",
       "      <th>5500254131236090112256_101136.D03</th>\n",
       "      <td>4.743876</td>\n",
       "      <td>12.727867</td>\n",
       "    </tr>\n",
       "    <tr>\n",
       "      <th>5500254131236090112258_101136.A05</th>\n",
       "      <td>9.696572</td>\n",
       "      <td>11.981538</td>\n",
       "    </tr>\n",
       "    <tr>\n",
       "      <th>5500254131236090112258_101136.A11</th>\n",
       "      <td>5.999384</td>\n",
       "      <td>12.306203</td>\n",
       "    </tr>\n",
       "    <tr>\n",
       "      <th>5500254131236090112258_101136.C02</th>\n",
       "      <td>5.264894</td>\n",
       "      <td>11.583042</td>\n",
       "    </tr>\n",
       "    <tr>\n",
       "      <th>5500254131236090112258_101136.G05</th>\n",
       "      <td>6.050169</td>\n",
       "      <td>11.127469</td>\n",
       "    </tr>\n",
       "    <tr>\n",
       "      <th>5500254131236090112258_101136.H04</th>\n",
       "      <td>8.952993</td>\n",
       "      <td>8.335856</td>\n",
       "    </tr>\n",
       "    <tr>\n",
       "      <th>5500254131236090112258_101136.H05</th>\n",
       "      <td>4.399624</td>\n",
       "      <td>12.526262</td>\n",
       "    </tr>\n",
       "    <tr>\n",
       "      <th>5500254131236090112259_101136.B10</th>\n",
       "      <td>4.304771</td>\n",
       "      <td>11.541404</td>\n",
       "    </tr>\n",
       "    <tr>\n",
       "      <th>5500254131236090112259_101136.C11</th>\n",
       "      <td>4.076956</td>\n",
       "      <td>12.867585</td>\n",
       "    </tr>\n",
       "    <tr>\n",
       "      <th>5500254131236090112259_101136.D06</th>\n",
       "      <td>6.436854</td>\n",
       "      <td>12.375528</td>\n",
       "    </tr>\n",
       "    <tr>\n",
       "      <th>5500254131236090112259_101136.E10</th>\n",
       "      <td>5.221954</td>\n",
       "      <td>12.034205</td>\n",
       "    </tr>\n",
       "    <tr>\n",
       "      <th>5500254131236090112259_101136.H05</th>\n",
       "      <td>5.490845</td>\n",
       "      <td>11.402865</td>\n",
       "    </tr>\n",
       "  </tbody>\n",
       "</table>\n",
       "</div>"
      ],
      "text/plain": [
       "                                   _219795_PM_at  _206784_PM_at\n",
       "ID                                                             \n",
       "5500254131236090112252_101136.C02      10.140158       5.323102\n",
       "5500254131236090112258_101136.E10      10.482177       5.552003\n",
       "5500254131236090112256_101136.G08      11.023887       6.801303\n",
       "5500254131236090112256_101136.E12      10.011436       9.427869\n",
       "5500254131236090112259_101136.F12      10.801503       6.315544\n",
       "5500254131236090112251_101136.D04      10.808175       4.899746\n",
       "5500254131236090112258_101136.G09      10.698780       8.938404\n",
       "5500254131236090112256_101136.C11      10.610472       6.231183\n",
       "5500254131236090112258_101136.E05      11.397591       5.739588\n",
       "5500254131236090112259_101136.G08       9.638394       7.792203\n",
       "5500254131236090112259_101136.F02      10.329149       5.360536\n",
       "5500254131236090112258_101136.D11      10.858707       6.579163\n",
       "5500254131236090112251_101136.B08       9.117716      10.304747\n",
       "5500254131236090112252_101136.H05       9.287765       8.532580\n",
       "5500254131236090112259_101136.F04       9.733789       5.392797\n",
       "5500254131236090112251_101136.A03      10.734586       6.357431\n",
       "5500254131236090112251_101136.D08      10.724752      10.353474\n",
       "5500254131236090112252_101136.G06      10.311184       6.456930\n",
       "5500254131236090112258_101136.H09      10.011232       8.016760\n",
       "5500254131236090112251_101136.G12      10.599896       5.608635\n",
       "5500254131236090112258_101136.A02      10.788512       5.730348\n",
       "5500254131236090112251_101136.F04       5.015229      12.477896\n",
       "5500254131236090112251_101136.H03       4.807677      12.481302\n",
       "5500254131236090112252_101136.A07       4.337377      11.837565\n",
       "5500254131236090112252_101136.C12       3.852399      12.001279\n",
       "5500254131236090112252_101136.G02       5.293409      11.245003\n",
       "5500254131236090112252_101136.G05       3.806667      12.578724\n",
       "5500254131236090112252_101136.H02       4.159669      12.581478\n",
       "5500254131236090112256_101136.A01       4.459770      12.460221\n",
       "5500254131236090112256_101136.A10       4.693201      11.809709\n",
       "5500254131236090112256_101136.D03       4.743876      12.727867\n",
       "5500254131236090112258_101136.A05       9.696572      11.981538\n",
       "5500254131236090112258_101136.A11       5.999384      12.306203\n",
       "5500254131236090112258_101136.C02       5.264894      11.583042\n",
       "5500254131236090112258_101136.G05       6.050169      11.127469\n",
       "5500254131236090112258_101136.H04       8.952993       8.335856\n",
       "5500254131236090112258_101136.H05       4.399624      12.526262\n",
       "5500254131236090112259_101136.B10       4.304771      11.541404\n",
       "5500254131236090112259_101136.C11       4.076956      12.867585\n",
       "5500254131236090112259_101136.D06       6.436854      12.375528\n",
       "5500254131236090112259_101136.E10       5.221954      12.034205\n",
       "5500254131236090112259_101136.H05       5.490845      11.402865"
      ]
     },
     "execution_count": 99,
     "metadata": {},
     "output_type": "execute_result"
    }
   ],
   "source": [
    "X_best"
   ]
  },
  {
   "cell_type": "code",
   "execution_count": 101,
   "metadata": {
    "collapsed": false
   },
   "outputs": [
    {
     "name": "stdout",
     "output_type": "stream",
     "text": [
      "explained_variance_ratio_ of top 2: 1.0\n"
     ]
    }
   ],
   "source": [
    "top_n_sorted_features = 2\n",
    "\n",
    "if top_n_sorted_features > X_best.shape[1]:\n",
    "    raise ValueError(\"X_best.shape[1] is smaller than value provided for top_n_sorted_features.\")\n",
    "\n",
    "pca = PCA(n_components=2, whiten=False)\n",
    "# pca = RandomizedPCA(n_components=2, whiten=False)\n",
    "\n",
    "pca_t = pca.fit_transform(X_best.iloc[:,:top_n_sorted_features],y_disease_encoded_any)\n",
    "top_n_comp = 2\n",
    "print('explained_variance_ratio_ of top {num}: {val}'.format(num=top_n_comp,val=pca.explained_variance_ratio_[:top_n_comp].sum()))\n",
    "\n",
    "pca_t_l = pandas_helpers.repandasify(array=pca_t, y_names=disease_encoder_any.inverse_transform(y_disease_encoded_any), X_names=['PC {v_}'.format(v_=v+1) for v in range(len(pca_t[0]))])\n",
    "# print(pca_t_l)"
   ]
  },
  {
   "cell_type": "code",
   "execution_count": 102,
   "metadata": {
    "collapsed": false
   },
   "outputs": [],
   "source": [
    "pca_t_l = pca_t_l.reset_index(drop=True)\n",
    "pca_t_l['ExtentDisease'] = full_table['ExtentDisease']\n",
    "pca_t_l['Disease_or_Normal'] = full_table['Disease_or_Normal']\n",
    "# pca_t_l"
   ]
  },
  {
   "cell_type": "code",
   "execution_count": 103,
   "metadata": {
    "collapsed": true
   },
   "outputs": [],
   "source": [
    "plot_alpha = 0.7"
   ]
  },
  {
   "cell_type": "code",
   "execution_count": 104,
   "metadata": {
    "collapsed": false
   },
   "outputs": [
    {
     "data": {
      "image/png": "[encoded data removed]",
      "text/plain": [
       "<matplotlib.figure.Figure at 0x7f291bce5090>"
      ]
     },
     "metadata": {},
     "output_type": "display_data"
    }
   ],
   "source": [
    "with sns.color_palette(sns.color_palette(\"hls\", 3)):\n",
    "    with sns.axes_style(\"white\"):\n",
    "        sns.lmplot(x='PC 1', y='PC 2', data=pca_t_l.append(pca_t_l.iloc[9,:]), #sns.lmplot(x='PC 1', y='PC 2', data=pca_t_l,\n",
    "                   hue='ExtentDisease', palette=None,\n",
    "                   fit_reg=False,\n",
    "                   scatter_kws={'alpha':plot_alpha}\n",
    "                  );"
   ]
  },
  {
   "cell_type": "code",
   "execution_count": 105,
   "metadata": {
    "collapsed": false
   },
   "outputs": [],
   "source": [
    "top_10 = my_features_.iloc[:10,:]"
   ]
  },
  {
   "cell_type": "markdown",
   "metadata": {
    "collapsed": true
   },
   "source": [
    "# Test crossvalidation results and preditions on reduced data"
   ]
  },
  {
   "cell_type": "code",
   "execution_count": 106,
   "metadata": {
    "collapsed": false
   },
   "outputs": [],
   "source": [
    "X_reduced = X[top_10.feature_names.values.astype(str)]"
   ]
  },
  {
   "cell_type": "code",
   "execution_count": 107,
   "metadata": {
    "collapsed": false
   },
   "outputs": [
    {
     "data": {
      "text/plain": [
       "array(['_219795_PM_at', '_206784_PM_at'], \n",
       "      dtype='|S13')"
      ]
     },
     "execution_count": 107,
     "metadata": {},
     "output_type": "execute_result"
    }
   ],
   "source": [
    "top_10.feature_names.values.astype(str)"
   ]
  },
  {
   "cell_type": "code",
   "execution_count": 108,
   "metadata": {
    "collapsed": false
   },
   "outputs": [
    {
     "data": {
      "text/html": [
       "<div>\n",
       "<table border=\"1\" class=\"dataframe\">\n",
       "  <thead>\n",
       "    <tr style=\"text-align: right;\">\n",
       "      <th></th>\n",
       "      <th>_219795_PM_at</th>\n",
       "      <th>_206784_PM_at</th>\n",
       "    </tr>\n",
       "    <tr>\n",
       "      <th>ID</th>\n",
       "      <th></th>\n",
       "      <th></th>\n",
       "    </tr>\n",
       "  </thead>\n",
       "  <tbody>\n",
       "    <tr>\n",
       "      <th>5500254131236090112252_101136.C02</th>\n",
       "      <td>10.140158</td>\n",
       "      <td>5.323102</td>\n",
       "    </tr>\n",
       "    <tr>\n",
       "      <th>5500254131236090112258_101136.E10</th>\n",
       "      <td>10.482177</td>\n",
       "      <td>5.552003</td>\n",
       "    </tr>\n",
       "    <tr>\n",
       "      <th>5500254131236090112256_101136.G08</th>\n",
       "      <td>11.023887</td>\n",
       "      <td>6.801303</td>\n",
       "    </tr>\n",
       "    <tr>\n",
       "      <th>5500254131236090112256_101136.E12</th>\n",
       "      <td>10.011436</td>\n",
       "      <td>9.427869</td>\n",
       "    </tr>\n",
       "    <tr>\n",
       "      <th>5500254131236090112259_101136.F12</th>\n",
       "      <td>10.801503</td>\n",
       "      <td>6.315544</td>\n",
       "    </tr>\n",
       "  </tbody>\n",
       "</table>\n",
       "</div>"
      ],
      "text/plain": [
       "                                   _219795_PM_at  _206784_PM_at\n",
       "ID                                                             \n",
       "5500254131236090112252_101136.C02      10.140158       5.323102\n",
       "5500254131236090112258_101136.E10      10.482177       5.552003\n",
       "5500254131236090112256_101136.G08      11.023887       6.801303\n",
       "5500254131236090112256_101136.E12      10.011436       9.427869\n",
       "5500254131236090112259_101136.F12      10.801503       6.315544"
      ]
     },
     "execution_count": 108,
     "metadata": {},
     "output_type": "execute_result"
    }
   ],
   "source": [
    "X_reduced.head()"
   ]
  },
  {
   "cell_type": "markdown",
   "metadata": {},
   "source": [
    "## split data into training and testing"
   ]
  },
  {
   "cell_type": "code",
   "execution_count": 109,
   "metadata": {
    "collapsed": true
   },
   "outputs": [],
   "source": [
    "X_train, X_test, y_train, y_test = train_test_split(X_reduced, y_disease_encoded_any,\n",
    "                                                    test_size=0.33, random_state=42,\n",
    "                                                    stratify=y_disease_encoded_any\n",
    "                                                   )\n",
    "\n",
    "# X_train, X_test, y_train, y_test = train_test_split(X, y_disease_encoded_spc,\n",
    "#                                                     test_size=0.33, random_state=42,\n",
    "#                                                     stratify=y_disease_encoded_spc\n",
    "#                                                    )"
   ]
  },
  {
   "cell_type": "code",
   "execution_count": 110,
   "metadata": {
    "collapsed": false
   },
   "outputs": [
    {
     "data": {
      "text/plain": [
       "array([1, 1, 0, 1, 0, 1, 0, 0, 1, 1, 1, 1, 0, 0, 0, 0, 0, 1, 1, 0, 1, 1, 1,\n",
       "       0, 0, 1, 0, 0])"
      ]
     },
     "execution_count": 110,
     "metadata": {},
     "output_type": "execute_result"
    }
   ],
   "source": [
    "y_train"
   ]
  },
  {
   "cell_type": "code",
   "execution_count": 111,
   "metadata": {
    "collapsed": false
   },
   "outputs": [
    {
     "data": {
      "text/plain": [
       "array([0, 0, 1, 0, 1, 1, 0, 0, 0, 1, 1, 1, 1, 0])"
      ]
     },
     "execution_count": 111,
     "metadata": {},
     "output_type": "execute_result"
    }
   ],
   "source": [
    "y_test"
   ]
  },
  {
   "cell_type": "code",
   "execution_count": 112,
   "metadata": {
    "collapsed": false
   },
   "outputs": [
    {
     "data": {
      "text/plain": [
       "array([1, 1, 1, 1, 1, 1, 1, 1, 1, 1, 1, 1, 1, 1, 1, 1, 1, 1, 1, 1, 1, 0, 0,\n",
       "       0, 0, 0, 0, 0, 0, 0, 0, 0, 0, 0, 0, 0, 0, 0, 0, 0, 0, 0])"
      ]
     },
     "execution_count": 112,
     "metadata": {},
     "output_type": "execute_result"
    }
   ],
   "source": [
    "y_disease_encoded_any"
   ]
  },
  {
   "cell_type": "markdown",
   "metadata": {},
   "source": [
    "# Dummy Classifiers"
   ]
  },
  {
   "cell_type": "code",
   "execution_count": 113,
   "metadata": {
    "collapsed": true
   },
   "outputs": [],
   "source": [
    "dummy_strat = DummyClassifier(strategy='stratified')\n",
    "dummy_freq = DummyClassifier(strategy='most_frequent')\n",
    "dummy_unif = DummyClassifier(strategy='uniform')\n",
    "# dummy_constant = DummyClassifier(strategy='constant', constant=1)"
   ]
  },
  {
   "cell_type": "code",
   "execution_count": 114,
   "metadata": {
    "collapsed": false
   },
   "outputs": [
    {
     "data": {
      "text/plain": [
       "DummyClassifier(constant=None, random_state=None, strategy='uniform')"
      ]
     },
     "execution_count": 114,
     "metadata": {},
     "output_type": "execute_result"
    }
   ],
   "source": [
    "dummy_strat.fit(X_train, y_train)\n",
    "dummy_freq.fit(X_train, y_train)\n",
    "dummy_unif.fit(X_train, y_train)\n",
    "# dummy_constant.fit(X_train, y_train)"
   ]
  },
  {
   "cell_type": "markdown",
   "metadata": {},
   "source": [
    "## dummy_strat"
   ]
  },
  {
   "cell_type": "code",
   "execution_count": 115,
   "metadata": {
    "collapsed": false
   },
   "outputs": [
    {
     "data": {
      "image/png": "[encoded data removed]",
      "text/plain": [
       "<matplotlib.figure.Figure at 0x7f291bce56d0>"
      ]
     },
     "metadata": {},
     "output_type": "display_data"
    }
   ],
   "source": [
    "dummy_strat_cm = confusion_matrix(y_test,dummy_strat.predict(X_test))\n",
    "model_assessment.plot_confusion_matrix(cm=dummy_strat_cm, labels=disease_encoder_any.classes_, cmap='Blues', title=\"dummy_strat confusion matrix\",\n",
    "                 norm=False, context=None, annot=True);"
   ]
  },
  {
   "cell_type": "code",
   "execution_count": 116,
   "metadata": {
    "collapsed": false,
    "scrolled": true
   },
   "outputs": [
    {
     "data": {
      "image/png": "[encoded data removed]",
      "text/plain": [
       "<matplotlib.figure.Figure at 0x7f2917d1b910>"
      ]
     },
     "metadata": {},
     "output_type": "display_data"
    }
   ],
   "source": [
    "model_assessment.plot_confusion_matrix(cm=dummy_strat_cm, labels=disease_encoder_any.classes_, cmap='Blues', title=\"dummy_strat normalized confusion matrix\",\n",
    "                 norm=True, context=None, annot=True);"
   ]
  },
  {
   "cell_type": "markdown",
   "metadata": {},
   "source": [
    "## dummy_freq"
   ]
  },
  {
   "cell_type": "code",
   "execution_count": 117,
   "metadata": {
    "collapsed": false
   },
   "outputs": [
    {
     "data": {
      "image/png": "[encoded data removed]",
      "text/plain": [
       "<matplotlib.figure.Figure at 0x7f291be93a10>"
      ]
     },
     "metadata": {},
     "output_type": "display_data"
    }
   ],
   "source": [
    "dummy_freq_cm = confusion_matrix(y_test,dummy_freq.predict(X_test))\n",
    "model_assessment.plot_confusion_matrix(cm=dummy_freq_cm, labels=disease_encoder_any.classes_, cmap='Blues', title=\"dummy_freq confusion matrix\",\n",
    "                 norm=False, context=None, annot=True);"
   ]
  },
  {
   "cell_type": "code",
   "execution_count": 118,
   "metadata": {
    "collapsed": false,
    "scrolled": true
   },
   "outputs": [
    {
     "data": {
      "image/png": "[encoded data removed]",
      "text/plain": [
       "<matplotlib.figure.Figure at 0x7f291b9734d0>"
      ]
     },
     "metadata": {},
     "output_type": "display_data"
    }
   ],
   "source": [
    "model_assessment.plot_confusion_matrix(cm=dummy_freq_cm, labels=disease_encoder_any.classes_, cmap='Blues', title=\"dummy_freq normalized confusion matrix\",\n",
    "                 norm=True, context=None, annot=True);"
   ]
  },
  {
   "cell_type": "markdown",
   "metadata": {},
   "source": [
    "## dummy_unif"
   ]
  },
  {
   "cell_type": "code",
   "execution_count": 119,
   "metadata": {
    "collapsed": false
   },
   "outputs": [
    {
     "data": {
      "image/png": "[encoded data removed]",
      "text/plain": [
       "<matplotlib.figure.Figure at 0x7f291b9061d0>"
      ]
     },
     "metadata": {},
     "output_type": "display_data"
    }
   ],
   "source": [
    "dummy_unif_cm = confusion_matrix(y_test,dummy_unif.predict(X_test))\n",
    "model_assessment.plot_confusion_matrix(cm=dummy_unif_cm, labels=disease_encoder_any.classes_, cmap='Blues', title=\"dummy_unif confusion matrix\",\n",
    "                 norm=False, context=None, annot=True);"
   ]
  },
  {
   "cell_type": "code",
   "execution_count": 120,
   "metadata": {
    "collapsed": false
   },
   "outputs": [
    {
     "data": {
      "image/png": "[encoded data removed]",
      "text/plain": [
       "<matplotlib.figure.Figure at 0x7f291b74a610>"
      ]
     },
     "metadata": {},
     "output_type": "display_data"
    }
   ],
   "source": [
    "model_assessment.plot_confusion_matrix(cm=dummy_unif_cm, labels=disease_encoder_any.classes_, cmap='Blues', title=\"dummy_unif normalized confusion matrix\",\n",
    "              norm=True, context=None, annot=True);"
   ]
  },
  {
   "cell_type": "markdown",
   "metadata": {},
   "source": [
    "## SVM classifier"
   ]
  },
  {
   "cell_type": "code",
   "execution_count": 121,
   "metadata": {
    "collapsed": false
   },
   "outputs": [
    {
     "data": {
      "text/plain": [
       "sklearn.svm.classes.SVC"
      ]
     },
     "execution_count": 121,
     "metadata": {},
     "output_type": "execute_result"
    }
   ],
   "source": [
    "SVC"
   ]
  },
  {
   "cell_type": "code",
   "execution_count": 122,
   "metadata": {
    "collapsed": false
   },
   "outputs": [
    {
     "name": "stdout",
     "output_type": "stream",
     "text": [
      "{'svc__gamma': 0.001, 'svc__C': 0.001}\n"
     ]
    }
   ],
   "source": [
    "svc_param_grid = {'svc__C': 10. ** np.arange(-3, 3),\n",
    "                  'svc__gamma': 10. ** np.arange(-3, 3)\n",
    "                 }\n",
    "\n",
    "\n",
    "\n",
    "svc_pipe = make_pipeline(SVC(kernel='linear', random_state=42))\n",
    "\n",
    "# run the gridsearch to tune the hyper-parameters\n",
    "svc_grid = GridSearchCV(svc_pipe, param_grid=svc_param_grid, cv=10)\n",
    "\n",
    "svc_grid.fit(X_train, y_train)\n",
    "print(svc_grid.best_params_)\n",
    "\n",
    "\n",
    "# generate and plot confusion matrices\n",
    "svc_cm = confusion_matrix(y_test,svc_grid.predict(X_test))\n",
    "\n"
   ]
  },
  {
   "cell_type": "code",
   "execution_count": 123,
   "metadata": {
    "collapsed": false
   },
   "outputs": [
    {
     "data": {
      "image/png": "[encoded data removed]",
      "text/plain": [
       "<matplotlib.figure.Figure at 0x7f291b6eaad0>"
      ]
     },
     "metadata": {},
     "output_type": "display_data"
    }
   ],
   "source": [
    "# Non-normalized\n",
    "model_assessment.plot_confusion_matrix(cm=svc_cm, labels=disease_encoder_any.classes_, cmap='Blues', title=None,\n",
    "                 norm=False, context=None, annot=True);\n"
   ]
  },
  {
   "cell_type": "code",
   "execution_count": 124,
   "metadata": {
    "collapsed": false
   },
   "outputs": [
    {
     "data": {
      "image/png": "[encoded data removed]",
      "text/plain": [
       "<matplotlib.figure.Figure at 0x7f291b800bd0>"
      ]
     },
     "metadata": {},
     "output_type": "display_data"
    }
   ],
   "source": [
    "# Normalized\n",
    "model_assessment.plot_confusion_matrix(cm=svc_cm, labels=disease_encoder_any.classes_, cmap='Blues', title=None,\n",
    "                 norm=True, context=None, annot=True);"
   ]
  },
  {
   "cell_type": "markdown",
   "metadata": {},
   "source": [
    "## RandomForest classifier"
   ]
  },
  {
   "cell_type": "code",
   "execution_count": 125,
   "metadata": {
    "collapsed": false
   },
   "outputs": [
    {
     "name": "stdout",
     "output_type": "stream",
     "text": [
      "{'randomforestclassifier__min_samples_leaf': 1, 'randomforestclassifier__n_estimators': 3}\n"
     ]
    }
   ],
   "source": [
    "rfst_param_grid = {'randomforestclassifier__n_estimators': np.arange(1,15,),\n",
    "                   'randomforestclassifier__min_samples_leaf': np.arange(1,10,2)\n",
    "                  }\n",
    "\n",
    "\n",
    "\n",
    "rfst_pipe = make_pipeline(RandomForestClassifier(random_state=42,n_jobs=8))\n",
    "\n",
    "# run the gridsearch to tune the hyper-parameters\n",
    "rfst_grid = GridSearchCV(rfst_pipe, param_grid=rfst_param_grid, cv=3)\n",
    "\n",
    "\n",
    "rfst_grid.fit(X_train, y_train)\n",
    "print(rfst_grid.best_params_)\n",
    "\n",
    "\n",
    "# generate and plot confusion matrices\n",
    "rfst_cm = confusion_matrix(y_test,rfst_grid.predict(X_test))"
   ]
  },
  {
   "cell_type": "code",
   "execution_count": 126,
   "metadata": {
    "collapsed": false
   },
   "outputs": [
    {
     "data": {
      "image/png": "[encoded data removed]",
      "text/plain": [
       "<matplotlib.figure.Figure at 0x7f291bedc2d0>"
      ]
     },
     "metadata": {},
     "output_type": "display_data"
    }
   ],
   "source": [
    "# Non-normalized\n",
    "model_assessment.plot_confusion_matrix(cm=svc_cm, labels=disease_encoder_any.classes_, cmap='Blues', title=None,\n",
    "                 norm=False, context=None, annot=True);"
   ]
  },
  {
   "cell_type": "code",
   "execution_count": 127,
   "metadata": {
    "collapsed": false
   },
   "outputs": [
    {
     "data": {
      "image/png": "[encoded data removed]",
      "text/plain": [
       "<matplotlib.figure.Figure at 0x7f291be1f9d0>"
      ]
     },
     "metadata": {},
     "output_type": "display_data"
    }
   ],
   "source": [
    "# Normalized\n",
    "model_assessment.plot_confusion_matrix(cm=svc_cm, labels=disease_encoder_any.classes_, cmap='Blues', title=None,\n",
    "                 norm=True, context=None, annot=True);"
   ]
  },
  {
   "cell_type": "markdown",
   "metadata": {},
   "source": [
    "## LogisticRegression classifier"
   ]
  },
  {
   "cell_type": "code",
   "execution_count": 128,
   "metadata": {
    "collapsed": false
   },
   "outputs": [
    {
     "name": "stdout",
     "output_type": "stream",
     "text": [
      "{'logisticregression__penalty': 'l1'}\n"
     ]
    }
   ],
   "source": [
    "log_reg_param_grid = {'logisticregression__penalty': ['l1','l2'],\n",
    "                     }\n",
    "\n",
    "\n",
    "\n",
    "log_reg_pipe = make_pipeline(LogisticRegression(random_state=42,n_jobs=8))\n",
    "\n",
    "# run the gridsearch to tune the hyper-parameters\n",
    "log_reg_grid = GridSearchCV(log_reg_pipe, param_grid=log_reg_param_grid, cv=5)\n",
    "\n",
    "\n",
    "log_reg_grid.fit(X_train, y_train)\n",
    "print(log_reg_grid.best_params_)\n",
    "\n",
    "\n",
    "# generate and plot confusion matrices\n",
    "log_reg_cm = confusion_matrix(y_test,log_reg_grid.predict(X_test))"
   ]
  },
  {
   "cell_type": "code",
   "execution_count": 129,
   "metadata": {
    "collapsed": false
   },
   "outputs": [
    {
     "data": {
      "image/png": "[encoded data removed]",
      "text/plain": [
       "<matplotlib.figure.Figure at 0x7f291bba3b90>"
      ]
     },
     "metadata": {},
     "output_type": "display_data"
    }
   ],
   "source": [
    "model_assessment.plot_confusion_matrix(cm=log_reg_cm, labels=disease_encoder_any.classes_, cmap='Blues', title=\"log_reg_cm confusion matrix\",\n",
    "              norm=False, context=None, annot=True);"
   ]
  },
  {
   "cell_type": "code",
   "execution_count": 130,
   "metadata": {
    "collapsed": false,
    "scrolled": true
   },
   "outputs": [
    {
     "data": {
      "image/png": "[encoded data removed]",
      "text/plain": [
       "<matplotlib.figure.Figure at 0x7f291be3da90>"
      ]
     },
     "metadata": {},
     "output_type": "display_data"
    }
   ],
   "source": [
    "model_assessment.plot_confusion_matrix(cm=log_reg_cm, labels=disease_encoder_any.classes_, cmap='Blues', title=\"log_reg_cm normalized confusion matrix\",\n",
    "              norm=True, context=None, annot=True);"
   ]
  },
  {
   "cell_type": "markdown",
   "metadata": {},
   "source": [
    "# What genes/probes did we recover?"
   ]
  },
  {
   "cell_type": "code",
   "execution_count": 131,
   "metadata": {
    "collapsed": false
   },
   "outputs": [],
   "source": [
    "mapping_table_file = pd.read_excel('/home/gus/MEGAsync/zim/main/BCH/Projects/Jodie_and_James/comparison_gus_v2.xls')\n",
    "mapping_table = mapping_table_file[['probes','GENE_SYMBOL']]"
   ]
  },
  {
   "cell_type": "code",
   "execution_count": 132,
   "metadata": {
    "collapsed": false
   },
   "outputs": [
    {
     "data": {
      "text/html": [
       "<div>\n",
       "<table border=\"1\" class=\"dataframe\">\n",
       "  <thead>\n",
       "    <tr style=\"text-align: right;\">\n",
       "      <th></th>\n",
       "      <th>probes</th>\n",
       "      <th>GENE_SYMBOL</th>\n",
       "    </tr>\n",
       "  </thead>\n",
       "  <tbody>\n",
       "    <tr>\n",
       "      <th>0</th>\n",
       "      <td>1552281_PM_at</td>\n",
       "      <td>SLC39A5</td>\n",
       "    </tr>\n",
       "    <tr>\n",
       "      <th>1</th>\n",
       "      <td>1552296_PM_at</td>\n",
       "      <td>BEST4</td>\n",
       "    </tr>\n",
       "    <tr>\n",
       "      <th>2</th>\n",
       "      <td>1552365_PM_at</td>\n",
       "      <td>SCIN</td>\n",
       "    </tr>\n",
       "    <tr>\n",
       "      <th>3</th>\n",
       "      <td>1552367_PM_a_at</td>\n",
       "      <td>SCIN</td>\n",
       "    </tr>\n",
       "    <tr>\n",
       "      <th>4</th>\n",
       "      <td>1552497_PM_a_at</td>\n",
       "      <td>SLAMF6</td>\n",
       "    </tr>\n",
       "  </tbody>\n",
       "</table>\n",
       "</div>"
      ],
      "text/plain": [
       "            probes GENE_SYMBOL\n",
       "0    1552281_PM_at     SLC39A5\n",
       "1    1552296_PM_at       BEST4\n",
       "2    1552365_PM_at        SCIN\n",
       "3  1552367_PM_a_at        SCIN\n",
       "4  1552497_PM_a_at      SLAMF6"
      ]
     },
     "execution_count": 132,
     "metadata": {},
     "output_type": "execute_result"
    }
   ],
   "source": [
    "mapping_table.head()"
   ]
  },
  {
   "cell_type": "code",
   "execution_count": 133,
   "metadata": {
    "collapsed": false
   },
   "outputs": [],
   "source": [
    "my_probes = [x[1:] for x in X_reduced.columns.values]"
   ]
  },
  {
   "cell_type": "code",
   "execution_count": 134,
   "metadata": {
    "collapsed": false
   },
   "outputs": [
    {
     "data": {
      "text/html": [
       "<div>\n",
       "<table border=\"1\" class=\"dataframe\">\n",
       "  <thead>\n",
       "    <tr style=\"text-align: right;\">\n",
       "      <th></th>\n",
       "      <th>probes</th>\n",
       "      <th>GENE_SYMBOL</th>\n",
       "    </tr>\n",
       "  </thead>\n",
       "  <tbody>\n",
       "    <tr>\n",
       "      <th>640</th>\n",
       "      <td>206784_PM_at</td>\n",
       "      <td>AQP8</td>\n",
       "    </tr>\n",
       "    <tr>\n",
       "      <th>1340</th>\n",
       "      <td>219795_PM_at</td>\n",
       "      <td>SLC6A14</td>\n",
       "    </tr>\n",
       "  </tbody>\n",
       "</table>\n",
       "</div>"
      ],
      "text/plain": [
       "            probes GENE_SYMBOL\n",
       "640   206784_PM_at        AQP8\n",
       "1340  219795_PM_at     SLC6A14"
      ]
     },
     "execution_count": 134,
     "metadata": {},
     "output_type": "execute_result"
    }
   ],
   "source": [
    "mapping_table[mapping_table.probes.apply(lambda x: x in my_probes)]"
   ]
  },
  {
   "cell_type": "code",
   "execution_count": null,
   "metadata": {
    "collapsed": true
   },
   "outputs": [],
   "source": []
  }
 ],
 "metadata": {
  "kernelspec": {
   "display_name": "Python 2",
   "language": "python",
   "name": "python2"
  },
  "language_info": {
   "codemirror_mode": {
    "name": "ipython",
    "version": 2
   },
   "file_extension": ".py",
   "mimetype": "text/x-python",
   "name": "python",
   "nbconvert_exporter": "python",
   "pygments_lexer": "ipython2",
   "version": "2.7.11"
  }
 },
 "nbformat": 4,
 "nbformat_minor": 0
}
