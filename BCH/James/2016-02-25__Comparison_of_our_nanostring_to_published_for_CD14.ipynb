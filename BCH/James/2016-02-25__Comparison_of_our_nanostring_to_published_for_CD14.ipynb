{
 "cells": [
  {
   "cell_type": "code",
   "execution_count": 1,
   "metadata": {
    "collapsed": true
   },
   "outputs": [],
   "source": [
    "%matplotlib inline"
   ]
  },
  {
   "cell_type": "code",
   "execution_count": 2,
   "metadata": {
    "collapsed": true
   },
   "outputs": [],
   "source": [
    "from matplotlib import pyplot as plt\n",
    "import pandas as pd\n",
    "import numpy as np\n",
    "import seaborn as sns\n",
    "sns.set_context(\"talk\")"
   ]
  },
  {
   "cell_type": "code",
   "execution_count": 3,
   "metadata": {
    "collapsed": false
   },
   "outputs": [],
   "source": [
    "import rpy2.robjects as robjects\n",
    "from rpy2.robjects.packages import importr\n",
    "from rpy2.robjects import pandas2ri\n",
    "\n",
    "r = robjects.r\n",
    "\n",
    "nsn = importr(\"NanoStringNorm\")\n",
    "egr = importr(\"edgeR\")\n",
    "\n",
    "py = pandas2ri.ri2py"
   ]
  },
  {
   "cell_type": "code",
   "execution_count": 4,
   "metadata": {
    "collapsed": true
   },
   "outputs": [],
   "source": [
    "cell_type = 'CD14'"
   ]
  },
  {
   "cell_type": "markdown",
   "metadata": {
    "collapsed": true
   },
   "source": [
    "# Read in RCC data"
   ]
  },
  {
   "cell_type": "code",
   "execution_count": 5,
   "metadata": {
    "collapsed": true
   },
   "outputs": [],
   "source": [
    "base_path = u'/home/gus/MEGAsync/zim/main/BCH/Projects/James/Nanostring_pipeline/OKT3/data/compare_ours_to_existing/cd14'\n",
    "\n",
    "our_rcc_path = base_path+u\"/ours\"\n",
    "thr_rcc_path = base_path+u\"/theirs\""
   ]
  },
  {
   "cell_type": "code",
   "execution_count": 6,
   "metadata": {
    "collapsed": false
   },
   "outputs": [],
   "source": [
    "our_data = py(r(u\"\"\"read.markup.RCC(rcc.path=\"{PATH}\")\"\"\".format(PATH=our_rcc_path)).rx2('x'))\n",
    "thr_data = py(r(u\"\"\"read.markup.RCC(rcc.path=\"{PATH}\")\"\"\".format(PATH=thr_rcc_path)).rx2('x'))"
   ]
  },
  {
   "cell_type": "code",
   "execution_count": 7,
   "metadata": {
    "collapsed": false
   },
   "outputs": [
    {
     "data": {
      "text/plain": [
       "(608, 9)"
      ]
     },
     "execution_count": 7,
     "metadata": {},
     "output_type": "execute_result"
    }
   ],
   "source": [
    "our_data.shape"
   ]
  },
  {
   "cell_type": "code",
   "execution_count": 8,
   "metadata": {
    "collapsed": false
   },
   "outputs": [
    {
     "data": {
      "text/plain": [
       "(540, 13)"
      ]
     },
     "execution_count": 8,
     "metadata": {},
     "output_type": "execute_result"
    }
   ],
   "source": [
    "thr_data.shape"
   ]
  },
  {
   "cell_type": "code",
   "execution_count": 9,
   "metadata": {
    "collapsed": false
   },
   "outputs": [
    {
     "data": {
      "text/html": [
       "<div>\n",
       "<table border=\"1\" class=\"dataframe\">\n",
       "  <thead>\n",
       "    <tr style=\"text-align: right;\">\n",
       "      <th></th>\n",
       "      <th>CodeClass</th>\n",
       "      <th>Name</th>\n",
       "      <th>Accession</th>\n",
       "      <th>BWH006_CD14_w0_04</th>\n",
       "      <th>BWH008_CD14_w0_09</th>\n",
       "      <th>MGH001_CD14_w0_07</th>\n",
       "      <th>MGH002_CD14_w0_05</th>\n",
       "      <th>MGH004_CD14_w0_09</th>\n",
       "      <th>MGH007_CD14_w0_10</th>\n",
       "    </tr>\n",
       "  </thead>\n",
       "  <tbody>\n",
       "    <tr>\n",
       "      <th>1</th>\n",
       "      <td>Endogenous</td>\n",
       "      <td>VTN</td>\n",
       "      <td>NM_000638.3</td>\n",
       "      <td>1</td>\n",
       "      <td>0</td>\n",
       "      <td>4</td>\n",
       "      <td>0</td>\n",
       "      <td>2</td>\n",
       "      <td>1</td>\n",
       "    </tr>\n",
       "    <tr>\n",
       "      <th>2</th>\n",
       "      <td>Endogenous</td>\n",
       "      <td>HLA-DQB1</td>\n",
       "      <td>NM_002123.3</td>\n",
       "      <td>8</td>\n",
       "      <td>8</td>\n",
       "      <td>2</td>\n",
       "      <td>11</td>\n",
       "      <td>0</td>\n",
       "      <td>2</td>\n",
       "    </tr>\n",
       "    <tr>\n",
       "      <th>3</th>\n",
       "      <td>Endogenous</td>\n",
       "      <td>KIT</td>\n",
       "      <td>NM_000222.2</td>\n",
       "      <td>2</td>\n",
       "      <td>0</td>\n",
       "      <td>3</td>\n",
       "      <td>1</td>\n",
       "      <td>3</td>\n",
       "      <td>2</td>\n",
       "    </tr>\n",
       "    <tr>\n",
       "      <th>4</th>\n",
       "      <td>Endogenous</td>\n",
       "      <td>LAG3</td>\n",
       "      <td>NM_002286.5</td>\n",
       "      <td>2</td>\n",
       "      <td>7</td>\n",
       "      <td>3</td>\n",
       "      <td>1</td>\n",
       "      <td>1</td>\n",
       "      <td>0</td>\n",
       "    </tr>\n",
       "    <tr>\n",
       "      <th>5</th>\n",
       "      <td>Endogenous</td>\n",
       "      <td>SOCS3</td>\n",
       "      <td>NM_003955.3</td>\n",
       "      <td>11</td>\n",
       "      <td>23</td>\n",
       "      <td>387</td>\n",
       "      <td>15</td>\n",
       "      <td>7</td>\n",
       "      <td>206</td>\n",
       "    </tr>\n",
       "  </tbody>\n",
       "</table>\n",
       "</div>"
      ],
      "text/plain": [
       "    CodeClass      Name    Accession  BWH006_CD14_w0_04  BWH008_CD14_w0_09  \\\n",
       "1  Endogenous       VTN  NM_000638.3                  1                  0   \n",
       "2  Endogenous  HLA-DQB1  NM_002123.3                  8                  8   \n",
       "3  Endogenous       KIT  NM_000222.2                  2                  0   \n",
       "4  Endogenous      LAG3  NM_002286.5                  2                  7   \n",
       "5  Endogenous     SOCS3  NM_003955.3                 11                 23   \n",
       "\n",
       "   MGH001_CD14_w0_07  MGH002_CD14_w0_05  MGH004_CD14_w0_09  MGH007_CD14_w0_10  \n",
       "1                  4                  0                  2                  1  \n",
       "2                  2                 11                  0                  2  \n",
       "3                  3                  1                  3                  2  \n",
       "4                  3                  1                  1                  0  \n",
       "5                387                 15                  7                206  "
      ]
     },
     "execution_count": 9,
     "metadata": {},
     "output_type": "execute_result"
    }
   ],
   "source": [
    "our_data.head()"
   ]
  },
  {
   "cell_type": "code",
   "execution_count": 10,
   "metadata": {
    "collapsed": false
   },
   "outputs": [],
   "source": [
    "our_genes = set(our_data.Name.unique())\n",
    "thr_genes = set(thr_data.Name.unique())"
   ]
  },
  {
   "cell_type": "code",
   "execution_count": 11,
   "metadata": {
    "collapsed": false
   },
   "outputs": [
    {
     "data": {
      "text/plain": [
       "520"
      ]
     },
     "execution_count": 11,
     "metadata": {},
     "output_type": "execute_result"
    }
   ],
   "source": [
    "len(our_genes.intersection(thr_genes))"
   ]
  },
  {
   "cell_type": "markdown",
   "metadata": {},
   "source": [
    "## Join tables by gene names\n",
    "\n",
    "- We will only deal with the genes that are in commen between the tables from now on\n",
    "- thats 520 including the pos/neg controls etc."
   ]
  },
  {
   "cell_type": "code",
   "execution_count": 12,
   "metadata": {
    "collapsed": false
   },
   "outputs": [
    {
     "data": {
      "text/html": [
       "<div>\n",
       "<table border=\"1\" class=\"dataframe\">\n",
       "  <thead>\n",
       "    <tr style=\"text-align: right;\">\n",
       "      <th></th>\n",
       "      <th>CodeClass_OUR</th>\n",
       "      <th>Accession_OUR</th>\n",
       "      <th>BWH006_CD14_w0_04</th>\n",
       "      <th>BWH008_CD14_w0_09</th>\n",
       "      <th>MGH001_CD14_w0_07</th>\n",
       "      <th>MGH002_CD14_w0_05</th>\n",
       "      <th>MGH004_CD14_w0_09</th>\n",
       "      <th>MGH007_CD14_w0_10</th>\n",
       "      <th>CodeClass_THR</th>\n",
       "      <th>Accession_THR</th>\n",
       "      <th>GSM973583</th>\n",
       "      <th>GSM973584</th>\n",
       "      <th>GSM973585</th>\n",
       "      <th>GSM973586</th>\n",
       "      <th>GSM973587</th>\n",
       "      <th>GSM973588</th>\n",
       "      <th>GSM973589</th>\n",
       "      <th>GSM973590</th>\n",
       "      <th>GSM973591</th>\n",
       "      <th>GSM973592</th>\n",
       "    </tr>\n",
       "  </thead>\n",
       "  <tbody>\n",
       "    <tr>\n",
       "      <th>VTN</th>\n",
       "      <td>Endogenous</td>\n",
       "      <td>NM_000638.3</td>\n",
       "      <td>1</td>\n",
       "      <td>0</td>\n",
       "      <td>4</td>\n",
       "      <td>0</td>\n",
       "      <td>2</td>\n",
       "      <td>1</td>\n",
       "      <td>Endogenous</td>\n",
       "      <td>NM_000638.3</td>\n",
       "      <td>20</td>\n",
       "      <td>44</td>\n",
       "      <td>36</td>\n",
       "      <td>27</td>\n",
       "      <td>22</td>\n",
       "      <td>23</td>\n",
       "      <td>9</td>\n",
       "      <td>22</td>\n",
       "      <td>27</td>\n",
       "      <td>20</td>\n",
       "    </tr>\n",
       "    <tr>\n",
       "      <th>HLA-DQB1</th>\n",
       "      <td>Endogenous</td>\n",
       "      <td>NM_002123.3</td>\n",
       "      <td>8</td>\n",
       "      <td>8</td>\n",
       "      <td>2</td>\n",
       "      <td>11</td>\n",
       "      <td>0</td>\n",
       "      <td>2</td>\n",
       "      <td>Endogenous</td>\n",
       "      <td>NM_002123.3</td>\n",
       "      <td>790</td>\n",
       "      <td>4686</td>\n",
       "      <td>4274</td>\n",
       "      <td>27</td>\n",
       "      <td>11</td>\n",
       "      <td>16</td>\n",
       "      <td>1778</td>\n",
       "      <td>2381</td>\n",
       "      <td>8212</td>\n",
       "      <td>2225</td>\n",
       "    </tr>\n",
       "    <tr>\n",
       "      <th>KIT</th>\n",
       "      <td>Endogenous</td>\n",
       "      <td>NM_000222.2</td>\n",
       "      <td>2</td>\n",
       "      <td>0</td>\n",
       "      <td>3</td>\n",
       "      <td>1</td>\n",
       "      <td>3</td>\n",
       "      <td>2</td>\n",
       "      <td>Endogenous</td>\n",
       "      <td>NM_000222.1</td>\n",
       "      <td>42</td>\n",
       "      <td>43</td>\n",
       "      <td>32</td>\n",
       "      <td>36</td>\n",
       "      <td>35</td>\n",
       "      <td>27</td>\n",
       "      <td>22</td>\n",
       "      <td>37</td>\n",
       "      <td>29</td>\n",
       "      <td>31</td>\n",
       "    </tr>\n",
       "    <tr>\n",
       "      <th>SOCS3</th>\n",
       "      <td>Endogenous</td>\n",
       "      <td>NM_003955.3</td>\n",
       "      <td>11</td>\n",
       "      <td>23</td>\n",
       "      <td>387</td>\n",
       "      <td>15</td>\n",
       "      <td>7</td>\n",
       "      <td>206</td>\n",
       "      <td>Endogenous</td>\n",
       "      <td>NM_003955.3</td>\n",
       "      <td>4265</td>\n",
       "      <td>8859</td>\n",
       "      <td>6741</td>\n",
       "      <td>5401</td>\n",
       "      <td>4226</td>\n",
       "      <td>2073</td>\n",
       "      <td>3250</td>\n",
       "      <td>6298</td>\n",
       "      <td>3883</td>\n",
       "      <td>4945</td>\n",
       "    </tr>\n",
       "    <tr>\n",
       "      <th>TCF7</th>\n",
       "      <td>Endogenous</td>\n",
       "      <td>NM_003202.2</td>\n",
       "      <td>0</td>\n",
       "      <td>1</td>\n",
       "      <td>3</td>\n",
       "      <td>1</td>\n",
       "      <td>0</td>\n",
       "      <td>1</td>\n",
       "      <td>Endogenous</td>\n",
       "      <td>NM_003202.2</td>\n",
       "      <td>44</td>\n",
       "      <td>81</td>\n",
       "      <td>59</td>\n",
       "      <td>138</td>\n",
       "      <td>38</td>\n",
       "      <td>44</td>\n",
       "      <td>30</td>\n",
       "      <td>58</td>\n",
       "      <td>62</td>\n",
       "      <td>33</td>\n",
       "    </tr>\n",
       "  </tbody>\n",
       "</table>\n",
       "</div>"
      ],
      "text/plain": [
       "         CodeClass_OUR Accession_OUR  BWH006_CD14_w0_04  BWH008_CD14_w0_09  \\\n",
       "VTN         Endogenous   NM_000638.3                  1                  0   \n",
       "HLA-DQB1    Endogenous   NM_002123.3                  8                  8   \n",
       "KIT         Endogenous   NM_000222.2                  2                  0   \n",
       "SOCS3       Endogenous   NM_003955.3                 11                 23   \n",
       "TCF7        Endogenous   NM_003202.2                  0                  1   \n",
       "\n",
       "          MGH001_CD14_w0_07  MGH002_CD14_w0_05  MGH004_CD14_w0_09  \\\n",
       "VTN                       4                  0                  2   \n",
       "HLA-DQB1                  2                 11                  0   \n",
       "KIT                       3                  1                  3   \n",
       "SOCS3                   387                 15                  7   \n",
       "TCF7                      3                  1                  0   \n",
       "\n",
       "          MGH007_CD14_w0_10 CodeClass_THR Accession_THR  GSM973583  GSM973584  \\\n",
       "VTN                       1    Endogenous   NM_000638.3         20         44   \n",
       "HLA-DQB1                  2    Endogenous   NM_002123.3        790       4686   \n",
       "KIT                       2    Endogenous   NM_000222.1         42         43   \n",
       "SOCS3                   206    Endogenous   NM_003955.3       4265       8859   \n",
       "TCF7                      1    Endogenous   NM_003202.2         44         81   \n",
       "\n",
       "          GSM973585  GSM973586  GSM973587  GSM973588  GSM973589  GSM973590  \\\n",
       "VTN              36         27         22         23          9         22   \n",
       "HLA-DQB1       4274         27         11         16       1778       2381   \n",
       "KIT              32         36         35         27         22         37   \n",
       "SOCS3          6741       5401       4226       2073       3250       6298   \n",
       "TCF7             59        138         38         44         30         58   \n",
       "\n",
       "          GSM973591  GSM973592  \n",
       "VTN              27         20  \n",
       "HLA-DQB1       8212       2225  \n",
       "KIT              29         31  \n",
       "SOCS3          3883       4945  \n",
       "TCF7             62         33  "
      ]
     },
     "execution_count": 12,
     "metadata": {},
     "output_type": "execute_result"
    }
   ],
   "source": [
    "cmb_data = pd.merge(left=our_data, right=thr_data,\n",
    "                    how='inner', on=\"Name\",\n",
    "                    left_on=None, right_on=None,\n",
    "                    left_index=False, right_index=False,\n",
    "                    sort=False, suffixes=('_OUR', '_THR'), copy=True, indicator=False)\n",
    "\n",
    "cmb_data.index = cmb_data.Name.values\n",
    "cmb_data = cmb_data.drop(labels=['Name'],axis=1)\n",
    "cmb_data.head()"
   ]
  },
  {
   "cell_type": "code",
   "execution_count": 13,
   "metadata": {
    "collapsed": false
   },
   "outputs": [
    {
     "data": {
      "text/plain": [
       "15"
      ]
     },
     "execution_count": 13,
     "metadata": {},
     "output_type": "execute_result"
    }
   ],
   "source": [
    "code_class_missmatch = cmb_data.CodeClass_OUR != cmb_data.CodeClass_THR\n",
    "sum(code_class_missmatch)"
   ]
  },
  {
   "cell_type": "markdown",
   "metadata": {},
   "source": [
    "15 rows have CodeClass designations that don't match up..."
   ]
  },
  {
   "cell_type": "code",
   "execution_count": 14,
   "metadata": {
    "collapsed": false
   },
   "outputs": [
    {
     "data": {
      "text/html": [
       "<div>\n",
       "<table border=\"1\" class=\"dataframe\">\n",
       "  <thead>\n",
       "    <tr style=\"text-align: right;\">\n",
       "      <th></th>\n",
       "      <th>CodeClass_OUR</th>\n",
       "      <th>CodeClass_THR</th>\n",
       "    </tr>\n",
       "  </thead>\n",
       "  <tbody>\n",
       "    <tr>\n",
       "      <th>EEF1G</th>\n",
       "      <td>Housekeeping</td>\n",
       "      <td>Endogenous</td>\n",
       "    </tr>\n",
       "    <tr>\n",
       "      <th>TUBB</th>\n",
       "      <td>Housekeeping</td>\n",
       "      <td>Endogenous</td>\n",
       "    </tr>\n",
       "    <tr>\n",
       "      <th>TBP</th>\n",
       "      <td>Housekeeping</td>\n",
       "      <td>Endogenous</td>\n",
       "    </tr>\n",
       "    <tr>\n",
       "      <th>POLR2A</th>\n",
       "      <td>Housekeeping</td>\n",
       "      <td>Endogenous</td>\n",
       "    </tr>\n",
       "    <tr>\n",
       "      <th>GUSB</th>\n",
       "      <td>Housekeeping</td>\n",
       "      <td>Endogenous</td>\n",
       "    </tr>\n",
       "    <tr>\n",
       "      <th>HPRT1</th>\n",
       "      <td>Housekeeping</td>\n",
       "      <td>Endogenous</td>\n",
       "    </tr>\n",
       "    <tr>\n",
       "      <th>GAPDH</th>\n",
       "      <td>Housekeeping</td>\n",
       "      <td>Endogenous</td>\n",
       "    </tr>\n",
       "    <tr>\n",
       "      <th>SDHA</th>\n",
       "      <td>Housekeeping</td>\n",
       "      <td>Endogenous</td>\n",
       "    </tr>\n",
       "    <tr>\n",
       "      <th>OAZ1</th>\n",
       "      <td>Housekeeping</td>\n",
       "      <td>Endogenous</td>\n",
       "    </tr>\n",
       "    <tr>\n",
       "      <th>PPIA</th>\n",
       "      <td>Housekeeping</td>\n",
       "      <td>Endogenous</td>\n",
       "    </tr>\n",
       "    <tr>\n",
       "      <th>G6PD</th>\n",
       "      <td>Housekeeping</td>\n",
       "      <td>Endogenous</td>\n",
       "    </tr>\n",
       "    <tr>\n",
       "      <th>RPL19</th>\n",
       "      <td>Housekeeping</td>\n",
       "      <td>Endogenous</td>\n",
       "    </tr>\n",
       "    <tr>\n",
       "      <th>POLR1B</th>\n",
       "      <td>Housekeeping</td>\n",
       "      <td>Endogenous</td>\n",
       "    </tr>\n",
       "    <tr>\n",
       "      <th>ABCF1</th>\n",
       "      <td>Housekeeping</td>\n",
       "      <td>Endogenous</td>\n",
       "    </tr>\n",
       "    <tr>\n",
       "      <th>ALAS1</th>\n",
       "      <td>Housekeeping</td>\n",
       "      <td>Endogenous</td>\n",
       "    </tr>\n",
       "  </tbody>\n",
       "</table>\n",
       "</div>"
      ],
      "text/plain": [
       "       CodeClass_OUR CodeClass_THR\n",
       "EEF1G   Housekeeping    Endogenous\n",
       "TUBB    Housekeeping    Endogenous\n",
       "TBP     Housekeeping    Endogenous\n",
       "POLR2A  Housekeeping    Endogenous\n",
       "GUSB    Housekeeping    Endogenous\n",
       "HPRT1   Housekeeping    Endogenous\n",
       "GAPDH   Housekeeping    Endogenous\n",
       "SDHA    Housekeeping    Endogenous\n",
       "OAZ1    Housekeeping    Endogenous\n",
       "PPIA    Housekeeping    Endogenous\n",
       "G6PD    Housekeeping    Endogenous\n",
       "RPL19   Housekeeping    Endogenous\n",
       "POLR1B  Housekeeping    Endogenous\n",
       "ABCF1   Housekeeping    Endogenous\n",
       "ALAS1   Housekeeping    Endogenous"
      ]
     },
     "execution_count": 14,
     "metadata": {},
     "output_type": "execute_result"
    }
   ],
   "source": [
    "cmb_data[code_class_missmatch][['CodeClass_OUR','CodeClass_THR']]"
   ]
  },
  {
   "cell_type": "markdown",
   "metadata": {},
   "source": [
    "Looks like its not too big a deal.  They just added some genes as housekeepers."
   ]
  },
  {
   "cell_type": "markdown",
   "metadata": {},
   "source": [
    "## OK lets get rid of CodeClass and Accession Columns and write to file"
   ]
  },
  {
   "cell_type": "code",
   "execution_count": 15,
   "metadata": {
    "collapsed": false
   },
   "outputs": [],
   "source": [
    "cmb_data_extra_cols = cmb_data[['CodeClass_OUR','Accession_OUR','CodeClass_THR','Accession_THR']].copy()\n",
    "\n",
    "cmb_data = cmb_data.drop(labels=['CodeClass_OUR','Accession_OUR','CodeClass_THR','Accession_THR'],axis=1)"
   ]
  },
  {
   "cell_type": "code",
   "execution_count": 16,
   "metadata": {
    "collapsed": false
   },
   "outputs": [
    {
     "name": "stdout",
     "output_type": "stream",
     "text": [
      "['BWH006_CD14_w0_04' 'BWH008_CD14_w0_09' 'MGH001_CD14_w0_07'\n",
      " 'MGH002_CD14_w0_05' 'MGH004_CD14_w0_09' 'MGH007_CD14_w0_10' 'GSM973583'\n",
      " 'GSM973584' 'GSM973585' 'GSM973586' 'GSM973587' 'GSM973588' 'GSM973589'\n",
      " 'GSM973590' 'GSM973591' 'GSM973592']\n"
     ]
    }
   ],
   "source": [
    "print cmb_data.columns.values"
   ]
  },
  {
   "cell_type": "code",
   "execution_count": 17,
   "metadata": {
    "collapsed": false
   },
   "outputs": [],
   "source": [
    "cmb_data_path = base_path+u\"/combo_nanostring_data.csv\"\n",
    "cmb_data.to_csv(path_or_buf=cmb_data_path, \n",
    "           columns=None, header=True, index=True,)"
   ]
  },
  {
   "cell_type": "markdown",
   "metadata": {},
   "source": [
    "## Write out the target table"
   ]
  },
  {
   "cell_type": "code",
   "execution_count": 18,
   "metadata": {
    "collapsed": false
   },
   "outputs": [
    {
     "data": {
      "text/html": [
       "<div>\n",
       "<table border=\"1\" class=\"dataframe\">\n",
       "  <thead>\n",
       "    <tr style=\"text-align: right;\">\n",
       "      <th></th>\n",
       "      <th>source</th>\n",
       "    </tr>\n",
       "  </thead>\n",
       "  <tbody>\n",
       "    <tr>\n",
       "      <th>BWH006_CD14_w0_04</th>\n",
       "      <td>OURS</td>\n",
       "    </tr>\n",
       "    <tr>\n",
       "      <th>BWH008_CD14_w0_09</th>\n",
       "      <td>OURS</td>\n",
       "    </tr>\n",
       "    <tr>\n",
       "      <th>MGH001_CD14_w0_07</th>\n",
       "      <td>OURS</td>\n",
       "    </tr>\n",
       "    <tr>\n",
       "      <th>MGH002_CD14_w0_05</th>\n",
       "      <td>OURS</td>\n",
       "    </tr>\n",
       "    <tr>\n",
       "      <th>MGH004_CD14_w0_09</th>\n",
       "      <td>OURS</td>\n",
       "    </tr>\n",
       "    <tr>\n",
       "      <th>MGH007_CD14_w0_10</th>\n",
       "      <td>OURS</td>\n",
       "    </tr>\n",
       "    <tr>\n",
       "      <th>GSM973583</th>\n",
       "      <td>THEIRS</td>\n",
       "    </tr>\n",
       "    <tr>\n",
       "      <th>GSM973584</th>\n",
       "      <td>THEIRS</td>\n",
       "    </tr>\n",
       "    <tr>\n",
       "      <th>GSM973585</th>\n",
       "      <td>THEIRS</td>\n",
       "    </tr>\n",
       "    <tr>\n",
       "      <th>GSM973586</th>\n",
       "      <td>THEIRS</td>\n",
       "    </tr>\n",
       "    <tr>\n",
       "      <th>GSM973587</th>\n",
       "      <td>THEIRS</td>\n",
       "    </tr>\n",
       "    <tr>\n",
       "      <th>GSM973588</th>\n",
       "      <td>THEIRS</td>\n",
       "    </tr>\n",
       "    <tr>\n",
       "      <th>GSM973589</th>\n",
       "      <td>THEIRS</td>\n",
       "    </tr>\n",
       "    <tr>\n",
       "      <th>GSM973590</th>\n",
       "      <td>THEIRS</td>\n",
       "    </tr>\n",
       "    <tr>\n",
       "      <th>GSM973591</th>\n",
       "      <td>THEIRS</td>\n",
       "    </tr>\n",
       "    <tr>\n",
       "      <th>GSM973592</th>\n",
       "      <td>THEIRS</td>\n",
       "    </tr>\n",
       "  </tbody>\n",
       "</table>\n",
       "</div>"
      ],
      "text/plain": [
       "                   source\n",
       "BWH006_CD14_w0_04    OURS\n",
       "BWH008_CD14_w0_09    OURS\n",
       "MGH001_CD14_w0_07    OURS\n",
       "MGH002_CD14_w0_05    OURS\n",
       "MGH004_CD14_w0_09    OURS\n",
       "MGH007_CD14_w0_10    OURS\n",
       "GSM973583          THEIRS\n",
       "GSM973584          THEIRS\n",
       "GSM973585          THEIRS\n",
       "GSM973586          THEIRS\n",
       "GSM973587          THEIRS\n",
       "GSM973588          THEIRS\n",
       "GSM973589          THEIRS\n",
       "GSM973590          THEIRS\n",
       "GSM973591          THEIRS\n",
       "GSM973592          THEIRS"
      ]
     },
     "execution_count": 18,
     "metadata": {},
     "output_type": "execute_result"
    }
   ],
   "source": [
    "targets = cmb_data.T.iloc[:,0:2].copy()\n",
    "targets[u'source'] = targets.index.values\n",
    "targets.source = targets.source.apply(lambda i: 'THEIRS' if i.startswith('GSM') else 'OURS' )\n",
    "targets = pd.DataFrame(targets.source)\n",
    "targets"
   ]
  },
  {
   "cell_type": "code",
   "execution_count": 19,
   "metadata": {
    "collapsed": false
   },
   "outputs": [],
   "source": [
    "targets_path = base_path+u\"/targets.csv\"\n",
    "targets.to_csv(path_or_buf=targets_path, \n",
    "           columns=None, header=True, index=True)"
   ]
  },
  {
   "cell_type": "markdown",
   "metadata": {},
   "source": [
    "# EdgeR is used to perform normalization"
   ]
  },
  {
   "cell_type": "code",
   "execution_count": 20,
   "metadata": {
    "collapsed": false
   },
   "outputs": [],
   "source": [
    "x = py(r(u\"\"\"x <- read.delim(\"{PATH}\", sep = ',', row.names=1) \"\"\".format(PATH=cmb_data_path)))\n",
    "\n",
    "# Sort column names\n",
    "x = py(r(u\"\"\" x <- x[,order(colnames(x))] \"\"\"))"
   ]
  },
  {
   "cell_type": "code",
   "execution_count": 21,
   "metadata": {
    "collapsed": false
   },
   "outputs": [
    {
     "name": "stdout",
     "output_type": "stream",
     "text": [
      "         BWH006_CD14_w0_04 BWH008_CD14_w0_09 GSM973583 GSM973584 GSM973585\n",
      "VTN                      1                 0        20        44        36\n",
      "HLA-DQB1                 8                 8       790      4686      4274\n",
      "KIT                      2                 0        42        43        32\n",
      "SOCS3                   11                23      4265      8859      6741\n",
      "TCF7                     0                 1        44        81        59\n",
      "IKBKB                    5                 5       403       668       634\n",
      "         GSM973586 GSM973587 GSM973588 GSM973589 GSM973590 GSM973591 GSM973592\n",
      "VTN             27        22        23         9        22        27        20\n",
      "HLA-DQB1        27        11        16      1778      2381      8212      2225\n",
      "KIT             36        35        27        22        37        29        31\n",
      "SOCS3         5401      4226      2073      3250      6298      3883      4945\n",
      "TCF7           138        38        44        30        58        62        33\n",
      "IKBKB          448       463       276       285       683       638       400\n",
      "         MGH001_CD14_w0_07 MGH002_CD14_w0_05 MGH004_CD14_w0_09\n",
      "VTN                      4                 0                 2\n",
      "HLA-DQB1                 2                11                 0\n",
      "KIT                      3                 1                 3\n",
      "SOCS3                  387                15                 7\n",
      "TCF7                     3                 1                 0\n",
      "IKBKB                   22                 7                17\n",
      "         MGH007_CD14_w0_10\n",
      "VTN                      1\n",
      "HLA-DQB1                 2\n",
      "KIT                      2\n",
      "SOCS3                  206\n",
      "TCF7                     1\n",
      "IKBKB                   61\n",
      "\n"
     ]
    }
   ],
   "source": [
    "print r(u\"head(x)\")"
   ]
  },
  {
   "cell_type": "code",
   "execution_count": 22,
   "metadata": {
    "collapsed": false
   },
   "outputs": [
    {
     "data": {
      "text/html": [
       "<div>\n",
       "<table border=\"1\" class=\"dataframe\">\n",
       "  <thead>\n",
       "    <tr style=\"text-align: right;\">\n",
       "      <th></th>\n",
       "      <th>BWH006_CD14_w0_04</th>\n",
       "      <th>BWH008_CD14_w0_09</th>\n",
       "      <th>GSM973583</th>\n",
       "      <th>GSM973584</th>\n",
       "      <th>GSM973585</th>\n",
       "      <th>GSM973586</th>\n",
       "      <th>GSM973587</th>\n",
       "      <th>GSM973588</th>\n",
       "      <th>GSM973589</th>\n",
       "      <th>GSM973590</th>\n",
       "      <th>GSM973591</th>\n",
       "      <th>GSM973592</th>\n",
       "      <th>MGH001_CD14_w0_07</th>\n",
       "      <th>MGH002_CD14_w0_05</th>\n",
       "      <th>MGH004_CD14_w0_09</th>\n",
       "      <th>MGH007_CD14_w0_10</th>\n",
       "    </tr>\n",
       "  </thead>\n",
       "  <tbody>\n",
       "    <tr>\n",
       "      <th>VTN</th>\n",
       "      <td>1</td>\n",
       "      <td>0</td>\n",
       "      <td>20</td>\n",
       "      <td>44</td>\n",
       "      <td>36</td>\n",
       "      <td>27</td>\n",
       "      <td>22</td>\n",
       "      <td>23</td>\n",
       "      <td>9</td>\n",
       "      <td>22</td>\n",
       "      <td>27</td>\n",
       "      <td>20</td>\n",
       "      <td>4</td>\n",
       "      <td>0</td>\n",
       "      <td>2</td>\n",
       "      <td>1</td>\n",
       "    </tr>\n",
       "    <tr>\n",
       "      <th>HLA-DQB1</th>\n",
       "      <td>8</td>\n",
       "      <td>8</td>\n",
       "      <td>790</td>\n",
       "      <td>4686</td>\n",
       "      <td>4274</td>\n",
       "      <td>27</td>\n",
       "      <td>11</td>\n",
       "      <td>16</td>\n",
       "      <td>1778</td>\n",
       "      <td>2381</td>\n",
       "      <td>8212</td>\n",
       "      <td>2225</td>\n",
       "      <td>2</td>\n",
       "      <td>11</td>\n",
       "      <td>0</td>\n",
       "      <td>2</td>\n",
       "    </tr>\n",
       "    <tr>\n",
       "      <th>KIT</th>\n",
       "      <td>2</td>\n",
       "      <td>0</td>\n",
       "      <td>42</td>\n",
       "      <td>43</td>\n",
       "      <td>32</td>\n",
       "      <td>36</td>\n",
       "      <td>35</td>\n",
       "      <td>27</td>\n",
       "      <td>22</td>\n",
       "      <td>37</td>\n",
       "      <td>29</td>\n",
       "      <td>31</td>\n",
       "      <td>3</td>\n",
       "      <td>1</td>\n",
       "      <td>3</td>\n",
       "      <td>2</td>\n",
       "    </tr>\n",
       "    <tr>\n",
       "      <th>SOCS3</th>\n",
       "      <td>11</td>\n",
       "      <td>23</td>\n",
       "      <td>4265</td>\n",
       "      <td>8859</td>\n",
       "      <td>6741</td>\n",
       "      <td>5401</td>\n",
       "      <td>4226</td>\n",
       "      <td>2073</td>\n",
       "      <td>3250</td>\n",
       "      <td>6298</td>\n",
       "      <td>3883</td>\n",
       "      <td>4945</td>\n",
       "      <td>387</td>\n",
       "      <td>15</td>\n",
       "      <td>7</td>\n",
       "      <td>206</td>\n",
       "    </tr>\n",
       "    <tr>\n",
       "      <th>TCF7</th>\n",
       "      <td>0</td>\n",
       "      <td>1</td>\n",
       "      <td>44</td>\n",
       "      <td>81</td>\n",
       "      <td>59</td>\n",
       "      <td>138</td>\n",
       "      <td>38</td>\n",
       "      <td>44</td>\n",
       "      <td>30</td>\n",
       "      <td>58</td>\n",
       "      <td>62</td>\n",
       "      <td>33</td>\n",
       "      <td>3</td>\n",
       "      <td>1</td>\n",
       "      <td>0</td>\n",
       "      <td>1</td>\n",
       "    </tr>\n",
       "  </tbody>\n",
       "</table>\n",
       "</div>"
      ],
      "text/plain": [
       "          BWH006_CD14_w0_04  BWH008_CD14_w0_09  GSM973583  GSM973584  \\\n",
       "VTN                       1                  0         20         44   \n",
       "HLA-DQB1                  8                  8        790       4686   \n",
       "KIT                       2                  0         42         43   \n",
       "SOCS3                    11                 23       4265       8859   \n",
       "TCF7                      0                  1         44         81   \n",
       "\n",
       "          GSM973585  GSM973586  GSM973587  GSM973588  GSM973589  GSM973590  \\\n",
       "VTN              36         27         22         23          9         22   \n",
       "HLA-DQB1       4274         27         11         16       1778       2381   \n",
       "KIT              32         36         35         27         22         37   \n",
       "SOCS3          6741       5401       4226       2073       3250       6298   \n",
       "TCF7             59        138         38         44         30         58   \n",
       "\n",
       "          GSM973591  GSM973592  MGH001_CD14_w0_07  MGH002_CD14_w0_05  \\\n",
       "VTN              27         20                  4                  0   \n",
       "HLA-DQB1       8212       2225                  2                 11   \n",
       "KIT              29         31                  3                  1   \n",
       "SOCS3          3883       4945                387                 15   \n",
       "TCF7             62         33                  3                  1   \n",
       "\n",
       "          MGH004_CD14_w0_09  MGH007_CD14_w0_10  \n",
       "VTN                       2                  1  \n",
       "HLA-DQB1                  0                  2  \n",
       "KIT                       3                  2  \n",
       "SOCS3                     7                206  \n",
       "TCF7                      0                  1  "
      ]
     },
     "execution_count": 22,
     "metadata": {},
     "output_type": "execute_result"
    }
   ],
   "source": [
    "x.head()"
   ]
  },
  {
   "cell_type": "code",
   "execution_count": 23,
   "metadata": {
    "collapsed": false
   },
   "outputs": [
    {
     "data": {
      "text/plain": [
       "<ListVector - Python:0x7f4e83007680 / R:0x7f55f30>\n",
       "[Matrix, DataFrame]\n",
       "  counts: <class 'rpy2.robjects.vectors.Matrix'>\n",
       "  <Matrix - Python:0x7f4e82f8a368 / R:0x7f6d120>\n",
       "[       1,        8,        2, ...,       12,       66,       16]\n",
       "<ListVector - Python:0x7f4e83007680 / R:0x7f55f30>\n",
       "[Matrix, DataFrame]"
      ]
     },
     "execution_count": 23,
     "metadata": {},
     "output_type": "execute_result"
    }
   ],
   "source": [
    "r(\"\"\"# read in target annotations for the design matrix stuff later\n",
    "targets <- read.table(\"{PATH}\",sep = ',', header = TRUE, row.names = 1)\n",
    "#targets <- targets[order(rownames(targets)),]\n",
    "targets <- lapply(targets,factor)\n",
    "\n",
    "# create the DEGList object\n",
    "y <- DGEList(counts=x,group=targets$source)\n",
    "\n",
    "\n",
    "# Filter for counts\n",
    "#keep <- rowSums(y>30) >= 2\n",
    "#y <- y[keep, , keep.lib.sizes=FALSE]\n",
    "\n",
    "# TMM normalization factors\n",
    "y <- calcNormFactors(y)\n",
    "\"\"\".format(PATH=targets_path))"
   ]
  },
  {
   "cell_type": "code",
   "execution_count": 24,
   "metadata": {
    "collapsed": false
   },
   "outputs": [],
   "source": [
    "n = py(r(\"n <- cpm(y)\"))\n",
    "n_rows = py(r(\"rownames(n)\"))\n",
    "n_cols = py(r(\"colnames(n)\"))"
   ]
  },
  {
   "cell_type": "code",
   "execution_count": 25,
   "metadata": {
    "collapsed": false
   },
   "outputs": [],
   "source": [
    "y_norm = pd.DataFrame(n, columns=n_cols, index=n_rows)"
   ]
  },
  {
   "cell_type": "code",
   "execution_count": 26,
   "metadata": {
    "collapsed": false
   },
   "outputs": [
    {
     "data": {
      "text/html": [
       "<div>\n",
       "<table border=\"1\" class=\"dataframe\">\n",
       "  <thead>\n",
       "    <tr style=\"text-align: right;\">\n",
       "      <th></th>\n",
       "      <th>VTN</th>\n",
       "      <th>HLA-DQB1</th>\n",
       "      <th>KIT</th>\n",
       "      <th>SOCS3</th>\n",
       "      <th>TCF7</th>\n",
       "      <th>IKBKB</th>\n",
       "      <th>ITGA6</th>\n",
       "      <th>CXCR4</th>\n",
       "      <th>NFKBIZ</th>\n",
       "      <th>MAPK14</th>\n",
       "      <th>...</th>\n",
       "      <th>HPRT1</th>\n",
       "      <th>GAPDH</th>\n",
       "      <th>SDHA</th>\n",
       "      <th>OAZ1</th>\n",
       "      <th>PPIA</th>\n",
       "      <th>G6PD</th>\n",
       "      <th>RPL19</th>\n",
       "      <th>POLR1B</th>\n",
       "      <th>ABCF1</th>\n",
       "      <th>ALAS1</th>\n",
       "    </tr>\n",
       "  </thead>\n",
       "  <tbody>\n",
       "    <tr>\n",
       "      <th>BWH006_CD14_w0_04</th>\n",
       "      <td>82.417245</td>\n",
       "      <td>659.337962</td>\n",
       "      <td>164.834491</td>\n",
       "      <td>906.589698</td>\n",
       "      <td>0.000000</td>\n",
       "      <td>412.086226</td>\n",
       "      <td>82.417245</td>\n",
       "      <td>1318.675925</td>\n",
       "      <td>1071.424189</td>\n",
       "      <td>1153.841434</td>\n",
       "      <td>...</td>\n",
       "      <td>0.000000</td>\n",
       "      <td>8076.890039</td>\n",
       "      <td>164.834491</td>\n",
       "      <td>3956.027774</td>\n",
       "      <td>412.086226</td>\n",
       "      <td>329.668981</td>\n",
       "      <td>6016.458907</td>\n",
       "      <td>0.000000</td>\n",
       "      <td>494.503472</td>\n",
       "      <td>247.251736</td>\n",
       "    </tr>\n",
       "    <tr>\n",
       "      <th>BWH008_CD14_w0_09</th>\n",
       "      <td>0.000000</td>\n",
       "      <td>365.973097</td>\n",
       "      <td>0.000000</td>\n",
       "      <td>1052.172653</td>\n",
       "      <td>45.746637</td>\n",
       "      <td>228.733186</td>\n",
       "      <td>137.239911</td>\n",
       "      <td>914.932742</td>\n",
       "      <td>1235.159202</td>\n",
       "      <td>869.186105</td>\n",
       "      <td>...</td>\n",
       "      <td>503.213008</td>\n",
       "      <td>6953.488840</td>\n",
       "      <td>137.239911</td>\n",
       "      <td>3934.210791</td>\n",
       "      <td>228.733186</td>\n",
       "      <td>594.706282</td>\n",
       "      <td>9195.074058</td>\n",
       "      <td>45.746637</td>\n",
       "      <td>274.479823</td>\n",
       "      <td>274.479823</td>\n",
       "    </tr>\n",
       "    <tr>\n",
       "      <th>GSM973583</th>\n",
       "      <td>16.217750</td>\n",
       "      <td>640.601109</td>\n",
       "      <td>34.057274</td>\n",
       "      <td>3458.435099</td>\n",
       "      <td>35.679049</td>\n",
       "      <td>326.787654</td>\n",
       "      <td>38.922599</td>\n",
       "      <td>10269.079036</td>\n",
       "      <td>4452.583148</td>\n",
       "      <td>1630.694721</td>\n",
       "      <td>...</td>\n",
       "      <td>350.303391</td>\n",
       "      <td>7798.304887</td>\n",
       "      <td>377.873565</td>\n",
       "      <td>8541.077818</td>\n",
       "      <td>281.377955</td>\n",
       "      <td>968.199650</td>\n",
       "      <td>15899.881691</td>\n",
       "      <td>52.707686</td>\n",
       "      <td>525.455086</td>\n",
       "      <td>96.495610</td>\n",
       "    </tr>\n",
       "    <tr>\n",
       "      <th>GSM973584</th>\n",
       "      <td>22.348144</td>\n",
       "      <td>2380.077368</td>\n",
       "      <td>21.840232</td>\n",
       "      <td>4499.595691</td>\n",
       "      <td>41.140902</td>\n",
       "      <td>339.285464</td>\n",
       "      <td>25.903531</td>\n",
       "      <td>12075.616609</td>\n",
       "      <td>5085.726566</td>\n",
       "      <td>1689.824457</td>\n",
       "      <td>...</td>\n",
       "      <td>380.934278</td>\n",
       "      <td>8397.315222</td>\n",
       "      <td>380.934278</td>\n",
       "      <td>8284.050763</td>\n",
       "      <td>336.237989</td>\n",
       "      <td>883.259612</td>\n",
       "      <td>19958.416600</td>\n",
       "      <td>50.791237</td>\n",
       "      <td>536.863376</td>\n",
       "      <td>77.710593</td>\n",
       "    </tr>\n",
       "    <tr>\n",
       "      <th>GSM973585</th>\n",
       "      <td>17.891785</td>\n",
       "      <td>2124.152441</td>\n",
       "      <td>15.903809</td>\n",
       "      <td>3350.236687</td>\n",
       "      <td>29.322647</td>\n",
       "      <td>315.094209</td>\n",
       "      <td>26.340683</td>\n",
       "      <td>12230.028839</td>\n",
       "      <td>5401.828001</td>\n",
       "      <td>1684.809727</td>\n",
       "      <td>...</td>\n",
       "      <td>400.577180</td>\n",
       "      <td>9025.908393</td>\n",
       "      <td>445.306642</td>\n",
       "      <td>9821.098825</td>\n",
       "      <td>259.927872</td>\n",
       "      <td>1080.961993</td>\n",
       "      <td>19488.626498</td>\n",
       "      <td>79.022049</td>\n",
       "      <td>528.304643</td>\n",
       "      <td>88.464936</td>\n",
       "    </tr>\n",
       "    <tr>\n",
       "      <th>GSM973586</th>\n",
       "      <td>15.402530</td>\n",
       "      <td>15.402530</td>\n",
       "      <td>20.536706</td>\n",
       "      <td>3081.076401</td>\n",
       "      <td>78.724041</td>\n",
       "      <td>255.567900</td>\n",
       "      <td>39.932484</td>\n",
       "      <td>11833.136045</td>\n",
       "      <td>4929.379963</td>\n",
       "      <td>1287.537389</td>\n",
       "      <td>...</td>\n",
       "      <td>370.801641</td>\n",
       "      <td>6354.969654</td>\n",
       "      <td>406.170412</td>\n",
       "      <td>7532.407479</td>\n",
       "      <td>308.050594</td>\n",
       "      <td>966.936586</td>\n",
       "      <td>17311.872899</td>\n",
       "      <td>60.469191</td>\n",
       "      <td>628.651397</td>\n",
       "      <td>78.724041</td>\n",
       "    </tr>\n",
       "    <tr>\n",
       "      <th>GSM973587</th>\n",
       "      <td>26.836878</td>\n",
       "      <td>13.418439</td>\n",
       "      <td>42.695032</td>\n",
       "      <td>5155.120200</td>\n",
       "      <td>46.354607</td>\n",
       "      <td>564.794286</td>\n",
       "      <td>51.234039</td>\n",
       "      <td>8625.616407</td>\n",
       "      <td>5290.524446</td>\n",
       "      <td>1780.992781</td>\n",
       "      <td>...</td>\n",
       "      <td>308.624091</td>\n",
       "      <td>4479.318830</td>\n",
       "      <td>347.659550</td>\n",
       "      <td>2903.262205</td>\n",
       "      <td>296.425511</td>\n",
       "      <td>1124.709140</td>\n",
       "      <td>22086.750200</td>\n",
       "      <td>57.333329</td>\n",
       "      <td>763.631151</td>\n",
       "      <td>103.687936</td>\n",
       "    </tr>\n",
       "    <tr>\n",
       "      <th>GSM973588</th>\n",
       "      <td>31.527005</td>\n",
       "      <td>21.931830</td>\n",
       "      <td>37.009963</td>\n",
       "      <td>2841.542696</td>\n",
       "      <td>60.312532</td>\n",
       "      <td>378.324064</td>\n",
       "      <td>46.605138</td>\n",
       "      <td>12447.684138</td>\n",
       "      <td>3805.172466</td>\n",
       "      <td>1237.777643</td>\n",
       "      <td>...</td>\n",
       "      <td>357.762973</td>\n",
       "      <td>7129.215417</td>\n",
       "      <td>385.177760</td>\n",
       "      <td>6622.041854</td>\n",
       "      <td>376.953324</td>\n",
       "      <td>816.960659</td>\n",
       "      <td>17727.772157</td>\n",
       "      <td>52.088096</td>\n",
       "      <td>540.071308</td>\n",
       "      <td>76.761404</td>\n",
       "    </tr>\n",
       "    <tr>\n",
       "      <th>GSM973589</th>\n",
       "      <td>8.904809</td>\n",
       "      <td>1759.194485</td>\n",
       "      <td>21.767311</td>\n",
       "      <td>3215.625465</td>\n",
       "      <td>29.682697</td>\n",
       "      <td>281.985618</td>\n",
       "      <td>33.640389</td>\n",
       "      <td>13532.341379</td>\n",
       "      <td>5238.006526</td>\n",
       "      <td>1311.975190</td>\n",
       "      <td>...</td>\n",
       "      <td>374.991400</td>\n",
       "      <td>8189.455991</td>\n",
       "      <td>393.790442</td>\n",
       "      <td>8465.505070</td>\n",
       "      <td>336.403895</td>\n",
       "      <td>1002.285722</td>\n",
       "      <td>18032.238183</td>\n",
       "      <td>41.555775</td>\n",
       "      <td>593.653932</td>\n",
       "      <td>82.122127</td>\n",
       "    </tr>\n",
       "    <tr>\n",
       "      <th>GSM973590</th>\n",
       "      <td>10.494373</td>\n",
       "      <td>1135.777395</td>\n",
       "      <td>17.649628</td>\n",
       "      <td>3004.252850</td>\n",
       "      <td>27.666984</td>\n",
       "      <td>325.802588</td>\n",
       "      <td>17.172611</td>\n",
       "      <td>13825.859735</td>\n",
       "      <td>5801.003320</td>\n",
       "      <td>1410.539168</td>\n",
       "      <td>...</td>\n",
       "      <td>396.401099</td>\n",
       "      <td>7343.676188</td>\n",
       "      <td>383.521640</td>\n",
       "      <td>8141.248554</td>\n",
       "      <td>386.860759</td>\n",
       "      <td>989.333187</td>\n",
       "      <td>20398.199489</td>\n",
       "      <td>53.425900</td>\n",
       "      <td>641.110802</td>\n",
       "      <td>61.058172</td>\n",
       "    </tr>\n",
       "    <tr>\n",
       "      <th>GSM973591</th>\n",
       "      <td>13.540679</td>\n",
       "      <td>4118.372427</td>\n",
       "      <td>14.543692</td>\n",
       "      <td>1947.350236</td>\n",
       "      <td>31.093411</td>\n",
       "      <td>319.961229</td>\n",
       "      <td>19.057252</td>\n",
       "      <td>12774.878329</td>\n",
       "      <td>4442.345709</td>\n",
       "      <td>1690.077336</td>\n",
       "      <td>...</td>\n",
       "      <td>442.328846</td>\n",
       "      <td>10558.219034</td>\n",
       "      <td>511.035254</td>\n",
       "      <td>9596.329322</td>\n",
       "      <td>378.135997</td>\n",
       "      <td>1099.302528</td>\n",
       "      <td>21227.271033</td>\n",
       "      <td>63.189835</td>\n",
       "      <td>549.149757</td>\n",
       "      <td>81.745580</td>\n",
       "    </tr>\n",
       "    <tr>\n",
       "      <th>GSM973592</th>\n",
       "      <td>15.717497</td>\n",
       "      <td>1748.571574</td>\n",
       "      <td>24.362121</td>\n",
       "      <td>3886.151207</td>\n",
       "      <td>25.933871</td>\n",
       "      <td>314.349946</td>\n",
       "      <td>30.649120</td>\n",
       "      <td>10893.797376</td>\n",
       "      <td>4694.816442</td>\n",
       "      <td>1404.358383</td>\n",
       "      <td>...</td>\n",
       "      <td>385.864559</td>\n",
       "      <td>8784.509239</td>\n",
       "      <td>521.035035</td>\n",
       "      <td>9428.140753</td>\n",
       "      <td>314.349946</td>\n",
       "      <td>1127.730431</td>\n",
       "      <td>18684.174911</td>\n",
       "      <td>58.154740</td>\n",
       "      <td>683.711132</td>\n",
       "      <td>106.093107</td>\n",
       "    </tr>\n",
       "    <tr>\n",
       "      <th>MGH001_CD14_w0_07</th>\n",
       "      <td>29.456414</td>\n",
       "      <td>14.728207</td>\n",
       "      <td>22.092310</td>\n",
       "      <td>2849.908041</td>\n",
       "      <td>22.092310</td>\n",
       "      <td>162.010276</td>\n",
       "      <td>73.641035</td>\n",
       "      <td>3608.410698</td>\n",
       "      <td>832.143692</td>\n",
       "      <td>1192.984762</td>\n",
       "      <td>...</td>\n",
       "      <td>419.753898</td>\n",
       "      <td>16812.248213</td>\n",
       "      <td>279.835932</td>\n",
       "      <td>5412.616048</td>\n",
       "      <td>265.107725</td>\n",
       "      <td>618.584691</td>\n",
       "      <td>12526.339996</td>\n",
       "      <td>95.733345</td>\n",
       "      <td>338.748759</td>\n",
       "      <td>324.020553</td>\n",
       "    </tr>\n",
       "    <tr>\n",
       "      <th>MGH002_CD14_w0_05</th>\n",
       "      <td>0.000000</td>\n",
       "      <td>624.045224</td>\n",
       "      <td>56.731384</td>\n",
       "      <td>850.970760</td>\n",
       "      <td>56.731384</td>\n",
       "      <td>397.119688</td>\n",
       "      <td>113.462768</td>\n",
       "      <td>1418.284600</td>\n",
       "      <td>680.776608</td>\n",
       "      <td>1191.359064</td>\n",
       "      <td>...</td>\n",
       "      <td>340.388304</td>\n",
       "      <td>12253.978944</td>\n",
       "      <td>226.925536</td>\n",
       "      <td>4878.899024</td>\n",
       "      <td>226.925536</td>\n",
       "      <td>624.045224</td>\n",
       "      <td>10949.157112</td>\n",
       "      <td>56.731384</td>\n",
       "      <td>397.119688</td>\n",
       "      <td>0.000000</td>\n",
       "    </tr>\n",
       "    <tr>\n",
       "      <th>MGH004_CD14_w0_09</th>\n",
       "      <td>44.899522</td>\n",
       "      <td>0.000000</td>\n",
       "      <td>67.349283</td>\n",
       "      <td>157.148328</td>\n",
       "      <td>0.000000</td>\n",
       "      <td>381.645938</td>\n",
       "      <td>44.899522</td>\n",
       "      <td>695.942594</td>\n",
       "      <td>561.244027</td>\n",
       "      <td>1391.885187</td>\n",
       "      <td>...</td>\n",
       "      <td>516.344505</td>\n",
       "      <td>8979.904435</td>\n",
       "      <td>246.947372</td>\n",
       "      <td>3973.607712</td>\n",
       "      <td>134.698567</td>\n",
       "      <td>493.894744</td>\n",
       "      <td>11696.325526</td>\n",
       "      <td>112.248805</td>\n",
       "      <td>359.196177</td>\n",
       "      <td>89.799044</td>\n",
       "    </tr>\n",
       "    <tr>\n",
       "      <th>MGH007_CD14_w0_10</th>\n",
       "      <td>6.836653</td>\n",
       "      <td>13.673305</td>\n",
       "      <td>13.673305</td>\n",
       "      <td>1408.350428</td>\n",
       "      <td>6.836653</td>\n",
       "      <td>417.035806</td>\n",
       "      <td>47.856568</td>\n",
       "      <td>3390.979671</td>\n",
       "      <td>1893.752760</td>\n",
       "      <td>1251.107419</td>\n",
       "      <td>...</td>\n",
       "      <td>328.159323</td>\n",
       "      <td>13632.285211</td>\n",
       "      <td>362.342586</td>\n",
       "      <td>5900.031162</td>\n",
       "      <td>191.426272</td>\n",
       "      <td>553.768858</td>\n",
       "      <td>11383.026518</td>\n",
       "      <td>82.039831</td>\n",
       "      <td>451.219069</td>\n",
       "      <td>109.386441</td>\n",
       "    </tr>\n",
       "  </tbody>\n",
       "</table>\n",
       "<p>16 rows × 520 columns</p>\n",
       "</div>"
      ],
      "text/plain": [
       "                         VTN     HLA-DQB1         KIT        SOCS3       TCF7  \\\n",
       "BWH006_CD14_w0_04  82.417245   659.337962  164.834491   906.589698   0.000000   \n",
       "BWH008_CD14_w0_09   0.000000   365.973097    0.000000  1052.172653  45.746637   \n",
       "GSM973583          16.217750   640.601109   34.057274  3458.435099  35.679049   \n",
       "GSM973584          22.348144  2380.077368   21.840232  4499.595691  41.140902   \n",
       "GSM973585          17.891785  2124.152441   15.903809  3350.236687  29.322647   \n",
       "GSM973586          15.402530    15.402530   20.536706  3081.076401  78.724041   \n",
       "GSM973587          26.836878    13.418439   42.695032  5155.120200  46.354607   \n",
       "GSM973588          31.527005    21.931830   37.009963  2841.542696  60.312532   \n",
       "GSM973589           8.904809  1759.194485   21.767311  3215.625465  29.682697   \n",
       "GSM973590          10.494373  1135.777395   17.649628  3004.252850  27.666984   \n",
       "GSM973591          13.540679  4118.372427   14.543692  1947.350236  31.093411   \n",
       "GSM973592          15.717497  1748.571574   24.362121  3886.151207  25.933871   \n",
       "MGH001_CD14_w0_07  29.456414    14.728207   22.092310  2849.908041  22.092310   \n",
       "MGH002_CD14_w0_05   0.000000   624.045224   56.731384   850.970760  56.731384   \n",
       "MGH004_CD14_w0_09  44.899522     0.000000   67.349283   157.148328   0.000000   \n",
       "MGH007_CD14_w0_10   6.836653    13.673305   13.673305  1408.350428   6.836653   \n",
       "\n",
       "                        IKBKB       ITGA6         CXCR4       NFKBIZ  \\\n",
       "BWH006_CD14_w0_04  412.086226   82.417245   1318.675925  1071.424189   \n",
       "BWH008_CD14_w0_09  228.733186  137.239911    914.932742  1235.159202   \n",
       "GSM973583          326.787654   38.922599  10269.079036  4452.583148   \n",
       "GSM973584          339.285464   25.903531  12075.616609  5085.726566   \n",
       "GSM973585          315.094209   26.340683  12230.028839  5401.828001   \n",
       "GSM973586          255.567900   39.932484  11833.136045  4929.379963   \n",
       "GSM973587          564.794286   51.234039   8625.616407  5290.524446   \n",
       "GSM973588          378.324064   46.605138  12447.684138  3805.172466   \n",
       "GSM973589          281.985618   33.640389  13532.341379  5238.006526   \n",
       "GSM973590          325.802588   17.172611  13825.859735  5801.003320   \n",
       "GSM973591          319.961229   19.057252  12774.878329  4442.345709   \n",
       "GSM973592          314.349946   30.649120  10893.797376  4694.816442   \n",
       "MGH001_CD14_w0_07  162.010276   73.641035   3608.410698   832.143692   \n",
       "MGH002_CD14_w0_05  397.119688  113.462768   1418.284600   680.776608   \n",
       "MGH004_CD14_w0_09  381.645938   44.899522    695.942594   561.244027   \n",
       "MGH007_CD14_w0_10  417.035806   47.856568   3390.979671  1893.752760   \n",
       "\n",
       "                        MAPK14     ...           HPRT1         GAPDH  \\\n",
       "BWH006_CD14_w0_04  1153.841434     ...        0.000000   8076.890039   \n",
       "BWH008_CD14_w0_09   869.186105     ...      503.213008   6953.488840   \n",
       "GSM973583          1630.694721     ...      350.303391   7798.304887   \n",
       "GSM973584          1689.824457     ...      380.934278   8397.315222   \n",
       "GSM973585          1684.809727     ...      400.577180   9025.908393   \n",
       "GSM973586          1287.537389     ...      370.801641   6354.969654   \n",
       "GSM973587          1780.992781     ...      308.624091   4479.318830   \n",
       "GSM973588          1237.777643     ...      357.762973   7129.215417   \n",
       "GSM973589          1311.975190     ...      374.991400   8189.455991   \n",
       "GSM973590          1410.539168     ...      396.401099   7343.676188   \n",
       "GSM973591          1690.077336     ...      442.328846  10558.219034   \n",
       "GSM973592          1404.358383     ...      385.864559   8784.509239   \n",
       "MGH001_CD14_w0_07  1192.984762     ...      419.753898  16812.248213   \n",
       "MGH002_CD14_w0_05  1191.359064     ...      340.388304  12253.978944   \n",
       "MGH004_CD14_w0_09  1391.885187     ...      516.344505   8979.904435   \n",
       "MGH007_CD14_w0_10  1251.107419     ...      328.159323  13632.285211   \n",
       "\n",
       "                         SDHA         OAZ1        PPIA         G6PD  \\\n",
       "BWH006_CD14_w0_04  164.834491  3956.027774  412.086226   329.668981   \n",
       "BWH008_CD14_w0_09  137.239911  3934.210791  228.733186   594.706282   \n",
       "GSM973583          377.873565  8541.077818  281.377955   968.199650   \n",
       "GSM973584          380.934278  8284.050763  336.237989   883.259612   \n",
       "GSM973585          445.306642  9821.098825  259.927872  1080.961993   \n",
       "GSM973586          406.170412  7532.407479  308.050594   966.936586   \n",
       "GSM973587          347.659550  2903.262205  296.425511  1124.709140   \n",
       "GSM973588          385.177760  6622.041854  376.953324   816.960659   \n",
       "GSM973589          393.790442  8465.505070  336.403895  1002.285722   \n",
       "GSM973590          383.521640  8141.248554  386.860759   989.333187   \n",
       "GSM973591          511.035254  9596.329322  378.135997  1099.302528   \n",
       "GSM973592          521.035035  9428.140753  314.349946  1127.730431   \n",
       "MGH001_CD14_w0_07  279.835932  5412.616048  265.107725   618.584691   \n",
       "MGH002_CD14_w0_05  226.925536  4878.899024  226.925536   624.045224   \n",
       "MGH004_CD14_w0_09  246.947372  3973.607712  134.698567   493.894744   \n",
       "MGH007_CD14_w0_10  362.342586  5900.031162  191.426272   553.768858   \n",
       "\n",
       "                          RPL19      POLR1B       ABCF1       ALAS1  \n",
       "BWH006_CD14_w0_04   6016.458907    0.000000  494.503472  247.251736  \n",
       "BWH008_CD14_w0_09   9195.074058   45.746637  274.479823  274.479823  \n",
       "GSM973583          15899.881691   52.707686  525.455086   96.495610  \n",
       "GSM973584          19958.416600   50.791237  536.863376   77.710593  \n",
       "GSM973585          19488.626498   79.022049  528.304643   88.464936  \n",
       "GSM973586          17311.872899   60.469191  628.651397   78.724041  \n",
       "GSM973587          22086.750200   57.333329  763.631151  103.687936  \n",
       "GSM973588          17727.772157   52.088096  540.071308   76.761404  \n",
       "GSM973589          18032.238183   41.555775  593.653932   82.122127  \n",
       "GSM973590          20398.199489   53.425900  641.110802   61.058172  \n",
       "GSM973591          21227.271033   63.189835  549.149757   81.745580  \n",
       "GSM973592          18684.174911   58.154740  683.711132  106.093107  \n",
       "MGH001_CD14_w0_07  12526.339996   95.733345  338.748759  324.020553  \n",
       "MGH002_CD14_w0_05  10949.157112   56.731384  397.119688    0.000000  \n",
       "MGH004_CD14_w0_09  11696.325526  112.248805  359.196177   89.799044  \n",
       "MGH007_CD14_w0_10  11383.026518   82.039831  451.219069  109.386441  \n",
       "\n",
       "[16 rows x 520 columns]"
      ]
     },
     "execution_count": 26,
     "metadata": {},
     "output_type": "execute_result"
    }
   ],
   "source": [
    "y_norm.T"
   ]
  },
  {
   "cell_type": "code",
   "execution_count": 27,
   "metadata": {
    "collapsed": false
   },
   "outputs": [],
   "source": [
    "cmb_cpm = pd.merge(left=targets, right=y_norm.T, \n",
    "                   how='inner', on=None, \n",
    "                   left_on=None, right_on=None, \n",
    "                   left_index=True, right_index=True, \n",
    "                   sort=False, suffixes=('_x', '_y'), copy=True, indicator=False)"
   ]
  },
  {
   "cell_type": "code",
   "execution_count": 28,
   "metadata": {
    "collapsed": false
   },
   "outputs": [],
   "source": [
    "cmb_cpm_mean = cmb_cpm.groupby('source').mean()\n",
    "cmb_cpm_mean = cmb_cpm_mean.T"
   ]
  },
  {
   "cell_type": "code",
   "execution_count": 29,
   "metadata": {
    "collapsed": false
   },
   "outputs": [
    {
     "name": "stderr",
     "output_type": "stream",
     "text": [
      "/home/gus/anaconda2/envs/stack2/lib/python2.7/site-packages/matplotlib/collections.py:590: FutureWarning: elementwise comparison failed; returning scalar instead, but in the future will perform elementwise comparison\n",
      "  if self._edgecolors == str('face'):\n"
     ]
    },
    {
     "data": {
      "image/png": "[encoded data removed]",
      "text/plain": [
       "<matplotlib.figure.Figure at 0x7f4e83068050>"
      ]
     },
     "metadata": {},
     "output_type": "display_data"
    }
   ],
   "source": [
    "sns.jointplot(x='OURS', y='THEIRS',\n",
    "              data=np.log10(cmb_cpm_mean+1), kind='scatter',\n",
    "             );\n",
    "\n",
    "plt.suptitle(\"Comparison of our {cell} Nanostring data vs published.\".format(cell=cell_type), y=1,);"
   ]
  },
  {
   "cell_type": "markdown",
   "metadata": {},
   "source": [
    "### Lets look at the external controls"
   ]
  },
  {
   "cell_type": "code",
   "execution_count": 30,
   "metadata": {
    "collapsed": false
   },
   "outputs": [
    {
     "data": {
      "text/html": [
       "<div>\n",
       "<table border=\"1\" class=\"dataframe\">\n",
       "  <thead>\n",
       "    <tr style=\"text-align: right;\">\n",
       "      <th></th>\n",
       "      <th>CodeClass_OUR</th>\n",
       "      <th>Accession_OUR</th>\n",
       "      <th>CodeClass_THR</th>\n",
       "      <th>Accession_THR</th>\n",
       "    </tr>\n",
       "  </thead>\n",
       "  <tbody>\n",
       "    <tr>\n",
       "      <th>VTN</th>\n",
       "      <td>Endogenous</td>\n",
       "      <td>NM_000638.3</td>\n",
       "      <td>Endogenous</td>\n",
       "      <td>NM_000638.3</td>\n",
       "    </tr>\n",
       "    <tr>\n",
       "      <th>HLA-DQB1</th>\n",
       "      <td>Endogenous</td>\n",
       "      <td>NM_002123.3</td>\n",
       "      <td>Endogenous</td>\n",
       "      <td>NM_002123.3</td>\n",
       "    </tr>\n",
       "    <tr>\n",
       "      <th>KIT</th>\n",
       "      <td>Endogenous</td>\n",
       "      <td>NM_000222.2</td>\n",
       "      <td>Endogenous</td>\n",
       "      <td>NM_000222.1</td>\n",
       "    </tr>\n",
       "    <tr>\n",
       "      <th>SOCS3</th>\n",
       "      <td>Endogenous</td>\n",
       "      <td>NM_003955.3</td>\n",
       "      <td>Endogenous</td>\n",
       "      <td>NM_003955.3</td>\n",
       "    </tr>\n",
       "    <tr>\n",
       "      <th>TCF7</th>\n",
       "      <td>Endogenous</td>\n",
       "      <td>NM_003202.2</td>\n",
       "      <td>Endogenous</td>\n",
       "      <td>NM_003202.2</td>\n",
       "    </tr>\n",
       "  </tbody>\n",
       "</table>\n",
       "</div>"
      ],
      "text/plain": [
       "         CodeClass_OUR Accession_OUR CodeClass_THR Accession_THR\n",
       "VTN         Endogenous   NM_000638.3    Endogenous   NM_000638.3\n",
       "HLA-DQB1    Endogenous   NM_002123.3    Endogenous   NM_002123.3\n",
       "KIT         Endogenous   NM_000222.2    Endogenous   NM_000222.1\n",
       "SOCS3       Endogenous   NM_003955.3    Endogenous   NM_003955.3\n",
       "TCF7        Endogenous   NM_003202.2    Endogenous   NM_003202.2"
      ]
     },
     "execution_count": 30,
     "metadata": {},
     "output_type": "execute_result"
    }
   ],
   "source": [
    "cmb_data_extra_cols.head()"
   ]
  },
  {
   "cell_type": "code",
   "execution_count": 31,
   "metadata": {
    "collapsed": false
   },
   "outputs": [
    {
     "data": {
      "text/plain": [
       "array(['Endogenous', 'Positive', 'Negative', 'Housekeeping'], dtype=object)"
      ]
     },
     "execution_count": 31,
     "metadata": {},
     "output_type": "execute_result"
    }
   ],
   "source": [
    "cmb_data_extra_cols.CodeClass_OUR.unique()"
   ]
  },
  {
   "cell_type": "code",
   "execution_count": 32,
   "metadata": {
    "collapsed": false
   },
   "outputs": [
    {
     "data": {
      "text/plain": [
       "array(['Endogenous', 'Positive', 'Negative'], dtype=object)"
      ]
     },
     "execution_count": 32,
     "metadata": {},
     "output_type": "execute_result"
    }
   ],
   "source": [
    "cmb_data_extra_cols.CodeClass_THR.unique()"
   ]
  },
  {
   "cell_type": "code",
   "execution_count": 33,
   "metadata": {
    "collapsed": false
   },
   "outputs": [],
   "source": [
    "pos_ctrl = list(cmb_data_extra_cols.query(\"\"\" CodeClass_OUR == \"Positive\" \"\"\").index.values)\n",
    "neg_ctrl = list(cmb_data_extra_cols.query(\"\"\" CodeClass_OUR == \"Negative\" \"\"\").index.values)\n",
    "hsk_gene = list(cmb_data_extra_cols.query(\"\"\" CodeClass_OUR == \"Housekeeping\" \"\"\").index.values)\n",
    "bth_ctrl = pos_ctrl + neg_ctrl\n",
    "pan_gene = list(cmb_data_extra_cols[cmb_data_extra_cols.CodeClass_OUR.apply(lambda i: i in ['Housekeeping','Endogenous'])].index.values)"
   ]
  },
  {
   "cell_type": "code",
   "execution_count": 34,
   "metadata": {
    "collapsed": false
   },
   "outputs": [
    {
     "data": {
      "text/plain": [
       "['POS_C(8)',\n",
       " 'POS_A(128)',\n",
       " 'POS_F(0.125)',\n",
       " 'POS_D(2)',\n",
       " 'POS_B(32)',\n",
       " 'POS_E(0.5)',\n",
       " 'NEG_C(0)',\n",
       " 'NEG_D(0)',\n",
       " 'NEG_E(0)',\n",
       " 'NEG_A(0)',\n",
       " 'NEG_H(0)',\n",
       " 'NEG_G(0)',\n",
       " 'NEG_F(0)',\n",
       " 'NEG_B(0)']"
      ]
     },
     "execution_count": 34,
     "metadata": {},
     "output_type": "execute_result"
    }
   ],
   "source": [
    "bth_ctrl"
   ]
  },
  {
   "cell_type": "code",
   "execution_count": 35,
   "metadata": {
    "collapsed": false
   },
   "outputs": [
    {
     "data": {
      "text/html": [
       "<div>\n",
       "<table border=\"1\" class=\"dataframe\">\n",
       "  <thead>\n",
       "    <tr style=\"text-align: right;\">\n",
       "      <th>source</th>\n",
       "      <th>OURS</th>\n",
       "      <th>THEIRS</th>\n",
       "    </tr>\n",
       "  </thead>\n",
       "  <tbody>\n",
       "    <tr>\n",
       "      <th>VTN</th>\n",
       "      <td>27.268306</td>\n",
       "      <td>17.888145</td>\n",
       "    </tr>\n",
       "    <tr>\n",
       "      <th>HLA-DQB1</th>\n",
       "      <td>279.626299</td>\n",
       "      <td>1395.749960</td>\n",
       "    </tr>\n",
       "    <tr>\n",
       "      <th>KIT</th>\n",
       "      <td>54.113462</td>\n",
       "      <td>25.036577</td>\n",
       "    </tr>\n",
       "    <tr>\n",
       "      <th>SOCS3</th>\n",
       "      <td>1204.189985</td>\n",
       "      <td>3443.938653</td>\n",
       "    </tr>\n",
       "    <tr>\n",
       "      <th>TCF7</th>\n",
       "      <td>21.901164</td>\n",
       "      <td>40.591074</td>\n",
       "    </tr>\n",
       "  </tbody>\n",
       "</table>\n",
       "</div>"
      ],
      "text/plain": [
       "source           OURS       THEIRS\n",
       "VTN         27.268306    17.888145\n",
       "HLA-DQB1   279.626299  1395.749960\n",
       "KIT         54.113462    25.036577\n",
       "SOCS3     1204.189985  3443.938653\n",
       "TCF7        21.901164    40.591074"
      ]
     },
     "execution_count": 35,
     "metadata": {},
     "output_type": "execute_result"
    }
   ],
   "source": [
    "cmb_cpm_mean.head()"
   ]
  },
  {
   "cell_type": "code",
   "execution_count": 36,
   "metadata": {
    "collapsed": false
   },
   "outputs": [
    {
     "data": {
      "image/png": "[encoded data removed]",
      "text/plain": [
       "<matplotlib.figure.Figure at 0x7f4e82fd1790>"
      ]
     },
     "metadata": {},
     "output_type": "display_data"
    }
   ],
   "source": [
    "sns.jointplot(x='OURS', y='THEIRS',\n",
    "              data=np.log10(cmb_cpm_mean.loc[pos_ctrl]+1), kind='scatter',\n",
    "             );\n",
    "\n",
    "plt.suptitle(\"(Pos Ctrls) Comparison of our {cell} Nanostring data vs published.\".format(cell=cell_type), y=1,);"
   ]
  },
  {
   "cell_type": "code",
   "execution_count": 37,
   "metadata": {
    "collapsed": false
   },
   "outputs": [
    {
     "data": {
      "image/png": "[encoded data removed]",
      "text/plain": [
       "<matplotlib.figure.Figure at 0x7f4e7d028cd0>"
      ]
     },
     "metadata": {},
     "output_type": "display_data"
    }
   ],
   "source": [
    "sns.jointplot(x='OURS', y='THEIRS',\n",
    "              data=np.log10(cmb_cpm_mean.loc[neg_ctrl]+1), kind='scatter',\n",
    "             );\n",
    "\n",
    "plt.suptitle(\"(Neg Ctrls) Comparison of our {cell} Nanostring data vs published.\".format(cell=cell_type), y=1,);"
   ]
  },
  {
   "cell_type": "code",
   "execution_count": 38,
   "metadata": {
    "collapsed": false
   },
   "outputs": [
    {
     "data": {
      "text/html": [
       "<div>\n",
       "<table border=\"1\" class=\"dataframe\">\n",
       "  <thead>\n",
       "    <tr style=\"text-align: right;\">\n",
       "      <th>source</th>\n",
       "      <th>OURS</th>\n",
       "      <th>THEIRS</th>\n",
       "    </tr>\n",
       "  </thead>\n",
       "  <tbody>\n",
       "    <tr>\n",
       "      <th>NEG_C(0)</th>\n",
       "      <td>179.277108</td>\n",
       "      <td>20.998254</td>\n",
       "    </tr>\n",
       "    <tr>\n",
       "      <th>NEG_D(0)</th>\n",
       "      <td>60.870736</td>\n",
       "      <td>9.856633</td>\n",
       "    </tr>\n",
       "    <tr>\n",
       "      <th>NEG_E(0)</th>\n",
       "      <td>106.585016</td>\n",
       "      <td>12.274479</td>\n",
       "    </tr>\n",
       "    <tr>\n",
       "      <th>NEG_A(0)</th>\n",
       "      <td>109.453229</td>\n",
       "      <td>11.059749</td>\n",
       "    </tr>\n",
       "    <tr>\n",
       "      <th>NEG_H(0)</th>\n",
       "      <td>68.211021</td>\n",
       "      <td>14.408876</td>\n",
       "    </tr>\n",
       "  </tbody>\n",
       "</table>\n",
       "</div>"
      ],
      "text/plain": [
       "source          OURS     THEIRS\n",
       "NEG_C(0)  179.277108  20.998254\n",
       "NEG_D(0)   60.870736   9.856633\n",
       "NEG_E(0)  106.585016  12.274479\n",
       "NEG_A(0)  109.453229  11.059749\n",
       "NEG_H(0)   68.211021  14.408876"
      ]
     },
     "execution_count": 38,
     "metadata": {},
     "output_type": "execute_result"
    }
   ],
   "source": [
    "cmb_cpm_mean.loc[neg_ctrl].head()"
   ]
  },
  {
   "cell_type": "code",
   "execution_count": 39,
   "metadata": {
    "collapsed": false
   },
   "outputs": [
    {
     "data": {
      "image/png": "[encoded data removed]",
      "text/plain": [
       "<matplotlib.figure.Figure at 0x7f4e7ce3d290>"
      ]
     },
     "metadata": {},
     "output_type": "display_data"
    }
   ],
   "source": [
    "sns.jointplot(x='OURS', y='THEIRS',\n",
    "              data=np.log10(cmb_cpm_mean.loc[hsk_gene]+1), kind='scatter',\n",
    "             );\n",
    "\n",
    "plt.suptitle(\"(Housekeeping) Comparison of our {cell} Nanostring data vs published.\".format(cell=cell_type), y=1,);"
   ]
  },
  {
   "cell_type": "code",
   "execution_count": 40,
   "metadata": {
    "collapsed": false
   },
   "outputs": [
    {
     "data": {
      "image/png": "[encoded data removed]",
      "text/plain": [
       "<matplotlib.figure.Figure at 0x7f4e7cdf2350>"
      ]
     },
     "metadata": {},
     "output_type": "display_data"
    }
   ],
   "source": [
    "sns.jointplot(x='OURS', y='THEIRS',\n",
    "              data=np.log10(cmb_cpm_mean.loc[pan_gene]+1), kind='scatter',\n",
    "             );\n",
    "\n",
    "plt.suptitle(\"(Panel Genes) Comparison of our {cell} Nanostring data vs published..\".format(cell=cell_type), y=1,);"
   ]
  }
 ],
 "metadata": {
  "kernelspec": {
   "display_name": "Python 2",
   "language": "python",
   "name": "python2"
  },
  "language_info": {
   "codemirror_mode": {
    "name": "ipython",
    "version": 2
   },
   "file_extension": ".py",
   "mimetype": "text/x-python",
   "name": "python",
   "nbconvert_exporter": "python",
   "pygments_lexer": "ipython2",
   "version": "2.7.11"
  }
 },
 "nbformat": 4,
 "nbformat_minor": 0
}
