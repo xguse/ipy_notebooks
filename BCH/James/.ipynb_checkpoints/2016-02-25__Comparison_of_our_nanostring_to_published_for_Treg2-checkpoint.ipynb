{
 "cells": [
  {
   "cell_type": "code",
   "execution_count": 1,
   "metadata": {
    "collapsed": true
   },
   "outputs": [],
   "source": [
    "%matplotlib inline"
   ]
  },
  {
   "cell_type": "code",
   "execution_count": 2,
   "metadata": {
    "collapsed": true
   },
   "outputs": [],
   "source": [
    "from matplotlib import pyplot as plt\n",
    "import pandas as pd\n",
    "import numpy as np\n",
    "import seaborn as sns\n",
    "sns.set_context(\"talk\")"
   ]
  },
  {
   "cell_type": "code",
   "execution_count": 3,
   "metadata": {
    "collapsed": false
   },
   "outputs": [],
   "source": [
    "import rpy2.robjects as robjects\n",
    "from rpy2.robjects.packages import importr\n",
    "from rpy2.robjects import pandas2ri\n",
    "\n",
    "r = robjects.r\n",
    "\n",
    "nsn = importr(\"NanoStringNorm\")\n",
    "egr = importr(\"edgeR\")\n",
    "\n",
    "py = pandas2ri.ri2py"
   ]
  },
  {
   "cell_type": "code",
   "execution_count": 4,
   "metadata": {
    "collapsed": true
   },
   "outputs": [],
   "source": [
    "cell_type = 'Treg2'"
   ]
  },
  {
   "cell_type": "markdown",
   "metadata": {
    "collapsed": true
   },
   "source": [
    "# Read in RCC data"
   ]
  },
  {
   "cell_type": "code",
   "execution_count": 5,
   "metadata": {
    "collapsed": true
   },
   "outputs": [],
   "source": [
    "base_path = u'/home/gus/MEGAsync/zim/main/BCH/Projects/James/Nanostring_pipeline/OKT3/data/compare_ours_to_existing/treg2'\n",
    "\n",
    "our_rcc_path = base_path+u\"/ours\"\n",
    "thr_rcc_path = base_path+u\"/theirs\""
   ]
  },
  {
   "cell_type": "code",
   "execution_count": 6,
   "metadata": {
    "collapsed": false
   },
   "outputs": [],
   "source": [
    "our_data = py(r(u\"\"\"read.markup.RCC(rcc.path=\"{PATH}\")\"\"\".format(PATH=our_rcc_path)).rx2('x'))\n",
    "thr_data = py(r(u\"\"\"read.markup.RCC(rcc.path=\"{PATH}\")\"\"\".format(PATH=thr_rcc_path)).rx2('x'))"
   ]
  },
  {
   "cell_type": "code",
   "execution_count": 7,
   "metadata": {
    "collapsed": false
   },
   "outputs": [
    {
     "data": {
      "text/plain": [
       "(608, 8)"
      ]
     },
     "execution_count": 7,
     "metadata": {},
     "output_type": "execute_result"
    }
   ],
   "source": [
    "our_data.shape"
   ]
  },
  {
   "cell_type": "code",
   "execution_count": 8,
   "metadata": {
    "collapsed": false
   },
   "outputs": [
    {
     "data": {
      "text/plain": [
       "(540, 6)"
      ]
     },
     "execution_count": 8,
     "metadata": {},
     "output_type": "execute_result"
    }
   ],
   "source": [
    "thr_data.shape"
   ]
  },
  {
   "cell_type": "code",
   "execution_count": 9,
   "metadata": {
    "collapsed": false
   },
   "outputs": [
    {
     "data": {
      "text/html": [
       "<div>\n",
       "<table border=\"1\" class=\"dataframe\">\n",
       "  <thead>\n",
       "    <tr style=\"text-align: right;\">\n",
       "      <th></th>\n",
       "      <th>CodeClass</th>\n",
       "      <th>Name</th>\n",
       "      <th>Accession</th>\n",
       "      <th>BWH006_Treg_w0_12</th>\n",
       "      <th>BWH008_Treg_w0_01</th>\n",
       "      <th>MGH001_Treg_w0_04</th>\n",
       "      <th>MGH004_Treg_w0_01</th>\n",
       "      <th>MGH007_Treg_w0_09</th>\n",
       "    </tr>\n",
       "  </thead>\n",
       "  <tbody>\n",
       "    <tr>\n",
       "      <th>1</th>\n",
       "      <td>Endogenous</td>\n",
       "      <td>VTN</td>\n",
       "      <td>NM_000638.3</td>\n",
       "      <td>2</td>\n",
       "      <td>2</td>\n",
       "      <td>3</td>\n",
       "      <td>0</td>\n",
       "      <td>0</td>\n",
       "    </tr>\n",
       "    <tr>\n",
       "      <th>2</th>\n",
       "      <td>Endogenous</td>\n",
       "      <td>HLA-DQB1</td>\n",
       "      <td>NM_002123.3</td>\n",
       "      <td>2</td>\n",
       "      <td>0</td>\n",
       "      <td>2</td>\n",
       "      <td>0</td>\n",
       "      <td>0</td>\n",
       "    </tr>\n",
       "    <tr>\n",
       "      <th>3</th>\n",
       "      <td>Endogenous</td>\n",
       "      <td>KIT</td>\n",
       "      <td>NM_000222.2</td>\n",
       "      <td>1</td>\n",
       "      <td>2</td>\n",
       "      <td>1</td>\n",
       "      <td>0</td>\n",
       "      <td>1</td>\n",
       "    </tr>\n",
       "    <tr>\n",
       "      <th>4</th>\n",
       "      <td>Endogenous</td>\n",
       "      <td>LAG3</td>\n",
       "      <td>NM_002286.5</td>\n",
       "      <td>1</td>\n",
       "      <td>0</td>\n",
       "      <td>4</td>\n",
       "      <td>2</td>\n",
       "      <td>1</td>\n",
       "    </tr>\n",
       "    <tr>\n",
       "      <th>5</th>\n",
       "      <td>Endogenous</td>\n",
       "      <td>SOCS3</td>\n",
       "      <td>NM_003955.3</td>\n",
       "      <td>1</td>\n",
       "      <td>1</td>\n",
       "      <td>5</td>\n",
       "      <td>0</td>\n",
       "      <td>2</td>\n",
       "    </tr>\n",
       "  </tbody>\n",
       "</table>\n",
       "</div>"
      ],
      "text/plain": [
       "    CodeClass      Name    Accession  BWH006_Treg_w0_12  BWH008_Treg_w0_01  \\\n",
       "1  Endogenous       VTN  NM_000638.3                  2                  2   \n",
       "2  Endogenous  HLA-DQB1  NM_002123.3                  2                  0   \n",
       "3  Endogenous       KIT  NM_000222.2                  1                  2   \n",
       "4  Endogenous      LAG3  NM_002286.5                  1                  0   \n",
       "5  Endogenous     SOCS3  NM_003955.3                  1                  1   \n",
       "\n",
       "   MGH001_Treg_w0_04  MGH004_Treg_w0_01  MGH007_Treg_w0_09  \n",
       "1                  3                  0                  0  \n",
       "2                  2                  0                  0  \n",
       "3                  1                  0                  1  \n",
       "4                  4                  2                  1  \n",
       "5                  5                  0                  2  "
      ]
     },
     "execution_count": 9,
     "metadata": {},
     "output_type": "execute_result"
    }
   ],
   "source": [
    "our_data.head()"
   ]
  },
  {
   "cell_type": "code",
   "execution_count": 10,
   "metadata": {
    "collapsed": false
   },
   "outputs": [],
   "source": [
    "our_genes = set(our_data.Name.unique())\n",
    "thr_genes = set(thr_data.Name.unique())"
   ]
  },
  {
   "cell_type": "code",
   "execution_count": 11,
   "metadata": {
    "collapsed": false
   },
   "outputs": [
    {
     "data": {
      "text/plain": [
       "520"
      ]
     },
     "execution_count": 11,
     "metadata": {},
     "output_type": "execute_result"
    }
   ],
   "source": [
    "len(our_genes.intersection(thr_genes))"
   ]
  },
  {
   "cell_type": "markdown",
   "metadata": {},
   "source": [
    "## Join tables by gene names\n",
    "\n",
    "- We will only deal with the genes that are in commen between the tables from now on\n",
    "- thats 520 including the pos/neg controls etc."
   ]
  },
  {
   "cell_type": "code",
   "execution_count": 12,
   "metadata": {
    "collapsed": false
   },
   "outputs": [
    {
     "data": {
      "text/html": [
       "<div>\n",
       "<table border=\"1\" class=\"dataframe\">\n",
       "  <thead>\n",
       "    <tr style=\"text-align: right;\">\n",
       "      <th></th>\n",
       "      <th>CodeClass_OUR</th>\n",
       "      <th>Accession_OUR</th>\n",
       "      <th>BWH006_Treg_w0_12</th>\n",
       "      <th>BWH008_Treg_w0_01</th>\n",
       "      <th>MGH001_Treg_w0_04</th>\n",
       "      <th>MGH004_Treg_w0_01</th>\n",
       "      <th>MGH007_Treg_w0_09</th>\n",
       "      <th>CodeClass_THR</th>\n",
       "      <th>Accession_THR</th>\n",
       "      <th>GSM1518464_CpTp</th>\n",
       "      <th>GSM1518469_CpTp</th>\n",
       "      <th>GSM1518474_CpTp</th>\n",
       "    </tr>\n",
       "  </thead>\n",
       "  <tbody>\n",
       "    <tr>\n",
       "      <th>VTN</th>\n",
       "      <td>Endogenous</td>\n",
       "      <td>NM_000638.3</td>\n",
       "      <td>2</td>\n",
       "      <td>2</td>\n",
       "      <td>3</td>\n",
       "      <td>0</td>\n",
       "      <td>0</td>\n",
       "      <td>Endogenous</td>\n",
       "      <td>NM_000638.3</td>\n",
       "      <td>10</td>\n",
       "      <td>32</td>\n",
       "      <td>18</td>\n",
       "    </tr>\n",
       "    <tr>\n",
       "      <th>HLA-DQB1</th>\n",
       "      <td>Endogenous</td>\n",
       "      <td>NM_002123.3</td>\n",
       "      <td>2</td>\n",
       "      <td>0</td>\n",
       "      <td>2</td>\n",
       "      <td>0</td>\n",
       "      <td>0</td>\n",
       "      <td>Endogenous</td>\n",
       "      <td>NM_002123.3</td>\n",
       "      <td>11</td>\n",
       "      <td>22</td>\n",
       "      <td>14</td>\n",
       "    </tr>\n",
       "    <tr>\n",
       "      <th>KIT</th>\n",
       "      <td>Endogenous</td>\n",
       "      <td>NM_000222.2</td>\n",
       "      <td>1</td>\n",
       "      <td>2</td>\n",
       "      <td>1</td>\n",
       "      <td>0</td>\n",
       "      <td>1</td>\n",
       "      <td>Endogenous</td>\n",
       "      <td>NM_000222.1</td>\n",
       "      <td>17</td>\n",
       "      <td>94</td>\n",
       "      <td>31</td>\n",
       "    </tr>\n",
       "    <tr>\n",
       "      <th>SOCS3</th>\n",
       "      <td>Endogenous</td>\n",
       "      <td>NM_003955.3</td>\n",
       "      <td>1</td>\n",
       "      <td>1</td>\n",
       "      <td>5</td>\n",
       "      <td>0</td>\n",
       "      <td>2</td>\n",
       "      <td>Endogenous</td>\n",
       "      <td>NM_003955.3</td>\n",
       "      <td>305</td>\n",
       "      <td>1604</td>\n",
       "      <td>904</td>\n",
       "    </tr>\n",
       "    <tr>\n",
       "      <th>TCF7</th>\n",
       "      <td>Endogenous</td>\n",
       "      <td>NM_003202.2</td>\n",
       "      <td>3</td>\n",
       "      <td>3</td>\n",
       "      <td>2</td>\n",
       "      <td>5</td>\n",
       "      <td>16</td>\n",
       "      <td>Endogenous</td>\n",
       "      <td>NM_003202.2</td>\n",
       "      <td>134</td>\n",
       "      <td>182</td>\n",
       "      <td>199</td>\n",
       "    </tr>\n",
       "  </tbody>\n",
       "</table>\n",
       "</div>"
      ],
      "text/plain": [
       "         CodeClass_OUR Accession_OUR  BWH006_Treg_w0_12  BWH008_Treg_w0_01  \\\n",
       "VTN         Endogenous   NM_000638.3                  2                  2   \n",
       "HLA-DQB1    Endogenous   NM_002123.3                  2                  0   \n",
       "KIT         Endogenous   NM_000222.2                  1                  2   \n",
       "SOCS3       Endogenous   NM_003955.3                  1                  1   \n",
       "TCF7        Endogenous   NM_003202.2                  3                  3   \n",
       "\n",
       "          MGH001_Treg_w0_04  MGH004_Treg_w0_01  MGH007_Treg_w0_09  \\\n",
       "VTN                       3                  0                  0   \n",
       "HLA-DQB1                  2                  0                  0   \n",
       "KIT                       1                  0                  1   \n",
       "SOCS3                     5                  0                  2   \n",
       "TCF7                      2                  5                 16   \n",
       "\n",
       "         CodeClass_THR Accession_THR  GSM1518464_CpTp  GSM1518469_CpTp  \\\n",
       "VTN         Endogenous   NM_000638.3               10               32   \n",
       "HLA-DQB1    Endogenous   NM_002123.3               11               22   \n",
       "KIT         Endogenous   NM_000222.1               17               94   \n",
       "SOCS3       Endogenous   NM_003955.3              305             1604   \n",
       "TCF7        Endogenous   NM_003202.2              134              182   \n",
       "\n",
       "          GSM1518474_CpTp  \n",
       "VTN                    18  \n",
       "HLA-DQB1               14  \n",
       "KIT                    31  \n",
       "SOCS3                 904  \n",
       "TCF7                  199  "
      ]
     },
     "execution_count": 12,
     "metadata": {},
     "output_type": "execute_result"
    }
   ],
   "source": [
    "cmb_data = pd.merge(left=our_data, right=thr_data,\n",
    "                    how='inner', on=\"Name\",\n",
    "                    left_on=None, right_on=None,\n",
    "                    left_index=False, right_index=False,\n",
    "                    sort=False, suffixes=('_OUR', '_THR'), copy=True, indicator=False)\n",
    "\n",
    "cmb_data.index = cmb_data.Name.values\n",
    "cmb_data = cmb_data.drop(labels=['Name'],axis=1)\n",
    "cmb_data.head()"
   ]
  },
  {
   "cell_type": "code",
   "execution_count": 13,
   "metadata": {
    "collapsed": false
   },
   "outputs": [
    {
     "data": {
      "text/plain": [
       "15"
      ]
     },
     "execution_count": 13,
     "metadata": {},
     "output_type": "execute_result"
    }
   ],
   "source": [
    "code_class_missmatch = cmb_data.CodeClass_OUR != cmb_data.CodeClass_THR\n",
    "sum(code_class_missmatch)"
   ]
  },
  {
   "cell_type": "markdown",
   "metadata": {},
   "source": [
    "15 rows have CodeClass designations that don't match up..."
   ]
  },
  {
   "cell_type": "code",
   "execution_count": 14,
   "metadata": {
    "collapsed": false
   },
   "outputs": [
    {
     "data": {
      "text/html": [
       "<div>\n",
       "<table border=\"1\" class=\"dataframe\">\n",
       "  <thead>\n",
       "    <tr style=\"text-align: right;\">\n",
       "      <th></th>\n",
       "      <th>CodeClass_OUR</th>\n",
       "      <th>CodeClass_THR</th>\n",
       "    </tr>\n",
       "  </thead>\n",
       "  <tbody>\n",
       "    <tr>\n",
       "      <th>EEF1G</th>\n",
       "      <td>Housekeeping</td>\n",
       "      <td>Endogenous</td>\n",
       "    </tr>\n",
       "    <tr>\n",
       "      <th>TUBB</th>\n",
       "      <td>Housekeeping</td>\n",
       "      <td>Endogenous</td>\n",
       "    </tr>\n",
       "    <tr>\n",
       "      <th>TBP</th>\n",
       "      <td>Housekeeping</td>\n",
       "      <td>Endogenous</td>\n",
       "    </tr>\n",
       "    <tr>\n",
       "      <th>POLR2A</th>\n",
       "      <td>Housekeeping</td>\n",
       "      <td>Endogenous</td>\n",
       "    </tr>\n",
       "    <tr>\n",
       "      <th>GUSB</th>\n",
       "      <td>Housekeeping</td>\n",
       "      <td>Endogenous</td>\n",
       "    </tr>\n",
       "    <tr>\n",
       "      <th>HPRT1</th>\n",
       "      <td>Housekeeping</td>\n",
       "      <td>Endogenous</td>\n",
       "    </tr>\n",
       "    <tr>\n",
       "      <th>GAPDH</th>\n",
       "      <td>Housekeeping</td>\n",
       "      <td>Endogenous</td>\n",
       "    </tr>\n",
       "    <tr>\n",
       "      <th>SDHA</th>\n",
       "      <td>Housekeeping</td>\n",
       "      <td>Endogenous</td>\n",
       "    </tr>\n",
       "    <tr>\n",
       "      <th>OAZ1</th>\n",
       "      <td>Housekeeping</td>\n",
       "      <td>Endogenous</td>\n",
       "    </tr>\n",
       "    <tr>\n",
       "      <th>PPIA</th>\n",
       "      <td>Housekeeping</td>\n",
       "      <td>Endogenous</td>\n",
       "    </tr>\n",
       "    <tr>\n",
       "      <th>G6PD</th>\n",
       "      <td>Housekeeping</td>\n",
       "      <td>Endogenous</td>\n",
       "    </tr>\n",
       "    <tr>\n",
       "      <th>RPL19</th>\n",
       "      <td>Housekeeping</td>\n",
       "      <td>Endogenous</td>\n",
       "    </tr>\n",
       "    <tr>\n",
       "      <th>POLR1B</th>\n",
       "      <td>Housekeeping</td>\n",
       "      <td>Endogenous</td>\n",
       "    </tr>\n",
       "    <tr>\n",
       "      <th>ABCF1</th>\n",
       "      <td>Housekeeping</td>\n",
       "      <td>Endogenous</td>\n",
       "    </tr>\n",
       "    <tr>\n",
       "      <th>ALAS1</th>\n",
       "      <td>Housekeeping</td>\n",
       "      <td>Endogenous</td>\n",
       "    </tr>\n",
       "  </tbody>\n",
       "</table>\n",
       "</div>"
      ],
      "text/plain": [
       "       CodeClass_OUR CodeClass_THR\n",
       "EEF1G   Housekeeping    Endogenous\n",
       "TUBB    Housekeeping    Endogenous\n",
       "TBP     Housekeeping    Endogenous\n",
       "POLR2A  Housekeeping    Endogenous\n",
       "GUSB    Housekeeping    Endogenous\n",
       "HPRT1   Housekeeping    Endogenous\n",
       "GAPDH   Housekeeping    Endogenous\n",
       "SDHA    Housekeeping    Endogenous\n",
       "OAZ1    Housekeeping    Endogenous\n",
       "PPIA    Housekeeping    Endogenous\n",
       "G6PD    Housekeeping    Endogenous\n",
       "RPL19   Housekeeping    Endogenous\n",
       "POLR1B  Housekeeping    Endogenous\n",
       "ABCF1   Housekeeping    Endogenous\n",
       "ALAS1   Housekeeping    Endogenous"
      ]
     },
     "execution_count": 14,
     "metadata": {},
     "output_type": "execute_result"
    }
   ],
   "source": [
    "cmb_data[code_class_missmatch][['CodeClass_OUR','CodeClass_THR']]"
   ]
  },
  {
   "cell_type": "markdown",
   "metadata": {},
   "source": [
    "Looks like its not too big a deal.  They just added some genes as housekeepers."
   ]
  },
  {
   "cell_type": "markdown",
   "metadata": {},
   "source": [
    "## OK lets get rid of CodeClass and Accession Columns and write to file"
   ]
  },
  {
   "cell_type": "code",
   "execution_count": 15,
   "metadata": {
    "collapsed": false
   },
   "outputs": [],
   "source": [
    "cmb_data_extra_cols = cmb_data[['CodeClass_OUR','Accession_OUR','CodeClass_THR','Accession_THR']].copy()\n",
    "\n",
    "cmb_data = cmb_data.drop(labels=['CodeClass_OUR','Accession_OUR','CodeClass_THR','Accession_THR'],axis=1)"
   ]
  },
  {
   "cell_type": "code",
   "execution_count": 16,
   "metadata": {
    "collapsed": false
   },
   "outputs": [
    {
     "name": "stdout",
     "output_type": "stream",
     "text": [
      "['BWH006_Treg_w0_12' 'BWH008_Treg_w0_01' 'MGH001_Treg_w0_04'\n",
      " 'MGH004_Treg_w0_01' 'MGH007_Treg_w0_09' 'GSM1518464_CpTp'\n",
      " 'GSM1518469_CpTp' 'GSM1518474_CpTp']\n"
     ]
    }
   ],
   "source": [
    "print cmb_data.columns.values"
   ]
  },
  {
   "cell_type": "code",
   "execution_count": 17,
   "metadata": {
    "collapsed": false
   },
   "outputs": [],
   "source": [
    "cmb_data_path = base_path+u\"/combo_nanostring_data.csv\"\n",
    "cmb_data.to_csv(path_or_buf=cmb_data_path, \n",
    "           columns=None, header=True, index=True,)"
   ]
  },
  {
   "cell_type": "markdown",
   "metadata": {},
   "source": [
    "## Write out the target table"
   ]
  },
  {
   "cell_type": "code",
   "execution_count": 18,
   "metadata": {
    "collapsed": false
   },
   "outputs": [
    {
     "data": {
      "text/html": [
       "<div>\n",
       "<table border=\"1\" class=\"dataframe\">\n",
       "  <thead>\n",
       "    <tr style=\"text-align: right;\">\n",
       "      <th></th>\n",
       "      <th>source</th>\n",
       "    </tr>\n",
       "  </thead>\n",
       "  <tbody>\n",
       "    <tr>\n",
       "      <th>BWH006_Treg_w0_12</th>\n",
       "      <td>OURS</td>\n",
       "    </tr>\n",
       "    <tr>\n",
       "      <th>BWH008_Treg_w0_01</th>\n",
       "      <td>OURS</td>\n",
       "    </tr>\n",
       "    <tr>\n",
       "      <th>MGH001_Treg_w0_04</th>\n",
       "      <td>OURS</td>\n",
       "    </tr>\n",
       "    <tr>\n",
       "      <th>MGH004_Treg_w0_01</th>\n",
       "      <td>OURS</td>\n",
       "    </tr>\n",
       "    <tr>\n",
       "      <th>MGH007_Treg_w0_09</th>\n",
       "      <td>OURS</td>\n",
       "    </tr>\n",
       "    <tr>\n",
       "      <th>GSM1518464_CpTp</th>\n",
       "      <td>THEIRS</td>\n",
       "    </tr>\n",
       "    <tr>\n",
       "      <th>GSM1518469_CpTp</th>\n",
       "      <td>THEIRS</td>\n",
       "    </tr>\n",
       "    <tr>\n",
       "      <th>GSM1518474_CpTp</th>\n",
       "      <td>THEIRS</td>\n",
       "    </tr>\n",
       "  </tbody>\n",
       "</table>\n",
       "</div>"
      ],
      "text/plain": [
       "                   source\n",
       "BWH006_Treg_w0_12    OURS\n",
       "BWH008_Treg_w0_01    OURS\n",
       "MGH001_Treg_w0_04    OURS\n",
       "MGH004_Treg_w0_01    OURS\n",
       "MGH007_Treg_w0_09    OURS\n",
       "GSM1518464_CpTp    THEIRS\n",
       "GSM1518469_CpTp    THEIRS\n",
       "GSM1518474_CpTp    THEIRS"
      ]
     },
     "execution_count": 18,
     "metadata": {},
     "output_type": "execute_result"
    }
   ],
   "source": [
    "targets = cmb_data.T.iloc[:,0:2].copy()\n",
    "targets[u'source'] = targets.index.values\n",
    "targets.source = targets.source.apply(lambda i: 'THEIRS' if i.startswith('GSM') else 'OURS' )\n",
    "targets = pd.DataFrame(targets.source)\n",
    "targets"
   ]
  },
  {
   "cell_type": "code",
   "execution_count": 19,
   "metadata": {
    "collapsed": false
   },
   "outputs": [],
   "source": [
    "targets_path = base_path+u\"/targets.csv\"\n",
    "targets.to_csv(path_or_buf=targets_path, \n",
    "           columns=None, header=True, index=True)"
   ]
  },
  {
   "cell_type": "markdown",
   "metadata": {},
   "source": [
    "# EdgeR is used to perform normalization"
   ]
  },
  {
   "cell_type": "code",
   "execution_count": 20,
   "metadata": {
    "collapsed": false
   },
   "outputs": [],
   "source": [
    "x = py(r(u\"\"\"x <- read.delim(\"{PATH}\", sep = ',', row.names=1) \"\"\".format(PATH=cmb_data_path)))\n",
    "\n",
    "# Sort column names\n",
    "x = py(r(u\"\"\" x <- x[,order(colnames(x))] \"\"\"))"
   ]
  },
  {
   "cell_type": "code",
   "execution_count": 21,
   "metadata": {
    "collapsed": false
   },
   "outputs": [
    {
     "name": "stdout",
     "output_type": "stream",
     "text": [
      "         BWH006_Treg_w0_12 BWH008_Treg_w0_01 GSM1518464_CpTp GSM1518469_CpTp\n",
      "VTN                      2                 2              10              32\n",
      "HLA-DQB1                 2                 0              11              22\n",
      "KIT                      1                 2              17              94\n",
      "SOCS3                    1                 1             305            1604\n",
      "TCF7                     3                 3             134             182\n",
      "IKBKB                    1                 1             195             483\n",
      "         GSM1518474_CpTp MGH001_Treg_w0_04 MGH004_Treg_w0_01 MGH007_Treg_w0_09\n",
      "VTN                   18                 3                 0                 0\n",
      "HLA-DQB1              14                 2                 0                 0\n",
      "KIT                   31                 1                 0                 1\n",
      "SOCS3                904                 5                 0                 2\n",
      "TCF7                 199                 2                 5                16\n",
      "IKBKB                411                 6                 3                 5\n",
      "\n"
     ]
    }
   ],
   "source": [
    "print r(u\"head(x)\")"
   ]
  },
  {
   "cell_type": "code",
   "execution_count": 22,
   "metadata": {
    "collapsed": false
   },
   "outputs": [
    {
     "data": {
      "text/html": [
       "<div>\n",
       "<table border=\"1\" class=\"dataframe\">\n",
       "  <thead>\n",
       "    <tr style=\"text-align: right;\">\n",
       "      <th></th>\n",
       "      <th>BWH006_Treg_w0_12</th>\n",
       "      <th>BWH008_Treg_w0_01</th>\n",
       "      <th>GSM1518464_CpTp</th>\n",
       "      <th>GSM1518469_CpTp</th>\n",
       "      <th>GSM1518474_CpTp</th>\n",
       "      <th>MGH001_Treg_w0_04</th>\n",
       "      <th>MGH004_Treg_w0_01</th>\n",
       "      <th>MGH007_Treg_w0_09</th>\n",
       "    </tr>\n",
       "  </thead>\n",
       "  <tbody>\n",
       "    <tr>\n",
       "      <th>VTN</th>\n",
       "      <td>2</td>\n",
       "      <td>2</td>\n",
       "      <td>10</td>\n",
       "      <td>32</td>\n",
       "      <td>18</td>\n",
       "      <td>3</td>\n",
       "      <td>0</td>\n",
       "      <td>0</td>\n",
       "    </tr>\n",
       "    <tr>\n",
       "      <th>HLA-DQB1</th>\n",
       "      <td>2</td>\n",
       "      <td>0</td>\n",
       "      <td>11</td>\n",
       "      <td>22</td>\n",
       "      <td>14</td>\n",
       "      <td>2</td>\n",
       "      <td>0</td>\n",
       "      <td>0</td>\n",
       "    </tr>\n",
       "    <tr>\n",
       "      <th>KIT</th>\n",
       "      <td>1</td>\n",
       "      <td>2</td>\n",
       "      <td>17</td>\n",
       "      <td>94</td>\n",
       "      <td>31</td>\n",
       "      <td>1</td>\n",
       "      <td>0</td>\n",
       "      <td>1</td>\n",
       "    </tr>\n",
       "    <tr>\n",
       "      <th>SOCS3</th>\n",
       "      <td>1</td>\n",
       "      <td>1</td>\n",
       "      <td>305</td>\n",
       "      <td>1604</td>\n",
       "      <td>904</td>\n",
       "      <td>5</td>\n",
       "      <td>0</td>\n",
       "      <td>2</td>\n",
       "    </tr>\n",
       "    <tr>\n",
       "      <th>TCF7</th>\n",
       "      <td>3</td>\n",
       "      <td>3</td>\n",
       "      <td>134</td>\n",
       "      <td>182</td>\n",
       "      <td>199</td>\n",
       "      <td>2</td>\n",
       "      <td>5</td>\n",
       "      <td>16</td>\n",
       "    </tr>\n",
       "  </tbody>\n",
       "</table>\n",
       "</div>"
      ],
      "text/plain": [
       "          BWH006_Treg_w0_12  BWH008_Treg_w0_01  GSM1518464_CpTp  \\\n",
       "VTN                       2                  2               10   \n",
       "HLA-DQB1                  2                  0               11   \n",
       "KIT                       1                  2               17   \n",
       "SOCS3                     1                  1              305   \n",
       "TCF7                      3                  3              134   \n",
       "\n",
       "          GSM1518469_CpTp  GSM1518474_CpTp  MGH001_Treg_w0_04  \\\n",
       "VTN                    32               18                  3   \n",
       "HLA-DQB1               22               14                  2   \n",
       "KIT                    94               31                  1   \n",
       "SOCS3                1604              904                  5   \n",
       "TCF7                  182              199                  2   \n",
       "\n",
       "          MGH004_Treg_w0_01  MGH007_Treg_w0_09  \n",
       "VTN                       0                  0  \n",
       "HLA-DQB1                  0                  0  \n",
       "KIT                       0                  1  \n",
       "SOCS3                     0                  2  \n",
       "TCF7                      5                 16  "
      ]
     },
     "execution_count": 22,
     "metadata": {},
     "output_type": "execute_result"
    }
   ],
   "source": [
    "x.head()"
   ]
  },
  {
   "cell_type": "code",
   "execution_count": 23,
   "metadata": {
    "collapsed": false
   },
   "outputs": [
    {
     "data": {
      "text/plain": [
       "<ListVector - Python:0x7f68ea60dab8 / R:0x77cccc0>\n",
       "[Matrix, DataFrame]\n",
       "  counts: <class 'rpy2.robjects.vectors.Matrix'>\n",
       "  <Matrix - Python:0x7f68ea6735f0 / R:0x77d7830>\n",
       "[       2,        2,        1, ...,        2,        3,        4]\n",
       "<ListVector - Python:0x7f68ea60dab8 / R:0x77cccc0>\n",
       "[Matrix, DataFrame]"
      ]
     },
     "execution_count": 23,
     "metadata": {},
     "output_type": "execute_result"
    }
   ],
   "source": [
    "r(\"\"\"# read in target annotations for the design matrix stuff later\n",
    "targets <- read.table(\"{PATH}\",sep = ',', header = TRUE, row.names = 1)\n",
    "#targets <- targets[order(rownames(targets)),]\n",
    "targets <- lapply(targets,factor)\n",
    "\n",
    "# create the DEGList object\n",
    "y <- DGEList(counts=x,group=targets$source)\n",
    "\n",
    "\n",
    "# Filter for counts\n",
    "#keep <- rowSums(y>30) >= 2\n",
    "#y <- y[keep, , keep.lib.sizes=FALSE]\n",
    "\n",
    "# TMM normalization factors\n",
    "y <- calcNormFactors(y)\n",
    "\"\"\".format(PATH=targets_path))"
   ]
  },
  {
   "cell_type": "code",
   "execution_count": 24,
   "metadata": {
    "collapsed": false
   },
   "outputs": [],
   "source": [
    "n = py(r(\"n <- cpm(y)\"))\n",
    "n_rows = py(r(\"rownames(n)\"))\n",
    "n_cols = py(r(\"colnames(n)\"))"
   ]
  },
  {
   "cell_type": "code",
   "execution_count": 25,
   "metadata": {
    "collapsed": false
   },
   "outputs": [],
   "source": [
    "y_norm = pd.DataFrame(n, columns=n_cols, index=n_rows)"
   ]
  },
  {
   "cell_type": "code",
   "execution_count": 26,
   "metadata": {
    "collapsed": false
   },
   "outputs": [
    {
     "data": {
      "text/html": [
       "<div>\n",
       "<table border=\"1\" class=\"dataframe\">\n",
       "  <thead>\n",
       "    <tr style=\"text-align: right;\">\n",
       "      <th></th>\n",
       "      <th>VTN</th>\n",
       "      <th>HLA-DQB1</th>\n",
       "      <th>KIT</th>\n",
       "      <th>SOCS3</th>\n",
       "      <th>TCF7</th>\n",
       "      <th>IKBKB</th>\n",
       "      <th>ITGA6</th>\n",
       "      <th>CXCR4</th>\n",
       "      <th>NFKBIZ</th>\n",
       "      <th>MAPK14</th>\n",
       "      <th>...</th>\n",
       "      <th>HPRT1</th>\n",
       "      <th>GAPDH</th>\n",
       "      <th>SDHA</th>\n",
       "      <th>OAZ1</th>\n",
       "      <th>PPIA</th>\n",
       "      <th>G6PD</th>\n",
       "      <th>RPL19</th>\n",
       "      <th>POLR1B</th>\n",
       "      <th>ABCF1</th>\n",
       "      <th>ALAS1</th>\n",
       "    </tr>\n",
       "  </thead>\n",
       "  <tbody>\n",
       "    <tr>\n",
       "      <th>BWH006_Treg_w0_12</th>\n",
       "      <td>150.532604</td>\n",
       "      <td>150.532604</td>\n",
       "      <td>75.266302</td>\n",
       "      <td>75.266302</td>\n",
       "      <td>225.798907</td>\n",
       "      <td>75.266302</td>\n",
       "      <td>526.864115</td>\n",
       "      <td>827.929324</td>\n",
       "      <td>301.065209</td>\n",
       "      <td>150.532604</td>\n",
       "      <td>...</td>\n",
       "      <td>75.266302</td>\n",
       "      <td>602.130417</td>\n",
       "      <td>225.798907</td>\n",
       "      <td>602.130417</td>\n",
       "      <td>225.798907</td>\n",
       "      <td>150.532604</td>\n",
       "      <td>3085.918389</td>\n",
       "      <td>150.532604</td>\n",
       "      <td>150.532604</td>\n",
       "      <td>0.000000</td>\n",
       "    </tr>\n",
       "    <tr>\n",
       "      <th>BWH008_Treg_w0_01</th>\n",
       "      <td>147.516122</td>\n",
       "      <td>0.000000</td>\n",
       "      <td>147.516122</td>\n",
       "      <td>73.758061</td>\n",
       "      <td>221.274183</td>\n",
       "      <td>73.758061</td>\n",
       "      <td>73.758061</td>\n",
       "      <td>221.274183</td>\n",
       "      <td>516.306427</td>\n",
       "      <td>147.516122</td>\n",
       "      <td>...</td>\n",
       "      <td>73.758061</td>\n",
       "      <td>295.032244</td>\n",
       "      <td>73.758061</td>\n",
       "      <td>295.032244</td>\n",
       "      <td>73.758061</td>\n",
       "      <td>73.758061</td>\n",
       "      <td>663.822549</td>\n",
       "      <td>0.000000</td>\n",
       "      <td>73.758061</td>\n",
       "      <td>73.758061</td>\n",
       "    </tr>\n",
       "    <tr>\n",
       "      <th>GSM1518464_CpTp</th>\n",
       "      <td>9.295981</td>\n",
       "      <td>10.225579</td>\n",
       "      <td>15.803167</td>\n",
       "      <td>283.527409</td>\n",
       "      <td>124.566140</td>\n",
       "      <td>181.271622</td>\n",
       "      <td>288.175399</td>\n",
       "      <td>4256.629524</td>\n",
       "      <td>1048.586614</td>\n",
       "      <td>451.784658</td>\n",
       "      <td>...</td>\n",
       "      <td>603.309142</td>\n",
       "      <td>12145.198676</td>\n",
       "      <td>257.498663</td>\n",
       "      <td>2329.572743</td>\n",
       "      <td>169.186847</td>\n",
       "      <td>211.948358</td>\n",
       "      <td>9636.213507</td>\n",
       "      <td>77.156639</td>\n",
       "      <td>476.883806</td>\n",
       "      <td>110.622169</td>\n",
       "    </tr>\n",
       "    <tr>\n",
       "      <th>GSM1518469_CpTp</th>\n",
       "      <td>8.998449</td>\n",
       "      <td>6.186433</td>\n",
       "      <td>26.432943</td>\n",
       "      <td>451.047232</td>\n",
       "      <td>51.178676</td>\n",
       "      <td>135.820332</td>\n",
       "      <td>125.697078</td>\n",
       "      <td>3201.760464</td>\n",
       "      <td>955.522752</td>\n",
       "      <td>468.762928</td>\n",
       "      <td>...</td>\n",
       "      <td>1003.608212</td>\n",
       "      <td>35210.647858</td>\n",
       "      <td>419.271461</td>\n",
       "      <td>3703.142768</td>\n",
       "      <td>285.981942</td>\n",
       "      <td>305.666048</td>\n",
       "      <td>15547.069431</td>\n",
       "      <td>82.954447</td>\n",
       "      <td>525.565634</td>\n",
       "      <td>147.068393</td>\n",
       "    </tr>\n",
       "    <tr>\n",
       "      <th>GSM1518474_CpTp</th>\n",
       "      <td>7.887924</td>\n",
       "      <td>6.135052</td>\n",
       "      <td>13.584758</td>\n",
       "      <td>396.149059</td>\n",
       "      <td>87.205379</td>\n",
       "      <td>180.107592</td>\n",
       "      <td>234.008404</td>\n",
       "      <td>3397.942259</td>\n",
       "      <td>1209.919858</td>\n",
       "      <td>531.996634</td>\n",
       "      <td>...</td>\n",
       "      <td>696.766597</td>\n",
       "      <td>12709.198014</td>\n",
       "      <td>422.442138</td>\n",
       "      <td>2412.828228</td>\n",
       "      <td>177.040066</td>\n",
       "      <td>252.413560</td>\n",
       "      <td>9802.059898</td>\n",
       "      <td>83.261417</td>\n",
       "      <td>478.095822</td>\n",
       "      <td>114.374894</td>\n",
       "    </tr>\n",
       "    <tr>\n",
       "      <th>MGH001_Treg_w0_04</th>\n",
       "      <td>62.522712</td>\n",
       "      <td>41.681808</td>\n",
       "      <td>20.840904</td>\n",
       "      <td>104.204520</td>\n",
       "      <td>41.681808</td>\n",
       "      <td>125.045423</td>\n",
       "      <td>312.613559</td>\n",
       "      <td>354.295366</td>\n",
       "      <td>208.409039</td>\n",
       "      <td>166.727231</td>\n",
       "      <td>...</td>\n",
       "      <td>208.409039</td>\n",
       "      <td>771.113445</td>\n",
       "      <td>83.363616</td>\n",
       "      <td>250.090847</td>\n",
       "      <td>41.681808</td>\n",
       "      <td>145.886327</td>\n",
       "      <td>479.340790</td>\n",
       "      <td>83.363616</td>\n",
       "      <td>229.249943</td>\n",
       "      <td>208.409039</td>\n",
       "    </tr>\n",
       "    <tr>\n",
       "      <th>MGH004_Treg_w0_01</th>\n",
       "      <td>0.000000</td>\n",
       "      <td>0.000000</td>\n",
       "      <td>0.000000</td>\n",
       "      <td>0.000000</td>\n",
       "      <td>290.127381</td>\n",
       "      <td>174.076428</td>\n",
       "      <td>174.076428</td>\n",
       "      <td>464.203809</td>\n",
       "      <td>58.025476</td>\n",
       "      <td>174.076428</td>\n",
       "      <td>...</td>\n",
       "      <td>116.050952</td>\n",
       "      <td>1740.764283</td>\n",
       "      <td>116.050952</td>\n",
       "      <td>406.178333</td>\n",
       "      <td>58.025476</td>\n",
       "      <td>0.000000</td>\n",
       "      <td>4642.038089</td>\n",
       "      <td>0.000000</td>\n",
       "      <td>58.025476</td>\n",
       "      <td>116.050952</td>\n",
       "    </tr>\n",
       "    <tr>\n",
       "      <th>MGH007_Treg_w0_09</th>\n",
       "      <td>0.000000</td>\n",
       "      <td>0.000000</td>\n",
       "      <td>48.412247</td>\n",
       "      <td>96.824494</td>\n",
       "      <td>774.595956</td>\n",
       "      <td>242.061236</td>\n",
       "      <td>726.183709</td>\n",
       "      <td>3001.559329</td>\n",
       "      <td>290.473483</td>\n",
       "      <td>242.061236</td>\n",
       "      <td>...</td>\n",
       "      <td>193.648989</td>\n",
       "      <td>1936.489890</td>\n",
       "      <td>48.412247</td>\n",
       "      <td>580.946967</td>\n",
       "      <td>193.648989</td>\n",
       "      <td>48.412247</td>\n",
       "      <td>5034.873714</td>\n",
       "      <td>96.824494</td>\n",
       "      <td>145.236742</td>\n",
       "      <td>193.648989</td>\n",
       "    </tr>\n",
       "  </tbody>\n",
       "</table>\n",
       "<p>8 rows × 520 columns</p>\n",
       "</div>"
      ],
      "text/plain": [
       "                          VTN    HLA-DQB1         KIT       SOCS3        TCF7  \\\n",
       "BWH006_Treg_w0_12  150.532604  150.532604   75.266302   75.266302  225.798907   \n",
       "BWH008_Treg_w0_01  147.516122    0.000000  147.516122   73.758061  221.274183   \n",
       "GSM1518464_CpTp      9.295981   10.225579   15.803167  283.527409  124.566140   \n",
       "GSM1518469_CpTp      8.998449    6.186433   26.432943  451.047232   51.178676   \n",
       "GSM1518474_CpTp      7.887924    6.135052   13.584758  396.149059   87.205379   \n",
       "MGH001_Treg_w0_04   62.522712   41.681808   20.840904  104.204520   41.681808   \n",
       "MGH004_Treg_w0_01    0.000000    0.000000    0.000000    0.000000  290.127381   \n",
       "MGH007_Treg_w0_09    0.000000    0.000000   48.412247   96.824494  774.595956   \n",
       "\n",
       "                        IKBKB       ITGA6        CXCR4       NFKBIZ  \\\n",
       "BWH006_Treg_w0_12   75.266302  526.864115   827.929324   301.065209   \n",
       "BWH008_Treg_w0_01   73.758061   73.758061   221.274183   516.306427   \n",
       "GSM1518464_CpTp    181.271622  288.175399  4256.629524  1048.586614   \n",
       "GSM1518469_CpTp    135.820332  125.697078  3201.760464   955.522752   \n",
       "GSM1518474_CpTp    180.107592  234.008404  3397.942259  1209.919858   \n",
       "MGH001_Treg_w0_04  125.045423  312.613559   354.295366   208.409039   \n",
       "MGH004_Treg_w0_01  174.076428  174.076428   464.203809    58.025476   \n",
       "MGH007_Treg_w0_09  242.061236  726.183709  3001.559329   290.473483   \n",
       "\n",
       "                       MAPK14     ...            HPRT1         GAPDH  \\\n",
       "BWH006_Treg_w0_12  150.532604     ...        75.266302    602.130417   \n",
       "BWH008_Treg_w0_01  147.516122     ...        73.758061    295.032244   \n",
       "GSM1518464_CpTp    451.784658     ...       603.309142  12145.198676   \n",
       "GSM1518469_CpTp    468.762928     ...      1003.608212  35210.647858   \n",
       "GSM1518474_CpTp    531.996634     ...       696.766597  12709.198014   \n",
       "MGH001_Treg_w0_04  166.727231     ...       208.409039    771.113445   \n",
       "MGH004_Treg_w0_01  174.076428     ...       116.050952   1740.764283   \n",
       "MGH007_Treg_w0_09  242.061236     ...       193.648989   1936.489890   \n",
       "\n",
       "                         SDHA         OAZ1        PPIA        G6PD  \\\n",
       "BWH006_Treg_w0_12  225.798907   602.130417  225.798907  150.532604   \n",
       "BWH008_Treg_w0_01   73.758061   295.032244   73.758061   73.758061   \n",
       "GSM1518464_CpTp    257.498663  2329.572743  169.186847  211.948358   \n",
       "GSM1518469_CpTp    419.271461  3703.142768  285.981942  305.666048   \n",
       "GSM1518474_CpTp    422.442138  2412.828228  177.040066  252.413560   \n",
       "MGH001_Treg_w0_04   83.363616   250.090847   41.681808  145.886327   \n",
       "MGH004_Treg_w0_01  116.050952   406.178333   58.025476    0.000000   \n",
       "MGH007_Treg_w0_09   48.412247   580.946967  193.648989   48.412247   \n",
       "\n",
       "                          RPL19      POLR1B       ABCF1       ALAS1  \n",
       "BWH006_Treg_w0_12   3085.918389  150.532604  150.532604    0.000000  \n",
       "BWH008_Treg_w0_01    663.822549    0.000000   73.758061   73.758061  \n",
       "GSM1518464_CpTp     9636.213507   77.156639  476.883806  110.622169  \n",
       "GSM1518469_CpTp    15547.069431   82.954447  525.565634  147.068393  \n",
       "GSM1518474_CpTp     9802.059898   83.261417  478.095822  114.374894  \n",
       "MGH001_Treg_w0_04    479.340790   83.363616  229.249943  208.409039  \n",
       "MGH004_Treg_w0_01   4642.038089    0.000000   58.025476  116.050952  \n",
       "MGH007_Treg_w0_09   5034.873714   96.824494  145.236742  193.648989  \n",
       "\n",
       "[8 rows x 520 columns]"
      ]
     },
     "execution_count": 26,
     "metadata": {},
     "output_type": "execute_result"
    }
   ],
   "source": [
    "y_norm.T"
   ]
  },
  {
   "cell_type": "code",
   "execution_count": 27,
   "metadata": {
    "collapsed": false
   },
   "outputs": [],
   "source": [
    "cmb_cpm = pd.merge(left=targets, right=y_norm.T, \n",
    "                   how='inner', on=None, \n",
    "                   left_on=None, right_on=None, \n",
    "                   left_index=True, right_index=True, \n",
    "                   sort=False, suffixes=('_x', '_y'), copy=True, indicator=False)"
   ]
  },
  {
   "cell_type": "code",
   "execution_count": 28,
   "metadata": {
    "collapsed": false
   },
   "outputs": [],
   "source": [
    "cmb_cpm_mean = cmb_cpm.groupby('source').mean()\n",
    "cmb_cpm_mean = cmb_cpm_mean.T"
   ]
  },
  {
   "cell_type": "code",
   "execution_count": 29,
   "metadata": {
    "collapsed": false
   },
   "outputs": [
    {
     "name": "stderr",
     "output_type": "stream",
     "text": [
      "/home/gus/anaconda2/envs/stack2/lib/python2.7/site-packages/matplotlib/collections.py:590: FutureWarning: elementwise comparison failed; returning scalar instead, but in the future will perform elementwise comparison\n",
      "  if self._edgecolors == str('face'):\n"
     ]
    },
    {
     "data": {
      "image/png": "[encoded data removed]",
      "text/plain": [
       "<matplotlib.figure.Figure at 0x7f68ea809390>"
      ]
     },
     "metadata": {},
     "output_type": "display_data"
    }
   ],
   "source": [
    "sns.jointplot(x='OURS', y='THEIRS',\n",
    "              data=np.log10(cmb_cpm_mean+1), kind='scatter',\n",
    "             );\n",
    "\n",
    "plt.suptitle(\"Comparison of our {cell} Nanostring data vs published.\".format(cell=cell_type), y=1,);"
   ]
  },
  {
   "cell_type": "markdown",
   "metadata": {},
   "source": [
    "### Lets look at the external controls"
   ]
  },
  {
   "cell_type": "code",
   "execution_count": 30,
   "metadata": {
    "collapsed": false
   },
   "outputs": [
    {
     "data": {
      "text/html": [
       "<div>\n",
       "<table border=\"1\" class=\"dataframe\">\n",
       "  <thead>\n",
       "    <tr style=\"text-align: right;\">\n",
       "      <th></th>\n",
       "      <th>CodeClass_OUR</th>\n",
       "      <th>Accession_OUR</th>\n",
       "      <th>CodeClass_THR</th>\n",
       "      <th>Accession_THR</th>\n",
       "    </tr>\n",
       "  </thead>\n",
       "  <tbody>\n",
       "    <tr>\n",
       "      <th>VTN</th>\n",
       "      <td>Endogenous</td>\n",
       "      <td>NM_000638.3</td>\n",
       "      <td>Endogenous</td>\n",
       "      <td>NM_000638.3</td>\n",
       "    </tr>\n",
       "    <tr>\n",
       "      <th>HLA-DQB1</th>\n",
       "      <td>Endogenous</td>\n",
       "      <td>NM_002123.3</td>\n",
       "      <td>Endogenous</td>\n",
       "      <td>NM_002123.3</td>\n",
       "    </tr>\n",
       "    <tr>\n",
       "      <th>KIT</th>\n",
       "      <td>Endogenous</td>\n",
       "      <td>NM_000222.2</td>\n",
       "      <td>Endogenous</td>\n",
       "      <td>NM_000222.1</td>\n",
       "    </tr>\n",
       "    <tr>\n",
       "      <th>SOCS3</th>\n",
       "      <td>Endogenous</td>\n",
       "      <td>NM_003955.3</td>\n",
       "      <td>Endogenous</td>\n",
       "      <td>NM_003955.3</td>\n",
       "    </tr>\n",
       "    <tr>\n",
       "      <th>TCF7</th>\n",
       "      <td>Endogenous</td>\n",
       "      <td>NM_003202.2</td>\n",
       "      <td>Endogenous</td>\n",
       "      <td>NM_003202.2</td>\n",
       "    </tr>\n",
       "  </tbody>\n",
       "</table>\n",
       "</div>"
      ],
      "text/plain": [
       "         CodeClass_OUR Accession_OUR CodeClass_THR Accession_THR\n",
       "VTN         Endogenous   NM_000638.3    Endogenous   NM_000638.3\n",
       "HLA-DQB1    Endogenous   NM_002123.3    Endogenous   NM_002123.3\n",
       "KIT         Endogenous   NM_000222.2    Endogenous   NM_000222.1\n",
       "SOCS3       Endogenous   NM_003955.3    Endogenous   NM_003955.3\n",
       "TCF7        Endogenous   NM_003202.2    Endogenous   NM_003202.2"
      ]
     },
     "execution_count": 30,
     "metadata": {},
     "output_type": "execute_result"
    }
   ],
   "source": [
    "cmb_data_extra_cols.head()"
   ]
  },
  {
   "cell_type": "code",
   "execution_count": 31,
   "metadata": {
    "collapsed": false
   },
   "outputs": [
    {
     "data": {
      "text/plain": [
       "array(['Endogenous', 'Positive', 'Negative', 'Housekeeping'], dtype=object)"
      ]
     },
     "execution_count": 31,
     "metadata": {},
     "output_type": "execute_result"
    }
   ],
   "source": [
    "cmb_data_extra_cols.CodeClass_OUR.unique()"
   ]
  },
  {
   "cell_type": "code",
   "execution_count": 32,
   "metadata": {
    "collapsed": false
   },
   "outputs": [
    {
     "data": {
      "text/plain": [
       "array(['Endogenous', 'Positive', 'Negative'], dtype=object)"
      ]
     },
     "execution_count": 32,
     "metadata": {},
     "output_type": "execute_result"
    }
   ],
   "source": [
    "cmb_data_extra_cols.CodeClass_THR.unique()"
   ]
  },
  {
   "cell_type": "code",
   "execution_count": 33,
   "metadata": {
    "collapsed": false
   },
   "outputs": [],
   "source": [
    "pos_ctrl = list(cmb_data_extra_cols.query(\"\"\" CodeClass_OUR == \"Positive\" \"\"\").index.values)\n",
    "neg_ctrl = list(cmb_data_extra_cols.query(\"\"\" CodeClass_OUR == \"Negative\" \"\"\").index.values)\n",
    "hsk_gene = list(cmb_data_extra_cols.query(\"\"\" CodeClass_OUR == \"Housekeeping\" \"\"\").index.values)\n",
    "bth_ctrl = pos_ctrl + neg_ctrl\n",
    "pan_gene = list(cmb_data_extra_cols[cmb_data_extra_cols.CodeClass_OUR.apply(lambda i: i in ['Housekeeping','Endogenous'])].index.values)"
   ]
  },
  {
   "cell_type": "code",
   "execution_count": 34,
   "metadata": {
    "collapsed": false
   },
   "outputs": [
    {
     "data": {
      "text/plain": [
       "['POS_C(8)',\n",
       " 'POS_A(128)',\n",
       " 'POS_F(0.125)',\n",
       " 'POS_D(2)',\n",
       " 'POS_B(32)',\n",
       " 'POS_E(0.5)',\n",
       " 'NEG_C(0)',\n",
       " 'NEG_D(0)',\n",
       " 'NEG_E(0)',\n",
       " 'NEG_A(0)',\n",
       " 'NEG_H(0)',\n",
       " 'NEG_G(0)',\n",
       " 'NEG_F(0)',\n",
       " 'NEG_B(0)']"
      ]
     },
     "execution_count": 34,
     "metadata": {},
     "output_type": "execute_result"
    }
   ],
   "source": [
    "bth_ctrl"
   ]
  },
  {
   "cell_type": "code",
   "execution_count": 35,
   "metadata": {
    "collapsed": false
   },
   "outputs": [
    {
     "data": {
      "text/html": [
       "<div>\n",
       "<table border=\"1\" class=\"dataframe\">\n",
       "  <thead>\n",
       "    <tr style=\"text-align: right;\">\n",
       "      <th>source</th>\n",
       "      <th>OURS</th>\n",
       "      <th>THEIRS</th>\n",
       "    </tr>\n",
       "  </thead>\n",
       "  <tbody>\n",
       "    <tr>\n",
       "      <th>VTN</th>\n",
       "      <td>72.114288</td>\n",
       "      <td>8.727451</td>\n",
       "    </tr>\n",
       "    <tr>\n",
       "      <th>HLA-DQB1</th>\n",
       "      <td>38.442882</td>\n",
       "      <td>7.515688</td>\n",
       "    </tr>\n",
       "    <tr>\n",
       "      <th>KIT</th>\n",
       "      <td>58.407115</td>\n",
       "      <td>18.606956</td>\n",
       "    </tr>\n",
       "    <tr>\n",
       "      <th>SOCS3</th>\n",
       "      <td>70.010675</td>\n",
       "      <td>376.907900</td>\n",
       "    </tr>\n",
       "    <tr>\n",
       "      <th>TCF7</th>\n",
       "      <td>310.695647</td>\n",
       "      <td>87.650065</td>\n",
       "    </tr>\n",
       "  </tbody>\n",
       "</table>\n",
       "</div>"
      ],
      "text/plain": [
       "source          OURS      THEIRS\n",
       "VTN        72.114288    8.727451\n",
       "HLA-DQB1   38.442882    7.515688\n",
       "KIT        58.407115   18.606956\n",
       "SOCS3      70.010675  376.907900\n",
       "TCF7      310.695647   87.650065"
      ]
     },
     "execution_count": 35,
     "metadata": {},
     "output_type": "execute_result"
    }
   ],
   "source": [
    "cmb_cpm_mean.head()"
   ]
  },
  {
   "cell_type": "code",
   "execution_count": 36,
   "metadata": {
    "collapsed": false
   },
   "outputs": [
    {
     "data": {
      "image/png": "[encoded data removed]",
      "text/plain": [
       "<matplotlib.figure.Figure at 0x7f68ea5c8c50>"
      ]
     },
     "metadata": {},
     "output_type": "display_data"
    }
   ],
   "source": [
    "sns.jointplot(x='OURS', y='THEIRS',\n",
    "              data=np.log10(cmb_cpm_mean.loc[pos_ctrl]+1), kind='scatter',\n",
    "             );\n",
    "\n",
    "plt.suptitle(\"(Pos Ctrls) Comparison of our {cell} Nanostring data vs published.\".format(cell=cell_type), y=1,);"
   ]
  },
  {
   "cell_type": "code",
   "execution_count": 37,
   "metadata": {
    "collapsed": false
   },
   "outputs": [
    {
     "data": {
      "image/png": "[encoded data removed]",
      "text/plain": [
       "<matplotlib.figure.Figure at 0x7f68e4614110>"
      ]
     },
     "metadata": {},
     "output_type": "display_data"
    }
   ],
   "source": [
    "sns.jointplot(x='OURS', y='THEIRS',\n",
    "              data=np.log10(cmb_cpm_mean.loc[neg_ctrl]+1), kind='scatter',\n",
    "             );\n",
    "\n",
    "plt.suptitle(\"(Neg Ctrls) Comparison of our {cell} Nanostring data vs published.\".format(cell=cell_type), y=1,);"
   ]
  },
  {
   "cell_type": "code",
   "execution_count": 38,
   "metadata": {
    "collapsed": false
   },
   "outputs": [
    {
     "data": {
      "text/html": [
       "<div>\n",
       "<table border=\"1\" class=\"dataframe\">\n",
       "  <thead>\n",
       "    <tr style=\"text-align: right;\">\n",
       "      <th>source</th>\n",
       "      <th>OURS</th>\n",
       "      <th>THEIRS</th>\n",
       "    </tr>\n",
       "  </thead>\n",
       "  <tbody>\n",
       "    <tr>\n",
       "      <th>NEG_C(0)</th>\n",
       "      <td>257.809265</td>\n",
       "      <td>8.576388</td>\n",
       "    </tr>\n",
       "    <tr>\n",
       "      <th>NEG_D(0)</th>\n",
       "      <td>113.522721</td>\n",
       "      <td>5.445350</td>\n",
       "    </tr>\n",
       "    <tr>\n",
       "      <th>NEG_E(0)</th>\n",
       "      <td>82.493977</td>\n",
       "      <td>9.033150</td>\n",
       "    </tr>\n",
       "    <tr>\n",
       "      <th>NEG_A(0)</th>\n",
       "      <td>239.464495</td>\n",
       "      <td>5.720598</td>\n",
       "    </tr>\n",
       "    <tr>\n",
       "      <th>NEG_H(0)</th>\n",
       "      <td>45.274966</td>\n",
       "      <td>7.122579</td>\n",
       "    </tr>\n",
       "  </tbody>\n",
       "</table>\n",
       "</div>"
      ],
      "text/plain": [
       "source          OURS    THEIRS\n",
       "NEG_C(0)  257.809265  8.576388\n",
       "NEG_D(0)  113.522721  5.445350\n",
       "NEG_E(0)   82.493977  9.033150\n",
       "NEG_A(0)  239.464495  5.720598\n",
       "NEG_H(0)   45.274966  7.122579"
      ]
     },
     "execution_count": 38,
     "metadata": {},
     "output_type": "execute_result"
    }
   ],
   "source": [
    "cmb_cpm_mean.loc[neg_ctrl].head()"
   ]
  },
  {
   "cell_type": "code",
   "execution_count": 44,
   "metadata": {
    "collapsed": false
   },
   "outputs": [
    {
     "data": {
      "image/png": "[encoded data removed]",
      "text/plain": [
       "<matplotlib.figure.Figure at 0x7f68e3fbb6d0>"
      ]
     },
     "metadata": {},
     "output_type": "display_data"
    }
   ],
   "source": [
    "sns.jointplot(x='OURS', y='THEIRS',\n",
    "              data=np.log10(cmb_cpm_mean.loc[hsk_gene]+1), kind='scatter',\n",
    "              xlim=(0,7), ylim=(0,7)\n",
    "             );\n",
    "\n",
    "plt.suptitle(\"(Housekeeping) Comparison of our {cell} Nanostring data vs published.\".format(cell=cell_type), y=1,);"
   ]
  },
  {
   "cell_type": "code",
   "execution_count": 43,
   "metadata": {
    "collapsed": false
   },
   "outputs": [
    {
     "data": {
      "image/png": "[encoded data removed]",
      "text/plain": [
       "<matplotlib.figure.Figure at 0x7f68e4069550>"
      ]
     },
     "metadata": {},
     "output_type": "display_data"
    }
   ],
   "source": [
    "sns.jointplot(x='OURS', y='THEIRS',\n",
    "              data=np.log10(cmb_cpm_mean.loc[pan_gene]+1), kind='scatter',\n",
    "              xlim=(0,7), ylim=(0,7)\n",
    "             );\n",
    "\n",
    "plt.suptitle(\"(Panel Genes) Comparison of our {cell} Nanostring data vs published..\".format(cell=cell_type), y=1,);"
   ]
  }
 ],
 "metadata": {
  "kernelspec": {
   "display_name": "Python 2",
   "language": "python",
   "name": "python2"
  },
  "language_info": {
   "codemirror_mode": {
    "name": "ipython",
    "version": 2
   },
   "file_extension": ".py",
   "mimetype": "text/x-python",
   "name": "python",
   "nbconvert_exporter": "python",
   "pygments_lexer": "ipython2",
   "version": "2.7.11"
  }
 },
 "nbformat": 4,
 "nbformat_minor": 0
}
