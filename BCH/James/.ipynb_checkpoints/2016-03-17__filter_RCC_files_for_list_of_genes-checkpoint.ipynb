{
 "cells": [
  {
   "cell_type": "code",
   "execution_count": 40,
   "metadata": {
    "collapsed": true
   },
   "outputs": [],
   "source": [
    "import yaml\n",
    "import glob\n",
    "import os"
   ]
  },
  {
   "cell_type": "code",
   "execution_count": 39,
   "metadata": {
    "collapsed": true
   },
   "outputs": [],
   "source": [
    "in_files = glob.glob(\"/home/gus/MEGAsync/zim/main/BCH/Projects/James/Nanostring_pipeline/OKT3/data/compare_ours_to_existing/*/combined_RCCs/*\")\n",
    "common_genes = \"/home/gus/MEGAsync/zim/main/BCH/Projects/James/Nanostring_pipeline/OKT3/data/compare_ours_to_existing/common_genes.yaml\""
   ]
  },
  {
   "cell_type": "code",
   "execution_count": 51,
   "metadata": {
    "collapsed": false
   },
   "outputs": [],
   "source": [
    "def count_code_summary_tag(line, tag_count):\n",
    "    if 'Code_Summary' in line:\n",
    "        tag_count += 1\n",
    "        return tag_count\n",
    "    else:\n",
    "        return tag_count\n",
    "    \n",
    "def in_code_summary(tag_count):\n",
    "    if tag_count == 1:\n",
    "        return True\n",
    "    else:\n",
    "        return False\n",
    "\n",
    "def test_line(line, gene_set):\n",
    "    name = line.split(',')[1].lower()\n",
    "    if name in gene_set:\n",
    "        return True\n",
    "    else:\n",
    "        return False\n",
    "\n",
    "        \n",
    "def get_out_file_path(f):\n",
    "    base, ext = os.path.splitext(f)\n",
    "    \n",
    "    return \"{base}.common{ext}\".format(base=base,ext=ext)\n",
    "  "
   ]
  },
  {
   "cell_type": "code",
   "execution_count": 52,
   "metadata": {
    "collapsed": true
   },
   "outputs": [],
   "source": [
    "f = in_files[0]"
   ]
  },
  {
   "cell_type": "code",
   "execution_count": 53,
   "metadata": {
    "collapsed": false
   },
   "outputs": [
    {
     "data": {
      "text/plain": [
       "'/home/gus/MEGAsync/zim/main/BCH/Projects/James/Nanostring_pipeline/OKT3/data/compare_ours_to_existing/treg/combined_RCCs/BWH006_Treg_w0_12.common.RCC'"
      ]
     },
     "execution_count": 53,
     "metadata": {},
     "output_type": "execute_result"
    }
   ],
   "source": [
    "get_out_file_path(f)"
   ]
  },
  {
   "cell_type": "code",
   "execution_count": 56,
   "metadata": {
    "collapsed": true
   },
   "outputs": [],
   "source": [
    "genes = yaml.load(open(common_genes))\n",
    "common = genes['common']\n",
    "hk = genes['hk']"
   ]
  },
  {
   "cell_type": "code",
   "execution_count": 58,
   "metadata": {
    "collapsed": false
   },
   "outputs": [],
   "source": [
    "keep_genes = set([i.lower() for i in common+['Name']])\n",
    "\n",
    "hk_genes = set([i.lower() for i in hk])"
   ]
  },
  {
   "cell_type": "code",
   "execution_count": 55,
   "metadata": {
    "collapsed": false
   },
   "outputs": [
    {
     "name": "stdout",
     "output_type": "stream",
     "text": [
      "File: BWH006_Treg_w0_12.RCC\n",
      "\tRejected: 88\n",
      "File: GSM1515483_tTreg.RCC\n",
      "\tRejected: 20\n",
      "File: MGH001_Treg_w0_04.RCC\n",
      "\tRejected: 88\n",
      "File: GSM1515486_tTreg.RCC\n",
      "\tRejected: 20\n",
      "File: GSM1515480_tTreg.RCC\n",
      "\tRejected: 20\n",
      "File: BWH008_Treg_w0_01.RCC\n",
      "\tRejected: 88\n",
      "File: MGH007_Treg_w0_09.RCC\n",
      "\tRejected: 88\n",
      "File: MGH004_Treg_w0_01.RCC\n",
      "\tRejected: 88\n",
      "File: GSM1518474_CpTp.RCC\n",
      "\tRejected: 20\n",
      "File: GSM1518464_CpTp.RCC\n",
      "\tRejected: 20\n",
      "File: BWH006_Treg_w0_12.RCC\n",
      "\tRejected: 88\n",
      "File: MGH001_Treg_w0_04.RCC\n",
      "\tRejected: 88\n",
      "File: BWH008_Treg_w0_01.RCC\n",
      "\tRejected: 88\n",
      "File: MGH007_Treg_w0_09.RCC\n",
      "\tRejected: 88\n",
      "File: MGH004_Treg_w0_01.RCC\n",
      "\tRejected: 88\n",
      "File: GSM1518469_CpTp.RCC\n",
      "\tRejected: 20\n",
      "File: GSM973584.RCC\n",
      "\tRejected: 20\n",
      "File: MGH001_CD14_w0_07.RCC\n",
      "\tRejected: 88\n",
      "File: GSM973583.RCC\n",
      "\tRejected: 20\n",
      "File: GSM973592.RCC\n",
      "\tRejected: 20\n",
      "File: GSM973586.RCC\n",
      "\tRejected: 20\n",
      "File: MGH004_CD14_w0_09.RCC\n",
      "\tRejected: 88\n",
      "File: GSM973588.RCC\n",
      "\tRejected: 20\n",
      "File: GSM973587.RCC\n",
      "\tRejected: 20\n",
      "File: GSM973585.RCC\n",
      "\tRejected: 20\n",
      "File: MGH002_CD14_w0_05.RCC\n",
      "\tRejected: 88\n",
      "File: BWH006_CD14_w0_04.RCC\n",
      "\tRejected: 88\n",
      "File: BWH008_CD14_w0_09.RCC\n",
      "\tRejected: 88\n",
      "File: GSM973591.RCC\n",
      "\tRejected: 20\n",
      "File: GSM973589.RCC\n",
      "\tRejected: 20\n",
      "File: MGH007_CD14_w0_10.RCC\n",
      "\tRejected: 88\n",
      "File: GSM973590.RCC\n",
      "\tRejected: 20\n",
      "File: GSM1515488_Tcon.RCC\n",
      "\tRejected: 20\n",
      "File: BWH006_Tcon_w0_08.RCC\n",
      "\tRejected: 88\n",
      "File: BWH008_Tcon_w0_05.RCC\n",
      "\tRejected: 88\n",
      "File: GSM1515485_Tcon.RCC\n",
      "\tRejected: 20\n",
      "File: MGH007_Tcon_w0_11.RCC\n",
      "\tRejected: 88\n",
      "File: MGH001_Tcon_w0_01.RCC\n",
      "\tRejected: 88\n",
      "File: MGH004_Tcon_w0_05.RCC\n",
      "\tRejected: 88\n",
      "File: GSM1515482_Tcon.RCC\n",
      "\tRejected: 20\n",
      "File: MGH002_Tcon_w0_01.RCC\n",
      "\tRejected: 88\n"
     ]
    }
   ],
   "source": [
    "\n",
    "\n",
    "for f in in_files:\n",
    "    sum_tags = 0\n",
    "    not_kept = []\n",
    "\n",
    "    out_file = get_out_file_path(f)\n",
    "    with open(out_file,'w') as out:\n",
    "\n",
    "        try:\n",
    "            for line in open(f, 'rU'):\n",
    "                sum_tags = count_code_summary_tag(line, tag_count=sum_tags)\n",
    "\n",
    "                if in_code_summary(tag_count=sum_tags):\n",
    "\n",
    "                    if \"Code_Summary\" in line:\n",
    "                        out.write(line)\n",
    "\n",
    "                    elif test_line(line,keep_genes):\n",
    "                        if test_line(line, hk_genes):\n",
    "                            out.write(line.replace('Endogenous','Housekeeping'))\n",
    "                        else:\n",
    "                            out.write(line)\n",
    "                    else:\n",
    "                        not_kept.append(line)\n",
    "\n",
    "\n",
    "                else:\n",
    "                    out.write(line)\n",
    "        except IndexError as e:\n",
    "            print line\n",
    "            raise\n",
    "            \n",
    "    print \"File: {f}\\n\\tRejected: {r}\".format(f=os.path.basename(f), r=len(not_kept))\n",
    "            \n",
    "    \n",
    "        "
   ]
  },
  {
   "cell_type": "code",
   "execution_count": 33,
   "metadata": {
    "collapsed": false
   },
   "outputs": [
    {
     "data": {
      "text/plain": [
       "88"
      ]
     },
     "execution_count": 33,
     "metadata": {},
     "output_type": "execute_result"
    }
   ],
   "source": [
    "len(not_kept)"
   ]
  },
  {
   "cell_type": "code",
   "execution_count": 36,
   "metadata": {
    "collapsed": false
   },
   "outputs": [
    {
     "name": "stdout",
     "output_type": "stream",
     "text": [
      "Endogenous,LAG3,NM_002286.5,1\n",
      "Endogenous,KLRC2,NM_002260.3,0\n",
      "Endogenous,ATG5,NM_004849.2,11\n",
      "Endogenous,KLRK1,NM_007360.1,0\n",
      "Endogenous,TICAM1,NM_014261.1,13\n",
      "Endogenous,ARG1,NM_000045.2,1\n",
      "Endogenous,IDO1,NM_002164.3,2\n",
      "Endogenous,BAX,NM_138761.3,33\n",
      "Endogenous,KIR_Inhibiting_Subgroup_1,NM_014218.2,0\n",
      "Endogenous,ATG10,NM_001131028.1,5\n",
      "Endogenous,THY1,NM_006288.2,0\n",
      "Endogenous,MRC1,NM_002438.2,2\n",
      "Endogenous,MALT1,NM_006785.2,15\n",
      "Endogenous,CXCL9,NM_002416.1,1\n",
      "Endogenous,NT5E,NM_002526.2,4\n",
      "Endogenous,EDNRB,NM_003991.2,2\n",
      "Endogenous,CD45RA,NM_002838.4,15\n",
      "Endogenous,KLRF1,NM_016523.1,1\n",
      "Endogenous,CD70,NM_001252.2,1\n",
      "Endogenous,EGR1,NM_001964.2,4\n",
      "Endogenous,KIR_Inhibiting_Subgroup_2,NM_014511.3,0\n",
      "Endogenous,CCND3,NM_001760.2,35\n",
      "Endogenous,CD45R0,NM_080921.3,43\n",
      "Endogenous,KIR_Activating_Subgroup_1,NM_001083539.1,8\n",
      "Endogenous,PECAM1,NM_000442.3,108\n",
      "Endogenous,DUSP4,NM_057158.2,0\n",
      "Endogenous,ATG12,NM_004707.2,4\n",
      "Endogenous,EGR2,NM_000399.3,5\n",
      "Endogenous,KLRC3,NM_007333.2,3\n",
      "Endogenous,GBP5,NM_052942.3,7\n",
      "Endogenous,CTLA4-TM,NM_005214.3,1\n",
      "Endogenous,DEFB103A,NM_001081551.2,0\n",
      "Endogenous,LAMP3,NM_014398.3,0\n",
      "Endogenous,NOD1,NM_006092.1,4\n",
      "Endogenous,sCTLA4,NM_001037631.1,2\n",
      "Endogenous,GBP1,NM_002053.1,7\n",
      "Endogenous,GPR183,NM_004951.3,1\n",
      "Endogenous,CEACAM8,NM_001816.3,4\n",
      "Endogenous,ARG2,NM_001172.3,2\n",
      "Endogenous,NLRP3,NM_001079821.2,36\n",
      "Endogenous,CLEC6A,NM_001007033.1,8\n",
      "Endogenous,TNFSF4,NM_003326.2,5\n",
      "Endogenous,BTLA,NM_181780.2,1\n",
      "Endogenous,BCL10,NM_003921.2,22\n",
      "Endogenous,CD276,NM_001024736.1,1\n",
      "Endogenous,HLA-DMA,NM_006120.3,55\n",
      "Endogenous,KLRC4,NM_013431.2,1\n",
      "Endogenous,KLRG1,NM_005810.3,2\n",
      "Endogenous,PTPRC_all,NM_080921.2,617\n",
      "Endogenous,S100A9,NM_002965.2,1586\n",
      "Endogenous,SLC2A1,NM_006516.2,0\n",
      "Endogenous,KLRAP1,NR_028045.1,4\n",
      "Endogenous,HRAS,NM_005343.2,5\n",
      "Endogenous,CD160,NM_007053.2,3\n",
      "Endogenous,S1PR1,NM_001400.3,2\n",
      "Endogenous,CD163,NM_004244.4,51\n",
      "Endogenous,KLRG2,NM_198508.2,3\n",
      "Endogenous,KCNJ2,NM_000891.2,3\n",
      "Endogenous,S100A8,NM_002964.3,798\n",
      "Endogenous,C4A/B,NM_007293.2,2\n",
      "Endogenous,GZMK,NM_002104.2,0\n",
      "Endogenous,FCGR1A/B,NM_000566.3,3\n",
      "Endogenous,CD79B,NM_021602.2,9\n",
      "Endogenous,FCGR3A/B,NM_000570.4,24\n",
      "Endogenous,LGALS3,NM_001177388.1,57\n",
      "Endogenous,KIR_Activating_Subgroup_2,NM_014512.1,0\n",
      "Endogenous,FCGR2A/C,NM_201563.4,96\n",
      "Endogenous,ZBTB16,NM_006006.4,2\n",
      "Endogenous,C14orf166,NM_016039.2,49\n",
      "Endogenous,MCL1,NM_021960.3,136\n",
      "Endogenous,MIF,NM_002415.1,9\n",
      "Endogenous,RAF1,NM_002880.2,35\n",
      "Endogenous,SLAMF6,NM_001184714.1,0\n",
      "Endogenous,ITGAE,NM_002208.4,7\n",
      "Endogenous,IL28A/B,NM_172139.2,0\n",
      "Endogenous,ATG7,NM_001136031.2,52\n",
      "Endogenous,CLEC7A,NM_197954.2,122\n",
      "Endogenous,HAVCR2,NM_032782.3,11\n",
      "Endogenous,CCR1,NM_001295.2,26\n",
      "Endogenous,BCL2L11,NM_138621.4,7\n",
      "Endogenous,B3GAT1,NM_018644.3,1\n",
      "Endogenous,PYCARD,NM_013258.3,23\n",
      "Endogenous,EOMES,NM_005442.2,7\n",
      "Endogenous,CD45RB,ENST00000367367.1,39\n",
      "Endogenous,KLRF2,NM_001190765.1,1\n",
      "Endogenous,IFNA1/13,NM_024013.1,2\n",
      "Endogenous,CTSS,NM_004079.3,943\n",
      "Endogenous,CTLA4_all,NM_005214.3,1\n"
     ]
    }
   ],
   "source": [
    "for l in not_kept:\n",
    "    print l.strip('\\n')\n"
   ]
  },
  {
   "cell_type": "code",
   "execution_count": null,
   "metadata": {
    "collapsed": true
   },
   "outputs": [],
   "source": []
  }
 ],
 "metadata": {
  "kernelspec": {
   "display_name": "Python 2",
   "language": "python",
   "name": "python2"
  },
  "language_info": {
   "codemirror_mode": {
    "name": "ipython",
    "version": 2
   },
   "file_extension": ".py",
   "mimetype": "text/x-python",
   "name": "python",
   "nbconvert_exporter": "python",
   "pygments_lexer": "ipython2",
   "version": "2.7.11"
  }
 },
 "nbformat": 4,
 "nbformat_minor": 0
}
