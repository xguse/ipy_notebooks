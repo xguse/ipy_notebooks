{
 "cells": [
  {
   "cell_type": "code",
   "execution_count": 1,
   "metadata": {
    "collapsed": true
   },
   "outputs": [],
   "source": [
    "%matplotlib inline"
   ]
  },
  {
   "cell_type": "code",
   "execution_count": 2,
   "metadata": {
    "collapsed": true
   },
   "outputs": [],
   "source": [
    "from matplotlib import pyplot as plt\n",
    "import pandas as pd\n",
    "import numpy as np\n",
    "import seaborn as sns\n",
    "sns.set_context(\"talk\")"
   ]
  },
  {
   "cell_type": "code",
   "execution_count": 3,
   "metadata": {
    "collapsed": false
   },
   "outputs": [],
   "source": [
    "import rpy2.robjects as robjects\n",
    "from rpy2.robjects.packages import importr\n",
    "from rpy2.robjects import pandas2ri\n",
    "\n",
    "r = robjects.r\n",
    "\n",
    "nsn = importr(\"NanoStringNorm\")\n",
    "egr = importr(\"edgeR\")\n",
    "\n",
    "py = pandas2ri.ri2py"
   ]
  },
  {
   "cell_type": "code",
   "execution_count": 4,
   "metadata": {
    "collapsed": true
   },
   "outputs": [],
   "source": [
    "cell_type = 'Tcon'"
   ]
  },
  {
   "cell_type": "markdown",
   "metadata": {
    "collapsed": true
   },
   "source": [
    "# Read in RCC data"
   ]
  },
  {
   "cell_type": "code",
   "execution_count": 5,
   "metadata": {
    "collapsed": true
   },
   "outputs": [],
   "source": [
    "base_path = u'/home/gus/MEGAsync/zim/main/BCH/Projects/James/Nanostring_pipeline/OKT3/data/compare_ours_to_existing/tcon'\n",
    "\n",
    "our_rcc_path = base_path+u\"/ours\"\n",
    "thr_rcc_path = base_path+u\"/theirs\""
   ]
  },
  {
   "cell_type": "code",
   "execution_count": 6,
   "metadata": {
    "collapsed": false
   },
   "outputs": [],
   "source": [
    "our_data = py(r(u\"\"\"read.markup.RCC(rcc.path=\"{PATH}\")\"\"\".format(PATH=our_rcc_path)).rx2('x'))\n",
    "thr_data = py(r(u\"\"\"read.markup.RCC(rcc.path=\"{PATH}\")\"\"\".format(PATH=thr_rcc_path)).rx2('x'))"
   ]
  },
  {
   "cell_type": "code",
   "execution_count": 7,
   "metadata": {
    "collapsed": false
   },
   "outputs": [
    {
     "data": {
      "text/plain": [
       "(608, 9)"
      ]
     },
     "execution_count": 7,
     "metadata": {},
     "output_type": "execute_result"
    }
   ],
   "source": [
    "our_data.shape"
   ]
  },
  {
   "cell_type": "code",
   "execution_count": 8,
   "metadata": {
    "collapsed": false
   },
   "outputs": [
    {
     "data": {
      "text/plain": [
       "(540, 6)"
      ]
     },
     "execution_count": 8,
     "metadata": {},
     "output_type": "execute_result"
    }
   ],
   "source": [
    "thr_data.shape"
   ]
  },
  {
   "cell_type": "code",
   "execution_count": 9,
   "metadata": {
    "collapsed": false
   },
   "outputs": [
    {
     "data": {
      "text/html": [
       "<div>\n",
       "<table border=\"1\" class=\"dataframe\">\n",
       "  <thead>\n",
       "    <tr style=\"text-align: right;\">\n",
       "      <th></th>\n",
       "      <th>CodeClass</th>\n",
       "      <th>Name</th>\n",
       "      <th>Accession</th>\n",
       "      <th>BWH006_Tcon_w0_08</th>\n",
       "      <th>BWH008_Tcon_w0_05</th>\n",
       "      <th>MGH001_Tcon_w0_01</th>\n",
       "      <th>MGH002_Tcon_w0_01</th>\n",
       "      <th>MGH004_Tcon_w0_05</th>\n",
       "      <th>MGH007_Tcon_w0_11</th>\n",
       "    </tr>\n",
       "  </thead>\n",
       "  <tbody>\n",
       "    <tr>\n",
       "      <th>1</th>\n",
       "      <td>Endogenous</td>\n",
       "      <td>VTN</td>\n",
       "      <td>NM_000638.3</td>\n",
       "      <td>0</td>\n",
       "      <td>1</td>\n",
       "      <td>3</td>\n",
       "      <td>0</td>\n",
       "      <td>2</td>\n",
       "      <td>0</td>\n",
       "    </tr>\n",
       "    <tr>\n",
       "      <th>2</th>\n",
       "      <td>Endogenous</td>\n",
       "      <td>HLA-DQB1</td>\n",
       "      <td>NM_002123.3</td>\n",
       "      <td>3</td>\n",
       "      <td>3</td>\n",
       "      <td>6</td>\n",
       "      <td>1</td>\n",
       "      <td>0</td>\n",
       "      <td>0</td>\n",
       "    </tr>\n",
       "    <tr>\n",
       "      <th>3</th>\n",
       "      <td>Endogenous</td>\n",
       "      <td>KIT</td>\n",
       "      <td>NM_000222.2</td>\n",
       "      <td>3</td>\n",
       "      <td>1</td>\n",
       "      <td>3</td>\n",
       "      <td>0</td>\n",
       "      <td>2</td>\n",
       "      <td>0</td>\n",
       "    </tr>\n",
       "    <tr>\n",
       "      <th>4</th>\n",
       "      <td>Endogenous</td>\n",
       "      <td>LAG3</td>\n",
       "      <td>NM_002286.5</td>\n",
       "      <td>1</td>\n",
       "      <td>2</td>\n",
       "      <td>3</td>\n",
       "      <td>0</td>\n",
       "      <td>6</td>\n",
       "      <td>1</td>\n",
       "    </tr>\n",
       "    <tr>\n",
       "      <th>5</th>\n",
       "      <td>Endogenous</td>\n",
       "      <td>SOCS3</td>\n",
       "      <td>NM_003955.3</td>\n",
       "      <td>35</td>\n",
       "      <td>78</td>\n",
       "      <td>11</td>\n",
       "      <td>0</td>\n",
       "      <td>19</td>\n",
       "      <td>26</td>\n",
       "    </tr>\n",
       "  </tbody>\n",
       "</table>\n",
       "</div>"
      ],
      "text/plain": [
       "    CodeClass      Name    Accession  BWH006_Tcon_w0_08  BWH008_Tcon_w0_05  \\\n",
       "1  Endogenous       VTN  NM_000638.3                  0                  1   \n",
       "2  Endogenous  HLA-DQB1  NM_002123.3                  3                  3   \n",
       "3  Endogenous       KIT  NM_000222.2                  3                  1   \n",
       "4  Endogenous      LAG3  NM_002286.5                  1                  2   \n",
       "5  Endogenous     SOCS3  NM_003955.3                 35                 78   \n",
       "\n",
       "   MGH001_Tcon_w0_01  MGH002_Tcon_w0_01  MGH004_Tcon_w0_05  MGH007_Tcon_w0_11  \n",
       "1                  3                  0                  2                  0  \n",
       "2                  6                  1                  0                  0  \n",
       "3                  3                  0                  2                  0  \n",
       "4                  3                  0                  6                  1  \n",
       "5                 11                  0                 19                 26  "
      ]
     },
     "execution_count": 9,
     "metadata": {},
     "output_type": "execute_result"
    }
   ],
   "source": [
    "our_data.head()"
   ]
  },
  {
   "cell_type": "code",
   "execution_count": 10,
   "metadata": {
    "collapsed": false
   },
   "outputs": [],
   "source": [
    "our_genes = set(our_data.Name.unique())\n",
    "thr_genes = set(thr_data.Name.unique())"
   ]
  },
  {
   "cell_type": "code",
   "execution_count": 11,
   "metadata": {
    "collapsed": false
   },
   "outputs": [
    {
     "data": {
      "text/plain": [
       "520"
      ]
     },
     "execution_count": 11,
     "metadata": {},
     "output_type": "execute_result"
    }
   ],
   "source": [
    "len(our_genes.intersection(thr_genes))"
   ]
  },
  {
   "cell_type": "markdown",
   "metadata": {},
   "source": [
    "## Join tables by gene names\n",
    "\n",
    "- We will only deal with the genes that are in commen between the tables from now on\n",
    "- thats 520 including the pos/neg controls etc."
   ]
  },
  {
   "cell_type": "code",
   "execution_count": 12,
   "metadata": {
    "collapsed": false
   },
   "outputs": [
    {
     "data": {
      "text/html": [
       "<div>\n",
       "<table border=\"1\" class=\"dataframe\">\n",
       "  <thead>\n",
       "    <tr style=\"text-align: right;\">\n",
       "      <th></th>\n",
       "      <th>CodeClass_OUR</th>\n",
       "      <th>Accession_OUR</th>\n",
       "      <th>BWH006_Tcon_w0_08</th>\n",
       "      <th>BWH008_Tcon_w0_05</th>\n",
       "      <th>MGH001_Tcon_w0_01</th>\n",
       "      <th>MGH002_Tcon_w0_01</th>\n",
       "      <th>MGH004_Tcon_w0_05</th>\n",
       "      <th>MGH007_Tcon_w0_11</th>\n",
       "      <th>CodeClass_THR</th>\n",
       "      <th>Accession_THR</th>\n",
       "      <th>GSM1515482_Tcon</th>\n",
       "      <th>GSM1515485_Tcon</th>\n",
       "      <th>GSM1515488_Tcon</th>\n",
       "    </tr>\n",
       "  </thead>\n",
       "  <tbody>\n",
       "    <tr>\n",
       "      <th>VTN</th>\n",
       "      <td>Endogenous</td>\n",
       "      <td>NM_000638.3</td>\n",
       "      <td>0</td>\n",
       "      <td>1</td>\n",
       "      <td>3</td>\n",
       "      <td>0</td>\n",
       "      <td>2</td>\n",
       "      <td>0</td>\n",
       "      <td>Endogenous</td>\n",
       "      <td>NM_000638.3</td>\n",
       "      <td>13</td>\n",
       "      <td>4</td>\n",
       "      <td>25</td>\n",
       "    </tr>\n",
       "    <tr>\n",
       "      <th>HLA-DQB1</th>\n",
       "      <td>Endogenous</td>\n",
       "      <td>NM_002123.3</td>\n",
       "      <td>3</td>\n",
       "      <td>3</td>\n",
       "      <td>6</td>\n",
       "      <td>1</td>\n",
       "      <td>0</td>\n",
       "      <td>0</td>\n",
       "      <td>Endogenous</td>\n",
       "      <td>NM_002123.3</td>\n",
       "      <td>10</td>\n",
       "      <td>3</td>\n",
       "      <td>12</td>\n",
       "    </tr>\n",
       "    <tr>\n",
       "      <th>KIT</th>\n",
       "      <td>Endogenous</td>\n",
       "      <td>NM_000222.2</td>\n",
       "      <td>3</td>\n",
       "      <td>1</td>\n",
       "      <td>3</td>\n",
       "      <td>0</td>\n",
       "      <td>2</td>\n",
       "      <td>0</td>\n",
       "      <td>Endogenous</td>\n",
       "      <td>NM_000222.1</td>\n",
       "      <td>59</td>\n",
       "      <td>15</td>\n",
       "      <td>65</td>\n",
       "    </tr>\n",
       "    <tr>\n",
       "      <th>SOCS3</th>\n",
       "      <td>Endogenous</td>\n",
       "      <td>NM_003955.3</td>\n",
       "      <td>35</td>\n",
       "      <td>78</td>\n",
       "      <td>11</td>\n",
       "      <td>0</td>\n",
       "      <td>19</td>\n",
       "      <td>26</td>\n",
       "      <td>Endogenous</td>\n",
       "      <td>NM_003955.3</td>\n",
       "      <td>111</td>\n",
       "      <td>44</td>\n",
       "      <td>139</td>\n",
       "    </tr>\n",
       "    <tr>\n",
       "      <th>TCF7</th>\n",
       "      <td>Endogenous</td>\n",
       "      <td>NM_003202.2</td>\n",
       "      <td>92</td>\n",
       "      <td>200</td>\n",
       "      <td>10</td>\n",
       "      <td>2</td>\n",
       "      <td>305</td>\n",
       "      <td>85</td>\n",
       "      <td>Endogenous</td>\n",
       "      <td>NM_003202.2</td>\n",
       "      <td>586</td>\n",
       "      <td>421</td>\n",
       "      <td>492</td>\n",
       "    </tr>\n",
       "  </tbody>\n",
       "</table>\n",
       "</div>"
      ],
      "text/plain": [
       "         CodeClass_OUR Accession_OUR  BWH006_Tcon_w0_08  BWH008_Tcon_w0_05  \\\n",
       "VTN         Endogenous   NM_000638.3                  0                  1   \n",
       "HLA-DQB1    Endogenous   NM_002123.3                  3                  3   \n",
       "KIT         Endogenous   NM_000222.2                  3                  1   \n",
       "SOCS3       Endogenous   NM_003955.3                 35                 78   \n",
       "TCF7        Endogenous   NM_003202.2                 92                200   \n",
       "\n",
       "          MGH001_Tcon_w0_01  MGH002_Tcon_w0_01  MGH004_Tcon_w0_05  \\\n",
       "VTN                       3                  0                  2   \n",
       "HLA-DQB1                  6                  1                  0   \n",
       "KIT                       3                  0                  2   \n",
       "SOCS3                    11                  0                 19   \n",
       "TCF7                     10                  2                305   \n",
       "\n",
       "          MGH007_Tcon_w0_11 CodeClass_THR Accession_THR  GSM1515482_Tcon  \\\n",
       "VTN                       0    Endogenous   NM_000638.3               13   \n",
       "HLA-DQB1                  0    Endogenous   NM_002123.3               10   \n",
       "KIT                       0    Endogenous   NM_000222.1               59   \n",
       "SOCS3                    26    Endogenous   NM_003955.3              111   \n",
       "TCF7                     85    Endogenous   NM_003202.2              586   \n",
       "\n",
       "          GSM1515485_Tcon  GSM1515488_Tcon  \n",
       "VTN                     4               25  \n",
       "HLA-DQB1                3               12  \n",
       "KIT                    15               65  \n",
       "SOCS3                  44              139  \n",
       "TCF7                  421              492  "
      ]
     },
     "execution_count": 12,
     "metadata": {},
     "output_type": "execute_result"
    }
   ],
   "source": [
    "cmb_data = pd.merge(left=our_data, right=thr_data,\n",
    "                    how='inner', on=\"Name\",\n",
    "                    left_on=None, right_on=None,\n",
    "                    left_index=False, right_index=False,\n",
    "                    sort=False, suffixes=('_OUR', '_THR'), copy=True, indicator=False)\n",
    "\n",
    "cmb_data.index = cmb_data.Name.values\n",
    "cmb_data = cmb_data.drop(labels=['Name'],axis=1)\n",
    "cmb_data.head()"
   ]
  },
  {
   "cell_type": "code",
   "execution_count": 13,
   "metadata": {
    "collapsed": false
   },
   "outputs": [
    {
     "data": {
      "text/plain": [
       "15"
      ]
     },
     "execution_count": 13,
     "metadata": {},
     "output_type": "execute_result"
    }
   ],
   "source": [
    "code_class_missmatch = cmb_data.CodeClass_OUR != cmb_data.CodeClass_THR\n",
    "sum(code_class_missmatch)"
   ]
  },
  {
   "cell_type": "markdown",
   "metadata": {},
   "source": [
    "15 rows have CodeClass designations that don't match up..."
   ]
  },
  {
   "cell_type": "code",
   "execution_count": 14,
   "metadata": {
    "collapsed": false
   },
   "outputs": [
    {
     "data": {
      "text/html": [
       "<div>\n",
       "<table border=\"1\" class=\"dataframe\">\n",
       "  <thead>\n",
       "    <tr style=\"text-align: right;\">\n",
       "      <th></th>\n",
       "      <th>CodeClass_OUR</th>\n",
       "      <th>CodeClass_THR</th>\n",
       "    </tr>\n",
       "  </thead>\n",
       "  <tbody>\n",
       "    <tr>\n",
       "      <th>EEF1G</th>\n",
       "      <td>Housekeeping</td>\n",
       "      <td>Endogenous</td>\n",
       "    </tr>\n",
       "    <tr>\n",
       "      <th>TUBB</th>\n",
       "      <td>Housekeeping</td>\n",
       "      <td>Endogenous</td>\n",
       "    </tr>\n",
       "    <tr>\n",
       "      <th>TBP</th>\n",
       "      <td>Housekeeping</td>\n",
       "      <td>Endogenous</td>\n",
       "    </tr>\n",
       "    <tr>\n",
       "      <th>POLR2A</th>\n",
       "      <td>Housekeeping</td>\n",
       "      <td>Endogenous</td>\n",
       "    </tr>\n",
       "    <tr>\n",
       "      <th>GUSB</th>\n",
       "      <td>Housekeeping</td>\n",
       "      <td>Endogenous</td>\n",
       "    </tr>\n",
       "    <tr>\n",
       "      <th>HPRT1</th>\n",
       "      <td>Housekeeping</td>\n",
       "      <td>Endogenous</td>\n",
       "    </tr>\n",
       "    <tr>\n",
       "      <th>GAPDH</th>\n",
       "      <td>Housekeeping</td>\n",
       "      <td>Endogenous</td>\n",
       "    </tr>\n",
       "    <tr>\n",
       "      <th>SDHA</th>\n",
       "      <td>Housekeeping</td>\n",
       "      <td>Endogenous</td>\n",
       "    </tr>\n",
       "    <tr>\n",
       "      <th>OAZ1</th>\n",
       "      <td>Housekeeping</td>\n",
       "      <td>Endogenous</td>\n",
       "    </tr>\n",
       "    <tr>\n",
       "      <th>PPIA</th>\n",
       "      <td>Housekeeping</td>\n",
       "      <td>Endogenous</td>\n",
       "    </tr>\n",
       "    <tr>\n",
       "      <th>G6PD</th>\n",
       "      <td>Housekeeping</td>\n",
       "      <td>Endogenous</td>\n",
       "    </tr>\n",
       "    <tr>\n",
       "      <th>RPL19</th>\n",
       "      <td>Housekeeping</td>\n",
       "      <td>Endogenous</td>\n",
       "    </tr>\n",
       "    <tr>\n",
       "      <th>POLR1B</th>\n",
       "      <td>Housekeeping</td>\n",
       "      <td>Endogenous</td>\n",
       "    </tr>\n",
       "    <tr>\n",
       "      <th>ABCF1</th>\n",
       "      <td>Housekeeping</td>\n",
       "      <td>Endogenous</td>\n",
       "    </tr>\n",
       "    <tr>\n",
       "      <th>ALAS1</th>\n",
       "      <td>Housekeeping</td>\n",
       "      <td>Endogenous</td>\n",
       "    </tr>\n",
       "  </tbody>\n",
       "</table>\n",
       "</div>"
      ],
      "text/plain": [
       "       CodeClass_OUR CodeClass_THR\n",
       "EEF1G   Housekeeping    Endogenous\n",
       "TUBB    Housekeeping    Endogenous\n",
       "TBP     Housekeeping    Endogenous\n",
       "POLR2A  Housekeeping    Endogenous\n",
       "GUSB    Housekeeping    Endogenous\n",
       "HPRT1   Housekeeping    Endogenous\n",
       "GAPDH   Housekeeping    Endogenous\n",
       "SDHA    Housekeeping    Endogenous\n",
       "OAZ1    Housekeeping    Endogenous\n",
       "PPIA    Housekeeping    Endogenous\n",
       "G6PD    Housekeeping    Endogenous\n",
       "RPL19   Housekeeping    Endogenous\n",
       "POLR1B  Housekeeping    Endogenous\n",
       "ABCF1   Housekeeping    Endogenous\n",
       "ALAS1   Housekeeping    Endogenous"
      ]
     },
     "execution_count": 14,
     "metadata": {},
     "output_type": "execute_result"
    }
   ],
   "source": [
    "cmb_data[code_class_missmatch][['CodeClass_OUR','CodeClass_THR']]"
   ]
  },
  {
   "cell_type": "markdown",
   "metadata": {},
   "source": [
    "Looks like its not too big a deal.  They just added some genes as housekeepers."
   ]
  },
  {
   "cell_type": "markdown",
   "metadata": {},
   "source": [
    "## OK lets get rid of CodeClass and Accession Columns and write to file"
   ]
  },
  {
   "cell_type": "code",
   "execution_count": 15,
   "metadata": {
    "collapsed": false
   },
   "outputs": [],
   "source": [
    "cmb_data_extra_cols = cmb_data[['CodeClass_OUR','Accession_OUR','CodeClass_THR','Accession_THR']].copy()\n",
    "\n",
    "cmb_data = cmb_data.drop(labels=['CodeClass_OUR','Accession_OUR','CodeClass_THR','Accession_THR'],axis=1)"
   ]
  },
  {
   "cell_type": "code",
   "execution_count": 16,
   "metadata": {
    "collapsed": false
   },
   "outputs": [
    {
     "name": "stdout",
     "output_type": "stream",
     "text": [
      "['BWH006_Tcon_w0_08' 'BWH008_Tcon_w0_05' 'MGH001_Tcon_w0_01'\n",
      " 'MGH002_Tcon_w0_01' 'MGH004_Tcon_w0_05' 'MGH007_Tcon_w0_11'\n",
      " 'GSM1515482_Tcon' 'GSM1515485_Tcon' 'GSM1515488_Tcon']\n"
     ]
    }
   ],
   "source": [
    "print cmb_data.columns.values"
   ]
  },
  {
   "cell_type": "code",
   "execution_count": 17,
   "metadata": {
    "collapsed": false
   },
   "outputs": [],
   "source": [
    "cmb_data_path = base_path+u\"/combo_nanostring_data.csv\"\n",
    "cmb_data.to_csv(path_or_buf=cmb_data_path, \n",
    "           columns=None, header=True, index=True,)"
   ]
  },
  {
   "cell_type": "markdown",
   "metadata": {},
   "source": [
    "## Write out the target table"
   ]
  },
  {
   "cell_type": "code",
   "execution_count": 18,
   "metadata": {
    "collapsed": false
   },
   "outputs": [
    {
     "data": {
      "text/html": [
       "<div>\n",
       "<table border=\"1\" class=\"dataframe\">\n",
       "  <thead>\n",
       "    <tr style=\"text-align: right;\">\n",
       "      <th></th>\n",
       "      <th>source</th>\n",
       "    </tr>\n",
       "  </thead>\n",
       "  <tbody>\n",
       "    <tr>\n",
       "      <th>BWH006_Tcon_w0_08</th>\n",
       "      <td>OURS</td>\n",
       "    </tr>\n",
       "    <tr>\n",
       "      <th>BWH008_Tcon_w0_05</th>\n",
       "      <td>OURS</td>\n",
       "    </tr>\n",
       "    <tr>\n",
       "      <th>MGH001_Tcon_w0_01</th>\n",
       "      <td>OURS</td>\n",
       "    </tr>\n",
       "    <tr>\n",
       "      <th>MGH002_Tcon_w0_01</th>\n",
       "      <td>OURS</td>\n",
       "    </tr>\n",
       "    <tr>\n",
       "      <th>MGH004_Tcon_w0_05</th>\n",
       "      <td>OURS</td>\n",
       "    </tr>\n",
       "    <tr>\n",
       "      <th>MGH007_Tcon_w0_11</th>\n",
       "      <td>OURS</td>\n",
       "    </tr>\n",
       "    <tr>\n",
       "      <th>GSM1515482_Tcon</th>\n",
       "      <td>THEIRS</td>\n",
       "    </tr>\n",
       "    <tr>\n",
       "      <th>GSM1515485_Tcon</th>\n",
       "      <td>THEIRS</td>\n",
       "    </tr>\n",
       "    <tr>\n",
       "      <th>GSM1515488_Tcon</th>\n",
       "      <td>THEIRS</td>\n",
       "    </tr>\n",
       "  </tbody>\n",
       "</table>\n",
       "</div>"
      ],
      "text/plain": [
       "                   source\n",
       "BWH006_Tcon_w0_08    OURS\n",
       "BWH008_Tcon_w0_05    OURS\n",
       "MGH001_Tcon_w0_01    OURS\n",
       "MGH002_Tcon_w0_01    OURS\n",
       "MGH004_Tcon_w0_05    OURS\n",
       "MGH007_Tcon_w0_11    OURS\n",
       "GSM1515482_Tcon    THEIRS\n",
       "GSM1515485_Tcon    THEIRS\n",
       "GSM1515488_Tcon    THEIRS"
      ]
     },
     "execution_count": 18,
     "metadata": {},
     "output_type": "execute_result"
    }
   ],
   "source": [
    "targets = cmb_data.T.iloc[:,0:2].copy()\n",
    "targets[u'source'] = targets.index.values\n",
    "targets.source = targets.source.apply(lambda i: 'THEIRS' if i.startswith('GSM') else 'OURS' )\n",
    "targets = pd.DataFrame(targets.source)\n",
    "targets"
   ]
  },
  {
   "cell_type": "code",
   "execution_count": 19,
   "metadata": {
    "collapsed": false
   },
   "outputs": [],
   "source": [
    "targets_path = base_path+u\"/targets.csv\"\n",
    "targets.to_csv(path_or_buf=targets_path, \n",
    "           columns=None, header=True, index=True)"
   ]
  },
  {
   "cell_type": "markdown",
   "metadata": {},
   "source": [
    "# EdgeR is used to perform normalization"
   ]
  },
  {
   "cell_type": "code",
   "execution_count": 20,
   "metadata": {
    "collapsed": false
   },
   "outputs": [],
   "source": [
    "x = py(r(u\"\"\"x <- read.delim(\"{PATH}\", sep = ',', row.names=1) \"\"\".format(PATH=cmb_data_path)))\n",
    "\n",
    "# Sort column names\n",
    "x = py(r(u\"\"\" x <- x[,order(colnames(x))] \"\"\"))"
   ]
  },
  {
   "cell_type": "code",
   "execution_count": 21,
   "metadata": {
    "collapsed": false
   },
   "outputs": [
    {
     "name": "stdout",
     "output_type": "stream",
     "text": [
      "         BWH006_Tcon_w0_08 BWH008_Tcon_w0_05 GSM1515482_Tcon GSM1515485_Tcon\n",
      "VTN                      0                 1              13               4\n",
      "HLA-DQB1                 3                 3              10               3\n",
      "KIT                      3                 1              59              15\n",
      "SOCS3                   35                78             111              44\n",
      "TCF7                    92               200             586             421\n",
      "IKBKB                    7                20              99              60\n",
      "         GSM1515488_Tcon MGH001_Tcon_w0_01 MGH002_Tcon_w0_01 MGH004_Tcon_w0_05\n",
      "VTN                   25                 3                 0                 2\n",
      "HLA-DQB1              12                 6                 1                 0\n",
      "KIT                   65                 3                 0                 2\n",
      "SOCS3                139                11                 0                19\n",
      "TCF7                 492                10                 2               305\n",
      "IKBKB                 88                 8                 0                28\n",
      "         MGH007_Tcon_w0_11\n",
      "VTN                      0\n",
      "HLA-DQB1                 0\n",
      "KIT                      0\n",
      "SOCS3                   26\n",
      "TCF7                    85\n",
      "IKBKB                   10\n",
      "\n"
     ]
    }
   ],
   "source": [
    "print r(u\"head(x)\")"
   ]
  },
  {
   "cell_type": "code",
   "execution_count": 22,
   "metadata": {
    "collapsed": false
   },
   "outputs": [
    {
     "data": {
      "text/html": [
       "<div>\n",
       "<table border=\"1\" class=\"dataframe\">\n",
       "  <thead>\n",
       "    <tr style=\"text-align: right;\">\n",
       "      <th></th>\n",
       "      <th>BWH006_Tcon_w0_08</th>\n",
       "      <th>BWH008_Tcon_w0_05</th>\n",
       "      <th>GSM1515482_Tcon</th>\n",
       "      <th>GSM1515485_Tcon</th>\n",
       "      <th>GSM1515488_Tcon</th>\n",
       "      <th>MGH001_Tcon_w0_01</th>\n",
       "      <th>MGH002_Tcon_w0_01</th>\n",
       "      <th>MGH004_Tcon_w0_05</th>\n",
       "      <th>MGH007_Tcon_w0_11</th>\n",
       "    </tr>\n",
       "  </thead>\n",
       "  <tbody>\n",
       "    <tr>\n",
       "      <th>VTN</th>\n",
       "      <td>0</td>\n",
       "      <td>1</td>\n",
       "      <td>13</td>\n",
       "      <td>4</td>\n",
       "      <td>25</td>\n",
       "      <td>3</td>\n",
       "      <td>0</td>\n",
       "      <td>2</td>\n",
       "      <td>0</td>\n",
       "    </tr>\n",
       "    <tr>\n",
       "      <th>HLA-DQB1</th>\n",
       "      <td>3</td>\n",
       "      <td>3</td>\n",
       "      <td>10</td>\n",
       "      <td>3</td>\n",
       "      <td>12</td>\n",
       "      <td>6</td>\n",
       "      <td>1</td>\n",
       "      <td>0</td>\n",
       "      <td>0</td>\n",
       "    </tr>\n",
       "    <tr>\n",
       "      <th>KIT</th>\n",
       "      <td>3</td>\n",
       "      <td>1</td>\n",
       "      <td>59</td>\n",
       "      <td>15</td>\n",
       "      <td>65</td>\n",
       "      <td>3</td>\n",
       "      <td>0</td>\n",
       "      <td>2</td>\n",
       "      <td>0</td>\n",
       "    </tr>\n",
       "    <tr>\n",
       "      <th>SOCS3</th>\n",
       "      <td>35</td>\n",
       "      <td>78</td>\n",
       "      <td>111</td>\n",
       "      <td>44</td>\n",
       "      <td>139</td>\n",
       "      <td>11</td>\n",
       "      <td>0</td>\n",
       "      <td>19</td>\n",
       "      <td>26</td>\n",
       "    </tr>\n",
       "    <tr>\n",
       "      <th>TCF7</th>\n",
       "      <td>92</td>\n",
       "      <td>200</td>\n",
       "      <td>586</td>\n",
       "      <td>421</td>\n",
       "      <td>492</td>\n",
       "      <td>10</td>\n",
       "      <td>2</td>\n",
       "      <td>305</td>\n",
       "      <td>85</td>\n",
       "    </tr>\n",
       "  </tbody>\n",
       "</table>\n",
       "</div>"
      ],
      "text/plain": [
       "          BWH006_Tcon_w0_08  BWH008_Tcon_w0_05  GSM1515482_Tcon  \\\n",
       "VTN                       0                  1               13   \n",
       "HLA-DQB1                  3                  3               10   \n",
       "KIT                       3                  1               59   \n",
       "SOCS3                    35                 78              111   \n",
       "TCF7                     92                200              586   \n",
       "\n",
       "          GSM1515485_Tcon  GSM1515488_Tcon  MGH001_Tcon_w0_01  \\\n",
       "VTN                     4               25                  3   \n",
       "HLA-DQB1                3               12                  6   \n",
       "KIT                    15               65                  3   \n",
       "SOCS3                  44              139                 11   \n",
       "TCF7                  421              492                 10   \n",
       "\n",
       "          MGH002_Tcon_w0_01  MGH004_Tcon_w0_05  MGH007_Tcon_w0_11  \n",
       "VTN                       0                  2                  0  \n",
       "HLA-DQB1                  1                  0                  0  \n",
       "KIT                       0                  2                  0  \n",
       "SOCS3                     0                 19                 26  \n",
       "TCF7                      2                305                 85  "
      ]
     },
     "execution_count": 22,
     "metadata": {},
     "output_type": "execute_result"
    }
   ],
   "source": [
    "x.head()"
   ]
  },
  {
   "cell_type": "code",
   "execution_count": 23,
   "metadata": {
    "collapsed": false
   },
   "outputs": [
    {
     "data": {
      "text/plain": [
       "<ListVector - Python:0x7f3c81009098 / R:0x75aad20>\n",
       "[Matrix, DataFrame]\n",
       "  counts: <class 'rpy2.robjects.vectors.Matrix'>\n",
       "  <Matrix - Python:0x7f3c81008638 / R:0x8107170>\n",
       "[       0,        3,        3, ...,        0,       13,        2]\n",
       "<ListVector - Python:0x7f3c81009098 / R:0x75aad20>\n",
       "[Matrix, DataFrame]"
      ]
     },
     "execution_count": 23,
     "metadata": {},
     "output_type": "execute_result"
    }
   ],
   "source": [
    "r(\"\"\"# read in target annotations for the design matrix stuff later\n",
    "targets <- read.table(\"{PATH}\",sep = ',', header = TRUE, row.names = 1)\n",
    "#targets <- targets[order(rownames(targets)),]\n",
    "targets <- lapply(targets,factor)\n",
    "\n",
    "# create the DEGList object\n",
    "y <- DGEList(counts=x,group=targets$source)\n",
    "\n",
    "\n",
    "# Filter for counts\n",
    "#keep <- rowSums(y>30) >= 2\n",
    "#y <- y[keep, , keep.lib.sizes=FALSE]\n",
    "\n",
    "# TMM normalization factors\n",
    "y <- calcNormFactors(y)\n",
    "\"\"\".format(PATH=targets_path))"
   ]
  },
  {
   "cell_type": "code",
   "execution_count": 24,
   "metadata": {
    "collapsed": false
   },
   "outputs": [],
   "source": [
    "n = py(r(\"n <- cpm(y)\"))\n",
    "n_rows = py(r(\"rownames(n)\"))\n",
    "n_cols = py(r(\"colnames(n)\"))"
   ]
  },
  {
   "cell_type": "code",
   "execution_count": 25,
   "metadata": {
    "collapsed": false
   },
   "outputs": [],
   "source": [
    "y_norm = pd.DataFrame(n, columns=n_cols, index=n_rows)"
   ]
  },
  {
   "cell_type": "code",
   "execution_count": 26,
   "metadata": {
    "collapsed": false
   },
   "outputs": [
    {
     "data": {
      "text/html": [
       "<div>\n",
       "<table border=\"1\" class=\"dataframe\">\n",
       "  <thead>\n",
       "    <tr style=\"text-align: right;\">\n",
       "      <th></th>\n",
       "      <th>VTN</th>\n",
       "      <th>HLA-DQB1</th>\n",
       "      <th>KIT</th>\n",
       "      <th>SOCS3</th>\n",
       "      <th>TCF7</th>\n",
       "      <th>IKBKB</th>\n",
       "      <th>ITGA6</th>\n",
       "      <th>CXCR4</th>\n",
       "      <th>NFKBIZ</th>\n",
       "      <th>MAPK14</th>\n",
       "      <th>...</th>\n",
       "      <th>HPRT1</th>\n",
       "      <th>GAPDH</th>\n",
       "      <th>SDHA</th>\n",
       "      <th>OAZ1</th>\n",
       "      <th>PPIA</th>\n",
       "      <th>G6PD</th>\n",
       "      <th>RPL19</th>\n",
       "      <th>POLR1B</th>\n",
       "      <th>ABCF1</th>\n",
       "      <th>ALAS1</th>\n",
       "    </tr>\n",
       "  </thead>\n",
       "  <tbody>\n",
       "    <tr>\n",
       "      <th>BWH006_Tcon_w0_08</th>\n",
       "      <td>0.000000</td>\n",
       "      <td>97.295143</td>\n",
       "      <td>97.295143</td>\n",
       "      <td>1135.109999</td>\n",
       "      <td>2983.717712</td>\n",
       "      <td>227.022000</td>\n",
       "      <td>1167.541713</td>\n",
       "      <td>5026.915710</td>\n",
       "      <td>1102.678285</td>\n",
       "      <td>551.339142</td>\n",
       "      <td>...</td>\n",
       "      <td>227.022000</td>\n",
       "      <td>1978.334570</td>\n",
       "      <td>227.022000</td>\n",
       "      <td>1070.246571</td>\n",
       "      <td>259.453714</td>\n",
       "      <td>129.726857</td>\n",
       "      <td>13459.161418</td>\n",
       "      <td>32.431714</td>\n",
       "      <td>162.158571</td>\n",
       "      <td>64.863429</td>\n",
       "    </tr>\n",
       "    <tr>\n",
       "      <th>BWH008_Tcon_w0_05</th>\n",
       "      <td>14.664944</td>\n",
       "      <td>43.994833</td>\n",
       "      <td>14.664944</td>\n",
       "      <td>1143.865662</td>\n",
       "      <td>2932.988877</td>\n",
       "      <td>293.298888</td>\n",
       "      <td>1143.865662</td>\n",
       "      <td>3886.210262</td>\n",
       "      <td>689.252386</td>\n",
       "      <td>542.602942</td>\n",
       "      <td>...</td>\n",
       "      <td>337.293721</td>\n",
       "      <td>2537.035379</td>\n",
       "      <td>278.633943</td>\n",
       "      <td>1070.540940</td>\n",
       "      <td>205.309221</td>\n",
       "      <td>131.984499</td>\n",
       "      <td>16586.052101</td>\n",
       "      <td>117.319555</td>\n",
       "      <td>351.958665</td>\n",
       "      <td>102.654611</td>\n",
       "    </tr>\n",
       "    <tr>\n",
       "      <th>GSM1515482_Tcon</th>\n",
       "      <td>52.949966</td>\n",
       "      <td>40.730743</td>\n",
       "      <td>240.311385</td>\n",
       "      <td>452.111250</td>\n",
       "      <td>2386.821553</td>\n",
       "      <td>403.234358</td>\n",
       "      <td>1205.629999</td>\n",
       "      <td>1225.995371</td>\n",
       "      <td>1568.133614</td>\n",
       "      <td>484.695844</td>\n",
       "      <td>...</td>\n",
       "      <td>73.315338</td>\n",
       "      <td>346.211317</td>\n",
       "      <td>488.768919</td>\n",
       "      <td>57.023041</td>\n",
       "      <td>281.042128</td>\n",
       "      <td>175.142196</td>\n",
       "      <td>2325.725438</td>\n",
       "      <td>69.242263</td>\n",
       "      <td>252.530608</td>\n",
       "      <td>69.242263</td>\n",
       "    </tr>\n",
       "    <tr>\n",
       "      <th>GSM1515485_Tcon</th>\n",
       "      <td>33.828924</td>\n",
       "      <td>25.371693</td>\n",
       "      <td>126.858466</td>\n",
       "      <td>372.118168</td>\n",
       "      <td>3560.494290</td>\n",
       "      <td>507.433866</td>\n",
       "      <td>1454.643748</td>\n",
       "      <td>1987.449307</td>\n",
       "      <td>1801.390223</td>\n",
       "      <td>431.318786</td>\n",
       "      <td>...</td>\n",
       "      <td>50.743387</td>\n",
       "      <td>304.460319</td>\n",
       "      <td>439.776017</td>\n",
       "      <td>50.743387</td>\n",
       "      <td>262.174164</td>\n",
       "      <td>135.315697</td>\n",
       "      <td>2638.656101</td>\n",
       "      <td>59.200618</td>\n",
       "      <td>279.088626</td>\n",
       "      <td>50.743387</td>\n",
       "    </tr>\n",
       "    <tr>\n",
       "      <th>GSM1515488_Tcon</th>\n",
       "      <td>84.515433</td>\n",
       "      <td>40.567408</td>\n",
       "      <td>219.740125</td>\n",
       "      <td>469.905807</td>\n",
       "      <td>1663.263718</td>\n",
       "      <td>297.494324</td>\n",
       "      <td>780.922599</td>\n",
       "      <td>1487.471618</td>\n",
       "      <td>1061.513836</td>\n",
       "      <td>351.584201</td>\n",
       "      <td>...</td>\n",
       "      <td>91.276667</td>\n",
       "      <td>240.023829</td>\n",
       "      <td>398.912843</td>\n",
       "      <td>77.754198</td>\n",
       "      <td>260.307533</td>\n",
       "      <td>131.844075</td>\n",
       "      <td>2751.822493</td>\n",
       "      <td>57.470494</td>\n",
       "      <td>155.508396</td>\n",
       "      <td>64.231729</td>\n",
       "    </tr>\n",
       "    <tr>\n",
       "      <th>MGH001_Tcon_w0_01</th>\n",
       "      <td>61.386762</td>\n",
       "      <td>122.773524</td>\n",
       "      <td>61.386762</td>\n",
       "      <td>225.084795</td>\n",
       "      <td>204.622541</td>\n",
       "      <td>163.698033</td>\n",
       "      <td>143.235779</td>\n",
       "      <td>920.801433</td>\n",
       "      <td>368.320573</td>\n",
       "      <td>204.622541</td>\n",
       "      <td>...</td>\n",
       "      <td>81.849016</td>\n",
       "      <td>347.858319</td>\n",
       "      <td>204.622541</td>\n",
       "      <td>225.084795</td>\n",
       "      <td>143.235779</td>\n",
       "      <td>40.924508</td>\n",
       "      <td>1084.499466</td>\n",
       "      <td>61.386762</td>\n",
       "      <td>122.773524</td>\n",
       "      <td>143.235779</td>\n",
       "    </tr>\n",
       "    <tr>\n",
       "      <th>MGH002_Tcon_w0_01</th>\n",
       "      <td>0.000000</td>\n",
       "      <td>82.979847</td>\n",
       "      <td>0.000000</td>\n",
       "      <td>0.000000</td>\n",
       "      <td>165.959695</td>\n",
       "      <td>0.000000</td>\n",
       "      <td>82.979847</td>\n",
       "      <td>248.939542</td>\n",
       "      <td>0.000000</td>\n",
       "      <td>82.979847</td>\n",
       "      <td>...</td>\n",
       "      <td>165.959695</td>\n",
       "      <td>165.959695</td>\n",
       "      <td>0.000000</td>\n",
       "      <td>165.959695</td>\n",
       "      <td>0.000000</td>\n",
       "      <td>0.000000</td>\n",
       "      <td>1078.738016</td>\n",
       "      <td>82.979847</td>\n",
       "      <td>165.959695</td>\n",
       "      <td>0.000000</td>\n",
       "    </tr>\n",
       "    <tr>\n",
       "      <th>MGH004_Tcon_w0_05</th>\n",
       "      <td>26.877817</td>\n",
       "      <td>0.000000</td>\n",
       "      <td>26.877817</td>\n",
       "      <td>255.339263</td>\n",
       "      <td>4098.867113</td>\n",
       "      <td>376.289440</td>\n",
       "      <td>1357.329765</td>\n",
       "      <td>2754.976256</td>\n",
       "      <td>792.895605</td>\n",
       "      <td>658.506520</td>\n",
       "      <td>...</td>\n",
       "      <td>241.900354</td>\n",
       "      <td>2701.220622</td>\n",
       "      <td>524.117434</td>\n",
       "      <td>1518.596668</td>\n",
       "      <td>174.705811</td>\n",
       "      <td>80.633451</td>\n",
       "      <td>22819.266747</td>\n",
       "      <td>94.072360</td>\n",
       "      <td>403.167257</td>\n",
       "      <td>40.316726</td>\n",
       "    </tr>\n",
       "    <tr>\n",
       "      <th>MGH007_Tcon_w0_11</th>\n",
       "      <td>0.000000</td>\n",
       "      <td>0.000000</td>\n",
       "      <td>0.000000</td>\n",
       "      <td>717.477175</td>\n",
       "      <td>2345.598457</td>\n",
       "      <td>275.952760</td>\n",
       "      <td>1324.573247</td>\n",
       "      <td>5684.626850</td>\n",
       "      <td>910.644107</td>\n",
       "      <td>441.524416</td>\n",
       "      <td>...</td>\n",
       "      <td>303.548036</td>\n",
       "      <td>2069.645698</td>\n",
       "      <td>220.762208</td>\n",
       "      <td>1048.620487</td>\n",
       "      <td>275.952760</td>\n",
       "      <td>27.595276</td>\n",
       "      <td>16584.760858</td>\n",
       "      <td>0.000000</td>\n",
       "      <td>358.738588</td>\n",
       "      <td>55.190552</td>\n",
       "    </tr>\n",
       "  </tbody>\n",
       "</table>\n",
       "<p>9 rows × 520 columns</p>\n",
       "</div>"
      ],
      "text/plain": [
       "                         VTN    HLA-DQB1         KIT        SOCS3  \\\n",
       "BWH006_Tcon_w0_08   0.000000   97.295143   97.295143  1135.109999   \n",
       "BWH008_Tcon_w0_05  14.664944   43.994833   14.664944  1143.865662   \n",
       "GSM1515482_Tcon    52.949966   40.730743  240.311385   452.111250   \n",
       "GSM1515485_Tcon    33.828924   25.371693  126.858466   372.118168   \n",
       "GSM1515488_Tcon    84.515433   40.567408  219.740125   469.905807   \n",
       "MGH001_Tcon_w0_01  61.386762  122.773524   61.386762   225.084795   \n",
       "MGH002_Tcon_w0_01   0.000000   82.979847    0.000000     0.000000   \n",
       "MGH004_Tcon_w0_05  26.877817    0.000000   26.877817   255.339263   \n",
       "MGH007_Tcon_w0_11   0.000000    0.000000    0.000000   717.477175   \n",
       "\n",
       "                          TCF7       IKBKB        ITGA6        CXCR4  \\\n",
       "BWH006_Tcon_w0_08  2983.717712  227.022000  1167.541713  5026.915710   \n",
       "BWH008_Tcon_w0_05  2932.988877  293.298888  1143.865662  3886.210262   \n",
       "GSM1515482_Tcon    2386.821553  403.234358  1205.629999  1225.995371   \n",
       "GSM1515485_Tcon    3560.494290  507.433866  1454.643748  1987.449307   \n",
       "GSM1515488_Tcon    1663.263718  297.494324   780.922599  1487.471618   \n",
       "MGH001_Tcon_w0_01   204.622541  163.698033   143.235779   920.801433   \n",
       "MGH002_Tcon_w0_01   165.959695    0.000000    82.979847   248.939542   \n",
       "MGH004_Tcon_w0_05  4098.867113  376.289440  1357.329765  2754.976256   \n",
       "MGH007_Tcon_w0_11  2345.598457  275.952760  1324.573247  5684.626850   \n",
       "\n",
       "                        NFKBIZ      MAPK14     ...           HPRT1  \\\n",
       "BWH006_Tcon_w0_08  1102.678285  551.339142     ...      227.022000   \n",
       "BWH008_Tcon_w0_05   689.252386  542.602942     ...      337.293721   \n",
       "GSM1515482_Tcon    1568.133614  484.695844     ...       73.315338   \n",
       "GSM1515485_Tcon    1801.390223  431.318786     ...       50.743387   \n",
       "GSM1515488_Tcon    1061.513836  351.584201     ...       91.276667   \n",
       "MGH001_Tcon_w0_01   368.320573  204.622541     ...       81.849016   \n",
       "MGH002_Tcon_w0_01     0.000000   82.979847     ...      165.959695   \n",
       "MGH004_Tcon_w0_05   792.895605  658.506520     ...      241.900354   \n",
       "MGH007_Tcon_w0_11   910.644107  441.524416     ...      303.548036   \n",
       "\n",
       "                         GAPDH        SDHA         OAZ1        PPIA  \\\n",
       "BWH006_Tcon_w0_08  1978.334570  227.022000  1070.246571  259.453714   \n",
       "BWH008_Tcon_w0_05  2537.035379  278.633943  1070.540940  205.309221   \n",
       "GSM1515482_Tcon     346.211317  488.768919    57.023041  281.042128   \n",
       "GSM1515485_Tcon     304.460319  439.776017    50.743387  262.174164   \n",
       "GSM1515488_Tcon     240.023829  398.912843    77.754198  260.307533   \n",
       "MGH001_Tcon_w0_01   347.858319  204.622541   225.084795  143.235779   \n",
       "MGH002_Tcon_w0_01   165.959695    0.000000   165.959695    0.000000   \n",
       "MGH004_Tcon_w0_05  2701.220622  524.117434  1518.596668  174.705811   \n",
       "MGH007_Tcon_w0_11  2069.645698  220.762208  1048.620487  275.952760   \n",
       "\n",
       "                         G6PD         RPL19      POLR1B       ABCF1  \\\n",
       "BWH006_Tcon_w0_08  129.726857  13459.161418   32.431714  162.158571   \n",
       "BWH008_Tcon_w0_05  131.984499  16586.052101  117.319555  351.958665   \n",
       "GSM1515482_Tcon    175.142196   2325.725438   69.242263  252.530608   \n",
       "GSM1515485_Tcon    135.315697   2638.656101   59.200618  279.088626   \n",
       "GSM1515488_Tcon    131.844075   2751.822493   57.470494  155.508396   \n",
       "MGH001_Tcon_w0_01   40.924508   1084.499466   61.386762  122.773524   \n",
       "MGH002_Tcon_w0_01    0.000000   1078.738016   82.979847  165.959695   \n",
       "MGH004_Tcon_w0_05   80.633451  22819.266747   94.072360  403.167257   \n",
       "MGH007_Tcon_w0_11   27.595276  16584.760858    0.000000  358.738588   \n",
       "\n",
       "                        ALAS1  \n",
       "BWH006_Tcon_w0_08   64.863429  \n",
       "BWH008_Tcon_w0_05  102.654611  \n",
       "GSM1515482_Tcon     69.242263  \n",
       "GSM1515485_Tcon     50.743387  \n",
       "GSM1515488_Tcon     64.231729  \n",
       "MGH001_Tcon_w0_01  143.235779  \n",
       "MGH002_Tcon_w0_01    0.000000  \n",
       "MGH004_Tcon_w0_05   40.316726  \n",
       "MGH007_Tcon_w0_11   55.190552  \n",
       "\n",
       "[9 rows x 520 columns]"
      ]
     },
     "execution_count": 26,
     "metadata": {},
     "output_type": "execute_result"
    }
   ],
   "source": [
    "y_norm.T"
   ]
  },
  {
   "cell_type": "code",
   "execution_count": 27,
   "metadata": {
    "collapsed": false
   },
   "outputs": [],
   "source": [
    "cmb_cpm = pd.merge(left=targets, right=y_norm.T, \n",
    "                   how='inner', on=None, \n",
    "                   left_on=None, right_on=None, \n",
    "                   left_index=True, right_index=True, \n",
    "                   sort=False, suffixes=('_x', '_y'), copy=True, indicator=False)"
   ]
  },
  {
   "cell_type": "code",
   "execution_count": 28,
   "metadata": {
    "collapsed": false
   },
   "outputs": [],
   "source": [
    "cmb_cpm_mean = cmb_cpm.groupby('source').mean()\n",
    "cmb_cpm_mean = cmb_cpm_mean.T"
   ]
  },
  {
   "cell_type": "code",
   "execution_count": 29,
   "metadata": {
    "collapsed": false
   },
   "outputs": [
    {
     "name": "stderr",
     "output_type": "stream",
     "text": [
      "/home/gus/anaconda2/envs/stack2/lib/python2.7/site-packages/matplotlib/collections.py:590: FutureWarning: elementwise comparison failed; returning scalar instead, but in the future will perform elementwise comparison\n",
      "  if self._edgecolors == str('face'):\n"
     ]
    },
    {
     "data": {
      "image/png": "[encoded data removed]",
      "text/plain": [
       "<matplotlib.figure.Figure at 0x7f3c840ea890>"
      ]
     },
     "metadata": {},
     "output_type": "display_data"
    }
   ],
   "source": [
    "sns.jointplot(x='OURS', y='THEIRS',\n",
    "              data=np.log10(cmb_cpm_mean+1), kind='scatter',\n",
    "             );\n",
    "\n",
    "plt.suptitle(\"Comparison of our {cell} Nanostring data vs published.\".format(cell=cell_type), y=1,);"
   ]
  },
  {
   "cell_type": "markdown",
   "metadata": {},
   "source": [
    "### Lets look at the external controls"
   ]
  },
  {
   "cell_type": "code",
   "execution_count": 30,
   "metadata": {
    "collapsed": false
   },
   "outputs": [
    {
     "data": {
      "text/html": [
       "<div>\n",
       "<table border=\"1\" class=\"dataframe\">\n",
       "  <thead>\n",
       "    <tr style=\"text-align: right;\">\n",
       "      <th></th>\n",
       "      <th>CodeClass_OUR</th>\n",
       "      <th>Accession_OUR</th>\n",
       "      <th>CodeClass_THR</th>\n",
       "      <th>Accession_THR</th>\n",
       "    </tr>\n",
       "  </thead>\n",
       "  <tbody>\n",
       "    <tr>\n",
       "      <th>VTN</th>\n",
       "      <td>Endogenous</td>\n",
       "      <td>NM_000638.3</td>\n",
       "      <td>Endogenous</td>\n",
       "      <td>NM_000638.3</td>\n",
       "    </tr>\n",
       "    <tr>\n",
       "      <th>HLA-DQB1</th>\n",
       "      <td>Endogenous</td>\n",
       "      <td>NM_002123.3</td>\n",
       "      <td>Endogenous</td>\n",
       "      <td>NM_002123.3</td>\n",
       "    </tr>\n",
       "    <tr>\n",
       "      <th>KIT</th>\n",
       "      <td>Endogenous</td>\n",
       "      <td>NM_000222.2</td>\n",
       "      <td>Endogenous</td>\n",
       "      <td>NM_000222.1</td>\n",
       "    </tr>\n",
       "    <tr>\n",
       "      <th>SOCS3</th>\n",
       "      <td>Endogenous</td>\n",
       "      <td>NM_003955.3</td>\n",
       "      <td>Endogenous</td>\n",
       "      <td>NM_003955.3</td>\n",
       "    </tr>\n",
       "    <tr>\n",
       "      <th>TCF7</th>\n",
       "      <td>Endogenous</td>\n",
       "      <td>NM_003202.2</td>\n",
       "      <td>Endogenous</td>\n",
       "      <td>NM_003202.2</td>\n",
       "    </tr>\n",
       "  </tbody>\n",
       "</table>\n",
       "</div>"
      ],
      "text/plain": [
       "         CodeClass_OUR Accession_OUR CodeClass_THR Accession_THR\n",
       "VTN         Endogenous   NM_000638.3    Endogenous   NM_000638.3\n",
       "HLA-DQB1    Endogenous   NM_002123.3    Endogenous   NM_002123.3\n",
       "KIT         Endogenous   NM_000222.2    Endogenous   NM_000222.1\n",
       "SOCS3       Endogenous   NM_003955.3    Endogenous   NM_003955.3\n",
       "TCF7        Endogenous   NM_003202.2    Endogenous   NM_003202.2"
      ]
     },
     "execution_count": 30,
     "metadata": {},
     "output_type": "execute_result"
    }
   ],
   "source": [
    "cmb_data_extra_cols.head()"
   ]
  },
  {
   "cell_type": "code",
   "execution_count": 31,
   "metadata": {
    "collapsed": false
   },
   "outputs": [
    {
     "data": {
      "text/plain": [
       "array(['Endogenous', 'Positive', 'Negative', 'Housekeeping'], dtype=object)"
      ]
     },
     "execution_count": 31,
     "metadata": {},
     "output_type": "execute_result"
    }
   ],
   "source": [
    "cmb_data_extra_cols.CodeClass_OUR.unique()"
   ]
  },
  {
   "cell_type": "code",
   "execution_count": 32,
   "metadata": {
    "collapsed": false
   },
   "outputs": [
    {
     "data": {
      "text/plain": [
       "array(['Endogenous', 'Positive', 'Negative'], dtype=object)"
      ]
     },
     "execution_count": 32,
     "metadata": {},
     "output_type": "execute_result"
    }
   ],
   "source": [
    "cmb_data_extra_cols.CodeClass_THR.unique()"
   ]
  },
  {
   "cell_type": "code",
   "execution_count": 33,
   "metadata": {
    "collapsed": false
   },
   "outputs": [],
   "source": [
    "pos_ctrl = list(cmb_data_extra_cols.query(\"\"\" CodeClass_OUR == \"Positive\" \"\"\").index.values)\n",
    "neg_ctrl = list(cmb_data_extra_cols.query(\"\"\" CodeClass_OUR == \"Negative\" \"\"\").index.values)\n",
    "hsk_gene = list(cmb_data_extra_cols.query(\"\"\" CodeClass_OUR == \"Housekeeping\" \"\"\").index.values)\n",
    "bth_ctrl = pos_ctrl + neg_ctrl\n",
    "pan_gene = list(cmb_data_extra_cols[cmb_data_extra_cols.CodeClass_OUR.apply(lambda i: i in ['Housekeeping','Endogenous'])].index.values)"
   ]
  },
  {
   "cell_type": "code",
   "execution_count": 34,
   "metadata": {
    "collapsed": false
   },
   "outputs": [
    {
     "data": {
      "text/plain": [
       "['POS_C(8)',\n",
       " 'POS_A(128)',\n",
       " 'POS_F(0.125)',\n",
       " 'POS_D(2)',\n",
       " 'POS_B(32)',\n",
       " 'POS_E(0.5)',\n",
       " 'NEG_C(0)',\n",
       " 'NEG_D(0)',\n",
       " 'NEG_E(0)',\n",
       " 'NEG_A(0)',\n",
       " 'NEG_H(0)',\n",
       " 'NEG_G(0)',\n",
       " 'NEG_F(0)',\n",
       " 'NEG_B(0)']"
      ]
     },
     "execution_count": 34,
     "metadata": {},
     "output_type": "execute_result"
    }
   ],
   "source": [
    "bth_ctrl"
   ]
  },
  {
   "cell_type": "code",
   "execution_count": 35,
   "metadata": {
    "collapsed": false
   },
   "outputs": [
    {
     "data": {
      "text/html": [
       "<div>\n",
       "<table border=\"1\" class=\"dataframe\">\n",
       "  <thead>\n",
       "    <tr style=\"text-align: right;\">\n",
       "      <th>source</th>\n",
       "      <th>OURS</th>\n",
       "      <th>THEIRS</th>\n",
       "    </tr>\n",
       "  </thead>\n",
       "  <tbody>\n",
       "    <tr>\n",
       "      <th>VTN</th>\n",
       "      <td>17.154921</td>\n",
       "      <td>57.098108</td>\n",
       "    </tr>\n",
       "    <tr>\n",
       "      <th>HLA-DQB1</th>\n",
       "      <td>57.840558</td>\n",
       "      <td>35.556615</td>\n",
       "    </tr>\n",
       "    <tr>\n",
       "      <th>KIT</th>\n",
       "      <td>33.370778</td>\n",
       "      <td>195.636659</td>\n",
       "    </tr>\n",
       "    <tr>\n",
       "      <th>SOCS3</th>\n",
       "      <td>579.479482</td>\n",
       "      <td>431.378408</td>\n",
       "    </tr>\n",
       "    <tr>\n",
       "      <th>TCF7</th>\n",
       "      <td>2121.959066</td>\n",
       "      <td>2536.859854</td>\n",
       "    </tr>\n",
       "  </tbody>\n",
       "</table>\n",
       "</div>"
      ],
      "text/plain": [
       "source           OURS       THEIRS\n",
       "VTN         17.154921    57.098108\n",
       "HLA-DQB1    57.840558    35.556615\n",
       "KIT         33.370778   195.636659\n",
       "SOCS3      579.479482   431.378408\n",
       "TCF7      2121.959066  2536.859854"
      ]
     },
     "execution_count": 35,
     "metadata": {},
     "output_type": "execute_result"
    }
   ],
   "source": [
    "cmb_cpm_mean.head()"
   ]
  },
  {
   "cell_type": "code",
   "execution_count": 36,
   "metadata": {
    "collapsed": false
   },
   "outputs": [
    {
     "data": {
      "image/png": "[encoded data removed]",
      "text/plain": [
       "<matplotlib.figure.Figure at 0x7f3c7e31aa50>"
      ]
     },
     "metadata": {},
     "output_type": "display_data"
    }
   ],
   "source": [
    "sns.jointplot(x='OURS', y='THEIRS',\n",
    "              data=np.log10(cmb_cpm_mean.loc[pos_ctrl]+1), kind='scatter',\n",
    "             );\n",
    "\n",
    "plt.suptitle(\"(Pos Ctrls) Comparison of our {cell} Nanostring data vs published.\".format(cell=cell_type), y=1,);"
   ]
  },
  {
   "cell_type": "code",
   "execution_count": 37,
   "metadata": {
    "collapsed": false
   },
   "outputs": [
    {
     "data": {
      "image/png": "[encoded data removed]",
      "text/plain": [
       "<matplotlib.figure.Figure at 0x7f3c7dfc9bd0>"
      ]
     },
     "metadata": {},
     "output_type": "display_data"
    }
   ],
   "source": [
    "sns.jointplot(x='OURS', y='THEIRS',\n",
    "              data=np.log10(cmb_cpm_mean.loc[neg_ctrl]+1), kind='scatter',\n",
    "             );\n",
    "\n",
    "plt.suptitle(\"(Neg Ctrls) Comparison of our {cell} Nanostring data vs published.\".format(cell=cell_type), y=1,);"
   ]
  },
  {
   "cell_type": "code",
   "execution_count": 38,
   "metadata": {
    "collapsed": false
   },
   "outputs": [
    {
     "data": {
      "text/html": [
       "<div>\n",
       "<table border=\"1\" class=\"dataframe\">\n",
       "  <thead>\n",
       "    <tr style=\"text-align: right;\">\n",
       "      <th>source</th>\n",
       "      <th>OURS</th>\n",
       "      <th>THEIRS</th>\n",
       "    </tr>\n",
       "  </thead>\n",
       "  <tbody>\n",
       "    <tr>\n",
       "      <th>NEG_C(0)</th>\n",
       "      <td>149.136107</td>\n",
       "      <td>129.680307</td>\n",
       "    </tr>\n",
       "    <tr>\n",
       "      <th>NEG_D(0)</th>\n",
       "      <td>27.489090</td>\n",
       "      <td>56.213430</td>\n",
       "    </tr>\n",
       "    <tr>\n",
       "      <th>NEG_E(0)</th>\n",
       "      <td>76.777841</td>\n",
       "      <td>58.694202</td>\n",
       "    </tr>\n",
       "    <tr>\n",
       "      <th>NEG_A(0)</th>\n",
       "      <td>94.056536</td>\n",
       "      <td>69.786553</td>\n",
       "    </tr>\n",
       "    <tr>\n",
       "      <th>NEG_H(0)</th>\n",
       "      <td>17.876231</td>\n",
       "      <td>149.623318</td>\n",
       "    </tr>\n",
       "  </tbody>\n",
       "</table>\n",
       "</div>"
      ],
      "text/plain": [
       "source          OURS      THEIRS\n",
       "NEG_C(0)  149.136107  129.680307\n",
       "NEG_D(0)   27.489090   56.213430\n",
       "NEG_E(0)   76.777841   58.694202\n",
       "NEG_A(0)   94.056536   69.786553\n",
       "NEG_H(0)   17.876231  149.623318"
      ]
     },
     "execution_count": 38,
     "metadata": {},
     "output_type": "execute_result"
    }
   ],
   "source": [
    "cmb_cpm_mean.loc[neg_ctrl].head()"
   ]
  },
  {
   "cell_type": "code",
   "execution_count": 39,
   "metadata": {
    "collapsed": false
   },
   "outputs": [
    {
     "data": {
      "image/png": "[encoded data removed]",
      "text/plain": [
       "<matplotlib.figure.Figure at 0x7f3c7ded7910>"
      ]
     },
     "metadata": {},
     "output_type": "display_data"
    }
   ],
   "source": [
    "sns.jointplot(x='OURS', y='THEIRS',\n",
    "              data=np.log10(cmb_cpm_mean.loc[hsk_gene]+1), kind='scatter',\n",
    "             );\n",
    "\n",
    "plt.suptitle(\"(Housekeeping) Comparison of our {cell} Nanostring data vs published.\".format(cell=cell_type), y=1,);"
   ]
  },
  {
   "cell_type": "code",
   "execution_count": 40,
   "metadata": {
    "collapsed": false
   },
   "outputs": [
    {
     "data": {
      "image/png": "[encoded data removed]",
      "text/plain": [
       "<matplotlib.figure.Figure at 0x7f3c7e0c0dd0>"
      ]
     },
     "metadata": {},
     "output_type": "display_data"
    }
   ],
   "source": [
    "sns.jointplot(x='OURS', y='THEIRS',\n",
    "              data=np.log10(cmb_cpm_mean.loc[pan_gene]+1), kind='scatter',\n",
    "             );\n",
    "\n",
    "plt.suptitle(\"(Panel Genes) Comparison of our {cell} Nanostring data vs published..\".format(cell=cell_type), y=1,);"
   ]
  }
 ],
 "metadata": {
  "kernelspec": {
   "display_name": "Python 2",
   "language": "python",
   "name": "python2"
  },
  "language_info": {
   "codemirror_mode": {
    "name": "ipython",
    "version": 2
   },
   "file_extension": ".py",
   "mimetype": "text/x-python",
   "name": "python",
   "nbconvert_exporter": "python",
   "pygments_lexer": "ipython2",
   "version": "2.7.11"
  }
 },
 "nbformat": 4,
 "nbformat_minor": 0
}
