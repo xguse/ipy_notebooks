{
 "cells": [
  {
   "cell_type": "code",
   "execution_count": 1,
   "metadata": {
    "collapsed": true
   },
   "outputs": [],
   "source": [
    "%matplotlib inline"
   ]
  },
  {
   "cell_type": "code",
   "execution_count": 2,
   "metadata": {
    "collapsed": true
   },
   "outputs": [],
   "source": [
    "from matplotlib import pyplot as plt\n",
    "import pandas as pd\n",
    "import numpy as np\n",
    "import seaborn as sns\n",
    "sns.set_context(\"talk\")"
   ]
  },
  {
   "cell_type": "code",
   "execution_count": 3,
   "metadata": {
    "collapsed": true
   },
   "outputs": [],
   "source": [
    "import rpy2.robjects as robjects\n",
    "from rpy2.robjects.packages import importr\n",
    "from rpy2.robjects import pandas2ri\n",
    "\n",
    "r = robjects.r\n",
    "\n",
    "nsn = importr(\"NanoStringNorm\")\n",
    "egr = importr(\"edgeR\")\n",
    "\n",
    "py = pandas2ri.ri2py"
   ]
  },
  {
   "cell_type": "markdown",
   "metadata": {
    "collapsed": true
   },
   "source": [
    "# Read in RCC data"
   ]
  },
  {
   "cell_type": "code",
   "execution_count": 4,
   "metadata": {
    "collapsed": true
   },
   "outputs": [],
   "source": [
    "base_path = u'/home/gus/MEGAsync/zim/main/BCH/Projects/James/Nanostring_pipeline/OKT3/data/compare_ours_to_existing/treg2'\n",
    "\n",
    "our_rcc_path = base_path+u\"/ours\"\n",
    "thr_rcc_path = base_path+u\"/theirs\""
   ]
  },
  {
   "cell_type": "code",
   "execution_count": 5,
   "metadata": {
    "collapsed": false
   },
   "outputs": [],
   "source": [
    "our_data = py(r(u\"\"\"read.markup.RCC(rcc.path=\"{PATH}\")\"\"\".format(PATH=our_rcc_path)).rx2('x'))\n",
    "thr_data = py(r(u\"\"\"read.markup.RCC(rcc.path=\"{PATH}\")\"\"\".format(PATH=thr_rcc_path)).rx2('x'))"
   ]
  },
  {
   "cell_type": "code",
   "execution_count": 6,
   "metadata": {
    "collapsed": false
   },
   "outputs": [
    {
     "data": {
      "text/plain": [
       "(608, 8)"
      ]
     },
     "execution_count": 6,
     "metadata": {},
     "output_type": "execute_result"
    }
   ],
   "source": [
    "our_data.shape"
   ]
  },
  {
   "cell_type": "code",
   "execution_count": 7,
   "metadata": {
    "collapsed": false
   },
   "outputs": [
    {
     "data": {
      "text/plain": [
       "(540, 6)"
      ]
     },
     "execution_count": 7,
     "metadata": {},
     "output_type": "execute_result"
    }
   ],
   "source": [
    "thr_data.shape"
   ]
  },
  {
   "cell_type": "code",
   "execution_count": 8,
   "metadata": {
    "collapsed": false
   },
   "outputs": [
    {
     "data": {
      "text/html": [
       "<div>\n",
       "<table border=\"1\" class=\"dataframe\">\n",
       "  <thead>\n",
       "    <tr style=\"text-align: right;\">\n",
       "      <th></th>\n",
       "      <th>CodeClass</th>\n",
       "      <th>Name</th>\n",
       "      <th>Accession</th>\n",
       "      <th>BWH006_Treg_w0_12</th>\n",
       "      <th>BWH008_Treg_w0_01</th>\n",
       "      <th>MGH001_Treg_w0_04</th>\n",
       "      <th>MGH004_Treg_w0_01</th>\n",
       "      <th>MGH007_Treg_w0_09</th>\n",
       "    </tr>\n",
       "  </thead>\n",
       "  <tbody>\n",
       "    <tr>\n",
       "      <th>1</th>\n",
       "      <td>Endogenous</td>\n",
       "      <td>VTN</td>\n",
       "      <td>NM_000638.3</td>\n",
       "      <td>2</td>\n",
       "      <td>2</td>\n",
       "      <td>3</td>\n",
       "      <td>0</td>\n",
       "      <td>0</td>\n",
       "    </tr>\n",
       "    <tr>\n",
       "      <th>2</th>\n",
       "      <td>Endogenous</td>\n",
       "      <td>HLA-DQB1</td>\n",
       "      <td>NM_002123.3</td>\n",
       "      <td>2</td>\n",
       "      <td>0</td>\n",
       "      <td>2</td>\n",
       "      <td>0</td>\n",
       "      <td>0</td>\n",
       "    </tr>\n",
       "    <tr>\n",
       "      <th>3</th>\n",
       "      <td>Endogenous</td>\n",
       "      <td>KIT</td>\n",
       "      <td>NM_000222.2</td>\n",
       "      <td>1</td>\n",
       "      <td>2</td>\n",
       "      <td>1</td>\n",
       "      <td>0</td>\n",
       "      <td>1</td>\n",
       "    </tr>\n",
       "    <tr>\n",
       "      <th>4</th>\n",
       "      <td>Endogenous</td>\n",
       "      <td>LAG3</td>\n",
       "      <td>NM_002286.5</td>\n",
       "      <td>1</td>\n",
       "      <td>0</td>\n",
       "      <td>4</td>\n",
       "      <td>2</td>\n",
       "      <td>1</td>\n",
       "    </tr>\n",
       "    <tr>\n",
       "      <th>5</th>\n",
       "      <td>Endogenous</td>\n",
       "      <td>SOCS3</td>\n",
       "      <td>NM_003955.3</td>\n",
       "      <td>1</td>\n",
       "      <td>1</td>\n",
       "      <td>5</td>\n",
       "      <td>0</td>\n",
       "      <td>2</td>\n",
       "    </tr>\n",
       "  </tbody>\n",
       "</table>\n",
       "</div>"
      ],
      "text/plain": [
       "    CodeClass      Name    Accession  BWH006_Treg_w0_12  BWH008_Treg_w0_01  \\\n",
       "1  Endogenous       VTN  NM_000638.3                  2                  2   \n",
       "2  Endogenous  HLA-DQB1  NM_002123.3                  2                  0   \n",
       "3  Endogenous       KIT  NM_000222.2                  1                  2   \n",
       "4  Endogenous      LAG3  NM_002286.5                  1                  0   \n",
       "5  Endogenous     SOCS3  NM_003955.3                  1                  1   \n",
       "\n",
       "   MGH001_Treg_w0_04  MGH004_Treg_w0_01  MGH007_Treg_w0_09  \n",
       "1                  3                  0                  0  \n",
       "2                  2                  0                  0  \n",
       "3                  1                  0                  1  \n",
       "4                  4                  2                  1  \n",
       "5                  5                  0                  2  "
      ]
     },
     "execution_count": 8,
     "metadata": {},
     "output_type": "execute_result"
    }
   ],
   "source": [
    "our_data.head()"
   ]
  },
  {
   "cell_type": "code",
   "execution_count": 9,
   "metadata": {
    "collapsed": false
   },
   "outputs": [],
   "source": [
    "our_genes = set(our_data.Name.unique())\n",
    "thr_genes = set(thr_data.Name.unique())"
   ]
  },
  {
   "cell_type": "code",
   "execution_count": 10,
   "metadata": {
    "collapsed": false
   },
   "outputs": [
    {
     "data": {
      "text/plain": [
       "520"
      ]
     },
     "execution_count": 10,
     "metadata": {},
     "output_type": "execute_result"
    }
   ],
   "source": [
    "len(our_genes.intersection(thr_genes))"
   ]
  },
  {
   "cell_type": "markdown",
   "metadata": {},
   "source": [
    "## Join tables by gene names\n",
    "\n",
    "- We will only deal with the genes that are in commen between the tables from now on\n",
    "- thats 520 including the pos/neg controls etc."
   ]
  },
  {
   "cell_type": "code",
   "execution_count": 11,
   "metadata": {
    "collapsed": false
   },
   "outputs": [
    {
     "data": {
      "text/html": [
       "<div>\n",
       "<table border=\"1\" class=\"dataframe\">\n",
       "  <thead>\n",
       "    <tr style=\"text-align: right;\">\n",
       "      <th></th>\n",
       "      <th>CodeClass_OUR</th>\n",
       "      <th>Accession_OUR</th>\n",
       "      <th>BWH006_Treg_w0_12</th>\n",
       "      <th>BWH008_Treg_w0_01</th>\n",
       "      <th>MGH001_Treg_w0_04</th>\n",
       "      <th>MGH004_Treg_w0_01</th>\n",
       "      <th>MGH007_Treg_w0_09</th>\n",
       "      <th>CodeClass_THR</th>\n",
       "      <th>Accession_THR</th>\n",
       "      <th>GSM1518464_CpTp</th>\n",
       "      <th>GSM1518469_CpTp</th>\n",
       "      <th>GSM1518474_CpTp</th>\n",
       "    </tr>\n",
       "  </thead>\n",
       "  <tbody>\n",
       "    <tr>\n",
       "      <th>VTN</th>\n",
       "      <td>Endogenous</td>\n",
       "      <td>NM_000638.3</td>\n",
       "      <td>2</td>\n",
       "      <td>2</td>\n",
       "      <td>3</td>\n",
       "      <td>0</td>\n",
       "      <td>0</td>\n",
       "      <td>Endogenous</td>\n",
       "      <td>NM_000638.3</td>\n",
       "      <td>10</td>\n",
       "      <td>32</td>\n",
       "      <td>18</td>\n",
       "    </tr>\n",
       "    <tr>\n",
       "      <th>HLA-DQB1</th>\n",
       "      <td>Endogenous</td>\n",
       "      <td>NM_002123.3</td>\n",
       "      <td>2</td>\n",
       "      <td>0</td>\n",
       "      <td>2</td>\n",
       "      <td>0</td>\n",
       "      <td>0</td>\n",
       "      <td>Endogenous</td>\n",
       "      <td>NM_002123.3</td>\n",
       "      <td>11</td>\n",
       "      <td>22</td>\n",
       "      <td>14</td>\n",
       "    </tr>\n",
       "    <tr>\n",
       "      <th>KIT</th>\n",
       "      <td>Endogenous</td>\n",
       "      <td>NM_000222.2</td>\n",
       "      <td>1</td>\n",
       "      <td>2</td>\n",
       "      <td>1</td>\n",
       "      <td>0</td>\n",
       "      <td>1</td>\n",
       "      <td>Endogenous</td>\n",
       "      <td>NM_000222.1</td>\n",
       "      <td>17</td>\n",
       "      <td>94</td>\n",
       "      <td>31</td>\n",
       "    </tr>\n",
       "    <tr>\n",
       "      <th>SOCS3</th>\n",
       "      <td>Endogenous</td>\n",
       "      <td>NM_003955.3</td>\n",
       "      <td>1</td>\n",
       "      <td>1</td>\n",
       "      <td>5</td>\n",
       "      <td>0</td>\n",
       "      <td>2</td>\n",
       "      <td>Endogenous</td>\n",
       "      <td>NM_003955.3</td>\n",
       "      <td>305</td>\n",
       "      <td>1604</td>\n",
       "      <td>904</td>\n",
       "    </tr>\n",
       "    <tr>\n",
       "      <th>TCF7</th>\n",
       "      <td>Endogenous</td>\n",
       "      <td>NM_003202.2</td>\n",
       "      <td>3</td>\n",
       "      <td>3</td>\n",
       "      <td>2</td>\n",
       "      <td>5</td>\n",
       "      <td>16</td>\n",
       "      <td>Endogenous</td>\n",
       "      <td>NM_003202.2</td>\n",
       "      <td>134</td>\n",
       "      <td>182</td>\n",
       "      <td>199</td>\n",
       "    </tr>\n",
       "  </tbody>\n",
       "</table>\n",
       "</div>"
      ],
      "text/plain": [
       "         CodeClass_OUR Accession_OUR  BWH006_Treg_w0_12  BWH008_Treg_w0_01  \\\n",
       "VTN         Endogenous   NM_000638.3                  2                  2   \n",
       "HLA-DQB1    Endogenous   NM_002123.3                  2                  0   \n",
       "KIT         Endogenous   NM_000222.2                  1                  2   \n",
       "SOCS3       Endogenous   NM_003955.3                  1                  1   \n",
       "TCF7        Endogenous   NM_003202.2                  3                  3   \n",
       "\n",
       "          MGH001_Treg_w0_04  MGH004_Treg_w0_01  MGH007_Treg_w0_09  \\\n",
       "VTN                       3                  0                  0   \n",
       "HLA-DQB1                  2                  0                  0   \n",
       "KIT                       1                  0                  1   \n",
       "SOCS3                     5                  0                  2   \n",
       "TCF7                      2                  5                 16   \n",
       "\n",
       "         CodeClass_THR Accession_THR  GSM1518464_CpTp  GSM1518469_CpTp  \\\n",
       "VTN         Endogenous   NM_000638.3               10               32   \n",
       "HLA-DQB1    Endogenous   NM_002123.3               11               22   \n",
       "KIT         Endogenous   NM_000222.1               17               94   \n",
       "SOCS3       Endogenous   NM_003955.3              305             1604   \n",
       "TCF7        Endogenous   NM_003202.2              134              182   \n",
       "\n",
       "          GSM1518474_CpTp  \n",
       "VTN                    18  \n",
       "HLA-DQB1               14  \n",
       "KIT                    31  \n",
       "SOCS3                 904  \n",
       "TCF7                  199  "
      ]
     },
     "execution_count": 11,
     "metadata": {},
     "output_type": "execute_result"
    }
   ],
   "source": [
    "cmb_data = pd.merge(left=our_data, right=thr_data,\n",
    "                    how='inner', on=\"Name\",\n",
    "                    left_on=None, right_on=None,\n",
    "                    left_index=False, right_index=False,\n",
    "                    sort=False, suffixes=('_OUR', '_THR'), copy=True, indicator=False)\n",
    "\n",
    "cmb_data.index = cmb_data.Name.values\n",
    "cmb_data = cmb_data.drop(labels=['Name'],axis=1)\n",
    "cmb_data.head()"
   ]
  },
  {
   "cell_type": "code",
   "execution_count": 12,
   "metadata": {
    "collapsed": false
   },
   "outputs": [
    {
     "data": {
      "text/plain": [
       "15"
      ]
     },
     "execution_count": 12,
     "metadata": {},
     "output_type": "execute_result"
    }
   ],
   "source": [
    "code_class_missmatch = cmb_data.CodeClass_OUR != cmb_data.CodeClass_THR\n",
    "sum(code_class_missmatch)"
   ]
  },
  {
   "cell_type": "markdown",
   "metadata": {},
   "source": [
    "15 rows have CodeClass designations that don't match up..."
   ]
  },
  {
   "cell_type": "code",
   "execution_count": 13,
   "metadata": {
    "collapsed": false
   },
   "outputs": [
    {
     "data": {
      "text/html": [
       "<div>\n",
       "<table border=\"1\" class=\"dataframe\">\n",
       "  <thead>\n",
       "    <tr style=\"text-align: right;\">\n",
       "      <th></th>\n",
       "      <th>CodeClass_OUR</th>\n",
       "      <th>CodeClass_THR</th>\n",
       "    </tr>\n",
       "  </thead>\n",
       "  <tbody>\n",
       "    <tr>\n",
       "      <th>EEF1G</th>\n",
       "      <td>Housekeeping</td>\n",
       "      <td>Endogenous</td>\n",
       "    </tr>\n",
       "    <tr>\n",
       "      <th>TUBB</th>\n",
       "      <td>Housekeeping</td>\n",
       "      <td>Endogenous</td>\n",
       "    </tr>\n",
       "    <tr>\n",
       "      <th>TBP</th>\n",
       "      <td>Housekeeping</td>\n",
       "      <td>Endogenous</td>\n",
       "    </tr>\n",
       "    <tr>\n",
       "      <th>POLR2A</th>\n",
       "      <td>Housekeeping</td>\n",
       "      <td>Endogenous</td>\n",
       "    </tr>\n",
       "    <tr>\n",
       "      <th>GUSB</th>\n",
       "      <td>Housekeeping</td>\n",
       "      <td>Endogenous</td>\n",
       "    </tr>\n",
       "    <tr>\n",
       "      <th>HPRT1</th>\n",
       "      <td>Housekeeping</td>\n",
       "      <td>Endogenous</td>\n",
       "    </tr>\n",
       "    <tr>\n",
       "      <th>GAPDH</th>\n",
       "      <td>Housekeeping</td>\n",
       "      <td>Endogenous</td>\n",
       "    </tr>\n",
       "    <tr>\n",
       "      <th>SDHA</th>\n",
       "      <td>Housekeeping</td>\n",
       "      <td>Endogenous</td>\n",
       "    </tr>\n",
       "    <tr>\n",
       "      <th>OAZ1</th>\n",
       "      <td>Housekeeping</td>\n",
       "      <td>Endogenous</td>\n",
       "    </tr>\n",
       "    <tr>\n",
       "      <th>PPIA</th>\n",
       "      <td>Housekeeping</td>\n",
       "      <td>Endogenous</td>\n",
       "    </tr>\n",
       "    <tr>\n",
       "      <th>G6PD</th>\n",
       "      <td>Housekeeping</td>\n",
       "      <td>Endogenous</td>\n",
       "    </tr>\n",
       "    <tr>\n",
       "      <th>RPL19</th>\n",
       "      <td>Housekeeping</td>\n",
       "      <td>Endogenous</td>\n",
       "    </tr>\n",
       "    <tr>\n",
       "      <th>POLR1B</th>\n",
       "      <td>Housekeeping</td>\n",
       "      <td>Endogenous</td>\n",
       "    </tr>\n",
       "    <tr>\n",
       "      <th>ABCF1</th>\n",
       "      <td>Housekeeping</td>\n",
       "      <td>Endogenous</td>\n",
       "    </tr>\n",
       "    <tr>\n",
       "      <th>ALAS1</th>\n",
       "      <td>Housekeeping</td>\n",
       "      <td>Endogenous</td>\n",
       "    </tr>\n",
       "  </tbody>\n",
       "</table>\n",
       "</div>"
      ],
      "text/plain": [
       "       CodeClass_OUR CodeClass_THR\n",
       "EEF1G   Housekeeping    Endogenous\n",
       "TUBB    Housekeeping    Endogenous\n",
       "TBP     Housekeeping    Endogenous\n",
       "POLR2A  Housekeeping    Endogenous\n",
       "GUSB    Housekeeping    Endogenous\n",
       "HPRT1   Housekeeping    Endogenous\n",
       "GAPDH   Housekeeping    Endogenous\n",
       "SDHA    Housekeeping    Endogenous\n",
       "OAZ1    Housekeeping    Endogenous\n",
       "PPIA    Housekeeping    Endogenous\n",
       "G6PD    Housekeeping    Endogenous\n",
       "RPL19   Housekeeping    Endogenous\n",
       "POLR1B  Housekeeping    Endogenous\n",
       "ABCF1   Housekeeping    Endogenous\n",
       "ALAS1   Housekeeping    Endogenous"
      ]
     },
     "execution_count": 13,
     "metadata": {},
     "output_type": "execute_result"
    }
   ],
   "source": [
    "cmb_data[code_class_missmatch][['CodeClass_OUR','CodeClass_THR']]"
   ]
  },
  {
   "cell_type": "markdown",
   "metadata": {},
   "source": [
    "Looks like its not too big a deal.  They just added some genes as housekeepers."
   ]
  },
  {
   "cell_type": "markdown",
   "metadata": {},
   "source": [
    "## OK lets get rid of CodeClass and Accession Columns and write to file"
   ]
  },
  {
   "cell_type": "code",
   "execution_count": 14,
   "metadata": {
    "collapsed": false
   },
   "outputs": [],
   "source": [
    "cmb_data_extra_cols = cmb_data[['CodeClass_OUR','Accession_OUR','CodeClass_THR','Accession_THR']].copy()\n",
    "\n",
    "cmb_data_nsn = cmb_data.drop(labels=['CodeClass_THR','Accession_THR'],axis=1)"
   ]
  },
  {
   "cell_type": "code",
   "execution_count": 15,
   "metadata": {
    "collapsed": false,
    "scrolled": true
   },
   "outputs": [],
   "source": [
    "cmb_data_nsn.rename(columns={'CodeClass_OUR':'CodeClass','Accession_OUR':'Accession'}, inplace=True)"
   ]
  },
  {
   "cell_type": "code",
   "execution_count": 16,
   "metadata": {
    "collapsed": false
   },
   "outputs": [
    {
     "data": {
      "text/html": [
       "<div>\n",
       "<table border=\"1\" class=\"dataframe\">\n",
       "  <thead>\n",
       "    <tr style=\"text-align: right;\">\n",
       "      <th></th>\n",
       "      <th>CodeClass</th>\n",
       "      <th>Accession</th>\n",
       "      <th>BWH006_Treg_w0_12</th>\n",
       "      <th>BWH008_Treg_w0_01</th>\n",
       "      <th>MGH001_Treg_w0_04</th>\n",
       "      <th>MGH004_Treg_w0_01</th>\n",
       "      <th>MGH007_Treg_w0_09</th>\n",
       "      <th>GSM1518464_CpTp</th>\n",
       "      <th>GSM1518469_CpTp</th>\n",
       "      <th>GSM1518474_CpTp</th>\n",
       "    </tr>\n",
       "  </thead>\n",
       "  <tbody>\n",
       "    <tr>\n",
       "      <th>VTN</th>\n",
       "      <td>Endogenous</td>\n",
       "      <td>NM_000638.3</td>\n",
       "      <td>2</td>\n",
       "      <td>2</td>\n",
       "      <td>3</td>\n",
       "      <td>0</td>\n",
       "      <td>0</td>\n",
       "      <td>10</td>\n",
       "      <td>32</td>\n",
       "      <td>18</td>\n",
       "    </tr>\n",
       "    <tr>\n",
       "      <th>HLA-DQB1</th>\n",
       "      <td>Endogenous</td>\n",
       "      <td>NM_002123.3</td>\n",
       "      <td>2</td>\n",
       "      <td>0</td>\n",
       "      <td>2</td>\n",
       "      <td>0</td>\n",
       "      <td>0</td>\n",
       "      <td>11</td>\n",
       "      <td>22</td>\n",
       "      <td>14</td>\n",
       "    </tr>\n",
       "    <tr>\n",
       "      <th>KIT</th>\n",
       "      <td>Endogenous</td>\n",
       "      <td>NM_000222.2</td>\n",
       "      <td>1</td>\n",
       "      <td>2</td>\n",
       "      <td>1</td>\n",
       "      <td>0</td>\n",
       "      <td>1</td>\n",
       "      <td>17</td>\n",
       "      <td>94</td>\n",
       "      <td>31</td>\n",
       "    </tr>\n",
       "    <tr>\n",
       "      <th>SOCS3</th>\n",
       "      <td>Endogenous</td>\n",
       "      <td>NM_003955.3</td>\n",
       "      <td>1</td>\n",
       "      <td>1</td>\n",
       "      <td>5</td>\n",
       "      <td>0</td>\n",
       "      <td>2</td>\n",
       "      <td>305</td>\n",
       "      <td>1604</td>\n",
       "      <td>904</td>\n",
       "    </tr>\n",
       "    <tr>\n",
       "      <th>TCF7</th>\n",
       "      <td>Endogenous</td>\n",
       "      <td>NM_003202.2</td>\n",
       "      <td>3</td>\n",
       "      <td>3</td>\n",
       "      <td>2</td>\n",
       "      <td>5</td>\n",
       "      <td>16</td>\n",
       "      <td>134</td>\n",
       "      <td>182</td>\n",
       "      <td>199</td>\n",
       "    </tr>\n",
       "  </tbody>\n",
       "</table>\n",
       "</div>"
      ],
      "text/plain": [
       "           CodeClass    Accession  BWH006_Treg_w0_12  BWH008_Treg_w0_01  \\\n",
       "VTN       Endogenous  NM_000638.3                  2                  2   \n",
       "HLA-DQB1  Endogenous  NM_002123.3                  2                  0   \n",
       "KIT       Endogenous  NM_000222.2                  1                  2   \n",
       "SOCS3     Endogenous  NM_003955.3                  1                  1   \n",
       "TCF7      Endogenous  NM_003202.2                  3                  3   \n",
       "\n",
       "          MGH001_Treg_w0_04  MGH004_Treg_w0_01  MGH007_Treg_w0_09  \\\n",
       "VTN                       3                  0                  0   \n",
       "HLA-DQB1                  2                  0                  0   \n",
       "KIT                       1                  0                  1   \n",
       "SOCS3                     5                  0                  2   \n",
       "TCF7                      2                  5                 16   \n",
       "\n",
       "          GSM1518464_CpTp  GSM1518469_CpTp  GSM1518474_CpTp  \n",
       "VTN                    10               32               18  \n",
       "HLA-DQB1               11               22               14  \n",
       "KIT                    17               94               31  \n",
       "SOCS3                 305             1604              904  \n",
       "TCF7                  134              182              199  "
      ]
     },
     "execution_count": 16,
     "metadata": {},
     "output_type": "execute_result"
    }
   ],
   "source": [
    "cmb_data_nsn.head()"
   ]
  },
  {
   "cell_type": "markdown",
   "metadata": {},
   "source": [
    "### Replace index to column and reorder first three columns"
   ]
  },
  {
   "cell_type": "code",
   "execution_count": 17,
   "metadata": {
    "collapsed": false
   },
   "outputs": [],
   "source": [
    "cmb_data_nsn = cmb_data_nsn.reset_index().rename(columns={'index':'Name'})"
   ]
  },
  {
   "cell_type": "code",
   "execution_count": 18,
   "metadata": {
    "collapsed": false
   },
   "outputs": [
    {
     "data": {
      "text/html": [
       "<div>\n",
       "<table border=\"1\" class=\"dataframe\">\n",
       "  <thead>\n",
       "    <tr style=\"text-align: right;\">\n",
       "      <th></th>\n",
       "      <th>Name</th>\n",
       "      <th>CodeClass</th>\n",
       "      <th>Accession</th>\n",
       "      <th>BWH006_Treg_w0_12</th>\n",
       "      <th>BWH008_Treg_w0_01</th>\n",
       "      <th>MGH001_Treg_w0_04</th>\n",
       "      <th>MGH004_Treg_w0_01</th>\n",
       "      <th>MGH007_Treg_w0_09</th>\n",
       "      <th>GSM1518464_CpTp</th>\n",
       "      <th>GSM1518469_CpTp</th>\n",
       "      <th>GSM1518474_CpTp</th>\n",
       "    </tr>\n",
       "  </thead>\n",
       "  <tbody>\n",
       "    <tr>\n",
       "      <th>0</th>\n",
       "      <td>VTN</td>\n",
       "      <td>Endogenous</td>\n",
       "      <td>NM_000638.3</td>\n",
       "      <td>2</td>\n",
       "      <td>2</td>\n",
       "      <td>3</td>\n",
       "      <td>0</td>\n",
       "      <td>0</td>\n",
       "      <td>10</td>\n",
       "      <td>32</td>\n",
       "      <td>18</td>\n",
       "    </tr>\n",
       "    <tr>\n",
       "      <th>1</th>\n",
       "      <td>HLA-DQB1</td>\n",
       "      <td>Endogenous</td>\n",
       "      <td>NM_002123.3</td>\n",
       "      <td>2</td>\n",
       "      <td>0</td>\n",
       "      <td>2</td>\n",
       "      <td>0</td>\n",
       "      <td>0</td>\n",
       "      <td>11</td>\n",
       "      <td>22</td>\n",
       "      <td>14</td>\n",
       "    </tr>\n",
       "    <tr>\n",
       "      <th>2</th>\n",
       "      <td>KIT</td>\n",
       "      <td>Endogenous</td>\n",
       "      <td>NM_000222.2</td>\n",
       "      <td>1</td>\n",
       "      <td>2</td>\n",
       "      <td>1</td>\n",
       "      <td>0</td>\n",
       "      <td>1</td>\n",
       "      <td>17</td>\n",
       "      <td>94</td>\n",
       "      <td>31</td>\n",
       "    </tr>\n",
       "    <tr>\n",
       "      <th>3</th>\n",
       "      <td>SOCS3</td>\n",
       "      <td>Endogenous</td>\n",
       "      <td>NM_003955.3</td>\n",
       "      <td>1</td>\n",
       "      <td>1</td>\n",
       "      <td>5</td>\n",
       "      <td>0</td>\n",
       "      <td>2</td>\n",
       "      <td>305</td>\n",
       "      <td>1604</td>\n",
       "      <td>904</td>\n",
       "    </tr>\n",
       "    <tr>\n",
       "      <th>4</th>\n",
       "      <td>TCF7</td>\n",
       "      <td>Endogenous</td>\n",
       "      <td>NM_003202.2</td>\n",
       "      <td>3</td>\n",
       "      <td>3</td>\n",
       "      <td>2</td>\n",
       "      <td>5</td>\n",
       "      <td>16</td>\n",
       "      <td>134</td>\n",
       "      <td>182</td>\n",
       "      <td>199</td>\n",
       "    </tr>\n",
       "  </tbody>\n",
       "</table>\n",
       "</div>"
      ],
      "text/plain": [
       "       Name   CodeClass    Accession  BWH006_Treg_w0_12  BWH008_Treg_w0_01  \\\n",
       "0       VTN  Endogenous  NM_000638.3                  2                  2   \n",
       "1  HLA-DQB1  Endogenous  NM_002123.3                  2                  0   \n",
       "2       KIT  Endogenous  NM_000222.2                  1                  2   \n",
       "3     SOCS3  Endogenous  NM_003955.3                  1                  1   \n",
       "4      TCF7  Endogenous  NM_003202.2                  3                  3   \n",
       "\n",
       "   MGH001_Treg_w0_04  MGH004_Treg_w0_01  MGH007_Treg_w0_09  GSM1518464_CpTp  \\\n",
       "0                  3                  0                  0               10   \n",
       "1                  2                  0                  0               11   \n",
       "2                  1                  0                  1               17   \n",
       "3                  5                  0                  2              305   \n",
       "4                  2                  5                 16              134   \n",
       "\n",
       "   GSM1518469_CpTp  GSM1518474_CpTp  \n",
       "0               32               18  \n",
       "1               22               14  \n",
       "2               94               31  \n",
       "3             1604              904  \n",
       "4              182              199  "
      ]
     },
     "execution_count": 18,
     "metadata": {},
     "output_type": "execute_result"
    }
   ],
   "source": [
    "cmb_data_nsn.head()"
   ]
  },
  {
   "cell_type": "code",
   "execution_count": 19,
   "metadata": {
    "collapsed": false
   },
   "outputs": [
    {
     "data": {
      "text/html": [
       "<div>\n",
       "<table border=\"1\" class=\"dataframe\">\n",
       "  <thead>\n",
       "    <tr style=\"text-align: right;\">\n",
       "      <th></th>\n",
       "      <th>CodeClass</th>\n",
       "      <th>Name</th>\n",
       "      <th>Accession</th>\n",
       "      <th>BWH006_Treg_w0_12</th>\n",
       "      <th>BWH008_Treg_w0_01</th>\n",
       "      <th>MGH001_Treg_w0_04</th>\n",
       "      <th>MGH004_Treg_w0_01</th>\n",
       "      <th>MGH007_Treg_w0_09</th>\n",
       "      <th>GSM1518464_CpTp</th>\n",
       "      <th>GSM1518469_CpTp</th>\n",
       "      <th>GSM1518474_CpTp</th>\n",
       "    </tr>\n",
       "  </thead>\n",
       "  <tbody>\n",
       "    <tr>\n",
       "      <th>0</th>\n",
       "      <td>Endogenous</td>\n",
       "      <td>VTN</td>\n",
       "      <td>NM_000638.3</td>\n",
       "      <td>2</td>\n",
       "      <td>2</td>\n",
       "      <td>3</td>\n",
       "      <td>0</td>\n",
       "      <td>0</td>\n",
       "      <td>10</td>\n",
       "      <td>32</td>\n",
       "      <td>18</td>\n",
       "    </tr>\n",
       "    <tr>\n",
       "      <th>1</th>\n",
       "      <td>Endogenous</td>\n",
       "      <td>HLA-DQB1</td>\n",
       "      <td>NM_002123.3</td>\n",
       "      <td>2</td>\n",
       "      <td>0</td>\n",
       "      <td>2</td>\n",
       "      <td>0</td>\n",
       "      <td>0</td>\n",
       "      <td>11</td>\n",
       "      <td>22</td>\n",
       "      <td>14</td>\n",
       "    </tr>\n",
       "    <tr>\n",
       "      <th>2</th>\n",
       "      <td>Endogenous</td>\n",
       "      <td>KIT</td>\n",
       "      <td>NM_000222.2</td>\n",
       "      <td>1</td>\n",
       "      <td>2</td>\n",
       "      <td>1</td>\n",
       "      <td>0</td>\n",
       "      <td>1</td>\n",
       "      <td>17</td>\n",
       "      <td>94</td>\n",
       "      <td>31</td>\n",
       "    </tr>\n",
       "    <tr>\n",
       "      <th>3</th>\n",
       "      <td>Endogenous</td>\n",
       "      <td>SOCS3</td>\n",
       "      <td>NM_003955.3</td>\n",
       "      <td>1</td>\n",
       "      <td>1</td>\n",
       "      <td>5</td>\n",
       "      <td>0</td>\n",
       "      <td>2</td>\n",
       "      <td>305</td>\n",
       "      <td>1604</td>\n",
       "      <td>904</td>\n",
       "    </tr>\n",
       "    <tr>\n",
       "      <th>4</th>\n",
       "      <td>Endogenous</td>\n",
       "      <td>TCF7</td>\n",
       "      <td>NM_003202.2</td>\n",
       "      <td>3</td>\n",
       "      <td>3</td>\n",
       "      <td>2</td>\n",
       "      <td>5</td>\n",
       "      <td>16</td>\n",
       "      <td>134</td>\n",
       "      <td>182</td>\n",
       "      <td>199</td>\n",
       "    </tr>\n",
       "  </tbody>\n",
       "</table>\n",
       "</div>"
      ],
      "text/plain": [
       "    CodeClass      Name    Accession  BWH006_Treg_w0_12  BWH008_Treg_w0_01  \\\n",
       "0  Endogenous       VTN  NM_000638.3                  2                  2   \n",
       "1  Endogenous  HLA-DQB1  NM_002123.3                  2                  0   \n",
       "2  Endogenous       KIT  NM_000222.2                  1                  2   \n",
       "3  Endogenous     SOCS3  NM_003955.3                  1                  1   \n",
       "4  Endogenous      TCF7  NM_003202.2                  3                  3   \n",
       "\n",
       "   MGH001_Treg_w0_04  MGH004_Treg_w0_01  MGH007_Treg_w0_09  GSM1518464_CpTp  \\\n",
       "0                  3                  0                  0               10   \n",
       "1                  2                  0                  0               11   \n",
       "2                  1                  0                  1               17   \n",
       "3                  5                  0                  2              305   \n",
       "4                  2                  5                 16              134   \n",
       "\n",
       "   GSM1518469_CpTp  GSM1518474_CpTp  \n",
       "0               32               18  \n",
       "1               22               14  \n",
       "2               94               31  \n",
       "3             1604              904  \n",
       "4              182              199  "
      ]
     },
     "execution_count": 19,
     "metadata": {},
     "output_type": "execute_result"
    }
   ],
   "source": [
    "cmb_data_nsn = pd.concat([cmb_data_nsn[['CodeClass','Name','Accession']], cmb_data_nsn.iloc[:,3:]], axis=1)\n",
    "cmb_data_nsn.head()"
   ]
  },
  {
   "cell_type": "markdown",
   "metadata": {},
   "source": [
    "# Finally write the file out"
   ]
  },
  {
   "cell_type": "code",
   "execution_count": 21,
   "metadata": {
    "collapsed": false
   },
   "outputs": [],
   "source": [
    "cmb_data_path = base_path+u\"/combo_nanostring_data_common_tags.csv\"\n",
    "cmb_data_nsn.to_csv(cmb_data_path, \n",
    "           columns=None, header=True, index=False,)"
   ]
  },
  {
   "cell_type": "code",
   "execution_count": null,
   "metadata": {
    "collapsed": true
   },
   "outputs": [],
   "source": []
  }
 ],
 "metadata": {
  "kernelspec": {
   "display_name": "Python 2",
   "language": "python",
   "name": "python2"
  },
  "language_info": {
   "codemirror_mode": {
    "name": "ipython",
    "version": 2
   },
   "file_extension": ".py",
   "mimetype": "text/x-python",
   "name": "python",
   "nbconvert_exporter": "python",
   "pygments_lexer": "ipython2",
   "version": "2.7.11"
  }
 },
 "nbformat": 4,
 "nbformat_minor": 0
}
