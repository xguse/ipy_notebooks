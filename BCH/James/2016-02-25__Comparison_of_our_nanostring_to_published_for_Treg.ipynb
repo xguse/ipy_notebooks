{
 "cells": [
  {
   "cell_type": "code",
   "execution_count": 1,
   "metadata": {
    "collapsed": true
   },
   "outputs": [],
   "source": [
    "%matplotlib inline"
   ]
  },
  {
   "cell_type": "code",
   "execution_count": 2,
   "metadata": {
    "collapsed": true
   },
   "outputs": [],
   "source": [
    "from matplotlib import pyplot as plt\n",
    "import pandas as pd\n",
    "import numpy as np\n",
    "import seaborn as sns\n",
    "sns.set_context(\"talk\")"
   ]
  },
  {
   "cell_type": "code",
   "execution_count": 3,
   "metadata": {
    "collapsed": false
   },
   "outputs": [],
   "source": [
    "import rpy2.robjects as robjects\n",
    "from rpy2.robjects.packages import importr\n",
    "from rpy2.robjects import pandas2ri\n",
    "\n",
    "r = robjects.r\n",
    "\n",
    "nsn = importr(\"NanoStringNorm\")\n",
    "egr = importr(\"edgeR\")\n",
    "\n",
    "py = pandas2ri.ri2py"
   ]
  },
  {
   "cell_type": "code",
   "execution_count": 4,
   "metadata": {
    "collapsed": true
   },
   "outputs": [],
   "source": [
    "cell_type = 'Treg'"
   ]
  },
  {
   "cell_type": "markdown",
   "metadata": {
    "collapsed": true
   },
   "source": [
    "# Read in RCC data"
   ]
  },
  {
   "cell_type": "code",
   "execution_count": 5,
   "metadata": {
    "collapsed": true
   },
   "outputs": [],
   "source": [
    "base_path = u'/home/gus/MEGAsync/zim/main/BCH/Projects/James/Nanostring_pipeline/OKT3/data/compare_ours_to_existing/treg'\n",
    "\n",
    "our_rcc_path = base_path+u\"/ours\"\n",
    "thr_rcc_path = base_path+u\"/theirs\""
   ]
  },
  {
   "cell_type": "code",
   "execution_count": 6,
   "metadata": {
    "collapsed": false
   },
   "outputs": [],
   "source": [
    "our_data = py(r(u\"\"\"read.markup.RCC(rcc.path=\"{PATH}\")\"\"\".format(PATH=our_rcc_path)).rx2('x'))\n",
    "thr_data = py(r(u\"\"\"read.markup.RCC(rcc.path=\"{PATH}\")\"\"\".format(PATH=thr_rcc_path)).rx2('x'))"
   ]
  },
  {
   "cell_type": "code",
   "execution_count": 7,
   "metadata": {
    "collapsed": false
   },
   "outputs": [
    {
     "data": {
      "text/plain": [
       "(608, 8)"
      ]
     },
     "execution_count": 7,
     "metadata": {},
     "output_type": "execute_result"
    }
   ],
   "source": [
    "our_data.shape"
   ]
  },
  {
   "cell_type": "code",
   "execution_count": 8,
   "metadata": {
    "collapsed": false
   },
   "outputs": [
    {
     "data": {
      "text/plain": [
       "(540, 6)"
      ]
     },
     "execution_count": 8,
     "metadata": {},
     "output_type": "execute_result"
    }
   ],
   "source": [
    "thr_data.shape"
   ]
  },
  {
   "cell_type": "code",
   "execution_count": 9,
   "metadata": {
    "collapsed": false
   },
   "outputs": [
    {
     "data": {
      "text/html": [
       "<div>\n",
       "<table border=\"1\" class=\"dataframe\">\n",
       "  <thead>\n",
       "    <tr style=\"text-align: right;\">\n",
       "      <th></th>\n",
       "      <th>CodeClass</th>\n",
       "      <th>Name</th>\n",
       "      <th>Accession</th>\n",
       "      <th>BWH006_Treg_w0_12</th>\n",
       "      <th>BWH008_Treg_w0_01</th>\n",
       "      <th>MGH001_Treg_w0_04</th>\n",
       "      <th>MGH004_Treg_w0_01</th>\n",
       "      <th>MGH007_Treg_w0_09</th>\n",
       "    </tr>\n",
       "  </thead>\n",
       "  <tbody>\n",
       "    <tr>\n",
       "      <th>1</th>\n",
       "      <td>Endogenous</td>\n",
       "      <td>VTN</td>\n",
       "      <td>NM_000638.3</td>\n",
       "      <td>2</td>\n",
       "      <td>2</td>\n",
       "      <td>3</td>\n",
       "      <td>0</td>\n",
       "      <td>0</td>\n",
       "    </tr>\n",
       "    <tr>\n",
       "      <th>2</th>\n",
       "      <td>Endogenous</td>\n",
       "      <td>HLA-DQB1</td>\n",
       "      <td>NM_002123.3</td>\n",
       "      <td>2</td>\n",
       "      <td>0</td>\n",
       "      <td>2</td>\n",
       "      <td>0</td>\n",
       "      <td>0</td>\n",
       "    </tr>\n",
       "    <tr>\n",
       "      <th>3</th>\n",
       "      <td>Endogenous</td>\n",
       "      <td>KIT</td>\n",
       "      <td>NM_000222.2</td>\n",
       "      <td>1</td>\n",
       "      <td>2</td>\n",
       "      <td>1</td>\n",
       "      <td>0</td>\n",
       "      <td>1</td>\n",
       "    </tr>\n",
       "    <tr>\n",
       "      <th>4</th>\n",
       "      <td>Endogenous</td>\n",
       "      <td>LAG3</td>\n",
       "      <td>NM_002286.5</td>\n",
       "      <td>1</td>\n",
       "      <td>0</td>\n",
       "      <td>4</td>\n",
       "      <td>2</td>\n",
       "      <td>1</td>\n",
       "    </tr>\n",
       "    <tr>\n",
       "      <th>5</th>\n",
       "      <td>Endogenous</td>\n",
       "      <td>SOCS3</td>\n",
       "      <td>NM_003955.3</td>\n",
       "      <td>1</td>\n",
       "      <td>1</td>\n",
       "      <td>5</td>\n",
       "      <td>0</td>\n",
       "      <td>2</td>\n",
       "    </tr>\n",
       "  </tbody>\n",
       "</table>\n",
       "</div>"
      ],
      "text/plain": [
       "    CodeClass      Name    Accession  BWH006_Treg_w0_12  BWH008_Treg_w0_01  \\\n",
       "1  Endogenous       VTN  NM_000638.3                  2                  2   \n",
       "2  Endogenous  HLA-DQB1  NM_002123.3                  2                  0   \n",
       "3  Endogenous       KIT  NM_000222.2                  1                  2   \n",
       "4  Endogenous      LAG3  NM_002286.5                  1                  0   \n",
       "5  Endogenous     SOCS3  NM_003955.3                  1                  1   \n",
       "\n",
       "   MGH001_Treg_w0_04  MGH004_Treg_w0_01  MGH007_Treg_w0_09  \n",
       "1                  3                  0                  0  \n",
       "2                  2                  0                  0  \n",
       "3                  1                  0                  1  \n",
       "4                  4                  2                  1  \n",
       "5                  5                  0                  2  "
      ]
     },
     "execution_count": 9,
     "metadata": {},
     "output_type": "execute_result"
    }
   ],
   "source": [
    "our_data.head()"
   ]
  },
  {
   "cell_type": "code",
   "execution_count": 10,
   "metadata": {
    "collapsed": false
   },
   "outputs": [],
   "source": [
    "our_genes = set(our_data.Name.unique())\n",
    "thr_genes = set(thr_data.Name.unique())"
   ]
  },
  {
   "cell_type": "code",
   "execution_count": 11,
   "metadata": {
    "collapsed": false
   },
   "outputs": [
    {
     "data": {
      "text/plain": [
       "520"
      ]
     },
     "execution_count": 11,
     "metadata": {},
     "output_type": "execute_result"
    }
   ],
   "source": [
    "len(our_genes.intersection(thr_genes))"
   ]
  },
  {
   "cell_type": "markdown",
   "metadata": {},
   "source": [
    "## Join tables by gene names\n",
    "\n",
    "- We will only deal with the genes that are in commen between the tables from now on\n",
    "- thats 520 including the pos/neg controls etc."
   ]
  },
  {
   "cell_type": "code",
   "execution_count": 12,
   "metadata": {
    "collapsed": false
   },
   "outputs": [
    {
     "data": {
      "text/html": [
       "<div>\n",
       "<table border=\"1\" class=\"dataframe\">\n",
       "  <thead>\n",
       "    <tr style=\"text-align: right;\">\n",
       "      <th></th>\n",
       "      <th>CodeClass_OUR</th>\n",
       "      <th>Accession_OUR</th>\n",
       "      <th>BWH006_Treg_w0_12</th>\n",
       "      <th>BWH008_Treg_w0_01</th>\n",
       "      <th>MGH001_Treg_w0_04</th>\n",
       "      <th>MGH004_Treg_w0_01</th>\n",
       "      <th>MGH007_Treg_w0_09</th>\n",
       "      <th>CodeClass_THR</th>\n",
       "      <th>Accession_THR</th>\n",
       "      <th>GSM1515480_tTreg</th>\n",
       "      <th>GSM1515483_tTreg</th>\n",
       "      <th>GSM1515486_tTreg</th>\n",
       "    </tr>\n",
       "  </thead>\n",
       "  <tbody>\n",
       "    <tr>\n",
       "      <th>VTN</th>\n",
       "      <td>Endogenous</td>\n",
       "      <td>NM_000638.3</td>\n",
       "      <td>2</td>\n",
       "      <td>2</td>\n",
       "      <td>3</td>\n",
       "      <td>0</td>\n",
       "      <td>0</td>\n",
       "      <td>Endogenous</td>\n",
       "      <td>NM_000638.3</td>\n",
       "      <td>21</td>\n",
       "      <td>5</td>\n",
       "      <td>15</td>\n",
       "    </tr>\n",
       "    <tr>\n",
       "      <th>HLA-DQB1</th>\n",
       "      <td>Endogenous</td>\n",
       "      <td>NM_002123.3</td>\n",
       "      <td>2</td>\n",
       "      <td>0</td>\n",
       "      <td>2</td>\n",
       "      <td>0</td>\n",
       "      <td>0</td>\n",
       "      <td>Endogenous</td>\n",
       "      <td>NM_002123.3</td>\n",
       "      <td>9</td>\n",
       "      <td>6</td>\n",
       "      <td>12</td>\n",
       "    </tr>\n",
       "    <tr>\n",
       "      <th>KIT</th>\n",
       "      <td>Endogenous</td>\n",
       "      <td>NM_000222.2</td>\n",
       "      <td>1</td>\n",
       "      <td>2</td>\n",
       "      <td>1</td>\n",
       "      <td>0</td>\n",
       "      <td>1</td>\n",
       "      <td>Endogenous</td>\n",
       "      <td>NM_000222.1</td>\n",
       "      <td>68</td>\n",
       "      <td>21</td>\n",
       "      <td>65</td>\n",
       "    </tr>\n",
       "    <tr>\n",
       "      <th>SOCS3</th>\n",
       "      <td>Endogenous</td>\n",
       "      <td>NM_003955.3</td>\n",
       "      <td>1</td>\n",
       "      <td>1</td>\n",
       "      <td>5</td>\n",
       "      <td>0</td>\n",
       "      <td>2</td>\n",
       "      <td>Endogenous</td>\n",
       "      <td>NM_003955.3</td>\n",
       "      <td>68</td>\n",
       "      <td>36</td>\n",
       "      <td>74</td>\n",
       "    </tr>\n",
       "    <tr>\n",
       "      <th>TCF7</th>\n",
       "      <td>Endogenous</td>\n",
       "      <td>NM_003202.2</td>\n",
       "      <td>3</td>\n",
       "      <td>3</td>\n",
       "      <td>2</td>\n",
       "      <td>5</td>\n",
       "      <td>16</td>\n",
       "      <td>Endogenous</td>\n",
       "      <td>NM_003202.2</td>\n",
       "      <td>319</td>\n",
       "      <td>104</td>\n",
       "      <td>309</td>\n",
       "    </tr>\n",
       "  </tbody>\n",
       "</table>\n",
       "</div>"
      ],
      "text/plain": [
       "         CodeClass_OUR Accession_OUR  BWH006_Treg_w0_12  BWH008_Treg_w0_01  \\\n",
       "VTN         Endogenous   NM_000638.3                  2                  2   \n",
       "HLA-DQB1    Endogenous   NM_002123.3                  2                  0   \n",
       "KIT         Endogenous   NM_000222.2                  1                  2   \n",
       "SOCS3       Endogenous   NM_003955.3                  1                  1   \n",
       "TCF7        Endogenous   NM_003202.2                  3                  3   \n",
       "\n",
       "          MGH001_Treg_w0_04  MGH004_Treg_w0_01  MGH007_Treg_w0_09  \\\n",
       "VTN                       3                  0                  0   \n",
       "HLA-DQB1                  2                  0                  0   \n",
       "KIT                       1                  0                  1   \n",
       "SOCS3                     5                  0                  2   \n",
       "TCF7                      2                  5                 16   \n",
       "\n",
       "         CodeClass_THR Accession_THR  GSM1515480_tTreg  GSM1515483_tTreg  \\\n",
       "VTN         Endogenous   NM_000638.3                21                 5   \n",
       "HLA-DQB1    Endogenous   NM_002123.3                 9                 6   \n",
       "KIT         Endogenous   NM_000222.1                68                21   \n",
       "SOCS3       Endogenous   NM_003955.3                68                36   \n",
       "TCF7        Endogenous   NM_003202.2               319               104   \n",
       "\n",
       "          GSM1515486_tTreg  \n",
       "VTN                     15  \n",
       "HLA-DQB1                12  \n",
       "KIT                     65  \n",
       "SOCS3                   74  \n",
       "TCF7                   309  "
      ]
     },
     "execution_count": 12,
     "metadata": {},
     "output_type": "execute_result"
    }
   ],
   "source": [
    "cmb_data = pd.merge(left=our_data, right=thr_data,\n",
    "                    how='inner', on=\"Name\",\n",
    "                    left_on=None, right_on=None,\n",
    "                    left_index=False, right_index=False,\n",
    "                    sort=False, suffixes=('_OUR', '_THR'), copy=True, indicator=False)\n",
    "\n",
    "cmb_data.index = cmb_data.Name.values\n",
    "cmb_data = cmb_data.drop(labels=['Name'],axis=1)\n",
    "cmb_data.head()"
   ]
  },
  {
   "cell_type": "code",
   "execution_count": 13,
   "metadata": {
    "collapsed": false
   },
   "outputs": [
    {
     "data": {
      "text/plain": [
       "15"
      ]
     },
     "execution_count": 13,
     "metadata": {},
     "output_type": "execute_result"
    }
   ],
   "source": [
    "code_class_missmatch = cmb_data.CodeClass_OUR != cmb_data.CodeClass_THR\n",
    "sum(code_class_missmatch)"
   ]
  },
  {
   "cell_type": "markdown",
   "metadata": {},
   "source": [
    "15 rows have CodeClass designations that don't match up..."
   ]
  },
  {
   "cell_type": "code",
   "execution_count": 14,
   "metadata": {
    "collapsed": false
   },
   "outputs": [
    {
     "data": {
      "text/html": [
       "<div>\n",
       "<table border=\"1\" class=\"dataframe\">\n",
       "  <thead>\n",
       "    <tr style=\"text-align: right;\">\n",
       "      <th></th>\n",
       "      <th>CodeClass_OUR</th>\n",
       "      <th>CodeClass_THR</th>\n",
       "    </tr>\n",
       "  </thead>\n",
       "  <tbody>\n",
       "    <tr>\n",
       "      <th>EEF1G</th>\n",
       "      <td>Housekeeping</td>\n",
       "      <td>Endogenous</td>\n",
       "    </tr>\n",
       "    <tr>\n",
       "      <th>TUBB</th>\n",
       "      <td>Housekeeping</td>\n",
       "      <td>Endogenous</td>\n",
       "    </tr>\n",
       "    <tr>\n",
       "      <th>TBP</th>\n",
       "      <td>Housekeeping</td>\n",
       "      <td>Endogenous</td>\n",
       "    </tr>\n",
       "    <tr>\n",
       "      <th>POLR2A</th>\n",
       "      <td>Housekeeping</td>\n",
       "      <td>Endogenous</td>\n",
       "    </tr>\n",
       "    <tr>\n",
       "      <th>GUSB</th>\n",
       "      <td>Housekeeping</td>\n",
       "      <td>Endogenous</td>\n",
       "    </tr>\n",
       "    <tr>\n",
       "      <th>HPRT1</th>\n",
       "      <td>Housekeeping</td>\n",
       "      <td>Endogenous</td>\n",
       "    </tr>\n",
       "    <tr>\n",
       "      <th>GAPDH</th>\n",
       "      <td>Housekeeping</td>\n",
       "      <td>Endogenous</td>\n",
       "    </tr>\n",
       "    <tr>\n",
       "      <th>SDHA</th>\n",
       "      <td>Housekeeping</td>\n",
       "      <td>Endogenous</td>\n",
       "    </tr>\n",
       "    <tr>\n",
       "      <th>OAZ1</th>\n",
       "      <td>Housekeeping</td>\n",
       "      <td>Endogenous</td>\n",
       "    </tr>\n",
       "    <tr>\n",
       "      <th>PPIA</th>\n",
       "      <td>Housekeeping</td>\n",
       "      <td>Endogenous</td>\n",
       "    </tr>\n",
       "    <tr>\n",
       "      <th>G6PD</th>\n",
       "      <td>Housekeeping</td>\n",
       "      <td>Endogenous</td>\n",
       "    </tr>\n",
       "    <tr>\n",
       "      <th>RPL19</th>\n",
       "      <td>Housekeeping</td>\n",
       "      <td>Endogenous</td>\n",
       "    </tr>\n",
       "    <tr>\n",
       "      <th>POLR1B</th>\n",
       "      <td>Housekeeping</td>\n",
       "      <td>Endogenous</td>\n",
       "    </tr>\n",
       "    <tr>\n",
       "      <th>ABCF1</th>\n",
       "      <td>Housekeeping</td>\n",
       "      <td>Endogenous</td>\n",
       "    </tr>\n",
       "    <tr>\n",
       "      <th>ALAS1</th>\n",
       "      <td>Housekeeping</td>\n",
       "      <td>Endogenous</td>\n",
       "    </tr>\n",
       "  </tbody>\n",
       "</table>\n",
       "</div>"
      ],
      "text/plain": [
       "       CodeClass_OUR CodeClass_THR\n",
       "EEF1G   Housekeeping    Endogenous\n",
       "TUBB    Housekeeping    Endogenous\n",
       "TBP     Housekeeping    Endogenous\n",
       "POLR2A  Housekeeping    Endogenous\n",
       "GUSB    Housekeeping    Endogenous\n",
       "HPRT1   Housekeeping    Endogenous\n",
       "GAPDH   Housekeeping    Endogenous\n",
       "SDHA    Housekeeping    Endogenous\n",
       "OAZ1    Housekeeping    Endogenous\n",
       "PPIA    Housekeeping    Endogenous\n",
       "G6PD    Housekeeping    Endogenous\n",
       "RPL19   Housekeeping    Endogenous\n",
       "POLR1B  Housekeeping    Endogenous\n",
       "ABCF1   Housekeeping    Endogenous\n",
       "ALAS1   Housekeeping    Endogenous"
      ]
     },
     "execution_count": 14,
     "metadata": {},
     "output_type": "execute_result"
    }
   ],
   "source": [
    "cmb_data[code_class_missmatch][['CodeClass_OUR','CodeClass_THR']]"
   ]
  },
  {
   "cell_type": "markdown",
   "metadata": {},
   "source": [
    "Looks like its not too big a deal.  They just added some genes as housekeepers."
   ]
  },
  {
   "cell_type": "markdown",
   "metadata": {},
   "source": [
    "## OK lets get rid of CodeClass and Accession Columns and write to file"
   ]
  },
  {
   "cell_type": "code",
   "execution_count": 15,
   "metadata": {
    "collapsed": false
   },
   "outputs": [],
   "source": [
    "cmb_data_extra_cols = cmb_data[['CodeClass_OUR','Accession_OUR','CodeClass_THR','Accession_THR']].copy()\n",
    "\n",
    "cmb_data = cmb_data.drop(labels=['CodeClass_OUR','Accession_OUR','CodeClass_THR','Accession_THR'],axis=1)"
   ]
  },
  {
   "cell_type": "code",
   "execution_count": 16,
   "metadata": {
    "collapsed": false
   },
   "outputs": [
    {
     "name": "stdout",
     "output_type": "stream",
     "text": [
      "['BWH006_Treg_w0_12' 'BWH008_Treg_w0_01' 'MGH001_Treg_w0_04'\n",
      " 'MGH004_Treg_w0_01' 'MGH007_Treg_w0_09' 'GSM1515480_tTreg'\n",
      " 'GSM1515483_tTreg' 'GSM1515486_tTreg']\n"
     ]
    }
   ],
   "source": [
    "print cmb_data.columns.values"
   ]
  },
  {
   "cell_type": "code",
   "execution_count": 17,
   "metadata": {
    "collapsed": false
   },
   "outputs": [],
   "source": [
    "cmb_data_path = base_path+u\"/combo_nanostring_data.csv\"\n",
    "cmb_data.to_csv(path_or_buf=cmb_data_path, \n",
    "           columns=None, header=True, index=True,)"
   ]
  },
  {
   "cell_type": "markdown",
   "metadata": {},
   "source": [
    "## Write out the target table"
   ]
  },
  {
   "cell_type": "code",
   "execution_count": 18,
   "metadata": {
    "collapsed": false
   },
   "outputs": [
    {
     "data": {
      "text/html": [
       "<div>\n",
       "<table border=\"1\" class=\"dataframe\">\n",
       "  <thead>\n",
       "    <tr style=\"text-align: right;\">\n",
       "      <th></th>\n",
       "      <th>source</th>\n",
       "    </tr>\n",
       "  </thead>\n",
       "  <tbody>\n",
       "    <tr>\n",
       "      <th>BWH006_Treg_w0_12</th>\n",
       "      <td>OURS</td>\n",
       "    </tr>\n",
       "    <tr>\n",
       "      <th>BWH008_Treg_w0_01</th>\n",
       "      <td>OURS</td>\n",
       "    </tr>\n",
       "    <tr>\n",
       "      <th>MGH001_Treg_w0_04</th>\n",
       "      <td>OURS</td>\n",
       "    </tr>\n",
       "    <tr>\n",
       "      <th>MGH004_Treg_w0_01</th>\n",
       "      <td>OURS</td>\n",
       "    </tr>\n",
       "    <tr>\n",
       "      <th>MGH007_Treg_w0_09</th>\n",
       "      <td>OURS</td>\n",
       "    </tr>\n",
       "    <tr>\n",
       "      <th>GSM1515480_tTreg</th>\n",
       "      <td>THEIRS</td>\n",
       "    </tr>\n",
       "    <tr>\n",
       "      <th>GSM1515483_tTreg</th>\n",
       "      <td>THEIRS</td>\n",
       "    </tr>\n",
       "    <tr>\n",
       "      <th>GSM1515486_tTreg</th>\n",
       "      <td>THEIRS</td>\n",
       "    </tr>\n",
       "  </tbody>\n",
       "</table>\n",
       "</div>"
      ],
      "text/plain": [
       "                   source\n",
       "BWH006_Treg_w0_12    OURS\n",
       "BWH008_Treg_w0_01    OURS\n",
       "MGH001_Treg_w0_04    OURS\n",
       "MGH004_Treg_w0_01    OURS\n",
       "MGH007_Treg_w0_09    OURS\n",
       "GSM1515480_tTreg   THEIRS\n",
       "GSM1515483_tTreg   THEIRS\n",
       "GSM1515486_tTreg   THEIRS"
      ]
     },
     "execution_count": 18,
     "metadata": {},
     "output_type": "execute_result"
    }
   ],
   "source": [
    "targets = cmb_data.T.iloc[:,0:2].copy()\n",
    "targets[u'source'] = targets.index.values\n",
    "targets.source = targets.source.apply(lambda i: 'THEIRS' if i.startswith('GSM') else 'OURS' )\n",
    "targets = pd.DataFrame(targets.source)\n",
    "targets"
   ]
  },
  {
   "cell_type": "code",
   "execution_count": 19,
   "metadata": {
    "collapsed": false
   },
   "outputs": [],
   "source": [
    "targets_path = base_path+u\"/targets.csv\"\n",
    "targets.to_csv(path_or_buf=targets_path, \n",
    "           columns=None, header=True, index=True)"
   ]
  },
  {
   "cell_type": "markdown",
   "metadata": {},
   "source": [
    "# EdgeR is used to perform normalization"
   ]
  },
  {
   "cell_type": "code",
   "execution_count": 20,
   "metadata": {
    "collapsed": false
   },
   "outputs": [],
   "source": [
    "x = py(r(u\"\"\"x <- read.delim(\"{PATH}\", sep = ',', row.names=1) \"\"\".format(PATH=cmb_data_path)))\n",
    "\n",
    "# Sort column names\n",
    "x = py(r(u\"\"\" x <- x[,order(colnames(x))] \"\"\"))"
   ]
  },
  {
   "cell_type": "code",
   "execution_count": 21,
   "metadata": {
    "collapsed": false
   },
   "outputs": [
    {
     "name": "stdout",
     "output_type": "stream",
     "text": [
      "         BWH006_Treg_w0_12 BWH008_Treg_w0_01 GSM1515480_tTreg GSM1515483_tTreg\n",
      "VTN                      2                 2               21                5\n",
      "HLA-DQB1                 2                 0                9                6\n",
      "KIT                      1                 2               68               21\n",
      "SOCS3                    1                 1               68               36\n",
      "TCF7                     3                 3              319              104\n",
      "IKBKB                    1                 1               87               56\n",
      "         GSM1515486_tTreg MGH001_Treg_w0_04 MGH004_Treg_w0_01 MGH007_Treg_w0_09\n",
      "VTN                    15                 3                 0                 0\n",
      "HLA-DQB1               12                 2                 0                 0\n",
      "KIT                    65                 1                 0                 1\n",
      "SOCS3                  74                 5                 0                 2\n",
      "TCF7                  309                 2                 5                16\n",
      "IKBKB                  96                 6                 3                 5\n",
      "\n"
     ]
    }
   ],
   "source": [
    "print r(u\"head(x)\")"
   ]
  },
  {
   "cell_type": "code",
   "execution_count": 22,
   "metadata": {
    "collapsed": false
   },
   "outputs": [
    {
     "data": {
      "text/html": [
       "<div>\n",
       "<table border=\"1\" class=\"dataframe\">\n",
       "  <thead>\n",
       "    <tr style=\"text-align: right;\">\n",
       "      <th></th>\n",
       "      <th>BWH006_Treg_w0_12</th>\n",
       "      <th>BWH008_Treg_w0_01</th>\n",
       "      <th>GSM1515480_tTreg</th>\n",
       "      <th>GSM1515483_tTreg</th>\n",
       "      <th>GSM1515486_tTreg</th>\n",
       "      <th>MGH001_Treg_w0_04</th>\n",
       "      <th>MGH004_Treg_w0_01</th>\n",
       "      <th>MGH007_Treg_w0_09</th>\n",
       "    </tr>\n",
       "  </thead>\n",
       "  <tbody>\n",
       "    <tr>\n",
       "      <th>VTN</th>\n",
       "      <td>2</td>\n",
       "      <td>2</td>\n",
       "      <td>21</td>\n",
       "      <td>5</td>\n",
       "      <td>15</td>\n",
       "      <td>3</td>\n",
       "      <td>0</td>\n",
       "      <td>0</td>\n",
       "    </tr>\n",
       "    <tr>\n",
       "      <th>HLA-DQB1</th>\n",
       "      <td>2</td>\n",
       "      <td>0</td>\n",
       "      <td>9</td>\n",
       "      <td>6</td>\n",
       "      <td>12</td>\n",
       "      <td>2</td>\n",
       "      <td>0</td>\n",
       "      <td>0</td>\n",
       "    </tr>\n",
       "    <tr>\n",
       "      <th>KIT</th>\n",
       "      <td>1</td>\n",
       "      <td>2</td>\n",
       "      <td>68</td>\n",
       "      <td>21</td>\n",
       "      <td>65</td>\n",
       "      <td>1</td>\n",
       "      <td>0</td>\n",
       "      <td>1</td>\n",
       "    </tr>\n",
       "    <tr>\n",
       "      <th>SOCS3</th>\n",
       "      <td>1</td>\n",
       "      <td>1</td>\n",
       "      <td>68</td>\n",
       "      <td>36</td>\n",
       "      <td>74</td>\n",
       "      <td>5</td>\n",
       "      <td>0</td>\n",
       "      <td>2</td>\n",
       "    </tr>\n",
       "    <tr>\n",
       "      <th>TCF7</th>\n",
       "      <td>3</td>\n",
       "      <td>3</td>\n",
       "      <td>319</td>\n",
       "      <td>104</td>\n",
       "      <td>309</td>\n",
       "      <td>2</td>\n",
       "      <td>5</td>\n",
       "      <td>16</td>\n",
       "    </tr>\n",
       "  </tbody>\n",
       "</table>\n",
       "</div>"
      ],
      "text/plain": [
       "          BWH006_Treg_w0_12  BWH008_Treg_w0_01  GSM1515480_tTreg  \\\n",
       "VTN                       2                  2                21   \n",
       "HLA-DQB1                  2                  0                 9   \n",
       "KIT                       1                  2                68   \n",
       "SOCS3                     1                  1                68   \n",
       "TCF7                      3                  3               319   \n",
       "\n",
       "          GSM1515483_tTreg  GSM1515486_tTreg  MGH001_Treg_w0_04  \\\n",
       "VTN                      5                15                  3   \n",
       "HLA-DQB1                 6                12                  2   \n",
       "KIT                     21                65                  1   \n",
       "SOCS3                   36                74                  5   \n",
       "TCF7                   104               309                  2   \n",
       "\n",
       "          MGH004_Treg_w0_01  MGH007_Treg_w0_09  \n",
       "VTN                       0                  0  \n",
       "HLA-DQB1                  0                  0  \n",
       "KIT                       0                  1  \n",
       "SOCS3                     0                  2  \n",
       "TCF7                      5                 16  "
      ]
     },
     "execution_count": 22,
     "metadata": {},
     "output_type": "execute_result"
    }
   ],
   "source": [
    "x.head()"
   ]
  },
  {
   "cell_type": "code",
   "execution_count": 23,
   "metadata": {
    "collapsed": false
   },
   "outputs": [
    {
     "data": {
      "text/plain": [
       "<ListVector - Python:0x7fa311e2c128 / R:0x66b9238>\n",
       "[Matrix, DataFrame]\n",
       "  counts: <class 'rpy2.robjects.vectors.Matrix'>\n",
       "  <Matrix - Python:0x7fa311e2c680 / R:0x6509030>\n",
       "[       2,        2,        1, ...,        2,        3,        4]\n",
       "<ListVector - Python:0x7fa311e2c128 / R:0x66b9238>\n",
       "[Matrix, DataFrame]"
      ]
     },
     "execution_count": 23,
     "metadata": {},
     "output_type": "execute_result"
    }
   ],
   "source": [
    "r(\"\"\"# read in target annotations for the design matrix stuff later\n",
    "targets <- read.table(\"{PATH}\",sep = ',', header = TRUE, row.names = 1)\n",
    "#targets <- targets[order(rownames(targets)),]\n",
    "targets <- lapply(targets,factor)\n",
    "\n",
    "# create the DEGList object\n",
    "y <- DGEList(counts=x,group=targets$source)\n",
    "\n",
    "\n",
    "# Filter for counts\n",
    "#keep <- rowSums(y>30) >= 2\n",
    "#y <- y[keep, , keep.lib.sizes=FALSE]\n",
    "\n",
    "# TMM normalization factors\n",
    "y <- calcNormFactors(y)\n",
    "\"\"\".format(PATH=targets_path))"
   ]
  },
  {
   "cell_type": "code",
   "execution_count": 24,
   "metadata": {
    "collapsed": false
   },
   "outputs": [],
   "source": [
    "n = py(r(\"n <- cpm(y)\"))\n",
    "n_rows = py(r(\"rownames(n)\"))\n",
    "n_cols = py(r(\"colnames(n)\"))"
   ]
  },
  {
   "cell_type": "code",
   "execution_count": 25,
   "metadata": {
    "collapsed": false
   },
   "outputs": [],
   "source": [
    "y_norm = pd.DataFrame(n, columns=n_cols, index=n_rows)"
   ]
  },
  {
   "cell_type": "code",
   "execution_count": 26,
   "metadata": {
    "collapsed": false
   },
   "outputs": [
    {
     "data": {
      "text/html": [
       "<div>\n",
       "<table border=\"1\" class=\"dataframe\">\n",
       "  <thead>\n",
       "    <tr style=\"text-align: right;\">\n",
       "      <th></th>\n",
       "      <th>VTN</th>\n",
       "      <th>HLA-DQB1</th>\n",
       "      <th>KIT</th>\n",
       "      <th>SOCS3</th>\n",
       "      <th>TCF7</th>\n",
       "      <th>IKBKB</th>\n",
       "      <th>ITGA6</th>\n",
       "      <th>CXCR4</th>\n",
       "      <th>NFKBIZ</th>\n",
       "      <th>MAPK14</th>\n",
       "      <th>...</th>\n",
       "      <th>HPRT1</th>\n",
       "      <th>GAPDH</th>\n",
       "      <th>SDHA</th>\n",
       "      <th>OAZ1</th>\n",
       "      <th>PPIA</th>\n",
       "      <th>G6PD</th>\n",
       "      <th>RPL19</th>\n",
       "      <th>POLR1B</th>\n",
       "      <th>ABCF1</th>\n",
       "      <th>ALAS1</th>\n",
       "    </tr>\n",
       "  </thead>\n",
       "  <tbody>\n",
       "    <tr>\n",
       "      <th>BWH006_Treg_w0_12</th>\n",
       "      <td>103.343927</td>\n",
       "      <td>103.343927</td>\n",
       "      <td>51.671963</td>\n",
       "      <td>51.671963</td>\n",
       "      <td>155.015890</td>\n",
       "      <td>51.671963</td>\n",
       "      <td>361.703744</td>\n",
       "      <td>568.391598</td>\n",
       "      <td>206.687854</td>\n",
       "      <td>103.343927</td>\n",
       "      <td>...</td>\n",
       "      <td>51.671963</td>\n",
       "      <td>413.375708</td>\n",
       "      <td>155.015890</td>\n",
       "      <td>413.375708</td>\n",
       "      <td>155.015890</td>\n",
       "      <td>103.343927</td>\n",
       "      <td>2118.550502</td>\n",
       "      <td>103.343927</td>\n",
       "      <td>103.343927</td>\n",
       "      <td>0.000000</td>\n",
       "    </tr>\n",
       "    <tr>\n",
       "      <th>BWH008_Treg_w0_01</th>\n",
       "      <td>99.580848</td>\n",
       "      <td>0.000000</td>\n",
       "      <td>99.580848</td>\n",
       "      <td>49.790424</td>\n",
       "      <td>149.371272</td>\n",
       "      <td>49.790424</td>\n",
       "      <td>49.790424</td>\n",
       "      <td>149.371272</td>\n",
       "      <td>348.532969</td>\n",
       "      <td>99.580848</td>\n",
       "      <td>...</td>\n",
       "      <td>49.790424</td>\n",
       "      <td>199.161696</td>\n",
       "      <td>49.790424</td>\n",
       "      <td>199.161696</td>\n",
       "      <td>49.790424</td>\n",
       "      <td>49.790424</td>\n",
       "      <td>448.113817</td>\n",
       "      <td>0.000000</td>\n",
       "      <td>49.790424</td>\n",
       "      <td>49.790424</td>\n",
       "    </tr>\n",
       "    <tr>\n",
       "      <th>GSM1515480_tTreg</th>\n",
       "      <td>62.926221</td>\n",
       "      <td>26.968380</td>\n",
       "      <td>203.761096</td>\n",
       "      <td>203.761096</td>\n",
       "      <td>955.879258</td>\n",
       "      <td>260.694343</td>\n",
       "      <td>551.353553</td>\n",
       "      <td>904.938984</td>\n",
       "      <td>1066.749266</td>\n",
       "      <td>386.546785</td>\n",
       "      <td>...</td>\n",
       "      <td>41.950814</td>\n",
       "      <td>218.743529</td>\n",
       "      <td>338.602997</td>\n",
       "      <td>47.943787</td>\n",
       "      <td>149.824335</td>\n",
       "      <td>95.887574</td>\n",
       "      <td>1225.563061</td>\n",
       "      <td>44.947301</td>\n",
       "      <td>134.841902</td>\n",
       "      <td>56.933247</td>\n",
       "    </tr>\n",
       "    <tr>\n",
       "      <th>GSM1515483_tTreg</th>\n",
       "      <td>36.938342</td>\n",
       "      <td>44.326010</td>\n",
       "      <td>155.141036</td>\n",
       "      <td>265.956061</td>\n",
       "      <td>768.317509</td>\n",
       "      <td>413.709428</td>\n",
       "      <td>443.260101</td>\n",
       "      <td>1255.903621</td>\n",
       "      <td>1292.841963</td>\n",
       "      <td>369.383418</td>\n",
       "      <td>...</td>\n",
       "      <td>51.713679</td>\n",
       "      <td>369.383418</td>\n",
       "      <td>325.057408</td>\n",
       "      <td>29.550673</td>\n",
       "      <td>229.017719</td>\n",
       "      <td>81.264352</td>\n",
       "      <td>1255.903621</td>\n",
       "      <td>66.489015</td>\n",
       "      <td>192.079377</td>\n",
       "      <td>51.713679</td>\n",
       "    </tr>\n",
       "    <tr>\n",
       "      <th>GSM1515486_tTreg</th>\n",
       "      <td>45.993872</td>\n",
       "      <td>36.795098</td>\n",
       "      <td>199.306779</td>\n",
       "      <td>226.903103</td>\n",
       "      <td>947.473767</td>\n",
       "      <td>294.360782</td>\n",
       "      <td>429.276140</td>\n",
       "      <td>2161.711992</td>\n",
       "      <td>818.690925</td>\n",
       "      <td>288.228266</td>\n",
       "      <td>...</td>\n",
       "      <td>73.590195</td>\n",
       "      <td>245.300652</td>\n",
       "      <td>355.685945</td>\n",
       "      <td>73.590195</td>\n",
       "      <td>202.373038</td>\n",
       "      <td>104.252777</td>\n",
       "      <td>2903.746464</td>\n",
       "      <td>52.126388</td>\n",
       "      <td>137.981617</td>\n",
       "      <td>61.325163</td>\n",
       "    </tr>\n",
       "    <tr>\n",
       "      <th>MGH001_Treg_w0_04</th>\n",
       "      <td>46.040797</td>\n",
       "      <td>30.693865</td>\n",
       "      <td>15.346932</td>\n",
       "      <td>76.734661</td>\n",
       "      <td>30.693865</td>\n",
       "      <td>92.081594</td>\n",
       "      <td>230.203984</td>\n",
       "      <td>260.897849</td>\n",
       "      <td>153.469323</td>\n",
       "      <td>122.775458</td>\n",
       "      <td>...</td>\n",
       "      <td>153.469323</td>\n",
       "      <td>567.836494</td>\n",
       "      <td>61.387729</td>\n",
       "      <td>184.163187</td>\n",
       "      <td>30.693865</td>\n",
       "      <td>107.428526</td>\n",
       "      <td>352.979442</td>\n",
       "      <td>61.387729</td>\n",
       "      <td>168.816255</td>\n",
       "      <td>153.469323</td>\n",
       "    </tr>\n",
       "    <tr>\n",
       "      <th>MGH004_Treg_w0_01</th>\n",
       "      <td>0.000000</td>\n",
       "      <td>0.000000</td>\n",
       "      <td>0.000000</td>\n",
       "      <td>0.000000</td>\n",
       "      <td>199.454270</td>\n",
       "      <td>119.672562</td>\n",
       "      <td>119.672562</td>\n",
       "      <td>319.126831</td>\n",
       "      <td>39.890854</td>\n",
       "      <td>119.672562</td>\n",
       "      <td>...</td>\n",
       "      <td>79.781708</td>\n",
       "      <td>1196.725618</td>\n",
       "      <td>79.781708</td>\n",
       "      <td>279.235977</td>\n",
       "      <td>39.890854</td>\n",
       "      <td>0.000000</td>\n",
       "      <td>3191.268314</td>\n",
       "      <td>0.000000</td>\n",
       "      <td>39.890854</td>\n",
       "      <td>79.781708</td>\n",
       "    </tr>\n",
       "    <tr>\n",
       "      <th>MGH007_Treg_w0_09</th>\n",
       "      <td>0.000000</td>\n",
       "      <td>0.000000</td>\n",
       "      <td>38.135882</td>\n",
       "      <td>76.271764</td>\n",
       "      <td>610.174112</td>\n",
       "      <td>190.679410</td>\n",
       "      <td>572.038230</td>\n",
       "      <td>2364.424682</td>\n",
       "      <td>228.815292</td>\n",
       "      <td>190.679410</td>\n",
       "      <td>...</td>\n",
       "      <td>152.543528</td>\n",
       "      <td>1525.435279</td>\n",
       "      <td>38.135882</td>\n",
       "      <td>457.630584</td>\n",
       "      <td>152.543528</td>\n",
       "      <td>38.135882</td>\n",
       "      <td>3966.131725</td>\n",
       "      <td>76.271764</td>\n",
       "      <td>114.407646</td>\n",
       "      <td>152.543528</td>\n",
       "    </tr>\n",
       "  </tbody>\n",
       "</table>\n",
       "<p>8 rows × 520 columns</p>\n",
       "</div>"
      ],
      "text/plain": [
       "                          VTN    HLA-DQB1         KIT       SOCS3        TCF7  \\\n",
       "BWH006_Treg_w0_12  103.343927  103.343927   51.671963   51.671963  155.015890   \n",
       "BWH008_Treg_w0_01   99.580848    0.000000   99.580848   49.790424  149.371272   \n",
       "GSM1515480_tTreg    62.926221   26.968380  203.761096  203.761096  955.879258   \n",
       "GSM1515483_tTreg    36.938342   44.326010  155.141036  265.956061  768.317509   \n",
       "GSM1515486_tTreg    45.993872   36.795098  199.306779  226.903103  947.473767   \n",
       "MGH001_Treg_w0_04   46.040797   30.693865   15.346932   76.734661   30.693865   \n",
       "MGH004_Treg_w0_01    0.000000    0.000000    0.000000    0.000000  199.454270   \n",
       "MGH007_Treg_w0_09    0.000000    0.000000   38.135882   76.271764  610.174112   \n",
       "\n",
       "                        IKBKB       ITGA6        CXCR4       NFKBIZ  \\\n",
       "BWH006_Treg_w0_12   51.671963  361.703744   568.391598   206.687854   \n",
       "BWH008_Treg_w0_01   49.790424   49.790424   149.371272   348.532969   \n",
       "GSM1515480_tTreg   260.694343  551.353553   904.938984  1066.749266   \n",
       "GSM1515483_tTreg   413.709428  443.260101  1255.903621  1292.841963   \n",
       "GSM1515486_tTreg   294.360782  429.276140  2161.711992   818.690925   \n",
       "MGH001_Treg_w0_04   92.081594  230.203984   260.897849   153.469323   \n",
       "MGH004_Treg_w0_01  119.672562  119.672562   319.126831    39.890854   \n",
       "MGH007_Treg_w0_09  190.679410  572.038230  2364.424682   228.815292   \n",
       "\n",
       "                       MAPK14     ...           HPRT1        GAPDH  \\\n",
       "BWH006_Treg_w0_12  103.343927     ...       51.671963   413.375708   \n",
       "BWH008_Treg_w0_01   99.580848     ...       49.790424   199.161696   \n",
       "GSM1515480_tTreg   386.546785     ...       41.950814   218.743529   \n",
       "GSM1515483_tTreg   369.383418     ...       51.713679   369.383418   \n",
       "GSM1515486_tTreg   288.228266     ...       73.590195   245.300652   \n",
       "MGH001_Treg_w0_04  122.775458     ...      153.469323   567.836494   \n",
       "MGH004_Treg_w0_01  119.672562     ...       79.781708  1196.725618   \n",
       "MGH007_Treg_w0_09  190.679410     ...      152.543528  1525.435279   \n",
       "\n",
       "                         SDHA        OAZ1        PPIA        G6PD  \\\n",
       "BWH006_Treg_w0_12  155.015890  413.375708  155.015890  103.343927   \n",
       "BWH008_Treg_w0_01   49.790424  199.161696   49.790424   49.790424   \n",
       "GSM1515480_tTreg   338.602997   47.943787  149.824335   95.887574   \n",
       "GSM1515483_tTreg   325.057408   29.550673  229.017719   81.264352   \n",
       "GSM1515486_tTreg   355.685945   73.590195  202.373038  104.252777   \n",
       "MGH001_Treg_w0_04   61.387729  184.163187   30.693865  107.428526   \n",
       "MGH004_Treg_w0_01   79.781708  279.235977   39.890854    0.000000   \n",
       "MGH007_Treg_w0_09   38.135882  457.630584  152.543528   38.135882   \n",
       "\n",
       "                         RPL19      POLR1B       ABCF1       ALAS1  \n",
       "BWH006_Treg_w0_12  2118.550502  103.343927  103.343927    0.000000  \n",
       "BWH008_Treg_w0_01   448.113817    0.000000   49.790424   49.790424  \n",
       "GSM1515480_tTreg   1225.563061   44.947301  134.841902   56.933247  \n",
       "GSM1515483_tTreg   1255.903621   66.489015  192.079377   51.713679  \n",
       "GSM1515486_tTreg   2903.746464   52.126388  137.981617   61.325163  \n",
       "MGH001_Treg_w0_04   352.979442   61.387729  168.816255  153.469323  \n",
       "MGH004_Treg_w0_01  3191.268314    0.000000   39.890854   79.781708  \n",
       "MGH007_Treg_w0_09  3966.131725   76.271764  114.407646  152.543528  \n",
       "\n",
       "[8 rows x 520 columns]"
      ]
     },
     "execution_count": 26,
     "metadata": {},
     "output_type": "execute_result"
    }
   ],
   "source": [
    "y_norm.T"
   ]
  },
  {
   "cell_type": "code",
   "execution_count": 73,
   "metadata": {
    "collapsed": false
   },
   "outputs": [],
   "source": [
    "cmb_cpm = pd.merge(left=targets, right=y_norm.T, \n",
    "                   how='inner', on=None, \n",
    "                   left_on=None, right_on=None, \n",
    "                   left_index=True, right_index=True, \n",
    "                   sort=False, suffixes=('_x', '_y'), copy=True, indicator=False)"
   ]
  },
  {
   "cell_type": "code",
   "execution_count": 74,
   "metadata": {
    "collapsed": false
   },
   "outputs": [],
   "source": [
    "cmb_cpm_mean = cmb_cpm.groupby('source').mean()\n",
    "cmb_cpm_mean = cmb_cpm_mean.T"
   ]
  },
  {
   "cell_type": "code",
   "execution_count": 75,
   "metadata": {
    "collapsed": false
   },
   "outputs": [
    {
     "data": {
      "image/png": "[encoded data removed]",
      "text/plain": [
       "<matplotlib.figure.Figure at 0x7fa30e84d7d0>"
      ]
     },
     "metadata": {},
     "output_type": "display_data"
    }
   ],
   "source": [
    "sns.jointplot(x='OURS', y='THEIRS',\n",
    "              data=np.log10(cmb_cpm_mean+1), kind='scatter',\n",
    "              xlim=(0,7), ylim=(0,7)\n",
    "             );\n",
    "\n",
    "plt.suptitle(\"Comparison of our {cell} Nanostring data vs published.\".format(cell=cell_type), y=1,);"
   ]
  },
  {
   "cell_type": "markdown",
   "metadata": {},
   "source": [
    "### Lets look at the external controls"
   ]
  },
  {
   "cell_type": "code",
   "execution_count": 76,
   "metadata": {
    "collapsed": false
   },
   "outputs": [
    {
     "data": {
      "text/html": [
       "<div>\n",
       "<table border=\"1\" class=\"dataframe\">\n",
       "  <thead>\n",
       "    <tr style=\"text-align: right;\">\n",
       "      <th></th>\n",
       "      <th>CodeClass_OUR</th>\n",
       "      <th>Accession_OUR</th>\n",
       "      <th>CodeClass_THR</th>\n",
       "      <th>Accession_THR</th>\n",
       "    </tr>\n",
       "  </thead>\n",
       "  <tbody>\n",
       "    <tr>\n",
       "      <th>VTN</th>\n",
       "      <td>Endogenous</td>\n",
       "      <td>NM_000638.3</td>\n",
       "      <td>Endogenous</td>\n",
       "      <td>NM_000638.3</td>\n",
       "    </tr>\n",
       "    <tr>\n",
       "      <th>HLA-DQB1</th>\n",
       "      <td>Endogenous</td>\n",
       "      <td>NM_002123.3</td>\n",
       "      <td>Endogenous</td>\n",
       "      <td>NM_002123.3</td>\n",
       "    </tr>\n",
       "    <tr>\n",
       "      <th>KIT</th>\n",
       "      <td>Endogenous</td>\n",
       "      <td>NM_000222.2</td>\n",
       "      <td>Endogenous</td>\n",
       "      <td>NM_000222.1</td>\n",
       "    </tr>\n",
       "    <tr>\n",
       "      <th>SOCS3</th>\n",
       "      <td>Endogenous</td>\n",
       "      <td>NM_003955.3</td>\n",
       "      <td>Endogenous</td>\n",
       "      <td>NM_003955.3</td>\n",
       "    </tr>\n",
       "    <tr>\n",
       "      <th>TCF7</th>\n",
       "      <td>Endogenous</td>\n",
       "      <td>NM_003202.2</td>\n",
       "      <td>Endogenous</td>\n",
       "      <td>NM_003202.2</td>\n",
       "    </tr>\n",
       "  </tbody>\n",
       "</table>\n",
       "</div>"
      ],
      "text/plain": [
       "         CodeClass_OUR Accession_OUR CodeClass_THR Accession_THR\n",
       "VTN         Endogenous   NM_000638.3    Endogenous   NM_000638.3\n",
       "HLA-DQB1    Endogenous   NM_002123.3    Endogenous   NM_002123.3\n",
       "KIT         Endogenous   NM_000222.2    Endogenous   NM_000222.1\n",
       "SOCS3       Endogenous   NM_003955.3    Endogenous   NM_003955.3\n",
       "TCF7        Endogenous   NM_003202.2    Endogenous   NM_003202.2"
      ]
     },
     "execution_count": 76,
     "metadata": {},
     "output_type": "execute_result"
    }
   ],
   "source": [
    "cmb_data_extra_cols.head()"
   ]
  },
  {
   "cell_type": "code",
   "execution_count": 77,
   "metadata": {
    "collapsed": false
   },
   "outputs": [
    {
     "data": {
      "text/plain": [
       "array(['Endogenous', 'Positive', 'Negative', 'Housekeeping'], dtype=object)"
      ]
     },
     "execution_count": 77,
     "metadata": {},
     "output_type": "execute_result"
    }
   ],
   "source": [
    "cmb_data_extra_cols.CodeClass_OUR.unique()"
   ]
  },
  {
   "cell_type": "code",
   "execution_count": 78,
   "metadata": {
    "collapsed": false
   },
   "outputs": [
    {
     "data": {
      "text/plain": [
       "array(['Endogenous', 'Positive', 'Negative'], dtype=object)"
      ]
     },
     "execution_count": 78,
     "metadata": {},
     "output_type": "execute_result"
    }
   ],
   "source": [
    "cmb_data_extra_cols.CodeClass_THR.unique()"
   ]
  },
  {
   "cell_type": "code",
   "execution_count": 79,
   "metadata": {
    "collapsed": false
   },
   "outputs": [],
   "source": [
    "pos_ctrl = list(cmb_data_extra_cols.query(\"\"\" CodeClass_OUR == \"Positive\" \"\"\").index.values)\n",
    "neg_ctrl = list(cmb_data_extra_cols.query(\"\"\" CodeClass_OUR == \"Negative\" \"\"\").index.values)\n",
    "hsk_gene = list(cmb_data_extra_cols.query(\"\"\" CodeClass_OUR == \"Housekeeping\" \"\"\").index.values)\n",
    "bth_ctrl = pos_ctrl + neg_ctrl\n",
    "pan_gene = list(cmb_data_extra_cols[cmb_data_extra_cols.CodeClass_OUR.apply(lambda i: i in ['Housekeeping','Endogenous'])].index.values)"
   ]
  },
  {
   "cell_type": "code",
   "execution_count": 80,
   "metadata": {
    "collapsed": false
   },
   "outputs": [
    {
     "data": {
      "text/plain": [
       "['POS_C(8)',\n",
       " 'POS_A(128)',\n",
       " 'POS_F(0.125)',\n",
       " 'POS_D(2)',\n",
       " 'POS_B(32)',\n",
       " 'POS_E(0.5)',\n",
       " 'NEG_C(0)',\n",
       " 'NEG_D(0)',\n",
       " 'NEG_E(0)',\n",
       " 'NEG_A(0)',\n",
       " 'NEG_H(0)',\n",
       " 'NEG_G(0)',\n",
       " 'NEG_F(0)',\n",
       " 'NEG_B(0)']"
      ]
     },
     "execution_count": 80,
     "metadata": {},
     "output_type": "execute_result"
    }
   ],
   "source": [
    "bth_ctrl"
   ]
  },
  {
   "cell_type": "code",
   "execution_count": 81,
   "metadata": {
    "collapsed": false
   },
   "outputs": [
    {
     "data": {
      "text/html": [
       "<div>\n",
       "<table border=\"1\" class=\"dataframe\">\n",
       "  <thead>\n",
       "    <tr style=\"text-align: right;\">\n",
       "      <th>source</th>\n",
       "      <th>OURS</th>\n",
       "      <th>THEIRS</th>\n",
       "    </tr>\n",
       "  </thead>\n",
       "  <tbody>\n",
       "    <tr>\n",
       "      <th>VTN</th>\n",
       "      <td>49.793114</td>\n",
       "      <td>48.619478</td>\n",
       "    </tr>\n",
       "    <tr>\n",
       "      <th>HLA-DQB1</th>\n",
       "      <td>26.807558</td>\n",
       "      <td>36.029829</td>\n",
       "    </tr>\n",
       "    <tr>\n",
       "      <th>KIT</th>\n",
       "      <td>40.947125</td>\n",
       "      <td>186.069637</td>\n",
       "    </tr>\n",
       "    <tr>\n",
       "      <th>SOCS3</th>\n",
       "      <td>50.893763</td>\n",
       "      <td>232.206753</td>\n",
       "    </tr>\n",
       "    <tr>\n",
       "      <th>TCF7</th>\n",
       "      <td>228.941882</td>\n",
       "      <td>890.556845</td>\n",
       "    </tr>\n",
       "  </tbody>\n",
       "</table>\n",
       "</div>"
      ],
      "text/plain": [
       "source          OURS      THEIRS\n",
       "VTN        49.793114   48.619478\n",
       "HLA-DQB1   26.807558   36.029829\n",
       "KIT        40.947125  186.069637\n",
       "SOCS3      50.893763  232.206753\n",
       "TCF7      228.941882  890.556845"
      ]
     },
     "execution_count": 81,
     "metadata": {},
     "output_type": "execute_result"
    }
   ],
   "source": [
    "cmb_cpm_mean.head()"
   ]
  },
  {
   "cell_type": "code",
   "execution_count": 82,
   "metadata": {
    "collapsed": false
   },
   "outputs": [
    {
     "data": {
      "image/png": "[encoded data removed]",
      "text/plain": [
       "<matplotlib.figure.Figure at 0x7fa30ed93b10>"
      ]
     },
     "metadata": {},
     "output_type": "display_data"
    }
   ],
   "source": [
    "sns.jointplot(x='OURS', y='THEIRS',\n",
    "              data=np.log10(cmb_cpm_mean.loc[pos_ctrl]+1), kind='scatter',\n",
    "              xlim=(0,7), ylim=(0,7)\n",
    "             );\n",
    "\n",
    "plt.suptitle(\"(Pos Ctrls) Comparison of our {cell} Nanostring data vs published.\".format(cell=cell_type), y=1,);"
   ]
  },
  {
   "cell_type": "code",
   "execution_count": 83,
   "metadata": {
    "collapsed": false
   },
   "outputs": [
    {
     "data": {
      "image/png": "[encoded data removed]",
      "text/plain": [
       "<matplotlib.figure.Figure at 0x7fa30e958c50>"
      ]
     },
     "metadata": {},
     "output_type": "display_data"
    }
   ],
   "source": [
    "sns.jointplot(x='OURS', y='THEIRS',\n",
    "              data=np.log10(cmb_cpm_mean.loc[neg_ctrl]+1), kind='scatter',\n",
    "              xlim=(0,7), ylim=(0,7)\n",
    "             );\n",
    "\n",
    "plt.suptitle(\"(Neg Ctrls) Comparison of our {cell} Nanostring data vs published.\".format(cell=cell_type), y=1,);"
   ]
  },
  {
   "cell_type": "code",
   "execution_count": 84,
   "metadata": {
    "collapsed": false
   },
   "outputs": [
    {
     "data": {
      "text/html": [
       "<div>\n",
       "<table border=\"1\" class=\"dataframe\">\n",
       "  <thead>\n",
       "    <tr style=\"text-align: right;\">\n",
       "      <th>source</th>\n",
       "      <th>OURS</th>\n",
       "      <th>THEIRS</th>\n",
       "    </tr>\n",
       "  </thead>\n",
       "  <tbody>\n",
       "    <tr>\n",
       "      <th>NEG_C(0)</th>\n",
       "      <td>180.890133</td>\n",
       "      <td>86.716737</td>\n",
       "    </tr>\n",
       "    <tr>\n",
       "      <th>NEG_D(0)</th>\n",
       "      <td>80.032229</td>\n",
       "      <td>39.096088</td>\n",
       "    </tr>\n",
       "    <tr>\n",
       "      <th>NEG_E(0)</th>\n",
       "      <td>58.110832</td>\n",
       "      <td>39.583504</td>\n",
       "    </tr>\n",
       "    <tr>\n",
       "      <th>NEG_A(0)</th>\n",
       "      <td>168.693720</td>\n",
       "      <td>49.571793</td>\n",
       "    </tr>\n",
       "    <tr>\n",
       "      <th>NEG_H(0)</th>\n",
       "      <td>32.932193</td>\n",
       "      <td>111.364816</td>\n",
       "    </tr>\n",
       "  </tbody>\n",
       "</table>\n",
       "</div>"
      ],
      "text/plain": [
       "source          OURS      THEIRS\n",
       "NEG_C(0)  180.890133   86.716737\n",
       "NEG_D(0)   80.032229   39.096088\n",
       "NEG_E(0)   58.110832   39.583504\n",
       "NEG_A(0)  168.693720   49.571793\n",
       "NEG_H(0)   32.932193  111.364816"
      ]
     },
     "execution_count": 84,
     "metadata": {},
     "output_type": "execute_result"
    }
   ],
   "source": [
    "cmb_cpm_mean.loc[neg_ctrl].head()"
   ]
  },
  {
   "cell_type": "code",
   "execution_count": 85,
   "metadata": {
    "collapsed": false
   },
   "outputs": [
    {
     "data": {
      "image/png": "[encoded data removed]",
      "text/plain": [
       "<matplotlib.figure.Figure at 0x7fa30e6d8190>"
      ]
     },
     "metadata": {},
     "output_type": "display_data"
    }
   ],
   "source": [
    "sns.jointplot(x='OURS', y='THEIRS',\n",
    "              data=np.log10(cmb_cpm_mean.loc[hsk_gene]+1), kind='scatter',\n",
    "              xlim=(0,7), ylim=(0,7)\n",
    "             );\n",
    "\n",
    "plt.suptitle(\"(Housekeeping) Comparison of our {cell} Nanostring data vs published.\".format(cell=cell_type), y=1,);"
   ]
  },
  {
   "cell_type": "code",
   "execution_count": 86,
   "metadata": {
    "collapsed": false
   },
   "outputs": [
    {
     "data": {
      "image/png": "[encoded data removed]",
      "text/plain": [
       "<matplotlib.figure.Figure at 0x7fa30f1f8610>"
      ]
     },
     "metadata": {},
     "output_type": "display_data"
    }
   ],
   "source": [
    "sns.jointplot(x='OURS', y='THEIRS',\n",
    "              data=np.log10(cmb_cpm_mean.loc[pan_gene]+1), kind='scatter',\n",
    "              xlim=(0,7), ylim=(0,7)\n",
    "             );\n",
    "\n",
    "plt.suptitle(\"(Panel Genes) Comparison of our {cell} Nanostring data vs published..\".format(cell=cell_type), y=1,);"
   ]
  },
  {
   "cell_type": "code",
   "execution_count": null,
   "metadata": {
    "collapsed": true
   },
   "outputs": [],
   "source": []
  }
 ],
 "metadata": {
  "kernelspec": {
   "display_name": "Python 2",
   "language": "python",
   "name": "python2"
  },
  "language_info": {
   "codemirror_mode": {
    "name": "ipython",
    "version": 2
   },
   "file_extension": ".py",
   "mimetype": "text/x-python",
   "name": "python",
   "nbconvert_exporter": "python",
   "pygments_lexer": "ipython2",
   "version": "2.7.11"
  }
 },
 "nbformat": 4,
 "nbformat_minor": 0
}
