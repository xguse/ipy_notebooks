{
 "metadata": {
  "name": ""
 },
 "nbformat": 3,
 "nbformat_minor": 0,
 "worksheets": [
  {
   "cells": [
    {
     "cell_type": "code",
     "collapsed": false,
     "input": [
      "import pandas as pd\n",
      "import numpy as np"
     ],
     "language": "python",
     "metadata": {},
     "outputs": [],
     "prompt_number": 114
    },
    {
     "cell_type": "code",
     "collapsed": false,
     "input": [
      "old = pd.read_table('/home/gus/Dropbox/common/gfunc/Cq_0-4-6-8-10_isoforms_fpkm_tracking.tab.csv')"
     ],
     "language": "python",
     "metadata": {},
     "outputs": [],
     "prompt_number": 3
    },
    {
     "cell_type": "code",
     "collapsed": false,
     "input": [
      "new = pd.read_table('/home/gus/Dropbox/common/projects/Aa_Ag_Cq_As/RNAseq_results/bio/dunnw/data/4mosqs_mg_RNAseq/gtf_strict/cuffdiff_Cq_00_0.Cq_04_0.Cq_06_0.Cq_08_0.Cq_10_0/isoforms.fpkm_tracking')"
     ],
     "language": "python",
     "metadata": {},
     "outputs": [],
     "prompt_number": 4
    },
    {
     "cell_type": "code",
     "collapsed": false,
     "input": [
      "old"
     ],
     "language": "python",
     "metadata": {},
     "outputs": [
      {
       "html": [
        "<pre>\n",
        "&ltclass 'pandas.core.frame.DataFrame'&gt\n",
        "Int64Index: 22907 entries, 0 to 22906\n",
        "Data columns (total 25 columns):\n",
        "tracking_id        22907  non-null values\n",
        "class_code         22907  non-null values\n",
        "nearest_ref_id     22907  non-null values\n",
        "gene_id            22907  non-null values\n",
        "gene_short_name    22907  non-null values\n",
        "tss_id             22907  non-null values\n",
        "locus              22907  non-null values\n",
        "length             22907  non-null values\n",
        "coverage           22907  non-null values\n",
        "status             22907  non-null values\n",
        "Cq0_FPKM           22907  non-null values\n",
        "Cq0_conf_lo        22907  non-null values\n",
        "Cq0_conf_hi        22907  non-null values\n",
        "Cq4_FPKM           22907  non-null values\n",
        "Cq4_conf_lo        22907  non-null values\n",
        "Cq4_conf_hi        22907  non-null values\n",
        "Cq6_FPKM           22907  non-null values\n",
        "Cq6_conf_lo        22907  non-null values\n",
        "Cq6_conf_hi        22907  non-null values\n",
        "Cq8_FPKM           22907  non-null values\n",
        "Cq8_conf_lo        22907  non-null values\n",
        "Cq8_conf_hi        22907  non-null values\n",
        "Cq10_FPKM          22907  non-null values\n",
        "Cq10_conf_lo       22907  non-null values\n",
        "Cq10_conf_hi       22907  non-null values\n",
        "dtypes: float64(15), int64(1), object(9)\n",
        "</pre>"
       ],
       "metadata": {},
       "output_type": "pyout",
       "prompt_number": 11,
       "text": [
        "<class 'pandas.core.frame.DataFrame'>\n",
        "Int64Index: 22907 entries, 0 to 22906\n",
        "Data columns (total 25 columns):\n",
        "tracking_id        22907  non-null values\n",
        "class_code         22907  non-null values\n",
        "nearest_ref_id     22907  non-null values\n",
        "gene_id            22907  non-null values\n",
        "gene_short_name    22907  non-null values\n",
        "tss_id             22907  non-null values\n",
        "locus              22907  non-null values\n",
        "length             22907  non-null values\n",
        "coverage           22907  non-null values\n",
        "status             22907  non-null values\n",
        "Cq0_FPKM           22907  non-null values\n",
        "Cq0_conf_lo        22907  non-null values\n",
        "Cq0_conf_hi        22907  non-null values\n",
        "Cq4_FPKM           22907  non-null values\n",
        "Cq4_conf_lo        22907  non-null values\n",
        "Cq4_conf_hi        22907  non-null values\n",
        "Cq6_FPKM           22907  non-null values\n",
        "Cq6_conf_lo        22907  non-null values\n",
        "Cq6_conf_hi        22907  non-null values\n",
        "Cq8_FPKM           22907  non-null values\n",
        "Cq8_conf_lo        22907  non-null values\n",
        "Cq8_conf_hi        22907  non-null values\n",
        "Cq10_FPKM          22907  non-null values\n",
        "Cq10_conf_lo       22907  non-null values\n",
        "Cq10_conf_hi       22907  non-null values\n",
        "dtypes: float64(15), int64(1), object(9)"
       ]
      }
     ],
     "prompt_number": 11
    },
    {
     "cell_type": "code",
     "collapsed": false,
     "input": [
      "new"
     ],
     "language": "python",
     "metadata": {},
     "outputs": [
      {
       "html": [
        "<pre>\n",
        "&ltclass 'pandas.core.frame.DataFrame'&gt\n",
        "Int64Index: 23450 entries, 0 to 23449\n",
        "Data columns (total 29 columns):\n",
        "tracking_id        23450  non-null values\n",
        "class_code         23450  non-null values\n",
        "nearest_ref_id     23450  non-null values\n",
        "gene_id            23450  non-null values\n",
        "gene_short_name    23450  non-null values\n",
        "tss_id             23450  non-null values\n",
        "locus              23450  non-null values\n",
        "length             23450  non-null values\n",
        "coverage           23450  non-null values\n",
        "Cq_00_FPKM         23450  non-null values\n",
        "Cq_00_conf_lo      23450  non-null values\n",
        "Cq_00_conf_hi      23450  non-null values\n",
        "Cq_00_status       23450  non-null values\n",
        "Cq_04_FPKM         23450  non-null values\n",
        "Cq_04_conf_lo      23450  non-null values\n",
        "Cq_04_conf_hi      23450  non-null values\n",
        "Cq_04_status       23450  non-null values\n",
        "Cq_06_FPKM         23450  non-null values\n",
        "Cq_06_conf_lo      23450  non-null values\n",
        "Cq_06_conf_hi      23450  non-null values\n",
        "Cq_06_status       23450  non-null values\n",
        "Cq_08_FPKM         23450  non-null values\n",
        "Cq_08_conf_lo      23450  non-null values\n",
        "Cq_08_conf_hi      23450  non-null values\n",
        "Cq_08_status       23450  non-null values\n",
        "Cq_10_FPKM         23450  non-null values\n",
        "Cq_10_conf_lo      23450  non-null values\n",
        "Cq_10_conf_hi      23450  non-null values\n",
        "Cq_10_status       23450  non-null values\n",
        "dtypes: float64(15), int64(1), object(13)\n",
        "</pre>"
       ],
       "metadata": {},
       "output_type": "pyout",
       "prompt_number": 12,
       "text": [
        "<class 'pandas.core.frame.DataFrame'>\n",
        "Int64Index: 23450 entries, 0 to 23449\n",
        "Data columns (total 29 columns):\n",
        "tracking_id        23450  non-null values\n",
        "class_code         23450  non-null values\n",
        "nearest_ref_id     23450  non-null values\n",
        "gene_id            23450  non-null values\n",
        "gene_short_name    23450  non-null values\n",
        "tss_id             23450  non-null values\n",
        "locus              23450  non-null values\n",
        "length             23450  non-null values\n",
        "coverage           23450  non-null values\n",
        "Cq_00_FPKM         23450  non-null values\n",
        "Cq_00_conf_lo      23450  non-null values\n",
        "Cq_00_conf_hi      23450  non-null values\n",
        "Cq_00_status       23450  non-null values\n",
        "Cq_04_FPKM         23450  non-null values\n",
        "Cq_04_conf_lo      23450  non-null values\n",
        "Cq_04_conf_hi      23450  non-null values\n",
        "Cq_04_status       23450  non-null values\n",
        "Cq_06_FPKM         23450  non-null values\n",
        "Cq_06_conf_lo      23450  non-null values\n",
        "Cq_06_conf_hi      23450  non-null values\n",
        "Cq_06_status       23450  non-null values\n",
        "Cq_08_FPKM         23450  non-null values\n",
        "Cq_08_conf_lo      23450  non-null values\n",
        "Cq_08_conf_hi      23450  non-null values\n",
        "Cq_08_status       23450  non-null values\n",
        "Cq_10_FPKM         23450  non-null values\n",
        "Cq_10_conf_lo      23450  non-null values\n",
        "Cq_10_conf_hi      23450  non-null values\n",
        "Cq_10_status       23450  non-null values\n",
        "dtypes: float64(15), int64(1), object(13)"
       ]
      }
     ],
     "prompt_number": 12
    },
    {
     "cell_type": "code",
     "collapsed": false,
     "input": [
      "vector_heads = [x for x in new.columns if 'FPKM' in x]"
     ],
     "language": "python",
     "metadata": {},
     "outputs": [],
     "prompt_number": 20
    },
    {
     "cell_type": "code",
     "collapsed": false,
     "input": [
      "vectors = new.loc[:,vector_heads]"
     ],
     "language": "python",
     "metadata": {},
     "outputs": [],
     "prompt_number": 90
    },
    {
     "cell_type": "code",
     "collapsed": false,
     "input": [
      "vectors2 = new.reindex(columns=vector_heads)\n",
      "vectors2['nearest_ref_id'] = new.nearest_ref_id\n",
      "vectors2['gene_only_id'] = new.nearest_ref_id.map(lambda x: x[:-3])\n",
      "vectors2 = vectors2.set_index('nearest_ref_id')"
     ],
     "language": "python",
     "metadata": {},
     "outputs": [],
     "prompt_number": 96
    },
    {
     "cell_type": "code",
     "collapsed": false,
     "input": [
      "vectors2"
     ],
     "language": "python",
     "metadata": {},
     "outputs": [
      {
       "html": [
        "<pre>\n",
        "&ltclass 'pandas.core.frame.DataFrame'&gt\n",
        "Index: 23450 entries, CPIJ000001-RA to CPIJ017592-RA\n",
        "Data columns (total 6 columns):\n",
        "Cq_00_FPKM      23450  non-null values\n",
        "Cq_04_FPKM      23450  non-null values\n",
        "Cq_06_FPKM      23450  non-null values\n",
        "Cq_08_FPKM      23450  non-null values\n",
        "Cq_10_FPKM      23450  non-null values\n",
        "gene_only_id    23450  non-null values\n",
        "dtypes: float64(5), object(1)\n",
        "</pre>"
       ],
       "metadata": {},
       "output_type": "pyout",
       "prompt_number": 97,
       "text": [
        "<class 'pandas.core.frame.DataFrame'>\n",
        "Index: 23450 entries, CPIJ000001-RA to CPIJ017592-RA\n",
        "Data columns (total 6 columns):\n",
        "Cq_00_FPKM      23450  non-null values\n",
        "Cq_04_FPKM      23450  non-null values\n",
        "Cq_06_FPKM      23450  non-null values\n",
        "Cq_08_FPKM      23450  non-null values\n",
        "Cq_10_FPKM      23450  non-null values\n",
        "gene_only_id    23450  non-null values\n",
        "dtypes: float64(5), object(1)"
       ]
      }
     ],
     "prompt_number": 97
    },
    {
     "cell_type": "code",
     "collapsed": false,
     "input": [
      "vectors.head()"
     ],
     "language": "python",
     "metadata": {},
     "outputs": [
      {
       "html": [
        "<div style=\"max-height:1000px;max-width:1500px;overflow:auto;\">\n",
        "<table border=\"1\" class=\"dataframe\">\n",
        "  <thead>\n",
        "    <tr style=\"text-align: right;\">\n",
        "      <th></th>\n",
        "      <th>nearest_ref_id</th>\n",
        "      <th>Cq_00_FPKM</th>\n",
        "      <th>Cq_04_FPKM</th>\n",
        "      <th>Cq_06_FPKM</th>\n",
        "      <th>Cq_08_FPKM</th>\n",
        "      <th>Cq_10_FPKM</th>\n",
        "    </tr>\n",
        "  </thead>\n",
        "  <tbody>\n",
        "    <tr>\n",
        "      <th>0</th>\n",
        "      <td> CPIJ000001-RA</td>\n",
        "      <td>  0.00000</td>\n",
        "      <td>  0.00000</td>\n",
        "      <td>  0.00000</td>\n",
        "      <td>  0.00000</td>\n",
        "      <td>  0.00000</td>\n",
        "    </tr>\n",
        "    <tr>\n",
        "      <th>1</th>\n",
        "      <td> CPIJ000002-RA</td>\n",
        "      <td>  0.00000</td>\n",
        "      <td>  0.00000</td>\n",
        "      <td>  0.00000</td>\n",
        "      <td>  0.00000</td>\n",
        "      <td>  0.00000</td>\n",
        "    </tr>\n",
        "    <tr>\n",
        "      <th>2</th>\n",
        "      <td> CPIJ000003-RA</td>\n",
        "      <td>  0.00000</td>\n",
        "      <td>  0.00000</td>\n",
        "      <td>  0.00000</td>\n",
        "      <td>  0.00000</td>\n",
        "      <td>  0.00000</td>\n",
        "    </tr>\n",
        "    <tr>\n",
        "      <th>3</th>\n",
        "      <td> CPIJ000004-RA</td>\n",
        "      <td>  5.96529</td>\n",
        "      <td>  5.77623</td>\n",
        "      <td>  5.94192</td>\n",
        "      <td>  6.06379</td>\n",
        "      <td>  5.78906</td>\n",
        "    </tr>\n",
        "    <tr>\n",
        "      <th>4</th>\n",
        "      <td> CPIJ000006-RA</td>\n",
        "      <td> 10.91390</td>\n",
        "      <td> 10.77360</td>\n",
        "      <td> 11.40230</td>\n",
        "      <td> 10.56170</td>\n",
        "      <td> 10.20550</td>\n",
        "    </tr>\n",
        "  </tbody>\n",
        "</table>\n",
        "</div>"
       ],
       "metadata": {},
       "output_type": "pyout",
       "prompt_number": 98,
       "text": [
        "  nearest_ref_id  Cq_00_FPKM  Cq_04_FPKM  Cq_06_FPKM  Cq_08_FPKM  Cq_10_FPKM\n",
        "0  CPIJ000001-RA     0.00000     0.00000     0.00000     0.00000     0.00000\n",
        "1  CPIJ000002-RA     0.00000     0.00000     0.00000     0.00000     0.00000\n",
        "2  CPIJ000003-RA     0.00000     0.00000     0.00000     0.00000     0.00000\n",
        "3  CPIJ000004-RA     5.96529     5.77623     5.94192     6.06379     5.78906\n",
        "4  CPIJ000006-RA    10.91390    10.77360    11.40230    10.56170    10.20550"
       ]
      }
     ],
     "prompt_number": 98
    },
    {
     "cell_type": "code",
     "collapsed": false,
     "input": [
      "v = vectors2\n"
     ],
     "language": "python",
     "metadata": {},
     "outputs": [
      {
       "ename": "TypeError",
       "evalue": "'SeriesGroupBy' object is not callable",
       "output_type": "pyerr",
       "traceback": [
        "\u001b[1;31m---------------------------------------------------------------------------\u001b[0m\n\u001b[1;31mTypeError\u001b[0m                                 Traceback (most recent call last)",
        "\u001b[1;32m<ipython-input-108-a044bee6da32>\u001b[0m in \u001b[0;36m<module>\u001b[1;34m()\u001b[0m\n\u001b[0;32m      1\u001b[0m \u001b[0mv\u001b[0m \u001b[1;33m=\u001b[0m \u001b[0mvectors2\u001b[0m\u001b[1;33m.\u001b[0m\u001b[0mgroupby\u001b[0m\u001b[1;33m(\u001b[0m\u001b[1;34m'gene_only_id'\u001b[0m\u001b[1;33m)\u001b[0m\u001b[1;33m\u001b[0m\u001b[0m\n\u001b[1;32m----> 2\u001b[1;33m \u001b[0mv\u001b[0m\u001b[1;33m.\u001b[0m\u001b[0mCq_00_FPKM\u001b[0m\u001b[1;33m(\u001b[0m\u001b[1;33m)\u001b[0m\u001b[1;33m\u001b[0m\u001b[0m\n\u001b[0m",
        "\u001b[1;31mTypeError\u001b[0m: 'SeriesGroupBy' object is not callable"
       ]
      }
     ],
     "prompt_number": 108
    },
    {
     "cell_type": "code",
     "collapsed": false,
     "input": [
      "vectors2.index"
     ],
     "language": "python",
     "metadata": {},
     "outputs": [
      {
       "metadata": {},
       "output_type": "pyout",
       "prompt_number": 100,
       "text": [
        "Index([CPIJ000001-RA, CPIJ000002-RA, CPIJ000003-RA, ..., CPIJ017588-RA, CPIJ017589-RA, CPIJ017592-RA], dtype=object)"
       ]
      }
     ],
     "prompt_number": 100
    },
    {
     "cell_type": "markdown",
     "metadata": {},
     "source": [
      "# Changing Tact for deadlines' sakes: alter the new table to comply with existing code"
     ]
    },
    {
     "cell_type": "code",
     "collapsed": false,
     "input": [
      "new.head()"
     ],
     "language": "python",
     "metadata": {},
     "outputs": [
      {
       "html": [
        "<pre>\n",
        "&ltclass 'pandas.core.frame.DataFrame'&gt\n",
        "Int64Index: 5 entries, 0 to 4\n",
        "Data columns (total 29 columns):\n",
        "tracking_id        5  non-null values\n",
        "class_code         5  non-null values\n",
        "nearest_ref_id     5  non-null values\n",
        "gene_id            5  non-null values\n",
        "gene_short_name    5  non-null values\n",
        "tss_id             5  non-null values\n",
        "locus              5  non-null values\n",
        "length             5  non-null values\n",
        "coverage           5  non-null values\n",
        "Cq_00_FPKM         5  non-null values\n",
        "Cq_00_conf_lo      5  non-null values\n",
        "Cq_00_conf_hi      5  non-null values\n",
        "Cq_00_status       5  non-null values\n",
        "Cq_04_FPKM         5  non-null values\n",
        "Cq_04_conf_lo      5  non-null values\n",
        "Cq_04_conf_hi      5  non-null values\n",
        "Cq_04_status       5  non-null values\n",
        "Cq_06_FPKM         5  non-null values\n",
        "Cq_06_conf_lo      5  non-null values\n",
        "Cq_06_conf_hi      5  non-null values\n",
        "Cq_06_status       5  non-null values\n",
        "Cq_08_FPKM         5  non-null values\n",
        "Cq_08_conf_lo      5  non-null values\n",
        "Cq_08_conf_hi      5  non-null values\n",
        "Cq_08_status       5  non-null values\n",
        "Cq_10_FPKM         5  non-null values\n",
        "Cq_10_conf_lo      5  non-null values\n",
        "Cq_10_conf_hi      5  non-null values\n",
        "Cq_10_status       5  non-null values\n",
        "dtypes: float64(15), int64(1), object(13)\n",
        "</pre>"
       ],
       "metadata": {},
       "output_type": "pyout",
       "prompt_number": 110,
       "text": [
        "      tracking_id class_code nearest_ref_id      gene_id gene_short_name  \\\n",
        "0  TCONS_00000001          =  CPIJ000001-RA  XLOC_000001      CPIJ020335   \n",
        "1  TCONS_00000002          =  CPIJ000002-RA  XLOC_000002      CPIJ000002   \n",
        "2  TCONS_00000003          =  CPIJ000003-RA  XLOC_000003      CPIJ020349   \n",
        "3  TCONS_00000004          =  CPIJ000004-RA  XLOC_000004      CPIJ000004   \n",
        "4  TCONS_00000005          =  CPIJ000006-RA  XLOC_000005      CPIJ000006   \n",
        "\n",
        "  tss_id                       locus  length coverage  Cq_00_FPKM  \\\n",
        "0   TSS1    supercont3.1:20592-93084      74        -     0.00000   \n",
        "1   TSS2  supercont3.1:120653-222259    4758        -     0.00000   \n",
        "2   TSS3  supercont3.1:251698-251775      77        -     0.00000   \n",
        "3   TSS4  supercont3.1:373017-378342    3591        -     5.96529   \n",
        "4   TSS5  supercont3.1:396788-416423    2250        -    10.91390   \n",
        "\n",
        "   Cq_00_conf_lo  Cq_00_conf_hi Cq_00_status  Cq_04_FPKM  Cq_04_conf_lo  \\\n",
        "0        0.00000         0.0000           OK     0.00000        0.00000   \n",
        "1        0.00000         0.0000           OK     0.00000        0.00000   \n",
        "2        0.00000         0.0000           OK     0.00000        0.00000   \n",
        "3        1.62212        10.3044           OK     5.77623        1.50910   \n",
        "4        2.85415        18.9605           OK    10.77360        2.72683   \n",
        "\n",
        "   Cq_04_conf_hi Cq_04_status  Cq_06_FPKM  Cq_06_conf_lo  Cq_06_conf_hi  \\\n",
        "0       0.000000           OK     0.00000        0.00000         0.0000   \n",
        "1       0.010035           OK     0.00000        0.00000         0.0000   \n",
        "2       0.000000           OK     0.00000        0.00000         0.0000   \n",
        "3      10.045100           OK     5.94192        1.47586        10.4440   \n",
        "4      18.822500           OK    11.40230        2.69500        20.1276   \n",
        "\n",
        "  Cq_06_status  Cq_08_FPKM  Cq_08_conf_lo  Cq_08_conf_hi Cq_08_status  \\\n",
        "0           OK     0.00000        0.00000         0.0000           OK   \n",
        "1           OK     0.00000        0.00000         0.0000           OK   \n",
        "2           OK     0.00000        0.00000         0.0000           OK   \n",
        "3           OK     6.06379        1.54234        10.5903           OK   \n",
        "4           OK    10.56170        2.63134        18.4830           OK   \n",
        "\n",
        "   Cq_10_FPKM  Cq_10_conf_lo  Cq_10_conf_hi Cq_10_status  \n",
        "0     0.00000        0.00000       0.645217           OK  \n",
        "1     0.00000        0.00000       0.010035           OK  \n",
        "2     0.00000        0.00000       0.000000           OK  \n",
        "3     5.78906        1.55564      10.025200           OK  \n",
        "4    10.20550        2.63134      17.793400           OK  "
       ]
      }
     ],
     "prompt_number": 110
    },
    {
     "cell_type": "code",
     "collapsed": false,
     "input": [
      "indexes = [label for label in new.columns if 'status' not in label]\n",
      "indexes = indexes[:8] + ['status'] + indexes[8:]\n",
      "reordered = new.reindex(columns=indexes)\n",
      "print reordered.head()"
     ],
     "language": "python",
     "metadata": {},
     "outputs": [
      {
       "output_type": "stream",
       "stream": "stdout",
       "text": [
        "      tracking_id class_code nearest_ref_id      gene_id gene_short_name  \\\n",
        "0  TCONS_00000001          =  CPIJ000001-RA  XLOC_000001      CPIJ020335   \n",
        "1  TCONS_00000002          =  CPIJ000002-RA  XLOC_000002      CPIJ000002   \n",
        "2  TCONS_00000003          =  CPIJ000003-RA  XLOC_000003      CPIJ020349   \n",
        "3  TCONS_00000004          =  CPIJ000004-RA  XLOC_000004      CPIJ000004   \n",
        "4  TCONS_00000005          =  CPIJ000006-RA  XLOC_000005      CPIJ000006   \n",
        "\n",
        "  tss_id                       locus  length  status coverage  Cq_00_FPKM  \\\n",
        "0   TSS1    supercont3.1:20592-93084      74     NaN        -     0.00000   \n",
        "1   TSS2  supercont3.1:120653-222259    4758     NaN        -     0.00000   \n",
        "2   TSS3  supercont3.1:251698-251775      77     NaN        -     0.00000   \n",
        "3   TSS4  supercont3.1:373017-378342    3591     NaN        -     5.96529   \n",
        "4   TSS5  supercont3.1:396788-416423    2250     NaN        -    10.91390   \n",
        "\n",
        "   Cq_00_conf_lo  Cq_00_conf_hi  Cq_04_FPKM  Cq_04_conf_lo  Cq_04_conf_hi  \\\n",
        "0        0.00000         0.0000     0.00000        0.00000       0.000000   \n",
        "1        0.00000         0.0000     0.00000        0.00000       0.010035   \n",
        "2        0.00000         0.0000     0.00000        0.00000       0.000000   \n",
        "3        1.62212        10.3044     5.77623        1.50910      10.045100   \n",
        "4        2.85415        18.9605    10.77360        2.72683      18.822500   \n",
        "\n",
        "   Cq_06_FPKM  Cq_06_conf_lo  Cq_06_conf_hi  Cq_08_FPKM  Cq_08_conf_lo  \\\n",
        "0     0.00000        0.00000         0.0000     0.00000        0.00000   \n",
        "1     0.00000        0.00000         0.0000     0.00000        0.00000   \n",
        "2     0.00000        0.00000         0.0000     0.00000        0.00000   \n",
        "3     5.94192        1.47586        10.4440     6.06379        1.54234   \n",
        "4    11.40230        2.69500        20.1276    10.56170        2.63134   \n",
        "\n",
        "   Cq_08_conf_hi  Cq_10_FPKM  Cq_10_conf_lo  Cq_10_conf_hi  \n",
        "0         0.0000     0.00000        0.00000       0.645217  \n",
        "1         0.0000     0.00000        0.00000       0.010035  \n",
        "2         0.0000     0.00000        0.00000       0.000000  \n",
        "3        10.5903     5.78906        1.55564      10.025200  \n",
        "4        18.4830    10.20550        2.63134      17.793400  \n"
       ]
      }
     ],
     "prompt_number": 117
    },
    {
     "cell_type": "code",
     "collapsed": false,
     "input": [
      "reordered.to_csv("
     ],
     "language": "python",
     "metadata": {},
     "outputs": []
    },
    {
     "cell_type": "code",
     "collapsed": false,
     "input": [
      "def convert_to_old_cuffdiff_isoform_tracking(table_path):\n",
      "    \"\"\"\n",
      "    reads in path to new cuffdiff iso fpkm tracking format (condition1_status .. conditionN_status)\n",
      "    to old format (only one 'status' column).  Sets new status column values all to 'NaN'\n",
      "    \"\"\"\n",
      "    new = pd.read_table(table_path)\n",
      "    columns = [label for label in new.columns if 'status' not in label]\n",
      "    columns = columns[:8] + ['status'] + columns[8:]\n",
      "    old = new.reindex(columns=columns)\n",
      "    old = old.set_index('tracking_id')\n",
      "    old.to_csv(\"%s.old_columns.tsv\" % (table_path),sep='\\t')\n",
      "    "
     ],
     "language": "python",
     "metadata": {},
     "outputs": [],
     "prompt_number": 128
    },
    {
     "cell_type": "code",
     "collapsed": false,
     "input": [
      "convert_to_old_cuffdiff_isoform_tracking('/home/gus/Dropbox/common/projects/Aa_Ag_Cq_As/RNAseq_results/bio/dunnw/data/4mosqs_mg_RNAseq/gtf_strict/cuffdiff_Cq_00_0.Cq_04_0.Cq_06_0.Cq_08_0.Cq_10_0/isoforms.fpkm_tracking')"
     ],
     "language": "python",
     "metadata": {},
     "outputs": [],
     "prompt_number": 129
    },
    {
     "cell_type": "code",
     "collapsed": false,
     "input": [
      "reordered"
     ],
     "language": "python",
     "metadata": {},
     "outputs": [
      {
       "html": [
        "<pre>\n",
        "&ltclass 'pandas.core.frame.DataFrame'&gt\n",
        "Int64Index: 23450 entries, 0 to 23449\n",
        "Data columns (total 25 columns):\n",
        "tracking_id        23450  non-null values\n",
        "class_code         23450  non-null values\n",
        "nearest_ref_id     23450  non-null values\n",
        "gene_id            23450  non-null values\n",
        "gene_short_name    23450  non-null values\n",
        "tss_id             23450  non-null values\n",
        "locus              23450  non-null values\n",
        "length             23450  non-null values\n",
        "status             0  non-null values\n",
        "coverage           23450  non-null values\n",
        "Cq_00_FPKM         23450  non-null values\n",
        "Cq_00_conf_lo      23450  non-null values\n",
        "Cq_00_conf_hi      23450  non-null values\n",
        "Cq_04_FPKM         23450  non-null values\n",
        "Cq_04_conf_lo      23450  non-null values\n",
        "Cq_04_conf_hi      23450  non-null values\n",
        "Cq_06_FPKM         23450  non-null values\n",
        "Cq_06_conf_lo      23450  non-null values\n",
        "Cq_06_conf_hi      23450  non-null values\n",
        "Cq_08_FPKM         23450  non-null values\n",
        "Cq_08_conf_lo      23450  non-null values\n",
        "Cq_08_conf_hi      23450  non-null values\n",
        "Cq_10_FPKM         23450  non-null values\n",
        "Cq_10_conf_lo      23450  non-null values\n",
        "Cq_10_conf_hi      23450  non-null values\n",
        "dtypes: float64(16), int64(1), object(8)\n",
        "</pre>"
       ],
       "metadata": {},
       "output_type": "pyout",
       "prompt_number": 123,
       "text": [
        "<class 'pandas.core.frame.DataFrame'>\n",
        "Int64Index: 23450 entries, 0 to 23449\n",
        "Data columns (total 25 columns):\n",
        "tracking_id        23450  non-null values\n",
        "class_code         23450  non-null values\n",
        "nearest_ref_id     23450  non-null values\n",
        "gene_id            23450  non-null values\n",
        "gene_short_name    23450  non-null values\n",
        "tss_id             23450  non-null values\n",
        "locus              23450  non-null values\n",
        "length             23450  non-null values\n",
        "status             0  non-null values\n",
        "coverage           23450  non-null values\n",
        "Cq_00_FPKM         23450  non-null values\n",
        "Cq_00_conf_lo      23450  non-null values\n",
        "Cq_00_conf_hi      23450  non-null values\n",
        "Cq_04_FPKM         23450  non-null values\n",
        "Cq_04_conf_lo      23450  non-null values\n",
        "Cq_04_conf_hi      23450  non-null values\n",
        "Cq_06_FPKM         23450  non-null values\n",
        "Cq_06_conf_lo      23450  non-null values\n",
        "Cq_06_conf_hi      23450  non-null values\n",
        "Cq_08_FPKM         23450  non-null values\n",
        "Cq_08_conf_lo      23450  non-null values\n",
        "Cq_08_conf_hi      23450  non-null values\n",
        "Cq_10_FPKM         23450  non-null values\n",
        "Cq_10_conf_lo      23450  non-null values\n",
        "Cq_10_conf_hi      23450  non-null values\n",
        "dtypes: float64(16), int64(1), object(8)"
       ]
      }
     ],
     "prompt_number": 123
    },
    {
     "cell_type": "code",
     "collapsed": false,
     "input": [],
     "language": "python",
     "metadata": {},
     "outputs": []
    }
   ],
   "metadata": {}
  }
 ]
}