{
 "metadata": {
  "name": ""
 },
 "nbformat": 3,
 "nbformat_minor": 0,
 "worksheets": [
  {
   "cells": [
    {
     "cell_type": "code",
     "collapsed": false,
     "input": [
      "import pandas\n",
      "import numpy as np"
     ],
     "language": "python",
     "metadata": {},
     "outputs": [],
     "prompt_number": 1
    },
    {
     "cell_type": "markdown",
     "metadata": {},
     "source": [
      "#### Data loading and options setting:"
     ]
    },
    {
     "cell_type": "markdown",
     "metadata": {},
     "source": [
      "Input file:"
     ]
    },
    {
     "cell_type": "code",
     "collapsed": false,
     "input": [
      "data_source = pandas.DataFrame.from_csv('/home/gus/Dropbox/common/Mariangela/IR_SNPs/SNP_tables/bung_snp_table.csv')\n",
      "pop_name = 'Bunguma'\n",
      "\n",
      "kisumu_data = pandas.DataFrame.from_csv('/home/gus/Dropbox/common/Mariangela/IR_SNPs/SNP_tables/kisu_snp_table.csv')\n",
      "\n",
      "out_dir = ''"
     ],
     "language": "python",
     "metadata": {},
     "outputs": [],
     "prompt_number": 2
    },
    {
     "cell_type": "markdown",
     "metadata": {},
     "source": [
      "Exracting relevant data from the csv table into convenient variable names:"
     ]
    },
    {
     "cell_type": "code",
     "collapsed": false,
     "input": [
      "mr = data_source.Mut_Res\n",
      "rr = data_source.Ref_Res\n",
      "ms = data_source.Mut_Sus\n",
      "rs = data_source.Ref_Sus\n",
      "\n",
      "kms = kisumu_data.Ref\n",
      "krs = kisumu_data.Mut"
     ],
     "language": "python",
     "metadata": {},
     "outputs": [],
     "prompt_number": 3
    },
    {
     "cell_type": "markdown",
     "metadata": {},
     "source": [
      "#### Replace missing (undetected) values with 0 to reflect that no reads were detected:"
     ]
    },
    {
     "cell_type": "code",
     "collapsed": false,
     "input": [
      "mr = mr.replace(np.nan,0)\n",
      "rr = rr.replace(np.nan,0)\n",
      "ms = ms.replace(np.nan,0)\n",
      "rs = rs.replace(np.nan,0)\n",
      "\n",
      "kms = kms.replace(np.nan,0)\n",
      "krs = krs.replace(np.nan,0)"
     ],
     "language": "python",
     "metadata": {},
     "outputs": [],
     "prompt_number": 4
    },
    {
     "cell_type": "markdown",
     "metadata": {},
     "source": [
      "#### Obtain the difference between the mutant and reference alleles:\n",
      "\n",
      "Resistant comparisons (``res_sub``): $M_a - R_a$\n",
      "\n",
      "Susceptible comparisons (``sus_sub``): $R_a - M_a$\n",
      "\n",
      "- $M_a$ = Frequency of a specific mutant allele\n",
      "- $R_a$ = Frequency of the reference allele"
     ]
    },
    {
     "cell_type": "code",
     "collapsed": false,
     "input": [
      "res_sub = mr-rr\n",
      "sus_sub = rs-ms\n",
      "\n",
      "kis_sub = krs-kms"
     ],
     "language": "python",
     "metadata": {},
     "outputs": [],
     "prompt_number": 5
    },
    {
     "cell_type": "markdown",
     "metadata": {},
     "source": [
      "#### Calculate and plot the standardized values for both resistant and susceptible distributions: "
     ]
    },
    {
     "cell_type": "code",
     "collapsed": false,
     "input": [
      "res_sub_std = (res_sub - np.median(res_sub))/std(res_sub)\n",
      "sus_sub_std = (sus_sub - np.median(sus_sub))/std(sus_sub)\n",
      "\n",
      "kis_sub_std = (kis_sub - np.median(kis_sub))/std(kis_sub)"
     ],
     "language": "python",
     "metadata": {},
     "outputs": [],
     "prompt_number": 6
    },
    {
     "cell_type": "code",
     "collapsed": false,
     "input": [
      "res_sub_std_hist = hist(res_sub_std,bins=50, histtype='stepfilled', log=1, color='r', alpha=0.5, label='res')\n",
      "xlabel('Standard Deviations from the Mean')\n",
      "ylabel('Non-synonomous SNP locations')\n",
      "title(r'Standardized Resistant Comparisons ($M_a - R_a$)')\n",
      "suptitle(pop_name)\n",
      "legend()"
     ],
     "language": "python",
     "metadata": {},
     "outputs": [
      {
       "metadata": {},
       "output_type": "pyout",
       "prompt_number": 7,
       "text": [
        "<matplotlib.legend.Legend at 0x440cb50>"
       ]
      },
      {
       "metadata": {},
       "output_type": "display_data",
       "png": "[encoded data removed]",
       "text": [
        "<matplotlib.figure.Figure at 0x3463790>"
       ]
      }
     ],
     "prompt_number": 7
    },
    {
     "cell_type": "code",
     "collapsed": false,
     "input": [
      "sus_sub_std_hist = hist(sus_sub_std,bins=res_sub_std_hist[1], histtype='stepfilled', log=1, color='c', alpha=0.5, label='sus')\n",
      "xlabel('Standard Deviations from the Mean')\n",
      "ylabel('Non-synonomous SNP locations')\n",
      "title(r'Standardized Susceptible Comparisons ($R_a - M_a$)')\n",
      "suptitle(pop_name)\n",
      "legend()"
     ],
     "language": "python",
     "metadata": {},
     "outputs": [
      {
       "metadata": {},
       "output_type": "pyout",
       "prompt_number": 8,
       "text": [
        "<matplotlib.legend.Legend at 0x4c1a190>"
       ]
      },
      {
       "metadata": {},
       "output_type": "display_data",
       "png": "[encoded data removed]",
       "text": [
        "<matplotlib.figure.Figure at 0x4422c90>"
       ]
      }
     ],
     "prompt_number": 8
    },
    {
     "cell_type": "code",
     "collapsed": false,
     "input": [
      "kis_sub_std_hist = hist(kis_sub_std,bins=res_sub_std_hist[1], histtype='stepfilled', log=1, color='g', alpha=0.5, label='kis')\n",
      "xlabel('Standard Deviations from the Mean')\n",
      "ylabel('Non-synonomous SNP locations')\n",
      "title(r'Standardized Susceptible Comparisons ($R_a - M_a$)')\n",
      "suptitle('Kisumu')\n",
      "legend()"
     ],
     "language": "python",
     "metadata": {},
     "outputs": [
      {
       "metadata": {},
       "output_type": "pyout",
       "prompt_number": 9,
       "text": [
        "<matplotlib.legend.Legend at 0x4dbc550>"
       ]
      },
      {
       "metadata": {},
       "output_type": "display_data",
       "png": "[encoded data removed]",
       "text": [
        "<matplotlib.figure.Figure at 0x4a63a90>"
       ]
      }
     ],
     "prompt_number": 9
    },
    {
     "cell_type": "code",
     "collapsed": false,
     "input": [
      "res_sub_std_hist = hist(res_sub_std,bins=50, histtype='stepfilled', log=1, color='r', alpha=0.3, label='res')\n",
      "sus_sub_std_hist = hist(sus_sub_std,bins=res_sub_std_hist[1], histtype='stepfilled', log=1, color='c', alpha=0.3, label='sus')\n",
      "kis_sub_std_hist = hist(kis_sub_std,bins=res_sub_std_hist[1], histtype='stepfilled', log=1, color='g', alpha=0.3, label='kis')\n",
      "xlabel('Standard Deviations from the Mean')\n",
      "ylabel('Non-synonomous SNP locations')\n",
      "title(r'Overlay')\n",
      "\n",
      "legend()"
     ],
     "language": "python",
     "metadata": {},
     "outputs": [
      {
       "metadata": {},
       "output_type": "pyout",
       "prompt_number": 10,
       "text": [
        "<matplotlib.legend.Legend at 0x55027d0>"
       ]
      },
      {
       "metadata": {},
       "output_type": "display_data",
       "png": "[encoded data removed]",
       "text": [
        "<matplotlib.figure.Figure at 0x519ba90>"
       ]
      }
     ],
     "prompt_number": 10
    },
    {
     "cell_type": "markdown",
     "metadata": {},
     "source": [
      "#### Select SNPs greater than the upper quantile ($q = 0.75$)"
     ]
    },
    {
     "cell_type": "markdown",
     "metadata": {},
     "source": [
      "Show the standard deviation ($\\sigma$) value that represents the cut-off for the upper quartile ($q = 0.75$) in the **sus** comparison"
     ]
    },
    {
     "cell_type": "code",
     "collapsed": false,
     "input": [
      "sus_q75 = sus_sub_std.quantile(0.75)\n",
      "sus_q75"
     ],
     "language": "python",
     "metadata": {},
     "outputs": [
      {
       "metadata": {},
       "output_type": "pyout",
       "prompt_number": 11,
       "text": [
        "0.01399023885976689"
       ]
      }
     ],
     "prompt_number": 11
    },
    {
     "cell_type": "code",
     "collapsed": false,
     "input": [
      "len(sus_sub_std[sus_sub_std >= sus_q75])"
     ],
     "language": "python",
     "metadata": {},
     "outputs": [
      {
       "metadata": {},
       "output_type": "pyout",
       "prompt_number": 12,
       "text": [
        "10082"
       ]
      }
     ],
     "prompt_number": 12
    },
    {
     "cell_type": "markdown",
     "metadata": {},
     "source": [
      "Record which SNPs are in the upper quartile in the **sus** comparison:"
     ]
    },
    {
     "cell_type": "code",
     "collapsed": false,
     "input": [
      "sus_sub_std_gt_q0_75 = sus_sub_std >= sus_q75\n",
      "#sus_sub_std_gt_q0_75"
     ],
     "language": "python",
     "metadata": {},
     "outputs": [],
     "prompt_number": 13
    },
    {
     "cell_type": "markdown",
     "metadata": {},
     "source": [
      "-------------------\n",
      "\n",
      "Show the standard deviation ($\\sigma$) value that represents the cut-off for the upper quartile ($q = 0.75$) in the **res** comparison"
     ]
    },
    {
     "cell_type": "code",
     "collapsed": false,
     "input": [
      "res_q75 = res_sub_std.quantile(0.75)\n",
      "res_q75"
     ],
     "language": "python",
     "metadata": {},
     "outputs": [
      {
       "metadata": {},
       "output_type": "pyout",
       "prompt_number": 14,
       "text": [
        "0.015909614946856655"
       ]
      }
     ],
     "prompt_number": 14
    },
    {
     "cell_type": "code",
     "collapsed": false,
     "input": [
      "len(res_sub_std[res_sub_std >= res_q75])"
     ],
     "language": "python",
     "metadata": {},
     "outputs": [
      {
       "metadata": {},
       "output_type": "pyout",
       "prompt_number": 15,
       "text": [
        "10124"
       ]
      }
     ],
     "prompt_number": 15
    },
    {
     "cell_type": "markdown",
     "metadata": {},
     "source": [
      "Record which SNPs are in the upper quartile in the **res** comparison:"
     ]
    },
    {
     "cell_type": "code",
     "collapsed": false,
     "input": [
      "res_sub_std_gt_q0_75 = res_sub_std >= res_q75\n",
      "#res_sub_std_gt_q0_75"
     ],
     "language": "python",
     "metadata": {},
     "outputs": [],
     "prompt_number": 16
    },
    {
     "cell_type": "markdown",
     "metadata": {},
     "source": [
      "***\n",
      "Record which SNPs are in the upper quartile of **BOTH** the **sus** and the **res**:"
     ]
    },
    {
     "cell_type": "code",
     "collapsed": false,
     "input": [
      "res_AND_sus_sub_std_gt_q0_75 = res_sub_std_gt_q0_75 & sus_sub_std_gt_q0_75"
     ],
     "language": "python",
     "metadata": {},
     "outputs": [],
     "prompt_number": 17
    },
    {
     "cell_type": "code",
     "collapsed": false,
     "input": [
      "len(res_AND_sus_sub_std_gt_q0_75[res_AND_sus_sub_std_gt_q0_75 == True])"
     ],
     "language": "python",
     "metadata": {},
     "outputs": [
      {
       "metadata": {},
       "output_type": "pyout",
       "prompt_number": 18,
       "text": [
        "403"
       ]
      }
     ],
     "prompt_number": 18
    },
    {
     "cell_type": "markdown",
     "metadata": {},
     "source": [
      "***\n",
      "Show the standard deviation ($\\sigma$) value that represents the cut-off for the upper quartile ($q = 0.75$) in the **kis** comparison"
     ]
    },
    {
     "cell_type": "code",
     "collapsed": false,
     "input": [
      "kis_q75 = kis_sub_std.quantile(0.75)\n",
      "kis_q75"
     ],
     "language": "python",
     "metadata": {},
     "outputs": [
      {
       "metadata": {},
       "output_type": "pyout",
       "prompt_number": 19,
       "text": [
        "0.048437375301674586"
       ]
      }
     ],
     "prompt_number": 19
    },
    {
     "cell_type": "markdown",
     "metadata": {},
     "source": [
      "Record which SNPs are in the upper quartile in the **kis** comparison:"
     ]
    },
    {
     "cell_type": "code",
     "collapsed": false,
     "input": [
      "len(kis_sub_std[kis_sub_std >= kis_q75])"
     ],
     "language": "python",
     "metadata": {},
     "outputs": [
      {
       "metadata": {},
       "output_type": "pyout",
       "prompt_number": 20,
       "text": [
        "6518"
       ]
      }
     ],
     "prompt_number": 20
    },
    {
     "cell_type": "code",
     "collapsed": false,
     "input": [
      "kis_sub_std_gt_q0_75 = kis_sub_std >= kis_q75\n",
      "#kis_sub_std_gt_q0_75"
     ],
     "language": "python",
     "metadata": {},
     "outputs": [],
     "prompt_number": 21
    },
    {
     "cell_type": "markdown",
     "metadata": {},
     "source": [
      "***\n",
      "Record which SNPs are in the upper quartile of **ALL THREE** of **sus**, **res**, and **kis**:"
     ]
    },
    {
     "cell_type": "code",
     "collapsed": false,
     "input": [
      "kis_AND_res_AND_sus_sub_std_gt_q0_75 = res_sub_std_gt_q0_75 & sus_sub_std_gt_q0_75 & kis_sub_std_gt_q0_75"
     ],
     "language": "python",
     "metadata": {},
     "outputs": [
      {
       "ename": "ValueError",
       "evalue": "operands could not be broadcast together with shapes (40079) (25705) ",
       "output_type": "pyerr",
       "traceback": [
        "\u001b[1;31m---------------------------------------------------------------------------\u001b[0m\n\u001b[1;31mValueError\u001b[0m                                Traceback (most recent call last)",
        "\u001b[1;32m<ipython-input-22-fed6480950ec>\u001b[0m in \u001b[0;36m<module>\u001b[1;34m()\u001b[0m\n\u001b[1;32m----> 1\u001b[1;33m \u001b[0mkis_AND_res_AND_sus_sub_std_gt_q0_75\u001b[0m \u001b[1;33m=\u001b[0m \u001b[0mres_sub_std_gt_q0_75\u001b[0m \u001b[1;33m&\u001b[0m \u001b[0msus_sub_std_gt_q0_75\u001b[0m \u001b[1;33m&\u001b[0m \u001b[0mkis_sub_std_gt_q0_75\u001b[0m\u001b[1;33m\u001b[0m\u001b[0m\n\u001b[0m",
        "\u001b[1;32m/home/gus/virtualenvs/py275/lib/python2.7/site-packages/pandas/core/series.pyc\u001b[0m in \u001b[0;36mwrapper\u001b[1;34m(self, other)\u001b[0m\n\u001b[0;32m    264\u001b[0m         \u001b[1;32mif\u001b[0m \u001b[0misinstance\u001b[0m\u001b[1;33m(\u001b[0m\u001b[0mother\u001b[0m\u001b[1;33m,\u001b[0m \u001b[0mSeries\u001b[0m\u001b[1;33m)\u001b[0m\u001b[1;33m:\u001b[0m\u001b[1;33m\u001b[0m\u001b[0m\n\u001b[0;32m    265\u001b[0m             \u001b[0mname\u001b[0m \u001b[1;33m=\u001b[0m \u001b[0m_maybe_match_name\u001b[0m\u001b[1;33m(\u001b[0m\u001b[0mself\u001b[0m\u001b[1;33m,\u001b[0m \u001b[0mother\u001b[0m\u001b[1;33m)\u001b[0m\u001b[1;33m\u001b[0m\u001b[0m\n\u001b[1;32m--> 266\u001b[1;33m             return Series(na_op(self.values, other.values),\n\u001b[0m\u001b[0;32m    267\u001b[0m                           index=self.index, name=name)\n\u001b[0;32m    268\u001b[0m         \u001b[1;32melif\u001b[0m \u001b[0misinstance\u001b[0m\u001b[1;33m(\u001b[0m\u001b[0mother\u001b[0m\u001b[1;33m,\u001b[0m \u001b[0mDataFrame\u001b[0m\u001b[1;33m)\u001b[0m\u001b[1;33m:\u001b[0m\u001b[1;33m\u001b[0m\u001b[0m\n",
        "\u001b[1;32m/home/gus/virtualenvs/py275/lib/python2.7/site-packages/pandas/core/series.pyc\u001b[0m in \u001b[0;36mna_op\u001b[1;34m(x, y)\u001b[0m\n\u001b[0;32m    241\u001b[0m     \u001b[1;32mdef\u001b[0m \u001b[0mna_op\u001b[0m\u001b[1;33m(\u001b[0m\u001b[0mx\u001b[0m\u001b[1;33m,\u001b[0m \u001b[0my\u001b[0m\u001b[1;33m)\u001b[0m\u001b[1;33m:\u001b[0m\u001b[1;33m\u001b[0m\u001b[0m\n\u001b[0;32m    242\u001b[0m         \u001b[1;32mtry\u001b[0m\u001b[1;33m:\u001b[0m\u001b[1;33m\u001b[0m\u001b[0m\n\u001b[1;32m--> 243\u001b[1;33m             \u001b[0mresult\u001b[0m \u001b[1;33m=\u001b[0m \u001b[0mop\u001b[0m\u001b[1;33m(\u001b[0m\u001b[0mx\u001b[0m\u001b[1;33m,\u001b[0m \u001b[0my\u001b[0m\u001b[1;33m)\u001b[0m\u001b[1;33m\u001b[0m\u001b[0m\n\u001b[0m\u001b[0;32m    244\u001b[0m         \u001b[1;32mexcept\u001b[0m \u001b[0mTypeError\u001b[0m\u001b[1;33m:\u001b[0m\u001b[1;33m\u001b[0m\u001b[0m\n\u001b[0;32m    245\u001b[0m             \u001b[1;32mif\u001b[0m \u001b[0misinstance\u001b[0m\u001b[1;33m(\u001b[0m\u001b[0my\u001b[0m\u001b[1;33m,\u001b[0m \u001b[0mlist\u001b[0m\u001b[1;33m)\u001b[0m\u001b[1;33m:\u001b[0m\u001b[1;33m\u001b[0m\u001b[0m\n",
        "\u001b[1;31mValueError\u001b[0m: operands could not be broadcast together with shapes (40079) (25705) "
       ]
      }
     ],
     "prompt_number": 22
    },
    {
     "cell_type": "code",
     "collapsed": false,
     "input": [
      "print len(res_sub_std_gt_q0_75)\n",
      "print len(sus_sub_std_gt_q0_75)\n",
      "print len(kis_sub_std_gt_q0_75)"
     ],
     "language": "python",
     "metadata": {},
     "outputs": [
      {
       "output_type": "stream",
       "stream": "stdout",
       "text": [
        "40079\n",
        "40079\n",
        "25705\n"
       ]
      }
     ],
     "prompt_number": 23
    },
    {
     "cell_type": "code",
     "collapsed": false,
     "input": [
      "len(kis_AND_res_AND_sus_sub_std_gt_q0_75[kis_AND_res_AND_sus_sub_std_gt_q0_75 == True])"
     ],
     "language": "python",
     "metadata": {},
     "outputs": [
      {
       "ename": "NameError",
       "evalue": "name 'kis_AND_res_AND_sus_sub_std_gt_q0_75' is not defined",
       "output_type": "pyerr",
       "traceback": [
        "\u001b[1;31m---------------------------------------------------------------------------\u001b[0m\n\u001b[1;31mNameError\u001b[0m                                 Traceback (most recent call last)",
        "\u001b[1;32m<ipython-input-24-335b404c6b09>\u001b[0m in \u001b[0;36m<module>\u001b[1;34m()\u001b[0m\n\u001b[1;32m----> 1\u001b[1;33m \u001b[0mlen\u001b[0m\u001b[1;33m(\u001b[0m\u001b[0mkis_AND_res_AND_sus_sub_std_gt_q0_75\u001b[0m\u001b[1;33m[\u001b[0m\u001b[0mkis_AND_res_AND_sus_sub_std_gt_q0_75\u001b[0m \u001b[1;33m==\u001b[0m \u001b[0mTrue\u001b[0m\u001b[1;33m]\u001b[0m\u001b[1;33m)\u001b[0m\u001b[1;33m\u001b[0m\u001b[0m\n\u001b[0m",
        "\u001b[1;31mNameError\u001b[0m: name 'kis_AND_res_AND_sus_sub_std_gt_q0_75' is not defined"
       ]
      }
     ],
     "prompt_number": 24
    },
    {
     "cell_type": "markdown",
     "metadata": {},
     "source": [
      "***\n",
      "### Function to empirically estimate the FDR:"
     ]
    },
    {
     "cell_type": "code",
     "collapsed": false,
     "input": [
      "def get_empirical_FDR_estimate():\n",
      "    \"\"\"\n",
      "    \"\"\""
     ],
     "language": "python",
     "metadata": {},
     "outputs": []
    }
   ],
   "metadata": {}
  }
 ]
}