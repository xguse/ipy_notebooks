{
 "metadata": {
  "name": ""
 },
 "nbformat": 3,
 "nbformat_minor": 0,
 "worksheets": [
  {
   "cells": [
    {
     "cell_type": "code",
     "collapsed": false,
     "input": [
      "from spartan.utils.files import ParseFastA\n",
      "from spartan.utils.stats import benjHochFDR\n",
      "from spartan.utils.seqs import revcomp\n",
      "from scipy.stats import hypergeom\n",
      "import numpy as np\n",
      "import pandas as pd\n",
      "import khmer\n",
      "from collections import defaultdict\n",
      "\n",
      "from statsmodels.sandbox.stats import multicomp\n",
      "\n",
      "from matplotlib import pylab as plt"
     ],
     "language": "python",
     "metadata": {},
     "outputs": [
      {
       "output_type": "stream",
       "stream": "stderr",
       "text": [
        "/home/gus/virtualenvs/py275/lib/python2.7/site-packages/pytz/__init__.py:31: UserWarning: Module argparse was already imported from /home/gus/Dropbox/repos/git/khmer/python/argparse.pyc, but /home/gus/virtualenvs/py275/lib/python2.7/site-packages is being added to sys.path\n",
        "  from pkg_resources import resource_stream\n"
       ]
      }
     ],
     "prompt_number": 1
    },
    {
     "cell_type": "heading",
     "level": 1,
     "metadata": {},
     "source": [
      "Load fasta sequnces"
     ]
    },
    {
     "cell_type": "code",
     "collapsed": false,
     "input": [
      "p = ParseFastA('/home/gus/Dropbox/common/projects/Aa_Ag_Cq_As/gfunc_stuff/prelim_gene_analysis/ecr_OR_insect_20130903/2000up.all.fasta')\n",
      "fastas = p.to_dict()"
     ],
     "language": "python",
     "metadata": {},
     "outputs": [],
     "prompt_number": 2
    },
    {
     "cell_type": "code",
     "collapsed": false,
     "input": [
      "len(fastas)"
     ],
     "language": "python",
     "metadata": {},
     "outputs": [
      {
       "metadata": {},
       "output_type": "pyout",
       "prompt_number": 3,
       "text": [
        "18465"
       ]
      }
     ],
     "prompt_number": 3
    },
    {
     "cell_type": "heading",
     "level": 1,
     "metadata": {},
     "source": [
      "Function using khmer for testing kmers"
     ]
    },
    {
     "cell_type": "code",
     "collapsed": false,
     "input": [
      "def get_kmer_dict(fasta_dict,kmer_size,both_strands=True):\n",
      "    \"\"\"\n",
      "    returns a dict keyed on the kmer pointing to a set containing which fasta recs had the kmer\n",
      "    \"\"\"\n",
      "    kmers = defaultdict(set)\n",
      "    \n",
      "    \n",
      "    if both_strands:\n",
      "        both_dict = {}\n",
      "        for n,s in fasta_dict.iteritems():\n",
      "            both_dict[n] = '%sNNNNNNN%s' % (s,revcomp(s))\n",
      "        fasta_dict = both_dict\n",
      "    \n",
      "    for name,seq in fasta_dict.iteritems():\n",
      "        ktable = khmer.new_ktable(kmer_size)\n",
      "        try:\n",
      "            ktable.consume(seq)\n",
      "            \n",
      "            for i in range(ktable.n_entries()):\n",
      "                n = ktable.get(i)\n",
      "                if n:\n",
      "                    kmers[ktable.reverse_hash(i)].add(name)\n",
      "        except ValueError as exc:\n",
      "            pass\n",
      "    return kmers\n",
      "    \n",
      "    "
     ],
     "language": "python",
     "metadata": {},
     "outputs": [],
     "prompt_number": 4
    },
    {
     "cell_type": "code",
     "collapsed": false,
     "input": [
      "k = get_kmer_dict(fastas,9)"
     ],
     "language": "python",
     "metadata": {},
     "outputs": [],
     "prompt_number": 5
    },
    {
     "cell_type": "code",
     "collapsed": false,
     "input": [
      "len(k)"
     ],
     "language": "python",
     "metadata": {},
     "outputs": [
      {
       "metadata": {},
       "output_type": "pyout",
       "prompt_number": 6,
       "text": [
        "131072"
       ]
      }
     ],
     "prompt_number": 6
    },
    {
     "cell_type": "code",
     "collapsed": false,
     "input": [
      "\n",
      "all_set = set(fastas.keys())\n",
      "cls6 = set([x.strip() for x in open('/home/gus/Dropbox/common/projects/Aa_Ag_Cq_As/gfunc_stuff/prelim_gene_analysis/ecr_OR_insect_20130903/ptci_1_0/clusters/XoLg_cls6.names.all.txt')])\n",
      "cls7 = set([x.strip() for x in open('/home/gus/Dropbox/common/projects/Aa_Ag_Cq_As/gfunc_stuff/prelim_gene_analysis/ecr_OR_insect_20130903/ptci_1_0/clusters/XoLg_cls7.names.all.txt')])\n",
      "cls19 = set([x.strip() for x in open('/home/gus/Dropbox/common/projects/Aa_Ag_Cq_As/gfunc_stuff/prelim_gene_analysis/ecr_OR_insect_20130903/ptci_1_0/clusters/XoLg_cls19.names.all.txt')])"
     ],
     "language": "python",
     "metadata": {},
     "outputs": [],
     "prompt_number": 7
    },
    {
     "cell_type": "code",
     "collapsed": false,
     "input": [
      "len(cls6)"
     ],
     "language": "python",
     "metadata": {},
     "outputs": [
      {
       "metadata": {},
       "output_type": "pyout",
       "prompt_number": 8,
       "text": [
        "24"
       ]
      }
     ],
     "prompt_number": 8
    },
    {
     "cell_type": "code",
     "collapsed": false,
     "input": [
      "def cHgPvl(x,M,n,N):\n",
      "    \"\"\"\n",
      "    x=randVar\n",
      "    M=popSize\n",
      "    n=totalSuccesses\n",
      "    N=samplSize\n",
      "    \"\"\"\n",
      "    return 1-hypergeom.cdf(x,M,n,N)+hypergeom.pmf(x,M,n,N)"
     ],
     "language": "python",
     "metadata": {},
     "outputs": [],
     "prompt_number": 9
    },
    {
     "cell_type": "code",
     "collapsed": false,
     "input": [
      "def get_kmer_enrichment(kdict,all_genes,sample_genes):\n",
      "    \"\"\"\n",
      "    \"\"\"\n",
      "    kmers_enrich = {}\n",
      "    \n",
      "    for kmer,kmer_set in kdict.iteritems():\n",
      "        x=len(kmer_set.intersection(sample_genes))\n",
      "        M=len(all_genes)\n",
      "        n=len(kmer_set)\n",
      "        N=len(sample_genes)\n",
      "        \n",
      "        p = cHgPvl(x,M,n,N)\n",
      "        kmers_enrich[kmer] = p\n",
      "            \n",
      "    return kmers_enrich\n",
      "\n",
      "\n"
     ],
     "language": "python",
     "metadata": {},
     "outputs": [],
     "prompt_number": 10
    },
    {
     "cell_type": "code",
     "collapsed": false,
     "input": [
      "e6 = pd.Series(get_kmer_enrichment(k,all_set,cls6))\n",
      "e7 = pd.Series(get_kmer_enrichment(k,all_set,cls7))\n",
      "e19 = pd.Series(get_kmer_enrichment(k,all_set,cls19))"
     ],
     "language": "python",
     "metadata": {},
     "outputs": [],
     "prompt_number": 11
    },
    {
     "cell_type": "code",
     "collapsed": false,
     "input": [
      "e6.head()"
     ],
     "language": "python",
     "metadata": {},
     "outputs": [
      {
       "metadata": {},
       "output_type": "pyout",
       "prompt_number": 12,
       "text": [
        "AAAAAAAAA    0.613772\n",
        "AAAAAAAAC    0.869858\n",
        "AAAAAAAAG    0.918504\n",
        "AAAAAAAAT    0.288103\n",
        "AAAAAAACA    0.972845\n",
        "dtype: float64"
       ]
      }
     ],
     "prompt_number": 12
    },
    {
     "cell_type": "code",
     "collapsed": false,
     "input": [
      "r6,  q6,  eT6,  alphas6  = multicomp.fdrcorrection_twostage(e6,  method='bh', alpha=0.05)\n",
      "r7,  q7,  eT7,  alphas7  = multicomp.fdrcorrection_twostage(e7,  method='bh', alpha=0.05)\n",
      "r19, q19, eT19, alphas19 = multicomp.fdrcorrection_twostage(e19, method='bh', alpha=0.05)"
     ],
     "language": "python",
     "metadata": {},
     "outputs": [],
     "prompt_number": 13
    },
    {
     "cell_type": "code",
     "collapsed": false,
     "input": [
      "!fembot -t 'Done' -r2"
     ],
     "language": "python",
     "metadata": {},
     "outputs": [
      {
       "output_type": "stream",
       "stream": "stdout",
       "text": [
        "\r\n",
        "-: (wav)\r\n",
        "\r\n",
        "  Encoding: Signed PCM    \r\n",
        "  Channels: 1 @ 16-bit   \r\n",
        "Samplerate: 22050Hz      \r\n",
        "Replaygain: off         \r\n",
        "  Duration: unknown      \r\n",
        "\r\n",
        "play WARN echo: echo: warning >>> gain-out can cause saturation of output <<<\r\n",
        "\r",
        "In:0.00% 00:00:00.00 [00:00:00.00] Out:0     [      |      ]        Clip:0    "
       ]
      },
      {
       "output_type": "stream",
       "stream": "stdout",
       "text": [
        "\r",
        "In:0.00% 00:00:01.05 [00:00:00.00] Out:41.0k [-=====|=====-]        Clip:0    "
       ]
      },
      {
       "output_type": "stream",
       "stream": "stdout",
       "text": [
        "\r",
        "In:0.00% 00:00:01.05 [00:00:00.00] Out:49.2k [      |      ] Hd:3.6 Clip:0    "
       ]
      },
      {
       "output_type": "stream",
       "stream": "stdout",
       "text": [
        "\r",
        "In:0.00% 00:00:01.05 [00:00:00.00] Out:57.3k [-=====|=====-] Hd:3.6 Clip:0    "
       ]
      },
      {
       "output_type": "stream",
       "stream": "stdout",
       "text": [
        "\r",
        "In:0.00% 00:00:01.05 [00:00:00.00] Out:65.5k [  ====|====  ] Hd:3.6 Clip:0    "
       ]
      },
      {
       "output_type": "stream",
       "stream": "stdout",
       "text": [
        "\r",
        "In:0.00% 00:00:01.05 [00:00:00.00] Out:73.7k [      |      ] Hd:3.6 Clip:0    \r",
        "In:0.00% 00:00:01.05 [00:00:00.00] Out:77.5k [      |      ] Hd:3.6 Clip:0    \r\n",
        "Done.\r\n"
       ]
      }
     ],
     "prompt_number": 14
    },
    {
     "cell_type": "code",
     "collapsed": false,
     "input": [
      "e,r,q = e19,r19,q19\n",
      "e.ix[r == True]"
     ],
     "language": "python",
     "metadata": {},
     "outputs": [
      {
       "metadata": {},
       "output_type": "pyout",
       "prompt_number": 21,
       "text": [
        "Series([], dtype: float64)"
       ]
      }
     ],
     "prompt_number": 21
    },
    {
     "cell_type": "code",
     "collapsed": false,
     "input": [
      "min(q)"
     ],
     "language": "python",
     "metadata": {},
     "outputs": [
      {
       "metadata": {},
       "output_type": "pyout",
       "prompt_number": 22,
       "text": [
        "1.0"
       ]
      }
     ],
     "prompt_number": 22
    },
    {
     "cell_type": "code",
     "collapsed": false,
     "input": [
      "sorted(q)[:10]"
     ],
     "language": "python",
     "metadata": {},
     "outputs": [
      {
       "metadata": {},
       "output_type": "pyout",
       "prompt_number": 23,
       "text": [
        "[1.0, 1.0, 1.0, 1.0, 1.0, 1.0, 1.0, 1.0, 1.0, 1.0]"
       ]
      }
     ],
     "prompt_number": 23
    },
    {
     "cell_type": "code",
     "collapsed": false,
     "input": [],
     "language": "python",
     "metadata": {},
     "outputs": [],
     "prompt_number": 17
    }
   ],
   "metadata": {}
  }
 ]
}