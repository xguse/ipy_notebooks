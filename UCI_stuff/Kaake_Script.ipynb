{
 "metadata": {
  "name": ""
 },
 "nbformat": 3,
 "nbformat_minor": 0,
 "worksheets": [
  {
   "cells": [
    {
     "cell_type": "code",
     "collapsed": false,
     "input": [
      "from spartan.utils.misc import slidingWindow\n",
      "from spartan.utils.files import ParseFastA\n",
      "import pandas as pd\n",
      "import numpy as np"
     ],
     "language": "python",
     "metadata": {},
     "outputs": [],
     "prompt_number": 32
    },
    {
     "cell_type": "code",
     "collapsed": false,
     "input": [
      "prot_path = '/home/gus/Dropbox/common/projects/Aa_Ag_Cq_As/gfunc_stuff/prelim_gene_analysis/ecr_team_20130828/ecr_team_meanPTCI_thresh_1_genes.PEPTIDES.fasta'\n",
      "window_size = 10\n",
      "center_window_on = 'K'"
     ],
     "language": "python",
     "metadata": {},
     "outputs": [],
     "prompt_number": 41
    },
    {
     "cell_type": "code",
     "collapsed": false,
     "input": [
      "parser = ParseFastA(prot_path)\n",
      "proteins = parser.to_dict()"
     ],
     "language": "python",
     "metadata": {},
     "outputs": [],
     "prompt_number": 34
    },
    {
     "cell_type": "code",
     "collapsed": false,
     "input": [
      "len(proteins)"
     ],
     "language": "python",
     "metadata": {},
     "outputs": [
      {
       "metadata": {},
       "output_type": "pyout",
       "prompt_number": 35,
       "text": [
        "419"
       ]
      }
     ],
     "prompt_number": 35
    },
    {
     "cell_type": "code",
     "collapsed": false,
     "input": [
      "def get_windows_from_seq(seq,win=5):\n",
      "    \"\"\"\n",
      "    \"\"\"\n",
      "    winSize = (win*2)+1\n",
      "    windows = slidingWindow(sequence=seq, winSize=winSize)\n",
      "    return list(windows)"
     ],
     "language": "python",
     "metadata": {},
     "outputs": [],
     "prompt_number": 36
    },
    {
     "cell_type": "code",
     "collapsed": false,
     "input": [
      "def filter_windows(target_residue,windows,pad_windows=False):\n",
      "    \"\"\"\n",
      "    \"\"\"\n",
      "    win_center = (len(windows[0]) - 1) / 2\n",
      "    \n",
      "    kept_windows = []\n",
      "    \n",
      "    for window in windows:\n",
      "        if window[win_center] == target_residue:\n",
      "            kept_windows.append(window)\n",
      "    \n",
      "    return kept_windows"
     ],
     "language": "python",
     "metadata": {},
     "outputs": [],
     "prompt_number": 37
    },
    {
     "cell_type": "code",
     "collapsed": false,
     "input": [
      "pseq = proteins.values()[0]\n",
      "pseq"
     ],
     "language": "python",
     "metadata": {},
     "outputs": [
      {
       "metadata": {},
       "output_type": "pyout",
       "prompt_number": 38,
       "text": [
        "'MSDYSNQNSQNFSQSSAFAAALQRAKQIAAKIHPGGHQQQQQPHQPVKRPHDDHDSGPELKKFGGQSDYNNASSPTGMSQAAMQAAAQAAAVAARLSQNNSSNNQNSYNSPNAPPGVGGPQDPNQRVRELISKMVNHGPMDNGNHPGQGGGGGGGGGRGGGGGGGGGGGGGGGFGTYQEMMIPGSKVGLIIGKGGETIKQLQEKTGAKMVIIQDGPGQEMEKPLRISGDPAKVEQAKQLVYELIQEKDAYSQRQNMNGGEQAEVFVPKAAVGVVIGKGGEMIKKIQGESGCKLQFIQGRGDGAGDRRCIVQGSKAQVEEGKRMVEDLIDSVLRREQQGGGGGGRGGGGGGGGGDGGGHGRGGMGGNPNQDNNYNNYNGPQVTRLEYTFTVPVSKCGIIIGRGGDTIKQINQQSGAHTEMDRKASLNQTTEKTFTCKGEQHQVDEAKRLIQDKINMEINMVFVGSSSVPVNQYQNNGAGGGGGGGGGGGGGGGGGGGGGGGPYQQGGWGGYQSQDYSQQWIEYYKQMGMHREAEIIEQQVKARQAAQGTMAARLYVLTRLSNQTVQGQTVMAAAGAGAPQQQAQPQQQQQVGGQADYSAEWAEYYRRIGKIEEAEAIEKQIAANKVMSSAAGGANQPGGPVGAGGGPYGGGGGPGAGGPQQPGPGGYGGQQYQQYYGGGGGGGGGGGGGGGGGGGQPGYAGYPYGGGYPGPGGAPNQSNASNQDKN'"
       ]
      }
     ],
     "prompt_number": 38
    },
    {
     "cell_type": "code",
     "collapsed": false,
     "input": [
      "wfs = get_windows_from_seq(pseq,win=window_size)"
     ],
     "language": "python",
     "metadata": {},
     "outputs": [],
     "prompt_number": 42
    },
    {
     "cell_type": "code",
     "collapsed": false,
     "input": [
      "fw = filter_windows(target_residue=center_window_on,windows=wfs,pad_windows=False)"
     ],
     "language": "python",
     "metadata": {},
     "outputs": [],
     "prompt_number": 43
    },
    {
     "cell_type": "code",
     "collapsed": false,
     "input": [
      "fw"
     ],
     "language": "python",
     "metadata": {},
     "outputs": [
      {
       "metadata": {},
       "output_type": "pyout",
       "prompt_number": 44,
       "text": [
        "['SAFAAALQRAKQIAAKIHPGG',\n",
        " 'ALQRAKQIAAKIHPGGHQQQQ',\n",
        " 'QQQQQPHQPVKRPHDDHDSGP',\n",
        " 'HDDHDSGPELKKFGGQSDYNN',\n",
        " 'DDHDSGPELKKFGGQSDYNNA',\n",
        " 'PNQRVRELISKMVNHGPMDNG',\n",
        " 'TYQEMMIPGSKVGLIIGKGGE',\n",
        " 'PGSKVGLIIGKGGETIKQLQE',\n",
        " 'LIIGKGGETIKQLQEKTGAKM',\n",
        " 'GGETIKQLQEKTGAKMVIIQD',\n",
        " 'IKQLQEKTGAKMVIIQDGPGQ',\n",
        " 'IQDGPGQEMEKPLRISGDPAK',\n",
        " 'KPLRISGDPAKVEQAKQLVYE',\n",
        " 'SGDPAKVEQAKQLVYELIQEK',\n",
        " 'KQLVYELIQEKDAYSQRQNMN',\n",
        " 'GGEQAEVFVPKAAVGVVIGKG',\n",
        " 'PKAAVGVVIGKGGEMIKKIQG',\n",
        " 'VVIGKGGEMIKKIQGESGCKL',\n",
        " 'VIGKGGEMIKKIQGESGCKLQ',\n",
        " 'IKKIQGESGCKLQFIQGRGDG',\n",
        " 'GDRRCIVQGSKAQVEEGKRMV',\n",
        " 'QGSKAQVEEGKRMVEDLIDSV',\n",
        " 'LEYTFTVPVSKCGIIIGRGGD',\n",
        " 'IIIGRGGDTIKQINQQSGAHT',\n",
        " 'QSGAHTEMDRKASLNQTTEKT',\n",
        " 'RKASLNQTTEKTFTCKGEQHQ',\n",
        " 'NQTTEKTFTCKGEQHQVDEAK',\n",
        " 'KGEQHQVDEAKRLIQDKINME',\n",
        " 'VDEAKRLIQDKINMEINMVFV',\n",
        " 'DYSQQWIEYYKQMGMHREAEI',\n",
        " 'REAEIIEQQVKARQAAQGTMA',\n",
        " 'EWAEYYRRIGKIEEAEAIEKQ',\n",
        " 'GKIEEAEAIEKQIAANKVMSS',\n",
        " 'EAIEKQIAANKVMSSAAGGAN']"
       ]
      }
     ],
     "prompt_number": 44
    },
    {
     "cell_type": "code",
     "collapsed": false,
     "input": [
      "def make_data_frame_from_window_dict(window_dict):\n",
      "    \"\"\"\n",
      "    \"\"\"\n",
      "    \n",
      "    "
     ],
     "language": "python",
     "metadata": {},
     "outputs": []
    }
   ],
   "metadata": {}
  }
 ]
}