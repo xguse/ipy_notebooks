{
 "metadata": {
  "name": ""
 },
 "nbformat": 3,
 "nbformat_minor": 0,
 "worksheets": [
  {
   "cells": [
    {
     "cell_type": "heading",
     "level": 1,
     "metadata": {},
     "source": [
      "Purpose"
     ]
    },
    {
     "cell_type": "markdown",
     "metadata": {},
     "source": [
      "The initial gene-set for this project should be limited to genes that have exactly one matching \"1-to-1\" ortholog in Aa, Ag, As, and Cq.  The purpose of this decision is to maximize the probability of conserved function between genes analyzed. "
     ]
    },
    {
     "cell_type": "heading",
     "level": 1,
     "metadata": {},
     "source": [
      "Code imports"
     ]
    },
    {
     "cell_type": "code",
     "collapsed": false,
     "input": [
      "import pandas as pd\n",
      "from collections import defaultdict\n",
      "\n",
      "dict_tree = lambda: defaultdict(dict_tree)\n",
      "\n",
      "import networkx as nx"
     ],
     "language": "python",
     "metadata": {},
     "outputs": [
      {
       "output_type": "stream",
       "stream": "stderr",
       "text": [
        "/home/gus/virtualenvs/py275/lib/python2.7/site-packages/pytz/__init__.py:31: UserWarning: Module argparse was already imported from /home/gus/Dropbox/repos/git/khmer/python/argparse.pyc, but /home/gus/virtualenvs/py275/lib/python2.7/site-packages is being added to sys.path\n",
        "  from pkg_resources import resource_stream\n"
       ]
      }
     ],
     "prompt_number": 1
    },
    {
     "cell_type": "heading",
     "level": 1,
     "metadata": {},
     "source": [
      "Load and filter orthodb7 data for Aa Ag and Cq"
     ]
    },
    {
     "cell_type": "code",
     "collapsed": false,
     "input": [
      "orthodb = pd.read_table('/home/gus/Dropbox/common/projects/orthodb/orthodb7_mosqs_20130918.txt', na_values=[])\n",
      "#orthodb = orthodb.fillna('empty')\n",
      "filter_mask = orthodb.Code.str.contains('AAEGY|AGAMB|CQUIN')\n",
      "AaAgCq = orthodb[filter_mask]\n",
      "AaAgCq = AaAgCq[['Group','Gene','Code']]"
     ],
     "language": "python",
     "metadata": {},
     "outputs": [],
     "prompt_number": 8
    },
    {
     "cell_type": "code",
     "collapsed": false,
     "input": [
      "orthodb.head()"
     ],
     "language": "python",
     "metadata": {},
     "outputs": [
      {
       "html": [
        "<div style=\"max-height:1000px;max-width:1500px;overflow:auto;\">\n",
        "<table border=\"1\" class=\"dataframe\">\n",
        "  <thead>\n",
        "    <tr style=\"text-align: right;\">\n",
        "      <th></th>\n",
        "      <th>Group</th>\n",
        "      <th>Gene</th>\n",
        "      <th>Protein</th>\n",
        "      <th>Organism</th>\n",
        "      <th>Common Name</th>\n",
        "      <th>Code</th>\n",
        "      <th>AA Length</th>\n",
        "      <th>UniProt</th>\n",
        "      <th>UniProt Description</th>\n",
        "      <th>InterPro Domains</th>\n",
        "      <th>Synonyms</th>\n",
        "      <th>Phenotypes</th>\n",
        "    </tr>\n",
        "  </thead>\n",
        "  <tbody>\n",
        "    <tr>\n",
        "      <th>0</th>\n",
        "      <td> EOG700JWZ</td>\n",
        "      <td> AGAP005175</td>\n",
        "      <td> AGAP005175-PA</td>\n",
        "      <td>      Anopheles gambiae</td>\n",
        "      <td>       African malaria mosquito</td>\n",
        "      <td> AGAMB</td>\n",
        "      <td> 2323</td>\n",
        "      <td> Q7PQ11</td>\n",
        "      <td> AGAP005175-PA; AGAP005175-PB</td>\n",
        "      <td> IPR011764,IPR005481,IPR005479,IPR005482,IPR011...</td>\n",
        "      <td>NaN</td>\n",
        "      <td>NaN</td>\n",
        "    </tr>\n",
        "    <tr>\n",
        "      <th>1</th>\n",
        "      <td> EOG700JWZ</td>\n",
        "      <td> ASTM009503</td>\n",
        "      <td> ASTM009503-PA</td>\n",
        "      <td>    Anopheles stephensi</td>\n",
        "      <td> Indo-Pakistan malaria mosquito</td>\n",
        "      <td> ASTEP</td>\n",
        "      <td> 1317</td>\n",
        "      <td>    NaN</td>\n",
        "      <td>                          NaN</td>\n",
        "      <td> IPR011764,IPR005481,IPR005479,IPR005482,IPR011...</td>\n",
        "      <td>NaN</td>\n",
        "      <td>NaN</td>\n",
        "    </tr>\n",
        "    <tr>\n",
        "      <th>2</th>\n",
        "      <td> EOG700JWZ</td>\n",
        "      <td> AAEL006307</td>\n",
        "      <td> AAEL006307-PA</td>\n",
        "      <td>          Aedes aegypti</td>\n",
        "      <td>           Yellowfever mosquito</td>\n",
        "      <td> AAEGY</td>\n",
        "      <td> 2529</td>\n",
        "      <td> Q176P0</td>\n",
        "      <td>                AAEL006307-PA</td>\n",
        "      <td> IPR011764,IPR005481,IPR005479,IPR005482,IPR011...</td>\n",
        "      <td>NaN</td>\n",
        "      <td>NaN</td>\n",
        "    </tr>\n",
        "    <tr>\n",
        "      <th>3</th>\n",
        "      <td> EOG700JWZ</td>\n",
        "      <td> CPIJ005524</td>\n",
        "      <td> CPIJ005524-PA</td>\n",
        "      <td> Culex quinquefasciatus</td>\n",
        "      <td>        Southern house mosquito</td>\n",
        "      <td> CQUIN</td>\n",
        "      <td> 2311</td>\n",
        "      <td> B0WE67</td>\n",
        "      <td>       Acetyl-coa carboxylase</td>\n",
        "      <td> IPR011764,IPR005481,IPR005479,IPR005482,IPR011...</td>\n",
        "      <td>NaN</td>\n",
        "      <td>NaN</td>\n",
        "    </tr>\n",
        "    <tr>\n",
        "      <th>4</th>\n",
        "      <td> EOG700JX2</td>\n",
        "      <td> ADAR009869</td>\n",
        "      <td> ADAR009869-PA</td>\n",
        "      <td>     Anopheles darlingi</td>\n",
        "      <td>      American malaria mosquito</td>\n",
        "      <td> ADARL</td>\n",
        "      <td>  790</td>\n",
        "      <td>    NaN</td>\n",
        "      <td>                          NaN</td>\n",
        "      <td>                     IPR015063,IPR001763,IPR001394</td>\n",
        "      <td>NaN</td>\n",
        "      <td>NaN</td>\n",
        "    </tr>\n",
        "  </tbody>\n",
        "</table>\n",
        "</div>"
       ],
       "metadata": {},
       "output_type": "pyout",
       "prompt_number": 9,
       "text": [
        "       Group        Gene        Protein                Organism  \\\n",
        "0  EOG700JWZ  AGAP005175  AGAP005175-PA       Anopheles gambiae   \n",
        "1  EOG700JWZ  ASTM009503  ASTM009503-PA     Anopheles stephensi   \n",
        "2  EOG700JWZ  AAEL006307  AAEL006307-PA           Aedes aegypti   \n",
        "3  EOG700JWZ  CPIJ005524  CPIJ005524-PA  Culex quinquefasciatus   \n",
        "4  EOG700JX2  ADAR009869  ADAR009869-PA      Anopheles darlingi   \n",
        "\n",
        "                      Common Name   Code  AA Length UniProt  \\\n",
        "0        African malaria mosquito  AGAMB       2323  Q7PQ11   \n",
        "1  Indo-Pakistan malaria mosquito  ASTEP       1317     NaN   \n",
        "2            Yellowfever mosquito  AAEGY       2529  Q176P0   \n",
        "3         Southern house mosquito  CQUIN       2311  B0WE67   \n",
        "4       American malaria mosquito  ADARL        790     NaN   \n",
        "\n",
        "            UniProt Description  \\\n",
        "0  AGAP005175-PA; AGAP005175-PB   \n",
        "1                           NaN   \n",
        "2                 AAEL006307-PA   \n",
        "3        Acetyl-coa carboxylase   \n",
        "4                           NaN   \n",
        "\n",
        "                                    InterPro Domains  Synonyms  Phenotypes  \n",
        "0  IPR011764,IPR005481,IPR005479,IPR005482,IPR011...       NaN         NaN  \n",
        "1  IPR011764,IPR005481,IPR005479,IPR005482,IPR011...       NaN         NaN  \n",
        "2  IPR011764,IPR005481,IPR005479,IPR005482,IPR011...       NaN         NaN  \n",
        "3  IPR011764,IPR005481,IPR005479,IPR005482,IPR011...       NaN         NaN  \n",
        "4                      IPR015063,IPR001763,IPR001394       NaN         NaN  "
       ]
      }
     ],
     "prompt_number": 9
    },
    {
     "cell_type": "code",
     "collapsed": false,
     "input": [
      "AaAgCq.head(40)"
     ],
     "language": "python",
     "metadata": {},
     "outputs": [
      {
       "html": [
        "<div style=\"max-height:1000px;max-width:1500px;overflow:auto;\">\n",
        "<table border=\"1\" class=\"dataframe\">\n",
        "  <thead>\n",
        "    <tr style=\"text-align: right;\">\n",
        "      <th></th>\n",
        "      <th>Group</th>\n",
        "      <th>Gene</th>\n",
        "      <th>Code</th>\n",
        "    </tr>\n",
        "  </thead>\n",
        "  <tbody>\n",
        "    <tr>\n",
        "      <th>0 </th>\n",
        "      <td> EOG700JWZ</td>\n",
        "      <td> AGAP005175</td>\n",
        "      <td> AGAMB</td>\n",
        "    </tr>\n",
        "    <tr>\n",
        "      <th>2 </th>\n",
        "      <td> EOG700JWZ</td>\n",
        "      <td> AAEL006307</td>\n",
        "      <td> AAEGY</td>\n",
        "    </tr>\n",
        "    <tr>\n",
        "      <th>3 </th>\n",
        "      <td> EOG700JWZ</td>\n",
        "      <td> CPIJ005524</td>\n",
        "      <td> CQUIN</td>\n",
        "    </tr>\n",
        "    <tr>\n",
        "      <th>5 </th>\n",
        "      <td> EOG700JX2</td>\n",
        "      <td> AGAP002900</td>\n",
        "      <td> AGAMB</td>\n",
        "    </tr>\n",
        "    <tr>\n",
        "      <th>7 </th>\n",
        "      <td> EOG700JX2</td>\n",
        "      <td> AAEL012219</td>\n",
        "      <td> AAEGY</td>\n",
        "    </tr>\n",
        "    <tr>\n",
        "      <th>8 </th>\n",
        "      <td> EOG700JX2</td>\n",
        "      <td> CPIJ002564</td>\n",
        "      <td> CQUIN</td>\n",
        "    </tr>\n",
        "    <tr>\n",
        "      <th>10</th>\n",
        "      <td> EOG700JX3</td>\n",
        "      <td> AGAP000974</td>\n",
        "      <td> AGAMB</td>\n",
        "    </tr>\n",
        "    <tr>\n",
        "      <th>12</th>\n",
        "      <td> EOG700JX3</td>\n",
        "      <td> AAEL001231</td>\n",
        "      <td> AAEGY</td>\n",
        "    </tr>\n",
        "    <tr>\n",
        "      <th>13</th>\n",
        "      <td> EOG700JX3</td>\n",
        "      <td> CPIJ014308</td>\n",
        "      <td> CQUIN</td>\n",
        "    </tr>\n",
        "    <tr>\n",
        "      <th>15</th>\n",
        "      <td> EOG700JX4</td>\n",
        "      <td> AGAP013499</td>\n",
        "      <td> AGAMB</td>\n",
        "    </tr>\n",
        "    <tr>\n",
        "      <th>17</th>\n",
        "      <td> EOG700JX4</td>\n",
        "      <td> AAEL006142</td>\n",
        "      <td> AAEGY</td>\n",
        "    </tr>\n",
        "    <tr>\n",
        "      <th>18</th>\n",
        "      <td> EOG700JX4</td>\n",
        "      <td> CPIJ003567</td>\n",
        "      <td> CQUIN</td>\n",
        "    </tr>\n",
        "    <tr>\n",
        "      <th>20</th>\n",
        "      <td> EOG700JX5</td>\n",
        "      <td> AGAP010808</td>\n",
        "      <td> AGAMB</td>\n",
        "    </tr>\n",
        "    <tr>\n",
        "      <th>22</th>\n",
        "      <td> EOG700JX5</td>\n",
        "      <td> AAEL004673</td>\n",
        "      <td> AAEGY</td>\n",
        "    </tr>\n",
        "    <tr>\n",
        "      <th>23</th>\n",
        "      <td> EOG700JX5</td>\n",
        "      <td> CPIJ017916</td>\n",
        "      <td> CQUIN</td>\n",
        "    </tr>\n",
        "    <tr>\n",
        "      <th>24</th>\n",
        "      <td> EOG700JX8</td>\n",
        "      <td> AGAP011487</td>\n",
        "      <td> AGAMB</td>\n",
        "    </tr>\n",
        "    <tr>\n",
        "      <th>26</th>\n",
        "      <td> EOG700JX8</td>\n",
        "      <td> AAEL000763</td>\n",
        "      <td> AAEGY</td>\n",
        "    </tr>\n",
        "    <tr>\n",
        "      <th>27</th>\n",
        "      <td> EOG700JX8</td>\n",
        "      <td> CPIJ006223</td>\n",
        "      <td> CQUIN</td>\n",
        "    </tr>\n",
        "    <tr>\n",
        "      <th>29</th>\n",
        "      <td> EOG700JXB</td>\n",
        "      <td> AGAP010080</td>\n",
        "      <td> AGAMB</td>\n",
        "    </tr>\n",
        "    <tr>\n",
        "      <th>31</th>\n",
        "      <td> EOG700JXB</td>\n",
        "      <td> AAEL012146</td>\n",
        "      <td> AAEGY</td>\n",
        "    </tr>\n",
        "    <tr>\n",
        "      <th>32</th>\n",
        "      <td> EOG700JXB</td>\n",
        "      <td> CPIJ009172</td>\n",
        "      <td> CQUIN</td>\n",
        "    </tr>\n",
        "    <tr>\n",
        "      <th>34</th>\n",
        "      <td> EOG700JXC</td>\n",
        "      <td> AGAP009934</td>\n",
        "      <td> AGAMB</td>\n",
        "    </tr>\n",
        "    <tr>\n",
        "      <th>36</th>\n",
        "      <td> EOG700JXC</td>\n",
        "      <td> AAEL012450</td>\n",
        "      <td> AAEGY</td>\n",
        "    </tr>\n",
        "    <tr>\n",
        "      <th>37</th>\n",
        "      <td> EOG700JXC</td>\n",
        "      <td> CPIJ014306</td>\n",
        "      <td> CQUIN</td>\n",
        "    </tr>\n",
        "    <tr>\n",
        "      <th>39</th>\n",
        "      <td> EOG700JXF</td>\n",
        "      <td> AGAP013380</td>\n",
        "      <td> AGAMB</td>\n",
        "    </tr>\n",
        "    <tr>\n",
        "      <th>41</th>\n",
        "      <td> EOG700JXF</td>\n",
        "      <td> AAEL002323</td>\n",
        "      <td> AAEGY</td>\n",
        "    </tr>\n",
        "    <tr>\n",
        "      <th>42</th>\n",
        "      <td> EOG700JXF</td>\n",
        "      <td> CPIJ006381</td>\n",
        "      <td> CQUIN</td>\n",
        "    </tr>\n",
        "    <tr>\n",
        "      <th>44</th>\n",
        "      <td> EOG700JXG</td>\n",
        "      <td> AGAP002809</td>\n",
        "      <td> AGAMB</td>\n",
        "    </tr>\n",
        "    <tr>\n",
        "      <th>46</th>\n",
        "      <td> EOG700JXG</td>\n",
        "      <td> AAEL002113</td>\n",
        "      <td> AAEGY</td>\n",
        "    </tr>\n",
        "    <tr>\n",
        "      <th>47</th>\n",
        "      <td> EOG700JXG</td>\n",
        "      <td> CPIJ004308</td>\n",
        "      <td> CQUIN</td>\n",
        "    </tr>\n",
        "    <tr>\n",
        "      <th>49</th>\n",
        "      <td> EOG700JXJ</td>\n",
        "      <td> AGAP005822</td>\n",
        "      <td> AGAMB</td>\n",
        "    </tr>\n",
        "    <tr>\n",
        "      <th>51</th>\n",
        "      <td> EOG700JXJ</td>\n",
        "      <td> AAEL009081</td>\n",
        "      <td> AAEGY</td>\n",
        "    </tr>\n",
        "    <tr>\n",
        "      <th>52</th>\n",
        "      <td> EOG700JXJ</td>\n",
        "      <td> CPIJ002089</td>\n",
        "      <td> CQUIN</td>\n",
        "    </tr>\n",
        "    <tr>\n",
        "      <th>54</th>\n",
        "      <td> EOG700JXK</td>\n",
        "      <td> AGAP007762</td>\n",
        "      <td> AGAMB</td>\n",
        "    </tr>\n",
        "    <tr>\n",
        "      <th>56</th>\n",
        "      <td> EOG700JXK</td>\n",
        "      <td> AAEL009252</td>\n",
        "      <td> AAEGY</td>\n",
        "    </tr>\n",
        "    <tr>\n",
        "      <th>57</th>\n",
        "      <td> EOG700JXK</td>\n",
        "      <td> CPIJ000463</td>\n",
        "      <td> CQUIN</td>\n",
        "    </tr>\n",
        "    <tr>\n",
        "      <th>59</th>\n",
        "      <td> EOG700JXM</td>\n",
        "      <td> AGAP003316</td>\n",
        "      <td> AGAMB</td>\n",
        "    </tr>\n",
        "    <tr>\n",
        "      <th>61</th>\n",
        "      <td> EOG700JXM</td>\n",
        "      <td> AAEL013522</td>\n",
        "      <td> AAEGY</td>\n",
        "    </tr>\n",
        "    <tr>\n",
        "      <th>62</th>\n",
        "      <td> EOG700JXM</td>\n",
        "      <td> CPIJ003278</td>\n",
        "      <td> CQUIN</td>\n",
        "    </tr>\n",
        "    <tr>\n",
        "      <th>64</th>\n",
        "      <td> EOG700JXN</td>\n",
        "      <td> AGAP005516</td>\n",
        "      <td> AGAMB</td>\n",
        "    </tr>\n",
        "  </tbody>\n",
        "</table>\n",
        "</div>"
       ],
       "metadata": {},
       "output_type": "pyout",
       "prompt_number": 10,
       "text": [
        "        Group        Gene   Code\n",
        "0   EOG700JWZ  AGAP005175  AGAMB\n",
        "2   EOG700JWZ  AAEL006307  AAEGY\n",
        "3   EOG700JWZ  CPIJ005524  CQUIN\n",
        "5   EOG700JX2  AGAP002900  AGAMB\n",
        "7   EOG700JX2  AAEL012219  AAEGY\n",
        "8   EOG700JX2  CPIJ002564  CQUIN\n",
        "10  EOG700JX3  AGAP000974  AGAMB\n",
        "12  EOG700JX3  AAEL001231  AAEGY\n",
        "13  EOG700JX3  CPIJ014308  CQUIN\n",
        "15  EOG700JX4  AGAP013499  AGAMB\n",
        "17  EOG700JX4  AAEL006142  AAEGY\n",
        "18  EOG700JX4  CPIJ003567  CQUIN\n",
        "20  EOG700JX5  AGAP010808  AGAMB\n",
        "22  EOG700JX5  AAEL004673  AAEGY\n",
        "23  EOG700JX5  CPIJ017916  CQUIN\n",
        "24  EOG700JX8  AGAP011487  AGAMB\n",
        "26  EOG700JX8  AAEL000763  AAEGY\n",
        "27  EOG700JX8  CPIJ006223  CQUIN\n",
        "29  EOG700JXB  AGAP010080  AGAMB\n",
        "31  EOG700JXB  AAEL012146  AAEGY\n",
        "32  EOG700JXB  CPIJ009172  CQUIN\n",
        "34  EOG700JXC  AGAP009934  AGAMB\n",
        "36  EOG700JXC  AAEL012450  AAEGY\n",
        "37  EOG700JXC  CPIJ014306  CQUIN\n",
        "39  EOG700JXF  AGAP013380  AGAMB\n",
        "41  EOG700JXF  AAEL002323  AAEGY\n",
        "42  EOG700JXF  CPIJ006381  CQUIN\n",
        "44  EOG700JXG  AGAP002809  AGAMB\n",
        "46  EOG700JXG  AAEL002113  AAEGY\n",
        "47  EOG700JXG  CPIJ004308  CQUIN\n",
        "49  EOG700JXJ  AGAP005822  AGAMB\n",
        "51  EOG700JXJ  AAEL009081  AAEGY\n",
        "52  EOG700JXJ  CPIJ002089  CQUIN\n",
        "54  EOG700JXK  AGAP007762  AGAMB\n",
        "56  EOG700JXK  AAEL009252  AAEGY\n",
        "57  EOG700JXK  CPIJ000463  CQUIN\n",
        "59  EOG700JXM  AGAP003316  AGAMB\n",
        "61  EOG700JXM  AAEL013522  AAEGY\n",
        "62  EOG700JXM  CPIJ003278  CQUIN\n",
        "64  EOG700JXN  AGAP005516  AGAMB"
       ]
      }
     ],
     "prompt_number": 10
    },
    {
     "cell_type": "heading",
     "level": 1,
     "metadata": {},
     "source": [
      "Build a graph to map the gene names to edges defined by \"``Group``\" and \"``Organism``\" fields"
     ]
    },
    {
     "cell_type": "code",
     "collapsed": false,
     "input": [
      "mosq_orthos = nx.Graph()"
     ],
     "language": "python",
     "metadata": {},
     "outputs": [],
     "prompt_number": 54
    },
    {
     "cell_type": "code",
     "collapsed": false,
     "input": [
      "for row in AaAgCq.itertuples():\n",
      "    idx,ortho_group,gene,species = row\n",
      "    mosq_orthos.add_edge(ortho_group,species)\n",
      "    try:\n",
      "        mosq_orthos[ortho_group][species]['genes'].append(gene)\n",
      "    except KeyError:\n",
      "        mosq_orthos[ortho_group][species]['genes'] = []\n",
      "        mosq_orthos[ortho_group][species]['genes'].append(gene)\n",
      "        "
     ],
     "language": "python",
     "metadata": {},
     "outputs": [],
     "prompt_number": 55
    },
    {
     "cell_type": "code",
     "collapsed": false,
     "input": [
      "len(mosq_orthos)"
     ],
     "language": "python",
     "metadata": {},
     "outputs": [
      {
       "metadata": {},
       "output_type": "pyout",
       "prompt_number": 56,
       "text": [
        "5104"
       ]
      }
     ],
     "prompt_number": 56
    },
    {
     "cell_type": "code",
     "collapsed": false,
     "input": [
      "mosq_orthos['EOG700JX2']"
     ],
     "language": "python",
     "metadata": {},
     "outputs": [
      {
       "metadata": {},
       "output_type": "pyout",
       "prompt_number": 58,
       "text": [
        "{'AAEGY': {'genes': ['AAEL012219']},\n",
        " 'AGAMB': {'genes': ['AGAP002900']},\n",
        " 'CQUIN': {'genes': ['CPIJ002564']}}"
       ]
      }
     ],
     "prompt_number": 58
    },
    {
     "cell_type": "heading",
     "level": 1,
     "metadata": {},
     "source": [
      "Make sure that genes are single copy in our three species"
     ]
    },
    {
     "cell_type": "code",
     "collapsed": false,
     "input": [
      "og_spcs3 = []\n",
      "for og in set(AaAgCq.Group):\n",
      "    if len(mosq_orthos[og]) == 3:\n",
      "        og_spcs3.append(og)"
     ],
     "language": "python",
     "metadata": {},
     "outputs": [],
     "prompt_number": 59
    },
    {
     "cell_type": "code",
     "collapsed": false,
     "input": [
      "len(og_spcs3)"
     ],
     "language": "python",
     "metadata": {},
     "outputs": [
      {
       "metadata": {},
       "output_type": "pyout",
       "prompt_number": 60,
       "text": [
        "5101"
       ]
      }
     ],
     "prompt_number": 60
    },
    {
     "cell_type": "code",
     "collapsed": false,
     "input": [
      "len(mosq_orthos[og])"
     ],
     "language": "python",
     "metadata": {},
     "outputs": [
      {
       "metadata": {},
       "output_type": "pyout",
       "prompt_number": 61,
       "text": [
        "3"
       ]
      }
     ],
     "prompt_number": 61
    },
    {
     "cell_type": "code",
     "collapsed": false,
     "input": [
      "og_spcs3[:5]"
     ],
     "language": "python",
     "metadata": {},
     "outputs": [
      {
       "metadata": {},
       "output_type": "pyout",
       "prompt_number": 62,
       "text": [
        "['EOG7WHT04', 'EOG7BW97D', 'EOG7G7WBB', 'EOG7G7WBC', 'EOG7VTQB0']"
       ]
      }
     ],
     "prompt_number": 62
    },
    {
     "cell_type": "code",
     "collapsed": false,
     "input": [
      "mosq_orthos['EOG7G7WBB']"
     ],
     "language": "python",
     "metadata": {},
     "outputs": [
      {
       "metadata": {},
       "output_type": "pyout",
       "prompt_number": 64,
       "text": [
        "{'AAEGY': {'genes': ['AAEL011652']},\n",
        " 'AGAMB': {'genes': ['AGAP001272']},\n",
        " 'CQUIN': {'genes': ['CPIJ001189']}}"
       ]
      }
     ],
     "prompt_number": 64
    },
    {
     "cell_type": "heading",
     "level": 1,
     "metadata": {},
     "source": [
      "Write out ortho-sets to file"
     ]
    },
    {
     "cell_type": "code",
     "collapsed": false,
     "input": [
      "def format_1to1s(graph,group_id):\n",
      "    genes = []\n",
      "    \n",
      "    for spcs_code in sorted(nx.neighbors(graph,group_id)):\n",
      "        genes.append(graph[group_id][spcs_code]['genes'][0])\n",
      "        \n",
      "    return '%s\\n' % ('\\t'.join(genes))"
     ],
     "language": "python",
     "metadata": {},
     "outputs": [],
     "prompt_number": 71
    },
    {
     "cell_type": "code",
     "collapsed": false,
     "input": [
      "format_1to1s(mosq_orthos,'EOG7G7WBB')"
     ],
     "language": "python",
     "metadata": {},
     "outputs": [
      {
       "metadata": {},
       "output_type": "pyout",
       "prompt_number": 73,
       "text": [
        "'AAEL011652\\tAGAP001272\\tCPIJ001189\\n'"
       ]
      }
     ],
     "prompt_number": 73
    },
    {
     "cell_type": "code",
     "collapsed": false,
     "input": [
      "AaAgCq_1to1s = '/home/gus/Dropbox/common/projects/orthodb/AaAgCq_1to1_orthos.tsv'\n",
      "AaAgCq_1to1s = open(AaAgCq_1to1s,'w')"
     ],
     "language": "python",
     "metadata": {},
     "outputs": [],
     "prompt_number": 83
    },
    {
     "cell_type": "code",
     "collapsed": false,
     "input": [
      "AaAgCq_1to1s.write('Aedes_aegypti\\tAnopheles_gambiae\\tCulex_quinquefasciatus\\n')\n",
      "for group in og_spcs3:\n",
      "    AaAgCq_1to1s.write(format_1to1s(mosq_orthos,group))\n",
      "    \n",
      "AaAgCq_1to1s.close()\n",
      "    "
     ],
     "language": "python",
     "metadata": {},
     "outputs": [],
     "prompt_number": 84
    }
   ],
   "metadata": {}
  }
 ]
}