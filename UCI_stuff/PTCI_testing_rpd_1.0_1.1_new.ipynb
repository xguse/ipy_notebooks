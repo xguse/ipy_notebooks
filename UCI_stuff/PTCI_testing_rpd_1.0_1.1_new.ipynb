{
 "metadata": {
  "name": ""
 },
 "nbformat": 3,
 "nbformat_minor": 0,
 "worksheets": [
  {
   "cells": [
    {
     "cell_type": "markdown",
     "metadata": {},
     "source": [
      "#### Initial library imports:"
     ]
    },
    {
     "cell_type": "code",
     "collapsed": false,
     "input": [
      "from gfunc.dev import devel as dev\n",
      "from gfunc import maths as m\n",
      "from gfunc.scripts.gfunc_build_n_way_one2one import reset_random_edges\n",
      "from gfunc.xpermutations import xuniqueCombinations\n",
      "\n",
      "from ipy_table import *"
     ],
     "language": "python",
     "metadata": {},
     "outputs": [],
     "prompt_number": 20
    },
    {
     "cell_type": "markdown",
     "metadata": {},
     "source": [
      "# PTCI test settings: rpd; scale divergence weights from 1.0 to 1.1; with NEW tophat/cufflinks data"
     ]
    },
    {
     "cell_type": "markdown",
     "metadata": {},
     "source": [
      "PTCI is a measure of the similarity (putative conservation) of the RNA expression (abundance) profiles between orlologous genes between species.  The full score combines the r-value ($r$), it's corresponding p-value ($p$), and a scaled weight derived from the evolutionary distance of the species ($w(d)$). By default, the $w(d)$ value is scaled to between 1.0 and 1.1 so as not to overwhelm the metric. \n",
      "\n",
      "$PTCI = r \\cdot (1-p) \\cdot w(d)$\n",
      "\n",
      "However, by setting the values of a few master variables below we can explore how altering these parameters affects the results."
     ]
    },
    {
     "cell_type": "code",
     "collapsed": false,
     "input": [
      "master_kinds = [ ['\"rpd\"' ,   'r * (1-p) * w(d)'  ],\n",
      "                 [ '\"zpd\"' , 'z(r) * (1-p) * w(d)' ],\n",
      "                 [ '\"rd\"' , 'r * w(d)'               ],\n",
      "                 [ '\"zd\"' , 'z(r) * w(d)'             ],\n",
      "                 [  '\"r\"' ,'r'                         ],\n",
      "                 [  '\"z\"' , 'z(r)'                     ] ]\n",
      "\n",
      "table = make_table(master_kinds)\n",
      "\n",
      "print \"\\n\\n\\n\\n`master_kind` can be any of the following:\"\n",
      "display(table)\n",
      "\n",
      "print \"`master_w_min` and `master_w_max` define the bounds of the w(d) scaling function.\\n\\n\"\n",
      "\n"
     ],
     "language": "python",
     "metadata": {},
     "outputs": [
      {
       "output_type": "stream",
       "stream": "stdout",
       "text": [
        "\n",
        "\n",
        "\n",
        "\n",
        "`master_kind` can be any of the following:\n"
       ]
      },
      {
       "html": [
        "<table border=\"1\" cellpadding=\"3\" cellspacing=\"0\"  style=\"border:1px solid black;border-collapse:collapse;\"><tr><td>\"rpd\"</td><td>r&nbsp*&nbsp(1-p)&nbsp*&nbspw(d)</td></tr><tr><td>\"zpd\"</td><td>z(r)&nbsp*&nbsp(1-p)&nbsp*&nbspw(d)</td></tr><tr><td>\"rd\"</td><td>r&nbsp*&nbspw(d)</td></tr><tr><td>\"zd\"</td><td>z(r)&nbsp*&nbspw(d)</td></tr><tr><td>\"r\"</td><td>r</td></tr><tr><td>\"z\"</td><td>z(r)</td></tr>"
       ],
       "metadata": {},
       "output_type": "display_data",
       "text": [
        "<IPython.core.display.HTML at 0x54a5950>"
       ]
      },
      {
       "output_type": "stream",
       "stream": "stdout",
       "text": [
        "`master_w_min` and `master_w_max` define the bounds of the w(d) scaling function.\n",
        "\n",
        "\n"
       ]
      }
     ],
     "prompt_number": 21
    },
    {
     "cell_type": "markdown",
     "metadata": {},
     "source": [
      "### Setting the PTCI parameters:"
     ]
    },
    {
     "cell_type": "code",
     "collapsed": false,
     "input": [
      "#set the parameters of ptci to calculate\n",
      "master_kind = 'rpd'\n",
      "master_w_min = 1.0\n",
      "master_w_max = 1.1"
     ],
     "language": "python",
     "metadata": {},
     "outputs": [],
     "prompt_number": 22
    },
    {
     "cell_type": "markdown",
     "metadata": {},
     "source": [
      "# 1: Analyze 1-to-1 ortholog correlations (pairwise only):"
     ]
    },
    {
     "cell_type": "markdown",
     "metadata": {},
     "source": [
      "#### Run external script to load expressin/divergence/etc data into the gFunc graph:"
     ]
    },
    {
     "cell_type": "code",
     "collapsed": false,
     "input": [
      "# run gfunc_build_n_way_one2one script and capture output in variable `trap`\n",
      "%run -i ../../../Dropbox/repos/git/gfunc/src/gfunc/scripts/gfunc_build_n_way_one2one.py ../../../Dropbox/common/gfunc/Aa_Ag_Cq_gfunc.yaml\n",
      "\n",
      "graphHandler,graphBuilder,n_way_ortho_table,ortho_parser = trap\n",
      "\n",
      "# extract edge data from the graphs\n",
      "edges = graphHandler.edge_dict.values() "
     ],
     "language": "python",
     "metadata": {},
     "outputs": [
      {
       "ename": "ValueError",
       "evalue": "could not convert string to float: OK",
       "output_type": "pyerr",
       "traceback": [
        "\u001b[1;31m---------------------------------------------------------------------------\u001b[0m\n\u001b[1;31mValueError\u001b[0m                                Traceback (most recent call last)",
        "\u001b[1;32m/home/gus/virt_pythons/py274/lib/python2.7/site-packages/IPython/utils/py3compat.pyc\u001b[0m in \u001b[0;36mexecfile\u001b[1;34m(fname, *where)\u001b[0m\n\u001b[0;32m    202\u001b[0m             \u001b[1;32melse\u001b[0m\u001b[1;33m:\u001b[0m\u001b[1;33m\u001b[0m\u001b[0m\n\u001b[0;32m    203\u001b[0m                 \u001b[0mfilename\u001b[0m \u001b[1;33m=\u001b[0m \u001b[0mfname\u001b[0m\u001b[1;33m\u001b[0m\u001b[0m\n\u001b[1;32m--> 204\u001b[1;33m             \u001b[0m__builtin__\u001b[0m\u001b[1;33m.\u001b[0m\u001b[0mexecfile\u001b[0m\u001b[1;33m(\u001b[0m\u001b[0mfilename\u001b[0m\u001b[1;33m,\u001b[0m \u001b[1;33m*\u001b[0m\u001b[0mwhere\u001b[0m\u001b[1;33m)\u001b[0m\u001b[1;33m\u001b[0m\u001b[0m\n\u001b[0m",
        "\u001b[1;32m/home/gus/Dropbox/repos/git/gfunc/src/gfunc/scripts/gfunc_build_n_way_one2one.py\u001b[0m in \u001b[0;36m<module>\u001b[1;34m()\u001b[0m\n\u001b[0;32m    621\u001b[0m \u001b[1;33m\u001b[0m\u001b[0m\n\u001b[0;32m    622\u001b[0m \u001b[1;32mif\u001b[0m \u001b[0m__name__\u001b[0m \u001b[1;33m==\u001b[0m \u001b[1;34m'__main__'\u001b[0m\u001b[1;33m:\u001b[0m\u001b[1;33m\u001b[0m\u001b[0m\n\u001b[1;32m--> 623\u001b[1;33m     \u001b[0mtrap\u001b[0m \u001b[1;33m=\u001b[0m \u001b[0mmain\u001b[0m\u001b[1;33m(\u001b[0m\u001b[1;33m)\u001b[0m\u001b[1;33m\u001b[0m\u001b[0m\n\u001b[0m\u001b[0;32m    624\u001b[0m     \u001b[1;31m#main()\u001b[0m\u001b[1;33m\u001b[0m\u001b[1;33m\u001b[0m\u001b[0m\n\u001b[0;32m    625\u001b[0m     \u001b[1;32mprint\u001b[0m \u001b[1;34m\"main() completed.\"\u001b[0m\u001b[1;33m\u001b[0m\u001b[0m\n",
        "\u001b[1;32m/home/gus/Dropbox/repos/git/gfunc/src/gfunc/scripts/gfunc_build_n_way_one2one.py\u001b[0m in \u001b[0;36mmain\u001b[1;34m()\u001b[0m\n\u001b[0;32m    539\u001b[0m \u001b[1;33m\u001b[0m\u001b[0m\n\u001b[0;32m    540\u001b[0m \u001b[1;33m\u001b[0m\u001b[0m\n\u001b[1;32m--> 541\u001b[1;33m     \u001b[0mparser_list\u001b[0m \u001b[1;33m=\u001b[0m \u001b[0msetup_parsers\u001b[0m\u001b[1;33m(\u001b[0m\u001b[0myopts\u001b[0m\u001b[1;33m)\u001b[0m\u001b[1;33m\u001b[0m\u001b[0m\n\u001b[0m\u001b[0;32m    542\u001b[0m     \u001b[0mortho_parser\u001b[0m \u001b[1;33m=\u001b[0m \u001b[0mparser_list\u001b[0m\u001b[1;33m[\u001b[0m\u001b[1;33m-\u001b[0m\u001b[1;36m1\u001b[0m\u001b[1;33m]\u001b[0m\u001b[1;33m\u001b[0m\u001b[0m\n\u001b[0;32m    543\u001b[0m \u001b[1;33m\u001b[0m\u001b[0m\n",
        "\u001b[1;32m/home/gus/Dropbox/repos/git/gfunc/src/gfunc/scripts/gfunc_build_n_way_one2one.py\u001b[0m in \u001b[0;36msetup_parsers\u001b[1;34m(yopts)\u001b[0m\n\u001b[0;32m    369\u001b[0m                                               \u001b[0mcuffdiff_exp_path\u001b[0m\u001b[1;33m=\u001b[0m\u001b[0my\u001b[0m\u001b[1;33m.\u001b[0m\u001b[0mspecies_info\u001b[0m\u001b[1;33m.\u001b[0m\u001b[0mAedes_aegypti\u001b[0m\u001b[1;33m.\u001b[0m\u001b[0msig_data\u001b[0m\u001b[1;33m,\u001b[0m\u001b[1;33m\u001b[0m\u001b[0m\n\u001b[0;32m    370\u001b[0m                                               \u001b[0mname_col\u001b[0m\u001b[1;33m=\u001b[0m\u001b[1;34m'nearest_ref_id'\u001b[0m\u001b[1;33m,\u001b[0m\u001b[1;33m\u001b[0m\u001b[0m\n\u001b[1;32m--> 371\u001b[1;33m                                               combine_transcripts=True,tx_2_gene=None))\n\u001b[0m\u001b[0;32m    372\u001b[0m \u001b[1;33m\u001b[0m\u001b[0m\n\u001b[0;32m    373\u001b[0m     parser_list.append(CDiffFpkmTrackerParser(cuffdiff_fpkm_path=y.species_info.Anopheles_gambiae.expresion_data,\n",
        "\u001b[1;32m/home/gus/Dropbox/repos/git/gfunc/src/gfunc/parsers/Cufflinks.pyc\u001b[0m in \u001b[0;36m__init__\u001b[1;34m(self, cuffdiff_fpkm_path, species, cuffdiff_exp_path, name_col, combine_transcripts, tx_2_gene)\u001b[0m\n\u001b[0;32m     41\u001b[0m             \u001b[1;32melse\u001b[0m\u001b[1;33m:\u001b[0m\u001b[1;33m\u001b[0m\u001b[0m\n\u001b[0;32m     42\u001b[0m                 \u001b[0mself\u001b[0m\u001b[1;33m.\u001b[0m\u001b[0m_tx2gene_func\u001b[0m \u001b[1;33m=\u001b[0m \u001b[0mtx_2_gene\u001b[0m\u001b[1;33m\u001b[0m\u001b[0m\n\u001b[1;32m---> 43\u001b[1;33m             \u001b[0mself\u001b[0m\u001b[1;33m.\u001b[0m\u001b[0mgene_vectors\u001b[0m \u001b[1;33m=\u001b[0m \u001b[0mself\u001b[0m\u001b[1;33m.\u001b[0m\u001b[0m_sum_transcripts\u001b[0m\u001b[1;33m(\u001b[0m\u001b[1;33m)\u001b[0m\u001b[1;33m\u001b[0m\u001b[0m\n\u001b[0m\u001b[0;32m     44\u001b[0m \u001b[1;33m\u001b[0m\u001b[0m\n\u001b[0;32m     45\u001b[0m         \u001b[1;32mif\u001b[0m \u001b[0mself\u001b[0m\u001b[1;33m.\u001b[0m\u001b[0m_expDiff\u001b[0m \u001b[1;32mis\u001b[0m \u001b[1;32mnot\u001b[0m \u001b[0mNone\u001b[0m\u001b[1;33m:\u001b[0m\u001b[1;33m\u001b[0m\u001b[0m\n",
        "\u001b[1;32m/home/gus/Dropbox/repos/git/gfunc/src/gfunc/parsers/Cufflinks.pyc\u001b[0m in \u001b[0;36m_sum_transcripts\u001b[1;34m(self)\u001b[0m\n\u001b[0;32m     74\u001b[0m             \u001b[0mname\u001b[0m \u001b[1;33m=\u001b[0m \u001b[0mself\u001b[0m\u001b[1;33m.\u001b[0m\u001b[0m_tx2gene_func\u001b[0m\u001b[1;33m(\u001b[0m\u001b[0mrow\u001b[0m\u001b[1;33m.\u001b[0m\u001b[0mget\u001b[0m\u001b[1;33m(\u001b[0m\u001b[0mself\u001b[0m\u001b[1;33m.\u001b[0m\u001b[0m_name_col\u001b[0m\u001b[1;33m)\u001b[0m\u001b[1;33m)\u001b[0m \u001b[1;31m# Converts Tx symbol into Gene Symbol\u001b[0m\u001b[1;33m\u001b[0m\u001b[0m\n\u001b[0;32m     75\u001b[0m             \u001b[0mxloc\u001b[0m \u001b[1;33m=\u001b[0m \u001b[0mrow\u001b[0m\u001b[1;33m.\u001b[0m\u001b[0mgene_id\u001b[0m\u001b[1;33m\u001b[0m\u001b[0m\n\u001b[1;32m---> 76\u001b[1;33m             \u001b[0mvector\u001b[0m \u001b[1;33m=\u001b[0m \u001b[0mnp\u001b[0m\u001b[1;33m.\u001b[0m\u001b[0marray\u001b[0m\u001b[1;33m(\u001b[0m\u001b[1;33m[\u001b[0m\u001b[0mfloat\u001b[0m\u001b[1;33m(\u001b[0m\u001b[0mrow\u001b[0m\u001b[1;33m[\u001b[0m\u001b[0mx\u001b[0m\u001b[1;33m]\u001b[0m\u001b[1;33m)\u001b[0m \u001b[1;32mfor\u001b[0m \u001b[0mx\u001b[0m \u001b[1;32min\u001b[0m \u001b[0mrange\u001b[0m\u001b[1;33m(\u001b[0m\u001b[1;36m10\u001b[0m\u001b[1;33m,\u001b[0m\u001b[0mlen\u001b[0m\u001b[1;33m(\u001b[0m\u001b[0mrow\u001b[0m\u001b[1;33m)\u001b[0m\u001b[1;33m,\u001b[0m\u001b[1;36m3\u001b[0m\u001b[1;33m)\u001b[0m\u001b[1;33m]\u001b[0m\u001b[1;33m)\u001b[0m\u001b[1;33m\u001b[0m\u001b[0m\n\u001b[0m\u001b[0;32m     77\u001b[0m             \u001b[0mname_xloc\u001b[0m \u001b[1;33m=\u001b[0m \u001b[1;33m(\u001b[0m\u001b[0mname\u001b[0m\u001b[1;33m,\u001b[0m\u001b[0mxloc\u001b[0m\u001b[1;33m)\u001b[0m\u001b[1;33m\u001b[0m\u001b[0m\n\u001b[0;32m     78\u001b[0m             \u001b[0mgene_vectors\u001b[0m\u001b[1;33m[\u001b[0m\u001b[0mname_xloc\u001b[0m\u001b[1;33m]\u001b[0m \u001b[1;33m=\u001b[0m \u001b[0mgene_vectors\u001b[0m\u001b[1;33m[\u001b[0m\u001b[0mname_xloc\u001b[0m\u001b[1;33m]\u001b[0m \u001b[1;33m+\u001b[0m \u001b[0mvector\u001b[0m\u001b[1;33m\u001b[0m\u001b[0m\n",
        "\u001b[1;31mValueError\u001b[0m: could not convert string to float: OK"
       ]
      },
      {
       "ename": "NameError",
       "evalue": "name 'trap' is not defined",
       "output_type": "pyerr",
       "traceback": [
        "\u001b[1;31m---------------------------------------------------------------------------\u001b[0m\n\u001b[1;31mNameError\u001b[0m                                 Traceback (most recent call last)",
        "\u001b[1;32m<ipython-input-32-dbb7c6e28bfa>\u001b[0m in \u001b[0;36m<module>\u001b[1;34m()\u001b[0m\n\u001b[0;32m      2\u001b[0m \u001b[0mget_ipython\u001b[0m\u001b[1;33m(\u001b[0m\u001b[1;33m)\u001b[0m\u001b[1;33m.\u001b[0m\u001b[0mmagic\u001b[0m\u001b[1;33m(\u001b[0m\u001b[1;34mu'run -i ../../../Dropbox/repos/git/gfunc/src/gfunc/scripts/gfunc_build_n_way_one2one.py ../../../Dropbox/common/gfunc/Aa_Ag_Cq_gfunc.yaml'\u001b[0m\u001b[1;33m)\u001b[0m\u001b[1;33m\u001b[0m\u001b[0m\n\u001b[0;32m      3\u001b[0m \u001b[1;33m\u001b[0m\u001b[0m\n\u001b[1;32m----> 4\u001b[1;33m \u001b[0mgraphHandler\u001b[0m\u001b[1;33m,\u001b[0m\u001b[0mgraphBuilder\u001b[0m\u001b[1;33m,\u001b[0m\u001b[0mn_way_ortho_table\u001b[0m\u001b[1;33m,\u001b[0m\u001b[0mortho_parser\u001b[0m \u001b[1;33m=\u001b[0m \u001b[0mtrap\u001b[0m\u001b[1;33m\u001b[0m\u001b[0m\n\u001b[0m\u001b[0;32m      5\u001b[0m \u001b[1;33m\u001b[0m\u001b[0m\n\u001b[0;32m      6\u001b[0m \u001b[1;31m# extract edge data from the graphs\u001b[0m\u001b[1;33m\u001b[0m\u001b[1;33m\u001b[0m\u001b[0m\n",
        "\u001b[1;31mNameError\u001b[0m: name 'trap' is not defined"
       ]
      }
     ],
     "prompt_number": 32
    },
    {
     "cell_type": "markdown",
     "metadata": {},
     "source": [
      "#### Function to calculate and store the orthologous expression profile correlation values in the graph edges:"
     ]
    },
    {
     "cell_type": "code",
     "collapsed": false,
     "input": [
      "def get_edge_r_and_p_vals(edges,quiet=True):\n",
      "    \"\"\"\n",
      "    set and get r and p vals from list of edges\n",
      "    \"\"\"\n",
      "    # collect all the results using edge_correlation()\n",
      "    edge_r_and_p_values = [dev.edge_correlation(edge) for edge in edges]\n",
      "    \n",
      "    if not quiet:\n",
      "        print \"r_vals before cleaning: %s\" % (len(edge_r_and_p_values))\n",
      "\n",
      "    # get rid of any results that equal None\n",
      "    edge_r_and_p_values = [x for x in edge_r_and_p_values if not dev.is_none_or_nan(x)]\n",
      "    \n",
      "    if not quiet:\n",
      "        print \"Returning %s r_vals.\" % (len(edge_r_and_p_values))\n",
      "        \n",
      "    return edge_r_and_p_values"
     ],
     "language": "python",
     "metadata": {},
     "outputs": []
    },
    {
     "cell_type": "markdown",
     "metadata": {},
     "source": [
      "#### Set the expression correlation values and also store them in external variable for easy access after cleaning:"
     ]
    },
    {
     "cell_type": "code",
     "collapsed": false,
     "input": [
      "r_and_p_values = get_edge_r_and_p_vals(edges,quiet=False)"
     ],
     "language": "python",
     "metadata": {},
     "outputs": []
    },
    {
     "cell_type": "code",
     "collapsed": false,
     "input": [
      "r_values = [r_and_p_values[i][0] for i in range(len(r_and_p_values))]"
     ],
     "language": "python",
     "metadata": {},
     "outputs": []
    },
    {
     "cell_type": "markdown",
     "metadata": {},
     "source": [
      "#### Histogram of r-values:"
     ]
    },
    {
     "cell_type": "code",
     "collapsed": false,
     "input": [
      "hist(r_values,bins=50,histtype='stepfilled',cumulative=False, color='b')\n",
      "xlabel('correlation values')\n",
      "ylabel('number of edges in each bin')\n",
      "title('r values for pairwise edge comparisons')"
     ],
     "language": "python",
     "metadata": {},
     "outputs": []
    },
    {
     "cell_type": "markdown",
     "metadata": {},
     "source": [
      "#### Use the correlation values to calculate and store the REAL DATA z-score statistics for later:"
     ]
    },
    {
     "cell_type": "code",
     "collapsed": false,
     "input": [
      "z_stats = m.get_z_score_stats(r_values)"
     ],
     "language": "python",
     "metadata": {},
     "outputs": []
    },
    {
     "cell_type": "code",
     "collapsed": false,
     "input": [
      "print \"mean:\\t%s\\nmedian:\\t%s\\nstdv:\\t%s\" % (z_stats[0],z_stats[1],z_stats[2])"
     ],
     "language": "python",
     "metadata": {},
     "outputs": []
    },
    {
     "cell_type": "markdown",
     "metadata": {},
     "source": [
      "#### Function to use z-score stats to calculate and store z-score converted r-values in the gFunc graph:"
     ]
    },
    {
     "cell_type": "code",
     "collapsed": false,
     "input": [
      "def set_z_vals(graphHandler,z_stats,use_center='median'):\n",
      "    z_stats = {'mean':z_stats[0],'median':z_stats[1],'stdv':z_stats[2]}\n",
      "    \n",
      "    center = z_stats[use_center]\n",
      "    stdv   = z_stats['stdv']\n",
      "    \n",
      "    def z_val(r_val,center,stdv):\n",
      "        return  (r_val - center) / stdv\n",
      "    \n",
      "    edges = graphHandler.edge_dict.values() \n",
      "    for edge in edges:\n",
      "        try:\n",
      "            edge.data.z_val = z_val(edge.data.r_val,center,stdv)\n",
      "            \n",
      "        except (TypeError,AttributeError) as exc:\n",
      "            if 'TypeError' in str(exc):\n",
      "                edge.data.z_val = None\n",
      "            elif 'AttributeError' in str(exc):\n",
      "                dev.edge_correlation(edge)\n",
      "                if edge.data.r_val == None:\n",
      "                    edge.data.z_val = None\n",
      "                else:\n",
      "                    edge.data.z_val = z_val(edge.data.r_val,center,stdv)\n",
      "            "
     ],
     "language": "python",
     "metadata": {},
     "outputs": []
    },
    {
     "cell_type": "code",
     "collapsed": false,
     "input": [
      "set_z_vals(graphHandler,z_stats,use_center='median')"
     ],
     "language": "python",
     "metadata": {},
     "outputs": []
    },
    {
     "cell_type": "markdown",
     "metadata": {},
     "source": [
      "#### Function to calculate and store the 1-to-1 pairwise PTCI values in the graph edges"
     ]
    },
    {
     "cell_type": "code",
     "collapsed": false,
     "input": [
      "def get_pairwise_ptci_vals(edges,kind='rpd',quiet=True,w_min=1.0,w_max=1.1):\n",
      "    if not quiet:\n",
      "        print \"kind: %s\" % (kind)\n",
      "    pairwise_ptci_vals = [dev.get_ptci(edge,kind,w_min,w_max) for edge in edges]\n",
      "    if not quiet:\n",
      "        print \"ptci_vals before cleaning: %s\" % (len(pairwise_ptci_vals))\n",
      "    # remove any None values\n",
      "    pairwise_ptci_vals = [ptci for ptci in pairwise_ptci_vals if not dev.is_none_or_nan(ptci)]\n",
      "    if not quiet:\n",
      "        print \"Returning %s ptci_vals.\" % (len(pairwise_ptci_vals))\n",
      "        \n",
      "    return pairwise_ptci_vals"
     ],
     "language": "python",
     "metadata": {},
     "outputs": []
    },
    {
     "cell_type": "markdown",
     "metadata": {},
     "source": [
      "#### Set and collect the REAL DATA 1-to-1 PTCIs"
     ]
    },
    {
     "cell_type": "code",
     "collapsed": false,
     "input": [
      "pairwise_ptci_vals = get_pairwise_ptci_vals(edges,kind=master_kind,quiet=True,w_min=master_w_min,w_max=master_w_max)"
     ],
     "language": "python",
     "metadata": {},
     "outputs": []
    },
    {
     "cell_type": "markdown",
     "metadata": {},
     "source": [
      "#### Function to calculate and store RANDOMIZED 1-to-1 pairwise PTCI values in the graph edges to generate many NULL distributions"
     ]
    },
    {
     "cell_type": "code",
     "collapsed": false,
     "input": [
      "def get_null_pairwise_ptci_distributions(graphHandler,graphBuilder,n_way_ortho_table,ortho_parser,reps=50,kind='rpd',quiet=True,w_min=1.0,w_max=1.1):\n",
      "    \"\"\"\n",
      "    \"\"\"\n",
      "    null_paired_ptci_distributions = []\n",
      "\n",
      "    for rep in range(reps):\n",
      "        # scramble edges for this rep and set new r&p vals\n",
      "        reset_random_edges(graphHandler,graphBuilder,n_way_ortho_table,ortho_parser)\n",
      "        graphHandler.measure_relations()\n",
      "        \n",
      "        # do prep\n",
      "        null_edges = graphHandler.edge_dict.values()\n",
      "        null_r_and_p_values = get_edge_r_and_p_vals(null_edges,quiet)\n",
      "        null_r_values = [null_r_and_p_values[i][0] for i in range(len(null_r_and_p_values))]\n",
      "        null_z_stats = m.get_z_score_stats(null_r_values)\n",
      "        set_z_vals(graphHandler,null_z_stats,use_center='median')\n",
      "        \n",
      "        # calculate null ptci vals\n",
      "        null_pairwise_ptci_vals = get_pairwise_ptci_vals(null_edges,kind,quiet,w_min,w_max)\n",
      "        \n",
      "        # collect null ptci distribution\n",
      "        null_paired_ptci_distributions.append(null_pairwise_ptci_vals)\n",
      "        \n",
      "    \n",
      "    return null_paired_ptci_distributions"
     ],
     "language": "python",
     "metadata": {},
     "outputs": [],
     "prompt_number": 24
    },
    {
     "cell_type": "markdown",
     "metadata": {},
     "source": [
      "#### Set and collect the NULL DATA 1-to-1 PTCIs"
     ]
    },
    {
     "cell_type": "code",
     "collapsed": false,
     "input": [
      "null_pairwise_ptci_distributions = get_null_pairwise_ptci_distributions(graphHandler,\n",
      "                                                                        graphBuilder,\n",
      "                                                                        n_way_ortho_table,\n",
      "                                                                        ortho_parser,\n",
      "                                                                        reps=5,\n",
      "                                                                        kind=master_kind,\n",
      "                                                                        quiet=True,\n",
      "                                                                        w_min=master_w_min,\n",
      "                                                                        w_max=master_w_max)"
     ],
     "language": "python",
     "metadata": {},
     "outputs": [
      {
       "ename": "NameError",
       "evalue": "name 'graphHandler' is not defined",
       "output_type": "pyerr",
       "traceback": [
        "\u001b[1;31m---------------------------------------------------------------------------\u001b[0m\n\u001b[1;31mNameError\u001b[0m                                 Traceback (most recent call last)",
        "\u001b[1;32m<ipython-input-25-a3d60d96328f>\u001b[0m in \u001b[0;36m<module>\u001b[1;34m()\u001b[0m\n\u001b[1;32m----> 1\u001b[1;33m null_pairwise_ptci_distributions = get_null_pairwise_ptci_distributions(graphHandler,\n\u001b[0m\u001b[0;32m      2\u001b[0m                                                                         \u001b[0mgraphBuilder\u001b[0m\u001b[1;33m,\u001b[0m\u001b[1;33m\u001b[0m\u001b[0m\n\u001b[0;32m      3\u001b[0m                                                                         \u001b[0mn_way_ortho_table\u001b[0m\u001b[1;33m,\u001b[0m\u001b[1;33m\u001b[0m\u001b[0m\n\u001b[0;32m      4\u001b[0m                                                                         \u001b[0mortho_parser\u001b[0m\u001b[1;33m,\u001b[0m\u001b[1;33m\u001b[0m\u001b[0m\n\u001b[0;32m      5\u001b[0m                                                                         \u001b[0mreps\u001b[0m\u001b[1;33m=\u001b[0m\u001b[1;36m5\u001b[0m\u001b[1;33m,\u001b[0m\u001b[1;33m\u001b[0m\u001b[0m\n",
        "\u001b[1;31mNameError\u001b[0m: name 'graphHandler' is not defined"
       ]
      }
     ],
     "prompt_number": 25
    },
    {
     "cell_type": "markdown",
     "metadata": {},
     "source": [
      "#### Histogram overlays contrasting the REAL and NULL distributions of 1-to-1 orthologous PTCI values"
     ]
    },
    {
     "cell_type": "code",
     "collapsed": false,
     "input": [
      "# Show what the actual data looks like for comparison\n",
      "real_hist_data = hist(pairwise_ptci_vals,bins=50,histtype='stepfilled',cumulative=False, color='c',alpha=.7, label='Real Data')\n",
      "real_data_bins = real_hist_data[1]\n",
      "\n",
      "# Graph null distributions as grey slightly transparent histograms\n",
      "null_label = 'Null Data'\n",
      "\n",
      "null_hists_data = []\n",
      "for null_dist in null_pairwise_ptci_distributions:\n",
      "    nhd = hist(null_dist,bins=real_data_bins,histtype='step',cumulative=False, color='k',alpha=.1,label=null_label)\n",
      "    null_label = None\n",
      "    null_hists_data.append(nhd)\n",
      "\n",
      "\n",
      "\n",
      "\n",
      "xlabel('ptci (kind: %s, %s-%s)' % (master_kind, master_w_min, master_w_max))\n",
      "ylabel('number of edges in each bin')\n",
      "title('null distributions for pairwise edge correlations (%s reps)' % (len(null_pairwise_ptci_distributions)))\n",
      "legend()"
     ],
     "language": "python",
     "metadata": {},
     "outputs": []
    },
    {
     "cell_type": "markdown",
     "metadata": {},
     "source": [
      "#### Plot Null subtracted Data"
     ]
    },
    {
     "cell_type": "code",
     "collapsed": false,
     "input": [
      "null_subtracted = real_hist_data[0] - null_hists_data[0][0]\n",
      "\n",
      "plot(real_data_bins[:-1],null_subtracted,'c')\n",
      "axvline(ls='--')\n",
      "axhline(ls='--')\n",
      "xlabel('ptci (kind: %s, %s-%s)' % (master_kind, master_w_min, master_w_max))\n",
      "ylabel('number of edges in each bin (real vs null)')\n",
      "#title('null distributions for pairwise edge correlations (%s reps)' % (len(null_pairwise_ptci_distributions)))\n"
     ],
     "language": "python",
     "metadata": {},
     "outputs": []
    },
    {
     "cell_type": "markdown",
     "metadata": {},
     "source": [
      "# 2: Analyze composite $N$-way ortholog correlations (1-to-1 orthologs in all $N$ species):"
     ]
    },
    {
     "cell_type": "markdown",
     "metadata": {},
     "source": [
      "### We need to regenrate the graph database after the randomization step above"
     ]
    },
    {
     "cell_type": "code",
     "collapsed": false,
     "input": [
      "# run gfunc_build_n_way_one2one script and capture output in variable `trap`\n",
      "%run -i ../../../Dropbox/repos/git/gfunc/src/gfunc/scripts/gfunc_build_n_way_one2one.py ../../../Dropbox/common/gfunc/Aa_Ag_Cq_gfunc.yaml\n",
      "\n",
      "graphHandler,graphBuilder,n_way_ortho_table,ortho_parser = trap\n",
      "\n",
      "edges = graphHandler.edge_dict.values() \n",
      "r_and_p_values = get_edge_r_and_p_vals(edges,quiet=False)\n",
      "set_z_vals(graphHandler, z_stats, use_center='median')"
     ],
     "language": "python",
     "metadata": {},
     "outputs": [
      {
       "ename": "ParserError",
       "evalue": "while parsing a block mapping\n  in \"../../../Dropbox/common/gfunc/Aa_Ag_Cq_gfunc.yaml\", line 12, column 5\nexpected <block end>, but found '<scalar>'\n  in \"../../../Dropbox/common/gfunc/Aa_Ag_Cq_gfunc.yaml\", line 18, column 12",
       "output_type": "pyerr",
       "traceback": [
        "\u001b[1;31m---------------------------------------------------------------------------\u001b[0m\n\u001b[1;31mParserError\u001b[0m                               Traceback (most recent call last)",
        "\u001b[1;32m/home/gus/virt_pythons/py274/lib/python2.7/site-packages/IPython/utils/py3compat.pyc\u001b[0m in \u001b[0;36mexecfile\u001b[1;34m(fname, *where)\u001b[0m\n\u001b[0;32m    202\u001b[0m             \u001b[1;32melse\u001b[0m\u001b[1;33m:\u001b[0m\u001b[1;33m\u001b[0m\u001b[0m\n\u001b[0;32m    203\u001b[0m                 \u001b[0mfilename\u001b[0m \u001b[1;33m=\u001b[0m \u001b[0mfname\u001b[0m\u001b[1;33m\u001b[0m\u001b[0m\n\u001b[1;32m--> 204\u001b[1;33m             \u001b[0m__builtin__\u001b[0m\u001b[1;33m.\u001b[0m\u001b[0mexecfile\u001b[0m\u001b[1;33m(\u001b[0m\u001b[0mfilename\u001b[0m\u001b[1;33m,\u001b[0m \u001b[1;33m*\u001b[0m\u001b[0mwhere\u001b[0m\u001b[1;33m)\u001b[0m\u001b[1;33m\u001b[0m\u001b[0m\n\u001b[0m",
        "\u001b[1;32m/home/gus/Dropbox/repos/git/gfunc/src/gfunc/scripts/gfunc_build_n_way_one2one.py\u001b[0m in \u001b[0;36m<module>\u001b[1;34m()\u001b[0m\n\u001b[0;32m    621\u001b[0m \u001b[1;33m\u001b[0m\u001b[0m\n\u001b[0;32m    622\u001b[0m \u001b[1;32mif\u001b[0m \u001b[0m__name__\u001b[0m \u001b[1;33m==\u001b[0m \u001b[1;34m'__main__'\u001b[0m\u001b[1;33m:\u001b[0m\u001b[1;33m\u001b[0m\u001b[0m\n\u001b[1;32m--> 623\u001b[1;33m     \u001b[0mtrap\u001b[0m \u001b[1;33m=\u001b[0m \u001b[0mmain\u001b[0m\u001b[1;33m(\u001b[0m\u001b[1;33m)\u001b[0m\u001b[1;33m\u001b[0m\u001b[0m\n\u001b[0m\u001b[0;32m    624\u001b[0m     \u001b[1;31m#main()\u001b[0m\u001b[1;33m\u001b[0m\u001b[1;33m\u001b[0m\u001b[0m\n\u001b[0;32m    625\u001b[0m     \u001b[1;32mprint\u001b[0m \u001b[1;34m\"main() completed.\"\u001b[0m\u001b[1;33m\u001b[0m\u001b[0m\n",
        "\u001b[1;32m/home/gus/Dropbox/repos/git/gfunc/src/gfunc/scripts/gfunc_build_n_way_one2one.py\u001b[0m in \u001b[0;36mmain\u001b[1;34m()\u001b[0m\n\u001b[0;32m    536\u001b[0m     \u001b[0margs\u001b[0m \u001b[1;33m=\u001b[0m \u001b[0mparser\u001b[0m\u001b[1;33m.\u001b[0m\u001b[0mparse_args\u001b[0m\u001b[1;33m(\u001b[0m\u001b[1;33m)\u001b[0m\u001b[1;33m\u001b[0m\u001b[0m\n\u001b[0;32m    537\u001b[0m \u001b[1;33m\u001b[0m\u001b[0m\n\u001b[1;32m--> 538\u001b[1;33m     \u001b[0myopts\u001b[0m \u001b[1;33m=\u001b[0m \u001b[0mbunchify\u001b[0m\u001b[1;33m(\u001b[0m\u001b[0myaml\u001b[0m\u001b[1;33m.\u001b[0m\u001b[0mload\u001b[0m\u001b[1;33m(\u001b[0m\u001b[0mopen\u001b[0m\u001b[1;33m(\u001b[0m\u001b[0margs\u001b[0m\u001b[1;33m.\u001b[0m\u001b[0mconfig_file\u001b[0m\u001b[1;33m,\u001b[0m\u001b[1;34m'rU'\u001b[0m\u001b[1;33m)\u001b[0m\u001b[1;33m)\u001b[0m\u001b[1;33m)\u001b[0m\u001b[1;33m\u001b[0m\u001b[0m\n\u001b[0m\u001b[0;32m    539\u001b[0m \u001b[1;33m\u001b[0m\u001b[0m\n\u001b[0;32m    540\u001b[0m \u001b[1;33m\u001b[0m\u001b[0m\n",
        "\u001b[1;32m/home/gus/virt_pythons/py274/lib/python2.7/site-packages/yaml/__init__.pyc\u001b[0m in \u001b[0;36mload\u001b[1;34m(stream, Loader)\u001b[0m\n\u001b[0;32m     69\u001b[0m     \u001b[0mloader\u001b[0m \u001b[1;33m=\u001b[0m \u001b[0mLoader\u001b[0m\u001b[1;33m(\u001b[0m\u001b[0mstream\u001b[0m\u001b[1;33m)\u001b[0m\u001b[1;33m\u001b[0m\u001b[0m\n\u001b[0;32m     70\u001b[0m     \u001b[1;32mtry\u001b[0m\u001b[1;33m:\u001b[0m\u001b[1;33m\u001b[0m\u001b[0m\n\u001b[1;32m---> 71\u001b[1;33m         \u001b[1;32mreturn\u001b[0m \u001b[0mloader\u001b[0m\u001b[1;33m.\u001b[0m\u001b[0mget_single_data\u001b[0m\u001b[1;33m(\u001b[0m\u001b[1;33m)\u001b[0m\u001b[1;33m\u001b[0m\u001b[0m\n\u001b[0m\u001b[0;32m     72\u001b[0m     \u001b[1;32mfinally\u001b[0m\u001b[1;33m:\u001b[0m\u001b[1;33m\u001b[0m\u001b[0m\n\u001b[0;32m     73\u001b[0m         \u001b[0mloader\u001b[0m\u001b[1;33m.\u001b[0m\u001b[0mdispose\u001b[0m\u001b[1;33m(\u001b[0m\u001b[1;33m)\u001b[0m\u001b[1;33m\u001b[0m\u001b[0m\n",
        "\u001b[1;32m/home/gus/virt_pythons/py274/lib/python2.7/site-packages/yaml/constructor.pyc\u001b[0m in \u001b[0;36mget_single_data\u001b[1;34m(self)\u001b[0m\n\u001b[0;32m     35\u001b[0m     \u001b[1;32mdef\u001b[0m \u001b[0mget_single_data\u001b[0m\u001b[1;33m(\u001b[0m\u001b[0mself\u001b[0m\u001b[1;33m)\u001b[0m\u001b[1;33m:\u001b[0m\u001b[1;33m\u001b[0m\u001b[0m\n\u001b[0;32m     36\u001b[0m         \u001b[1;31m# Ensure that the stream contains a single document and construct it.\u001b[0m\u001b[1;33m\u001b[0m\u001b[1;33m\u001b[0m\u001b[0m\n\u001b[1;32m---> 37\u001b[1;33m         \u001b[0mnode\u001b[0m \u001b[1;33m=\u001b[0m \u001b[0mself\u001b[0m\u001b[1;33m.\u001b[0m\u001b[0mget_single_node\u001b[0m\u001b[1;33m(\u001b[0m\u001b[1;33m)\u001b[0m\u001b[1;33m\u001b[0m\u001b[0m\n\u001b[0m\u001b[0;32m     38\u001b[0m         \u001b[1;32mif\u001b[0m \u001b[0mnode\u001b[0m \u001b[1;32mis\u001b[0m \u001b[1;32mnot\u001b[0m \u001b[0mNone\u001b[0m\u001b[1;33m:\u001b[0m\u001b[1;33m\u001b[0m\u001b[0m\n\u001b[0;32m     39\u001b[0m             \u001b[1;32mreturn\u001b[0m \u001b[0mself\u001b[0m\u001b[1;33m.\u001b[0m\u001b[0mconstruct_document\u001b[0m\u001b[1;33m(\u001b[0m\u001b[0mnode\u001b[0m\u001b[1;33m)\u001b[0m\u001b[1;33m\u001b[0m\u001b[0m\n",
        "\u001b[1;32m/home/gus/virt_pythons/py274/lib/python2.7/site-packages/yaml/composer.pyc\u001b[0m in \u001b[0;36mget_single_node\u001b[1;34m(self)\u001b[0m\n\u001b[0;32m     34\u001b[0m         \u001b[0mdocument\u001b[0m \u001b[1;33m=\u001b[0m \u001b[0mNone\u001b[0m\u001b[1;33m\u001b[0m\u001b[0m\n\u001b[0;32m     35\u001b[0m         \u001b[1;32mif\u001b[0m \u001b[1;32mnot\u001b[0m \u001b[0mself\u001b[0m\u001b[1;33m.\u001b[0m\u001b[0mcheck_event\u001b[0m\u001b[1;33m(\u001b[0m\u001b[0mStreamEndEvent\u001b[0m\u001b[1;33m)\u001b[0m\u001b[1;33m:\u001b[0m\u001b[1;33m\u001b[0m\u001b[0m\n\u001b[1;32m---> 36\u001b[1;33m             \u001b[0mdocument\u001b[0m \u001b[1;33m=\u001b[0m \u001b[0mself\u001b[0m\u001b[1;33m.\u001b[0m\u001b[0mcompose_document\u001b[0m\u001b[1;33m(\u001b[0m\u001b[1;33m)\u001b[0m\u001b[1;33m\u001b[0m\u001b[0m\n\u001b[0m\u001b[0;32m     37\u001b[0m \u001b[1;33m\u001b[0m\u001b[0m\n\u001b[0;32m     38\u001b[0m         \u001b[1;31m# Ensure that the stream contains no more documents.\u001b[0m\u001b[1;33m\u001b[0m\u001b[1;33m\u001b[0m\u001b[0m\n",
        "\u001b[1;32m/home/gus/virt_pythons/py274/lib/python2.7/site-packages/yaml/composer.pyc\u001b[0m in \u001b[0;36mcompose_document\u001b[1;34m(self)\u001b[0m\n\u001b[0;32m     53\u001b[0m \u001b[1;33m\u001b[0m\u001b[0m\n\u001b[0;32m     54\u001b[0m         \u001b[1;31m# Compose the root node.\u001b[0m\u001b[1;33m\u001b[0m\u001b[1;33m\u001b[0m\u001b[0m\n\u001b[1;32m---> 55\u001b[1;33m         \u001b[0mnode\u001b[0m \u001b[1;33m=\u001b[0m \u001b[0mself\u001b[0m\u001b[1;33m.\u001b[0m\u001b[0mcompose_node\u001b[0m\u001b[1;33m(\u001b[0m\u001b[0mNone\u001b[0m\u001b[1;33m,\u001b[0m \u001b[0mNone\u001b[0m\u001b[1;33m)\u001b[0m\u001b[1;33m\u001b[0m\u001b[0m\n\u001b[0m\u001b[0;32m     56\u001b[0m \u001b[1;33m\u001b[0m\u001b[0m\n\u001b[0;32m     57\u001b[0m         \u001b[1;31m# Drop the DOCUMENT-END event.\u001b[0m\u001b[1;33m\u001b[0m\u001b[1;33m\u001b[0m\u001b[0m\n",
        "\u001b[1;32m/home/gus/virt_pythons/py274/lib/python2.7/site-packages/yaml/composer.pyc\u001b[0m in \u001b[0;36mcompose_node\u001b[1;34m(self, parent, index)\u001b[0m\n\u001b[0;32m     82\u001b[0m             \u001b[0mnode\u001b[0m \u001b[1;33m=\u001b[0m \u001b[0mself\u001b[0m\u001b[1;33m.\u001b[0m\u001b[0mcompose_sequence_node\u001b[0m\u001b[1;33m(\u001b[0m\u001b[0manchor\u001b[0m\u001b[1;33m)\u001b[0m\u001b[1;33m\u001b[0m\u001b[0m\n\u001b[0;32m     83\u001b[0m         \u001b[1;32melif\u001b[0m \u001b[0mself\u001b[0m\u001b[1;33m.\u001b[0m\u001b[0mcheck_event\u001b[0m\u001b[1;33m(\u001b[0m\u001b[0mMappingStartEvent\u001b[0m\u001b[1;33m)\u001b[0m\u001b[1;33m:\u001b[0m\u001b[1;33m\u001b[0m\u001b[0m\n\u001b[1;32m---> 84\u001b[1;33m             \u001b[0mnode\u001b[0m \u001b[1;33m=\u001b[0m \u001b[0mself\u001b[0m\u001b[1;33m.\u001b[0m\u001b[0mcompose_mapping_node\u001b[0m\u001b[1;33m(\u001b[0m\u001b[0manchor\u001b[0m\u001b[1;33m)\u001b[0m\u001b[1;33m\u001b[0m\u001b[0m\n\u001b[0m\u001b[0;32m     85\u001b[0m         \u001b[0mself\u001b[0m\u001b[1;33m.\u001b[0m\u001b[0mascend_resolver\u001b[0m\u001b[1;33m(\u001b[0m\u001b[1;33m)\u001b[0m\u001b[1;33m\u001b[0m\u001b[0m\n\u001b[0;32m     86\u001b[0m         \u001b[1;32mreturn\u001b[0m \u001b[0mnode\u001b[0m\u001b[1;33m\u001b[0m\u001b[0m\n",
        "\u001b[1;32m/home/gus/virt_pythons/py274/lib/python2.7/site-packages/yaml/composer.pyc\u001b[0m in \u001b[0;36mcompose_mapping_node\u001b[1;34m(self, anchor)\u001b[0m\n\u001b[0;32m    131\u001b[0m             \u001b[1;31m#    raise ComposerError(\"while composing a mapping\", start_event.start_mark,\u001b[0m\u001b[1;33m\u001b[0m\u001b[1;33m\u001b[0m\u001b[0m\n\u001b[0;32m    132\u001b[0m             \u001b[1;31m#            \"found duplicate key\", key_event.start_mark)\u001b[0m\u001b[1;33m\u001b[0m\u001b[1;33m\u001b[0m\u001b[0m\n\u001b[1;32m--> 133\u001b[1;33m             \u001b[0mitem_value\u001b[0m \u001b[1;33m=\u001b[0m \u001b[0mself\u001b[0m\u001b[1;33m.\u001b[0m\u001b[0mcompose_node\u001b[0m\u001b[1;33m(\u001b[0m\u001b[0mnode\u001b[0m\u001b[1;33m,\u001b[0m \u001b[0mitem_key\u001b[0m\u001b[1;33m)\u001b[0m\u001b[1;33m\u001b[0m\u001b[0m\n\u001b[0m\u001b[0;32m    134\u001b[0m             \u001b[1;31m#node.value[item_key] = item_value\u001b[0m\u001b[1;33m\u001b[0m\u001b[1;33m\u001b[0m\u001b[0m\n\u001b[0;32m    135\u001b[0m             \u001b[0mnode\u001b[0m\u001b[1;33m.\u001b[0m\u001b[0mvalue\u001b[0m\u001b[1;33m.\u001b[0m\u001b[0mappend\u001b[0m\u001b[1;33m(\u001b[0m\u001b[1;33m(\u001b[0m\u001b[0mitem_key\u001b[0m\u001b[1;33m,\u001b[0m \u001b[0mitem_value\u001b[0m\u001b[1;33m)\u001b[0m\u001b[1;33m)\u001b[0m\u001b[1;33m\u001b[0m\u001b[0m\n",
        "\u001b[1;32m/home/gus/virt_pythons/py274/lib/python2.7/site-packages/yaml/composer.pyc\u001b[0m in \u001b[0;36mcompose_node\u001b[1;34m(self, parent, index)\u001b[0m\n\u001b[0;32m     82\u001b[0m             \u001b[0mnode\u001b[0m \u001b[1;33m=\u001b[0m \u001b[0mself\u001b[0m\u001b[1;33m.\u001b[0m\u001b[0mcompose_sequence_node\u001b[0m\u001b[1;33m(\u001b[0m\u001b[0manchor\u001b[0m\u001b[1;33m)\u001b[0m\u001b[1;33m\u001b[0m\u001b[0m\n\u001b[0;32m     83\u001b[0m         \u001b[1;32melif\u001b[0m \u001b[0mself\u001b[0m\u001b[1;33m.\u001b[0m\u001b[0mcheck_event\u001b[0m\u001b[1;33m(\u001b[0m\u001b[0mMappingStartEvent\u001b[0m\u001b[1;33m)\u001b[0m\u001b[1;33m:\u001b[0m\u001b[1;33m\u001b[0m\u001b[0m\n\u001b[1;32m---> 84\u001b[1;33m             \u001b[0mnode\u001b[0m \u001b[1;33m=\u001b[0m \u001b[0mself\u001b[0m\u001b[1;33m.\u001b[0m\u001b[0mcompose_mapping_node\u001b[0m\u001b[1;33m(\u001b[0m\u001b[0manchor\u001b[0m\u001b[1;33m)\u001b[0m\u001b[1;33m\u001b[0m\u001b[0m\n\u001b[0m\u001b[0;32m     85\u001b[0m         \u001b[0mself\u001b[0m\u001b[1;33m.\u001b[0m\u001b[0mascend_resolver\u001b[0m\u001b[1;33m(\u001b[0m\u001b[1;33m)\u001b[0m\u001b[1;33m\u001b[0m\u001b[0m\n\u001b[0;32m     86\u001b[0m         \u001b[1;32mreturn\u001b[0m \u001b[0mnode\u001b[0m\u001b[1;33m\u001b[0m\u001b[0m\n",
        "\u001b[1;32m/home/gus/virt_pythons/py274/lib/python2.7/site-packages/yaml/composer.pyc\u001b[0m in \u001b[0;36mcompose_mapping_node\u001b[1;34m(self, anchor)\u001b[0m\n\u001b[0;32m    131\u001b[0m             \u001b[1;31m#    raise ComposerError(\"while composing a mapping\", start_event.start_mark,\u001b[0m\u001b[1;33m\u001b[0m\u001b[1;33m\u001b[0m\u001b[0m\n\u001b[0;32m    132\u001b[0m             \u001b[1;31m#            \"found duplicate key\", key_event.start_mark)\u001b[0m\u001b[1;33m\u001b[0m\u001b[1;33m\u001b[0m\u001b[0m\n\u001b[1;32m--> 133\u001b[1;33m             \u001b[0mitem_value\u001b[0m \u001b[1;33m=\u001b[0m \u001b[0mself\u001b[0m\u001b[1;33m.\u001b[0m\u001b[0mcompose_node\u001b[0m\u001b[1;33m(\u001b[0m\u001b[0mnode\u001b[0m\u001b[1;33m,\u001b[0m \u001b[0mitem_key\u001b[0m\u001b[1;33m)\u001b[0m\u001b[1;33m\u001b[0m\u001b[0m\n\u001b[0m\u001b[0;32m    134\u001b[0m             \u001b[1;31m#node.value[item_key] = item_value\u001b[0m\u001b[1;33m\u001b[0m\u001b[1;33m\u001b[0m\u001b[0m\n\u001b[0;32m    135\u001b[0m             \u001b[0mnode\u001b[0m\u001b[1;33m.\u001b[0m\u001b[0mvalue\u001b[0m\u001b[1;33m.\u001b[0m\u001b[0mappend\u001b[0m\u001b[1;33m(\u001b[0m\u001b[1;33m(\u001b[0m\u001b[0mitem_key\u001b[0m\u001b[1;33m,\u001b[0m \u001b[0mitem_value\u001b[0m\u001b[1;33m)\u001b[0m\u001b[1;33m)\u001b[0m\u001b[1;33m\u001b[0m\u001b[0m\n",
        "\u001b[1;32m/home/gus/virt_pythons/py274/lib/python2.7/site-packages/yaml/composer.pyc\u001b[0m in \u001b[0;36mcompose_node\u001b[1;34m(self, parent, index)\u001b[0m\n\u001b[0;32m     82\u001b[0m             \u001b[0mnode\u001b[0m \u001b[1;33m=\u001b[0m \u001b[0mself\u001b[0m\u001b[1;33m.\u001b[0m\u001b[0mcompose_sequence_node\u001b[0m\u001b[1;33m(\u001b[0m\u001b[0manchor\u001b[0m\u001b[1;33m)\u001b[0m\u001b[1;33m\u001b[0m\u001b[0m\n\u001b[0;32m     83\u001b[0m         \u001b[1;32melif\u001b[0m \u001b[0mself\u001b[0m\u001b[1;33m.\u001b[0m\u001b[0mcheck_event\u001b[0m\u001b[1;33m(\u001b[0m\u001b[0mMappingStartEvent\u001b[0m\u001b[1;33m)\u001b[0m\u001b[1;33m:\u001b[0m\u001b[1;33m\u001b[0m\u001b[0m\n\u001b[1;32m---> 84\u001b[1;33m             \u001b[0mnode\u001b[0m \u001b[1;33m=\u001b[0m \u001b[0mself\u001b[0m\u001b[1;33m.\u001b[0m\u001b[0mcompose_mapping_node\u001b[0m\u001b[1;33m(\u001b[0m\u001b[0manchor\u001b[0m\u001b[1;33m)\u001b[0m\u001b[1;33m\u001b[0m\u001b[0m\n\u001b[0m\u001b[0;32m     85\u001b[0m         \u001b[0mself\u001b[0m\u001b[1;33m.\u001b[0m\u001b[0mascend_resolver\u001b[0m\u001b[1;33m(\u001b[0m\u001b[1;33m)\u001b[0m\u001b[1;33m\u001b[0m\u001b[0m\n\u001b[0;32m     86\u001b[0m         \u001b[1;32mreturn\u001b[0m \u001b[0mnode\u001b[0m\u001b[1;33m\u001b[0m\u001b[0m\n",
        "\u001b[1;32m/home/gus/virt_pythons/py274/lib/python2.7/site-packages/yaml/composer.pyc\u001b[0m in \u001b[0;36mcompose_mapping_node\u001b[1;34m(self, anchor)\u001b[0m\n\u001b[0;32m    125\u001b[0m         \u001b[1;32mif\u001b[0m \u001b[0manchor\u001b[0m \u001b[1;32mis\u001b[0m \u001b[1;32mnot\u001b[0m \u001b[0mNone\u001b[0m\u001b[1;33m:\u001b[0m\u001b[1;33m\u001b[0m\u001b[0m\n\u001b[0;32m    126\u001b[0m             \u001b[0mself\u001b[0m\u001b[1;33m.\u001b[0m\u001b[0manchors\u001b[0m\u001b[1;33m[\u001b[0m\u001b[0manchor\u001b[0m\u001b[1;33m]\u001b[0m \u001b[1;33m=\u001b[0m \u001b[0mnode\u001b[0m\u001b[1;33m\u001b[0m\u001b[0m\n\u001b[1;32m--> 127\u001b[1;33m         \u001b[1;32mwhile\u001b[0m \u001b[1;32mnot\u001b[0m \u001b[0mself\u001b[0m\u001b[1;33m.\u001b[0m\u001b[0mcheck_event\u001b[0m\u001b[1;33m(\u001b[0m\u001b[0mMappingEndEvent\u001b[0m\u001b[1;33m)\u001b[0m\u001b[1;33m:\u001b[0m\u001b[1;33m\u001b[0m\u001b[0m\n\u001b[0m\u001b[0;32m    128\u001b[0m             \u001b[1;31m#key_event = self.peek_event()\u001b[0m\u001b[1;33m\u001b[0m\u001b[1;33m\u001b[0m\u001b[0m\n\u001b[0;32m    129\u001b[0m             \u001b[0mitem_key\u001b[0m \u001b[1;33m=\u001b[0m \u001b[0mself\u001b[0m\u001b[1;33m.\u001b[0m\u001b[0mcompose_node\u001b[0m\u001b[1;33m(\u001b[0m\u001b[0mnode\u001b[0m\u001b[1;33m,\u001b[0m \u001b[0mNone\u001b[0m\u001b[1;33m)\u001b[0m\u001b[1;33m\u001b[0m\u001b[0m\n",
        "\u001b[1;32m/home/gus/virt_pythons/py274/lib/python2.7/site-packages/yaml/parser.pyc\u001b[0m in \u001b[0;36mcheck_event\u001b[1;34m(self, *choices)\u001b[0m\n\u001b[0;32m     96\u001b[0m         \u001b[1;32mif\u001b[0m \u001b[0mself\u001b[0m\u001b[1;33m.\u001b[0m\u001b[0mcurrent_event\u001b[0m \u001b[1;32mis\u001b[0m \u001b[0mNone\u001b[0m\u001b[1;33m:\u001b[0m\u001b[1;33m\u001b[0m\u001b[0m\n\u001b[0;32m     97\u001b[0m             \u001b[1;32mif\u001b[0m \u001b[0mself\u001b[0m\u001b[1;33m.\u001b[0m\u001b[0mstate\u001b[0m\u001b[1;33m:\u001b[0m\u001b[1;33m\u001b[0m\u001b[0m\n\u001b[1;32m---> 98\u001b[1;33m                 \u001b[0mself\u001b[0m\u001b[1;33m.\u001b[0m\u001b[0mcurrent_event\u001b[0m \u001b[1;33m=\u001b[0m \u001b[0mself\u001b[0m\u001b[1;33m.\u001b[0m\u001b[0mstate\u001b[0m\u001b[1;33m(\u001b[0m\u001b[1;33m)\u001b[0m\u001b[1;33m\u001b[0m\u001b[0m\n\u001b[0m\u001b[0;32m     99\u001b[0m         \u001b[1;32mif\u001b[0m \u001b[0mself\u001b[0m\u001b[1;33m.\u001b[0m\u001b[0mcurrent_event\u001b[0m \u001b[1;32mis\u001b[0m \u001b[1;32mnot\u001b[0m \u001b[0mNone\u001b[0m\u001b[1;33m:\u001b[0m\u001b[1;33m\u001b[0m\u001b[0m\n\u001b[0;32m    100\u001b[0m             \u001b[1;32mif\u001b[0m \u001b[1;32mnot\u001b[0m \u001b[0mchoices\u001b[0m\u001b[1;33m:\u001b[0m\u001b[1;33m\u001b[0m\u001b[0m\n",
        "\u001b[1;32m/home/gus/virt_pythons/py274/lib/python2.7/site-packages/yaml/parser.pyc\u001b[0m in \u001b[0;36mparse_block_mapping_key\u001b[1;34m(self)\u001b[0m\n\u001b[0;32m    437\u001b[0m             \u001b[0mtoken\u001b[0m \u001b[1;33m=\u001b[0m \u001b[0mself\u001b[0m\u001b[1;33m.\u001b[0m\u001b[0mpeek_token\u001b[0m\u001b[1;33m(\u001b[0m\u001b[1;33m)\u001b[0m\u001b[1;33m\u001b[0m\u001b[0m\n\u001b[0;32m    438\u001b[0m             raise ParserError(\"while parsing a block mapping\", self.marks[-1],\n\u001b[1;32m--> 439\u001b[1;33m                     \"expected <block end>, but found %r\" % token.id, token.start_mark)\n\u001b[0m\u001b[0;32m    440\u001b[0m         \u001b[0mtoken\u001b[0m \u001b[1;33m=\u001b[0m \u001b[0mself\u001b[0m\u001b[1;33m.\u001b[0m\u001b[0mget_token\u001b[0m\u001b[1;33m(\u001b[0m\u001b[1;33m)\u001b[0m\u001b[1;33m\u001b[0m\u001b[0m\n\u001b[0;32m    441\u001b[0m         \u001b[0mevent\u001b[0m \u001b[1;33m=\u001b[0m \u001b[0mMappingEndEvent\u001b[0m\u001b[1;33m(\u001b[0m\u001b[0mtoken\u001b[0m\u001b[1;33m.\u001b[0m\u001b[0mstart_mark\u001b[0m\u001b[1;33m,\u001b[0m \u001b[0mtoken\u001b[0m\u001b[1;33m.\u001b[0m\u001b[0mend_mark\u001b[0m\u001b[1;33m)\u001b[0m\u001b[1;33m\u001b[0m\u001b[0m\n",
        "\u001b[1;31mParserError\u001b[0m: while parsing a block mapping\n  in \"../../../Dropbox/common/gfunc/Aa_Ag_Cq_gfunc.yaml\", line 12, column 5\nexpected <block end>, but found '<scalar>'\n  in \"../../../Dropbox/common/gfunc/Aa_Ag_Cq_gfunc.yaml\", line 18, column 12"
       ]
      },
      {
       "ename": "NameError",
       "evalue": "name 'trap' is not defined",
       "output_type": "pyerr",
       "traceback": [
        "\u001b[1;31m---------------------------------------------------------------------------\u001b[0m\n\u001b[1;31mNameError\u001b[0m                                 Traceback (most recent call last)",
        "\u001b[1;32m<ipython-input-26-59c2d6a38916>\u001b[0m in \u001b[0;36m<module>\u001b[1;34m()\u001b[0m\n\u001b[0;32m      2\u001b[0m \u001b[0mget_ipython\u001b[0m\u001b[1;33m(\u001b[0m\u001b[1;33m)\u001b[0m\u001b[1;33m.\u001b[0m\u001b[0mmagic\u001b[0m\u001b[1;33m(\u001b[0m\u001b[1;34mu'run -i ../../../Dropbox/repos/git/gfunc/src/gfunc/scripts/gfunc_build_n_way_one2one.py ../../../Dropbox/common/gfunc/Aa_Ag_Cq_gfunc.yaml'\u001b[0m\u001b[1;33m)\u001b[0m\u001b[1;33m\u001b[0m\u001b[0m\n\u001b[0;32m      3\u001b[0m \u001b[1;33m\u001b[0m\u001b[0m\n\u001b[1;32m----> 4\u001b[1;33m \u001b[0mgraphHandler\u001b[0m\u001b[1;33m,\u001b[0m\u001b[0mgraphBuilder\u001b[0m\u001b[1;33m,\u001b[0m\u001b[0mn_way_ortho_table\u001b[0m\u001b[1;33m,\u001b[0m\u001b[0mortho_parser\u001b[0m \u001b[1;33m=\u001b[0m \u001b[0mtrap\u001b[0m\u001b[1;33m\u001b[0m\u001b[0m\n\u001b[0m\u001b[0;32m      5\u001b[0m \u001b[1;33m\u001b[0m\u001b[0m\n\u001b[0;32m      6\u001b[0m \u001b[0medges\u001b[0m \u001b[1;33m=\u001b[0m \u001b[0mgraphHandler\u001b[0m\u001b[1;33m.\u001b[0m\u001b[0medge_dict\u001b[0m\u001b[1;33m.\u001b[0m\u001b[0mvalues\u001b[0m\u001b[1;33m(\u001b[0m\u001b[1;33m)\u001b[0m\u001b[1;33m\u001b[0m\u001b[0m\n",
        "\u001b[1;31mNameError\u001b[0m: name 'trap' is not defined"
       ]
      }
     ],
     "prompt_number": 26
    },
    {
     "cell_type": "markdown",
     "metadata": {},
     "source": [
      "#### Function to calculate and return the mean PTCI values for $N$-way ortholog subgraphs if and only if all edges successfully generated non-None value PTCI results."
     ]
    },
    {
     "cell_type": "code",
     "collapsed": false,
     "input": [
      "def calc_mean_ptcis(graphHandler,n_way_ortho_table,kind='rpd',quiet=True,w_min=1.0,w_max=1.1):\n",
      "    \"\"\"\n",
      "    returns list of n-way averaged PTCI values for N-way ortholog subgraphs if and only if \n",
      "    all edges successfully generated non-None value PTCI results.\n",
      "    \"\"\"\n",
      "    \n",
      "    # dictionary of nodes/edges indexed by gene names\n",
      "    node_dict = graphHandler.node_dict\n",
      "    edge_dict = graphHandler.edge_dict\n",
      "    \n",
      "    graph = graphHandler.graph \n",
      "    \n",
      "    mean_ptcis = []\n",
      "    \n",
      "    # calculate all pairwise combinations of indexes\n",
      "    # so that each ortho-edge of n-way orthos are obtained\n",
      "    \n",
      "    index_combos = [ x for x in xuniqueCombinations(range(len(n_way_ortho_table.columns)),2)]\n",
      "    \n",
      "    \n",
      "    for node_list in n_way_ortho_table.itertuples():\n",
      "        \n",
      "        node_list = node_list[1:]\n",
      "        \n",
      "        ortho_edges = []\n",
      "        for i in index_combos:\n",
      "            key = tuple(sorted([node_list[i[0]],node_list[i[1]]]))\n",
      "            \n",
      "            try:\n",
      "                ortho_edges.append(edge_dict[key])\n",
      "            except KeyError:\n",
      "                break\n",
      "                \n",
      "        ptcis = [dev.get_ptci(edge,kind,w_min,w_max) for edge in ortho_edges]\n",
      "        \n",
      "        try:\n",
      "            mean_ptci = np.mean(ptcis)\n",
      "            mean_ptcis.append(mean_ptci)\n",
      "        except TypeError:\n",
      "            pass\n",
      "\n",
      "    return mean_ptcis\n"
     ],
     "language": "python",
     "metadata": {},
     "outputs": []
    },
    {
     "cell_type": "markdown",
     "metadata": {},
     "source": [
      "#### Calulate the REAL DATA mean PTCI values"
     ]
    },
    {
     "cell_type": "code",
     "collapsed": false,
     "input": [
      "n_way_mean_ptcis = calc_mean_ptcis(graphHandler,n_way_ortho_table,kind=master_kind,quiet=True,w_min=master_w_min,w_max=master_w_max)"
     ],
     "language": "python",
     "metadata": {},
     "outputs": []
    },
    {
     "cell_type": "markdown",
     "metadata": {},
     "source": [
      "#### Function to calculate RANDOMIZED mean PTCI values to generate many NULL distributions"
     ]
    },
    {
     "cell_type": "code",
     "collapsed": false,
     "input": [
      "def get_null_mean_ptci_distributions(graphHandler,graphBuilder,n_way_ortho_table,ortho_parser,reps=50,kind='rpd',quiet=True,w_min=1.0,w_max=1.1):\n",
      "    \"\"\"\n",
      "    \"\"\"\n",
      "    null_mean_ptci_distributions = []\n",
      "\n",
      "    for rep in range(reps):\n",
      "        # scramble edges for this rep and set new r&p vals\n",
      "        reset_random_edges(graphHandler,graphBuilder,n_way_ortho_table,ortho_parser)\n",
      "        graphHandler.measure_relations()\n",
      "        \n",
      "        \n",
      "        # do prep\n",
      "        null_edges = graphHandler.edge_dict.values()\n",
      "        null_r_and_p_values = get_edge_r_and_p_vals(null_edges,quiet)\n",
      "        null_r_values = [null_r_and_p_values[i][0] for i in range(len(null_r_and_p_values))]\n",
      "        null_z_stats = m.get_z_score_stats(null_r_values)\n",
      "        set_z_vals(graphHandler,null_z_stats,use_center='median')\n",
      "        \n",
      "        # calculate null ptci vals\n",
      "        null_mean_ptci_vals = calc_mean_ptcis(graphHandler,n_way_ortho_table,kind,quiet,w_min,w_max)\n",
      "        \n",
      "        # collect null ptci distribution\n",
      "        null_mean_ptci_distributions.append(null_mean_ptci_vals)\n",
      "        \n",
      "    \n",
      "    return null_mean_ptci_distributions"
     ],
     "language": "python",
     "metadata": {},
     "outputs": [],
     "prompt_number": 27
    },
    {
     "cell_type": "markdown",
     "metadata": {},
     "source": [
      "#### Calculate RANDOMIZED mean PTCI values"
     ]
    },
    {
     "cell_type": "code",
     "collapsed": false,
     "input": [
      "null_mean_ptci_distributions = get_null_mean_ptci_distributions(graphHandler,\n",
      "                                                                graphBuilder,\n",
      "                                                                n_way_ortho_table,\n",
      "                                                                ortho_parser,\n",
      "                                                                reps=5,\n",
      "                                                                kind=master_kind,\n",
      "                                                                quiet=True,\n",
      "                                                                w_min=master_w_min,\n",
      "                                                                w_max=master_w_max)"
     ],
     "language": "python",
     "metadata": {},
     "outputs": [
      {
       "ename": "NameError",
       "evalue": "name 'graphHandler' is not defined",
       "output_type": "pyerr",
       "traceback": [
        "\u001b[1;31m---------------------------------------------------------------------------\u001b[0m\n\u001b[1;31mNameError\u001b[0m                                 Traceback (most recent call last)",
        "\u001b[1;32m<ipython-input-28-1c6769242d74>\u001b[0m in \u001b[0;36m<module>\u001b[1;34m()\u001b[0m\n\u001b[1;32m----> 1\u001b[1;33m null_mean_ptci_distributions = get_null_mean_ptci_distributions(graphHandler,\n\u001b[0m\u001b[0;32m      2\u001b[0m                                                                 \u001b[0mgraphBuilder\u001b[0m\u001b[1;33m,\u001b[0m\u001b[1;33m\u001b[0m\u001b[0m\n\u001b[0;32m      3\u001b[0m                                                                 \u001b[0mn_way_ortho_table\u001b[0m\u001b[1;33m,\u001b[0m\u001b[1;33m\u001b[0m\u001b[0m\n\u001b[0;32m      4\u001b[0m                                                                 \u001b[0mortho_parser\u001b[0m\u001b[1;33m,\u001b[0m\u001b[1;33m\u001b[0m\u001b[0m\n\u001b[0;32m      5\u001b[0m                                                                 \u001b[0mreps\u001b[0m\u001b[1;33m=\u001b[0m\u001b[1;36m5\u001b[0m\u001b[1;33m,\u001b[0m\u001b[1;33m\u001b[0m\u001b[0m\n",
        "\u001b[1;31mNameError\u001b[0m: name 'graphHandler' is not defined"
       ]
      }
     ],
     "prompt_number": 28
    },
    {
     "cell_type": "markdown",
     "metadata": {},
     "source": [
      "#### Histogram overlays contrasting the REAL and NULL distributions of $N$-way orthologous PTCI values"
     ]
    },
    {
     "cell_type": "code",
     "collapsed": false,
     "input": [
      "# Show what the actual data looks like for comparison\n",
      "real_hist_data = hist(n_way_mean_ptcis,bins=50,histtype='stepfilled',cumulative=False, color='c',alpha=.7, label='Real Data')\n",
      "real_data_bins = real_hist_data[1]\n",
      "\n",
      "# Graph null distributions as grey slightly transparent histograms\n",
      "null_label = 'Null Data'\n",
      "null_hists_data = []\n",
      "for null_dist in null_mean_ptci_distributions:\n",
      "    nhd = hist(null_dist,bins=50,histtype='step',cumulative=False, color='k',alpha=.1,label=null_label)\n",
      "    null_label = None\n",
      "    null_hists_data.append(nhd)\n",
      "\n",
      "xlabel('ptci (kind: %s, %s-%s)' % (master_kind, master_w_min, master_w_max))\n",
      "ylabel('number of edges in each bin')\n",
      "title('null distributions for mean edge correlations (%s reps)' % (len(null_mean_ptci_distributions)))\n",
      "legend()"
     ],
     "language": "python",
     "metadata": {},
     "outputs": []
    },
    {
     "cell_type": "markdown",
     "metadata": {},
     "source": [
      "#### Plot NULL subtracted data"
     ]
    },
    {
     "cell_type": "code",
     "collapsed": false,
     "input": [
      "null_subtracted = real_hist_data[0] - null_hists_data[0][0]\n",
      "\n",
      "plot(real_data_bins[:-1],null_subtracted,'c')\n",
      "xlabel('ptci (kind: %s, %s-%s)' % (master_kind, master_w_min, master_w_max))\n",
      "axvline(ls='--')\n",
      "axhline(ls='--')\n",
      "ylabel('number of edges in each bin (real vs null)')\n",
      "#title('null distributions for pairwise edge correlations (%s reps)' % (len(null_pairwise_ptci_distributions)))"
     ],
     "language": "python",
     "metadata": {},
     "outputs": []
    }
   ],
   "metadata": {}
  }
 ]
}