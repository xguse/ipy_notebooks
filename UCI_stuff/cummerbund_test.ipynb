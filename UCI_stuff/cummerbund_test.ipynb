{
 "metadata": {
  "name": ""
 },
 "nbformat": 3,
 "nbformat_minor": 0,
 "worksheets": [
  {
   "cells": [
    {
     "cell_type": "code",
     "collapsed": false,
     "input": [
      "from rpy2.robjects import r\n",
      "from rpy2.rinterface import RRuntimeError"
     ],
     "language": "python",
     "metadata": {},
     "outputs": [],
     "prompt_number": 1
    },
    {
     "cell_type": "code",
     "collapsed": false,
     "input": [
      "r.library('cummeRbund')"
     ],
     "language": "python",
     "metadata": {},
     "outputs": [
      {
       "output_type": "stream",
       "stream": "stdout",
       "text": [
        "Loading required package: BiocGenerics\n",
        "Loading required package: parallel\n",
        "\n",
        "Attaching package: \u2018BiocGenerics\u2019\n",
        "\n"
       ]
      },
      {
       "output_type": "stream",
       "stream": "stdout",
       "text": [
        "The following objects are masked from \u2018package:parallel\u2019:\n",
        "\n",
        "    clusterApply, clusterApplyLB, clusterCall, clusterEvalQ,\n",
        "    clusterExport, clusterMap, parApply, parCapply, parLapply,\n",
        "    parLapplyLB, parRapply, parSapply, parSapplyLB\n",
        "\n",
        "The following object is masked from \u2018package:stats\u2019:\n",
        "\n",
        "    xtabs\n",
        "\n",
        "The following objects are masked from \u2018package:base\u2019:\n",
        "\n",
        "    anyDuplicated, as.data.frame, cbind, colnames, duplicated, eval,\n",
        "    Filter, Find, get, intersect, lapply, Map, mapply, match, mget,\n",
        "    order, paste, pmax, pmax.int, pmin, pmin.int, Position, rank,\n",
        "    rbind, Reduce, rep.int, rownames, sapply, setdiff, sort, table,\n",
        "    tapply, union, unique, unlist\n",
        "\n",
        "Loading required package: RSQLite\n",
        "Loading required package: DBI\n",
        "Loading required package: ggplot2\n"
       ]
      },
      {
       "output_type": "stream",
       "stream": "stdout",
       "text": [
        "Loading required package: reshape2\n",
        "Loading required package: fastcluster\n",
        "\n",
        "Attaching package: \u2018fastcluster\u2019\n",
        "\n",
        "The following object is masked from \u2018package:stats\u2019:\n",
        "\n",
        "    hclust\n",
        "\n",
        "Loading required package: rtracklayer\n",
        "Loading required package: GenomicRanges\n",
        "Loading required package: IRanges\n"
       ]
      },
      {
       "output_type": "stream",
       "stream": "stdout",
       "text": [
        "Loading required package: Gviz\n",
        "Loading required package: grid\n",
        "\n",
        "Attaching package: \u2018cummeRbund\u2019\n",
        "\n"
       ]
      },
      {
       "output_type": "stream",
       "stream": "stdout",
       "text": [
        "The following object is masked from \u2018package:GenomicRanges\u2019:\n",
        "\n",
        "    promoters\n",
        "\n",
        "The following object is masked from \u2018package:IRanges\u2019:\n",
        "\n",
        "    promoters\n",
        "\n"
       ]
      },
      {
       "metadata": {},
       "output_type": "pyout",
       "prompt_number": 2,
       "text": [
        "<StrVector - Python:0x5248cb0 / R:0xc7425b0>\n",
        "['cumm..., 'Gviz', 'grid', ..., 'data..., 'meth..., 'base']"
       ]
      }
     ],
     "prompt_number": 2
    },
    {
     "cell_type": "code",
     "collapsed": false,
     "input": [
      "AaCuff = r.readCufflinks('/home/gus/Dropbox/common/projects/Aa_Ag_Cq_As/RNAseq_results/bio/dunnw/data/4mosqs_mg_RNAseq/gtf_strict/cuffdiff_Aa_00_0.Aa_04_0.Aa_06_0.Aa_08_0.Aa_10_0/')"
     ],
     "language": "python",
     "metadata": {},
     "outputs": [],
     "prompt_number": 3
    },
    {
     "cell_type": "code",
     "collapsed": false,
     "input": [
      "print AaCuff"
     ],
     "language": "python",
     "metadata": {},
     "outputs": [
      {
       "output_type": "stream",
       "stream": "stdout",
       "text": [
        "CuffSet instance with:\n",
        "\t 5 samples\n",
        "\t 16298 genes\n",
        "\t 19067 isoforms\n",
        "\t 0 TSS\n",
        "\t 0 CDS\n",
        "\t 65192 promoters\n",
        "\t 0 splicing\n",
        "\t 0 relCDS\n",
        "\n"
       ]
      }
     ],
     "prompt_number": 5
    },
    {
     "cell_type": "code",
     "collapsed": false,
     "input": [
      "AaTargetGroup = r.findSimilar(AaCuff,'AAEL003318',20)"
     ],
     "language": "python",
     "metadata": {},
     "outputs": [
      {
       "output_type": "stream",
       "stream": "stdout",
       "text": [
        "Using tracking_id, sample_name as id variables\n",
        "Getting gene information:"
       ]
      },
      {
       "output_type": "stream",
       "stream": "stdout",
       "text": [
        "\n",
        "\tFPKM\n",
        "\tDifferential Expression Data"
       ]
      },
      {
       "output_type": "stream",
       "stream": "stdout",
       "text": [
        "\n",
        "\tAnnotation Data"
       ]
      },
      {
       "output_type": "stream",
       "stream": "stdout",
       "text": [
        "\n",
        "\tReplicate FPKMs\n",
        "\tCounts"
       ]
      },
      {
       "output_type": "stream",
       "stream": "stdout",
       "text": [
        "\n",
        "Getting isoforms information:"
       ]
      },
      {
       "output_type": "stream",
       "stream": "stdout",
       "text": [
        "\n",
        "\tFPKM\n",
        "\tDifferential Expression Data\n",
        "\tAnnotation Data\n",
        "\tReplicate FPKMs"
       ]
      },
      {
       "output_type": "stream",
       "stream": "stdout",
       "text": [
        "\n",
        "\tCounts\n",
        "Getting CDS information:\n",
        "\tFPKM\n",
        "\tDifferential Expression Data\n",
        "\tAnnotation Data\n",
        "\tReplicate FPKMs\n",
        "\tCounts\n",
        "Getting TSS information:\n",
        "\tFPKM\n",
        "\tDifferential Expression Data\n",
        "\tAnnotation Data\n",
        "\tReplicate FPKMs\n",
        "\tCounts\n",
        "Getting promoter information:\n",
        "\tdistData\n",
        "Getting splicing information:"
       ]
      },
      {
       "output_type": "stream",
       "stream": "stdout",
       "text": [
        "\n",
        "\tdistData\n",
        "Getting relCDS information:\n",
        "\tdistData\n"
       ]
      }
     ],
     "prompt_number": 8
    },
    {
     "cell_type": "code",
     "collapsed": false,
     "input": [],
     "language": "python",
     "metadata": {},
     "outputs": []
    }
   ],
   "metadata": {}
  }
 ]
}