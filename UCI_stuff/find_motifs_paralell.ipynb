{
 "metadata": {
  "name": ""
 },
 "nbformat": 3,
 "nbformat_minor": 0,
 "worksheets": [
  {
   "cells": [
    {
     "cell_type": "code",
     "collapsed": false,
     "input": [
      "from gfunc.dev import motifs as dev_motifs\n",
      "from gfunc import motifs as gmotifs\n",
      "\n",
      "import pprocess"
     ],
     "language": "python",
     "metadata": {},
     "outputs": [],
     "prompt_number": 1
    },
    {
     "cell_type": "markdown",
     "metadata": {},
     "source": [
      "#### Setup parameter variables:"
     ]
    },
    {
     "cell_type": "code",
     "collapsed": false,
     "input": [
      "pssm_matrix_path = '/home/gus/Dropbox/common/motif_databases/Jaspar_2012_05_20/Archive/jaspar_CORE/non_redundant/by_tax_group/insects/matrix_only/matrix_only.txt'\n",
      "\n",
      "fasta_list = ['/home/gus/Dropbox/common/korea_data/orthologs/Aa_AaAgCq_ortho_2000up.fasta',\n",
      "              '/home/gus/Dropbox/common/korea_data/orthologs/Ag_AaAgCq_ortho_2000up.fasta',\n",
      "              '/home/gus/Dropbox/common/korea_data/orthologs/Cq_AaAgCq_ortho_2000up.fasta']\n",
      "\n",
      "species = ['Aedes aegypti','Anopheles gambiae','Culex quinquefasciatus']\n",
      "spc_abrv = ['Aa','Ag','Cq']\n",
      "\n",
      "out_path_common = 'AaAgCq_ortho_2000up.standardized_motif_scores.Jaspar_2012_05_20_core_nr_insect.tsv'"
     ],
     "language": "python",
     "metadata": {},
     "outputs": [],
     "prompt_number": 2
    },
    {
     "cell_type": "markdown",
     "metadata": {},
     "source": [
      "#### Load PSSMs and initialize search settings:"
     ]
    },
    {
     "cell_type": "code",
     "collapsed": false,
     "input": [
      "mset = gmotifs.Motifs()"
     ],
     "language": "python",
     "metadata": {},
     "outputs": [],
     "prompt_number": 3
    },
    {
     "cell_type": "code",
     "collapsed": false,
     "input": [
      "mset.set_both_strands(False)\n",
      "mset.set_threshold(0.01)"
     ],
     "language": "python",
     "metadata": {},
     "outputs": [],
     "prompt_number": 4
    },
    {
     "cell_type": "code",
     "collapsed": false,
     "input": [
      "mset.load_JASPAR_motifs(pssm_matrix_path)"
     ],
     "language": "python",
     "metadata": {},
     "outputs": [],
     "prompt_number": 5
    },
    {
     "cell_type": "code",
     "collapsed": false,
     "input": [
      "len(mset)"
     ],
     "language": "python",
     "metadata": {},
     "outputs": [
      {
       "metadata": {},
       "output_type": "pyout",
       "prompt_number": 6,
       "text": [
        "125"
       ]
      }
     ],
     "prompt_number": 6
    },
    {
     "cell_type": "markdown",
     "metadata": {},
     "source": [
      "#### Prepare job queue for parallel searching:"
     ]
    },
    {
     "cell_type": "code",
     "collapsed": false,
     "input": [
      "queue = pprocess.Queue()"
     ],
     "language": "python",
     "metadata": {},
     "outputs": [],
     "prompt_number": 7
    },
    {
     "cell_type": "markdown",
     "metadata": {},
     "source": [
      "Generate a parallelizable version of the ***``get_and_save_motif_hits()``*** function and register it with the queue:"
     ]
    },
    {
     "cell_type": "code",
     "collapsed": false,
     "input": [
      "get_and_save_motif_hits = queue.manage(pprocess.MakeParallel(dev_motifs.get_and_save_motif_hits))"
     ],
     "language": "python",
     "metadata": {},
     "outputs": [],
     "prompt_number": 8
    },
    {
     "cell_type": "markdown",
     "metadata": {},
     "source": [
      "#### Iterate through the defined parameters and start a *``get_and_save_motif_hits()``* job for each:"
     ]
    },
    {
     "cell_type": "code",
     "collapsed": false,
     "input": [
      "for i,fasta_path in enumerate(fasta_list):\n",
      "    out_path = '%s_%s' % (spc_abrv[i],out_path_common)\n",
      "    get_and_save_motif_hits(motif_obj=mset, fasta_path=fasta_path, species=species[i], out_path=out_path)"
     ],
     "language": "python",
     "metadata": {},
     "outputs": [],
     "prompt_number": 9
    },
    {
     "cell_type": "code",
     "collapsed": false,
     "input": [],
     "language": "python",
     "metadata": {},
     "outputs": []
    }
   ],
   "metadata": {}
  }
 ]
}