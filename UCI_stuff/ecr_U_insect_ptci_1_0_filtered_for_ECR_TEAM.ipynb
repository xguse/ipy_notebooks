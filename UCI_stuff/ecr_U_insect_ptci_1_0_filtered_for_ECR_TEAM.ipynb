{
 "metadata": {
  "name": ""
 },
 "nbformat": 3,
 "nbformat_minor": 0,
 "worksheets": [
  {
   "cells": [
    {
     "cell_type": "heading",
     "level": 1,
     "metadata": {},
     "source": [
      "Load required modules"
     ]
    },
    {
     "cell_type": "code",
     "collapsed": false,
     "input": [
      "from gfunc.dev import devel as gdev\n",
      "\n",
      "from spartan.utils import cufflinks\n",
      "from spartan.utils import spandas as spd\n",
      "from spartan.utils.externals import mkdirp\n",
      "\n",
      "import numpy as np\n",
      "import pandas as pd\n",
      "from matplotlib import  pylab as plt"
     ],
     "language": "python",
     "metadata": {},
     "outputs": [
      {
       "output_type": "stream",
       "stream": "stderr",
       "text": [
        "/home/gus/virtualenvs/py275/lib/python2.7/site-packages/pytz/__init__.py:31: UserWarning: Module argparse was already imported from /home/gus/Dropbox/repos/git/khmer/python/argparse.pyc, but /home/gus/virtualenvs/py275/lib/python2.7/site-packages is being added to sys.path\n",
        "  from pkg_resources import resource_stream\n"
       ]
      }
     ],
     "prompt_number": 1
    },
    {
     "cell_type": "heading",
     "level": 1,
     "metadata": {},
     "source": [
      "Figure settings"
     ]
    },
    {
     "cell_type": "code",
     "collapsed": false,
     "input": [
      "a = 2\n",
      "rcParams['figure.figsize'] = 8*a, 6*a\n",
      "\n",
      "rcParams['font.size'] = 14"
     ],
     "language": "python",
     "metadata": {},
     "outputs": [],
     "prompt_number": 71
    },
    {
     "cell_type": "code",
     "collapsed": false,
     "input": [
      "save_figs = False\n",
      "save_dir = '/home/gus/Dropbox/repos/git/uci-thesis-latex/figures/figs/ecr_and_insects_ptci_20130903/%s_gene_profiles_from_cummerbund' % (cluster_name)\n",
      "\n",
      "mkdirp(save_dir)"
     ],
     "language": "python",
     "metadata": {},
     "outputs": [],
     "prompt_number": 72
    },
    {
     "cell_type": "code",
     "collapsed": false,
     "input": [
      "def save_figure(save_as):\n",
      "    if save_figs:\n",
      "        out_path = '%s/%s' % (save_dir.rstrip('/'),save_as)\n",
      "        print 'saving figure as: %s' % (out_path)\n",
      "        savefig(out_path)"
     ],
     "language": "python",
     "metadata": {},
     "outputs": [],
     "prompt_number": 73
    },
    {
     "cell_type": "heading",
     "level": 1,
     "metadata": {},
     "source": [
      "Load EcR team TFBS results"
     ]
    },
    {
     "cell_type": "code",
     "collapsed": false,
     "input": [
      "AaECR = '/home/gus/Dropbox/common/projects/Aa_Ag_Cq_As/gfunc_stuff/motif_searches/Aa_AaAgCq_ortho_2000up.standardized_motif_scores.ecr_team.tsv'\n",
      "AgECR = '/home/gus/Dropbox/common/projects/Aa_Ag_Cq_As/gfunc_stuff/motif_searches/Ag_AaAgCq_ortho_2000up.standardized_motif_scores.ecr_team.tsv'\n",
      "CqECR = '/home/gus/Dropbox/common/projects/Aa_Ag_Cq_As/gfunc_stuff/motif_searches/Cq_AaAgCq_ortho_2000up.standardized_motif_scores.ecr_team.tsv'\n",
      "\n",
      "AaECR = pd.read_table(AaECR, index_col=['species','seq_name'])\n",
      "AgECR = pd.read_table(AgECR, index_col=['species','seq_name'])\n",
      "CqECR = pd.read_table(CqECR, index_col=['species','seq_name'])\n",
      "\n"
     ],
     "language": "python",
     "metadata": {},
     "outputs": [],
     "prompt_number": 44
    },
    {
     "cell_type": "code",
     "collapsed": false,
     "input": [
      "ECRs = pd.concat([AaECR,AgECR,CqECR])"
     ],
     "language": "python",
     "metadata": {},
     "outputs": [],
     "prompt_number": 47
    },
    {
     "cell_type": "heading",
     "level": 3,
     "metadata": {},
     "source": [
      "Convert negative values (below average standard scores) to zero and sum the rows to obtain the 'affinity' score for this TFBS set against each gene"
     ]
    },
    {
     "cell_type": "code",
     "collapsed": false,
     "input": [
      "def neg_to_zero(x):\n",
      "    if x < 0:\n",
      "        return 0\n",
      "    else:\n",
      "        return x"
     ],
     "language": "python",
     "metadata": {},
     "outputs": [],
     "prompt_number": 64
    },
    {
     "cell_type": "code",
     "collapsed": false,
     "input": [
      "ECRs_noNeg = pd.DataFrame(ECRs.applymap(neg_to_zero))\n"
     ],
     "language": "python",
     "metadata": {},
     "outputs": [],
     "prompt_number": 72
    },
    {
     "cell_type": "code",
     "collapsed": false,
     "input": [
      "ECRs_noNeg.head()"
     ],
     "language": "python",
     "metadata": {},
     "outputs": [
      {
       "html": [
        "<div style=\"max-height:1000px;max-width:1500px;overflow:auto;\">\n",
        "<table border=\"1\" class=\"dataframe\">\n",
        "  <thead>\n",
        "    <tr style=\"text-align: right;\">\n",
        "      <th></th>\n",
        "      <th></th>\n",
        "      <th>MA0010_1_br_Z1</th>\n",
        "      <th>MA0011_1_br_Z2</th>\n",
        "      <th>MA0012_1_br_Z3</th>\n",
        "      <th>MA0013_1_br_Z4</th>\n",
        "      <th>MA0016_1_usp</th>\n",
        "      <th>MA0026_1_Eip74EF</th>\n",
        "      <th>MA0225_1_ftz</th>\n",
        "      <th>MA0446_1_fkh</th>\n",
        "      <th>MA0452_1_Kr</th>\n",
        "      <th>MA0460_1_ttk</th>\n",
        "      <th>WAD0001_EcR_USP_1</th>\n",
        "      <th>WAD0002_EcR_USP_bergman</th>\n",
        "    </tr>\n",
        "    <tr>\n",
        "      <th>species</th>\n",
        "      <th>seq_name</th>\n",
        "      <th></th>\n",
        "      <th></th>\n",
        "      <th></th>\n",
        "      <th></th>\n",
        "      <th></th>\n",
        "      <th></th>\n",
        "      <th></th>\n",
        "      <th></th>\n",
        "      <th></th>\n",
        "      <th></th>\n",
        "      <th></th>\n",
        "      <th></th>\n",
        "    </tr>\n",
        "  </thead>\n",
        "  <tbody>\n",
        "    <tr>\n",
        "      <th rowspan=\"5\" valign=\"top\">Aedes aegypti</th>\n",
        "      <th>AAEL000003</th>\n",
        "      <td> 0.115603</td>\n",
        "      <td> 0.000000</td>\n",
        "      <td> 0.726955</td>\n",
        "      <td> 0.429547</td>\n",
        "      <td> 0.000000</td>\n",
        "      <td> 0.096638</td>\n",
        "      <td> 0.808473</td>\n",
        "      <td> 1.863187</td>\n",
        "      <td> 0.000000</td>\n",
        "      <td> 0.000000</td>\n",
        "      <td> 0.000000</td>\n",
        "      <td> 0.000000</td>\n",
        "    </tr>\n",
        "    <tr>\n",
        "      <th>AAEL000004</th>\n",
        "      <td> 0.166872</td>\n",
        "      <td> 0.000000</td>\n",
        "      <td> 0.102959</td>\n",
        "      <td> 0.375292</td>\n",
        "      <td> 0.000000</td>\n",
        "      <td> 0.146884</td>\n",
        "      <td> 0.000972</td>\n",
        "      <td> 0.000000</td>\n",
        "      <td> 0.000000</td>\n",
        "      <td> 1.876799</td>\n",
        "      <td> 1.358200</td>\n",
        "      <td> 0.189699</td>\n",
        "    </tr>\n",
        "    <tr>\n",
        "      <th>AAEL000005</th>\n",
        "      <td> 0.000000</td>\n",
        "      <td> 0.000000</td>\n",
        "      <td> 0.261254</td>\n",
        "      <td> 0.513824</td>\n",
        "      <td> 0.266339</td>\n",
        "      <td> 0.609032</td>\n",
        "      <td> 0.000000</td>\n",
        "      <td> 0.000000</td>\n",
        "      <td> 0.756399</td>\n",
        "      <td> 0.000000</td>\n",
        "      <td> 0.066025</td>\n",
        "      <td> 2.258276</td>\n",
        "    </tr>\n",
        "    <tr>\n",
        "      <th>AAEL000007</th>\n",
        "      <td> 0.419408</td>\n",
        "      <td> 0.126167</td>\n",
        "      <td> 0.589447</td>\n",
        "      <td> 0.243046</td>\n",
        "      <td> 0.348306</td>\n",
        "      <td> 0.000000</td>\n",
        "      <td> 0.858599</td>\n",
        "      <td> 0.133129</td>\n",
        "      <td> 0.254600</td>\n",
        "      <td> 0.085476</td>\n",
        "      <td> 0.875650</td>\n",
        "      <td> 1.402760</td>\n",
        "    </tr>\n",
        "    <tr>\n",
        "      <th>AAEL000013</th>\n",
        "      <td> 0.108542</td>\n",
        "      <td> 0.000000</td>\n",
        "      <td> 0.931295</td>\n",
        "      <td> 0.085770</td>\n",
        "      <td> 1.247607</td>\n",
        "      <td> 0.000000</td>\n",
        "      <td> 0.000000</td>\n",
        "      <td> 0.521037</td>\n",
        "      <td> 0.000000</td>\n",
        "      <td> 1.165736</td>\n",
        "      <td> 1.265133</td>\n",
        "      <td> 0.865542</td>\n",
        "    </tr>\n",
        "  </tbody>\n",
        "</table>\n",
        "</div>"
       ],
       "metadata": {},
       "output_type": "pyout",
       "prompt_number": 73,
       "text": [
        "                          MA0010_1_br_Z1  MA0011_1_br_Z2  MA0012_1_br_Z3  \\\n",
        "species       seq_name                                                     \n",
        "Aedes aegypti AAEL000003        0.115603        0.000000        0.726955   \n",
        "              AAEL000004        0.166872        0.000000        0.102959   \n",
        "              AAEL000005        0.000000        0.000000        0.261254   \n",
        "              AAEL000007        0.419408        0.126167        0.589447   \n",
        "              AAEL000013        0.108542        0.000000        0.931295   \n",
        "\n",
        "                          MA0013_1_br_Z4  MA0016_1_usp  MA0026_1_Eip74EF  \\\n",
        "species       seq_name                                                     \n",
        "Aedes aegypti AAEL000003        0.429547      0.000000          0.096638   \n",
        "              AAEL000004        0.375292      0.000000          0.146884   \n",
        "              AAEL000005        0.513824      0.266339          0.609032   \n",
        "              AAEL000007        0.243046      0.348306          0.000000   \n",
        "              AAEL000013        0.085770      1.247607          0.000000   \n",
        "\n",
        "                          MA0225_1_ftz  MA0446_1_fkh  MA0452_1_Kr  \\\n",
        "species       seq_name                                              \n",
        "Aedes aegypti AAEL000003      0.808473      1.863187     0.000000   \n",
        "              AAEL000004      0.000972      0.000000     0.000000   \n",
        "              AAEL000005      0.000000      0.000000     0.756399   \n",
        "              AAEL000007      0.858599      0.133129     0.254600   \n",
        "              AAEL000013      0.000000      0.521037     0.000000   \n",
        "\n",
        "                          MA0460_1_ttk  WAD0001_EcR_USP_1  \\\n",
        "species       seq_name                                      \n",
        "Aedes aegypti AAEL000003      0.000000           0.000000   \n",
        "              AAEL000004      1.876799           1.358200   \n",
        "              AAEL000005      0.000000           0.066025   \n",
        "              AAEL000007      0.085476           0.875650   \n",
        "              AAEL000013      1.165736           1.265133   \n",
        "\n",
        "                          WAD0002_EcR_USP_bergman  \n",
        "species       seq_name                             \n",
        "Aedes aegypti AAEL000003                 0.000000  \n",
        "              AAEL000004                 0.189699  \n",
        "              AAEL000005                 2.258276  \n",
        "              AAEL000007                 1.402760  \n",
        "              AAEL000013                 0.865542  "
       ]
      }
     ],
     "prompt_number": 73
    },
    {
     "cell_type": "code",
     "collapsed": false,
     "input": [
      "ECRs_noNeg_sumGene = pd.DataFrame(ECRs_noNeg.sum(1))"
     ],
     "language": "python",
     "metadata": {},
     "outputs": [],
     "prompt_number": 76
    },
    {
     "cell_type": "heading",
     "level": 3,
     "metadata": {},
     "source": [
      "Standardize the affinity scores and select genes that are more than 1 STDV above the mean"
     ]
    },
    {
     "cell_type": "code",
     "collapsed": false,
     "input": [
      "ECRs_noNeg_sumGene_std = spd.stddf(ECRs_noNeg_sumGene,0)\n",
      "plt_dmp = ECRs_noNeg_sumGene_std.boxplot()"
     ],
     "language": "python",
     "metadata": {},
     "outputs": [
      {
       "metadata": {},
       "output_type": "display_data",
       "png": "[encoded data removed]",
       "text": [
        "<matplotlib.figure.Figure at 0x4253110>"
       ]
      }
     ],
     "prompt_number": 80
    },
    {
     "cell_type": "code",
     "collapsed": false,
     "input": [
      "gt1_mask = ECRs_noNeg_sumGene_std > 0.5"
     ],
     "language": "python",
     "metadata": {},
     "outputs": [],
     "prompt_number": 118
    },
    {
     "cell_type": "code",
     "collapsed": false,
     "input": [
      "ECRs_noNeg_sumGene_std[gt1_mask].dropna().head()"
     ],
     "language": "python",
     "metadata": {},
     "outputs": [
      {
       "html": [
        "<div style=\"max-height:1000px;max-width:1500px;overflow:auto;\">\n",
        "<table border=\"1\" class=\"dataframe\">\n",
        "  <thead>\n",
        "    <tr style=\"text-align: right;\">\n",
        "      <th></th>\n",
        "      <th></th>\n",
        "      <th>0</th>\n",
        "    </tr>\n",
        "    <tr>\n",
        "      <th>species</th>\n",
        "      <th>seq_name</th>\n",
        "      <th></th>\n",
        "    </tr>\n",
        "  </thead>\n",
        "  <tbody>\n",
        "    <tr>\n",
        "      <th rowspan=\"5\" valign=\"top\">Aedes aegypti</th>\n",
        "      <th>AAEL000021</th>\n",
        "      <td> 0.704237</td>\n",
        "    </tr>\n",
        "    <tr>\n",
        "      <th>AAEL000043</th>\n",
        "      <td> 1.200709</td>\n",
        "    </tr>\n",
        "    <tr>\n",
        "      <th>AAEL000050</th>\n",
        "      <td> 0.511423</td>\n",
        "    </tr>\n",
        "    <tr>\n",
        "      <th>AAEL000067</th>\n",
        "      <td> 2.254560</td>\n",
        "    </tr>\n",
        "    <tr>\n",
        "      <th>AAEL000104</th>\n",
        "      <td> 2.832227</td>\n",
        "    </tr>\n",
        "  </tbody>\n",
        "</table>\n",
        "</div>"
       ],
       "metadata": {},
       "output_type": "pyout",
       "prompt_number": 119,
       "text": [
        "                                 0\n",
        "species       seq_name            \n",
        "Aedes aegypti AAEL000021  0.704237\n",
        "              AAEL000043  1.200709\n",
        "              AAEL000050  0.511423\n",
        "              AAEL000067  2.254560\n",
        "              AAEL000104  2.832227"
       ]
      }
     ],
     "prompt_number": 119
    },
    {
     "cell_type": "code",
     "collapsed": false,
     "input": [
      "ECR_hi_aff_genes = [x[1] for x in list(ECRs_noNeg_sumGene_std[gt1_mask].dropna().index)]"
     ],
     "language": "python",
     "metadata": {},
     "outputs": [],
     "prompt_number": 120
    },
    {
     "cell_type": "code",
     "collapsed": false,
     "input": [
      "len(ECR_hi_aff_genes)"
     ],
     "language": "python",
     "metadata": {},
     "outputs": [
      {
       "metadata": {},
       "output_type": "pyout",
       "prompt_number": 121,
       "text": [
        "2486"
       ]
      }
     ],
     "prompt_number": 121
    },
    {
     "cell_type": "code",
     "collapsed": false,
     "input": [
      "ECR_hi_aff_genes_out = '/home/gus/Dropbox/common/projects/Aa_Ag_Cq_As/gfunc_stuff/prelim_gene_analysis/general_data/ECR_team_tfbs_scan_MOODS_hi_aff_genes_gt0_5.txt'\n",
      "\n",
      "ECR_hi_aff_genes_out = open(ECR_hi_aff_genes_out, 'w')"
     ],
     "language": "python",
     "metadata": {},
     "outputs": [],
     "prompt_number": 122
    },
    {
     "cell_type": "code",
     "collapsed": false,
     "input": [
      "for name in ECR_hi_aff_genes:\n",
      "    ECR_hi_aff_genes_out.write('%s\\n' % (name))\n",
      "    \n",
      "ECR_hi_aff_genes_out.close()"
     ],
     "language": "python",
     "metadata": {},
     "outputs": [],
     "prompt_number": 123
    },
    {
     "cell_type": "code",
     "collapsed": false,
     "input": [],
     "language": "python",
     "metadata": {},
     "outputs": []
    }
   ],
   "metadata": {}
  }
 ]
}