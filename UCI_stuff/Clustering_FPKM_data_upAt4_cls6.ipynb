{
 "metadata": {
  "name": ""
 },
 "nbformat": 3,
 "nbformat_minor": 0,
 "worksheets": [
  {
   "cells": [
    {
     "cell_type": "heading",
     "level": 1,
     "metadata": {},
     "source": [
      "General imports"
     ]
    },
    {
     "cell_type": "code",
     "collapsed": false,
     "input": [
      "import pandas as pd\n",
      "import numpy as np\n",
      "\n",
      "import cPickle\n",
      "\n",
      "from matplotlib import cm\n",
      "from matplotlib.colors import Normalize\n",
      "import matplotlib.pyplot as plt\n",
      "\n",
      "from sklearn.utils.extmath import cartesian\n",
      "\n",
      "from Bio.Cluster import kcluster,kmedoids\n",
      "\n",
      "from spartan.utils import cufflinks\n",
      "from spartan.utils import spandas as spd\n",
      "from spartan.utils.externals import mkdirp\n",
      "from spartan.utils.misc import Bunch"
     ],
     "language": "python",
     "metadata": {},
     "outputs": [],
     "prompt_number": 1
    },
    {
     "cell_type": "code",
     "collapsed": false,
     "input": [
      "cluster_id = 6"
     ],
     "language": "python",
     "metadata": {},
     "outputs": [],
     "prompt_number": 2
    },
    {
     "cell_type": "heading",
     "level": 1,
     "metadata": {},
     "source": [
      "Load some data"
     ]
    },
    {
     "cell_type": "code",
     "collapsed": false,
     "input": [
      "Ag_file = '/home/gus/Dropbox/common/projects/Aa_Ag_Cq_As/RNAseq_results/bio/dunnw/data/4mosqs_mg_RNAseq/gtf_strict/gene_fpkm_dumps/Ag.fpkm'\n",
      "AgFPKMs = pd.read_table(Ag_file, sep=' ', header=0, index_col=0)\n",
      "AgGTF = '/home/gus/Dropbox/common/projects/Aa_Ag_Cq_As/RNAseq_results/bio/dunnw/data/4mosqs_mg_RNAseq/gtf_strict/cuffmerge_Ag_00_0.Ag_04_0.Ag_06_0.Ag_08_0.Ag_10_0/merged.gtf'\n",
      "\n",
      "# Allows translating XLOCs to Ensembl Names\n",
      "Ag_xloc2vb = cufflinks.get_XLOC_to_nearest_ref_map(AgGTF)\n",
      "\n",
      "# Load list of orthologs that I am interested in\n",
      "Ag_orthos = '/home/gus/Dropbox/common/projects/Aa_Ag_Cq_As/gfunc_stuff/prelim_gene_analysis/ecr_OR_insect_20130903/ptci_1_0/all/ecr_OR_insect_meanPTCI_thresh_1_gene_names.AGAP.txt'\n",
      "Ag_orthos = [x.rstrip('\\n') for x in open(Ag_orthos,'rU')]\n"
     ],
     "language": "python",
     "metadata": {},
     "outputs": [],
     "prompt_number": 3
    },
    {
     "cell_type": "code",
     "collapsed": false,
     "input": [
      "# pre clustered ortholog data (Anopheles gambiae)\n",
      "X = Bunch(cPickle.load(open('/home/gus/Dropbox/common/projects/Aa_Ag_Cq_As/gfunc_stuff/prelim_gene_analysis/ecr_OR_insect_20130903/ptci_1_0/deactivated/XoLg.clusters.pkl')))"
     ],
     "language": "python",
     "metadata": {},
     "outputs": [],
     "prompt_number": 4
    },
    {
     "cell_type": "heading",
     "level": 1,
     "metadata": {},
     "source": [
      "Get vectorbase gene names for all species"
     ]
    },
    {
     "cell_type": "code",
     "collapsed": false,
     "input": [
      "X,Xcls = X.XoLg,X.XoLg_cluster_ids"
     ],
     "language": "python",
     "metadata": {},
     "outputs": [],
     "prompt_number": 5
    },
    {
     "cell_type": "code",
     "collapsed": false,
     "input": [
      "Ag_vb_names = [Ag_xloc2vb[x] for x in list(X.ix[Xcls == cluster_id].index)] "
     ],
     "language": "python",
     "metadata": {},
     "outputs": [],
     "prompt_number": 6
    },
    {
     "cell_type": "code",
     "collapsed": false,
     "input": [
      "Ag_vb_names"
     ],
     "language": "python",
     "metadata": {},
     "outputs": [
      {
       "metadata": {},
       "output_type": "pyout",
       "prompt_number": 7,
       "text": [
        "['AGAP000325',\n",
        " 'AGAP001261',\n",
        " 'AGAP002340',\n",
        " 'AGAP002940,AGAP013417',\n",
        " 'AGAP003943',\n",
        " 'AGAP007422',\n",
        " 'AGAP009746',\n",
        " 'AGAP010807']"
       ]
      }
     ],
     "prompt_number": 7
    },
    {
     "cell_type": "code",
     "collapsed": false,
     "input": [
      "out = open('/home/gus/Dropbox/common/projects/Aa_Ag_Cq_As/gfunc_stuff/prelim_gene_analysis/ecr_OR_insect_20130903/ptci_1_0/deactivated/XoLg_cls%s.names.AGAP.txt' % (cluster_id),'w')"
     ],
     "language": "python",
     "metadata": {},
     "outputs": [],
     "prompt_number": 8
    },
    {
     "cell_type": "code",
     "collapsed": false,
     "input": [
      "for n in Ag_vb_names:\n",
      "    out.write('%s\\n' % (n))\n",
      "out.close()"
     ],
     "language": "python",
     "metadata": {},
     "outputs": [],
     "prompt_number": 9
    },
    {
     "cell_type": "code",
     "collapsed": false,
     "input": [],
     "language": "python",
     "metadata": {},
     "outputs": [],
     "prompt_number": 9
    },
    {
     "cell_type": "code",
     "collapsed": false,
     "input": [],
     "language": "python",
     "metadata": {},
     "outputs": [],
     "prompt_number": 9
    }
   ],
   "metadata": {}
  }
 ]
}