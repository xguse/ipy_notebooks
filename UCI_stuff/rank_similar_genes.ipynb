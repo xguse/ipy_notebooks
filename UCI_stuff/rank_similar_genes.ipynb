{
 "metadata": {
  "name": ""
 },
 "nbformat": 3,
 "nbformat_minor": 0,
 "worksheets": [
  {
   "cells": [
    {
     "cell_type": "code",
     "collapsed": false,
     "input": [
      "import pandas as pd\n",
      "from scipy.stats import pearsonr\n",
      "import rpy2\n",
      "from spartan.utils import gtf\n",
      "from spartan.utils import cufflinks\n",
      "reload(cufflinks)"
     ],
     "language": "python",
     "metadata": {},
     "outputs": [
      {
       "metadata": {},
       "output_type": "pyout",
       "prompt_number": 2,
       "text": [
        "<module 'spartan.utils.cufflinks' from '/home/gus/Dropbox/repos/git/spartan/src/spartan/utils/cufflinks.pyc'>"
       ]
      }
     ],
     "prompt_number": 2
    },
    {
     "cell_type": "code",
     "collapsed": false,
     "input": [
      "a = 2\n",
      "rcParams['figure.figsize'] = 8*a, 6*a\n",
      "\n",
      "rcParams['font.size'] = 14"
     ],
     "language": "python",
     "metadata": {},
     "outputs": [],
     "prompt_number": 67
    },
    {
     "cell_type": "heading",
     "level": 1,
     "metadata": {},
     "source": [
      "Explore getting Pearson and ranking with small data"
     ]
    },
    {
     "cell_type": "code",
     "collapsed": false,
     "input": [
      "Aa_file = '/home/gus/Dropbox/common/projects/Aa_Ag_Cq_As/gfunc_stuff/prelim_gene_analysis/ecr_team_20130903/ptci_1_X/target_gene_profiles_from_cummerbund/AaTargetOrthos.csv'"
     ],
     "language": "python",
     "metadata": {},
     "outputs": [],
     "prompt_number": 4
    },
    {
     "cell_type": "code",
     "collapsed": false,
     "input": [
      "AaFPKMs = pd.read_table(Aa_file, sep=',', header=0, index_col=0)"
     ],
     "language": "python",
     "metadata": {},
     "outputs": [],
     "prompt_number": 5
    },
    {
     "cell_type": "code",
     "collapsed": false,
     "input": [
      "AaFPKMs"
     ],
     "language": "python",
     "metadata": {},
     "outputs": [
      {
       "html": [
        "<div style=\"max-height:1000px;max-width:1500px;overflow:auto;\">\n",
        "<table border=\"1\" class=\"dataframe\">\n",
        "  <thead>\n",
        "    <tr style=\"text-align: right;\">\n",
        "      <th></th>\n",
        "      <th>Aa_00</th>\n",
        "      <th>Aa_04</th>\n",
        "      <th>Aa_06</th>\n",
        "      <th>Aa_08</th>\n",
        "      <th>Aa_10</th>\n",
        "    </tr>\n",
        "  </thead>\n",
        "  <tbody>\n",
        "    <tr>\n",
        "      <th>AAEL008319</th>\n",
        "      <td>  12.82540</td>\n",
        "      <td>  112.8270</td>\n",
        "      <td>  131.75200</td>\n",
        "      <td>  162.5130</td>\n",
        "      <td>  173.3900</td>\n",
        "    </tr>\n",
        "    <tr>\n",
        "      <th>AAEL017064</th>\n",
        "      <td>  44.34630</td>\n",
        "      <td>   70.9555</td>\n",
        "      <td>   91.87570</td>\n",
        "      <td>  106.7060</td>\n",
        "      <td>  105.4400</td>\n",
        "    </tr>\n",
        "    <tr>\n",
        "      <th>AAEL014345</th>\n",
        "      <td>  68.74950</td>\n",
        "      <td>  128.9900</td>\n",
        "      <td>  139.30300</td>\n",
        "      <td>  160.4810</td>\n",
        "      <td>  163.8370</td>\n",
        "    </tr>\n",
        "    <tr>\n",
        "      <th>AAEL001887</th>\n",
        "      <td>  42.11010</td>\n",
        "      <td> 4033.2500</td>\n",
        "      <td> 4134.32000</td>\n",
        "      <td> 4035.6900</td>\n",
        "      <td> 3460.1800</td>\n",
        "    </tr>\n",
        "    <tr>\n",
        "      <th>AAEL014298</th>\n",
        "      <td>   4.20717</td>\n",
        "      <td>   13.5855</td>\n",
        "      <td>    7.68083</td>\n",
        "      <td>   11.1886</td>\n",
        "      <td>   10.9656</td>\n",
        "    </tr>\n",
        "    <tr>\n",
        "      <th>AAEL003318</th>\n",
        "      <td> 181.64700</td>\n",
        "      <td> 5544.8800</td>\n",
        "      <td> 4422.76000</td>\n",
        "      <td> 4121.3900</td>\n",
        "      <td> 3487.3600</td>\n",
        "    </tr>\n",
        "    <tr>\n",
        "      <th>AAEL000388</th>\n",
        "      <td>  55.12520</td>\n",
        "      <td>   75.2552</td>\n",
        "      <td>   72.65770</td>\n",
        "      <td>   56.6974</td>\n",
        "      <td>   36.9212</td>\n",
        "    </tr>\n",
        "    <tr>\n",
        "      <th>AAEL002387</th>\n",
        "      <td>  20.00310</td>\n",
        "      <td>   39.8934</td>\n",
        "      <td>   51.25740</td>\n",
        "      <td>   50.9431</td>\n",
        "      <td>   49.1633</td>\n",
        "    </tr>\n",
        "  </tbody>\n",
        "</table>\n",
        "</div>"
       ],
       "metadata": {},
       "output_type": "pyout",
       "prompt_number": 6,
       "text": [
        "                Aa_00      Aa_04       Aa_06      Aa_08      Aa_10\n",
        "AAEL008319   12.82540   112.8270   131.75200   162.5130   173.3900\n",
        "AAEL017064   44.34630    70.9555    91.87570   106.7060   105.4400\n",
        "AAEL014345   68.74950   128.9900   139.30300   160.4810   163.8370\n",
        "AAEL001887   42.11010  4033.2500  4134.32000  4035.6900  3460.1800\n",
        "AAEL014298    4.20717    13.5855     7.68083    11.1886    10.9656\n",
        "AAEL003318  181.64700  5544.8800  4422.76000  4121.3900  3487.3600\n",
        "AAEL000388   55.12520    75.2552    72.65770    56.6974    36.9212\n",
        "AAEL002387   20.00310    39.8934    51.25740    50.9431    49.1633"
       ]
      }
     ],
     "prompt_number": 6
    },
    {
     "cell_type": "code",
     "collapsed": false,
     "input": [
      "target = AaFPKMs.ix['AAEL003318']"
     ],
     "language": "python",
     "metadata": {},
     "outputs": [],
     "prompt_number": 7
    },
    {
     "cell_type": "code",
     "collapsed": false,
     "input": [
      "AaFPKMs.T.corr()"
     ],
     "language": "python",
     "metadata": {},
     "outputs": [
      {
       "html": [
        "<div style=\"max-height:1000px;max-width:1500px;overflow:auto;\">\n",
        "<table border=\"1\" class=\"dataframe\">\n",
        "  <thead>\n",
        "    <tr style=\"text-align: right;\">\n",
        "      <th></th>\n",
        "      <th>AAEL008319</th>\n",
        "      <th>AAEL017064</th>\n",
        "      <th>AAEL014345</th>\n",
        "      <th>AAEL001887</th>\n",
        "      <th>AAEL014298</th>\n",
        "      <th>AAEL003318</th>\n",
        "      <th>AAEL000388</th>\n",
        "      <th>AAEL002387</th>\n",
        "    </tr>\n",
        "  </thead>\n",
        "  <tbody>\n",
        "    <tr>\n",
        "      <th>AAEL008319</th>\n",
        "      <td> 1.000000</td>\n",
        "      <td> 0.971599</td>\n",
        "      <td> 0.999495</td>\n",
        "      <td> 0.876275</td>\n",
        "      <td> 0.716763</td>\n",
        "      <td> 0.729975</td>\n",
        "      <td>-0.206155</td>\n",
        "      <td> 0.956760</td>\n",
        "    </tr>\n",
        "    <tr>\n",
        "      <th>AAEL017064</th>\n",
        "      <td> 0.971599</td>\n",
        "      <td> 1.000000</td>\n",
        "      <td> 0.972543</td>\n",
        "      <td> 0.791176</td>\n",
        "      <td> 0.552376</td>\n",
        "      <td> 0.590053</td>\n",
        "      <td>-0.291846</td>\n",
        "      <td> 0.949699</td>\n",
        "    </tr>\n",
        "    <tr>\n",
        "      <th>AAEL014345</th>\n",
        "      <td> 0.999495</td>\n",
        "      <td> 0.972543</td>\n",
        "      <td> 1.000000</td>\n",
        "      <td> 0.878225</td>\n",
        "      <td> 0.723003</td>\n",
        "      <td> 0.732388</td>\n",
        "      <td>-0.199190</td>\n",
        "      <td> 0.956026</td>\n",
        "    </tr>\n",
        "    <tr>\n",
        "      <th>AAEL001887</th>\n",
        "      <td> 0.876275</td>\n",
        "      <td> 0.791176</td>\n",
        "      <td> 0.878225</td>\n",
        "      <td> 1.000000</td>\n",
        "      <td> 0.792184</td>\n",
        "      <td> 0.955832</td>\n",
        "      <td> 0.285441</td>\n",
        "      <td> 0.921511</td>\n",
        "    </tr>\n",
        "    <tr>\n",
        "      <th>AAEL014298</th>\n",
        "      <td> 0.716763</td>\n",
        "      <td> 0.552376</td>\n",
        "      <td> 0.723003</td>\n",
        "      <td> 0.792184</td>\n",
        "      <td> 1.000000</td>\n",
        "      <td> 0.856358</td>\n",
        "      <td> 0.114417</td>\n",
        "      <td> 0.602877</td>\n",
        "    </tr>\n",
        "    <tr>\n",
        "      <th>AAEL003318</th>\n",
        "      <td> 0.729975</td>\n",
        "      <td> 0.590053</td>\n",
        "      <td> 0.732388</td>\n",
        "      <td> 0.955832</td>\n",
        "      <td> 0.856358</td>\n",
        "      <td> 1.000000</td>\n",
        "      <td> 0.458200</td>\n",
        "      <td> 0.768062</td>\n",
        "    </tr>\n",
        "    <tr>\n",
        "      <th>AAEL000388</th>\n",
        "      <td>-0.206155</td>\n",
        "      <td>-0.291846</td>\n",
        "      <td>-0.199190</td>\n",
        "      <td> 0.285441</td>\n",
        "      <td> 0.114417</td>\n",
        "      <td> 0.458200</td>\n",
        "      <td> 1.000000</td>\n",
        "      <td>-0.002120</td>\n",
        "    </tr>\n",
        "    <tr>\n",
        "      <th>AAEL002387</th>\n",
        "      <td> 0.956760</td>\n",
        "      <td> 0.949699</td>\n",
        "      <td> 0.956026</td>\n",
        "      <td> 0.921511</td>\n",
        "      <td> 0.602877</td>\n",
        "      <td> 0.768062</td>\n",
        "      <td>-0.002120</td>\n",
        "      <td> 1.000000</td>\n",
        "    </tr>\n",
        "  </tbody>\n",
        "</table>\n",
        "</div>"
       ],
       "metadata": {},
       "output_type": "pyout",
       "prompt_number": 8,
       "text": [
        "            AAEL008319  AAEL017064  AAEL014345  AAEL001887  AAEL014298  \\\n",
        "AAEL008319    1.000000    0.971599    0.999495    0.876275    0.716763   \n",
        "AAEL017064    0.971599    1.000000    0.972543    0.791176    0.552376   \n",
        "AAEL014345    0.999495    0.972543    1.000000    0.878225    0.723003   \n",
        "AAEL001887    0.876275    0.791176    0.878225    1.000000    0.792184   \n",
        "AAEL014298    0.716763    0.552376    0.723003    0.792184    1.000000   \n",
        "AAEL003318    0.729975    0.590053    0.732388    0.955832    0.856358   \n",
        "AAEL000388   -0.206155   -0.291846   -0.199190    0.285441    0.114417   \n",
        "AAEL002387    0.956760    0.949699    0.956026    0.921511    0.602877   \n",
        "\n",
        "            AAEL003318  AAEL000388  AAEL002387  \n",
        "AAEL008319    0.729975   -0.206155    0.956760  \n",
        "AAEL017064    0.590053   -0.291846    0.949699  \n",
        "AAEL014345    0.732388   -0.199190    0.956026  \n",
        "AAEL001887    0.955832    0.285441    0.921511  \n",
        "AAEL014298    0.856358    0.114417    0.602877  \n",
        "AAEL003318    1.000000    0.458200    0.768062  \n",
        "AAEL000388    0.458200    1.000000   -0.002120  \n",
        "AAEL002387    0.768062   -0.002120    1.000000  "
       ]
      }
     ],
     "prompt_number": 8
    },
    {
     "cell_type": "heading",
     "level": 1,
     "metadata": {},
     "source": [
      "Write ``def`` to dump FPKM tables using rpy2"
     ]
    },
    {
     "cell_type": "markdown",
     "metadata": {},
     "source": [
      "I wrote a quick R script to do this instead.  Basically just recoreded the process for one and repeaded it for the others chaning the inputs/outputs:\n",
      "\n",
      "    /home/gus/Dropbox/common/projects/Aa_Ag_Cq_As/RNAseq_results/bio/dunnw/data/4mosqs_mg_RNAseq/gtf_strict/gene_fpkm_dumps/rebuild_dbs_dump_gene_fpkm_and_annotations.R"
     ]
    },
    {
     "cell_type": "heading",
     "level": 1,
     "metadata": {},
     "source": [
      "Write ``def`` to return ranked gene names vs target if given a large data frame"
     ]
    },
    {
     "cell_type": "code",
     "collapsed": false,
     "input": [
      "def get_correlation_matrix(dataframe,transpose=True):\n",
      "    \"\"\"\n",
      "    \"\"\"\n",
      "    if transpose:\n",
      "        corr_matrix = dataframe.T.corr()\n",
      "    else:\n",
      "        corr_matrix = dataframe.corr()\n",
      "\n",
      "    return corr_matrix\n",
      "\n",
      "def get_ranked_vectors_for_gene(gene_name,correlation_matrix):\n",
      "    \"\"\"\n",
      "    \"\"\"\n",
      "    \n",
      "    gene_vector = correlation_matrix[gene_name].copy()\n",
      "    \n",
      "    gene_vector.sort(ascending=False)\n",
      "    \n",
      "    return gene_vector\n",
      "    "
     ],
     "language": "python",
     "metadata": {},
     "outputs": [],
     "prompt_number": 9
    },
    {
     "cell_type": "code",
     "collapsed": false,
     "input": [
      "corr_mat = get_correlation_matrix(AaFPKMs)\n",
      "\n",
      "AAEL003318_set = get_ranked_vectors_for_gene('AAEL003318', corr_mat)"
     ],
     "language": "python",
     "metadata": {},
     "outputs": [],
     "prompt_number": 10
    },
    {
     "cell_type": "code",
     "collapsed": false,
     "input": [
      "AAEL003318_set"
     ],
     "language": "python",
     "metadata": {},
     "outputs": [
      {
       "metadata": {},
       "output_type": "pyout",
       "prompt_number": 11,
       "text": [
        "AAEL003318    1.000000\n",
        "AAEL001887    0.955832\n",
        "AAEL014298    0.856358\n",
        "AAEL002387    0.768062\n",
        "AAEL014345    0.732388\n",
        "AAEL008319    0.729975\n",
        "AAEL017064    0.590053\n",
        "AAEL000388    0.458200\n",
        "Name: AAEL003318, dtype: float64"
       ]
      }
     ],
     "prompt_number": 11
    },
    {
     "cell_type": "heading",
     "level": 1,
     "metadata": {},
     "source": [
      "Write def to make a map from XLOC to '``nearest_ref``' and back using the GTF"
     ]
    },
    {
     "cell_type": "code",
     "collapsed": false,
     "input": [
      "name_maps = cufflinks.get_XLOC_to_nearest_ref_map('/home/gus/Dropbox/common/projects/Aa_Ag_Cq_As/RNAseq_results/bio/dunnw/data/4mosqs_mg_RNAseq/gtf_strict/cuffmerge_Ag_00_0.Ag_04_0.Ag_06_0.Ag_08_0.Ag_10_0/merged.gtf')"
     ],
     "language": "python",
     "metadata": {},
     "outputs": [],
     "prompt_number": 12
    },
    {
     "cell_type": "code",
     "collapsed": false,
     "input": [
      "len(name_maps)"
     ],
     "language": "python",
     "metadata": {},
     "outputs": [
      {
       "metadata": {},
       "output_type": "pyout",
       "prompt_number": 13,
       "text": [
        "26817"
       ]
      }
     ],
     "prompt_number": 13
    },
    {
     "cell_type": "code",
     "collapsed": false,
     "input": [
      "name_maps.keys()[-5:]"
     ],
     "language": "python",
     "metadata": {},
     "outputs": [
      {
       "metadata": {},
       "output_type": "pyout",
       "prompt_number": 14,
       "text": [
        "['AGAP000426', 'AGAP000425', 'AGAP000424', 'XLOC_002564', 'AGAP009119']"
       ]
      }
     ],
     "prompt_number": 14
    },
    {
     "cell_type": "code",
     "collapsed": false,
     "input": [
      "name_maps['AGAP000000']"
     ],
     "language": "python",
     "metadata": {},
     "outputs": [
      {
       "metadata": {},
       "output_type": "pyout",
       "prompt_number": 15,
       "text": [
        "'AGAP000000'"
       ]
      }
     ],
     "prompt_number": 15
    },
    {
     "cell_type": "heading",
     "level": 1,
     "metadata": {},
     "source": [
      "Def to translate dataframe row names (gene names) from XLOC"
     ]
    },
    {
     "cell_type": "code",
     "collapsed": false,
     "input": [
      "fpkm_path = '/home/gus/Dropbox/common/projects/Aa_Ag_Cq_As/RNAseq_results/bio/dunnw/data/4mosqs_mg_RNAseq/gtf_strict/gene_fpkm_dumps/Ag.fpkm'\n",
      "\n",
      "ag_fpkms = pd.read_table(fpkm_path, sep=' ', )"
     ],
     "language": "python",
     "metadata": {},
     "outputs": [],
     "prompt_number": 16
    },
    {
     "cell_type": "code",
     "collapsed": false,
     "input": [
      "x = 40\n",
      "ag_fpkms[x:x+20]"
     ],
     "language": "python",
     "metadata": {},
     "outputs": [
      {
       "html": [
        "<div style=\"max-height:1000px;max-width:1500px;overflow:auto;\">\n",
        "<table border=\"1\" class=\"dataframe\">\n",
        "  <thead>\n",
        "    <tr style=\"text-align: right;\">\n",
        "      <th></th>\n",
        "      <th>Ag_00</th>\n",
        "      <th>Ag_04</th>\n",
        "      <th>Ag_06</th>\n",
        "      <th>Ag_08</th>\n",
        "      <th>Ag_10</th>\n",
        "    </tr>\n",
        "  </thead>\n",
        "  <tbody>\n",
        "    <tr>\n",
        "      <th>XLOC_000041</th>\n",
        "      <td>   8.336970</td>\n",
        "      <td>    5.719830</td>\n",
        "      <td>   4.585850</td>\n",
        "      <td>    7.744150</td>\n",
        "      <td>   6.869660</td>\n",
        "    </tr>\n",
        "    <tr>\n",
        "      <th>XLOC_000042</th>\n",
        "      <td>  30.734500</td>\n",
        "      <td>   45.231600</td>\n",
        "      <td>  55.157000</td>\n",
        "      <td>   61.632800</td>\n",
        "      <td>  52.764700</td>\n",
        "    </tr>\n",
        "    <tr>\n",
        "      <th>XLOC_000043</th>\n",
        "      <td>   1.575560</td>\n",
        "      <td>    3.370370</td>\n",
        "      <td>   2.171940</td>\n",
        "      <td>    1.238060</td>\n",
        "      <td>   0.850866</td>\n",
        "    </tr>\n",
        "    <tr>\n",
        "      <th>XLOC_000044</th>\n",
        "      <td>   0.038444</td>\n",
        "      <td>    0.025415</td>\n",
        "      <td>   0.032645</td>\n",
        "      <td>    0.036993</td>\n",
        "      <td>   0.033886</td>\n",
        "    </tr>\n",
        "    <tr>\n",
        "      <th>XLOC_000045</th>\n",
        "      <td>  55.698200</td>\n",
        "      <td>   25.501100</td>\n",
        "      <td>  29.452200</td>\n",
        "      <td>   38.742600</td>\n",
        "      <td>  40.003000</td>\n",
        "    </tr>\n",
        "    <tr>\n",
        "      <th>XLOC_000046</th>\n",
        "      <td>   5.291640</td>\n",
        "      <td>    1.832580</td>\n",
        "      <td>   4.205370</td>\n",
        "      <td>   13.152400</td>\n",
        "      <td>  13.324700</td>\n",
        "    </tr>\n",
        "    <tr>\n",
        "      <th>XLOC_000047</th>\n",
        "      <td>  13.244300</td>\n",
        "      <td>   23.207800</td>\n",
        "      <td>  22.600000</td>\n",
        "      <td>   24.034900</td>\n",
        "      <td>  22.204700</td>\n",
        "    </tr>\n",
        "    <tr>\n",
        "      <th>XLOC_000048</th>\n",
        "      <td>  14.415800</td>\n",
        "      <td>   19.116600</td>\n",
        "      <td>  19.468900</td>\n",
        "      <td>   20.247500</td>\n",
        "      <td>  21.542700</td>\n",
        "    </tr>\n",
        "    <tr>\n",
        "      <th>XLOC_000049</th>\n",
        "      <td>  18.638600</td>\n",
        "      <td>   31.134200</td>\n",
        "      <td>  27.781100</td>\n",
        "      <td>   24.273900</td>\n",
        "      <td>  33.349100</td>\n",
        "    </tr>\n",
        "    <tr>\n",
        "      <th>XLOC_000050</th>\n",
        "      <td>   7.653520</td>\n",
        "      <td>    6.876270</td>\n",
        "      <td>  12.969400</td>\n",
        "      <td>   15.195600</td>\n",
        "      <td>  14.278700</td>\n",
        "    </tr>\n",
        "    <tr>\n",
        "      <th>XLOC_000051</th>\n",
        "      <td>  10.942100</td>\n",
        "      <td>    9.397200</td>\n",
        "      <td>   9.636710</td>\n",
        "      <td>    9.446030</td>\n",
        "      <td>  10.600600</td>\n",
        "    </tr>\n",
        "    <tr>\n",
        "      <th>XLOC_000052</th>\n",
        "      <td>  17.040000</td>\n",
        "      <td>    8.227750</td>\n",
        "      <td>   7.571950</td>\n",
        "      <td>    7.882080</td>\n",
        "      <td>   7.128330</td>\n",
        "    </tr>\n",
        "    <tr>\n",
        "      <th>XLOC_000053</th>\n",
        "      <td> 627.957000</td>\n",
        "      <td> 1066.950000</td>\n",
        "      <td> 656.568000</td>\n",
        "      <td> 2506.950000</td>\n",
        "      <td> 587.997000</td>\n",
        "    </tr>\n",
        "    <tr>\n",
        "      <th>XLOC_000054</th>\n",
        "      <td>   3.788520</td>\n",
        "      <td>    4.038150</td>\n",
        "      <td>   6.552240</td>\n",
        "      <td>   11.459800</td>\n",
        "      <td>  13.434800</td>\n",
        "    </tr>\n",
        "    <tr>\n",
        "      <th>XLOC_000055</th>\n",
        "      <td>   0.090974</td>\n",
        "      <td>    0.000000</td>\n",
        "      <td>   0.048862</td>\n",
        "      <td>    0.043949</td>\n",
        "      <td>   0.073236</td>\n",
        "    </tr>\n",
        "    <tr>\n",
        "      <th>XLOC_000056</th>\n",
        "      <td>  56.802300</td>\n",
        "      <td>   22.250200</td>\n",
        "      <td>  35.307300</td>\n",
        "      <td>   43.125400</td>\n",
        "      <td>  46.735800</td>\n",
        "    </tr>\n",
        "    <tr>\n",
        "      <th>XLOC_000057</th>\n",
        "      <td>  19.591900</td>\n",
        "      <td>   19.125200</td>\n",
        "      <td>  36.232600</td>\n",
        "      <td>   45.810100</td>\n",
        "      <td>  41.584900</td>\n",
        "    </tr>\n",
        "    <tr>\n",
        "      <th>XLOC_000058</th>\n",
        "      <td>   0.000000</td>\n",
        "      <td>    0.126339</td>\n",
        "      <td>   0.000000</td>\n",
        "      <td>    0.141349</td>\n",
        "      <td>   0.254637</td>\n",
        "    </tr>\n",
        "    <tr>\n",
        "      <th>XLOC_000059</th>\n",
        "      <td> 135.073000</td>\n",
        "      <td>  171.834000</td>\n",
        "      <td> 266.561000</td>\n",
        "      <td>  378.778000</td>\n",
        "      <td> 330.121000</td>\n",
        "    </tr>\n",
        "    <tr>\n",
        "      <th>XLOC_000060</th>\n",
        "      <td>  17.952200</td>\n",
        "      <td>   13.529300</td>\n",
        "      <td>  18.541500</td>\n",
        "      <td>   15.848200</td>\n",
        "      <td>  14.740400</td>\n",
        "    </tr>\n",
        "  </tbody>\n",
        "</table>\n",
        "</div>"
       ],
       "metadata": {},
       "output_type": "pyout",
       "prompt_number": 17,
       "text": [
        "                  Ag_00        Ag_04       Ag_06        Ag_08       Ag_10\n",
        "XLOC_000041    8.336970     5.719830    4.585850     7.744150    6.869660\n",
        "XLOC_000042   30.734500    45.231600   55.157000    61.632800   52.764700\n",
        "XLOC_000043    1.575560     3.370370    2.171940     1.238060    0.850866\n",
        "XLOC_000044    0.038444     0.025415    0.032645     0.036993    0.033886\n",
        "XLOC_000045   55.698200    25.501100   29.452200    38.742600   40.003000\n",
        "XLOC_000046    5.291640     1.832580    4.205370    13.152400   13.324700\n",
        "XLOC_000047   13.244300    23.207800   22.600000    24.034900   22.204700\n",
        "XLOC_000048   14.415800    19.116600   19.468900    20.247500   21.542700\n",
        "XLOC_000049   18.638600    31.134200   27.781100    24.273900   33.349100\n",
        "XLOC_000050    7.653520     6.876270   12.969400    15.195600   14.278700\n",
        "XLOC_000051   10.942100     9.397200    9.636710     9.446030   10.600600\n",
        "XLOC_000052   17.040000     8.227750    7.571950     7.882080    7.128330\n",
        "XLOC_000053  627.957000  1066.950000  656.568000  2506.950000  587.997000\n",
        "XLOC_000054    3.788520     4.038150    6.552240    11.459800   13.434800\n",
        "XLOC_000055    0.090974     0.000000    0.048862     0.043949    0.073236\n",
        "XLOC_000056   56.802300    22.250200   35.307300    43.125400   46.735800\n",
        "XLOC_000057   19.591900    19.125200   36.232600    45.810100   41.584900\n",
        "XLOC_000058    0.000000     0.126339    0.000000     0.141349    0.254637\n",
        "XLOC_000059  135.073000   171.834000  266.561000   378.778000  330.121000\n",
        "XLOC_000060   17.952200    13.529300   18.541500    15.848200   14.740400"
       ]
      }
     ],
     "prompt_number": 17
    },
    {
     "cell_type": "code",
     "collapsed": false,
     "input": [
      "ag_fpkms.ix[['XLOC_000042','XLOC_000047','XLOC_000043','x']]"
     ],
     "language": "python",
     "metadata": {},
     "outputs": [
      {
       "html": [
        "<div style=\"max-height:1000px;max-width:1500px;overflow:auto;\">\n",
        "<table border=\"1\" class=\"dataframe\">\n",
        "  <thead>\n",
        "    <tr style=\"text-align: right;\">\n",
        "      <th></th>\n",
        "      <th>Ag_00</th>\n",
        "      <th>Ag_04</th>\n",
        "      <th>Ag_06</th>\n",
        "      <th>Ag_08</th>\n",
        "      <th>Ag_10</th>\n",
        "    </tr>\n",
        "  </thead>\n",
        "  <tbody>\n",
        "    <tr>\n",
        "      <th>XLOC_000042</th>\n",
        "      <td> 30.73450</td>\n",
        "      <td> 45.23160</td>\n",
        "      <td> 55.15700</td>\n",
        "      <td> 61.63280</td>\n",
        "      <td> 52.764700</td>\n",
        "    </tr>\n",
        "    <tr>\n",
        "      <th>XLOC_000047</th>\n",
        "      <td> 13.24430</td>\n",
        "      <td> 23.20780</td>\n",
        "      <td> 22.60000</td>\n",
        "      <td> 24.03490</td>\n",
        "      <td> 22.204700</td>\n",
        "    </tr>\n",
        "    <tr>\n",
        "      <th>XLOC_000043</th>\n",
        "      <td>  1.57556</td>\n",
        "      <td>  3.37037</td>\n",
        "      <td>  2.17194</td>\n",
        "      <td>  1.23806</td>\n",
        "      <td>  0.850866</td>\n",
        "    </tr>\n",
        "    <tr>\n",
        "      <th>x</th>\n",
        "      <td>      NaN</td>\n",
        "      <td>      NaN</td>\n",
        "      <td>      NaN</td>\n",
        "      <td>      NaN</td>\n",
        "      <td>       NaN</td>\n",
        "    </tr>\n",
        "  </tbody>\n",
        "</table>\n",
        "</div>"
       ],
       "metadata": {},
       "output_type": "pyout",
       "prompt_number": 18,
       "text": [
        "                Ag_00     Ag_04     Ag_06     Ag_08      Ag_10\n",
        "XLOC_000042  30.73450  45.23160  55.15700  61.63280  52.764700\n",
        "XLOC_000047  13.24430  23.20780  22.60000  24.03490  22.204700\n",
        "XLOC_000043   1.57556   3.37037   2.17194   1.23806   0.850866\n",
        "x                 NaN       NaN       NaN       NaN        NaN"
       ]
      }
     ],
     "prompt_number": 18
    },
    {
     "cell_type": "code",
     "collapsed": false,
     "input": [
      "ag_corr = get_correlation_matrix(ag_fpkms)"
     ],
     "language": "python",
     "metadata": {},
     "outputs": [],
     "prompt_number": 19
    },
    {
     "cell_type": "code",
     "collapsed": false,
     "input": [
      "rnkd_vectors = get_ranked_vectors_for_gene(name_maps['AGAP010383'],ag_corr)"
     ],
     "language": "python",
     "metadata": {},
     "outputs": [],
     "prompt_number": 39
    },
    {
     "cell_type": "code",
     "collapsed": false,
     "input": [
      "am_I_there = 'AGAP007406'"
     ],
     "language": "python",
     "metadata": {},
     "outputs": [],
     "prompt_number": 40
    },
    {
     "cell_type": "code",
     "collapsed": false,
     "input": [
      "name_maps['AGAP010383']"
     ],
     "language": "python",
     "metadata": {},
     "outputs": [
      {
       "metadata": {},
       "output_type": "pyout",
       "prompt_number": 41,
       "text": [
        "'XLOC_006851'"
       ]
      }
     ],
     "prompt_number": 41
    },
    {
     "cell_type": "heading",
     "level": 1,
     "metadata": {},
     "source": [
      "Extract fpkm data from dataframe for gene list"
     ]
    },
    {
     "cell_type": "code",
     "collapsed": false,
     "input": [
      "ag_orthos = '/home/gus/Dropbox/common/projects/Aa_Ag_Cq_As/gfunc_stuff/prelim_gene_analysis/ecr_OR_insect_20130903/ptci_1_0/ecr_OR_insect_meanPTCI_thresh_1_gene_names.AGAP.txt'"
     ],
     "language": "python",
     "metadata": {},
     "outputs": [],
     "prompt_number": 42
    },
    {
     "cell_type": "code",
     "collapsed": false,
     "input": [
      "ag_orthos = [x.strip() for x in open(ag_orthos,'rU')]"
     ],
     "language": "python",
     "metadata": {},
     "outputs": [],
     "prompt_number": 43
    },
    {
     "cell_type": "code",
     "collapsed": false,
     "input": [
      "len(ag_orthos)"
     ],
     "language": "python",
     "metadata": {},
     "outputs": [
      {
       "metadata": {},
       "output_type": "pyout",
       "prompt_number": 44,
       "text": [
        "310"
       ]
      }
     ],
     "prompt_number": 44
    },
    {
     "cell_type": "code",
     "collapsed": false,
     "input": [
      "get_these = list(set([name_maps[x] for x in ag_orthos]))"
     ],
     "language": "python",
     "metadata": {},
     "outputs": [],
     "prompt_number": 45
    },
    {
     "cell_type": "code",
     "collapsed": false,
     "input": [
      "ag_corr_orthos = rnkd_vectors[get_these]"
     ],
     "language": "python",
     "metadata": {},
     "outputs": [],
     "prompt_number": 46
    },
    {
     "cell_type": "code",
     "collapsed": false,
     "input": [
      "ag_corr_orthos.sort(ascending=False)"
     ],
     "language": "python",
     "metadata": {},
     "outputs": [],
     "prompt_number": 47
    },
    {
     "cell_type": "code",
     "collapsed": false,
     "input": [
      "len(ag_corr_orthos)"
     ],
     "language": "python",
     "metadata": {},
     "outputs": [
      {
       "metadata": {},
       "output_type": "pyout",
       "prompt_number": 48,
       "text": [
        "310"
       ]
      }
     ],
     "prompt_number": 48
    },
    {
     "cell_type": "code",
     "collapsed": false,
     "input": [
      "ag_corr_orthos_nona = ag_corr_orthos.dropna()"
     ],
     "language": "python",
     "metadata": {},
     "outputs": [],
     "prompt_number": 49
    },
    {
     "cell_type": "code",
     "collapsed": false,
     "input": [
      "name_maps['AGAP003318']"
     ],
     "language": "python",
     "metadata": {},
     "outputs": [
      {
       "metadata": {},
       "output_type": "pyout",
       "prompt_number": 50,
       "text": [
        "'XLOC_004226'"
       ]
      }
     ],
     "prompt_number": 50
    },
    {
     "cell_type": "code",
     "collapsed": false,
     "input": [
      "ag_corr_orthos_nona.head()"
     ],
     "language": "python",
     "metadata": {},
     "outputs": [
      {
       "metadata": {},
       "output_type": "pyout",
       "prompt_number": 51,
       "text": [
        "XLOC_006851    1.000000\n",
        "XLOC_010946    0.999638\n",
        "XLOC_007897    0.996782\n",
        "XLOC_011058    0.994784\n",
        "XLOC_004368    0.992793\n",
        "Name: XLOC_006851, dtype: float64"
       ]
      }
     ],
     "prompt_number": 51
    },
    {
     "cell_type": "code",
     "collapsed": false,
     "input": [
      "def plot_abundance_profiles(data_frame,draw_legend=True,transpose=True):\n",
      "    \"\"\"\n",
      "    \"\"\"\n",
      "    (data_frame.T + 1 ).plot(marker='o',logy=1, colormap='spectral', lw=4,ms=11,legend=draw_legend)\n",
      "    xlabel('Time point')\n",
      "    ylabel('FPKM + 1')\n",
      "    if draw_legend:\n",
      "        leg = legend(fancybox=True)\n",
      "        leg.get_frame().set_alpha(0.6)"
     ],
     "language": "python",
     "metadata": {},
     "outputs": [],
     "prompt_number": 68
    },
    {
     "cell_type": "code",
     "collapsed": false,
     "input": [
      "df =ag_fpkms.ix[ag_corr_orthos_nona.index].head(15)\n",
      "df.index = [name_maps[x] for x in df.index]"
     ],
     "language": "python",
     "metadata": {},
     "outputs": [],
     "prompt_number": 71
    },
    {
     "cell_type": "code",
     "collapsed": false,
     "input": [
      "plot_abundance_profiles(df, draw_legend=True)"
     ],
     "language": "python",
     "metadata": {},
     "outputs": [
      {
       "metadata": {},
       "output_type": "display_data",
       "png": "[encoded data removed]",
       "text": [
        "<matplotlib.figure.Figure at 0x4a7fd50>"
       ]
      }
     ],
     "prompt_number": 72
    },
    {
     "cell_type": "heading",
     "level": 1,
     "metadata": {},
     "source": [
      "Def that automates most of above"
     ]
    },
    {
     "cell_type": "code",
     "collapsed": false,
     "input": [],
     "language": "python",
     "metadata": {},
     "outputs": []
    }
   ],
   "metadata": {}
  }
 ]
}