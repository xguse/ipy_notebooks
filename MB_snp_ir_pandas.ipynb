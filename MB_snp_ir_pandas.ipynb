{
 "metadata": {
  "name": ""
 },
 "nbformat": 3,
 "nbformat_minor": 0,
 "worksheets": [
  {
   "cells": [
    {
     "cell_type": "code",
     "collapsed": false,
     "input": [
      "import pandas\n",
      "import numpy as np"
     ],
     "language": "python",
     "metadata": {},
     "outputs": [],
     "prompt_number": 89
    },
    {
     "cell_type": "code",
     "collapsed": false,
     "input": [
      "data_source = pandas.DataFrame.from_csv('/home/gus/Dropbox/common/Mariangela/IR_SNPs/SNP_tables/bung_snp_table.csv')\n",
      "\n"
     ],
     "language": "python",
     "metadata": {},
     "outputs": [],
     "prompt_number": 90
    },
    {
     "cell_type": "code",
     "collapsed": false,
     "input": [
      "mr = data_source.Mut_Res\n",
      "rr = data_source.Ref_Res\n",
      "ms = data_source.Mut_Sus\n",
      "rs = data_source.Ref_Sus"
     ],
     "language": "python",
     "metadata": {},
     "outputs": [],
     "prompt_number": 91
    },
    {
     "cell_type": "code",
     "collapsed": false,
     "input": [
      "mr = mr.replace(np.nan,0)\n",
      "rr = rr.replace(np.nan,0)\n",
      "ms = ms.replace(np.nan,0)\n",
      "rs = rs.replace(np.nan,0)"
     ],
     "language": "python",
     "metadata": {},
     "outputs": [],
     "prompt_number": 92
    },
    {
     "cell_type": "code",
     "collapsed": false,
     "input": [
      "res_sub = mr-rr\n",
      "sus_sub = rs-ms"
     ],
     "language": "python",
     "metadata": {},
     "outputs": [],
     "prompt_number": 93
    },
    {
     "cell_type": "code",
     "collapsed": false,
     "input": [
      "res_sub_std_mean = (res_sub - mean(res_sub))/std(res_sub)\n",
      "sus_sub_std_mean = (sus_sub - mean(sus_sub))/std(sus_sub)"
     ],
     "language": "python",
     "metadata": {},
     "outputs": [],
     "prompt_number": 94
    },
    {
     "cell_type": "code",
     "collapsed": false,
     "input": [
      "res_sub_std_median = (res_sub - median(res_sub))/std(res_sub)\n",
      "sus_sub_std_median = (sus_sub - median(sus_sub))/std(sus_sub)"
     ],
     "language": "python",
     "metadata": {},
     "outputs": [],
     "prompt_number": 95
    },
    {
     "cell_type": "code",
     "collapsed": false,
     "input": [
      "hist(res_sub_std_mean,bins=100)\n",
      "semilogy()"
     ],
     "language": "python",
     "metadata": {},
     "outputs": [
      {
       "metadata": {},
       "output_type": "pyout",
       "prompt_number": 96,
       "text": [
        "[]"
       ]
      },
      {
       "metadata": {},
       "output_type": "display_data",
       "png": "[encoded data removed]",
       "text": [
        "<matplotlib.figure.Figure at 0x51efa10>"
       ]
      }
     ],
     "prompt_number": 96
    },
    {
     "cell_type": "code",
     "collapsed": false,
     "input": [
      "hist(sus_sub_std_mean,bins=100)\n",
      "semilogy()"
     ],
     "language": "python",
     "metadata": {},
     "outputs": [
      {
       "metadata": {},
       "output_type": "pyout",
       "prompt_number": 97,
       "text": [
        "[]"
       ]
      },
      {
       "metadata": {},
       "output_type": "display_data",
       "png": "[encoded data removed]",
       "text": [
        "<matplotlib.figure.Figure at 0x5be1050>"
       ]
      }
     ],
     "prompt_number": 97
    },
    {
     "cell_type": "markdown",
     "metadata": {},
     "source": [
      "### Selecting common SNPs >= 2.6 positive stdvs"
     ]
    },
    {
     "cell_type": "code",
     "collapsed": false,
     "input": [
      "res_sub_std_mean_gte2_6 = res_sub_std_mean[res_sub_std_mean >= 2.6]\n",
      "res_sub_std_mean_gte2_6"
     ],
     "language": "python",
     "metadata": {},
     "outputs": [
      {
       "metadata": {},
       "output_type": "pyout",
       "prompt_number": 98,
       "text": [
        "gene_SNPLocation\n",
        "AGAP012100_37646756    22.599892\n",
        "AGAP006414_31609589     3.184858\n",
        "AGAP011948_35502496     3.490929\n",
        "AGAP006709_37118926     3.420472\n",
        "AGAP012188_38533940    15.426170\n",
        "AGAP012078_37452109     3.962914\n",
        "AGAP006259_28706065     3.250769\n",
        "AGAP009652_37625871     2.634840\n",
        "AGAP006432_31789566     7.487273\n",
        "AGAP012078_37452244    40.646698\n",
        "AGAP010148_49483361    23.605228\n",
        "AGAP003250_34472117     2.810603\n",
        "AGAP005888_23177657     7.925923\n",
        "AGAP011828_33876341     4.613693\n",
        "AGAP003776_43153925     3.059096\n",
        "...\n",
        "AGAP010933_13354659    37.714026\n",
        "AGAP001174_696584       2.935608\n",
        "AGAP012418_41835252    67.121055\n",
        "AGAP008916_20781611     6.774370\n",
        "AGAP009828_43936496     3.871244\n",
        "AGAP012956_1774115     10.687378\n",
        "AGAP013255_42093122     2.678023\n",
        "AGAP004235_52953879     2.871211\n",
        "AGAP004883_4939955      4.182618\n",
        "AGAP006660_36426753     2.798482\n",
        "AGAP005246_13000217     3.524263\n",
        "AGAP004533_57454548     3.987157\n",
        "AGAP008645_13897047    11.291943\n",
        "AGAP005693_18786738     3.688663\n",
        "AGAP001082_23477485     5.487964\n",
        "Length: 89, dtype: float64"
       ]
      }
     ],
     "prompt_number": 98
    },
    {
     "cell_type": "code",
     "collapsed": false,
     "input": [
      "sus_sub_std_mean_gte2_6 = sus_sub_std_mean[sus_sub_std_mean >= 2.6]\n",
      "sus_sub_std_mean_gte2_6"
     ],
     "language": "python",
     "metadata": {},
     "outputs": [
      {
       "metadata": {},
       "output_type": "pyout",
       "prompt_number": 99,
       "text": [
        "gene_SNPLocation\n",
        "AGAP013336_23845654     5.764720\n",
        "AGAP012078_37451599    81.669538\n",
        "AGAP004877_4856833      5.533103\n",
        "AGAP002737_26386684     2.985325\n",
        "AGAP003610_40490074     5.098629\n",
        "AGAP012078_37452112    69.070550\n",
        "AGAP009313_31187131     7.161412\n",
        "AGAP005471_16055381     4.003504\n",
        "AGAP003939_46562870     5.415741\n",
        "AGAP008444_10866815    13.036535\n",
        "AGAP002994_30717054    12.491693\n",
        "AGAP002629_24567082     3.195956\n",
        "AGAP008292_8627800      4.558450\n",
        "AGAP011939_35408104     3.091807\n",
        "AGAP003995_47649888     3.527059\n",
        "AGAP012956_1774382      7.091461\n",
        "AGAP008444_10866875    13.381627\n",
        "AGAP009874_44648305     3.912567\n",
        "AGAP008450_10882458     2.753709\n",
        "AGAP008296_8634840      7.353389\n",
        "AGAP012078_37452322    42.529513\n",
        "AGAP009874_44648332     2.703189\n",
        "AGAP009874_44648248     5.223764\n",
        "AGAP010421_3019865      5.393978\n",
        "AGAP010148_49483480     9.214091\n",
        "AGAP010517_5582277      3.352958\n",
        "AGAP002629_24565788     4.421657\n",
        "AGAP002629_24565596     3.817745\n",
        "AGAP002629_24566363     4.776853\n",
        "AGAP008292_8627816      5.164694\n",
        "AGAP009313_31186861     5.739071\n",
        "AGAP009313_31186807     3.793650\n",
        "AGAP001323_2997671      6.377958\n",
        "AGAP006037_25521796     6.395835\n",
        "AGAP011294_20627899     4.814938\n",
        "AGAP001192_1213429      3.051390\n",
        "AGAP007380_46200845     3.548044\n",
        "AGAP006432_31790063     2.970558\n",
        "AGAP001323_2997500      3.198288\n",
        "AGAP008861_19868509     8.132179\n",
        "AGAP007380_46200854     3.316428\n",
        "AGAP012956_1773992      4.295744\n",
        "AGAP012956_1774121      2.837651\n",
        "AGAP007747_218100       4.157397\n",
        "AGAP002889_28938711     3.188961\n",
        "AGAP005991_24569779     8.398771\n",
        "AGAP012078_37452211    27.758152\n",
        "AGAP006099_26648880     2.957345\n",
        "AGAP006782_38179143    13.818434\n",
        "AGAP008292_8628046      3.317205\n",
        "AGAP003350_36473925     3.035069\n",
        "AGAP012100_37646756     6.312671\n",
        "AGAP006186_27918458     3.513068\n",
        "Length: 53, dtype: float64"
       ]
      }
     ],
     "prompt_number": 99
    },
    {
     "cell_type": "code",
     "collapsed": false,
     "input": [
      "sus_sub_std_mean_gte2_6.index.intersection(res_sub_std_mean_gte2_6.index)"
     ],
     "language": "python",
     "metadata": {},
     "outputs": [
      {
       "metadata": {},
       "output_type": "pyout",
       "prompt_number": 100,
       "text": [
        "Index([AGAP012100_37646756], dtype=object)"
       ]
      }
     ],
     "prompt_number": 100
    },
    {
     "cell_type": "markdown",
     "metadata": {},
     "source": [
      "### Selecting common SNPs > the upper quantile (q = 0.75)"
     ]
    },
    {
     "cell_type": "code",
     "collapsed": false,
     "input": [
      "sus_sub_std_mean.quantile(.75)"
     ],
     "language": "python",
     "metadata": {},
     "outputs": [
      {
       "metadata": {},
       "output_type": "pyout",
       "prompt_number": 101,
       "text": [
        "0.028721643000023465"
       ]
      }
     ],
     "prompt_number": 101
    },
    {
     "cell_type": "code",
     "collapsed": false,
     "input": [
      "len(sus_sub_std_mean)/4.0"
     ],
     "language": "python",
     "metadata": {},
     "outputs": [
      {
       "metadata": {},
       "output_type": "pyout",
       "prompt_number": 102,
       "text": [
        "10019.75"
       ]
      }
     ],
     "prompt_number": 102
    },
    {
     "cell_type": "code",
     "collapsed": false,
     "input": [
      "sus_sub_std_mean_gt_q0_75 = sus_sub_std_mean > sus_sub_std_mean.quantile(.75)\n",
      "sus_sub_std_mean_gt_q0_75"
     ],
     "language": "python",
     "metadata": {},
     "outputs": [
      {
       "metadata": {},
       "output_type": "pyout",
       "prompt_number": 103,
       "text": [
        "gene_SNPLocation\n",
        "AGAP013301_30242456     True\n",
        "AGAP006579_34254715    False\n",
        "AGAP006943_40190787    False\n",
        "AGAP013198_11481390    False\n",
        "AGAP010087_48692014    False\n",
        "AGAP008095_5636576     False\n",
        "AGAP008096_5636576     False\n",
        "AGAP006417_31683650    False\n",
        "AGAP000728_13246375    False\n",
        "AGAP006219_28504807    False\n",
        "AGAP001330_3183744     False\n",
        "AGAP000230_4332984     False\n",
        "AGAP002737_26375601    False\n",
        "AGAP003845_44342509    False\n",
        "AGAP010158_49623175    False\n",
        "...\n",
        "AGAP008752_17091691    False\n",
        "AGAP004883_4939955     False\n",
        "AGAP006660_36426753    False\n",
        "AGAP009946_45853824    False\n",
        "AGAP005246_13000217    False\n",
        "AGAP008281_8558708     False\n",
        "AGAP004674_61304287    False\n",
        "AGAP008284_8563474     False\n",
        "AGAP004533_57454548    False\n",
        "AGAP007612_48255195    False\n",
        "AGAP008645_13897047    False\n",
        "AGAP003995_47650561    False\n",
        "AGAP005693_18786738    False\n",
        "AGAP001082_23477485    False\n",
        "AGAP000180_3001710     False\n",
        "Length: 40079, dtype: bool"
       ]
      }
     ],
     "prompt_number": 103
    },
    {
     "cell_type": "code",
     "collapsed": false,
     "input": [
      "res_sub_std_mean_gt_q0_75 = res_sub_std_mean > res_sub_std_mean.quantile(.75)\n",
      "res_sub_std_mean_gt_q0_75"
     ],
     "language": "python",
     "metadata": {},
     "outputs": [
      {
       "metadata": {},
       "output_type": "pyout",
       "prompt_number": 104,
       "text": [
        "gene_SNPLocation\n",
        "AGAP013301_30242456    False\n",
        "AGAP006579_34254715    False\n",
        "AGAP006943_40190787    False\n",
        "AGAP013198_11481390    False\n",
        "AGAP010087_48692014    False\n",
        "AGAP008095_5636576     False\n",
        "AGAP008096_5636576     False\n",
        "AGAP006417_31683650    False\n",
        "AGAP000728_13246375    False\n",
        "AGAP006219_28504807    False\n",
        "AGAP001330_3183744     False\n",
        "AGAP000230_4332984     False\n",
        "AGAP002737_26375601    False\n",
        "AGAP003845_44342509    False\n",
        "AGAP010158_49623175    False\n",
        "...\n",
        "AGAP008752_17091691    False\n",
        "AGAP004883_4939955      True\n",
        "AGAP006660_36426753     True\n",
        "AGAP009946_45853824     True\n",
        "AGAP005246_13000217     True\n",
        "AGAP008281_8558708      True\n",
        "AGAP004674_61304287     True\n",
        "AGAP008284_8563474      True\n",
        "AGAP004533_57454548     True\n",
        "AGAP007612_48255195     True\n",
        "AGAP008645_13897047     True\n",
        "AGAP003995_47650561     True\n",
        "AGAP005693_18786738     True\n",
        "AGAP001082_23477485     True\n",
        "AGAP000180_3001710      True\n",
        "Length: 40079, dtype: bool"
       ]
      }
     ],
     "prompt_number": 104
    },
    {
     "cell_type": "code",
     "collapsed": false,
     "input": [
      "sus_sub_std_mean_gt_q0_75.to_csv('/home/gus/Dropbox/common/Mariangela/IR_SNPs/sus_sub_std_mean_gt_q0_75')"
     ],
     "language": "python",
     "metadata": {},
     "outputs": [],
     "prompt_number": 105
    },
    {
     "cell_type": "code",
     "collapsed": false,
     "input": [
      "res_sub_std_mean_gt_q0_75.to_csv('/home/gus/Dropbox/common/Mariangela/IR_SNPs/res_sub_std_mean_gt_q0_75')"
     ],
     "language": "python",
     "metadata": {},
     "outputs": [],
     "prompt_number": 106
    },
    {
     "cell_type": "code",
     "collapsed": false,
     "input": [
      "sus_sub_std_mean_gt_q0_75_df"
     ],
     "language": "python",
     "metadata": {},
     "outputs": [
      {
       "html": [
        "<pre>\n",
        "&ltclass 'pandas.core.frame.DataFrame'&gt\n",
        "Index: 40079 entries, AGAP013301_30242456 to AGAP000180_3001710\n",
        "Data columns (total 1 columns):\n",
        "0    40079  non-null values\n",
        "dtypes: bool(1)\n",
        "</pre>"
       ],
       "metadata": {},
       "output_type": "pyout",
       "prompt_number": 107,
       "text": [
        "<class 'pandas.core.frame.DataFrame'>\n",
        "Index: 40079 entries, AGAP013301_30242456 to AGAP000180_3001710\n",
        "Data columns (total 1 columns):\n",
        "0    40079  non-null values\n",
        "dtypes: bool(1)"
       ]
      }
     ],
     "prompt_number": 107
    },
    {
     "cell_type": "code",
     "collapsed": false,
     "input": [
      "\n"
     ],
     "language": "python",
     "metadata": {},
     "outputs": [],
     "prompt_number": 107
    }
   ],
   "metadata": {}
  }
 ]
}