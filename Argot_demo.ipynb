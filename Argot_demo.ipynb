{
 "metadata": {
  "name": ""
 },
 "nbformat": 3,
 "nbformat_minor": 0,
 "worksheets": [
  {
   "cells": [
    {
     "cell_type": "heading",
     "level": 1,
     "metadata": {},
     "source": [
      "Load required modules"
     ]
    },
    {
     "cell_type": "code",
     "collapsed": false,
     "input": [
      "from gfunc.dev import devel as gdev\n",
      "\n",
      "from spartan.utils import cufflinks\n",
      "from spartan.utils import spandas as spd\n",
      "from spartan.utils.externals import mkdirp\n",
      "\n",
      "import numpy as np\n",
      "import pandas as pd\n",
      "from matplotlib import  pylab as plt"
     ],
     "language": "python",
     "metadata": {},
     "outputs": [],
     "prompt_number": 71
    },
    {
     "cell_type": "heading",
     "level": 1,
     "metadata": {},
     "source": [
      "Load a gene set"
     ]
    },
    {
     "cell_type": "code",
     "collapsed": false,
     "input": [
      "gene_set_name = 'D1_B1'\n",
      "gene_set_file = [ line.strip() for line in open('/home/gus/DELETE_ME/argot_demo/aedesdefenceresponcedata/gene_sets/%s.txt' % (gene_set_name),'r') ]\n",
      "\n",
      "gene_set_out_file = '/home/gus/DELETE_ME/argot_demo/aedesdefenceresponcedata/gene_sets/%s.argot_annotations.csv' % (gene_set_name)"
     ],
     "language": "python",
     "metadata": {},
     "outputs": [],
     "prompt_number": 72
    },
    {
     "cell_type": "code",
     "collapsed": false,
     "input": [
      "gene_set_file[0:10]"
     ],
     "language": "python",
     "metadata": {},
     "outputs": [
      {
       "metadata": {},
       "output_type": "pyout",
       "prompt_number": 73,
       "text": [
        "['AAEL002630',\n",
        " 'AAEL009484',\n",
        " 'AAEL004292',\n",
        " 'AAEL002233',\n",
        " 'AAEL007194',\n",
        " 'AAEL013792',\n",
        " 'AAEL002003',\n",
        " 'AAEL000668',\n",
        " 'AAEL003231',\n",
        " 'AAEL017293']"
       ]
      }
     ],
     "prompt_number": 73
    },
    {
     "cell_type": "code",
     "collapsed": false,
     "input": [
      "len(gene_set_file)"
     ],
     "language": "python",
     "metadata": {},
     "outputs": [
      {
       "metadata": {},
       "output_type": "pyout",
       "prompt_number": 74,
       "text": [
        "36"
       ]
      }
     ],
     "prompt_number": 74
    },
    {
     "cell_type": "markdown",
     "metadata": {},
     "source": []
    },
    {
     "cell_type": "heading",
     "level": 1,
     "metadata": {},
     "source": [
      "Load the Argot2 results that match the genes above"
     ]
    },
    {
     "cell_type": "code",
     "collapsed": false,
     "input": [
      "argot_file = '/home/gus/DELETE_ME/argot_demo/aedesdefenceresponcedata/argot2_results_ts150.tsv'"
     ],
     "language": "python",
     "metadata": {},
     "outputs": [],
     "prompt_number": 75
    },
    {
     "cell_type": "code",
     "collapsed": false,
     "input": [
      "argot2 = pd.read_table(argot_file)"
     ],
     "language": "python",
     "metadata": {},
     "outputs": [],
     "prompt_number": 76
    },
    {
     "cell_type": "code",
     "collapsed": false,
     "input": [
      "len(argot2)"
     ],
     "language": "python",
     "metadata": {},
     "outputs": [
      {
       "metadata": {},
       "output_type": "pyout",
       "prompt_number": 77,
       "text": [
        "788"
       ]
      }
     ],
     "prompt_number": 77
    },
    {
     "cell_type": "code",
     "collapsed": false,
     "input": [
      "def get_argot_records_for_gene(df,gene_names,total_score=200):\n",
      "    \"\"\"\n",
      "    \"\"\"\n",
      "    if type(gene_names) == type([]):\n",
      "        gene_names = '|'.join(gene_names)\n",
      "        \n",
      "    gene_mask = df.Sequence.str.contains(gene_names)\n",
      "    total_score_mask = df['Total Score'] >= total_score\n",
      "    \n",
      "    return df[gene_mask & total_score_mask]\n",
      "    \n",
      "    "
     ],
     "language": "python",
     "metadata": {},
     "outputs": [],
     "prompt_number": 78
    },
    {
     "cell_type": "code",
     "collapsed": false,
     "input": [
      "argot_results = get_argot_records_for_gene(argot2,gene_set_file,150).sort('Total Score', ascending=False)\n"
     ],
     "language": "python",
     "metadata": {},
     "outputs": [],
     "prompt_number": 79
    },
    {
     "cell_type": "code",
     "collapsed": false,
     "input": [
      "len(argot_results)"
     ],
     "language": "python",
     "metadata": {},
     "outputs": [
      {
       "metadata": {},
       "output_type": "pyout",
       "prompt_number": 80,
       "text": [
        "73"
       ]
      }
     ],
     "prompt_number": 80
    },
    {
     "cell_type": "heading",
     "level": 2,
     "metadata": {},
     "source": [
      "Display Argot2 results"
     ]
    },
    {
     "cell_type": "code",
     "collapsed": false,
     "input": [
      "argot_results.head()"
     ],
     "language": "python",
     "metadata": {},
     "outputs": [
      {
       "html": [
        "<div style=\"max-height:1000px;max-width:1500px;overflow:auto;\">\n",
        "<table border=\"1\" class=\"dataframe\">\n",
        "  <thead>\n",
        "    <tr style=\"text-align: right;\">\n",
        "      <th></th>\n",
        "      <th>Sequence</th>\n",
        "      <th>Aspect</th>\n",
        "      <th>GO ID</th>\n",
        "      <th>Name</th>\n",
        "      <th>Total Score</th>\n",
        "      <th>Internal Confidence</th>\n",
        "      <th>Information Content</th>\n",
        "    </tr>\n",
        "  </thead>\n",
        "  <tbody>\n",
        "    <tr>\n",
        "      <th>782</th>\n",
        "      <td> AAEL007194</td>\n",
        "      <td> F</td>\n",
        "      <td> GO:0042302</td>\n",
        "      <td> structural constituent of cuticle</td>\n",
        "      <td> 9113.273012</td>\n",
        "      <td> 0.709123</td>\n",
        "      <td> 10.415874</td>\n",
        "    </tr>\n",
        "    <tr>\n",
        "      <th>78 </th>\n",
        "      <td> AAEL003256</td>\n",
        "      <td> F</td>\n",
        "      <td> GO:0042302</td>\n",
        "      <td> structural constituent of cuticle</td>\n",
        "      <td> 8085.384097</td>\n",
        "      <td> 0.743335</td>\n",
        "      <td> 10.415874</td>\n",
        "    </tr>\n",
        "    <tr>\n",
        "      <th>310</th>\n",
        "      <td> AAEL003231</td>\n",
        "      <td> F</td>\n",
        "      <td> GO:0042302</td>\n",
        "      <td> structural constituent of cuticle</td>\n",
        "      <td> 7849.836398</td>\n",
        "      <td> 0.752752</td>\n",
        "      <td> 10.415874</td>\n",
        "    </tr>\n",
        "    <tr>\n",
        "      <th>124</th>\n",
        "      <td> AAEL003274</td>\n",
        "      <td> F</td>\n",
        "      <td> GO:0042302</td>\n",
        "      <td> structural constituent of cuticle</td>\n",
        "      <td> 7588.815551</td>\n",
        "      <td> 0.748984</td>\n",
        "      <td> 10.415874</td>\n",
        "    </tr>\n",
        "    <tr>\n",
        "      <th>351</th>\n",
        "      <td> AAEL009796</td>\n",
        "      <td> F</td>\n",
        "      <td> GO:0042302</td>\n",
        "      <td> structural constituent of cuticle</td>\n",
        "      <td> 7410.438106</td>\n",
        "      <td> 0.639291</td>\n",
        "      <td> 10.415874</td>\n",
        "    </tr>\n",
        "  </tbody>\n",
        "</table>\n",
        "</div>"
       ],
       "metadata": {},
       "output_type": "pyout",
       "prompt_number": 81,
       "text": [
        "       Sequence Aspect       GO ID                               Name  \\\n",
        "782  AAEL007194      F  GO:0042302  structural constituent of cuticle   \n",
        "78   AAEL003256      F  GO:0042302  structural constituent of cuticle   \n",
        "310  AAEL003231      F  GO:0042302  structural constituent of cuticle   \n",
        "124  AAEL003274      F  GO:0042302  structural constituent of cuticle   \n",
        "351  AAEL009796      F  GO:0042302  structural constituent of cuticle   \n",
        "\n",
        "     Total Score  Internal Confidence  Information Content  \n",
        "782  9113.273012             0.709123            10.415874  \n",
        "78   8085.384097             0.743335            10.415874  \n",
        "310  7849.836398             0.752752            10.415874  \n",
        "124  7588.815551             0.748984            10.415874  \n",
        "351  7410.438106             0.639291            10.415874  "
       ]
      }
     ],
     "prompt_number": 81
    },
    {
     "cell_type": "code",
     "collapsed": false,
     "input": [
      "argot_results.to_csv(gene_set_out_file)"
     ],
     "language": "python",
     "metadata": {},
     "outputs": [],
     "prompt_number": 82
    },
    {
     "cell_type": "code",
     "collapsed": false,
     "input": [],
     "language": "python",
     "metadata": {},
     "outputs": [],
     "prompt_number": 82
    }
   ],
   "metadata": {}
  }
 ]
}