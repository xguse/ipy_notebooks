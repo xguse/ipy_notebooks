{
 "metadata": {
  "name": "",
  "signature": "sha256:6bb75c22d8f3cd4a891e7542b99ed6806615ff13efb5f5aa9deda34628a24638"
 },
 "nbformat": 3,
 "nbformat_minor": 0,
 "worksheets": [
  {
   "cells": [
    {
     "cell_type": "code",
     "collapsed": false,
     "input": [
      "%matplotlib\n",
      "import networkx as nx\n",
      "import pyfasta"
     ],
     "language": "python",
     "metadata": {},
     "outputs": [
      {
       "output_type": "stream",
       "stream": "stdout",
       "text": [
        "Using matplotlib backend: TkAgg\n"
       ]
      }
     ],
     "prompt_number": 2
    },
    {
     "cell_type": "heading",
     "level": 1,
     "metadata": {},
     "source": [
      "Develop/test functions to easily extract upstream seq of genes."
     ]
    },
    {
     "cell_type": "heading",
     "level": 1,
     "metadata": {},
     "source": [
      "Test `load_genes_gffutils(gff3_path)`"
     ]
    },
    {
     "cell_type": "code",
     "collapsed": false,
     "input": [
      "gff3_path = \"/home/gus/Dropbox/repos/git/spartan/testing/gff3/test1.ensembl.gff3\"\n",
      "gff3_db = gff3_path+'.db'\n",
      "\n",
      "fasta_path = '/home/gus/genome_data/agambiae/Genome/agambiae.CHROMOSOMES-PEST.AgamP3.renamed.fa'\n",
      "\n",
      "AGAP004685_seqs = pyfasta.Fasta('/home/gus/Dropbox/repos/git/spartan/testing/fasta/AGAP004685.fasta', flatten_inplace=True)"
     ],
     "language": "python",
     "metadata": {},
     "outputs": [],
     "prompt_number": 3
    },
    {
     "cell_type": "code",
     "collapsed": false,
     "input": [
      "from spartan.utils.annotations.gffutils_helpers import load_gff3"
     ],
     "language": "python",
     "metadata": {},
     "outputs": [],
     "prompt_number": 4
    },
    {
     "cell_type": "code",
     "collapsed": false,
     "input": [
      "#%psource load_gff3"
     ],
     "language": "python",
     "metadata": {},
     "outputs": [],
     "prompt_number": 5
    },
    {
     "cell_type": "code",
     "collapsed": false,
     "input": [
      "db = load_gff3(gff3_path)"
     ],
     "language": "python",
     "metadata": {},
     "outputs": [],
     "prompt_number": 6
    },
    {
     "cell_type": "code",
     "collapsed": false,
     "input": [
      "len(list(db.all_features()))"
     ],
     "language": "python",
     "metadata": {},
     "outputs": [
      {
       "metadata": {},
       "output_type": "pyout",
       "prompt_number": 7,
       "text": [
        "281"
       ]
      }
     ],
     "prompt_number": 7
    },
    {
     "cell_type": "code",
     "collapsed": false,
     "input": [
      "gene = db['AGAP004677']"
     ],
     "language": "python",
     "metadata": {},
     "outputs": [],
     "prompt_number": 8
    },
    {
     "cell_type": "code",
     "collapsed": false,
     "input": [
      "print gene"
     ],
     "language": "python",
     "metadata": {},
     "outputs": [
      {
       "output_type": "stream",
       "stream": "stdout",
       "text": [
        "2L\tVectorBase\tgene\t157348\t186936\t.\t-\t.\tID=AGAP004677;\n"
       ]
      }
     ],
     "prompt_number": 9
    },
    {
     "cell_type": "code",
     "collapsed": false,
     "input": [
      "for i in db.children(gene, featuretype='mRNA', order_by='start'):\n",
      "    print i"
     ],
     "language": "python",
     "metadata": {},
     "outputs": [
      {
       "output_type": "stream",
       "stream": "stdout",
       "text": [
        "2L\tVectorBase\tmRNA\t157348\t181305\t.\t-\t.\tDbxref=RefSeq_peptide:XP_001687783,RefSeq_peptide:XP_314619,RefSeq_NA:XM_001687731,RefSeq_NA:XM_001687731,RefSeq_mRNA_predicted:XM_001687731,RefSeq_Prot:XP_001687783,RefSeq_Prot:XP_314619,RefSeq_rna_predicted:XM_001687731,GenBank:AAAB01008942,UniProtKB:A7UTF7,UniProtKB:Q7PHT4,goslim_goa:GO:0003674,goslim_goa:GO:0008150,goslim_goa:GO:0009058,goslim_goa:GO:0016491,goslim_goa:GO:0016810,goslim_goa:GO:0034641,goslim_goa:GO:0051186,protein_id:EAA44412,protein_id:EDO64016,UniParc:UPI0000020060;ID=AGAP004677-RA;Parent=AGAP004677;description=hypothetical protein;\n",
        "2L\tVectorBase\tmRNA\t157348\t186936\t.\t-\t.\tDbxref=RefSeq_peptide:XP_314619,RefSeq_NA:XM_314619,RefSeq_NA:XM_314619,RefSeq_mRNA_predicted:XM_314619,RefSeq_Prot:XP_314619,RefSeq_rna_predicted:XM_314619,GenBank:AAAB01008942,UniProtKB:Q7PHT4,goslim_goa:GO:0003674,goslim_goa:GO:0008150,goslim_goa:GO:0009058,goslim_goa:GO:0016491,goslim_goa:GO:0016810,goslim_goa:GO:0034641,goslim_goa:GO:0051186,protein_id:EAA44412,UniParc:UPI000002004D;ID=AGAP004677-RB;Parent=AGAP004677;description=hypothetical protein;\n"
       ]
      }
     ],
     "prompt_number": 10
    },
    {
     "cell_type": "code",
     "collapsed": false,
     "input": [
      "gene.attributes"
     ],
     "language": "python",
     "metadata": {},
     "outputs": [
      {
       "metadata": {},
       "output_type": "pyout",
       "prompt_number": 11,
       "text": [
        "{u'ID': [u'AGAP004677']}"
       ]
      }
     ],
     "prompt_number": 11
    },
    {
     "cell_type": "heading",
     "level": 1,
     "metadata": {},
     "source": [
      "Test `SimpleFeatureGFF3`"
     ]
    },
    {
     "cell_type": "code",
     "collapsed": false,
     "input": [
      "from spartan.utils.annotations.ensembl import gff3"
     ],
     "language": "python",
     "metadata": {},
     "outputs": [],
     "prompt_number": 12
    },
    {
     "cell_type": "code",
     "collapsed": false,
     "input": [
      "feats = list(gff3.parse_gff3(gff3_path))"
     ],
     "language": "python",
     "metadata": {},
     "outputs": [],
     "prompt_number": 13
    },
    {
     "cell_type": "code",
     "collapsed": false,
     "input": [
      "len(feats)"
     ],
     "language": "python",
     "metadata": {},
     "outputs": [
      {
       "metadata": {},
       "output_type": "pyout",
       "prompt_number": 14,
       "text": [
        "281"
       ]
      }
     ],
     "prompt_number": 14
    },
    {
     "cell_type": "code",
     "collapsed": false,
     "input": [
      "feats[2].data.attributes"
     ],
     "language": "python",
     "metadata": {},
     "outputs": [
      {
       "metadata": {},
       "output_type": "pyout",
       "prompt_number": 15,
       "text": [
        "{'Dbxref': 'RefSeq_peptide:XP_314619,RefSeq_NA:XM_314619,RefSeq_NA:XM_314619,RefSeq_mRNA_predicted:XM_314619,RefSeq_Prot:XP_314619,RefSeq_rna_predicted:XM_314619,GenBank:AAAB01008942,UniProtKB:Q7PHT4,goslim_goa:GO:0003674,goslim_goa:GO:0008150,goslim_goa:GO:0009058,goslim_goa:GO:0016491,goslim_goa:GO:0016810,goslim_goa:GO:0034641,goslim_goa:GO:0051186,protein_id:EAA44412,UniParc:UPI000002004D',\n",
        " 'ID': 'AGAP004677-RB',\n",
        " 'Parent': 'AGAP004677',\n",
        " 'description': 'hypothetical protein',\n",
        " 'unnamed_attributes': ['']}"
       ]
      }
     ],
     "prompt_number": 15
    },
    {
     "cell_type": "code",
     "collapsed": false,
     "input": [
      "feature_x = feats[2]"
     ],
     "language": "python",
     "metadata": {},
     "outputs": [],
     "prompt_number": 16
    },
    {
     "cell_type": "code",
     "collapsed": false,
     "input": [
      "feature_x.line_no"
     ],
     "language": "python",
     "metadata": {},
     "outputs": [
      {
       "metadata": {},
       "output_type": "pyout",
       "prompt_number": 17,
       "text": [
        "17"
       ]
      }
     ],
     "prompt_number": 17
    },
    {
     "cell_type": "code",
     "collapsed": false,
     "input": [
      "feature_x.data.strand"
     ],
     "language": "python",
     "metadata": {},
     "outputs": [
      {
       "metadata": {},
       "output_type": "pyout",
       "prompt_number": 18,
       "text": [
        "-1"
       ]
      }
     ],
     "prompt_number": 18
    },
    {
     "cell_type": "code",
     "collapsed": false,
     "input": [
      "feature_x.get_range()"
     ],
     "language": "python",
     "metadata": {},
     "outputs": [
      {
       "metadata": {},
       "output_type": "pyout",
       "prompt_number": 19,
       "text": [
        "(157348, 186936)"
       ]
      }
     ],
     "prompt_number": 19
    },
    {
     "cell_type": "code",
     "collapsed": false,
     "input": [
      "upstream = feature_x.get_upstream(1000)"
     ],
     "language": "python",
     "metadata": {},
     "outputs": [],
     "prompt_number": 20
    },
    {
     "cell_type": "code",
     "collapsed": false,
     "input": [
      "upstream.get_range()"
     ],
     "language": "python",
     "metadata": {},
     "outputs": [
      {
       "metadata": {},
       "output_type": "pyout",
       "prompt_number": 21,
       "text": [
        "(186937, 187936)"
       ]
      }
     ],
     "prompt_number": 21
    },
    {
     "cell_type": "code",
     "collapsed": false,
     "input": [
      "upstream.data.strand"
     ],
     "language": "python",
     "metadata": {},
     "outputs": [
      {
       "metadata": {},
       "output_type": "pyout",
       "prompt_number": 22,
       "text": [
        "-1"
       ]
      }
     ],
     "prompt_number": 22
    },
    {
     "cell_type": "code",
     "collapsed": false,
     "input": [
      "downstream = feature_x.get_downstream(1000)"
     ],
     "language": "python",
     "metadata": {},
     "outputs": [],
     "prompt_number": 23
    },
    {
     "cell_type": "code",
     "collapsed": false,
     "input": [
      "downstream.data.strand"
     ],
     "language": "python",
     "metadata": {},
     "outputs": [
      {
       "metadata": {},
       "output_type": "pyout",
       "prompt_number": 24,
       "text": [
        "-1"
       ]
      }
     ],
     "prompt_number": 24
    },
    {
     "cell_type": "code",
     "collapsed": true,
     "input": [
      "downstream.get_range()"
     ],
     "language": "python",
     "metadata": {},
     "outputs": [
      {
       "metadata": {},
       "output_type": "pyout",
       "prompt_number": 25,
       "text": [
        "(156348, 157347)"
       ]
      }
     ],
     "prompt_number": 25
    },
    {
     "cell_type": "code",
     "collapsed": false,
     "input": [
      "len(downstream)"
     ],
     "language": "python",
     "metadata": {},
     "outputs": [
      {
       "metadata": {},
       "output_type": "pyout",
       "prompt_number": 26,
       "text": [
        "1000"
       ]
      }
     ],
     "prompt_number": 26
    },
    {
     "cell_type": "code",
     "collapsed": false,
     "input": [
      "downstream.data"
     ],
     "language": "python",
     "metadata": {},
     "outputs": [
      {
       "metadata": {},
       "output_type": "pyout",
       "prompt_number": 27,
       "text": [
        "{'attributes': {'Dbxref': 'RefSeq_peptide:XP_314619,RefSeq_NA:XM_314619,RefSeq_NA:XM_314619,RefSeq_mRNA_predicted:XM_314619,RefSeq_Prot:XP_314619,RefSeq_rna_predicted:XM_314619,GenBank:AAAB01008942,UniProtKB:Q7PHT4,goslim_goa:GO:0003674,goslim_goa:GO:0008150,goslim_goa:GO:0009058,goslim_goa:GO:0016491,goslim_goa:GO:0016810,goslim_goa:GO:0034641,goslim_goa:GO:0051186,protein_id:EAA44412,UniParc:UPI000002004D',\n",
        "  'ID': 'AGAP004677-RB',\n",
        "  'Parent': 'AGAP004677',\n",
        "  'description': 'hypothetical protein',\n",
        "  'unnamed_attributes': ['']},\n",
        " 'end': 157347,\n",
        " 'phase': '.',\n",
        " 'score': '.',\n",
        " 'seqid': '2L',\n",
        " 'source': 'spartan_derived',\n",
        " 'start': 156348,\n",
        " 'strand': -1,\n",
        " 'type': 'downstream_region'}"
       ]
      }
     ],
     "prompt_number": 27
    },
    {
     "cell_type": "heading",
     "level": 1,
     "metadata": {},
     "source": [
      "Test `GFF3` class:"
     ]
    },
    {
     "cell_type": "heading",
     "level": 2,
     "metadata": {},
     "source": [
      "Note: "
     ]
    },
    {
     "cell_type": "markdown",
     "metadata": {},
     "source": [
      "[Sat May 10 13:50:14 PDT 2014]\n",
      "\n",
      "Some features do not have `ID`'s in there attributes string even if they **do** have `Parent` defined.\n",
      "This makes building the `GFF3.parent_graph` based on `ID`,`Parent` defined edges incomplete."
     ]
    },
    {
     "cell_type": "heading",
     "level": 2,
     "metadata": {},
     "source": [
      "Proposal:"
     ]
    },
    {
     "cell_type": "markdown",
     "metadata": {},
     "source": [
      "[Sat May 10 13:50:14 PDT 2014]\n",
      "\n",
      "- generate unique ID from certain `feature.data` contents and `feature.line_no`\n",
      "- this `uniq_id` will be used to build the parent child edges for `GFF3.parent_graph`\n",
      "- access methods will then need to be written for `SimpleFeatureGFF3` that translate `feature.data.ID` to `feature.unique_id` when quereying the `GFF3.parent_graph`.\n",
      "\n",
      "##Note: \n",
      "[Sat May 10 19:00:06 PDT 2014]\n",
      "\n",
      "    uniq_id = '%s:%s:%s:%s:%s' % (feature.data.seqid, feature.data.type, feature.data.start, feature.data.end, feature.data.strand)\n",
      "    \n",
      "[Sun May 11 12:30:56 PDT 2014]\n",
      "```python\n",
      "def set_feature_uniq_id(self, feature):\n",
      "    try:\n",
      "        u_id = '%s:%s:%s:%s:%s:%s:%s' % (feature.line_no, feature.data.seqid, feature.data.type,\n",
      "                                         feature.data.start, feature.data.end, feature.data.strand,\n",
      "                                         feature.data .attributes.ID)\n",
      "    except AttributeError:\n",
      "        u_id = '%s:%s:%s:%s:%s:%s' % (feature.line_no, feature.data.seqid, feature.data.type,\n",
      "                                      feature.data.start, feature.data.end, feature.data.strand)\n",
      "    feature.uniq_id = u_id\n",
      "```"
     ]
    },
    {
     "cell_type": "code",
     "collapsed": false,
     "input": [
      "#%pdb\n",
      "gff3_db = gff3.GFF3(gff3_path, fasta_path=fasta_path)"
     ],
     "language": "python",
     "metadata": {},
     "outputs": [],
     "prompt_number": 28
    },
    {
     "cell_type": "code",
     "collapsed": false,
     "input": [
      "gff3_db.seqids"
     ],
     "language": "python",
     "metadata": {},
     "outputs": [
      {
       "metadata": {},
       "output_type": "pyout",
       "prompt_number": 29,
       "text": [
        "{'2L', 'chromosome:AgamP3:2L:1:49364325:1'}"
       ]
      }
     ],
     "prompt_number": 29
    },
    {
     "cell_type": "code",
     "collapsed": false,
     "input": [
      "gff3_db.sources"
     ],
     "language": "python",
     "metadata": {},
     "outputs": [
      {
       "metadata": {},
       "output_type": "pyout",
       "prompt_number": 30,
       "text": [
        "{'VectorBase'}"
       ]
      }
     ],
     "prompt_number": 30
    },
    {
     "cell_type": "code",
     "collapsed": false,
     "input": [
      "gff3_db.types"
     ],
     "language": "python",
     "metadata": {},
     "outputs": [
      {
       "metadata": {},
       "output_type": "pyout",
       "prompt_number": 31,
       "text": [
        "{'CDS', 'contig', 'exon', 'five_prime_utr', 'gene', 'mRNA', 'three_prime_utr'}"
       ]
      }
     ],
     "prompt_number": 31
    },
    {
     "cell_type": "code",
     "collapsed": false,
     "input": [
      "p_graph = gff3_db.parents_graph"
     ],
     "language": "python",
     "metadata": {},
     "outputs": [],
     "prompt_number": 32
    },
    {
     "cell_type": "code",
     "collapsed": false,
     "input": [
      "nx.draw_graphviz(p_graph)"
     ],
     "language": "python",
     "metadata": {},
     "outputs": [],
     "prompt_number": 33
    },
    {
     "cell_type": "code",
     "collapsed": false,
     "input": [
      "exon = gff3_db.common_to_uniq_id['E013870A']\n",
      "exon"
     ],
     "language": "python",
     "metadata": {},
     "outputs": [
      {
       "metadata": {},
       "output_type": "pyout",
       "prompt_number": 34,
       "text": [
        "'290:2L:exon:1133661:1133751:-1:E013870A'"
       ]
      }
     ],
     "prompt_number": 34
    },
    {
     "cell_type": "code",
     "collapsed": false,
     "input": [
      "exon_node = p_graph[exon]\n",
      "exon_node"
     ],
     "language": "python",
     "metadata": {},
     "outputs": [
      {
       "metadata": {},
       "output_type": "pyout",
       "prompt_number": 35,
       "text": [
        "{'289:2L:mRNA:1133037:1133751:-1:AGAP004690-RA': {}}"
       ]
      }
     ],
     "prompt_number": 35
    },
    {
     "cell_type": "code",
     "collapsed": false,
     "input": [
      "p_graph.neighbors('289:2L:mRNA:1133037:1133751:-1:AGAP004690-RA')"
     ],
     "language": "python",
     "metadata": {},
     "outputs": [
      {
       "metadata": {},
       "output_type": "pyout",
       "prompt_number": 36,
       "text": [
        "['294:2L:CDS:1133189:1133593:-1',\n",
        " '290:2L:exon:1133661:1133751:-1:E013870A',\n",
        " '295:2L:three_prime_utr:1133037:1133188:-1',\n",
        " '293:2L:CDS:1133661:1133669:-1',\n",
        " '292:2L:five_prime_utr:1133670:1133751:-1',\n",
        " '288:2L:gene:1133037:1133751:-1:AGAP004690',\n",
        " '291:2L:exon:1133037:1133593:-1:E013871A']"
       ]
      }
     ],
     "prompt_number": 36
    },
    {
     "cell_type": "code",
     "collapsed": false,
     "input": [
      "p_graph.neighbors('288:2L:gene:1133037:1133751:-1:AGAP004690')"
     ],
     "language": "python",
     "metadata": {},
     "outputs": [
      {
       "metadata": {},
       "output_type": "pyout",
       "prompt_number": 37,
       "text": [
        "['289:2L:mRNA:1133037:1133751:-1:AGAP004690-RA']"
       ]
      }
     ],
     "prompt_number": 37
    },
    {
     "cell_type": "heading",
     "level": 1,
     "metadata": {},
     "source": [
      "Test Sequence access:"
     ]
    },
    {
     "cell_type": "code",
     "collapsed": false,
     "input": [
      "AGAP004685_seqs.keys()"
     ],
     "language": "python",
     "metadata": {},
     "outputs": [
      {
       "metadata": {},
       "output_type": "pyout",
       "prompt_number": 38,
       "text": [
        "['AGAP004685:AGAP004685-RB cds:KNOWN_protein_coding',\n",
        " 'AGAP004685:AGAP004685-RB E013830 exon:KNOWN_protein_coding',\n",
        " 'AGAP004685:AGAP004685-RA E013830 exon:KNOWN_protein_coding',\n",
        " 'AGAP004685:AGAP004685-RB E056739 exon:KNOWN_protein_coding',\n",
        " 'AGAP004685:AGAP004685-RB E013833 exon:KNOWN_protein_coding',\n",
        " 'AGAP004685:AGAP004685-RB E013831 exon:KNOWN_protein_coding',\n",
        " 'AGAP004685:AGAP004685-RB cdna:KNOWN_protein_coding',\n",
        " 'AGAP004685:AGAP004685-RA E054426 exon:KNOWN_protein_coding',\n",
        " 'AGAP004685:AGAP004685-RB utr3:KNOWN_protein_coding',\n",
        " 'AGAP004685:AGAP004685-RB intron 2:KNOWN_protein_coding',\n",
        " 'AGAP004685:AGAP004685-RB E013839 exon:KNOWN_protein_coding',\n",
        " 'AGAP004685:AGAP004685-RB intron 8:KNOWN_protein_coding',\n",
        " 'AGAP004685:AGAP004685-RA peptide: AGAP004685-PA pep:KNOWN_protein_coding',\n",
        " 'AGAP004685:AGAP004685-RB intron 7:KNOWN_protein_coding',\n",
        " 'AGAP004685:AGAP004685-RA E013834 exon:KNOWN_protein_coding',\n",
        " 'AGAP004685:AGAP004685-RA cds:KNOWN_protein_coding',\n",
        " 'AGAP004685:AGAP004685-RA E013835 exon:KNOWN_protein_coding',\n",
        " 'AGAP004685:AGAP004685-RA cdna:KNOWN_protein_coding',\n",
        " 'AGAP004685:AGAP004685-RB peptide: AGAP004685-PB pep:KNOWN_protein_coding',\n",
        " 'AGAP004685:AGAP004685-RA intron 3:KNOWN_protein_coding',\n",
        " 'AGAP004685:AGAP004685-RB intron 4:KNOWN_protein_coding',\n",
        " 'AGAP004685:AGAP004685-RB intron 5:KNOWN_protein_coding',\n",
        " 'AGAP004685:AGAP004685-RA intron 1:KNOWN_protein_coding',\n",
        " 'AGAP004685:AGAP004685-RB intron 9:KNOWN_protein_coding',\n",
        " 'AGAP004685:AGAP004685-RA utr3:KNOWN_protein_coding',\n",
        " 'AGAP004685:AGAP004685-RB intron 3:KNOWN_protein_coding',\n",
        " 'AGAP004685:AGAP004685-RB intron 6:KNOWN_protein_coding',\n",
        " 'AGAP004685:AGAP004685-RA intron 6:KNOWN_protein_coding',\n",
        " 'AGAP004685:AGAP004685-RB E013838 exon:KNOWN_protein_coding',\n",
        " 'AGAP004685:AGAP004685-RA intron 2:KNOWN_protein_coding',\n",
        " 'AGAP004685:AGAP004685-RA E013833 exon:KNOWN_protein_coding',\n",
        " '2L dna:chromosome chromosome:AgamP4:2L:492579:498632:-1',\n",
        " 'AGAP004685:AGAP004685-RA intron 5:KNOWN_protein_coding',\n",
        " 'AGAP004685:AGAP004685-RB E013837 exon:KNOWN_protein_coding',\n",
        " 'AGAP004685:AGAP004685-RA E013831 exon:KNOWN_protein_coding',\n",
        " 'AGAP004685:AGAP004685-RA E013828 exon:KNOWN_protein_coding',\n",
        " 'AGAP004685:AGAP004685-RA intron 7:KNOWN_protein_coding',\n",
        " 'AGAP004685:AGAP004685-RA E013829 exon:KNOWN_protein_coding',\n",
        " 'AGAP004685:AGAP004685-RA utr5:KNOWN_protein_coding',\n",
        " 'AGAP004685:AGAP004685-RB utr5:KNOWN_protein_coding',\n",
        " 'AGAP004685:AGAP004685-RB E013835 exon:KNOWN_protein_coding',\n",
        " 'AGAP004685:AGAP004685-RB intron 1:KNOWN_protein_coding',\n",
        " 'AGAP004685:AGAP004685-RA intron 8:KNOWN_protein_coding',\n",
        " 'AGAP004685:AGAP004685-RA intron 4:KNOWN_protein_coding',\n",
        " 'AGAP004685:AGAP004685-RA E013832 exon:KNOWN_protein_coding',\n",
        " 'AGAP004685:AGAP004685-RB E013832 exon:KNOWN_protein_coding',\n",
        " 'AGAP004685:AGAP004685-RB E013834 exon:KNOWN_protein_coding']"
       ]
      }
     ],
     "prompt_number": 38
    },
    {
     "cell_type": "code",
     "collapsed": false,
     "input": [
      "uniq_id = gff3_db.common_to_uniq_id['AGAP004685']\n",
      "AGAP004685_feat = gff3_db.feature_db[uniq_id]"
     ],
     "language": "python",
     "metadata": {},
     "outputs": [],
     "prompt_number": 39
    },
    {
     "cell_type": "code",
     "collapsed": false,
     "input": [
      "AGAP004685_feat.get_vitals()"
     ],
     "language": "python",
     "metadata": {},
     "outputs": [
      {
       "metadata": {},
       "output_type": "pyout",
       "prompt_number": 40,
       "text": [
        "{'end': 497632, 'seqid': '2L', 'start': 493579, 'strand': -1}"
       ]
      }
     ],
     "prompt_number": 40
    },
    {
     "cell_type": "code",
     "collapsed": false,
     "input": [
      "AGAP004685_feat.get_dna_sequence()"
     ],
     "language": "python",
     "metadata": {},
     "outputs": [
      {
       "metadata": {},
       "output_type": "pyout",
       "prompt_number": 41,
       "text": [
        "u'TTGTGATACGATTCTTCTAATTGTTCATTTTGTTTATCTCATCAACTGATCAACTGATAACTCACTGAAAGGATGAAAAGGAGATGTACCTCAAACAACGAATCTCCCAAAATTGATGCGGGATTAGAGGCGAAGTATTGGAAATTAAAAGTTTCTAATGTCGTTACCAGTGTCGAAACGGCATCGAAAGAATGTTCTGATAACGATAATAATGTCTGTTCTCTTATAAATTGGGATGAAGAATGGCACGATATGCACTGTAACACTGTACATCAGGTAACGATTTTGTTTGTTTAAGTAATATTAAACCTTCACCATATTTTACCGTATGAATATTCTTTCATAGCACTTCACTTTAGACCTATCTACATGGAAAAGATGCAGTGTCTTGACAATCGACCAACTTGAGAATGGAACCATTAAAGTATCATTGCAAGATTCTCATTCCGAAGAAAAAGCTATTTGTCAGCTTTTTCCTCCTTGGTAATTACACACAAAGGAATAATCAACTGAATTCAGCAAGGTCTCCTATATTACAGGAATATGATTCAATGCATTACTCACGGCTTGATAGTATCAGTGTTGGCCATGAAAGTTAGTCCATCATCAAGCCATTTTGTAGTCAACGCAGATTTCGGATTTTTTGTCACGGATCCTGATAGACTCGTTTCAGGTACTACTGTAGTGGGATCATTGTTCTGTCATCGGCGCGGAGTCTTACAGGAGCTGTTTCGTATGTCAGAATCGGAGAATACACAGGTTTGTACGAAATTACTCATCACTAATTACATATTTTAATGTAGTTTTCTTTTTATCTGTATTCCACGTTAGATGGTTATTGGAACCGTGGTGCATTATATTTTCCAACGGTGCCTTTTGGACAAGTCTTGCAAATTACTAACTCATGTAGAAACTATTGCAAAAAAAGTTATGAAGACTAAAAAGGTTATCTCATCTCTTTATGAAGTTAACTTAAGCACGAAGGAAGCGTTCAGTTTACTGGGTCCATATCTTAAAGAAATCGAGACGTTCTTAAACAAACACTTTAATCACAGGTCTATACAAACTGATACTGAAACAATTGCCATCTGTGAGGTTAATGATATCGAGGAAAATATTTGGTGCCATCATTTGGGAGTTAAAGGCAGAATCGATGCAACAGTTTCCGTATCAAGTGATGCGACAAAGAAAACGTTTGAAATTATGCCTTTAGAACTGAAAACAGGTCGAGCTAGTTATTCATTTGAACATCTTGGCCAGCTGGCGTTGTATCAAATGATGATGAATCTTGTTGGACATGAGGTAAACGCTGGATTACTCCTGTACTTGAAAGAGGGAAAATGTAGTCGTGTAACTGCAAATCGTAACATGAAGCGTGATTTGATCATTCTGCGAAATGAAGTTGCACGGTCCCTAAGCAAGTGGATGGTAAAAGATAATATAACTCAAAAGGGATCATTGGCGATGAAGCCCACTTTACCAGACCCTATCAATAACGAACGAGCTTGTACCAAATGTCCATATAACACAGTTTGCATAACATTATTGAAAAGCGAACGTGAAGGCACCGTTACAAATTATGGATTGTCAATACTTGCAGAAGAAGCATGTGGTCATCTAAGAACTAAAGACGTTGATTACTTCATTCAATGGTCCGGTCTTATATATTTGGAAACTCATGACGAGACAGTACAATGTAAGTAGAGAGCTTAAGCGCCAGCACCAGACAATTAAATTAACCATATTCCACCGTTCTCAGCGCGCAACGTACAAAACATGTGGAATTCATCCCCAAAGGAACGGGCAGAAACGGGAAGATGCATTTATGGGCTGATTTTAGTCTCTCCTGTGCGTATCGTGGATGACTTATATTTTCATACTTTCAAATTAGAAGCAGCAAGTAGCACATTACCTAAAGCTTTGGATACTTTTCAAGTTGGTGAATATATTATATGTAGTACTTCTAAACGGATTGCCGTAGCTTCTGGATACATAATTAGTCATGCTAGTAACGAAATTGTTGTCTCTTTTGAACGGGACTTGTCAACTAATTATGGAGCTGAAACCTTTATATTAGATCAAAATACTCTCTATAAATCCACATTTAATTTATCCAACTTAGCATTGCTTCTCTTTAACGATGACCGTTGCTCGCAGTATCGCAGGTAAAGAATTATCACTAATTTGGCGCATGTTACGATGAATTTCATTAAAATTTCATTCTAGGATTATTATTGATCGTGAAAAGCCAACATTCTCAGATGGATTTCTCTCAAAATCTATGATTCCAAAGGCCAAGGAAATCCTGAAAAAGTTGAACCGTCACCAGAAAAATGCAGCCCTTAAGGCCGCTGCTACAAAATCCTACTGCTTATTAAAGGGTTTACCTGGAACTGGGAAAACTCAAACAATTGTAGGATTGATCAGATTGTTATCGCTCTTAGGTCAATCTATACTACTGACTAGTAGCACACATTCTGCTGTTGATAATGTACTGAAGCGCCTATTGCCTTTTCAAGATCTAAAGTTTATTCGACTAGGATCAATAGATCGTATCGATCCAGCTGTAGCATCATCTGCAGAAGCTATTGTAACTGAGCATTGTGATTCTCCGGAAAAACTGAGTGAAGTATATGAACAATACGTATGTAAGAAATACGCAAACCCCGTTAGCTTTGTAATTAAATGTTGTTTATTTTTACAGAAAATTGTTGGAGTAACGTGCCAGGGAACCGGCCATCCCCTGATTAATAAACGCCTCTTTGACTTTTGTATTGTGGATGAAGCGACTCAAGTTTTTCAACCTAGCCTAATTCGACCATTGTTACGTAGCAAACGATTTCTATTAGTAGGCGATCCAGAACAACTGCCTCCTGTGATCAAATCTGTTGAAGCACGGTAATGCTTTAAAATATTTTTAATTTAAAAATTGTAATATGTTCCATCGTGTTCAACAAACAGTATTTTAAAATGCATTTATATCTGTTTCAGCTCCCTCGGCGCATGTGAAAGTATGTTTCACAGATTGGACCAAGAAGGTTCCTTTTACATACTTCCAACACAGTATCGAATGAATCGTGTCTTGACAAAATTGGCTAACGAGTTTGCTTATAACGGTAAATTAATTTGTGGAAATGATATTGTGGAAAATAACACCATTAACCTTCCGAATCTGGAAAATATACGTAGGATATATGAAGTAGAAAGGTGGCTACTGAAAATGATATCCAATCAAATTGACTTATCAGTAGTCTTAGTGGACACTGGTAACACATATCAAATGAACCTAAACTATAGAAAATTGAATGAAATATCGACTAGCATTACAGATGATCAAAGTAAAAACGCAATGAACTGCACAAACGTTTCGGAAATAGCCATTGTAGTATACGTTAGTTGGGCTTTCCTTCAAGCTGGCGTTGAACCTGAATCAATAGGTATTATTGCACCATTTCGAGCACAGGTGGAATTAATACGAAAACTCATGAAGAAATTATTTGAAAAACAAAAATACACTCGTCACTCTTCAAGTTCAAATCATAACGTAATATATACGAAGGAAAATGTTGAGCAATTGAATCATACTTGCAATATTGAAGTCAACACTATAGATCAATTTCAAGGAAAGGATAAAAAGGTACAGTATACGAAGAACACTTTTTCATGACTTGTGTCTAAATGTTTTATTTTTTCGCAGATAATACTATTTTCGTGCACAAAATCATCAAATTTATCCGATGATATCTGGATCAACAAAGGAAAAGAACGGAGCTCTCACGGTTACGAAATATTAAGCGATAAAAGCCGATTAACTGTTGCAATTACAAGAGCCAAGGAGAAACTTATCATTATAGGCGATCGATTGACCCTGGATTCGTATGCTCCGTTCAAAAAGTTGTTTAATGTGGCGAGCAAAATCAGTAACATCAGCCTTCGTGAAAAAAAGGATGGATTTGAGTGGAATGCTCTTCTTGAATTTCTTATTTCCTTATCAGACTAGAAGCAGGTTCGATGTTTCCGGATAGTAATTTAATAAAACGACACGGTAGCTACA'"
       ]
      }
     ],
     "prompt_number": 41
    },
    {
     "cell_type": "code",
     "collapsed": false,
     "input": [
      "AGAP004685_feat.get_dna_sequence() in str(AGAP004685_seqs['2L dna:chromosome chromosome:AgamP4:2L:492579:498632:-1'])"
     ],
     "language": "python",
     "metadata": {},
     "outputs": [
      {
       "metadata": {},
       "output_type": "pyout",
       "prompt_number": 49,
       "text": [
        "True"
       ]
      }
     ],
     "prompt_number": 49
    },
    {
     "cell_type": "code",
     "collapsed": false,
     "input": [
      "AGAP004685_feat.uniq_id"
     ],
     "language": "python",
     "metadata": {},
     "outputs": [
      {
       "metadata": {},
       "output_type": "pyout",
       "prompt_number": 48,
       "text": [
        "'110:2L:gene:493579:497632:-1:AGAP004685'"
       ]
      }
     ],
     "prompt_number": 48
    },
    {
     "cell_type": "code",
     "collapsed": false,
     "input": [],
     "language": "python",
     "metadata": {},
     "outputs": []
    }
   ],
   "metadata": {}
  }
 ]
}