{
 "metadata": {
  "name": "",
  "signature": "sha256:eea38f15222f8afd4860f2e40ae891d9f796fd760f33baaeed79263e43fbc999"
 },
 "nbformat": 3,
 "nbformat_minor": 0,
 "worksheets": [
  {
   "cells": [
    {
     "cell_type": "heading",
     "level": 1,
     "metadata": {},
     "source": [
      "Develop/test functions to easily extract upstream seq of genes."
     ]
    },
    {
     "cell_type": "heading",
     "level": 1,
     "metadata": {},
     "source": [
      "Test `load_genes_gffutils(gff3_path)`"
     ]
    },
    {
     "cell_type": "code",
     "collapsed": false,
     "input": [
      "gff3_path = \"/home/gus/Dropbox/repos/git/spartan/testing/gff3/test1.ensembl.gff3\"\n",
      "gff3_db = gff3_path+'.db'"
     ],
     "language": "python",
     "metadata": {},
     "outputs": [],
     "prompt_number": 1
    },
    {
     "cell_type": "code",
     "collapsed": false,
     "input": [
      "from spartan.utils.annotations.gffutils_helpers import load_gff3"
     ],
     "language": "python",
     "metadata": {},
     "outputs": [],
     "prompt_number": 2
    },
    {
     "cell_type": "code",
     "collapsed": false,
     "input": [
      "#%psource load_gff3"
     ],
     "language": "python",
     "metadata": {},
     "outputs": [],
     "prompt_number": 3
    },
    {
     "cell_type": "code",
     "collapsed": false,
     "input": [
      "db = load_gff3(gff3_path)"
     ],
     "language": "python",
     "metadata": {},
     "outputs": [],
     "prompt_number": 4
    },
    {
     "cell_type": "code",
     "collapsed": false,
     "input": [
      "len(list(db.all_features()))"
     ],
     "language": "python",
     "metadata": {},
     "outputs": [
      {
       "metadata": {},
       "output_type": "pyout",
       "prompt_number": 5,
       "text": [
        "281"
       ]
      }
     ],
     "prompt_number": 5
    },
    {
     "cell_type": "code",
     "collapsed": false,
     "input": [
      "gene = db['AGAP004677']"
     ],
     "language": "python",
     "metadata": {},
     "outputs": [],
     "prompt_number": 6
    },
    {
     "cell_type": "code",
     "collapsed": false,
     "input": [
      "print gene"
     ],
     "language": "python",
     "metadata": {},
     "outputs": [
      {
       "output_type": "stream",
       "stream": "stdout",
       "text": [
        "2L\tVectorBase\tgene\t157348\t186936\t.\t-\t.\tID=AGAP004677;\n"
       ]
      }
     ],
     "prompt_number": 7
    },
    {
     "cell_type": "code",
     "collapsed": false,
     "input": [
      "for i in db.children(gene, featuretype='mRNA', order_by='start'):\n",
      "    print i"
     ],
     "language": "python",
     "metadata": {},
     "outputs": [
      {
       "output_type": "stream",
       "stream": "stdout",
       "text": [
        "2L\tVectorBase\tmRNA\t157348\t181305\t.\t-\t.\tDbxref=RefSeq_peptide:XP_001687783,RefSeq_peptide:XP_314619,RefSeq_NA:XM_001687731,RefSeq_NA:XM_001687731,RefSeq_mRNA_predicted:XM_001687731,RefSeq_Prot:XP_001687783,RefSeq_Prot:XP_314619,RefSeq_rna_predicted:XM_001687731,GenBank:AAAB01008942,UniProtKB:A7UTF7,UniProtKB:Q7PHT4,goslim_goa:GO:0003674,goslim_goa:GO:0008150,goslim_goa:GO:0009058,goslim_goa:GO:0016491,goslim_goa:GO:0016810,goslim_goa:GO:0034641,goslim_goa:GO:0051186,protein_id:EAA44412,protein_id:EDO64016,UniParc:UPI0000020060;ID=AGAP004677-RA;Parent=AGAP004677;description=hypothetical protein;\n",
        "2L\tVectorBase\tmRNA\t157348\t186936\t.\t-\t.\tDbxref=RefSeq_peptide:XP_314619,RefSeq_NA:XM_314619,RefSeq_NA:XM_314619,RefSeq_mRNA_predicted:XM_314619,RefSeq_Prot:XP_314619,RefSeq_rna_predicted:XM_314619,GenBank:AAAB01008942,UniProtKB:Q7PHT4,goslim_goa:GO:0003674,goslim_goa:GO:0008150,goslim_goa:GO:0009058,goslim_goa:GO:0016491,goslim_goa:GO:0016810,goslim_goa:GO:0034641,goslim_goa:GO:0051186,protein_id:EAA44412,UniParc:UPI000002004D;ID=AGAP004677-RB;Parent=AGAP004677;description=hypothetical protein;\n"
       ]
      }
     ],
     "prompt_number": 8
    },
    {
     "cell_type": "code",
     "collapsed": false,
     "input": [
      "gene.attributes"
     ],
     "language": "python",
     "metadata": {},
     "outputs": [
      {
       "metadata": {},
       "output_type": "pyout",
       "prompt_number": 9,
       "text": [
        "{u'ID': [u'AGAP004677']}"
       ]
      }
     ],
     "prompt_number": 9
    },
    {
     "cell_type": "heading",
     "level": 1,
     "metadata": {},
     "source": [
      "Test `SimpleFeatureGFF3`"
     ]
    },
    {
     "cell_type": "code",
     "collapsed": false,
     "input": [
      "from spartan.utils.annotations.ensembl import gff3"
     ],
     "language": "python",
     "metadata": {},
     "outputs": [],
     "prompt_number": 10
    },
    {
     "cell_type": "code",
     "collapsed": false,
     "input": [
      "feats = list(gff3.parse_gff3(gff3_path))"
     ],
     "language": "python",
     "metadata": {},
     "outputs": [],
     "prompt_number": 11
    },
    {
     "cell_type": "code",
     "collapsed": false,
     "input": [
      "len(feats)"
     ],
     "language": "python",
     "metadata": {},
     "outputs": [
      {
       "metadata": {},
       "output_type": "pyout",
       "prompt_number": 12,
       "text": [
        "281"
       ]
      }
     ],
     "prompt_number": 12
    },
    {
     "cell_type": "code",
     "collapsed": false,
     "input": [
      "feats[2].data.attributes"
     ],
     "language": "python",
     "metadata": {},
     "outputs": [
      {
       "metadata": {},
       "output_type": "pyout",
       "prompt_number": 13,
       "text": [
        "{'Dbxref': 'RefSeq_peptide:XP_314619,RefSeq_NA:XM_314619,RefSeq_NA:XM_314619,RefSeq_mRNA_predicted:XM_314619,RefSeq_Prot:XP_314619,RefSeq_rna_predicted:XM_314619,GenBank:AAAB01008942,UniProtKB:Q7PHT4,goslim_goa:GO:0003674,goslim_goa:GO:0008150,goslim_goa:GO:0009058,goslim_goa:GO:0016491,goslim_goa:GO:0016810,goslim_goa:GO:0034641,goslim_goa:GO:0051186,protein_id:EAA44412,UniParc:UPI000002004D',\n",
        " 'ID': 'AGAP004677-RB',\n",
        " 'Parent': 'AGAP004677',\n",
        " 'description': 'hypothetical protein',\n",
        " 'unnamed_attributes': ['']}"
       ]
      }
     ],
     "prompt_number": 13
    },
    {
     "cell_type": "code",
     "collapsed": false,
     "input": [
      "feature_x = feats[2]"
     ],
     "language": "python",
     "metadata": {},
     "outputs": [],
     "prompt_number": 14
    },
    {
     "cell_type": "code",
     "collapsed": false,
     "input": [
      "feature_x.line_no"
     ],
     "language": "python",
     "metadata": {},
     "outputs": [
      {
       "metadata": {},
       "output_type": "pyout",
       "prompt_number": 25,
       "text": [
        "17"
       ]
      }
     ],
     "prompt_number": 25
    },
    {
     "cell_type": "code",
     "collapsed": false,
     "input": [
      "feature_x.data.strand"
     ],
     "language": "python",
     "metadata": {},
     "outputs": [
      {
       "metadata": {},
       "output_type": "pyout",
       "prompt_number": 15,
       "text": [
        "-1"
       ]
      }
     ],
     "prompt_number": 15
    },
    {
     "cell_type": "code",
     "collapsed": false,
     "input": [
      "feature_x.get_range()"
     ],
     "language": "python",
     "metadata": {},
     "outputs": [
      {
       "metadata": {},
       "output_type": "pyout",
       "prompt_number": 16,
       "text": [
        "(157348, 186936)"
       ]
      }
     ],
     "prompt_number": 16
    },
    {
     "cell_type": "code",
     "collapsed": false,
     "input": [
      "upstream = feature_x.get_upstream(1000)"
     ],
     "language": "python",
     "metadata": {},
     "outputs": [],
     "prompt_number": 17
    },
    {
     "cell_type": "code",
     "collapsed": false,
     "input": [
      "upstream.get_range()"
     ],
     "language": "python",
     "metadata": {},
     "outputs": [
      {
       "metadata": {},
       "output_type": "pyout",
       "prompt_number": 18,
       "text": [
        "(186937, 187936)"
       ]
      }
     ],
     "prompt_number": 18
    },
    {
     "cell_type": "code",
     "collapsed": false,
     "input": [
      "upstream.data.strand"
     ],
     "language": "python",
     "metadata": {},
     "outputs": [
      {
       "metadata": {},
       "output_type": "pyout",
       "prompt_number": 19,
       "text": [
        "-1"
       ]
      }
     ],
     "prompt_number": 19
    },
    {
     "cell_type": "code",
     "collapsed": false,
     "input": [
      "downstream = feature_x.get_downstream(1000)"
     ],
     "language": "python",
     "metadata": {},
     "outputs": [],
     "prompt_number": 20
    },
    {
     "cell_type": "code",
     "collapsed": false,
     "input": [
      "downstream.data.strand"
     ],
     "language": "python",
     "metadata": {},
     "outputs": [
      {
       "metadata": {},
       "output_type": "pyout",
       "prompt_number": 21,
       "text": [
        "-1"
       ]
      }
     ],
     "prompt_number": 21
    },
    {
     "cell_type": "code",
     "collapsed": true,
     "input": [
      "downstream.get_range()"
     ],
     "language": "python",
     "metadata": {},
     "outputs": [
      {
       "metadata": {},
       "output_type": "pyout",
       "prompt_number": 22,
       "text": [
        "(156348, 157347)"
       ]
      }
     ],
     "prompt_number": 22
    },
    {
     "cell_type": "code",
     "collapsed": false,
     "input": [
      "len(downstream)"
     ],
     "language": "python",
     "metadata": {},
     "outputs": [
      {
       "metadata": {},
       "output_type": "pyout",
       "prompt_number": 23,
       "text": [
        "1000"
       ]
      }
     ],
     "prompt_number": 23
    },
    {
     "cell_type": "code",
     "collapsed": false,
     "input": [
      "downstream.data"
     ],
     "language": "python",
     "metadata": {},
     "outputs": [
      {
       "metadata": {},
       "output_type": "pyout",
       "prompt_number": 24,
       "text": [
        "{'attributes': {'Dbxref': 'RefSeq_peptide:XP_314619,RefSeq_NA:XM_314619,RefSeq_NA:XM_314619,RefSeq_mRNA_predicted:XM_314619,RefSeq_Prot:XP_314619,RefSeq_rna_predicted:XM_314619,GenBank:AAAB01008942,UniProtKB:Q7PHT4,goslim_goa:GO:0003674,goslim_goa:GO:0008150,goslim_goa:GO:0009058,goslim_goa:GO:0016491,goslim_goa:GO:0016810,goslim_goa:GO:0034641,goslim_goa:GO:0051186,protein_id:EAA44412,UniParc:UPI000002004D',\n",
        "  'ID': 'AGAP004677-RB',\n",
        "  'Parent': 'AGAP004677',\n",
        "  'description': 'hypothetical protein',\n",
        "  'unnamed_attributes': ['']},\n",
        " 'end': 157347,\n",
        " 'phase': '.',\n",
        " 'score': '.',\n",
        " 'seqid': '2L',\n",
        " 'source': 'spartan_derived',\n",
        " 'start': 156348,\n",
        " 'strand': -1,\n",
        " 'type': 'downstream_region'}"
       ]
      }
     ],
     "prompt_number": 24
    },
    {
     "cell_type": "heading",
     "level": 1,
     "metadata": {},
     "source": [
      "Test `GFF3` class:"
     ]
    },
    {
     "cell_type": "code",
     "collapsed": false,
     "input": [
      "gff3_db = gff3.GFF3(gff3_path)"
     ],
     "language": "python",
     "metadata": {},
     "outputs": [
      {
       "ename": "AttributeError",
       "evalue": "'Bunch' object has no attribute 'ID'",
       "output_type": "pyerr",
       "traceback": [
        "\u001b[1;31m---------------------------------------------------------------------------\u001b[0m\n\u001b[1;31mAttributeError\u001b[0m                            Traceback (most recent call last)",
        "\u001b[1;32m<ipython-input-26-a63e7d586bba>\u001b[0m in \u001b[0;36m<module>\u001b[1;34m()\u001b[0m\n\u001b[1;32m----> 1\u001b[1;33m \u001b[0mgff3_db\u001b[0m \u001b[1;33m=\u001b[0m \u001b[0mgff3\u001b[0m\u001b[1;33m.\u001b[0m\u001b[0mGFF3\u001b[0m\u001b[1;33m(\u001b[0m\u001b[0mgff3_path\u001b[0m\u001b[1;33m)\u001b[0m\u001b[1;33m\u001b[0m\u001b[0m\n\u001b[0m",
        "\u001b[1;32m/home/gus/Dropbox/repos/git/spartan/src/spartan/utils/annotations/ensembl/gff3.py\u001b[0m in \u001b[0;36m__init__\u001b[1;34m(self, gff3_path)\u001b[0m\n\u001b[0;32m     64\u001b[0m         \u001b[0mself\u001b[0m\u001b[1;33m.\u001b[0m\u001b[0msources\u001b[0m \u001b[1;33m=\u001b[0m \u001b[0mset\u001b[0m\u001b[1;33m(\u001b[0m\u001b[1;33m)\u001b[0m\u001b[1;33m\u001b[0m\u001b[0m\n\u001b[0;32m     65\u001b[0m \u001b[1;33m\u001b[0m\u001b[0m\n\u001b[1;32m---> 66\u001b[1;33m         \u001b[0mself\u001b[0m\u001b[1;33m.\u001b[0m\u001b[0minstall_gff3_features_from_file\u001b[0m\u001b[1;33m(\u001b[0m\u001b[0mself\u001b[0m\u001b[1;33m.\u001b[0m\u001b[0mgff3_path\u001b[0m\u001b[1;33m)\u001b[0m\u001b[1;33m\u001b[0m\u001b[0m\n\u001b[0m\u001b[0;32m     67\u001b[0m \u001b[1;33m\u001b[0m\u001b[0m\n\u001b[0;32m     68\u001b[0m     \u001b[1;32mdef\u001b[0m \u001b[0minstall_gff3_features_from_file\u001b[0m\u001b[1;33m(\u001b[0m\u001b[0mself\u001b[0m\u001b[1;33m,\u001b[0m \u001b[0mgff3_path\u001b[0m\u001b[1;33m)\u001b[0m\u001b[1;33m:\u001b[0m\u001b[1;33m\u001b[0m\u001b[0m\n",
        "\u001b[1;32m/home/gus/Dropbox/repos/git/spartan/src/spartan/utils/annotations/ensembl/gff3.py\u001b[0m in \u001b[0;36minstall_gff3_features_from_file\u001b[1;34m(self, gff3_path)\u001b[0m\n\u001b[0;32m     71\u001b[0m         \u001b[1;32mfor\u001b[0m \u001b[0mfeature\u001b[0m \u001b[1;32min\u001b[0m \u001b[0mfeatures\u001b[0m\u001b[1;33m:\u001b[0m\u001b[1;33m\u001b[0m\u001b[0m\n\u001b[0;32m     72\u001b[0m             \u001b[1;31m# add feature to feature_db\u001b[0m\u001b[1;33m\u001b[0m\u001b[1;33m\u001b[0m\u001b[0m\n\u001b[1;32m---> 73\u001b[1;33m             \u001b[0mID\u001b[0m \u001b[1;33m=\u001b[0m \u001b[0mfeature\u001b[0m\u001b[1;33m.\u001b[0m\u001b[0mdata\u001b[0m\u001b[1;33m.\u001b[0m\u001b[0mattributes\u001b[0m\u001b[1;33m.\u001b[0m\u001b[0mID\u001b[0m\u001b[1;33m\u001b[0m\u001b[0m\n\u001b[0m\u001b[0;32m     74\u001b[0m             \u001b[0mself\u001b[0m\u001b[1;33m.\u001b[0m\u001b[0mfeature_db\u001b[0m\u001b[1;33m[\u001b[0m\u001b[0mID\u001b[0m\u001b[1;33m]\u001b[0m \u001b[1;33m=\u001b[0m \u001b[0mfeature\u001b[0m\u001b[1;33m\u001b[0m\u001b[0m\n\u001b[0;32m     75\u001b[0m \u001b[1;33m\u001b[0m\u001b[0m\n",
        "\u001b[1;31mAttributeError\u001b[0m: 'Bunch' object has no attribute 'ID'"
       ]
      }
     ],
     "prompt_number": 26
    },
    {
     "cell_type": "heading",
     "level": 2,
     "metadata": {},
     "source": [
      "Note: "
     ]
    },
    {
     "cell_type": "markdown",
     "metadata": {},
     "source": [
      "[Sat May 10 13:50:14 PDT 2014]\n",
      "\n",
      "Some features do not have `ID`'s in there attributes string even if they **do** have `Parent` defined.\n",
      "This makes building the `GFF3.parent_graph` based on `ID`,`Parent` defined edges incomplete."
     ]
    },
    {
     "cell_type": "heading",
     "level": 2,
     "metadata": {},
     "source": [
      "Proposal:"
     ]
    },
    {
     "cell_type": "markdown",
     "metadata": {},
     "source": [
      "[Sat May 10 13:50:14 PDT 2014]\n",
      "\n",
      "- generate unique ID from certain `feature.data` contents and `feature.line_no`\n",
      "- this `uniq_id` will be used to build the parent child edges for `GFF3.parent_graph`\n",
      "- access methods will then need to be written for `SimpleFeatureGFF3` that translate `feature.data.ID` to `feature.unique_id` when quereying the `GFF3.parent_graph`."
     ]
    },
    {
     "cell_type": "code",
     "collapsed": false,
     "input": [],
     "language": "python",
     "metadata": {},
     "outputs": []
    }
   ],
   "metadata": {}
  }
 ]
}