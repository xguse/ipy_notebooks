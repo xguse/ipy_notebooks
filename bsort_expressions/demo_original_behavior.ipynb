{
 "metadata": {
  "name": "",
  "signature": "sha256:d803c26344cad5e4707b3b2e5ca479b7359a74ad2b2c150f75f8999c7f104d5d"
 },
 "nbformat": 3,
 "nbformat_minor": 0,
 "worksheets": [
  {
   "cells": [
    {
     "cell_type": "heading",
     "level": 1,
     "metadata": {},
     "source": [
      "Purpose of notebook:"
     ]
    },
    {
     "cell_type": "markdown",
     "metadata": {},
     "source": [
      "Establish the baseline behavior of the code I originally wrote to attempt a bayesian sorting of expression patterns similar to the rating systems of newegg and amazon etc."
     ]
    },
    {
     "cell_type": "heading",
     "level": 1,
     "metadata": {},
     "source": [
      "Make sure the code still runs and has access to needed data files."
     ]
    },
    {
     "cell_type": "heading",
     "level": 2,
     "metadata": {},
     "source": [
      "Presetting useful variables:"
     ]
    },
    {
     "cell_type": "code",
     "collapsed": false,
     "input": [
      "# configuration file\n",
      "conf = \"/home/gus/Dropbox/repos/git/gfunc/src/gfunc/scripts/Cq_Ag_ecrTeam.conf\"\n",
      "\n"
     ],
     "language": "python",
     "metadata": {},
     "outputs": [],
     "prompt_number": 1
    },
    {
     "cell_type": "heading",
     "level": 2,
     "metadata": {},
     "source": []
    },
    {
     "cell_type": "heading",
     "level": 2,
     "metadata": {},
     "source": [
      "Building and saving the graph:"
     ]
    },
    {
     "cell_type": "heading",
     "level": 5,
     "metadata": {},
     "source": [
      "Note regarding original motif search tables: "
     ]
    },
    {
     "cell_type": "markdown",
     "metadata": {},
     "source": [
      "The original file, <font color='green'>*/home/gus/Dropbox/common/projects/Aa_Ag_Cq_As/gfunc_stuff/motif_searches/Aa_AaAgCq_ortho_2000up.standardized_motif_scores.tsv*</font>, no longer exists.\n",
      "\n",
      "I will have to continue with a newer motif results table that already incorperates the omission of negative log-odds sites. \n",
      "\n",
      "<font color=red>**SEE BOTTOM for description of regeneration of suitable motif tables**</font>"
     ]
    },
    {
     "cell_type": "code",
     "collapsed": false,
     "input": [
      "%run -i /home/gus/Dropbox/repos/git/gfunc/src/gfunc/scripts/gfunc_build.py \\\n",
      "/home/gus/Dropbox/repos/git/gfunc/src/gfunc/scripts/Cq_Ag_ecrTeam.conf\n"
     ],
     "language": "python",
     "metadata": {},
     "outputs": [
      {
       "ename": "IOError",
       "evalue": "[Errno 2] No such file or directory: '/home/gus/Dropbox/common/projects/Aa_Ag_Cq_As/gfunc_stuff/motif_searches/Aa_AaAgCq_ortho_2000up.standardized_motif_scores.tsv'",
       "output_type": "pyerr",
       "traceback": [
        "\u001b[1;31m---------------------------------------------------------------------------\u001b[0m\n\u001b[1;31mIOError\u001b[0m                                   Traceback (most recent call last)",
        "\u001b[1;32m/home/gus/Dropbox/repos/git/gfunc/src/gfunc/scripts/gfunc_build.py\u001b[0m in \u001b[0;36m<module>\u001b[1;34m()\u001b[0m\n\u001b[0;32m    100\u001b[0m \u001b[1;33m\u001b[0m\u001b[0m\n\u001b[0;32m    101\u001b[0m \u001b[1;32mif\u001b[0m \u001b[0m__name__\u001b[0m \u001b[1;33m==\u001b[0m \u001b[1;34m'__main__'\u001b[0m\u001b[1;33m:\u001b[0m\u001b[1;33m\u001b[0m\u001b[0m\n\u001b[1;32m--> 102\u001b[1;33m     \u001b[0mmain\u001b[0m\u001b[1;33m(\u001b[0m\u001b[1;33m)\u001b[0m\u001b[1;33m\u001b[0m\u001b[0m\n\u001b[0m\u001b[0;32m    103\u001b[0m     \u001b[1;32mprint\u001b[0m \u001b[1;34m\"main() completed.\"\u001b[0m\u001b[1;33m\u001b[0m\u001b[0m\n",
        "\u001b[1;32m/home/gus/Dropbox/repos/git/gfunc/src/gfunc/scripts/gfunc_build.py\u001b[0m in \u001b[0;36mmain\u001b[1;34m()\u001b[0m\n\u001b[0;32m     81\u001b[0m     \u001b[0myopts\u001b[0m \u001b[1;33m=\u001b[0m \u001b[0mbunchify\u001b[0m\u001b[1;33m(\u001b[0m\u001b[0myaml\u001b[0m\u001b[1;33m.\u001b[0m\u001b[0mload\u001b[0m\u001b[1;33m(\u001b[0m\u001b[0mopen\u001b[0m\u001b[1;33m(\u001b[0m\u001b[0margs\u001b[0m\u001b[1;33m.\u001b[0m\u001b[0mconfig_file\u001b[0m\u001b[1;33m,\u001b[0m \u001b[1;34m'rU'\u001b[0m\u001b[1;33m)\u001b[0m\u001b[1;33m)\u001b[0m\u001b[1;33m)\u001b[0m\u001b[1;33m\u001b[0m\u001b[0m\n\u001b[0;32m     82\u001b[0m \u001b[1;33m\u001b[0m\u001b[0m\n\u001b[1;32m---> 83\u001b[1;33m     \u001b[0mparser_list\u001b[0m \u001b[1;33m=\u001b[0m \u001b[0msetup_parsers\u001b[0m\u001b[1;33m(\u001b[0m\u001b[0myopts\u001b[0m\u001b[1;33m)\u001b[0m\u001b[1;33m\u001b[0m\u001b[0m\n\u001b[0m\u001b[0;32m     84\u001b[0m \u001b[1;33m\u001b[0m\u001b[0m\n\u001b[0;32m     85\u001b[0m     \u001b[0mgBuilder\u001b[0m \u001b[1;33m=\u001b[0m \u001b[0mGraphBuilder\u001b[0m\u001b[1;33m(\u001b[0m\u001b[0mparser_list\u001b[0m\u001b[1;33m)\u001b[0m\u001b[1;33m\u001b[0m\u001b[0m\n",
        "\u001b[1;32m/home/gus/Dropbox/repos/git/gfunc/src/gfunc/scripts/gfunc_build.py\u001b[0m in \u001b[0;36msetup_parsers\u001b[1;34m(yopts)\u001b[0m\n\u001b[0;32m     46\u001b[0m                                               species=y.species_info.Culex_quinquefasciatus.name))\n\u001b[0;32m     47\u001b[0m \u001b[1;33m\u001b[0m\u001b[0m\n\u001b[1;32m---> 48\u001b[1;33m     \u001b[0mparser_list\u001b[0m\u001b[1;33m.\u001b[0m\u001b[0mappend\u001b[0m\u001b[1;33m(\u001b[0m\u001b[0mBasicTFBSParser\u001b[0m\u001b[1;33m(\u001b[0m\u001b[0mtfbs_path\u001b[0m\u001b[1;33m=\u001b[0m\u001b[0my\u001b[0m\u001b[1;33m.\u001b[0m\u001b[0mspecies_info\u001b[0m\u001b[1;33m.\u001b[0m\u001b[0mAnopheles_gambiae\u001b[0m\u001b[1;33m.\u001b[0m\u001b[0mtfbs_data\u001b[0m\u001b[1;33m)\u001b[0m\u001b[1;33m)\u001b[0m\u001b[1;33m\u001b[0m\u001b[0m\n\u001b[0m\u001b[0;32m     49\u001b[0m     \u001b[0mparser_list\u001b[0m\u001b[1;33m.\u001b[0m\u001b[0mappend\u001b[0m\u001b[1;33m(\u001b[0m\u001b[0mBasicTFBSParser\u001b[0m\u001b[1;33m(\u001b[0m\u001b[0mtfbs_path\u001b[0m\u001b[1;33m=\u001b[0m\u001b[0my\u001b[0m\u001b[1;33m.\u001b[0m\u001b[0mspecies_info\u001b[0m\u001b[1;33m.\u001b[0m\u001b[0mCulex_quinquefasciatus\u001b[0m\u001b[1;33m.\u001b[0m\u001b[0mtfbs_data\u001b[0m\u001b[1;33m)\u001b[0m\u001b[1;33m)\u001b[0m\u001b[1;33m\u001b[0m\u001b[0m\n\u001b[0;32m     50\u001b[0m \u001b[1;33m\u001b[0m\u001b[0m\n",
        "\u001b[1;32m/home/gus/Dropbox/repos/git/gfunc/src/gfunc/parsers/JASPAR.py\u001b[0m in \u001b[0;36m__init__\u001b[1;34m(self, tfbs_path)\u001b[0m\n\u001b[0;32m     28\u001b[0m \u001b[1;33m\u001b[0m\u001b[0m\n\u001b[0;32m     29\u001b[0m         \u001b[0mself\u001b[0m\u001b[1;33m.\u001b[0m\u001b[0mdata_type\u001b[0m \u001b[1;33m=\u001b[0m \u001b[1;34m'tfbs_vector'\u001b[0m\u001b[1;33m\u001b[0m\u001b[0m\n\u001b[1;32m---> 30\u001b[1;33m         \u001b[0mself\u001b[0m\u001b[1;33m.\u001b[0m\u001b[0m_tableFile\u001b[0m \u001b[1;33m=\u001b[0m \u001b[0mtableFile2namedTuple\u001b[0m\u001b[1;33m(\u001b[0m\u001b[0mtablePath\u001b[0m\u001b[1;33m=\u001b[0m\u001b[0mtfbs_path\u001b[0m\u001b[1;33m,\u001b[0m\u001b[0msep\u001b[0m\u001b[1;33m=\u001b[0m\u001b[1;34m'\\t'\u001b[0m\u001b[1;33m)\u001b[0m\u001b[1;33m\u001b[0m\u001b[0m\n\u001b[0m\u001b[0;32m     31\u001b[0m \u001b[1;33m\u001b[0m\u001b[0m\n\u001b[0;32m     32\u001b[0m     \u001b[1;32mdef\u001b[0m \u001b[0m_setup_tfbs_vector\u001b[0m\u001b[1;33m(\u001b[0m\u001b[0mself\u001b[0m\u001b[1;33m,\u001b[0m \u001b[0mtable_row\u001b[0m\u001b[1;33m)\u001b[0m\u001b[1;33m:\u001b[0m\u001b[1;33m\u001b[0m\u001b[0m\n",
        "\u001b[1;32m/home/gus/Dropbox/repos/git/gfunc/src/gfunc/fileIO.pyc\u001b[0m in \u001b[0;36mtableFile2namedTuple\u001b[1;34m(tablePath, sep, headers)\u001b[0m\n\u001b[0;32m     19\u001b[0m     \"\"\"\n\u001b[0;32m     20\u001b[0m \u001b[1;33m\u001b[0m\u001b[0m\n\u001b[1;32m---> 21\u001b[1;33m     \u001b[0mreader\u001b[0m  \u001b[1;33m=\u001b[0m \u001b[0mcsv\u001b[0m\u001b[1;33m.\u001b[0m\u001b[0mreader\u001b[0m\u001b[1;33m(\u001b[0m\u001b[0mopen\u001b[0m\u001b[1;33m(\u001b[0m\u001b[0mtablePath\u001b[0m\u001b[1;33m,\u001b[0m\u001b[1;34m'rU'\u001b[0m\u001b[1;33m)\u001b[0m\u001b[1;33m,\u001b[0m \u001b[0mdelimiter\u001b[0m\u001b[1;33m=\u001b[0m\u001b[0msep\u001b[0m\u001b[1;33m)\u001b[0m\u001b[1;33m\u001b[0m\u001b[0m\n\u001b[0m\u001b[0;32m     22\u001b[0m     \u001b[1;32mif\u001b[0m \u001b[1;32mnot\u001b[0m \u001b[0mheaders\u001b[0m\u001b[1;33m:\u001b[0m\u001b[1;33m\u001b[0m\u001b[0m\n\u001b[0;32m     23\u001b[0m         \u001b[0mheaders\u001b[0m \u001b[1;33m=\u001b[0m \u001b[0mreader\u001b[0m\u001b[1;33m.\u001b[0m\u001b[0mnext\u001b[0m\u001b[1;33m(\u001b[0m\u001b[1;33m)\u001b[0m\u001b[1;33m\u001b[0m\u001b[0m\n",
        "\u001b[1;31mIOError\u001b[0m: [Errno 2] No such file or directory: '/home/gus/Dropbox/common/projects/Aa_Ag_Cq_As/gfunc_stuff/motif_searches/Aa_AaAgCq_ortho_2000up.standardized_motif_scores.tsv'"
       ]
      }
     ],
     "prompt_number": 4
    },
    {
     "cell_type": "heading",
     "level": 1,
     "metadata": {},
     "source": [
      "Regeneration of motif tables:"
     ]
    },
    {
     "cell_type": "code",
     "collapsed": false,
     "input": [],
     "language": "python",
     "metadata": {},
     "outputs": []
    }
   ],
   "metadata": {}
  }
 ]
}