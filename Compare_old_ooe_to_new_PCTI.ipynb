{
 "metadata": {
  "name": ""
 },
 "nbformat": 3,
 "nbformat_minor": 0,
 "worksheets": [
  {
   "cells": [
    {
     "cell_type": "code",
     "collapsed": false,
     "input": [
      "old_ecr_gene_set = '/home/gus/Dropbox/common/projects/Aa_Ag_Cq_As/gfunc_stuff/prelim_gene_analysis/ecr_team_m_1_4/ecr_team_m_1_4_genes.txt'\n",
      "mid_ecr_gene_set = '/home/gus/Dropbox/common/projects/Aa_Ag_Cq_As/gfunc_stuff/prelim_gene_analysis/ecr_2013_08_24/ecr_edges_m_ptci_genes.txt'\n",
      "new_ecr_gene_set = '/home/gus/Dropbox/common/projects/Aa_Ag_Cq_As/gfunc_stuff/prelim_gene_analysis/ecr_team_20130828/ecr_team_meanPTCI_thresh_1_gene_names.txt'"
     ],
     "language": "python",
     "metadata": {},
     "outputs": [],
     "prompt_number": 1
    },
    {
     "cell_type": "code",
     "collapsed": false,
     "input": [
      "old_ecr_gene_set = [x.strip() for x in open(old_ecr_gene_set)]\n",
      "mid_ecr_gene_set = [x.strip() for x in open(mid_ecr_gene_set)]\n",
      "new_ecr_gene_set = [x.strip() for x in open(new_ecr_gene_set)]"
     ],
     "language": "python",
     "metadata": {},
     "outputs": [],
     "prompt_number": 2
    },
    {
     "cell_type": "code",
     "collapsed": false,
     "input": [
      "print 'old_ecr_gene_set length: %s' % (len(old_ecr_gene_set))\n",
      "print 'mid_ecr_gene_set length: %s' % (len(mid_ecr_gene_set))\n",
      "print 'new_ecr_gene_set length: %s' % (len(new_ecr_gene_set))"
     ],
     "language": "python",
     "metadata": {},
     "outputs": [
      {
       "output_type": "stream",
       "stream": "stdout",
       "text": [
        "old_ecr_gene_set length: 270\n",
        "mid_ecr_gene_set length: 270\n",
        "new_ecr_gene_set length: 369\n"
       ]
      }
     ],
     "prompt_number": 3
    },
    {
     "cell_type": "code",
     "collapsed": false,
     "input": [
      "old_ecr_gene_set = set(old_ecr_gene_set)\n",
      "mid_ecr_gene_set = set(mid_ecr_gene_set)\n",
      "new_ecr_gene_set = set(new_ecr_gene_set)"
     ],
     "language": "python",
     "metadata": {},
     "outputs": [],
     "prompt_number": 4
    },
    {
     "cell_type": "code",
     "collapsed": false,
     "input": [
      "print \"old in mid: %s\" % (len(old_ecr_gene_set.intersection(mid_ecr_gene_set)))\n",
      "print \"old in new: %s\" % (len(old_ecr_gene_set.intersection(new_ecr_gene_set)))\n",
      "print \"mid in new: %s\" % (len(mid_ecr_gene_set.intersection(new_ecr_gene_set)))"
     ],
     "language": "python",
     "metadata": {},
     "outputs": [
      {
       "output_type": "stream",
       "stream": "stdout",
       "text": [
        "old in mid: 270\n",
        "old in new: 258\n",
        "mid in new: 258\n"
       ]
      }
     ],
     "prompt_number": 6
    },
    {
     "cell_type": "code",
     "collapsed": false,
     "input": [
      "258.0/270\n"
     ],
     "language": "python",
     "metadata": {},
     "outputs": [
      {
       "metadata": {},
       "output_type": "pyout",
       "prompt_number": 8,
       "text": [
        "0.9555555555555556"
       ]
      }
     ],
     "prompt_number": 8
    },
    {
     "cell_type": "code",
     "collapsed": false,
     "input": [],
     "language": "python",
     "metadata": {},
     "outputs": []
    }
   ],
   "metadata": {}
  }
 ]
}