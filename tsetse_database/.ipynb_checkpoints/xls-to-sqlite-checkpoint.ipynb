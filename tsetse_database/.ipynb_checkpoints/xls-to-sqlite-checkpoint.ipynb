{
 "metadata": {
  "name": "",
  "signature": "sha256:c7f261e5e6e6043a65da0d85f71ee974a9d68c0bb3a5bb42e5c39de3452cc938"
 },
 "nbformat": 3,
 "nbformat_minor": 0,
 "worksheets": [
  {
   "cells": [
    {
     "cell_type": "heading",
     "level": 1,
     "metadata": {},
     "source": [
      "First we need to standardize and validate the data in the worksheet."
     ]
    },
    {
     "cell_type": "code",
     "collapsed": false,
     "input": [
      "from schema import Schema, And, Or, Use, Optional\n",
      "from spartan.utils import spreadsheets\n",
      "import sanitize\n",
      "import xlrd\n",
      "import arrow"
     ],
     "language": "python",
     "metadata": {},
     "outputs": [],
     "prompt_number": 1
    },
    {
     "cell_type": "heading",
     "level": 2,
     "metadata": {},
     "source": [
      "Set up the schema for the spreadsheets:"
     ]
    },
    {
     "cell_type": "code",
     "collapsed": false,
     "input": [
      "workbook_path = '/home/gus/Dropbox/uganda data/Gus_Work_Area/1_Field_Data_Collection_Records_060110.xls'\n",
      "workbook = spreadsheets.get_workbook(workbook_path)"
     ],
     "language": "python",
     "metadata": {},
     "outputs": [],
     "prompt_number": 2
    },
    {
     "cell_type": "code",
     "collapsed": false,
     "input": [
      "worksheets = spreadsheets.get_worksheets(workbook)"
     ],
     "language": "python",
     "metadata": {},
     "outputs": [],
     "prompt_number": 3
    },
    {
     "cell_type": "code",
     "collapsed": false,
     "input": [
      "print [x.name for x in worksheets]"
     ],
     "language": "python",
     "metadata": {},
     "outputs": [
      {
       "output_type": "stream",
       "stream": "stdout",
       "text": [
        "[u'Collection Summary', u'Field Collected G. fuscipes', u'Tanzanian G. fuscipes', u'Field Collected G. pallidipes', u'\"Museum\" Specimens', u'Arua Buvuma Lira Moyo from LIRI', u'Budaka Pallisa 2008 from LIRI']\n"
       ]
      }
     ],
     "prompt_number": 4
    },
    {
     "cell_type": "code",
     "collapsed": false,
     "input": [
      "worksheet = workbook.sheet_by_name(u'Field Collected G. fuscipes')"
     ],
     "language": "python",
     "metadata": {},
     "outputs": [],
     "prompt_number": 5
    },
    {
     "cell_type": "heading",
     "level": 3,
     "metadata": {},
     "source": [
      "Standardize/Sanitize row headings:"
     ]
    },
    {
     "cell_type": "code",
     "collapsed": false,
     "input": [
      "worksheet.row_values(0)"
     ],
     "language": "python",
     "metadata": {},
     "outputs": [
      {
       "metadata": {},
       "output_type": "pyout",
       "prompt_number": 6,
       "text": [
        "[u'ENTRY ORDER',\n",
        " u'DATE',\n",
        " u'LOCATION CODE',\n",
        " u'TRAP #',\n",
        " u'FLY #',\n",
        " u'STORAGE',\n",
        " u'WING FRAY',\n",
        " u'SEX',\n",
        " u'WHOLE FLY?',\n",
        " u'REPROD. PARTS Y/N?',\n",
        " u'MIDGUT',\n",
        " u'MIDGUT INF.?',\n",
        " u'PROBOSCIS',\n",
        " u'PROBOSC. INF.?',\n",
        " u'SALIVARY GLANDS',\n",
        " u'SALIVARY INF.?',\n",
        " u'SPERMAT.',\n",
        " u'BACTERIOME',\n",
        " u'DRIED WING/HEAD',\n",
        " u'ALIVE, SOFT, DEAD',\n",
        " u'NOTES',\n",
        " u'mtDNA Haplotyped (SEQUENCED)?',\n",
        " u'mtDNA N/S SNP tested',\n",
        " u'Genotyped?',\n",
        " u'Material EXT for genotyping',\n",
        " u'EXT wolbachia',\n",
        " u'PARTS distributed']"
       ]
      }
     ],
     "prompt_number": 6
    },
    {
     "cell_type": "code",
     "collapsed": false,
     "input": [
      "# Standardize/Sanitize row headings\n",
      "def format_headers(header_row):\n",
      "    for index,value in enumerate(header_row):\n",
      "        header_row[index] = sanitize.sanitize_path_fragment(original_fragment=value, replacement=u'_', additional_illegal_characters=[u' '])\n",
      "        header_row[index] = header_row[index].strip(u'_')\n",
      "    return header_row"
     ],
     "language": "python",
     "metadata": {},
     "outputs": [],
     "prompt_number": 7
    },
    {
     "cell_type": "code",
     "collapsed": false,
     "input": [
      "header_row = format_headers(worksheet.row_values(0))"
     ],
     "language": "python",
     "metadata": {},
     "outputs": [],
     "prompt_number": 8
    },
    {
     "cell_type": "code",
     "collapsed": false,
     "input": [
      "header_row"
     ],
     "language": "python",
     "metadata": {},
     "outputs": [
      {
       "metadata": {},
       "output_type": "pyout",
       "prompt_number": 9,
       "text": [
        "[u'ENTRY_ORDER',\n",
        " u'DATE',\n",
        " u'LOCATION_CODE',\n",
        " u'TRAP_#',\n",
        " u'FLY_#',\n",
        " u'STORAGE',\n",
        " u'WING_FRAY',\n",
        " u'SEX',\n",
        " u'WHOLE_FLY',\n",
        " u'REPROD._PARTS_Y_N',\n",
        " u'MIDGUT',\n",
        " u'MIDGUT_INF.',\n",
        " u'PROBOSCIS',\n",
        " u'PROBOSC._INF.',\n",
        " u'SALIVARY_GLANDS',\n",
        " u'SALIVARY_INF.',\n",
        " u'SPERMAT',\n",
        " u'BACTERIOME',\n",
        " u'DRIED_WING_HEAD',\n",
        " u'ALIVE,_SOFT,_DEAD',\n",
        " u'NOTES',\n",
        " u'mtDNA_Haplotyped_(SEQUENCED)',\n",
        " u'mtDNA_N_S_SNP_tested',\n",
        " u'Genotyped',\n",
        " u'Material_EXT_for_genotyping',\n",
        " u'EXT_wolbachia',\n",
        " u'PARTS_distributed']"
       ]
      }
     ],
     "prompt_number": 9
    },
    {
     "cell_type": "heading",
     "level": 3,
     "metadata": {},
     "source": [
      "What '`types`' are contained in each column?"
     ]
    },
    {
     "cell_type": "code",
     "collapsed": false,
     "input": [
      "print spreadsheets.get_date(worksheet.col_values(1)[1],workbook.datemode)"
     ],
     "language": "python",
     "metadata": {},
     "outputs": [
      {
       "output_type": "stream",
       "stream": "stdout",
       "text": [
        "2008-03-13T00:00:00+00:00\n"
       ]
      }
     ],
     "prompt_number": 10
    },
    {
     "cell_type": "code",
     "collapsed": false,
     "input": [
      "import pandas"
     ],
     "language": "python",
     "metadata": {},
     "outputs": [],
     "prompt_number": 11
    },
    {
     "cell_type": "code",
     "collapsed": false,
     "input": [],
     "language": "python",
     "metadata": {},
     "outputs": []
    },
    {
     "cell_type": "code",
     "collapsed": false,
     "input": [],
     "language": "python",
     "metadata": {},
     "outputs": []
    },
    {
     "cell_type": "code",
     "collapsed": false,
     "input": [],
     "language": "python",
     "metadata": {},
     "outputs": []
    },
    {
     "cell_type": "heading",
     "level": 1,
     "metadata": {},
     "source": []
    }
   ],
   "metadata": {}
  }
 ]
}