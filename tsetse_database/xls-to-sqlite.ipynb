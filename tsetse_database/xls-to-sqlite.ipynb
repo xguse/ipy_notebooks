{
 "worksheets": [
  {
   "cells": [
    {
     "cell_type": "heading",
     "metadata": {},
     "level": 1,
     "source": [
      "First we need to standardize and validate the data in the worksheet."
     ]
    },
    {
     "cell_type": "code",
     "metadata": {},
     "outputs": [],
     "input": [
      "from schema import Schema, And, Or, Use, Optional\n",
      "from spartan.utils import spreadsheets\n",
      "import sanitize\n",
      "import xlrd\n",
      "import arrow"
     ],
     "language": "python",
     "prompt_number": 1
    },
    {
     "cell_type": "heading",
     "metadata": {},
     "level": 2,
     "source": [
      "Set up the schema for the spreadsheets:"
     ]
    },
    {
     "cell_type": "code",
     "metadata": {},
     "outputs": [],
     "input": [
      "workbook_path = '/home/gus/Dropbox/uganda data/Gus_Work_Area/1_Field_Data_Collection_Records_060110.xls'\n",
      "workbook = spreadsheets.get_workbook(workbook_path)"
     ],
     "language": "python",
     "prompt_number": 2
    },
    {
     "cell_type": "code",
     "metadata": {},
     "outputs": [],
     "input": [
      "worksheets = spreadsheets.get_worksheets(workbook)"
     ],
     "language": "python",
     "prompt_number": 3
    },
    {
     "cell_type": "code",
     "metadata": {},
     "outputs": [
      {
       "output_type": "stream",
       "stream": "stdout",
       "text": [
        "[u'Collection Summary', u'Field Collected G. fuscipes', u'Tanzanian G. fuscipes', u'Field Collected G. pallidipes', u'\"Museum\" Specimens', u'Arua Buvuma Lira Moyo from LIRI', u'Budaka Pallisa 2008 from LIRI']\n"
       ]
      }
     ],
     "input": [
      "print [x.name for x in worksheets]"
     ],
     "language": "python",
     "prompt_number": 4
    },
    {
     "cell_type": "code",
     "metadata": {},
     "outputs": [],
     "input": [
      "worksheet = workbook.sheet_by_name(u'Field Collected G. fuscipes')"
     ],
     "language": "python",
     "prompt_number": 5
    },
    {
     "cell_type": "heading",
     "metadata": {},
     "level": 3,
     "source": [
      "Standardize/Sanitize row headings:"
     ]
    },
    {
     "cell_type": "code",
     "metadata": {},
     "outputs": [
      {
       "output_type": "pyout",
       "prompt_number": 6,
       "text": [
        "[u'ENTRY ORDER',\n",
        " u'DATE',\n",
        " u'LOCATION CODE',\n",
        " u'TRAP #',\n",
        " u'FLY #',\n",
        " u'STORAGE',\n",
        " u'WING FRAY',\n",
        " u'SEX',\n",
        " u'WHOLE FLY?',\n",
        " u'REPROD. PARTS Y/N?',\n",
        " u'MIDGUT',\n",
        " u'MIDGUT INF.?',\n",
        " u'PROBOSCIS',\n",
        " u'PROBOSC. INF.?',\n",
        " u'SALIVARY GLANDS',\n",
        " u'SALIVARY INF.?',\n",
        " u'SPERMAT.',\n",
        " u'BACTERIOME',\n",
        " u'DRIED WING/HEAD',\n",
        " u'ALIVE, SOFT, DEAD',\n",
        " u'NOTES',\n",
        " u'mtDNA Haplotyped (SEQUENCED)?',\n",
        " u'mtDNA N/S SNP tested',\n",
        " u'Genotyped?',\n",
        " u'Material EXT for genotyping',\n",
        " u'EXT wolbachia',\n",
        " u'PARTS distributed']"
       ],
       "metadata": {}
      }
     ],
     "input": [
      "worksheet.row_values(0)"
     ],
     "language": "python",
     "prompt_number": 6
    },
    {
     "cell_type": "code",
     "metadata": {},
     "outputs": [],
     "input": [
      "# Standardize/Sanitize row headings\n",
      "def format_headers(header_row):\n",
      "    for index,value in enumerate(header_row):\n",
      "        header_row[index] = sanitize.sanitize_path_fragment(original_fragment=value, replacement=u'_', additional_illegal_characters=[u' '])\n",
      "        header_row[index] = header_row[index].strip(u'_')\n",
      "    return header_row"
     ],
     "language": "python",
     "prompt_number": 7
    },
    {
     "cell_type": "code",
     "metadata": {},
     "outputs": [],
     "input": [
      "header_row = format_headers(worksheet.row_values(0))"
     ],
     "language": "python",
     "prompt_number": 8
    },
    {
     "cell_type": "code",
     "metadata": {},
     "outputs": [
      {
       "output_type": "pyout",
       "prompt_number": 9,
       "text": [
        "[u'ENTRY_ORDER',\n",
        " u'DATE',\n",
        " u'LOCATION_CODE',\n",
        " u'TRAP_#',\n",
        " u'FLY_#',\n",
        " u'STORAGE',\n",
        " u'WING_FRAY',\n",
        " u'SEX',\n",
        " u'WHOLE_FLY',\n",
        " u'REPROD._PARTS_Y_N',\n",
        " u'MIDGUT',\n",
        " u'MIDGUT_INF.',\n",
        " u'PROBOSCIS',\n",
        " u'PROBOSC._INF.',\n",
        " u'SALIVARY_GLANDS',\n",
        " u'SALIVARY_INF.',\n",
        " u'SPERMAT',\n",
        " u'BACTERIOME',\n",
        " u'DRIED_WING_HEAD',\n",
        " u'ALIVE,_SOFT,_DEAD',\n",
        " u'NOTES',\n",
        " u'mtDNA_Haplotyped_(SEQUENCED)',\n",
        " u'mtDNA_N_S_SNP_tested',\n",
        " u'Genotyped',\n",
        " u'Material_EXT_for_genotyping',\n",
        " u'EXT_wolbachia',\n",
        " u'PARTS_distributed']"
       ],
       "metadata": {}
      }
     ],
     "input": [
      "header_row"
     ],
     "language": "python",
     "prompt_number": 9
    },
    {
     "cell_type": "heading",
     "metadata": {},
     "level": 3,
     "source": [
      "What '`types`' are contained in each column?"
     ]
    },
    {
     "cell_type": "code",
     "metadata": {},
     "outputs": [
      {
       "output_type": "stream",
       "stream": "stdout",
       "text": [
        "2008-03-13T00:00:00+00:00\n"
       ]
      }
     ],
     "input": [
      "print spreadsheets.get_date(worksheet.col_values(1)[1],workbook.datemode)"
     ],
     "language": "python",
     "prompt_number": 10
    },
    {
     "cell_type": "code",
     "metadata": {},
     "outputs": [],
     "input": [
      "db_path = '/home/gus/Dropbox/uganda data/Gus_Work_Area/1_Field_Data_Collection_Records_060110_altered_by_gus/test.db'"
     ],
     "language": "python",
     "prompt_number": 23
    },
    {
     "cell_type": "code",
     "metadata": {},
     "outputs": [],
     "input": [
      "import sqlite3\n",
      "from pandas.io import sql\n",
      "# Create your connection.\n",
      "cnx = sqlite3.connect(db_path)"
     ],
     "language": "python",
     "prompt_number": 24
    },
    {
     "cell_type": "code",
     "metadata": {},
     "outputs": [],
     "input": [
      "panda_sheet = pandas.read_excel(workbook_path,1)"
     ],
     "language": "python",
     "prompt_number": 22
    },
    {
     "cell_type": "code",
     "metadata": {},
     "outputs": [],
     "input": [
      "sql.to_sql(frame=panda_sheet, name='panda_sheet', con=cnx ,if_exists='replace')"
     ],
     "language": "python",
     "prompt_number": 29
    },
    {
     "cell_type": "heading",
     "metadata": {},
     "level": 1,
     "source": []
    }
   ]
  }
 ],
 "cells": [],
 "metadata": {
  "name": "",
  "signature": "sha256:4590a5dc3d07e1b96d88ff5c323c4740dfaca526b3eb797fbfc342415e3613de"
 },
 "nbformat": 3,
 "nbformat_minor": 0
}