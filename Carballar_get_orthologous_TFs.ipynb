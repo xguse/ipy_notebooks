{
 "metadata": {
  "name": ""
 },
 "nbformat": 3,
 "nbformat_minor": 0,
 "worksheets": [
  {
   "cells": [
    {
     "cell_type": "heading",
     "level": 1,
     "metadata": {},
     "source": [
      "Purpose"
     ]
    },
    {
     "cell_type": "markdown",
     "metadata": {},
     "source": [
      "Carballar has TFs for Aa,Ag and Cq in the form of uniprot names.  She wants the orthologs of these in As."
     ]
    },
    {
     "cell_type": "heading",
     "level": 1,
     "metadata": {},
     "source": [
      "Code imports"
     ]
    },
    {
     "cell_type": "code",
     "collapsed": false,
     "input": [
      "import pandas as pd\n",
      "from collections import defaultdict\n",
      "\n",
      "from spartan.utils import orthoDB as ortho\n",
      "\n",
      "dict_tree = lambda: defaultdict(dict_tree)\n",
      "\n",
      "import networkx as nx"
     ],
     "language": "python",
     "metadata": {},
     "outputs": [],
     "prompt_number": 73
    },
    {
     "cell_type": "heading",
     "level": 1,
     "metadata": {},
     "source": [
      "Load TF uniprot names"
     ]
    },
    {
     "cell_type": "code",
     "collapsed": false,
     "input": [
      "TF_file_name = 'TranscripFactor_6'\n",
      "TF_list = '/home/gus/Dropbox/helping_folks/carballar/suhwandtffiles/Transcription_factors/%s.list' % (TF_file_name) "
     ],
     "language": "python",
     "metadata": {},
     "outputs": [],
     "prompt_number": 74
    },
    {
     "cell_type": "code",
     "collapsed": false,
     "input": [
      "tf_uniprot_ids = [ line.strip() for line in open(TF_list,'rU') ]"
     ],
     "language": "python",
     "metadata": {},
     "outputs": [],
     "prompt_number": 75
    },
    {
     "cell_type": "code",
     "collapsed": false,
     "input": [
      "tf_uniprot_ids[:10]"
     ],
     "language": "python",
     "metadata": {},
     "outputs": [
      {
       "metadata": {},
       "output_type": "pyout",
       "prompt_number": 76,
       "text": [
        "['B0W069',\n",
        " 'B0W0Q2',\n",
        " 'B0WQB2',\n",
        " 'B0W3G7',\n",
        " 'B0W0Q1',\n",
        " 'B0WCT1',\n",
        " 'B0X459',\n",
        " 'B0WQB4',\n",
        " 'B0X0N9',\n",
        " 'E3WWW8']"
       ]
      }
     ],
     "prompt_number": 76
    },
    {
     "cell_type": "code",
     "collapsed": false,
     "input": [
      "len(tf_uniprot_ids)"
     ],
     "language": "python",
     "metadata": {},
     "outputs": [
      {
       "metadata": {},
       "output_type": "pyout",
       "prompt_number": 77,
       "text": [
        "200"
       ]
      }
     ],
     "prompt_number": 77
    },
    {
     "cell_type": "heading",
     "level": 1,
     "metadata": {},
     "source": [
      "Load orthodb7 data"
     ]
    },
    {
     "cell_type": "code",
     "collapsed": false,
     "input": [
      "orthodb = pd.read_table('/home/gus/Dropbox/helping_folks/carballar/suhwandtffiles/Transcription_factors/orthodb7_AaAgAsCq_present.txt', na_values=[])\n",
      "filter_mask = orthodb.Code.str.contains('AAEGY|AGAMB|CQUIN|ASTEP')\n",
      "orthodb = orthodb[filter_mask]"
     ],
     "language": "python",
     "metadata": {},
     "outputs": [],
     "prompt_number": 78
    },
    {
     "cell_type": "code",
     "collapsed": false,
     "input": [
      "orthodb.head()"
     ],
     "language": "python",
     "metadata": {},
     "outputs": [
      {
       "html": [
        "<div style=\"max-height:1000px;max-width:1500px;overflow:auto;\">\n",
        "<table border=\"1\" class=\"dataframe\">\n",
        "  <thead>\n",
        "    <tr style=\"text-align: right;\">\n",
        "      <th></th>\n",
        "      <th>Group</th>\n",
        "      <th>Gene</th>\n",
        "      <th>Protein</th>\n",
        "      <th>Organism</th>\n",
        "      <th>Common Name</th>\n",
        "      <th>Code</th>\n",
        "      <th>AA Length</th>\n",
        "      <th>UniProt</th>\n",
        "      <th>UniProt Description</th>\n",
        "      <th>InterPro Domains</th>\n",
        "      <th>Synonyms</th>\n",
        "      <th>Phenotypes</th>\n",
        "    </tr>\n",
        "  </thead>\n",
        "  <tbody>\n",
        "    <tr>\n",
        "      <th>0</th>\n",
        "      <td> EOG700JWZ</td>\n",
        "      <td> AGAP005175</td>\n",
        "      <td> AGAP005175-PA</td>\n",
        "      <td>      Anopheles gambiae</td>\n",
        "      <td>       African malaria mosquito</td>\n",
        "      <td> AGAMB</td>\n",
        "      <td> 2323</td>\n",
        "      <td> Q7PQ11</td>\n",
        "      <td> AGAP005175-PA; AGAP005175-PB</td>\n",
        "      <td> IPR011764,IPR005481,IPR005479,IPR005482,IPR011...</td>\n",
        "      <td>NaN</td>\n",
        "      <td>NaN</td>\n",
        "    </tr>\n",
        "    <tr>\n",
        "      <th>1</th>\n",
        "      <td> EOG700JWZ</td>\n",
        "      <td> ASTM009503</td>\n",
        "      <td> ASTM009503-PA</td>\n",
        "      <td>    Anopheles stephensi</td>\n",
        "      <td> Indo-Pakistan malaria mosquito</td>\n",
        "      <td> ASTEP</td>\n",
        "      <td> 1317</td>\n",
        "      <td>    NaN</td>\n",
        "      <td>                          NaN</td>\n",
        "      <td> IPR011764,IPR005481,IPR005479,IPR005482,IPR011...</td>\n",
        "      <td>NaN</td>\n",
        "      <td>NaN</td>\n",
        "    </tr>\n",
        "    <tr>\n",
        "      <th>2</th>\n",
        "      <td> EOG700JWZ</td>\n",
        "      <td> AAEL006307</td>\n",
        "      <td> AAEL006307-PA</td>\n",
        "      <td>          Aedes aegypti</td>\n",
        "      <td>           Yellowfever mosquito</td>\n",
        "      <td> AAEGY</td>\n",
        "      <td> 2529</td>\n",
        "      <td> Q176P0</td>\n",
        "      <td>                AAEL006307-PA</td>\n",
        "      <td> IPR011764,IPR005481,IPR005479,IPR005482,IPR011...</td>\n",
        "      <td>NaN</td>\n",
        "      <td>NaN</td>\n",
        "    </tr>\n",
        "    <tr>\n",
        "      <th>3</th>\n",
        "      <td> EOG700JWZ</td>\n",
        "      <td> CPIJ005524</td>\n",
        "      <td> CPIJ005524-PA</td>\n",
        "      <td> Culex quinquefasciatus</td>\n",
        "      <td>        Southern house mosquito</td>\n",
        "      <td> CQUIN</td>\n",
        "      <td> 2311</td>\n",
        "      <td> B0WE67</td>\n",
        "      <td>       Acetyl-coa carboxylase</td>\n",
        "      <td> IPR011764,IPR005481,IPR005479,IPR005482,IPR011...</td>\n",
        "      <td>NaN</td>\n",
        "      <td>NaN</td>\n",
        "    </tr>\n",
        "    <tr>\n",
        "      <th>5</th>\n",
        "      <td> EOG700JX0</td>\n",
        "      <td> AGAP006528</td>\n",
        "      <td> AGAP006528-PA</td>\n",
        "      <td>      Anopheles gambiae</td>\n",
        "      <td>       African malaria mosquito</td>\n",
        "      <td> AGAMB</td>\n",
        "      <td> 2479</td>\n",
        "      <td> Q7Q5B6</td>\n",
        "      <td>                AGAP006528-PA</td>\n",
        "      <td>                                         IPR006020</td>\n",
        "      <td>NaN</td>\n",
        "      <td>NaN</td>\n",
        "    </tr>\n",
        "  </tbody>\n",
        "</table>\n",
        "</div>"
       ],
       "metadata": {},
       "output_type": "pyout",
       "prompt_number": 79,
       "text": [
        "       Group        Gene        Protein                Organism  \\\n",
        "0  EOG700JWZ  AGAP005175  AGAP005175-PA       Anopheles gambiae   \n",
        "1  EOG700JWZ  ASTM009503  ASTM009503-PA     Anopheles stephensi   \n",
        "2  EOG700JWZ  AAEL006307  AAEL006307-PA           Aedes aegypti   \n",
        "3  EOG700JWZ  CPIJ005524  CPIJ005524-PA  Culex quinquefasciatus   \n",
        "5  EOG700JX0  AGAP006528  AGAP006528-PA       Anopheles gambiae   \n",
        "\n",
        "                      Common Name   Code  AA Length UniProt  \\\n",
        "0        African malaria mosquito  AGAMB       2323  Q7PQ11   \n",
        "1  Indo-Pakistan malaria mosquito  ASTEP       1317     NaN   \n",
        "2            Yellowfever mosquito  AAEGY       2529  Q176P0   \n",
        "3         Southern house mosquito  CQUIN       2311  B0WE67   \n",
        "5        African malaria mosquito  AGAMB       2479  Q7Q5B6   \n",
        "\n",
        "            UniProt Description  \\\n",
        "0  AGAP005175-PA; AGAP005175-PB   \n",
        "1                           NaN   \n",
        "2                 AAEL006307-PA   \n",
        "3        Acetyl-coa carboxylase   \n",
        "5                 AGAP006528-PA   \n",
        "\n",
        "                                    InterPro Domains  Synonyms  Phenotypes  \n",
        "0  IPR011764,IPR005481,IPR005479,IPR005482,IPR011...       NaN         NaN  \n",
        "1  IPR011764,IPR005481,IPR005479,IPR005482,IPR011...       NaN         NaN  \n",
        "2  IPR011764,IPR005481,IPR005479,IPR005482,IPR011...       NaN         NaN  \n",
        "3  IPR011764,IPR005481,IPR005479,IPR005482,IPR011...       NaN         NaN  \n",
        "5                                          IPR006020       NaN         NaN  "
       ]
      }
     ],
     "prompt_number": 79
    },
    {
     "cell_type": "heading",
     "level": 1,
     "metadata": {},
     "source": [
      "Generate map from uniprot to gene"
     ]
    },
    {
     "cell_type": "code",
     "collapsed": false,
     "input": [
      "u2g = ortho.get_uniprot2gene_map(orthodb)"
     ],
     "language": "python",
     "metadata": {},
     "outputs": [],
     "prompt_number": 80
    },
    {
     "cell_type": "code",
     "collapsed": false,
     "input": [
      "u2g['Q7PQ11']"
     ],
     "language": "python",
     "metadata": {},
     "outputs": [
      {
       "metadata": {},
       "output_type": "pyout",
       "prompt_number": 81,
       "text": [
        "['AGAP005175']"
       ]
      }
     ],
     "prompt_number": 81
    },
    {
     "cell_type": "heading",
     "level": 1,
     "metadata": {},
     "source": [
      "Build a graph to map the gene names to edges defined by \"``Group``\" and \"``Organism``\" fields"
     ]
    },
    {
     "cell_type": "code",
     "collapsed": false,
     "input": [
      "mosq_orthos = nx.DiGraph()"
     ],
     "language": "python",
     "metadata": {},
     "outputs": [],
     "prompt_number": 82
    },
    {
     "cell_type": "code",
     "collapsed": false,
     "input": [
      "for row in orthodb[['Group','Gene','Code']].itertuples():\n",
      "    idx,ortho_group,gene,species = row\n",
      "    mosq_orthos.add_edge(ortho_group,species)\n",
      "    try:\n",
      "        mosq_orthos[ortho_group][species]['genes'].append(gene)\n",
      "    except KeyError:\n",
      "        mosq_orthos[ortho_group][species]['genes'] = []\n",
      "        mosq_orthos[ortho_group][species]['genes'].append(gene)\n",
      "        "
     ],
     "language": "python",
     "metadata": {},
     "outputs": [],
     "prompt_number": 83
    },
    {
     "cell_type": "code",
     "collapsed": false,
     "input": [
      "len(mosq_orthos)"
     ],
     "language": "python",
     "metadata": {},
     "outputs": [
      {
       "metadata": {},
       "output_type": "pyout",
       "prompt_number": 84,
       "text": [
        "6982"
       ]
      }
     ],
     "prompt_number": 84
    },
    {
     "cell_type": "code",
     "collapsed": false,
     "input": [
      "mosq_orthos['EOG700JX2']"
     ],
     "language": "python",
     "metadata": {},
     "outputs": [
      {
       "metadata": {},
       "output_type": "pyout",
       "prompt_number": 85,
       "text": [
        "{'AAEGY': {'genes': ['AAEL012219']},\n",
        " 'AGAMB': {'genes': ['AGAP002900']},\n",
        " 'ASTEP': {'genes': ['ASTM009267']},\n",
        " 'CQUIN': {'genes': ['CPIJ002564']}}"
       ]
      }
     ],
     "prompt_number": 85
    },
    {
     "cell_type": "code",
     "collapsed": false,
     "input": [
      "mosq_orthos.edges()[-10:]"
     ],
     "language": "python",
     "metadata": {},
     "outputs": [
      {
       "metadata": {},
       "output_type": "pyout",
       "prompt_number": 86,
       "text": [
        "[('EOG77QFK5', 'ASTEP'),\n",
        " ('EOG77QFK5', 'CQUIN'),\n",
        " ('EOG7KQBPG', 'AGAMB'),\n",
        " ('EOG7KQBPG', 'AAEGY'),\n",
        " ('EOG7KQBPG', 'ASTEP'),\n",
        " ('EOG7KQBPG', 'CQUIN'),\n",
        " ('EOG77QFK7', 'AGAMB'),\n",
        " ('EOG77QFK7', 'AAEGY'),\n",
        " ('EOG77QFK7', 'ASTEP'),\n",
        " ('EOG77QFK7', 'CQUIN')]"
       ]
      }
     ],
     "prompt_number": 86
    },
    {
     "cell_type": "code",
     "collapsed": false,
     "input": [
      "mosq_orthos['EOG77QFK5']"
     ],
     "language": "python",
     "metadata": {},
     "outputs": [
      {
       "metadata": {},
       "output_type": "pyout",
       "prompt_number": 87,
       "text": [
        "{'AAEGY': {'genes': ['AAEL006247']},\n",
        " 'AGAMB': {'genes': ['AGAP001368']},\n",
        " 'ASTEP': {'genes': ['ASTM016337']},\n",
        " 'CQUIN': {'genes': ['CPIJ007102']}}"
       ]
      }
     ],
     "prompt_number": 87
    },
    {
     "cell_type": "heading",
     "level": 1,
     "metadata": {},
     "source": [
      "Given a Uniprot ID if it is in the graphed genes, return any ASTEP gene names listed as orthologs"
     ]
    },
    {
     "cell_type": "code",
     "collapsed": false,
     "input": [
      "def match_uniprot2astep_genes(mosq_orthos,uniprot_list,u2g):\n",
      "    \"\"\"\n",
      "    returns pandas dataframe of form:\n",
      "    \n",
      "                  gene\n",
      "    uniprot_id    ASTM000000\n",
      "    \"\"\"\n",
      "    \n",
      "    series_list = []\n",
      "    \n",
      "    \n",
      "    for uid in uniprot_list:\n",
      "        \n",
      "        try:\n",
      "            gids = u2g[uid]\n",
      "            \n",
      "#             if len(gid) != 1:\n",
      "#                 print gid\n",
      "#                 raise Exception('gid longer than len == 1')\n",
      "#             else:\n",
      "#                 gid = gid[0]\n",
      "            \n",
      "            for edge in mosq_orthos.edges_iter(data=True):\n",
      "                i,j,data = edge\n",
      "                for gid in gids:\n",
      "                    if gid in data['genes']:\n",
      "                        ortho_group = mosq_orthos[i]\n",
      "                        if len(ortho_group) == 4:\n",
      "                            astep_genes = ortho_group['ASTEP']['genes']\n",
      "                            for a_g in astep_genes:\n",
      "                                series_list.append(pd.Series(name=uid,data={'gene':a_g}))\n",
      "                        else:\n",
      "                            pass\n",
      "                    else:\n",
      "                        pass\n",
      "            \n",
      "        except KeyError:\n",
      "            pass\n",
      "        \n",
      "    return pd.DataFrame(series_list)"
     ],
     "language": "python",
     "metadata": {},
     "outputs": [],
     "prompt_number": 88
    },
    {
     "cell_type": "code",
     "collapsed": false,
     "input": [
      "astep_df = match_uniprot2astep_genes(mosq_orthos,tf_uniprot_ids,u2g)"
     ],
     "language": "python",
     "metadata": {},
     "outputs": [],
     "prompt_number": 89
    },
    {
     "cell_type": "code",
     "collapsed": false,
     "input": [
      "astep_df.to_csv('/home/gus/Dropbox/helping_folks/carballar/suhwandtffiles/Transcription_factors/%s_uniprot2ASTEP_orthodb7_AaAgAsCq_present.csv' % (TF_file_name))"
     ],
     "language": "python",
     "metadata": {},
     "outputs": [],
     "prompt_number": 90
    },
    {
     "cell_type": "code",
     "collapsed": false,
     "input": [],
     "language": "python",
     "metadata": {},
     "outputs": [],
     "prompt_number": 90
    }
   ],
   "metadata": {}
  }
 ]
}