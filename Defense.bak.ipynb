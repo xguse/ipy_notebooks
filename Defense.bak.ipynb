{
 "metadata": {
  "celltoolbar": "Slideshow",
  "name": "",
  "signature": "sha256:aa80dadd48a79be7c7a56e67ede21bc2b83a5fe1022cff7d7f335a4224850a88"
 },
 "nbformat": 3,
 "nbformat_minor": 0,
 "worksheets": [
  {
   "cells": [
    {
     "cell_type": "code",
     "collapsed": false,
     "input": [
      "from IPython.display import HTML,SVG"
     ],
     "language": "python",
     "metadata": {
      "slideshow": {
       "slide_type": "skip"
      }
     },
     "outputs": [],
     "prompt_number": 1
    },
    {
     "cell_type": "heading",
     "level": 1,
     "metadata": {
      "slideshow": {
       "slide_type": "slide"
      }
     },
     "source": [
      "<font color=\"#A86E12\">Comparative transcriptomics of blood-feeding in midguts of three disease-vector mosquito species</font>"
     ]
    },
    {
     "cell_type": "heading",
     "level": 3,
     "metadata": {
      "slideshow": {
       "slide_type": "-"
      }
     },
     "source": [
      "By Augustine Dunn"
     ]
    },
    {
     "cell_type": "heading",
     "level": 1,
     "metadata": {
      "slideshow": {
       "slide_type": "subslide"
      }
     },
     "source": [
      "Committee:"
     ]
    },
    {
     "cell_type": "markdown",
     "metadata": {
      "slideshow": {
       "slide_type": "-"
      }
     },
     "source": [
      "Anthony James (chair)\n",
      "\n",
      "Xiaohui Xie\n",
      "\n",
      "Donald Senear"
     ]
    },
    {
     "cell_type": "markdown",
     "metadata": {
      "slideshow": {
       "slide_type": "subslide"
      }
     },
     "source": [
      "## Acknowledgments"
     ]
    },
    {
     "cell_type": "markdown",
     "metadata": {
      "slideshow": {
       "slide_type": "fragment"
      }
     },
     "source": [
      "Dr. Anthony James"
     ]
    },
    {
     "cell_type": "markdown",
     "metadata": {
      "slideshow": {
       "slide_type": "fragment"
      }
     },
     "source": [
      "- Dr. Osvaldo Marinotti\n",
      "- Dr. Nijole Jasinskiene\n",
      "- Dr. Mariangela Bonizzoni\n",
      "- Dr. Rebeca Carballar\n",
      "- Dr. David Brown"
     ]
    },
    {
     "cell_type": "markdown",
     "metadata": {
      "slideshow": {
       "slide_type": "fragment"
      }
     },
     "source": [
      "Everyone in the Insectary"
     ]
    },
    {
     "cell_type": "markdown",
     "metadata": {
      "slideshow": {
       "slide_type": "fragment"
      }
     },
     "source": [
      "Dr. Xiaohui Xie"
     ]
    },
    {
     "cell_type": "markdown",
     "metadata": {
      "slideshow": {
       "slide_type": "fragment"
      }
     },
     "source": [
      "Dr. Donald Senear"
     ]
    },
    {
     "cell_type": "markdown",
     "metadata": {
      "slideshow": {
       "slide_type": "fragment"
      }
     },
     "source": [
      "My beautiful"
     ]
    },
    {
     "cell_type": "markdown",
     "metadata": {
      "slideshow": {
       "slide_type": "fragment"
      }
     },
     "source": [
      "smart"
     ]
    },
    {
     "cell_type": "markdown",
     "metadata": {
      "slideshow": {
       "slide_type": "fragment"
      }
     },
     "source": [
      "strong"
     ]
    },
    {
     "cell_type": "markdown",
     "metadata": {
      "slideshow": {
       "slide_type": "fragment"
      }
     },
     "source": [
      "funny"
     ]
    },
    {
     "cell_type": "heading",
     "level": 1,
     "metadata": {},
     "source": [
      "immensely supportive"
     ]
    },
    {
     "cell_type": "markdown",
     "metadata": {
      "slideshow": {
       "slide_type": "fragment"
      }
     },
     "source": [
      "wife Dr. Sarah E. Bione-Dunn"
     ]
    },
    {
     "cell_type": "markdown",
     "metadata": {
      "slideshow": {
       "slide_type": "fragment"
      }
     },
     "source": [
      "My wonderful son Liam Dunn"
     ]
    },
    {
     "cell_type": "markdown",
     "metadata": {
      "slideshow": {
       "slide_type": "fragment"
      }
     },
     "source": [
      "Funding Sources:\n",
      "\n",
      "- NIH/NLM BIT Training Grant\n",
      "- PSWRCE"
     ]
    },
    {
     "cell_type": "heading",
     "level": 1,
     "metadata": {
      "slideshow": {
       "slide_type": "slide"
      }
     },
     "source": [
      "<font color=\"#A86E12\">The ultimate goal:</font>"
     ]
    },
    {
     "cell_type": "heading",
     "level": 3,
     "metadata": {
      "slideshow": {
       "slide_type": "subslide"
      }
     },
     "source": [
      "reduce <font color=\"#5791ED\">morbidity</font> and <font color=\"#5791ED\">mortality</font> of mosquito borne tropical diseases..."
     ]
    },
    {
     "cell_type": "heading",
     "level": 3,
     "metadata": {
      "slideshow": {
       "slide_type": "subslide"
      }
     },
     "source": [
      "dengue fever"
     ]
    },
    {
     "cell_type": "heading",
     "level": 3,
     "metadata": {
      "slideshow": {
       "slide_type": "subslide"
      }
     },
     "source": [
      "malaria"
     ]
    },
    {
     "cell_type": "heading",
     "level": 1,
     "metadata": {
      "slideshow": {
       "slide_type": "slide"
      }
     },
     "source": [
      "a <font color=\"#5791ED\">better</font> mosquito."
     ]
    },
    {
     "cell_type": "heading",
     "level": 1,
     "metadata": {
      "slideshow": {
       "slide_type": "slide"
      }
     },
     "source": [
      "<font color=\"#A86E12\">Why the insects rather than the people?</font>"
     ]
    },
    {
     "cell_type": "heading",
     "level": 1,
     "metadata": {
      "slideshow": {
       "slide_type": "subslide"
      }
     },
     "source": [
      "1. Effective medical interventions to dengue and malaria either do not exist or are not yet suited for use in the isolated/impoverished areas most affected."
     ]
    },
    {
     "cell_type": "heading",
     "level": 1,
     "metadata": {
      "slideshow": {
       "slide_type": "subslide"
      }
     },
     "source": [
      "Many serotypes of dengue virus exist (DENV1 - DENV5)."
     ]
    },
    {
     "cell_type": "markdown",
     "metadata": {
      "slideshow": {
       "slide_type": "-"
      }
     },
     "source": [
      "<figure>\n",
      "<center>\n",
      "<img src=\"general_files/denv_1_to_4.png\" width=\"500\" />\n",
      "</center>\n",
      "</figure>"
     ]
    },
    {
     "cell_type": "heading",
     "level": 3,
     "metadata": {
      "slideshow": {
       "slide_type": "subslide"
      }
     },
     "source": [
      "Antibodies that completely protect against one serotype actually increase the <font color=\"#5791ED\">risk of serious disease</font> when in the presence of another serotype in the same patient."
     ]
    },
    {
     "cell_type": "heading",
     "level": 3,
     "metadata": {
      "slideshow": {
       "slide_type": "subslide"
      }
     },
     "source": [
      "Vaccines must <font color=\"#5791ED\">simultaneously</font> protect against <font color=\"#5791ED\"><u>**all**</u></font> serotypes or risk harming the patient."
     ]
    },
    {
     "cell_type": "heading",
     "level": 1,
     "metadata": {
      "slideshow": {
       "slide_type": "subslide"
      }
     },
     "source": [
      "2. Dengue fever and malaria require a mosquito to infect humans."
     ]
    },
    {
     "cell_type": "markdown",
     "metadata": {
      "slideshow": {
       "slide_type": "subslide"
      }
     },
     "source": [
      "<figure>\n",
      "<center>\n",
      "<img src=\"general_files/prime_geog_vectors_of_d_and_m.png\" width=\"600\" />\n",
      "<figcaption>Primary geographic vectors of dengue fever and malaria.</figcaption>\n",
      "</center>\n",
      "</figure>"
     ]
    },
    {
     "cell_type": "markdown",
     "metadata": {},
     "source": []
    },
    {
     "cell_type": "heading",
     "level": 3,
     "metadata": {
      "slideshow": {
       "slide_type": "fragment"
      }
     },
     "source": [
      "Mosquitoes have been called the <font color=\"#5791ED\">deadliest</font> animals on Earth."
     ]
    },
    {
     "cell_type": "heading",
     "level": 1,
     "metadata": {
      "slideshow": {
       "slide_type": "subslide"
      }
     },
     "source": [
      "Diseases"
     ]
    },
    {
     "cell_type": "markdown",
     "metadata": {
      "slideshow": {
       "slide_type": "fragment"
      }
     },
     "source": [
      "transmitted through the act of feeding on our <font color=\"#5791ED\">blood</font>"
     ]
    },
    {
     "cell_type": "heading",
     "level": 1,
     "metadata": {
      "slideshow": {
       "slide_type": "subslide"
      }
     },
     "source": [
      "Hematophagy"
     ]
    },
    {
     "cell_type": "heading",
     "level": 4,
     "metadata": {
      "slideshow": {
       "slide_type": "fragment"
      }
     },
     "source": [
      "feeding on blood"
     ]
    },
    {
     "cell_type": "heading",
     "level": 4,
     "metadata": {
      "slideshow": {
       "slide_type": "fragment"
      }
     },
     "source": [
      "a trait hypothesized to be ancestral to the mosquito clade"
     ]
    },
    {
     "cell_type": "heading",
     "level": 1,
     "metadata": {
      "slideshow": {
       "slide_type": "slide"
      }
     },
     "source": [
      "<font color=\"#A86E12\">A typical transmission cycle</font>"
     ]
    },
    {
     "cell_type": "markdown",
     "metadata": {
      "slideshow": {
       "slide_type": "fragment"
      }
     },
     "source": [
      "### 1. A female mosquito bites an infected person."
     ]
    },
    {
     "cell_type": "markdown",
     "metadata": {
      "slideshow": {
       "slide_type": "fragment"
      }
     },
     "source": [
      "### 2. The pathogen is taken into the <font color=\"#5791ED\">midgut</font> along with the bloodmeal."
     ]
    },
    {
     "cell_type": "markdown",
     "metadata": {
      "slideshow": {
       "slide_type": "fragment"
      }
     },
     "source": [
      "### 3. The pathogen must escape the <font color=\"#5791ED\">midgut</font> to gain access to the hemolymph."
     ]
    },
    {
     "cell_type": "markdown",
     "metadata": {
      "slideshow": {
       "slide_type": "fragment"
      }
     },
     "source": [
      "### 4. The pathogen must gain access to the <font color=\"#5791ED\">salivary glands</font>."
     ]
    },
    {
     "cell_type": "markdown",
     "metadata": {
      "slideshow": {
       "slide_type": "fragment"
      }
     },
     "source": [
      "### 5. Infectious mosquito bites an uninfected person and the pathogen in transfered in her saliva."
     ]
    },
    {
     "cell_type": "markdown",
     "metadata": {
      "slideshow": {
       "slide_type": "subslide"
      }
     },
     "source": [
      "<figure>\n",
      "<center>\n",
      "<img src=\"general_files/mosqXsection.png\" width=\"900\" />\n",
      "<figcaption>**Cross section of a female mosquito with tissues important to the transmission cycle highlighted.**</figcaption>\n",
      "</center>\n",
      "</figure>"
     ]
    },
    {
     "cell_type": "heading",
     "level": 1,
     "metadata": {
      "slideshow": {
       "slide_type": "slide"
      }
     },
     "source": [
      "<font color=\"#A86E12\">Strategic \"weak\" points</font>"
     ]
    },
    {
     "cell_type": "markdown",
     "metadata": {
      "slideshow": {
       "slide_type": "fragment"
      }
     },
     "source": [
      "### 1. If the pathogen is unable to escape the <font color=\"#5791ED\">midgut</font>, the insect remains essentially uninfected."
     ]
    },
    {
     "cell_type": "markdown",
     "metadata": {
      "slideshow": {
       "slide_type": "fragment"
      }
     },
     "source": [
      "### 2. If the pathogen is unable to access the <font color=\"#5791ED\">salivary glands</font>, the insect in unable to transmit the pathogen to another human."
     ]
    },
    {
     "cell_type": "markdown",
     "metadata": {
      "slideshow": {
       "slide_type": "notes"
      }
     },
     "source": [
      "1. Dengue will infect the lining of the midgut but eventually be cleared by the mosquito's anti-sense RNA machinery"
     ]
    },
    {
     "cell_type": "heading",
     "level": 1,
     "metadata": {
      "slideshow": {
       "slide_type": "subslide"
      }
     },
     "source": [
      "These weak points present <font color=\"#5791ED\">targets</font> for designing transgenic mosquitoes that are able to block the pathogen from reaching the next human host."
     ]
    },
    {
     "cell_type": "heading",
     "level": 1,
     "metadata": {
      "slideshow": {
       "slide_type": "slide"
      }
     },
     "source": [
      "<font color=\"#A86E12\">How does one design a transgenic mosquito to do this?</font>"
     ]
    },
    {
     "cell_type": "heading",
     "level": 1,
     "metadata": {
      "slideshow": {
       "slide_type": "subslide"
      }
     },
     "source": [
      "Elements of transgenic vector mosquito control"
     ]
    },
    {
     "cell_type": "markdown",
     "metadata": {
      "slideshow": {
       "slide_type": "fragment"
      }
     },
     "source": [
      "There are four fundamental elements needed for a successful transgenic vector control product"
     ]
    },
    {
     "cell_type": "heading",
     "level": 3,
     "metadata": {
      "slideshow": {
       "slide_type": "fragment"
      }
     },
     "source": [
      "1. genomic introduction of <font color=\"#5791ED\">heritable traits</font>"
     ]
    },
    {
     "cell_type": "heading",
     "level": 3,
     "metadata": {
      "slideshow": {
       "slide_type": "fragment"
      }
     },
     "source": [
      "2. development of effective <font color=\"#5791ED\">anti-pathogen gene construct</font>"
     ]
    },
    {
     "cell_type": "heading",
     "level": 3,
     "metadata": {
      "slideshow": {
       "slide_type": "fragment"
      }
     },
     "source": [
      "3. genetic <font color=\"#5791ED\">control of expression pattern</font> of gene construct "
     ]
    },
    {
     "cell_type": "heading",
     "level": 3,
     "metadata": {
      "slideshow": {
       "slide_type": "fragment"
      }
     },
     "source": [
      "4. strategy to bring gene construct to <font color=\"#5791ED\">near-fixation frequencies</font> in native populations"
     ]
    },
    {
     "cell_type": "heading",
     "level": 3,
     "metadata": {
      "slideshow": {
       "slide_type": "fragment"
      }
     },
     "source": [
      "<font color=\"#A86E12\">My work will improve our ability to evaluate and design the control of spaciotemporal expression patterns of gene constructs.</font>"
     ]
    },
    {
     "cell_type": "markdown",
     "metadata": {
      "slideshow": {
       "slide_type": "notes"
      }
     },
     "source": [
      "How much depth should i take the 4 elements in this talk?"
     ]
    },
    {
     "cell_type": "heading",
     "level": 1,
     "metadata": {
      "slideshow": {
       "slide_type": "slide"
      }
     },
     "source": [
      "<font color=\"#A86E12\">Genetic control of expression patterns</font>"
     ]
    },
    {
     "cell_type": "markdown",
     "metadata": {
      "slideshow": {
       "slide_type": "subslide"
      }
     },
     "source": [
      "## How does the genome determine gene expression patterns? "
     ]
    },
    {
     "cell_type": "markdown",
     "metadata": {
      "slideshow": {
       "slide_type": "fragment"
      }
     },
     "source": [
      "Through **<font color=\"#5791ED\">*cis*-regulatory elements</font>** working together as **<font color=\"#5791ED\">*cis*-regulatory modules</font>**"
     ]
    },
    {
     "cell_type": "markdown",
     "metadata": {
      "slideshow": {
       "slide_type": "subslide"
      }
     },
     "source": [
      "## <font color=\"#5791ED\">**CREs**</font> and <font color=\"#5791ED\">**CRMs**</font>"
     ]
    },
    {
     "cell_type": "markdown",
     "metadata": {
      "slideshow": {
       "slide_type": "subslide"
      }
     },
     "source": [
      "## How does this work?"
     ]
    },
    {
     "cell_type": "markdown",
     "metadata": {},
     "source": [
      "<figure>\n",
      "<center>\n",
      "<img src=\"general_files/CREandCRM.png\" width=\"1100\" />\n",
      "<figcaption>Elements of  transcriptional regulation: **CREs** and **CRMs**</figcaption>\n",
      "</center>\n",
      "</figure>"
     ]
    },
    {
     "cell_type": "markdown",
     "metadata": {
      "slideshow": {
       "slide_type": "notes"
      }
     },
     "source": [
      "* CREs made up of individual regions of DNA sequence conforming to a TFBS PWM illustrated by the colored boxes in **-A-**\n",
      "    - the TFBS PWM denoted by the LOGO\n",
      "* A CRM is constructed of binding sites for multiple cooperative TFs that interact to define the conditions required for expression or repression for the gene(s) under its influence\n",
      "* **-A-** denotes only the sequence binding sites while **-B-** adds the TFs and other cooperative elements"
     ]
    },
    {
     "cell_type": "markdown",
     "metadata": {
      "slideshow": {
       "slide_type": "subslide"
      }
     },
     "source": [
      "## Typical method for characterizing CRE and CRM activity by experimentation: <font color=\"#5791ED\">promoter bashing</font>."
     ]
    },
    {
     "cell_type": "heading",
     "level": 1,
     "metadata": {
      "slideshow": {
       "slide_type": "slide"
      }
     },
     "source": [
      "<font color=\"#A86E12\">Promoter bashing</font>"
     ]
    },
    {
     "cell_type": "markdown",
     "metadata": {
      "slideshow": {
       "slide_type": "subslide"
      }
     },
     "source": [
      "<figure>\n",
      "<center>\n",
      "<img src=\"general_files/Promoter_bashing.svg\" width=100 />\n",
      "<figcaption>An illustration of promoter bashing. <a href=\"http://en.wikipedia.org/wiki/File:Promoter_bashing.svg\">RC Howe</a>\n",
      "</figcaption>\n",
      "</center>\n",
      "</figure>\n",
      "\n"
     ]
    },
    {
     "cell_type": "markdown",
     "metadata": {
      "slideshow": {
       "slide_type": "subslide"
      }
     },
     "source": [
      "## Promoter bashing is <font color=\"#5791ED\">impractical</font> in most mosquito systems."
     ]
    },
    {
     "cell_type": "markdown",
     "metadata": {
      "slideshow": {
       "slide_type": "fragment"
      }
     },
     "source": [
      "* Generating a single transgenic line with genomic integrations takes <font color=\"#5791ED\">months</font> and is very <font color=\"#5791ED\">labor intensive</font>."
     ]
    },
    {
     "cell_type": "markdown",
     "metadata": {
      "slideshow": {
       "slide_type": "fragment"
      }
     },
     "source": [
      "* <font color=\"#5791ED\">Promoter bashing</font> methods require the ability to place altered versions of a promoter in the same genomic context or location to accurately interpret the results."
     ]
    },
    {
     "cell_type": "heading",
     "level": 3,
     "metadata": {
      "slideshow": {
       "slide_type": "subslide"
      }
     },
     "source": [
      "Without a way to predict which CREs/CRMs may be important in a promoter region intended for use in controlling a transgene, each candidate promoter remains a <font color=\"#5791ED\">black box</font>."
     ]
    },
    {
     "cell_type": "heading",
     "level": 1,
     "metadata": {
      "slideshow": {
       "slide_type": "subslide"
      }
     },
     "source": [
      "Black boxes are <font color=\"#5791ED\">fine</font>..."
     ]
    },
    {
     "cell_type": "heading",
     "level": 3,
     "metadata": {
      "slideshow": {
       "slide_type": "subslide"
      }
     },
     "source": [
      "as long as they work <font color=\"#5791ED\">perfectly</font>"
     ]
    },
    {
     "cell_type": "heading",
     "level": 3,
     "metadata": {
      "slideshow": {
       "slide_type": "subslide"
      }
     },
     "source": [
      "the <font color=\"#5791ED\">first time</font>."
     ]
    },
    {
     "cell_type": "heading",
     "level": 1,
     "metadata": {
      "slideshow": {
       "slide_type": "subslide"
      }
     },
     "source": [
      "And if it works <font color=\"#5791ED\">80%</font> as well as needed?"
     ]
    },
    {
     "cell_type": "heading",
     "level": 3,
     "metadata": {
      "slideshow": {
       "slide_type": "fragment"
      }
     },
     "source": [
      "With no idea of what to adjust"
     ]
    },
    {
     "cell_type": "heading",
     "level": 3,
     "metadata": {
      "slideshow": {
       "slide_type": "fragment"
      }
     },
     "source": [
      "the promoter is usually abandoned and the process <font color=\"#5791ED\">starts all over</font>."
     ]
    },
    {
     "cell_type": "heading",
     "level": 1,
     "metadata": {
      "slideshow": {
       "slide_type": "slide"
      }
     },
     "source": [
      "<font color=\"#A86E12\">There must be another way to predict active CREs and CRMs of promoters in non-model systems...</font>"
     ]
    },
    {
     "cell_type": "heading",
     "level": 3,
     "metadata": {
      "slideshow": {
       "slide_type": "subslide"
      }
     },
     "source": [
      "Promoter bashing works by choosing <font color=\"#5791ED\">one</font> gene and asking how many altered versions of its promoter affect the expression profile"
     ]
    },
    {
     "cell_type": "heading",
     "level": 3,
     "metadata": {
      "slideshow": {
       "slide_type": "subslide"
      }
     },
     "source": [
      "Modern high throughput sequencing allows us to measure the expression profiles of virtually <font color=\"#5791ED\">every gene in the genome</font> at once"
     ]
    },
    {
     "cell_type": "heading",
     "level": 3,
     "metadata": {
      "slideshow": {
       "slide_type": "subslide"
      }
     },
     "source": [
      "If we collected  <font color=\"#5791ED\">every other expression profile</font> in the genome that is similar to our original target profile"
     ]
    },
    {
     "cell_type": "heading",
     "level": 3,
     "metadata": {
      "slideshow": {
       "slide_type": "subslide"
      }
     },
     "source": [
      "we could then search all the associated promoter sequences for <font color=\"#5791ED\">what they have in common</font>"
     ]
    },
    {
     "cell_type": "heading",
     "level": 3,
     "metadata": {
      "slideshow": {
       "slide_type": "subslide"
      }
     },
     "source": [
      "similar expression profile <font color=\"#5791ED\">does not</font> necessarily require similar regulatory elements "
     ]
    },
    {
     "cell_type": "heading",
     "level": 3,
     "metadata": {
      "slideshow": {
       "slide_type": "subslide"
      }
     },
     "source": [
      "use <font color=\"#5791ED\">other information</font> to attempt to filter as much of that noise out of the gene/promter sets"
     ]
    },
    {
     "cell_type": "heading",
     "level": 1,
     "metadata": {
      "slideshow": {
       "slide_type": "slide"
      }
     },
     "source": [
      "<font color=\"#A86E12\">Approach</font>"
     ]
    },
    {
     "cell_type": "heading",
     "level": 2,
     "metadata": {
      "slideshow": {
       "slide_type": "subslide"
      }
     },
     "source": [
      "<font color=\"#A86E12\">Goal:</font> Establish a <font color=\"#5791ED\">method for grouping promoters</font> to aid computational CRE/CRM discovery."
     ]
    },
    {
     "cell_type": "heading",
     "level": 3,
     "metadata": {
      "slideshow": {
       "slide_type": "fragment"
      }
     },
     "source": [
      "<font color=\"#5791ED\">In other words:</font> form groupings containing as few \"incorrect\" members as possible."
     ]
    },
    {
     "cell_type": "heading",
     "level": 1,
     "metadata": {
      "slideshow": {
       "slide_type": "subslide"
      }
     },
     "source": [
      "What can be done to limit noise in the analysis?"
     ]
    },
    {
     "cell_type": "markdown",
     "metadata": {
      "slideshow": {
       "slide_type": "fragment"
      }
     },
     "source": [
      "- Focus on expression profiles related to bloodfeeding in one tissue <font color=\"#5791ED\">[midgut]</font>"
     ]
    },
    {
     "cell_type": "markdown",
     "metadata": {
      "slideshow": {
       "slide_type": "fragment"
      }
     },
     "source": [
      "- Take advantage of the hypothesized <font color=\"#5791ED\">shared ancestry</font> of hematophagy"
     ]
    },
    {
     "cell_type": "markdown",
     "metadata": {
      "slideshow": {
       "slide_type": "fragment"
      }
     },
     "source": [
      "- Compare promoter sequences for similarities of the presence of motifs that fit models of <font color=\"#5791ED\">previously described CREs</font>"
     ]
    },
    {
     "cell_type": "markdown",
     "metadata": {
      "slideshow": {
       "slide_type": "fragment"
      }
     },
     "source": [
      "- Compare promoter sequences for similarities of <font color=\"#5791ED\">predicted functional overlap</font>"
     ]
    },
    {
     "cell_type": "heading",
     "level": 2,
     "metadata": {
      "slideshow": {
       "slide_type": "subslide"
      }
     },
     "source": [
      "How to evaluate the resulting groupings..."
     ]
    },
    {
     "cell_type": "heading",
     "level": 3,
     "metadata": {
      "slideshow": {
       "slide_type": "subslide"
      }
     },
     "source": [
      "Withold analysis of <font color=\"#5791ED\">predicted functional overlap</font> until the groupings have been formed."
     ]
    },
    {
     "cell_type": "heading",
     "level": 1,
     "metadata": {
      "slideshow": {
       "slide_type": "slide"
      }
     },
     "source": [
      "<font color=\"#A86E12\">Experimental set up</font>"
     ]
    },
    {
     "cell_type": "heading",
     "level": 2,
     "metadata": {
      "slideshow": {
       "slide_type": "subslide"
      }
     },
     "source": [
      "RNA-seq to assay mRNA abundance profiles (<font color=\"#5791ED\">mAP</font>)"
     ]
    },
    {
     "cell_type": "markdown",
     "metadata": {
      "slideshow": {
       "slide_type": "subslide"
      }
     },
     "source": [
      "<figure>\n",
      "<center>\n",
      "<img src=\"general_files/RNAseqFlow_v3.svg\" width=\"800\" />\n",
      "<figcaption>Transcriptomics Flow</figcaption>\n",
      "</center>\n",
      "</figure>"
     ]
    },
    {
     "cell_type": "heading",
     "level": 1,
     "metadata": {
      "slideshow": {
       "slide_type": "slide"
      }
     },
     "source": [
      "<font color=\"#A86E12\">Tuxedo Protocol</font>"
     ]
    },
    {
     "cell_type": "heading",
     "level": 3,
     "metadata": {
      "slideshow": {
       "slide_type": "subslide"
      }
     },
     "source": [
      "popular RNA-seq analysis suite"
     ]
    },
    {
     "cell_type": "heading",
     "level": 3,
     "metadata": {
      "slideshow": {
       "slide_type": "subslide"
      }
     },
     "source": [
      "programs are named after components of a tuxedo"
     ]
    },
    {
     "cell_type": "heading",
     "level": 3,
     "metadata": {
      "slideshow": {
       "slide_type": "subslide"
      }
     },
     "source": [
      "<font color=\"#5791ED\">Bowtie:</font> maps reads to reference sequence"
     ]
    },
    {
     "cell_type": "heading",
     "level": 3,
     "metadata": {
      "slideshow": {
       "slide_type": "subslide"
      }
     },
     "source": [
      "<font color=\"#5791ED\">Tophat:</font> uses `bowtie` for read-mapping/alignment across introns"
     ]
    },
    {
     "cell_type": "heading",
     "level": 3,
     "metadata": {
      "slideshow": {
       "slide_type": "subslide"
      }
     },
     "source": [
      "<font color=\"#5791ED\">Cufflinks:</font> builds transcript models (annotations) from `tophat` output and calculates expression values"
     ]
    },
    {
     "cell_type": "heading",
     "level": 3,
     "metadata": {
      "slideshow": {
       "slide_type": "subslide"
      }
     },
     "source": [
      "<font color=\"#5791ED\">CummRbund:</font> `R` scripts for combining `cufflinks` output files into useful results and figures"
     ]
    },
    {
     "cell_type": "markdown",
     "metadata": {
      "slideshow": {
       "slide_type": "subslide"
      }
     },
     "source": [
      "<figure>\n",
      "<center>\n",
      "<img src=\"general_files/tuxedo_nature.jpg\" width=\"250\" />\n",
      "<figcaption>Trapnel *et al*. Nature Protocols 7, 562\u2013578 (2012) <a href=\"http://www.nature.com/nprot/journal/v7/n3/full/nprot.2012.016.html\">doi:10.1038/nprot.2012.016</a></figcaption>\n",
      "</center>\n",
      "</figure>"
     ]
    },
    {
     "cell_type": "heading",
     "level": 3,
     "metadata": {
      "slideshow": {
       "slide_type": "subslide"
      }
     },
     "source": [
      "understates the data management challenge of next generation sequencing (<font color=\"#5791ED\">NGS</font>) analysis"
     ]
    },
    {
     "cell_type": "heading",
     "level": 3,
     "metadata": {
      "slideshow": {
       "slide_type": "subslide"
      }
     },
     "source": [
      "\"understates\" is an <font color=\"#5791ED\">understatement</font>"
     ]
    },
    {
     "cell_type": "markdown",
     "metadata": {
      "slideshow": {
       "slide_type": "subslide"
      }
     },
     "source": [
      "<figure>\n",
      "<center>\n",
      "<img src=\"general_files/tophat_cufflinks_ins_outs.svg\" width=\"1200\" />\n",
      "<figcaption><font color=\"#5791ED\">*Abbreviated*</font> diagram of `tophat`/`cufflinks` steps in Tuxedo Protocol for just <font color=\"#5791ED\"><u>two</u></font> time points.</figcaption>\n",
      "</center>\n",
      "</figure>"
     ]
    },
    {
     "cell_type": "markdown",
     "metadata": {},
     "source": []
    },
    {
     "cell_type": "markdown",
     "metadata": {
      "slideshow": {
       "slide_type": "fragment"
      }
     },
     "source": [
      "- each yellow box represents a <font color=\"#5791ED\">single command line execution</font>, with specific inputs and an output directory, that may take hours or <u>days</u> to complete before the user is able to enter the next command."
     ]
    },
    {
     "cell_type": "markdown",
     "metadata": {
      "slideshow": {
       "slide_type": "fragment"
      }
     },
     "source": [
      "- data management and <font color=\"#5791ED\">record keeping</font> becomes a nightmare, *especially for biologists uncomfortable with the command line.*"
     ]
    },
    {
     "cell_type": "markdown",
     "metadata": {
      "slideshow": {
       "slide_type": "fragment"
      }
     },
     "source": [
      "- <font color=\"#5791ED\">reproducibility</font> suffers with record keeping"
     ]
    },
    {
     "cell_type": "heading",
     "level": 1,
     "metadata": {
      "slideshow": {
       "slide_type": "slide"
      }
     },
     "source": [
      "<font color=\"#A86E12\">blacktie</font>"
     ]
    },
    {
     "cell_type": "heading",
     "level": 3,
     "metadata": {
      "slideshow": {
       "slide_type": "subslide"
      }
     },
     "source": [
      "Automation of the <font color=\"#5791ED\">Tuxedo Protocol</font>"
     ]
    },
    {
     "cell_type": "markdown",
     "metadata": {
      "slideshow": {
       "slide_type": "fragment"
      }
     },
     "source": [
      "- simple installation"
     ]
    },
    {
     "cell_type": "markdown",
     "metadata": {
      "slideshow": {
       "slide_type": "fragment"
      }
     },
     "source": [
      "- simple command line interface that allows <font color=\"#5791ED\">almost</font> anybody to fully automate and reliably repeat their analysis of RNA-seq data with `tophat`, `cufflinks`, and `cummeRbund`"
     ]
    },
    {
     "cell_type": "markdown",
     "metadata": {
      "slideshow": {
       "slide_type": "fragment"
      }
     },
     "source": [
      "- send email updates to the user"
     ]
    },
    {
     "cell_type": "markdown",
     "metadata": {
      "slideshow": {
       "slide_type": "fragment"
      }
     },
     "source": [
      "- intelligently continue with the analysis if a branch of a run fails"
     ]
    },
    {
     "cell_type": "markdown",
     "metadata": {
      "slideshow": {
       "slide_type": "fragment"
      }
     },
     "source": [
      "- run multiple, complex `tophat`/`cufflinks` experiments using a single command"
     ]
    },
    {
     "cell_type": "markdown",
     "metadata": {
      "slideshow": {
       "slide_type": "fragment"
      }
     },
     "source": [
      "- generates SGE `qsub`-able scripts for use with a computing cluster"
     ]
    },
    {
     "cell_type": "markdown",
     "metadata": {
      "slideshow": {
       "slide_type": "fragment"
      }
     },
     "source": [
      "- checks for `R` installation"
     ]
    },
    {
     "cell_type": "markdown",
     "metadata": {
      "slideshow": {
       "slide_type": "fragment"
      }
     },
     "source": [
      "- checks for `cummeRbund` library and walks user through installation if its not installed yet"
     ]
    },
    {
     "cell_type": "markdown",
     "metadata": {
      "slideshow": {
       "slide_type": "fragment"
      }
     },
     "source": [
      "- automatic preliminary Quality Control, Basic Differential Expression, and Basic Pattern Discovery plots using `cummeRbund`"
     ]
    },
    {
     "cell_type": "markdown",
     "metadata": {
      "slideshow": {
       "slide_type": "subslide"
      }
     },
     "source": [
      "<figure>\n",
      "<center>\n",
      "<img src=\"general_files/basic_cummerbund_plots.png\" width=\"900\" />\n",
      "<figcaption>Basic plots produced automatically after full `blacktie` run.</figcaption>\n",
      "</center>\n",
      "</figure>"
     ]
    },
    {
     "cell_type": "heading",
     "level": 3,
     "metadata": {
      "slideshow": {
       "slide_type": "subslide"
      }
     },
     "source": [
      "blacktie's documentation is hosted on <a href=\"https://blacktie.readthedocs.org/en/latest/\">readthedocs.org</a>"
     ]
    },
    {
     "cell_type": "heading",
     "level": 3,
     "metadata": {
      "slideshow": {
       "slide_type": "subslide"
      }
     },
     "source": [
      "blacktie is hosted on <a href=\"https://github.com/xguse/blacktie\">github.com</a> for open source collaboration"
     ]
    },
    {
     "cell_type": "heading",
     "level": 3,
     "metadata": {
      "slideshow": {
       "slide_type": "subslide"
      }
     },
     "source": [
      "blacktie is also hosted on <a href=\"https://pypi.python.org/pypi/blacktie/0.2.1.2\">pypi.python.org</a> for easy installation"
     ]
    },
    {
     "cell_type": "markdown",
     "metadata": {
      "slideshow": {
       "slide_type": "subslide"
      }
     },
     "source": [
      "``` $ [sudo] pip install blacktie```"
     ]
    },
    {
     "cell_type": "heading",
     "level": 3,
     "metadata": {
      "slideshow": {
       "slide_type": "subslide"
      }
     },
     "source": [
      "`blacktie` has been downloaded over 500 in the last month alone"
     ]
    },
    {
     "cell_type": "heading",
     "level": 2,
     "metadata": {
      "slideshow": {
       "slide_type": "slide"
      }
     },
     "source": [
      "<font color=\"#A86E12\">~14,000 mRNA abundance profiles in each of three species</font>"
     ]
    },
    {
     "cell_type": "heading",
     "level": 3,
     "metadata": {
      "slideshow": {
       "slide_type": "subslide"
      }
     },
     "source": [
      "where do we want to end up?"
     ]
    },
    {
     "cell_type": "heading",
     "level": 3,
     "metadata": {
      "slideshow": {
       "slide_type": "subslide"
      }
     },
     "source": [
      "meaningfully grouped promoters"
     ]
    },
    {
     "cell_type": "heading",
     "level": 3,
     "metadata": {
      "slideshow": {
       "slide_type": "subslide"
      }
     },
     "source": [
      "<font color=\"#5791ED\">automated</font> and <font color=\"#5791ED\">repeatable</font>"
     ]
    },
    {
     "cell_type": "heading",
     "level": 1,
     "metadata": {
      "slideshow": {
       "slide_type": "slide"
      }
     },
     "source": [
      "<font color=\"#A86E12\">30,000 foot view</font>"
     ]
    },
    {
     "cell_type": "markdown",
     "metadata": {
      "slideshow": {
       "slide_type": "subslide"
      }
     },
     "source": [
      "\n",
      "<figure>\n",
      "<center>\n",
      "<img src=\"general_files/approach_overview.svg\" width=\"1200\" />\n",
      "<figcaption>Input/output diagram of grouping approach.</figcaption>\n",
      "</center>\n",
      "</figure>\n"
     ]
    },
    {
     "cell_type": "heading",
     "level": 1,
     "metadata": {
      "slideshow": {
       "slide_type": "slide"
      }
     },
     "source": [
      "<font color=\"#A86E12\">Initial data</font>"
     ]
    },
    {
     "cell_type": "heading",
     "level": 2,
     "metadata": {
      "slideshow": {
       "slide_type": "subslide"
      }
     },
     "source": [
      "Four intial data-sets were compiled that represent <font color=\"#5791ED\">Phylogenetics</font>, <font color=\"#5791ED\">Genomics</font>, <font color=\"#5791ED\">Transcriptomics</font>, and <font color=\"#5791ED\">Putative Transcriptional Regulatory</font> information.\n"
     ]
    },
    {
     "cell_type": "heading",
     "level": 1,
     "metadata": {
      "slideshow": {
       "slide_type": "slide"
      }
     },
     "source": [
      "<font color=\"#A86E12\">Phylogenetics</font>"
     ]
    },
    {
     "cell_type": "markdown",
     "metadata": {
      "slideshow": {
       "slide_type": "subslide"
      }
     },
     "source": [
      "\n",
      "<figure>\n",
      "<center>\n",
      "<img src=\"general_files/mosqPhyloTree.svg\" width=\"1200\" />\n",
      "<figcaption>Phylogenetic relationships of four vector-mosquitoes.</figcaption>\n",
      "</center>\n",
      "</figure>\n"
     ]
    },
    {
     "cell_type": "markdown",
     "metadata": {
      "slideshow": {
       "slide_type": "subslide"
      }
     },
     "source": [
      "<figure>\n",
      "<center>\n",
      "<img src=\"general_files/pairwise_evo_divs.png\" width=\"1200\" />\n",
      "<figcaption> Estimated pairwise-evolutionary divergence between species.</figcaption>\n",
      "</center>\n",
      "</figure>"
     ]
    },
    {
     "cell_type": "heading",
     "level": 1,
     "metadata": {
      "slideshow": {
       "slide_type": "slide"
      }
     },
     "source": [
      "<font color=\"#A86E12\">Comparative Genomics</font>"
     ]
    },
    {
     "cell_type": "heading",
     "level": 2,
     "metadata": {
      "slideshow": {
       "slide_type": "subslide"
      }
     },
     "source": [
      "genes considered from each species were limited to those with exactly <font color=\"#5791ED\">one</font> 1-to-1 ortholog in *Ae. aegypti*, *An. gambiae*, *An. stephensi*,\n",
      "and *Cx. quinquefasciatus*"
     ]
    },
    {
     "cell_type": "heading",
     "level": 2,
     "metadata": {
      "slideshow": {
       "slide_type": "subslide"
      }
     },
     "source": [
      "maximize the probability of <font color=\"#5791ED\">conserved function</font> between genes analyzed\n"
     ]
    },
    {
     "cell_type": "heading",
     "level": 1,
     "metadata": {
      "slideshow": {
       "slide_type": "subslide"
      }
     },
     "source": [
      "<font color=\"#A86E12\">orthologs</font>"
     ]
    },
    {
     "cell_type": "heading",
     "level": 2,
     "metadata": {
      "slideshow": {
       "slide_type": "subslide"
      }
     },
     "source": [
      "each species has about <font color=\"#5791ED\">14,000</font> annotated genes"
     ]
    },
    {
     "cell_type": "heading",
     "level": 2,
     "metadata": {
      "slideshow": {
       "slide_type": "subslide"
      }
     },
     "source": [
      "some of these genes were present in the <font color=\"#5791ED\">last common ancestor</font> of <u>all</u> mosquitoes"
     ]
    },
    {
     "cell_type": "heading",
     "level": 2,
     "metadata": {
      "slideshow": {
       "slide_type": "subslide"
      }
     },
     "source": [
      "others have <font color=\"#5791ED\">arisen</font> or <font color=\"#5791ED\">disappeared</font> in any particular species since their <a href=\"#/17/1\">divergence</a>"
     ]
    },
    {
     "cell_type": "heading",
     "level": 2,
     "metadata": {
      "slideshow": {
       "slide_type": "subslide"
      }
     },
     "source": [
      "\n",
      "those present in that original species and that still exist in each current species are called <font color=\"#5791ED\">orthologs</font>."
     ]
    },
    {
     "cell_type": "heading",
     "level": 2,
     "metadata": {
      "slideshow": {
       "slide_type": "subslide"
      }
     },
     "source": [
      "<font color=\"#5791ED\">5,101 genes</font> in each species satisfied the 4-way, 1-to-1 ortholog requirement and were retained"
     ]
    },
    {
     "cell_type": "heading",
     "level": 2,
     "metadata": {
      "slideshow": {
       "slide_type": "subslide"
      }
     },
     "source": [
      "<font color=\"#5791ED\">15,303 genes</font> total"
     ]
    },
    {
     "cell_type": "markdown",
     "metadata": {
      "slideshow": {
       "slide_type": "fragment"
      }
     },
     "source": [
      "(5,101 * 3)"
     ]
    },
    {
     "cell_type": "markdown",
     "metadata": {
      "slideshow": {
       "slide_type": "fragment"
      }
     },
     "source": [
      "<font color=\"#5791ED\">*An. stephensi*</font> was not included in the transcriptomics part of this project due to unstable genome assembly and annotation"
     ]
    },
    {
     "cell_type": "heading",
     "level": 2,
     "metadata": {
      "slideshow": {
       "slide_type": "skip"
      }
     },
     "source": [
      "how does all of this suggest <font color=\"#5791ED\">conserved function</font>?"
     ]
    },
    {
     "cell_type": "heading",
     "level": 3,
     "metadata": {
      "slideshow": {
       "slide_type": "subslide"
      }
     },
     "source": [
      "no detectable gain or loss of copies over at least <font color=\"#5791ED\">145 million years</font> implies evolutionary stability"
     ]
    },
    {
     "cell_type": "heading",
     "level": 3,
     "metadata": {
      "slideshow": {
       "slide_type": "subslide"
      }
     },
     "source": [
      "more likely to have <font color=\"#5791ED\">conserved function</font>"
     ]
    },
    {
     "cell_type": "heading",
     "level": 1,
     "metadata": {
      "slideshow": {
       "slide_type": "slide"
      }
     },
     "source": [
      "<font color=\"#A86E12\">Transcriptomics</font>"
     ]
    },
    {
     "cell_type": "heading",
     "level": 2,
     "metadata": {
      "slideshow": {
       "slide_type": "subslide"
      }
     },
     "source": [
      "<a href=\"#/11/2\">RNA-seq as described before</a>"
     ]
    },
    {
     "cell_type": "heading",
     "level": 1,
     "metadata": {
      "slideshow": {
       "slide_type": "slide"
      }
     },
     "source": [
      "<font color=\"#A86E12\">Putative Regulatory Mechanisms</font>"
     ]
    },
    {
     "cell_type": "heading",
     "level": 2,
     "metadata": {
      "slideshow": {
       "slide_type": "subslide"
      }
     },
     "source": [
      "Correlation of CRE <font color=\"#5791ED\">scanning signature</font> between ortholog pairs"
     ]
    },
    {
     "cell_type": "heading",
     "level": 3,
     "metadata": {},
     "source": [
      "scanning signature:"
     ]
    },
    {
     "cell_type": "markdown",
     "metadata": {
      "slideshow": {
       "slide_type": "-"
      }
     },
     "source": [
      "for a set of defined CRE motif models..."
     ]
    },
    {
     "cell_type": "markdown",
     "metadata": {
      "slideshow": {
       "slide_type": "fragment"
      }
     },
     "source": [
      "- record all regions of a promoter that <a href=\"general_files/defense_talk/mast.html\">fit a given CRE model</a> better than expected given the background sequences"
     ]
    },
    {
     "cell_type": "markdown",
     "metadata": {
      "slideshow": {
       "slide_type": "fragment"
      }
     },
     "source": [
      "- weight each site by its positive log odds score"
     ]
    },
    {
     "cell_type": "markdown",
     "metadata": {
      "slideshow": {
       "slide_type": "fragment"
      }
     },
     "source": [
      "- sum the weighted sites for each CRE model in a single promoter sequence"
     ]
    },
    {
     "cell_type": "markdown",
     "metadata": {
      "slideshow": {
       "slide_type": "fragment"
      }
     },
     "source": [
      "- this gives each gene's promoter a vector of the counts for each CRE model <font color=\"#5791ED\">weighted by the quality</font> of each site (<font color=\"#5791ED\">scanning signature</font>)"
     ]
    },
    {
     "cell_type": "markdown",
     "metadata": {
      "slideshow": {
       "slide_type": "fragment"
      }
     },
     "source": [
      "- pairs of promoter <font color=\"#5791ED\">scanning signatures</font> can be compared to generate a score representing the similarity of the CRE make-up of the two"
     ]
    },
    {
     "cell_type": "heading",
     "level": 1,
     "metadata": {
      "slideshow": {
       "slide_type": "slide"
      }
     },
     "source": [
      "<font color=\"#A86E12\">gFunc-based comparative analysis</font>"
     ]
    },
    {
     "cell_type": "heading",
     "level": 2,
     "metadata": {
      "slideshow": {
       "slide_type": "subslide"
      }
     },
     "source": [
      "<font color=\"#5791ED\">gFunc:</font> <font color=\"#A86E12\">g</font>raph-based <font color=\"#A86E12\">func</font>tional genomics framework "
     ]
    },
    {
     "cell_type": "heading",
     "level": 3,
     "metadata": {
      "slideshow": {
       "slide_type": "subslide"
      }
     },
     "source": [
      "based on an existing, well maintained network-graph framework called `networkx` "
     ]
    },
    {
     "cell_type": "heading",
     "level": 3,
     "metadata": {
      "slideshow": {
       "slide_type": "subslide"
      }
     },
     "source": [
      "uses `networkx` as a graph-database backbone"
     ]
    },
    {
     "cell_type": "heading",
     "level": 3,
     "metadata": {
      "slideshow": {
       "slide_type": "subslide"
      }
     },
     "source": [
      "<font color=\"#5791ED\">gFunc</font> provides code for installing common genomic data-types into the graph structure"
     ]
    },
    {
     "cell_type": "heading",
     "level": 3,
     "metadata": {
      "slideshow": {
       "slide_type": "subslide"
      }
     },
     "source": [
      "a convention for adding new data-types"
     ]
    },
    {
     "cell_type": "heading",
     "level": 3,
     "metadata": {
      "slideshow": {
       "slide_type": "subslide"
      }
     },
     "source": [
      "not formally released yet"
     ]
    },
    {
     "cell_type": "heading",
     "level": 1,
     "metadata": {
      "slideshow": {
       "slide_type": "slide"
      }
     },
     "source": [
      "<font color=\"#A86E12\">The graph model</font>"
     ]
    },
    {
     "cell_type": "heading",
     "level": 3,
     "metadata": {
      "slideshow": {
       "slide_type": "subslide"
      }
     },
     "source": [
      "based on the 3-way, 1:1 ortholog-relationships"
     ]
    },
    {
     "cell_type": "markdown",
     "metadata": {
      "slideshow": {
       "slide_type": "subslide"
      }
     },
     "source": [
      "<figure>\n",
      "<center>\n",
      "<img src=\"general_files/defense_talk/ortho-graph-model.svg\" width=\"600\" />\n",
      "<figcaption> Graph model of 3-way, 1:1 ortholog-relationships.</figcaption>\n",
      "</center>\n",
      "</figure>"
     ]
    },
    {
     "cell_type": "markdown",
     "metadata": {
      "slideshow": {
       "slide_type": "subslide"
      }
     },
     "source": [
      "<figure>\n",
      "<center>\n",
      "<img src=\"general_files/defense_talk/ortho-graph-node-data.svg\" width=\"600\" />\n",
      "<figcaption> Data stored in the nodes.</figcaption>\n",
      "</center>\n",
      "</figure>"
     ]
    },
    {
     "cell_type": "markdown",
     "metadata": {
      "slideshow": {
       "slide_type": "subslide"
      }
     },
     "source": [
      "<figure>\n",
      "<center>\n",
      "<img src=\"general_files/defense_talk/ortho-graph-edge-data.svg\" width=\"600\" />\n",
      "<figcaption> Data stored in the edges.</figcaption>\n",
      "</center>\n",
      "</figure>"
     ]
    },
    {
     "cell_type": "heading",
     "level": 1,
     "metadata": {
      "slideshow": {
       "slide_type": "slide"
      }
     },
     "source": [
      "<font color=\"#A86E12\">The Phylogenetic Transcriptional Correlation Index</font>"
     ]
    },
    {
     "cell_type": "heading",
     "level": 3,
     "metadata": {
      "slideshow": {
       "slide_type": "subslide"
      }
     },
     "source": [
      "<center>\n",
      "$\\mathrm{PTCI} = \\left( r_{x} + \\frac{r_{t}}{2} \\right) \\cdot w(d)$\n",
      "</center>"
     ]
    },
    {
     "cell_type": "markdown",
     "metadata": {
      "slideshow": {
       "slide_type": "fragment"
      }
     },
     "source": [
      "attempts to provide a metric that\n",
      "\n",
      "- combines multiple pairwise Pearson correlation coefficients (<font color=\"#5791ED\">$r$</font>)\n",
      "    - relating to multiple comparison dimensions for each ortholog-pair \n",
      "    - $r_{x}$ is correlation of <font color=\"#5791ED\">mAPs</font>\n",
      "    - $r_{t}$ is correlation of <font color=\"#5791ED\">CRE scanning signatures</font>\n",
      "- weights it by the relative evolutionary divergence times of each pairwise comparison (<font color=\"#5791ED\">$d$</font>)\n",
      "- <font color=\"#5791ED\">$w$</font> is a scaling function that scales <font color=\"#5791ED\">$d$</font> from millions of years to between $1.0$ and $1.1$"
     ]
    },
    {
     "cell_type": "markdown",
     "metadata": {
      "slideshow": {
       "slide_type": "notes"
      }
     },
     "source": [
      "- <font color=\"#5791ED\">1 - 1.0</font> used to allow the evolutionary distance to <font color=\"#5791ED\">affect the ranking</font> of an ortholog-set without having a <font color=\"#5791ED\">dominating effect</font>.\n",
      "- I explored other constraint settings, but this range appeared to be a good compromise (not shown).\n"
     ]
    },
    {
     "cell_type": "heading",
     "level": 3,
     "metadata": {
      "slideshow": {
       "slide_type": "subslide"
      }
     },
     "source": [
      "$r_{t}$ is a comparison of <font color=\"#5791ED\">non-experimental data</font>"
     ]
    },
    {
     "cell_type": "heading",
     "level": 3,
     "metadata": {
      "slideshow": {
       "slide_type": "subslide"
      }
     },
     "source": [
      "it should not be \"depended on\" as much as $r_{x}$"
     ]
    },
    {
     "cell_type": "heading",
     "level": 3,
     "metadata": {
      "slideshow": {
       "slide_type": "subslide"
      }
     },
     "source": [
      "<center>\n",
      "$r_{x} + \\frac{r_{t}}{2}$\n",
      "</center>"
     ]
    },
    {
     "cell_type": "markdown",
     "metadata": {
      "slideshow": {
       "slide_type": "subslide"
      }
     },
     "source": [
      "<center>\n",
      "<img src=\"general_files/defense_talk/thesis-xprn-tfbs.svg\" width=\"500\"  />\n",
      "\n",
      "\n",
      "<img src=\"general_files/defense_talk/thesis-xprn-scaled-tfbs.svg\" width=\"500\"  />\n",
      "</center>"
     ]
    },
    {
     "cell_type": "markdown",
     "metadata": {
      "slideshow": {
       "slide_type": "subslide"
      }
     },
     "source": [
      "<figure>\n",
      "<center>\n",
      "<img src=\"general_files/defense_talk/ortho-graph-ptci.svg\" width=\"600\" />\n",
      "<figcaption> PTCI example.</figcaption>\n",
      "</center>\n",
      "</figure>"
     ]
    },
    {
     "cell_type": "heading",
     "level": 1,
     "metadata": {
      "slideshow": {
       "slide_type": "slide"
      }
     },
     "source": [
      "<font color=\"#A86E12\">gFunc mediated filtering of ortholog sets</font>"
     ]
    },
    {
     "cell_type": "heading",
     "level": 3,
     "metadata": {
      "slideshow": {
       "slide_type": "subslide"
      }
     },
     "source": [
      "<a href=\"#/15/1\">Big picture again</a>"
     ]
    },
    {
     "cell_type": "heading",
     "level": 2,
     "metadata": {
      "slideshow": {
       "slide_type": "subslide"
      }
     },
     "source": [
      "Three step process:"
     ]
    },
    {
     "cell_type": "heading",
     "level": 3,
     "metadata": {
      "slideshow": {
       "slide_type": "fragment"
      }
     },
     "source": [
      "1.  PTCI calculations for all 3-way ortholog sets"
     ]
    },
    {
     "cell_type": "heading",
     "level": 3,
     "metadata": {
      "slideshow": {
       "slide_type": "fragment"
      }
     },
     "source": [
      "2. Estimate a false discovery rate (<font color=\"#5791ED\">FDR</font>) by recalculating the PTCI many times with randomly assigned 3-way ortholog memberships"
     ]
    },
    {
     "cell_type": "heading",
     "level": 3,
     "metadata": {
      "slideshow": {
       "slide_type": "fragment"
      }
     },
     "source": [
      "3. Retain 3-way orthologs with combined PTCI greater than or equal to FDR threshold"
     ]
    },
    {
     "cell_type": "heading",
     "level": 2,
     "metadata": {
      "slideshow": {
       "slide_type": "subslide"
      }
     },
     "source": [
      "Ortholog sets were filtered using <font color=\"#5791ED\">two</font> CRE model sets."
     ]
    },
    {
     "cell_type": "heading",
     "level": 3,
     "metadata": {
      "slideshow": {
       "slide_type": "subslide"
      }
     },
     "source": [
      "a <font color=\"#5791ED\">general set</font> of 126 insect CRE models"
     ]
    },
    {
     "cell_type": "heading",
     "level": 3,
     "metadata": {
      "slideshow": {
       "slide_type": "subslide"
      }
     },
     "source": [
      "a <font color=\"#5791ED\">focused set</font> of 12 CRE models "
     ]
    },
    {
     "cell_type": "heading",
     "level": 4,
     "metadata": {
      "slideshow": {
       "slide_type": "fragment"
      }
     },
     "source": [
      "linked to the ecdysone (<font color=\"#5791ED\">20E</font>) regulatory program which is involved in transcriptional changes resulting from bloodfeeding "
     ]
    },
    {
     "cell_type": "heading",
     "level": 3,
     "metadata": {
      "slideshow": {
       "slide_type": "subslide"
      }
     },
     "source": [
      "the <font color=\"#5791ED\">union</font> of 3-way ortholog sets from the <font color=\"#5791ED\">general set</font> and the <font color=\"#5791ED\">focused set</font> filtering runs were retained for further characterization"
     ]
    },
    {
     "cell_type": "heading",
     "level": 1,
     "metadata": {
      "slideshow": {
       "slide_type": "slide"
      }
     },
     "source": [
      "<font color=\"#A86E12\">PTCI results from the general set</font>"
     ]
    },
    {
     "cell_type": "heading",
     "level": 2,
     "metadata": {
      "slideshow": {
       "slide_type": "subslide"
      }
     },
     "source": [
      "First <font color=\"#5791ED\">without</font> the 3-way ortholog combined PTCI"
     ]
    },
    {
     "cell_type": "heading",
     "level": 2,
     "metadata": {
      "slideshow": {
       "slide_type": "subslide"
      }
     },
     "source": [
      "each pairwise ortholog <a href=\"#/22/2\">separately</a>"
     ]
    },
    {
     "cell_type": "markdown",
     "metadata": {
      "slideshow": {
       "slide_type": "subslide"
      }
     },
     "source": [
      "<figure>\n",
      "<center>\n",
      "<img src=\"general_files/defense_talk/dist_hist/ins_pairwise_ptci_hist.svg\" width=\"600\" />\n",
      "<figcaption> Pairwise PTCI distributions (<font color=\"#5791ED\">general CRE set</font>).</figcaption>\n",
      "</center>\n",
      "</figure>"
     ]
    },
    {
     "cell_type": "markdown",
     "metadata": {
      "slideshow": {
       "slide_type": "subslide"
      }
     },
     "source": [
      "<figure>\n",
      "<center>\n",
      "<img src=\"general_files/defense_talk/dist_hist/ins_pairwise_ptci_cum_hist.svg\" width=\"600\" />\n",
      "<figcaption> Pairwise PTCI cummulative distributions (<font color=\"#5791ED\">general CRE set</font>).</figcaption>\n",
      "</center>\n",
      "</figure>"
     ]
    },
    {
     "cell_type": "markdown",
     "metadata": {
      "slideshow": {
       "slide_type": "subslide"
      }
     },
     "source": [
      "<figure>\n",
      "<center>\n",
      "<img src=\"general_files/defense_talk/dist_hist/ins_pairwise_ptci_fdr.svg\" width=\"600\" />\n",
      "<figcaption> Pairwise PTCI vs FDR  (<font color=\"#5791ED\">general CRE set</font>).</figcaption>\n",
      "</center>\n",
      "</figure>"
     ]
    },
    {
     "cell_type": "heading",
     "level": 2,
     "metadata": {
      "slideshow": {
       "slide_type": "subslide"
      }
     },
     "source": [
      "Now what do we get when we incorporate the 3-way ortholog relationship?"
     ]
    },
    {
     "cell_type": "markdown",
     "metadata": {
      "slideshow": {
       "slide_type": "subslide"
      }
     },
     "source": [
      "<figure>\n",
      "<center>\n",
      "<img src=\"general_files/defense_talk/dist_hist/ins_mean_ptci_fdr.svg\" width=\"600\" />\n",
      "<figcaption> Combined PTCI vs FDR  (<font color=\"#5791ED\">general CRE set</font>).</figcaption>\n",
      "</center>\n",
      "</figure>"
     ]
    },
    {
     "cell_type": "heading",
     "level": 1,
     "metadata": {
      "slideshow": {
       "slide_type": "slide"
      }
     },
     "source": [
      "<font color=\"#A86E12\">PTCI results from the focused set</font>"
     ]
    },
    {
     "cell_type": "markdown",
     "metadata": {
      "slideshow": {
       "slide_type": "subslide"
      }
     },
     "source": [
      "<figure>\n",
      "<center>\n",
      "<img src=\"general_files/defense_talk/dist_hist/ecr_pairwise_ptci_fdr.svg\" width=\"600\" />\n",
      "<figcaption> Pairwise PTCI vs FDR  (<font color=\"#5791ED\">focused CRE set</font>).</figcaption>\n",
      "</center>\n",
      "</figure>"
     ]
    },
    {
     "cell_type": "markdown",
     "metadata": {
      "slideshow": {
       "slide_type": "subslide"
      }
     },
     "source": [
      "<figure>\n",
      "<center>\n",
      "<img src=\"general_files/defense_talk/dist_hist/ecr_mean_ptci_fdr.svg\" width=\"600\" />\n",
      "<figcaption> Combined PTCI vs FDR  (<font color=\"#5791ED\">focused CRE set</font>).</figcaption>\n",
      "</center>\n",
      "</figure>"
     ]
    },
    {
     "cell_type": "heading",
     "level": 2,
     "metadata": {
      "slideshow": {
       "slide_type": "subslide"
      }
     },
     "source": [
      "A combined PTCI threshold of 0.95 was used as the filter threshold in both the <font color=\"#5791ED\">general</font> and <font color=\"#5791ED\">focused</font> runs"
     ]
    },
    {
     "cell_type": "heading",
     "level": 2,
     "metadata": {
      "slideshow": {
       "slide_type": "subslide"
      }
     },
     "source": [
      "In both cases it resulted in an FDR of <font color=\"#5791ED\">~15%</font>"
     ]
    },
    {
     "cell_type": "heading",
     "level": 2,
     "metadata": {
      "slideshow": {
       "slide_type": "subslide"
      }
     },
     "source": [
      "<font color=\"#5791ED\">666</font> genes were retained for the <font color=\"#5791ED\">general set</font>"
     ]
    },
    {
     "cell_type": "heading",
     "level": 2,
     "metadata": {
      "slideshow": {
       "slide_type": "subslide"
      }
     },
     "source": [
      "<font color=\"#5791ED\">708</font> genes were retained for the <font color=\"#5791ED\">focused set</font>"
     ]
    },
    {
     "cell_type": "heading",
     "level": 2,
     "metadata": {
      "slideshow": {
       "slide_type": "subslide"
      }
     },
     "source": [
      "the <font color=\"#5791ED\">union</font> of the two sets contained <font color=\"#5791ED\">930</font> genes"
     ]
    },
    {
     "cell_type": "heading",
     "level": 3,
     "metadata": {
      "slideshow": {
       "slide_type": "fragment"
      }
     },
     "source": [
      "310 from each species"
     ]
    },
    {
     "cell_type": "heading",
     "level": 2,
     "metadata": {
      "slideshow": {
       "slide_type": "subslide"
      }
     },
     "source": [
      "the <font color=\"#5791ED\">intersection</font> (overlap) contained <font color=\"#5791ED\">444</font> "
     ]
    },
    {
     "cell_type": "heading",
     "level": 3,
     "metadata": {
      "slideshow": {
       "slide_type": "fragment"
      }
     },
     "source": [
      "66% of the genes retained from the <font color=\"#5791ED\">general</font> run"
     ]
    },
    {
     "cell_type": "heading",
     "level": 3,
     "metadata": {
      "slideshow": {
       "slide_type": "fragment"
      }
     },
     "source": [
      "63% of the genes retained from the <font color=\"#5791ED\">focused</font> run"
     ]
    },
    {
     "cell_type": "heading",
     "level": 2,
     "metadata": {
      "slideshow": {
       "slide_type": "skip"
      }
     },
     "source": [
      "common to <font color=\"#5791ED\">both</font> "
     ]
    },
    {
     "cell_type": "heading",
     "level": 1,
     "metadata": {
      "slideshow": {
       "slide_type": "slide"
      }
     },
     "source": [
      "<font color=\"#A86E12\">Characterization of results stage</font>"
     ]
    },
    {
     "cell_type": "heading",
     "level": 3,
     "metadata": {
      "slideshow": {
       "slide_type": "subslide"
      }
     },
     "source": [
      "<a href=\"#/15/1\">Big picture again</a>"
     ]
    },
    {
     "cell_type": "heading",
     "level": 1,
     "metadata": {
      "slideshow": {
       "slide_type": "slide"
      }
     },
     "source": [
      "<font color=\"#A86E12\">Functional annotation of the 930 genes in the union</font>"
     ]
    },
    {
     "cell_type": "heading",
     "level": 2,
     "metadata": {
      "slideshow": {
       "slide_type": "fragment"
      }
     },
     "source": [
      "What might these genes <font color=\"#5791ED\">actually do</font>? "
     ]
    },
    {
     "cell_type": "heading",
     "level": 2,
     "metadata": {
      "slideshow": {
       "slide_type": "subslide"
      }
     },
     "source": [
      "<font color=\"#5791ED\">Disclaimer...</font> "
     ]
    },
    {
     "cell_type": "heading",
     "level": 2,
     "metadata": {
      "slideshow": {
       "slide_type": "subslide"
      }
     },
     "source": [
      "<font color=\"#5791ED\">Very few</font> mosquito genes have been experimentally validated with respect to molecular function"
     ]
    },
    {
     "cell_type": "heading",
     "level": 2,
     "metadata": {
      "slideshow": {
       "slide_type": "subslide"
      }
     },
     "source": [
      "Reality for most non-\"model\" organisms"
     ]
    },
    {
     "cell_type": "heading",
     "level": 2,
     "metadata": {
      "slideshow": {
       "slide_type": "subslide"
      }
     },
     "source": [
      "So..."
     ]
    },
    {
     "cell_type": "heading",
     "level": 2,
     "metadata": {
      "slideshow": {
       "slide_type": "subslide"
      }
     },
     "source": [
      "We must <font color=\"#5791ED\">infer</font> function through similarity of gene protein sequence"
     ]
    },
    {
     "cell_type": "heading",
     "level": 1,
     "metadata": {
      "slideshow": {
       "slide_type": "slide"
      }
     },
     "source": [
      "<font color=\"#A86E12\">Argot<sup>2</sup></font>"
     ]
    },
    {
     "cell_type": "markdown",
     "metadata": {},
     "source": [
      "<font color=\"#5791ED\">Falda *et al.* (2012). **Argot2: a large scale function prediction tool relying on semantic similarity of weighted Gene Ontology terms**. BMC bioinformatics \n",
      "\n",
      "doi:10.1186/1471-2105-13-S4-S14 </font>"
     ]
    },
    {
     "cell_type": "heading",
     "level": 2,
     "metadata": {
      "slideshow": {
       "slide_type": "subslide"
      }
     },
     "source": [
      "The process:"
     ]
    },
    {
     "cell_type": "heading",
     "level": 3,
     "metadata": {
      "slideshow": {
       "slide_type": "subslide"
      }
     },
     "source": [
      "The 930 protein sequences are compared to databases of <font color=\"#5791ED\">well characterized</font> proteins..."
     ]
    },
    {
     "cell_type": "heading",
     "level": 3,
     "metadata": {
      "slideshow": {
       "slide_type": "subslide"
      }
     },
     "source": [
      " Our sequences are compared using peptide BLAST against the SwissProt <font color=\"#5791ED\">protein sequence</font> database"
     ]
    },
    {
     "cell_type": "heading",
     "level": 4,
     "metadata": {
      "slideshow": {
       "slide_type": "fragment"
      }
     },
     "source": [
      "annotated by hand with evidence types known"
     ]
    },
    {
     "cell_type": "heading",
     "level": 4,
     "metadata": {
      "slideshow": {
       "slide_type": "fragment"
      }
     },
     "source": [
      "most with at least some experimental evidence"
     ]
    },
    {
     "cell_type": "heading",
     "level": 3,
     "metadata": {
      "slideshow": {
       "slide_type": "subslide"
      }
     },
     "source": [
      "They are also compared using HMMER against the Pfam database of <font color=\"#5791ED\">functional domains</font>"
     ]
    },
    {
     "cell_type": "heading",
     "level": 4,
     "metadata": {
      "slideshow": {
       "slide_type": "fragment"
      }
     },
     "source": [
      "uses hidden Markov models of annotated functional domains "
     ]
    },
    {
     "cell_type": "heading",
     "level": 4,
     "metadata": {
      "slideshow": {
       "slide_type": "fragment"
      }
     },
     "source": [
      "built from many instances of each domain"
     ]
    },
    {
     "cell_type": "heading",
     "level": 3,
     "metadata": {
      "slideshow": {
       "slide_type": "subslide"
      }
     },
     "source": [
      "The results are sent to the <font color=\"#5791ED\">Argot<sup>2</sup></font> servers to be mapped onto the Gene Ontology (<font color=\"#5791ED\">GO</font>) graph of hierarchical terms"
     ]
    },
    {
     "cell_type": "heading",
     "level": 2,
     "metadata": {
      "slideshow": {
       "slide_type": "subslide"
      }
     },
     "source": [
      "<font color=\"#5791ED\">Disclaimer...</font> "
     ]
    },
    {
     "cell_type": "heading",
     "level": 4,
     "metadata": {
      "slideshow": {
       "slide_type": "subslide"
      }
     },
     "source": [
      "the following is a bit of an oversimplification..."
     ]
    },
    {
     "cell_type": "heading",
     "level": 3,
     "metadata": {
      "slideshow": {
       "slide_type": "subslide"
      }
     },
     "source": [
      "The GO terms of the <font color=\"#5791ED\">SwissProt/Pfam</font> entries that best match each of our proteins are used to generate a total score (<font color=\"#5791ED\">TS</font>) for each term in the GO hierarchy as they relate to our proteins"
     ]
    },
    {
     "cell_type": "heading",
     "level": 3,
     "metadata": {
      "slideshow": {
       "slide_type": "subslide"
      }
     },
     "source": [
      "The hierarchy is then pruned, leaving the \"best\" terms"
     ]
    },
    {
     "cell_type": "heading",
     "level": 3,
     "metadata": {
      "slideshow": {
       "slide_type": "subslide"
      }
     },
     "source": [
      "The Argot<sup>2</sup> developers suggest a TS threshold of around 200"
     ]
    },
    {
     "cell_type": "heading",
     "level": 3,
     "metadata": {
      "slideshow": {
       "slide_type": "subslide"
      }
     },
     "source": [
      "Argot<sup>2</sup> was the highest performer in a recent \"blinded\" review of functional annotation methods "
     ]
    },
    {
     "cell_type": "markdown",
     "metadata": {
      "slideshow": {
       "slide_type": "-"
      }
     },
     "source": [
      "<font color=\"#5791ED\">Radivojac *et al.* (2013). **A large-scale evaluation of computational protein function prediction**. Nature methods, 10(3), 221\u20137. \n",
      "\n",
      "doi:10.1038/nmeth.2340</font>"
     ]
    },
    {
     "cell_type": "heading",
     "level": 3,
     "metadata": {
      "slideshow": {
       "slide_type": "subslide"
      }
     },
     "source": [
      "<font color=\"#5791ED\">760</font> of 930 proteins where assigned at least one GO term with a TS of <font color=\"#5791ED\">at least 200</font>"
     ]
    },
    {
     "cell_type": "heading",
     "level": 3,
     "metadata": {
      "slideshow": {
       "slide_type": "subslide"
      }
     },
     "source": [
      "<font color=\"#5791ED\">452</font> of 930 proteins (about half) where assigned at least one GO term with a TS of <font color=\"#5791ED\">at least 2000</font>"
     ]
    },
    {
     "cell_type": "heading",
     "level": 1,
     "metadata": {
      "slideshow": {
       "slide_type": "slide"
      }
     },
     "source": [
      "<font color=\"#A86E12\">Grouping the 930 by mAP similarity</font>"
     ]
    },
    {
     "cell_type": "heading",
     "level": 3,
     "metadata": {
      "slideshow": {
       "slide_type": "subslide"
      }
     },
     "source": [
      "<a href=\"#/15/1\">Big picture</a>"
     ]
    },
    {
     "cell_type": "heading",
     "level": 3,
     "metadata": {
      "slideshow": {
       "slide_type": "subslide"
      }
     },
     "source": [
      "K-means clustering (<font color=\"#5791ED\">$k=23$</font>) was applied to the 310 genes from <font color=\"#5791ED\">*An. gambiae*</font>"
     ]
    },
    {
     "cell_type": "heading",
     "level": 3,
     "metadata": {
      "slideshow": {
       "slide_type": "subslide"
      }
     },
     "source": [
      "partition the 3-way, 1:1 ortholog sets based on mAP similarity."
     ]
    },
    {
     "cell_type": "heading",
     "level": 3,
     "metadata": {
      "slideshow": {
       "slide_type": "subslide"
      }
     },
     "source": [
      "approximately <a href=\"#/17/1\">equidistant evolutionary divergence</a> to both other species "
     ]
    },
    {
     "cell_type": "markdown",
     "metadata": {
      "slideshow": {
       "slide_type": "subslide"
      }
     },
     "source": [
      "<figure>\n",
      "<center>\n",
      "<img src=\"general_files/defense_talk/23clusters_ptci_0_95_orthodb7.svg\" width=\"900\" />\n",
      "<figcaption>*An. gambiae* clustered abundance profiles.</figcaption>\n",
      "</center>\n",
      "</figure>"
     ]
    },
    {
     "cell_type": "heading",
     "level": 3,
     "metadata": {
      "slideshow": {
       "slide_type": "subslide"
      }
     },
     "source": [
      "Clusters 4, 6, 16, and 22 were characterized further"
     ]
    },
    {
     "cell_type": "heading",
     "level": 3,
     "metadata": {
      "slideshow": {
       "slide_type": "subslide"
      }
     },
     "source": [
      "a prominent feature in each mAP is the dominant change in abundance from <font color=\"#5791ED\">0h</font> to <font color=\"#5791ED\">4h</font> post bloodmeal  (<font color=\"#5791ED\">PBM</font>)"
     ]
    },
    {
     "cell_type": "markdown",
     "metadata": {
      "slideshow": {
       "slide_type": "subslide"
      }
     },
     "source": [
      "<figure>\n",
      "<center>\n",
      "<img src=\"general_files/defense_talk/Ag_upAfter4_cls4_Ag_target_FPKMs_vb_orthos.svg\" width=\"600\" />\n",
      "<figcaption> Cluster 4 in *An. gambiae* (<font color=\"#5791ED\">up after 4</font>)</figcaption>\n",
      "</center>\n",
      "</figure>"
     ]
    },
    {
     "cell_type": "markdown",
     "metadata": {
      "slideshow": {
       "slide_type": "subslide"
      }
     },
     "source": [
      "<figure>\n",
      "<center>\n",
      "<img src=\"general_files/defense_talk/Ag_downAfter4_cls6_Ag_target_FPKMs_vb_orthos.svg\" width=\"600\" />\n",
      "<figcaption> Cluster 6 in *An. gambiae* (<font color=\"#5791ED\">down after 4</font>)</figcaption>\n",
      "</center>\n",
      "</figure>"
     ]
    },
    {
     "cell_type": "markdown",
     "metadata": {
      "slideshow": {
       "slide_type": "subslide"
      }
     },
     "source": [
      "<figure>\n",
      "<center>\n",
      "<img src=\"general_files/defense_talk/Aa_upAt4_cls22_Ag_target_FPKMs_vb_orthos.svg\" width=\"600\" />\n",
      "<figcaption> Cluster 22 in *An. gambiae* (<font color=\"#5791ED\">up at 4</font>)</figcaption>\n",
      "</center>\n",
      "</figure>"
     ]
    },
    {
     "cell_type": "markdown",
     "metadata": {
      "slideshow": {
       "slide_type": "subslide"
      }
     },
     "source": [
      "<figure>\n",
      "<center>\n",
      "<img src=\"general_files/defense_talk/Ag_downAt4_cls16_Ag_target_FPKMs_vb_orthos.svg\" width=\"600\" />\n",
      "<figcaption> Cluster 16 in *An. gambiae* (<font color=\"#5791ED\">down at 4</font>)</figcaption>\n",
      "</center>\n",
      "</figure>"
     ]
    },
    {
     "cell_type": "heading",
     "level": 1,
     "metadata": {
      "slideshow": {
       "slide_type": "slide"
      }
     },
     "source": [
      "<font color=\"#A86E12\">So how did it do?</font>"
     ]
    },
    {
     "cell_type": "heading",
     "level": 1,
     "metadata": {
      "slideshow": {
       "slide_type": "subslide"
      }
     },
     "source": [
      "Cluster 4: <font color=\"#5791ED\">up after 4</font>"
     ]
    },
    {
     "cell_type": "heading",
     "level": 3,
     "metadata": {
      "slideshow": {
       "slide_type": "subslide"
      }
     },
     "source": [
      "<font color=\"#5791ED\">rapid</font> and <font color=\"#5791ED\">sustained</font> increase in mRNA abundance putatively triggered by the <font color=\"#5791ED\">bloodfeeding stimulus</font>."
     ]
    },
    {
     "cell_type": "heading",
     "level": 1,
     "metadata": {
      "slideshow": {
       "slide_type": "subslide"
      }
     },
     "source": [
      "Expression profiles"
     ]
    },
    {
     "cell_type": "markdown",
     "metadata": {
      "slideshow": {
       "slide_type": "subslide"
      }
     },
     "source": [
      "<figure>\n",
      "<center>\n",
      "<img src=\"general_files/defense_talk/Ag_upAfter4_cls4_Ag_target_FPKMs_vb_orthos.svg\" width=\"600\" />\n",
      "<figcaption> Cluster 4 in *An. gambiae* (<font color=\"#5791ED\">up after 4</font>)</figcaption>\n",
      "</center>\n",
      "</figure>"
     ]
    },
    {
     "cell_type": "markdown",
     "metadata": {
      "slideshow": {
       "slide_type": "subslide"
      }
     },
     "source": [
      "<figure>\n",
      "<center>\n",
      "<img src=\"general_files/defense_talk/Aa_upAfter4_cls4_Ag_target_FPKMs_vb_orthos.svg\" width=\"600\" />\n",
      "<figcaption> Cluster 4 in *Ae. aegypti* (<font color=\"#5791ED\">up after 4</font>)</figcaption>\n",
      "</center>\n",
      "</figure>"
     ]
    },
    {
     "cell_type": "markdown",
     "metadata": {
      "slideshow": {
       "slide_type": "subslide"
      }
     },
     "source": [
      "<figure>\n",
      "<center>\n",
      "<img src=\"general_files/defense_talk/Cq_upAfter4_cls4_Ag_target_FPKMs_vb_orthos.svg\" width=\"600\" />\n",
      "<figcaption> Cluster 4 in *Cx. quinquefasciatus* (<font color=\"#5791ED\">up after 4</font>)</figcaption>\n",
      "</center>\n",
      "</figure>"
     ]
    },
    {
     "cell_type": "heading",
     "level": 1,
     "metadata": {
      "slideshow": {
       "slide_type": "slide"
      }
     },
     "source": [
      "<font color=\"#A86E12\">Functional annotations</font>"
     ]
    },
    {
     "cell_type": "heading",
     "level": 2,
     "metadata": {
      "slideshow": {
       "slide_type": "subslide"
      }
     },
     "source": [
      "Three main themes present in the Argot2 functional annotation"
     ]
    },
    {
     "cell_type": "heading",
     "level": 3,
     "metadata": {
      "slideshow": {
       "slide_type": "fragment"
      }
     },
     "source": [
      "translation"
     ]
    },
    {
     "cell_type": "heading",
     "level": 3,
     "metadata": {
      "slideshow": {
       "slide_type": "fragment"
      }
     },
     "source": [
      "secretory processes"
     ]
    },
    {
     "cell_type": "heading",
     "level": 3,
     "metadata": {
      "slideshow": {
       "slide_type": "fragment"
      }
     },
     "source": [
      "peptide metabolic activities"
     ]
    },
    {
     "cell_type": "heading",
     "level": 2,
     "metadata": {
      "slideshow": {
       "slide_type": "subslide"
      }
     },
     "source": [
      "Additional activities"
     ]
    },
    {
     "cell_type": "heading",
     "level": 3,
     "metadata": {
      "slideshow": {
       "slide_type": "fragment"
      }
     },
     "source": [
      "heme management"
     ]
    },
    {
     "cell_type": "heading",
     "level": 3,
     "metadata": {
      "slideshow": {
       "slide_type": "fragment"
      }
     },
     "source": [
      "midgut repair"
     ]
    },
    {
     "cell_type": "heading",
     "level": 1,
     "metadata": {
      "slideshow": {
       "slide_type": "slide"
      }
     },
     "source": [
      "<font color=\"#A86E12\">Translation</font>"
     ]
    },
    {
     "cell_type": "heading",
     "level": 3,
     "metadata": {
      "slideshow": {
       "slide_type": "subslide"
      }
     },
     "source": [
      "Directly related to translation:"
     ]
    },
    {
     "cell_type": "markdown",
     "metadata": {},
     "source": [
      "*parentheses indicate average TS value for that term in the cluster*"
     ]
    },
    {
     "cell_type": "heading",
     "level": 4,
     "metadata": {
      "slideshow": {
       "slide_type": "fragment"
      }
     },
     "source": [
      "SRP-dependent cotranslational protein targeting to membrane (13254.87)"
     ]
    },
    {
     "cell_type": "heading",
     "level": 4,
     "metadata": {
      "slideshow": {
       "slide_type": "fragment"
      }
     },
     "source": [
      "regulation of translational initiation (4594.46)"
     ]
    },
    {
     "cell_type": "heading",
     "level": 4,
     "metadata": {
      "slideshow": {
       "slide_type": "fragment"
      }
     },
     "source": [
      "formation of translation preinitiation complex (4524.89)"
     ]
    },
    {
     "cell_type": "heading",
     "level": 4,
     "metadata": {
      "slideshow": {
       "slide_type": "fragment"
      }
     },
     "source": [
      "translational initiation (4288.82)"
     ]
    },
    {
     "cell_type": "heading",
     "level": 4,
     "metadata": {
      "slideshow": {
       "slide_type": "fragment"
      }
     },
     "source": [
      "translation initiation factor activity (18796.17)"
     ]
    },
    {
     "cell_type": "heading",
     "level": 4,
     "metadata": {
      "slideshow": {
       "slide_type": "fragment"
      }
     },
     "source": [
      "translation (3777.61)"
     ]
    },
    {
     "cell_type": "heading",
     "level": 3,
     "metadata": {
      "slideshow": {
       "slide_type": "subslide"
      }
     },
     "source": [
      "Terms indicative of  translation:"
     ]
    },
    {
     "cell_type": "heading",
     "level": 4,
     "metadata": {
      "slideshow": {
       "slide_type": "fragment"
      }
     },
     "source": [
      "proteasome assembly (3326.44)"
     ]
    },
    {
     "cell_type": "heading",
     "level": 4,
     "metadata": {
      "slideshow": {
       "slide_type": "fragment"
      }
     },
     "source": [
      "ubiquitin-dependent protein catabolic process (1963.42)"
     ]
    },
    {
     "cell_type": "heading",
     "level": 4,
     "metadata": {
      "slideshow": {
       "slide_type": "fragment"
      }
     },
     "source": [
      "protein ubiquitination (1073.12)"
     ]
    },
    {
     "cell_type": "heading",
     "level": 4,
     "metadata": {
      "slideshow": {
       "slide_type": "fragment"
      }
     },
     "source": [
      "RNA binding (2799.62)"
     ]
    },
    {
     "cell_type": "heading",
     "level": 4,
     "metadata": {
      "slideshow": {
       "slide_type": "fragment"
      }
     },
     "source": [
      "transaminase activity (1686.97)"
     ]
    },
    {
     "cell_type": "heading",
     "level": 4,
     "metadata": {
      "slideshow": {
       "slide_type": "fragment"
      }
     },
     "source": [
      "transferase activity (319.82)"
     ]
    },
    {
     "cell_type": "heading",
     "level": 2,
     "metadata": {
      "slideshow": {
       "slide_type": "slide"
      }
     },
     "source": [
      "does this make sense?"
     ]
    },
    {
     "cell_type": "heading",
     "level": 1,
     "metadata": {
      "slideshow": {
       "slide_type": "slide"
      }
     },
     "source": [
      "<font color=\"#A86E12\">Secretory processes</font>"
     ]
    },
    {
     "cell_type": "markdown",
     "metadata": {},
     "source": [
      "<font color=\"#A86E12\">*(anterograde and retrograde)*</font>"
     ]
    },
    {
     "cell_type": "heading",
     "level": 4,
     "metadata": {
      "slideshow": {
       "slide_type": "fragment"
      }
     },
     "source": [
      "Golgi organization (7289.78)"
     ]
    },
    {
     "cell_type": "heading",
     "level": 4,
     "metadata": {
      "slideshow": {
       "slide_type": "fragment"
      }
     },
     "source": [
      "ER to Golgi vesicle-mediated transport (5914.05)"
     ]
    },
    {
     "cell_type": "heading",
     "level": 4,
     "metadata": {
      "slideshow": {
       "slide_type": "fragment"
      }
     },
     "source": [
      "retrograde vesicle-mediated transport, Golgi to ER (2202.55)"
     ]
    },
    {
     "cell_type": "heading",
     "level": 4,
     "metadata": {
      "slideshow": {
       "slide_type": "fragment"
      }
     },
     "source": [
      "vesicle fusion with Golgi apparatus (2141.47)"
     ]
    },
    {
     "cell_type": "heading",
     "level": 4,
     "metadata": {
      "slideshow": {
       "slide_type": "fragment"
      }
     },
     "source": [
      "signal recognition particle binding (9157.88)"
     ]
    },
    {
     "cell_type": "heading",
     "level": 4,
     "metadata": {
      "slideshow": {
       "slide_type": "fragment"
      }
     },
     "source": [
      "endoplasmic reticulum signal peptide binding (7943.20)"
     ]
    },
    {
     "cell_type": "heading",
     "level": 2,
     "metadata": {
      "slideshow": {
       "slide_type": "slide"
      }
     },
     "source": [
      "does this make sense?"
     ]
    },
    {
     "cell_type": "heading",
     "level": 1,
     "metadata": {
      "slideshow": {
       "slide_type": "slide"
      }
     },
     "source": [
      "<font color=\"#A86E12\">Peptide metabolic activities</font>"
     ]
    },
    {
     "cell_type": "heading",
     "level": 4,
     "metadata": {
      "slideshow": {
       "slide_type": "fragment"
      }
     },
     "source": [
      "proteolysis (2453.58)"
     ]
    },
    {
     "cell_type": "heading",
     "level": 4,
     "metadata": {
      "slideshow": {
       "slide_type": "fragment"
      }
     },
     "source": [
      "proteolysis involved in cellular protein catabolic process (1972.16)"
     ]
    },
    {
     "cell_type": "heading",
     "level": 4,
     "metadata": {
      "slideshow": {
       "slide_type": "fragment"
      }
     },
     "source": [
      "L-lysine catabolic process (417.84)"
     ]
    },
    {
     "cell_type": "heading",
     "level": 4,
     "metadata": {
      "slideshow": {
       "slide_type": "fragment"
      }
     },
     "source": [
      "lysine catabolic process (414.33)"
     ]
    },
    {
     "cell_type": "heading",
     "level": 4,
     "metadata": {
      "slideshow": {
       "slide_type": "fragment"
      }
     },
     "source": [
      "L-cysteine catabolic process (378.10)"
     ]
    },
    {
     "cell_type": "heading",
     "level": 4,
     "metadata": {
      "slideshow": {
       "slide_type": "fragment"
      }
     },
     "source": [
      "threonine-type endopeptidase activity (1842.63)"
     ]
    },
    {
     "cell_type": "heading",
     "level": 4,
     "metadata": {
      "slideshow": {
       "slide_type": "fragment"
      }
     },
     "source": [
      "aminopeptidase activity (1592.00)"
     ]
    },
    {
     "cell_type": "heading",
     "level": 4,
     "metadata": {
      "slideshow": {
       "slide_type": "fragment"
      }
     },
     "source": [
      "endopeptidase activity (1546.38)"
     ]
    },
    {
     "cell_type": "heading",
     "level": 4,
     "metadata": {
      "slideshow": {
       "slide_type": "slide"
      }
     },
     "source": [
      "peptidase activity (792.59)"
     ]
    },
    {
     "cell_type": "heading",
     "level": 2,
     "metadata": {
      "slideshow": {
       "slide_type": "slide"
      }
     },
     "source": [
      "does this make sense?"
     ]
    },
    {
     "cell_type": "heading",
     "level": 1,
     "metadata": {
      "slideshow": {
       "slide_type": "slide"
      }
     },
     "source": [
      "<font color=\"#A86E12\">Future Work</font>"
     ]
    },
    {
     "cell_type": "heading",
     "level": 2,
     "metadata": {
      "slideshow": {
       "slide_type": "slide"
      }
     },
     "source": [
      "Perform CRE/CRM discovery"
     ]
    },
    {
     "cell_type": "heading",
     "level": 2,
     "metadata": {
      "slideshow": {
       "slide_type": "slide"
      }
     },
     "source": [
      "Add *An. stephensi* to the analysis"
     ]
    },
    {
     "cell_type": "heading",
     "level": 2,
     "metadata": {
      "slideshow": {
       "slide_type": "slide"
      }
     },
     "source": [
      "Explore other methods for clustering"
     ]
    },
    {
     "cell_type": "heading",
     "level": 2,
     "metadata": {
      "slideshow": {
       "slide_type": "slide"
      }
     },
     "source": [
      "Once a set of CREs is discovered, create targeted disruptions to validate the process experimentally."
     ]
    },
    {
     "cell_type": "heading",
     "level": 1,
     "metadata": {
      "slideshow": {
       "slide_type": "slide"
      }
     },
     "source": [
      "Thank you."
     ]
    }
   ],
   "metadata": {}
  }
 ]
}