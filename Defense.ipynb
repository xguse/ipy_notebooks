{
 "metadata": {
  "celltoolbar": "Slideshow",
  "name": "",
  "signature": "sha256:1f6564e16fd4b46ce693bc8b43d9db32c0d668b282ede10f72609a05a545b02e"
 },
 "nbformat": 3,
 "nbformat_minor": 0,
 "worksheets": [
  {
   "cells": [
    {
     "cell_type": "markdown",
     "metadata": {
      "slideshow": {
       "slide_type": "slide"
      }
     },
     "source": [
      "# Awesome Title\n",
      "## By Augustine Dunn"
     ]
    },
    {
     "cell_type": "markdown",
     "metadata": {
      "slideshow": {
       "slide_type": "subslide"
      }
     },
     "source": [
      "## Committee:\n",
      "### Anthony James (chair)\n",
      "### Xiaohui Xie\n",
      "### Donald Senear"
     ]
    },
    {
     "cell_type": "markdown",
     "metadata": {
      "slideshow": {
       "slide_type": "subslide"
      }
     },
     "source": [
      "## Acknowldgements"
     ]
    },
    {
     "cell_type": "markdown",
     "metadata": {
      "slideshow": {
       "slide_type": "fragment"
      }
     },
     "source": [
      "- Great "
     ]
    },
    {
     "cell_type": "markdown",
     "metadata": {
      "slideshow": {
       "slide_type": "fragment"
      }
     },
     "source": [
      "- People "
     ]
    },
    {
     "cell_type": "markdown",
     "metadata": {
      "slideshow": {
       "slide_type": "fragment"
      }
     },
     "source": [
      "- Everywhere "
     ]
    },
    {
     "cell_type": "markdown",
     "metadata": {
      "slideshow": {
       "slide_type": "slide"
      }
     },
     "source": [
      "## Showing a linked figure"
     ]
    },
    {
     "cell_type": "markdown",
     "metadata": {},
     "source": [
      "<figure>\n",
      "<center>\n",
      "<img src=\"files/general_files/Ag_Aa_Cq_3way_PTCI.png\" width=\"300\" />\n",
      "<figcaption>Australian Birds. From left to right, Kookburra, Pelican and Rainbow Lorikeet. Originals by <a href=\"http://www.flickr.com/photos/rclark/\">Richard Clark</a></figcaption>\n",
      "</center>\n",
      "</figure>"
     ]
    },
    {
     "cell_type": "markdown",
     "metadata": {
      "slideshow": {
       "slide_type": "slide"
      }
     },
     "source": [
      "# Elements of transgenic vector mosquito control\n",
      "\n",
      "There are four fundamental elements needed for a successful transgenic vector control product\n",
      "\n",
      "1. genomic introduction of heritible traits\n",
      "2. development of effective anti-pathogen gene construct\n",
      "3. genetic control of spaciotemporal expression pattern of gene construct \n",
      "4. strategy to bring gene construct to near-fixation frequencies in native populations"
     ]
    },
    {
     "cell_type": "markdown",
     "metadata": {
      "slideshow": {
       "slide_type": "fragment"
      }
     },
     "source": [
      "### My work will improve our ability to evaluate and design the control of spaciotemporal expression patterns of gene constructs"
     ]
    },
    {
     "cell_type": "markdown",
     "metadata": {
      "slideshow": {
       "slide_type": "notes"
      }
     },
     "source": [
      "How much depth should i take the 4 elements in this talk?"
     ]
    },
    {
     "cell_type": "markdown",
     "metadata": {
      "slideshow": {
       "slide_type": "slide"
      }
     },
     "source": [
      "# Genetic control of expression patterns"
     ]
    },
    {
     "cell_type": "markdown",
     "metadata": {
      "slideshow": {
       "slide_type": "subslide"
      }
     },
     "source": [
      "## How does the genome determine gene expression patterns? \n",
      "Through ***cis*-regulatory elements** working together as ***cis*-regulatory modules**"
     ]
    },
    {
     "cell_type": "markdown",
     "metadata": {
      "slideshow": {
       "slide_type": "subslide"
      }
     },
     "source": [
      "## **CREs** and **CRMs**"
     ]
    },
    {
     "cell_type": "markdown",
     "metadata": {
      "slideshow": {
       "slide_type": "subslide"
      }
     },
     "source": [
      "## How does it work?"
     ]
    },
    {
     "cell_type": "markdown",
     "metadata": {},
     "source": [
      "<figure>\n",
      "<center>\n",
      "<img src=\"general_files/CREandCRM.png\" width=\"900\" />\n",
      "<figcaption>Elements of  transcriptional regulation: **CREs** and **CRMs**</figcaption>\n",
      "</center>\n",
      "</figure>"
     ]
    },
    {
     "cell_type": "markdown",
     "metadata": {
      "slideshow": {
       "slide_type": "notes"
      }
     },
     "source": [
      "* CREs made up of individual regions of DNA sequence conforming to a TFBS PWM illustrated by the colored boxes in **-A-**\n",
      "    - the TFBS PWM denoted by the LOGO\n",
      "* A CRM is constructed of binding sites for multiple cooperative TFs that interact to define the conditions required for expression or repression for the gene(s) under its influence\n",
      "* **-A-** denotes only the sequence binding sites while **-B-** adds the TFs and other cooperative elements"
     ]
    },
    {
     "cell_type": "markdown",
     "metadata": {
      "slideshow": {
       "slide_type": "subslide"
      }
     },
     "source": [
      "## Standard methods for characterizing CRE and CRM activity by experimentation are impractical in most mosquito systems"
     ]
    },
    {
     "cell_type": "markdown",
     "metadata": {},
     "source": [
      "* promoter bashing methods"
     ]
    }
   ],
   "metadata": {}
  }
 ]
}