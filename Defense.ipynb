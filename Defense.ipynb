{
 "metadata": {
  "celltoolbar": "Slideshow",
  "name": "",
  "signature": "sha256:b850a1f2fc869ab66e92faf8718e4280e11a402a8f1d926631d080c9ceef2170"
 },
 "nbformat": 3,
 "nbformat_minor": 0,
 "worksheets": [
  {
   "cells": [
    {
     "cell_type": "code",
     "collapsed": false,
     "input": [
      "from IPython.display import HTML"
     ],
     "language": "python",
     "metadata": {
      "slideshow": {
       "slide_type": "skip"
      }
     },
     "outputs": [],
     "prompt_number": 1
    },
    {
     "cell_type": "heading",
     "level": 1,
     "metadata": {
      "slideshow": {
       "slide_type": "slide"
      }
     },
     "source": [
      "<font color=\"#A86E12\">Awesome Title</font>"
     ]
    },
    {
     "cell_type": "heading",
     "level": 3,
     "metadata": {},
     "source": [
      "By Augustine Dunn"
     ]
    },
    {
     "cell_type": "heading",
     "level": 1,
     "metadata": {
      "slideshow": {
       "slide_type": "subslide"
      }
     },
     "source": [
      "Committee:"
     ]
    },
    {
     "cell_type": "markdown",
     "metadata": {},
     "source": [
      "Anthony James (chair)\n",
      "\n",
      "Xiaohui Xie\n",
      "\n",
      "Donald Senear"
     ]
    },
    {
     "cell_type": "markdown",
     "metadata": {
      "slideshow": {
       "slide_type": "subslide"
      }
     },
     "source": [
      "## Acknowldgements"
     ]
    },
    {
     "cell_type": "markdown",
     "metadata": {
      "slideshow": {
       "slide_type": "fragment"
      }
     },
     "source": [
      "- Great "
     ]
    },
    {
     "cell_type": "markdown",
     "metadata": {
      "slideshow": {
       "slide_type": "fragment"
      }
     },
     "source": [
      "- People "
     ]
    },
    {
     "cell_type": "markdown",
     "metadata": {
      "slideshow": {
       "slide_type": "fragment"
      }
     },
     "source": [
      "- Everywhere "
     ]
    },
    {
     "cell_type": "heading",
     "level": 1,
     "metadata": {
      "slideshow": {
       "slide_type": "slide"
      }
     },
     "source": [
      "<font color=\"#A86E12\">The ultimate goal:</font>"
     ]
    },
    {
     "cell_type": "heading",
     "level": 3,
     "metadata": {
      "slideshow": {
       "slide_type": "subslide"
      }
     },
     "source": [
      "reduce <font color=\"#5791ED\">morbidity</font> and <font color=\"#5791ED\">mortality</font> of mosquito borne tropical diseases..."
     ]
    },
    {
     "cell_type": "heading",
     "level": 3,
     "metadata": {
      "slideshow": {
       "slide_type": "subslide"
      }
     },
     "source": [
      "dengue fever"
     ]
    },
    {
     "cell_type": "heading",
     "level": 3,
     "metadata": {
      "slideshow": {
       "slide_type": "subslide"
      }
     },
     "source": [
      "malaria"
     ]
    },
    {
     "cell_type": "heading",
     "level": 1,
     "metadata": {
      "slideshow": {
       "slide_type": "slide"
      }
     },
     "source": [
      "a <font color=\"#5791ED\">better</font> mosquito."
     ]
    },
    {
     "cell_type": "heading",
     "level": 1,
     "metadata": {
      "slideshow": {
       "slide_type": "slide"
      }
     },
     "source": [
      "<font color=\"#A86E12\">Why the insects rather than the people?</font>"
     ]
    },
    {
     "cell_type": "heading",
     "level": 1,
     "metadata": {
      "slideshow": {
       "slide_type": "subslide"
      }
     },
     "source": [
      "1. Effective medical interventions to dengue and malaria either do not exist or are not yet suited for use in the isolated/impoverished areas most affected."
     ]
    },
    {
     "cell_type": "heading",
     "level": 1,
     "metadata": {
      "slideshow": {
       "slide_type": "subslide"
      }
     },
     "source": [
      "Many serotypes of dengue virus exist (DENV1 - DENV5)."
     ]
    },
    {
     "cell_type": "markdown",
     "metadata": {
      "slideshow": {
       "slide_type": "-"
      }
     },
     "source": [
      "<figure>\n",
      "<center>\n",
      "<img src=\"general_files/denv_1_to_4.png\" width=\"580\" />\n",
      "</center>\n",
      "</figure>"
     ]
    },
    {
     "cell_type": "heading",
     "level": 3,
     "metadata": {
      "slideshow": {
       "slide_type": "subslide"
      }
     },
     "source": [
      "Antibodies that completely protect against one serotype actually increase the <font color=\"#5791ED\">risk of serious disease</font> when in the presence of another serotype in the same patient."
     ]
    },
    {
     "cell_type": "heading",
     "level": 3,
     "metadata": {
      "slideshow": {
       "slide_type": "subslide"
      }
     },
     "source": [
      "Vaccines must <font color=\"#5791ED\">simultaneously</font> protect against <font color=\"#5791ED\"><u>**all**</u></font> serotypes or risk harming the patient."
     ]
    },
    {
     "cell_type": "heading",
     "level": 1,
     "metadata": {
      "slideshow": {
       "slide_type": "subslide"
      }
     },
     "source": [
      "2. Dengue fever and malaria require a mosquito to infect humans."
     ]
    },
    {
     "cell_type": "markdown",
     "metadata": {
      "slideshow": {
       "slide_type": "subslide"
      }
     },
     "source": [
      "<figure>\n",
      "<center>\n",
      "<img src=\"general_files/prime_geog_vectors_of_d_and_m.png\" width=\"600\" />\n",
      "<figcaption>Primary geographic vectors of dengue fever and malaria.</figcaption>\n",
      "</center>\n",
      "</figure>"
     ]
    },
    {
     "cell_type": "markdown",
     "metadata": {},
     "source": []
    },
    {
     "cell_type": "heading",
     "level": 3,
     "metadata": {
      "slideshow": {
       "slide_type": "fragment"
      }
     },
     "source": [
      "Mosquitoes have been called the <font color=\"#5791ED\">deadliest</font> animals on Earth."
     ]
    },
    {
     "cell_type": "heading",
     "level": 1,
     "metadata": {
      "slideshow": {
       "slide_type": "subslide"
      }
     },
     "source": [
      "Diseases"
     ]
    },
    {
     "cell_type": "markdown",
     "metadata": {
      "slideshow": {
       "slide_type": "fragment"
      }
     },
     "source": [
      "transmitted through the act of feeding on our <font color=\"#5791ED\">blood</font>"
     ]
    },
    {
     "cell_type": "heading",
     "level": 1,
     "metadata": {
      "slideshow": {
       "slide_type": "subslide"
      }
     },
     "source": [
      "Hematophagy"
     ]
    },
    {
     "cell_type": "heading",
     "level": 4,
     "metadata": {
      "slideshow": {
       "slide_type": "fragment"
      }
     },
     "source": [
      "a fancy name for feeding on blood"
     ]
    },
    {
     "cell_type": "heading",
     "level": 4,
     "metadata": {
      "slideshow": {
       "slide_type": "fragment"
      }
     },
     "source": [
      "a trait hypothesized to be ancestral to the mosquito clade"
     ]
    },
    {
     "cell_type": "heading",
     "level": 1,
     "metadata": {
      "slideshow": {
       "slide_type": "slide"
      }
     },
     "source": [
      "<font color=\"#A86E12\">A typical transmission cycle</font>"
     ]
    },
    {
     "cell_type": "markdown",
     "metadata": {
      "slideshow": {
       "slide_type": "fragment"
      }
     },
     "source": [
      "### 1. A female mosquito bites an infected person."
     ]
    },
    {
     "cell_type": "markdown",
     "metadata": {
      "slideshow": {
       "slide_type": "fragment"
      }
     },
     "source": [
      "### 2. The pathogen is taken into the <font color=\"#5791ED\">midgut</font> along with the bloodmeal."
     ]
    },
    {
     "cell_type": "markdown",
     "metadata": {
      "slideshow": {
       "slide_type": "fragment"
      }
     },
     "source": [
      "### 3. The pathogen must escape the <font color=\"#5791ED\">midgut</font> to gain access to the hemolymph."
     ]
    },
    {
     "cell_type": "markdown",
     "metadata": {
      "slideshow": {
       "slide_type": "fragment"
      }
     },
     "source": [
      "### 4. The pathogen must gain access to the <font color=\"#5791ED\">salivary glands</font>."
     ]
    },
    {
     "cell_type": "markdown",
     "metadata": {
      "slideshow": {
       "slide_type": "fragment"
      }
     },
     "source": [
      "### 5. Infectious mosquito bites an uninfected person and the pathogen in transfered in her saliva."
     ]
    },
    {
     "cell_type": "markdown",
     "metadata": {
      "slideshow": {
       "slide_type": "subslide"
      }
     },
     "source": [
      "<figure>\n",
      "<center>\n",
      "<img src=\"general_files/mosqXsection.png\" width=\"900\" />\n",
      "<figcaption>**Cross section of a female mosquito with tissues important to the transmission cycle highlighted.**</figcaption>\n",
      "</center>\n",
      "</figure>"
     ]
    },
    {
     "cell_type": "heading",
     "level": 1,
     "metadata": {
      "slideshow": {
       "slide_type": "slide"
      }
     },
     "source": [
      "<font color=\"#A86E12\">Strategic \"weak\" points</font>"
     ]
    },
    {
     "cell_type": "markdown",
     "metadata": {
      "slideshow": {
       "slide_type": "fragment"
      }
     },
     "source": [
      "### 1. If the pathogen is unable to escape the <font color=\"#5791ED\">midgut</font>, the insect remains essentially uninfected."
     ]
    },
    {
     "cell_type": "markdown",
     "metadata": {
      "slideshow": {
       "slide_type": "fragment"
      }
     },
     "source": [
      "### 2. If the pathogen is unable to access the <font color=\"#5791ED\">salivary glands</font>, the insect in unable to transmit the pathogen to another human."
     ]
    },
    {
     "cell_type": "markdown",
     "metadata": {
      "slideshow": {
       "slide_type": "notes"
      }
     },
     "source": [
      "1. Dengue will infect the lining of the midgut but eventually be cleared by the mosquito's anti-sense RNA machinery"
     ]
    },
    {
     "cell_type": "heading",
     "level": 1,
     "metadata": {
      "slideshow": {
       "slide_type": "subslide"
      }
     },
     "source": [
      "These weak points present <font color=\"#5791ED\">targets</font> for designing transgenic mosquitoes that are able to block the pathogen from reachign the next human host."
     ]
    },
    {
     "cell_type": "heading",
     "level": 1,
     "metadata": {
      "slideshow": {
       "slide_type": "slide"
      }
     },
     "source": [
      "<font color=\"#A86E12\">How does one design a transgenic mosquito to do this?</font>"
     ]
    },
    {
     "cell_type": "heading",
     "level": 1,
     "metadata": {
      "slideshow": {
       "slide_type": "subslide"
      }
     },
     "source": [
      "Elements of transgenic vector mosquito control"
     ]
    },
    {
     "cell_type": "markdown",
     "metadata": {
      "slideshow": {
       "slide_type": "fragment"
      }
     },
     "source": [
      "There are four fundamental elements needed for a successful transgenic vector control product\n",
      "\n",
      "1. genomic introduction of <font color=\"#5791ED\">heritible traits</font>\n",
      "2. development of effective <font color=\"#5791ED\">anti-pathogen gene construct</font>\n",
      "3. genetic <font color=\"#5791ED\">control of expression pattern</font> of gene construct \n",
      "4. strategy to bring gene construct to <font color=\"#5791ED\">near-fixation frequencies</font> in native populations"
     ]
    },
    {
     "cell_type": "heading",
     "level": 3,
     "metadata": {
      "slideshow": {
       "slide_type": "fragment"
      }
     },
     "source": [
      "<font color=\"#A86E12\">My work will improve our ability to evaluate and design the control of spaciotemporal expression patterns of gene constructs.</font>"
     ]
    },
    {
     "cell_type": "markdown",
     "metadata": {
      "slideshow": {
       "slide_type": "notes"
      }
     },
     "source": [
      "How much depth should i take the 4 elements in this talk?"
     ]
    },
    {
     "cell_type": "heading",
     "level": 1,
     "metadata": {
      "slideshow": {
       "slide_type": "subslide"
      }
     },
     "source": [
      "Genetic control of expression patterns"
     ]
    },
    {
     "cell_type": "markdown",
     "metadata": {
      "slideshow": {
       "slide_type": "subslide"
      }
     },
     "source": [
      "## How does the genome determine gene expression patterns? "
     ]
    },
    {
     "cell_type": "markdown",
     "metadata": {
      "slideshow": {
       "slide_type": "fragment"
      }
     },
     "source": [
      "Through **<font color=\"#5791ED\">*cis*-regulatory elements</font>** working together as **<font color=\"#5791ED\">*cis*-regulatory modules</font>**"
     ]
    },
    {
     "cell_type": "markdown",
     "metadata": {
      "slideshow": {
       "slide_type": "subslide"
      }
     },
     "source": [
      "## <font color=\"#5791ED\">**CREs**</font> and <font color=\"#5791ED\">**CRMs**</font>"
     ]
    },
    {
     "cell_type": "markdown",
     "metadata": {
      "slideshow": {
       "slide_type": "subslide"
      }
     },
     "source": [
      "## How does this work?"
     ]
    },
    {
     "cell_type": "markdown",
     "metadata": {},
     "source": [
      "<figure>\n",
      "<center>\n",
      "<img src=\"general_files/CREandCRM.png\" width=\"1100\" />\n",
      "<figcaption>Elements of  transcriptional regulation: **CREs** and **CRMs**</figcaption>\n",
      "</center>\n",
      "</figure>"
     ]
    },
    {
     "cell_type": "markdown",
     "metadata": {
      "slideshow": {
       "slide_type": "notes"
      }
     },
     "source": [
      "* CREs made up of individual regions of DNA sequence conforming to a TFBS PWM illustrated by the colored boxes in **-A-**\n",
      "    - the TFBS PWM denoted by the LOGO\n",
      "* A CRM is constructed of binding sites for multiple cooperative TFs that interact to define the conditions required for expression or repression for the gene(s) under its influence\n",
      "* **-A-** denotes only the sequence binding sites while **-B-** adds the TFs and other cooperative elements"
     ]
    },
    {
     "cell_type": "markdown",
     "metadata": {
      "slideshow": {
       "slide_type": "subslide"
      }
     },
     "source": [
      "## Typical method for characterizing CRE and CRM activity by experimentation: <font color=\"#5791ED\">promoter bashing</font>."
     ]
    },
    {
     "cell_type": "heading",
     "level": 1,
     "metadata": {
      "slideshow": {
       "slide_type": "subslide"
      }
     },
     "source": [
      "<font color=\"#A86E12\">Promoter bashing</font>"
     ]
    },
    {
     "cell_type": "markdown",
     "metadata": {
      "slideshow": {
       "slide_type": "subslide"
      }
     },
     "source": [
      "<figure>\n",
      "<center>\n",
      "<img src=\"general_files/Promoter_bashing.svg\" width=\"500\" />\n",
      "<figcaption>An illustration of promoter bashing. <a href=\"http://en.wikipedia.org/wiki/File:Promoter_bashing.svg\">RC Howe</a>\n",
      "</figcaption>\n",
      "</center>\n",
      "</figure>\n",
      "\n"
     ]
    },
    {
     "cell_type": "markdown",
     "metadata": {
      "slideshow": {
       "slide_type": "subslide"
      }
     },
     "source": [
      "## Promoter bashing is <font color=\"#5791ED\">impractical</font> in most mosquito systems."
     ]
    },
    {
     "cell_type": "markdown",
     "metadata": {
      "slideshow": {
       "slide_type": "fragment"
      }
     },
     "source": [
      "* Generating a single transgenic line with genomic integrations takes <font color=\"#5791ED\">months</font> and is very <font color=\"#5791ED\">labor intensive</font>."
     ]
    },
    {
     "cell_type": "markdown",
     "metadata": {
      "slideshow": {
       "slide_type": "fragment"
      }
     },
     "source": [
      "* <font color=\"#5791ED\">Promoter bashing</font> methods require the ability to place altered versions of a promoter in the same genomic context or location to accurately interpret the results."
     ]
    },
    {
     "cell_type": "heading",
     "level": 3,
     "metadata": {
      "slideshow": {
       "slide_type": "fragment"
      }
     },
     "source": [
      "Without a way to predict which CREs/CRMs may be important in a promoter region intended for use in controlling a transgene, each candidate promoter remains a <font color=\"#5791ED\">black box</font>."
     ]
    },
    {
     "cell_type": "heading",
     "level": 1,
     "metadata": {
      "slideshow": {
       "slide_type": "subslide"
      }
     },
     "source": [
      "Black boxes are <font color=\"#5791ED\">fine</font>..."
     ]
    },
    {
     "cell_type": "heading",
     "level": 3,
     "metadata": {
      "slideshow": {
       "slide_type": "fragment"
      }
     },
     "source": [
      "as long as they work <font color=\"#5791ED\">perfectly</font>"
     ]
    },
    {
     "cell_type": "heading",
     "level": 3,
     "metadata": {
      "slideshow": {
       "slide_type": "fragment"
      }
     },
     "source": [
      "the <font color=\"#5791ED\">first time</font>."
     ]
    },
    {
     "cell_type": "heading",
     "level": 1,
     "metadata": {
      "slideshow": {
       "slide_type": "subslide"
      }
     },
     "source": [
      "What if it works <font color=\"#5791ED\">80%</font> as well as needed?"
     ]
    },
    {
     "cell_type": "heading",
     "level": 3,
     "metadata": {
      "slideshow": {
       "slide_type": "subslide"
      }
     },
     "source": [
      "With no idea of what to adjust, the promoter is abandoned and the process <font color=\"#5791ED\">starts all over</font>."
     ]
    },
    {
     "cell_type": "heading",
     "level": 1,
     "metadata": {
      "slideshow": {
       "slide_type": "slide"
      }
     },
     "source": [
      "<font color=\"#A86E12\">There must be another way to predict the important CREs and CRMs of promoters in non-model systems...</font>"
     ]
    },
    {
     "cell_type": "heading",
     "level": 3,
     "metadata": {
      "slideshow": {
       "slide_type": "subslide"
      }
     },
     "source": [
      "<font color=\"red\">!!</font> Bioinformatics (gene expression of MANY promoters at once rather than one at a time )"
     ]
    },
    {
     "cell_type": "heading",
     "level": 3,
     "metadata": {
      "slideshow": {
       "slide_type": "subslide"
      }
     },
     "source": [
      "<font color=\"red\">!!</font>  Reduce noise by focusing on genes with more reason to be associated than just similar expression profiles"
     ]
    },
    {
     "cell_type": "heading",
     "level": 1,
     "metadata": {
      "slideshow": {
       "slide_type": "slide"
      }
     },
     "source": [
      "<font color=\"#A86E12\">Approach</font>"
     ]
    },
    {
     "cell_type": "heading",
     "level": 2,
     "metadata": {
      "slideshow": {
       "slide_type": "subslide"
      }
     },
     "source": [
      "<font color=\"#A86E12\">Goal:</font> Establish a <font color=\"#5791ED\">method for grouping promoters</font> to aid computational CRE/CRM discovery."
     ]
    },
    {
     "cell_type": "heading",
     "level": 3,
     "metadata": {
      "slideshow": {
       "slide_type": "fragment"
      }
     },
     "source": [
      "In other words: form groupings containing as few \"incorrect\" members as possible."
     ]
    },
    {
     "cell_type": "heading",
     "level": 1,
     "metadata": {
      "slideshow": {
       "slide_type": "subslide"
      }
     },
     "source": [
      "What can be done to limit noise in the analysis?"
     ]
    },
    {
     "cell_type": "markdown",
     "metadata": {
      "slideshow": {
       "slide_type": "fragment"
      }
     },
     "source": [
      "- Focus on expression profiles related to bloodfeeding in one tissue <font color=\"#5791ED\">[midgut]</font>"
     ]
    },
    {
     "cell_type": "markdown",
     "metadata": {
      "slideshow": {
       "slide_type": "fragment"
      }
     },
     "source": [
      "- Take advantage of the hypothesized <font color=\"#5791ED\">shared ancestry</font> of hematophagy"
     ]
    },
    {
     "cell_type": "markdown",
     "metadata": {
      "slideshow": {
       "slide_type": "fragment"
      }
     },
     "source": [
      "- Compare promoter sequences for similarities of the presence of motifs that fit models of <font color=\"#5791ED\">previously decribed CREs</font>"
     ]
    },
    {
     "cell_type": "markdown",
     "metadata": {
      "slideshow": {
       "slide_type": "fragment"
      }
     },
     "source": [
      "- Compare promoter sequences for similarities of <font color=\"#5791ED\">predicted functional overlap</font>"
     ]
    },
    {
     "cell_type": "heading",
     "level": 2,
     "metadata": {
      "slideshow": {
       "slide_type": "subslide"
      }
     },
     "source": [
      "How to evaluate the resulting groupings..."
     ]
    },
    {
     "cell_type": "heading",
     "level": 3,
     "metadata": {
      "slideshow": {
       "slide_type": "subslide"
      }
     },
     "source": [
      "Withold analysis of <font color=\"#5791ED\">predicted functional overlap</font> until the groupings have been formed."
     ]
    },
    {
     "cell_type": "heading",
     "level": 1,
     "metadata": {
      "slideshow": {
       "slide_type": "slide"
      }
     },
     "source": [
      "<font color=\"#A86E12\">Experimental set up</font>"
     ]
    },
    {
     "cell_type": "heading",
     "level": 2,
     "metadata": {
      "slideshow": {
       "slide_type": "subslide"
      }
     },
     "source": [
      "RNA-seq to assay mRNA abundance profiles (<font color=\"#5791ED\">mAP</font>)"
     ]
    },
    {
     "cell_type": "markdown",
     "metadata": {
      "slideshow": {
       "slide_type": "subslide"
      }
     },
     "source": [
      "<figure>\n",
      "<center>\n",
      "<img src=\"general_files/RNAseqFlow_v3.svg\" width=\"800\" />\n",
      "<figcaption>Transcriptomics Flow</figcaption>\n",
      "</center>\n",
      "</figure>"
     ]
    },
    {
     "cell_type": "heading",
     "level": 1,
     "metadata": {
      "slideshow": {
       "slide_type": "slide"
      }
     },
     "source": [
      "<font color=\"#A86E12\">Tuxedo Protocol</font>"
     ]
    },
    {
     "cell_type": "heading",
     "level": 3,
     "metadata": {
      "slideshow": {
       "slide_type": "subslide"
      }
     },
     "source": [
      "popular RNA-seq analysis suite"
     ]
    },
    {
     "cell_type": "heading",
     "level": 3,
     "metadata": {
      "slideshow": {
       "slide_type": "subslide"
      }
     },
     "source": [
      "programs are named after components of a tuxedo"
     ]
    },
    {
     "cell_type": "heading",
     "level": 3,
     "metadata": {
      "slideshow": {
       "slide_type": "subslide"
      }
     },
     "source": [
      "<font color=\"#5791ED\">Bowtie:</font> maps reads to reference sequence"
     ]
    },
    {
     "cell_type": "heading",
     "level": 3,
     "metadata": {
      "slideshow": {
       "slide_type": "subslide"
      }
     },
     "source": [
      "<font color=\"#5791ED\">Tophat:</font> uses `bowtie` for read-mapping/alignment across introns"
     ]
    },
    {
     "cell_type": "heading",
     "level": 3,
     "metadata": {
      "slideshow": {
       "slide_type": "subslide"
      }
     },
     "source": [
      "<font color=\"#5791ED\">Cufflinks:</font> builds transcript models (annotations) from `tophat` output and calculates expression values"
     ]
    },
    {
     "cell_type": "heading",
     "level": 3,
     "metadata": {
      "slideshow": {
       "slide_type": "subslide"
      }
     },
     "source": [
      "<font color=\"#5791ED\">CummRbund:</font> `R` scripts for combining `cufflinks` output files into useful results and figures"
     ]
    },
    {
     "cell_type": "markdown",
     "metadata": {
      "slideshow": {
       "slide_type": "subslide"
      }
     },
     "source": [
      "<figure>\n",
      "<center>\n",
      "<img src=\"general_files/tuxedo_nature.jpg\" width=\"250\" />\n",
      "<figcaption>Trapnel *et al*. Nature Protocols 7, 562\u2013578 (2012) <a href=\"http://www.nature.com/nprot/journal/v7/n3/full/nprot.2012.016.html\">doi:10.1038/nprot.2012.016</a></figcaption>\n",
      "</center>\n",
      "</figure>"
     ]
    },
    {
     "cell_type": "heading",
     "level": 3,
     "metadata": {
      "slideshow": {
       "slide_type": "subslide"
      }
     },
     "source": [
      "understates the data management challenge of next generation sequencing (<font color=\"#5791ED\">NGS</font>) analysis"
     ]
    },
    {
     "cell_type": "heading",
     "level": 3,
     "metadata": {
      "slideshow": {
       "slide_type": "subslide"
      }
     },
     "source": [
      "\"understates\" is an <font color=\"#5791ED\">understatement</font>"
     ]
    },
    {
     "cell_type": "markdown",
     "metadata": {
      "slideshow": {
       "slide_type": "subslide"
      }
     },
     "source": [
      "<figure>\n",
      "<center>\n",
      "<img src=\"general_files/tophat_cufflinks_ins_outs.svg\" width=\"1200\" />\n",
      "<figcaption><font color=\"#5791ED\">*Abbreviated*</font> diagram of `tophat`/`cufflinks` steps in Tuxedo Protocol for just <font color=\"#5791ED\"><u>two</u></font> time points.</figcaption>\n",
      "</center>\n",
      "</figure>"
     ]
    },
    {
     "cell_type": "markdown",
     "metadata": {},
     "source": []
    },
    {
     "cell_type": "markdown",
     "metadata": {
      "slideshow": {
       "slide_type": "fragment"
      }
     },
     "source": [
      "- each yellow box represents a <font color=\"#5791ED\">single command line execution</font>, with specific inputs and an output direcory, that may take hours or <u>days</u> to complete before the user is able to enter the next command."
     ]
    },
    {
     "cell_type": "markdown",
     "metadata": {
      "slideshow": {
       "slide_type": "fragment"
      }
     },
     "source": [
      "- data management and <font color=\"#5791ED\">record keeping</font> becomes a nightmare, *especially for biologists uncomfortable with the commandline.*"
     ]
    },
    {
     "cell_type": "markdown",
     "metadata": {
      "slideshow": {
       "slide_type": "fragment"
      }
     },
     "source": [
      "- <font color=\"#5791ED\">reproducibility</font> suffers with record keeping"
     ]
    },
    {
     "cell_type": "heading",
     "level": 1,
     "metadata": {
      "slideshow": {
       "slide_type": "slide"
      }
     },
     "source": [
      "<font color=\"#A86E12\">blacktie</font>"
     ]
    },
    {
     "cell_type": "heading",
     "level": 3,
     "metadata": {
      "slideshow": {
       "slide_type": "subslide"
      }
     },
     "source": [
      "Automation of the <font color=\"#5791ED\">Tuxedo Protocol</font>"
     ]
    },
    {
     "cell_type": "markdown",
     "metadata": {
      "slideshow": {
       "slide_type": "fragment"
      }
     },
     "source": [
      "- simple installation"
     ]
    },
    {
     "cell_type": "markdown",
     "metadata": {
      "slideshow": {
       "slide_type": "fragment"
      }
     },
     "source": [
      "- simple command line interface that allows <font color=\"#5791ED\">almost</font> anybody to fully automate and reliably repeat their analysis of RNA-seq data with `tophat`, `cufflinks`, and `cummeRbund`"
     ]
    },
    {
     "cell_type": "markdown",
     "metadata": {
      "slideshow": {
       "slide_type": "fragment"
      }
     },
     "source": [
      "- send email updates to the user"
     ]
    },
    {
     "cell_type": "markdown",
     "metadata": {
      "slideshow": {
       "slide_type": "fragment"
      }
     },
     "source": [
      "- intelligently continue with the analysis if a single run fails"
     ]
    },
    {
     "cell_type": "markdown",
     "metadata": {
      "slideshow": {
       "slide_type": "fragment"
      }
     },
     "source": [
      "- run multiple, complex `tophat`/`cufflinks` experiments at once using a single command"
     ]
    },
    {
     "cell_type": "markdown",
     "metadata": {
      "slideshow": {
       "slide_type": "fragment"
      }
     },
     "source": [
      "- generates SGE `qsub`-able scripts for use with a computing cluster"
     ]
    },
    {
     "cell_type": "markdown",
     "metadata": {
      "slideshow": {
       "slide_type": "fragment"
      }
     },
     "source": [
      "- checks for `R` installation"
     ]
    },
    {
     "cell_type": "markdown",
     "metadata": {
      "slideshow": {
       "slide_type": "fragment"
      }
     },
     "source": [
      "- checks for `cummeRbund` library and walks user through installation if its not installed yet"
     ]
    },
    {
     "cell_type": "markdown",
     "metadata": {
      "slideshow": {
       "slide_type": "fragment"
      }
     },
     "source": [
      "- automatic preliminary Quality Control, Basic Differential Expression, and Basic Pattern Discovery plots using `cummeRbund`"
     ]
    },
    {
     "cell_type": "markdown",
     "metadata": {
      "slideshow": {
       "slide_type": "subslide"
      }
     },
     "source": [
      "<figure>\n",
      "<center>\n",
      "<img src=\"general_files/basic_cummerbund_plots.png\" width=\"900\" />\n",
      "<figcaption>Basic plots produced automatically after full `blacktie` run.</figcaption>\n",
      "</center>\n",
      "</figure>"
     ]
    },
    {
     "cell_type": "heading",
     "level": 3,
     "metadata": {
      "slideshow": {
       "slide_type": "subslide"
      }
     },
     "source": [
      "blacktie's documentation is hosted on <a href=\"https://blacktie.readthedocs.org/en/latest/\">readthedocs.org</a>"
     ]
    },
    {
     "cell_type": "heading",
     "level": 3,
     "metadata": {
      "slideshow": {
       "slide_type": "subslide"
      }
     },
     "source": [
      "blacktie is hosted on <a href=\"https://github.com/xguse/blacktie\">github.com</a> for open source collaboration"
     ]
    },
    {
     "cell_type": "heading",
     "level": 3,
     "metadata": {
      "slideshow": {
       "slide_type": "subslide"
      }
     },
     "source": [
      "blacktie is also hosted on <a href=\"https://pypi.python.org/pypi/blacktie/0.2.1.2\">pypi.python.org</a> for easy installation"
     ]
    },
    {
     "cell_type": "markdown",
     "metadata": {
      "slideshow": {
       "slide_type": "subslide"
      }
     },
     "source": [
      "``` $ [sudo] pip install blacktie```"
     ]
    },
    {
     "cell_type": "heading",
     "level": 3,
     "metadata": {
      "slideshow": {
       "slide_type": "slide"
      }
     },
     "source": [
      "<font color=\"#A86E12\">mRNA abunance profiles for ~14,000 genes in three species</font>"
     ]
    },
    {
     "cell_type": "heading",
     "level": 3,
     "metadata": {
      "slideshow": {
       "slide_type": "subslide"
      }
     },
     "source": [
      "meaningfully grouped promoters"
     ]
    },
    {
     "cell_type": "heading",
     "level": 3,
     "metadata": {
      "slideshow": {
       "slide_type": "subslide"
      }
     },
     "source": [
      "automated and repeatable"
     ]
    },
    {
     "cell_type": "heading",
     "level": 1,
     "metadata": {
      "slideshow": {
       "slide_type": "slide"
      }
     },
     "source": [
      "<font color=\"#A86E12\">30,000 foot view</font>"
     ]
    },
    {
     "cell_type": "markdown",
     "metadata": {
      "slideshow": {
       "slide_type": "subslide"
      }
     },
     "source": [
      "\n",
      "<figure>\n",
      "<center>\n",
      "<img src=\"general_files/approach_overview.svg\" width=\"1200\" />\n",
      "<figcaption>Input/output diagram of grouping approach.</figcaption>\n",
      "</center>\n",
      "</figure>\n"
     ]
    },
    {
     "cell_type": "heading",
     "level": 1,
     "metadata": {
      "slideshow": {
       "slide_type": "slide"
      }
     },
     "source": [
      "<font color=\"#A86E12\">Initial data</font>"
     ]
    },
    {
     "cell_type": "heading",
     "level": 2,
     "metadata": {
      "slideshow": {
       "slide_type": "subslide"
      }
     },
     "source": [
      "Four intial data-sets were compiled that represent <font color=\"#5791ED\">Phylogenetics</font>, <font color=\"#5791ED\">Genomics</font>, <font color=\"#5791ED\">Transcriptomics</font>, and <font color=\"#5791ED\">Putative Transcriptional Regulatory</font> information.\n"
     ]
    },
    {
     "cell_type": "heading",
     "level": 1,
     "metadata": {
      "slideshow": {
       "slide_type": "slide"
      }
     },
     "source": [
      "<font color=\"#A86E12\">Phylogenetics</font>"
     ]
    },
    {
     "cell_type": "markdown",
     "metadata": {
      "slideshow": {
       "slide_type": "subslide"
      }
     },
     "source": [
      "\n",
      "<figure>\n",
      "<center>\n",
      "<img src=\"general_files/mosqPhyloTree.svg\" width=\"1200\" />\n",
      "<figcaption>Phylogenetic relationships of four vector-mosquitoes.</figcaption>\n",
      "</center>\n",
      "</figure>\n"
     ]
    },
    {
     "cell_type": "markdown",
     "metadata": {
      "slideshow": {
       "slide_type": "subslide"
      }
     },
     "source": [
      "<figure>\n",
      "<center>\n",
      "<img src=\"general_files/pairwise_evo_divs.png\" width=\"1200\" />\n",
      "<figcaption> Estimated pairwise-evolutionary divergence between species.</figcaption>\n",
      "</center>\n",
      "</figure>"
     ]
    },
    {
     "cell_type": "heading",
     "level": 1,
     "metadata": {
      "slideshow": {
       "slide_type": "slide"
      }
     },
     "source": [
      "<font color=\"#A86E12\">Comparative Genomics</font>"
     ]
    },
    {
     "cell_type": "heading",
     "level": 2,
     "metadata": {
      "slideshow": {
       "slide_type": "subslide"
      }
     },
     "source": [
      "genes considered from each species were limited to those with exactly <font color=\"#5791ED\">one</font> 1-to-1 ortholog in *Ae. aegypti*, *An. gambiae*, *An. stephensi*,\n",
      "and *Cx. quinquefasciatus*"
     ]
    },
    {
     "cell_type": "heading",
     "level": 2,
     "metadata": {
      "slideshow": {
       "slide_type": "subslide"
      }
     },
     "source": [
      "maximize the probability of <font color=\"#5791ED\">conserved function</font> between genes analyzed\n"
     ]
    },
    {
     "cell_type": "heading",
     "level": 1,
     "metadata": {
      "slideshow": {
       "slide_type": "subslide"
      }
     },
     "source": [
      "<font color=\"#A86E12\">orthologs</font>"
     ]
    },
    {
     "cell_type": "heading",
     "level": 2,
     "metadata": {
      "slideshow": {
       "slide_type": "subslide"
      }
     },
     "source": [
      "each species has about <font color=\"#5791ED\">14,000</font> annotated genes"
     ]
    },
    {
     "cell_type": "heading",
     "level": 2,
     "metadata": {
      "slideshow": {
       "slide_type": "subslide"
      }
     },
     "source": [
      "some of these genes were present in the <font color=\"#5791ED\">last common ancestor</font> of <u>all</u> mosquitoes"
     ]
    },
    {
     "cell_type": "heading",
     "level": 2,
     "metadata": {
      "slideshow": {
       "slide_type": "subslide"
      }
     },
     "source": [
      "others have <font color=\"#5791ED\">arisen</font> or <font color=\"#5791ED\">disappeared</font> in any particular species since their <a href=\"#/15/1\">divergence</a>"
     ]
    },
    {
     "cell_type": "heading",
     "level": 2,
     "metadata": {
      "slideshow": {
       "slide_type": "subslide"
      }
     },
     "source": [
      "\n",
      "those present in that original species and that still exist in each current species are called <font color=\"#5791ED\">orthologs</font>."
     ]
    },
    {
     "cell_type": "heading",
     "level": 2,
     "metadata": {
      "slideshow": {
       "slide_type": "subslide"
      }
     },
     "source": [
      "<font color=\"#5791ED\">5,101 genes</font> in each species statisfied the 4-way, 1-to-1 ortholog requirement and were retained"
     ]
    },
    {
     "cell_type": "heading",
     "level": 2,
     "metadata": {
      "slideshow": {
       "slide_type": "subslide"
      }
     },
     "source": [
      "<font color=\"#5791ED\">15,303 genes</font> total"
     ]
    },
    {
     "cell_type": "markdown",
     "metadata": {
      "slideshow": {
       "slide_type": "fragment"
      }
     },
     "source": [
      "(5,101 * 3)"
     ]
    },
    {
     "cell_type": "markdown",
     "metadata": {
      "slideshow": {
       "slide_type": "fragment"
      }
     },
     "source": [
      "<font color=\"#5791ED\">*An. stephensi*</font> was not included in the transcriptomics part of this project due to unstable genome assembly and annotation"
     ]
    },
    {
     "cell_type": "heading",
     "level": 2,
     "metadata": {
      "slideshow": {
       "slide_type": "subslide"
      }
     },
     "source": [
      "how does all of this suggest <font color=\"#5791ED\">conserved function</font>?"
     ]
    },
    {
     "cell_type": "heading",
     "level": 3,
     "metadata": {
      "slideshow": {
       "slide_type": "subslide"
      }
     },
     "source": [
      "no apparent gain or loss of copies over at least <font color=\"#5791ED\">145 million years</font> implies a *degree* of evolutionary stability"
     ]
    },
    {
     "cell_type": "heading",
     "level": 1,
     "metadata": {
      "slideshow": {
       "slide_type": "slide"
      }
     },
     "source": [
      "<font color=\"#A86E12\">Transcriptomics</font>"
     ]
    },
    {
     "cell_type": "heading",
     "level": 1,
     "metadata": {
      "slideshow": {
       "slide_type": "slide"
      }
     },
     "source": [
      "<font color=\"#A86E12\">Putative Regulatory Mechanisms</font>"
     ]
    }
   ],
   "metadata": {}
  }
 ]
}