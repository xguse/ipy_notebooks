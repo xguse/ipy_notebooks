{
 "metadata": {
  "name": ""
 },
 "nbformat": 3,
 "nbformat_minor": 0,
 "worksheets": [
  {
   "cells": [
    {
     "cell_type": "markdown",
     "metadata": {},
     "source": [
      "#### Initial library imports:"
     ]
    },
    {
     "cell_type": "code",
     "collapsed": false,
     "input": [
      "from gfunc import devel as dev\n",
      "from gfunc import maths as m\n",
      "from gfunc.scripts.gfunc_build_n_way_one2one import reset_random_edges\n",
      "from gfunc.xpermutations import xuniqueCombinations\n",
      "\n",
      "from ipy_table import *"
     ],
     "language": "python",
     "metadata": {},
     "outputs": [],
     "prompt_number": 19
    },
    {
     "cell_type": "markdown",
     "metadata": {},
     "source": [
      "# PTCI test settings: rpd; scale divergence weights from 1.0 to 1.1"
     ]
    },
    {
     "cell_type": "markdown",
     "metadata": {},
     "source": [
      "PTCI is a measure of the similarity (putative conservation) of the RNA expression (abundance) profiles between orlologous genes between species.  The full score combines the r-value ($r$), it's corresponding p-value ($p$), and a scaled weight derived from the evolutionary distance of the species ($w(d)$). By default, the $w(d)$ value is scaled to between 1.0 and 1.1 so as not to overwhelm the metric. \n",
      "\n",
      "$PTCI = r \\cdot (1-p) \\cdot w(d)$\n",
      "\n",
      "However, by setting the values of a few master variables below we can explore how altering these parameters affects the results."
     ]
    },
    {
     "cell_type": "code",
     "collapsed": false,
     "input": [
      "master_kinds = [ ['\"rpd\"' ,   'r * (1-p) * w(d)'  ],\n",
      "                 [ '\"zpd\"' , 'z(r) * (1-p) * w(d)' ],\n",
      "                 [ '\"rd\"' , 'r * w(d)'               ],\n",
      "                 [ '\"zd\"' , 'z(r) * w(d)'             ],\n",
      "                 [  '\"r\"' ,'r'                         ],\n",
      "                 [  '\"z\"' , 'z(r)'                     ] ]\n",
      "\n",
      "table = make_table(master_kinds)\n",
      "\n",
      "print \"\\n\\n\\n\\n`master_kind` can be any of the following:\"\n",
      "display(table)\n",
      "\n",
      "print \"`master_w_min` and `master_w_max` define the bounds of the w(d) scaling function.\\n\\n\"\n",
      "\n"
     ],
     "language": "python",
     "metadata": {},
     "outputs": [
      {
       "output_type": "stream",
       "stream": "stdout",
       "text": [
        "\n",
        "\n",
        "\n",
        "\n",
        "`master_kind` can be any of the following:\n"
       ]
      },
      {
       "html": [
        "<table border=\"1\" cellpadding=\"3\" cellspacing=\"0\"  style=\"border:1px solid black;border-collapse:collapse;\"><tr><td>\"rpd\"</td><td>r&nbsp*&nbsp(1-p)&nbsp*&nbspw(d)</td></tr><tr><td>\"zpd\"</td><td>z(r)&nbsp*&nbsp(1-p)&nbsp*&nbspw(d)</td></tr><tr><td>\"rd\"</td><td>r&nbsp*&nbspw(d)</td></tr><tr><td>\"zd\"</td><td>z(r)&nbsp*&nbspw(d)</td></tr><tr><td>\"r\"</td><td>r</td></tr><tr><td>\"z\"</td><td>z(r)</td></tr>"
       ],
       "metadata": {},
       "output_type": "display_data",
       "text": [
        "<IPython.core.display.HTML at 0x3c29410>"
       ]
      },
      {
       "output_type": "stream",
       "stream": "stdout",
       "text": [
        "`master_w_min` and `master_w_max` define the bounds of the w(d) scaling function.\n",
        "\n",
        "\n"
       ]
      }
     ],
     "prompt_number": 17
    },
    {
     "cell_type": "markdown",
     "metadata": {},
     "source": [
      "### Setting the PTCI parameters:"
     ]
    },
    {
     "cell_type": "code",
     "collapsed": false,
     "input": [
      "#set the parameters of ptci to calculate\n",
      "master_kind = 'rpd'\n",
      "master_w_min = 1.0\n",
      "master_w_max = 1.1"
     ],
     "language": "python",
     "metadata": {},
     "outputs": [],
     "prompt_number": 1
    },
    {
     "cell_type": "markdown",
     "metadata": {},
     "source": [
      "# 1: Analyze 1-to-1 ortholog correlations (pairwise only):"
     ]
    },
    {
     "cell_type": "markdown",
     "metadata": {},
     "source": [
      "#### Run external script to load expressin/divergence/etc data into the gFunc graph:"
     ]
    },
    {
     "cell_type": "code",
     "collapsed": false,
     "input": [
      "# run gfunc_build_n_way_one2one script and capture output in variable `trap`\n",
      "%run -i ../../../Dropbox/repos/git/gfunc/src/gfunc/scripts/gfunc_build_n_way_one2one.py ../../../Dropbox/common/gfunc/Aa_Ag_Cq_sort_pci.conf\n",
      "\n",
      "graphHandler,graphBuilder,n_way_ortho_table,ortho_parser = trap\n",
      "\n",
      "# extract edge data from the graphs\n",
      "edges = graphHandler.edge_dict.values() "
     ],
     "language": "python",
     "metadata": {},
     "outputs": [
      {
       "output_type": "stream",
       "stream": "stdout",
       "text": [
        "bestChoose is 'choose' from 'rSeq'.\n",
        "main() completed."
       ]
      },
      {
       "output_type": "stream",
       "stream": "stdout",
       "text": [
        "\n"
       ]
      }
     ],
     "prompt_number": 3
    },
    {
     "cell_type": "markdown",
     "metadata": {},
     "source": [
      "#### Function to calculate and store the orthologous expression profile correlation values in the graph edges:"
     ]
    },
    {
     "cell_type": "code",
     "collapsed": false,
     "input": [
      "def get_edge_r_and_p_vals(edges,quiet=True):\n",
      "    \"\"\"\n",
      "    set and get r and p vals from list of edges\n",
      "    \"\"\"\n",
      "    # collect all the results using edge_correlation()\n",
      "    edge_r_and_p_values = [dev.edge_correlation(edge) for edge in edges]\n",
      "    \n",
      "    if not quiet:\n",
      "        print \"r_vals before cleaning: %s\" % (len(edge_r_and_p_values))\n",
      "\n",
      "    # get rid of any results that equal None\n",
      "    edge_r_and_p_values = [x for x in edge_r_and_p_values if not dev.is_none_or_nan(x)]\n",
      "    \n",
      "    if not quiet:\n",
      "        print \"Returning %s r_vals.\" % (len(edge_r_and_p_values))\n",
      "        \n",
      "    return edge_r_and_p_values"
     ],
     "language": "python",
     "metadata": {},
     "outputs": [],
     "prompt_number": 4
    },
    {
     "cell_type": "markdown",
     "metadata": {},
     "source": [
      "#### Set the expression correlation values and also store them in external variable for easy access after cleaning:"
     ]
    },
    {
     "cell_type": "code",
     "collapsed": false,
     "input": [
      "r_and_p_values = get_edge_r_and_p_vals(edges,quiet=False)"
     ],
     "language": "python",
     "metadata": {},
     "outputs": [
      {
       "output_type": "stream",
       "stream": "stdout",
       "text": [
        "r_vals before cleaning: 18495\n",
        "Returning 16901 r_vals."
       ]
      },
      {
       "output_type": "stream",
       "stream": "stdout",
       "text": [
        "\n"
       ]
      }
     ],
     "prompt_number": 5
    },
    {
     "cell_type": "code",
     "collapsed": false,
     "input": [
      "r_values = [r_and_p_values[i][0] for i in range(len(r_and_p_values))]"
     ],
     "language": "python",
     "metadata": {},
     "outputs": [],
     "prompt_number": 6
    },
    {
     "cell_type": "markdown",
     "metadata": {},
     "source": [
      "#### Histogram of r-values:"
     ]
    },
    {
     "cell_type": "code",
     "collapsed": false,
     "input": [
      "hist(r_values,bins=50,histtype='stepfilled',cumulative=False, color='b')\n",
      "xlabel('correlation values')\n",
      "ylabel('number of edges in each bin')\n",
      "title('r values for pairwise edge comparisons')"
     ],
     "language": "python",
     "metadata": {},
     "outputs": [
      {
       "metadata": {},
       "output_type": "pyout",
       "prompt_number": 11,
       "text": [
        "<matplotlib.text.Text at 0x38784910>"
       ]
      },
      {
       "metadata": {},
       "output_type": "display_data",
       "png": "[encoded data removed]",
       "text": [
        "<matplotlib.figure.Figure at 0x47e7a50>"
       ]
      }
     ],
     "prompt_number": 11
    },
    {
     "cell_type": "markdown",
     "metadata": {},
     "source": [
      "#### Use the correlation values to calculate and store the REAL DATA z-score statistics for later:"
     ]
    },
    {
     "cell_type": "code",
     "collapsed": false,
     "input": [
      "z_stats = m.get_z_score_stats(r_values)"
     ],
     "language": "python",
     "metadata": {},
     "outputs": [],
     "prompt_number": 7
    },
    {
     "cell_type": "code",
     "collapsed": false,
     "input": [
      "print \"mean:\\t%s\\nmedian:\\t%s\\nstdv:\\t%s\" % (z_stats[0],z_stats[1],z_stats[2])"
     ],
     "language": "python",
     "metadata": {},
     "outputs": [
      {
       "output_type": "stream",
       "stream": "stdout",
       "text": [
        "mean:\t0.272079182268\n",
        "median:\t0.399629810524\n",
        "stdv:\t0.573487389025\n"
       ]
      }
     ],
     "prompt_number": 8
    },
    {
     "cell_type": "markdown",
     "metadata": {},
     "source": [
      "#### Function to use z-score stats to calculate and store z-score converted r-values in the gFunc graph:"
     ]
    },
    {
     "cell_type": "code",
     "collapsed": false,
     "input": [
      "def set_z_vals(graphHandler,z_stats,use_center='median'):\n",
      "    z_stats = {'mean':z_stats[0],'median':z_stats[1],'stdv':z_stats[2]}\n",
      "    \n",
      "    center = z_stats[use_center]\n",
      "    stdv   = z_stats['stdv']\n",
      "    \n",
      "    def z_val(r_val,center,stdv):\n",
      "        return  (r_val - center) / stdv\n",
      "    \n",
      "    edges = graphHandler.edge_dict.values() \n",
      "    for edge in edges:\n",
      "        try:\n",
      "            edge.data.z_val = z_val(edge.data.r_val,center,stdv)\n",
      "            \n",
      "        except (TypeError,AttributeError) as exc:\n",
      "            if 'TypeError' in str(exc):\n",
      "                edge.data.z_val = None\n",
      "            elif 'AttributeError' in str(exc):\n",
      "                dev.edge_correlation(edge)\n",
      "                if edge.data.r_val == None:\n",
      "                    edge.data.z_val = None\n",
      "                else:\n",
      "                    edge.data.z_val = z_val(edge.data.r_val,center,stdv)\n",
      "            "
     ],
     "language": "python",
     "metadata": {},
     "outputs": [],
     "prompt_number": 9
    },
    {
     "cell_type": "code",
     "collapsed": false,
     "input": [
      "set_z_vals(graphHandler,z_stats,use_center='median')"
     ],
     "language": "python",
     "metadata": {},
     "outputs": [],
     "prompt_number": 10
    },
    {
     "cell_type": "markdown",
     "metadata": {},
     "source": [
      "#### Function to calculate and store the 1-to-1 pairwise PTCI values in the graph edges"
     ]
    },
    {
     "cell_type": "code",
     "collapsed": false,
     "input": [
      "def get_pairwise_ptci_vals(edges,kind='rpd',quiet=True,w_min=1.0,w_max=1.1):\n",
      "    if not quiet:\n",
      "        print \"kind: %s\" % (kind)\n",
      "    pairwise_ptci_vals = [dev.get_ptci(edge,kind,w_min,w_max) for edge in edges]\n",
      "    if not quiet:\n",
      "        print \"ptci_vals before cleaning: %s\" % (len(pairwise_ptci_vals))\n",
      "    # remove any None values\n",
      "    pairwise_ptci_vals = [ptci for ptci in pairwise_ptci_vals if not dev.is_none_or_nan(ptci)]\n",
      "    if not quiet:\n",
      "        print \"Returning %s ptci_vals.\" % (len(pairwise_ptci_vals))\n",
      "        \n",
      "    return pairwise_ptci_vals"
     ],
     "language": "python",
     "metadata": {},
     "outputs": [],
     "prompt_number": 12
    },
    {
     "cell_type": "markdown",
     "metadata": {},
     "source": [
      "#### Set and collect the REAL DATA 1-to-1 PTCIs"
     ]
    },
    {
     "cell_type": "code",
     "collapsed": false,
     "input": [
      "pairwise_ptci_vals = get_pairwise_ptci_vals(edges,kind=master_kind,quiet=True,w_min=master_w_min,w_max=master_w_max)"
     ],
     "language": "python",
     "metadata": {},
     "outputs": [],
     "prompt_number": 13
    },
    {
     "cell_type": "markdown",
     "metadata": {},
     "source": [
      "#### Function to calculate and store RANDOMIZED 1-to-1 pairwise PTCI values in the graph edges to generate many NULL distributions"
     ]
    },
    {
     "cell_type": "code",
     "collapsed": false,
     "input": [
      "def get_null_pairwise_ptci_distributions(graphHandler,graphBuilder,n_way_ortho_table,ortho_parser,reps=50,kind='rpd',quiet=True,w_min=1.0,w_max=1.1):\n",
      "    \"\"\"\n",
      "    \"\"\"\n",
      "    null_paired_ptci_distributions = []\n",
      "\n",
      "    for rep in range(reps):\n",
      "        # scramble edges for this rep and set new r&p vals\n",
      "        reset_random_edges(graphHandler,graphBuilder,n_way_ortho_table,ortho_parser)\n",
      "        graphHandler.measure_relations()\n",
      "        \n",
      "        # do prep\n",
      "        null_edges = graphHandler.edge_dict.values()\n",
      "        null_r_and_p_values = get_edge_r_and_p_vals(null_edges,quiet)\n",
      "        null_r_values = [null_r_and_p_values[i][0] for i in range(len(null_r_and_p_values))]\n",
      "        null_z_stats = m.get_z_score_stats(null_r_values)\n",
      "        set_z_vals(graphHandler,null_z_stats,use_center='median')\n",
      "        \n",
      "        # calculate null ptci vals\n",
      "        null_pairwise_ptci_vals = get_pairwise_ptci_vals(null_edges,kind,quiet,w_min,w_max)\n",
      "        \n",
      "        # collect null ptci distribution\n",
      "        null_paired_ptci_distributions.append(null_pairwise_ptci_vals)\n",
      "        \n",
      "    \n",
      "    return null_paired_ptci_distributions"
     ],
     "language": "python",
     "metadata": {},
     "outputs": [],
     "prompt_number": 16
    },
    {
     "cell_type": "markdown",
     "metadata": {},
     "source": [
      "#### Set and collect the NULL DATA 1-to-1 PTCIs"
     ]
    },
    {
     "cell_type": "code",
     "collapsed": false,
     "input": [
      "null_pairwise_ptci_distributions = get_null_pairwise_ptci_distributions(graphHandler,\n",
      "                                                                        graphBuilder,\n",
      "                                                                        n_way_ortho_table,\n",
      "                                                                        ortho_parser,\n",
      "                                                                        reps=5,\n",
      "                                                                        kind=master_kind,\n",
      "                                                                        quiet=True,\n",
      "                                                                        w_min=master_w_min,\n",
      "                                                                        w_max=master_w_max)"
     ],
     "language": "python",
     "metadata": {},
     "outputs": [],
     "prompt_number": 17
    },
    {
     "cell_type": "markdown",
     "metadata": {},
     "source": [
      "#### Histogram overlays contrasting the REAL and NULL distributions of 1-to-1 orthologous PTCI values"
     ]
    },
    {
     "cell_type": "code",
     "collapsed": false,
     "input": [
      "# Show what the actual data looks like for comparison\n",
      "hist(pairwise_ptci_vals,bins=50,histtype='stepfilled',cumulative=False, color='c',alpha=.7, label='Real Data')\n",
      "\n",
      "# Graph null distributions as grey slightly transparent histograms\n",
      "null_label = 'Null Data'\n",
      "\n",
      "for null_dist in null_pairwise_ptci_distributions:\n",
      "    hist(null_dist,bins=50,histtype='step',cumulative=False, color='k',alpha=.1,label=null_label)\n",
      "    null_label = None\n",
      "\n",
      "\n",
      "\n",
      "\n",
      "xlabel('ptci (kind: %s, %s-%s)' % (master_kind, master_w_min, master_w_max))\n",
      "ylabel('number of edges in each bin')\n",
      "title('null distributions for pairwise edge correlations (%s reps)' % (len(null_pairwise_ptci_distributions)))\n",
      "legend()"
     ],
     "language": "python",
     "metadata": {},
     "outputs": [
      {
       "metadata": {},
       "output_type": "pyout",
       "prompt_number": 18,
       "text": [
        "<matplotlib.legend.Legend at 0x3b3f6610>"
       ]
      },
      {
       "metadata": {},
       "output_type": "display_data",
       "png": "[encoded data removed]",
       "text": [
        "<matplotlib.figure.Figure at 0x3b68f4d0>"
       ]
      }
     ],
     "prompt_number": 18
    },
    {
     "cell_type": "markdown",
     "metadata": {},
     "source": [
      "# 2: Analyze composite $N$-way ortholog correlations (1-to-1 orthologs in all $N$ species):"
     ]
    },
    {
     "cell_type": "markdown",
     "metadata": {},
     "source": [
      "### We need to regenrate the graph database after the randomization step above"
     ]
    },
    {
     "cell_type": "code",
     "collapsed": false,
     "input": [
      "# run gfunc_build_n_way_one2one script and capture output in variable `trap`\n",
      "%run -i ../../../Dropbox/repos/git/gfunc/src/gfunc/scripts/gfunc_build_n_way_one2one.py ../../../Dropbox/common/gfunc/Aa_Ag_Cq_sort_pci.conf\n",
      "\n",
      "graphHandler,graphBuilder,n_way_ortho_table,ortho_parser = trap\n",
      "\n",
      "edges = graphHandler.edge_dict.values() \n",
      "r_and_p_values = get_edge_r_and_p_vals(edges,quiet=False)\n",
      "set_z_vals(graphHandler, z_stats, use_center='median')"
     ],
     "language": "python",
     "metadata": {},
     "outputs": [
      {
       "output_type": "stream",
       "stream": "stdout",
       "text": [
        "main() completed.\n",
        "r_vals before cleaning: 18495"
       ]
      },
      {
       "output_type": "stream",
       "stream": "stdout",
       "text": [
        "\n",
        "Returning 16901 r_vals."
       ]
      },
      {
       "output_type": "stream",
       "stream": "stdout",
       "text": [
        "\n"
       ]
      }
     ],
     "prompt_number": 19
    },
    {
     "cell_type": "markdown",
     "metadata": {},
     "source": [
      "#### Function to calculate and return the mean PTCI values for $N$-way ortholog subgraphs if and only if all edges successfully generated non-None value PTCI results."
     ]
    },
    {
     "cell_type": "code",
     "collapsed": false,
     "input": [
      "def calc_mean_ptcis(graphHandler,n_way_ortho_table,kind='rpd',quiet=True,w_min=1.0,w_max=1.1):\n",
      "    \"\"\"\n",
      "    returns list of n-way averaged PTCI values for N-way ortholog subgraphs if and only if \n",
      "    all edges successfully generated non-None value PTCI results.\n",
      "    \"\"\"\n",
      "    \n",
      "    # dictionary of nodes/edges indexed by gene names\n",
      "    node_dict = graphHandler.node_dict\n",
      "    edge_dict = graphHandler.edge_dict\n",
      "    \n",
      "    graph = graphHandler.graph \n",
      "    \n",
      "    mean_ptcis = []\n",
      "    \n",
      "    # calculate all pairwise combinations of indexes\n",
      "    # so that each ortho-edge of n-way orthos are obtained\n",
      "    \n",
      "    index_combos = [ x for x in xuniqueCombinations(range(len(n_way_ortho_table.columns)),2)]\n",
      "    \n",
      "    \n",
      "    for node_list in n_way_ortho_table.itertuples():\n",
      "        \n",
      "        node_list = node_list[1:]\n",
      "        \n",
      "        ortho_edges = []\n",
      "        for i in index_combos:\n",
      "            key = tuple(sorted([node_list[i[0]],node_list[i[1]]]))\n",
      "            \n",
      "            try:\n",
      "                ortho_edges.append(edge_dict[key])\n",
      "            except KeyError:\n",
      "                break\n",
      "                \n",
      "        ptcis = [dev.get_ptci(edge,kind,w_min,w_max) for edge in ortho_edges]\n",
      "        \n",
      "        try:\n",
      "            mean_ptci = np.mean(ptcis)\n",
      "            mean_ptcis.append(mean_ptci)\n",
      "        except TypeError:\n",
      "            pass\n",
      "\n",
      "    return mean_ptcis\n"
     ],
     "language": "python",
     "metadata": {},
     "outputs": [],
     "prompt_number": 21
    },
    {
     "cell_type": "markdown",
     "metadata": {},
     "source": [
      "#### Calulate the REAL DATA mean PTCI values"
     ]
    },
    {
     "cell_type": "code",
     "collapsed": false,
     "input": [
      "n_way_mean_ptcis = calc_mean_ptcis(graphHandler,n_way_ortho_table,kind=master_kind,quiet=True,w_min=master_w_min,w_max=master_w_max)"
     ],
     "language": "python",
     "metadata": {},
     "outputs": [
      {
       "ename": "NameError",
       "evalue": "name 'graphHandler' is not defined",
       "output_type": "pyerr",
       "traceback": [
        "\u001b[1;31m---------------------------------------------------------------------------\u001b[0m\n\u001b[1;31mNameError\u001b[0m                                 Traceback (most recent call last)",
        "\u001b[1;32m<ipython-input-22-1ee12384c5db>\u001b[0m in \u001b[0;36m<module>\u001b[1;34m()\u001b[0m\n\u001b[1;32m----> 1\u001b[1;33m \u001b[0mn_way_mean_ptcis\u001b[0m \u001b[1;33m=\u001b[0m \u001b[0mcalc_mean_ptcis\u001b[0m\u001b[1;33m(\u001b[0m\u001b[0mgraphHandler\u001b[0m\u001b[1;33m,\u001b[0m\u001b[0mn_way_ortho_table\u001b[0m\u001b[1;33m,\u001b[0m\u001b[0mkind\u001b[0m\u001b[1;33m=\u001b[0m\u001b[0mmaster_kind\u001b[0m\u001b[1;33m,\u001b[0m\u001b[0mquiet\u001b[0m\u001b[1;33m=\u001b[0m\u001b[0mTrue\u001b[0m\u001b[1;33m,\u001b[0m\u001b[0mw_min\u001b[0m\u001b[1;33m=\u001b[0m\u001b[0mmaster_w_min\u001b[0m\u001b[1;33m,\u001b[0m\u001b[0mw_max\u001b[0m\u001b[1;33m=\u001b[0m\u001b[0mmaster_w_max\u001b[0m\u001b[1;33m)\u001b[0m\u001b[1;33m\u001b[0m\u001b[0m\n\u001b[0m",
        "\u001b[1;31mNameError\u001b[0m: name 'graphHandler' is not defined"
       ]
      }
     ],
     "prompt_number": 22
    },
    {
     "cell_type": "markdown",
     "metadata": {},
     "source": [
      "#### Function to calculate RANDOMIZED mean PTCI values to generate many NULL distributions"
     ]
    },
    {
     "cell_type": "code",
     "collapsed": false,
     "input": [
      "def get_null_mean_ptci_distributions(graphHandler,graphBuilder,n_way_ortho_table,ortho_parser,reps=50,kind='rpd',quiet=True,w_min=1.0,w_max=1.1):\n",
      "    \"\"\"\n",
      "    \"\"\"\n",
      "    null_mean_ptci_distributions = []\n",
      "\n",
      "    for rep in range(reps):\n",
      "        # scramble edges for this rep and set new r&p vals\n",
      "        reset_random_edges(graphHandler,graphBuilder,n_way_ortho_table,ortho_parser)\n",
      "        graphHandler.measure_relations()\n",
      "        \n",
      "        \n",
      "        # do prep\n",
      "        null_edges = graphHandler.edge_dict.values()\n",
      "        null_r_and_p_values = get_edge_r_and_p_vals(null_edges,quiet)\n",
      "        null_r_values = [null_r_and_p_values[i][0] for i in range(len(null_r_and_p_values))]\n",
      "        null_z_stats = m.get_z_score_stats(null_r_values)\n",
      "        set_z_vals(graphHandler,null_z_stats,use_center='median')\n",
      "        \n",
      "        # calculate null ptci vals\n",
      "        null_mean_ptci_vals = calc_mean_ptcis(graphHandler,n_way_ortho_table,kind,quiet,w_min,w_max)\n",
      "        \n",
      "        # collect null ptci distribution\n",
      "        null_mean_ptci_distributions.append(null_mean_ptci_vals)\n",
      "        \n",
      "    \n",
      "    return null_mean_ptci_distributions"
     ],
     "language": "python",
     "metadata": {},
     "outputs": [],
     "prompt_number": 24
    },
    {
     "cell_type": "markdown",
     "metadata": {},
     "source": [
      "#### Calculate RANDOMIZED mean PTCI values"
     ]
    },
    {
     "cell_type": "code",
     "collapsed": false,
     "input": [
      "null_mean_ptci_distributions = get_null_mean_ptci_distributions(graphHandler,\n",
      "                                                                graphBuilder,\n",
      "                                                                n_way_ortho_table,\n",
      "                                                                ortho_parser,\n",
      "                                                                reps=5,\n",
      "                                                                kind=master_kind,\n",
      "                                                                quiet=True,\n",
      "                                                                w_min=master_w_min,\n",
      "                                                                w_max=master_w_max)"
     ],
     "language": "python",
     "metadata": {},
     "outputs": [],
     "prompt_number": 25
    },
    {
     "cell_type": "markdown",
     "metadata": {},
     "source": [
      "#### Histogram overlays contrasting the REAL and NULL distributions of $N$-way orthologous PTCI values"
     ]
    },
    {
     "cell_type": "code",
     "collapsed": false,
     "input": [
      "# Show what the actual data looks like for comparison\n",
      "hist(n_way_mean_ptcis,bins=50,histtype='stepfilled',cumulative=False, color='c',alpha=.7, label='Real Data')\n",
      "\n",
      "# Graph null distributions as grey slightly transparent histograms\n",
      "null_label = 'Null Data'\n",
      "\n",
      "for null_dist in null_mean_ptci_distributions:\n",
      "    hist(null_dist,bins=50,histtype='step',cumulative=False, color='k',alpha=.1,label=null_label)\n",
      "    null_label = None\n",
      "\n",
      "\n",
      "xlabel('ptci (kind: %s, %s-%s)' % (master_kind, master_w_min, master_w_max))\n",
      "ylabel('number of edges in each bin')\n",
      "title('null distributions for mean edge correlations (%s reps)' % (len(null_mean_ptci_distributions)))\n",
      "legend()"
     ],
     "language": "python",
     "metadata": {},
     "outputs": [
      {
       "metadata": {},
       "output_type": "pyout",
       "prompt_number": 26,
       "text": [
        "<matplotlib.legend.Legend at 0x34c3efd0>"
       ]
      },
      {
       "metadata": {},
       "output_type": "display_data",
       "png": "[encoded data removed]",
       "text": [
        "<matplotlib.figure.Figure at 0x350b3910>"
       ]
      }
     ],
     "prompt_number": 26
    }
   ],
   "metadata": {}
  }
 ]
}