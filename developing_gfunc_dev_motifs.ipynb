{
 "metadata": {
  "name": ""
 },
 "nbformat": 3,
 "nbformat_minor": 0,
 "worksheets": [
  {
   "cells": [
    {
     "cell_type": "markdown",
     "metadata": {},
     "source": [
      "# Developing functions for ``gfunc.dev.motifs``"
     ]
    },
    {
     "cell_type": "markdown",
     "metadata": {},
     "source": [
      "### 1: Initial imports:"
     ]
    },
    {
     "cell_type": "code",
     "collapsed": false,
     "input": [
      "import cPickle\n",
      "\n",
      "from collections import defaultdict\n",
      "\n",
      "import numpy as np\n",
      "from scipy import stats\n",
      "import pandas\n",
      "\n",
      "import MOODS\n",
      "\n",
      "from gfunc.parsers.JASPAR import ParseJasparMatrixOnly\n",
      "from gfunc.fileIO import tableFile2namedTuple\n",
      "\n",
      "from gfunc import motifs as gmotifs\n",
      "\n",
      "from spartan.utils.files import ParseFastA\n",
      "\n",
      "\n",
      "from gfunc.dev import devel as dev\n",
      "from gfunc import maths as m\n",
      "from gfunc.scripts.gfunc_build_n_way_one2one import reset_random_edges\n",
      "from gfunc.xpermutations import xuniqueCombinations\n",
      "\n"
     ],
     "language": "python",
     "metadata": {},
     "outputs": [
      {
       "output_type": "stream",
       "stream": "stdout",
       "text": [
        "bestChoose is 'choose' from 'rSeq'.\n"
       ]
      }
     ],
     "prompt_number": 1
    },
    {
     "cell_type": "markdown",
     "metadata": {},
     "source": [
      "### 2: Prep the fasta data:"
     ]
    },
    {
     "cell_type": "code",
     "collapsed": false,
     "input": [
      "fasta_path = '/home/gus/Dropbox/common/tmp/gfunc_motifs/test.fasta'\n",
      "p = ParseFastA(fasta_path)\n",
      "fasta_dict = p.to_dict()\n",
      "len(fasta_dict)"
     ],
     "language": "python",
     "metadata": {},
     "outputs": [
      {
       "metadata": {},
       "output_type": "pyout",
       "prompt_number": 2,
       "text": [
        "71"
       ]
      }
     ],
     "prompt_number": 2
    },
    {
     "cell_type": "code",
     "collapsed": false,
     "input": [
      "reload(gmotifs)\n",
      "mset = gmotifs.Motifs()"
     ],
     "language": "python",
     "metadata": {},
     "outputs": [],
     "prompt_number": 3
    },
    {
     "cell_type": "code",
     "collapsed": false,
     "input": [
      "mset.set_both_strands(False)\n",
      "mset.set_threshold(0.2)"
     ],
     "language": "python",
     "metadata": {},
     "outputs": [],
     "prompt_number": 4
    },
    {
     "cell_type": "code",
     "collapsed": false,
     "input": [
      "mset.settings()"
     ],
     "language": "python",
     "metadata": {},
     "outputs": [
      {
       "metadata": {},
       "output_type": "pyout",
       "prompt_number": 5,
       "text": [
        "{'both_strands': False, 'thresh': 0.2}"
       ]
      }
     ],
     "prompt_number": 5
    },
    {
     "cell_type": "code",
     "collapsed": false,
     "input": [
      "len(mset)"
     ],
     "language": "python",
     "metadata": {},
     "outputs": [
      {
       "metadata": {},
       "output_type": "pyout",
       "prompt_number": 6,
       "text": [
        "0"
       ]
      }
     ],
     "prompt_number": 6
    },
    {
     "cell_type": "code",
     "collapsed": false,
     "input": [
      "mset.load_JASPAR_motifs('/home/gus/Dropbox/common/motif_databases/Jaspar_2012_05_20/Archive/Custom/EcR_team.txt')"
     ],
     "language": "python",
     "metadata": {},
     "outputs": [],
     "prompt_number": 7
    },
    {
     "cell_type": "code",
     "collapsed": false,
     "input": [
      "len(mset)"
     ],
     "language": "python",
     "metadata": {},
     "outputs": [
      {
       "metadata": {},
       "output_type": "pyout",
       "prompt_number": 8,
       "text": [
        "12"
       ]
      }
     ],
     "prompt_number": 8
    },
    {
     "cell_type": "code",
     "collapsed": false,
     "input": [
      "mset.motifs.keys()"
     ],
     "language": "python",
     "metadata": {},
     "outputs": [
      {
       "metadata": {},
       "output_type": "pyout",
       "prompt_number": 9,
       "text": [
        "['WAD0001_EcR_USP_1',\n",
        " 'WAD0002_EcR_USP_bergman',\n",
        " 'MA0010_1_br_Z1',\n",
        " 'MA0011_1_br_Z2',\n",
        " 'MA0012_1_br_Z3',\n",
        " 'MA0013_1_br_Z4',\n",
        " 'MA0016_1_usp',\n",
        " 'MA0026_1_Eip74EF',\n",
        " 'MA0225_1_ftz',\n",
        " 'MA0446_1_fkh',\n",
        " 'MA0452_1_Kr',\n",
        " 'MA0460_1_ttk']"
       ]
      }
     ],
     "prompt_number": 9
    },
    {
     "cell_type": "code",
     "collapsed": false,
     "input": [
      "hit_dict = mset.scan_seqDict(fasta_dict)"
     ],
     "language": "python",
     "metadata": {},
     "outputs": [],
     "prompt_number": 10
    },
    {
     "cell_type": "code",
     "collapsed": false,
     "input": [
      "processed_MOODS_results = gmotifs.process_MOODS_results(hit_dict,mset.motifs.keys())"
     ],
     "language": "python",
     "metadata": {},
     "outputs": [],
     "prompt_number": 11
    },
    {
     "cell_type": "code",
     "collapsed": false,
     "input": [
      "processed_MOODS_results.values()[0].keys()"
     ],
     "language": "python",
     "metadata": {},
     "outputs": [
      {
       "metadata": {},
       "output_type": "pyout",
       "prompt_number": 28,
       "text": [
        "['MA0460_1_ttk',\n",
        " 'MA0012_1_br_Z3',\n",
        " 'MA0013_1_br_Z4',\n",
        " 'MA0016_1_usp',\n",
        " 'MA0026_1_Eip74EF',\n",
        " 'MA0010_1_br_Z1',\n",
        " 'WAD0002_EcR_USP_bergman',\n",
        " 'WAD0001_EcR_USP_1',\n",
        " 'MA0011_1_br_Z2',\n",
        " 'MA0452_1_Kr',\n",
        " 'MA0446_1_fkh',\n",
        " 'MA0225_1_ftz']"
       ]
      }
     ],
     "prompt_number": 28
    },
    {
     "cell_type": "markdown",
     "metadata": {},
     "source": [
      "### 3: Function to build a ``pandas.DataFrame`` object from processed MOODS results:"
     ]
    },
    {
     "cell_type": "code",
     "collapsed": false,
     "input": [
      "def get_score_dataframe(processed_MOODS_results):\n",
      "    \"\"\"\n",
      "    \"\"\"\n",
      "    motif_names = sorted(processed_MOODS_results.values()[0].keys())\n",
      "    \n",
      "    dict_of_series_objects = {}  \n",
      "    \n",
      "    for seq_name in sorted(processed_MOODS_results.keys()):\n",
      "        # intialize pandas.Series(data, index) object and store in dict_of_series_objects\n",
      "        data = []\n",
      "        for motif_name in motif_names:\n",
      "            # for each motif sum all positive scores (log-odds)\n",
      "            # negative log-odds mean that the site has less than even odds of being the motif given the background\n",
      "            pos_log_odds = [ x for x in processed_MOODS_results[seq_name][motif_name].values() if x > 0 ]\n",
      "            data.append(np.sum(pos_log_odds))\n",
      "            \n",
      "        dict_of_series_objects[seq_name] = pandas.Series(data=data, index=motif_names)\n",
      "        \n",
      "    return pandas.DataFrame.from_dict(dict_of_series_objects,orient='index')\n",
      "        "
     ],
     "language": "python",
     "metadata": {},
     "outputs": [],
     "prompt_number": 29
    },
    {
     "cell_type": "code",
     "collapsed": false,
     "input": [
      "df = get_score_dataframe(processed_MOODS_results)"
     ],
     "language": "python",
     "metadata": {},
     "outputs": [],
     "prompt_number": 30
    },
    {
     "cell_type": "code",
     "collapsed": false,
     "input": [
      "crap = df.boxplot()\n",
      "xticks(rotation=90)"
     ],
     "language": "python",
     "metadata": {},
     "outputs": [
      {
       "metadata": {},
       "output_type": "pyout",
       "prompt_number": 31,
       "text": [
        "(array([ 1,  2,  3,  4,  5,  6,  7,  8,  9, 10, 11, 12]),\n",
        " <a list of 12 Text xticklabel objects>)"
       ]
      },
      {
       "metadata": {},
       "output_type": "display_data",
       "png": "[encoded data removed]",
       "text": [
        "<matplotlib.figure.Figure at 0x7a65c90>"
       ]
      }
     ],
     "prompt_number": 31
    },
    {
     "cell_type": "markdown",
     "metadata": {},
     "source": [
      "#### Construct a new ``DataFrame`` object with the motif score values standardized accross all sequences:\n",
      "\n",
      "This way the each sequence's score for a particular motif represents enrichment or depletion with respect to how the motif behaved in the other sequences. "
     ]
    },
    {
     "cell_type": "code",
     "collapsed": false,
     "input": [
      "df_norm_mean = (df - df.mean())/df.std()"
     ],
     "language": "python",
     "metadata": {},
     "outputs": [],
     "prompt_number": 16
    },
    {
     "cell_type": "code",
     "collapsed": false,
     "input": [
      "crap = df_norm_mean.boxplot()\n",
      "xticks(rotation=90)"
     ],
     "language": "python",
     "metadata": {},
     "outputs": [
      {
       "metadata": {},
       "output_type": "pyout",
       "prompt_number": 17,
       "text": [
        "(array([ 1,  2,  3,  4,  5,  6,  7,  8,  9, 10, 11, 12]),\n",
        " <a list of 12 Text xticklabel objects>)"
       ]
      },
      {
       "metadata": {},
       "output_type": "display_data",
       "png": "[encoded data removed]",
       "text": [
        "<matplotlib.figure.Figure at 0x414fb50>"
       ]
      }
     ],
     "prompt_number": 17
    },
    {
     "cell_type": "code",
     "collapsed": false,
     "input": [
      "df_norm_median = (df - df.median())/df.std()"
     ],
     "language": "python",
     "metadata": {},
     "outputs": [],
     "prompt_number": 18
    },
    {
     "cell_type": "code",
     "collapsed": false,
     "input": [
      "crap = df_norm_median.boxplot()\n",
      "xticks(rotation=90)"
     ],
     "language": "python",
     "metadata": {},
     "outputs": [
      {
       "metadata": {},
       "output_type": "pyout",
       "prompt_number": 19,
       "text": [
        "(array([ 1,  2,  3,  4,  5,  6,  7,  8,  9, 10, 11, 12]),\n",
        " <a list of 12 Text xticklabel objects>)"
       ]
      },
      {
       "metadata": {},
       "output_type": "display_data",
       "png": "[encoded data removed]",
       "text": [
        "<matplotlib.figure.Figure at 0xa694750>"
       ]
      }
     ],
     "prompt_number": 19
    },
    {
     "cell_type": "markdown",
     "metadata": {},
     "source": [
      "### Runtime vs p-threhold:"
     ]
    },
    {
     "cell_type": "code",
     "collapsed": false,
     "input": [
      "mset1 = gmotifs.Motifs()\n",
      "mset1.set_both_strands(False)\n",
      "mset1.set_threshold(0.2)\n",
      "mset1.load_JASPAR_motifs('/home/gus/Dropbox/common/motif_databases/Jaspar_2012_05_20/Archive/Custom/EcR_team.txt')\n",
      "\n",
      "mset2 = gmotifs.Motifs()\n",
      "mset2.set_both_strands(False)\n",
      "mset2.set_threshold(0.1)\n",
      "mset2.load_JASPAR_motifs('/home/gus/Dropbox/common/motif_databases/Jaspar_2012_05_20/Archive/Custom/EcR_team.txt')\n",
      "\n",
      "mset3 = gmotifs.Motifs()\n",
      "mset3.set_both_strands(False)\n",
      "mset3.set_threshold(0.05)\n",
      "mset3.load_JASPAR_motifs('/home/gus/Dropbox/common/motif_databases/Jaspar_2012_05_20/Archive/Custom/EcR_team.txt')\n",
      "\n",
      "mset4 = gmotifs.Motifs()\n",
      "mset4.set_both_strands(False)\n",
      "mset4.set_threshold(0.025)\n",
      "mset4.load_JASPAR_motifs('/home/gus/Dropbox/common/motif_databases/Jaspar_2012_05_20/Archive/Custom/EcR_team.txt')\n",
      "\n",
      "mset5 = gmotifs.Motifs()\n",
      "mset5.set_both_strands(False)\n",
      "mset5.set_threshold(0.0125)\n",
      "mset5.load_JASPAR_motifs('/home/gus/Dropbox/common/motif_databases/Jaspar_2012_05_20/Archive/Custom/EcR_team.txt')"
     ],
     "language": "python",
     "metadata": {},
     "outputs": [],
     "prompt_number": 20
    },
    {
     "cell_type": "code",
     "collapsed": false,
     "input": [
      "hit_dict1 = mset1.scan_seqDict(fasta_dict)"
     ],
     "language": "python",
     "metadata": {},
     "outputs": [],
     "prompt_number": 26
    },
    {
     "cell_type": "code",
     "collapsed": false,
     "input": [
      "processed_MOODS_results1 = gmotifs.process_MOODS_results(hit_dict1,mset1.motifs.keys())"
     ],
     "language": "python",
     "metadata": {},
     "outputs": [],
     "prompt_number": 32
    },
    {
     "cell_type": "code",
     "collapsed": false,
     "input": [
      "test_series1 = pandas.Series(processed_MOODS_results1['AAEL011662-RA']['MA0460_1_ttk'])"
     ],
     "language": "python",
     "metadata": {},
     "outputs": [],
     "prompt_number": 38
    },
    {
     "cell_type": "markdown",
     "metadata": {},
     "source": [
      "%timeit -n 3 -r 3 hit_dict = mset2.scan_seqDict(fasta_dict)"
     ]
    },
    {
     "cell_type": "markdown",
     "metadata": {},
     "source": [
      "%timeit -n 3 -r 3 hit_dict = mset3.scan_seqDict(fasta_dict)"
     ]
    },
    {
     "cell_type": "markdown",
     "metadata": {},
     "source": [
      "%timeit -n 3 -r 3 hit_dict = mset4.scan_seqDict(fasta_dict)"
     ]
    },
    {
     "cell_type": "code",
     "collapsed": false,
     "input": [
      "hit_dict5 = mset5.scan_seqDict(fasta_dict)"
     ],
     "language": "python",
     "metadata": {},
     "outputs": [],
     "prompt_number": 27
    },
    {
     "cell_type": "code",
     "collapsed": false,
     "input": [
      "processed_MOODS_results5 = gmotifs.process_MOODS_results(hit_dict5,mset5.motifs.keys())"
     ],
     "language": "python",
     "metadata": {},
     "outputs": [],
     "prompt_number": 33
    },
    {
     "cell_type": "code",
     "collapsed": false,
     "input": [
      "test_series5 = pandas.Series(processed_MOODS_results5['AAEL011662-RA']['MA0460_1_ttk'])"
     ],
     "language": "python",
     "metadata": {},
     "outputs": [],
     "prompt_number": 39
    },
    {
     "cell_type": "code",
     "collapsed": false,
     "input": [
      "test_df1_5 = pandas.DataFrame({0.2:test_series1,0.0125:test_series5})"
     ],
     "language": "python",
     "metadata": {},
     "outputs": [],
     "prompt_number": 51
    },
    {
     "cell_type": "code",
     "collapsed": false,
     "input": [
      "test_df1_5.dropna().sum()"
     ],
     "language": "python",
     "metadata": {},
     "outputs": [
      {
       "metadata": {},
       "output_type": "pyout",
       "prompt_number": 64,
       "text": [
        "0.0125    32.907281\n",
        "0.2000    32.907281\n",
        "dtype: float64"
       ]
      }
     ],
     "prompt_number": 64
    },
    {
     "cell_type": "markdown",
     "metadata": {},
     "source": [
      "### 4: Function to save the dataframe in table format gfunc expects:"
     ]
    },
    {
     "cell_type": "code",
     "collapsed": false,
     "input": [
      "def save_dataframe_to_motif_table(dataframe, species, out_path):\n",
      "    \"\"\"\n",
      "    Headers:\n",
      "    seq_name,species,motif_name1,motif_name2,...,motif_nameN\n",
      "    \"\"\"\n",
      "    out = open(out_path,'w')\n",
      "    \n",
      "    motif_names = sorted(dataframe.columns)\n",
      "    seq_names = sorted(dataframe.axes[0])\n",
      "    \n",
      "    headers = 'seq_name\\tspecies\\t%s\\n' % ('\\t'.join(motif_names))\n",
      "    out.write( headers )\n",
      "    \n",
      "    for seq in seq_names:\n",
      "        out.write( '%s\\t%s\\t%s\\n' % (seq,species,'\\t'.join([ str(x) for x in dataframe.ix[seq] ])) )"
     ],
     "language": "python",
     "metadata": {},
     "outputs": [],
     "prompt_number": 65
    },
    {
     "cell_type": "code",
     "collapsed": false,
     "input": [
      "save_dataframe_to_motif_table(dataframe=df_norm_median, species='Aedes aegypti', out_path='/home/gus/Dropbox/common/projects/Aa_Ag_Cq_As/gfunc_stuff/motif_searches/test.motifs.tsv')"
     ],
     "language": "python",
     "metadata": {},
     "outputs": [],
     "prompt_number": 22
    },
    {
     "cell_type": "code",
     "collapsed": false,
     "input": [
      "motif_names = df_norm_median.columns"
     ],
     "language": "python",
     "metadata": {},
     "outputs": [],
     "prompt_number": 23
    },
    {
     "cell_type": "code",
     "collapsed": false,
     "input": [
      "df_norm_median.axes[0]"
     ],
     "language": "python",
     "metadata": {},
     "outputs": [
      {
       "metadata": {},
       "output_type": "pyout",
       "prompt_number": 24,
       "text": [
        "Index([AAEL000223-RA, AAEL000797-RA, AAEL000859-RA, AAEL001100-RA, AAEL001533-RA, AAEL001674-RA, AAEL001690-RA, AAEL001693-RA, AAEL001701-RA, AAEL001722-RA, AAEL001806-RA, AAEL001887-RB, AAEL002467-RA, AAEL002738-RA, AAEL002815-RA, AAEL002889-RA, AAEL002908-RA, AAEL003255-RA, AAEL003309-RA, AAEL003318-RA, AAEL003742-RA, AAEL004335-RA, AAEL005188-RA, AAEL005336-RA, AAEL005533-RA, AAEL006126-RB, AAEL006138-RA, AAEL006156-RA, AAEL006381-RA, AAEL006542-RA, AAEL006563-RA, AAEL006581-RA, AAEL006903-RA, AAEL007397-RA, AAEL007416-RA, AAEL007432-RA, AAEL007585-RA, AAEL007599-RA, AAEL007601-RA, AAEL007812-RA, AAEL008711-RA, AAEL008769-RA, AAEL008876-RA, AAEL009166-RA, AAEL009310-RA, AAEL009636-RB, AAEL009843-RA, AAEL010203-RA, AAEL010398-RA, AAEL010429-RA, AAEL010431-RA, AAEL010434-RA, AAEL010650-RA, AAEL011662-RA, AAEL011756-RA, AAEL012578-RA, AAEL013118-RA, AAEL013127-RB, AAEL013284-RA, AAEL013577-RA, AAEL013611-RA, AAEL013637-RA, AAEL013707-RA, AAEL013712-RA, AAEL013713-RA, AAEL013715-RA, AAEL013717-RA, AAEL014186-RA, AAEL014412-RA, AAEL014600-RA, AAEL015136-RA], dtype=object)"
       ]
      }
     ],
     "prompt_number": 24
    },
    {
     "cell_type": "code",
     "collapsed": false,
     "input": [
      "data = df['MA0460_1_ttk']"
     ],
     "language": "python",
     "metadata": {},
     "outputs": [],
     "prompt_number": 73
    },
    {
     "cell_type": "code",
     "collapsed": false,
     "input": [
      "min(data)"
     ],
     "language": "python",
     "metadata": {},
     "outputs": [
      {
       "metadata": {},
       "output_type": "pyout",
       "prompt_number": 70,
       "text": [
        "6.8514459916394195"
       ]
      }
     ],
     "prompt_number": 70
    },
    {
     "cell_type": "code",
     "collapsed": false,
     "input": [
      "data = data - min(data)"
     ],
     "language": "python",
     "metadata": {},
     "outputs": [],
     "prompt_number": 74
    },
    {
     "cell_type": "code",
     "collapsed": false,
     "input": [
      "hist(data)"
     ],
     "language": "python",
     "metadata": {},
     "outputs": [
      {
       "metadata": {},
       "output_type": "pyout",
       "prompt_number": 77,
       "text": [
        "(array([ 2,  2,  9, 11, 19,  9,  8,  3,  4,  4]),\n",
        " array([  0.        ,   5.47264843,  10.94529685,  16.41794528,\n",
        "        21.89059371,  27.36324214,  32.83589056,  38.30853899,\n",
        "        43.78118742,  49.25383585,  54.72648427]),\n",
        " <a list of 10 Patch objects>)"
       ]
      },
      {
       "metadata": {},
       "output_type": "display_data",
       "png": "[encoded data removed]",
       "text": [
        "<matplotlib.figure.Figure at 0x11cd4310>"
       ]
      }
     ],
     "prompt_number": 77
    },
    {
     "cell_type": "code",
     "collapsed": false,
     "input": [
      "std_data = (data - data.mean())/data.std() "
     ],
     "language": "python",
     "metadata": {},
     "outputs": [],
     "prompt_number": 78
    },
    {
     "cell_type": "code",
     "collapsed": false,
     "input": [
      "hist(std_data)"
     ],
     "language": "python",
     "metadata": {},
     "outputs": [
      {
       "metadata": {},
       "output_type": "pyout",
       "prompt_number": 79,
       "text": [
        "(array([ 2,  2,  9, 11, 19,  9,  8,  3,  4,  4]),\n",
        " array([-2.25572621, -1.7928564 , -1.3299866 , -0.86711679, -0.40424698,\n",
        "        0.05862283,  0.52149264,  0.98436244,  1.44723225,  1.91010206,\n",
        "        2.37297187]),\n",
        " <a list of 10 Patch objects>)"
       ]
      },
      {
       "metadata": {},
       "output_type": "display_data",
       "png": "[encoded data removed]",
       "text": [
        "<matplotlib.figure.Figure at 0x11a62e90>"
       ]
      }
     ],
     "prompt_number": 79
    },
    {
     "cell_type": "code",
     "collapsed": false,
     "input": [],
     "language": "python",
     "metadata": {},
     "outputs": []
    }
   ],
   "metadata": {}
  }
 ]
}