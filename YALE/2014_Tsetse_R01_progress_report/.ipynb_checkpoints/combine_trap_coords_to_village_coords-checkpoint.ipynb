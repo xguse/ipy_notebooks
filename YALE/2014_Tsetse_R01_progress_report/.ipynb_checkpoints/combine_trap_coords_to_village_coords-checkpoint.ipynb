{
 "metadata": {
  "name": "",
  "signature": "sha256:e66f3c9d5d606f90f31375c852a90f000c38ce6f844c1ecab562e09c9ed624bc"
 },
 "nbformat": 3,
 "nbformat_minor": 0,
 "worksheets": []
}