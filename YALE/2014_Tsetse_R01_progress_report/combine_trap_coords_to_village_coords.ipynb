{
 "metadata": {
  "kernelspec": {
   "codemirror_mode": {
    "name": "ipython",
    "version": 2
   },
   "display_name": "IPython (Python 2)",
   "language": "python",
   "name": "python2"
  },
  "name": "",
  "signature": "sha256:ad6caf3025c765b1cb3462a836c9b12bbe80f6ce80b01584a52668b4be264839"
 },
 "nbformat": 3,
 "nbformat_minor": 0,
 "worksheets": [
  {
   "cells": [
    {
     "cell_type": "heading",
     "level": 1,
     "metadata": {},
     "source": [
      "Purpose:"
     ]
    },
    {
     "cell_type": "markdown",
     "metadata": {},
     "source": [
      "Combine all GPS coord info for an entire village's trap set into a representative coord for display on maps."
     ]
    },
    {
     "cell_type": "heading",
     "level": 1,
     "metadata": {},
     "source": [
      "Rationale:"
     ]
    },
    {
     "cell_type": "markdown",
     "metadata": {},
     "source": [
      "`2014-11-01:` \n",
      "\n",
      "- Previously, I have been using a single trap GPS point to represent the village on the map.\n",
      "This has caused a problem that I noticed with the latest reports from Uganda (Fall 2014).\n",
      "One trap coord set is off substantially from the rest of Kitgum Town Council (KTC) traps, placing it an another  district __far__ away.\n",
      "\n",
      "- To avoid this issue in the future I will use the `median` of all traps labeled for each village."
     ]
    },
    {
     "cell_type": "heading",
     "level": 1,
     "metadata": {},
     "source": [
      "Code:"
     ]
    },
    {
     "cell_type": "heading",
     "level": 3,
     "metadata": {},
     "source": [
      "Load the GPS data."
     ]
    },
    {
     "cell_type": "code",
     "collapsed": false,
     "input": [
      "gps_files = ['/home/gus/Dropbox/uganda data/GIS/2014_ALL_TRAP_GPS.tsv']"
     ],
     "language": "python",
     "metadata": {},
     "outputs": [],
     "prompt_number": 1
    },
    {
     "cell_type": "code",
     "collapsed": false,
     "input": [],
     "language": "python",
     "metadata": {},
     "outputs": []
    }
   ],
   "metadata": {}
  }
 ]
}