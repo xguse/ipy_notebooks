{
 "cells": [
  {
   "cell_type": "code",
   "execution_count": 17,
   "metadata": {
    "collapsed": true
   },
   "outputs": [],
   "source": [
    "%matplotlib inline\n",
    "import pandas as pd\n",
    "import numpy as np\n",
    "import seaborn as sns\n",
    "import mpld3\n",
    "mpld3.enable_notebook()"
   ]
  },
  {
   "cell_type": "code",
   "execution_count": 1,
   "metadata": {
    "collapsed": false
   },
   "outputs": [
    {
     "name": "stdout",
     "output_type": "stream",
     "text": [
      "Main dataframe is dfp: and is only Gff.\n"
     ]
    }
   ],
   "source": [
    "# load the pandas db\n",
    "run /home/gus/Documents/YalePostDoc/project_stuff/g_f_fucipes_uganda/scripts/gff_pandas_database.py"
   ]
  },
  {
   "cell_type": "code",
   "execution_count": 2,
   "metadata": {
    "collapsed": false
   },
   "outputs": [
    {
     "data": {
      "text/plain": [
       "Village\n",
       "AIN    141\n",
       "CE       5\n",
       "DUK    125\n",
       "GAN     80\n",
       "JIA     30\n",
       "LEA     16\n",
       "MOP      1\n",
       "OLW      2\n",
       "ORB    100\n",
       "ORI      3\n",
       "ORV     21\n",
       "OSG     72\n",
       "WEN     68\n",
       "Name: Fly_Number, dtype: float64"
      ]
     },
     "execution_count": 2,
     "metadata": {},
     "output_type": "execute_result"
    }
   ],
   "source": [
    "northwest = [\"AIN\",\n",
    "             \"CE\",\n",
    "             \"DUK\",\n",
    "             \"GAN\",\n",
    "             \"JIA\",\n",
    "             \"LEA\",\n",
    "             \"MOP\",\n",
    "             \"OLW\",\n",
    "             \"ORB\",\n",
    "             \"ORI\",\n",
    "             \"ORV\",\n",
    "             \"OSG\",\n",
    "             \"WEN\",]\n",
    "northcentral = [\"ABO\",\n",
    "                \"ACA\",\n",
    "                \"AG\",\n",
    "                \"AKA\",\n",
    "                \"ALE\",\n",
    "                \"APU\",\n",
    "                \"MWA\",\n",
    "                \"OCA\",\n",
    "                \"OCL\",\n",
    "                \"OD\",\n",
    "                \"OGU\",\n",
    "                \"OLE\",\n",
    "                \"OPU\",\n",
    "                \"UWA\",]\n",
    "nw_mask = dfp.Village.apply(lambda x: x in northwest)\n",
    "nc_mask = dfp.Village.apply(lambda x: x in northcentral)\n",
    "nw = dfp[nw_mask]\n",
    "nc = dfp[nc_mask]"
   ]
  },
  {
   "cell_type": "code",
   "execution_count": 3,
   "metadata": {
    "collapsed": false
   },
   "outputs": [
    {
     "data": {
      "text/html": [
       "<div style=\"max-height:1000px;max-width:1500px;overflow:auto;\">\n",
       "<table border=\"1\" class=\"dataframe\">\n",
       "  <thead>\n",
       "    <tr style=\"text-align: right;\">\n",
       "      <th></th>\n",
       "      <th>Comment</th>\n",
       "      <th>Date</th>\n",
       "      <th>Dead</th>\n",
       "      <th>Fly_Number</th>\n",
       "      <th>Hunger_stage</th>\n",
       "      <th>Kept_in</th>\n",
       "      <th>Sex</th>\n",
       "      <th>Species</th>\n",
       "      <th>Teneral</th>\n",
       "      <th>Trap_No</th>\n",
       "      <th>Village</th>\n",
       "      <th>Wing_fray</th>\n",
       "      <th>infection_state</th>\n",
       "      <th>midgut</th>\n",
       "      <th>prob</th>\n",
       "      <th>sal_gland</th>\n",
       "      <th>workbook</th>\n",
       "      <th>worksheet</th>\n",
       "    </tr>\n",
       "  </thead>\n",
       "  <tbody>\n",
       "    <tr>\n",
       "      <th>0</th>\n",
       "      <td>NaN</td>\n",
       "      <td>2014-07-22</td>\n",
       "      <td>False</td>\n",
       "      <td>1</td>\n",
       "      <td>2</td>\n",
       "      <td>EtOH</td>\n",
       "      <td>F</td>\n",
       "      <td>Gff</td>\n",
       "      <td>False</td>\n",
       "      <td>1</td>\n",
       "      <td>UWA</td>\n",
       "      <td>2</td>\n",
       "      <td>False</td>\n",
       "      <td>False</td>\n",
       "      <td>False</td>\n",
       "      <td>False</td>\n",
       "      <td>2014_spring_summer_from_rob.xlsx</td>\n",
       "      <td>Dissection Data-Nwoya</td>\n",
       "    </tr>\n",
       "    <tr>\n",
       "      <th>1</th>\n",
       "      <td>NaN</td>\n",
       "      <td>2014-07-22</td>\n",
       "      <td>False</td>\n",
       "      <td>2</td>\n",
       "      <td>3</td>\n",
       "      <td>EtOH</td>\n",
       "      <td>F</td>\n",
       "      <td>Gff</td>\n",
       "      <td>False</td>\n",
       "      <td>1</td>\n",
       "      <td>UWA</td>\n",
       "      <td>2</td>\n",
       "      <td>False</td>\n",
       "      <td>False</td>\n",
       "      <td>False</td>\n",
       "      <td>False</td>\n",
       "      <td>2014_spring_summer_from_rob.xlsx</td>\n",
       "      <td>Dissection Data-Nwoya</td>\n",
       "    </tr>\n",
       "    <tr>\n",
       "      <th>2</th>\n",
       "      <td>NaN</td>\n",
       "      <td>2014-07-22</td>\n",
       "      <td>False</td>\n",
       "      <td>3</td>\n",
       "      <td>3</td>\n",
       "      <td>EtOH</td>\n",
       "      <td>M</td>\n",
       "      <td>Gff</td>\n",
       "      <td>False</td>\n",
       "      <td>1</td>\n",
       "      <td>UWA</td>\n",
       "      <td>2</td>\n",
       "      <td>False</td>\n",
       "      <td>False</td>\n",
       "      <td>False</td>\n",
       "      <td>False</td>\n",
       "      <td>2014_spring_summer_from_rob.xlsx</td>\n",
       "      <td>Dissection Data-Nwoya</td>\n",
       "    </tr>\n",
       "    <tr>\n",
       "      <th>3</th>\n",
       "      <td>NaN</td>\n",
       "      <td>2014-07-22</td>\n",
       "      <td>False</td>\n",
       "      <td>4</td>\n",
       "      <td>3</td>\n",
       "      <td>EtOH</td>\n",
       "      <td>M</td>\n",
       "      <td>Gff</td>\n",
       "      <td>False</td>\n",
       "      <td>1</td>\n",
       "      <td>UWA</td>\n",
       "      <td>2</td>\n",
       "      <td>False</td>\n",
       "      <td>False</td>\n",
       "      <td>False</td>\n",
       "      <td>False</td>\n",
       "      <td>2014_spring_summer_from_rob.xlsx</td>\n",
       "      <td>Dissection Data-Nwoya</td>\n",
       "    </tr>\n",
       "    <tr>\n",
       "      <th>4</th>\n",
       "      <td>NaN</td>\n",
       "      <td>2014-07-22</td>\n",
       "      <td>False</td>\n",
       "      <td>5</td>\n",
       "      <td>3</td>\n",
       "      <td>EtOH</td>\n",
       "      <td>M</td>\n",
       "      <td>Gff</td>\n",
       "      <td>False</td>\n",
       "      <td>1</td>\n",
       "      <td>UWA</td>\n",
       "      <td>2</td>\n",
       "      <td>False</td>\n",
       "      <td>False</td>\n",
       "      <td>False</td>\n",
       "      <td>False</td>\n",
       "      <td>2014_spring_summer_from_rob.xlsx</td>\n",
       "      <td>Dissection Data-Nwoya</td>\n",
       "    </tr>\n",
       "  </tbody>\n",
       "</table>\n",
       "</div>"
      ],
      "text/plain": [
       "  Comment       Date   Dead  Fly_Number Hunger_stage Kept_in Sex Species  \\\n",
       "0     NaN 2014-07-22  False           1            2    EtOH   F     Gff   \n",
       "1     NaN 2014-07-22  False           2            3    EtOH   F     Gff   \n",
       "2     NaN 2014-07-22  False           3            3    EtOH   M     Gff   \n",
       "3     NaN 2014-07-22  False           4            3    EtOH   M     Gff   \n",
       "4     NaN 2014-07-22  False           5            3    EtOH   M     Gff   \n",
       "\n",
       "  Teneral  Trap_No Village Wing_fray infection_state midgut   prob sal_gland  \\\n",
       "0   False        1     UWA         2           False  False  False     False   \n",
       "1   False        1     UWA         2           False  False  False     False   \n",
       "2   False        1     UWA         2           False  False  False     False   \n",
       "3   False        1     UWA         2           False  False  False     False   \n",
       "4   False        1     UWA         2           False  False  False     False   \n",
       "\n",
       "                           workbook              worksheet  \n",
       "0  2014_spring_summer_from_rob.xlsx  Dissection Data-Nwoya  \n",
       "1  2014_spring_summer_from_rob.xlsx  Dissection Data-Nwoya  \n",
       "2  2014_spring_summer_from_rob.xlsx  Dissection Data-Nwoya  \n",
       "3  2014_spring_summer_from_rob.xlsx  Dissection Data-Nwoya  \n",
       "4  2014_spring_summer_from_rob.xlsx  Dissection Data-Nwoya  "
      ]
     },
     "execution_count": 3,
     "metadata": {},
     "output_type": "execute_result"
    }
   ],
   "source": [
    "nc.head()"
   ]
  },
  {
   "cell_type": "code",
   "execution_count": 9,
   "metadata": {
    "collapsed": false
   },
   "outputs": [
    {
     "data": {
      "text/plain": [
       "array([u'OLW', u'OSG', u'DUK', u'JIA', u'GAN', u'AIN', u'ORV', u'WEN',\n",
       "       u'ORB', u'ORI', u'LEA', u'CE', u'MOP'], dtype=object)"
      ]
     },
     "execution_count": 9,
     "metadata": {},
     "output_type": "execute_result"
    }
   ],
   "source": [
    "nw.Village.unique()"
   ]
  },
  {
   "cell_type": "code",
   "execution_count": 8,
   "metadata": {
    "collapsed": false
   },
   "outputs": [],
   "source": [
    "nw_no_dead_or_teneral = nw.query(\"(Teneral == False)\" and \"(Dead == False)\").pivot_table(values='Fly_Number', index='Village', columns=None, aggfunc=len, fill_value=None, margins=False, dropna=True)\n",
    "nc_no_dead_or_teneral = nc.query(\"(Teneral == False)\" and \"(Dead == False)\").pivot_table(values='Fly_Number', index='Village', columns=None, aggfunc=len, fill_value=None, margins=False, dropna=True)"
   ]
  },
  {
   "cell_type": "code",
   "execution_count": 11,
   "metadata": {
    "collapsed": false
   },
   "outputs": [
    {
     "data": {
      "text/plain": [
       "Village\n",
       "AIN    141\n",
       "CE       5\n",
       "DUK    125\n",
       "GAN     80\n",
       "JIA     30\n",
       "LEA     16\n",
       "MOP      1\n",
       "OLW      2\n",
       "ORB    100\n",
       "ORI      3\n",
       "ORV     21\n",
       "OSG     72\n",
       "WEN     68\n",
       "Name: Fly_Number, dtype: float64"
      ]
     },
     "execution_count": 11,
     "metadata": {},
     "output_type": "execute_result"
    }
   ],
   "source": [
    "nw_no_dead_or_teneral"
   ]
  },
  {
   "cell_type": "code",
   "execution_count": 12,
   "metadata": {
    "collapsed": false
   },
   "outputs": [
    {
     "data": {
      "text/plain": [
       "Village\n",
       "ABO      5\n",
       "ACA    536\n",
       "AG      17\n",
       "AKA    382\n",
       "ALE     31\n",
       "APU     97\n",
       "MWA    223\n",
       "OCA    298\n",
       "OD     205\n",
       "OGU     28\n",
       "OLE     54\n",
       "OPU     16\n",
       "UWA    477\n",
       "Name: Fly_Number, dtype: float64"
      ]
     },
     "execution_count": 12,
     "metadata": {},
     "output_type": "execute_result"
    }
   ],
   "source": [
    "nc_no_dead_or_teneral"
   ]
  },
  {
   "cell_type": "code",
   "execution_count": 18,
   "metadata": {
    "collapsed": false
   },
   "outputs": [
    {
     "data": {
      "image/png": "[encoded data removed]",
      "text/html": [
       "\n",
       "\n",
       "<style>\n",
       "\n",
       "</style>\n",
       "\n",
       "<div id=\"fig_el198671396638861401765767560632\"></div>\n",
       "<script>\n",
       "function mpld3_load_lib(url, callback){\n",
       "  var s = document.createElement('script');\n",
       "  s.src = url;\n",
       "  s.async = true;\n",
       "  s.onreadystatechange = s.onload = callback;\n",
       "  s.onerror = function(){console.warn(\"failed to load library \" + url);};\n",
       "  document.getElementsByTagName(\"head\")[0].appendChild(s);\n",
       "}\n",
       "\n",
       "if(typeof(mpld3) !== \"undefined\" && mpld3._mpld3IsLoaded){\n",
       "   // already loaded: just create the figure\n",
       "   !function(mpld3){\n",
       "       \n",
       "       mpld3.draw_figure(\"fig_el198671396638861401765767560632\", {\"axes\": [{\"xlim\": [0.5, 1.5], \"yscale\": \"linear\", \"axesbg\": \"none\", \"texts\": [], \"zoomable\": true, \"images\": [], \"xdomain\": [0.5, 1.5], \"ylim\": [0.0, 600.0], \"paths\": [], \"sharey\": [], \"sharex\": [], \"axesbgalpha\": null, \"axes\": [{\"scale\": \"linear\", \"tickformat\": null, \"grid\": {\"gridOn\": false}, \"fontsize\": 10.0, \"position\": \"bottom\", \"nticks\": 1, \"tickvalues\": [1]}, {\"scale\": \"linear\", \"tickformat\": null, \"grid\": {\"color\": \"#FFFFFF\", \"alpha\": 1.0, \"dasharray\": \"10,0\", \"gridOn\": true}, \"fontsize\": 10.0, \"position\": \"left\", \"nticks\": 7, \"tickvalues\": null}], \"lines\": [{\"color\": \"#4B4B4B\", \"yindex\": 1, \"coordinates\": \"data\", \"dasharray\": \"10,0\", \"zorder\": 2, \"alpha\": 1, \"xindex\": 0, \"linewidth\": 1.5, \"data\": \"data01\", \"id\": \"el19867139663869931984\"}, {\"color\": \"#4B4B4B\", \"yindex\": 2, \"coordinates\": \"data\", \"dasharray\": \"10,0\", \"zorder\": 2, \"alpha\": 1, \"xindex\": 0, \"linewidth\": 1.5, \"data\": \"data01\", \"id\": \"el19867139663869932624\"}, {\"color\": \"#4B4B4B\", \"yindex\": 1, \"coordinates\": \"data\", \"dasharray\": \"10,0\", \"zorder\": 2, \"alpha\": 1, \"xindex\": 0, \"linewidth\": 1.5, \"data\": \"data02\", \"id\": \"el19867139663869934352\"}, {\"color\": \"#4B4B4B\", \"yindex\": 2, \"coordinates\": \"data\", \"dasharray\": \"10,0\", \"zorder\": 2, \"alpha\": 1, \"xindex\": 0, \"linewidth\": 1.5, \"data\": \"data02\", \"id\": \"el19867139663869981072\"}, {\"color\": \"#4B4B4B\", \"yindex\": 1, \"coordinates\": \"data\", \"dasharray\": \"10,0\", \"zorder\": 2, \"alpha\": 1, \"xindex\": 0, \"linewidth\": 1.5, \"data\": \"data03\", \"id\": \"el19867139663869982672\"}], \"markers\": [{\"edgecolor\": \"#4B4B4B\", \"facecolor\": \"#4B4B4B\", \"edgewidth\": 0.0, \"yindex\": 1, \"coordinates\": \"data\", \"zorder\": 2, \"markerpath\": [[[-9.992007221626408e-17, 2.1213203435596424], [1.2727922061357855, 0.0], [1.2212453270876723e-16, -2.1213203435596433], [-1.2727922061357853, -4.440892098500626e-16]], [\"M\", \"L\", \"L\", \"L\", \"Z\"]], \"alpha\": 1, \"xindex\": 0, \"data\": \"data04\", \"id\": \"el19867139663869984272pts\"}], \"id\": \"el19867139663886141136\", \"ydomain\": [0.0, 600.0], \"collections\": [], \"xscale\": \"linear\", \"bbox\": [0.125, 0.125, 0.77500000000000002, 0.77500000000000002]}], \"height\": 320.0, \"width\": 480.0, \"plugins\": [{\"type\": \"reset\"}, {\"enabled\": false, \"button\": true, \"type\": \"zoom\"}, {\"enabled\": false, \"button\": true, \"type\": \"boxzoom\"}], \"data\": {\"data04\": [], \"data02\": [[0.8, 5.0, 536.0], [1.2, 5.0, 536.0]], \"data03\": [[0.6, 97.0], [1.4, 97.0]], \"data01\": [[1.0, 28.0, 298.0], [1.0, 5.0, 536.0]]}, \"id\": \"el19867139663886140176\"});\n",
       "   }(mpld3);\n",
       "}else if(typeof define === \"function\" && define.amd){\n",
       "   // require.js is available: use it to load d3/mpld3\n",
       "   require.config({paths: {d3: \"https://mpld3.github.io/js/d3.v3.min\"}});\n",
       "   require([\"d3\"], function(d3){\n",
       "      window.d3 = d3;\n",
       "      mpld3_load_lib(\"https://mpld3.github.io/js/mpld3.v0.2.js\", function(){\n",
       "         \n",
       "         mpld3.draw_figure(\"fig_el198671396638861401765767560632\", {\"axes\": [{\"xlim\": [0.5, 1.5], \"yscale\": \"linear\", \"axesbg\": \"none\", \"texts\": [], \"zoomable\": true, \"images\": [], \"xdomain\": [0.5, 1.5], \"ylim\": [0.0, 600.0], \"paths\": [], \"sharey\": [], \"sharex\": [], \"axesbgalpha\": null, \"axes\": [{\"scale\": \"linear\", \"tickformat\": null, \"grid\": {\"gridOn\": false}, \"fontsize\": 10.0, \"position\": \"bottom\", \"nticks\": 1, \"tickvalues\": [1]}, {\"scale\": \"linear\", \"tickformat\": null, \"grid\": {\"color\": \"#FFFFFF\", \"alpha\": 1.0, \"dasharray\": \"10,0\", \"gridOn\": true}, \"fontsize\": 10.0, \"position\": \"left\", \"nticks\": 7, \"tickvalues\": null}], \"lines\": [{\"color\": \"#4B4B4B\", \"yindex\": 1, \"coordinates\": \"data\", \"dasharray\": \"10,0\", \"zorder\": 2, \"alpha\": 1, \"xindex\": 0, \"linewidth\": 1.5, \"data\": \"data01\", \"id\": \"el19867139663869931984\"}, {\"color\": \"#4B4B4B\", \"yindex\": 2, \"coordinates\": \"data\", \"dasharray\": \"10,0\", \"zorder\": 2, \"alpha\": 1, \"xindex\": 0, \"linewidth\": 1.5, \"data\": \"data01\", \"id\": \"el19867139663869932624\"}, {\"color\": \"#4B4B4B\", \"yindex\": 1, \"coordinates\": \"data\", \"dasharray\": \"10,0\", \"zorder\": 2, \"alpha\": 1, \"xindex\": 0, \"linewidth\": 1.5, \"data\": \"data02\", \"id\": \"el19867139663869934352\"}, {\"color\": \"#4B4B4B\", \"yindex\": 2, \"coordinates\": \"data\", \"dasharray\": \"10,0\", \"zorder\": 2, \"alpha\": 1, \"xindex\": 0, \"linewidth\": 1.5, \"data\": \"data02\", \"id\": \"el19867139663869981072\"}, {\"color\": \"#4B4B4B\", \"yindex\": 1, \"coordinates\": \"data\", \"dasharray\": \"10,0\", \"zorder\": 2, \"alpha\": 1, \"xindex\": 0, \"linewidth\": 1.5, \"data\": \"data03\", \"id\": \"el19867139663869982672\"}], \"markers\": [{\"edgecolor\": \"#4B4B4B\", \"facecolor\": \"#4B4B4B\", \"edgewidth\": 0.0, \"yindex\": 1, \"coordinates\": \"data\", \"zorder\": 2, \"markerpath\": [[[-9.992007221626408e-17, 2.1213203435596424], [1.2727922061357855, 0.0], [1.2212453270876723e-16, -2.1213203435596433], [-1.2727922061357853, -4.440892098500626e-16]], [\"M\", \"L\", \"L\", \"L\", \"Z\"]], \"alpha\": 1, \"xindex\": 0, \"data\": \"data04\", \"id\": \"el19867139663869984272pts\"}], \"id\": \"el19867139663886141136\", \"ydomain\": [0.0, 600.0], \"collections\": [], \"xscale\": \"linear\", \"bbox\": [0.125, 0.125, 0.77500000000000002, 0.77500000000000002]}], \"height\": 320.0, \"width\": 480.0, \"plugins\": [{\"type\": \"reset\"}, {\"enabled\": false, \"button\": true, \"type\": \"zoom\"}, {\"enabled\": false, \"button\": true, \"type\": \"boxzoom\"}], \"data\": {\"data04\": [], \"data02\": [[0.8, 5.0, 536.0], [1.2, 5.0, 536.0]], \"data03\": [[0.6, 97.0], [1.4, 97.0]], \"data01\": [[1.0, 28.0, 298.0], [1.0, 5.0, 536.0]]}, \"id\": \"el19867139663886140176\"});\n",
       "      });\n",
       "    });\n",
       "}else{\n",
       "    // require.js not available: dynamically load d3 & mpld3\n",
       "    mpld3_load_lib(\"https://mpld3.github.io/js/d3.v3.min.js\", function(){\n",
       "         mpld3_load_lib(\"https://mpld3.github.io/js/mpld3.v0.2.js\", function(){\n",
       "                 \n",
       "                 mpld3.draw_figure(\"fig_el198671396638861401765767560632\", {\"axes\": [{\"xlim\": [0.5, 1.5], \"yscale\": \"linear\", \"axesbg\": \"none\", \"texts\": [], \"zoomable\": true, \"images\": [], \"xdomain\": [0.5, 1.5], \"ylim\": [0.0, 600.0], \"paths\": [], \"sharey\": [], \"sharex\": [], \"axesbgalpha\": null, \"axes\": [{\"scale\": \"linear\", \"tickformat\": null, \"grid\": {\"gridOn\": false}, \"fontsize\": 10.0, \"position\": \"bottom\", \"nticks\": 1, \"tickvalues\": [1]}, {\"scale\": \"linear\", \"tickformat\": null, \"grid\": {\"color\": \"#FFFFFF\", \"alpha\": 1.0, \"dasharray\": \"10,0\", \"gridOn\": true}, \"fontsize\": 10.0, \"position\": \"left\", \"nticks\": 7, \"tickvalues\": null}], \"lines\": [{\"color\": \"#4B4B4B\", \"yindex\": 1, \"coordinates\": \"data\", \"dasharray\": \"10,0\", \"zorder\": 2, \"alpha\": 1, \"xindex\": 0, \"linewidth\": 1.5, \"data\": \"data01\", \"id\": \"el19867139663869931984\"}, {\"color\": \"#4B4B4B\", \"yindex\": 2, \"coordinates\": \"data\", \"dasharray\": \"10,0\", \"zorder\": 2, \"alpha\": 1, \"xindex\": 0, \"linewidth\": 1.5, \"data\": \"data01\", \"id\": \"el19867139663869932624\"}, {\"color\": \"#4B4B4B\", \"yindex\": 1, \"coordinates\": \"data\", \"dasharray\": \"10,0\", \"zorder\": 2, \"alpha\": 1, \"xindex\": 0, \"linewidth\": 1.5, \"data\": \"data02\", \"id\": \"el19867139663869934352\"}, {\"color\": \"#4B4B4B\", \"yindex\": 2, \"coordinates\": \"data\", \"dasharray\": \"10,0\", \"zorder\": 2, \"alpha\": 1, \"xindex\": 0, \"linewidth\": 1.5, \"data\": \"data02\", \"id\": \"el19867139663869981072\"}, {\"color\": \"#4B4B4B\", \"yindex\": 1, \"coordinates\": \"data\", \"dasharray\": \"10,0\", \"zorder\": 2, \"alpha\": 1, \"xindex\": 0, \"linewidth\": 1.5, \"data\": \"data03\", \"id\": \"el19867139663869982672\"}], \"markers\": [{\"edgecolor\": \"#4B4B4B\", \"facecolor\": \"#4B4B4B\", \"edgewidth\": 0.0, \"yindex\": 1, \"coordinates\": \"data\", \"zorder\": 2, \"markerpath\": [[[-9.992007221626408e-17, 2.1213203435596424], [1.2727922061357855, 0.0], [1.2212453270876723e-16, -2.1213203435596433], [-1.2727922061357853, -4.440892098500626e-16]], [\"M\", \"L\", \"L\", \"L\", \"Z\"]], \"alpha\": 1, \"xindex\": 0, \"data\": \"data04\", \"id\": \"el19867139663869984272pts\"}], \"id\": \"el19867139663886141136\", \"ydomain\": [0.0, 600.0], \"collections\": [], \"xscale\": \"linear\", \"bbox\": [0.125, 0.125, 0.77500000000000002, 0.77500000000000002]}], \"height\": 320.0, \"width\": 480.0, \"plugins\": [{\"type\": \"reset\"}, {\"enabled\": false, \"button\": true, \"type\": \"zoom\"}, {\"enabled\": false, \"button\": true, \"type\": \"boxzoom\"}], \"data\": {\"data04\": [], \"data02\": [[0.8, 5.0, 536.0], [1.2, 5.0, 536.0]], \"data03\": [[0.6, 97.0], [1.4, 97.0]], \"data01\": [[1.0, 28.0, 298.0], [1.0, 5.0, 536.0]]}, \"id\": \"el19867139663886140176\"});\n",
       "            })\n",
       "         });\n",
       "}\n",
       "</script>"
      ],
      "text/plain": [
       "<matplotlib.figure.Figure at 0x7f0608524310>"
      ]
     },
     "metadata": {},
     "output_type": "display_data"
    }
   ],
   "source": []
  },
  {
   "cell_type": "code",
   "execution_count": null,
   "metadata": {
    "collapsed": true
   },
   "outputs": [],
   "source": []
  }
 ],
 "metadata": {
  "kernelspec": {
   "display_name": "Python 2",
   "language": "python",
   "name": "python2"
  },
  "language_info": {
   "codemirror_mode": {
    "name": "ipython",
    "version": 2
   },
   "file_extension": ".py",
   "mimetype": "text/x-python",
   "name": "python",
   "nbconvert_exporter": "python",
   "pygments_lexer": "ipython2",
   "version": "2.7.9"
  }
 },
 "nbformat": 4,
 "nbformat_minor": 0
}
