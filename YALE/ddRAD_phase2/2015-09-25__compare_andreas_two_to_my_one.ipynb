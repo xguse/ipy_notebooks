{
 "cells": [
  {
   "cell_type": "code",
   "execution_count": 69,
   "metadata": {
    "collapsed": false
   },
   "outputs": [],
   "source": [
    "%matplotlib inline\n",
    "\n",
    "from __future__ import division\n",
    "\n",
    "import patsy\n",
    "import statsmodels as sms\n",
    "import statsmodels.formula.api as smf\n",
    "import sklearn as skl\n",
    "\n",
    "import pandas as pd\n",
    "pd.options.display.max_rows = 1000\n",
    "\n",
    "import ggplot as gg\n",
    "\n",
    "import numpy as np\n",
    "from matplotlib import pyplot as plt\n",
    "import seaborn as sns\n",
    "\n",
    "import munch\n"
   ]
  },
  {
   "cell_type": "markdown",
   "metadata": {},
   "source": [
    "# Directories with the STATS files for each run"
   ]
  },
  {
   "cell_type": "code",
   "execution_count": 2,
   "metadata": {
    "collapsed": true
   },
   "outputs": [],
   "source": [
    "stats_Sample_GfddRAD1_001 = '/home/gus/remote_mounts/bulldogn/data/projects/ddrad_phase1/output/pyrad/Sample_GfddRAD1_001/stats'\n",
    "stats_Sample_GfddRAD2_002 = '/home/gus/remote_mounts/bulldogn/data/projects/ddrad_phase1/output/pyrad/Sample_GfddRAD2_002/stats'\n",
    "\n",
    "stats_CHU_ORB_001 = '/home/gus/remote_mounts/louise_fast_scratch/ddrad/pyrad/CHU-ORB-1/stats'"
   ]
  },
  {
   "cell_type": "markdown",
   "metadata": {},
   "source": [
    "# Load step 2 stats: RAWEDIT"
   ]
  },
  {
   "cell_type": "code",
   "execution_count": 87,
   "metadata": {
    "collapsed": false
   },
   "outputs": [],
   "source": [
    "rawedit_Sample_GfddRAD1_001 = pd.read_table(stats_Sample_GfddRAD1_001+\"/s2.rawedit.txt\", skipfooter=6, engine='python')\n",
    "rawedit_Sample_GfddRAD2_002 = pd.read_table(stats_Sample_GfddRAD2_002+\"/s2.rawedit.txt\", skipfooter=6, engine='python')\n",
    "\n",
    "rawedit_CHU_ORB_001 = pd.read_table(stats_CHU_ORB_001+\"/s2.rawedit.txt\", skipfooter=6, engine='python')\n",
    "\n",
    "\n",
    "rawedit_Sample_GfddRAD1_001[\"run_id\"] = \"Sample_GfddRAD1_001\"\n",
    "rawedit_Sample_GfddRAD2_002[\"run_id\"] = \"Sample_GfddRAD2_002\"\n",
    "rawedit_CHU_ORB_001[\"run_id\"] = \"CHU_ORB_001\"\n",
    "\n",
    "rawedit_Sample_GfddRAD1_001[\"person\"] = \"andrea\"\n",
    "rawedit_Sample_GfddRAD2_002[\"person\"] = \"andrea\"\n",
    "rawedit_CHU_ORB_001[\"person\"] = \"gus\"\n",
    "\n",
    "rawedit = pd.concat([rawedit_Sample_GfddRAD1_001,\n",
    "                    rawedit_Sample_GfddRAD2_002,\n",
    "                    rawedit_CHU_ORB_001])"
   ]
  },
  {
   "cell_type": "code",
   "execution_count": 88,
   "metadata": {
    "collapsed": false
   },
   "outputs": [
    {
     "data": {
      "text/html": [
       "<div>\n",
       "<table border=\"1\" class=\"dataframe\">\n",
       "  <thead>\n",
       "    <tr style=\"text-align: right;\">\n",
       "      <th></th>\n",
       "      <th>sample</th>\n",
       "      <th>Nreads</th>\n",
       "      <th>exclude</th>\n",
       "      <th>trimmed</th>\n",
       "      <th>passed</th>\n",
       "      <th>run_id</th>\n",
       "      <th>person</th>\n",
       "    </tr>\n",
       "  </thead>\n",
       "  <tbody>\n",
       "    <tr>\n",
       "      <th>0</th>\n",
       "      <td>KG_10057</td>\n",
       "      <td>1300382</td>\n",
       "      <td>148894</td>\n",
       "      <td>57538</td>\n",
       "      <td>1151488</td>\n",
       "      <td>Sample_GfddRAD1_001</td>\n",
       "      <td>andrea</td>\n",
       "    </tr>\n",
       "    <tr>\n",
       "      <th>1</th>\n",
       "      <td>MS11_0015</td>\n",
       "      <td>1438639</td>\n",
       "      <td>122470</td>\n",
       "      <td>37529</td>\n",
       "      <td>1316169</td>\n",
       "      <td>Sample_GfddRAD1_001</td>\n",
       "      <td>andrea</td>\n",
       "    </tr>\n",
       "    <tr>\n",
       "      <th>2</th>\n",
       "      <td>OT11_0048</td>\n",
       "      <td>1583183</td>\n",
       "      <td>178368</td>\n",
       "      <td>76164</td>\n",
       "      <td>1404815</td>\n",
       "      <td>Sample_GfddRAD1_001</td>\n",
       "      <td>andrea</td>\n",
       "    </tr>\n",
       "    <tr>\n",
       "      <th>3</th>\n",
       "      <td>MS11_0014</td>\n",
       "      <td>1796236</td>\n",
       "      <td>213206</td>\n",
       "      <td>98636</td>\n",
       "      <td>1583030</td>\n",
       "      <td>Sample_GfddRAD1_001</td>\n",
       "      <td>andrea</td>\n",
       "    </tr>\n",
       "    <tr>\n",
       "      <th>4</th>\n",
       "      <td>NB_11019</td>\n",
       "      <td>1808280</td>\n",
       "      <td>186919</td>\n",
       "      <td>67172</td>\n",
       "      <td>1621361</td>\n",
       "      <td>Sample_GfddRAD1_001</td>\n",
       "      <td>andrea</td>\n",
       "    </tr>\n",
       "  </tbody>\n",
       "</table>\n",
       "</div>"
      ],
      "text/plain": [
       "      sample   Nreads  exclude  trimmed   passed               run_id  person\n",
       "0   KG_10057  1300382   148894    57538  1151488  Sample_GfddRAD1_001  andrea\n",
       "1  MS11_0015  1438639   122470    37529  1316169  Sample_GfddRAD1_001  andrea\n",
       "2  OT11_0048  1583183   178368    76164  1404815  Sample_GfddRAD1_001  andrea\n",
       "3  MS11_0014  1796236   213206    98636  1583030  Sample_GfddRAD1_001  andrea\n",
       "4   NB_11019  1808280   186919    67172  1621361  Sample_GfddRAD1_001  andrea"
      ]
     },
     "execution_count": 88,
     "metadata": {},
     "output_type": "execute_result"
    }
   ],
   "source": [
    "rawedit.head()"
   ]
  },
  {
   "cell_type": "markdown",
   "metadata": {},
   "source": [
    "# Test Step 2 stats (RAWEDIT)"
   ]
  },
  {
   "cell_type": "markdown",
   "metadata": {},
   "source": [
    "### A: Test differences by run_id (multinomial logistic regression)\n",
    "\n",
    "considering:\n",
    "- Nreads = total number of reads for a sample\n",
    "- trimmed = reads that had adapter trimmed but were kept\n",
    "- passed = total kept reads\n"
   ]
  },
  {
   "cell_type": "code",
   "execution_count": 85,
   "metadata": {
    "collapsed": false
   },
   "outputs": [
    {
     "name": "stdout",
     "output_type": "stream",
     "text": [
      "Optimization terminated successfully.\n",
      "         Current function value: 0.438450\n",
      "         Iterations 10\n",
      "                          MNLogit Regression Results                          \n",
      "==============================================================================\n",
      "Dep. Variable:                      y   No. Observations:                   72\n",
      "Model:                        MNLogit   Df Residuals:                       64\n",
      "Method:                           MLE   Df Model:                            6\n",
      "Date:                Fri, 25 Sep 2015   Pseudo R-squ.:                  0.6009\n",
      "Time:                        21:10:17   Log-Likelihood:                -31.568\n",
      "converged:                       True   LL-Null:                       -79.100\n",
      "                                        LLR p-value:                 2.682e-18\n",
      "=================================================================================================\n",
      "y=run_id[Sample_GfddRAD1_001]       coef    std err          z      P>|z|      [95.0% Conf. Int.]\n",
      "-------------------------------------------------------------------------------------------------\n",
      "Intercept                         8.1419      4.302      1.893      0.058        -0.289    16.573\n",
      "Nreads                        -7.074e-05   4.74e-05     -1.492      0.136        -0.000  2.22e-05\n",
      "passed                         7.379e-05   5.14e-05      1.435      0.151      -2.7e-05     0.000\n",
      "trimmed                        9.032e-05   4.75e-05      1.901      0.057     -2.81e-06     0.000\n",
      "-------------------------------------------------------------------------------------------------\n",
      "y=run_id[Sample_GfddRAD2_002]       coef    std err          z      P>|z|      [95.0% Conf. Int.]\n",
      "-------------------------------------------------------------------------------------------------\n",
      "Intercept                         6.6188      4.263      1.552      0.121        -1.737    14.975\n",
      "Nreads                        -5.979e-05   3.63e-05     -1.648      0.099        -0.000  1.13e-05\n",
      "passed                         6.309e-05   3.98e-05      1.583      0.113      -1.5e-05     0.000\n",
      "trimmed                        7.161e-05   3.12e-05      2.292      0.022      1.04e-05     0.000\n",
      "=================================================================================================\n",
      "       MNLogit Marginal Effects      \n",
      "=====================================\n",
      "Dep. Variable:                      y\n",
      "Method:                          dydx\n",
      "At:                           overall\n",
      "=================================================================================================\n",
      "        y=run_id[CHU_ORB_001]      dy/dx    std err          z      P>|z|      [95.0% Conf. Int.]\n",
      "-------------------------------------------------------------------------------------------------\n",
      "Nreads                         9.525e-07   4.69e-07      2.031      0.042      3.35e-08  1.87e-06\n",
      "passed                        -1.004e-06   5.24e-07     -1.916      0.055     -2.03e-06  2.33e-08\n",
      "trimmed                       -1.148e-06   2.88e-07     -3.983      0.000     -1.71e-06 -5.83e-07\n",
      "-------------------------------------------------------------------------------------------------\n",
      "y=run_id[Sample_GfddRAD1_001]      dy/dx    std err          z      P>|z|      [95.0% Conf. Int.]\n",
      "-------------------------------------------------------------------------------------------------\n",
      "Nreads                        -1.508e-06   4.01e-06     -0.376      0.707     -9.37e-06  6.36e-06\n",
      "passed                         1.479e-06   4.29e-06      0.345      0.730     -6.92e-06  9.88e-06\n",
      "trimmed                         2.54e-06   4.67e-06      0.544      0.586     -6.61e-06  1.17e-05\n",
      "-------------------------------------------------------------------------------------------------\n",
      "y=run_id[Sample_GfddRAD2_002]      dy/dx    std err          z      P>|z|      [95.0% Conf. Int.]\n",
      "-------------------------------------------------------------------------------------------------\n",
      "Nreads                         5.555e-07   4.02e-06      0.138      0.890     -7.32e-06  8.43e-06\n",
      "passed                        -4.754e-07   4.29e-06     -0.111      0.912     -8.89e-06  7.94e-06\n",
      "trimmed                       -1.393e-06   4.66e-06     -0.299      0.765     -1.05e-05  7.75e-06\n",
      "=================================================================================================\n"
     ]
    }
   ],
   "source": [
    "rawedit_mod1 = smf.mnlogit('run_id ~ Nreads + passed + trimmed', rawedit).fit()\n",
    "print rawedit_mod1.summary()\n",
    "print rawedit_mod1.get_margeff().summary()"
   ]
  },
  {
   "cell_type": "code",
   "execution_count": 118,
   "metadata": {
    "collapsed": false
   },
   "outputs": [
    {
     "data": {
      "image/png": "[encoded data removed]",
      "text/plain": [
       "<matplotlib.figure.Figure at 0x7f4a27630490>"
      ]
     },
     "metadata": {},
     "output_type": "display_data"
    }
   ],
   "source": [
    "sns.boxplot(x='run_id', y='trimmed',data=rawedit);"
   ]
  },
  {
   "cell_type": "code",
   "execution_count": 65,
   "metadata": {
    "collapsed": false
   },
   "outputs": [
    {
     "data": {
      "image/png": "[encoded data removed]",
      "text/plain": [
       "<matplotlib.figure.Figure at 0x7f4a281815d0>"
      ]
     },
     "metadata": {},
     "output_type": "display_data"
    }
   ],
   "source": [
    "sns.boxplot(x='run_id', y='Nreads',data=rawedit);"
   ]
  },
  {
   "cell_type": "code",
   "execution_count": 73,
   "metadata": {
    "collapsed": false
   },
   "outputs": [
    {
     "data": {
      "image/png": "[encoded data removed]",
      "text/plain": [
       "<matplotlib.figure.Figure at 0x7f4a278bb410>"
      ]
     },
     "metadata": {},
     "output_type": "display_data"
    }
   ],
   "source": [
    "sns.boxplot(x='run_id', y='trimmed_rate',data=rawedit);"
   ]
  },
  {
   "cell_type": "code",
   "execution_count": 127,
   "metadata": {
    "collapsed": false
   },
   "outputs": [
    {
     "data": {
      "image/png": "[encoded data removed]",
      "text/plain": [
       "<matplotlib.figure.Figure at 0x7f4a27606810>"
      ]
     },
     "metadata": {},
     "output_type": "display_data"
    }
   ],
   "source": [
    "sns.boxplot(x='run_id', y='passed',data=rawedit);"
   ]
  },
  {
   "cell_type": "markdown",
   "metadata": {},
   "source": [
    "### Lets normalize by Nreads:\n",
    "__`Trimmed` seems biased because total reads are not constant so lets normalize...__"
   ]
  },
  {
   "cell_type": "code",
   "execution_count": 128,
   "metadata": {
    "collapsed": true
   },
   "outputs": [],
   "source": [
    "rawedit[\"trimmed_rate\"] = rawedit.trimmed/rawedit.Nreads\n",
    "rawedit[\"passed_rate\"] = rawedit.passed/rawedit.Nreads"
   ]
  },
  {
   "cell_type": "code",
   "execution_count": 129,
   "metadata": {
    "collapsed": false
   },
   "outputs": [
    {
     "data": {
      "text/html": [
       "<div>\n",
       "<table border=\"1\" class=\"dataframe\">\n",
       "  <thead>\n",
       "    <tr style=\"text-align: right;\">\n",
       "      <th></th>\n",
       "      <th>sample</th>\n",
       "      <th>Nreads</th>\n",
       "      <th>exclude</th>\n",
       "      <th>trimmed</th>\n",
       "      <th>passed</th>\n",
       "      <th>run_id</th>\n",
       "      <th>person</th>\n",
       "      <th>trimmed_rate</th>\n",
       "      <th>passed_rate</th>\n",
       "    </tr>\n",
       "  </thead>\n",
       "  <tbody>\n",
       "    <tr>\n",
       "      <th>0</th>\n",
       "      <td>KG_10057</td>\n",
       "      <td>1300382</td>\n",
       "      <td>148894</td>\n",
       "      <td>57538</td>\n",
       "      <td>1151488</td>\n",
       "      <td>Sample_GfddRAD1_001</td>\n",
       "      <td>andrea</td>\n",
       "      <td>0.044247</td>\n",
       "      <td>0.885500</td>\n",
       "    </tr>\n",
       "    <tr>\n",
       "      <th>1</th>\n",
       "      <td>MS11_0015</td>\n",
       "      <td>1438639</td>\n",
       "      <td>122470</td>\n",
       "      <td>37529</td>\n",
       "      <td>1316169</td>\n",
       "      <td>Sample_GfddRAD1_001</td>\n",
       "      <td>andrea</td>\n",
       "      <td>0.026086</td>\n",
       "      <td>0.914871</td>\n",
       "    </tr>\n",
       "    <tr>\n",
       "      <th>2</th>\n",
       "      <td>OT11_0048</td>\n",
       "      <td>1583183</td>\n",
       "      <td>178368</td>\n",
       "      <td>76164</td>\n",
       "      <td>1404815</td>\n",
       "      <td>Sample_GfddRAD1_001</td>\n",
       "      <td>andrea</td>\n",
       "      <td>0.048108</td>\n",
       "      <td>0.887336</td>\n",
       "    </tr>\n",
       "    <tr>\n",
       "      <th>3</th>\n",
       "      <td>MS11_0014</td>\n",
       "      <td>1796236</td>\n",
       "      <td>213206</td>\n",
       "      <td>98636</td>\n",
       "      <td>1583030</td>\n",
       "      <td>Sample_GfddRAD1_001</td>\n",
       "      <td>andrea</td>\n",
       "      <td>0.054913</td>\n",
       "      <td>0.881304</td>\n",
       "    </tr>\n",
       "    <tr>\n",
       "      <th>4</th>\n",
       "      <td>NB_11019</td>\n",
       "      <td>1808280</td>\n",
       "      <td>186919</td>\n",
       "      <td>67172</td>\n",
       "      <td>1621361</td>\n",
       "      <td>Sample_GfddRAD1_001</td>\n",
       "      <td>andrea</td>\n",
       "      <td>0.037147</td>\n",
       "      <td>0.896632</td>\n",
       "    </tr>\n",
       "  </tbody>\n",
       "</table>\n",
       "</div>"
      ],
      "text/plain": [
       "      sample   Nreads  exclude  trimmed   passed               run_id  person  \\\n",
       "0   KG_10057  1300382   148894    57538  1151488  Sample_GfddRAD1_001  andrea   \n",
       "1  MS11_0015  1438639   122470    37529  1316169  Sample_GfddRAD1_001  andrea   \n",
       "2  OT11_0048  1583183   178368    76164  1404815  Sample_GfddRAD1_001  andrea   \n",
       "3  MS11_0014  1796236   213206    98636  1583030  Sample_GfddRAD1_001  andrea   \n",
       "4   NB_11019  1808280   186919    67172  1621361  Sample_GfddRAD1_001  andrea   \n",
       "\n",
       "   trimmed_rate  passed_rate  \n",
       "0      0.044247     0.885500  \n",
       "1      0.026086     0.914871  \n",
       "2      0.048108     0.887336  \n",
       "3      0.054913     0.881304  \n",
       "4      0.037147     0.896632  "
      ]
     },
     "execution_count": 129,
     "metadata": {},
     "output_type": "execute_result"
    }
   ],
   "source": [
    "rawedit.head()"
   ]
  },
  {
   "cell_type": "code",
   "execution_count": 133,
   "metadata": {
    "collapsed": false
   },
   "outputs": [
    {
     "name": "stdout",
     "output_type": "stream",
     "text": [
      "Optimization terminated successfully.\n",
      "         Current function value: 0.400533\n",
      "         Iterations 12\n",
      "                          MNLogit Regression Results                          \n",
      "==============================================================================\n",
      "Dep. Variable:                      y   No. Observations:                   72\n",
      "Model:                        MNLogit   Df Residuals:                       64\n",
      "Method:                           MLE   Df Model:                            6\n",
      "Date:                Fri, 25 Sep 2015   Pseudo R-squ.:                  0.6354\n",
      "Time:                        21:49:25   Log-Likelihood:                -28.838\n",
      "converged:                       True   LL-Null:                       -79.100\n",
      "                                        LLR p-value:                 1.951e-19\n",
      "=================================================================================================\n",
      "y=run_id[Sample_GfddRAD1_001]       coef    std err          z      P>|z|      [95.0% Conf. Int.]\n",
      "-------------------------------------------------------------------------------------------------\n",
      "Intercept                      -338.4986    237.820     -1.423      0.155      -804.617   127.619\n",
      "Nreads                        -2.187e-06   1.21e-06     -1.807      0.071     -4.56e-06  1.85e-07\n",
      "passed_rate                     373.5824    261.440      1.429      0.153      -138.830   885.995\n",
      "trimmed_rate                    502.2072    296.525      1.694      0.090       -78.971  1083.385\n",
      "-------------------------------------------------------------------------------------------------\n",
      "y=run_id[Sample_GfddRAD2_002]       coef    std err          z      P>|z|      [95.0% Conf. Int.]\n",
      "-------------------------------------------------------------------------------------------------\n",
      "Intercept                      -426.7119    223.385     -1.910      0.056      -864.538    11.114\n",
      "Nreads                        -1.402e-06   1.18e-06     -1.193      0.233     -3.71e-06  9.02e-07\n",
      "passed_rate                     467.6882    246.204      1.900      0.057       -14.862   950.238\n",
      "trimmed_rate                    550.5491    282.438      1.949      0.051        -3.020  1104.118\n",
      "=================================================================================================\n",
      "       MNLogit Marginal Effects      \n",
      "=====================================\n",
      "Dep. Variable:                      y\n",
      "Method:                          dydx\n",
      "At:                           overall\n",
      "=================================================================================================\n",
      "        y=run_id[CHU_ORB_001]      dy/dx    std err          z      P>|z|      [95.0% Conf. Int.]\n",
      "-------------------------------------------------------------------------------------------------\n",
      "Nreads                         2.145e-08   1.46e-08      1.465      0.143     -7.24e-09  5.01e-08\n",
      "passed_rate                      -6.3854      1.791     -3.566      0.000        -9.895    -2.876\n",
      "trimmed_rate                     -7.6519      2.123     -3.605      0.000       -11.812    -3.492\n",
      "-------------------------------------------------------------------------------------------------\n",
      "y=run_id[Sample_GfddRAD1_001]      dy/dx    std err          z      P>|z|      [95.0% Conf. Int.]\n",
      "-------------------------------------------------------------------------------------------------\n",
      "Nreads                        -9.668e-08    1.9e-08     -5.079      0.000     -1.34e-07 -5.94e-08\n",
      "passed_rate                     -10.2073      9.151     -1.115      0.265       -28.142     7.728\n",
      "trimmed_rate                     -4.5719     10.067     -0.454      0.650       -24.303    15.159\n",
      "-------------------------------------------------------------------------------------------------\n",
      "y=run_id[Sample_GfddRAD2_002]      dy/dx    std err          z      P>|z|      [95.0% Conf. Int.]\n",
      "-------------------------------------------------------------------------------------------------\n",
      "Nreads                         7.523e-08   2.19e-08      3.434      0.001      3.23e-08  1.18e-07\n",
      "passed_rate                      16.5928      8.883      1.868      0.062        -0.818    34.004\n",
      "trimmed_rate                     12.2238      9.968      1.226      0.220        -7.314    31.761\n",
      "=================================================================================================\n"
     ]
    }
   ],
   "source": [
    "rawedit_mod2 = smf.mnlogit('run_id ~ Nreads + passed_rate + trimmed_rate', rawedit).fit()\n",
    "print rawedit_mod2.summary()\n",
    "print rawedit_mod2.get_margeff().summary()"
   ]
  },
  {
   "cell_type": "markdown",
   "metadata": {},
   "source": [
    "### B: test differences by person (logistic regression)\n",
    "\n",
    "considering:\n",
    "- Nreads = total number of reads for a sample\n",
    "- trimmed = reads that had adapter trimmed but were kept\n",
    "- passed = total kept reads\n",
    "\n",
    "\n"
   ]
  },
  {
   "cell_type": "code",
   "execution_count": 102,
   "metadata": {
    "collapsed": false
   },
   "outputs": [
    {
     "data": {
      "text/html": [
       "<div>\n",
       "<table border=\"1\" class=\"dataframe\">\n",
       "  <thead>\n",
       "    <tr style=\"text-align: right;\">\n",
       "      <th></th>\n",
       "      <th>sample</th>\n",
       "      <th>Nreads</th>\n",
       "      <th>exclude</th>\n",
       "      <th>trimmed</th>\n",
       "      <th>passed</th>\n",
       "      <th>run_id</th>\n",
       "      <th>person</th>\n",
       "      <th>trimmed_rate</th>\n",
       "    </tr>\n",
       "  </thead>\n",
       "  <tbody>\n",
       "    <tr>\n",
       "      <th>0</th>\n",
       "      <td>KG_10057</td>\n",
       "      <td>1300382</td>\n",
       "      <td>148894</td>\n",
       "      <td>57538</td>\n",
       "      <td>1151488</td>\n",
       "      <td>Sample_GfddRAD1_001</td>\n",
       "      <td>andrea</td>\n",
       "      <td>0.044247</td>\n",
       "    </tr>\n",
       "    <tr>\n",
       "      <th>1</th>\n",
       "      <td>MS11_0015</td>\n",
       "      <td>1438639</td>\n",
       "      <td>122470</td>\n",
       "      <td>37529</td>\n",
       "      <td>1316169</td>\n",
       "      <td>Sample_GfddRAD1_001</td>\n",
       "      <td>andrea</td>\n",
       "      <td>0.026086</td>\n",
       "    </tr>\n",
       "    <tr>\n",
       "      <th>2</th>\n",
       "      <td>OT11_0048</td>\n",
       "      <td>1583183</td>\n",
       "      <td>178368</td>\n",
       "      <td>76164</td>\n",
       "      <td>1404815</td>\n",
       "      <td>Sample_GfddRAD1_001</td>\n",
       "      <td>andrea</td>\n",
       "      <td>0.048108</td>\n",
       "    </tr>\n",
       "    <tr>\n",
       "      <th>3</th>\n",
       "      <td>MS11_0014</td>\n",
       "      <td>1796236</td>\n",
       "      <td>213206</td>\n",
       "      <td>98636</td>\n",
       "      <td>1583030</td>\n",
       "      <td>Sample_GfddRAD1_001</td>\n",
       "      <td>andrea</td>\n",
       "      <td>0.054913</td>\n",
       "    </tr>\n",
       "    <tr>\n",
       "      <th>4</th>\n",
       "      <td>NB_11019</td>\n",
       "      <td>1808280</td>\n",
       "      <td>186919</td>\n",
       "      <td>67172</td>\n",
       "      <td>1621361</td>\n",
       "      <td>Sample_GfddRAD1_001</td>\n",
       "      <td>andrea</td>\n",
       "      <td>0.037147</td>\n",
       "    </tr>\n",
       "  </tbody>\n",
       "</table>\n",
       "</div>"
      ],
      "text/plain": [
       "      sample   Nreads  exclude  trimmed   passed               run_id  person  \\\n",
       "0   KG_10057  1300382   148894    57538  1151488  Sample_GfddRAD1_001  andrea   \n",
       "1  MS11_0015  1438639   122470    37529  1316169  Sample_GfddRAD1_001  andrea   \n",
       "2  OT11_0048  1583183   178368    76164  1404815  Sample_GfddRAD1_001  andrea   \n",
       "3  MS11_0014  1796236   213206    98636  1583030  Sample_GfddRAD1_001  andrea   \n",
       "4   NB_11019  1808280   186919    67172  1621361  Sample_GfddRAD1_001  andrea   \n",
       "\n",
       "   trimmed_rate  \n",
       "0      0.044247  \n",
       "1      0.026086  \n",
       "2      0.048108  \n",
       "3      0.054913  \n",
       "4      0.037147  "
      ]
     },
     "execution_count": 102,
     "metadata": {},
     "output_type": "execute_result"
    }
   ],
   "source": [
    "rawedit.head()"
   ]
  },
  {
   "cell_type": "code",
   "execution_count": 132,
   "metadata": {
    "collapsed": false
   },
   "outputs": [
    {
     "name": "stdout",
     "output_type": "stream",
     "text": [
      "Optimization terminated successfully.\n",
      "         Current function value: 0.048491\n",
      "         Iterations 13\n",
      "                          MNLogit Regression Results                          \n",
      "==============================================================================\n",
      "Dep. Variable:                      y   No. Observations:                   72\n",
      "Model:                        MNLogit   Df Residuals:                       68\n",
      "Method:                           MLE   Df Model:                            3\n",
      "Date:                Fri, 25 Sep 2015   Pseudo R-squ.:                  0.9238\n",
      "Time:                        21:48:36   Log-Likelihood:                -3.4914\n",
      "converged:                       True   LL-Null:                       -45.829\n",
      "                                        LLR p-value:                 3.047e-18\n",
      "=================================================================================\n",
      "y=person[gus]       coef    std err          z      P>|z|      [95.0% Conf. Int.]\n",
      "---------------------------------------------------------------------------------\n",
      "Intercept       429.6581    225.450      1.906      0.057       -12.216   871.532\n",
      "Nreads         1.505e-06   1.18e-06      1.280      0.201        -8e-07  3.81e-06\n",
      "passed_rate    -471.8186    248.570     -1.898      0.058      -959.007    15.370\n",
      "trimmed_rate   -553.8796    285.051     -1.943      0.052     -1112.570     4.811\n",
      "=================================================================================\n",
      "       MNLogit Marginal Effects      \n",
      "=====================================\n",
      "Dep. Variable:                      y\n",
      "Method:                          dydx\n",
      "At:                           overall\n",
      "=================================================================================\n",
      "y=person[andrea]      dy/dx    std err          z      P>|z|      [95.0% Conf. Int.]\n",
      "------------------------------------------------------------------------------------\n",
      "Nreads           -2.125e-08   1.49e-08     -1.427      0.154     -5.04e-08  7.94e-09\n",
      "passed_rate          6.6597      1.929      3.452      0.001         2.879    10.441\n",
      "trimmed_rate         7.8180      2.278      3.432      0.001         3.354    12.282\n",
      "------------------------------------------------------------------------------------\n",
      "y=person[gus]      dy/dx    std err          z      P>|z|      [95.0% Conf. Int.]\n",
      "---------------------------------------------------------------------------------\n",
      "Nreads         2.125e-08   1.49e-08      1.427      0.154     -7.94e-09  5.04e-08\n",
      "passed_rate      -6.6597      1.929     -3.452      0.001       -10.441    -2.879\n",
      "trimmed_rate     -7.8180      2.278     -3.432      0.001       -12.282    -3.354\n",
      "=================================================================================\n"
     ]
    }
   ],
   "source": [
    "rawedit_mod3 = smf.mnlogit('person ~ Nreads + passed_rate + trimmed_rate', rawedit).fit()\n",
    "print rawedit_mod3.summary()\n",
    "print rawedit_mod3.get_margeff().summary()"
   ]
  },
  {
   "cell_type": "code",
   "execution_count": 138,
   "metadata": {
    "collapsed": false
   },
   "outputs": [
    {
     "data": {
      "image/png": "[encoded data removed]",
      "text/plain": [
       "<matplotlib.figure.Figure at 0x7f4a26b8e5d0>"
      ]
     },
     "metadata": {},
     "output_type": "display_data"
    }
   ],
   "source": [
    "sns.boxplot(x='person', y='trimmed',data=rawedit);"
   ]
  },
  {
   "cell_type": "code",
   "execution_count": 120,
   "metadata": {
    "collapsed": false
   },
   "outputs": [
    {
     "data": {
      "image/png": "[encoded data removed]",
      "text/plain": [
       "<matplotlib.figure.Figure at 0x7f4a27630c10>"
      ]
     },
     "metadata": {},
     "output_type": "display_data"
    }
   ],
   "source": [
    "sns.boxplot(x='person', y='Nreads',data=rawedit);"
   ]
  },
  {
   "cell_type": "code",
   "execution_count": 121,
   "metadata": {
    "collapsed": false
   },
   "outputs": [
    {
     "data": {
      "image/png": "[encoded data removed]",
      "text/plain": [
       "<matplotlib.figure.Figure at 0x7f4a27528590>"
      ]
     },
     "metadata": {},
     "output_type": "display_data"
    }
   ],
   "source": [
    "sns.boxplot(x='person', y='trimmed_rate',data=rawedit);"
   ]
  },
  {
   "cell_type": "code",
   "execution_count": 124,
   "metadata": {
    "collapsed": false
   },
   "outputs": [
    {
     "data": {
      "text/plain": [
       "person\n",
       "andrea    2612070\n",
       "gus       7339407\n",
       "Name: Nreads, dtype: int64"
      ]
     },
     "execution_count": 124,
     "metadata": {},
     "output_type": "execute_result"
    }
   ],
   "source": [
    "rawedit.pivot_table(values='Nreads', \n",
    "                    index='person', \n",
    "                    columns=None, \n",
    "                    aggfunc='mean', fill_value=None, margins=False, dropna=True)"
   ]
  },
  {
   "cell_type": "code",
   "execution_count": 136,
   "metadata": {
    "collapsed": false
   },
   "outputs": [
    {
     "data": {
      "text/plain": [
       "2.809804867404013"
      ]
     },
     "execution_count": 136,
     "metadata": {},
     "output_type": "execute_result"
    }
   ],
   "source": [
    "7339407/2612070"
   ]
  },
  {
   "cell_type": "code",
   "execution_count": 126,
   "metadata": {
    "collapsed": false
   },
   "outputs": [
    {
     "data": {
      "text/plain": [
       "person\n",
       "andrea    2339775\n",
       "gus       6444640\n",
       "Name: passed, dtype: int64"
      ]
     },
     "execution_count": 126,
     "metadata": {},
     "output_type": "execute_result"
    }
   ],
   "source": [
    "rawedit.pivot_table(values='passed', \n",
    "                    index='person', \n",
    "                    columns=None, \n",
    "                    aggfunc='mean', fill_value=None, margins=False, dropna=True)"
   ]
  },
  {
   "cell_type": "code",
   "execution_count": 137,
   "metadata": {
    "collapsed": false
   },
   "outputs": [
    {
     "data": {
      "text/plain": [
       "2.7543845027833873"
      ]
     },
     "execution_count": 137,
     "metadata": {},
     "output_type": "execute_result"
    }
   ],
   "source": [
    "6444640/2339775"
   ]
  },
  {
   "cell_type": "code",
   "execution_count": null,
   "metadata": {
    "collapsed": true
   },
   "outputs": [],
   "source": []
  }
 ],
 "metadata": {
  "kernelspec": {
   "display_name": "Python 2",
   "language": "python2",
   "name": "python2"
  },
  "language_info": {
   "codemirror_mode": {
    "name": "ipython",
    "version": 2
   },
   "file_extension": ".py",
   "mimetype": "text/x-python",
   "name": "python",
   "nbconvert_exporter": "python",
   "pygments_lexer": "ipython2",
   "version": "2.7.10"
  }
 },
 "nbformat": 4,
 "nbformat_minor": 0
}
