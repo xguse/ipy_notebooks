{
 "cells": [
  {
   "cell_type": "code",
   "execution_count": 1,
   "metadata": {
    "collapsed": true
   },
   "outputs": [],
   "source": [
    "import pandas as pd\n",
    "pd.set_option('display.max_rows', 500)\n",
    "pd.set_option('display.max_columns', 500)\n",
    "from pandas import ExcelWriter\n",
    "\n",
    "import numpy as np\n",
    "import datetime as dt\n",
    "\n",
    "import re"
   ]
  },
  {
   "cell_type": "code",
   "execution_count": 2,
   "metadata": {
    "collapsed": true
   },
   "outputs": [],
   "source": [
    "# name the output file for the tables\n",
    "tables_out = \"/home/gus/MEGAsync/zim/main/Yale/Projects/G_pallidipes/Reports/2015_grant_report/Sampling_Map_and_Tables/Sampling_Tables/crosssectional_tables_draft_2.xls\"\n",
    "\n",
    "table_writer = ExcelWriter(tables_out)"
   ]
  },
  {
   "cell_type": "code",
   "execution_count": 3,
   "metadata": {
    "collapsed": true
   },
   "outputs": [],
   "source": [
    "main_table = pd.read_excel('/home/gus/Documents/YalePostDoc/project_stuff/G_pallidipes_kenya/gpd_combined_datatable_refined_2015-09-26_KENYA.xls')"
   ]
  },
  {
   "cell_type": "code",
   "execution_count": 4,
   "metadata": {
    "collapsed": true
   },
   "outputs": [],
   "source": [
    "yyyy = re.compile(r'\\b[12]\\d\\d\\d\\b')\n",
    "def get_YEAR(x):\n",
    "    \n",
    "    unknown = 'Unk.'\n",
    "    \n",
    "    if isinstance(x,dt.datetime):\n",
    "        return x.year\n",
    "    \n",
    "    if str(x) == 'nan':\n",
    "        return unknown\n",
    "    \n",
    "    if isinstance(x,(str,unicode)):\n",
    "        matches = yyyy.findall(x)\n",
    "        if len(matches) == 0:\n",
    "            return unknown\n",
    "        else:\n",
    "            return int(matches[0])\n",
    "    else:\n",
    "        raise ValueError"
   ]
  },
  {
   "cell_type": "code",
   "execution_count": 5,
   "metadata": {
    "collapsed": false
   },
   "outputs": [
    {
     "data": {
      "text/html": [
       "<div>\n",
       "<table border=\"1\" class=\"dataframe\">\n",
       "  <thead>\n",
       "    <tr style=\"text-align: right;\">\n",
       "      <th></th>\n",
       "      <th>YEAR</th>\n",
       "      <th>DATE</th>\n",
       "    </tr>\n",
       "  </thead>\n",
       "  <tbody>\n",
       "    <tr>\n",
       "      <th>18</th>\n",
       "      <td>Unk.</td>\n",
       "      <td>NaN</td>\n",
       "    </tr>\n",
       "    <tr>\n",
       "      <th>19</th>\n",
       "      <td>Unk.</td>\n",
       "      <td>NaN</td>\n",
       "    </tr>\n",
       "    <tr>\n",
       "      <th>20</th>\n",
       "      <td>2003</td>\n",
       "      <td>2003-04-25 00:00:00</td>\n",
       "    </tr>\n",
       "  </tbody>\n",
       "</table>\n",
       "</div>"
      ],
      "text/plain": [
       "    YEAR                 DATE\n",
       "18  Unk.                  NaN\n",
       "19  Unk.                  NaN\n",
       "20  2003  2003-04-25 00:00:00"
      ]
     },
     "execution_count": 5,
     "metadata": {},
     "output_type": "execute_result"
    }
   ],
   "source": [
    "# recode DATE to be string of year or Unk.\n",
    "\n",
    "main_table[\"YEAR\"] = main_table.DATE.apply(get_YEAR)\n",
    "main_table[[\"YEAR\",\"DATE\"]][18:21]"
   ]
  },
  {
   "cell_type": "code",
   "execution_count": 6,
   "metadata": {
    "collapsed": false
   },
   "outputs": [
    {
     "data": {
      "text/html": [
       "<div>\n",
       "<table border=\"1\" class=\"dataframe\">\n",
       "  <thead>\n",
       "    <tr style=\"text-align: right;\">\n",
       "      <th></th>\n",
       "      <th>RECORD_SOURCE</th>\n",
       "      <th>LOCATION_LONG</th>\n",
       "      <th>SITE_GROUP</th>\n",
       "      <th>COUNTRY</th>\n",
       "      <th>TRAP_NUMBER</th>\n",
       "      <th>DATE</th>\n",
       "      <th>SPECIES</th>\n",
       "      <th>SEX</th>\n",
       "      <th>TENERAL</th>\n",
       "      <th>DEAD</th>\n",
       "      <th>FLY_NUMBER</th>\n",
       "      <th>HUNGER_STAGE</th>\n",
       "      <th>WING_FRAY</th>\n",
       "      <th>PROBOSCIS_TRYPS</th>\n",
       "      <th>MIDGUT_TRYPS</th>\n",
       "      <th>SALIVARY_GLAND_TRYPS</th>\n",
       "      <th>KEPT_IN</th>\n",
       "      <th>KEPT_IN_SIMPLE</th>\n",
       "      <th>COMMENT</th>\n",
       "      <th>TUBE_OR_BOX</th>\n",
       "      <th>METHOD_OF_PREPARATION</th>\n",
       "      <th>BOX_NUMBER_ID</th>\n",
       "      <th>SOURCE</th>\n",
       "      <th>LATITUDE</th>\n",
       "      <th>LONGITUDE</th>\n",
       "      <th>ELEVATION</th>\n",
       "      <th>INFECTION</th>\n",
       "      <th>TISSUE</th>\n",
       "      <th>TISSUE_OR_DNA</th>\n",
       "      <th>DERIVATIVE</th>\n",
       "      <th>YEAR</th>\n",
       "    </tr>\n",
       "  </thead>\n",
       "  <tbody>\n",
       "    <tr>\n",
       "      <th>0</th>\n",
       "      <td>Not Sure</td>\n",
       "      <td>Nguruman, Kattekani, Kenya</td>\n",
       "      <td>Nguruman</td>\n",
       "      <td>KENYA</td>\n",
       "      <td>NONE</td>\n",
       "      <td>NaN</td>\n",
       "      <td>Gpd</td>\n",
       "      <td>Unk.</td>\n",
       "      <td>NaN</td>\n",
       "      <td>NaN</td>\n",
       "      <td>1</td>\n",
       "      <td>NaN</td>\n",
       "      <td>NaN</td>\n",
       "      <td>NaN</td>\n",
       "      <td>NaN</td>\n",
       "      <td>NONE</td>\n",
       "      <td>NONE</td>\n",
       "      <td>Unk.</td>\n",
       "      <td>NaN</td>\n",
       "      <td>box</td>\n",
       "      <td>NONE</td>\n",
       "      <td>3</td>\n",
       "      <td>-80 Freezer</td>\n",
       "      <td>NONE</td>\n",
       "      <td>NONE</td>\n",
       "      <td>NONE</td>\n",
       "      <td>NONE</td>\n",
       "      <td>NONE</td>\n",
       "      <td>DNA</td>\n",
       "      <td>gDNA</td>\n",
       "      <td>Unk.</td>\n",
       "    </tr>\n",
       "    <tr>\n",
       "      <th>1</th>\n",
       "      <td>Not Sure</td>\n",
       "      <td>Nguruman, Kattekani, Kenya</td>\n",
       "      <td>Nguruman</td>\n",
       "      <td>KENYA</td>\n",
       "      <td>NONE</td>\n",
       "      <td>NaN</td>\n",
       "      <td>Gpd</td>\n",
       "      <td>Unk.</td>\n",
       "      <td>NaN</td>\n",
       "      <td>NaN</td>\n",
       "      <td>2</td>\n",
       "      <td>NaN</td>\n",
       "      <td>NaN</td>\n",
       "      <td>NaN</td>\n",
       "      <td>NaN</td>\n",
       "      <td>NONE</td>\n",
       "      <td>NONE</td>\n",
       "      <td>Unk.</td>\n",
       "      <td>NaN</td>\n",
       "      <td>box</td>\n",
       "      <td>NONE</td>\n",
       "      <td>3</td>\n",
       "      <td>-80 Freezer</td>\n",
       "      <td>NONE</td>\n",
       "      <td>NONE</td>\n",
       "      <td>NONE</td>\n",
       "      <td>NONE</td>\n",
       "      <td>NONE</td>\n",
       "      <td>DNA</td>\n",
       "      <td>gDNA</td>\n",
       "      <td>Unk.</td>\n",
       "    </tr>\n",
       "  </tbody>\n",
       "</table>\n",
       "</div>"
      ],
      "text/plain": [
       "  RECORD_SOURCE               LOCATION_LONG SITE_GROUP COUNTRY TRAP_NUMBER  \\\n",
       "0      Not Sure  Nguruman, Kattekani, Kenya   Nguruman   KENYA        NONE   \n",
       "1      Not Sure  Nguruman, Kattekani, Kenya   Nguruman   KENYA        NONE   \n",
       "\n",
       "  DATE SPECIES   SEX  TENERAL  DEAD FLY_NUMBER  HUNGER_STAGE  WING_FRAY  \\\n",
       "0  NaN     Gpd  Unk.      NaN   NaN          1           NaN        NaN   \n",
       "1  NaN     Gpd  Unk.      NaN   NaN          2           NaN        NaN   \n",
       "\n",
       "   PROBOSCIS_TRYPS MIDGUT_TRYPS SALIVARY_GLAND_TRYPS KEPT_IN KEPT_IN_SIMPLE  \\\n",
       "0              NaN          NaN                 NONE    NONE           Unk.   \n",
       "1              NaN          NaN                 NONE    NONE           Unk.   \n",
       "\n",
       "  COMMENT TUBE_OR_BOX METHOD_OF_PREPARATION BOX_NUMBER_ID       SOURCE  \\\n",
       "0     NaN         box                  NONE             3  -80 Freezer   \n",
       "1     NaN         box                  NONE             3  -80 Freezer   \n",
       "\n",
       "  LATITUDE LONGITUDE ELEVATION INFECTION TISSUE TISSUE_OR_DNA DERIVATIVE  YEAR  \n",
       "0     NONE      NONE      NONE      NONE   NONE           DNA       gDNA  Unk.  \n",
       "1     NONE      NONE      NONE      NONE   NONE           DNA       gDNA  Unk.  "
      ]
     },
     "execution_count": 6,
     "metadata": {},
     "output_type": "execute_result"
    }
   ],
   "source": [
    "# recode SEX so NaN becomes string rather than Not_a_Number object \n",
    "# and questioned values like 'M (?)' are explicitly set to UNKNOWN\n",
    "\n",
    "main_table.SEX = main_table.SEX.apply(lambda x: 'Unk.' if ((str(x) == 'nan') or '?' in x)  else x )\n",
    "main_table.head(2)"
   ]
  },
  {
   "cell_type": "code",
   "execution_count": 7,
   "metadata": {
    "collapsed": false
   },
   "outputs": [],
   "source": [
    "# get table of just Gpd flies\n",
    "gpd = main_table.query(\"SPECIES == 'Gpd'\")"
   ]
  },
  {
   "cell_type": "code",
   "execution_count": 8,
   "metadata": {
    "collapsed": false
   },
   "outputs": [],
   "source": [
    "# get Gpd with no question about site_group\n",
    "gpd_noQ = gpd[gpd.SITE_GROUP.apply(lambda x: True if \"?\" not in x else False)]\n",
    "# gpd_noQ.head()"
   ]
  },
  {
   "cell_type": "markdown",
   "metadata": {},
   "source": [
    "# Kenya overall: "
   ]
  },
  {
   "cell_type": "markdown",
   "metadata": {},
   "source": [
    "### Remove brian's 2015 data from THIS data and number of SITES that make up SITE_GROUP"
   ]
  },
  {
   "cell_type": "code",
   "execution_count": 9,
   "metadata": {
    "collapsed": true
   },
   "outputs": [],
   "source": [
    "kenya_final = gpd_noQ.query(''' YEAR != (2015,'Unk.') ''')"
   ]
  },
  {
   "cell_type": "code",
   "execution_count": 28,
   "metadata": {
    "collapsed": true
   },
   "outputs": [],
   "source": [
    "def get_SITE_GROUP_Ns(x, df):\n",
    "    site_group = \"\"\" SITE_GROUP == \"{x}\" \"\"\".format(x=x)\n",
    "    sites_len = len(kenya_final.query(site_group)['LOCATION_LONG'].unique())\n",
    "    return \"\"\"{x} ({sites_len})\"\"\".format(x=x, sites_len=sites_len)"
   ]
  },
  {
   "cell_type": "code",
   "execution_count": 29,
   "metadata": {
    "collapsed": false
   },
   "outputs": [
    {
     "ename": "SyntaxError",
     "evalue": "invalid syntax (<unknown>, line 1)",
     "output_type": "error",
     "traceback": [
      "\u001b[1;36m  File \u001b[1;32m\"<unknown>\"\u001b[1;36m, line \u001b[1;32m1\u001b[0m\n\u001b[1;33m    SITE_GROUP =='Leugong'u '\u001b[0m\n\u001b[1;37m                          ^\u001b[0m\n\u001b[1;31mSyntaxError\u001b[0m\u001b[1;31m:\u001b[0m invalid syntax\n"
     ]
    }
   ],
   "source": [
    "kenya_final['SITE_GROUPS_N'] = kenya_final.SITE_GROUP.apply(lambda x: get_SITE_GROUP_Ns(x=x,df=kenya_final))"
   ]
  },
  {
   "cell_type": "code",
   "execution_count": null,
   "metadata": {
    "collapsed": true
   },
   "outputs": [],
   "source": []
  },
  {
   "cell_type": "code",
   "execution_count": 10,
   "metadata": {
    "collapsed": false
   },
   "outputs": [
    {
     "data": {
      "text/html": [
       "<div>\n",
       "<table border=\"1\" class=\"dataframe\">\n",
       "  <thead>\n",
       "    <tr>\n",
       "      <th>YEAR</th>\n",
       "      <th>2000</th>\n",
       "      <th>2001</th>\n",
       "      <th>2002</th>\n",
       "      <th>2003</th>\n",
       "      <th colspan=\"2\" halign=\"left\">2009</th>\n",
       "      <th>2010</th>\n",
       "      <th>All</th>\n",
       "    </tr>\n",
       "    <tr>\n",
       "      <th>TISSUE_OR_DNA</th>\n",
       "      <th>DNA</th>\n",
       "      <th>DNA</th>\n",
       "      <th>DNA</th>\n",
       "      <th>DNA</th>\n",
       "      <th>DNA</th>\n",
       "      <th>Tissue</th>\n",
       "      <th>Tissue</th>\n",
       "      <th></th>\n",
       "    </tr>\n",
       "    <tr>\n",
       "      <th>SITE_GROUP</th>\n",
       "      <th></th>\n",
       "      <th></th>\n",
       "      <th></th>\n",
       "      <th></th>\n",
       "      <th></th>\n",
       "      <th></th>\n",
       "      <th></th>\n",
       "      <th></th>\n",
       "    </tr>\n",
       "  </thead>\n",
       "  <tbody>\n",
       "    <tr>\n",
       "      <th>Galana</th>\n",
       "      <td>120</td>\n",
       "      <td>0</td>\n",
       "      <td>0</td>\n",
       "      <td>0</td>\n",
       "      <td>0</td>\n",
       "      <td>0</td>\n",
       "      <td>0</td>\n",
       "      <td>120</td>\n",
       "    </tr>\n",
       "    <tr>\n",
       "      <th>Kabunkanga</th>\n",
       "      <td>0</td>\n",
       "      <td>0</td>\n",
       "      <td>0</td>\n",
       "      <td>0</td>\n",
       "      <td>0</td>\n",
       "      <td>0</td>\n",
       "      <td>14</td>\n",
       "      <td>14</td>\n",
       "    </tr>\n",
       "    <tr>\n",
       "      <th>Kalema</th>\n",
       "      <td>18</td>\n",
       "      <td>0</td>\n",
       "      <td>0</td>\n",
       "      <td>0</td>\n",
       "      <td>0</td>\n",
       "      <td>0</td>\n",
       "      <td>0</td>\n",
       "      <td>18</td>\n",
       "    </tr>\n",
       "    <tr>\n",
       "      <th>Kapesur</th>\n",
       "      <td>0</td>\n",
       "      <td>0</td>\n",
       "      <td>0</td>\n",
       "      <td>0</td>\n",
       "      <td>102</td>\n",
       "      <td>41</td>\n",
       "      <td>0</td>\n",
       "      <td>143</td>\n",
       "    </tr>\n",
       "    <tr>\n",
       "      <th>Kathekani</th>\n",
       "      <td>56</td>\n",
       "      <td>0</td>\n",
       "      <td>0</td>\n",
       "      <td>0</td>\n",
       "      <td>0</td>\n",
       "      <td>0</td>\n",
       "      <td>0</td>\n",
       "      <td>56</td>\n",
       "    </tr>\n",
       "    <tr>\n",
       "      <th>Ketri Insectary</th>\n",
       "      <td>0</td>\n",
       "      <td>0</td>\n",
       "      <td>0</td>\n",
       "      <td>92</td>\n",
       "      <td>0</td>\n",
       "      <td>0</td>\n",
       "      <td>0</td>\n",
       "      <td>92</td>\n",
       "    </tr>\n",
       "    <tr>\n",
       "      <th>Kwale</th>\n",
       "      <td>0</td>\n",
       "      <td>0</td>\n",
       "      <td>0</td>\n",
       "      <td>466</td>\n",
       "      <td>0</td>\n",
       "      <td>0</td>\n",
       "      <td>0</td>\n",
       "      <td>466</td>\n",
       "    </tr>\n",
       "    <tr>\n",
       "      <th>Lambwe Valley</th>\n",
       "      <td>49</td>\n",
       "      <td>0</td>\n",
       "      <td>199</td>\n",
       "      <td>154</td>\n",
       "      <td>0</td>\n",
       "      <td>0</td>\n",
       "      <td>0</td>\n",
       "      <td>402</td>\n",
       "    </tr>\n",
       "    <tr>\n",
       "      <th>Lengobei</th>\n",
       "      <td>0</td>\n",
       "      <td>0</td>\n",
       "      <td>0</td>\n",
       "      <td>83</td>\n",
       "      <td>0</td>\n",
       "      <td>0</td>\n",
       "      <td>0</td>\n",
       "      <td>83</td>\n",
       "    </tr>\n",
       "    <tr>\n",
       "      <th>Leugong'u</th>\n",
       "      <td>0</td>\n",
       "      <td>0</td>\n",
       "      <td>0</td>\n",
       "      <td>142</td>\n",
       "      <td>0</td>\n",
       "      <td>0</td>\n",
       "      <td>0</td>\n",
       "      <td>142</td>\n",
       "    </tr>\n",
       "    <tr>\n",
       "      <th>Narok</th>\n",
       "      <td>0</td>\n",
       "      <td>0</td>\n",
       "      <td>0</td>\n",
       "      <td>61</td>\n",
       "      <td>0</td>\n",
       "      <td>28</td>\n",
       "      <td>0</td>\n",
       "      <td>89</td>\n",
       "    </tr>\n",
       "    <tr>\n",
       "      <th>Nguruman</th>\n",
       "      <td>57</td>\n",
       "      <td>14</td>\n",
       "      <td>50</td>\n",
       "      <td>1146</td>\n",
       "      <td>0</td>\n",
       "      <td>77</td>\n",
       "      <td>0</td>\n",
       "      <td>1344</td>\n",
       "    </tr>\n",
       "    <tr>\n",
       "      <th>Ruma National Park</th>\n",
       "      <td>0</td>\n",
       "      <td>0</td>\n",
       "      <td>0</td>\n",
       "      <td>995</td>\n",
       "      <td>0</td>\n",
       "      <td>0</td>\n",
       "      <td>0</td>\n",
       "      <td>995</td>\n",
       "    </tr>\n",
       "    <tr>\n",
       "      <th>All</th>\n",
       "      <td>300</td>\n",
       "      <td>14</td>\n",
       "      <td>249</td>\n",
       "      <td>3139</td>\n",
       "      <td>102</td>\n",
       "      <td>146</td>\n",
       "      <td>14</td>\n",
       "      <td>3964</td>\n",
       "    </tr>\n",
       "  </tbody>\n",
       "</table>\n",
       "</div>"
      ],
      "text/plain": [
       "YEAR               2000 2001 2002  2003 2009          2010   All\n",
       "TISSUE_OR_DNA       DNA  DNA  DNA   DNA  DNA Tissue Tissue      \n",
       "SITE_GROUP                                                      \n",
       "Galana              120    0    0     0    0      0      0   120\n",
       "Kabunkanga            0    0    0     0    0      0     14    14\n",
       "Kalema               18    0    0     0    0      0      0    18\n",
       "Kapesur               0    0    0     0  102     41      0   143\n",
       "Kathekani            56    0    0     0    0      0      0    56\n",
       "Ketri Insectary       0    0    0    92    0      0      0    92\n",
       "Kwale                 0    0    0   466    0      0      0   466\n",
       "Lambwe Valley        49    0  199   154    0      0      0   402\n",
       "Lengobei              0    0    0    83    0      0      0    83\n",
       "Leugong'u             0    0    0   142    0      0      0   142\n",
       "Narok                 0    0    0    61    0     28      0    89\n",
       "Nguruman             57   14   50  1146    0     77      0  1344\n",
       "Ruma National Park    0    0    0   995    0      0      0   995\n",
       "All                 300   14  249  3139  102    146     14  3964"
      ]
     },
     "execution_count": 10,
     "metadata": {},
     "output_type": "execute_result"
    }
   ],
   "source": [
    "SITE_GROUP_by_YEAR_and_SEX = \\\n",
    "pd.crosstab(index=kenya_final.SITE_GROUP, \n",
    "            columns=[kenya_final.YEAR,kenya_final.TISSUE_OR_DNA], \n",
    "            values=None, \n",
    "            rownames=None, colnames=None, \n",
    "            aggfunc=None, \n",
    "            margins=True, \n",
    "            dropna=True)\n",
    "\n",
    "# SITE_GROUP_by_YEAR_and_SEX.to_excel(table_writer,sheet_name=\"SITE_GROUP_by_YEAR_and_SEX\")\n",
    "SITE_GROUP_by_YEAR_and_SEX"
   ]
  },
  {
   "cell_type": "code",
   "execution_count": null,
   "metadata": {
    "collapsed": false
   },
   "outputs": [],
   "source": [
    "SITE_GROUP_by_YEAR_and_TISSUE = \\\n",
    "pd.crosstab(index=gpd_noQ.SITE_GROUP, \n",
    "            columns=[gpd_noQ.YEAR,gpd_noQ.TISSUE], \n",
    "            values=None, \n",
    "            rownames=None, colnames=None, \n",
    "            aggfunc=None, \n",
    "            margins=True, \n",
    "            dropna=True)\n",
    "\n",
    "# SITE_GROUP_by_YEAR_and_TISSUE.to_excel(table_writer,sheet_name=\"SITE_GROUP_by_YEAR_and_TISSUE\")\n",
    "SITE_GROUP_by_YEAR_and_TISSUE"
   ]
  },
  {
   "cell_type": "code",
   "execution_count": null,
   "metadata": {
    "collapsed": false
   },
   "outputs": [],
   "source": [
    "SITE_GROUP_by_YEAR_and_DERIVATIVE = \\\n",
    "pd.crosstab(index=gpd_noQ.SITE_GROUP, \n",
    "            columns=[gpd_noQ.YEAR,gpd_noQ.DERIVATIVE], \n",
    "            values=None, \n",
    "            rownames=None, colnames=None, \n",
    "            aggfunc=None, \n",
    "            margins=True, \n",
    "            dropna=True)\n",
    "\n",
    "# SITE_GROUP_by_YEAR_and_DERIVATIVE.to_excel(table_writer,sheet_name=\"YEAR_and_DERIVATIVE\")\n",
    "SITE_GROUP_by_YEAR_and_DERIVATIVE"
   ]
  },
  {
   "cell_type": "code",
   "execution_count": null,
   "metadata": {
    "collapsed": false
   },
   "outputs": [],
   "source": [
    "SITE_GROUP_by_YEAR_and_KEPT_IN_SIMPLE = \\\n",
    "pd.crosstab(index=gpd_noQ.SITE_GROUP, \n",
    "            columns=[gpd_noQ.YEAR,gpd_noQ.KEPT_IN_SIMPLE], \n",
    "            values=None, \n",
    "            rownames=None, colnames=None, \n",
    "            aggfunc=None, \n",
    "            margins=True, \n",
    "            dropna=True)\n",
    "\n",
    "# SITE_GROUP_by_YEAR_and_KEPT_IN_SIMPLE.to_excel(table_writer,sheet_name=\"YEAR_and_KEPT_IN_SIMPLE\")\n",
    "SITE_GROUP_by_YEAR_and_KEPT_IN_SIMPLE"
   ]
  },
  {
   "cell_type": "code",
   "execution_count": null,
   "metadata": {
    "collapsed": false
   },
   "outputs": [],
   "source": [
    "gpd_noQ_RUMA = gpd_noQ.query(\"\"\"SITE_GROUP == 'Ruma National Park'\"\"\")\n",
    "len(gpd_noQ_RUMA)"
   ]
  },
  {
   "cell_type": "code",
   "execution_count": null,
   "metadata": {
    "collapsed": false
   },
   "outputs": [],
   "source": [
    "gpd_noQ_RUMA.KEPT_IN.unique()"
   ]
  },
  {
   "cell_type": "code",
   "execution_count": null,
   "metadata": {
    "collapsed": false
   },
   "outputs": [],
   "source": [
    "gpd_noQ_RUMA.query(\"\"\"KEPT_IN_SIMPLE == 'EtOH'\"\"\")[\"RECORD_SOURCE\"].unique()"
   ]
  },
  {
   "cell_type": "code",
   "execution_count": null,
   "metadata": {
    "collapsed": false
   },
   "outputs": [],
   "source": [
    "RUMA_SITE_GROUP_by_YEAR_and_KEPT_IN_SIMPLE = \\\n",
    "pd.crosstab(index=gpd_noQ_RUMA.RECORD_SOURCE, \n",
    "            columns=[gpd_noQ_RUMA.YEAR,gpd_noQ_RUMA.KEPT_IN_SIMPLE], \n",
    "            values=None, \n",
    "            rownames=None, colnames=None, \n",
    "            aggfunc=None, \n",
    "            margins=True, \n",
    "            dropna=True)\n",
    "\n",
    "# RUMA_SITE_GROUP_by_YEAR_and_KEPT_IN_SIMPLE.to_excel(table_writer,sheet_name=\"RUMA_YEAR_and_KEPT_IN_SIMPLE\")\n",
    "RUMA_SITE_GROUP_by_YEAR_and_KEPT_IN_SIMPLE"
   ]
  },
  {
   "cell_type": "code",
   "execution_count": null,
   "metadata": {
    "collapsed": true
   },
   "outputs": [],
   "source": [
    "# table_writer.save()"
   ]
  },
  {
   "cell_type": "code",
   "execution_count": null,
   "metadata": {
    "collapsed": true
   },
   "outputs": [],
   "source": []
  }
 ],
 "metadata": {
  "kernelspec": {
   "display_name": "Python 2",
   "language": "python2",
   "name": "python2"
  },
  "language_info": {
   "codemirror_mode": {
    "name": "ipython",
    "version": 2
   },
   "file_extension": ".py",
   "mimetype": "text/x-python",
   "name": "python",
   "nbconvert_exporter": "python",
   "pygments_lexer": "ipython2",
   "version": "2.7.10"
  }
 },
 "nbformat": 4,
 "nbformat_minor": 0
}
