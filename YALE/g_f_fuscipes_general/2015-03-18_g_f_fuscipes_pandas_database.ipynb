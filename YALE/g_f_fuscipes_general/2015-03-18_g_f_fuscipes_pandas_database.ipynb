{
 "cells": [
  {
   "cell_type": "markdown",
   "metadata": {},
   "source": [
    "# Purpose:\n",
    "\n",
    "2015-03-18 (Wednesday)\n",
    "\n",
    "Query the database."
   ]
  },
  {
   "cell_type": "markdown",
   "metadata": {},
   "source": [
    "# Table of Searches:\n",
    "\n",
    "[How-many-positives-did-we-find-after-Gisella-left-in-July?](#How-many-positives-did-we-find-after-Gisella-left-in-July?)\n",
    "\n",
    "[Get-next-set-of-fly-IDs-for-Robert's-MicroSat-work](#Get-next-set-of-fly-IDs-for-Robert's-MicroSat-work.)"
   ]
  },
  {
   "cell_type": "markdown",
   "metadata": {},
   "source": [
    "## Imports:"
   ]
  },
  {
   "cell_type": "code",
   "execution_count": 14,
   "metadata": {
    "collapsed": true
   },
   "outputs": [],
   "source": [
    "# imports\n",
    "import datetime as dt\n",
    "\n",
    "import csv\n",
    "import itertools\n",
    "import os\n",
    "import re\n",
    "\n",
    "import pandas as pd\n",
    "import numpy as np\n",
    "import datetime as dt\n",
    "\n",
    "import scipy\n",
    "\n",
    "import munch\n"
   ]
  },
  {
   "cell_type": "code",
   "execution_count": 15,
   "metadata": {
    "collapsed": false
   },
   "outputs": [],
   "source": [
    "# for plotting\n",
    "%matplotlib inline\n",
    "import matplotlib.pyplot as plt\n",
    "import seaborn as sns\n",
    "import ggplot as gp\n",
    "\n",
    "\n",
    "import numpy as np\n",
    "import pandas as pd\n",
    "\n",
    "\n",
    "import ggplot as g\n"
   ]
  },
  {
   "cell_type": "markdown",
   "metadata": {},
   "source": [
    "## File paths:"
   ]
  },
  {
   "cell_type": "code",
   "execution_count": 16,
   "metadata": {
    "collapsed": true
   },
   "outputs": [],
   "source": [
    "# define paths to files\n",
    "spring_summer = \"/home/gus/Documents/YalePostDoc/project_stuff/g_f_fucipes_uganda/collection_data/2014_spring_summer_from_rob.xlsx\"\n",
    "fall =          \"/home/gus/Documents/YalePostDoc/project_stuff/g_f_fucipes_uganda/collection_data/2014_fall_for_pandas.xlsx\"\n",
    "december = \"/home/gus/Documents/YalePostDoc/project_stuff/g_f_fucipes_uganda/collection_data/DEC_2014_survey_for_pandas.xlsx\"\n",
    "\n",
    "h5_out_path = \"/home/gus/Documents/YalePostDoc/project_stuff/g_f_fucipes_uganda/collection_data/hdf5/2014_collection_records.h5\"\n",
    "json_out_path = \"/home/gus/Documents/YalePostDoc/project_stuff/g_f_fucipes_uganda/collection_data/hdf5/2014_collection_records.json\"\n",
    "pickle_out_path = \"/home/gus/Documents/YalePostDoc/project_stuff/g_f_fucipes_uganda/collection_data/hdf5/2014_collection_records.pkl\""
   ]
  },
  {
   "cell_type": "code",
   "execution_count": 17,
   "metadata": {
    "collapsed": true
   },
   "outputs": [],
   "source": [
    "village_id_map_path = \"/home/gus/Dropbox/uganda_data/data_repos/field_data/locations/names/uganda_village_id_map.csv\""
   ]
  },
  {
   "cell_type": "markdown",
   "metadata": {},
   "source": [
    "----\n",
    "# Helper functions"
   ]
  },
  {
   "cell_type": "code",
   "execution_count": 18,
   "metadata": {
    "collapsed": true
   },
   "outputs": [],
   "source": [
    "def date_is_between(test_date, start, end):\n",
    "    \n",
    "    try:\n",
    "        return start <= test_date <= end\n",
    "    except TypeError as exc:\n",
    "        if \"can't compare datetime\" in exc.message:\n",
    "            return False\n",
    "        else:\n",
    "            raise"
   ]
  },
  {
   "cell_type": "code",
   "execution_count": 19,
   "metadata": {
    "collapsed": true
   },
   "outputs": [],
   "source": [
    "def get_village_id_map(village_id_map_path):\n",
    "    \"\"\"\n",
    "    Generates and returns a `dict` mapping the long-form village names to the letter codes.\n",
    "    Letter codes map back to themselves to ensure a one way mapping.  \n",
    "    Enforces both be all UPPERcase to allow case insensitivity as long as\n",
    "    the map is used like: `map[text.upper()]`.\n",
    "    :return: `dict`\n",
    "    \"\"\"\n",
    "\n",
    "    village_id_map = {}\n",
    "\n",
    "    with open(village_id_map_path, 'rb') as csv_file:\n",
    "        village_ids = csv.reader(csv_file, delimiter=',')\n",
    "        for pair in village_ids:\n",
    "            village_id_map[unicode(pair[0].upper())] = unicode(pair[0].upper())\n",
    "            village_id_map[unicode(pair[1].upper())] = unicode(pair[0].upper())\n",
    "\n",
    "    return village_id_map"
   ]
  },
  {
   "cell_type": "code",
   "execution_count": 20,
   "metadata": {
    "collapsed": true
   },
   "outputs": [],
   "source": [
    "def load_xl_sheets(xl_path):\n",
    "    dfs = munch.Munch()\n",
    "    \n",
    "    xls = pd.ExcelFile(xl_path)\n",
    "    \n",
    "    workbook_name = os.path.basename(xl_path)\n",
    "    \n",
    "    for sheet in xls.sheet_names:\n",
    "        if sheet.upper().startswith(\"DISSECT\"):\n",
    "            worksheet_df = xls.parse(sheetname=sheet, \n",
    "                                header=0, \n",
    "                                skiprows=None, skip_footer=0, \n",
    "                                index_col=None, parse_cols=None, \n",
    "                                parse_dates=False, date_parser=None, \n",
    "                                na_values=['NA'], \n",
    "                                thousands=None, chunksize=None, \n",
    "                                convert_float=False, \n",
    "                                has_index_names=False, converters=None)\n",
    "            \n",
    "            worksheet_df['workbook'] = workbook_name\n",
    "            worksheet_df['worksheet'] = sheet\n",
    "            \n",
    "            dfs[sheet] = worksheet_df \n",
    "            \n",
    "    return dfs"
   ]
  },
  {
   "cell_type": "code",
   "execution_count": 21,
   "metadata": {
    "collapsed": false
   },
   "outputs": [],
   "source": [
    "def recode_villages(df):\n",
    "    map_func = lambda x: village_id_map[x.upper()]\n",
    "        \n",
    "    new_codes = df.Village.apply(map_func)\n",
    "    df.Village = new_codes    "
   ]
  },
  {
   "cell_type": "code",
   "execution_count": 22,
   "metadata": {
    "collapsed": false
   },
   "outputs": [],
   "source": [
    "def recode_dead(df):\n",
    "    def recode_func(x):\n",
    "        # this is treated as an unknown case\n",
    "        if pd.isnull(x):\n",
    "            return x\n",
    "\n",
    "        x = unicode(x)\n",
    "\n",
    "        # True means DEAD\n",
    "        # False means LIVE or NOT-DEAD\n",
    "        # None means unknown\n",
    "\n",
    "        try:\n",
    "            # deal with Live type cases\n",
    "            if x.upper().startswith('L'):\n",
    "                return False\n",
    "\n",
    "\n",
    "            if x.startswith('0'):\n",
    "                return False\n",
    "\n",
    "\n",
    "            # deal with Dead type cases\n",
    "            if x.upper().startswith('D'):\n",
    "                return True\n",
    "\n",
    "\n",
    "            if x.startswith('1'):\n",
    "                return True\n",
    "\n",
    "\n",
    "            # deal with unknown type cases\n",
    "            if x.upper().startswith('UN'):\n",
    "                return None\n",
    "        except AttributeError:\n",
    "            return x\n",
    "\n",
    "        msg = \"The value {x} was not expected and this function must be corrected to continue.\".format(x=x)\n",
    "        raise ValueError(msg)\n",
    "\n",
    "    new_dead = df.Dead.apply(recode_func)\n",
    "    df.Dead = new_dead\n",
    "\n",
    "##########################################\n",
    "\n",
    "def recode_teneral(df):\n",
    "    def recode_func(x):\n",
    "\n",
    "        # this is treated as an unknown case\n",
    "        if pd.isnull(x):\n",
    "            return x\n",
    "\n",
    "        x = unicode(x)\n",
    "\n",
    "        # True means teneral\n",
    "        # False means NOT-teneral\n",
    "        # None means unknown\n",
    "\n",
    "        try:\n",
    "            # deal with NOT-teneral type cases\n",
    "            if x.upper().startswith('N'):\n",
    "                return False\n",
    "\n",
    "            if x.startswith('0'):\n",
    "                return False\n",
    "\n",
    "            # deal with Teneral type cases\n",
    "            if x.upper().startswith('T'):\n",
    "                return True\n",
    "            \n",
    "            if x.startswith('1'):\n",
    "                return True\n",
    "\n",
    "\n",
    "            # Deal with unknown type cases\n",
    "            if x.upper().startswith('UN'):\n",
    "                return x\n",
    "        except AttributeError:\n",
    "            return x\n",
    "\n",
    "        msg = \"The value {x} was not expected and this function must be corrected to continue.\".format(x=x)\n",
    "        raise ValueError(msg)\n",
    "    \n",
    "    \n",
    "    new_teneral = df.Teneral.apply(recode_func)\n",
    "    df.Teneral = new_teneral\n",
    "\n",
    "##########################################\n",
    "\n",
    "def recode_positives(df):\n",
    "    def recode_func(x):\n",
    "        # this is treated as an unknown case\n",
    "        if pd.isnull(x):\n",
    "            return x\n",
    "\n",
    "        y = unicode(x)\n",
    "\n",
    "        # deal with Unknown type cases\n",
    "        if y.upper().startswith('UN'):\n",
    "            return None\n",
    "\n",
    "        if y.upper().startswith('DEAD'):\n",
    "            return None\n",
    "\n",
    "\n",
    "        # deal with Positive type cases\n",
    "        if y.startswith('1'):\n",
    "            return True\n",
    "\n",
    "\n",
    "        if y.upper().startswith('TRUE'):\n",
    "            return True\n",
    "\n",
    "        if y.upper().startswith('P'):\n",
    "            return True\n",
    "\n",
    "        if y.upper().startswith('Y'):\n",
    "            return True\n",
    "\n",
    "\n",
    "        # deal with Negative type cases\n",
    "        if y.upper().startswith('NO'):\n",
    "            return False\n",
    "\n",
    "        if y.upper().startswith('FALSE'):\n",
    "            return False\n",
    "\n",
    "\n",
    "        if y.startswith('0'):\n",
    "            return False\n",
    "\n",
    "\n",
    "        msg = \"The value {x} was not expected and this function must be corrected to continue.\".format(x=x)\n",
    "        raise ValueError(msg)\n",
    "\n",
    "\n",
    "    new_prob = df.prob.apply(recode_func)\n",
    "    df.prob = new_prob\n",
    "    \n",
    "    new_midgut = df.midgut.apply(recode_func)\n",
    "    df.midgut = new_midgut\n",
    "    \n",
    "    new_sal_gland = df.sal_gland.apply(recode_func)\n",
    "    df.sal_gland = new_sal_gland\n",
    "\n",
    "##########################################\n",
    "\n",
    "def recode_species(df):\n",
    "\n",
    "    recode_func = lambda x: ''.join(x.split('.')).capitalize()\n",
    "\n",
    "    new_Species = df.Species.apply(recode_func)\n",
    "    df.Species = new_Species\n",
    "\n",
    "##########################################\n",
    "\n",
    "def recode_sex(df):\n",
    "\n",
    "    recode_func = lambda x: x.upper()\n",
    "\n",
    "    new_Sex = df.Sex.apply(recode_func)\n",
    "    df.Sex = new_Sex\n",
    "    \n",
    "##########################################\n",
    "\n",
    "date_delim = re.compile('[\\./-]')\n",
    "\n",
    "def cast_unicode_as_date(x):\n",
    "    if not isinstance(x, unicode):\n",
    "        return x\n",
    "    \n",
    "    parts = date_delim.split(x)\n",
    "    \n",
    "    if len(parts) != 3:\n",
    "        return x\n",
    "    \n",
    "    if len(parts[0]) != 4:\n",
    "        return x\n",
    "    \n",
    "    return dt.datetime(int(parts[0]), int(parts[1]), int(parts[2]))\n",
    "\n",
    "def recode_date(df):\n",
    "    new_date = df.Date.apply(cast_unicode_as_date)\n",
    "    df.Date = new_date\n",
    "\n",
    "##########################################\n",
    "\n",
    "fly_no_delim = re.compile('[\\W\\s]', re.UNICODE)\n",
    "\n",
    "def split_number(x):\n",
    "#     ipdb.set_trace()\n",
    "    \n",
    "    # to prevent unicode creating a string with a '.' AFTER\n",
    "    # the numbert we are intersted in!\n",
    "    try:\n",
    "        if isinstance(x,float):\n",
    "            return int(x)\n",
    "    except ValueError as exc:\n",
    "        if 'NAN' in exc.message.upper():\n",
    "            return x\n",
    "    \n",
    "    x = unicode(x)\n",
    "    parts = fly_no_delim.split(x)\n",
    "    \n",
    "    try:\n",
    "        number = int(parts[-1])\n",
    "        return number\n",
    "    except ValueError:\n",
    "        return x\n",
    "\n",
    "\n",
    "def recode_fly_number(df):\n",
    "    \n",
    "    new_fly_number = df.Fly_Number.apply(split_number)\n",
    "    df.Fly_Number = new_fly_number"
   ]
  },
  {
   "cell_type": "code",
   "execution_count": 23,
   "metadata": {
    "collapsed": false
   },
   "outputs": [],
   "source": [
    "def aggregate_column_from_df_list(df_list, col_name):\n",
    "    agg_data = []\n",
    "    for df in df_list:\n",
    "        agg_data.extend(list(df[col_name]))\n",
    "        \n",
    "    \n",
    "    return agg_data"
   ]
  },
  {
   "cell_type": "markdown",
   "metadata": {},
   "source": [
    "### Functions that add new columns"
   ]
  },
  {
   "cell_type": "code",
   "execution_count": 24,
   "metadata": {
    "collapsed": true
   },
   "outputs": [],
   "source": [
    "def add_infection_state_col(df):\n",
    "    df['infection_state'] = df[['prob','midgut','sal_gland']].any(skipna=True,axis=1)      "
   ]
  },
  {
   "cell_type": "markdown",
   "metadata": {},
   "source": [
    "## Recode Fly_Number"
   ]
  },
  {
   "cell_type": "code",
   "execution_count": 25,
   "metadata": {
    "collapsed": false
   },
   "outputs": [],
   "source": [
    "# pdb\n",
    "# import ipdb"
   ]
  },
  {
   "cell_type": "code",
   "execution_count": 26,
   "metadata": {
    "collapsed": false
   },
   "outputs": [],
   "source": [
    "df = pd.read_pickle(pickle_out_path)\n",
    "recode_fly_number(df)"
   ]
  },
  {
   "cell_type": "code",
   "execution_count": 27,
   "metadata": {
    "collapsed": true
   },
   "outputs": [],
   "source": [
    "df_old_flno = pd.read_pickle(pickle_out_path)"
   ]
  },
  {
   "cell_type": "code",
   "execution_count": 28,
   "metadata": {
    "collapsed": false
   },
   "outputs": [
    {
     "data": {
      "text/html": [
       "<div style=\"max-height:1000px;max-width:1500px;overflow:auto;\">\n",
       "<table border=\"1\" class=\"dataframe\">\n",
       "  <thead>\n",
       "    <tr style=\"text-align: right;\">\n",
       "      <th></th>\n",
       "      <th>Comment</th>\n",
       "      <th>Date</th>\n",
       "      <th>Dead</th>\n",
       "      <th>Fly_Number</th>\n",
       "      <th>Hunger_stage</th>\n",
       "      <th>Kept_in</th>\n",
       "      <th>Sex</th>\n",
       "      <th>Species</th>\n",
       "      <th>Teneral</th>\n",
       "      <th>Trap_No</th>\n",
       "      <th>Village</th>\n",
       "      <th>Wing_fray</th>\n",
       "      <th>infection_state</th>\n",
       "      <th>midgut</th>\n",
       "      <th>prob</th>\n",
       "      <th>sal_gland</th>\n",
       "      <th>workbook</th>\n",
       "      <th>worksheet</th>\n",
       "    </tr>\n",
       "  </thead>\n",
       "  <tbody>\n",
       "    <tr>\n",
       "      <th>0</th>\n",
       "      <td>NaN</td>\n",
       "      <td>2014-07-22</td>\n",
       "      <td>False</td>\n",
       "      <td>UWA-14 001</td>\n",
       "      <td>2</td>\n",
       "      <td>EtOH</td>\n",
       "      <td>F</td>\n",
       "      <td>Gff</td>\n",
       "      <td>False</td>\n",
       "      <td>1</td>\n",
       "      <td>UWA</td>\n",
       "      <td>2</td>\n",
       "      <td>False</td>\n",
       "      <td>False</td>\n",
       "      <td>False</td>\n",
       "      <td>False</td>\n",
       "      <td>2014_spring_summer_from_rob.xlsx</td>\n",
       "      <td>Dissection Data-Nwoya</td>\n",
       "    </tr>\n",
       "    <tr>\n",
       "      <th>1</th>\n",
       "      <td>NaN</td>\n",
       "      <td>2014-07-22</td>\n",
       "      <td>False</td>\n",
       "      <td>UWA-14 002</td>\n",
       "      <td>3</td>\n",
       "      <td>EtOH</td>\n",
       "      <td>F</td>\n",
       "      <td>Gff</td>\n",
       "      <td>False</td>\n",
       "      <td>1</td>\n",
       "      <td>UWA</td>\n",
       "      <td>2</td>\n",
       "      <td>False</td>\n",
       "      <td>False</td>\n",
       "      <td>False</td>\n",
       "      <td>False</td>\n",
       "      <td>2014_spring_summer_from_rob.xlsx</td>\n",
       "      <td>Dissection Data-Nwoya</td>\n",
       "    </tr>\n",
       "    <tr>\n",
       "      <th>2</th>\n",
       "      <td>NaN</td>\n",
       "      <td>2014-07-22</td>\n",
       "      <td>False</td>\n",
       "      <td>UWA-14 003</td>\n",
       "      <td>3</td>\n",
       "      <td>EtOH</td>\n",
       "      <td>M</td>\n",
       "      <td>Gff</td>\n",
       "      <td>False</td>\n",
       "      <td>1</td>\n",
       "      <td>UWA</td>\n",
       "      <td>2</td>\n",
       "      <td>False</td>\n",
       "      <td>False</td>\n",
       "      <td>False</td>\n",
       "      <td>False</td>\n",
       "      <td>2014_spring_summer_from_rob.xlsx</td>\n",
       "      <td>Dissection Data-Nwoya</td>\n",
       "    </tr>\n",
       "    <tr>\n",
       "      <th>3</th>\n",
       "      <td>NaN</td>\n",
       "      <td>2014-07-22</td>\n",
       "      <td>False</td>\n",
       "      <td>UWA-14 004</td>\n",
       "      <td>3</td>\n",
       "      <td>EtOH</td>\n",
       "      <td>M</td>\n",
       "      <td>Gff</td>\n",
       "      <td>False</td>\n",
       "      <td>1</td>\n",
       "      <td>UWA</td>\n",
       "      <td>2</td>\n",
       "      <td>False</td>\n",
       "      <td>False</td>\n",
       "      <td>False</td>\n",
       "      <td>False</td>\n",
       "      <td>2014_spring_summer_from_rob.xlsx</td>\n",
       "      <td>Dissection Data-Nwoya</td>\n",
       "    </tr>\n",
       "    <tr>\n",
       "      <th>4</th>\n",
       "      <td>NaN</td>\n",
       "      <td>2014-07-22</td>\n",
       "      <td>False</td>\n",
       "      <td>UWA-14 005</td>\n",
       "      <td>3</td>\n",
       "      <td>EtOH</td>\n",
       "      <td>M</td>\n",
       "      <td>Gff</td>\n",
       "      <td>False</td>\n",
       "      <td>1</td>\n",
       "      <td>UWA</td>\n",
       "      <td>2</td>\n",
       "      <td>False</td>\n",
       "      <td>False</td>\n",
       "      <td>False</td>\n",
       "      <td>False</td>\n",
       "      <td>2014_spring_summer_from_rob.xlsx</td>\n",
       "      <td>Dissection Data-Nwoya</td>\n",
       "    </tr>\n",
       "  </tbody>\n",
       "</table>\n",
       "</div>"
      ],
      "text/plain": [
       "  Comment       Date   Dead  Fly_Number Hunger_stage Kept_in Sex Species  \\\n",
       "0     NaN 2014-07-22  False  UWA-14 001            2    EtOH   F     Gff   \n",
       "1     NaN 2014-07-22  False  UWA-14 002            3    EtOH   F     Gff   \n",
       "2     NaN 2014-07-22  False  UWA-14 003            3    EtOH   M     Gff   \n",
       "3     NaN 2014-07-22  False  UWA-14 004            3    EtOH   M     Gff   \n",
       "4     NaN 2014-07-22  False  UWA-14 005            3    EtOH   M     Gff   \n",
       "\n",
       "  Teneral  Trap_No Village Wing_fray infection_state midgut   prob sal_gland  \\\n",
       "0   False        1     UWA         2           False  False  False     False   \n",
       "1   False        1     UWA         2           False  False  False     False   \n",
       "2   False        1     UWA         2           False  False  False     False   \n",
       "3   False        1     UWA         2           False  False  False     False   \n",
       "4   False        1     UWA         2           False  False  False     False   \n",
       "\n",
       "                           workbook              worksheet  \n",
       "0  2014_spring_summer_from_rob.xlsx  Dissection Data-Nwoya  \n",
       "1  2014_spring_summer_from_rob.xlsx  Dissection Data-Nwoya  \n",
       "2  2014_spring_summer_from_rob.xlsx  Dissection Data-Nwoya  \n",
       "3  2014_spring_summer_from_rob.xlsx  Dissection Data-Nwoya  \n",
       "4  2014_spring_summer_from_rob.xlsx  Dissection Data-Nwoya  "
      ]
     },
     "execution_count": 28,
     "metadata": {},
     "output_type": "execute_result"
    }
   ],
   "source": [
    "df_old_flno.head()"
   ]
  },
  {
   "cell_type": "markdown",
   "metadata": {},
   "source": [
    "----\n",
    "# Helpful constants"
   ]
  },
  {
   "cell_type": "code",
   "execution_count": 29,
   "metadata": {
    "collapsed": true
   },
   "outputs": [],
   "source": [
    "village_id_map = get_village_id_map(village_id_map_path)"
   ]
  },
  {
   "cell_type": "code",
   "execution_count": 30,
   "metadata": {
    "collapsed": false
   },
   "outputs": [],
   "source": [
    "# pdb"
   ]
  },
  {
   "cell_type": "code",
   "execution_count": 31,
   "metadata": {
    "collapsed": false
   },
   "outputs": [],
   "source": [
    "# # Example pivot_table\n",
    "# tableXXXX = pd.pivot_table(df.query(\"XXXX == XXXX\"),index=['XXXX'],\n",
    "#                       values=['XXXX'],\n",
    "#                       columns=['XXXX'],\n",
    "#                       fill_value=0,\n",
    "#                       aggfunc=[len])\n",
    "# tableXXXX.head()"
   ]
  },
  {
   "cell_type": "markdown",
   "metadata": {},
   "source": [
    "---\n",
    "# Query the data"
   ]
  },
  {
   "cell_type": "markdown",
   "metadata": {},
   "source": [
    "### How many positives did we find after Gisella left in July?"
   ]
  },
  {
   "cell_type": "code",
   "execution_count": 32,
   "metadata": {
    "collapsed": false
   },
   "outputs": [],
   "source": [
    "date_mask = df.Date.apply(lambda x: date_is_between(x,\n",
    "                                                          dt.datetime(2014, 7, 11),\n",
    "                                                          dt.datetime(2014, 8, 11)))\n",
    "post_gisella_july = df[date_mask]"
   ]
  },
  {
   "cell_type": "code",
   "execution_count": 33,
   "metadata": {
    "collapsed": false
   },
   "outputs": [],
   "source": [
    "post_gisella_july_positive = post_gisella_july.query('infection_state == True')"
   ]
  },
  {
   "cell_type": "code",
   "execution_count": 34,
   "metadata": {
    "collapsed": true
   },
   "outputs": [],
   "source": [
    "post_gisella_july_negative = post_gisella_july.query('infection_state == False')"
   ]
  },
  {
   "cell_type": "code",
   "execution_count": 35,
   "metadata": {
    "collapsed": false
   },
   "outputs": [
    {
     "data": {
      "text/plain": [
       "30"
      ]
     },
     "execution_count": 35,
     "metadata": {},
     "output_type": "execute_result"
    }
   ],
   "source": [
    "len(post_gisella_july_positive)"
   ]
  },
  {
   "cell_type": "code",
   "execution_count": 36,
   "metadata": {
    "collapsed": false
   },
   "outputs": [
    {
     "data": {
      "text/plain": [
       "2376"
      ]
     },
     "execution_count": 36,
     "metadata": {},
     "output_type": "execute_result"
    }
   ],
   "source": [
    "len(post_gisella_july_negative)"
   ]
  },
  {
   "cell_type": "code",
   "execution_count": 37,
   "metadata": {
    "collapsed": false
   },
   "outputs": [],
   "source": [
    "# post_gisella_july_positive.to_csv('/home/gus/Documents/YalePostDoc/project_stuff/g_f_fucipes_uganda/seraps_stuff/positives_from_gus_gisella_time.tsv', sep='\\t')"
   ]
  },
  {
   "cell_type": "code",
   "execution_count": 38,
   "metadata": {
    "collapsed": false
   },
   "outputs": [],
   "source": [
    "# post_gisella_july_negative.to_csv('/home/gus/Documents/YalePostDoc/project_stuff/g_f_fucipes_uganda/seraps_stuff/negatives_from_gus_gisella_time.tsv', sep='\\t')"
   ]
  },
  {
   "cell_type": "markdown",
   "metadata": {},
   "source": [
    "### Get next set of fly IDs for Robert's MicroSat work.\n",
    "\n",
    "- NGO 15 each M/F\n",
    "- CHU 15 each M/F\n",
    "- TUM 15 each M/F"
   ]
  },
  {
   "cell_type": "code",
   "execution_count": 88,
   "metadata": {
    "collapsed": true
   },
   "outputs": [],
   "source": [
    "def get_random_rows(df, sample_size, exclude_by=None, exclude_values=None):\n",
    "    \n",
    "    assert (exclude_by is None) or isinstance(exclude_by,str)\n",
    "    assert (exclude_values is None) or isinstance(exclude_values,list)\n",
    "    \n",
    "    try:\n",
    "        if (exclude_by is not None) and (exclude_values is not None):\n",
    "            post_exclude = df[df[exclude_by].apply(lambda x: x not in exclude_values)]\n",
    "        else:\n",
    "            post_exclude = df\n",
    "            \n",
    "        indexes = np.random.choice(post_exclude.index, sample_size, replace=False)\n",
    "        return df.loc[indexes]\n",
    "    except ValueError as exc:\n",
    "        if \"Cannot take a larger sample than population when 'replace=False'\" in exc.message:\n",
    "            print \"Returning all {vil}:{sex} bc sample_size is larger than population.\".format(vil=post_exclude.Village.iloc[0],\n",
    "                                                                                               sex=post_exclude.Sex.iloc[0])\n",
    "            return post_exclude"
   ]
  },
  {
   "cell_type": "code",
   "execution_count": 43,
   "metadata": {
    "collapsed": false
   },
   "outputs": [],
   "source": [
    "# get_random_rows(df, 10)"
   ]
  },
  {
   "cell_type": "code",
   "execution_count": 44,
   "metadata": {
    "collapsed": false
   },
   "outputs": [],
   "source": [
    "ngo_m = get_random_rows(df.query('Sex == \"M\"').query('Village == \"NGO\"'), 15)\n",
    "ngo_f = get_random_rows(df.query('Sex == \"F\"').query('Village == \"NGO\"'), 15)\n",
    "\n",
    "chu_m = get_random_rows(df.query('Sex == \"M\"').query('Village == \"CHU\"'), 15)\n",
    "chu_f = get_random_rows(df.query('Sex == \"F\"').query('Village == \"CHU\"'), 15)\n",
    "\n",
    "tum_m = get_random_rows(df.query('Sex == \"M\"').query('Village == \"TUM\"'), 15)\n",
    "tum_f = get_random_rows(df.query('Sex == \"F\"').query('Village == \"TUM\"'), 15)"
   ]
  },
  {
   "cell_type": "code",
   "execution_count": 45,
   "metadata": {
    "collapsed": false
   },
   "outputs": [],
   "source": [
    "def write_samples(dir_path,df,sep_sex=False):\n",
    "    \n",
    "    if sep_sex:\n",
    "        file_name = \"{date}_{num}_{sex}_random_{vil}.xls\".format(\n",
    "            date=dt.datetime.today().isoformat().split('T')[0],\n",
    "            num=len(df),\n",
    "            sex=df.Sex.iloc[0],\n",
    "            vil=df.Village.iloc[0])\n",
    "    else:\n",
    "        file_name = \"{date}_{num}_MF_random_{vil}.xls\".format(\n",
    "            date=dt.datetime.today().isoformat().split('T')[0],\n",
    "            num=len(df),\n",
    "            vil=df.Village.iloc[0])\n",
    "    \n",
    "    out_path = \"{dir}/{fname}\".format(dir=os.path.dirname(dir_path),\n",
    "                                      fname=file_name)\n",
    "    \n",
    "    df.to_excel(out_path)\n",
    "    print out_path\n",
    "        "
   ]
  },
  {
   "cell_type": "code",
   "execution_count": 46,
   "metadata": {
    "collapsed": false
   },
   "outputs": [
    {
     "name": "stdout",
     "output_type": "stream",
     "text": [
      "\n",
      "/home/gus/Documents/YalePostDoc/project_stuff/g_f_fucipes_uganda/collection_data/samples_used/2015-03-21_15_M_random_sampled_tsetse_from_NGO.xls\n",
      "/home/gus/Documents/YalePostDoc/project_stuff/g_f_fucipes_uganda/collection_data/samples_used/2015-03-21_15_F_random_sampled_tsetse_from_NGO.xls\n",
      "/home/gus/Documents/YalePostDoc/project_stuff/g_f_fucipes_uganda/collection_data/samples_used/2015-03-21_15_M_random_sampled_tsetse_from_CHU.xls\n",
      "/home/gus/Documents/YalePostDoc/project_stuff/g_f_fucipes_uganda/collection_data/samples_used/2015-03-21_15_F_random_sampled_tsetse_from_CHU.xls\n",
      "/home/gus/Documents/YalePostDoc/project_stuff/g_f_fucipes_uganda/collection_data/samples_used/2015-03-21_15_M_random_sampled_tsetse_from_TUM.xls\n",
      "/home/gus/Documents/YalePostDoc/project_stuff/g_f_fucipes_uganda/collection_data/samples_used/2015-03-21_15_F_random_sampled_tsetse_from_TUM.xls\n",
      "\n"
     ]
    }
   ],
   "source": [
    "# dir_path = \"/home/gus/Documents/YalePostDoc/project_stuff/g_f_fucipes_uganda/collection_data/samples_used/\"\n",
    "\n",
    "\n",
    "# write_samples(dir_path, ngo_m)\n",
    "# write_samples(dir_path, ngo_f)\n",
    "\n",
    "# write_samples(dir_path, chu_m)\n",
    "# write_samples(dir_path, chu_f)\n",
    "\n",
    "# write_samples(dir_path, tum_m)\n",
    "# write_samples(dir_path, tum_f)\n",
    "\n",
    "print \"\"\"\n",
    "/home/gus/Documents/YalePostDoc/project_stuff/g_f_fucipes_uganda/collection_data/samples_used/2015-03-21_15_M_random_sampled_tsetse_from_NGO.xls\n",
    "/home/gus/Documents/YalePostDoc/project_stuff/g_f_fucipes_uganda/collection_data/samples_used/2015-03-21_15_F_random_sampled_tsetse_from_NGO.xls\n",
    "/home/gus/Documents/YalePostDoc/project_stuff/g_f_fucipes_uganda/collection_data/samples_used/2015-03-21_15_M_random_sampled_tsetse_from_CHU.xls\n",
    "/home/gus/Documents/YalePostDoc/project_stuff/g_f_fucipes_uganda/collection_data/samples_used/2015-03-21_15_F_random_sampled_tsetse_from_CHU.xls\n",
    "/home/gus/Documents/YalePostDoc/project_stuff/g_f_fucipes_uganda/collection_data/samples_used/2015-03-21_15_M_random_sampled_tsetse_from_TUM.xls\n",
    "/home/gus/Documents/YalePostDoc/project_stuff/g_f_fucipes_uganda/collection_data/samples_used/2015-03-21_15_F_random_sampled_tsetse_from_TUM.xls\n",
    "\"\"\""
   ]
  },
  {
   "cell_type": "code",
   "execution_count": 47,
   "metadata": {
    "collapsed": false
   },
   "outputs": [],
   "source": [
    "# chu_m.head()"
   ]
  },
  {
   "cell_type": "markdown",
   "metadata": {},
   "source": [
    "### 2015-03-23: Get next set of fly IDs for Robert's MicroSat work to Kirstin/Alexis \n",
    "\n",
    "- GAN 15 each M/F\n",
    "- LEA 15 each M/F\n",
    "- OSG 15 each M/F\n",
    "- GOR 15 each M/F  (NOPE)\n",
    "- OGU 15 each M/F\n",
    "- APU 15 each M/F"
   ]
  },
  {
   "cell_type": "code",
   "execution_count": 48,
   "metadata": {
    "collapsed": false
   },
   "outputs": [],
   "source": [
    "# GAN_m = get_random_rows(df.query('Sex == \"M\"').query('Village == \"GAN\"'), 15)\n",
    "# GAN_f = get_random_rows(df.query('Sex == \"F\"').query('Village == \"GAN\"'), 15)\n",
    "\n",
    "# # LEA_m = get_random_rows(df.query('Sex == \"M\"').query('Village == \"LEA\"'), 15)\n",
    "# # LEA_f = get_random_rows(df.query('Sex == \"F\"').query('Village == \"LEA\"'), 15)\n",
    "\n",
    "# OSG_m = get_random_rows(df.query('Sex == \"M\"').query('Village == \"OSG\"'), 15)\n",
    "# OSG_f = get_random_rows(df.query('Sex == \"F\"').query('Village == \"OSG\"'), 15)\n",
    "\n",
    "# GOR_m = get_random_rows(df.query('Sex == \"M\"').query('Village == \"GOR\"'), 15)\n",
    "# GOR_f = get_random_rows(df.query('Sex == \"F\"').query('Village == \"GOR\"'), 15)\n",
    "\n",
    "# # OGU_m = get_random_rows(df.query('Sex == \"M\"').query('Village == \"OGU\"'), 15)\n",
    "# # OGU_f = get_random_rows(df.query('Sex == \"F\"').query('Village == \"OGU\"'), 15)\n",
    "\n",
    "# APU_m = get_random_rows(df.query('Sex == \"M\"').query('Village == \"APU\"'), 15)\n",
    "# APU_f = get_random_rows(df.query('Sex == \"F\"').query('Village == \"APU\"'), 15)\n",
    "\n",
    "\n",
    "\n",
    "# GAN_mf = pd.concat([GAN_m, GAN_f])\n",
    "# # LEA_mf = pd.concat([LEA_m, LEA_f])\n",
    "# OSG_mf = pd.concat([OSG_m, OSG_f])\n",
    "# # GOR_mf = pd.concat([GOR_m, GOR_f])\n",
    "# # OGU_mf = pd.concat([OGU_m, OGU_f])\n",
    "# APU_mf = pd.concat([APU_m, APU_f])"
   ]
  },
  {
   "cell_type": "code",
   "execution_count": 49,
   "metadata": {
    "collapsed": false
   },
   "outputs": [
    {
     "name": "stdout",
     "output_type": "stream",
     "text": [
      "\n",
      "/home/gus/Documents/YalePostDoc/project_stuff/g_f_fucipes_uganda/collection_data/samples_used/2015-03-23_30_MF_random_GAN.xls\n",
      "/home/gus/Documents/YalePostDoc/project_stuff/g_f_fucipes_uganda/collection_data/samples_used/2015-03-23_30_MF_random_OSG.xls\n",
      "/home/gus/Documents/YalePostDoc/project_stuff/g_f_fucipes_uganda/collection_data/samples_used/2015-03-23_30_MF_random_APU.xls\n",
      "\n"
     ]
    }
   ],
   "source": [
    "dir_path = \"/home/gus/Documents/YalePostDoc/project_stuff/g_f_fucipes_uganda/collection_data/samples_used/\"\n",
    "\n",
    "\n",
    "# write_samples(dir_path, GAN_mf)\n",
    "# # write_samples(dir_path, LEA_mf)\n",
    "# write_samples(dir_path, OSG_mf)\n",
    "# write_samples(dir_path, GOR_mf)\n",
    "# # write_samples(dir_path, OGU_mf)\n",
    "# write_samples(dir_path, APU_mf)\n",
    "\n",
    "print \"\"\"\n",
    "/home/gus/Documents/YalePostDoc/project_stuff/g_f_fucipes_uganda/collection_data/samples_used/2015-03-23_30_MF_random_GAN.xls\n",
    "/home/gus/Documents/YalePostDoc/project_stuff/g_f_fucipes_uganda/collection_data/samples_used/2015-03-23_30_MF_random_OSG.xls\n",
    "/home/gus/Documents/YalePostDoc/project_stuff/g_f_fucipes_uganda/collection_data/samples_used/2015-03-23_30_MF_random_APU.xls\n",
    "\"\"\""
   ]
  },
  {
   "cell_type": "markdown",
   "metadata": {},
   "source": [
    "### 2015-03-24: Get next set of fly IDs for Robert's MicroSat work to Kirstin/Alexis \n",
    "\n",
    "- OKS 15 each M/F"
   ]
  },
  {
   "cell_type": "code",
   "execution_count": null,
   "metadata": {
    "collapsed": false
   },
   "outputs": [],
   "source": [
    "len(df.query('Village == \"OKS\"').query('Dead == False').query('Teneral == False').query('infection_state == False').query('Sex == \"F\"'))"
   ]
  },
  {
   "cell_type": "code",
   "execution_count": null,
   "metadata": {
    "collapsed": true
   },
   "outputs": [],
   "source": [
    "OKS_select = df.query('Village == \"OKS\"').query('Dead == False').query('Teneral == False').query('infection_state == False')"
   ]
  },
  {
   "cell_type": "code",
   "execution_count": null,
   "metadata": {
    "collapsed": false
   },
   "outputs": [],
   "source": [
    "OKS_select.query(\"Fly_Number == 175\")"
   ]
  },
  {
   "cell_type": "code",
   "execution_count": null,
   "metadata": {
    "collapsed": false
   },
   "outputs": [],
   "source": [
    "# OKS_m = get_random_rows(OKS_select.query('Sex == \"M\"'),15)\n",
    "# OKS_f = get_random_rows(OKS_select.query('Sex == \"F\"'),15)\n",
    "\n",
    "# OKS_mf = pd.concat([OKS_m, OKS_f])"
   ]
  },
  {
   "cell_type": "code",
   "execution_count": null,
   "metadata": {
    "collapsed": false
   },
   "outputs": [],
   "source": [
    "# write_samples(dir_path, OKS_mf)"
   ]
  },
  {
   "cell_type": "code",
   "execution_count": null,
   "metadata": {
    "collapsed": true
   },
   "outputs": [],
   "source": []
  },
  {
   "cell_type": "markdown",
   "metadata": {},
   "source": [
    "### 2015-03-23: Get next set of fly IDs for Robert's MicroSat work to Kirstin/Alexis \n",
    "\n",
    "- GAN 15 each M/F\n",
    "- LEA 15 each M/F\n",
    "- OSG 15 each M/F\n",
    "- GOR 15 each M/F  (NOPE)\n",
    "- OGU 15 each M/F\n",
    "- APU 15 each M/F"
   ]
  },
  {
   "cell_type": "code",
   "execution_count": 51,
   "metadata": {
    "collapsed": true
   },
   "outputs": [],
   "source": [
    "osg_missing = [122,\n",
    "               138,\n",
    "               91,\n",
    "               170,\n",
    "               110,\n",
    "               107,\n",
    "               169,\n",
    "               168,\n",
    "               146,\n",
    "               118,\n",
    "               93,\n",
    "               149,\n",
    "               151,\n",
    "               152,\n",
    "               114,\n",
    "               139,\n",
    "               134,\n",
    "               113,\n",
    "               140\n",
    "              ]\n",
    "\n",
    "gan_missing = [280,\n",
    "               151,\n",
    "               436,\n",
    "               105,\n",
    "               307,\n",
    "               154,\n",
    "               432,\n",
    "               314,\n",
    "               312,\n",
    "               147,\n",
    "               308,\n",
    "               435,\n",
    "               433,\n",
    "               259,\n",
    "               296,\n",
    "               255,\n",
    "               126,\n",
    "               261,\n",
    "               298\n",
    "              ]"
   ]
  },
  {
   "cell_type": "code",
   "execution_count": 89,
   "metadata": {
    "collapsed": false
   },
   "outputs": [
    {
     "name": "stdout",
     "output_type": "stream",
     "text": [
      "Returning all GAN:M bc sample_size is larger than population.\n",
      "Returning all LEA:M bc sample_size is larger than population.\n",
      "Returning all LEA:F bc sample_size is larger than population.\n",
      "Returning all OSG:M bc sample_size is larger than population.\n",
      "Returning all OGU:M bc sample_size is larger than population.\n",
      "GAN: 25\n",
      "LEA: 16\n",
      "OSG: 25\n",
      "OGU: 20\n",
      "APU: 26\n"
     ]
    }
   ],
   "source": [
    "# GAN_m = get_random_rows(df.query('Dead == False').query('Sex == \"M\"').query('Village == \"GAN\"'), 13, \n",
    "#                         exclude_by='Fly_Number', exclude_values=gan_missing)\n",
    "# GAN_f = get_random_rows(df.query('Dead == False').query('Sex == \"F\"').query('Village == \"GAN\"'), 13, \n",
    "#                         exclude_by='Fly_Number', exclude_values=gan_missing)\n",
    "\n",
    "# LEA_m = get_random_rows(df.query('Dead == False').query('Sex == \"M\"').query('Village == \"LEA\"'), 13, \n",
    "#                         exclude_by=None, exclude_values=None)\n",
    "# LEA_f = get_random_rows(df.query('Dead == False').query('Sex == \"F\"').query('Village == \"LEA\"'), 13, \n",
    "#                         exclude_by=None, exclude_values=None)\n",
    "\n",
    "# OSG_m = get_random_rows(df.query('Dead == False').query('Sex == \"M\"').query('Village == \"OSG\"'), 13, \n",
    "#                         exclude_by='Fly_Number', exclude_values=osg_missing)\n",
    "# OSG_f = get_random_rows(df.query('Dead == False').query('Sex == \"F\"').query('Village == \"OSG\"'), 13, \n",
    "#                         exclude_by='Fly_Number', exclude_values=osg_missing)\n",
    "\n",
    "# OGU_m = get_random_rows(df.query('Dead == False').query('Sex == \"M\"').query('Village == \"OGU\"'), 13, \n",
    "#                         exclude_by=None, exclude_values=None)\n",
    "# OGU_f = get_random_rows(df.query('Dead == False').query('Sex == \"F\"').query('Village == \"OGU\"'), 13, \n",
    "#                         exclude_by=None, exclude_values=None)\n",
    "\n",
    "# APU_m = get_random_rows(df.query('Dead == False').query('Sex == \"M\"').query('Village == \"APU\"'), 13, \n",
    "#                         exclude_by=None, exclude_values=None)\n",
    "# APU_f = get_random_rows(df.query('Dead == False').query('Sex == \"F\"').query('Village == \"APU\"'), 13,\n",
    "#                         exclude_by=None, exclude_values=None)\n",
    "\n",
    "\n",
    "\n",
    "# GAN_mf = pd.concat([GAN_m, GAN_f])\n",
    "# LEA_mf = pd.concat([LEA_m, LEA_f])\n",
    "# OSG_mf = pd.concat([OSG_m, OSG_f])\n",
    "# OGU_mf = pd.concat([OGU_m, OGU_f])\n",
    "# APU_mf = pd.concat([APU_m, APU_f])\n",
    "\n",
    "\n",
    "# print \"{vil}: {leng}\".format(vil=GAN_mf.Village.iloc[0], leng=len(GAN_mf))\n",
    "# print \"{vil}: {leng}\".format(vil=LEA_mf.Village.iloc[0], leng=len(LEA_mf))\n",
    "# print \"{vil}: {leng}\".format(vil=OSG_mf.Village.iloc[0], leng=len(OSG_mf))\n",
    "# print \"{vil}: {leng}\".format(vil=OGU_mf.Village.iloc[0], leng=len(OGU_mf))\n",
    "# print \"{vil}: {leng}\".format(vil=APU_mf.Village.iloc[0], leng=len(APU_mf))"
   ]
  },
  {
   "cell_type": "markdown",
   "metadata": {},
   "source": [
    "Output of above:\n",
    "\n",
    "    Returning all GAN:M bc sample_size is larger than population.\n",
    "    Returning all LEA:M bc sample_size is larger than population.\n",
    "    Returning all LEA:F bc sample_size is larger than population.\n",
    "    Returning all OSG:M bc sample_size is larger than population.\n",
    "    Returning all OGU:M bc sample_size is larger than population.\n",
    "    GAN: 25\n",
    "    LEA: 16\n",
    "    OSG: 25\n",
    "    OGU: 20\n",
    "    APU: 26"
   ]
  },
  {
   "cell_type": "code",
   "execution_count": 94,
   "metadata": {
    "collapsed": false,
    "scrolled": true
   },
   "outputs": [],
   "source": [
    "dir_path = \"/home/gus/Documents/YalePostDoc/project_stuff/g_f_fucipes_uganda/collection_data/samples_used/\"\n",
    "\n",
    "\n",
    "# write_samples(dir_path, GAN_mf)\n",
    "# write_samples(dir_path, LEA_mf)\n",
    "# write_samples(dir_path, OSG_mf)\n",
    "# write_samples(dir_path, OGU_mf)\n",
    "# write_samples(dir_path, APU_mf)\n"
   ]
  },
  {
   "cell_type": "markdown",
   "metadata": {},
   "source": [
    "Output of above:\n",
    "\n",
    "    /home/gus/Documents/YalePostDoc/project_stuff/g_f_fucipes_uganda/collection_data/samples_used/2015-03-31_25_MF_random_GAN.xls\n",
    "    /home/gus/Documents/YalePostDoc/project_stuff/g_f_fucipes_uganda/collection_data/samples_used/2015-03-31_16_MF_random_LEA.xls\n",
    "    /home/gus/Documents/YalePostDoc/project_stuff/g_f_fucipes_uganda/collection_data/samples_used/2015-03-31_25_MF_random_OSG.xls\n",
    "    /home/gus/Documents/YalePostDoc/project_stuff/g_f_fucipes_uganda/collection_data/samples_used/2015-03-31_20_MF_random_OGU.xls\n",
    "    /home/gus/Documents/YalePostDoc/project_stuff/g_f_fucipes_uganda/collection_data/samples_used/2015-03-31_26_MF_random_APU.xls"
   ]
  },
  {
   "cell_type": "code",
   "execution_count": null,
   "metadata": {
    "collapsed": true
   },
   "outputs": [],
   "source": []
  }
 ],
 "metadata": {
  "kernelspec": {
   "display_name": "Python 2",
   "language": "python",
   "name": "python2"
  },
  "language_info": {
   "codemirror_mode": {
    "name": "ipython",
    "version": 2
   },
   "file_extension": ".py",
   "mimetype": "text/x-python",
   "name": "python",
   "nbconvert_exporter": "python",
   "pygments_lexer": "ipython2",
   "version": "2.7.9"
  }
 },
 "nbformat": 4,
 "nbformat_minor": 0
}
