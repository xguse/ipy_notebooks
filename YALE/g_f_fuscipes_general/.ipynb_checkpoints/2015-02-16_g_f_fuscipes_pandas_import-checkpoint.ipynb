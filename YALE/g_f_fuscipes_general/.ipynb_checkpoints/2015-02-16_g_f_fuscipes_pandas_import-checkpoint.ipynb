{
 "cells": [
  {
   "cell_type": "markdown",
   "metadata": {},
   "source": [
    "# Purpose:\n",
    "\n",
    "2015-02-16 (Monday)\n",
    "\n",
    "Generate code to import and summarize collection field records in pandas while the real DB is being finished."
   ]
  },
  {
   "cell_type": "markdown",
   "metadata": {},
   "source": [
    "# Implementation:"
   ]
  },
  {
   "cell_type": "markdown",
   "metadata": {},
   "source": [
    "## Imports:"
   ]
  },
  {
   "cell_type": "code",
   "execution_count": 31,
   "metadata": {
    "collapsed": true
   },
   "outputs": [],
   "source": [
    "# imports\n",
    "import csv\n",
    "import itertools\n",
    "\n",
    "import pandas as pd\n",
    "import numpy as np\n",
    "\n",
    "import munch"
   ]
  },
  {
   "cell_type": "code",
   "execution_count": 2,
   "metadata": {
    "collapsed": true
   },
   "outputs": [],
   "source": [
    "# for plotting\n",
    "import ggplot as g\n"
   ]
  },
  {
   "cell_type": "markdown",
   "metadata": {},
   "source": [
    "## File paths:"
   ]
  },
  {
   "cell_type": "code",
   "execution_count": 3,
   "metadata": {
    "collapsed": true
   },
   "outputs": [],
   "source": [
    "# define paths to files\n",
    "\n",
    "spring_summer = \"/home/gus/Documents/YalePostDoc/project_stuff/g_f_fucipes_uganda/collection_data/2014_spring_summer_from_rob.xlsx\"\n",
    "fall =          \"/home/gus/Documents/YalePostDoc/project_stuff/g_f_fucipes_uganda/collection_data/2014_fall_for_pandas.xlsx\"\n",
    "\n",
    "\n",
    "h5_out_path = \"/home/gus/Documents/YalePostDoc/project_stuff/g_f_fucipes_uganda/collection_data/hdf5/2014_collection_records.h5\""
   ]
  },
  {
   "cell_type": "code",
   "execution_count": 4,
   "metadata": {
    "collapsed": true
   },
   "outputs": [],
   "source": [
    "village_id_map_path = \"/home/gus/Dropbox/uganda_data/data_repos/field_data/locations/names/uganda_village_id_map.csv\""
   ]
  },
  {
   "cell_type": "markdown",
   "metadata": {},
   "source": [
    "----\n",
    "# Helper functions"
   ]
  },
  {
   "cell_type": "code",
   "execution_count": 48,
   "metadata": {
    "collapsed": true
   },
   "outputs": [],
   "source": [
    "def get_village_id_map(village_id_map_path):\n",
    "    \"\"\"\n",
    "    Generates and returns a `dict` mapping the long-form village names to the letter codes.\n",
    "    Letter codes map back to themselves to ensure a one way mapping.  \n",
    "    Enforces both be all UPPERcase to allow case insensitivity as long as\n",
    "    the map is used like: `map[text.upper()]`.\n",
    "    :return: `dict`\n",
    "    \"\"\"\n",
    "\n",
    "    village_id_map = {}\n",
    "\n",
    "    with open(village_id_map_path, 'rb') as csv_file:\n",
    "        village_ids = csv.reader(csv_file, delimiter=',')\n",
    "        for pair in village_ids:\n",
    "            village_id_map[unicode(pair[0].upper())] = unicode(pair[0].upper())\n",
    "            village_id_map[unicode(pair[1].upper())] = unicode(pair[0].upper())\n",
    "\n",
    "    return village_id_map"
   ]
  },
  {
   "cell_type": "code",
   "execution_count": 6,
   "metadata": {
    "collapsed": true
   },
   "outputs": [],
   "source": [
    "def load_xl_sheets(xl_path):\n",
    "    dfs = munch.Munch()\n",
    "    \n",
    "    xls = pd.ExcelFile(xl_path)\n",
    "    \n",
    "    for sheet in xls.sheet_names:\n",
    "        if sheet.upper().startswith(\"DISSECT\"):\n",
    "            dfs[sheet] = xls.parse(sheetname=sheet, \n",
    "                                header=0, \n",
    "                                skiprows=None, skip_footer=0, \n",
    "                                index_col=None, parse_cols=None, \n",
    "                                parse_dates=False, date_parser=None, \n",
    "                                na_values=['NA'], \n",
    "                                thousands=None, chunksize=None, \n",
    "                                convert_float=False, \n",
    "                                has_index_names=False, converters=None)\n",
    "    return dfs"
   ]
  },
  {
   "cell_type": "code",
   "execution_count": 125,
   "metadata": {
    "collapsed": false
   },
   "outputs": [],
   "source": [
    "def recode_villages(df):\n",
    "        map_func = lambda x: village_id_map[x.upper()]\n",
    "        \n",
    "    new_codes = df.Village.apply(map_func)\n",
    "    df.Village = new_codes    "
   ]
  },
  {
   "cell_type": "code",
   "execution_count": 151,
   "metadata": {
    "collapsed": false
   },
   "outputs": [
    {
     "ename": "ValueError",
     "evalue": "cannot convert float NaN to integer",
     "output_type": "error",
     "traceback": [
      "\u001b[1;31m---------------------------------------------------------------------------\u001b[0m",
      "\u001b[1;31mValueError\u001b[0m                                Traceback (most recent call last)",
      "\u001b[1;32m<ipython-input-151-70b649089800>\u001b[0m in \u001b[0;36m<module>\u001b[1;34m()\u001b[0m\n\u001b[1;32m----> 1\u001b[1;33m \u001b[0mint\u001b[0m\u001b[1;33m(\u001b[0m\u001b[0mnan\u001b[0m\u001b[1;33m)\u001b[0m\u001b[1;33m\u001b[0m\u001b[0m\n\u001b[0m",
      "\u001b[1;31mValueError\u001b[0m: cannot convert float NaN to integer"
     ]
    }
   ],
   "source": [
    "int(nan)"
   ]
  },
  {
   "cell_type": "code",
   "execution_count": 155,
   "metadata": {
    "collapsed": true
   },
   "outputs": [],
   "source": [
    "def recode_positives(df):\n",
    "    # deal with words\n",
    "    unk_to_F =  lambda x: False if unicode(x).upper().startswith('UN') else True  # expected matches: variations on \"Unknown\"\n",
    "    no_to_F =   lambda x: False if unicode(x).upper().startswith('NO') else True  # expected matches: variations on \"Not dissected\" or \"no\"\n",
    "    fals_to_F = lambda x: False if unicode(x).upper().startswith('FALSE') else True\n",
    "    tru_to_T =  lambda x: True  if unicode(x).upper().startswith('TRUE') else True\n",
    "    pos_to_T =  lambda x: True  if unicode(x).upper().startswith('P') else True  # expected matches: variations on \"Positive\"\n",
    "    yes_to_T =  lambda x: True  if unicode(x).upper().startswith('Y') else True  # expected matches: variations on \"Yes\"\n",
    "    \n",
    "    # deal with 0 or 1\n",
    "    one_to_T =  lambda x: True  if x == 1 else True\n",
    "    zero_to_F = lambda x: False if x == 0 else True\n",
    "    \n",
    "    boolean_addition = lambda x:    int(unk_to_F(x) + \n",
    "                                        no_to_F(x) + \n",
    "                                        fals_to_F(x) + \n",
    "                                        tru_to_T(x) + \n",
    "                                        pos_to_T(x) + \n",
    "                                        yes_to_T(x) + \n",
    "                                        one_to_T(x) + \n",
    "                                        zero_to_F(x))\n",
    "    \n",
    "    \n",
    "    \n",
    "    new_codes = df.prob.fillna(0).apply(boolean_addition)\n",
    "    df.prob = new_codes   \n",
    "    "
   ]
  },
  {
   "cell_type": "code",
   "execution_count": 44,
   "metadata": {
    "collapsed": false
   },
   "outputs": [],
   "source": [
    "def aggregate_column_from_df_list(df_list, col_name):\n",
    "    agg_data = []\n",
    "    for df in df_list:\n",
    "        agg_data.extend(list(df[col_name]))\n",
    "        \n",
    "    \n",
    "    return agg_data"
   ]
  },
  {
   "cell_type": "markdown",
   "metadata": {},
   "source": [
    "----\n",
    "# Helpful constants"
   ]
  },
  {
   "cell_type": "code",
   "execution_count": 96,
   "metadata": {
    "collapsed": true
   },
   "outputs": [],
   "source": [
    "village_id_map = get_village_id_map(village_id_map_path)"
   ]
  },
  {
   "cell_type": "code",
   "execution_count": 103,
   "metadata": {
    "collapsed": false
   },
   "outputs": [
    {
     "data": {
      "text/plain": [
       "str"
      ]
     },
     "execution_count": 103,
     "metadata": {},
     "output_type": "execute_result"
    }
   ],
   "source": [
    "type(spring_summer)"
   ]
  },
  {
   "cell_type": "code",
   "execution_count": 158,
   "metadata": {
    "collapsed": true
   },
   "outputs": [],
   "source": [
    "spring_summer_dfs = load_xl_sheets(spring_summer)\n",
    "fall_dfs = load_xl_sheets(fall)"
   ]
  },
  {
   "cell_type": "code",
   "execution_count": 131,
   "metadata": {
    "collapsed": false
   },
   "outputs": [
    {
     "data": {
      "text/html": [
       "<div style=\"max-height:1000px;max-width:1500px;overflow:auto;\">\n",
       "<table border=\"1\" class=\"dataframe\">\n",
       "  <thead>\n",
       "    <tr style=\"text-align: right;\">\n",
       "      <th></th>\n",
       "      <th>Village</th>\n",
       "      <th>Trap_No</th>\n",
       "      <th>Date</th>\n",
       "      <th>Species</th>\n",
       "      <th>Sex</th>\n",
       "      <th>Teneral</th>\n",
       "      <th>Dead</th>\n",
       "      <th>Fly_Number</th>\n",
       "      <th>Hunger_stage</th>\n",
       "      <th>prob</th>\n",
       "      <th>midgut</th>\n",
       "      <th>sal_gland</th>\n",
       "      <th>Wing_fray</th>\n",
       "      <th>Kept_in</th>\n",
       "      <th>Comment</th>\n",
       "    </tr>\n",
       "  </thead>\n",
       "  <tbody>\n",
       "    <tr>\n",
       "      <th>0</th>\n",
       "      <td> Kitgum town council</td>\n",
       "      <td> 1</td>\n",
       "      <td>2014-10-08</td>\n",
       "      <td> Gff</td>\n",
       "      <td> M</td>\n",
       "      <td>  T</td>\n",
       "      <td>NaN</td>\n",
       "      <td> 1</td>\n",
       "      <td>NaN</td>\n",
       "      <td> 0</td>\n",
       "      <td> 0</td>\n",
       "      <td> 0</td>\n",
       "      <td>NaN</td>\n",
       "      <td> Ethanol</td>\n",
       "      <td> NaN</td>\n",
       "    </tr>\n",
       "    <tr>\n",
       "      <th>1</th>\n",
       "      <td> Kitgum town council</td>\n",
       "      <td> 1</td>\n",
       "      <td>2014-10-08</td>\n",
       "      <td> Gff</td>\n",
       "      <td> M</td>\n",
       "      <td> NT</td>\n",
       "      <td>NaN</td>\n",
       "      <td> 2</td>\n",
       "      <td>  3</td>\n",
       "      <td> 0</td>\n",
       "      <td> 0</td>\n",
       "      <td> 0</td>\n",
       "      <td>  2</td>\n",
       "      <td> Ethanol</td>\n",
       "      <td> NaN</td>\n",
       "    </tr>\n",
       "  </tbody>\n",
       "</table>\n",
       "</div>"
      ],
      "text/plain": [
       "               Village  Trap_No       Date Species Sex Teneral  Dead  \\\n",
       "0  Kitgum town council        1 2014-10-08     Gff   M       T   NaN   \n",
       "1  Kitgum town council        1 2014-10-08     Gff   M      NT   NaN   \n",
       "\n",
       "   Fly_Number  Hunger_stage  prob midgut  sal_gland  Wing_fray  Kept_in  \\\n",
       "0           1           NaN     0      0          0        NaN  Ethanol   \n",
       "1           2             3     0      0          0          2  Ethanol   \n",
       "\n",
       "  Comment  \n",
       "0     NaN  \n",
       "1     NaN  "
      ]
     },
     "execution_count": 131,
     "metadata": {},
     "output_type": "execute_result"
    }
   ],
   "source": [
    "fall_dfs.values()[0].head(2)"
   ]
  },
  {
   "cell_type": "code",
   "execution_count": 159,
   "metadata": {
    "collapsed": false
   },
   "outputs": [],
   "source": [
    "df = fall_dfs.values()[0]\n",
    "recode_villages(df)"
   ]
  },
  {
   "cell_type": "code",
   "execution_count": null,
   "metadata": {
    "collapsed": false
   },
   "outputs": [],
   "source": [
    "None + False"
   ]
  },
  {
   "cell_type": "code",
   "execution_count": 161,
   "metadata": {
    "collapsed": false
   },
   "outputs": [
    {
     "data": {
      "text/plain": [
       "array([  0.,  nan])"
      ]
     },
     "execution_count": 161,
     "metadata": {},
     "output_type": "execute_result"
    }
   ],
   "source": [
    "df.prob.unique()"
   ]
  },
  {
   "cell_type": "code",
   "execution_count": 162,
   "metadata": {
    "collapsed": false
   },
   "outputs": [
    {
     "data": {
      "text/plain": [
       "array([0])"
      ]
     },
     "execution_count": 162,
     "metadata": {},
     "output_type": "execute_result"
    }
   ],
   "source": [
    "recode_positives(df)\n",
    "df.prob.unique()"
   ]
  },
  {
   "cell_type": "code",
   "execution_count": 163,
   "metadata": {
    "collapsed": false
   },
   "outputs": [],
   "source": [
    "# for df in df_all:\n",
    "#     print set(df.columns)"
   ]
  },
  {
   "cell_type": "code",
   "execution_count": 165,
   "metadata": {
    "collapsed": false
   },
   "outputs": [
    {
     "name": "stdout",
     "output_type": "stream",
     "text": [
      "Automatic pdb calling has been turned ON\n"
     ]
    }
   ],
   "source": [
    "pdb"
   ]
  },
  {
   "cell_type": "code",
   "execution_count": null,
   "metadata": {
    "collapsed": false
   },
   "outputs": [
    {
     "ename": "TypeError",
     "evalue": "unsupported operand type(s) for +: 'bool' and 'unicode'",
     "output_type": "error",
     "traceback": [
      "\u001b[1;31m---------------------------------------------------------------------------\u001b[0m",
      "\u001b[1;31mTypeError\u001b[0m                                 Traceback (most recent call last)",
      "\u001b[1;32m<ipython-input-166-07454b9d5cbf>\u001b[0m in \u001b[0;36m<module>\u001b[1;34m()\u001b[0m\n\u001b[0;32m      4\u001b[0m \u001b[1;32mfor\u001b[0m \u001b[0mdf\u001b[0m \u001b[1;32min\u001b[0m \u001b[0mdf_all\u001b[0m\u001b[1;33m:\u001b[0m\u001b[1;33m\u001b[0m\u001b[0m\n\u001b[0;32m      5\u001b[0m     \u001b[0mrecode_villages\u001b[0m\u001b[1;33m(\u001b[0m\u001b[0mdf\u001b[0m\u001b[1;33m)\u001b[0m\u001b[1;33m\u001b[0m\u001b[0m\n\u001b[1;32m----> 6\u001b[1;33m     \u001b[0mrecode_positives\u001b[0m\u001b[1;33m(\u001b[0m\u001b[0mdf\u001b[0m\u001b[1;33m)\u001b[0m\u001b[1;33m\u001b[0m\u001b[0m\n\u001b[0m",
      "\u001b[1;32m<ipython-input-155-684a99005417>\u001b[0m in \u001b[0;36mrecode_positives\u001b[1;34m(df)\u001b[0m\n\u001b[0;32m     23\u001b[0m \u001b[1;33m\u001b[0m\u001b[0m\n\u001b[0;32m     24\u001b[0m \u001b[1;33m\u001b[0m\u001b[0m\n\u001b[1;32m---> 25\u001b[1;33m     \u001b[0mnew_codes\u001b[0m \u001b[1;33m=\u001b[0m \u001b[0mdf\u001b[0m\u001b[1;33m.\u001b[0m\u001b[0mprob\u001b[0m\u001b[1;33m.\u001b[0m\u001b[0mfillna\u001b[0m\u001b[1;33m(\u001b[0m\u001b[1;36m0\u001b[0m\u001b[1;33m)\u001b[0m\u001b[1;33m.\u001b[0m\u001b[0mapply\u001b[0m\u001b[1;33m(\u001b[0m\u001b[0mboolean_addition\u001b[0m\u001b[1;33m)\u001b[0m\u001b[1;33m\u001b[0m\u001b[0m\n\u001b[0m\u001b[0;32m     26\u001b[0m     \u001b[0mdf\u001b[0m\u001b[1;33m.\u001b[0m\u001b[0mprob\u001b[0m \u001b[1;33m=\u001b[0m \u001b[0mnew_codes\u001b[0m\u001b[1;33m\u001b[0m\u001b[0m\n\u001b[0;32m     27\u001b[0m \u001b[1;33m\u001b[0m\u001b[0m\n",
      "\u001b[1;32m/home/gus/.virtualenvs/py279/lib/python2.7/site-packages/pandas/core/series.pyc\u001b[0m in \u001b[0;36mapply\u001b[1;34m(self, func, convert_dtype, args, **kwds)\u001b[0m\n\u001b[0;32m   2056\u001b[0m             \u001b[0mvalues\u001b[0m \u001b[1;33m=\u001b[0m \u001b[0mlib\u001b[0m\u001b[1;33m.\u001b[0m\u001b[0mmap_infer\u001b[0m\u001b[1;33m(\u001b[0m\u001b[0mvalues\u001b[0m\u001b[1;33m,\u001b[0m \u001b[0mlib\u001b[0m\u001b[1;33m.\u001b[0m\u001b[0mTimestamp\u001b[0m\u001b[1;33m)\u001b[0m\u001b[1;33m\u001b[0m\u001b[0m\n\u001b[0;32m   2057\u001b[0m \u001b[1;33m\u001b[0m\u001b[0m\n\u001b[1;32m-> 2058\u001b[1;33m         \u001b[0mmapped\u001b[0m \u001b[1;33m=\u001b[0m \u001b[0mlib\u001b[0m\u001b[1;33m.\u001b[0m\u001b[0mmap_infer\u001b[0m\u001b[1;33m(\u001b[0m\u001b[0mvalues\u001b[0m\u001b[1;33m,\u001b[0m \u001b[0mf\u001b[0m\u001b[1;33m,\u001b[0m \u001b[0mconvert\u001b[0m\u001b[1;33m=\u001b[0m\u001b[0mconvert_dtype\u001b[0m\u001b[1;33m)\u001b[0m\u001b[1;33m\u001b[0m\u001b[0m\n\u001b[0m\u001b[0;32m   2059\u001b[0m         \u001b[1;32mif\u001b[0m \u001b[0mlen\u001b[0m\u001b[1;33m(\u001b[0m\u001b[0mmapped\u001b[0m\u001b[1;33m)\u001b[0m \u001b[1;32mand\u001b[0m \u001b[0misinstance\u001b[0m\u001b[1;33m(\u001b[0m\u001b[0mmapped\u001b[0m\u001b[1;33m[\u001b[0m\u001b[1;36m0\u001b[0m\u001b[1;33m]\u001b[0m\u001b[1;33m,\u001b[0m \u001b[0mSeries\u001b[0m\u001b[1;33m)\u001b[0m\u001b[1;33m:\u001b[0m\u001b[1;33m\u001b[0m\u001b[0m\n\u001b[0;32m   2060\u001b[0m             \u001b[1;32mfrom\u001b[0m \u001b[0mpandas\u001b[0m\u001b[1;33m.\u001b[0m\u001b[0mcore\u001b[0m\u001b[1;33m.\u001b[0m\u001b[0mframe\u001b[0m \u001b[1;32mimport\u001b[0m \u001b[0mDataFrame\u001b[0m\u001b[1;33m\u001b[0m\u001b[0m\n",
      "\u001b[1;32mpandas/src/inference.pyx\u001b[0m in \u001b[0;36mpandas.lib.map_infer (pandas/lib.c:57158)\u001b[1;34m()\u001b[0m\n",
      "\u001b[1;32m<ipython-input-155-684a99005417>\u001b[0m in \u001b[0;36m<lambda>\u001b[1;34m(x)\u001b[0m\n\u001b[0;32m     18\u001b[0m                                         \u001b[0mpos_to_T\u001b[0m\u001b[1;33m(\u001b[0m\u001b[0mx\u001b[0m\u001b[1;33m)\u001b[0m \u001b[1;33m+\u001b[0m\u001b[1;33m\u001b[0m\u001b[0m\n\u001b[0;32m     19\u001b[0m                                         \u001b[0myes_to_T\u001b[0m\u001b[1;33m(\u001b[0m\u001b[0mx\u001b[0m\u001b[1;33m)\u001b[0m \u001b[1;33m+\u001b[0m\u001b[1;33m\u001b[0m\u001b[0m\n\u001b[1;32m---> 20\u001b[1;33m                                         \u001b[0mone_to_T\u001b[0m\u001b[1;33m(\u001b[0m\u001b[0mx\u001b[0m\u001b[1;33m)\u001b[0m \u001b[1;33m+\u001b[0m\u001b[1;33m\u001b[0m\u001b[0m\n\u001b[0m\u001b[0;32m     21\u001b[0m                                         zero_to_F(x))\n\u001b[0;32m     22\u001b[0m \u001b[1;33m\u001b[0m\u001b[0m\n",
      "\u001b[1;31mTypeError\u001b[0m: unsupported operand type(s) for +: 'bool' and 'unicode'"
     ]
    },
    {
     "name": "stdout",
     "output_type": "stream",
     "text": [
      "> \u001b[1;32m<ipython-input-155-684a99005417>\u001b[0m(20)\u001b[0;36m<lambda>\u001b[1;34m()\u001b[0m\n",
      "\u001b[1;32m     19 \u001b[1;33m                                        \u001b[0myes_to_T\u001b[0m\u001b[1;33m(\u001b[0m\u001b[0mx\u001b[0m\u001b[1;33m)\u001b[0m \u001b[1;33m+\u001b[0m\u001b[1;33m\u001b[0m\u001b[0m\n",
      "\u001b[0m\u001b[1;32m---> 20 \u001b[1;33m                                        \u001b[0mone_to_T\u001b[0m\u001b[1;33m(\u001b[0m\u001b[0mx\u001b[0m\u001b[1;33m)\u001b[0m \u001b[1;33m+\u001b[0m\u001b[1;33m\u001b[0m\u001b[0m\n",
      "\u001b[0m\u001b[1;32m     21 \u001b[1;33m                                        zero_to_F(x))\n",
      "\u001b[0m\n",
      "ipdb> yes_to_T(x)\n",
      "u'Unk.'\n",
      "ipdb> None + False\n",
      "*** TypeError: unsupported operand type(s) for +: 'NoneType' and 'bool'\n"
     ]
    }
   ],
   "source": [
    "# list all dfs and run our recoder's so far\n",
    "df_all = spring_summer_dfs.values() + fall_dfs.values()\n",
    "\n",
    "for df in df_all:\n",
    "    recode_villages(df)\n",
    "    recode_positives(df)"
   ]
  },
  {
   "cell_type": "code",
   "execution_count": 139,
   "metadata": {
    "collapsed": false
   },
   "outputs": [],
   "source": [
    "sal_all = aggregate_column_from_df_list(df_all, 'sal_gland')\n",
    "\n",
    "nan_to_0 = lambda x: 0 if pd.isnull(x) else x\n",
    "sal_all = [nan_to_0(x) for x in sal_all]"
   ]
  },
  {
   "cell_type": "code",
   "execution_count": 140,
   "metadata": {
    "collapsed": false
   },
   "outputs": [],
   "source": [
    "s = set(sal_all)"
   ]
  },
  {
   "cell_type": "code",
   "execution_count": 141,
   "metadata": {
    "collapsed": false
   },
   "outputs": [
    {
     "data": {
      "text/plain": [
       "{0.0, 1.0, u'Unk.', u'not dissected'}"
      ]
     },
     "execution_count": 141,
     "metadata": {},
     "output_type": "execute_result"
    }
   ],
   "source": [
    "s"
   ]
  },
  {
   "cell_type": "markdown",
   "metadata": {},
   "source": [
    "---\n",
    "# somethign new"
   ]
  },
  {
   "cell_type": "code",
   "execution_count": null,
   "metadata": {
    "collapsed": true
   },
   "outputs": [],
   "source": []
  }
 ],
 "metadata": {
  "kernelspec": {
   "display_name": "IPython (Python 2)",
   "name": "python2"
  },
  "language_info": {
   "codemirror_mode": {
    "name": "ipython",
    "version": 2
   },
   "file_extension": ".py",
   "mimetype": "text/x-python",
   "name": "python",
   "nbconvert_exporter": "python",
   "pygments_lexer": "ipython2",
   "version": "2.7.9"
  }
 },
 "nbformat": 4,
 "nbformat_minor": 0
}