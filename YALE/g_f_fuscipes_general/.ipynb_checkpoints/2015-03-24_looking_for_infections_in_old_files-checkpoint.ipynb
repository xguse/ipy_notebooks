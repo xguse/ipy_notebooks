{
 "cells": [
  {
   "cell_type": "markdown",
   "metadata": {},
   "source": [
    "# Purpose:\n",
    "\n",
    "2015-03-24 (Tuesday)\n",
    "\n",
    "Use newly discovered database excel files to reason about where to look for infected flies in our collection."
   ]
  },
  {
   "cell_type": "markdown",
   "metadata": {},
   "source": [
    "# Implementation:"
   ]
  },
  {
   "cell_type": "markdown",
   "metadata": {},
   "source": [
    "## Imports:"
   ]
  },
  {
   "cell_type": "code",
   "execution_count": 15,
   "metadata": {
    "collapsed": true
   },
   "outputs": [],
   "source": [
    "# imports\n",
    "import sys\n",
    "import os\n",
    "import re\n",
    "import pandas as pd\n",
    "import numpy as np\n",
    "\n",
    "\n",
    "from shapely.geometry import Polygon, Point\n",
    "from geopy.distance import great_circle\n",
    "from geopandas import GeoDataFrame\n",
    "from descartes import PolygonPatch\n",
    "\n",
    "\n",
    "import seaborn as sns"
   ]
  },
  {
   "cell_type": "code",
   "execution_count": 16,
   "metadata": {
    "collapsed": false
   },
   "outputs": [],
   "source": [
    "%matplotlib inline"
   ]
  },
  {
   "cell_type": "markdown",
   "metadata": {},
   "source": [
    "## File paths:"
   ]
  },
  {
   "cell_type": "code",
   "execution_count": 17,
   "metadata": {
    "collapsed": true
   },
   "outputs": [],
   "source": [
    "# define paths to files\n",
    "source_dir = '/home/gus/Dropbox/uganda_data/tsetse_database/districts'\n",
    "\n",
    "traps_gps_geojson = \"/home/gus/Dropbox/uganda_data/data_repos/field_data/locations/gps/traps/uganda_villages_gps_beadell.geojson\"\n",
    "village_gps_geojson = \"/home/gus/Dropbox/uganda_data/data_repos/field_data/locations/gps/villages/uganda_villages_gps_beadell.geojson\""
   ]
  },
  {
   "cell_type": "markdown",
   "metadata": {},
   "source": [
    "## Collect the files and create master dataframe"
   ]
  },
  {
   "cell_type": "code",
   "execution_count": 18,
   "metadata": {
    "collapsed": true
   },
   "outputs": [],
   "source": [
    "workbooks = []"
   ]
  },
  {
   "cell_type": "code",
   "execution_count": 19,
   "metadata": {
    "collapsed": false
   },
   "outputs": [],
   "source": [
    "for name in os.listdir(source_dir):\n",
    "#     print os.path.splitext(name)\n",
    "    if os.path.splitext(name)[-1].startswith('.xls'):\n",
    "        workbooks.append(name)"
   ]
  },
  {
   "cell_type": "code",
   "execution_count": 20,
   "metadata": {
    "collapsed": false
   },
   "outputs": [
    {
     "data": {
      "text/plain": [
       "['Wakiso.xlsx',\n",
       " 'Masindi.xlsx',\n",
       " 'Kamwenge.xlsx',\n",
       " 'Busia_yoosook.xls',\n",
       " 'Apac.xlsx']"
      ]
     },
     "execution_count": 20,
     "metadata": {},
     "output_type": "execute_result"
    }
   ],
   "source": [
    "workbooks[:5]"
   ]
  },
  {
   "cell_type": "code",
   "execution_count": 21,
   "metadata": {
    "collapsed": true
   },
   "outputs": [],
   "source": [
    "colsite_sheets = []"
   ]
  },
  {
   "cell_type": "code",
   "execution_count": 22,
   "metadata": {
    "collapsed": true
   },
   "outputs": [],
   "source": [
    "def load_xl_sheets(xl_path):\n",
    "    dfs = {}\n",
    "    \n",
    "    xls = pd.ExcelFile(xl_path)\n",
    "    \n",
    "    for sheet in xls.sheet_names:\n",
    "        if sheet.upper().startswith(\"COLSITE\"):\n",
    "            dfs[sheet] = xls.parse(sheetname=sheet, \n",
    "                                header=0, \n",
    "                                skiprows=None, skip_footer=0, \n",
    "                                index_col=None, parse_cols=None, \n",
    "                                parse_dates=False, date_parser=None, \n",
    "                                na_values=['NA'], \n",
    "                                thousands=None, chunksize=None, \n",
    "                                convert_float=False, \n",
    "                                has_index_names=False, converters=None)\n",
    "    return dfs"
   ]
  },
  {
   "cell_type": "code",
   "execution_count": 23,
   "metadata": {
    "collapsed": false,
    "scrolled": true
   },
   "outputs": [],
   "source": [
    "for wkbk in workbooks:\n",
    "    dfs = load_xl_sheets(os.path.join(source_dir, wkbk))\n",
    "    \n",
    "    for name, df in dfs.items():\n",
    "        dfs[name]['source_file'] = wkbk\n",
    "        colsite_sheets.append(dfs[name])\n",
    "        \n",
    "    \n",
    "    "
   ]
  },
  {
   "cell_type": "code",
   "execution_count": 38,
   "metadata": {
    "collapsed": true
   },
   "outputs": [],
   "source": [
    "def save_geojson(gdf,path):\n",
    "    with open(path, 'w') as geo_out:\n",
    "        geo_out.write(gdf.to_json())"
   ]
  },
  {
   "cell_type": "code",
   "execution_count": 24,
   "metadata": {
    "collapsed": false
   },
   "outputs": [],
   "source": [
    "# pdb"
   ]
  },
  {
   "cell_type": "code",
   "execution_count": 25,
   "metadata": {
    "collapsed": false
   },
   "outputs": [],
   "source": [
    "table = pd.concat(colsite_sheets)"
   ]
  },
  {
   "cell_type": "markdown",
   "metadata": {},
   "source": [
    "## Pull out data for uganda and make the maps"
   ]
  },
  {
   "cell_type": "code",
   "execution_count": 26,
   "metadata": {
    "collapsed": false
   },
   "outputs": [],
   "source": [
    "uganda = table.query('country == \"Uganda\"')"
   ]
  },
  {
   "cell_type": "code",
   "execution_count": 27,
   "metadata": {
    "collapsed": true
   },
   "outputs": [],
   "source": [
    "letter_code = re.compile(u'^\\D+', re.UNICODE)\n",
    "\n",
    "def recode_id(df):\n",
    "\n",
    "    recode_func = lambda x: letter_code.findall(x)[0]\n",
    "\n",
    "    new_id = df.id.apply(recode_func)\n",
    "    df.id = new_id"
   ]
  },
  {
   "cell_type": "code",
   "execution_count": 28,
   "metadata": {
    "collapsed": false
   },
   "outputs": [
    {
     "data": {
      "text/plain": [
       "[u'BB']"
      ]
     },
     "execution_count": 28,
     "metadata": {},
     "output_type": "execute_result"
    }
   ],
   "source": [
    "s = u'BB22'\n",
    "letter_code.findall(s)"
   ]
  },
  {
   "cell_type": "code",
   "execution_count": 29,
   "metadata": {
    "collapsed": false
   },
   "outputs": [
    {
     "name": "stderr",
     "output_type": "stream",
     "text": [
      "/home/gus/.virtualenvs/py279/lib/python2.7/site-packages/pandas/core/generic.py:1974: SettingWithCopyWarning: \n",
      "A value is trying to be set on a copy of a slice from a DataFrame.\n",
      "Try using .loc[row_indexer,col_indexer] = value instead\n",
      "\n",
      "See the the caveats in the documentation: http://pandas.pydata.org/pandas-docs/stable/indexing.html#indexing-view-versus-copy\n",
      "  self[name] = value\n"
     ]
    }
   ],
   "source": [
    "ug_id_nnul = uganda[uganda.id.notnull()]\n",
    "recode_id(ug_id_nnul)"
   ]
  },
  {
   "cell_type": "code",
   "execution_count": 30,
   "metadata": {
    "collapsed": false
   },
   "outputs": [
    {
     "data": {
      "text/html": [
       "<div style=\"max-height:1000px;max-width:1500px;overflow:auto;\">\n",
       "<table border=\"1\" class=\"dataframe\">\n",
       "  <thead>\n",
       "    <tr style=\"text-align: right;\">\n",
       "      <th></th>\n",
       "      <th>id</th>\n",
       "      <th>name</th>\n",
       "      <th>gaz_id</th>\n",
       "      <th>latitude</th>\n",
       "      <th>longitude</th>\n",
       "      <th>country</th>\n",
       "      <th>district</th>\n",
       "      <th>province</th>\n",
       "      <th>category</th>\n",
       "      <th>submitter</th>\n",
       "      <th>submission_date</th>\n",
       "      <th>curator</th>\n",
       "      <th>curation_date</th>\n",
       "      <th>public_notes</th>\n",
       "      <th>internal_notes</th>\n",
       "      <th>source_file</th>\n",
       "    </tr>\n",
       "  </thead>\n",
       "  <tbody>\n",
       "    <tr>\n",
       "      <th>0</th>\n",
       "      <td> AP?</td>\n",
       "      <td>             Apala</td>\n",
       "      <td>NaN</td>\n",
       "      <td> 2.382780</td>\n",
       "      <td> 33.045000</td>\n",
       "      <td> Uganda</td>\n",
       "      <td>   Lira</td>\n",
       "      <td>NaN</td>\n",
       "      <td>NaN</td>\n",
       "      <td>NaN</td>\n",
       "      <td>NaN</td>\n",
       "      <td>NaN</td>\n",
       "      <td>NaN</td>\n",
       "      <td>NaN</td>\n",
       "      <td>NaN</td>\n",
       "      <td> Wakiso.xlsx</td>\n",
       "    </tr>\n",
       "    <tr>\n",
       "      <th>1</th>\n",
       "      <td> AP?</td>\n",
       "      <td>              Apac</td>\n",
       "      <td>NaN</td>\n",
       "      <td> 1.975600</td>\n",
       "      <td> 32.538600</td>\n",
       "      <td> Uganda</td>\n",
       "      <td>   Apac</td>\n",
       "      <td>NaN</td>\n",
       "      <td>NaN</td>\n",
       "      <td>NaN</td>\n",
       "      <td>NaN</td>\n",
       "      <td>NaN</td>\n",
       "      <td>NaN</td>\n",
       "      <td>NaN</td>\n",
       "      <td>NaN</td>\n",
       "      <td> Wakiso.xlsx</td>\n",
       "    </tr>\n",
       "    <tr>\n",
       "      <th>2</th>\n",
       "      <td>  BB</td>\n",
       "      <td>         Bulanga B</td>\n",
       "      <td>NaN</td>\n",
       "      <td> 1.068104</td>\n",
       "      <td> 33.777342</td>\n",
       "      <td> Uganda</td>\n",
       "      <td> Budaka</td>\n",
       "      <td> 20</td>\n",
       "      <td>NaN</td>\n",
       "      <td>NaN</td>\n",
       "      <td>NaN</td>\n",
       "      <td>NaN</td>\n",
       "      <td>NaN</td>\n",
       "      <td>NaN</td>\n",
       "      <td>NaN</td>\n",
       "      <td> Wakiso.xlsx</td>\n",
       "    </tr>\n",
       "    <tr>\n",
       "      <th>3</th>\n",
       "      <td>  BB</td>\n",
       "      <td> Bulanga B Trap 20</td>\n",
       "      <td>NaN</td>\n",
       "      <td> 1.072800</td>\n",
       "      <td> 33.779530</td>\n",
       "      <td> Uganda</td>\n",
       "      <td> Budaka</td>\n",
       "      <td> 20</td>\n",
       "      <td>NaN</td>\n",
       "      <td>NaN</td>\n",
       "      <td>NaN</td>\n",
       "      <td>NaN</td>\n",
       "      <td>NaN</td>\n",
       "      <td>NaN</td>\n",
       "      <td>NaN</td>\n",
       "      <td> Wakiso.xlsx</td>\n",
       "    </tr>\n",
       "    <tr>\n",
       "      <th>4</th>\n",
       "      <td>  BB</td>\n",
       "      <td> Bulanga B Trap 21</td>\n",
       "      <td>NaN</td>\n",
       "      <td> 1.072500</td>\n",
       "      <td> 33.779380</td>\n",
       "      <td> Uganda</td>\n",
       "      <td> Budaka</td>\n",
       "      <td> 21</td>\n",
       "      <td>NaN</td>\n",
       "      <td>NaN</td>\n",
       "      <td>NaN</td>\n",
       "      <td>NaN</td>\n",
       "      <td>NaN</td>\n",
       "      <td>NaN</td>\n",
       "      <td>NaN</td>\n",
       "      <td> Wakiso.xlsx</td>\n",
       "    </tr>\n",
       "  </tbody>\n",
       "</table>\n",
       "</div>"
      ],
      "text/plain": [
       "    id               name  gaz_id  latitude  longitude country district  \\\n",
       "0  AP?              Apala     NaN  2.382780  33.045000  Uganda     Lira   \n",
       "1  AP?               Apac     NaN  1.975600  32.538600  Uganda     Apac   \n",
       "2   BB          Bulanga B     NaN  1.068104  33.777342  Uganda   Budaka   \n",
       "3   BB  Bulanga B Trap 20     NaN  1.072800  33.779530  Uganda   Budaka   \n",
       "4   BB  Bulanga B Trap 21     NaN  1.072500  33.779380  Uganda   Budaka   \n",
       "\n",
       "   province  category  submitter  submission_date  curator  curation_date  \\\n",
       "0       NaN       NaN        NaN              NaN      NaN            NaN   \n",
       "1       NaN       NaN        NaN              NaN      NaN            NaN   \n",
       "2        20       NaN        NaN              NaN      NaN            NaN   \n",
       "3        20       NaN        NaN              NaN      NaN            NaN   \n",
       "4        21       NaN        NaN              NaN      NaN            NaN   \n",
       "\n",
       "   public_notes  internal_notes  source_file  \n",
       "0           NaN             NaN  Wakiso.xlsx  \n",
       "1           NaN             NaN  Wakiso.xlsx  \n",
       "2           NaN             NaN  Wakiso.xlsx  \n",
       "3           NaN             NaN  Wakiso.xlsx  \n",
       "4           NaN             NaN  Wakiso.xlsx  "
      ]
     },
     "execution_count": 30,
     "metadata": {},
     "output_type": "execute_result"
    }
   ],
   "source": [
    "ug_id_nnul.head()"
   ]
  },
  {
   "cell_type": "markdown",
   "metadata": {
    "collapsed": true
   },
   "source": [
    "# Collect all trap GPS, save it"
   ]
  },
  {
   "cell_type": "code",
   "execution_count": 32,
   "metadata": {
    "collapsed": true
   },
   "outputs": [],
   "source": [
    "def lat_lon_to_geometry(df,lat='Latitude',lon='Longitude'):\n",
    "    df[\"geometry\"] = map(Point, df[lon], df[lat])"
   ]
  },
  {
   "cell_type": "code",
   "execution_count": 33,
   "metadata": {
    "collapsed": true
   },
   "outputs": [],
   "source": [
    "traps_gps = pd.DataFrame()\n",
    "villages_gps = pd.DataFrame()"
   ]
  },
  {
   "cell_type": "code",
   "execution_count": 36,
   "metadata": {
    "collapsed": true
   },
   "outputs": [],
   "source": [
    "traps_gps['Location'] = ug_id_nnul['id']\n",
    "traps_gps['Latitude'] = ug_id_nnul['latitude']\n",
    "traps_gps['Longitude'] = ug_id_nnul['longitude']\n",
    "\n",
    "lat_lon_to_geometry(traps_gps,lat='Latitude',lon='Longitude')\n",
    "traps_gps = GeoDataFrame(traps_gps, geometry='geometry')"
   ]
  },
  {
   "cell_type": "code",
   "execution_count": 37,
   "metadata": {
    "collapsed": false
   },
   "outputs": [
    {
     "data": {
      "text/html": [
       "<div style=\"max-height:1000px;max-width:1500px;overflow:auto;\">\n",
       "<table border=\"1\" class=\"dataframe\">\n",
       "  <thead>\n",
       "    <tr style=\"text-align: right;\">\n",
       "      <th></th>\n",
       "      <th>Location</th>\n",
       "      <th>Latitude</th>\n",
       "      <th>Longitude</th>\n",
       "      <th>geometry</th>\n",
       "    </tr>\n",
       "  </thead>\n",
       "  <tbody>\n",
       "    <tr>\n",
       "      <th>0</th>\n",
       "      <td> AP?</td>\n",
       "      <td> 2.382780</td>\n",
       "      <td> 33.045000</td>\n",
       "      <td>     POINT (33.045 2.38278)</td>\n",
       "    </tr>\n",
       "    <tr>\n",
       "      <th>1</th>\n",
       "      <td> AP?</td>\n",
       "      <td> 1.975600</td>\n",
       "      <td> 32.538600</td>\n",
       "      <td>     POINT (32.5386 1.9756)</td>\n",
       "    </tr>\n",
       "    <tr>\n",
       "      <th>2</th>\n",
       "      <td>  BB</td>\n",
       "      <td> 1.068104</td>\n",
       "      <td> 33.777342</td>\n",
       "      <td> POINT (33.777342 1.068104)</td>\n",
       "    </tr>\n",
       "    <tr>\n",
       "      <th>3</th>\n",
       "      <td>  BB</td>\n",
       "      <td> 1.072800</td>\n",
       "      <td> 33.779530</td>\n",
       "      <td>    POINT (33.77953 1.0728)</td>\n",
       "    </tr>\n",
       "    <tr>\n",
       "      <th>4</th>\n",
       "      <td>  BB</td>\n",
       "      <td> 1.072500</td>\n",
       "      <td> 33.779380</td>\n",
       "      <td>    POINT (33.77938 1.0725)</td>\n",
       "    </tr>\n",
       "  </tbody>\n",
       "</table>\n",
       "</div>"
      ],
      "text/plain": [
       "  Location  Latitude  Longitude                    geometry\n",
       "0      AP?  2.382780  33.045000      POINT (33.045 2.38278)\n",
       "1      AP?  1.975600  32.538600      POINT (32.5386 1.9756)\n",
       "2       BB  1.068104  33.777342  POINT (33.777342 1.068104)\n",
       "3       BB  1.072800  33.779530     POINT (33.77953 1.0728)\n",
       "4       BB  1.072500  33.779380     POINT (33.77938 1.0725)"
      ]
     },
     "execution_count": 37,
     "metadata": {},
     "output_type": "execute_result"
    }
   ],
   "source": [
    "traps_gps.head()"
   ]
  },
  {
   "cell_type": "code",
   "execution_count": 39,
   "metadata": {
    "collapsed": true
   },
   "outputs": [],
   "source": [
    "# save geojson\n",
    "save_geojson(traps_gps,traps_gps_geojson)"
   ]
  },
  {
   "cell_type": "code",
   "execution_count": 40,
   "metadata": {
    "collapsed": false
   },
   "outputs": [
    {
     "name": "stdout",
     "output_type": "stream",
     "text": [
      "/home/gus/Dropbox/uganda_data/data_repos/field_data/locations/gps/traps/uganda_villages_gps_beadell.geojson\n"
     ]
    }
   ],
   "source": [
    "print traps_gps_geojson"
   ]
  },
  {
   "cell_type": "markdown",
   "metadata": {
    "collapsed": true
   },
   "source": [
    "# Generate Village GPS and save it"
   ]
  },
  {
   "cell_type": "code",
   "execution_count": 48,
   "metadata": {
    "collapsed": false
   },
   "outputs": [
    {
     "data": {
      "text/html": [
       "<div style=\"max-height:1000px;max-width:1500px;overflow:auto;\">\n",
       "<table border=\"1\" class=\"dataframe\">\n",
       "  <thead>\n",
       "    <tr style=\"text-align: right;\">\n",
       "      <th></th>\n",
       "      <th>Location</th>\n",
       "      <th>Latitude</th>\n",
       "      <th>Longitude</th>\n",
       "      <th>geometry</th>\n",
       "    </tr>\n",
       "  </thead>\n",
       "  <tbody>\n",
       "    <tr>\n",
       "      <th>0</th>\n",
       "      <td> AP?</td>\n",
       "      <td> 2.179190</td>\n",
       "      <td> 32.791800</td>\n",
       "      <td>                      POINT (32.7918 2.17919)</td>\n",
       "    </tr>\n",
       "    <tr>\n",
       "      <th>1</th>\n",
       "      <td>  BB</td>\n",
       "      <td> 1.068104</td>\n",
       "      <td> 33.778490</td>\n",
       "      <td>                    POINT (33.77849 1.068104)</td>\n",
       "    </tr>\n",
       "    <tr>\n",
       "      <th>2</th>\n",
       "      <td>  BD</td>\n",
       "      <td> 0.260897</td>\n",
       "      <td> 33.929442</td>\n",
       "      <td> POINT (33.92944166666666 0.2608966666666667)</td>\n",
       "    </tr>\n",
       "    <tr>\n",
       "      <th>3</th>\n",
       "      <td>  BG</td>\n",
       "      <td> 1.619185</td>\n",
       "      <td> 33.289898</td>\n",
       "      <td>           POINT (33.28989846153846 1.619185)</td>\n",
       "    </tr>\n",
       "    <tr>\n",
       "      <th>4</th>\n",
       "      <td>  BK</td>\n",
       "      <td> 1.011333</td>\n",
       "      <td> 33.861239</td>\n",
       "      <td>  POINT (33.86123916666666 1.011333333333333)</td>\n",
       "    </tr>\n",
       "  </tbody>\n",
       "</table>\n",
       "</div>"
      ],
      "text/plain": [
       "  Location  Latitude  Longitude                                      geometry\n",
       "0      AP?  2.179190  32.791800                       POINT (32.7918 2.17919)\n",
       "1       BB  1.068104  33.778490                     POINT (33.77849 1.068104)\n",
       "2       BD  0.260897  33.929442  POINT (33.92944166666666 0.2608966666666667)\n",
       "3       BG  1.619185  33.289898            POINT (33.28989846153846 1.619185)\n",
       "4       BK  1.011333  33.861239   POINT (33.86123916666666 1.011333333333333)"
      ]
     },
     "execution_count": 48,
     "metadata": {},
     "output_type": "execute_result"
    }
   ],
   "source": [
    "village_gps = pd.pivot_table(traps_gps,index=['Location'],\n",
    "                      values=['Longitude','Latitude'],\n",
    "                      fill_value=0,\n",
    "                      aggfunc=[np.median])\n",
    "village_gps.head()\n",
    "village_gps = village_gps['median']\n",
    "village_gps = village_gps.reset_index()\n",
    "village_gps.head()\n",
    "\n",
    "lat_lon_to_geometry(village_gps)\n",
    "village_gps = GeoDataFrame(village_gps, geometry='geometry')\n",
    "village_gps.head()"
   ]
  },
  {
   "cell_type": "code",
   "execution_count": 49,
   "metadata": {
    "collapsed": false
   },
   "outputs": [
    {
     "data": {
      "text/plain": [
       "37"
      ]
     },
     "execution_count": 49,
     "metadata": {},
     "output_type": "execute_result"
    }
   ],
   "source": [
    "len(village_gps)"
   ]
  },
  {
   "cell_type": "code",
   "execution_count": 51,
   "metadata": {
    "collapsed": false
   },
   "outputs": [
    {
     "name": "stdout",
     "output_type": "stream",
     "text": [
      "/home/gus/Dropbox/uganda_data/data_repos/field_data/locations/gps/villages/uganda_villages_gps_beadell.geojson\n"
     ]
    }
   ],
   "source": [
    "# save geojson\n",
    "save_geojson(village_gps,village_gps_geojson)\n",
    "print village_gps_geojson"
   ]
  }
 ],
 "metadata": {
  "kernelspec": {
   "display_name": "Python 2",
   "language": "python",
   "name": "python2"
  },
  "language_info": {
   "codemirror_mode": {
    "name": "ipython",
    "version": 2
   },
   "file_extension": ".py",
   "mimetype": "text/x-python",
   "name": "python",
   "nbconvert_exporter": "python",
   "pygments_lexer": "ipython2",
   "version": "2.7.9"
  }
 },
 "nbformat": 4,
 "nbformat_minor": 0
}
