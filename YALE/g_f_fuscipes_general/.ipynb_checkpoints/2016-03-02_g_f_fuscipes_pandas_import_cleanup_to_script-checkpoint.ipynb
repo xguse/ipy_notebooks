{
 "cells": [
  {
   "cell_type": "code",
   "execution_count": 1,
   "metadata": {
    "collapsed": true
   },
   "outputs": [],
   "source": [
    "# imports\n",
    "import csv\n",
    "import itertools\n",
    "import os\n",
    "import re\n",
    "\n",
    "import pandas as pd\n",
    "import numpy as np\n",
    "import datetime as dt\n",
    "\n",
    "import scipy\n",
    "\n",
    "import munch\n"
   ]
  },
  {
   "cell_type": "markdown",
   "metadata": {},
   "source": [
    "## File paths:"
   ]
  },
  {
   "cell_type": "code",
   "execution_count": 3,
   "metadata": {
    "collapsed": true
   },
   "outputs": [],
   "source": [
    "# define paths to files\n",
    "spring_summer = \"/home/gus/Documents/YalePostDoc/project_stuff/g_f_fucipes_uganda/collection_data/2014_spring_summer_from_rob.xlsx\"\n",
    "fall =          \"/home/gus/Documents/YalePostDoc/project_stuff/g_f_fucipes_uganda/collection_data/2014_fall_for_pandas.xlsx\"\n",
    "december = \"/home/gus/Documents/YalePostDoc/project_stuff/g_f_fucipes_uganda/collection_data/DEC_2014_survey_for_pandas.xlsx\"\n",
    "\n",
    "h5_out_path = \"/home/gus/Documents/YalePostDoc/project_stuff/g_f_fucipes_uganda/collection_data/hdf5/2014_collection_records.h5\"\n",
    "json_out_path = \"/home/gus/Documents/YalePostDoc/project_stuff/g_f_fucipes_uganda/collection_data/hdf5/2014_collection_records.json\"\n",
    "pickle_out_path = \"/home/gus/Documents/YalePostDoc/project_stuff/g_f_fucipes_uganda/collection_data/hdf5/2014_collection_records.pkl\""
   ]
  },
  {
   "cell_type": "code",
   "execution_count": 4,
   "metadata": {
    "collapsed": true
   },
   "outputs": [],
   "source": [
    "village_id_map_path = \"/home/gus/Dropbox/uganda_data/data_repos/field_data/locations/names/uganda_village_id_map.csv\""
   ]
  },
  {
   "cell_type": "markdown",
   "metadata": {},
   "source": [
    "----\n",
    "# Helper functions"
   ]
  },
  {
   "cell_type": "code",
   "execution_count": 5,
   "metadata": {
    "collapsed": true
   },
   "outputs": [],
   "source": [
    "def date_is_between(test_date, start, end):\n",
    "    \n",
    "    try:\n",
    "        return start <= test_date <= end\n",
    "    except TypeError as exc:\n",
    "        if \"can't compare datetime\" in exc.message:\n",
    "            return False\n",
    "        else:\n",
    "            raise"
   ]
  },
  {
   "cell_type": "code",
   "execution_count": 6,
   "metadata": {
    "collapsed": true
   },
   "outputs": [],
   "source": [
    "def get_village_id_map(village_id_map_path):\n",
    "    \"\"\"\n",
    "    Generates and returns a `dict` mapping the long-form village names to the letter codes.\n",
    "    Letter codes map back to themselves to ensure a one way mapping.  \n",
    "    Enforces both be all UPPERcase to allow case insensitivity as long as\n",
    "    the map is used like: `map[text.upper()]`.\n",
    "    :return: `dict`\n",
    "    \"\"\"\n",
    "\n",
    "    village_id_map = {}\n",
    "\n",
    "    with open(village_id_map_path, 'rb') as csv_file:\n",
    "        village_ids = csv.reader(csv_file, delimiter=',')\n",
    "        for pair in village_ids:\n",
    "            village_id_map[unicode(pair[0].upper())] = unicode(pair[0].upper())\n",
    "            village_id_map[unicode(pair[1].upper())] = unicode(pair[0].upper())\n",
    "\n",
    "    return village_id_map"
   ]
  },
  {
   "cell_type": "code",
   "execution_count": 10,
   "metadata": {
    "collapsed": true
   },
   "outputs": [],
   "source": [
    "def load_xl_sheets(xl_path):\n",
    "    dfs = munch.Munch()\n",
    "    \n",
    "    xls = pd.ExcelFile(xl_path)\n",
    "    \n",
    "    workbook_name = os.path.basename(xl_path)\n",
    "    \n",
    "    for sheet in xls.sheet_names:\n",
    "        if sheet.upper().startswith(\"DISSECT\"):\n",
    "            worksheet_df = xls.parse(sheetname=sheet, \n",
    "                                header=0, \n",
    "                                skiprows=None, skip_footer=0, \n",
    "                                index_col=None, parse_cols=None, \n",
    "                                parse_dates=False, date_parser=None, \n",
    "                                na_values=['NA'], \n",
    "                                thousands=None, chunksize=None, \n",
    "                                convert_float=False, \n",
    "                                has_index_names=False, converters=None)\n",
    "            \n",
    "            worksheet_df['workbook'] = workbook_name\n",
    "            worksheet_df['worksheet'] = sheet\n",
    "            \n",
    "            dfs[sheet] = worksheet_df \n",
    "            \n",
    "    return dfs"
   ]
  },
  {
   "cell_type": "code",
   "execution_count": 11,
   "metadata": {
    "collapsed": false
   },
   "outputs": [],
   "source": [
    "def recode_villages(df):\n",
    "    map_func = lambda x: village_id_map[x.upper()]\n",
    "        \n",
    "    new_codes = df.Village.apply(map_func)\n",
    "    df.Village = new_codes    "
   ]
  },
  {
   "cell_type": "code",
   "execution_count": 12,
   "metadata": {
    "collapsed": false
   },
   "outputs": [],
   "source": [
    "def recode_dead(df):\n",
    "    def recode_func(x):\n",
    "        # this is treated as an unknown case\n",
    "        if pd.isnull(x):\n",
    "            return x\n",
    "\n",
    "        x = unicode(x)\n",
    "\n",
    "        # True means DEAD\n",
    "        # False means LIVE or NOT-DEAD\n",
    "        # None means unknown\n",
    "\n",
    "        try:\n",
    "            # deal with Live type cases\n",
    "            if x.upper().startswith('L'):\n",
    "                return False\n",
    "\n",
    "\n",
    "            if x.startswith('0'):\n",
    "                return False\n",
    "\n",
    "\n",
    "            # deal with Dead type cases\n",
    "            if x.upper().startswith('D'):\n",
    "                return True\n",
    "\n",
    "\n",
    "            if x.startswith('1'):\n",
    "                return True\n",
    "\n",
    "\n",
    "            # deal with unknown type cases\n",
    "            if x.upper().startswith('UN'):\n",
    "                return None\n",
    "        except AttributeError:\n",
    "            return x\n",
    "\n",
    "        msg = \"The value {x} was not expected and this function must be corrected to continue.\".format(x=x)\n",
    "        raise ValueError(msg)\n",
    "\n",
    "    new_dead = df.Dead.apply(recode_func)\n",
    "    df.Dead = new_dead\n",
    "\n",
    "##########################################\n",
    "\n",
    "def recode_teneral(df):\n",
    "    def recode_func(x):\n",
    "\n",
    "        # this is treated as an unknown case\n",
    "        if pd.isnull(x):\n",
    "            return x\n",
    "\n",
    "        x = unicode(x)\n",
    "\n",
    "        # True means teneral\n",
    "        # False means NOT-teneral\n",
    "        # None means unknown\n",
    "\n",
    "        try:\n",
    "            # deal with NOT-teneral type cases\n",
    "            if x.upper().startswith('N'):\n",
    "                return False\n",
    "\n",
    "            if x.startswith('0'):\n",
    "                return False\n",
    "\n",
    "            # deal with Teneral type cases\n",
    "            if x.upper().startswith('T'):\n",
    "                return True\n",
    "            \n",
    "            if x.startswith('1'):\n",
    "                return True\n",
    "\n",
    "\n",
    "            # Deal with unknown type cases\n",
    "            if x.upper().startswith('UN'):\n",
    "                return x\n",
    "        except AttributeError:\n",
    "            return x\n",
    "\n",
    "        msg = \"The value {x} was not expected and this function must be corrected to continue.\".format(x=x)\n",
    "        raise ValueError(msg)\n",
    "    \n",
    "    \n",
    "    new_teneral = df.Teneral.apply(recode_func)\n",
    "    df.Teneral = new_teneral\n",
    "\n",
    "##########################################\n",
    "\n",
    "def recode_positives(df):\n",
    "    def recode_func(x):\n",
    "        # this is treated as an unknown case\n",
    "        if pd.isnull(x):\n",
    "            return x\n",
    "\n",
    "        y = unicode(x)\n",
    "\n",
    "        # deal with Unknown type cases\n",
    "        if y.upper().startswith('UN'):\n",
    "            return None\n",
    "\n",
    "        if y.upper().startswith('DEAD'):\n",
    "            return None\n",
    "\n",
    "\n",
    "        # deal with Positive type cases\n",
    "        if y.startswith('1'):\n",
    "            return True\n",
    "\n",
    "\n",
    "        if y.upper().startswith('TRUE'):\n",
    "            return True\n",
    "\n",
    "        if y.upper().startswith('P'):\n",
    "            return True\n",
    "\n",
    "        if y.upper().startswith('Y'):\n",
    "            return True\n",
    "\n",
    "\n",
    "        # deal with Negative type cases\n",
    "        if y.upper().startswith('NO'):\n",
    "            return False\n",
    "\n",
    "        if y.upper().startswith('FALSE'):\n",
    "            return False\n",
    "\n",
    "\n",
    "        if y.startswith('0'):\n",
    "            return False\n",
    "\n",
    "\n",
    "        msg = \"The value {x} was not expected and this function must be corrected to continue.\".format(x=x)\n",
    "        raise ValueError(msg)\n",
    "\n",
    "\n",
    "    new_prob = df.prob.apply(recode_func)\n",
    "    df.prob = new_prob\n",
    "    \n",
    "    new_midgut = df.midgut.apply(recode_func)\n",
    "    df.midgut = new_midgut\n",
    "    \n",
    "    new_sal_gland = df.sal_gland.apply(recode_func)\n",
    "    df.sal_gland = new_sal_gland\n",
    "\n",
    "##########################################\n",
    "\n",
    "def recode_species(df):\n",
    "\n",
    "    recode_func = lambda x: ''.join(x.split('.')).capitalize()\n",
    "\n",
    "    new_Species = df.Species.apply(recode_func)\n",
    "    df.Species = new_Species\n",
    "\n",
    "##########################################\n",
    "\n",
    "def recode_sex(df):\n",
    "\n",
    "    recode_func = lambda x: x.upper()\n",
    "\n",
    "    new_Sex = df.Sex.apply(recode_func)\n",
    "    df.Sex = new_Sex\n",
    "    \n",
    "##########################################\n",
    "\n",
    "date_delim = re.compile('[\\./-]')\n",
    "\n",
    "def cast_unicode_as_date(x):\n",
    "    if not isinstance(x, unicode):\n",
    "        return x\n",
    "    \n",
    "    parts = date_delim.split(x)\n",
    "    \n",
    "    if len(parts) != 3:\n",
    "        return x\n",
    "    \n",
    "    if len(parts[0]) != 4:\n",
    "        return x\n",
    "    \n",
    "    return dt.datetime(int(parts[0]), int(parts[1]), int(parts[2]))\n",
    "\n",
    "def recode_date(df):\n",
    "    new_date = df.Date.apply(cast_unicode_as_date)\n",
    "    df.Date = new_date\n",
    "    "
   ]
  },
  {
   "cell_type": "code",
   "execution_count": 13,
   "metadata": {
    "collapsed": false
   },
   "outputs": [],
   "source": [
    "def aggregate_column_from_df_list(df_list, col_name):\n",
    "    agg_data = []\n",
    "    for df in df_list:\n",
    "        agg_data.extend(list(df[col_name]))\n",
    "        \n",
    "    \n",
    "    return agg_data"
   ]
  },
  {
   "cell_type": "markdown",
   "metadata": {},
   "source": [
    "### Functions that add new columns"
   ]
  },
  {
   "cell_type": "code",
   "execution_count": 14,
   "metadata": {
    "collapsed": true
   },
   "outputs": [],
   "source": [
    "def add_infection_state_col(df):\n",
    "    df['infection_state'] = df[['prob','midgut','sal_gland']].any(skipna=True,axis=1)      "
   ]
  },
  {
   "cell_type": "code",
   "execution_count": 7,
   "metadata": {
    "collapsed": true
   },
   "outputs": [],
   "source": [
    "xls = pd.ExcelFile(december)"
   ]
  },
  {
   "cell_type": "code",
   "execution_count": 8,
   "metadata": {
    "collapsed": false
   },
   "outputs": [],
   "source": [
    "sheet = xls.parse(\"dissection data-Kole-Oyam3\")"
   ]
  },
  {
   "cell_type": "markdown",
   "metadata": {},
   "source": [
    "----\n",
    "# Helpful constants"
   ]
  },
  {
   "cell_type": "code",
   "execution_count": 15,
   "metadata": {
    "collapsed": true
   },
   "outputs": [],
   "source": [
    "village_id_map = get_village_id_map(village_id_map_path)"
   ]
  },
  {
   "cell_type": "code",
   "execution_count": 17,
   "metadata": {
    "collapsed": false
   },
   "outputs": [],
   "source": [
    "spring_summer_dfs = load_xl_sheets(spring_summer)\n",
    "fall_dfs = load_xl_sheets(fall)\n",
    "december_dfs = load_xl_sheets(december)"
   ]
  },
  {
   "cell_type": "code",
   "execution_count": 21,
   "metadata": {
    "collapsed": false
   },
   "outputs": [],
   "source": [
    "# list all dfs and run our recoder's so far\n",
    "df_all = spring_summer_dfs.values() + fall_dfs.values() + december_dfs.values()\n",
    "\n",
    "for df in df_all:\n",
    "    recode_sex(df)\n",
    "    recode_species(df)\n",
    "    recode_villages(df)\n",
    "    recode_positives(df)\n",
    "    recode_dead(df)\n",
    "    recode_teneral(df)\n",
    "    recode_date(df)\n",
    "    add_infection_state_col(df)\n",
    "    "
   ]
  },
  {
   "cell_type": "markdown",
   "metadata": {},
   "source": [
    "---\n",
    "# Combine dataframes to one for ruling"
   ]
  },
  {
   "cell_type": "code",
   "execution_count": 29,
   "metadata": {
    "collapsed": true
   },
   "outputs": [],
   "source": [
    "df_big = pd.concat(df_all)"
   ]
  },
  {
   "cell_type": "markdown",
   "metadata": {},
   "source": [
    "---\n",
    "# Save this table"
   ]
  },
  {
   "cell_type": "code",
   "execution_count": 32,
   "metadata": {
    "collapsed": false
   },
   "outputs": [],
   "source": [
    "# df_big.to_hdf(path_or_buf=h5_out_path, key='main', mode='w')"
   ]
  },
  {
   "cell_type": "code",
   "execution_count": 33,
   "metadata": {
    "collapsed": false
   },
   "outputs": [],
   "source": [
    "# df_big.to_json(path_or_buf=json_out_path, orient='split', date_format='iso')"
   ]
  },
  {
   "cell_type": "code",
   "execution_count": 34,
   "metadata": {
    "collapsed": false
   },
   "outputs": [],
   "source": [
    "df_big.to_pickle(pickle_out_path)"
   ]
  }
 ],
 "metadata": {
  "kernelspec": {
   "display_name": "Python 2",
   "language": "python",
   "name": "python2"
  },
  "language_info": {
   "codemirror_mode": {
    "name": "ipython",
    "version": 2
   },
   "file_extension": ".py",
   "mimetype": "text/x-python",
   "name": "python",
   "nbconvert_exporter": "python",
   "pygments_lexer": "ipython2",
   "version": "2.7.11"
  }
 },
 "nbformat": 4,
 "nbformat_minor": 0
}
