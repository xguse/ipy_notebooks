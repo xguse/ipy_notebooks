{
 "cells": [
  {
   "cell_type": "markdown",
   "metadata": {},
   "source": [
    "# Purpose:\n",
    "\n",
    "2015-03-18 (Wednesday)\n",
    "\n",
    "Query the database."
   ]
  },
  {
   "cell_type": "markdown",
   "metadata": {},
   "source": [
    "# Implementation:"
   ]
  },
  {
   "cell_type": "markdown",
   "metadata": {},
   "source": [
    "## Imports:"
   ]
  },
  {
   "cell_type": "code",
   "execution_count": 1,
   "metadata": {
    "collapsed": true
   },
   "outputs": [],
   "source": [
    "# imports\n",
    "import csv\n",
    "import itertools\n",
    "import os\n",
    "import re\n",
    "\n",
    "import pandas as pd\n",
    "import numpy as np\n",
    "import datetime as dt\n",
    "\n",
    "import scipy\n",
    "\n",
    "import munch\n"
   ]
  },
  {
   "cell_type": "code",
   "execution_count": 2,
   "metadata": {
    "collapsed": true
   },
   "outputs": [],
   "source": [
    "# for plotting\n",
    "%matplotlib inline\n",
    "import matplotlib.pyplot as plt\n",
    "import seaborn as sns\n",
    "import ggplot as gp\n",
    "\n",
    "\n",
    "import numpy as np\n",
    "import pandas as pd\n",
    "pd.set_option('display.max_columns', 60)\n",
    "\n",
    "\n",
    "import ggplot as g\n"
   ]
  },
  {
   "cell_type": "markdown",
   "metadata": {},
   "source": [
    "## File paths:"
   ]
  },
  {
   "cell_type": "code",
   "execution_count": 3,
   "metadata": {
    "collapsed": true
   },
   "outputs": [],
   "source": [
    "# define paths to files\n",
    "spring_summer = \"/home/gus/Documents/YalePostDoc/project_stuff/g_f_fucipes_uganda/collection_data/2014_spring_summer_from_rob.xlsx\"\n",
    "fall =          \"/home/gus/Documents/YalePostDoc/project_stuff/g_f_fucipes_uganda/collection_data/2014_fall_for_pandas.xlsx\"\n",
    "december = \"/home/gus/Documents/YalePostDoc/project_stuff/g_f_fucipes_uganda/collection_data/DEC_2014_survey_for_pandas.xlsx\"\n",
    "\n",
    "h5_out_path = \"/home/gus/Documents/YalePostDoc/project_stuff/g_f_fucipes_uganda/collection_data/hdf5/2014_collection_records.h5\"\n",
    "json_out_path = \"/home/gus/Documents/YalePostDoc/project_stuff/g_f_fucipes_uganda/collection_data/hdf5/2014_collection_records.json\"\n",
    "pickle_out_path = \"/home/gus/Documents/YalePostDoc/project_stuff/g_f_fucipes_uganda/collection_data/hdf5/2014_collection_records.pkl\""
   ]
  },
  {
   "cell_type": "code",
   "execution_count": 4,
   "metadata": {
    "collapsed": true
   },
   "outputs": [],
   "source": [
    "village_id_map_path = \"/home/gus/Dropbox/uganda_data/data_repos/field_data/locations/names/uganda_village_id_map.csv\""
   ]
  },
  {
   "cell_type": "markdown",
   "metadata": {},
   "source": [
    "----\n",
    "# Helper functions"
   ]
  },
  {
   "cell_type": "code",
   "execution_count": 7,
   "metadata": {
    "collapsed": true
   },
   "outputs": [],
   "source": [
    "def date_is_between(test_date, start, end):\n",
    "    \n",
    "    try:\n",
    "        return start <= test_date <= end\n",
    "    except TypeError as exc:\n",
    "        if \"can't compare datetime\" in exc.message:\n",
    "            return False\n",
    "        else:\n",
    "            raise"
   ]
  },
  {
   "cell_type": "code",
   "execution_count": 8,
   "metadata": {
    "collapsed": true
   },
   "outputs": [],
   "source": [
    "def get_village_id_map(village_id_map_path):\n",
    "    \"\"\"\n",
    "    Generates and returns a `dict` mapping the long-form village names to the letter codes.\n",
    "    Letter codes map back to themselves to ensure a one way mapping.  \n",
    "    Enforces both be all UPPERcase to allow case insensitivity as long as\n",
    "    the map is used like: `map[text.upper()]`.\n",
    "    :return: `dict`\n",
    "    \"\"\"\n",
    "\n",
    "    village_id_map = {}\n",
    "\n",
    "    with open(village_id_map_path, 'rb') as csv_file:\n",
    "        village_ids = csv.reader(csv_file, delimiter=',')\n",
    "        for pair in village_ids:\n",
    "            village_id_map[unicode(pair[0].upper())] = unicode(pair[0].upper())\n",
    "            village_id_map[unicode(pair[1].upper())] = unicode(pair[0].upper())\n",
    "\n",
    "    return village_id_map"
   ]
  },
  {
   "cell_type": "code",
   "execution_count": 12,
   "metadata": {
    "collapsed": true
   },
   "outputs": [],
   "source": [
    "def load_xl_sheets(xl_path):\n",
    "    dfs = munch.Munch()\n",
    "    \n",
    "    xls = pd.ExcelFile(xl_path)\n",
    "    \n",
    "    workbook_name = os.path.basename(xl_path)\n",
    "    \n",
    "    for sheet in xls.sheet_names:\n",
    "        if sheet.upper().startswith(\"DISSECT\"):\n",
    "            worksheet_df = xls.parse(sheetname=sheet, \n",
    "                                header=0, \n",
    "                                skiprows=None, skip_footer=0, \n",
    "                                index_col=None, parse_cols=None, \n",
    "                                parse_dates=False, date_parser=None, \n",
    "                                na_values=['NA'], \n",
    "                                thousands=None, chunksize=None, \n",
    "                                convert_float=False, \n",
    "                                has_index_names=False, converters=None)\n",
    "            \n",
    "            worksheet_df['workbook'] = workbook_name\n",
    "            worksheet_df['worksheet'] = sheet\n",
    "            \n",
    "            dfs[sheet] = worksheet_df \n",
    "            \n",
    "    return dfs"
   ]
  },
  {
   "cell_type": "code",
   "execution_count": 13,
   "metadata": {
    "collapsed": false
   },
   "outputs": [],
   "source": [
    "def recode_villages(df):\n",
    "    map_func = lambda x: village_id_map[x.upper()]\n",
    "        \n",
    "    new_codes = df.Village.apply(map_func)\n",
    "    df.Village = new_codes    "
   ]
  },
  {
   "cell_type": "code",
   "execution_count": 37,
   "metadata": {
    "collapsed": false
   },
   "outputs": [],
   "source": [
    "def recode_dead(df):\n",
    "    def recode_func(x):\n",
    "        # this is treated as an unknown case\n",
    "        if pd.isnull(x):\n",
    "            return x\n",
    "\n",
    "        x = unicode(x)\n",
    "\n",
    "        # True means DEAD\n",
    "        # False means LIVE or NOT-DEAD\n",
    "        # None means unknown\n",
    "\n",
    "        try:\n",
    "            # deal with Live type cases\n",
    "            if x.upper().startswith('L'):\n",
    "                return False\n",
    "\n",
    "\n",
    "            if x.startswith('0'):\n",
    "                return False\n",
    "\n",
    "\n",
    "            # deal with Dead type cases\n",
    "            if x.upper().startswith('D'):\n",
    "                return True\n",
    "\n",
    "\n",
    "            if x.startswith('1'):\n",
    "                return True\n",
    "\n",
    "\n",
    "            # deal with unknown type cases\n",
    "            if x.upper().startswith('UN'):\n",
    "                return None\n",
    "        except AttributeError:\n",
    "            return x\n",
    "\n",
    "        msg = \"The value {x} was not expected and this function must be corrected to continue.\".format(x=x)\n",
    "        raise ValueError(msg)\n",
    "\n",
    "    new_dead = df.Dead.apply(recode_func)\n",
    "    df.Dead = new_dead\n",
    "\n",
    "##########################################\n",
    "\n",
    "def recode_teneral(df):\n",
    "    def recode_func(x):\n",
    "\n",
    "        # this is treated as an unknown case\n",
    "        if pd.isnull(x):\n",
    "            return x\n",
    "\n",
    "        x = unicode(x)\n",
    "\n",
    "        # True means teneral\n",
    "        # False means NOT-teneral\n",
    "        # None means unknown\n",
    "\n",
    "        try:\n",
    "            # deal with NOT-teneral type cases\n",
    "            if x.upper().startswith('N'):\n",
    "                return False\n",
    "\n",
    "            if x.startswith('0'):\n",
    "                return False\n",
    "\n",
    "            # deal with Teneral type cases\n",
    "            if x.upper().startswith('T'):\n",
    "                return True\n",
    "            \n",
    "            if x.startswith('1'):\n",
    "                return True\n",
    "\n",
    "\n",
    "            # Deal with unknown type cases\n",
    "            if x.upper().startswith('UN'):\n",
    "                return x\n",
    "        except AttributeError:\n",
    "            return x\n",
    "\n",
    "        msg = \"The value {x} was not expected and this function must be corrected to continue.\".format(x=x)\n",
    "        raise ValueError(msg)\n",
    "    \n",
    "    \n",
    "    new_teneral = df.Teneral.apply(recode_func)\n",
    "    df.Teneral = new_teneral\n",
    "\n",
    "##########################################\n",
    "\n",
    "def recode_positives(df):\n",
    "    def recode_func(x):\n",
    "        # this is treated as an unknown case\n",
    "        if pd.isnull(x):\n",
    "            return x\n",
    "\n",
    "        y = unicode(x)\n",
    "\n",
    "        # deal with Unknown type cases\n",
    "        if y.upper().startswith('UN'):\n",
    "            return None\n",
    "\n",
    "        if y.upper().startswith('DEAD'):\n",
    "            return None\n",
    "\n",
    "\n",
    "        # deal with Positive type cases\n",
    "        if y.startswith('1'):\n",
    "            return True\n",
    "\n",
    "\n",
    "        if y.upper().startswith('TRUE'):\n",
    "            return True\n",
    "\n",
    "        if y.upper().startswith('P'):\n",
    "            return True\n",
    "\n",
    "        if y.upper().startswith('Y'):\n",
    "            return True\n",
    "\n",
    "\n",
    "        # deal with Negative type cases\n",
    "        if y.upper().startswith('NO'):\n",
    "            return False\n",
    "\n",
    "        if y.upper().startswith('FALSE'):\n",
    "            return False\n",
    "\n",
    "\n",
    "        if y.startswith('0'):\n",
    "            return False\n",
    "\n",
    "\n",
    "        msg = \"The value {x} was not expected and this function must be corrected to continue.\".format(x=x)\n",
    "        raise ValueError(msg)\n",
    "\n",
    "\n",
    "    new_prob = df.prob.apply(recode_func)\n",
    "    df.prob = new_prob\n",
    "    \n",
    "    new_midgut = df.midgut.apply(recode_func)\n",
    "    df.midgut = new_midgut\n",
    "    \n",
    "    new_sal_gland = df.sal_gland.apply(recode_func)\n",
    "    df.sal_gland = new_sal_gland\n",
    "\n",
    "##########################################\n",
    "\n",
    "def recode_species(df):\n",
    "\n",
    "    recode_func = lambda x: ''.join(x.split('.')).capitalize()\n",
    "\n",
    "    new_Species = df.Species.apply(recode_func)\n",
    "    df.Species = new_Species\n",
    "\n",
    "##########################################\n",
    "\n",
    "def recode_sex(df):\n",
    "\n",
    "    recode_func = lambda x: x.upper()\n",
    "\n",
    "    new_Sex = df.Sex.apply(recode_func)\n",
    "    df.Sex = new_Sex\n",
    "    \n",
    "##########################################\n",
    "\n",
    "date_delim = re.compile('[\\./-]')\n",
    "\n",
    "def cast_unicode_as_date(x):\n",
    "    if not isinstance(x, unicode):\n",
    "        return x\n",
    "    \n",
    "    parts = date_delim.split(x)\n",
    "    \n",
    "    if len(parts) != 3:\n",
    "        return x\n",
    "    \n",
    "    if len(parts[0]) != 4:\n",
    "        return x\n",
    "    \n",
    "    return dt.datetime(int(parts[0]), int(parts[1]), int(parts[2]))\n",
    "\n",
    "def recode_date(df):\n",
    "    new_date = df.Date.apply(cast_unicode_as_date)\n",
    "    df.Date = new_date\n",
    "\n",
    "##########################################\n",
    "\n",
    "fly_no_delim = re.compile('[[\\W\\s]]', re.UNICODE)\n",
    "\n",
    "def split_number(x):\n",
    "    pdb.set_trace()\n",
    "    x = unicode(x)\n",
    "    parts = fly_no_delim.split(x)\n",
    "    \n",
    "    try:\n",
    "        number = int(parts[-1])\n",
    "        return number\n",
    "    except ValueError:\n",
    "        return x\n",
    "\n",
    "\n",
    "def recode_fly_number(df):\n",
    "    \n",
    "    new_fly_number = df.Fly_Number.apply(split_number)\n",
    "    df.Fly_Number = new_fly_number"
   ]
  },
  {
   "cell_type": "code",
   "execution_count": 15,
   "metadata": {
    "collapsed": false
   },
   "outputs": [],
   "source": [
    "def aggregate_column_from_df_list(df_list, col_name):\n",
    "    agg_data = []\n",
    "    for df in df_list:\n",
    "        agg_data.extend(list(df[col_name]))\n",
    "        \n",
    "    \n",
    "    return agg_data"
   ]
  },
  {
   "cell_type": "markdown",
   "metadata": {},
   "source": [
    "### Functions that add new columns"
   ]
  },
  {
   "cell_type": "code",
   "execution_count": 16,
   "metadata": {
    "collapsed": true
   },
   "outputs": [],
   "source": [
    "def add_infection_state_col(df):\n",
    "    df['infection_state'] = df[['prob','midgut','sal_gland']].any(skipna=True,axis=1)      "
   ]
  },
  {
   "cell_type": "markdown",
   "metadata": {},
   "source": [
    "## Recode Fly_Number"
   ]
  },
  {
   "cell_type": "code",
   "execution_count": 41,
   "metadata": {
    "collapsed": false
   },
   "outputs": [],
   "source": [
    "# pdb\n",
    "import pdb"
   ]
  },
  {
   "cell_type": "code",
   "execution_count": 38,
   "metadata": {
    "collapsed": false
   },
   "outputs": [],
   "source": [
    "df = pd.read_pickle(pickle_out_path)\n",
    "recode_fly_number(df)"
   ]
  },
  {
   "cell_type": "code",
   "execution_count": 39,
   "metadata": {
    "collapsed": false
   },
   "outputs": [
    {
     "data": {
      "text/html": [
       "<div style=\"max-height:1000px;max-width:1500px;overflow:auto;\">\n",
       "<table border=\"1\" class=\"dataframe\">\n",
       "  <thead>\n",
       "    <tr style=\"text-align: right;\">\n",
       "      <th></th>\n",
       "      <th>Comment</th>\n",
       "      <th>Date</th>\n",
       "      <th>Dead</th>\n",
       "      <th>Fly_Number</th>\n",
       "      <th>Hunger_stage</th>\n",
       "      <th>Kept_in</th>\n",
       "      <th>Sex</th>\n",
       "      <th>Species</th>\n",
       "      <th>Teneral</th>\n",
       "      <th>Trap_No</th>\n",
       "      <th>Village</th>\n",
       "      <th>Wing_fray</th>\n",
       "      <th>infection_state</th>\n",
       "      <th>midgut</th>\n",
       "      <th>prob</th>\n",
       "      <th>sal_gland</th>\n",
       "      <th>workbook</th>\n",
       "      <th>worksheet</th>\n",
       "    </tr>\n",
       "  </thead>\n",
       "  <tbody>\n",
       "    <tr>\n",
       "      <th>0</th>\n",
       "      <td> NaN</td>\n",
       "      <td>2014-07-22</td>\n",
       "      <td> False</td>\n",
       "      <td> UWA-14 001</td>\n",
       "      <td> 2</td>\n",
       "      <td> EtOH</td>\n",
       "      <td> F</td>\n",
       "      <td> Gff</td>\n",
       "      <td> False</td>\n",
       "      <td> 1</td>\n",
       "      <td> UWA</td>\n",
       "      <td> 2</td>\n",
       "      <td> False</td>\n",
       "      <td> False</td>\n",
       "      <td> False</td>\n",
       "      <td> False</td>\n",
       "      <td> 2014_spring_summer_from_rob.xlsx</td>\n",
       "      <td> Dissection Data-Nwoya</td>\n",
       "    </tr>\n",
       "    <tr>\n",
       "      <th>1</th>\n",
       "      <td> NaN</td>\n",
       "      <td>2014-07-22</td>\n",
       "      <td> False</td>\n",
       "      <td> UWA-14 002</td>\n",
       "      <td> 3</td>\n",
       "      <td> EtOH</td>\n",
       "      <td> F</td>\n",
       "      <td> Gff</td>\n",
       "      <td> False</td>\n",
       "      <td> 1</td>\n",
       "      <td> UWA</td>\n",
       "      <td> 2</td>\n",
       "      <td> False</td>\n",
       "      <td> False</td>\n",
       "      <td> False</td>\n",
       "      <td> False</td>\n",
       "      <td> 2014_spring_summer_from_rob.xlsx</td>\n",
       "      <td> Dissection Data-Nwoya</td>\n",
       "    </tr>\n",
       "    <tr>\n",
       "      <th>2</th>\n",
       "      <td> NaN</td>\n",
       "      <td>2014-07-22</td>\n",
       "      <td> False</td>\n",
       "      <td> UWA-14 003</td>\n",
       "      <td> 3</td>\n",
       "      <td> EtOH</td>\n",
       "      <td> M</td>\n",
       "      <td> Gff</td>\n",
       "      <td> False</td>\n",
       "      <td> 1</td>\n",
       "      <td> UWA</td>\n",
       "      <td> 2</td>\n",
       "      <td> False</td>\n",
       "      <td> False</td>\n",
       "      <td> False</td>\n",
       "      <td> False</td>\n",
       "      <td> 2014_spring_summer_from_rob.xlsx</td>\n",
       "      <td> Dissection Data-Nwoya</td>\n",
       "    </tr>\n",
       "    <tr>\n",
       "      <th>3</th>\n",
       "      <td> NaN</td>\n",
       "      <td>2014-07-22</td>\n",
       "      <td> False</td>\n",
       "      <td> UWA-14 004</td>\n",
       "      <td> 3</td>\n",
       "      <td> EtOH</td>\n",
       "      <td> M</td>\n",
       "      <td> Gff</td>\n",
       "      <td> False</td>\n",
       "      <td> 1</td>\n",
       "      <td> UWA</td>\n",
       "      <td> 2</td>\n",
       "      <td> False</td>\n",
       "      <td> False</td>\n",
       "      <td> False</td>\n",
       "      <td> False</td>\n",
       "      <td> 2014_spring_summer_from_rob.xlsx</td>\n",
       "      <td> Dissection Data-Nwoya</td>\n",
       "    </tr>\n",
       "    <tr>\n",
       "      <th>4</th>\n",
       "      <td> NaN</td>\n",
       "      <td>2014-07-22</td>\n",
       "      <td> False</td>\n",
       "      <td> UWA-14 005</td>\n",
       "      <td> 3</td>\n",
       "      <td> EtOH</td>\n",
       "      <td> M</td>\n",
       "      <td> Gff</td>\n",
       "      <td> False</td>\n",
       "      <td> 1</td>\n",
       "      <td> UWA</td>\n",
       "      <td> 2</td>\n",
       "      <td> False</td>\n",
       "      <td> False</td>\n",
       "      <td> False</td>\n",
       "      <td> False</td>\n",
       "      <td> 2014_spring_summer_from_rob.xlsx</td>\n",
       "      <td> Dissection Data-Nwoya</td>\n",
       "    </tr>\n",
       "  </tbody>\n",
       "</table>\n",
       "</div>"
      ],
      "text/plain": [
       "  Comment       Date   Dead  Fly_Number Hunger_stage Kept_in Sex Species  \\\n",
       "0     NaN 2014-07-22  False  UWA-14 001            2    EtOH   F     Gff   \n",
       "1     NaN 2014-07-22  False  UWA-14 002            3    EtOH   F     Gff   \n",
       "2     NaN 2014-07-22  False  UWA-14 003            3    EtOH   M     Gff   \n",
       "3     NaN 2014-07-22  False  UWA-14 004            3    EtOH   M     Gff   \n",
       "4     NaN 2014-07-22  False  UWA-14 005            3    EtOH   M     Gff   \n",
       "\n",
       "  Teneral  Trap_No Village Wing_fray infection_state midgut   prob sal_gland  \\\n",
       "0   False        1     UWA         2           False  False  False     False   \n",
       "1   False        1     UWA         2           False  False  False     False   \n",
       "2   False        1     UWA         2           False  False  False     False   \n",
       "3   False        1     UWA         2           False  False  False     False   \n",
       "4   False        1     UWA         2           False  False  False     False   \n",
       "\n",
       "                           workbook              worksheet  \n",
       "0  2014_spring_summer_from_rob.xlsx  Dissection Data-Nwoya  \n",
       "1  2014_spring_summer_from_rob.xlsx  Dissection Data-Nwoya  \n",
       "2  2014_spring_summer_from_rob.xlsx  Dissection Data-Nwoya  \n",
       "3  2014_spring_summer_from_rob.xlsx  Dissection Data-Nwoya  \n",
       "4  2014_spring_summer_from_rob.xlsx  Dissection Data-Nwoya  "
      ]
     },
     "execution_count": 39,
     "metadata": {},
     "output_type": "execute_result"
    }
   ],
   "source": [
    "df.head()"
   ]
  },
  {
   "cell_type": "markdown",
   "metadata": {},
   "source": [
    "----\n",
    "# Helpful constants"
   ]
  },
  {
   "cell_type": "code",
   "execution_count": 17,
   "metadata": {
    "collapsed": true
   },
   "outputs": [],
   "source": [
    "village_id_map = get_village_id_map(village_id_map_path)"
   ]
  },
  {
   "cell_type": "code",
   "execution_count": 18,
   "metadata": {
    "collapsed": false
   },
   "outputs": [],
   "source": [
    "# pdb"
   ]
  },
  {
   "cell_type": "code",
   "execution_count": 19,
   "metadata": {
    "collapsed": false
   },
   "outputs": [],
   "source": [
    "# # Example pivot_table\n",
    "# tableXXXX = pd.pivot_table(df.query(\"XXXX == XXXX\"),index=['XXXX'],\n",
    "#                       values=['XXXX'],\n",
    "#                       columns=['XXXX'],\n",
    "#                       fill_value=0,\n",
    "#                       aggfunc=[len])\n",
    "# tableXXXX.head()"
   ]
  },
  {
   "cell_type": "markdown",
   "metadata": {},
   "source": [
    "---\n",
    "# Query the data"
   ]
  },
  {
   "cell_type": "markdown",
   "metadata": {},
   "source": [
    "### How many positives did we find after Gisella left in July?"
   ]
  },
  {
   "cell_type": "code",
   "execution_count": 20,
   "metadata": {
    "collapsed": false
   },
   "outputs": [],
   "source": [
    "date_mask = df.Date.apply(lambda x: date_is_between(x,\n",
    "                                                          dt.datetime(2014, 7, 11),\n",
    "                                                          dt.datetime(2014, 8, 11)))\n",
    "post_gisella_july = df[date_mask]"
   ]
  },
  {
   "cell_type": "code",
   "execution_count": 25,
   "metadata": {
    "collapsed": false
   },
   "outputs": [
    {
     "data": {
      "text/plain": [
       "array([u'UWA-14 001', u'UWA-14 061', u'UWA-14 121', u'UWA-14 181',\n",
       "       u'UWA-14 241', u'UWA-14 301', u'UWA-14 361', u'UWA-14 421',\n",
       "       u'UWA-14 481', u'UWA-14 541', u'UWA-14 601', u'UWA-14 661',\n",
       "       u'UWA-14 721', u'UWA-14 781', u'GOR-14 023', u'GOR-14 083',\n",
       "       u'GOR-14 143', u'OKS-14 203', u'OLW-14 056', u'OLO-14 116',\n",
       "       u'OSG-14 176', u'AKA-14 057', u'ACA-14 117', u'ACA-14 177',\n",
       "       u'ACA-14 237', u'OCA-14 297', u'OD-14 357', u'OCA-14 417',\n",
       "       u'ACA-14 477', u'AKA-14 537', u'AKA-14 597', u'AKA-14 657',\n",
       "       u'0CA-14 717', u'ACA-14 777', u'ACA-14 838', u'AKA-14 898',\n",
       "       u'OCA-14 958', u'ACA-14 1018', u'OCA-14 1078', u'ACA-14 1138',\n",
       "       u'ACA-14 1198'], dtype=object)"
      ]
     },
     "execution_count": 25,
     "metadata": {},
     "output_type": "execute_result"
    }
   ],
   "source": [
    "post_gisella_july.Fly_Number.unique()[::60]"
   ]
  },
  {
   "cell_type": "code",
   "execution_count": null,
   "metadata": {
    "collapsed": true
   },
   "outputs": [],
   "source": []
  }
 ],
 "metadata": {
  "kernelspec": {
   "display_name": "Python 2",
   "language": "python",
   "name": "python2"
  },
  "language_info": {
   "codemirror_mode": {
    "name": "ipython",
    "version": 2
   },
   "file_extension": ".py",
   "mimetype": "text/x-python",
   "name": "python",
   "nbconvert_exporter": "python",
   "pygments_lexer": "ipython2",
   "version": "2.7.9"
  }
 },
 "nbformat": 4,
 "nbformat_minor": 0
}
