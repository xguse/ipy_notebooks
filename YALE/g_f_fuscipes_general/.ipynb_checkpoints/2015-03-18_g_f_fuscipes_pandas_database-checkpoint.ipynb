{
 "cells": [
  {
   "cell_type": "markdown",
   "metadata": {},
   "source": [
    "# Purpose:\n",
    "\n",
    "2015-03-18 (Wednesday)\n",
    "\n",
    "Query the database."
   ]
  },
  {
   "cell_type": "markdown",
   "metadata": {},
   "source": [
    "# Table of Searches:\n",
    "\n",
    "[How-many-positives-did-we-find-after-Gisella-left-in-July?](#How-many-positives-did-we-find-after-Gisella-left-in-July?)\n",
    "\n",
    "[Get-next-set-of-fly-IDs-for-Robert's-MicroSat-work](#Get-next-set-of-fly-IDs-for-Robert's-MicroSat-work.)"
   ]
  },
  {
   "cell_type": "markdown",
   "metadata": {},
   "source": [
    "## Imports:"
   ]
  },
  {
   "cell_type": "code",
   "execution_count": 1,
   "metadata": {
    "collapsed": true
   },
   "outputs": [],
   "source": [
    "# imports\n",
    "import csv\n",
    "import itertools\n",
    "import os\n",
    "import re\n",
    "\n",
    "import pandas as pd\n",
    "import numpy as np\n",
    "import datetime as dt\n",
    "\n",
    "import scipy\n",
    "\n",
    "import munch\n"
   ]
  },
  {
   "cell_type": "code",
   "execution_count": 2,
   "metadata": {
    "collapsed": true
   },
   "outputs": [],
   "source": [
    "# for plotting\n",
    "%matplotlib inline\n",
    "import matplotlib.pyplot as plt\n",
    "import seaborn as sns\n",
    "import ggplot as gp\n",
    "\n",
    "\n",
    "import numpy as np\n",
    "import pandas as pd\n",
    "pd.set_option('display.max_columns', 60)\n",
    "\n",
    "\n",
    "import ggplot as g\n"
   ]
  },
  {
   "cell_type": "markdown",
   "metadata": {},
   "source": [
    "## File paths:"
   ]
  },
  {
   "cell_type": "code",
   "execution_count": 3,
   "metadata": {
    "collapsed": true
   },
   "outputs": [],
   "source": [
    "# define paths to files\n",
    "spring_summer = \"/home/gus/Documents/YalePostDoc/project_stuff/g_f_fucipes_uganda/collection_data/2014_spring_summer_from_rob.xlsx\"\n",
    "fall =          \"/home/gus/Documents/YalePostDoc/project_stuff/g_f_fucipes_uganda/collection_data/2014_fall_for_pandas.xlsx\"\n",
    "december = \"/home/gus/Documents/YalePostDoc/project_stuff/g_f_fucipes_uganda/collection_data/DEC_2014_survey_for_pandas.xlsx\"\n",
    "\n",
    "h5_out_path = \"/home/gus/Documents/YalePostDoc/project_stuff/g_f_fucipes_uganda/collection_data/hdf5/2014_collection_records.h5\"\n",
    "json_out_path = \"/home/gus/Documents/YalePostDoc/project_stuff/g_f_fucipes_uganda/collection_data/hdf5/2014_collection_records.json\"\n",
    "pickle_out_path = \"/home/gus/Documents/YalePostDoc/project_stuff/g_f_fucipes_uganda/collection_data/hdf5/2014_collection_records.pkl\""
   ]
  },
  {
   "cell_type": "code",
   "execution_count": 4,
   "metadata": {
    "collapsed": true
   },
   "outputs": [],
   "source": [
    "village_id_map_path = \"/home/gus/Dropbox/uganda_data/data_repos/field_data/locations/names/uganda_village_id_map.csv\""
   ]
  },
  {
   "cell_type": "markdown",
   "metadata": {},
   "source": [
    "----\n",
    "# Helper functions"
   ]
  },
  {
   "cell_type": "code",
   "execution_count": 5,
   "metadata": {
    "collapsed": true
   },
   "outputs": [],
   "source": [
    "def date_is_between(test_date, start, end):\n",
    "    \n",
    "    try:\n",
    "        return start <= test_date <= end\n",
    "    except TypeError as exc:\n",
    "        if \"can't compare datetime\" in exc.message:\n",
    "            return False\n",
    "        else:\n",
    "            raise"
   ]
  },
  {
   "cell_type": "code",
   "execution_count": 6,
   "metadata": {
    "collapsed": true
   },
   "outputs": [],
   "source": [
    "def get_village_id_map(village_id_map_path):\n",
    "    \"\"\"\n",
    "    Generates and returns a `dict` mapping the long-form village names to the letter codes.\n",
    "    Letter codes map back to themselves to ensure a one way mapping.  \n",
    "    Enforces both be all UPPERcase to allow case insensitivity as long as\n",
    "    the map is used like: `map[text.upper()]`.\n",
    "    :return: `dict`\n",
    "    \"\"\"\n",
    "\n",
    "    village_id_map = {}\n",
    "\n",
    "    with open(village_id_map_path, 'rb') as csv_file:\n",
    "        village_ids = csv.reader(csv_file, delimiter=',')\n",
    "        for pair in village_ids:\n",
    "            village_id_map[unicode(pair[0].upper())] = unicode(pair[0].upper())\n",
    "            village_id_map[unicode(pair[1].upper())] = unicode(pair[0].upper())\n",
    "\n",
    "    return village_id_map"
   ]
  },
  {
   "cell_type": "code",
   "execution_count": 7,
   "metadata": {
    "collapsed": true
   },
   "outputs": [],
   "source": [
    "def load_xl_sheets(xl_path):\n",
    "    dfs = munch.Munch()\n",
    "    \n",
    "    xls = pd.ExcelFile(xl_path)\n",
    "    \n",
    "    workbook_name = os.path.basename(xl_path)\n",
    "    \n",
    "    for sheet in xls.sheet_names:\n",
    "        if sheet.upper().startswith(\"DISSECT\"):\n",
    "            worksheet_df = xls.parse(sheetname=sheet, \n",
    "                                header=0, \n",
    "                                skiprows=None, skip_footer=0, \n",
    "                                index_col=None, parse_cols=None, \n",
    "                                parse_dates=False, date_parser=None, \n",
    "                                na_values=['NA'], \n",
    "                                thousands=None, chunksize=None, \n",
    "                                convert_float=False, \n",
    "                                has_index_names=False, converters=None)\n",
    "            \n",
    "            worksheet_df['workbook'] = workbook_name\n",
    "            worksheet_df['worksheet'] = sheet\n",
    "            \n",
    "            dfs[sheet] = worksheet_df \n",
    "            \n",
    "    return dfs"
   ]
  },
  {
   "cell_type": "code",
   "execution_count": 8,
   "metadata": {
    "collapsed": false
   },
   "outputs": [],
   "source": [
    "def recode_villages(df):\n",
    "    map_func = lambda x: village_id_map[x.upper()]\n",
    "        \n",
    "    new_codes = df.Village.apply(map_func)\n",
    "    df.Village = new_codes    "
   ]
  },
  {
   "cell_type": "code",
   "execution_count": 79,
   "metadata": {
    "collapsed": false
   },
   "outputs": [],
   "source": [
    "def recode_dead(df):\n",
    "    def recode_func(x):\n",
    "        # this is treated as an unknown case\n",
    "        if pd.isnull(x):\n",
    "            return x\n",
    "\n",
    "        x = unicode(x)\n",
    "\n",
    "        # True means DEAD\n",
    "        # False means LIVE or NOT-DEAD\n",
    "        # None means unknown\n",
    "\n",
    "        try:\n",
    "            # deal with Live type cases\n",
    "            if x.upper().startswith('L'):\n",
    "                return False\n",
    "\n",
    "\n",
    "            if x.startswith('0'):\n",
    "                return False\n",
    "\n",
    "\n",
    "            # deal with Dead type cases\n",
    "            if x.upper().startswith('D'):\n",
    "                return True\n",
    "\n",
    "\n",
    "            if x.startswith('1'):\n",
    "                return True\n",
    "\n",
    "\n",
    "            # deal with unknown type cases\n",
    "            if x.upper().startswith('UN'):\n",
    "                return None\n",
    "        except AttributeError:\n",
    "            return x\n",
    "\n",
    "        msg = \"The value {x} was not expected and this function must be corrected to continue.\".format(x=x)\n",
    "        raise ValueError(msg)\n",
    "\n",
    "    new_dead = df.Dead.apply(recode_func)\n",
    "    df.Dead = new_dead\n",
    "\n",
    "##########################################\n",
    "\n",
    "def recode_teneral(df):\n",
    "    def recode_func(x):\n",
    "\n",
    "        # this is treated as an unknown case\n",
    "        if pd.isnull(x):\n",
    "            return x\n",
    "\n",
    "        x = unicode(x)\n",
    "\n",
    "        # True means teneral\n",
    "        # False means NOT-teneral\n",
    "        # None means unknown\n",
    "\n",
    "        try:\n",
    "            # deal with NOT-teneral type cases\n",
    "            if x.upper().startswith('N'):\n",
    "                return False\n",
    "\n",
    "            if x.startswith('0'):\n",
    "                return False\n",
    "\n",
    "            # deal with Teneral type cases\n",
    "            if x.upper().startswith('T'):\n",
    "                return True\n",
    "            \n",
    "            if x.startswith('1'):\n",
    "                return True\n",
    "\n",
    "\n",
    "            # Deal with unknown type cases\n",
    "            if x.upper().startswith('UN'):\n",
    "                return x\n",
    "        except AttributeError:\n",
    "            return x\n",
    "\n",
    "        msg = \"The value {x} was not expected and this function must be corrected to continue.\".format(x=x)\n",
    "        raise ValueError(msg)\n",
    "    \n",
    "    \n",
    "    new_teneral = df.Teneral.apply(recode_func)\n",
    "    df.Teneral = new_teneral\n",
    "\n",
    "##########################################\n",
    "\n",
    "def recode_positives(df):\n",
    "    def recode_func(x):\n",
    "        # this is treated as an unknown case\n",
    "        if pd.isnull(x):\n",
    "            return x\n",
    "\n",
    "        y = unicode(x)\n",
    "\n",
    "        # deal with Unknown type cases\n",
    "        if y.upper().startswith('UN'):\n",
    "            return None\n",
    "\n",
    "        if y.upper().startswith('DEAD'):\n",
    "            return None\n",
    "\n",
    "\n",
    "        # deal with Positive type cases\n",
    "        if y.startswith('1'):\n",
    "            return True\n",
    "\n",
    "\n",
    "        if y.upper().startswith('TRUE'):\n",
    "            return True\n",
    "\n",
    "        if y.upper().startswith('P'):\n",
    "            return True\n",
    "\n",
    "        if y.upper().startswith('Y'):\n",
    "            return True\n",
    "\n",
    "\n",
    "        # deal with Negative type cases\n",
    "        if y.upper().startswith('NO'):\n",
    "            return False\n",
    "\n",
    "        if y.upper().startswith('FALSE'):\n",
    "            return False\n",
    "\n",
    "\n",
    "        if y.startswith('0'):\n",
    "            return False\n",
    "\n",
    "\n",
    "        msg = \"The value {x} was not expected and this function must be corrected to continue.\".format(x=x)\n",
    "        raise ValueError(msg)\n",
    "\n",
    "\n",
    "    new_prob = df.prob.apply(recode_func)\n",
    "    df.prob = new_prob\n",
    "    \n",
    "    new_midgut = df.midgut.apply(recode_func)\n",
    "    df.midgut = new_midgut\n",
    "    \n",
    "    new_sal_gland = df.sal_gland.apply(recode_func)\n",
    "    df.sal_gland = new_sal_gland\n",
    "\n",
    "##########################################\n",
    "\n",
    "def recode_species(df):\n",
    "\n",
    "    recode_func = lambda x: ''.join(x.split('.')).capitalize()\n",
    "\n",
    "    new_Species = df.Species.apply(recode_func)\n",
    "    df.Species = new_Species\n",
    "\n",
    "##########################################\n",
    "\n",
    "def recode_sex(df):\n",
    "\n",
    "    recode_func = lambda x: x.upper()\n",
    "\n",
    "    new_Sex = df.Sex.apply(recode_func)\n",
    "    df.Sex = new_Sex\n",
    "    \n",
    "##########################################\n",
    "\n",
    "date_delim = re.compile('[\\./-]')\n",
    "\n",
    "def cast_unicode_as_date(x):\n",
    "    if not isinstance(x, unicode):\n",
    "        return x\n",
    "    \n",
    "    parts = date_delim.split(x)\n",
    "    \n",
    "    if len(parts) != 3:\n",
    "        return x\n",
    "    \n",
    "    if len(parts[0]) != 4:\n",
    "        return x\n",
    "    \n",
    "    return dt.datetime(int(parts[0]), int(parts[1]), int(parts[2]))\n",
    "\n",
    "def recode_date(df):\n",
    "    new_date = df.Date.apply(cast_unicode_as_date)\n",
    "    df.Date = new_date\n",
    "\n",
    "##########################################\n",
    "\n",
    "fly_no_delim = re.compile('[\\W\\s]', re.UNICODE)\n",
    "\n",
    "def split_number(x):\n",
    "#     ipdb.set_trace()\n",
    "    \n",
    "    # to prevent unicode creating a string with a '.' AFTER\n",
    "    # the numbert we are intersted in!\n",
    "    try:\n",
    "        if isinstance(x,float):\n",
    "            return int(x)\n",
    "    except ValueError as exc:\n",
    "        if 'NAN' in exc.message.upper():\n",
    "            return x\n",
    "    \n",
    "    x = unicode(x)\n",
    "    parts = fly_no_delim.split(x)\n",
    "    \n",
    "    try:\n",
    "        number = int(parts[-1])\n",
    "        return number\n",
    "    except ValueError:\n",
    "        return x\n",
    "\n",
    "\n",
    "def recode_fly_number(df):\n",
    "    \n",
    "    new_fly_number = df.Fly_Number.apply(split_number)\n",
    "    df.Fly_Number = new_fly_number"
   ]
  },
  {
   "cell_type": "code",
   "execution_count": 80,
   "metadata": {
    "collapsed": false
   },
   "outputs": [],
   "source": [
    "def aggregate_column_from_df_list(df_list, col_name):\n",
    "    agg_data = []\n",
    "    for df in df_list:\n",
    "        agg_data.extend(list(df[col_name]))\n",
    "        \n",
    "    \n",
    "    return agg_data"
   ]
  },
  {
   "cell_type": "markdown",
   "metadata": {},
   "source": [
    "### Functions that add new columns"
   ]
  },
  {
   "cell_type": "code",
   "execution_count": 81,
   "metadata": {
    "collapsed": true
   },
   "outputs": [],
   "source": [
    "def add_infection_state_col(df):\n",
    "    df['infection_state'] = df[['prob','midgut','sal_gland']].any(skipna=True,axis=1)      "
   ]
  },
  {
   "cell_type": "markdown",
   "metadata": {},
   "source": [
    "## Recode Fly_Number"
   ]
  },
  {
   "cell_type": "code",
   "execution_count": 82,
   "metadata": {
    "collapsed": false
   },
   "outputs": [],
   "source": [
    "# pdb\n",
    "# import ipdb"
   ]
  },
  {
   "cell_type": "code",
   "execution_count": 83,
   "metadata": {
    "collapsed": false
   },
   "outputs": [
    {
     "ename": "ValueError",
     "evalue": "cannot convert float NaN to integer",
     "output_type": "error",
     "traceback": [
      "\u001b[1;31m---------------------------------------------------------------------------\u001b[0m",
      "\u001b[1;31mValueError\u001b[0m                                Traceback (most recent call last)",
      "\u001b[1;32m<ipython-input-83-0b80abf25901>\u001b[0m in \u001b[0;36m<module>\u001b[1;34m()\u001b[0m\n\u001b[0;32m      1\u001b[0m \u001b[0mdf\u001b[0m \u001b[1;33m=\u001b[0m \u001b[0mpd\u001b[0m\u001b[1;33m.\u001b[0m\u001b[0mread_pickle\u001b[0m\u001b[1;33m(\u001b[0m\u001b[0mpickle_out_path\u001b[0m\u001b[1;33m)\u001b[0m\u001b[1;33m\u001b[0m\u001b[0m\n\u001b[0;32m      2\u001b[0m \u001b[0mdf2\u001b[0m \u001b[1;33m=\u001b[0m \u001b[0mpd\u001b[0m\u001b[1;33m.\u001b[0m\u001b[0mread_pickle\u001b[0m\u001b[1;33m(\u001b[0m\u001b[0mpickle_out_path\u001b[0m\u001b[1;33m)\u001b[0m\u001b[1;33m\u001b[0m\u001b[0m\n\u001b[1;32m----> 3\u001b[1;33m \u001b[0mrecode_fly_number\u001b[0m\u001b[1;33m(\u001b[0m\u001b[0mdf\u001b[0m\u001b[1;33m)\u001b[0m\u001b[1;33m\u001b[0m\u001b[0m\n\u001b[0m",
      "\u001b[1;32m<ipython-input-79-7e95568128b0>\u001b[0m in \u001b[0;36mrecode_fly_number\u001b[1;34m(df)\u001b[0m\n\u001b[0;32m    208\u001b[0m \u001b[1;32mdef\u001b[0m \u001b[0mrecode_fly_number\u001b[0m\u001b[1;33m(\u001b[0m\u001b[0mdf\u001b[0m\u001b[1;33m)\u001b[0m\u001b[1;33m:\u001b[0m\u001b[1;33m\u001b[0m\u001b[0m\n\u001b[0;32m    209\u001b[0m \u001b[1;33m\u001b[0m\u001b[0m\n\u001b[1;32m--> 210\u001b[1;33m     \u001b[0mnew_fly_number\u001b[0m \u001b[1;33m=\u001b[0m \u001b[0mdf\u001b[0m\u001b[1;33m.\u001b[0m\u001b[0mFly_Number\u001b[0m\u001b[1;33m.\u001b[0m\u001b[0mapply\u001b[0m\u001b[1;33m(\u001b[0m\u001b[0msplit_number\u001b[0m\u001b[1;33m)\u001b[0m\u001b[1;33m\u001b[0m\u001b[0m\n\u001b[0m\u001b[0;32m    211\u001b[0m     \u001b[0mdf\u001b[0m\u001b[1;33m.\u001b[0m\u001b[0mFly_Number\u001b[0m \u001b[1;33m=\u001b[0m \u001b[0mnew_fly_number\u001b[0m\u001b[1;33m\u001b[0m\u001b[0m\n",
      "\u001b[1;32m/home/gus/.virtualenvs/py279/lib/python2.7/site-packages/pandas/core/series.pyc\u001b[0m in \u001b[0;36mapply\u001b[1;34m(self, func, convert_dtype, args, **kwds)\u001b[0m\n\u001b[0;32m   2056\u001b[0m             \u001b[0mvalues\u001b[0m \u001b[1;33m=\u001b[0m \u001b[0mlib\u001b[0m\u001b[1;33m.\u001b[0m\u001b[0mmap_infer\u001b[0m\u001b[1;33m(\u001b[0m\u001b[0mvalues\u001b[0m\u001b[1;33m,\u001b[0m \u001b[0mlib\u001b[0m\u001b[1;33m.\u001b[0m\u001b[0mTimestamp\u001b[0m\u001b[1;33m)\u001b[0m\u001b[1;33m\u001b[0m\u001b[0m\n\u001b[0;32m   2057\u001b[0m \u001b[1;33m\u001b[0m\u001b[0m\n\u001b[1;32m-> 2058\u001b[1;33m         \u001b[0mmapped\u001b[0m \u001b[1;33m=\u001b[0m \u001b[0mlib\u001b[0m\u001b[1;33m.\u001b[0m\u001b[0mmap_infer\u001b[0m\u001b[1;33m(\u001b[0m\u001b[0mvalues\u001b[0m\u001b[1;33m,\u001b[0m \u001b[0mf\u001b[0m\u001b[1;33m,\u001b[0m \u001b[0mconvert\u001b[0m\u001b[1;33m=\u001b[0m\u001b[0mconvert_dtype\u001b[0m\u001b[1;33m)\u001b[0m\u001b[1;33m\u001b[0m\u001b[0m\n\u001b[0m\u001b[0;32m   2059\u001b[0m         \u001b[1;32mif\u001b[0m \u001b[0mlen\u001b[0m\u001b[1;33m(\u001b[0m\u001b[0mmapped\u001b[0m\u001b[1;33m)\u001b[0m \u001b[1;32mand\u001b[0m \u001b[0misinstance\u001b[0m\u001b[1;33m(\u001b[0m\u001b[0mmapped\u001b[0m\u001b[1;33m[\u001b[0m\u001b[1;36m0\u001b[0m\u001b[1;33m]\u001b[0m\u001b[1;33m,\u001b[0m \u001b[0mSeries\u001b[0m\u001b[1;33m)\u001b[0m\u001b[1;33m:\u001b[0m\u001b[1;33m\u001b[0m\u001b[0m\n\u001b[0;32m   2060\u001b[0m             \u001b[1;32mfrom\u001b[0m \u001b[0mpandas\u001b[0m\u001b[1;33m.\u001b[0m\u001b[0mcore\u001b[0m\u001b[1;33m.\u001b[0m\u001b[0mframe\u001b[0m \u001b[1;32mimport\u001b[0m \u001b[0mDataFrame\u001b[0m\u001b[1;33m\u001b[0m\u001b[0m\n",
      "\u001b[1;32mpandas/src/inference.pyx\u001b[0m in \u001b[0;36mpandas.lib.map_infer (pandas/lib.c:57158)\u001b[1;34m()\u001b[0m\n",
      "\u001b[1;32m<ipython-input-79-7e95568128b0>\u001b[0m in \u001b[0;36msplit_number\u001b[1;34m(x)\u001b[0m\n\u001b[0;32m    194\u001b[0m     \u001b[1;31m# the numbert we are intersted in!\u001b[0m\u001b[1;33m\u001b[0m\u001b[1;33m\u001b[0m\u001b[0m\n\u001b[0;32m    195\u001b[0m     \u001b[1;32mif\u001b[0m \u001b[0misinstance\u001b[0m\u001b[1;33m(\u001b[0m\u001b[0mx\u001b[0m\u001b[1;33m,\u001b[0m\u001b[0mfloat\u001b[0m\u001b[1;33m)\u001b[0m\u001b[1;33m:\u001b[0m\u001b[1;33m\u001b[0m\u001b[0m\n\u001b[1;32m--> 196\u001b[1;33m         \u001b[1;32mreturn\u001b[0m \u001b[0mint\u001b[0m\u001b[1;33m(\u001b[0m\u001b[0mx\u001b[0m\u001b[1;33m)\u001b[0m\u001b[1;33m\u001b[0m\u001b[0m\n\u001b[0m\u001b[0;32m    197\u001b[0m \u001b[1;33m\u001b[0m\u001b[0m\n\u001b[0;32m    198\u001b[0m     \u001b[0mx\u001b[0m \u001b[1;33m=\u001b[0m \u001b[0municode\u001b[0m\u001b[1;33m(\u001b[0m\u001b[0mx\u001b[0m\u001b[1;33m)\u001b[0m\u001b[1;33m\u001b[0m\u001b[0m\n",
      "\u001b[1;31mValueError\u001b[0m: cannot convert float NaN to integer"
     ]
    }
   ],
   "source": [
    "df = pd.read_pickle(pickle_out_path)\n",
    "df2 = pd.read_pickle(pickle_out_path)\n",
    "recode_fly_number(df)"
   ]
  },
  {
   "cell_type": "code",
   "execution_count": 69,
   "metadata": {
    "collapsed": false
   },
   "outputs": [],
   "source": [
    "NGO = df2.query(\"Village == 'NGO'\")"
   ]
  },
  {
   "cell_type": "code",
   "execution_count": 78,
   "metadata": {
    "collapsed": false
   },
   "outputs": [
    {
     "data": {
      "text/plain": [
       "0"
      ]
     },
     "execution_count": 78,
     "metadata": {},
     "output_type": "execute_result"
    }
   ],
   "source": [
    "split_number(NGO.Fly_Number.iloc[0])"
   ]
  },
  {
   "cell_type": "code",
   "execution_count": 15,
   "metadata": {
    "collapsed": true
   },
   "outputs": [],
   "source": [
    "df_old_flno = pd.read_pickle(pickle_out_path)"
   ]
  },
  {
   "cell_type": "code",
   "execution_count": 16,
   "metadata": {
    "collapsed": false
   },
   "outputs": [
    {
     "data": {
      "text/html": [
       "<div style=\"max-height:1000px;max-width:1500px;overflow:auto;\">\n",
       "<table border=\"1\" class=\"dataframe\">\n",
       "  <thead>\n",
       "    <tr style=\"text-align: right;\">\n",
       "      <th></th>\n",
       "      <th>Comment</th>\n",
       "      <th>Date</th>\n",
       "      <th>Dead</th>\n",
       "      <th>Fly_Number</th>\n",
       "      <th>Hunger_stage</th>\n",
       "      <th>Kept_in</th>\n",
       "      <th>Sex</th>\n",
       "      <th>Species</th>\n",
       "      <th>Teneral</th>\n",
       "      <th>Trap_No</th>\n",
       "      <th>Village</th>\n",
       "      <th>Wing_fray</th>\n",
       "      <th>infection_state</th>\n",
       "      <th>midgut</th>\n",
       "      <th>prob</th>\n",
       "      <th>sal_gland</th>\n",
       "      <th>workbook</th>\n",
       "      <th>worksheet</th>\n",
       "    </tr>\n",
       "  </thead>\n",
       "  <tbody>\n",
       "    <tr>\n",
       "      <th>0</th>\n",
       "      <td> NaN</td>\n",
       "      <td>2014-07-22</td>\n",
       "      <td> False</td>\n",
       "      <td> UWA-14 001</td>\n",
       "      <td> 2</td>\n",
       "      <td> EtOH</td>\n",
       "      <td> F</td>\n",
       "      <td> Gff</td>\n",
       "      <td> False</td>\n",
       "      <td> 1</td>\n",
       "      <td> UWA</td>\n",
       "      <td> 2</td>\n",
       "      <td> False</td>\n",
       "      <td> False</td>\n",
       "      <td> False</td>\n",
       "      <td> False</td>\n",
       "      <td> 2014_spring_summer_from_rob.xlsx</td>\n",
       "      <td> Dissection Data-Nwoya</td>\n",
       "    </tr>\n",
       "    <tr>\n",
       "      <th>1</th>\n",
       "      <td> NaN</td>\n",
       "      <td>2014-07-22</td>\n",
       "      <td> False</td>\n",
       "      <td> UWA-14 002</td>\n",
       "      <td> 3</td>\n",
       "      <td> EtOH</td>\n",
       "      <td> F</td>\n",
       "      <td> Gff</td>\n",
       "      <td> False</td>\n",
       "      <td> 1</td>\n",
       "      <td> UWA</td>\n",
       "      <td> 2</td>\n",
       "      <td> False</td>\n",
       "      <td> False</td>\n",
       "      <td> False</td>\n",
       "      <td> False</td>\n",
       "      <td> 2014_spring_summer_from_rob.xlsx</td>\n",
       "      <td> Dissection Data-Nwoya</td>\n",
       "    </tr>\n",
       "    <tr>\n",
       "      <th>2</th>\n",
       "      <td> NaN</td>\n",
       "      <td>2014-07-22</td>\n",
       "      <td> False</td>\n",
       "      <td> UWA-14 003</td>\n",
       "      <td> 3</td>\n",
       "      <td> EtOH</td>\n",
       "      <td> M</td>\n",
       "      <td> Gff</td>\n",
       "      <td> False</td>\n",
       "      <td> 1</td>\n",
       "      <td> UWA</td>\n",
       "      <td> 2</td>\n",
       "      <td> False</td>\n",
       "      <td> False</td>\n",
       "      <td> False</td>\n",
       "      <td> False</td>\n",
       "      <td> 2014_spring_summer_from_rob.xlsx</td>\n",
       "      <td> Dissection Data-Nwoya</td>\n",
       "    </tr>\n",
       "    <tr>\n",
       "      <th>3</th>\n",
       "      <td> NaN</td>\n",
       "      <td>2014-07-22</td>\n",
       "      <td> False</td>\n",
       "      <td> UWA-14 004</td>\n",
       "      <td> 3</td>\n",
       "      <td> EtOH</td>\n",
       "      <td> M</td>\n",
       "      <td> Gff</td>\n",
       "      <td> False</td>\n",
       "      <td> 1</td>\n",
       "      <td> UWA</td>\n",
       "      <td> 2</td>\n",
       "      <td> False</td>\n",
       "      <td> False</td>\n",
       "      <td> False</td>\n",
       "      <td> False</td>\n",
       "      <td> 2014_spring_summer_from_rob.xlsx</td>\n",
       "      <td> Dissection Data-Nwoya</td>\n",
       "    </tr>\n",
       "    <tr>\n",
       "      <th>4</th>\n",
       "      <td> NaN</td>\n",
       "      <td>2014-07-22</td>\n",
       "      <td> False</td>\n",
       "      <td> UWA-14 005</td>\n",
       "      <td> 3</td>\n",
       "      <td> EtOH</td>\n",
       "      <td> M</td>\n",
       "      <td> Gff</td>\n",
       "      <td> False</td>\n",
       "      <td> 1</td>\n",
       "      <td> UWA</td>\n",
       "      <td> 2</td>\n",
       "      <td> False</td>\n",
       "      <td> False</td>\n",
       "      <td> False</td>\n",
       "      <td> False</td>\n",
       "      <td> 2014_spring_summer_from_rob.xlsx</td>\n",
       "      <td> Dissection Data-Nwoya</td>\n",
       "    </tr>\n",
       "  </tbody>\n",
       "</table>\n",
       "</div>"
      ],
      "text/plain": [
       "  Comment       Date   Dead  Fly_Number Hunger_stage Kept_in Sex Species  \\\n",
       "0     NaN 2014-07-22  False  UWA-14 001            2    EtOH   F     Gff   \n",
       "1     NaN 2014-07-22  False  UWA-14 002            3    EtOH   F     Gff   \n",
       "2     NaN 2014-07-22  False  UWA-14 003            3    EtOH   M     Gff   \n",
       "3     NaN 2014-07-22  False  UWA-14 004            3    EtOH   M     Gff   \n",
       "4     NaN 2014-07-22  False  UWA-14 005            3    EtOH   M     Gff   \n",
       "\n",
       "  Teneral  Trap_No Village Wing_fray infection_state midgut   prob sal_gland  \\\n",
       "0   False        1     UWA         2           False  False  False     False   \n",
       "1   False        1     UWA         2           False  False  False     False   \n",
       "2   False        1     UWA         2           False  False  False     False   \n",
       "3   False        1     UWA         2           False  False  False     False   \n",
       "4   False        1     UWA         2           False  False  False     False   \n",
       "\n",
       "                           workbook              worksheet  \n",
       "0  2014_spring_summer_from_rob.xlsx  Dissection Data-Nwoya  \n",
       "1  2014_spring_summer_from_rob.xlsx  Dissection Data-Nwoya  \n",
       "2  2014_spring_summer_from_rob.xlsx  Dissection Data-Nwoya  \n",
       "3  2014_spring_summer_from_rob.xlsx  Dissection Data-Nwoya  \n",
       "4  2014_spring_summer_from_rob.xlsx  Dissection Data-Nwoya  "
      ]
     },
     "execution_count": 16,
     "metadata": {},
     "output_type": "execute_result"
    }
   ],
   "source": [
    "df_old_flno.head()"
   ]
  },
  {
   "cell_type": "markdown",
   "metadata": {},
   "source": [
    "----\n",
    "# Helpful constants"
   ]
  },
  {
   "cell_type": "code",
   "execution_count": 17,
   "metadata": {
    "collapsed": true
   },
   "outputs": [],
   "source": [
    "village_id_map = get_village_id_map(village_id_map_path)"
   ]
  },
  {
   "cell_type": "code",
   "execution_count": 18,
   "metadata": {
    "collapsed": false
   },
   "outputs": [],
   "source": [
    "# pdb"
   ]
  },
  {
   "cell_type": "code",
   "execution_count": 19,
   "metadata": {
    "collapsed": false
   },
   "outputs": [],
   "source": [
    "# # Example pivot_table\n",
    "# tableXXXX = pd.pivot_table(df.query(\"XXXX == XXXX\"),index=['XXXX'],\n",
    "#                       values=['XXXX'],\n",
    "#                       columns=['XXXX'],\n",
    "#                       fill_value=0,\n",
    "#                       aggfunc=[len])\n",
    "# tableXXXX.head()"
   ]
  },
  {
   "cell_type": "markdown",
   "metadata": {},
   "source": [
    "---\n",
    "# Query the data"
   ]
  },
  {
   "cell_type": "markdown",
   "metadata": {},
   "source": [
    "### How many positives did we find after Gisella left in July?"
   ]
  },
  {
   "cell_type": "code",
   "execution_count": 20,
   "metadata": {
    "collapsed": false
   },
   "outputs": [],
   "source": [
    "date_mask = df.Date.apply(lambda x: date_is_between(x,\n",
    "                                                          dt.datetime(2014, 7, 11),\n",
    "                                                          dt.datetime(2014, 8, 11)))\n",
    "post_gisella_july = df[date_mask]"
   ]
  },
  {
   "cell_type": "code",
   "execution_count": 21,
   "metadata": {
    "collapsed": false
   },
   "outputs": [],
   "source": [
    "post_gisella_july_positive = post_gisella_july.query('infection_state == True')"
   ]
  },
  {
   "cell_type": "code",
   "execution_count": 22,
   "metadata": {
    "collapsed": true
   },
   "outputs": [],
   "source": [
    "post_gisella_july_negative = post_gisella_july.query('infection_state == False')"
   ]
  },
  {
   "cell_type": "code",
   "execution_count": 23,
   "metadata": {
    "collapsed": false
   },
   "outputs": [
    {
     "data": {
      "text/plain": [
       "30"
      ]
     },
     "execution_count": 23,
     "metadata": {},
     "output_type": "execute_result"
    }
   ],
   "source": [
    "len(post_gisella_july_positive)"
   ]
  },
  {
   "cell_type": "code",
   "execution_count": 24,
   "metadata": {
    "collapsed": false
   },
   "outputs": [
    {
     "data": {
      "text/plain": [
       "2376"
      ]
     },
     "execution_count": 24,
     "metadata": {},
     "output_type": "execute_result"
    }
   ],
   "source": [
    "len(post_gisella_july_negative)"
   ]
  },
  {
   "cell_type": "code",
   "execution_count": 25,
   "metadata": {
    "collapsed": false
   },
   "outputs": [],
   "source": [
    "# post_gisella_july_positive.to_csv('/home/gus/Documents/YalePostDoc/project_stuff/g_f_fucipes_uganda/seraps_stuff/positives_from_gus_gisella_time.tsv', sep='\\t')"
   ]
  },
  {
   "cell_type": "code",
   "execution_count": 26,
   "metadata": {
    "collapsed": false
   },
   "outputs": [],
   "source": [
    "# post_gisella_july_negative.to_csv('/home/gus/Documents/YalePostDoc/project_stuff/g_f_fucipes_uganda/seraps_stuff/negatives_from_gus_gisella_time.tsv', sep='\\t')"
   ]
  },
  {
   "cell_type": "markdown",
   "metadata": {},
   "source": [
    "### Get next set of fly IDs for Robert's MicroSat work."
   ]
  },
  {
   "cell_type": "code",
   "execution_count": 40,
   "metadata": {
    "collapsed": true
   },
   "outputs": [],
   "source": [
    "def get_random_rows(df, sample_size):\n",
    "    return df.iloc[np.random.choice(df.index, sample_size, replace=False)]"
   ]
  },
  {
   "cell_type": "code",
   "execution_count": 46,
   "metadata": {
    "collapsed": false
   },
   "outputs": [
    {
     "data": {
      "text/html": [
       "<div style=\"max-height:1000px;max-width:1500px;overflow:auto;\">\n",
       "<table border=\"1\" class=\"dataframe\">\n",
       "  <thead>\n",
       "    <tr style=\"text-align: right;\">\n",
       "      <th></th>\n",
       "      <th>Comment</th>\n",
       "      <th>Date</th>\n",
       "      <th>Dead</th>\n",
       "      <th>Fly_Number</th>\n",
       "      <th>Hunger_stage</th>\n",
       "      <th>Kept_in</th>\n",
       "      <th>Sex</th>\n",
       "      <th>Species</th>\n",
       "      <th>Teneral</th>\n",
       "      <th>Trap_No</th>\n",
       "      <th>Village</th>\n",
       "      <th>Wing_fray</th>\n",
       "      <th>infection_state</th>\n",
       "      <th>midgut</th>\n",
       "      <th>prob</th>\n",
       "      <th>sal_gland</th>\n",
       "      <th>workbook</th>\n",
       "      <th>worksheet</th>\n",
       "    </tr>\n",
       "  </thead>\n",
       "  <tbody>\n",
       "    <tr>\n",
       "      <th>24 </th>\n",
       "      <td> NaN</td>\n",
       "      <td>2014-07-22</td>\n",
       "      <td> False</td>\n",
       "      <td>  25</td>\n",
       "      <td>  NaN</td>\n",
       "      <td> EtOH</td>\n",
       "      <td> F</td>\n",
       "      <td> Gff</td>\n",
       "      <td>  True</td>\n",
       "      <td>  1</td>\n",
       "      <td> UWA</td>\n",
       "      <td>  NaN</td>\n",
       "      <td> False</td>\n",
       "      <td>   NaN</td>\n",
       "      <td>   NaN</td>\n",
       "      <td>   NaN</td>\n",
       "      <td> 2014_spring_summer_from_rob.xlsx</td>\n",
       "      <td> Dissection Data-Nwoya</td>\n",
       "    </tr>\n",
       "    <tr>\n",
       "      <th>13 </th>\n",
       "      <td> NaN</td>\n",
       "      <td>2014-03-23</td>\n",
       "      <td> False</td>\n",
       "      <td>  14</td>\n",
       "      <td>    2</td>\n",
       "      <td> EtOH</td>\n",
       "      <td> F</td>\n",
       "      <td> Gff</td>\n",
       "      <td> False</td>\n",
       "      <td>  7</td>\n",
       "      <td> MWA</td>\n",
       "      <td>    2</td>\n",
       "      <td> False</td>\n",
       "      <td> False</td>\n",
       "      <td> False</td>\n",
       "      <td> False</td>\n",
       "      <td> 2014_spring_summer_from_rob.xlsx</td>\n",
       "      <td>  Dissection Data-Kole</td>\n",
       "    </tr>\n",
       "    <tr>\n",
       "      <th>370</th>\n",
       "      <td> NaN</td>\n",
       "      <td>2014-07-23</td>\n",
       "      <td> False</td>\n",
       "      <td> 370</td>\n",
       "      <td>    3</td>\n",
       "      <td> EtOH</td>\n",
       "      <td> M</td>\n",
       "      <td> Gff</td>\n",
       "      <td> False</td>\n",
       "      <td>  8</td>\n",
       "      <td> UWA</td>\n",
       "      <td>    2</td>\n",
       "      <td> False</td>\n",
       "      <td> False</td>\n",
       "      <td> False</td>\n",
       "      <td> False</td>\n",
       "      <td> 2014_spring_summer_from_rob.xlsx</td>\n",
       "      <td> Dissection Data-Nwoya</td>\n",
       "    </tr>\n",
       "    <tr>\n",
       "      <th>532</th>\n",
       "      <td> NaN</td>\n",
       "      <td>2014-07-23</td>\n",
       "      <td>  None</td>\n",
       "      <td> 532</td>\n",
       "      <td> Unk.</td>\n",
       "      <td> EtOH</td>\n",
       "      <td> M</td>\n",
       "      <td> Gpd</td>\n",
       "      <td> False</td>\n",
       "      <td> 12</td>\n",
       "      <td> UWA</td>\n",
       "      <td> Unk.</td>\n",
       "      <td> False</td>\n",
       "      <td>  None</td>\n",
       "      <td>  None</td>\n",
       "      <td>  None</td>\n",
       "      <td> 2014_spring_summer_from_rob.xlsx</td>\n",
       "      <td> Dissection Data-Nwoya</td>\n",
       "    </tr>\n",
       "    <tr>\n",
       "      <th>77 </th>\n",
       "      <td> NaN</td>\n",
       "      <td>2014-07-22</td>\n",
       "      <td>  True</td>\n",
       "      <td>  77</td>\n",
       "      <td>  NaN</td>\n",
       "      <td> EtOH</td>\n",
       "      <td> F</td>\n",
       "      <td> Gff</td>\n",
       "      <td> False</td>\n",
       "      <td>  9</td>\n",
       "      <td> UWA</td>\n",
       "      <td>  NaN</td>\n",
       "      <td> False</td>\n",
       "      <td>   NaN</td>\n",
       "      <td>   NaN</td>\n",
       "      <td>   NaN</td>\n",
       "      <td> 2014_spring_summer_from_rob.xlsx</td>\n",
       "      <td> Dissection Data-Nwoya</td>\n",
       "    </tr>\n",
       "    <tr>\n",
       "      <th>36 </th>\n",
       "      <td> NaN</td>\n",
       "      <td>2014-07-22</td>\n",
       "      <td> False</td>\n",
       "      <td>  37</td>\n",
       "      <td>    3</td>\n",
       "      <td> EtOH</td>\n",
       "      <td> M</td>\n",
       "      <td> Gff</td>\n",
       "      <td> False</td>\n",
       "      <td>  5</td>\n",
       "      <td> UWA</td>\n",
       "      <td>    2</td>\n",
       "      <td> False</td>\n",
       "      <td> False</td>\n",
       "      <td> False</td>\n",
       "      <td> False</td>\n",
       "      <td> 2014_spring_summer_from_rob.xlsx</td>\n",
       "      <td> Dissection Data-Nwoya</td>\n",
       "    </tr>\n",
       "    <tr>\n",
       "      <th>534</th>\n",
       "      <td> NaN</td>\n",
       "      <td>2014-07-23</td>\n",
       "      <td>  None</td>\n",
       "      <td> 534</td>\n",
       "      <td> Unk.</td>\n",
       "      <td> EtOH</td>\n",
       "      <td> M</td>\n",
       "      <td> Gpd</td>\n",
       "      <td> False</td>\n",
       "      <td> 12</td>\n",
       "      <td> UWA</td>\n",
       "      <td> Unk.</td>\n",
       "      <td> False</td>\n",
       "      <td>  None</td>\n",
       "      <td>  None</td>\n",
       "      <td>  None</td>\n",
       "      <td> 2014_spring_summer_from_rob.xlsx</td>\n",
       "      <td> Dissection Data-Nwoya</td>\n",
       "    </tr>\n",
       "    <tr>\n",
       "      <th>660</th>\n",
       "      <td> NaN</td>\n",
       "      <td>2014-07-24</td>\n",
       "      <td>  True</td>\n",
       "      <td> 660</td>\n",
       "      <td>  NaN</td>\n",
       "      <td> EtOH</td>\n",
       "      <td> F</td>\n",
       "      <td> Gff</td>\n",
       "      <td> False</td>\n",
       "      <td>  2</td>\n",
       "      <td> UWA</td>\n",
       "      <td>  NaN</td>\n",
       "      <td> False</td>\n",
       "      <td>   NaN</td>\n",
       "      <td>   NaN</td>\n",
       "      <td>   NaN</td>\n",
       "      <td> 2014_spring_summer_from_rob.xlsx</td>\n",
       "      <td> Dissection Data-Nwoya</td>\n",
       "    </tr>\n",
       "    <tr>\n",
       "      <th>306</th>\n",
       "      <td> NaN</td>\n",
       "      <td>2014-07-23</td>\n",
       "      <td>  True</td>\n",
       "      <td> 306</td>\n",
       "      <td>  NaN</td>\n",
       "      <td> EtOH</td>\n",
       "      <td> M</td>\n",
       "      <td> Gff</td>\n",
       "      <td> False</td>\n",
       "      <td>  2</td>\n",
       "      <td> UWA</td>\n",
       "      <td>  NaN</td>\n",
       "      <td> False</td>\n",
       "      <td>   NaN</td>\n",
       "      <td>   NaN</td>\n",
       "      <td>   NaN</td>\n",
       "      <td> 2014_spring_summer_from_rob.xlsx</td>\n",
       "      <td> Dissection Data-Nwoya</td>\n",
       "    </tr>\n",
       "    <tr>\n",
       "      <th>96 </th>\n",
       "      <td> NaN</td>\n",
       "      <td>2014-07-22</td>\n",
       "      <td> False</td>\n",
       "      <td>  96</td>\n",
       "      <td>  NaN</td>\n",
       "      <td> EtOH</td>\n",
       "      <td> F</td>\n",
       "      <td> Gff</td>\n",
       "      <td>  True</td>\n",
       "      <td>  9</td>\n",
       "      <td> UWA</td>\n",
       "      <td>  NaN</td>\n",
       "      <td> False</td>\n",
       "      <td>   NaN</td>\n",
       "      <td>   NaN</td>\n",
       "      <td>   NaN</td>\n",
       "      <td> 2014_spring_summer_from_rob.xlsx</td>\n",
       "      <td> Dissection Data-Nwoya</td>\n",
       "    </tr>\n",
       "  </tbody>\n",
       "</table>\n",
       "</div>"
      ],
      "text/plain": [
       "    Comment       Date   Dead Fly_Number Hunger_stage Kept_in Sex Species  \\\n",
       "24      NaN 2014-07-22  False         25          NaN    EtOH   F     Gff   \n",
       "13      NaN 2014-03-23  False         14            2    EtOH   F     Gff   \n",
       "370     NaN 2014-07-23  False        370            3    EtOH   M     Gff   \n",
       "532     NaN 2014-07-23   None        532         Unk.    EtOH   M     Gpd   \n",
       "77      NaN 2014-07-22   True         77          NaN    EtOH   F     Gff   \n",
       "36      NaN 2014-07-22  False         37            3    EtOH   M     Gff   \n",
       "534     NaN 2014-07-23   None        534         Unk.    EtOH   M     Gpd   \n",
       "660     NaN 2014-07-24   True        660          NaN    EtOH   F     Gff   \n",
       "306     NaN 2014-07-23   True        306          NaN    EtOH   M     Gff   \n",
       "96      NaN 2014-07-22  False         96          NaN    EtOH   F     Gff   \n",
       "\n",
       "    Teneral  Trap_No Village Wing_fray infection_state midgut   prob  \\\n",
       "24     True        1     UWA       NaN           False    NaN    NaN   \n",
       "13    False        7     MWA         2           False  False  False   \n",
       "370   False        8     UWA         2           False  False  False   \n",
       "532   False       12     UWA      Unk.           False   None   None   \n",
       "77    False        9     UWA       NaN           False    NaN    NaN   \n",
       "36    False        5     UWA         2           False  False  False   \n",
       "534   False       12     UWA      Unk.           False   None   None   \n",
       "660   False        2     UWA       NaN           False    NaN    NaN   \n",
       "306   False        2     UWA       NaN           False    NaN    NaN   \n",
       "96     True        9     UWA       NaN           False    NaN    NaN   \n",
       "\n",
       "    sal_gland                          workbook              worksheet  \n",
       "24        NaN  2014_spring_summer_from_rob.xlsx  Dissection Data-Nwoya  \n",
       "13      False  2014_spring_summer_from_rob.xlsx   Dissection Data-Kole  \n",
       "370     False  2014_spring_summer_from_rob.xlsx  Dissection Data-Nwoya  \n",
       "532      None  2014_spring_summer_from_rob.xlsx  Dissection Data-Nwoya  \n",
       "77        NaN  2014_spring_summer_from_rob.xlsx  Dissection Data-Nwoya  \n",
       "36      False  2014_spring_summer_from_rob.xlsx  Dissection Data-Nwoya  \n",
       "534      None  2014_spring_summer_from_rob.xlsx  Dissection Data-Nwoya  \n",
       "660       NaN  2014_spring_summer_from_rob.xlsx  Dissection Data-Nwoya  \n",
       "306       NaN  2014_spring_summer_from_rob.xlsx  Dissection Data-Nwoya  \n",
       "96        NaN  2014_spring_summer_from_rob.xlsx  Dissection Data-Nwoya  "
      ]
     },
     "execution_count": 46,
     "metadata": {},
     "output_type": "execute_result"
    }
   ],
   "source": [
    "get_random_rows(df, 10)"
   ]
  },
  {
   "cell_type": "code",
   "execution_count": 56,
   "metadata": {
    "collapsed": false
   },
   "outputs": [],
   "source": [
    "ngo_m = df.query('Sex == \"M\"').query('Village == \"NGO\"')\n",
    "ngo_f = df.query('Sex == \"F\"').query('Village == \"NGO\"')\n",
    "\n",
    "chu_m = df.query('Sex == \"M\"').query('Village == \"CHU\"')\n",
    "chu_f = df.query('Sex == \"F\"').query('Village == \"CHU\"')\n",
    "\n",
    "tum_m = df.query('Sex == \"M\"').query('Village == \"TUM\"')\n",
    "tum_f = df.query('Sex == \"F\"').query('Village == \"TUM\"')"
   ]
  },
  {
   "cell_type": "code",
   "execution_count": 63,
   "metadata": {
    "collapsed": false
   },
   "outputs": [
    {
     "data": {
      "text/plain": [
       "2     0\n",
       "3     0\n",
       "4     0\n",
       "5     0\n",
       "7     0\n",
       "8     0\n",
       "10    0\n",
       "11    0\n",
       "12    0\n",
       "13    0\n",
       "14    0\n",
       "15    0\n",
       "16    0\n",
       "17    0\n",
       "18    0\n",
       "...\n",
       "90     0\n",
       "92     0\n",
       "93     0\n",
       "96     0\n",
       "99     0\n",
       "100    0\n",
       "107    0\n",
       "108    0\n",
       "109    0\n",
       "113    0\n",
       "114    0\n",
       "115    0\n",
       "116    0\n",
       "121    0\n",
       "122    0\n",
       "Name: Fly_Number, Length: 69, dtype: object"
      ]
     },
     "execution_count": 63,
     "metadata": {},
     "output_type": "execute_result"
    }
   ],
   "source": [
    "df.query('Village == \"NGO\"')\n",
    "chu_f.Fly_Number"
   ]
  },
  {
   "cell_type": "code",
   "execution_count": null,
   "metadata": {
    "collapsed": true
   },
   "outputs": [],
   "source": []
  }
 ],
 "metadata": {
  "kernelspec": {
   "display_name": "Python 2",
   "language": "python",
   "name": "python2"
  },
  "language_info": {
   "codemirror_mode": {
    "name": "ipython",
    "version": 2
   },
   "file_extension": ".py",
   "mimetype": "text/x-python",
   "name": "python",
   "nbconvert_exporter": "python",
   "pygments_lexer": "ipython2",
   "version": "2.7.9"
  }
 },
 "nbformat": 4,
 "nbformat_minor": 0
}
