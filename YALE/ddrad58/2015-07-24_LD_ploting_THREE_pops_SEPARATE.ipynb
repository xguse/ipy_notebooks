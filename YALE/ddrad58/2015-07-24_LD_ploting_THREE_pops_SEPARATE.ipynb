{
 "cells": [
  {
   "cell_type": "markdown",
   "metadata": {},
   "source": [
    "# Purpose:\n",
    "\n"
   ]
  },
  {
   "cell_type": "markdown",
   "metadata": {},
   "source": [
    "## Imports:"
   ]
  },
  {
   "cell_type": "code",
   "execution_count": 1,
   "metadata": {
    "collapsed": false
   },
   "outputs": [
    {
     "name": "stdout",
     "output_type": "stream",
     "text": [
      "Using matplotlib backend: TkAgg\n"
     ]
    },
    {
     "name": "stderr",
     "output_type": "stream",
     "text": [
      "/home/gus/.virtualenvs/py279/lib/python2.7/site-packages/matplotlib/__init__.py:1318: UserWarning:  This call to matplotlib.use() has no effect\n",
      "because the backend has already been chosen;\n",
      "matplotlib.use() must be called *before* pylab, matplotlib.pyplot,\n",
      "or matplotlib.backends is imported for the first time.\n",
      "\n",
      "  warnings.warn(_use_error_msg)\n"
     ]
    }
   ],
   "source": [
    "# %matplotlib inline\n",
    "%matplotlib\n",
    "import matplotlib.pyplot as plt\n",
    "import seaborn as sns\n",
    "import ggplot as gp\n",
    "\n",
    "import mpld3\n",
    "# mpld3.enable_notebook()\n",
    "\n",
    "import numpy as np\n",
    "import pandas as pd\n",
    "pd.set_option('display.max_columns', 60)\n",
    "# import tables as h5\n",
    "\n",
    "import itertools as it\n",
    "from collections import defaultdict\n",
    "\n",
    "import numpy as np\n",
    "import pandas as pd\n",
    "import scipy\n",
    "from scikits import bootstrap as bs\n",
    "import statsmodels.api as sm\n",
    "import statsmodels.stats.multitest as smm\n",
    "from statsmodels.nonparametric.smoothers_lowess import lowess\n",
    "from statsmodels.formula import api as smform\n",
    "\n",
    "import munch\n",
    "\n",
    "import pybedtools as pbt\n",
    "\n",
    "import pymc as mc\n",
    "\n",
    "from shapely.geometry import LineString\n",
    "\n",
    "import networkx as nx\n",
    "\n",
    "import tabulate\n",
    "tbl = tabulate.tabulate\n",
    "\n",
    "\n",
    "from spartan.utils.genome_specific.GfusI1 import GfusI1_0\n",
    "from spartan.utils.fastas import ParseFastA\n",
    "\n",
    "from spartan.utils.annotations.ensembl.gff3 import parse_gff3\n",
    "from spartan.utils.annotations.ensembl.gff3 import parse_gff3_attributes\n",
    "from spartan.utils.files import tableFile2namedTuple\n",
    "\n",
    "from gs_ddRAD2015.scripts import ld_figures as ldfigs\n"
   ]
  },
  {
   "cell_type": "code",
   "execution_count": 2,
   "metadata": {
    "collapsed": false
   },
   "outputs": [],
   "source": [
    "# set figure characteristics\n",
    "\n",
    "# size\n",
    "sns.set_context(\"poster\")\n",
    "\n",
    "# Grid style\n",
    "sns.set_style(\"whitegrid\")\n",
    "\n",
    "# colors\n",
    "sns.set_palette(sns.hls_palette(n_colors=5, h=0.59, l=0.4, s=0.75))"
   ]
  },
  {
   "cell_type": "markdown",
   "metadata": {},
   "source": [
    "## File paths:"
   ]
  },
  {
   "cell_type": "code",
   "execution_count": 3,
   "metadata": {
    "collapsed": true
   },
   "outputs": [],
   "source": [
    "# define paths to files\n",
    "# out_dir = \"/home/gus/MEGAsync/projects/ddRAD_phase2/repos/ddRAD_phase2/scratch/gs_2015_ld/OT\"\n",
    "# out_dir = \"/home/gus/MEGAsync/projects/ddRAD_phase2/repos/ddRAD_phase2/scratch/gs_2015_ld/MS\"\n",
    "# out_dir = \"/home/gus/MEGAsync/projects/ddRAD_phase2/repos/ddRAD_phase2/scratch/gs_2015_ld/NB\"\n",
    "out_dir = \"/home/gus/MEGAsync/projects/ddRAD_phase2/repos/ddRAD_phase2/scratch/gs_2015_ld/KG\"\n",
    "\n",
    "## Functional annatation (Argot2)\n",
    "fanno = \"/home/gus/remote_mounts/louise/data/genomes/glossina_fuscipes/annotations/functional/GfusI1.1_pre/argot2_out/argot_functional_annotations_ts150.h5\"\n",
    "\n",
    "# gene models\n",
    "btools_gene_models_gff3 = \"/home/gus/remote_mounts/louise/data/genomes/glossina_fuscipes/annotations/Glossina-fuscipes-IAEA_BASEFEATURES_GfusI1.1.gff3\"\n",
    "\n",
    "# Andrea's Genes\n"
   ]
  },
  {
   "cell_type": "markdown",
   "metadata": {},
   "source": [
    "# Some bedtools helper funcs"
   ]
  },
  {
   "cell_type": "code",
   "execution_count": 4,
   "metadata": {
    "collapsed": true
   },
   "outputs": [],
   "source": [
    "def bed3_v_gff3_window_by_gff3_ID(bedtools_window_out):\n",
    "    \"\"\"\n",
    "    Returns dictionary-based retrieval object for Bedtools result from 3-field BED format records vs\n",
    "    GFF3 format records data grouped by the GFF3 features.\n",
    "    \"\"\"\n",
    "    headers = [\"bed3_seq\",\n",
    "               \"bed3_start\",\n",
    "               \"bed3_end\",\n",
    "               \"gff3_seq\",\n",
    "               \"gff3_source\",\n",
    "               \"gff3_type\",\n",
    "               \"gff3_start\",\n",
    "               \"gff3_end\",\n",
    "               \"gff3_score\",\n",
    "               \"gff3_strand\",\n",
    "               \"gff3_phase\",\n",
    "               \"gff3_attributes\",]\n",
    "    \n",
    "    table = tableFile2namedTuple(bedtools_window_out, \n",
    "                                 sep='\\t', \n",
    "                                 headers=headers)\n",
    "    \n",
    "    Tree = lambda: defaultdict(Tree)\n",
    "    data = Tree()\n",
    "    \n",
    "    for row in table:\n",
    "        gff3_rec = parse_gff3_attributes(row.gff3_attributes)['ID']\n",
    "\n",
    "        data[gff3_rec]['info'].setdefault('seq', row.gff3_seq)\n",
    "        data[gff3_rec]['info'].setdefault('source', row.gff3_source)\n",
    "        data[gff3_rec]['info'].setdefault('type', row.gff3_type)\n",
    "        data[gff3_rec]['info'].setdefault('start', row.gff3_start)\n",
    "        data[gff3_rec]['info'].setdefault('end', row.gff3_end)\n",
    "        data[gff3_rec]['info'].setdefault('score', row.gff3_score)\n",
    "        data[gff3_rec]['info'].setdefault('strand', row.gff3_strand)\n",
    "        data[gff3_rec]['info'].setdefault('phase', row.gff3_phase)\n",
    "        data[gff3_rec]['info'].setdefault('attributes', row.gff3_attributes)\n",
    "\n",
    "        bed3_hit = dict(seq = row.bed3_seq, \n",
    "                        start = row.bed3_start,\n",
    "                        end = row.bed3_end)\n",
    "\n",
    "        try:\n",
    "            data[gff3_rec]['bed3_hits'].append(bed3_hit)\n",
    "\n",
    "        except AttributeError:\n",
    "            data[gff3_rec]['bed3_hits'] = []\n",
    "            data[gff3_rec]['bed3_hits'].append(bed3_hit)\n",
    "\n",
    "    return munch.munchify(data)\n",
    "\n",
    "def snp_vs_gff_to_DF(bedtools_out):\n",
    "    if bedtools_out is None:\n",
    "        return None\n",
    "    headers = [\"bed3_seq\",\n",
    "               \"bed3_start\",\n",
    "               \"bed3_end\",\n",
    "               \"gff3_seq\",\n",
    "               \"gff3_source\",\n",
    "               \"gff3_type\",\n",
    "               \"gff3_start\",\n",
    "               \"gff3_end\",\n",
    "               \"gff3_score\",\n",
    "               \"gff3_strand\",\n",
    "               \"gff3_phase\",\n",
    "               \"gff3_attributes\",]\n",
    "    df = pd.read_csv(bedtools_out.fn, sep='\\t', names=headers)\n",
    "    \n",
    "    gene_id = lambda x: parse_gff3_attributes(x)['ID']\n",
    "    \n",
    "    df['gff3_rec'] = df.gff3_attributes.apply(gene_id)\n",
    "    \n",
    "    return df"
   ]
  },
  {
   "cell_type": "markdown",
   "metadata": {},
   "source": [
    "## Loading files"
   ]
  },
  {
   "cell_type": "code",
   "execution_count": 5,
   "metadata": {
    "collapsed": false
   },
   "outputs": [
    {
     "data": {
      "text/html": [
       "<div>\n",
       "<table border=\"1\" class=\"dataframe\">\n",
       "  <thead>\n",
       "    <tr style=\"text-align: right;\">\n",
       "      <th></th>\n",
       "      <th>Sequence</th>\n",
       "      <th>Aspect</th>\n",
       "      <th>GO ID</th>\n",
       "      <th>Name</th>\n",
       "      <th>Total Score</th>\n",
       "      <th>Internal Confidence</th>\n",
       "      <th>Information Content</th>\n",
       "      <th>gene_id</th>\n",
       "    </tr>\n",
       "  </thead>\n",
       "  <tbody>\n",
       "    <tr>\n",
       "      <th>0</th>\n",
       "      <td>GFUI034947-PA</td>\n",
       "      <td>P</td>\n",
       "      <td>GO:0006508</td>\n",
       "      <td>proteolysis</td>\n",
       "      <td>270.313447</td>\n",
       "      <td>0.496543</td>\n",
       "      <td>8.247696</td>\n",
       "      <td>GFUI034947</td>\n",
       "    </tr>\n",
       "    <tr>\n",
       "      <th>1</th>\n",
       "      <td>GFUI035874-PA</td>\n",
       "      <td>F</td>\n",
       "      <td>GO:0005515</td>\n",
       "      <td>protein binding</td>\n",
       "      <td>529.038456</td>\n",
       "      <td>0.500000</td>\n",
       "      <td>5.471582</td>\n",
       "      <td>GFUI035874</td>\n",
       "    </tr>\n",
       "    <tr>\n",
       "      <th>2</th>\n",
       "      <td>GFUI033625-PA</td>\n",
       "      <td>P</td>\n",
       "      <td>GO:0005980</td>\n",
       "      <td>glycogen catabolic process</td>\n",
       "      <td>307.758251</td>\n",
       "      <td>0.284597</td>\n",
       "      <td>13.424450</td>\n",
       "      <td>GFUI033625</td>\n",
       "    </tr>\n",
       "    <tr>\n",
       "      <th>3</th>\n",
       "      <td>GFUI033625-PA</td>\n",
       "      <td>F</td>\n",
       "      <td>GO:0004134</td>\n",
       "      <td>4-alpha-glucanotransferase activity</td>\n",
       "      <td>159.513252</td>\n",
       "      <td>0.177063</td>\n",
       "      <td>10.153643</td>\n",
       "      <td>GFUI033625</td>\n",
       "    </tr>\n",
       "    <tr>\n",
       "      <th>4</th>\n",
       "      <td>GFUI033625-PA</td>\n",
       "      <td>F</td>\n",
       "      <td>GO:0004135</td>\n",
       "      <td>amylo-alpha-1,6-glucosidase activity</td>\n",
       "      <td>184.352303</td>\n",
       "      <td>0.177063</td>\n",
       "      <td>11.734746</td>\n",
       "      <td>GFUI033625</td>\n",
       "    </tr>\n",
       "  </tbody>\n",
       "</table>\n",
       "</div>"
      ],
      "text/plain": [
       "        Sequence Aspect       GO ID                                  Name  \\\n",
       "0  GFUI034947-PA      P  GO:0006508                           proteolysis   \n",
       "1  GFUI035874-PA      F  GO:0005515                       protein binding   \n",
       "2  GFUI033625-PA      P  GO:0005980            glycogen catabolic process   \n",
       "3  GFUI033625-PA      F  GO:0004134   4-alpha-glucanotransferase activity   \n",
       "4  GFUI033625-PA      F  GO:0004135  amylo-alpha-1,6-glucosidase activity   \n",
       "\n",
       "   Total Score  Internal Confidence  Information Content     gene_id  \n",
       "0   270.313447             0.496543             8.247696  GFUI034947  \n",
       "1   529.038456             0.500000             5.471582  GFUI035874  \n",
       "2   307.758251             0.284597            13.424450  GFUI033625  \n",
       "3   159.513252             0.177063            10.153643  GFUI033625  \n",
       "4   184.352303             0.177063            11.734746  GFUI033625  "
      ]
     },
     "execution_count": 5,
     "metadata": {},
     "output_type": "execute_result"
    }
   ],
   "source": [
    "argot2 = pd.read_hdf(path_or_buf=fanno, key='dataframe')\n",
    "argot2['gene_id'] = argot2.Sequence.apply(lambda x: x[:-3])\n",
    "argot2_200 = argot2[argot2['Total Score'] >= 200]\n",
    "argot2 = argot2.drop_duplicates()\n",
    "argot2.head()"
   ]
  },
  {
   "cell_type": "code",
   "execution_count": 6,
   "metadata": {
    "collapsed": false
   },
   "outputs": [],
   "source": [
    "gene_mods = pbt.BedTool(btools_gene_models_gff3).filter(lambda x: x[2] == 'gene').sort()#\".saveas()"
   ]
  },
  {
   "cell_type": "code",
   "execution_count": 7,
   "metadata": {
    "collapsed": true
   },
   "outputs": [],
   "source": [
    "figs = ldfigs.Figures(out_dir=out_dir, formats='png')"
   ]
  },
  {
   "cell_type": "code",
   "execution_count": 8,
   "metadata": {
    "collapsed": false
   },
   "outputs": [
    {
     "name": "stdout",
     "output_type": "stream",
     "text": [
      "\n",
      "ld_figures: loading data_tables.\n",
      "\n",
      "\n"
     ]
    }
   ],
   "source": [
    "figs.load_data_tables()"
   ]
  },
  {
   "cell_type": "code",
   "execution_count": 9,
   "metadata": {
    "collapsed": false
   },
   "outputs": [
    {
     "data": {
      "text/plain": [
       "['ld',\n",
       " 'd_bins',\n",
       " 'contig_info',\n",
       " 'd_bin_v_others_melt',\n",
       " 'len_contigs_per_bin',\n",
       " 'd_bin_v_others',\n",
       " 'contigs_per_bin',\n",
       " 'mean_bin_r2_all',\n",
       " 'sp_contigs',\n",
       " 'ld_contig']"
      ]
     },
     "execution_count": 9,
     "metadata": {},
     "output_type": "execute_result"
    }
   ],
   "source": [
    "tables = munch.Munch(figs.d)\n",
    "tables.keys()"
   ]
  },
  {
   "cell_type": "code",
   "execution_count": 10,
   "metadata": {
    "collapsed": false
   },
   "outputs": [
    {
     "data": {
      "text/html": [
       "<div>\n",
       "<table border=\"1\" class=\"dataframe\">\n",
       "  <thead>\n",
       "    <tr style=\"text-align: right;\">\n",
       "      <th></th>\n",
       "      <th>Unnamed: 0</th>\n",
       "      <th>CHR_A</th>\n",
       "      <th>BP_A</th>\n",
       "      <th>BP_B</th>\n",
       "      <th>N_INDV</th>\n",
       "      <th>R2</th>\n",
       "      <th>BP_DELTA</th>\n",
       "      <th>distance_bin</th>\n",
       "      <th>R2_scaled_for_B</th>\n",
       "      <th>alpha_param</th>\n",
       "      <th>beta_param</th>\n",
       "      <th>cdf</th>\n",
       "      <th>one_minus_cdf</th>\n",
       "      <th>one_minus_cdf_BH</th>\n",
       "      <th>MAP_succeeded</th>\n",
       "    </tr>\n",
       "  </thead>\n",
       "  <tbody>\n",
       "    <tr>\n",
       "      <th>0</th>\n",
       "      <td>0</td>\n",
       "      <td>Scaffold0</td>\n",
       "      <td>13388</td>\n",
       "      <td>23408</td>\n",
       "      <td>3</td>\n",
       "      <td>NaN</td>\n",
       "      <td>10020</td>\n",
       "      <td>10000</td>\n",
       "      <td>NaN</td>\n",
       "      <td>NaN</td>\n",
       "      <td>NaN</td>\n",
       "      <td>NaN</td>\n",
       "      <td>NaN</td>\n",
       "      <td>NaN</td>\n",
       "      <td>False</td>\n",
       "    </tr>\n",
       "    <tr>\n",
       "      <th>1</th>\n",
       "      <td>1</td>\n",
       "      <td>Scaffold0</td>\n",
       "      <td>13388</td>\n",
       "      <td>23418</td>\n",
       "      <td>3</td>\n",
       "      <td>NaN</td>\n",
       "      <td>10030</td>\n",
       "      <td>10000</td>\n",
       "      <td>NaN</td>\n",
       "      <td>NaN</td>\n",
       "      <td>NaN</td>\n",
       "      <td>NaN</td>\n",
       "      <td>NaN</td>\n",
       "      <td>NaN</td>\n",
       "      <td>False</td>\n",
       "    </tr>\n",
       "    <tr>\n",
       "      <th>2</th>\n",
       "      <td>2</td>\n",
       "      <td>Scaffold0</td>\n",
       "      <td>13388</td>\n",
       "      <td>23421</td>\n",
       "      <td>3</td>\n",
       "      <td>NaN</td>\n",
       "      <td>10033</td>\n",
       "      <td>10000</td>\n",
       "      <td>NaN</td>\n",
       "      <td>NaN</td>\n",
       "      <td>NaN</td>\n",
       "      <td>NaN</td>\n",
       "      <td>NaN</td>\n",
       "      <td>NaN</td>\n",
       "      <td>False</td>\n",
       "    </tr>\n",
       "    <tr>\n",
       "      <th>3</th>\n",
       "      <td>3</td>\n",
       "      <td>Scaffold0</td>\n",
       "      <td>13388</td>\n",
       "      <td>23431</td>\n",
       "      <td>3</td>\n",
       "      <td>NaN</td>\n",
       "      <td>10043</td>\n",
       "      <td>10000</td>\n",
       "      <td>NaN</td>\n",
       "      <td>NaN</td>\n",
       "      <td>NaN</td>\n",
       "      <td>NaN</td>\n",
       "      <td>NaN</td>\n",
       "      <td>NaN</td>\n",
       "      <td>False</td>\n",
       "    </tr>\n",
       "    <tr>\n",
       "      <th>4</th>\n",
       "      <td>4</td>\n",
       "      <td>Scaffold0</td>\n",
       "      <td>13388</td>\n",
       "      <td>30544</td>\n",
       "      <td>3</td>\n",
       "      <td>NaN</td>\n",
       "      <td>17156</td>\n",
       "      <td>17150</td>\n",
       "      <td>NaN</td>\n",
       "      <td>NaN</td>\n",
       "      <td>NaN</td>\n",
       "      <td>NaN</td>\n",
       "      <td>NaN</td>\n",
       "      <td>NaN</td>\n",
       "      <td>False</td>\n",
       "    </tr>\n",
       "  </tbody>\n",
       "</table>\n",
       "</div>"
      ],
      "text/plain": [
       "   Unnamed: 0      CHR_A   BP_A   BP_B  N_INDV  R2  BP_DELTA  distance_bin  \\\n",
       "0           0  Scaffold0  13388  23408       3 NaN     10020         10000   \n",
       "1           1  Scaffold0  13388  23418       3 NaN     10030         10000   \n",
       "2           2  Scaffold0  13388  23421       3 NaN     10033         10000   \n",
       "3           3  Scaffold0  13388  23431       3 NaN     10043         10000   \n",
       "4           4  Scaffold0  13388  30544       3 NaN     17156         17150   \n",
       "\n",
       "   R2_scaled_for_B  alpha_param  beta_param  cdf  one_minus_cdf  \\\n",
       "0              NaN          NaN         NaN  NaN            NaN   \n",
       "1              NaN          NaN         NaN  NaN            NaN   \n",
       "2              NaN          NaN         NaN  NaN            NaN   \n",
       "3              NaN          NaN         NaN  NaN            NaN   \n",
       "4              NaN          NaN         NaN  NaN            NaN   \n",
       "\n",
       "   one_minus_cdf_BH MAP_succeeded  \n",
       "0               NaN         False  \n",
       "1               NaN         False  \n",
       "2               NaN         False  \n",
       "3               NaN         False  \n",
       "4               NaN         False  "
      ]
     },
     "execution_count": 10,
     "metadata": {},
     "output_type": "execute_result"
    }
   ],
   "source": [
    "ld = tables.ld\n",
    "ld.head()"
   ]
  },
  {
   "cell_type": "code",
   "execution_count": 11,
   "metadata": {
    "collapsed": false
   },
   "outputs": [
    {
     "data": {
      "text/html": [
       "<div>\n",
       "<table border=\"1\" class=\"dataframe\">\n",
       "  <thead>\n",
       "    <tr style=\"text-align: right;\">\n",
       "      <th></th>\n",
       "      <th>Unnamed: 0</th>\n",
       "      <th>CHR_A</th>\n",
       "      <th>BP_A</th>\n",
       "      <th>BP_B</th>\n",
       "      <th>N_INDV</th>\n",
       "      <th>R2</th>\n",
       "      <th>BP_DELTA</th>\n",
       "      <th>distance_bin</th>\n",
       "      <th>R2_scaled_for_B</th>\n",
       "      <th>alpha_param</th>\n",
       "      <th>beta_param</th>\n",
       "      <th>cdf</th>\n",
       "      <th>one_minus_cdf</th>\n",
       "      <th>one_minus_cdf_BH</th>\n",
       "      <th>MAP_succeeded</th>\n",
       "      <th>kk_name</th>\n",
       "      <th>scaf_name</th>\n",
       "      <th>length</th>\n",
       "    </tr>\n",
       "  </thead>\n",
       "  <tbody>\n",
       "    <tr>\n",
       "      <th>0</th>\n",
       "      <td>0</td>\n",
       "      <td>Scaffold0</td>\n",
       "      <td>13388</td>\n",
       "      <td>23408</td>\n",
       "      <td>3</td>\n",
       "      <td>NaN</td>\n",
       "      <td>10020</td>\n",
       "      <td>10000</td>\n",
       "      <td>NaN</td>\n",
       "      <td>NaN</td>\n",
       "      <td>NaN</td>\n",
       "      <td>NaN</td>\n",
       "      <td>NaN</td>\n",
       "      <td>NaN</td>\n",
       "      <td>False</td>\n",
       "      <td>KK351785.1</td>\n",
       "      <td>Scaffold0</td>\n",
       "      <td>3329503</td>\n",
       "    </tr>\n",
       "    <tr>\n",
       "      <th>1</th>\n",
       "      <td>1</td>\n",
       "      <td>Scaffold0</td>\n",
       "      <td>13388</td>\n",
       "      <td>23418</td>\n",
       "      <td>3</td>\n",
       "      <td>NaN</td>\n",
       "      <td>10030</td>\n",
       "      <td>10000</td>\n",
       "      <td>NaN</td>\n",
       "      <td>NaN</td>\n",
       "      <td>NaN</td>\n",
       "      <td>NaN</td>\n",
       "      <td>NaN</td>\n",
       "      <td>NaN</td>\n",
       "      <td>False</td>\n",
       "      <td>KK351785.1</td>\n",
       "      <td>Scaffold0</td>\n",
       "      <td>3329503</td>\n",
       "    </tr>\n",
       "    <tr>\n",
       "      <th>2</th>\n",
       "      <td>2</td>\n",
       "      <td>Scaffold0</td>\n",
       "      <td>13388</td>\n",
       "      <td>23421</td>\n",
       "      <td>3</td>\n",
       "      <td>NaN</td>\n",
       "      <td>10033</td>\n",
       "      <td>10000</td>\n",
       "      <td>NaN</td>\n",
       "      <td>NaN</td>\n",
       "      <td>NaN</td>\n",
       "      <td>NaN</td>\n",
       "      <td>NaN</td>\n",
       "      <td>NaN</td>\n",
       "      <td>False</td>\n",
       "      <td>KK351785.1</td>\n",
       "      <td>Scaffold0</td>\n",
       "      <td>3329503</td>\n",
       "    </tr>\n",
       "    <tr>\n",
       "      <th>3</th>\n",
       "      <td>3</td>\n",
       "      <td>Scaffold0</td>\n",
       "      <td>13388</td>\n",
       "      <td>23431</td>\n",
       "      <td>3</td>\n",
       "      <td>NaN</td>\n",
       "      <td>10043</td>\n",
       "      <td>10000</td>\n",
       "      <td>NaN</td>\n",
       "      <td>NaN</td>\n",
       "      <td>NaN</td>\n",
       "      <td>NaN</td>\n",
       "      <td>NaN</td>\n",
       "      <td>NaN</td>\n",
       "      <td>False</td>\n",
       "      <td>KK351785.1</td>\n",
       "      <td>Scaffold0</td>\n",
       "      <td>3329503</td>\n",
       "    </tr>\n",
       "    <tr>\n",
       "      <th>4</th>\n",
       "      <td>4</td>\n",
       "      <td>Scaffold0</td>\n",
       "      <td>13388</td>\n",
       "      <td>30544</td>\n",
       "      <td>3</td>\n",
       "      <td>NaN</td>\n",
       "      <td>17156</td>\n",
       "      <td>17150</td>\n",
       "      <td>NaN</td>\n",
       "      <td>NaN</td>\n",
       "      <td>NaN</td>\n",
       "      <td>NaN</td>\n",
       "      <td>NaN</td>\n",
       "      <td>NaN</td>\n",
       "      <td>False</td>\n",
       "      <td>KK351785.1</td>\n",
       "      <td>Scaffold0</td>\n",
       "      <td>3329503</td>\n",
       "    </tr>\n",
       "  </tbody>\n",
       "</table>\n",
       "</div>"
      ],
      "text/plain": [
       "   Unnamed: 0      CHR_A   BP_A   BP_B  N_INDV  R2  BP_DELTA  distance_bin  \\\n",
       "0           0  Scaffold0  13388  23408       3 NaN     10020         10000   \n",
       "1           1  Scaffold0  13388  23418       3 NaN     10030         10000   \n",
       "2           2  Scaffold0  13388  23421       3 NaN     10033         10000   \n",
       "3           3  Scaffold0  13388  23431       3 NaN     10043         10000   \n",
       "4           4  Scaffold0  13388  30544       3 NaN     17156         17150   \n",
       "\n",
       "   R2_scaled_for_B  alpha_param  beta_param  cdf  one_minus_cdf  \\\n",
       "0              NaN          NaN         NaN  NaN            NaN   \n",
       "1              NaN          NaN         NaN  NaN            NaN   \n",
       "2              NaN          NaN         NaN  NaN            NaN   \n",
       "3              NaN          NaN         NaN  NaN            NaN   \n",
       "4              NaN          NaN         NaN  NaN            NaN   \n",
       "\n",
       "   one_minus_cdf_BH MAP_succeeded     kk_name  scaf_name   length  \n",
       "0               NaN         False  KK351785.1  Scaffold0  3329503  \n",
       "1               NaN         False  KK351785.1  Scaffold0  3329503  \n",
       "2               NaN         False  KK351785.1  Scaffold0  3329503  \n",
       "3               NaN         False  KK351785.1  Scaffold0  3329503  \n",
       "4               NaN         False  KK351785.1  Scaffold0  3329503  "
      ]
     },
     "execution_count": 11,
     "metadata": {},
     "output_type": "execute_result"
    }
   ],
   "source": [
    "ld_contig = tables.ld_contig\n",
    "ld_contig.head()"
   ]
  },
  {
   "cell_type": "code",
   "execution_count": 12,
   "metadata": {
    "collapsed": false
   },
   "outputs": [],
   "source": [
    "def get_halfing_coords(xs, ys, num, tolerance):\n",
    "    xs_return = []\n",
    "    ys_return = []\n",
    "    \n",
    "    halfing_values = get_n_halfing_values(val=ys[0],n=num)[1:]\n",
    "    \n",
    "    for value in halfing_values:\n",
    "        indexes_close_to_yi = get_indexes_close_to_yi(ys=ys, value=value, tolerance=tolerance)\n",
    "        middle_item = get_first_item(indexes=indexes_close_to_yi)\n",
    "        if middle_item is None:\n",
    "            print 'None'\n",
    "        else:\n",
    "            # print indexes_close_to_yi\n",
    "            # print xs[middle_item]\n",
    "            # print ys[middle_item]\n",
    "            xs_return.append(xs[middle_item])\n",
    "            ys_return.append(ys[middle_item])\n",
    "    \n",
    "    return xs_return,ys_return\n",
    "    \n",
    "def get_indexes_close_to_yi(ys, value, tolerance):\n",
    "    ilist = []\n",
    "    for i,y in enumerate(ys):\n",
    "        if abs(value-y) <= tolerance:\n",
    "            ilist.append(i)\n",
    "    return ilist\n",
    "    \n",
    "def get_n_halfing_values(val, n):\n",
    "    rvalues = []\n",
    "    c_val = val\n",
    "    for i in range(n+1):\n",
    "        c_val = c_val/2.0\n",
    "        rvalues.append(c_val)\n",
    "    return rvalues\n",
    "        \n",
    "def get_middle_item(indexes):\n",
    "    if len(indexes) == 0:\n",
    "        return None\n",
    "    return indexes[int(len(indexes)/2)]\n",
    "\n",
    "def get_first_item(indexes):\n",
    "    if len(indexes) == 0:\n",
    "        return None\n",
    "    return indexes[0]"
   ]
  },
  {
   "cell_type": "markdown",
   "metadata": {},
   "source": [
    "# Distance bt snp-pair vs R^2 all:"
   ]
  },
  {
   "cell_type": "markdown",
   "metadata": {},
   "source": [
    "### Pivot for distance_bin stats"
   ]
  },
  {
   "cell_type": "code",
   "execution_count": 13,
   "metadata": {
    "collapsed": true
   },
   "outputs": [],
   "source": [
    "def movingaverage(interval, window_size):\n",
    "    window = np.ones(int(window_size))/float(window_size)\n",
    "    return np.convolve(interval, window, 'same')"
   ]
  },
  {
   "cell_type": "code",
   "execution_count": 14,
   "metadata": {
    "collapsed": false,
    "scrolled": true
   },
   "outputs": [
    {
     "data": {
      "text/html": [
       "<div>\n",
       "<table border=\"1\" class=\"dataframe\">\n",
       "  <thead>\n",
       "    <tr style=\"text-align: right;\">\n",
       "      <th></th>\n",
       "      <th>distance_bin</th>\n",
       "      <th>R2</th>\n",
       "      <th>one_minus_cdf</th>\n",
       "      <th>one_minus_cdf_BH</th>\n",
       "    </tr>\n",
       "  </thead>\n",
       "  <tbody>\n",
       "    <tr>\n",
       "      <th>0</th>\n",
       "      <td>0</td>\n",
       "      <td>0.932564</td>\n",
       "      <td>0.395043</td>\n",
       "      <td>NaN</td>\n",
       "    </tr>\n",
       "    <tr>\n",
       "      <th>1</th>\n",
       "      <td>50</td>\n",
       "      <td>0.883961</td>\n",
       "      <td>0.411303</td>\n",
       "      <td>NaN</td>\n",
       "    </tr>\n",
       "    <tr>\n",
       "      <th>2</th>\n",
       "      <td>100</td>\n",
       "      <td>0.891854</td>\n",
       "      <td>0.412130</td>\n",
       "      <td>NaN</td>\n",
       "    </tr>\n",
       "    <tr>\n",
       "      <th>3</th>\n",
       "      <td>150</td>\n",
       "      <td>0.855263</td>\n",
       "      <td>0.431693</td>\n",
       "      <td>NaN</td>\n",
       "    </tr>\n",
       "    <tr>\n",
       "      <th>4</th>\n",
       "      <td>200</td>\n",
       "      <td>0.882716</td>\n",
       "      <td>0.411702</td>\n",
       "      <td>NaN</td>\n",
       "    </tr>\n",
       "  </tbody>\n",
       "</table>\n",
       "</div>"
      ],
      "text/plain": [
       "   distance_bin        R2  one_minus_cdf  one_minus_cdf_BH\n",
       "0             0  0.932564       0.395043               NaN\n",
       "1            50  0.883961       0.411303               NaN\n",
       "2           100  0.891854       0.412130               NaN\n",
       "3           150  0.855263       0.431693               NaN\n",
       "4           200  0.882716       0.411702               NaN"
      ]
     },
     "execution_count": 14,
     "metadata": {},
     "output_type": "execute_result"
    }
   ],
   "source": [
    "ld_pv_distbin_by_mean_R2_cdfs = pd.pivot_table(data=ld, \n",
    "                                               values=[\"R2\",\"one_minus_cdf_BH\",\"one_minus_cdf\"], \n",
    "                                               index=\"distance_bin\", \n",
    "                                               columns=None, \n",
    "                                               aggfunc=np.mean, \n",
    "                                               fill_value=None, margins=False, dropna=True).reset_index()\n",
    "\n",
    "ld_pv_distbin_by_mean_R2_cdfs.head()"
   ]
  },
  {
   "cell_type": "code",
   "execution_count": 15,
   "metadata": {
    "collapsed": false
   },
   "outputs": [
    {
     "data": {
      "text/html": [
       "<div>\n",
       "<table border=\"1\" class=\"dataframe\">\n",
       "  <thead>\n",
       "    <tr style=\"text-align: right;\">\n",
       "      <th></th>\n",
       "      <th>distance_bin</th>\n",
       "      <th>R2</th>\n",
       "    </tr>\n",
       "  </thead>\n",
       "  <tbody>\n",
       "    <tr>\n",
       "      <th>0</th>\n",
       "      <td>0</td>\n",
       "      <td>36566</td>\n",
       "    </tr>\n",
       "    <tr>\n",
       "      <th>1</th>\n",
       "      <td>50</td>\n",
       "      <td>4274</td>\n",
       "    </tr>\n",
       "    <tr>\n",
       "      <th>2</th>\n",
       "      <td>100</td>\n",
       "      <td>2010</td>\n",
       "    </tr>\n",
       "    <tr>\n",
       "      <th>3</th>\n",
       "      <td>150</td>\n",
       "      <td>1204</td>\n",
       "    </tr>\n",
       "    <tr>\n",
       "      <th>4</th>\n",
       "      <td>200</td>\n",
       "      <td>1159</td>\n",
       "    </tr>\n",
       "  </tbody>\n",
       "</table>\n",
       "</div>"
      ],
      "text/plain": [
       "   distance_bin     R2\n",
       "0             0  36566\n",
       "1            50   4274\n",
       "2           100   2010\n",
       "3           150   1204\n",
       "4           200   1159"
      ]
     },
     "execution_count": 15,
     "metadata": {},
     "output_type": "execute_result"
    }
   ],
   "source": [
    "ld_pv_count_distbin = pd.pivot_table(data=ld,\n",
    "                                     values=\"R2\", \n",
    "                                     index=\"distance_bin\", \n",
    "                                     columns=None, \n",
    "                                     aggfunc=len, \n",
    "                                     fill_value=None, margins=False, dropna=True).reset_index()\n",
    "\n",
    "\n",
    "ld_pv_count_distbin.head()"
   ]
  },
  {
   "cell_type": "code",
   "execution_count": 16,
   "metadata": {
    "collapsed": false
   },
   "outputs": [
    {
     "data": {
      "text/html": [
       "<div>\n",
       "<table border=\"1\" class=\"dataframe\">\n",
       "  <thead>\n",
       "    <tr style=\"text-align: right;\">\n",
       "      <th></th>\n",
       "      <th>distance_bin</th>\n",
       "      <th>R2</th>\n",
       "      <th>one_minus_cdf</th>\n",
       "      <th>one_minus_cdf_BH</th>\n",
       "      <th>SNP-pairs</th>\n",
       "    </tr>\n",
       "  </thead>\n",
       "  <tbody>\n",
       "    <tr>\n",
       "      <th>0</th>\n",
       "      <td>0</td>\n",
       "      <td>0.932564</td>\n",
       "      <td>0.395043</td>\n",
       "      <td>NaN</td>\n",
       "      <td>36566</td>\n",
       "    </tr>\n",
       "    <tr>\n",
       "      <th>1</th>\n",
       "      <td>50</td>\n",
       "      <td>0.883961</td>\n",
       "      <td>0.411303</td>\n",
       "      <td>NaN</td>\n",
       "      <td>4274</td>\n",
       "    </tr>\n",
       "    <tr>\n",
       "      <th>2</th>\n",
       "      <td>100</td>\n",
       "      <td>0.891854</td>\n",
       "      <td>0.412130</td>\n",
       "      <td>NaN</td>\n",
       "      <td>2010</td>\n",
       "    </tr>\n",
       "    <tr>\n",
       "      <th>3</th>\n",
       "      <td>150</td>\n",
       "      <td>0.855263</td>\n",
       "      <td>0.431693</td>\n",
       "      <td>NaN</td>\n",
       "      <td>1204</td>\n",
       "    </tr>\n",
       "    <tr>\n",
       "      <th>4</th>\n",
       "      <td>200</td>\n",
       "      <td>0.882716</td>\n",
       "      <td>0.411702</td>\n",
       "      <td>NaN</td>\n",
       "      <td>1159</td>\n",
       "    </tr>\n",
       "  </tbody>\n",
       "</table>\n",
       "</div>"
      ],
      "text/plain": [
       "   distance_bin        R2  one_minus_cdf  one_minus_cdf_BH  SNP-pairs\n",
       "0             0  0.932564       0.395043               NaN      36566\n",
       "1            50  0.883961       0.411303               NaN       4274\n",
       "2           100  0.891854       0.412130               NaN       2010\n",
       "3           150  0.855263       0.431693               NaN       1204\n",
       "4           200  0.882716       0.411702               NaN       1159"
      ]
     },
     "execution_count": 16,
     "metadata": {},
     "output_type": "execute_result"
    }
   ],
   "source": [
    "ld_pv_distbin_by_mean_R2_cdfs = ld_pv_distbin_by_mean_R2_cdfs.merge(right=ld_pv_count_distbin, \n",
    "                                    how='inner', on='distance_bin', \n",
    "                                    left_on=None, right_on=None,\n",
    "                                    suffixes=('', '_count'),\n",
    "                                    copy=True)\n",
    "ld_pv_distbin_by_mean_R2_cdfs.head()\n",
    "new_column_names = ld_pv_distbin_by_mean_R2_cdfs.columns.values\n",
    "new_column_names[-1] = 'SNP-pairs'\n",
    "ld_pv_distbin_by_mean_R2_cdfs.columns = new_column_names\n",
    "ld_pv_distbin_by_mean_R2_cdfs.head()"
   ]
  },
  {
   "cell_type": "code",
   "execution_count": 17,
   "metadata": {
    "collapsed": false
   },
   "outputs": [
    {
     "data": {
      "text/html": [
       "<div>\n",
       "<table border=\"1\" class=\"dataframe\">\n",
       "  <thead>\n",
       "    <tr style=\"text-align: right;\">\n",
       "      <th></th>\n",
       "      <th>distance_bin</th>\n",
       "      <th>variable</th>\n",
       "      <th>value</th>\n",
       "    </tr>\n",
       "  </thead>\n",
       "  <tbody>\n",
       "    <tr>\n",
       "      <th>209979</th>\n",
       "      <td>3274650</td>\n",
       "      <td>SNP-pairs</td>\n",
       "      <td>1</td>\n",
       "    </tr>\n",
       "    <tr>\n",
       "      <th>209980</th>\n",
       "      <td>3274800</td>\n",
       "      <td>SNP-pairs</td>\n",
       "      <td>1</td>\n",
       "    </tr>\n",
       "    <tr>\n",
       "      <th>209981</th>\n",
       "      <td>3274850</td>\n",
       "      <td>SNP-pairs</td>\n",
       "      <td>1</td>\n",
       "    </tr>\n",
       "    <tr>\n",
       "      <th>209982</th>\n",
       "      <td>3275650</td>\n",
       "      <td>SNP-pairs</td>\n",
       "      <td>1</td>\n",
       "    </tr>\n",
       "    <tr>\n",
       "      <th>209983</th>\n",
       "      <td>3277750</td>\n",
       "      <td>SNP-pairs</td>\n",
       "      <td>2</td>\n",
       "    </tr>\n",
       "  </tbody>\n",
       "</table>\n",
       "</div>"
      ],
      "text/plain": [
       "        distance_bin   variable  value\n",
       "209979       3274650  SNP-pairs      1\n",
       "209980       3274800  SNP-pairs      1\n",
       "209981       3274850  SNP-pairs      1\n",
       "209982       3275650  SNP-pairs      1\n",
       "209983       3277750  SNP-pairs      2"
      ]
     },
     "execution_count": 17,
     "metadata": {},
     "output_type": "execute_result"
    }
   ],
   "source": [
    "ld_pv_distbin_by_mean_R2_cdfs_melt = pd.melt(ld_pv_distbin_by_mean_R2_cdfs, id_vars=['distance_bin'])\n",
    "ld_pv_distbin_by_mean_R2_cdfs_melt.tail()"
   ]
  },
  {
   "cell_type": "code",
   "execution_count": 18,
   "metadata": {
    "collapsed": false
   },
   "outputs": [],
   "source": [
    "d_bin_v_others_melt = figs.d.d_bin_v_others_melt"
   ]
  },
  {
   "cell_type": "code",
   "execution_count": 19,
   "metadata": {
    "collapsed": true
   },
   "outputs": [],
   "source": [
    "# mpld3.enable_notebook()\n",
    "# mpld3.disable_notebook()"
   ]
  },
  {
   "cell_type": "code",
   "execution_count": 20,
   "metadata": {
    "collapsed": false
   },
   "outputs": [],
   "source": [
    "# pal = sns.choose_colorbrewer_palette(\"s\")\n",
    "\n",
    "# pal = sns.husl_palette(n_colors=4, h=0.6, s=0.9, l=0.65)\n",
    "# pal = sns.hls_palette(n_colors=5, h=0.59, l=0.4, s=0.75)\n",
    "# sns.palplot(pal)\n",
    "\n",
    "# pal = sns.choose_cubehelix_palette()"
   ]
  },
  {
   "cell_type": "code",
   "execution_count": 21,
   "metadata": {
    "collapsed": false
   },
   "outputs": [
    {
     "data": {
      "text/plain": [
       "<function seaborn.linearmodels.regplot>"
      ]
     },
     "execution_count": 21,
     "metadata": {},
     "output_type": "execute_result"
    }
   ],
   "source": [
    "sns.regplot"
   ]
  },
  {
   "cell_type": "code",
   "execution_count": 22,
   "metadata": {
    "collapsed": false
   },
   "outputs": [],
   "source": [
    "# # sns.set_palette(pal)\n",
    "\n",
    "# melted_r2 = ld_pv_distbin_by_mean_R2_cdfs_melt.query(\"variable == 'R2'\").query(\"0 <= distance_bin <= 500000\")\n",
    "\n",
    "# d = melted_r2.distance_bin\n",
    "\n",
    "# r2 = melted_r2.value\n",
    "# r2_95centile = r2.quantile(.95)\n",
    "\n",
    "# rgplt = sns.regplot(d, r2, data=None, x_estimator=None, x_bins=None, x_ci=95, \n",
    "#             scatter=True, fit_reg=False, ci=95, n_boot=10000, \n",
    "#             )\n",
    "\n",
    "# # plt.plot(d,\n",
    "# #          movingaverage(interval=r2, window_size=6),\n",
    "# #          color='coral', alpha=0.3);\n",
    "\n",
    "# # lowess regression\n",
    "# delta = 0.01 * len(d)\n",
    "# r2_lowess = lowess(r2,d,frac=0.02, it=0, delta=delta)\n",
    "# r2_half = r2.max()/2.\n",
    "\n",
    "\n",
    "# centile_line = [[0,r2_95centile],[r2_lowess[-1][0],r2_95centile]]\n",
    "# halfing_line = [[0,r2_half],[r2_lowess[-1][0],r2_half]]\n",
    "\n",
    "# halfing_geo = LineString(halfing_line)\n",
    "# centile_geo = LineString(centile_line)\n",
    "# lowess_geo = LineString(r2_lowess)\n",
    "\n",
    "# isect_c = centile_geo.intersection(lowess_geo)\n",
    "# isect_h = halfing_geo.intersection(lowess_geo)\n",
    "\n",
    "# isect_c_x,isect_c_y = int(round(isect_c.x)), isect_c.y\n",
    "# isect_h_x,isect_h_y = int(round(isect_h.x)), isect_h.y\n",
    "\n",
    "# plt.plot(d,\n",
    "#          r2_lowess[:,1],\n",
    "#          alpha=1,\n",
    "#          label=\"Lowess regression line\");\n",
    "\n",
    "# plt.plot([x[0] for x in halfing_line],\n",
    "#          [y[1] for y in halfing_line],  \n",
    "#          label=u\"Half of maximum LD ({isect} bp)\".format(isect=isect_h_x),\n",
    "#          alpha=1\n",
    "#         );\n",
    "\n",
    "# plt.plot([x[0] for x in centile_line],\n",
    "#          [y[1] for y in centile_line], \n",
    "#          label=\"95th percentile of mean bin-wise LD ({isect} bp)\".format(isect=isect_c_x),\n",
    "#          alpha=1\n",
    "#         );\n",
    "\n",
    "\n",
    "\n",
    "\n",
    "# # plt.plot(0,0,label=\"test3\",alpha=0)\n",
    "\n",
    "# # plt.scatter(x=xs_hlf, y=ys_hlf, \n",
    "# #             s=200, c=u'k', marker=u'x', \n",
    "# #             alpha=None, linewidths=2);\n",
    "\n",
    "# plt.xlabel(r\"Distance between SNP-pairs (bp)\");\n",
    "# plt.ylabel(r\"Mean bin-wise LD ($r^2$)\");\n",
    "\n",
    "\n",
    "\n",
    "# plt.legend()\n",
    "\n",
    "# # print \"xs_hlf, ys_hlf: \",xs_hlf, ys_hlf \n",
    "\n"
   ]
  },
  {
   "cell_type": "code",
   "execution_count": 24,
   "metadata": {
    "collapsed": false,
    "scrolled": false
   },
   "outputs": [
    {
     "ename": "AttributeError",
     "evalue": "'GeometryCollection' object has no attribute 'x'",
     "output_type": "error",
     "traceback": [
      "\u001b[1;31m---------------------------------------------------------------------------\u001b[0m",
      "\u001b[1;31mAttributeError\u001b[0m                            Traceback (most recent call last)",
      "\u001b[1;32m<ipython-input-24-a79c28447d00>\u001b[0m in \u001b[0;36m<module>\u001b[1;34m()\u001b[0m\n\u001b[0;32m     31\u001b[0m \u001b[0misect_h\u001b[0m \u001b[1;33m=\u001b[0m \u001b[0mhalfing_geo\u001b[0m\u001b[1;33m.\u001b[0m\u001b[0mintersection\u001b[0m\u001b[1;33m(\u001b[0m\u001b[0mlowess_geo\u001b[0m\u001b[1;33m)\u001b[0m\u001b[1;33m\u001b[0m\u001b[0m\n\u001b[0;32m     32\u001b[0m \u001b[1;33m\u001b[0m\u001b[0m\n\u001b[1;32m---> 33\u001b[1;33m \u001b[0misect_2_x\u001b[0m\u001b[1;33m,\u001b[0m\u001b[0misect_2_y\u001b[0m \u001b[1;33m=\u001b[0m \u001b[0mint\u001b[0m\u001b[1;33m(\u001b[0m\u001b[0mround\u001b[0m\u001b[1;33m(\u001b[0m\u001b[0misect_2\u001b[0m\u001b[1;33m.\u001b[0m\u001b[0mx\u001b[0m\u001b[1;33m)\u001b[0m\u001b[1;33m)\u001b[0m\u001b[1;33m,\u001b[0m \u001b[0misect_2\u001b[0m\u001b[1;33m.\u001b[0m\u001b[0my\u001b[0m\u001b[1;33m\u001b[0m\u001b[0m\n\u001b[0m\u001b[0;32m     34\u001b[0m \u001b[0misect_h_x\u001b[0m\u001b[1;33m,\u001b[0m\u001b[0misect_h_y\u001b[0m \u001b[1;33m=\u001b[0m \u001b[0mint\u001b[0m\u001b[1;33m(\u001b[0m\u001b[0mround\u001b[0m\u001b[1;33m(\u001b[0m\u001b[0misect_h\u001b[0m\u001b[1;33m.\u001b[0m\u001b[0mx\u001b[0m\u001b[1;33m)\u001b[0m\u001b[1;33m)\u001b[0m\u001b[1;33m,\u001b[0m \u001b[0misect_h\u001b[0m\u001b[1;33m.\u001b[0m\u001b[0my\u001b[0m\u001b[1;33m\u001b[0m\u001b[0m\n\u001b[0;32m     35\u001b[0m \u001b[1;33m\u001b[0m\u001b[0m\n",
      "\u001b[1;31mAttributeError\u001b[0m: 'GeometryCollection' object has no attribute 'x'"
     ]
    }
   ],
   "source": [
    "# sns.set_palette(pal)\n",
    "\n",
    "filtered_by_bin = ld_pv_distbin_by_mean_R2_cdfs.query(\"0 <= distance_bin <= 500000\")\n",
    "\n",
    "snppairs = filtered_by_bin[\"SNP-pairs\"]\n",
    "d = filtered_by_bin.distance_bin\n",
    "r2 = filtered_by_bin.R2\n",
    "r2_95centile = r2.quantile(.95)\n",
    "\n",
    "scat = plt.scatter(x=d, y=r2, s=20, c=np.log2(snppairs), \n",
    "                   marker=u'o', cmap=\"cubehelix_r\", \n",
    "                   norm=None, vmin=None, vmax=None, \n",
    "                   alpha=1, linewidths=0, verts=None, hold=None);\n",
    "plt.colorbar(scat, label=r\"log$_{2}$(pairs per bin)\");\n",
    "\n",
    "\n",
    "# lowess regression\n",
    "delta = 0.01 * len(d)\n",
    "r2_lowess = lowess(r2,d,frac=0.02, it=0, delta=delta)\n",
    "r2_half = r2.max()/2.\n",
    "\n",
    "\n",
    "point_2_line = [[0,0.2],[r2_lowess[-1][0],0.2]]\n",
    "halfing_line = [[0,r2_half],[r2_lowess[-1][0],r2_half]]\n",
    "\n",
    "halfing_geo = LineString(halfing_line)\n",
    "point_2_geo = LineString(point_2_line)\n",
    "lowess_geo = LineString(r2_lowess)\n",
    "\n",
    "isect_2 = point_2_geo.intersection(lowess_geo)\n",
    "isect_h = halfing_geo.intersection(lowess_geo)\n",
    "\n",
    "isect_2_x,isect_2_y = int(round(isect_2.x)), isect_2.y\n",
    "isect_h_x,isect_h_y = int(round(isect_h.x)), isect_h.y\n",
    "\n",
    "plt.plot(d,\n",
    "         r2_lowess[:,1],\n",
    "         alpha=1,\n",
    "         label=\"Lowess regression line\");\n",
    "\n",
    "plt.plot([x[0] for x in halfing_line],\n",
    "         [y[1] for y in halfing_line],  \n",
    "         label=u\"Half of maximum LD ({isect} bp)\".format(isect=isect_h_x),\n",
    "         alpha=1\n",
    "        );\n",
    "\n",
    "plt.plot([x[0] for x in point_2_line],\n",
    "         [y[1] for y in point_2_line], \n",
    "         label=\"Crosses $r^2 = 0.2$ ({isect} bp)\".format(isect=isect_2_x),\n",
    "         alpha=1\n",
    "        );\n",
    "\n",
    "\n",
    "\n",
    "\n",
    "# plt.plot(0,0,label=\"test3\",alpha=0)\n",
    "\n",
    "# plt.scatter(x=xs_hlf, y=ys_hlf, \n",
    "#             s=200, c=u'k', marker=u'x', \n",
    "#             alpha=None, linewidths=2);\n",
    "\n",
    "plt.xlabel(r\"Distance between SNP-pairs (bp)\");\n",
    "plt.ylabel(r\"Mean bin-wise LD ($r^2$)\");\n",
    "plt.title(\"Site KG\")\n",
    "\n",
    "\n",
    "plt.legend();\n",
    "\n",
    "# print \"xs_hlf, ys_hlf: \",xs_hlf, ys_hlf \n",
    "\n"
   ]
  },
  {
   "cell_type": "code",
   "execution_count": 24,
   "metadata": {
    "collapsed": false
   },
   "outputs": [
    {
     "data": {
      "text/plain": [
       "0.54458602240766685"
      ]
     },
     "execution_count": 24,
     "metadata": {},
     "output_type": "execute_result"
    }
   ],
   "source": [
    "r2.max()"
   ]
  },
  {
   "cell_type": "code",
   "execution_count": 25,
   "metadata": {
    "collapsed": false
   },
   "outputs": [
    {
     "data": {
      "text/plain": [
       "0.27229301120383342"
      ]
     },
     "execution_count": 25,
     "metadata": {},
     "output_type": "execute_result"
    }
   ],
   "source": [
    "r2_half"
   ]
  },
  {
   "cell_type": "code",
   "execution_count": 26,
   "metadata": {
    "collapsed": false
   },
   "outputs": [
    {
     "data": {
      "text/plain": [
       "0.19126966377874197"
      ]
     },
     "execution_count": 26,
     "metadata": {},
     "output_type": "execute_result"
    }
   ],
   "source": [
    "r2_95centile"
   ]
  },
  {
   "cell_type": "code",
   "execution_count": 27,
   "metadata": {
    "collapsed": false
   },
   "outputs": [
    {
     "data": {
      "text/html": [
       "<div>\n",
       "<table border=\"1\" class=\"dataframe\">\n",
       "  <thead>\n",
       "    <tr style=\"text-align: right;\">\n",
       "      <th></th>\n",
       "      <th>distance_bin</th>\n",
       "      <th>variable</th>\n",
       "      <th>value</th>\n",
       "    </tr>\n",
       "  </thead>\n",
       "  <tbody>\n",
       "    <tr>\n",
       "      <th>0</th>\n",
       "      <td>0</td>\n",
       "      <td>R2</td>\n",
       "      <td>0.544586</td>\n",
       "    </tr>\n",
       "    <tr>\n",
       "      <th>1</th>\n",
       "      <td>50</td>\n",
       "      <td>R2</td>\n",
       "      <td>0.419256</td>\n",
       "    </tr>\n",
       "    <tr>\n",
       "      <th>2</th>\n",
       "      <td>100</td>\n",
       "      <td>R2</td>\n",
       "      <td>0.373737</td>\n",
       "    </tr>\n",
       "    <tr>\n",
       "      <th>3</th>\n",
       "      <td>150</td>\n",
       "      <td>R2</td>\n",
       "      <td>0.354970</td>\n",
       "    </tr>\n",
       "    <tr>\n",
       "      <th>4</th>\n",
       "      <td>200</td>\n",
       "      <td>R2</td>\n",
       "      <td>0.367123</td>\n",
       "    </tr>\n",
       "  </tbody>\n",
       "</table>\n",
       "</div>"
      ],
      "text/plain": [
       "   distance_bin variable     value\n",
       "0             0       R2  0.544586\n",
       "1            50       R2  0.419256\n",
       "2           100       R2  0.373737\n",
       "3           150       R2  0.354970\n",
       "4           200       R2  0.367123"
      ]
     },
     "execution_count": 27,
     "metadata": {},
     "output_type": "execute_result"
    }
   ],
   "source": [
    "melted_r2.head()"
   ]
  },
  {
   "cell_type": "code",
   "execution_count": 28,
   "metadata": {
    "collapsed": false
   },
   "outputs": [
    {
     "data": {
      "text/plain": [
       "<matplotlib.legend.Legend at 0x7fe1702eff90>"
      ]
     },
     "execution_count": 28,
     "metadata": {},
     "output_type": "execute_result"
    },
    {
     "data": {
      "image/png": "[encoded data removed]",
      "text/plain": [
       "<matplotlib.figure.Figure at 0x7fe171b14f50>"
      ]
     },
     "metadata": {},
     "output_type": "display_data"
    }
   ],
   "source": [
    "# sns.set_palette(pal)\n",
    "\n",
    "melted_one_minus_cdf = ld_pv_distbin_by_mean_R2_cdfs_melt.query(\"variable == 'one_minus_cdf'\").query(\"0 <= distance_bin <= 500000\")\n",
    "\n",
    "d = melted_one_minus_cdf.distance_bin\n",
    "\n",
    "one_minus_cdf = melted_one_minus_cdf.value\n",
    "\n",
    "rgplt = sns.regplot(d, one_minus_cdf, data=None, x_estimator=None, x_bins=None, x_ci=95, \n",
    "            scatter=True, fit_reg=True, ci=95, n_boot=10000)\n",
    "\n",
    "# plt.plot(d,\n",
    "#          movingaverage(interval=one_minus_cdf, window_size=6),\n",
    "#          color='coral', alpha=0.3);\n",
    "\n",
    "# lowess regression\n",
    "delta = 0.01 * len(d)\n",
    "one_minus_cdf_lowess = lowess(one_minus_cdf,d,frac=0.2, it=0, delta=delta)\n",
    "\n",
    "plt.plot(d,\n",
    "         one_minus_cdf_lowess[:,1],\n",
    "         alpha=1,\n",
    "         label=\"Lowess regression line\");\n",
    "\n",
    "\n",
    "\n",
    "plt.xlabel(r\"Distance between SNP-pairs (bp)\");\n",
    "plt.ylabel(r\"Mean bin-wise 1-CDF\");\n",
    "\n",
    "\n",
    "\n",
    "plt.legend()\n",
    "\n",
    "# print \"xs_hlf, ys_hlf: \",xs_hlf, ys_hlf \n",
    "\n"
   ]
  },
  {
   "cell_type": "markdown",
   "metadata": {},
   "source": [
    "# Describe number of SNP-pairs that pass bin filtering and distance pattern (if any) "
   ]
  },
  {
   "cell_type": "code",
   "execution_count": 29,
   "metadata": {
    "collapsed": false
   },
   "outputs": [],
   "source": [
    "ld_filtered = ld.query(\"one_minus_cdf_BH <= 0.01\")\n",
    "ld_pv_filtered = ld_pv_distbin_by_mean_R2_cdfs.query(\"one_minus_cdf_BH <= 0.01\")"
   ]
  },
  {
   "cell_type": "code",
   "execution_count": 30,
   "metadata": {
    "collapsed": false
   },
   "outputs": [
    {
     "data": {
      "text/plain": [
       "6454294"
      ]
     },
     "execution_count": 30,
     "metadata": {},
     "output_type": "execute_result"
    }
   ],
   "source": [
    "len(ld)"
   ]
  },
  {
   "cell_type": "code",
   "execution_count": 31,
   "metadata": {
    "collapsed": false
   },
   "outputs": [],
   "source": [
    "# len(ld.drop_duplicates())"
   ]
  },
  {
   "cell_type": "code",
   "execution_count": 32,
   "metadata": {
    "collapsed": false
   },
   "outputs": [
    {
     "data": {
      "text/plain": [
       "0"
      ]
     },
     "execution_count": 32,
     "metadata": {},
     "output_type": "execute_result"
    }
   ],
   "source": [
    "len(ld_filtered)"
   ]
  },
  {
   "cell_type": "code",
   "execution_count": 33,
   "metadata": {
    "collapsed": false
   },
   "outputs": [
    {
     "data": {
      "text/plain": [
       "0.0"
      ]
     },
     "execution_count": 33,
     "metadata": {},
     "output_type": "execute_result"
    }
   ],
   "source": [
    "100.*len(ld_filtered)/len(ld)"
   ]
  },
  {
   "cell_type": "code",
   "execution_count": 34,
   "metadata": {
    "collapsed": false
   },
   "outputs": [
    {
     "name": "stderr",
     "output_type": "stream",
     "text": [
      "/home/gus/.virtualenvs/py279/lib/python2.7/site-packages/numpy/core/_methods.py:59: RuntimeWarning: Mean of empty slice.\n",
      "  warnings.warn(\"Mean of empty slice.\", RuntimeWarning)\n"
     ]
    },
    {
     "ename": "ZeroDivisionError",
     "evalue": "float division by zero",
     "output_type": "error",
     "traceback": [
      "\u001b[1;31m---------------------------------------------------------------------------\u001b[0m",
      "\u001b[1;31mZeroDivisionError\u001b[0m                         Traceback (most recent call last)",
      "\u001b[1;32m<ipython-input-34-f6b122f3ae02>\u001b[0m in \u001b[0;36m<module>\u001b[1;34m()\u001b[0m\n\u001b[1;32m----> 1\u001b[1;33m \u001b[0msns\u001b[0m\u001b[1;33m.\u001b[0m\u001b[0mdistplot\u001b[0m\u001b[1;33m(\u001b[0m\u001b[0mld_filtered\u001b[0m\u001b[1;33m.\u001b[0m\u001b[0mR2\u001b[0m\u001b[1;33m.\u001b[0m\u001b[0mdropna\u001b[0m\u001b[1;33m(\u001b[0m\u001b[1;33m)\u001b[0m\u001b[1;33m,\u001b[0m \u001b[0mkde\u001b[0m\u001b[1;33m=\u001b[0m\u001b[1;36m0\u001b[0m\u001b[1;33m)\u001b[0m\u001b[1;33m;\u001b[0m\u001b[1;33m\u001b[0m\u001b[0m\n\u001b[0m",
      "\u001b[1;32m/home/gus/.virtualenvs/py279/lib/python2.7/site-packages/seaborn/distributions.pyc\u001b[0m in \u001b[0;36mdistplot\u001b[1;34m(a, bins, hist, kde, rug, fit, hist_kws, kde_kws, rug_kws, fit_kws, color, vertical, norm_hist, axlabel, label, ax)\u001b[0m\n\u001b[0;32m    204\u001b[0m     \u001b[1;32mif\u001b[0m \u001b[0mhist\u001b[0m\u001b[1;33m:\u001b[0m\u001b[1;33m\u001b[0m\u001b[0m\n\u001b[0;32m    205\u001b[0m         \u001b[1;32mif\u001b[0m \u001b[0mbins\u001b[0m \u001b[1;32mis\u001b[0m \u001b[0mNone\u001b[0m\u001b[1;33m:\u001b[0m\u001b[1;33m\u001b[0m\u001b[0m\n\u001b[1;32m--> 206\u001b[1;33m             \u001b[0mbins\u001b[0m \u001b[1;33m=\u001b[0m \u001b[0mmin\u001b[0m\u001b[1;33m(\u001b[0m\u001b[0m_freedman_diaconis_bins\u001b[0m\u001b[1;33m(\u001b[0m\u001b[0ma\u001b[0m\u001b[1;33m)\u001b[0m\u001b[1;33m,\u001b[0m \u001b[1;36m50\u001b[0m\u001b[1;33m)\u001b[0m\u001b[1;33m\u001b[0m\u001b[0m\n\u001b[0m\u001b[0;32m    207\u001b[0m         \u001b[0mhist_kws\u001b[0m\u001b[1;33m.\u001b[0m\u001b[0msetdefault\u001b[0m\u001b[1;33m(\u001b[0m\u001b[1;34m\"alpha\"\u001b[0m\u001b[1;33m,\u001b[0m \u001b[1;36m0.4\u001b[0m\u001b[1;33m)\u001b[0m\u001b[1;33m\u001b[0m\u001b[0m\n\u001b[0;32m    208\u001b[0m         \u001b[0mhist_kws\u001b[0m\u001b[1;33m.\u001b[0m\u001b[0msetdefault\u001b[0m\u001b[1;33m(\u001b[0m\u001b[1;34m\"normed\"\u001b[0m\u001b[1;33m,\u001b[0m \u001b[0mnorm_hist\u001b[0m\u001b[1;33m)\u001b[0m\u001b[1;33m\u001b[0m\u001b[0m\n",
      "\u001b[1;32m/home/gus/.virtualenvs/py279/lib/python2.7/site-packages/seaborn/distributions.pyc\u001b[0m in \u001b[0;36m_freedman_diaconis_bins\u001b[1;34m(a)\u001b[0m\n\u001b[0;32m     25\u001b[0m     \u001b[1;31m# From http://stats.stackexchange.com/questions/798/\u001b[0m\u001b[1;33m\u001b[0m\u001b[1;33m\u001b[0m\u001b[0m\n\u001b[0;32m     26\u001b[0m     \u001b[0ma\u001b[0m \u001b[1;33m=\u001b[0m \u001b[0mnp\u001b[0m\u001b[1;33m.\u001b[0m\u001b[0masarray\u001b[0m\u001b[1;33m(\u001b[0m\u001b[0ma\u001b[0m\u001b[1;33m)\u001b[0m\u001b[1;33m\u001b[0m\u001b[0m\n\u001b[1;32m---> 27\u001b[1;33m     \u001b[0mh\u001b[0m \u001b[1;33m=\u001b[0m \u001b[1;36m2\u001b[0m \u001b[1;33m*\u001b[0m \u001b[0miqr\u001b[0m\u001b[1;33m(\u001b[0m\u001b[0ma\u001b[0m\u001b[1;33m)\u001b[0m \u001b[1;33m/\u001b[0m \u001b[1;33m(\u001b[0m\u001b[0mlen\u001b[0m\u001b[1;33m(\u001b[0m\u001b[0ma\u001b[0m\u001b[1;33m)\u001b[0m \u001b[1;33m**\u001b[0m \u001b[1;33m(\u001b[0m\u001b[1;36m1\u001b[0m \u001b[1;33m/\u001b[0m \u001b[1;36m3\u001b[0m\u001b[1;33m)\u001b[0m\u001b[1;33m)\u001b[0m\u001b[1;33m\u001b[0m\u001b[0m\n\u001b[0m\u001b[0;32m     28\u001b[0m     \u001b[1;31m# fall back to sqrt(a) bins if iqr is 0\u001b[0m\u001b[1;33m\u001b[0m\u001b[1;33m\u001b[0m\u001b[0m\n\u001b[0;32m     29\u001b[0m     \u001b[1;32mif\u001b[0m \u001b[0mh\u001b[0m \u001b[1;33m==\u001b[0m \u001b[1;36m0\u001b[0m\u001b[1;33m:\u001b[0m\u001b[1;33m\u001b[0m\u001b[0m\n",
      "\u001b[1;31mZeroDivisionError\u001b[0m: float division by zero"
     ]
    },
    {
     "data": {
      "image/png": "[encoded data removed]",
      "text/plain": [
       "<matplotlib.figure.Figure at 0x7fe171b14e50>"
      ]
     },
     "metadata": {},
     "output_type": "display_data"
    }
   ],
   "source": [
    "sns.distplot(ld_filtered.R2.dropna(), kde=0);"
   ]
  },
  {
   "cell_type": "code",
   "execution_count": null,
   "metadata": {
    "collapsed": false
   },
   "outputs": [],
   "source": [
    "ld_filtered.head()"
   ]
  },
  {
   "cell_type": "code",
   "execution_count": null,
   "metadata": {
    "collapsed": false
   },
   "outputs": [],
   "source": [
    "# mod = smform.ols(\"R2 ~ CHR_A\", ld_filtered)\n",
    "# res_R2_by_CHR_A = mod.fit()"
   ]
  },
  {
   "cell_type": "code",
   "execution_count": null,
   "metadata": {
    "collapsed": false
   },
   "outputs": [],
   "source": [
    "# sns.distplot(res_R2_by_CHR_A.params[1:], kde=0)"
   ]
  },
  {
   "cell_type": "code",
   "execution_count": null,
   "metadata": {
    "collapsed": false
   },
   "outputs": [],
   "source": [
    "sns.jointplot(ld_filtered.BP_DELTA, ld_filtered.R2, kind='hex')"
   ]
  },
  {
   "cell_type": "markdown",
   "metadata": {},
   "source": [
    "-------------------"
   ]
  },
  {
   "cell_type": "markdown",
   "metadata": {
    "collapsed": true
   },
   "source": [
    "# Examine whether any of Andrea's  genes are in the filtered set"
   ]
  },
  {
   "cell_type": "code",
   "execution_count": null,
   "metadata": {
    "collapsed": true
   },
   "outputs": [],
   "source": [
    "## SNPs of interest BED  ----------------------------------------------------------\n",
    "\n",
    "#### from folder: 2015-03-17_env_selection\n",
    "Selected_PopPairwiseMSNB_Environm_bed = \"/home/gus/Documents/YalePostDoc/project_stuff/g_f_fucipes_uganda/ddrad58/data_from_andrea/2015-03-17_env_selection/Selected_PopPairwiseMSNB_Environm.bed\"\n",
    "Selected_PopPairwiseMSOT_Environm_bed = \"/home/gus/Documents/YalePostDoc/project_stuff/g_f_fucipes_uganda/ddrad58/data_from_andrea/2015-03-17_env_selection/Selected_PopPairwiseMSOT_Environm.bed\"\n",
    "Selected_PopPairwiseMSvsNBOT_Environm_bed = \"/home/gus/Documents/YalePostDoc/project_stuff/g_f_fucipes_uganda/ddrad58/data_from_andrea/2015-03-17_env_selection/Selected_PopPairwiseMSvsNBOT_Environm.bed\"\n",
    "\n",
    "#### from folder: 2015-02-26_bayescan_tables and 2015-07-23_overlap_infection\n",
    "Top10_PopPairwiseOverlap_Infection_bed = \"/home/gus/Documents/YalePostDoc/project_stuff/g_f_fucipes_uganda/ddrad58/data_from_andrea/2015-07-23_overlap_infection/Top10_corrected_PopPairwiseOverlap_Infection2015.bed\"\n",
    "Top10_PopPairwiseOverlap_Environm_bed = \"/home/gus/Documents/YalePostDoc/project_stuff/g_f_fucipes_uganda/ddrad58/data_from_andrea/2015-02-26_bayescan_tables/Top10_PopPairwiseOverlap_Environm.bed\"\n",
    "Top05_InfectionOverall_bed = \"/home/gus/Documents/YalePostDoc/project_stuff/g_f_fucipes_uganda/ddrad58/data_from_andrea/2015-02-26_bayescan_tables/Top05_InfectionOverall.bed\"\n",
    "Top05_PopPairwiseOverlap_Environm_bed = \"/home/gus/Documents/YalePostDoc/project_stuff/g_f_fucipes_uganda/ddrad58/data_from_andrea/2015-02-26_bayescan_tables/Top05_PopPairwiseOverlap_Environm.bed\"\n",
    "Top05_PopPairwiseOverlap_Infection_bed = \"/home/gus/Documents/YalePostDoc/project_stuff/g_f_fucipes_uganda/ddrad58/data_from_andrea/2015-02-26_bayescan_tables/Top05_PopPairwiseOverlap_Infection.bed\"\n",
    "Top10_InfectionOverall_bed = \"/home/gus/Documents/YalePostDoc/project_stuff/g_f_fucipes_uganda/ddrad58/data_from_andrea/2015-02-26_bayescan_tables/Top10_InfectionOverall.bed\""
   ]
  },
  {
   "cell_type": "code",
   "execution_count": null,
   "metadata": {
    "collapsed": true
   },
   "outputs": [],
   "source": [
    "# read bed files into dataframes and name the columns\n",
    "bed_headers = ['seq','start','end']\n",
    "\n",
    "Selected_PopPairwiseMSNB_Environm_df = pd.read_csv(Selected_PopPairwiseMSNB_Environm_bed, header=None, names=bed_headers, sep='\\t')\n",
    "Selected_PopPairwiseMSOT_Environm_df = pd.read_csv(Selected_PopPairwiseMSOT_Environm_bed, header=None, names=bed_headers, sep='\\t')\n",
    "Selected_PopPairwiseMSvsNBOT_Environm_df = pd.read_csv(Selected_PopPairwiseMSvsNBOT_Environm_bed, header=None, names=bed_headers, sep='\\t')\n",
    "Top10_PopPairwiseOverlap_Infection_df = pd.read_csv(Top10_PopPairwiseOverlap_Infection_bed, header=None, names=bed_headers, sep='\\t')\n",
    "Top10_PopPairwiseOverlap_Environm_df = pd.read_csv(Top10_PopPairwiseOverlap_Environm_bed, header=None, names=bed_headers, sep='\\t')\n",
    "Top05_InfectionOverall_df = pd.read_csv(Top05_InfectionOverall_bed, header=None, names=bed_headers, sep='\\t')\n",
    "Top05_PopPairwiseOverlap_Environm_df = pd.read_csv(Top05_PopPairwiseOverlap_Environm_bed, header=None, names=bed_headers, sep='\\t')\n",
    "Top05_PopPairwiseOverlap_Infection_df = pd.read_csv(Top05_PopPairwiseOverlap_Infection_bed, header=None, names=bed_headers, sep='\\t')\n",
    "Top10_InfectionOverall_df = pd.read_csv(Top10_InfectionOverall_bed, header=None, names=bed_headers, sep='\\t')\n",
    "\n",
    "snps_interest = munch.Munch(dict(Selected_PopPairwiseMSNB_Environm=Selected_PopPairwiseMSNB_Environm_df,\n",
    "    Selected_PopPairwiseMSOT_Environm=Selected_PopPairwiseMSOT_Environm_df,\n",
    "    Selected_PopPairwiseMSvsNBOT_Environm=Selected_PopPairwiseMSvsNBOT_Environm_df,\n",
    "    Top10_PopPairwiseOverlap_Infection=Top10_PopPairwiseOverlap_Infection_df,\n",
    "    Top10_PopPairwiseOverlap_Environm=Top10_PopPairwiseOverlap_Environm_df,\n",
    "    Top05_InfectionOverall=Top05_InfectionOverall_df,\n",
    "    Top05_PopPairwiseOverlap_Environm=Top05_PopPairwiseOverlap_Environm_df,\n",
    "    Top05_PopPairwiseOverlap_Infection=Top05_PopPairwiseOverlap_Infection_df,\n",
    "    Top10_InfectionOverall=Top10_InfectionOverall_df))"
   ]
  },
  {
   "cell_type": "code",
   "execution_count": null,
   "metadata": {
    "collapsed": false
   },
   "outputs": [],
   "source": [
    "len(snps_interest.Top10_PopPairwiseOverlap_Infection)"
   ]
  },
  {
   "cell_type": "code",
   "execution_count": null,
   "metadata": {
    "collapsed": false
   },
   "outputs": [],
   "source": [
    "snps_interest.Top10_PopPairwiseOverlap_Infection"
   ]
  },
  {
   "cell_type": "code",
   "execution_count": null,
   "metadata": {
    "collapsed": false
   },
   "outputs": [],
   "source": [
    "def join_SNP_pairs_and_SNPs_of_interest(dfp, dfi):\n",
    "    \n",
    "    dfp = dfp[[\"CHR_A\",\"BP_A\",\"BP_B\",\"N_INDV\",\"R2\",\"BP_DELTA\",\"distance_bin\",\"one_minus_cdf\",\"one_minus_cdf_BH\"]]\n",
    "\n",
    "    join1 = pd.merge(left=dfp, right=dfi, \n",
    "                     how='right', on=None, \n",
    "                     left_on=[\"CHR_A\",\"BP_A\"], right_on=[\"seq\",'end'], \n",
    "                     left_index=False, right_index=False, \n",
    "                     sort=False, \n",
    "                     copy=True)\n",
    "\n",
    "    join2 = pd.merge(left=join1, right=dfi, \n",
    "                     how='right', on=None, \n",
    "                     left_on=[\"CHR_A\",\"BP_B\"], right_on=[\"seq\",'end'], \n",
    "                     left_index=False, right_index=False, \n",
    "                     sort=False, \n",
    "                     copy=True)\n",
    "    \n",
    "    return join2.drop_duplicates()"
   ]
  },
  {
   "cell_type": "code",
   "execution_count": null,
   "metadata": {
    "collapsed": false
   },
   "outputs": [],
   "source": [
    "ld_filtered_snps_interest = munch.Munch()\n",
    "ld_filtered_snps_interest_nd = munch.Munch()\n",
    "ld_nonfiltered_snps_interest = munch.Munch()"
   ]
  },
  {
   "cell_type": "code",
   "execution_count": null,
   "metadata": {
    "collapsed": false
   },
   "outputs": [],
   "source": [
    "for set_name, snp_set, in snps_interest.items():\n",
    "    ld_filtered_snps_interest[set_name] = join_SNP_pairs_and_SNPs_of_interest(dfp=ld_filtered, dfi=snp_set)\n",
    "    ld_nonfiltered_snps_interest[set_name] = join_SNP_pairs_and_SNPs_of_interest(dfp=ld, dfi=snp_set)"
   ]
  },
  {
   "cell_type": "code",
   "execution_count": null,
   "metadata": {
    "collapsed": false
   },
   "outputs": [],
   "source": [
    "ld_filtered_snps_interest.keys()"
   ]
  },
  {
   "cell_type": "code",
   "execution_count": null,
   "metadata": {
    "collapsed": false
   },
   "outputs": [],
   "source": [
    "len(ld_filtered_snps_interest)"
   ]
  },
  {
   "cell_type": "code",
   "execution_count": null,
   "metadata": {
    "collapsed": false
   },
   "outputs": [],
   "source": [
    "len(ld_nonfiltered_snps_interest)"
   ]
  },
  {
   "cell_type": "code",
   "execution_count": null,
   "metadata": {
    "collapsed": false
   },
   "outputs": [],
   "source": [
    "ld_filtered_snps_interest.keys()"
   ]
  },
  {
   "cell_type": "code",
   "execution_count": null,
   "metadata": {
    "collapsed": false
   },
   "outputs": [],
   "source": [
    "ld_filtered_snps_interest.Top10_PopPairwiseOverlap_Infection"
   ]
  },
  {
   "cell_type": "code",
   "execution_count": null,
   "metadata": {
    "collapsed": false
   },
   "outputs": [],
   "source": [
    "ld_filtered_snps_interest.Top05_InfectionOverall.head()"
   ]
  },
  {
   "cell_type": "code",
   "execution_count": null,
   "metadata": {
    "collapsed": false
   },
   "outputs": [],
   "source": [
    "# sns.distplot(ld_filtered_snps_interest.Top10_InfectionOverall.BP_DELTA,kde=False);"
   ]
  },
  {
   "cell_type": "markdown",
   "metadata": {},
   "source": [
    "### Gene models near filtered Andrea Genes"
   ]
  },
  {
   "cell_type": "code",
   "execution_count": null,
   "metadata": {
    "collapsed": false
   },
   "outputs": [],
   "source": [
    "# - generate set of non-redundant andrea snps from joined table as set of tuples\n",
    "# - convert to bedtool object(s)\n",
    "def reduce_joined_SNP_coords(snps_interest_df):\n",
    "    df = snps_interest_df  # less typing\n",
    "\n",
    "    if len(df) == 0:\n",
    "        return None\n",
    "\n",
    "    snp_set = set()\n",
    "    snp_set.update(list(df.apply(lambda x: (x.seq_x, x.start_x, x.end_x),1)))\n",
    "    snp_set.update(list(df.apply(lambda x: (x.seq_y, x.start_y, x.end_y),1)))\n",
    "\n",
    "    return pbt.BedTool(tuple(snp_set))\n",
    "\n",
    "\n",
    "# - get windowed intersection intersection with gene models using pybedtools\n",
    "\n",
    "def get_win_isec(a,b,win=1000):\n",
    "    if a is None:\n",
    "        return None\n",
    "    return a.window(b, w=win)\n",
    "\n",
    "# get all results as data-frame\n",
    "\n",
    "def batch_process_SNPs(snps_interest):\n",
    "    \n",
    "    BEDS = munch.Munch()\n",
    "    NEARBY_GENES = munch.Munch()\n",
    "    JOINED_ANNOS = munch.Munch()\n",
    "    \n",
    "    \n",
    "    # get beds\n",
    "    for name,table in snps_interest.items():\n",
    "        BEDS[name] = reduce_joined_SNP_coords(table)\n",
    "        \n",
    "    # get genes nearby\n",
    "    for name,value in BEDS.items():\n",
    "        if value is not None:\n",
    "            NEARBY_GENES[name] = snp_vs_gff_to_DF(get_win_isec(a=value,b=gene_mods,win=1000))\n",
    "        else:\n",
    "            NEARBY_GENES[name] = None\n",
    "            \n",
    "            \n",
    "    for name, value in NEARBY_GENES.items():\n",
    "        if value is None:\n",
    "            pass\n",
    "        elif (len(value) > 0):\n",
    "            add_SNP_to_gene_distance(value)\n",
    "        else:\n",
    "            NEARBY_GENES[name] = None\n",
    "\n",
    "    # make anno joins\n",
    "    for name, value in NEARBY_GENES.items():\n",
    "        if value is not None:\n",
    "            JOINED_ANNOS[name] = join_genes_with_annos(genes=value, annotations=argot2, how=\"inner\")\n",
    "        else:\n",
    "            JOINED_ANNOS[name] = None\n",
    "            \n",
    "    return BEDS,NEARBY_GENES,JOINED_ANNOS\n",
    "\n",
    "def add_SNP_to_gene_distance(df):\n",
    "    if df is not None:\n",
    "        df['d_to_gene'] = df.apply(d_to_gene,1)\n",
    "\n",
    "\n",
    "def d_to_gene(x):\n",
    "\n",
    "    low,high = ((x.bed3_end - x.gff3_start),(x.bed3_end - x.gff3_end))\n",
    "\n",
    "    if (low >= 0) and (high <= 0):\n",
    "        return 0\n",
    "    else:\n",
    "        return min([abs(low),abs(high)])\n",
    "\n",
    "    \n",
    "\n",
    "# get annotations for genes:\n",
    "def join_genes_with_annos(genes, annotations, how=\"inner\"):\n",
    "    if genes is None:\n",
    "        return None\n",
    "    return pd.merge(left=genes, right=annotations, \n",
    "                    how=how, \n",
    "                    on=None, \n",
    "                    left_on='gff3_rec', right_on='gene_id')"
   ]
  },
  {
   "cell_type": "code",
   "execution_count": null,
   "metadata": {
    "collapsed": false
   },
   "outputs": [],
   "source": [
    "# pdb"
   ]
  },
  {
   "cell_type": "code",
   "execution_count": null,
   "metadata": {
    "collapsed": false,
    "scrolled": false
   },
   "outputs": [],
   "source": [
    "(ld_nonfiltered_snps_interest_BEDs,\n",
    " ld_nonfiltered_snps_interest_NEARBY_GENES,\n",
    " ld_nonfiltered_snps_interest_JOINED_ANNOS) = batch_process_SNPs(ld_nonfiltered_snps_interest)"
   ]
  },
  {
   "cell_type": "code",
   "execution_count": null,
   "metadata": {
    "collapsed": false
   },
   "outputs": [],
   "source": [
    "(ld_filtered_snps_interest_BEDs,\n",
    " ld_filtered_snps_interest_NEARBY_GENES,\n",
    " ld_filtered_snps_interest_JOINED_ANNOS) = batch_process_SNPs(ld_filtered_snps_interest)"
   ]
  },
  {
   "cell_type": "code",
   "execution_count": null,
   "metadata": {
    "collapsed": false
   },
   "outputs": [],
   "source": [
    "len(ld_filtered_snps_interest_JOINED_ANNOS.Top05_InfectionOverall.gff3_rec.unique())"
   ]
  },
  {
   "cell_type": "code",
   "execution_count": null,
   "metadata": {
    "collapsed": false
   },
   "outputs": [],
   "source": [
    "len(ld_nonfiltered_snps_interest_JOINED_ANNOS.Top05_InfectionOverall.gff3_rec.unique())"
   ]
  },
  {
   "cell_type": "code",
   "execution_count": null,
   "metadata": {
    "collapsed": false
   },
   "outputs": [],
   "source": [
    "ld_filtered_snps_interest_BEDs.Top10_PopPairwiseOverlap_Infection"
   ]
  },
  {
   "cell_type": "code",
   "execution_count": null,
   "metadata": {
    "collapsed": false
   },
   "outputs": [],
   "source": [
    "ld_nonfiltered_snps_interest_BEDs.Top10_PopPairwiseOverlap_Infection"
   ]
  },
  {
   "cell_type": "markdown",
   "metadata": {},
   "source": [
    "## SELECTION ONLY filtered genes: *regardless of GO annotated*"
   ]
  },
  {
   "cell_type": "code",
   "execution_count": null,
   "metadata": {
    "collapsed": false,
    "scrolled": false
   },
   "outputs": [],
   "source": [
    "for name, value in ld_nonfiltered_snps_interest_NEARBY_GENES.items():\n",
    "    \n",
    "    if value is None:\n",
    "        print \"name: {name}\\tlength: `None`\".format(name=name)\n",
    "    else:\n",
    "        print \"name: {name}\\tlength: {value}\".format(name=name, value=len(value.gff3_rec.unique()))\n",
    "\n",
    "        "
   ]
  },
  {
   "cell_type": "markdown",
   "metadata": {},
   "source": [
    "## SELECTION ONLY filtered genes: _only GO annotated_"
   ]
  },
  {
   "cell_type": "code",
   "execution_count": null,
   "metadata": {
    "collapsed": false,
    "scrolled": false
   },
   "outputs": [],
   "source": [
    "for name, value in ld_nonfiltered_snps_interest_JOINED_ANNOS.items():\n",
    "    \n",
    "    if value is None:\n",
    "        print \"name: {name}\\tlength: `None`\".format(name=name)\n",
    "    else:\n",
    "        print \"name: {name}\\tlength: {value}\".format(name=name, value=len(value.gff3_rec.unique()))\n",
    "\n",
    "        "
   ]
  },
  {
   "cell_type": "markdown",
   "metadata": {},
   "source": [
    "-----------------------"
   ]
  },
  {
   "cell_type": "markdown",
   "metadata": {},
   "source": [
    "## LD and selection filtered genes: *regardless of GO annotated*"
   ]
  },
  {
   "cell_type": "code",
   "execution_count": null,
   "metadata": {
    "collapsed": false,
    "scrolled": true
   },
   "outputs": [],
   "source": [
    "for name, value in ld_filtered_snps_interest_NEARBY_GENES.items():\n",
    "    \n",
    "    if value is None:\n",
    "        print \"name: {name}\\tlength: `None`\".format(name=name)\n",
    "    else:\n",
    "        print \"name: {name}\\tlength: {value}\".format(name=name, value=len(value.gff3_rec.unique()))\n",
    "\n",
    "        "
   ]
  },
  {
   "cell_type": "markdown",
   "metadata": {},
   "source": [
    "## LD and selection filtered genes: _only GO annotated_"
   ]
  },
  {
   "cell_type": "code",
   "execution_count": null,
   "metadata": {
    "collapsed": false,
    "scrolled": true
   },
   "outputs": [],
   "source": [
    "for name, value in ld_filtered_snps_interest_JOINED_ANNOS.items():\n",
    "    \n",
    "    if value is None:\n",
    "        print \"name: {name}\\tlength: `None`\".format(name=name)\n",
    "    else:\n",
    "        print \"name: {name}\\tlength: {value}\".format(name=name, value=len(value.gff3_rec.unique()))\n",
    "\n",
    "        "
   ]
  },
  {
   "cell_type": "code",
   "execution_count": null,
   "metadata": {
    "collapsed": false
   },
   "outputs": [],
   "source": [
    "ld_filtered_snps_interest_JOINED_ANNOS.Top10_InfectionOverall.head()"
   ]
  },
  {
   "cell_type": "code",
   "execution_count": null,
   "metadata": {
    "collapsed": false
   },
   "outputs": [],
   "source": [
    "ld_filtered_snps_interest_NEARBY_GENES.Top10_PopPairwiseOverlap_Infection"
   ]
  },
  {
   "cell_type": "code",
   "execution_count": null,
   "metadata": {
    "collapsed": false
   },
   "outputs": [],
   "source": [
    "ld_filtered_snps_interest_NEARBY_GENES.Top10_PopPairwiseOverlap_Environm"
   ]
  },
  {
   "cell_type": "code",
   "execution_count": null,
   "metadata": {
    "collapsed": false
   },
   "outputs": [],
   "source": [
    "ld_filtered_snps_interest_NEARBY_GENES.Top05_PopPairwiseOverlap_Infection"
   ]
  },
  {
   "cell_type": "code",
   "execution_count": null,
   "metadata": {
    "collapsed": false
   },
   "outputs": [],
   "source": [
    "ld_filtered_snps_interest.Top05_PopPairwiseOverlap_Infection.query(\"CHR_A == 'Scaffold150'\")"
   ]
  },
  {
   "cell_type": "code",
   "execution_count": null,
   "metadata": {
    "collapsed": false
   },
   "outputs": [],
   "source": [
    "def answer_set_1(df, title=\"None\"):\n",
    "    \"\"\"...proximity to these SNPs using a window of 1000 bp returned X genes, including genes involved in X, Y, and X\"\"\"\n",
    "    \n",
    "    if df is None:\n",
    "        return \"\"\"## {title} ##\n",
    "\n",
    "Zero results for this set.\n",
    "\"\"\".format(title=title)\n",
    "    \n",
    "    p = df.query(\"Aspect == 'P'\")\n",
    "    f = df.query(\"Aspect == 'F'\")\n",
    "    c = df.query(\"Aspect == 'C'\")\n",
    "\n",
    "    gene_names = \"- {gene_list}\\n\".format(gene_list=\"\\n- \".join(df.gene_id.unique()))\n",
    "\n",
    "    num_genes = len(df.gene_id.unique())\n",
    "    num_contigs = len(df.bed3_seq.unique())\n",
    "    num_func_annos = len(df.Name.unique())\n",
    "    num_p = len(p.Name.unique())\n",
    "    num_f = len(f.Name.unique())\n",
    "    num_c = len(c.Name.unique())\n",
    "\n",
    "    anno_stats = tbl(pd.DataFrame(df['Total Score'].describe()), headers=('Metric','Value'),tablefmt=u'pipe')\n",
    "    anno_stats_p = tbl(pd.DataFrame(p['Total Score'].describe()), headers=('Metric','Value'),tablefmt=u'pipe')\n",
    "    anno_stats_f = tbl(pd.DataFrame(f['Total Score'].describe()), headers=('Metric','Value'),tablefmt=u'pipe')\n",
    "    anno_stats_c = tbl(pd.DataFrame(c['Total Score'].describe()), headers=('Metric','Value'),tablefmt=u'pipe')\n",
    "    \n",
    "    top10_annos = tbl(pd.DataFrame(df.Name.value_counts().head(10)), headers=('Annotation','Genes'),tablefmt=u'pipe')\n",
    "    top10_annos_p= tbl(pd.DataFrame(p.Name.value_counts().head(10)), headers=('Annotation','Genes'),tablefmt=u'pipe')\n",
    "    top10_annos_f= tbl(pd.DataFrame(f.Name.value_counts().head(10)), headers=('Annotation','Genes'),tablefmt=u'pipe')\n",
    "    top10_annos_c= tbl(pd.DataFrame(c.Name.value_counts().head(10)), headers=('Annotation','Genes'),tablefmt=u'pipe')\n",
    "\n",
    "    top10_annos_TS_800 = tbl(pd.DataFrame(df[df['Total Score'] >= 800].Name.value_counts().head(10)), headers=('Annotation','Genes'),tablefmt=u'pipe')\n",
    "    top10_annos_TS_800_p = tbl(pd.DataFrame(p[p['Total Score'] >= 800].Name.value_counts().head(10)), headers=('Annotation','Genes'),tablefmt=u'pipe')\n",
    "    top10_annos_TS_800_f = tbl(pd.DataFrame(f[f['Total Score'] >= 800].Name.value_counts().head(10)), headers=('Annotation','Genes'),tablefmt=u'pipe')\n",
    "    top10_annos_TS_800_c = tbl(pd.DataFrame(c[c['Total Score'] >= 800].Name.value_counts().head(10)), headers=('Annotation','Genes'),tablefmt=u'pipe')\n",
    "\n",
    "\n",
    "    return \"\"\"\n",
    "## {title} ##\n",
    "\n",
    "\n",
    "- __Genes:__ {num_genes}\n",
    "- __Contigs:__ {num_contigs}\n",
    "- __Unique Terms (all):__ {num_func_annos}\n",
    "\n",
    "\n",
    "### Gene IDs ###\n",
    "\n",
    "{gene_names}\n",
    "\n",
    "\n",
    "### Annotation Scores ###\n",
    "\n",
    "__Table:__ _All domains_\n",
    "\n",
    "{anno_stats}\n",
    "\n",
    "__Table:__ _Process_\n",
    "\n",
    "{anno_stats_p}\n",
    "\n",
    "__Table:__ _Function_\n",
    "\n",
    "{anno_stats_f}\n",
    "\n",
    "__Table:__ _Cellular_\n",
    "\n",
    "{anno_stats_c}\n",
    "\n",
    "----\n",
    "\n",
    "### Top annotations ###\n",
    "\n",
    "__Table:__ _All domains_\n",
    "\n",
    "{top10_annos}\n",
    "\n",
    "__Table:__ _Process_\n",
    "\n",
    "{top10_annos_p}\n",
    "\n",
    "__Table:__ _Function_\n",
    "\n",
    "{top10_annos_f}\n",
    "\n",
    "__Table:__ _Cellular_\n",
    "\n",
    "{top10_annos_c}\n",
    "\n",
    "\n",
    "----\n",
    "\n",
    "### Top annotations (TS >= 800) ###\n",
    "\n",
    "__Table:__ _All domains_\n",
    "\n",
    "{top10_annos_TS_800}\n",
    "\n",
    "__Table:__ _Process_\n",
    "\n",
    "{top10_annos_TS_800_p}\n",
    "\n",
    "__Table:__ _Function_\n",
    "\n",
    "{top10_annos_TS_800_f}\n",
    "\n",
    "__Table:__ _Cellular_\n",
    "\n",
    "{top10_annos_TS_800_c}\n",
    "\n",
    "\"\"\".format(\n",
    "    title=title,\n",
    "    num_genes=num_genes,\n",
    "    num_contigs=num_contigs,\n",
    "    num_func_annos=num_func_annos,\n",
    "    gene_names=gene_names,\n",
    "    anno_stats=anno_stats,\n",
    "    anno_stats_p=anno_stats_p,\n",
    "    anno_stats_f=anno_stats_f,\n",
    "    anno_stats_c=anno_stats_c,\n",
    "    top10_annos=top10_annos,\n",
    "    top10_annos_p=top10_annos_p,\n",
    "    top10_annos_f=top10_annos_f,\n",
    "    top10_annos_c=top10_annos_c,\n",
    "    top10_annos_TS_800=top10_annos_TS_800,\n",
    "    top10_annos_TS_800_p=top10_annos_TS_800_p,\n",
    "    top10_annos_TS_800_f=top10_annos_TS_800_f,\n",
    "    top10_annos_TS_800_c=top10_annos_TS_800_c,\n",
    "    )\n",
    "\n",
    "def get_set1_stats(df):\n",
    "\n",
    "    set1_results = []\n",
    "    for name,value in df.items():\n",
    "\n",
    "        set1_results.append(answer_set_1(value, title=name))\n",
    "        \n",
    "    set1_results = '\\n'.join(set1_results)\n",
    "\n",
    "    return fix_tables(set1_results)\n",
    "\n",
    "def fix_tables(results):\n",
    "    return results.replace(':-','--').replace('-:','--').replace('||', '|----|----|\\n| None | None |')"
   ]
  },
  {
   "cell_type": "code",
   "execution_count": null,
   "metadata": {
    "collapsed": false
   },
   "outputs": [],
   "source": [
    "ld_filtered_snps_interest_JOINED_ANNOS.Selected_PopPairwiseMSOT_Environm.head()"
   ]
  },
  {
   "cell_type": "code",
   "execution_count": null,
   "metadata": {
    "collapsed": false
   },
   "outputs": [],
   "source": [
    "pd.DataFrame"
   ]
  },
  {
   "cell_type": "code",
   "execution_count": null,
   "metadata": {
    "collapsed": false
   },
   "outputs": [],
   "source": [
    "old_headers = [\"snp_group\",\n",
    "               \"bed3_seq\",\n",
    "               \"gene_id\",\n",
    "               \"bed3_end\",\n",
    "               \"d_to_gene\"]\n",
    "grpby_snp = ld_filtered_snps_interest_JOINED_ANNOS.Selected_PopPairwiseMSOT_Environm.groupby(by=old_headers[1:])"
   ]
  },
  {
   "cell_type": "code",
   "execution_count": null,
   "metadata": {
    "collapsed": false
   },
   "outputs": [],
   "source": [
    "grpby_snp.groups"
   ]
  },
  {
   "cell_type": "code",
   "execution_count": null,
   "metadata": {
    "collapsed": false
   },
   "outputs": [],
   "source": [
    "group = grpby_snp.get_group(('Scaffold319', 'GFUI025081', 237766, 0))\n",
    "aspect = 'F'\n",
    "df = group.query(\"Aspect == '{aspect}'\".format(aspect=aspect))\n",
    "res = df.sort(\"Total Score\",ascending=False)[\"Name\"][:4]"
   ]
  },
  {
   "cell_type": "code",
   "execution_count": null,
   "metadata": {
    "collapsed": false
   },
   "outputs": [],
   "source": [
    "\";\".join(res.values)"
   ]
  },
  {
   "cell_type": "code",
   "execution_count": null,
   "metadata": {
    "collapsed": false
   },
   "outputs": [],
   "source": [
    "group"
   ]
  },
  {
   "cell_type": "code",
   "execution_count": null,
   "metadata": {
    "collapsed": true
   },
   "outputs": [],
   "source": [
    "def make_table_selected_snps_vs_LD_filter(anno_dfs):\n",
    "    \n",
    "    new_headers = [\"SNP group\",\n",
    "                   \"Gene\",\n",
    "                   \"Scaffold\",\n",
    "                   \"SNP Location\",\n",
    "                   \"Distance to Gene\",\n",
    "                   \"Top C\",\n",
    "                   \"Top P\",\n",
    "                   \"Top F\"]\n",
    "\n",
    "    old_headers = [\"snp_group\",\n",
    "                   \"bed3_seq\",\n",
    "                   \"gene_id\",\n",
    "                   \"bed3_end\",\n",
    "                   \"d_to_gene\"]\n",
    "\n",
    "\n",
    "    concat_df = concat_dfs(anno_dfs)\n",
    "\n",
    "\n",
    "    # group concat_df\n",
    "    groups = concat_df.groupby(by=old_headers)\n",
    "\n",
    "    # Collect row data\n",
    "    out_rows = []\n",
    "\n",
    "    for name,group in groups.groups.items():\n",
    "        out_rows.append(new_row_from_group(groups.get_group(name)))\n",
    "\n",
    "    # create final table\n",
    "    return pd.DataFrame(data=out_rows, index=None, columns=new_headers, dtype=None, copy=False)\n",
    "\n",
    "\n",
    "\n",
    "def new_row_from_group(group):\n",
    "\n",
    "    row  = get_old_header_values(group)\n",
    "    row[\"Top C\"] = get_top_3_terms(group=group,aspect=\"C\")\n",
    "    row[\"Top P\"] = get_top_3_terms(group=group,aspect=\"P\")\n",
    "    row[\"Top F\"] = get_top_3_terms(group=group,aspect=\"F\")\n",
    "\n",
    "    return pd.Series(row)\n",
    "\n",
    "def get_old_header_values(group):\n",
    "    vals = munch.Munch()\n",
    "\n",
    "    vals[\"SNP group\"] = group.snp_group.iloc[0]\n",
    "    vals[\"Scaffold\"] = group.bed3_seq.iloc[0]\n",
    "    vals[\"Gene\"] = group.gene_id.iloc[0]\n",
    "    vals[\"SNP Location\"] = group.bed3_end.iloc[0]\n",
    "    vals[\"Distance to Gene\"] = group.d_to_gene.iloc[0]\n",
    "\n",
    "    return vals\n",
    "\n",
    "\n",
    "def get_top_3_terms(group,aspect):\n",
    "    df = group.query(\"Aspect == '{aspect}'\".format(aspect=aspect))\n",
    "\n",
    "    return \";\".join(df.sort(\"Total Score\").Name[:3].values)\n",
    "\n",
    "def concat_dfs(dfs):\n",
    "\n",
    "    concat_df = pd.DataFrame()\n",
    "\n",
    "    # add snp-group name to rows and concat to new table\n",
    "    for name, df in dfs.items():\n",
    "\n",
    "        try:\n",
    "            df[\"snp_group\"] = name\n",
    "        except TypeError:\n",
    "            pass\n",
    "\n",
    "        concat_df = pd.concat(objs=[concat_df,df], axis=0, join='outer', join_axes=None, ignore_index=True, keys=None, levels=None, names=None, verify_integrity=False, copy=True)\n",
    "\n",
    "    return concat_df\n"
   ]
  },
  {
   "cell_type": "code",
   "execution_count": null,
   "metadata": {
    "collapsed": false
   },
   "outputs": [],
   "source": [
    "# pdb"
   ]
  },
  {
   "cell_type": "code",
   "execution_count": null,
   "metadata": {
    "collapsed": false
   },
   "outputs": [],
   "source": [
    "table1 = make_table_selected_snps_vs_LD_filter(ld_filtered_snps_interest_JOINED_ANNOS)"
   ]
  },
  {
   "cell_type": "code",
   "execution_count": null,
   "metadata": {
    "collapsed": false
   },
   "outputs": [],
   "source": [
    "table1.to_excel('/home/gus/src/repos/git/markdown-docs/manuscripts/Gloria-Soria/2015/ddRAD58/tables/ld_filtered_snps_interest_JOINED_ANNOS_grouped.xls',index=False)"
   ]
  },
  {
   "cell_type": "code",
   "execution_count": null,
   "metadata": {
    "collapsed": false
   },
   "outputs": [],
   "source": [
    "set1_stats = get_set1_stats(ld_filtered_snps_interest_JOINED_ANNOS)"
   ]
  },
  {
   "cell_type": "code",
   "execution_count": null,
   "metadata": {
    "collapsed": false
   },
   "outputs": [],
   "source": [
    "table1"
   ]
  },
  {
   "cell_type": "code",
   "execution_count": null,
   "metadata": {
    "collapsed": false
   },
   "outputs": [],
   "source": [
    "print set1_stats[:500]"
   ]
  },
  {
   "cell_type": "code",
   "execution_count": null,
   "metadata": {
    "collapsed": false
   },
   "outputs": [],
   "source": [
    "%clip set1_stats"
   ]
  },
  {
   "cell_type": "markdown",
   "metadata": {},
   "source": [
    "### Make table"
   ]
  },
  {
   "cell_type": "code",
   "execution_count": null,
   "metadata": {
    "collapsed": true
   },
   "outputs": [],
   "source": []
  },
  {
   "cell_type": "markdown",
   "metadata": {},
   "source": [
    "# =========================================================="
   ]
  },
  {
   "cell_type": "markdown",
   "metadata": {},
   "source": [
    "# =========================================================="
   ]
  },
  {
   "cell_type": "markdown",
   "metadata": {},
   "source": [
    "# =========================================================="
   ]
  },
  {
   "cell_type": "markdown",
   "metadata": {},
   "source": [
    "# =========================================================="
   ]
  },
  {
   "cell_type": "markdown",
   "metadata": {},
   "source": [
    "### LD chains"
   ]
  },
  {
   "cell_type": "code",
   "execution_count": null,
   "metadata": {
    "collapsed": false
   },
   "outputs": [],
   "source": [
    "from collections import deque\n",
    "\n",
    "class InstanceEqualityMixin(object):\n",
    "    \"\"\"Provides overrides to allow easy equivalence testing.\"\"\"\n",
    "\n",
    "    def __eq__(self, other):\n",
    "        \"\"\"Override the default Equals behavior\"\"\"\n",
    "        if isinstance(other, self.__class__):\n",
    "            return self.__dict__ == other.__dict__\n",
    "        return NotImplemented\n",
    "\n",
    "    def __ne__(self, other):\n",
    "        \"\"\"Define a non-equality test\"\"\"\n",
    "        if isinstance(other, self.__class__):\n",
    "            return not self.__eq__(other)\n",
    "        return NotImplemented\n",
    "\n",
    "    def __hash__(self):\n",
    "        \"\"\"Override the default hash behavior (that returns the id of the object)\"\"\"\n",
    "        return hash(tuple(sorted(self.__dict__.items())))\n",
    "\n",
    "\n",
    "\n",
    "class LDChain(InstanceEqualityMixin):\n",
    "    \"\"\"Collects and represents a set of SNP-pairs that can be chained together due to shared SNPs.\"\"\"\n",
    "    def __init__(self):\n",
    "        super(LDChain, self).__init__()\n",
    "        self.seq = None\n",
    "        self.coords = None\n",
    "        self.pairs = None\n",
    "\n",
    "    def __str__(self):\n",
    "        \n",
    "        return str(self.__dict__.items())\n",
    "\n",
    "\n",
    "    def _add_first_pair(self,seq,loc1,loc2):\n",
    "        self.seq = seq\n",
    "        self.coords = set([loc1, loc2])\n",
    "        min_loc = min(self.coords)\n",
    "        max_loc = max(self.coords)\n",
    "        self.pairs = set([(seq,min_loc,max_loc)])\n",
    "\n",
    "\n",
    "    def _add_another_pair(self,seq,loc1,loc2):\n",
    "\n",
    "        new_coords = set([loc1,loc2])\n",
    "\n",
    "        if new_coords & self.coords:\n",
    "            self.coords.update(new_coords)\n",
    "            min_loc = min(new_coords)\n",
    "            max_loc = max(new_coords)\n",
    "            self.pairs.add((seq,min_loc,max_loc))\n",
    "        else:\n",
    "            # print \"---\\nseq:{seq}\\nnew_coords:{new}\\nself.coords:{old}\".format(seq=seq,new=new_coords,old=self.coords)\n",
    "            pass\n",
    "\n",
    "    def add_pair(self, seq, loc1, loc2):\n",
    "        if self.pairs is None:\n",
    "            self._add_first_pair(seq=seq,loc1=loc1,loc2=loc2)\n",
    "        elif seq != self.seq:\n",
    "            return None\n",
    "        else:\n",
    "            self._add_another_pair(seq=seq,loc1=loc1,loc2=loc2)\n",
    "\n",
    "    def freeze(self):\n",
    "        self.pairs = frozenset(self.pairs)\n",
    "        self.coords = frozenset(self.coords)\n",
    "\n",
    "def chains_per_group(groups_obj):\n",
    "    \n",
    "    group_chains = munch.Munch()\n",
    "\n",
    "    for name in groups_obj.groups.keys():\n",
    "        group_chains[name] = get_chains(groups_obj.get_group(name))\n",
    "\n",
    "    return group_chains\n",
    "\n",
    "\n",
    "def get_chains(group):\n",
    "    chains = set()\n",
    "    \n",
    "    pairs = deque(group.apply(lambda x: (x.CHR_A, x.BP_A, x.BP_B),1))\n",
    "\n",
    "    rotate_n_times = len(pairs)\n",
    "\n",
    "    while rotate_n_times >= 0:\n",
    "        pairs.rotate()\n",
    "        rotate_n_times -= 1\n",
    "\n",
    "        chain = LDChain()\n",
    "        for pair in pairs:\n",
    "            chain.add_pair(seq=pair[0],loc1=pair[1],loc2=pair[2])\n",
    "\n",
    "        chain.freeze()\n",
    "        chains.add(chain)\n",
    "\n",
    "    chains = sorted(list(chains))\n",
    "    return chains\n",
    "\n"
   ]
  },
  {
   "cell_type": "code",
   "execution_count": null,
   "metadata": {
    "collapsed": false
   },
   "outputs": [],
   "source": [
    "grps = ld_filtered_snps_interest.Top10_InfectionOverall[[\"CHR_A\",\"BP_A\",\"BP_B\"]].groupby([\"CHR_A\"])\n",
    "grpsD = ld_filtered_snps_interest.Top10_InfectionOverall[[\"CHR_A\",\"BP_A\",\"BP_B\",\"BP_DELTA\"]].groupby([\"CHR_A\"])"
   ]
  },
  {
   "cell_type": "code",
   "execution_count": null,
   "metadata": {
    "collapsed": false
   },
   "outputs": [],
   "source": [
    "grps.groups"
   ]
  },
  {
   "cell_type": "code",
   "execution_count": null,
   "metadata": {
    "collapsed": false,
    "scrolled": false
   },
   "outputs": [],
   "source": [
    "group_chains = chains_per_group(grps)"
   ]
  },
  {
   "cell_type": "code",
   "execution_count": null,
   "metadata": {
    "collapsed": false
   },
   "outputs": [],
   "source": [
    "group_chains.Scaffold18[0] == group_chains.Scaffold18[1]"
   ]
  },
  {
   "cell_type": "code",
   "execution_count": null,
   "metadata": {
    "collapsed": false
   },
   "outputs": [],
   "source": [
    "print group_chains.Scaffold18[0]"
   ]
  },
  {
   "cell_type": "code",
   "execution_count": null,
   "metadata": {
    "collapsed": false,
    "scrolled": false
   },
   "outputs": [],
   "source": [
    "for chain in set(group_chains.Scaffold18):\n",
    "    print chain.__hash__()"
   ]
  },
  {
   "cell_type": "code",
   "execution_count": null,
   "metadata": {
    "collapsed": false
   },
   "outputs": [],
   "source": [
    "for chain in set(group_chains.Scaffold18):\n",
    "    print sorted(chain.__dict__.items())"
   ]
  },
  {
   "cell_type": "code",
   "execution_count": null,
   "metadata": {
    "collapsed": false
   },
   "outputs": [],
   "source": [
    "set(chains+[2])"
   ]
  },
  {
   "cell_type": "code",
   "execution_count": null,
   "metadata": {
    "collapsed": false
   },
   "outputs": [],
   "source": [
    "chain.__dict__.items()"
   ]
  },
  {
   "cell_type": "code",
   "execution_count": null,
   "metadata": {
    "collapsed": false
   },
   "outputs": [],
   "source": [
    "chain.coords"
   ]
  },
  {
   "cell_type": "code",
   "execution_count": null,
   "metadata": {
    "collapsed": false
   },
   "outputs": [],
   "source": [
    "g = nx.graph.Graph()"
   ]
  },
  {
   "cell_type": "code",
   "execution_count": null,
   "metadata": {
    "collapsed": false
   },
   "outputs": [],
   "source": [
    "# g.add_weighted_edges_from([(x[1],x[2], 10000./np.log2(abs(x[1]-x[2]))) for x in chain.pairs])\n",
    "g.add_edges_from([(x[1],x[2]) for x in chain.pairs])"
   ]
  },
  {
   "cell_type": "code",
   "execution_count": null,
   "metadata": {
    "collapsed": false
   },
   "outputs": [],
   "source": [
    "g.edges(data=1)"
   ]
  },
  {
   "cell_type": "code",
   "execution_count": null,
   "metadata": {
    "collapsed": false
   },
   "outputs": [],
   "source": [
    "# g.add_weighted_edges_from([[1580688, 755223, 508.78024931739105]])\n",
    "elabels = {(x,y):abs(x-y) for x,y in g.edges()}\n",
    "pos=nx.spring_layout(g,dim=2, iterations=50)\n",
    "nx.draw(g,pos=pos,with_labels=True, hold=True)\n",
    "nx.draw_networkx_edge_labels(g,pos=pos,edge_labels=elabels);"
   ]
  },
  {
   "cell_type": "code",
   "execution_count": null,
   "metadata": {
    "collapsed": false
   },
   "outputs": [],
   "source": [
    "list(nx.connected.connected_component_subgraphs(g))"
   ]
  },
  {
   "cell_type": "code",
   "execution_count": null,
   "metadata": {
    "collapsed": false
   },
   "outputs": [],
   "source": [
    "\n",
    "t = lambda x: abs(x[0]-x[1])\n",
    "u = lambda x: 1./np.log10(abs(x[0]-x[1]))\n",
    "xs = map(t,g.edges())\n",
    "ys = map(u,g.edges())\n",
    "plt.scatter(xs,ys);"
   ]
  },
  {
   "cell_type": "code",
   "execution_count": null,
   "metadata": {
    "collapsed": true
   },
   "outputs": [],
   "source": [
    "mpld3.disable_notebook()"
   ]
  },
  {
   "cell_type": "code",
   "execution_count": null,
   "metadata": {
    "collapsed": false
   },
   "outputs": [],
   "source": [
    "snps_interest.Top05_InfectionOverall"
   ]
  },
  {
   "cell_type": "code",
   "execution_count": null,
   "metadata": {
    "collapsed": true
   },
   "outputs": [],
   "source": []
  }
 ],
 "metadata": {
  "kernelspec": {
   "display_name": "Python 2",
   "language": "python",
   "name": "python2"
  },
  "language_info": {
   "codemirror_mode": {
    "name": "ipython",
    "version": 2
   },
   "file_extension": ".py",
   "mimetype": "text/x-python",
   "name": "python",
   "nbconvert_exporter": "python",
   "pygments_lexer": "ipython2",
   "version": "2.7.9"
  }
 },
 "nbformat": 4,
 "nbformat_minor": 0
}
