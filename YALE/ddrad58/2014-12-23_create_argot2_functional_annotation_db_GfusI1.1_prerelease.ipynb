{
 "cells": [
  {
   "cell_type": "markdown",
   "metadata": {},
   "source": [
    "# Purpose:\n",
    "\n",
    "2014-12-23\n",
    "\n",
    "Record unpacking and initial setup of the _ARGOT2_ `Gff` functional annotation for `GfusI1.1` gene-build (pre-release)."
   ]
  },
  {
   "cell_type": "markdown",
   "metadata": {},
   "source": [
    "# Implementation:"
   ]
  },
  {
   "cell_type": "markdown",
   "metadata": {},
   "source": [
    "## Imports:"
   ]
  },
  {
   "cell_type": "code",
   "execution_count": null,
   "metadata": {
    "collapsed": true
   },
   "outputs": [],
   "source": [
    "# imports\n",
    "#from xx import yy"
   ]
  },
  {
   "cell_type": "markdown",
   "metadata": {},
   "source": [
    "## File paths:"
   ]
  },
  {
   "cell_type": "code",
   "execution_count": 13,
   "metadata": {
    "collapsed": true
   },
   "outputs": [],
   "source": [
    "# define paths to files\n",
    "\n",
    "base_dir = \"/home/gus/remote_mounts/louise/data/genomes/glossina_fuscipes/annotations/functional/GfusI1.1_pre/argot2_out\"\n"
   ]
  },
  {
   "cell_type": "markdown",
   "metadata": {},
   "source": [
    "# Unpacking the multiple results files: "
   ]
  },
  {
   "cell_type": "markdown",
   "metadata": {},
   "source": [
    "#### Directory contents:"
   ]
  },
  {
   "cell_type": "code",
   "execution_count": 14,
   "metadata": {
    "collapsed": false
   },
   "outputs": [
    {
     "name": "stdout",
     "output_type": "stream",
     "text": [
      "total 2360\r\n",
      "drwxr-xr-x 1 12171 10147   2048 Dec 23 12:13 .\r\n",
      "drwxr-xr-x 1 12171 10147   2048 Dec 23 15:46 ..\r\n",
      "-rw-r----- 1 12171 10147 239436 Dec 23 11:27 argot0.zip\r\n",
      "-rw-r----- 1 12171 10147 239436 Dec 23 11:28 argot1.zip\r\n",
      "-rw-r----- 1 12171 10147 217743 Dec 23 11:31 argot2.zip\r\n",
      "-rw-r----- 1 12171 10147 240551 Dec 23 11:30 argot3.zip\r\n",
      "-rw-r----- 1 12171 10147 225075 Dec 23 11:31 argot4.zip\r\n",
      "-rw-r----- 1 12171 10147 239255 Dec 23 11:32 argot5.zip\r\n",
      "-rw-r----- 1 12171 10147 239313 Dec 23 11:32 argot6.zip\r\n",
      "-rw-r----- 1 12171 10147 251318 Dec 23 11:33 argot7.zip\r\n",
      "-rw-r----- 1 12171 10147 248296 Dec 23 11:34 argot8.zip\r\n",
      "-rw-r----- 1 12171 10147 246243 Dec 23 11:34 argot9.zip\r\n"
     ]
    }
   ],
   "source": [
    "!ls -la $base_dir"
   ]
  },
  {
   "cell_type": "markdown",
   "metadata": {},
   "source": [
    "#### Unzip files:"
   ]
  },
  {
   "cell_type": "code",
   "execution_count": 31,
   "metadata": {
    "collapsed": false
   },
   "outputs": [],
   "source": [
    "%%bash -s \"$base_dir\"\n",
    "\n",
    "cd $1\n",
    "\n",
    "for i  in *.zip\n",
    "do\n",
    "unzip -p ${i} | cat - > ${i}_ts150.part.tsv\n",
    "done"
   ]
  },
  {
   "cell_type": "code",
   "execution_count": 32,
   "metadata": {
    "collapsed": false
   },
   "outputs": [
    {
     "name": "stdout",
     "output_type": "stream",
     "text": [
      "total 9364\r\n",
      "drwxr-xr-x 1 12171 10147   2048 Dec 23 15:55 .\r\n",
      "drwxr-xr-x 1 12171 10147   2048 Dec 23 15:46 ..\r\n",
      "-rw-r----- 1 12171 10147 239436 Dec 23 11:27 argot0.zip\r\n",
      "-rw-r--r-- 1 12171 10147 720850 Dec 23 15:55 argot0.zip_ts150.part.tsv\r\n",
      "-rw-r----- 1 12171 10147 239436 Dec 23 11:28 argot1.zip\r\n",
      "-rw-r--r-- 1 12171 10147 720850 Dec 23 15:55 argot1.zip_ts150.part.tsv\r\n",
      "-rw-r----- 1 12171 10147 217743 Dec 23 11:31 argot2.zip\r\n",
      "-rw-r--r-- 1 12171 10147 647424 Dec 23 15:55 argot2.zip_ts150.part.tsv\r\n",
      "-rw-r----- 1 12171 10147 240551 Dec 23 11:30 argot3.zip\r\n",
      "-rw-r--r-- 1 12171 10147 718125 Dec 23 15:55 argot3.zip_ts150.part.tsv\r\n",
      "-rw-r----- 1 12171 10147 225075 Dec 23 11:31 argot4.zip\r\n",
      "-rw-r--r-- 1 12171 10147 677720 Dec 23 15:55 argot4.zip_ts150.part.tsv\r\n",
      "-rw-r----- 1 12171 10147 239255 Dec 23 11:32 argot5.zip\r\n",
      "-rw-r--r-- 1 12171 10147 719621 Dec 23 15:55 argot5.zip_ts150.part.tsv\r\n",
      "-rw-r----- 1 12171 10147 239313 Dec 23 11:32 argot6.zip\r\n",
      "-rw-r--r-- 1 12171 10147 720663 Dec 23 15:55 argot6.zip_ts150.part.tsv\r\n",
      "-rw-r----- 1 12171 10147 251318 Dec 23 11:33 argot7.zip\r\n",
      "-rw-r--r-- 1 12171 10147 748211 Dec 23 15:55 argot7.zip_ts150.part.tsv\r\n",
      "-rw-r----- 1 12171 10147 248296 Dec 23 11:34 argot8.zip\r\n",
      "-rw-r--r-- 1 12171 10147 744297 Dec 23 15:55 argot8.zip_ts150.part.tsv\r\n",
      "-rw-r----- 1 12171 10147 246243 Dec 23 11:34 argot9.zip\r\n",
      "-rw-r--r-- 1 12171 10147 740800 Dec 23 15:55 argot9.zip_ts150.part.tsv\r\n"
     ]
    }
   ],
   "source": [
    "!ls -la $base_dir"
   ]
  },
  {
   "cell_type": "markdown",
   "metadata": {},
   "source": [
    "#### File inspection:"
   ]
  },
  {
   "cell_type": "code",
   "execution_count": 34,
   "metadata": {
    "collapsed": false
   },
   "outputs": [
    {
     "name": "stdout",
     "output_type": "stream",
     "text": [
      "==> /home/gus/remote_mounts/louise/data/genomes/glossina_fuscipes/annotations/functional/GfusI1.1_pre/argot2_out/argot0.zip_ts150.part.tsv <==\r\n",
      "Sequence\tAspect\tGO ID\tName\tTotal Score\tInternal Confidence\tInformation Content\r\n",
      "GFUI034947-PA\tP\tGO:0006508\tproteolysis\t270.3134474341528\t0.49654300438237153\t8.247696423191604\r\n",
      "GFUI035874-PA\tF\tGO:0005515\tprotein binding\t529.038455619816\t0.4999998060782681\t5.4715824234708075\r\n",
      "GFUI033625-PA\tP\tGO:0005980\tglycogen catabolic process\t307.75825062162494\t0.28459674752781017\t13.424450073374585\r\n",
      "GFUI033625-PA\tF\tGO:0004134\t4-alpha-glucanotransferase activity\t159.51325218068968\t0.17706312949883357\t10.153643389175885\r\n",
      "\r\n",
      "==> /home/gus/remote_mounts/louise/data/genomes/glossina_fuscipes/annotations/functional/GfusI1.1_pre/argot2_out/argot1.zip_ts150.part.tsv <==\r\n",
      "Sequence\tAspect\tGO ID\tName\tTotal Score\tInternal Confidence\tInformation Content\r\n",
      "GFUI034947-PA\tP\tGO:0006508\tproteolysis\t270.3134474341528\t0.49654300438237153\t8.247696423191604\r\n",
      "GFUI035874-PA\tF\tGO:0005515\tprotein binding\t529.038455619816\t0.4999998060782681\t5.4715824234708075\r\n",
      "GFUI033625-PA\tP\tGO:0005980\tglycogen catabolic process\t307.75825062162494\t0.28459674752781017\t13.424450073374585\r\n",
      "GFUI033625-PA\tF\tGO:0004134\t4-alpha-glucanotransferase activity\t159.51325218068968\t0.17706312949883357\t10.153643389175885\r\n",
      "\r\n",
      "==> /home/gus/remote_mounts/louise/data/genomes/glossina_fuscipes/annotations/functional/GfusI1.1_pre/argot2_out/argot2.zip_ts150.part.tsv <==\r\n",
      "Sequence\tAspect\tGO ID\tName\tTotal Score\tInternal Confidence\tInformation Content\r\n",
      "GFUI040364-PA\tC\tGO:0035861\tsite of double-strand break\t187.4679761124546\t0.2857141909892707\t13.241230972692264\r\n",
      "GFUI040364-PA\tC\tGO:0005634\tnucleus\t243.19510773543198\t0.428571286483906\t5.7257827801095225\r\n",
      "GFUI042341-PA\tP\tGO:0006200\tATP catabolic process\t198.27249456207008\t0.2659416190657256\t8.421864292885399\r\n",
      "GFUI042341-PA\tC\tGO:0005765\tlysosomal membrane\t266.6548135758987\t0.26900193641709563\t11.05968764390514\r\n",
      "\r\n",
      "==> /home/gus/remote_mounts/louise/data/genomes/glossina_fuscipes/annotations/functional/GfusI1.1_pre/argot2_out/argot3.zip_ts150.part.tsv <==\r\n",
      "Sequence\tAspect\tGO ID\tName\tTotal Score\tInternal Confidence\tInformation Content\r\n",
      "GFUI050397-PA\tP\tGO:0007059\tchromosome segregation\t248.1372982850318\t0.10476892481287174\t10.106523080379617\r\n",
      "GFUI050397-PA\tF\tGO:0003823\tantigen binding\t184.89877738710294\t0.1591572363533012\t9.417645652551272\r\n",
      "GFUI050397-PA\tF\tGO:0004722\tprotein serine/threonine phosphatase activity\t187.53487042740437\t0.188228322201395\t10.757431695105568\r\n",
      "GFUI050397-PA\tF\tGO:0008601\tprotein phosphatase type 2A regulator activity\t474.8983682109389\t0.19187085769725495\t11.573255960519617\r\n",
      "\r\n",
      "==> /home/gus/remote_mounts/louise/data/genomes/glossina_fuscipes/annotations/functional/GfusI1.1_pre/argot2_out/argot4.zip_ts150.part.tsv <==\r\n",
      "Sequence\tAspect\tGO ID\tName\tTotal Score\tInternal Confidence\tInformation Content\r\n",
      "GFUI031095-PA\tP\tGO:0055114\toxidation-reduction process\t324.59356307529293\t0.49673173010383753\t6.830875855612293\r\n",
      "GFUI030612-PA\tF\tGO:0042302\tstructural constituent of cuticle\t848.0172701588227\t0.9999998716518972\t10.884143568042058\r\n",
      "GFUI032101-PA\tC\tGO:0005634\tnucleus\t222.47676411093954\t0.6742889593467198\t5.7257827801095225\r\n",
      "GFUI030841-PA\tP\tGO:0042391\tregulation of membrane potential\t220.92395181235574\t0.12510353596995805\t12.845260576136708\r\n",
      "\r\n",
      "==> /home/gus/remote_mounts/louise/data/genomes/glossina_fuscipes/annotations/functional/GfusI1.1_pre/argot2_out/argot5.zip_ts150.part.tsv <==\r\n",
      "Sequence\tAspect\tGO ID\tName\tTotal Score\tInternal Confidence\tInformation Content\r\n",
      "GFUI008640-PA\tC\tGO:0005739\tmitochondrion\t171.70470681076424\t0.43337504221113876\t5.08530293536577\r\n",
      "GFUI007570-PA\tP\tGO:0050954\tsensory perception of mechanical stimulus\t221.04329497026646\t0.3333327806221471\t14.342113539988578\r\n",
      "GFUI007570-PA\tP\tGO:0019230\tproprioception\t283.11438208546406\t0.3333327806221471\t18.369509271201277\r\n",
      "GFUI007570-PA\tP\tGO:0042330\ttaxis\t163.40505074583007\t0.3333327806221471\t10.60232465947464\r\n",
      "\r\n",
      "==> /home/gus/remote_mounts/louise/data/genomes/glossina_fuscipes/annotations/functional/GfusI1.1_pre/argot2_out/argot6.zip_ts150.part.tsv <==\r\n",
      "Sequence\tAspect\tGO ID\tName\tTotal Score\tInternal Confidence\tInformation Content\r\n",
      "GFUI018999-PA\tF\tGO:0003723\tRNA binding\t172.43833188729334\t0.44737538055618437\t4.494762898074131\r\n",
      "GFUI018916-PA\tP\tGO:0007528\tneuromuscular junction development\t199.06108818273754\t0.09440941004785693\t15.20544168282807\r\n",
      "GFUI018916-PA\tF\tGO:0005515\tprotein binding\t2703.244545785916\t0.9500995524464927\t5.4715824234708075\r\n",
      "GFUI018916-PA\tC\tGO:0042734\tpresynaptic membrane\t197.77790644146933\t0.10322654993674953\t12.895883258390674\r\n",
      "\r\n",
      "==> /home/gus/remote_mounts/louise/data/genomes/glossina_fuscipes/annotations/functional/GfusI1.1_pre/argot2_out/argot7.zip_ts150.part.tsv <==\r\n",
      "Sequence\tAspect\tGO ID\tName\tTotal Score\tInternal Confidence\tInformation Content\r\n",
      "GFUI046350-PA\tP\tGO:0009405\tpathogenesis\t315.8202523729988\t0.9999967485690565\t10.268744187572409\r\n",
      "GFUI047578-PA\tC\tGO:0005634\tnucleus\t377.9311829041577\t0.9999993939875127\t5.7257827801095225\r\n",
      "GFUI045788-PA\tP\tGO:0031532\tactin cytoskeleton reorganization\t311.86220764002695\t0.30703479508288606\t14.59268571549835\r\n",
      "GFUI045788-PA\tP\tGO:0007160\tcell-matrix adhesion\t286.51877139971856\t0.30703479508288606\t13.406810339200533\r\n",
      "\r\n",
      "==> /home/gus/remote_mounts/louise/data/genomes/glossina_fuscipes/annotations/functional/GfusI1.1_pre/argot2_out/argot8.zip_ts150.part.tsv <==\r\n",
      "Sequence\tAspect\tGO ID\tName\tTotal Score\tInternal Confidence\tInformation Content\r\n",
      "GFUI015556-PA\tP\tGO:0006911\tphagocytosis, engulfment\t606.0133720874678\t0.1561117484180593\t15.98400100766834\r\n",
      "GFUI015556-PA\tP\tGO:0097374\tsensory neuron axon guidance\t153.67875283346544\t0.07507254937215682\t18.197659014274617\r\n",
      "GFUI015556-PA\tC\tGO:0005764\tlysosome\t1681.5970491205867\t0.675200087643221\t10.254826697044543\r\n",
      "GFUI015556-PA\tC\tGO:0031416\tNatB complex\t590.7463219380659\t0.16234842165734314\t16.17356692968746\r\n",
      "\r\n",
      "==> /home/gus/remote_mounts/louise/data/genomes/glossina_fuscipes/annotations/functional/GfusI1.1_pre/argot2_out/argot9.zip_ts150.part.tsv <==\r\n",
      "Sequence\tAspect\tGO ID\tName\tTotal Score\tInternal Confidence\tInformation Content\r\n",
      "GFUI021509-PA\tP\tGO:0006406\tmRNA export from nucleus\t174.1269111675248\t0.49999928594479653\t14.534322314721107\r\n",
      "GFUI024252-PA\tC\tGO:0005634\tnucleus\t282.0865166458613\t0.9999991880826427\t5.7257827801095225\r\n",
      "GFUI026210-PA\tP\tGO:0036092\tphosphatidylinositol-3-phosphate biosynthetic process\t163.74863117249797\t0.1305667303990702\t15.913666754357186\r\n",
      "GFUI026210-PA\tF\tGO:0016303\t1-phosphatidylinositol-3-kinase activity\t367.96787790890494\t0.24907344425717692\t12.825880088334443\r\n"
     ]
    }
   ],
   "source": [
    "!head -n 5 {base_dir}/*.part.tsv"
   ]
  },
  {
   "cell_type": "markdown",
   "metadata": {},
   "source": [
    "# Fusing results files:"
   ]
  },
  {
   "cell_type": "code",
   "execution_count": 41,
   "metadata": {
    "collapsed": false
   },
   "outputs": [],
   "source": [
    "%%bash -s \"$base_dir\"\n",
    "\n",
    "cd $1\n",
    "\n",
    "awk 'FNR==1 && NR!=1{next;}{print}' *.part.tsv > argot_functional_annotations_ts150.tsv"
   ]
  },
  {
   "cell_type": "code",
   "execution_count": 42,
   "metadata": {
    "collapsed": false
   },
   "outputs": [
    {
     "name": "stdout",
     "output_type": "stream",
     "text": [
      "Sequence\tAspect\tGO ID\tName\tTotal Score\tInternal Confidence\tInformation Content\r\n",
      "GFUI034947-PA\tP\tGO:0006508\tproteolysis\t270.3134474341528\t0.49654300438237153\t8.247696423191604\r\n",
      "GFUI035874-PA\tF\tGO:0005515\tprotein binding\t529.038455619816\t0.4999998060782681\t5.4715824234708075\r\n",
      "GFUI033625-PA\tP\tGO:0005980\tglycogen catabolic process\t307.75825062162494\t0.28459674752781017\t13.424450073374585\r\n",
      "GFUI033625-PA\tF\tGO:0004134\t4-alpha-glucanotransferase activity\t159.51325218068968\t0.17706312949883357\t10.153643389175885\r\n"
     ]
    }
   ],
   "source": [
    "!head -n 5 {base_dir}/argot_functional_annotations_ts150.tsv"
   ]
  }
 ],
 "metadata": {
  "kernelspec": {
   "display_name": "IPython (Python 2)",
   "name": "python2"
  },
  "language_info": {
   "codemirror_mode": {
    "name": "ipython",
    "version": 2
   },
   "mimetype": "text/x-python",
   "name": "python",
   "pygments_lexer": "ipython2"
  },
  "signature": "sha256:cf66bf7ed28171d0be9ec225fc09c3868e3caf21a8e9d2a004f825b26d14572f"
 },
 "nbformat": 4,
 "nbformat_minor": 0
}