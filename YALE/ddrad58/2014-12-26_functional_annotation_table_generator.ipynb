{
 "cells": [
  {
   "cell_type": "markdown",
   "metadata": {},
   "source": [
    "# Purpose:\n",
    "\n",
    "2014-12-26 (Friday)\n",
    "\n",
    "Create code to make tables with info from `argot2` annotations for all genes in a gene-list."
   ]
  },
  {
   "cell_type": "markdown",
   "metadata": {},
   "source": [
    "# Implementation:"
   ]
  },
  {
   "cell_type": "markdown",
   "metadata": {},
   "source": [
    "## Imports:"
   ]
  },
  {
   "cell_type": "code",
   "execution_count": 79,
   "metadata": {
    "collapsed": false
   },
   "outputs": [],
   "source": [
    "# imports\n",
    "from collections import defaultdict\n",
    "\n",
    "import pandas as pd\n",
    "\n",
    "import munch\n",
    "\n",
    "from IPython.display import display, HTML\n",
    "\n",
    "from spartan.utils.annotations.ensembl.gff3 import parse_gff3_attributes\n",
    "from spartan.utils.files import tableFile2namedTuple"
   ]
  },
  {
   "cell_type": "markdown",
   "metadata": {},
   "source": [
    "## File paths:"
   ]
  },
  {
   "cell_type": "code",
   "execution_count": 2,
   "metadata": {
    "collapsed": true
   },
   "outputs": [],
   "source": [
    "# define paths to files\n",
    "bpth = \"/home/gus/remote_mounts/louise/data/\"\n",
    "\n",
    "## basic genome files\n",
    "fanno = bpth + \"genomes/glossina_fuscipes/annotations/functional/GfusI1.1_pre/argot2_out/argot_functional_annotations_ts150.h5\"\n",
    "\n",
    "## project specific files\n",
    "top1_environment = bpth + \"projects/ddrad58/SNPs_of_interest/genes_near_SNPs/tsetseFINAL_14Oct2014_f2_53_v_GfusI1.1.window.5000.top1_env.tsv\"\n",
    "top1_infection = bpth + \"projects/ddrad58/SNPs_of_interest/genes_near_SNPs/tsetseFINAL_14Oct2014_f2_53_v_GfusI1.1.window.5000.top1_infection.tsv\"\n",
    "\n",
    "top5_environment = bpth + \"projects/ddrad58/SNPs_of_interest/genes_near_SNPs/tsetseFINAL_14Oct2014_f2_53_v_GfusI1.1.window.5000.top5_env.tsv\"\n",
    "top5_infection = bpth + \"projects/ddrad58/SNPs_of_interest/genes_near_SNPs/tsetseFINAL_14Oct2014_f2_53_v_GfusI1.1.window.5000.top5_infection.tsv\"\n",
    "\n"
   ]
  },
  {
   "cell_type": "markdown",
   "metadata": {},
   "source": [
    "## Set up main data variables:"
   ]
  },
  {
   "cell_type": "markdown",
   "metadata": {},
   "source": [
    "### Set up annotation database:"
   ]
  },
  {
   "cell_type": "code",
   "execution_count": 3,
   "metadata": {
    "collapsed": true
   },
   "outputs": [],
   "source": [
    "argot2 = pd.read_hdf(path_or_buf=fanno, key='dataframe')"
   ]
  },
  {
   "cell_type": "code",
   "execution_count": 4,
   "metadata": {
    "collapsed": false
   },
   "outputs": [
    {
     "data": {
      "text/html": [
       "<div style=\"max-height:1000px;max-width:1500px;overflow:auto;\">\n",
       "<table border=\"1\" class=\"dataframe\">\n",
       "  <thead>\n",
       "    <tr style=\"text-align: right;\">\n",
       "      <th></th>\n",
       "      <th>Sequence</th>\n",
       "      <th>Aspect</th>\n",
       "      <th>GO ID</th>\n",
       "      <th>Name</th>\n",
       "      <th>Total Score</th>\n",
       "      <th>Internal Confidence</th>\n",
       "      <th>Information Content</th>\n",
       "    </tr>\n",
       "  </thead>\n",
       "  <tbody>\n",
       "    <tr>\n",
       "      <th>0</th>\n",
       "      <td> GFUI034947-PA</td>\n",
       "      <td> P</td>\n",
       "      <td> GO:0006508</td>\n",
       "      <td>                          proteolysis</td>\n",
       "      <td> 270.313447</td>\n",
       "      <td> 0.496543</td>\n",
       "      <td>  8.247696</td>\n",
       "    </tr>\n",
       "    <tr>\n",
       "      <th>1</th>\n",
       "      <td> GFUI035874-PA</td>\n",
       "      <td> F</td>\n",
       "      <td> GO:0005515</td>\n",
       "      <td>                      protein binding</td>\n",
       "      <td> 529.038456</td>\n",
       "      <td> 0.500000</td>\n",
       "      <td>  5.471582</td>\n",
       "    </tr>\n",
       "    <tr>\n",
       "      <th>2</th>\n",
       "      <td> GFUI033625-PA</td>\n",
       "      <td> P</td>\n",
       "      <td> GO:0005980</td>\n",
       "      <td>           glycogen catabolic process</td>\n",
       "      <td> 307.758251</td>\n",
       "      <td> 0.284597</td>\n",
       "      <td> 13.424450</td>\n",
       "    </tr>\n",
       "    <tr>\n",
       "      <th>3</th>\n",
       "      <td> GFUI033625-PA</td>\n",
       "      <td> F</td>\n",
       "      <td> GO:0004134</td>\n",
       "      <td>  4-alpha-glucanotransferase activity</td>\n",
       "      <td> 159.513252</td>\n",
       "      <td> 0.177063</td>\n",
       "      <td> 10.153643</td>\n",
       "    </tr>\n",
       "    <tr>\n",
       "      <th>4</th>\n",
       "      <td> GFUI033625-PA</td>\n",
       "      <td> F</td>\n",
       "      <td> GO:0004135</td>\n",
       "      <td> amylo-alpha-1,6-glucosidase activity</td>\n",
       "      <td> 184.352303</td>\n",
       "      <td> 0.177063</td>\n",
       "      <td> 11.734746</td>\n",
       "    </tr>\n",
       "  </tbody>\n",
       "</table>\n",
       "</div>"
      ],
      "text/plain": [
       "        Sequence Aspect       GO ID                                  Name  \\\n",
       "0  GFUI034947-PA      P  GO:0006508                           proteolysis   \n",
       "1  GFUI035874-PA      F  GO:0005515                       protein binding   \n",
       "2  GFUI033625-PA      P  GO:0005980            glycogen catabolic process   \n",
       "3  GFUI033625-PA      F  GO:0004134   4-alpha-glucanotransferase activity   \n",
       "4  GFUI033625-PA      F  GO:0004135  amylo-alpha-1,6-glucosidase activity   \n",
       "\n",
       "   Total Score  Internal Confidence  Information Content  \n",
       "0   270.313447             0.496543             8.247696  \n",
       "1   529.038456             0.500000             5.471582  \n",
       "2   307.758251             0.284597            13.424450  \n",
       "3   159.513252             0.177063            10.153643  \n",
       "4   184.352303             0.177063            11.734746  "
      ]
     },
     "execution_count": 4,
     "metadata": {},
     "output_type": "execute_result"
    }
   ],
   "source": [
    "argot2.head()"
   ]
  },
  {
   "cell_type": "markdown",
   "metadata": {},
   "source": [
    "### Set up gene/SNP relationship data:"
   ]
  },
  {
   "cell_type": "markdown",
   "metadata": {},
   "source": [
    "#### Function to create dictionary-based retrieval object for gene/SNP data:"
   ]
  },
  {
   "cell_type": "code",
   "execution_count": 33,
   "metadata": {
    "collapsed": false
   },
   "outputs": [],
   "source": [
    "def bed3_v_gff3_window_by_gff3_ID(bedtools_window_out):\n",
    "    \"\"\"\n",
    "    Returns dictionary-based retrieval object for Bedtools result from 3-field BED format records vs\n",
    "    GFF3 format records data grouped by the GFF3 features.\n",
    "    \"\"\"\n",
    "    headers = [\"bed3_seq\",\n",
    "               \"bed3_start\",\n",
    "               \"bed3_end\",\n",
    "               \"gff3_seq\",\n",
    "               \"gff3_source\",\n",
    "               \"gff3_type\",\n",
    "               \"gff3_start\",\n",
    "               \"gff3_end\",\n",
    "               \"gff3_score\",\n",
    "               \"gff3_strand\",\n",
    "               \"gff3_phase\",\n",
    "               \"gff3_attributes\",]\n",
    "    \n",
    "    table = tableFile2namedTuple(bedtools_window_out, \n",
    "                                 sep='\\t', \n",
    "                                 headers=headers)\n",
    "    \n",
    "    Tree = lambda: defaultdict(Tree)\n",
    "    data = Tree()\n",
    "    \n",
    "    for row in table:\n",
    "        gff3_rec = parse_gff3_attributes(row.gff3_attributes)['ID']\n",
    "\n",
    "        data[gff3_rec]['info'].setdefault('seq', row.gff3_seq)\n",
    "        data[gff3_rec]['info'].setdefault('source', row.gff3_source)\n",
    "        data[gff3_rec]['info'].setdefault('type', row.gff3_type)\n",
    "        data[gff3_rec]['info'].setdefault('start', row.gff3_start)\n",
    "        data[gff3_rec]['info'].setdefault('end', row.gff3_end)\n",
    "        data[gff3_rec]['info'].setdefault('score', row.gff3_score)\n",
    "        data[gff3_rec]['info'].setdefault('strand', row.gff3_strand)\n",
    "        data[gff3_rec]['info'].setdefault('phase', row.gff3_phase)\n",
    "        data[gff3_rec]['info'].setdefault('attributes', row.gff3_attributes)\n",
    "\n",
    "        bed3_hit = dict(seq = row.bed3_seq, \n",
    "                        start = row.bed3_start,\n",
    "                        end = row.bed3_end)\n",
    "\n",
    "        try:\n",
    "            data[gff3_rec]['bed3_hits'].append(bed3_hit)\n",
    "\n",
    "        except AttributeError:\n",
    "            data[gff3_rec]['bed3_hits'] = []\n",
    "            data[gff3_rec]['bed3_hits'].append(bed3_hit)\n",
    "\n",
    "    return munch.munchify(data)"
   ]
  },
  {
   "cell_type": "code",
   "execution_count": 51,
   "metadata": {
    "collapsed": false
   },
   "outputs": [],
   "source": [
    "top5_environment_search = bed3_v_gff3_window_by_gff3_ID(top5_environment)"
   ]
  },
  {
   "cell_type": "code",
   "execution_count": 35,
   "metadata": {
    "collapsed": false
   },
   "outputs": [
    {
     "data": {
      "text/plain": [
       "83"
      ]
     },
     "execution_count": 35,
     "metadata": {},
     "output_type": "execute_result"
    }
   ],
   "source": [
    "len(top5_environment_search)"
   ]
  },
  {
   "cell_type": "code",
   "execution_count": 36,
   "metadata": {
    "collapsed": false
   },
   "outputs": [
    {
     "data": {
      "text/plain": [
       "['GFUI003362', 'GFUI017236', 'GFUI022267']"
      ]
     },
     "execution_count": 36,
     "metadata": {},
     "output_type": "execute_result"
    }
   ],
   "source": [
    "top5_environment_search.keys()[:3]"
   ]
  },
  {
   "cell_type": "code",
   "execution_count": 37,
   "metadata": {
    "collapsed": false
   },
   "outputs": [
    {
     "data": {
      "text/plain": [
       "[Munch(end='164021', seq='Scaffold109', start='164020')]"
      ]
     },
     "execution_count": 37,
     "metadata": {},
     "output_type": "execute_result"
    }
   ],
   "source": [
    "top5_environment_search['GFUI003362']['bed3_hits']"
   ]
  },
  {
   "cell_type": "code",
   "execution_count": 43,
   "metadata": {
    "collapsed": false
   },
   "outputs": [
    {
     "data": {
      "text/plain": [
       "[Munch(end='164021', seq='Scaffold109', start='164020')]"
      ]
     },
     "execution_count": 43,
     "metadata": {},
     "output_type": "execute_result"
    }
   ],
   "source": [
    "top5_environment_search['GFUI003362'].bed3_hits"
   ]
  },
  {
   "cell_type": "markdown",
   "metadata": {},
   "source": [
    "## Create tables for our genes that reference the SNP location they were associated with:"
   ]
  },
  {
   "cell_type": "code",
   "execution_count": 47,
   "metadata": {
    "collapsed": true
   },
   "outputs": [],
   "source": [
    "class ListTable(list):\n",
    "    \"\"\" Overridden list class which takes a 2-dimensional list of \n",
    "        the form [[1,2,3],[4,5,6]], and renders an HTML Table in \n",
    "        IPython Notebook. \"\"\"\n",
    "    \n",
    "    def _repr_html_(self):\n",
    "        html = [\"<table>\"]\n",
    "        for index, row in enumerate(self):\n",
    "            html.append(\"<tr>\")\n",
    "            \n",
    "            for col in row:\n",
    "                # if header, format as such\n",
    "                if index == 0:\n",
    "                    html.append(\"<th>{0}</th>\".format(col))\n",
    "                else:\n",
    "                    html.append(\"<td>{0}</td>\".format(col))\n",
    "            \n",
    "            html.append(\"</tr>\")\n",
    "        html.append(\"</table>\")\n",
    "        return ''.join(html)"
   ]
  },
  {
   "cell_type": "code",
   "execution_count": 52,
   "metadata": {
    "collapsed": false
   },
   "outputs": [],
   "source": [
    "# load SNP search data\n",
    "top1_environment = bed3_v_gff3_window_by_gff3_ID(top1_environment)\n",
    "top1_infection   = bed3_v_gff3_window_by_gff3_ID(top1_infection)\n",
    "\n",
    "top5_environment = bed3_v_gff3_window_by_gff3_ID(top5_environment)\n",
    "top5_infection   = bed3_v_gff3_window_by_gff3_ID(top5_infection)"
   ]
  },
  {
   "cell_type": "code",
   "execution_count": 87,
   "metadata": {
    "collapsed": false
   },
   "outputs": [
    {
     "data": {
      "text/plain": [
       "[Munch(end='164021', seq='Scaffold109', start='164020')]"
      ]
     },
     "execution_count": 87,
     "metadata": {},
     "output_type": "execute_result"
    }
   ],
   "source": [
    "top5_environment.GFUI003362.bed3_hits"
   ]
  },
  {
   "cell_type": "code",
   "execution_count": 55,
   "metadata": {
    "collapsed": false
   },
   "outputs": [],
   "source": [
    "def filter_by_gene(gene, argot_df):\n",
    "    return argot_df[argot_df.Sequence.str.startswith(gene)]"
   ]
  },
  {
   "cell_type": "code",
   "execution_count": 59,
   "metadata": {
    "collapsed": true
   },
   "outputs": [],
   "source": [
    "def sort_by_TS(argot_df):\n",
    "    return argot_df.sort('Total Score', ascending=0)"
   ]
  },
  {
   "cell_type": "code",
   "execution_count": 61,
   "metadata": {
    "collapsed": true
   },
   "outputs": [],
   "source": [
    "def filter_by_TS(tscore, argot_df):\n",
    "    return argot_df[argot_df[\"Total Score\"] >= tscore]"
   ]
  },
  {
   "cell_type": "code",
   "execution_count": 81,
   "metadata": {
    "collapsed": true
   },
   "outputs": [],
   "source": [
    "def gene_table(gene_name, argot_df, tscore):\n",
    "    return sort_by_TS(filter_by_TS(tscore, filter_by_gene(gene_name, argot_df)))"
   ]
  },
  {
   "cell_type": "code",
   "execution_count": 74,
   "metadata": {
    "collapsed": true
   },
   "outputs": [],
   "source": [
    "def vb_link(gene_name, link_template):\n",
    "    return HTML(link_template % dict(gene_name=gene_name))"
   ]
  },
  {
   "cell_type": "code",
   "execution_count": 89,
   "metadata": {
    "collapsed": true
   },
   "outputs": [],
   "source": [
    "def format_snps(snp_list):\n",
    "    snp_line = \"%(seq)s:%(end)s\"\n",
    "    \n",
    "    snp_strs = []\n",
    "    \n",
    "    for snp in snp_list:\n",
    "        snp_strs.append(snp_line % snp)\n",
    "    \n",
    "    br = \"<br>\"\n",
    "    return br.join(snp_strs) + br"
   ]
  },
  {
   "cell_type": "code",
   "execution_count": 83,
   "metadata": {
    "collapsed": true
   },
   "outputs": [],
   "source": [
    "# Vectorbase Link Templates\n",
    "gene_page          = '''<a href=\"https://www.vectorbase.org/Glossina_fuscipes/Gene/Summary?db=core;g=%(gene_name)s\"> %(gene_name)s: gene home page</a>'''\n",
    "protein_summary    = '''<a href=\"https://www.vectorbase.org/Glossina_fuscipes/Transcript/ProteinSummary?db=core;g=%(gene_name)s\"> %(gene_name)s: protein summary </a>'''\n",
    "gene_ontology      = '''<a href=\"https://www.vectorbase.org/Glossina_fuscipes/Gene/Ontology/molecular_function?db=core;g=%(gene_name)s;oid=molecular_function\"> %(gene_name)s: gene ontology </a>'''\n",
    "gene_region_detail = '''<a href=\"https://www.vectorbase.org/Glossina_fuscipes/Location/View?db=core;g=%(gene_name)s;r\"> %(gene_name)s: genome browser </a>'''"
   ]
  },
  {
   "cell_type": "code",
   "execution_count": 93,
   "metadata": {
    "collapsed": false
   },
   "outputs": [],
   "source": [
    "def present_gene(gene_name, nearby_snps):\n",
    "    display(HTML(\"<h2>%s</h2>\" % (gene_name)))\n",
    "    \n",
    "    nearby_snps = format_snps(nearby_snps)\n",
    "    display(HTML(\"<b>SNP location:</b><br>%s\" % (nearby_snps)))\n",
    "    \n",
    "    display(gene_table(gene_name=gene_name,\n",
    "                       argot_df=argot2,\n",
    "                       tscore=200))\n",
    "    \n",
    "    display(HTML(\"<p>\"))\n",
    "    display(vb_link(gene_name=gene_name, link_template=gene_page))\n",
    "    display(vb_link(gene_name=gene_name, link_template=protein_summary))\n",
    "    display(vb_link(gene_name=gene_name, link_template=gene_ontology))\n",
    "    display(vb_link(gene_name=gene_name, link_template=gene_region_detail))\n",
    "    display(HTML(\"<hr>\"))"
   ]
  },
  {
   "cell_type": "markdown",
   "metadata": {},
   "source": [
    "# Functional Annotation of the genes associated with the top 5 infection SNPs:"
   ]
  },
  {
   "cell_type": "code",
   "execution_count": 94,
   "metadata": {
    "collapsed": false
   },
   "outputs": [
    {
     "data": {
      "text/html": [
       "<h2>GFUI003362</h2>"
      ],
      "text/plain": [
       "<IPython.core.display.HTML object>"
      ]
     },
     "metadata": {},
     "output_type": "display_data"
    },
    {
     "data": {
      "text/html": [
       "<b>SNP location:</b><br>Scaffold109:164021<br>"
      ],
      "text/plain": [
       "<IPython.core.display.HTML object>"
      ]
     },
     "metadata": {},
     "output_type": "display_data"
    },
    {
     "data": {
      "text/html": [
       "<div style=\"max-height:1000px;max-width:1500px;overflow:auto;\">\n",
       "<table border=\"1\" class=\"dataframe\">\n",
       "  <thead>\n",
       "    <tr style=\"text-align: right;\">\n",
       "      <th></th>\n",
       "      <th>Sequence</th>\n",
       "      <th>Aspect</th>\n",
       "      <th>GO ID</th>\n",
       "      <th>Name</th>\n",
       "      <th>Total Score</th>\n",
       "      <th>Internal Confidence</th>\n",
       "      <th>Information Content</th>\n",
       "    </tr>\n",
       "  </thead>\n",
       "  <tbody>\n",
       "  </tbody>\n",
       "</table>\n",
       "</div>"
      ],
      "text/plain": [
       "Empty DataFrame\n",
       "Columns: [Sequence, Aspect, GO ID, Name, Total Score, Internal Confidence, Information Content]\n",
       "Index: []"
      ]
     },
     "metadata": {},
     "output_type": "display_data"
    },
    {
     "data": {
      "text/html": [
       "<p>"
      ],
      "text/plain": [
       "<IPython.core.display.HTML object>"
      ]
     },
     "metadata": {},
     "output_type": "display_data"
    },
    {
     "data": {
      "text/html": [
       "<a href=\"https://www.vectorbase.org/Glossina_fuscipes/Gene/Summary?db=core;g=GFUI003362\"> GFUI003362: gene home page</a>"
      ],
      "text/plain": [
       "<IPython.core.display.HTML object>"
      ]
     },
     "metadata": {},
     "output_type": "display_data"
    },
    {
     "data": {
      "text/html": [
       "<a href=\"https://www.vectorbase.org/Glossina_fuscipes/Transcript/ProteinSummary?db=core;g=GFUI003362\"> GFUI003362: protein summary </a>"
      ],
      "text/plain": [
       "<IPython.core.display.HTML object>"
      ]
     },
     "metadata": {},
     "output_type": "display_data"
    },
    {
     "data": {
      "text/html": [
       "<a href=\"https://www.vectorbase.org/Glossina_fuscipes/Gene/Ontology/molecular_function?db=core;g=GFUI003362;oid=molecular_function\"> GFUI003362: gene ontology </a>"
      ],
      "text/plain": [
       "<IPython.core.display.HTML object>"
      ]
     },
     "metadata": {},
     "output_type": "display_data"
    },
    {
     "data": {
      "text/html": [
       "<a href=\"https://www.vectorbase.org/Glossina_fuscipes/Location/View?db=core;g=GFUI003362;r\"> GFUI003362: genome browser </a>"
      ],
      "text/plain": [
       "<IPython.core.display.HTML object>"
      ]
     },
     "metadata": {},
     "output_type": "display_data"
    },
    {
     "data": {
      "text/html": [
       "<hr>"
      ],
      "text/plain": [
       "<IPython.core.display.HTML object>"
      ]
     },
     "metadata": {},
     "output_type": "display_data"
    },
    {
     "data": {
      "text/html": [
       "<h2>GFUI017236</h2>"
      ],
      "text/plain": [
       "<IPython.core.display.HTML object>"
      ]
     },
     "metadata": {},
     "output_type": "display_data"
    },
    {
     "data": {
      "text/html": [
       "<b>SNP location:</b><br>Scaffold226:46793<br>"
      ],
      "text/plain": [
       "<IPython.core.display.HTML object>"
      ]
     },
     "metadata": {},
     "output_type": "display_data"
    },
    {
     "data": {
      "text/html": [
       "<div style=\"max-height:1000px;max-width:1500px;overflow:auto;\">\n",
       "<table border=\"1\" class=\"dataframe\">\n",
       "  <thead>\n",
       "    <tr style=\"text-align: right;\">\n",
       "      <th></th>\n",
       "      <th>Sequence</th>\n",
       "      <th>Aspect</th>\n",
       "      <th>GO ID</th>\n",
       "      <th>Name</th>\n",
       "      <th>Total Score</th>\n",
       "      <th>Internal Confidence</th>\n",
       "      <th>Information Content</th>\n",
       "    </tr>\n",
       "  </thead>\n",
       "  <tbody>\n",
       "  </tbody>\n",
       "</table>\n",
       "</div>"
      ],
      "text/plain": [
       "Empty DataFrame\n",
       "Columns: [Sequence, Aspect, GO ID, Name, Total Score, Internal Confidence, Information Content]\n",
       "Index: []"
      ]
     },
     "metadata": {},
     "output_type": "display_data"
    },
    {
     "data": {
      "text/html": [
       "<p>"
      ],
      "text/plain": [
       "<IPython.core.display.HTML object>"
      ]
     },
     "metadata": {},
     "output_type": "display_data"
    },
    {
     "data": {
      "text/html": [
       "<a href=\"https://www.vectorbase.org/Glossina_fuscipes/Gene/Summary?db=core;g=GFUI017236\"> GFUI017236: gene home page</a>"
      ],
      "text/plain": [
       "<IPython.core.display.HTML object>"
      ]
     },
     "metadata": {},
     "output_type": "display_data"
    },
    {
     "data": {
      "text/html": [
       "<a href=\"https://www.vectorbase.org/Glossina_fuscipes/Transcript/ProteinSummary?db=core;g=GFUI017236\"> GFUI017236: protein summary </a>"
      ],
      "text/plain": [
       "<IPython.core.display.HTML object>"
      ]
     },
     "metadata": {},
     "output_type": "display_data"
    },
    {
     "data": {
      "text/html": [
       "<a href=\"https://www.vectorbase.org/Glossina_fuscipes/Gene/Ontology/molecular_function?db=core;g=GFUI017236;oid=molecular_function\"> GFUI017236: gene ontology </a>"
      ],
      "text/plain": [
       "<IPython.core.display.HTML object>"
      ]
     },
     "metadata": {},
     "output_type": "display_data"
    },
    {
     "data": {
      "text/html": [
       "<a href=\"https://www.vectorbase.org/Glossina_fuscipes/Location/View?db=core;g=GFUI017236;r\"> GFUI017236: genome browser </a>"
      ],
      "text/plain": [
       "<IPython.core.display.HTML object>"
      ]
     },
     "metadata": {},
     "output_type": "display_data"
    },
    {
     "data": {
      "text/html": [
       "<hr>"
      ],
      "text/plain": [
       "<IPython.core.display.HTML object>"
      ]
     },
     "metadata": {},
     "output_type": "display_data"
    },
    {
     "data": {
      "text/html": [
       "<h2>GFUI022267</h2>"
      ],
      "text/plain": [
       "<IPython.core.display.HTML object>"
      ]
     },
     "metadata": {},
     "output_type": "display_data"
    },
    {
     "data": {
      "text/html": [
       "<b>SNP location:</b><br>Scaffold285:248952<br>"
      ],
      "text/plain": [
       "<IPython.core.display.HTML object>"
      ]
     },
     "metadata": {},
     "output_type": "display_data"
    },
    {
     "data": {
      "text/html": [
       "<div style=\"max-height:1000px;max-width:1500px;overflow:auto;\">\n",
       "<table border=\"1\" class=\"dataframe\">\n",
       "  <thead>\n",
       "    <tr style=\"text-align: right;\">\n",
       "      <th></th>\n",
       "      <th>Sequence</th>\n",
       "      <th>Aspect</th>\n",
       "      <th>GO ID</th>\n",
       "      <th>Name</th>\n",
       "      <th>Total Score</th>\n",
       "      <th>Internal Confidence</th>\n",
       "      <th>Information Content</th>\n",
       "    </tr>\n",
       "  </thead>\n",
       "  <tbody>\n",
       "  </tbody>\n",
       "</table>\n",
       "</div>"
      ],
      "text/plain": [
       "Empty DataFrame\n",
       "Columns: [Sequence, Aspect, GO ID, Name, Total Score, Internal Confidence, Information Content]\n",
       "Index: []"
      ]
     },
     "metadata": {},
     "output_type": "display_data"
    },
    {
     "data": {
      "text/html": [
       "<p>"
      ],
      "text/plain": [
       "<IPython.core.display.HTML object>"
      ]
     },
     "metadata": {},
     "output_type": "display_data"
    },
    {
     "data": {
      "text/html": [
       "<a href=\"https://www.vectorbase.org/Glossina_fuscipes/Gene/Summary?db=core;g=GFUI022267\"> GFUI022267: gene home page</a>"
      ],
      "text/plain": [
       "<IPython.core.display.HTML object>"
      ]
     },
     "metadata": {},
     "output_type": "display_data"
    },
    {
     "data": {
      "text/html": [
       "<a href=\"https://www.vectorbase.org/Glossina_fuscipes/Transcript/ProteinSummary?db=core;g=GFUI022267\"> GFUI022267: protein summary </a>"
      ],
      "text/plain": [
       "<IPython.core.display.HTML object>"
      ]
     },
     "metadata": {},
     "output_type": "display_data"
    },
    {
     "data": {
      "text/html": [
       "<a href=\"https://www.vectorbase.org/Glossina_fuscipes/Gene/Ontology/molecular_function?db=core;g=GFUI022267;oid=molecular_function\"> GFUI022267: gene ontology </a>"
      ],
      "text/plain": [
       "<IPython.core.display.HTML object>"
      ]
     },
     "metadata": {},
     "output_type": "display_data"
    },
    {
     "data": {
      "text/html": [
       "<a href=\"https://www.vectorbase.org/Glossina_fuscipes/Location/View?db=core;g=GFUI022267;r\"> GFUI022267: genome browser </a>"
      ],
      "text/plain": [
       "<IPython.core.display.HTML object>"
      ]
     },
     "metadata": {},
     "output_type": "display_data"
    },
    {
     "data": {
      "text/html": [
       "<hr>"
      ],
      "text/plain": [
       "<IPython.core.display.HTML object>"
      ]
     },
     "metadata": {},
     "output_type": "display_data"
    },
    {
     "data": {
      "text/html": [
       "<h2>GFUI008584</h2>"
      ],
      "text/plain": [
       "<IPython.core.display.HTML object>"
      ]
     },
     "metadata": {},
     "output_type": "display_data"
    },
    {
     "data": {
      "text/html": [
       "<b>SNP location:</b><br>Scaffold145:592563<br>"
      ],
      "text/plain": [
       "<IPython.core.display.HTML object>"
      ]
     },
     "metadata": {},
     "output_type": "display_data"
    },
    {
     "data": {
      "text/html": [
       "<div style=\"max-height:1000px;max-width:1500px;overflow:auto;\">\n",
       "<table border=\"1\" class=\"dataframe\">\n",
       "  <thead>\n",
       "    <tr style=\"text-align: right;\">\n",
       "      <th></th>\n",
       "      <th>Sequence</th>\n",
       "      <th>Aspect</th>\n",
       "      <th>GO ID</th>\n",
       "      <th>Name</th>\n",
       "      <th>Total Score</th>\n",
       "      <th>Internal Confidence</th>\n",
       "      <th>Information Content</th>\n",
       "    </tr>\n",
       "  </thead>\n",
       "  <tbody>\n",
       "  </tbody>\n",
       "</table>\n",
       "</div>"
      ],
      "text/plain": [
       "Empty DataFrame\n",
       "Columns: [Sequence, Aspect, GO ID, Name, Total Score, Internal Confidence, Information Content]\n",
       "Index: []"
      ]
     },
     "metadata": {},
     "output_type": "display_data"
    },
    {
     "data": {
      "text/html": [
       "<p>"
      ],
      "text/plain": [
       "<IPython.core.display.HTML object>"
      ]
     },
     "metadata": {},
     "output_type": "display_data"
    },
    {
     "data": {
      "text/html": [
       "<a href=\"https://www.vectorbase.org/Glossina_fuscipes/Gene/Summary?db=core;g=GFUI008584\"> GFUI008584: gene home page</a>"
      ],
      "text/plain": [
       "<IPython.core.display.HTML object>"
      ]
     },
     "metadata": {},
     "output_type": "display_data"
    },
    {
     "data": {
      "text/html": [
       "<a href=\"https://www.vectorbase.org/Glossina_fuscipes/Transcript/ProteinSummary?db=core;g=GFUI008584\"> GFUI008584: protein summary </a>"
      ],
      "text/plain": [
       "<IPython.core.display.HTML object>"
      ]
     },
     "metadata": {},
     "output_type": "display_data"
    },
    {
     "data": {
      "text/html": [
       "<a href=\"https://www.vectorbase.org/Glossina_fuscipes/Gene/Ontology/molecular_function?db=core;g=GFUI008584;oid=molecular_function\"> GFUI008584: gene ontology </a>"
      ],
      "text/plain": [
       "<IPython.core.display.HTML object>"
      ]
     },
     "metadata": {},
     "output_type": "display_data"
    },
    {
     "data": {
      "text/html": [
       "<a href=\"https://www.vectorbase.org/Glossina_fuscipes/Location/View?db=core;g=GFUI008584;r\"> GFUI008584: genome browser </a>"
      ],
      "text/plain": [
       "<IPython.core.display.HTML object>"
      ]
     },
     "metadata": {},
     "output_type": "display_data"
    },
    {
     "data": {
      "text/html": [
       "<hr>"
      ],
      "text/plain": [
       "<IPython.core.display.HTML object>"
      ]
     },
     "metadata": {},
     "output_type": "display_data"
    },
    {
     "data": {
      "text/html": [
       "<h2>GFUI006661</h2>"
      ],
      "text/plain": [
       "<IPython.core.display.HTML object>"
      ]
     },
     "metadata": {},
     "output_type": "display_data"
    },
    {
     "data": {
      "text/html": [
       "<b>SNP location:</b><br>Scaffold12:1789003<br>"
      ],
      "text/plain": [
       "<IPython.core.display.HTML object>"
      ]
     },
     "metadata": {},
     "output_type": "display_data"
    },
    {
     "data": {
      "text/html": [
       "<div style=\"max-height:1000px;max-width:1500px;overflow:auto;\">\n",
       "<table border=\"1\" class=\"dataframe\">\n",
       "  <thead>\n",
       "    <tr style=\"text-align: right;\">\n",
       "      <th></th>\n",
       "      <th>Sequence</th>\n",
       "      <th>Aspect</th>\n",
       "      <th>GO ID</th>\n",
       "      <th>Name</th>\n",
       "      <th>Total Score</th>\n",
       "      <th>Internal Confidence</th>\n",
       "      <th>Information Content</th>\n",
       "    </tr>\n",
       "  </thead>\n",
       "  <tbody>\n",
       "  </tbody>\n",
       "</table>\n",
       "</div>"
      ],
      "text/plain": [
       "Empty DataFrame\n",
       "Columns: [Sequence, Aspect, GO ID, Name, Total Score, Internal Confidence, Information Content]\n",
       "Index: []"
      ]
     },
     "metadata": {},
     "output_type": "display_data"
    },
    {
     "data": {
      "text/html": [
       "<p>"
      ],
      "text/plain": [
       "<IPython.core.display.HTML object>"
      ]
     },
     "metadata": {},
     "output_type": "display_data"
    },
    {
     "data": {
      "text/html": [
       "<a href=\"https://www.vectorbase.org/Glossina_fuscipes/Gene/Summary?db=core;g=GFUI006661\"> GFUI006661: gene home page</a>"
      ],
      "text/plain": [
       "<IPython.core.display.HTML object>"
      ]
     },
     "metadata": {},
     "output_type": "display_data"
    },
    {
     "data": {
      "text/html": [
       "<a href=\"https://www.vectorbase.org/Glossina_fuscipes/Transcript/ProteinSummary?db=core;g=GFUI006661\"> GFUI006661: protein summary </a>"
      ],
      "text/plain": [
       "<IPython.core.display.HTML object>"
      ]
     },
     "metadata": {},
     "output_type": "display_data"
    },
    {
     "data": {
      "text/html": [
       "<a href=\"https://www.vectorbase.org/Glossina_fuscipes/Gene/Ontology/molecular_function?db=core;g=GFUI006661;oid=molecular_function\"> GFUI006661: gene ontology </a>"
      ],
      "text/plain": [
       "<IPython.core.display.HTML object>"
      ]
     },
     "metadata": {},
     "output_type": "display_data"
    },
    {
     "data": {
      "text/html": [
       "<a href=\"https://www.vectorbase.org/Glossina_fuscipes/Location/View?db=core;g=GFUI006661;r\"> GFUI006661: genome browser </a>"
      ],
      "text/plain": [
       "<IPython.core.display.HTML object>"
      ]
     },
     "metadata": {},
     "output_type": "display_data"
    },
    {
     "data": {
      "text/html": [
       "<hr>"
      ],
      "text/plain": [
       "<IPython.core.display.HTML object>"
      ]
     },
     "metadata": {},
     "output_type": "display_data"
    },
    {
     "data": {
      "text/html": [
       "<h2>GFUI006662</h2>"
      ],
      "text/plain": [
       "<IPython.core.display.HTML object>"
      ]
     },
     "metadata": {},
     "output_type": "display_data"
    },
    {
     "data": {
      "text/html": [
       "<b>SNP location:</b><br>Scaffold12:1789003<br>"
      ],
      "text/plain": [
       "<IPython.core.display.HTML object>"
      ]
     },
     "metadata": {},
     "output_type": "display_data"
    },
    {
     "data": {
      "text/html": [
       "<div style=\"max-height:1000px;max-width:1500px;overflow:auto;\">\n",
       "<table border=\"1\" class=\"dataframe\">\n",
       "  <thead>\n",
       "    <tr style=\"text-align: right;\">\n",
       "      <th></th>\n",
       "      <th>Sequence</th>\n",
       "      <th>Aspect</th>\n",
       "      <th>GO ID</th>\n",
       "      <th>Name</th>\n",
       "      <th>Total Score</th>\n",
       "      <th>Internal Confidence</th>\n",
       "      <th>Information Content</th>\n",
       "    </tr>\n",
       "  </thead>\n",
       "  <tbody>\n",
       "  </tbody>\n",
       "</table>\n",
       "</div>"
      ],
      "text/plain": [
       "Empty DataFrame\n",
       "Columns: [Sequence, Aspect, GO ID, Name, Total Score, Internal Confidence, Information Content]\n",
       "Index: []"
      ]
     },
     "metadata": {},
     "output_type": "display_data"
    },
    {
     "data": {
      "text/html": [
       "<p>"
      ],
      "text/plain": [
       "<IPython.core.display.HTML object>"
      ]
     },
     "metadata": {},
     "output_type": "display_data"
    },
    {
     "data": {
      "text/html": [
       "<a href=\"https://www.vectorbase.org/Glossina_fuscipes/Gene/Summary?db=core;g=GFUI006662\"> GFUI006662: gene home page</a>"
      ],
      "text/plain": [
       "<IPython.core.display.HTML object>"
      ]
     },
     "metadata": {},
     "output_type": "display_data"
    },
    {
     "data": {
      "text/html": [
       "<a href=\"https://www.vectorbase.org/Glossina_fuscipes/Transcript/ProteinSummary?db=core;g=GFUI006662\"> GFUI006662: protein summary </a>"
      ],
      "text/plain": [
       "<IPython.core.display.HTML object>"
      ]
     },
     "metadata": {},
     "output_type": "display_data"
    },
    {
     "data": {
      "text/html": [
       "<a href=\"https://www.vectorbase.org/Glossina_fuscipes/Gene/Ontology/molecular_function?db=core;g=GFUI006662;oid=molecular_function\"> GFUI006662: gene ontology </a>"
      ],
      "text/plain": [
       "<IPython.core.display.HTML object>"
      ]
     },
     "metadata": {},
     "output_type": "display_data"
    },
    {
     "data": {
      "text/html": [
       "<a href=\"https://www.vectorbase.org/Glossina_fuscipes/Location/View?db=core;g=GFUI006662;r\"> GFUI006662: genome browser </a>"
      ],
      "text/plain": [
       "<IPython.core.display.HTML object>"
      ]
     },
     "metadata": {},
     "output_type": "display_data"
    },
    {
     "data": {
      "text/html": [
       "<hr>"
      ],
      "text/plain": [
       "<IPython.core.display.HTML object>"
      ]
     },
     "metadata": {},
     "output_type": "display_data"
    },
    {
     "data": {
      "text/html": [
       "<h2>GFUI031811</h2>"
      ],
      "text/plain": [
       "<IPython.core.display.HTML object>"
      ]
     },
     "metadata": {},
     "output_type": "display_data"
    },
    {
     "data": {
      "text/html": [
       "<b>SNP location:</b><br>Scaffold418:168755<br>"
      ],
      "text/plain": [
       "<IPython.core.display.HTML object>"
      ]
     },
     "metadata": {},
     "output_type": "display_data"
    },
    {
     "data": {
      "text/html": [
       "<div style=\"max-height:1000px;max-width:1500px;overflow:auto;\">\n",
       "<table border=\"1\" class=\"dataframe\">\n",
       "  <thead>\n",
       "    <tr style=\"text-align: right;\">\n",
       "      <th></th>\n",
       "      <th>Sequence</th>\n",
       "      <th>Aspect</th>\n",
       "      <th>GO ID</th>\n",
       "      <th>Name</th>\n",
       "      <th>Total Score</th>\n",
       "      <th>Internal Confidence</th>\n",
       "      <th>Information Content</th>\n",
       "    </tr>\n",
       "  </thead>\n",
       "  <tbody>\n",
       "  </tbody>\n",
       "</table>\n",
       "</div>"
      ],
      "text/plain": [
       "Empty DataFrame\n",
       "Columns: [Sequence, Aspect, GO ID, Name, Total Score, Internal Confidence, Information Content]\n",
       "Index: []"
      ]
     },
     "metadata": {},
     "output_type": "display_data"
    },
    {
     "data": {
      "text/html": [
       "<p>"
      ],
      "text/plain": [
       "<IPython.core.display.HTML object>"
      ]
     },
     "metadata": {},
     "output_type": "display_data"
    },
    {
     "data": {
      "text/html": [
       "<a href=\"https://www.vectorbase.org/Glossina_fuscipes/Gene/Summary?db=core;g=GFUI031811\"> GFUI031811: gene home page</a>"
      ],
      "text/plain": [
       "<IPython.core.display.HTML object>"
      ]
     },
     "metadata": {},
     "output_type": "display_data"
    },
    {
     "data": {
      "text/html": [
       "<a href=\"https://www.vectorbase.org/Glossina_fuscipes/Transcript/ProteinSummary?db=core;g=GFUI031811\"> GFUI031811: protein summary </a>"
      ],
      "text/plain": [
       "<IPython.core.display.HTML object>"
      ]
     },
     "metadata": {},
     "output_type": "display_data"
    },
    {
     "data": {
      "text/html": [
       "<a href=\"https://www.vectorbase.org/Glossina_fuscipes/Gene/Ontology/molecular_function?db=core;g=GFUI031811;oid=molecular_function\"> GFUI031811: gene ontology </a>"
      ],
      "text/plain": [
       "<IPython.core.display.HTML object>"
      ]
     },
     "metadata": {},
     "output_type": "display_data"
    },
    {
     "data": {
      "text/html": [
       "<a href=\"https://www.vectorbase.org/Glossina_fuscipes/Location/View?db=core;g=GFUI031811;r\"> GFUI031811: genome browser </a>"
      ],
      "text/plain": [
       "<IPython.core.display.HTML object>"
      ]
     },
     "metadata": {},
     "output_type": "display_data"
    },
    {
     "data": {
      "text/html": [
       "<hr>"
      ],
      "text/plain": [
       "<IPython.core.display.HTML object>"
      ]
     },
     "metadata": {},
     "output_type": "display_data"
    },
    {
     "data": {
      "text/html": [
       "<h2>GFUI025369</h2>"
      ],
      "text/plain": [
       "<IPython.core.display.HTML object>"
      ]
     },
     "metadata": {},
     "output_type": "display_data"
    },
    {
     "data": {
      "text/html": [
       "<b>SNP location:</b><br>Scaffold321:206239<br>"
      ],
      "text/plain": [
       "<IPython.core.display.HTML object>"
      ]
     },
     "metadata": {},
     "output_type": "display_data"
    },
    {
     "data": {
      "text/html": [
       "<div style=\"max-height:1000px;max-width:1500px;overflow:auto;\">\n",
       "<table border=\"1\" class=\"dataframe\">\n",
       "  <thead>\n",
       "    <tr style=\"text-align: right;\">\n",
       "      <th></th>\n",
       "      <th>Sequence</th>\n",
       "      <th>Aspect</th>\n",
       "      <th>GO ID</th>\n",
       "      <th>Name</th>\n",
       "      <th>Total Score</th>\n",
       "      <th>Internal Confidence</th>\n",
       "      <th>Information Content</th>\n",
       "    </tr>\n",
       "  </thead>\n",
       "  <tbody>\n",
       "    <tr>\n",
       "      <th>61661</th>\n",
       "      <td> GFUI025369-PA</td>\n",
       "      <td> P</td>\n",
       "      <td> GO:0050909</td>\n",
       "      <td>    sensory perception of taste</td>\n",
       "      <td> 4494.034613</td>\n",
       "      <td> 0.420161</td>\n",
       "      <td> 14.238183</td>\n",
       "    </tr>\n",
       "    <tr>\n",
       "      <th>61666</th>\n",
       "      <td> GFUI025369-PA</td>\n",
       "      <td> C</td>\n",
       "      <td> GO:0016021</td>\n",
       "      <td> integral component of membrane</td>\n",
       "      <td>  758.377870</td>\n",
       "      <td> 0.321204</td>\n",
       "      <td>  3.692502</td>\n",
       "    </tr>\n",
       "    <tr>\n",
       "      <th>61664</th>\n",
       "      <td> GFUI025369-PA</td>\n",
       "      <td> C</td>\n",
       "      <td> GO:0005886</td>\n",
       "      <td>                plasma membrane</td>\n",
       "      <td>  702.268317</td>\n",
       "      <td> 0.284545</td>\n",
       "      <td>  4.357169</td>\n",
       "    </tr>\n",
       "    <tr>\n",
       "      <th>61663</th>\n",
       "      <td> GFUI025369-PA</td>\n",
       "      <td> F</td>\n",
       "      <td> GO:0008527</td>\n",
       "      <td>        taste receptor activity</td>\n",
       "      <td>  499.685908</td>\n",
       "      <td> 0.350345</td>\n",
       "      <td> 12.952080</td>\n",
       "    </tr>\n",
       "    <tr>\n",
       "      <th>61665</th>\n",
       "      <td> GFUI025369-PA</td>\n",
       "      <td> C</td>\n",
       "      <td> GO:0016020</td>\n",
       "      <td>                       membrane</td>\n",
       "      <td>  398.543846</td>\n",
       "      <td> 0.890289</td>\n",
       "      <td>  2.472824</td>\n",
       "    </tr>\n",
       "    <tr>\n",
       "      <th>61662</th>\n",
       "      <td> GFUI025369-PA</td>\n",
       "      <td> F</td>\n",
       "      <td> GO:0004871</td>\n",
       "      <td>     signal transducer activity</td>\n",
       "      <td>  232.009897</td>\n",
       "      <td> 0.818926</td>\n",
       "      <td>  5.118474</td>\n",
       "    </tr>\n",
       "  </tbody>\n",
       "</table>\n",
       "</div>"
      ],
      "text/plain": [
       "            Sequence Aspect       GO ID                            Name  \\\n",
       "61661  GFUI025369-PA      P  GO:0050909     sensory perception of taste   \n",
       "61666  GFUI025369-PA      C  GO:0016021  integral component of membrane   \n",
       "61664  GFUI025369-PA      C  GO:0005886                 plasma membrane   \n",
       "61663  GFUI025369-PA      F  GO:0008527         taste receptor activity   \n",
       "61665  GFUI025369-PA      C  GO:0016020                        membrane   \n",
       "61662  GFUI025369-PA      F  GO:0004871      signal transducer activity   \n",
       "\n",
       "       Total Score  Internal Confidence  Information Content  \n",
       "61661  4494.034613             0.420161            14.238183  \n",
       "61666   758.377870             0.321204             3.692502  \n",
       "61664   702.268317             0.284545             4.357169  \n",
       "61663   499.685908             0.350345            12.952080  \n",
       "61665   398.543846             0.890289             2.472824  \n",
       "61662   232.009897             0.818926             5.118474  "
      ]
     },
     "metadata": {},
     "output_type": "display_data"
    },
    {
     "data": {
      "text/html": [
       "<p>"
      ],
      "text/plain": [
       "<IPython.core.display.HTML object>"
      ]
     },
     "metadata": {},
     "output_type": "display_data"
    },
    {
     "data": {
      "text/html": [
       "<a href=\"https://www.vectorbase.org/Glossina_fuscipes/Gene/Summary?db=core;g=GFUI025369\"> GFUI025369: gene home page</a>"
      ],
      "text/plain": [
       "<IPython.core.display.HTML object>"
      ]
     },
     "metadata": {},
     "output_type": "display_data"
    },
    {
     "data": {
      "text/html": [
       "<a href=\"https://www.vectorbase.org/Glossina_fuscipes/Transcript/ProteinSummary?db=core;g=GFUI025369\"> GFUI025369: protein summary </a>"
      ],
      "text/plain": [
       "<IPython.core.display.HTML object>"
      ]
     },
     "metadata": {},
     "output_type": "display_data"
    },
    {
     "data": {
      "text/html": [
       "<a href=\"https://www.vectorbase.org/Glossina_fuscipes/Gene/Ontology/molecular_function?db=core;g=GFUI025369;oid=molecular_function\"> GFUI025369: gene ontology </a>"
      ],
      "text/plain": [
       "<IPython.core.display.HTML object>"
      ]
     },
     "metadata": {},
     "output_type": "display_data"
    },
    {
     "data": {
      "text/html": [
       "<a href=\"https://www.vectorbase.org/Glossina_fuscipes/Location/View?db=core;g=GFUI025369;r\"> GFUI025369: genome browser </a>"
      ],
      "text/plain": [
       "<IPython.core.display.HTML object>"
      ]
     },
     "metadata": {},
     "output_type": "display_data"
    },
    {
     "data": {
      "text/html": [
       "<hr>"
      ],
      "text/plain": [
       "<IPython.core.display.HTML object>"
      ]
     },
     "metadata": {},
     "output_type": "display_data"
    },
    {
     "data": {
      "text/html": [
       "<h2>GFUI007456</h2>"
      ],
      "text/plain": [
       "<IPython.core.display.HTML object>"
      ]
     },
     "metadata": {},
     "output_type": "display_data"
    },
    {
     "data": {
      "text/html": [
       "<b>SNP location:</b><br>Scaffold137:526189<br>"
      ],
      "text/plain": [
       "<IPython.core.display.HTML object>"
      ]
     },
     "metadata": {},
     "output_type": "display_data"
    },
    {
     "data": {
      "text/html": [
       "<div style=\"max-height:1000px;max-width:1500px;overflow:auto;\">\n",
       "<table border=\"1\" class=\"dataframe\">\n",
       "  <thead>\n",
       "    <tr style=\"text-align: right;\">\n",
       "      <th></th>\n",
       "      <th>Sequence</th>\n",
       "      <th>Aspect</th>\n",
       "      <th>GO ID</th>\n",
       "      <th>Name</th>\n",
       "      <th>Total Score</th>\n",
       "      <th>Internal Confidence</th>\n",
       "      <th>Information Content</th>\n",
       "    </tr>\n",
       "  </thead>\n",
       "  <tbody>\n",
       "  </tbody>\n",
       "</table>\n",
       "</div>"
      ],
      "text/plain": [
       "Empty DataFrame\n",
       "Columns: [Sequence, Aspect, GO ID, Name, Total Score, Internal Confidence, Information Content]\n",
       "Index: []"
      ]
     },
     "metadata": {},
     "output_type": "display_data"
    },
    {
     "data": {
      "text/html": [
       "<p>"
      ],
      "text/plain": [
       "<IPython.core.display.HTML object>"
      ]
     },
     "metadata": {},
     "output_type": "display_data"
    },
    {
     "data": {
      "text/html": [
       "<a href=\"https://www.vectorbase.org/Glossina_fuscipes/Gene/Summary?db=core;g=GFUI007456\"> GFUI007456: gene home page</a>"
      ],
      "text/plain": [
       "<IPython.core.display.HTML object>"
      ]
     },
     "metadata": {},
     "output_type": "display_data"
    },
    {
     "data": {
      "text/html": [
       "<a href=\"https://www.vectorbase.org/Glossina_fuscipes/Transcript/ProteinSummary?db=core;g=GFUI007456\"> GFUI007456: protein summary </a>"
      ],
      "text/plain": [
       "<IPython.core.display.HTML object>"
      ]
     },
     "metadata": {},
     "output_type": "display_data"
    },
    {
     "data": {
      "text/html": [
       "<a href=\"https://www.vectorbase.org/Glossina_fuscipes/Gene/Ontology/molecular_function?db=core;g=GFUI007456;oid=molecular_function\"> GFUI007456: gene ontology </a>"
      ],
      "text/plain": [
       "<IPython.core.display.HTML object>"
      ]
     },
     "metadata": {},
     "output_type": "display_data"
    },
    {
     "data": {
      "text/html": [
       "<a href=\"https://www.vectorbase.org/Glossina_fuscipes/Location/View?db=core;g=GFUI007456;r\"> GFUI007456: genome browser </a>"
      ],
      "text/plain": [
       "<IPython.core.display.HTML object>"
      ]
     },
     "metadata": {},
     "output_type": "display_data"
    },
    {
     "data": {
      "text/html": [
       "<hr>"
      ],
      "text/plain": [
       "<IPython.core.display.HTML object>"
      ]
     },
     "metadata": {},
     "output_type": "display_data"
    },
    {
     "data": {
      "text/html": [
       "<h2>GFUI033742</h2>"
      ],
      "text/plain": [
       "<IPython.core.display.HTML object>"
      ]
     },
     "metadata": {},
     "output_type": "display_data"
    },
    {
     "data": {
      "text/html": [
       "<b>SNP location:</b><br>Scaffold450:83595<br>"
      ],
      "text/plain": [
       "<IPython.core.display.HTML object>"
      ]
     },
     "metadata": {},
     "output_type": "display_data"
    },
    {
     "data": {
      "text/html": [
       "<div style=\"max-height:1000px;max-width:1500px;overflow:auto;\">\n",
       "<table border=\"1\" class=\"dataframe\">\n",
       "  <thead>\n",
       "    <tr style=\"text-align: right;\">\n",
       "      <th></th>\n",
       "      <th>Sequence</th>\n",
       "      <th>Aspect</th>\n",
       "      <th>GO ID</th>\n",
       "      <th>Name</th>\n",
       "      <th>Total Score</th>\n",
       "      <th>Internal Confidence</th>\n",
       "      <th>Information Content</th>\n",
       "    </tr>\n",
       "  </thead>\n",
       "  <tbody>\n",
       "  </tbody>\n",
       "</table>\n",
       "</div>"
      ],
      "text/plain": [
       "Empty DataFrame\n",
       "Columns: [Sequence, Aspect, GO ID, Name, Total Score, Internal Confidence, Information Content]\n",
       "Index: []"
      ]
     },
     "metadata": {},
     "output_type": "display_data"
    },
    {
     "data": {
      "text/html": [
       "<p>"
      ],
      "text/plain": [
       "<IPython.core.display.HTML object>"
      ]
     },
     "metadata": {},
     "output_type": "display_data"
    },
    {
     "data": {
      "text/html": [
       "<a href=\"https://www.vectorbase.org/Glossina_fuscipes/Gene/Summary?db=core;g=GFUI033742\"> GFUI033742: gene home page</a>"
      ],
      "text/plain": [
       "<IPython.core.display.HTML object>"
      ]
     },
     "metadata": {},
     "output_type": "display_data"
    },
    {
     "data": {
      "text/html": [
       "<a href=\"https://www.vectorbase.org/Glossina_fuscipes/Transcript/ProteinSummary?db=core;g=GFUI033742\"> GFUI033742: protein summary </a>"
      ],
      "text/plain": [
       "<IPython.core.display.HTML object>"
      ]
     },
     "metadata": {},
     "output_type": "display_data"
    },
    {
     "data": {
      "text/html": [
       "<a href=\"https://www.vectorbase.org/Glossina_fuscipes/Gene/Ontology/molecular_function?db=core;g=GFUI033742;oid=molecular_function\"> GFUI033742: gene ontology </a>"
      ],
      "text/plain": [
       "<IPython.core.display.HTML object>"
      ]
     },
     "metadata": {},
     "output_type": "display_data"
    },
    {
     "data": {
      "text/html": [
       "<a href=\"https://www.vectorbase.org/Glossina_fuscipes/Location/View?db=core;g=GFUI033742;r\"> GFUI033742: genome browser </a>"
      ],
      "text/plain": [
       "<IPython.core.display.HTML object>"
      ]
     },
     "metadata": {},
     "output_type": "display_data"
    },
    {
     "data": {
      "text/html": [
       "<hr>"
      ],
      "text/plain": [
       "<IPython.core.display.HTML object>"
      ]
     },
     "metadata": {},
     "output_type": "display_data"
    },
    {
     "data": {
      "text/html": [
       "<h2>GFUI031969</h2>"
      ],
      "text/plain": [
       "<IPython.core.display.HTML object>"
      ]
     },
     "metadata": {},
     "output_type": "display_data"
    },
    {
     "data": {
      "text/html": [
       "<b>SNP location:</b><br>Scaffold41:625383<br>"
      ],
      "text/plain": [
       "<IPython.core.display.HTML object>"
      ]
     },
     "metadata": {},
     "output_type": "display_data"
    },
    {
     "data": {
      "text/html": [
       "<div style=\"max-height:1000px;max-width:1500px;overflow:auto;\">\n",
       "<table border=\"1\" class=\"dataframe\">\n",
       "  <thead>\n",
       "    <tr style=\"text-align: right;\">\n",
       "      <th></th>\n",
       "      <th>Sequence</th>\n",
       "      <th>Aspect</th>\n",
       "      <th>GO ID</th>\n",
       "      <th>Name</th>\n",
       "      <th>Total Score</th>\n",
       "      <th>Internal Confidence</th>\n",
       "      <th>Information Content</th>\n",
       "    </tr>\n",
       "  </thead>\n",
       "  <tbody>\n",
       "    <tr>\n",
       "      <th>31310</th>\n",
       "      <td> GFUI031969-PA</td>\n",
       "      <td> P</td>\n",
       "      <td> GO:0006457</td>\n",
       "      <td>          protein folding</td>\n",
       "      <td> 438.074284</td>\n",
       "      <td> 0.087540</td>\n",
       "      <td> 9.862501</td>\n",
       "    </tr>\n",
       "    <tr>\n",
       "      <th>31311</th>\n",
       "      <td> GFUI031969-PA</td>\n",
       "      <td> F</td>\n",
       "      <td> GO:0051082</td>\n",
       "      <td> unfolded protein binding</td>\n",
       "      <td> 246.971872</td>\n",
       "      <td> 0.101525</td>\n",
       "      <td> 7.402828</td>\n",
       "    </tr>\n",
       "  </tbody>\n",
       "</table>\n",
       "</div>"
      ],
      "text/plain": [
       "            Sequence Aspect       GO ID                      Name  \\\n",
       "31310  GFUI031969-PA      P  GO:0006457           protein folding   \n",
       "31311  GFUI031969-PA      F  GO:0051082  unfolded protein binding   \n",
       "\n",
       "       Total Score  Internal Confidence  Information Content  \n",
       "31310   438.074284             0.087540             9.862501  \n",
       "31311   246.971872             0.101525             7.402828  "
      ]
     },
     "metadata": {},
     "output_type": "display_data"
    },
    {
     "data": {
      "text/html": [
       "<p>"
      ],
      "text/plain": [
       "<IPython.core.display.HTML object>"
      ]
     },
     "metadata": {},
     "output_type": "display_data"
    },
    {
     "data": {
      "text/html": [
       "<a href=\"https://www.vectorbase.org/Glossina_fuscipes/Gene/Summary?db=core;g=GFUI031969\"> GFUI031969: gene home page</a>"
      ],
      "text/plain": [
       "<IPython.core.display.HTML object>"
      ]
     },
     "metadata": {},
     "output_type": "display_data"
    },
    {
     "data": {
      "text/html": [
       "<a href=\"https://www.vectorbase.org/Glossina_fuscipes/Transcript/ProteinSummary?db=core;g=GFUI031969\"> GFUI031969: protein summary </a>"
      ],
      "text/plain": [
       "<IPython.core.display.HTML object>"
      ]
     },
     "metadata": {},
     "output_type": "display_data"
    },
    {
     "data": {
      "text/html": [
       "<a href=\"https://www.vectorbase.org/Glossina_fuscipes/Gene/Ontology/molecular_function?db=core;g=GFUI031969;oid=molecular_function\"> GFUI031969: gene ontology </a>"
      ],
      "text/plain": [
       "<IPython.core.display.HTML object>"
      ]
     },
     "metadata": {},
     "output_type": "display_data"
    },
    {
     "data": {
      "text/html": [
       "<a href=\"https://www.vectorbase.org/Glossina_fuscipes/Location/View?db=core;g=GFUI031969;r\"> GFUI031969: genome browser </a>"
      ],
      "text/plain": [
       "<IPython.core.display.HTML object>"
      ]
     },
     "metadata": {},
     "output_type": "display_data"
    },
    {
     "data": {
      "text/html": [
       "<hr>"
      ],
      "text/plain": [
       "<IPython.core.display.HTML object>"
      ]
     },
     "metadata": {},
     "output_type": "display_data"
    },
    {
     "data": {
      "text/html": [
       "<h2>GFUI033741</h2>"
      ],
      "text/plain": [
       "<IPython.core.display.HTML object>"
      ]
     },
     "metadata": {},
     "output_type": "display_data"
    },
    {
     "data": {
      "text/html": [
       "<b>SNP location:</b><br>Scaffold450:83595<br>"
      ],
      "text/plain": [
       "<IPython.core.display.HTML object>"
      ]
     },
     "metadata": {},
     "output_type": "display_data"
    },
    {
     "data": {
      "text/html": [
       "<div style=\"max-height:1000px;max-width:1500px;overflow:auto;\">\n",
       "<table border=\"1\" class=\"dataframe\">\n",
       "  <thead>\n",
       "    <tr style=\"text-align: right;\">\n",
       "      <th></th>\n",
       "      <th>Sequence</th>\n",
       "      <th>Aspect</th>\n",
       "      <th>GO ID</th>\n",
       "      <th>Name</th>\n",
       "      <th>Total Score</th>\n",
       "      <th>Internal Confidence</th>\n",
       "      <th>Information Content</th>\n",
       "    </tr>\n",
       "  </thead>\n",
       "  <tbody>\n",
       "  </tbody>\n",
       "</table>\n",
       "</div>"
      ],
      "text/plain": [
       "Empty DataFrame\n",
       "Columns: [Sequence, Aspect, GO ID, Name, Total Score, Internal Confidence, Information Content]\n",
       "Index: []"
      ]
     },
     "metadata": {},
     "output_type": "display_data"
    },
    {
     "data": {
      "text/html": [
       "<p>"
      ],
      "text/plain": [
       "<IPython.core.display.HTML object>"
      ]
     },
     "metadata": {},
     "output_type": "display_data"
    },
    {
     "data": {
      "text/html": [
       "<a href=\"https://www.vectorbase.org/Glossina_fuscipes/Gene/Summary?db=core;g=GFUI033741\"> GFUI033741: gene home page</a>"
      ],
      "text/plain": [
       "<IPython.core.display.HTML object>"
      ]
     },
     "metadata": {},
     "output_type": "display_data"
    },
    {
     "data": {
      "text/html": [
       "<a href=\"https://www.vectorbase.org/Glossina_fuscipes/Transcript/ProteinSummary?db=core;g=GFUI033741\"> GFUI033741: protein summary </a>"
      ],
      "text/plain": [
       "<IPython.core.display.HTML object>"
      ]
     },
     "metadata": {},
     "output_type": "display_data"
    },
    {
     "data": {
      "text/html": [
       "<a href=\"https://www.vectorbase.org/Glossina_fuscipes/Gene/Ontology/molecular_function?db=core;g=GFUI033741;oid=molecular_function\"> GFUI033741: gene ontology </a>"
      ],
      "text/plain": [
       "<IPython.core.display.HTML object>"
      ]
     },
     "metadata": {},
     "output_type": "display_data"
    },
    {
     "data": {
      "text/html": [
       "<a href=\"https://www.vectorbase.org/Glossina_fuscipes/Location/View?db=core;g=GFUI033741;r\"> GFUI033741: genome browser </a>"
      ],
      "text/plain": [
       "<IPython.core.display.HTML object>"
      ]
     },
     "metadata": {},
     "output_type": "display_data"
    },
    {
     "data": {
      "text/html": [
       "<hr>"
      ],
      "text/plain": [
       "<IPython.core.display.HTML object>"
      ]
     },
     "metadata": {},
     "output_type": "display_data"
    },
    {
     "data": {
      "text/html": [
       "<h2>GFUI008587</h2>"
      ],
      "text/plain": [
       "<IPython.core.display.HTML object>"
      ]
     },
     "metadata": {},
     "output_type": "display_data"
    },
    {
     "data": {
      "text/html": [
       "<b>SNP location:</b><br>Scaffold145:592563<br>"
      ],
      "text/plain": [
       "<IPython.core.display.HTML object>"
      ]
     },
     "metadata": {},
     "output_type": "display_data"
    },
    {
     "data": {
      "text/html": [
       "<div style=\"max-height:1000px;max-width:1500px;overflow:auto;\">\n",
       "<table border=\"1\" class=\"dataframe\">\n",
       "  <thead>\n",
       "    <tr style=\"text-align: right;\">\n",
       "      <th></th>\n",
       "      <th>Sequence</th>\n",
       "      <th>Aspect</th>\n",
       "      <th>GO ID</th>\n",
       "      <th>Name</th>\n",
       "      <th>Total Score</th>\n",
       "      <th>Internal Confidence</th>\n",
       "      <th>Information Content</th>\n",
       "    </tr>\n",
       "  </thead>\n",
       "  <tbody>\n",
       "  </tbody>\n",
       "</table>\n",
       "</div>"
      ],
      "text/plain": [
       "Empty DataFrame\n",
       "Columns: [Sequence, Aspect, GO ID, Name, Total Score, Internal Confidence, Information Content]\n",
       "Index: []"
      ]
     },
     "metadata": {},
     "output_type": "display_data"
    },
    {
     "data": {
      "text/html": [
       "<p>"
      ],
      "text/plain": [
       "<IPython.core.display.HTML object>"
      ]
     },
     "metadata": {},
     "output_type": "display_data"
    },
    {
     "data": {
      "text/html": [
       "<a href=\"https://www.vectorbase.org/Glossina_fuscipes/Gene/Summary?db=core;g=GFUI008587\"> GFUI008587: gene home page</a>"
      ],
      "text/plain": [
       "<IPython.core.display.HTML object>"
      ]
     },
     "metadata": {},
     "output_type": "display_data"
    },
    {
     "data": {
      "text/html": [
       "<a href=\"https://www.vectorbase.org/Glossina_fuscipes/Transcript/ProteinSummary?db=core;g=GFUI008587\"> GFUI008587: protein summary </a>"
      ],
      "text/plain": [
       "<IPython.core.display.HTML object>"
      ]
     },
     "metadata": {},
     "output_type": "display_data"
    },
    {
     "data": {
      "text/html": [
       "<a href=\"https://www.vectorbase.org/Glossina_fuscipes/Gene/Ontology/molecular_function?db=core;g=GFUI008587;oid=molecular_function\"> GFUI008587: gene ontology </a>"
      ],
      "text/plain": [
       "<IPython.core.display.HTML object>"
      ]
     },
     "metadata": {},
     "output_type": "display_data"
    },
    {
     "data": {
      "text/html": [
       "<a href=\"https://www.vectorbase.org/Glossina_fuscipes/Location/View?db=core;g=GFUI008587;r\"> GFUI008587: genome browser </a>"
      ],
      "text/plain": [
       "<IPython.core.display.HTML object>"
      ]
     },
     "metadata": {},
     "output_type": "display_data"
    },
    {
     "data": {
      "text/html": [
       "<hr>"
      ],
      "text/plain": [
       "<IPython.core.display.HTML object>"
      ]
     },
     "metadata": {},
     "output_type": "display_data"
    },
    {
     "data": {
      "text/html": [
       "<h2>GFUI043358</h2>"
      ],
      "text/plain": [
       "<IPython.core.display.HTML object>"
      ]
     },
     "metadata": {},
     "output_type": "display_data"
    },
    {
     "data": {
      "text/html": [
       "<b>SNP location:</b><br>Scaffold65:500858<br>"
      ],
      "text/plain": [
       "<IPython.core.display.HTML object>"
      ]
     },
     "metadata": {},
     "output_type": "display_data"
    },
    {
     "data": {
      "text/html": [
       "<div style=\"max-height:1000px;max-width:1500px;overflow:auto;\">\n",
       "<table border=\"1\" class=\"dataframe\">\n",
       "  <thead>\n",
       "    <tr style=\"text-align: right;\">\n",
       "      <th></th>\n",
       "      <th>Sequence</th>\n",
       "      <th>Aspect</th>\n",
       "      <th>GO ID</th>\n",
       "      <th>Name</th>\n",
       "      <th>Total Score</th>\n",
       "      <th>Internal Confidence</th>\n",
       "      <th>Information Content</th>\n",
       "    </tr>\n",
       "  </thead>\n",
       "  <tbody>\n",
       "  </tbody>\n",
       "</table>\n",
       "</div>"
      ],
      "text/plain": [
       "Empty DataFrame\n",
       "Columns: [Sequence, Aspect, GO ID, Name, Total Score, Internal Confidence, Information Content]\n",
       "Index: []"
      ]
     },
     "metadata": {},
     "output_type": "display_data"
    },
    {
     "data": {
      "text/html": [
       "<p>"
      ],
      "text/plain": [
       "<IPython.core.display.HTML object>"
      ]
     },
     "metadata": {},
     "output_type": "display_data"
    },
    {
     "data": {
      "text/html": [
       "<a href=\"https://www.vectorbase.org/Glossina_fuscipes/Gene/Summary?db=core;g=GFUI043358\"> GFUI043358: gene home page</a>"
      ],
      "text/plain": [
       "<IPython.core.display.HTML object>"
      ]
     },
     "metadata": {},
     "output_type": "display_data"
    },
    {
     "data": {
      "text/html": [
       "<a href=\"https://www.vectorbase.org/Glossina_fuscipes/Transcript/ProteinSummary?db=core;g=GFUI043358\"> GFUI043358: protein summary </a>"
      ],
      "text/plain": [
       "<IPython.core.display.HTML object>"
      ]
     },
     "metadata": {},
     "output_type": "display_data"
    },
    {
     "data": {
      "text/html": [
       "<a href=\"https://www.vectorbase.org/Glossina_fuscipes/Gene/Ontology/molecular_function?db=core;g=GFUI043358;oid=molecular_function\"> GFUI043358: gene ontology </a>"
      ],
      "text/plain": [
       "<IPython.core.display.HTML object>"
      ]
     },
     "metadata": {},
     "output_type": "display_data"
    },
    {
     "data": {
      "text/html": [
       "<a href=\"https://www.vectorbase.org/Glossina_fuscipes/Location/View?db=core;g=GFUI043358;r\"> GFUI043358: genome browser </a>"
      ],
      "text/plain": [
       "<IPython.core.display.HTML object>"
      ]
     },
     "metadata": {},
     "output_type": "display_data"
    },
    {
     "data": {
      "text/html": [
       "<hr>"
      ],
      "text/plain": [
       "<IPython.core.display.HTML object>"
      ]
     },
     "metadata": {},
     "output_type": "display_data"
    },
    {
     "data": {
      "text/html": [
       "<h2>GFUI040028</h2>"
      ],
      "text/plain": [
       "<IPython.core.display.HTML object>"
      ]
     },
     "metadata": {},
     "output_type": "display_data"
    },
    {
     "data": {
      "text/html": [
       "<b>SNP location:</b><br>Scaffold57:109755<br>"
      ],
      "text/plain": [
       "<IPython.core.display.HTML object>"
      ]
     },
     "metadata": {},
     "output_type": "display_data"
    },
    {
     "data": {
      "text/html": [
       "<div style=\"max-height:1000px;max-width:1500px;overflow:auto;\">\n",
       "<table border=\"1\" class=\"dataframe\">\n",
       "  <thead>\n",
       "    <tr style=\"text-align: right;\">\n",
       "      <th></th>\n",
       "      <th>Sequence</th>\n",
       "      <th>Aspect</th>\n",
       "      <th>GO ID</th>\n",
       "      <th>Name</th>\n",
       "      <th>Total Score</th>\n",
       "      <th>Internal Confidence</th>\n",
       "      <th>Information Content</th>\n",
       "    </tr>\n",
       "  </thead>\n",
       "  <tbody>\n",
       "    <tr>\n",
       "      <th>16676</th>\n",
       "      <td> GFUI040028-PA</td>\n",
       "      <td> C</td>\n",
       "      <td> GO:0032580</td>\n",
       "      <td>                  Golgi cisterna membrane</td>\n",
       "      <td> 5454.162533</td>\n",
       "      <td> 0.263156</td>\n",
       "      <td> 11.587434</td>\n",
       "    </tr>\n",
       "    <tr>\n",
       "      <th>16675</th>\n",
       "      <td> GFUI040028-PA</td>\n",
       "      <td> F</td>\n",
       "      <td> GO:0008376</td>\n",
       "      <td> acetylgalactosaminyltransferase activity</td>\n",
       "      <td> 4011.619006</td>\n",
       "      <td> 0.382311</td>\n",
       "      <td> 12.188692</td>\n",
       "    </tr>\n",
       "    <tr>\n",
       "      <th>16674</th>\n",
       "      <td> GFUI040028-PA</td>\n",
       "      <td> P</td>\n",
       "      <td> GO:0030206</td>\n",
       "      <td> chondroitin sulfate biosynthetic process</td>\n",
       "      <td>  531.080335</td>\n",
       "      <td> 0.130495</td>\n",
       "      <td> 17.190854</td>\n",
       "    </tr>\n",
       "    <tr>\n",
       "      <th>16673</th>\n",
       "      <td> GFUI040028-PA</td>\n",
       "      <td> P</td>\n",
       "      <td> GO:0008152</td>\n",
       "      <td>                        metabolic process</td>\n",
       "      <td>  244.283911</td>\n",
       "      <td> 0.665907</td>\n",
       "      <td>  0.544703</td>\n",
       "    </tr>\n",
       "  </tbody>\n",
       "</table>\n",
       "</div>"
      ],
      "text/plain": [
       "            Sequence Aspect       GO ID  \\\n",
       "16676  GFUI040028-PA      C  GO:0032580   \n",
       "16675  GFUI040028-PA      F  GO:0008376   \n",
       "16674  GFUI040028-PA      P  GO:0030206   \n",
       "16673  GFUI040028-PA      P  GO:0008152   \n",
       "\n",
       "                                           Name  Total Score  \\\n",
       "16676                   Golgi cisterna membrane  5454.162533   \n",
       "16675  acetylgalactosaminyltransferase activity  4011.619006   \n",
       "16674  chondroitin sulfate biosynthetic process   531.080335   \n",
       "16673                         metabolic process   244.283911   \n",
       "\n",
       "       Internal Confidence  Information Content  \n",
       "16676             0.263156            11.587434  \n",
       "16675             0.382311            12.188692  \n",
       "16674             0.130495            17.190854  \n",
       "16673             0.665907             0.544703  "
      ]
     },
     "metadata": {},
     "output_type": "display_data"
    },
    {
     "data": {
      "text/html": [
       "<p>"
      ],
      "text/plain": [
       "<IPython.core.display.HTML object>"
      ]
     },
     "metadata": {},
     "output_type": "display_data"
    },
    {
     "data": {
      "text/html": [
       "<a href=\"https://www.vectorbase.org/Glossina_fuscipes/Gene/Summary?db=core;g=GFUI040028\"> GFUI040028: gene home page</a>"
      ],
      "text/plain": [
       "<IPython.core.display.HTML object>"
      ]
     },
     "metadata": {},
     "output_type": "display_data"
    },
    {
     "data": {
      "text/html": [
       "<a href=\"https://www.vectorbase.org/Glossina_fuscipes/Transcript/ProteinSummary?db=core;g=GFUI040028\"> GFUI040028: protein summary </a>"
      ],
      "text/plain": [
       "<IPython.core.display.HTML object>"
      ]
     },
     "metadata": {},
     "output_type": "display_data"
    },
    {
     "data": {
      "text/html": [
       "<a href=\"https://www.vectorbase.org/Glossina_fuscipes/Gene/Ontology/molecular_function?db=core;g=GFUI040028;oid=molecular_function\"> GFUI040028: gene ontology </a>"
      ],
      "text/plain": [
       "<IPython.core.display.HTML object>"
      ]
     },
     "metadata": {},
     "output_type": "display_data"
    },
    {
     "data": {
      "text/html": [
       "<a href=\"https://www.vectorbase.org/Glossina_fuscipes/Location/View?db=core;g=GFUI040028;r\"> GFUI040028: genome browser </a>"
      ],
      "text/plain": [
       "<IPython.core.display.HTML object>"
      ]
     },
     "metadata": {},
     "output_type": "display_data"
    },
    {
     "data": {
      "text/html": [
       "<hr>"
      ],
      "text/plain": [
       "<IPython.core.display.HTML object>"
      ]
     },
     "metadata": {},
     "output_type": "display_data"
    },
    {
     "data": {
      "text/html": [
       "<h2>GFUI017230</h2>"
      ],
      "text/plain": [
       "<IPython.core.display.HTML object>"
      ]
     },
     "metadata": {},
     "output_type": "display_data"
    },
    {
     "data": {
      "text/html": [
       "<b>SNP location:</b><br>Scaffold226:46793<br>"
      ],
      "text/plain": [
       "<IPython.core.display.HTML object>"
      ]
     },
     "metadata": {},
     "output_type": "display_data"
    },
    {
     "data": {
      "text/html": [
       "<div style=\"max-height:1000px;max-width:1500px;overflow:auto;\">\n",
       "<table border=\"1\" class=\"dataframe\">\n",
       "  <thead>\n",
       "    <tr style=\"text-align: right;\">\n",
       "      <th></th>\n",
       "      <th>Sequence</th>\n",
       "      <th>Aspect</th>\n",
       "      <th>GO ID</th>\n",
       "      <th>Name</th>\n",
       "      <th>Total Score</th>\n",
       "      <th>Internal Confidence</th>\n",
       "      <th>Information Content</th>\n",
       "    </tr>\n",
       "  </thead>\n",
       "  <tbody>\n",
       "    <tr>\n",
       "      <th>40513</th>\n",
       "      <td> GFUI017230-PA</td>\n",
       "      <td> P</td>\n",
       "      <td> GO:0015937</td>\n",
       "      <td> coenzyme A biosynthetic process</td>\n",
       "      <td> 200.189044</td>\n",
       "      <td> 0.171575</td>\n",
       "      <td> 11.339269</td>\n",
       "    </tr>\n",
       "  </tbody>\n",
       "</table>\n",
       "</div>"
      ],
      "text/plain": [
       "            Sequence Aspect       GO ID                             Name  \\\n",
       "40513  GFUI017230-PA      P  GO:0015937  coenzyme A biosynthetic process   \n",
       "\n",
       "       Total Score  Internal Confidence  Information Content  \n",
       "40513   200.189044             0.171575            11.339269  "
      ]
     },
     "metadata": {},
     "output_type": "display_data"
    },
    {
     "data": {
      "text/html": [
       "<p>"
      ],
      "text/plain": [
       "<IPython.core.display.HTML object>"
      ]
     },
     "metadata": {},
     "output_type": "display_data"
    },
    {
     "data": {
      "text/html": [
       "<a href=\"https://www.vectorbase.org/Glossina_fuscipes/Gene/Summary?db=core;g=GFUI017230\"> GFUI017230: gene home page</a>"
      ],
      "text/plain": [
       "<IPython.core.display.HTML object>"
      ]
     },
     "metadata": {},
     "output_type": "display_data"
    },
    {
     "data": {
      "text/html": [
       "<a href=\"https://www.vectorbase.org/Glossina_fuscipes/Transcript/ProteinSummary?db=core;g=GFUI017230\"> GFUI017230: protein summary </a>"
      ],
      "text/plain": [
       "<IPython.core.display.HTML object>"
      ]
     },
     "metadata": {},
     "output_type": "display_data"
    },
    {
     "data": {
      "text/html": [
       "<a href=\"https://www.vectorbase.org/Glossina_fuscipes/Gene/Ontology/molecular_function?db=core;g=GFUI017230;oid=molecular_function\"> GFUI017230: gene ontology </a>"
      ],
      "text/plain": [
       "<IPython.core.display.HTML object>"
      ]
     },
     "metadata": {},
     "output_type": "display_data"
    },
    {
     "data": {
      "text/html": [
       "<a href=\"https://www.vectorbase.org/Glossina_fuscipes/Location/View?db=core;g=GFUI017230;r\"> GFUI017230: genome browser </a>"
      ],
      "text/plain": [
       "<IPython.core.display.HTML object>"
      ]
     },
     "metadata": {},
     "output_type": "display_data"
    },
    {
     "data": {
      "text/html": [
       "<hr>"
      ],
      "text/plain": [
       "<IPython.core.display.HTML object>"
      ]
     },
     "metadata": {},
     "output_type": "display_data"
    },
    {
     "data": {
      "text/html": [
       "<h2>GFUI013677</h2>"
      ],
      "text/plain": [
       "<IPython.core.display.HTML object>"
      ]
     },
     "metadata": {},
     "output_type": "display_data"
    },
    {
     "data": {
      "text/html": [
       "<b>SNP location:</b><br>Scaffold191:251842<br>"
      ],
      "text/plain": [
       "<IPython.core.display.HTML object>"
      ]
     },
     "metadata": {},
     "output_type": "display_data"
    },
    {
     "data": {
      "text/html": [
       "<div style=\"max-height:1000px;max-width:1500px;overflow:auto;\">\n",
       "<table border=\"1\" class=\"dataframe\">\n",
       "  <thead>\n",
       "    <tr style=\"text-align: right;\">\n",
       "      <th></th>\n",
       "      <th>Sequence</th>\n",
       "      <th>Aspect</th>\n",
       "      <th>GO ID</th>\n",
       "      <th>Name</th>\n",
       "      <th>Total Score</th>\n",
       "      <th>Internal Confidence</th>\n",
       "      <th>Information Content</th>\n",
       "    </tr>\n",
       "  </thead>\n",
       "  <tbody>\n",
       "  </tbody>\n",
       "</table>\n",
       "</div>"
      ],
      "text/plain": [
       "Empty DataFrame\n",
       "Columns: [Sequence, Aspect, GO ID, Name, Total Score, Internal Confidence, Information Content]\n",
       "Index: []"
      ]
     },
     "metadata": {},
     "output_type": "display_data"
    },
    {
     "data": {
      "text/html": [
       "<p>"
      ],
      "text/plain": [
       "<IPython.core.display.HTML object>"
      ]
     },
     "metadata": {},
     "output_type": "display_data"
    },
    {
     "data": {
      "text/html": [
       "<a href=\"https://www.vectorbase.org/Glossina_fuscipes/Gene/Summary?db=core;g=GFUI013677\"> GFUI013677: gene home page</a>"
      ],
      "text/plain": [
       "<IPython.core.display.HTML object>"
      ]
     },
     "metadata": {},
     "output_type": "display_data"
    },
    {
     "data": {
      "text/html": [
       "<a href=\"https://www.vectorbase.org/Glossina_fuscipes/Transcript/ProteinSummary?db=core;g=GFUI013677\"> GFUI013677: protein summary </a>"
      ],
      "text/plain": [
       "<IPython.core.display.HTML object>"
      ]
     },
     "metadata": {},
     "output_type": "display_data"
    },
    {
     "data": {
      "text/html": [
       "<a href=\"https://www.vectorbase.org/Glossina_fuscipes/Gene/Ontology/molecular_function?db=core;g=GFUI013677;oid=molecular_function\"> GFUI013677: gene ontology </a>"
      ],
      "text/plain": [
       "<IPython.core.display.HTML object>"
      ]
     },
     "metadata": {},
     "output_type": "display_data"
    },
    {
     "data": {
      "text/html": [
       "<a href=\"https://www.vectorbase.org/Glossina_fuscipes/Location/View?db=core;g=GFUI013677;r\"> GFUI013677: genome browser </a>"
      ],
      "text/plain": [
       "<IPython.core.display.HTML object>"
      ]
     },
     "metadata": {},
     "output_type": "display_data"
    },
    {
     "data": {
      "text/html": [
       "<hr>"
      ],
      "text/plain": [
       "<IPython.core.display.HTML object>"
      ]
     },
     "metadata": {},
     "output_type": "display_data"
    },
    {
     "data": {
      "text/html": [
       "<h2>GFUI031964</h2>"
      ],
      "text/plain": [
       "<IPython.core.display.HTML object>"
      ]
     },
     "metadata": {},
     "output_type": "display_data"
    },
    {
     "data": {
      "text/html": [
       "<b>SNP location:</b><br>Scaffold41:625383<br>"
      ],
      "text/plain": [
       "<IPython.core.display.HTML object>"
      ]
     },
     "metadata": {},
     "output_type": "display_data"
    },
    {
     "data": {
      "text/html": [
       "<div style=\"max-height:1000px;max-width:1500px;overflow:auto;\">\n",
       "<table border=\"1\" class=\"dataframe\">\n",
       "  <thead>\n",
       "    <tr style=\"text-align: right;\">\n",
       "      <th></th>\n",
       "      <th>Sequence</th>\n",
       "      <th>Aspect</th>\n",
       "      <th>GO ID</th>\n",
       "      <th>Name</th>\n",
       "      <th>Total Score</th>\n",
       "      <th>Internal Confidence</th>\n",
       "      <th>Information Content</th>\n",
       "    </tr>\n",
       "  </thead>\n",
       "  <tbody>\n",
       "    <tr>\n",
       "      <th>30412</th>\n",
       "      <td> GFUI031964-PA</td>\n",
       "      <td> P</td>\n",
       "      <td> GO:0009113</td>\n",
       "      <td> purine nucleobase biosynthetic process</td>\n",
       "      <td> 5491.021276</td>\n",
       "      <td> 0.177935</td>\n",
       "      <td> 11.587483</td>\n",
       "    </tr>\n",
       "    <tr>\n",
       "      <th>30420</th>\n",
       "      <td> GFUI031964-PA</td>\n",
       "      <td> C</td>\n",
       "      <td> GO:0005737</td>\n",
       "      <td>                              cytoplasm</td>\n",
       "      <td> 4674.934743</td>\n",
       "      <td> 0.701739</td>\n",
       "      <td>  3.178476</td>\n",
       "    </tr>\n",
       "    <tr>\n",
       "      <th>30411</th>\n",
       "      <td> GFUI031964-PA</td>\n",
       "      <td> P</td>\n",
       "      <td> GO:0006189</td>\n",
       "      <td>     'de novo' IMP biosynthetic process</td>\n",
       "      <td> 2867.784821</td>\n",
       "      <td> 0.189605</td>\n",
       "      <td> 10.660827</td>\n",
       "    </tr>\n",
       "    <tr>\n",
       "      <th>30410</th>\n",
       "      <td> GFUI031964-PA</td>\n",
       "      <td> P</td>\n",
       "      <td> GO:0006164</td>\n",
       "      <td> purine nucleotide biosynthetic process</td>\n",
       "      <td> 1986.856174</td>\n",
       "      <td> 0.369262</td>\n",
       "      <td>  8.746778</td>\n",
       "    </tr>\n",
       "    <tr>\n",
       "      <th>30415</th>\n",
       "      <td> GFUI031964-PA</td>\n",
       "      <td> F</td>\n",
       "      <td> GO:0005524</td>\n",
       "      <td>                            ATP binding</td>\n",
       "      <td>  651.975366</td>\n",
       "      <td> 0.107022</td>\n",
       "      <td>  4.006505</td>\n",
       "    </tr>\n",
       "    <tr>\n",
       "      <th>30417</th>\n",
       "      <td> GFUI031964-PA</td>\n",
       "      <td> F</td>\n",
       "      <td> GO:0046872</td>\n",
       "      <td>                      metal ion binding</td>\n",
       "      <td>  501.280697</td>\n",
       "      <td> 0.225829</td>\n",
       "      <td>  3.508837</td>\n",
       "    </tr>\n",
       "    <tr>\n",
       "      <th>30413</th>\n",
       "      <td> GFUI031964-PA</td>\n",
       "      <td> P</td>\n",
       "      <td> GO:0009058</td>\n",
       "      <td>                   biosynthetic process</td>\n",
       "      <td>  494.358948</td>\n",
       "      <td> 0.662878</td>\n",
       "      <td>  3.224683</td>\n",
       "    </tr>\n",
       "    <tr>\n",
       "      <th>30414</th>\n",
       "      <td> GFUI031964-PA</td>\n",
       "      <td> F</td>\n",
       "      <td> GO:0000166</td>\n",
       "      <td>                     nucleotide binding</td>\n",
       "      <td>  373.202600</td>\n",
       "      <td> 0.212997</td>\n",
       "      <td>  2.468432</td>\n",
       "    </tr>\n",
       "    <tr>\n",
       "      <th>30419</th>\n",
       "      <td> GFUI031964-PA</td>\n",
       "      <td> F</td>\n",
       "      <td> GO:0003824</td>\n",
       "      <td>                     catalytic activity</td>\n",
       "      <td>  345.605884</td>\n",
       "      <td> 0.546336</td>\n",
       "      <td>  1.410349</td>\n",
       "    </tr>\n",
       "    <tr>\n",
       "      <th>30418</th>\n",
       "      <td> GFUI031964-PA</td>\n",
       "      <td> F</td>\n",
       "      <td> GO:0030145</td>\n",
       "      <td>                  manganese ion binding</td>\n",
       "      <td>  324.756461</td>\n",
       "      <td> 0.058359</td>\n",
       "      <td>  7.208685</td>\n",
       "    </tr>\n",
       "    <tr>\n",
       "      <th>30416</th>\n",
       "      <td> GFUI031964-PA</td>\n",
       "      <td> F</td>\n",
       "      <td> GO:0000287</td>\n",
       "      <td>                  magnesium ion binding</td>\n",
       "      <td>  285.100628</td>\n",
       "      <td> 0.062192</td>\n",
       "      <td>  5.572348</td>\n",
       "    </tr>\n",
       "  </tbody>\n",
       "</table>\n",
       "</div>"
      ],
      "text/plain": [
       "            Sequence Aspect       GO ID  \\\n",
       "30412  GFUI031964-PA      P  GO:0009113   \n",
       "30420  GFUI031964-PA      C  GO:0005737   \n",
       "30411  GFUI031964-PA      P  GO:0006189   \n",
       "30410  GFUI031964-PA      P  GO:0006164   \n",
       "30415  GFUI031964-PA      F  GO:0005524   \n",
       "30417  GFUI031964-PA      F  GO:0046872   \n",
       "30413  GFUI031964-PA      P  GO:0009058   \n",
       "30414  GFUI031964-PA      F  GO:0000166   \n",
       "30419  GFUI031964-PA      F  GO:0003824   \n",
       "30418  GFUI031964-PA      F  GO:0030145   \n",
       "30416  GFUI031964-PA      F  GO:0000287   \n",
       "\n",
       "                                         Name  Total Score  \\\n",
       "30412  purine nucleobase biosynthetic process  5491.021276   \n",
       "30420                               cytoplasm  4674.934743   \n",
       "30411      'de novo' IMP biosynthetic process  2867.784821   \n",
       "30410  purine nucleotide biosynthetic process  1986.856174   \n",
       "30415                             ATP binding   651.975366   \n",
       "30417                       metal ion binding   501.280697   \n",
       "30413                    biosynthetic process   494.358948   \n",
       "30414                      nucleotide binding   373.202600   \n",
       "30419                      catalytic activity   345.605884   \n",
       "30418                   manganese ion binding   324.756461   \n",
       "30416                   magnesium ion binding   285.100628   \n",
       "\n",
       "       Internal Confidence  Information Content  \n",
       "30412             0.177935            11.587483  \n",
       "30420             0.701739             3.178476  \n",
       "30411             0.189605            10.660827  \n",
       "30410             0.369262             8.746778  \n",
       "30415             0.107022             4.006505  \n",
       "30417             0.225829             3.508837  \n",
       "30413             0.662878             3.224683  \n",
       "30414             0.212997             2.468432  \n",
       "30419             0.546336             1.410349  \n",
       "30418             0.058359             7.208685  \n",
       "30416             0.062192             5.572348  "
      ]
     },
     "metadata": {},
     "output_type": "display_data"
    },
    {
     "data": {
      "text/html": [
       "<p>"
      ],
      "text/plain": [
       "<IPython.core.display.HTML object>"
      ]
     },
     "metadata": {},
     "output_type": "display_data"
    },
    {
     "data": {
      "text/html": [
       "<a href=\"https://www.vectorbase.org/Glossina_fuscipes/Gene/Summary?db=core;g=GFUI031964\"> GFUI031964: gene home page</a>"
      ],
      "text/plain": [
       "<IPython.core.display.HTML object>"
      ]
     },
     "metadata": {},
     "output_type": "display_data"
    },
    {
     "data": {
      "text/html": [
       "<a href=\"https://www.vectorbase.org/Glossina_fuscipes/Transcript/ProteinSummary?db=core;g=GFUI031964\"> GFUI031964: protein summary </a>"
      ],
      "text/plain": [
       "<IPython.core.display.HTML object>"
      ]
     },
     "metadata": {},
     "output_type": "display_data"
    },
    {
     "data": {
      "text/html": [
       "<a href=\"https://www.vectorbase.org/Glossina_fuscipes/Gene/Ontology/molecular_function?db=core;g=GFUI031964;oid=molecular_function\"> GFUI031964: gene ontology </a>"
      ],
      "text/plain": [
       "<IPython.core.display.HTML object>"
      ]
     },
     "metadata": {},
     "output_type": "display_data"
    },
    {
     "data": {
      "text/html": [
       "<a href=\"https://www.vectorbase.org/Glossina_fuscipes/Location/View?db=core;g=GFUI031964;r\"> GFUI031964: genome browser </a>"
      ],
      "text/plain": [
       "<IPython.core.display.HTML object>"
      ]
     },
     "metadata": {},
     "output_type": "display_data"
    },
    {
     "data": {
      "text/html": [
       "<hr>"
      ],
      "text/plain": [
       "<IPython.core.display.HTML object>"
      ]
     },
     "metadata": {},
     "output_type": "display_data"
    },
    {
     "data": {
      "text/html": [
       "<h2>GFUI030108</h2>"
      ],
      "text/plain": [
       "<IPython.core.display.HTML object>"
      ]
     },
     "metadata": {},
     "output_type": "display_data"
    },
    {
     "data": {
      "text/html": [
       "<b>SNP location:</b><br>Scaffold393:148824<br>"
      ],
      "text/plain": [
       "<IPython.core.display.HTML object>"
      ]
     },
     "metadata": {},
     "output_type": "display_data"
    },
    {
     "data": {
      "text/html": [
       "<div style=\"max-height:1000px;max-width:1500px;overflow:auto;\">\n",
       "<table border=\"1\" class=\"dataframe\">\n",
       "  <thead>\n",
       "    <tr style=\"text-align: right;\">\n",
       "      <th></th>\n",
       "      <th>Sequence</th>\n",
       "      <th>Aspect</th>\n",
       "      <th>GO ID</th>\n",
       "      <th>Name</th>\n",
       "      <th>Total Score</th>\n",
       "      <th>Internal Confidence</th>\n",
       "      <th>Information Content</th>\n",
       "    </tr>\n",
       "  </thead>\n",
       "  <tbody>\n",
       "  </tbody>\n",
       "</table>\n",
       "</div>"
      ],
      "text/plain": [
       "Empty DataFrame\n",
       "Columns: [Sequence, Aspect, GO ID, Name, Total Score, Internal Confidence, Information Content]\n",
       "Index: []"
      ]
     },
     "metadata": {},
     "output_type": "display_data"
    },
    {
     "data": {
      "text/html": [
       "<p>"
      ],
      "text/plain": [
       "<IPython.core.display.HTML object>"
      ]
     },
     "metadata": {},
     "output_type": "display_data"
    },
    {
     "data": {
      "text/html": [
       "<a href=\"https://www.vectorbase.org/Glossina_fuscipes/Gene/Summary?db=core;g=GFUI030108\"> GFUI030108: gene home page</a>"
      ],
      "text/plain": [
       "<IPython.core.display.HTML object>"
      ]
     },
     "metadata": {},
     "output_type": "display_data"
    },
    {
     "data": {
      "text/html": [
       "<a href=\"https://www.vectorbase.org/Glossina_fuscipes/Transcript/ProteinSummary?db=core;g=GFUI030108\"> GFUI030108: protein summary </a>"
      ],
      "text/plain": [
       "<IPython.core.display.HTML object>"
      ]
     },
     "metadata": {},
     "output_type": "display_data"
    },
    {
     "data": {
      "text/html": [
       "<a href=\"https://www.vectorbase.org/Glossina_fuscipes/Gene/Ontology/molecular_function?db=core;g=GFUI030108;oid=molecular_function\"> GFUI030108: gene ontology </a>"
      ],
      "text/plain": [
       "<IPython.core.display.HTML object>"
      ]
     },
     "metadata": {},
     "output_type": "display_data"
    },
    {
     "data": {
      "text/html": [
       "<a href=\"https://www.vectorbase.org/Glossina_fuscipes/Location/View?db=core;g=GFUI030108;r\"> GFUI030108: genome browser </a>"
      ],
      "text/plain": [
       "<IPython.core.display.HTML object>"
      ]
     },
     "metadata": {},
     "output_type": "display_data"
    },
    {
     "data": {
      "text/html": [
       "<hr>"
      ],
      "text/plain": [
       "<IPython.core.display.HTML object>"
      ]
     },
     "metadata": {},
     "output_type": "display_data"
    },
    {
     "data": {
      "text/html": [
       "<h2>GFUI031966</h2>"
      ],
      "text/plain": [
       "<IPython.core.display.HTML object>"
      ]
     },
     "metadata": {},
     "output_type": "display_data"
    },
    {
     "data": {
      "text/html": [
       "<b>SNP location:</b><br>Scaffold41:625383<br>"
      ],
      "text/plain": [
       "<IPython.core.display.HTML object>"
      ]
     },
     "metadata": {},
     "output_type": "display_data"
    },
    {
     "data": {
      "text/html": [
       "<div style=\"max-height:1000px;max-width:1500px;overflow:auto;\">\n",
       "<table border=\"1\" class=\"dataframe\">\n",
       "  <thead>\n",
       "    <tr style=\"text-align: right;\">\n",
       "      <th></th>\n",
       "      <th>Sequence</th>\n",
       "      <th>Aspect</th>\n",
       "      <th>GO ID</th>\n",
       "      <th>Name</th>\n",
       "      <th>Total Score</th>\n",
       "      <th>Internal Confidence</th>\n",
       "      <th>Information Content</th>\n",
       "    </tr>\n",
       "  </thead>\n",
       "  <tbody>\n",
       "    <tr>\n",
       "      <th>29956</th>\n",
       "      <td> GFUI031966-PA</td>\n",
       "      <td> P</td>\n",
       "      <td> GO:0016192</td>\n",
       "      <td>     vesicle-mediated transport</td>\n",
       "      <td> 7400.862963</td>\n",
       "      <td> 0.388379</td>\n",
       "      <td> 9.503609</td>\n",
       "    </tr>\n",
       "    <tr>\n",
       "      <th>29957</th>\n",
       "      <td> GFUI031966-PA</td>\n",
       "      <td> C</td>\n",
       "      <td> GO:0016021</td>\n",
       "      <td> integral component of membrane</td>\n",
       "      <td> 2956.820968</td>\n",
       "      <td> 0.388879</td>\n",
       "      <td> 3.692502</td>\n",
       "    </tr>\n",
       "    <tr>\n",
       "      <th>29955</th>\n",
       "      <td> GFUI031966-PA</td>\n",
       "      <td> P</td>\n",
       "      <td> GO:0006810</td>\n",
       "      <td>                      transport</td>\n",
       "      <td> 2421.413744</td>\n",
       "      <td> 0.787732</td>\n",
       "      <td> 5.069855</td>\n",
       "    </tr>\n",
       "  </tbody>\n",
       "</table>\n",
       "</div>"
      ],
      "text/plain": [
       "            Sequence Aspect       GO ID                            Name  \\\n",
       "29956  GFUI031966-PA      P  GO:0016192      vesicle-mediated transport   \n",
       "29957  GFUI031966-PA      C  GO:0016021  integral component of membrane   \n",
       "29955  GFUI031966-PA      P  GO:0006810                       transport   \n",
       "\n",
       "       Total Score  Internal Confidence  Information Content  \n",
       "29956  7400.862963             0.388379             9.503609  \n",
       "29957  2956.820968             0.388879             3.692502  \n",
       "29955  2421.413744             0.787732             5.069855  "
      ]
     },
     "metadata": {},
     "output_type": "display_data"
    },
    {
     "data": {
      "text/html": [
       "<p>"
      ],
      "text/plain": [
       "<IPython.core.display.HTML object>"
      ]
     },
     "metadata": {},
     "output_type": "display_data"
    },
    {
     "data": {
      "text/html": [
       "<a href=\"https://www.vectorbase.org/Glossina_fuscipes/Gene/Summary?db=core;g=GFUI031966\"> GFUI031966: gene home page</a>"
      ],
      "text/plain": [
       "<IPython.core.display.HTML object>"
      ]
     },
     "metadata": {},
     "output_type": "display_data"
    },
    {
     "data": {
      "text/html": [
       "<a href=\"https://www.vectorbase.org/Glossina_fuscipes/Transcript/ProteinSummary?db=core;g=GFUI031966\"> GFUI031966: protein summary </a>"
      ],
      "text/plain": [
       "<IPython.core.display.HTML object>"
      ]
     },
     "metadata": {},
     "output_type": "display_data"
    },
    {
     "data": {
      "text/html": [
       "<a href=\"https://www.vectorbase.org/Glossina_fuscipes/Gene/Ontology/molecular_function?db=core;g=GFUI031966;oid=molecular_function\"> GFUI031966: gene ontology </a>"
      ],
      "text/plain": [
       "<IPython.core.display.HTML object>"
      ]
     },
     "metadata": {},
     "output_type": "display_data"
    },
    {
     "data": {
      "text/html": [
       "<a href=\"https://www.vectorbase.org/Glossina_fuscipes/Location/View?db=core;g=GFUI031966;r\"> GFUI031966: genome browser </a>"
      ],
      "text/plain": [
       "<IPython.core.display.HTML object>"
      ]
     },
     "metadata": {},
     "output_type": "display_data"
    },
    {
     "data": {
      "text/html": [
       "<hr>"
      ],
      "text/plain": [
       "<IPython.core.display.HTML object>"
      ]
     },
     "metadata": {},
     "output_type": "display_data"
    },
    {
     "data": {
      "text/html": [
       "<h2>GFUI043720</h2>"
      ],
      "text/plain": [
       "<IPython.core.display.HTML object>"
      ]
     },
     "metadata": {},
     "output_type": "display_data"
    },
    {
     "data": {
      "text/html": [
       "<b>SNP location:</b><br>Scaffold66:856904<br>"
      ],
      "text/plain": [
       "<IPython.core.display.HTML object>"
      ]
     },
     "metadata": {},
     "output_type": "display_data"
    },
    {
     "data": {
      "text/html": [
       "<div style=\"max-height:1000px;max-width:1500px;overflow:auto;\">\n",
       "<table border=\"1\" class=\"dataframe\">\n",
       "  <thead>\n",
       "    <tr style=\"text-align: right;\">\n",
       "      <th></th>\n",
       "      <th>Sequence</th>\n",
       "      <th>Aspect</th>\n",
       "      <th>GO ID</th>\n",
       "      <th>Name</th>\n",
       "      <th>Total Score</th>\n",
       "      <th>Internal Confidence</th>\n",
       "      <th>Information Content</th>\n",
       "    </tr>\n",
       "  </thead>\n",
       "  <tbody>\n",
       "    <tr>\n",
       "      <th>51722</th>\n",
       "      <td> GFUI043720-PA</td>\n",
       "      <td> P</td>\n",
       "      <td> GO:0006470</td>\n",
       "      <td>                         protein dephosphorylation</td>\n",
       "      <td> 2077.021281</td>\n",
       "      <td> 0.236174</td>\n",
       "      <td> 11.013535</td>\n",
       "    </tr>\n",
       "    <tr>\n",
       "      <th>51725</th>\n",
       "      <td> GFUI043720-PA</td>\n",
       "      <td> P</td>\n",
       "      <td> GO:0035335</td>\n",
       "      <td>               peptidyl-tyrosine dephosphorylation</td>\n",
       "      <td> 1854.192243</td>\n",
       "      <td> 0.104459</td>\n",
       "      <td> 11.690944</td>\n",
       "    </tr>\n",
       "    <tr>\n",
       "      <th>51724</th>\n",
       "      <td> GFUI043720-PA</td>\n",
       "      <td> P</td>\n",
       "      <td> GO:0016311</td>\n",
       "      <td>                                 dephosphorylation</td>\n",
       "      <td> 1327.332234</td>\n",
       "      <td> 0.334633</td>\n",
       "      <td>  9.783756</td>\n",
       "    </tr>\n",
       "    <tr>\n",
       "      <th>51729</th>\n",
       "      <td> GFUI043720-PA</td>\n",
       "      <td> F</td>\n",
       "      <td> GO:0004725</td>\n",
       "      <td>             protein tyrosine phosphatase activity</td>\n",
       "      <td> 1106.817502</td>\n",
       "      <td> 0.176805</td>\n",
       "      <td>  8.510896</td>\n",
       "    </tr>\n",
       "    <tr>\n",
       "      <th>51726</th>\n",
       "      <td> GFUI043720-PA</td>\n",
       "      <td> F</td>\n",
       "      <td> GO:0016787</td>\n",
       "      <td>                                hydrolase activity</td>\n",
       "      <td> 1088.596949</td>\n",
       "      <td> 0.857645</td>\n",
       "      <td>  2.643033</td>\n",
       "    </tr>\n",
       "    <tr>\n",
       "      <th>51730</th>\n",
       "      <td> GFUI043720-PA</td>\n",
       "      <td> F</td>\n",
       "      <td> GO:0008138</td>\n",
       "      <td> protein tyrosine/serine/threonine phosphatase ...</td>\n",
       "      <td>  904.445986</td>\n",
       "      <td> 0.147903</td>\n",
       "      <td> 10.023433</td>\n",
       "    </tr>\n",
       "    <tr>\n",
       "      <th>51728</th>\n",
       "      <td> GFUI043720-PA</td>\n",
       "      <td> F</td>\n",
       "      <td> GO:0004721</td>\n",
       "      <td>               phosphoprotein phosphatase activity</td>\n",
       "      <td>  837.540183</td>\n",
       "      <td> 0.541206</td>\n",
       "      <td>  7.887060</td>\n",
       "    </tr>\n",
       "    <tr>\n",
       "      <th>51727</th>\n",
       "      <td> GFUI043720-PA</td>\n",
       "      <td> F</td>\n",
       "      <td> GO:0016791</td>\n",
       "      <td>                              phosphatase activity</td>\n",
       "      <td>  663.461735</td>\n",
       "      <td> 0.703193</td>\n",
       "      <td>  6.651616</td>\n",
       "    </tr>\n",
       "    <tr>\n",
       "      <th>51733</th>\n",
       "      <td> GFUI043720-PA</td>\n",
       "      <td> C</td>\n",
       "      <td> GO:0005634</td>\n",
       "      <td>                                           nucleus</td>\n",
       "      <td>  555.072824</td>\n",
       "      <td> 0.429894</td>\n",
       "      <td>  5.725783</td>\n",
       "    </tr>\n",
       "    <tr>\n",
       "      <th>51732</th>\n",
       "      <td> GFUI043720-PA</td>\n",
       "      <td> C</td>\n",
       "      <td> GO:0005737</td>\n",
       "      <td>                                         cytoplasm</td>\n",
       "      <td>  497.846080</td>\n",
       "      <td> 0.152037</td>\n",
       "      <td>  3.178476</td>\n",
       "    </tr>\n",
       "    <tr>\n",
       "      <th>51735</th>\n",
       "      <td> GFUI043720-PA</td>\n",
       "      <td> C</td>\n",
       "      <td> GO:0005730</td>\n",
       "      <td>                                         nucleolus</td>\n",
       "      <td>  389.302073</td>\n",
       "      <td> 0.124618</td>\n",
       "      <td>  9.264441</td>\n",
       "    </tr>\n",
       "    <tr>\n",
       "      <th>51723</th>\n",
       "      <td> GFUI043720-PA</td>\n",
       "      <td> P</td>\n",
       "      <td> GO:0007096</td>\n",
       "      <td>                   regulation of exit from mitosis</td>\n",
       "      <td>  367.731156</td>\n",
       "      <td> 0.052932</td>\n",
       "      <td> 16.042232</td>\n",
       "    </tr>\n",
       "    <tr>\n",
       "      <th>51734</th>\n",
       "      <td> GFUI043720-PA</td>\n",
       "      <td> C</td>\n",
       "      <td> GO:0005654</td>\n",
       "      <td>                                       nucleoplasm</td>\n",
       "      <td>  303.231978</td>\n",
       "      <td> 0.102342</td>\n",
       "      <td>  8.366626</td>\n",
       "    </tr>\n",
       "  </tbody>\n",
       "</table>\n",
       "</div>"
      ],
      "text/plain": [
       "            Sequence Aspect       GO ID  \\\n",
       "51722  GFUI043720-PA      P  GO:0006470   \n",
       "51725  GFUI043720-PA      P  GO:0035335   \n",
       "51724  GFUI043720-PA      P  GO:0016311   \n",
       "51729  GFUI043720-PA      F  GO:0004725   \n",
       "51726  GFUI043720-PA      F  GO:0016787   \n",
       "51730  GFUI043720-PA      F  GO:0008138   \n",
       "51728  GFUI043720-PA      F  GO:0004721   \n",
       "51727  GFUI043720-PA      F  GO:0016791   \n",
       "51733  GFUI043720-PA      C  GO:0005634   \n",
       "51732  GFUI043720-PA      C  GO:0005737   \n",
       "51735  GFUI043720-PA      C  GO:0005730   \n",
       "51723  GFUI043720-PA      P  GO:0007096   \n",
       "51734  GFUI043720-PA      C  GO:0005654   \n",
       "\n",
       "                                                    Name  Total Score  \\\n",
       "51722                          protein dephosphorylation  2077.021281   \n",
       "51725                peptidyl-tyrosine dephosphorylation  1854.192243   \n",
       "51724                                  dephosphorylation  1327.332234   \n",
       "51729              protein tyrosine phosphatase activity  1106.817502   \n",
       "51726                                 hydrolase activity  1088.596949   \n",
       "51730  protein tyrosine/serine/threonine phosphatase ...   904.445986   \n",
       "51728                phosphoprotein phosphatase activity   837.540183   \n",
       "51727                               phosphatase activity   663.461735   \n",
       "51733                                            nucleus   555.072824   \n",
       "51732                                          cytoplasm   497.846080   \n",
       "51735                                          nucleolus   389.302073   \n",
       "51723                    regulation of exit from mitosis   367.731156   \n",
       "51734                                        nucleoplasm   303.231978   \n",
       "\n",
       "       Internal Confidence  Information Content  \n",
       "51722             0.236174            11.013535  \n",
       "51725             0.104459            11.690944  \n",
       "51724             0.334633             9.783756  \n",
       "51729             0.176805             8.510896  \n",
       "51726             0.857645             2.643033  \n",
       "51730             0.147903            10.023433  \n",
       "51728             0.541206             7.887060  \n",
       "51727             0.703193             6.651616  \n",
       "51733             0.429894             5.725783  \n",
       "51732             0.152037             3.178476  \n",
       "51735             0.124618             9.264441  \n",
       "51723             0.052932            16.042232  \n",
       "51734             0.102342             8.366626  "
      ]
     },
     "metadata": {},
     "output_type": "display_data"
    },
    {
     "data": {
      "text/html": [
       "<p>"
      ],
      "text/plain": [
       "<IPython.core.display.HTML object>"
      ]
     },
     "metadata": {},
     "output_type": "display_data"
    },
    {
     "data": {
      "text/html": [
       "<a href=\"https://www.vectorbase.org/Glossina_fuscipes/Gene/Summary?db=core;g=GFUI043720\"> GFUI043720: gene home page</a>"
      ],
      "text/plain": [
       "<IPython.core.display.HTML object>"
      ]
     },
     "metadata": {},
     "output_type": "display_data"
    },
    {
     "data": {
      "text/html": [
       "<a href=\"https://www.vectorbase.org/Glossina_fuscipes/Transcript/ProteinSummary?db=core;g=GFUI043720\"> GFUI043720: protein summary </a>"
      ],
      "text/plain": [
       "<IPython.core.display.HTML object>"
      ]
     },
     "metadata": {},
     "output_type": "display_data"
    },
    {
     "data": {
      "text/html": [
       "<a href=\"https://www.vectorbase.org/Glossina_fuscipes/Gene/Ontology/molecular_function?db=core;g=GFUI043720;oid=molecular_function\"> GFUI043720: gene ontology </a>"
      ],
      "text/plain": [
       "<IPython.core.display.HTML object>"
      ]
     },
     "metadata": {},
     "output_type": "display_data"
    },
    {
     "data": {
      "text/html": [
       "<a href=\"https://www.vectorbase.org/Glossina_fuscipes/Location/View?db=core;g=GFUI043720;r\"> GFUI043720: genome browser </a>"
      ],
      "text/plain": [
       "<IPython.core.display.HTML object>"
      ]
     },
     "metadata": {},
     "output_type": "display_data"
    },
    {
     "data": {
      "text/html": [
       "<hr>"
      ],
      "text/plain": [
       "<IPython.core.display.HTML object>"
      ]
     },
     "metadata": {},
     "output_type": "display_data"
    },
    {
     "data": {
      "text/html": [
       "<h2>GFUI004832</h2>"
      ],
      "text/plain": [
       "<IPython.core.display.HTML object>"
      ]
     },
     "metadata": {},
     "output_type": "display_data"
    },
    {
     "data": {
      "text/html": [
       "<b>SNP location:</b><br>Scaffold118:256390<br>"
      ],
      "text/plain": [
       "<IPython.core.display.HTML object>"
      ]
     },
     "metadata": {},
     "output_type": "display_data"
    },
    {
     "data": {
      "text/html": [
       "<div style=\"max-height:1000px;max-width:1500px;overflow:auto;\">\n",
       "<table border=\"1\" class=\"dataframe\">\n",
       "  <thead>\n",
       "    <tr style=\"text-align: right;\">\n",
       "      <th></th>\n",
       "      <th>Sequence</th>\n",
       "      <th>Aspect</th>\n",
       "      <th>GO ID</th>\n",
       "      <th>Name</th>\n",
       "      <th>Total Score</th>\n",
       "      <th>Internal Confidence</th>\n",
       "      <th>Information Content</th>\n",
       "    </tr>\n",
       "  </thead>\n",
       "  <tbody>\n",
       "  </tbody>\n",
       "</table>\n",
       "</div>"
      ],
      "text/plain": [
       "Empty DataFrame\n",
       "Columns: [Sequence, Aspect, GO ID, Name, Total Score, Internal Confidence, Information Content]\n",
       "Index: []"
      ]
     },
     "metadata": {},
     "output_type": "display_data"
    },
    {
     "data": {
      "text/html": [
       "<p>"
      ],
      "text/plain": [
       "<IPython.core.display.HTML object>"
      ]
     },
     "metadata": {},
     "output_type": "display_data"
    },
    {
     "data": {
      "text/html": [
       "<a href=\"https://www.vectorbase.org/Glossina_fuscipes/Gene/Summary?db=core;g=GFUI004832\"> GFUI004832: gene home page</a>"
      ],
      "text/plain": [
       "<IPython.core.display.HTML object>"
      ]
     },
     "metadata": {},
     "output_type": "display_data"
    },
    {
     "data": {
      "text/html": [
       "<a href=\"https://www.vectorbase.org/Glossina_fuscipes/Transcript/ProteinSummary?db=core;g=GFUI004832\"> GFUI004832: protein summary </a>"
      ],
      "text/plain": [
       "<IPython.core.display.HTML object>"
      ]
     },
     "metadata": {},
     "output_type": "display_data"
    },
    {
     "data": {
      "text/html": [
       "<a href=\"https://www.vectorbase.org/Glossina_fuscipes/Gene/Ontology/molecular_function?db=core;g=GFUI004832;oid=molecular_function\"> GFUI004832: gene ontology </a>"
      ],
      "text/plain": [
       "<IPython.core.display.HTML object>"
      ]
     },
     "metadata": {},
     "output_type": "display_data"
    },
    {
     "data": {
      "text/html": [
       "<a href=\"https://www.vectorbase.org/Glossina_fuscipes/Location/View?db=core;g=GFUI004832;r\"> GFUI004832: genome browser </a>"
      ],
      "text/plain": [
       "<IPython.core.display.HTML object>"
      ]
     },
     "metadata": {},
     "output_type": "display_data"
    },
    {
     "data": {
      "text/html": [
       "<hr>"
      ],
      "text/plain": [
       "<IPython.core.display.HTML object>"
      ]
     },
     "metadata": {},
     "output_type": "display_data"
    },
    {
     "data": {
      "text/html": [
       "<h2>GFUI027643</h2>"
      ],
      "text/plain": [
       "<IPython.core.display.HTML object>"
      ]
     },
     "metadata": {},
     "output_type": "display_data"
    },
    {
     "data": {
      "text/html": [
       "<b>SNP location:</b><br>Scaffold356:53354<br>"
      ],
      "text/plain": [
       "<IPython.core.display.HTML object>"
      ]
     },
     "metadata": {},
     "output_type": "display_data"
    },
    {
     "data": {
      "text/html": [
       "<div style=\"max-height:1000px;max-width:1500px;overflow:auto;\">\n",
       "<table border=\"1\" class=\"dataframe\">\n",
       "  <thead>\n",
       "    <tr style=\"text-align: right;\">\n",
       "      <th></th>\n",
       "      <th>Sequence</th>\n",
       "      <th>Aspect</th>\n",
       "      <th>GO ID</th>\n",
       "      <th>Name</th>\n",
       "      <th>Total Score</th>\n",
       "      <th>Internal Confidence</th>\n",
       "      <th>Information Content</th>\n",
       "    </tr>\n",
       "  </thead>\n",
       "  <tbody>\n",
       "    <tr>\n",
       "      <th>31340</th>\n",
       "      <td> GFUI027643-PA</td>\n",
       "      <td> F</td>\n",
       "      <td> GO:0019904</td>\n",
       "      <td> protein domain specific binding</td>\n",
       "      <td> 9672.974692</td>\n",
       "      <td> 0.327969</td>\n",
       "      <td>  9.857636</td>\n",
       "    </tr>\n",
       "    <tr>\n",
       "      <th>31341</th>\n",
       "      <td> GFUI027643-PA</td>\n",
       "      <td> C</td>\n",
       "      <td> GO:0005737</td>\n",
       "      <td>                       cytoplasm</td>\n",
       "      <td> 1363.374577</td>\n",
       "      <td> 0.478286</td>\n",
       "      <td>  3.178476</td>\n",
       "    </tr>\n",
       "    <tr>\n",
       "      <th>31338</th>\n",
       "      <td> GFUI027643-PA</td>\n",
       "      <td> P</td>\n",
       "      <td> GO:0006605</td>\n",
       "      <td>               protein targeting</td>\n",
       "      <td> 1012.769700</td>\n",
       "      <td> 0.096342</td>\n",
       "      <td> 10.245803</td>\n",
       "    </tr>\n",
       "    <tr>\n",
       "      <th>31342</th>\n",
       "      <td> GFUI027643-PA</td>\n",
       "      <td> C</td>\n",
       "      <td> GO:0005634</td>\n",
       "      <td>                         nucleus</td>\n",
       "      <td>  499.670055</td>\n",
       "      <td> 0.089482</td>\n",
       "      <td>  5.725783</td>\n",
       "    </tr>\n",
       "    <tr>\n",
       "      <th>31344</th>\n",
       "      <td> GFUI027643-PA</td>\n",
       "      <td> C</td>\n",
       "      <td> GO:0070062</td>\n",
       "      <td> extracellular vesicular exosome</td>\n",
       "      <td>  499.264422</td>\n",
       "      <td> 0.089720</td>\n",
       "      <td>  8.572522</td>\n",
       "    </tr>\n",
       "    <tr>\n",
       "      <th>31339</th>\n",
       "      <td> GFUI027643-PA</td>\n",
       "      <td> F</td>\n",
       "      <td> GO:0005515</td>\n",
       "      <td>                 protein binding</td>\n",
       "      <td>  488.165307</td>\n",
       "      <td> 0.888360</td>\n",
       "      <td>  5.471582</td>\n",
       "    </tr>\n",
       "    <tr>\n",
       "      <th>31343</th>\n",
       "      <td> GFUI027643-PA</td>\n",
       "      <td> C</td>\n",
       "      <td> GO:0042470</td>\n",
       "      <td>                      melanosome</td>\n",
       "      <td>  254.581660</td>\n",
       "      <td> 0.053257</td>\n",
       "      <td> 12.405744</td>\n",
       "    </tr>\n",
       "  </tbody>\n",
       "</table>\n",
       "</div>"
      ],
      "text/plain": [
       "            Sequence Aspect       GO ID                             Name  \\\n",
       "31340  GFUI027643-PA      F  GO:0019904  protein domain specific binding   \n",
       "31341  GFUI027643-PA      C  GO:0005737                        cytoplasm   \n",
       "31338  GFUI027643-PA      P  GO:0006605                protein targeting   \n",
       "31342  GFUI027643-PA      C  GO:0005634                          nucleus   \n",
       "31344  GFUI027643-PA      C  GO:0070062  extracellular vesicular exosome   \n",
       "31339  GFUI027643-PA      F  GO:0005515                  protein binding   \n",
       "31343  GFUI027643-PA      C  GO:0042470                       melanosome   \n",
       "\n",
       "       Total Score  Internal Confidence  Information Content  \n",
       "31340  9672.974692             0.327969             9.857636  \n",
       "31341  1363.374577             0.478286             3.178476  \n",
       "31338  1012.769700             0.096342            10.245803  \n",
       "31342   499.670055             0.089482             5.725783  \n",
       "31344   499.264422             0.089720             8.572522  \n",
       "31339   488.165307             0.888360             5.471582  \n",
       "31343   254.581660             0.053257            12.405744  "
      ]
     },
     "metadata": {},
     "output_type": "display_data"
    },
    {
     "data": {
      "text/html": [
       "<p>"
      ],
      "text/plain": [
       "<IPython.core.display.HTML object>"
      ]
     },
     "metadata": {},
     "output_type": "display_data"
    },
    {
     "data": {
      "text/html": [
       "<a href=\"https://www.vectorbase.org/Glossina_fuscipes/Gene/Summary?db=core;g=GFUI027643\"> GFUI027643: gene home page</a>"
      ],
      "text/plain": [
       "<IPython.core.display.HTML object>"
      ]
     },
     "metadata": {},
     "output_type": "display_data"
    },
    {
     "data": {
      "text/html": [
       "<a href=\"https://www.vectorbase.org/Glossina_fuscipes/Transcript/ProteinSummary?db=core;g=GFUI027643\"> GFUI027643: protein summary </a>"
      ],
      "text/plain": [
       "<IPython.core.display.HTML object>"
      ]
     },
     "metadata": {},
     "output_type": "display_data"
    },
    {
     "data": {
      "text/html": [
       "<a href=\"https://www.vectorbase.org/Glossina_fuscipes/Gene/Ontology/molecular_function?db=core;g=GFUI027643;oid=molecular_function\"> GFUI027643: gene ontology </a>"
      ],
      "text/plain": [
       "<IPython.core.display.HTML object>"
      ]
     },
     "metadata": {},
     "output_type": "display_data"
    },
    {
     "data": {
      "text/html": [
       "<a href=\"https://www.vectorbase.org/Glossina_fuscipes/Location/View?db=core;g=GFUI027643;r\"> GFUI027643: genome browser </a>"
      ],
      "text/plain": [
       "<IPython.core.display.HTML object>"
      ]
     },
     "metadata": {},
     "output_type": "display_data"
    },
    {
     "data": {
      "text/html": [
       "<hr>"
      ],
      "text/plain": [
       "<IPython.core.display.HTML object>"
      ]
     },
     "metadata": {},
     "output_type": "display_data"
    },
    {
     "data": {
      "text/html": [
       "<h2>GFUI029329</h2>"
      ],
      "text/plain": [
       "<IPython.core.display.HTML object>"
      ]
     },
     "metadata": {},
     "output_type": "display_data"
    },
    {
     "data": {
      "text/html": [
       "<b>SNP location:</b><br>Scaffold37:1156928<br>"
      ],
      "text/plain": [
       "<IPython.core.display.HTML object>"
      ]
     },
     "metadata": {},
     "output_type": "display_data"
    },
    {
     "data": {
      "text/html": [
       "<div style=\"max-height:1000px;max-width:1500px;overflow:auto;\">\n",
       "<table border=\"1\" class=\"dataframe\">\n",
       "  <thead>\n",
       "    <tr style=\"text-align: right;\">\n",
       "      <th></th>\n",
       "      <th>Sequence</th>\n",
       "      <th>Aspect</th>\n",
       "      <th>GO ID</th>\n",
       "      <th>Name</th>\n",
       "      <th>Total Score</th>\n",
       "      <th>Internal Confidence</th>\n",
       "      <th>Information Content</th>\n",
       "    </tr>\n",
       "  </thead>\n",
       "  <tbody>\n",
       "  </tbody>\n",
       "</table>\n",
       "</div>"
      ],
      "text/plain": [
       "Empty DataFrame\n",
       "Columns: [Sequence, Aspect, GO ID, Name, Total Score, Internal Confidence, Information Content]\n",
       "Index: []"
      ]
     },
     "metadata": {},
     "output_type": "display_data"
    },
    {
     "data": {
      "text/html": [
       "<p>"
      ],
      "text/plain": [
       "<IPython.core.display.HTML object>"
      ]
     },
     "metadata": {},
     "output_type": "display_data"
    },
    {
     "data": {
      "text/html": [
       "<a href=\"https://www.vectorbase.org/Glossina_fuscipes/Gene/Summary?db=core;g=GFUI029329\"> GFUI029329: gene home page</a>"
      ],
      "text/plain": [
       "<IPython.core.display.HTML object>"
      ]
     },
     "metadata": {},
     "output_type": "display_data"
    },
    {
     "data": {
      "text/html": [
       "<a href=\"https://www.vectorbase.org/Glossina_fuscipes/Transcript/ProteinSummary?db=core;g=GFUI029329\"> GFUI029329: protein summary </a>"
      ],
      "text/plain": [
       "<IPython.core.display.HTML object>"
      ]
     },
     "metadata": {},
     "output_type": "display_data"
    },
    {
     "data": {
      "text/html": [
       "<a href=\"https://www.vectorbase.org/Glossina_fuscipes/Gene/Ontology/molecular_function?db=core;g=GFUI029329;oid=molecular_function\"> GFUI029329: gene ontology </a>"
      ],
      "text/plain": [
       "<IPython.core.display.HTML object>"
      ]
     },
     "metadata": {},
     "output_type": "display_data"
    },
    {
     "data": {
      "text/html": [
       "<a href=\"https://www.vectorbase.org/Glossina_fuscipes/Location/View?db=core;g=GFUI029329;r\"> GFUI029329: genome browser </a>"
      ],
      "text/plain": [
       "<IPython.core.display.HTML object>"
      ]
     },
     "metadata": {},
     "output_type": "display_data"
    },
    {
     "data": {
      "text/html": [
       "<hr>"
      ],
      "text/plain": [
       "<IPython.core.display.HTML object>"
      ]
     },
     "metadata": {},
     "output_type": "display_data"
    },
    {
     "data": {
      "text/html": [
       "<h2>GFUI039905</h2>"
      ],
      "text/plain": [
       "<IPython.core.display.HTML object>"
      ]
     },
     "metadata": {},
     "output_type": "display_data"
    },
    {
     "data": {
      "text/html": [
       "<b>SNP location:</b><br>Scaffold575:166639<br>"
      ],
      "text/plain": [
       "<IPython.core.display.HTML object>"
      ]
     },
     "metadata": {},
     "output_type": "display_data"
    },
    {
     "data": {
      "text/html": [
       "<div style=\"max-height:1000px;max-width:1500px;overflow:auto;\">\n",
       "<table border=\"1\" class=\"dataframe\">\n",
       "  <thead>\n",
       "    <tr style=\"text-align: right;\">\n",
       "      <th></th>\n",
       "      <th>Sequence</th>\n",
       "      <th>Aspect</th>\n",
       "      <th>GO ID</th>\n",
       "      <th>Name</th>\n",
       "      <th>Total Score</th>\n",
       "      <th>Internal Confidence</th>\n",
       "      <th>Information Content</th>\n",
       "    </tr>\n",
       "  </thead>\n",
       "  <tbody>\n",
       "  </tbody>\n",
       "</table>\n",
       "</div>"
      ],
      "text/plain": [
       "Empty DataFrame\n",
       "Columns: [Sequence, Aspect, GO ID, Name, Total Score, Internal Confidence, Information Content]\n",
       "Index: []"
      ]
     },
     "metadata": {},
     "output_type": "display_data"
    },
    {
     "data": {
      "text/html": [
       "<p>"
      ],
      "text/plain": [
       "<IPython.core.display.HTML object>"
      ]
     },
     "metadata": {},
     "output_type": "display_data"
    },
    {
     "data": {
      "text/html": [
       "<a href=\"https://www.vectorbase.org/Glossina_fuscipes/Gene/Summary?db=core;g=GFUI039905\"> GFUI039905: gene home page</a>"
      ],
      "text/plain": [
       "<IPython.core.display.HTML object>"
      ]
     },
     "metadata": {},
     "output_type": "display_data"
    },
    {
     "data": {
      "text/html": [
       "<a href=\"https://www.vectorbase.org/Glossina_fuscipes/Transcript/ProteinSummary?db=core;g=GFUI039905\"> GFUI039905: protein summary </a>"
      ],
      "text/plain": [
       "<IPython.core.display.HTML object>"
      ]
     },
     "metadata": {},
     "output_type": "display_data"
    },
    {
     "data": {
      "text/html": [
       "<a href=\"https://www.vectorbase.org/Glossina_fuscipes/Gene/Ontology/molecular_function?db=core;g=GFUI039905;oid=molecular_function\"> GFUI039905: gene ontology </a>"
      ],
      "text/plain": [
       "<IPython.core.display.HTML object>"
      ]
     },
     "metadata": {},
     "output_type": "display_data"
    },
    {
     "data": {
      "text/html": [
       "<a href=\"https://www.vectorbase.org/Glossina_fuscipes/Location/View?db=core;g=GFUI039905;r\"> GFUI039905: genome browser </a>"
      ],
      "text/plain": [
       "<IPython.core.display.HTML object>"
      ]
     },
     "metadata": {},
     "output_type": "display_data"
    },
    {
     "data": {
      "text/html": [
       "<hr>"
      ],
      "text/plain": [
       "<IPython.core.display.HTML object>"
      ]
     },
     "metadata": {},
     "output_type": "display_data"
    },
    {
     "data": {
      "text/html": [
       "<h2>GFUI031821</h2>"
      ],
      "text/plain": [
       "<IPython.core.display.HTML object>"
      ]
     },
     "metadata": {},
     "output_type": "display_data"
    },
    {
     "data": {
      "text/html": [
       "<b>SNP location:</b><br>Scaffold418:168755<br>"
      ],
      "text/plain": [
       "<IPython.core.display.HTML object>"
      ]
     },
     "metadata": {},
     "output_type": "display_data"
    },
    {
     "data": {
      "text/html": [
       "<div style=\"max-height:1000px;max-width:1500px;overflow:auto;\">\n",
       "<table border=\"1\" class=\"dataframe\">\n",
       "  <thead>\n",
       "    <tr style=\"text-align: right;\">\n",
       "      <th></th>\n",
       "      <th>Sequence</th>\n",
       "      <th>Aspect</th>\n",
       "      <th>GO ID</th>\n",
       "      <th>Name</th>\n",
       "      <th>Total Score</th>\n",
       "      <th>Internal Confidence</th>\n",
       "      <th>Information Content</th>\n",
       "    </tr>\n",
       "  </thead>\n",
       "  <tbody>\n",
       "    <tr>\n",
       "      <th>28375</th>\n",
       "      <td> GFUI031821-PA</td>\n",
       "      <td> P</td>\n",
       "      <td> GO:0042744</td>\n",
       "      <td> hydrogen peroxide catabolic process</td>\n",
       "      <td> 763.121662</td>\n",
       "      <td> 0.280370</td>\n",
       "      <td> 12.734980</td>\n",
       "    </tr>\n",
       "    <tr>\n",
       "      <th>28376</th>\n",
       "      <td> GFUI031821-PA</td>\n",
       "      <td> P</td>\n",
       "      <td> GO:0006979</td>\n",
       "      <td>        response to oxidative stress</td>\n",
       "      <td> 558.429852</td>\n",
       "      <td> 0.560932</td>\n",
       "      <td>  9.299953</td>\n",
       "    </tr>\n",
       "    <tr>\n",
       "      <th>28378</th>\n",
       "      <td> GFUI031821-PA</td>\n",
       "      <td> F</td>\n",
       "      <td> GO:0004096</td>\n",
       "      <td>                   catalase activity</td>\n",
       "      <td> 341.530977</td>\n",
       "      <td> 0.165732</td>\n",
       "      <td>  9.327078</td>\n",
       "    </tr>\n",
       "    <tr>\n",
       "      <th>28379</th>\n",
       "      <td> GFUI031821-PA</td>\n",
       "      <td> F</td>\n",
       "      <td> GO:0004601</td>\n",
       "      <td>                 peroxidase activity</td>\n",
       "      <td> 267.707446</td>\n",
       "      <td> 0.331430</td>\n",
       "      <td>  7.315387</td>\n",
       "    </tr>\n",
       "  </tbody>\n",
       "</table>\n",
       "</div>"
      ],
      "text/plain": [
       "            Sequence Aspect       GO ID                                 Name  \\\n",
       "28375  GFUI031821-PA      P  GO:0042744  hydrogen peroxide catabolic process   \n",
       "28376  GFUI031821-PA      P  GO:0006979         response to oxidative stress   \n",
       "28378  GFUI031821-PA      F  GO:0004096                    catalase activity   \n",
       "28379  GFUI031821-PA      F  GO:0004601                  peroxidase activity   \n",
       "\n",
       "       Total Score  Internal Confidence  Information Content  \n",
       "28375   763.121662             0.280370            12.734980  \n",
       "28376   558.429852             0.560932             9.299953  \n",
       "28378   341.530977             0.165732             9.327078  \n",
       "28379   267.707446             0.331430             7.315387  "
      ]
     },
     "metadata": {},
     "output_type": "display_data"
    },
    {
     "data": {
      "text/html": [
       "<p>"
      ],
      "text/plain": [
       "<IPython.core.display.HTML object>"
      ]
     },
     "metadata": {},
     "output_type": "display_data"
    },
    {
     "data": {
      "text/html": [
       "<a href=\"https://www.vectorbase.org/Glossina_fuscipes/Gene/Summary?db=core;g=GFUI031821\"> GFUI031821: gene home page</a>"
      ],
      "text/plain": [
       "<IPython.core.display.HTML object>"
      ]
     },
     "metadata": {},
     "output_type": "display_data"
    },
    {
     "data": {
      "text/html": [
       "<a href=\"https://www.vectorbase.org/Glossina_fuscipes/Transcript/ProteinSummary?db=core;g=GFUI031821\"> GFUI031821: protein summary </a>"
      ],
      "text/plain": [
       "<IPython.core.display.HTML object>"
      ]
     },
     "metadata": {},
     "output_type": "display_data"
    },
    {
     "data": {
      "text/html": [
       "<a href=\"https://www.vectorbase.org/Glossina_fuscipes/Gene/Ontology/molecular_function?db=core;g=GFUI031821;oid=molecular_function\"> GFUI031821: gene ontology </a>"
      ],
      "text/plain": [
       "<IPython.core.display.HTML object>"
      ]
     },
     "metadata": {},
     "output_type": "display_data"
    },
    {
     "data": {
      "text/html": [
       "<a href=\"https://www.vectorbase.org/Glossina_fuscipes/Location/View?db=core;g=GFUI031821;r\"> GFUI031821: genome browser </a>"
      ],
      "text/plain": [
       "<IPython.core.display.HTML object>"
      ]
     },
     "metadata": {},
     "output_type": "display_data"
    },
    {
     "data": {
      "text/html": [
       "<hr>"
      ],
      "text/plain": [
       "<IPython.core.display.HTML object>"
      ]
     },
     "metadata": {},
     "output_type": "display_data"
    },
    {
     "data": {
      "text/html": [
       "<h2>GFUI022294</h2>"
      ],
      "text/plain": [
       "<IPython.core.display.HTML object>"
      ]
     },
     "metadata": {},
     "output_type": "display_data"
    },
    {
     "data": {
      "text/html": [
       "<b>SNP location:</b><br>Scaffold286:58269<br>"
      ],
      "text/plain": [
       "<IPython.core.display.HTML object>"
      ]
     },
     "metadata": {},
     "output_type": "display_data"
    },
    {
     "data": {
      "text/html": [
       "<div style=\"max-height:1000px;max-width:1500px;overflow:auto;\">\n",
       "<table border=\"1\" class=\"dataframe\">\n",
       "  <thead>\n",
       "    <tr style=\"text-align: right;\">\n",
       "      <th></th>\n",
       "      <th>Sequence</th>\n",
       "      <th>Aspect</th>\n",
       "      <th>GO ID</th>\n",
       "      <th>Name</th>\n",
       "      <th>Total Score</th>\n",
       "      <th>Internal Confidence</th>\n",
       "      <th>Information Content</th>\n",
       "    </tr>\n",
       "  </thead>\n",
       "  <tbody>\n",
       "  </tbody>\n",
       "</table>\n",
       "</div>"
      ],
      "text/plain": [
       "Empty DataFrame\n",
       "Columns: [Sequence, Aspect, GO ID, Name, Total Score, Internal Confidence, Information Content]\n",
       "Index: []"
      ]
     },
     "metadata": {},
     "output_type": "display_data"
    },
    {
     "data": {
      "text/html": [
       "<p>"
      ],
      "text/plain": [
       "<IPython.core.display.HTML object>"
      ]
     },
     "metadata": {},
     "output_type": "display_data"
    },
    {
     "data": {
      "text/html": [
       "<a href=\"https://www.vectorbase.org/Glossina_fuscipes/Gene/Summary?db=core;g=GFUI022294\"> GFUI022294: gene home page</a>"
      ],
      "text/plain": [
       "<IPython.core.display.HTML object>"
      ]
     },
     "metadata": {},
     "output_type": "display_data"
    },
    {
     "data": {
      "text/html": [
       "<a href=\"https://www.vectorbase.org/Glossina_fuscipes/Transcript/ProteinSummary?db=core;g=GFUI022294\"> GFUI022294: protein summary </a>"
      ],
      "text/plain": [
       "<IPython.core.display.HTML object>"
      ]
     },
     "metadata": {},
     "output_type": "display_data"
    },
    {
     "data": {
      "text/html": [
       "<a href=\"https://www.vectorbase.org/Glossina_fuscipes/Gene/Ontology/molecular_function?db=core;g=GFUI022294;oid=molecular_function\"> GFUI022294: gene ontology </a>"
      ],
      "text/plain": [
       "<IPython.core.display.HTML object>"
      ]
     },
     "metadata": {},
     "output_type": "display_data"
    },
    {
     "data": {
      "text/html": [
       "<a href=\"https://www.vectorbase.org/Glossina_fuscipes/Location/View?db=core;g=GFUI022294;r\"> GFUI022294: genome browser </a>"
      ],
      "text/plain": [
       "<IPython.core.display.HTML object>"
      ]
     },
     "metadata": {},
     "output_type": "display_data"
    },
    {
     "data": {
      "text/html": [
       "<hr>"
      ],
      "text/plain": [
       "<IPython.core.display.HTML object>"
      ]
     },
     "metadata": {},
     "output_type": "display_data"
    },
    {
     "data": {
      "text/html": [
       "<h2>GFUI031717</h2>"
      ],
      "text/plain": [
       "<IPython.core.display.HTML object>"
      ]
     },
     "metadata": {},
     "output_type": "display_data"
    },
    {
     "data": {
      "text/html": [
       "<b>SNP location:</b><br>Scaffold416:80706<br>"
      ],
      "text/plain": [
       "<IPython.core.display.HTML object>"
      ]
     },
     "metadata": {},
     "output_type": "display_data"
    },
    {
     "data": {
      "text/html": [
       "<div style=\"max-height:1000px;max-width:1500px;overflow:auto;\">\n",
       "<table border=\"1\" class=\"dataframe\">\n",
       "  <thead>\n",
       "    <tr style=\"text-align: right;\">\n",
       "      <th></th>\n",
       "      <th>Sequence</th>\n",
       "      <th>Aspect</th>\n",
       "      <th>GO ID</th>\n",
       "      <th>Name</th>\n",
       "      <th>Total Score</th>\n",
       "      <th>Internal Confidence</th>\n",
       "      <th>Information Content</th>\n",
       "    </tr>\n",
       "  </thead>\n",
       "  <tbody>\n",
       "  </tbody>\n",
       "</table>\n",
       "</div>"
      ],
      "text/plain": [
       "Empty DataFrame\n",
       "Columns: [Sequence, Aspect, GO ID, Name, Total Score, Internal Confidence, Information Content]\n",
       "Index: []"
      ]
     },
     "metadata": {},
     "output_type": "display_data"
    },
    {
     "data": {
      "text/html": [
       "<p>"
      ],
      "text/plain": [
       "<IPython.core.display.HTML object>"
      ]
     },
     "metadata": {},
     "output_type": "display_data"
    },
    {
     "data": {
      "text/html": [
       "<a href=\"https://www.vectorbase.org/Glossina_fuscipes/Gene/Summary?db=core;g=GFUI031717\"> GFUI031717: gene home page</a>"
      ],
      "text/plain": [
       "<IPython.core.display.HTML object>"
      ]
     },
     "metadata": {},
     "output_type": "display_data"
    },
    {
     "data": {
      "text/html": [
       "<a href=\"https://www.vectorbase.org/Glossina_fuscipes/Transcript/ProteinSummary?db=core;g=GFUI031717\"> GFUI031717: protein summary </a>"
      ],
      "text/plain": [
       "<IPython.core.display.HTML object>"
      ]
     },
     "metadata": {},
     "output_type": "display_data"
    },
    {
     "data": {
      "text/html": [
       "<a href=\"https://www.vectorbase.org/Glossina_fuscipes/Gene/Ontology/molecular_function?db=core;g=GFUI031717;oid=molecular_function\"> GFUI031717: gene ontology </a>"
      ],
      "text/plain": [
       "<IPython.core.display.HTML object>"
      ]
     },
     "metadata": {},
     "output_type": "display_data"
    },
    {
     "data": {
      "text/html": [
       "<a href=\"https://www.vectorbase.org/Glossina_fuscipes/Location/View?db=core;g=GFUI031717;r\"> GFUI031717: genome browser </a>"
      ],
      "text/plain": [
       "<IPython.core.display.HTML object>"
      ]
     },
     "metadata": {},
     "output_type": "display_data"
    },
    {
     "data": {
      "text/html": [
       "<hr>"
      ],
      "text/plain": [
       "<IPython.core.display.HTML object>"
      ]
     },
     "metadata": {},
     "output_type": "display_data"
    },
    {
     "data": {
      "text/html": [
       "<h2>GFUI031730</h2>"
      ],
      "text/plain": [
       "<IPython.core.display.HTML object>"
      ]
     },
     "metadata": {},
     "output_type": "display_data"
    },
    {
     "data": {
      "text/html": [
       "<b>SNP location:</b><br>Scaffold416:80706<br>"
      ],
      "text/plain": [
       "<IPython.core.display.HTML object>"
      ]
     },
     "metadata": {},
     "output_type": "display_data"
    },
    {
     "data": {
      "text/html": [
       "<div style=\"max-height:1000px;max-width:1500px;overflow:auto;\">\n",
       "<table border=\"1\" class=\"dataframe\">\n",
       "  <thead>\n",
       "    <tr style=\"text-align: right;\">\n",
       "      <th></th>\n",
       "      <th>Sequence</th>\n",
       "      <th>Aspect</th>\n",
       "      <th>GO ID</th>\n",
       "      <th>Name</th>\n",
       "      <th>Total Score</th>\n",
       "      <th>Internal Confidence</th>\n",
       "      <th>Information Content</th>\n",
       "    </tr>\n",
       "  </thead>\n",
       "  <tbody>\n",
       "    <tr>\n",
       "      <th>30235</th>\n",
       "      <td> GFUI031730-PA</td>\n",
       "      <td> C</td>\n",
       "      <td> GO:0016020</td>\n",
       "      <td> membrane</td>\n",
       "      <td> 268.385576</td>\n",
       "      <td> 0.462748</td>\n",
       "      <td> 2.472824</td>\n",
       "    </tr>\n",
       "  </tbody>\n",
       "</table>\n",
       "</div>"
      ],
      "text/plain": [
       "            Sequence Aspect       GO ID      Name  Total Score  \\\n",
       "30235  GFUI031730-PA      C  GO:0016020  membrane   268.385576   \n",
       "\n",
       "       Internal Confidence  Information Content  \n",
       "30235             0.462748             2.472824  "
      ]
     },
     "metadata": {},
     "output_type": "display_data"
    },
    {
     "data": {
      "text/html": [
       "<p>"
      ],
      "text/plain": [
       "<IPython.core.display.HTML object>"
      ]
     },
     "metadata": {},
     "output_type": "display_data"
    },
    {
     "data": {
      "text/html": [
       "<a href=\"https://www.vectorbase.org/Glossina_fuscipes/Gene/Summary?db=core;g=GFUI031730\"> GFUI031730: gene home page</a>"
      ],
      "text/plain": [
       "<IPython.core.display.HTML object>"
      ]
     },
     "metadata": {},
     "output_type": "display_data"
    },
    {
     "data": {
      "text/html": [
       "<a href=\"https://www.vectorbase.org/Glossina_fuscipes/Transcript/ProteinSummary?db=core;g=GFUI031730\"> GFUI031730: protein summary </a>"
      ],
      "text/plain": [
       "<IPython.core.display.HTML object>"
      ]
     },
     "metadata": {},
     "output_type": "display_data"
    },
    {
     "data": {
      "text/html": [
       "<a href=\"https://www.vectorbase.org/Glossina_fuscipes/Gene/Ontology/molecular_function?db=core;g=GFUI031730;oid=molecular_function\"> GFUI031730: gene ontology </a>"
      ],
      "text/plain": [
       "<IPython.core.display.HTML object>"
      ]
     },
     "metadata": {},
     "output_type": "display_data"
    },
    {
     "data": {
      "text/html": [
       "<a href=\"https://www.vectorbase.org/Glossina_fuscipes/Location/View?db=core;g=GFUI031730;r\"> GFUI031730: genome browser </a>"
      ],
      "text/plain": [
       "<IPython.core.display.HTML object>"
      ]
     },
     "metadata": {},
     "output_type": "display_data"
    },
    {
     "data": {
      "text/html": [
       "<hr>"
      ],
      "text/plain": [
       "<IPython.core.display.HTML object>"
      ]
     },
     "metadata": {},
     "output_type": "display_data"
    },
    {
     "data": {
      "text/html": [
       "<h2>GFUI017229</h2>"
      ],
      "text/plain": [
       "<IPython.core.display.HTML object>"
      ]
     },
     "metadata": {},
     "output_type": "display_data"
    },
    {
     "data": {
      "text/html": [
       "<b>SNP location:</b><br>Scaffold226:46793<br>"
      ],
      "text/plain": [
       "<IPython.core.display.HTML object>"
      ]
     },
     "metadata": {},
     "output_type": "display_data"
    },
    {
     "data": {
      "text/html": [
       "<div style=\"max-height:1000px;max-width:1500px;overflow:auto;\">\n",
       "<table border=\"1\" class=\"dataframe\">\n",
       "  <thead>\n",
       "    <tr style=\"text-align: right;\">\n",
       "      <th></th>\n",
       "      <th>Sequence</th>\n",
       "      <th>Aspect</th>\n",
       "      <th>GO ID</th>\n",
       "      <th>Name</th>\n",
       "      <th>Total Score</th>\n",
       "      <th>Internal Confidence</th>\n",
       "      <th>Information Content</th>\n",
       "    </tr>\n",
       "  </thead>\n",
       "  <tbody>\n",
       "  </tbody>\n",
       "</table>\n",
       "</div>"
      ],
      "text/plain": [
       "Empty DataFrame\n",
       "Columns: [Sequence, Aspect, GO ID, Name, Total Score, Internal Confidence, Information Content]\n",
       "Index: []"
      ]
     },
     "metadata": {},
     "output_type": "display_data"
    },
    {
     "data": {
      "text/html": [
       "<p>"
      ],
      "text/plain": [
       "<IPython.core.display.HTML object>"
      ]
     },
     "metadata": {},
     "output_type": "display_data"
    },
    {
     "data": {
      "text/html": [
       "<a href=\"https://www.vectorbase.org/Glossina_fuscipes/Gene/Summary?db=core;g=GFUI017229\"> GFUI017229: gene home page</a>"
      ],
      "text/plain": [
       "<IPython.core.display.HTML object>"
      ]
     },
     "metadata": {},
     "output_type": "display_data"
    },
    {
     "data": {
      "text/html": [
       "<a href=\"https://www.vectorbase.org/Glossina_fuscipes/Transcript/ProteinSummary?db=core;g=GFUI017229\"> GFUI017229: protein summary </a>"
      ],
      "text/plain": [
       "<IPython.core.display.HTML object>"
      ]
     },
     "metadata": {},
     "output_type": "display_data"
    },
    {
     "data": {
      "text/html": [
       "<a href=\"https://www.vectorbase.org/Glossina_fuscipes/Gene/Ontology/molecular_function?db=core;g=GFUI017229;oid=molecular_function\"> GFUI017229: gene ontology </a>"
      ],
      "text/plain": [
       "<IPython.core.display.HTML object>"
      ]
     },
     "metadata": {},
     "output_type": "display_data"
    },
    {
     "data": {
      "text/html": [
       "<a href=\"https://www.vectorbase.org/Glossina_fuscipes/Location/View?db=core;g=GFUI017229;r\"> GFUI017229: genome browser </a>"
      ],
      "text/plain": [
       "<IPython.core.display.HTML object>"
      ]
     },
     "metadata": {},
     "output_type": "display_data"
    },
    {
     "data": {
      "text/html": [
       "<hr>"
      ],
      "text/plain": [
       "<IPython.core.display.HTML object>"
      ]
     },
     "metadata": {},
     "output_type": "display_data"
    },
    {
     "data": {
      "text/html": [
       "<h2>GFUI040909</h2>"
      ],
      "text/plain": [
       "<IPython.core.display.HTML object>"
      ]
     },
     "metadata": {},
     "output_type": "display_data"
    },
    {
     "data": {
      "text/html": [
       "<b>SNP location:</b><br>Scaffold59:1029390<br>"
      ],
      "text/plain": [
       "<IPython.core.display.HTML object>"
      ]
     },
     "metadata": {},
     "output_type": "display_data"
    },
    {
     "data": {
      "text/html": [
       "<div style=\"max-height:1000px;max-width:1500px;overflow:auto;\">\n",
       "<table border=\"1\" class=\"dataframe\">\n",
       "  <thead>\n",
       "    <tr style=\"text-align: right;\">\n",
       "      <th></th>\n",
       "      <th>Sequence</th>\n",
       "      <th>Aspect</th>\n",
       "      <th>GO ID</th>\n",
       "      <th>Name</th>\n",
       "      <th>Total Score</th>\n",
       "      <th>Internal Confidence</th>\n",
       "      <th>Information Content</th>\n",
       "    </tr>\n",
       "  </thead>\n",
       "  <tbody>\n",
       "  </tbody>\n",
       "</table>\n",
       "</div>"
      ],
      "text/plain": [
       "Empty DataFrame\n",
       "Columns: [Sequence, Aspect, GO ID, Name, Total Score, Internal Confidence, Information Content]\n",
       "Index: []"
      ]
     },
     "metadata": {},
     "output_type": "display_data"
    },
    {
     "data": {
      "text/html": [
       "<p>"
      ],
      "text/plain": [
       "<IPython.core.display.HTML object>"
      ]
     },
     "metadata": {},
     "output_type": "display_data"
    },
    {
     "data": {
      "text/html": [
       "<a href=\"https://www.vectorbase.org/Glossina_fuscipes/Gene/Summary?db=core;g=GFUI040909\"> GFUI040909: gene home page</a>"
      ],
      "text/plain": [
       "<IPython.core.display.HTML object>"
      ]
     },
     "metadata": {},
     "output_type": "display_data"
    },
    {
     "data": {
      "text/html": [
       "<a href=\"https://www.vectorbase.org/Glossina_fuscipes/Transcript/ProteinSummary?db=core;g=GFUI040909\"> GFUI040909: protein summary </a>"
      ],
      "text/plain": [
       "<IPython.core.display.HTML object>"
      ]
     },
     "metadata": {},
     "output_type": "display_data"
    },
    {
     "data": {
      "text/html": [
       "<a href=\"https://www.vectorbase.org/Glossina_fuscipes/Gene/Ontology/molecular_function?db=core;g=GFUI040909;oid=molecular_function\"> GFUI040909: gene ontology </a>"
      ],
      "text/plain": [
       "<IPython.core.display.HTML object>"
      ]
     },
     "metadata": {},
     "output_type": "display_data"
    },
    {
     "data": {
      "text/html": [
       "<a href=\"https://www.vectorbase.org/Glossina_fuscipes/Location/View?db=core;g=GFUI040909;r\"> GFUI040909: genome browser </a>"
      ],
      "text/plain": [
       "<IPython.core.display.HTML object>"
      ]
     },
     "metadata": {},
     "output_type": "display_data"
    },
    {
     "data": {
      "text/html": [
       "<hr>"
      ],
      "text/plain": [
       "<IPython.core.display.HTML object>"
      ]
     },
     "metadata": {},
     "output_type": "display_data"
    },
    {
     "data": {
      "text/html": [
       "<h2>GFUI050249</h2>"
      ],
      "text/plain": [
       "<IPython.core.display.HTML object>"
      ]
     },
     "metadata": {},
     "output_type": "display_data"
    },
    {
     "data": {
      "text/html": [
       "<b>SNP location:</b><br>Scaffold87:665834<br>"
      ],
      "text/plain": [
       "<IPython.core.display.HTML object>"
      ]
     },
     "metadata": {},
     "output_type": "display_data"
    },
    {
     "data": {
      "text/html": [
       "<div style=\"max-height:1000px;max-width:1500px;overflow:auto;\">\n",
       "<table border=\"1\" class=\"dataframe\">\n",
       "  <thead>\n",
       "    <tr style=\"text-align: right;\">\n",
       "      <th></th>\n",
       "      <th>Sequence</th>\n",
       "      <th>Aspect</th>\n",
       "      <th>GO ID</th>\n",
       "      <th>Name</th>\n",
       "      <th>Total Score</th>\n",
       "      <th>Internal Confidence</th>\n",
       "      <th>Information Content</th>\n",
       "    </tr>\n",
       "  </thead>\n",
       "  <tbody>\n",
       "  </tbody>\n",
       "</table>\n",
       "</div>"
      ],
      "text/plain": [
       "Empty DataFrame\n",
       "Columns: [Sequence, Aspect, GO ID, Name, Total Score, Internal Confidence, Information Content]\n",
       "Index: []"
      ]
     },
     "metadata": {},
     "output_type": "display_data"
    },
    {
     "data": {
      "text/html": [
       "<p>"
      ],
      "text/plain": [
       "<IPython.core.display.HTML object>"
      ]
     },
     "metadata": {},
     "output_type": "display_data"
    },
    {
     "data": {
      "text/html": [
       "<a href=\"https://www.vectorbase.org/Glossina_fuscipes/Gene/Summary?db=core;g=GFUI050249\"> GFUI050249: gene home page</a>"
      ],
      "text/plain": [
       "<IPython.core.display.HTML object>"
      ]
     },
     "metadata": {},
     "output_type": "display_data"
    },
    {
     "data": {
      "text/html": [
       "<a href=\"https://www.vectorbase.org/Glossina_fuscipes/Transcript/ProteinSummary?db=core;g=GFUI050249\"> GFUI050249: protein summary </a>"
      ],
      "text/plain": [
       "<IPython.core.display.HTML object>"
      ]
     },
     "metadata": {},
     "output_type": "display_data"
    },
    {
     "data": {
      "text/html": [
       "<a href=\"https://www.vectorbase.org/Glossina_fuscipes/Gene/Ontology/molecular_function?db=core;g=GFUI050249;oid=molecular_function\"> GFUI050249: gene ontology </a>"
      ],
      "text/plain": [
       "<IPython.core.display.HTML object>"
      ]
     },
     "metadata": {},
     "output_type": "display_data"
    },
    {
     "data": {
      "text/html": [
       "<a href=\"https://www.vectorbase.org/Glossina_fuscipes/Location/View?db=core;g=GFUI050249;r\"> GFUI050249: genome browser </a>"
      ],
      "text/plain": [
       "<IPython.core.display.HTML object>"
      ]
     },
     "metadata": {},
     "output_type": "display_data"
    },
    {
     "data": {
      "text/html": [
       "<hr>"
      ],
      "text/plain": [
       "<IPython.core.display.HTML object>"
      ]
     },
     "metadata": {},
     "output_type": "display_data"
    },
    {
     "data": {
      "text/html": [
       "<h2>GFUI012131</h2>"
      ],
      "text/plain": [
       "<IPython.core.display.HTML object>"
      ]
     },
     "metadata": {},
     "output_type": "display_data"
    },
    {
     "data": {
      "text/html": [
       "<b>SNP location:</b><br>Scaffold178:528305<br>"
      ],
      "text/plain": [
       "<IPython.core.display.HTML object>"
      ]
     },
     "metadata": {},
     "output_type": "display_data"
    },
    {
     "data": {
      "text/html": [
       "<div style=\"max-height:1000px;max-width:1500px;overflow:auto;\">\n",
       "<table border=\"1\" class=\"dataframe\">\n",
       "  <thead>\n",
       "    <tr style=\"text-align: right;\">\n",
       "      <th></th>\n",
       "      <th>Sequence</th>\n",
       "      <th>Aspect</th>\n",
       "      <th>GO ID</th>\n",
       "      <th>Name</th>\n",
       "      <th>Total Score</th>\n",
       "      <th>Internal Confidence</th>\n",
       "      <th>Information Content</th>\n",
       "    </tr>\n",
       "  </thead>\n",
       "  <tbody>\n",
       "    <tr>\n",
       "      <th>53910</th>\n",
       "      <td> GFUI012131-PA</td>\n",
       "      <td> C</td>\n",
       "      <td> GO:0005737</td>\n",
       "      <td>                         cytoplasm</td>\n",
       "      <td> 1949.581495</td>\n",
       "      <td> 0.545487</td>\n",
       "      <td>  3.178476</td>\n",
       "    </tr>\n",
       "    <tr>\n",
       "      <th>53907</th>\n",
       "      <td> GFUI012131-PA</td>\n",
       "      <td> P</td>\n",
       "      <td> GO:0031532</td>\n",
       "      <td> actin cytoskeleton reorganization</td>\n",
       "      <td> 1245.065606</td>\n",
       "      <td> 0.085014</td>\n",
       "      <td> 14.592686</td>\n",
       "    </tr>\n",
       "    <tr>\n",
       "      <th>53908</th>\n",
       "      <td> GFUI012131-PA</td>\n",
       "      <td> P</td>\n",
       "      <td> GO:0008360</td>\n",
       "      <td>          regulation of cell shape</td>\n",
       "      <td>  887.602990</td>\n",
       "      <td> 0.088700</td>\n",
       "      <td> 10.016157</td>\n",
       "    </tr>\n",
       "    <tr>\n",
       "      <th>53909</th>\n",
       "      <td> GFUI012131-PA</td>\n",
       "      <td> P</td>\n",
       "      <td> GO:0007165</td>\n",
       "      <td>               signal transduction</td>\n",
       "      <td>  416.501526</td>\n",
       "      <td> 0.091020</td>\n",
       "      <td>  7.045163</td>\n",
       "    </tr>\n",
       "  </tbody>\n",
       "</table>\n",
       "</div>"
      ],
      "text/plain": [
       "            Sequence Aspect       GO ID                               Name  \\\n",
       "53910  GFUI012131-PA      C  GO:0005737                          cytoplasm   \n",
       "53907  GFUI012131-PA      P  GO:0031532  actin cytoskeleton reorganization   \n",
       "53908  GFUI012131-PA      P  GO:0008360           regulation of cell shape   \n",
       "53909  GFUI012131-PA      P  GO:0007165                signal transduction   \n",
       "\n",
       "       Total Score  Internal Confidence  Information Content  \n",
       "53910  1949.581495             0.545487             3.178476  \n",
       "53907  1245.065606             0.085014            14.592686  \n",
       "53908   887.602990             0.088700            10.016157  \n",
       "53909   416.501526             0.091020             7.045163  "
      ]
     },
     "metadata": {},
     "output_type": "display_data"
    },
    {
     "data": {
      "text/html": [
       "<p>"
      ],
      "text/plain": [
       "<IPython.core.display.HTML object>"
      ]
     },
     "metadata": {},
     "output_type": "display_data"
    },
    {
     "data": {
      "text/html": [
       "<a href=\"https://www.vectorbase.org/Glossina_fuscipes/Gene/Summary?db=core;g=GFUI012131\"> GFUI012131: gene home page</a>"
      ],
      "text/plain": [
       "<IPython.core.display.HTML object>"
      ]
     },
     "metadata": {},
     "output_type": "display_data"
    },
    {
     "data": {
      "text/html": [
       "<a href=\"https://www.vectorbase.org/Glossina_fuscipes/Transcript/ProteinSummary?db=core;g=GFUI012131\"> GFUI012131: protein summary </a>"
      ],
      "text/plain": [
       "<IPython.core.display.HTML object>"
      ]
     },
     "metadata": {},
     "output_type": "display_data"
    },
    {
     "data": {
      "text/html": [
       "<a href=\"https://www.vectorbase.org/Glossina_fuscipes/Gene/Ontology/molecular_function?db=core;g=GFUI012131;oid=molecular_function\"> GFUI012131: gene ontology </a>"
      ],
      "text/plain": [
       "<IPython.core.display.HTML object>"
      ]
     },
     "metadata": {},
     "output_type": "display_data"
    },
    {
     "data": {
      "text/html": [
       "<a href=\"https://www.vectorbase.org/Glossina_fuscipes/Location/View?db=core;g=GFUI012131;r\"> GFUI012131: genome browser </a>"
      ],
      "text/plain": [
       "<IPython.core.display.HTML object>"
      ]
     },
     "metadata": {},
     "output_type": "display_data"
    },
    {
     "data": {
      "text/html": [
       "<hr>"
      ],
      "text/plain": [
       "<IPython.core.display.HTML object>"
      ]
     },
     "metadata": {},
     "output_type": "display_data"
    },
    {
     "data": {
      "text/html": [
       "<h2>GFUI012127</h2>"
      ],
      "text/plain": [
       "<IPython.core.display.HTML object>"
      ]
     },
     "metadata": {},
     "output_type": "display_data"
    },
    {
     "data": {
      "text/html": [
       "<b>SNP location:</b><br>Scaffold178:528305<br>"
      ],
      "text/plain": [
       "<IPython.core.display.HTML object>"
      ]
     },
     "metadata": {},
     "output_type": "display_data"
    },
    {
     "data": {
      "text/html": [
       "<div style=\"max-height:1000px;max-width:1500px;overflow:auto;\">\n",
       "<table border=\"1\" class=\"dataframe\">\n",
       "  <thead>\n",
       "    <tr style=\"text-align: right;\">\n",
       "      <th></th>\n",
       "      <th>Sequence</th>\n",
       "      <th>Aspect</th>\n",
       "      <th>GO ID</th>\n",
       "      <th>Name</th>\n",
       "      <th>Total Score</th>\n",
       "      <th>Internal Confidence</th>\n",
       "      <th>Information Content</th>\n",
       "    </tr>\n",
       "  </thead>\n",
       "  <tbody>\n",
       "    <tr>\n",
       "      <th>53724</th>\n",
       "      <td> GFUI012127-PA</td>\n",
       "      <td> P</td>\n",
       "      <td> GO:0005975</td>\n",
       "      <td> carbohydrate metabolic process</td>\n",
       "      <td> 436.848855</td>\n",
       "      <td> 0.919457</td>\n",
       "      <td> 6.570816</td>\n",
       "    </tr>\n",
       "  </tbody>\n",
       "</table>\n",
       "</div>"
      ],
      "text/plain": [
       "            Sequence Aspect       GO ID                            Name  \\\n",
       "53724  GFUI012127-PA      P  GO:0005975  carbohydrate metabolic process   \n",
       "\n",
       "       Total Score  Internal Confidence  Information Content  \n",
       "53724   436.848855             0.919457             6.570816  "
      ]
     },
     "metadata": {},
     "output_type": "display_data"
    },
    {
     "data": {
      "text/html": [
       "<p>"
      ],
      "text/plain": [
       "<IPython.core.display.HTML object>"
      ]
     },
     "metadata": {},
     "output_type": "display_data"
    },
    {
     "data": {
      "text/html": [
       "<a href=\"https://www.vectorbase.org/Glossina_fuscipes/Gene/Summary?db=core;g=GFUI012127\"> GFUI012127: gene home page</a>"
      ],
      "text/plain": [
       "<IPython.core.display.HTML object>"
      ]
     },
     "metadata": {},
     "output_type": "display_data"
    },
    {
     "data": {
      "text/html": [
       "<a href=\"https://www.vectorbase.org/Glossina_fuscipes/Transcript/ProteinSummary?db=core;g=GFUI012127\"> GFUI012127: protein summary </a>"
      ],
      "text/plain": [
       "<IPython.core.display.HTML object>"
      ]
     },
     "metadata": {},
     "output_type": "display_data"
    },
    {
     "data": {
      "text/html": [
       "<a href=\"https://www.vectorbase.org/Glossina_fuscipes/Gene/Ontology/molecular_function?db=core;g=GFUI012127;oid=molecular_function\"> GFUI012127: gene ontology </a>"
      ],
      "text/plain": [
       "<IPython.core.display.HTML object>"
      ]
     },
     "metadata": {},
     "output_type": "display_data"
    },
    {
     "data": {
      "text/html": [
       "<a href=\"https://www.vectorbase.org/Glossina_fuscipes/Location/View?db=core;g=GFUI012127;r\"> GFUI012127: genome browser </a>"
      ],
      "text/plain": [
       "<IPython.core.display.HTML object>"
      ]
     },
     "metadata": {},
     "output_type": "display_data"
    },
    {
     "data": {
      "text/html": [
       "<hr>"
      ],
      "text/plain": [
       "<IPython.core.display.HTML object>"
      ]
     },
     "metadata": {},
     "output_type": "display_data"
    },
    {
     "data": {
      "text/html": [
       "<h2>GFUI005891</h2>"
      ],
      "text/plain": [
       "<IPython.core.display.HTML object>"
      ]
     },
     "metadata": {},
     "output_type": "display_data"
    },
    {
     "data": {
      "text/html": [
       "<b>SNP location:</b><br>Scaffold125:107715<br>"
      ],
      "text/plain": [
       "<IPython.core.display.HTML object>"
      ]
     },
     "metadata": {},
     "output_type": "display_data"
    },
    {
     "data": {
      "text/html": [
       "<div style=\"max-height:1000px;max-width:1500px;overflow:auto;\">\n",
       "<table border=\"1\" class=\"dataframe\">\n",
       "  <thead>\n",
       "    <tr style=\"text-align: right;\">\n",
       "      <th></th>\n",
       "      <th>Sequence</th>\n",
       "      <th>Aspect</th>\n",
       "      <th>GO ID</th>\n",
       "      <th>Name</th>\n",
       "      <th>Total Score</th>\n",
       "      <th>Internal Confidence</th>\n",
       "      <th>Information Content</th>\n",
       "    </tr>\n",
       "  </thead>\n",
       "  <tbody>\n",
       "  </tbody>\n",
       "</table>\n",
       "</div>"
      ],
      "text/plain": [
       "Empty DataFrame\n",
       "Columns: [Sequence, Aspect, GO ID, Name, Total Score, Internal Confidence, Information Content]\n",
       "Index: []"
      ]
     },
     "metadata": {},
     "output_type": "display_data"
    },
    {
     "data": {
      "text/html": [
       "<p>"
      ],
      "text/plain": [
       "<IPython.core.display.HTML object>"
      ]
     },
     "metadata": {},
     "output_type": "display_data"
    },
    {
     "data": {
      "text/html": [
       "<a href=\"https://www.vectorbase.org/Glossina_fuscipes/Gene/Summary?db=core;g=GFUI005891\"> GFUI005891: gene home page</a>"
      ],
      "text/plain": [
       "<IPython.core.display.HTML object>"
      ]
     },
     "metadata": {},
     "output_type": "display_data"
    },
    {
     "data": {
      "text/html": [
       "<a href=\"https://www.vectorbase.org/Glossina_fuscipes/Transcript/ProteinSummary?db=core;g=GFUI005891\"> GFUI005891: protein summary </a>"
      ],
      "text/plain": [
       "<IPython.core.display.HTML object>"
      ]
     },
     "metadata": {},
     "output_type": "display_data"
    },
    {
     "data": {
      "text/html": [
       "<a href=\"https://www.vectorbase.org/Glossina_fuscipes/Gene/Ontology/molecular_function?db=core;g=GFUI005891;oid=molecular_function\"> GFUI005891: gene ontology </a>"
      ],
      "text/plain": [
       "<IPython.core.display.HTML object>"
      ]
     },
     "metadata": {},
     "output_type": "display_data"
    },
    {
     "data": {
      "text/html": [
       "<a href=\"https://www.vectorbase.org/Glossina_fuscipes/Location/View?db=core;g=GFUI005891;r\"> GFUI005891: genome browser </a>"
      ],
      "text/plain": [
       "<IPython.core.display.HTML object>"
      ]
     },
     "metadata": {},
     "output_type": "display_data"
    },
    {
     "data": {
      "text/html": [
       "<hr>"
      ],
      "text/plain": [
       "<IPython.core.display.HTML object>"
      ]
     },
     "metadata": {},
     "output_type": "display_data"
    },
    {
     "data": {
      "text/html": [
       "<h2>GFUI012137</h2>"
      ],
      "text/plain": [
       "<IPython.core.display.HTML object>"
      ]
     },
     "metadata": {},
     "output_type": "display_data"
    },
    {
     "data": {
      "text/html": [
       "<b>SNP location:</b><br>Scaffold178:528305<br>"
      ],
      "text/plain": [
       "<IPython.core.display.HTML object>"
      ]
     },
     "metadata": {},
     "output_type": "display_data"
    },
    {
     "data": {
      "text/html": [
       "<div style=\"max-height:1000px;max-width:1500px;overflow:auto;\">\n",
       "<table border=\"1\" class=\"dataframe\">\n",
       "  <thead>\n",
       "    <tr style=\"text-align: right;\">\n",
       "      <th></th>\n",
       "      <th>Sequence</th>\n",
       "      <th>Aspect</th>\n",
       "      <th>GO ID</th>\n",
       "      <th>Name</th>\n",
       "      <th>Total Score</th>\n",
       "      <th>Internal Confidence</th>\n",
       "      <th>Information Content</th>\n",
       "    </tr>\n",
       "  </thead>\n",
       "  <tbody>\n",
       "  </tbody>\n",
       "</table>\n",
       "</div>"
      ],
      "text/plain": [
       "Empty DataFrame\n",
       "Columns: [Sequence, Aspect, GO ID, Name, Total Score, Internal Confidence, Information Content]\n",
       "Index: []"
      ]
     },
     "metadata": {},
     "output_type": "display_data"
    },
    {
     "data": {
      "text/html": [
       "<p>"
      ],
      "text/plain": [
       "<IPython.core.display.HTML object>"
      ]
     },
     "metadata": {},
     "output_type": "display_data"
    },
    {
     "data": {
      "text/html": [
       "<a href=\"https://www.vectorbase.org/Glossina_fuscipes/Gene/Summary?db=core;g=GFUI012137\"> GFUI012137: gene home page</a>"
      ],
      "text/plain": [
       "<IPython.core.display.HTML object>"
      ]
     },
     "metadata": {},
     "output_type": "display_data"
    },
    {
     "data": {
      "text/html": [
       "<a href=\"https://www.vectorbase.org/Glossina_fuscipes/Transcript/ProteinSummary?db=core;g=GFUI012137\"> GFUI012137: protein summary </a>"
      ],
      "text/plain": [
       "<IPython.core.display.HTML object>"
      ]
     },
     "metadata": {},
     "output_type": "display_data"
    },
    {
     "data": {
      "text/html": [
       "<a href=\"https://www.vectorbase.org/Glossina_fuscipes/Gene/Ontology/molecular_function?db=core;g=GFUI012137;oid=molecular_function\"> GFUI012137: gene ontology </a>"
      ],
      "text/plain": [
       "<IPython.core.display.HTML object>"
      ]
     },
     "metadata": {},
     "output_type": "display_data"
    },
    {
     "data": {
      "text/html": [
       "<a href=\"https://www.vectorbase.org/Glossina_fuscipes/Location/View?db=core;g=GFUI012137;r\"> GFUI012137: genome browser </a>"
      ],
      "text/plain": [
       "<IPython.core.display.HTML object>"
      ]
     },
     "metadata": {},
     "output_type": "display_data"
    },
    {
     "data": {
      "text/html": [
       "<hr>"
      ],
      "text/plain": [
       "<IPython.core.display.HTML object>"
      ]
     },
     "metadata": {},
     "output_type": "display_data"
    },
    {
     "data": {
      "text/html": [
       "<h2>GFUI017227</h2>"
      ],
      "text/plain": [
       "<IPython.core.display.HTML object>"
      ]
     },
     "metadata": {},
     "output_type": "display_data"
    },
    {
     "data": {
      "text/html": [
       "<b>SNP location:</b><br>Scaffold226:46793<br>"
      ],
      "text/plain": [
       "<IPython.core.display.HTML object>"
      ]
     },
     "metadata": {},
     "output_type": "display_data"
    },
    {
     "data": {
      "text/html": [
       "<div style=\"max-height:1000px;max-width:1500px;overflow:auto;\">\n",
       "<table border=\"1\" class=\"dataframe\">\n",
       "  <thead>\n",
       "    <tr style=\"text-align: right;\">\n",
       "      <th></th>\n",
       "      <th>Sequence</th>\n",
       "      <th>Aspect</th>\n",
       "      <th>GO ID</th>\n",
       "      <th>Name</th>\n",
       "      <th>Total Score</th>\n",
       "      <th>Internal Confidence</th>\n",
       "      <th>Information Content</th>\n",
       "    </tr>\n",
       "  </thead>\n",
       "  <tbody>\n",
       "  </tbody>\n",
       "</table>\n",
       "</div>"
      ],
      "text/plain": [
       "Empty DataFrame\n",
       "Columns: [Sequence, Aspect, GO ID, Name, Total Score, Internal Confidence, Information Content]\n",
       "Index: []"
      ]
     },
     "metadata": {},
     "output_type": "display_data"
    },
    {
     "data": {
      "text/html": [
       "<p>"
      ],
      "text/plain": [
       "<IPython.core.display.HTML object>"
      ]
     },
     "metadata": {},
     "output_type": "display_data"
    },
    {
     "data": {
      "text/html": [
       "<a href=\"https://www.vectorbase.org/Glossina_fuscipes/Gene/Summary?db=core;g=GFUI017227\"> GFUI017227: gene home page</a>"
      ],
      "text/plain": [
       "<IPython.core.display.HTML object>"
      ]
     },
     "metadata": {},
     "output_type": "display_data"
    },
    {
     "data": {
      "text/html": [
       "<a href=\"https://www.vectorbase.org/Glossina_fuscipes/Transcript/ProteinSummary?db=core;g=GFUI017227\"> GFUI017227: protein summary </a>"
      ],
      "text/plain": [
       "<IPython.core.display.HTML object>"
      ]
     },
     "metadata": {},
     "output_type": "display_data"
    },
    {
     "data": {
      "text/html": [
       "<a href=\"https://www.vectorbase.org/Glossina_fuscipes/Gene/Ontology/molecular_function?db=core;g=GFUI017227;oid=molecular_function\"> GFUI017227: gene ontology </a>"
      ],
      "text/plain": [
       "<IPython.core.display.HTML object>"
      ]
     },
     "metadata": {},
     "output_type": "display_data"
    },
    {
     "data": {
      "text/html": [
       "<a href=\"https://www.vectorbase.org/Glossina_fuscipes/Location/View?db=core;g=GFUI017227;r\"> GFUI017227: genome browser </a>"
      ],
      "text/plain": [
       "<IPython.core.display.HTML object>"
      ]
     },
     "metadata": {},
     "output_type": "display_data"
    },
    {
     "data": {
      "text/html": [
       "<hr>"
      ],
      "text/plain": [
       "<IPython.core.display.HTML object>"
      ]
     },
     "metadata": {},
     "output_type": "display_data"
    },
    {
     "data": {
      "text/html": [
       "<h2>GFUI040907</h2>"
      ],
      "text/plain": [
       "<IPython.core.display.HTML object>"
      ]
     },
     "metadata": {},
     "output_type": "display_data"
    },
    {
     "data": {
      "text/html": [
       "<b>SNP location:</b><br>Scaffold59:1029390<br>"
      ],
      "text/plain": [
       "<IPython.core.display.HTML object>"
      ]
     },
     "metadata": {},
     "output_type": "display_data"
    },
    {
     "data": {
      "text/html": [
       "<div style=\"max-height:1000px;max-width:1500px;overflow:auto;\">\n",
       "<table border=\"1\" class=\"dataframe\">\n",
       "  <thead>\n",
       "    <tr style=\"text-align: right;\">\n",
       "      <th></th>\n",
       "      <th>Sequence</th>\n",
       "      <th>Aspect</th>\n",
       "      <th>GO ID</th>\n",
       "      <th>Name</th>\n",
       "      <th>Total Score</th>\n",
       "      <th>Internal Confidence</th>\n",
       "      <th>Information Content</th>\n",
       "    </tr>\n",
       "  </thead>\n",
       "  <tbody>\n",
       "    <tr>\n",
       "      <th>17165</th>\n",
       "      <td> GFUI040907-PA</td>\n",
       "      <td> P</td>\n",
       "      <td> GO:0045893</td>\n",
       "      <td> positive regulation of transcription, DNA-temp...</td>\n",
       "      <td> 2090.727684</td>\n",
       "      <td> 0.178001</td>\n",
       "      <td> 11.311674</td>\n",
       "    </tr>\n",
       "    <tr>\n",
       "      <th>17172</th>\n",
       "      <td> GFUI040907-PA</td>\n",
       "      <td> F</td>\n",
       "      <td> GO:0003713</td>\n",
       "      <td>                transcription coactivator activity</td>\n",
       "      <td> 1739.057158</td>\n",
       "      <td> 0.456333</td>\n",
       "      <td> 10.307760</td>\n",
       "    </tr>\n",
       "    <tr>\n",
       "      <th>17174</th>\n",
       "      <td> GFUI040907-PA</td>\n",
       "      <td> C</td>\n",
       "      <td> GO:0000124</td>\n",
       "      <td>                                      SAGA complex</td>\n",
       "      <td> 1342.735308</td>\n",
       "      <td> 0.293517</td>\n",
       "      <td> 12.474737</td>\n",
       "    </tr>\n",
       "    <tr>\n",
       "      <th>17166</th>\n",
       "      <td> GFUI040907-PA</td>\n",
       "      <td> P</td>\n",
       "      <td> GO:0016568</td>\n",
       "      <td>                            chromatin modification</td>\n",
       "      <td> 1132.336165</td>\n",
       "      <td> 0.287829</td>\n",
       "      <td> 11.182522</td>\n",
       "    </tr>\n",
       "    <tr>\n",
       "      <th>17167</th>\n",
       "      <td> GFUI040907-PA</td>\n",
       "      <td> P</td>\n",
       "      <td> GO:0016578</td>\n",
       "      <td>                          histone deubiquitination</td>\n",
       "      <td>  781.913382</td>\n",
       "      <td> 0.116410</td>\n",
       "      <td> 15.939007</td>\n",
       "    </tr>\n",
       "    <tr>\n",
       "      <th>17171</th>\n",
       "      <td> GFUI040907-PA</td>\n",
       "      <td> F</td>\n",
       "      <td> GO:0008270</td>\n",
       "      <td>                                  zinc ion binding</td>\n",
       "      <td>  705.260729</td>\n",
       "      <td> 0.244602</td>\n",
       "      <td>  5.400313</td>\n",
       "    </tr>\n",
       "    <tr>\n",
       "      <th>17173</th>\n",
       "      <td> GFUI040907-PA</td>\n",
       "      <td> F</td>\n",
       "      <td> GO:0030374</td>\n",
       "      <td> ligand-dependent nuclear receptor transcriptio...</td>\n",
       "      <td>  509.824142</td>\n",
       "      <td> 0.191065</td>\n",
       "      <td> 12.400847</td>\n",
       "    </tr>\n",
       "    <tr>\n",
       "      <th>17176</th>\n",
       "      <td> GFUI040907-PA</td>\n",
       "      <td> C</td>\n",
       "      <td> GO:0071819</td>\n",
       "      <td>                                      DUBm complex</td>\n",
       "      <td>  465.209855</td>\n",
       "      <td> 0.167710</td>\n",
       "      <td> 13.557214</td>\n",
       "    </tr>\n",
       "    <tr>\n",
       "      <th>17170</th>\n",
       "      <td> GFUI040907-PA</td>\n",
       "      <td> F</td>\n",
       "      <td> GO:0046872</td>\n",
       "      <td>                                 metal ion binding</td>\n",
       "      <td>  459.235591</td>\n",
       "      <td> 0.489532</td>\n",
       "      <td>  3.508837</td>\n",
       "    </tr>\n",
       "    <tr>\n",
       "      <th>17169</th>\n",
       "      <td> GFUI040907-PA</td>\n",
       "      <td> P</td>\n",
       "      <td> GO:0006355</td>\n",
       "      <td>        regulation of transcription, DNA-templated</td>\n",
       "      <td>  430.668044</td>\n",
       "      <td> 0.286174</td>\n",
       "      <td>  7.524266</td>\n",
       "    </tr>\n",
       "    <tr>\n",
       "      <th>17168</th>\n",
       "      <td> GFUI040907-PA</td>\n",
       "      <td> P</td>\n",
       "      <td> GO:0006351</td>\n",
       "      <td>                      transcription, DNA-templated</td>\n",
       "      <td>  355.319368</td>\n",
       "      <td> 0.388080</td>\n",
       "      <td>  6.856772</td>\n",
       "    </tr>\n",
       "    <tr>\n",
       "      <th>17175</th>\n",
       "      <td> GFUI040907-PA</td>\n",
       "      <td> C</td>\n",
       "      <td> GO:0005634</td>\n",
       "      <td>                                           nucleus</td>\n",
       "      <td>  349.834553</td>\n",
       "      <td> 0.874153</td>\n",
       "      <td>  5.725783</td>\n",
       "    </tr>\n",
       "  </tbody>\n",
       "</table>\n",
       "</div>"
      ],
      "text/plain": [
       "            Sequence Aspect       GO ID  \\\n",
       "17165  GFUI040907-PA      P  GO:0045893   \n",
       "17172  GFUI040907-PA      F  GO:0003713   \n",
       "17174  GFUI040907-PA      C  GO:0000124   \n",
       "17166  GFUI040907-PA      P  GO:0016568   \n",
       "17167  GFUI040907-PA      P  GO:0016578   \n",
       "17171  GFUI040907-PA      F  GO:0008270   \n",
       "17173  GFUI040907-PA      F  GO:0030374   \n",
       "17176  GFUI040907-PA      C  GO:0071819   \n",
       "17170  GFUI040907-PA      F  GO:0046872   \n",
       "17169  GFUI040907-PA      P  GO:0006355   \n",
       "17168  GFUI040907-PA      P  GO:0006351   \n",
       "17175  GFUI040907-PA      C  GO:0005634   \n",
       "\n",
       "                                                    Name  Total Score  \\\n",
       "17165  positive regulation of transcription, DNA-temp...  2090.727684   \n",
       "17172                 transcription coactivator activity  1739.057158   \n",
       "17174                                       SAGA complex  1342.735308   \n",
       "17166                             chromatin modification  1132.336165   \n",
       "17167                           histone deubiquitination   781.913382   \n",
       "17171                                   zinc ion binding   705.260729   \n",
       "17173  ligand-dependent nuclear receptor transcriptio...   509.824142   \n",
       "17176                                       DUBm complex   465.209855   \n",
       "17170                                  metal ion binding   459.235591   \n",
       "17169         regulation of transcription, DNA-templated   430.668044   \n",
       "17168                       transcription, DNA-templated   355.319368   \n",
       "17175                                            nucleus   349.834553   \n",
       "\n",
       "       Internal Confidence  Information Content  \n",
       "17165             0.178001            11.311674  \n",
       "17172             0.456333            10.307760  \n",
       "17174             0.293517            12.474737  \n",
       "17166             0.287829            11.182522  \n",
       "17167             0.116410            15.939007  \n",
       "17171             0.244602             5.400313  \n",
       "17173             0.191065            12.400847  \n",
       "17176             0.167710            13.557214  \n",
       "17170             0.489532             3.508837  \n",
       "17169             0.286174             7.524266  \n",
       "17168             0.388080             6.856772  \n",
       "17175             0.874153             5.725783  "
      ]
     },
     "metadata": {},
     "output_type": "display_data"
    },
    {
     "data": {
      "text/html": [
       "<p>"
      ],
      "text/plain": [
       "<IPython.core.display.HTML object>"
      ]
     },
     "metadata": {},
     "output_type": "display_data"
    },
    {
     "data": {
      "text/html": [
       "<a href=\"https://www.vectorbase.org/Glossina_fuscipes/Gene/Summary?db=core;g=GFUI040907\"> GFUI040907: gene home page</a>"
      ],
      "text/plain": [
       "<IPython.core.display.HTML object>"
      ]
     },
     "metadata": {},
     "output_type": "display_data"
    },
    {
     "data": {
      "text/html": [
       "<a href=\"https://www.vectorbase.org/Glossina_fuscipes/Transcript/ProteinSummary?db=core;g=GFUI040907\"> GFUI040907: protein summary </a>"
      ],
      "text/plain": [
       "<IPython.core.display.HTML object>"
      ]
     },
     "metadata": {},
     "output_type": "display_data"
    },
    {
     "data": {
      "text/html": [
       "<a href=\"https://www.vectorbase.org/Glossina_fuscipes/Gene/Ontology/molecular_function?db=core;g=GFUI040907;oid=molecular_function\"> GFUI040907: gene ontology </a>"
      ],
      "text/plain": [
       "<IPython.core.display.HTML object>"
      ]
     },
     "metadata": {},
     "output_type": "display_data"
    },
    {
     "data": {
      "text/html": [
       "<a href=\"https://www.vectorbase.org/Glossina_fuscipes/Location/View?db=core;g=GFUI040907;r\"> GFUI040907: genome browser </a>"
      ],
      "text/plain": [
       "<IPython.core.display.HTML object>"
      ]
     },
     "metadata": {},
     "output_type": "display_data"
    },
    {
     "data": {
      "text/html": [
       "<hr>"
      ],
      "text/plain": [
       "<IPython.core.display.HTML object>"
      ]
     },
     "metadata": {},
     "output_type": "display_data"
    },
    {
     "data": {
      "text/html": [
       "<h2>GFUI012133</h2>"
      ],
      "text/plain": [
       "<IPython.core.display.HTML object>"
      ]
     },
     "metadata": {},
     "output_type": "display_data"
    },
    {
     "data": {
      "text/html": [
       "<b>SNP location:</b><br>Scaffold178:528305<br>"
      ],
      "text/plain": [
       "<IPython.core.display.HTML object>"
      ]
     },
     "metadata": {},
     "output_type": "display_data"
    },
    {
     "data": {
      "text/html": [
       "<div style=\"max-height:1000px;max-width:1500px;overflow:auto;\">\n",
       "<table border=\"1\" class=\"dataframe\">\n",
       "  <thead>\n",
       "    <tr style=\"text-align: right;\">\n",
       "      <th></th>\n",
       "      <th>Sequence</th>\n",
       "      <th>Aspect</th>\n",
       "      <th>GO ID</th>\n",
       "      <th>Name</th>\n",
       "      <th>Total Score</th>\n",
       "      <th>Internal Confidence</th>\n",
       "      <th>Information Content</th>\n",
       "    </tr>\n",
       "  </thead>\n",
       "  <tbody>\n",
       "    <tr>\n",
       "      <th>58179</th>\n",
       "      <td> GFUI012133-PA</td>\n",
       "      <td> F</td>\n",
       "      <td> GO:0003735</td>\n",
       "      <td>                structural constituent of ribosome</td>\n",
       "      <td> 7726.333005</td>\n",
       "      <td> 0.453800</td>\n",
       "      <td>  5.691408</td>\n",
       "    </tr>\n",
       "    <tr>\n",
       "      <th>58177</th>\n",
       "      <td> GFUI012133-PA</td>\n",
       "      <td> P</td>\n",
       "      <td> GO:0006412</td>\n",
       "      <td>                                       translation</td>\n",
       "      <td> 4932.573498</td>\n",
       "      <td> 0.531071</td>\n",
       "      <td>  7.706853</td>\n",
       "    </tr>\n",
       "    <tr>\n",
       "      <th>58178</th>\n",
       "      <td> GFUI012133-PA</td>\n",
       "      <td> F</td>\n",
       "      <td> GO:0000166</td>\n",
       "      <td>                                nucleotide binding</td>\n",
       "      <td> 2714.474945</td>\n",
       "      <td> 0.376855</td>\n",
       "      <td>  2.468432</td>\n",
       "    </tr>\n",
       "    <tr>\n",
       "      <th>58182</th>\n",
       "      <td> GFUI012133-PA</td>\n",
       "      <td> C</td>\n",
       "      <td> GO:0005840</td>\n",
       "      <td>                                          ribosome</td>\n",
       "      <td> 1485.478141</td>\n",
       "      <td> 0.361607</td>\n",
       "      <td>  5.343685</td>\n",
       "    </tr>\n",
       "    <tr>\n",
       "      <th>58183</th>\n",
       "      <td> GFUI012133-PA</td>\n",
       "      <td> C</td>\n",
       "      <td> GO:0030529</td>\n",
       "      <td>                         ribonucleoprotein complex</td>\n",
       "      <td> 1182.538182</td>\n",
       "      <td> 0.557423</td>\n",
       "      <td>  4.674508</td>\n",
       "    </tr>\n",
       "    <tr>\n",
       "      <th>58180</th>\n",
       "      <td> GFUI012133-PA</td>\n",
       "      <td> C</td>\n",
       "      <td> GO:0005622</td>\n",
       "      <td>                                     intracellular</td>\n",
       "      <td>  949.220380</td>\n",
       "      <td> 0.930388</td>\n",
       "      <td>  1.978874</td>\n",
       "    </tr>\n",
       "    <tr>\n",
       "      <th>58181</th>\n",
       "      <td> GFUI012133-PA</td>\n",
       "      <td> C</td>\n",
       "      <td> GO:0022627</td>\n",
       "      <td>                 cytosolic small ribosomal subunit</td>\n",
       "      <td>  455.438980</td>\n",
       "      <td> 0.096004</td>\n",
       "      <td> 11.656136</td>\n",
       "    </tr>\n",
       "    <tr>\n",
       "      <th>58176</th>\n",
       "      <td> GFUI012133-PA</td>\n",
       "      <td> P</td>\n",
       "      <td> GO:0000462</td>\n",
       "      <td> maturation of SSU-rRNA from tricistronic rRNA ...</td>\n",
       "      <td>  393.342578</td>\n",
       "      <td> 0.095409</td>\n",
       "      <td> 16.008262</td>\n",
       "    </tr>\n",
       "  </tbody>\n",
       "</table>\n",
       "</div>"
      ],
      "text/plain": [
       "            Sequence Aspect       GO ID  \\\n",
       "58179  GFUI012133-PA      F  GO:0003735   \n",
       "58177  GFUI012133-PA      P  GO:0006412   \n",
       "58178  GFUI012133-PA      F  GO:0000166   \n",
       "58182  GFUI012133-PA      C  GO:0005840   \n",
       "58183  GFUI012133-PA      C  GO:0030529   \n",
       "58180  GFUI012133-PA      C  GO:0005622   \n",
       "58181  GFUI012133-PA      C  GO:0022627   \n",
       "58176  GFUI012133-PA      P  GO:0000462   \n",
       "\n",
       "                                                    Name  Total Score  \\\n",
       "58179                 structural constituent of ribosome  7726.333005   \n",
       "58177                                        translation  4932.573498   \n",
       "58178                                 nucleotide binding  2714.474945   \n",
       "58182                                           ribosome  1485.478141   \n",
       "58183                          ribonucleoprotein complex  1182.538182   \n",
       "58180                                      intracellular   949.220380   \n",
       "58181                  cytosolic small ribosomal subunit   455.438980   \n",
       "58176  maturation of SSU-rRNA from tricistronic rRNA ...   393.342578   \n",
       "\n",
       "       Internal Confidence  Information Content  \n",
       "58179             0.453800             5.691408  \n",
       "58177             0.531071             7.706853  \n",
       "58178             0.376855             2.468432  \n",
       "58182             0.361607             5.343685  \n",
       "58183             0.557423             4.674508  \n",
       "58180             0.930388             1.978874  \n",
       "58181             0.096004            11.656136  \n",
       "58176             0.095409            16.008262  "
      ]
     },
     "metadata": {},
     "output_type": "display_data"
    },
    {
     "data": {
      "text/html": [
       "<p>"
      ],
      "text/plain": [
       "<IPython.core.display.HTML object>"
      ]
     },
     "metadata": {},
     "output_type": "display_data"
    },
    {
     "data": {
      "text/html": [
       "<a href=\"https://www.vectorbase.org/Glossina_fuscipes/Gene/Summary?db=core;g=GFUI012133\"> GFUI012133: gene home page</a>"
      ],
      "text/plain": [
       "<IPython.core.display.HTML object>"
      ]
     },
     "metadata": {},
     "output_type": "display_data"
    },
    {
     "data": {
      "text/html": [
       "<a href=\"https://www.vectorbase.org/Glossina_fuscipes/Transcript/ProteinSummary?db=core;g=GFUI012133\"> GFUI012133: protein summary </a>"
      ],
      "text/plain": [
       "<IPython.core.display.HTML object>"
      ]
     },
     "metadata": {},
     "output_type": "display_data"
    },
    {
     "data": {
      "text/html": [
       "<a href=\"https://www.vectorbase.org/Glossina_fuscipes/Gene/Ontology/molecular_function?db=core;g=GFUI012133;oid=molecular_function\"> GFUI012133: gene ontology </a>"
      ],
      "text/plain": [
       "<IPython.core.display.HTML object>"
      ]
     },
     "metadata": {},
     "output_type": "display_data"
    },
    {
     "data": {
      "text/html": [
       "<a href=\"https://www.vectorbase.org/Glossina_fuscipes/Location/View?db=core;g=GFUI012133;r\"> GFUI012133: genome browser </a>"
      ],
      "text/plain": [
       "<IPython.core.display.HTML object>"
      ]
     },
     "metadata": {},
     "output_type": "display_data"
    },
    {
     "data": {
      "text/html": [
       "<hr>"
      ],
      "text/plain": [
       "<IPython.core.display.HTML object>"
      ]
     },
     "metadata": {},
     "output_type": "display_data"
    },
    {
     "data": {
      "text/html": [
       "<h2>GFUI025370</h2>"
      ],
      "text/plain": [
       "<IPython.core.display.HTML object>"
      ]
     },
     "metadata": {},
     "output_type": "display_data"
    },
    {
     "data": {
      "text/html": [
       "<b>SNP location:</b><br>Scaffold321:206239<br>"
      ],
      "text/plain": [
       "<IPython.core.display.HTML object>"
      ]
     },
     "metadata": {},
     "output_type": "display_data"
    },
    {
     "data": {
      "text/html": [
       "<div style=\"max-height:1000px;max-width:1500px;overflow:auto;\">\n",
       "<table border=\"1\" class=\"dataframe\">\n",
       "  <thead>\n",
       "    <tr style=\"text-align: right;\">\n",
       "      <th></th>\n",
       "      <th>Sequence</th>\n",
       "      <th>Aspect</th>\n",
       "      <th>GO ID</th>\n",
       "      <th>Name</th>\n",
       "      <th>Total Score</th>\n",
       "      <th>Internal Confidence</th>\n",
       "      <th>Information Content</th>\n",
       "    </tr>\n",
       "  </thead>\n",
       "  <tbody>\n",
       "    <tr>\n",
       "      <th>65847</th>\n",
       "      <td> GFUI025370-PA</td>\n",
       "      <td> P</td>\n",
       "      <td> GO:0050909</td>\n",
       "      <td>    sensory perception of taste</td>\n",
       "      <td> 4693.718356</td>\n",
       "      <td> 0.405730</td>\n",
       "      <td> 14.238183</td>\n",
       "    </tr>\n",
       "    <tr>\n",
       "      <th>65848</th>\n",
       "      <td> GFUI025370-PA</td>\n",
       "      <td> C</td>\n",
       "      <td> GO:0005886</td>\n",
       "      <td>                plasma membrane</td>\n",
       "      <td>  736.681997</td>\n",
       "      <td> 0.285953</td>\n",
       "      <td>  4.357169</td>\n",
       "    </tr>\n",
       "    <tr>\n",
       "      <th>65850</th>\n",
       "      <td> GFUI025370-PA</td>\n",
       "      <td> C</td>\n",
       "      <td> GO:0016021</td>\n",
       "      <td> integral component of membrane</td>\n",
       "      <td>  733.780257</td>\n",
       "      <td> 0.310010</td>\n",
       "      <td>  3.692502</td>\n",
       "    </tr>\n",
       "    <tr>\n",
       "      <th>65849</th>\n",
       "      <td> GFUI025370-PA</td>\n",
       "      <td> C</td>\n",
       "      <td> GO:0016020</td>\n",
       "      <td>                       membrane</td>\n",
       "      <td>  423.056160</td>\n",
       "      <td> 0.883610</td>\n",
       "      <td>  2.472824</td>\n",
       "    </tr>\n",
       "  </tbody>\n",
       "</table>\n",
       "</div>"
      ],
      "text/plain": [
       "            Sequence Aspect       GO ID                            Name  \\\n",
       "65847  GFUI025370-PA      P  GO:0050909     sensory perception of taste   \n",
       "65848  GFUI025370-PA      C  GO:0005886                 plasma membrane   \n",
       "65850  GFUI025370-PA      C  GO:0016021  integral component of membrane   \n",
       "65849  GFUI025370-PA      C  GO:0016020                        membrane   \n",
       "\n",
       "       Total Score  Internal Confidence  Information Content  \n",
       "65847  4693.718356             0.405730            14.238183  \n",
       "65848   736.681997             0.285953             4.357169  \n",
       "65850   733.780257             0.310010             3.692502  \n",
       "65849   423.056160             0.883610             2.472824  "
      ]
     },
     "metadata": {},
     "output_type": "display_data"
    },
    {
     "data": {
      "text/html": [
       "<p>"
      ],
      "text/plain": [
       "<IPython.core.display.HTML object>"
      ]
     },
     "metadata": {},
     "output_type": "display_data"
    },
    {
     "data": {
      "text/html": [
       "<a href=\"https://www.vectorbase.org/Glossina_fuscipes/Gene/Summary?db=core;g=GFUI025370\"> GFUI025370: gene home page</a>"
      ],
      "text/plain": [
       "<IPython.core.display.HTML object>"
      ]
     },
     "metadata": {},
     "output_type": "display_data"
    },
    {
     "data": {
      "text/html": [
       "<a href=\"https://www.vectorbase.org/Glossina_fuscipes/Transcript/ProteinSummary?db=core;g=GFUI025370\"> GFUI025370: protein summary </a>"
      ],
      "text/plain": [
       "<IPython.core.display.HTML object>"
      ]
     },
     "metadata": {},
     "output_type": "display_data"
    },
    {
     "data": {
      "text/html": [
       "<a href=\"https://www.vectorbase.org/Glossina_fuscipes/Gene/Ontology/molecular_function?db=core;g=GFUI025370;oid=molecular_function\"> GFUI025370: gene ontology </a>"
      ],
      "text/plain": [
       "<IPython.core.display.HTML object>"
      ]
     },
     "metadata": {},
     "output_type": "display_data"
    },
    {
     "data": {
      "text/html": [
       "<a href=\"https://www.vectorbase.org/Glossina_fuscipes/Location/View?db=core;g=GFUI025370;r\"> GFUI025370: genome browser </a>"
      ],
      "text/plain": [
       "<IPython.core.display.HTML object>"
      ]
     },
     "metadata": {},
     "output_type": "display_data"
    },
    {
     "data": {
      "text/html": [
       "<hr>"
      ],
      "text/plain": [
       "<IPython.core.display.HTML object>"
      ]
     },
     "metadata": {},
     "output_type": "display_data"
    },
    {
     "data": {
      "text/html": [
       "<h2>GFUI010307</h2>"
      ],
      "text/plain": [
       "<IPython.core.display.HTML object>"
      ]
     },
     "metadata": {},
     "output_type": "display_data"
    },
    {
     "data": {
      "text/html": [
       "<b>SNP location:</b><br>Scaffold160:44715<br>"
      ],
      "text/plain": [
       "<IPython.core.display.HTML object>"
      ]
     },
     "metadata": {},
     "output_type": "display_data"
    },
    {
     "data": {
      "text/html": [
       "<div style=\"max-height:1000px;max-width:1500px;overflow:auto;\">\n",
       "<table border=\"1\" class=\"dataframe\">\n",
       "  <thead>\n",
       "    <tr style=\"text-align: right;\">\n",
       "      <th></th>\n",
       "      <th>Sequence</th>\n",
       "      <th>Aspect</th>\n",
       "      <th>GO ID</th>\n",
       "      <th>Name</th>\n",
       "      <th>Total Score</th>\n",
       "      <th>Internal Confidence</th>\n",
       "      <th>Information Content</th>\n",
       "    </tr>\n",
       "  </thead>\n",
       "  <tbody>\n",
       "  </tbody>\n",
       "</table>\n",
       "</div>"
      ],
      "text/plain": [
       "Empty DataFrame\n",
       "Columns: [Sequence, Aspect, GO ID, Name, Total Score, Internal Confidence, Information Content]\n",
       "Index: []"
      ]
     },
     "metadata": {},
     "output_type": "display_data"
    },
    {
     "data": {
      "text/html": [
       "<p>"
      ],
      "text/plain": [
       "<IPython.core.display.HTML object>"
      ]
     },
     "metadata": {},
     "output_type": "display_data"
    },
    {
     "data": {
      "text/html": [
       "<a href=\"https://www.vectorbase.org/Glossina_fuscipes/Gene/Summary?db=core;g=GFUI010307\"> GFUI010307: gene home page</a>"
      ],
      "text/plain": [
       "<IPython.core.display.HTML object>"
      ]
     },
     "metadata": {},
     "output_type": "display_data"
    },
    {
     "data": {
      "text/html": [
       "<a href=\"https://www.vectorbase.org/Glossina_fuscipes/Transcript/ProteinSummary?db=core;g=GFUI010307\"> GFUI010307: protein summary </a>"
      ],
      "text/plain": [
       "<IPython.core.display.HTML object>"
      ]
     },
     "metadata": {},
     "output_type": "display_data"
    },
    {
     "data": {
      "text/html": [
       "<a href=\"https://www.vectorbase.org/Glossina_fuscipes/Gene/Ontology/molecular_function?db=core;g=GFUI010307;oid=molecular_function\"> GFUI010307: gene ontology </a>"
      ],
      "text/plain": [
       "<IPython.core.display.HTML object>"
      ]
     },
     "metadata": {},
     "output_type": "display_data"
    },
    {
     "data": {
      "text/html": [
       "<a href=\"https://www.vectorbase.org/Glossina_fuscipes/Location/View?db=core;g=GFUI010307;r\"> GFUI010307: genome browser </a>"
      ],
      "text/plain": [
       "<IPython.core.display.HTML object>"
      ]
     },
     "metadata": {},
     "output_type": "display_data"
    },
    {
     "data": {
      "text/html": [
       "<hr>"
      ],
      "text/plain": [
       "<IPython.core.display.HTML object>"
      ]
     },
     "metadata": {},
     "output_type": "display_data"
    },
    {
     "data": {
      "text/html": [
       "<h2>GFUI006635</h2>"
      ],
      "text/plain": [
       "<IPython.core.display.HTML object>"
      ]
     },
     "metadata": {},
     "output_type": "display_data"
    },
    {
     "data": {
      "text/html": [
       "<b>SNP location:</b><br>Scaffold12:1789003<br>"
      ],
      "text/plain": [
       "<IPython.core.display.HTML object>"
      ]
     },
     "metadata": {},
     "output_type": "display_data"
    },
    {
     "data": {
      "text/html": [
       "<div style=\"max-height:1000px;max-width:1500px;overflow:auto;\">\n",
       "<table border=\"1\" class=\"dataframe\">\n",
       "  <thead>\n",
       "    <tr style=\"text-align: right;\">\n",
       "      <th></th>\n",
       "      <th>Sequence</th>\n",
       "      <th>Aspect</th>\n",
       "      <th>GO ID</th>\n",
       "      <th>Name</th>\n",
       "      <th>Total Score</th>\n",
       "      <th>Internal Confidence</th>\n",
       "      <th>Information Content</th>\n",
       "    </tr>\n",
       "  </thead>\n",
       "  <tbody>\n",
       "  </tbody>\n",
       "</table>\n",
       "</div>"
      ],
      "text/plain": [
       "Empty DataFrame\n",
       "Columns: [Sequence, Aspect, GO ID, Name, Total Score, Internal Confidence, Information Content]\n",
       "Index: []"
      ]
     },
     "metadata": {},
     "output_type": "display_data"
    },
    {
     "data": {
      "text/html": [
       "<p>"
      ],
      "text/plain": [
       "<IPython.core.display.HTML object>"
      ]
     },
     "metadata": {},
     "output_type": "display_data"
    },
    {
     "data": {
      "text/html": [
       "<a href=\"https://www.vectorbase.org/Glossina_fuscipes/Gene/Summary?db=core;g=GFUI006635\"> GFUI006635: gene home page</a>"
      ],
      "text/plain": [
       "<IPython.core.display.HTML object>"
      ]
     },
     "metadata": {},
     "output_type": "display_data"
    },
    {
     "data": {
      "text/html": [
       "<a href=\"https://www.vectorbase.org/Glossina_fuscipes/Transcript/ProteinSummary?db=core;g=GFUI006635\"> GFUI006635: protein summary </a>"
      ],
      "text/plain": [
       "<IPython.core.display.HTML object>"
      ]
     },
     "metadata": {},
     "output_type": "display_data"
    },
    {
     "data": {
      "text/html": [
       "<a href=\"https://www.vectorbase.org/Glossina_fuscipes/Gene/Ontology/molecular_function?db=core;g=GFUI006635;oid=molecular_function\"> GFUI006635: gene ontology </a>"
      ],
      "text/plain": [
       "<IPython.core.display.HTML object>"
      ]
     },
     "metadata": {},
     "output_type": "display_data"
    },
    {
     "data": {
      "text/html": [
       "<a href=\"https://www.vectorbase.org/Glossina_fuscipes/Location/View?db=core;g=GFUI006635;r\"> GFUI006635: genome browser </a>"
      ],
      "text/plain": [
       "<IPython.core.display.HTML object>"
      ]
     },
     "metadata": {},
     "output_type": "display_data"
    },
    {
     "data": {
      "text/html": [
       "<hr>"
      ],
      "text/plain": [
       "<IPython.core.display.HTML object>"
      ]
     },
     "metadata": {},
     "output_type": "display_data"
    },
    {
     "data": {
      "text/html": [
       "<h2>GFUI038817</h2>"
      ],
      "text/plain": [
       "<IPython.core.display.HTML object>"
      ]
     },
     "metadata": {},
     "output_type": "display_data"
    },
    {
     "data": {
      "text/html": [
       "<b>SNP location:</b><br>Scaffold54:336597<br>"
      ],
      "text/plain": [
       "<IPython.core.display.HTML object>"
      ]
     },
     "metadata": {},
     "output_type": "display_data"
    },
    {
     "data": {
      "text/html": [
       "<div style=\"max-height:1000px;max-width:1500px;overflow:auto;\">\n",
       "<table border=\"1\" class=\"dataframe\">\n",
       "  <thead>\n",
       "    <tr style=\"text-align: right;\">\n",
       "      <th></th>\n",
       "      <th>Sequence</th>\n",
       "      <th>Aspect</th>\n",
       "      <th>GO ID</th>\n",
       "      <th>Name</th>\n",
       "      <th>Total Score</th>\n",
       "      <th>Internal Confidence</th>\n",
       "      <th>Information Content</th>\n",
       "    </tr>\n",
       "  </thead>\n",
       "  <tbody>\n",
       "  </tbody>\n",
       "</table>\n",
       "</div>"
      ],
      "text/plain": [
       "Empty DataFrame\n",
       "Columns: [Sequence, Aspect, GO ID, Name, Total Score, Internal Confidence, Information Content]\n",
       "Index: []"
      ]
     },
     "metadata": {},
     "output_type": "display_data"
    },
    {
     "data": {
      "text/html": [
       "<p>"
      ],
      "text/plain": [
       "<IPython.core.display.HTML object>"
      ]
     },
     "metadata": {},
     "output_type": "display_data"
    },
    {
     "data": {
      "text/html": [
       "<a href=\"https://www.vectorbase.org/Glossina_fuscipes/Gene/Summary?db=core;g=GFUI038817\"> GFUI038817: gene home page</a>"
      ],
      "text/plain": [
       "<IPython.core.display.HTML object>"
      ]
     },
     "metadata": {},
     "output_type": "display_data"
    },
    {
     "data": {
      "text/html": [
       "<a href=\"https://www.vectorbase.org/Glossina_fuscipes/Transcript/ProteinSummary?db=core;g=GFUI038817\"> GFUI038817: protein summary </a>"
      ],
      "text/plain": [
       "<IPython.core.display.HTML object>"
      ]
     },
     "metadata": {},
     "output_type": "display_data"
    },
    {
     "data": {
      "text/html": [
       "<a href=\"https://www.vectorbase.org/Glossina_fuscipes/Gene/Ontology/molecular_function?db=core;g=GFUI038817;oid=molecular_function\"> GFUI038817: gene ontology </a>"
      ],
      "text/plain": [
       "<IPython.core.display.HTML object>"
      ]
     },
     "metadata": {},
     "output_type": "display_data"
    },
    {
     "data": {
      "text/html": [
       "<a href=\"https://www.vectorbase.org/Glossina_fuscipes/Location/View?db=core;g=GFUI038817;r\"> GFUI038817: genome browser </a>"
      ],
      "text/plain": [
       "<IPython.core.display.HTML object>"
      ]
     },
     "metadata": {},
     "output_type": "display_data"
    },
    {
     "data": {
      "text/html": [
       "<hr>"
      ],
      "text/plain": [
       "<IPython.core.display.HTML object>"
      ]
     },
     "metadata": {},
     "output_type": "display_data"
    },
    {
     "data": {
      "text/html": [
       "<h2>GFUI023701</h2>"
      ],
      "text/plain": [
       "<IPython.core.display.HTML object>"
      ]
     },
     "metadata": {},
     "output_type": "display_data"
    },
    {
     "data": {
      "text/html": [
       "<b>SNP location:</b><br>Scaffold2:1861732<br>"
      ],
      "text/plain": [
       "<IPython.core.display.HTML object>"
      ]
     },
     "metadata": {},
     "output_type": "display_data"
    },
    {
     "data": {
      "text/html": [
       "<div style=\"max-height:1000px;max-width:1500px;overflow:auto;\">\n",
       "<table border=\"1\" class=\"dataframe\">\n",
       "  <thead>\n",
       "    <tr style=\"text-align: right;\">\n",
       "      <th></th>\n",
       "      <th>Sequence</th>\n",
       "      <th>Aspect</th>\n",
       "      <th>GO ID</th>\n",
       "      <th>Name</th>\n",
       "      <th>Total Score</th>\n",
       "      <th>Internal Confidence</th>\n",
       "      <th>Information Content</th>\n",
       "    </tr>\n",
       "  </thead>\n",
       "  <tbody>\n",
       "  </tbody>\n",
       "</table>\n",
       "</div>"
      ],
      "text/plain": [
       "Empty DataFrame\n",
       "Columns: [Sequence, Aspect, GO ID, Name, Total Score, Internal Confidence, Information Content]\n",
       "Index: []"
      ]
     },
     "metadata": {},
     "output_type": "display_data"
    },
    {
     "data": {
      "text/html": [
       "<p>"
      ],
      "text/plain": [
       "<IPython.core.display.HTML object>"
      ]
     },
     "metadata": {},
     "output_type": "display_data"
    },
    {
     "data": {
      "text/html": [
       "<a href=\"https://www.vectorbase.org/Glossina_fuscipes/Gene/Summary?db=core;g=GFUI023701\"> GFUI023701: gene home page</a>"
      ],
      "text/plain": [
       "<IPython.core.display.HTML object>"
      ]
     },
     "metadata": {},
     "output_type": "display_data"
    },
    {
     "data": {
      "text/html": [
       "<a href=\"https://www.vectorbase.org/Glossina_fuscipes/Transcript/ProteinSummary?db=core;g=GFUI023701\"> GFUI023701: protein summary </a>"
      ],
      "text/plain": [
       "<IPython.core.display.HTML object>"
      ]
     },
     "metadata": {},
     "output_type": "display_data"
    },
    {
     "data": {
      "text/html": [
       "<a href=\"https://www.vectorbase.org/Glossina_fuscipes/Gene/Ontology/molecular_function?db=core;g=GFUI023701;oid=molecular_function\"> GFUI023701: gene ontology </a>"
      ],
      "text/plain": [
       "<IPython.core.display.HTML object>"
      ]
     },
     "metadata": {},
     "output_type": "display_data"
    },
    {
     "data": {
      "text/html": [
       "<a href=\"https://www.vectorbase.org/Glossina_fuscipes/Location/View?db=core;g=GFUI023701;r\"> GFUI023701: genome browser </a>"
      ],
      "text/plain": [
       "<IPython.core.display.HTML object>"
      ]
     },
     "metadata": {},
     "output_type": "display_data"
    },
    {
     "data": {
      "text/html": [
       "<hr>"
      ],
      "text/plain": [
       "<IPython.core.display.HTML object>"
      ]
     },
     "metadata": {},
     "output_type": "display_data"
    },
    {
     "data": {
      "text/html": [
       "<h2>GFUI015483</h2>"
      ],
      "text/plain": [
       "<IPython.core.display.HTML object>"
      ]
     },
     "metadata": {},
     "output_type": "display_data"
    },
    {
     "data": {
      "text/html": [
       "<b>SNP location:</b><br>Scaffold207:4930<br>"
      ],
      "text/plain": [
       "<IPython.core.display.HTML object>"
      ]
     },
     "metadata": {},
     "output_type": "display_data"
    },
    {
     "data": {
      "text/html": [
       "<div style=\"max-height:1000px;max-width:1500px;overflow:auto;\">\n",
       "<table border=\"1\" class=\"dataframe\">\n",
       "  <thead>\n",
       "    <tr style=\"text-align: right;\">\n",
       "      <th></th>\n",
       "      <th>Sequence</th>\n",
       "      <th>Aspect</th>\n",
       "      <th>GO ID</th>\n",
       "      <th>Name</th>\n",
       "      <th>Total Score</th>\n",
       "      <th>Internal Confidence</th>\n",
       "      <th>Information Content</th>\n",
       "    </tr>\n",
       "  </thead>\n",
       "  <tbody>\n",
       "    <tr>\n",
       "      <th>53498</th>\n",
       "      <td> GFUI015483-PA</td>\n",
       "      <td> P</td>\n",
       "      <td> GO:0006508</td>\n",
       "      <td>                        proteolysis</td>\n",
       "      <td> 3547.837752</td>\n",
       "      <td> 0.183137</td>\n",
       "      <td> 8.247696</td>\n",
       "    </tr>\n",
       "    <tr>\n",
       "      <th>53501</th>\n",
       "      <td> GFUI015483-PA</td>\n",
       "      <td> F</td>\n",
       "      <td> GO:0004252</td>\n",
       "      <td> serine-type endopeptidase activity</td>\n",
       "      <td> 1280.255292</td>\n",
       "      <td> 0.170870</td>\n",
       "      <td> 7.037845</td>\n",
       "    </tr>\n",
       "    <tr>\n",
       "      <th>53499</th>\n",
       "      <td> GFUI015483-PA</td>\n",
       "      <td> F</td>\n",
       "      <td> GO:0016787</td>\n",
       "      <td>                 hydrolase activity</td>\n",
       "      <td>  940.492831</td>\n",
       "      <td> 0.647234</td>\n",
       "      <td> 2.643033</td>\n",
       "    </tr>\n",
       "    <tr>\n",
       "      <th>53503</th>\n",
       "      <td> GFUI015483-PA</td>\n",
       "      <td> F</td>\n",
       "      <td> GO:0008236</td>\n",
       "      <td>     serine-type peptidase activity</td>\n",
       "      <td>  807.216196</td>\n",
       "      <td> 0.327086</td>\n",
       "      <td> 6.338852</td>\n",
       "    </tr>\n",
       "    <tr>\n",
       "      <th>53500</th>\n",
       "      <td> GFUI015483-PA</td>\n",
       "      <td> F</td>\n",
       "      <td> GO:0003824</td>\n",
       "      <td>                 catalytic activity</td>\n",
       "      <td>  591.472295</td>\n",
       "      <td> 0.827940</td>\n",
       "      <td> 1.410349</td>\n",
       "    </tr>\n",
       "    <tr>\n",
       "      <th>53502</th>\n",
       "      <td> GFUI015483-PA</td>\n",
       "      <td> F</td>\n",
       "      <td> GO:0008233</td>\n",
       "      <td>                 peptidase activity</td>\n",
       "      <td>  512.027869</td>\n",
       "      <td> 0.482263</td>\n",
       "      <td> 4.436037</td>\n",
       "    </tr>\n",
       "    <tr>\n",
       "      <th>53504</th>\n",
       "      <td> GFUI015483-PA</td>\n",
       "      <td> C</td>\n",
       "      <td> GO:0005576</td>\n",
       "      <td>               extracellular region</td>\n",
       "      <td>  335.567786</td>\n",
       "      <td> 0.388421</td>\n",
       "      <td> 3.024034</td>\n",
       "    </tr>\n",
       "  </tbody>\n",
       "</table>\n",
       "</div>"
      ],
      "text/plain": [
       "            Sequence Aspect       GO ID                                Name  \\\n",
       "53498  GFUI015483-PA      P  GO:0006508                         proteolysis   \n",
       "53501  GFUI015483-PA      F  GO:0004252  serine-type endopeptidase activity   \n",
       "53499  GFUI015483-PA      F  GO:0016787                  hydrolase activity   \n",
       "53503  GFUI015483-PA      F  GO:0008236      serine-type peptidase activity   \n",
       "53500  GFUI015483-PA      F  GO:0003824                  catalytic activity   \n",
       "53502  GFUI015483-PA      F  GO:0008233                  peptidase activity   \n",
       "53504  GFUI015483-PA      C  GO:0005576                extracellular region   \n",
       "\n",
       "       Total Score  Internal Confidence  Information Content  \n",
       "53498  3547.837752             0.183137             8.247696  \n",
       "53501  1280.255292             0.170870             7.037845  \n",
       "53499   940.492831             0.647234             2.643033  \n",
       "53503   807.216196             0.327086             6.338852  \n",
       "53500   591.472295             0.827940             1.410349  \n",
       "53502   512.027869             0.482263             4.436037  \n",
       "53504   335.567786             0.388421             3.024034  "
      ]
     },
     "metadata": {},
     "output_type": "display_data"
    },
    {
     "data": {
      "text/html": [
       "<p>"
      ],
      "text/plain": [
       "<IPython.core.display.HTML object>"
      ]
     },
     "metadata": {},
     "output_type": "display_data"
    },
    {
     "data": {
      "text/html": [
       "<a href=\"https://www.vectorbase.org/Glossina_fuscipes/Gene/Summary?db=core;g=GFUI015483\"> GFUI015483: gene home page</a>"
      ],
      "text/plain": [
       "<IPython.core.display.HTML object>"
      ]
     },
     "metadata": {},
     "output_type": "display_data"
    },
    {
     "data": {
      "text/html": [
       "<a href=\"https://www.vectorbase.org/Glossina_fuscipes/Transcript/ProteinSummary?db=core;g=GFUI015483\"> GFUI015483: protein summary </a>"
      ],
      "text/plain": [
       "<IPython.core.display.HTML object>"
      ]
     },
     "metadata": {},
     "output_type": "display_data"
    },
    {
     "data": {
      "text/html": [
       "<a href=\"https://www.vectorbase.org/Glossina_fuscipes/Gene/Ontology/molecular_function?db=core;g=GFUI015483;oid=molecular_function\"> GFUI015483: gene ontology </a>"
      ],
      "text/plain": [
       "<IPython.core.display.HTML object>"
      ]
     },
     "metadata": {},
     "output_type": "display_data"
    },
    {
     "data": {
      "text/html": [
       "<a href=\"https://www.vectorbase.org/Glossina_fuscipes/Location/View?db=core;g=GFUI015483;r\"> GFUI015483: genome browser </a>"
      ],
      "text/plain": [
       "<IPython.core.display.HTML object>"
      ]
     },
     "metadata": {},
     "output_type": "display_data"
    },
    {
     "data": {
      "text/html": [
       "<hr>"
      ],
      "text/plain": [
       "<IPython.core.display.HTML object>"
      ]
     },
     "metadata": {},
     "output_type": "display_data"
    },
    {
     "data": {
      "text/html": [
       "<h2>GFUI037451</h2>"
      ],
      "text/plain": [
       "<IPython.core.display.HTML object>"
      ]
     },
     "metadata": {},
     "output_type": "display_data"
    },
    {
     "data": {
      "text/html": [
       "<b>SNP location:</b><br>Scaffold519:34289<br>"
      ],
      "text/plain": [
       "<IPython.core.display.HTML object>"
      ]
     },
     "metadata": {},
     "output_type": "display_data"
    },
    {
     "data": {
      "text/html": [
       "<div style=\"max-height:1000px;max-width:1500px;overflow:auto;\">\n",
       "<table border=\"1\" class=\"dataframe\">\n",
       "  <thead>\n",
       "    <tr style=\"text-align: right;\">\n",
       "      <th></th>\n",
       "      <th>Sequence</th>\n",
       "      <th>Aspect</th>\n",
       "      <th>GO ID</th>\n",
       "      <th>Name</th>\n",
       "      <th>Total Score</th>\n",
       "      <th>Internal Confidence</th>\n",
       "      <th>Information Content</th>\n",
       "    </tr>\n",
       "  </thead>\n",
       "  <tbody>\n",
       "  </tbody>\n",
       "</table>\n",
       "</div>"
      ],
      "text/plain": [
       "Empty DataFrame\n",
       "Columns: [Sequence, Aspect, GO ID, Name, Total Score, Internal Confidence, Information Content]\n",
       "Index: []"
      ]
     },
     "metadata": {},
     "output_type": "display_data"
    },
    {
     "data": {
      "text/html": [
       "<p>"
      ],
      "text/plain": [
       "<IPython.core.display.HTML object>"
      ]
     },
     "metadata": {},
     "output_type": "display_data"
    },
    {
     "data": {
      "text/html": [
       "<a href=\"https://www.vectorbase.org/Glossina_fuscipes/Gene/Summary?db=core;g=GFUI037451\"> GFUI037451: gene home page</a>"
      ],
      "text/plain": [
       "<IPython.core.display.HTML object>"
      ]
     },
     "metadata": {},
     "output_type": "display_data"
    },
    {
     "data": {
      "text/html": [
       "<a href=\"https://www.vectorbase.org/Glossina_fuscipes/Transcript/ProteinSummary?db=core;g=GFUI037451\"> GFUI037451: protein summary </a>"
      ],
      "text/plain": [
       "<IPython.core.display.HTML object>"
      ]
     },
     "metadata": {},
     "output_type": "display_data"
    },
    {
     "data": {
      "text/html": [
       "<a href=\"https://www.vectorbase.org/Glossina_fuscipes/Gene/Ontology/molecular_function?db=core;g=GFUI037451;oid=molecular_function\"> GFUI037451: gene ontology </a>"
      ],
      "text/plain": [
       "<IPython.core.display.HTML object>"
      ]
     },
     "metadata": {},
     "output_type": "display_data"
    },
    {
     "data": {
      "text/html": [
       "<a href=\"https://www.vectorbase.org/Glossina_fuscipes/Location/View?db=core;g=GFUI037451;r\"> GFUI037451: genome browser </a>"
      ],
      "text/plain": [
       "<IPython.core.display.HTML object>"
      ]
     },
     "metadata": {},
     "output_type": "display_data"
    },
    {
     "data": {
      "text/html": [
       "<hr>"
      ],
      "text/plain": [
       "<IPython.core.display.HTML object>"
      ]
     },
     "metadata": {},
     "output_type": "display_data"
    },
    {
     "data": {
      "text/html": [
       "<h2>GFUI021051</h2>"
      ],
      "text/plain": [
       "<IPython.core.display.HTML object>"
      ]
     },
     "metadata": {},
     "output_type": "display_data"
    },
    {
     "data": {
      "text/html": [
       "<b>SNP location:</b><br>Scaffold26:1356164<br>"
      ],
      "text/plain": [
       "<IPython.core.display.HTML object>"
      ]
     },
     "metadata": {},
     "output_type": "display_data"
    },
    {
     "data": {
      "text/html": [
       "<div style=\"max-height:1000px;max-width:1500px;overflow:auto;\">\n",
       "<table border=\"1\" class=\"dataframe\">\n",
       "  <thead>\n",
       "    <tr style=\"text-align: right;\">\n",
       "      <th></th>\n",
       "      <th>Sequence</th>\n",
       "      <th>Aspect</th>\n",
       "      <th>GO ID</th>\n",
       "      <th>Name</th>\n",
       "      <th>Total Score</th>\n",
       "      <th>Internal Confidence</th>\n",
       "      <th>Information Content</th>\n",
       "    </tr>\n",
       "  </thead>\n",
       "  <tbody>\n",
       "    <tr>\n",
       "      <th>42160</th>\n",
       "      <td> GFUI021051-PA</td>\n",
       "      <td> F</td>\n",
       "      <td> GO:0004910</td>\n",
       "      <td> interleukin-1, Type II, blocking receptor acti...</td>\n",
       "      <td> 383.045002</td>\n",
       "      <td> 0.241302</td>\n",
       "      <td> 15.367774</td>\n",
       "    </tr>\n",
       "    <tr>\n",
       "      <th>42159</th>\n",
       "      <td> GFUI021051-PA</td>\n",
       "      <td> F</td>\n",
       "      <td> GO:0004908</td>\n",
       "      <td>                   interleukin-1 receptor activity</td>\n",
       "      <td> 327.471351</td>\n",
       "      <td> 0.482605</td>\n",
       "      <td> 13.138158</td>\n",
       "    </tr>\n",
       "  </tbody>\n",
       "</table>\n",
       "</div>"
      ],
      "text/plain": [
       "            Sequence Aspect       GO ID  \\\n",
       "42160  GFUI021051-PA      F  GO:0004910   \n",
       "42159  GFUI021051-PA      F  GO:0004908   \n",
       "\n",
       "                                                    Name  Total Score  \\\n",
       "42160  interleukin-1, Type II, blocking receptor acti...   383.045002   \n",
       "42159                    interleukin-1 receptor activity   327.471351   \n",
       "\n",
       "       Internal Confidence  Information Content  \n",
       "42160             0.241302            15.367774  \n",
       "42159             0.482605            13.138158  "
      ]
     },
     "metadata": {},
     "output_type": "display_data"
    },
    {
     "data": {
      "text/html": [
       "<p>"
      ],
      "text/plain": [
       "<IPython.core.display.HTML object>"
      ]
     },
     "metadata": {},
     "output_type": "display_data"
    },
    {
     "data": {
      "text/html": [
       "<a href=\"https://www.vectorbase.org/Glossina_fuscipes/Gene/Summary?db=core;g=GFUI021051\"> GFUI021051: gene home page</a>"
      ],
      "text/plain": [
       "<IPython.core.display.HTML object>"
      ]
     },
     "metadata": {},
     "output_type": "display_data"
    },
    {
     "data": {
      "text/html": [
       "<a href=\"https://www.vectorbase.org/Glossina_fuscipes/Transcript/ProteinSummary?db=core;g=GFUI021051\"> GFUI021051: protein summary </a>"
      ],
      "text/plain": [
       "<IPython.core.display.HTML object>"
      ]
     },
     "metadata": {},
     "output_type": "display_data"
    },
    {
     "data": {
      "text/html": [
       "<a href=\"https://www.vectorbase.org/Glossina_fuscipes/Gene/Ontology/molecular_function?db=core;g=GFUI021051;oid=molecular_function\"> GFUI021051: gene ontology </a>"
      ],
      "text/plain": [
       "<IPython.core.display.HTML object>"
      ]
     },
     "metadata": {},
     "output_type": "display_data"
    },
    {
     "data": {
      "text/html": [
       "<a href=\"https://www.vectorbase.org/Glossina_fuscipes/Location/View?db=core;g=GFUI021051;r\"> GFUI021051: genome browser </a>"
      ],
      "text/plain": [
       "<IPython.core.display.HTML object>"
      ]
     },
     "metadata": {},
     "output_type": "display_data"
    },
    {
     "data": {
      "text/html": [
       "<hr>"
      ],
      "text/plain": [
       "<IPython.core.display.HTML object>"
      ]
     },
     "metadata": {},
     "output_type": "display_data"
    },
    {
     "data": {
      "text/html": [
       "<h2>GFUI003566</h2>"
      ],
      "text/plain": [
       "<IPython.core.display.HTML object>"
      ]
     },
     "metadata": {},
     "output_type": "display_data"
    },
    {
     "data": {
      "text/html": [
       "<b>SNP location:</b><br>Scaffold10:566544<br>"
      ],
      "text/plain": [
       "<IPython.core.display.HTML object>"
      ]
     },
     "metadata": {},
     "output_type": "display_data"
    },
    {
     "data": {
      "text/html": [
       "<div style=\"max-height:1000px;max-width:1500px;overflow:auto;\">\n",
       "<table border=\"1\" class=\"dataframe\">\n",
       "  <thead>\n",
       "    <tr style=\"text-align: right;\">\n",
       "      <th></th>\n",
       "      <th>Sequence</th>\n",
       "      <th>Aspect</th>\n",
       "      <th>GO ID</th>\n",
       "      <th>Name</th>\n",
       "      <th>Total Score</th>\n",
       "      <th>Internal Confidence</th>\n",
       "      <th>Information Content</th>\n",
       "    </tr>\n",
       "  </thead>\n",
       "  <tbody>\n",
       "  </tbody>\n",
       "</table>\n",
       "</div>"
      ],
      "text/plain": [
       "Empty DataFrame\n",
       "Columns: [Sequence, Aspect, GO ID, Name, Total Score, Internal Confidence, Information Content]\n",
       "Index: []"
      ]
     },
     "metadata": {},
     "output_type": "display_data"
    },
    {
     "data": {
      "text/html": [
       "<p>"
      ],
      "text/plain": [
       "<IPython.core.display.HTML object>"
      ]
     },
     "metadata": {},
     "output_type": "display_data"
    },
    {
     "data": {
      "text/html": [
       "<a href=\"https://www.vectorbase.org/Glossina_fuscipes/Gene/Summary?db=core;g=GFUI003566\"> GFUI003566: gene home page</a>"
      ],
      "text/plain": [
       "<IPython.core.display.HTML object>"
      ]
     },
     "metadata": {},
     "output_type": "display_data"
    },
    {
     "data": {
      "text/html": [
       "<a href=\"https://www.vectorbase.org/Glossina_fuscipes/Transcript/ProteinSummary?db=core;g=GFUI003566\"> GFUI003566: protein summary </a>"
      ],
      "text/plain": [
       "<IPython.core.display.HTML object>"
      ]
     },
     "metadata": {},
     "output_type": "display_data"
    },
    {
     "data": {
      "text/html": [
       "<a href=\"https://www.vectorbase.org/Glossina_fuscipes/Gene/Ontology/molecular_function?db=core;g=GFUI003566;oid=molecular_function\"> GFUI003566: gene ontology </a>"
      ],
      "text/plain": [
       "<IPython.core.display.HTML object>"
      ]
     },
     "metadata": {},
     "output_type": "display_data"
    },
    {
     "data": {
      "text/html": [
       "<a href=\"https://www.vectorbase.org/Glossina_fuscipes/Location/View?db=core;g=GFUI003566;r\"> GFUI003566: genome browser </a>"
      ],
      "text/plain": [
       "<IPython.core.display.HTML object>"
      ]
     },
     "metadata": {},
     "output_type": "display_data"
    },
    {
     "data": {
      "text/html": [
       "<hr>"
      ],
      "text/plain": [
       "<IPython.core.display.HTML object>"
      ]
     },
     "metadata": {},
     "output_type": "display_data"
    },
    {
     "data": {
      "text/html": [
       "<h2>GFUI037899</h2>"
      ],
      "text/plain": [
       "<IPython.core.display.HTML object>"
      ]
     },
     "metadata": {},
     "output_type": "display_data"
    },
    {
     "data": {
      "text/html": [
       "<b>SNP location:</b><br>Scaffold52:65135<br>"
      ],
      "text/plain": [
       "<IPython.core.display.HTML object>"
      ]
     },
     "metadata": {},
     "output_type": "display_data"
    },
    {
     "data": {
      "text/html": [
       "<div style=\"max-height:1000px;max-width:1500px;overflow:auto;\">\n",
       "<table border=\"1\" class=\"dataframe\">\n",
       "  <thead>\n",
       "    <tr style=\"text-align: right;\">\n",
       "      <th></th>\n",
       "      <th>Sequence</th>\n",
       "      <th>Aspect</th>\n",
       "      <th>GO ID</th>\n",
       "      <th>Name</th>\n",
       "      <th>Total Score</th>\n",
       "      <th>Internal Confidence</th>\n",
       "      <th>Information Content</th>\n",
       "    </tr>\n",
       "  </thead>\n",
       "  <tbody>\n",
       "  </tbody>\n",
       "</table>\n",
       "</div>"
      ],
      "text/plain": [
       "Empty DataFrame\n",
       "Columns: [Sequence, Aspect, GO ID, Name, Total Score, Internal Confidence, Information Content]\n",
       "Index: []"
      ]
     },
     "metadata": {},
     "output_type": "display_data"
    },
    {
     "data": {
      "text/html": [
       "<p>"
      ],
      "text/plain": [
       "<IPython.core.display.HTML object>"
      ]
     },
     "metadata": {},
     "output_type": "display_data"
    },
    {
     "data": {
      "text/html": [
       "<a href=\"https://www.vectorbase.org/Glossina_fuscipes/Gene/Summary?db=core;g=GFUI037899\"> GFUI037899: gene home page</a>"
      ],
      "text/plain": [
       "<IPython.core.display.HTML object>"
      ]
     },
     "metadata": {},
     "output_type": "display_data"
    },
    {
     "data": {
      "text/html": [
       "<a href=\"https://www.vectorbase.org/Glossina_fuscipes/Transcript/ProteinSummary?db=core;g=GFUI037899\"> GFUI037899: protein summary </a>"
      ],
      "text/plain": [
       "<IPython.core.display.HTML object>"
      ]
     },
     "metadata": {},
     "output_type": "display_data"
    },
    {
     "data": {
      "text/html": [
       "<a href=\"https://www.vectorbase.org/Glossina_fuscipes/Gene/Ontology/molecular_function?db=core;g=GFUI037899;oid=molecular_function\"> GFUI037899: gene ontology </a>"
      ],
      "text/plain": [
       "<IPython.core.display.HTML object>"
      ]
     },
     "metadata": {},
     "output_type": "display_data"
    },
    {
     "data": {
      "text/html": [
       "<a href=\"https://www.vectorbase.org/Glossina_fuscipes/Location/View?db=core;g=GFUI037899;r\"> GFUI037899: genome browser </a>"
      ],
      "text/plain": [
       "<IPython.core.display.HTML object>"
      ]
     },
     "metadata": {},
     "output_type": "display_data"
    },
    {
     "data": {
      "text/html": [
       "<hr>"
      ],
      "text/plain": [
       "<IPython.core.display.HTML object>"
      ]
     },
     "metadata": {},
     "output_type": "display_data"
    },
    {
     "data": {
      "text/html": [
       "<h2>GFUI023695</h2>"
      ],
      "text/plain": [
       "<IPython.core.display.HTML object>"
      ]
     },
     "metadata": {},
     "output_type": "display_data"
    },
    {
     "data": {
      "text/html": [
       "<b>SNP location:</b><br>Scaffold2:1861732<br>"
      ],
      "text/plain": [
       "<IPython.core.display.HTML object>"
      ]
     },
     "metadata": {},
     "output_type": "display_data"
    },
    {
     "data": {
      "text/html": [
       "<div style=\"max-height:1000px;max-width:1500px;overflow:auto;\">\n",
       "<table border=\"1\" class=\"dataframe\">\n",
       "  <thead>\n",
       "    <tr style=\"text-align: right;\">\n",
       "      <th></th>\n",
       "      <th>Sequence</th>\n",
       "      <th>Aspect</th>\n",
       "      <th>GO ID</th>\n",
       "      <th>Name</th>\n",
       "      <th>Total Score</th>\n",
       "      <th>Internal Confidence</th>\n",
       "      <th>Information Content</th>\n",
       "    </tr>\n",
       "  </thead>\n",
       "  <tbody>\n",
       "  </tbody>\n",
       "</table>\n",
       "</div>"
      ],
      "text/plain": [
       "Empty DataFrame\n",
       "Columns: [Sequence, Aspect, GO ID, Name, Total Score, Internal Confidence, Information Content]\n",
       "Index: []"
      ]
     },
     "metadata": {},
     "output_type": "display_data"
    },
    {
     "data": {
      "text/html": [
       "<p>"
      ],
      "text/plain": [
       "<IPython.core.display.HTML object>"
      ]
     },
     "metadata": {},
     "output_type": "display_data"
    },
    {
     "data": {
      "text/html": [
       "<a href=\"https://www.vectorbase.org/Glossina_fuscipes/Gene/Summary?db=core;g=GFUI023695\"> GFUI023695: gene home page</a>"
      ],
      "text/plain": [
       "<IPython.core.display.HTML object>"
      ]
     },
     "metadata": {},
     "output_type": "display_data"
    },
    {
     "data": {
      "text/html": [
       "<a href=\"https://www.vectorbase.org/Glossina_fuscipes/Transcript/ProteinSummary?db=core;g=GFUI023695\"> GFUI023695: protein summary </a>"
      ],
      "text/plain": [
       "<IPython.core.display.HTML object>"
      ]
     },
     "metadata": {},
     "output_type": "display_data"
    },
    {
     "data": {
      "text/html": [
       "<a href=\"https://www.vectorbase.org/Glossina_fuscipes/Gene/Ontology/molecular_function?db=core;g=GFUI023695;oid=molecular_function\"> GFUI023695: gene ontology </a>"
      ],
      "text/plain": [
       "<IPython.core.display.HTML object>"
      ]
     },
     "metadata": {},
     "output_type": "display_data"
    },
    {
     "data": {
      "text/html": [
       "<a href=\"https://www.vectorbase.org/Glossina_fuscipes/Location/View?db=core;g=GFUI023695;r\"> GFUI023695: genome browser </a>"
      ],
      "text/plain": [
       "<IPython.core.display.HTML object>"
      ]
     },
     "metadata": {},
     "output_type": "display_data"
    },
    {
     "data": {
      "text/html": [
       "<hr>"
      ],
      "text/plain": [
       "<IPython.core.display.HTML object>"
      ]
     },
     "metadata": {},
     "output_type": "display_data"
    },
    {
     "data": {
      "text/html": [
       "<h2>GFUI013780</h2>"
      ],
      "text/plain": [
       "<IPython.core.display.HTML object>"
      ]
     },
     "metadata": {},
     "output_type": "display_data"
    },
    {
     "data": {
      "text/html": [
       "<b>SNP location:</b><br>Scaffold192:506886<br>"
      ],
      "text/plain": [
       "<IPython.core.display.HTML object>"
      ]
     },
     "metadata": {},
     "output_type": "display_data"
    },
    {
     "data": {
      "text/html": [
       "<div style=\"max-height:1000px;max-width:1500px;overflow:auto;\">\n",
       "<table border=\"1\" class=\"dataframe\">\n",
       "  <thead>\n",
       "    <tr style=\"text-align: right;\">\n",
       "      <th></th>\n",
       "      <th>Sequence</th>\n",
       "      <th>Aspect</th>\n",
       "      <th>GO ID</th>\n",
       "      <th>Name</th>\n",
       "      <th>Total Score</th>\n",
       "      <th>Internal Confidence</th>\n",
       "      <th>Information Content</th>\n",
       "    </tr>\n",
       "  </thead>\n",
       "  <tbody>\n",
       "    <tr>\n",
       "      <th>56244</th>\n",
       "      <td> GFUI013780-PA</td>\n",
       "      <td> C</td>\n",
       "      <td> GO:0005634</td>\n",
       "      <td>                       nucleus</td>\n",
       "      <td> 2101.575140</td>\n",
       "      <td> 0.674396</td>\n",
       "      <td>  5.725783</td>\n",
       "    </tr>\n",
       "    <tr>\n",
       "      <th>56243</th>\n",
       "      <td> GFUI013780-PA</td>\n",
       "      <td> F</td>\n",
       "      <td> GO:0046983</td>\n",
       "      <td> protein dimerization activity</td>\n",
       "      <td>  870.246329</td>\n",
       "      <td> 0.180210</td>\n",
       "      <td>  6.942763</td>\n",
       "    </tr>\n",
       "    <tr>\n",
       "      <th>56242</th>\n",
       "      <td> GFUI013780-PA</td>\n",
       "      <td> F</td>\n",
       "      <td> GO:0003677</td>\n",
       "      <td>                   DNA binding</td>\n",
       "      <td>  425.597921</td>\n",
       "      <td> 0.461130</td>\n",
       "      <td>  3.831010</td>\n",
       "    </tr>\n",
       "    <tr>\n",
       "      <th>56240</th>\n",
       "      <td> GFUI013780-PA</td>\n",
       "      <td> P</td>\n",
       "      <td> GO:0007517</td>\n",
       "      <td>      muscle organ development</td>\n",
       "      <td>  383.978856</td>\n",
       "      <td> 0.155589</td>\n",
       "      <td> 12.579326</td>\n",
       "    </tr>\n",
       "    <tr>\n",
       "      <th>56241</th>\n",
       "      <td> GFUI013780-PA</td>\n",
       "      <td> P</td>\n",
       "      <td> GO:0006351</td>\n",
       "      <td>  transcription, DNA-templated</td>\n",
       "      <td>  219.109867</td>\n",
       "      <td> 0.179396</td>\n",
       "      <td>  6.856772</td>\n",
       "    </tr>\n",
       "  </tbody>\n",
       "</table>\n",
       "</div>"
      ],
      "text/plain": [
       "            Sequence Aspect       GO ID                           Name  \\\n",
       "56244  GFUI013780-PA      C  GO:0005634                        nucleus   \n",
       "56243  GFUI013780-PA      F  GO:0046983  protein dimerization activity   \n",
       "56242  GFUI013780-PA      F  GO:0003677                    DNA binding   \n",
       "56240  GFUI013780-PA      P  GO:0007517       muscle organ development   \n",
       "56241  GFUI013780-PA      P  GO:0006351   transcription, DNA-templated   \n",
       "\n",
       "       Total Score  Internal Confidence  Information Content  \n",
       "56244  2101.575140             0.674396             5.725783  \n",
       "56243   870.246329             0.180210             6.942763  \n",
       "56242   425.597921             0.461130             3.831010  \n",
       "56240   383.978856             0.155589            12.579326  \n",
       "56241   219.109867             0.179396             6.856772  "
      ]
     },
     "metadata": {},
     "output_type": "display_data"
    },
    {
     "data": {
      "text/html": [
       "<p>"
      ],
      "text/plain": [
       "<IPython.core.display.HTML object>"
      ]
     },
     "metadata": {},
     "output_type": "display_data"
    },
    {
     "data": {
      "text/html": [
       "<a href=\"https://www.vectorbase.org/Glossina_fuscipes/Gene/Summary?db=core;g=GFUI013780\"> GFUI013780: gene home page</a>"
      ],
      "text/plain": [
       "<IPython.core.display.HTML object>"
      ]
     },
     "metadata": {},
     "output_type": "display_data"
    },
    {
     "data": {
      "text/html": [
       "<a href=\"https://www.vectorbase.org/Glossina_fuscipes/Transcript/ProteinSummary?db=core;g=GFUI013780\"> GFUI013780: protein summary </a>"
      ],
      "text/plain": [
       "<IPython.core.display.HTML object>"
      ]
     },
     "metadata": {},
     "output_type": "display_data"
    },
    {
     "data": {
      "text/html": [
       "<a href=\"https://www.vectorbase.org/Glossina_fuscipes/Gene/Ontology/molecular_function?db=core;g=GFUI013780;oid=molecular_function\"> GFUI013780: gene ontology </a>"
      ],
      "text/plain": [
       "<IPython.core.display.HTML object>"
      ]
     },
     "metadata": {},
     "output_type": "display_data"
    },
    {
     "data": {
      "text/html": [
       "<a href=\"https://www.vectorbase.org/Glossina_fuscipes/Location/View?db=core;g=GFUI013780;r\"> GFUI013780: genome browser </a>"
      ],
      "text/plain": [
       "<IPython.core.display.HTML object>"
      ]
     },
     "metadata": {},
     "output_type": "display_data"
    },
    {
     "data": {
      "text/html": [
       "<hr>"
      ],
      "text/plain": [
       "<IPython.core.display.HTML object>"
      ]
     },
     "metadata": {},
     "output_type": "display_data"
    },
    {
     "data": {
      "text/html": [
       "<h2>GFUI030010</h2>"
      ],
      "text/plain": [
       "<IPython.core.display.HTML object>"
      ]
     },
     "metadata": {},
     "output_type": "display_data"
    },
    {
     "data": {
      "text/html": [
       "<b>SNP location:</b><br>Scaffold391:73419<br>"
      ],
      "text/plain": [
       "<IPython.core.display.HTML object>"
      ]
     },
     "metadata": {},
     "output_type": "display_data"
    },
    {
     "data": {
      "text/html": [
       "<div style=\"max-height:1000px;max-width:1500px;overflow:auto;\">\n",
       "<table border=\"1\" class=\"dataframe\">\n",
       "  <thead>\n",
       "    <tr style=\"text-align: right;\">\n",
       "      <th></th>\n",
       "      <th>Sequence</th>\n",
       "      <th>Aspect</th>\n",
       "      <th>GO ID</th>\n",
       "      <th>Name</th>\n",
       "      <th>Total Score</th>\n",
       "      <th>Internal Confidence</th>\n",
       "      <th>Information Content</th>\n",
       "    </tr>\n",
       "  </thead>\n",
       "  <tbody>\n",
       "    <tr>\n",
       "      <th>31399</th>\n",
       "      <td> GFUI030010-PA</td>\n",
       "      <td> C</td>\n",
       "      <td> GO:0016020</td>\n",
       "      <td>                       membrane</td>\n",
       "      <td> 678.524157</td>\n",
       "      <td> 0.747154</td>\n",
       "      <td> 2.472824</td>\n",
       "    </tr>\n",
       "    <tr>\n",
       "      <th>31397</th>\n",
       "      <td> GFUI030010-PA</td>\n",
       "      <td> F</td>\n",
       "      <td> GO:0003824</td>\n",
       "      <td>             catalytic activity</td>\n",
       "      <td> 574.037413</td>\n",
       "      <td> 0.857252</td>\n",
       "      <td> 1.410349</td>\n",
       "    </tr>\n",
       "    <tr>\n",
       "      <th>31398</th>\n",
       "      <td> GFUI030010-PA</td>\n",
       "      <td> F</td>\n",
       "      <td> GO:0016787</td>\n",
       "      <td>             hydrolase activity</td>\n",
       "      <td> 334.822471</td>\n",
       "      <td> 0.585640</td>\n",
       "      <td> 2.643033</td>\n",
       "    </tr>\n",
       "    <tr>\n",
       "      <th>31400</th>\n",
       "      <td> GFUI030010-PA</td>\n",
       "      <td> C</td>\n",
       "      <td> GO:0016021</td>\n",
       "      <td> integral component of membrane</td>\n",
       "      <td> 274.010819</td>\n",
       "      <td> 0.257963</td>\n",
       "      <td> 3.692502</td>\n",
       "    </tr>\n",
       "  </tbody>\n",
       "</table>\n",
       "</div>"
      ],
      "text/plain": [
       "            Sequence Aspect       GO ID                            Name  \\\n",
       "31399  GFUI030010-PA      C  GO:0016020                        membrane   \n",
       "31397  GFUI030010-PA      F  GO:0003824              catalytic activity   \n",
       "31398  GFUI030010-PA      F  GO:0016787              hydrolase activity   \n",
       "31400  GFUI030010-PA      C  GO:0016021  integral component of membrane   \n",
       "\n",
       "       Total Score  Internal Confidence  Information Content  \n",
       "31399   678.524157             0.747154             2.472824  \n",
       "31397   574.037413             0.857252             1.410349  \n",
       "31398   334.822471             0.585640             2.643033  \n",
       "31400   274.010819             0.257963             3.692502  "
      ]
     },
     "metadata": {},
     "output_type": "display_data"
    },
    {
     "data": {
      "text/html": [
       "<p>"
      ],
      "text/plain": [
       "<IPython.core.display.HTML object>"
      ]
     },
     "metadata": {},
     "output_type": "display_data"
    },
    {
     "data": {
      "text/html": [
       "<a href=\"https://www.vectorbase.org/Glossina_fuscipes/Gene/Summary?db=core;g=GFUI030010\"> GFUI030010: gene home page</a>"
      ],
      "text/plain": [
       "<IPython.core.display.HTML object>"
      ]
     },
     "metadata": {},
     "output_type": "display_data"
    },
    {
     "data": {
      "text/html": [
       "<a href=\"https://www.vectorbase.org/Glossina_fuscipes/Transcript/ProteinSummary?db=core;g=GFUI030010\"> GFUI030010: protein summary </a>"
      ],
      "text/plain": [
       "<IPython.core.display.HTML object>"
      ]
     },
     "metadata": {},
     "output_type": "display_data"
    },
    {
     "data": {
      "text/html": [
       "<a href=\"https://www.vectorbase.org/Glossina_fuscipes/Gene/Ontology/molecular_function?db=core;g=GFUI030010;oid=molecular_function\"> GFUI030010: gene ontology </a>"
      ],
      "text/plain": [
       "<IPython.core.display.HTML object>"
      ]
     },
     "metadata": {},
     "output_type": "display_data"
    },
    {
     "data": {
      "text/html": [
       "<a href=\"https://www.vectorbase.org/Glossina_fuscipes/Location/View?db=core;g=GFUI030010;r\"> GFUI030010: genome browser </a>"
      ],
      "text/plain": [
       "<IPython.core.display.HTML object>"
      ]
     },
     "metadata": {},
     "output_type": "display_data"
    },
    {
     "data": {
      "text/html": [
       "<hr>"
      ],
      "text/plain": [
       "<IPython.core.display.HTML object>"
      ]
     },
     "metadata": {},
     "output_type": "display_data"
    },
    {
     "data": {
      "text/html": [
       "<h2>GFUI043363</h2>"
      ],
      "text/plain": [
       "<IPython.core.display.HTML object>"
      ]
     },
     "metadata": {},
     "output_type": "display_data"
    },
    {
     "data": {
      "text/html": [
       "<b>SNP location:</b><br>Scaffold65:500858<br>"
      ],
      "text/plain": [
       "<IPython.core.display.HTML object>"
      ]
     },
     "metadata": {},
     "output_type": "display_data"
    },
    {
     "data": {
      "text/html": [
       "<div style=\"max-height:1000px;max-width:1500px;overflow:auto;\">\n",
       "<table border=\"1\" class=\"dataframe\">\n",
       "  <thead>\n",
       "    <tr style=\"text-align: right;\">\n",
       "      <th></th>\n",
       "      <th>Sequence</th>\n",
       "      <th>Aspect</th>\n",
       "      <th>GO ID</th>\n",
       "      <th>Name</th>\n",
       "      <th>Total Score</th>\n",
       "      <th>Internal Confidence</th>\n",
       "      <th>Information Content</th>\n",
       "    </tr>\n",
       "  </thead>\n",
       "  <tbody>\n",
       "  </tbody>\n",
       "</table>\n",
       "</div>"
      ],
      "text/plain": [
       "Empty DataFrame\n",
       "Columns: [Sequence, Aspect, GO ID, Name, Total Score, Internal Confidence, Information Content]\n",
       "Index: []"
      ]
     },
     "metadata": {},
     "output_type": "display_data"
    },
    {
     "data": {
      "text/html": [
       "<p>"
      ],
      "text/plain": [
       "<IPython.core.display.HTML object>"
      ]
     },
     "metadata": {},
     "output_type": "display_data"
    },
    {
     "data": {
      "text/html": [
       "<a href=\"https://www.vectorbase.org/Glossina_fuscipes/Gene/Summary?db=core;g=GFUI043363\"> GFUI043363: gene home page</a>"
      ],
      "text/plain": [
       "<IPython.core.display.HTML object>"
      ]
     },
     "metadata": {},
     "output_type": "display_data"
    },
    {
     "data": {
      "text/html": [
       "<a href=\"https://www.vectorbase.org/Glossina_fuscipes/Transcript/ProteinSummary?db=core;g=GFUI043363\"> GFUI043363: protein summary </a>"
      ],
      "text/plain": [
       "<IPython.core.display.HTML object>"
      ]
     },
     "metadata": {},
     "output_type": "display_data"
    },
    {
     "data": {
      "text/html": [
       "<a href=\"https://www.vectorbase.org/Glossina_fuscipes/Gene/Ontology/molecular_function?db=core;g=GFUI043363;oid=molecular_function\"> GFUI043363: gene ontology </a>"
      ],
      "text/plain": [
       "<IPython.core.display.HTML object>"
      ]
     },
     "metadata": {},
     "output_type": "display_data"
    },
    {
     "data": {
      "text/html": [
       "<a href=\"https://www.vectorbase.org/Glossina_fuscipes/Location/View?db=core;g=GFUI043363;r\"> GFUI043363: genome browser </a>"
      ],
      "text/plain": [
       "<IPython.core.display.HTML object>"
      ]
     },
     "metadata": {},
     "output_type": "display_data"
    },
    {
     "data": {
      "text/html": [
       "<hr>"
      ],
      "text/plain": [
       "<IPython.core.display.HTML object>"
      ]
     },
     "metadata": {},
     "output_type": "display_data"
    },
    {
     "data": {
      "text/html": [
       "<h2>GFUI027257</h2>"
      ],
      "text/plain": [
       "<IPython.core.display.HTML object>"
      ]
     },
     "metadata": {},
     "output_type": "display_data"
    },
    {
     "data": {
      "text/html": [
       "<b>SNP location:</b><br>Scaffold34:837224<br>"
      ],
      "text/plain": [
       "<IPython.core.display.HTML object>"
      ]
     },
     "metadata": {},
     "output_type": "display_data"
    },
    {
     "data": {
      "text/html": [
       "<div style=\"max-height:1000px;max-width:1500px;overflow:auto;\">\n",
       "<table border=\"1\" class=\"dataframe\">\n",
       "  <thead>\n",
       "    <tr style=\"text-align: right;\">\n",
       "      <th></th>\n",
       "      <th>Sequence</th>\n",
       "      <th>Aspect</th>\n",
       "      <th>GO ID</th>\n",
       "      <th>Name</th>\n",
       "      <th>Total Score</th>\n",
       "      <th>Internal Confidence</th>\n",
       "      <th>Information Content</th>\n",
       "    </tr>\n",
       "  </thead>\n",
       "  <tbody>\n",
       "  </tbody>\n",
       "</table>\n",
       "</div>"
      ],
      "text/plain": [
       "Empty DataFrame\n",
       "Columns: [Sequence, Aspect, GO ID, Name, Total Score, Internal Confidence, Information Content]\n",
       "Index: []"
      ]
     },
     "metadata": {},
     "output_type": "display_data"
    },
    {
     "data": {
      "text/html": [
       "<p>"
      ],
      "text/plain": [
       "<IPython.core.display.HTML object>"
      ]
     },
     "metadata": {},
     "output_type": "display_data"
    },
    {
     "data": {
      "text/html": [
       "<a href=\"https://www.vectorbase.org/Glossina_fuscipes/Gene/Summary?db=core;g=GFUI027257\"> GFUI027257: gene home page</a>"
      ],
      "text/plain": [
       "<IPython.core.display.HTML object>"
      ]
     },
     "metadata": {},
     "output_type": "display_data"
    },
    {
     "data": {
      "text/html": [
       "<a href=\"https://www.vectorbase.org/Glossina_fuscipes/Transcript/ProteinSummary?db=core;g=GFUI027257\"> GFUI027257: protein summary </a>"
      ],
      "text/plain": [
       "<IPython.core.display.HTML object>"
      ]
     },
     "metadata": {},
     "output_type": "display_data"
    },
    {
     "data": {
      "text/html": [
       "<a href=\"https://www.vectorbase.org/Glossina_fuscipes/Gene/Ontology/molecular_function?db=core;g=GFUI027257;oid=molecular_function\"> GFUI027257: gene ontology </a>"
      ],
      "text/plain": [
       "<IPython.core.display.HTML object>"
      ]
     },
     "metadata": {},
     "output_type": "display_data"
    },
    {
     "data": {
      "text/html": [
       "<a href=\"https://www.vectorbase.org/Glossina_fuscipes/Location/View?db=core;g=GFUI027257;r\"> GFUI027257: genome browser </a>"
      ],
      "text/plain": [
       "<IPython.core.display.HTML object>"
      ]
     },
     "metadata": {},
     "output_type": "display_data"
    },
    {
     "data": {
      "text/html": [
       "<hr>"
      ],
      "text/plain": [
       "<IPython.core.display.HTML object>"
      ]
     },
     "metadata": {},
     "output_type": "display_data"
    },
    {
     "data": {
      "text/html": [
       "<h2>GFUI053699</h2>"
      ],
      "text/plain": [
       "<IPython.core.display.HTML object>"
      ]
     },
     "metadata": {},
     "output_type": "display_data"
    },
    {
     "data": {
      "text/html": [
       "<b>SNP location:</b><br>Scaffold10:566544<br>"
      ],
      "text/plain": [
       "<IPython.core.display.HTML object>"
      ]
     },
     "metadata": {},
     "output_type": "display_data"
    },
    {
     "data": {
      "text/html": [
       "<div style=\"max-height:1000px;max-width:1500px;overflow:auto;\">\n",
       "<table border=\"1\" class=\"dataframe\">\n",
       "  <thead>\n",
       "    <tr style=\"text-align: right;\">\n",
       "      <th></th>\n",
       "      <th>Sequence</th>\n",
       "      <th>Aspect</th>\n",
       "      <th>GO ID</th>\n",
       "      <th>Name</th>\n",
       "      <th>Total Score</th>\n",
       "      <th>Internal Confidence</th>\n",
       "      <th>Information Content</th>\n",
       "    </tr>\n",
       "  </thead>\n",
       "  <tbody>\n",
       "  </tbody>\n",
       "</table>\n",
       "</div>"
      ],
      "text/plain": [
       "Empty DataFrame\n",
       "Columns: [Sequence, Aspect, GO ID, Name, Total Score, Internal Confidence, Information Content]\n",
       "Index: []"
      ]
     },
     "metadata": {},
     "output_type": "display_data"
    },
    {
     "data": {
      "text/html": [
       "<p>"
      ],
      "text/plain": [
       "<IPython.core.display.HTML object>"
      ]
     },
     "metadata": {},
     "output_type": "display_data"
    },
    {
     "data": {
      "text/html": [
       "<a href=\"https://www.vectorbase.org/Glossina_fuscipes/Gene/Summary?db=core;g=GFUI053699\"> GFUI053699: gene home page</a>"
      ],
      "text/plain": [
       "<IPython.core.display.HTML object>"
      ]
     },
     "metadata": {},
     "output_type": "display_data"
    },
    {
     "data": {
      "text/html": [
       "<a href=\"https://www.vectorbase.org/Glossina_fuscipes/Transcript/ProteinSummary?db=core;g=GFUI053699\"> GFUI053699: protein summary </a>"
      ],
      "text/plain": [
       "<IPython.core.display.HTML object>"
      ]
     },
     "metadata": {},
     "output_type": "display_data"
    },
    {
     "data": {
      "text/html": [
       "<a href=\"https://www.vectorbase.org/Glossina_fuscipes/Gene/Ontology/molecular_function?db=core;g=GFUI053699;oid=molecular_function\"> GFUI053699: gene ontology </a>"
      ],
      "text/plain": [
       "<IPython.core.display.HTML object>"
      ]
     },
     "metadata": {},
     "output_type": "display_data"
    },
    {
     "data": {
      "text/html": [
       "<a href=\"https://www.vectorbase.org/Glossina_fuscipes/Location/View?db=core;g=GFUI053699;r\"> GFUI053699: genome browser </a>"
      ],
      "text/plain": [
       "<IPython.core.display.HTML object>"
      ]
     },
     "metadata": {},
     "output_type": "display_data"
    },
    {
     "data": {
      "text/html": [
       "<hr>"
      ],
      "text/plain": [
       "<IPython.core.display.HTML object>"
      ]
     },
     "metadata": {},
     "output_type": "display_data"
    },
    {
     "data": {
      "text/html": [
       "<h2>GFUI020853</h2>"
      ],
      "text/plain": [
       "<IPython.core.display.HTML object>"
      ]
     },
     "metadata": {},
     "output_type": "display_data"
    },
    {
     "data": {
      "text/html": [
       "<b>SNP location:</b><br>Scaffold269:294683<br>"
      ],
      "text/plain": [
       "<IPython.core.display.HTML object>"
      ]
     },
     "metadata": {},
     "output_type": "display_data"
    },
    {
     "data": {
      "text/html": [
       "<div style=\"max-height:1000px;max-width:1500px;overflow:auto;\">\n",
       "<table border=\"1\" class=\"dataframe\">\n",
       "  <thead>\n",
       "    <tr style=\"text-align: right;\">\n",
       "      <th></th>\n",
       "      <th>Sequence</th>\n",
       "      <th>Aspect</th>\n",
       "      <th>GO ID</th>\n",
       "      <th>Name</th>\n",
       "      <th>Total Score</th>\n",
       "      <th>Internal Confidence</th>\n",
       "      <th>Information Content</th>\n",
       "    </tr>\n",
       "  </thead>\n",
       "  <tbody>\n",
       "  </tbody>\n",
       "</table>\n",
       "</div>"
      ],
      "text/plain": [
       "Empty DataFrame\n",
       "Columns: [Sequence, Aspect, GO ID, Name, Total Score, Internal Confidence, Information Content]\n",
       "Index: []"
      ]
     },
     "metadata": {},
     "output_type": "display_data"
    },
    {
     "data": {
      "text/html": [
       "<p>"
      ],
      "text/plain": [
       "<IPython.core.display.HTML object>"
      ]
     },
     "metadata": {},
     "output_type": "display_data"
    },
    {
     "data": {
      "text/html": [
       "<a href=\"https://www.vectorbase.org/Glossina_fuscipes/Gene/Summary?db=core;g=GFUI020853\"> GFUI020853: gene home page</a>"
      ],
      "text/plain": [
       "<IPython.core.display.HTML object>"
      ]
     },
     "metadata": {},
     "output_type": "display_data"
    },
    {
     "data": {
      "text/html": [
       "<a href=\"https://www.vectorbase.org/Glossina_fuscipes/Transcript/ProteinSummary?db=core;g=GFUI020853\"> GFUI020853: protein summary </a>"
      ],
      "text/plain": [
       "<IPython.core.display.HTML object>"
      ]
     },
     "metadata": {},
     "output_type": "display_data"
    },
    {
     "data": {
      "text/html": [
       "<a href=\"https://www.vectorbase.org/Glossina_fuscipes/Gene/Ontology/molecular_function?db=core;g=GFUI020853;oid=molecular_function\"> GFUI020853: gene ontology </a>"
      ],
      "text/plain": [
       "<IPython.core.display.HTML object>"
      ]
     },
     "metadata": {},
     "output_type": "display_data"
    },
    {
     "data": {
      "text/html": [
       "<a href=\"https://www.vectorbase.org/Glossina_fuscipes/Location/View?db=core;g=GFUI020853;r\"> GFUI020853: genome browser </a>"
      ],
      "text/plain": [
       "<IPython.core.display.HTML object>"
      ]
     },
     "metadata": {},
     "output_type": "display_data"
    },
    {
     "data": {
      "text/html": [
       "<hr>"
      ],
      "text/plain": [
       "<IPython.core.display.HTML object>"
      ]
     },
     "metadata": {},
     "output_type": "display_data"
    },
    {
     "data": {
      "text/html": [
       "<h2>GFUI040918</h2>"
      ],
      "text/plain": [
       "<IPython.core.display.HTML object>"
      ]
     },
     "metadata": {},
     "output_type": "display_data"
    },
    {
     "data": {
      "text/html": [
       "<b>SNP location:</b><br>Scaffold59:1029390<br>"
      ],
      "text/plain": [
       "<IPython.core.display.HTML object>"
      ]
     },
     "metadata": {},
     "output_type": "display_data"
    },
    {
     "data": {
      "text/html": [
       "<div style=\"max-height:1000px;max-width:1500px;overflow:auto;\">\n",
       "<table border=\"1\" class=\"dataframe\">\n",
       "  <thead>\n",
       "    <tr style=\"text-align: right;\">\n",
       "      <th></th>\n",
       "      <th>Sequence</th>\n",
       "      <th>Aspect</th>\n",
       "      <th>GO ID</th>\n",
       "      <th>Name</th>\n",
       "      <th>Total Score</th>\n",
       "      <th>Internal Confidence</th>\n",
       "      <th>Information Content</th>\n",
       "    </tr>\n",
       "  </thead>\n",
       "  <tbody>\n",
       "  </tbody>\n",
       "</table>\n",
       "</div>"
      ],
      "text/plain": [
       "Empty DataFrame\n",
       "Columns: [Sequence, Aspect, GO ID, Name, Total Score, Internal Confidence, Information Content]\n",
       "Index: []"
      ]
     },
     "metadata": {},
     "output_type": "display_data"
    },
    {
     "data": {
      "text/html": [
       "<p>"
      ],
      "text/plain": [
       "<IPython.core.display.HTML object>"
      ]
     },
     "metadata": {},
     "output_type": "display_data"
    },
    {
     "data": {
      "text/html": [
       "<a href=\"https://www.vectorbase.org/Glossina_fuscipes/Gene/Summary?db=core;g=GFUI040918\"> GFUI040918: gene home page</a>"
      ],
      "text/plain": [
       "<IPython.core.display.HTML object>"
      ]
     },
     "metadata": {},
     "output_type": "display_data"
    },
    {
     "data": {
      "text/html": [
       "<a href=\"https://www.vectorbase.org/Glossina_fuscipes/Transcript/ProteinSummary?db=core;g=GFUI040918\"> GFUI040918: protein summary </a>"
      ],
      "text/plain": [
       "<IPython.core.display.HTML object>"
      ]
     },
     "metadata": {},
     "output_type": "display_data"
    },
    {
     "data": {
      "text/html": [
       "<a href=\"https://www.vectorbase.org/Glossina_fuscipes/Gene/Ontology/molecular_function?db=core;g=GFUI040918;oid=molecular_function\"> GFUI040918: gene ontology </a>"
      ],
      "text/plain": [
       "<IPython.core.display.HTML object>"
      ]
     },
     "metadata": {},
     "output_type": "display_data"
    },
    {
     "data": {
      "text/html": [
       "<a href=\"https://www.vectorbase.org/Glossina_fuscipes/Location/View?db=core;g=GFUI040918;r\"> GFUI040918: genome browser </a>"
      ],
      "text/plain": [
       "<IPython.core.display.HTML object>"
      ]
     },
     "metadata": {},
     "output_type": "display_data"
    },
    {
     "data": {
      "text/html": [
       "<hr>"
      ],
      "text/plain": [
       "<IPython.core.display.HTML object>"
      ]
     },
     "metadata": {},
     "output_type": "display_data"
    },
    {
     "data": {
      "text/html": [
       "<h2>GFUI050260</h2>"
      ],
      "text/plain": [
       "<IPython.core.display.HTML object>"
      ]
     },
     "metadata": {},
     "output_type": "display_data"
    },
    {
     "data": {
      "text/html": [
       "<b>SNP location:</b><br>Scaffold87:665834<br>"
      ],
      "text/plain": [
       "<IPython.core.display.HTML object>"
      ]
     },
     "metadata": {},
     "output_type": "display_data"
    },
    {
     "data": {
      "text/html": [
       "<div style=\"max-height:1000px;max-width:1500px;overflow:auto;\">\n",
       "<table border=\"1\" class=\"dataframe\">\n",
       "  <thead>\n",
       "    <tr style=\"text-align: right;\">\n",
       "      <th></th>\n",
       "      <th>Sequence</th>\n",
       "      <th>Aspect</th>\n",
       "      <th>GO ID</th>\n",
       "      <th>Name</th>\n",
       "      <th>Total Score</th>\n",
       "      <th>Internal Confidence</th>\n",
       "      <th>Information Content</th>\n",
       "    </tr>\n",
       "  </thead>\n",
       "  <tbody>\n",
       "    <tr>\n",
       "      <th>21796</th>\n",
       "      <td> GFUI050260-PA</td>\n",
       "      <td> P</td>\n",
       "      <td> GO:0007339</td>\n",
       "      <td> binding of sperm to zona pellucida</td>\n",
       "      <td> 1043.953299</td>\n",
       "      <td> 0.556041</td>\n",
       "      <td> 15.898589</td>\n",
       "    </tr>\n",
       "    <tr>\n",
       "      <th>21795</th>\n",
       "      <td> GFUI050260-PA</td>\n",
       "      <td> P</td>\n",
       "      <td> GO:0001675</td>\n",
       "      <td>                  acrosome assembly</td>\n",
       "      <td>  534.626246</td>\n",
       "      <td> 0.434470</td>\n",
       "      <td> 17.067389</td>\n",
       "    </tr>\n",
       "    <tr>\n",
       "      <th>21797</th>\n",
       "      <td> GFUI050260-PA</td>\n",
       "      <td> C</td>\n",
       "      <td> GO:0001669</td>\n",
       "      <td>                  acrosomal vesicle</td>\n",
       "      <td>  352.336524</td>\n",
       "      <td> 0.189461</td>\n",
       "      <td> 12.029073</td>\n",
       "    </tr>\n",
       "  </tbody>\n",
       "</table>\n",
       "</div>"
      ],
      "text/plain": [
       "            Sequence Aspect       GO ID                                Name  \\\n",
       "21796  GFUI050260-PA      P  GO:0007339  binding of sperm to zona pellucida   \n",
       "21795  GFUI050260-PA      P  GO:0001675                   acrosome assembly   \n",
       "21797  GFUI050260-PA      C  GO:0001669                   acrosomal vesicle   \n",
       "\n",
       "       Total Score  Internal Confidence  Information Content  \n",
       "21796  1043.953299             0.556041            15.898589  \n",
       "21795   534.626246             0.434470            17.067389  \n",
       "21797   352.336524             0.189461            12.029073  "
      ]
     },
     "metadata": {},
     "output_type": "display_data"
    },
    {
     "data": {
      "text/html": [
       "<p>"
      ],
      "text/plain": [
       "<IPython.core.display.HTML object>"
      ]
     },
     "metadata": {},
     "output_type": "display_data"
    },
    {
     "data": {
      "text/html": [
       "<a href=\"https://www.vectorbase.org/Glossina_fuscipes/Gene/Summary?db=core;g=GFUI050260\"> GFUI050260: gene home page</a>"
      ],
      "text/plain": [
       "<IPython.core.display.HTML object>"
      ]
     },
     "metadata": {},
     "output_type": "display_data"
    },
    {
     "data": {
      "text/html": [
       "<a href=\"https://www.vectorbase.org/Glossina_fuscipes/Transcript/ProteinSummary?db=core;g=GFUI050260\"> GFUI050260: protein summary </a>"
      ],
      "text/plain": [
       "<IPython.core.display.HTML object>"
      ]
     },
     "metadata": {},
     "output_type": "display_data"
    },
    {
     "data": {
      "text/html": [
       "<a href=\"https://www.vectorbase.org/Glossina_fuscipes/Gene/Ontology/molecular_function?db=core;g=GFUI050260;oid=molecular_function\"> GFUI050260: gene ontology </a>"
      ],
      "text/plain": [
       "<IPython.core.display.HTML object>"
      ]
     },
     "metadata": {},
     "output_type": "display_data"
    },
    {
     "data": {
      "text/html": [
       "<a href=\"https://www.vectorbase.org/Glossina_fuscipes/Location/View?db=core;g=GFUI050260;r\"> GFUI050260: genome browser </a>"
      ],
      "text/plain": [
       "<IPython.core.display.HTML object>"
      ]
     },
     "metadata": {},
     "output_type": "display_data"
    },
    {
     "data": {
      "text/html": [
       "<hr>"
      ],
      "text/plain": [
       "<IPython.core.display.HTML object>"
      ]
     },
     "metadata": {},
     "output_type": "display_data"
    },
    {
     "data": {
      "text/html": [
       "<h2>GFUI012995</h2>"
      ],
      "text/plain": [
       "<IPython.core.display.HTML object>"
      ]
     },
     "metadata": {},
     "output_type": "display_data"
    },
    {
     "data": {
      "text/html": [
       "<b>SNP location:</b><br>Scaffold185:199813<br>"
      ],
      "text/plain": [
       "<IPython.core.display.HTML object>"
      ]
     },
     "metadata": {},
     "output_type": "display_data"
    },
    {
     "data": {
      "text/html": [
       "<div style=\"max-height:1000px;max-width:1500px;overflow:auto;\">\n",
       "<table border=\"1\" class=\"dataframe\">\n",
       "  <thead>\n",
       "    <tr style=\"text-align: right;\">\n",
       "      <th></th>\n",
       "      <th>Sequence</th>\n",
       "      <th>Aspect</th>\n",
       "      <th>GO ID</th>\n",
       "      <th>Name</th>\n",
       "      <th>Total Score</th>\n",
       "      <th>Internal Confidence</th>\n",
       "      <th>Information Content</th>\n",
       "    </tr>\n",
       "  </thead>\n",
       "  <tbody>\n",
       "  </tbody>\n",
       "</table>\n",
       "</div>"
      ],
      "text/plain": [
       "Empty DataFrame\n",
       "Columns: [Sequence, Aspect, GO ID, Name, Total Score, Internal Confidence, Information Content]\n",
       "Index: []"
      ]
     },
     "metadata": {},
     "output_type": "display_data"
    },
    {
     "data": {
      "text/html": [
       "<p>"
      ],
      "text/plain": [
       "<IPython.core.display.HTML object>"
      ]
     },
     "metadata": {},
     "output_type": "display_data"
    },
    {
     "data": {
      "text/html": [
       "<a href=\"https://www.vectorbase.org/Glossina_fuscipes/Gene/Summary?db=core;g=GFUI012995\"> GFUI012995: gene home page</a>"
      ],
      "text/plain": [
       "<IPython.core.display.HTML object>"
      ]
     },
     "metadata": {},
     "output_type": "display_data"
    },
    {
     "data": {
      "text/html": [
       "<a href=\"https://www.vectorbase.org/Glossina_fuscipes/Transcript/ProteinSummary?db=core;g=GFUI012995\"> GFUI012995: protein summary </a>"
      ],
      "text/plain": [
       "<IPython.core.display.HTML object>"
      ]
     },
     "metadata": {},
     "output_type": "display_data"
    },
    {
     "data": {
      "text/html": [
       "<a href=\"https://www.vectorbase.org/Glossina_fuscipes/Gene/Ontology/molecular_function?db=core;g=GFUI012995;oid=molecular_function\"> GFUI012995: gene ontology </a>"
      ],
      "text/plain": [
       "<IPython.core.display.HTML object>"
      ]
     },
     "metadata": {},
     "output_type": "display_data"
    },
    {
     "data": {
      "text/html": [
       "<a href=\"https://www.vectorbase.org/Glossina_fuscipes/Location/View?db=core;g=GFUI012995;r\"> GFUI012995: genome browser </a>"
      ],
      "text/plain": [
       "<IPython.core.display.HTML object>"
      ]
     },
     "metadata": {},
     "output_type": "display_data"
    },
    {
     "data": {
      "text/html": [
       "<hr>"
      ],
      "text/plain": [
       "<IPython.core.display.HTML object>"
      ]
     },
     "metadata": {},
     "output_type": "display_data"
    },
    {
     "data": {
      "text/html": [
       "<h2>GFUI018582</h2>"
      ],
      "text/plain": [
       "<IPython.core.display.HTML object>"
      ]
     },
     "metadata": {},
     "output_type": "display_data"
    },
    {
     "data": {
      "text/html": [
       "<b>SNP location:</b><br>Scaffold23:895279<br>"
      ],
      "text/plain": [
       "<IPython.core.display.HTML object>"
      ]
     },
     "metadata": {},
     "output_type": "display_data"
    },
    {
     "data": {
      "text/html": [
       "<div style=\"max-height:1000px;max-width:1500px;overflow:auto;\">\n",
       "<table border=\"1\" class=\"dataframe\">\n",
       "  <thead>\n",
       "    <tr style=\"text-align: right;\">\n",
       "      <th></th>\n",
       "      <th>Sequence</th>\n",
       "      <th>Aspect</th>\n",
       "      <th>GO ID</th>\n",
       "      <th>Name</th>\n",
       "      <th>Total Score</th>\n",
       "      <th>Internal Confidence</th>\n",
       "      <th>Information Content</th>\n",
       "    </tr>\n",
       "  </thead>\n",
       "  <tbody>\n",
       "    <tr>\n",
       "      <th>45151</th>\n",
       "      <td> GFUI018582-PA</td>\n",
       "      <td> F</td>\n",
       "      <td> GO:0003676</td>\n",
       "      <td>  nucleic acid binding</td>\n",
       "      <td> 675.005734</td>\n",
       "      <td> 0.718406</td>\n",
       "      <td>  3.285748</td>\n",
       "    </tr>\n",
       "    <tr>\n",
       "      <th>45150</th>\n",
       "      <td> GFUI018582-PA</td>\n",
       "      <td> P</td>\n",
       "      <td> GO:0031047</td>\n",
       "      <td> gene silencing by RNA</td>\n",
       "      <td> 461.742948</td>\n",
       "      <td> 0.159529</td>\n",
       "      <td> 12.963179</td>\n",
       "    </tr>\n",
       "    <tr>\n",
       "      <th>45153</th>\n",
       "      <td> GFUI018582-PA</td>\n",
       "      <td> C</td>\n",
       "      <td> GO:0005737</td>\n",
       "      <td>             cytoplasm</td>\n",
       "      <td> 209.601443</td>\n",
       "      <td> 0.506259</td>\n",
       "      <td>  3.178476</td>\n",
       "    </tr>\n",
       "    <tr>\n",
       "      <th>45152</th>\n",
       "      <td> GFUI018582-PA</td>\n",
       "      <td> C</td>\n",
       "      <td> GO:0043186</td>\n",
       "      <td>             P granule</td>\n",
       "      <td> 200.303104</td>\n",
       "      <td> 0.175656</td>\n",
       "      <td> 13.159434</td>\n",
       "    </tr>\n",
       "  </tbody>\n",
       "</table>\n",
       "</div>"
      ],
      "text/plain": [
       "            Sequence Aspect       GO ID                   Name  Total Score  \\\n",
       "45151  GFUI018582-PA      F  GO:0003676   nucleic acid binding   675.005734   \n",
       "45150  GFUI018582-PA      P  GO:0031047  gene silencing by RNA   461.742948   \n",
       "45153  GFUI018582-PA      C  GO:0005737              cytoplasm   209.601443   \n",
       "45152  GFUI018582-PA      C  GO:0043186              P granule   200.303104   \n",
       "\n",
       "       Internal Confidence  Information Content  \n",
       "45151             0.718406             3.285748  \n",
       "45150             0.159529            12.963179  \n",
       "45153             0.506259             3.178476  \n",
       "45152             0.175656            13.159434  "
      ]
     },
     "metadata": {},
     "output_type": "display_data"
    },
    {
     "data": {
      "text/html": [
       "<p>"
      ],
      "text/plain": [
       "<IPython.core.display.HTML object>"
      ]
     },
     "metadata": {},
     "output_type": "display_data"
    },
    {
     "data": {
      "text/html": [
       "<a href=\"https://www.vectorbase.org/Glossina_fuscipes/Gene/Summary?db=core;g=GFUI018582\"> GFUI018582: gene home page</a>"
      ],
      "text/plain": [
       "<IPython.core.display.HTML object>"
      ]
     },
     "metadata": {},
     "output_type": "display_data"
    },
    {
     "data": {
      "text/html": [
       "<a href=\"https://www.vectorbase.org/Glossina_fuscipes/Transcript/ProteinSummary?db=core;g=GFUI018582\"> GFUI018582: protein summary </a>"
      ],
      "text/plain": [
       "<IPython.core.display.HTML object>"
      ]
     },
     "metadata": {},
     "output_type": "display_data"
    },
    {
     "data": {
      "text/html": [
       "<a href=\"https://www.vectorbase.org/Glossina_fuscipes/Gene/Ontology/molecular_function?db=core;g=GFUI018582;oid=molecular_function\"> GFUI018582: gene ontology </a>"
      ],
      "text/plain": [
       "<IPython.core.display.HTML object>"
      ]
     },
     "metadata": {},
     "output_type": "display_data"
    },
    {
     "data": {
      "text/html": [
       "<a href=\"https://www.vectorbase.org/Glossina_fuscipes/Location/View?db=core;g=GFUI018582;r\"> GFUI018582: genome browser </a>"
      ],
      "text/plain": [
       "<IPython.core.display.HTML object>"
      ]
     },
     "metadata": {},
     "output_type": "display_data"
    },
    {
     "data": {
      "text/html": [
       "<hr>"
      ],
      "text/plain": [
       "<IPython.core.display.HTML object>"
      ]
     },
     "metadata": {},
     "output_type": "display_data"
    },
    {
     "data": {
      "text/html": [
       "<h2>GFUI026161</h2>"
      ],
      "text/plain": [
       "<IPython.core.display.HTML object>"
      ]
     },
     "metadata": {},
     "output_type": "display_data"
    },
    {
     "data": {
      "text/html": [
       "<b>SNP location:</b><br>Scaffold334:197285<br>"
      ],
      "text/plain": [
       "<IPython.core.display.HTML object>"
      ]
     },
     "metadata": {},
     "output_type": "display_data"
    },
    {
     "data": {
      "text/html": [
       "<div style=\"max-height:1000px;max-width:1500px;overflow:auto;\">\n",
       "<table border=\"1\" class=\"dataframe\">\n",
       "  <thead>\n",
       "    <tr style=\"text-align: right;\">\n",
       "      <th></th>\n",
       "      <th>Sequence</th>\n",
       "      <th>Aspect</th>\n",
       "      <th>GO ID</th>\n",
       "      <th>Name</th>\n",
       "      <th>Total Score</th>\n",
       "      <th>Internal Confidence</th>\n",
       "      <th>Information Content</th>\n",
       "    </tr>\n",
       "  </thead>\n",
       "  <tbody>\n",
       "    <tr>\n",
       "      <th>62224</th>\n",
       "      <td> GFUI026161-PA</td>\n",
       "      <td> F</td>\n",
       "      <td> GO:0003998</td>\n",
       "      <td>        acylphosphatase activity</td>\n",
       "      <td> 8026.945865</td>\n",
       "      <td> 0.414146</td>\n",
       "      <td> 10.560419</td>\n",
       "    </tr>\n",
       "    <tr>\n",
       "      <th>62223</th>\n",
       "      <td> GFUI026161-PA</td>\n",
       "      <td> F</td>\n",
       "      <td> GO:0016787</td>\n",
       "      <td>              hydrolase activity</td>\n",
       "      <td> 1322.473586</td>\n",
       "      <td> 0.744548</td>\n",
       "      <td>  2.643033</td>\n",
       "    </tr>\n",
       "    <tr>\n",
       "      <th>62222</th>\n",
       "      <td> GFUI026161-PA</td>\n",
       "      <td> P</td>\n",
       "      <td> GO:0008152</td>\n",
       "      <td>               metabolic process</td>\n",
       "      <td>  648.611060</td>\n",
       "      <td> 0.902929</td>\n",
       "      <td>  0.544703</td>\n",
       "    </tr>\n",
       "    <tr>\n",
       "      <th>62225</th>\n",
       "      <td> GFUI026161-PA</td>\n",
       "      <td> C</td>\n",
       "      <td> GO:0005739</td>\n",
       "      <td>                   mitochondrion</td>\n",
       "      <td>  358.489468</td>\n",
       "      <td> 0.425272</td>\n",
       "      <td>  5.085303</td>\n",
       "    </tr>\n",
       "    <tr>\n",
       "      <th>62226</th>\n",
       "      <td> GFUI026161-PA</td>\n",
       "      <td> C</td>\n",
       "      <td> GO:0070062</td>\n",
       "      <td> extracellular vesicular exosome</td>\n",
       "      <td>  323.012844</td>\n",
       "      <td> 0.315554</td>\n",
       "      <td>  8.572522</td>\n",
       "    </tr>\n",
       "  </tbody>\n",
       "</table>\n",
       "</div>"
      ],
      "text/plain": [
       "            Sequence Aspect       GO ID                             Name  \\\n",
       "62224  GFUI026161-PA      F  GO:0003998         acylphosphatase activity   \n",
       "62223  GFUI026161-PA      F  GO:0016787               hydrolase activity   \n",
       "62222  GFUI026161-PA      P  GO:0008152                metabolic process   \n",
       "62225  GFUI026161-PA      C  GO:0005739                    mitochondrion   \n",
       "62226  GFUI026161-PA      C  GO:0070062  extracellular vesicular exosome   \n",
       "\n",
       "       Total Score  Internal Confidence  Information Content  \n",
       "62224  8026.945865             0.414146            10.560419  \n",
       "62223  1322.473586             0.744548             2.643033  \n",
       "62222   648.611060             0.902929             0.544703  \n",
       "62225   358.489468             0.425272             5.085303  \n",
       "62226   323.012844             0.315554             8.572522  "
      ]
     },
     "metadata": {},
     "output_type": "display_data"
    },
    {
     "data": {
      "text/html": [
       "<p>"
      ],
      "text/plain": [
       "<IPython.core.display.HTML object>"
      ]
     },
     "metadata": {},
     "output_type": "display_data"
    },
    {
     "data": {
      "text/html": [
       "<a href=\"https://www.vectorbase.org/Glossina_fuscipes/Gene/Summary?db=core;g=GFUI026161\"> GFUI026161: gene home page</a>"
      ],
      "text/plain": [
       "<IPython.core.display.HTML object>"
      ]
     },
     "metadata": {},
     "output_type": "display_data"
    },
    {
     "data": {
      "text/html": [
       "<a href=\"https://www.vectorbase.org/Glossina_fuscipes/Transcript/ProteinSummary?db=core;g=GFUI026161\"> GFUI026161: protein summary </a>"
      ],
      "text/plain": [
       "<IPython.core.display.HTML object>"
      ]
     },
     "metadata": {},
     "output_type": "display_data"
    },
    {
     "data": {
      "text/html": [
       "<a href=\"https://www.vectorbase.org/Glossina_fuscipes/Gene/Ontology/molecular_function?db=core;g=GFUI026161;oid=molecular_function\"> GFUI026161: gene ontology </a>"
      ],
      "text/plain": [
       "<IPython.core.display.HTML object>"
      ]
     },
     "metadata": {},
     "output_type": "display_data"
    },
    {
     "data": {
      "text/html": [
       "<a href=\"https://www.vectorbase.org/Glossina_fuscipes/Location/View?db=core;g=GFUI026161;r\"> GFUI026161: genome browser </a>"
      ],
      "text/plain": [
       "<IPython.core.display.HTML object>"
      ]
     },
     "metadata": {},
     "output_type": "display_data"
    },
    {
     "data": {
      "text/html": [
       "<hr>"
      ],
      "text/plain": [
       "<IPython.core.display.HTML object>"
      ]
     },
     "metadata": {},
     "output_type": "display_data"
    },
    {
     "data": {
      "text/html": [
       "<h2>GFUI024781</h2>"
      ],
      "text/plain": [
       "<IPython.core.display.HTML object>"
      ]
     },
     "metadata": {},
     "output_type": "display_data"
    },
    {
     "data": {
      "text/html": [
       "<b>SNP location:</b><br>Scaffold314:120054<br>"
      ],
      "text/plain": [
       "<IPython.core.display.HTML object>"
      ]
     },
     "metadata": {},
     "output_type": "display_data"
    },
    {
     "data": {
      "text/html": [
       "<div style=\"max-height:1000px;max-width:1500px;overflow:auto;\">\n",
       "<table border=\"1\" class=\"dataframe\">\n",
       "  <thead>\n",
       "    <tr style=\"text-align: right;\">\n",
       "      <th></th>\n",
       "      <th>Sequence</th>\n",
       "      <th>Aspect</th>\n",
       "      <th>GO ID</th>\n",
       "      <th>Name</th>\n",
       "      <th>Total Score</th>\n",
       "      <th>Internal Confidence</th>\n",
       "      <th>Information Content</th>\n",
       "    </tr>\n",
       "  </thead>\n",
       "  <tbody>\n",
       "    <tr>\n",
       "      <th>65148</th>\n",
       "      <td> GFUI024781-PA</td>\n",
       "      <td> C</td>\n",
       "      <td> GO:0005634</td>\n",
       "      <td>                                           nucleus</td>\n",
       "      <td> 10621.867270</td>\n",
       "      <td> 0.755397</td>\n",
       "      <td>  5.725783</td>\n",
       "    </tr>\n",
       "    <tr>\n",
       "      <th>65147</th>\n",
       "      <td> GFUI024781-PA</td>\n",
       "      <td> F</td>\n",
       "      <td> GO:0046983</td>\n",
       "      <td>                     protein dimerization activity</td>\n",
       "      <td>  3304.854129</td>\n",
       "      <td> 0.207545</td>\n",
       "      <td>  6.942763</td>\n",
       "    </tr>\n",
       "    <tr>\n",
       "      <th>65146</th>\n",
       "      <td> GFUI024781-PA</td>\n",
       "      <td> F</td>\n",
       "      <td> GO:0003677</td>\n",
       "      <td>                                       DNA binding</td>\n",
       "      <td>  2656.653352</td>\n",
       "      <td> 0.286525</td>\n",
       "      <td>  3.831010</td>\n",
       "    </tr>\n",
       "    <tr>\n",
       "      <th>65136</th>\n",
       "      <td> GFUI024781-PA</td>\n",
       "      <td> P</td>\n",
       "      <td> GO:0006355</td>\n",
       "      <td>        regulation of transcription, DNA-templated</td>\n",
       "      <td>  2501.035698</td>\n",
       "      <td> 0.251898</td>\n",
       "      <td>  7.524266</td>\n",
       "    </tr>\n",
       "    <tr>\n",
       "      <th>65143</th>\n",
       "      <td> GFUI024781-PA</td>\n",
       "      <td> P</td>\n",
       "      <td> GO:0006351</td>\n",
       "      <td>                      transcription, DNA-templated</td>\n",
       "      <td>  2280.250477</td>\n",
       "      <td> 0.366415</td>\n",
       "      <td>  6.856772</td>\n",
       "    </tr>\n",
       "    <tr>\n",
       "      <th>65144</th>\n",
       "      <td> GFUI024781-PA</td>\n",
       "      <td> F</td>\n",
       "      <td> GO:0046872</td>\n",
       "      <td>                                 metal ion binding</td>\n",
       "      <td>  2027.903147</td>\n",
       "      <td> 0.222844</td>\n",
       "      <td>  3.508837</td>\n",
       "    </tr>\n",
       "    <tr>\n",
       "      <th>65139</th>\n",
       "      <td> GFUI024781-PA</td>\n",
       "      <td> P</td>\n",
       "      <td> GO:0007275</td>\n",
       "      <td>              multicellular organismal development</td>\n",
       "      <td>  1176.496270</td>\n",
       "      <td> 0.417411</td>\n",
       "      <td>  7.690822</td>\n",
       "    </tr>\n",
       "    <tr>\n",
       "      <th>65138</th>\n",
       "      <td> GFUI024781-PA</td>\n",
       "      <td> P</td>\n",
       "      <td> GO:0045893</td>\n",
       "      <td> positive regulation of transcription, DNA-temp...</td>\n",
       "      <td>   542.119265</td>\n",
       "      <td> 0.097036</td>\n",
       "      <td> 11.311674</td>\n",
       "    </tr>\n",
       "    <tr>\n",
       "      <th>65137</th>\n",
       "      <td> GFUI024781-PA</td>\n",
       "      <td> P</td>\n",
       "      <td> GO:0045944</td>\n",
       "      <td> positive regulation of transcription from RNA ...</td>\n",
       "      <td>   421.962369</td>\n",
       "      <td> 0.050044</td>\n",
       "      <td> 12.597549</td>\n",
       "    </tr>\n",
       "    <tr>\n",
       "      <th>65145</th>\n",
       "      <td> GFUI024781-PA</td>\n",
       "      <td> F</td>\n",
       "      <td> GO:0000978</td>\n",
       "      <td> RNA polymerase II core promoter proximal regio...</td>\n",
       "      <td>   295.782417</td>\n",
       "      <td> 0.034582</td>\n",
       "      <td> 11.041436</td>\n",
       "    </tr>\n",
       "  </tbody>\n",
       "</table>\n",
       "</div>"
      ],
      "text/plain": [
       "            Sequence Aspect       GO ID  \\\n",
       "65148  GFUI024781-PA      C  GO:0005634   \n",
       "65147  GFUI024781-PA      F  GO:0046983   \n",
       "65146  GFUI024781-PA      F  GO:0003677   \n",
       "65136  GFUI024781-PA      P  GO:0006355   \n",
       "65143  GFUI024781-PA      P  GO:0006351   \n",
       "65144  GFUI024781-PA      F  GO:0046872   \n",
       "65139  GFUI024781-PA      P  GO:0007275   \n",
       "65138  GFUI024781-PA      P  GO:0045893   \n",
       "65137  GFUI024781-PA      P  GO:0045944   \n",
       "65145  GFUI024781-PA      F  GO:0000978   \n",
       "\n",
       "                                                    Name   Total Score  \\\n",
       "65148                                            nucleus  10621.867270   \n",
       "65147                      protein dimerization activity   3304.854129   \n",
       "65146                                        DNA binding   2656.653352   \n",
       "65136         regulation of transcription, DNA-templated   2501.035698   \n",
       "65143                       transcription, DNA-templated   2280.250477   \n",
       "65144                                  metal ion binding   2027.903147   \n",
       "65139               multicellular organismal development   1176.496270   \n",
       "65138  positive regulation of transcription, DNA-temp...    542.119265   \n",
       "65137  positive regulation of transcription from RNA ...    421.962369   \n",
       "65145  RNA polymerase II core promoter proximal regio...    295.782417   \n",
       "\n",
       "       Internal Confidence  Information Content  \n",
       "65148             0.755397             5.725783  \n",
       "65147             0.207545             6.942763  \n",
       "65146             0.286525             3.831010  \n",
       "65136             0.251898             7.524266  \n",
       "65143             0.366415             6.856772  \n",
       "65144             0.222844             3.508837  \n",
       "65139             0.417411             7.690822  \n",
       "65138             0.097036            11.311674  \n",
       "65137             0.050044            12.597549  \n",
       "65145             0.034582            11.041436  "
      ]
     },
     "metadata": {},
     "output_type": "display_data"
    },
    {
     "data": {
      "text/html": [
       "<p>"
      ],
      "text/plain": [
       "<IPython.core.display.HTML object>"
      ]
     },
     "metadata": {},
     "output_type": "display_data"
    },
    {
     "data": {
      "text/html": [
       "<a href=\"https://www.vectorbase.org/Glossina_fuscipes/Gene/Summary?db=core;g=GFUI024781\"> GFUI024781: gene home page</a>"
      ],
      "text/plain": [
       "<IPython.core.display.HTML object>"
      ]
     },
     "metadata": {},
     "output_type": "display_data"
    },
    {
     "data": {
      "text/html": [
       "<a href=\"https://www.vectorbase.org/Glossina_fuscipes/Transcript/ProteinSummary?db=core;g=GFUI024781\"> GFUI024781: protein summary </a>"
      ],
      "text/plain": [
       "<IPython.core.display.HTML object>"
      ]
     },
     "metadata": {},
     "output_type": "display_data"
    },
    {
     "data": {
      "text/html": [
       "<a href=\"https://www.vectorbase.org/Glossina_fuscipes/Gene/Ontology/molecular_function?db=core;g=GFUI024781;oid=molecular_function\"> GFUI024781: gene ontology </a>"
      ],
      "text/plain": [
       "<IPython.core.display.HTML object>"
      ]
     },
     "metadata": {},
     "output_type": "display_data"
    },
    {
     "data": {
      "text/html": [
       "<a href=\"https://www.vectorbase.org/Glossina_fuscipes/Location/View?db=core;g=GFUI024781;r\"> GFUI024781: genome browser </a>"
      ],
      "text/plain": [
       "<IPython.core.display.HTML object>"
      ]
     },
     "metadata": {},
     "output_type": "display_data"
    },
    {
     "data": {
      "text/html": [
       "<hr>"
      ],
      "text/plain": [
       "<IPython.core.display.HTML object>"
      ]
     },
     "metadata": {},
     "output_type": "display_data"
    },
    {
     "data": {
      "text/html": [
       "<h2>GFUI029330</h2>"
      ],
      "text/plain": [
       "<IPython.core.display.HTML object>"
      ]
     },
     "metadata": {},
     "output_type": "display_data"
    },
    {
     "data": {
      "text/html": [
       "<b>SNP location:</b><br>Scaffold37:1156928<br>"
      ],
      "text/plain": [
       "<IPython.core.display.HTML object>"
      ]
     },
     "metadata": {},
     "output_type": "display_data"
    },
    {
     "data": {
      "text/html": [
       "<div style=\"max-height:1000px;max-width:1500px;overflow:auto;\">\n",
       "<table border=\"1\" class=\"dataframe\">\n",
       "  <thead>\n",
       "    <tr style=\"text-align: right;\">\n",
       "      <th></th>\n",
       "      <th>Sequence</th>\n",
       "      <th>Aspect</th>\n",
       "      <th>GO ID</th>\n",
       "      <th>Name</th>\n",
       "      <th>Total Score</th>\n",
       "      <th>Internal Confidence</th>\n",
       "      <th>Information Content</th>\n",
       "    </tr>\n",
       "  </thead>\n",
       "  <tbody>\n",
       "  </tbody>\n",
       "</table>\n",
       "</div>"
      ],
      "text/plain": [
       "Empty DataFrame\n",
       "Columns: [Sequence, Aspect, GO ID, Name, Total Score, Internal Confidence, Information Content]\n",
       "Index: []"
      ]
     },
     "metadata": {},
     "output_type": "display_data"
    },
    {
     "data": {
      "text/html": [
       "<p>"
      ],
      "text/plain": [
       "<IPython.core.display.HTML object>"
      ]
     },
     "metadata": {},
     "output_type": "display_data"
    },
    {
     "data": {
      "text/html": [
       "<a href=\"https://www.vectorbase.org/Glossina_fuscipes/Gene/Summary?db=core;g=GFUI029330\"> GFUI029330: gene home page</a>"
      ],
      "text/plain": [
       "<IPython.core.display.HTML object>"
      ]
     },
     "metadata": {},
     "output_type": "display_data"
    },
    {
     "data": {
      "text/html": [
       "<a href=\"https://www.vectorbase.org/Glossina_fuscipes/Transcript/ProteinSummary?db=core;g=GFUI029330\"> GFUI029330: protein summary </a>"
      ],
      "text/plain": [
       "<IPython.core.display.HTML object>"
      ]
     },
     "metadata": {},
     "output_type": "display_data"
    },
    {
     "data": {
      "text/html": [
       "<a href=\"https://www.vectorbase.org/Glossina_fuscipes/Gene/Ontology/molecular_function?db=core;g=GFUI029330;oid=molecular_function\"> GFUI029330: gene ontology </a>"
      ],
      "text/plain": [
       "<IPython.core.display.HTML object>"
      ]
     },
     "metadata": {},
     "output_type": "display_data"
    },
    {
     "data": {
      "text/html": [
       "<a href=\"https://www.vectorbase.org/Glossina_fuscipes/Location/View?db=core;g=GFUI029330;r\"> GFUI029330: genome browser </a>"
      ],
      "text/plain": [
       "<IPython.core.display.HTML object>"
      ]
     },
     "metadata": {},
     "output_type": "display_data"
    },
    {
     "data": {
      "text/html": [
       "<hr>"
      ],
      "text/plain": [
       "<IPython.core.display.HTML object>"
      ]
     },
     "metadata": {},
     "output_type": "display_data"
    },
    {
     "data": {
      "text/html": [
       "<h2>GFUI029331</h2>"
      ],
      "text/plain": [
       "<IPython.core.display.HTML object>"
      ]
     },
     "metadata": {},
     "output_type": "display_data"
    },
    {
     "data": {
      "text/html": [
       "<b>SNP location:</b><br>Scaffold37:1137317<br>"
      ],
      "text/plain": [
       "<IPython.core.display.HTML object>"
      ]
     },
     "metadata": {},
     "output_type": "display_data"
    },
    {
     "data": {
      "text/html": [
       "<div style=\"max-height:1000px;max-width:1500px;overflow:auto;\">\n",
       "<table border=\"1\" class=\"dataframe\">\n",
       "  <thead>\n",
       "    <tr style=\"text-align: right;\">\n",
       "      <th></th>\n",
       "      <th>Sequence</th>\n",
       "      <th>Aspect</th>\n",
       "      <th>GO ID</th>\n",
       "      <th>Name</th>\n",
       "      <th>Total Score</th>\n",
       "      <th>Internal Confidence</th>\n",
       "      <th>Information Content</th>\n",
       "    </tr>\n",
       "  </thead>\n",
       "  <tbody>\n",
       "  </tbody>\n",
       "</table>\n",
       "</div>"
      ],
      "text/plain": [
       "Empty DataFrame\n",
       "Columns: [Sequence, Aspect, GO ID, Name, Total Score, Internal Confidence, Information Content]\n",
       "Index: []"
      ]
     },
     "metadata": {},
     "output_type": "display_data"
    },
    {
     "data": {
      "text/html": [
       "<p>"
      ],
      "text/plain": [
       "<IPython.core.display.HTML object>"
      ]
     },
     "metadata": {},
     "output_type": "display_data"
    },
    {
     "data": {
      "text/html": [
       "<a href=\"https://www.vectorbase.org/Glossina_fuscipes/Gene/Summary?db=core;g=GFUI029331\"> GFUI029331: gene home page</a>"
      ],
      "text/plain": [
       "<IPython.core.display.HTML object>"
      ]
     },
     "metadata": {},
     "output_type": "display_data"
    },
    {
     "data": {
      "text/html": [
       "<a href=\"https://www.vectorbase.org/Glossina_fuscipes/Transcript/ProteinSummary?db=core;g=GFUI029331\"> GFUI029331: protein summary </a>"
      ],
      "text/plain": [
       "<IPython.core.display.HTML object>"
      ]
     },
     "metadata": {},
     "output_type": "display_data"
    },
    {
     "data": {
      "text/html": [
       "<a href=\"https://www.vectorbase.org/Glossina_fuscipes/Gene/Ontology/molecular_function?db=core;g=GFUI029331;oid=molecular_function\"> GFUI029331: gene ontology </a>"
      ],
      "text/plain": [
       "<IPython.core.display.HTML object>"
      ]
     },
     "metadata": {},
     "output_type": "display_data"
    },
    {
     "data": {
      "text/html": [
       "<a href=\"https://www.vectorbase.org/Glossina_fuscipes/Location/View?db=core;g=GFUI029331;r\"> GFUI029331: genome browser </a>"
      ],
      "text/plain": [
       "<IPython.core.display.HTML object>"
      ]
     },
     "metadata": {},
     "output_type": "display_data"
    },
    {
     "data": {
      "text/html": [
       "<hr>"
      ],
      "text/plain": [
       "<IPython.core.display.HTML object>"
      ]
     },
     "metadata": {},
     "output_type": "display_data"
    },
    {
     "data": {
      "text/html": [
       "<h2>GFUI052519</h2>"
      ],
      "text/plain": [
       "<IPython.core.display.HTML object>"
      ]
     },
     "metadata": {},
     "output_type": "display_data"
    },
    {
     "data": {
      "text/html": [
       "<b>SNP location:</b><br>Scaffold96:152005<br>"
      ],
      "text/plain": [
       "<IPython.core.display.HTML object>"
      ]
     },
     "metadata": {},
     "output_type": "display_data"
    },
    {
     "data": {
      "text/html": [
       "<div style=\"max-height:1000px;max-width:1500px;overflow:auto;\">\n",
       "<table border=\"1\" class=\"dataframe\">\n",
       "  <thead>\n",
       "    <tr style=\"text-align: right;\">\n",
       "      <th></th>\n",
       "      <th>Sequence</th>\n",
       "      <th>Aspect</th>\n",
       "      <th>GO ID</th>\n",
       "      <th>Name</th>\n",
       "      <th>Total Score</th>\n",
       "      <th>Internal Confidence</th>\n",
       "      <th>Information Content</th>\n",
       "    </tr>\n",
       "  </thead>\n",
       "  <tbody>\n",
       "    <tr>\n",
       "      <th>21803</th>\n",
       "      <td> GFUI052519-PA</td>\n",
       "      <td> C</td>\n",
       "      <td> GO:0005886</td>\n",
       "      <td>                              plasma membrane</td>\n",
       "      <td> 2455.351900</td>\n",
       "      <td> 0.403988</td>\n",
       "      <td>  4.357169</td>\n",
       "    </tr>\n",
       "    <tr>\n",
       "      <th>21802</th>\n",
       "      <td> GFUI052519-PA</td>\n",
       "      <td> F</td>\n",
       "      <td> GO:0004871</td>\n",
       "      <td>                   signal transducer activity</td>\n",
       "      <td> 2451.477881</td>\n",
       "      <td> 0.761515</td>\n",
       "      <td>  5.118474</td>\n",
       "    </tr>\n",
       "    <tr>\n",
       "      <th>21800</th>\n",
       "      <td> GFUI052519-PA</td>\n",
       "      <td> F</td>\n",
       "      <td> GO:0004930</td>\n",
       "      <td>          G-protein coupled receptor activity</td>\n",
       "      <td> 1657.904329</td>\n",
       "      <td> 0.565223</td>\n",
       "      <td>  7.732231</td>\n",
       "    </tr>\n",
       "    <tr>\n",
       "      <th>21799</th>\n",
       "      <td> GFUI052519-PA</td>\n",
       "      <td> P</td>\n",
       "      <td> GO:0007186</td>\n",
       "      <td> G-protein coupled receptor signaling pathway</td>\n",
       "      <td> 1221.379850</td>\n",
       "      <td> 0.197973</td>\n",
       "      <td> 10.590143</td>\n",
       "    </tr>\n",
       "    <tr>\n",
       "      <th>21805</th>\n",
       "      <td> GFUI052519-PA</td>\n",
       "      <td> C</td>\n",
       "      <td> GO:0016021</td>\n",
       "      <td>               integral component of membrane</td>\n",
       "      <td> 1164.371552</td>\n",
       "      <td> 0.342725</td>\n",
       "      <td>  3.692502</td>\n",
       "    </tr>\n",
       "    <tr>\n",
       "      <th>21798</th>\n",
       "      <td> GFUI052519-PA</td>\n",
       "      <td> P</td>\n",
       "      <td> GO:0007165</td>\n",
       "      <td>                          signal transduction</td>\n",
       "      <td> 1009.820687</td>\n",
       "      <td> 0.320773</td>\n",
       "      <td>  7.045163</td>\n",
       "    </tr>\n",
       "    <tr>\n",
       "      <th>21804</th>\n",
       "      <td> GFUI052519-PA</td>\n",
       "      <td> C</td>\n",
       "      <td> GO:0016020</td>\n",
       "      <td>                                     membrane</td>\n",
       "      <td>  585.449977</td>\n",
       "      <td> 0.799132</td>\n",
       "      <td>  2.472824</td>\n",
       "    </tr>\n",
       "    <tr>\n",
       "      <th>21801</th>\n",
       "      <td> GFUI052519-PA</td>\n",
       "      <td> F</td>\n",
       "      <td> GO:0004989</td>\n",
       "      <td>                 octopamine receptor activity</td>\n",
       "      <td>  350.337777</td>\n",
       "      <td> 0.056410</td>\n",
       "      <td> 15.137250</td>\n",
       "    </tr>\n",
       "  </tbody>\n",
       "</table>\n",
       "</div>"
      ],
      "text/plain": [
       "            Sequence Aspect       GO ID  \\\n",
       "21803  GFUI052519-PA      C  GO:0005886   \n",
       "21802  GFUI052519-PA      F  GO:0004871   \n",
       "21800  GFUI052519-PA      F  GO:0004930   \n",
       "21799  GFUI052519-PA      P  GO:0007186   \n",
       "21805  GFUI052519-PA      C  GO:0016021   \n",
       "21798  GFUI052519-PA      P  GO:0007165   \n",
       "21804  GFUI052519-PA      C  GO:0016020   \n",
       "21801  GFUI052519-PA      F  GO:0004989   \n",
       "\n",
       "                                               Name  Total Score  \\\n",
       "21803                               plasma membrane  2455.351900   \n",
       "21802                    signal transducer activity  2451.477881   \n",
       "21800           G-protein coupled receptor activity  1657.904329   \n",
       "21799  G-protein coupled receptor signaling pathway  1221.379850   \n",
       "21805                integral component of membrane  1164.371552   \n",
       "21798                           signal transduction  1009.820687   \n",
       "21804                                      membrane   585.449977   \n",
       "21801                  octopamine receptor activity   350.337777   \n",
       "\n",
       "       Internal Confidence  Information Content  \n",
       "21803             0.403988             4.357169  \n",
       "21802             0.761515             5.118474  \n",
       "21800             0.565223             7.732231  \n",
       "21799             0.197973            10.590143  \n",
       "21805             0.342725             3.692502  \n",
       "21798             0.320773             7.045163  \n",
       "21804             0.799132             2.472824  \n",
       "21801             0.056410            15.137250  "
      ]
     },
     "metadata": {},
     "output_type": "display_data"
    },
    {
     "data": {
      "text/html": [
       "<p>"
      ],
      "text/plain": [
       "<IPython.core.display.HTML object>"
      ]
     },
     "metadata": {},
     "output_type": "display_data"
    },
    {
     "data": {
      "text/html": [
       "<a href=\"https://www.vectorbase.org/Glossina_fuscipes/Gene/Summary?db=core;g=GFUI052519\"> GFUI052519: gene home page</a>"
      ],
      "text/plain": [
       "<IPython.core.display.HTML object>"
      ]
     },
     "metadata": {},
     "output_type": "display_data"
    },
    {
     "data": {
      "text/html": [
       "<a href=\"https://www.vectorbase.org/Glossina_fuscipes/Transcript/ProteinSummary?db=core;g=GFUI052519\"> GFUI052519: protein summary </a>"
      ],
      "text/plain": [
       "<IPython.core.display.HTML object>"
      ]
     },
     "metadata": {},
     "output_type": "display_data"
    },
    {
     "data": {
      "text/html": [
       "<a href=\"https://www.vectorbase.org/Glossina_fuscipes/Gene/Ontology/molecular_function?db=core;g=GFUI052519;oid=molecular_function\"> GFUI052519: gene ontology </a>"
      ],
      "text/plain": [
       "<IPython.core.display.HTML object>"
      ]
     },
     "metadata": {},
     "output_type": "display_data"
    },
    {
     "data": {
      "text/html": [
       "<a href=\"https://www.vectorbase.org/Glossina_fuscipes/Location/View?db=core;g=GFUI052519;r\"> GFUI052519: genome browser </a>"
      ],
      "text/plain": [
       "<IPython.core.display.HTML object>"
      ]
     },
     "metadata": {},
     "output_type": "display_data"
    },
    {
     "data": {
      "text/html": [
       "<hr>"
      ],
      "text/plain": [
       "<IPython.core.display.HTML object>"
      ]
     },
     "metadata": {},
     "output_type": "display_data"
    },
    {
     "data": {
      "text/html": [
       "<h2>GFUI031959</h2>"
      ],
      "text/plain": [
       "<IPython.core.display.HTML object>"
      ]
     },
     "metadata": {},
     "output_type": "display_data"
    },
    {
     "data": {
      "text/html": [
       "<b>SNP location:</b><br>Scaffold41:625383<br>"
      ],
      "text/plain": [
       "<IPython.core.display.HTML object>"
      ]
     },
     "metadata": {},
     "output_type": "display_data"
    },
    {
     "data": {
      "text/html": [
       "<div style=\"max-height:1000px;max-width:1500px;overflow:auto;\">\n",
       "<table border=\"1\" class=\"dataframe\">\n",
       "  <thead>\n",
       "    <tr style=\"text-align: right;\">\n",
       "      <th></th>\n",
       "      <th>Sequence</th>\n",
       "      <th>Aspect</th>\n",
       "      <th>GO ID</th>\n",
       "      <th>Name</th>\n",
       "      <th>Total Score</th>\n",
       "      <th>Internal Confidence</th>\n",
       "      <th>Information Content</th>\n",
       "    </tr>\n",
       "  </thead>\n",
       "  <tbody>\n",
       "    <tr>\n",
       "      <th>30858</th>\n",
       "      <td> GFUI031959-PA</td>\n",
       "      <td> C</td>\n",
       "      <td> GO:0030288</td>\n",
       "      <td> outer membrane-bounded periplasmic space</td>\n",
       "      <td> 223.953617</td>\n",
       "      <td> 0.438588</td>\n",
       "      <td> 7.155051</td>\n",
       "    </tr>\n",
       "  </tbody>\n",
       "</table>\n",
       "</div>"
      ],
      "text/plain": [
       "            Sequence Aspect       GO ID  \\\n",
       "30858  GFUI031959-PA      C  GO:0030288   \n",
       "\n",
       "                                           Name  Total Score  \\\n",
       "30858  outer membrane-bounded periplasmic space   223.953617   \n",
       "\n",
       "       Internal Confidence  Information Content  \n",
       "30858             0.438588             7.155051  "
      ]
     },
     "metadata": {},
     "output_type": "display_data"
    },
    {
     "data": {
      "text/html": [
       "<p>"
      ],
      "text/plain": [
       "<IPython.core.display.HTML object>"
      ]
     },
     "metadata": {},
     "output_type": "display_data"
    },
    {
     "data": {
      "text/html": [
       "<a href=\"https://www.vectorbase.org/Glossina_fuscipes/Gene/Summary?db=core;g=GFUI031959\"> GFUI031959: gene home page</a>"
      ],
      "text/plain": [
       "<IPython.core.display.HTML object>"
      ]
     },
     "metadata": {},
     "output_type": "display_data"
    },
    {
     "data": {
      "text/html": [
       "<a href=\"https://www.vectorbase.org/Glossina_fuscipes/Transcript/ProteinSummary?db=core;g=GFUI031959\"> GFUI031959: protein summary </a>"
      ],
      "text/plain": [
       "<IPython.core.display.HTML object>"
      ]
     },
     "metadata": {},
     "output_type": "display_data"
    },
    {
     "data": {
      "text/html": [
       "<a href=\"https://www.vectorbase.org/Glossina_fuscipes/Gene/Ontology/molecular_function?db=core;g=GFUI031959;oid=molecular_function\"> GFUI031959: gene ontology </a>"
      ],
      "text/plain": [
       "<IPython.core.display.HTML object>"
      ]
     },
     "metadata": {},
     "output_type": "display_data"
    },
    {
     "data": {
      "text/html": [
       "<a href=\"https://www.vectorbase.org/Glossina_fuscipes/Location/View?db=core;g=GFUI031959;r\"> GFUI031959: genome browser </a>"
      ],
      "text/plain": [
       "<IPython.core.display.HTML object>"
      ]
     },
     "metadata": {},
     "output_type": "display_data"
    },
    {
     "data": {
      "text/html": [
       "<hr>"
      ],
      "text/plain": [
       "<IPython.core.display.HTML object>"
      ]
     },
     "metadata": {},
     "output_type": "display_data"
    },
    {
     "data": {
      "text/html": [
       "<h2>GFUI053842</h2>"
      ],
      "text/plain": [
       "<IPython.core.display.HTML object>"
      ]
     },
     "metadata": {},
     "output_type": "display_data"
    },
    {
     "data": {
      "text/html": [
       "<b>SNP location:</b><br>Scaffold247:200378<br>"
      ],
      "text/plain": [
       "<IPython.core.display.HTML object>"
      ]
     },
     "metadata": {},
     "output_type": "display_data"
    },
    {
     "data": {
      "text/html": [
       "<div style=\"max-height:1000px;max-width:1500px;overflow:auto;\">\n",
       "<table border=\"1\" class=\"dataframe\">\n",
       "  <thead>\n",
       "    <tr style=\"text-align: right;\">\n",
       "      <th></th>\n",
       "      <th>Sequence</th>\n",
       "      <th>Aspect</th>\n",
       "      <th>GO ID</th>\n",
       "      <th>Name</th>\n",
       "      <th>Total Score</th>\n",
       "      <th>Internal Confidence</th>\n",
       "      <th>Information Content</th>\n",
       "    </tr>\n",
       "  </thead>\n",
       "  <tbody>\n",
       "  </tbody>\n",
       "</table>\n",
       "</div>"
      ],
      "text/plain": [
       "Empty DataFrame\n",
       "Columns: [Sequence, Aspect, GO ID, Name, Total Score, Internal Confidence, Information Content]\n",
       "Index: []"
      ]
     },
     "metadata": {},
     "output_type": "display_data"
    },
    {
     "data": {
      "text/html": [
       "<p>"
      ],
      "text/plain": [
       "<IPython.core.display.HTML object>"
      ]
     },
     "metadata": {},
     "output_type": "display_data"
    },
    {
     "data": {
      "text/html": [
       "<a href=\"https://www.vectorbase.org/Glossina_fuscipes/Gene/Summary?db=core;g=GFUI053842\"> GFUI053842: gene home page</a>"
      ],
      "text/plain": [
       "<IPython.core.display.HTML object>"
      ]
     },
     "metadata": {},
     "output_type": "display_data"
    },
    {
     "data": {
      "text/html": [
       "<a href=\"https://www.vectorbase.org/Glossina_fuscipes/Transcript/ProteinSummary?db=core;g=GFUI053842\"> GFUI053842: protein summary </a>"
      ],
      "text/plain": [
       "<IPython.core.display.HTML object>"
      ]
     },
     "metadata": {},
     "output_type": "display_data"
    },
    {
     "data": {
      "text/html": [
       "<a href=\"https://www.vectorbase.org/Glossina_fuscipes/Gene/Ontology/molecular_function?db=core;g=GFUI053842;oid=molecular_function\"> GFUI053842: gene ontology </a>"
      ],
      "text/plain": [
       "<IPython.core.display.HTML object>"
      ]
     },
     "metadata": {},
     "output_type": "display_data"
    },
    {
     "data": {
      "text/html": [
       "<a href=\"https://www.vectorbase.org/Glossina_fuscipes/Location/View?db=core;g=GFUI053842;r\"> GFUI053842: genome browser </a>"
      ],
      "text/plain": [
       "<IPython.core.display.HTML object>"
      ]
     },
     "metadata": {},
     "output_type": "display_data"
    },
    {
     "data": {
      "text/html": [
       "<hr>"
      ],
      "text/plain": [
       "<IPython.core.display.HTML object>"
      ]
     },
     "metadata": {},
     "output_type": "display_data"
    },
    {
     "data": {
      "text/html": [
       "<h2>GFUI003383</h2>"
      ],
      "text/plain": [
       "<IPython.core.display.HTML object>"
      ]
     },
     "metadata": {},
     "output_type": "display_data"
    },
    {
     "data": {
      "text/html": [
       "<b>SNP location:</b><br>Scaffold109:164021<br>"
      ],
      "text/plain": [
       "<IPython.core.display.HTML object>"
      ]
     },
     "metadata": {},
     "output_type": "display_data"
    },
    {
     "data": {
      "text/html": [
       "<div style=\"max-height:1000px;max-width:1500px;overflow:auto;\">\n",
       "<table border=\"1\" class=\"dataframe\">\n",
       "  <thead>\n",
       "    <tr style=\"text-align: right;\">\n",
       "      <th></th>\n",
       "      <th>Sequence</th>\n",
       "      <th>Aspect</th>\n",
       "      <th>GO ID</th>\n",
       "      <th>Name</th>\n",
       "      <th>Total Score</th>\n",
       "      <th>Internal Confidence</th>\n",
       "      <th>Information Content</th>\n",
       "    </tr>\n",
       "  </thead>\n",
       "  <tbody>\n",
       "  </tbody>\n",
       "</table>\n",
       "</div>"
      ],
      "text/plain": [
       "Empty DataFrame\n",
       "Columns: [Sequence, Aspect, GO ID, Name, Total Score, Internal Confidence, Information Content]\n",
       "Index: []"
      ]
     },
     "metadata": {},
     "output_type": "display_data"
    },
    {
     "data": {
      "text/html": [
       "<p>"
      ],
      "text/plain": [
       "<IPython.core.display.HTML object>"
      ]
     },
     "metadata": {},
     "output_type": "display_data"
    },
    {
     "data": {
      "text/html": [
       "<a href=\"https://www.vectorbase.org/Glossina_fuscipes/Gene/Summary?db=core;g=GFUI003383\"> GFUI003383: gene home page</a>"
      ],
      "text/plain": [
       "<IPython.core.display.HTML object>"
      ]
     },
     "metadata": {},
     "output_type": "display_data"
    },
    {
     "data": {
      "text/html": [
       "<a href=\"https://www.vectorbase.org/Glossina_fuscipes/Transcript/ProteinSummary?db=core;g=GFUI003383\"> GFUI003383: protein summary </a>"
      ],
      "text/plain": [
       "<IPython.core.display.HTML object>"
      ]
     },
     "metadata": {},
     "output_type": "display_data"
    },
    {
     "data": {
      "text/html": [
       "<a href=\"https://www.vectorbase.org/Glossina_fuscipes/Gene/Ontology/molecular_function?db=core;g=GFUI003383;oid=molecular_function\"> GFUI003383: gene ontology </a>"
      ],
      "text/plain": [
       "<IPython.core.display.HTML object>"
      ]
     },
     "metadata": {},
     "output_type": "display_data"
    },
    {
     "data": {
      "text/html": [
       "<a href=\"https://www.vectorbase.org/Glossina_fuscipes/Location/View?db=core;g=GFUI003383;r\"> GFUI003383: genome browser </a>"
      ],
      "text/plain": [
       "<IPython.core.display.HTML object>"
      ]
     },
     "metadata": {},
     "output_type": "display_data"
    },
    {
     "data": {
      "text/html": [
       "<hr>"
      ],
      "text/plain": [
       "<IPython.core.display.HTML object>"
      ]
     },
     "metadata": {},
     "output_type": "display_data"
    },
    {
     "data": {
      "text/html": [
       "<h2>GFUI026758</h2>"
      ],
      "text/plain": [
       "<IPython.core.display.HTML object>"
      ]
     },
     "metadata": {},
     "output_type": "display_data"
    },
    {
     "data": {
      "text/html": [
       "<b>SNP location:</b><br>Scaffold341:166120<br>"
      ],
      "text/plain": [
       "<IPython.core.display.HTML object>"
      ]
     },
     "metadata": {},
     "output_type": "display_data"
    },
    {
     "data": {
      "text/html": [
       "<div style=\"max-height:1000px;max-width:1500px;overflow:auto;\">\n",
       "<table border=\"1\" class=\"dataframe\">\n",
       "  <thead>\n",
       "    <tr style=\"text-align: right;\">\n",
       "      <th></th>\n",
       "      <th>Sequence</th>\n",
       "      <th>Aspect</th>\n",
       "      <th>GO ID</th>\n",
       "      <th>Name</th>\n",
       "      <th>Total Score</th>\n",
       "      <th>Internal Confidence</th>\n",
       "      <th>Information Content</th>\n",
       "    </tr>\n",
       "  </thead>\n",
       "  <tbody>\n",
       "  </tbody>\n",
       "</table>\n",
       "</div>"
      ],
      "text/plain": [
       "Empty DataFrame\n",
       "Columns: [Sequence, Aspect, GO ID, Name, Total Score, Internal Confidence, Information Content]\n",
       "Index: []"
      ]
     },
     "metadata": {},
     "output_type": "display_data"
    },
    {
     "data": {
      "text/html": [
       "<p>"
      ],
      "text/plain": [
       "<IPython.core.display.HTML object>"
      ]
     },
     "metadata": {},
     "output_type": "display_data"
    },
    {
     "data": {
      "text/html": [
       "<a href=\"https://www.vectorbase.org/Glossina_fuscipes/Gene/Summary?db=core;g=GFUI026758\"> GFUI026758: gene home page</a>"
      ],
      "text/plain": [
       "<IPython.core.display.HTML object>"
      ]
     },
     "metadata": {},
     "output_type": "display_data"
    },
    {
     "data": {
      "text/html": [
       "<a href=\"https://www.vectorbase.org/Glossina_fuscipes/Transcript/ProteinSummary?db=core;g=GFUI026758\"> GFUI026758: protein summary </a>"
      ],
      "text/plain": [
       "<IPython.core.display.HTML object>"
      ]
     },
     "metadata": {},
     "output_type": "display_data"
    },
    {
     "data": {
      "text/html": [
       "<a href=\"https://www.vectorbase.org/Glossina_fuscipes/Gene/Ontology/molecular_function?db=core;g=GFUI026758;oid=molecular_function\"> GFUI026758: gene ontology </a>"
      ],
      "text/plain": [
       "<IPython.core.display.HTML object>"
      ]
     },
     "metadata": {},
     "output_type": "display_data"
    },
    {
     "data": {
      "text/html": [
       "<a href=\"https://www.vectorbase.org/Glossina_fuscipes/Location/View?db=core;g=GFUI026758;r\"> GFUI026758: genome browser </a>"
      ],
      "text/plain": [
       "<IPython.core.display.HTML object>"
      ]
     },
     "metadata": {},
     "output_type": "display_data"
    },
    {
     "data": {
      "text/html": [
       "<hr>"
      ],
      "text/plain": [
       "<IPython.core.display.HTML object>"
      ]
     },
     "metadata": {},
     "output_type": "display_data"
    },
    {
     "data": {
      "text/html": [
       "<h2>GFUI031722</h2>"
      ],
      "text/plain": [
       "<IPython.core.display.HTML object>"
      ]
     },
     "metadata": {},
     "output_type": "display_data"
    },
    {
     "data": {
      "text/html": [
       "<b>SNP location:</b><br>Scaffold416:33249<br>"
      ],
      "text/plain": [
       "<IPython.core.display.HTML object>"
      ]
     },
     "metadata": {},
     "output_type": "display_data"
    },
    {
     "data": {
      "text/html": [
       "<div style=\"max-height:1000px;max-width:1500px;overflow:auto;\">\n",
       "<table border=\"1\" class=\"dataframe\">\n",
       "  <thead>\n",
       "    <tr style=\"text-align: right;\">\n",
       "      <th></th>\n",
       "      <th>Sequence</th>\n",
       "      <th>Aspect</th>\n",
       "      <th>GO ID</th>\n",
       "      <th>Name</th>\n",
       "      <th>Total Score</th>\n",
       "      <th>Internal Confidence</th>\n",
       "      <th>Information Content</th>\n",
       "    </tr>\n",
       "  </thead>\n",
       "  <tbody>\n",
       "  </tbody>\n",
       "</table>\n",
       "</div>"
      ],
      "text/plain": [
       "Empty DataFrame\n",
       "Columns: [Sequence, Aspect, GO ID, Name, Total Score, Internal Confidence, Information Content]\n",
       "Index: []"
      ]
     },
     "metadata": {},
     "output_type": "display_data"
    },
    {
     "data": {
      "text/html": [
       "<p>"
      ],
      "text/plain": [
       "<IPython.core.display.HTML object>"
      ]
     },
     "metadata": {},
     "output_type": "display_data"
    },
    {
     "data": {
      "text/html": [
       "<a href=\"https://www.vectorbase.org/Glossina_fuscipes/Gene/Summary?db=core;g=GFUI031722\"> GFUI031722: gene home page</a>"
      ],
      "text/plain": [
       "<IPython.core.display.HTML object>"
      ]
     },
     "metadata": {},
     "output_type": "display_data"
    },
    {
     "data": {
      "text/html": [
       "<a href=\"https://www.vectorbase.org/Glossina_fuscipes/Transcript/ProteinSummary?db=core;g=GFUI031722\"> GFUI031722: protein summary </a>"
      ],
      "text/plain": [
       "<IPython.core.display.HTML object>"
      ]
     },
     "metadata": {},
     "output_type": "display_data"
    },
    {
     "data": {
      "text/html": [
       "<a href=\"https://www.vectorbase.org/Glossina_fuscipes/Gene/Ontology/molecular_function?db=core;g=GFUI031722;oid=molecular_function\"> GFUI031722: gene ontology </a>"
      ],
      "text/plain": [
       "<IPython.core.display.HTML object>"
      ]
     },
     "metadata": {},
     "output_type": "display_data"
    },
    {
     "data": {
      "text/html": [
       "<a href=\"https://www.vectorbase.org/Glossina_fuscipes/Location/View?db=core;g=GFUI031722;r\"> GFUI031722: genome browser </a>"
      ],
      "text/plain": [
       "<IPython.core.display.HTML object>"
      ]
     },
     "metadata": {},
     "output_type": "display_data"
    },
    {
     "data": {
      "text/html": [
       "<hr>"
      ],
      "text/plain": [
       "<IPython.core.display.HTML object>"
      ]
     },
     "metadata": {},
     "output_type": "display_data"
    },
    {
     "data": {
      "text/html": [
       "<h2>GFUI022296</h2>"
      ],
      "text/plain": [
       "<IPython.core.display.HTML object>"
      ]
     },
     "metadata": {},
     "output_type": "display_data"
    },
    {
     "data": {
      "text/html": [
       "<b>SNP location:</b><br>Scaffold286:58269<br>"
      ],
      "text/plain": [
       "<IPython.core.display.HTML object>"
      ]
     },
     "metadata": {},
     "output_type": "display_data"
    },
    {
     "data": {
      "text/html": [
       "<div style=\"max-height:1000px;max-width:1500px;overflow:auto;\">\n",
       "<table border=\"1\" class=\"dataframe\">\n",
       "  <thead>\n",
       "    <tr style=\"text-align: right;\">\n",
       "      <th></th>\n",
       "      <th>Sequence</th>\n",
       "      <th>Aspect</th>\n",
       "      <th>GO ID</th>\n",
       "      <th>Name</th>\n",
       "      <th>Total Score</th>\n",
       "      <th>Internal Confidence</th>\n",
       "      <th>Information Content</th>\n",
       "    </tr>\n",
       "  </thead>\n",
       "  <tbody>\n",
       "    <tr>\n",
       "      <th>61530</th>\n",
       "      <td> GFUI022296-PA</td>\n",
       "      <td> F</td>\n",
       "      <td> GO:0003723</td>\n",
       "      <td> RNA binding</td>\n",
       "      <td> 914.840481</td>\n",
       "      <td> 0.523760</td>\n",
       "      <td> 4.494763</td>\n",
       "    </tr>\n",
       "    <tr>\n",
       "      <th>61531</th>\n",
       "      <td> GFUI022296-PA</td>\n",
       "      <td> C</td>\n",
       "      <td> GO:0005634</td>\n",
       "      <td>     nucleus</td>\n",
       "      <td> 377.710349</td>\n",
       "      <td> 0.497151</td>\n",
       "      <td> 5.725783</td>\n",
       "    </tr>\n",
       "  </tbody>\n",
       "</table>\n",
       "</div>"
      ],
      "text/plain": [
       "            Sequence Aspect       GO ID         Name  Total Score  \\\n",
       "61530  GFUI022296-PA      F  GO:0003723  RNA binding   914.840481   \n",
       "61531  GFUI022296-PA      C  GO:0005634      nucleus   377.710349   \n",
       "\n",
       "       Internal Confidence  Information Content  \n",
       "61530             0.523760             4.494763  \n",
       "61531             0.497151             5.725783  "
      ]
     },
     "metadata": {},
     "output_type": "display_data"
    },
    {
     "data": {
      "text/html": [
       "<p>"
      ],
      "text/plain": [
       "<IPython.core.display.HTML object>"
      ]
     },
     "metadata": {},
     "output_type": "display_data"
    },
    {
     "data": {
      "text/html": [
       "<a href=\"https://www.vectorbase.org/Glossina_fuscipes/Gene/Summary?db=core;g=GFUI022296\"> GFUI022296: gene home page</a>"
      ],
      "text/plain": [
       "<IPython.core.display.HTML object>"
      ]
     },
     "metadata": {},
     "output_type": "display_data"
    },
    {
     "data": {
      "text/html": [
       "<a href=\"https://www.vectorbase.org/Glossina_fuscipes/Transcript/ProteinSummary?db=core;g=GFUI022296\"> GFUI022296: protein summary </a>"
      ],
      "text/plain": [
       "<IPython.core.display.HTML object>"
      ]
     },
     "metadata": {},
     "output_type": "display_data"
    },
    {
     "data": {
      "text/html": [
       "<a href=\"https://www.vectorbase.org/Glossina_fuscipes/Gene/Ontology/molecular_function?db=core;g=GFUI022296;oid=molecular_function\"> GFUI022296: gene ontology </a>"
      ],
      "text/plain": [
       "<IPython.core.display.HTML object>"
      ]
     },
     "metadata": {},
     "output_type": "display_data"
    },
    {
     "data": {
      "text/html": [
       "<a href=\"https://www.vectorbase.org/Glossina_fuscipes/Location/View?db=core;g=GFUI022296;r\"> GFUI022296: genome browser </a>"
      ],
      "text/plain": [
       "<IPython.core.display.HTML object>"
      ]
     },
     "metadata": {},
     "output_type": "display_data"
    },
    {
     "data": {
      "text/html": [
       "<hr>"
      ],
      "text/plain": [
       "<IPython.core.display.HTML object>"
      ]
     },
     "metadata": {},
     "output_type": "display_data"
    },
    {
     "data": {
      "text/html": [
       "<h2>GFUI013391</h2>"
      ],
      "text/plain": [
       "<IPython.core.display.HTML object>"
      ]
     },
     "metadata": {},
     "output_type": "display_data"
    },
    {
     "data": {
      "text/html": [
       "<b>SNP location:</b><br>Scaffold18:205635<br>"
      ],
      "text/plain": [
       "<IPython.core.display.HTML object>"
      ]
     },
     "metadata": {},
     "output_type": "display_data"
    },
    {
     "data": {
      "text/html": [
       "<div style=\"max-height:1000px;max-width:1500px;overflow:auto;\">\n",
       "<table border=\"1\" class=\"dataframe\">\n",
       "  <thead>\n",
       "    <tr style=\"text-align: right;\">\n",
       "      <th></th>\n",
       "      <th>Sequence</th>\n",
       "      <th>Aspect</th>\n",
       "      <th>GO ID</th>\n",
       "      <th>Name</th>\n",
       "      <th>Total Score</th>\n",
       "      <th>Internal Confidence</th>\n",
       "      <th>Information Content</th>\n",
       "    </tr>\n",
       "  </thead>\n",
       "  <tbody>\n",
       "    <tr>\n",
       "      <th>57790</th>\n",
       "      <td> GFUI013391-PA</td>\n",
       "      <td> F</td>\n",
       "      <td> GO:0008168</td>\n",
       "      <td>             methyltransferase activity</td>\n",
       "      <td> 1826.916882</td>\n",
       "      <td> 0.240918</td>\n",
       "      <td> 4.628874</td>\n",
       "    </tr>\n",
       "    <tr>\n",
       "      <th>57788</th>\n",
       "      <td> GFUI013391-PA</td>\n",
       "      <td> P</td>\n",
       "      <td> GO:0032259</td>\n",
       "      <td>                            methylation</td>\n",
       "      <td> 1159.736404</td>\n",
       "      <td> 0.180507</td>\n",
       "      <td> 8.301193</td>\n",
       "    </tr>\n",
       "    <tr>\n",
       "      <th>57789</th>\n",
       "      <td> GFUI013391-PA</td>\n",
       "      <td> F</td>\n",
       "      <td> GO:0016740</td>\n",
       "      <td>                   transferase activity</td>\n",
       "      <td>  972.749715</td>\n",
       "      <td> 0.432009</td>\n",
       "      <td> 2.487400</td>\n",
       "    </tr>\n",
       "    <tr>\n",
       "      <th>57787</th>\n",
       "      <td> GFUI013391-PA</td>\n",
       "      <td> P</td>\n",
       "      <td> GO:0010629</td>\n",
       "      <td> negative regulation of gene expression</td>\n",
       "      <td>  596.987167</td>\n",
       "      <td> 0.096247</td>\n",
       "      <td> 9.607679</td>\n",
       "    </tr>\n",
       "    <tr>\n",
       "      <th>57791</th>\n",
       "      <td> GFUI013391-PA</td>\n",
       "      <td> C</td>\n",
       "      <td> GO:0005634</td>\n",
       "      <td>                                nucleus</td>\n",
       "      <td>  419.091132</td>\n",
       "      <td> 0.332384</td>\n",
       "      <td> 5.725783</td>\n",
       "    </tr>\n",
       "  </tbody>\n",
       "</table>\n",
       "</div>"
      ],
      "text/plain": [
       "            Sequence Aspect       GO ID  \\\n",
       "57790  GFUI013391-PA      F  GO:0008168   \n",
       "57788  GFUI013391-PA      P  GO:0032259   \n",
       "57789  GFUI013391-PA      F  GO:0016740   \n",
       "57787  GFUI013391-PA      P  GO:0010629   \n",
       "57791  GFUI013391-PA      C  GO:0005634   \n",
       "\n",
       "                                         Name  Total Score  \\\n",
       "57790              methyltransferase activity  1826.916882   \n",
       "57788                             methylation  1159.736404   \n",
       "57789                    transferase activity   972.749715   \n",
       "57787  negative regulation of gene expression   596.987167   \n",
       "57791                                 nucleus   419.091132   \n",
       "\n",
       "       Internal Confidence  Information Content  \n",
       "57790             0.240918             4.628874  \n",
       "57788             0.180507             8.301193  \n",
       "57789             0.432009             2.487400  \n",
       "57787             0.096247             9.607679  \n",
       "57791             0.332384             5.725783  "
      ]
     },
     "metadata": {},
     "output_type": "display_data"
    },
    {
     "data": {
      "text/html": [
       "<p>"
      ],
      "text/plain": [
       "<IPython.core.display.HTML object>"
      ]
     },
     "metadata": {},
     "output_type": "display_data"
    },
    {
     "data": {
      "text/html": [
       "<a href=\"https://www.vectorbase.org/Glossina_fuscipes/Gene/Summary?db=core;g=GFUI013391\"> GFUI013391: gene home page</a>"
      ],
      "text/plain": [
       "<IPython.core.display.HTML object>"
      ]
     },
     "metadata": {},
     "output_type": "display_data"
    },
    {
     "data": {
      "text/html": [
       "<a href=\"https://www.vectorbase.org/Glossina_fuscipes/Transcript/ProteinSummary?db=core;g=GFUI013391\"> GFUI013391: protein summary </a>"
      ],
      "text/plain": [
       "<IPython.core.display.HTML object>"
      ]
     },
     "metadata": {},
     "output_type": "display_data"
    },
    {
     "data": {
      "text/html": [
       "<a href=\"https://www.vectorbase.org/Glossina_fuscipes/Gene/Ontology/molecular_function?db=core;g=GFUI013391;oid=molecular_function\"> GFUI013391: gene ontology </a>"
      ],
      "text/plain": [
       "<IPython.core.display.HTML object>"
      ]
     },
     "metadata": {},
     "output_type": "display_data"
    },
    {
     "data": {
      "text/html": [
       "<a href=\"https://www.vectorbase.org/Glossina_fuscipes/Location/View?db=core;g=GFUI013391;r\"> GFUI013391: genome browser </a>"
      ],
      "text/plain": [
       "<IPython.core.display.HTML object>"
      ]
     },
     "metadata": {},
     "output_type": "display_data"
    },
    {
     "data": {
      "text/html": [
       "<hr>"
      ],
      "text/plain": [
       "<IPython.core.display.HTML object>"
      ]
     },
     "metadata": {},
     "output_type": "display_data"
    },
    {
     "data": {
      "text/html": [
       "<h2>GFUI050246</h2>"
      ],
      "text/plain": [
       "<IPython.core.display.HTML object>"
      ]
     },
     "metadata": {},
     "output_type": "display_data"
    },
    {
     "data": {
      "text/html": [
       "<b>SNP location:</b><br>Scaffold87:665834<br>"
      ],
      "text/plain": [
       "<IPython.core.display.HTML object>"
      ]
     },
     "metadata": {},
     "output_type": "display_data"
    },
    {
     "data": {
      "text/html": [
       "<div style=\"max-height:1000px;max-width:1500px;overflow:auto;\">\n",
       "<table border=\"1\" class=\"dataframe\">\n",
       "  <thead>\n",
       "    <tr style=\"text-align: right;\">\n",
       "      <th></th>\n",
       "      <th>Sequence</th>\n",
       "      <th>Aspect</th>\n",
       "      <th>GO ID</th>\n",
       "      <th>Name</th>\n",
       "      <th>Total Score</th>\n",
       "      <th>Internal Confidence</th>\n",
       "      <th>Information Content</th>\n",
       "    </tr>\n",
       "  </thead>\n",
       "  <tbody>\n",
       "  </tbody>\n",
       "</table>\n",
       "</div>"
      ],
      "text/plain": [
       "Empty DataFrame\n",
       "Columns: [Sequence, Aspect, GO ID, Name, Total Score, Internal Confidence, Information Content]\n",
       "Index: []"
      ]
     },
     "metadata": {},
     "output_type": "display_data"
    },
    {
     "data": {
      "text/html": [
       "<p>"
      ],
      "text/plain": [
       "<IPython.core.display.HTML object>"
      ]
     },
     "metadata": {},
     "output_type": "display_data"
    },
    {
     "data": {
      "text/html": [
       "<a href=\"https://www.vectorbase.org/Glossina_fuscipes/Gene/Summary?db=core;g=GFUI050246\"> GFUI050246: gene home page</a>"
      ],
      "text/plain": [
       "<IPython.core.display.HTML object>"
      ]
     },
     "metadata": {},
     "output_type": "display_data"
    },
    {
     "data": {
      "text/html": [
       "<a href=\"https://www.vectorbase.org/Glossina_fuscipes/Transcript/ProteinSummary?db=core;g=GFUI050246\"> GFUI050246: protein summary </a>"
      ],
      "text/plain": [
       "<IPython.core.display.HTML object>"
      ]
     },
     "metadata": {},
     "output_type": "display_data"
    },
    {
     "data": {
      "text/html": [
       "<a href=\"https://www.vectorbase.org/Glossina_fuscipes/Gene/Ontology/molecular_function?db=core;g=GFUI050246;oid=molecular_function\"> GFUI050246: gene ontology </a>"
      ],
      "text/plain": [
       "<IPython.core.display.HTML object>"
      ]
     },
     "metadata": {},
     "output_type": "display_data"
    },
    {
     "data": {
      "text/html": [
       "<a href=\"https://www.vectorbase.org/Glossina_fuscipes/Location/View?db=core;g=GFUI050246;r\"> GFUI050246: genome browser </a>"
      ],
      "text/plain": [
       "<IPython.core.display.HTML object>"
      ]
     },
     "metadata": {},
     "output_type": "display_data"
    },
    {
     "data": {
      "text/html": [
       "<hr>"
      ],
      "text/plain": [
       "<IPython.core.display.HTML object>"
      ]
     },
     "metadata": {},
     "output_type": "display_data"
    },
    {
     "data": {
      "text/html": [
       "<h2>GFUI013397</h2>"
      ],
      "text/plain": [
       "<IPython.core.display.HTML object>"
      ]
     },
     "metadata": {},
     "output_type": "display_data"
    },
    {
     "data": {
      "text/html": [
       "<b>SNP location:</b><br>Scaffold18:205635<br>"
      ],
      "text/plain": [
       "<IPython.core.display.HTML object>"
      ]
     },
     "metadata": {},
     "output_type": "display_data"
    },
    {
     "data": {
      "text/html": [
       "<div style=\"max-height:1000px;max-width:1500px;overflow:auto;\">\n",
       "<table border=\"1\" class=\"dataframe\">\n",
       "  <thead>\n",
       "    <tr style=\"text-align: right;\">\n",
       "      <th></th>\n",
       "      <th>Sequence</th>\n",
       "      <th>Aspect</th>\n",
       "      <th>GO ID</th>\n",
       "      <th>Name</th>\n",
       "      <th>Total Score</th>\n",
       "      <th>Internal Confidence</th>\n",
       "      <th>Information Content</th>\n",
       "    </tr>\n",
       "  </thead>\n",
       "  <tbody>\n",
       "    <tr>\n",
       "      <th>56166</th>\n",
       "      <td> GFUI013397-PA</td>\n",
       "      <td> C</td>\n",
       "      <td> GO:0005634</td>\n",
       "      <td>                    nucleus</td>\n",
       "      <td> 368.885066</td>\n",
       "      <td> 0.362875</td>\n",
       "      <td> 5.725783</td>\n",
       "    </tr>\n",
       "    <tr>\n",
       "      <th>56164</th>\n",
       "      <td> GFUI013397-PA</td>\n",
       "      <td> F</td>\n",
       "      <td> GO:0016740</td>\n",
       "      <td>       transferase activity</td>\n",
       "      <td> 343.930634</td>\n",
       "      <td> 0.413165</td>\n",
       "      <td> 2.487400</td>\n",
       "    </tr>\n",
       "    <tr>\n",
       "      <th>56165</th>\n",
       "      <td> GFUI013397-PA</td>\n",
       "      <td> F</td>\n",
       "      <td> GO:0008168</td>\n",
       "      <td> methyltransferase activity</td>\n",
       "      <td> 341.734384</td>\n",
       "      <td> 0.240991</td>\n",
       "      <td> 4.628874</td>\n",
       "    </tr>\n",
       "    <tr>\n",
       "      <th>56163</th>\n",
       "      <td> GFUI013397-PA</td>\n",
       "      <td> P</td>\n",
       "      <td> GO:0032259</td>\n",
       "      <td>                methylation</td>\n",
       "      <td> 289.936481</td>\n",
       "      <td> 0.161049</td>\n",
       "      <td> 8.301193</td>\n",
       "    </tr>\n",
       "  </tbody>\n",
       "</table>\n",
       "</div>"
      ],
      "text/plain": [
       "            Sequence Aspect       GO ID                        Name  \\\n",
       "56166  GFUI013397-PA      C  GO:0005634                     nucleus   \n",
       "56164  GFUI013397-PA      F  GO:0016740        transferase activity   \n",
       "56165  GFUI013397-PA      F  GO:0008168  methyltransferase activity   \n",
       "56163  GFUI013397-PA      P  GO:0032259                 methylation   \n",
       "\n",
       "       Total Score  Internal Confidence  Information Content  \n",
       "56166   368.885066             0.362875             5.725783  \n",
       "56164   343.930634             0.413165             2.487400  \n",
       "56165   341.734384             0.240991             4.628874  \n",
       "56163   289.936481             0.161049             8.301193  "
      ]
     },
     "metadata": {},
     "output_type": "display_data"
    },
    {
     "data": {
      "text/html": [
       "<p>"
      ],
      "text/plain": [
       "<IPython.core.display.HTML object>"
      ]
     },
     "metadata": {},
     "output_type": "display_data"
    },
    {
     "data": {
      "text/html": [
       "<a href=\"https://www.vectorbase.org/Glossina_fuscipes/Gene/Summary?db=core;g=GFUI013397\"> GFUI013397: gene home page</a>"
      ],
      "text/plain": [
       "<IPython.core.display.HTML object>"
      ]
     },
     "metadata": {},
     "output_type": "display_data"
    },
    {
     "data": {
      "text/html": [
       "<a href=\"https://www.vectorbase.org/Glossina_fuscipes/Transcript/ProteinSummary?db=core;g=GFUI013397\"> GFUI013397: protein summary </a>"
      ],
      "text/plain": [
       "<IPython.core.display.HTML object>"
      ]
     },
     "metadata": {},
     "output_type": "display_data"
    },
    {
     "data": {
      "text/html": [
       "<a href=\"https://www.vectorbase.org/Glossina_fuscipes/Gene/Ontology/molecular_function?db=core;g=GFUI013397;oid=molecular_function\"> GFUI013397: gene ontology </a>"
      ],
      "text/plain": [
       "<IPython.core.display.HTML object>"
      ]
     },
     "metadata": {},
     "output_type": "display_data"
    },
    {
     "data": {
      "text/html": [
       "<a href=\"https://www.vectorbase.org/Glossina_fuscipes/Location/View?db=core;g=GFUI013397;r\"> GFUI013397: genome browser </a>"
      ],
      "text/plain": [
       "<IPython.core.display.HTML object>"
      ]
     },
     "metadata": {},
     "output_type": "display_data"
    },
    {
     "data": {
      "text/html": [
       "<hr>"
      ],
      "text/plain": [
       "<IPython.core.display.HTML object>"
      ]
     },
     "metadata": {},
     "output_type": "display_data"
    },
    {
     "data": {
      "text/html": [
       "<h2>GFUI026165</h2>"
      ],
      "text/plain": [
       "<IPython.core.display.HTML object>"
      ]
     },
     "metadata": {},
     "output_type": "display_data"
    },
    {
     "data": {
      "text/html": [
       "<b>SNP location:</b><br>Scaffold334:197285<br>"
      ],
      "text/plain": [
       "<IPython.core.display.HTML object>"
      ]
     },
     "metadata": {},
     "output_type": "display_data"
    },
    {
     "data": {
      "text/html": [
       "<div style=\"max-height:1000px;max-width:1500px;overflow:auto;\">\n",
       "<table border=\"1\" class=\"dataframe\">\n",
       "  <thead>\n",
       "    <tr style=\"text-align: right;\">\n",
       "      <th></th>\n",
       "      <th>Sequence</th>\n",
       "      <th>Aspect</th>\n",
       "      <th>GO ID</th>\n",
       "      <th>Name</th>\n",
       "      <th>Total Score</th>\n",
       "      <th>Internal Confidence</th>\n",
       "      <th>Information Content</th>\n",
       "    </tr>\n",
       "  </thead>\n",
       "  <tbody>\n",
       "    <tr>\n",
       "      <th>62603</th>\n",
       "      <td> GFUI026165-PA</td>\n",
       "      <td> F</td>\n",
       "      <td> GO:0003713</td>\n",
       "      <td> transcription coactivator activity</td>\n",
       "      <td> 1474.479766</td>\n",
       "      <td> 0.203888</td>\n",
       "      <td> 10.307760</td>\n",
       "    </tr>\n",
       "    <tr>\n",
       "      <th>62604</th>\n",
       "      <td> GFUI026165-PA</td>\n",
       "      <td> C</td>\n",
       "      <td> GO:0005634</td>\n",
       "      <td>                            nucleus</td>\n",
       "      <td> 1332.088863</td>\n",
       "      <td> 0.538393</td>\n",
       "      <td>  5.725783</td>\n",
       "    </tr>\n",
       "  </tbody>\n",
       "</table>\n",
       "</div>"
      ],
      "text/plain": [
       "            Sequence Aspect       GO ID                                Name  \\\n",
       "62603  GFUI026165-PA      F  GO:0003713  transcription coactivator activity   \n",
       "62604  GFUI026165-PA      C  GO:0005634                             nucleus   \n",
       "\n",
       "       Total Score  Internal Confidence  Information Content  \n",
       "62603  1474.479766             0.203888            10.307760  \n",
       "62604  1332.088863             0.538393             5.725783  "
      ]
     },
     "metadata": {},
     "output_type": "display_data"
    },
    {
     "data": {
      "text/html": [
       "<p>"
      ],
      "text/plain": [
       "<IPython.core.display.HTML object>"
      ]
     },
     "metadata": {},
     "output_type": "display_data"
    },
    {
     "data": {
      "text/html": [
       "<a href=\"https://www.vectorbase.org/Glossina_fuscipes/Gene/Summary?db=core;g=GFUI026165\"> GFUI026165: gene home page</a>"
      ],
      "text/plain": [
       "<IPython.core.display.HTML object>"
      ]
     },
     "metadata": {},
     "output_type": "display_data"
    },
    {
     "data": {
      "text/html": [
       "<a href=\"https://www.vectorbase.org/Glossina_fuscipes/Transcript/ProteinSummary?db=core;g=GFUI026165\"> GFUI026165: protein summary </a>"
      ],
      "text/plain": [
       "<IPython.core.display.HTML object>"
      ]
     },
     "metadata": {},
     "output_type": "display_data"
    },
    {
     "data": {
      "text/html": [
       "<a href=\"https://www.vectorbase.org/Glossina_fuscipes/Gene/Ontology/molecular_function?db=core;g=GFUI026165;oid=molecular_function\"> GFUI026165: gene ontology </a>"
      ],
      "text/plain": [
       "<IPython.core.display.HTML object>"
      ]
     },
     "metadata": {},
     "output_type": "display_data"
    },
    {
     "data": {
      "text/html": [
       "<a href=\"https://www.vectorbase.org/Glossina_fuscipes/Location/View?db=core;g=GFUI026165;r\"> GFUI026165: genome browser </a>"
      ],
      "text/plain": [
       "<IPython.core.display.HTML object>"
      ]
     },
     "metadata": {},
     "output_type": "display_data"
    },
    {
     "data": {
      "text/html": [
       "<hr>"
      ],
      "text/plain": [
       "<IPython.core.display.HTML object>"
      ]
     },
     "metadata": {},
     "output_type": "display_data"
    },
    {
     "data": {
      "text/html": [
       "<h2>GFUI007439</h2>"
      ],
      "text/plain": [
       "<IPython.core.display.HTML object>"
      ]
     },
     "metadata": {},
     "output_type": "display_data"
    },
    {
     "data": {
      "text/html": [
       "<b>SNP location:</b><br>Scaffold137:526189<br>"
      ],
      "text/plain": [
       "<IPython.core.display.HTML object>"
      ]
     },
     "metadata": {},
     "output_type": "display_data"
    },
    {
     "data": {
      "text/html": [
       "<div style=\"max-height:1000px;max-width:1500px;overflow:auto;\">\n",
       "<table border=\"1\" class=\"dataframe\">\n",
       "  <thead>\n",
       "    <tr style=\"text-align: right;\">\n",
       "      <th></th>\n",
       "      <th>Sequence</th>\n",
       "      <th>Aspect</th>\n",
       "      <th>GO ID</th>\n",
       "      <th>Name</th>\n",
       "      <th>Total Score</th>\n",
       "      <th>Internal Confidence</th>\n",
       "      <th>Information Content</th>\n",
       "    </tr>\n",
       "  </thead>\n",
       "  <tbody>\n",
       "    <tr>\n",
       "      <th>33802</th>\n",
       "      <td> GFUI007439-PA</td>\n",
       "      <td> F</td>\n",
       "      <td> GO:0008017</td>\n",
       "      <td>          microtubule binding</td>\n",
       "      <td> 979.075875</td>\n",
       "      <td> 0.309808</td>\n",
       "      <td>  9.436151</td>\n",
       "    </tr>\n",
       "    <tr>\n",
       "      <th>33803</th>\n",
       "      <td> GFUI007439-PA</td>\n",
       "      <td> F</td>\n",
       "      <td> GO:0051010</td>\n",
       "      <td> microtubule plus-end binding</td>\n",
       "      <td> 552.264750</td>\n",
       "      <td> 0.120057</td>\n",
       "      <td> 13.296078</td>\n",
       "    </tr>\n",
       "    <tr>\n",
       "      <th>33806</th>\n",
       "      <td> GFUI007439-PA</td>\n",
       "      <td> C</td>\n",
       "      <td> GO:0005737</td>\n",
       "      <td>                    cytoplasm</td>\n",
       "      <td> 490.308087</td>\n",
       "      <td> 0.392804</td>\n",
       "      <td>  3.178476</td>\n",
       "    </tr>\n",
       "    <tr>\n",
       "      <th>33805</th>\n",
       "      <td> GFUI007439-PA</td>\n",
       "      <td> C</td>\n",
       "      <td> GO:0000776</td>\n",
       "      <td>                  kinetochore</td>\n",
       "      <td> 260.023142</td>\n",
       "      <td> 0.027808</td>\n",
       "      <td> 10.281686</td>\n",
       "    </tr>\n",
       "    <tr>\n",
       "      <th>33804</th>\n",
       "      <td> GFUI007439-PA</td>\n",
       "      <td> C</td>\n",
       "      <td> GO:0005874</td>\n",
       "      <td>                  microtubule</td>\n",
       "      <td> 248.222152</td>\n",
       "      <td> 0.201705</td>\n",
       "      <td>  8.766752</td>\n",
       "    </tr>\n",
       "  </tbody>\n",
       "</table>\n",
       "</div>"
      ],
      "text/plain": [
       "            Sequence Aspect       GO ID                          Name  \\\n",
       "33802  GFUI007439-PA      F  GO:0008017           microtubule binding   \n",
       "33803  GFUI007439-PA      F  GO:0051010  microtubule plus-end binding   \n",
       "33806  GFUI007439-PA      C  GO:0005737                     cytoplasm   \n",
       "33805  GFUI007439-PA      C  GO:0000776                   kinetochore   \n",
       "33804  GFUI007439-PA      C  GO:0005874                   microtubule   \n",
       "\n",
       "       Total Score  Internal Confidence  Information Content  \n",
       "33802   979.075875             0.309808             9.436151  \n",
       "33803   552.264750             0.120057            13.296078  \n",
       "33806   490.308087             0.392804             3.178476  \n",
       "33805   260.023142             0.027808            10.281686  \n",
       "33804   248.222152             0.201705             8.766752  "
      ]
     },
     "metadata": {},
     "output_type": "display_data"
    },
    {
     "data": {
      "text/html": [
       "<p>"
      ],
      "text/plain": [
       "<IPython.core.display.HTML object>"
      ]
     },
     "metadata": {},
     "output_type": "display_data"
    },
    {
     "data": {
      "text/html": [
       "<a href=\"https://www.vectorbase.org/Glossina_fuscipes/Gene/Summary?db=core;g=GFUI007439\"> GFUI007439: gene home page</a>"
      ],
      "text/plain": [
       "<IPython.core.display.HTML object>"
      ]
     },
     "metadata": {},
     "output_type": "display_data"
    },
    {
     "data": {
      "text/html": [
       "<a href=\"https://www.vectorbase.org/Glossina_fuscipes/Transcript/ProteinSummary?db=core;g=GFUI007439\"> GFUI007439: protein summary </a>"
      ],
      "text/plain": [
       "<IPython.core.display.HTML object>"
      ]
     },
     "metadata": {},
     "output_type": "display_data"
    },
    {
     "data": {
      "text/html": [
       "<a href=\"https://www.vectorbase.org/Glossina_fuscipes/Gene/Ontology/molecular_function?db=core;g=GFUI007439;oid=molecular_function\"> GFUI007439: gene ontology </a>"
      ],
      "text/plain": [
       "<IPython.core.display.HTML object>"
      ]
     },
     "metadata": {},
     "output_type": "display_data"
    },
    {
     "data": {
      "text/html": [
       "<a href=\"https://www.vectorbase.org/Glossina_fuscipes/Location/View?db=core;g=GFUI007439;r\"> GFUI007439: genome browser </a>"
      ],
      "text/plain": [
       "<IPython.core.display.HTML object>"
      ]
     },
     "metadata": {},
     "output_type": "display_data"
    },
    {
     "data": {
      "text/html": [
       "<hr>"
      ],
      "text/plain": [
       "<IPython.core.display.HTML object>"
      ]
     },
     "metadata": {},
     "output_type": "display_data"
    },
    {
     "data": {
      "text/html": [
       "<h2>GFUI012992</h2>"
      ],
      "text/plain": [
       "<IPython.core.display.HTML object>"
      ]
     },
     "metadata": {},
     "output_type": "display_data"
    },
    {
     "data": {
      "text/html": [
       "<b>SNP location:</b><br>Scaffold185:199813<br>"
      ],
      "text/plain": [
       "<IPython.core.display.HTML object>"
      ]
     },
     "metadata": {},
     "output_type": "display_data"
    },
    {
     "data": {
      "text/html": [
       "<div style=\"max-height:1000px;max-width:1500px;overflow:auto;\">\n",
       "<table border=\"1\" class=\"dataframe\">\n",
       "  <thead>\n",
       "    <tr style=\"text-align: right;\">\n",
       "      <th></th>\n",
       "      <th>Sequence</th>\n",
       "      <th>Aspect</th>\n",
       "      <th>GO ID</th>\n",
       "      <th>Name</th>\n",
       "      <th>Total Score</th>\n",
       "      <th>Internal Confidence</th>\n",
       "      <th>Information Content</th>\n",
       "    </tr>\n",
       "  </thead>\n",
       "  <tbody>\n",
       "  </tbody>\n",
       "</table>\n",
       "</div>"
      ],
      "text/plain": [
       "Empty DataFrame\n",
       "Columns: [Sequence, Aspect, GO ID, Name, Total Score, Internal Confidence, Information Content]\n",
       "Index: []"
      ]
     },
     "metadata": {},
     "output_type": "display_data"
    },
    {
     "data": {
      "text/html": [
       "<p>"
      ],
      "text/plain": [
       "<IPython.core.display.HTML object>"
      ]
     },
     "metadata": {},
     "output_type": "display_data"
    },
    {
     "data": {
      "text/html": [
       "<a href=\"https://www.vectorbase.org/Glossina_fuscipes/Gene/Summary?db=core;g=GFUI012992\"> GFUI012992: gene home page</a>"
      ],
      "text/plain": [
       "<IPython.core.display.HTML object>"
      ]
     },
     "metadata": {},
     "output_type": "display_data"
    },
    {
     "data": {
      "text/html": [
       "<a href=\"https://www.vectorbase.org/Glossina_fuscipes/Transcript/ProteinSummary?db=core;g=GFUI012992\"> GFUI012992: protein summary </a>"
      ],
      "text/plain": [
       "<IPython.core.display.HTML object>"
      ]
     },
     "metadata": {},
     "output_type": "display_data"
    },
    {
     "data": {
      "text/html": [
       "<a href=\"https://www.vectorbase.org/Glossina_fuscipes/Gene/Ontology/molecular_function?db=core;g=GFUI012992;oid=molecular_function\"> GFUI012992: gene ontology </a>"
      ],
      "text/plain": [
       "<IPython.core.display.HTML object>"
      ]
     },
     "metadata": {},
     "output_type": "display_data"
    },
    {
     "data": {
      "text/html": [
       "<a href=\"https://www.vectorbase.org/Glossina_fuscipes/Location/View?db=core;g=GFUI012992;r\"> GFUI012992: genome browser </a>"
      ],
      "text/plain": [
       "<IPython.core.display.HTML object>"
      ]
     },
     "metadata": {},
     "output_type": "display_data"
    },
    {
     "data": {
      "text/html": [
       "<hr>"
      ],
      "text/plain": [
       "<IPython.core.display.HTML object>"
      ]
     },
     "metadata": {},
     "output_type": "display_data"
    },
    {
     "data": {
      "text/html": [
       "<h2>GFUI039894</h2>"
      ],
      "text/plain": [
       "<IPython.core.display.HTML object>"
      ]
     },
     "metadata": {},
     "output_type": "display_data"
    },
    {
     "data": {
      "text/html": [
       "<b>SNP location:</b><br>Scaffold575:166639<br>"
      ],
      "text/plain": [
       "<IPython.core.display.HTML object>"
      ]
     },
     "metadata": {},
     "output_type": "display_data"
    },
    {
     "data": {
      "text/html": [
       "<div style=\"max-height:1000px;max-width:1500px;overflow:auto;\">\n",
       "<table border=\"1\" class=\"dataframe\">\n",
       "  <thead>\n",
       "    <tr style=\"text-align: right;\">\n",
       "      <th></th>\n",
       "      <th>Sequence</th>\n",
       "      <th>Aspect</th>\n",
       "      <th>GO ID</th>\n",
       "      <th>Name</th>\n",
       "      <th>Total Score</th>\n",
       "      <th>Internal Confidence</th>\n",
       "      <th>Information Content</th>\n",
       "    </tr>\n",
       "  </thead>\n",
       "  <tbody>\n",
       "  </tbody>\n",
       "</table>\n",
       "</div>"
      ],
      "text/plain": [
       "Empty DataFrame\n",
       "Columns: [Sequence, Aspect, GO ID, Name, Total Score, Internal Confidence, Information Content]\n",
       "Index: []"
      ]
     },
     "metadata": {},
     "output_type": "display_data"
    },
    {
     "data": {
      "text/html": [
       "<p>"
      ],
      "text/plain": [
       "<IPython.core.display.HTML object>"
      ]
     },
     "metadata": {},
     "output_type": "display_data"
    },
    {
     "data": {
      "text/html": [
       "<a href=\"https://www.vectorbase.org/Glossina_fuscipes/Gene/Summary?db=core;g=GFUI039894\"> GFUI039894: gene home page</a>"
      ],
      "text/plain": [
       "<IPython.core.display.HTML object>"
      ]
     },
     "metadata": {},
     "output_type": "display_data"
    },
    {
     "data": {
      "text/html": [
       "<a href=\"https://www.vectorbase.org/Glossina_fuscipes/Transcript/ProteinSummary?db=core;g=GFUI039894\"> GFUI039894: protein summary </a>"
      ],
      "text/plain": [
       "<IPython.core.display.HTML object>"
      ]
     },
     "metadata": {},
     "output_type": "display_data"
    },
    {
     "data": {
      "text/html": [
       "<a href=\"https://www.vectorbase.org/Glossina_fuscipes/Gene/Ontology/molecular_function?db=core;g=GFUI039894;oid=molecular_function\"> GFUI039894: gene ontology </a>"
      ],
      "text/plain": [
       "<IPython.core.display.HTML object>"
      ]
     },
     "metadata": {},
     "output_type": "display_data"
    },
    {
     "data": {
      "text/html": [
       "<a href=\"https://www.vectorbase.org/Glossina_fuscipes/Location/View?db=core;g=GFUI039894;r\"> GFUI039894: genome browser </a>"
      ],
      "text/plain": [
       "<IPython.core.display.HTML object>"
      ]
     },
     "metadata": {},
     "output_type": "display_data"
    },
    {
     "data": {
      "text/html": [
       "<hr>"
      ],
      "text/plain": [
       "<IPython.core.display.HTML object>"
      ]
     },
     "metadata": {},
     "output_type": "display_data"
    },
    {
     "data": {
      "text/html": [
       "<h2>GFUI027255</h2>"
      ],
      "text/plain": [
       "<IPython.core.display.HTML object>"
      ]
     },
     "metadata": {},
     "output_type": "display_data"
    },
    {
     "data": {
      "text/html": [
       "<b>SNP location:</b><br>Scaffold34:837224<br>"
      ],
      "text/plain": [
       "<IPython.core.display.HTML object>"
      ]
     },
     "metadata": {},
     "output_type": "display_data"
    },
    {
     "data": {
      "text/html": [
       "<div style=\"max-height:1000px;max-width:1500px;overflow:auto;\">\n",
       "<table border=\"1\" class=\"dataframe\">\n",
       "  <thead>\n",
       "    <tr style=\"text-align: right;\">\n",
       "      <th></th>\n",
       "      <th>Sequence</th>\n",
       "      <th>Aspect</th>\n",
       "      <th>GO ID</th>\n",
       "      <th>Name</th>\n",
       "      <th>Total Score</th>\n",
       "      <th>Internal Confidence</th>\n",
       "      <th>Information Content</th>\n",
       "    </tr>\n",
       "  </thead>\n",
       "  <tbody>\n",
       "    <tr>\n",
       "      <th>27734</th>\n",
       "      <td> GFUI027255-PA</td>\n",
       "      <td> F</td>\n",
       "      <td> GO:0008199</td>\n",
       "      <td> ferric iron binding</td>\n",
       "      <td> 3520.667148</td>\n",
       "      <td> 0.294476</td>\n",
       "      <td> 8.659780</td>\n",
       "    </tr>\n",
       "    <tr>\n",
       "      <th>27735</th>\n",
       "      <td> GFUI027255-PA</td>\n",
       "      <td> C</td>\n",
       "      <td> GO:0005739</td>\n",
       "      <td>       mitochondrion</td>\n",
       "      <td> 1119.291606</td>\n",
       "      <td> 0.695381</td>\n",
       "      <td> 5.085303</td>\n",
       "    </tr>\n",
       "  </tbody>\n",
       "</table>\n",
       "</div>"
      ],
      "text/plain": [
       "            Sequence Aspect       GO ID                 Name  Total Score  \\\n",
       "27734  GFUI027255-PA      F  GO:0008199  ferric iron binding  3520.667148   \n",
       "27735  GFUI027255-PA      C  GO:0005739        mitochondrion  1119.291606   \n",
       "\n",
       "       Internal Confidence  Information Content  \n",
       "27734             0.294476             8.659780  \n",
       "27735             0.695381             5.085303  "
      ]
     },
     "metadata": {},
     "output_type": "display_data"
    },
    {
     "data": {
      "text/html": [
       "<p>"
      ],
      "text/plain": [
       "<IPython.core.display.HTML object>"
      ]
     },
     "metadata": {},
     "output_type": "display_data"
    },
    {
     "data": {
      "text/html": [
       "<a href=\"https://www.vectorbase.org/Glossina_fuscipes/Gene/Summary?db=core;g=GFUI027255\"> GFUI027255: gene home page</a>"
      ],
      "text/plain": [
       "<IPython.core.display.HTML object>"
      ]
     },
     "metadata": {},
     "output_type": "display_data"
    },
    {
     "data": {
      "text/html": [
       "<a href=\"https://www.vectorbase.org/Glossina_fuscipes/Transcript/ProteinSummary?db=core;g=GFUI027255\"> GFUI027255: protein summary </a>"
      ],
      "text/plain": [
       "<IPython.core.display.HTML object>"
      ]
     },
     "metadata": {},
     "output_type": "display_data"
    },
    {
     "data": {
      "text/html": [
       "<a href=\"https://www.vectorbase.org/Glossina_fuscipes/Gene/Ontology/molecular_function?db=core;g=GFUI027255;oid=molecular_function\"> GFUI027255: gene ontology </a>"
      ],
      "text/plain": [
       "<IPython.core.display.HTML object>"
      ]
     },
     "metadata": {},
     "output_type": "display_data"
    },
    {
     "data": {
      "text/html": [
       "<a href=\"https://www.vectorbase.org/Glossina_fuscipes/Location/View?db=core;g=GFUI027255;r\"> GFUI027255: genome browser </a>"
      ],
      "text/plain": [
       "<IPython.core.display.HTML object>"
      ]
     },
     "metadata": {},
     "output_type": "display_data"
    },
    {
     "data": {
      "text/html": [
       "<hr>"
      ],
      "text/plain": [
       "<IPython.core.display.HTML object>"
      ]
     },
     "metadata": {},
     "output_type": "display_data"
    },
    {
     "data": {
      "text/html": [
       "<h2>GFUI050259</h2>"
      ],
      "text/plain": [
       "<IPython.core.display.HTML object>"
      ]
     },
     "metadata": {},
     "output_type": "display_data"
    },
    {
     "data": {
      "text/html": [
       "<b>SNP location:</b><br>Scaffold87:665834<br>"
      ],
      "text/plain": [
       "<IPython.core.display.HTML object>"
      ]
     },
     "metadata": {},
     "output_type": "display_data"
    },
    {
     "data": {
      "text/html": [
       "<div style=\"max-height:1000px;max-width:1500px;overflow:auto;\">\n",
       "<table border=\"1\" class=\"dataframe\">\n",
       "  <thead>\n",
       "    <tr style=\"text-align: right;\">\n",
       "      <th></th>\n",
       "      <th>Sequence</th>\n",
       "      <th>Aspect</th>\n",
       "      <th>GO ID</th>\n",
       "      <th>Name</th>\n",
       "      <th>Total Score</th>\n",
       "      <th>Internal Confidence</th>\n",
       "      <th>Information Content</th>\n",
       "    </tr>\n",
       "  </thead>\n",
       "  <tbody>\n",
       "  </tbody>\n",
       "</table>\n",
       "</div>"
      ],
      "text/plain": [
       "Empty DataFrame\n",
       "Columns: [Sequence, Aspect, GO ID, Name, Total Score, Internal Confidence, Information Content]\n",
       "Index: []"
      ]
     },
     "metadata": {},
     "output_type": "display_data"
    },
    {
     "data": {
      "text/html": [
       "<p>"
      ],
      "text/plain": [
       "<IPython.core.display.HTML object>"
      ]
     },
     "metadata": {},
     "output_type": "display_data"
    },
    {
     "data": {
      "text/html": [
       "<a href=\"https://www.vectorbase.org/Glossina_fuscipes/Gene/Summary?db=core;g=GFUI050259\"> GFUI050259: gene home page</a>"
      ],
      "text/plain": [
       "<IPython.core.display.HTML object>"
      ]
     },
     "metadata": {},
     "output_type": "display_data"
    },
    {
     "data": {
      "text/html": [
       "<a href=\"https://www.vectorbase.org/Glossina_fuscipes/Transcript/ProteinSummary?db=core;g=GFUI050259\"> GFUI050259: protein summary </a>"
      ],
      "text/plain": [
       "<IPython.core.display.HTML object>"
      ]
     },
     "metadata": {},
     "output_type": "display_data"
    },
    {
     "data": {
      "text/html": [
       "<a href=\"https://www.vectorbase.org/Glossina_fuscipes/Gene/Ontology/molecular_function?db=core;g=GFUI050259;oid=molecular_function\"> GFUI050259: gene ontology </a>"
      ],
      "text/plain": [
       "<IPython.core.display.HTML object>"
      ]
     },
     "metadata": {},
     "output_type": "display_data"
    },
    {
     "data": {
      "text/html": [
       "<a href=\"https://www.vectorbase.org/Glossina_fuscipes/Location/View?db=core;g=GFUI050259;r\"> GFUI050259: genome browser </a>"
      ],
      "text/plain": [
       "<IPython.core.display.HTML object>"
      ]
     },
     "metadata": {},
     "output_type": "display_data"
    },
    {
     "data": {
      "text/html": [
       "<hr>"
      ],
      "text/plain": [
       "<IPython.core.display.HTML object>"
      ]
     },
     "metadata": {},
     "output_type": "display_data"
    },
    {
     "data": {
      "text/html": [
       "<h2>GFUI041871</h2>"
      ],
      "text/plain": [
       "<IPython.core.display.HTML object>"
      ]
     },
     "metadata": {},
     "output_type": "display_data"
    },
    {
     "data": {
      "text/html": [
       "<b>SNP location:</b><br>Scaffold619:30097<br>"
      ],
      "text/plain": [
       "<IPython.core.display.HTML object>"
      ]
     },
     "metadata": {},
     "output_type": "display_data"
    },
    {
     "data": {
      "text/html": [
       "<div style=\"max-height:1000px;max-width:1500px;overflow:auto;\">\n",
       "<table border=\"1\" class=\"dataframe\">\n",
       "  <thead>\n",
       "    <tr style=\"text-align: right;\">\n",
       "      <th></th>\n",
       "      <th>Sequence</th>\n",
       "      <th>Aspect</th>\n",
       "      <th>GO ID</th>\n",
       "      <th>Name</th>\n",
       "      <th>Total Score</th>\n",
       "      <th>Internal Confidence</th>\n",
       "      <th>Information Content</th>\n",
       "    </tr>\n",
       "  </thead>\n",
       "  <tbody>\n",
       "  </tbody>\n",
       "</table>\n",
       "</div>"
      ],
      "text/plain": [
       "Empty DataFrame\n",
       "Columns: [Sequence, Aspect, GO ID, Name, Total Score, Internal Confidence, Information Content]\n",
       "Index: []"
      ]
     },
     "metadata": {},
     "output_type": "display_data"
    },
    {
     "data": {
      "text/html": [
       "<p>"
      ],
      "text/plain": [
       "<IPython.core.display.HTML object>"
      ]
     },
     "metadata": {},
     "output_type": "display_data"
    },
    {
     "data": {
      "text/html": [
       "<a href=\"https://www.vectorbase.org/Glossina_fuscipes/Gene/Summary?db=core;g=GFUI041871\"> GFUI041871: gene home page</a>"
      ],
      "text/plain": [
       "<IPython.core.display.HTML object>"
      ]
     },
     "metadata": {},
     "output_type": "display_data"
    },
    {
     "data": {
      "text/html": [
       "<a href=\"https://www.vectorbase.org/Glossina_fuscipes/Transcript/ProteinSummary?db=core;g=GFUI041871\"> GFUI041871: protein summary </a>"
      ],
      "text/plain": [
       "<IPython.core.display.HTML object>"
      ]
     },
     "metadata": {},
     "output_type": "display_data"
    },
    {
     "data": {
      "text/html": [
       "<a href=\"https://www.vectorbase.org/Glossina_fuscipes/Gene/Ontology/molecular_function?db=core;g=GFUI041871;oid=molecular_function\"> GFUI041871: gene ontology </a>"
      ],
      "text/plain": [
       "<IPython.core.display.HTML object>"
      ]
     },
     "metadata": {},
     "output_type": "display_data"
    },
    {
     "data": {
      "text/html": [
       "<a href=\"https://www.vectorbase.org/Glossina_fuscipes/Location/View?db=core;g=GFUI041871;r\"> GFUI041871: genome browser </a>"
      ],
      "text/plain": [
       "<IPython.core.display.HTML object>"
      ]
     },
     "metadata": {},
     "output_type": "display_data"
    },
    {
     "data": {
      "text/html": [
       "<hr>"
      ],
      "text/plain": [
       "<IPython.core.display.HTML object>"
      ]
     },
     "metadata": {},
     "output_type": "display_data"
    },
    {
     "data": {
      "text/html": [
       "<h2>GFUI020865</h2>"
      ],
      "text/plain": [
       "<IPython.core.display.HTML object>"
      ]
     },
     "metadata": {},
     "output_type": "display_data"
    },
    {
     "data": {
      "text/html": [
       "<b>SNP location:</b><br>Scaffold269:294683<br>"
      ],
      "text/plain": [
       "<IPython.core.display.HTML object>"
      ]
     },
     "metadata": {},
     "output_type": "display_data"
    },
    {
     "data": {
      "text/html": [
       "<div style=\"max-height:1000px;max-width:1500px;overflow:auto;\">\n",
       "<table border=\"1\" class=\"dataframe\">\n",
       "  <thead>\n",
       "    <tr style=\"text-align: right;\">\n",
       "      <th></th>\n",
       "      <th>Sequence</th>\n",
       "      <th>Aspect</th>\n",
       "      <th>GO ID</th>\n",
       "      <th>Name</th>\n",
       "      <th>Total Score</th>\n",
       "      <th>Internal Confidence</th>\n",
       "      <th>Information Content</th>\n",
       "    </tr>\n",
       "  </thead>\n",
       "  <tbody>\n",
       "  </tbody>\n",
       "</table>\n",
       "</div>"
      ],
      "text/plain": [
       "Empty DataFrame\n",
       "Columns: [Sequence, Aspect, GO ID, Name, Total Score, Internal Confidence, Information Content]\n",
       "Index: []"
      ]
     },
     "metadata": {},
     "output_type": "display_data"
    },
    {
     "data": {
      "text/html": [
       "<p>"
      ],
      "text/plain": [
       "<IPython.core.display.HTML object>"
      ]
     },
     "metadata": {},
     "output_type": "display_data"
    },
    {
     "data": {
      "text/html": [
       "<a href=\"https://www.vectorbase.org/Glossina_fuscipes/Gene/Summary?db=core;g=GFUI020865\"> GFUI020865: gene home page</a>"
      ],
      "text/plain": [
       "<IPython.core.display.HTML object>"
      ]
     },
     "metadata": {},
     "output_type": "display_data"
    },
    {
     "data": {
      "text/html": [
       "<a href=\"https://www.vectorbase.org/Glossina_fuscipes/Transcript/ProteinSummary?db=core;g=GFUI020865\"> GFUI020865: protein summary </a>"
      ],
      "text/plain": [
       "<IPython.core.display.HTML object>"
      ]
     },
     "metadata": {},
     "output_type": "display_data"
    },
    {
     "data": {
      "text/html": [
       "<a href=\"https://www.vectorbase.org/Glossina_fuscipes/Gene/Ontology/molecular_function?db=core;g=GFUI020865;oid=molecular_function\"> GFUI020865: gene ontology </a>"
      ],
      "text/plain": [
       "<IPython.core.display.HTML object>"
      ]
     },
     "metadata": {},
     "output_type": "display_data"
    },
    {
     "data": {
      "text/html": [
       "<a href=\"https://www.vectorbase.org/Glossina_fuscipes/Location/View?db=core;g=GFUI020865;r\"> GFUI020865: genome browser </a>"
      ],
      "text/plain": [
       "<IPython.core.display.HTML object>"
      ]
     },
     "metadata": {},
     "output_type": "display_data"
    },
    {
     "data": {
      "text/html": [
       "<hr>"
      ],
      "text/plain": [
       "<IPython.core.display.HTML object>"
      ]
     },
     "metadata": {},
     "output_type": "display_data"
    },
    {
     "data": {
      "text/html": [
       "<h2>GFUI041872</h2>"
      ],
      "text/plain": [
       "<IPython.core.display.HTML object>"
      ]
     },
     "metadata": {},
     "output_type": "display_data"
    },
    {
     "data": {
      "text/html": [
       "<b>SNP location:</b><br>Scaffold619:30097<br>"
      ],
      "text/plain": [
       "<IPython.core.display.HTML object>"
      ]
     },
     "metadata": {},
     "output_type": "display_data"
    },
    {
     "data": {
      "text/html": [
       "<div style=\"max-height:1000px;max-width:1500px;overflow:auto;\">\n",
       "<table border=\"1\" class=\"dataframe\">\n",
       "  <thead>\n",
       "    <tr style=\"text-align: right;\">\n",
       "      <th></th>\n",
       "      <th>Sequence</th>\n",
       "      <th>Aspect</th>\n",
       "      <th>GO ID</th>\n",
       "      <th>Name</th>\n",
       "      <th>Total Score</th>\n",
       "      <th>Internal Confidence</th>\n",
       "      <th>Information Content</th>\n",
       "    </tr>\n",
       "  </thead>\n",
       "  <tbody>\n",
       "    <tr>\n",
       "      <th>16830</th>\n",
       "      <td> GFUI041872-PA</td>\n",
       "      <td> F</td>\n",
       "      <td> GO:0004896</td>\n",
       "      <td> cytokine receptor activity</td>\n",
       "      <td> 259.772571</td>\n",
       "      <td> 0.563888</td>\n",
       "      <td> 10.488532</td>\n",
       "    </tr>\n",
       "  </tbody>\n",
       "</table>\n",
       "</div>"
      ],
      "text/plain": [
       "            Sequence Aspect       GO ID                        Name  \\\n",
       "16830  GFUI041872-PA      F  GO:0004896  cytokine receptor activity   \n",
       "\n",
       "       Total Score  Internal Confidence  Information Content  \n",
       "16830   259.772571             0.563888            10.488532  "
      ]
     },
     "metadata": {},
     "output_type": "display_data"
    },
    {
     "data": {
      "text/html": [
       "<p>"
      ],
      "text/plain": [
       "<IPython.core.display.HTML object>"
      ]
     },
     "metadata": {},
     "output_type": "display_data"
    },
    {
     "data": {
      "text/html": [
       "<a href=\"https://www.vectorbase.org/Glossina_fuscipes/Gene/Summary?db=core;g=GFUI041872\"> GFUI041872: gene home page</a>"
      ],
      "text/plain": [
       "<IPython.core.display.HTML object>"
      ]
     },
     "metadata": {},
     "output_type": "display_data"
    },
    {
     "data": {
      "text/html": [
       "<a href=\"https://www.vectorbase.org/Glossina_fuscipes/Transcript/ProteinSummary?db=core;g=GFUI041872\"> GFUI041872: protein summary </a>"
      ],
      "text/plain": [
       "<IPython.core.display.HTML object>"
      ]
     },
     "metadata": {},
     "output_type": "display_data"
    },
    {
     "data": {
      "text/html": [
       "<a href=\"https://www.vectorbase.org/Glossina_fuscipes/Gene/Ontology/molecular_function?db=core;g=GFUI041872;oid=molecular_function\"> GFUI041872: gene ontology </a>"
      ],
      "text/plain": [
       "<IPython.core.display.HTML object>"
      ]
     },
     "metadata": {},
     "output_type": "display_data"
    },
    {
     "data": {
      "text/html": [
       "<a href=\"https://www.vectorbase.org/Glossina_fuscipes/Location/View?db=core;g=GFUI041872;r\"> GFUI041872: genome browser </a>"
      ],
      "text/plain": [
       "<IPython.core.display.HTML object>"
      ]
     },
     "metadata": {},
     "output_type": "display_data"
    },
    {
     "data": {
      "text/html": [
       "<hr>"
      ],
      "text/plain": [
       "<IPython.core.display.HTML object>"
      ]
     },
     "metadata": {},
     "output_type": "display_data"
    }
   ],
   "source": [
    "for gene in top5_environment:\n",
    "    \n",
    "    snps = top5_environment[gene].bed3_hits\n",
    "    present_gene(gene_name=gene, nearby_snps=snps)\n",
    "    "
   ]
  },
  {
   "cell_type": "markdown",
   "metadata": {},
   "source": [
    "# Functional Annotation of the genes associated with the top 5 environment SNPs:"
   ]
  },
  {
   "cell_type": "code",
   "execution_count": null,
   "metadata": {
    "collapsed": true
   },
   "outputs": [],
   "source": []
  }
 ],
 "metadata": {
  "kernelspec": {
   "display_name": "IPython (Python 2)",
   "name": "python2"
  },
  "language_info": {
   "codemirror_mode": {
    "name": "ipython",
    "version": 2
   },
   "mimetype": "text/x-python",
   "name": "python",
   "pygments_lexer": "ipython2"
  },
  "signature": "sha256:55d99af60a97b14f05382178f7c69f0fa4bd2325df9fabb9284f8390c2b12dec"
 },
 "nbformat": 4,
 "nbformat_minor": 0
}