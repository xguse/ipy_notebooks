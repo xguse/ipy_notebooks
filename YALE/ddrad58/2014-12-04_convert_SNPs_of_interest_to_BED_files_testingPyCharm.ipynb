{
 "cells": [
  {
   "cell_type": "code",
   "metadata": {},
   "outputs": [],
   "source": [
    "import csv\n",
    "from spartan.utils.genome_specific.GfusI1 import GfusI1_0"
   ]
  },
  {
   "cell_type": "code",
   "metadata": {},
   "outputs": [],
   "source": [
    "# File Paths\n",
    "## SNPs of interest CSV [ IN FILES ]\n",
    "\n",
    "top1_env = \"/home/gus/remote_mounts/louise/data/projects/ddrad58/SNPs_of_interest/Top01_PopPairwiseOverlap_Environm.csv\"\n",
    "top5_env = \"/home/gus/remote_mounts/louise/data/projects/ddrad58/SNPs_of_interest/Top05_PopPairwiseOverlap_Environm.csv\"\n",
    "top1_infection = \"/home/gus/remote_mounts/louise/data/projects/ddrad58/SNPs_of_interest/Top01_PopPairwiseOverlap_Infection.csv\"\n",
    "top5_infection = \"/home/gus/remote_mounts/louise/data/projects/ddrad58/SNPs_of_interest/Top05_PopPairwiseOverlap_Infection.csv\"\n",
    "\n",
    "## SNPs of interest BED [ OUT FILES ]\n",
    "\n",
    "top1_env_bed = \"/home/gus/remote_mounts/louise/data/projects/ddrad58/SNPs_of_interest/Top01_PopPairwiseOverlap_Environm.bed\"\n",
    "top5_env_bed = \"/home/gus/remote_mounts/louise/data/projects/ddrad58/SNPs_of_interest/Top05_PopPairwiseOverlap_Environm.bed\"\n",
    "top1_infection_bed = \"/home/gus/remote_mounts/louise/data/projects/ddrad58/SNPs_of_interest/Top01_PopPairwiseOverlap_Infection.bed\"\n",
    "top5_infection_bed = \"/home/gus/remote_mounts/louise/data/projects/ddrad58/SNPs_of_interest/Top05_PopPairwiseOverlap_Infection.bed\"\n",
    "\n",
    "## Fasta file for renaming contigs\n",
    "fasta = \"/home/gus/remote_mounts/louise/data/genomes/glossina_fuscipes/assemblies/GfusI1/Glossina-fuscipes-IAEA_SCAFFOLDS_GfusI1.fa\""
   ]
  },
  {
   "cell_type": "markdown",
   "metadata": {},
   "source": [
    "# Functions to convert lines from `in_files` to BED type \n",
    "### In file format:\n",
    "\n",
    "```\n",
    "SNP #\tScaffold\tPosition\n",
    "26123\tKK352174.1\t73419\n",
    "49227\tKK351976.1\t251842\n",
    "1319\tKK351787.1\t898092\n",
    "```\n",
    "\n",
    "- Position derived from VCF so is 1-based index and must be converted to 0-based for BED"
   ]
  },
  {
   "cell_type": "code",
   "execution_count": 3,
   "metadata": {},
   "outputs": [],
   "source": [
    "def make_BED_line(in_line, name_map):\n",
    "    chrom = name_map[in_line[1]]\n",
    "    chromstart = str(int(in_line[2]) - 1)\n",
    "    chromend = str(int(in_line[2]))\n",
    "    \n",
    "    return chrom, chromstart, chromend"
   ]
  },
  {
   "cell_type": "code",
   "execution_count": 4,
   "metadata": {},
   "outputs": [],
   "source": [
    "def get_in_lines(path, skip_first_row=True):\n",
    "    with open(path, 'rb') as csvfile:\n",
    "        reader = csv.reader(csvfile, delimiter='\\t')\n",
    "        if skip_first_row:\n",
    "            reader.next()\n",
    "        for line in reader:\n",
    "            yield line"
   ]
  },
  {
   "cell_type": "code",
   "execution_count": 15,
   "metadata": {},
   "outputs": [],
   "source": [
    "def write_line(out_file, line):\n",
    "    line = \"%s\\n\" % ('\\t'.join(line))\n",
    "    out_file.write(line)"
   ]
  },
  {
   "cell_type": "code",
   "execution_count": 16,
   "metadata": {},
   "outputs": [],
   "source": [
    "def convert_a_file(in_path, out_path, name_map):\n",
    "    with open(out_path, 'wb') as out_file:\n",
    "        \n",
    "        in_lines = get_in_lines(in_path)\n",
    "\n",
    "        for line in in_lines:\n",
    "            bed_data = make_BED_line(line, name_map)\n",
    "            write_line(out_file,bed_data)"
   ]
  },
  {
   "cell_type": "markdown",
   "metadata": {},
   "source": [
    "# Get name_map to rename contigs"
   ]
  },
  {
   "cell_type": "code",
   "execution_count": 17,
   "metadata": {},
   "outputs": [],
   "source": [
    "name_map = GfusI1_0.get_name_map_from_fasta_headers(fasta)"
   ]
  },
  {
   "cell_type": "code",
   "execution_count": 18,
   "metadata": {},
   "outputs": [
    {
     "data": {
      "text/plain": [
       "'Scaffold391'"
      ]
     },
     "execution_count": 18,
     "output_type": "execute_result",
     "metadata": {}
    }
   ],
   "source": [
    "name_map['KK352174.1']"
   ]
  },
  {
   "cell_type": "markdown",
   "metadata": {},
   "source": [
    "# Sanity checking "
   ]
  },
  {
   "cell_type": "code",
   "execution_count": 19,
   "metadata": {},
   "outputs": [],
   "source": [
    "lines = get_in_lines(top1_env)"
   ]
  },
  {
   "cell_type": "code",
   "execution_count": 20,
   "metadata": {},
   "outputs": [],
   "source": [
    "line = lines.next()"
   ]
  },
  {
   "cell_type": "code",
   "execution_count": 21,
   "metadata": {},
   "outputs": [
    {
     "data": {
      "text/plain": [
       "['49227', 'KK351976.1', '251842']"
      ]
     },
     "execution_count": 21,
     "output_type": "execute_result",
     "metadata": {}
    }
   ],
   "source": [
    "line"
   ]
  },
  {
   "cell_type": "code",
   "execution_count": 22,
   "metadata": {},
   "outputs": [
    {
     "data": {
      "text/plain": [
       "('Scaffold191', '251841', '251842')"
      ]
     },
     "execution_count": 22,
     "output_type": "execute_result",
     "metadata": {}
    }
   ],
   "source": [
    "make_BED_line(line,name_map)"
   ]
  },
  {
   "cell_type": "markdown",
   "metadata": {},
   "source": [
    "# Begining conversion "
   ]
  },
  {
   "cell_type": "markdown",
   "metadata": {},
   "source": [
    "### Top 1% Environment SNPs "
   ]
  },
  {
   "cell_type": "code",
   "execution_count": 23,
   "metadata": {},
   "outputs": [
    {
     "name": "stdout",
     "output_type": "stream",
     "text": [
      "SNP #\tScaffold\tPosition\r",
      "\r\n",
      "49227\tKK351976.1\t251842\r",
      "\r\n"
     ]
    }
   ],
   "source": [
    "!head $top1_env"
   ]
  },
  {
   "cell_type": "code",
   "execution_count": 24,
   "metadata": {},
   "outputs": [],
   "source": [
    "convert_a_file(top1_env, top1_env_bed, name_map)"
   ]
  },
  {
   "cell_type": "markdown",
   "metadata": {},
   "source": [
    "### Top 5% Environment SNPs "
   ]
  },
  {
   "cell_type": "code",
   "execution_count": 25,
   "metadata": {},
   "outputs": [
    {
     "name": "stdout",
     "output_type": "stream",
     "text": [
      "SNP #\tScaffold\tPosition\r",
      "\r\n",
      "26123\tKK352174.1\t73419\r",
      "\r\n",
      "49227\tKK351976.1\t251842\r",
      "\r\n",
      "1319\tKK351787.1\t898092\r",
      "\r\n",
      "76179\tKK351889.1\t227984\r",
      "\r\n",
      "86798\tKK352048.1\t29888\r",
      "\r\n",
      "135024\tKK351903.1\t256390\r",
      "\r\n",
      "43167\tKK351851.1\t856904\r",
      "\r\n",
      "128541\tKK351842.1\t109755\r",
      "\r\n",
      "75111\tKK351881.1\t152005\r",
      "\r\n"
     ]
    }
   ],
   "source": [
    "!head $top5_env"
   ]
  },
  {
   "cell_type": "code",
   "execution_count": 26,
   "metadata": {},
   "outputs": [],
   "source": [
    "convert_a_file(top5_env, top5_env_bed, name_map)"
   ]
  },
  {
   "cell_type": "code",
   "execution_count": 27,
   "metadata": {},
   "outputs": [
    {
     "name": "stdout",
     "output_type": "stream",
     "text": [
      "Scaffold391\t73418\t73419\r\n",
      "Scaffold191\t251841\t251842\r\n",
      "Scaffold2\t898091\t898092\r\n",
      "Scaffold104\t227983\t227984\r\n",
      "Scaffold264\t29887\t29888\r\n",
      "Scaffold118\t256389\t256390\r\n",
      "Scaffold66\t856903\t856904\r\n",
      "Scaffold57\t109754\t109755\r\n",
      "Scaffold96\t152004\t152005\r\n",
      "Scaffold280\t268589\t268590\r\n"
     ]
    }
   ],
   "source": [
    "!head $top5_env_bed"
   ]
  },
  {
   "cell_type": "markdown",
   "metadata": {},
   "source": [
    "### Top 1% Infection SNPs "
   ]
  },
  {
   "cell_type": "code",
   "execution_count": 30,
   "metadata": {},
   "outputs": [
    {
     "name": "stdout",
     "output_type": "stream",
     "text": [
      "SNP #\tScaffold\tPosition\r",
      "\r\n",
      "87549\tKK352075.1\t27449\r",
      "\r\n",
      "57202\tKK352168.1\t195052\r",
      "\r\n",
      "99393\tKK351790.1\t1269187\r",
      "\r\n",
      "56393\tKK352156.1\t43299\r",
      "\r\n",
      "75062\tKK351864.1\t874988\r",
      "\r\n",
      "97450\tKK352680.1\t51363\r",
      "\r\n",
      "30917\tKK352381.1\t116614\r",
      "\r\n",
      "63964\tJFJR01010968.1\t263\r",
      "\r\n",
      "57259\tKK352168.1\t307323\r",
      "\r\n"
     ]
    }
   ],
   "source": [
    "!head $top1_infection"
   ]
  },
  {
   "cell_type": "code",
   "execution_count": 31,
   "metadata": {},
   "outputs": [],
   "source": [
    "convert_a_file(top1_infection, top1_infection_bed, name_map)"
   ]
  },
  {
   "cell_type": "code",
   "execution_count": 32,
   "metadata": {},
   "outputs": [
    {
     "name": "stdout",
     "output_type": "stream",
     "text": [
      "Scaffold291\t27448\t27449\r\n",
      "Scaffold385\t195051\t195052\r\n",
      "Scaffold5\t1269186\t1269187\r\n",
      "Scaffold373\t43298\t43299\r\n",
      "Scaffold79\t874987\t874988\r\n",
      "Scaffold912\t51362\t51363\r\n",
      "Scaffold601\t116613\t116614\r\n",
      "JFJR01010968.1\t262\t263\r\n",
      "Scaffold385\t307322\t307323\r\n",
      "Scaffold1030\t15971\t15972\r\n"
     ]
    }
   ],
   "source": [
    "!head $top1_infection_bed"
   ]
  },
  {
   "cell_type": "markdown",
   "metadata": {},
   "source": [
    "### Top 5% Infection SNPs "
   ]
  },
  {
   "cell_type": "code",
   "execution_count": 33,
   "metadata": {},
   "outputs": [
    {
     "name": "stdout",
     "output_type": "stream",
     "text": [
      "SNP #\tScaffold\tPosition\r",
      "\r\n",
      "123121\tKK352518.1\t14263\r",
      "\r\n",
      "27834\tKK352245.1\t241848\r",
      "\r\n",
      "90992\tKK352205.1\t60574\r",
      "\r\n",
      "44182\tKK351858.1\t811198\r",
      "\r\n",
      "34205\tKK352774.1\t756\r",
      "\r\n",
      "62782\tKK352552.1\t12873\r",
      "\r\n",
      "118902\tKK352249.1\t123762\r",
      "\r\n",
      "122466\tKK352440.1\t127097\r",
      "\r\n",
      "44184\tKK351858.1\t811202\r",
      "\r\n"
     ]
    }
   ],
   "source": [
    "!head $top5_infection"
   ]
  },
  {
   "cell_type": "code",
   "execution_count": 34,
   "metadata": {},
   "outputs": [],
   "source": [
    "convert_a_file(top5_infection, top5_infection_bed, name_map)"
   ]
  },
  {
   "cell_type": "code",
   "execution_count": 35,
   "metadata": {},
   "outputs": [
    {
     "name": "stdout",
     "output_type": "stream",
     "text": [
      "Scaffold740\t14262\t14263\r\n",
      "Scaffold462\t241847\t241848\r\n",
      "Scaffold422\t60573\t60574\r\n",
      "Scaffold73\t811197\t811198\r\n",
      "Scaffold1016\t755\t756\r\n",
      "Scaffold775\t12872\t12873\r\n",
      "Scaffold466\t123761\t123762\r\n",
      "Scaffold661\t127096\t127097\r\n",
      "Scaffold73\t811201\t811202\r\n",
      "Scaffold249\t119775\t119776\r\n"
     ]
    }
   ],
   "source": [
    "!head $top5_infection_bed"
   ]
  }
 ],
 "metadata": {
  "kernelspec": {
   "display_name": "IPython (Python 2)",
   "name": "python2"
  },
  "language_info": {
   "codemirror_mode": {
    "name": "ipython",
    "version": 2.0
   },
   "mimetype": "text/x-python",
   "name": "python",
   "pygments_lexer": "ipython2"
  },
  "signature": "sha256:3f588ad7c456bacdf0c8aa006e4f528abe14af2730986ab04d519e83a1f56ce6"
 },
 "nbformat": 4,
 "nbformat_minor": 0
}