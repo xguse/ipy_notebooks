{
 "cells": [
  {
   "cell_type": "markdown",
   "metadata": {},
   "source": [
    "# Purpose:\n",
    "\n",
    "2015-02-05 (Thursday)\n",
    "\n",
    "Provide a way to detect SNP-pairs of a specific distance that are outliers with regard to higher/lower $r^2$ than other SNP-pairs of the same distance.\n",
    "\n",
    "# Process outline:\n",
    "1. for each group of SNPs $x$ bp apart: collect $r^2$ from $\\pm \\sim5$ bp distance window around $x$:  \n",
    "    a. across genome\n",
    "    b. across scaffold\n",
    "2. calculate modified z-score (based on _median absolute deviation_ rather than standard deviation: __MAD is more robust than SD for HTS-type data__)\n",
    "3. flag any SNP-pair with $z \\geq 3.5$\n",
    "4. possibly randomize data and calculate FDR to evaluate performance.\n",
    "    a. perhaps vary the window-size from step 1 to use FDR to chose window-size that minimizes FDR."
   ]
  },
  {
   "cell_type": "markdown",
   "metadata": {},
   "source": [
    "# Implementation:"
   ]
  },
  {
   "cell_type": "markdown",
   "metadata": {},
   "source": [
    "## Imports:"
   ]
  },
  {
   "cell_type": "code",
   "execution_count": 1,
   "metadata": {
    "collapsed": true
   },
   "outputs": [],
   "source": [
    "# plotting imports\n",
    "%matplotlib inline\n",
    "import matplotlib.pyplot as plt\n",
    "import seaborn as sns\n",
    "\n",
    "import ggplot as gp"
   ]
  },
  {
   "cell_type": "code",
   "execution_count": 23,
   "metadata": {
    "collapsed": false
   },
   "outputs": [],
   "source": [
    "import numpy as np\n",
    "import pandas as pd\n",
    "import scipy\n",
    "from scikits import bootstrap as bs\n",
    "import statsmodels.api as sm\n",
    "\n",
    "import munch"
   ]
  },
  {
   "cell_type": "markdown",
   "metadata": {},
   "source": [
    "## File paths:"
   ]
  },
  {
   "cell_type": "code",
   "execution_count": 3,
   "metadata": {
    "collapsed": true
   },
   "outputs": [],
   "source": [
    "# define paths to files\n",
    "ld_table = \"/home/gus/remote_mounts/louise/data/genomes/glossina_fuscipes/annotations/SNPs/plink_out/tsetseFINAL_14Oct2014_f2_53.recode.renamed_scaffolds.maf0_05.vcf/ld/r_none_freqs_dprime.ld\"\n"
   ]
  },
  {
   "cell_type": "code",
   "execution_count": 4,
   "metadata": {
    "collapsed": false
   },
   "outputs": [
    {
     "name": "stderr",
     "output_type": "stream",
     "text": [
      "/home/gus/.virtualenvs/py279/lib/python2.7/site-packages/pandas/io/parsers.py:639: ParserWarning: Falling back to the 'python' engine because the 'c' engine does not support regex separators; you can avoid this warning by specifying engine='python'.\n",
      "  ParserWarning)\n"
     ]
    }
   ],
   "source": [
    "ld = pd.read_table(ld_table, sep=\" +\")\n",
    "ld['R2'] = ld.R**2\n",
    "ld['BP_DELTA'] = abs(ld.BP_A - ld.BP_B)"
   ]
  },
  {
   "cell_type": "code",
   "execution_count": 5,
   "metadata": {
    "collapsed": false
   },
   "outputs": [
    {
     "data": {
      "text/html": [
       "<div style=\"max-height:1000px;max-width:1500px;overflow:auto;\">\n",
       "<table border=\"1\" class=\"dataframe\">\n",
       "  <thead>\n",
       "    <tr style=\"text-align: right;\">\n",
       "      <th></th>\n",
       "      <th>CHR_A</th>\n",
       "      <th>BP_A</th>\n",
       "      <th>SNP_A</th>\n",
       "      <th>MAF_A</th>\n",
       "      <th>CHR_B</th>\n",
       "      <th>BP_B</th>\n",
       "      <th>SNP_B</th>\n",
       "      <th>MAF_B</th>\n",
       "      <th>R</th>\n",
       "      <th>DP</th>\n",
       "      <th>R2</th>\n",
       "      <th>BP_DELTA</th>\n",
       "    </tr>\n",
       "  </thead>\n",
       "  <tbody>\n",
       "    <tr>\n",
       "      <th>0</th>\n",
       "      <td> Scaffold0</td>\n",
       "      <td> 13388</td>\n",
       "      <td> .</td>\n",
       "      <td> 0.278846</td>\n",
       "      <td> Scaffold0</td>\n",
       "      <td> 23408</td>\n",
       "      <td> .</td>\n",
       "      <td> 0.298077</td>\n",
       "      <td> 1.000000</td>\n",
       "      <td> 1</td>\n",
       "      <td> 1.000000</td>\n",
       "      <td> 10020</td>\n",
       "    </tr>\n",
       "    <tr>\n",
       "      <th>1</th>\n",
       "      <td> Scaffold0</td>\n",
       "      <td> 13388</td>\n",
       "      <td> .</td>\n",
       "      <td> 0.278846</td>\n",
       "      <td> Scaffold0</td>\n",
       "      <td> 23418</td>\n",
       "      <td> .</td>\n",
       "      <td> 0.298077</td>\n",
       "      <td> 1.000000</td>\n",
       "      <td> 1</td>\n",
       "      <td> 1.000000</td>\n",
       "      <td> 10030</td>\n",
       "    </tr>\n",
       "    <tr>\n",
       "      <th>2</th>\n",
       "      <td> Scaffold0</td>\n",
       "      <td> 13388</td>\n",
       "      <td> .</td>\n",
       "      <td> 0.278846</td>\n",
       "      <td> Scaffold0</td>\n",
       "      <td> 23421</td>\n",
       "      <td> .</td>\n",
       "      <td> 0.298077</td>\n",
       "      <td> 1.000000</td>\n",
       "      <td> 1</td>\n",
       "      <td> 1.000000</td>\n",
       "      <td> 10033</td>\n",
       "    </tr>\n",
       "    <tr>\n",
       "      <th>3</th>\n",
       "      <td> Scaffold0</td>\n",
       "      <td> 13388</td>\n",
       "      <td> .</td>\n",
       "      <td> 0.278846</td>\n",
       "      <td> Scaffold0</td>\n",
       "      <td> 23431</td>\n",
       "      <td> .</td>\n",
       "      <td> 0.288462</td>\n",
       "      <td> 0.975946</td>\n",
       "      <td> 1</td>\n",
       "      <td> 0.952471</td>\n",
       "      <td> 10043</td>\n",
       "    </tr>\n",
       "    <tr>\n",
       "      <th>4</th>\n",
       "      <td> Scaffold0</td>\n",
       "      <td> 13388</td>\n",
       "      <td> .</td>\n",
       "      <td> 0.278846</td>\n",
       "      <td> Scaffold0</td>\n",
       "      <td> 30544</td>\n",
       "      <td> .</td>\n",
       "      <td> 0.094340</td>\n",
       "      <td> 0.464238</td>\n",
       "      <td> 1</td>\n",
       "      <td> 0.215517</td>\n",
       "      <td> 17156</td>\n",
       "    </tr>\n",
       "  </tbody>\n",
       "</table>\n",
       "</div>"
      ],
      "text/plain": [
       "       CHR_A   BP_A SNP_A     MAF_A      CHR_B   BP_B SNP_B     MAF_B  \\\n",
       "0  Scaffold0  13388     .  0.278846  Scaffold0  23408     .  0.298077   \n",
       "1  Scaffold0  13388     .  0.278846  Scaffold0  23418     .  0.298077   \n",
       "2  Scaffold0  13388     .  0.278846  Scaffold0  23421     .  0.298077   \n",
       "3  Scaffold0  13388     .  0.278846  Scaffold0  23431     .  0.288462   \n",
       "4  Scaffold0  13388     .  0.278846  Scaffold0  30544     .  0.094340   \n",
       "\n",
       "          R  DP        R2  BP_DELTA  \n",
       "0  1.000000   1  1.000000     10020  \n",
       "1  1.000000   1  1.000000     10030  \n",
       "2  1.000000   1  1.000000     10033  \n",
       "3  0.975946   1  0.952471     10043  \n",
       "4  0.464238   1  0.215517     17156  "
      ]
     },
     "execution_count": 5,
     "metadata": {},
     "output_type": "execute_result"
    }
   ],
   "source": [
    "ld.head()"
   ]
  },
  {
   "cell_type": "markdown",
   "metadata": {},
   "source": [
    "# Functions based on `2015-01-28_Plot_PLINK_results_cumulative.ipynb`"
   ]
  },
  {
   "cell_type": "code",
   "execution_count": 6,
   "metadata": {
    "collapsed": true
   },
   "outputs": [],
   "source": [
    "def get_snps_with_same_distance(df, d, win=100):\n",
    "    lbound = d - win\n",
    "    rbound = d + win\n",
    "    \n",
    "    if lbound < 0:\n",
    "        lbound = 0\n",
    "    \n",
    "    return df[(df.BP_DELTA >= lbound) & (df.BP_DELTA <= rbound)]"
   ]
  },
  {
   "cell_type": "code",
   "execution_count": 36,
   "metadata": {
    "collapsed": true
   },
   "outputs": [],
   "source": [
    "def get_snps_grouped_by_distances(df, ds, win=100):\n",
    "    assert isinstance(ds, list)\n",
    "    assert all([isinstance(d, int) for d in ds])\n",
    "    \n",
    "    groups = {}\n",
    "    \n",
    "    for d in ds:\n",
    "        groups[d] = get_snps_with_same_distance(df=df, d=d, win=win)\n",
    "        \n",
    "    return groups"
   ]
  },
  {
   "cell_type": "code",
   "execution_count": 7,
   "metadata": {
    "collapsed": true
   },
   "outputs": [],
   "source": [
    "def collect_window_stat(df, upper_lim=1000, win=10,\n",
    "                        stat_name=\"window_mean_r2\", stat_func=np.mean,\n",
    "                        return_df=True\n",
    "                       ):\n",
    "    \n",
    "    \n",
    "    data = {stat_name: [], \n",
    "            'd': np.array(range(upper_lim))+1}\n",
    "\n",
    "    \n",
    "    for d  in data['d']:\n",
    "        data[stat_name].append(stat_func(get_snps_with_same_distance(df=df, d=d-1, win=win).R2))\n",
    "\n",
    "    if return_df:\n",
    "        return pd.DataFrame(data)\n",
    "    else:\n",
    "        return data"
   ]
  },
  {
   "cell_type": "markdown",
   "metadata": {},
   "source": [
    "# Explore data a bit more"
   ]
  },
  {
   "cell_type": "code",
   "execution_count": 8,
   "metadata": {
    "collapsed": false
   },
   "outputs": [
    {
     "data": {
      "text/html": [
       "<div style=\"max-height:1000px;max-width:1500px;overflow:auto;\">\n",
       "<table border=\"1\" class=\"dataframe\">\n",
       "  <thead>\n",
       "    <tr style=\"text-align: right;\">\n",
       "      <th></th>\n",
       "      <th>CHR_A</th>\n",
       "      <th>BP_A</th>\n",
       "      <th>SNP_A</th>\n",
       "      <th>MAF_A</th>\n",
       "      <th>CHR_B</th>\n",
       "      <th>BP_B</th>\n",
       "      <th>SNP_B</th>\n",
       "      <th>MAF_B</th>\n",
       "      <th>R</th>\n",
       "      <th>DP</th>\n",
       "      <th>R2</th>\n",
       "      <th>BP_DELTA</th>\n",
       "    </tr>\n",
       "  </thead>\n",
       "  <tbody>\n",
       "    <tr>\n",
       "      <th>157887</th>\n",
       "      <td>  Scaffold48</td>\n",
       "      <td>  467632</td>\n",
       "      <td> .</td>\n",
       "      <td> 0.076923</td>\n",
       "      <td>  Scaffold48</td>\n",
       "      <td>  468632</td>\n",
       "      <td> .</td>\n",
       "      <td> 0.103774</td>\n",
       "      <td>-0.099281</td>\n",
       "      <td> 1.000000</td>\n",
       "      <td> 0.009857</td>\n",
       "      <td> 1000</td>\n",
       "    </tr>\n",
       "    <tr>\n",
       "      <th>184881</th>\n",
       "      <td> Scaffold117</td>\n",
       "      <td>  281622</td>\n",
       "      <td> .</td>\n",
       "      <td> 0.405660</td>\n",
       "      <td> Scaffold117</td>\n",
       "      <td>  282622</td>\n",
       "      <td> .</td>\n",
       "      <td> 0.414894</td>\n",
       "      <td> 0.708485</td>\n",
       "      <td> 0.740488</td>\n",
       "      <td> 0.501951</td>\n",
       "      <td> 1000</td>\n",
       "    </tr>\n",
       "    <tr>\n",
       "      <th>220859</th>\n",
       "      <td> Scaffold334</td>\n",
       "      <td>  125425</td>\n",
       "      <td> .</td>\n",
       "      <td> 0.075472</td>\n",
       "      <td> Scaffold334</td>\n",
       "      <td>  126425</td>\n",
       "      <td> .</td>\n",
       "      <td> 0.117647</td>\n",
       "      <td>-0.106525</td>\n",
       "      <td> 1.000000</td>\n",
       "      <td> 0.011348</td>\n",
       "      <td> 1000</td>\n",
       "    </tr>\n",
       "    <tr>\n",
       "      <th>258721</th>\n",
       "      <td>   Scaffold1</td>\n",
       "      <td> 1713984</td>\n",
       "      <td> .</td>\n",
       "      <td> 0.100000</td>\n",
       "      <td>   Scaffold1</td>\n",
       "      <td> 1714984</td>\n",
       "      <td> .</td>\n",
       "      <td> 0.396226</td>\n",
       "      <td>-0.304911</td>\n",
       "      <td> 1.000000</td>\n",
       "      <td> 0.092971</td>\n",
       "      <td> 1000</td>\n",
       "    </tr>\n",
       "    <tr>\n",
       "      <th>265848</th>\n",
       "      <td>   Scaffold3</td>\n",
       "      <td> 2182147</td>\n",
       "      <td> .</td>\n",
       "      <td> 0.490566</td>\n",
       "      <td>   Scaffold3</td>\n",
       "      <td> 2183147</td>\n",
       "      <td> .</td>\n",
       "      <td> 0.229167</td>\n",
       "      <td> 0.021497</td>\n",
       "      <td> 0.038612</td>\n",
       "      <td> 0.000462</td>\n",
       "      <td> 1000</td>\n",
       "    </tr>\n",
       "  </tbody>\n",
       "</table>\n",
       "</div>"
      ],
      "text/plain": [
       "              CHR_A     BP_A SNP_A     MAF_A        CHR_B     BP_B SNP_B  \\\n",
       "157887   Scaffold48   467632     .  0.076923   Scaffold48   468632     .   \n",
       "184881  Scaffold117   281622     .  0.405660  Scaffold117   282622     .   \n",
       "220859  Scaffold334   125425     .  0.075472  Scaffold334   126425     .   \n",
       "258721    Scaffold1  1713984     .  0.100000    Scaffold1  1714984     .   \n",
       "265848    Scaffold3  2182147     .  0.490566    Scaffold3  2183147     .   \n",
       "\n",
       "           MAF_B         R        DP        R2  BP_DELTA  \n",
       "157887  0.103774 -0.099281  1.000000  0.009857      1000  \n",
       "184881  0.414894  0.708485  0.740488  0.501951      1000  \n",
       "220859  0.117647 -0.106525  1.000000  0.011348      1000  \n",
       "258721  0.396226 -0.304911  1.000000  0.092971      1000  \n",
       "265848  0.229167  0.021497  0.038612  0.000462      1000  "
      ]
     },
     "execution_count": 8,
     "metadata": {},
     "output_type": "execute_result"
    }
   ],
   "source": [
    "snps = get_snps_with_same_distance(df=ld, d=1000, win=0)\n",
    "snps.head()"
   ]
  },
  {
   "cell_type": "code",
   "execution_count": 9,
   "metadata": {
    "collapsed": false
   },
   "outputs": [
    {
     "data": {
      "text/plain": [
       "19"
      ]
     },
     "execution_count": 9,
     "metadata": {},
     "output_type": "execute_result"
    }
   ],
   "source": [
    "len(snps)"
   ]
  },
  {
   "cell_type": "markdown",
   "metadata": {},
   "source": [
    "## How many members does each distance group have?"
   ]
  },
  {
   "cell_type": "code",
   "execution_count": 10,
   "metadata": {
    "collapsed": false
   },
   "outputs": [],
   "source": [
    "members_per_distance = collect_window_stat(df=ld, upper_lim=1000, win=1,\n",
    "                                           stat_name=\"window_members\", stat_func=len)"
   ]
  },
  {
   "cell_type": "code",
   "execution_count": 11,
   "metadata": {
    "collapsed": false
   },
   "outputs": [
    {
     "data": {
      "text/html": [
       "<div style=\"max-height:1000px;max-width:1500px;overflow:auto;\">\n",
       "<table border=\"1\" class=\"dataframe\">\n",
       "  <thead>\n",
       "    <tr style=\"text-align: right;\">\n",
       "      <th></th>\n",
       "      <th>d</th>\n",
       "      <th>window_members</th>\n",
       "    </tr>\n",
       "  </thead>\n",
       "  <tbody>\n",
       "    <tr>\n",
       "      <th>0</th>\n",
       "      <td> 1</td>\n",
       "      <td> 2091</td>\n",
       "    </tr>\n",
       "    <tr>\n",
       "      <th>1</th>\n",
       "      <td> 2</td>\n",
       "      <td> 3631</td>\n",
       "    </tr>\n",
       "    <tr>\n",
       "      <th>2</th>\n",
       "      <td> 3</td>\n",
       "      <td> 5056</td>\n",
       "    </tr>\n",
       "    <tr>\n",
       "      <th>3</th>\n",
       "      <td> 4</td>\n",
       "      <td> 4241</td>\n",
       "    </tr>\n",
       "    <tr>\n",
       "      <th>4</th>\n",
       "      <td> 5</td>\n",
       "      <td> 4040</td>\n",
       "    </tr>\n",
       "  </tbody>\n",
       "</table>\n",
       "</div>"
      ],
      "text/plain": [
       "   d  window_members\n",
       "0  1            2091\n",
       "1  2            3631\n",
       "2  3            5056\n",
       "3  4            4241\n",
       "4  5            4040"
      ]
     },
     "execution_count": 11,
     "metadata": {},
     "output_type": "execute_result"
    }
   ],
   "source": [
    "members_per_distance.head()"
   ]
  },
  {
   "cell_type": "code",
   "execution_count": 12,
   "metadata": {
    "collapsed": false
   },
   "outputs": [
    {
     "data": {
      "image/png": "[encoded data removed]",
      "text/plain": [
       "<matplotlib.figure.Figure at 0x7f53a1120610>"
      ]
     },
     "metadata": {},
     "output_type": "display_data"
    },
    {
     "data": {
      "text/plain": [
       "<ggplot: (8749838805793)>"
      ]
     },
     "execution_count": 12,
     "metadata": {},
     "output_type": "execute_result"
    }
   ],
   "source": [
    "gp.ggplot(gp.aes(x='d', y='window_members', ymin=0, ymax='window_members'), data=members_per_distance) \\\n",
    "+ gp.geom_area(fill='coral') #+ gp.geom_point(color='lightblue') "
   ]
  },
  {
   "cell_type": "code",
   "execution_count": 13,
   "metadata": {
    "collapsed": true
   },
   "outputs": [],
   "source": [
    "# def bootstrap_choose(X, n=None):\n",
    "#     \"\"\" Bootstrap resample an array_like\n",
    "#     Parameters\n",
    "#     ----------\n",
    "#     X : array_like\n",
    "#       data to resample\n",
    "#     n : int, optional\n",
    "#       length of resampled array, equal to len(X) if n==None\n",
    "#     Results\n",
    "#     -------\n",
    "#     returns X_choices\n",
    "#     \"\"\"\n",
    "#     if n == None:\n",
    "#         n = len(X)\n",
    "        \n",
    "#     choice_i = np.floor(np.random.rand(n)*len(X)).astype(int)\n",
    "#     X_choices = X[choice_i]\n",
    "#     return X_choices\n",
    "\n",
    "# def get_bootstrap_population(X, n=None):\n",
    "#     pass\n",
    "\n",
    "def bootstrap(data, num_samples, statistic, alpha):\n",
    "    \"\"\"Returns bootstrap estimate of 100.0*(1-alpha) CI for statistic.\"\"\"\n",
    "    n = len(data)\n",
    "    idx = np.random.randint(0, n, (num_samples, n))\n",
    "    samples = data[idx]\n",
    "    stat = np.sort(statistic(samples, 1))\n",
    "    return (stat[int((alpha/2.0)*num_samples)],\n",
    "            stat[int((1-alpha/2.0)*num_samples)])"
   ]
  },
  {
   "cell_type": "code",
   "execution_count": 37,
   "metadata": {
    "collapsed": false
   },
   "outputs": [],
   "source": [
    "snp_groups_by_distance = get_snps_grouped_by_distances(df=ld, ds=[1,10,100,1000,10000,100000], win=1)"
   ]
  },
  {
   "cell_type": "code",
   "execution_count": 39,
   "metadata": {
    "collapsed": false
   },
   "outputs": [
    {
     "data": {
      "text/plain": [
       "126     1\n",
       "387     2\n",
       "1242    1\n",
       "1386    1\n",
       "1413    1\n",
       "1764    2\n",
       "2160    1\n",
       "2304    2\n",
       "2457    1\n",
       "2637    2\n",
       "2781    1\n",
       "2952    2\n",
       "3366    1\n",
       "3438    1\n",
       "3708    1\n",
       "...\n",
       "605066    1\n",
       "605339    2\n",
       "605350    1\n",
       "605360    1\n",
       "605601    1\n",
       "605670    2\n",
       "605683    2\n",
       "605788    1\n",
       "605791    1\n",
       "605792    2\n",
       "605793    1\n",
       "605838    2\n",
       "606168    2\n",
       "606246    2\n",
       "606393    1\n",
       "Name: BP_DELTA, Length: 3631, dtype: int64"
      ]
     },
     "execution_count": 39,
     "metadata": {},
     "output_type": "execute_result"
    }
   ],
   "source": [
    "snp_groups_by_distance[1].BP_DELTA"
   ]
  },
  {
   "cell_type": "markdown",
   "metadata": {},
   "source": [
    "## How do bootstrap confidence intervals change as distance increases and member numbers decrease?"
   ]
  },
  {
   "cell_type": "code",
   "execution_count": 49,
   "metadata": {
    "collapsed": false
   },
   "outputs": [],
   "source": [
    "def get_med_mad_R2_data_for_1_group(df, distance):\n",
    "    mm_data = munch.Munch()\n",
    "    \n",
    "    mm_data.distance = distance\n",
    "    \n",
    "    mm_data.med = df.R2.median()\n",
    "    mm_data.mad = sm.robust.mad(df.R2)\n",
    "    \n",
    "    mm_data.med_ci_l,mm_data.med_ci_h = bs.ci(data=df.R2,\n",
    "                                              statfunction=np.median,\n",
    "                                              alpha=0.05,\n",
    "                                              n_samples=10000,\n",
    "                                              method='bca',\n",
    "                                              output='lowhigh',\n",
    "                                              epsilon=0.001, multi=None)\n",
    "\n",
    "    mm_data.mad_ci_l,mm_data.mad_ci_h = bs.ci(data=df.R2, \n",
    "                                              statfunction=sm.robust.mad, \n",
    "                                              alpha=0.05, \n",
    "                                              n_samples=10000, \n",
    "                                              method='bca', \n",
    "                                              output='lowhigh', \n",
    "                                              epsilon=0.001, multi=None)\n",
    "\n",
    "\n",
    "    return mm_data\n"
   ]
  },
  {
   "cell_type": "code",
   "execution_count": 46,
   "metadata": {
    "collapsed": true
   },
   "outputs": [],
   "source": [
    "bootstrap_results_template = \\\n",
    "\"\"\"\n",
    "DISTANCE: {dist}\n",
    "\n",
    "MEDIAN: {median}\n",
    "CI: {median_low_ci},{median_hi_ci}\n",
    "RANGE(MEDIAN): {median_range}\n",
    "\n",
    "MAD: {mad}\n",
    "CI: {mad_low_ci},{mad_hi_ci}\n",
    "RANGE(MAD): {mad_range}\n",
    "\"\"\""
   ]
  },
  {
   "cell_type": "code",
   "execution_count": 50,
   "metadata": {
    "collapsed": false
   },
   "outputs": [
    {
     "name": "stdout",
     "output_type": "stream",
     "text": [
      "\n",
      "DISTANCE: 1\n",
      "\n",
      "MEDIAN: 0.741601712569\n",
      "CI: 0.646666872336,0.835714102276\n",
      "RANGE(MEDIAN): 0.18904722994\n",
      "\n",
      "MAD: 0.383101874203\n",
      "CI: 0.243570636435,0.523852478946\n",
      "RANGE(MAD): 0.280281842511\n",
      "\n"
     ]
    }
   ],
   "source": [
    "mm_data = get_med_mad_R2_data_for_1_group(df=snp_groups_by_distance[1],\n",
    "                                          distance=1)\n",
    "\n",
    "print bootstrap_results_template.format(dist=mm_data.distance,\n",
    "                                        median=mm_data.med,\n",
    "                                        median_low_ci=mm_data.med_ci_l,\n",
    "                                        median_hi_ci=mm_data.med_ci_h,\n",
    "                                        median_range=mm_data.med_ci_h - mm_data.med_ci_l,\n",
    "                                        mad=mm_data.mad,\n",
    "                                        mad_low_ci=mm_data.mad_ci_l,\n",
    "                                        mad_hi_ci=mm_data.mad_ci_h,\n",
    "                                        mad_range=mm_data.mad_ci_h - mm_data.mad_ci_l\n",
    "                                       )"
   ]
  },
  {
   "cell_type": "code",
   "execution_count": 54,
   "metadata": {
    "collapsed": false
   },
   "outputs": [
    {
     "name": "stdout",
     "output_type": "stream",
     "text": [
      "Munch(distance=1, mad=0.38310187420324898, mad_ci_h=0.52385247894616926, mad_ci_l=0.24357063643478705, med=0.7416017125689999, med_ci_h=0.83571410227599985, med_ci_l=0.64666687233600018)\n"
     ]
    }
   ],
   "source": [
    "print mm_data"
   ]
  },
  {
   "cell_type": "code",
   "execution_count": 53,
   "metadata": {
    "collapsed": false
   },
   "outputs": [
    {
     "ename": "ValueError",
     "evalue": "If using all scalar values, you must pass an index",
     "output_type": "error",
     "traceback": [
      "\u001b[1;31m---------------------------------------------------------------------------\u001b[0m",
      "\u001b[1;31mValueError\u001b[0m                                Traceback (most recent call last)",
      "\u001b[1;32m<ipython-input-53-5afc46a079a5>\u001b[0m in \u001b[0;36m<module>\u001b[1;34m()\u001b[0m\n\u001b[1;32m----> 1\u001b[1;33m \u001b[0mmm_df\u001b[0m \u001b[1;33m=\u001b[0m \u001b[0mpd\u001b[0m\u001b[1;33m.\u001b[0m\u001b[0mDataFrame\u001b[0m\u001b[1;33m(\u001b[0m\u001b[0mmm_data\u001b[0m\u001b[1;33m)\u001b[0m\u001b[1;33m\u001b[0m\u001b[0m\n\u001b[0m\u001b[0;32m      2\u001b[0m \u001b[0mmm_df\u001b[0m\u001b[1;33m\u001b[0m\u001b[0m\n",
      "\u001b[1;32m/home/gus/.virtualenvs/py279/lib/python2.7/site-packages/pandas/core/frame.pyc\u001b[0m in \u001b[0;36m__init__\u001b[1;34m(self, data, index, columns, dtype, copy)\u001b[0m\n\u001b[0;32m    206\u001b[0m                                  dtype=dtype, copy=copy)\n\u001b[0;32m    207\u001b[0m         \u001b[1;32melif\u001b[0m \u001b[0misinstance\u001b[0m\u001b[1;33m(\u001b[0m\u001b[0mdata\u001b[0m\u001b[1;33m,\u001b[0m \u001b[0mdict\u001b[0m\u001b[1;33m)\u001b[0m\u001b[1;33m:\u001b[0m\u001b[1;33m\u001b[0m\u001b[0m\n\u001b[1;32m--> 208\u001b[1;33m             \u001b[0mmgr\u001b[0m \u001b[1;33m=\u001b[0m \u001b[0mself\u001b[0m\u001b[1;33m.\u001b[0m\u001b[0m_init_dict\u001b[0m\u001b[1;33m(\u001b[0m\u001b[0mdata\u001b[0m\u001b[1;33m,\u001b[0m \u001b[0mindex\u001b[0m\u001b[1;33m,\u001b[0m \u001b[0mcolumns\u001b[0m\u001b[1;33m,\u001b[0m \u001b[0mdtype\u001b[0m\u001b[1;33m=\u001b[0m\u001b[0mdtype\u001b[0m\u001b[1;33m)\u001b[0m\u001b[1;33m\u001b[0m\u001b[0m\n\u001b[0m\u001b[0;32m    209\u001b[0m         \u001b[1;32melif\u001b[0m \u001b[0misinstance\u001b[0m\u001b[1;33m(\u001b[0m\u001b[0mdata\u001b[0m\u001b[1;33m,\u001b[0m \u001b[0mma\u001b[0m\u001b[1;33m.\u001b[0m\u001b[0mMaskedArray\u001b[0m\u001b[1;33m)\u001b[0m\u001b[1;33m:\u001b[0m\u001b[1;33m\u001b[0m\u001b[0m\n\u001b[0;32m    210\u001b[0m             \u001b[1;32mimport\u001b[0m \u001b[0mnumpy\u001b[0m\u001b[1;33m.\u001b[0m\u001b[0mma\u001b[0m\u001b[1;33m.\u001b[0m\u001b[0mmrecords\u001b[0m \u001b[1;32mas\u001b[0m \u001b[0mmrecords\u001b[0m\u001b[1;33m\u001b[0m\u001b[0m\n",
      "\u001b[1;32m/home/gus/.virtualenvs/py279/lib/python2.7/site-packages/pandas/core/frame.pyc\u001b[0m in \u001b[0;36m_init_dict\u001b[1;34m(self, data, index, columns, dtype)\u001b[0m\n\u001b[0;32m    334\u001b[0m \u001b[1;33m\u001b[0m\u001b[0m\n\u001b[0;32m    335\u001b[0m         return _arrays_to_mgr(arrays, data_names, index, columns,\n\u001b[1;32m--> 336\u001b[1;33m                               dtype=dtype)\n\u001b[0m\u001b[0;32m    337\u001b[0m \u001b[1;33m\u001b[0m\u001b[0m\n\u001b[0;32m    338\u001b[0m     def _init_ndarray(self, values, index, columns, dtype=None,\n",
      "\u001b[1;32m/home/gus/.virtualenvs/py279/lib/python2.7/site-packages/pandas/core/frame.pyc\u001b[0m in \u001b[0;36m_arrays_to_mgr\u001b[1;34m(arrays, arr_names, index, columns, dtype)\u001b[0m\n\u001b[0;32m   4615\u001b[0m     \u001b[1;31m# figure out the index, if necessary\u001b[0m\u001b[1;33m\u001b[0m\u001b[1;33m\u001b[0m\u001b[0m\n\u001b[0;32m   4616\u001b[0m     \u001b[1;32mif\u001b[0m \u001b[0mindex\u001b[0m \u001b[1;32mis\u001b[0m \u001b[0mNone\u001b[0m\u001b[1;33m:\u001b[0m\u001b[1;33m\u001b[0m\u001b[0m\n\u001b[1;32m-> 4617\u001b[1;33m         \u001b[0mindex\u001b[0m \u001b[1;33m=\u001b[0m \u001b[0mextract_index\u001b[0m\u001b[1;33m(\u001b[0m\u001b[0marrays\u001b[0m\u001b[1;33m)\u001b[0m\u001b[1;33m\u001b[0m\u001b[0m\n\u001b[0m\u001b[0;32m   4618\u001b[0m     \u001b[1;32melse\u001b[0m\u001b[1;33m:\u001b[0m\u001b[1;33m\u001b[0m\u001b[0m\n\u001b[0;32m   4619\u001b[0m         \u001b[0mindex\u001b[0m \u001b[1;33m=\u001b[0m \u001b[0m_ensure_index\u001b[0m\u001b[1;33m(\u001b[0m\u001b[0mindex\u001b[0m\u001b[1;33m)\u001b[0m\u001b[1;33m\u001b[0m\u001b[0m\n",
      "\u001b[1;32m/home/gus/.virtualenvs/py279/lib/python2.7/site-packages/pandas/core/frame.pyc\u001b[0m in \u001b[0;36mextract_index\u001b[1;34m(data)\u001b[0m\n\u001b[0;32m   4654\u001b[0m \u001b[1;33m\u001b[0m\u001b[0m\n\u001b[0;32m   4655\u001b[0m         \u001b[1;32mif\u001b[0m \u001b[1;32mnot\u001b[0m \u001b[0mindexes\u001b[0m \u001b[1;32mand\u001b[0m \u001b[1;32mnot\u001b[0m \u001b[0mraw_lengths\u001b[0m\u001b[1;33m:\u001b[0m\u001b[1;33m\u001b[0m\u001b[0m\n\u001b[1;32m-> 4656\u001b[1;33m             raise ValueError('If using all scalar values, you must pass'\n\u001b[0m\u001b[0;32m   4657\u001b[0m                              ' an index')\n\u001b[0;32m   4658\u001b[0m \u001b[1;33m\u001b[0m\u001b[0m\n",
      "\u001b[1;31mValueError\u001b[0m: If using all scalar values, you must pass an index"
     ]
    }
   ],
   "source": [
    "mm_df = pd.DataFrame(mm_data)\n",
    "mm_df"
   ]
  },
  {
   "cell_type": "markdown",
   "metadata": {},
   "source": [
    "## Plot how the CIs for median and MAD change with distance\n",
    "\n",
    "- x-axis: $d$ (distance)\n",
    "- y-axis: $r^2$ (LD)\n",
    "\n",
    "1. Convert `mm_data` to `Dataframe` and use the column headers to plot to lines with upper/lower shaded bounds.\n",
    "2. `ggplot` with two line geoms and correponding fill geoms."
   ]
  },
  {
   "cell_type": "code",
   "execution_count": 28,
   "metadata": {
    "collapsed": false
   },
   "outputs": [
    {
     "name": "stdout",
     "output_type": "stream",
     "text": [
      "\n",
      "DISTANCE: 1\n",
      "\n",
      "MEDIAN: 0.741601712569\n",
      "CI: 0.646666872336,0.835714102276\n",
      "RANGE(MEDIAN): 0.18904722994\n",
      "\n",
      "MAD: 0.383101874203\n",
      "CI: 0.243570636435,0.523105989285\n",
      "RANGE(MAD): 0.27953535285\n",
      "\n"
     ]
    }
   ],
   "source": [
    "gp.ggplot(gp.aes(x='d', y='window_members', ymin=0, ymax='window_members'), data=mm_data) \\\n",
    "+ gp.geom_area(fill='coral') #+ gp.geom_point(color='lightblue') "
   ]
  },
  {
   "cell_type": "code",
   "execution_count": null,
   "metadata": {
    "collapsed": false
   },
   "outputs": [],
   "source": [
    "window_members_999_95CI = bootstrap(data=np.array(med1000.window_members[999]),\n",
    "                                             num_samples=10000,\n",
    "                                             statistic=lambda x: x.mad(),\n",
    "                                             alpha=0.05\n",
    "                                            )\n",
    "print med1000.window_members[999].median()\n",
    "rs_med1000_window_members_999_95CI"
   ]
  },
  {
   "cell_type": "code",
   "execution_count": null,
   "metadata": {
    "collapsed": true
   },
   "outputs": [],
   "source": [
    "bs."
   ]
  },
  {
   "cell_type": "code",
   "execution_count": null,
   "metadata": {
    "collapsed": true
   },
   "outputs": [],
   "source": []
  }
 ],
 "metadata": {
  "kernelspec": {
   "display_name": "IPython (Python 2)",
   "name": "python2"
  },
  "language_info": {
   "codemirror_mode": {
    "name": "ipython",
    "version": 2
   },
   "file_extension": ".py",
   "mimetype": "text/x-python",
   "name": "python",
   "nbconvert_exporter": "python",
   "pygments_lexer": "ipython2",
   "version": "2.7.9"
  }
 },
 "nbformat": 4,
 "nbformat_minor": 0
}