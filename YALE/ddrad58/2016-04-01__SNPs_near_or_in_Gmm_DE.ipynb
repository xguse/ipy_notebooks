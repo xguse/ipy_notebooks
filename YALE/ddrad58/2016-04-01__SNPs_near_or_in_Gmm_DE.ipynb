{
 "cells": [
  {
   "cell_type": "code",
   "execution_count": 1,
   "metadata": {
    "collapsed": true
   },
   "outputs": [],
   "source": [
    "%matplotlib inline"
   ]
  },
  {
   "cell_type": "code",
   "execution_count": 2,
   "metadata": {
    "collapsed": false
   },
   "outputs": [],
   "source": [
    "from __future__ import unicode_literals\n",
    "from __future__ import division\n",
    "from __future__ import print_function\n",
    "\n",
    "import os\n",
    "\n",
    "import numpy as np\n",
    "import pandas as pd\n",
    "pd.set_option('display.max_columns', 60)\n",
    "\n",
    "from dask import dataframe as dd\n",
    "from dask.dot import dot_graph\n",
    "from dask.diagnostics import ProgressBar"
   ]
  },
  {
   "cell_type": "markdown",
   "metadata": {},
   "source": [
    "# Files"
   ]
  },
  {
   "cell_type": "code",
   "execution_count": 3,
   "metadata": {
    "collapsed": true
   },
   "outputs": [],
   "source": [
    "k_nearest_1_ = \"/home/gus/MEGAsync/zim/main/Yale/Collaborations/Hongyu-tsetse/gmm_to_gff_pipeline/pipeline_runs/gmm_to_gff_testing_v2/get_nearest_k_features/snp_list_MS_1_with_p_value.nearest.bed\"\n",
    "\n",
    "ids_with_diff_expr_ = \"/home/gus/MEGAsync/zim/main/Yale/Collaborations/Hongyu-tsetse/gmm_to_gff_pipeline/pipeline_runs/gmm_to_gff_testing_v2/make_id_table_with_diff_expr/ids_with_diff_expr.csv\""
   ]
  },
  {
   "cell_type": "markdown",
   "metadata": {},
   "source": [
    "# Functions"
   ]
  },
  {
   "cell_type": "code",
   "execution_count": 4,
   "metadata": {
    "collapsed": true
   },
   "outputs": [],
   "source": [
    "def load_k_nearest_bed_by_distance(path, distance, keep_cols=None, rename_cols=None):\n",
    "    \"\"\"\"\"\"\n",
    "    headers = [\"SNP_chrom\",\n",
    "           \"SNP_start\",\n",
    "           \"SNP_end\",\n",
    "           \"feature_set_name\",\n",
    "           \"chrom\",\n",
    "           \"chromStart\",\n",
    "           \"chromEnd\",\n",
    "           \"name\",\n",
    "           \"score\",\n",
    "           \"strand\",\n",
    "           \"thickStart\",\n",
    "           \"thickEnd\",\n",
    "           \"itemRgb\",\n",
    "           \"blockCount\",\n",
    "           \"blockSizes\",\n",
    "           \"blockStarts\",\n",
    "           \"distance\"\n",
    "          ]\n",
    "    k_nearest = pd.read_csv(path, sep=\"\\t\", names=headers)\n",
    "\n",
    "    filtered_by_d = k_nearest.query(\"\"\" abs(distance) <= {distance} \"\"\".format(distance=distance))\n",
    "    \n",
    "    if rename_cols is not None:\n",
    "        assert isinstance(rename_cols,dict)\n",
    "        filtered_by_d = filtered_by_d.rename(columns=rename_cols).copy()\n",
    "    \n",
    "    if keep_cols is not None:\n",
    "        assert isinstance(keep_cols,list)\n",
    "        return filtered_by_d[keep_cols]\n",
    "    else:\n",
    "        return filtered_by_d\n",
    "\n",
    "def load_de_genes_tx(path, chunksize=1000):\n",
    "    \"\"\"\"\"\"\n",
    "    de = pd.read_csv(path, chunksize=chunksize)\n",
    "    return de\n",
    "\n",
    "\n",
    "def join_k_nearest_with_de(knearest_paths, de_path, result_path):\n",
    "    \"\"\"\"\"\"\n",
    "    \n",
    "    if not isinstance(knearest_paths,list):\n",
    "        knearest_paths =[knearest_paths]\n",
    "    \n",
    "    results = []\n",
    "    \n",
    "    for knearest in knearest_paths:\n",
    "    \n",
    "        kn_df = load_k_nearest_bed_by_distance(path=knearest,\n",
    "                                               distance=0,\n",
    "                                               keep_cols=[\"SNP_chrom\",\"SNP_start\",\"SNP_end\",\"feature_set_name\",\"proximal_id\"],\n",
    "                                               rename_cols={\"name\": \"proximal_id\"}\n",
    "                                              )\n",
    "        \n",
    "        for name, group in kn_df.groupby('feature_set_name'):\n",
    "\n",
    "\n",
    "            for chunk in load_de_genes_tx(path=ids_with_diff_expr_, chunksize=10000):\n",
    "\n",
    "                chunk_x = group.merge(right=chunk, how='inner',\n",
    "                         on=None, left_on=\"proximal_id\", right_on=\"gene_id_internal\",\n",
    "                         left_index=False, right_index=False)\n",
    "                results.append(chunk_x.copy())\n",
    "    \n",
    "    results = pd.concat(results)\n",
    "    \n",
    "    results.to_csv(result_path, index=False)\n",
    "    "
   ]
  },
  {
   "cell_type": "markdown",
   "metadata": {},
   "source": [
    "# Load inputs"
   ]
  },
  {
   "cell_type": "code",
   "execution_count": 19,
   "metadata": {
    "collapsed": false
   },
   "outputs": [],
   "source": [
    "k_nearest_1 = load_k_nearest_bed_by_distance(path=k_nearest_1_,\n",
    "                                             distance=0,\n",
    "                                             keep_cols=[\"SNP_chrom\",\"SNP_start\",\"SNP_end\",\"feature_set_name\",\"proximal_id\"],\n",
    "                                             rename_cols={\"name\": \"proximal_id\"}\n",
    "                                            )\n",
    "ids_with_diff_expr_chunk1 = load_de_genes_tx(path=ids_with_diff_expr_, chunksize=10).next()"
   ]
  },
  {
   "cell_type": "code",
   "execution_count": 20,
   "metadata": {
    "collapsed": false
   },
   "outputs": [
    {
     "data": {
      "text/html": [
       "<div>\n",
       "<table border=\"1\" class=\"dataframe\">\n",
       "  <thead>\n",
       "    <tr style=\"text-align: right;\">\n",
       "      <th></th>\n",
       "      <th>SNP_chrom</th>\n",
       "      <th>SNP_start</th>\n",
       "      <th>SNP_end</th>\n",
       "      <th>feature_set_name</th>\n",
       "      <th>proximal_id</th>\n",
       "    </tr>\n",
       "  </thead>\n",
       "  <tbody>\n",
       "    <tr>\n",
       "      <th>17</th>\n",
       "      <td>Scaffold106</td>\n",
       "      <td>349186</td>\n",
       "      <td>349187</td>\n",
       "      <td>official_annotations</td>\n",
       "      <td>GFUI002898</td>\n",
       "    </tr>\n",
       "    <tr>\n",
       "      <th>136</th>\n",
       "      <td>Scaffold2</td>\n",
       "      <td>1652016</td>\n",
       "      <td>1652017</td>\n",
       "      <td>novel_mapped_tx</td>\n",
       "      <td>TCONS_00070877</td>\n",
       "    </tr>\n",
       "    <tr>\n",
       "      <th>156</th>\n",
       "      <td>Scaffold22</td>\n",
       "      <td>1291804</td>\n",
       "      <td>1291805</td>\n",
       "      <td>novel_mapped_tx</td>\n",
       "      <td>TCONS_00034486</td>\n",
       "    </tr>\n",
       "    <tr>\n",
       "      <th>157</th>\n",
       "      <td>Scaffold22</td>\n",
       "      <td>1291804</td>\n",
       "      <td>1291805</td>\n",
       "      <td>novel_mapped_tx</td>\n",
       "      <td>TCONS_00034487</td>\n",
       "    </tr>\n",
       "    <tr>\n",
       "      <th>158</th>\n",
       "      <td>Scaffold22</td>\n",
       "      <td>1291804</td>\n",
       "      <td>1291805</td>\n",
       "      <td>novel_mapped_tx</td>\n",
       "      <td>TCONS_00034488</td>\n",
       "    </tr>\n",
       "  </tbody>\n",
       "</table>\n",
       "</div>"
      ],
      "text/plain": [
       "       SNP_chrom  SNP_start  SNP_end      feature_set_name     proximal_id\n",
       "17   Scaffold106     349186   349187  official_annotations      GFUI002898\n",
       "136    Scaffold2    1652016  1652017       novel_mapped_tx  TCONS_00070877\n",
       "156   Scaffold22    1291804  1291805       novel_mapped_tx  TCONS_00034486\n",
       "157   Scaffold22    1291804  1291805       novel_mapped_tx  TCONS_00034487\n",
       "158   Scaffold22    1291804  1291805       novel_mapped_tx  TCONS_00034488"
      ]
     },
     "execution_count": 20,
     "metadata": {},
     "output_type": "execute_result"
    }
   ],
   "source": [
    "k_nearest_1.head()"
   ]
  },
  {
   "cell_type": "code",
   "execution_count": 21,
   "metadata": {
    "collapsed": true
   },
   "outputs": [],
   "source": [
    "# reshape_k_nearest(k_nearest_1)"
   ]
  },
  {
   "cell_type": "code",
   "execution_count": 22,
   "metadata": {
    "collapsed": false
   },
   "outputs": [
    {
     "data": {
      "text/html": [
       "<div>\n",
       "<table border=\"1\" class=\"dataframe\">\n",
       "  <thead>\n",
       "    <tr style=\"text-align: right;\">\n",
       "      <th></th>\n",
       "      <th>SNP_chrom</th>\n",
       "      <th>SNP_start</th>\n",
       "      <th>SNP_end</th>\n",
       "      <th>feature_set_name</th>\n",
       "      <th>proximal_id</th>\n",
       "    </tr>\n",
       "  </thead>\n",
       "  <tbody>\n",
       "    <tr>\n",
       "      <th>17</th>\n",
       "      <td>Scaffold106</td>\n",
       "      <td>349186</td>\n",
       "      <td>349187</td>\n",
       "      <td>official_annotations</td>\n",
       "      <td>GFUI002898</td>\n",
       "    </tr>\n",
       "    <tr>\n",
       "      <th>136</th>\n",
       "      <td>Scaffold2</td>\n",
       "      <td>1652016</td>\n",
       "      <td>1652017</td>\n",
       "      <td>novel_mapped_tx</td>\n",
       "      <td>TCONS_00070877</td>\n",
       "    </tr>\n",
       "    <tr>\n",
       "      <th>156</th>\n",
       "      <td>Scaffold22</td>\n",
       "      <td>1291804</td>\n",
       "      <td>1291805</td>\n",
       "      <td>novel_mapped_tx</td>\n",
       "      <td>TCONS_00034486</td>\n",
       "    </tr>\n",
       "    <tr>\n",
       "      <th>157</th>\n",
       "      <td>Scaffold22</td>\n",
       "      <td>1291804</td>\n",
       "      <td>1291805</td>\n",
       "      <td>novel_mapped_tx</td>\n",
       "      <td>TCONS_00034487</td>\n",
       "    </tr>\n",
       "    <tr>\n",
       "      <th>158</th>\n",
       "      <td>Scaffold22</td>\n",
       "      <td>1291804</td>\n",
       "      <td>1291805</td>\n",
       "      <td>novel_mapped_tx</td>\n",
       "      <td>TCONS_00034488</td>\n",
       "    </tr>\n",
       "  </tbody>\n",
       "</table>\n",
       "</div>"
      ],
      "text/plain": [
       "       SNP_chrom  SNP_start  SNP_end      feature_set_name     proximal_id\n",
       "17   Scaffold106     349186   349187  official_annotations      GFUI002898\n",
       "136    Scaffold2    1652016  1652017       novel_mapped_tx  TCONS_00070877\n",
       "156   Scaffold22    1291804  1291805       novel_mapped_tx  TCONS_00034486\n",
       "157   Scaffold22    1291804  1291805       novel_mapped_tx  TCONS_00034487\n",
       "158   Scaffold22    1291804  1291805       novel_mapped_tx  TCONS_00034488"
      ]
     },
     "execution_count": 22,
     "metadata": {},
     "output_type": "execute_result"
    }
   ],
   "source": [
    "k_nearest_1.head()"
   ]
  },
  {
   "cell_type": "code",
   "execution_count": 23,
   "metadata": {
    "collapsed": false
   },
   "outputs": [
    {
     "data": {
      "text/html": [
       "<div>\n",
       "<table border=\"1\" class=\"dataframe\">\n",
       "  <thead>\n",
       "    <tr style=\"text-align: right;\">\n",
       "      <th></th>\n",
       "      <th>de_id</th>\n",
       "      <th>xloc_id</th>\n",
       "      <th>tcons_id</th>\n",
       "      <th>gene_id_external</th>\n",
       "      <th>gene_id_internal</th>\n",
       "      <th>lg2_fc</th>\n",
       "      <th>p</th>\n",
       "      <th>fdr</th>\n",
       "      <th>comparison</th>\n",
       "      <th>program</th>\n",
       "    </tr>\n",
       "  </thead>\n",
       "  <tbody>\n",
       "    <tr>\n",
       "      <th>0</th>\n",
       "      <td>EDGR|SG_0000001</td>\n",
       "      <td>XLOC_020808</td>\n",
       "      <td>TCONS_00042534</td>\n",
       "      <td>GMOY005976</td>\n",
       "      <td>GFUI020234</td>\n",
       "      <td>4.531178</td>\n",
       "      <td>2.718538e-81</td>\n",
       "      <td>3.327762e-77</td>\n",
       "      <td>SG</td>\n",
       "      <td>edger</td>\n",
       "    </tr>\n",
       "    <tr>\n",
       "      <th>1</th>\n",
       "      <td>EDGR|SG_0000001</td>\n",
       "      <td>XLOC_020808</td>\n",
       "      <td>TCONS_00042535</td>\n",
       "      <td>GMOY005976</td>\n",
       "      <td>GFUI020234</td>\n",
       "      <td>4.531178</td>\n",
       "      <td>2.718538e-81</td>\n",
       "      <td>3.327762e-77</td>\n",
       "      <td>SG</td>\n",
       "      <td>edger</td>\n",
       "    </tr>\n",
       "    <tr>\n",
       "      <th>2</th>\n",
       "      <td>EDGR|SG_0000001</td>\n",
       "      <td>XLOC_020808</td>\n",
       "      <td>TCONS_00042536</td>\n",
       "      <td>GMOY005976</td>\n",
       "      <td>GFUI020234</td>\n",
       "      <td>4.531178</td>\n",
       "      <td>2.718538e-81</td>\n",
       "      <td>3.327762e-77</td>\n",
       "      <td>SG</td>\n",
       "      <td>edger</td>\n",
       "    </tr>\n",
       "    <tr>\n",
       "      <th>3</th>\n",
       "      <td>EDGR|SG_0000002</td>\n",
       "      <td>XLOC_038272</td>\n",
       "      <td>TCONS_00078943</td>\n",
       "      <td>GMOY010998</td>\n",
       "      <td>GFUI030635</td>\n",
       "      <td>4.571477</td>\n",
       "      <td>3.478463e-75</td>\n",
       "      <td>2.128994e-71</td>\n",
       "      <td>SG</td>\n",
       "      <td>edger</td>\n",
       "    </tr>\n",
       "    <tr>\n",
       "      <th>4</th>\n",
       "      <td>EDGR|SG_0000003</td>\n",
       "      <td>XLOC_025906</td>\n",
       "      <td>TCONS_00052530</td>\n",
       "      <td>GMOY007362</td>\n",
       "      <td>GFUI035588</td>\n",
       "      <td>4.637093</td>\n",
       "      <td>5.930163e-72</td>\n",
       "      <td>2.419704e-68</td>\n",
       "      <td>SG</td>\n",
       "      <td>edger</td>\n",
       "    </tr>\n",
       "  </tbody>\n",
       "</table>\n",
       "</div>"
      ],
      "text/plain": [
       "             de_id      xloc_id        tcons_id gene_id_external  \\\n",
       "0  EDGR|SG_0000001  XLOC_020808  TCONS_00042534       GMOY005976   \n",
       "1  EDGR|SG_0000001  XLOC_020808  TCONS_00042535       GMOY005976   \n",
       "2  EDGR|SG_0000001  XLOC_020808  TCONS_00042536       GMOY005976   \n",
       "3  EDGR|SG_0000002  XLOC_038272  TCONS_00078943       GMOY010998   \n",
       "4  EDGR|SG_0000003  XLOC_025906  TCONS_00052530       GMOY007362   \n",
       "\n",
       "  gene_id_internal    lg2_fc             p           fdr comparison program  \n",
       "0       GFUI020234  4.531178  2.718538e-81  3.327762e-77         SG   edger  \n",
       "1       GFUI020234  4.531178  2.718538e-81  3.327762e-77         SG   edger  \n",
       "2       GFUI020234  4.531178  2.718538e-81  3.327762e-77         SG   edger  \n",
       "3       GFUI030635  4.571477  3.478463e-75  2.128994e-71         SG   edger  \n",
       "4       GFUI035588  4.637093  5.930163e-72  2.419704e-68         SG   edger  "
      ]
     },
     "execution_count": 23,
     "metadata": {},
     "output_type": "execute_result"
    }
   ],
   "source": [
    "ids_with_diff_expr_chunk1.head()"
   ]
  },
  {
   "cell_type": "markdown",
   "metadata": {},
   "source": [
    "# Join tables"
   ]
  },
  {
   "cell_type": "markdown",
   "metadata": {},
   "source": [
    "### via DASK"
   ]
  },
  {
   "cell_type": "code",
   "execution_count": 10,
   "metadata": {
    "collapsed": false
   },
   "outputs": [],
   "source": [
    "# k_nearest_1_d = dd.from_pandas(k_nearest_1,npartitions=1)"
   ]
  },
  {
   "cell_type": "code",
   "execution_count": 11,
   "metadata": {
    "collapsed": false
   },
   "outputs": [],
   "source": [
    "# x = k_nearest_1_d.merge( right=ids_with_diff_expr, how='left',\n",
    "#          on=None, left_on=\"official_annotations\", right_on=\"gene_id_internal\",\n",
    "#          left_index=False, right_index=False)"
   ]
  },
  {
   "cell_type": "code",
   "execution_count": 12,
   "metadata": {
    "collapsed": true
   },
   "outputs": [],
   "source": [
    "# # Start a progress bar for all computations\n",
    "# pbar = ProgressBar()\n",
    "# pbar.register()"
   ]
  },
  {
   "cell_type": "code",
   "execution_count": 13,
   "metadata": {
    "collapsed": false
   },
   "outputs": [],
   "source": [
    "# df = x.compute()"
   ]
  },
  {
   "cell_type": "code",
   "execution_count": 14,
   "metadata": {
    "collapsed": false
   },
   "outputs": [],
   "source": [
    "# df.shape"
   ]
  },
  {
   "cell_type": "markdown",
   "metadata": {
    "collapsed": true
   },
   "source": [
    "### via pandas-chunks"
   ]
  },
  {
   "cell_type": "code",
   "execution_count": 33,
   "metadata": {
    "collapsed": false
   },
   "outputs": [
    {
     "name": "stdout",
     "output_type": "stream",
     "text": [
      "Processing group: novel_mapped_tx\n",
      "Processing group: official_annotations\n"
     ]
    }
   ],
   "source": [
    "out_file = \"/tmp/test-chunks/first_feature_set.csv\"\n",
    "\n",
    "!rm $out_file\n",
    "\n",
    "\n",
    "\n",
    "for name, group in k_nearest_1.groupby('feature_set_name'):\n",
    "    print(\"Processing group: {g}\".format(g=name))\n",
    "    \n",
    "    \n",
    "    for chunk in load_de_genes_tx(path=ids_with_diff_expr_, chunksize=10000):\n",
    "        \n",
    "        with open(out_file, 'a+') as out:\n",
    "            \n",
    "            chunk_x = group.merge(right=chunk, how='inner',\n",
    "                     on=None, left_on=\"proximal_id\", right_on=\"gene_id_internal\",\n",
    "                     left_index=False, right_index=False)\n",
    "            chunk_x.to_csv(out, header=False, index=False)\n",
    "            \n",
    "#             if i % 100 == 0:\n",
    "#                 print(i)\n",
    "                \n",
    "#             i += 1\n",
    "        "
   ]
  },
  {
   "cell_type": "code",
   "execution_count": 44,
   "metadata": {
    "collapsed": false
   },
   "outputs": [],
   "source": [
    "def join_k_nearest_with_de(knearest_paths, de_path, result_path):\n",
    "    \"\"\"\"\"\"\n",
    "    \n",
    "    if not isinstance(knearest_paths,list):\n",
    "        knearest_paths =[knearest_paths]\n",
    "    \n",
    "    results = []\n",
    "    \n",
    "    for knearest in knearest_paths:\n",
    "    \n",
    "        kn_df = load_k_nearest_bed_by_distance(path=knearest,\n",
    "                                               distance=0,\n",
    "                                               keep_cols=[\"SNP_chrom\",\"SNP_start\",\"SNP_end\",\"feature_set_name\",\"proximal_id\"],\n",
    "                                               rename_cols={\"name\": \"proximal_id\"}\n",
    "                                              )\n",
    "        \n",
    "        for name, group in kn_df.groupby('feature_set_name'):\n",
    "\n",
    "\n",
    "            for chunk in load_de_genes_tx(path=ids_with_diff_expr_, chunksize=10000):\n",
    "\n",
    "                chunk_x = group.merge(right=chunk, how='inner',\n",
    "                         on=None, left_on=\"proximal_id\", right_on=\"gene_id_internal\",\n",
    "                         left_index=False, right_index=False)\n",
    "                results.append(chunk_x.copy())\n",
    "    \n",
    "    results = pd.concat(results)\n",
    "    \n",
    "    results.to_csv(result_path, index=False)\n",
    "        "
   ]
  },
  {
   "cell_type": "code",
   "execution_count": 45,
   "metadata": {
    "collapsed": true
   },
   "outputs": [],
   "source": [
    "out_file = \"/tmp/test-chunks/first_feature_set.csv\"\n",
    "\n",
    "!rm $out_file\n",
    "\n",
    "join_k_nearest_with_de(knearest_paths=k_nearest_1_, de_path=ids_with_diff_expr_, result_path=out_file)"
   ]
  },
  {
   "cell_type": "code",
   "execution_count": null,
   "metadata": {
    "collapsed": true
   },
   "outputs": [],
   "source": []
  }
 ],
 "metadata": {
  "kernelspec": {
   "display_name": "Python2 (stack2)",
   "language": "python",
   "name": "stack2"
  },
  "language_info": {
   "codemirror_mode": {
    "name": "ipython",
    "version": 2
   },
   "file_extension": ".py",
   "mimetype": "text/x-python",
   "name": "python",
   "nbconvert_exporter": "python",
   "pygments_lexer": "ipython2",
   "version": "2.7.11"
  }
 },
 "nbformat": 4,
 "nbformat_minor": 0
}
