{
 "cells": [
  {
   "cell_type": "markdown",
   "metadata": {},
   "source": [
    "## Imports:"
   ]
  },
  {
   "cell_type": "code",
   "execution_count": 1,
   "metadata": {
    "collapsed": false
   },
   "outputs": [],
   "source": [
    "from __future__ import unicode_literals\n",
    "from __future__ import division\n",
    "from __future__ import print_function\n",
    "\n",
    "import os\n",
    "\n",
    "import numpy as np\n",
    "import pandas as pd\n",
    "pd.set_option('display.max_columns', 60)\n",
    "# import tables as h5\n",
    "\n",
    "import itertools as it\n",
    "from collections import defaultdict\n",
    "\n",
    "import numpy as np\n",
    "import pandas as pd\n",
    "\n",
    "xls_writer = pd.ExcelWriter\n",
    "\n",
    "import pybedtools as pbt\n",
    "\n",
    "import scipy\n",
    "import statsmodels.api as sm\n",
    "import statsmodels.stats.multitest as smm\n",
    "\n",
    "import munch\n",
    "\n",
    "from spartan.utils.genome_specific.GfusI1 import GfusI1_0\n",
    "from spartan.utils.fastas import ParseFastA\n"
   ]
  },
  {
   "cell_type": "markdown",
   "metadata": {},
   "source": [
    "## File paths:"
   ]
  },
  {
   "cell_type": "code",
   "execution_count": 2,
   "metadata": {
    "collapsed": false
   },
   "outputs": [],
   "source": [
    "# define paths to files\n",
    "\n",
    "tx_fasta = \"/home/gus/remote_mounts/louise/data/genomes/glossina_morsitans/cufflinks_transcripts.fa\"\n",
    "\n",
    "ortholog_table = \"/home/gus/MEGAsync/zim/main/Yale/Collaborations/Hongyu-tsetse/Find_Gff_sequences_from_Gmm_RNA-seq_transcriptome/existing_genes/vectorbase_orthologs_GMOY_GFUI.csv\"\n",
    "\n",
    "tx_orthos_out = \"/home/gus/MEGAsync/zim/main/Yale/Collaborations/Hongyu-tsetse/Find_Gff_sequences_from_Gmm_RNA-seq_transcriptome/existing_genes/xiaoqing_orthologous_Tx_GMOY_GFUI.xls\""
   ]
  },
  {
   "cell_type": "code",
   "execution_count": null,
   "metadata": {
    "collapsed": true
   },
   "outputs": [],
   "source": []
  },
  {
   "cell_type": "code",
   "execution_count": 14,
   "metadata": {
    "collapsed": false
   },
   "outputs": [],
   "source": [
    "tx_names = ParseFastA(tx_fasta, key=lambda h: tuple(h.lstrip('>').split(' gene='))).to_dict().keys()"
   ]
  },
  {
   "cell_type": "code",
   "execution_count": 18,
   "metadata": {
    "collapsed": false
   },
   "outputs": [
    {
     "data": {
      "text/html": [
       "<div>\n",
       "<table border=\"1\" class=\"dataframe\">\n",
       "  <thead>\n",
       "    <tr style=\"text-align: right;\">\n",
       "      <th></th>\n",
       "      <th>tx_tcons</th>\n",
       "      <th>tx_gene</th>\n",
       "    </tr>\n",
       "  </thead>\n",
       "  <tbody>\n",
       "    <tr>\n",
       "      <th>0</th>\n",
       "      <td>TCONS_00022941</td>\n",
       "      <td>GMOY008319</td>\n",
       "    </tr>\n",
       "    <tr>\n",
       "      <th>1</th>\n",
       "      <td>TCONS_00025678</td>\n",
       "      <td>GMOY009334</td>\n",
       "    </tr>\n",
       "    <tr>\n",
       "      <th>2</th>\n",
       "      <td>TCONS_00011714</td>\n",
       "      <td>GMOY004150</td>\n",
       "    </tr>\n",
       "    <tr>\n",
       "      <th>3</th>\n",
       "      <td>TCONS_00012654</td>\n",
       "      <td>GMOY004487</td>\n",
       "    </tr>\n",
       "    <tr>\n",
       "      <th>4</th>\n",
       "      <td>TCONS_00032104</td>\n",
       "      <td>GMOY011517</td>\n",
       "    </tr>\n",
       "  </tbody>\n",
       "</table>\n",
       "</div>"
      ],
      "text/plain": [
       "         tx_tcons     tx_gene\n",
       "0  TCONS_00022941  GMOY008319\n",
       "1  TCONS_00025678  GMOY009334\n",
       "2  TCONS_00011714  GMOY004150\n",
       "3  TCONS_00012654  GMOY004487\n",
       "4  TCONS_00032104  GMOY011517"
      ]
     },
     "execution_count": 18,
     "metadata": {},
     "output_type": "execute_result"
    }
   ],
   "source": [
    "tx_df = pd.DataFrame(tx_names, columns=['tx_tcons','tx_gene'])\n",
    "tx_df.head()"
   ]
  },
  {
   "cell_type": "code",
   "execution_count": 20,
   "metadata": {
    "collapsed": false
   },
   "outputs": [
    {
     "data": {
      "text/html": [
       "<div>\n",
       "<table border=\"1\" class=\"dataframe\">\n",
       "  <thead>\n",
       "    <tr style=\"text-align: right;\">\n",
       "      <th></th>\n",
       "      <th>Gene stable ID</th>\n",
       "      <th>Glossina fuscipes fuscipes gene stable ID</th>\n",
       "      <th>Homology type</th>\n",
       "      <th>% identity</th>\n",
       "      <th>Glossina fuscipes fuscipes % identity</th>\n",
       "      <th>dN</th>\n",
       "      <th>dS</th>\n",
       "      <th>Orthology confidence [0 low, 1 high]</th>\n",
       "    </tr>\n",
       "  </thead>\n",
       "  <tbody>\n",
       "    <tr>\n",
       "      <th>0</th>\n",
       "      <td>GMOY005425</td>\n",
       "      <td>GFUI009881</td>\n",
       "      <td>ortholog_one2one</td>\n",
       "      <td>90</td>\n",
       "      <td>47</td>\n",
       "      <td>0.0635</td>\n",
       "      <td>0.2015</td>\n",
       "      <td>1</td>\n",
       "    </tr>\n",
       "    <tr>\n",
       "      <th>1</th>\n",
       "      <td>GMOY005426</td>\n",
       "      <td>GFUI009872</td>\n",
       "      <td>ortholog_one2one</td>\n",
       "      <td>84</td>\n",
       "      <td>91</td>\n",
       "      <td>0.0402</td>\n",
       "      <td>0.1808</td>\n",
       "      <td>1</td>\n",
       "    </tr>\n",
       "    <tr>\n",
       "      <th>2</th>\n",
       "      <td>GMOY005427</td>\n",
       "      <td>GFUI009879</td>\n",
       "      <td>ortholog_one2one</td>\n",
       "      <td>79</td>\n",
       "      <td>45</td>\n",
       "      <td>0.1107</td>\n",
       "      <td>0.1997</td>\n",
       "      <td>1</td>\n",
       "    </tr>\n",
       "    <tr>\n",
       "      <th>3</th>\n",
       "      <td>GMOY005428</td>\n",
       "      <td>GFUI009867</td>\n",
       "      <td>ortholog_one2one</td>\n",
       "      <td>87</td>\n",
       "      <td>91</td>\n",
       "      <td>0.0477</td>\n",
       "      <td>0.1389</td>\n",
       "      <td>1</td>\n",
       "    </tr>\n",
       "    <tr>\n",
       "      <th>4</th>\n",
       "      <td>GMOY005430</td>\n",
       "      <td>GFUI009870</td>\n",
       "      <td>ortholog_one2one</td>\n",
       "      <td>99</td>\n",
       "      <td>98</td>\n",
       "      <td>0.0049</td>\n",
       "      <td>0.2207</td>\n",
       "      <td>1</td>\n",
       "    </tr>\n",
       "  </tbody>\n",
       "</table>\n",
       "</div>"
      ],
      "text/plain": [
       "  Gene stable ID Glossina fuscipes fuscipes gene stable ID     Homology type  \\\n",
       "0     GMOY005425                                GFUI009881  ortholog_one2one   \n",
       "1     GMOY005426                                GFUI009872  ortholog_one2one   \n",
       "2     GMOY005427                                GFUI009879  ortholog_one2one   \n",
       "3     GMOY005428                                GFUI009867  ortholog_one2one   \n",
       "4     GMOY005430                                GFUI009870  ortholog_one2one   \n",
       "\n",
       "   % identity  Glossina fuscipes fuscipes % identity      dN      dS  \\\n",
       "0          90                                     47  0.0635  0.2015   \n",
       "1          84                                     91  0.0402  0.1808   \n",
       "2          79                                     45  0.1107  0.1997   \n",
       "3          87                                     91  0.0477  0.1389   \n",
       "4          99                                     98  0.0049  0.2207   \n",
       "\n",
       "   Orthology confidence [0 low, 1 high]  \n",
       "0                                     1  \n",
       "1                                     1  \n",
       "2                                     1  \n",
       "3                                     1  \n",
       "4                                     1  "
      ]
     },
     "execution_count": 20,
     "metadata": {},
     "output_type": "execute_result"
    }
   ],
   "source": [
    "orthos = pd.read_csv(ortholog_table)\n",
    "orthos.head()"
   ]
  },
  {
   "cell_type": "code",
   "execution_count": 21,
   "metadata": {
    "collapsed": false
   },
   "outputs": [
    {
     "data": {
      "text/html": [
       "<div>\n",
       "<table border=\"1\" class=\"dataframe\">\n",
       "  <thead>\n",
       "    <tr style=\"text-align: right;\">\n",
       "      <th></th>\n",
       "      <th>tx_tcons</th>\n",
       "      <th>tx_gene</th>\n",
       "      <th>Gene stable ID</th>\n",
       "      <th>Glossina fuscipes fuscipes gene stable ID</th>\n",
       "      <th>Homology type</th>\n",
       "      <th>% identity</th>\n",
       "      <th>Glossina fuscipes fuscipes % identity</th>\n",
       "      <th>dN</th>\n",
       "      <th>dS</th>\n",
       "      <th>Orthology confidence [0 low, 1 high]</th>\n",
       "    </tr>\n",
       "  </thead>\n",
       "  <tbody>\n",
       "    <tr>\n",
       "      <th>0</th>\n",
       "      <td>TCONS_00022941</td>\n",
       "      <td>GMOY008319</td>\n",
       "      <td>GMOY008319</td>\n",
       "      <td>GFUI001502</td>\n",
       "      <td>ortholog_one2one</td>\n",
       "      <td>97</td>\n",
       "      <td>97</td>\n",
       "      <td>0.0123</td>\n",
       "      <td>0.1856</td>\n",
       "      <td>1</td>\n",
       "    </tr>\n",
       "    <tr>\n",
       "      <th>1</th>\n",
       "      <td>TCONS_00022942</td>\n",
       "      <td>GMOY008319</td>\n",
       "      <td>GMOY008319</td>\n",
       "      <td>GFUI001502</td>\n",
       "      <td>ortholog_one2one</td>\n",
       "      <td>97</td>\n",
       "      <td>97</td>\n",
       "      <td>0.0123</td>\n",
       "      <td>0.1856</td>\n",
       "      <td>1</td>\n",
       "    </tr>\n",
       "    <tr>\n",
       "      <th>2</th>\n",
       "      <td>TCONS_00022939</td>\n",
       "      <td>GMOY008319</td>\n",
       "      <td>GMOY008319</td>\n",
       "      <td>GFUI001502</td>\n",
       "      <td>ortholog_one2one</td>\n",
       "      <td>97</td>\n",
       "      <td>97</td>\n",
       "      <td>0.0123</td>\n",
       "      <td>0.1856</td>\n",
       "      <td>1</td>\n",
       "    </tr>\n",
       "    <tr>\n",
       "      <th>3</th>\n",
       "      <td>TCONS_00022940</td>\n",
       "      <td>GMOY008319</td>\n",
       "      <td>GMOY008319</td>\n",
       "      <td>GFUI001502</td>\n",
       "      <td>ortholog_one2one</td>\n",
       "      <td>97</td>\n",
       "      <td>97</td>\n",
       "      <td>0.0123</td>\n",
       "      <td>0.1856</td>\n",
       "      <td>1</td>\n",
       "    </tr>\n",
       "    <tr>\n",
       "      <th>4</th>\n",
       "      <td>TCONS_00011714</td>\n",
       "      <td>GMOY004150</td>\n",
       "      <td>GMOY004150</td>\n",
       "      <td>GFUI006585</td>\n",
       "      <td>ortholog_one2one</td>\n",
       "      <td>95</td>\n",
       "      <td>92</td>\n",
       "      <td>0.0298</td>\n",
       "      <td>0.1396</td>\n",
       "      <td>1</td>\n",
       "    </tr>\n",
       "  </tbody>\n",
       "</table>\n",
       "</div>"
      ],
      "text/plain": [
       "         tx_tcons     tx_gene Gene stable ID  \\\n",
       "0  TCONS_00022941  GMOY008319     GMOY008319   \n",
       "1  TCONS_00022942  GMOY008319     GMOY008319   \n",
       "2  TCONS_00022939  GMOY008319     GMOY008319   \n",
       "3  TCONS_00022940  GMOY008319     GMOY008319   \n",
       "4  TCONS_00011714  GMOY004150     GMOY004150   \n",
       "\n",
       "  Glossina fuscipes fuscipes gene stable ID     Homology type  % identity  \\\n",
       "0                                GFUI001502  ortholog_one2one          97   \n",
       "1                                GFUI001502  ortholog_one2one          97   \n",
       "2                                GFUI001502  ortholog_one2one          97   \n",
       "3                                GFUI001502  ortholog_one2one          97   \n",
       "4                                GFUI006585  ortholog_one2one          95   \n",
       "\n",
       "   Glossina fuscipes fuscipes % identity      dN      dS  \\\n",
       "0                                     97  0.0123  0.1856   \n",
       "1                                     97  0.0123  0.1856   \n",
       "2                                     97  0.0123  0.1856   \n",
       "3                                     97  0.0123  0.1856   \n",
       "4                                     92  0.0298  0.1396   \n",
       "\n",
       "   Orthology confidence [0 low, 1 high]  \n",
       "0                                     1  \n",
       "1                                     1  \n",
       "2                                     1  \n",
       "3                                     1  \n",
       "4                                     1  "
      ]
     },
     "execution_count": 21,
     "metadata": {},
     "output_type": "execute_result"
    }
   ],
   "source": [
    "tx_orthos = pd.merge(left=tx_df, right=orthos, \n",
    "                     how='inner', on=None, \n",
    "                     left_on='tx_gene', right_on='Gene stable ID', \n",
    "                     left_index=False, right_index=False, \n",
    "                     sort=False, suffixes=('_x', '_y'), \n",
    "                     copy=True, indicator=False)\n",
    "tx_orthos.head()"
   ]
  },
  {
   "cell_type": "code",
   "execution_count": 22,
   "metadata": {
    "collapsed": false
   },
   "outputs": [
    {
     "data": {
      "text/plain": [
       "(23803, 10)"
      ]
     },
     "execution_count": 22,
     "metadata": {},
     "output_type": "execute_result"
    }
   ],
   "source": [
    "tx_orthos.shape"
   ]
  },
  {
   "cell_type": "code",
   "execution_count": 24,
   "metadata": {
    "collapsed": false
   },
   "outputs": [
    {
     "data": {
      "text/plain": [
       "(9948,)"
      ]
     },
     "execution_count": 24,
     "metadata": {},
     "output_type": "execute_result"
    }
   ],
   "source": [
    "# unique GENES \n",
    "tx_orthos.tx_gene.unique().shape"
   ]
  },
  {
   "cell_type": "code",
   "execution_count": 25,
   "metadata": {
    "collapsed": false
   },
   "outputs": [
    {
     "data": {
      "text/plain": [
       "(21900,)"
      ]
     },
     "execution_count": 25,
     "metadata": {},
     "output_type": "execute_result"
    }
   ],
   "source": [
    "# unique TX \n",
    "tx_orthos.tx_tcons.unique().shape"
   ]
  },
  {
   "cell_type": "code",
   "execution_count": 29,
   "metadata": {
    "collapsed": false
   },
   "outputs": [],
   "source": [
    "tx_orthos.drop(\"tx_gene\", axis=1).to_excel(tx_orthos_out,index=False)"
   ]
  },
  {
   "cell_type": "code",
   "execution_count": null,
   "metadata": {
    "collapsed": true
   },
   "outputs": [],
   "source": []
  }
 ],
 "metadata": {
  "kernelspec": {
   "display_name": "Python 2",
   "language": "python",
   "name": "python2"
  },
  "language_info": {
   "codemirror_mode": {
    "name": "ipython",
    "version": 2
   },
   "file_extension": ".py",
   "mimetype": "text/x-python",
   "name": "python",
   "nbconvert_exporter": "python",
   "pygments_lexer": "ipython2",
   "version": "2.7.11"
  }
 },
 "nbformat": 4,
 "nbformat_minor": 0
}
