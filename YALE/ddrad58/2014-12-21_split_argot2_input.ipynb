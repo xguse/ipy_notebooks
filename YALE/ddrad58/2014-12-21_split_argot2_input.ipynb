{
 "cells": [
  {
   "cell_type": "markdown",
   "metadata": {},
   "source": [
    "# Purpose:\n",
    "\n",
    "2014-12-21\n",
    "\n",
    "- dumping the whole proteome on the online server seems to have broken it.\n",
    "- I believe I will need to split the input up into around 3000 proteins per submission\n",
    "- this will need some python code (maybe added to `spartan`?)"
   ]
  },
  {
   "cell_type": "markdown",
   "metadata": {},
   "source": [
    "# Implementation:"
   ]
  },
  {
   "cell_type": "markdown",
   "metadata": {},
   "source": [
    "## Imports:"
   ]
  },
  {
   "cell_type": "code",
   "execution_count": 1,
   "metadata": {
    "collapsed": false
   },
   "outputs": [],
   "source": [
    "# imports\n",
    "from spartan.utils.misc import split_stream\n",
    "from spartan.utils import errors as e\n",
    "import spartan.utils.blast.output as blast\n",
    "import spartan.utils.hmmer.output as hmmer"
   ]
  },
  {
   "cell_type": "markdown",
   "metadata": {},
   "source": [
    "## File paths:"
   ]
  },
  {
   "cell_type": "code",
   "execution_count": 2,
   "metadata": {
    "collapsed": true
   },
   "outputs": [],
   "source": [
    "# define paths to files\n",
    "\n",
    "base_dir = \"/home/gus/remote_mounts/louise/data/\"\n",
    "prj_dir = base_dir + \"projects/ddrad58/argot_prep/\"\n",
    "\n",
    "peptides = base_dir + \"genomes/glossina_fuscipes/annotations/seqs/Glossina-fuscipes-IAEA_PEPTIDES_GfusI1.1.fa\"\n",
    "\n",
    "blast_data_in = prj_dir + \"Glossina-fuscipes-IAEA_PEPTIDES_GfusI1.union.blastp\"\n",
    "hmmer_data_in = prj_dir + \"Glossina-fuscipes-IAEA_PEPTIDES_GfusI1.hmmscan\"\n",
    "\n",
    "blast_data_out_template = prj_dir + \"Glossina-fuscipes-IAEA_PEPTIDES_GfusI1.union.%s.blastp\"\n",
    "hmmer_data_out_template = prj_dir + \"Glossina-fuscipes-IAEA_PEPTIDES_GfusI1.%s.hmmscan\""
   ]
  },
  {
   "cell_type": "markdown",
   "metadata": {},
   "source": [
    "## Begin work:"
   ]
  },
  {
   "cell_type": "markdown",
   "metadata": {},
   "source": [
    "#### How many proteins are we dealing with?"
   ]
  },
  {
   "cell_type": "code",
   "execution_count": 3,
   "metadata": {
    "collapsed": false
   },
   "outputs": [
    {
     "data": {
      "text/plain": [
       "['23264']"
      ]
     },
     "execution_count": 3,
     "metadata": {},
     "output_type": "execute_result"
    }
   ],
   "source": [
    "pep_num = !grep '>' $peptides | wc -l\n",
    "pep_num"
   ]
  },
  {
   "cell_type": "markdown",
   "metadata": {},
   "source": [
    "So dividing by around ten would give us about 2320 per file.\n",
    "\n",
    "That is about half of what `Argot2` asks for as the max.\n",
    "\n",
    "That should work."
   ]
  },
  {
   "cell_type": "code",
   "execution_count": 4,
   "metadata": {
    "collapsed": false
   },
   "outputs": [
    {
     "data": {
      "text/plain": [
       "9.984549356223177"
      ]
     },
     "execution_count": 4,
     "metadata": {},
     "output_type": "execute_result"
    }
   ],
   "source": [
    "23264/2330.0"
   ]
  },
  {
   "cell_type": "code",
   "execution_count": 5,
   "metadata": {
    "collapsed": true
   },
   "outputs": [],
   "source": [
    "num_per_file = 2330"
   ]
  },
  {
   "cell_type": "markdown",
   "metadata": {},
   "source": [
    "#### Collect and rough-sort peptide names:"
   ]
  },
  {
   "cell_type": "code",
   "execution_count": 6,
   "metadata": {
    "collapsed": false
   },
   "outputs": [],
   "source": [
    "get_pep_name = lambda x: x.lstrip('>').split()[0]"
   ]
  },
  {
   "cell_type": "code",
   "execution_count": 7,
   "metadata": {
    "collapsed": true
   },
   "outputs": [],
   "source": [
    "pep_headers = !grep '>' $peptides"
   ]
  },
  {
   "cell_type": "code",
   "execution_count": 8,
   "metadata": {
    "collapsed": true
   },
   "outputs": [],
   "source": [
    "pep_names = []\n",
    "for header in pep_headers:\n",
    "    pep_names.append(get_pep_name(header))\n",
    "    \n",
    "pep_names.sort()"
   ]
  },
  {
   "cell_type": "code",
   "execution_count": 9,
   "metadata": {
    "collapsed": false
   },
   "outputs": [
    {
     "data": {
      "text/plain": [
       "['GFUI000002-PA',\n",
       " 'GFUI000004-PA',\n",
       " 'GFUI000006-PA',\n",
       " 'GFUI000008-PA',\n",
       " 'GFUI000009-PA']"
      ]
     },
     "execution_count": 9,
     "metadata": {},
     "output_type": "execute_result"
    }
   ],
   "source": [
    "pep_names[:5]"
   ]
  },
  {
   "cell_type": "markdown",
   "metadata": {},
   "source": [
    "#### Get the groups:"
   ]
  },
  {
   "cell_type": "code",
   "execution_count": 10,
   "metadata": {
    "collapsed": false
   },
   "outputs": [],
   "source": [
    "groups = list(split_stream(stream=pep_names, divisor=num_per_file))"
   ]
  },
  {
   "cell_type": "code",
   "execution_count": 11,
   "metadata": {
    "collapsed": false
   },
   "outputs": [
    {
     "data": {
      "text/plain": [
       "10"
      ]
     },
     "execution_count": 11,
     "metadata": {},
     "output_type": "execute_result"
    }
   ],
   "source": [
    "len(groups)"
   ]
  },
  {
   "cell_type": "code",
   "execution_count": 12,
   "metadata": {
    "collapsed": false
   },
   "outputs": [
    {
     "data": {
      "text/plain": [
       "2330"
      ]
     },
     "execution_count": 12,
     "metadata": {},
     "output_type": "execute_result"
    }
   ],
   "source": [
    "len(groups[0])"
   ]
  },
  {
   "cell_type": "code",
   "execution_count": 13,
   "metadata": {
    "collapsed": false
   },
   "outputs": [
    {
     "data": {
      "text/plain": [
       "2294"
      ]
     },
     "execution_count": 13,
     "metadata": {},
     "output_type": "execute_result"
    }
   ],
   "source": [
    "len(groups[-1])\n"
   ]
  },
  {
   "cell_type": "code",
   "execution_count": 14,
   "metadata": {
    "collapsed": false
   },
   "outputs": [
    {
     "data": {
      "text/plain": [
       "('GFUI000002-PA',\n",
       " 'GFUI000004-PA',\n",
       " 'GFUI000006-PA',\n",
       " 'GFUI000008-PA',\n",
       " 'GFUI000009-PA')"
      ]
     },
     "execution_count": 14,
     "metadata": {},
     "output_type": "execute_result"
    }
   ],
   "source": [
    "groups[0][:5]"
   ]
  },
  {
   "cell_type": "code",
   "execution_count": 15,
   "metadata": {
    "collapsed": false
   },
   "outputs": [
    {
     "data": {
      "text/plain": [
       "('GFUI005096-PA',\n",
       " 'GFUI005097-PA',\n",
       " 'GFUI005098-PA',\n",
       " 'GFUI005105-PA',\n",
       " 'GFUI005106-PA')"
      ]
     },
     "execution_count": 15,
     "metadata": {},
     "output_type": "execute_result"
    }
   ],
   "source": [
    "groups[1][:5]"
   ]
  },
  {
   "cell_type": "markdown",
   "metadata": {},
   "source": [
    "#### Make the new files:"
   ]
  },
  {
   "cell_type": "code",
   "execution_count": null,
   "metadata": {
    "collapsed": true
   },
   "outputs": [],
   "source": [
    "def process_file(in_path, name_func, out_files):\n",
    "    with open(in_path, 'rU') as lines:\n",
    "        for line in lines:\n",
    "            try:\n",
    "                group = name_func(line, group_map)\n",
    "                out_files[group].write(line)\n",
    "            except e.IgnoreThisError as exc:\n",
    "                print \"%s line ignored: %s\" % (in_path.split('/')[-1], exc.msg) "
   ]
  },
  {
   "cell_type": "code",
   "execution_count": 17,
   "metadata": {
    "collapsed": false
   },
   "outputs": [
    {
     "name": "stdout",
     "output_type": "stream",
     "text": [
      "Automatic pdb calling has been turned ON\n"
     ]
    }
   ],
   "source": [
    "pdb"
   ]
  },
  {
   "cell_type": "code",
   "execution_count": 45,
   "metadata": {
    "collapsed": false
   },
   "outputs": [
    {
     "name": "stdout",
     "output_type": "stream",
     "text": [
      "Glossina-fuscipes-IAEA_PEPTIDES_GfusI1.hmmscan line ignored: Comment line\n",
      "Glossina-fuscipes-IAEA_PEPTIDES_GfusI1.hmmscan line ignored: Comment line\n",
      "Glossina-fuscipes-IAEA_PEPTIDES_GfusI1.hmmscan line ignored: Comment line\n",
      "Glossina-fuscipes-IAEA_PEPTIDES_GfusI1.hmmscan line ignored: Comment line\n",
      "Glossina-fuscipes-IAEA_PEPTIDES_GfusI1.hmmscan line ignored: Comment line\n",
      "Glossina-fuscipes-IAEA_PEPTIDES_GfusI1.hmmscan line ignored: Comment line\n",
      "Glossina-fuscipes-IAEA_PEPTIDES_GfusI1.hmmscan line ignored: Comment line\n",
      "Glossina-fuscipes-IAEA_PEPTIDES_GfusI1.hmmscan line ignored: Comment line\n",
      "Glossina-fuscipes-IAEA_PEPTIDES_GfusI1.hmmscan line ignored: Comment line\n",
      "Glossina-fuscipes-IAEA_PEPTIDES_GfusI1.hmmscan line ignored: Comment line\n",
      "Glossina-fuscipes-IAEA_PEPTIDES_GfusI1.hmmscan line ignored: Comment line\n",
      "Glossina-fuscipes-IAEA_PEPTIDES_GfusI1.hmmscan line ignored: Comment line\n",
      "Glossina-fuscipes-IAEA_PEPTIDES_GfusI1.hmmscan line ignored: Comment line\n"
     ]
    }
   ],
   "source": [
    "# set up groups\n",
    "groups = list(split_stream(stream=pep_names, divisor=num_per_file))\n",
    "\n",
    "# set up out files and memoize group membership \n",
    "blast_outs = {}\n",
    "hmmer_outs = {}\n",
    "\n",
    "group_map = {}\n",
    "\n",
    "for index, group in enumerate(groups):\n",
    "    \n",
    "    blast_outs[index] = open(blast_data_out_template % (str(index)), 'w')\n",
    "    hmmer_outs[index] = open(hmmer_data_out_template % (str(index)), 'w')\n",
    "    \n",
    "    for protein in group:\n",
    "        group_map[protein] = index\n",
    "\n",
    "process_file(blast_data_in, blast.protein_name_from_argot_search, blast_outs)\n",
    "\n",
    "process_file(hmmer_data_in, hmmer.protein_name_from_argot_search, hmmer_outs)\n",
    "\n",
    "# close and flush our output files  \n",
    "for outb in blast_outs.values():\n",
    "    outb.close()\n",
    "    \n",
    "for outh in hmmer_outs.values():\n",
    "    outh.close()"
   ]
  },
  {
   "cell_type": "markdown",
   "metadata": {},
   "source": [
    "#### Double check the blast file data:"
   ]
  },
  {
   "cell_type": "code",
   "execution_count": 60,
   "metadata": {
    "collapsed": false
   },
   "outputs": [
    {
     "name": "stdout",
     "output_type": "stream",
     "text": [
      "GFUI001296-PA\tsp|P9WLR9|Y1815_MYCTU\t2.4\r\n",
      "GFUI001296-PA\tsp|P59981|Y1845_MYCBO\t2.4\r\n",
      "GFUI001296-PA\tsp|P9WLR8|Y1815_MYCTO\t2.4\r\n",
      "GFUI001296-PA\tsp|A1T774|EFTS_MYCVP\t4.0\r\n",
      "GFUI001296-PA\tsp|A4TC66|EFTS_MYCGI\t4.9\r\n",
      "GFUI001296-PA\tsp|Q54KI4|EPS15_DICDI\t5.4\r\n",
      "GFUI001296-PA\tsp|O74477|MCA1_SCHPO\t8.4\r\n",
      "GFUI001296-PA\tsp|Q5NQA8|RISB_ZYMMO\t9.9\r\n",
      "GFUI003870-PA\tsp|P18053|PSA4_DROME\t3e-151\r\n",
      "GFUI003870-PA\tsp|Q9R1P0|PSA4_MOUSE\t1e-129\r\n"
     ]
    }
   ],
   "source": [
    "!head {blast_outs[0].name}"
   ]
  },
  {
   "cell_type": "code",
   "execution_count": 61,
   "metadata": {
    "collapsed": false
   },
   "outputs": [
    {
     "name": "stdout",
     "output_type": "stream",
     "text": [
      "GFUI005162-PA\tsp|A5WCX3|EFTS_PSYWF\t2.4\r\n",
      "GFUI005162-PA\tsp|A8GCF0|SYS_SERP5\t6.8\r\n",
      "GFUI005162-PA\tsp|A2RP65|RNH3_LACLM\t8.2\r\n",
      "GFUI005162-PA\tsp|Q02VL7|RNH3_LACLS\t9.0\r\n",
      "GFUI005811-PA\tsp|P02518|HSP27_DROME\t0.064\r\n",
      "GFUI005811-PA\tsp|P15990|CRYAA_SPAEH\t0.19\r\n",
      "GFUI005811-PA\tsp|Q96JA1|LRIG1_HUMAN\t0.33\r\n",
      "GFUI005811-PA\tsp|P02517|HSP26_DROME\t0.34\r\n",
      "GFUI005811-PA\tsp|P02506|CRYAA_TUPTE\t0.64\r\n",
      "GFUI005811-PA\tsp|P24623|CRYAA_RAT\t1.5\r\n"
     ]
    }
   ],
   "source": [
    "!head {blast_outs[1].name}"
   ]
  },
  {
   "cell_type": "code",
   "execution_count": 62,
   "metadata": {
    "collapsed": false
   },
   "outputs": [
    {
     "name": "stdout",
     "output_type": "stream",
     "text": [
      "GFUI015612-PA\tsp|Q9WWW4|RUBR1_PSEPU\t1.7\r\n",
      "GFUI011464-PA\tsp|Q8Y0X8|HLDD_RALSO\t4.4\r\n",
      "GFUI011464-PA\tsp|Q2TBI0|LBP_BOVIN\t7.8\r\n",
      "GFUI011322-PA\tsp|Q9QZW0|AT11C_MOUSE\t2.4\r\n",
      "GFUI011322-PA\tsp|O74537|YCQ4_SCHPO\t3.0\r\n",
      "GFUI011322-PA\tsp|Q12389|DBP10_YEAST\t5.0\r\n",
      "GFUI011322-PA\tsp|A6ZXU0|DBP10_YEAS7\t5.0\r\n",
      "GFUI011322-PA\tsp|Q8MJ26|GYS1_MACMU\t7.0\r\n",
      "GFUI011322-PA\tsp|Q5R9H0|GYS1_PONAB\t10.0\r\n",
      "GFUI011322-PA\tsp|P13807|GYS1_HUMAN\t10.0\r\n"
     ]
    }
   ],
   "source": [
    "!head {blast_outs[2].name}"
   ]
  },
  {
   "cell_type": "code",
   "execution_count": 63,
   "metadata": {
    "collapsed": false
   },
   "outputs": [
    {
     "name": "stdout",
     "output_type": "stream",
     "text": [
      "GFUI020531-PA\tsp|Q9CR41|HYPK_MOUSE\t7e-29\r\n",
      "GFUI020531-PA\tsp|Q2PFU1|HYPK_MACFA\t7e-29\r\n",
      "GFUI020531-PA\tsp|Q9NX55|HYPK_HUMAN\t7e-29\r\n",
      "GFUI020531-PA\tsp|A6UVF4|NAC_META3\t0.46\r\n",
      "GFUI020531-PA\tsp|Q9M612|NACA_PINTA\t0.51\r\n",
      "GFUI020531-PA\tsp|A7TG43|NACA_VANPO\t0.57\r\n",
      "GFUI020531-PA\tsp|Q9SZY1|NACA4_ARATH\t0.82\r\n",
      "GFUI020531-PA\tsp|P0C0K9|NAC_METTM\t1.7\r\n",
      "GFUI020531-PA\tsp|Q6ICZ8|NACA3_ARATH\t2.2\r\n",
      "GFUI020531-PA\tsp|Q756T5|NACA_ASHGO\t2.2\r\n"
     ]
    }
   ],
   "source": [
    "!head {blast_outs[3].name}"
   ]
  },
  {
   "cell_type": "code",
   "execution_count": 64,
   "metadata": {
    "collapsed": false
   },
   "outputs": [
    {
     "name": "stdout",
     "output_type": "stream",
     "text": [
      "GFUI026835-PA\tsp|Q1QA78|PRMA_PSYCK\t4.4\r\n",
      "GFUI026835-PA\tsp|O47496|COX2_METSE\t4.7\r\n",
      "GFUI025686-PA\tsp|Q24524|SING_DROME\t0.0\r\n",
      "GFUI025686-PA\tsp|Q16658|FSCN1_HUMAN\t1e-119\r\n",
      "GFUI025686-PA\tsp|Q61553|FSCN1_MOUSE\t9e-116\r\n",
      "GFUI025686-PA\tsp|O18728|FSCN2_BOVIN\t1e-115\r\n",
      "GFUI025686-PA\tsp|P85845|FSCN1_RAT\t1e-115\r\n",
      "GFUI025686-PA\tsp|Q32M02|FSCN2_MOUSE\t9e-115\r\n",
      "GFUI025686-PA\tsp|O14926|FSCN2_HUMAN\t2e-113\r\n",
      "GFUI025686-PA\tsp|Q91837|FASC_XENLA\t1e-100\r\n"
     ]
    }
   ],
   "source": [
    "!head {blast_outs[4].name}"
   ]
  },
  {
   "cell_type": "code",
   "execution_count": 65,
   "metadata": {
    "collapsed": false
   },
   "outputs": [
    {
     "name": "stdout",
     "output_type": "stream",
     "text": [
      "GFUI031992-PA\tsp|P23677|IP3KA_HUMAN\t3e-68\r\n",
      "GFUI031992-PA\tsp|P17105|IP3KA_RAT\t1e-67\r\n",
      "GFUI031992-PA\tsp|Q8R071|IP3KA_MOUSE\t4e-67\r\n",
      "GFUI031992-PA\tsp|Q7TS72|IP3KC_MOUSE\t4e-56\r\n",
      "GFUI031992-PA\tsp|Q80ZG2|IP3KC_RAT\t4e-56\r\n",
      "GFUI031992-PA\tsp|Q96DU7|IP3KC_HUMAN\t6e-53\r\n",
      "GFUI031992-PA\tsp|P42335|IP3KB_RAT\t1e-51\r\n",
      "GFUI031992-PA\tsp|P27987|IP3KB_HUMAN\t4e-51\r\n",
      "GFUI031992-PA\tsp|O74561|YCZ8_SCHPO\t0.016\r\n",
      "GFUI031992-PA\tsp|Q8BWD2|IP6K3_MOUSE\t0.016\r\n"
     ]
    }
   ],
   "source": [
    "!head {blast_outs[5].name}"
   ]
  },
  {
   "cell_type": "code",
   "execution_count": 66,
   "metadata": {
    "collapsed": false
   },
   "outputs": [
    {
     "name": "stdout",
     "output_type": "stream",
     "text": [
      "GFUI035770-PA\tsp|Q15R69|PUR4_PSEA6\t1.2\r\n",
      "GFUI035770-PA\tsp|Q9T0I8|MTN1_ARATH\t2.0\r\n",
      "GFUI035770-PA\tsp|Q8VCE4|CI040_MOUSE\t5.0\r\n",
      "GFUI035770-PA\tsp|Q8A1G2|SUSD_BACTN\t6.3\r\n",
      "GFUI035770-PA\tsp|A1SLW4|LEUD_NOCSJ\t7.1\r\n",
      "GFUI035770-PA\tsp|Q9XAQ9|NUOF_STRCO\t9.9\r\n",
      "GFUI037294-PA\tsp|Q9VTJ8|TIM14_DROME\t3e-66\r\n",
      "GFUI037294-PA\tsp|Q5RF34|TIM14_PONAB\t3e-44\r\n",
      "GFUI037294-PA\tsp|Q96DA6|TIM14_HUMAN\t3e-44\r\n",
      "GFUI037294-PA\tsp|Q3ZBN8|TIM14_BOVIN\t2e-43\r\n"
     ]
    }
   ],
   "source": [
    "!head {blast_outs[6].name}"
   ]
  },
  {
   "cell_type": "code",
   "execution_count": 67,
   "metadata": {
    "collapsed": false
   },
   "outputs": [
    {
     "name": "stdout",
     "output_type": "stream",
     "text": [
      "GFUI041106-PA\tsp|Q23979|MY61F_DROME\t0.0\r\n",
      "GFUI041106-PA\tsp|Q92002|MYO1C_LITCT\t0.0\r\n",
      "GFUI041106-PA\tsp|Q5ZLA6|MYO1C_CHICK\t0.0\r\n",
      "GFUI041106-PA\tsp|A0MP03|MY1CA_XENLA\t0.0\r\n",
      "GFUI041106-PA\tsp|Q63355|MYO1C_RAT\t0.0\r\n",
      "GFUI041106-PA\tsp|Q27966|MYO1C_BOVIN\t0.0\r\n",
      "GFUI041106-PA\tsp|O00159|MYO1C_HUMAN\t0.0\r\n",
      "GFUI041106-PA\tsp|Q9WTI7|MYO1C_MOUSE\t0.0\r\n",
      "GFUI041106-PA\tsp|A5PF48|MYO1C_DANRE\t0.0\r\n",
      "GFUI041106-PA\tsp|Q8N1T3|MYO1H_HUMAN\t0.0\r\n"
     ]
    }
   ],
   "source": [
    "!head {blast_outs[7].name}"
   ]
  },
  {
   "cell_type": "code",
   "execution_count": 68,
   "metadata": {
    "collapsed": false
   },
   "outputs": [
    {
     "name": "stdout",
     "output_type": "stream",
     "text": [
      "GFUI045866-PA\tsp|Q8BLY1|SMOC1_MOUSE\t2e-24\r\n",
      "GFUI045866-PA\tsp|Q8BLY1|SMOC1_MOUSE\t8e-15\r\n",
      "GFUI045866-PA\tsp|Q8BLY1|SMOC1_MOUSE\t3e-13\r\n",
      "GFUI045866-PA\tsp|Q8BLY1|SMOC1_MOUSE\t4e-10\r\n",
      "GFUI045866-PA\tsp|Q9H4F8|SMOC1_HUMAN\t2e-24\r\n",
      "GFUI045866-PA\tsp|Q9H4F8|SMOC1_HUMAN\t1e-14\r\n",
      "GFUI045866-PA\tsp|Q9H4F8|SMOC1_HUMAN\t4e-13\r\n",
      "GFUI045866-PA\tsp|Q9H4F8|SMOC1_HUMAN\t9e-10\r\n",
      "GFUI045866-PA\tsp|Q8CD91|SMOC2_MOUSE\t2e-24\r\n",
      "GFUI045866-PA\tsp|Q8CD91|SMOC2_MOUSE\t6e-15\r\n"
     ]
    }
   ],
   "source": [
    "!head {blast_outs[8].name}"
   ]
  },
  {
   "cell_type": "code",
   "execution_count": 69,
   "metadata": {
    "collapsed": false
   },
   "outputs": [
    {
     "name": "stdout",
     "output_type": "stream",
     "text": [
      "GFUI048986-PA\tsp|P03641|F_BPPHS\t3.7\r\n",
      "GFUI048986-PA\tsp|Q0P3N4|PSBH_OSTTA\t3.9\r\n",
      "GFUI048986-PA\tsp|Q6C6M0|ATG2_YARLI\t7.6\r\n",
      "GFUI052848-PA\tsp|P21329|RTJK_DROFU\t3e-10\r\n",
      "GFUI052848-PA\tsp|Q95SX7|RTBS_DROME\t3e-09\r\n",
      "GFUI052848-PA\tsp|P21328|RTJK_DROME\t5e-09\r\n",
      "GFUI052848-PA\tsp|Q9NBX4|RTXE_DROME\t1e-07\r\n",
      "GFUI052848-PA\tsp|P08548|LIN1_NYCCO\t0.15\r\n",
      "GFUI052848-PA\tsp|Q03277|PO11_BRACO\t3.1\r\n",
      "GFUI052848-PA\tsp|Q7PZ96|CCD22_ANOGA\t6.9\r\n"
     ]
    }
   ],
   "source": [
    "!head {blast_outs[9].name}"
   ]
  },
  {
   "cell_type": "markdown",
   "metadata": {},
   "source": [
    "#### Now the `hmmer` outs:"
   ]
  },
  {
   "cell_type": "code",
   "execution_count": 70,
   "metadata": {
    "collapsed": false
   },
   "outputs": [
    {
     "name": "stdout",
     "output_type": "stream",
     "text": [
      "Pfam-B_6315          PB006315   GFUI000002-PA        -              0.056   13.4   0.1     0.056   13.4   0.1   5.6   2   2   1   5   5   5   0 -\r\n",
      "Pfam-B_12302         PB012302   GFUI000004-PA        -               0.24   12.7   0.8       1.3   10.4   0.0   2.0   2   0   0   2   2   2   0 -\r\n",
      "Pfam-B_2490          PB002490   GFUI000004-PA        -               0.45   10.6   0.9      0.51   10.4   0.9   1.0   1   0   0   1   1   1   0 -\r\n",
      "Pfam-B_2897          PB002897   GFUI000006-PA        -            5.2e-05   23.9   4.4   5.2e-05   23.9   4.4   1.1   1   0   0   1   1   1   1 -\r\n",
      "Pfam-B_18119         PB018119   GFUI000006-PA        -             0.0023   18.3   3.0    0.0024   18.2   3.0   1.2   1   0   0   1   1   1   1 -\r\n",
      "Pfam-B_5800          PB005800   GFUI000006-PA        -             0.0055   16.8   1.9    0.0055   16.8   1.9   1.1   1   0   0   1   1   1   1 -\r\n",
      "Pfam-B_12732         PB012732   GFUI000006-PA        -               0.05   14.2   8.1     0.085   13.5   8.1   1.4   1   0   0   1   1   1   0 -\r\n",
      "Bd3614_N             PF14442.1  GFUI000006-PA        -              0.068   14.3   0.2     0.074   14.2   0.2   1.3   1   0   0   1   1   1   0 Bd3614-like deaminase N-terminal\r\n",
      "Pfam-B_2697          PB002697   GFUI000006-PA        -               0.23   10.7   5.5      0.22   10.7   5.5   1.1   1   0   0   1   1   1   0 -\r\n",
      "PBP1_TM              PF14812.1  GFUI000006-PA        -               0.77   11.2   4.1       1.3   10.6   4.1   1.3   1   0   0   1   1   1   0 Transmembrane domain of transglycosylase PBP1 at N-terminal\r\n"
     ]
    }
   ],
   "source": [
    "!head {hmmer_outs[0].name}"
   ]
  },
  {
   "cell_type": "code",
   "execution_count": 71,
   "metadata": {
    "collapsed": false
   },
   "outputs": [
    {
     "name": "stdout",
     "output_type": "stream",
     "text": [
      "Pfam-B_3358          PB003358   GFUI005096-PA        -            7.1e-12   46.2   0.2   1.2e-11   45.4   0.2   1.3   1   1   0   1   1   1   1 -\r\n",
      "AIP3                 PF03915.8  GFUI005096-PA        -            6.8e-10   39.6   0.6     1e-09   39.0   0.1   1.5   2   0   0   2   2   2   1 Actin interacting protein 3\r\n",
      "Pfam-B_1461          PB001461   GFUI005096-PA        -            0.00033   19.6   0.1   0.00033   19.6   0.1   1.8   2   0   0   2   2   2   1 -\r\n",
      "Pfam-B_2821          PB002821   GFUI005096-PA        -                3.2    7.8   8.5       4.3    7.4   8.5   1.1   1   0   0   1   1   1   0 -\r\n",
      "Pfam-B_2892          PB002892   GFUI005096-PA        -                3.9    7.3   7.1       4.9    7.0   7.1   1.1   1   0   0   1   1   1   0 -\r\n",
      "Pfam-B_35            PB000035   GFUI005096-PA        -                4.3    7.0   5.0       5.8    6.6   5.0   1.1   1   0   0   1   1   1   0 -\r\n",
      "Pfam-B_4234          PB004234   GFUI005096-PA        -                7.4    6.5   9.2        12    5.8   9.2   1.4   1   0   0   1   1   1   0 -\r\n",
      "PilP                 PF04351.8  GFUI005098-PA        -               0.34   11.9   0.0      0.47   11.5   0.0   1.2   1   0   0   1   1   1   0 Pilus assembly protein, PilP\r\n",
      "F-box-like           PF12937.2  GFUI005105-PA        -            1.5e-07   32.1   0.2   4.1e-07   30.7   0.2   1.8   1   0   0   1   1   1   1 F-box-like\r\n",
      "MBD                  PF01429.14 GFUI005105-PA        -            3.8e-07   30.7   0.0   9.8e-07   29.4   0.0   1.7   1   0   0   1   1   1   1 Methyl-CpG binding domain\r\n"
     ]
    }
   ],
   "source": [
    "!head {hmmer_outs[1].name}"
   ]
  },
  {
   "cell_type": "code",
   "execution_count": 72,
   "metadata": {
    "collapsed": false
   },
   "outputs": [
    {
     "name": "stdout",
     "output_type": "stream",
     "text": [
      "Pfam-B_4903          PB004903   GFUI010554-PA        -             0.0063   16.5   0.5     0.013   15.5   0.5   1.5   1   0   0   1   1   1   1 -\r\n",
      "Pfam-B_4274          PB004274   GFUI010554-PA        -                7.4    6.8   9.4        25    5.0   9.4   1.9   1   1   0   1   1   1   0 -\r\n",
      "Pfam-B_13592         PB013592   GFUI010557-PA        -               0.32   12.1   1.7      0.48   11.5   1.7   1.3   1   0   0   1   1   1   0 -\r\n",
      "IQ                   PF00612.22 GFUI010567-PA        -            3.4e-13   49.1   0.9   2.1e-05   24.9   0.1   2.1   2   0   0   2   2   2   2 IQ calmodulin-binding motif\r\n",
      "TTL                  PF03133.10 GFUI010568-PA        -            1.4e-23   84.4   1.9   5.8e-13   49.6   1.8   2.1   1   1   1   2   2   2   2 Tubulin-tyrosine ligase family\r\n",
      "Methylase_S          PF01420.14 GFUI010568-PA        -              0.033   15.3   0.1     0.051   14.7   0.1   1.2   1   0   0   1   1   1   0 Type I restriction modification DNA specificity domain\r\n",
      "Pfam-B_2976          PB002976   GFUI010569-PA        -               0.34    9.7   0.0      0.43    9.3   0.0   1.1   1   0   0   1   1   1   0 -\r\n",
      "Pfam-B_2897          PB002897   GFUI010574-PA        -              0.011   16.3   5.0     0.012   16.1   5.0   1.1   1   0   0   1   1   1   0 -\r\n",
      "Lectin_C             PF00059.16 GFUI010574-PA        -              0.026   16.3   0.0     0.055   15.2   0.0   1.7   1   0   0   1   1   1   0 Lectin C-type domain\r\n",
      "Voldacs              PF03517.8  GFUI010574-PA        -               0.11   13.4   0.1      0.19   12.7   0.1   1.4   1   0   0   1   1   1   0 Regulator of volume decrease after cellular swelling\r\n"
     ]
    }
   ],
   "source": [
    "!head {hmmer_outs[2].name}"
   ]
  },
  {
   "cell_type": "code",
   "execution_count": 73,
   "metadata": {
    "collapsed": false
   },
   "outputs": [
    {
     "name": "stdout",
     "output_type": "stream",
     "text": [
      "DUF389               PF04087.9  GFUI015987-PA        -            3.9e-38  131.7   6.2     6e-38  131.1   6.2   1.3   1   0   0   1   1   1   1 Domain of unknown function (DUF389)\r\n",
      "Pfam-B_9186          PB009186   GFUI015987-PA        -             0.0094   16.9   1.5     0.018   16.0   1.5   1.4   1   0   0   1   1   1   1 -\r\n",
      "YABBY                PF04690.8  GFUI015987-PA        -               0.11   13.9   0.8       1.9    9.9   0.0   2.4   2   0   0   2   2   2   0 YABBY protein\r\n",
      "Pfam-B_1205          PB001205   GFUI015987-PA        -                8.6    6.2   5.9        11    5.8   5.9   1.1   1   0   0   1   1   1   0 -\r\n",
      "CUB                  PF00431.15 GFUI015988-PA        -            2.8e-05   25.3   0.0   9.1e-05   23.6   0.0   1.9   1   0   0   1   1   1   1 CUB domain\r\n",
      "hEGF                 PF12661.2  GFUI015988-PA        -             0.0077   17.3   4.5     0.016   16.3   4.5   1.6   1   0   0   1   1   1   1 Human growth factor-like EGF\r\n",
      "Laminin_EGF          PF00053.19 GFUI015988-PA        -               0.39   11.8   0.2      0.39   11.8   0.2   1.9   2   0   0   2   2   2   0 Laminin EGF-like (Domains III and V)\r\n",
      "Ig_2                 PF13895.1  GFUI015990-PA        -            5.3e-09   37.2   0.0   9.1e-09   36.5   0.0   1.3   1   0   0   1   1   1   1 Immunoglobulin domain\r\n",
      "I-set                PF07679.11 GFUI015990-PA        -            4.3e-06   27.6   0.0   7.8e-06   26.8   0.0   1.4   1   0   0   1   1   1   1 Immunoglobulin I-set domain\r\n",
      "Pfam-B_6877          PB006877   GFUI015990-PA        -            0.00017   21.8   0.0   0.00024   21.3   0.0   1.3   1   1   0   1   1   1   1 -\r\n"
     ]
    }
   ],
   "source": [
    "!head {hmmer_outs[3].name}"
   ]
  },
  {
   "cell_type": "code",
   "execution_count": 74,
   "metadata": {
    "collapsed": false
   },
   "outputs": [
    {
     "name": "stdout",
     "output_type": "stream",
     "text": [
      "Pkinase              PF00069.20 GFUI021430-PA        -              0.013   15.9   0.0     0.015   15.7   0.0   1.1   1   0   0   1   1   1   0 Protein kinase domain\r\n",
      "Pfam-B_1520          PB001520   GFUI021434-PA        -            2.6e-28  100.0   0.1     4e-27   96.1   0.1   2.0   1   1   0   1   1   1   1 -\r\n",
      "RRM_1                PF00076.17 GFUI021434-PA        -            1.1e-09   38.9   0.1   2.2e-09   38.0   0.1   1.5   1   0   0   1   1   1   1 RNA recognition motif. (a.k.a. RRM, RBD, or RNP domain)\r\n",
      "RRM_5                PF13893.1  GFUI021434-PA        -            2.9e-07   31.4   0.0   6.3e-07   30.3   0.0   1.6   1   0   0   1   1   1   1 RNA recognition motif. (a.k.a. RRM, RBD, or RNP domain)\r\n",
      "RRM_6                PF14259.1  GFUI021434-PA        -            2.9e-05   25.1   0.0   5.7e-05   24.2   0.0   1.5   1   0   0   1   1   1   1 RNA recognition motif (a.k.a. RRM, RBD, or RNP domain)\r\n",
      "HGTP_anticodon       PF03129.15 GFUI021434-PA        -            0.00035   21.6   0.1    0.0029   18.7   0.0   2.3   2   0   0   2   2   2   1 Anticodon binding domain\r\n",
      "Pfam-B_946           PB000946   GFUI021434-PA        -                0.2   12.6   0.2      0.36   11.8   0.2   1.3   1   0   0   1   1   1   0 -\r\n",
      "Med13_C              PF06333.7  GFUI021435-PA        -             6e-124  415.0   0.6    6e-124  415.0   0.6   5.0   6   0   0   6   6   2   1 Mediator complex subunit 13 C-terminal\r\n",
      "Med13_N              PF11597.3  GFUI021435-PA        -           7.9e-113  378.3   2.9  7.9e-113  378.3   2.9   3.1   3   0   0   3   3   2   1 Mediator complex subunit 13 N-terminal\r\n",
      "Pfam-B_6764          PB006764   GFUI021435-PA        -            1.6e-17   64.9   0.0   1.6e-17   64.9   0.0   2.9   3   0   0   3   3   1   1 -\r\n"
     ]
    }
   ],
   "source": [
    "!head {hmmer_outs[4].name}"
   ]
  },
  {
   "cell_type": "code",
   "execution_count": 75,
   "metadata": {
    "collapsed": false
   },
   "outputs": [
    {
     "name": "stdout",
     "output_type": "stream",
     "text": [
      "Pfam-B_15687         PB015687   GFUI026860-PA        -               0.04   14.4   4.8       1.5    9.4   0.3   2.8   2   1   1   3   3   3   0 -\r\n",
      "Pfam-B_11529         PB011529   GFUI026860-PA        -                1.9    9.9   5.5       1.1   10.7   3.1   1.8   2   0   0   2   2   2   0 -\r\n",
      "Pfam-B_8176          PB008176   GFUI026861-PA        -              0.066   13.9   0.1     0.099   13.3   0.1   1.2   1   0   0   1   1   1   0 -\r\n",
      "Pfam-B_7609          PB007609   GFUI026862-PA        -                0.2   11.2   0.2        19    4.7   0.0   2.0   2   0   0   2   2   2   0 -\r\n",
      "PilI                 PF10623.4  GFUI026862-PA        -               0.24   12.5   0.5        33    5.6   0.1   2.3   2   0   0   2   2   2   0 Plasmid conjugative transfer protein PilI\r\n",
      "ZZ                   PF00569.12 GFUI026862-PA        -               0.61   10.8  10.3         8    7.2   1.6   3.4   2   2   0   2   2   2   0 Zinc finger, ZZ type\r\n",
      "CHCH                 PF06747.8  GFUI026865-PA        -            0.00026   21.9   3.3   0.00051   21.0   3.3   1.5   1   0   0   1   1   1   1 CHCH domain\r\n",
      "Pet191_N             PF10203.4  GFUI026865-PA        -              0.018   16.2   0.7     0.031   15.5   0.7   1.3   1   0   0   1   1   1   0 Cytochrome c oxidase assembly protein PET191\r\n",
      "Pfam-B_7594          PB007594   GFUI026865-PA        -               0.11   13.1   0.3      0.11   13.1   0.3   1.0   1   0   0   1   1   1   0 -\r\n",
      "Cnd1                 PF12717.2  GFUI026866-PA        -            4.1e-11   44.2   0.2   3.6e-10   41.1   0.0   2.3   1   1   1   2   2   2   1 non-SMC mitotic condensation complex subunit 1\r\n"
     ]
    }
   ],
   "source": [
    "!head {hmmer_outs[5].name}"
   ]
  },
  {
   "cell_type": "code",
   "execution_count": 76,
   "metadata": {
    "collapsed": false
   },
   "outputs": [
    {
     "name": "stdout",
     "output_type": "stream",
     "text": [
      "Siah-Interact_N      PF09032.6  GFUI032248-PA        -               0.55   11.5   4.8       2.8    9.2   0.3   2.6   2   0   0   2   2   2   0 Siah interacting protein, N terminal\r\n",
      "Pfam-B_18559         PB018559   GFUI032248-PA        -                1.8    8.9   8.7       3.7    7.8   8.7   1.5   1   0   0   1   1   1   0 -\r\n",
      "Pfam-B_16171         PB016171   GFUI032248-PA        -                  3    8.5   5.7       1.1    9.9   2.9   1.6   2   0   0   2   2   2   0 -\r\n",
      "Pfam-B_6339          PB006339   GFUI032248-PA        -                6.3    7.0   3.9       5.1    7.3   2.2   1.6   2   0   0   2   2   2   0 -\r\n",
      "Toxin_7              PF05980.7  GFUI032249-PA        -             0.0089   17.2   4.2     0.015   16.4   4.2   1.5   1   0   0   1   1   1   1 Toxin 7\r\n",
      "RhoGEF               PF00621.15 GFUI032258-PA        -            1.8e-27   97.5   6.9   1.8e-27   97.5   6.9   2.0   2   0   0   2   2   2   1 RhoGEF domain\r\n",
      "Pfam-B_18355         PB018355   GFUI032258-PA        -              0.041   14.7   0.8        26    5.6   0.0   3.3   2   1   0   2   2   2   0 -\r\n",
      "Pfam-B_8622          PB008622   GFUI032258-PA        -               0.08   13.6  22.8        12    6.4   0.0   2.8   2   0   0   2   2   2   0 -\r\n",
      "Pfam-B_4097          PB004097   GFUI032258-PA        -               0.13   12.5  10.6      0.14   12.4   8.4   2.1   2   0   0   2   2   2   0 -\r\n",
      "Pfam-B_16704         PB016704   GFUI032258-PA        -               0.41   12.0  15.5       1.8   10.0  15.5   2.1   1   0   0   1   1   1   0 -\r\n"
     ]
    }
   ],
   "source": [
    "!head {hmmer_outs[6].name}"
   ]
  },
  {
   "cell_type": "code",
   "execution_count": 77,
   "metadata": {
    "collapsed": false
   },
   "outputs": [
    {
     "name": "stdout",
     "output_type": "stream",
     "text": [
      "Cyclin_N             PF00134.18 GFUI037715-PA        -              2e-11   44.7   0.1   3.7e-11   43.8   0.1   1.6   1   1   0   1   1   1   1 Cyclin, N-terminal domain\r\n",
      "Cyclin_C             PF02984.14 GFUI037715-PA        -            8.8e-05   23.6   2.9   0.00087   20.4   0.1   2.6   2   1   1   3   3   3   1 Cyclin, C-terminal domain\r\n",
      "TFIIB                PF00382.14 GFUI037715-PA        -             0.0031   18.4   0.0     0.036   15.0   0.0   2.3   2   0   0   2   2   2   1 Transcription factor TFIIB repeat\r\n",
      "Pfam-B_13813         PB013813   GFUI037715-PA        -               0.13   12.3   0.3      0.34   10.9   0.3   1.6   1   0   0   1   1   1   0 -\r\n",
      "YqhG                 PF11079.3  GFUI037716-PA        -               0.39   10.6   0.0      0.79    9.6   0.0   1.4   1   0   0   1   1   1   0 Bacterial protein YqhG of unknown function\r\n",
      "Pfam-B_842           PB000842   GFUI037716-PA        -                  3    8.8   5.6      0.94   10.4   1.5   2.1   2   0   0   2   2   2   0 -\r\n",
      "Pfam-B_15167         PB015167   GFUI037721-PA        -              0.027   15.7   0.0      0.04   15.1   0.0   1.3   1   0   0   1   1   1   0 -\r\n",
      "Pfam-B_17075         PB017075   GFUI037721-PA        -               0.11   13.5   1.2      0.18   12.9   1.2   1.3   1   0   0   1   1   1   0 -\r\n",
      "Pfam-B_16354         PB016354   GFUI037722-PA        -               0.12   12.3   1.6      0.13   12.2   1.6   1.1   1   0   0   1   1   1   0 -\r\n",
      "SR-25                PF10500.4  GFUI037722-PA        -               0.58   10.8   7.5      0.71   10.5   7.5   1.1   1   0   0   1   1   1   0 Nuclear RNA-splicing-associated protein\r\n"
     ]
    }
   ],
   "source": [
    "!head {hmmer_outs[7].name}"
   ]
  },
  {
   "cell_type": "code",
   "execution_count": 78,
   "metadata": {
    "collapsed": false
   },
   "outputs": [
    {
     "name": "stdout",
     "output_type": "stream",
     "text": [
      "Cyclin_N             PF00134.18 GFUI043265-PA        -              1e-25   90.9   0.0   1.4e-25   90.4   0.0   1.2   1   0   0   1   1   1   1 Cyclin, N-terminal domain\r\n",
      "GLYCAM-1             PF05242.6  GFUI043265-PA        -              0.093   13.8   0.7      0.15   13.2   0.7   1.2   1   0   0   1   1   1   0 Glycosylation-dependent cell adhesion molecule 1 (GlyCAM-1)\r\n",
      "DP                   PF08781.5  GFUI043266-PA        -               0.18   12.7   0.0      0.18   12.7   0.0   1.1   1   0   0   1   1   1   0 Transcription factor DP\r\n",
      "Y_phosphatase        PF00102.22 GFUI043268-PA        -            1.4e-29  104.3   0.1   1.9e-14   54.8   0.0   2.4   1   1   1   2   2   2   2 Protein-tyrosine phosphatase\r\n",
      "DSPc                 PF00782.15 GFUI043268-PA        -            4.3e-05   24.3   0.2   0.00087   20.0   0.0   2.4   2   0   0   2   2   2   1 Dual specificity phosphatase, catalytic domain\r\n",
      "AbiH                 PF14253.1  GFUI043268-PA        -             0.0042   17.9   2.6    0.0069   17.2   2.6   1.4   1   0   0   1   1   1   1 Bacteriophage abortive infection AbiH\r\n",
      "DUF2325              PF10087.4  GFUI043268-PA        -              0.016   16.1   0.4      0.12   13.4   0.1   2.3   2   0   0   2   2   2   0 Uncharacterized protein conserved in bacteria (DUF2325)\r\n",
      "Y_phosphatase3       PF13350.1  GFUI043268-PA        -               0.14   13.5   0.0      0.28   12.6   0.0   1.6   1   0   0   1   1   1   0 Tyrosine phosphatase family\r\n",
      "PTPlike_phytase      PF14566.1  GFUI043268-PA        -               0.23   12.7   0.0       0.6   11.3   0.0   1.7   2   0   0   2   2   2   0 Inositol hexakisphosphate\r\n",
      "TAFA                 PF12020.3  GFUI043269-PA        -              0.077   14.3   0.2        16    6.9   0.1   2.2   2   0   0   2   2   2   0 TAFA family\r\n"
     ]
    }
   ],
   "source": [
    "!head {hmmer_outs[8].name}"
   ]
  },
  {
   "cell_type": "code",
   "execution_count": 79,
   "metadata": {
    "collapsed": false
   },
   "outputs": [
    {
     "name": "stdout",
     "output_type": "stream",
     "text": [
      "HCNGP                PF07818.8  GFUI048496-PA        -            1.8e-31  109.2   1.4   5.1e-31  107.7   1.4   1.8   1   0   0   1   1   1   1 HCNGP-like protein\r\n",
      "Pfam-B_15158         PB015158   GFUI048496-PA        -              0.098   13.6   1.2      0.16   12.8   1.2   1.3   1   0   0   1   1   1   0 -\r\n",
      "Pfam-B_12294         PB012294   GFUI048496-PA        -               0.19   11.9   8.6      0.25   11.5   8.6   1.0   1   0   0   1   1   1   0 -\r\n",
      "Pfam-B_6524          PB006524   GFUI048496-PA        -                1.1    9.4   7.6       1.5    9.0   7.6   1.1   1   0   0   1   1   1   0 -\r\n",
      "Pfam-B_10304         PB010304   GFUI048496-PA        -                1.4    9.4  13.0     0.044   14.3   5.7   1.8   2   0   0   2   2   2   0 -\r\n",
      "Pfam-B_1459          PB001459   GFUI048496-PA        -                4.6    6.3   9.5       5.6    6.0   9.5   1.0   1   0   0   1   1   1   0 -\r\n",
      "Pfam-B_6214          PB006214   GFUI048496-PA        -                4.7    6.3   8.0       6.1    5.9   8.0   1.1   1   0   0   1   1   1   0 -\r\n",
      "Pfam-B_3950          PB003950   GFUI048498-PA        -            1.1e-11   44.7   0.6   1.3e-11   44.4   0.6   1.1   1   0   0   1   1   1   1 -\r\n",
      "Pfam-B_16737         PB016737   GFUI048498-PA        -            3.4e-05   24.1   0.0    0.0001   22.6   0.0   1.8   2   0   0   2   2   2   1 -\r\n",
      "Pfam-B_2840          PB002840   GFUI048506-PA        -              3e-06   28.1   0.1   4.1e-06   27.6   0.1   1.1   1   0   0   1   1   1   1 -\r\n"
     ]
    }
   ],
   "source": [
    "!head {hmmer_outs[9].name}"
   ]
  }
 ],
 "metadata": {
  "kernelspec": {
   "display_name": "IPython (Python 2)",
   "name": "python2"
  },
  "language_info": {
   "codemirror_mode": {
    "name": "ipython",
    "version": 2
   },
   "mimetype": "text/x-python",
   "name": "python",
   "pygments_lexer": "ipython2"
  },
  "signature": "sha256:3273a6f0873b7a5453442ca3fa17dd10acf9bb9e7d39e3fbc0b6a6da43490e0f"
 },
 "nbformat": 4,
 "nbformat_minor": 0
}