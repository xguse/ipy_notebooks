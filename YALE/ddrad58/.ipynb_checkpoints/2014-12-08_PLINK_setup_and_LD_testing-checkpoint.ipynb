{
 "cells": [],
 "metadata": {
  "signature": "sha256:f7e1623c88bf494057788715592330a17d728c688cdba74120181c10fc5b9186"
 },
 "nbformat": 4,
 "nbformat_minor": 0
}