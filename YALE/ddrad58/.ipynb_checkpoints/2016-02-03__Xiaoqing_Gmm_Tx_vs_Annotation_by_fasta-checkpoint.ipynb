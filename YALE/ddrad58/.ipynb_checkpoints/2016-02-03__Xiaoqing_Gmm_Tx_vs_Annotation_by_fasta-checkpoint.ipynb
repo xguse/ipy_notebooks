{
 "cells": [
  {
   "cell_type": "markdown",
   "metadata": {},
   "source": [
    "## Imports:"
   ]
  },
  {
   "cell_type": "code",
   "execution_count": 1,
   "metadata": {
    "collapsed": false
   },
   "outputs": [],
   "source": [
    "from __future__ import unicode_literals\n",
    "from __future__ import division\n",
    "from __future__ import print_function\n",
    "\n",
    "import os\n",
    "\n",
    "import numpy as np\n",
    "import pandas as pd\n",
    "pd.set_option('display.max_columns', 60)\n",
    "# import tables as h5\n",
    "\n",
    "import itertools as it\n",
    "from collections import defaultdict\n",
    "\n",
    "import numpy as np\n",
    "import pandas as pd\n",
    "\n",
    "xls_writer = pd.ExcelWriter\n",
    "\n",
    "import pybedtools as pbt\n",
    "\n",
    "import scipy\n",
    "import statsmodels.api as sm\n",
    "import statsmodels.stats.multitest as smm\n",
    "\n",
    "import munch\n",
    "\n",
    "from spartan.utils.genome_specific.GfusI1 import GfusI1_0\n",
    "from spartan.utils.fastas import ParseFastA\n"
   ]
  },
  {
   "cell_type": "markdown",
   "metadata": {},
   "source": [
    "## File paths:"
   ]
  },
  {
   "cell_type": "code",
   "execution_count": 2,
   "metadata": {
    "collapsed": false
   },
   "outputs": [],
   "source": [
    "# define paths to files\n",
    "\n",
    "blast_table = \"/home/gus/remote_mounts/louise/data/projects/xiaoqing/cufflinks_transcripts_onto_GfusI1.tsv\"\n",
    "\n",
    "gff3 = \"/home/gus/remote_mounts/louise/data/genomes/glossina_fuscipes/annotations/Glossina-fuscipes-IAEA_BASEFEATURES_GfusI1.1.gff3\"\n",
    "\n"
   ]
  },
  {
   "cell_type": "markdown",
   "metadata": {},
   "source": [
    "# Convert table to minimal BED"
   ]
  },
  {
   "cell_type": "code",
   "execution_count": 3,
   "metadata": {
    "collapsed": false
   },
   "outputs": [
    {
     "ename": "KeyboardInterrupt",
     "evalue": "",
     "output_type": "error",
     "traceback": [
      "\u001b[1;31m---------------------------------------------------------------------------\u001b[0m",
      "\u001b[1;31mKeyboardInterrupt\u001b[0m                         Traceback (most recent call last)",
      "\u001b[1;32m<ipython-input-3-eb1fb28042c3>\u001b[0m in \u001b[0;36m<module>\u001b[1;34m()\u001b[0m\n\u001b[1;32m----> 1\u001b[1;33m \u001b[0mblast\u001b[0m \u001b[1;33m=\u001b[0m \u001b[0mpd\u001b[0m\u001b[1;33m.\u001b[0m\u001b[0mread_csv\u001b[0m\u001b[1;33m(\u001b[0m\u001b[0mblast_table\u001b[0m\u001b[1;33m,\u001b[0m \u001b[0msep\u001b[0m\u001b[1;33m=\u001b[0m\u001b[1;34m'\\t'\u001b[0m\u001b[1;33m)\u001b[0m\u001b[1;33m\u001b[0m\u001b[0m\n\u001b[0m\u001b[0;32m      2\u001b[0m \u001b[0mblast\u001b[0m\u001b[1;33m.\u001b[0m\u001b[0mhead\u001b[0m\u001b[1;33m(\u001b[0m\u001b[1;33m)\u001b[0m\u001b[1;33m\u001b[0m\u001b[0m\n",
      "\u001b[1;32m/home/gus/anaconda2/envs/stack2/lib/python2.7/site-packages/pandas/io/parsers.pyc\u001b[0m in \u001b[0;36mparser_f\u001b[1;34m(filepath_or_buffer, sep, dialect, compression, doublequote, escapechar, quotechar, quoting, skipinitialspace, lineterminator, header, index_col, names, prefix, skiprows, skipfooter, skip_footer, na_values, true_values, false_values, delimiter, converters, dtype, usecols, engine, delim_whitespace, as_recarray, na_filter, compact_ints, use_unsigned, low_memory, buffer_lines, warn_bad_lines, error_bad_lines, keep_default_na, thousands, comment, decimal, parse_dates, keep_date_col, dayfirst, date_parser, memory_map, float_precision, nrows, iterator, chunksize, verbose, encoding, squeeze, mangle_dupe_cols, tupleize_cols, infer_datetime_format, skip_blank_lines)\u001b[0m\n\u001b[0;32m    496\u001b[0m                     skip_blank_lines=skip_blank_lines)\n\u001b[0;32m    497\u001b[0m \u001b[1;33m\u001b[0m\u001b[0m\n\u001b[1;32m--> 498\u001b[1;33m         \u001b[1;32mreturn\u001b[0m \u001b[0m_read\u001b[0m\u001b[1;33m(\u001b[0m\u001b[0mfilepath_or_buffer\u001b[0m\u001b[1;33m,\u001b[0m \u001b[0mkwds\u001b[0m\u001b[1;33m)\u001b[0m\u001b[1;33m\u001b[0m\u001b[0m\n\u001b[0m\u001b[0;32m    499\u001b[0m \u001b[1;33m\u001b[0m\u001b[0m\n\u001b[0;32m    500\u001b[0m     \u001b[0mparser_f\u001b[0m\u001b[1;33m.\u001b[0m\u001b[0m__name__\u001b[0m \u001b[1;33m=\u001b[0m \u001b[0mname\u001b[0m\u001b[1;33m\u001b[0m\u001b[0m\n",
      "\u001b[1;32m/home/gus/anaconda2/envs/stack2/lib/python2.7/site-packages/pandas/io/parsers.pyc\u001b[0m in \u001b[0;36m_read\u001b[1;34m(filepath_or_buffer, kwds)\u001b[0m\n\u001b[0;32m    283\u001b[0m         \u001b[1;32mreturn\u001b[0m \u001b[0mparser\u001b[0m\u001b[1;33m\u001b[0m\u001b[0m\n\u001b[0;32m    284\u001b[0m \u001b[1;33m\u001b[0m\u001b[0m\n\u001b[1;32m--> 285\u001b[1;33m     \u001b[1;32mreturn\u001b[0m \u001b[0mparser\u001b[0m\u001b[1;33m.\u001b[0m\u001b[0mread\u001b[0m\u001b[1;33m(\u001b[0m\u001b[1;33m)\u001b[0m\u001b[1;33m\u001b[0m\u001b[0m\n\u001b[0m\u001b[0;32m    286\u001b[0m \u001b[1;33m\u001b[0m\u001b[0m\n\u001b[0;32m    287\u001b[0m _parser_defaults = {\n",
      "\u001b[1;32m/home/gus/anaconda2/envs/stack2/lib/python2.7/site-packages/pandas/io/parsers.pyc\u001b[0m in \u001b[0;36mread\u001b[1;34m(self, nrows)\u001b[0m\n\u001b[0;32m    745\u001b[0m                 \u001b[1;32mraise\u001b[0m \u001b[0mValueError\u001b[0m\u001b[1;33m(\u001b[0m\u001b[1;34m'skip_footer not supported for iteration'\u001b[0m\u001b[1;33m)\u001b[0m\u001b[1;33m\u001b[0m\u001b[0m\n\u001b[0;32m    746\u001b[0m \u001b[1;33m\u001b[0m\u001b[0m\n\u001b[1;32m--> 747\u001b[1;33m         \u001b[0mret\u001b[0m \u001b[1;33m=\u001b[0m \u001b[0mself\u001b[0m\u001b[1;33m.\u001b[0m\u001b[0m_engine\u001b[0m\u001b[1;33m.\u001b[0m\u001b[0mread\u001b[0m\u001b[1;33m(\u001b[0m\u001b[0mnrows\u001b[0m\u001b[1;33m)\u001b[0m\u001b[1;33m\u001b[0m\u001b[0m\n\u001b[0m\u001b[0;32m    748\u001b[0m \u001b[1;33m\u001b[0m\u001b[0m\n\u001b[0;32m    749\u001b[0m         \u001b[1;32mif\u001b[0m \u001b[0mself\u001b[0m\u001b[1;33m.\u001b[0m\u001b[0moptions\u001b[0m\u001b[1;33m.\u001b[0m\u001b[0mget\u001b[0m\u001b[1;33m(\u001b[0m\u001b[1;34m'as_recarray'\u001b[0m\u001b[1;33m)\u001b[0m\u001b[1;33m:\u001b[0m\u001b[1;33m\u001b[0m\u001b[0m\n",
      "\u001b[1;32m/home/gus/anaconda2/envs/stack2/lib/python2.7/site-packages/pandas/io/parsers.pyc\u001b[0m in \u001b[0;36mread\u001b[1;34m(self, nrows)\u001b[0m\n\u001b[0;32m   1195\u001b[0m     \u001b[1;32mdef\u001b[0m \u001b[0mread\u001b[0m\u001b[1;33m(\u001b[0m\u001b[0mself\u001b[0m\u001b[1;33m,\u001b[0m \u001b[0mnrows\u001b[0m\u001b[1;33m=\u001b[0m\u001b[0mNone\u001b[0m\u001b[1;33m)\u001b[0m\u001b[1;33m:\u001b[0m\u001b[1;33m\u001b[0m\u001b[0m\n\u001b[0;32m   1196\u001b[0m         \u001b[1;32mtry\u001b[0m\u001b[1;33m:\u001b[0m\u001b[1;33m\u001b[0m\u001b[0m\n\u001b[1;32m-> 1197\u001b[1;33m             \u001b[0mdata\u001b[0m \u001b[1;33m=\u001b[0m \u001b[0mself\u001b[0m\u001b[1;33m.\u001b[0m\u001b[0m_reader\u001b[0m\u001b[1;33m.\u001b[0m\u001b[0mread\u001b[0m\u001b[1;33m(\u001b[0m\u001b[0mnrows\u001b[0m\u001b[1;33m)\u001b[0m\u001b[1;33m\u001b[0m\u001b[0m\n\u001b[0m\u001b[0;32m   1198\u001b[0m         \u001b[1;32mexcept\u001b[0m \u001b[0mStopIteration\u001b[0m\u001b[1;33m:\u001b[0m\u001b[1;33m\u001b[0m\u001b[0m\n\u001b[0;32m   1199\u001b[0m             \u001b[1;32mif\u001b[0m \u001b[0mself\u001b[0m\u001b[1;33m.\u001b[0m\u001b[0m_first_chunk\u001b[0m\u001b[1;33m:\u001b[0m\u001b[1;33m\u001b[0m\u001b[0m\n",
      "\u001b[1;31mKeyboardInterrupt\u001b[0m: "
     ]
    }
   ],
   "source": [
    "blast = pd.read_csv(blast_table, sep='\\t')\n",
    "blast.head()"
   ]
  },
  {
   "cell_type": "markdown",
   "metadata": {},
   "source": [
    "# get Gff annotations that overlap blast hits"
   ]
  },
  {
   "cell_type": "code",
   "execution_count": 11,
   "metadata": {
    "collapsed": true
   },
   "outputs": [],
   "source": [
    "# load gene models into pybedtools object and filter for only gene features\n",
    "annotations = pbt.BedTool(gff3)\n",
    "genes = annotations.filter(lambda x: x[2] == 'gene').saveas()"
   ]
  },
  {
   "cell_type": "code",
   "execution_count": 12,
   "metadata": {
    "collapsed": false
   },
   "outputs": [],
   "source": [
    "intergenic_snps = snps.subtract(genes)\n",
    "nearby = genes.closest(intergenic_snps, d=True, stream=True)\n",
    "\n",
    "for gene in nearby:\n",
    "    if int(gene[-1]) < 500000:\n",
    "        print(gene.name)"
   ]
  },
  {
   "cell_type": "code",
   "execution_count": 13,
   "metadata": {
    "collapsed": false
   },
   "outputs": [
    {
     "data": {
      "text/plain": [
       "0"
      ]
     },
     "execution_count": 13,
     "metadata": {},
     "output_type": "execute_result"
    }
   ],
   "source": [
    "len(nearby)"
   ]
  },
  {
   "cell_type": "code",
   "execution_count": 17,
   "metadata": {
    "collapsed": false
   },
   "outputs": [],
   "source": [
    "snps_near_genes = genes.window(snps)"
   ]
  },
  {
   "cell_type": "code",
   "execution_count": 18,
   "metadata": {
    "collapsed": false
   },
   "outputs": [
    {
     "name": "stdout",
     "output_type": "stream",
     "text": [
      "Scaffold48\tVectorBase\tgene\t1010508\t1015646\t.\t-\t.\tID=GFUI035780;biotype=protein_coding\tScaffold48\t1013372\t1013373\n",
      "Scaffold19\tVectorBase\tgene\t634\t8385\t.\t+\t.\tID=GFUI014330;biotype=protein_coding\tScaffold19\t9152\t9153\n",
      "Scaffold19\tVectorBase\tgene\t4525\t8199\t.\t-\t.\tID=GFUI014341;biotype=protein_coding\tScaffold19\t9152\t9153\n",
      "Scaffold19\tVectorBase\tgene\t8783\t9145\t.\t+\t.\tID=GFUI014338;biotype=protein_coding\tScaffold19\t9152\t9153\n",
      "Scaffold68\tVectorBase\tgene\t670788\t675535\t.\t-\t.\tID=GFUI044372;biotype=protein_coding\tScaffold68\t674452\t674453\n",
      "Scaffold2\tVectorBase\tgene\t2049172\t2055557\t.\t-\t.\tID=GFUI023720;biotype=protein_coding\tScaffold2\t2053967\t2053968\n",
      "Scaffold13\tVectorBase\tgene\t661757\t662258\t.\t-\t.\tID=GFUI007757;biotype=protein_coding\tScaffold13\t663210\t663211\n",
      "Scaffold13\tVectorBase\tgene\t664137\t672949\t.\t-\t.\tID=GFUI007758;biotype=protein_coding\tScaffold13\t663210\t663211\n",
      "Scaffold175\tVectorBase\tgene\t338045\t347826\t.\t+\t.\tID=GFUI011907;biotype=protein_coding\tScaffold175\t347131\t347132\n",
      "Scaffold29\tVectorBase\tgene\t692551\t700548\t.\t+\t.\tID=GFUI023379;biotype=protein_coding\tScaffold29\t698412\t698413\n",
      "Scaffold29\tVectorBase\tgene\t979695\t984251\t.\t+\t.\tID=GFUI023413;biotype=protein_coding\tScaffold29\t981387\t981388\n",
      "Scaffold31\tVectorBase\tgene\t1294650\t1305276\t.\t-\t.\tID=GFUI025266;biotype=protein_coding\tScaffold31\t1295322\t1295323\n",
      "Scaffold144\tVectorBase\tgene\t567695\t601114\t.\t-\t.\tID=GFUI008496;biotype=protein_coding\tScaffold144\t593215\t593216\n",
      "Scaffold33\tVectorBase\tgene\t1350514\t1393924\t.\t+\t.\tID=GFUI026687;biotype=protein_coding\tScaffold33\t1387925\t1387926\n",
      "Scaffold60\tVectorBase\tgene\t719013\t730285\t.\t-\t.\tID=GFUI041617;biotype=protein_coding\tScaffold60\t719096\t719097\n",
      "Scaffold8\tVectorBase\tgene\t1743435\t1748246\t.\t-\t.\tID=GFUI051070;biotype=protein_coding\tScaffold8\t1744225\t1744226\n",
      "Scaffold8\tVectorBase\tgene\t2104911\t2117876\t.\t-\t.\tID=GFUI051145;biotype=protein_coding\tScaffold8\t2113004\t2113005\n",
      "Scaffold8\tVectorBase\tgene\t2114000\t2117005\t.\t+\t.\tID=GFUI051147;biotype=protein_coding\tScaffold8\t2113004\t2113005\n",
      "Scaffold27\tVectorBase\tgene\t978337\t993013\t.\t-\t.\tID=GFUI021847;biotype=protein_coding\tScaffold27\t987832\t987833\n",
      "Scaffold69\tVectorBase\tgene\t943450\t955659\t.\t+\t.\tID=GFUI044744;biotype=protein_coding\tScaffold69\t950693\t950694\n",
      "Scaffold3\tVectorBase\tgene\t2226588\t2245585\t.\t-\t.\tID=GFUI030827;biotype=protein_coding\tScaffold3\t2237136\t2237137\n",
      "Scaffold137\tVectorBase\tgene\t608556\t619673\t.\t-\t.\tID=GFUI007441;biotype=protein_coding\tScaffold137\t615406\t615407\n",
      "Scaffold9\tVectorBase\tgene\t1781886\t1795578\t.\t-\t.\tID=GFUI053467;biotype=protein_coding\tScaffold9\t1794420\t1794421\n",
      "Scaffold250\tVectorBase\tgene\t89620\t92170\t.\t-\t.\tID=GFUI019541;biotype=protein_coding\tScaffold250\t89163\t89164\n",
      "\n"
     ]
    }
   ],
   "source": [
    "print(snps_near_genes)"
   ]
  },
  {
   "cell_type": "code",
   "execution_count": null,
   "metadata": {
    "collapsed": true
   },
   "outputs": [],
   "source": []
  }
 ],
 "metadata": {
  "kernelspec": {
   "display_name": "Python 2",
   "language": "python",
   "name": "python2"
  },
  "language_info": {
   "codemirror_mode": {
    "name": "ipython",
    "version": 2
   },
   "file_extension": ".py",
   "mimetype": "text/x-python",
   "name": "python",
   "nbconvert_exporter": "python",
   "pygments_lexer": "ipython2",
   "version": "2.7.11"
  }
 },
 "nbformat": 4,
 "nbformat_minor": 0
}
