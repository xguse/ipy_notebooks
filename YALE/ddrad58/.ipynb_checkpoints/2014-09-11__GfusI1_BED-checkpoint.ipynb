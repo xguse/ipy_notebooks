{
 "metadata": {
  "kernelspec": {
   "codemirror_mode": {
    "name": "ipython",
    "version": 2
   },
   "display_name": "IPython (Python 2)",
   "language": "python",
   "name": "python2"
  },
  "name": "",
  "signature": "sha256:096b7467d7e078aaf75ad64f0a34089215c6f4e10d0b860528db473afc60ee7b"
 },
 "nbformat": 3,
 "nbformat_minor": 0,
 "worksheets": [
  {
   "cells": [
    {
     "cell_type": "heading",
     "level": 1,
     "metadata": {},
     "source": [
      "Generating a contig BED file for `GfusI1`"
     ]
    },
    {
     "cell_type": "code",
     "collapsed": false,
     "input": [
      "from spartan.utils import fastas"
     ],
     "language": "python",
     "metadata": {},
     "outputs": [],
     "prompt_number": 1
    },
    {
     "cell_type": "code",
     "collapsed": false,
     "input": [
      "GfusI1 = \"/home2/wd238/data/genomes/glossina_fuscipes/assemblies/GfusI1/Glossina-fuscipes-IAEA_SCAFFOLDS_GfusI1.fa\""
     ],
     "language": "python",
     "metadata": {},
     "outputs": [],
     "prompt_number": 2
    },
    {
     "cell_type": "code",
     "collapsed": false,
     "input": [
      "!head /home2/wd238/data/genomes/glossina_fuscipes/assemblies/GfusI1/Glossina-fuscipes-IAEA_SCAFFOLDS_GfusI1.fa"
     ],
     "language": "python",
     "metadata": {},
     "outputs": [
      {
       "output_type": "stream",
       "stream": "stdout",
       "text": [
        ">KK351785.1 Glossina fuscipes fuscipes unplaced genomic scaffold Scaffold0, whole genome shotgun sequence\r\n",
        "TATATATATATATATATATATATATATATATATATATATATATATATATATATATATATATATATATGTG\r\n",
        "TATCAATGTCAGCTACTTTCAATAATGTAGATATTTATGCGATATTTATGTATATACTTATAGTAAGAAA\r\n",
        "TTATTCACACCTACCGCAAATAGATAGATATCCGTTAGTCGACGTAAAATATCATTTTATAATTATTCGT\r\n",
        "ATTGATAATATGGTTTTTGTTATTTATACTATAATATACGTACGTACATACATACATACATACATATATT\r\n",
        "TCTTTTATTTATATATAAATAATTCTGTTTATTTTTTTTGTTTTTTTTTGTTTTTTTTTTGTTTTTGTTT\r\n",
        "TTTTTTGTTTTTTTTTGATTTAATGCAACTGCCGTTCAGTTTTGACATTTAAATCTCATTGACGATATAA\r\n",
        "ACTACTTATCGAACATAATTAACAACAGTGTCATAGTAACATCGCTTAATCTGCCATCATATATAGCATG\r\n",
        "GTATGCGTATGCGTATGCGTATGTATACGAGATAGAACGATACTAATGAATGATTTATGATCTTCAATTA\r\n",
        "TGATACTTTATATGATTAATTCGTATATAAGCTGCTTCAACGAATGCATATAAACGAACAGCATATGCAG\r\n"
       ]
      }
     ],
     "prompt_number": 3
    },
    {
     "cell_type": "code",
     "collapsed": false,
     "input": [
      "GfusI1_index = fastas.fastaRec_length_indexer([GfusI1])[0]"
     ],
     "language": "python",
     "metadata": {},
     "outputs": [],
     "prompt_number": 4
    },
    {
     "cell_type": "code",
     "collapsed": false,
     "input": [
      "GfusI1_index.items()[:10]"
     ],
     "language": "python",
     "metadata": {},
     "outputs": [
      {
       "metadata": {},
       "output_type": "pyout",
       "prompt_number": 5,
       "text": [
        "[('KK352346.1', 193315),\n",
        " ('KK352610.1', 83110),\n",
        " ('KK352241.1', 243873),\n",
        " ('JFJR01012964.1', 3083),\n",
        " ('KK352052.1', 427914),\n",
        " ('KK351938.1', 581351),\n",
        " ('KK352431.1', 148373),\n",
        " ('KK351859.1', 941631),\n",
        " ('KK352893.1', 26017),\n",
        " ('JFJR01012966.1', 3020)]"
       ]
      }
     ],
     "prompt_number": 5
    },
    {
     "cell_type": "code",
     "collapsed": false,
     "input": [
      "def write_contig_BED(len_index, out_file_path):\n",
      "    \"\"\"\n",
      "    Writes to `out_file_path` the information in `len_index` in headerless BED 3-field format:\n",
      "    \n",
      "    contig_name    0    length-1\n",
      "    \"\"\"\n",
      "    with open(out_file_path, 'w') as out:\n",
      "        for contig, length in len_index.items():\n",
      "            \n",
      "            fields = {\"contig\": contig,\n",
      "                      \"start\": \"0\",\n",
      "                      \"end\": str(length-1)}\n",
      "            \n",
      "            line = \"%(contig)s\\t%(start)s\\t%(end)s\\n\" % fields\n",
      "            \n",
      "            out.write(line)\n",
      "            "
     ],
     "language": "python",
     "metadata": {},
     "outputs": [],
     "prompt_number": 6
    },
    {
     "cell_type": "code",
     "collapsed": false,
     "input": [
      "out_path = \"/home2/wd238/data/genomes/glossina_fuscipes/assemblies/GfusI1/GfusI1_contigs.bed\"\n",
      "write_contig_BED(GfusI1_index, out_path)"
     ],
     "language": "python",
     "metadata": {},
     "outputs": [],
     "prompt_number": 7
    },
    {
     "cell_type": "code",
     "collapsed": false,
     "input": [
      "!head /home2/wd238/data/genomes/glossina_fuscipes/assemblies/GfusI1/GfusI1_contigs.bed"
     ],
     "language": "python",
     "metadata": {},
     "outputs": [
      {
       "output_type": "stream",
       "stream": "stdout",
       "text": [
        "KK352346.1\t0\t193314\r\n",
        "KK352610.1\t0\t83109\r\n",
        "KK352241.1\t0\t243872\r\n",
        "JFJR01012964.1\t0\t3082\r\n",
        "KK352052.1\t0\t427913\r\n",
        "KK351938.1\t0\t581350\r\n",
        "KK352431.1\t0\t148372\r\n",
        "KK351859.1\t0\t941630\r\n",
        "KK352893.1\t0\t26016\r\n",
        "JFJR01012966.1\t0\t3019\r\n"
       ]
      }
     ],
     "prompt_number": 8
    },
    {
     "cell_type": "heading",
     "level": 2,
     "metadata": {},
     "source": [
      "How are the lengths distributed in the file?"
     ]
    },
    {
     "cell_type": "markdown",
     "metadata": {},
     "source": [
      "__NOTE:__ Andrea mentioned this was to split the `mpileup` work into 5 or so parts.  Lets see how the lengths are distributed to ensure mostly even work load distributed between the 5 jobs. "
     ]
    },
    {
     "cell_type": "code",
     "collapsed": false,
     "input": [
      "%matplotlib inline\n",
      "import seaborn\n",
      "import matplotlib.pyplot as plt"
     ],
     "language": "python",
     "metadata": {},
     "outputs": [],
     "prompt_number": 9
    },
    {
     "cell_type": "code",
     "collapsed": false,
     "input": [
      "plt.plot(GfusI1_index.values())"
     ],
     "language": "python",
     "metadata": {},
     "outputs": [
      {
       "metadata": {},
       "output_type": "pyout",
       "prompt_number": 10,
       "text": [
        "[<matplotlib.lines.Line2D at 0x2b91c5757c10>]"
       ]
      },
      {
       "metadata": {},
       "output_type": "display_data",
       "png": "[encoded data removed]",
       "text": [
        "<matplotlib.figure.Figure at 0x2b91c56a7910>"
       ]
      }
     ],
     "prompt_number": 10
    },
    {
     "cell_type": "markdown",
     "metadata": {},
     "source": [
      "Looks pretty good."
     ]
    },
    {
     "cell_type": "heading",
     "level": 1,
     "metadata": {},
     "source": [
      "The location of the BED file in `louise`:"
     ]
    },
    {
     "cell_type": "code",
     "collapsed": false,
     "input": [
      "print out_path"
     ],
     "language": "python",
     "metadata": {},
     "outputs": [
      {
       "output_type": "stream",
       "stream": "stdout",
       "text": [
        "/home2/wd238/data/genomes/glossina_fuscipes/assemblies/GfusI1/GfusI1_contigs.bed\n"
       ]
      }
     ],
     "prompt_number": 11
    }
   ],
   "metadata": {}
  }
 ]
}