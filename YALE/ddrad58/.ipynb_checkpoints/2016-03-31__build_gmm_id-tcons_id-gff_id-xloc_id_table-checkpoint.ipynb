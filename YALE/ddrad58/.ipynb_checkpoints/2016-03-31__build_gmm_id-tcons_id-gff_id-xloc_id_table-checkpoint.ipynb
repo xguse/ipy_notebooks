{
 "cells": [
  {
   "cell_type": "markdown",
   "metadata": {},
   "source": [
    "## Imports:"
   ]
  },
  {
   "cell_type": "code",
   "execution_count": 3,
   "metadata": {
    "collapsed": false
   },
   "outputs": [],
   "source": [
    "from __future__ import unicode_literals\n",
    "from __future__ import division\n",
    "from __future__ import print_function\n",
    "\n",
    "import pandas as pd\n",
    "pd.set_option('display.max_columns', 60)\n",
    "\n"
   ]
  },
  {
   "cell_type": "markdown",
   "metadata": {},
   "source": [
    "## File paths:"
   ]
  },
  {
   "cell_type": "code",
   "execution_count": 7,
   "metadata": {
    "collapsed": true
   },
   "outputs": [],
   "source": [
    "cuffcmp_tracking_path = \"/home/gus/MEGAsync/zim/main/Yale/Collaborations/Hongyu-tsetse/gmm_to_gff_pipeline/pipeline_prep/2016-02-05_comprehensive_Gmm_transcript_set/Gisella2016_Morsitan_transcriptome/cuffcmp.tracking\"\n",
    "ortho_table_path = \"/home/gus/MEGAsync/zim/main/Yale/Collaborations/Hongyu-tsetse/gmm_to_gff_pipeline/pipeline_prep/vectorbase_orthologs_GMOY_GFUI.csv\""
   ]
  },
  {
   "cell_type": "markdown",
   "metadata": {},
   "source": [
    "# Functions"
   ]
  },
  {
   "cell_type": "code",
   "execution_count": 28,
   "metadata": {
    "collapsed": true
   },
   "outputs": [],
   "source": [
    "def load_ortho_table(path):\n",
    "    df = pd.read_csv(path, sep=',')\n",
    "    \n",
    "    df = df.iloc[:,0:2]\n",
    "    df.columns = [\"gene_id_external\",\"gene_id_internal\"]\n",
    "    \n",
    "    return df\n",
    "\n",
    "def load_tracking_table(path):\n",
    "    df = pd.read_csv(path, sep='\\t', names=[\"tcons_id\",\"xloc_id\",\"gene_id_tx_id\",\"class_code\",\"info\"])\n",
    "    \n",
    "    df['gene_id_external'] = df.gene_id_tx_id.apply(lambda i: i.split('|')[0] if i != '-' else i)\n",
    "    columns = [\"tcons_id\",\"xloc_id\",\"gene_id_external\"]\n",
    "    \n",
    "    return df[columns].copy()\n",
    "\n",
    "def combine_tracking_and_orthologs(tracking,orthologs):\n",
    "    df = pd.merge(left=tracking, right=orthologs,\n",
    "                  on=\"gene_id_external\", left_on=None, right_on=None,\n",
    "                  left_index=False, right_index=False,\n",
    "                  sort=False, suffixes=('_x', '_y'), copy=True, indicator=False).fillna('-')\n",
    "    return df"
   ]
  },
  {
   "cell_type": "markdown",
   "metadata": {},
   "source": [
    "# Load files"
   ]
  },
  {
   "cell_type": "code",
   "execution_count": 18,
   "metadata": {
    "collapsed": false
   },
   "outputs": [
    {
     "data": {
      "text/html": [
       "<div>\n",
       "<table border=\"1\" class=\"dataframe\">\n",
       "  <thead>\n",
       "    <tr style=\"text-align: right;\">\n",
       "      <th></th>\n",
       "      <th>tcons_id</th>\n",
       "      <th>xloc_id</th>\n",
       "      <th>gene_id_external</th>\n",
       "    </tr>\n",
       "  </thead>\n",
       "  <tbody>\n",
       "    <tr>\n",
       "      <th>0</th>\n",
       "      <td>TCONS_00000001</td>\n",
       "      <td>XLOC_000001</td>\n",
       "      <td>-</td>\n",
       "    </tr>\n",
       "    <tr>\n",
       "      <th>1</th>\n",
       "      <td>TCONS_00000002</td>\n",
       "      <td>XLOC_000002</td>\n",
       "      <td>-</td>\n",
       "    </tr>\n",
       "    <tr>\n",
       "      <th>2</th>\n",
       "      <td>TCONS_00000003</td>\n",
       "      <td>XLOC_000003</td>\n",
       "      <td>-</td>\n",
       "    </tr>\n",
       "    <tr>\n",
       "      <th>3</th>\n",
       "      <td>TCONS_00000004</td>\n",
       "      <td>XLOC_000004</td>\n",
       "      <td>-</td>\n",
       "    </tr>\n",
       "    <tr>\n",
       "      <th>4</th>\n",
       "      <td>TCONS_00000005</td>\n",
       "      <td>XLOC_000005</td>\n",
       "      <td>GMOY000001</td>\n",
       "    </tr>\n",
       "  </tbody>\n",
       "</table>\n",
       "</div>"
      ],
      "text/plain": [
       "         tcons_id      xloc_id gene_id_external\n",
       "0  TCONS_00000001  XLOC_000001                -\n",
       "1  TCONS_00000002  XLOC_000002                -\n",
       "2  TCONS_00000003  XLOC_000003                -\n",
       "3  TCONS_00000004  XLOC_000004                -\n",
       "4  TCONS_00000005  XLOC_000005       GMOY000001"
      ]
     },
     "execution_count": 18,
     "metadata": {},
     "output_type": "execute_result"
    }
   ],
   "source": [
    "tracking = load_tracking_table(cuffcmp_tracking_path)\n",
    "tracking.head()"
   ]
  },
  {
   "cell_type": "code",
   "execution_count": 17,
   "metadata": {
    "collapsed": false
   },
   "outputs": [
    {
     "data": {
      "text/html": [
       "<div>\n",
       "<table border=\"1\" class=\"dataframe\">\n",
       "  <thead>\n",
       "    <tr style=\"text-align: right;\">\n",
       "      <th></th>\n",
       "      <th>gene_id_external</th>\n",
       "      <th>gene_id_internal</th>\n",
       "    </tr>\n",
       "  </thead>\n",
       "  <tbody>\n",
       "    <tr>\n",
       "      <th>0</th>\n",
       "      <td>GMOY005425</td>\n",
       "      <td>GFUI009881</td>\n",
       "    </tr>\n",
       "    <tr>\n",
       "      <th>1</th>\n",
       "      <td>GMOY005426</td>\n",
       "      <td>GFUI009872</td>\n",
       "    </tr>\n",
       "    <tr>\n",
       "      <th>2</th>\n",
       "      <td>GMOY005427</td>\n",
       "      <td>GFUI009879</td>\n",
       "    </tr>\n",
       "    <tr>\n",
       "      <th>3</th>\n",
       "      <td>GMOY005428</td>\n",
       "      <td>GFUI009867</td>\n",
       "    </tr>\n",
       "    <tr>\n",
       "      <th>4</th>\n",
       "      <td>GMOY005430</td>\n",
       "      <td>GFUI009870</td>\n",
       "    </tr>\n",
       "  </tbody>\n",
       "</table>\n",
       "</div>"
      ],
      "text/plain": [
       "  gene_id_external gene_id_internal\n",
       "0       GMOY005425       GFUI009881\n",
       "1       GMOY005426       GFUI009872\n",
       "2       GMOY005427       GFUI009879\n",
       "3       GMOY005428       GFUI009867\n",
       "4       GMOY005430       GFUI009870"
      ]
     },
     "execution_count": 17,
     "metadata": {},
     "output_type": "execute_result"
    }
   ],
   "source": [
    "ortho_table = load_ortho_table(ortho_table_path)\n",
    "ortho_table.head()"
   ]
  },
  {
   "cell_type": "markdown",
   "metadata": {},
   "source": [
    "# Correctly combine tables"
   ]
  },
  {
   "cell_type": "code",
   "execution_count": 29,
   "metadata": {
    "collapsed": false
   },
   "outputs": [],
   "source": [
    "combined = combine_tracking_and_orthologs(tracking=tracking, orthologs=ortho_table)"
   ]
  },
  {
   "cell_type": "code",
   "execution_count": 30,
   "metadata": {
    "collapsed": false
   },
   "outputs": [
    {
     "data": {
      "text/plain": [
       "TCONS_00045767    14\n",
       "TCONS_00045763    14\n",
       "TCONS_00045764    14\n",
       "TCONS_00045765    14\n",
       "TCONS_00045775    14\n",
       "Name: tcons_id, dtype: int64"
      ]
     },
     "execution_count": 30,
     "metadata": {},
     "output_type": "execute_result"
    }
   ],
   "source": [
    "combined.tcons_id.value_counts().head()"
   ]
  },
  {
   "cell_type": "code",
   "execution_count": 31,
   "metadata": {
    "collapsed": false
   },
   "outputs": [
    {
     "data": {
      "text/html": [
       "<div>\n",
       "<table border=\"1\" class=\"dataframe\">\n",
       "  <thead>\n",
       "    <tr style=\"text-align: right;\">\n",
       "      <th></th>\n",
       "      <th>tcons_id</th>\n",
       "      <th>xloc_id</th>\n",
       "      <th>gene_id_external</th>\n",
       "      <th>gene_id_internal</th>\n",
       "    </tr>\n",
       "  </thead>\n",
       "  <tbody>\n",
       "    <tr>\n",
       "      <th>27679</th>\n",
       "      <td>TCONS_00045763</td>\n",
       "      <td>XLOC_022433</td>\n",
       "      <td>GMOY006454</td>\n",
       "      <td>GFUI023722</td>\n",
       "    </tr>\n",
       "    <tr>\n",
       "      <th>27680</th>\n",
       "      <td>TCONS_00045763</td>\n",
       "      <td>XLOC_022433</td>\n",
       "      <td>GMOY006454</td>\n",
       "      <td>GFUI027649</td>\n",
       "    </tr>\n",
       "    <tr>\n",
       "      <th>27681</th>\n",
       "      <td>TCONS_00045763</td>\n",
       "      <td>XLOC_022433</td>\n",
       "      <td>GMOY006454</td>\n",
       "      <td>GFUI028167</td>\n",
       "    </tr>\n",
       "    <tr>\n",
       "      <th>27682</th>\n",
       "      <td>TCONS_00045763</td>\n",
       "      <td>XLOC_022433</td>\n",
       "      <td>GMOY006454</td>\n",
       "      <td>GFUI046094</td>\n",
       "    </tr>\n",
       "    <tr>\n",
       "      <th>27683</th>\n",
       "      <td>TCONS_00045763</td>\n",
       "      <td>XLOC_022433</td>\n",
       "      <td>GMOY006454</td>\n",
       "      <td>GFUI033906</td>\n",
       "    </tr>\n",
       "    <tr>\n",
       "      <th>27684</th>\n",
       "      <td>TCONS_00045763</td>\n",
       "      <td>XLOC_022433</td>\n",
       "      <td>GMOY006454</td>\n",
       "      <td>GFUI022812</td>\n",
       "    </tr>\n",
       "    <tr>\n",
       "      <th>27685</th>\n",
       "      <td>TCONS_00045763</td>\n",
       "      <td>XLOC_022433</td>\n",
       "      <td>GMOY006454</td>\n",
       "      <td>GFUI005975</td>\n",
       "    </tr>\n",
       "    <tr>\n",
       "      <th>27686</th>\n",
       "      <td>TCONS_00045763</td>\n",
       "      <td>XLOC_022433</td>\n",
       "      <td>GMOY006454</td>\n",
       "      <td>GFUI044439</td>\n",
       "    </tr>\n",
       "    <tr>\n",
       "      <th>27687</th>\n",
       "      <td>TCONS_00045763</td>\n",
       "      <td>XLOC_022433</td>\n",
       "      <td>GMOY006454</td>\n",
       "      <td>GFUI031543</td>\n",
       "    </tr>\n",
       "    <tr>\n",
       "      <th>27688</th>\n",
       "      <td>TCONS_00045763</td>\n",
       "      <td>XLOC_022433</td>\n",
       "      <td>GMOY006454</td>\n",
       "      <td>GFUI032259</td>\n",
       "    </tr>\n",
       "    <tr>\n",
       "      <th>27689</th>\n",
       "      <td>TCONS_00045763</td>\n",
       "      <td>XLOC_022433</td>\n",
       "      <td>GMOY006454</td>\n",
       "      <td>GFUI043428</td>\n",
       "    </tr>\n",
       "    <tr>\n",
       "      <th>27690</th>\n",
       "      <td>TCONS_00045763</td>\n",
       "      <td>XLOC_022433</td>\n",
       "      <td>GMOY006454</td>\n",
       "      <td>GFUI000981</td>\n",
       "    </tr>\n",
       "    <tr>\n",
       "      <th>27691</th>\n",
       "      <td>TCONS_00045763</td>\n",
       "      <td>XLOC_022433</td>\n",
       "      <td>GMOY006454</td>\n",
       "      <td>GFUI049213</td>\n",
       "    </tr>\n",
       "    <tr>\n",
       "      <th>27692</th>\n",
       "      <td>TCONS_00045763</td>\n",
       "      <td>XLOC_022433</td>\n",
       "      <td>GMOY006454</td>\n",
       "      <td>GFUI033405</td>\n",
       "    </tr>\n",
       "  </tbody>\n",
       "</table>\n",
       "</div>"
      ],
      "text/plain": [
       "             tcons_id      xloc_id gene_id_external gene_id_internal\n",
       "27679  TCONS_00045763  XLOC_022433       GMOY006454       GFUI023722\n",
       "27680  TCONS_00045763  XLOC_022433       GMOY006454       GFUI027649\n",
       "27681  TCONS_00045763  XLOC_022433       GMOY006454       GFUI028167\n",
       "27682  TCONS_00045763  XLOC_022433       GMOY006454       GFUI046094\n",
       "27683  TCONS_00045763  XLOC_022433       GMOY006454       GFUI033906\n",
       "27684  TCONS_00045763  XLOC_022433       GMOY006454       GFUI022812\n",
       "27685  TCONS_00045763  XLOC_022433       GMOY006454       GFUI005975\n",
       "27686  TCONS_00045763  XLOC_022433       GMOY006454       GFUI044439\n",
       "27687  TCONS_00045763  XLOC_022433       GMOY006454       GFUI031543\n",
       "27688  TCONS_00045763  XLOC_022433       GMOY006454       GFUI032259\n",
       "27689  TCONS_00045763  XLOC_022433       GMOY006454       GFUI043428\n",
       "27690  TCONS_00045763  XLOC_022433       GMOY006454       GFUI000981\n",
       "27691  TCONS_00045763  XLOC_022433       GMOY006454       GFUI049213\n",
       "27692  TCONS_00045763  XLOC_022433       GMOY006454       GFUI033405"
      ]
     },
     "execution_count": 31,
     "metadata": {},
     "output_type": "execute_result"
    }
   ],
   "source": [
    "combined.query(''' tcons_id == \"TCONS_00045763\" ''')"
   ]
  },
  {
   "cell_type": "code",
   "execution_count": 32,
   "metadata": {
    "collapsed": false
   },
   "outputs": [
    {
     "data": {
      "text/plain": [
       "(53277, 4)"
      ]
     },
     "execution_count": 32,
     "metadata": {},
     "output_type": "execute_result"
    }
   ],
   "source": [
    "combined.shape"
   ]
  },
  {
   "cell_type": "code",
   "execution_count": 33,
   "metadata": {
    "collapsed": false
   },
   "outputs": [
    {
     "data": {
      "text/plain": [
       "(53277, 4)"
      ]
     },
     "execution_count": 33,
     "metadata": {},
     "output_type": "execute_result"
    }
   ],
   "source": [
    "combined.drop_duplicates().shape"
   ]
  },
  {
   "cell_type": "code",
   "execution_count": null,
   "metadata": {
    "collapsed": true
   },
   "outputs": [],
   "source": []
  }
 ],
 "metadata": {
  "kernelspec": {
   "display_name": "Python 2",
   "language": "python",
   "name": "python2"
  },
  "language_info": {
   "codemirror_mode": {
    "name": "ipython",
    "version": 2
   },
   "file_extension": ".py",
   "mimetype": "text/x-python",
   "name": "python",
   "nbconvert_exporter": "python",
   "pygments_lexer": "ipython2",
   "version": "2.7.11"
  }
 },
 "nbformat": 4,
 "nbformat_minor": 0
}
