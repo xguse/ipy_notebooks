{
 "cells": [
  {
   "cell_type": "markdown",
   "metadata": {},
   "source": [
    "# Purpose:\n",
    "\n",
    "2014-12-26 (Friday)\n",
    "\n",
    "Create code to make tables with info from `argot2` annotations for all genes in a gene-list."
   ]
  },
  {
   "cell_type": "markdown",
   "metadata": {},
   "source": [
    "# Implementation:"
   ]
  },
  {
   "cell_type": "markdown",
   "metadata": {},
   "source": [
    "## Imports:"
   ]
  },
  {
   "cell_type": "code",
   "execution_count": 12,
   "metadata": {
    "collapsed": false
   },
   "outputs": [],
   "source": [
    "# imports\n",
    "from collections import defaultdict\n",
    "\n",
    "import pandas as pd\n",
    "\n",
    "from spartan.utils.annotations.ensembl.gff3 import parse_gff3_attributes\n",
    "from spartan.utils.files import tableFile2namedTuple"
   ]
  },
  {
   "cell_type": "markdown",
   "metadata": {},
   "source": [
    "## File paths:"
   ]
  },
  {
   "cell_type": "code",
   "execution_count": 6,
   "metadata": {
    "collapsed": true
   },
   "outputs": [],
   "source": [
    "# define paths to files\n",
    "bpth = \"/home/gus/remote_mounts/louise/data/\"\n",
    "\n",
    "## basic genome files\n",
    "fanno = bpth + \"genomes/glossina_fuscipes/annotations/functional/GfusI1.1_pre/argot2_out/argot_functional_annotations_ts150.h5\"\n",
    "\n",
    "## project specific files\n",
    "top1_environment = bpth + \"projects/ddrad58/SNPs_of_interest/genes_near_SNPs/tsetseFINAL_14Oct2014_f2_53_v_GfusI1.1.window.5000.top1_env.gene_list.tsv\"\n",
    "top1_infection = bpth + \"projects/ddrad58/SNPs_of_interest/genes_near_SNPs/tsetseFINAL_14Oct2014_f2_53_v_GfusI1.1.window.5000.top1_infection.gene_list.tsv\"\n",
    "\n",
    "top5_environment = bpth + \"projects/ddrad58/SNPs_of_interest/genes_near_SNPs/tsetseFINAL_14Oct2014_f2_53_v_GfusI1.1.window.5000.top5_env.gene_list.tsv\"\n",
    "top5_infection = bpth + \"projects/ddrad58/SNPs_of_interest/genes_near_SNPs/tsetseFINAL_14Oct2014_f2_53_v_GfusI1.1.window.5000.top5_infection.gene_list.tsv\"\n",
    "\n"
   ]
  },
  {
   "cell_type": "markdown",
   "metadata": {},
   "source": [
    "## Set up main data variables:"
   ]
  },
  {
   "cell_type": "markdown",
   "metadata": {},
   "source": [
    "### Set up annotation database:"
   ]
  },
  {
   "cell_type": "code",
   "execution_count": 7,
   "metadata": {
    "collapsed": true
   },
   "outputs": [],
   "source": [
    "argot2 = pd.read_hdf(path_or_buf=fanno, key='dataframe')"
   ]
  },
  {
   "cell_type": "code",
   "execution_count": 9,
   "metadata": {
    "collapsed": false
   },
   "outputs": [
    {
     "data": {
      "text/html": [
       "<div style=\"max-height:1000px;max-width:1500px;overflow:auto;\">\n",
       "<table border=\"1\" class=\"dataframe\">\n",
       "  <thead>\n",
       "    <tr style=\"text-align: right;\">\n",
       "      <th></th>\n",
       "      <th>Sequence</th>\n",
       "      <th>Aspect</th>\n",
       "      <th>GO ID</th>\n",
       "      <th>Name</th>\n",
       "      <th>Total Score</th>\n",
       "      <th>Internal Confidence</th>\n",
       "      <th>Information Content</th>\n",
       "    </tr>\n",
       "  </thead>\n",
       "  <tbody>\n",
       "    <tr>\n",
       "      <th>0</th>\n",
       "      <td> GFUI034947-PA</td>\n",
       "      <td> P</td>\n",
       "      <td> GO:0006508</td>\n",
       "      <td>                          proteolysis</td>\n",
       "      <td> 270.313447</td>\n",
       "      <td> 0.496543</td>\n",
       "      <td>  8.247696</td>\n",
       "    </tr>\n",
       "    <tr>\n",
       "      <th>1</th>\n",
       "      <td> GFUI035874-PA</td>\n",
       "      <td> F</td>\n",
       "      <td> GO:0005515</td>\n",
       "      <td>                      protein binding</td>\n",
       "      <td> 529.038456</td>\n",
       "      <td> 0.500000</td>\n",
       "      <td>  5.471582</td>\n",
       "    </tr>\n",
       "    <tr>\n",
       "      <th>2</th>\n",
       "      <td> GFUI033625-PA</td>\n",
       "      <td> P</td>\n",
       "      <td> GO:0005980</td>\n",
       "      <td>           glycogen catabolic process</td>\n",
       "      <td> 307.758251</td>\n",
       "      <td> 0.284597</td>\n",
       "      <td> 13.424450</td>\n",
       "    </tr>\n",
       "    <tr>\n",
       "      <th>3</th>\n",
       "      <td> GFUI033625-PA</td>\n",
       "      <td> F</td>\n",
       "      <td> GO:0004134</td>\n",
       "      <td>  4-alpha-glucanotransferase activity</td>\n",
       "      <td> 159.513252</td>\n",
       "      <td> 0.177063</td>\n",
       "      <td> 10.153643</td>\n",
       "    </tr>\n",
       "    <tr>\n",
       "      <th>4</th>\n",
       "      <td> GFUI033625-PA</td>\n",
       "      <td> F</td>\n",
       "      <td> GO:0004135</td>\n",
       "      <td> amylo-alpha-1,6-glucosidase activity</td>\n",
       "      <td> 184.352303</td>\n",
       "      <td> 0.177063</td>\n",
       "      <td> 11.734746</td>\n",
       "    </tr>\n",
       "  </tbody>\n",
       "</table>\n",
       "</div>"
      ],
      "text/plain": [
       "        Sequence Aspect       GO ID                                  Name  \\\n",
       "0  GFUI034947-PA      P  GO:0006508                           proteolysis   \n",
       "1  GFUI035874-PA      F  GO:0005515                       protein binding   \n",
       "2  GFUI033625-PA      P  GO:0005980            glycogen catabolic process   \n",
       "3  GFUI033625-PA      F  GO:0004134   4-alpha-glucanotransferase activity   \n",
       "4  GFUI033625-PA      F  GO:0004135  amylo-alpha-1,6-glucosidase activity   \n",
       "\n",
       "   Total Score  Internal Confidence  Information Content  \n",
       "0   270.313447             0.496543             8.247696  \n",
       "1   529.038456             0.500000             5.471582  \n",
       "2   307.758251             0.284597            13.424450  \n",
       "3   159.513252             0.177063            10.153643  \n",
       "4   184.352303             0.177063            11.734746  "
      ]
     },
     "execution_count": 9,
     "metadata": {},
     "output_type": "execute_result"
    }
   ],
   "source": [
    "argot2.head()"
   ]
  },
  {
   "cell_type": "markdown",
   "metadata": {},
   "source": [
    "### Set up gene/SNP relationship data:"
   ]
  },
  {
   "cell_type": "markdown",
   "metadata": {},
   "source": [
    "#### Function to create dictionary-based retrieval object for gene/SNP data:"
   ]
  },
  {
   "cell_type": "code",
   "execution_count": 11,
   "metadata": {
    "collapsed": true
   },
   "outputs": [],
   "source": [
    "def bed3_v_gff3_window_by_gff3_ID(bedtools_window_out):\n",
    "    headers = [\"bed3_seq\",\n",
    "               \"bed3_start\",\n",
    "               \"bed3_end\",\n",
    "               \"gff3_seq\",\n",
    "               \"gff3_source\",\n",
    "               \"gff3_type\",\n",
    "               \"gff3_start\",\n",
    "               \"gff3_end\",\n",
    "               \"gff3_score\",\n",
    "               \"gff3_strand\",\n",
    "               \"gff3_phase\",\n",
    "               \"gff3_attributes\",]\n",
    "    \n",
    "    table = tableFile2namedTuple(bedtools_window_out, \n",
    "                                 sep='\\t', \n",
    "                                 headers=headers)\n",
    "    \n",
    "    Tree = lambda: defaultdict(Tree)\n",
    "    data = Tree()\n",
    "    \n",
    "    for row in table:\n",
    "        data['gff3_rec']['info'].setdefault('seq', row['gff3_seq'])\n",
    "        data['gff3_rec']['info'].setdefault('source', row['gff3_source'])\n",
    "        data['gff3_rec']['info'].setdefault('type', row['gff3_type'])\n",
    "        data['gff3_rec']['info'].setdefault('start', row['gff3_start'])\n",
    "        data['gff3_rec']['info'].setdefault('end', row['gff3_end'])\n",
    "        data['gff3_rec']['info'].setdefault('score', row['gff3_score'])\n",
    "        data['gff3_rec']['info'].setdefault('strand', row['gff3_strand'])\n",
    "        data['gff3_rec']['info'].setdefault('phase', row['gff3_phase'])\n",
    "        data['gff3_rec']['info'].setdefault('attributes', row['gff3_attributes'])\n",
    "\n",
    "        bed3_hit = dict('seq': row['bed3_seq'], \n",
    "                        'start': row['bed3_start'],\n",
    "                        'end': row['bed3_end'])\n",
    "\n",
    "        data['gff3_rec'].get('bed3_hits', []).append(bed3_hit)"
   ]
  },
  {
   "cell_type": "code",
   "execution_count": null,
   "metadata": {
    "collapsed": true
   },
   "outputs": [],
   "source": []
  }
 ],
 "metadata": {
  "kernelspec": {
   "display_name": "IPython (Python 2)",
   "name": "python2"
  },
  "language_info": {
   "codemirror_mode": {
    "name": "ipython",
    "version": 2
   },
   "mimetype": "text/x-python",
   "name": "python",
   "pygments_lexer": "ipython2"
  },
  "signature": "sha256:37681dcfb7906055efc56e2fd1d0f43cf9469e3972c5371878d809e36985c5b4"
 },
 "nbformat": 4,
 "nbformat_minor": 0
}