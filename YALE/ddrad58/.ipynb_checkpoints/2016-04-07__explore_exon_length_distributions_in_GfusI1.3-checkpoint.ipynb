{
 "cells": [
  {
   "cell_type": "code",
   "execution_count": 1,
   "metadata": {
    "collapsed": true
   },
   "outputs": [],
   "source": [
    "%matplotlib inline\n",
    "import seaborn as sns"
   ]
  },
  {
   "cell_type": "code",
   "execution_count": 2,
   "metadata": {
    "collapsed": false
   },
   "outputs": [],
   "source": [
    "from __future__ import unicode_literals\n",
    "from __future__ import division\n",
    "from __future__ import print_function\n",
    "\n",
    "import os\n",
    "\n",
    "import numpy as np\n",
    "import pandas as pd\n",
    "pd.set_option('display.max_columns', 60)\n",
    "pd.set_option('display.max_rows', 300)\n",
    "pd.set_option(\"max_colwidth\",1000)\n"
   ]
  },
  {
   "cell_type": "code",
   "execution_count": 6,
   "metadata": {
    "collapsed": true
   },
   "outputs": [],
   "source": [
    "bed_headers = [\"chrom\",\n",
    "               \"chromStart\",\n",
    "               \"chromEnd\",\n",
    "               \"name\",\n",
    "               \"score\",\n",
    "               \"strand\",\n",
    "               \"thickStart\",\n",
    "               \"thickEnd\",\n",
    "               \"itemRgb\",\n",
    "               \"blockCount\",\n",
    "               \"blockSizes\",\n",
    "               \"blockStarts\"]"
   ]
  },
  {
   "cell_type": "markdown",
   "metadata": {},
   "source": [
    "# Files"
   ]
  },
  {
   "cell_type": "code",
   "execution_count": 3,
   "metadata": {
    "collapsed": true
   },
   "outputs": [],
   "source": [
    "gfusi13_ = \"/home/gus/MEGAsync/zim/main/Yale/Collaborations/Hongyu-tsetse/gmm_to_gff_pipeline/pipeline_prep/produced/Glossina-fuscipes-IAEA_BASEFEATURES_GfusI1.3.sorted.bed\""
   ]
  },
  {
   "cell_type": "code",
   "execution_count": 7,
   "metadata": {
    "collapsed": false
   },
   "outputs": [],
   "source": [
    "gfusi13 = pd.read_csv(gfusi13_, sep='\\t', names=bed_headers)"
   ]
  },
  {
   "cell_type": "code",
   "execution_count": 8,
   "metadata": {
    "collapsed": false
   },
   "outputs": [
    {
     "data": {
      "text/html": [
       "<div>\n",
       "<table border=\"1\" class=\"dataframe\">\n",
       "  <thead>\n",
       "    <tr style=\"text-align: right;\">\n",
       "      <th></th>\n",
       "      <th>chrom</th>\n",
       "      <th>chromStart</th>\n",
       "      <th>chromEnd</th>\n",
       "      <th>name</th>\n",
       "      <th>score</th>\n",
       "      <th>strand</th>\n",
       "      <th>thickStart</th>\n",
       "      <th>thickEnd</th>\n",
       "      <th>itemRgb</th>\n",
       "      <th>blockCount</th>\n",
       "      <th>blockSizes</th>\n",
       "      <th>blockStarts</th>\n",
       "    </tr>\n",
       "  </thead>\n",
       "  <tbody>\n",
       "    <tr>\n",
       "      <th>0</th>\n",
       "      <td>JFJR01006593</td>\n",
       "      <td>4031</td>\n",
       "      <td>10761</td>\n",
       "      <td>GFUI000004</td>\n",
       "      <td>0</td>\n",
       "      <td>+</td>\n",
       "      <td>4031</td>\n",
       "      <td>10758</td>\n",
       "      <td>0,0,0</td>\n",
       "      <td>6</td>\n",
       "      <td>75,33,33,79,12,74</td>\n",
       "      <td>0,151,700,1271,5027,6656</td>\n",
       "    </tr>\n",
       "    <tr>\n",
       "      <th>1</th>\n",
       "      <td>JFJR01006593</td>\n",
       "      <td>35986</td>\n",
       "      <td>48146</td>\n",
       "      <td>GFUI000006</td>\n",
       "      <td>0</td>\n",
       "      <td>-</td>\n",
       "      <td>35989</td>\n",
       "      <td>48146</td>\n",
       "      <td>0,0,0</td>\n",
       "      <td>7</td>\n",
       "      <td>166,67,28,17,91,20,16</td>\n",
       "      <td>0,763,3341,4858,8457,8629,12144</td>\n",
       "    </tr>\n",
       "    <tr>\n",
       "      <th>2</th>\n",
       "      <td>JFJR01006593</td>\n",
       "      <td>59266</td>\n",
       "      <td>71732</td>\n",
       "      <td>GFUI000002</td>\n",
       "      <td>0</td>\n",
       "      <td>+</td>\n",
       "      <td>59450</td>\n",
       "      <td>71729</td>\n",
       "      <td>0,0,0</td>\n",
       "      <td>9</td>\n",
       "      <td>476,84,111,134,112,87,488,297,3906</td>\n",
       "      <td>0,587,6226,6407,7261,7464,7636,8182,8560</td>\n",
       "    </tr>\n",
       "    <tr>\n",
       "      <th>3</th>\n",
       "      <td>JFJR01006593</td>\n",
       "      <td>95368</td>\n",
       "      <td>98696</td>\n",
       "      <td>GFUI000008</td>\n",
       "      <td>0</td>\n",
       "      <td>+</td>\n",
       "      <td>95601</td>\n",
       "      <td>98523</td>\n",
       "      <td>0,0,0</td>\n",
       "      <td>4</td>\n",
       "      <td>287,183,1962,710</td>\n",
       "      <td>0,350,592,2618</td>\n",
       "    </tr>\n",
       "    <tr>\n",
       "      <th>4</th>\n",
       "      <td>JFJR01006593</td>\n",
       "      <td>99496</td>\n",
       "      <td>112398</td>\n",
       "      <td>GFUI000010</td>\n",
       "      <td>0</td>\n",
       "      <td>-</td>\n",
       "      <td>102501</td>\n",
       "      <td>105199</td>\n",
       "      <td>0,0,0</td>\n",
       "      <td>3</td>\n",
       "      <td>3326,763,407</td>\n",
       "      <td>0,5238,12495</td>\n",
       "    </tr>\n",
       "  </tbody>\n",
       "</table>\n",
       "</div>"
      ],
      "text/plain": [
       "          chrom  chromStart  chromEnd        name  score strand  thickStart  \\\n",
       "0  JFJR01006593        4031     10761  GFUI000004      0      +        4031   \n",
       "1  JFJR01006593       35986     48146  GFUI000006      0      -       35989   \n",
       "2  JFJR01006593       59266     71732  GFUI000002      0      +       59450   \n",
       "3  JFJR01006593       95368     98696  GFUI000008      0      +       95601   \n",
       "4  JFJR01006593       99496    112398  GFUI000010      0      -      102501   \n",
       "\n",
       "   thickEnd itemRgb  blockCount                          blockSizes  \\\n",
       "0     10758   0,0,0           6                   75,33,33,79,12,74   \n",
       "1     48146   0,0,0           7               166,67,28,17,91,20,16   \n",
       "2     71729   0,0,0           9  476,84,111,134,112,87,488,297,3906   \n",
       "3     98523   0,0,0           4                    287,183,1962,710   \n",
       "4    105199   0,0,0           3                        3326,763,407   \n",
       "\n",
       "                                blockStarts  \n",
       "0                  0,151,700,1271,5027,6656  \n",
       "1           0,763,3341,4858,8457,8629,12144  \n",
       "2  0,587,6226,6407,7261,7464,7636,8182,8560  \n",
       "3                            0,350,592,2618  \n",
       "4                              0,5238,12495  "
      ]
     },
     "execution_count": 8,
     "metadata": {},
     "output_type": "execute_result"
    }
   ],
   "source": [
    "gfusi13.head()"
   ]
  },
  {
   "cell_type": "code",
   "execution_count": 48,
   "metadata": {
    "collapsed": true
   },
   "outputs": [],
   "source": [
    "exons = gfusi13[[\"chrom\",\"chromStart\",\"chromEnd\",\"name\",\"blockCount\",\"blockSizes\"]].copy()"
   ]
  },
  {
   "cell_type": "code",
   "execution_count": 40,
   "metadata": {
    "collapsed": true
   },
   "outputs": [],
   "source": [
    "# e = exons.head().copy()"
   ]
  },
  {
   "cell_type": "code",
   "execution_count": 49,
   "metadata": {
    "collapsed": true
   },
   "outputs": [],
   "source": [
    "exons['blockSizes'] = exons.blockSizes.apply(lambda i: np.array([int(x) for x in i.split(',')]))"
   ]
  }
 ],
 "metadata": {
  "kernelspec": {
   "display_name": "Python 2",
   "language": "python",
   "name": "python2"
  },
  "language_info": {
   "codemirror_mode": {
    "name": "ipython",
    "version": 2
   },
   "file_extension": ".py",
   "mimetype": "text/x-python",
   "name": "python",
   "nbconvert_exporter": "python",
   "pygments_lexer": "ipython2",
   "version": "2.7.11"
  }
 },
 "nbformat": 4,
 "nbformat_minor": 0
}
