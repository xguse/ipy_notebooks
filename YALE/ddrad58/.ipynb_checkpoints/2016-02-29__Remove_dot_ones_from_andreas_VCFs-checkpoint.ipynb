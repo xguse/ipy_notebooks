{
 "cells": [
  {
   "cell_type": "code",
   "execution_count": 40,
   "metadata": {
    "collapsed": false
   },
   "outputs": [
    {
     "data": {
      "text/plain": [
       "['JFJR01013559.1',\n",
       " 'JFJR01013560.1',\n",
       " 'JFJR01013561.1',\n",
       " 'JFJR01013562.1',\n",
       " 'JFJR01013563.1',\n",
       " 'JFJR01013564.1',\n",
       " 'JFJR01013565.1',\n",
       " 'JFJR01013566.1',\n",
       " 'JFJR01013567.1',\n",
       " 'JFJR01013568.1']"
      ]
     },
     "execution_count": 40,
     "metadata": {},
     "output_type": "execute_result"
    }
   ],
   "source": [
    "base_dir = '/home/gus/remote_mounts/louise/data/genomes/glossina_fuscipes/annotations/SNPs/vcftools_out/ddrad58_populations/individuals'\n",
    "\n",
    "vcf_in_names = ['/tsetseFINAL_14Oct2014_f2_53.recode.renamed_scaffolds.maf0_05.OT_MS_NB_indv.recode.vcf',\n",
    "                '/tsetseFINAL_14Oct2014_f2_53.recode.renamed_scaffolds.maf0_05.OT_indiv.vcf',\n",
    "                '/tsetseFINAL_14Oct2014_f2_53.recode.renamed_scaffolds.maf0_05.MS_indiv.vcf',\n",
    "                '/tsetseFINAL_14Oct2014_f2_53.recode.renamed_scaffolds.maf0_05.NB_indiv.vcf'\n",
    "               ]\n",
    "vcf_out_names = ['/tsetseFINAL_14Oct2014_f2_53.recode.renamed_scaffolds.maf0_05.OT_MS_NB_indv.recode.no_dot1s.vcf',\n",
    "                 '/tsetseFINAL_14Oct2014_f2_53.recode.renamed_scaffolds.maf0_05.OT_indiv.no_dot1s.vcf',\n",
    "                 '/tsetseFINAL_14Oct2014_f2_53.recode.renamed_scaffolds.maf0_05.MS_indiv.no_dot1s.vcf',\n",
    "                 '/tsetseFINAL_14Oct2014_f2_53.recode.renamed_scaffolds.maf0_05.NB_indiv.no_dot1s.vcf'\n",
    "                ]\n",
    "\n",
    "vcf_in_paths = [base_dir+i for i in vcf_in_names]\n",
    "vcf_out_paths = [base_dir+i for i in vcf_out_names]\n",
    "\n",
    "\n",
    "dot1s = [l.rstrip('\\n') for l in list(open(base_dir+'/nonScaff_named_scaffolds.txt'))]\n",
    "\n",
    "dot1s[-10:]"
   ]
  },
  {
   "cell_type": "markdown",
   "metadata": {},
   "source": [
    "# Write def to replace `dot1s` and write new file"
   ]
  },
  {
   "cell_type": "code",
   "execution_count": 41,
   "metadata": {
    "collapsed": false
   },
   "outputs": [
    {
     "data": {
      "text/plain": [
       "[('JFJR01013055.1', 'JFJR01013055'),\n",
       " ('JFJR01012984.1', 'JFJR01012984'),\n",
       " ('JFJR01012606.1', 'JFJR01012606'),\n",
       " ('JFJR01012964.1', 'JFJR01012964'),\n",
       " ('JFJR01013019.1', 'JFJR01013019'),\n",
       " ('JFJR01013273.1', 'JFJR01013273'),\n",
       " ('JFJR01013496.1', 'JFJR01013496'),\n",
       " ('JFJR01013252.1', 'JFJR01013252'),\n",
       " ('JFJR01013053.1', 'JFJR01013053'),\n",
       " ('JFJR01013346.1', 'JFJR01013346')]"
      ]
     },
     "execution_count": 41,
     "metadata": {},
     "output_type": "execute_result"
    }
   ],
   "source": [
    "# make dictionary of replacement mappings\n",
    "replacewith = {key: value for (key, value) in [(l,l[:-2]) for l in dot1s]}\n",
    "\n",
    "replacewith.items()[:10]"
   ]
  },
  {
   "cell_type": "code",
   "execution_count": 42,
   "metadata": {
    "collapsed": false
   },
   "outputs": [],
   "source": [
    "def handle_header_line(line, replacewith, vcf_out):\n",
    "    if line.startswith('##contig=<ID='):\n",
    "        \n",
    "        scaff = line.split('=')[2].split(',')[0]\n",
    "\n",
    "        if scaff.startswith('Scaf'):\n",
    "            vcf_out.write(line)\n",
    "\n",
    "        else:\n",
    "            line_r = line.replace(scaff,replacewith[scaff])\n",
    "            vcf_out.write(line_r)\n",
    "            \n",
    "    else:\n",
    "        vcf_out.write(line)\n",
    "        \n",
    "\n",
    "\n",
    "def handle_data_line(line, replacewith, vcf_out):\n",
    "    scaff = line.split()[0]\n",
    "    \n",
    "    if scaff.startswith('Scaf'):\n",
    "        vcf_out.write(line)\n",
    "\n",
    "    else:\n",
    "        line_r = line.replace(scaff,replacewith[scaff])\n",
    "        vcf_out.write(line_r)\n",
    "            \n",
    "        \n",
    "        \n",
    "def replace_dot1s(vcf_in_path, vcf_out_path, replacewith):\n",
    "    replaced_lines = []\n",
    "    \n",
    "    with open(vcf_out_path, 'w') as vcf_out:\n",
    "        with open(vcf_in_path, 'rU') as vcf_in:\n",
    "\n",
    "            for line in vcf_in:\n",
    "\n",
    "                if line.startswith('#'):\n",
    "                    handle_header_line(line, replacewith, vcf_out)\n",
    "\n",
    "                else:\n",
    "                    handle_data_line(line, replacewith, vcf_out)\n",
    "                    \n",
    "    print \"Wrote file: {f}\".format(f=vcf_out_path.split('/')[-1])\n"
   ]
  },
  {
   "cell_type": "code",
   "execution_count": 43,
   "metadata": {
    "collapsed": false
   },
   "outputs": [
    {
     "name": "stdout",
     "output_type": "stream",
     "text": [
      "Wrote file: tsetseFINAL_14Oct2014_f2_53.recode.renamed_scaffolds.maf0_05.OT_indiv.no_dot1s.vcf\n",
      "Wrote file: tsetseFINAL_14Oct2014_f2_53.recode.renamed_scaffolds.maf0_05.MS_indiv.no_dot1s.vcf\n",
      "Wrote file: tsetseFINAL_14Oct2014_f2_53.recode.renamed_scaffolds.maf0_05.NB_indiv.no_dot1s.vcf\n"
     ]
    }
   ],
   "source": [
    "for in_, out_ in zip(vcf_in_paths, vcf_out_paths):\n",
    "    replace_dot1s(vcf_in_path=in_, vcf_out_path=out_, replacewith=replacewith)"
   ]
  },
  {
   "cell_type": "code",
   "execution_count": null,
   "metadata": {
    "collapsed": true
   },
   "outputs": [],
   "source": []
  }
 ],
 "metadata": {
  "kernelspec": {
   "display_name": "Python 2",
   "language": "python",
   "name": "python2"
  },
  "language_info": {
   "codemirror_mode": {
    "name": "ipython",
    "version": 2
   },
   "file_extension": ".py",
   "mimetype": "text/x-python",
   "name": "python",
   "nbconvert_exporter": "python",
   "pygments_lexer": "ipython2",
   "version": "2.7.11"
  }
 },
 "nbformat": 4,
 "nbformat_minor": 0
}
