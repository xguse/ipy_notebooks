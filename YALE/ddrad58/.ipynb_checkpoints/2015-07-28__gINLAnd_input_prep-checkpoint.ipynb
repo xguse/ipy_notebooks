{
 "cells": [
  {
   "cell_type": "markdown",
   "metadata": {},
   "source": [
    "# Input file descriptions:\n",
    "\n",
    "The data required are\n",
    "\n",
    "- Allele counts for various sampling units with the following requirements:\n",
    "    - This should be a matrix with one row per geographical sampling site and one column per locus\n",
    "    - The markers should be bi-allelic co-dominant or dominant.\n",
    "    - The sampling units can be either individuals or groups of individuals observed at the same site\n",
    "    - Missing data are allowed\n",
    "- Sample sizes\n",
    "    - This should be a matrix with one row per geographical sampling site and one column per locus\n",
    "    - This should be haploid sample sizes, so two times the number of individuals for diploid organisms and so on.\n",
    "- Spatial coordinates of the sampling units.\n",
    "    - This should be a matrix with two columns and one row per sampling site. It can be Lon-Lat coordinates or UTM - coordinates.\n",
    "- Measurements of environmental variables at the same geographcial locations as genetic data.\n",
    "    - This should be a matrix with one row per sampling site and one column per environmental variable.\n"
   ]
  },
  {
   "cell_type": "code",
   "execution_count": 1,
   "metadata": {
    "collapsed": false
   },
   "outputs": [
    {
     "name": "stdout",
     "output_type": "stream",
     "text": [
      "Using matplotlib backend: TkAgg\n"
     ]
    }
   ],
   "source": [
    "# %matplotlib inline\n",
    "%matplotlib\n",
    "import re\n",
    "from collections import defaultdict\n",
    "\n",
    "\n",
    "import numpy as np\n",
    "import pandas as pd\n",
    "import seaborn as sns\n",
    "\n",
    "import ggplot as gp\n",
    "import matplotlib.pyplot as plt\n",
    "\n",
    "import vcf"
   ]
  },
  {
   "cell_type": "code",
   "execution_count": 2,
   "metadata": {
    "collapsed": true
   },
   "outputs": [],
   "source": [
    "# Paths\n",
    "vcf_path = \"/home/gus/remote_mounts/louise/data/genomes/glossina_fuscipes/annotations/SNPs/vcftools_out/ddrad58_populations/individuals/tsetseFINAL_14Oct2014_f2_53.recode.renamed_scaffolds.maf0_05.OT_MS_NB_indv.recode.vcf\"\n",
    "\n",
    "ginland_dir = \"/home/gus/data/ddrad/gINLAnd_input\"\n",
    "\n",
    "allele_count_path = ginland_dir + \"/allele_count\"\n",
    "sample_sizes_path = ginland_dir + \"/sample_sizes\"\n",
    "site_coords_path = ginland_dir + \"/site_coords\"\n",
    "environmental_data_path = ginland_dir + \"/environmental_data\""
   ]
  },
  {
   "cell_type": "code",
   "execution_count": 3,
   "metadata": {
    "collapsed": true
   },
   "outputs": [],
   "source": [
    "# helper functions\n",
    "\n",
    "def nested_defaultdict():\n",
    "    return defaultdict(nested_defaultdict)"
   ]
  },
  {
   "cell_type": "markdown",
   "metadata": {},
   "source": [
    "# Prepare allele_count file\n",
    "\n",
    "- Allele counts for various sampling units with the following requirements:\n",
    "    - This should be a matrix with one row per geographical sampling site and one column per locus\n",
    "    - The markers should be bi-allelic co-dominant or dominant.\n",
    "    - The sampling units can be either individuals or groups of individuals observed at the same site\n",
    "    - Missing data are allowed\n",
    "    \n",
    "## Notes:\n",
    "\n",
    "- each \"cell\" in the table is the count of alternative base at that site for all members of the sample site.\n",
    "    - homo-REF = 0\n",
    "    - hetero = 1\n",
    "    - homo-ALT = 2\n",
    "\n",
    "-----------\n",
    "\n",
    "# Prepare sample_sizes file\n",
    "\n",
    "- Sample sizes\n",
    "    - This should be a matrix with one row per geographical sampling site and one column per locus\n",
    "    - This should be haploid sample sizes, so two times the number of individuals for diploid organisms and so on.\n",
    "    \n",
    "## Notes:\n",
    "\n",
    "- this is important because not all individuals have called SNPs at all loci and the `allele_count` data needs to know which loci have how many chroms to get the ALT:REF ratio correct\n",
    "\n",
    "--------------"
   ]
  },
  {
   "cell_type": "code",
   "execution_count": 63,
   "metadata": {
    "collapsed": false
   },
   "outputs": [],
   "source": [
    "vcf_reader = vcf.Reader(open(vcf_path, 'r'))"
   ]
  },
  {
   "cell_type": "code",
   "execution_count": 6,
   "metadata": {
    "collapsed": false
   },
   "outputs": [
    {
     "name": "stdout",
     "output_type": "stream",
     "text": [
      "Record(CHROM=Scaffold0, POS=13388, REF=T, ALT=[C])\n"
     ]
    }
   ],
   "source": [
    "r = vcf_reader.next()\n",
    "print r"
   ]
  },
  {
   "cell_type": "code",
   "execution_count": 8,
   "metadata": {
    "collapsed": false
   },
   "outputs": [
    {
     "data": {
      "text/plain": [
       "Call(sample=MS11_0001, CallData(GT=1/1, PL=[255, 72, 0], DP=24, SP=0, GQ=73))"
      ]
     },
     "execution_count": 8,
     "metadata": {},
     "output_type": "execute_result"
    }
   ],
   "source": [
    "s = r.samples[0]\n",
    "s"
   ]
  },
  {
   "cell_type": "code",
   "execution_count": 89,
   "metadata": {
    "collapsed": false
   },
   "outputs": [
    {
     "data": {
      "text/plain": [
       "True"
      ]
     },
     "execution_count": 89,
     "metadata": {},
     "output_type": "execute_result"
    }
   ],
   "source": [
    "s.called"
   ]
  },
  {
   "cell_type": "code",
   "execution_count": 87,
   "metadata": {
    "collapsed": false
   },
   "outputs": [],
   "source": [
    "def vcf_to_allele_count_and_sample_sizes(vcf_path):\n",
    "    \"\"\"Generate dataframes with per-locus allele_count and sample_sizes gINLAnd data.\n",
    "\n",
    "    Args:\n",
    "        vcf_path (str): Path to source VCF\n",
    "\n",
    "    Returns:\n",
    "        allele_count (pandas.DataFrame)\n",
    "        sample_sizes (pandas.DataFrame)\n",
    "\n",
    "    \"\"\"\n",
    "    allele_count_dict = nested_defaultdict()\n",
    "    sample_sizes_dict = nested_defaultdict()\n",
    "    site_members = map_site_members_to_site_code(vcf_path=vcf_path)\n",
    "    site_codes = tuple(set(site_members.values()))\n",
    "    vcf_reader = vcf.Reader(open(vcf_path, 'r'))\n",
    "    \n",
    "    for snp_rec in vcf_reader:\n",
    "        chrom_pos = init_nested_dicts_for_locus(allele_count_dict, sample_sizes_dict, snp_rec, site_codes)\n",
    "\n",
    "        for sample in snp_rec.samples:\n",
    "            sample_name = sample.sample\n",
    "            sample_site = site_members[sample_name]\n",
    "\n",
    "            try:\n",
    "                allele_count_dict[chrom_pos][sample_site] += sum_hap_gt(sample=sample)\n",
    "                sample_sizes_dict[chrom_pos][sample_site] += 2\n",
    "            except TypeError:\n",
    "                pass\n",
    "                \n",
    "    allele_count = pd.DataFrame(data=allele_count_dict)\n",
    "    sample_sizes = pd.DataFrame(data=sample_sizes_dict)\n",
    "    \n",
    "    return allele_count,sample_sizes\n",
    "\n",
    "\n",
    "def map_site_members_to_site_code(vcf_path):\n",
    "    \"\"\"maps site members to site codes.\n",
    "\n",
    "    Args:\n",
    "        vcf_path (str): Path to source VCF\n",
    "\n",
    "    Returns:\n",
    "        site_members (dict): `dict` containing individual site codes as `key` and group name as `value`\n",
    "\n",
    "    \"\"\"\n",
    "    \n",
    "    vcf_reader = vcf.Reader(open(vcf_path, 'r'))\n",
    "    \n",
    "    site_members = defaultdict(str)\n",
    "    \n",
    "    for sample in vcf_reader.samples:\n",
    "        site_members[sample] = sample[:2]\n",
    "        \n",
    "    return site_members\n",
    "\n",
    "\n",
    "def init_nested_dicts_for_locus(allele_count_dict, sample_sizes_dict, snp_rec, site_codes):\n",
    "    chrom_pos = \"{chrom}:{pos}\".format(chrom=snp_rec.CHROM,pos=snp_rec.POS)\n",
    "    for site in site_codes:\n",
    "        allele_count_dict[chrom_pos][site] = 0\n",
    "        sample_sizes_dict[chrom_pos][site] = 0\n",
    "    return chrom_pos\n",
    "\n",
    "\n",
    "def sum_hap_gt(sample):\n",
    "    gt = sample.data.GT\n",
    "    assert '/' in gt\n",
    "    \n",
    "    hap_gts = [int(hap) for hap in gt.split('/')]\n",
    "    assert set(hap_gts).issubset(set([0,1]))\n",
    "    \n",
    "    return sum(hap_gts)"
   ]
  },
  {
   "cell_type": "code",
   "execution_count": 86,
   "metadata": {
    "collapsed": false
   },
   "outputs": [],
   "source": [
    "allele_count = vcf_to_allele_count(vcf_path=vcf_path)"
   ]
  }
 ],
 "metadata": {
  "kernelspec": {
   "display_name": "Python 2",
   "language": "python",
   "name": "python2"
  }
 },
 "nbformat": 4,
 "nbformat_minor": 0
}
