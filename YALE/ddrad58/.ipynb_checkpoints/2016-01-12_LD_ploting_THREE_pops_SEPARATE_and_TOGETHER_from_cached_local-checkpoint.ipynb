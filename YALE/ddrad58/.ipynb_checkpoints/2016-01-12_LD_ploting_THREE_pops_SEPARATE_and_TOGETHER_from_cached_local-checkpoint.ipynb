{
 "cells": [
  {
   "cell_type": "markdown",
   "metadata": {},
   "source": [
    "# Purpose:\n",
    "\n"
   ]
  },
  {
   "cell_type": "markdown",
   "metadata": {},
   "source": [
    "## Imports:"
   ]
  },
  {
   "cell_type": "code",
   "execution_count": 1,
   "metadata": {
    "collapsed": false
   },
   "outputs": [
    {
     "name": "stdout",
     "output_type": "stream",
     "text": [
      "Using matplotlib backend: TkAgg\n"
     ]
    }
   ],
   "source": [
    "# %matplotlib inline\n",
    "%matplotlib"
   ]
  },
  {
   "cell_type": "code",
   "execution_count": 2,
   "metadata": {
    "collapsed": false
   },
   "outputs": [
    {
     "name": "stderr",
     "output_type": "stream",
     "text": [
      "/home/gus/anaconda2/envs/gs_2015/lib/python2.7/site-packages/matplotlib/__init__.py:872: UserWarning: axes.color_cycle is deprecated and replaced with axes.prop_cycle; please use the latter.\n",
      "  warnings.warn(self.msg_depr % (key, alt_key))\n",
      "/home/gus/anaconda2/envs/gs_2015/lib/python2.7/site-packages/matplotlib/__init__.py:1350: UserWarning:  This call to matplotlib.use() has no effect\n",
      "because the backend has already been chosen;\n",
      "matplotlib.use() must be called *before* pylab, matplotlib.pyplot,\n",
      "or matplotlib.backends is imported for the first time.\n",
      "\n",
      "  warnings.warn(_use_error_msg)\n"
     ]
    }
   ],
   "source": [
    "import matplotlib.pyplot as plt\n",
    "import seaborn as sns\n",
    "import ggplot as gp\n",
    "\n",
    "# import mpld3\n",
    "# # mpld3.enable_notebook()\n",
    "\n",
    "import numpy as np\n",
    "import pandas as pd\n",
    "pd.set_option('display.max_columns', 60)\n",
    "# import tables as h5\n",
    "\n",
    "import itertools as it\n",
    "from collections import defaultdict\n",
    "\n",
    "import numpy as np\n",
    "import pandas as pd\n",
    "import scipy\n",
    "import statsmodels.api as sm\n",
    "import statsmodels.stats.multitest as smm\n",
    "from statsmodels.nonparametric.smoothers_lowess import lowess\n",
    "from statsmodels.formula import api as smform\n",
    "\n",
    "import munch\n",
    "\n",
    "import pybedtools as pbt\n",
    "\n",
    "import pymc as mc\n",
    "\n",
    "from shapely.geometry import LineString\n",
    "\n",
    "\n",
    "import tabulate\n",
    "tbl = tabulate.tabulate\n",
    "\n",
    "\n",
    "from spartan.utils.genome_specific.GfusI1 import GfusI1_0\n",
    "from spartan.utils.fastas import ParseFastA\n",
    "\n",
    "from spartan.utils.annotations.ensembl.gff3 import parse_gff3\n",
    "from spartan.utils.annotations.ensembl.gff3 import parse_gff3_attributes\n",
    "from spartan.utils.files import tableFile2namedTuple\n",
    "\n",
    "from gs_ddRAD2015.scripts import ld_figures as ldfigs\n"
   ]
  },
  {
   "cell_type": "code",
   "execution_count": 3,
   "metadata": {
    "collapsed": false
   },
   "outputs": [],
   "source": [
    "# set figure characteristics\n",
    "\n",
    "# size\n",
    "sns.set_context(\"poster\", font_scale=1.0)\n",
    "\n",
    "# Grid style\n",
    "sns.set_style(\"whitegrid\")\n",
    "\n",
    "# colors\n",
    "sns.set_palette(sns.hls_palette(n_colors=5, h=0.59, l=0.4, s=0.75))"
   ]
  },
  {
   "cell_type": "markdown",
   "metadata": {},
   "source": [
    "## File paths:"
   ]
  },
  {
   "cell_type": "code",
   "execution_count": 4,
   "metadata": {
    "collapsed": true
   },
   "outputs": [],
   "source": [
    "# define paths to files\n",
    "# out_dir = \"/home/gus/data/gs_2015_ld/OT\"\n",
    "# out_dir = \"/home/gus/data/gs_2015_ld/MS\"\n",
    "# out_dir = \"/home/gus/data/gs_2015_ld/NB\"\n",
    "## out_dir = \"/home/gus/data/gs_2015_ld/KG\"\n",
    "out_dir = \"/home/gus/data/gs_2015_ld/OT_MS_NB_indiv.geno.ld/\"\n",
    "\n",
    "## Functional annatation (Argot2)\n",
    "fanno = \"/run/media/gus/Storage/louise/data/genomes/glossina_fuscipes/annotations/functional/GfusI1.1_pre/argot2_out/argot_functional_annotations_ts150.h5\"\n",
    "\n",
    "# gene models\n",
    "btools_gene_models_gff3 = \"/run/media/gus/Storage/louise/data/genomes/glossina_fuscipes/annotations/Glossina-fuscipes-IAEA_BASEFEATURES_GfusI1.1.gff3\"\n",
    "\n",
    "# Andrea's Genes\n"
   ]
  },
  {
   "cell_type": "markdown",
   "metadata": {},
   "source": [
    "## Loading files"
   ]
  },
  {
   "cell_type": "code",
   "execution_count": 5,
   "metadata": {
    "collapsed": false
   },
   "outputs": [],
   "source": [
    "# gene_mods = pbt.BedTool(btools_gene_models_gff3).filter(lambda x: x[2] == 'gene').sort()#\".saveas()"
   ]
  },
  {
   "cell_type": "code",
   "execution_count": 6,
   "metadata": {
    "collapsed": true
   },
   "outputs": [],
   "source": [
    "figs = ldfigs.Figures(out_dir=out_dir, formats='png')"
   ]
  },
  {
   "cell_type": "code",
   "execution_count": 7,
   "metadata": {
    "collapsed": false
   },
   "outputs": [
    {
     "name": "stdout",
     "output_type": "stream",
     "text": [
      "\n",
      "ld_figures: loading data_tables.\n",
      "\n",
      "\n"
     ]
    }
   ],
   "source": [
    "figs.load_data_tables()"
   ]
  },
  {
   "cell_type": "code",
   "execution_count": 8,
   "metadata": {
    "collapsed": false
   },
   "outputs": [
    {
     "data": {
      "text/plain": [
       "['ld',\n",
       " 'd_bins',\n",
       " 'contig_info',\n",
       " 'd_bin_v_others_melt',\n",
       " 'len_contigs_per_bin',\n",
       " 'd_bin_v_others',\n",
       " 'contigs_per_bin',\n",
       " 'mean_bin_r2_all',\n",
       " 'sp_contigs',\n",
       " 'ld_contig']"
      ]
     },
     "execution_count": 8,
     "metadata": {},
     "output_type": "execute_result"
    }
   ],
   "source": [
    "tables = munch.Munch(figs.d)\n",
    "tables.keys()"
   ]
  },
  {
   "cell_type": "code",
   "execution_count": 9,
   "metadata": {
    "collapsed": false
   },
   "outputs": [
    {
     "data": {
      "text/html": [
       "<div>\n",
       "<table border=\"1\" class=\"dataframe\">\n",
       "  <thead>\n",
       "    <tr style=\"text-align: right;\">\n",
       "      <th></th>\n",
       "      <th>Unnamed: 0</th>\n",
       "      <th>Unnamed: 0.1</th>\n",
       "      <th>CHR_A</th>\n",
       "      <th>BP_A</th>\n",
       "      <th>BP_B</th>\n",
       "      <th>N_INDV</th>\n",
       "      <th>R2</th>\n",
       "      <th>BP_DELTA</th>\n",
       "      <th>distance_bin</th>\n",
       "      <th>R2_scaled_for_B</th>\n",
       "      <th>alpha_param</th>\n",
       "      <th>beta_param</th>\n",
       "      <th>cdf</th>\n",
       "      <th>one_minus_cdf</th>\n",
       "      <th>one_minus_cdf_BH</th>\n",
       "      <th>MAP_succeeded</th>\n",
       "    </tr>\n",
       "  </thead>\n",
       "  <tbody>\n",
       "    <tr>\n",
       "      <th>0</th>\n",
       "      <td>0</td>\n",
       "      <td>0</td>\n",
       "      <td>Scaffold0</td>\n",
       "      <td>13388</td>\n",
       "      <td>23408</td>\n",
       "      <td>48</td>\n",
       "      <td>1.000000</td>\n",
       "      <td>10020</td>\n",
       "      <td>10000</td>\n",
       "      <td>0.999500</td>\n",
       "      <td>NaN</td>\n",
       "      <td>NaN</td>\n",
       "      <td>1.000000</td>\n",
       "      <td>2.605385e-07</td>\n",
       "      <td>NaN</td>\n",
       "      <td>False</td>\n",
       "    </tr>\n",
       "    <tr>\n",
       "      <th>1</th>\n",
       "      <td>1</td>\n",
       "      <td>1</td>\n",
       "      <td>Scaffold0</td>\n",
       "      <td>13388</td>\n",
       "      <td>23418</td>\n",
       "      <td>48</td>\n",
       "      <td>1.000000</td>\n",
       "      <td>10030</td>\n",
       "      <td>10000</td>\n",
       "      <td>0.999500</td>\n",
       "      <td>NaN</td>\n",
       "      <td>NaN</td>\n",
       "      <td>1.000000</td>\n",
       "      <td>2.605385e-07</td>\n",
       "      <td>NaN</td>\n",
       "      <td>False</td>\n",
       "    </tr>\n",
       "    <tr>\n",
       "      <th>2</th>\n",
       "      <td>2</td>\n",
       "      <td>2</td>\n",
       "      <td>Scaffold0</td>\n",
       "      <td>13388</td>\n",
       "      <td>23421</td>\n",
       "      <td>48</td>\n",
       "      <td>1.000000</td>\n",
       "      <td>10033</td>\n",
       "      <td>10000</td>\n",
       "      <td>0.999500</td>\n",
       "      <td>NaN</td>\n",
       "      <td>NaN</td>\n",
       "      <td>1.000000</td>\n",
       "      <td>2.605385e-07</td>\n",
       "      <td>NaN</td>\n",
       "      <td>False</td>\n",
       "    </tr>\n",
       "    <tr>\n",
       "      <th>3</th>\n",
       "      <td>3</td>\n",
       "      <td>3</td>\n",
       "      <td>Scaffold0</td>\n",
       "      <td>13388</td>\n",
       "      <td>23431</td>\n",
       "      <td>48</td>\n",
       "      <td>0.975315</td>\n",
       "      <td>10043</td>\n",
       "      <td>10000</td>\n",
       "      <td>0.974840</td>\n",
       "      <td>NaN</td>\n",
       "      <td>NaN</td>\n",
       "      <td>0.999662</td>\n",
       "      <td>3.384154e-04</td>\n",
       "      <td>NaN</td>\n",
       "      <td>False</td>\n",
       "    </tr>\n",
       "    <tr>\n",
       "      <th>4</th>\n",
       "      <td>4</td>\n",
       "      <td>4</td>\n",
       "      <td>Scaffold0</td>\n",
       "      <td>13388</td>\n",
       "      <td>30544</td>\n",
       "      <td>49</td>\n",
       "      <td>0.366428</td>\n",
       "      <td>17156</td>\n",
       "      <td>17150</td>\n",
       "      <td>0.366562</td>\n",
       "      <td>NaN</td>\n",
       "      <td>NaN</td>\n",
       "      <td>0.862496</td>\n",
       "      <td>1.375042e-01</td>\n",
       "      <td>NaN</td>\n",
       "      <td>False</td>\n",
       "    </tr>\n",
       "  </tbody>\n",
       "</table>\n",
       "</div>"
      ],
      "text/plain": [
       "   Unnamed: 0  Unnamed: 0.1      CHR_A   BP_A   BP_B  N_INDV        R2  \\\n",
       "0           0             0  Scaffold0  13388  23408      48  1.000000   \n",
       "1           1             1  Scaffold0  13388  23418      48  1.000000   \n",
       "2           2             2  Scaffold0  13388  23421      48  1.000000   \n",
       "3           3             3  Scaffold0  13388  23431      48  0.975315   \n",
       "4           4             4  Scaffold0  13388  30544      49  0.366428   \n",
       "\n",
       "   BP_DELTA  distance_bin  R2_scaled_for_B  alpha_param  beta_param       cdf  \\\n",
       "0     10020         10000         0.999500          NaN         NaN  1.000000   \n",
       "1     10030         10000         0.999500          NaN         NaN  1.000000   \n",
       "2     10033         10000         0.999500          NaN         NaN  1.000000   \n",
       "3     10043         10000         0.974840          NaN         NaN  0.999662   \n",
       "4     17156         17150         0.366562          NaN         NaN  0.862496   \n",
       "\n",
       "   one_minus_cdf  one_minus_cdf_BH MAP_succeeded  \n",
       "0   2.605385e-07               NaN         False  \n",
       "1   2.605385e-07               NaN         False  \n",
       "2   2.605385e-07               NaN         False  \n",
       "3   3.384154e-04               NaN         False  \n",
       "4   1.375042e-01               NaN         False  "
      ]
     },
     "execution_count": 9,
     "metadata": {},
     "output_type": "execute_result"
    }
   ],
   "source": [
    "ld = tables.ld\n",
    "ld.head()"
   ]
  },
  {
   "cell_type": "code",
   "execution_count": 10,
   "metadata": {
    "collapsed": false
   },
   "outputs": [
    {
     "data": {
      "text/html": [
       "<div>\n",
       "<table border=\"1\" class=\"dataframe\">\n",
       "  <thead>\n",
       "    <tr style=\"text-align: right;\">\n",
       "      <th></th>\n",
       "      <th>Unnamed: 0</th>\n",
       "      <th>Unnamed: 0.1</th>\n",
       "      <th>CHR_A</th>\n",
       "      <th>BP_A</th>\n",
       "      <th>BP_B</th>\n",
       "      <th>N_INDV</th>\n",
       "      <th>R2</th>\n",
       "      <th>BP_DELTA</th>\n",
       "      <th>distance_bin</th>\n",
       "      <th>R2_scaled_for_B</th>\n",
       "      <th>alpha_param</th>\n",
       "      <th>beta_param</th>\n",
       "      <th>cdf</th>\n",
       "      <th>one_minus_cdf</th>\n",
       "      <th>one_minus_cdf_BH</th>\n",
       "      <th>MAP_succeeded</th>\n",
       "      <th>kk_name</th>\n",
       "      <th>scaf_name</th>\n",
       "      <th>length</th>\n",
       "    </tr>\n",
       "  </thead>\n",
       "  <tbody>\n",
       "    <tr>\n",
       "      <th>0</th>\n",
       "      <td>0</td>\n",
       "      <td>0</td>\n",
       "      <td>Scaffold0</td>\n",
       "      <td>13388</td>\n",
       "      <td>23408</td>\n",
       "      <td>48</td>\n",
       "      <td>1.000000</td>\n",
       "      <td>10020</td>\n",
       "      <td>10000</td>\n",
       "      <td>0.999500</td>\n",
       "      <td>NaN</td>\n",
       "      <td>NaN</td>\n",
       "      <td>1.000000</td>\n",
       "      <td>2.605385e-07</td>\n",
       "      <td>NaN</td>\n",
       "      <td>False</td>\n",
       "      <td>KK351785.1</td>\n",
       "      <td>Scaffold0</td>\n",
       "      <td>3329503</td>\n",
       "    </tr>\n",
       "    <tr>\n",
       "      <th>1</th>\n",
       "      <td>1</td>\n",
       "      <td>1</td>\n",
       "      <td>Scaffold0</td>\n",
       "      <td>13388</td>\n",
       "      <td>23418</td>\n",
       "      <td>48</td>\n",
       "      <td>1.000000</td>\n",
       "      <td>10030</td>\n",
       "      <td>10000</td>\n",
       "      <td>0.999500</td>\n",
       "      <td>NaN</td>\n",
       "      <td>NaN</td>\n",
       "      <td>1.000000</td>\n",
       "      <td>2.605385e-07</td>\n",
       "      <td>NaN</td>\n",
       "      <td>False</td>\n",
       "      <td>KK351785.1</td>\n",
       "      <td>Scaffold0</td>\n",
       "      <td>3329503</td>\n",
       "    </tr>\n",
       "    <tr>\n",
       "      <th>2</th>\n",
       "      <td>2</td>\n",
       "      <td>2</td>\n",
       "      <td>Scaffold0</td>\n",
       "      <td>13388</td>\n",
       "      <td>23421</td>\n",
       "      <td>48</td>\n",
       "      <td>1.000000</td>\n",
       "      <td>10033</td>\n",
       "      <td>10000</td>\n",
       "      <td>0.999500</td>\n",
       "      <td>NaN</td>\n",
       "      <td>NaN</td>\n",
       "      <td>1.000000</td>\n",
       "      <td>2.605385e-07</td>\n",
       "      <td>NaN</td>\n",
       "      <td>False</td>\n",
       "      <td>KK351785.1</td>\n",
       "      <td>Scaffold0</td>\n",
       "      <td>3329503</td>\n",
       "    </tr>\n",
       "    <tr>\n",
       "      <th>3</th>\n",
       "      <td>3</td>\n",
       "      <td>3</td>\n",
       "      <td>Scaffold0</td>\n",
       "      <td>13388</td>\n",
       "      <td>23431</td>\n",
       "      <td>48</td>\n",
       "      <td>0.975315</td>\n",
       "      <td>10043</td>\n",
       "      <td>10000</td>\n",
       "      <td>0.974840</td>\n",
       "      <td>NaN</td>\n",
       "      <td>NaN</td>\n",
       "      <td>0.999662</td>\n",
       "      <td>3.384154e-04</td>\n",
       "      <td>NaN</td>\n",
       "      <td>False</td>\n",
       "      <td>KK351785.1</td>\n",
       "      <td>Scaffold0</td>\n",
       "      <td>3329503</td>\n",
       "    </tr>\n",
       "    <tr>\n",
       "      <th>4</th>\n",
       "      <td>4</td>\n",
       "      <td>4</td>\n",
       "      <td>Scaffold0</td>\n",
       "      <td>13388</td>\n",
       "      <td>30544</td>\n",
       "      <td>49</td>\n",
       "      <td>0.366428</td>\n",
       "      <td>17156</td>\n",
       "      <td>17150</td>\n",
       "      <td>0.366562</td>\n",
       "      <td>NaN</td>\n",
       "      <td>NaN</td>\n",
       "      <td>0.862496</td>\n",
       "      <td>1.375042e-01</td>\n",
       "      <td>NaN</td>\n",
       "      <td>False</td>\n",
       "      <td>KK351785.1</td>\n",
       "      <td>Scaffold0</td>\n",
       "      <td>3329503</td>\n",
       "    </tr>\n",
       "  </tbody>\n",
       "</table>\n",
       "</div>"
      ],
      "text/plain": [
       "   Unnamed: 0  Unnamed: 0.1      CHR_A   BP_A   BP_B  N_INDV        R2  \\\n",
       "0           0             0  Scaffold0  13388  23408      48  1.000000   \n",
       "1           1             1  Scaffold0  13388  23418      48  1.000000   \n",
       "2           2             2  Scaffold0  13388  23421      48  1.000000   \n",
       "3           3             3  Scaffold0  13388  23431      48  0.975315   \n",
       "4           4             4  Scaffold0  13388  30544      49  0.366428   \n",
       "\n",
       "   BP_DELTA  distance_bin  R2_scaled_for_B  alpha_param  beta_param       cdf  \\\n",
       "0     10020         10000         0.999500          NaN         NaN  1.000000   \n",
       "1     10030         10000         0.999500          NaN         NaN  1.000000   \n",
       "2     10033         10000         0.999500          NaN         NaN  1.000000   \n",
       "3     10043         10000         0.974840          NaN         NaN  0.999662   \n",
       "4     17156         17150         0.366562          NaN         NaN  0.862496   \n",
       "\n",
       "   one_minus_cdf  one_minus_cdf_BH MAP_succeeded     kk_name  scaf_name  \\\n",
       "0   2.605385e-07               NaN         False  KK351785.1  Scaffold0   \n",
       "1   2.605385e-07               NaN         False  KK351785.1  Scaffold0   \n",
       "2   2.605385e-07               NaN         False  KK351785.1  Scaffold0   \n",
       "3   3.384154e-04               NaN         False  KK351785.1  Scaffold0   \n",
       "4   1.375042e-01               NaN         False  KK351785.1  Scaffold0   \n",
       "\n",
       "    length  \n",
       "0  3329503  \n",
       "1  3329503  \n",
       "2  3329503  \n",
       "3  3329503  \n",
       "4  3329503  "
      ]
     },
     "execution_count": 10,
     "metadata": {},
     "output_type": "execute_result"
    }
   ],
   "source": [
    "ld_contig = tables.ld_contig\n",
    "ld_contig.head()"
   ]
  },
  {
   "cell_type": "code",
   "execution_count": 11,
   "metadata": {
    "collapsed": false
   },
   "outputs": [],
   "source": [
    "def get_halfing_coords(xs, ys, num, tolerance):\n",
    "    xs_return = []\n",
    "    ys_return = []\n",
    "    \n",
    "    halfing_values = get_n_halfing_values(val=ys[0],n=num)[1:]\n",
    "    \n",
    "    for value in halfing_values:\n",
    "        indexes_close_to_yi = get_indexes_close_to_yi(ys=ys, value=value, tolerance=tolerance)\n",
    "        middle_item = get_first_item(indexes=indexes_close_to_yi)\n",
    "        if middle_item is None:\n",
    "            print 'None'\n",
    "        else:\n",
    "            # print indexes_close_to_yi\n",
    "            # print xs[middle_item]\n",
    "            # print ys[middle_item]\n",
    "            xs_return.append(xs[middle_item])\n",
    "            ys_return.append(ys[middle_item])\n",
    "    \n",
    "    return xs_return,ys_return\n",
    "    \n",
    "def get_indexes_close_to_yi(ys, value, tolerance):\n",
    "    ilist = []\n",
    "    for i,y in enumerate(ys):\n",
    "        if abs(value-y) <= tolerance:\n",
    "            ilist.append(i)\n",
    "    return ilist\n",
    "    \n",
    "def get_n_halfing_values(val, n):\n",
    "    rvalues = []\n",
    "    c_val = val\n",
    "    for i in range(n+1):\n",
    "        c_val = c_val/2.0\n",
    "        rvalues.append(c_val)\n",
    "    return rvalues\n",
    "        \n",
    "def get_middle_item(indexes):\n",
    "    if len(indexes) == 0:\n",
    "        return None\n",
    "    return indexes[int(len(indexes)/2)]\n",
    "\n",
    "def get_first_item(indexes):\n",
    "    if len(indexes) == 0:\n",
    "        return None\n",
    "    return indexes[0]"
   ]
  },
  {
   "cell_type": "markdown",
   "metadata": {},
   "source": [
    "# Distance bt snp-pair vs R^2 all:"
   ]
  },
  {
   "cell_type": "markdown",
   "metadata": {},
   "source": [
    "### Pivot for distance_bin stats"
   ]
  },
  {
   "cell_type": "code",
   "execution_count": 12,
   "metadata": {
    "collapsed": true
   },
   "outputs": [],
   "source": [
    "def movingaverage(interval, window_size):\n",
    "    window = np.ones(int(window_size))/float(window_size)\n",
    "    return np.convolve(interval, window, 'same')"
   ]
  },
  {
   "cell_type": "code",
   "execution_count": 13,
   "metadata": {
    "collapsed": false,
    "scrolled": true
   },
   "outputs": [
    {
     "data": {
      "text/html": [
       "<div>\n",
       "<table border=\"1\" class=\"dataframe\">\n",
       "  <thead>\n",
       "    <tr style=\"text-align: right;\">\n",
       "      <th></th>\n",
       "      <th>distance_bin</th>\n",
       "      <th>R2</th>\n",
       "      <th>one_minus_cdf</th>\n",
       "      <th>one_minus_cdf_BH</th>\n",
       "    </tr>\n",
       "  </thead>\n",
       "  <tbody>\n",
       "    <tr>\n",
       "      <th>0</th>\n",
       "      <td>0</td>\n",
       "      <td>0.401710</td>\n",
       "      <td>0.540232</td>\n",
       "      <td>NaN</td>\n",
       "    </tr>\n",
       "    <tr>\n",
       "      <th>1</th>\n",
       "      <td>50</td>\n",
       "      <td>0.293258</td>\n",
       "      <td>0.549390</td>\n",
       "      <td>NaN</td>\n",
       "    </tr>\n",
       "    <tr>\n",
       "      <th>2</th>\n",
       "      <td>100</td>\n",
       "      <td>0.255214</td>\n",
       "      <td>0.541580</td>\n",
       "      <td>NaN</td>\n",
       "    </tr>\n",
       "    <tr>\n",
       "      <th>3</th>\n",
       "      <td>150</td>\n",
       "      <td>0.250560</td>\n",
       "      <td>0.538777</td>\n",
       "      <td>NaN</td>\n",
       "    </tr>\n",
       "    <tr>\n",
       "      <th>4</th>\n",
       "      <td>200</td>\n",
       "      <td>0.230920</td>\n",
       "      <td>0.547183</td>\n",
       "      <td>NaN</td>\n",
       "    </tr>\n",
       "  </tbody>\n",
       "</table>\n",
       "</div>"
      ],
      "text/plain": [
       "   distance_bin        R2  one_minus_cdf  one_minus_cdf_BH\n",
       "0             0  0.401710       0.540232               NaN\n",
       "1            50  0.293258       0.549390               NaN\n",
       "2           100  0.255214       0.541580               NaN\n",
       "3           150  0.250560       0.538777               NaN\n",
       "4           200  0.230920       0.547183               NaN"
      ]
     },
     "execution_count": 13,
     "metadata": {},
     "output_type": "execute_result"
    }
   ],
   "source": [
    "ld_pv_distbin_by_mean_R2_cdfs = pd.pivot_table(data=ld, \n",
    "                                               values=[\"R2\",\"one_minus_cdf_BH\",\"one_minus_cdf\"], \n",
    "                                               index=\"distance_bin\", \n",
    "                                               columns=None, \n",
    "                                               aggfunc=np.mean, \n",
    "                                               fill_value=None, margins=False, dropna=True).reset_index()\n",
    "\n",
    "ld_pv_distbin_by_mean_R2_cdfs.head()"
   ]
  },
  {
   "cell_type": "code",
   "execution_count": 14,
   "metadata": {
    "collapsed": false
   },
   "outputs": [
    {
     "data": {
      "text/html": [
       "<div>\n",
       "<table border=\"1\" class=\"dataframe\">\n",
       "  <thead>\n",
       "    <tr style=\"text-align: right;\">\n",
       "      <th></th>\n",
       "      <th>distance_bin</th>\n",
       "      <th>R2</th>\n",
       "    </tr>\n",
       "  </thead>\n",
       "  <tbody>\n",
       "    <tr>\n",
       "      <th>0</th>\n",
       "      <td>0</td>\n",
       "      <td>36566</td>\n",
       "    </tr>\n",
       "    <tr>\n",
       "      <th>1</th>\n",
       "      <td>50</td>\n",
       "      <td>4274</td>\n",
       "    </tr>\n",
       "    <tr>\n",
       "      <th>2</th>\n",
       "      <td>100</td>\n",
       "      <td>2010</td>\n",
       "    </tr>\n",
       "    <tr>\n",
       "      <th>3</th>\n",
       "      <td>150</td>\n",
       "      <td>1204</td>\n",
       "    </tr>\n",
       "    <tr>\n",
       "      <th>4</th>\n",
       "      <td>200</td>\n",
       "      <td>1159</td>\n",
       "    </tr>\n",
       "  </tbody>\n",
       "</table>\n",
       "</div>"
      ],
      "text/plain": [
       "   distance_bin     R2\n",
       "0             0  36566\n",
       "1            50   4274\n",
       "2           100   2010\n",
       "3           150   1204\n",
       "4           200   1159"
      ]
     },
     "execution_count": 14,
     "metadata": {},
     "output_type": "execute_result"
    }
   ],
   "source": [
    "ld_pv_count_distbin = pd.pivot_table(data=ld,\n",
    "                                     values=\"R2\", \n",
    "                                     index=\"distance_bin\", \n",
    "                                     columns=None, \n",
    "                                     aggfunc=len, \n",
    "                                     fill_value=None, margins=False, dropna=True).reset_index()\n",
    "\n",
    "\n",
    "ld_pv_count_distbin.head()"
   ]
  },
  {
   "cell_type": "code",
   "execution_count": 15,
   "metadata": {
    "collapsed": false
   },
   "outputs": [
    {
     "data": {
      "text/html": [
       "<div>\n",
       "<table border=\"1\" class=\"dataframe\">\n",
       "  <thead>\n",
       "    <tr style=\"text-align: right;\">\n",
       "      <th></th>\n",
       "      <th>distance_bin</th>\n",
       "      <th>R2</th>\n",
       "      <th>one_minus_cdf</th>\n",
       "      <th>one_minus_cdf_BH</th>\n",
       "      <th>SNP-pairs</th>\n",
       "    </tr>\n",
       "  </thead>\n",
       "  <tbody>\n",
       "    <tr>\n",
       "      <th>0</th>\n",
       "      <td>0</td>\n",
       "      <td>0.401710</td>\n",
       "      <td>0.540232</td>\n",
       "      <td>NaN</td>\n",
       "      <td>36566</td>\n",
       "    </tr>\n",
       "    <tr>\n",
       "      <th>1</th>\n",
       "      <td>50</td>\n",
       "      <td>0.293258</td>\n",
       "      <td>0.549390</td>\n",
       "      <td>NaN</td>\n",
       "      <td>4274</td>\n",
       "    </tr>\n",
       "    <tr>\n",
       "      <th>2</th>\n",
       "      <td>100</td>\n",
       "      <td>0.255214</td>\n",
       "      <td>0.541580</td>\n",
       "      <td>NaN</td>\n",
       "      <td>2010</td>\n",
       "    </tr>\n",
       "    <tr>\n",
       "      <th>3</th>\n",
       "      <td>150</td>\n",
       "      <td>0.250560</td>\n",
       "      <td>0.538777</td>\n",
       "      <td>NaN</td>\n",
       "      <td>1204</td>\n",
       "    </tr>\n",
       "    <tr>\n",
       "      <th>4</th>\n",
       "      <td>200</td>\n",
       "      <td>0.230920</td>\n",
       "      <td>0.547183</td>\n",
       "      <td>NaN</td>\n",
       "      <td>1159</td>\n",
       "    </tr>\n",
       "  </tbody>\n",
       "</table>\n",
       "</div>"
      ],
      "text/plain": [
       "   distance_bin        R2  one_minus_cdf  one_minus_cdf_BH  SNP-pairs\n",
       "0             0  0.401710       0.540232               NaN      36566\n",
       "1            50  0.293258       0.549390               NaN       4274\n",
       "2           100  0.255214       0.541580               NaN       2010\n",
       "3           150  0.250560       0.538777               NaN       1204\n",
       "4           200  0.230920       0.547183               NaN       1159"
      ]
     },
     "execution_count": 15,
     "metadata": {},
     "output_type": "execute_result"
    }
   ],
   "source": [
    "ld_pv_distbin_by_mean_R2_cdfs = ld_pv_distbin_by_mean_R2_cdfs.merge(right=ld_pv_count_distbin, \n",
    "                                    how='inner', on='distance_bin', \n",
    "                                    left_on=None, right_on=None,\n",
    "                                    suffixes=('', '_count'),\n",
    "                                    copy=True)\n",
    "ld_pv_distbin_by_mean_R2_cdfs.head()\n",
    "new_column_names = ld_pv_distbin_by_mean_R2_cdfs.columns.values\n",
    "new_column_names[-1] = 'SNP-pairs'\n",
    "ld_pv_distbin_by_mean_R2_cdfs.columns = new_column_names\n",
    "ld_pv_distbin_by_mean_R2_cdfs.head()"
   ]
  },
  {
   "cell_type": "code",
   "execution_count": 16,
   "metadata": {
    "collapsed": false
   },
   "outputs": [
    {
     "data": {
      "text/html": [
       "<div>\n",
       "<table border=\"1\" class=\"dataframe\">\n",
       "  <thead>\n",
       "    <tr style=\"text-align: right;\">\n",
       "      <th></th>\n",
       "      <th>distance_bin</th>\n",
       "      <th>variable</th>\n",
       "      <th>value</th>\n",
       "    </tr>\n",
       "  </thead>\n",
       "  <tbody>\n",
       "    <tr>\n",
       "      <th>209979</th>\n",
       "      <td>3274650</td>\n",
       "      <td>SNP-pairs</td>\n",
       "      <td>1</td>\n",
       "    </tr>\n",
       "    <tr>\n",
       "      <th>209980</th>\n",
       "      <td>3274800</td>\n",
       "      <td>SNP-pairs</td>\n",
       "      <td>1</td>\n",
       "    </tr>\n",
       "    <tr>\n",
       "      <th>209981</th>\n",
       "      <td>3274850</td>\n",
       "      <td>SNP-pairs</td>\n",
       "      <td>1</td>\n",
       "    </tr>\n",
       "    <tr>\n",
       "      <th>209982</th>\n",
       "      <td>3275650</td>\n",
       "      <td>SNP-pairs</td>\n",
       "      <td>1</td>\n",
       "    </tr>\n",
       "    <tr>\n",
       "      <th>209983</th>\n",
       "      <td>3277750</td>\n",
       "      <td>SNP-pairs</td>\n",
       "      <td>2</td>\n",
       "    </tr>\n",
       "  </tbody>\n",
       "</table>\n",
       "</div>"
      ],
      "text/plain": [
       "        distance_bin   variable  value\n",
       "209979       3274650  SNP-pairs      1\n",
       "209980       3274800  SNP-pairs      1\n",
       "209981       3274850  SNP-pairs      1\n",
       "209982       3275650  SNP-pairs      1\n",
       "209983       3277750  SNP-pairs      2"
      ]
     },
     "execution_count": 16,
     "metadata": {},
     "output_type": "execute_result"
    }
   ],
   "source": [
    "ld_pv_distbin_by_mean_R2_cdfs_melt = pd.melt(ld_pv_distbin_by_mean_R2_cdfs, id_vars=['distance_bin'])\n",
    "ld_pv_distbin_by_mean_R2_cdfs_melt.tail()"
   ]
  },
  {
   "cell_type": "code",
   "execution_count": 17,
   "metadata": {
    "collapsed": false
   },
   "outputs": [],
   "source": [
    "d_bin_v_others_melt = figs.d.d_bin_v_others_melt"
   ]
  },
  {
   "cell_type": "code",
   "execution_count": 18,
   "metadata": {
    "collapsed": true
   },
   "outputs": [],
   "source": [
    "# mpld3.enable_notebook()\n",
    "# mpld3.disable_notebook()"
   ]
  },
  {
   "cell_type": "code",
   "execution_count": 19,
   "metadata": {
    "collapsed": false
   },
   "outputs": [],
   "source": [
    "# pal = sns.choose_colorbrewer_palette(\"s\")\n",
    "\n",
    "# pal = sns.husl_palette(n_colors=4, h=0.6, s=0.9, l=0.65)\n",
    "# pal = sns.hls_palette(n_colors=5, h=0.59, l=0.4, s=0.75)\n",
    "# sns.palplot(pal)\n",
    "\n",
    "# pal = sns.choose_cubehelix_palette()"
   ]
  },
  {
   "cell_type": "code",
   "execution_count": 20,
   "metadata": {
    "collapsed": false
   },
   "outputs": [],
   "source": [
    "# # sns.set_palette(pal)\n",
    "\n",
    "# melted_r2 = ld_pv_distbin_by_mean_R2_cdfs_melt.query(\"variable == 'R2'\").query(\"0 <= distance_bin <= 500000\")\n",
    "\n",
    "# d = melted_r2.distance_bin\n",
    "\n",
    "# r2 = melted_r2.value\n",
    "# r2_95centile = r2.quantile(.95)\n",
    "\n",
    "# rgplt = sns.regplot(d, r2, data=None, x_estimator=None, x_bins=None, x_ci=95, \n",
    "#             scatter=True, fit_reg=False, ci=95, n_boot=10000, \n",
    "#             )\n",
    "\n",
    "# # plt.plot(d,\n",
    "# #          movingaverage(interval=r2, window_size=6),\n",
    "# #          color='coral', alpha=0.3);\n",
    "\n",
    "# # lowess regression\n",
    "# delta = 0.01 * len(d)\n",
    "# r2_lowess = lowess(r2,d,frac=0.02, it=0, delta=delta)\n",
    "# r2_half = r2.max()/2.\n",
    "\n",
    "\n",
    "# centile_line = [[0,r2_95centile],[r2_lowess[-1][0],r2_95centile]]\n",
    "# halfing_line = [[0,r2_half],[r2_lowess[-1][0],r2_half]]\n",
    "\n",
    "# halfing_geo = LineString(halfing_line)\n",
    "# centile_geo = LineString(centile_line)\n",
    "# lowess_geo = LineString(r2_lowess)\n",
    "\n",
    "# isect_c = centile_geo.intersection(lowess_geo)\n",
    "# isect_h = halfing_geo.intersection(lowess_geo)\n",
    "\n",
    "# isect_c_x,isect_c_y = int(round(isect_c.x)), isect_c.y\n",
    "# isect_h_x,isect_h_y = int(round(isect_h.x)), isect_h.y\n",
    "\n",
    "# plt.plot(d,\n",
    "#          r2_lowess[:,1],\n",
    "#          alpha=1,\n",
    "#          label=\"Lowess regression line\");\n",
    "\n",
    "# plt.plot([x[0] for x in halfing_line],\n",
    "#          [y[1] for y in halfing_line],  \n",
    "#          label=u\"Half of maximum LD ($r^2$ = {r2_half:.4g}, {isect} bp)\".format(isect=isect_h_x,r2_half=r2_half),\n",
    "#          alpha=1\n",
    "#         );\n",
    "\n",
    "# # plt.plot([x[0] for x in centile_line],\n",
    "# #          [y[1] for y in centile_line], \n",
    "# #          label=\"95th percentile of mean bin-wise LD ({isect} bp)\".format(isect=isect_c_x),\n",
    "# #          alpha=1\n",
    "# #         );\n",
    "\n",
    "\n",
    "\n",
    "\n",
    "# # plt.plot(0,0,label=\"test3\",alpha=0)\n",
    "\n",
    "# # plt.scatter(x=xs_hlf, y=ys_hlf, \n",
    "# #             s=200, c=u'k', marker=u'x', \n",
    "# #             alpha=None, linewidths=2);\n",
    "\n",
    "# plt.xlabel(r\"Distance between SNP-pairs (bp)\");\n",
    "# plt.ylabel(r\"Mean bin-wise LD ($r^2$)\");\n",
    "\n",
    "\n",
    "\n",
    "# plt.legend()\n",
    "\n",
    "# # print \"xs_hlf, ys_hlf: \",xs_hlf, ys_hlf \n",
    "\n"
   ]
  },
  {
   "cell_type": "code",
   "execution_count": 21,
   "metadata": {
    "collapsed": false,
    "scrolled": false
   },
   "outputs": [
    {
     "data": {
      "text/plain": [
       "<matplotlib.legend.Legend at 0x7f6520260ed0>"
      ]
     },
     "execution_count": 21,
     "metadata": {},
     "output_type": "execute_result"
    }
   ],
   "source": [
    "# sns.set_palette(pal)\n",
    "SITE=out_dir.split('/')[-1]\n",
    "\n",
    "sns.set_context(\"poster\", font_scale=1.0)\n",
    "\n",
    "scale = 1\n",
    "dpi = 300\n",
    "\n",
    "# plt.figure(figsize=(8*scale, 6*scale),dpi=dpi)\n",
    "\n",
    "filtered_by_bin = ld_pv_distbin_by_mean_R2_cdfs.query(\"0 <= distance_bin <= 500000\")\n",
    "\n",
    "snppairs = filtered_by_bin[\"SNP-pairs\"]\n",
    "d = filtered_by_bin.distance_bin\n",
    "r2 = filtered_by_bin.R2\n",
    "r2_95centile = r2.quantile(.95)\n",
    "\n",
    "scat = plt.scatter(x=d, y=r2, s=20, c=np.log2(snppairs), \n",
    "                   marker=u'o', cmap=\"cubehelix_r\", \n",
    "                   norm=None, vmin=None, vmax=None, \n",
    "                   alpha=1, linewidths=0, verts=None, hold=None,label=None);\n",
    "plt.colorbar(scat, label=r\"log$_{2}$(pairs per bin)\");\n",
    "\n",
    "\n",
    "# lowess regression\n",
    "delta = 0.01 * len(d)\n",
    "r2_lowess = lowess(r2,d,frac=0.02, it=0, delta=delta)\n",
    "r2_half = r2.max()/2.\n",
    "\n",
    "\n",
    "point_2_line = [[0,0.2],[r2_lowess[-1][0],0.2]]\n",
    "halfing_line = [[0,r2_half],[r2_lowess[-1][0],r2_half]]\n",
    "\n",
    "halfing_geo = LineString(halfing_line)\n",
    "point_2_geo = LineString(point_2_line)\n",
    "lowess_geo = LineString(r2_lowess)\n",
    "\n",
    "isect_2 = point_2_geo.intersection(lowess_geo)\n",
    "isect_h = halfing_geo.intersection(lowess_geo)\n",
    "\n",
    "isect_2_x,isect_2_y = int(round(isect_2.x)), isect_2.y\n",
    "isect_h_x,isect_h_y = int(round(isect_h.x)), isect_h.y\n",
    "\n",
    "plt.plot(d,\n",
    "         r2_lowess[:,1],\n",
    "         alpha=1,\n",
    "         label=\"Lowess regression line\");\n",
    "\n",
    "plt.plot([x[0] for x in halfing_line],\n",
    "         [y[1] for y in halfing_line],  \n",
    "         label=u\"Half of maximum LD ($r^2$ = {r2_half:.4g}, {isect} bp)\".format(isect=isect_h_x,r2_half=r2_half),\n",
    "         alpha=1\n",
    "        );\n",
    "\n",
    "# plt.plot([x[0] for x in point_2_line],\n",
    "#          [y[1] for y in point_2_line], \n",
    "#          label=\"Crosses $r^2 = 0.2$ ({isect} bp)\".format(isect=isect_2_x),\n",
    "#          alpha=1\n",
    "#         );\n",
    "\n",
    "\n",
    "\n",
    "\n",
    "# plt.plot(0,0,label=\"test3\",alpha=0)\n",
    "\n",
    "# plt.scatter(x=xs_hlf, y=ys_hlf, \n",
    "#             s=200, c=u'k', marker=u'x', \n",
    "#             alpha=None, linewidths=2);\n",
    "\n",
    "plt.xlabel(r\"Distance between SNP-pairs (bp)\");\n",
    "plt.ylabel(r\"Mean bin-wise LD ($r^2$)\");\n",
    "plt.title(\"Site {site}\".format(site=SITE))\n",
    "\n",
    "\n",
    "plt.legend();\n",
    "\n",
    "# print \"xs_hlf, ys_hlf: \",xs_hlf, ys_hlf \n",
    "\n"
   ]
  },
  {
   "cell_type": "code",
   "execution_count": 22,
   "metadata": {
    "collapsed": false
   },
   "outputs": [
    {
     "data": {
      "text/plain": [
       "0.40170997414554999"
      ]
     },
     "execution_count": 22,
     "metadata": {},
     "output_type": "execute_result"
    }
   ],
   "source": [
    "r2.max()"
   ]
  },
  {
   "cell_type": "code",
   "execution_count": 23,
   "metadata": {
    "collapsed": false
   },
   "outputs": [
    {
     "data": {
      "text/plain": [
       "0.20085498707277499"
      ]
     },
     "execution_count": 23,
     "metadata": {},
     "output_type": "execute_result"
    }
   ],
   "source": [
    "r2_half"
   ]
  },
  {
   "cell_type": "code",
   "execution_count": 24,
   "metadata": {
    "collapsed": false
   },
   "outputs": [
    {
     "data": {
      "text/plain": [
       "0.12283816443061293"
      ]
     },
     "execution_count": 24,
     "metadata": {},
     "output_type": "execute_result"
    }
   ],
   "source": [
    "r2_95centile"
   ]
  },
  {
   "cell_type": "code",
   "execution_count": 25,
   "metadata": {
    "collapsed": false
   },
   "outputs": [
    {
     "ename": "NameError",
     "evalue": "name 'melted_r2' is not defined",
     "output_type": "error",
     "traceback": [
      "\u001b[1;31m---------------------------------------------------------------------------\u001b[0m",
      "\u001b[1;31mNameError\u001b[0m                                 Traceback (most recent call last)",
      "\u001b[1;32m<ipython-input-25-e385724a90e3>\u001b[0m in \u001b[0;36m<module>\u001b[1;34m()\u001b[0m\n\u001b[1;32m----> 1\u001b[1;33m \u001b[0mmelted_r2\u001b[0m\u001b[1;33m.\u001b[0m\u001b[0mhead\u001b[0m\u001b[1;33m(\u001b[0m\u001b[1;33m)\u001b[0m\u001b[1;33m\u001b[0m\u001b[0m\n\u001b[0m",
      "\u001b[1;31mNameError\u001b[0m: name 'melted_r2' is not defined"
     ]
    }
   ],
   "source": [
    "melted_r2.head()"
   ]
  },
  {
   "cell_type": "code",
   "execution_count": null,
   "metadata": {
    "collapsed": false
   },
   "outputs": [],
   "source": [
    "# sns.set_palette(pal)\n",
    "\n",
    "melted_one_minus_cdf = ld_pv_distbin_by_mean_R2_cdfs_melt.query(\"variable == 'one_minus_cdf'\").query(\"0 <= distance_bin <= 500000\")\n",
    "\n",
    "d = melted_one_minus_cdf.distance_bin\n",
    "\n",
    "one_minus_cdf = melted_one_minus_cdf.value\n",
    "\n",
    "rgplt = sns.regplot(d, one_minus_cdf, data=None, x_estimator=None, x_bins=None, x_ci=95, \n",
    "            scatter=True, fit_reg=True, ci=95, n_boot=10000)\n",
    "\n",
    "# plt.plot(d,\n",
    "#          movingaverage(interval=one_minus_cdf, window_size=6),\n",
    "#          color='coral', alpha=0.3);\n",
    "\n",
    "# lowess regression\n",
    "delta = 0.01 * len(d)\n",
    "one_minus_cdf_lowess = lowess(one_minus_cdf,d,frac=0.2, it=0, delta=delta)\n",
    "\n",
    "plt.plot(d,\n",
    "         one_minus_cdf_lowess[:,1],\n",
    "         alpha=1,\n",
    "         label=\"Lowess regression line\");\n",
    "\n",
    "\n",
    "\n",
    "plt.xlabel(r\"Distance between SNP-pairs (bp)\");\n",
    "plt.ylabel(r\"Mean bin-wise 1-CDF\");\n",
    "\n",
    "\n",
    "\n",
    "plt.legend()\n",
    "\n",
    "# print \"xs_hlf, ys_hlf: \",xs_hlf, ys_hlf \n",
    "\n"
   ]
  },
  {
   "cell_type": "markdown",
   "metadata": {},
   "source": [
    "-------------------"
   ]
  }
 ],
 "metadata": {
  "kernelspec": {
   "display_name": "Python 2",
   "language": "python",
   "name": "python2"
  },
  "language_info": {
   "codemirror_mode": {
    "name": "ipython",
    "version": 2
   },
   "file_extension": ".py",
   "mimetype": "text/x-python",
   "name": "python",
   "nbconvert_exporter": "python",
   "pygments_lexer": "ipython2",
   "version": "2.7.11"
  }
 },
 "nbformat": 4,
 "nbformat_minor": 0
}
