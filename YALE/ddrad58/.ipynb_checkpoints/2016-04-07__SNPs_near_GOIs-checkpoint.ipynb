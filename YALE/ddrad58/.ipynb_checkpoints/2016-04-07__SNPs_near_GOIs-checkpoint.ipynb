{
 "cells": [
  {
   "cell_type": "markdown",
   "metadata": {
    "toc": "true"
   },
   "source": [
    "# Table of Contents\n",
    " <p><div class=\"lev1\"><a href=\"#Files\"><span class=\"toc-item-num\">1&nbsp;&nbsp;</span>Files</a></div><div class=\"lev2\"><a href=\"#pipeline-results\"><span class=\"toc-item-num\">1.1&nbsp;&nbsp;</span>pipeline results</a></div><div class=\"lev2\"><a href=\"#Genes-of-Interest\"><span class=\"toc-item-num\">1.2&nbsp;&nbsp;</span>Genes of Interest</a></div><div class=\"lev1\"><a href=\"#Which-if-any-&quot;Gff-gene-ID&quot;-names-occur-in-knearest_combo?\"><span class=\"toc-item-num\">2&nbsp;&nbsp;</span>Which if any \"<em>Gff gene ID</em>\" names occur in knearest_combo?</a></div>"
   ]
  },
  {
   "cell_type": "code",
   "execution_count": 2,
   "metadata": {
    "ExecuteTime": {
     "end_time": "2016-05-17T18:02:10.267387",
     "start_time": "2016-05-17T18:02:04.661652"
    },
    "collapsed": true
   },
   "outputs": [],
   "source": [
    "%matplotlib inline\n",
    "import seaborn as sns"
   ]
  },
  {
   "cell_type": "code",
   "execution_count": 3,
   "metadata": {
    "ExecuteTime": {
     "end_time": "2016-05-17T18:02:10.275159",
     "start_time": "2016-05-17T18:02:10.269614"
    },
    "collapsed": true
   },
   "outputs": [],
   "source": [
    "from IPython.display import HTML"
   ]
  },
  {
   "cell_type": "code",
   "execution_count": 5,
   "metadata": {
    "ExecuteTime": {
     "end_time": "2016-05-17T18:02:19.827767",
     "start_time": "2016-05-17T18:02:19.816144"
    },
    "collapsed": false
   },
   "outputs": [],
   "source": [
    "from __future__ import unicode_literals\n",
    "from __future__ import division\n",
    "from __future__ import print_function\n",
    "\n",
    "import os\n",
    "\n",
    "import numpy as np\n",
    "import pandas as pd\n",
    "pd.set_option('display.max_columns', 60)\n",
    "pd.set_option('display.max_rows', 300)\n",
    "pd.set_option(\"max_colwidth\",1000)\n",
    "\n",
    "\n",
    "from collections import defaultdict\n",
    "\n",
    "import munch\n",
    "\n",
    "from IPython.display import display, HTML"
   ]
  },
  {
   "cell_type": "code",
   "execution_count": 33,
   "metadata": {
    "ExecuteTime": {
     "end_time": "2016-05-17T18:31:42.219611",
     "start_time": "2016-05-17T18:31:42.213755"
    },
    "collapsed": true
   },
   "outputs": [],
   "source": [
    "def prefilter_lines(path):\n",
    "    with open(path,'rU') as f:\n",
    "        for line in f:\n",
    "            fields = line.rstrip('\\n').split('\\t')\n",
    "            if len(fields) == 17:\n",
    "                yield fields"
   ]
  },
  {
   "cell_type": "code",
   "execution_count": 34,
   "metadata": {
    "ExecuteTime": {
     "end_time": "2016-05-17T18:32:19.243524",
     "start_time": "2016-05-17T18:32:19.240018"
    },
    "collapsed": false
   },
   "outputs": [],
   "source": [
    "lines = prefilter_lines(knearest_ALL_)"
   ]
  },
  {
   "cell_type": "markdown",
   "metadata": {},
   "source": [
    "# Files"
   ]
  },
  {
   "cell_type": "markdown",
   "metadata": {},
   "source": [
    "## pipeline results"
   ]
  },
  {
   "cell_type": "code",
   "execution_count": 6,
   "metadata": {
    "ExecuteTime": {
     "end_time": "2016-05-17T18:02:20.948275",
     "start_time": "2016-05-17T18:02:20.938335"
    },
    "collapsed": true
   },
   "outputs": [],
   "source": [
    "basedir = \"/home/gus/MEGAsync/zim/main/Yale/Collaborations/Hongyu-tsetse/gmm_to_gff_pipeline/pipeline_runs/gmm_to_gff_testing_filterPSL_100bp/get_nearest_k_features/\"\n",
    "\n",
    "knearest_ALL_ = basedir+\"snp_list_afterFS_with_p_value_LD_1.nearest.bed\"\n",
    "knearest_MS_ = basedir+\"snp_list_MS_1_with_p_value.nearest.bed\"\n",
    "knearest_NB_ = basedir+\"snp_list_NB_1_with_p_value.nearest.bed\"\n",
    "knearest_OT_ = basedir+\"snp_list_OT_1_with_p_value.nearest.bed\""
   ]
  },
  {
   "cell_type": "code",
   "execution_count": 57,
   "metadata": {
    "ExecuteTime": {
     "end_time": "2016-05-17T18:51:35.116347",
     "start_time": "2016-05-17T18:51:35.078130"
    },
    "collapsed": false
   },
   "outputs": [],
   "source": [
    "headers = [\"SNP_chrom\",\n",
    "           \"SNP_start\",\n",
    "           \"SNP_end\",\n",
    "           \"feature_set_name\",\n",
    "           \"chrom\",\n",
    "           \"chromStart\",\n",
    "           \"chromEnd\",\n",
    "           \"name\",\n",
    "           \"score\",\n",
    "           \"strand\",\n",
    "           \"thickStart\",\n",
    "           \"thickEnd\",\n",
    "           \"itemRgb\",\n",
    "           \"blockCount\",\n",
    "           \"blockSizes\",\n",
    "           \"blockStarts\",\n",
    "           \"distance\"\n",
    "          ]\n",
    "\n",
    "\n",
    "\n",
    "knearest_ALL = pd.DataFrame(prefilter_lines(knearest_ALL_), columns=headers)\n",
    "knearest_MS = pd.DataFrame(prefilter_lines(knearest_MS_), columns=headers)\n",
    "knearest_NB = pd.DataFrame(prefilter_lines(knearest_NB_), columns=headers)\n",
    "knearest_OT = pd.DataFrame(prefilter_lines(knearest_OT_), columns=headers)\n",
    "\n",
    "knearest = {'knearest_ALL': knearest_ALL,\n",
    "            'knearest_MS': knearest_MS,\n",
    "            'knearest_NB': knearest_NB,\n",
    "            'knearest_OT': knearest_OT}\n"
   ]
  },
  {
   "cell_type": "code",
   "execution_count": 58,
   "metadata": {
    "ExecuteTime": {
     "end_time": "2016-05-17T18:51:36.775423",
     "start_time": "2016-05-17T18:51:36.768892"
    },
    "collapsed": false
   },
   "outputs": [],
   "source": [
    "for name, df in knearest.items():\n",
    "    df[\"source\"] = name"
   ]
  },
  {
   "cell_type": "code",
   "execution_count": 59,
   "metadata": {
    "ExecuteTime": {
     "end_time": "2016-05-17T18:51:37.225415",
     "start_time": "2016-05-17T18:51:37.213543"
    },
    "collapsed": true
   },
   "outputs": [],
   "source": [
    "knearest_combo = pd.concat(knearest.values())"
   ]
  },
  {
   "cell_type": "code",
   "execution_count": 60,
   "metadata": {
    "ExecuteTime": {
     "end_time": "2016-05-17T18:51:37.795726",
     "start_time": "2016-05-17T18:51:37.744808"
    },
    "collapsed": false
   },
   "outputs": [
    {
     "data": {
      "text/html": [
       "<div>\n",
       "<table border=\"1\" class=\"dataframe\">\n",
       "  <thead>\n",
       "    <tr style=\"text-align: right;\">\n",
       "      <th></th>\n",
       "      <th>SNP_chrom</th>\n",
       "      <th>SNP_start</th>\n",
       "      <th>SNP_end</th>\n",
       "      <th>feature_set_name</th>\n",
       "      <th>chrom</th>\n",
       "      <th>chromStart</th>\n",
       "      <th>chromEnd</th>\n",
       "      <th>name</th>\n",
       "      <th>score</th>\n",
       "      <th>strand</th>\n",
       "      <th>thickStart</th>\n",
       "      <th>thickEnd</th>\n",
       "      <th>itemRgb</th>\n",
       "      <th>blockCount</th>\n",
       "      <th>blockSizes</th>\n",
       "      <th>blockStarts</th>\n",
       "      <th>distance</th>\n",
       "      <th>source</th>\n",
       "    </tr>\n",
       "  </thead>\n",
       "  <tbody>\n",
       "    <tr>\n",
       "      <th>0</th>\n",
       "      <td>Scaffold106</td>\n",
       "      <td>349186</td>\n",
       "      <td>349187</td>\n",
       "      <td>novel_mapped_tx</td>\n",
       "      <td>Scaffold106</td>\n",
       "      <td>320040</td>\n",
       "      <td>320102</td>\n",
       "      <td>TCONS_00083698</td>\n",
       "      <td>0</td>\n",
       "      <td>+</td>\n",
       "      <td>319095</td>\n",
       "      <td>320102</td>\n",
       "      <td>0,0,0</td>\n",
       "      <td>3</td>\n",
       "      <td>481,465,40,</td>\n",
       "      <td>319095,319597,320062,</td>\n",
       "      <td>-29085</td>\n",
       "      <td>knearest_MS</td>\n",
       "    </tr>\n",
       "    <tr>\n",
       "      <th>1</th>\n",
       "      <td>Scaffold106</td>\n",
       "      <td>349186</td>\n",
       "      <td>349187</td>\n",
       "      <td>novel_mapped_tx</td>\n",
       "      <td>Scaffold106</td>\n",
       "      <td>319095</td>\n",
       "      <td>319104</td>\n",
       "      <td>TCONS_00083698</td>\n",
       "      <td>0</td>\n",
       "      <td>+</td>\n",
       "      <td>319095</td>\n",
       "      <td>320102</td>\n",
       "      <td>0,0,0</td>\n",
       "      <td>3</td>\n",
       "      <td>481,465,40,</td>\n",
       "      <td>319095,319597,320062,</td>\n",
       "      <td>-30083</td>\n",
       "      <td>knearest_MS</td>\n",
       "    </tr>\n",
       "    <tr>\n",
       "      <th>2</th>\n",
       "      <td>Scaffold106</td>\n",
       "      <td>349186</td>\n",
       "      <td>349187</td>\n",
       "      <td>novel_mapped_tx</td>\n",
       "      <td>Scaffold106</td>\n",
       "      <td>383136</td>\n",
       "      <td>402324</td>\n",
       "      <td>TCONS_00083693</td>\n",
       "      <td>0</td>\n",
       "      <td>+</td>\n",
       "      <td>383136</td>\n",
       "      <td>587072</td>\n",
       "      <td>0,0,0</td>\n",
       "      <td>33</td>\n",
       "      <td>74,156,55,158,82,47,6,72,141,38,113,83,210,5,63,82,184,95,5,159,327,210,45,110,181,461,212,268,443,129,15,33,6,</td>\n",
       "      <td>383136,383424,383583,383638,383796,383878,403015,403022,403095,403236,403274,403387,403471,403682,403688,403751,403833,404017,404112,404117,404276,529998,539024,548782,567119,568950,569478,584255,586305,586754,586883,586898,587066,</td>\n",
       "      <td>33950</td>\n",
       "      <td>knearest_MS</td>\n",
       "    </tr>\n",
       "    <tr>\n",
       "      <th>3</th>\n",
       "      <td>Scaffold106</td>\n",
       "      <td>349186</td>\n",
       "      <td>349187</td>\n",
       "      <td>novel_mapped_tx</td>\n",
       "      <td>Scaffold106</td>\n",
       "      <td>383136</td>\n",
       "      <td>402324</td>\n",
       "      <td>TCONS_00083694</td>\n",
       "      <td>0</td>\n",
       "      <td>+</td>\n",
       "      <td>383136</td>\n",
       "      <td>587072</td>\n",
       "      <td>0,0,0</td>\n",
       "      <td>33</td>\n",
       "      <td>74,156,55,158,82,47,6,72,141,38,113,83,210,5,63,82,184,95,5,159,327,210,45,110,181,461,212,241,443,129,15,33,6,</td>\n",
       "      <td>383136,383424,383583,383638,383796,383878,403015,403022,403095,403236,403274,403387,403471,403682,403688,403751,403833,404017,404112,404117,404276,529998,539024,548782,567119,568950,569478,584255,586305,586754,586883,586898,587066,</td>\n",
       "      <td>33950</td>\n",
       "      <td>knearest_MS</td>\n",
       "    </tr>\n",
       "    <tr>\n",
       "      <th>4</th>\n",
       "      <td>Scaffold106</td>\n",
       "      <td>349186</td>\n",
       "      <td>349187</td>\n",
       "      <td>novel_mapped_tx</td>\n",
       "      <td>Scaffold106</td>\n",
       "      <td>405951</td>\n",
       "      <td>433030</td>\n",
       "      <td>TCONS_00083688</td>\n",
       "      <td>0</td>\n",
       "      <td>+</td>\n",
       "      <td>403014</td>\n",
       "      <td>584462</td>\n",
       "      <td>0,0,0</td>\n",
       "      <td>23</td>\n",
       "      <td>7,72,141,38,113,83,210,5,63,82,184,95,5,159,89,186,210,45,110,181,411,212,207,</td>\n",
       "      <td>403014,403022,403095,403236,403274,403387,403471,403682,403688,403751,403833,404017,404112,404117,404276,404417,529998,539024,548782,567119,568950,569478,584255,</td>\n",
       "      <td>56765</td>\n",
       "      <td>knearest_MS</td>\n",
       "    </tr>\n",
       "  </tbody>\n",
       "</table>\n",
       "</div>"
      ],
      "text/plain": [
       "     SNP_chrom SNP_start SNP_end feature_set_name        chrom chromStart  \\\n",
       "0  Scaffold106    349186  349187  novel_mapped_tx  Scaffold106     320040   \n",
       "1  Scaffold106    349186  349187  novel_mapped_tx  Scaffold106     319095   \n",
       "2  Scaffold106    349186  349187  novel_mapped_tx  Scaffold106     383136   \n",
       "3  Scaffold106    349186  349187  novel_mapped_tx  Scaffold106     383136   \n",
       "4  Scaffold106    349186  349187  novel_mapped_tx  Scaffold106     405951   \n",
       "\n",
       "  chromEnd            name score strand thickStart thickEnd itemRgb  \\\n",
       "0   320102  TCONS_00083698     0      +     319095   320102   0,0,0   \n",
       "1   319104  TCONS_00083698     0      +     319095   320102   0,0,0   \n",
       "2   402324  TCONS_00083693     0      +     383136   587072   0,0,0   \n",
       "3   402324  TCONS_00083694     0      +     383136   587072   0,0,0   \n",
       "4   433030  TCONS_00083688     0      +     403014   584462   0,0,0   \n",
       "\n",
       "  blockCount  \\\n",
       "0          3   \n",
       "1          3   \n",
       "2         33   \n",
       "3         33   \n",
       "4         23   \n",
       "\n",
       "                                                                                                        blockSizes  \\\n",
       "0                                                                                                      481,465,40,   \n",
       "1                                                                                                      481,465,40,   \n",
       "2  74,156,55,158,82,47,6,72,141,38,113,83,210,5,63,82,184,95,5,159,327,210,45,110,181,461,212,268,443,129,15,33,6,   \n",
       "3  74,156,55,158,82,47,6,72,141,38,113,83,210,5,63,82,184,95,5,159,327,210,45,110,181,461,212,241,443,129,15,33,6,   \n",
       "4                                   7,72,141,38,113,83,210,5,63,82,184,95,5,159,89,186,210,45,110,181,411,212,207,   \n",
       "\n",
       "                                                                                                                                                                                                                               blockStarts  \\\n",
       "0                                                                                                                                                                                                                    319095,319597,320062,   \n",
       "1                                                                                                                                                                                                                    319095,319597,320062,   \n",
       "2  383136,383424,383583,383638,383796,383878,403015,403022,403095,403236,403274,403387,403471,403682,403688,403751,403833,404017,404112,404117,404276,529998,539024,548782,567119,568950,569478,584255,586305,586754,586883,586898,587066,   \n",
       "3  383136,383424,383583,383638,383796,383878,403015,403022,403095,403236,403274,403387,403471,403682,403688,403751,403833,404017,404112,404117,404276,529998,539024,548782,567119,568950,569478,584255,586305,586754,586883,586898,587066,   \n",
       "4                                                                        403014,403022,403095,403236,403274,403387,403471,403682,403688,403751,403833,404017,404112,404117,404276,404417,529998,539024,548782,567119,568950,569478,584255,   \n",
       "\n",
       "  distance       source  \n",
       "0   -29085  knearest_MS  \n",
       "1   -30083  knearest_MS  \n",
       "2    33950  knearest_MS  \n",
       "3    33950  knearest_MS  \n",
       "4    56765  knearest_MS  "
      ]
     },
     "execution_count": 60,
     "metadata": {},
     "output_type": "execute_result"
    }
   ],
   "source": [
    "knearest_combo.head()"
   ]
  },
  {
   "cell_type": "markdown",
   "metadata": {
    "collapsed": true
   },
   "source": [
    "## Genes of Interest"
   ]
  },
  {
   "cell_type": "code",
   "execution_count": 54,
   "metadata": {
    "ExecuteTime": {
     "end_time": "2016-05-17T18:43:10.891449",
     "start_time": "2016-05-17T18:43:10.872689"
    },
    "collapsed": false
   },
   "outputs": [
    {
     "data": {
      "text/html": [
       "<div>\n",
       "<table border=\"1\" class=\"dataframe\">\n",
       "  <thead>\n",
       "    <tr style=\"text-align: right;\">\n",
       "      <th></th>\n",
       "      <th>gene name</th>\n",
       "      <th>Gmm gene ID</th>\n",
       "      <th>Gff gene ID</th>\n",
       "      <th>putative function</th>\n",
       "    </tr>\n",
       "  </thead>\n",
       "  <tbody>\n",
       "    <tr>\n",
       "      <th>0</th>\n",
       "      <td>peritrophin 1 (pro1)</td>\n",
       "      <td>GMOY011809</td>\n",
       "      <td>GFUI000254</td>\n",
       "      <td>peritrophic matrix</td>\n",
       "    </tr>\n",
       "    <tr>\n",
       "      <th>1</th>\n",
       "      <td>peritrophin 2 (pro2)</td>\n",
       "      <td>GMOY009587</td>\n",
       "      <td>GFUI019092</td>\n",
       "      <td>peritrophic matrix</td>\n",
       "    </tr>\n",
       "    <tr>\n",
       "      <th>2</th>\n",
       "      <td>peritrophin 3 (pro3)</td>\n",
       "      <td>GMOY009756</td>\n",
       "      <td>GFUI029963</td>\n",
       "      <td>peritrophic matrix</td>\n",
       "    </tr>\n",
       "    <tr>\n",
       "      <th>3</th>\n",
       "      <td>PGRP-LB</td>\n",
       "      <td>GMOY006730</td>\n",
       "      <td>GFUI044336</td>\n",
       "      <td>peptidoglycan regonition protein</td>\n",
       "    </tr>\n",
       "    <tr>\n",
       "      <th>4</th>\n",
       "      <td>PGRP-LA</td>\n",
       "      <td>GMOY006093</td>\n",
       "      <td>GFUI041246</td>\n",
       "      <td>peptidoglycan regonition protein</td>\n",
       "    </tr>\n",
       "  </tbody>\n",
       "</table>\n",
       "</div>"
      ],
      "text/plain": [
       "              gene name Gmm gene ID Gff gene ID  \\\n",
       "0  peritrophin 1 (pro1)  GMOY011809  GFUI000254   \n",
       "1  peritrophin 2 (pro2)  GMOY009587  GFUI019092   \n",
       "2  peritrophin 3 (pro3)  GMOY009756  GFUI029963   \n",
       "3               PGRP-LB  GMOY006730  GFUI044336   \n",
       "4               PGRP-LA  GMOY006093  GFUI041246   \n",
       "\n",
       "                  putative function  \n",
       "0                peritrophic matrix  \n",
       "1                peritrophic matrix  \n",
       "2                peritrophic matrix  \n",
       "3  peptidoglycan regonition protein  \n",
       "4  peptidoglycan regonition protein  "
      ]
     },
     "execution_count": 54,
     "metadata": {},
     "output_type": "execute_result"
    }
   ],
   "source": [
    "goi_ = \"/home/gus/MEGAsync/zim/main/Yale/Collaborations/Hongyu-tsetse/find_snps_near_gene_of_interest/genes_of_interest.csv\"\n",
    "goi = pd.read_csv(goi_)\n",
    "goi.head()"
   ]
  },
  {
   "cell_type": "markdown",
   "metadata": {},
   "source": [
    "# Which if any \"_Gff gene ID_\" names occur in knearest_combo?"
   ]
  },
  {
   "cell_type": "code",
   "execution_count": 65,
   "metadata": {
    "ExecuteTime": {
     "end_time": "2016-05-17T18:56:39.994229",
     "start_time": "2016-05-17T18:56:39.970353"
    },
    "collapsed": false
   },
   "outputs": [
    {
     "data": {
      "text/html": [
       "<div>\n",
       "<table border=\"1\" class=\"dataframe\">\n",
       "  <thead>\n",
       "    <tr style=\"text-align: right;\">\n",
       "      <th></th>\n",
       "      <th>gene name</th>\n",
       "      <th>Gmm gene ID</th>\n",
       "      <th>Gff gene ID</th>\n",
       "      <th>putative function</th>\n",
       "      <th>SNP_chrom</th>\n",
       "      <th>SNP_start</th>\n",
       "      <th>SNP_end</th>\n",
       "      <th>distance</th>\n",
       "      <th>source</th>\n",
       "    </tr>\n",
       "  </thead>\n",
       "  <tbody>\n",
       "    <tr>\n",
       "      <th>0</th>\n",
       "      <td>PGRP-LA</td>\n",
       "      <td>GMOY006093</td>\n",
       "      <td>GFUI041246</td>\n",
       "      <td>peptidoglycan regonition protein</td>\n",
       "      <td>Scaffold5</td>\n",
       "      <td>2342537</td>\n",
       "      <td>2342538</td>\n",
       "      <td>23332</td>\n",
       "      <td>knearest_OT</td>\n",
       "    </tr>\n",
       "  </tbody>\n",
       "</table>\n",
       "</div>"
      ],
      "text/plain": [
       "  gene name Gmm gene ID Gff gene ID                 putative function  \\\n",
       "0   PGRP-LA  GMOY006093  GFUI041246  peptidoglycan regonition protein   \n",
       "\n",
       "   SNP_chrom SNP_start  SNP_end distance       source  \n",
       "0  Scaffold5   2342537  2342538    23332  knearest_OT  "
      ]
     },
     "execution_count": 65,
     "metadata": {},
     "output_type": "execute_result"
    }
   ],
   "source": [
    "knear = knearest_combo[[\"SNP_chrom\",\"SNP_start\",\"SNP_end\",\"name\",\"distance\",\"source\"]]\n",
    "\n",
    "snps_near_goi = pd.merge(left=goi, right=knear, \n",
    "                         how='inner', on=None, \n",
    "                         left_on=\"Gff gene ID\", right_on=\"name\",).drop(\"name\", axis=1)\n",
    "snps_near_goi"
   ]
  },
  {
   "cell_type": "code",
   "execution_count": null,
   "metadata": {
    "collapsed": true
   },
   "outputs": [],
   "source": []
  }
 ],
 "metadata": {
  "kernelspec": {
   "display_name": "Python2 (stack2)",
   "language": "python",
   "name": "stack2"
  },
  "language_info": {
   "codemirror_mode": {
    "name": "ipython",
    "version": 2
   },
   "file_extension": ".py",
   "mimetype": "text/x-python",
   "name": "python",
   "nbconvert_exporter": "python",
   "pygments_lexer": "ipython2",
   "version": "2.7.11"
  },
  "toc": {
   "toc_cell": true,
   "toc_number_sections": true,
   "toc_threshold": 6,
   "toc_window_display": true
  }
 },
 "nbformat": 4,
 "nbformat_minor": 0
}
