{
 "cells": [
  {
   "cell_type": "code",
   "execution_count": 1,
   "metadata": {
    "collapsed": false
   },
   "outputs": [
    {
     "name": "stdout",
     "output_type": "stream",
     "text": [
      "Using matplotlib backend: TkAgg\n"
     ]
    }
   ],
   "source": [
    "%matplotlib\n",
    "import re\n",
    "\n",
    "import numpy as np\n",
    "import pandas as pd\n",
    "import seaborn as sns\n",
    "tips = sns.load_dataset(\"tips\")\n",
    "\n",
    "import ggplot as gp\n",
    "import matplotlib.pyplot as plt\n",
    "\n",
    "import vcf"
   ]
  },
  {
   "cell_type": "code",
   "execution_count": 2,
   "metadata": {
    "collapsed": false
   },
   "outputs": [],
   "source": [
    "# set figure characteristics\n",
    "\n",
    "# size\n",
    "sns.set_context(\"poster\")\n",
    "\n",
    "# Grid style\n",
    "sns.set_style(\"whitegrid\")\n",
    "\n",
    "# colors\n",
    "sns.set_palette(sns.hls_palette(n_colors=5, h=0.59, l=0.4, s=0.75))\n",
    "\n",
    "ggplot_theme = gp.theme_seaborn(context='poster')\n"
   ]
  },
  {
   "cell_type": "code",
   "execution_count": 3,
   "metadata": {
    "collapsed": true
   },
   "outputs": [],
   "source": [
    "# Paths\n",
    "vcf_path = \"/home/gus/remote_mounts/louise/data/genomes/glossina_fuscipes/annotations/SNPs/vcftools_out/ddrad58_populations/individuals/tsetseFINAL_14Oct2014_f2_53.recode.renamed_scaffolds.maf0_05.OT_MS_NB_indv.recode.vcf\"\n",
    "\n",
    "pcadapt_dir = \"/home/gus/remote_mounts/louise/data/genomes/glossina_fuscipes/annotations/SNPs/vcftools_out/ddrad58_populations/individuals/PCAdapt/results\"\n",
    "\n",
    "pcadapt_snps = \"/home/gus/remote_mounts/louise/data/genomes/glossina_fuscipes/annotations/SNPs/vcftools_out/ddrad58_populations/individuals/tsetseFINAL_14Oct2014_f2_53.recode.renamed_scaffolds.maf0_05.OT_MS_NB_indv.recode.vcfsnp\""
   ]
  },
  {
   "cell_type": "code",
   "execution_count": 4,
   "metadata": {
    "collapsed": true
   },
   "outputs": [],
   "source": [
    "def gather(df, key, value, cols):\n",
    "    id_vars = [col for col in df.columns if col not in cols]\n",
    "    id_values = cols\n",
    "    var_name = key\n",
    "    value_name = value\n",
    "    return pd.melt(df, id_vars, id_values, var_name, value_name)\n",
    "\n",
    "def recode_column(column_name):\n",
    "    \n",
    "    if isinstance(column_name,int):\n",
    "        i = column_name + 1\n",
    "        return \"Factor {i}\".format(i=i)\n",
    "    \n",
    "    if column_name.upper() == \"INDEX\":\n",
    "        return \"sample\"\n",
    "    \n",
    "def load_scores(pcadapt_scores_path, vcf_path):\n",
    "    vcf_reader = vcf.Reader(open(vcf_path, 'r'))\n",
    "    indiv_names = vcf_reader.samples\n",
    "    \n",
    "    df = pd.read_table(filepath_or_buffer=pcadapt_scores_path, sep='\\s', \n",
    "                                             header=None, names=indiv_names,\n",
    "                                             engine='python').T.reset_index()\n",
    "    df = df.rename(columns=recode_column)\n",
    "    \n",
    "    return df\n",
    "\n",
    "def load_main(pcadapt_path):\n",
    "    \n",
    "    return pd.read_table(filepath_or_buffer=pcadapt_path, sep='\\t', engine='python').dropna(axis=1)"
   ]
  },
  {
   "cell_type": "code",
   "execution_count": 5,
   "metadata": {
    "collapsed": false
   },
   "outputs": [],
   "source": [
    "# load files\n",
    "PCAdapt_s1000_b500_k2_scores = load_scores(pcadapt_scores_path=pcadapt_dir+\"/PCAdapt_s1000_b500_k2.scores\",\n",
    "                                           vcf_path=vcf_path)"
   ]
  },
  {
   "cell_type": "code",
   "execution_count": 6,
   "metadata": {
    "collapsed": true
   },
   "outputs": [],
   "source": [
    "PCAdapt_s1000_b500_k2 = load_main(pcadapt_path=pcadapt_dir+\"/PCAdapt_s1000_b500_k2\")"
   ]
  },
  {
   "cell_type": "markdown",
   "metadata": {},
   "source": [
    "# Plotting functions"
   ]
  },
  {
   "cell_type": "code",
   "execution_count": 7,
   "metadata": {
    "collapsed": false
   },
   "outputs": [],
   "source": [
    "# set labels\n",
    "\n",
    "def set_site_names(df):\n",
    "    re_site = re.compile('\\A\\D{,3}')\n",
    "    df[\"site\"] = df['sample'].apply(lambda indiv: re_site.findall(indiv)[0])\n",
    "    df.sort(columns='sample', inplace=True)\n",
    "    df.reset_index(inplace=True)\n",
    "    df[\"individuals\"] = df.index.values + 1\n",
    "    \n",
    "    \n",
    "    return df.drop([\"index\"], axis=1)\n",
    "#     return df\n",
    "\n",
    "# plot factors vs individuals\n",
    "\n",
    "def plot_factors_v_indivs(df):\n",
    "    \n",
    "    plt.figure(figsize=(20, 6))\n",
    "    f = sns.stripplot(x=\"Factor 2\", y=\"Factor 1\", hue=\"site\", data=df, jitter=False, split=True)\n",
    "#     f = plt.scatter(x=df[\"Factor 1\"], y=df[\"Factor 2\"], c=df[\"site\"],cmap=sns.cmap)\n",
    "    return f\n",
    "    \n"
   ]
  },
  {
   "cell_type": "code",
   "execution_count": 8,
   "metadata": {
    "collapsed": true
   },
   "outputs": [],
   "source": [
    "my_plots = {}"
   ]
  },
  {
   "cell_type": "code",
   "execution_count": 9,
   "metadata": {
    "collapsed": true
   },
   "outputs": [],
   "source": [
    "PCAdapt_s1000_b500_k2_scores = set_site_names(PCAdapt_s1000_b500_k2_scores)"
   ]
  },
  {
   "cell_type": "code",
   "execution_count": 10,
   "metadata": {
    "collapsed": false
   },
   "outputs": [
    {
     "data": {
      "text/plain": [
       "<ggplot: (8793545112601)>"
      ]
     },
     "execution_count": 10,
     "metadata": {},
     "output_type": "execute_result"
    }
   ],
   "source": [
    "gp_factor1 = gp.ggplot(PCAdapt_s1000_b500_k2_scores, gp.aes('individuals', 'Factor 1', color='site')) + gp.geom_point() + ggplot_theme\n",
    "my_plots[\"gp_factor1\"] = gp_factor1\n",
    "gp_factor1"
   ]
  },
  {
   "cell_type": "code",
   "execution_count": 11,
   "metadata": {
    "collapsed": false
   },
   "outputs": [
    {
     "data": {
      "text/plain": [
       "<ggplot: (8793545112597)>"
      ]
     },
     "execution_count": 11,
     "metadata": {},
     "output_type": "execute_result"
    }
   ],
   "source": [
    "gp_factor2 = gp.ggplot(PCAdapt_s1000_b500_k2_scores, gp.aes('individuals', 'Factor 2', color='site')) + gp.geom_point() + ggplot_theme\n",
    "my_plots[\"gp_factor2\"] = gp_factor2\n",
    "gp_factor2"
   ]
  },
  {
   "cell_type": "code",
   "execution_count": 12,
   "metadata": {
    "collapsed": false
   },
   "outputs": [
    {
     "data": {
      "text/plain": [
       "<ggplot: (8793545103009)>"
      ]
     },
     "execution_count": 12,
     "metadata": {},
     "output_type": "execute_result"
    }
   ],
   "source": [
    "# plt.figure(figsize=(12,12))\n",
    "gp_factor1x2 = gp.ggplot(PCAdapt_s1000_b500_k2_scores, gp.aes('Factor 1', 'Factor 2', color='site')) \n",
    "gp_factor1x2 += gp.geom_point()\n",
    "gp_factor1x2 += ggplot_theme\n",
    "my_plots[\"gp_factor1x2\"] = gp_factor1x2\n",
    "gp_factor1x2"
   ]
  },
  {
   "cell_type": "code",
   "execution_count": 13,
   "metadata": {
    "collapsed": false
   },
   "outputs": [],
   "source": [
    "def get_factors_rename_map(df):    \n",
    "    column_map = {}\n",
    "    for k,v in zip(df.columns, list(np.arange(0,len(df.columns))+1)):\n",
    "        column_map[k] = \"Factor {v}\".format(v=str(v))\n",
    "\n",
    "    return column_map\n",
    "\n",
    "def assign_factors_to_snps(df):\n",
    "    factor_ps = df.iloc[:,2:]\n",
    "    factor_name_map = get_factors_rename_map(factor_ps)\n",
    "    factor_ps = factor_ps.rename(columns=factor_name_map)\n",
    "    \n",
    "    factor_id = factor_ps.apply(lambda x: x.argmax(), axis = 1)\n",
    "    \n",
    "    df['Factor'] = factor_id\n",
    "    df.rename(columns=factor_name_map, inplace=True)\n",
    "    \n",
    "    return df\n",
    "\n",
    "def add_snp_number(df):\n",
    "    df[\"SNP\"] = df.index +1\n",
    "    return df\n",
    "\n",
    "def plot_factor_SNPs(df):\n",
    "    pass\n",
    "    "
   ]
  },
  {
   "cell_type": "code",
   "execution_count": 14,
   "metadata": {
    "collapsed": false
   },
   "outputs": [
    {
     "data": {
      "text/html": [
       "<div>\n",
       "<table border=\"1\" class=\"dataframe\">\n",
       "  <thead>\n",
       "    <tr style=\"text-align: right;\">\n",
       "      <th></th>\n",
       "      <th>logBF</th>\n",
       "      <th>logPO</th>\n",
       "      <th>P(Z = 1|O)</th>\n",
       "      <th>P(Z = 2|O)</th>\n",
       "    </tr>\n",
       "  </thead>\n",
       "  <tbody>\n",
       "    <tr>\n",
       "      <th>0</th>\n",
       "      <td>-0.879953</td>\n",
       "      <td>-3.835711</td>\n",
       "      <td>0.809018</td>\n",
       "      <td>0.190982</td>\n",
       "    </tr>\n",
       "    <tr>\n",
       "      <th>1</th>\n",
       "      <td>-0.951201</td>\n",
       "      <td>-3.906960</td>\n",
       "      <td>0.786001</td>\n",
       "      <td>0.213999</td>\n",
       "    </tr>\n",
       "    <tr>\n",
       "      <th>2</th>\n",
       "      <td>-0.913359</td>\n",
       "      <td>-3.869118</td>\n",
       "      <td>0.800658</td>\n",
       "      <td>0.199342</td>\n",
       "    </tr>\n",
       "    <tr>\n",
       "      <th>3</th>\n",
       "      <td>-0.913434</td>\n",
       "      <td>-3.869192</td>\n",
       "      <td>0.800617</td>\n",
       "      <td>0.199383</td>\n",
       "    </tr>\n",
       "    <tr>\n",
       "      <th>4</th>\n",
       "      <td>-0.921170</td>\n",
       "      <td>-3.876929</td>\n",
       "      <td>0.798722</td>\n",
       "      <td>0.201278</td>\n",
       "    </tr>\n",
       "  </tbody>\n",
       "</table>\n",
       "</div>"
      ],
      "text/plain": [
       "      logBF     logPO  P(Z = 1|O)  P(Z = 2|O)\n",
       "0 -0.879953 -3.835711    0.809018    0.190982\n",
       "1 -0.951201 -3.906960    0.786001    0.213999\n",
       "2 -0.913359 -3.869118    0.800658    0.199342\n",
       "3 -0.913434 -3.869192    0.800617    0.199383\n",
       "4 -0.921170 -3.876929    0.798722    0.201278"
      ]
     },
     "execution_count": 14,
     "metadata": {},
     "output_type": "execute_result"
    }
   ],
   "source": [
    "PCAdapt_s1000_b500_k2.head()"
   ]
  },
  {
   "cell_type": "code",
   "execution_count": 15,
   "metadata": {
    "collapsed": false
   },
   "outputs": [
    {
     "data": {
      "text/html": [
       "<div>\n",
       "<table border=\"1\" class=\"dataframe\">\n",
       "  <thead>\n",
       "    <tr style=\"text-align: right;\">\n",
       "      <th></th>\n",
       "      <th>logBF</th>\n",
       "      <th>logPO</th>\n",
       "      <th>P(Z = 1|O)</th>\n",
       "      <th>P(Z = 2|O)</th>\n",
       "    </tr>\n",
       "  </thead>\n",
       "  <tbody>\n",
       "    <tr>\n",
       "      <th>0</th>\n",
       "      <td>-0.879953</td>\n",
       "      <td>-3.835711</td>\n",
       "      <td>0.809018</td>\n",
       "      <td>0.190982</td>\n",
       "    </tr>\n",
       "    <tr>\n",
       "      <th>1</th>\n",
       "      <td>-0.951201</td>\n",
       "      <td>-3.906960</td>\n",
       "      <td>0.786001</td>\n",
       "      <td>0.213999</td>\n",
       "    </tr>\n",
       "    <tr>\n",
       "      <th>2</th>\n",
       "      <td>-0.913359</td>\n",
       "      <td>-3.869118</td>\n",
       "      <td>0.800658</td>\n",
       "      <td>0.199342</td>\n",
       "    </tr>\n",
       "    <tr>\n",
       "      <th>3</th>\n",
       "      <td>-0.913434</td>\n",
       "      <td>-3.869192</td>\n",
       "      <td>0.800617</td>\n",
       "      <td>0.199383</td>\n",
       "    </tr>\n",
       "    <tr>\n",
       "      <th>4</th>\n",
       "      <td>-0.921170</td>\n",
       "      <td>-3.876929</td>\n",
       "      <td>0.798722</td>\n",
       "      <td>0.201278</td>\n",
       "    </tr>\n",
       "  </tbody>\n",
       "</table>\n",
       "</div>"
      ],
      "text/plain": [
       "      logBF     logPO  P(Z = 1|O)  P(Z = 2|O)\n",
       "0 -0.879953 -3.835711    0.809018    0.190982\n",
       "1 -0.951201 -3.906960    0.786001    0.213999\n",
       "2 -0.913359 -3.869118    0.800658    0.199342\n",
       "3 -0.913434 -3.869192    0.800617    0.199383\n",
       "4 -0.921170 -3.876929    0.798722    0.201278"
      ]
     },
     "execution_count": 15,
     "metadata": {},
     "output_type": "execute_result"
    }
   ],
   "source": [
    "PCAdapt_s1000_b500_k2_ = PCAdapt_s1000_b500_k2.copy()\n",
    "PCAdapt_s1000_b500_k2_.head()"
   ]
  },
  {
   "cell_type": "code",
   "execution_count": 16,
   "metadata": {
    "collapsed": false
   },
   "outputs": [],
   "source": [
    "# pdb"
   ]
  },
  {
   "cell_type": "code",
   "execution_count": 17,
   "metadata": {
    "collapsed": false,
    "scrolled": false
   },
   "outputs": [],
   "source": [
    "f = assign_factors_to_snps(PCAdapt_s1000_b500_k2_)"
   ]
  },
  {
   "cell_type": "code",
   "execution_count": 18,
   "metadata": {
    "collapsed": false,
    "scrolled": true
   },
   "outputs": [
    {
     "data": {
      "text/html": [
       "<div>\n",
       "<table border=\"1\" class=\"dataframe\">\n",
       "  <thead>\n",
       "    <tr style=\"text-align: right;\">\n",
       "      <th></th>\n",
       "      <th>logBF</th>\n",
       "      <th>logPO</th>\n",
       "      <th>Factor 1</th>\n",
       "      <th>Factor 2</th>\n",
       "      <th>Factor</th>\n",
       "    </tr>\n",
       "  </thead>\n",
       "  <tbody>\n",
       "    <tr>\n",
       "      <th>0</th>\n",
       "      <td>-0.879953</td>\n",
       "      <td>-3.835711</td>\n",
       "      <td>0.809018</td>\n",
       "      <td>0.190982</td>\n",
       "      <td>Factor 1</td>\n",
       "    </tr>\n",
       "    <tr>\n",
       "      <th>1</th>\n",
       "      <td>-0.951201</td>\n",
       "      <td>-3.906960</td>\n",
       "      <td>0.786001</td>\n",
       "      <td>0.213999</td>\n",
       "      <td>Factor 1</td>\n",
       "    </tr>\n",
       "    <tr>\n",
       "      <th>2</th>\n",
       "      <td>-0.913359</td>\n",
       "      <td>-3.869118</td>\n",
       "      <td>0.800658</td>\n",
       "      <td>0.199342</td>\n",
       "      <td>Factor 1</td>\n",
       "    </tr>\n",
       "    <tr>\n",
       "      <th>3</th>\n",
       "      <td>-0.913434</td>\n",
       "      <td>-3.869192</td>\n",
       "      <td>0.800617</td>\n",
       "      <td>0.199383</td>\n",
       "      <td>Factor 1</td>\n",
       "    </tr>\n",
       "    <tr>\n",
       "      <th>4</th>\n",
       "      <td>-0.921170</td>\n",
       "      <td>-3.876929</td>\n",
       "      <td>0.798722</td>\n",
       "      <td>0.201278</td>\n",
       "      <td>Factor 1</td>\n",
       "    </tr>\n",
       "    <tr>\n",
       "      <th>5</th>\n",
       "      <td>-1.322631</td>\n",
       "      <td>-4.278390</td>\n",
       "      <td>0.510217</td>\n",
       "      <td>0.489783</td>\n",
       "      <td>Factor 1</td>\n",
       "    </tr>\n",
       "    <tr>\n",
       "      <th>6</th>\n",
       "      <td>-1.322629</td>\n",
       "      <td>-4.278387</td>\n",
       "      <td>0.510217</td>\n",
       "      <td>0.489783</td>\n",
       "      <td>Factor 1</td>\n",
       "    </tr>\n",
       "    <tr>\n",
       "      <th>7</th>\n",
       "      <td>-1.228764</td>\n",
       "      <td>-4.184522</td>\n",
       "      <td>0.604798</td>\n",
       "      <td>0.395202</td>\n",
       "      <td>Factor 1</td>\n",
       "    </tr>\n",
       "    <tr>\n",
       "      <th>8</th>\n",
       "      <td>-1.048532</td>\n",
       "      <td>-4.004290</td>\n",
       "      <td>0.734994</td>\n",
       "      <td>0.265006</td>\n",
       "      <td>Factor 1</td>\n",
       "    </tr>\n",
       "    <tr>\n",
       "      <th>9</th>\n",
       "      <td>-1.322631</td>\n",
       "      <td>-4.278390</td>\n",
       "      <td>0.510219</td>\n",
       "      <td>0.489781</td>\n",
       "      <td>Factor 1</td>\n",
       "    </tr>\n",
       "    <tr>\n",
       "      <th>10</th>\n",
       "      <td>-1.322631</td>\n",
       "      <td>-4.278390</td>\n",
       "      <td>0.510219</td>\n",
       "      <td>0.489781</td>\n",
       "      <td>Factor 1</td>\n",
       "    </tr>\n",
       "    <tr>\n",
       "      <th>11</th>\n",
       "      <td>-1.322630</td>\n",
       "      <td>-4.278389</td>\n",
       "      <td>0.510218</td>\n",
       "      <td>0.489782</td>\n",
       "      <td>Factor 1</td>\n",
       "    </tr>\n",
       "    <tr>\n",
       "      <th>12</th>\n",
       "      <td>-0.970836</td>\n",
       "      <td>-3.926595</td>\n",
       "      <td>0.759048</td>\n",
       "      <td>0.240952</td>\n",
       "      <td>Factor 1</td>\n",
       "    </tr>\n",
       "    <tr>\n",
       "      <th>13</th>\n",
       "      <td>-1.429570</td>\n",
       "      <td>-4.385328</td>\n",
       "      <td>0.514030</td>\n",
       "      <td>0.485970</td>\n",
       "      <td>Factor 1</td>\n",
       "    </tr>\n",
       "    <tr>\n",
       "      <th>14</th>\n",
       "      <td>-1.322635</td>\n",
       "      <td>-4.278393</td>\n",
       "      <td>0.510219</td>\n",
       "      <td>0.489781</td>\n",
       "      <td>Factor 1</td>\n",
       "    </tr>\n",
       "    <tr>\n",
       "      <th>15</th>\n",
       "      <td>-1.099179</td>\n",
       "      <td>-4.054937</td>\n",
       "      <td>0.724773</td>\n",
       "      <td>0.275227</td>\n",
       "      <td>Factor 1</td>\n",
       "    </tr>\n",
       "    <tr>\n",
       "      <th>16</th>\n",
       "      <td>-1.001712</td>\n",
       "      <td>-3.957471</td>\n",
       "      <td>0.760781</td>\n",
       "      <td>0.239219</td>\n",
       "      <td>Factor 1</td>\n",
       "    </tr>\n",
       "    <tr>\n",
       "      <th>17</th>\n",
       "      <td>-1.384515</td>\n",
       "      <td>-4.340274</td>\n",
       "      <td>0.498660</td>\n",
       "      <td>0.501340</td>\n",
       "      <td>Factor 2</td>\n",
       "    </tr>\n",
       "  </tbody>\n",
       "</table>\n",
       "</div>"
      ],
      "text/plain": [
       "       logBF     logPO  Factor 1  Factor 2    Factor\n",
       "0  -0.879953 -3.835711  0.809018  0.190982  Factor 1\n",
       "1  -0.951201 -3.906960  0.786001  0.213999  Factor 1\n",
       "2  -0.913359 -3.869118  0.800658  0.199342  Factor 1\n",
       "3  -0.913434 -3.869192  0.800617  0.199383  Factor 1\n",
       "4  -0.921170 -3.876929  0.798722  0.201278  Factor 1\n",
       "5  -1.322631 -4.278390  0.510217  0.489783  Factor 1\n",
       "6  -1.322629 -4.278387  0.510217  0.489783  Factor 1\n",
       "7  -1.228764 -4.184522  0.604798  0.395202  Factor 1\n",
       "8  -1.048532 -4.004290  0.734994  0.265006  Factor 1\n",
       "9  -1.322631 -4.278390  0.510219  0.489781  Factor 1\n",
       "10 -1.322631 -4.278390  0.510219  0.489781  Factor 1\n",
       "11 -1.322630 -4.278389  0.510218  0.489782  Factor 1\n",
       "12 -0.970836 -3.926595  0.759048  0.240952  Factor 1\n",
       "13 -1.429570 -4.385328  0.514030  0.485970  Factor 1\n",
       "14 -1.322635 -4.278393  0.510219  0.489781  Factor 1\n",
       "15 -1.099179 -4.054937  0.724773  0.275227  Factor 1\n",
       "16 -1.001712 -3.957471  0.760781  0.239219  Factor 1\n",
       "17 -1.384515 -4.340274  0.498660  0.501340  Factor 2"
      ]
     },
     "execution_count": 18,
     "metadata": {},
     "output_type": "execute_result"
    }
   ],
   "source": [
    "f.head(18)"
   ]
  },
  {
   "cell_type": "code",
   "execution_count": 19,
   "metadata": {
    "collapsed": true
   },
   "outputs": [],
   "source": [
    "f = add_snp_number(f)"
   ]
  },
  {
   "cell_type": "code",
   "execution_count": 20,
   "metadata": {
    "collapsed": false
   },
   "outputs": [
    {
     "data": {
      "text/html": [
       "<div>\n",
       "<table border=\"1\" class=\"dataframe\">\n",
       "  <thead>\n",
       "    <tr style=\"text-align: right;\">\n",
       "      <th></th>\n",
       "      <th>logBF</th>\n",
       "      <th>logPO</th>\n",
       "      <th>Factor 1</th>\n",
       "      <th>Factor 2</th>\n",
       "      <th>Factor</th>\n",
       "      <th>SNP</th>\n",
       "    </tr>\n",
       "  </thead>\n",
       "  <tbody>\n",
       "    <tr>\n",
       "      <th>0</th>\n",
       "      <td>-0.879953</td>\n",
       "      <td>-3.835711</td>\n",
       "      <td>0.809018</td>\n",
       "      <td>0.190982</td>\n",
       "      <td>Factor 1</td>\n",
       "      <td>1</td>\n",
       "    </tr>\n",
       "    <tr>\n",
       "      <th>1</th>\n",
       "      <td>-0.951201</td>\n",
       "      <td>-3.906960</td>\n",
       "      <td>0.786001</td>\n",
       "      <td>0.213999</td>\n",
       "      <td>Factor 1</td>\n",
       "      <td>2</td>\n",
       "    </tr>\n",
       "    <tr>\n",
       "      <th>2</th>\n",
       "      <td>-0.913359</td>\n",
       "      <td>-3.869118</td>\n",
       "      <td>0.800658</td>\n",
       "      <td>0.199342</td>\n",
       "      <td>Factor 1</td>\n",
       "      <td>3</td>\n",
       "    </tr>\n",
       "    <tr>\n",
       "      <th>3</th>\n",
       "      <td>-0.913434</td>\n",
       "      <td>-3.869192</td>\n",
       "      <td>0.800617</td>\n",
       "      <td>0.199383</td>\n",
       "      <td>Factor 1</td>\n",
       "      <td>4</td>\n",
       "    </tr>\n",
       "    <tr>\n",
       "      <th>4</th>\n",
       "      <td>-0.921170</td>\n",
       "      <td>-3.876929</td>\n",
       "      <td>0.798722</td>\n",
       "      <td>0.201278</td>\n",
       "      <td>Factor 1</td>\n",
       "      <td>5</td>\n",
       "    </tr>\n",
       "  </tbody>\n",
       "</table>\n",
       "</div>"
      ],
      "text/plain": [
       "      logBF     logPO  Factor 1  Factor 2    Factor  SNP\n",
       "0 -0.879953 -3.835711  0.809018  0.190982  Factor 1    1\n",
       "1 -0.951201 -3.906960  0.786001  0.213999  Factor 1    2\n",
       "2 -0.913359 -3.869118  0.800658  0.199342  Factor 1    3\n",
       "3 -0.913434 -3.869192  0.800617  0.199383  Factor 1    4\n",
       "4 -0.921170 -3.876929  0.798722  0.201278  Factor 1    5"
      ]
     },
     "execution_count": 20,
     "metadata": {},
     "output_type": "execute_result"
    }
   ],
   "source": [
    "f.head()"
   ]
  },
  {
   "cell_type": "code",
   "execution_count": 21,
   "metadata": {
    "collapsed": false
   },
   "outputs": [],
   "source": [
    "zones = pd.DataFrame(data={'Strength of evidence':[\"Worth a mention\",\"Substantial\"],\n",
    "                           'logBF':[0,0.5],\n",
    "                           'SNP':[75000,75000],\n",
    "                          })"
   ]
  },
  {
   "cell_type": "code",
   "execution_count": 22,
   "metadata": {
    "collapsed": false
   },
   "outputs": [
    {
     "data": {
      "text/html": [
       "<div>\n",
       "<table border=\"1\" class=\"dataframe\">\n",
       "  <thead>\n",
       "    <tr style=\"text-align: right;\">\n",
       "      <th></th>\n",
       "      <th>SNP</th>\n",
       "      <th>Strength of evidence</th>\n",
       "      <th>logBF</th>\n",
       "    </tr>\n",
       "  </thead>\n",
       "  <tbody>\n",
       "    <tr>\n",
       "      <th>0</th>\n",
       "      <td>75000</td>\n",
       "      <td>Worth a mention</td>\n",
       "      <td>0.0</td>\n",
       "    </tr>\n",
       "    <tr>\n",
       "      <th>1</th>\n",
       "      <td>75000</td>\n",
       "      <td>Substantial</td>\n",
       "      <td>0.5</td>\n",
       "    </tr>\n",
       "  </tbody>\n",
       "</table>\n",
       "</div>"
      ],
      "text/plain": [
       "     SNP Strength of evidence  logBF\n",
       "0  75000      Worth a mention    0.0\n",
       "1  75000          Substantial    0.5"
      ]
     },
     "execution_count": 22,
     "metadata": {},
     "output_type": "execute_result"
    }
   ],
   "source": [
    "zones.head()"
   ]
  },
  {
   "cell_type": "code",
   "execution_count": 23,
   "metadata": {
    "collapsed": false
   },
   "outputs": [],
   "source": [
    "aes_lines = gp.aes(#linetype=None,\n",
    "                   color=\"Strength of evidence\",\n",
    "                   x='SNP',\n",
    "                   y='logBF', \n",
    "                   ) \n",
    "\n",
    "aes_dots = gp.aes(x='SNP', \n",
    "                  y='logBF', \n",
    "                  color='Factor')"
   ]
  },
  {
   "cell_type": "code",
   "execution_count": 24,
   "metadata": {
    "collapsed": false
   },
   "outputs": [],
   "source": [
    "lines = gp.geom_line(aes_lines, \n",
    "                     size=3, \n",
    "                     data=zones)\n",
    "\n",
    "dots = gp.geom_point(aes_dots, \n",
    "                     alpha=0.6, \n",
    "                     data=f)"
   ]
  },
  {
   "cell_type": "code",
   "execution_count": 25,
   "metadata": {
    "collapsed": false,
    "scrolled": false
   },
   "outputs": [
    {
     "data": {
      "text/plain": [
       "<ggplot: (8793542320137)>"
      ]
     },
     "execution_count": 25,
     "metadata": {},
     "output_type": "execute_result"
    }
   ],
   "source": [
    "gp_local_adapt = gp.ggplot(aes_dots,f)\n",
    "gp_local_adapt += gp.theme_seaborn()\n",
    "my_plots[\"gp_local_adapt\"] = gp_local_adapt\n",
    "gp_local_adapt + lines + dots + ggplot_theme"
   ]
  },
  {
   "cell_type": "code",
   "execution_count": 33,
   "metadata": {
    "collapsed": false
   },
   "outputs": [
    {
     "data": {
      "text/plain": [
       "<ggplot: (8793542307649)>"
      ]
     },
     "execution_count": 33,
     "metadata": {},
     "output_type": "execute_result"
    }
   ],
   "source": [
    "gp_local_adapt = gp.ggplot(f, gp.aes('SNP', 'logBF', color='Factor', xmin=0, xmax=len(f)))\n",
    "gp_local_adapt += gp.geom_point(alpha=0.6)\n",
    "gp_local_adapt += gp.geom_hline(yintercept=[0], show_guide=True, color='k', linetype='--', size=3)\n",
    "# gp_local_adapt += gp.geom_text(gp.aes(x=\"x\", y=\"y\", label=\"LineKind\"),data=zones)\n",
    "gp_local_adapt += ggplot_theme\n",
    "my_plots[\"gp_local_adapt\"] = gp_local_adapt\n",
    "\n",
    "gp_local_adapt"
   ]
  },
  {
   "cell_type": "code",
   "execution_count": 37,
   "metadata": {
    "collapsed": false
   },
   "outputs": [
    {
     "data": {
      "text/html": [
       "<div>\n",
       "<table border=\"1\" class=\"dataframe\">\n",
       "  <thead>\n",
       "    <tr style=\"text-align: right;\">\n",
       "      <th></th>\n",
       "      <th>logBF</th>\n",
       "      <th>logPO</th>\n",
       "      <th>Factor 1</th>\n",
       "      <th>Factor 2</th>\n",
       "      <th>Factor</th>\n",
       "      <th>SNP</th>\n",
       "    </tr>\n",
       "  </thead>\n",
       "  <tbody>\n",
       "    <tr>\n",
       "      <th>55935</th>\n",
       "      <td>0.001190</td>\n",
       "      <td>-2.954569</td>\n",
       "      <td>0.031516</td>\n",
       "      <td>0.968484</td>\n",
       "      <td>Factor 2</td>\n",
       "      <td>55936</td>\n",
       "    </tr>\n",
       "    <tr>\n",
       "      <th>39523</th>\n",
       "      <td>0.012381</td>\n",
       "      <td>-2.943377</td>\n",
       "      <td>0.030552</td>\n",
       "      <td>0.969448</td>\n",
       "      <td>Factor 2</td>\n",
       "      <td>39524</td>\n",
       "    </tr>\n",
       "    <tr>\n",
       "      <th>22278</th>\n",
       "      <td>0.054760</td>\n",
       "      <td>-2.900998</td>\n",
       "      <td>0.028083</td>\n",
       "      <td>0.971917</td>\n",
       "      <td>Factor 2</td>\n",
       "      <td>22279</td>\n",
       "    </tr>\n",
       "    <tr>\n",
       "      <th>40971</th>\n",
       "      <td>0.098694</td>\n",
       "      <td>-2.857064</td>\n",
       "      <td>0.025200</td>\n",
       "      <td>0.974800</td>\n",
       "      <td>Factor 2</td>\n",
       "      <td>40972</td>\n",
       "    </tr>\n",
       "    <tr>\n",
       "      <th>22487</th>\n",
       "      <td>0.145718</td>\n",
       "      <td>-2.810041</td>\n",
       "      <td>0.022444</td>\n",
       "      <td>0.977556</td>\n",
       "      <td>Factor 2</td>\n",
       "      <td>22488</td>\n",
       "    </tr>\n",
       "    <tr>\n",
       "      <th>22488</th>\n",
       "      <td>0.145904</td>\n",
       "      <td>-2.809855</td>\n",
       "      <td>0.022371</td>\n",
       "      <td>0.977629</td>\n",
       "      <td>Factor 2</td>\n",
       "      <td>22489</td>\n",
       "    </tr>\n",
       "  </tbody>\n",
       "</table>\n",
       "</div>"
      ],
      "text/plain": [
       "          logBF     logPO  Factor 1  Factor 2    Factor    SNP\n",
       "55935  0.001190 -2.954569  0.031516  0.968484  Factor 2  55936\n",
       "39523  0.012381 -2.943377  0.030552  0.969448  Factor 2  39524\n",
       "22278  0.054760 -2.900998  0.028083  0.971917  Factor 2  22279\n",
       "40971  0.098694 -2.857064  0.025200  0.974800  Factor 2  40972\n",
       "22487  0.145718 -2.810041  0.022444  0.977556  Factor 2  22488\n",
       "22488  0.145904 -2.809855  0.022371  0.977629  Factor 2  22489"
      ]
     },
     "execution_count": 37,
     "metadata": {},
     "output_type": "execute_result"
    }
   ],
   "source": [
    "f.query(\"logBF >= 0\").sort('logBF')"
   ]
  },
  {
   "cell_type": "code",
   "execution_count": null,
   "metadata": {
    "collapsed": true
   },
   "outputs": [],
   "source": []
  }
 ],
 "metadata": {
  "kernelspec": {
   "display_name": "Python 2",
   "language": "python",
   "name": "python2"
  },
  "language_info": {
   "codemirror_mode": {
    "name": "ipython",
    "version": 2
   },
   "file_extension": ".py",
   "mimetype": "text/x-python",
   "name": "python",
   "nbconvert_exporter": "python",
   "pygments_lexer": "ipython2",
   "version": "2.7.9"
  }
 },
 "nbformat": 4,
 "nbformat_minor": 0
}
