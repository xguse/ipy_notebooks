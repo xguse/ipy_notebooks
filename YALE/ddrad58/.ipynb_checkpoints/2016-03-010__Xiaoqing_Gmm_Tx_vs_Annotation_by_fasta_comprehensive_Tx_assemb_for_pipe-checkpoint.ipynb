{
 "cells": [
  {
   "cell_type": "markdown",
   "metadata": {},
   "source": [
    "## Imports:"
   ]
  },
  {
   "cell_type": "code",
   "execution_count": 2,
   "metadata": {
    "collapsed": false
   },
   "outputs": [],
   "source": [
    "from __future__ import unicode_literals\n",
    "from __future__ import division\n",
    "from __future__ import print_function\n",
    "\n",
    "\n",
    "import numpy as np\n",
    "import pandas as pd\n",
    "\n",
    "\n",
    "from pyfasta import Fasta\n"
   ]
  },
  {
   "cell_type": "markdown",
   "metadata": {},
   "source": [
    "## File paths:"
   ]
  },
  {
   "cell_type": "code",
   "execution_count": 3,
   "metadata": {
    "collapsed": false
   },
   "outputs": [],
   "source": [
    "# define paths to files\n",
    "\n",
    "tx_fasta = \"/home/gus/MEGAsync/zim/main/Yale/Collaborations/Hongyu-tsetse/Xiaoqing/transcripts/2016-02-05_comprehensive_Gmm_transcript_set/Gisella2016_Morsitan_transcriptome/transcripts.fa\"\n",
    "\n",
    "ortholog_table = \"/home/gus/MEGAsync/zim/main/Yale/Collaborations/Hongyu-tsetse/Find_Gff_sequences_from_Gmm_RNA-seq_transcriptome/existing_genes/vectorbase_orthologs_GMOY_GFUI.csv\"\n",
    "\n",
    "tx_orthos_out = \"/home/gus/MEGAsync/zim/main/Yale/Collaborations/Hongyu-tsetse/Find_Gff_sequences_from_Gmm_RNA-seq_transcriptome/existing_genes/xiaoqing_orthologous_Tx_GMOY_GFUI_comp_Tx_assemb.xls\""
   ]
  },
  {
   "cell_type": "code",
   "execution_count": 14,
   "metadata": {
    "collapsed": false
   },
   "outputs": [],
   "source": [
    "tx_names = [x.split(' gene=') for x in Fasta(tx_fasta, key_fn=lambda h: h.lstrip('>')).keys()]"
   ]
  },
  {
   "cell_type": "code",
   "execution_count": 16,
   "metadata": {
    "collapsed": false
   },
   "outputs": [
    {
     "data": {
      "text/html": [
       "<div>\n",
       "<table border=\"1\" class=\"dataframe\">\n",
       "  <thead>\n",
       "    <tr style=\"text-align: right;\">\n",
       "      <th></th>\n",
       "      <th>tx_tcons</th>\n",
       "      <th>tx_gene</th>\n",
       "    </tr>\n",
       "  </thead>\n",
       "  <tbody>\n",
       "    <tr>\n",
       "      <th>0</th>\n",
       "      <td>TCONS_00010086</td>\n",
       "      <td>GMOY001391</td>\n",
       "    </tr>\n",
       "    <tr>\n",
       "      <th>1</th>\n",
       "      <td>TCONS_00062107</td>\n",
       "      <td>GMOY008592</td>\n",
       "    </tr>\n",
       "    <tr>\n",
       "      <th>2</th>\n",
       "      <td>TCONS_00029764</td>\n",
       "      <td>GMOY004120</td>\n",
       "    </tr>\n",
       "    <tr>\n",
       "      <th>3</th>\n",
       "      <td>TCONS_00012126</td>\n",
       "      <td>XLOC_005661</td>\n",
       "    </tr>\n",
       "    <tr>\n",
       "      <th>4</th>\n",
       "      <td>TCONS_00060090</td>\n",
       "      <td>XLOC_029970</td>\n",
       "    </tr>\n",
       "  </tbody>\n",
       "</table>\n",
       "</div>"
      ],
      "text/plain": [
       "         tx_tcons      tx_gene\n",
       "0  TCONS_00010086   GMOY001391\n",
       "1  TCONS_00062107   GMOY008592\n",
       "2  TCONS_00029764   GMOY004120\n",
       "3  TCONS_00012126  XLOC_005661\n",
       "4  TCONS_00060090  XLOC_029970"
      ]
     },
     "execution_count": 16,
     "metadata": {},
     "output_type": "execute_result"
    }
   ],
   "source": [
    "tx_df = pd.DataFrame(tx_names, columns=['tx_tcons','tx_gene'])"
   ]
  },
  {
   "cell_type": "code",
   "execution_count": 17,
   "metadata": {
    "collapsed": false
   },
   "outputs": [
    {
     "data": {
      "text/html": [
       "<div>\n",
       "<table border=\"1\" class=\"dataframe\">\n",
       "  <thead>\n",
       "    <tr style=\"text-align: right;\">\n",
       "      <th></th>\n",
       "      <th>Gene stable ID</th>\n",
       "      <th>Glossina fuscipes fuscipes gene stable ID</th>\n",
       "      <th>Homology type</th>\n",
       "      <th>% identity</th>\n",
       "      <th>Glossina fuscipes fuscipes % identity</th>\n",
       "      <th>dN</th>\n",
       "      <th>dS</th>\n",
       "      <th>Orthology confidence [0 low, 1 high]</th>\n",
       "    </tr>\n",
       "  </thead>\n",
       "  <tbody>\n",
       "    <tr>\n",
       "      <th>0</th>\n",
       "      <td>GMOY005425</td>\n",
       "      <td>GFUI009881</td>\n",
       "      <td>ortholog_one2one</td>\n",
       "      <td>90</td>\n",
       "      <td>47</td>\n",
       "      <td>0.0635</td>\n",
       "      <td>0.2015</td>\n",
       "      <td>1</td>\n",
       "    </tr>\n",
       "    <tr>\n",
       "      <th>1</th>\n",
       "      <td>GMOY005426</td>\n",
       "      <td>GFUI009872</td>\n",
       "      <td>ortholog_one2one</td>\n",
       "      <td>84</td>\n",
       "      <td>91</td>\n",
       "      <td>0.0402</td>\n",
       "      <td>0.1808</td>\n",
       "      <td>1</td>\n",
       "    </tr>\n",
       "    <tr>\n",
       "      <th>2</th>\n",
       "      <td>GMOY005427</td>\n",
       "      <td>GFUI009879</td>\n",
       "      <td>ortholog_one2one</td>\n",
       "      <td>79</td>\n",
       "      <td>45</td>\n",
       "      <td>0.1107</td>\n",
       "      <td>0.1997</td>\n",
       "      <td>1</td>\n",
       "    </tr>\n",
       "    <tr>\n",
       "      <th>3</th>\n",
       "      <td>GMOY005428</td>\n",
       "      <td>GFUI009867</td>\n",
       "      <td>ortholog_one2one</td>\n",
       "      <td>87</td>\n",
       "      <td>91</td>\n",
       "      <td>0.0477</td>\n",
       "      <td>0.1389</td>\n",
       "      <td>1</td>\n",
       "    </tr>\n",
       "    <tr>\n",
       "      <th>4</th>\n",
       "      <td>GMOY005430</td>\n",
       "      <td>GFUI009870</td>\n",
       "      <td>ortholog_one2one</td>\n",
       "      <td>99</td>\n",
       "      <td>98</td>\n",
       "      <td>0.0049</td>\n",
       "      <td>0.2207</td>\n",
       "      <td>1</td>\n",
       "    </tr>\n",
       "  </tbody>\n",
       "</table>\n",
       "</div>"
      ],
      "text/plain": [
       "  Gene stable ID Glossina fuscipes fuscipes gene stable ID     Homology type  \\\n",
       "0     GMOY005425                                GFUI009881  ortholog_one2one   \n",
       "1     GMOY005426                                GFUI009872  ortholog_one2one   \n",
       "2     GMOY005427                                GFUI009879  ortholog_one2one   \n",
       "3     GMOY005428                                GFUI009867  ortholog_one2one   \n",
       "4     GMOY005430                                GFUI009870  ortholog_one2one   \n",
       "\n",
       "   % identity  Glossina fuscipes fuscipes % identity      dN      dS  \\\n",
       "0          90                                     47  0.0635  0.2015   \n",
       "1          84                                     91  0.0402  0.1808   \n",
       "2          79                                     45  0.1107  0.1997   \n",
       "3          87                                     91  0.0477  0.1389   \n",
       "4          99                                     98  0.0049  0.2207   \n",
       "\n",
       "   Orthology confidence [0 low, 1 high]  \n",
       "0                                     1  \n",
       "1                                     1  \n",
       "2                                     1  \n",
       "3                                     1  \n",
       "4                                     1  "
      ]
     },
     "execution_count": 17,
     "metadata": {},
     "output_type": "execute_result"
    }
   ],
   "source": [
    "orthos = pd.read_csv(ortholog_table)"
   ]
  },
  {
   "cell_type": "code",
   "execution_count": 18,
   "metadata": {
    "collapsed": false
   },
   "outputs": [
    {
     "data": {
      "text/html": [
       "<div>\n",
       "<table border=\"1\" class=\"dataframe\">\n",
       "  <thead>\n",
       "    <tr style=\"text-align: right;\">\n",
       "      <th></th>\n",
       "      <th>tx_tcons</th>\n",
       "      <th>tx_gene</th>\n",
       "      <th>Gene stable ID</th>\n",
       "      <th>Glossina fuscipes fuscipes gene stable ID</th>\n",
       "      <th>Homology type</th>\n",
       "      <th>% identity</th>\n",
       "      <th>Glossina fuscipes fuscipes % identity</th>\n",
       "      <th>dN</th>\n",
       "      <th>dS</th>\n",
       "      <th>Orthology confidence [0 low, 1 high]</th>\n",
       "    </tr>\n",
       "  </thead>\n",
       "  <tbody>\n",
       "    <tr>\n",
       "      <th>0</th>\n",
       "      <td>TCONS_00010086</td>\n",
       "      <td>GMOY001391</td>\n",
       "      <td>GMOY001391</td>\n",
       "      <td>GFUI026077</td>\n",
       "      <td>ortholog_one2one</td>\n",
       "      <td>90</td>\n",
       "      <td>90</td>\n",
       "      <td>0.0401</td>\n",
       "      <td>0.1923</td>\n",
       "      <td>1</td>\n",
       "    </tr>\n",
       "    <tr>\n",
       "      <th>1</th>\n",
       "      <td>TCONS_00010088</td>\n",
       "      <td>GMOY001391</td>\n",
       "      <td>GMOY001391</td>\n",
       "      <td>GFUI026077</td>\n",
       "      <td>ortholog_one2one</td>\n",
       "      <td>90</td>\n",
       "      <td>90</td>\n",
       "      <td>0.0401</td>\n",
       "      <td>0.1923</td>\n",
       "      <td>1</td>\n",
       "    </tr>\n",
       "    <tr>\n",
       "      <th>2</th>\n",
       "      <td>TCONS_00010084</td>\n",
       "      <td>GMOY001391</td>\n",
       "      <td>GMOY001391</td>\n",
       "      <td>GFUI026077</td>\n",
       "      <td>ortholog_one2one</td>\n",
       "      <td>90</td>\n",
       "      <td>90</td>\n",
       "      <td>0.0401</td>\n",
       "      <td>0.1923</td>\n",
       "      <td>1</td>\n",
       "    </tr>\n",
       "    <tr>\n",
       "      <th>3</th>\n",
       "      <td>TCONS_00010087</td>\n",
       "      <td>GMOY001391</td>\n",
       "      <td>GMOY001391</td>\n",
       "      <td>GFUI026077</td>\n",
       "      <td>ortholog_one2one</td>\n",
       "      <td>90</td>\n",
       "      <td>90</td>\n",
       "      <td>0.0401</td>\n",
       "      <td>0.1923</td>\n",
       "      <td>1</td>\n",
       "    </tr>\n",
       "    <tr>\n",
       "      <th>4</th>\n",
       "      <td>TCONS_00010090</td>\n",
       "      <td>GMOY001391</td>\n",
       "      <td>GMOY001391</td>\n",
       "      <td>GFUI026077</td>\n",
       "      <td>ortholog_one2one</td>\n",
       "      <td>90</td>\n",
       "      <td>90</td>\n",
       "      <td>0.0401</td>\n",
       "      <td>0.1923</td>\n",
       "      <td>1</td>\n",
       "    </tr>\n",
       "  </tbody>\n",
       "</table>\n",
       "</div>"
      ],
      "text/plain": [
       "         tx_tcons     tx_gene Gene stable ID  \\\n",
       "0  TCONS_00010086  GMOY001391     GMOY001391   \n",
       "1  TCONS_00010088  GMOY001391     GMOY001391   \n",
       "2  TCONS_00010084  GMOY001391     GMOY001391   \n",
       "3  TCONS_00010087  GMOY001391     GMOY001391   \n",
       "4  TCONS_00010090  GMOY001391     GMOY001391   \n",
       "\n",
       "  Glossina fuscipes fuscipes gene stable ID     Homology type  % identity  \\\n",
       "0                                GFUI026077  ortholog_one2one          90   \n",
       "1                                GFUI026077  ortholog_one2one          90   \n",
       "2                                GFUI026077  ortholog_one2one          90   \n",
       "3                                GFUI026077  ortholog_one2one          90   \n",
       "4                                GFUI026077  ortholog_one2one          90   \n",
       "\n",
       "   Glossina fuscipes fuscipes % identity      dN      dS  \\\n",
       "0                                     90  0.0401  0.1923   \n",
       "1                                     90  0.0401  0.1923   \n",
       "2                                     90  0.0401  0.1923   \n",
       "3                                     90  0.0401  0.1923   \n",
       "4                                     90  0.0401  0.1923   \n",
       "\n",
       "   Orthology confidence [0 low, 1 high]  \n",
       "0                                     1  \n",
       "1                                     1  \n",
       "2                                     1  \n",
       "3                                     1  \n",
       "4                                     1  "
      ]
     },
     "execution_count": 18,
     "metadata": {},
     "output_type": "execute_result"
    }
   ],
   "source": [
    "tx_orthos = pd.merge(left=tx_df, right=orthos, \n",
    "                     how='inner', on=None, \n",
    "                     left_on='tx_gene', right_on='Gene stable ID', \n",
    "                     left_index=False, right_index=False, \n",
    "                     sort=False, suffixes=('_x', '_y'), \n",
    "                     copy=True, indicator=False)"
   ]
  },
  {
   "cell_type": "code",
   "execution_count": 19,
   "metadata": {
    "collapsed": false
   },
   "outputs": [
    {
     "data": {
      "text/plain": [
       "(53277, 10)"
      ]
     },
     "execution_count": 19,
     "metadata": {},
     "output_type": "execute_result"
    }
   ],
   "source": [
    "tx_orthos.shape"
   ]
  },
  {
   "cell_type": "code",
   "execution_count": 20,
   "metadata": {
    "collapsed": false
   },
   "outputs": [
    {
     "data": {
      "text/plain": [
       "(9892,)"
      ]
     },
     "execution_count": 20,
     "metadata": {},
     "output_type": "execute_result"
    }
   ],
   "source": [
    "# unique GENES \n",
    "tx_orthos.tx_gene.unique().shape"
   ]
  },
  {
   "cell_type": "code",
   "execution_count": 21,
   "metadata": {
    "collapsed": false
   },
   "outputs": [
    {
     "data": {
      "text/plain": [
       "(49256,)"
      ]
     },
     "execution_count": 21,
     "metadata": {},
     "output_type": "execute_result"
    }
   ],
   "source": [
    "# unique TX \n",
    "tx_orthos.tx_tcons.unique().shape"
   ]
  },
  {
   "cell_type": "code",
   "execution_count": 10,
   "metadata": {
    "collapsed": false
   },
   "outputs": [],
   "source": [
    "tx_orthos.drop(\"tx_gene\", axis=1).to_excel(tx_orthos_out,index=False)"
   ]
  }
 ],
 "metadata": {
  "kernelspec": {
   "display_name": "Python 2",
   "language": "python",
   "name": "python2"
  },
  "language_info": {
   "codemirror_mode": {
    "name": "ipython",
    "version": 2
   },
   "file_extension": ".py",
   "mimetype": "text/x-python",
   "name": "python",
   "nbconvert_exporter": "python",
   "pygments_lexer": "ipython2",
   "version": "2.7.11"
  }
 },
 "nbformat": 4,
 "nbformat_minor": 0
}
