{
 "cells": [
  {
   "cell_type": "code",
   "execution_count": 1,
   "metadata": {
    "collapsed": false
   },
   "outputs": [
    {
     "ename": "ImportError",
     "evalue": "No module named graphviz",
     "output_type": "error",
     "traceback": [
      "\u001b[1;31m---------------------------------------------------------------------------\u001b[0m",
      "\u001b[1;31mImportError\u001b[0m                               Traceback (most recent call last)",
      "\u001b[1;32m<ipython-input-1-5dafd8ea2747>\u001b[0m in \u001b[0;36m<module>\u001b[1;34m()\u001b[0m\n\u001b[0;32m     10\u001b[0m \u001b[1;33m\u001b[0m\u001b[0m\n\u001b[0;32m     11\u001b[0m \u001b[1;32mfrom\u001b[0m \u001b[0mdask\u001b[0m \u001b[1;32mimport\u001b[0m \u001b[0mdataframe\u001b[0m \u001b[1;32mas\u001b[0m \u001b[0mdd\u001b[0m\u001b[1;33m\u001b[0m\u001b[0m\n\u001b[1;32m---> 12\u001b[1;33m \u001b[1;32mfrom\u001b[0m \u001b[0mdask\u001b[0m\u001b[1;33m.\u001b[0m\u001b[0mdot\u001b[0m \u001b[1;32mimport\u001b[0m \u001b[0mdot_graph\u001b[0m\u001b[1;33m\u001b[0m\u001b[0m\n\u001b[0m",
      "\u001b[1;32m/home/gus/anaconda2/envs/stack2/lib/python2.7/site-packages/dask/dot.py\u001b[0m in \u001b[0;36m<module>\u001b[1;34m()\u001b[0m\n\u001b[0;32m      4\u001b[0m \u001b[1;32mfrom\u001b[0m \u001b[0mfunctools\u001b[0m \u001b[1;32mimport\u001b[0m \u001b[0mpartial\u001b[0m\u001b[1;33m\u001b[0m\u001b[0m\n\u001b[0;32m      5\u001b[0m \u001b[1;33m\u001b[0m\u001b[0m\n\u001b[1;32m----> 6\u001b[1;33m \u001b[1;32mfrom\u001b[0m \u001b[0mgraphviz\u001b[0m \u001b[1;32mimport\u001b[0m \u001b[0mDigraph\u001b[0m\u001b[1;33m\u001b[0m\u001b[0m\n\u001b[0m\u001b[0;32m      7\u001b[0m \u001b[1;33m\u001b[0m\u001b[0m\n\u001b[0;32m      8\u001b[0m \u001b[1;32mfrom\u001b[0m \u001b[1;33m.\u001b[0m\u001b[0mcore\u001b[0m \u001b[1;32mimport\u001b[0m \u001b[0mistask\u001b[0m\u001b[1;33m,\u001b[0m \u001b[0mget_dependencies\u001b[0m\u001b[1;33m,\u001b[0m \u001b[0mishashable\u001b[0m\u001b[1;33m\u001b[0m\u001b[0m\n",
      "\u001b[1;31mImportError\u001b[0m: No module named graphviz"
     ]
    }
   ],
   "source": [
    "from __future__ import unicode_literals\n",
    "from __future__ import division\n",
    "from __future__ import print_function\n",
    "\n",
    "import os\n",
    "\n",
    "import numpy as np\n",
    "import pandas as pd\n",
    "pd.set_option('display.max_columns', 60)\n",
    "\n",
    "from dask import dataframe as dd\n",
    "from dask.dot import dot_graph"
   ]
  },
  {
   "cell_type": "markdown",
   "metadata": {},
   "source": [
    "# Files"
   ]
  },
  {
   "cell_type": "code",
   "execution_count": 2,
   "metadata": {
    "collapsed": false
   },
   "outputs": [
    {
     "ename": "ImportError",
     "evalue": "No module named graphviz",
     "output_type": "error",
     "traceback": [
      "\u001b[1;31m---------------------------------------------------------------------------\u001b[0m",
      "\u001b[1;31mImportError\u001b[0m                               Traceback (most recent call last)",
      "\u001b[1;32m<ipython-input-2-3813d87ba683>\u001b[0m in \u001b[0;36m<module>\u001b[1;34m()\u001b[0m\n\u001b[1;32m----> 1\u001b[1;33m \u001b[1;32mimport\u001b[0m \u001b[0mgraphviz\u001b[0m\u001b[1;33m\u001b[0m\u001b[0m\n\u001b[0m",
      "\u001b[1;31mImportError\u001b[0m: No module named graphviz"
     ]
    }
   ],
   "source": [
    "import graphviz"
   ]
  },
  {
   "cell_type": "code",
   "execution_count": null,
   "metadata": {
    "collapsed": true
   },
   "outputs": [],
   "source": [
    "k_nearest_1_ = \"/home/gus/MEGAsync/zim/main/Yale/Collaborations/Hongyu-tsetse/gmm_to_gff_pipeline/pipeline_runs/gmm_to_gff_testing_v2/get_nearest_k_features/snp_list_MS_1_with_p_value.nearest.bed\"\n",
    "\n",
    "ids_with_diff_expr_ = \"/home/gus/MEGAsync/zim/main/Yale/Collaborations/Hongyu-tsetse/gmm_to_gff_pipeline/pipeline_runs/gmm_to_gff_testing_v2/make_id_table_with_diff_expr/ids_with_diff_expr.csv\""
   ]
  },
  {
   "cell_type": "markdown",
   "metadata": {},
   "source": [
    "# Functions"
   ]
  },
  {
   "cell_type": "code",
   "execution_count": null,
   "metadata": {
    "collapsed": true
   },
   "outputs": [],
   "source": [
    "def load_k_nearest_bed_by_distance(path, distance, keep_cols=None, rename_cols=None):\n",
    "    \"\"\"\"\"\"\n",
    "    headers = [\"SNP_chrom\",\n",
    "           \"SNP_start\",\n",
    "           \"SNP_end\",\n",
    "           \"feature_set_name\",\n",
    "           \"chrom\",\n",
    "           \"chromStart\",\n",
    "           \"chromEnd\",\n",
    "           \"name\",\n",
    "           \"score\",\n",
    "           \"strand\",\n",
    "           \"thickStart\",\n",
    "           \"thickEnd\",\n",
    "           \"itemRgb\",\n",
    "           \"blockCount\",\n",
    "           \"blockSizes\",\n",
    "           \"blockStarts\",\n",
    "           \"distance\"\n",
    "          ]\n",
    "    k_nearest = pd.read_csv(path, sep=\"\\t\", names=headers)\n",
    "\n",
    "    filtered_by_d = k_nearest.query(\"\"\" abs(distance) <= {distance} \"\"\".format(distance=distance))\n",
    "    \n",
    "    if rename_cols is not None:\n",
    "        assert isinstance(rename_cols,dict)\n",
    "        filtered_by_d = filtered_by_d.rename(columns=rename_cols).copy()\n",
    "    \n",
    "    if keep_cols is not None:\n",
    "        assert isinstance(keep_cols,list)\n",
    "        return filtered_by_d[keep_cols]\n",
    "    else:\n",
    "        return filtered_by_d\n",
    "\n",
    "def load_de_genes_tx(path):\n",
    "    \"\"\"\"\"\"\n",
    "    de = dd.read_csv(path)\n",
    "    return de\n",
    "\n",
    "def join_k_nearest_with_de(knear, de, feat_set):\n",
    "    \"\"\"\"\"\"\n",
    "#     joined = pd.\n",
    "\n",
    "def reshape_k_nearest(df):\n",
    "    \"\"\"\"\"\"\n",
    "    for set_name in df.feature_set_name.unique():\n",
    "        df[set_name] = df[df.feature_set_name == set_name].proximal_id\n",
    "    df.fillna('-', inplace=True)\n",
    "    "
   ]
  },
  {
   "cell_type": "markdown",
   "metadata": {},
   "source": [
    "# Load inputs"
   ]
  },
  {
   "cell_type": "code",
   "execution_count": null,
   "metadata": {
    "collapsed": false
   },
   "outputs": [],
   "source": [
    "k_nearest_1 = load_k_nearest_bed_by_distance(path=k_nearest_1_,\n",
    "                                             distance=0,\n",
    "                                             keep_cols=[\"SNP_chrom\",\"SNP_start\",\"SNP_end\",\"feature_set_name\",\"proximal_id\"],\n",
    "                                             rename_cols={\"name\": \"proximal_id\"}\n",
    "                                            )\n",
    "ids_with_diff_expr = load_de_genes_tx(path=ids_with_diff_expr_)"
   ]
  },
  {
   "cell_type": "code",
   "execution_count": null,
   "metadata": {
    "collapsed": false
   },
   "outputs": [],
   "source": [
    "k_nearest_1.head()"
   ]
  },
  {
   "cell_type": "code",
   "execution_count": null,
   "metadata": {
    "collapsed": true
   },
   "outputs": [],
   "source": [
    "reshape_k_nearest(k_nearest_1)"
   ]
  },
  {
   "cell_type": "code",
   "execution_count": null,
   "metadata": {
    "collapsed": false
   },
   "outputs": [],
   "source": [
    "k_nearest_1.head()"
   ]
  },
  {
   "cell_type": "code",
   "execution_count": null,
   "metadata": {
    "collapsed": false
   },
   "outputs": [],
   "source": [
    "ids_with_diff_expr.head()"
   ]
  },
  {
   "cell_type": "markdown",
   "metadata": {},
   "source": [
    "# Join tables"
   ]
  },
  {
   "cell_type": "code",
   "execution_count": null,
   "metadata": {
    "collapsed": true
   },
   "outputs": [],
   "source": [
    "pd.merge(left=k_nearest_1, right=ids_with_diff_expr, how='left',\n",
    "         on=None, left_on=\"official_annotations\", right_on=\"gene_id_internal\",\n",
    "         left_index=False, right_index=False,\n",
    "         sort=False, suffixes=('_x', '_y'), copy=True, indicator=False).head()"
   ]
  },
  {
   "cell_type": "code",
   "execution_count": null,
   "metadata": {
    "collapsed": true
   },
   "outputs": [],
   "source": [
    "dd.read_csv"
   ]
  }
 ],
 "metadata": {
  "kernelspec": {
   "display_name": "Python 2",
   "language": "python",
   "name": "python2"
  },
  "language_info": {
   "codemirror_mode": {
    "name": "ipython",
    "version": 2
   },
   "file_extension": ".py",
   "mimetype": "text/x-python",
   "name": "python",
   "nbconvert_exporter": "python",
   "pygments_lexer": "ipython2",
   "version": "2.7.11"
  }
 },
 "nbformat": 4,
 "nbformat_minor": 0
}
