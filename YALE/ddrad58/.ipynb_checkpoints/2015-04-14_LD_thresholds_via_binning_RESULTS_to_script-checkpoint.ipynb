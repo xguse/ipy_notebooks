{
 "cells": [
  {
   "cell_type": "markdown",
   "metadata": {},
   "source": [
    "# Purpose:\n",
    "\n",
    "2015-03-13 (Friday)\n",
    "\n",
    "Explore and characterize the results of the learned Beta filter method."
   ]
  },
  {
   "cell_type": "markdown",
   "metadata": {},
   "source": [
    "# Contents\n",
    "[Loading-files](#Loading-files)\n",
    "\n",
    "[Filtering-Stats](#Filtering-Stats)\n",
    "\n",
    "[Characterization-of-contigs-with/without-regard-to-selected-SNP-pairs](#Characterization-of-contigs-with/without-regard-to-selected-SNP-pairs)\n",
    "- [All-contigs](#All-contigs)\n",
    "- [All-SNP-pair-contigs](#All-SNP-pair-contigs)\n",
    "- [LD-filtered-SNP-pair-contigs](#LD-filtered-SNP-pair-contigs)\n",
    "\n",
    "[Compare-with-Tajima's-D-results-from-AndreaG](#Compare-with-Tajima's-D-results-from-AndreaG)\n",
    "- [Examine-ld_contig_taj_win_filter](#Examine-ld_contig_taj_win_filter)\n",
    "- [Basic-summary-table-referencing-SNP-pairs](#Basic-summary-table-referencing-SNP-pairs)\n",
    "- [How-is-q-value-related-to-SNP-pair-distance?](#How-is-q-value-related-to-SNP-pair-distance?)\n",
    "- [What-is-the-distribution-of-SNPs-per-bin-used-for-Tajima's-D-bin_50](#What-is-the-distribution-of-SNPs-per-bin-used-for-Tajima's-D-bin_50)\n",
    "- [How-Tajima's-D-score-bin_50-relate-to-number-of-SNPs-in-the-bin](#How-Tajima's-D-score-bin_50-relate-to-number-of-SNPs-in-the-bin)\n",
    "\n",
    "[Average-LD-per-bin](#Average-LD-per-bin)\n",
    "- [All-contigs-together](#All-contigs-together)\n",
    "- [5-random-contigs](#5-random-contigs)\n",
    "- "
   ]
  },
  {
   "cell_type": "markdown",
   "metadata": {},
   "source": [
    "## Imports:"
   ]
  },
  {
   "cell_type": "code",
   "execution_count": 66,
   "metadata": {
    "collapsed": true
   },
   "outputs": [],
   "source": [
    "%matplotlib inline\n",
    "\n",
    "import os\n",
    "\n",
    "import matplotlib.pyplot as plt\n",
    "import seaborn as sns\n",
    "import ggplot as gp\n",
    "\n",
    "\n",
    "import numpy as np\n",
    "import pandas as pd\n",
    "pd.set_option('display.max_columns', 60)\n",
    "# import tables as h5\n",
    "\n",
    "import itertools as it\n",
    "from collections import defaultdict\n",
    "\n",
    "import numpy as np\n",
    "import pandas as pd\n",
    "import scipy\n",
    "from scikits import bootstrap as bs\n",
    "import statsmodels.api as sm\n",
    "import statsmodels.stats.multitest as smm\n",
    "\n",
    "import munch\n",
    "\n",
    "import pymc as mc\n",
    "\n",
    "from spartan.utils.genome_specific.GfusI1 import GfusI1_0\n",
    "from spartan.utils.fastas import ParseFastA"
   ]
  },
  {
   "cell_type": "code",
   "execution_count": 67,
   "metadata": {
    "collapsed": true
   },
   "outputs": [],
   "source": [
    "# set figure characteristics\n",
    "\n",
    "# size\n",
    "sns.set_context(\"talk\")\n",
    "\n",
    "# style\n",
    "sns.set_style(\"whitegrid\")"
   ]
  },
  {
   "cell_type": "markdown",
   "metadata": {},
   "source": [
    "## Save plots?"
   ]
  },
  {
   "cell_type": "code",
   "execution_count": 68,
   "metadata": {
    "collapsed": true
   },
   "outputs": [],
   "source": [
    "save_plots = True"
   ]
  },
  {
   "cell_type": "markdown",
   "metadata": {},
   "source": [
    "## File paths:"
   ]
  },
  {
   "cell_type": "code",
   "execution_count": 69,
   "metadata": {
    "collapsed": true
   },
   "outputs": [],
   "source": [
    "# define paths to files\n",
    "\n",
    "base_out_dir = \"/home/gus/Documents/YalePostDoc/project_stuff/g_f_fucipes_uganda/ddrad58/manuscript/figures/ld\"\n",
    "\n",
    "fasta_path = \"/home/gus/remote_mounts/louise/data/genomes/glossina_fuscipes/assemblies/GfusI1/Glossina-fuscipes-IAEA_SCAFFOLDS_GfusI1.fa\"\n",
    "contig_name_length_path = \"/home/gus/Dropbox/uganda_data/data_repos/genome_info/assembly_info/contig_name_length.csv\"\n",
    "\n",
    "ld_results_pickle=\"/home/gus/Documents/YalePostDoc/project_stuff/g_f_fucipes_uganda/ddrad58/ld_thresholds/post_MAP_calc.plk\"\n",
    "tajimas_csv = \"/home/gus/Documents/YalePostDoc/project_stuff/g_f_fucipes_uganda/ddrad58/data_from_andrea/Tajima50.csv\""
   ]
  },
  {
   "cell_type": "markdown",
   "metadata": {},
   "source": [
    "# Record some info about the contigs once and for all"
   ]
  },
  {
   "cell_type": "code",
   "execution_count": 70,
   "metadata": {
    "collapsed": true
   },
   "outputs": [],
   "source": [
    "# contig_name_map = GfusI1_0.get_name_map_from_fasta_headers(fasta_path)"
   ]
  },
  {
   "cell_type": "code",
   "execution_count": 71,
   "metadata": {
    "collapsed": true
   },
   "outputs": [],
   "source": [
    "# contig_lengths = {}\n",
    "# contigs = ParseFastA(fasta_path).to_dict()\n",
    "# for name,seq in contigs.iteritems():\n",
    "#     contig_lengths[name] = len(seq)"
   ]
  },
  {
   "cell_type": "code",
   "execution_count": 72,
   "metadata": {
    "collapsed": false
   },
   "outputs": [],
   "source": [
    "# # record both names and the length\n",
    "\n",
    "# with open(contig_name_length_path,'w') as out:\n",
    "#     template = \"{kk_name},{scaf_name},{length}\\n\"\n",
    "#     out.write(template.format(kk_name=\"kk_name\",scaf_name=\"scaf_name\",length=\"length\"))\n",
    "    \n",
    "#     for kk_name, length in contig_lengths.iteritems():\n",
    "#         out.write(template.format(kk_name=kk_name,\n",
    "#                                   scaf_name=contig_name_map[kk_name],\n",
    "#                                   length=length))\n",
    "    "
   ]
  },
  {
   "cell_type": "markdown",
   "metadata": {},
   "source": [
    "# Helper functions"
   ]
  },
  {
   "cell_type": "code",
   "execution_count": 73,
   "metadata": {
    "collapsed": true
   },
   "outputs": [],
   "source": [
    "def recode_taj_chrom(df):\n",
    "    recode_func = lambda x: x.split(':')[-1]\n",
    "\n",
    "    CHROM = df.CHROM.apply(recode_func)\n",
    "    df.CHROM = CHROM\n",
    "    \n",
    "    \n",
    "def save_figs(base_dir, fname, save_types=('png','pdf','svg'), is_ggplot=False):\n",
    "    assert (is_ggplot is False) or isinstance(is_ggplot,gp.ggplot)\n",
    "    \n",
    "    if not save_plots:\n",
    "        print \"WARNING: 'save_plots' set to False.\"\n",
    "    \n",
    "    path = \"{pth}.{{ext}}\".format(pth=os.path.join(base_dir,fname))\n",
    "    \n",
    "    for t in save_types:\n",
    "        \n",
    "        if is_ggplot:\n",
    "            gp.ggsave(path.format(ext=t),plot=is_ggplot)\n",
    "        else:\n",
    "            plt.savefig(path.format(ext=t), bbox_inches='tight')\n",
    "            print \"Saved {0}.\".format(path.format(ext=t))\n"
   ]
  },
  {
   "cell_type": "markdown",
   "metadata": {},
   "source": [
    "# Loading files"
   ]
  },
  {
   "cell_type": "code",
   "execution_count": 74,
   "metadata": {
    "collapsed": false
   },
   "outputs": [
    {
     "data": {
      "text/html": [
       "<div style=\"max-height:1000px;max-width:1500px;overflow:auto;\">\n",
       "<table border=\"1\" class=\"dataframe\">\n",
       "  <thead>\n",
       "    <tr style=\"text-align: right;\">\n",
       "      <th></th>\n",
       "      <th>CHR_A</th>\n",
       "      <th>BP_A</th>\n",
       "      <th>SNP_A</th>\n",
       "      <th>MAF_A</th>\n",
       "      <th>CHR_B</th>\n",
       "      <th>BP_B</th>\n",
       "      <th>SNP_B</th>\n",
       "      <th>MAF_B</th>\n",
       "      <th>R</th>\n",
       "      <th>DP</th>\n",
       "      <th>R2</th>\n",
       "      <th>BP_DELTA</th>\n",
       "      <th>distance_bin</th>\n",
       "      <th>distance_bin_mean_R2</th>\n",
       "      <th>distance_bin_median_R2</th>\n",
       "      <th>R2_scaled_for_B</th>\n",
       "      <th>alpha_param</th>\n",
       "      <th>beta_param</th>\n",
       "      <th>cdf</th>\n",
       "      <th>one_minus_cdf</th>\n",
       "      <th>one_minus_cdf_BH</th>\n",
       "      <th>MAP_succeeded</th>\n",
       "    </tr>\n",
       "  </thead>\n",
       "  <tbody>\n",
       "    <tr>\n",
       "      <th>0</th>\n",
       "      <td>Scaffold0</td>\n",
       "      <td>13388</td>\n",
       "      <td>.</td>\n",
       "      <td>0.278846</td>\n",
       "      <td>Scaffold0</td>\n",
       "      <td>23408</td>\n",
       "      <td>.</td>\n",
       "      <td>0.298077</td>\n",
       "      <td>1.000000</td>\n",
       "      <td>1</td>\n",
       "      <td>1.000000</td>\n",
       "      <td>10020</td>\n",
       "      <td>10000</td>\n",
       "      <td>0.114350</td>\n",
       "      <td>0.035591</td>\n",
       "      <td>0.999500</td>\n",
       "      <td>NaN</td>\n",
       "      <td>NaN</td>\n",
       "      <td>1.000000</td>\n",
       "      <td>0.000000</td>\n",
       "      <td>0.000017</td>\n",
       "      <td>False</td>\n",
       "    </tr>\n",
       "    <tr>\n",
       "      <th>1</th>\n",
       "      <td>Scaffold0</td>\n",
       "      <td>13388</td>\n",
       "      <td>.</td>\n",
       "      <td>0.278846</td>\n",
       "      <td>Scaffold0</td>\n",
       "      <td>23418</td>\n",
       "      <td>.</td>\n",
       "      <td>0.298077</td>\n",
       "      <td>1.000000</td>\n",
       "      <td>1</td>\n",
       "      <td>1.000000</td>\n",
       "      <td>10030</td>\n",
       "      <td>10000</td>\n",
       "      <td>0.114350</td>\n",
       "      <td>0.035591</td>\n",
       "      <td>0.999500</td>\n",
       "      <td>NaN</td>\n",
       "      <td>NaN</td>\n",
       "      <td>1.000000</td>\n",
       "      <td>0.000000</td>\n",
       "      <td>0.000017</td>\n",
       "      <td>False</td>\n",
       "    </tr>\n",
       "    <tr>\n",
       "      <th>2</th>\n",
       "      <td>Scaffold0</td>\n",
       "      <td>13388</td>\n",
       "      <td>.</td>\n",
       "      <td>0.278846</td>\n",
       "      <td>Scaffold0</td>\n",
       "      <td>23421</td>\n",
       "      <td>.</td>\n",
       "      <td>0.298077</td>\n",
       "      <td>1.000000</td>\n",
       "      <td>1</td>\n",
       "      <td>1.000000</td>\n",
       "      <td>10033</td>\n",
       "      <td>10000</td>\n",
       "      <td>0.114350</td>\n",
       "      <td>0.035591</td>\n",
       "      <td>0.999500</td>\n",
       "      <td>NaN</td>\n",
       "      <td>NaN</td>\n",
       "      <td>1.000000</td>\n",
       "      <td>0.000000</td>\n",
       "      <td>0.000017</td>\n",
       "      <td>False</td>\n",
       "    </tr>\n",
       "    <tr>\n",
       "      <th>3</th>\n",
       "      <td>Scaffold0</td>\n",
       "      <td>13388</td>\n",
       "      <td>.</td>\n",
       "      <td>0.278846</td>\n",
       "      <td>Scaffold0</td>\n",
       "      <td>23431</td>\n",
       "      <td>.</td>\n",
       "      <td>0.288462</td>\n",
       "      <td>0.975946</td>\n",
       "      <td>1</td>\n",
       "      <td>0.952471</td>\n",
       "      <td>10043</td>\n",
       "      <td>10000</td>\n",
       "      <td>0.114350</td>\n",
       "      <td>0.035591</td>\n",
       "      <td>0.952018</td>\n",
       "      <td>NaN</td>\n",
       "      <td>NaN</td>\n",
       "      <td>0.999063</td>\n",
       "      <td>0.000937</td>\n",
       "      <td>0.073542</td>\n",
       "      <td>False</td>\n",
       "    </tr>\n",
       "    <tr>\n",
       "      <th>4</th>\n",
       "      <td>Scaffold0</td>\n",
       "      <td>13388</td>\n",
       "      <td>.</td>\n",
       "      <td>0.278846</td>\n",
       "      <td>Scaffold0</td>\n",
       "      <td>30544</td>\n",
       "      <td>.</td>\n",
       "      <td>0.094340</td>\n",
       "      <td>0.464238</td>\n",
       "      <td>1</td>\n",
       "      <td>0.215517</td>\n",
       "      <td>17156</td>\n",
       "      <td>17150</td>\n",
       "      <td>0.101013</td>\n",
       "      <td>0.041075</td>\n",
       "      <td>0.215801</td>\n",
       "      <td>NaN</td>\n",
       "      <td>NaN</td>\n",
       "      <td>0.745361</td>\n",
       "      <td>0.254639</td>\n",
       "      <td>0.912914</td>\n",
       "      <td>False</td>\n",
       "    </tr>\n",
       "  </tbody>\n",
       "</table>\n",
       "</div>"
      ],
      "text/plain": [
       "       CHR_A   BP_A SNP_A     MAF_A      CHR_B   BP_B SNP_B     MAF_B  \\\n",
       "0  Scaffold0  13388     .  0.278846  Scaffold0  23408     .  0.298077   \n",
       "1  Scaffold0  13388     .  0.278846  Scaffold0  23418     .  0.298077   \n",
       "2  Scaffold0  13388     .  0.278846  Scaffold0  23421     .  0.298077   \n",
       "3  Scaffold0  13388     .  0.278846  Scaffold0  23431     .  0.288462   \n",
       "4  Scaffold0  13388     .  0.278846  Scaffold0  30544     .  0.094340   \n",
       "\n",
       "          R  DP        R2  BP_DELTA  distance_bin  distance_bin_mean_R2  \\\n",
       "0  1.000000   1  1.000000     10020         10000              0.114350   \n",
       "1  1.000000   1  1.000000     10030         10000              0.114350   \n",
       "2  1.000000   1  1.000000     10033         10000              0.114350   \n",
       "3  0.975946   1  0.952471     10043         10000              0.114350   \n",
       "4  0.464238   1  0.215517     17156         17150              0.101013   \n",
       "\n",
       "   distance_bin_median_R2  R2_scaled_for_B  alpha_param  beta_param       cdf  \\\n",
       "0                0.035591         0.999500          NaN         NaN  1.000000   \n",
       "1                0.035591         0.999500          NaN         NaN  1.000000   \n",
       "2                0.035591         0.999500          NaN         NaN  1.000000   \n",
       "3                0.035591         0.952018          NaN         NaN  0.999063   \n",
       "4                0.041075         0.215801          NaN         NaN  0.745361   \n",
       "\n",
       "   one_minus_cdf  one_minus_cdf_BH MAP_succeeded  \n",
       "0       0.000000          0.000017         False  \n",
       "1       0.000000          0.000017         False  \n",
       "2       0.000000          0.000017         False  \n",
       "3       0.000937          0.073542         False  \n",
       "4       0.254639          0.912914         False  "
      ]
     },
     "execution_count": 74,
     "metadata": {},
     "output_type": "execute_result"
    }
   ],
   "source": [
    "# load our results tables\n",
    "ld = pd.read_pickle(ld_results_pickle)\n",
    "ld.head()"
   ]
  },
  {
   "cell_type": "code",
   "execution_count": 75,
   "metadata": {
    "collapsed": false
   },
   "outputs": [
    {
     "data": {
      "text/html": [
       "<div style=\"max-height:1000px;max-width:1500px;overflow:auto;\">\n",
       "<table border=\"1\" class=\"dataframe\">\n",
       "  <thead>\n",
       "    <tr style=\"text-align: right;\">\n",
       "      <th></th>\n",
       "      <th>kk_name</th>\n",
       "      <th>scaf_name</th>\n",
       "      <th>length</th>\n",
       "    </tr>\n",
       "  </thead>\n",
       "  <tbody>\n",
       "    <tr>\n",
       "      <th>0</th>\n",
       "      <td>KK352346.1</td>\n",
       "      <td>Scaffold566</td>\n",
       "      <td>193315</td>\n",
       "    </tr>\n",
       "    <tr>\n",
       "      <th>1</th>\n",
       "      <td>KK352610.1</td>\n",
       "      <td>Scaffold839</td>\n",
       "      <td>83110</td>\n",
       "    </tr>\n",
       "    <tr>\n",
       "      <th>2</th>\n",
       "      <td>KK352241.1</td>\n",
       "      <td>Scaffold458</td>\n",
       "      <td>243873</td>\n",
       "    </tr>\n",
       "    <tr>\n",
       "      <th>3</th>\n",
       "      <td>JFJR01012964.1</td>\n",
       "      <td>JFJR01012964.1</td>\n",
       "      <td>3083</td>\n",
       "    </tr>\n",
       "    <tr>\n",
       "      <th>4</th>\n",
       "      <td>KK352052.1</td>\n",
       "      <td>Scaffold268</td>\n",
       "      <td>427914</td>\n",
       "    </tr>\n",
       "  </tbody>\n",
       "</table>\n",
       "</div>"
      ],
      "text/plain": [
       "          kk_name       scaf_name  length\n",
       "0      KK352346.1     Scaffold566  193315\n",
       "1      KK352610.1     Scaffold839   83110\n",
       "2      KK352241.1     Scaffold458  243873\n",
       "3  JFJR01012964.1  JFJR01012964.1    3083\n",
       "4      KK352052.1     Scaffold268  427914"
      ]
     },
     "execution_count": 75,
     "metadata": {},
     "output_type": "execute_result"
    }
   ],
   "source": [
    "contig_info = pd.read_csv(contig_name_length_path)\n",
    "contig_info.head()"
   ]
  },
  {
   "cell_type": "code",
   "execution_count": 76,
   "metadata": {
    "collapsed": false,
    "scrolled": true
   },
   "outputs": [
    {
     "data": {
      "text/html": [
       "<div style=\"max-height:1000px;max-width:1500px;overflow:auto;\">\n",
       "<table border=\"1\" class=\"dataframe\">\n",
       "  <thead>\n",
       "    <tr style=\"text-align: right;\">\n",
       "      <th></th>\n",
       "      <th>CHROM</th>\n",
       "      <th>BIN_start</th>\n",
       "      <th>N_SNPs</th>\n",
       "      <th>TajimaD</th>\n",
       "    </tr>\n",
       "  </thead>\n",
       "  <tbody>\n",
       "    <tr>\n",
       "      <th>202</th>\n",
       "      <td>GFvariants_VB2014a_tvcf:KK351785.1</td>\n",
       "      <td>23400</td>\n",
       "      <td>4</td>\n",
       "      <td>2.35852</td>\n",
       "    </tr>\n",
       "    <tr>\n",
       "      <th>8242</th>\n",
       "      <td>GFvariants_VB2014a_tvcf:KK351785.1</td>\n",
       "      <td>425400</td>\n",
       "      <td>3</td>\n",
       "      <td>2.31422</td>\n",
       "    </tr>\n",
       "    <tr>\n",
       "      <th>66484</th>\n",
       "      <td>GFvariants_VB2014a_tvcf:KK351787.1</td>\n",
       "      <td>68900</td>\n",
       "      <td>2</td>\n",
       "      <td>2.20911</td>\n",
       "    </tr>\n",
       "    <tr>\n",
       "      <th>67161</th>\n",
       "      <td>GFvariants_VB2014a_tvcf:KK351787.1</td>\n",
       "      <td>102750</td>\n",
       "      <td>4</td>\n",
       "      <td>2.90971</td>\n",
       "    </tr>\n",
       "    <tr>\n",
       "      <th>67278</th>\n",
       "      <td>GFvariants_VB2014a_tvcf:KK351787.1</td>\n",
       "      <td>108600</td>\n",
       "      <td>2</td>\n",
       "      <td>2.08884</td>\n",
       "    </tr>\n",
       "  </tbody>\n",
       "</table>\n",
       "</div>"
      ],
      "text/plain": [
       "                                    CHROM  BIN_start  N_SNPs  TajimaD\n",
       "202    GFvariants_VB2014a_tvcf:KK351785.1      23400       4  2.35852\n",
       "8242   GFvariants_VB2014a_tvcf:KK351785.1     425400       3  2.31422\n",
       "66484  GFvariants_VB2014a_tvcf:KK351787.1      68900       2  2.20911\n",
       "67161  GFvariants_VB2014a_tvcf:KK351787.1     102750       4  2.90971\n",
       "67278  GFvariants_VB2014a_tvcf:KK351787.1     108600       2  2.08884"
      ]
     },
     "execution_count": 76,
     "metadata": {},
     "output_type": "execute_result"
    }
   ],
   "source": [
    "taj50 = pd.read_csv(tajimas_csv, sep='\\t')\n",
    "taj50.head()"
   ]
  },
  {
   "cell_type": "code",
   "execution_count": 77,
   "metadata": {
    "collapsed": false
   },
   "outputs": [
    {
     "data": {
      "text/html": [
       "<div style=\"max-height:1000px;max-width:1500px;overflow:auto;\">\n",
       "<table border=\"1\" class=\"dataframe\">\n",
       "  <thead>\n",
       "    <tr style=\"text-align: right;\">\n",
       "      <th></th>\n",
       "      <th>CHROM</th>\n",
       "      <th>BIN_start</th>\n",
       "      <th>N_SNPs</th>\n",
       "      <th>TajimaD</th>\n",
       "    </tr>\n",
       "  </thead>\n",
       "  <tbody>\n",
       "    <tr>\n",
       "      <th>202</th>\n",
       "      <td>KK351785.1</td>\n",
       "      <td>23400</td>\n",
       "      <td>4</td>\n",
       "      <td>2.35852</td>\n",
       "    </tr>\n",
       "    <tr>\n",
       "      <th>8242</th>\n",
       "      <td>KK351785.1</td>\n",
       "      <td>425400</td>\n",
       "      <td>3</td>\n",
       "      <td>2.31422</td>\n",
       "    </tr>\n",
       "    <tr>\n",
       "      <th>66484</th>\n",
       "      <td>KK351787.1</td>\n",
       "      <td>68900</td>\n",
       "      <td>2</td>\n",
       "      <td>2.20911</td>\n",
       "    </tr>\n",
       "    <tr>\n",
       "      <th>67161</th>\n",
       "      <td>KK351787.1</td>\n",
       "      <td>102750</td>\n",
       "      <td>4</td>\n",
       "      <td>2.90971</td>\n",
       "    </tr>\n",
       "    <tr>\n",
       "      <th>67278</th>\n",
       "      <td>KK351787.1</td>\n",
       "      <td>108600</td>\n",
       "      <td>2</td>\n",
       "      <td>2.08884</td>\n",
       "    </tr>\n",
       "  </tbody>\n",
       "</table>\n",
       "</div>"
      ],
      "text/plain": [
       "            CHROM  BIN_start  N_SNPs  TajimaD\n",
       "202    KK351785.1      23400       4  2.35852\n",
       "8242   KK351785.1     425400       3  2.31422\n",
       "66484  KK351787.1      68900       2  2.20911\n",
       "67161  KK351787.1     102750       4  2.90971\n",
       "67278  KK351787.1     108600       2  2.08884"
      ]
     },
     "execution_count": 77,
     "metadata": {},
     "output_type": "execute_result"
    }
   ],
   "source": [
    "recode_taj_chrom(taj50)\n",
    "taj50.head()"
   ]
  },
  {
   "cell_type": "markdown",
   "metadata": {},
   "source": [
    "# Filtering Stats"
   ]
  },
  {
   "cell_type": "markdown",
   "metadata": {},
   "source": [
    "## SNP-pairs in all bins at BH corrected $p \\leq 0.01$"
   ]
  },
  {
   "cell_type": "code",
   "execution_count": 78,
   "metadata": {
    "collapsed": false
   },
   "outputs": [
    {
     "data": {
      "text/plain": [
       "5284"
      ]
     },
     "execution_count": 78,
     "metadata": {},
     "output_type": "execute_result"
    }
   ],
   "source": [
    "sum(ld.one_minus_cdf_BH <= 0.01)"
   ]
  },
  {
   "cell_type": "markdown",
   "metadata": {},
   "source": [
    "## SNP-pairs in all bins at BH corrected $p \\le 0.05$"
   ]
  },
  {
   "cell_type": "code",
   "execution_count": 79,
   "metadata": {
    "collapsed": false
   },
   "outputs": [
    {
     "data": {
      "text/plain": [
       "6735"
      ]
     },
     "execution_count": 79,
     "metadata": {},
     "output_type": "execute_result"
    }
   ],
   "source": [
    "sum(ld.one_minus_cdf_BH <= 0.05)"
   ]
  },
  {
   "cell_type": "markdown",
   "metadata": {},
   "source": [
    "## Lowest $r^2$ retained at  $p \\le 0.05$ or $0.01$"
   ]
  },
  {
   "cell_type": "code",
   "execution_count": 80,
   "metadata": {
    "collapsed": false
   },
   "outputs": [
    {
     "data": {
      "text/plain": [
       "0.64724438522499994"
      ]
     },
     "execution_count": 80,
     "metadata": {},
     "output_type": "execute_result"
    }
   ],
   "source": [
    "q_05 = ld.query(\"one_minus_cdf_BH <= 0.05\")\n",
    "q_05.R2.min()"
   ]
  },
  {
   "cell_type": "code",
   "execution_count": 81,
   "metadata": {
    "collapsed": false
   },
   "outputs": [
    {
     "data": {
      "text/plain": [
       "0.82251114177599993"
      ]
     },
     "execution_count": 81,
     "metadata": {},
     "output_type": "execute_result"
    }
   ],
   "source": [
    "q_01 = ld.query(\"one_minus_cdf_BH <= 0.01\")\n",
    "q_01.R2.min()"
   ]
  },
  {
   "cell_type": "markdown",
   "metadata": {},
   "source": [
    "## How many SNP-pairs have  $r^2 \\ge 0.82$?"
   ]
  },
  {
   "cell_type": "code",
   "execution_count": 82,
   "metadata": {
    "collapsed": false
   },
   "outputs": [
    {
     "data": {
      "text/plain": [
       "26495"
      ]
     },
     "execution_count": 82,
     "metadata": {},
     "output_type": "execute_result"
    }
   ],
   "source": [
    "sum(ld.R2 >= 0.82)"
   ]
  },
  {
   "cell_type": "code",
   "execution_count": 83,
   "metadata": {
    "collapsed": false
   },
   "outputs": [
    {
     "data": {
      "text/plain": [
       "0.8005661445555765"
      ]
     },
     "execution_count": 83,
     "metadata": {},
     "output_type": "execute_result"
    }
   ],
   "source": [
    "1-(5284.0/26495)"
   ]
  },
  {
   "cell_type": "markdown",
   "metadata": {},
   "source": [
    "# Look at many distance_bin areas"
   ]
  },
  {
   "cell_type": "code",
   "execution_count": 85,
   "metadata": {
    "collapsed": false
   },
   "outputs": [
    {
     "data": {
      "text/html": [
       "<div style=\"max-height:1000px;max-width:1500px;overflow:auto;\">\n",
       "<table border=\"1\" class=\"dataframe\">\n",
       "  <thead>\n",
       "    <tr style=\"text-align: right;\">\n",
       "      <th></th>\n",
       "      <th>CHR_A</th>\n",
       "      <th>BP_A</th>\n",
       "      <th>SNP_A</th>\n",
       "      <th>MAF_A</th>\n",
       "      <th>CHR_B</th>\n",
       "      <th>BP_B</th>\n",
       "      <th>SNP_B</th>\n",
       "      <th>MAF_B</th>\n",
       "      <th>R</th>\n",
       "      <th>DP</th>\n",
       "      <th>R2</th>\n",
       "      <th>BP_DELTA</th>\n",
       "      <th>distance_bin</th>\n",
       "      <th>distance_bin_mean_R2</th>\n",
       "      <th>distance_bin_median_R2</th>\n",
       "      <th>R2_scaled_for_B</th>\n",
       "      <th>alpha_param</th>\n",
       "      <th>beta_param</th>\n",
       "      <th>cdf</th>\n",
       "      <th>one_minus_cdf</th>\n",
       "      <th>one_minus_cdf_BH</th>\n",
       "      <th>MAP_succeeded</th>\n",
       "    </tr>\n",
       "  </thead>\n",
       "  <tbody>\n",
       "    <tr>\n",
       "      <th>0</th>\n",
       "      <td>Scaffold0</td>\n",
       "      <td>13388</td>\n",
       "      <td>.</td>\n",
       "      <td>0.278846</td>\n",
       "      <td>Scaffold0</td>\n",
       "      <td>23408</td>\n",
       "      <td>.</td>\n",
       "      <td>0.298077</td>\n",
       "      <td>1.000000</td>\n",
       "      <td>1</td>\n",
       "      <td>1.000000</td>\n",
       "      <td>10020</td>\n",
       "      <td>10000</td>\n",
       "      <td>0.114350</td>\n",
       "      <td>0.035591</td>\n",
       "      <td>0.999500</td>\n",
       "      <td>NaN</td>\n",
       "      <td>NaN</td>\n",
       "      <td>1.000000</td>\n",
       "      <td>0.000000</td>\n",
       "      <td>0.000017</td>\n",
       "      <td>False</td>\n",
       "    </tr>\n",
       "    <tr>\n",
       "      <th>1</th>\n",
       "      <td>Scaffold0</td>\n",
       "      <td>13388</td>\n",
       "      <td>.</td>\n",
       "      <td>0.278846</td>\n",
       "      <td>Scaffold0</td>\n",
       "      <td>23418</td>\n",
       "      <td>.</td>\n",
       "      <td>0.298077</td>\n",
       "      <td>1.000000</td>\n",
       "      <td>1</td>\n",
       "      <td>1.000000</td>\n",
       "      <td>10030</td>\n",
       "      <td>10000</td>\n",
       "      <td>0.114350</td>\n",
       "      <td>0.035591</td>\n",
       "      <td>0.999500</td>\n",
       "      <td>NaN</td>\n",
       "      <td>NaN</td>\n",
       "      <td>1.000000</td>\n",
       "      <td>0.000000</td>\n",
       "      <td>0.000017</td>\n",
       "      <td>False</td>\n",
       "    </tr>\n",
       "    <tr>\n",
       "      <th>2</th>\n",
       "      <td>Scaffold0</td>\n",
       "      <td>13388</td>\n",
       "      <td>.</td>\n",
       "      <td>0.278846</td>\n",
       "      <td>Scaffold0</td>\n",
       "      <td>23421</td>\n",
       "      <td>.</td>\n",
       "      <td>0.298077</td>\n",
       "      <td>1.000000</td>\n",
       "      <td>1</td>\n",
       "      <td>1.000000</td>\n",
       "      <td>10033</td>\n",
       "      <td>10000</td>\n",
       "      <td>0.114350</td>\n",
       "      <td>0.035591</td>\n",
       "      <td>0.999500</td>\n",
       "      <td>NaN</td>\n",
       "      <td>NaN</td>\n",
       "      <td>1.000000</td>\n",
       "      <td>0.000000</td>\n",
       "      <td>0.000017</td>\n",
       "      <td>False</td>\n",
       "    </tr>\n",
       "    <tr>\n",
       "      <th>3</th>\n",
       "      <td>Scaffold0</td>\n",
       "      <td>13388</td>\n",
       "      <td>.</td>\n",
       "      <td>0.278846</td>\n",
       "      <td>Scaffold0</td>\n",
       "      <td>23431</td>\n",
       "      <td>.</td>\n",
       "      <td>0.288462</td>\n",
       "      <td>0.975946</td>\n",
       "      <td>1</td>\n",
       "      <td>0.952471</td>\n",
       "      <td>10043</td>\n",
       "      <td>10000</td>\n",
       "      <td>0.114350</td>\n",
       "      <td>0.035591</td>\n",
       "      <td>0.952018</td>\n",
       "      <td>NaN</td>\n",
       "      <td>NaN</td>\n",
       "      <td>0.999063</td>\n",
       "      <td>0.000937</td>\n",
       "      <td>0.073542</td>\n",
       "      <td>False</td>\n",
       "    </tr>\n",
       "    <tr>\n",
       "      <th>4</th>\n",
       "      <td>Scaffold0</td>\n",
       "      <td>13388</td>\n",
       "      <td>.</td>\n",
       "      <td>0.278846</td>\n",
       "      <td>Scaffold0</td>\n",
       "      <td>30544</td>\n",
       "      <td>.</td>\n",
       "      <td>0.094340</td>\n",
       "      <td>0.464238</td>\n",
       "      <td>1</td>\n",
       "      <td>0.215517</td>\n",
       "      <td>17156</td>\n",
       "      <td>17150</td>\n",
       "      <td>0.101013</td>\n",
       "      <td>0.041075</td>\n",
       "      <td>0.215801</td>\n",
       "      <td>NaN</td>\n",
       "      <td>NaN</td>\n",
       "      <td>0.745361</td>\n",
       "      <td>0.254639</td>\n",
       "      <td>0.912914</td>\n",
       "      <td>False</td>\n",
       "    </tr>\n",
       "  </tbody>\n",
       "</table>\n",
       "</div>"
      ],
      "text/plain": [
       "       CHR_A   BP_A SNP_A     MAF_A      CHR_B   BP_B SNP_B     MAF_B  \\\n",
       "0  Scaffold0  13388     .  0.278846  Scaffold0  23408     .  0.298077   \n",
       "1  Scaffold0  13388     .  0.278846  Scaffold0  23418     .  0.298077   \n",
       "2  Scaffold0  13388     .  0.278846  Scaffold0  23421     .  0.298077   \n",
       "3  Scaffold0  13388     .  0.278846  Scaffold0  23431     .  0.288462   \n",
       "4  Scaffold0  13388     .  0.278846  Scaffold0  30544     .  0.094340   \n",
       "\n",
       "          R  DP        R2  BP_DELTA  distance_bin  distance_bin_mean_R2  \\\n",
       "0  1.000000   1  1.000000     10020         10000              0.114350   \n",
       "1  1.000000   1  1.000000     10030         10000              0.114350   \n",
       "2  1.000000   1  1.000000     10033         10000              0.114350   \n",
       "3  0.975946   1  0.952471     10043         10000              0.114350   \n",
       "4  0.464238   1  0.215517     17156         17150              0.101013   \n",
       "\n",
       "   distance_bin_median_R2  R2_scaled_for_B  alpha_param  beta_param       cdf  \\\n",
       "0                0.035591         0.999500          NaN         NaN  1.000000   \n",
       "1                0.035591         0.999500          NaN         NaN  1.000000   \n",
       "2                0.035591         0.999500          NaN         NaN  1.000000   \n",
       "3                0.035591         0.952018          NaN         NaN  0.999063   \n",
       "4                0.041075         0.215801          NaN         NaN  0.745361   \n",
       "\n",
       "   one_minus_cdf  one_minus_cdf_BH MAP_succeeded  \n",
       "0       0.000000          0.000017         False  \n",
       "1       0.000000          0.000017         False  \n",
       "2       0.000000          0.000017         False  \n",
       "3       0.000937          0.073542         False  \n",
       "4       0.254639          0.912914         False  "
      ]
     },
     "execution_count": 85,
     "metadata": {},
     "output_type": "execute_result"
    }
   ],
   "source": [
    "ld.head()"
   ]
  },
  {
   "cell_type": "code",
   "execution_count": 90,
   "metadata": {
    "collapsed": false,
    "scrolled": true
   },
   "outputs": [
    {
     "data": {
      "text/html": [
       "<div style=\"max-height:1000px;max-width:1500px;overflow:auto;\">\n",
       "<table border=\"1\" class=\"dataframe\">\n",
       "  <thead>\n",
       "    <tr style=\"text-align: right;\">\n",
       "      <th></th>\n",
       "      <th>distance_bin</th>\n",
       "      <th>variable</th>\n",
       "      <th>value</th>\n",
       "    </tr>\n",
       "  </thead>\n",
       "  <tbody>\n",
       "    <tr>\n",
       "      <th>0</th>\n",
       "      <td>0</td>\n",
       "      <td>R2</td>\n",
       "      <td>1.000000</td>\n",
       "    </tr>\n",
       "    <tr>\n",
       "      <th>1</th>\n",
       "      <td>0</td>\n",
       "      <td>R2</td>\n",
       "      <td>1.000000</td>\n",
       "    </tr>\n",
       "    <tr>\n",
       "      <th>2</th>\n",
       "      <td>0</td>\n",
       "      <td>R2</td>\n",
       "      <td>0.954664</td>\n",
       "    </tr>\n",
       "    <tr>\n",
       "      <th>3</th>\n",
       "      <td>0</td>\n",
       "      <td>R2</td>\n",
       "      <td>1.000000</td>\n",
       "    </tr>\n",
       "    <tr>\n",
       "      <th>4</th>\n",
       "      <td>0</td>\n",
       "      <td>R2</td>\n",
       "      <td>0.954664</td>\n",
       "    </tr>\n",
       "    <tr>\n",
       "      <th>5</th>\n",
       "      <td>0</td>\n",
       "      <td>R2</td>\n",
       "      <td>0.954664</td>\n",
       "    </tr>\n",
       "    <tr>\n",
       "      <th>6</th>\n",
       "      <td>0</td>\n",
       "      <td>R2</td>\n",
       "      <td>0.016663</td>\n",
       "    </tr>\n",
       "    <tr>\n",
       "      <th>7</th>\n",
       "      <td>0</td>\n",
       "      <td>R2</td>\n",
       "      <td>0.252016</td>\n",
       "    </tr>\n",
       "    <tr>\n",
       "      <th>8</th>\n",
       "      <td>0</td>\n",
       "      <td>R2</td>\n",
       "      <td>0.597722</td>\n",
       "    </tr>\n",
       "    <tr>\n",
       "      <th>9</th>\n",
       "      <td>150</td>\n",
       "      <td>R2</td>\n",
       "      <td>0.007411</td>\n",
       "    </tr>\n",
       "    <tr>\n",
       "      <th>10</th>\n",
       "      <td>0</td>\n",
       "      <td>R2</td>\n",
       "      <td>0.036354</td>\n",
       "    </tr>\n",
       "    <tr>\n",
       "      <th>11</th>\n",
       "      <td>0</td>\n",
       "      <td>R2</td>\n",
       "      <td>0.207202</td>\n",
       "    </tr>\n",
       "    <tr>\n",
       "      <th>12</th>\n",
       "      <td>50</td>\n",
       "      <td>R2</td>\n",
       "      <td>0.205433</td>\n",
       "    </tr>\n",
       "    <tr>\n",
       "      <th>13</th>\n",
       "      <td>50</td>\n",
       "      <td>R2</td>\n",
       "      <td>1.000000</td>\n",
       "    </tr>\n",
       "    <tr>\n",
       "      <th>14</th>\n",
       "      <td>0</td>\n",
       "      <td>R2</td>\n",
       "      <td>0.018412</td>\n",
       "    </tr>\n",
       "    <tr>\n",
       "      <th>15</th>\n",
       "      <td>0</td>\n",
       "      <td>R2</td>\n",
       "      <td>0.017757</td>\n",
       "    </tr>\n",
       "    <tr>\n",
       "      <th>16</th>\n",
       "      <td>0</td>\n",
       "      <td>R2</td>\n",
       "      <td>1.000000</td>\n",
       "    </tr>\n",
       "    <tr>\n",
       "      <th>17</th>\n",
       "      <td>0</td>\n",
       "      <td>R2</td>\n",
       "      <td>1.000000</td>\n",
       "    </tr>\n",
       "    <tr>\n",
       "      <th>18</th>\n",
       "      <td>0</td>\n",
       "      <td>R2</td>\n",
       "      <td>1.000000</td>\n",
       "    </tr>\n",
       "    <tr>\n",
       "      <th>19</th>\n",
       "      <td>0</td>\n",
       "      <td>R2</td>\n",
       "      <td>1.000000</td>\n",
       "    </tr>\n",
       "    <tr>\n",
       "      <th>20</th>\n",
       "      <td>0</td>\n",
       "      <td>R2</td>\n",
       "      <td>1.000000</td>\n",
       "    </tr>\n",
       "    <tr>\n",
       "      <th>21</th>\n",
       "      <td>0</td>\n",
       "      <td>R2</td>\n",
       "      <td>1.000000</td>\n",
       "    </tr>\n",
       "    <tr>\n",
       "      <th>22</th>\n",
       "      <td>0</td>\n",
       "      <td>R2</td>\n",
       "      <td>1.000000</td>\n",
       "    </tr>\n",
       "    <tr>\n",
       "      <th>23</th>\n",
       "      <td>0</td>\n",
       "      <td>R2</td>\n",
       "      <td>1.000000</td>\n",
       "    </tr>\n",
       "    <tr>\n",
       "      <th>24</th>\n",
       "      <td>0</td>\n",
       "      <td>R2</td>\n",
       "      <td>1.000000</td>\n",
       "    </tr>\n",
       "    <tr>\n",
       "      <th>25</th>\n",
       "      <td>0</td>\n",
       "      <td>R2</td>\n",
       "      <td>0.300619</td>\n",
       "    </tr>\n",
       "    <tr>\n",
       "      <th>26</th>\n",
       "      <td>0</td>\n",
       "      <td>R2</td>\n",
       "      <td>0.171648</td>\n",
       "    </tr>\n",
       "    <tr>\n",
       "      <th>27</th>\n",
       "      <td>0</td>\n",
       "      <td>R2</td>\n",
       "      <td>0.810799</td>\n",
       "    </tr>\n",
       "    <tr>\n",
       "      <th>28</th>\n",
       "      <td>0</td>\n",
       "      <td>R2</td>\n",
       "      <td>0.688235</td>\n",
       "    </tr>\n",
       "    <tr>\n",
       "      <th>29</th>\n",
       "      <td>0</td>\n",
       "      <td>R2</td>\n",
       "      <td>0.119064</td>\n",
       "    </tr>\n",
       "    <tr>\n",
       "      <th>...</th>\n",
       "      <td>...</td>\n",
       "      <td>...</td>\n",
       "      <td>...</td>\n",
       "    </tr>\n",
       "    <tr>\n",
       "      <th>51806</th>\n",
       "      <td>0</td>\n",
       "      <td>R2</td>\n",
       "      <td>0.011775</td>\n",
       "    </tr>\n",
       "    <tr>\n",
       "      <th>51807</th>\n",
       "      <td>50</td>\n",
       "      <td>R2</td>\n",
       "      <td>0.000055</td>\n",
       "    </tr>\n",
       "    <tr>\n",
       "      <th>51808</th>\n",
       "      <td>50</td>\n",
       "      <td>R2</td>\n",
       "      <td>0.847177</td>\n",
       "    </tr>\n",
       "    <tr>\n",
       "      <th>51809</th>\n",
       "      <td>50</td>\n",
       "      <td>R2</td>\n",
       "      <td>0.000070</td>\n",
       "    </tr>\n",
       "    <tr>\n",
       "      <th>51810</th>\n",
       "      <td>50</td>\n",
       "      <td>R2</td>\n",
       "      <td>0.010442</td>\n",
       "    </tr>\n",
       "    <tr>\n",
       "      <th>51811</th>\n",
       "      <td>0</td>\n",
       "      <td>R2</td>\n",
       "      <td>0.014045</td>\n",
       "    </tr>\n",
       "    <tr>\n",
       "      <th>51812</th>\n",
       "      <td>50</td>\n",
       "      <td>R2</td>\n",
       "      <td>0.012289</td>\n",
       "    </tr>\n",
       "    <tr>\n",
       "      <th>51813</th>\n",
       "      <td>0</td>\n",
       "      <td>R2</td>\n",
       "      <td>1.000000</td>\n",
       "    </tr>\n",
       "    <tr>\n",
       "      <th>51814</th>\n",
       "      <td>0</td>\n",
       "      <td>R2</td>\n",
       "      <td>0.007009</td>\n",
       "    </tr>\n",
       "    <tr>\n",
       "      <th>51815</th>\n",
       "      <td>50</td>\n",
       "      <td>R2</td>\n",
       "      <td>0.578948</td>\n",
       "    </tr>\n",
       "    <tr>\n",
       "      <th>51816</th>\n",
       "      <td>0</td>\n",
       "      <td>R2</td>\n",
       "      <td>1.000000</td>\n",
       "    </tr>\n",
       "    <tr>\n",
       "      <th>51817</th>\n",
       "      <td>0</td>\n",
       "      <td>R2</td>\n",
       "      <td>1.000000</td>\n",
       "    </tr>\n",
       "    <tr>\n",
       "      <th>51818</th>\n",
       "      <td>0</td>\n",
       "      <td>R2</td>\n",
       "      <td>0.438596</td>\n",
       "    </tr>\n",
       "    <tr>\n",
       "      <th>51819</th>\n",
       "      <td>200</td>\n",
       "      <td>R2</td>\n",
       "      <td>0.301994</td>\n",
       "    </tr>\n",
       "    <tr>\n",
       "      <th>51820</th>\n",
       "      <td>0</td>\n",
       "      <td>R2</td>\n",
       "      <td>1.000000</td>\n",
       "    </tr>\n",
       "    <tr>\n",
       "      <th>51821</th>\n",
       "      <td>0</td>\n",
       "      <td>R2</td>\n",
       "      <td>0.438596</td>\n",
       "    </tr>\n",
       "    <tr>\n",
       "      <th>51822</th>\n",
       "      <td>200</td>\n",
       "      <td>R2</td>\n",
       "      <td>0.298246</td>\n",
       "    </tr>\n",
       "    <tr>\n",
       "      <th>51823</th>\n",
       "      <td>0</td>\n",
       "      <td>R2</td>\n",
       "      <td>0.438596</td>\n",
       "    </tr>\n",
       "    <tr>\n",
       "      <th>51824</th>\n",
       "      <td>150</td>\n",
       "      <td>R2</td>\n",
       "      <td>0.298246</td>\n",
       "    </tr>\n",
       "    <tr>\n",
       "      <th>51825</th>\n",
       "      <td>150</td>\n",
       "      <td>R2</td>\n",
       "      <td>0.535203</td>\n",
       "    </tr>\n",
       "    <tr>\n",
       "      <th>51826</th>\n",
       "      <td>50</td>\n",
       "      <td>R2</td>\n",
       "      <td>0.227272</td>\n",
       "    </tr>\n",
       "    <tr>\n",
       "      <th>51827</th>\n",
       "      <td>300</td>\n",
       "      <td>R2</td>\n",
       "      <td>0.921212</td>\n",
       "    </tr>\n",
       "    <tr>\n",
       "      <th>51828</th>\n",
       "      <td>350</td>\n",
       "      <td>R2</td>\n",
       "      <td>0.267605</td>\n",
       "    </tr>\n",
       "    <tr>\n",
       "      <th>51829</th>\n",
       "      <td>0</td>\n",
       "      <td>R2</td>\n",
       "      <td>0.223163</td>\n",
       "    </tr>\n",
       "    <tr>\n",
       "      <th>51830</th>\n",
       "      <td>0</td>\n",
       "      <td>R2</td>\n",
       "      <td>0.034483</td>\n",
       "    </tr>\n",
       "    <tr>\n",
       "      <th>51831</th>\n",
       "      <td>0</td>\n",
       "      <td>R2</td>\n",
       "      <td>0.016685</td>\n",
       "    </tr>\n",
       "    <tr>\n",
       "      <th>51832</th>\n",
       "      <td>0</td>\n",
       "      <td>R2</td>\n",
       "      <td>0.164134</td>\n",
       "    </tr>\n",
       "    <tr>\n",
       "      <th>51833</th>\n",
       "      <td>0</td>\n",
       "      <td>R2</td>\n",
       "      <td>0.014495</td>\n",
       "    </tr>\n",
       "    <tr>\n",
       "      <th>51834</th>\n",
       "      <td>0</td>\n",
       "      <td>R2</td>\n",
       "      <td>1.000000</td>\n",
       "    </tr>\n",
       "    <tr>\n",
       "      <th>51835</th>\n",
       "      <td>0</td>\n",
       "      <td>R2</td>\n",
       "      <td>0.086054</td>\n",
       "    </tr>\n",
       "  </tbody>\n",
       "</table>\n",
       "<p>51836 rows × 3 columns</p>\n",
       "</div>"
      ],
      "text/plain": [
       "       distance_bin variable     value\n",
       "0                 0       R2  1.000000\n",
       "1                 0       R2  1.000000\n",
       "2                 0       R2  0.954664\n",
       "3                 0       R2  1.000000\n",
       "4                 0       R2  0.954664\n",
       "5                 0       R2  0.954664\n",
       "6                 0       R2  0.016663\n",
       "7                 0       R2  0.252016\n",
       "8                 0       R2  0.597722\n",
       "9               150       R2  0.007411\n",
       "10                0       R2  0.036354\n",
       "11                0       R2  0.207202\n",
       "12               50       R2  0.205433\n",
       "13               50       R2  1.000000\n",
       "14                0       R2  0.018412\n",
       "15                0       R2  0.017757\n",
       "16                0       R2  1.000000\n",
       "17                0       R2  1.000000\n",
       "18                0       R2  1.000000\n",
       "19                0       R2  1.000000\n",
       "20                0       R2  1.000000\n",
       "21                0       R2  1.000000\n",
       "22                0       R2  1.000000\n",
       "23                0       R2  1.000000\n",
       "24                0       R2  1.000000\n",
       "25                0       R2  0.300619\n",
       "26                0       R2  0.171648\n",
       "27                0       R2  0.810799\n",
       "28                0       R2  0.688235\n",
       "29                0       R2  0.119064\n",
       "...             ...      ...       ...\n",
       "51806             0       R2  0.011775\n",
       "51807            50       R2  0.000055\n",
       "51808            50       R2  0.847177\n",
       "51809            50       R2  0.000070\n",
       "51810            50       R2  0.010442\n",
       "51811             0       R2  0.014045\n",
       "51812            50       R2  0.012289\n",
       "51813             0       R2  1.000000\n",
       "51814             0       R2  0.007009\n",
       "51815            50       R2  0.578948\n",
       "51816             0       R2  1.000000\n",
       "51817             0       R2  1.000000\n",
       "51818             0       R2  0.438596\n",
       "51819           200       R2  0.301994\n",
       "51820             0       R2  1.000000\n",
       "51821             0       R2  0.438596\n",
       "51822           200       R2  0.298246\n",
       "51823             0       R2  0.438596\n",
       "51824           150       R2  0.298246\n",
       "51825           150       R2  0.535203\n",
       "51826            50       R2  0.227272\n",
       "51827           300       R2  0.921212\n",
       "51828           350       R2  0.267605\n",
       "51829             0       R2  0.223163\n",
       "51830             0       R2  0.034483\n",
       "51831             0       R2  0.016685\n",
       "51832             0       R2  0.164134\n",
       "51833             0       R2  0.014495\n",
       "51834             0       R2  1.000000\n",
       "51835             0       R2  0.086054\n",
       "\n",
       "[51836 rows x 3 columns]"
      ]
     },
     "execution_count": 90,
     "metadata": {},
     "output_type": "execute_result"
    }
   ],
   "source": [
    "pd.melt(ld.query('distance_bin <= 500'), id_vars=['distance_bin'],value_vars=['R2'])"
   ]
  },
  {
   "cell_type": "code",
   "execution_count": 93,
   "metadata": {
    "collapsed": true
   },
   "outputs": [],
   "source": [
    "tips = sns.load_dataset(\"tips\")"
   ]
  },
  {
   "cell_type": "code",
   "execution_count": null,
   "metadata": {
    "collapsed": true
   },
   "outputs": [],
   "source": []
  },
  {
   "cell_type": "code",
   "execution_count": 91,
   "metadata": {
    "collapsed": false
   },
   "outputs": [],
   "source": [
    "def plot_bin_dists(df, bin_def=\"distance_bin <= 500\"):\n",
    "    \n",
    "    melted = pd.melt(df.query(bin_def), id_vars=['distance_bin'],value_vars=['R2'])\n",
    "    g = sns.FacetGrid(data=melted, \n",
    "                      col=\"distance_bin\",\n",
    "                      sharey=False,\n",
    "                      sharex=False,\n",
    "                      col_wrap=3,\n",
    "                     )\n",
    "    \n",
    "    \n",
    "    return g.map(plt.hist, \"R2\", color=\"coral\");\n",
    "    "
   ]
  },
  {
   "cell_type": "code",
   "execution_count": 92,
   "metadata": {
    "collapsed": false
   },
   "outputs": [
    {
     "ename": "KeyError",
     "evalue": "\"['R2'] not in index\"",
     "output_type": "error",
     "traceback": [
      "\u001b[1;31m---------------------------------------------------------------------------\u001b[0m",
      "\u001b[1;31mKeyError\u001b[0m                                  Traceback (most recent call last)",
      "\u001b[1;32m<ipython-input-92-bee42daa294c>\u001b[0m in \u001b[0;36m<module>\u001b[1;34m()\u001b[0m\n\u001b[0;32m      1\u001b[0m \u001b[0mfname\u001b[0m \u001b[1;33m=\u001b[0m \u001b[1;34m\"distance_bins_0_500\"\u001b[0m\u001b[1;33m\u001b[0m\u001b[0m\n\u001b[0;32m      2\u001b[0m \u001b[1;33m\u001b[0m\u001b[0m\n\u001b[1;32m----> 3\u001b[1;33m \u001b[0mp\u001b[0m \u001b[1;33m=\u001b[0m \u001b[0mplot_bin_dists\u001b[0m\u001b[1;33m(\u001b[0m\u001b[0mld\u001b[0m\u001b[1;33m,\u001b[0m \u001b[0mbin_def\u001b[0m\u001b[1;33m=\u001b[0m\u001b[1;34m\"distance_bin <= 150\"\u001b[0m\u001b[1;33m)\u001b[0m\u001b[1;33m\u001b[0m\u001b[0m\n\u001b[0m\u001b[0;32m      4\u001b[0m \u001b[1;33m\u001b[0m\u001b[0m\n\u001b[0;32m      5\u001b[0m \u001b[0mp\u001b[0m\u001b[1;33m\u001b[0m\u001b[0m\n",
      "\u001b[1;32m<ipython-input-91-ffd8d8cc896c>\u001b[0m in \u001b[0;36mplot_bin_dists\u001b[1;34m(df, bin_def)\u001b[0m\n\u001b[0;32m     10\u001b[0m \u001b[1;33m\u001b[0m\u001b[0m\n\u001b[0;32m     11\u001b[0m \u001b[1;33m\u001b[0m\u001b[0m\n\u001b[1;32m---> 12\u001b[1;33m     \u001b[1;32mreturn\u001b[0m \u001b[0mg\u001b[0m\u001b[1;33m.\u001b[0m\u001b[0mmap\u001b[0m\u001b[1;33m(\u001b[0m\u001b[0mplt\u001b[0m\u001b[1;33m.\u001b[0m\u001b[0mhist\u001b[0m\u001b[1;33m,\u001b[0m \u001b[1;34m\"R2\"\u001b[0m\u001b[1;33m,\u001b[0m \u001b[0mcolor\u001b[0m\u001b[1;33m=\u001b[0m\u001b[1;34m\"coral\"\u001b[0m\u001b[1;33m)\u001b[0m\u001b[1;33m;\u001b[0m\u001b[1;33m\u001b[0m\u001b[0m\n\u001b[0m\u001b[0;32m     13\u001b[0m \u001b[1;33m\u001b[0m\u001b[0m\n",
      "\u001b[1;32m/home/gus/.virtualenvs/py279/lib/python2.7/site-packages/seaborn/axisgrid.pyc\u001b[0m in \u001b[0;36mmap\u001b[1;34m(self, func, *args, **kwargs)\u001b[0m\n\u001b[0;32m    433\u001b[0m \u001b[1;33m\u001b[0m\u001b[0m\n\u001b[0;32m    434\u001b[0m             \u001b[1;31m# Get the actual data we are going to plot with\u001b[0m\u001b[1;33m\u001b[0m\u001b[1;33m\u001b[0m\u001b[0m\n\u001b[1;32m--> 435\u001b[1;33m             \u001b[0mplot_data\u001b[0m \u001b[1;33m=\u001b[0m \u001b[0mdata_ijk\u001b[0m\u001b[1;33m[\u001b[0m\u001b[0mlist\u001b[0m\u001b[1;33m(\u001b[0m\u001b[0margs\u001b[0m\u001b[1;33m)\u001b[0m\u001b[1;33m]\u001b[0m\u001b[1;33m\u001b[0m\u001b[0m\n\u001b[0m\u001b[0;32m    436\u001b[0m             \u001b[1;32mif\u001b[0m \u001b[0mself\u001b[0m\u001b[1;33m.\u001b[0m\u001b[0m_dropna\u001b[0m\u001b[1;33m:\u001b[0m\u001b[1;33m\u001b[0m\u001b[0m\n\u001b[0;32m    437\u001b[0m                 \u001b[0mplot_data\u001b[0m \u001b[1;33m=\u001b[0m \u001b[0mplot_data\u001b[0m\u001b[1;33m.\u001b[0m\u001b[0mdropna\u001b[0m\u001b[1;33m(\u001b[0m\u001b[1;33m)\u001b[0m\u001b[1;33m\u001b[0m\u001b[0m\n",
      "\u001b[1;32m/home/gus/.virtualenvs/py279/lib/python2.7/site-packages/pandas/core/frame.pyc\u001b[0m in \u001b[0;36m__getitem__\u001b[1;34m(self, key)\u001b[0m\n\u001b[0;32m   1779\u001b[0m         \u001b[1;32mif\u001b[0m \u001b[0misinstance\u001b[0m\u001b[1;33m(\u001b[0m\u001b[0mkey\u001b[0m\u001b[1;33m,\u001b[0m \u001b[1;33m(\u001b[0m\u001b[0mSeries\u001b[0m\u001b[1;33m,\u001b[0m \u001b[0mnp\u001b[0m\u001b[1;33m.\u001b[0m\u001b[0mndarray\u001b[0m\u001b[1;33m,\u001b[0m \u001b[0mIndex\u001b[0m\u001b[1;33m,\u001b[0m \u001b[0mlist\u001b[0m\u001b[1;33m)\u001b[0m\u001b[1;33m)\u001b[0m\u001b[1;33m:\u001b[0m\u001b[1;33m\u001b[0m\u001b[0m\n\u001b[0;32m   1780\u001b[0m             \u001b[1;31m# either boolean or fancy integer index\u001b[0m\u001b[1;33m\u001b[0m\u001b[1;33m\u001b[0m\u001b[0m\n\u001b[1;32m-> 1781\u001b[1;33m             \u001b[1;32mreturn\u001b[0m \u001b[0mself\u001b[0m\u001b[1;33m.\u001b[0m\u001b[0m_getitem_array\u001b[0m\u001b[1;33m(\u001b[0m\u001b[0mkey\u001b[0m\u001b[1;33m)\u001b[0m\u001b[1;33m\u001b[0m\u001b[0m\n\u001b[0m\u001b[0;32m   1782\u001b[0m         \u001b[1;32melif\u001b[0m \u001b[0misinstance\u001b[0m\u001b[1;33m(\u001b[0m\u001b[0mkey\u001b[0m\u001b[1;33m,\u001b[0m \u001b[0mDataFrame\u001b[0m\u001b[1;33m)\u001b[0m\u001b[1;33m:\u001b[0m\u001b[1;33m\u001b[0m\u001b[0m\n\u001b[0;32m   1783\u001b[0m             \u001b[1;32mreturn\u001b[0m \u001b[0mself\u001b[0m\u001b[1;33m.\u001b[0m\u001b[0m_getitem_frame\u001b[0m\u001b[1;33m(\u001b[0m\u001b[0mkey\u001b[0m\u001b[1;33m)\u001b[0m\u001b[1;33m\u001b[0m\u001b[0m\n",
      "\u001b[1;32m/home/gus/.virtualenvs/py279/lib/python2.7/site-packages/pandas/core/frame.pyc\u001b[0m in \u001b[0;36m_getitem_array\u001b[1;34m(self, key)\u001b[0m\n\u001b[0;32m   1823\u001b[0m             \u001b[1;32mreturn\u001b[0m \u001b[0mself\u001b[0m\u001b[1;33m.\u001b[0m\u001b[0mtake\u001b[0m\u001b[1;33m(\u001b[0m\u001b[0mindexer\u001b[0m\u001b[1;33m,\u001b[0m \u001b[0maxis\u001b[0m\u001b[1;33m=\u001b[0m\u001b[1;36m0\u001b[0m\u001b[1;33m,\u001b[0m \u001b[0mconvert\u001b[0m\u001b[1;33m=\u001b[0m\u001b[0mFalse\u001b[0m\u001b[1;33m)\u001b[0m\u001b[1;33m\u001b[0m\u001b[0m\n\u001b[0;32m   1824\u001b[0m         \u001b[1;32melse\u001b[0m\u001b[1;33m:\u001b[0m\u001b[1;33m\u001b[0m\u001b[0m\n\u001b[1;32m-> 1825\u001b[1;33m             \u001b[0mindexer\u001b[0m \u001b[1;33m=\u001b[0m \u001b[0mself\u001b[0m\u001b[1;33m.\u001b[0m\u001b[0mix\u001b[0m\u001b[1;33m.\u001b[0m\u001b[0m_convert_to_indexer\u001b[0m\u001b[1;33m(\u001b[0m\u001b[0mkey\u001b[0m\u001b[1;33m,\u001b[0m \u001b[0maxis\u001b[0m\u001b[1;33m=\u001b[0m\u001b[1;36m1\u001b[0m\u001b[1;33m)\u001b[0m\u001b[1;33m\u001b[0m\u001b[0m\n\u001b[0m\u001b[0;32m   1826\u001b[0m             \u001b[1;32mreturn\u001b[0m \u001b[0mself\u001b[0m\u001b[1;33m.\u001b[0m\u001b[0mtake\u001b[0m\u001b[1;33m(\u001b[0m\u001b[0mindexer\u001b[0m\u001b[1;33m,\u001b[0m \u001b[0maxis\u001b[0m\u001b[1;33m=\u001b[0m\u001b[1;36m1\u001b[0m\u001b[1;33m,\u001b[0m \u001b[0mconvert\u001b[0m\u001b[1;33m=\u001b[0m\u001b[0mTrue\u001b[0m\u001b[1;33m)\u001b[0m\u001b[1;33m\u001b[0m\u001b[0m\n\u001b[0;32m   1827\u001b[0m \u001b[1;33m\u001b[0m\u001b[0m\n",
      "\u001b[1;32m/home/gus/.virtualenvs/py279/lib/python2.7/site-packages/pandas/core/indexing.pyc\u001b[0m in \u001b[0;36m_convert_to_indexer\u001b[1;34m(self, obj, axis, is_setter)\u001b[0m\n\u001b[0;32m   1138\u001b[0m                 \u001b[0mmask\u001b[0m \u001b[1;33m=\u001b[0m \u001b[0mcheck\u001b[0m \u001b[1;33m==\u001b[0m \u001b[1;33m-\u001b[0m\u001b[1;36m1\u001b[0m\u001b[1;33m\u001b[0m\u001b[0m\n\u001b[0;32m   1139\u001b[0m                 \u001b[1;32mif\u001b[0m \u001b[0mmask\u001b[0m\u001b[1;33m.\u001b[0m\u001b[0many\u001b[0m\u001b[1;33m(\u001b[0m\u001b[1;33m)\u001b[0m\u001b[1;33m:\u001b[0m\u001b[1;33m\u001b[0m\u001b[0m\n\u001b[1;32m-> 1140\u001b[1;33m                     \u001b[1;32mraise\u001b[0m \u001b[0mKeyError\u001b[0m\u001b[1;33m(\u001b[0m\u001b[1;34m'%s not in index'\u001b[0m \u001b[1;33m%\u001b[0m \u001b[0mobjarr\u001b[0m\u001b[1;33m[\u001b[0m\u001b[0mmask\u001b[0m\u001b[1;33m]\u001b[0m\u001b[1;33m)\u001b[0m\u001b[1;33m\u001b[0m\u001b[0m\n\u001b[0m\u001b[0;32m   1141\u001b[0m \u001b[1;33m\u001b[0m\u001b[0m\n\u001b[0;32m   1142\u001b[0m                 \u001b[1;32mreturn\u001b[0m \u001b[0m_values_from_object\u001b[0m\u001b[1;33m(\u001b[0m\u001b[0mindexer\u001b[0m\u001b[1;33m)\u001b[0m\u001b[1;33m\u001b[0m\u001b[0m\n",
      "\u001b[1;31mKeyError\u001b[0m: \"['R2'] not in index\""
     ]
    },
    {
     "data": {
      "image/png": "[encoded data removed]",
      "text/plain": [
       "<matplotlib.figure.Figure at 0x7fcfc9f70a50>"
      ]
     },
     "metadata": {},
     "output_type": "display_data"
    }
   ],
   "source": [
    "fname = \"distance_bins_0_500\"\n",
    "\n",
    "p = plot_bin_dists(ld, bin_def=\"distance_bin <= 150\")\n",
    "    \n",
    "p\n",
    "\n",
    "save_figs(base_dir=base_out_dir, \n",
    "          fname=fname, \n",
    "          save_types=('png','svg'),\n",
    "          is_ggplot=False\n",
    "         )"
   ]
  },
  {
   "cell_type": "code",
   "execution_count": null,
   "metadata": {
    "collapsed": true
   },
   "outputs": [],
   "source": [
    "fname = \"distance_bins_7000_15000\"\n",
    "\n",
    "p = plot_bin_dists(ld, bin_def=\"7000 <= distance_bin <= 15000\")\n",
    "    \n",
    "print p\n",
    "\n",
    "save_figs(base_dir=base_out_dir, \n",
    "          fname=fname, \n",
    "          save_types=('png','svg'),\n",
    "          is_ggplot=p\n",
    "         )"
   ]
  },
  {
   "cell_type": "code",
   "execution_count": null,
   "metadata": {
    "collapsed": true
   },
   "outputs": [],
   "source": [
    "fname = \"distance_bins_30000_50000\"\n",
    "\n",
    "p = plot_bin_dists(ld, bin_def=\"30000 <= distance_bin <= 50000\")\n",
    "    \n",
    "print p\n",
    "\n",
    "save_figs(base_dir=base_out_dir, \n",
    "          fname=fname, \n",
    "          save_types=('png','svg'),\n",
    "          is_ggplot=p\n",
    "         )"
   ]
  },
  {
   "cell_type": "code",
   "execution_count": null,
   "metadata": {
    "collapsed": true
   },
   "outputs": [],
   "source": [
    "fname = \"distance_bins_100000_100500\"\n",
    "\n",
    "p = plot_bin_dists(ld, bin_def=\"100000 <= distance_bin <= 100500\")\n",
    "    \n",
    "print p\n",
    "\n",
    "save_figs(base_dir=base_out_dir, \n",
    "          fname=fname, \n",
    "          save_types=('png','svg'),\n",
    "          is_ggplot=p\n",
    "         )"
   ]
  },
  {
   "cell_type": "code",
   "execution_count": null,
   "metadata": {
    "collapsed": true
   },
   "outputs": [],
   "source": [
    "fname = \"distance_bins_200000_200500\"\n",
    "\n",
    "p = plot_bin_dists(ld, bin_def=\"200000 <= distance_bin <= 200500\")\n",
    "    \n",
    "print p\n",
    "\n",
    "save_figs(base_dir=base_out_dir, \n",
    "          fname=fname, \n",
    "          save_types=('png','svg'),\n",
    "          is_ggplot=p\n",
    "         )"
   ]
  },
  {
   "cell_type": "code",
   "execution_count": null,
   "metadata": {
    "collapsed": true
   },
   "outputs": [],
   "source": [
    "fname = \"distance_bins_300000_300500\"\n",
    "\n",
    "p = plot_bin_dists(ld, bin_def=\"300000 <= distance_bin <= 300500\")\n",
    "    \n",
    "print p\n",
    "\n",
    "save_figs(base_dir=base_out_dir, \n",
    "          fname=fname, \n",
    "          save_types=('png','svg'),\n",
    "          is_ggplot=p\n",
    "         )"
   ]
  },
  {
   "cell_type": "markdown",
   "metadata": {},
   "source": [
    "## Characterization of contigs with/without regard to selected SNP-pairs"
   ]
  },
  {
   "cell_type": "code",
   "execution_count": null,
   "metadata": {
    "collapsed": false
   },
   "outputs": [],
   "source": [
    "# join contig length and kk_name contig info to the LD table\n",
    "ld_contig = pd.merge(left=ld, right=contig_info, how='inner', left_on=\"CHR_A\", right_on=\"scaf_name\")\n",
    "ld_contig.head()"
   ]
  },
  {
   "cell_type": "markdown",
   "metadata": {},
   "source": [
    "### All contigs"
   ]
  },
  {
   "cell_type": "code",
   "execution_count": null,
   "metadata": {
    "collapsed": false
   },
   "outputs": [],
   "source": [
    "fname = \"all_contig_len_dist\"\n",
    "\n",
    "sns.distplot(contig_info.length, color=\"coral\", kde=0);\n",
    "median_contig_len = contig_info.length.median()\n",
    "mean_contig_len = contig_info.length.mean()\n",
    "plt.text(median_contig_len,400,\"*median length = {}\".format(median_contig_len), fontsize=14);\n",
    "plt.text(mean_contig_len,200,\"*mean length = {}\".format(mean_contig_len), fontsize=14);\n",
    "plt.text(mean_contig_len,800,\"Number of contigs = {}\".format(len(contig_info)), fontsize=14);\n",
    "plt.title(\"All contigs\");\n",
    "\n",
    "save_figs(base_dir=base_out_dir, \n",
    "          fname=fname, \n",
    "          save_types=('png','pdf','svg')\n",
    "         )"
   ]
  },
  {
   "cell_type": "markdown",
   "metadata": {},
   "source": [
    "### All SNP-pair contigs"
   ]
  },
  {
   "cell_type": "code",
   "execution_count": null,
   "metadata": {
    "collapsed": false
   },
   "outputs": [],
   "source": [
    "sp_contigs = contig_info[contig_info.scaf_name.isin(ld_contig.scaf_name.unique())]\n",
    "len(sp_contigs)"
   ]
  },
  {
   "cell_type": "code",
   "execution_count": null,
   "metadata": {
    "collapsed": false,
    "scrolled": false
   },
   "outputs": [],
   "source": [
    "fname = \"all_sp_contig_len_dist\"\n",
    "\n",
    "sns.distplot(sp_contigs.length, color=\"coral\", kde=0);\n",
    "sp_median_contig_len = sp_contigs.length.median()\n",
    "sp_mean_contig_len = sp_contigs.length.mean()\n",
    "plt.text(sp_median_contig_len,100,\"*median length = {}\".format(sp_median_contig_len), fontsize=14);\n",
    "plt.text(sp_mean_contig_len,50,\"*mean length = {}\".format(sp_mean_contig_len), fontsize=14);\n",
    "plt.text(sp_mean_contig_len,200,\"Number of contigs = {}\".format(len(sp_contigs)), fontsize=14);\n",
    "plt.title(\"Contigs with a SNP-pair\");\n",
    "\n",
    "save_figs(base_dir=base_out_dir, \n",
    "          fname=fname, \n",
    "          save_types=('png','pdf','svg')\n",
    "         )"
   ]
  },
  {
   "cell_type": "markdown",
   "metadata": {},
   "source": [
    "### LD filtered SNP-pair contigs"
   ]
  },
  {
   "cell_type": "code",
   "execution_count": null,
   "metadata": {
    "collapsed": false
   },
   "outputs": [],
   "source": [
    "ld_filt_contigs = ld_contig.query(\"one_minus_cdf_BH <= 0.01\")\n",
    "ld_filt_contigs = contig_info[contig_info.scaf_name.isin(ld_filt_contigs.scaf_name.unique())]\n",
    "len(ld_filt_contigs)"
   ]
  },
  {
   "cell_type": "code",
   "execution_count": null,
   "metadata": {
    "collapsed": false,
    "scrolled": false
   },
   "outputs": [],
   "source": [
    "fname = \"filtered_sp_contig_len_dist\"\n",
    "\n",
    "sns.distplot(ld_filt_contigs.length, color=\"coral\", kde=0);\n",
    "ld_filt_median_contig_len = ld_filt_contigs.length.median()\n",
    "ld_filt_mean_contig_len = ld_filt_contigs.length.mean()\n",
    "plt.text(ld_filt_median_contig_len, 40, \"*median length = {}\".format(ld_filt_median_contig_len), fontsize=14);\n",
    "plt.text(ld_filt_mean_contig_len, 20, \"*mean length = {}\".format(ld_filt_mean_contig_len), fontsize=14);\n",
    "plt.text(ld_filt_mean_contig_len ,80, \"Number of contigs = {}\".format(len(ld_filt_contigs)), fontsize=14);\n",
    "plt.title(r\"Contigs with a SNP-pair filtered by binned LD ($q \\leq 0.01$)\");\n",
    "\n",
    "save_figs(base_dir=base_out_dir, \n",
    "          fname=fname, \n",
    "          save_types=('png','pdf','svg')\n",
    "         )"
   ]
  },
  {
   "cell_type": "markdown",
   "metadata": {},
   "source": [
    "## Compare with Tajima's D results from AndreaG"
   ]
  },
  {
   "cell_type": "code",
   "execution_count": null,
   "metadata": {
    "collapsed": false
   },
   "outputs": [],
   "source": [
    "taj50.head()"
   ]
  },
  {
   "cell_type": "code",
   "execution_count": null,
   "metadata": {
    "collapsed": false
   },
   "outputs": [],
   "source": [
    "ld_contig.head()"
   ]
  },
  {
   "cell_type": "markdown",
   "metadata": {},
   "source": [
    "### To accomplish\n",
    "Need to filter out `ld_contig` data that has either SNP ocurring in the bins defined by `taj50.CHROM:taj50.BIN_start-[taj50.BIN_start+50]`\n",
    "\n",
    "First try:\n",
    "\n",
    "- join INNER `ld_contig` and `taj50` on `left_on=kk_name`, `right_on=CHROM` as `ld_contig_taj`\n",
    "- reatain those rows where `ld_contig_taj.BP_A` or `ld_contig_taj.BP_B` is inside `ld_contig_taj.BIN_start` - `ld_contig_taj.BIN_start+50`"
   ]
  },
  {
   "cell_type": "code",
   "execution_count": null,
   "metadata": {
    "collapsed": true
   },
   "outputs": [],
   "source": [
    "ld_contig_taj = pd.merge(left=ld_contig, right=taj50, how='inner', left_on='kk_name', right_on='CHROM')"
   ]
  },
  {
   "cell_type": "code",
   "execution_count": null,
   "metadata": {
    "collapsed": false
   },
   "outputs": [],
   "source": [
    "def get_taj_win_mask(df):\n",
    "    taj_win_start = df.BIN_start\n",
    "    taj_win_end = df.BIN_start + 50\n",
    "    \n",
    "    a_mask = (ld_contig_taj.BIN_start <= ld_contig_taj.BP_A) & (ld_contig_taj.BP_A <= ld_contig_taj.BIN_start + 50)\n",
    "    b_mask = (ld_contig_taj.BIN_start <= ld_contig_taj.BP_B) & (ld_contig_taj.BP_B <= ld_contig_taj.BIN_start + 50)\n",
    "    \n",
    "    return (a_mask | b_mask)\n",
    "\n",
    "# get all at first\n",
    "ld_contig_taj_win = ld_contig_taj[get_taj_win_mask(ld_contig_taj)]\n",
    "\n",
    "# now subset these to only rows that meet the LD bin filter\n",
    "ld_contig_taj_win_filter = ld_contig_taj_win.query(\"one_minus_cdf_BH <= 0.01\")"
   ]
  },
  {
   "cell_type": "code",
   "execution_count": null,
   "metadata": {
    "collapsed": false
   },
   "outputs": [],
   "source": [
    "# print len(ld_contig_taj)\n",
    "# print len(ld_contig_taj_win)\n",
    "# print len(ld_contig_taj_win_filter)"
   ]
  },
  {
   "cell_type": "code",
   "execution_count": null,
   "metadata": {
    "collapsed": false
   },
   "outputs": [],
   "source": [
    "ld_contig_taj_win_filter.head(15)"
   ]
  },
  {
   "cell_type": "markdown",
   "metadata": {},
   "source": [
    "## Examine `ld_contig_taj_win_filter` "
   ]
  },
  {
   "cell_type": "markdown",
   "metadata": {},
   "source": [
    "### Basic summary table referencing SNP-pairs"
   ]
  },
  {
   "cell_type": "code",
   "execution_count": null,
   "metadata": {
    "collapsed": false
   },
   "outputs": [],
   "source": [
    "ld_contig_taj_win_filter_t1 = pd.pivot_table(ld_contig_taj_win_filter,\n",
    "                                             index=['scaf_name','BP_A','BP_B','distance_bin'],\n",
    "                                             fill_value=0,\n",
    "                                            )\n",
    "ld_contig_taj_win_filter_t1.head()"
   ]
  },
  {
   "cell_type": "markdown",
   "metadata": {},
   "source": [
    "### How is q-value related to SNP-pair distance?"
   ]
  },
  {
   "cell_type": "code",
   "execution_count": null,
   "metadata": {
    "collapsed": false
   },
   "outputs": [],
   "source": [
    "sns.jointplot(x='BP_DELTA',\n",
    "              y='one_minus_cdf_BH', \n",
    "              data=ld_contig_taj_win_filter, \n",
    "              kind='reg',\n",
    "              color='lightblue',\n",
    "              xlim=(0,ld_contig_taj_win_filter.distance_bin.max()),\n",
    "              ylim=(0,ld_contig_taj_win_filter.one_minus_cdf_BH.max()));"
   ]
  },
  {
   "cell_type": "markdown",
   "metadata": {},
   "source": [
    "### What is the distribution of SNPs per bin used for Tajima's D bin_50"
   ]
  },
  {
   "cell_type": "code",
   "execution_count": null,
   "metadata": {
    "collapsed": false
   },
   "outputs": [],
   "source": [
    "sns.distplot(ld_contig_taj_win_filter.N_SNPs, color='lightblue', kde=0);"
   ]
  },
  {
   "cell_type": "markdown",
   "metadata": {},
   "source": [
    "### How Tajima's D score bin_50 relate to number of SNPs in the bin"
   ]
  },
  {
   "cell_type": "code",
   "execution_count": null,
   "metadata": {
    "collapsed": false,
    "scrolled": false
   },
   "outputs": [],
   "source": [
    "sns.jointplot(x='N_SNPs',\n",
    "              y='TajimaD', \n",
    "              data=ld_contig_taj_win_filter, \n",
    "              kind='reg',\n",
    "              color='lightblue',\n",
    "             );"
   ]
  },
  {
   "cell_type": "markdown",
   "metadata": {
    "collapsed": true
   },
   "source": [
    "# Average LD per bin"
   ]
  },
  {
   "cell_type": "markdown",
   "metadata": {},
   "source": [
    "### How many contigs are available to each distance_bin?"
   ]
  },
  {
   "cell_type": "code",
   "execution_count": null,
   "metadata": {
    "collapsed": true
   },
   "outputs": [],
   "source": [
    "def get_contigs_per_bin(d_bins,contig_info):\n",
    "    \n",
    "    cpb = {}\n",
    "    \n",
    "    for b in d_bins:\n",
    "        cpb[b] = sum(contig_info.length > b)\n",
    "        \n",
    "    return pd.Series(cpb)"
   ]
  },
  {
   "cell_type": "code",
   "execution_count": null,
   "metadata": {
    "collapsed": false
   },
   "outputs": [],
   "source": [
    "d_bins = ld_contig.distance_bin.unique()\n",
    "d_bins.sort()\n",
    "d_bins\n",
    "# Generate a dict to map how many contigs avail to each bin\n",
    "contigs_per_bin = get_contigs_per_bin(d_bins,contig_info)\n",
    "contigs_per_bin"
   ]
  },
  {
   "cell_type": "code",
   "execution_count": null,
   "metadata": {
    "collapsed": false
   },
   "outputs": [],
   "source": [
    "contigs_per_bin = pd.DataFrame(contigs_per_bin,columns=['contigs_per_bin'])"
   ]
  },
  {
   "cell_type": "code",
   "execution_count": null,
   "metadata": {
    "collapsed": false
   },
   "outputs": [],
   "source": [
    "contigs_per_bin = contigs_per_bin.reset_index().rename(columns={'index':'distance_bin'}, inplace=False)"
   ]
  },
  {
   "cell_type": "code",
   "execution_count": null,
   "metadata": {
    "collapsed": false
   },
   "outputs": [],
   "source": [
    "contigs_per_bin.head()"
   ]
  },
  {
   "cell_type": "markdown",
   "metadata": {},
   "source": [
    "### Set plotting style for \"scatter with line\" type figure"
   ]
  },
  {
   "cell_type": "code",
   "execution_count": null,
   "metadata": {
    "collapsed": false
   },
   "outputs": [],
   "source": [
    "def plot_scat_w_line(gp_aes):\n",
    "    return gp_aes + \\\n",
    "           gp.geom_point(color='coral') + \\\n",
    "           gp.stat_smooth(span=.2, color='blue', se=False) + \\\n",
    "           gp.theme_seaborn(context='talk')\n"
   ]
  },
  {
   "cell_type": "code",
   "execution_count": null,
   "metadata": {
    "collapsed": false
   },
   "outputs": [],
   "source": [
    "fname = \"distance_VS_contigs_per_bin\"\n",
    "\n",
    "p = plot_scat_w_line(gp.ggplot(gp.aes(x='distance_bin', y='contigs_per_bin'), data=contigs_per_bin))\n",
    "    \n",
    "print p\n",
    "\n",
    "save_figs(base_dir=base_out_dir, \n",
    "          fname=fname, \n",
    "          save_types=('png','svg'),\n",
    "          is_ggplot=p\n",
    "         )"
   ]
  },
  {
   "cell_type": "markdown",
   "metadata": {},
   "source": [
    "## All contigs together"
   ]
  },
  {
   "cell_type": "code",
   "execution_count": null,
   "metadata": {
    "collapsed": false
   },
   "outputs": [],
   "source": [
    "ld_contig.head()"
   ]
  },
  {
   "cell_type": "code",
   "execution_count": null,
   "metadata": {
    "collapsed": true
   },
   "outputs": [],
   "source": [
    "mean_bin_r2_all = ld_contig.groupby(\"distance_bin\").mean().reset_index()"
   ]
  },
  {
   "cell_type": "code",
   "execution_count": null,
   "metadata": {
    "collapsed": true
   },
   "outputs": [],
   "source": [
    "median_bin_r2_all = ld_contig.groupby(\"distance_bin\").median().reset_index()"
   ]
  },
  {
   "cell_type": "code",
   "execution_count": null,
   "metadata": {
    "collapsed": false
   },
   "outputs": [],
   "source": [
    "fname = \"distance_VS_r2_all\"\n",
    "\n",
    "p = plot_scat_w_line(gp.ggplot(gp.aes(x='distance_bin', y='R2'), data=mean_bin_r2_all.query(\"distance_bin >= 0\")))\n",
    "\n",
    "print p\n",
    "\n",
    "save_figs(base_dir=base_out_dir, \n",
    "          fname=fname, \n",
    "          save_types=('png','svg'),\n",
    "          is_ggplot=p\n",
    "         )"
   ]
  },
  {
   "cell_type": "code",
   "execution_count": null,
   "metadata": {
    "collapsed": false
   },
   "outputs": [],
   "source": [
    "fname = \"distance_VS_r2_le30K\"\n",
    "\n",
    "p = plot_scat_w_line(gp.ggplot(gp.aes(x='distance_bin', y='R2'), data=mean_bin_r2_all.query(\"distance_bin <= 30000\")))\n",
    "  \n",
    "print p\n",
    "\n",
    "save_figs(base_dir=base_out_dir, \n",
    "          fname=fname, \n",
    "          save_types=('png','svg'),\n",
    "          is_ggplot=p\n",
    "         )    \n",
    "    "
   ]
  },
  {
   "cell_type": "code",
   "execution_count": null,
   "metadata": {
    "collapsed": false
   },
   "outputs": [],
   "source": [
    "fname = \"distance_VS_r2_le40K\"\n",
    "\n",
    "p = plot_scat_w_line(gp.ggplot(gp.aes(x='distance_bin', y='R2'), data=mean_bin_r2_all.query(\"distance_bin <= 40000\")))\n",
    "\n",
    "print p\n",
    "\n",
    "save_figs(base_dir=base_out_dir, \n",
    "          fname=fname, \n",
    "          save_types=('png','svg'),\n",
    "          is_ggplot=p\n",
    "         )    \n",
    "    "
   ]
  },
  {
   "cell_type": "code",
   "execution_count": null,
   "metadata": {
    "collapsed": false
   },
   "outputs": [],
   "source": [
    "fname = \"distance_VS_r2_le50K\"\n",
    "\n",
    "p = plot_scat_w_line(gp.ggplot(gp.aes(x='distance_bin', y='R2'), data=mean_bin_r2_all.query(\"distance_bin <= 50000\")))\n",
    "\n",
    "print p\n",
    "\n",
    "save_figs(base_dir=base_out_dir, \n",
    "          fname=fname, \n",
    "          save_types=('png','svg'),\n",
    "          is_ggplot=p\n",
    "         )    \n",
    "    "
   ]
  },
  {
   "cell_type": "code",
   "execution_count": null,
   "metadata": {
    "collapsed": false
   },
   "outputs": [],
   "source": [
    "len(ld_contig)"
   ]
  },
  {
   "cell_type": "code",
   "execution_count": null,
   "metadata": {
    "collapsed": false
   },
   "outputs": [],
   "source": [
    "len_contigs_per_bin = ld_contig.pivot_table(index=['distance_bin'], \n",
    "                                            values=['scaf_name'],\n",
    "                                            aggfunc=[len]\n",
    "                                           )['len'].reset_index()\n",
    "\n",
    "len_contigs_per_bin = len_contigs_per_bin.rename(columns={'scaf_name':'SNP-pairs'}, inplace=False)\n",
    "len_contigs_per_bin.head()"
   ]
  },
  {
   "cell_type": "code",
   "execution_count": null,
   "metadata": {
    "collapsed": false
   },
   "outputs": [],
   "source": [
    "fname = \"distance_VS_sp_per_bin_gt100\"\n",
    "\n",
    "sp_gt100mask = len_contigs_per_bin[\"SNP-pairs\"] > 100\n",
    "\n",
    "p = plot_scat_w_line(gp.ggplot(gp.aes(x='distance_bin', \n",
    "                                  y='SNP-pairs'), \n",
    "                           data=len_contigs_per_bin[sp_gt100mask])\n",
    "                ) + gp.ylab('SNP-pairs per bin')\n",
    "\n",
    "print p\n",
    "\n",
    "save_figs(base_dir=base_out_dir, \n",
    "          fname=fname, \n",
    "          save_types=('png','svg'),\n",
    "          is_ggplot=p\n",
    "         )    \n"
   ]
  },
  {
   "cell_type": "code",
   "execution_count": null,
   "metadata": {
    "collapsed": false
   },
   "outputs": [],
   "source": [
    "fname = \"distance_VS_sp_per_bin_gt150\"\n",
    "\n",
    "sp_gt150mask = len_contigs_per_bin[\"SNP-pairs\"] > 150\n",
    "\n",
    "p = plot_scat_w_line(gp.ggplot(gp.aes(x='distance_bin', \n",
    "                                  y='SNP-pairs'), \n",
    "                           data=len_contigs_per_bin[sp_gt150mask])\n",
    "                ) + gp.ylab('SNP-pairs per bin')\n",
    "\n",
    "print p\n",
    "\n",
    "save_figs(base_dir=base_out_dir, \n",
    "          fname=fname, \n",
    "          save_types=('png','svg'),\n",
    "          is_ggplot=p\n",
    "         )    \n"
   ]
  },
  {
   "cell_type": "code",
   "execution_count": null,
   "metadata": {
    "collapsed": false
   },
   "outputs": [],
   "source": [
    "ld_contig.head()"
   ]
  },
  {
   "cell_type": "code",
   "execution_count": null,
   "metadata": {
    "collapsed": false
   },
   "outputs": [],
   "source": [
    "d_bin_v_others = ld_contig.pivot_table(index=['distance_bin'], \n",
    "                                        values=['R2','one_minus_cdf_BH'],\n",
    "                                        aggfunc=[np.mean]\n",
    "                                       )['mean'].reset_index()\n",
    "d_bin_v_others.head()"
   ]
  },
  {
   "cell_type": "code",
   "execution_count": null,
   "metadata": {
    "collapsed": false
   },
   "outputs": [],
   "source": [
    "d_bin_v_others = d_bin_v_others.merge(right=len_contigs_per_bin, \n",
    "                     how='inner', \n",
    "                     on='distance_bin'\n",
    "                     ).merge(right=contigs_per_bin, \n",
    "                             how='inner', \n",
    "                             on='distance_bin'\n",
    "                            )\n",
    "d_bin_v_others.head()"
   ]
  },
  {
   "cell_type": "code",
   "execution_count": null,
   "metadata": {
    "collapsed": false
   },
   "outputs": [],
   "source": [
    "d_bin_v_others_melt = pd.melt(d_bin_v_others, id_vars=['distance_bin'])"
   ]
  },
  {
   "cell_type": "code",
   "execution_count": null,
   "metadata": {
    "collapsed": false
   },
   "outputs": [],
   "source": [
    "d_bin_v_others_melt.head()"
   ]
  },
  {
   "cell_type": "code",
   "execution_count": null,
   "metadata": {
    "collapsed": false
   },
   "outputs": [],
   "source": [
    "xmin = 150\n",
    "xmax = 70000\n",
    "\n",
    "fname = \"distance_VS_avgR2_spperbin_contigsperbin_q_b{bmin}-to-b{bmax}\".format(\n",
    "    bmin=xmin,\n",
    "    bmax=xmax\n",
    "    )\n",
    "\n",
    "p = plot_scat_w_line(\n",
    "    gp.ggplot(\n",
    "        gp.aes(\n",
    "            x='distance_bin', y='value'\n",
    "        ), \n",
    "        data=d_bin_v_others_melt.query(\n",
    "            \"{xmin} <= distance_bin <= {xmax}\".format(\n",
    "                xmin=xmin,\n",
    "                xmax=xmax\n",
    "            )\n",
    "        )\n",
    "    )\n",
    ") + \\\n",
    "gp.facet_wrap(\"variable\") + \\\n",
    "gp.ggtitle(fname)\n",
    "\n",
    "print p\n",
    "\n",
    "save_figs(base_dir=base_out_dir, \n",
    "          fname=fname, \n",
    "          save_types=('png','svg'),\n",
    "          is_ggplot=p\n",
    "         )\n"
   ]
  },
  {
   "cell_type": "code",
   "execution_count": null,
   "metadata": {
    "collapsed": false
   },
   "outputs": [],
   "source": [
    "# g = sns.PairGrid(d_bin_v_others.loc[:,[\"R2\", \"one_minus_cdf_BH\",    \"SNP-pairs\",   \"contigs_per_bin\",]])\n",
    "# g.map_upper(plt.scatter)\n",
    "# g.map_lower(sns.kdeplot, cmap=\"Blues_d\")\n",
    "# g.map_diag(sns.kdeplot, lw=3, legend=False)\n",
    "d_bin_vars = d_bin_v_others.loc[:,[\"R2\", \"one_minus_cdf_BH\",    \"SNP-pairs\",   \"contigs_per_bin\",]]"
   ]
  },
  {
   "cell_type": "code",
   "execution_count": null,
   "metadata": {
    "collapsed": false
   },
   "outputs": [],
   "source": [
    "d_bin_vars.head()"
   ]
  },
  {
   "cell_type": "code",
   "execution_count": null,
   "metadata": {
    "collapsed": false
   },
   "outputs": [],
   "source": [
    "sns.palplot(sns.cubehelix_palette(8, start=.5, rot=-.75))"
   ]
  },
  {
   "cell_type": "code",
   "execution_count": null,
   "metadata": {
    "collapsed": false
   },
   "outputs": [],
   "source": [
    "my_cmap=sns.cubehelix_palette(40, start=.5, rot=-.75, as_cmap=True)\n",
    "cc = sns.mpl.colors.ColorConverter()\n",
    "marginal_color = cc.to_rgb(arg=my_cmap.colors[int(255*1)])"
   ]
  },
  {
   "cell_type": "code",
   "execution_count": null,
   "metadata": {
    "collapsed": false
   },
   "outputs": [],
   "source": [
    "# sns.jointplot('SNP-pairs','R2',d_bin_vars, kind='kde',\n",
    "#               joint_kws=dict(shade=True,\n",
    "#                              cmap=my_cmap,\n",
    "#                              n_levels=40\n",
    "#                             ),\n",
    "#               marginal_kws=dict(shade=True, color=my_cmap.colors[int(256*0.66)])\n",
    "#              )\n",
    "\n",
    "g = sns.JointGrid('SNP-pairs','R2',d_bin_vars)\n",
    "g.plot_marginals(sns.distplot, kde=False, color=marginal_color)\n",
    "g.plot_joint(sns.kdeplot, shade=True, cmap=my_cmap, n_levels=40);"
   ]
  },
  {
   "cell_type": "code",
   "execution_count": null,
   "metadata": {
    "collapsed": false
   },
   "outputs": [],
   "source": [
    "# sns.jointplot('one_minus_cdf_BH','R2',d_bin_vars, kind='kde',\n",
    "#               joint_kws=dict(shade=True,\n",
    "#                              cmap=my_cmap,\n",
    "#                              n_levels=40\n",
    "#                             ),\n",
    "#               marginal_kws=dict(shade=True, color=my_cmap.colors[int(256*0.66)])\n",
    "#              )\n",
    "\n",
    "g = sns.JointGrid('one_minus_cdf_BH','R2',d_bin_vars)\n",
    "g.plot_marginals(sns.distplot, kde=False, color=marginal_color)\n",
    "g.plot_joint(sns.kdeplot, shade=True, cmap=my_cmap, n_levels=40, alpha=1);"
   ]
  },
  {
   "cell_type": "code",
   "execution_count": null,
   "metadata": {
    "collapsed": false
   },
   "outputs": [],
   "source": [
    "sns.jointplot('contigs_per_bin','SNP-pairs',d_bin_vars, kind='kde',\n",
    "              joint_kws=dict(shade=True,\n",
    "                             cmap=my_cmap,\n",
    "                             n_levels=8\n",
    "                            ),\n",
    "              marginal_kws=dict(shade=True, color=my_cmap.colors[int(256*0.66)])\n",
    "             )"
   ]
  },
  {
   "cell_type": "markdown",
   "metadata": {},
   "source": [
    "## 5 random contigs"
   ]
  }
 ],
 "metadata": {
  "kernelspec": {
   "display_name": "Python 2",
   "language": "python",
   "name": "python2"
  },
  "language_info": {
   "codemirror_mode": {
    "name": "ipython",
    "version": 2
   },
   "file_extension": ".py",
   "mimetype": "text/x-python",
   "name": "python",
   "nbconvert_exporter": "python",
   "pygments_lexer": "ipython2",
   "version": "2.7.9"
  }
 },
 "nbformat": 4,
 "nbformat_minor": 0
}
