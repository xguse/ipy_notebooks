{
 "cells": [
  {
   "cell_type": "code",
   "execution_count": 16,
   "metadata": {
    "collapsed": true
   },
   "outputs": [],
   "source": [
    "%matplotlib inline\n",
    "import seaborn as sns"
   ]
  },
  {
   "cell_type": "code",
   "execution_count": 17,
   "metadata": {
    "collapsed": true
   },
   "outputs": [],
   "source": [
    "from IPython.display import HTML"
   ]
  },
  {
   "cell_type": "code",
   "execution_count": 18,
   "metadata": {
    "collapsed": false
   },
   "outputs": [],
   "source": [
    "from __future__ import unicode_literals\n",
    "from __future__ import division\n",
    "from __future__ import print_function\n",
    "\n",
    "import os\n",
    "\n",
    "import numpy as np\n",
    "import pandas as pd\n",
    "pd.set_option('display.max_columns', 60)\n",
    "pd.set_option('display.max_rows', 300)\n",
    "pd.set_option(\"max_colwidth\",1000)\n",
    "\n",
    "\n",
    "from collections import defaultdict\n",
    "\n",
    "import munch\n",
    "\n",
    "from IPython.display import display, HTML\n",
    "\n",
    "from spartan.utils.annotations.ensembl.gff3 import parse_gff3_attributes\n",
    "from spartan.utils.files import tableFile2namedTuple"
   ]
  },
  {
   "cell_type": "markdown",
   "metadata": {},
   "source": [
    "# Files"
   ]
  },
  {
   "cell_type": "code",
   "execution_count": 19,
   "metadata": {
    "collapsed": true
   },
   "outputs": [],
   "source": [
    "knearest_ALL_ = \"/home/gus/MEGAsync/zim/main/Yale/Collaborations/Hongyu-tsetse/gmm_to_gff_pipeline/pipeline_runs/gmm_to_gff_testing_filterPSL_100bp/get_nearest_k_features/snp_list_afterFS_with_p_value_LD_1.snps_in_features.xls\"\n",
    "knearest_MS_ = \"/home/gus/MEGAsync/zim/main/Yale/Collaborations/Hongyu-tsetse/gmm_to_gff_pipeline/pipeline_runs/gmm_to_gff_testing_filterPSL_100bp/get_nearest_k_features/snp_list_MS_1_with_p_value.snps_in_features.xls\"\n",
    "knearest_NB_ = \"/home/gus/MEGAsync/zim/main/Yale/Collaborations/Hongyu-tsetse/gmm_to_gff_pipeline/pipeline_runs/gmm_to_gff_testing_filterPSL_100bp/get_nearest_k_features/snp_list_NB_1_with_p_value.snps_in_features.xls\"\n",
    "knearest_OT_ = \"/home/gus/MEGAsync/zim/main/Yale/Collaborations/Hongyu-tsetse/gmm_to_gff_pipeline/pipeline_runs/gmm_to_gff_testing_filterPSL_100bp/get_nearest_k_features/snp_list_OT_1_with_p_value.snps_in_features.xls\""
   ]
  },
  {
   "cell_type": "code",
   "execution_count": 20,
   "metadata": {
    "collapsed": false
   },
   "outputs": [],
   "source": [
    "knearest_ALL = pd.read_excel(knearest_ALL_)\n",
    "knearest_MS = pd.read_excel(knearest_MS_)\n",
    "knearest_NB = pd.read_excel(knearest_NB_)\n",
    "knearest_OT = pd.read_excel(knearest_OT_)\n",
    "\n",
    "knearest = {'knearest_ALL': knearest_ALL,\n",
    "            'knearest_MS': knearest_MS,\n",
    "            'knearest_NB': knearest_NB,\n",
    "            'knearest_OT': knearest_OT}\n"
   ]
  },
  {
   "cell_type": "code",
   "execution_count": 21,
   "metadata": {
    "collapsed": false
   },
   "outputs": [],
   "source": [
    "# l = pd.Series([10,30,7,83,14,5,120,86,136,92,48,8,188,7,7,7,143,8,18,65,51,24,64,5,95,99,124,68,99,11,39,5,5,59,223,7,33,69,176,31,126,102,71,38,31,28,84,103,15,102,5,50,28,71,178,528,243,723,122,661,294,270,353,2369,153,151,569,33,182,126,74,103])"
   ]
  },
  {
   "cell_type": "code",
   "execution_count": 22,
   "metadata": {
    "collapsed": false
   },
   "outputs": [],
   "source": [
    "# sns.rugplot(l);"
   ]
  },
  {
   "cell_type": "code",
   "execution_count": 23,
   "metadata": {
    "collapsed": false
   },
   "outputs": [],
   "source": [
    "for name, df in knearest.items():\n",
    "    df[\"source\"] = name"
   ]
  },
  {
   "cell_type": "code",
   "execution_count": 24,
   "metadata": {
    "collapsed": true
   },
   "outputs": [],
   "source": [
    "knearest_combo = pd.concat(knearest.values())"
   ]
  },
  {
   "cell_type": "code",
   "execution_count": 25,
   "metadata": {
    "collapsed": false
   },
   "outputs": [
    {
     "data": {
      "text/html": [
       "<div>\n",
       "<table border=\"1\" class=\"dataframe\">\n",
       "  <thead>\n",
       "    <tr style=\"text-align: right;\">\n",
       "      <th></th>\n",
       "      <th>SNP_chrom</th>\n",
       "      <th>SNP_start</th>\n",
       "      <th>SNP_end</th>\n",
       "      <th>feature_set_name</th>\n",
       "      <th>chrom</th>\n",
       "      <th>chromStart</th>\n",
       "      <th>chromEnd</th>\n",
       "      <th>name</th>\n",
       "      <th>score</th>\n",
       "      <th>strand</th>\n",
       "      <th>thickStart</th>\n",
       "      <th>thickEnd</th>\n",
       "      <th>itemRgb</th>\n",
       "      <th>blockCount</th>\n",
       "      <th>blockSizes</th>\n",
       "      <th>blockStarts</th>\n",
       "      <th>distance</th>\n",
       "      <th>source</th>\n",
       "    </tr>\n",
       "  </thead>\n",
       "  <tbody>\n",
       "    <tr>\n",
       "      <th>0</th>\n",
       "      <td>Scaffold106</td>\n",
       "      <td>349186</td>\n",
       "      <td>349187</td>\n",
       "      <td>official_annotations</td>\n",
       "      <td>Scaffold106</td>\n",
       "      <td>339112</td>\n",
       "      <td>350126</td>\n",
       "      <td>GFUI002898</td>\n",
       "      <td>0</td>\n",
       "      <td>+</td>\n",
       "      <td>339112</td>\n",
       "      <td>350123</td>\n",
       "      <td>0,0,0</td>\n",
       "      <td>6</td>\n",
       "      <td>6,123,129,50,252,211</td>\n",
       "      <td>0,1071,5842,6164,8068,10803</td>\n",
       "      <td>0</td>\n",
       "      <td>knearest_MS</td>\n",
       "    </tr>\n",
       "    <tr>\n",
       "      <th>1</th>\n",
       "      <td>Scaffold22</td>\n",
       "      <td>1291804</td>\n",
       "      <td>1291805</td>\n",
       "      <td>novel_mapped_tx</td>\n",
       "      <td>Scaffold22</td>\n",
       "      <td>1263294</td>\n",
       "      <td>1292230</td>\n",
       "      <td>TCONS_00034486</td>\n",
       "      <td>0</td>\n",
       "      <td>+</td>\n",
       "      <td>1263294</td>\n",
       "      <td>1301363</td>\n",
       "      <td>0,0,0</td>\n",
       "      <td>23</td>\n",
       "      <td>11,23,70,22,41,80,39,24,216,185,165,139,156,159,377,116,124,7,24,91,26,27,14,</td>\n",
       "      <td>1263294,1263308,1263352,1263426,1263453,1263506,1263602,1263642,1292555,1292848,1293098,1293407,1298373,1298603,1298828,1300837,1301022,1301159,1301167,1301191,1301292,1301322,1301349,</td>\n",
       "      <td>0</td>\n",
       "      <td>knearest_MS</td>\n",
       "    </tr>\n",
       "    <tr>\n",
       "      <th>2</th>\n",
       "      <td>Scaffold22</td>\n",
       "      <td>1291804</td>\n",
       "      <td>1291805</td>\n",
       "      <td>novel_mapped_tx</td>\n",
       "      <td>Scaffold22</td>\n",
       "      <td>1263294</td>\n",
       "      <td>1292230</td>\n",
       "      <td>TCONS_00034487</td>\n",
       "      <td>0</td>\n",
       "      <td>+</td>\n",
       "      <td>1263294</td>\n",
       "      <td>1301363</td>\n",
       "      <td>0,0,0</td>\n",
       "      <td>27</td>\n",
       "      <td>11,23,70,22,41,80,39,24,15,54,132,159,204,185,165,139,156,159,377,116,124,7,24,91,26,27,14,</td>\n",
       "      <td>1263294,1263308,1263352,1263426,1263453,1263506,1263602,1263642,1266675,1266943,1267008,1267168,1292567,1292848,1293098,1293407,1298373,1298603,1298828,1300837,1301022,1301159,1301167,1301191,1301292,1301322,1301349,</td>\n",
       "      <td>0</td>\n",
       "      <td>knearest_MS</td>\n",
       "    </tr>\n",
       "    <tr>\n",
       "      <th>3</th>\n",
       "      <td>Scaffold22</td>\n",
       "      <td>1291804</td>\n",
       "      <td>1291805</td>\n",
       "      <td>novel_mapped_tx</td>\n",
       "      <td>Scaffold22</td>\n",
       "      <td>1263294</td>\n",
       "      <td>1292230</td>\n",
       "      <td>TCONS_00034488</td>\n",
       "      <td>0</td>\n",
       "      <td>+</td>\n",
       "      <td>1263294</td>\n",
       "      <td>1301363</td>\n",
       "      <td>0,0,0</td>\n",
       "      <td>23</td>\n",
       "      <td>11,23,70,22,41,80,39,24,216,185,165,139,156,159,446,116,124,7,24,91,26,27,14,</td>\n",
       "      <td>1263294,1263308,1263352,1263426,1263453,1263506,1263602,1263642,1292555,1292848,1293098,1293407,1298373,1298603,1298828,1300837,1301022,1301159,1301167,1301191,1301292,1301322,1301349,</td>\n",
       "      <td>0</td>\n",
       "      <td>knearest_MS</td>\n",
       "    </tr>\n",
       "    <tr>\n",
       "      <th>4</th>\n",
       "      <td>Scaffold22</td>\n",
       "      <td>1291804</td>\n",
       "      <td>1291805</td>\n",
       "      <td>novel_mapped_tx</td>\n",
       "      <td>Scaffold22</td>\n",
       "      <td>1263294</td>\n",
       "      <td>1292230</td>\n",
       "      <td>TCONS_00034489</td>\n",
       "      <td>0</td>\n",
       "      <td>+</td>\n",
       "      <td>1263294</td>\n",
       "      <td>1301363</td>\n",
       "      <td>0,0,0</td>\n",
       "      <td>32</td>\n",
       "      <td>11,23,70,22,41,80,39,24,43,11,11,7,4,31,54,132,159,204,185,165,139,156,159,377,116,124,7,24,91,26,27,14,</td>\n",
       "      <td>1263294,1263308,1263352,1263426,1263453,1263506,1263602,1263642,1266824,1266871,1266883,1266894,1266901,1266912,1266943,1267008,1267168,1292567,1292848,1293098,1293407,1298373,1298603,1298828,1300837,1301022,1301159,1301167,1301191,1301292,1301322,1301349,</td>\n",
       "      <td>0</td>\n",
       "      <td>knearest_MS</td>\n",
       "    </tr>\n",
       "  </tbody>\n",
       "</table>\n",
       "</div>"
      ],
      "text/plain": [
       "     SNP_chrom  SNP_start  SNP_end      feature_set_name        chrom  \\\n",
       "0  Scaffold106     349186   349187  official_annotations  Scaffold106   \n",
       "1   Scaffold22    1291804  1291805       novel_mapped_tx   Scaffold22   \n",
       "2   Scaffold22    1291804  1291805       novel_mapped_tx   Scaffold22   \n",
       "3   Scaffold22    1291804  1291805       novel_mapped_tx   Scaffold22   \n",
       "4   Scaffold22    1291804  1291805       novel_mapped_tx   Scaffold22   \n",
       "\n",
       "   chromStart  chromEnd            name  score strand  thickStart  thickEnd  \\\n",
       "0      339112    350126      GFUI002898      0      +      339112    350123   \n",
       "1     1263294   1292230  TCONS_00034486      0      +     1263294   1301363   \n",
       "2     1263294   1292230  TCONS_00034487      0      +     1263294   1301363   \n",
       "3     1263294   1292230  TCONS_00034488      0      +     1263294   1301363   \n",
       "4     1263294   1292230  TCONS_00034489      0      +     1263294   1301363   \n",
       "\n",
       "  itemRgb  blockCount  \\\n",
       "0   0,0,0           6   \n",
       "1   0,0,0          23   \n",
       "2   0,0,0          27   \n",
       "3   0,0,0          23   \n",
       "4   0,0,0          32   \n",
       "\n",
       "                                                                                                 blockSizes  \\\n",
       "0                                                                                      6,123,129,50,252,211   \n",
       "1                             11,23,70,22,41,80,39,24,216,185,165,139,156,159,377,116,124,7,24,91,26,27,14,   \n",
       "2               11,23,70,22,41,80,39,24,15,54,132,159,204,185,165,139,156,159,377,116,124,7,24,91,26,27,14,   \n",
       "3                             11,23,70,22,41,80,39,24,216,185,165,139,156,159,446,116,124,7,24,91,26,27,14,   \n",
       "4  11,23,70,22,41,80,39,24,43,11,11,7,4,31,54,132,159,204,185,165,139,156,159,377,116,124,7,24,91,26,27,14,   \n",
       "\n",
       "                                                                                                                                                                                                                                                        blockStarts  \\\n",
       "0                                                                                                                                                                                                                                       0,1071,5842,6164,8068,10803   \n",
       "1                                                                          1263294,1263308,1263352,1263426,1263453,1263506,1263602,1263642,1292555,1292848,1293098,1293407,1298373,1298603,1298828,1300837,1301022,1301159,1301167,1301191,1301292,1301322,1301349,   \n",
       "2                                          1263294,1263308,1263352,1263426,1263453,1263506,1263602,1263642,1266675,1266943,1267008,1267168,1292567,1292848,1293098,1293407,1298373,1298603,1298828,1300837,1301022,1301159,1301167,1301191,1301292,1301322,1301349,   \n",
       "3                                                                          1263294,1263308,1263352,1263426,1263453,1263506,1263602,1263642,1292555,1292848,1293098,1293407,1298373,1298603,1298828,1300837,1301022,1301159,1301167,1301191,1301292,1301322,1301349,   \n",
       "4  1263294,1263308,1263352,1263426,1263453,1263506,1263602,1263642,1266824,1266871,1266883,1266894,1266901,1266912,1266943,1267008,1267168,1292567,1292848,1293098,1293407,1298373,1298603,1298828,1300837,1301022,1301159,1301167,1301191,1301292,1301322,1301349,   \n",
       "\n",
       "   distance       source  \n",
       "0         0  knearest_MS  \n",
       "1         0  knearest_MS  \n",
       "2         0  knearest_MS  \n",
       "3         0  knearest_MS  \n",
       "4         0  knearest_MS  "
      ]
     },
     "execution_count": 25,
     "metadata": {},
     "output_type": "execute_result"
    }
   ],
   "source": [
    "knearest_combo.head()"
   ]
  },
  {
   "cell_type": "code",
   "execution_count": 26,
   "metadata": {
    "collapsed": true
   },
   "outputs": [],
   "source": [
    "results_ = \"/home/gus/MEGAsync/zim/main/Yale/Collaborations/Hongyu-tsetse/gmm_to_gff_pipeline/pipeline_runs/gmm_to_gff_testing_filterPSL_100bp/snps_near_homologous_de/snps_near_homologous_de_distance_0.csv\"\n",
    "bed_ = \"/home/gus/MEGAsync/zim/main/Yale/Collaborations/Hongyu-tsetse/gmm_to_gff_pipeline/pipeline_prep/produced/Glossina-fuscipes-IAEA_BASEFEATURES_GfusI1.3.sorted.bed\"\n",
    "fanno = \"/run/media/gus/Storage/louise/data/genomes/glossina_fuscipes/annotations/functional/GfusI1.1_pre/argot2_out/argot_functional_annotations_ts150.h5\""
   ]
  },
  {
   "cell_type": "markdown",
   "metadata": {},
   "source": [
    "# Link Templates"
   ]
  },
  {
   "cell_type": "code",
   "execution_count": 27,
   "metadata": {
    "collapsed": true
   },
   "outputs": [],
   "source": [
    "url = \"https://www.vectorbase.org/Glossina_fuscipes/Location/View?r=[chrom]:[left]-[right]\"\n",
    "\n",
    "# Vectorbase Link Templates\n",
    "gene_page          = '''<a href=\"https://www.vectorbase.org/Glossina_fuscipes/Gene/Summary?db=core;g=%(gene_name)s\"> %(gene_name)s: gene home page</a>'''\n",
    "protein_summary    = '''<a href=\"https://www.vectorbase.org/Glossina_fuscipes/Transcript/ProteinSummary?db=core;g=%(gene_name)s\"> %(gene_name)s: protein summary </a>'''\n",
    "gene_region_detail = '''<a href=\"https://www.vectorbase.org/Glossina_fuscipes/Location/View?db=core;g=%(gene_name)s;r\"> %(gene_name)s: genome browser </a>'''\n",
    "gene_ontology_bp   = '''<a href=\"https://www.vectorbase.org/Glossina_fuscipes/Transcript/Ontology/biological_process?db=core;g=%(gene_name)s;oid=biological_process\"> %(gene_name)s: GO: biological process </a>'''\n",
    "gene_ontology_cp   = '''<a href=\"https://www.vectorbase.org/Glossina_fuscipes/Transcript/Ontology/cellular_component?db=core;g=%(gene_name)s;oid=cellular_component\"> %(gene_name)s: GO: cellular component </a>'''\n",
    "gene_ontology_mf   = '''<a href=\"https://www.vectorbase.org/Glossina_fuscipes/Transcript/Ontology/molecular_function?db=core;g=%(gene_name)s;oid=molecular_function\"> %(gene_name)s: GO: molecular function </a>'''"
   ]
  },
  {
   "cell_type": "markdown",
   "metadata": {},
   "source": [
    "# Functions"
   ]
  },
  {
   "cell_type": "code",
   "execution_count": 28,
   "metadata": {
    "collapsed": true
   },
   "outputs": [],
   "source": [
    "def create_multiindex(df, levels, data_cols=None):\n",
    "    \n",
    "    # select data columns\n",
    "    if data_cols is None:\n",
    "        mi = df[[c for c in data.columns if c not in levels]].copy()\n",
    "    else:\n",
    "        assert isinstance(data_cols, list)\n",
    "        mi = df[data_cols]\n",
    "    \n",
    "    # get multiindex values\n",
    "    indexes = [df[i].copy() for i in levels]\n",
    "    \n",
    "    # add new indexes to data\n",
    "    mi.index = indexes\n",
    "    \n",
    "    return mi\n",
    "\n",
    "\n",
    "\n",
    "\n",
    "bed_headers = [\"chrom\",\n",
    "               \"chromStart\",\n",
    "               \"chromEnd\",\n",
    "               \"name\",\n",
    "               \"score\",\n",
    "               \"strand\",\n",
    "               \"thickStart\",\n",
    "               \"thickEnd\",\n",
    "               \"itemRgb\",\n",
    "               \"blockCount\",\n",
    "               \"blockSizes\",\n",
    "               \"blockStarts\"]\n",
    "\n",
    "\n",
    "def add_url_col(results, url, bed, bed_headers):\n",
    "    \"\"\"Add url column to results df.\"\"\"\n",
    "    print(\"begun adding urls.\")\n",
    "    # correct the templating of the url required by snakemake interpreting it as wildcards\n",
    "    url = url.replace(\"[chrom]\",\"{chrom}\").replace(\"[left]\",\"{left}\").replace(\"[right]\",\"{right}\")\n",
    "\n",
    "    bed = pd.read_csv(bed, sep='\\t',names=bed_headers)[[\"chrom\", \"chromStart\", \"chromEnd\", \"name\"]]\n",
    "    bed = bed.rename(columns={\"name\":\"gene_id_internal\"})\n",
    "\n",
    "    combo = pd.merge(left=results, right=bed, how='inner',\n",
    "                     on=\"gene_id_internal\", left_on=None, right_on=None)\n",
    "\n",
    "    # count_cols = ['chromStart','chromEnd','SNP_start','SNP_end']\n",
    "    combo['left'] = combo.apply(lambda row: min(row[['chromStart','chromEnd','SNP_start','SNP_end']]), axis=1)\n",
    "    combo['right'] = combo.apply(lambda row: max(row[['chromStart','chromEnd','SNP_start','SNP_end']]), axis=1)\n",
    "    combo['url'] = combo.apply(lambda row: url.format(chrom=row[\"chrom\"],left=row[\"left\"],right=row[\"right\"]), axis=1)\n",
    "\n",
    "    results = pd.merge(left=results, right=combo[[\"gene_id_internal\",\"url\"]], how='inner',\n",
    "                     on=\"gene_id_internal\", left_on=None, right_on=None)\n",
    "\n",
    "    return results.drop_duplicates()"
   ]
  },
  {
   "cell_type": "code",
   "execution_count": 29,
   "metadata": {
    "collapsed": false
   },
   "outputs": [],
   "source": [
    "class ListTable(list):\n",
    "    \"\"\" Overridden list class which takes a 2-dimensional list of \n",
    "        the form [[1,2,3],[4,5,6]], and renders an HTML Table in \n",
    "        IPython Notebook. \"\"\"\n",
    "    \n",
    "    def _repr_html_(self):\n",
    "        html = [\"<table>\"]\n",
    "        for index, row in enumerate(self):\n",
    "            html.append(\"<tr>\")\n",
    "            \n",
    "            for col in row:\n",
    "                # if header, format as such\n",
    "                if index == 0:\n",
    "                    html.append(\"<th>{0}</th>\".format(col))\n",
    "                else:\n",
    "                    html.append(\"<td>{0}</td>\".format(col))\n",
    "            \n",
    "            html.append(\"</tr>\")\n",
    "        html.append(\"</table>\")\n",
    "        return ''.join(html)\n",
    "\n",
    "def present_gene(gene_name, snp_coords, argot_df):\n",
    "    fset = ','.join(list(snp_coords.query(\"\"\" gene_id_internal == '{gene}' \"\"\".format(gene=gene)).feature_set_name.values))\n",
    "    display(HTML(\"<h2>{gene}({fset})</h2>\".format(fset=fset,gene=gene_name)))\n",
    "    \n",
    "    nearby_snps = list(snp_coords.query(\"\"\" gene_id_internal == '{gene}' \"\"\".format(gene=gene)).snp_str.values)\n",
    "    display(HTML(\"<b>SNPs:</b><br>%s<br>\" % (\"<br>\".join(nearby_snps))))\n",
    "    \n",
    "    display(gene_table(gene_name=gene_name,\n",
    "                       argot_df=argot_df,\n",
    "                       tscore=200))\n",
    "    \n",
    "    display(HTML(\"<p>\"))\n",
    "    display(vb_link(gene_name=gene_name, link_template=gene_page))\n",
    "    display(vb_link(gene_name=gene_name, link_template=protein_summary))\n",
    "    display(vb_link(gene_name=gene_name, link_template=gene_region_detail))\n",
    "    display(vb_link(gene_name=gene_name, link_template=gene_ontology_bp))\n",
    "    display(vb_link(gene_name=gene_name, link_template=gene_ontology_cp))\n",
    "    display(vb_link(gene_name=gene_name, link_template=gene_ontology_mf))\n",
    "    display(HTML(\"<hr>\"))"
   ]
  },
  {
   "cell_type": "code",
   "execution_count": 30,
   "metadata": {
    "collapsed": true
   },
   "outputs": [],
   "source": [
    "def filter_by_gene(gene, argot_df):\n",
    "    return argot_df[argot_df.Sequence.str.startswith(gene)]\n",
    "\n",
    "def sort_by_TS(argot_df):\n",
    "    return argot_df.sort_values(by='Total Score', ascending=0)\n",
    "\n",
    "def filter_by_TS(tscore, argot_df):\n",
    "    return argot_df[argot_df[\"Total Score\"] >= tscore]\n",
    "\n",
    "def gene_table(gene_name, argot_df, tscore):\n",
    "    return sort_by_TS(filter_by_TS(tscore, filter_by_gene(gene_name, argot_df)))\n",
    "\n",
    "def vb_link(gene_name, link_template):\n",
    "    return HTML(link_template % dict(gene_name=gene_name))\n",
    "\n",
    "def format_snps(snp_df):\n",
    "    snp_line = \"{chrom}:{end}\"\n",
    "    \n",
    "    snp_df['snp_str'] = snp_df.apply(lambda row: snp_line.format(chrom=row.SNP_chrom, end=row.SNP_end), axis=1)"
   ]
  },
  {
   "cell_type": "markdown",
   "metadata": {},
   "source": [
    "# Load inputs"
   ]
  },
  {
   "cell_type": "code",
   "execution_count": 54,
   "metadata": {
    "collapsed": false
   },
   "outputs": [],
   "source": [
    "data = knearest_combo.query(\"\"\" feature_set_name == 'official_annotations' \"\"\").copy()\n",
    "# data.head()"
   ]
  },
  {
   "cell_type": "code",
   "execution_count": 56,
   "metadata": {
    "collapsed": false
   },
   "outputs": [],
   "source": [
    "data['SNP_id'] = data.apply(lambda row: '{chrom}:{end}'.format(chrom=row.SNP_chrom, end=row.SNP_end), axis=1)\n",
    "data = data.rename(columns={\"name\": \"gene_id_internal\"})"
   ]
  },
  {
   "cell_type": "code",
   "execution_count": 57,
   "metadata": {
    "collapsed": false
   },
   "outputs": [
    {
     "data": {
      "text/html": [
       "<div>\n",
       "<table border=\"1\" class=\"dataframe\">\n",
       "  <thead>\n",
       "    <tr style=\"text-align: right;\">\n",
       "      <th></th>\n",
       "      <th>SNP_chrom</th>\n",
       "      <th>SNP_start</th>\n",
       "      <th>SNP_end</th>\n",
       "      <th>feature_set_name</th>\n",
       "      <th>chrom</th>\n",
       "      <th>chromStart</th>\n",
       "      <th>chromEnd</th>\n",
       "      <th>gene_id_internal</th>\n",
       "      <th>score</th>\n",
       "      <th>strand</th>\n",
       "      <th>thickStart</th>\n",
       "      <th>thickEnd</th>\n",
       "      <th>itemRgb</th>\n",
       "      <th>blockCount</th>\n",
       "      <th>blockSizes</th>\n",
       "      <th>blockStarts</th>\n",
       "      <th>distance</th>\n",
       "      <th>source</th>\n",
       "      <th>SNP_id</th>\n",
       "    </tr>\n",
       "  </thead>\n",
       "  <tbody>\n",
       "    <tr>\n",
       "      <th>0</th>\n",
       "      <td>Scaffold106</td>\n",
       "      <td>349186</td>\n",
       "      <td>349187</td>\n",
       "      <td>official_annotations</td>\n",
       "      <td>Scaffold106</td>\n",
       "      <td>339112</td>\n",
       "      <td>350126</td>\n",
       "      <td>GFUI002898</td>\n",
       "      <td>0</td>\n",
       "      <td>+</td>\n",
       "      <td>339112</td>\n",
       "      <td>350123</td>\n",
       "      <td>0,0,0</td>\n",
       "      <td>6</td>\n",
       "      <td>6,123,129,50,252,211</td>\n",
       "      <td>0,1071,5842,6164,8068,10803</td>\n",
       "      <td>0</td>\n",
       "      <td>knearest_MS</td>\n",
       "      <td>Scaffold106:349187</td>\n",
       "    </tr>\n",
       "    <tr>\n",
       "      <th>17</th>\n",
       "      <td>Scaffold27</td>\n",
       "      <td>959994</td>\n",
       "      <td>959995</td>\n",
       "      <td>official_annotations</td>\n",
       "      <td>Scaffold27</td>\n",
       "      <td>930934</td>\n",
       "      <td>962675</td>\n",
       "      <td>GFUI021833</td>\n",
       "      <td>0</td>\n",
       "      <td>+</td>\n",
       "      <td>930934</td>\n",
       "      <td>945628</td>\n",
       "      <td>0,0,0</td>\n",
       "      <td>4</td>\n",
       "      <td>1660,505,625,17896</td>\n",
       "      <td>0,8012,12986,13845</td>\n",
       "      <td>0</td>\n",
       "      <td>knearest_MS</td>\n",
       "      <td>Scaffold27:959995</td>\n",
       "    </tr>\n",
       "    <tr>\n",
       "      <th>18</th>\n",
       "      <td>Scaffold3</td>\n",
       "      <td>2235177</td>\n",
       "      <td>2235178</td>\n",
       "      <td>official_annotations</td>\n",
       "      <td>Scaffold3</td>\n",
       "      <td>2226587</td>\n",
       "      <td>2245585</td>\n",
       "      <td>GFUI030827</td>\n",
       "      <td>0</td>\n",
       "      <td>-</td>\n",
       "      <td>2226590</td>\n",
       "      <td>2245585</td>\n",
       "      <td>0,0,0</td>\n",
       "      <td>6</td>\n",
       "      <td>36,163,268,64,94,20</td>\n",
       "      <td>0,385,13446,14863,15521,18978</td>\n",
       "      <td>0</td>\n",
       "      <td>knearest_MS</td>\n",
       "      <td>Scaffold3:2235178</td>\n",
       "    </tr>\n",
       "    <tr>\n",
       "      <th>0</th>\n",
       "      <td>Scaffold137</td>\n",
       "      <td>615406</td>\n",
       "      <td>615407</td>\n",
       "      <td>official_annotations</td>\n",
       "      <td>Scaffold137</td>\n",
       "      <td>608555</td>\n",
       "      <td>619673</td>\n",
       "      <td>GFUI007441</td>\n",
       "      <td>0</td>\n",
       "      <td>-</td>\n",
       "      <td>616231</td>\n",
       "      <td>619281</td>\n",
       "      <td>0,0,0</td>\n",
       "      <td>8</td>\n",
       "      <td>381,467,63,2563,395,179,401,69</td>\n",
       "      <td>0,443,1949,7066,9702,10161,10409,11049</td>\n",
       "      <td>0</td>\n",
       "      <td>knearest_ALL</td>\n",
       "      <td>Scaffold137:615407</td>\n",
       "    </tr>\n",
       "    <tr>\n",
       "      <th>1</th>\n",
       "      <td>Scaffold144</td>\n",
       "      <td>593215</td>\n",
       "      <td>593216</td>\n",
       "      <td>official_annotations</td>\n",
       "      <td>Scaffold144</td>\n",
       "      <td>567694</td>\n",
       "      <td>601114</td>\n",
       "      <td>GFUI008496</td>\n",
       "      <td>0</td>\n",
       "      <td>-</td>\n",
       "      <td>567697</td>\n",
       "      <td>601114</td>\n",
       "      <td>0,0,0</td>\n",
       "      <td>9</td>\n",
       "      <td>102,38,65,50,73,129,114,7,61</td>\n",
       "      <td>0,744,3289,7045,13662,15174,27631,29146,33359</td>\n",
       "      <td>0</td>\n",
       "      <td>knearest_ALL</td>\n",
       "      <td>Scaffold144:593216</td>\n",
       "    </tr>\n",
       "  </tbody>\n",
       "</table>\n",
       "</div>"
      ],
      "text/plain": [
       "      SNP_chrom  SNP_start  SNP_end      feature_set_name        chrom  \\\n",
       "0   Scaffold106     349186   349187  official_annotations  Scaffold106   \n",
       "17   Scaffold27     959994   959995  official_annotations   Scaffold27   \n",
       "18    Scaffold3    2235177  2235178  official_annotations    Scaffold3   \n",
       "0   Scaffold137     615406   615407  official_annotations  Scaffold137   \n",
       "1   Scaffold144     593215   593216  official_annotations  Scaffold144   \n",
       "\n",
       "    chromStart  chromEnd gene_id_internal  score strand  thickStart  thickEnd  \\\n",
       "0       339112    350126       GFUI002898      0      +      339112    350123   \n",
       "17      930934    962675       GFUI021833      0      +      930934    945628   \n",
       "18     2226587   2245585       GFUI030827      0      -     2226590   2245585   \n",
       "0       608555    619673       GFUI007441      0      -      616231    619281   \n",
       "1       567694    601114       GFUI008496      0      -      567697    601114   \n",
       "\n",
       "   itemRgb  blockCount                      blockSizes  \\\n",
       "0    0,0,0           6            6,123,129,50,252,211   \n",
       "17   0,0,0           4              1660,505,625,17896   \n",
       "18   0,0,0           6             36,163,268,64,94,20   \n",
       "0    0,0,0           8  381,467,63,2563,395,179,401,69   \n",
       "1    0,0,0           9    102,38,65,50,73,129,114,7,61   \n",
       "\n",
       "                                      blockStarts  distance        source  \\\n",
       "0                     0,1071,5842,6164,8068,10803         0   knearest_MS   \n",
       "17                             0,8012,12986,13845         0   knearest_MS   \n",
       "18                  0,385,13446,14863,15521,18978         0   knearest_MS   \n",
       "0          0,443,1949,7066,9702,10161,10409,11049         0  knearest_ALL   \n",
       "1   0,744,3289,7045,13662,15174,27631,29146,33359         0  knearest_ALL   \n",
       "\n",
       "                SNP_id  \n",
       "0   Scaffold106:349187  \n",
       "17   Scaffold27:959995  \n",
       "18   Scaffold3:2235178  \n",
       "0   Scaffold137:615407  \n",
       "1   Scaffold144:593216  "
      ]
     },
     "execution_count": 57,
     "metadata": {},
     "output_type": "execute_result"
    }
   ],
   "source": [
    "data.head()"
   ]
  },
  {
   "cell_type": "markdown",
   "metadata": {},
   "source": [
    "# Functional inference"
   ]
  },
  {
   "cell_type": "code",
   "execution_count": 58,
   "metadata": {
    "collapsed": true
   },
   "outputs": [],
   "source": [
    "argot2 = pd.read_hdf(path_or_buf=fanno, key='dataframe')"
   ]
  },
  {
   "cell_type": "code",
   "execution_count": 59,
   "metadata": {
    "collapsed": false,
    "scrolled": true
   },
   "outputs": [
    {
     "data": {
      "text/html": [
       "<div>\n",
       "<table border=\"1\" class=\"dataframe\">\n",
       "  <thead>\n",
       "    <tr style=\"text-align: right;\">\n",
       "      <th></th>\n",
       "      <th>Sequence</th>\n",
       "      <th>Aspect</th>\n",
       "      <th>GO ID</th>\n",
       "      <th>Name</th>\n",
       "      <th>Total Score</th>\n",
       "      <th>Internal Confidence</th>\n",
       "      <th>Information Content</th>\n",
       "    </tr>\n",
       "  </thead>\n",
       "  <tbody>\n",
       "    <tr>\n",
       "      <th>0</th>\n",
       "      <td>GFUI034947-PA</td>\n",
       "      <td>P</td>\n",
       "      <td>GO:0006508</td>\n",
       "      <td>proteolysis</td>\n",
       "      <td>270.313447</td>\n",
       "      <td>0.496543</td>\n",
       "      <td>8.247696</td>\n",
       "    </tr>\n",
       "    <tr>\n",
       "      <th>1</th>\n",
       "      <td>GFUI035874-PA</td>\n",
       "      <td>F</td>\n",
       "      <td>GO:0005515</td>\n",
       "      <td>protein binding</td>\n",
       "      <td>529.038456</td>\n",
       "      <td>0.500000</td>\n",
       "      <td>5.471582</td>\n",
       "    </tr>\n",
       "    <tr>\n",
       "      <th>2</th>\n",
       "      <td>GFUI033625-PA</td>\n",
       "      <td>P</td>\n",
       "      <td>GO:0005980</td>\n",
       "      <td>glycogen catabolic process</td>\n",
       "      <td>307.758251</td>\n",
       "      <td>0.284597</td>\n",
       "      <td>13.424450</td>\n",
       "    </tr>\n",
       "    <tr>\n",
       "      <th>3</th>\n",
       "      <td>GFUI033625-PA</td>\n",
       "      <td>F</td>\n",
       "      <td>GO:0004134</td>\n",
       "      <td>4-alpha-glucanotransferase activity</td>\n",
       "      <td>159.513252</td>\n",
       "      <td>0.177063</td>\n",
       "      <td>10.153643</td>\n",
       "    </tr>\n",
       "    <tr>\n",
       "      <th>4</th>\n",
       "      <td>GFUI033625-PA</td>\n",
       "      <td>F</td>\n",
       "      <td>GO:0004135</td>\n",
       "      <td>amylo-alpha-1,6-glucosidase activity</td>\n",
       "      <td>184.352303</td>\n",
       "      <td>0.177063</td>\n",
       "      <td>11.734746</td>\n",
       "    </tr>\n",
       "  </tbody>\n",
       "</table>\n",
       "</div>"
      ],
      "text/plain": [
       "        Sequence Aspect       GO ID                                  Name  \\\n",
       "0  GFUI034947-PA      P  GO:0006508                           proteolysis   \n",
       "1  GFUI035874-PA      F  GO:0005515                       protein binding   \n",
       "2  GFUI033625-PA      P  GO:0005980            glycogen catabolic process   \n",
       "3  GFUI033625-PA      F  GO:0004134   4-alpha-glucanotransferase activity   \n",
       "4  GFUI033625-PA      F  GO:0004135  amylo-alpha-1,6-glucosidase activity   \n",
       "\n",
       "   Total Score  Internal Confidence  Information Content  \n",
       "0   270.313447             0.496543             8.247696  \n",
       "1   529.038456             0.500000             5.471582  \n",
       "2   307.758251             0.284597            13.424450  \n",
       "3   159.513252             0.177063            10.153643  \n",
       "4   184.352303             0.177063            11.734746  "
      ]
     },
     "execution_count": 59,
     "metadata": {},
     "output_type": "execute_result"
    }
   ],
   "source": [
    "argot2.head()"
   ]
  },
  {
   "cell_type": "code",
   "execution_count": 66,
   "metadata": {
    "collapsed": false
   },
   "outputs": [],
   "source": [
    "snp_coords = data[[\"SNP_chrom\",\"SNP_start\",\"SNP_end\",\"gene_id_internal\",\"feature_set_name\"]].drop_duplicates()"
   ]
  },
  {
   "cell_type": "code",
   "execution_count": 67,
   "metadata": {
    "collapsed": false
   },
   "outputs": [],
   "source": [
    "# snp_coords"
   ]
  },
  {
   "cell_type": "code",
   "execution_count": 68,
   "metadata": {
    "collapsed": false
   },
   "outputs": [],
   "source": [
    "format_snps(snp_coords)\n",
    "# snp_coords"
   ]
  },
  {
   "cell_type": "code",
   "execution_count": 69,
   "metadata": {
    "collapsed": false
   },
   "outputs": [
    {
     "data": {
      "text/html": [
       "<div>\n",
       "<table border=\"1\" class=\"dataframe\">\n",
       "  <thead>\n",
       "    <tr style=\"text-align: right;\">\n",
       "      <th></th>\n",
       "      <th>SNP_chrom</th>\n",
       "      <th>SNP_start</th>\n",
       "      <th>SNP_end</th>\n",
       "      <th>gene_id_internal</th>\n",
       "      <th>feature_set_name</th>\n",
       "      <th>snp_str</th>\n",
       "    </tr>\n",
       "  </thead>\n",
       "  <tbody>\n",
       "    <tr>\n",
       "      <th>0</th>\n",
       "      <td>Scaffold106</td>\n",
       "      <td>349186</td>\n",
       "      <td>349187</td>\n",
       "      <td>GFUI002898</td>\n",
       "      <td>official_annotations</td>\n",
       "      <td>Scaffold106:349187</td>\n",
       "    </tr>\n",
       "    <tr>\n",
       "      <th>17</th>\n",
       "      <td>Scaffold27</td>\n",
       "      <td>959994</td>\n",
       "      <td>959995</td>\n",
       "      <td>GFUI021833</td>\n",
       "      <td>official_annotations</td>\n",
       "      <td>Scaffold27:959995</td>\n",
       "    </tr>\n",
       "    <tr>\n",
       "      <th>18</th>\n",
       "      <td>Scaffold3</td>\n",
       "      <td>2235177</td>\n",
       "      <td>2235178</td>\n",
       "      <td>GFUI030827</td>\n",
       "      <td>official_annotations</td>\n",
       "      <td>Scaffold3:2235178</td>\n",
       "    </tr>\n",
       "    <tr>\n",
       "      <th>0</th>\n",
       "      <td>Scaffold137</td>\n",
       "      <td>615406</td>\n",
       "      <td>615407</td>\n",
       "      <td>GFUI007441</td>\n",
       "      <td>official_annotations</td>\n",
       "      <td>Scaffold137:615407</td>\n",
       "    </tr>\n",
       "    <tr>\n",
       "      <th>1</th>\n",
       "      <td>Scaffold144</td>\n",
       "      <td>593215</td>\n",
       "      <td>593216</td>\n",
       "      <td>GFUI008496</td>\n",
       "      <td>official_annotations</td>\n",
       "      <td>Scaffold144:593216</td>\n",
       "    </tr>\n",
       "    <tr>\n",
       "      <th>2</th>\n",
       "      <td>Scaffold175</td>\n",
       "      <td>347131</td>\n",
       "      <td>347132</td>\n",
       "      <td>GFUI011907</td>\n",
       "      <td>official_annotations</td>\n",
       "      <td>Scaffold175:347132</td>\n",
       "    </tr>\n",
       "    <tr>\n",
       "      <th>7</th>\n",
       "      <td>Scaffold33</td>\n",
       "      <td>1387925</td>\n",
       "      <td>1387926</td>\n",
       "      <td>GFUI026687</td>\n",
       "      <td>official_annotations</td>\n",
       "      <td>Scaffold33:1387926</td>\n",
       "    </tr>\n",
       "    <tr>\n",
       "      <th>8</th>\n",
       "      <td>Scaffold48</td>\n",
       "      <td>1013372</td>\n",
       "      <td>1013373</td>\n",
       "      <td>GFUI035780</td>\n",
       "      <td>official_annotations</td>\n",
       "      <td>Scaffold48:1013373</td>\n",
       "    </tr>\n",
       "    <tr>\n",
       "      <th>9</th>\n",
       "      <td>Scaffold8</td>\n",
       "      <td>1744225</td>\n",
       "      <td>1744226</td>\n",
       "      <td>GFUI051070</td>\n",
       "      <td>official_annotations</td>\n",
       "      <td>Scaffold8:1744226</td>\n",
       "    </tr>\n",
       "    <tr>\n",
       "      <th>0</th>\n",
       "      <td>Scaffold102</td>\n",
       "      <td>330091</td>\n",
       "      <td>330092</td>\n",
       "      <td>GFUI002233</td>\n",
       "      <td>official_annotations</td>\n",
       "      <td>Scaffold102:330092</td>\n",
       "    </tr>\n",
       "    <tr>\n",
       "      <th>1</th>\n",
       "      <td>Scaffold102</td>\n",
       "      <td>398873</td>\n",
       "      <td>398874</td>\n",
       "      <td>GFUI002252</td>\n",
       "      <td>official_annotations</td>\n",
       "      <td>Scaffold102:398874</td>\n",
       "    </tr>\n",
       "    <tr>\n",
       "      <th>2</th>\n",
       "      <td>Scaffold107</td>\n",
       "      <td>284001</td>\n",
       "      <td>284002</td>\n",
       "      <td>GFUI003051</td>\n",
       "      <td>official_annotations</td>\n",
       "      <td>Scaffold107:284002</td>\n",
       "    </tr>\n",
       "    <tr>\n",
       "      <th>3</th>\n",
       "      <td>Scaffold13</td>\n",
       "      <td>1603124</td>\n",
       "      <td>1603125</td>\n",
       "      <td>GFUI007952</td>\n",
       "      <td>official_annotations</td>\n",
       "      <td>Scaffold13:1603125</td>\n",
       "    </tr>\n",
       "    <tr>\n",
       "      <th>14</th>\n",
       "      <td>Scaffold16</td>\n",
       "      <td>74446</td>\n",
       "      <td>74447</td>\n",
       "      <td>GFUI011180</td>\n",
       "      <td>official_annotations</td>\n",
       "      <td>Scaffold16:74447</td>\n",
       "    </tr>\n",
       "    <tr>\n",
       "      <th>15</th>\n",
       "      <td>Scaffold17</td>\n",
       "      <td>948301</td>\n",
       "      <td>948302</td>\n",
       "      <td>GFUI012390</td>\n",
       "      <td>official_annotations</td>\n",
       "      <td>Scaffold17:948302</td>\n",
       "    </tr>\n",
       "    <tr>\n",
       "      <th>16</th>\n",
       "      <td>Scaffold2</td>\n",
       "      <td>1600827</td>\n",
       "      <td>1600828</td>\n",
       "      <td>GFUI023675</td>\n",
       "      <td>official_annotations</td>\n",
       "      <td>Scaffold2:1600828</td>\n",
       "    </tr>\n",
       "    <tr>\n",
       "      <th>17</th>\n",
       "      <td>Scaffold33</td>\n",
       "      <td>120811</td>\n",
       "      <td>120812</td>\n",
       "      <td>GFUI026464</td>\n",
       "      <td>official_annotations</td>\n",
       "      <td>Scaffold33:120812</td>\n",
       "    </tr>\n",
       "    <tr>\n",
       "      <th>18</th>\n",
       "      <td>Scaffold40</td>\n",
       "      <td>697326</td>\n",
       "      <td>697327</td>\n",
       "      <td>GFUI031364</td>\n",
       "      <td>official_annotations</td>\n",
       "      <td>Scaffold40:697327</td>\n",
       "    </tr>\n",
       "    <tr>\n",
       "      <th>19</th>\n",
       "      <td>Scaffold5</td>\n",
       "      <td>2342537</td>\n",
       "      <td>2342538</td>\n",
       "      <td>GFUI041241</td>\n",
       "      <td>official_annotations</td>\n",
       "      <td>Scaffold5:2342538</td>\n",
       "    </tr>\n",
       "    <tr>\n",
       "      <th>24</th>\n",
       "      <td>Scaffold9</td>\n",
       "      <td>2033836</td>\n",
       "      <td>2033837</td>\n",
       "      <td>GFUI053502</td>\n",
       "      <td>official_annotations</td>\n",
       "      <td>Scaffold9:2033837</td>\n",
       "    </tr>\n",
       "    <tr>\n",
       "      <th>0</th>\n",
       "      <td>Scaffold101</td>\n",
       "      <td>665772</td>\n",
       "      <td>665773</td>\n",
       "      <td>GFUI002104</td>\n",
       "      <td>official_annotations</td>\n",
       "      <td>Scaffold101:665773</td>\n",
       "    </tr>\n",
       "    <tr>\n",
       "      <th>1</th>\n",
       "      <td>Scaffold19</td>\n",
       "      <td>1333945</td>\n",
       "      <td>1333946</td>\n",
       "      <td>GFUI014494</td>\n",
       "      <td>official_annotations</td>\n",
       "      <td>Scaffold19:1333946</td>\n",
       "    </tr>\n",
       "    <tr>\n",
       "      <th>2</th>\n",
       "      <td>Scaffold2</td>\n",
       "      <td>2206336</td>\n",
       "      <td>2206337</td>\n",
       "      <td>GFUI023751</td>\n",
       "      <td>official_annotations</td>\n",
       "      <td>Scaffold2:2206337</td>\n",
       "    </tr>\n",
       "    <tr>\n",
       "      <th>4</th>\n",
       "      <td>Scaffold268</td>\n",
       "      <td>383221</td>\n",
       "      <td>383222</td>\n",
       "      <td>GFUI020790</td>\n",
       "      <td>official_annotations</td>\n",
       "      <td>Scaffold268:383222</td>\n",
       "    </tr>\n",
       "    <tr>\n",
       "      <th>6</th>\n",
       "      <td>Scaffold64</td>\n",
       "      <td>729351</td>\n",
       "      <td>729352</td>\n",
       "      <td>GFUI043027</td>\n",
       "      <td>official_annotations</td>\n",
       "      <td>Scaffold64:729352</td>\n",
       "    </tr>\n",
       "    <tr>\n",
       "      <th>7</th>\n",
       "      <td>Scaffold66</td>\n",
       "      <td>864865</td>\n",
       "      <td>864866</td>\n",
       "      <td>GFUI043720</td>\n",
       "      <td>official_annotations</td>\n",
       "      <td>Scaffold66:864866</td>\n",
       "    </tr>\n",
       "    <tr>\n",
       "      <th>8</th>\n",
       "      <td>Scaffold9</td>\n",
       "      <td>1360707</td>\n",
       "      <td>1360708</td>\n",
       "      <td>GFUI053401</td>\n",
       "      <td>official_annotations</td>\n",
       "      <td>Scaffold9:1360708</td>\n",
       "    </tr>\n",
       "  </tbody>\n",
       "</table>\n",
       "</div>"
      ],
      "text/plain": [
       "      SNP_chrom  SNP_start  SNP_end gene_id_internal      feature_set_name  \\\n",
       "0   Scaffold106     349186   349187       GFUI002898  official_annotations   \n",
       "17   Scaffold27     959994   959995       GFUI021833  official_annotations   \n",
       "18    Scaffold3    2235177  2235178       GFUI030827  official_annotations   \n",
       "0   Scaffold137     615406   615407       GFUI007441  official_annotations   \n",
       "1   Scaffold144     593215   593216       GFUI008496  official_annotations   \n",
       "2   Scaffold175     347131   347132       GFUI011907  official_annotations   \n",
       "7    Scaffold33    1387925  1387926       GFUI026687  official_annotations   \n",
       "8    Scaffold48    1013372  1013373       GFUI035780  official_annotations   \n",
       "9     Scaffold8    1744225  1744226       GFUI051070  official_annotations   \n",
       "0   Scaffold102     330091   330092       GFUI002233  official_annotations   \n",
       "1   Scaffold102     398873   398874       GFUI002252  official_annotations   \n",
       "2   Scaffold107     284001   284002       GFUI003051  official_annotations   \n",
       "3    Scaffold13    1603124  1603125       GFUI007952  official_annotations   \n",
       "14   Scaffold16      74446    74447       GFUI011180  official_annotations   \n",
       "15   Scaffold17     948301   948302       GFUI012390  official_annotations   \n",
       "16    Scaffold2    1600827  1600828       GFUI023675  official_annotations   \n",
       "17   Scaffold33     120811   120812       GFUI026464  official_annotations   \n",
       "18   Scaffold40     697326   697327       GFUI031364  official_annotations   \n",
       "19    Scaffold5    2342537  2342538       GFUI041241  official_annotations   \n",
       "24    Scaffold9    2033836  2033837       GFUI053502  official_annotations   \n",
       "0   Scaffold101     665772   665773       GFUI002104  official_annotations   \n",
       "1    Scaffold19    1333945  1333946       GFUI014494  official_annotations   \n",
       "2     Scaffold2    2206336  2206337       GFUI023751  official_annotations   \n",
       "4   Scaffold268     383221   383222       GFUI020790  official_annotations   \n",
       "6    Scaffold64     729351   729352       GFUI043027  official_annotations   \n",
       "7    Scaffold66     864865   864866       GFUI043720  official_annotations   \n",
       "8     Scaffold9    1360707  1360708       GFUI053401  official_annotations   \n",
       "\n",
       "               snp_str  \n",
       "0   Scaffold106:349187  \n",
       "17   Scaffold27:959995  \n",
       "18   Scaffold3:2235178  \n",
       "0   Scaffold137:615407  \n",
       "1   Scaffold144:593216  \n",
       "2   Scaffold175:347132  \n",
       "7   Scaffold33:1387926  \n",
       "8   Scaffold48:1013373  \n",
       "9    Scaffold8:1744226  \n",
       "0   Scaffold102:330092  \n",
       "1   Scaffold102:398874  \n",
       "2   Scaffold107:284002  \n",
       "3   Scaffold13:1603125  \n",
       "14    Scaffold16:74447  \n",
       "15   Scaffold17:948302  \n",
       "16   Scaffold2:1600828  \n",
       "17   Scaffold33:120812  \n",
       "18   Scaffold40:697327  \n",
       "19   Scaffold5:2342538  \n",
       "24   Scaffold9:2033837  \n",
       "0   Scaffold101:665773  \n",
       "1   Scaffold19:1333946  \n",
       "2    Scaffold2:2206337  \n",
       "4   Scaffold268:383222  \n",
       "6    Scaffold64:729352  \n",
       "7    Scaffold66:864866  \n",
       "8    Scaffold9:1360708  "
      ]
     },
     "execution_count": 69,
     "metadata": {},
     "output_type": "execute_result"
    }
   ],
   "source": [
    "snp_coords"
   ]
  },
  {
   "cell_type": "code",
   "execution_count": 70,
   "metadata": {
    "collapsed": false,
    "scrolled": false
   },
   "outputs": [
    {
     "data": {
      "text/html": [
       "<h2>GFUI002104(official_annotations)</h2>"
      ],
      "text/plain": [
       "<IPython.core.display.HTML object>"
      ]
     },
     "metadata": {},
     "output_type": "display_data"
    },
    {
     "data": {
      "text/html": [
       "<b>SNPs:</b><br>Scaffold101:665773<br>"
      ],
      "text/plain": [
       "<IPython.core.display.HTML object>"
      ]
     },
     "metadata": {},
     "output_type": "display_data"
    },
    {
     "data": {
      "text/html": [
       "<div>\n",
       "<table border=\"1\" class=\"dataframe\">\n",
       "  <thead>\n",
       "    <tr style=\"text-align: right;\">\n",
       "      <th></th>\n",
       "      <th>Sequence</th>\n",
       "      <th>Aspect</th>\n",
       "      <th>GO ID</th>\n",
       "      <th>Name</th>\n",
       "      <th>Total Score</th>\n",
       "      <th>Internal Confidence</th>\n",
       "      <th>Information Content</th>\n",
       "    </tr>\n",
       "  </thead>\n",
       "  <tbody>\n",
       "  </tbody>\n",
       "</table>\n",
       "</div>"
      ],
      "text/plain": [
       "Empty DataFrame\n",
       "Columns: [Sequence, Aspect, GO ID, Name, Total Score, Internal Confidence, Information Content]\n",
       "Index: []"
      ]
     },
     "metadata": {},
     "output_type": "display_data"
    },
    {
     "data": {
      "text/html": [
       "<p>"
      ],
      "text/plain": [
       "<IPython.core.display.HTML object>"
      ]
     },
     "metadata": {},
     "output_type": "display_data"
    },
    {
     "data": {
      "text/html": [
       "<a href=\"https://www.vectorbase.org/Glossina_fuscipes/Gene/Summary?db=core;g=GFUI002104\"> GFUI002104: gene home page</a>"
      ],
      "text/plain": [
       "<IPython.core.display.HTML object>"
      ]
     },
     "metadata": {},
     "output_type": "display_data"
    },
    {
     "data": {
      "text/html": [
       "<a href=\"https://www.vectorbase.org/Glossina_fuscipes/Transcript/ProteinSummary?db=core;g=GFUI002104\"> GFUI002104: protein summary </a>"
      ],
      "text/plain": [
       "<IPython.core.display.HTML object>"
      ]
     },
     "metadata": {},
     "output_type": "display_data"
    },
    {
     "data": {
      "text/html": [
       "<a href=\"https://www.vectorbase.org/Glossina_fuscipes/Location/View?db=core;g=GFUI002104;r\"> GFUI002104: genome browser </a>"
      ],
      "text/plain": [
       "<IPython.core.display.HTML object>"
      ]
     },
     "metadata": {},
     "output_type": "display_data"
    },
    {
     "data": {
      "text/html": [
       "<a href=\"https://www.vectorbase.org/Glossina_fuscipes/Transcript/Ontology/biological_process?db=core;g=GFUI002104;oid=biological_process\"> GFUI002104: GO: biological process </a>"
      ],
      "text/plain": [
       "<IPython.core.display.HTML object>"
      ]
     },
     "metadata": {},
     "output_type": "display_data"
    },
    {
     "data": {
      "text/html": [
       "<a href=\"https://www.vectorbase.org/Glossina_fuscipes/Transcript/Ontology/cellular_component?db=core;g=GFUI002104;oid=cellular_component\"> GFUI002104: GO: cellular component </a>"
      ],
      "text/plain": [
       "<IPython.core.display.HTML object>"
      ]
     },
     "metadata": {},
     "output_type": "display_data"
    },
    {
     "data": {
      "text/html": [
       "<a href=\"https://www.vectorbase.org/Glossina_fuscipes/Transcript/Ontology/molecular_function?db=core;g=GFUI002104;oid=molecular_function\"> GFUI002104: GO: molecular function </a>"
      ],
      "text/plain": [
       "<IPython.core.display.HTML object>"
      ]
     },
     "metadata": {},
     "output_type": "display_data"
    },
    {
     "data": {
      "text/html": [
       "<hr>"
      ],
      "text/plain": [
       "<IPython.core.display.HTML object>"
      ]
     },
     "metadata": {},
     "output_type": "display_data"
    },
    {
     "data": {
      "text/html": [
       "<h2>GFUI002233(official_annotations)</h2>"
      ],
      "text/plain": [
       "<IPython.core.display.HTML object>"
      ]
     },
     "metadata": {},
     "output_type": "display_data"
    },
    {
     "data": {
      "text/html": [
       "<b>SNPs:</b><br>Scaffold102:330092<br>"
      ],
      "text/plain": [
       "<IPython.core.display.HTML object>"
      ]
     },
     "metadata": {},
     "output_type": "display_data"
    },
    {
     "data": {
      "text/html": [
       "<div>\n",
       "<table border=\"1\" class=\"dataframe\">\n",
       "  <thead>\n",
       "    <tr style=\"text-align: right;\">\n",
       "      <th></th>\n",
       "      <th>Sequence</th>\n",
       "      <th>Aspect</th>\n",
       "      <th>GO ID</th>\n",
       "      <th>Name</th>\n",
       "      <th>Total Score</th>\n",
       "      <th>Internal Confidence</th>\n",
       "      <th>Information Content</th>\n",
       "    </tr>\n",
       "  </thead>\n",
       "  <tbody>\n",
       "  </tbody>\n",
       "</table>\n",
       "</div>"
      ],
      "text/plain": [
       "Empty DataFrame\n",
       "Columns: [Sequence, Aspect, GO ID, Name, Total Score, Internal Confidence, Information Content]\n",
       "Index: []"
      ]
     },
     "metadata": {},
     "output_type": "display_data"
    },
    {
     "data": {
      "text/html": [
       "<p>"
      ],
      "text/plain": [
       "<IPython.core.display.HTML object>"
      ]
     },
     "metadata": {},
     "output_type": "display_data"
    },
    {
     "data": {
      "text/html": [
       "<a href=\"https://www.vectorbase.org/Glossina_fuscipes/Gene/Summary?db=core;g=GFUI002233\"> GFUI002233: gene home page</a>"
      ],
      "text/plain": [
       "<IPython.core.display.HTML object>"
      ]
     },
     "metadata": {},
     "output_type": "display_data"
    },
    {
     "data": {
      "text/html": [
       "<a href=\"https://www.vectorbase.org/Glossina_fuscipes/Transcript/ProteinSummary?db=core;g=GFUI002233\"> GFUI002233: protein summary </a>"
      ],
      "text/plain": [
       "<IPython.core.display.HTML object>"
      ]
     },
     "metadata": {},
     "output_type": "display_data"
    },
    {
     "data": {
      "text/html": [
       "<a href=\"https://www.vectorbase.org/Glossina_fuscipes/Location/View?db=core;g=GFUI002233;r\"> GFUI002233: genome browser </a>"
      ],
      "text/plain": [
       "<IPython.core.display.HTML object>"
      ]
     },
     "metadata": {},
     "output_type": "display_data"
    },
    {
     "data": {
      "text/html": [
       "<a href=\"https://www.vectorbase.org/Glossina_fuscipes/Transcript/Ontology/biological_process?db=core;g=GFUI002233;oid=biological_process\"> GFUI002233: GO: biological process </a>"
      ],
      "text/plain": [
       "<IPython.core.display.HTML object>"
      ]
     },
     "metadata": {},
     "output_type": "display_data"
    },
    {
     "data": {
      "text/html": [
       "<a href=\"https://www.vectorbase.org/Glossina_fuscipes/Transcript/Ontology/cellular_component?db=core;g=GFUI002233;oid=cellular_component\"> GFUI002233: GO: cellular component </a>"
      ],
      "text/plain": [
       "<IPython.core.display.HTML object>"
      ]
     },
     "metadata": {},
     "output_type": "display_data"
    },
    {
     "data": {
      "text/html": [
       "<a href=\"https://www.vectorbase.org/Glossina_fuscipes/Transcript/Ontology/molecular_function?db=core;g=GFUI002233;oid=molecular_function\"> GFUI002233: GO: molecular function </a>"
      ],
      "text/plain": [
       "<IPython.core.display.HTML object>"
      ]
     },
     "metadata": {},
     "output_type": "display_data"
    },
    {
     "data": {
      "text/html": [
       "<hr>"
      ],
      "text/plain": [
       "<IPython.core.display.HTML object>"
      ]
     },
     "metadata": {},
     "output_type": "display_data"
    },
    {
     "data": {
      "text/html": [
       "<h2>GFUI002252(official_annotations)</h2>"
      ],
      "text/plain": [
       "<IPython.core.display.HTML object>"
      ]
     },
     "metadata": {},
     "output_type": "display_data"
    },
    {
     "data": {
      "text/html": [
       "<b>SNPs:</b><br>Scaffold102:398874<br>"
      ],
      "text/plain": [
       "<IPython.core.display.HTML object>"
      ]
     },
     "metadata": {},
     "output_type": "display_data"
    },
    {
     "data": {
      "text/html": [
       "<div>\n",
       "<table border=\"1\" class=\"dataframe\">\n",
       "  <thead>\n",
       "    <tr style=\"text-align: right;\">\n",
       "      <th></th>\n",
       "      <th>Sequence</th>\n",
       "      <th>Aspect</th>\n",
       "      <th>GO ID</th>\n",
       "      <th>Name</th>\n",
       "      <th>Total Score</th>\n",
       "      <th>Internal Confidence</th>\n",
       "      <th>Information Content</th>\n",
       "    </tr>\n",
       "  </thead>\n",
       "  <tbody>\n",
       "  </tbody>\n",
       "</table>\n",
       "</div>"
      ],
      "text/plain": [
       "Empty DataFrame\n",
       "Columns: [Sequence, Aspect, GO ID, Name, Total Score, Internal Confidence, Information Content]\n",
       "Index: []"
      ]
     },
     "metadata": {},
     "output_type": "display_data"
    },
    {
     "data": {
      "text/html": [
       "<p>"
      ],
      "text/plain": [
       "<IPython.core.display.HTML object>"
      ]
     },
     "metadata": {},
     "output_type": "display_data"
    },
    {
     "data": {
      "text/html": [
       "<a href=\"https://www.vectorbase.org/Glossina_fuscipes/Gene/Summary?db=core;g=GFUI002252\"> GFUI002252: gene home page</a>"
      ],
      "text/plain": [
       "<IPython.core.display.HTML object>"
      ]
     },
     "metadata": {},
     "output_type": "display_data"
    },
    {
     "data": {
      "text/html": [
       "<a href=\"https://www.vectorbase.org/Glossina_fuscipes/Transcript/ProteinSummary?db=core;g=GFUI002252\"> GFUI002252: protein summary </a>"
      ],
      "text/plain": [
       "<IPython.core.display.HTML object>"
      ]
     },
     "metadata": {},
     "output_type": "display_data"
    },
    {
     "data": {
      "text/html": [
       "<a href=\"https://www.vectorbase.org/Glossina_fuscipes/Location/View?db=core;g=GFUI002252;r\"> GFUI002252: genome browser </a>"
      ],
      "text/plain": [
       "<IPython.core.display.HTML object>"
      ]
     },
     "metadata": {},
     "output_type": "display_data"
    },
    {
     "data": {
      "text/html": [
       "<a href=\"https://www.vectorbase.org/Glossina_fuscipes/Transcript/Ontology/biological_process?db=core;g=GFUI002252;oid=biological_process\"> GFUI002252: GO: biological process </a>"
      ],
      "text/plain": [
       "<IPython.core.display.HTML object>"
      ]
     },
     "metadata": {},
     "output_type": "display_data"
    },
    {
     "data": {
      "text/html": [
       "<a href=\"https://www.vectorbase.org/Glossina_fuscipes/Transcript/Ontology/cellular_component?db=core;g=GFUI002252;oid=cellular_component\"> GFUI002252: GO: cellular component </a>"
      ],
      "text/plain": [
       "<IPython.core.display.HTML object>"
      ]
     },
     "metadata": {},
     "output_type": "display_data"
    },
    {
     "data": {
      "text/html": [
       "<a href=\"https://www.vectorbase.org/Glossina_fuscipes/Transcript/Ontology/molecular_function?db=core;g=GFUI002252;oid=molecular_function\"> GFUI002252: GO: molecular function </a>"
      ],
      "text/plain": [
       "<IPython.core.display.HTML object>"
      ]
     },
     "metadata": {},
     "output_type": "display_data"
    },
    {
     "data": {
      "text/html": [
       "<hr>"
      ],
      "text/plain": [
       "<IPython.core.display.HTML object>"
      ]
     },
     "metadata": {},
     "output_type": "display_data"
    },
    {
     "data": {
      "text/html": [
       "<h2>GFUI002898(official_annotations)</h2>"
      ],
      "text/plain": [
       "<IPython.core.display.HTML object>"
      ]
     },
     "metadata": {},
     "output_type": "display_data"
    },
    {
     "data": {
      "text/html": [
       "<b>SNPs:</b><br>Scaffold106:349187<br>"
      ],
      "text/plain": [
       "<IPython.core.display.HTML object>"
      ]
     },
     "metadata": {},
     "output_type": "display_data"
    },
    {
     "data": {
      "text/html": [
       "<div>\n",
       "<table border=\"1\" class=\"dataframe\">\n",
       "  <thead>\n",
       "    <tr style=\"text-align: right;\">\n",
       "      <th></th>\n",
       "      <th>Sequence</th>\n",
       "      <th>Aspect</th>\n",
       "      <th>GO ID</th>\n",
       "      <th>Name</th>\n",
       "      <th>Total Score</th>\n",
       "      <th>Internal Confidence</th>\n",
       "      <th>Information Content</th>\n",
       "    </tr>\n",
       "  </thead>\n",
       "  <tbody>\n",
       "  </tbody>\n",
       "</table>\n",
       "</div>"
      ],
      "text/plain": [
       "Empty DataFrame\n",
       "Columns: [Sequence, Aspect, GO ID, Name, Total Score, Internal Confidence, Information Content]\n",
       "Index: []"
      ]
     },
     "metadata": {},
     "output_type": "display_data"
    },
    {
     "data": {
      "text/html": [
       "<p>"
      ],
      "text/plain": [
       "<IPython.core.display.HTML object>"
      ]
     },
     "metadata": {},
     "output_type": "display_data"
    },
    {
     "data": {
      "text/html": [
       "<a href=\"https://www.vectorbase.org/Glossina_fuscipes/Gene/Summary?db=core;g=GFUI002898\"> GFUI002898: gene home page</a>"
      ],
      "text/plain": [
       "<IPython.core.display.HTML object>"
      ]
     },
     "metadata": {},
     "output_type": "display_data"
    },
    {
     "data": {
      "text/html": [
       "<a href=\"https://www.vectorbase.org/Glossina_fuscipes/Transcript/ProteinSummary?db=core;g=GFUI002898\"> GFUI002898: protein summary </a>"
      ],
      "text/plain": [
       "<IPython.core.display.HTML object>"
      ]
     },
     "metadata": {},
     "output_type": "display_data"
    },
    {
     "data": {
      "text/html": [
       "<a href=\"https://www.vectorbase.org/Glossina_fuscipes/Location/View?db=core;g=GFUI002898;r\"> GFUI002898: genome browser </a>"
      ],
      "text/plain": [
       "<IPython.core.display.HTML object>"
      ]
     },
     "metadata": {},
     "output_type": "display_data"
    },
    {
     "data": {
      "text/html": [
       "<a href=\"https://www.vectorbase.org/Glossina_fuscipes/Transcript/Ontology/biological_process?db=core;g=GFUI002898;oid=biological_process\"> GFUI002898: GO: biological process </a>"
      ],
      "text/plain": [
       "<IPython.core.display.HTML object>"
      ]
     },
     "metadata": {},
     "output_type": "display_data"
    },
    {
     "data": {
      "text/html": [
       "<a href=\"https://www.vectorbase.org/Glossina_fuscipes/Transcript/Ontology/cellular_component?db=core;g=GFUI002898;oid=cellular_component\"> GFUI002898: GO: cellular component </a>"
      ],
      "text/plain": [
       "<IPython.core.display.HTML object>"
      ]
     },
     "metadata": {},
     "output_type": "display_data"
    },
    {
     "data": {
      "text/html": [
       "<a href=\"https://www.vectorbase.org/Glossina_fuscipes/Transcript/Ontology/molecular_function?db=core;g=GFUI002898;oid=molecular_function\"> GFUI002898: GO: molecular function </a>"
      ],
      "text/plain": [
       "<IPython.core.display.HTML object>"
      ]
     },
     "metadata": {},
     "output_type": "display_data"
    },
    {
     "data": {
      "text/html": [
       "<hr>"
      ],
      "text/plain": [
       "<IPython.core.display.HTML object>"
      ]
     },
     "metadata": {},
     "output_type": "display_data"
    },
    {
     "data": {
      "text/html": [
       "<h2>GFUI003051(official_annotations)</h2>"
      ],
      "text/plain": [
       "<IPython.core.display.HTML object>"
      ]
     },
     "metadata": {},
     "output_type": "display_data"
    },
    {
     "data": {
      "text/html": [
       "<b>SNPs:</b><br>Scaffold107:284002<br>"
      ],
      "text/plain": [
       "<IPython.core.display.HTML object>"
      ]
     },
     "metadata": {},
     "output_type": "display_data"
    },
    {
     "data": {
      "text/html": [
       "<div>\n",
       "<table border=\"1\" class=\"dataframe\">\n",
       "  <thead>\n",
       "    <tr style=\"text-align: right;\">\n",
       "      <th></th>\n",
       "      <th>Sequence</th>\n",
       "      <th>Aspect</th>\n",
       "      <th>GO ID</th>\n",
       "      <th>Name</th>\n",
       "      <th>Total Score</th>\n",
       "      <th>Internal Confidence</th>\n",
       "      <th>Information Content</th>\n",
       "    </tr>\n",
       "  </thead>\n",
       "  <tbody>\n",
       "  </tbody>\n",
       "</table>\n",
       "</div>"
      ],
      "text/plain": [
       "Empty DataFrame\n",
       "Columns: [Sequence, Aspect, GO ID, Name, Total Score, Internal Confidence, Information Content]\n",
       "Index: []"
      ]
     },
     "metadata": {},
     "output_type": "display_data"
    },
    {
     "data": {
      "text/html": [
       "<p>"
      ],
      "text/plain": [
       "<IPython.core.display.HTML object>"
      ]
     },
     "metadata": {},
     "output_type": "display_data"
    },
    {
     "data": {
      "text/html": [
       "<a href=\"https://www.vectorbase.org/Glossina_fuscipes/Gene/Summary?db=core;g=GFUI003051\"> GFUI003051: gene home page</a>"
      ],
      "text/plain": [
       "<IPython.core.display.HTML object>"
      ]
     },
     "metadata": {},
     "output_type": "display_data"
    },
    {
     "data": {
      "text/html": [
       "<a href=\"https://www.vectorbase.org/Glossina_fuscipes/Transcript/ProteinSummary?db=core;g=GFUI003051\"> GFUI003051: protein summary </a>"
      ],
      "text/plain": [
       "<IPython.core.display.HTML object>"
      ]
     },
     "metadata": {},
     "output_type": "display_data"
    },
    {
     "data": {
      "text/html": [
       "<a href=\"https://www.vectorbase.org/Glossina_fuscipes/Location/View?db=core;g=GFUI003051;r\"> GFUI003051: genome browser </a>"
      ],
      "text/plain": [
       "<IPython.core.display.HTML object>"
      ]
     },
     "metadata": {},
     "output_type": "display_data"
    },
    {
     "data": {
      "text/html": [
       "<a href=\"https://www.vectorbase.org/Glossina_fuscipes/Transcript/Ontology/biological_process?db=core;g=GFUI003051;oid=biological_process\"> GFUI003051: GO: biological process </a>"
      ],
      "text/plain": [
       "<IPython.core.display.HTML object>"
      ]
     },
     "metadata": {},
     "output_type": "display_data"
    },
    {
     "data": {
      "text/html": [
       "<a href=\"https://www.vectorbase.org/Glossina_fuscipes/Transcript/Ontology/cellular_component?db=core;g=GFUI003051;oid=cellular_component\"> GFUI003051: GO: cellular component </a>"
      ],
      "text/plain": [
       "<IPython.core.display.HTML object>"
      ]
     },
     "metadata": {},
     "output_type": "display_data"
    },
    {
     "data": {
      "text/html": [
       "<a href=\"https://www.vectorbase.org/Glossina_fuscipes/Transcript/Ontology/molecular_function?db=core;g=GFUI003051;oid=molecular_function\"> GFUI003051: GO: molecular function </a>"
      ],
      "text/plain": [
       "<IPython.core.display.HTML object>"
      ]
     },
     "metadata": {},
     "output_type": "display_data"
    },
    {
     "data": {
      "text/html": [
       "<hr>"
      ],
      "text/plain": [
       "<IPython.core.display.HTML object>"
      ]
     },
     "metadata": {},
     "output_type": "display_data"
    },
    {
     "data": {
      "text/html": [
       "<h2>GFUI007441(official_annotations)</h2>"
      ],
      "text/plain": [
       "<IPython.core.display.HTML object>"
      ]
     },
     "metadata": {},
     "output_type": "display_data"
    },
    {
     "data": {
      "text/html": [
       "<b>SNPs:</b><br>Scaffold137:615407<br>"
      ],
      "text/plain": [
       "<IPython.core.display.HTML object>"
      ]
     },
     "metadata": {},
     "output_type": "display_data"
    },
    {
     "data": {
      "text/html": [
       "<div>\n",
       "<table border=\"1\" class=\"dataframe\">\n",
       "  <thead>\n",
       "    <tr style=\"text-align: right;\">\n",
       "      <th></th>\n",
       "      <th>Sequence</th>\n",
       "      <th>Aspect</th>\n",
       "      <th>GO ID</th>\n",
       "      <th>Name</th>\n",
       "      <th>Total Score</th>\n",
       "      <th>Internal Confidence</th>\n",
       "      <th>Information Content</th>\n",
       "    </tr>\n",
       "  </thead>\n",
       "  <tbody>\n",
       "    <tr>\n",
       "      <th>33277</th>\n",
       "      <td>GFUI007441-PA</td>\n",
       "      <td>C</td>\n",
       "      <td>GO:0005634</td>\n",
       "      <td>nucleus</td>\n",
       "      <td>5127.878792</td>\n",
       "      <td>0.434757</td>\n",
       "      <td>5.725783</td>\n",
       "    </tr>\n",
       "    <tr>\n",
       "      <th>33276</th>\n",
       "      <td>GFUI007441-PA</td>\n",
       "      <td>C</td>\n",
       "      <td>GO:0005737</td>\n",
       "      <td>cytoplasm</td>\n",
       "      <td>2514.451906</td>\n",
       "      <td>0.394663</td>\n",
       "      <td>3.178476</td>\n",
       "    </tr>\n",
       "    <tr>\n",
       "      <th>33271</th>\n",
       "      <td>GFUI007441-PA</td>\n",
       "      <td>F</td>\n",
       "      <td>GO:0003700</td>\n",
       "      <td>sequence-specific DNA binding transcription factor activity</td>\n",
       "      <td>1227.269820</td>\n",
       "      <td>0.290086</td>\n",
       "      <td>5.025891</td>\n",
       "    </tr>\n",
       "    <tr>\n",
       "      <th>33274</th>\n",
       "      <td>GFUI007441-PA</td>\n",
       "      <td>F</td>\n",
       "      <td>GO:0003677</td>\n",
       "      <td>DNA binding</td>\n",
       "      <td>915.199249</td>\n",
       "      <td>0.337374</td>\n",
       "      <td>3.831010</td>\n",
       "    </tr>\n",
       "    <tr>\n",
       "      <th>33275</th>\n",
       "      <td>GFUI007441-PA</td>\n",
       "      <td>F</td>\n",
       "      <td>GO:0043565</td>\n",
       "      <td>sequence-specific DNA binding</td>\n",
       "      <td>313.076408</td>\n",
       "      <td>0.147086</td>\n",
       "      <td>5.933594</td>\n",
       "    </tr>\n",
       "    <tr>\n",
       "      <th>33268</th>\n",
       "      <td>GFUI007441-PA</td>\n",
       "      <td>P</td>\n",
       "      <td>GO:0045944</td>\n",
       "      <td>positive regulation of transcription from RNA polymerase II promoter</td>\n",
       "      <td>257.799183</td>\n",
       "      <td>0.040785</td>\n",
       "      <td>12.597549</td>\n",
       "    </tr>\n",
       "    <tr>\n",
       "      <th>33267</th>\n",
       "      <td>GFUI007441-PA</td>\n",
       "      <td>P</td>\n",
       "      <td>GO:0006355</td>\n",
       "      <td>regulation of transcription, DNA-templated</td>\n",
       "      <td>253.240196</td>\n",
       "      <td>0.189078</td>\n",
       "      <td>7.524266</td>\n",
       "    </tr>\n",
       "    <tr>\n",
       "      <th>33273</th>\n",
       "      <td>GFUI007441-PA</td>\n",
       "      <td>F</td>\n",
       "      <td>GO:0005515</td>\n",
       "      <td>protein binding</td>\n",
       "      <td>205.901924</td>\n",
       "      <td>0.300636</td>\n",
       "      <td>5.471582</td>\n",
       "    </tr>\n",
       "  </tbody>\n",
       "</table>\n",
       "</div>"
      ],
      "text/plain": [
       "            Sequence Aspect       GO ID  \\\n",
       "33277  GFUI007441-PA      C  GO:0005634   \n",
       "33276  GFUI007441-PA      C  GO:0005737   \n",
       "33271  GFUI007441-PA      F  GO:0003700   \n",
       "33274  GFUI007441-PA      F  GO:0003677   \n",
       "33275  GFUI007441-PA      F  GO:0043565   \n",
       "33268  GFUI007441-PA      P  GO:0045944   \n",
       "33267  GFUI007441-PA      P  GO:0006355   \n",
       "33273  GFUI007441-PA      F  GO:0005515   \n",
       "\n",
       "                                                                       Name  \\\n",
       "33277                                                               nucleus   \n",
       "33276                                                             cytoplasm   \n",
       "33271           sequence-specific DNA binding transcription factor activity   \n",
       "33274                                                           DNA binding   \n",
       "33275                                         sequence-specific DNA binding   \n",
       "33268  positive regulation of transcription from RNA polymerase II promoter   \n",
       "33267                            regulation of transcription, DNA-templated   \n",
       "33273                                                       protein binding   \n",
       "\n",
       "       Total Score  Internal Confidence  Information Content  \n",
       "33277  5127.878792             0.434757             5.725783  \n",
       "33276  2514.451906             0.394663             3.178476  \n",
       "33271  1227.269820             0.290086             5.025891  \n",
       "33274   915.199249             0.337374             3.831010  \n",
       "33275   313.076408             0.147086             5.933594  \n",
       "33268   257.799183             0.040785            12.597549  \n",
       "33267   253.240196             0.189078             7.524266  \n",
       "33273   205.901924             0.300636             5.471582  "
      ]
     },
     "metadata": {},
     "output_type": "display_data"
    },
    {
     "data": {
      "text/html": [
       "<p>"
      ],
      "text/plain": [
       "<IPython.core.display.HTML object>"
      ]
     },
     "metadata": {},
     "output_type": "display_data"
    },
    {
     "data": {
      "text/html": [
       "<a href=\"https://www.vectorbase.org/Glossina_fuscipes/Gene/Summary?db=core;g=GFUI007441\"> GFUI007441: gene home page</a>"
      ],
      "text/plain": [
       "<IPython.core.display.HTML object>"
      ]
     },
     "metadata": {},
     "output_type": "display_data"
    },
    {
     "data": {
      "text/html": [
       "<a href=\"https://www.vectorbase.org/Glossina_fuscipes/Transcript/ProteinSummary?db=core;g=GFUI007441\"> GFUI007441: protein summary </a>"
      ],
      "text/plain": [
       "<IPython.core.display.HTML object>"
      ]
     },
     "metadata": {},
     "output_type": "display_data"
    },
    {
     "data": {
      "text/html": [
       "<a href=\"https://www.vectorbase.org/Glossina_fuscipes/Location/View?db=core;g=GFUI007441;r\"> GFUI007441: genome browser </a>"
      ],
      "text/plain": [
       "<IPython.core.display.HTML object>"
      ]
     },
     "metadata": {},
     "output_type": "display_data"
    },
    {
     "data": {
      "text/html": [
       "<a href=\"https://www.vectorbase.org/Glossina_fuscipes/Transcript/Ontology/biological_process?db=core;g=GFUI007441;oid=biological_process\"> GFUI007441: GO: biological process </a>"
      ],
      "text/plain": [
       "<IPython.core.display.HTML object>"
      ]
     },
     "metadata": {},
     "output_type": "display_data"
    },
    {
     "data": {
      "text/html": [
       "<a href=\"https://www.vectorbase.org/Glossina_fuscipes/Transcript/Ontology/cellular_component?db=core;g=GFUI007441;oid=cellular_component\"> GFUI007441: GO: cellular component </a>"
      ],
      "text/plain": [
       "<IPython.core.display.HTML object>"
      ]
     },
     "metadata": {},
     "output_type": "display_data"
    },
    {
     "data": {
      "text/html": [
       "<a href=\"https://www.vectorbase.org/Glossina_fuscipes/Transcript/Ontology/molecular_function?db=core;g=GFUI007441;oid=molecular_function\"> GFUI007441: GO: molecular function </a>"
      ],
      "text/plain": [
       "<IPython.core.display.HTML object>"
      ]
     },
     "metadata": {},
     "output_type": "display_data"
    },
    {
     "data": {
      "text/html": [
       "<hr>"
      ],
      "text/plain": [
       "<IPython.core.display.HTML object>"
      ]
     },
     "metadata": {},
     "output_type": "display_data"
    },
    {
     "data": {
      "text/html": [
       "<h2>GFUI007952(official_annotations)</h2>"
      ],
      "text/plain": [
       "<IPython.core.display.HTML object>"
      ]
     },
     "metadata": {},
     "output_type": "display_data"
    },
    {
     "data": {
      "text/html": [
       "<b>SNPs:</b><br>Scaffold13:1603125<br>"
      ],
      "text/plain": [
       "<IPython.core.display.HTML object>"
      ]
     },
     "metadata": {},
     "output_type": "display_data"
    },
    {
     "data": {
      "text/html": [
       "<div>\n",
       "<table border=\"1\" class=\"dataframe\">\n",
       "  <thead>\n",
       "    <tr style=\"text-align: right;\">\n",
       "      <th></th>\n",
       "      <th>Sequence</th>\n",
       "      <th>Aspect</th>\n",
       "      <th>GO ID</th>\n",
       "      <th>Name</th>\n",
       "      <th>Total Score</th>\n",
       "      <th>Internal Confidence</th>\n",
       "      <th>Information Content</th>\n",
       "    </tr>\n",
       "  </thead>\n",
       "  <tbody>\n",
       "    <tr>\n",
       "      <th>36751</th>\n",
       "      <td>GFUI007952-PA</td>\n",
       "      <td>P</td>\n",
       "      <td>GO:0016567</td>\n",
       "      <td>protein ubiquitination</td>\n",
       "      <td>3937.737413</td>\n",
       "      <td>0.285543</td>\n",
       "      <td>11.688354</td>\n",
       "    </tr>\n",
       "    <tr>\n",
       "      <th>36756</th>\n",
       "      <td>GFUI007952-PA</td>\n",
       "      <td>F</td>\n",
       "      <td>GO:0008270</td>\n",
       "      <td>zinc ion binding</td>\n",
       "      <td>2092.812577</td>\n",
       "      <td>0.213569</td>\n",
       "      <td>5.400313</td>\n",
       "    </tr>\n",
       "    <tr>\n",
       "      <th>36752</th>\n",
       "      <td>GFUI007952-PA</td>\n",
       "      <td>P</td>\n",
       "      <td>GO:0042787</td>\n",
       "      <td>protein ubiquitination involved in ubiquitin-dependent protein catabolic process</td>\n",
       "      <td>1660.685381</td>\n",
       "      <td>0.102560</td>\n",
       "      <td>15.093544</td>\n",
       "    </tr>\n",
       "    <tr>\n",
       "      <th>36758</th>\n",
       "      <td>GFUI007952-PA</td>\n",
       "      <td>C</td>\n",
       "      <td>GO:0016020</td>\n",
       "      <td>membrane</td>\n",
       "      <td>1038.074516</td>\n",
       "      <td>0.340482</td>\n",
       "      <td>2.472824</td>\n",
       "    </tr>\n",
       "    <tr>\n",
       "      <th>36757</th>\n",
       "      <td>GFUI007952-PA</td>\n",
       "      <td>F</td>\n",
       "      <td>GO:0046872</td>\n",
       "      <td>metal ion binding</td>\n",
       "      <td>639.528013</td>\n",
       "      <td>0.361965</td>\n",
       "      <td>3.508837</td>\n",
       "    </tr>\n",
       "    <tr>\n",
       "      <th>36753</th>\n",
       "      <td>GFUI007952-PA</td>\n",
       "      <td>P</td>\n",
       "      <td>GO:0007275</td>\n",
       "      <td>multicellular organismal development</td>\n",
       "      <td>615.347806</td>\n",
       "      <td>0.272959</td>\n",
       "      <td>7.690822</td>\n",
       "    </tr>\n",
       "    <tr>\n",
       "      <th>36759</th>\n",
       "      <td>GFUI007952-PA</td>\n",
       "      <td>C</td>\n",
       "      <td>GO:0016021</td>\n",
       "      <td>integral component of membrane</td>\n",
       "      <td>458.178042</td>\n",
       "      <td>0.118645</td>\n",
       "      <td>3.692502</td>\n",
       "    </tr>\n",
       "    <tr>\n",
       "      <th>36754</th>\n",
       "      <td>GFUI007952-PA</td>\n",
       "      <td>P</td>\n",
       "      <td>GO:0007399</td>\n",
       "      <td>nervous system development</td>\n",
       "      <td>289.425331</td>\n",
       "      <td>0.094786</td>\n",
       "      <td>9.465630</td>\n",
       "    </tr>\n",
       "    <tr>\n",
       "      <th>36750</th>\n",
       "      <td>GFUI007952-PA</td>\n",
       "      <td>P</td>\n",
       "      <td>GO:0050896</td>\n",
       "      <td>response to stimulus</td>\n",
       "      <td>273.136691</td>\n",
       "      <td>0.178557</td>\n",
       "      <td>4.401829</td>\n",
       "    </tr>\n",
       "    <tr>\n",
       "      <th>36755</th>\n",
       "      <td>GFUI007952-PA</td>\n",
       "      <td>P</td>\n",
       "      <td>GO:0030154</td>\n",
       "      <td>cell differentiation</td>\n",
       "      <td>255.087856</td>\n",
       "      <td>0.174921</td>\n",
       "      <td>8.342626</td>\n",
       "    </tr>\n",
       "  </tbody>\n",
       "</table>\n",
       "</div>"
      ],
      "text/plain": [
       "            Sequence Aspect       GO ID  \\\n",
       "36751  GFUI007952-PA      P  GO:0016567   \n",
       "36756  GFUI007952-PA      F  GO:0008270   \n",
       "36752  GFUI007952-PA      P  GO:0042787   \n",
       "36758  GFUI007952-PA      C  GO:0016020   \n",
       "36757  GFUI007952-PA      F  GO:0046872   \n",
       "36753  GFUI007952-PA      P  GO:0007275   \n",
       "36759  GFUI007952-PA      C  GO:0016021   \n",
       "36754  GFUI007952-PA      P  GO:0007399   \n",
       "36750  GFUI007952-PA      P  GO:0050896   \n",
       "36755  GFUI007952-PA      P  GO:0030154   \n",
       "\n",
       "                                                                                   Name  \\\n",
       "36751                                                            protein ubiquitination   \n",
       "36756                                                                  zinc ion binding   \n",
       "36752  protein ubiquitination involved in ubiquitin-dependent protein catabolic process   \n",
       "36758                                                                          membrane   \n",
       "36757                                                                 metal ion binding   \n",
       "36753                                              multicellular organismal development   \n",
       "36759                                                    integral component of membrane   \n",
       "36754                                                        nervous system development   \n",
       "36750                                                              response to stimulus   \n",
       "36755                                                              cell differentiation   \n",
       "\n",
       "       Total Score  Internal Confidence  Information Content  \n",
       "36751  3937.737413             0.285543            11.688354  \n",
       "36756  2092.812577             0.213569             5.400313  \n",
       "36752  1660.685381             0.102560            15.093544  \n",
       "36758  1038.074516             0.340482             2.472824  \n",
       "36757   639.528013             0.361965             3.508837  \n",
       "36753   615.347806             0.272959             7.690822  \n",
       "36759   458.178042             0.118645             3.692502  \n",
       "36754   289.425331             0.094786             9.465630  \n",
       "36750   273.136691             0.178557             4.401829  \n",
       "36755   255.087856             0.174921             8.342626  "
      ]
     },
     "metadata": {},
     "output_type": "display_data"
    },
    {
     "data": {
      "text/html": [
       "<p>"
      ],
      "text/plain": [
       "<IPython.core.display.HTML object>"
      ]
     },
     "metadata": {},
     "output_type": "display_data"
    },
    {
     "data": {
      "text/html": [
       "<a href=\"https://www.vectorbase.org/Glossina_fuscipes/Gene/Summary?db=core;g=GFUI007952\"> GFUI007952: gene home page</a>"
      ],
      "text/plain": [
       "<IPython.core.display.HTML object>"
      ]
     },
     "metadata": {},
     "output_type": "display_data"
    },
    {
     "data": {
      "text/html": [
       "<a href=\"https://www.vectorbase.org/Glossina_fuscipes/Transcript/ProteinSummary?db=core;g=GFUI007952\"> GFUI007952: protein summary </a>"
      ],
      "text/plain": [
       "<IPython.core.display.HTML object>"
      ]
     },
     "metadata": {},
     "output_type": "display_data"
    },
    {
     "data": {
      "text/html": [
       "<a href=\"https://www.vectorbase.org/Glossina_fuscipes/Location/View?db=core;g=GFUI007952;r\"> GFUI007952: genome browser </a>"
      ],
      "text/plain": [
       "<IPython.core.display.HTML object>"
      ]
     },
     "metadata": {},
     "output_type": "display_data"
    },
    {
     "data": {
      "text/html": [
       "<a href=\"https://www.vectorbase.org/Glossina_fuscipes/Transcript/Ontology/biological_process?db=core;g=GFUI007952;oid=biological_process\"> GFUI007952: GO: biological process </a>"
      ],
      "text/plain": [
       "<IPython.core.display.HTML object>"
      ]
     },
     "metadata": {},
     "output_type": "display_data"
    },
    {
     "data": {
      "text/html": [
       "<a href=\"https://www.vectorbase.org/Glossina_fuscipes/Transcript/Ontology/cellular_component?db=core;g=GFUI007952;oid=cellular_component\"> GFUI007952: GO: cellular component </a>"
      ],
      "text/plain": [
       "<IPython.core.display.HTML object>"
      ]
     },
     "metadata": {},
     "output_type": "display_data"
    },
    {
     "data": {
      "text/html": [
       "<a href=\"https://www.vectorbase.org/Glossina_fuscipes/Transcript/Ontology/molecular_function?db=core;g=GFUI007952;oid=molecular_function\"> GFUI007952: GO: molecular function </a>"
      ],
      "text/plain": [
       "<IPython.core.display.HTML object>"
      ]
     },
     "metadata": {},
     "output_type": "display_data"
    },
    {
     "data": {
      "text/html": [
       "<hr>"
      ],
      "text/plain": [
       "<IPython.core.display.HTML object>"
      ]
     },
     "metadata": {},
     "output_type": "display_data"
    },
    {
     "data": {
      "text/html": [
       "<h2>GFUI008496(official_annotations)</h2>"
      ],
      "text/plain": [
       "<IPython.core.display.HTML object>"
      ]
     },
     "metadata": {},
     "output_type": "display_data"
    },
    {
     "data": {
      "text/html": [
       "<b>SNPs:</b><br>Scaffold144:593216<br>"
      ],
      "text/plain": [
       "<IPython.core.display.HTML object>"
      ]
     },
     "metadata": {},
     "output_type": "display_data"
    },
    {
     "data": {
      "text/html": [
       "<div>\n",
       "<table border=\"1\" class=\"dataframe\">\n",
       "  <thead>\n",
       "    <tr style=\"text-align: right;\">\n",
       "      <th></th>\n",
       "      <th>Sequence</th>\n",
       "      <th>Aspect</th>\n",
       "      <th>GO ID</th>\n",
       "      <th>Name</th>\n",
       "      <th>Total Score</th>\n",
       "      <th>Internal Confidence</th>\n",
       "      <th>Information Content</th>\n",
       "    </tr>\n",
       "  </thead>\n",
       "  <tbody>\n",
       "  </tbody>\n",
       "</table>\n",
       "</div>"
      ],
      "text/plain": [
       "Empty DataFrame\n",
       "Columns: [Sequence, Aspect, GO ID, Name, Total Score, Internal Confidence, Information Content]\n",
       "Index: []"
      ]
     },
     "metadata": {},
     "output_type": "display_data"
    },
    {
     "data": {
      "text/html": [
       "<p>"
      ],
      "text/plain": [
       "<IPython.core.display.HTML object>"
      ]
     },
     "metadata": {},
     "output_type": "display_data"
    },
    {
     "data": {
      "text/html": [
       "<a href=\"https://www.vectorbase.org/Glossina_fuscipes/Gene/Summary?db=core;g=GFUI008496\"> GFUI008496: gene home page</a>"
      ],
      "text/plain": [
       "<IPython.core.display.HTML object>"
      ]
     },
     "metadata": {},
     "output_type": "display_data"
    },
    {
     "data": {
      "text/html": [
       "<a href=\"https://www.vectorbase.org/Glossina_fuscipes/Transcript/ProteinSummary?db=core;g=GFUI008496\"> GFUI008496: protein summary </a>"
      ],
      "text/plain": [
       "<IPython.core.display.HTML object>"
      ]
     },
     "metadata": {},
     "output_type": "display_data"
    },
    {
     "data": {
      "text/html": [
       "<a href=\"https://www.vectorbase.org/Glossina_fuscipes/Location/View?db=core;g=GFUI008496;r\"> GFUI008496: genome browser </a>"
      ],
      "text/plain": [
       "<IPython.core.display.HTML object>"
      ]
     },
     "metadata": {},
     "output_type": "display_data"
    },
    {
     "data": {
      "text/html": [
       "<a href=\"https://www.vectorbase.org/Glossina_fuscipes/Transcript/Ontology/biological_process?db=core;g=GFUI008496;oid=biological_process\"> GFUI008496: GO: biological process </a>"
      ],
      "text/plain": [
       "<IPython.core.display.HTML object>"
      ]
     },
     "metadata": {},
     "output_type": "display_data"
    },
    {
     "data": {
      "text/html": [
       "<a href=\"https://www.vectorbase.org/Glossina_fuscipes/Transcript/Ontology/cellular_component?db=core;g=GFUI008496;oid=cellular_component\"> GFUI008496: GO: cellular component </a>"
      ],
      "text/plain": [
       "<IPython.core.display.HTML object>"
      ]
     },
     "metadata": {},
     "output_type": "display_data"
    },
    {
     "data": {
      "text/html": [
       "<a href=\"https://www.vectorbase.org/Glossina_fuscipes/Transcript/Ontology/molecular_function?db=core;g=GFUI008496;oid=molecular_function\"> GFUI008496: GO: molecular function </a>"
      ],
      "text/plain": [
       "<IPython.core.display.HTML object>"
      ]
     },
     "metadata": {},
     "output_type": "display_data"
    },
    {
     "data": {
      "text/html": [
       "<hr>"
      ],
      "text/plain": [
       "<IPython.core.display.HTML object>"
      ]
     },
     "metadata": {},
     "output_type": "display_data"
    },
    {
     "data": {
      "text/html": [
       "<h2>GFUI011180(official_annotations)</h2>"
      ],
      "text/plain": [
       "<IPython.core.display.HTML object>"
      ]
     },
     "metadata": {},
     "output_type": "display_data"
    },
    {
     "data": {
      "text/html": [
       "<b>SNPs:</b><br>Scaffold16:74447<br>"
      ],
      "text/plain": [
       "<IPython.core.display.HTML object>"
      ]
     },
     "metadata": {},
     "output_type": "display_data"
    },
    {
     "data": {
      "text/html": [
       "<div>\n",
       "<table border=\"1\" class=\"dataframe\">\n",
       "  <thead>\n",
       "    <tr style=\"text-align: right;\">\n",
       "      <th></th>\n",
       "      <th>Sequence</th>\n",
       "      <th>Aspect</th>\n",
       "      <th>GO ID</th>\n",
       "      <th>Name</th>\n",
       "      <th>Total Score</th>\n",
       "      <th>Internal Confidence</th>\n",
       "      <th>Information Content</th>\n",
       "    </tr>\n",
       "  </thead>\n",
       "  <tbody>\n",
       "  </tbody>\n",
       "</table>\n",
       "</div>"
      ],
      "text/plain": [
       "Empty DataFrame\n",
       "Columns: [Sequence, Aspect, GO ID, Name, Total Score, Internal Confidence, Information Content]\n",
       "Index: []"
      ]
     },
     "metadata": {},
     "output_type": "display_data"
    },
    {
     "data": {
      "text/html": [
       "<p>"
      ],
      "text/plain": [
       "<IPython.core.display.HTML object>"
      ]
     },
     "metadata": {},
     "output_type": "display_data"
    },
    {
     "data": {
      "text/html": [
       "<a href=\"https://www.vectorbase.org/Glossina_fuscipes/Gene/Summary?db=core;g=GFUI011180\"> GFUI011180: gene home page</a>"
      ],
      "text/plain": [
       "<IPython.core.display.HTML object>"
      ]
     },
     "metadata": {},
     "output_type": "display_data"
    },
    {
     "data": {
      "text/html": [
       "<a href=\"https://www.vectorbase.org/Glossina_fuscipes/Transcript/ProteinSummary?db=core;g=GFUI011180\"> GFUI011180: protein summary </a>"
      ],
      "text/plain": [
       "<IPython.core.display.HTML object>"
      ]
     },
     "metadata": {},
     "output_type": "display_data"
    },
    {
     "data": {
      "text/html": [
       "<a href=\"https://www.vectorbase.org/Glossina_fuscipes/Location/View?db=core;g=GFUI011180;r\"> GFUI011180: genome browser </a>"
      ],
      "text/plain": [
       "<IPython.core.display.HTML object>"
      ]
     },
     "metadata": {},
     "output_type": "display_data"
    },
    {
     "data": {
      "text/html": [
       "<a href=\"https://www.vectorbase.org/Glossina_fuscipes/Transcript/Ontology/biological_process?db=core;g=GFUI011180;oid=biological_process\"> GFUI011180: GO: biological process </a>"
      ],
      "text/plain": [
       "<IPython.core.display.HTML object>"
      ]
     },
     "metadata": {},
     "output_type": "display_data"
    },
    {
     "data": {
      "text/html": [
       "<a href=\"https://www.vectorbase.org/Glossina_fuscipes/Transcript/Ontology/cellular_component?db=core;g=GFUI011180;oid=cellular_component\"> GFUI011180: GO: cellular component </a>"
      ],
      "text/plain": [
       "<IPython.core.display.HTML object>"
      ]
     },
     "metadata": {},
     "output_type": "display_data"
    },
    {
     "data": {
      "text/html": [
       "<a href=\"https://www.vectorbase.org/Glossina_fuscipes/Transcript/Ontology/molecular_function?db=core;g=GFUI011180;oid=molecular_function\"> GFUI011180: GO: molecular function </a>"
      ],
      "text/plain": [
       "<IPython.core.display.HTML object>"
      ]
     },
     "metadata": {},
     "output_type": "display_data"
    },
    {
     "data": {
      "text/html": [
       "<hr>"
      ],
      "text/plain": [
       "<IPython.core.display.HTML object>"
      ]
     },
     "metadata": {},
     "output_type": "display_data"
    },
    {
     "data": {
      "text/html": [
       "<h2>GFUI011907(official_annotations)</h2>"
      ],
      "text/plain": [
       "<IPython.core.display.HTML object>"
      ]
     },
     "metadata": {},
     "output_type": "display_data"
    },
    {
     "data": {
      "text/html": [
       "<b>SNPs:</b><br>Scaffold175:347132<br>"
      ],
      "text/plain": [
       "<IPython.core.display.HTML object>"
      ]
     },
     "metadata": {},
     "output_type": "display_data"
    },
    {
     "data": {
      "text/html": [
       "<div>\n",
       "<table border=\"1\" class=\"dataframe\">\n",
       "  <thead>\n",
       "    <tr style=\"text-align: right;\">\n",
       "      <th></th>\n",
       "      <th>Sequence</th>\n",
       "      <th>Aspect</th>\n",
       "      <th>GO ID</th>\n",
       "      <th>Name</th>\n",
       "      <th>Total Score</th>\n",
       "      <th>Internal Confidence</th>\n",
       "      <th>Information Content</th>\n",
       "    </tr>\n",
       "  </thead>\n",
       "  <tbody>\n",
       "  </tbody>\n",
       "</table>\n",
       "</div>"
      ],
      "text/plain": [
       "Empty DataFrame\n",
       "Columns: [Sequence, Aspect, GO ID, Name, Total Score, Internal Confidence, Information Content]\n",
       "Index: []"
      ]
     },
     "metadata": {},
     "output_type": "display_data"
    },
    {
     "data": {
      "text/html": [
       "<p>"
      ],
      "text/plain": [
       "<IPython.core.display.HTML object>"
      ]
     },
     "metadata": {},
     "output_type": "display_data"
    },
    {
     "data": {
      "text/html": [
       "<a href=\"https://www.vectorbase.org/Glossina_fuscipes/Gene/Summary?db=core;g=GFUI011907\"> GFUI011907: gene home page</a>"
      ],
      "text/plain": [
       "<IPython.core.display.HTML object>"
      ]
     },
     "metadata": {},
     "output_type": "display_data"
    },
    {
     "data": {
      "text/html": [
       "<a href=\"https://www.vectorbase.org/Glossina_fuscipes/Transcript/ProteinSummary?db=core;g=GFUI011907\"> GFUI011907: protein summary </a>"
      ],
      "text/plain": [
       "<IPython.core.display.HTML object>"
      ]
     },
     "metadata": {},
     "output_type": "display_data"
    },
    {
     "data": {
      "text/html": [
       "<a href=\"https://www.vectorbase.org/Glossina_fuscipes/Location/View?db=core;g=GFUI011907;r\"> GFUI011907: genome browser </a>"
      ],
      "text/plain": [
       "<IPython.core.display.HTML object>"
      ]
     },
     "metadata": {},
     "output_type": "display_data"
    },
    {
     "data": {
      "text/html": [
       "<a href=\"https://www.vectorbase.org/Glossina_fuscipes/Transcript/Ontology/biological_process?db=core;g=GFUI011907;oid=biological_process\"> GFUI011907: GO: biological process </a>"
      ],
      "text/plain": [
       "<IPython.core.display.HTML object>"
      ]
     },
     "metadata": {},
     "output_type": "display_data"
    },
    {
     "data": {
      "text/html": [
       "<a href=\"https://www.vectorbase.org/Glossina_fuscipes/Transcript/Ontology/cellular_component?db=core;g=GFUI011907;oid=cellular_component\"> GFUI011907: GO: cellular component </a>"
      ],
      "text/plain": [
       "<IPython.core.display.HTML object>"
      ]
     },
     "metadata": {},
     "output_type": "display_data"
    },
    {
     "data": {
      "text/html": [
       "<a href=\"https://www.vectorbase.org/Glossina_fuscipes/Transcript/Ontology/molecular_function?db=core;g=GFUI011907;oid=molecular_function\"> GFUI011907: GO: molecular function </a>"
      ],
      "text/plain": [
       "<IPython.core.display.HTML object>"
      ]
     },
     "metadata": {},
     "output_type": "display_data"
    },
    {
     "data": {
      "text/html": [
       "<hr>"
      ],
      "text/plain": [
       "<IPython.core.display.HTML object>"
      ]
     },
     "metadata": {},
     "output_type": "display_data"
    },
    {
     "data": {
      "text/html": [
       "<h2>GFUI012390(official_annotations)</h2>"
      ],
      "text/plain": [
       "<IPython.core.display.HTML object>"
      ]
     },
     "metadata": {},
     "output_type": "display_data"
    },
    {
     "data": {
      "text/html": [
       "<b>SNPs:</b><br>Scaffold17:948302<br>"
      ],
      "text/plain": [
       "<IPython.core.display.HTML object>"
      ]
     },
     "metadata": {},
     "output_type": "display_data"
    },
    {
     "data": {
      "text/html": [
       "<div>\n",
       "<table border=\"1\" class=\"dataframe\">\n",
       "  <thead>\n",
       "    <tr style=\"text-align: right;\">\n",
       "      <th></th>\n",
       "      <th>Sequence</th>\n",
       "      <th>Aspect</th>\n",
       "      <th>GO ID</th>\n",
       "      <th>Name</th>\n",
       "      <th>Total Score</th>\n",
       "      <th>Internal Confidence</th>\n",
       "      <th>Information Content</th>\n",
       "    </tr>\n",
       "  </thead>\n",
       "  <tbody>\n",
       "  </tbody>\n",
       "</table>\n",
       "</div>"
      ],
      "text/plain": [
       "Empty DataFrame\n",
       "Columns: [Sequence, Aspect, GO ID, Name, Total Score, Internal Confidence, Information Content]\n",
       "Index: []"
      ]
     },
     "metadata": {},
     "output_type": "display_data"
    },
    {
     "data": {
      "text/html": [
       "<p>"
      ],
      "text/plain": [
       "<IPython.core.display.HTML object>"
      ]
     },
     "metadata": {},
     "output_type": "display_data"
    },
    {
     "data": {
      "text/html": [
       "<a href=\"https://www.vectorbase.org/Glossina_fuscipes/Gene/Summary?db=core;g=GFUI012390\"> GFUI012390: gene home page</a>"
      ],
      "text/plain": [
       "<IPython.core.display.HTML object>"
      ]
     },
     "metadata": {},
     "output_type": "display_data"
    },
    {
     "data": {
      "text/html": [
       "<a href=\"https://www.vectorbase.org/Glossina_fuscipes/Transcript/ProteinSummary?db=core;g=GFUI012390\"> GFUI012390: protein summary </a>"
      ],
      "text/plain": [
       "<IPython.core.display.HTML object>"
      ]
     },
     "metadata": {},
     "output_type": "display_data"
    },
    {
     "data": {
      "text/html": [
       "<a href=\"https://www.vectorbase.org/Glossina_fuscipes/Location/View?db=core;g=GFUI012390;r\"> GFUI012390: genome browser </a>"
      ],
      "text/plain": [
       "<IPython.core.display.HTML object>"
      ]
     },
     "metadata": {},
     "output_type": "display_data"
    },
    {
     "data": {
      "text/html": [
       "<a href=\"https://www.vectorbase.org/Glossina_fuscipes/Transcript/Ontology/biological_process?db=core;g=GFUI012390;oid=biological_process\"> GFUI012390: GO: biological process </a>"
      ],
      "text/plain": [
       "<IPython.core.display.HTML object>"
      ]
     },
     "metadata": {},
     "output_type": "display_data"
    },
    {
     "data": {
      "text/html": [
       "<a href=\"https://www.vectorbase.org/Glossina_fuscipes/Transcript/Ontology/cellular_component?db=core;g=GFUI012390;oid=cellular_component\"> GFUI012390: GO: cellular component </a>"
      ],
      "text/plain": [
       "<IPython.core.display.HTML object>"
      ]
     },
     "metadata": {},
     "output_type": "display_data"
    },
    {
     "data": {
      "text/html": [
       "<a href=\"https://www.vectorbase.org/Glossina_fuscipes/Transcript/Ontology/molecular_function?db=core;g=GFUI012390;oid=molecular_function\"> GFUI012390: GO: molecular function </a>"
      ],
      "text/plain": [
       "<IPython.core.display.HTML object>"
      ]
     },
     "metadata": {},
     "output_type": "display_data"
    },
    {
     "data": {
      "text/html": [
       "<hr>"
      ],
      "text/plain": [
       "<IPython.core.display.HTML object>"
      ]
     },
     "metadata": {},
     "output_type": "display_data"
    },
    {
     "data": {
      "text/html": [
       "<h2>GFUI014494(official_annotations)</h2>"
      ],
      "text/plain": [
       "<IPython.core.display.HTML object>"
      ]
     },
     "metadata": {},
     "output_type": "display_data"
    },
    {
     "data": {
      "text/html": [
       "<b>SNPs:</b><br>Scaffold19:1333946<br>"
      ],
      "text/plain": [
       "<IPython.core.display.HTML object>"
      ]
     },
     "metadata": {},
     "output_type": "display_data"
    },
    {
     "data": {
      "text/html": [
       "<div>\n",
       "<table border=\"1\" class=\"dataframe\">\n",
       "  <thead>\n",
       "    <tr style=\"text-align: right;\">\n",
       "      <th></th>\n",
       "      <th>Sequence</th>\n",
       "      <th>Aspect</th>\n",
       "      <th>GO ID</th>\n",
       "      <th>Name</th>\n",
       "      <th>Total Score</th>\n",
       "      <th>Internal Confidence</th>\n",
       "      <th>Information Content</th>\n",
       "    </tr>\n",
       "  </thead>\n",
       "  <tbody>\n",
       "    <tr>\n",
       "      <th>55915</th>\n",
       "      <td>GFUI014494-PA</td>\n",
       "      <td>F</td>\n",
       "      <td>GO:0004872</td>\n",
       "      <td>receptor activity</td>\n",
       "      <td>4709.793638</td>\n",
       "      <td>0.378393</td>\n",
       "      <td>5.857211</td>\n",
       "    </tr>\n",
       "    <tr>\n",
       "      <th>55916</th>\n",
       "      <td>GFUI014494-PA</td>\n",
       "      <td>F</td>\n",
       "      <td>GO:0005515</td>\n",
       "      <td>protein binding</td>\n",
       "      <td>1301.244288</td>\n",
       "      <td>0.363450</td>\n",
       "      <td>5.471582</td>\n",
       "    </tr>\n",
       "    <tr>\n",
       "      <th>55919</th>\n",
       "      <td>GFUI014494-PA</td>\n",
       "      <td>C</td>\n",
       "      <td>GO:0016021</td>\n",
       "      <td>integral component of membrane</td>\n",
       "      <td>1289.627274</td>\n",
       "      <td>0.303643</td>\n",
       "      <td>3.692502</td>\n",
       "    </tr>\n",
       "    <tr>\n",
       "      <th>55911</th>\n",
       "      <td>GFUI014494-PA</td>\n",
       "      <td>P</td>\n",
       "      <td>GO:0030154</td>\n",
       "      <td>cell differentiation</td>\n",
       "      <td>1157.704966</td>\n",
       "      <td>0.371667</td>\n",
       "      <td>8.342626</td>\n",
       "    </tr>\n",
       "    <tr>\n",
       "      <th>55912</th>\n",
       "      <td>GFUI014494-PA</td>\n",
       "      <td>P</td>\n",
       "      <td>GO:0007411</td>\n",
       "      <td>axon guidance</td>\n",
       "      <td>1130.861137</td>\n",
       "      <td>0.172173</td>\n",
       "      <td>13.561653</td>\n",
       "    </tr>\n",
       "    <tr>\n",
       "      <th>55918</th>\n",
       "      <td>GFUI014494-PA</td>\n",
       "      <td>C</td>\n",
       "      <td>GO:0016020</td>\n",
       "      <td>membrane</td>\n",
       "      <td>936.844803</td>\n",
       "      <td>0.738970</td>\n",
       "      <td>2.472824</td>\n",
       "    </tr>\n",
       "    <tr>\n",
       "      <th>55909</th>\n",
       "      <td>GFUI014494-PA</td>\n",
       "      <td>P</td>\n",
       "      <td>GO:0007275</td>\n",
       "      <td>multicellular organismal development</td>\n",
       "      <td>679.989756</td>\n",
       "      <td>0.647094</td>\n",
       "      <td>7.690822</td>\n",
       "    </tr>\n",
       "    <tr>\n",
       "      <th>55910</th>\n",
       "      <td>GFUI014494-PA</td>\n",
       "      <td>P</td>\n",
       "      <td>GO:0007399</td>\n",
       "      <td>nervous system development</td>\n",
       "      <td>339.230660</td>\n",
       "      <td>0.456295</td>\n",
       "      <td>9.465630</td>\n",
       "    </tr>\n",
       "    <tr>\n",
       "      <th>55913</th>\n",
       "      <td>GFUI014494-PA</td>\n",
       "      <td>P</td>\n",
       "      <td>GO:0008045</td>\n",
       "      <td>motor neuron axon guidance</td>\n",
       "      <td>233.467902</td>\n",
       "      <td>0.032233</td>\n",
       "      <td>15.827251</td>\n",
       "    </tr>\n",
       "    <tr>\n",
       "      <th>55917</th>\n",
       "      <td>GFUI014494-PA</td>\n",
       "      <td>C</td>\n",
       "      <td>GO:0005886</td>\n",
       "      <td>plasma membrane</td>\n",
       "      <td>216.764267</td>\n",
       "      <td>0.137298</td>\n",
       "      <td>4.357169</td>\n",
       "    </tr>\n",
       "  </tbody>\n",
       "</table>\n",
       "</div>"
      ],
      "text/plain": [
       "            Sequence Aspect       GO ID                                  Name  \\\n",
       "55915  GFUI014494-PA      F  GO:0004872                     receptor activity   \n",
       "55916  GFUI014494-PA      F  GO:0005515                       protein binding   \n",
       "55919  GFUI014494-PA      C  GO:0016021        integral component of membrane   \n",
       "55911  GFUI014494-PA      P  GO:0030154                  cell differentiation   \n",
       "55912  GFUI014494-PA      P  GO:0007411                         axon guidance   \n",
       "55918  GFUI014494-PA      C  GO:0016020                              membrane   \n",
       "55909  GFUI014494-PA      P  GO:0007275  multicellular organismal development   \n",
       "55910  GFUI014494-PA      P  GO:0007399            nervous system development   \n",
       "55913  GFUI014494-PA      P  GO:0008045            motor neuron axon guidance   \n",
       "55917  GFUI014494-PA      C  GO:0005886                       plasma membrane   \n",
       "\n",
       "       Total Score  Internal Confidence  Information Content  \n",
       "55915  4709.793638             0.378393             5.857211  \n",
       "55916  1301.244288             0.363450             5.471582  \n",
       "55919  1289.627274             0.303643             3.692502  \n",
       "55911  1157.704966             0.371667             8.342626  \n",
       "55912  1130.861137             0.172173            13.561653  \n",
       "55918   936.844803             0.738970             2.472824  \n",
       "55909   679.989756             0.647094             7.690822  \n",
       "55910   339.230660             0.456295             9.465630  \n",
       "55913   233.467902             0.032233            15.827251  \n",
       "55917   216.764267             0.137298             4.357169  "
      ]
     },
     "metadata": {},
     "output_type": "display_data"
    },
    {
     "data": {
      "text/html": [
       "<p>"
      ],
      "text/plain": [
       "<IPython.core.display.HTML object>"
      ]
     },
     "metadata": {},
     "output_type": "display_data"
    },
    {
     "data": {
      "text/html": [
       "<a href=\"https://www.vectorbase.org/Glossina_fuscipes/Gene/Summary?db=core;g=GFUI014494\"> GFUI014494: gene home page</a>"
      ],
      "text/plain": [
       "<IPython.core.display.HTML object>"
      ]
     },
     "metadata": {},
     "output_type": "display_data"
    },
    {
     "data": {
      "text/html": [
       "<a href=\"https://www.vectorbase.org/Glossina_fuscipes/Transcript/ProteinSummary?db=core;g=GFUI014494\"> GFUI014494: protein summary </a>"
      ],
      "text/plain": [
       "<IPython.core.display.HTML object>"
      ]
     },
     "metadata": {},
     "output_type": "display_data"
    },
    {
     "data": {
      "text/html": [
       "<a href=\"https://www.vectorbase.org/Glossina_fuscipes/Location/View?db=core;g=GFUI014494;r\"> GFUI014494: genome browser </a>"
      ],
      "text/plain": [
       "<IPython.core.display.HTML object>"
      ]
     },
     "metadata": {},
     "output_type": "display_data"
    },
    {
     "data": {
      "text/html": [
       "<a href=\"https://www.vectorbase.org/Glossina_fuscipes/Transcript/Ontology/biological_process?db=core;g=GFUI014494;oid=biological_process\"> GFUI014494: GO: biological process </a>"
      ],
      "text/plain": [
       "<IPython.core.display.HTML object>"
      ]
     },
     "metadata": {},
     "output_type": "display_data"
    },
    {
     "data": {
      "text/html": [
       "<a href=\"https://www.vectorbase.org/Glossina_fuscipes/Transcript/Ontology/cellular_component?db=core;g=GFUI014494;oid=cellular_component\"> GFUI014494: GO: cellular component </a>"
      ],
      "text/plain": [
       "<IPython.core.display.HTML object>"
      ]
     },
     "metadata": {},
     "output_type": "display_data"
    },
    {
     "data": {
      "text/html": [
       "<a href=\"https://www.vectorbase.org/Glossina_fuscipes/Transcript/Ontology/molecular_function?db=core;g=GFUI014494;oid=molecular_function\"> GFUI014494: GO: molecular function </a>"
      ],
      "text/plain": [
       "<IPython.core.display.HTML object>"
      ]
     },
     "metadata": {},
     "output_type": "display_data"
    },
    {
     "data": {
      "text/html": [
       "<hr>"
      ],
      "text/plain": [
       "<IPython.core.display.HTML object>"
      ]
     },
     "metadata": {},
     "output_type": "display_data"
    },
    {
     "data": {
      "text/html": [
       "<h2>GFUI020790(official_annotations)</h2>"
      ],
      "text/plain": [
       "<IPython.core.display.HTML object>"
      ]
     },
     "metadata": {},
     "output_type": "display_data"
    },
    {
     "data": {
      "text/html": [
       "<b>SNPs:</b><br>Scaffold268:383222<br>"
      ],
      "text/plain": [
       "<IPython.core.display.HTML object>"
      ]
     },
     "metadata": {},
     "output_type": "display_data"
    },
    {
     "data": {
      "text/html": [
       "<div>\n",
       "<table border=\"1\" class=\"dataframe\">\n",
       "  <thead>\n",
       "    <tr style=\"text-align: right;\">\n",
       "      <th></th>\n",
       "      <th>Sequence</th>\n",
       "      <th>Aspect</th>\n",
       "      <th>GO ID</th>\n",
       "      <th>Name</th>\n",
       "      <th>Total Score</th>\n",
       "      <th>Internal Confidence</th>\n",
       "      <th>Information Content</th>\n",
       "    </tr>\n",
       "  </thead>\n",
       "  <tbody>\n",
       "    <tr>\n",
       "      <th>40512</th>\n",
       "      <td>GFUI020790-PA</td>\n",
       "      <td>F</td>\n",
       "      <td>GO:0000062</td>\n",
       "      <td>fatty-acyl-CoA binding</td>\n",
       "      <td>9944.925842</td>\n",
       "      <td>0.334478</td>\n",
       "      <td>10.777529</td>\n",
       "    </tr>\n",
       "    <tr>\n",
       "      <th>40511</th>\n",
       "      <td>GFUI020790-PA</td>\n",
       "      <td>P</td>\n",
       "      <td>GO:0006810</td>\n",
       "      <td>transport</td>\n",
       "      <td>276.682260</td>\n",
       "      <td>0.264352</td>\n",
       "      <td>5.069855</td>\n",
       "    </tr>\n",
       "  </tbody>\n",
       "</table>\n",
       "</div>"
      ],
      "text/plain": [
       "            Sequence Aspect       GO ID                    Name  Total Score  \\\n",
       "40512  GFUI020790-PA      F  GO:0000062  fatty-acyl-CoA binding  9944.925842   \n",
       "40511  GFUI020790-PA      P  GO:0006810               transport   276.682260   \n",
       "\n",
       "       Internal Confidence  Information Content  \n",
       "40512             0.334478            10.777529  \n",
       "40511             0.264352             5.069855  "
      ]
     },
     "metadata": {},
     "output_type": "display_data"
    },
    {
     "data": {
      "text/html": [
       "<p>"
      ],
      "text/plain": [
       "<IPython.core.display.HTML object>"
      ]
     },
     "metadata": {},
     "output_type": "display_data"
    },
    {
     "data": {
      "text/html": [
       "<a href=\"https://www.vectorbase.org/Glossina_fuscipes/Gene/Summary?db=core;g=GFUI020790\"> GFUI020790: gene home page</a>"
      ],
      "text/plain": [
       "<IPython.core.display.HTML object>"
      ]
     },
     "metadata": {},
     "output_type": "display_data"
    },
    {
     "data": {
      "text/html": [
       "<a href=\"https://www.vectorbase.org/Glossina_fuscipes/Transcript/ProteinSummary?db=core;g=GFUI020790\"> GFUI020790: protein summary </a>"
      ],
      "text/plain": [
       "<IPython.core.display.HTML object>"
      ]
     },
     "metadata": {},
     "output_type": "display_data"
    },
    {
     "data": {
      "text/html": [
       "<a href=\"https://www.vectorbase.org/Glossina_fuscipes/Location/View?db=core;g=GFUI020790;r\"> GFUI020790: genome browser </a>"
      ],
      "text/plain": [
       "<IPython.core.display.HTML object>"
      ]
     },
     "metadata": {},
     "output_type": "display_data"
    },
    {
     "data": {
      "text/html": [
       "<a href=\"https://www.vectorbase.org/Glossina_fuscipes/Transcript/Ontology/biological_process?db=core;g=GFUI020790;oid=biological_process\"> GFUI020790: GO: biological process </a>"
      ],
      "text/plain": [
       "<IPython.core.display.HTML object>"
      ]
     },
     "metadata": {},
     "output_type": "display_data"
    },
    {
     "data": {
      "text/html": [
       "<a href=\"https://www.vectorbase.org/Glossina_fuscipes/Transcript/Ontology/cellular_component?db=core;g=GFUI020790;oid=cellular_component\"> GFUI020790: GO: cellular component </a>"
      ],
      "text/plain": [
       "<IPython.core.display.HTML object>"
      ]
     },
     "metadata": {},
     "output_type": "display_data"
    },
    {
     "data": {
      "text/html": [
       "<a href=\"https://www.vectorbase.org/Glossina_fuscipes/Transcript/Ontology/molecular_function?db=core;g=GFUI020790;oid=molecular_function\"> GFUI020790: GO: molecular function </a>"
      ],
      "text/plain": [
       "<IPython.core.display.HTML object>"
      ]
     },
     "metadata": {},
     "output_type": "display_data"
    },
    {
     "data": {
      "text/html": [
       "<hr>"
      ],
      "text/plain": [
       "<IPython.core.display.HTML object>"
      ]
     },
     "metadata": {},
     "output_type": "display_data"
    },
    {
     "data": {
      "text/html": [
       "<h2>GFUI021833(official_annotations)</h2>"
      ],
      "text/plain": [
       "<IPython.core.display.HTML object>"
      ]
     },
     "metadata": {},
     "output_type": "display_data"
    },
    {
     "data": {
      "text/html": [
       "<b>SNPs:</b><br>Scaffold27:959995<br>"
      ],
      "text/plain": [
       "<IPython.core.display.HTML object>"
      ]
     },
     "metadata": {},
     "output_type": "display_data"
    },
    {
     "data": {
      "text/html": [
       "<div>\n",
       "<table border=\"1\" class=\"dataframe\">\n",
       "  <thead>\n",
       "    <tr style=\"text-align: right;\">\n",
       "      <th></th>\n",
       "      <th>Sequence</th>\n",
       "      <th>Aspect</th>\n",
       "      <th>GO ID</th>\n",
       "      <th>Name</th>\n",
       "      <th>Total Score</th>\n",
       "      <th>Internal Confidence</th>\n",
       "      <th>Information Content</th>\n",
       "    </tr>\n",
       "  </thead>\n",
       "  <tbody>\n",
       "    <tr>\n",
       "      <th>59774</th>\n",
       "      <td>GFUI021833-PA</td>\n",
       "      <td>P</td>\n",
       "      <td>GO:0042478</td>\n",
       "      <td>regulation of eye photoreceptor cell development</td>\n",
       "      <td>1828.310576</td>\n",
       "      <td>0.104519</td>\n",
       "      <td>19.021834</td>\n",
       "    </tr>\n",
       "    <tr>\n",
       "      <th>59776</th>\n",
       "      <td>GFUI021833-PA</td>\n",
       "      <td>C</td>\n",
       "      <td>GO:0016021</td>\n",
       "      <td>integral component of membrane</td>\n",
       "      <td>1602.750453</td>\n",
       "      <td>0.328501</td>\n",
       "      <td>3.692502</td>\n",
       "    </tr>\n",
       "    <tr>\n",
       "      <th>59775</th>\n",
       "      <td>GFUI021833-PA</td>\n",
       "      <td>C</td>\n",
       "      <td>GO:0016020</td>\n",
       "      <td>membrane</td>\n",
       "      <td>1107.220450</td>\n",
       "      <td>0.666834</td>\n",
       "      <td>2.472824</td>\n",
       "    </tr>\n",
       "    <tr>\n",
       "      <th>59773</th>\n",
       "      <td>GFUI021833-PA</td>\n",
       "      <td>P</td>\n",
       "      <td>GO:0030154</td>\n",
       "      <td>cell differentiation</td>\n",
       "      <td>860.701718</td>\n",
       "      <td>0.233555</td>\n",
       "      <td>8.342626</td>\n",
       "    </tr>\n",
       "    <tr>\n",
       "      <th>59772</th>\n",
       "      <td>GFUI021833-PA</td>\n",
       "      <td>P</td>\n",
       "      <td>GO:0007275</td>\n",
       "      <td>multicellular organismal development</td>\n",
       "      <td>739.477899</td>\n",
       "      <td>0.252392</td>\n",
       "      <td>7.690822</td>\n",
       "    </tr>\n",
       "  </tbody>\n",
       "</table>\n",
       "</div>"
      ],
      "text/plain": [
       "            Sequence Aspect       GO ID  \\\n",
       "59774  GFUI021833-PA      P  GO:0042478   \n",
       "59776  GFUI021833-PA      C  GO:0016021   \n",
       "59775  GFUI021833-PA      C  GO:0016020   \n",
       "59773  GFUI021833-PA      P  GO:0030154   \n",
       "59772  GFUI021833-PA      P  GO:0007275   \n",
       "\n",
       "                                                   Name  Total Score  \\\n",
       "59774  regulation of eye photoreceptor cell development  1828.310576   \n",
       "59776                    integral component of membrane  1602.750453   \n",
       "59775                                          membrane  1107.220450   \n",
       "59773                              cell differentiation   860.701718   \n",
       "59772              multicellular organismal development   739.477899   \n",
       "\n",
       "       Internal Confidence  Information Content  \n",
       "59774             0.104519            19.021834  \n",
       "59776             0.328501             3.692502  \n",
       "59775             0.666834             2.472824  \n",
       "59773             0.233555             8.342626  \n",
       "59772             0.252392             7.690822  "
      ]
     },
     "metadata": {},
     "output_type": "display_data"
    },
    {
     "data": {
      "text/html": [
       "<p>"
      ],
      "text/plain": [
       "<IPython.core.display.HTML object>"
      ]
     },
     "metadata": {},
     "output_type": "display_data"
    },
    {
     "data": {
      "text/html": [
       "<a href=\"https://www.vectorbase.org/Glossina_fuscipes/Gene/Summary?db=core;g=GFUI021833\"> GFUI021833: gene home page</a>"
      ],
      "text/plain": [
       "<IPython.core.display.HTML object>"
      ]
     },
     "metadata": {},
     "output_type": "display_data"
    },
    {
     "data": {
      "text/html": [
       "<a href=\"https://www.vectorbase.org/Glossina_fuscipes/Transcript/ProteinSummary?db=core;g=GFUI021833\"> GFUI021833: protein summary </a>"
      ],
      "text/plain": [
       "<IPython.core.display.HTML object>"
      ]
     },
     "metadata": {},
     "output_type": "display_data"
    },
    {
     "data": {
      "text/html": [
       "<a href=\"https://www.vectorbase.org/Glossina_fuscipes/Location/View?db=core;g=GFUI021833;r\"> GFUI021833: genome browser </a>"
      ],
      "text/plain": [
       "<IPython.core.display.HTML object>"
      ]
     },
     "metadata": {},
     "output_type": "display_data"
    },
    {
     "data": {
      "text/html": [
       "<a href=\"https://www.vectorbase.org/Glossina_fuscipes/Transcript/Ontology/biological_process?db=core;g=GFUI021833;oid=biological_process\"> GFUI021833: GO: biological process </a>"
      ],
      "text/plain": [
       "<IPython.core.display.HTML object>"
      ]
     },
     "metadata": {},
     "output_type": "display_data"
    },
    {
     "data": {
      "text/html": [
       "<a href=\"https://www.vectorbase.org/Glossina_fuscipes/Transcript/Ontology/cellular_component?db=core;g=GFUI021833;oid=cellular_component\"> GFUI021833: GO: cellular component </a>"
      ],
      "text/plain": [
       "<IPython.core.display.HTML object>"
      ]
     },
     "metadata": {},
     "output_type": "display_data"
    },
    {
     "data": {
      "text/html": [
       "<a href=\"https://www.vectorbase.org/Glossina_fuscipes/Transcript/Ontology/molecular_function?db=core;g=GFUI021833;oid=molecular_function\"> GFUI021833: GO: molecular function </a>"
      ],
      "text/plain": [
       "<IPython.core.display.HTML object>"
      ]
     },
     "metadata": {},
     "output_type": "display_data"
    },
    {
     "data": {
      "text/html": [
       "<hr>"
      ],
      "text/plain": [
       "<IPython.core.display.HTML object>"
      ]
     },
     "metadata": {},
     "output_type": "display_data"
    },
    {
     "data": {
      "text/html": [
       "<h2>GFUI023675(official_annotations)</h2>"
      ],
      "text/plain": [
       "<IPython.core.display.HTML object>"
      ]
     },
     "metadata": {},
     "output_type": "display_data"
    },
    {
     "data": {
      "text/html": [
       "<b>SNPs:</b><br>Scaffold2:1600828<br>"
      ],
      "text/plain": [
       "<IPython.core.display.HTML object>"
      ]
     },
     "metadata": {},
     "output_type": "display_data"
    },
    {
     "data": {
      "text/html": [
       "<div>\n",
       "<table border=\"1\" class=\"dataframe\">\n",
       "  <thead>\n",
       "    <tr style=\"text-align: right;\">\n",
       "      <th></th>\n",
       "      <th>Sequence</th>\n",
       "      <th>Aspect</th>\n",
       "      <th>GO ID</th>\n",
       "      <th>Name</th>\n",
       "      <th>Total Score</th>\n",
       "      <th>Internal Confidence</th>\n",
       "      <th>Information Content</th>\n",
       "    </tr>\n",
       "  </thead>\n",
       "  <tbody>\n",
       "  </tbody>\n",
       "</table>\n",
       "</div>"
      ],
      "text/plain": [
       "Empty DataFrame\n",
       "Columns: [Sequence, Aspect, GO ID, Name, Total Score, Internal Confidence, Information Content]\n",
       "Index: []"
      ]
     },
     "metadata": {},
     "output_type": "display_data"
    },
    {
     "data": {
      "text/html": [
       "<p>"
      ],
      "text/plain": [
       "<IPython.core.display.HTML object>"
      ]
     },
     "metadata": {},
     "output_type": "display_data"
    },
    {
     "data": {
      "text/html": [
       "<a href=\"https://www.vectorbase.org/Glossina_fuscipes/Gene/Summary?db=core;g=GFUI023675\"> GFUI023675: gene home page</a>"
      ],
      "text/plain": [
       "<IPython.core.display.HTML object>"
      ]
     },
     "metadata": {},
     "output_type": "display_data"
    },
    {
     "data": {
      "text/html": [
       "<a href=\"https://www.vectorbase.org/Glossina_fuscipes/Transcript/ProteinSummary?db=core;g=GFUI023675\"> GFUI023675: protein summary </a>"
      ],
      "text/plain": [
       "<IPython.core.display.HTML object>"
      ]
     },
     "metadata": {},
     "output_type": "display_data"
    },
    {
     "data": {
      "text/html": [
       "<a href=\"https://www.vectorbase.org/Glossina_fuscipes/Location/View?db=core;g=GFUI023675;r\"> GFUI023675: genome browser </a>"
      ],
      "text/plain": [
       "<IPython.core.display.HTML object>"
      ]
     },
     "metadata": {},
     "output_type": "display_data"
    },
    {
     "data": {
      "text/html": [
       "<a href=\"https://www.vectorbase.org/Glossina_fuscipes/Transcript/Ontology/biological_process?db=core;g=GFUI023675;oid=biological_process\"> GFUI023675: GO: biological process </a>"
      ],
      "text/plain": [
       "<IPython.core.display.HTML object>"
      ]
     },
     "metadata": {},
     "output_type": "display_data"
    },
    {
     "data": {
      "text/html": [
       "<a href=\"https://www.vectorbase.org/Glossina_fuscipes/Transcript/Ontology/cellular_component?db=core;g=GFUI023675;oid=cellular_component\"> GFUI023675: GO: cellular component </a>"
      ],
      "text/plain": [
       "<IPython.core.display.HTML object>"
      ]
     },
     "metadata": {},
     "output_type": "display_data"
    },
    {
     "data": {
      "text/html": [
       "<a href=\"https://www.vectorbase.org/Glossina_fuscipes/Transcript/Ontology/molecular_function?db=core;g=GFUI023675;oid=molecular_function\"> GFUI023675: GO: molecular function </a>"
      ],
      "text/plain": [
       "<IPython.core.display.HTML object>"
      ]
     },
     "metadata": {},
     "output_type": "display_data"
    },
    {
     "data": {
      "text/html": [
       "<hr>"
      ],
      "text/plain": [
       "<IPython.core.display.HTML object>"
      ]
     },
     "metadata": {},
     "output_type": "display_data"
    },
    {
     "data": {
      "text/html": [
       "<h2>GFUI023751(official_annotations)</h2>"
      ],
      "text/plain": [
       "<IPython.core.display.HTML object>"
      ]
     },
     "metadata": {},
     "output_type": "display_data"
    },
    {
     "data": {
      "text/html": [
       "<b>SNPs:</b><br>Scaffold2:2206337<br>"
      ],
      "text/plain": [
       "<IPython.core.display.HTML object>"
      ]
     },
     "metadata": {},
     "output_type": "display_data"
    },
    {
     "data": {
      "text/html": [
       "<div>\n",
       "<table border=\"1\" class=\"dataframe\">\n",
       "  <thead>\n",
       "    <tr style=\"text-align: right;\">\n",
       "      <th></th>\n",
       "      <th>Sequence</th>\n",
       "      <th>Aspect</th>\n",
       "      <th>GO ID</th>\n",
       "      <th>Name</th>\n",
       "      <th>Total Score</th>\n",
       "      <th>Internal Confidence</th>\n",
       "      <th>Information Content</th>\n",
       "    </tr>\n",
       "  </thead>\n",
       "  <tbody>\n",
       "    <tr>\n",
       "      <th>62673</th>\n",
       "      <td>GFUI023751-PA</td>\n",
       "      <td>F</td>\n",
       "      <td>GO:0008017</td>\n",
       "      <td>microtubule binding</td>\n",
       "      <td>1647.254698</td>\n",
       "      <td>0.134332</td>\n",
       "      <td>9.436151</td>\n",
       "    </tr>\n",
       "    <tr>\n",
       "      <th>62680</th>\n",
       "      <td>GFUI023751-PA</td>\n",
       "      <td>C</td>\n",
       "      <td>GO:0005737</td>\n",
       "      <td>cytoplasm</td>\n",
       "      <td>858.000384</td>\n",
       "      <td>0.255226</td>\n",
       "      <td>3.178476</td>\n",
       "    </tr>\n",
       "    <tr>\n",
       "      <th>62672</th>\n",
       "      <td>GFUI023751-PA</td>\n",
       "      <td>F</td>\n",
       "      <td>GO:0005515</td>\n",
       "      <td>protein binding</td>\n",
       "      <td>550.247579</td>\n",
       "      <td>0.338247</td>\n",
       "      <td>5.471582</td>\n",
       "    </tr>\n",
       "    <tr>\n",
       "      <th>62674</th>\n",
       "      <td>GFUI023751-PA</td>\n",
       "      <td>C</td>\n",
       "      <td>GO:0043234</td>\n",
       "      <td>protein complex</td>\n",
       "      <td>537.480631</td>\n",
       "      <td>0.281680</td>\n",
       "      <td>4.565728</td>\n",
       "    </tr>\n",
       "    <tr>\n",
       "      <th>62675</th>\n",
       "      <td>GFUI023751-PA</td>\n",
       "      <td>C</td>\n",
       "      <td>GO:0000922</td>\n",
       "      <td>spindle pole</td>\n",
       "      <td>466.756769</td>\n",
       "      <td>0.104516</td>\n",
       "      <td>10.799745</td>\n",
       "    </tr>\n",
       "    <tr>\n",
       "      <th>62671</th>\n",
       "      <td>GFUI023751-PA</td>\n",
       "      <td>P</td>\n",
       "      <td>GO:0007067</td>\n",
       "      <td>mitotic nuclear division</td>\n",
       "      <td>265.490248</td>\n",
       "      <td>0.087227</td>\n",
       "      <td>11.153626</td>\n",
       "    </tr>\n",
       "    <tr>\n",
       "      <th>62669</th>\n",
       "      <td>GFUI023751-PA</td>\n",
       "      <td>P</td>\n",
       "      <td>GO:0007051</td>\n",
       "      <td>spindle organization</td>\n",
       "      <td>239.614465</td>\n",
       "      <td>0.066361</td>\n",
       "      <td>13.914920</td>\n",
       "    </tr>\n",
       "    <tr>\n",
       "      <th>62676</th>\n",
       "      <td>GFUI023751-PA</td>\n",
       "      <td>C</td>\n",
       "      <td>GO:0005813</td>\n",
       "      <td>centrosome</td>\n",
       "      <td>225.673324</td>\n",
       "      <td>0.066038</td>\n",
       "      <td>10.018345</td>\n",
       "    </tr>\n",
       "  </tbody>\n",
       "</table>\n",
       "</div>"
      ],
      "text/plain": [
       "            Sequence Aspect       GO ID                      Name  \\\n",
       "62673  GFUI023751-PA      F  GO:0008017       microtubule binding   \n",
       "62680  GFUI023751-PA      C  GO:0005737                 cytoplasm   \n",
       "62672  GFUI023751-PA      F  GO:0005515           protein binding   \n",
       "62674  GFUI023751-PA      C  GO:0043234           protein complex   \n",
       "62675  GFUI023751-PA      C  GO:0000922              spindle pole   \n",
       "62671  GFUI023751-PA      P  GO:0007067  mitotic nuclear division   \n",
       "62669  GFUI023751-PA      P  GO:0007051      spindle organization   \n",
       "62676  GFUI023751-PA      C  GO:0005813                centrosome   \n",
       "\n",
       "       Total Score  Internal Confidence  Information Content  \n",
       "62673  1647.254698             0.134332             9.436151  \n",
       "62680   858.000384             0.255226             3.178476  \n",
       "62672   550.247579             0.338247             5.471582  \n",
       "62674   537.480631             0.281680             4.565728  \n",
       "62675   466.756769             0.104516            10.799745  \n",
       "62671   265.490248             0.087227            11.153626  \n",
       "62669   239.614465             0.066361            13.914920  \n",
       "62676   225.673324             0.066038            10.018345  "
      ]
     },
     "metadata": {},
     "output_type": "display_data"
    },
    {
     "data": {
      "text/html": [
       "<p>"
      ],
      "text/plain": [
       "<IPython.core.display.HTML object>"
      ]
     },
     "metadata": {},
     "output_type": "display_data"
    },
    {
     "data": {
      "text/html": [
       "<a href=\"https://www.vectorbase.org/Glossina_fuscipes/Gene/Summary?db=core;g=GFUI023751\"> GFUI023751: gene home page</a>"
      ],
      "text/plain": [
       "<IPython.core.display.HTML object>"
      ]
     },
     "metadata": {},
     "output_type": "display_data"
    },
    {
     "data": {
      "text/html": [
       "<a href=\"https://www.vectorbase.org/Glossina_fuscipes/Transcript/ProteinSummary?db=core;g=GFUI023751\"> GFUI023751: protein summary </a>"
      ],
      "text/plain": [
       "<IPython.core.display.HTML object>"
      ]
     },
     "metadata": {},
     "output_type": "display_data"
    },
    {
     "data": {
      "text/html": [
       "<a href=\"https://www.vectorbase.org/Glossina_fuscipes/Location/View?db=core;g=GFUI023751;r\"> GFUI023751: genome browser </a>"
      ],
      "text/plain": [
       "<IPython.core.display.HTML object>"
      ]
     },
     "metadata": {},
     "output_type": "display_data"
    },
    {
     "data": {
      "text/html": [
       "<a href=\"https://www.vectorbase.org/Glossina_fuscipes/Transcript/Ontology/biological_process?db=core;g=GFUI023751;oid=biological_process\"> GFUI023751: GO: biological process </a>"
      ],
      "text/plain": [
       "<IPython.core.display.HTML object>"
      ]
     },
     "metadata": {},
     "output_type": "display_data"
    },
    {
     "data": {
      "text/html": [
       "<a href=\"https://www.vectorbase.org/Glossina_fuscipes/Transcript/Ontology/cellular_component?db=core;g=GFUI023751;oid=cellular_component\"> GFUI023751: GO: cellular component </a>"
      ],
      "text/plain": [
       "<IPython.core.display.HTML object>"
      ]
     },
     "metadata": {},
     "output_type": "display_data"
    },
    {
     "data": {
      "text/html": [
       "<a href=\"https://www.vectorbase.org/Glossina_fuscipes/Transcript/Ontology/molecular_function?db=core;g=GFUI023751;oid=molecular_function\"> GFUI023751: GO: molecular function </a>"
      ],
      "text/plain": [
       "<IPython.core.display.HTML object>"
      ]
     },
     "metadata": {},
     "output_type": "display_data"
    },
    {
     "data": {
      "text/html": [
       "<hr>"
      ],
      "text/plain": [
       "<IPython.core.display.HTML object>"
      ]
     },
     "metadata": {},
     "output_type": "display_data"
    },
    {
     "data": {
      "text/html": [
       "<h2>GFUI026464(official_annotations)</h2>"
      ],
      "text/plain": [
       "<IPython.core.display.HTML object>"
      ]
     },
     "metadata": {},
     "output_type": "display_data"
    },
    {
     "data": {
      "text/html": [
       "<b>SNPs:</b><br>Scaffold33:120812<br>"
      ],
      "text/plain": [
       "<IPython.core.display.HTML object>"
      ]
     },
     "metadata": {},
     "output_type": "display_data"
    },
    {
     "data": {
      "text/html": [
       "<div>\n",
       "<table border=\"1\" class=\"dataframe\">\n",
       "  <thead>\n",
       "    <tr style=\"text-align: right;\">\n",
       "      <th></th>\n",
       "      <th>Sequence</th>\n",
       "      <th>Aspect</th>\n",
       "      <th>GO ID</th>\n",
       "      <th>Name</th>\n",
       "      <th>Total Score</th>\n",
       "      <th>Internal Confidence</th>\n",
       "      <th>Information Content</th>\n",
       "    </tr>\n",
       "  </thead>\n",
       "  <tbody>\n",
       "    <tr>\n",
       "      <th>63854</th>\n",
       "      <td>GFUI026464-PA</td>\n",
       "      <td>C</td>\n",
       "      <td>GO:0005634</td>\n",
       "      <td>nucleus</td>\n",
       "      <td>8736.333431</td>\n",
       "      <td>0.742990</td>\n",
       "      <td>5.725783</td>\n",
       "    </tr>\n",
       "    <tr>\n",
       "      <th>63843</th>\n",
       "      <td>GFUI026464-PA</td>\n",
       "      <td>P</td>\n",
       "      <td>GO:0016568</td>\n",
       "      <td>chromatin modification</td>\n",
       "      <td>2057.008170</td>\n",
       "      <td>0.145378</td>\n",
       "      <td>11.182522</td>\n",
       "    </tr>\n",
       "    <tr>\n",
       "      <th>63847</th>\n",
       "      <td>GFUI026464-PA</td>\n",
       "      <td>P</td>\n",
       "      <td>GO:0006351</td>\n",
       "      <td>transcription, DNA-templated</td>\n",
       "      <td>1802.242630</td>\n",
       "      <td>0.222779</td>\n",
       "      <td>6.856772</td>\n",
       "    </tr>\n",
       "    <tr>\n",
       "      <th>63855</th>\n",
       "      <td>GFUI026464-PA</td>\n",
       "      <td>C</td>\n",
       "      <td>GO:0031011</td>\n",
       "      <td>Ino80 complex</td>\n",
       "      <td>1796.518131</td>\n",
       "      <td>0.091052</td>\n",
       "      <td>11.474906</td>\n",
       "    </tr>\n",
       "    <tr>\n",
       "      <th>63850</th>\n",
       "      <td>GFUI026464-PA</td>\n",
       "      <td>F</td>\n",
       "      <td>GO:0003677</td>\n",
       "      <td>DNA binding</td>\n",
       "      <td>1651.088393</td>\n",
       "      <td>0.166576</td>\n",
       "      <td>3.831010</td>\n",
       "    </tr>\n",
       "    <tr>\n",
       "      <th>63846</th>\n",
       "      <td>GFUI026464-PA</td>\n",
       "      <td>P</td>\n",
       "      <td>GO:0006355</td>\n",
       "      <td>regulation of transcription, DNA-templated</td>\n",
       "      <td>1264.370822</td>\n",
       "      <td>0.126038</td>\n",
       "      <td>7.524266</td>\n",
       "    </tr>\n",
       "    <tr>\n",
       "      <th>63844</th>\n",
       "      <td>GFUI026464-PA</td>\n",
       "      <td>P</td>\n",
       "      <td>GO:0006281</td>\n",
       "      <td>DNA repair</td>\n",
       "      <td>1129.814359</td>\n",
       "      <td>0.126383</td>\n",
       "      <td>8.765638</td>\n",
       "    </tr>\n",
       "    <tr>\n",
       "      <th>63853</th>\n",
       "      <td>GFUI026464-PA</td>\n",
       "      <td>F</td>\n",
       "      <td>GO:0016787</td>\n",
       "      <td>hydrolase activity</td>\n",
       "      <td>962.945661</td>\n",
       "      <td>0.443640</td>\n",
       "      <td>2.643033</td>\n",
       "    </tr>\n",
       "    <tr>\n",
       "      <th>63851</th>\n",
       "      <td>GFUI026464-PA</td>\n",
       "      <td>F</td>\n",
       "      <td>GO:0004386</td>\n",
       "      <td>helicase activity</td>\n",
       "      <td>926.961202</td>\n",
       "      <td>0.173628</td>\n",
       "      <td>5.769164</td>\n",
       "    </tr>\n",
       "    <tr>\n",
       "      <th>63845</th>\n",
       "      <td>GFUI026464-PA</td>\n",
       "      <td>P</td>\n",
       "      <td>GO:0006974</td>\n",
       "      <td>cellular response to DNA damage stimulus</td>\n",
       "      <td>902.141226</td>\n",
       "      <td>0.203486</td>\n",
       "      <td>8.383585</td>\n",
       "    </tr>\n",
       "    <tr>\n",
       "      <th>63849</th>\n",
       "      <td>GFUI026464-PA</td>\n",
       "      <td>F</td>\n",
       "      <td>GO:0005524</td>\n",
       "      <td>ATP binding</td>\n",
       "      <td>851.296675</td>\n",
       "      <td>0.136312</td>\n",
       "      <td>4.006505</td>\n",
       "    </tr>\n",
       "    <tr>\n",
       "      <th>63848</th>\n",
       "      <td>GFUI026464-PA</td>\n",
       "      <td>F</td>\n",
       "      <td>GO:0000166</td>\n",
       "      <td>nucleotide binding</td>\n",
       "      <td>448.372426</td>\n",
       "      <td>0.263655</td>\n",
       "      <td>2.468432</td>\n",
       "    </tr>\n",
       "    <tr>\n",
       "      <th>63842</th>\n",
       "      <td>GFUI026464-PA</td>\n",
       "      <td>P</td>\n",
       "      <td>GO:0006338</td>\n",
       "      <td>chromatin remodeling</td>\n",
       "      <td>441.975365</td>\n",
       "      <td>0.046755</td>\n",
       "      <td>13.615919</td>\n",
       "    </tr>\n",
       "    <tr>\n",
       "      <th>63852</th>\n",
       "      <td>GFUI026464-PA</td>\n",
       "      <td>F</td>\n",
       "      <td>GO:0016817</td>\n",
       "      <td>hydrolase activity, acting on acid anhydrides</td>\n",
       "      <td>385.445465</td>\n",
       "      <td>0.312833</td>\n",
       "      <td>3.904510</td>\n",
       "    </tr>\n",
       "    <tr>\n",
       "      <th>63841</th>\n",
       "      <td>GFUI026464-PA</td>\n",
       "      <td>P</td>\n",
       "      <td>GO:0010571</td>\n",
       "      <td>positive regulation of nuclear cell cycle DNA replication</td>\n",
       "      <td>269.622336</td>\n",
       "      <td>0.012945</td>\n",
       "      <td>17.833991</td>\n",
       "    </tr>\n",
       "  </tbody>\n",
       "</table>\n",
       "</div>"
      ],
      "text/plain": [
       "            Sequence Aspect       GO ID  \\\n",
       "63854  GFUI026464-PA      C  GO:0005634   \n",
       "63843  GFUI026464-PA      P  GO:0016568   \n",
       "63847  GFUI026464-PA      P  GO:0006351   \n",
       "63855  GFUI026464-PA      C  GO:0031011   \n",
       "63850  GFUI026464-PA      F  GO:0003677   \n",
       "63846  GFUI026464-PA      P  GO:0006355   \n",
       "63844  GFUI026464-PA      P  GO:0006281   \n",
       "63853  GFUI026464-PA      F  GO:0016787   \n",
       "63851  GFUI026464-PA      F  GO:0004386   \n",
       "63845  GFUI026464-PA      P  GO:0006974   \n",
       "63849  GFUI026464-PA      F  GO:0005524   \n",
       "63848  GFUI026464-PA      F  GO:0000166   \n",
       "63842  GFUI026464-PA      P  GO:0006338   \n",
       "63852  GFUI026464-PA      F  GO:0016817   \n",
       "63841  GFUI026464-PA      P  GO:0010571   \n",
       "\n",
       "                                                            Name  Total Score  \\\n",
       "63854                                                    nucleus  8736.333431   \n",
       "63843                                     chromatin modification  2057.008170   \n",
       "63847                               transcription, DNA-templated  1802.242630   \n",
       "63855                                              Ino80 complex  1796.518131   \n",
       "63850                                                DNA binding  1651.088393   \n",
       "63846                 regulation of transcription, DNA-templated  1264.370822   \n",
       "63844                                                 DNA repair  1129.814359   \n",
       "63853                                         hydrolase activity   962.945661   \n",
       "63851                                          helicase activity   926.961202   \n",
       "63845                   cellular response to DNA damage stimulus   902.141226   \n",
       "63849                                                ATP binding   851.296675   \n",
       "63848                                         nucleotide binding   448.372426   \n",
       "63842                                       chromatin remodeling   441.975365   \n",
       "63852              hydrolase activity, acting on acid anhydrides   385.445465   \n",
       "63841  positive regulation of nuclear cell cycle DNA replication   269.622336   \n",
       "\n",
       "       Internal Confidence  Information Content  \n",
       "63854             0.742990             5.725783  \n",
       "63843             0.145378            11.182522  \n",
       "63847             0.222779             6.856772  \n",
       "63855             0.091052            11.474906  \n",
       "63850             0.166576             3.831010  \n",
       "63846             0.126038             7.524266  \n",
       "63844             0.126383             8.765638  \n",
       "63853             0.443640             2.643033  \n",
       "63851             0.173628             5.769164  \n",
       "63845             0.203486             8.383585  \n",
       "63849             0.136312             4.006505  \n",
       "63848             0.263655             2.468432  \n",
       "63842             0.046755            13.615919  \n",
       "63852             0.312833             3.904510  \n",
       "63841             0.012945            17.833991  "
      ]
     },
     "metadata": {},
     "output_type": "display_data"
    },
    {
     "data": {
      "text/html": [
       "<p>"
      ],
      "text/plain": [
       "<IPython.core.display.HTML object>"
      ]
     },
     "metadata": {},
     "output_type": "display_data"
    },
    {
     "data": {
      "text/html": [
       "<a href=\"https://www.vectorbase.org/Glossina_fuscipes/Gene/Summary?db=core;g=GFUI026464\"> GFUI026464: gene home page</a>"
      ],
      "text/plain": [
       "<IPython.core.display.HTML object>"
      ]
     },
     "metadata": {},
     "output_type": "display_data"
    },
    {
     "data": {
      "text/html": [
       "<a href=\"https://www.vectorbase.org/Glossina_fuscipes/Transcript/ProteinSummary?db=core;g=GFUI026464\"> GFUI026464: protein summary </a>"
      ],
      "text/plain": [
       "<IPython.core.display.HTML object>"
      ]
     },
     "metadata": {},
     "output_type": "display_data"
    },
    {
     "data": {
      "text/html": [
       "<a href=\"https://www.vectorbase.org/Glossina_fuscipes/Location/View?db=core;g=GFUI026464;r\"> GFUI026464: genome browser </a>"
      ],
      "text/plain": [
       "<IPython.core.display.HTML object>"
      ]
     },
     "metadata": {},
     "output_type": "display_data"
    },
    {
     "data": {
      "text/html": [
       "<a href=\"https://www.vectorbase.org/Glossina_fuscipes/Transcript/Ontology/biological_process?db=core;g=GFUI026464;oid=biological_process\"> GFUI026464: GO: biological process </a>"
      ],
      "text/plain": [
       "<IPython.core.display.HTML object>"
      ]
     },
     "metadata": {},
     "output_type": "display_data"
    },
    {
     "data": {
      "text/html": [
       "<a href=\"https://www.vectorbase.org/Glossina_fuscipes/Transcript/Ontology/cellular_component?db=core;g=GFUI026464;oid=cellular_component\"> GFUI026464: GO: cellular component </a>"
      ],
      "text/plain": [
       "<IPython.core.display.HTML object>"
      ]
     },
     "metadata": {},
     "output_type": "display_data"
    },
    {
     "data": {
      "text/html": [
       "<a href=\"https://www.vectorbase.org/Glossina_fuscipes/Transcript/Ontology/molecular_function?db=core;g=GFUI026464;oid=molecular_function\"> GFUI026464: GO: molecular function </a>"
      ],
      "text/plain": [
       "<IPython.core.display.HTML object>"
      ]
     },
     "metadata": {},
     "output_type": "display_data"
    },
    {
     "data": {
      "text/html": [
       "<hr>"
      ],
      "text/plain": [
       "<IPython.core.display.HTML object>"
      ]
     },
     "metadata": {},
     "output_type": "display_data"
    },
    {
     "data": {
      "text/html": [
       "<h2>GFUI026687(official_annotations)</h2>"
      ],
      "text/plain": [
       "<IPython.core.display.HTML object>"
      ]
     },
     "metadata": {},
     "output_type": "display_data"
    },
    {
     "data": {
      "text/html": [
       "<b>SNPs:</b><br>Scaffold33:1387926<br>"
      ],
      "text/plain": [
       "<IPython.core.display.HTML object>"
      ]
     },
     "metadata": {},
     "output_type": "display_data"
    },
    {
     "data": {
      "text/html": [
       "<div>\n",
       "<table border=\"1\" class=\"dataframe\">\n",
       "  <thead>\n",
       "    <tr style=\"text-align: right;\">\n",
       "      <th></th>\n",
       "      <th>Sequence</th>\n",
       "      <th>Aspect</th>\n",
       "      <th>GO ID</th>\n",
       "      <th>Name</th>\n",
       "      <th>Total Score</th>\n",
       "      <th>Internal Confidence</th>\n",
       "      <th>Information Content</th>\n",
       "    </tr>\n",
       "  </thead>\n",
       "  <tbody>\n",
       "    <tr>\n",
       "      <th>64748</th>\n",
       "      <td>GFUI026687-PA</td>\n",
       "      <td>C</td>\n",
       "      <td>GO:0016459</td>\n",
       "      <td>myosin complex</td>\n",
       "      <td>1740.143499</td>\n",
       "      <td>0.139065</td>\n",
       "      <td>10.045513</td>\n",
       "    </tr>\n",
       "    <tr>\n",
       "      <th>64746</th>\n",
       "      <td>GFUI026687-PA</td>\n",
       "      <td>F</td>\n",
       "      <td>GO:0005524</td>\n",
       "      <td>ATP binding</td>\n",
       "      <td>847.295401</td>\n",
       "      <td>0.131930</td>\n",
       "      <td>4.006505</td>\n",
       "    </tr>\n",
       "    <tr>\n",
       "      <th>64747</th>\n",
       "      <td>GFUI026687-PA</td>\n",
       "      <td>F</td>\n",
       "      <td>GO:0003779</td>\n",
       "      <td>actin binding</td>\n",
       "      <td>749.958313</td>\n",
       "      <td>0.155100</td>\n",
       "      <td>9.114586</td>\n",
       "    </tr>\n",
       "    <tr>\n",
       "      <th>64749</th>\n",
       "      <td>GFUI026687-PA</td>\n",
       "      <td>C</td>\n",
       "      <td>GO:0005737</td>\n",
       "      <td>cytoplasm</td>\n",
       "      <td>506.389024</td>\n",
       "      <td>0.299591</td>\n",
       "      <td>3.178476</td>\n",
       "    </tr>\n",
       "    <tr>\n",
       "      <th>64745</th>\n",
       "      <td>GFUI026687-PA</td>\n",
       "      <td>F</td>\n",
       "      <td>GO:0000166</td>\n",
       "      <td>nucleotide binding</td>\n",
       "      <td>325.407646</td>\n",
       "      <td>0.254389</td>\n",
       "      <td>2.468432</td>\n",
       "    </tr>\n",
       "  </tbody>\n",
       "</table>\n",
       "</div>"
      ],
      "text/plain": [
       "            Sequence Aspect       GO ID                Name  Total Score  \\\n",
       "64748  GFUI026687-PA      C  GO:0016459      myosin complex  1740.143499   \n",
       "64746  GFUI026687-PA      F  GO:0005524         ATP binding   847.295401   \n",
       "64747  GFUI026687-PA      F  GO:0003779       actin binding   749.958313   \n",
       "64749  GFUI026687-PA      C  GO:0005737           cytoplasm   506.389024   \n",
       "64745  GFUI026687-PA      F  GO:0000166  nucleotide binding   325.407646   \n",
       "\n",
       "       Internal Confidence  Information Content  \n",
       "64748             0.139065            10.045513  \n",
       "64746             0.131930             4.006505  \n",
       "64747             0.155100             9.114586  \n",
       "64749             0.299591             3.178476  \n",
       "64745             0.254389             2.468432  "
      ]
     },
     "metadata": {},
     "output_type": "display_data"
    },
    {
     "data": {
      "text/html": [
       "<p>"
      ],
      "text/plain": [
       "<IPython.core.display.HTML object>"
      ]
     },
     "metadata": {},
     "output_type": "display_data"
    },
    {
     "data": {
      "text/html": [
       "<a href=\"https://www.vectorbase.org/Glossina_fuscipes/Gene/Summary?db=core;g=GFUI026687\"> GFUI026687: gene home page</a>"
      ],
      "text/plain": [
       "<IPython.core.display.HTML object>"
      ]
     },
     "metadata": {},
     "output_type": "display_data"
    },
    {
     "data": {
      "text/html": [
       "<a href=\"https://www.vectorbase.org/Glossina_fuscipes/Transcript/ProteinSummary?db=core;g=GFUI026687\"> GFUI026687: protein summary </a>"
      ],
      "text/plain": [
       "<IPython.core.display.HTML object>"
      ]
     },
     "metadata": {},
     "output_type": "display_data"
    },
    {
     "data": {
      "text/html": [
       "<a href=\"https://www.vectorbase.org/Glossina_fuscipes/Location/View?db=core;g=GFUI026687;r\"> GFUI026687: genome browser </a>"
      ],
      "text/plain": [
       "<IPython.core.display.HTML object>"
      ]
     },
     "metadata": {},
     "output_type": "display_data"
    },
    {
     "data": {
      "text/html": [
       "<a href=\"https://www.vectorbase.org/Glossina_fuscipes/Transcript/Ontology/biological_process?db=core;g=GFUI026687;oid=biological_process\"> GFUI026687: GO: biological process </a>"
      ],
      "text/plain": [
       "<IPython.core.display.HTML object>"
      ]
     },
     "metadata": {},
     "output_type": "display_data"
    },
    {
     "data": {
      "text/html": [
       "<a href=\"https://www.vectorbase.org/Glossina_fuscipes/Transcript/Ontology/cellular_component?db=core;g=GFUI026687;oid=cellular_component\"> GFUI026687: GO: cellular component </a>"
      ],
      "text/plain": [
       "<IPython.core.display.HTML object>"
      ]
     },
     "metadata": {},
     "output_type": "display_data"
    },
    {
     "data": {
      "text/html": [
       "<a href=\"https://www.vectorbase.org/Glossina_fuscipes/Transcript/Ontology/molecular_function?db=core;g=GFUI026687;oid=molecular_function\"> GFUI026687: GO: molecular function </a>"
      ],
      "text/plain": [
       "<IPython.core.display.HTML object>"
      ]
     },
     "metadata": {},
     "output_type": "display_data"
    },
    {
     "data": {
      "text/html": [
       "<hr>"
      ],
      "text/plain": [
       "<IPython.core.display.HTML object>"
      ]
     },
     "metadata": {},
     "output_type": "display_data"
    },
    {
     "data": {
      "text/html": [
       "<h2>GFUI030827(official_annotations)</h2>"
      ],
      "text/plain": [
       "<IPython.core.display.HTML object>"
      ]
     },
     "metadata": {},
     "output_type": "display_data"
    },
    {
     "data": {
      "text/html": [
       "<b>SNPs:</b><br>Scaffold3:2235178<br>"
      ],
      "text/plain": [
       "<IPython.core.display.HTML object>"
      ]
     },
     "metadata": {},
     "output_type": "display_data"
    },
    {
     "data": {
      "text/html": [
       "<div>\n",
       "<table border=\"1\" class=\"dataframe\">\n",
       "  <thead>\n",
       "    <tr style=\"text-align: right;\">\n",
       "      <th></th>\n",
       "      <th>Sequence</th>\n",
       "      <th>Aspect</th>\n",
       "      <th>GO ID</th>\n",
       "      <th>Name</th>\n",
       "      <th>Total Score</th>\n",
       "      <th>Internal Confidence</th>\n",
       "      <th>Information Content</th>\n",
       "    </tr>\n",
       "  </thead>\n",
       "  <tbody>\n",
       "    <tr>\n",
       "      <th>31955</th>\n",
       "      <td>GFUI030827-PA</td>\n",
       "      <td>C</td>\n",
       "      <td>GO:0005634</td>\n",
       "      <td>nucleus</td>\n",
       "      <td>233.933929</td>\n",
       "      <td>0.319027</td>\n",
       "      <td>5.725783</td>\n",
       "    </tr>\n",
       "  </tbody>\n",
       "</table>\n",
       "</div>"
      ],
      "text/plain": [
       "            Sequence Aspect       GO ID     Name  Total Score  \\\n",
       "31955  GFUI030827-PA      C  GO:0005634  nucleus   233.933929   \n",
       "\n",
       "       Internal Confidence  Information Content  \n",
       "31955             0.319027             5.725783  "
      ]
     },
     "metadata": {},
     "output_type": "display_data"
    },
    {
     "data": {
      "text/html": [
       "<p>"
      ],
      "text/plain": [
       "<IPython.core.display.HTML object>"
      ]
     },
     "metadata": {},
     "output_type": "display_data"
    },
    {
     "data": {
      "text/html": [
       "<a href=\"https://www.vectorbase.org/Glossina_fuscipes/Gene/Summary?db=core;g=GFUI030827\"> GFUI030827: gene home page</a>"
      ],
      "text/plain": [
       "<IPython.core.display.HTML object>"
      ]
     },
     "metadata": {},
     "output_type": "display_data"
    },
    {
     "data": {
      "text/html": [
       "<a href=\"https://www.vectorbase.org/Glossina_fuscipes/Transcript/ProteinSummary?db=core;g=GFUI030827\"> GFUI030827: protein summary </a>"
      ],
      "text/plain": [
       "<IPython.core.display.HTML object>"
      ]
     },
     "metadata": {},
     "output_type": "display_data"
    },
    {
     "data": {
      "text/html": [
       "<a href=\"https://www.vectorbase.org/Glossina_fuscipes/Location/View?db=core;g=GFUI030827;r\"> GFUI030827: genome browser </a>"
      ],
      "text/plain": [
       "<IPython.core.display.HTML object>"
      ]
     },
     "metadata": {},
     "output_type": "display_data"
    },
    {
     "data": {
      "text/html": [
       "<a href=\"https://www.vectorbase.org/Glossina_fuscipes/Transcript/Ontology/biological_process?db=core;g=GFUI030827;oid=biological_process\"> GFUI030827: GO: biological process </a>"
      ],
      "text/plain": [
       "<IPython.core.display.HTML object>"
      ]
     },
     "metadata": {},
     "output_type": "display_data"
    },
    {
     "data": {
      "text/html": [
       "<a href=\"https://www.vectorbase.org/Glossina_fuscipes/Transcript/Ontology/cellular_component?db=core;g=GFUI030827;oid=cellular_component\"> GFUI030827: GO: cellular component </a>"
      ],
      "text/plain": [
       "<IPython.core.display.HTML object>"
      ]
     },
     "metadata": {},
     "output_type": "display_data"
    },
    {
     "data": {
      "text/html": [
       "<a href=\"https://www.vectorbase.org/Glossina_fuscipes/Transcript/Ontology/molecular_function?db=core;g=GFUI030827;oid=molecular_function\"> GFUI030827: GO: molecular function </a>"
      ],
      "text/plain": [
       "<IPython.core.display.HTML object>"
      ]
     },
     "metadata": {},
     "output_type": "display_data"
    },
    {
     "data": {
      "text/html": [
       "<hr>"
      ],
      "text/plain": [
       "<IPython.core.display.HTML object>"
      ]
     },
     "metadata": {},
     "output_type": "display_data"
    },
    {
     "data": {
      "text/html": [
       "<h2>GFUI031364(official_annotations)</h2>"
      ],
      "text/plain": [
       "<IPython.core.display.HTML object>"
      ]
     },
     "metadata": {},
     "output_type": "display_data"
    },
    {
     "data": {
      "text/html": [
       "<b>SNPs:</b><br>Scaffold40:697327<br>"
      ],
      "text/plain": [
       "<IPython.core.display.HTML object>"
      ]
     },
     "metadata": {},
     "output_type": "display_data"
    },
    {
     "data": {
      "text/html": [
       "<div>\n",
       "<table border=\"1\" class=\"dataframe\">\n",
       "  <thead>\n",
       "    <tr style=\"text-align: right;\">\n",
       "      <th></th>\n",
       "      <th>Sequence</th>\n",
       "      <th>Aspect</th>\n",
       "      <th>GO ID</th>\n",
       "      <th>Name</th>\n",
       "      <th>Total Score</th>\n",
       "      <th>Internal Confidence</th>\n",
       "      <th>Information Content</th>\n",
       "    </tr>\n",
       "  </thead>\n",
       "  <tbody>\n",
       "  </tbody>\n",
       "</table>\n",
       "</div>"
      ],
      "text/plain": [
       "Empty DataFrame\n",
       "Columns: [Sequence, Aspect, GO ID, Name, Total Score, Internal Confidence, Information Content]\n",
       "Index: []"
      ]
     },
     "metadata": {},
     "output_type": "display_data"
    },
    {
     "data": {
      "text/html": [
       "<p>"
      ],
      "text/plain": [
       "<IPython.core.display.HTML object>"
      ]
     },
     "metadata": {},
     "output_type": "display_data"
    },
    {
     "data": {
      "text/html": [
       "<a href=\"https://www.vectorbase.org/Glossina_fuscipes/Gene/Summary?db=core;g=GFUI031364\"> GFUI031364: gene home page</a>"
      ],
      "text/plain": [
       "<IPython.core.display.HTML object>"
      ]
     },
     "metadata": {},
     "output_type": "display_data"
    },
    {
     "data": {
      "text/html": [
       "<a href=\"https://www.vectorbase.org/Glossina_fuscipes/Transcript/ProteinSummary?db=core;g=GFUI031364\"> GFUI031364: protein summary </a>"
      ],
      "text/plain": [
       "<IPython.core.display.HTML object>"
      ]
     },
     "metadata": {},
     "output_type": "display_data"
    },
    {
     "data": {
      "text/html": [
       "<a href=\"https://www.vectorbase.org/Glossina_fuscipes/Location/View?db=core;g=GFUI031364;r\"> GFUI031364: genome browser </a>"
      ],
      "text/plain": [
       "<IPython.core.display.HTML object>"
      ]
     },
     "metadata": {},
     "output_type": "display_data"
    },
    {
     "data": {
      "text/html": [
       "<a href=\"https://www.vectorbase.org/Glossina_fuscipes/Transcript/Ontology/biological_process?db=core;g=GFUI031364;oid=biological_process\"> GFUI031364: GO: biological process </a>"
      ],
      "text/plain": [
       "<IPython.core.display.HTML object>"
      ]
     },
     "metadata": {},
     "output_type": "display_data"
    },
    {
     "data": {
      "text/html": [
       "<a href=\"https://www.vectorbase.org/Glossina_fuscipes/Transcript/Ontology/cellular_component?db=core;g=GFUI031364;oid=cellular_component\"> GFUI031364: GO: cellular component </a>"
      ],
      "text/plain": [
       "<IPython.core.display.HTML object>"
      ]
     },
     "metadata": {},
     "output_type": "display_data"
    },
    {
     "data": {
      "text/html": [
       "<a href=\"https://www.vectorbase.org/Glossina_fuscipes/Transcript/Ontology/molecular_function?db=core;g=GFUI031364;oid=molecular_function\"> GFUI031364: GO: molecular function </a>"
      ],
      "text/plain": [
       "<IPython.core.display.HTML object>"
      ]
     },
     "metadata": {},
     "output_type": "display_data"
    },
    {
     "data": {
      "text/html": [
       "<hr>"
      ],
      "text/plain": [
       "<IPython.core.display.HTML object>"
      ]
     },
     "metadata": {},
     "output_type": "display_data"
    },
    {
     "data": {
      "text/html": [
       "<h2>GFUI035780(official_annotations)</h2>"
      ],
      "text/plain": [
       "<IPython.core.display.HTML object>"
      ]
     },
     "metadata": {},
     "output_type": "display_data"
    },
    {
     "data": {
      "text/html": [
       "<b>SNPs:</b><br>Scaffold48:1013373<br>"
      ],
      "text/plain": [
       "<IPython.core.display.HTML object>"
      ]
     },
     "metadata": {},
     "output_type": "display_data"
    },
    {
     "data": {
      "text/html": [
       "<div>\n",
       "<table border=\"1\" class=\"dataframe\">\n",
       "  <thead>\n",
       "    <tr style=\"text-align: right;\">\n",
       "      <th></th>\n",
       "      <th>Sequence</th>\n",
       "      <th>Aspect</th>\n",
       "      <th>GO ID</th>\n",
       "      <th>Name</th>\n",
       "      <th>Total Score</th>\n",
       "      <th>Internal Confidence</th>\n",
       "      <th>Information Content</th>\n",
       "    </tr>\n",
       "  </thead>\n",
       "  <tbody>\n",
       "  </tbody>\n",
       "</table>\n",
       "</div>"
      ],
      "text/plain": [
       "Empty DataFrame\n",
       "Columns: [Sequence, Aspect, GO ID, Name, Total Score, Internal Confidence, Information Content]\n",
       "Index: []"
      ]
     },
     "metadata": {},
     "output_type": "display_data"
    },
    {
     "data": {
      "text/html": [
       "<p>"
      ],
      "text/plain": [
       "<IPython.core.display.HTML object>"
      ]
     },
     "metadata": {},
     "output_type": "display_data"
    },
    {
     "data": {
      "text/html": [
       "<a href=\"https://www.vectorbase.org/Glossina_fuscipes/Gene/Summary?db=core;g=GFUI035780\"> GFUI035780: gene home page</a>"
      ],
      "text/plain": [
       "<IPython.core.display.HTML object>"
      ]
     },
     "metadata": {},
     "output_type": "display_data"
    },
    {
     "data": {
      "text/html": [
       "<a href=\"https://www.vectorbase.org/Glossina_fuscipes/Transcript/ProteinSummary?db=core;g=GFUI035780\"> GFUI035780: protein summary </a>"
      ],
      "text/plain": [
       "<IPython.core.display.HTML object>"
      ]
     },
     "metadata": {},
     "output_type": "display_data"
    },
    {
     "data": {
      "text/html": [
       "<a href=\"https://www.vectorbase.org/Glossina_fuscipes/Location/View?db=core;g=GFUI035780;r\"> GFUI035780: genome browser </a>"
      ],
      "text/plain": [
       "<IPython.core.display.HTML object>"
      ]
     },
     "metadata": {},
     "output_type": "display_data"
    },
    {
     "data": {
      "text/html": [
       "<a href=\"https://www.vectorbase.org/Glossina_fuscipes/Transcript/Ontology/biological_process?db=core;g=GFUI035780;oid=biological_process\"> GFUI035780: GO: biological process </a>"
      ],
      "text/plain": [
       "<IPython.core.display.HTML object>"
      ]
     },
     "metadata": {},
     "output_type": "display_data"
    },
    {
     "data": {
      "text/html": [
       "<a href=\"https://www.vectorbase.org/Glossina_fuscipes/Transcript/Ontology/cellular_component?db=core;g=GFUI035780;oid=cellular_component\"> GFUI035780: GO: cellular component </a>"
      ],
      "text/plain": [
       "<IPython.core.display.HTML object>"
      ]
     },
     "metadata": {},
     "output_type": "display_data"
    },
    {
     "data": {
      "text/html": [
       "<a href=\"https://www.vectorbase.org/Glossina_fuscipes/Transcript/Ontology/molecular_function?db=core;g=GFUI035780;oid=molecular_function\"> GFUI035780: GO: molecular function </a>"
      ],
      "text/plain": [
       "<IPython.core.display.HTML object>"
      ]
     },
     "metadata": {},
     "output_type": "display_data"
    },
    {
     "data": {
      "text/html": [
       "<hr>"
      ],
      "text/plain": [
       "<IPython.core.display.HTML object>"
      ]
     },
     "metadata": {},
     "output_type": "display_data"
    },
    {
     "data": {
      "text/html": [
       "<h2>GFUI041241(official_annotations)</h2>"
      ],
      "text/plain": [
       "<IPython.core.display.HTML object>"
      ]
     },
     "metadata": {},
     "output_type": "display_data"
    },
    {
     "data": {
      "text/html": [
       "<b>SNPs:</b><br>Scaffold5:2342538<br>"
      ],
      "text/plain": [
       "<IPython.core.display.HTML object>"
      ]
     },
     "metadata": {},
     "output_type": "display_data"
    },
    {
     "data": {
      "text/html": [
       "<div>\n",
       "<table border=\"1\" class=\"dataframe\">\n",
       "  <thead>\n",
       "    <tr style=\"text-align: right;\">\n",
       "      <th></th>\n",
       "      <th>Sequence</th>\n",
       "      <th>Aspect</th>\n",
       "      <th>GO ID</th>\n",
       "      <th>Name</th>\n",
       "      <th>Total Score</th>\n",
       "      <th>Internal Confidence</th>\n",
       "      <th>Information Content</th>\n",
       "    </tr>\n",
       "  </thead>\n",
       "  <tbody>\n",
       "  </tbody>\n",
       "</table>\n",
       "</div>"
      ],
      "text/plain": [
       "Empty DataFrame\n",
       "Columns: [Sequence, Aspect, GO ID, Name, Total Score, Internal Confidence, Information Content]\n",
       "Index: []"
      ]
     },
     "metadata": {},
     "output_type": "display_data"
    },
    {
     "data": {
      "text/html": [
       "<p>"
      ],
      "text/plain": [
       "<IPython.core.display.HTML object>"
      ]
     },
     "metadata": {},
     "output_type": "display_data"
    },
    {
     "data": {
      "text/html": [
       "<a href=\"https://www.vectorbase.org/Glossina_fuscipes/Gene/Summary?db=core;g=GFUI041241\"> GFUI041241: gene home page</a>"
      ],
      "text/plain": [
       "<IPython.core.display.HTML object>"
      ]
     },
     "metadata": {},
     "output_type": "display_data"
    },
    {
     "data": {
      "text/html": [
       "<a href=\"https://www.vectorbase.org/Glossina_fuscipes/Transcript/ProteinSummary?db=core;g=GFUI041241\"> GFUI041241: protein summary </a>"
      ],
      "text/plain": [
       "<IPython.core.display.HTML object>"
      ]
     },
     "metadata": {},
     "output_type": "display_data"
    },
    {
     "data": {
      "text/html": [
       "<a href=\"https://www.vectorbase.org/Glossina_fuscipes/Location/View?db=core;g=GFUI041241;r\"> GFUI041241: genome browser </a>"
      ],
      "text/plain": [
       "<IPython.core.display.HTML object>"
      ]
     },
     "metadata": {},
     "output_type": "display_data"
    },
    {
     "data": {
      "text/html": [
       "<a href=\"https://www.vectorbase.org/Glossina_fuscipes/Transcript/Ontology/biological_process?db=core;g=GFUI041241;oid=biological_process\"> GFUI041241: GO: biological process </a>"
      ],
      "text/plain": [
       "<IPython.core.display.HTML object>"
      ]
     },
     "metadata": {},
     "output_type": "display_data"
    },
    {
     "data": {
      "text/html": [
       "<a href=\"https://www.vectorbase.org/Glossina_fuscipes/Transcript/Ontology/cellular_component?db=core;g=GFUI041241;oid=cellular_component\"> GFUI041241: GO: cellular component </a>"
      ],
      "text/plain": [
       "<IPython.core.display.HTML object>"
      ]
     },
     "metadata": {},
     "output_type": "display_data"
    },
    {
     "data": {
      "text/html": [
       "<a href=\"https://www.vectorbase.org/Glossina_fuscipes/Transcript/Ontology/molecular_function?db=core;g=GFUI041241;oid=molecular_function\"> GFUI041241: GO: molecular function </a>"
      ],
      "text/plain": [
       "<IPython.core.display.HTML object>"
      ]
     },
     "metadata": {},
     "output_type": "display_data"
    },
    {
     "data": {
      "text/html": [
       "<hr>"
      ],
      "text/plain": [
       "<IPython.core.display.HTML object>"
      ]
     },
     "metadata": {},
     "output_type": "display_data"
    },
    {
     "data": {
      "text/html": [
       "<h2>GFUI043027(official_annotations)</h2>"
      ],
      "text/plain": [
       "<IPython.core.display.HTML object>"
      ]
     },
     "metadata": {},
     "output_type": "display_data"
    },
    {
     "data": {
      "text/html": [
       "<b>SNPs:</b><br>Scaffold64:729352<br>"
      ],
      "text/plain": [
       "<IPython.core.display.HTML object>"
      ]
     },
     "metadata": {},
     "output_type": "display_data"
    },
    {
     "data": {
      "text/html": [
       "<div>\n",
       "<table border=\"1\" class=\"dataframe\">\n",
       "  <thead>\n",
       "    <tr style=\"text-align: right;\">\n",
       "      <th></th>\n",
       "      <th>Sequence</th>\n",
       "      <th>Aspect</th>\n",
       "      <th>GO ID</th>\n",
       "      <th>Name</th>\n",
       "      <th>Total Score</th>\n",
       "      <th>Internal Confidence</th>\n",
       "      <th>Information Content</th>\n",
       "    </tr>\n",
       "  </thead>\n",
       "  <tbody>\n",
       "    <tr>\n",
       "      <th>19117</th>\n",
       "      <td>GFUI043027-PA</td>\n",
       "      <td>P</td>\n",
       "      <td>GO:0006260</td>\n",
       "      <td>DNA replication</td>\n",
       "      <td>5253.270634</td>\n",
       "      <td>0.492974</td>\n",
       "      <td>8.821469</td>\n",
       "    </tr>\n",
       "    <tr>\n",
       "      <th>19120</th>\n",
       "      <td>GFUI043027-PA</td>\n",
       "      <td>F</td>\n",
       "      <td>GO:0003887</td>\n",
       "      <td>DNA-directed DNA polymerase activity</td>\n",
       "      <td>4539.992874</td>\n",
       "      <td>0.322161</td>\n",
       "      <td>7.169783</td>\n",
       "    </tr>\n",
       "    <tr>\n",
       "      <th>19118</th>\n",
       "      <td>GFUI043027-PA</td>\n",
       "      <td>F</td>\n",
       "      <td>GO:0003677</td>\n",
       "      <td>DNA binding</td>\n",
       "      <td>2533.271379</td>\n",
       "      <td>0.250152</td>\n",
       "      <td>3.831010</td>\n",
       "    </tr>\n",
       "    <tr>\n",
       "      <th>19123</th>\n",
       "      <td>GFUI043027-PA</td>\n",
       "      <td>C</td>\n",
       "      <td>GO:0008622</td>\n",
       "      <td>epsilon DNA polymerase complex</td>\n",
       "      <td>2479.352690</td>\n",
       "      <td>0.332648</td>\n",
       "      <td>12.834245</td>\n",
       "    </tr>\n",
       "    <tr>\n",
       "      <th>19116</th>\n",
       "      <td>GFUI043027-PA</td>\n",
       "      <td>P</td>\n",
       "      <td>GO:0006261</td>\n",
       "      <td>DNA-dependent DNA replication</td>\n",
       "      <td>2445.618757</td>\n",
       "      <td>0.259546</td>\n",
       "      <td>10.374902</td>\n",
       "    </tr>\n",
       "    <tr>\n",
       "      <th>19122</th>\n",
       "      <td>GFUI043027-PA</td>\n",
       "      <td>C</td>\n",
       "      <td>GO:0005634</td>\n",
       "      <td>nucleus</td>\n",
       "      <td>1685.464129</td>\n",
       "      <td>0.804198</td>\n",
       "      <td>5.725783</td>\n",
       "    </tr>\n",
       "    <tr>\n",
       "      <th>19124</th>\n",
       "      <td>GFUI043027-PA</td>\n",
       "      <td>C</td>\n",
       "      <td>GO:0043231</td>\n",
       "      <td>intracellular membrane-bounded organelle</td>\n",
       "      <td>792.375979</td>\n",
       "      <td>0.946265</td>\n",
       "      <td>4.246234</td>\n",
       "    </tr>\n",
       "    <tr>\n",
       "      <th>19119</th>\n",
       "      <td>GFUI043027-PA</td>\n",
       "      <td>F</td>\n",
       "      <td>GO:0016740</td>\n",
       "      <td>transferase activity</td>\n",
       "      <td>569.214978</td>\n",
       "      <td>0.680699</td>\n",
       "      <td>2.487400</td>\n",
       "    </tr>\n",
       "    <tr>\n",
       "      <th>19121</th>\n",
       "      <td>GFUI043027-PA</td>\n",
       "      <td>F</td>\n",
       "      <td>GO:0016779</td>\n",
       "      <td>nucleotidyltransferase activity</td>\n",
       "      <td>409.609294</td>\n",
       "      <td>0.490394</td>\n",
       "      <td>5.055132</td>\n",
       "    </tr>\n",
       "  </tbody>\n",
       "</table>\n",
       "</div>"
      ],
      "text/plain": [
       "            Sequence Aspect       GO ID  \\\n",
       "19117  GFUI043027-PA      P  GO:0006260   \n",
       "19120  GFUI043027-PA      F  GO:0003887   \n",
       "19118  GFUI043027-PA      F  GO:0003677   \n",
       "19123  GFUI043027-PA      C  GO:0008622   \n",
       "19116  GFUI043027-PA      P  GO:0006261   \n",
       "19122  GFUI043027-PA      C  GO:0005634   \n",
       "19124  GFUI043027-PA      C  GO:0043231   \n",
       "19119  GFUI043027-PA      F  GO:0016740   \n",
       "19121  GFUI043027-PA      F  GO:0016779   \n",
       "\n",
       "                                           Name  Total Score  \\\n",
       "19117                           DNA replication  5253.270634   \n",
       "19120      DNA-directed DNA polymerase activity  4539.992874   \n",
       "19118                               DNA binding  2533.271379   \n",
       "19123            epsilon DNA polymerase complex  2479.352690   \n",
       "19116             DNA-dependent DNA replication  2445.618757   \n",
       "19122                                   nucleus  1685.464129   \n",
       "19124  intracellular membrane-bounded organelle   792.375979   \n",
       "19119                      transferase activity   569.214978   \n",
       "19121           nucleotidyltransferase activity   409.609294   \n",
       "\n",
       "       Internal Confidence  Information Content  \n",
       "19117             0.492974             8.821469  \n",
       "19120             0.322161             7.169783  \n",
       "19118             0.250152             3.831010  \n",
       "19123             0.332648            12.834245  \n",
       "19116             0.259546            10.374902  \n",
       "19122             0.804198             5.725783  \n",
       "19124             0.946265             4.246234  \n",
       "19119             0.680699             2.487400  \n",
       "19121             0.490394             5.055132  "
      ]
     },
     "metadata": {},
     "output_type": "display_data"
    },
    {
     "data": {
      "text/html": [
       "<p>"
      ],
      "text/plain": [
       "<IPython.core.display.HTML object>"
      ]
     },
     "metadata": {},
     "output_type": "display_data"
    },
    {
     "data": {
      "text/html": [
       "<a href=\"https://www.vectorbase.org/Glossina_fuscipes/Gene/Summary?db=core;g=GFUI043027\"> GFUI043027: gene home page</a>"
      ],
      "text/plain": [
       "<IPython.core.display.HTML object>"
      ]
     },
     "metadata": {},
     "output_type": "display_data"
    },
    {
     "data": {
      "text/html": [
       "<a href=\"https://www.vectorbase.org/Glossina_fuscipes/Transcript/ProteinSummary?db=core;g=GFUI043027\"> GFUI043027: protein summary </a>"
      ],
      "text/plain": [
       "<IPython.core.display.HTML object>"
      ]
     },
     "metadata": {},
     "output_type": "display_data"
    },
    {
     "data": {
      "text/html": [
       "<a href=\"https://www.vectorbase.org/Glossina_fuscipes/Location/View?db=core;g=GFUI043027;r\"> GFUI043027: genome browser </a>"
      ],
      "text/plain": [
       "<IPython.core.display.HTML object>"
      ]
     },
     "metadata": {},
     "output_type": "display_data"
    },
    {
     "data": {
      "text/html": [
       "<a href=\"https://www.vectorbase.org/Glossina_fuscipes/Transcript/Ontology/biological_process?db=core;g=GFUI043027;oid=biological_process\"> GFUI043027: GO: biological process </a>"
      ],
      "text/plain": [
       "<IPython.core.display.HTML object>"
      ]
     },
     "metadata": {},
     "output_type": "display_data"
    },
    {
     "data": {
      "text/html": [
       "<a href=\"https://www.vectorbase.org/Glossina_fuscipes/Transcript/Ontology/cellular_component?db=core;g=GFUI043027;oid=cellular_component\"> GFUI043027: GO: cellular component </a>"
      ],
      "text/plain": [
       "<IPython.core.display.HTML object>"
      ]
     },
     "metadata": {},
     "output_type": "display_data"
    },
    {
     "data": {
      "text/html": [
       "<a href=\"https://www.vectorbase.org/Glossina_fuscipes/Transcript/Ontology/molecular_function?db=core;g=GFUI043027;oid=molecular_function\"> GFUI043027: GO: molecular function </a>"
      ],
      "text/plain": [
       "<IPython.core.display.HTML object>"
      ]
     },
     "metadata": {},
     "output_type": "display_data"
    },
    {
     "data": {
      "text/html": [
       "<hr>"
      ],
      "text/plain": [
       "<IPython.core.display.HTML object>"
      ]
     },
     "metadata": {},
     "output_type": "display_data"
    },
    {
     "data": {
      "text/html": [
       "<h2>GFUI043720(official_annotations)</h2>"
      ],
      "text/plain": [
       "<IPython.core.display.HTML object>"
      ]
     },
     "metadata": {},
     "output_type": "display_data"
    },
    {
     "data": {
      "text/html": [
       "<b>SNPs:</b><br>Scaffold66:864866<br>"
      ],
      "text/plain": [
       "<IPython.core.display.HTML object>"
      ]
     },
     "metadata": {},
     "output_type": "display_data"
    },
    {
     "data": {
      "text/html": [
       "<div>\n",
       "<table border=\"1\" class=\"dataframe\">\n",
       "  <thead>\n",
       "    <tr style=\"text-align: right;\">\n",
       "      <th></th>\n",
       "      <th>Sequence</th>\n",
       "      <th>Aspect</th>\n",
       "      <th>GO ID</th>\n",
       "      <th>Name</th>\n",
       "      <th>Total Score</th>\n",
       "      <th>Internal Confidence</th>\n",
       "      <th>Information Content</th>\n",
       "    </tr>\n",
       "  </thead>\n",
       "  <tbody>\n",
       "    <tr>\n",
       "      <th>51722</th>\n",
       "      <td>GFUI043720-PA</td>\n",
       "      <td>P</td>\n",
       "      <td>GO:0006470</td>\n",
       "      <td>protein dephosphorylation</td>\n",
       "      <td>2077.021281</td>\n",
       "      <td>0.236174</td>\n",
       "      <td>11.013535</td>\n",
       "    </tr>\n",
       "    <tr>\n",
       "      <th>51725</th>\n",
       "      <td>GFUI043720-PA</td>\n",
       "      <td>P</td>\n",
       "      <td>GO:0035335</td>\n",
       "      <td>peptidyl-tyrosine dephosphorylation</td>\n",
       "      <td>1854.192243</td>\n",
       "      <td>0.104459</td>\n",
       "      <td>11.690944</td>\n",
       "    </tr>\n",
       "    <tr>\n",
       "      <th>51724</th>\n",
       "      <td>GFUI043720-PA</td>\n",
       "      <td>P</td>\n",
       "      <td>GO:0016311</td>\n",
       "      <td>dephosphorylation</td>\n",
       "      <td>1327.332234</td>\n",
       "      <td>0.334633</td>\n",
       "      <td>9.783756</td>\n",
       "    </tr>\n",
       "    <tr>\n",
       "      <th>51729</th>\n",
       "      <td>GFUI043720-PA</td>\n",
       "      <td>F</td>\n",
       "      <td>GO:0004725</td>\n",
       "      <td>protein tyrosine phosphatase activity</td>\n",
       "      <td>1106.817502</td>\n",
       "      <td>0.176805</td>\n",
       "      <td>8.510896</td>\n",
       "    </tr>\n",
       "    <tr>\n",
       "      <th>51726</th>\n",
       "      <td>GFUI043720-PA</td>\n",
       "      <td>F</td>\n",
       "      <td>GO:0016787</td>\n",
       "      <td>hydrolase activity</td>\n",
       "      <td>1088.596949</td>\n",
       "      <td>0.857645</td>\n",
       "      <td>2.643033</td>\n",
       "    </tr>\n",
       "    <tr>\n",
       "      <th>51730</th>\n",
       "      <td>GFUI043720-PA</td>\n",
       "      <td>F</td>\n",
       "      <td>GO:0008138</td>\n",
       "      <td>protein tyrosine/serine/threonine phosphatase activity</td>\n",
       "      <td>904.445986</td>\n",
       "      <td>0.147903</td>\n",
       "      <td>10.023433</td>\n",
       "    </tr>\n",
       "    <tr>\n",
       "      <th>51728</th>\n",
       "      <td>GFUI043720-PA</td>\n",
       "      <td>F</td>\n",
       "      <td>GO:0004721</td>\n",
       "      <td>phosphoprotein phosphatase activity</td>\n",
       "      <td>837.540183</td>\n",
       "      <td>0.541206</td>\n",
       "      <td>7.887060</td>\n",
       "    </tr>\n",
       "    <tr>\n",
       "      <th>51727</th>\n",
       "      <td>GFUI043720-PA</td>\n",
       "      <td>F</td>\n",
       "      <td>GO:0016791</td>\n",
       "      <td>phosphatase activity</td>\n",
       "      <td>663.461735</td>\n",
       "      <td>0.703193</td>\n",
       "      <td>6.651616</td>\n",
       "    </tr>\n",
       "    <tr>\n",
       "      <th>51733</th>\n",
       "      <td>GFUI043720-PA</td>\n",
       "      <td>C</td>\n",
       "      <td>GO:0005634</td>\n",
       "      <td>nucleus</td>\n",
       "      <td>555.072824</td>\n",
       "      <td>0.429894</td>\n",
       "      <td>5.725783</td>\n",
       "    </tr>\n",
       "    <tr>\n",
       "      <th>51732</th>\n",
       "      <td>GFUI043720-PA</td>\n",
       "      <td>C</td>\n",
       "      <td>GO:0005737</td>\n",
       "      <td>cytoplasm</td>\n",
       "      <td>497.846080</td>\n",
       "      <td>0.152037</td>\n",
       "      <td>3.178476</td>\n",
       "    </tr>\n",
       "    <tr>\n",
       "      <th>51735</th>\n",
       "      <td>GFUI043720-PA</td>\n",
       "      <td>C</td>\n",
       "      <td>GO:0005730</td>\n",
       "      <td>nucleolus</td>\n",
       "      <td>389.302073</td>\n",
       "      <td>0.124618</td>\n",
       "      <td>9.264441</td>\n",
       "    </tr>\n",
       "    <tr>\n",
       "      <th>51723</th>\n",
       "      <td>GFUI043720-PA</td>\n",
       "      <td>P</td>\n",
       "      <td>GO:0007096</td>\n",
       "      <td>regulation of exit from mitosis</td>\n",
       "      <td>367.731156</td>\n",
       "      <td>0.052932</td>\n",
       "      <td>16.042232</td>\n",
       "    </tr>\n",
       "    <tr>\n",
       "      <th>51734</th>\n",
       "      <td>GFUI043720-PA</td>\n",
       "      <td>C</td>\n",
       "      <td>GO:0005654</td>\n",
       "      <td>nucleoplasm</td>\n",
       "      <td>303.231978</td>\n",
       "      <td>0.102342</td>\n",
       "      <td>8.366626</td>\n",
       "    </tr>\n",
       "  </tbody>\n",
       "</table>\n",
       "</div>"
      ],
      "text/plain": [
       "            Sequence Aspect       GO ID  \\\n",
       "51722  GFUI043720-PA      P  GO:0006470   \n",
       "51725  GFUI043720-PA      P  GO:0035335   \n",
       "51724  GFUI043720-PA      P  GO:0016311   \n",
       "51729  GFUI043720-PA      F  GO:0004725   \n",
       "51726  GFUI043720-PA      F  GO:0016787   \n",
       "51730  GFUI043720-PA      F  GO:0008138   \n",
       "51728  GFUI043720-PA      F  GO:0004721   \n",
       "51727  GFUI043720-PA      F  GO:0016791   \n",
       "51733  GFUI043720-PA      C  GO:0005634   \n",
       "51732  GFUI043720-PA      C  GO:0005737   \n",
       "51735  GFUI043720-PA      C  GO:0005730   \n",
       "51723  GFUI043720-PA      P  GO:0007096   \n",
       "51734  GFUI043720-PA      C  GO:0005654   \n",
       "\n",
       "                                                         Name  Total Score  \\\n",
       "51722                               protein dephosphorylation  2077.021281   \n",
       "51725                     peptidyl-tyrosine dephosphorylation  1854.192243   \n",
       "51724                                       dephosphorylation  1327.332234   \n",
       "51729                   protein tyrosine phosphatase activity  1106.817502   \n",
       "51726                                      hydrolase activity  1088.596949   \n",
       "51730  protein tyrosine/serine/threonine phosphatase activity   904.445986   \n",
       "51728                     phosphoprotein phosphatase activity   837.540183   \n",
       "51727                                    phosphatase activity   663.461735   \n",
       "51733                                                 nucleus   555.072824   \n",
       "51732                                               cytoplasm   497.846080   \n",
       "51735                                               nucleolus   389.302073   \n",
       "51723                         regulation of exit from mitosis   367.731156   \n",
       "51734                                             nucleoplasm   303.231978   \n",
       "\n",
       "       Internal Confidence  Information Content  \n",
       "51722             0.236174            11.013535  \n",
       "51725             0.104459            11.690944  \n",
       "51724             0.334633             9.783756  \n",
       "51729             0.176805             8.510896  \n",
       "51726             0.857645             2.643033  \n",
       "51730             0.147903            10.023433  \n",
       "51728             0.541206             7.887060  \n",
       "51727             0.703193             6.651616  \n",
       "51733             0.429894             5.725783  \n",
       "51732             0.152037             3.178476  \n",
       "51735             0.124618             9.264441  \n",
       "51723             0.052932            16.042232  \n",
       "51734             0.102342             8.366626  "
      ]
     },
     "metadata": {},
     "output_type": "display_data"
    },
    {
     "data": {
      "text/html": [
       "<p>"
      ],
      "text/plain": [
       "<IPython.core.display.HTML object>"
      ]
     },
     "metadata": {},
     "output_type": "display_data"
    },
    {
     "data": {
      "text/html": [
       "<a href=\"https://www.vectorbase.org/Glossina_fuscipes/Gene/Summary?db=core;g=GFUI043720\"> GFUI043720: gene home page</a>"
      ],
      "text/plain": [
       "<IPython.core.display.HTML object>"
      ]
     },
     "metadata": {},
     "output_type": "display_data"
    },
    {
     "data": {
      "text/html": [
       "<a href=\"https://www.vectorbase.org/Glossina_fuscipes/Transcript/ProteinSummary?db=core;g=GFUI043720\"> GFUI043720: protein summary </a>"
      ],
      "text/plain": [
       "<IPython.core.display.HTML object>"
      ]
     },
     "metadata": {},
     "output_type": "display_data"
    },
    {
     "data": {
      "text/html": [
       "<a href=\"https://www.vectorbase.org/Glossina_fuscipes/Location/View?db=core;g=GFUI043720;r\"> GFUI043720: genome browser </a>"
      ],
      "text/plain": [
       "<IPython.core.display.HTML object>"
      ]
     },
     "metadata": {},
     "output_type": "display_data"
    },
    {
     "data": {
      "text/html": [
       "<a href=\"https://www.vectorbase.org/Glossina_fuscipes/Transcript/Ontology/biological_process?db=core;g=GFUI043720;oid=biological_process\"> GFUI043720: GO: biological process </a>"
      ],
      "text/plain": [
       "<IPython.core.display.HTML object>"
      ]
     },
     "metadata": {},
     "output_type": "display_data"
    },
    {
     "data": {
      "text/html": [
       "<a href=\"https://www.vectorbase.org/Glossina_fuscipes/Transcript/Ontology/cellular_component?db=core;g=GFUI043720;oid=cellular_component\"> GFUI043720: GO: cellular component </a>"
      ],
      "text/plain": [
       "<IPython.core.display.HTML object>"
      ]
     },
     "metadata": {},
     "output_type": "display_data"
    },
    {
     "data": {
      "text/html": [
       "<a href=\"https://www.vectorbase.org/Glossina_fuscipes/Transcript/Ontology/molecular_function?db=core;g=GFUI043720;oid=molecular_function\"> GFUI043720: GO: molecular function </a>"
      ],
      "text/plain": [
       "<IPython.core.display.HTML object>"
      ]
     },
     "metadata": {},
     "output_type": "display_data"
    },
    {
     "data": {
      "text/html": [
       "<hr>"
      ],
      "text/plain": [
       "<IPython.core.display.HTML object>"
      ]
     },
     "metadata": {},
     "output_type": "display_data"
    },
    {
     "data": {
      "text/html": [
       "<h2>GFUI051070(official_annotations)</h2>"
      ],
      "text/plain": [
       "<IPython.core.display.HTML object>"
      ]
     },
     "metadata": {},
     "output_type": "display_data"
    },
    {
     "data": {
      "text/html": [
       "<b>SNPs:</b><br>Scaffold8:1744226<br>"
      ],
      "text/plain": [
       "<IPython.core.display.HTML object>"
      ]
     },
     "metadata": {},
     "output_type": "display_data"
    },
    {
     "data": {
      "text/html": [
       "<div>\n",
       "<table border=\"1\" class=\"dataframe\">\n",
       "  <thead>\n",
       "    <tr style=\"text-align: right;\">\n",
       "      <th></th>\n",
       "      <th>Sequence</th>\n",
       "      <th>Aspect</th>\n",
       "      <th>GO ID</th>\n",
       "      <th>Name</th>\n",
       "      <th>Total Score</th>\n",
       "      <th>Internal Confidence</th>\n",
       "      <th>Information Content</th>\n",
       "    </tr>\n",
       "  </thead>\n",
       "  <tbody>\n",
       "  </tbody>\n",
       "</table>\n",
       "</div>"
      ],
      "text/plain": [
       "Empty DataFrame\n",
       "Columns: [Sequence, Aspect, GO ID, Name, Total Score, Internal Confidence, Information Content]\n",
       "Index: []"
      ]
     },
     "metadata": {},
     "output_type": "display_data"
    },
    {
     "data": {
      "text/html": [
       "<p>"
      ],
      "text/plain": [
       "<IPython.core.display.HTML object>"
      ]
     },
     "metadata": {},
     "output_type": "display_data"
    },
    {
     "data": {
      "text/html": [
       "<a href=\"https://www.vectorbase.org/Glossina_fuscipes/Gene/Summary?db=core;g=GFUI051070\"> GFUI051070: gene home page</a>"
      ],
      "text/plain": [
       "<IPython.core.display.HTML object>"
      ]
     },
     "metadata": {},
     "output_type": "display_data"
    },
    {
     "data": {
      "text/html": [
       "<a href=\"https://www.vectorbase.org/Glossina_fuscipes/Transcript/ProteinSummary?db=core;g=GFUI051070\"> GFUI051070: protein summary </a>"
      ],
      "text/plain": [
       "<IPython.core.display.HTML object>"
      ]
     },
     "metadata": {},
     "output_type": "display_data"
    },
    {
     "data": {
      "text/html": [
       "<a href=\"https://www.vectorbase.org/Glossina_fuscipes/Location/View?db=core;g=GFUI051070;r\"> GFUI051070: genome browser </a>"
      ],
      "text/plain": [
       "<IPython.core.display.HTML object>"
      ]
     },
     "metadata": {},
     "output_type": "display_data"
    },
    {
     "data": {
      "text/html": [
       "<a href=\"https://www.vectorbase.org/Glossina_fuscipes/Transcript/Ontology/biological_process?db=core;g=GFUI051070;oid=biological_process\"> GFUI051070: GO: biological process </a>"
      ],
      "text/plain": [
       "<IPython.core.display.HTML object>"
      ]
     },
     "metadata": {},
     "output_type": "display_data"
    },
    {
     "data": {
      "text/html": [
       "<a href=\"https://www.vectorbase.org/Glossina_fuscipes/Transcript/Ontology/cellular_component?db=core;g=GFUI051070;oid=cellular_component\"> GFUI051070: GO: cellular component </a>"
      ],
      "text/plain": [
       "<IPython.core.display.HTML object>"
      ]
     },
     "metadata": {},
     "output_type": "display_data"
    },
    {
     "data": {
      "text/html": [
       "<a href=\"https://www.vectorbase.org/Glossina_fuscipes/Transcript/Ontology/molecular_function?db=core;g=GFUI051070;oid=molecular_function\"> GFUI051070: GO: molecular function </a>"
      ],
      "text/plain": [
       "<IPython.core.display.HTML object>"
      ]
     },
     "metadata": {},
     "output_type": "display_data"
    },
    {
     "data": {
      "text/html": [
       "<hr>"
      ],
      "text/plain": [
       "<IPython.core.display.HTML object>"
      ]
     },
     "metadata": {},
     "output_type": "display_data"
    },
    {
     "data": {
      "text/html": [
       "<h2>GFUI053401(official_annotations)</h2>"
      ],
      "text/plain": [
       "<IPython.core.display.HTML object>"
      ]
     },
     "metadata": {},
     "output_type": "display_data"
    },
    {
     "data": {
      "text/html": [
       "<b>SNPs:</b><br>Scaffold9:1360708<br>"
      ],
      "text/plain": [
       "<IPython.core.display.HTML object>"
      ]
     },
     "metadata": {},
     "output_type": "display_data"
    },
    {
     "data": {
      "text/html": [
       "<div>\n",
       "<table border=\"1\" class=\"dataframe\">\n",
       "  <thead>\n",
       "    <tr style=\"text-align: right;\">\n",
       "      <th></th>\n",
       "      <th>Sequence</th>\n",
       "      <th>Aspect</th>\n",
       "      <th>GO ID</th>\n",
       "      <th>Name</th>\n",
       "      <th>Total Score</th>\n",
       "      <th>Internal Confidence</th>\n",
       "      <th>Information Content</th>\n",
       "    </tr>\n",
       "  </thead>\n",
       "  <tbody>\n",
       "  </tbody>\n",
       "</table>\n",
       "</div>"
      ],
      "text/plain": [
       "Empty DataFrame\n",
       "Columns: [Sequence, Aspect, GO ID, Name, Total Score, Internal Confidence, Information Content]\n",
       "Index: []"
      ]
     },
     "metadata": {},
     "output_type": "display_data"
    },
    {
     "data": {
      "text/html": [
       "<p>"
      ],
      "text/plain": [
       "<IPython.core.display.HTML object>"
      ]
     },
     "metadata": {},
     "output_type": "display_data"
    },
    {
     "data": {
      "text/html": [
       "<a href=\"https://www.vectorbase.org/Glossina_fuscipes/Gene/Summary?db=core;g=GFUI053401\"> GFUI053401: gene home page</a>"
      ],
      "text/plain": [
       "<IPython.core.display.HTML object>"
      ]
     },
     "metadata": {},
     "output_type": "display_data"
    },
    {
     "data": {
      "text/html": [
       "<a href=\"https://www.vectorbase.org/Glossina_fuscipes/Transcript/ProteinSummary?db=core;g=GFUI053401\"> GFUI053401: protein summary </a>"
      ],
      "text/plain": [
       "<IPython.core.display.HTML object>"
      ]
     },
     "metadata": {},
     "output_type": "display_data"
    },
    {
     "data": {
      "text/html": [
       "<a href=\"https://www.vectorbase.org/Glossina_fuscipes/Location/View?db=core;g=GFUI053401;r\"> GFUI053401: genome browser </a>"
      ],
      "text/plain": [
       "<IPython.core.display.HTML object>"
      ]
     },
     "metadata": {},
     "output_type": "display_data"
    },
    {
     "data": {
      "text/html": [
       "<a href=\"https://www.vectorbase.org/Glossina_fuscipes/Transcript/Ontology/biological_process?db=core;g=GFUI053401;oid=biological_process\"> GFUI053401: GO: biological process </a>"
      ],
      "text/plain": [
       "<IPython.core.display.HTML object>"
      ]
     },
     "metadata": {},
     "output_type": "display_data"
    },
    {
     "data": {
      "text/html": [
       "<a href=\"https://www.vectorbase.org/Glossina_fuscipes/Transcript/Ontology/cellular_component?db=core;g=GFUI053401;oid=cellular_component\"> GFUI053401: GO: cellular component </a>"
      ],
      "text/plain": [
       "<IPython.core.display.HTML object>"
      ]
     },
     "metadata": {},
     "output_type": "display_data"
    },
    {
     "data": {
      "text/html": [
       "<a href=\"https://www.vectorbase.org/Glossina_fuscipes/Transcript/Ontology/molecular_function?db=core;g=GFUI053401;oid=molecular_function\"> GFUI053401: GO: molecular function </a>"
      ],
      "text/plain": [
       "<IPython.core.display.HTML object>"
      ]
     },
     "metadata": {},
     "output_type": "display_data"
    },
    {
     "data": {
      "text/html": [
       "<hr>"
      ],
      "text/plain": [
       "<IPython.core.display.HTML object>"
      ]
     },
     "metadata": {},
     "output_type": "display_data"
    },
    {
     "data": {
      "text/html": [
       "<h2>GFUI053502(official_annotations)</h2>"
      ],
      "text/plain": [
       "<IPython.core.display.HTML object>"
      ]
     },
     "metadata": {},
     "output_type": "display_data"
    },
    {
     "data": {
      "text/html": [
       "<b>SNPs:</b><br>Scaffold9:2033837<br>"
      ],
      "text/plain": [
       "<IPython.core.display.HTML object>"
      ]
     },
     "metadata": {},
     "output_type": "display_data"
    },
    {
     "data": {
      "text/html": [
       "<div>\n",
       "<table border=\"1\" class=\"dataframe\">\n",
       "  <thead>\n",
       "    <tr style=\"text-align: right;\">\n",
       "      <th></th>\n",
       "      <th>Sequence</th>\n",
       "      <th>Aspect</th>\n",
       "      <th>GO ID</th>\n",
       "      <th>Name</th>\n",
       "      <th>Total Score</th>\n",
       "      <th>Internal Confidence</th>\n",
       "      <th>Information Content</th>\n",
       "    </tr>\n",
       "  </thead>\n",
       "  <tbody>\n",
       "  </tbody>\n",
       "</table>\n",
       "</div>"
      ],
      "text/plain": [
       "Empty DataFrame\n",
       "Columns: [Sequence, Aspect, GO ID, Name, Total Score, Internal Confidence, Information Content]\n",
       "Index: []"
      ]
     },
     "metadata": {},
     "output_type": "display_data"
    },
    {
     "data": {
      "text/html": [
       "<p>"
      ],
      "text/plain": [
       "<IPython.core.display.HTML object>"
      ]
     },
     "metadata": {},
     "output_type": "display_data"
    },
    {
     "data": {
      "text/html": [
       "<a href=\"https://www.vectorbase.org/Glossina_fuscipes/Gene/Summary?db=core;g=GFUI053502\"> GFUI053502: gene home page</a>"
      ],
      "text/plain": [
       "<IPython.core.display.HTML object>"
      ]
     },
     "metadata": {},
     "output_type": "display_data"
    },
    {
     "data": {
      "text/html": [
       "<a href=\"https://www.vectorbase.org/Glossina_fuscipes/Transcript/ProteinSummary?db=core;g=GFUI053502\"> GFUI053502: protein summary </a>"
      ],
      "text/plain": [
       "<IPython.core.display.HTML object>"
      ]
     },
     "metadata": {},
     "output_type": "display_data"
    },
    {
     "data": {
      "text/html": [
       "<a href=\"https://www.vectorbase.org/Glossina_fuscipes/Location/View?db=core;g=GFUI053502;r\"> GFUI053502: genome browser </a>"
      ],
      "text/plain": [
       "<IPython.core.display.HTML object>"
      ]
     },
     "metadata": {},
     "output_type": "display_data"
    },
    {
     "data": {
      "text/html": [
       "<a href=\"https://www.vectorbase.org/Glossina_fuscipes/Transcript/Ontology/biological_process?db=core;g=GFUI053502;oid=biological_process\"> GFUI053502: GO: biological process </a>"
      ],
      "text/plain": [
       "<IPython.core.display.HTML object>"
      ]
     },
     "metadata": {},
     "output_type": "display_data"
    },
    {
     "data": {
      "text/html": [
       "<a href=\"https://www.vectorbase.org/Glossina_fuscipes/Transcript/Ontology/cellular_component?db=core;g=GFUI053502;oid=cellular_component\"> GFUI053502: GO: cellular component </a>"
      ],
      "text/plain": [
       "<IPython.core.display.HTML object>"
      ]
     },
     "metadata": {},
     "output_type": "display_data"
    },
    {
     "data": {
      "text/html": [
       "<a href=\"https://www.vectorbase.org/Glossina_fuscipes/Transcript/Ontology/molecular_function?db=core;g=GFUI053502;oid=molecular_function\"> GFUI053502: GO: molecular function </a>"
      ],
      "text/plain": [
       "<IPython.core.display.HTML object>"
      ]
     },
     "metadata": {},
     "output_type": "display_data"
    },
    {
     "data": {
      "text/html": [
       "<hr>"
      ],
      "text/plain": [
       "<IPython.core.display.HTML object>"
      ]
     },
     "metadata": {},
     "output_type": "display_data"
    }
   ],
   "source": [
    "for gene in sorted(list(snp_coords.gene_id_internal.values)):\n",
    "\n",
    "    present_gene(gene_name=gene, snp_coords=snp_coords, argot_df=argot2)"
   ]
  },
  {
   "cell_type": "code",
   "execution_count": null,
   "metadata": {
    "collapsed": true
   },
   "outputs": [],
   "source": []
  }
 ],
 "metadata": {
  "kernelspec": {
   "display_name": "Python 2",
   "language": "python",
   "name": "python2"
  },
  "language_info": {
   "codemirror_mode": {
    "name": "ipython",
    "version": 2
   },
   "file_extension": ".py",
   "mimetype": "text/x-python",
   "name": "python",
   "nbconvert_exporter": "python",
   "pygments_lexer": "ipython2",
   "version": "2.7.11"
  }
 },
 "nbformat": 4,
 "nbformat_minor": 0
}
