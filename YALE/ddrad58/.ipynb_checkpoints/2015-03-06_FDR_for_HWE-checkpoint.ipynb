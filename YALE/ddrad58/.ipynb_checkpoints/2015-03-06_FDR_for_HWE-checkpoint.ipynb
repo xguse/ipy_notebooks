{
 "cells": [
  {
   "cell_type": "markdown",
   "metadata": {},
   "source": [
    "# Purpose:\n",
    "\n",
    "2015-03-06 (Friday)\n",
    "\n",
    "Calculate Benjamini-Hochberg(1995) for Andrea's VCFtools Hardy-Weinberg equilibrium values"
   ]
  },
  {
   "cell_type": "markdown",
   "metadata": {},
   "source": [
    "# Implementation:"
   ]
  },
  {
   "cell_type": "markdown",
   "metadata": {},
   "source": [
    "## Imports:"
   ]
  },
  {
   "cell_type": "code",
   "execution_count": 4,
   "metadata": {
    "collapsed": true
   },
   "outputs": [],
   "source": [
    "# imports\n",
    "import statsmodels.stats.multitest as smm\n",
    "\n",
    "import pandas as pd\n",
    "import numpy as np"
   ]
  },
  {
   "cell_type": "markdown",
   "metadata": {},
   "source": [
    "## File paths:"
   ]
  },
  {
   "cell_type": "code",
   "execution_count": 2,
   "metadata": {
    "collapsed": true
   },
   "outputs": [],
   "source": [
    "# define paths to files\n",
    "hwe_file = \"/home/gus/Documents/YalePostDoc/project_stuff/g_f_fucipes_uganda/ddrad58/vcftools_hwe_out_2015-03-05.txt\"\n",
    "hwe_fdr_file = \"/home/gus/Documents/YalePostDoc/project_stuff/g_f_fucipes_uganda/ddrad58/vcftools_hwe_out_2015-03-05.FDR.txt\""
   ]
  },
  {
   "cell_type": "code",
   "execution_count": 5,
   "metadata": {
    "collapsed": false
   },
   "outputs": [],
   "source": [
    "hwe = ld = pd.read_table(hwe_file, sep=\"\\t\", engine='python')"
   ]
  },
  {
   "cell_type": "code",
   "execution_count": 8,
   "metadata": {
    "collapsed": false
   },
   "outputs": [
    {
     "data": {
      "text/html": [
       "<div style=\"max-height:1000px;max-width:1500px;overflow:auto;\">\n",
       "<table border=\"1\" class=\"dataframe\">\n",
       "  <thead>\n",
       "    <tr style=\"text-align: right;\">\n",
       "      <th></th>\n",
       "      <th>CHR</th>\n",
       "      <th>POS</th>\n",
       "      <th>OBS(HOM1/HET/HOM2)</th>\n",
       "      <th>E(HOM1/HET/HOM2)</th>\n",
       "      <th>ChiSq_HWE</th>\n",
       "      <th>P_HWE</th>\n",
       "      <th>P_HET_DEFICIT</th>\n",
       "      <th>P_HET_EXCESS</th>\n",
       "    </tr>\n",
       "  </thead>\n",
       "  <tbody>\n",
       "    <tr>\n",
       "      <th>0</th>\n",
       "      <td> GFvariants_VB2014a_tvcf:KK351785.1</td>\n",
       "      <td> 13388</td>\n",
       "      <td> 14/1/37</td>\n",
       "      <td> 4.04/20.91/27.04</td>\n",
       "      <td> 47.14602</td>\n",
       "      <td> 2.863439e-12</td>\n",
       "      <td> 2.863439e-12</td>\n",
       "      <td> 1</td>\n",
       "    </tr>\n",
       "    <tr>\n",
       "      <th>1</th>\n",
       "      <td> GFvariants_VB2014a_tvcf:KK351785.1</td>\n",
       "      <td> 23408</td>\n",
       "      <td> 15/1/36</td>\n",
       "      <td> 4.62/21.76/25.62</td>\n",
       "      <td> 47.33033</td>\n",
       "      <td> 1.183555e-12</td>\n",
       "      <td> 1.183555e-12</td>\n",
       "      <td> 1</td>\n",
       "    </tr>\n",
       "    <tr>\n",
       "      <th>2</th>\n",
       "      <td> GFvariants_VB2014a_tvcf:KK351785.1</td>\n",
       "      <td> 23418</td>\n",
       "      <td> 15/1/36</td>\n",
       "      <td> 4.62/21.76/25.62</td>\n",
       "      <td> 47.33033</td>\n",
       "      <td> 1.183555e-12</td>\n",
       "      <td> 1.183555e-12</td>\n",
       "      <td> 1</td>\n",
       "    </tr>\n",
       "    <tr>\n",
       "      <th>3</th>\n",
       "      <td> GFvariants_VB2014a_tvcf:KK351785.1</td>\n",
       "      <td> 23421</td>\n",
       "      <td> 15/1/36</td>\n",
       "      <td> 4.62/21.76/25.62</td>\n",
       "      <td> 47.33033</td>\n",
       "      <td> 1.183555e-12</td>\n",
       "      <td> 1.183555e-12</td>\n",
       "      <td> 1</td>\n",
       "    </tr>\n",
       "    <tr>\n",
       "      <th>4</th>\n",
       "      <td> GFvariants_VB2014a_tvcf:KK351785.1</td>\n",
       "      <td> 23431</td>\n",
       "      <td> 14/2/36</td>\n",
       "      <td> 4.33/21.35/26.33</td>\n",
       "      <td> 42.71234</td>\n",
       "      <td> 4.241708e-11</td>\n",
       "      <td> 4.241708e-11</td>\n",
       "      <td> 1</td>\n",
       "    </tr>\n",
       "  </tbody>\n",
       "</table>\n",
       "</div>"
      ],
      "text/plain": [
       "                                  CHR    POS OBS(HOM1/HET/HOM2)  \\\n",
       "0  GFvariants_VB2014a_tvcf:KK351785.1  13388            14/1/37   \n",
       "1  GFvariants_VB2014a_tvcf:KK351785.1  23408            15/1/36   \n",
       "2  GFvariants_VB2014a_tvcf:KK351785.1  23418            15/1/36   \n",
       "3  GFvariants_VB2014a_tvcf:KK351785.1  23421            15/1/36   \n",
       "4  GFvariants_VB2014a_tvcf:KK351785.1  23431            14/2/36   \n",
       "\n",
       "   E(HOM1/HET/HOM2)  ChiSq_HWE         P_HWE  P_HET_DEFICIT  P_HET_EXCESS  \n",
       "0  4.04/20.91/27.04   47.14602  2.863439e-12   2.863439e-12             1  \n",
       "1  4.62/21.76/25.62   47.33033  1.183555e-12   1.183555e-12             1  \n",
       "2  4.62/21.76/25.62   47.33033  1.183555e-12   1.183555e-12             1  \n",
       "3  4.62/21.76/25.62   47.33033  1.183555e-12   1.183555e-12             1  \n",
       "4  4.33/21.35/26.33   42.71234  4.241708e-11   4.241708e-11             1  "
      ]
     },
     "execution_count": 8,
     "metadata": {},
     "output_type": "execute_result"
    }
   ],
   "source": [
    "hwe.head()"
   ]
  },
  {
   "cell_type": "code",
   "execution_count": 9,
   "metadata": {
    "collapsed": true
   },
   "outputs": [],
   "source": [
    "hwe[\"P_HWE_BH\"] = smm.multipletests(hwe.P_HWE, method='fdr_bh')[1]"
   ]
  },
  {
   "cell_type": "code",
   "execution_count": 13,
   "metadata": {
    "collapsed": false
   },
   "outputs": [
    {
     "data": {
      "text/plain": [
       "18080"
      ]
     },
     "execution_count": 13,
     "metadata": {},
     "output_type": "execute_result"
    }
   ],
   "source": [
    "len(hwe.query(\"P_HWE_BH <= 0.01\"))"
   ]
  },
  {
   "cell_type": "code",
   "execution_count": 14,
   "metadata": {
    "collapsed": true
   },
   "outputs": [],
   "source": [
    "hwe.to_csv(hwe_fdr_file, sep='\\t')"
   ]
  },
  {
   "cell_type": "code",
   "execution_count": null,
   "metadata": {
    "collapsed": true
   },
   "outputs": [],
   "source": []
  }
 ],
 "metadata": {
  "kernelspec": {
   "display_name": "Python 2",
   "language": "python",
   "name": "python2"
  },
  "language_info": {
   "codemirror_mode": {
    "name": "ipython",
    "version": 2
   },
   "file_extension": ".py",
   "mimetype": "text/x-python",
   "name": "python",
   "nbconvert_exporter": "python",
   "pygments_lexer": "ipython2",
   "version": "2.7.9"
  }
 },
 "nbformat": 4,
 "nbformat_minor": 0
}
