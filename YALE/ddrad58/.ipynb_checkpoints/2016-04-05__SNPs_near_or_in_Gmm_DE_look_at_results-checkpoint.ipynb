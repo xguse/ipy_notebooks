{
 "cells": [
  {
   "cell_type": "code",
   "execution_count": 1,
   "metadata": {
    "collapsed": true
   },
   "outputs": [],
   "source": [
    "%matplotlib inline"
   ]
  },
  {
   "cell_type": "code",
   "execution_count": 2,
   "metadata": {
    "collapsed": true
   },
   "outputs": [],
   "source": [
    "from IPython.display import HTML"
   ]
  },
  {
   "cell_type": "code",
   "execution_count": 3,
   "metadata": {
    "collapsed": false
   },
   "outputs": [],
   "source": [
    "from __future__ import unicode_literals\n",
    "from __future__ import division\n",
    "from __future__ import print_function\n",
    "\n",
    "import os\n",
    "\n",
    "import numpy as np\n",
    "import pandas as pd\n",
    "pd.set_option('display.max_columns', 60)\n",
    "pd.set_option('display.max_rows', 300)\n",
    "pd.set_option(\"max_colwidth\",1000)\n",
    "\n",
    "\n",
    "from collections import defaultdict\n",
    "\n",
    "import munch\n",
    "\n",
    "from IPython.display import display, HTML\n",
    "\n",
    "from spartan.utils.annotations.ensembl.gff3 import parse_gff3_attributes\n",
    "from spartan.utils.files import tableFile2namedTuple"
   ]
  },
  {
   "cell_type": "markdown",
   "metadata": {},
   "source": [
    "# Files"
   ]
  },
  {
   "cell_type": "code",
   "execution_count": 4,
   "metadata": {
    "collapsed": true
   },
   "outputs": [],
   "source": [
    "results_ = \"/home/gus/MEGAsync/zim/main/Yale/Collaborations/Hongyu-tsetse/gmm_to_gff_pipeline/pipeline_runs/gmm_to_gff_testing_filterPSL_100bp/snps_near_homologous_de/snps_near_homologous_de_distance_0.csv\"\n",
    "bed_ = \"/home/gus/MEGAsync/zim/main/Yale/Collaborations/Hongyu-tsetse/gmm_to_gff_pipeline/pipeline_prep/produced/Glossina-fuscipes-IAEA_BASEFEATURES_GfusI1.3.sorted.bed\"\n",
    "fanno = \"/run/media/gus/Storage/louise/data/genomes/glossina_fuscipes/annotations/functional/GfusI1.1_pre/argot2_out/argot_functional_annotations_ts150.h5\""
   ]
  },
  {
   "cell_type": "markdown",
   "metadata": {},
   "source": [
    "# Link Templates"
   ]
  },
  {
   "cell_type": "code",
   "execution_count": 5,
   "metadata": {
    "collapsed": true
   },
   "outputs": [],
   "source": [
    "url = \"https://www.vectorbase.org/Glossina_fuscipes/Location/View?r=[chrom]:[left]-[right]\"\n",
    "\n",
    "# Vectorbase Link Templates\n",
    "gene_page          = '''<a href=\"https://www.vectorbase.org/Glossina_fuscipes/Gene/Summary?db=core;g=%(gene_name)s\"> %(gene_name)s: gene home page</a>'''\n",
    "protein_summary    = '''<a href=\"https://www.vectorbase.org/Glossina_fuscipes/Transcript/ProteinSummary?db=core;g=%(gene_name)s\"> %(gene_name)s: protein summary </a>'''\n",
    "gene_region_detail = '''<a href=\"https://www.vectorbase.org/Glossina_fuscipes/Location/View?db=core;g=%(gene_name)s;r\"> %(gene_name)s: genome browser </a>'''\n",
    "gene_ontology_bp   = '''<a href=\"https://www.vectorbase.org/Glossina_fuscipes/Transcript/Ontology/biological_process?db=core;g=%(gene_name)s;oid=biological_process\"> %(gene_name)s: GO: biological process </a>'''\n",
    "gene_ontology_cp   = '''<a href=\"https://www.vectorbase.org/Glossina_fuscipes/Transcript/Ontology/cellular_component?db=core;g=%(gene_name)s;oid=cellular_component\"> %(gene_name)s: GO: cellular component </a>'''\n",
    "gene_ontology_mf   = '''<a href=\"https://www.vectorbase.org/Glossina_fuscipes/Transcript/Ontology/molecular_function?db=core;g=%(gene_name)s;oid=molecular_function\"> %(gene_name)s: GO: molecular function </a>'''"
   ]
  },
  {
   "cell_type": "markdown",
   "metadata": {},
   "source": [
    "# Functions"
   ]
  },
  {
   "cell_type": "code",
   "execution_count": 6,
   "metadata": {
    "collapsed": true
   },
   "outputs": [],
   "source": [
    "def create_multiindex(df, levels, data_cols=None):\n",
    "    \n",
    "    # select data columns\n",
    "    if data_cols is None:\n",
    "        mi = df[[c for c in data.columns if c not in levels]].copy()\n",
    "    else:\n",
    "        assert isinstance(data_cols, list)\n",
    "        mi = df[data_cols]\n",
    "    \n",
    "    # get multiindex values\n",
    "    indexes = [df[i].copy() for i in levels]\n",
    "    \n",
    "    # add new indexes to data\n",
    "    mi.index = indexes\n",
    "    \n",
    "    return mi\n",
    "\n",
    "\n",
    "\n",
    "\n",
    "bed_headers = [\"chrom\",\n",
    "               \"chromStart\",\n",
    "               \"chromEnd\",\n",
    "               \"name\",\n",
    "               \"score\",\n",
    "               \"strand\",\n",
    "               \"thickStart\",\n",
    "               \"thickEnd\",\n",
    "               \"itemRgb\",\n",
    "               \"blockCount\",\n",
    "               \"blockSizes\",\n",
    "               \"blockStarts\"]\n",
    "\n",
    "\n",
    "def add_url_col(results, url, bed, bed_headers):\n",
    "    \"\"\"Add url column to results df.\"\"\"\n",
    "    print(\"begun adding urls.\")\n",
    "    # correct the templating of the url required by snakemake interpreting it as wildcards\n",
    "    url = url.replace(\"[chrom]\",\"{chrom}\").replace(\"[left]\",\"{left}\").replace(\"[right]\",\"{right}\")\n",
    "\n",
    "    bed = pd.read_csv(bed, sep='\\t',names=bed_headers)[[\"chrom\", \"chromStart\", \"chromEnd\", \"name\"]]\n",
    "    bed = bed.rename(columns={\"name\":\"gene_id_internal\"})\n",
    "\n",
    "    combo = pd.merge(left=results, right=bed, how='inner',\n",
    "                     on=\"gene_id_internal\", left_on=None, right_on=None)\n",
    "\n",
    "    # count_cols = ['chromStart','chromEnd','SNP_start','SNP_end']\n",
    "    combo['left'] = combo.apply(lambda row: min(row[['chromStart','chromEnd','SNP_start','SNP_end']]), axis=1)\n",
    "    combo['right'] = combo.apply(lambda row: max(row[['chromStart','chromEnd','SNP_start','SNP_end']]), axis=1)\n",
    "    combo['url'] = combo.apply(lambda row: url.format(chrom=row[\"chrom\"],left=row[\"left\"],right=row[\"right\"]), axis=1)\n",
    "\n",
    "    results = pd.merge(left=results, right=combo[[\"gene_id_internal\",\"url\"]], how='inner',\n",
    "                     on=\"gene_id_internal\", left_on=None, right_on=None)\n",
    "\n",
    "    return results.drop_duplicates()"
   ]
  },
  {
   "cell_type": "code",
   "execution_count": 7,
   "metadata": {
    "collapsed": false
   },
   "outputs": [],
   "source": [
    "class ListTable(list):\n",
    "    \"\"\" Overridden list class which takes a 2-dimensional list of \n",
    "        the form [[1,2,3],[4,5,6]], and renders an HTML Table in \n",
    "        IPython Notebook. \"\"\"\n",
    "    \n",
    "    def _repr_html_(self):\n",
    "        html = [\"<table>\"]\n",
    "        for index, row in enumerate(self):\n",
    "            html.append(\"<tr>\")\n",
    "            \n",
    "            for col in row:\n",
    "                # if header, format as such\n",
    "                if index == 0:\n",
    "                    html.append(\"<th>{0}</th>\".format(col))\n",
    "                else:\n",
    "                    html.append(\"<td>{0}</td>\".format(col))\n",
    "            \n",
    "            html.append(\"</tr>\")\n",
    "        html.append(\"</table>\")\n",
    "        return ''.join(html)\n",
    "\n",
    "def present_gene(gene_name, snp_coords, argot_df):\n",
    "    fset = ','.join(list(snp_coords.query(\"\"\" gene_id_internal == '{gene}' \"\"\".format(gene=gene)).feature_set_name.values))\n",
    "    display(HTML(\"<h2>{gene}({fset})</h2>\".format(fset=fset,gene=gene_name)))\n",
    "    \n",
    "    nearby_snps = list(snp_coords.query(\"\"\" gene_id_internal == '{gene}' \"\"\".format(gene=gene)).snp_str.values)\n",
    "    display(HTML(\"<b>SNPs:</b><br>%s<br>\" % (\"<br>\".join(nearby_snps))))\n",
    "    \n",
    "    display(gene_table(gene_name=gene_name,\n",
    "                       argot_df=argot_df,\n",
    "                       tscore=200))\n",
    "    \n",
    "    display(HTML(\"<p>\"))\n",
    "    display(vb_link(gene_name=gene_name, link_template=gene_page))\n",
    "    display(vb_link(gene_name=gene_name, link_template=protein_summary))\n",
    "    display(vb_link(gene_name=gene_name, link_template=gene_region_detail))\n",
    "    display(vb_link(gene_name=gene_name, link_template=gene_ontology_bp))\n",
    "    display(vb_link(gene_name=gene_name, link_template=gene_ontology_cp))\n",
    "    display(vb_link(gene_name=gene_name, link_template=gene_ontology_mf))\n",
    "    display(HTML(\"<hr>\"))"
   ]
  },
  {
   "cell_type": "code",
   "execution_count": 8,
   "metadata": {
    "collapsed": true
   },
   "outputs": [],
   "source": [
    "def filter_by_gene(gene, argot_df):\n",
    "    return argot_df[argot_df.Sequence.str.startswith(gene)]\n",
    "\n",
    "def sort_by_TS(argot_df):\n",
    "    return argot_df.sort_values(by='Total Score', ascending=0)\n",
    "\n",
    "def filter_by_TS(tscore, argot_df):\n",
    "    return argot_df[argot_df[\"Total Score\"] >= tscore]\n",
    "\n",
    "def gene_table(gene_name, argot_df, tscore):\n",
    "    return sort_by_TS(filter_by_TS(tscore, filter_by_gene(gene_name, argot_df)))\n",
    "\n",
    "def vb_link(gene_name, link_template):\n",
    "    return HTML(link_template % dict(gene_name=gene_name))\n",
    "\n",
    "def format_snps(snp_df):\n",
    "    snp_line = \"{chrom}:{end}\"\n",
    "    \n",
    "    snp_df['snp_str'] = snp_df.apply(lambda row: snp_line.format(chrom=row.SNP_chrom, end=row.SNP_end), axis=1)"
   ]
  },
  {
   "cell_type": "markdown",
   "metadata": {},
   "source": [
    "# Load inputs"
   ]
  },
  {
   "cell_type": "code",
   "execution_count": 9,
   "metadata": {
    "collapsed": false
   },
   "outputs": [],
   "source": [
    "data = pd.read_csv(results_)\n",
    "# data.head()"
   ]
  },
  {
   "cell_type": "code",
   "execution_count": 10,
   "metadata": {
    "collapsed": false
   },
   "outputs": [],
   "source": [
    "data['SNP_id'] = data.apply(lambda row: '{chrom}:{end}'.format(chrom=row.SNP_chrom, end=row.SNP_end), axis=1)"
   ]
  },
  {
   "cell_type": "code",
   "execution_count": 11,
   "metadata": {
    "collapsed": false
   },
   "outputs": [],
   "source": [
    "# data.head()"
   ]
  },
  {
   "cell_type": "code",
   "execution_count": 12,
   "metadata": {
    "collapsed": false
   },
   "outputs": [],
   "source": [
    "# data = add_url_col(data, url, bed_, bed_headers)"
   ]
  },
  {
   "cell_type": "code",
   "execution_count": 13,
   "metadata": {
    "collapsed": false
   },
   "outputs": [],
   "source": [
    "# data.head()"
   ]
  },
  {
   "cell_type": "markdown",
   "metadata": {},
   "source": [
    "# Breakdowns"
   ]
  },
  {
   "cell_type": "code",
   "execution_count": 26,
   "metadata": {
    "collapsed": false
   },
   "outputs": [],
   "source": [
    "# data.head(60)"
   ]
  },
  {
   "cell_type": "code",
   "execution_count": 24,
   "metadata": {
    "collapsed": false,
    "scrolled": false
   },
   "outputs": [
    {
     "data": {
      "text/html": [
       "<div>\n",
       "<table border=\"1\" class=\"dataframe\">\n",
       "  <thead>\n",
       "    <tr style=\"text-align: right;\">\n",
       "      <th></th>\n",
       "      <th></th>\n",
       "      <th></th>\n",
       "      <th></th>\n",
       "      <th></th>\n",
       "      <th>fdr</th>\n",
       "      <th>lg2_fc</th>\n",
       "      <th>url</th>\n",
       "    </tr>\n",
       "    <tr>\n",
       "      <th>SNP_id</th>\n",
       "      <th>feature_set_name</th>\n",
       "      <th>gene_id_internal</th>\n",
       "      <th>tcons_id</th>\n",
       "      <th>de_id</th>\n",
       "      <th></th>\n",
       "      <th></th>\n",
       "      <th></th>\n",
       "    </tr>\n",
       "  </thead>\n",
       "  <tbody>\n",
       "    <tr>\n",
       "      <th rowspan=\"2\" valign=\"top\">Scaffold67:72303</th>\n",
       "      <th rowspan=\"2\" valign=\"top\">novel_mapped_tx</th>\n",
       "      <th rowspan=\"2\" valign=\"top\">GFUI043918</th>\n",
       "      <th rowspan=\"2\" valign=\"top\">TCONS_00039298</th>\n",
       "      <th>EDGR|SG_0000245</th>\n",
       "      <td>1.029145e-10</td>\n",
       "      <td>1.475683</td>\n",
       "      <td>https://www.vectorbase.org/Glossina_fuscipes/Location/View?r=Scaffold67:45542-72303</td>\n",
       "    </tr>\n",
       "    <tr>\n",
       "      <th>EDGR|PV_PLUS_MINUS_0000968</th>\n",
       "      <td>5.578161e-03</td>\n",
       "      <td>0.791775</td>\n",
       "      <td>https://www.vectorbase.org/Glossina_fuscipes/Location/View?r=Scaffold67:45542-72303</td>\n",
       "    </tr>\n",
       "    <tr>\n",
       "      <th>Scaffold5:2342538</th>\n",
       "      <th>official_annotations</th>\n",
       "      <th>GFUI041241</th>\n",
       "      <th>TCONS_00048887</th>\n",
       "      <th>EDGR|SG_0001206</th>\n",
       "      <td>8.699393e-03</td>\n",
       "      <td>2.043383</td>\n",
       "      <td>https://www.vectorbase.org/Glossina_fuscipes/Location/View?r=Scaffold5:2342491-2348210</td>\n",
       "    </tr>\n",
       "    <tr>\n",
       "      <th>Scaffold151:406664</th>\n",
       "      <th>novel_mapped_tx</th>\n",
       "      <th>GFUI009421</th>\n",
       "      <th>TCONS_00067903</th>\n",
       "      <th>EDGR|MIDGUT_0001209</th>\n",
       "      <td>2.463629e-07</td>\n",
       "      <td>2.201035</td>\n",
       "      <td>https://www.vectorbase.org/Glossina_fuscipes/Location/View?r=Scaffold151:397135-406664</td>\n",
       "    </tr>\n",
       "    <tr>\n",
       "      <th>Scaffold27:959995</th>\n",
       "      <th>official_annotations</th>\n",
       "      <th>GFUI021833</th>\n",
       "      <th>TCONS_00080297</th>\n",
       "      <th>EDGR|MIDGUT_0001618</th>\n",
       "      <td>4.164748e-06</td>\n",
       "      <td>2.735993</td>\n",
       "      <td>https://www.vectorbase.org/Glossina_fuscipes/Location/View?r=Scaffold27:930934-962675</td>\n",
       "    </tr>\n",
       "    <tr>\n",
       "      <th rowspan=\"2\" valign=\"top\">Scaffold22:1291805</th>\n",
       "      <th rowspan=\"2\" valign=\"top\">novel_mapped_tx</th>\n",
       "      <th rowspan=\"2\" valign=\"top\">GFUI017734</th>\n",
       "      <th rowspan=\"2\" valign=\"top\">TCONS_00034486</th>\n",
       "      <th>EDGR|PV_PLUS_MINUS_0000719</th>\n",
       "      <td>8.631194e-04</td>\n",
       "      <td>0.632797</td>\n",
       "      <td>https://www.vectorbase.org/Glossina_fuscipes/Location/View?r=Scaffold22:1291804-1306127</td>\n",
       "    </tr>\n",
       "    <tr>\n",
       "      <th>EDGR|PV_PLUS_PLUS_0000729</th>\n",
       "      <td>1.102155e-03</td>\n",
       "      <td>0.618966</td>\n",
       "      <td>https://www.vectorbase.org/Glossina_fuscipes/Location/View?r=Scaffold22:1291804-1306127</td>\n",
       "    </tr>\n",
       "    <tr>\n",
       "      <th rowspan=\"2\" valign=\"top\">Scaffold9:1360708</th>\n",
       "      <th rowspan=\"2\" valign=\"top\">official_annotations</th>\n",
       "      <th rowspan=\"2\" valign=\"top\">GFUI053401</th>\n",
       "      <th rowspan=\"2\" valign=\"top\">TCONS_00024643</th>\n",
       "      <th>EDGR|PB_0000256</th>\n",
       "      <td>1.212582e-03</td>\n",
       "      <td>1.308488</td>\n",
       "      <td>https://www.vectorbase.org/Glossina_fuscipes/Location/View?r=Scaffold9:1358276-1393589</td>\n",
       "    </tr>\n",
       "    <tr>\n",
       "      <th>EDGR|MIDGUT_0004905</th>\n",
       "      <td>3.235413e-02</td>\n",
       "      <td>2.119142</td>\n",
       "      <td>https://www.vectorbase.org/Glossina_fuscipes/Location/View?r=Scaffold9:1358276-1393589</td>\n",
       "    </tr>\n",
       "    <tr>\n",
       "      <th rowspan=\"2\" valign=\"top\">Scaffold2:2206337</th>\n",
       "      <th rowspan=\"2\" valign=\"top\">official_annotations</th>\n",
       "      <th rowspan=\"2\" valign=\"top\">GFUI023751</th>\n",
       "      <th rowspan=\"2\" valign=\"top\">TCONS_00041418</th>\n",
       "      <th>EDGR|PB_0000641</th>\n",
       "      <td>1.655064e-02</td>\n",
       "      <td>-0.740946</td>\n",
       "      <td>https://www.vectorbase.org/Glossina_fuscipes/Location/View?r=Scaffold2:2203135-2223436</td>\n",
       "    </tr>\n",
       "    <tr>\n",
       "      <th>EDGR|MIDGUT_0003537</th>\n",
       "      <td>3.364077e-03</td>\n",
       "      <td>0.951849</td>\n",
       "      <td>https://www.vectorbase.org/Glossina_fuscipes/Location/View?r=Scaffold2:2203135-2223436</td>\n",
       "    </tr>\n",
       "    <tr>\n",
       "      <th>Scaffold64:729352</th>\n",
       "      <th>official_annotations</th>\n",
       "      <th>GFUI043027</th>\n",
       "      <th>TCONS_00041864</th>\n",
       "      <th>EDGR|MIDGUT_0000478</th>\n",
       "      <td>5.684730e-11</td>\n",
       "      <td>-4.231580</td>\n",
       "      <td>https://www.vectorbase.org/Glossina_fuscipes/Location/View?r=Scaffold64:728036-729735</td>\n",
       "    </tr>\n",
       "    <tr>\n",
       "      <th rowspan=\"2\" valign=\"top\">Scaffold66:864866</th>\n",
       "      <th rowspan=\"2\" valign=\"top\">official_annotations</th>\n",
       "      <th rowspan=\"2\" valign=\"top\">GFUI043720</th>\n",
       "      <th>TCONS_00054385</th>\n",
       "      <th>EDGR|MIDGUT_0001058</th>\n",
       "      <td>7.425508e-08</td>\n",
       "      <td>1.935130</td>\n",
       "      <td>https://www.vectorbase.org/Glossina_fuscipes/Location/View?r=Scaffold66:858450-877142</td>\n",
       "    </tr>\n",
       "    <tr>\n",
       "      <th>TCONS_00054371</th>\n",
       "      <th>EDGR|MIDGUT_0001235</th>\n",
       "      <td>2.921800e-07</td>\n",
       "      <td>1.647630</td>\n",
       "      <td>https://www.vectorbase.org/Glossina_fuscipes/Location/View?r=Scaffold66:858450-877142</td>\n",
       "    </tr>\n",
       "    <tr>\n",
       "      <th>Scaffold268:383222</th>\n",
       "      <th>official_annotations</th>\n",
       "      <th>GFUI020790</th>\n",
       "      <th>TCONS_00054083</th>\n",
       "      <th>EDGR|MIDGUT_0002153</th>\n",
       "      <td>5.690316e-05</td>\n",
       "      <td>-1.009639</td>\n",
       "      <td>https://www.vectorbase.org/Glossina_fuscipes/Location/View?r=Scaffold268:381058-384627</td>\n",
       "    </tr>\n",
       "    <tr>\n",
       "      <th rowspan=\"2\" valign=\"top\">Scaffold220:393433</th>\n",
       "      <th rowspan=\"2\" valign=\"top\">novel_mapped_tx</th>\n",
       "      <th rowspan=\"2\" valign=\"top\">GFUI016885</th>\n",
       "      <th rowspan=\"2\" valign=\"top\">TCONS_00067396</th>\n",
       "      <th>EDGR|PV_PLUS_MINUS_0000471</th>\n",
       "      <td>4.325808e-05</td>\n",
       "      <td>0.926871</td>\n",
       "      <td>https://www.vectorbase.org/Glossina_fuscipes/Location/View?r=Scaffold220:297170-393433</td>\n",
       "    </tr>\n",
       "    <tr>\n",
       "      <th>EDGR|PV_PLUS_PLUS_0001028</th>\n",
       "      <td>4.651028e-03</td>\n",
       "      <td>0.685038</td>\n",
       "      <td>https://www.vectorbase.org/Glossina_fuscipes/Location/View?r=Scaffold220:297170-393433</td>\n",
       "    </tr>\n",
       "    <tr>\n",
       "      <th rowspan=\"2\" valign=\"top\">Scaffold137:615407</th>\n",
       "      <th rowspan=\"2\" valign=\"top\">official_annotations</th>\n",
       "      <th rowspan=\"2\" valign=\"top\">GFUI007441</th>\n",
       "      <th>TCONS_00032167</th>\n",
       "      <th>EDGR|MIDGUT_0001777</th>\n",
       "      <td>1.035335e-05</td>\n",
       "      <td>1.260344</td>\n",
       "      <td>https://www.vectorbase.org/Glossina_fuscipes/Location/View?r=Scaffold137:608555-619673</td>\n",
       "    </tr>\n",
       "    <tr>\n",
       "      <th>TCONS_00032221</th>\n",
       "      <th>EDGR|MIDGUT_0004856</th>\n",
       "      <td>2.985477e-02</td>\n",
       "      <td>1.254854</td>\n",
       "      <td>https://www.vectorbase.org/Glossina_fuscipes/Location/View?r=Scaffold137:608555-619673</td>\n",
       "    </tr>\n",
       "  </tbody>\n",
       "</table>\n",
       "</div>"
      ],
      "text/plain": [
       "                                                                                                             fdr  \\\n",
       "SNP_id             feature_set_name     gene_id_internal tcons_id       de_id                                      \n",
       "Scaffold67:72303   novel_mapped_tx      GFUI043918       TCONS_00039298 EDGR|SG_0000245             1.029145e-10   \n",
       "                                                                        EDGR|PV_PLUS_MINUS_0000968  5.578161e-03   \n",
       "Scaffold5:2342538  official_annotations GFUI041241       TCONS_00048887 EDGR|SG_0001206             8.699393e-03   \n",
       "Scaffold151:406664 novel_mapped_tx      GFUI009421       TCONS_00067903 EDGR|MIDGUT_0001209         2.463629e-07   \n",
       "Scaffold27:959995  official_annotations GFUI021833       TCONS_00080297 EDGR|MIDGUT_0001618         4.164748e-06   \n",
       "Scaffold22:1291805 novel_mapped_tx      GFUI017734       TCONS_00034486 EDGR|PV_PLUS_MINUS_0000719  8.631194e-04   \n",
       "                                                                        EDGR|PV_PLUS_PLUS_0000729   1.102155e-03   \n",
       "Scaffold9:1360708  official_annotations GFUI053401       TCONS_00024643 EDGR|PB_0000256             1.212582e-03   \n",
       "                                                                        EDGR|MIDGUT_0004905         3.235413e-02   \n",
       "Scaffold2:2206337  official_annotations GFUI023751       TCONS_00041418 EDGR|PB_0000641             1.655064e-02   \n",
       "                                                                        EDGR|MIDGUT_0003537         3.364077e-03   \n",
       "Scaffold64:729352  official_annotations GFUI043027       TCONS_00041864 EDGR|MIDGUT_0000478         5.684730e-11   \n",
       "Scaffold66:864866  official_annotations GFUI043720       TCONS_00054385 EDGR|MIDGUT_0001058         7.425508e-08   \n",
       "                                                         TCONS_00054371 EDGR|MIDGUT_0001235         2.921800e-07   \n",
       "Scaffold268:383222 official_annotations GFUI020790       TCONS_00054083 EDGR|MIDGUT_0002153         5.690316e-05   \n",
       "Scaffold220:393433 novel_mapped_tx      GFUI016885       TCONS_00067396 EDGR|PV_PLUS_MINUS_0000471  4.325808e-05   \n",
       "                                                                        EDGR|PV_PLUS_PLUS_0001028   4.651028e-03   \n",
       "Scaffold137:615407 official_annotations GFUI007441       TCONS_00032167 EDGR|MIDGUT_0001777         1.035335e-05   \n",
       "                                                         TCONS_00032221 EDGR|MIDGUT_0004856         2.985477e-02   \n",
       "\n",
       "                                                                                                      lg2_fc  \\\n",
       "SNP_id             feature_set_name     gene_id_internal tcons_id       de_id                                  \n",
       "Scaffold67:72303   novel_mapped_tx      GFUI043918       TCONS_00039298 EDGR|SG_0000245             1.475683   \n",
       "                                                                        EDGR|PV_PLUS_MINUS_0000968  0.791775   \n",
       "Scaffold5:2342538  official_annotations GFUI041241       TCONS_00048887 EDGR|SG_0001206             2.043383   \n",
       "Scaffold151:406664 novel_mapped_tx      GFUI009421       TCONS_00067903 EDGR|MIDGUT_0001209         2.201035   \n",
       "Scaffold27:959995  official_annotations GFUI021833       TCONS_00080297 EDGR|MIDGUT_0001618         2.735993   \n",
       "Scaffold22:1291805 novel_mapped_tx      GFUI017734       TCONS_00034486 EDGR|PV_PLUS_MINUS_0000719  0.632797   \n",
       "                                                                        EDGR|PV_PLUS_PLUS_0000729   0.618966   \n",
       "Scaffold9:1360708  official_annotations GFUI053401       TCONS_00024643 EDGR|PB_0000256             1.308488   \n",
       "                                                                        EDGR|MIDGUT_0004905         2.119142   \n",
       "Scaffold2:2206337  official_annotations GFUI023751       TCONS_00041418 EDGR|PB_0000641            -0.740946   \n",
       "                                                                        EDGR|MIDGUT_0003537         0.951849   \n",
       "Scaffold64:729352  official_annotations GFUI043027       TCONS_00041864 EDGR|MIDGUT_0000478        -4.231580   \n",
       "Scaffold66:864866  official_annotations GFUI043720       TCONS_00054385 EDGR|MIDGUT_0001058         1.935130   \n",
       "                                                         TCONS_00054371 EDGR|MIDGUT_0001235         1.647630   \n",
       "Scaffold268:383222 official_annotations GFUI020790       TCONS_00054083 EDGR|MIDGUT_0002153        -1.009639   \n",
       "Scaffold220:393433 novel_mapped_tx      GFUI016885       TCONS_00067396 EDGR|PV_PLUS_MINUS_0000471  0.926871   \n",
       "                                                                        EDGR|PV_PLUS_PLUS_0001028   0.685038   \n",
       "Scaffold137:615407 official_annotations GFUI007441       TCONS_00032167 EDGR|MIDGUT_0001777         1.260344   \n",
       "                                                         TCONS_00032221 EDGR|MIDGUT_0004856         1.254854   \n",
       "\n",
       "                                                                                                                                                                                        url  \n",
       "SNP_id             feature_set_name     gene_id_internal tcons_id       de_id                                                                                                                \n",
       "Scaffold67:72303   novel_mapped_tx      GFUI043918       TCONS_00039298 EDGR|SG_0000245                 https://www.vectorbase.org/Glossina_fuscipes/Location/View?r=Scaffold67:45542-72303  \n",
       "                                                                        EDGR|PV_PLUS_MINUS_0000968      https://www.vectorbase.org/Glossina_fuscipes/Location/View?r=Scaffold67:45542-72303  \n",
       "Scaffold5:2342538  official_annotations GFUI041241       TCONS_00048887 EDGR|SG_0001206              https://www.vectorbase.org/Glossina_fuscipes/Location/View?r=Scaffold5:2342491-2348210  \n",
       "Scaffold151:406664 novel_mapped_tx      GFUI009421       TCONS_00067903 EDGR|MIDGUT_0001209          https://www.vectorbase.org/Glossina_fuscipes/Location/View?r=Scaffold151:397135-406664  \n",
       "Scaffold27:959995  official_annotations GFUI021833       TCONS_00080297 EDGR|MIDGUT_0001618           https://www.vectorbase.org/Glossina_fuscipes/Location/View?r=Scaffold27:930934-962675  \n",
       "Scaffold22:1291805 novel_mapped_tx      GFUI017734       TCONS_00034486 EDGR|PV_PLUS_MINUS_0000719  https://www.vectorbase.org/Glossina_fuscipes/Location/View?r=Scaffold22:1291804-1306127  \n",
       "                                                                        EDGR|PV_PLUS_PLUS_0000729   https://www.vectorbase.org/Glossina_fuscipes/Location/View?r=Scaffold22:1291804-1306127  \n",
       "Scaffold9:1360708  official_annotations GFUI053401       TCONS_00024643 EDGR|PB_0000256              https://www.vectorbase.org/Glossina_fuscipes/Location/View?r=Scaffold9:1358276-1393589  \n",
       "                                                                        EDGR|MIDGUT_0004905          https://www.vectorbase.org/Glossina_fuscipes/Location/View?r=Scaffold9:1358276-1393589  \n",
       "Scaffold2:2206337  official_annotations GFUI023751       TCONS_00041418 EDGR|PB_0000641              https://www.vectorbase.org/Glossina_fuscipes/Location/View?r=Scaffold2:2203135-2223436  \n",
       "                                                                        EDGR|MIDGUT_0003537          https://www.vectorbase.org/Glossina_fuscipes/Location/View?r=Scaffold2:2203135-2223436  \n",
       "Scaffold64:729352  official_annotations GFUI043027       TCONS_00041864 EDGR|MIDGUT_0000478           https://www.vectorbase.org/Glossina_fuscipes/Location/View?r=Scaffold64:728036-729735  \n",
       "Scaffold66:864866  official_annotations GFUI043720       TCONS_00054385 EDGR|MIDGUT_0001058           https://www.vectorbase.org/Glossina_fuscipes/Location/View?r=Scaffold66:858450-877142  \n",
       "                                                         TCONS_00054371 EDGR|MIDGUT_0001235           https://www.vectorbase.org/Glossina_fuscipes/Location/View?r=Scaffold66:858450-877142  \n",
       "Scaffold268:383222 official_annotations GFUI020790       TCONS_00054083 EDGR|MIDGUT_0002153          https://www.vectorbase.org/Glossina_fuscipes/Location/View?r=Scaffold268:381058-384627  \n",
       "Scaffold220:393433 novel_mapped_tx      GFUI016885       TCONS_00067396 EDGR|PV_PLUS_MINUS_0000471   https://www.vectorbase.org/Glossina_fuscipes/Location/View?r=Scaffold220:297170-393433  \n",
       "                                                                        EDGR|PV_PLUS_PLUS_0001028    https://www.vectorbase.org/Glossina_fuscipes/Location/View?r=Scaffold220:297170-393433  \n",
       "Scaffold137:615407 official_annotations GFUI007441       TCONS_00032167 EDGR|MIDGUT_0001777          https://www.vectorbase.org/Glossina_fuscipes/Location/View?r=Scaffold137:608555-619673  \n",
       "                                                         TCONS_00032221 EDGR|MIDGUT_0004856          https://www.vectorbase.org/Glossina_fuscipes/Location/View?r=Scaffold137:608555-619673  "
      ]
     },
     "execution_count": 24,
     "metadata": {},
     "output_type": "execute_result"
    }
   ],
   "source": [
    "levels=[\"SNP_id\",\"feature_set_name\",\"gene_id_internal\",\"tcons_id\",\"de_id\"]\n",
    "data_cols=[col for col in data.columns.values if ((col not in levels) and (col not in [\"SNP_end\"])) ]\n",
    "\n",
    "create_multiindex(data.query(\"\"\" program == 'edger' \"\"\"),\n",
    "                  levels,\n",
    "                  data_cols=[\"fdr\",\"lg2_fc\",\"url\"]).drop_duplicates()"
   ]
  },
  {
   "cell_type": "markdown",
   "metadata": {},
   "source": [
    "# Functional inference"
   ]
  },
  {
   "cell_type": "code",
   "execution_count": 16,
   "metadata": {
    "collapsed": true
   },
   "outputs": [],
   "source": [
    "argot2 = pd.read_hdf(path_or_buf=fanno, key='dataframe')"
   ]
  },
  {
   "cell_type": "code",
   "execution_count": 17,
   "metadata": {
    "collapsed": false,
    "scrolled": true
   },
   "outputs": [
    {
     "data": {
      "text/html": [
       "<div>\n",
       "<table border=\"1\" class=\"dataframe\">\n",
       "  <thead>\n",
       "    <tr style=\"text-align: right;\">\n",
       "      <th></th>\n",
       "      <th>Sequence</th>\n",
       "      <th>Aspect</th>\n",
       "      <th>GO ID</th>\n",
       "      <th>Name</th>\n",
       "      <th>Total Score</th>\n",
       "      <th>Internal Confidence</th>\n",
       "      <th>Information Content</th>\n",
       "    </tr>\n",
       "  </thead>\n",
       "  <tbody>\n",
       "    <tr>\n",
       "      <th>0</th>\n",
       "      <td>GFUI034947-PA</td>\n",
       "      <td>P</td>\n",
       "      <td>GO:0006508</td>\n",
       "      <td>proteolysis</td>\n",
       "      <td>270.313447</td>\n",
       "      <td>0.496543</td>\n",
       "      <td>8.247696</td>\n",
       "    </tr>\n",
       "    <tr>\n",
       "      <th>1</th>\n",
       "      <td>GFUI035874-PA</td>\n",
       "      <td>F</td>\n",
       "      <td>GO:0005515</td>\n",
       "      <td>protein binding</td>\n",
       "      <td>529.038456</td>\n",
       "      <td>0.500000</td>\n",
       "      <td>5.471582</td>\n",
       "    </tr>\n",
       "    <tr>\n",
       "      <th>2</th>\n",
       "      <td>GFUI033625-PA</td>\n",
       "      <td>P</td>\n",
       "      <td>GO:0005980</td>\n",
       "      <td>glycogen catabolic process</td>\n",
       "      <td>307.758251</td>\n",
       "      <td>0.284597</td>\n",
       "      <td>13.424450</td>\n",
       "    </tr>\n",
       "    <tr>\n",
       "      <th>3</th>\n",
       "      <td>GFUI033625-PA</td>\n",
       "      <td>F</td>\n",
       "      <td>GO:0004134</td>\n",
       "      <td>4-alpha-glucanotransferase activity</td>\n",
       "      <td>159.513252</td>\n",
       "      <td>0.177063</td>\n",
       "      <td>10.153643</td>\n",
       "    </tr>\n",
       "    <tr>\n",
       "      <th>4</th>\n",
       "      <td>GFUI033625-PA</td>\n",
       "      <td>F</td>\n",
       "      <td>GO:0004135</td>\n",
       "      <td>amylo-alpha-1,6-glucosidase activity</td>\n",
       "      <td>184.352303</td>\n",
       "      <td>0.177063</td>\n",
       "      <td>11.734746</td>\n",
       "    </tr>\n",
       "  </tbody>\n",
       "</table>\n",
       "</div>"
      ],
      "text/plain": [
       "        Sequence Aspect       GO ID                                  Name  \\\n",
       "0  GFUI034947-PA      P  GO:0006508                           proteolysis   \n",
       "1  GFUI035874-PA      F  GO:0005515                       protein binding   \n",
       "2  GFUI033625-PA      P  GO:0005980            glycogen catabolic process   \n",
       "3  GFUI033625-PA      F  GO:0004134   4-alpha-glucanotransferase activity   \n",
       "4  GFUI033625-PA      F  GO:0004135  amylo-alpha-1,6-glucosidase activity   \n",
       "\n",
       "   Total Score  Internal Confidence  Information Content  \n",
       "0   270.313447             0.496543             8.247696  \n",
       "1   529.038456             0.500000             5.471582  \n",
       "2   307.758251             0.284597            13.424450  \n",
       "3   159.513252             0.177063            10.153643  \n",
       "4   184.352303             0.177063            11.734746  "
      ]
     },
     "execution_count": 17,
     "metadata": {},
     "output_type": "execute_result"
    }
   ],
   "source": [
    "argot2.head()"
   ]
  },
  {
   "cell_type": "code",
   "execution_count": 18,
   "metadata": {
    "collapsed": false
   },
   "outputs": [],
   "source": [
    "snp_coords = data[[\"SNP_chrom\",\"SNP_start\",\"SNP_end\",\"gene_id_internal\",\"feature_set_name\"]].drop_duplicates()"
   ]
  },
  {
   "cell_type": "code",
   "execution_count": 19,
   "metadata": {
    "collapsed": false
   },
   "outputs": [],
   "source": [
    "# snp_coords"
   ]
  },
  {
   "cell_type": "code",
   "execution_count": 20,
   "metadata": {
    "collapsed": false
   },
   "outputs": [],
   "source": [
    "format_snps(snp_coords)\n",
    "# snp_coords"
   ]
  },
  {
   "cell_type": "code",
   "execution_count": 21,
   "metadata": {
    "collapsed": false
   },
   "outputs": [
    {
     "data": {
      "text/html": [
       "<div>\n",
       "<table border=\"1\" class=\"dataframe\">\n",
       "  <thead>\n",
       "    <tr style=\"text-align: right;\">\n",
       "      <th></th>\n",
       "      <th>SNP_chrom</th>\n",
       "      <th>SNP_start</th>\n",
       "      <th>SNP_end</th>\n",
       "      <th>gene_id_internal</th>\n",
       "      <th>feature_set_name</th>\n",
       "      <th>snp_str</th>\n",
       "    </tr>\n",
       "  </thead>\n",
       "  <tbody>\n",
       "    <tr>\n",
       "      <th>0</th>\n",
       "      <td>Scaffold67</td>\n",
       "      <td>72302</td>\n",
       "      <td>72303</td>\n",
       "      <td>GFUI043918</td>\n",
       "      <td>novel_mapped_tx</td>\n",
       "      <td>Scaffold67:72303</td>\n",
       "    </tr>\n",
       "    <tr>\n",
       "      <th>20</th>\n",
       "      <td>Scaffold5</td>\n",
       "      <td>2342537</td>\n",
       "      <td>2342538</td>\n",
       "      <td>GFUI041241</td>\n",
       "      <td>official_annotations</td>\n",
       "      <td>Scaffold5:2342538</td>\n",
       "    </tr>\n",
       "    <tr>\n",
       "      <th>22</th>\n",
       "      <td>Scaffold151</td>\n",
       "      <td>406663</td>\n",
       "      <td>406664</td>\n",
       "      <td>GFUI009421</td>\n",
       "      <td>novel_mapped_tx</td>\n",
       "      <td>Scaffold151:406664</td>\n",
       "    </tr>\n",
       "    <tr>\n",
       "      <th>42</th>\n",
       "      <td>Scaffold102</td>\n",
       "      <td>398873</td>\n",
       "      <td>398874</td>\n",
       "      <td>GFUI002252</td>\n",
       "      <td>official_annotations</td>\n",
       "      <td>Scaffold102:398874</td>\n",
       "    </tr>\n",
       "    <tr>\n",
       "      <th>43</th>\n",
       "      <td>Scaffold27</td>\n",
       "      <td>959994</td>\n",
       "      <td>959995</td>\n",
       "      <td>GFUI021833</td>\n",
       "      <td>official_annotations</td>\n",
       "      <td>Scaffold27:959995</td>\n",
       "    </tr>\n",
       "    <tr>\n",
       "      <th>47</th>\n",
       "      <td>Scaffold22</td>\n",
       "      <td>1291804</td>\n",
       "      <td>1291805</td>\n",
       "      <td>GFUI017734</td>\n",
       "      <td>novel_mapped_tx</td>\n",
       "      <td>Scaffold22:1291805</td>\n",
       "    </tr>\n",
       "    <tr>\n",
       "      <th>127</th>\n",
       "      <td>Scaffold3</td>\n",
       "      <td>2235177</td>\n",
       "      <td>2235178</td>\n",
       "      <td>GFUI030827</td>\n",
       "      <td>official_annotations</td>\n",
       "      <td>Scaffold3:2235178</td>\n",
       "    </tr>\n",
       "    <tr>\n",
       "      <th>128</th>\n",
       "      <td>Scaffold9</td>\n",
       "      <td>1360707</td>\n",
       "      <td>1360708</td>\n",
       "      <td>GFUI053401</td>\n",
       "      <td>official_annotations</td>\n",
       "      <td>Scaffold9:1360708</td>\n",
       "    </tr>\n",
       "    <tr>\n",
       "      <th>136</th>\n",
       "      <td>Scaffold2</td>\n",
       "      <td>2206336</td>\n",
       "      <td>2206337</td>\n",
       "      <td>GFUI023751</td>\n",
       "      <td>official_annotations</td>\n",
       "      <td>Scaffold2:2206337</td>\n",
       "    </tr>\n",
       "    <tr>\n",
       "      <th>158</th>\n",
       "      <td>Scaffold64</td>\n",
       "      <td>729351</td>\n",
       "      <td>729352</td>\n",
       "      <td>GFUI043027</td>\n",
       "      <td>official_annotations</td>\n",
       "      <td>Scaffold64:729352</td>\n",
       "    </tr>\n",
       "    <tr>\n",
       "      <th>159</th>\n",
       "      <td>Scaffold66</td>\n",
       "      <td>864865</td>\n",
       "      <td>864866</td>\n",
       "      <td>GFUI043720</td>\n",
       "      <td>official_annotations</td>\n",
       "      <td>Scaffold66:864866</td>\n",
       "    </tr>\n",
       "    <tr>\n",
       "      <th>176</th>\n",
       "      <td>Scaffold268</td>\n",
       "      <td>383221</td>\n",
       "      <td>383222</td>\n",
       "      <td>GFUI020790</td>\n",
       "      <td>official_annotations</td>\n",
       "      <td>Scaffold268:383222</td>\n",
       "    </tr>\n",
       "    <tr>\n",
       "      <th>196</th>\n",
       "      <td>Scaffold220</td>\n",
       "      <td>393432</td>\n",
       "      <td>393433</td>\n",
       "      <td>GFUI016885</td>\n",
       "      <td>novel_mapped_tx</td>\n",
       "      <td>Scaffold220:393433</td>\n",
       "    </tr>\n",
       "    <tr>\n",
       "      <th>198</th>\n",
       "      <td>Scaffold137</td>\n",
       "      <td>615406</td>\n",
       "      <td>615407</td>\n",
       "      <td>GFUI007441</td>\n",
       "      <td>official_annotations</td>\n",
       "      <td>Scaffold137:615407</td>\n",
       "    </tr>\n",
       "    <tr>\n",
       "      <th>223</th>\n",
       "      <td>Scaffold8</td>\n",
       "      <td>1744225</td>\n",
       "      <td>1744226</td>\n",
       "      <td>GFUI051070</td>\n",
       "      <td>official_annotations</td>\n",
       "      <td>Scaffold8:1744226</td>\n",
       "    </tr>\n",
       "  </tbody>\n",
       "</table>\n",
       "</div>"
      ],
      "text/plain": [
       "       SNP_chrom  SNP_start  SNP_end gene_id_internal      feature_set_name  \\\n",
       "0     Scaffold67      72302    72303       GFUI043918       novel_mapped_tx   \n",
       "20     Scaffold5    2342537  2342538       GFUI041241  official_annotations   \n",
       "22   Scaffold151     406663   406664       GFUI009421       novel_mapped_tx   \n",
       "42   Scaffold102     398873   398874       GFUI002252  official_annotations   \n",
       "43    Scaffold27     959994   959995       GFUI021833  official_annotations   \n",
       "47    Scaffold22    1291804  1291805       GFUI017734       novel_mapped_tx   \n",
       "127    Scaffold3    2235177  2235178       GFUI030827  official_annotations   \n",
       "128    Scaffold9    1360707  1360708       GFUI053401  official_annotations   \n",
       "136    Scaffold2    2206336  2206337       GFUI023751  official_annotations   \n",
       "158   Scaffold64     729351   729352       GFUI043027  official_annotations   \n",
       "159   Scaffold66     864865   864866       GFUI043720  official_annotations   \n",
       "176  Scaffold268     383221   383222       GFUI020790  official_annotations   \n",
       "196  Scaffold220     393432   393433       GFUI016885       novel_mapped_tx   \n",
       "198  Scaffold137     615406   615407       GFUI007441  official_annotations   \n",
       "223    Scaffold8    1744225  1744226       GFUI051070  official_annotations   \n",
       "\n",
       "                snp_str  \n",
       "0      Scaffold67:72303  \n",
       "20    Scaffold5:2342538  \n",
       "22   Scaffold151:406664  \n",
       "42   Scaffold102:398874  \n",
       "43    Scaffold27:959995  \n",
       "47   Scaffold22:1291805  \n",
       "127   Scaffold3:2235178  \n",
       "128   Scaffold9:1360708  \n",
       "136   Scaffold2:2206337  \n",
       "158   Scaffold64:729352  \n",
       "159   Scaffold66:864866  \n",
       "176  Scaffold268:383222  \n",
       "196  Scaffold220:393433  \n",
       "198  Scaffold137:615407  \n",
       "223   Scaffold8:1744226  "
      ]
     },
     "execution_count": 21,
     "metadata": {},
     "output_type": "execute_result"
    }
   ],
   "source": [
    "snp_coords"
   ]
  },
  {
   "cell_type": "code",
   "execution_count": 22,
   "metadata": {
    "collapsed": false,
    "scrolled": false
   },
   "outputs": [
    {
     "data": {
      "text/html": [
       "<h2>GFUI002252(official_annotations)</h2>"
      ],
      "text/plain": [
       "<IPython.core.display.HTML object>"
      ]
     },
     "metadata": {},
     "output_type": "display_data"
    },
    {
     "data": {
      "text/html": [
       "<b>SNPs:</b><br>Scaffold102:398874<br>"
      ],
      "text/plain": [
       "<IPython.core.display.HTML object>"
      ]
     },
     "metadata": {},
     "output_type": "display_data"
    },
    {
     "data": {
      "text/html": [
       "<div>\n",
       "<table border=\"1\" class=\"dataframe\">\n",
       "  <thead>\n",
       "    <tr style=\"text-align: right;\">\n",
       "      <th></th>\n",
       "      <th>Sequence</th>\n",
       "      <th>Aspect</th>\n",
       "      <th>GO ID</th>\n",
       "      <th>Name</th>\n",
       "      <th>Total Score</th>\n",
       "      <th>Internal Confidence</th>\n",
       "      <th>Information Content</th>\n",
       "    </tr>\n",
       "  </thead>\n",
       "  <tbody>\n",
       "  </tbody>\n",
       "</table>\n",
       "</div>"
      ],
      "text/plain": [
       "Empty DataFrame\n",
       "Columns: [Sequence, Aspect, GO ID, Name, Total Score, Internal Confidence, Information Content]\n",
       "Index: []"
      ]
     },
     "metadata": {},
     "output_type": "display_data"
    },
    {
     "data": {
      "text/html": [
       "<p>"
      ],
      "text/plain": [
       "<IPython.core.display.HTML object>"
      ]
     },
     "metadata": {},
     "output_type": "display_data"
    },
    {
     "data": {
      "text/html": [
       "<a href=\"https://www.vectorbase.org/Glossina_fuscipes/Gene/Summary?db=core;g=GFUI002252\"> GFUI002252: gene home page</a>"
      ],
      "text/plain": [
       "<IPython.core.display.HTML object>"
      ]
     },
     "metadata": {},
     "output_type": "display_data"
    },
    {
     "data": {
      "text/html": [
       "<a href=\"https://www.vectorbase.org/Glossina_fuscipes/Transcript/ProteinSummary?db=core;g=GFUI002252\"> GFUI002252: protein summary </a>"
      ],
      "text/plain": [
       "<IPython.core.display.HTML object>"
      ]
     },
     "metadata": {},
     "output_type": "display_data"
    },
    {
     "data": {
      "text/html": [
       "<a href=\"https://www.vectorbase.org/Glossina_fuscipes/Location/View?db=core;g=GFUI002252;r\"> GFUI002252: genome browser </a>"
      ],
      "text/plain": [
       "<IPython.core.display.HTML object>"
      ]
     },
     "metadata": {},
     "output_type": "display_data"
    },
    {
     "data": {
      "text/html": [
       "<a href=\"https://www.vectorbase.org/Glossina_fuscipes/Transcript/Ontology/biological_process?db=core;g=GFUI002252;oid=biological_process\"> GFUI002252: GO: biological process </a>"
      ],
      "text/plain": [
       "<IPython.core.display.HTML object>"
      ]
     },
     "metadata": {},
     "output_type": "display_data"
    },
    {
     "data": {
      "text/html": [
       "<a href=\"https://www.vectorbase.org/Glossina_fuscipes/Transcript/Ontology/cellular_component?db=core;g=GFUI002252;oid=cellular_component\"> GFUI002252: GO: cellular component </a>"
      ],
      "text/plain": [
       "<IPython.core.display.HTML object>"
      ]
     },
     "metadata": {},
     "output_type": "display_data"
    },
    {
     "data": {
      "text/html": [
       "<a href=\"https://www.vectorbase.org/Glossina_fuscipes/Transcript/Ontology/molecular_function?db=core;g=GFUI002252;oid=molecular_function\"> GFUI002252: GO: molecular function </a>"
      ],
      "text/plain": [
       "<IPython.core.display.HTML object>"
      ]
     },
     "metadata": {},
     "output_type": "display_data"
    },
    {
     "data": {
      "text/html": [
       "<hr>"
      ],
      "text/plain": [
       "<IPython.core.display.HTML object>"
      ]
     },
     "metadata": {},
     "output_type": "display_data"
    },
    {
     "data": {
      "text/html": [
       "<h2>GFUI007441(official_annotations)</h2>"
      ],
      "text/plain": [
       "<IPython.core.display.HTML object>"
      ]
     },
     "metadata": {},
     "output_type": "display_data"
    },
    {
     "data": {
      "text/html": [
       "<b>SNPs:</b><br>Scaffold137:615407<br>"
      ],
      "text/plain": [
       "<IPython.core.display.HTML object>"
      ]
     },
     "metadata": {},
     "output_type": "display_data"
    },
    {
     "data": {
      "text/html": [
       "<div>\n",
       "<table border=\"1\" class=\"dataframe\">\n",
       "  <thead>\n",
       "    <tr style=\"text-align: right;\">\n",
       "      <th></th>\n",
       "      <th>Sequence</th>\n",
       "      <th>Aspect</th>\n",
       "      <th>GO ID</th>\n",
       "      <th>Name</th>\n",
       "      <th>Total Score</th>\n",
       "      <th>Internal Confidence</th>\n",
       "      <th>Information Content</th>\n",
       "    </tr>\n",
       "  </thead>\n",
       "  <tbody>\n",
       "    <tr>\n",
       "      <th>33277</th>\n",
       "      <td>GFUI007441-PA</td>\n",
       "      <td>C</td>\n",
       "      <td>GO:0005634</td>\n",
       "      <td>nucleus</td>\n",
       "      <td>5127.878792</td>\n",
       "      <td>0.434757</td>\n",
       "      <td>5.725783</td>\n",
       "    </tr>\n",
       "    <tr>\n",
       "      <th>33276</th>\n",
       "      <td>GFUI007441-PA</td>\n",
       "      <td>C</td>\n",
       "      <td>GO:0005737</td>\n",
       "      <td>cytoplasm</td>\n",
       "      <td>2514.451906</td>\n",
       "      <td>0.394663</td>\n",
       "      <td>3.178476</td>\n",
       "    </tr>\n",
       "    <tr>\n",
       "      <th>33271</th>\n",
       "      <td>GFUI007441-PA</td>\n",
       "      <td>F</td>\n",
       "      <td>GO:0003700</td>\n",
       "      <td>sequence-specific DNA binding transcription factor activity</td>\n",
       "      <td>1227.269820</td>\n",
       "      <td>0.290086</td>\n",
       "      <td>5.025891</td>\n",
       "    </tr>\n",
       "    <tr>\n",
       "      <th>33274</th>\n",
       "      <td>GFUI007441-PA</td>\n",
       "      <td>F</td>\n",
       "      <td>GO:0003677</td>\n",
       "      <td>DNA binding</td>\n",
       "      <td>915.199249</td>\n",
       "      <td>0.337374</td>\n",
       "      <td>3.831010</td>\n",
       "    </tr>\n",
       "    <tr>\n",
       "      <th>33275</th>\n",
       "      <td>GFUI007441-PA</td>\n",
       "      <td>F</td>\n",
       "      <td>GO:0043565</td>\n",
       "      <td>sequence-specific DNA binding</td>\n",
       "      <td>313.076408</td>\n",
       "      <td>0.147086</td>\n",
       "      <td>5.933594</td>\n",
       "    </tr>\n",
       "    <tr>\n",
       "      <th>33268</th>\n",
       "      <td>GFUI007441-PA</td>\n",
       "      <td>P</td>\n",
       "      <td>GO:0045944</td>\n",
       "      <td>positive regulation of transcription from RNA polymerase II promoter</td>\n",
       "      <td>257.799183</td>\n",
       "      <td>0.040785</td>\n",
       "      <td>12.597549</td>\n",
       "    </tr>\n",
       "    <tr>\n",
       "      <th>33267</th>\n",
       "      <td>GFUI007441-PA</td>\n",
       "      <td>P</td>\n",
       "      <td>GO:0006355</td>\n",
       "      <td>regulation of transcription, DNA-templated</td>\n",
       "      <td>253.240196</td>\n",
       "      <td>0.189078</td>\n",
       "      <td>7.524266</td>\n",
       "    </tr>\n",
       "    <tr>\n",
       "      <th>33273</th>\n",
       "      <td>GFUI007441-PA</td>\n",
       "      <td>F</td>\n",
       "      <td>GO:0005515</td>\n",
       "      <td>protein binding</td>\n",
       "      <td>205.901924</td>\n",
       "      <td>0.300636</td>\n",
       "      <td>5.471582</td>\n",
       "    </tr>\n",
       "  </tbody>\n",
       "</table>\n",
       "</div>"
      ],
      "text/plain": [
       "            Sequence Aspect       GO ID  \\\n",
       "33277  GFUI007441-PA      C  GO:0005634   \n",
       "33276  GFUI007441-PA      C  GO:0005737   \n",
       "33271  GFUI007441-PA      F  GO:0003700   \n",
       "33274  GFUI007441-PA      F  GO:0003677   \n",
       "33275  GFUI007441-PA      F  GO:0043565   \n",
       "33268  GFUI007441-PA      P  GO:0045944   \n",
       "33267  GFUI007441-PA      P  GO:0006355   \n",
       "33273  GFUI007441-PA      F  GO:0005515   \n",
       "\n",
       "                                                                       Name  \\\n",
       "33277                                                               nucleus   \n",
       "33276                                                             cytoplasm   \n",
       "33271           sequence-specific DNA binding transcription factor activity   \n",
       "33274                                                           DNA binding   \n",
       "33275                                         sequence-specific DNA binding   \n",
       "33268  positive regulation of transcription from RNA polymerase II promoter   \n",
       "33267                            regulation of transcription, DNA-templated   \n",
       "33273                                                       protein binding   \n",
       "\n",
       "       Total Score  Internal Confidence  Information Content  \n",
       "33277  5127.878792             0.434757             5.725783  \n",
       "33276  2514.451906             0.394663             3.178476  \n",
       "33271  1227.269820             0.290086             5.025891  \n",
       "33274   915.199249             0.337374             3.831010  \n",
       "33275   313.076408             0.147086             5.933594  \n",
       "33268   257.799183             0.040785            12.597549  \n",
       "33267   253.240196             0.189078             7.524266  \n",
       "33273   205.901924             0.300636             5.471582  "
      ]
     },
     "metadata": {},
     "output_type": "display_data"
    },
    {
     "data": {
      "text/html": [
       "<p>"
      ],
      "text/plain": [
       "<IPython.core.display.HTML object>"
      ]
     },
     "metadata": {},
     "output_type": "display_data"
    },
    {
     "data": {
      "text/html": [
       "<a href=\"https://www.vectorbase.org/Glossina_fuscipes/Gene/Summary?db=core;g=GFUI007441\"> GFUI007441: gene home page</a>"
      ],
      "text/plain": [
       "<IPython.core.display.HTML object>"
      ]
     },
     "metadata": {},
     "output_type": "display_data"
    },
    {
     "data": {
      "text/html": [
       "<a href=\"https://www.vectorbase.org/Glossina_fuscipes/Transcript/ProteinSummary?db=core;g=GFUI007441\"> GFUI007441: protein summary </a>"
      ],
      "text/plain": [
       "<IPython.core.display.HTML object>"
      ]
     },
     "metadata": {},
     "output_type": "display_data"
    },
    {
     "data": {
      "text/html": [
       "<a href=\"https://www.vectorbase.org/Glossina_fuscipes/Location/View?db=core;g=GFUI007441;r\"> GFUI007441: genome browser </a>"
      ],
      "text/plain": [
       "<IPython.core.display.HTML object>"
      ]
     },
     "metadata": {},
     "output_type": "display_data"
    },
    {
     "data": {
      "text/html": [
       "<a href=\"https://www.vectorbase.org/Glossina_fuscipes/Transcript/Ontology/biological_process?db=core;g=GFUI007441;oid=biological_process\"> GFUI007441: GO: biological process </a>"
      ],
      "text/plain": [
       "<IPython.core.display.HTML object>"
      ]
     },
     "metadata": {},
     "output_type": "display_data"
    },
    {
     "data": {
      "text/html": [
       "<a href=\"https://www.vectorbase.org/Glossina_fuscipes/Transcript/Ontology/cellular_component?db=core;g=GFUI007441;oid=cellular_component\"> GFUI007441: GO: cellular component </a>"
      ],
      "text/plain": [
       "<IPython.core.display.HTML object>"
      ]
     },
     "metadata": {},
     "output_type": "display_data"
    },
    {
     "data": {
      "text/html": [
       "<a href=\"https://www.vectorbase.org/Glossina_fuscipes/Transcript/Ontology/molecular_function?db=core;g=GFUI007441;oid=molecular_function\"> GFUI007441: GO: molecular function </a>"
      ],
      "text/plain": [
       "<IPython.core.display.HTML object>"
      ]
     },
     "metadata": {},
     "output_type": "display_data"
    },
    {
     "data": {
      "text/html": [
       "<hr>"
      ],
      "text/plain": [
       "<IPython.core.display.HTML object>"
      ]
     },
     "metadata": {},
     "output_type": "display_data"
    },
    {
     "data": {
      "text/html": [
       "<h2>GFUI009421(novel_mapped_tx)</h2>"
      ],
      "text/plain": [
       "<IPython.core.display.HTML object>"
      ]
     },
     "metadata": {},
     "output_type": "display_data"
    },
    {
     "data": {
      "text/html": [
       "<b>SNPs:</b><br>Scaffold151:406664<br>"
      ],
      "text/plain": [
       "<IPython.core.display.HTML object>"
      ]
     },
     "metadata": {},
     "output_type": "display_data"
    },
    {
     "data": {
      "text/html": [
       "<div>\n",
       "<table border=\"1\" class=\"dataframe\">\n",
       "  <thead>\n",
       "    <tr style=\"text-align: right;\">\n",
       "      <th></th>\n",
       "      <th>Sequence</th>\n",
       "      <th>Aspect</th>\n",
       "      <th>GO ID</th>\n",
       "      <th>Name</th>\n",
       "      <th>Total Score</th>\n",
       "      <th>Internal Confidence</th>\n",
       "      <th>Information Content</th>\n",
       "    </tr>\n",
       "  </thead>\n",
       "  <tbody>\n",
       "    <tr>\n",
       "      <th>39020</th>\n",
       "      <td>GFUI009421-PA</td>\n",
       "      <td>F</td>\n",
       "      <td>GO:0003682</td>\n",
       "      <td>chromatin binding</td>\n",
       "      <td>4041.622846</td>\n",
       "      <td>0.341053</td>\n",
       "      <td>8.759523</td>\n",
       "    </tr>\n",
       "    <tr>\n",
       "      <th>39021</th>\n",
       "      <td>GFUI009421-PA</td>\n",
       "      <td>C</td>\n",
       "      <td>GO:0005634</td>\n",
       "      <td>nucleus</td>\n",
       "      <td>1268.843230</td>\n",
       "      <td>0.465245</td>\n",
       "      <td>5.725783</td>\n",
       "    </tr>\n",
       "    <tr>\n",
       "      <th>39022</th>\n",
       "      <td>GFUI009421-PA</td>\n",
       "      <td>C</td>\n",
       "      <td>GO:0000785</td>\n",
       "      <td>chromatin</td>\n",
       "      <td>380.701117</td>\n",
       "      <td>0.105615</td>\n",
       "      <td>8.803300</td>\n",
       "    </tr>\n",
       "    <tr>\n",
       "      <th>39023</th>\n",
       "      <td>GFUI009421-PA</td>\n",
       "      <td>C</td>\n",
       "      <td>GO:0005694</td>\n",
       "      <td>chromosome</td>\n",
       "      <td>332.363080</td>\n",
       "      <td>0.248406</td>\n",
       "      <td>6.511289</td>\n",
       "    </tr>\n",
       "  </tbody>\n",
       "</table>\n",
       "</div>"
      ],
      "text/plain": [
       "            Sequence Aspect       GO ID               Name  Total Score  \\\n",
       "39020  GFUI009421-PA      F  GO:0003682  chromatin binding  4041.622846   \n",
       "39021  GFUI009421-PA      C  GO:0005634            nucleus  1268.843230   \n",
       "39022  GFUI009421-PA      C  GO:0000785          chromatin   380.701117   \n",
       "39023  GFUI009421-PA      C  GO:0005694         chromosome   332.363080   \n",
       "\n",
       "       Internal Confidence  Information Content  \n",
       "39020             0.341053             8.759523  \n",
       "39021             0.465245             5.725783  \n",
       "39022             0.105615             8.803300  \n",
       "39023             0.248406             6.511289  "
      ]
     },
     "metadata": {},
     "output_type": "display_data"
    },
    {
     "data": {
      "text/html": [
       "<p>"
      ],
      "text/plain": [
       "<IPython.core.display.HTML object>"
      ]
     },
     "metadata": {},
     "output_type": "display_data"
    },
    {
     "data": {
      "text/html": [
       "<a href=\"https://www.vectorbase.org/Glossina_fuscipes/Gene/Summary?db=core;g=GFUI009421\"> GFUI009421: gene home page</a>"
      ],
      "text/plain": [
       "<IPython.core.display.HTML object>"
      ]
     },
     "metadata": {},
     "output_type": "display_data"
    },
    {
     "data": {
      "text/html": [
       "<a href=\"https://www.vectorbase.org/Glossina_fuscipes/Transcript/ProteinSummary?db=core;g=GFUI009421\"> GFUI009421: protein summary </a>"
      ],
      "text/plain": [
       "<IPython.core.display.HTML object>"
      ]
     },
     "metadata": {},
     "output_type": "display_data"
    },
    {
     "data": {
      "text/html": [
       "<a href=\"https://www.vectorbase.org/Glossina_fuscipes/Location/View?db=core;g=GFUI009421;r\"> GFUI009421: genome browser </a>"
      ],
      "text/plain": [
       "<IPython.core.display.HTML object>"
      ]
     },
     "metadata": {},
     "output_type": "display_data"
    },
    {
     "data": {
      "text/html": [
       "<a href=\"https://www.vectorbase.org/Glossina_fuscipes/Transcript/Ontology/biological_process?db=core;g=GFUI009421;oid=biological_process\"> GFUI009421: GO: biological process </a>"
      ],
      "text/plain": [
       "<IPython.core.display.HTML object>"
      ]
     },
     "metadata": {},
     "output_type": "display_data"
    },
    {
     "data": {
      "text/html": [
       "<a href=\"https://www.vectorbase.org/Glossina_fuscipes/Transcript/Ontology/cellular_component?db=core;g=GFUI009421;oid=cellular_component\"> GFUI009421: GO: cellular component </a>"
      ],
      "text/plain": [
       "<IPython.core.display.HTML object>"
      ]
     },
     "metadata": {},
     "output_type": "display_data"
    },
    {
     "data": {
      "text/html": [
       "<a href=\"https://www.vectorbase.org/Glossina_fuscipes/Transcript/Ontology/molecular_function?db=core;g=GFUI009421;oid=molecular_function\"> GFUI009421: GO: molecular function </a>"
      ],
      "text/plain": [
       "<IPython.core.display.HTML object>"
      ]
     },
     "metadata": {},
     "output_type": "display_data"
    },
    {
     "data": {
      "text/html": [
       "<hr>"
      ],
      "text/plain": [
       "<IPython.core.display.HTML object>"
      ]
     },
     "metadata": {},
     "output_type": "display_data"
    },
    {
     "data": {
      "text/html": [
       "<h2>GFUI016885(novel_mapped_tx)</h2>"
      ],
      "text/plain": [
       "<IPython.core.display.HTML object>"
      ]
     },
     "metadata": {},
     "output_type": "display_data"
    },
    {
     "data": {
      "text/html": [
       "<b>SNPs:</b><br>Scaffold220:393433<br>"
      ],
      "text/plain": [
       "<IPython.core.display.HTML object>"
      ]
     },
     "metadata": {},
     "output_type": "display_data"
    },
    {
     "data": {
      "text/html": [
       "<div>\n",
       "<table border=\"1\" class=\"dataframe\">\n",
       "  <thead>\n",
       "    <tr style=\"text-align: right;\">\n",
       "      <th></th>\n",
       "      <th>Sequence</th>\n",
       "      <th>Aspect</th>\n",
       "      <th>GO ID</th>\n",
       "      <th>Name</th>\n",
       "      <th>Total Score</th>\n",
       "      <th>Internal Confidence</th>\n",
       "      <th>Information Content</th>\n",
       "    </tr>\n",
       "  </thead>\n",
       "  <tbody>\n",
       "  </tbody>\n",
       "</table>\n",
       "</div>"
      ],
      "text/plain": [
       "Empty DataFrame\n",
       "Columns: [Sequence, Aspect, GO ID, Name, Total Score, Internal Confidence, Information Content]\n",
       "Index: []"
      ]
     },
     "metadata": {},
     "output_type": "display_data"
    },
    {
     "data": {
      "text/html": [
       "<p>"
      ],
      "text/plain": [
       "<IPython.core.display.HTML object>"
      ]
     },
     "metadata": {},
     "output_type": "display_data"
    },
    {
     "data": {
      "text/html": [
       "<a href=\"https://www.vectorbase.org/Glossina_fuscipes/Gene/Summary?db=core;g=GFUI016885\"> GFUI016885: gene home page</a>"
      ],
      "text/plain": [
       "<IPython.core.display.HTML object>"
      ]
     },
     "metadata": {},
     "output_type": "display_data"
    },
    {
     "data": {
      "text/html": [
       "<a href=\"https://www.vectorbase.org/Glossina_fuscipes/Transcript/ProteinSummary?db=core;g=GFUI016885\"> GFUI016885: protein summary </a>"
      ],
      "text/plain": [
       "<IPython.core.display.HTML object>"
      ]
     },
     "metadata": {},
     "output_type": "display_data"
    },
    {
     "data": {
      "text/html": [
       "<a href=\"https://www.vectorbase.org/Glossina_fuscipes/Location/View?db=core;g=GFUI016885;r\"> GFUI016885: genome browser </a>"
      ],
      "text/plain": [
       "<IPython.core.display.HTML object>"
      ]
     },
     "metadata": {},
     "output_type": "display_data"
    },
    {
     "data": {
      "text/html": [
       "<a href=\"https://www.vectorbase.org/Glossina_fuscipes/Transcript/Ontology/biological_process?db=core;g=GFUI016885;oid=biological_process\"> GFUI016885: GO: biological process </a>"
      ],
      "text/plain": [
       "<IPython.core.display.HTML object>"
      ]
     },
     "metadata": {},
     "output_type": "display_data"
    },
    {
     "data": {
      "text/html": [
       "<a href=\"https://www.vectorbase.org/Glossina_fuscipes/Transcript/Ontology/cellular_component?db=core;g=GFUI016885;oid=cellular_component\"> GFUI016885: GO: cellular component </a>"
      ],
      "text/plain": [
       "<IPython.core.display.HTML object>"
      ]
     },
     "metadata": {},
     "output_type": "display_data"
    },
    {
     "data": {
      "text/html": [
       "<a href=\"https://www.vectorbase.org/Glossina_fuscipes/Transcript/Ontology/molecular_function?db=core;g=GFUI016885;oid=molecular_function\"> GFUI016885: GO: molecular function </a>"
      ],
      "text/plain": [
       "<IPython.core.display.HTML object>"
      ]
     },
     "metadata": {},
     "output_type": "display_data"
    },
    {
     "data": {
      "text/html": [
       "<hr>"
      ],
      "text/plain": [
       "<IPython.core.display.HTML object>"
      ]
     },
     "metadata": {},
     "output_type": "display_data"
    },
    {
     "data": {
      "text/html": [
       "<h2>GFUI017734(novel_mapped_tx)</h2>"
      ],
      "text/plain": [
       "<IPython.core.display.HTML object>"
      ]
     },
     "metadata": {},
     "output_type": "display_data"
    },
    {
     "data": {
      "text/html": [
       "<b>SNPs:</b><br>Scaffold22:1291805<br>"
      ],
      "text/plain": [
       "<IPython.core.display.HTML object>"
      ]
     },
     "metadata": {},
     "output_type": "display_data"
    },
    {
     "data": {
      "text/html": [
       "<div>\n",
       "<table border=\"1\" class=\"dataframe\">\n",
       "  <thead>\n",
       "    <tr style=\"text-align: right;\">\n",
       "      <th></th>\n",
       "      <th>Sequence</th>\n",
       "      <th>Aspect</th>\n",
       "      <th>GO ID</th>\n",
       "      <th>Name</th>\n",
       "      <th>Total Score</th>\n",
       "      <th>Internal Confidence</th>\n",
       "      <th>Information Content</th>\n",
       "    </tr>\n",
       "  </thead>\n",
       "  <tbody>\n",
       "    <tr>\n",
       "      <th>42672</th>\n",
       "      <td>GFUI017734-PA</td>\n",
       "      <td>F</td>\n",
       "      <td>GO:0005215</td>\n",
       "      <td>transporter activity</td>\n",
       "      <td>941.190325</td>\n",
       "      <td>0.781837</td>\n",
       "      <td>2.590009</td>\n",
       "    </tr>\n",
       "    <tr>\n",
       "      <th>42675</th>\n",
       "      <td>GFUI017734-PA</td>\n",
       "      <td>F</td>\n",
       "      <td>GO:0005384</td>\n",
       "      <td>manganese ion transmembrane transporter activity</td>\n",
       "      <td>479.646320</td>\n",
       "      <td>0.076954</td>\n",
       "      <td>10.970281</td>\n",
       "    </tr>\n",
       "    <tr>\n",
       "      <th>42682</th>\n",
       "      <td>GFUI017734-PA</td>\n",
       "      <td>C</td>\n",
       "      <td>GO:0016021</td>\n",
       "      <td>integral component of membrane</td>\n",
       "      <td>424.622590</td>\n",
       "      <td>0.140479</td>\n",
       "      <td>3.692502</td>\n",
       "    </tr>\n",
       "    <tr>\n",
       "      <th>42680</th>\n",
       "      <td>GFUI017734-PA</td>\n",
       "      <td>C</td>\n",
       "      <td>GO:0005886</td>\n",
       "      <td>plasma membrane</td>\n",
       "      <td>334.684090</td>\n",
       "      <td>0.140552</td>\n",
       "      <td>4.357169</td>\n",
       "    </tr>\n",
       "    <tr>\n",
       "      <th>42681</th>\n",
       "      <td>GFUI017734-PA</td>\n",
       "      <td>C</td>\n",
       "      <td>GO:0016020</td>\n",
       "      <td>membrane</td>\n",
       "      <td>332.160061</td>\n",
       "      <td>0.563269</td>\n",
       "      <td>2.472824</td>\n",
       "    </tr>\n",
       "    <tr>\n",
       "      <th>42678</th>\n",
       "      <td>GFUI017734-PA</td>\n",
       "      <td>C</td>\n",
       "      <td>GO:0005770</td>\n",
       "      <td>late endosome</td>\n",
       "      <td>287.868062</td>\n",
       "      <td>0.070704</td>\n",
       "      <td>10.996288</td>\n",
       "    </tr>\n",
       "    <tr>\n",
       "      <th>42677</th>\n",
       "      <td>GFUI017734-PA</td>\n",
       "      <td>C</td>\n",
       "      <td>GO:0005737</td>\n",
       "      <td>cytoplasm</td>\n",
       "      <td>252.497154</td>\n",
       "      <td>0.469864</td>\n",
       "      <td>3.178476</td>\n",
       "    </tr>\n",
       "    <tr>\n",
       "      <th>42676</th>\n",
       "      <td>GFUI017734-PA</td>\n",
       "      <td>C</td>\n",
       "      <td>GO:0005764</td>\n",
       "      <td>lysosome</td>\n",
       "      <td>213.055689</td>\n",
       "      <td>0.065152</td>\n",
       "      <td>10.254827</td>\n",
       "    </tr>\n",
       "    <tr>\n",
       "      <th>42673</th>\n",
       "      <td>GFUI017734-PA</td>\n",
       "      <td>F</td>\n",
       "      <td>GO:0005375</td>\n",
       "      <td>copper ion transmembrane transporter activity</td>\n",
       "      <td>212.469471</td>\n",
       "      <td>0.052477</td>\n",
       "      <td>10.450138</td>\n",
       "    </tr>\n",
       "  </tbody>\n",
       "</table>\n",
       "</div>"
      ],
      "text/plain": [
       "            Sequence Aspect       GO ID  \\\n",
       "42672  GFUI017734-PA      F  GO:0005215   \n",
       "42675  GFUI017734-PA      F  GO:0005384   \n",
       "42682  GFUI017734-PA      C  GO:0016021   \n",
       "42680  GFUI017734-PA      C  GO:0005886   \n",
       "42681  GFUI017734-PA      C  GO:0016020   \n",
       "42678  GFUI017734-PA      C  GO:0005770   \n",
       "42677  GFUI017734-PA      C  GO:0005737   \n",
       "42676  GFUI017734-PA      C  GO:0005764   \n",
       "42673  GFUI017734-PA      F  GO:0005375   \n",
       "\n",
       "                                                   Name  Total Score  \\\n",
       "42672                              transporter activity   941.190325   \n",
       "42675  manganese ion transmembrane transporter activity   479.646320   \n",
       "42682                    integral component of membrane   424.622590   \n",
       "42680                                   plasma membrane   334.684090   \n",
       "42681                                          membrane   332.160061   \n",
       "42678                                     late endosome   287.868062   \n",
       "42677                                         cytoplasm   252.497154   \n",
       "42676                                          lysosome   213.055689   \n",
       "42673     copper ion transmembrane transporter activity   212.469471   \n",
       "\n",
       "       Internal Confidence  Information Content  \n",
       "42672             0.781837             2.590009  \n",
       "42675             0.076954            10.970281  \n",
       "42682             0.140479             3.692502  \n",
       "42680             0.140552             4.357169  \n",
       "42681             0.563269             2.472824  \n",
       "42678             0.070704            10.996288  \n",
       "42677             0.469864             3.178476  \n",
       "42676             0.065152            10.254827  \n",
       "42673             0.052477            10.450138  "
      ]
     },
     "metadata": {},
     "output_type": "display_data"
    },
    {
     "data": {
      "text/html": [
       "<p>"
      ],
      "text/plain": [
       "<IPython.core.display.HTML object>"
      ]
     },
     "metadata": {},
     "output_type": "display_data"
    },
    {
     "data": {
      "text/html": [
       "<a href=\"https://www.vectorbase.org/Glossina_fuscipes/Gene/Summary?db=core;g=GFUI017734\"> GFUI017734: gene home page</a>"
      ],
      "text/plain": [
       "<IPython.core.display.HTML object>"
      ]
     },
     "metadata": {},
     "output_type": "display_data"
    },
    {
     "data": {
      "text/html": [
       "<a href=\"https://www.vectorbase.org/Glossina_fuscipes/Transcript/ProteinSummary?db=core;g=GFUI017734\"> GFUI017734: protein summary </a>"
      ],
      "text/plain": [
       "<IPython.core.display.HTML object>"
      ]
     },
     "metadata": {},
     "output_type": "display_data"
    },
    {
     "data": {
      "text/html": [
       "<a href=\"https://www.vectorbase.org/Glossina_fuscipes/Location/View?db=core;g=GFUI017734;r\"> GFUI017734: genome browser </a>"
      ],
      "text/plain": [
       "<IPython.core.display.HTML object>"
      ]
     },
     "metadata": {},
     "output_type": "display_data"
    },
    {
     "data": {
      "text/html": [
       "<a href=\"https://www.vectorbase.org/Glossina_fuscipes/Transcript/Ontology/biological_process?db=core;g=GFUI017734;oid=biological_process\"> GFUI017734: GO: biological process </a>"
      ],
      "text/plain": [
       "<IPython.core.display.HTML object>"
      ]
     },
     "metadata": {},
     "output_type": "display_data"
    },
    {
     "data": {
      "text/html": [
       "<a href=\"https://www.vectorbase.org/Glossina_fuscipes/Transcript/Ontology/cellular_component?db=core;g=GFUI017734;oid=cellular_component\"> GFUI017734: GO: cellular component </a>"
      ],
      "text/plain": [
       "<IPython.core.display.HTML object>"
      ]
     },
     "metadata": {},
     "output_type": "display_data"
    },
    {
     "data": {
      "text/html": [
       "<a href=\"https://www.vectorbase.org/Glossina_fuscipes/Transcript/Ontology/molecular_function?db=core;g=GFUI017734;oid=molecular_function\"> GFUI017734: GO: molecular function </a>"
      ],
      "text/plain": [
       "<IPython.core.display.HTML object>"
      ]
     },
     "metadata": {},
     "output_type": "display_data"
    },
    {
     "data": {
      "text/html": [
       "<hr>"
      ],
      "text/plain": [
       "<IPython.core.display.HTML object>"
      ]
     },
     "metadata": {},
     "output_type": "display_data"
    },
    {
     "data": {
      "text/html": [
       "<h2>GFUI020790(official_annotations)</h2>"
      ],
      "text/plain": [
       "<IPython.core.display.HTML object>"
      ]
     },
     "metadata": {},
     "output_type": "display_data"
    },
    {
     "data": {
      "text/html": [
       "<b>SNPs:</b><br>Scaffold268:383222<br>"
      ],
      "text/plain": [
       "<IPython.core.display.HTML object>"
      ]
     },
     "metadata": {},
     "output_type": "display_data"
    },
    {
     "data": {
      "text/html": [
       "<div>\n",
       "<table border=\"1\" class=\"dataframe\">\n",
       "  <thead>\n",
       "    <tr style=\"text-align: right;\">\n",
       "      <th></th>\n",
       "      <th>Sequence</th>\n",
       "      <th>Aspect</th>\n",
       "      <th>GO ID</th>\n",
       "      <th>Name</th>\n",
       "      <th>Total Score</th>\n",
       "      <th>Internal Confidence</th>\n",
       "      <th>Information Content</th>\n",
       "    </tr>\n",
       "  </thead>\n",
       "  <tbody>\n",
       "    <tr>\n",
       "      <th>40512</th>\n",
       "      <td>GFUI020790-PA</td>\n",
       "      <td>F</td>\n",
       "      <td>GO:0000062</td>\n",
       "      <td>fatty-acyl-CoA binding</td>\n",
       "      <td>9944.925842</td>\n",
       "      <td>0.334478</td>\n",
       "      <td>10.777529</td>\n",
       "    </tr>\n",
       "    <tr>\n",
       "      <th>40511</th>\n",
       "      <td>GFUI020790-PA</td>\n",
       "      <td>P</td>\n",
       "      <td>GO:0006810</td>\n",
       "      <td>transport</td>\n",
       "      <td>276.682260</td>\n",
       "      <td>0.264352</td>\n",
       "      <td>5.069855</td>\n",
       "    </tr>\n",
       "  </tbody>\n",
       "</table>\n",
       "</div>"
      ],
      "text/plain": [
       "            Sequence Aspect       GO ID                    Name  Total Score  \\\n",
       "40512  GFUI020790-PA      F  GO:0000062  fatty-acyl-CoA binding  9944.925842   \n",
       "40511  GFUI020790-PA      P  GO:0006810               transport   276.682260   \n",
       "\n",
       "       Internal Confidence  Information Content  \n",
       "40512             0.334478            10.777529  \n",
       "40511             0.264352             5.069855  "
      ]
     },
     "metadata": {},
     "output_type": "display_data"
    },
    {
     "data": {
      "text/html": [
       "<p>"
      ],
      "text/plain": [
       "<IPython.core.display.HTML object>"
      ]
     },
     "metadata": {},
     "output_type": "display_data"
    },
    {
     "data": {
      "text/html": [
       "<a href=\"https://www.vectorbase.org/Glossina_fuscipes/Gene/Summary?db=core;g=GFUI020790\"> GFUI020790: gene home page</a>"
      ],
      "text/plain": [
       "<IPython.core.display.HTML object>"
      ]
     },
     "metadata": {},
     "output_type": "display_data"
    },
    {
     "data": {
      "text/html": [
       "<a href=\"https://www.vectorbase.org/Glossina_fuscipes/Transcript/ProteinSummary?db=core;g=GFUI020790\"> GFUI020790: protein summary </a>"
      ],
      "text/plain": [
       "<IPython.core.display.HTML object>"
      ]
     },
     "metadata": {},
     "output_type": "display_data"
    },
    {
     "data": {
      "text/html": [
       "<a href=\"https://www.vectorbase.org/Glossina_fuscipes/Location/View?db=core;g=GFUI020790;r\"> GFUI020790: genome browser </a>"
      ],
      "text/plain": [
       "<IPython.core.display.HTML object>"
      ]
     },
     "metadata": {},
     "output_type": "display_data"
    },
    {
     "data": {
      "text/html": [
       "<a href=\"https://www.vectorbase.org/Glossina_fuscipes/Transcript/Ontology/biological_process?db=core;g=GFUI020790;oid=biological_process\"> GFUI020790: GO: biological process </a>"
      ],
      "text/plain": [
       "<IPython.core.display.HTML object>"
      ]
     },
     "metadata": {},
     "output_type": "display_data"
    },
    {
     "data": {
      "text/html": [
       "<a href=\"https://www.vectorbase.org/Glossina_fuscipes/Transcript/Ontology/cellular_component?db=core;g=GFUI020790;oid=cellular_component\"> GFUI020790: GO: cellular component </a>"
      ],
      "text/plain": [
       "<IPython.core.display.HTML object>"
      ]
     },
     "metadata": {},
     "output_type": "display_data"
    },
    {
     "data": {
      "text/html": [
       "<a href=\"https://www.vectorbase.org/Glossina_fuscipes/Transcript/Ontology/molecular_function?db=core;g=GFUI020790;oid=molecular_function\"> GFUI020790: GO: molecular function </a>"
      ],
      "text/plain": [
       "<IPython.core.display.HTML object>"
      ]
     },
     "metadata": {},
     "output_type": "display_data"
    },
    {
     "data": {
      "text/html": [
       "<hr>"
      ],
      "text/plain": [
       "<IPython.core.display.HTML object>"
      ]
     },
     "metadata": {},
     "output_type": "display_data"
    },
    {
     "data": {
      "text/html": [
       "<h2>GFUI021833(official_annotations)</h2>"
      ],
      "text/plain": [
       "<IPython.core.display.HTML object>"
      ]
     },
     "metadata": {},
     "output_type": "display_data"
    },
    {
     "data": {
      "text/html": [
       "<b>SNPs:</b><br>Scaffold27:959995<br>"
      ],
      "text/plain": [
       "<IPython.core.display.HTML object>"
      ]
     },
     "metadata": {},
     "output_type": "display_data"
    },
    {
     "data": {
      "text/html": [
       "<div>\n",
       "<table border=\"1\" class=\"dataframe\">\n",
       "  <thead>\n",
       "    <tr style=\"text-align: right;\">\n",
       "      <th></th>\n",
       "      <th>Sequence</th>\n",
       "      <th>Aspect</th>\n",
       "      <th>GO ID</th>\n",
       "      <th>Name</th>\n",
       "      <th>Total Score</th>\n",
       "      <th>Internal Confidence</th>\n",
       "      <th>Information Content</th>\n",
       "    </tr>\n",
       "  </thead>\n",
       "  <tbody>\n",
       "    <tr>\n",
       "      <th>59774</th>\n",
       "      <td>GFUI021833-PA</td>\n",
       "      <td>P</td>\n",
       "      <td>GO:0042478</td>\n",
       "      <td>regulation of eye photoreceptor cell development</td>\n",
       "      <td>1828.310576</td>\n",
       "      <td>0.104519</td>\n",
       "      <td>19.021834</td>\n",
       "    </tr>\n",
       "    <tr>\n",
       "      <th>59776</th>\n",
       "      <td>GFUI021833-PA</td>\n",
       "      <td>C</td>\n",
       "      <td>GO:0016021</td>\n",
       "      <td>integral component of membrane</td>\n",
       "      <td>1602.750453</td>\n",
       "      <td>0.328501</td>\n",
       "      <td>3.692502</td>\n",
       "    </tr>\n",
       "    <tr>\n",
       "      <th>59775</th>\n",
       "      <td>GFUI021833-PA</td>\n",
       "      <td>C</td>\n",
       "      <td>GO:0016020</td>\n",
       "      <td>membrane</td>\n",
       "      <td>1107.220450</td>\n",
       "      <td>0.666834</td>\n",
       "      <td>2.472824</td>\n",
       "    </tr>\n",
       "    <tr>\n",
       "      <th>59773</th>\n",
       "      <td>GFUI021833-PA</td>\n",
       "      <td>P</td>\n",
       "      <td>GO:0030154</td>\n",
       "      <td>cell differentiation</td>\n",
       "      <td>860.701718</td>\n",
       "      <td>0.233555</td>\n",
       "      <td>8.342626</td>\n",
       "    </tr>\n",
       "    <tr>\n",
       "      <th>59772</th>\n",
       "      <td>GFUI021833-PA</td>\n",
       "      <td>P</td>\n",
       "      <td>GO:0007275</td>\n",
       "      <td>multicellular organismal development</td>\n",
       "      <td>739.477899</td>\n",
       "      <td>0.252392</td>\n",
       "      <td>7.690822</td>\n",
       "    </tr>\n",
       "  </tbody>\n",
       "</table>\n",
       "</div>"
      ],
      "text/plain": [
       "            Sequence Aspect       GO ID  \\\n",
       "59774  GFUI021833-PA      P  GO:0042478   \n",
       "59776  GFUI021833-PA      C  GO:0016021   \n",
       "59775  GFUI021833-PA      C  GO:0016020   \n",
       "59773  GFUI021833-PA      P  GO:0030154   \n",
       "59772  GFUI021833-PA      P  GO:0007275   \n",
       "\n",
       "                                                   Name  Total Score  \\\n",
       "59774  regulation of eye photoreceptor cell development  1828.310576   \n",
       "59776                    integral component of membrane  1602.750453   \n",
       "59775                                          membrane  1107.220450   \n",
       "59773                              cell differentiation   860.701718   \n",
       "59772              multicellular organismal development   739.477899   \n",
       "\n",
       "       Internal Confidence  Information Content  \n",
       "59774             0.104519            19.021834  \n",
       "59776             0.328501             3.692502  \n",
       "59775             0.666834             2.472824  \n",
       "59773             0.233555             8.342626  \n",
       "59772             0.252392             7.690822  "
      ]
     },
     "metadata": {},
     "output_type": "display_data"
    },
    {
     "data": {
      "text/html": [
       "<p>"
      ],
      "text/plain": [
       "<IPython.core.display.HTML object>"
      ]
     },
     "metadata": {},
     "output_type": "display_data"
    },
    {
     "data": {
      "text/html": [
       "<a href=\"https://www.vectorbase.org/Glossina_fuscipes/Gene/Summary?db=core;g=GFUI021833\"> GFUI021833: gene home page</a>"
      ],
      "text/plain": [
       "<IPython.core.display.HTML object>"
      ]
     },
     "metadata": {},
     "output_type": "display_data"
    },
    {
     "data": {
      "text/html": [
       "<a href=\"https://www.vectorbase.org/Glossina_fuscipes/Transcript/ProteinSummary?db=core;g=GFUI021833\"> GFUI021833: protein summary </a>"
      ],
      "text/plain": [
       "<IPython.core.display.HTML object>"
      ]
     },
     "metadata": {},
     "output_type": "display_data"
    },
    {
     "data": {
      "text/html": [
       "<a href=\"https://www.vectorbase.org/Glossina_fuscipes/Location/View?db=core;g=GFUI021833;r\"> GFUI021833: genome browser </a>"
      ],
      "text/plain": [
       "<IPython.core.display.HTML object>"
      ]
     },
     "metadata": {},
     "output_type": "display_data"
    },
    {
     "data": {
      "text/html": [
       "<a href=\"https://www.vectorbase.org/Glossina_fuscipes/Transcript/Ontology/biological_process?db=core;g=GFUI021833;oid=biological_process\"> GFUI021833: GO: biological process </a>"
      ],
      "text/plain": [
       "<IPython.core.display.HTML object>"
      ]
     },
     "metadata": {},
     "output_type": "display_data"
    },
    {
     "data": {
      "text/html": [
       "<a href=\"https://www.vectorbase.org/Glossina_fuscipes/Transcript/Ontology/cellular_component?db=core;g=GFUI021833;oid=cellular_component\"> GFUI021833: GO: cellular component </a>"
      ],
      "text/plain": [
       "<IPython.core.display.HTML object>"
      ]
     },
     "metadata": {},
     "output_type": "display_data"
    },
    {
     "data": {
      "text/html": [
       "<a href=\"https://www.vectorbase.org/Glossina_fuscipes/Transcript/Ontology/molecular_function?db=core;g=GFUI021833;oid=molecular_function\"> GFUI021833: GO: molecular function </a>"
      ],
      "text/plain": [
       "<IPython.core.display.HTML object>"
      ]
     },
     "metadata": {},
     "output_type": "display_data"
    },
    {
     "data": {
      "text/html": [
       "<hr>"
      ],
      "text/plain": [
       "<IPython.core.display.HTML object>"
      ]
     },
     "metadata": {},
     "output_type": "display_data"
    },
    {
     "data": {
      "text/html": [
       "<h2>GFUI023751(official_annotations)</h2>"
      ],
      "text/plain": [
       "<IPython.core.display.HTML object>"
      ]
     },
     "metadata": {},
     "output_type": "display_data"
    },
    {
     "data": {
      "text/html": [
       "<b>SNPs:</b><br>Scaffold2:2206337<br>"
      ],
      "text/plain": [
       "<IPython.core.display.HTML object>"
      ]
     },
     "metadata": {},
     "output_type": "display_data"
    },
    {
     "data": {
      "text/html": [
       "<div>\n",
       "<table border=\"1\" class=\"dataframe\">\n",
       "  <thead>\n",
       "    <tr style=\"text-align: right;\">\n",
       "      <th></th>\n",
       "      <th>Sequence</th>\n",
       "      <th>Aspect</th>\n",
       "      <th>GO ID</th>\n",
       "      <th>Name</th>\n",
       "      <th>Total Score</th>\n",
       "      <th>Internal Confidence</th>\n",
       "      <th>Information Content</th>\n",
       "    </tr>\n",
       "  </thead>\n",
       "  <tbody>\n",
       "    <tr>\n",
       "      <th>62673</th>\n",
       "      <td>GFUI023751-PA</td>\n",
       "      <td>F</td>\n",
       "      <td>GO:0008017</td>\n",
       "      <td>microtubule binding</td>\n",
       "      <td>1647.254698</td>\n",
       "      <td>0.134332</td>\n",
       "      <td>9.436151</td>\n",
       "    </tr>\n",
       "    <tr>\n",
       "      <th>62680</th>\n",
       "      <td>GFUI023751-PA</td>\n",
       "      <td>C</td>\n",
       "      <td>GO:0005737</td>\n",
       "      <td>cytoplasm</td>\n",
       "      <td>858.000384</td>\n",
       "      <td>0.255226</td>\n",
       "      <td>3.178476</td>\n",
       "    </tr>\n",
       "    <tr>\n",
       "      <th>62672</th>\n",
       "      <td>GFUI023751-PA</td>\n",
       "      <td>F</td>\n",
       "      <td>GO:0005515</td>\n",
       "      <td>protein binding</td>\n",
       "      <td>550.247579</td>\n",
       "      <td>0.338247</td>\n",
       "      <td>5.471582</td>\n",
       "    </tr>\n",
       "    <tr>\n",
       "      <th>62674</th>\n",
       "      <td>GFUI023751-PA</td>\n",
       "      <td>C</td>\n",
       "      <td>GO:0043234</td>\n",
       "      <td>protein complex</td>\n",
       "      <td>537.480631</td>\n",
       "      <td>0.281680</td>\n",
       "      <td>4.565728</td>\n",
       "    </tr>\n",
       "    <tr>\n",
       "      <th>62675</th>\n",
       "      <td>GFUI023751-PA</td>\n",
       "      <td>C</td>\n",
       "      <td>GO:0000922</td>\n",
       "      <td>spindle pole</td>\n",
       "      <td>466.756769</td>\n",
       "      <td>0.104516</td>\n",
       "      <td>10.799745</td>\n",
       "    </tr>\n",
       "    <tr>\n",
       "      <th>62671</th>\n",
       "      <td>GFUI023751-PA</td>\n",
       "      <td>P</td>\n",
       "      <td>GO:0007067</td>\n",
       "      <td>mitotic nuclear division</td>\n",
       "      <td>265.490248</td>\n",
       "      <td>0.087227</td>\n",
       "      <td>11.153626</td>\n",
       "    </tr>\n",
       "    <tr>\n",
       "      <th>62669</th>\n",
       "      <td>GFUI023751-PA</td>\n",
       "      <td>P</td>\n",
       "      <td>GO:0007051</td>\n",
       "      <td>spindle organization</td>\n",
       "      <td>239.614465</td>\n",
       "      <td>0.066361</td>\n",
       "      <td>13.914920</td>\n",
       "    </tr>\n",
       "    <tr>\n",
       "      <th>62676</th>\n",
       "      <td>GFUI023751-PA</td>\n",
       "      <td>C</td>\n",
       "      <td>GO:0005813</td>\n",
       "      <td>centrosome</td>\n",
       "      <td>225.673324</td>\n",
       "      <td>0.066038</td>\n",
       "      <td>10.018345</td>\n",
       "    </tr>\n",
       "  </tbody>\n",
       "</table>\n",
       "</div>"
      ],
      "text/plain": [
       "            Sequence Aspect       GO ID                      Name  \\\n",
       "62673  GFUI023751-PA      F  GO:0008017       microtubule binding   \n",
       "62680  GFUI023751-PA      C  GO:0005737                 cytoplasm   \n",
       "62672  GFUI023751-PA      F  GO:0005515           protein binding   \n",
       "62674  GFUI023751-PA      C  GO:0043234           protein complex   \n",
       "62675  GFUI023751-PA      C  GO:0000922              spindle pole   \n",
       "62671  GFUI023751-PA      P  GO:0007067  mitotic nuclear division   \n",
       "62669  GFUI023751-PA      P  GO:0007051      spindle organization   \n",
       "62676  GFUI023751-PA      C  GO:0005813                centrosome   \n",
       "\n",
       "       Total Score  Internal Confidence  Information Content  \n",
       "62673  1647.254698             0.134332             9.436151  \n",
       "62680   858.000384             0.255226             3.178476  \n",
       "62672   550.247579             0.338247             5.471582  \n",
       "62674   537.480631             0.281680             4.565728  \n",
       "62675   466.756769             0.104516            10.799745  \n",
       "62671   265.490248             0.087227            11.153626  \n",
       "62669   239.614465             0.066361            13.914920  \n",
       "62676   225.673324             0.066038            10.018345  "
      ]
     },
     "metadata": {},
     "output_type": "display_data"
    },
    {
     "data": {
      "text/html": [
       "<p>"
      ],
      "text/plain": [
       "<IPython.core.display.HTML object>"
      ]
     },
     "metadata": {},
     "output_type": "display_data"
    },
    {
     "data": {
      "text/html": [
       "<a href=\"https://www.vectorbase.org/Glossina_fuscipes/Gene/Summary?db=core;g=GFUI023751\"> GFUI023751: gene home page</a>"
      ],
      "text/plain": [
       "<IPython.core.display.HTML object>"
      ]
     },
     "metadata": {},
     "output_type": "display_data"
    },
    {
     "data": {
      "text/html": [
       "<a href=\"https://www.vectorbase.org/Glossina_fuscipes/Transcript/ProteinSummary?db=core;g=GFUI023751\"> GFUI023751: protein summary </a>"
      ],
      "text/plain": [
       "<IPython.core.display.HTML object>"
      ]
     },
     "metadata": {},
     "output_type": "display_data"
    },
    {
     "data": {
      "text/html": [
       "<a href=\"https://www.vectorbase.org/Glossina_fuscipes/Location/View?db=core;g=GFUI023751;r\"> GFUI023751: genome browser </a>"
      ],
      "text/plain": [
       "<IPython.core.display.HTML object>"
      ]
     },
     "metadata": {},
     "output_type": "display_data"
    },
    {
     "data": {
      "text/html": [
       "<a href=\"https://www.vectorbase.org/Glossina_fuscipes/Transcript/Ontology/biological_process?db=core;g=GFUI023751;oid=biological_process\"> GFUI023751: GO: biological process </a>"
      ],
      "text/plain": [
       "<IPython.core.display.HTML object>"
      ]
     },
     "metadata": {},
     "output_type": "display_data"
    },
    {
     "data": {
      "text/html": [
       "<a href=\"https://www.vectorbase.org/Glossina_fuscipes/Transcript/Ontology/cellular_component?db=core;g=GFUI023751;oid=cellular_component\"> GFUI023751: GO: cellular component </a>"
      ],
      "text/plain": [
       "<IPython.core.display.HTML object>"
      ]
     },
     "metadata": {},
     "output_type": "display_data"
    },
    {
     "data": {
      "text/html": [
       "<a href=\"https://www.vectorbase.org/Glossina_fuscipes/Transcript/Ontology/molecular_function?db=core;g=GFUI023751;oid=molecular_function\"> GFUI023751: GO: molecular function </a>"
      ],
      "text/plain": [
       "<IPython.core.display.HTML object>"
      ]
     },
     "metadata": {},
     "output_type": "display_data"
    },
    {
     "data": {
      "text/html": [
       "<hr>"
      ],
      "text/plain": [
       "<IPython.core.display.HTML object>"
      ]
     },
     "metadata": {},
     "output_type": "display_data"
    },
    {
     "data": {
      "text/html": [
       "<h2>GFUI030827(official_annotations)</h2>"
      ],
      "text/plain": [
       "<IPython.core.display.HTML object>"
      ]
     },
     "metadata": {},
     "output_type": "display_data"
    },
    {
     "data": {
      "text/html": [
       "<b>SNPs:</b><br>Scaffold3:2235178<br>"
      ],
      "text/plain": [
       "<IPython.core.display.HTML object>"
      ]
     },
     "metadata": {},
     "output_type": "display_data"
    },
    {
     "data": {
      "text/html": [
       "<div>\n",
       "<table border=\"1\" class=\"dataframe\">\n",
       "  <thead>\n",
       "    <tr style=\"text-align: right;\">\n",
       "      <th></th>\n",
       "      <th>Sequence</th>\n",
       "      <th>Aspect</th>\n",
       "      <th>GO ID</th>\n",
       "      <th>Name</th>\n",
       "      <th>Total Score</th>\n",
       "      <th>Internal Confidence</th>\n",
       "      <th>Information Content</th>\n",
       "    </tr>\n",
       "  </thead>\n",
       "  <tbody>\n",
       "    <tr>\n",
       "      <th>31955</th>\n",
       "      <td>GFUI030827-PA</td>\n",
       "      <td>C</td>\n",
       "      <td>GO:0005634</td>\n",
       "      <td>nucleus</td>\n",
       "      <td>233.933929</td>\n",
       "      <td>0.319027</td>\n",
       "      <td>5.725783</td>\n",
       "    </tr>\n",
       "  </tbody>\n",
       "</table>\n",
       "</div>"
      ],
      "text/plain": [
       "            Sequence Aspect       GO ID     Name  Total Score  \\\n",
       "31955  GFUI030827-PA      C  GO:0005634  nucleus   233.933929   \n",
       "\n",
       "       Internal Confidence  Information Content  \n",
       "31955             0.319027             5.725783  "
      ]
     },
     "metadata": {},
     "output_type": "display_data"
    },
    {
     "data": {
      "text/html": [
       "<p>"
      ],
      "text/plain": [
       "<IPython.core.display.HTML object>"
      ]
     },
     "metadata": {},
     "output_type": "display_data"
    },
    {
     "data": {
      "text/html": [
       "<a href=\"https://www.vectorbase.org/Glossina_fuscipes/Gene/Summary?db=core;g=GFUI030827\"> GFUI030827: gene home page</a>"
      ],
      "text/plain": [
       "<IPython.core.display.HTML object>"
      ]
     },
     "metadata": {},
     "output_type": "display_data"
    },
    {
     "data": {
      "text/html": [
       "<a href=\"https://www.vectorbase.org/Glossina_fuscipes/Transcript/ProteinSummary?db=core;g=GFUI030827\"> GFUI030827: protein summary </a>"
      ],
      "text/plain": [
       "<IPython.core.display.HTML object>"
      ]
     },
     "metadata": {},
     "output_type": "display_data"
    },
    {
     "data": {
      "text/html": [
       "<a href=\"https://www.vectorbase.org/Glossina_fuscipes/Location/View?db=core;g=GFUI030827;r\"> GFUI030827: genome browser </a>"
      ],
      "text/plain": [
       "<IPython.core.display.HTML object>"
      ]
     },
     "metadata": {},
     "output_type": "display_data"
    },
    {
     "data": {
      "text/html": [
       "<a href=\"https://www.vectorbase.org/Glossina_fuscipes/Transcript/Ontology/biological_process?db=core;g=GFUI030827;oid=biological_process\"> GFUI030827: GO: biological process </a>"
      ],
      "text/plain": [
       "<IPython.core.display.HTML object>"
      ]
     },
     "metadata": {},
     "output_type": "display_data"
    },
    {
     "data": {
      "text/html": [
       "<a href=\"https://www.vectorbase.org/Glossina_fuscipes/Transcript/Ontology/cellular_component?db=core;g=GFUI030827;oid=cellular_component\"> GFUI030827: GO: cellular component </a>"
      ],
      "text/plain": [
       "<IPython.core.display.HTML object>"
      ]
     },
     "metadata": {},
     "output_type": "display_data"
    },
    {
     "data": {
      "text/html": [
       "<a href=\"https://www.vectorbase.org/Glossina_fuscipes/Transcript/Ontology/molecular_function?db=core;g=GFUI030827;oid=molecular_function\"> GFUI030827: GO: molecular function </a>"
      ],
      "text/plain": [
       "<IPython.core.display.HTML object>"
      ]
     },
     "metadata": {},
     "output_type": "display_data"
    },
    {
     "data": {
      "text/html": [
       "<hr>"
      ],
      "text/plain": [
       "<IPython.core.display.HTML object>"
      ]
     },
     "metadata": {},
     "output_type": "display_data"
    },
    {
     "data": {
      "text/html": [
       "<h2>GFUI041241(official_annotations)</h2>"
      ],
      "text/plain": [
       "<IPython.core.display.HTML object>"
      ]
     },
     "metadata": {},
     "output_type": "display_data"
    },
    {
     "data": {
      "text/html": [
       "<b>SNPs:</b><br>Scaffold5:2342538<br>"
      ],
      "text/plain": [
       "<IPython.core.display.HTML object>"
      ]
     },
     "metadata": {},
     "output_type": "display_data"
    },
    {
     "data": {
      "text/html": [
       "<div>\n",
       "<table border=\"1\" class=\"dataframe\">\n",
       "  <thead>\n",
       "    <tr style=\"text-align: right;\">\n",
       "      <th></th>\n",
       "      <th>Sequence</th>\n",
       "      <th>Aspect</th>\n",
       "      <th>GO ID</th>\n",
       "      <th>Name</th>\n",
       "      <th>Total Score</th>\n",
       "      <th>Internal Confidence</th>\n",
       "      <th>Information Content</th>\n",
       "    </tr>\n",
       "  </thead>\n",
       "  <tbody>\n",
       "  </tbody>\n",
       "</table>\n",
       "</div>"
      ],
      "text/plain": [
       "Empty DataFrame\n",
       "Columns: [Sequence, Aspect, GO ID, Name, Total Score, Internal Confidence, Information Content]\n",
       "Index: []"
      ]
     },
     "metadata": {},
     "output_type": "display_data"
    },
    {
     "data": {
      "text/html": [
       "<p>"
      ],
      "text/plain": [
       "<IPython.core.display.HTML object>"
      ]
     },
     "metadata": {},
     "output_type": "display_data"
    },
    {
     "data": {
      "text/html": [
       "<a href=\"https://www.vectorbase.org/Glossina_fuscipes/Gene/Summary?db=core;g=GFUI041241\"> GFUI041241: gene home page</a>"
      ],
      "text/plain": [
       "<IPython.core.display.HTML object>"
      ]
     },
     "metadata": {},
     "output_type": "display_data"
    },
    {
     "data": {
      "text/html": [
       "<a href=\"https://www.vectorbase.org/Glossina_fuscipes/Transcript/ProteinSummary?db=core;g=GFUI041241\"> GFUI041241: protein summary </a>"
      ],
      "text/plain": [
       "<IPython.core.display.HTML object>"
      ]
     },
     "metadata": {},
     "output_type": "display_data"
    },
    {
     "data": {
      "text/html": [
       "<a href=\"https://www.vectorbase.org/Glossina_fuscipes/Location/View?db=core;g=GFUI041241;r\"> GFUI041241: genome browser </a>"
      ],
      "text/plain": [
       "<IPython.core.display.HTML object>"
      ]
     },
     "metadata": {},
     "output_type": "display_data"
    },
    {
     "data": {
      "text/html": [
       "<a href=\"https://www.vectorbase.org/Glossina_fuscipes/Transcript/Ontology/biological_process?db=core;g=GFUI041241;oid=biological_process\"> GFUI041241: GO: biological process </a>"
      ],
      "text/plain": [
       "<IPython.core.display.HTML object>"
      ]
     },
     "metadata": {},
     "output_type": "display_data"
    },
    {
     "data": {
      "text/html": [
       "<a href=\"https://www.vectorbase.org/Glossina_fuscipes/Transcript/Ontology/cellular_component?db=core;g=GFUI041241;oid=cellular_component\"> GFUI041241: GO: cellular component </a>"
      ],
      "text/plain": [
       "<IPython.core.display.HTML object>"
      ]
     },
     "metadata": {},
     "output_type": "display_data"
    },
    {
     "data": {
      "text/html": [
       "<a href=\"https://www.vectorbase.org/Glossina_fuscipes/Transcript/Ontology/molecular_function?db=core;g=GFUI041241;oid=molecular_function\"> GFUI041241: GO: molecular function </a>"
      ],
      "text/plain": [
       "<IPython.core.display.HTML object>"
      ]
     },
     "metadata": {},
     "output_type": "display_data"
    },
    {
     "data": {
      "text/html": [
       "<hr>"
      ],
      "text/plain": [
       "<IPython.core.display.HTML object>"
      ]
     },
     "metadata": {},
     "output_type": "display_data"
    },
    {
     "data": {
      "text/html": [
       "<h2>GFUI043027(official_annotations)</h2>"
      ],
      "text/plain": [
       "<IPython.core.display.HTML object>"
      ]
     },
     "metadata": {},
     "output_type": "display_data"
    },
    {
     "data": {
      "text/html": [
       "<b>SNPs:</b><br>Scaffold64:729352<br>"
      ],
      "text/plain": [
       "<IPython.core.display.HTML object>"
      ]
     },
     "metadata": {},
     "output_type": "display_data"
    },
    {
     "data": {
      "text/html": [
       "<div>\n",
       "<table border=\"1\" class=\"dataframe\">\n",
       "  <thead>\n",
       "    <tr style=\"text-align: right;\">\n",
       "      <th></th>\n",
       "      <th>Sequence</th>\n",
       "      <th>Aspect</th>\n",
       "      <th>GO ID</th>\n",
       "      <th>Name</th>\n",
       "      <th>Total Score</th>\n",
       "      <th>Internal Confidence</th>\n",
       "      <th>Information Content</th>\n",
       "    </tr>\n",
       "  </thead>\n",
       "  <tbody>\n",
       "    <tr>\n",
       "      <th>19117</th>\n",
       "      <td>GFUI043027-PA</td>\n",
       "      <td>P</td>\n",
       "      <td>GO:0006260</td>\n",
       "      <td>DNA replication</td>\n",
       "      <td>5253.270634</td>\n",
       "      <td>0.492974</td>\n",
       "      <td>8.821469</td>\n",
       "    </tr>\n",
       "    <tr>\n",
       "      <th>19120</th>\n",
       "      <td>GFUI043027-PA</td>\n",
       "      <td>F</td>\n",
       "      <td>GO:0003887</td>\n",
       "      <td>DNA-directed DNA polymerase activity</td>\n",
       "      <td>4539.992874</td>\n",
       "      <td>0.322161</td>\n",
       "      <td>7.169783</td>\n",
       "    </tr>\n",
       "    <tr>\n",
       "      <th>19118</th>\n",
       "      <td>GFUI043027-PA</td>\n",
       "      <td>F</td>\n",
       "      <td>GO:0003677</td>\n",
       "      <td>DNA binding</td>\n",
       "      <td>2533.271379</td>\n",
       "      <td>0.250152</td>\n",
       "      <td>3.831010</td>\n",
       "    </tr>\n",
       "    <tr>\n",
       "      <th>19123</th>\n",
       "      <td>GFUI043027-PA</td>\n",
       "      <td>C</td>\n",
       "      <td>GO:0008622</td>\n",
       "      <td>epsilon DNA polymerase complex</td>\n",
       "      <td>2479.352690</td>\n",
       "      <td>0.332648</td>\n",
       "      <td>12.834245</td>\n",
       "    </tr>\n",
       "    <tr>\n",
       "      <th>19116</th>\n",
       "      <td>GFUI043027-PA</td>\n",
       "      <td>P</td>\n",
       "      <td>GO:0006261</td>\n",
       "      <td>DNA-dependent DNA replication</td>\n",
       "      <td>2445.618757</td>\n",
       "      <td>0.259546</td>\n",
       "      <td>10.374902</td>\n",
       "    </tr>\n",
       "    <tr>\n",
       "      <th>19122</th>\n",
       "      <td>GFUI043027-PA</td>\n",
       "      <td>C</td>\n",
       "      <td>GO:0005634</td>\n",
       "      <td>nucleus</td>\n",
       "      <td>1685.464129</td>\n",
       "      <td>0.804198</td>\n",
       "      <td>5.725783</td>\n",
       "    </tr>\n",
       "    <tr>\n",
       "      <th>19124</th>\n",
       "      <td>GFUI043027-PA</td>\n",
       "      <td>C</td>\n",
       "      <td>GO:0043231</td>\n",
       "      <td>intracellular membrane-bounded organelle</td>\n",
       "      <td>792.375979</td>\n",
       "      <td>0.946265</td>\n",
       "      <td>4.246234</td>\n",
       "    </tr>\n",
       "    <tr>\n",
       "      <th>19119</th>\n",
       "      <td>GFUI043027-PA</td>\n",
       "      <td>F</td>\n",
       "      <td>GO:0016740</td>\n",
       "      <td>transferase activity</td>\n",
       "      <td>569.214978</td>\n",
       "      <td>0.680699</td>\n",
       "      <td>2.487400</td>\n",
       "    </tr>\n",
       "    <tr>\n",
       "      <th>19121</th>\n",
       "      <td>GFUI043027-PA</td>\n",
       "      <td>F</td>\n",
       "      <td>GO:0016779</td>\n",
       "      <td>nucleotidyltransferase activity</td>\n",
       "      <td>409.609294</td>\n",
       "      <td>0.490394</td>\n",
       "      <td>5.055132</td>\n",
       "    </tr>\n",
       "  </tbody>\n",
       "</table>\n",
       "</div>"
      ],
      "text/plain": [
       "            Sequence Aspect       GO ID  \\\n",
       "19117  GFUI043027-PA      P  GO:0006260   \n",
       "19120  GFUI043027-PA      F  GO:0003887   \n",
       "19118  GFUI043027-PA      F  GO:0003677   \n",
       "19123  GFUI043027-PA      C  GO:0008622   \n",
       "19116  GFUI043027-PA      P  GO:0006261   \n",
       "19122  GFUI043027-PA      C  GO:0005634   \n",
       "19124  GFUI043027-PA      C  GO:0043231   \n",
       "19119  GFUI043027-PA      F  GO:0016740   \n",
       "19121  GFUI043027-PA      F  GO:0016779   \n",
       "\n",
       "                                           Name  Total Score  \\\n",
       "19117                           DNA replication  5253.270634   \n",
       "19120      DNA-directed DNA polymerase activity  4539.992874   \n",
       "19118                               DNA binding  2533.271379   \n",
       "19123            epsilon DNA polymerase complex  2479.352690   \n",
       "19116             DNA-dependent DNA replication  2445.618757   \n",
       "19122                                   nucleus  1685.464129   \n",
       "19124  intracellular membrane-bounded organelle   792.375979   \n",
       "19119                      transferase activity   569.214978   \n",
       "19121           nucleotidyltransferase activity   409.609294   \n",
       "\n",
       "       Internal Confidence  Information Content  \n",
       "19117             0.492974             8.821469  \n",
       "19120             0.322161             7.169783  \n",
       "19118             0.250152             3.831010  \n",
       "19123             0.332648            12.834245  \n",
       "19116             0.259546            10.374902  \n",
       "19122             0.804198             5.725783  \n",
       "19124             0.946265             4.246234  \n",
       "19119             0.680699             2.487400  \n",
       "19121             0.490394             5.055132  "
      ]
     },
     "metadata": {},
     "output_type": "display_data"
    },
    {
     "data": {
      "text/html": [
       "<p>"
      ],
      "text/plain": [
       "<IPython.core.display.HTML object>"
      ]
     },
     "metadata": {},
     "output_type": "display_data"
    },
    {
     "data": {
      "text/html": [
       "<a href=\"https://www.vectorbase.org/Glossina_fuscipes/Gene/Summary?db=core;g=GFUI043027\"> GFUI043027: gene home page</a>"
      ],
      "text/plain": [
       "<IPython.core.display.HTML object>"
      ]
     },
     "metadata": {},
     "output_type": "display_data"
    },
    {
     "data": {
      "text/html": [
       "<a href=\"https://www.vectorbase.org/Glossina_fuscipes/Transcript/ProteinSummary?db=core;g=GFUI043027\"> GFUI043027: protein summary </a>"
      ],
      "text/plain": [
       "<IPython.core.display.HTML object>"
      ]
     },
     "metadata": {},
     "output_type": "display_data"
    },
    {
     "data": {
      "text/html": [
       "<a href=\"https://www.vectorbase.org/Glossina_fuscipes/Location/View?db=core;g=GFUI043027;r\"> GFUI043027: genome browser </a>"
      ],
      "text/plain": [
       "<IPython.core.display.HTML object>"
      ]
     },
     "metadata": {},
     "output_type": "display_data"
    },
    {
     "data": {
      "text/html": [
       "<a href=\"https://www.vectorbase.org/Glossina_fuscipes/Transcript/Ontology/biological_process?db=core;g=GFUI043027;oid=biological_process\"> GFUI043027: GO: biological process </a>"
      ],
      "text/plain": [
       "<IPython.core.display.HTML object>"
      ]
     },
     "metadata": {},
     "output_type": "display_data"
    },
    {
     "data": {
      "text/html": [
       "<a href=\"https://www.vectorbase.org/Glossina_fuscipes/Transcript/Ontology/cellular_component?db=core;g=GFUI043027;oid=cellular_component\"> GFUI043027: GO: cellular component </a>"
      ],
      "text/plain": [
       "<IPython.core.display.HTML object>"
      ]
     },
     "metadata": {},
     "output_type": "display_data"
    },
    {
     "data": {
      "text/html": [
       "<a href=\"https://www.vectorbase.org/Glossina_fuscipes/Transcript/Ontology/molecular_function?db=core;g=GFUI043027;oid=molecular_function\"> GFUI043027: GO: molecular function </a>"
      ],
      "text/plain": [
       "<IPython.core.display.HTML object>"
      ]
     },
     "metadata": {},
     "output_type": "display_data"
    },
    {
     "data": {
      "text/html": [
       "<hr>"
      ],
      "text/plain": [
       "<IPython.core.display.HTML object>"
      ]
     },
     "metadata": {},
     "output_type": "display_data"
    },
    {
     "data": {
      "text/html": [
       "<h2>GFUI043720(official_annotations)</h2>"
      ],
      "text/plain": [
       "<IPython.core.display.HTML object>"
      ]
     },
     "metadata": {},
     "output_type": "display_data"
    },
    {
     "data": {
      "text/html": [
       "<b>SNPs:</b><br>Scaffold66:864866<br>"
      ],
      "text/plain": [
       "<IPython.core.display.HTML object>"
      ]
     },
     "metadata": {},
     "output_type": "display_data"
    },
    {
     "data": {
      "text/html": [
       "<div>\n",
       "<table border=\"1\" class=\"dataframe\">\n",
       "  <thead>\n",
       "    <tr style=\"text-align: right;\">\n",
       "      <th></th>\n",
       "      <th>Sequence</th>\n",
       "      <th>Aspect</th>\n",
       "      <th>GO ID</th>\n",
       "      <th>Name</th>\n",
       "      <th>Total Score</th>\n",
       "      <th>Internal Confidence</th>\n",
       "      <th>Information Content</th>\n",
       "    </tr>\n",
       "  </thead>\n",
       "  <tbody>\n",
       "    <tr>\n",
       "      <th>51722</th>\n",
       "      <td>GFUI043720-PA</td>\n",
       "      <td>P</td>\n",
       "      <td>GO:0006470</td>\n",
       "      <td>protein dephosphorylation</td>\n",
       "      <td>2077.021281</td>\n",
       "      <td>0.236174</td>\n",
       "      <td>11.013535</td>\n",
       "    </tr>\n",
       "    <tr>\n",
       "      <th>51725</th>\n",
       "      <td>GFUI043720-PA</td>\n",
       "      <td>P</td>\n",
       "      <td>GO:0035335</td>\n",
       "      <td>peptidyl-tyrosine dephosphorylation</td>\n",
       "      <td>1854.192243</td>\n",
       "      <td>0.104459</td>\n",
       "      <td>11.690944</td>\n",
       "    </tr>\n",
       "    <tr>\n",
       "      <th>51724</th>\n",
       "      <td>GFUI043720-PA</td>\n",
       "      <td>P</td>\n",
       "      <td>GO:0016311</td>\n",
       "      <td>dephosphorylation</td>\n",
       "      <td>1327.332234</td>\n",
       "      <td>0.334633</td>\n",
       "      <td>9.783756</td>\n",
       "    </tr>\n",
       "    <tr>\n",
       "      <th>51729</th>\n",
       "      <td>GFUI043720-PA</td>\n",
       "      <td>F</td>\n",
       "      <td>GO:0004725</td>\n",
       "      <td>protein tyrosine phosphatase activity</td>\n",
       "      <td>1106.817502</td>\n",
       "      <td>0.176805</td>\n",
       "      <td>8.510896</td>\n",
       "    </tr>\n",
       "    <tr>\n",
       "      <th>51726</th>\n",
       "      <td>GFUI043720-PA</td>\n",
       "      <td>F</td>\n",
       "      <td>GO:0016787</td>\n",
       "      <td>hydrolase activity</td>\n",
       "      <td>1088.596949</td>\n",
       "      <td>0.857645</td>\n",
       "      <td>2.643033</td>\n",
       "    </tr>\n",
       "    <tr>\n",
       "      <th>51730</th>\n",
       "      <td>GFUI043720-PA</td>\n",
       "      <td>F</td>\n",
       "      <td>GO:0008138</td>\n",
       "      <td>protein tyrosine/serine/threonine phosphatase activity</td>\n",
       "      <td>904.445986</td>\n",
       "      <td>0.147903</td>\n",
       "      <td>10.023433</td>\n",
       "    </tr>\n",
       "    <tr>\n",
       "      <th>51728</th>\n",
       "      <td>GFUI043720-PA</td>\n",
       "      <td>F</td>\n",
       "      <td>GO:0004721</td>\n",
       "      <td>phosphoprotein phosphatase activity</td>\n",
       "      <td>837.540183</td>\n",
       "      <td>0.541206</td>\n",
       "      <td>7.887060</td>\n",
       "    </tr>\n",
       "    <tr>\n",
       "      <th>51727</th>\n",
       "      <td>GFUI043720-PA</td>\n",
       "      <td>F</td>\n",
       "      <td>GO:0016791</td>\n",
       "      <td>phosphatase activity</td>\n",
       "      <td>663.461735</td>\n",
       "      <td>0.703193</td>\n",
       "      <td>6.651616</td>\n",
       "    </tr>\n",
       "    <tr>\n",
       "      <th>51733</th>\n",
       "      <td>GFUI043720-PA</td>\n",
       "      <td>C</td>\n",
       "      <td>GO:0005634</td>\n",
       "      <td>nucleus</td>\n",
       "      <td>555.072824</td>\n",
       "      <td>0.429894</td>\n",
       "      <td>5.725783</td>\n",
       "    </tr>\n",
       "    <tr>\n",
       "      <th>51732</th>\n",
       "      <td>GFUI043720-PA</td>\n",
       "      <td>C</td>\n",
       "      <td>GO:0005737</td>\n",
       "      <td>cytoplasm</td>\n",
       "      <td>497.846080</td>\n",
       "      <td>0.152037</td>\n",
       "      <td>3.178476</td>\n",
       "    </tr>\n",
       "    <tr>\n",
       "      <th>51735</th>\n",
       "      <td>GFUI043720-PA</td>\n",
       "      <td>C</td>\n",
       "      <td>GO:0005730</td>\n",
       "      <td>nucleolus</td>\n",
       "      <td>389.302073</td>\n",
       "      <td>0.124618</td>\n",
       "      <td>9.264441</td>\n",
       "    </tr>\n",
       "    <tr>\n",
       "      <th>51723</th>\n",
       "      <td>GFUI043720-PA</td>\n",
       "      <td>P</td>\n",
       "      <td>GO:0007096</td>\n",
       "      <td>regulation of exit from mitosis</td>\n",
       "      <td>367.731156</td>\n",
       "      <td>0.052932</td>\n",
       "      <td>16.042232</td>\n",
       "    </tr>\n",
       "    <tr>\n",
       "      <th>51734</th>\n",
       "      <td>GFUI043720-PA</td>\n",
       "      <td>C</td>\n",
       "      <td>GO:0005654</td>\n",
       "      <td>nucleoplasm</td>\n",
       "      <td>303.231978</td>\n",
       "      <td>0.102342</td>\n",
       "      <td>8.366626</td>\n",
       "    </tr>\n",
       "  </tbody>\n",
       "</table>\n",
       "</div>"
      ],
      "text/plain": [
       "            Sequence Aspect       GO ID  \\\n",
       "51722  GFUI043720-PA      P  GO:0006470   \n",
       "51725  GFUI043720-PA      P  GO:0035335   \n",
       "51724  GFUI043720-PA      P  GO:0016311   \n",
       "51729  GFUI043720-PA      F  GO:0004725   \n",
       "51726  GFUI043720-PA      F  GO:0016787   \n",
       "51730  GFUI043720-PA      F  GO:0008138   \n",
       "51728  GFUI043720-PA      F  GO:0004721   \n",
       "51727  GFUI043720-PA      F  GO:0016791   \n",
       "51733  GFUI043720-PA      C  GO:0005634   \n",
       "51732  GFUI043720-PA      C  GO:0005737   \n",
       "51735  GFUI043720-PA      C  GO:0005730   \n",
       "51723  GFUI043720-PA      P  GO:0007096   \n",
       "51734  GFUI043720-PA      C  GO:0005654   \n",
       "\n",
       "                                                         Name  Total Score  \\\n",
       "51722                               protein dephosphorylation  2077.021281   \n",
       "51725                     peptidyl-tyrosine dephosphorylation  1854.192243   \n",
       "51724                                       dephosphorylation  1327.332234   \n",
       "51729                   protein tyrosine phosphatase activity  1106.817502   \n",
       "51726                                      hydrolase activity  1088.596949   \n",
       "51730  protein tyrosine/serine/threonine phosphatase activity   904.445986   \n",
       "51728                     phosphoprotein phosphatase activity   837.540183   \n",
       "51727                                    phosphatase activity   663.461735   \n",
       "51733                                                 nucleus   555.072824   \n",
       "51732                                               cytoplasm   497.846080   \n",
       "51735                                               nucleolus   389.302073   \n",
       "51723                         regulation of exit from mitosis   367.731156   \n",
       "51734                                             nucleoplasm   303.231978   \n",
       "\n",
       "       Internal Confidence  Information Content  \n",
       "51722             0.236174            11.013535  \n",
       "51725             0.104459            11.690944  \n",
       "51724             0.334633             9.783756  \n",
       "51729             0.176805             8.510896  \n",
       "51726             0.857645             2.643033  \n",
       "51730             0.147903            10.023433  \n",
       "51728             0.541206             7.887060  \n",
       "51727             0.703193             6.651616  \n",
       "51733             0.429894             5.725783  \n",
       "51732             0.152037             3.178476  \n",
       "51735             0.124618             9.264441  \n",
       "51723             0.052932            16.042232  \n",
       "51734             0.102342             8.366626  "
      ]
     },
     "metadata": {},
     "output_type": "display_data"
    },
    {
     "data": {
      "text/html": [
       "<p>"
      ],
      "text/plain": [
       "<IPython.core.display.HTML object>"
      ]
     },
     "metadata": {},
     "output_type": "display_data"
    },
    {
     "data": {
      "text/html": [
       "<a href=\"https://www.vectorbase.org/Glossina_fuscipes/Gene/Summary?db=core;g=GFUI043720\"> GFUI043720: gene home page</a>"
      ],
      "text/plain": [
       "<IPython.core.display.HTML object>"
      ]
     },
     "metadata": {},
     "output_type": "display_data"
    },
    {
     "data": {
      "text/html": [
       "<a href=\"https://www.vectorbase.org/Glossina_fuscipes/Transcript/ProteinSummary?db=core;g=GFUI043720\"> GFUI043720: protein summary </a>"
      ],
      "text/plain": [
       "<IPython.core.display.HTML object>"
      ]
     },
     "metadata": {},
     "output_type": "display_data"
    },
    {
     "data": {
      "text/html": [
       "<a href=\"https://www.vectorbase.org/Glossina_fuscipes/Location/View?db=core;g=GFUI043720;r\"> GFUI043720: genome browser </a>"
      ],
      "text/plain": [
       "<IPython.core.display.HTML object>"
      ]
     },
     "metadata": {},
     "output_type": "display_data"
    },
    {
     "data": {
      "text/html": [
       "<a href=\"https://www.vectorbase.org/Glossina_fuscipes/Transcript/Ontology/biological_process?db=core;g=GFUI043720;oid=biological_process\"> GFUI043720: GO: biological process </a>"
      ],
      "text/plain": [
       "<IPython.core.display.HTML object>"
      ]
     },
     "metadata": {},
     "output_type": "display_data"
    },
    {
     "data": {
      "text/html": [
       "<a href=\"https://www.vectorbase.org/Glossina_fuscipes/Transcript/Ontology/cellular_component?db=core;g=GFUI043720;oid=cellular_component\"> GFUI043720: GO: cellular component </a>"
      ],
      "text/plain": [
       "<IPython.core.display.HTML object>"
      ]
     },
     "metadata": {},
     "output_type": "display_data"
    },
    {
     "data": {
      "text/html": [
       "<a href=\"https://www.vectorbase.org/Glossina_fuscipes/Transcript/Ontology/molecular_function?db=core;g=GFUI043720;oid=molecular_function\"> GFUI043720: GO: molecular function </a>"
      ],
      "text/plain": [
       "<IPython.core.display.HTML object>"
      ]
     },
     "metadata": {},
     "output_type": "display_data"
    },
    {
     "data": {
      "text/html": [
       "<hr>"
      ],
      "text/plain": [
       "<IPython.core.display.HTML object>"
      ]
     },
     "metadata": {},
     "output_type": "display_data"
    },
    {
     "data": {
      "text/html": [
       "<h2>GFUI043918(novel_mapped_tx)</h2>"
      ],
      "text/plain": [
       "<IPython.core.display.HTML object>"
      ]
     },
     "metadata": {},
     "output_type": "display_data"
    },
    {
     "data": {
      "text/html": [
       "<b>SNPs:</b><br>Scaffold67:72303<br>"
      ],
      "text/plain": [
       "<IPython.core.display.HTML object>"
      ]
     },
     "metadata": {},
     "output_type": "display_data"
    },
    {
     "data": {
      "text/html": [
       "<div>\n",
       "<table border=\"1\" class=\"dataframe\">\n",
       "  <thead>\n",
       "    <tr style=\"text-align: right;\">\n",
       "      <th></th>\n",
       "      <th>Sequence</th>\n",
       "      <th>Aspect</th>\n",
       "      <th>GO ID</th>\n",
       "      <th>Name</th>\n",
       "      <th>Total Score</th>\n",
       "      <th>Internal Confidence</th>\n",
       "      <th>Information Content</th>\n",
       "    </tr>\n",
       "  </thead>\n",
       "  <tbody>\n",
       "    <tr>\n",
       "      <th>52251</th>\n",
       "      <td>GFUI043918-PA</td>\n",
       "      <td>C</td>\n",
       "      <td>GO:0016021</td>\n",
       "      <td>integral component of membrane</td>\n",
       "      <td>694.221710</td>\n",
       "      <td>0.165345</td>\n",
       "      <td>3.692502</td>\n",
       "    </tr>\n",
       "    <tr>\n",
       "      <th>52248</th>\n",
       "      <td>GFUI043918-PA</td>\n",
       "      <td>P</td>\n",
       "      <td>GO:0055085</td>\n",
       "      <td>transmembrane transport</td>\n",
       "      <td>368.487641</td>\n",
       "      <td>0.137289</td>\n",
       "      <td>6.541786</td>\n",
       "    </tr>\n",
       "    <tr>\n",
       "      <th>52247</th>\n",
       "      <td>GFUI043918-PA</td>\n",
       "      <td>P</td>\n",
       "      <td>GO:0006810</td>\n",
       "      <td>transport</td>\n",
       "      <td>314.148365</td>\n",
       "      <td>0.482440</td>\n",
       "      <td>5.069855</td>\n",
       "    </tr>\n",
       "    <tr>\n",
       "      <th>52250</th>\n",
       "      <td>GFUI043918-PA</td>\n",
       "      <td>C</td>\n",
       "      <td>GO:0016020</td>\n",
       "      <td>membrane</td>\n",
       "      <td>255.656870</td>\n",
       "      <td>0.494696</td>\n",
       "      <td>2.472824</td>\n",
       "    </tr>\n",
       "    <tr>\n",
       "      <th>52249</th>\n",
       "      <td>GFUI043918-PA</td>\n",
       "      <td>F</td>\n",
       "      <td>GO:0022857</td>\n",
       "      <td>transmembrane transporter activity</td>\n",
       "      <td>214.245007</td>\n",
       "      <td>0.400390</td>\n",
       "      <td>3.208825</td>\n",
       "    </tr>\n",
       "  </tbody>\n",
       "</table>\n",
       "</div>"
      ],
      "text/plain": [
       "            Sequence Aspect       GO ID                                Name  \\\n",
       "52251  GFUI043918-PA      C  GO:0016021      integral component of membrane   \n",
       "52248  GFUI043918-PA      P  GO:0055085             transmembrane transport   \n",
       "52247  GFUI043918-PA      P  GO:0006810                           transport   \n",
       "52250  GFUI043918-PA      C  GO:0016020                            membrane   \n",
       "52249  GFUI043918-PA      F  GO:0022857  transmembrane transporter activity   \n",
       "\n",
       "       Total Score  Internal Confidence  Information Content  \n",
       "52251   694.221710             0.165345             3.692502  \n",
       "52248   368.487641             0.137289             6.541786  \n",
       "52247   314.148365             0.482440             5.069855  \n",
       "52250   255.656870             0.494696             2.472824  \n",
       "52249   214.245007             0.400390             3.208825  "
      ]
     },
     "metadata": {},
     "output_type": "display_data"
    },
    {
     "data": {
      "text/html": [
       "<p>"
      ],
      "text/plain": [
       "<IPython.core.display.HTML object>"
      ]
     },
     "metadata": {},
     "output_type": "display_data"
    },
    {
     "data": {
      "text/html": [
       "<a href=\"https://www.vectorbase.org/Glossina_fuscipes/Gene/Summary?db=core;g=GFUI043918\"> GFUI043918: gene home page</a>"
      ],
      "text/plain": [
       "<IPython.core.display.HTML object>"
      ]
     },
     "metadata": {},
     "output_type": "display_data"
    },
    {
     "data": {
      "text/html": [
       "<a href=\"https://www.vectorbase.org/Glossina_fuscipes/Transcript/ProteinSummary?db=core;g=GFUI043918\"> GFUI043918: protein summary </a>"
      ],
      "text/plain": [
       "<IPython.core.display.HTML object>"
      ]
     },
     "metadata": {},
     "output_type": "display_data"
    },
    {
     "data": {
      "text/html": [
       "<a href=\"https://www.vectorbase.org/Glossina_fuscipes/Location/View?db=core;g=GFUI043918;r\"> GFUI043918: genome browser </a>"
      ],
      "text/plain": [
       "<IPython.core.display.HTML object>"
      ]
     },
     "metadata": {},
     "output_type": "display_data"
    },
    {
     "data": {
      "text/html": [
       "<a href=\"https://www.vectorbase.org/Glossina_fuscipes/Transcript/Ontology/biological_process?db=core;g=GFUI043918;oid=biological_process\"> GFUI043918: GO: biological process </a>"
      ],
      "text/plain": [
       "<IPython.core.display.HTML object>"
      ]
     },
     "metadata": {},
     "output_type": "display_data"
    },
    {
     "data": {
      "text/html": [
       "<a href=\"https://www.vectorbase.org/Glossina_fuscipes/Transcript/Ontology/cellular_component?db=core;g=GFUI043918;oid=cellular_component\"> GFUI043918: GO: cellular component </a>"
      ],
      "text/plain": [
       "<IPython.core.display.HTML object>"
      ]
     },
     "metadata": {},
     "output_type": "display_data"
    },
    {
     "data": {
      "text/html": [
       "<a href=\"https://www.vectorbase.org/Glossina_fuscipes/Transcript/Ontology/molecular_function?db=core;g=GFUI043918;oid=molecular_function\"> GFUI043918: GO: molecular function </a>"
      ],
      "text/plain": [
       "<IPython.core.display.HTML object>"
      ]
     },
     "metadata": {},
     "output_type": "display_data"
    },
    {
     "data": {
      "text/html": [
       "<hr>"
      ],
      "text/plain": [
       "<IPython.core.display.HTML object>"
      ]
     },
     "metadata": {},
     "output_type": "display_data"
    },
    {
     "data": {
      "text/html": [
       "<h2>GFUI051070(official_annotations)</h2>"
      ],
      "text/plain": [
       "<IPython.core.display.HTML object>"
      ]
     },
     "metadata": {},
     "output_type": "display_data"
    },
    {
     "data": {
      "text/html": [
       "<b>SNPs:</b><br>Scaffold8:1744226<br>"
      ],
      "text/plain": [
       "<IPython.core.display.HTML object>"
      ]
     },
     "metadata": {},
     "output_type": "display_data"
    },
    {
     "data": {
      "text/html": [
       "<div>\n",
       "<table border=\"1\" class=\"dataframe\">\n",
       "  <thead>\n",
       "    <tr style=\"text-align: right;\">\n",
       "      <th></th>\n",
       "      <th>Sequence</th>\n",
       "      <th>Aspect</th>\n",
       "      <th>GO ID</th>\n",
       "      <th>Name</th>\n",
       "      <th>Total Score</th>\n",
       "      <th>Internal Confidence</th>\n",
       "      <th>Information Content</th>\n",
       "    </tr>\n",
       "  </thead>\n",
       "  <tbody>\n",
       "  </tbody>\n",
       "</table>\n",
       "</div>"
      ],
      "text/plain": [
       "Empty DataFrame\n",
       "Columns: [Sequence, Aspect, GO ID, Name, Total Score, Internal Confidence, Information Content]\n",
       "Index: []"
      ]
     },
     "metadata": {},
     "output_type": "display_data"
    },
    {
     "data": {
      "text/html": [
       "<p>"
      ],
      "text/plain": [
       "<IPython.core.display.HTML object>"
      ]
     },
     "metadata": {},
     "output_type": "display_data"
    },
    {
     "data": {
      "text/html": [
       "<a href=\"https://www.vectorbase.org/Glossina_fuscipes/Gene/Summary?db=core;g=GFUI051070\"> GFUI051070: gene home page</a>"
      ],
      "text/plain": [
       "<IPython.core.display.HTML object>"
      ]
     },
     "metadata": {},
     "output_type": "display_data"
    },
    {
     "data": {
      "text/html": [
       "<a href=\"https://www.vectorbase.org/Glossina_fuscipes/Transcript/ProteinSummary?db=core;g=GFUI051070\"> GFUI051070: protein summary </a>"
      ],
      "text/plain": [
       "<IPython.core.display.HTML object>"
      ]
     },
     "metadata": {},
     "output_type": "display_data"
    },
    {
     "data": {
      "text/html": [
       "<a href=\"https://www.vectorbase.org/Glossina_fuscipes/Location/View?db=core;g=GFUI051070;r\"> GFUI051070: genome browser </a>"
      ],
      "text/plain": [
       "<IPython.core.display.HTML object>"
      ]
     },
     "metadata": {},
     "output_type": "display_data"
    },
    {
     "data": {
      "text/html": [
       "<a href=\"https://www.vectorbase.org/Glossina_fuscipes/Transcript/Ontology/biological_process?db=core;g=GFUI051070;oid=biological_process\"> GFUI051070: GO: biological process </a>"
      ],
      "text/plain": [
       "<IPython.core.display.HTML object>"
      ]
     },
     "metadata": {},
     "output_type": "display_data"
    },
    {
     "data": {
      "text/html": [
       "<a href=\"https://www.vectorbase.org/Glossina_fuscipes/Transcript/Ontology/cellular_component?db=core;g=GFUI051070;oid=cellular_component\"> GFUI051070: GO: cellular component </a>"
      ],
      "text/plain": [
       "<IPython.core.display.HTML object>"
      ]
     },
     "metadata": {},
     "output_type": "display_data"
    },
    {
     "data": {
      "text/html": [
       "<a href=\"https://www.vectorbase.org/Glossina_fuscipes/Transcript/Ontology/molecular_function?db=core;g=GFUI051070;oid=molecular_function\"> GFUI051070: GO: molecular function </a>"
      ],
      "text/plain": [
       "<IPython.core.display.HTML object>"
      ]
     },
     "metadata": {},
     "output_type": "display_data"
    },
    {
     "data": {
      "text/html": [
       "<hr>"
      ],
      "text/plain": [
       "<IPython.core.display.HTML object>"
      ]
     },
     "metadata": {},
     "output_type": "display_data"
    },
    {
     "data": {
      "text/html": [
       "<h2>GFUI053401(official_annotations)</h2>"
      ],
      "text/plain": [
       "<IPython.core.display.HTML object>"
      ]
     },
     "metadata": {},
     "output_type": "display_data"
    },
    {
     "data": {
      "text/html": [
       "<b>SNPs:</b><br>Scaffold9:1360708<br>"
      ],
      "text/plain": [
       "<IPython.core.display.HTML object>"
      ]
     },
     "metadata": {},
     "output_type": "display_data"
    },
    {
     "data": {
      "text/html": [
       "<div>\n",
       "<table border=\"1\" class=\"dataframe\">\n",
       "  <thead>\n",
       "    <tr style=\"text-align: right;\">\n",
       "      <th></th>\n",
       "      <th>Sequence</th>\n",
       "      <th>Aspect</th>\n",
       "      <th>GO ID</th>\n",
       "      <th>Name</th>\n",
       "      <th>Total Score</th>\n",
       "      <th>Internal Confidence</th>\n",
       "      <th>Information Content</th>\n",
       "    </tr>\n",
       "  </thead>\n",
       "  <tbody>\n",
       "  </tbody>\n",
       "</table>\n",
       "</div>"
      ],
      "text/plain": [
       "Empty DataFrame\n",
       "Columns: [Sequence, Aspect, GO ID, Name, Total Score, Internal Confidence, Information Content]\n",
       "Index: []"
      ]
     },
     "metadata": {},
     "output_type": "display_data"
    },
    {
     "data": {
      "text/html": [
       "<p>"
      ],
      "text/plain": [
       "<IPython.core.display.HTML object>"
      ]
     },
     "metadata": {},
     "output_type": "display_data"
    },
    {
     "data": {
      "text/html": [
       "<a href=\"https://www.vectorbase.org/Glossina_fuscipes/Gene/Summary?db=core;g=GFUI053401\"> GFUI053401: gene home page</a>"
      ],
      "text/plain": [
       "<IPython.core.display.HTML object>"
      ]
     },
     "metadata": {},
     "output_type": "display_data"
    },
    {
     "data": {
      "text/html": [
       "<a href=\"https://www.vectorbase.org/Glossina_fuscipes/Transcript/ProteinSummary?db=core;g=GFUI053401\"> GFUI053401: protein summary </a>"
      ],
      "text/plain": [
       "<IPython.core.display.HTML object>"
      ]
     },
     "metadata": {},
     "output_type": "display_data"
    },
    {
     "data": {
      "text/html": [
       "<a href=\"https://www.vectorbase.org/Glossina_fuscipes/Location/View?db=core;g=GFUI053401;r\"> GFUI053401: genome browser </a>"
      ],
      "text/plain": [
       "<IPython.core.display.HTML object>"
      ]
     },
     "metadata": {},
     "output_type": "display_data"
    },
    {
     "data": {
      "text/html": [
       "<a href=\"https://www.vectorbase.org/Glossina_fuscipes/Transcript/Ontology/biological_process?db=core;g=GFUI053401;oid=biological_process\"> GFUI053401: GO: biological process </a>"
      ],
      "text/plain": [
       "<IPython.core.display.HTML object>"
      ]
     },
     "metadata": {},
     "output_type": "display_data"
    },
    {
     "data": {
      "text/html": [
       "<a href=\"https://www.vectorbase.org/Glossina_fuscipes/Transcript/Ontology/cellular_component?db=core;g=GFUI053401;oid=cellular_component\"> GFUI053401: GO: cellular component </a>"
      ],
      "text/plain": [
       "<IPython.core.display.HTML object>"
      ]
     },
     "metadata": {},
     "output_type": "display_data"
    },
    {
     "data": {
      "text/html": [
       "<a href=\"https://www.vectorbase.org/Glossina_fuscipes/Transcript/Ontology/molecular_function?db=core;g=GFUI053401;oid=molecular_function\"> GFUI053401: GO: molecular function </a>"
      ],
      "text/plain": [
       "<IPython.core.display.HTML object>"
      ]
     },
     "metadata": {},
     "output_type": "display_data"
    },
    {
     "data": {
      "text/html": [
       "<hr>"
      ],
      "text/plain": [
       "<IPython.core.display.HTML object>"
      ]
     },
     "metadata": {},
     "output_type": "display_data"
    }
   ],
   "source": [
    "for gene in sorted(list(snp_coords.gene_id_internal.values)):\n",
    "\n",
    "    present_gene(gene_name=gene, snp_coords=snp_coords, argot_df=argot2)"
   ]
  },
  {
   "cell_type": "code",
   "execution_count": null,
   "metadata": {
    "collapsed": true
   },
   "outputs": [],
   "source": []
  }
 ],
 "metadata": {
  "kernelspec": {
   "display_name": "Python 2",
   "language": "python",
   "name": "python2"
  },
  "language_info": {
   "codemirror_mode": {
    "name": "ipython",
    "version": 2
   },
   "file_extension": ".py",
   "mimetype": "text/x-python",
   "name": "python",
   "nbconvert_exporter": "python",
   "pygments_lexer": "ipython2",
   "version": "2.7.11"
  }
 },
 "nbformat": 4,
 "nbformat_minor": 0
}
