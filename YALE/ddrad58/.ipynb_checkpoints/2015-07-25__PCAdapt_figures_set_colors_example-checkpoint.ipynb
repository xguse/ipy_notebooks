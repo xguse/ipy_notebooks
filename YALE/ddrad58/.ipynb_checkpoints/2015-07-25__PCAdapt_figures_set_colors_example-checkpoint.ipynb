{
 "cells": [
  {
   "cell_type": "code",
   "execution_count": 1,
   "metadata": {
    "collapsed": false
   },
   "outputs": [],
   "source": [
    "%matplotlib inline\n",
    "import re\n",
    "\n",
    "import numpy as np\n",
    "import pandas as pd\n",
    "import seaborn as sns\n",
    "\n",
    "import ggplot as gp\n",
    "import matplotlib.pyplot as plt\n",
    "\n",
    "import vcf"
   ]
  },
  {
   "cell_type": "markdown",
   "metadata": {},
   "source": [
    "# Set common figure characteristics"
   ]
  },
  {
   "cell_type": "code",
   "execution_count": 2,
   "metadata": {
    "collapsed": false
   },
   "outputs": [],
   "source": [
    "ggplot_theme = gp.theme_seaborn(context='poster')\n",
    "\n",
    "color_list = [\"#FF0000\",\"#0000FF\",\"#00FF00\",\"#000000\"]\n",
    "\n",
    "manual_color_scale = gp.scale_color_manual(values=color_list)\n",
    "\n",
    "# site_cmap =     {\"KG\": \"#FF0000\",\n",
    "#                  \"OT\": \"#000000\",\n",
    "#                  \"MS\": \"#0000FF\",\n",
    "#                  \"NB\": \"#00FF00\"}\n",
    "\n",
    "\n"
   ]
  },
  {
   "cell_type": "markdown",
   "metadata": {},
   "source": [
    "# Code to manage loading the data into a dataframe"
   ]
  },
  {
   "cell_type": "code",
   "execution_count": 3,
   "metadata": {
    "collapsed": true
   },
   "outputs": [],
   "source": [
    "def gather(df, key, value, cols):\n",
    "    id_vars = [col for col in df.columns if col not in cols]\n",
    "    id_values = cols\n",
    "    var_name = key\n",
    "    value_name = value\n",
    "    return pd.melt(df, id_vars, id_values, var_name, value_name)\n",
    "\n",
    "def recode_column(column_name):\n",
    "    \n",
    "    if isinstance(column_name,int):\n",
    "        i = column_name + 1\n",
    "        return \"Factor {i}\".format(i=i)\n",
    "    \n",
    "    if column_name.upper() == \"INDEX\":\n",
    "        return \"sample\"\n",
    "    \n",
    "def load_scores(pcadapt_scores_path, vcf_path):\n",
    "    vcf_reader = vcf.Reader(open(vcf_path, 'r'))\n",
    "    indiv_names = vcf_reader.samples\n",
    "    \n",
    "    df = pd.read_table(filepath_or_buffer=pcadapt_scores_path, sep='\\s', \n",
    "                                             header=None, names=indiv_names,\n",
    "                                             engine='python').T.reset_index()\n",
    "    df = df.rename(columns=recode_column)\n",
    "    \n",
    "    return df\n",
    "\n",
    "def load_main(pcadapt_path):\n",
    "    \n",
    "    return pd.read_table(filepath_or_buffer=pcadapt_path, sep='\\t', engine='python').dropna(axis=1)\n",
    "\n",
    "def set_site_names(df):\n",
    "    re_site = re.compile('\\A\\D{,3}')\n",
    "    df[\"site\"] = df['sample'].apply(lambda indiv: re_site.findall(indiv)[0])\n",
    "    df.sort(columns='sample', inplace=True)\n",
    "    df.reset_index(inplace=True)\n",
    "    df[\"individuals\"] = df.index.values + 1\n",
    "\n",
    "    return df.drop([\"index\"], axis=1)"
   ]
  },
  {
   "cell_type": "markdown",
   "metadata": {},
   "source": [
    "# Load data "
   ]
  },
  {
   "cell_type": "code",
   "execution_count": 4,
   "metadata": {
    "collapsed": true
   },
   "outputs": [],
   "source": [
    "# Paths\n",
    "vcf_path1 = \"/home/gus/remote_mounts/louise/data/genomes/glossina_fuscipes/annotations/SNPs/vcftools_out/ddrad58_populations/individuals/tsetseFINAL_14Oct2014_f2_53.recode.renamed_scaffolds.maf0_05.OT_MS_NB_indv.recode.vcf\"\n",
    "vcf_path2 = \"/home/gus/remote_mounts/louise/data/genomes/glossina_fuscipes/annotations/SNPs/tsetseFINAL_14Oct2014_f2_53.recode.renamed_scaffolds.maf0_05.recode.vcf\"\n",
    "\n",
    "data1 = \"/home/gus/remote_mounts/louise/data/genomes/glossina_fuscipes/annotations/SNPs/vcftools_out/ddrad58_populations/individuals/PCAdapt/results/PCAdapt_s1000_b500_k2.scores\"\n",
    "data2 = \"/home/gus/remote_mounts/louise/data/genomes/glossina_fuscipes/annotations/SNPs/pcadapt_4pops/PCAdapt_4pops_s1000_b500_k2.scores\"\n"
   ]
  },
  {
   "cell_type": "code",
   "execution_count": 5,
   "metadata": {
    "collapsed": false
   },
   "outputs": [],
   "source": [
    "# load files\n",
    "PCAdapt_s1000_b500_k2_scores = load_scores(pcadapt_scores_path=data1,\n",
    "                                           vcf_path=vcf_path1)\n",
    "\n",
    "PCAdapt_4pops_s1000_b500_k2_scores = load_scores(pcadapt_scores_path=data2,\n",
    "                                           vcf_path=vcf_path2)\n"
   ]
  },
  {
   "cell_type": "code",
   "execution_count": 6,
   "metadata": {
    "collapsed": false
   },
   "outputs": [],
   "source": [
    "PCAdapt_s1000_b500_k2_scores = set_site_names(PCAdapt_s1000_b500_k2_scores)\n",
    "PCAdapt_4pops_s1000_b500_k2_scores = set_site_names(PCAdapt_4pops_s1000_b500_k2_scores)"
   ]
  },
  {
   "cell_type": "markdown",
   "metadata": {},
   "source": [
    "# One data set has a subset of the other's members for `site`"
   ]
  },
  {
   "cell_type": "code",
   "execution_count": 7,
   "metadata": {
    "collapsed": false
   },
   "outputs": [
    {
     "data": {
      "text/plain": [
       "array(['MS', 'NB', 'OT'], dtype=object)"
      ]
     },
     "execution_count": 7,
     "metadata": {},
     "output_type": "execute_result"
    }
   ],
   "source": [
    "PCAdapt_s1000_b500_k2_scores.site.unique()"
   ]
  },
  {
   "cell_type": "code",
   "execution_count": 8,
   "metadata": {
    "collapsed": false
   },
   "outputs": [
    {
     "data": {
      "text/plain": [
       "array(['KG', 'MS', 'NB', 'OT'], dtype=object)"
      ]
     },
     "execution_count": 8,
     "metadata": {},
     "output_type": "execute_result"
    }
   ],
   "source": [
    "PCAdapt_4pops_s1000_b500_k2_scores.site.unique()"
   ]
  },
  {
   "cell_type": "markdown",
   "metadata": {},
   "source": [
    "# Begin plotting examples "
   ]
  },
  {
   "cell_type": "code",
   "execution_count": 9,
   "metadata": {
    "collapsed": false
   },
   "outputs": [
    {
     "data": {
      "text/html": [
       "<div>\n",
       "<table border=\"1\" class=\"dataframe\">\n",
       "  <thead>\n",
       "    <tr style=\"text-align: right;\">\n",
       "      <th></th>\n",
       "      <th>sample</th>\n",
       "      <th>Factor 1</th>\n",
       "      <th>Factor 2</th>\n",
       "      <th>site</th>\n",
       "      <th>individuals</th>\n",
       "    </tr>\n",
       "  </thead>\n",
       "  <tbody>\n",
       "    <tr>\n",
       "      <th>0</th>\n",
       "      <td>MS11_0001</td>\n",
       "      <td>13.808313</td>\n",
       "      <td>61.877835</td>\n",
       "      <td>MS</td>\n",
       "      <td>1</td>\n",
       "    </tr>\n",
       "    <tr>\n",
       "      <th>1</th>\n",
       "      <td>MS11_0004</td>\n",
       "      <td>13.751304</td>\n",
       "      <td>65.369328</td>\n",
       "      <td>MS</td>\n",
       "      <td>2</td>\n",
       "    </tr>\n",
       "    <tr>\n",
       "      <th>2</th>\n",
       "      <td>MS11_0006</td>\n",
       "      <td>13.425393</td>\n",
       "      <td>58.713486</td>\n",
       "      <td>MS</td>\n",
       "      <td>3</td>\n",
       "    </tr>\n",
       "    <tr>\n",
       "      <th>3</th>\n",
       "      <td>MS11_0012</td>\n",
       "      <td>-3.309295</td>\n",
       "      <td>69.138657</td>\n",
       "      <td>MS</td>\n",
       "      <td>4</td>\n",
       "    </tr>\n",
       "    <tr>\n",
       "      <th>4</th>\n",
       "      <td>MS11_0013</td>\n",
       "      <td>-6.628464</td>\n",
       "      <td>81.270891</td>\n",
       "      <td>MS</td>\n",
       "      <td>5</td>\n",
       "    </tr>\n",
       "  </tbody>\n",
       "</table>\n",
       "</div>"
      ],
      "text/plain": [
       "      sample   Factor 1   Factor 2 site  individuals\n",
       "0  MS11_0001  13.808313  61.877835   MS            1\n",
       "1  MS11_0004  13.751304  65.369328   MS            2\n",
       "2  MS11_0006  13.425393  58.713486   MS            3\n",
       "3  MS11_0012  -3.309295  69.138657   MS            4\n",
       "4  MS11_0013  -6.628464  81.270891   MS            5"
      ]
     },
     "execution_count": 9,
     "metadata": {},
     "output_type": "execute_result"
    }
   ],
   "source": [
    "PCAdapt_s1000_b500_k2_scores.head()"
   ]
  },
  {
   "cell_type": "markdown",
   "metadata": {},
   "source": [
    "# We plot one data set and get colors assigned"
   ]
  },
  {
   "cell_type": "code",
   "execution_count": 10,
   "metadata": {
    "collapsed": false
   },
   "outputs": [
    {
     "data": {
      "image/png": "[encoded data removed]",
      "text/plain": [
       "<matplotlib.figure.Figure at 0x7fd6f600b150>"
      ]
     },
     "metadata": {},
     "output_type": "display_data"
    },
    {
     "data": {
      "text/plain": [
       "<ggplot: (8785077412477)>"
      ]
     },
     "execution_count": 10,
     "metadata": {},
     "output_type": "execute_result"
    }
   ],
   "source": [
    "gp_factor1 = gp.ggplot(PCAdapt_s1000_b500_k2_scores, gp.aes('individuals', 'Factor 1', color='site')) \\\n",
    "    + gp.geom_point() \\\n",
    "    + ggplot_theme + manual_color_scale\n",
    "gp_factor1"
   ]
  },
  {
   "cell_type": "markdown",
   "metadata": {},
   "source": [
    "# We plot the other data set and get colors assigned"
   ]
  },
  {
   "cell_type": "code",
   "execution_count": 11,
   "metadata": {
    "collapsed": false
   },
   "outputs": [
    {
     "data": {
      "image/png": "[encoded data removed]",
      "text/plain": [
       "<matplotlib.figure.Figure at 0x7fd6f4afaad0>"
      ]
     },
     "metadata": {},
     "output_type": "display_data"
    },
    {
     "data": {
      "text/plain": [
       "<ggplot: (8785135373613)>"
      ]
     },
     "execution_count": 11,
     "metadata": {},
     "output_type": "execute_result"
    }
   ],
   "source": [
    "gp_factor1 = gp.ggplot(PCAdapt_4pops_s1000_b500_k2_scores, gp.aes('individuals', 'Factor 1', color='site')) \\\n",
    "    + gp.geom_point() \\\n",
    "    + ggplot_theme + manual_color_scale \n",
    "gp_factor1"
   ]
  },
  {
   "cell_type": "markdown",
   "metadata": {},
   "source": [
    "# Do you see the problem now?"
   ]
  },
  {
   "cell_type": "markdown",
   "metadata": {},
   "source": [
    "Now KG is red not MS.\n",
    "\n",
    "I want to be able to assign a color mapping so that MS is red no matter what.  Is this not possible?"
   ]
  },
  {
   "cell_type": "code",
   "execution_count": null,
   "metadata": {
    "collapsed": true
   },
   "outputs": [],
   "source": []
  }
 ],
 "metadata": {
  "kernelspec": {
   "display_name": "Python 2",
   "language": "python",
   "name": "python2"
  },
  "language_info": {
   "codemirror_mode": {
    "name": "ipython",
    "version": 2
   },
   "file_extension": ".py",
   "mimetype": "text/x-python",
   "name": "python",
   "nbconvert_exporter": "python",
   "pygments_lexer": "ipython2",
   "version": "2.7.9"
  }
 },
 "nbformat": 4,
 "nbformat_minor": 0
}
