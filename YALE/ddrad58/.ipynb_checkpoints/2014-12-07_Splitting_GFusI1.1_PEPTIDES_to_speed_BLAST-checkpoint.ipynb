{
 "cells": [
  {
   "cell_type": "markdown",
   "metadata": {},
   "source": [
    "# Purpose:\n",
    "Allow the blastp search of the swissprot db to be run in parallel"
   ]
  },
  {
   "cell_type": "markdown",
   "metadata": {},
   "source": [
    "# Lets go"
   ]
  },
  {
   "cell_type": "code",
   "execution_count": 1,
   "metadata": {
    "collapsed": true
   },
   "outputs": [],
   "source": [
    "from spartan.utils.fastas import divide_fasta_file"
   ]
  },
  {
   "cell_type": "code",
   "execution_count": 2,
   "metadata": {
    "collapsed": true
   },
   "outputs": [],
   "source": [
    "base_pep_path = \"/home/gus/remote_mounts/louise/data/genomes/glossina_fuscipes/annotations/seqs\"\n",
    "pep_in_path = base_pep_path + \"/Glossina-fuscipes-IAEA_PEPTIDES_GfusI1.1.fa\"\n"
   ]
  },
  {
   "cell_type": "code",
   "execution_count": 8,
   "metadata": {
    "collapsed": false
   },
   "outputs": [
    {
     "name": "stdout",
     "output_type": "stream",
     "text": [
      ">GFUI000002-PA  hypothetical protein|protein_coding|JFJR01006593:59451-71732:1|gene:GFUI000002\r\n",
      "MPFWIRNVAGNMFYACILSMLVVHQINASLVPVPGPTEDNVSTQLPDDVVANEARGVNQA\r\n",
      "EVSLTNLLGHTALLTTATTGPLVNLTRQHDGDIFWANGLTTCNMDTCVGLSSGTASWLSL\r\n",
      "GVDKNECTLSPFVSGSSKEKIPFVFLPLRGQIIYPSREINFPDIRTPVCAVTGAQYLTTN\r\n",
      "GWSDLRNPIDNDYPFRMFRDEGRTFLQWLGEPDLRHKMQGRLIVVHLVCRDMSLALNATN\r\n",
      "IGLSSSDHIMPPKNVFSPCVAFRVNGSPVKYANNVSEVLFQSEATTTLASTSDGMSTKEY\r\n",
      "IVIGICSLLLGLIYVSSVFLYLHMKKRKSRDQHHMRNSLDDLTNEINYPKNDQVTFGAPF\r\n",
      "ARSGSLYSGGSLTTSNEPRSRASLSSLKEEMGIVKNNPLLQHFPQLSDHHSGFASDISNS\r\n",
      "ASECEMDGGYHDKFKQMQTNVIVHPQMVCSKVDCPPKVSGYVNTASQHQIMKEEDCPETT\r\n",
      "NSSTQENECLPIENVAIIEDMMTEEKLENLRAMVNGNVRKKLYFNPAYFEPHLLAQPPPA\r\n"
     ]
    }
   ],
   "source": [
    "!head $pep_in_path"
   ]
  },
  {
   "cell_type": "code",
   "execution_count": 4,
   "metadata": {
    "collapsed": false
   },
   "outputs": [],
   "source": [
    "out_paths = divide_fasta_file(fasta_path=pep_in_path, divide_by=4, out_path_base=None)"
   ]
  },
  {
   "cell_type": "code",
   "execution_count": 6,
   "metadata": {
    "collapsed": false
   },
   "outputs": [
    {
     "name": "stdout",
     "output_type": "stream",
     "text": [
      "/home/gus/remote_mounts/louise/data/genomes/glossina_fuscipes/annotations/seqs/Glossina-fuscipes-IAEA_PEPTIDES_GfusI1.1.0.fa\n",
      "/home/gus/remote_mounts/louise/data/genomes/glossina_fuscipes/annotations/seqs/Glossina-fuscipes-IAEA_PEPTIDES_GfusI1.1.5816.fa\n",
      "/home/gus/remote_mounts/louise/data/genomes/glossina_fuscipes/annotations/seqs/Glossina-fuscipes-IAEA_PEPTIDES_GfusI1.1.11632.fa\n",
      "/home/gus/remote_mounts/louise/data/genomes/glossina_fuscipes/annotations/seqs/Glossina-fuscipes-IAEA_PEPTIDES_GfusI1.1.17448.fa\n"
     ]
    }
   ],
   "source": [
    "for p in out_paths:\n",
    "    print p"
   ]
  },
  {
   "cell_type": "code",
   "execution_count": 7,
   "metadata": {
    "collapsed": false
   },
   "outputs": [
    {
     "name": "stdout",
     "output_type": "stream",
     "text": [
      ">GFUI033881-PA\r\n",
      "MLPRLISRDSDMSDTESEPGLPLKRKQRRSRTTFTADQLEALERAFARTQYPDVFTREELAQSTQLTEARIQVWFSNRRARLRKHSGGGGMSATVNVSGI\r\n",
      "SSATTSAGGPAGTGALGFGSLTMGPMGYSPAAGTTASSTVINDQHSVHAAAAAAAAAVHHPAHHHHHHHHHPHHSQMGSYDLMAAQSAHPSFPSSFHNSH\r\n",
      "FSSQNYYHQDYSKLSIDDFSKLTAESVSKISPSLHLSDNYAKLDATTNWSQAAAYQTAAAAANYNAAAVAHHAHHSTSASTQHPLNEYASGTAVTHNNQL\r\n",
      "STTSVAAAAAYQHPLSAQADTKYWS\r\n",
      ">GFUI030531-PA\r\n",
      "MSTIIGLADLAEDEIIASNILPLNITLENVRINLIEDRPPVNITSPGPVPLNLAIGRMHVKRDKNGILHIQPIETNLNEMAASSYPLTAALFKQPDTIQR\r\n",
      "ERERDRELLSLQLIMQQIKLENDNLRKQLQNAKDNSENYRQKTKQESDTLRSYLKAAQDEINMLVEENKALVDNIRSLKLQETTLNVTKKTEGNNRNILQ\r\n",
      "FMYKQRKKFLHCGTTEEILYIS\r\n",
      ">GFUI028331-PA\r\n"
     ]
    }
   ],
   "source": [
    "!head /home/gus/remote_mounts/louise/data/genomes/glossina_fuscipes/annotations/seqs/Glossina-fuscipes-IAEA_PEPTIDES_GfusI1.1.0.fa"
   ]
  },
  {
   "cell_type": "markdown",
   "metadata": {},
   "source": [
    "# Next Steps\n",
    "These files will be sent through the qsub system to be blasted against swissprot proteins for the purpose of generating input to http://www.medcomp.medicina.unipd.it/Argot2/ to generate a functional annotation of the currently annotated GfusI1.1 gene-models (pre-release vectorbase GfusI1.1)."
   ]
  }
 ],
 "metadata": {
  "kernelspec": {
   "display_name": "IPython (Python 2)",
   "name": "python2"
  },
  "language_info": {
   "codemirror_mode": {
    "name": "ipython",
    "version": 2
   },
   "mimetype": "text/x-python",
   "name": "python",
   "pygments_lexer": "ipython2"
  },
  "signature": "sha256:eaa87fb94850ae2f0a6a65bce47c11bc531ab0084cd47164e5e5b4573618bccd"
 },
 "nbformat": 4,
 "nbformat_minor": 0
}