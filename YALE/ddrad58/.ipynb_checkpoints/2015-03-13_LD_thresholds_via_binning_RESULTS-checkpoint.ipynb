{
 "cells": [
  {
   "cell_type": "markdown",
   "metadata": {},
   "source": [
    "# Purpose:\n",
    "\n",
    "2015-03-13 (Friday)\n",
    "\n",
    "Explore and characterize the results of the learned Beta filter method."
   ]
  },
  {
   "cell_type": "markdown",
   "metadata": {},
   "source": [
    "# Implementation:"
   ]
  },
  {
   "cell_type": "markdown",
   "metadata": {},
   "source": [
    "## Imports:"
   ]
  },
  {
   "cell_type": "code",
   "execution_count": 29,
   "metadata": {
    "collapsed": true
   },
   "outputs": [],
   "source": [
    "%matplotlib inline\n",
    "import matplotlib.pyplot as plt\n",
    "import seaborn as sns\n",
    "import ggplot as gp\n",
    "\n",
    "\n",
    "import numpy as np\n",
    "import pandas as pd\n",
    "# import tables as h5\n",
    "\n",
    "import itertools as it\n",
    "from collections import defaultdict\n",
    "\n",
    "import numpy as np\n",
    "import pandas as pd\n",
    "import scipy\n",
    "from scikits import bootstrap as bs\n",
    "import statsmodels.api as sm\n",
    "import statsmodels.stats.multitest as smm\n",
    "\n",
    "import munch\n",
    "\n",
    "import pymc as mc\n",
    "\n",
    "from spartan.utils.genome_specific.GfusI1 import GfusI1_0\n",
    "from spartan.utils.fastas import ParseFastA"
   ]
  },
  {
   "cell_type": "code",
   "execution_count": 3,
   "metadata": {
    "collapsed": true
   },
   "outputs": [],
   "source": [
    "# set figure characteristics\n",
    "\n",
    "# size\n",
    "sns.set_context(\"talk\")\n",
    "\n",
    "# style\n",
    "sns.set_style(\"whitegrid\")"
   ]
  },
  {
   "cell_type": "markdown",
   "metadata": {},
   "source": [
    "## File paths:"
   ]
  },
  {
   "cell_type": "code",
   "execution_count": 34,
   "metadata": {
    "collapsed": true
   },
   "outputs": [],
   "source": [
    "# define paths to files\n",
    "\n",
    "fasta_path = \"/home/gus/remote_mounts/louise/data/genomes/glossina_fuscipes/assemblies/GfusI1/Glossina-fuscipes-IAEA_SCAFFOLDS_GfusI1.fa\"\n",
    "contig_name_length_path = \"/home/gus/Dropbox/uganda_data/data_repos/genome_info/assembly_info/contig_name_length.csv\"\n",
    "\n",
    "ld_results_pickle=\"/home/gus/Documents/YalePostDoc/project_stuff/g_f_fucipes_uganda/ddrad58/ld_thresholds/post_MAP_calc.plk\"\n",
    "tajimas_csv = \"/home/gus/Documents/YalePostDoc/project_stuff/g_f_fucipes_uganda/ddrad58/data_from_andrea/Tajima50.csv\""
   ]
  },
  {
   "cell_type": "markdown",
   "metadata": {},
   "source": [
    "# Record some info about the contigs once and for all"
   ]
  },
  {
   "cell_type": "code",
   "execution_count": 30,
   "metadata": {
    "collapsed": true
   },
   "outputs": [],
   "source": [
    "# contig_name_map = GfusI1_0.get_name_map_from_fasta_headers(fasta_path)"
   ]
  },
  {
   "cell_type": "code",
   "execution_count": 33,
   "metadata": {
    "collapsed": true
   },
   "outputs": [],
   "source": [
    "# contig_lengths = {}\n",
    "# contigs = ParseFastA(fasta_path).to_dict()\n",
    "# for name,seq in contigs.iteritems():\n",
    "#     contig_lengths[name] = len(seq)"
   ]
  },
  {
   "cell_type": "code",
   "execution_count": 35,
   "metadata": {
    "collapsed": false
   },
   "outputs": [],
   "source": [
    "# # record both names and the length\n",
    "\n",
    "# with open(contig_name_length_path,'w') as out:\n",
    "#     template = \"{kk_name},{scaf_name},{length}\\n\"\n",
    "#     out.write(template.format(kk_name=\"kk_name\",scaf_name=\"scaf_name\",length=\"length\"))\n",
    "    \n",
    "#     for kk_name, length in contig_lengths.iteritems():\n",
    "#         out.write(template.format(kk_name=kk_name,\n",
    "#                                   scaf_name=contig_name_map[kk_name],\n",
    "#                                   length=length))\n",
    "    "
   ]
  },
  {
   "cell_type": "markdown",
   "metadata": {},
   "source": [
    "# Helper functions"
   ]
  },
  {
   "cell_type": "code",
   "execution_count": 41,
   "metadata": {
    "collapsed": true
   },
   "outputs": [],
   "source": [
    "def plot_bin_dists(df, bin_def=\"distance_bin <= 500\"):\n",
    "    plt.rcParams['figure.figsize'] = np.array([16, 12]) * 0.65\n",
    "\n",
    "    p = gp.ggplot(gp.aes(x='R2'), data=df.query(bin_def))\n",
    "    p = p + gp.geom_histogram(fill='coral') + \\\n",
    "        gp.facet_wrap(\"distance_bin\") + \\\n",
    "        gp.theme_seaborn(context='talk') + gp.ggtitle(bin_def)\n",
    "    \n",
    "    return p\n",
    "\n",
    "###########################\n",
    "\n",
    "def recode_taj_chrom(df):\n",
    "    recode_func = lambda x: x.split(':')[-1]\n",
    "\n",
    "    CHROM = df.CHROM.apply(recode_func)\n",
    "    df.CHROM = CHROM"
   ]
  },
  {
   "cell_type": "markdown",
   "metadata": {},
   "source": [
    "# Data exploration"
   ]
  },
  {
   "cell_type": "code",
   "execution_count": 37,
   "metadata": {
    "collapsed": false
   },
   "outputs": [
    {
     "data": {
      "text/html": [
       "<div style=\"max-height:1000px;max-width:1500px;overflow:auto;\">\n",
       "<table border=\"1\" class=\"dataframe\">\n",
       "  <thead>\n",
       "    <tr style=\"text-align: right;\">\n",
       "      <th></th>\n",
       "      <th>CHR_A</th>\n",
       "      <th>BP_A</th>\n",
       "      <th>SNP_A</th>\n",
       "      <th>MAF_A</th>\n",
       "      <th>CHR_B</th>\n",
       "      <th>BP_B</th>\n",
       "      <th>SNP_B</th>\n",
       "      <th>MAF_B</th>\n",
       "      <th>R</th>\n",
       "      <th>DP</th>\n",
       "      <th>...</th>\n",
       "      <th>distance_bin</th>\n",
       "      <th>distance_bin_mean_R2</th>\n",
       "      <th>distance_bin_median_R2</th>\n",
       "      <th>R2_scaled_for_B</th>\n",
       "      <th>alpha_param</th>\n",
       "      <th>beta_param</th>\n",
       "      <th>cdf</th>\n",
       "      <th>one_minus_cdf</th>\n",
       "      <th>one_minus_cdf_BH</th>\n",
       "      <th>MAP_succeeded</th>\n",
       "    </tr>\n",
       "  </thead>\n",
       "  <tbody>\n",
       "    <tr>\n",
       "      <th>0</th>\n",
       "      <td> Scaffold0</td>\n",
       "      <td> 13388</td>\n",
       "      <td> .</td>\n",
       "      <td> 0.278846</td>\n",
       "      <td> Scaffold0</td>\n",
       "      <td> 23408</td>\n",
       "      <td> .</td>\n",
       "      <td> 0.298077</td>\n",
       "      <td> 1.000000</td>\n",
       "      <td> 1</td>\n",
       "      <td>...</td>\n",
       "      <td> 10000</td>\n",
       "      <td> 0.114350</td>\n",
       "      <td> 0.035591</td>\n",
       "      <td> 0.999500</td>\n",
       "      <td>NaN</td>\n",
       "      <td>NaN</td>\n",
       "      <td> 1.000000</td>\n",
       "      <td> 0.000000</td>\n",
       "      <td> 0.000017</td>\n",
       "      <td> False</td>\n",
       "    </tr>\n",
       "    <tr>\n",
       "      <th>1</th>\n",
       "      <td> Scaffold0</td>\n",
       "      <td> 13388</td>\n",
       "      <td> .</td>\n",
       "      <td> 0.278846</td>\n",
       "      <td> Scaffold0</td>\n",
       "      <td> 23418</td>\n",
       "      <td> .</td>\n",
       "      <td> 0.298077</td>\n",
       "      <td> 1.000000</td>\n",
       "      <td> 1</td>\n",
       "      <td>...</td>\n",
       "      <td> 10000</td>\n",
       "      <td> 0.114350</td>\n",
       "      <td> 0.035591</td>\n",
       "      <td> 0.999500</td>\n",
       "      <td>NaN</td>\n",
       "      <td>NaN</td>\n",
       "      <td> 1.000000</td>\n",
       "      <td> 0.000000</td>\n",
       "      <td> 0.000017</td>\n",
       "      <td> False</td>\n",
       "    </tr>\n",
       "    <tr>\n",
       "      <th>2</th>\n",
       "      <td> Scaffold0</td>\n",
       "      <td> 13388</td>\n",
       "      <td> .</td>\n",
       "      <td> 0.278846</td>\n",
       "      <td> Scaffold0</td>\n",
       "      <td> 23421</td>\n",
       "      <td> .</td>\n",
       "      <td> 0.298077</td>\n",
       "      <td> 1.000000</td>\n",
       "      <td> 1</td>\n",
       "      <td>...</td>\n",
       "      <td> 10000</td>\n",
       "      <td> 0.114350</td>\n",
       "      <td> 0.035591</td>\n",
       "      <td> 0.999500</td>\n",
       "      <td>NaN</td>\n",
       "      <td>NaN</td>\n",
       "      <td> 1.000000</td>\n",
       "      <td> 0.000000</td>\n",
       "      <td> 0.000017</td>\n",
       "      <td> False</td>\n",
       "    </tr>\n",
       "    <tr>\n",
       "      <th>3</th>\n",
       "      <td> Scaffold0</td>\n",
       "      <td> 13388</td>\n",
       "      <td> .</td>\n",
       "      <td> 0.278846</td>\n",
       "      <td> Scaffold0</td>\n",
       "      <td> 23431</td>\n",
       "      <td> .</td>\n",
       "      <td> 0.288462</td>\n",
       "      <td> 0.975946</td>\n",
       "      <td> 1</td>\n",
       "      <td>...</td>\n",
       "      <td> 10000</td>\n",
       "      <td> 0.114350</td>\n",
       "      <td> 0.035591</td>\n",
       "      <td> 0.952018</td>\n",
       "      <td>NaN</td>\n",
       "      <td>NaN</td>\n",
       "      <td> 0.999063</td>\n",
       "      <td> 0.000937</td>\n",
       "      <td> 0.073542</td>\n",
       "      <td> False</td>\n",
       "    </tr>\n",
       "    <tr>\n",
       "      <th>4</th>\n",
       "      <td> Scaffold0</td>\n",
       "      <td> 13388</td>\n",
       "      <td> .</td>\n",
       "      <td> 0.278846</td>\n",
       "      <td> Scaffold0</td>\n",
       "      <td> 30544</td>\n",
       "      <td> .</td>\n",
       "      <td> 0.094340</td>\n",
       "      <td> 0.464238</td>\n",
       "      <td> 1</td>\n",
       "      <td>...</td>\n",
       "      <td> 17150</td>\n",
       "      <td> 0.101013</td>\n",
       "      <td> 0.041075</td>\n",
       "      <td> 0.215801</td>\n",
       "      <td>NaN</td>\n",
       "      <td>NaN</td>\n",
       "      <td> 0.745361</td>\n",
       "      <td> 0.254639</td>\n",
       "      <td> 0.912914</td>\n",
       "      <td> False</td>\n",
       "    </tr>\n",
       "  </tbody>\n",
       "</table>\n",
       "<p>5 rows × 22 columns</p>\n",
       "</div>"
      ],
      "text/plain": [
       "       CHR_A   BP_A SNP_A     MAF_A      CHR_B   BP_B SNP_B     MAF_B  \\\n",
       "0  Scaffold0  13388     .  0.278846  Scaffold0  23408     .  0.298077   \n",
       "1  Scaffold0  13388     .  0.278846  Scaffold0  23418     .  0.298077   \n",
       "2  Scaffold0  13388     .  0.278846  Scaffold0  23421     .  0.298077   \n",
       "3  Scaffold0  13388     .  0.278846  Scaffold0  23431     .  0.288462   \n",
       "4  Scaffold0  13388     .  0.278846  Scaffold0  30544     .  0.094340   \n",
       "\n",
       "          R  DP      ...        distance_bin  distance_bin_mean_R2  \\\n",
       "0  1.000000   1      ...               10000              0.114350   \n",
       "1  1.000000   1      ...               10000              0.114350   \n",
       "2  1.000000   1      ...               10000              0.114350   \n",
       "3  0.975946   1      ...               10000              0.114350   \n",
       "4  0.464238   1      ...               17150              0.101013   \n",
       "\n",
       "   distance_bin_median_R2  R2_scaled_for_B  alpha_param  beta_param       cdf  \\\n",
       "0                0.035591         0.999500          NaN         NaN  1.000000   \n",
       "1                0.035591         0.999500          NaN         NaN  1.000000   \n",
       "2                0.035591         0.999500          NaN         NaN  1.000000   \n",
       "3                0.035591         0.952018          NaN         NaN  0.999063   \n",
       "4                0.041075         0.215801          NaN         NaN  0.745361   \n",
       "\n",
       "   one_minus_cdf  one_minus_cdf_BH  MAP_succeeded  \n",
       "0       0.000000          0.000017          False  \n",
       "1       0.000000          0.000017          False  \n",
       "2       0.000000          0.000017          False  \n",
       "3       0.000937          0.073542          False  \n",
       "4       0.254639          0.912914          False  \n",
       "\n",
       "[5 rows x 22 columns]"
      ]
     },
     "execution_count": 37,
     "metadata": {},
     "output_type": "execute_result"
    }
   ],
   "source": [
    "# load our results tables\n",
    "ld = pd.read_pickle(ld_results_pickle)\n",
    "ld.head()"
   ]
  },
  {
   "cell_type": "code",
   "execution_count": 36,
   "metadata": {
    "collapsed": false
   },
   "outputs": [
    {
     "data": {
      "text/html": [
       "<div style=\"max-height:1000px;max-width:1500px;overflow:auto;\">\n",
       "<table border=\"1\" class=\"dataframe\">\n",
       "  <thead>\n",
       "    <tr style=\"text-align: right;\">\n",
       "      <th></th>\n",
       "      <th>kk_name</th>\n",
       "      <th>scaf_name</th>\n",
       "      <th>length</th>\n",
       "    </tr>\n",
       "  </thead>\n",
       "  <tbody>\n",
       "    <tr>\n",
       "      <th>0</th>\n",
       "      <td>     KK352346.1</td>\n",
       "      <td>    Scaffold566</td>\n",
       "      <td> 193315</td>\n",
       "    </tr>\n",
       "    <tr>\n",
       "      <th>1</th>\n",
       "      <td>     KK352610.1</td>\n",
       "      <td>    Scaffold839</td>\n",
       "      <td>  83110</td>\n",
       "    </tr>\n",
       "    <tr>\n",
       "      <th>2</th>\n",
       "      <td>     KK352241.1</td>\n",
       "      <td>    Scaffold458</td>\n",
       "      <td> 243873</td>\n",
       "    </tr>\n",
       "    <tr>\n",
       "      <th>3</th>\n",
       "      <td> JFJR01012964.1</td>\n",
       "      <td> JFJR01012964.1</td>\n",
       "      <td>   3083</td>\n",
       "    </tr>\n",
       "    <tr>\n",
       "      <th>4</th>\n",
       "      <td>     KK352052.1</td>\n",
       "      <td>    Scaffold268</td>\n",
       "      <td> 427914</td>\n",
       "    </tr>\n",
       "  </tbody>\n",
       "</table>\n",
       "</div>"
      ],
      "text/plain": [
       "          kk_name       scaf_name  length\n",
       "0      KK352346.1     Scaffold566  193315\n",
       "1      KK352610.1     Scaffold839   83110\n",
       "2      KK352241.1     Scaffold458  243873\n",
       "3  JFJR01012964.1  JFJR01012964.1    3083\n",
       "4      KK352052.1     Scaffold268  427914"
      ]
     },
     "execution_count": 36,
     "metadata": {},
     "output_type": "execute_result"
    }
   ],
   "source": [
    "contig_info = pd.read_csv(contig_name_length_path)\n",
    "contig_info.head()"
   ]
  },
  {
   "cell_type": "code",
   "execution_count": 38,
   "metadata": {
    "collapsed": false,
    "scrolled": true
   },
   "outputs": [
    {
     "data": {
      "text/html": [
       "<div style=\"max-height:1000px;max-width:1500px;overflow:auto;\">\n",
       "<table border=\"1\" class=\"dataframe\">\n",
       "  <thead>\n",
       "    <tr style=\"text-align: right;\">\n",
       "      <th></th>\n",
       "      <th>CHROM</th>\n",
       "      <th>BIN_start</th>\n",
       "      <th>N_SNPs</th>\n",
       "      <th>TajimaD</th>\n",
       "    </tr>\n",
       "  </thead>\n",
       "  <tbody>\n",
       "    <tr>\n",
       "      <th>202  </th>\n",
       "      <td> GFvariants_VB2014a_tvcf:KK351785.1</td>\n",
       "      <td>  23400</td>\n",
       "      <td> 4</td>\n",
       "      <td> 2.35852</td>\n",
       "    </tr>\n",
       "    <tr>\n",
       "      <th>8242 </th>\n",
       "      <td> GFvariants_VB2014a_tvcf:KK351785.1</td>\n",
       "      <td> 425400</td>\n",
       "      <td> 3</td>\n",
       "      <td> 2.31422</td>\n",
       "    </tr>\n",
       "    <tr>\n",
       "      <th>66484</th>\n",
       "      <td> GFvariants_VB2014a_tvcf:KK351787.1</td>\n",
       "      <td>  68900</td>\n",
       "      <td> 2</td>\n",
       "      <td> 2.20911</td>\n",
       "    </tr>\n",
       "    <tr>\n",
       "      <th>67161</th>\n",
       "      <td> GFvariants_VB2014a_tvcf:KK351787.1</td>\n",
       "      <td> 102750</td>\n",
       "      <td> 4</td>\n",
       "      <td> 2.90971</td>\n",
       "    </tr>\n",
       "    <tr>\n",
       "      <th>67278</th>\n",
       "      <td> GFvariants_VB2014a_tvcf:KK351787.1</td>\n",
       "      <td> 108600</td>\n",
       "      <td> 2</td>\n",
       "      <td> 2.08884</td>\n",
       "    </tr>\n",
       "  </tbody>\n",
       "</table>\n",
       "</div>"
      ],
      "text/plain": [
       "                                    CHROM  BIN_start  N_SNPs  TajimaD\n",
       "202    GFvariants_VB2014a_tvcf:KK351785.1      23400       4  2.35852\n",
       "8242   GFvariants_VB2014a_tvcf:KK351785.1     425400       3  2.31422\n",
       "66484  GFvariants_VB2014a_tvcf:KK351787.1      68900       2  2.20911\n",
       "67161  GFvariants_VB2014a_tvcf:KK351787.1     102750       4  2.90971\n",
       "67278  GFvariants_VB2014a_tvcf:KK351787.1     108600       2  2.08884"
      ]
     },
     "execution_count": 38,
     "metadata": {},
     "output_type": "execute_result"
    }
   ],
   "source": [
    "taj50 = pd.read_csv(tajimas_csv, sep='\\t')\n",
    "taj50.head()"
   ]
  },
  {
   "cell_type": "code",
   "execution_count": 42,
   "metadata": {
    "collapsed": false
   },
   "outputs": [
    {
     "data": {
      "text/html": [
       "<div style=\"max-height:1000px;max-width:1500px;overflow:auto;\">\n",
       "<table border=\"1\" class=\"dataframe\">\n",
       "  <thead>\n",
       "    <tr style=\"text-align: right;\">\n",
       "      <th></th>\n",
       "      <th>CHROM</th>\n",
       "      <th>BIN_start</th>\n",
       "      <th>N_SNPs</th>\n",
       "      <th>TajimaD</th>\n",
       "    </tr>\n",
       "  </thead>\n",
       "  <tbody>\n",
       "    <tr>\n",
       "      <th>202  </th>\n",
       "      <td> KK351785.1</td>\n",
       "      <td>  23400</td>\n",
       "      <td> 4</td>\n",
       "      <td> 2.35852</td>\n",
       "    </tr>\n",
       "    <tr>\n",
       "      <th>8242 </th>\n",
       "      <td> KK351785.1</td>\n",
       "      <td> 425400</td>\n",
       "      <td> 3</td>\n",
       "      <td> 2.31422</td>\n",
       "    </tr>\n",
       "    <tr>\n",
       "      <th>66484</th>\n",
       "      <td> KK351787.1</td>\n",
       "      <td>  68900</td>\n",
       "      <td> 2</td>\n",
       "      <td> 2.20911</td>\n",
       "    </tr>\n",
       "    <tr>\n",
       "      <th>67161</th>\n",
       "      <td> KK351787.1</td>\n",
       "      <td> 102750</td>\n",
       "      <td> 4</td>\n",
       "      <td> 2.90971</td>\n",
       "    </tr>\n",
       "    <tr>\n",
       "      <th>67278</th>\n",
       "      <td> KK351787.1</td>\n",
       "      <td> 108600</td>\n",
       "      <td> 2</td>\n",
       "      <td> 2.08884</td>\n",
       "    </tr>\n",
       "  </tbody>\n",
       "</table>\n",
       "</div>"
      ],
      "text/plain": [
       "            CHROM  BIN_start  N_SNPs  TajimaD\n",
       "202    KK351785.1      23400       4  2.35852\n",
       "8242   KK351785.1     425400       3  2.31422\n",
       "66484  KK351787.1      68900       2  2.20911\n",
       "67161  KK351787.1     102750       4  2.90971\n",
       "67278  KK351787.1     108600       2  2.08884"
      ]
     },
     "execution_count": 42,
     "metadata": {},
     "output_type": "execute_result"
    }
   ],
   "source": [
    "recode_taj_chrom(taj50)\n",
    "taj50.head()"
   ]
  },
  {
   "cell_type": "markdown",
   "metadata": {},
   "source": [
    "## SNP-pairs in all bins at BH corrected $p \\le 0.01$"
   ]
  },
  {
   "cell_type": "code",
   "execution_count": 7,
   "metadata": {
    "collapsed": false
   },
   "outputs": [
    {
     "data": {
      "text/plain": [
       "5284"
      ]
     },
     "execution_count": 7,
     "metadata": {},
     "output_type": "execute_result"
    }
   ],
   "source": [
    "sum(ld.one_minus_cdf_BH <= 0.01)"
   ]
  },
  {
   "cell_type": "markdown",
   "metadata": {},
   "source": [
    "## SNP-pairs in all bins at BH corrected $p \\le 0.05$"
   ]
  },
  {
   "cell_type": "code",
   "execution_count": 8,
   "metadata": {
    "collapsed": false
   },
   "outputs": [
    {
     "data": {
      "text/plain": [
       "6735"
      ]
     },
     "execution_count": 8,
     "metadata": {},
     "output_type": "execute_result"
    }
   ],
   "source": [
    "sum(ld.one_minus_cdf_BH <= 0.05)"
   ]
  },
  {
   "cell_type": "markdown",
   "metadata": {},
   "source": [
    "## Lowest $r^2$ retained at  $p \\le 0.05$ or $0.01$"
   ]
  },
  {
   "cell_type": "code",
   "execution_count": 43,
   "metadata": {
    "collapsed": false
   },
   "outputs": [
    {
     "data": {
      "text/plain": [
       "0.82251114177599993"
      ]
     },
     "execution_count": 43,
     "metadata": {},
     "output_type": "execute_result"
    }
   ],
   "source": [
    "q_05 = ld.query(\"one_minus_cdf_BH <= 0.05\")\n",
    "q_01.R2.min()"
   ]
  },
  {
   "cell_type": "code",
   "execution_count": 11,
   "metadata": {
    "collapsed": false
   },
   "outputs": [
    {
     "data": {
      "text/plain": [
       "0.82251114177599993"
      ]
     },
     "execution_count": 11,
     "metadata": {},
     "output_type": "execute_result"
    }
   ],
   "source": [
    "q_01 = ld.query(\"one_minus_cdf_BH <= 0.01\")\n",
    "q_01.R2.min()"
   ]
  },
  {
   "cell_type": "markdown",
   "metadata": {},
   "source": [
    "## How many SNP-pairs have  $r^2 \\ge 0.82$?"
   ]
  },
  {
   "cell_type": "code",
   "execution_count": 12,
   "metadata": {
    "collapsed": false
   },
   "outputs": [
    {
     "data": {
      "text/plain": [
       "26495"
      ]
     },
     "execution_count": 12,
     "metadata": {},
     "output_type": "execute_result"
    }
   ],
   "source": [
    "sum(ld.R2 >= 0.82)"
   ]
  },
  {
   "cell_type": "code",
   "execution_count": 13,
   "metadata": {
    "collapsed": false
   },
   "outputs": [
    {
     "data": {
      "text/plain": [
       "0.8005661445555765"
      ]
     },
     "execution_count": 13,
     "metadata": {},
     "output_type": "execute_result"
    }
   ],
   "source": [
    "1-(5284.0/26495)"
   ]
  },
  {
   "cell_type": "markdown",
   "metadata": {},
   "source": [
    "## Characterization of contigs with/without regard to selected SNP-pairs"
   ]
  },
  {
   "cell_type": "code",
   "execution_count": 45,
   "metadata": {
    "collapsed": false
   },
   "outputs": [
    {
     "data": {
      "text/html": [
       "<div style=\"max-height:1000px;max-width:1500px;overflow:auto;\">\n",
       "<table border=\"1\" class=\"dataframe\">\n",
       "  <thead>\n",
       "    <tr style=\"text-align: right;\">\n",
       "      <th></th>\n",
       "      <th>CHR_A</th>\n",
       "      <th>BP_A</th>\n",
       "      <th>SNP_A</th>\n",
       "      <th>MAF_A</th>\n",
       "      <th>CHR_B</th>\n",
       "      <th>BP_B</th>\n",
       "      <th>SNP_B</th>\n",
       "      <th>MAF_B</th>\n",
       "      <th>R</th>\n",
       "      <th>DP</th>\n",
       "      <th>...</th>\n",
       "      <th>R2_scaled_for_B</th>\n",
       "      <th>alpha_param</th>\n",
       "      <th>beta_param</th>\n",
       "      <th>cdf</th>\n",
       "      <th>one_minus_cdf</th>\n",
       "      <th>one_minus_cdf_BH</th>\n",
       "      <th>MAP_succeeded</th>\n",
       "      <th>kk_name</th>\n",
       "      <th>scaf_name</th>\n",
       "      <th>length</th>\n",
       "    </tr>\n",
       "  </thead>\n",
       "  <tbody>\n",
       "    <tr>\n",
       "      <th>0</th>\n",
       "      <td> Scaffold0</td>\n",
       "      <td> 13388</td>\n",
       "      <td> .</td>\n",
       "      <td> 0.278846</td>\n",
       "      <td> Scaffold0</td>\n",
       "      <td> 23408</td>\n",
       "      <td> .</td>\n",
       "      <td> 0.298077</td>\n",
       "      <td> 1.000000</td>\n",
       "      <td> 1</td>\n",
       "      <td>...</td>\n",
       "      <td> 0.999500</td>\n",
       "      <td>NaN</td>\n",
       "      <td>NaN</td>\n",
       "      <td> 1.000000</td>\n",
       "      <td> 0.000000</td>\n",
       "      <td> 0.000017</td>\n",
       "      <td> False</td>\n",
       "      <td> KK351785.1</td>\n",
       "      <td> Scaffold0</td>\n",
       "      <td> 3329503</td>\n",
       "    </tr>\n",
       "    <tr>\n",
       "      <th>1</th>\n",
       "      <td> Scaffold0</td>\n",
       "      <td> 13388</td>\n",
       "      <td> .</td>\n",
       "      <td> 0.278846</td>\n",
       "      <td> Scaffold0</td>\n",
       "      <td> 23418</td>\n",
       "      <td> .</td>\n",
       "      <td> 0.298077</td>\n",
       "      <td> 1.000000</td>\n",
       "      <td> 1</td>\n",
       "      <td>...</td>\n",
       "      <td> 0.999500</td>\n",
       "      <td>NaN</td>\n",
       "      <td>NaN</td>\n",
       "      <td> 1.000000</td>\n",
       "      <td> 0.000000</td>\n",
       "      <td> 0.000017</td>\n",
       "      <td> False</td>\n",
       "      <td> KK351785.1</td>\n",
       "      <td> Scaffold0</td>\n",
       "      <td> 3329503</td>\n",
       "    </tr>\n",
       "    <tr>\n",
       "      <th>2</th>\n",
       "      <td> Scaffold0</td>\n",
       "      <td> 13388</td>\n",
       "      <td> .</td>\n",
       "      <td> 0.278846</td>\n",
       "      <td> Scaffold0</td>\n",
       "      <td> 23421</td>\n",
       "      <td> .</td>\n",
       "      <td> 0.298077</td>\n",
       "      <td> 1.000000</td>\n",
       "      <td> 1</td>\n",
       "      <td>...</td>\n",
       "      <td> 0.999500</td>\n",
       "      <td>NaN</td>\n",
       "      <td>NaN</td>\n",
       "      <td> 1.000000</td>\n",
       "      <td> 0.000000</td>\n",
       "      <td> 0.000017</td>\n",
       "      <td> False</td>\n",
       "      <td> KK351785.1</td>\n",
       "      <td> Scaffold0</td>\n",
       "      <td> 3329503</td>\n",
       "    </tr>\n",
       "    <tr>\n",
       "      <th>3</th>\n",
       "      <td> Scaffold0</td>\n",
       "      <td> 13388</td>\n",
       "      <td> .</td>\n",
       "      <td> 0.278846</td>\n",
       "      <td> Scaffold0</td>\n",
       "      <td> 23431</td>\n",
       "      <td> .</td>\n",
       "      <td> 0.288462</td>\n",
       "      <td> 0.975946</td>\n",
       "      <td> 1</td>\n",
       "      <td>...</td>\n",
       "      <td> 0.952018</td>\n",
       "      <td>NaN</td>\n",
       "      <td>NaN</td>\n",
       "      <td> 0.999063</td>\n",
       "      <td> 0.000937</td>\n",
       "      <td> 0.073542</td>\n",
       "      <td> False</td>\n",
       "      <td> KK351785.1</td>\n",
       "      <td> Scaffold0</td>\n",
       "      <td> 3329503</td>\n",
       "    </tr>\n",
       "    <tr>\n",
       "      <th>4</th>\n",
       "      <td> Scaffold0</td>\n",
       "      <td> 13388</td>\n",
       "      <td> .</td>\n",
       "      <td> 0.278846</td>\n",
       "      <td> Scaffold0</td>\n",
       "      <td> 30544</td>\n",
       "      <td> .</td>\n",
       "      <td> 0.094340</td>\n",
       "      <td> 0.464238</td>\n",
       "      <td> 1</td>\n",
       "      <td>...</td>\n",
       "      <td> 0.215801</td>\n",
       "      <td>NaN</td>\n",
       "      <td>NaN</td>\n",
       "      <td> 0.745361</td>\n",
       "      <td> 0.254639</td>\n",
       "      <td> 0.912914</td>\n",
       "      <td> False</td>\n",
       "      <td> KK351785.1</td>\n",
       "      <td> Scaffold0</td>\n",
       "      <td> 3329503</td>\n",
       "    </tr>\n",
       "  </tbody>\n",
       "</table>\n",
       "<p>5 rows × 25 columns</p>\n",
       "</div>"
      ],
      "text/plain": [
       "       CHR_A   BP_A SNP_A     MAF_A      CHR_B   BP_B SNP_B     MAF_B  \\\n",
       "0  Scaffold0  13388     .  0.278846  Scaffold0  23408     .  0.298077   \n",
       "1  Scaffold0  13388     .  0.278846  Scaffold0  23418     .  0.298077   \n",
       "2  Scaffold0  13388     .  0.278846  Scaffold0  23421     .  0.298077   \n",
       "3  Scaffold0  13388     .  0.278846  Scaffold0  23431     .  0.288462   \n",
       "4  Scaffold0  13388     .  0.278846  Scaffold0  30544     .  0.094340   \n",
       "\n",
       "          R  DP   ...     R2_scaled_for_B  alpha_param  beta_param       cdf  \\\n",
       "0  1.000000   1   ...            0.999500          NaN         NaN  1.000000   \n",
       "1  1.000000   1   ...            0.999500          NaN         NaN  1.000000   \n",
       "2  1.000000   1   ...            0.999500          NaN         NaN  1.000000   \n",
       "3  0.975946   1   ...            0.952018          NaN         NaN  0.999063   \n",
       "4  0.464238   1   ...            0.215801          NaN         NaN  0.745361   \n",
       "\n",
       "   one_minus_cdf  one_minus_cdf_BH  MAP_succeeded     kk_name  scaf_name  \\\n",
       "0       0.000000          0.000017          False  KK351785.1  Scaffold0   \n",
       "1       0.000000          0.000017          False  KK351785.1  Scaffold0   \n",
       "2       0.000000          0.000017          False  KK351785.1  Scaffold0   \n",
       "3       0.000937          0.073542          False  KK351785.1  Scaffold0   \n",
       "4       0.254639          0.912914          False  KK351785.1  Scaffold0   \n",
       "\n",
       "    length  \n",
       "0  3329503  \n",
       "1  3329503  \n",
       "2  3329503  \n",
       "3  3329503  \n",
       "4  3329503  \n",
       "\n",
       "[5 rows x 25 columns]"
      ]
     },
     "execution_count": 45,
     "metadata": {},
     "output_type": "execute_result"
    }
   ],
   "source": [
    "# join contig length and kk_name contig info to the LD table\n",
    "ld_contig = pd.merge(left=ld, right=contig_info, how='inner', left_on=\"CHR_A\", right_on=\"scaf_name\")\n",
    "ld_contig.head()"
   ]
  },
  {
   "cell_type": "markdown",
   "metadata": {},
   "source": [
    "### All contigs"
   ]
  },
  {
   "cell_type": "code",
   "execution_count": null,
   "metadata": {
    "collapsed": true
   },
   "outputs": [],
   "source": []
  },
  {
   "cell_type": "markdown",
   "metadata": {},
   "source": [
    "#### Without regard to selected SNP-pairs"
   ]
  },
  {
   "cell_type": "code",
   "execution_count": 49,
   "metadata": {
    "collapsed": false
   },
   "outputs": [
    {
     "data": {
      "text/plain": [
       "1276"
      ]
     },
     "execution_count": 49,
     "metadata": {},
     "output_type": "execute_result"
    }
   ],
   "source": [
    "len(ld_contig.scaf_name.unique())"
   ]
  },
  {
   "cell_type": "code",
   "execution_count": null,
   "metadata": {
    "collapsed": true
   },
   "outputs": [],
   "source": [
    "number_wo = ld_contig.scaf_name.unique()"
   ]
  }
 ],
 "metadata": {
  "kernelspec": {
   "display_name": "Python 2",
   "language": "python",
   "name": "python2"
  },
  "language_info": {
   "codemirror_mode": {
    "name": "ipython",
    "version": 2
   },
   "file_extension": ".py",
   "mimetype": "text/x-python",
   "name": "python",
   "nbconvert_exporter": "python",
   "pygments_lexer": "ipython2",
   "version": "2.7.9"
  }
 },
 "nbformat": 4,
 "nbformat_minor": 0
}
