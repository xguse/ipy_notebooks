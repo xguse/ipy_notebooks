{
 "cells": [
  {
   "cell_type": "markdown",
   "metadata": {},
   "source": [
    "## Imports:"
   ]
  },
  {
   "cell_type": "code",
   "execution_count": 1,
   "metadata": {
    "collapsed": false
   },
   "outputs": [],
   "source": [
    "# from __future__ import unicode_literals\n",
    "from __future__ import division\n",
    "from __future__ import print_function\n",
    "\n",
    "import os\n",
    "\n",
    "import numpy as np\n",
    "import pandas as pd\n",
    "pd.set_option('display.max_columns', 60)\n",
    "# import tables as h5\n",
    "\n",
    "import itertools as it\n",
    "from collections import defaultdict\n",
    "\n",
    "import numpy as np\n",
    "import pandas as pd\n",
    "\n",
    "xls_writer = pd.ExcelWriter\n",
    "\n",
    "\n",
    "import scipy\n",
    "import statsmodels.api as sm\n",
    "import statsmodels.stats.multitest as smm\n",
    "\n",
    "import munch\n",
    "\n",
    "from spartan.utils.genome_specific.GfusI1 import GfusI1_0\n",
    "from spartan.utils.fastas import ParseFastA\n"
   ]
  },
  {
   "cell_type": "markdown",
   "metadata": {},
   "source": [
    "## File paths:"
   ]
  },
  {
   "cell_type": "code",
   "execution_count": 2,
   "metadata": {
    "collapsed": false
   },
   "outputs": [],
   "source": [
    "# define paths to files\n",
    "\n",
    "in_file = \"/home/gus/MEGAsync/zim/main/Yale/Collaborations/Hongyu-tsetse/Yao/snp_list_afterFS_with_p_value_LD_1\"\n",
    "out_file = \"/home/gus/MEGAsync/zim/main/Yale/Collaborations/Hongyu-tsetse/Yao/snp_list_afterFS_with_p_value_LD_1_converted.csv\"\n",
    "\n",
    "out_bed = \"{p}.bed\".format(p=os.path.splitext(out_file)[0])\n",
    "\n",
    "contig_name_length_path = \"/home/gus/Dropbox/uganda_data/data_repos/genome_info/assembly_info/contig_name_length.csv\"\n"
   ]
  },
  {
   "cell_type": "code",
   "execution_count": 3,
   "metadata": {
    "collapsed": false
   },
   "outputs": [
    {
     "data": {
      "text/html": [
       "<div>\n",
       "<table border=\"1\" class=\"dataframe\">\n",
       "  <thead>\n",
       "    <tr style=\"text-align: right;\">\n",
       "      <th></th>\n",
       "      <th>kk_name</th>\n",
       "      <th>scaf_name</th>\n",
       "      <th>length</th>\n",
       "    </tr>\n",
       "  </thead>\n",
       "  <tbody>\n",
       "    <tr>\n",
       "      <th>0</th>\n",
       "      <td>KK352346.1</td>\n",
       "      <td>Scaffold566</td>\n",
       "      <td>193315</td>\n",
       "    </tr>\n",
       "    <tr>\n",
       "      <th>1</th>\n",
       "      <td>KK352610.1</td>\n",
       "      <td>Scaffold839</td>\n",
       "      <td>83110</td>\n",
       "    </tr>\n",
       "    <tr>\n",
       "      <th>2</th>\n",
       "      <td>KK352241.1</td>\n",
       "      <td>Scaffold458</td>\n",
       "      <td>243873</td>\n",
       "    </tr>\n",
       "    <tr>\n",
       "      <th>3</th>\n",
       "      <td>JFJR01012964.1</td>\n",
       "      <td>JFJR01012964.1</td>\n",
       "      <td>3083</td>\n",
       "    </tr>\n",
       "    <tr>\n",
       "      <th>4</th>\n",
       "      <td>KK352052.1</td>\n",
       "      <td>Scaffold268</td>\n",
       "      <td>427914</td>\n",
       "    </tr>\n",
       "  </tbody>\n",
       "</table>\n",
       "</div>"
      ],
      "text/plain": [
       "          kk_name       scaf_name  length\n",
       "0      KK352346.1     Scaffold566  193315\n",
       "1      KK352610.1     Scaffold839   83110\n",
       "2      KK352241.1     Scaffold458  243873\n",
       "3  JFJR01012964.1  JFJR01012964.1    3083\n",
       "4      KK352052.1     Scaffold268  427914"
      ]
     },
     "execution_count": 3,
     "metadata": {},
     "output_type": "execute_result"
    }
   ],
   "source": [
    "# load contig info file\n",
    "contig_info = pd.read_csv(contig_name_length_path)\n",
    "contig_info.head()"
   ]
  },
  {
   "cell_type": "code",
   "execution_count": 4,
   "metadata": {
    "collapsed": true
   },
   "outputs": [],
   "source": [
    "def get_contig_name_map(df):\n",
    "    return {key:value for key,value in zip(contig_info.kk_name.values,contig_info.scaf_name.values)}"
   ]
  },
  {
   "cell_type": "code",
   "execution_count": 5,
   "metadata": {
    "collapsed": false
   },
   "outputs": [
    {
     "data": {
      "text/plain": [
       "'Scaffold0'"
      ]
     },
     "execution_count": 5,
     "metadata": {},
     "output_type": "execute_result"
    }
   ],
   "source": [
    "contig_name_map = get_contig_name_map(contig_info)\n",
    "contig_name_map[\"KK351785.1\"]"
   ]
  },
  {
   "cell_type": "code",
   "execution_count": 6,
   "metadata": {
    "collapsed": false
   },
   "outputs": [
    {
     "data": {
      "text/plain": [
       "'JFJR01006593.1'"
      ]
     },
     "execution_count": 6,
     "metadata": {},
     "output_type": "execute_result"
    }
   ],
   "source": [
    "contig_name_map[\"JFJR01006593.1\"]"
   ]
  },
  {
   "cell_type": "markdown",
   "metadata": {},
   "source": [
    "------------------\n",
    "\n",
    "#  Convert `snp_list_afterFS_with_p_value_LD_1`"
   ]
  },
  {
   "cell_type": "code",
   "execution_count": 7,
   "metadata": {
    "collapsed": false
   },
   "outputs": [
    {
     "name": "stdout",
     "output_type": "stream",
     "text": [
      "\"SNP\"\t\"P\"\r",
      "\r\n",
      "\"1\"\t\"GFvariants_VB2014a_tvcf:KK352172.1:259728\"\t0.00459\r",
      "\r\n",
      "\"2\"\t\"GFvariants_VB2014d_tvcf:KK351922.1:615407\"\t0.00467\r",
      "\r\n",
      "\"3\"\t\"GFvariants_VB2014c_tvcf:JFJR01012925.1:2545\"\t0.00488\r",
      "\r\n",
      "\"4\"\t\"GFvariants_VB2014e_tvcf:KK351818.1:1387926\"\t0.0063\r",
      "\r\n",
      "\"5\"\t\"GFvariants_VB2014d_tvcf:KK352538.1:42842\"\t0.0127\r",
      "\r\n",
      "\"6\"\t\"GFvariants_VB2014a_tvcf:KK351960.1:347132\"\t0.0136\r",
      "\r\n",
      "\"7\"\t\"GFvariants_VB2014a_tvcf:KK351793.1:1744226\"\t0.0168\r",
      "\r\n",
      "\"8\"\t\"GFvariants_VB2014c_tvcf:KK352754.1:1108\"\t0.0195\r",
      "\r\n",
      "\"9\"\t\"GFvariants_VB2014b_tvcf:KK351833.1:1013373\"\t0.0208\r",
      "\r\n"
     ]
    }
   ],
   "source": [
    "!head $in_file"
   ]
  },
  {
   "cell_type": "code",
   "execution_count": 8,
   "metadata": {
    "collapsed": true
   },
   "outputs": [],
   "source": [
    "def add_chrom_loc(df, name_map):\n",
    "    df[\"CHROM\"] = df.SNP.apply(lambda x: name_map[x.split(':')[1]])\n",
    "    df[\"LOC\"] = df.SNP.apply(lambda x: int(x.split(':')[2]))\n",
    "    \n",
    "    "
   ]
  },
  {
   "cell_type": "code",
   "execution_count": 9,
   "metadata": {
    "collapsed": false,
    "scrolled": true
   },
   "outputs": [
    {
     "data": {
      "text/html": [
       "<div>\n",
       "<table border=\"1\" class=\"dataframe\">\n",
       "  <thead>\n",
       "    <tr style=\"text-align: right;\">\n",
       "      <th></th>\n",
       "      <th>SNP</th>\n",
       "      <th>P</th>\n",
       "      <th>CHROM</th>\n",
       "      <th>LOC</th>\n",
       "    </tr>\n",
       "  </thead>\n",
       "  <tbody>\n",
       "    <tr>\n",
       "      <th>1</th>\n",
       "      <td>GFvariants_VB2014a_tvcf:KK352172.1:259728</td>\n",
       "      <td>0.00459</td>\n",
       "      <td>Scaffold389</td>\n",
       "      <td>259728</td>\n",
       "    </tr>\n",
       "    <tr>\n",
       "      <th>2</th>\n",
       "      <td>GFvariants_VB2014d_tvcf:KK351922.1:615407</td>\n",
       "      <td>0.00467</td>\n",
       "      <td>Scaffold137</td>\n",
       "      <td>615407</td>\n",
       "    </tr>\n",
       "    <tr>\n",
       "      <th>3</th>\n",
       "      <td>GFvariants_VB2014c_tvcf:JFJR01012925.1:2545</td>\n",
       "      <td>0.00488</td>\n",
       "      <td>JFJR01012925.1</td>\n",
       "      <td>2545</td>\n",
       "    </tr>\n",
       "    <tr>\n",
       "      <th>4</th>\n",
       "      <td>GFvariants_VB2014e_tvcf:KK351818.1:1387926</td>\n",
       "      <td>0.00630</td>\n",
       "      <td>Scaffold33</td>\n",
       "      <td>1387926</td>\n",
       "    </tr>\n",
       "    <tr>\n",
       "      <th>5</th>\n",
       "      <td>GFvariants_VB2014d_tvcf:KK352538.1:42842</td>\n",
       "      <td>0.01270</td>\n",
       "      <td>Scaffold761</td>\n",
       "      <td>42842</td>\n",
       "    </tr>\n",
       "  </tbody>\n",
       "</table>\n",
       "</div>"
      ],
      "text/plain": [
       "                                           SNP        P           CHROM  \\\n",
       "1    GFvariants_VB2014a_tvcf:KK352172.1:259728  0.00459     Scaffold389   \n",
       "2    GFvariants_VB2014d_tvcf:KK351922.1:615407  0.00467     Scaffold137   \n",
       "3  GFvariants_VB2014c_tvcf:JFJR01012925.1:2545  0.00488  JFJR01012925.1   \n",
       "4   GFvariants_VB2014e_tvcf:KK351818.1:1387926  0.00630      Scaffold33   \n",
       "5     GFvariants_VB2014d_tvcf:KK352538.1:42842  0.01270     Scaffold761   \n",
       "\n",
       "       LOC  \n",
       "1   259728  \n",
       "2   615407  \n",
       "3     2545  \n",
       "4  1387926  \n",
       "5    42842  "
      ]
     },
     "execution_count": 9,
     "metadata": {},
     "output_type": "execute_result"
    }
   ],
   "source": [
    "snp_list_afterFS_with_p_value_LD_1 = pd.read_table(in_file)\n",
    "add_chrom_loc(snp_list_afterFS_with_p_value_LD_1,contig_name_map)\n",
    "snp_list_afterFS_with_p_value_LD_1.head()"
   ]
  },
  {
   "cell_type": "code",
   "execution_count": 10,
   "metadata": {
    "collapsed": false
   },
   "outputs": [],
   "source": [
    "snp_list_afterFS_with_p_value_LD_1.to_csv(out_file)"
   ]
  },
  {
   "cell_type": "markdown",
   "metadata": {},
   "source": [
    "# Build and write the corresponding BED file"
   ]
  },
  {
   "cell_type": "code",
   "execution_count": 11,
   "metadata": {
    "collapsed": false
   },
   "outputs": [
    {
     "data": {
      "text/html": [
       "<div>\n",
       "<table border=\"1\" class=\"dataframe\">\n",
       "  <thead>\n",
       "    <tr style=\"text-align: right;\">\n",
       "      <th></th>\n",
       "      <th>CHROM</th>\n",
       "      <th>START</th>\n",
       "      <th>END</th>\n",
       "    </tr>\n",
       "  </thead>\n",
       "  <tbody>\n",
       "    <tr>\n",
       "      <th>1</th>\n",
       "      <td>Scaffold389</td>\n",
       "      <td>259727</td>\n",
       "      <td>259728</td>\n",
       "    </tr>\n",
       "    <tr>\n",
       "      <th>2</th>\n",
       "      <td>Scaffold137</td>\n",
       "      <td>615406</td>\n",
       "      <td>615407</td>\n",
       "    </tr>\n",
       "    <tr>\n",
       "      <th>3</th>\n",
       "      <td>JFJR01012925.1</td>\n",
       "      <td>2544</td>\n",
       "      <td>2545</td>\n",
       "    </tr>\n",
       "    <tr>\n",
       "      <th>4</th>\n",
       "      <td>Scaffold33</td>\n",
       "      <td>1387925</td>\n",
       "      <td>1387926</td>\n",
       "    </tr>\n",
       "    <tr>\n",
       "      <th>5</th>\n",
       "      <td>Scaffold761</td>\n",
       "      <td>42841</td>\n",
       "      <td>42842</td>\n",
       "    </tr>\n",
       "  </tbody>\n",
       "</table>\n",
       "</div>"
      ],
      "text/plain": [
       "            CHROM    START      END\n",
       "1     Scaffold389   259727   259728\n",
       "2     Scaffold137   615406   615407\n",
       "3  JFJR01012925.1     2544     2545\n",
       "4      Scaffold33  1387925  1387926\n",
       "5     Scaffold761    42841    42842"
      ]
     },
     "execution_count": 11,
     "metadata": {},
     "output_type": "execute_result"
    }
   ],
   "source": [
    "bed_table = snp_list_afterFS_with_p_value_LD_1[[\"CHROM\",\"LOC\"]].copy()\n",
    "bed_table = bed_table.rename(columns={\"LOC\":\"END\"}).copy()\n",
    "bed_table['START'] = bed_table.END - 1\n",
    "bed_table = bed_table[[\"CHROM\",\"START\",\"END\"]].copy()\n",
    "bed_table.head()"
   ]
  },
  {
   "cell_type": "code",
   "execution_count": 12,
   "metadata": {
    "collapsed": false
   },
   "outputs": [],
   "source": [
    "bed_table.to_csv(out_bed, header=False, index=False, sep='\\t')"
   ]
  },
  {
   "cell_type": "code",
   "execution_count": 13,
   "metadata": {
    "collapsed": false
   },
   "outputs": [
    {
     "name": "stdout",
     "output_type": "stream",
     "text": [
      "Scaffold389\t259727\t259728\r\n",
      "Scaffold137\t615406\t615407\r\n",
      "JFJR01012925.1\t2544\t2545\r\n",
      "Scaffold33\t1387925\t1387926\r\n",
      "Scaffold761\t42841\t42842\r\n",
      "Scaffold175\t347131\t347132\r\n",
      "Scaffold8\t1744225\t1744226\r\n",
      "Scaffold993\t1107\t1108\r\n",
      "Scaffold48\t1013372\t1013373\r\n",
      "Scaffold104\t688652\t688653\r\n"
     ]
    }
   ],
   "source": [
    "!head $out_bed"
   ]
  },
  {
   "cell_type": "code",
   "execution_count": null,
   "metadata": {
    "collapsed": true
   },
   "outputs": [],
   "source": []
  }
 ],
 "metadata": {
  "kernelspec": {
   "display_name": "Python 2",
   "language": "python",
   "name": "python2"
  },
  "language_info": {
   "codemirror_mode": {
    "name": "ipython",
    "version": 2
   },
   "file_extension": ".py",
   "mimetype": "text/x-python",
   "name": "python",
   "nbconvert_exporter": "python",
   "pygments_lexer": "ipython2",
   "version": "2.7.11"
  }
 },
 "nbformat": 4,
 "nbformat_minor": 0
}
