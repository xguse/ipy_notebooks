{
 "cells": [
  {
   "cell_type": "markdown",
   "metadata": {},
   "source": [
    "# Purpose:\n",
    "\n"
   ]
  },
  {
   "cell_type": "markdown",
   "metadata": {},
   "source": [
    "## Imports:"
   ]
  },
  {
   "cell_type": "code",
   "execution_count": 209,
   "metadata": {
    "collapsed": false
   },
   "outputs": [],
   "source": [
    "import IPython\n",
    "from ipy_progressbar import ProgressBar"
   ]
  },
  {
   "cell_type": "code",
   "execution_count": 14,
   "metadata": {
    "collapsed": false
   },
   "outputs": [],
   "source": [
    "%matplotlib inline\n",
    "import matplotlib.pyplot as plt\n",
    "import seaborn as sns\n",
    "import ggplot as gp\n",
    "\n",
    "import mpld3\n",
    "# mpld3.enable_notebook()\n",
    "\n",
    "import numpy as np\n",
    "import pandas as pd\n",
    "pd.set_option('display.max_columns', 60)\n",
    "# import tables as h5\n",
    "\n",
    "import itertools as it\n",
    "from collections import defaultdict\n",
    "\n",
    "import numpy as np\n",
    "import pandas as pd\n",
    "import scipy\n",
    "from scikits import bootstrap as bs\n",
    "import statsmodels.api as sm\n",
    "import statsmodels.stats.multitest as smm\n",
    "from statsmodels.nonparametric.smoothers_lowess import lowess\n",
    "\n",
    "import munch\n",
    "\n",
    "import pymc as mc\n",
    "\n",
    "from shapely.geometry import LineString\n",
    "\n",
    "from spartan.utils.genome_specific.GfusI1 import GfusI1_0\n",
    "from spartan.utils.fastas import ParseFastA\n",
    "\n",
    "from gs_ddRAD2015.scripts import ld_figures as ldfigs"
   ]
  },
  {
   "cell_type": "code",
   "execution_count": null,
   "metadata": {
    "collapsed": false
   },
   "outputs": [],
   "source": [
    "# set figure characteristics\n",
    "\n",
    "# size\n",
    "sns.set_context(\"poster\")\n",
    "\n",
    "# Grid style\n",
    "sns.set_style(\"whitegrid\")\n",
    "\n",
    "# colors\n",
    "sns.set_palette(sns.hls_palette(n_colors=5, h=0.59, l=0.4, s=0.75))"
   ]
  },
  {
   "cell_type": "markdown",
   "metadata": {},
   "source": [
    "## File paths:"
   ]
  },
  {
   "cell_type": "code",
   "execution_count": 5,
   "metadata": {
    "collapsed": true
   },
   "outputs": [],
   "source": [
    "# define paths to files\n",
    "out_dir = \"/home/gus/MEGAsync/projects/ddRAD_phase2/repos/ddRAD_phase2/scratch/gs_2015_ld/OT_MS_NB_indiv.geno.ld\""
   ]
  },
  {
   "cell_type": "markdown",
   "metadata": {},
   "source": [
    "## Loading files"
   ]
  },
  {
   "cell_type": "code",
   "execution_count": 6,
   "metadata": {
    "collapsed": true
   },
   "outputs": [],
   "source": [
    "figs = ldfigs.Figures(out_dir=out_dir, formats='png')"
   ]
  },
  {
   "cell_type": "code",
   "execution_count": 7,
   "metadata": {
    "collapsed": false
   },
   "outputs": [
    {
     "name": "stdout",
     "output_type": "stream",
     "text": [
      "\n",
      "ld_figures: loading data_tables.\n",
      "\n",
      "\n"
     ]
    }
   ],
   "source": [
    "figs.load_data_tables()"
   ]
  },
  {
   "cell_type": "code",
   "execution_count": 8,
   "metadata": {
    "collapsed": false
   },
   "outputs": [
    {
     "data": {
      "text/plain": [
       "['ld',\n",
       " 'd_bins',\n",
       " 'contig_info',\n",
       " 'd_bin_v_others_melt',\n",
       " 'len_contigs_per_bin',\n",
       " 'd_bin_v_others',\n",
       " 'contigs_per_bin',\n",
       " 'mean_bin_r2_all',\n",
       " 'sp_contigs',\n",
       " 'ld_contig']"
      ]
     },
     "execution_count": 8,
     "metadata": {},
     "output_type": "execute_result"
    }
   ],
   "source": [
    "tables = munch.Munch(figs.d)\n",
    "tables.keys()"
   ]
  },
  {
   "cell_type": "code",
   "execution_count": 9,
   "metadata": {
    "collapsed": false
   },
   "outputs": [
    {
     "data": {
      "text/html": [
       "<div style=\"max-height:1000px;max-width:1500px;overflow:auto;\">\n",
       "<table border=\"1\" class=\"dataframe\">\n",
       "  <thead>\n",
       "    <tr style=\"text-align: right;\">\n",
       "      <th></th>\n",
       "      <th>Unnamed: 0</th>\n",
       "      <th>Unnamed: 0.1</th>\n",
       "      <th>CHR_A</th>\n",
       "      <th>BP_A</th>\n",
       "      <th>BP_B</th>\n",
       "      <th>N_INDV</th>\n",
       "      <th>R2</th>\n",
       "      <th>BP_DELTA</th>\n",
       "      <th>distance_bin</th>\n",
       "      <th>R2_scaled_for_B</th>\n",
       "      <th>alpha_param</th>\n",
       "      <th>beta_param</th>\n",
       "      <th>cdf</th>\n",
       "      <th>one_minus_cdf</th>\n",
       "      <th>one_minus_cdf_BH</th>\n",
       "      <th>MAP_succeeded</th>\n",
       "    </tr>\n",
       "  </thead>\n",
       "  <tbody>\n",
       "    <tr>\n",
       "      <th>0</th>\n",
       "      <td>0</td>\n",
       "      <td>0</td>\n",
       "      <td>Scaffold0</td>\n",
       "      <td>13388</td>\n",
       "      <td>23408</td>\n",
       "      <td>48</td>\n",
       "      <td>1.000000</td>\n",
       "      <td>10020</td>\n",
       "      <td>10000</td>\n",
       "      <td>0.999500</td>\n",
       "      <td>NaN</td>\n",
       "      <td>NaN</td>\n",
       "      <td>1.000000</td>\n",
       "      <td>0.000000</td>\n",
       "      <td>NaN</td>\n",
       "      <td>False</td>\n",
       "    </tr>\n",
       "    <tr>\n",
       "      <th>1</th>\n",
       "      <td>1</td>\n",
       "      <td>1</td>\n",
       "      <td>Scaffold0</td>\n",
       "      <td>13388</td>\n",
       "      <td>23418</td>\n",
       "      <td>48</td>\n",
       "      <td>1.000000</td>\n",
       "      <td>10030</td>\n",
       "      <td>10000</td>\n",
       "      <td>0.999500</td>\n",
       "      <td>NaN</td>\n",
       "      <td>NaN</td>\n",
       "      <td>1.000000</td>\n",
       "      <td>0.000000</td>\n",
       "      <td>NaN</td>\n",
       "      <td>False</td>\n",
       "    </tr>\n",
       "    <tr>\n",
       "      <th>2</th>\n",
       "      <td>2</td>\n",
       "      <td>2</td>\n",
       "      <td>Scaffold0</td>\n",
       "      <td>13388</td>\n",
       "      <td>23421</td>\n",
       "      <td>48</td>\n",
       "      <td>1.000000</td>\n",
       "      <td>10033</td>\n",
       "      <td>10000</td>\n",
       "      <td>0.999500</td>\n",
       "      <td>NaN</td>\n",
       "      <td>NaN</td>\n",
       "      <td>1.000000</td>\n",
       "      <td>0.000000</td>\n",
       "      <td>NaN</td>\n",
       "      <td>False</td>\n",
       "    </tr>\n",
       "    <tr>\n",
       "      <th>3</th>\n",
       "      <td>3</td>\n",
       "      <td>3</td>\n",
       "      <td>Scaffold0</td>\n",
       "      <td>13388</td>\n",
       "      <td>23431</td>\n",
       "      <td>48</td>\n",
       "      <td>0.975315</td>\n",
       "      <td>10043</td>\n",
       "      <td>10000</td>\n",
       "      <td>0.974840</td>\n",
       "      <td>NaN</td>\n",
       "      <td>NaN</td>\n",
       "      <td>0.999662</td>\n",
       "      <td>0.000338</td>\n",
       "      <td>NaN</td>\n",
       "      <td>False</td>\n",
       "    </tr>\n",
       "    <tr>\n",
       "      <th>4</th>\n",
       "      <td>4</td>\n",
       "      <td>4</td>\n",
       "      <td>Scaffold0</td>\n",
       "      <td>13388</td>\n",
       "      <td>30544</td>\n",
       "      <td>49</td>\n",
       "      <td>0.366428</td>\n",
       "      <td>17156</td>\n",
       "      <td>17150</td>\n",
       "      <td>0.366562</td>\n",
       "      <td>NaN</td>\n",
       "      <td>NaN</td>\n",
       "      <td>0.862496</td>\n",
       "      <td>0.137504</td>\n",
       "      <td>NaN</td>\n",
       "      <td>False</td>\n",
       "    </tr>\n",
       "  </tbody>\n",
       "</table>\n",
       "</div>"
      ],
      "text/plain": [
       "   Unnamed: 0  Unnamed: 0.1      CHR_A   BP_A   BP_B  N_INDV        R2  \\\n",
       "0           0             0  Scaffold0  13388  23408      48  1.000000   \n",
       "1           1             1  Scaffold0  13388  23418      48  1.000000   \n",
       "2           2             2  Scaffold0  13388  23421      48  1.000000   \n",
       "3           3             3  Scaffold0  13388  23431      48  0.975315   \n",
       "4           4             4  Scaffold0  13388  30544      49  0.366428   \n",
       "\n",
       "   BP_DELTA  distance_bin  R2_scaled_for_B  alpha_param  beta_param       cdf  \\\n",
       "0     10020         10000         0.999500          NaN         NaN  1.000000   \n",
       "1     10030         10000         0.999500          NaN         NaN  1.000000   \n",
       "2     10033         10000         0.999500          NaN         NaN  1.000000   \n",
       "3     10043         10000         0.974840          NaN         NaN  0.999662   \n",
       "4     17156         17150         0.366562          NaN         NaN  0.862496   \n",
       "\n",
       "   one_minus_cdf  one_minus_cdf_BH MAP_succeeded  \n",
       "0       0.000000               NaN         False  \n",
       "1       0.000000               NaN         False  \n",
       "2       0.000000               NaN         False  \n",
       "3       0.000338               NaN         False  \n",
       "4       0.137504               NaN         False  "
      ]
     },
     "execution_count": 9,
     "metadata": {},
     "output_type": "execute_result"
    }
   ],
   "source": [
    "ld = tables.ld\n",
    "ld.head()"
   ]
  },
  {
   "cell_type": "code",
   "execution_count": 10,
   "metadata": {
    "collapsed": false
   },
   "outputs": [],
   "source": [
    "def get_halfing_coords(xs, ys, num, tolerance):\n",
    "    xs_return = []\n",
    "    ys_return = []\n",
    "    \n",
    "    halfing_values = get_n_halfing_values(val=ys[0],n=num)[1:]\n",
    "    \n",
    "    for value in halfing_values:\n",
    "        indexes_close_to_yi = get_indexes_close_to_yi(ys=ys, value=value, tolerance=tolerance)\n",
    "        middle_item = get_first_item(indexes=indexes_close_to_yi)\n",
    "        if middle_item is None:\n",
    "            print 'None'\n",
    "        else:\n",
    "            # print indexes_close_to_yi\n",
    "            # print xs[middle_item]\n",
    "            # print ys[middle_item]\n",
    "            xs_return.append(xs[middle_item])\n",
    "            ys_return.append(ys[middle_item])\n",
    "    \n",
    "    return xs_return,ys_return\n",
    "    \n",
    "def get_indexes_close_to_yi(ys, value, tolerance):\n",
    "    ilist = []\n",
    "    for i,y in enumerate(ys):\n",
    "        if abs(value-y) <= tolerance:\n",
    "            ilist.append(i)\n",
    "    return ilist\n",
    "    \n",
    "def get_n_halfing_values(val, n):\n",
    "    rvalues = []\n",
    "    c_val = val\n",
    "    for i in range(n+1):\n",
    "        c_val = c_val/2.0\n",
    "        rvalues.append(c_val)\n",
    "    return rvalues\n",
    "        \n",
    "def get_middle_item(indexes):\n",
    "    if len(indexes) == 0:\n",
    "        return None\n",
    "    return indexes[int(len(indexes)/2)]\n",
    "\n",
    "def get_first_item(indexes):\n",
    "    if len(indexes) == 0:\n",
    "        return None\n",
    "    return indexes[0]"
   ]
  },
  {
   "cell_type": "markdown",
   "metadata": {},
   "source": [
    "# Distance bt snp-pair vs R^2 all:"
   ]
  },
  {
   "cell_type": "code",
   "execution_count": 11,
   "metadata": {
    "collapsed": true
   },
   "outputs": [],
   "source": [
    "def movingaverage(interval, window_size):\n",
    "    window = np.ones(int(window_size))/float(window_size)\n",
    "    return np.convolve(interval, window, 'same')"
   ]
  },
  {
   "cell_type": "code",
   "execution_count": 12,
   "metadata": {
    "collapsed": true
   },
   "outputs": [],
   "source": [
    "d_bin_v_others_melt = figs.d.d_bin_v_others_melt"
   ]
  },
  {
   "cell_type": "code",
   "execution_count": 40,
   "metadata": {
    "collapsed": true
   },
   "outputs": [],
   "source": [
    "# mpld3.enable_notebook()\n",
    "# mpld3.disable_notebook()"
   ]
  },
  {
   "cell_type": "code",
   "execution_count": 191,
   "metadata": {
    "collapsed": false
   },
   "outputs": [
    {
     "data": {
      "image/png": "[encoded data removed]",
      "text/plain": [
       "<matplotlib.figure.Figure at 0x7fa7863927d0>"
      ]
     },
     "metadata": {},
     "output_type": "display_data"
    }
   ],
   "source": [
    "# pal = sns.choose_colorbrewer_palette(\"q\")\n",
    "\n",
    "# pal = sns.husl_palette(n_colors=4, h=0.6, s=0.9, l=0.65)\n",
    "# pal = sns.hls_palette(n_colors=5, h=0.59, l=0.4, s=0.75)\n",
    "# sns.palplot(pal)\n",
    "\n",
    "# pal = sns.choose_cubehelix_palette()"
   ]
  },
  {
   "cell_type": "code",
   "execution_count": 196,
   "metadata": {
    "collapsed": false
   },
   "outputs": [
    {
     "data": {
      "text/plain": [
       "<matplotlib.legend.Legend at 0x7fa785f2a2d0>"
      ]
     },
     "execution_count": 196,
     "metadata": {},
     "output_type": "execute_result"
    },
    {
     "data": {
      "image/png": "[encoded data removed]",
      "text/plain": [
       "<matplotlib.figure.Figure at 0x7fa78629b350>"
      ]
     },
     "metadata": {},
     "output_type": "display_data"
    }
   ],
   "source": [
    "# sns.set_palette(pal)\n",
    "\n",
    "melted_r2 = d_bin_v_others_melt.query(\"variable == 'R2'\").query(\"0 <= distance_bin <= 00000\")\n",
    "\n",
    "d = melted_r2.distance_bin\n",
    "\n",
    "r2 = melted_r2.value\n",
    "r2_95centile = r2.quantile(.95)\n",
    "\n",
    "rgplt = sns.regplot(d, r2, data=None, x_estimator=None, x_bins=None, x_ci=95, \n",
    "            scatter=True, fit_reg=False, ci=95, n_boot=10000, \n",
    "            units=None, order=1, logistic=False, lowess=True, robust=False, \n",
    "            logx=False, x_partial=None, y_partial=None, \n",
    "            truncate=False, dropna=True, x_jitter=None, y_jitter=None, \n",
    "            xlabel=None, ylabel=None, label=None, \n",
    "            color=None, marker='o', \n",
    "            scatter_kws=None, line_kws=None, ax=None)\n",
    "\n",
    "# plt.plot(d,\n",
    "#          movingaverage(interval=r2, window_size=6),\n",
    "#          color='coral', alpha=0.3);\n",
    "\n",
    "# lowess regression\n",
    "delta = 0.01 * len(d)\n",
    "r2_lowess = lowess(r2,d,frac=0.02, it=0, delta=delta)\n",
    "r2_half = r2.max()/2.\n",
    "\n",
    "\n",
    "centile_line = [[0,r2_95centile],[r2_lowess[-1][0],r2_95centile]]\n",
    "halfing_line = [[0,r2_half],[r2_lowess[-1][0],r2_half]]\n",
    "\n",
    "halfing_geo = LineString(halfing_line)\n",
    "centile_geo = LineString(centile_line)\n",
    "lowess_geo = LineString(r2_lowess)\n",
    "\n",
    "isect_c = centile_geo.intersection(lowess_geo)\n",
    "isect_h = halfing_geo.intersection(lowess_geo)\n",
    "\n",
    "isect_c_x,isect_c_y = int(round(isect_c.x)), isect_c.y\n",
    "isect_h_x,isect_h_y = int(round(isect_h.x)), isect_h.y\n",
    "\n",
    "plt.plot(d,\n",
    "         r2_lowess[:,1],\n",
    "         alpha=1,\n",
    "         label=\"Lowess regression line\");\n",
    "\n",
    "plt.plot([x[0] for x in halfing_line],\n",
    "         [y[1] for y in halfing_line],  \n",
    "         label=u\"Half of maximum LD ({isect} bp)\".format(isect=isect_h_x),\n",
    "         alpha=1\n",
    "        );\n",
    "\n",
    "plt.plot([x[0] for x in centile_line],\n",
    "         [y[1] for y in centile_line], \n",
    "         label=\"95th percentile of mean bin-wise LD ({isect} bp)\".format(isect=isect_c_x),\n",
    "         alpha=1\n",
    "        );\n",
    "\n",
    "\n",
    "\n",
    "\n",
    "# plt.plot(0,0,label=\"test3\",alpha=0)\n",
    "\n",
    "# plt.scatter(x=xs_hlf, y=ys_hlf, \n",
    "#             s=200, c=u'k', marker=u'x', \n",
    "#             alpha=None, linewidths=2);\n",
    "\n",
    "plt.xlabel(r\"Distance between SNP-pairs (bp)\");\n",
    "plt.ylabel(r\"Mean bin-wise LD ($r^2$)\");\n",
    "\n",
    "\n",
    "\n",
    "plt.legend()\n",
    "\n",
    "# print \"xs_hlf, ys_hlf: \",xs_hlf, ys_hlf \n",
    "\n"
   ]
  },
  {
   "cell_type": "markdown",
   "metadata": {},
   "source": [
    "# Describe number of SNP-pairs that pass bin filtering and distance pattern (if any) "
   ]
  },
  {
   "cell_type": "code",
   "execution_count": 197,
   "metadata": {
    "collapsed": false
   },
   "outputs": [
    {
     "data": {
      "text/plain": [
       "array([             nan,   4.33265264e-04,   9.32948997e-01, ...,\n",
       "         2.41107259e-01,   5.01827111e-01,   4.37354874e-02])"
      ]
     },
     "execution_count": 197,
     "metadata": {},
     "output_type": "execute_result"
    }
   ],
   "source": [
    "ld.one_minus_cdf_BH.unique()"
   ]
  },
  {
   "cell_type": "markdown",
   "metadata": {},
   "source": [
    "Because the above has 'nan' values, I am recalculating the BH corrections."
   ]
  },
  {
   "cell_type": "markdown",
   "metadata": {},
   "source": [
    "### BH corrections"
   ]
  },
  {
   "cell_type": "code",
   "execution_count": 210,
   "metadata": {
    "collapsed": false
   },
   "outputs": [
    {
     "name": "stdout",
     "output_type": "stream",
     "text": [
      "\n",
      "Outer:   0% [                                     ] 0/10 [0.0 s] [eta nan+-nan s]\n",
      "Inner: 100% [█████████████████████████████████████████] 5/5 [0.0 s] [eta 0+-0 s]\n",
      "Outer:  10% [████                                     ] 1/10 [0.0 s] [eta 0+-0 s]\n",
      "Inner: 100% [█████████████████████████████████████████] 5/5 [0.0 s] [eta 0+-0 s]\n",
      "Outer:  20% [████████                                 ] 2/10 [0.0 s] [eta 0+-0 s]\n",
      "Inner: 100% [█████████████████████████████████████████] 5/5 [0.0 s] [eta 0+-0 s]\n",
      "Outer:  30% [████████████                             ] 3/10 [0.0 s] [eta 0+-0 s]\n",
      "Inner: 100% [█████████████████████████████████████████] 5/5 [0.0 s] [eta 0+-0 s]\n",
      "Outer:  40% [████████████████                         ] 4/10 [0.0 s] [eta 0+-0 s]\n",
      "Inner: 100% [█████████████████████████████████████████] 5/5 [0.0 s] [eta 0+-0 s]\n",
      "Outer:  50% [████████████████████                     ] 5/10 [0.0 s] [eta 0+-0 s]\n",
      "Inner: 100% [█████████████████████████████████████████] 5/5 [0.0 s] [eta 0+-0 s]\n",
      "Outer:  60% [████████████████████████                 ] 6/10 [0.0 s] [eta 0+-0 s]\n",
      "Inner: 100% [█████████████████████████████████████████] 5/5 [0.0 s] [eta 0+-0 s]\n",
      "Outer:  70% [████████████████████████████             ] 7/10 [0.0 s] [eta 0+-0 s]\n",
      "Inner: 100% [█████████████████████████████████████████] 5/5 [0.0 s] [eta 0+-0 s]\n",
      "Outer:  80% [████████████████████████████████         ] 8/10 [0.0 s] [eta 0+-0 s]\n",
      "Inner: 100% [█████████████████████████████████████████] 5/5 [0.0 s] [eta 0+-0 s]\n",
      "Outer:  90% [████████████████████████████████████     ] 9/10 [0.0 s] [eta 0+-0 s]\n",
      "Inner: 100% [█████████████████████████████████████████] 5/5 [0.0 s] [eta 0+-0 s]\n",
      "Outer: 100% [███████████████████████████████████████] 10/10 [0.0 s] [eta 0+-0 s]\n"
     ]
    }
   ],
   "source": [
    "pb = ProgressBar(10, title='Outer', key='outer')\n",
    "for i in pb:\n",
    "    pb_inner = ProgressBar(5, title='Inner', key='inner')\n",
    "    for j in pb_inner:\n",
    "        pass"
   ]
  },
  {
   "cell_type": "code",
   "execution_count": null,
   "metadata": {
    "collapsed": false
   },
   "outputs": [
    {
     "name": "stdout",
     "output_type": "stream",
     "text": [
      "0\n",
      "100\n",
      "200\n",
      "300\n",
      "400\n",
      "500"
     ]
    }
   ],
   "source": [
    "for idx,bin_id in enumerate(list(ld.distance_bin.unique())):\n",
    "    \n",
    "    if idx%100 == 0:\n",
    "        print idx\n",
    "    bin_mask = ld.distance_bin == bin_id\n",
    "    ld.loc[bin_mask, 'one_minus_cdf_BH'] = smm.multipletests(ld[bin_mask].one_minus_cdf,\n",
    "                                                             method='fdr_bh')[1]"
   ]
  },
  {
   "cell_type": "code",
   "execution_count": null,
   "metadata": {
    "collapsed": true
   },
   "outputs": [],
   "source": [
    "ld.one_minus_cdf_BH.unique()"
   ]
  },
  {
   "cell_type": "code",
   "execution_count": null,
   "metadata": {
    "collapsed": true
   },
   "outputs": [],
   "source": []
  },
  {
   "cell_type": "code",
   "execution_count": null,
   "metadata": {
    "collapsed": true
   },
   "outputs": [],
   "source": []
  },
  {
   "cell_type": "code",
   "execution_count": null,
   "metadata": {
    "collapsed": true
   },
   "outputs": [],
   "source": []
  },
  {
   "cell_type": "markdown",
   "metadata": {},
   "source": [
    "-------------------"
   ]
  },
  {
   "cell_type": "markdown",
   "metadata": {
    "collapsed": false
   },
   "source": [
    "# Misc"
   ]
  },
  {
   "cell_type": "code",
   "execution_count": 52,
   "metadata": {
    "collapsed": false
   },
   "outputs": [],
   "source": [
    "def get_melted_by_scaff(df,scaff_name):\n",
    "    df_scaf = df.query(\"CHR_A == '{scaff_name}'\".format(scaff_name=scaff_name)).pivot_table(index=['distance_bin'],\n",
    "                                               values=['R2'],\n",
    "                                               aggfunc=[np.mean]\n",
    "                                               )['mean'].reset_index()\n",
    "    return pd.melt(df_scaf, id_vars=['distance_bin'])"
   ]
  },
  {
   "cell_type": "code",
   "execution_count": 55,
   "metadata": {
    "collapsed": false
   },
   "outputs": [
    {
     "data": {
      "text/html": [
       "<div style=\"max-height:1000px;max-width:1500px;overflow:auto;\">\n",
       "<table border=\"1\" class=\"dataframe\">\n",
       "  <thead>\n",
       "    <tr style=\"text-align: right;\">\n",
       "      <th></th>\n",
       "      <th>distance_bin</th>\n",
       "      <th>variable</th>\n",
       "      <th>value</th>\n",
       "    </tr>\n",
       "  </thead>\n",
       "  <tbody>\n",
       "    <tr>\n",
       "      <th>0</th>\n",
       "      <td>0</td>\n",
       "      <td>R2</td>\n",
       "      <td>0.560982</td>\n",
       "    </tr>\n",
       "    <tr>\n",
       "      <th>1</th>\n",
       "      <td>50</td>\n",
       "      <td>R2</td>\n",
       "      <td>0.308072</td>\n",
       "    </tr>\n",
       "    <tr>\n",
       "      <th>2</th>\n",
       "      <td>100</td>\n",
       "      <td>R2</td>\n",
       "      <td>0.514498</td>\n",
       "    </tr>\n",
       "    <tr>\n",
       "      <th>3</th>\n",
       "      <td>150</td>\n",
       "      <td>R2</td>\n",
       "      <td>0.009752</td>\n",
       "    </tr>\n",
       "    <tr>\n",
       "      <th>4</th>\n",
       "      <td>200</td>\n",
       "      <td>R2</td>\n",
       "      <td>0.468399</td>\n",
       "    </tr>\n",
       "  </tbody>\n",
       "</table>\n",
       "</div>"
      ],
      "text/plain": [
       "   distance_bin variable     value\n",
       "0             0       R2  0.560982\n",
       "1            50       R2  0.308072\n",
       "2           100       R2  0.514498\n",
       "3           150       R2  0.009752\n",
       "4           200       R2  0.468399"
      ]
     },
     "execution_count": 55,
     "metadata": {},
     "output_type": "execute_result"
    }
   ],
   "source": [
    "melted_scaf0 = get_melted_by_scaff(ld,'Scaffold0')\n",
    "melted_scaf0.head()"
   ]
  },
  {
   "cell_type": "markdown",
   "metadata": {},
   "source": [
    "### From https://fabiomarroni.wordpress.com/2011/08/09/estimate-decay-of-linkage-disequilibrium-with-distance/"
   ]
  },
  {
   "cell_type": "code",
   "execution_count": 203,
   "metadata": {
    "collapsed": false
   },
   "outputs": [],
   "source": [
    "import rpy2.robjects as robjects"
   ]
  },
  {
   "cell_type": "code",
   "execution_count": null,
   "metadata": {
    "collapsed": true
   },
   "outputs": [],
   "source": []
  }
 ],
 "metadata": {
  "kernelspec": {
   "display_name": "Python 2",
   "language": "python",
   "name": "python2"
  },
  "language_info": {
   "codemirror_mode": {
    "name": "ipython",
    "version": 2
   },
   "file_extension": ".py",
   "mimetype": "text/x-python",
   "name": "python",
   "nbconvert_exporter": "python",
   "pygments_lexer": "ipython2",
   "version": "2.7.9"
  }
 },
 "nbformat": 4,
 "nbformat_minor": 0
}
