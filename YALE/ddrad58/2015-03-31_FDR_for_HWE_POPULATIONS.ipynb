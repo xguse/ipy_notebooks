{
 "cells": [
  {
   "cell_type": "markdown",
   "metadata": {},
   "source": [
    "# Purpose:\n",
    "\n",
    "2015-03-31 (Tuesday)\n",
    "\n",
    "Calculate Benjamini-Hochberg(1995) for Andrea's VCFtools Hardy-Weinberg equilibrium values"
   ]
  },
  {
   "cell_type": "markdown",
   "metadata": {},
   "source": [
    "# Implementation:"
   ]
  },
  {
   "cell_type": "markdown",
   "metadata": {},
   "source": [
    "## Imports:"
   ]
  },
  {
   "cell_type": "code",
   "execution_count": 3,
   "metadata": {
    "collapsed": true
   },
   "outputs": [],
   "source": [
    "# imports\n",
    "import statsmodels.stats.multitest as smm\n",
    "\n",
    "import pandas as pd\n",
    "import numpy as np"
   ]
  },
  {
   "cell_type": "markdown",
   "metadata": {},
   "source": [
    "## File paths:"
   ]
  },
  {
   "cell_type": "code",
   "execution_count": 2,
   "metadata": {
    "collapsed": true
   },
   "outputs": [],
   "source": [
    "\n",
    "KG_hwe_file = \"/home/gus/Documents/YalePostDoc/project_stuff/g_f_fucipes_uganda/ddrad58/data_from_andrea/KG.hwe\"\n",
    "MS_hwe_file = \"/home/gus/Documents/YalePostDoc/project_stuff/g_f_fucipes_uganda/ddrad58/data_from_andrea/MS.hwe\"\n",
    "NB_hwe_file = \"/home/gus/Documents/YalePostDoc/project_stuff/g_f_fucipes_uganda/ddrad58/data_from_andrea/NB.hwe\"\n",
    "OT_hwe_file = \"/home/gus/Documents/YalePostDoc/project_stuff/g_f_fucipes_uganda/ddrad58/data_from_andrea/OT.hwe\"\n",
    "\n",
    "KG_hwe_fdr_file = \"/home/gus/Documents/YalePostDoc/project_stuff/g_f_fucipes_uganda/ddrad58/KG.fdr.hwe\"\n",
    "MS_hwe_fdr_file = \"/home/gus/Documents/YalePostDoc/project_stuff/g_f_fucipes_uganda/ddrad58/MS.fdr.hwe\"\n",
    "NB_hwe_fdr_file = \"/home/gus/Documents/YalePostDoc/project_stuff/g_f_fucipes_uganda/ddrad58/NB.fdr.hwe\"\n",
    "OT_hwe_fdr_file = \"/home/gus/Documents/YalePostDoc/project_stuff/g_f_fucipes_uganda/ddrad58/OT.fdr.hwe\"\n",
    "\n",
    "\n"
   ]
  },
  {
   "cell_type": "code",
   "execution_count": 4,
   "metadata": {
    "collapsed": false
   },
   "outputs": [],
   "source": [
    "KG_hwe = pd.read_table(KG_hwe_file, sep=\"\\t\", engine='python')\n",
    "MS_hwe = pd.read_table(MS_hwe_file, sep=\"\\t\", engine='python')\n",
    "NB_hwe = pd.read_table(NB_hwe_file, sep=\"\\t\", engine='python')\n",
    "OT_hwe = pd.read_table(OT_hwe_file, sep=\"\\t\", engine='python')"
   ]
  },
  {
   "cell_type": "code",
   "execution_count": 5,
   "metadata": {
    "collapsed": false
   },
   "outputs": [
    {
     "data": {
      "text/html": [
       "<div style=\"max-height:1000px;max-width:1500px;overflow:auto;\">\n",
       "<table border=\"1\" class=\"dataframe\">\n",
       "  <thead>\n",
       "    <tr style=\"text-align: right;\">\n",
       "      <th></th>\n",
       "      <th>CHR</th>\n",
       "      <th>POS</th>\n",
       "      <th>OBS(HOM1/HET/HOM2)</th>\n",
       "      <th>E(HOM1/HET/HOM2)</th>\n",
       "      <th>ChiSq_HWE</th>\n",
       "      <th>P_HWE</th>\n",
       "      <th>P_HET_DEFICIT</th>\n",
       "      <th>P_HET_EXCESS</th>\n",
       "    </tr>\n",
       "  </thead>\n",
       "  <tbody>\n",
       "    <tr>\n",
       "      <th>0</th>\n",
       "      <td>GFvariants_VB2014a_tvcf:KK351785.1</td>\n",
       "      <td>13388</td>\n",
       "      <td>0/0/3</td>\n",
       "      <td>0.00/0.00/3.00</td>\n",
       "      <td>NaN</td>\n",
       "      <td>1</td>\n",
       "      <td>1</td>\n",
       "      <td>1</td>\n",
       "    </tr>\n",
       "    <tr>\n",
       "      <th>1</th>\n",
       "      <td>GFvariants_VB2014a_tvcf:KK351785.1</td>\n",
       "      <td>23408</td>\n",
       "      <td>0/0/3</td>\n",
       "      <td>0.00/0.00/3.00</td>\n",
       "      <td>NaN</td>\n",
       "      <td>1</td>\n",
       "      <td>1</td>\n",
       "      <td>1</td>\n",
       "    </tr>\n",
       "    <tr>\n",
       "      <th>2</th>\n",
       "      <td>GFvariants_VB2014a_tvcf:KK351785.1</td>\n",
       "      <td>23418</td>\n",
       "      <td>0/0/3</td>\n",
       "      <td>0.00/0.00/3.00</td>\n",
       "      <td>NaN</td>\n",
       "      <td>1</td>\n",
       "      <td>1</td>\n",
       "      <td>1</td>\n",
       "    </tr>\n",
       "    <tr>\n",
       "      <th>3</th>\n",
       "      <td>GFvariants_VB2014a_tvcf:KK351785.1</td>\n",
       "      <td>23421</td>\n",
       "      <td>0/0/3</td>\n",
       "      <td>0.00/0.00/3.00</td>\n",
       "      <td>NaN</td>\n",
       "      <td>1</td>\n",
       "      <td>1</td>\n",
       "      <td>1</td>\n",
       "    </tr>\n",
       "    <tr>\n",
       "      <th>4</th>\n",
       "      <td>GFvariants_VB2014a_tvcf:KK351785.1</td>\n",
       "      <td>23431</td>\n",
       "      <td>0/0/3</td>\n",
       "      <td>0.00/0.00/3.00</td>\n",
       "      <td>NaN</td>\n",
       "      <td>1</td>\n",
       "      <td>1</td>\n",
       "      <td>1</td>\n",
       "    </tr>\n",
       "  </tbody>\n",
       "</table>\n",
       "</div>"
      ],
      "text/plain": [
       "                                  CHR    POS OBS(HOM1/HET/HOM2)  \\\n",
       "0  GFvariants_VB2014a_tvcf:KK351785.1  13388              0/0/3   \n",
       "1  GFvariants_VB2014a_tvcf:KK351785.1  23408              0/0/3   \n",
       "2  GFvariants_VB2014a_tvcf:KK351785.1  23418              0/0/3   \n",
       "3  GFvariants_VB2014a_tvcf:KK351785.1  23421              0/0/3   \n",
       "4  GFvariants_VB2014a_tvcf:KK351785.1  23431              0/0/3   \n",
       "\n",
       "  E(HOM1/HET/HOM2)  ChiSq_HWE  P_HWE  P_HET_DEFICIT  P_HET_EXCESS  \n",
       "0   0.00/0.00/3.00        NaN      1              1             1  \n",
       "1   0.00/0.00/3.00        NaN      1              1             1  \n",
       "2   0.00/0.00/3.00        NaN      1              1             1  \n",
       "3   0.00/0.00/3.00        NaN      1              1             1  \n",
       "4   0.00/0.00/3.00        NaN      1              1             1  "
      ]
     },
     "execution_count": 5,
     "metadata": {},
     "output_type": "execute_result"
    }
   ],
   "source": [
    "KG_hwe.head()"
   ]
  },
  {
   "cell_type": "code",
   "execution_count": 6,
   "metadata": {
    "collapsed": true
   },
   "outputs": [],
   "source": [
    "KG_hwe[\"P_HWE_Bonf\"] = smm.multipletests(KG_hwe.P_HWE, method='bonferroni')[1]\n",
    "MS_hwe[\"P_HWE_Bonf\"] = smm.multipletests(MS_hwe.P_HWE, method='bonferroni')[1]\n",
    "NB_hwe[\"P_HWE_Bonf\"] = smm.multipletests(NB_hwe.P_HWE, method='bonferroni')[1]\n",
    "OT_hwe[\"P_HWE_Bonf\"] = smm.multipletests(OT_hwe.P_HWE, method='bonferroni')[1]\n",
    "\n",
    "KG_hwe[\"P_HWE_BH\"] = smm.multipletests(KG_hwe.P_HWE, method='fdr_bh')[1]\n",
    "MS_hwe[\"P_HWE_BH\"] = smm.multipletests(MS_hwe.P_HWE, method='fdr_bh')[1]\n",
    "NB_hwe[\"P_HWE_BH\"] = smm.multipletests(NB_hwe.P_HWE, method='fdr_bh')[1]\n",
    "OT_hwe[\"P_HWE_BH\"] = smm.multipletests(OT_hwe.P_HWE, method='fdr_bh')[1]"
   ]
  },
  {
   "cell_type": "code",
   "execution_count": 11,
   "metadata": {
    "collapsed": false
   },
   "outputs": [
    {
     "name": "stdout",
     "output_type": "stream",
     "text": [
      "KG Bonf <= 0.05 [0]\n",
      "MS Bonf <= 0.05 [0]\n",
      "NB Bonf <= 0.05 [278]\n",
      "OT Bonf <= 0.05 [0]\n",
      "\n",
      "\n",
      "KG BH <= 0.05 [0]\n",
      "MS BH <= 0.05 [0]\n",
      "NB BH <= 0.05 [936]\n",
      "OT BH <= 0.05 [0]\n"
     ]
    }
   ],
   "source": [
    "print \"KG Bonf <= 0.05 [{}]\".format(len(KG_hwe.query(\"P_HWE_Bonf <= 0.05\")))\n",
    "print \"MS Bonf <= 0.05 [{}]\".format(len(MS_hwe.query(\"P_HWE_Bonf <= 0.05\")))\n",
    "print \"NB Bonf <= 0.05 [{}]\".format(len(NB_hwe.query(\"P_HWE_Bonf <= 0.05\")))\n",
    "print \"OT Bonf <= 0.05 [{}]\".format(len(OT_hwe.query(\"P_HWE_Bonf <= 0.05\")))\n",
    "\n",
    "print '\\n'\n",
    "\n",
    "print \"KG BH <= 0.05 [{}]\".format(len(KG_hwe.query(\"P_HWE_BH <= 0.05\")))\n",
    "print \"MS BH <= 0.05 [{}]\".format(len(MS_hwe.query(\"P_HWE_BH <= 0.05\")))\n",
    "print \"NB BH <= 0.05 [{}]\".format(len(NB_hwe.query(\"P_HWE_BH <= 0.05\")))\n",
    "print \"OT BH <= 0.05 [{}]\".format(len(OT_hwe.query(\"P_HWE_BH <= 0.05\")))"
   ]
  },
  {
   "cell_type": "code",
   "execution_count": 12,
   "metadata": {
    "collapsed": true
   },
   "outputs": [],
   "source": [
    "# KG_hwe.to_csv(KG_hwe_fdr_file, sep='\\t')\n",
    "# MS_hwe.to_csv(MS_hwe_fdr_file, sep='\\t')\n",
    "# NB_hwe.to_csv(NB_hwe_fdr_file, sep='\\t')\n",
    "# OT_hwe.to_csv(OT_hwe_fdr_file, sep='\\t')"
   ]
  },
  {
   "cell_type": "code",
   "execution_count": null,
   "metadata": {
    "collapsed": true
   },
   "outputs": [],
   "source": []
  }
 ],
 "metadata": {
  "kernelspec": {
   "display_name": "Python 2",
   "language": "python",
   "name": "python2"
  },
  "language_info": {
   "codemirror_mode": {
    "name": "ipython",
    "version": 2
   },
   "file_extension": ".py",
   "mimetype": "text/x-python",
   "name": "python",
   "nbconvert_exporter": "python",
   "pygments_lexer": "ipython2",
   "version": "2.7.9"
  }
 },
 "nbformat": 4,
 "nbformat_minor": 0
}
