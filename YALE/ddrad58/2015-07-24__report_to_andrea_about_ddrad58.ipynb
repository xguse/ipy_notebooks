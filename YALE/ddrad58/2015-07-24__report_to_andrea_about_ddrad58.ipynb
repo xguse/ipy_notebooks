{
 "cells": [
  {
   "cell_type": "markdown",
   "metadata": {},
   "source": [
    "## Imports:"
   ]
  },
  {
   "cell_type": "code",
   "execution_count": 1,
   "metadata": {
    "collapsed": false
   },
   "outputs": [],
   "source": [
    "# imports\n",
    "import csv\n",
    "\n",
    "from collections import defaultdict\n",
    "\n",
    "import pandas as pd\n",
    "pd.set_option('display.max_columns', 60)\n",
    "\n",
    "import munch\n",
    "\n",
    "from IPython.display import display, HTML\n",
    "\n",
    "import pybedtools as pbt\n",
    "\n",
    "import sh\n",
    "\n",
    "import tabulate\n",
    "tbl = tabulate.tabulate\n",
    "\n",
    "from spartan.utils.annotations.ensembl.gff3 import parse_gff3\n",
    "from spartan.utils.annotations.ensembl.gff3 import parse_gff3_attributes\n",
    "\n",
    "from spartan.utils.fastas import ParseFastA\n",
    "\n",
    "from spartan.utils.files import tableFile2namedTuple\n",
    "\n",
    "from spartan.utils.genome_specific.GfusI1 import GfusI1_0\n",
    "\n",
    "from gs_ddRAD2015.scripts import ld_figures as ldfigs"
   ]
  },
  {
   "cell_type": "markdown",
   "metadata": {},
   "source": [
    "## File paths:"
   ]
  },
  {
   "cell_type": "code",
   "execution_count": 2,
   "metadata": {
    "collapsed": false
   },
   "outputs": [],
   "source": [
    "# File Paths\n",
    "\n",
    "## LD analysis dir\n",
    "ld_dir = \"/home/gus/data/gs_2015_ld/OT_MS_NB_indiv.geno.ld\"\n",
    "\n",
    "\n",
    "## Fasta file for renaming contigs ----------------------------------------------------------\n",
    "fasta = \"/home/gus/remote_mounts/louise/data/genomes/glossina_fuscipes/assemblies/GfusI1/Glossina-fuscipes-IAEA_SCAFFOLDS_GfusI1.fa\"\n",
    "\n",
    "## Functional annatation (Argot2)\n",
    "fanno = \"/home/gus/remote_mounts/louise/data/genomes/glossina_fuscipes/annotations/functional/GfusI1.1_pre/argot2_out/argot_functional_annotations_ts150.h5\"\n",
    "\n",
    "## For setting up the BEDTOOLS phase\n",
    "btools_gene_models_gff3 = \"/home/gus/remote_mounts/louise/data/genomes/glossina_fuscipes/annotations/Glossina-fuscipes-IAEA_BASEFEATURES_GfusI1.1.gff3\"\n",
    "\n",
    "## Input BEDs etc if using files\n",
    "Top10_InfectionOverall_path = \"/home/gus/Documents/YalePostDoc/project_stuff/g_f_fucipes_uganda/ddrad58/data_from_andrea/2015-02-26_bayescan_tables/Top10_InfectionOverall.bed\"\n",
    "Selected_PopPairwiseMSOT_Environm_path = \"/home/gus/Documents/YalePostDoc/project_stuff/g_f_fucipes_uganda/ddrad58/data_from_andrea/2015-03-17_env_selection/Selected_PopPairwiseMSOT_Environm.bed\"\n",
    "Selected_PopPairwiseMSNB_Environm_path = \"/home/gus/Documents/YalePostDoc/project_stuff/g_f_fucipes_uganda/ddrad58/data_from_andrea/2015-03-17_env_selection/Selected_PopPairwiseMSNB_Environm.bed\"\n",
    "Top10_corrected_PopPairwiseOverlap_Infection2015_path = \"/home/gus/Documents/YalePostDoc/project_stuff/g_f_fucipes_uganda/ddrad58/data_from_andrea/2015-07-23_overlap_infection/Top10_corrected_PopPairwiseOverlap_Infection2015.bed\"\n",
    "Top10_PopPairwiseOverlap_Environm_path= \"/home/gus/Documents/YalePostDoc/project_stuff/g_f_fucipes_uganda/ddrad58/data_from_andrea/2015-02-26_bayescan_tables/Top10_PopPairwiseOverlap_Environm.bed\"\n"
   ]
  },
  {
   "cell_type": "code",
   "execution_count": 3,
   "metadata": {
    "collapsed": true
   },
   "outputs": [],
   "source": [
    "# manual definition of bed data:\n",
    "\n",
    "pcadapt_outliers_str = \"\"\"Scaffold150\t13772\t13773\n",
    "Scaffold150\t13771\t13772\n",
    "Scaffold250\t396213\t396214\n",
    "Scaffold144\t565216\t565217\n",
    "Scaffold207\t475991\t475992\n",
    "Scaffold368\t310506\t310507\"\"\"\n",
    "\n",
    "MS_bayescan_infection_outlier_str = \"\"\"JFJR01006593.1\\t85293\\t85294\"\"\""
   ]
  },
  {
   "cell_type": "code",
   "execution_count": 4,
   "metadata": {
    "collapsed": false
   },
   "outputs": [
    {
     "name": "stdout",
     "output_type": "stream",
     "text": [
      "\n",
      "ld_figures: loading data_tables.\n",
      "\n",
      "\n"
     ]
    },
    {
     "data": {
      "text/plain": [
       "['ld',\n",
       " 'd_bins',\n",
       " 'contig_info',\n",
       " 'd_bin_v_others_melt',\n",
       " 'len_contigs_per_bin',\n",
       " 'd_bin_v_others',\n",
       " 'contigs_per_bin',\n",
       " 'mean_bin_r2_all',\n",
       " 'sp_contigs',\n",
       " 'ld_contig']"
      ]
     },
     "execution_count": 4,
     "metadata": {},
     "output_type": "execute_result"
    }
   ],
   "source": [
    "# load LD analysis results\n",
    "figs = ldfigs.Figures(out_dir=ld_dir, formats='png')\n",
    "figs.load_data_tables()\n",
    "ld_tables = munch.Munch(figs.d)\n",
    "ld_tables.keys()"
   ]
  },
  {
   "cell_type": "code",
   "execution_count": 5,
   "metadata": {
    "collapsed": true
   },
   "outputs": [],
   "source": [
    "ld = ld_tables.ld\n",
    "del(ld_tables)"
   ]
  },
  {
   "cell_type": "code",
   "execution_count": 6,
   "metadata": {
    "collapsed": false
   },
   "outputs": [],
   "source": [
    "# load BED files\n",
    "Top10_InfectionOverall = pbt.BedTool(Top10_InfectionOverall_path)\n",
    "Selected_PopPairwiseMSOT_Environm = pbt.BedTool(Selected_PopPairwiseMSOT_Environm_path)\n",
    "Selected_PopPairwiseMSNB_Environm = pbt.BedTool(Selected_PopPairwiseMSNB_Environm_path)\n",
    "Top10_corrected_PopPairwiseOverlap_Infection2015 = pbt.BedTool(Top10_corrected_PopPairwiseOverlap_Infection2015_path)\n",
    "Top10_PopPairwiseOverlap_Environm = pbt.BedTool(Top10_PopPairwiseOverlap_Environm_path)\n",
    "\n",
    "# load BED strings\n",
    "pcadapt_outliers = pbt.BedTool(pcadapt_outliers_str,from_string=True)\n",
    "MS_bayescan_infection_outlier = pbt.BedTool(MS_bayescan_infection_outlier_str,from_string=True)"
   ]
  },
  {
   "cell_type": "code",
   "execution_count": 7,
   "metadata": {
    "collapsed": false
   },
   "outputs": [],
   "source": [
    "# load gene models into pybedtools object and filter for only gene features\n",
    "btools_gene_models_pbt = pbt.BedTool(btools_gene_models_gff3)\n",
    "genes = btools_gene_models_pbt.filter(lambda x: x[2] == 'gene').saveas()"
   ]
  },
  {
   "cell_type": "code",
   "execution_count": 8,
   "metadata": {
    "collapsed": false
   },
   "outputs": [],
   "source": [
    "# load functional annotations\n",
    "argot2 = pd.read_hdf(path_or_buf=fanno, key='dataframe')"
   ]
  },
  {
   "cell_type": "code",
   "execution_count": 9,
   "metadata": {
    "collapsed": false
   },
   "outputs": [
    {
     "data": {
      "text/html": [
       "<div>\n",
       "<table border=\"1\" class=\"dataframe\">\n",
       "  <thead>\n",
       "    <tr style=\"text-align: right;\">\n",
       "      <th></th>\n",
       "      <th>Sequence</th>\n",
       "      <th>Aspect</th>\n",
       "      <th>GO ID</th>\n",
       "      <th>Name</th>\n",
       "      <th>Total Score</th>\n",
       "      <th>Internal Confidence</th>\n",
       "      <th>Information Content</th>\n",
       "      <th>gene_id</th>\n",
       "    </tr>\n",
       "  </thead>\n",
       "  <tbody>\n",
       "    <tr>\n",
       "      <th>0</th>\n",
       "      <td>GFUI034947-PA</td>\n",
       "      <td>P</td>\n",
       "      <td>GO:0006508</td>\n",
       "      <td>proteolysis</td>\n",
       "      <td>270.313447</td>\n",
       "      <td>0.496543</td>\n",
       "      <td>8.247696</td>\n",
       "      <td>GFUI034947</td>\n",
       "    </tr>\n",
       "    <tr>\n",
       "      <th>1</th>\n",
       "      <td>GFUI035874-PA</td>\n",
       "      <td>F</td>\n",
       "      <td>GO:0005515</td>\n",
       "      <td>protein binding</td>\n",
       "      <td>529.038456</td>\n",
       "      <td>0.500000</td>\n",
       "      <td>5.471582</td>\n",
       "      <td>GFUI035874</td>\n",
       "    </tr>\n",
       "    <tr>\n",
       "      <th>2</th>\n",
       "      <td>GFUI033625-PA</td>\n",
       "      <td>P</td>\n",
       "      <td>GO:0005980</td>\n",
       "      <td>glycogen catabolic process</td>\n",
       "      <td>307.758251</td>\n",
       "      <td>0.284597</td>\n",
       "      <td>13.424450</td>\n",
       "      <td>GFUI033625</td>\n",
       "    </tr>\n",
       "    <tr>\n",
       "      <th>3</th>\n",
       "      <td>GFUI033625-PA</td>\n",
       "      <td>F</td>\n",
       "      <td>GO:0004134</td>\n",
       "      <td>4-alpha-glucanotransferase activity</td>\n",
       "      <td>159.513252</td>\n",
       "      <td>0.177063</td>\n",
       "      <td>10.153643</td>\n",
       "      <td>GFUI033625</td>\n",
       "    </tr>\n",
       "    <tr>\n",
       "      <th>4</th>\n",
       "      <td>GFUI033625-PA</td>\n",
       "      <td>F</td>\n",
       "      <td>GO:0004135</td>\n",
       "      <td>amylo-alpha-1,6-glucosidase activity</td>\n",
       "      <td>184.352303</td>\n",
       "      <td>0.177063</td>\n",
       "      <td>11.734746</td>\n",
       "      <td>GFUI033625</td>\n",
       "    </tr>\n",
       "  </tbody>\n",
       "</table>\n",
       "</div>"
      ],
      "text/plain": [
       "        Sequence Aspect       GO ID                                  Name  \\\n",
       "0  GFUI034947-PA      P  GO:0006508                           proteolysis   \n",
       "1  GFUI035874-PA      F  GO:0005515                       protein binding   \n",
       "2  GFUI033625-PA      P  GO:0005980            glycogen catabolic process   \n",
       "3  GFUI033625-PA      F  GO:0004134   4-alpha-glucanotransferase activity   \n",
       "4  GFUI033625-PA      F  GO:0004135  amylo-alpha-1,6-glucosidase activity   \n",
       "\n",
       "   Total Score  Internal Confidence  Information Content     gene_id  \n",
       "0   270.313447             0.496543             8.247696  GFUI034947  \n",
       "1   529.038456             0.500000             5.471582  GFUI035874  \n",
       "2   307.758251             0.284597            13.424450  GFUI033625  \n",
       "3   159.513252             0.177063            10.153643  GFUI033625  \n",
       "4   184.352303             0.177063            11.734746  GFUI033625  "
      ]
     },
     "execution_count": 9,
     "metadata": {},
     "output_type": "execute_result"
    }
   ],
   "source": [
    "argot2['gene_id'] = argot2.Sequence.apply(lambda x: x[:-3])\n",
    "argot2_200 = argot2[argot2['Total Score'] >= 200]\n",
    "argot2.head()"
   ]
  },
  {
   "cell_type": "markdown",
   "metadata": {},
   "source": [
    "#### Function to create dictionary-based retrieval object for gene/SNP data:"
   ]
  },
  {
   "cell_type": "code",
   "execution_count": 10,
   "metadata": {
    "collapsed": true
   },
   "outputs": [],
   "source": [
    "def snp_vs_gff_to_DF(bedtools_out):\n",
    "    headers = [\"bed3_seq\",\n",
    "               \"bed3_start\",\n",
    "               \"bed3_end\",\n",
    "               \"gff3_seq\",\n",
    "               \"gff3_source\",\n",
    "               \"gff3_type\",\n",
    "               \"gff3_start\",\n",
    "               \"gff3_end\",\n",
    "               \"gff3_score\",\n",
    "               \"gff3_strand\",\n",
    "               \"gff3_phase\",\n",
    "               \"gff3_attributes\",]\n",
    "    df = pd.read_csv(bedtools_out.fn, sep='\\t', names=headers)\n",
    "    \n",
    "    gene_id = lambda x: parse_gff3_attributes(x)['ID']\n",
    "    \n",
    "    df['gff3_rec'] = df.gff3_attributes.apply(gene_id)\n",
    "    \n",
    "    return df\n",
    "\n",
    "def genes_near_bed(query_bedtool, gene_bedtool, annotations, w=1000):\n",
    "    df = snp_vs_gff_to_DF(query_bedtool.window(gene_bedtool, w=w))\n",
    "    df = df.merge(right=annotations,\n",
    "                  how='left',\n",
    "                  on=None,\n",
    "                  left_on='gff3_rec', \n",
    "                  right_on='gene_id')\n",
    "    return df"
   ]
  },
  {
   "cell_type": "code",
   "execution_count": 11,
   "metadata": {
    "collapsed": true
   },
   "outputs": [],
   "source": [
    "# - generate set of non-redundant andrea snps from joined table as set of tuples\n",
    "# - convert to bedtool object(s)\n",
    "def reduce_joined_SNP_coords(snps_interest_df):\n",
    "    df = snps_interest_df  # less typing\n",
    "\n",
    "    if len(df) == 0:\n",
    "        return None\n",
    "    \n",
    "    \n",
    "    snp_set = set()\n",
    "    snp_set.update(list(df.apply(lambda x: str((x.seq_x, x.start_x, x.end_x)),1)))\n",
    "    snp_set.update(list(df.apply(lambda x: str((x.seq_y, x.start_y, x.end_y)),1)))\n",
    "\n",
    "    snp_set.discard(\"(nan, nan, nan)\")\n",
    "    \n",
    "    return pbt.BedTool('\\n'.join((l.replace(\".0\",'').replace(\"'\",\"\").replace('(','').replace(')','').replace(',','\\t') for l in snp_set)), from_string=True)\n",
    "\n",
    "\n",
    "# - get windowed intersection intersection with gene models using pybedtools\n",
    "\n",
    "def get_win_isec(a,b,win=1000):\n",
    "    if a is None:\n",
    "        return None\n",
    "    return a.window(b, w=win)\n",
    "\n",
    "\n",
    "def add_SNP_to_gene_distance(df):\n",
    "    if df is not None:\n",
    "        df['d_to_gene'] = df.apply(d_to_gene,1)\n",
    "\n",
    "\n",
    "def d_to_gene(x):\n",
    "\n",
    "    low,high = ((x.bed3_end - x.gff3_start),(x.bed3_end - x.gff3_end))\n",
    "\n",
    "    if (low >= 0) and (high <= 0):\n",
    "        return 0\n",
    "    else:\n",
    "        return min([abs(low),abs(high)])\n",
    "\n",
    "    \n",
    "\n",
    "# get annotations for genes:\n",
    "def join_genes_with_annos(genes, annotations, how=\"inner\"):\n",
    "    if genes is None:\n",
    "        return None\n",
    "    return pd.merge(left=genes, right=annotations, \n",
    "                    how=how, \n",
    "                    on=None, \n",
    "                    left_on='gff3_rec', right_on='gene_id')"
   ]
  },
  {
   "cell_type": "code",
   "execution_count": 12,
   "metadata": {
    "collapsed": true
   },
   "outputs": [],
   "source": [
    "def make_table_selected_snps_vs_LD_filter(anno_dfs):\n",
    "    \n",
    "    new_headers = [\"SNP group\",\n",
    "                   \"Gene\",\n",
    "                   \"Scaffold\",\n",
    "                   \"SNP Location\",\n",
    "                   \"Distance to Gene\",\n",
    "                   \"Top C\",\n",
    "                   \"Top P\",\n",
    "                   \"Top F\"]\n",
    "\n",
    "    old_headers = [\"snp_group\",\n",
    "                   \"bed3_seq\",\n",
    "                   \"gff3_rec\",\n",
    "                   \"bed3_end\",\n",
    "                   \"d_to_gene\"]\n",
    "\n",
    "\n",
    "    \n",
    "    concat_df = concat_dfs(anno_dfs)\n",
    "\n",
    "\n",
    "    # group concat_df\n",
    "    groups = concat_df.groupby(by=old_headers)\n",
    "\n",
    "    # Collect row data\n",
    "    out_rows = []\n",
    "\n",
    "    for name,group in groups.groups.items():\n",
    "        out_rows.append(new_row_from_group(groups.get_group(name)))\n",
    "\n",
    "    # create final table\n",
    "#     out_table = pd.DataFrame(data=out_rows, index=None, columns=new_headers, dtype=None, copy=False)\n",
    "#     gene_mask = out_table.Gene.notnull()\n",
    "#     out_table = out_table[gene_mask]\n",
    "    return pd.DataFrame(data=out_rows, index=None, columns=new_headers, dtype=None, copy=False)\n",
    "\n",
    "\n",
    "\n",
    "def new_row_from_group(group):\n",
    "\n",
    "    row  = get_old_header_values(group)\n",
    "    row[\"Top C\"] = get_top_3_terms(group=group,aspect=\"C\")\n",
    "    row[\"Top P\"] = get_top_3_terms(group=group,aspect=\"P\")\n",
    "    row[\"Top F\"] = get_top_3_terms(group=group,aspect=\"F\")\n",
    "\n",
    "    return pd.Series(row)\n",
    "\n",
    "def get_old_header_values(group):\n",
    "    vals = munch.Munch()\n",
    "\n",
    "    vals[\"SNP group\"] = group.snp_group.iloc[0]\n",
    "    vals[\"Scaffold\"] = group.bed3_seq.iloc[0]\n",
    "    vals[\"Gene\"] = group.gff3_rec.iloc[0]\n",
    "    vals[\"SNP Location\"] = group.bed3_end.iloc[0]\n",
    "    vals[\"Distance to Gene\"] = group.d_to_gene.iloc[0]\n",
    "\n",
    "    return vals\n",
    "\n",
    "\n",
    "def get_top_3_terms(group,aspect):\n",
    "    df = group.query(\"Aspect == '{aspect}'\".format(aspect=aspect))\n",
    "\n",
    "    return \";\".join(df.sort(\"Total Score\").Name[:3].values)\n",
    "\n",
    "def concat_dfs(dfs):\n",
    "\n",
    "    concat_df = pd.DataFrame()\n",
    "\n",
    "    # add snp-group name to rows and concat to new table\n",
    "    for name, df in dfs.items():\n",
    "\n",
    "        try:\n",
    "            df[\"snp_group\"] = name\n",
    "        except TypeError:\n",
    "            pass\n",
    "\n",
    "        concat_df = pd.concat(objs=[concat_df,df], axis=0, join='outer', join_axes=None, ignore_index=True, keys=None, levels=None, names=None, verify_integrity=False, copy=True)\n",
    "\n",
    "    return concat_df"
   ]
  },
  {
   "cell_type": "markdown",
   "metadata": {
    "collapsed": true
   },
   "source": [
    "#  Genes located near by `query_bedtool`"
   ]
  },
  {
   "cell_type": "code",
   "execution_count": 13,
   "metadata": {
    "collapsed": false
   },
   "outputs": [],
   "source": [
    "NEARBY_GENES = {}\n",
    "NEARBY_GENES['Top10_InfectionOverall'] = genes_near_bed(query_bedtool=Top10_InfectionOverall, gene_bedtool=genes, annotations=argot2_200)\n",
    "NEARBY_GENES['Top10_corrected_PopPairwiseOverlap_Infection2015'] = genes_near_bed(query_bedtool=Top10_corrected_PopPairwiseOverlap_Infection2015, gene_bedtool=genes, annotations=argot2_200)\n",
    "NEARBY_GENES['Top10_PopPairwiseOverlap_Environm'] = genes_near_bed(query_bedtool=Top10_PopPairwiseOverlap_Environm, gene_bedtool=genes, annotations=argot2_200)\n",
    "NEARBY_GENES['Selected_PopPairwiseMSOT_Environm'] = genes_near_bed(query_bedtool=Selected_PopPairwiseMSOT_Environm, gene_bedtool=genes, annotations=argot2_200)\n",
    "NEARBY_GENES['Selected_PopPairwiseMSNB_Environm'] = genes_near_bed(query_bedtool=Selected_PopPairwiseMSNB_Environm, gene_bedtool=genes, annotations=argot2_200)\n",
    "NEARBY_GENES['pcadapt_outliers'] = genes_near_bed(query_bedtool=pcadapt_outliers, gene_bedtool=genes, annotations=argot2_200)\n",
    "NEARBY_GENES['MS_bayescan_infection_outlier'] = genes_near_bed(query_bedtool=MS_bayescan_infection_outlier, gene_bedtool=genes, annotations=argot2_200)\n"
   ]
  },
  {
   "cell_type": "code",
   "execution_count": 14,
   "metadata": {
    "collapsed": false
   },
   "outputs": [
    {
     "data": {
      "text/html": [
       "<div>\n",
       "<table border=\"1\" class=\"dataframe\">\n",
       "  <thead>\n",
       "    <tr style=\"text-align: right;\">\n",
       "      <th></th>\n",
       "      <th>bed3_seq</th>\n",
       "      <th>bed3_start</th>\n",
       "      <th>bed3_end</th>\n",
       "      <th>gff3_seq</th>\n",
       "      <th>gff3_source</th>\n",
       "      <th>gff3_type</th>\n",
       "      <th>gff3_start</th>\n",
       "      <th>gff3_end</th>\n",
       "      <th>gff3_score</th>\n",
       "      <th>gff3_strand</th>\n",
       "      <th>gff3_phase</th>\n",
       "      <th>gff3_attributes</th>\n",
       "      <th>gff3_rec</th>\n",
       "      <th>Sequence</th>\n",
       "      <th>Aspect</th>\n",
       "      <th>GO ID</th>\n",
       "      <th>Name</th>\n",
       "      <th>Total Score</th>\n",
       "      <th>Internal Confidence</th>\n",
       "      <th>Information Content</th>\n",
       "      <th>gene_id</th>\n",
       "    </tr>\n",
       "  </thead>\n",
       "  <tbody>\n",
       "  </tbody>\n",
       "</table>\n",
       "</div>"
      ],
      "text/plain": [
       "Empty DataFrame\n",
       "Columns: [bed3_seq, bed3_start, bed3_end, gff3_seq, gff3_source, gff3_type, gff3_start, gff3_end, gff3_score, gff3_strand, gff3_phase, gff3_attributes, gff3_rec, Sequence, Aspect, GO ID, Name, Total Score, Internal Confidence, Information Content, gene_id]\n",
       "Index: []"
      ]
     },
     "execution_count": 14,
     "metadata": {},
     "output_type": "execute_result"
    }
   ],
   "source": [
    "NEARBY_GENES['MS_bayescan_infection_outlier'].head()"
   ]
  },
  {
   "cell_type": "code",
   "execution_count": 15,
   "metadata": {
    "collapsed": true
   },
   "outputs": [],
   "source": [
    "for name, value in NEARBY_GENES.items():\n",
    "        if value is None:\n",
    "            pass\n",
    "        elif (len(value) > 0):\n",
    "            add_SNP_to_gene_distance(value)\n",
    "        else:\n",
    "            NEARBY_GENES[name] = None"
   ]
  },
  {
   "cell_type": "code",
   "execution_count": 16,
   "metadata": {
    "collapsed": false
   },
   "outputs": [],
   "source": [
    "table1 = make_table_selected_snps_vs_LD_filter(NEARBY_GENES)"
   ]
  },
  {
   "cell_type": "code",
   "execution_count": 1,
   "metadata": {
    "collapsed": false,
    "scrolled": false
   },
   "outputs": [
    {
     "ename": "NameError",
     "evalue": "name 'table1' is not defined",
     "output_type": "error",
     "traceback": [
      "\u001b[1;31m---------------------------------------------------------------------------\u001b[0m",
      "\u001b[1;31mNameError\u001b[0m                                 Traceback (most recent call last)",
      "\u001b[1;32m<ipython-input-1-63e2efb3a475>\u001b[0m in \u001b[0;36m<module>\u001b[1;34m()\u001b[0m\n\u001b[1;32m----> 1\u001b[1;33m \u001b[0mtable1\u001b[0m\u001b[1;33m[\u001b[0m\u001b[0mtable1\u001b[0m\u001b[1;33m[\u001b[0m\u001b[1;34m\"SNP group\"\u001b[0m\u001b[1;33m]\u001b[0m \u001b[1;33m==\u001b[0m \u001b[1;34m\"Top10_PopPairwiseOverlap_Environm\"\u001b[0m\u001b[1;33m]\u001b[0m\u001b[1;33m.\u001b[0m\u001b[0mhead\u001b[0m\u001b[1;33m(\u001b[0m\u001b[1;36m15\u001b[0m\u001b[1;33m)\u001b[0m\u001b[1;33m\u001b[0m\u001b[0m\n\u001b[0m",
      "\u001b[1;31mNameError\u001b[0m: name 'table1' is not defined"
     ]
    }
   ],
   "source": [
    "table1[table1[\"SNP group\"] == \"Top10_PopPairwiseOverlap_Environm\"].head(15)"
   ]
  },
  {
   "cell_type": "code",
   "execution_count": 18,
   "metadata": {
    "collapsed": false
   },
   "outputs": [
    {
     "data": {
      "text/html": [
       "<div>\n",
       "<table border=\"1\" class=\"dataframe\">\n",
       "  <thead>\n",
       "    <tr style=\"text-align: right;\">\n",
       "      <th></th>\n",
       "      <th>Scaffold</th>\n",
       "      <th>SNP Location</th>\n",
       "      <th>LD Filtered</th>\n",
       "    </tr>\n",
       "  </thead>\n",
       "  <tbody>\n",
       "    <tr>\n",
       "      <th>11</th>\n",
       "      <td>Scaffold0</td>\n",
       "      <td>13388</td>\n",
       "      <td>True</td>\n",
       "    </tr>\n",
       "    <tr>\n",
       "      <th>11</th>\n",
       "      <td>Scaffold0</td>\n",
       "      <td>86267</td>\n",
       "      <td>True</td>\n",
       "    </tr>\n",
       "    <tr>\n",
       "      <th>21</th>\n",
       "      <td>Scaffold0</td>\n",
       "      <td>183680</td>\n",
       "      <td>True</td>\n",
       "    </tr>\n",
       "    <tr>\n",
       "      <th>21</th>\n",
       "      <td>Scaffold0</td>\n",
       "      <td>13388</td>\n",
       "      <td>True</td>\n",
       "    </tr>\n",
       "    <tr>\n",
       "      <th>84</th>\n",
       "      <td>Scaffold0</td>\n",
       "      <td>13388</td>\n",
       "      <td>True</td>\n",
       "    </tr>\n",
       "  </tbody>\n",
       "</table>\n",
       "</div>"
      ],
      "text/plain": [
       "     Scaffold  SNP Location LD Filtered\n",
       "11  Scaffold0         13388        True\n",
       "11  Scaffold0         86267        True\n",
       "21  Scaffold0        183680        True\n",
       "21  Scaffold0         13388        True\n",
       "84  Scaffold0         13388        True"
      ]
     },
     "execution_count": 18,
     "metadata": {},
     "output_type": "execute_result"
    }
   ],
   "source": [
    "# convert LD filtered SNP-pairs into table of single seq:location data\n",
    "\n",
    "ld_filtered_snp_pairs = ld.query(\"one_minus_cdf_BH <= 0.01\")\n",
    "ld_filtered_snps_a = ld_filtered_snp_pairs[[\"CHR_A\",\"BP_A\"]].rename(columns={\"CHR_A\":\"Scaffold\",\"BP_A\":\"SNP Location\"})\n",
    "ld_filtered_snps_b = ld_filtered_snp_pairs[[\"CHR_A\",\"BP_B\"]].rename(columns={\"CHR_A\":\"Scaffold\",\"BP_B\":\"SNP Location\"})\n",
    "ld_filtered_snps = pd.concat([ld_filtered_snps_a,ld_filtered_snps_b]).sort()\n",
    "ld_filtered_snps[\"LD Filtered\"] = 'True'\n",
    "ld_filtered_snps.head()"
   ]
  },
  {
   "cell_type": "code",
   "execution_count": 19,
   "metadata": {
    "collapsed": false
   },
   "outputs": [
    {
     "name": "stdout",
     "output_type": "stream",
     "text": [
      "Total SNP-pairs: 6454294\n",
      "Filtered SNP-pairs: 24372\n",
      "Percent filtered_pairs to total_pairs: 0.377609076996\n"
     ]
    }
   ],
   "source": [
    "# What is the passed/not passed data for LD_filter?\n",
    "\n",
    "total_pairs = len(ld)\n",
    "filtered_pairs = len(ld_filtered_snp_pairs)\n",
    "\n",
    "print \"Total SNP-pairs: {}\".format(total_pairs)\n",
    "print \"Filtered SNP-pairs: {}\".format(filtered_pairs)\n",
    "print \"Percent filtered_pairs to total_pairs: {}\".format(float(filtered_pairs)/total_pairs*100)\n"
   ]
  },
  {
   "cell_type": "code",
   "execution_count": 20,
   "metadata": {
    "collapsed": false
   },
   "outputs": [],
   "source": [
    "table1 = table1.merge(ld_filtered_snps, \n",
    "             how='left', \n",
    "             on=[\"Scaffold\",\"SNP Location\"], left_on=None, right_on=None,  \n",
    "             sort=False, suffixes=('_x', '_y'), copy=True).drop_duplicates()"
   ]
  },
  {
   "cell_type": "code",
   "execution_count": 21,
   "metadata": {
    "collapsed": true
   },
   "outputs": [],
   "source": [
    "# table1.to_excel('/home/gus/src/repos/git/markdown-docs/manuscripts/Gloria-Soria/2015/ddRAD58/tables/report_to_andrea_to_authors_PREFORMAT.xls',index=False)"
   ]
  },
  {
   "cell_type": "code",
   "execution_count": 22,
   "metadata": {
    "collapsed": false
   },
   "outputs": [],
   "source": [
    "# table1.query()"
   ]
  },
  {
   "cell_type": "markdown",
   "metadata": {},
   "source": [
    "# Confirm SNP numbers for `Selected_PopPairwiseMSOT_Environm` and `Selected_PopPairwiseMSNB_Environm`"
   ]
  },
  {
   "cell_type": "code",
   "execution_count": 23,
   "metadata": {
    "collapsed": true
   },
   "outputs": [],
   "source": [
    "# number of SNPs total\n",
    "Selected_PopPairwiseMSOT_Environm_count = len(Selected_PopPairwiseMSOT_Environm)\n",
    "Selected_PopPairwiseMSNB_Environm_count = len(Selected_PopPairwiseMSNB_Environm)"
   ]
  },
  {
   "cell_type": "code",
   "execution_count": 24,
   "metadata": {
    "collapsed": false
   },
   "outputs": [],
   "source": [
    "# number of SNPs passed LD\n",
    "Selected_PopPairwiseMSOT_Environm_count_LD = Selected_PopPairwiseMSOT_Environm.to_dataframe().merge(ld_filtered_snps, \n",
    "             how='inner', \n",
    "             on=None, left_on=[\"chrom\",\"end\"], right_on=[\"Scaffold\",\"SNP Location\"],  \n",
    "             sort=False, suffixes=('_x', '_y'), copy=True).drop_duplicates()\n",
    "Selected_PopPairwiseMSNB_Environm_count_LD = Selected_PopPairwiseMSNB_Environm.to_dataframe().merge(ld_filtered_snps, \n",
    "             how='inner', \n",
    "             on=None, left_on=[\"chrom\",\"end\"], right_on=[\"Scaffold\",\"SNP Location\"],  \n",
    "             sort=False, suffixes=('_x', '_y'), copy=True).drop_duplicates()"
   ]
  },
  {
   "cell_type": "code",
   "execution_count": 25,
   "metadata": {
    "collapsed": false
   },
   "outputs": [
    {
     "name": "stdout",
     "output_type": "stream",
     "text": [
      "Selected_PopPairwiseMSOT_Environm_count_LD: 60\n",
      "Selected_PopPairwiseMSNB_Environm_count_LD: 8\n"
     ]
    }
   ],
   "source": [
    "msg = \"\"\"Selected_PopPairwiseMSOT_Environm_count_LD: {Selected_PopPairwiseMSOT_Environm_count_LD}\n",
    "Selected_PopPairwiseMSNB_Environm_count_LD: {Selected_PopPairwiseMSNB_Environm_count_LD}\"\"\"\n",
    "\n",
    "print msg.format(Selected_PopPairwiseMSOT_Environm_count_LD=len(Selected_PopPairwiseMSOT_Environm_count_LD),\n",
    "Selected_PopPairwiseMSNB_Environm_count_LD= len(Selected_PopPairwiseMSNB_Environm_count_LD))"
   ]
  },
  {
   "cell_type": "code",
   "execution_count": 26,
   "metadata": {
    "collapsed": false
   },
   "outputs": [
    {
     "data": {
      "text/html": [
       "<div>\n",
       "<table border=\"1\" class=\"dataframe\">\n",
       "  <thead>\n",
       "    <tr style=\"text-align: right;\">\n",
       "      <th></th>\n",
       "      <th>chrom</th>\n",
       "      <th>start</th>\n",
       "      <th>end</th>\n",
       "      <th>Scaffold</th>\n",
       "      <th>SNP Location</th>\n",
       "      <th>LD Filtered</th>\n",
       "    </tr>\n",
       "  </thead>\n",
       "  <tbody>\n",
       "    <tr>\n",
       "      <th>0</th>\n",
       "      <td>Scaffold2</td>\n",
       "      <td>1124644</td>\n",
       "      <td>1124645</td>\n",
       "      <td>Scaffold2</td>\n",
       "      <td>1124645</td>\n",
       "      <td>True</td>\n",
       "    </tr>\n",
       "    <tr>\n",
       "      <th>1</th>\n",
       "      <td>Scaffold2</td>\n",
       "      <td>1134591</td>\n",
       "      <td>1134592</td>\n",
       "      <td>Scaffold2</td>\n",
       "      <td>1134592</td>\n",
       "      <td>True</td>\n",
       "    </tr>\n",
       "    <tr>\n",
       "      <th>5</th>\n",
       "      <td>Scaffold87</td>\n",
       "      <td>761672</td>\n",
       "      <td>761673</td>\n",
       "      <td>Scaffold87</td>\n",
       "      <td>761673</td>\n",
       "      <td>True</td>\n",
       "    </tr>\n",
       "    <tr>\n",
       "      <th>7</th>\n",
       "      <td>Scaffold319</td>\n",
       "      <td>155546</td>\n",
       "      <td>155547</td>\n",
       "      <td>Scaffold319</td>\n",
       "      <td>155547</td>\n",
       "      <td>True</td>\n",
       "    </tr>\n",
       "    <tr>\n",
       "      <th>11</th>\n",
       "      <td>Scaffold319</td>\n",
       "      <td>195699</td>\n",
       "      <td>195700</td>\n",
       "      <td>Scaffold319</td>\n",
       "      <td>195700</td>\n",
       "      <td>True</td>\n",
       "    </tr>\n",
       "  </tbody>\n",
       "</table>\n",
       "</div>"
      ],
      "text/plain": [
       "          chrom    start      end     Scaffold  SNP Location LD Filtered\n",
       "0     Scaffold2  1124644  1124645    Scaffold2       1124645        True\n",
       "1     Scaffold2  1134591  1134592    Scaffold2       1134592        True\n",
       "5    Scaffold87   761672   761673   Scaffold87        761673        True\n",
       "7   Scaffold319   155546   155547  Scaffold319        155547        True\n",
       "11  Scaffold319   195699   195700  Scaffold319        195700        True"
      ]
     },
     "execution_count": 26,
     "metadata": {},
     "output_type": "execute_result"
    }
   ],
   "source": [
    "Selected_PopPairwiseMSOT_Environm_count_LD.head()"
   ]
  },
  {
   "cell_type": "code",
   "execution_count": 27,
   "metadata": {
    "collapsed": false
   },
   "outputs": [
    {
     "data": {
      "text/html": [
       "<div>\n",
       "<table border=\"1\" class=\"dataframe\">\n",
       "  <thead>\n",
       "    <tr style=\"text-align: right;\">\n",
       "      <th></th>\n",
       "      <th>chrom</th>\n",
       "      <th>start</th>\n",
       "      <th>end</th>\n",
       "      <th>Scaffold</th>\n",
       "      <th>SNP Location</th>\n",
       "      <th>LD Filtered</th>\n",
       "    </tr>\n",
       "  </thead>\n",
       "  <tbody>\n",
       "    <tr>\n",
       "      <th>0</th>\n",
       "      <td>Scaffold288</td>\n",
       "      <td>11420</td>\n",
       "      <td>11421</td>\n",
       "      <td>Scaffold288</td>\n",
       "      <td>11421</td>\n",
       "      <td>True</td>\n",
       "    </tr>\n",
       "    <tr>\n",
       "      <th>1</th>\n",
       "      <td>Scaffold549</td>\n",
       "      <td>36666</td>\n",
       "      <td>36667</td>\n",
       "      <td>Scaffold549</td>\n",
       "      <td>36667</td>\n",
       "      <td>True</td>\n",
       "    </tr>\n",
       "    <tr>\n",
       "      <th>2</th>\n",
       "      <td>Scaffold549</td>\n",
       "      <td>36672</td>\n",
       "      <td>36673</td>\n",
       "      <td>Scaffold549</td>\n",
       "      <td>36673</td>\n",
       "      <td>True</td>\n",
       "    </tr>\n",
       "    <tr>\n",
       "      <th>3</th>\n",
       "      <td>Scaffold368</td>\n",
       "      <td>277080</td>\n",
       "      <td>277081</td>\n",
       "      <td>Scaffold368</td>\n",
       "      <td>277081</td>\n",
       "      <td>True</td>\n",
       "    </tr>\n",
       "    <tr>\n",
       "      <th>5</th>\n",
       "      <td>Scaffold368</td>\n",
       "      <td>279445</td>\n",
       "      <td>279446</td>\n",
       "      <td>Scaffold368</td>\n",
       "      <td>279446</td>\n",
       "      <td>True</td>\n",
       "    </tr>\n",
       "    <tr>\n",
       "      <th>6</th>\n",
       "      <td>Scaffold368</td>\n",
       "      <td>279478</td>\n",
       "      <td>279479</td>\n",
       "      <td>Scaffold368</td>\n",
       "      <td>279479</td>\n",
       "      <td>True</td>\n",
       "    </tr>\n",
       "    <tr>\n",
       "      <th>9</th>\n",
       "      <td>Scaffold368</td>\n",
       "      <td>310506</td>\n",
       "      <td>310507</td>\n",
       "      <td>Scaffold368</td>\n",
       "      <td>310507</td>\n",
       "      <td>True</td>\n",
       "    </tr>\n",
       "    <tr>\n",
       "      <th>10</th>\n",
       "      <td>Scaffold368</td>\n",
       "      <td>310519</td>\n",
       "      <td>310520</td>\n",
       "      <td>Scaffold368</td>\n",
       "      <td>310520</td>\n",
       "      <td>True</td>\n",
       "    </tr>\n",
       "  </tbody>\n",
       "</table>\n",
       "</div>"
      ],
      "text/plain": [
       "          chrom   start     end     Scaffold  SNP Location LD Filtered\n",
       "0   Scaffold288   11420   11421  Scaffold288         11421        True\n",
       "1   Scaffold549   36666   36667  Scaffold549         36667        True\n",
       "2   Scaffold549   36672   36673  Scaffold549         36673        True\n",
       "3   Scaffold368  277080  277081  Scaffold368        277081        True\n",
       "5   Scaffold368  279445  279446  Scaffold368        279446        True\n",
       "6   Scaffold368  279478  279479  Scaffold368        279479        True\n",
       "9   Scaffold368  310506  310507  Scaffold368        310507        True\n",
       "10  Scaffold368  310519  310520  Scaffold368        310520        True"
      ]
     },
     "execution_count": 27,
     "metadata": {},
     "output_type": "execute_result"
    }
   ],
   "source": [
    "# number of SNPs passed LD\n",
    "Selected_PopPairwiseMSOT_Environm_count_LD\n",
    "Selected_PopPairwiseMSNB_Environm_count_LD"
   ]
  },
  {
   "cell_type": "code",
   "execution_count": 28,
   "metadata": {
    "collapsed": false
   },
   "outputs": [
    {
     "data": {
      "text/html": [
       "<div>\n",
       "<table border=\"1\" class=\"dataframe\">\n",
       "  <thead>\n",
       "    <tr style=\"text-align: right;\">\n",
       "      <th></th>\n",
       "      <th>chrom</th>\n",
       "      <th>start</th>\n",
       "      <th>end</th>\n",
       "    </tr>\n",
       "  </thead>\n",
       "  <tbody>\n",
       "    <tr>\n",
       "      <th>0</th>\n",
       "      <td>Scaffold2</td>\n",
       "      <td>1124644</td>\n",
       "      <td>1124645</td>\n",
       "    </tr>\n",
       "    <tr>\n",
       "      <th>1</th>\n",
       "      <td>Scaffold2</td>\n",
       "      <td>1134591</td>\n",
       "      <td>1134592</td>\n",
       "    </tr>\n",
       "    <tr>\n",
       "      <th>2</th>\n",
       "      <td>Scaffold17</td>\n",
       "      <td>839513</td>\n",
       "      <td>839514</td>\n",
       "    </tr>\n",
       "    <tr>\n",
       "      <th>3</th>\n",
       "      <td>Scaffold41</td>\n",
       "      <td>1051694</td>\n",
       "      <td>1051695</td>\n",
       "    </tr>\n",
       "    <tr>\n",
       "      <th>4</th>\n",
       "      <td>Scaffold77</td>\n",
       "      <td>83136</td>\n",
       "      <td>83137</td>\n",
       "    </tr>\n",
       "  </tbody>\n",
       "</table>\n",
       "</div>"
      ],
      "text/plain": [
       "        chrom    start      end\n",
       "0   Scaffold2  1124644  1124645\n",
       "1   Scaffold2  1134591  1134592\n",
       "2  Scaffold17   839513   839514\n",
       "3  Scaffold41  1051694  1051695\n",
       "4  Scaffold77    83136    83137"
      ]
     },
     "execution_count": 28,
     "metadata": {},
     "output_type": "execute_result"
    }
   ],
   "source": [
    "Selected_PopPairwiseMSOT_Environm.to_dataframe().head()"
   ]
  },
  {
   "cell_type": "markdown",
   "metadata": {
    "collapsed": true
   },
   "source": [
    "# Overlap between top 10 infect and geographical"
   ]
  },
  {
   "cell_type": "code",
   "execution_count": 29,
   "metadata": {
    "collapsed": false
   },
   "outputs": [
    {
     "data": {
      "text/html": [
       "<div>\n",
       "<table border=\"1\" class=\"dataframe\">\n",
       "  <thead>\n",
       "    <tr style=\"text-align: right;\">\n",
       "      <th></th>\n",
       "      <th>bed3_seq</th>\n",
       "      <th>bed3_start</th>\n",
       "      <th>bed3_end</th>\n",
       "      <th>gff3_seq</th>\n",
       "      <th>gff3_source</th>\n",
       "      <th>gff3_type</th>\n",
       "      <th>gff3_start</th>\n",
       "      <th>gff3_end</th>\n",
       "      <th>gff3_score</th>\n",
       "      <th>gff3_strand</th>\n",
       "      <th>gff3_phase</th>\n",
       "      <th>gff3_attributes</th>\n",
       "      <th>gff3_rec</th>\n",
       "      <th>Sequence</th>\n",
       "      <th>Aspect</th>\n",
       "      <th>GO ID</th>\n",
       "      <th>Name</th>\n",
       "      <th>Total Score</th>\n",
       "      <th>Internal Confidence</th>\n",
       "      <th>Information Content</th>\n",
       "      <th>gene_id</th>\n",
       "      <th>d_to_gene</th>\n",
       "      <th>snp_group</th>\n",
       "    </tr>\n",
       "  </thead>\n",
       "  <tbody>\n",
       "    <tr>\n",
       "      <th>0</th>\n",
       "      <td>Scaffold2</td>\n",
       "      <td>2593208</td>\n",
       "      <td>2593209</td>\n",
       "      <td>Scaffold2</td>\n",
       "      <td>VectorBase</td>\n",
       "      <td>gene</td>\n",
       "      <td>2593175</td>\n",
       "      <td>2594101</td>\n",
       "      <td>.</td>\n",
       "      <td>-</td>\n",
       "      <td>.</td>\n",
       "      <td>ID=GFUI023810;biotype=protein_coding</td>\n",
       "      <td>GFUI023810</td>\n",
       "      <td>NaN</td>\n",
       "      <td>NaN</td>\n",
       "      <td>NaN</td>\n",
       "      <td>NaN</td>\n",
       "      <td>NaN</td>\n",
       "      <td>NaN</td>\n",
       "      <td>NaN</td>\n",
       "      <td>NaN</td>\n",
       "      <td>0</td>\n",
       "      <td>Top10_corrected_PopPairwiseOverlap_Infection2015</td>\n",
       "    </tr>\n",
       "    <tr>\n",
       "      <th>1</th>\n",
       "      <td>Scaffold355</td>\n",
       "      <td>306767</td>\n",
       "      <td>306768</td>\n",
       "      <td>Scaffold355</td>\n",
       "      <td>VectorBase</td>\n",
       "      <td>gene</td>\n",
       "      <td>287768</td>\n",
       "      <td>311543</td>\n",
       "      <td>.</td>\n",
       "      <td>-</td>\n",
       "      <td>.</td>\n",
       "      <td>ID=GFUI027633;biotype=protein_coding</td>\n",
       "      <td>GFUI027633</td>\n",
       "      <td>NaN</td>\n",
       "      <td>NaN</td>\n",
       "      <td>NaN</td>\n",
       "      <td>NaN</td>\n",
       "      <td>NaN</td>\n",
       "      <td>NaN</td>\n",
       "      <td>NaN</td>\n",
       "      <td>NaN</td>\n",
       "      <td>0</td>\n",
       "      <td>Top10_corrected_PopPairwiseOverlap_Infection2015</td>\n",
       "    </tr>\n",
       "    <tr>\n",
       "      <th>2</th>\n",
       "      <td>Scaffold163</td>\n",
       "      <td>513433</td>\n",
       "      <td>513434</td>\n",
       "      <td>Scaffold163</td>\n",
       "      <td>VectorBase</td>\n",
       "      <td>gene</td>\n",
       "      <td>513883</td>\n",
       "      <td>527197</td>\n",
       "      <td>.</td>\n",
       "      <td>-</td>\n",
       "      <td>.</td>\n",
       "      <td>ID=GFUI010652;biotype=protein_coding</td>\n",
       "      <td>GFUI010652</td>\n",
       "      <td>GFUI010652-PA</td>\n",
       "      <td>P</td>\n",
       "      <td>GO:0006200</td>\n",
       "      <td>ATP catabolic process</td>\n",
       "      <td>474.917555</td>\n",
       "      <td>0.939484</td>\n",
       "      <td>8.421864</td>\n",
       "      <td>GFUI010652</td>\n",
       "      <td>449</td>\n",
       "      <td>Top10_corrected_PopPairwiseOverlap_Infection2015</td>\n",
       "    </tr>\n",
       "    <tr>\n",
       "      <th>3</th>\n",
       "      <td>Scaffold163</td>\n",
       "      <td>513433</td>\n",
       "      <td>513434</td>\n",
       "      <td>Scaffold163</td>\n",
       "      <td>VectorBase</td>\n",
       "      <td>gene</td>\n",
       "      <td>513883</td>\n",
       "      <td>527197</td>\n",
       "      <td>.</td>\n",
       "      <td>-</td>\n",
       "      <td>.</td>\n",
       "      <td>ID=GFUI010652;biotype=protein_coding</td>\n",
       "      <td>GFUI010652</td>\n",
       "      <td>GFUI010652-PA</td>\n",
       "      <td>C</td>\n",
       "      <td>GO:0019028</td>\n",
       "      <td>viral capsid</td>\n",
       "      <td>1239.312392</td>\n",
       "      <td>1.000000</td>\n",
       "      <td>6.609099</td>\n",
       "      <td>GFUI010652</td>\n",
       "      <td>449</td>\n",
       "      <td>Top10_corrected_PopPairwiseOverlap_Infection2015</td>\n",
       "    </tr>\n",
       "    <tr>\n",
       "      <th>4</th>\n",
       "      <td>Scaffold873</td>\n",
       "      <td>18833</td>\n",
       "      <td>18834</td>\n",
       "      <td>Scaffold873</td>\n",
       "      <td>VectorBase</td>\n",
       "      <td>gene</td>\n",
       "      <td>11605</td>\n",
       "      <td>18148</td>\n",
       "      <td>.</td>\n",
       "      <td>+</td>\n",
       "      <td>.</td>\n",
       "      <td>ID=GFUI050068;biotype=protein_coding</td>\n",
       "      <td>GFUI050068</td>\n",
       "      <td>NaN</td>\n",
       "      <td>NaN</td>\n",
       "      <td>NaN</td>\n",
       "      <td>NaN</td>\n",
       "      <td>NaN</td>\n",
       "      <td>NaN</td>\n",
       "      <td>NaN</td>\n",
       "      <td>NaN</td>\n",
       "      <td>686</td>\n",
       "      <td>Top10_corrected_PopPairwiseOverlap_Infection2015</td>\n",
       "    </tr>\n",
       "  </tbody>\n",
       "</table>\n",
       "</div>"
      ],
      "text/plain": [
       "      bed3_seq  bed3_start  bed3_end     gff3_seq gff3_source gff3_type  \\\n",
       "0    Scaffold2     2593208   2593209    Scaffold2  VectorBase      gene   \n",
       "1  Scaffold355      306767    306768  Scaffold355  VectorBase      gene   \n",
       "2  Scaffold163      513433    513434  Scaffold163  VectorBase      gene   \n",
       "3  Scaffold163      513433    513434  Scaffold163  VectorBase      gene   \n",
       "4  Scaffold873       18833     18834  Scaffold873  VectorBase      gene   \n",
       "\n",
       "   gff3_start  gff3_end gff3_score gff3_strand gff3_phase  \\\n",
       "0     2593175   2594101          .           -          .   \n",
       "1      287768    311543          .           -          .   \n",
       "2      513883    527197          .           -          .   \n",
       "3      513883    527197          .           -          .   \n",
       "4       11605     18148          .           +          .   \n",
       "\n",
       "                        gff3_attributes    gff3_rec       Sequence Aspect  \\\n",
       "0  ID=GFUI023810;biotype=protein_coding  GFUI023810            NaN    NaN   \n",
       "1  ID=GFUI027633;biotype=protein_coding  GFUI027633            NaN    NaN   \n",
       "2  ID=GFUI010652;biotype=protein_coding  GFUI010652  GFUI010652-PA      P   \n",
       "3  ID=GFUI010652;biotype=protein_coding  GFUI010652  GFUI010652-PA      C   \n",
       "4  ID=GFUI050068;biotype=protein_coding  GFUI050068            NaN    NaN   \n",
       "\n",
       "        GO ID                   Name  Total Score  Internal Confidence  \\\n",
       "0         NaN                    NaN          NaN                  NaN   \n",
       "1         NaN                    NaN          NaN                  NaN   \n",
       "2  GO:0006200  ATP catabolic process   474.917555             0.939484   \n",
       "3  GO:0019028           viral capsid  1239.312392             1.000000   \n",
       "4         NaN                    NaN          NaN                  NaN   \n",
       "\n",
       "   Information Content     gene_id  d_to_gene  \\\n",
       "0                  NaN         NaN          0   \n",
       "1                  NaN         NaN          0   \n",
       "2             8.421864  GFUI010652        449   \n",
       "3             6.609099  GFUI010652        449   \n",
       "4                  NaN         NaN        686   \n",
       "\n",
       "                                          snp_group  \n",
       "0  Top10_corrected_PopPairwiseOverlap_Infection2015  \n",
       "1  Top10_corrected_PopPairwiseOverlap_Infection2015  \n",
       "2  Top10_corrected_PopPairwiseOverlap_Infection2015  \n",
       "3  Top10_corrected_PopPairwiseOverlap_Infection2015  \n",
       "4  Top10_corrected_PopPairwiseOverlap_Infection2015  "
      ]
     },
     "execution_count": 29,
     "metadata": {},
     "output_type": "execute_result"
    }
   ],
   "source": [
    "env10 = NEARBY_GENES['Top10_PopPairwiseOverlap_Environm']\n",
    "inf10 = NEARBY_GENES['Top10_corrected_PopPairwiseOverlap_Infection2015']\n",
    "inf10.head()"
   ]
  },
  {
   "cell_type": "code",
   "execution_count": 30,
   "metadata": {
    "collapsed": true
   },
   "outputs": [],
   "source": [
    "env_inf = env10.merge(right=inf10, \n",
    "                    how='inner',\n",
    "                    on=[\"bed3_seq\",\"bed3_start\",\"bed3_end\"], left_on=None, right_on=None,\n",
    "                    left_index=False, right_index=False,\n",
    "                    sort=False, suffixes=('_x', '_y'),\n",
    "                    copy=True)"
   ]
  },
  {
   "cell_type": "code",
   "execution_count": 31,
   "metadata": {
    "collapsed": false
   },
   "outputs": [
    {
     "data": {
      "text/html": [
       "<div>\n",
       "<table border=\"1\" class=\"dataframe\">\n",
       "  <thead>\n",
       "    <tr style=\"text-align: right;\">\n",
       "      <th></th>\n",
       "      <th>bed3_seq</th>\n",
       "      <th>bed3_start</th>\n",
       "      <th>bed3_end</th>\n",
       "      <th>gff3_seq_x</th>\n",
       "      <th>gff3_source_x</th>\n",
       "      <th>gff3_type_x</th>\n",
       "      <th>gff3_start_x</th>\n",
       "      <th>gff3_end_x</th>\n",
       "      <th>gff3_score_x</th>\n",
       "      <th>gff3_strand_x</th>\n",
       "      <th>gff3_phase_x</th>\n",
       "      <th>gff3_attributes_x</th>\n",
       "      <th>gff3_rec_x</th>\n",
       "      <th>Sequence_x</th>\n",
       "      <th>Aspect_x</th>\n",
       "      <th>GO ID_x</th>\n",
       "      <th>Name_x</th>\n",
       "      <th>Total Score_x</th>\n",
       "      <th>Internal Confidence_x</th>\n",
       "      <th>Information Content_x</th>\n",
       "      <th>gene_id_x</th>\n",
       "      <th>d_to_gene_x</th>\n",
       "      <th>snp_group_x</th>\n",
       "      <th>gff3_seq_y</th>\n",
       "      <th>gff3_source_y</th>\n",
       "      <th>gff3_type_y</th>\n",
       "      <th>gff3_start_y</th>\n",
       "      <th>gff3_end_y</th>\n",
       "      <th>gff3_score_y</th>\n",
       "      <th>gff3_strand_y</th>\n",
       "      <th>gff3_phase_y</th>\n",
       "      <th>gff3_attributes_y</th>\n",
       "      <th>gff3_rec_y</th>\n",
       "      <th>Sequence_y</th>\n",
       "      <th>Aspect_y</th>\n",
       "      <th>GO ID_y</th>\n",
       "      <th>Name_y</th>\n",
       "      <th>Total Score_y</th>\n",
       "      <th>Internal Confidence_y</th>\n",
       "      <th>Information Content_y</th>\n",
       "      <th>gene_id_y</th>\n",
       "      <th>d_to_gene_y</th>\n",
       "      <th>snp_group_y</th>\n",
       "    </tr>\n",
       "  </thead>\n",
       "  <tbody>\n",
       "  </tbody>\n",
       "</table>\n",
       "</div>"
      ],
      "text/plain": [
       "Empty DataFrame\n",
       "Columns: [bed3_seq, bed3_start, bed3_end, gff3_seq_x, gff3_source_x, gff3_type_x, gff3_start_x, gff3_end_x, gff3_score_x, gff3_strand_x, gff3_phase_x, gff3_attributes_x, gff3_rec_x, Sequence_x, Aspect_x, GO ID_x, Name_x, Total Score_x, Internal Confidence_x, Information Content_x, gene_id_x, d_to_gene_x, snp_group_x, gff3_seq_y, gff3_source_y, gff3_type_y, gff3_start_y, gff3_end_y, gff3_score_y, gff3_strand_y, gff3_phase_y, gff3_attributes_y, gff3_rec_y, Sequence_y, Aspect_y, GO ID_y, Name_y, Total Score_y, Internal Confidence_y, Information Content_y, gene_id_y, d_to_gene_y, snp_group_y]\n",
       "Index: []"
      ]
     },
     "execution_count": 31,
     "metadata": {},
     "output_type": "execute_result"
    }
   ],
   "source": [
    "env_inf"
   ]
  },
  {
   "cell_type": "code",
   "execution_count": 32,
   "metadata": {
    "collapsed": true
   },
   "outputs": [],
   "source": [
    "env10_set = set(env10.bed3_end)\n",
    "inf10_set = set(inf10.bed3_end)"
   ]
  },
  {
   "cell_type": "code",
   "execution_count": 33,
   "metadata": {
    "collapsed": false
   },
   "outputs": [
    {
     "data": {
      "text/plain": [
       "set()"
      ]
     },
     "execution_count": 33,
     "metadata": {},
     "output_type": "execute_result"
    }
   ],
   "source": [
    "env10_set.intersection(inf10_set)"
   ]
  },
  {
   "cell_type": "code",
   "execution_count": 34,
   "metadata": {
    "collapsed": false
   },
   "outputs": [
    {
     "data": {
      "text/html": [
       "<div>\n",
       "<table border=\"1\" class=\"dataframe\">\n",
       "  <thead>\n",
       "    <tr style=\"text-align: right;\">\n",
       "      <th></th>\n",
       "      <th>bed3_seq</th>\n",
       "      <th>bed3_start</th>\n",
       "      <th>bed3_end</th>\n",
       "      <th>gff3_seq</th>\n",
       "      <th>gff3_source</th>\n",
       "      <th>gff3_type</th>\n",
       "      <th>gff3_start</th>\n",
       "      <th>gff3_end</th>\n",
       "      <th>gff3_score</th>\n",
       "      <th>gff3_strand</th>\n",
       "      <th>gff3_phase</th>\n",
       "      <th>gff3_attributes</th>\n",
       "      <th>gff3_rec</th>\n",
       "      <th>Sequence</th>\n",
       "      <th>Aspect</th>\n",
       "      <th>GO ID</th>\n",
       "      <th>Name</th>\n",
       "      <th>Total Score</th>\n",
       "      <th>Internal Confidence</th>\n",
       "      <th>Information Content</th>\n",
       "      <th>gene_id</th>\n",
       "      <th>d_to_gene</th>\n",
       "      <th>snp_group</th>\n",
       "    </tr>\n",
       "  </thead>\n",
       "  <tbody>\n",
       "  </tbody>\n",
       "</table>\n",
       "</div>"
      ],
      "text/plain": [
       "Empty DataFrame\n",
       "Columns: [bed3_seq, bed3_start, bed3_end, gff3_seq, gff3_source, gff3_type, gff3_start, gff3_end, gff3_score, gff3_strand, gff3_phase, gff3_attributes, gff3_rec, Sequence, Aspect, GO ID, Name, Total Score, Internal Confidence, Information Content, gene_id, d_to_gene, snp_group]\n",
       "Index: []"
      ]
     },
     "execution_count": 34,
     "metadata": {},
     "output_type": "execute_result"
    }
   ],
   "source": [
    "inf10.query(\"gff3_rec == 'GFUI009292'\")"
   ]
  },
  {
   "cell_type": "markdown",
   "metadata": {
    "collapsed": true
   },
   "source": [
    "# Do ANY of the PCAdapt SNPs have LD filtered pairs?"
   ]
  },
  {
   "cell_type": "code",
   "execution_count": 35,
   "metadata": {
    "collapsed": false
   },
   "outputs": [
    {
     "data": {
      "text/html": [
       "<div>\n",
       "<table border=\"1\" class=\"dataframe\">\n",
       "  <thead>\n",
       "    <tr style=\"text-align: right;\">\n",
       "      <th></th>\n",
       "      <th>chrom</th>\n",
       "      <th>start</th>\n",
       "      <th>end</th>\n",
       "    </tr>\n",
       "  </thead>\n",
       "  <tbody>\n",
       "    <tr>\n",
       "      <th>0</th>\n",
       "      <td>Scaffold150</td>\n",
       "      <td>13772</td>\n",
       "      <td>13773</td>\n",
       "    </tr>\n",
       "    <tr>\n",
       "      <th>1</th>\n",
       "      <td>Scaffold150</td>\n",
       "      <td>13771</td>\n",
       "      <td>13772</td>\n",
       "    </tr>\n",
       "    <tr>\n",
       "      <th>2</th>\n",
       "      <td>Scaffold250</td>\n",
       "      <td>396213</td>\n",
       "      <td>396214</td>\n",
       "    </tr>\n",
       "    <tr>\n",
       "      <th>3</th>\n",
       "      <td>Scaffold144</td>\n",
       "      <td>565216</td>\n",
       "      <td>565217</td>\n",
       "    </tr>\n",
       "    <tr>\n",
       "      <th>4</th>\n",
       "      <td>Scaffold207</td>\n",
       "      <td>475991</td>\n",
       "      <td>475992</td>\n",
       "    </tr>\n",
       "  </tbody>\n",
       "</table>\n",
       "</div>"
      ],
      "text/plain": [
       "         chrom   start     end\n",
       "0  Scaffold150   13772   13773\n",
       "1  Scaffold150   13771   13772\n",
       "2  Scaffold250  396213  396214\n",
       "3  Scaffold144  565216  565217\n",
       "4  Scaffold207  475991  475992"
      ]
     },
     "execution_count": 35,
     "metadata": {},
     "output_type": "execute_result"
    }
   ],
   "source": [
    "pcadapt_outliers_df = pcadapt_outliers.to_dataframe()\n",
    "pcadapt_outliers_df.head()"
   ]
  },
  {
   "cell_type": "code",
   "execution_count": 36,
   "metadata": {
    "collapsed": false
   },
   "outputs": [
    {
     "data": {
      "text/html": [
       "<div>\n",
       "<table border=\"1\" class=\"dataframe\">\n",
       "  <thead>\n",
       "    <tr style=\"text-align: right;\">\n",
       "      <th></th>\n",
       "      <th>chrom</th>\n",
       "      <th>start</th>\n",
       "      <th>end</th>\n",
       "      <th>Scaffold</th>\n",
       "      <th>SNP Location</th>\n",
       "      <th>LD Filtered</th>\n",
       "    </tr>\n",
       "  </thead>\n",
       "  <tbody>\n",
       "    <tr>\n",
       "      <th>0</th>\n",
       "      <td>Scaffold150</td>\n",
       "      <td>13772</td>\n",
       "      <td>13773</td>\n",
       "      <td>NaN</td>\n",
       "      <td>NaN</td>\n",
       "      <td>NaN</td>\n",
       "    </tr>\n",
       "    <tr>\n",
       "      <th>1</th>\n",
       "      <td>Scaffold150</td>\n",
       "      <td>13771</td>\n",
       "      <td>13772</td>\n",
       "      <td>NaN</td>\n",
       "      <td>NaN</td>\n",
       "      <td>NaN</td>\n",
       "    </tr>\n",
       "    <tr>\n",
       "      <th>2</th>\n",
       "      <td>Scaffold250</td>\n",
       "      <td>396213</td>\n",
       "      <td>396214</td>\n",
       "      <td>NaN</td>\n",
       "      <td>NaN</td>\n",
       "      <td>NaN</td>\n",
       "    </tr>\n",
       "    <tr>\n",
       "      <th>3</th>\n",
       "      <td>Scaffold144</td>\n",
       "      <td>565216</td>\n",
       "      <td>565217</td>\n",
       "      <td>NaN</td>\n",
       "      <td>NaN</td>\n",
       "      <td>NaN</td>\n",
       "    </tr>\n",
       "    <tr>\n",
       "      <th>4</th>\n",
       "      <td>Scaffold207</td>\n",
       "      <td>475991</td>\n",
       "      <td>475992</td>\n",
       "      <td>NaN</td>\n",
       "      <td>NaN</td>\n",
       "      <td>NaN</td>\n",
       "    </tr>\n",
       "    <tr>\n",
       "      <th>5</th>\n",
       "      <td>Scaffold368</td>\n",
       "      <td>310506</td>\n",
       "      <td>310507</td>\n",
       "      <td>Scaffold368</td>\n",
       "      <td>310507</td>\n",
       "      <td>True</td>\n",
       "    </tr>\n",
       "  </tbody>\n",
       "</table>\n",
       "</div>"
      ],
      "text/plain": [
       "         chrom   start     end     Scaffold  SNP Location LD Filtered\n",
       "0  Scaffold150   13772   13773          NaN           NaN         NaN\n",
       "1  Scaffold150   13771   13772          NaN           NaN         NaN\n",
       "2  Scaffold250  396213  396214          NaN           NaN         NaN\n",
       "3  Scaffold144  565216  565217          NaN           NaN         NaN\n",
       "4  Scaffold207  475991  475992          NaN           NaN         NaN\n",
       "5  Scaffold368  310506  310507  Scaffold368        310507        True"
      ]
     },
     "execution_count": 36,
     "metadata": {},
     "output_type": "execute_result"
    }
   ],
   "source": [
    "pcadapt_outliers_df.merge(right=ld_filtered_snps, \n",
    "                          how='left', \n",
    "                          on=None, left_on=[\"chrom\",\"end\"], right_on=[\"Scaffold\",\"SNP Location\"], \n",
    "                          left_index=False, right_index=False, \n",
    "                          sort=False, \n",
    "                          suffixes=('_x', '_y'), \n",
    "                          copy=True)"
   ]
  },
  {
   "cell_type": "code",
   "execution_count": 37,
   "metadata": {
    "collapsed": false
   },
   "outputs": [
    {
     "data": {
      "text/html": [
       "<div>\n",
       "<table border=\"1\" class=\"dataframe\">\n",
       "  <thead>\n",
       "    <tr style=\"text-align: right;\">\n",
       "      <th></th>\n",
       "      <th>Unnamed: 0</th>\n",
       "      <th>Unnamed: 0.1</th>\n",
       "      <th>CHR_A</th>\n",
       "      <th>BP_A</th>\n",
       "      <th>BP_B</th>\n",
       "      <th>N_INDV</th>\n",
       "      <th>R2</th>\n",
       "      <th>BP_DELTA</th>\n",
       "      <th>distance_bin</th>\n",
       "      <th>R2_scaled_for_B</th>\n",
       "      <th>alpha_param</th>\n",
       "      <th>beta_param</th>\n",
       "      <th>cdf</th>\n",
       "      <th>one_minus_cdf</th>\n",
       "      <th>one_minus_cdf_BH</th>\n",
       "      <th>MAP_succeeded</th>\n",
       "    </tr>\n",
       "  </thead>\n",
       "  <tbody>\n",
       "    <tr>\n",
       "      <th>5365233</th>\n",
       "      <td>5365233</td>\n",
       "      <td>5365233</td>\n",
       "      <td>Scaffold368</td>\n",
       "      <td>279479</td>\n",
       "      <td>310507</td>\n",
       "      <td>47</td>\n",
       "      <td>1</td>\n",
       "      <td>31028</td>\n",
       "      <td>31000</td>\n",
       "      <td>0.9995</td>\n",
       "      <td>NaN</td>\n",
       "      <td>NaN</td>\n",
       "      <td>1</td>\n",
       "      <td>1.708366e-08</td>\n",
       "      <td>0.000002</td>\n",
       "      <td>False</td>\n",
       "    </tr>\n",
       "  </tbody>\n",
       "</table>\n",
       "</div>"
      ],
      "text/plain": [
       "         Unnamed: 0  Unnamed: 0.1        CHR_A    BP_A    BP_B  N_INDV  R2  \\\n",
       "5365233     5365233       5365233  Scaffold368  279479  310507      47   1   \n",
       "\n",
       "         BP_DELTA  distance_bin  R2_scaled_for_B  alpha_param  beta_param  \\\n",
       "5365233     31028         31000           0.9995          NaN         NaN   \n",
       "\n",
       "         cdf  one_minus_cdf  one_minus_cdf_BH MAP_succeeded  \n",
       "5365233    1   1.708366e-08          0.000002         False  "
      ]
     },
     "execution_count": 37,
     "metadata": {},
     "output_type": "execute_result"
    }
   ],
   "source": [
    "pcadapt_ld_pair = ld_filtered_snp_pairs.query(\"CHR_A == 'Scaffold368'\").query(\"(BP_A == 310507) or (BP_B == 310507)\")\n",
    "pcadapt_ld_pair"
   ]
  },
  {
   "cell_type": "code",
   "execution_count": 38,
   "metadata": {
    "collapsed": true
   },
   "outputs": [],
   "source": [
    "pcadapt_ld_pair.to_clipboard()"
   ]
  },
  {
   "cell_type": "markdown",
   "metadata": {},
   "source": [
    "## Any interesting genes near the paired SNP?"
   ]
  },
  {
   "cell_type": "code",
   "execution_count": 39,
   "metadata": {
    "collapsed": true
   },
   "outputs": [],
   "source": [
    "pcadapt_ld_mate = pbt.BedTool(\"Scaffold368\\t279478\\t279479\", from_string=True)"
   ]
  },
  {
   "cell_type": "code",
   "execution_count": 40,
   "metadata": {
    "collapsed": false
   },
   "outputs": [
    {
     "data": {
      "text/html": [
       "<div>\n",
       "<table border=\"1\" class=\"dataframe\">\n",
       "  <thead>\n",
       "    <tr style=\"text-align: right;\">\n",
       "      <th></th>\n",
       "      <th>bed3_seq</th>\n",
       "      <th>bed3_start</th>\n",
       "      <th>bed3_end</th>\n",
       "      <th>gff3_seq</th>\n",
       "      <th>gff3_source</th>\n",
       "      <th>gff3_type</th>\n",
       "      <th>gff3_start</th>\n",
       "      <th>gff3_end</th>\n",
       "      <th>gff3_score</th>\n",
       "      <th>gff3_strand</th>\n",
       "      <th>gff3_phase</th>\n",
       "      <th>gff3_attributes</th>\n",
       "      <th>gff3_rec</th>\n",
       "      <th>Sequence</th>\n",
       "      <th>Aspect</th>\n",
       "      <th>GO ID</th>\n",
       "      <th>Name</th>\n",
       "      <th>Total Score</th>\n",
       "      <th>Internal Confidence</th>\n",
       "      <th>Information Content</th>\n",
       "      <th>gene_id</th>\n",
       "    </tr>\n",
       "  </thead>\n",
       "  <tbody>\n",
       "  </tbody>\n",
       "</table>\n",
       "</div>"
      ],
      "text/plain": [
       "Empty DataFrame\n",
       "Columns: [bed3_seq, bed3_start, bed3_end, gff3_seq, gff3_source, gff3_type, gff3_start, gff3_end, gff3_score, gff3_strand, gff3_phase, gff3_attributes, gff3_rec, Sequence, Aspect, GO ID, Name, Total Score, Internal Confidence, Information Content, gene_id]\n",
       "Index: []"
      ]
     },
     "execution_count": 40,
     "metadata": {},
     "output_type": "execute_result"
    }
   ],
   "source": [
    "genes_near_bed(query_bedtool=pcadapt_ld_mate, gene_bedtool=genes, annotations=argot2_200)"
   ]
  },
  {
   "cell_type": "markdown",
   "metadata": {
    "collapsed": true
   },
   "source": [
    "----------------\n",
    "\n",
    "# MS_bayescan_infection_outlier"
   ]
  },
  {
   "cell_type": "markdown",
   "metadata": {},
   "source": [
    "### Any interesting genes near the main SNP?"
   ]
  },
  {
   "cell_type": "code",
   "execution_count": 41,
   "metadata": {
    "collapsed": false
   },
   "outputs": [
    {
     "ename": "AttributeError",
     "evalue": "'NoneType' object has no attribute 'head'",
     "output_type": "error",
     "traceback": [
      "\u001b[1;31m---------------------------------------------------------------------------\u001b[0m",
      "\u001b[1;31mAttributeError\u001b[0m                            Traceback (most recent call last)",
      "\u001b[1;32m<ipython-input-41-469eef6e631a>\u001b[0m in \u001b[0;36m<module>\u001b[1;34m()\u001b[0m\n\u001b[1;32m----> 1\u001b[1;33m \u001b[0mNEARBY_GENES\u001b[0m\u001b[1;33m[\u001b[0m\u001b[1;34m'MS_bayescan_infection_outlier'\u001b[0m\u001b[1;33m]\u001b[0m\u001b[1;33m.\u001b[0m\u001b[0mhead\u001b[0m\u001b[1;33m(\u001b[0m\u001b[1;33m)\u001b[0m\u001b[1;33m\u001b[0m\u001b[0m\n\u001b[0m",
      "\u001b[1;31mAttributeError\u001b[0m: 'NoneType' object has no attribute 'head'"
     ]
    }
   ],
   "source": [
    "NEARBY_GENES['MS_bayescan_infection_outlier'].head()"
   ]
  },
  {
   "cell_type": "markdown",
   "metadata": {},
   "source": [
    "Answer seems to be \"no\" becuase `NEARBY_GENES['MS_bayescan_infection_outlier'] is None`."
   ]
  },
  {
   "cell_type": "markdown",
   "metadata": {
    "collapsed": true
   },
   "source": [
    "# Is `MS_bayescan_infection_outlier` in an LD filtered pair?"
   ]
  },
  {
   "cell_type": "code",
   "execution_count": 42,
   "metadata": {
    "collapsed": false
   },
   "outputs": [
    {
     "data": {
      "text/html": [
       "<div>\n",
       "<table border=\"1\" class=\"dataframe\">\n",
       "  <thead>\n",
       "    <tr style=\"text-align: right;\">\n",
       "      <th></th>\n",
       "      <th>chrom</th>\n",
       "      <th>start</th>\n",
       "      <th>end</th>\n",
       "    </tr>\n",
       "  </thead>\n",
       "  <tbody>\n",
       "    <tr>\n",
       "      <th>0</th>\n",
       "      <td>JFJR01006593.1</td>\n",
       "      <td>85293</td>\n",
       "      <td>85294</td>\n",
       "    </tr>\n",
       "  </tbody>\n",
       "</table>\n",
       "</div>"
      ],
      "text/plain": [
       "            chrom  start    end\n",
       "0  JFJR01006593.1  85293  85294"
      ]
     },
     "execution_count": 42,
     "metadata": {},
     "output_type": "execute_result"
    }
   ],
   "source": [
    "MS_bayescan_infection_outlier_df = MS_bayescan_infection_outlier.to_dataframe()\n",
    "MS_bayescan_infection_outlier_df.head()"
   ]
  },
  {
   "cell_type": "code",
   "execution_count": 43,
   "metadata": {
    "collapsed": false
   },
   "outputs": [
    {
     "data": {
      "text/html": [
       "<div>\n",
       "<table border=\"1\" class=\"dataframe\">\n",
       "  <thead>\n",
       "    <tr style=\"text-align: right;\">\n",
       "      <th></th>\n",
       "      <th>chrom</th>\n",
       "      <th>start</th>\n",
       "      <th>end</th>\n",
       "      <th>Scaffold</th>\n",
       "      <th>SNP Location</th>\n",
       "      <th>LD Filtered</th>\n",
       "    </tr>\n",
       "  </thead>\n",
       "  <tbody>\n",
       "    <tr>\n",
       "      <th>0</th>\n",
       "      <td>JFJR01006593.1</td>\n",
       "      <td>85293</td>\n",
       "      <td>85294</td>\n",
       "      <td>NaN</td>\n",
       "      <td>NaN</td>\n",
       "      <td>NaN</td>\n",
       "    </tr>\n",
       "  </tbody>\n",
       "</table>\n",
       "</div>"
      ],
      "text/plain": [
       "            chrom  start    end Scaffold  SNP Location LD Filtered\n",
       "0  JFJR01006593.1  85293  85294      NaN           NaN         NaN"
      ]
     },
     "execution_count": 43,
     "metadata": {},
     "output_type": "execute_result"
    }
   ],
   "source": [
    "MS_bayescan_infection_outlier_df.merge(right=ld_filtered_snps, \n",
    "                          how='left', \n",
    "                          on=None, left_on=[\"chrom\",\"end\"], right_on=[\"Scaffold\",\"SNP Location\"], \n",
    "                          left_index=False, right_index=False, \n",
    "                          sort=False, \n",
    "                          suffixes=('_x', '_y'), \n",
    "                          copy=True)"
   ]
  }
 ],
 "metadata": {
  "kernelspec": {
   "display_name": "Python 2",
   "language": "python",
   "name": "python2"
  },
  "language_info": {
   "codemirror_mode": {
    "name": "ipython",
    "version": 2
   },
   "file_extension": ".py",
   "mimetype": "text/x-python",
   "name": "python",
   "nbconvert_exporter": "python",
   "pygments_lexer": "ipython2",
   "version": "2.7.9"
  }
 },
 "nbformat": 4,
 "nbformat_minor": 0
}
