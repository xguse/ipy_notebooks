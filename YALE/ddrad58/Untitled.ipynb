{
 "cells": [
  {
   "cell_type": "code",
   "execution_count": 1,
   "metadata": {
    "collapsed": false
   },
   "outputs": [
    {
     "name": "stdout",
     "output_type": "stream",
     "text": [
      "2014-09-08_aedes_vs_gff_genomes.ipynb\r\n",
      "2014-09-11__GfusI1_BED.ipynb\r\n",
      "2014-12-03_rename_vcf_with_integers_mapped_to_contigs.ipynb\r\n",
      "2014-12-04_convert_SNPs_of_interest_to_BED_files.ipynb\r\n",
      "2014-12-04_convert_SNPs_of_interest_to_BED_files_testingPyCharm.ipynb\r\n",
      "2014-12-04_list_of_genes_near_each_SNP.ipynb\r\n",
      "2014-12-06_locating_Chaz_Environment_MicroSats_on_GfusI1.ipynb\r\n",
      "2014-12-07_Splitting_GFusI1.1_PEPTIDES_to_speed_BLAST.ipynb\r\n",
      "2014-12-08_PLINK_setup_and_LD_testing.ipynb\r\n",
      "2014-12-21_split_argot2_input.ipynb\r\n",
      "2014-12-23_create_argot2_functional_annotation_db_GfusI1.1_prerelease.ipynb\r\n",
      "2014-12-24_store_argot2_functional_annotation_db_GfusI1.1_prerelease_as_HDF5.ipynb\r\n",
      "2014-12-26_functional_annotation_table_generator.ipynb\r\n",
      "2015-01-02_Plot_PLINK_results.ipynb\r\n",
      "2015-01-05_Plot_PLINK_results.ipynb\r\n",
      "2015-01-28_Plot_PLINK_results_cumulative.ipynb\r\n",
      "2015-02-05_MAD_idea.ipynb\r\n",
      "2015-02-19_modeling_R2_of_a_distance_bin.ipynb\r\n",
      "2015-02-27_overview_of_LD_work_in_Gff.ipynb\r\n",
      "2015-03-06_FDR_for_HWE.ipynb\r\n",
      "2015-03-12_LD_thresholds_via_binning.ipynb\r\n",
      "2015-03-12_LD_thresholds_via_binning.py\r\n",
      "2015-03-13_LD_thresholds_via_binning_RESULTS.ipynb\r\n",
      "2015-03-13_LD_thresholds_via_binning_RESULTS_TOC.md\r\n",
      "2015-03-31_FDR_for_HWE_POPULATIONS.ipynb\r\n",
      "2015-04-02_functional_annotation_table_generator_post_rerun.ipynb\r\n",
      "2015-04-14_LD_thresholds_via_binning_RESULTS_to_script.ipynb\r\n",
      "2015-04-23_KG_LD_thresholds_via_binning_RESULTS.ipynb\r\n",
      "23800_alpha.png\r\n",
      "23800_beta.png\r\n",
      "300_alpha.png\r\n",
      "300_beta.png\r\n",
      "41100_alpha.png\r\n",
      "41100_beta.png\r\n",
      "9150_alpha.png\r\n",
      "9150_beta.png\r\n",
      "alpha_of_beta.png\r\n",
      "argot_functional_annotations_ts150.tsv\r\n",
      "b_alpha.png\r\n",
      "b_beta.png\r\n",
      "beta_of_beta.png\r\n",
      "bin_beta_model.jpg\r\n",
      "bin_exponential_model.jpg\r\n",
      "container.dot\r\n",
      "evaluate_SNPs_near_GFusI1.0_genes.ipynb\r\n",
      "evaluate_SNPs_near_Txs-checkpoint.bk.ipynb\r\n",
      "evaluate_SNPs_near_Txs.ipynb\r\n",
      "lambda_dist.png\r\n",
      "lambda_of_exponential.png\r\n",
      "test_exts.html\r\n",
      "test_exts.ipynb\r\n",
      "test.h5\r\n",
      "Untitled.ipynb\r\n",
      "*.zip_argot2_results_ts150.tsv\r\n"
     ]
    }
   ],
   "source": [
    "!ls"
   ]
  },
  {
   "cell_type": "code",
   "execution_count": null,
   "metadata": {
    "collapsed": true
   },
   "outputs": [],
   "source": []
  }
 ],
 "metadata": {
  "kernelspec": {
   "display_name": "Python 2",
   "language": "python",
   "name": "python2"
  },
  "language_info": {
   "codemirror_mode": {
    "name": "ipython",
    "version": 2
   },
   "file_extension": ".py",
   "mimetype": "text/x-python",
   "name": "python",
   "nbconvert_exporter": "python",
   "pygments_lexer": "ipython2",
   "version": "2.7.9"
  }
 },
 "nbformat": 4,
 "nbformat_minor": 0
}
