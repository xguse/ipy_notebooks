{
 "cells": [
  {
   "cell_type": "markdown",
   "metadata": {},
   "source": [
    "# Purpose:\n",
    "- complete construction of PLINK files with integer chrom/contig names\n",
    "    - main VCF\n",
    "    - snps_of_interest files\n",
    "- test run on small data to:\n",
    "    - confirm working setup\n",
    "    - learn output\n",
    "- document results in ipython"
   ]
  },
  {
   "cell_type": "markdown",
   "metadata": {},
   "source": [
    "## `plink` version:\n",
    "- `plink/1.90b2o`"
   ]
  },
  {
   "cell_type": "markdown",
   "metadata": {},
   "source": [
    "# Complete construction of PLINK files with integer chrom/contig names:\n",
    "- the major VCF file with all the SNPs has had this done and the resulting name map stred on disk\n",
    "- see [2014-12-03_rename_vcf_with_integers_mapped_to_contigs.ipynb](http://localhost:8888/jupiter/notebooks/YALE/ddrad58/2014-12-03_rename_vcf_with_integers_mapped_to_contigs.ipynb)"
   ]
  },
  {
   "cell_type": "code",
   "execution_count": 2,
   "metadata": {
    "collapsed": true
   },
   "outputs": [],
   "source": [
    "# imports\n"
   ]
  },
  {
   "cell_type": "code",
   "execution_count": 5,
   "metadata": {
    "collapsed": true
   },
   "outputs": [],
   "source": [
    "# file paths\n",
    "contig_int_map_path = \"/home/gus/remote_mounts/louise/data/genomes/glossina_fuscipes/git/glossina_genome_stuff/data/GfusI1/contig_to_integer_map.tsv\"\n",
    "vcf_int = \"/home/gus/remote_mounts/louise/data/genomes/glossina_fuscipes/annotations/SNPs/tsetseFINAL_14Oct2014_f2_53.recode.contigs_as_integers.vcf\"\n"
   ]
  },
  {
   "cell_type": "code",
   "execution_count": 6,
   "metadata": {
    "collapsed": true
   },
   "outputs": [],
   "source": [
    "contig_int_map = {}\n",
    "with open(contig_int_map_path, 'rU') as contig_int_map_file:\n",
    "    for line in contig_int_map_file:\n",
    "        line = line.strip('\\n').split()\n",
    "        contig_int_map[line[0]] = line[1]"
   ]
  },
  {
   "cell_type": "code",
   "execution_count": 7,
   "metadata": {
    "collapsed": false
   },
   "outputs": [
    {
     "data": {
      "text/plain": [
       "[('JFJR01012776.1', '2049'), ('JFJR01012964.1', '3'), ('JFJR01013273.1', '33')]"
      ]
     },
     "execution_count": 7,
     "metadata": {},
     "output_type": "execute_result"
    }
   ],
   "source": [
    "contig_int_map.items()[:3]"
   ]
  },
  {
   "cell_type": "markdown",
   "metadata": {},
   "source": [
    "# Split VCF by chromosome\n",
    "- This is to get aorund the fact that PLINK will only take 59 chromosomes. So I will just run 1000s of PLINK calls I guess."
   ]
  },
  {
   "cell_type": "markdown",
   "metadata": {},
   "source": [
    "##### Strategy:\n",
    "Iterate through the vcf file as:\n",
    "\n",
    "- for each snp line:\n",
    "    - open an outfile with path derived from `source_path` and `chrom_id` for writing and store in a `dict` if none exists already for that chromosome\n",
    "    - write the line to the outfile \n",
    "- Close all files in the file `dict`\n"
   ]
  },
  {
   "cell_type": "code",
   "execution_count": null,
   "metadata": {
    "collapsed": true
   },
   "outputs": [],
   "source": [
    "def "
   ]
  }
 ],
 "metadata": {
  "kernelspec": {
   "display_name": "IPython (Python 2)",
   "name": "python2"
  },
  "language_info": {
   "codemirror_mode": {
    "name": "ipython",
    "version": 2
   },
   "mimetype": "text/x-python",
   "name": "python",
   "pygments_lexer": "ipython2"
  },
  "signature": "sha256:2c6b31807fc5a573d06bde0430c4f65d24589c733d861dac98fbad8c5873d183"
 },
 "nbformat": 4,
 "nbformat_minor": 0
}