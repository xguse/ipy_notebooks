{
 "cells": [
  {
   "cell_type": "code",
   "execution_count": 1,
   "metadata": {
    "collapsed": false
   },
   "outputs": [],
   "source": [
    "%matplotlib inline\n",
    "import re\n",
    "\n",
    "import numpy as np\n",
    "import pandas as pd\n",
    "import seaborn as sns\n",
    "\n",
    "import ggplot as gp\n",
    "import matplotlib.pyplot as plt\n",
    "\n",
    "import vcf"
   ]
  },
  {
   "cell_type": "markdown",
   "metadata": {},
   "source": [
    "# Set common figure characteristics"
   ]
  },
  {
   "cell_type": "code",
   "execution_count": 2,
   "metadata": {
    "collapsed": false
   },
   "outputs": [],
   "source": [
    "ggplot_theme = gp.theme_seaborn(context='poster')\n",
    "\n",
    "color_list = [\"#FF0000\",\"#0000FF\",\"#00FF00\",\"#000000\"]\n",
    "\n",
    "manual_color_scale = gp.scale_color_manual(values=color_list)\n",
    "\n",
    "# site_cmap =     {\"KG\": \"#FF0000\",\n",
    "#                  \"OT\": \"#000000\",\n",
    "#                  \"MS\": \"#0000FF\",\n",
    "#                  \"NB\": \"#00FF00\"}\n",
    "\n",
    "\n"
   ]
  },
  {
   "cell_type": "markdown",
   "metadata": {},
   "source": [
    "# Code to manage loading the data into a dataframe"
   ]
  },
  {
   "cell_type": "code",
   "execution_count": 3,
   "metadata": {
    "collapsed": true
   },
   "outputs": [],
   "source": [
    "def gather(df, key, value, cols):\n",
    "    id_vars = [col for col in df.columns if col not in cols]\n",
    "    id_values = cols\n",
    "    var_name = key\n",
    "    value_name = value\n",
    "    return pd.melt(df, id_vars, id_values, var_name, value_name)\n",
    "\n",
    "def recode_column(column_name):\n",
    "    \n",
    "    if isinstance(column_name,int):\n",
    "        i = column_name + 1\n",
    "        return \"Factor {i}\".format(i=i)\n",
    "    \n",
    "    if column_name.upper() == \"INDEX\":\n",
    "        return \"sample\"\n",
    "    \n",
    "def load_scores(pcadapt_scores_path, vcf_path):\n",
    "    vcf_reader = vcf.Reader(open(vcf_path, 'r'))\n",
    "    indiv_names = vcf_reader.samples\n",
    "    \n",
    "    df = pd.read_table(filepath_or_buffer=pcadapt_scores_path, sep='\\s', \n",
    "                                             header=None, names=indiv_names,\n",
    "                                             engine='python').T.reset_index()\n",
    "    df = df.rename(columns=recode_column)\n",
    "    \n",
    "    return df\n",
    "\n",
    "def load_main(pcadapt_path):\n",
    "    \n",
    "    return pd.read_table(filepath_or_buffer=pcadapt_path, sep='\\t', engine='python').dropna(axis=1)\n",
    "\n",
    "def set_site_names(df):\n",
    "    re_site = re.compile('\\A\\D{,3}')\n",
    "    df[\"site\"] = df['sample'].apply(lambda indiv: re_site.findall(indiv)[0])\n",
    "    df.sort(columns='sample', inplace=True)\n",
    "    df.reset_index(inplace=True)\n",
    "    df[\"individuals\"] = df.index.values + 1\n",
    "\n",
    "    return df.drop([\"index\"], axis=1)"
   ]
  },
  {
   "cell_type": "markdown",
   "metadata": {},
   "source": [
    "# Load data "
   ]
  },
  {
   "cell_type": "code",
   "execution_count": 4,
   "metadata": {
    "collapsed": true
   },
   "outputs": [],
   "source": [
    "# Paths\n",
    "vcf_path1 = \"/home/gus/remote_mounts/louise/data/genomes/glossina_fuscipes/annotations/SNPs/vcftools_out/ddrad58_populations/individuals/tsetseFINAL_14Oct2014_f2_53.recode.renamed_scaffolds.maf0_05.OT_MS_NB_indv.recode.vcf\"\n",
    "vcf_path2 = \"/home/gus/remote_mounts/louise/data/genomes/glossina_fuscipes/annotations/SNPs/tsetseFINAL_14Oct2014_f2_53.recode.renamed_scaffolds.maf0_05.recode.vcf\"\n",
    "\n",
    "data1 = \"/home/gus/remote_mounts/louise/data/genomes/glossina_fuscipes/annotations/SNPs/vcftools_out/ddrad58_populations/individuals/PCAdapt/results/PCAdapt_s1000_b500_k2.scores\"\n",
    "data2 = \"/home/gus/remote_mounts/louise/data/genomes/glossina_fuscipes/annotations/SNPs/pcadapt_4pops/PCAdapt_4pops_s1000_b500_k2.scores\"\n"
   ]
  },
  {
   "cell_type": "code",
   "execution_count": 5,
   "metadata": {
    "collapsed": false
   },
   "outputs": [
    {
     "ename": "NameError",
     "evalue": "name 'vcf_path' is not defined",
     "output_type": "error",
     "traceback": [
      "\u001b[1;31m---------------------------------------------------------------------------\u001b[0m",
      "\u001b[1;31mNameError\u001b[0m                                 Traceback (most recent call last)",
      "\u001b[1;32m<ipython-input-5-689425967ccd>\u001b[0m in \u001b[0;36m<module>\u001b[1;34m()\u001b[0m\n\u001b[0;32m      1\u001b[0m \u001b[1;31m# load files\u001b[0m\u001b[1;33m\u001b[0m\u001b[1;33m\u001b[0m\u001b[0m\n\u001b[0;32m      2\u001b[0m PCAdapt_s1000_b500_k2_scores = load_scores(pcadapt_scores_path=data1,\n\u001b[1;32m----> 3\u001b[1;33m                                            vcf_path=vcf_path)\n\u001b[0m\u001b[0;32m      4\u001b[0m \u001b[1;33m\u001b[0m\u001b[0m\n\u001b[0;32m      5\u001b[0m PCAdapt_4pops_s1000_b500_k2_scores = load_scores(pcadapt_scores_path=data2,\n",
      "\u001b[1;31mNameError\u001b[0m: name 'vcf_path' is not defined"
     ]
    }
   ],
   "source": [
    "# load files\n",
    "PCAdapt_s1000_b500_k2_scores = load_scores(pcadapt_scores_path=data1,\n",
    "                                           vcf_path=vcf_path)\n",
    "\n",
    "PCAdapt_4pops_s1000_b500_k2_scores = load_scores(pcadapt_scores_path=data2,\n",
    "                                           vcf_path=vcf_path2)\n"
   ]
  },
  {
   "cell_type": "code",
   "execution_count": null,
   "metadata": {
    "collapsed": false
   },
   "outputs": [],
   "source": [
    "PCAdapt_s1000_b500_k2_scores = set_site_names(PCAdapt_s1000_b500_k2_scores)\n",
    "PCAdapt_4pops_s1000_b500_k2_scores = set_site_names(PCAdapt_4pops_s1000_b500_k2_scores)"
   ]
  },
  {
   "cell_type": "markdown",
   "metadata": {},
   "source": [
    "# One data set has a subset of the other's members for `site`"
   ]
  },
  {
   "cell_type": "code",
   "execution_count": null,
   "metadata": {
    "collapsed": false
   },
   "outputs": [],
   "source": [
    "PCAdapt_s1000_b500_k2_scores.site.unique()"
   ]
  },
  {
   "cell_type": "code",
   "execution_count": null,
   "metadata": {
    "collapsed": false
   },
   "outputs": [],
   "source": [
    "PCAdapt_4pops_s1000_b500_k2_scores.site.unique()"
   ]
  },
  {
   "cell_type": "markdown",
   "metadata": {},
   "source": [
    "# Begin plotting examples "
   ]
  },
  {
   "cell_type": "code",
   "execution_count": null,
   "metadata": {
    "collapsed": false
   },
   "outputs": [],
   "source": [
    "PCAdapt_s1000_b500_k2_scores.head()"
   ]
  },
  {
   "cell_type": "markdown",
   "metadata": {},
   "source": [
    "# We plot one data set and get colors assigned"
   ]
  },
  {
   "cell_type": "code",
   "execution_count": null,
   "metadata": {
    "collapsed": false
   },
   "outputs": [],
   "source": [
    "gp_factor1 = gp.ggplot(PCAdapt_s1000_b500_k2_scores, gp.aes('individuals', 'Factor 1', color='site')) \\\n",
    "    + gp.geom_point() \\\n",
    "    + ggplot_theme + manual_color_scale\n",
    "gp_factor1"
   ]
  },
  {
   "cell_type": "markdown",
   "metadata": {},
   "source": [
    "# We plot the other data set and get colors assigned"
   ]
  },
  {
   "cell_type": "code",
   "execution_count": null,
   "metadata": {
    "collapsed": false
   },
   "outputs": [],
   "source": [
    "gp_factor1 = gp.ggplot(PCAdapt_4pops_s1000_b500_k2_scores, gp.aes('individuals', 'Factor 1', color='site')) \\\n",
    "    + gp.geom_point() \\\n",
    "    + ggplot_theme + manual_color_scale \n",
    "gp_factor1"
   ]
  },
  {
   "cell_type": "markdown",
   "metadata": {},
   "source": [
    "# Do you see the problem now?"
   ]
  },
  {
   "cell_type": "markdown",
   "metadata": {},
   "source": [
    "Now KG is red not MS.\n",
    "\n",
    "I want to be able to assign a color mapping so that MS is red no matter what.  Is this not possible?"
   ]
  },
  {
   "cell_type": "code",
   "execution_count": null,
   "metadata": {
    "collapsed": true
   },
   "outputs": [],
   "source": []
  }
 ],
 "metadata": {
  "kernelspec": {
   "display_name": "Python 2",
   "language": "python",
   "name": "python2"
  },
  "language_info": {
   "codemirror_mode": {
    "name": "ipython",
    "version": 2
   },
   "file_extension": ".py",
   "mimetype": "text/x-python",
   "name": "python",
   "nbconvert_exporter": "python",
   "pygments_lexer": "ipython2",
   "version": "2.7.9"
  }
 },
 "nbformat": 4,
 "nbformat_minor": 0
}
