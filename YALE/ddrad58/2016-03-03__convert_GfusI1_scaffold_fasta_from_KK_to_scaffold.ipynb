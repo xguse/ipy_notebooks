{
 "cells": [
  {
   "cell_type": "markdown",
   "metadata": {},
   "source": [
    "## Imports:"
   ]
  },
  {
   "cell_type": "code",
   "execution_count": 1,
   "metadata": {
    "collapsed": true
   },
   "outputs": [],
   "source": [
    "import numpy as np\n",
    "import pandas as pd\n",
    "\n",
    "import munch\n",
    "\n",
    "\n",
    "from spartan.utils.genome_specific.GfusI1 import GfusI1_0\n",
    "from spartan.utils.fastas import ParseFastA\n"
   ]
  },
  {
   "cell_type": "markdown",
   "metadata": {},
   "source": [
    "## File paths:"
   ]
  },
  {
   "cell_type": "code",
   "execution_count": 3,
   "metadata": {
    "collapsed": false
   },
   "outputs": [],
   "source": [
    "# define paths to files\n",
    "\n",
    "kk_scaff_path = \"/home/gus/remote_mounts/louise/data/genomes/glossina_fuscipes/assemblies/GfusI1/Glossina-fuscipes-IAEA_SCAFFOLDS_GfusI1.fa\"\n",
    "gd_scaff_path = \"/home/gus/remote_mounts/louise/data/genomes/glossina_fuscipes/assemblies/GfusI1/Glossina-fuscipes-IAEA_SCAFFOLDS_GfusI1.renamed.fa\"\n",
    "\n",
    "\n",
    "contig_name_length_path = \"/home/gus/Dropbox/uganda_data/data_repos/genome_info/assembly_info/contig_name_length.csv\"\n",
    "\n"
   ]
  },
  {
   "cell_type": "code",
   "execution_count": 4,
   "metadata": {
    "collapsed": true
   },
   "outputs": [],
   "source": [
    "def remove_decimals(df):\n",
    "    df.scaf_name = df.scaf_name.apply(lambda i: i[:-2] if i[-2:] == '.1' else i)\n",
    "\n",
    "\n",
    "def get_contig_name_map(df):\n",
    "    return {key:value for key,value in zip(contig_info.kk_name.values,contig_info.scaf_name.values)}\n"
   ]
  },
  {
   "cell_type": "code",
   "execution_count": 5,
   "metadata": {
    "collapsed": false
   },
   "outputs": [
    {
     "data": {
      "text/html": [
       "<div>\n",
       "<table border=\"1\" class=\"dataframe\">\n",
       "  <thead>\n",
       "    <tr style=\"text-align: right;\">\n",
       "      <th></th>\n",
       "      <th>kk_name</th>\n",
       "      <th>scaf_name</th>\n",
       "      <th>length</th>\n",
       "    </tr>\n",
       "  </thead>\n",
       "  <tbody>\n",
       "    <tr>\n",
       "      <th>0</th>\n",
       "      <td>KK352346.1</td>\n",
       "      <td>Scaffold566</td>\n",
       "      <td>193315</td>\n",
       "    </tr>\n",
       "    <tr>\n",
       "      <th>1</th>\n",
       "      <td>KK352610.1</td>\n",
       "      <td>Scaffold839</td>\n",
       "      <td>83110</td>\n",
       "    </tr>\n",
       "    <tr>\n",
       "      <th>2</th>\n",
       "      <td>KK352241.1</td>\n",
       "      <td>Scaffold458</td>\n",
       "      <td>243873</td>\n",
       "    </tr>\n",
       "    <tr>\n",
       "      <th>3</th>\n",
       "      <td>JFJR01012964.1</td>\n",
       "      <td>JFJR01012964.1</td>\n",
       "      <td>3083</td>\n",
       "    </tr>\n",
       "    <tr>\n",
       "      <th>4</th>\n",
       "      <td>KK352052.1</td>\n",
       "      <td>Scaffold268</td>\n",
       "      <td>427914</td>\n",
       "    </tr>\n",
       "  </tbody>\n",
       "</table>\n",
       "</div>"
      ],
      "text/plain": [
       "          kk_name       scaf_name  length\n",
       "0      KK352346.1     Scaffold566  193315\n",
       "1      KK352610.1     Scaffold839   83110\n",
       "2      KK352241.1     Scaffold458  243873\n",
       "3  JFJR01012964.1  JFJR01012964.1    3083\n",
       "4      KK352052.1     Scaffold268  427914"
      ]
     },
     "execution_count": 5,
     "metadata": {},
     "output_type": "execute_result"
    }
   ],
   "source": [
    "# load contig info file\n",
    "contig_info = pd.read_csv(contig_name_length_path)\n",
    "contig_info.head()"
   ]
  },
  {
   "cell_type": "code",
   "execution_count": 6,
   "metadata": {
    "collapsed": false
   },
   "outputs": [
    {
     "data": {
      "text/html": [
       "<div>\n",
       "<table border=\"1\" class=\"dataframe\">\n",
       "  <thead>\n",
       "    <tr style=\"text-align: right;\">\n",
       "      <th></th>\n",
       "      <th>kk_name</th>\n",
       "      <th>scaf_name</th>\n",
       "      <th>length</th>\n",
       "    </tr>\n",
       "  </thead>\n",
       "  <tbody>\n",
       "    <tr>\n",
       "      <th>0</th>\n",
       "      <td>KK352346.1</td>\n",
       "      <td>Scaffold566</td>\n",
       "      <td>193315</td>\n",
       "    </tr>\n",
       "    <tr>\n",
       "      <th>1</th>\n",
       "      <td>KK352610.1</td>\n",
       "      <td>Scaffold839</td>\n",
       "      <td>83110</td>\n",
       "    </tr>\n",
       "    <tr>\n",
       "      <th>2</th>\n",
       "      <td>KK352241.1</td>\n",
       "      <td>Scaffold458</td>\n",
       "      <td>243873</td>\n",
       "    </tr>\n",
       "    <tr>\n",
       "      <th>3</th>\n",
       "      <td>JFJR01012964.1</td>\n",
       "      <td>JFJR01012964</td>\n",
       "      <td>3083</td>\n",
       "    </tr>\n",
       "    <tr>\n",
       "      <th>4</th>\n",
       "      <td>KK352052.1</td>\n",
       "      <td>Scaffold268</td>\n",
       "      <td>427914</td>\n",
       "    </tr>\n",
       "  </tbody>\n",
       "</table>\n",
       "</div>"
      ],
      "text/plain": [
       "          kk_name     scaf_name  length\n",
       "0      KK352346.1   Scaffold566  193315\n",
       "1      KK352610.1   Scaffold839   83110\n",
       "2      KK352241.1   Scaffold458  243873\n",
       "3  JFJR01012964.1  JFJR01012964    3083\n",
       "4      KK352052.1   Scaffold268  427914"
      ]
     },
     "execution_count": 6,
     "metadata": {},
     "output_type": "execute_result"
    }
   ],
   "source": [
    "remove_decimals(contig_info)\n",
    "contig_info.head()"
   ]
  },
  {
   "cell_type": "code",
   "execution_count": 7,
   "metadata": {
    "collapsed": false
   },
   "outputs": [
    {
     "data": {
      "text/plain": [
       "'Scaffold0'"
      ]
     },
     "execution_count": 7,
     "metadata": {},
     "output_type": "execute_result"
    }
   ],
   "source": [
    "contig_name_map = get_contig_name_map(contig_info)\n",
    "contig_name_map[\"KK351785.1\"]"
   ]
  },
  {
   "cell_type": "code",
   "execution_count": 8,
   "metadata": {
    "collapsed": false
   },
   "outputs": [
    {
     "data": {
      "text/plain": [
       "'JFJR01006593'"
      ]
     },
     "execution_count": 8,
     "metadata": {},
     "output_type": "execute_result"
    }
   ],
   "source": [
    "contig_name_map[\"JFJR01006593.1\"]"
   ]
  },
  {
   "cell_type": "markdown",
   "metadata": {},
   "source": [
    "------------------\n",
    "\n",
    "#  Convert Fasta file headers"
   ]
  },
  {
   "cell_type": "code",
   "execution_count": 9,
   "metadata": {
    "collapsed": true
   },
   "outputs": [],
   "source": [
    "fasta = ParseFastA(kk_scaff_path).to_dict()"
   ]
  },
  {
   "cell_type": "code",
   "execution_count": 11,
   "metadata": {
    "collapsed": false
   },
   "outputs": [
    {
     "data": {
      "text/plain": [
       "['KK352346.1',\n",
       " 'KK352610.1',\n",
       " 'KK352241.1',\n",
       " 'JFJR01012964.1',\n",
       " 'KK352052.1',\n",
       " 'KK351938.1',\n",
       " 'KK352431.1',\n",
       " 'KK351859.1',\n",
       " 'KK352893.1',\n",
       " 'JFJR01012966.1']"
      ]
     },
     "execution_count": 11,
     "metadata": {},
     "output_type": "execute_result"
    }
   ],
   "source": [
    "fasta.keys()[:10]"
   ]
  },
  {
   "cell_type": "code",
   "execution_count": 12,
   "metadata": {
    "collapsed": true
   },
   "outputs": [],
   "source": [
    "with open(gd_scaff_path, 'w') as new_fasta:\n",
    "    \n",
    "    for name, seq in fasta.iteritems():\n",
    "        \n",
    "        renamed_rec = \">{name_}\\n{seq_}\\n\".format(name_=contig_name_map[name], seq_=seq)\n",
    "        \n",
    "        new_fasta.write(renamed_rec)"
   ]
  },
  {
   "cell_type": "code",
   "execution_count": null,
   "metadata": {
    "collapsed": true
   },
   "outputs": [],
   "source": []
  }
 ],
 "metadata": {
  "kernelspec": {
   "display_name": "Python 2",
   "language": "python",
   "name": "python2"
  },
  "language_info": {
   "codemirror_mode": {
    "name": "ipython",
    "version": 2
   },
   "file_extension": ".py",
   "mimetype": "text/x-python",
   "name": "python",
   "nbconvert_exporter": "python",
   "pygments_lexer": "ipython2",
   "version": "2.7.11"
  }
 },
 "nbformat": 4,
 "nbformat_minor": 0
}
