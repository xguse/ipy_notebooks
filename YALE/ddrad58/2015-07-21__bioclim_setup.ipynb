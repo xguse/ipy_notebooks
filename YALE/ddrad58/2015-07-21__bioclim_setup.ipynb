{
 "cells": [
  {
   "cell_type": "code",
   "execution_count": 1,
   "metadata": {
    "collapsed": false
   },
   "outputs": [
    {
     "name": "stdout",
     "output_type": "stream",
     "text": [
      "Using matplotlib backend: TkAgg\n"
     ]
    }
   ],
   "source": [
    "# %matplotlib inline\n",
    "%matplotlib\n",
    "import re\n",
    "\n",
    "from sklearn.decomposition import PCA\n",
    "\n",
    "import pybioclim as pbc\n",
    "\n",
    "import geopandas as gpd\n",
    "\n",
    "import numpy as np\n",
    "import pandas as pd\n",
    "import seaborn as sns\n",
    "tips = sns.load_dataset(\"tips\")\n",
    "\n",
    "import ggplot as gp\n",
    "import matplotlib.pyplot as plt\n",
    "\n",
    "import vcf"
   ]
  },
  {
   "cell_type": "code",
   "execution_count": 2,
   "metadata": {
    "collapsed": false
   },
   "outputs": [],
   "source": [
    "# set figure characteristics\n",
    "\n",
    "# size\n",
    "sns.set_context(\"poster\")\n",
    "\n",
    "# Grid style\n",
    "sns.set_style(\"whitegrid\")\n",
    "\n",
    "# colors\n",
    "sns.set_palette(sns.hls_palette(n_colors=5, h=0.59, l=0.4, s=0.75))\n",
    "\n",
    "ggplot_theme = gp.theme_seaborn(context='poster')\n",
    "\n",
    "color_list = [\"#FF0000\",\"#0000FF\",\"#00FF00\",\"#000000\"]\n",
    "\n",
    "site_cmap =     {\"KG\": \"#FF0000\",\n",
    "                 \"OT\": \"#000000\",\n",
    "                 \"MS\": \"#0000FF\",\n",
    "                 \"NB\": \"#00FF00\"}\n",
    "manual_color_scale = gp.scale_color_manual(values=color_list)\n",
    "\n"
   ]
  },
  {
   "cell_type": "code",
   "execution_count": 3,
   "metadata": {
    "collapsed": true
   },
   "outputs": [],
   "source": [
    "# Paths\n",
    "vcf_path = \"/home/gus/remote_mounts/louise/data/genomes/glossina_fuscipes/annotations/SNPs/vcftools_out/ddrad58_populations/individuals/tsetseFINAL_14Oct2014_f2_53.recode.renamed_scaffolds.maf0_05.OT_MS_NB_indv.recode.vcf\"\n",
    "\n",
    "# pcadapt_dir = \"/home/gus/remote_mounts/louise/data/genomes/glossina_fuscipes/annotations/SNPs/vcftools_out/ddrad58_populations/individuals/PCAdapt/results\"\n",
    "\n",
    "bioclim_dir = \"/home/gus/data/ddrad/environmental/www.worldclim.org/bioclim\"\n",
    "\n",
    "pop_coords = \"/home/gus/Documents/YalePostDoc/project_stuff/g_f_fucipes_uganda/ddrad58/manuscript/locations_gps_andrea.csv\"\n",
    "\n"
   ]
  },
  {
   "cell_type": "code",
   "execution_count": 4,
   "metadata": {
    "collapsed": false
   },
   "outputs": [],
   "source": [
    "# load/define stuff\n",
    "\n",
    "## my version of the bioclim data\n",
    "pbc.DATA_DIR = bioclim_dir\n",
    "\n",
    "## coord file\n",
    "pop_data = pd.DataFrame.from_csv(pop_coords).reset_index()\n",
    "\n",
    "## bioclims to use\n",
    "\n",
    "bioclims = {\"bio2\": \"Mean Diurnal Range (Mean of monthly (max temp - min temp))\",\n",
    "            \"bio3\": \"Isothermality (BIO2/BIO7) (* 100)\",\n",
    "            \"bio4\": \"Temperature Seasonality (standard deviation *100)\",\n",
    "            \"bio5\": \"Max Temperature of Warmest Month\",\n",
    "            \"bio6\": \"Min Temperature of Coldest Month\",\n",
    "            \"bio7\": \"Temperature Annual Range (BIO5-BIO6)\",\n",
    "            \"bio8\": \"Mean Temperature of Wettest Quarter\",\n",
    "            \"bio9\": \"Mean Temperature of Driest Quarter\",\n",
    "            \"bio12\": \"Annual Precipitation\",\n",
    "            \"bio13\": \"Precipitation of Wettest Month\",\n",
    "            \"bio14\": \"Precipitation of Driest Month\",\n",
    "            \"bio15\": \"Precipitation Seasonality (Coefficient of Variation)\",\n",
    "            \"bio18\": \"Precipitation of Warmest Quarter\",\n",
    "            \"bio19\": \"Precipitation of Coldest Quarter\"}"
   ]
  },
  {
   "cell_type": "code",
   "execution_count": 5,
   "metadata": {
    "collapsed": true
   },
   "outputs": [],
   "source": [
    "# get data we care about\n",
    "def add_bioclims(df, clim_list):\n",
    "    for clim in clim_list:\n",
    "        df[clim] = pbc.get_values(clim,df[['lat','long']].as_matrix())\n",
    "    return df"
   ]
  },
  {
   "cell_type": "code",
   "execution_count": 9,
   "metadata": {
    "collapsed": false
   },
   "outputs": [
    {
     "data": {
      "text/html": [
       "<div>\n",
       "<table border=\"1\" class=\"dataframe\">\n",
       "  <thead>\n",
       "    <tr style=\"text-align: right;\">\n",
       "      <th></th>\n",
       "      <th>code</th>\n",
       "      <th>name</th>\n",
       "      <th>lat</th>\n",
       "      <th>long</th>\n",
       "      <th>color</th>\n",
       "      <th>indivs</th>\n",
       "      <th>bio12</th>\n",
       "      <th>bio13</th>\n",
       "      <th>bio14</th>\n",
       "      <th>bio15</th>\n",
       "      <th>bio18</th>\n",
       "      <th>bio19</th>\n",
       "      <th>bio2</th>\n",
       "      <th>bio3</th>\n",
       "      <th>bio6</th>\n",
       "      <th>bio7</th>\n",
       "      <th>bio4</th>\n",
       "      <th>bio5</th>\n",
       "      <th>bio8</th>\n",
       "      <th>bio9</th>\n",
       "    </tr>\n",
       "  </thead>\n",
       "  <tbody>\n",
       "    <tr>\n",
       "      <th>0</th>\n",
       "      <td>KG</td>\n",
       "      <td>Kalangala</td>\n",
       "      <td>-0.323734</td>\n",
       "      <td>32.293724</td>\n",
       "      <td>#FF0000</td>\n",
       "      <td>3</td>\n",
       "      <td>1918</td>\n",
       "      <td>302</td>\n",
       "      <td>79</td>\n",
       "      <td>45</td>\n",
       "      <td>436</td>\n",
       "      <td>306</td>\n",
       "      <td>103</td>\n",
       "      <td>83</td>\n",
       "      <td>153</td>\n",
       "      <td>124</td>\n",
       "      <td>525</td>\n",
       "      <td>277</td>\n",
       "      <td>219</td>\n",
       "      <td>208</td>\n",
       "    </tr>\n",
       "    <tr>\n",
       "      <th>1</th>\n",
       "      <td>OT</td>\n",
       "      <td>Otuboi</td>\n",
       "      <td>1.918258</td>\n",
       "      <td>33.302457</td>\n",
       "      <td>#000000</td>\n",
       "      <td>14</td>\n",
       "      <td>1312</td>\n",
       "      <td>194</td>\n",
       "      <td>17</td>\n",
       "      <td>51</td>\n",
       "      <td>134</td>\n",
       "      <td>447</td>\n",
       "      <td>129</td>\n",
       "      <td>79</td>\n",
       "      <td>165</td>\n",
       "      <td>163</td>\n",
       "      <td>1015</td>\n",
       "      <td>328</td>\n",
       "      <td>222</td>\n",
       "      <td>245</td>\n",
       "    </tr>\n",
       "    <tr>\n",
       "      <th>2</th>\n",
       "      <td>MS</td>\n",
       "      <td>Masindi</td>\n",
       "      <td>1.683327</td>\n",
       "      <td>31.734009</td>\n",
       "      <td>#0000FF</td>\n",
       "      <td>12</td>\n",
       "      <td>1330</td>\n",
       "      <td>174</td>\n",
       "      <td>33</td>\n",
       "      <td>41</td>\n",
       "      <td>186</td>\n",
       "      <td>388</td>\n",
       "      <td>119</td>\n",
       "      <td>81</td>\n",
       "      <td>166</td>\n",
       "      <td>146</td>\n",
       "      <td>795</td>\n",
       "      <td>312</td>\n",
       "      <td>223</td>\n",
       "      <td>238</td>\n",
       "    </tr>\n",
       "    <tr>\n",
       "      <th>3</th>\n",
       "      <td>NB</td>\n",
       "      <td>Natumba</td>\n",
       "      <td>0.836069</td>\n",
       "      <td>33.685820</td>\n",
       "      <td>#00FF00</td>\n",
       "      <td>24</td>\n",
       "      <td>1322</td>\n",
       "      <td>202</td>\n",
       "      <td>40</td>\n",
       "      <td>40</td>\n",
       "      <td>214</td>\n",
       "      <td>310</td>\n",
       "      <td>121</td>\n",
       "      <td>82</td>\n",
       "      <td>166</td>\n",
       "      <td>147</td>\n",
       "      <td>691</td>\n",
       "      <td>313</td>\n",
       "      <td>234</td>\n",
       "      <td>238</td>\n",
       "    </tr>\n",
       "  </tbody>\n",
       "</table>\n",
       "</div>"
      ],
      "text/plain": [
       "  code       name       lat       long    color  indivs  bio12  bio13  bio14  \\\n",
       "0   KG  Kalangala -0.323734  32.293724  #FF0000       3   1918    302     79   \n",
       "1   OT     Otuboi  1.918258  33.302457  #000000      14   1312    194     17   \n",
       "2   MS    Masindi  1.683327  31.734009  #0000FF      12   1330    174     33   \n",
       "3   NB    Natumba  0.836069  33.685820  #00FF00      24   1322    202     40   \n",
       "\n",
       "   bio15  bio18  bio19  bio2  bio3  bio6  bio7  bio4  bio5  bio8  bio9  \n",
       "0     45    436    306   103    83   153   124   525   277   219   208  \n",
       "1     51    134    447   129    79   165   163  1015   328   222   245  \n",
       "2     41    186    388   119    81   166   146   795   312   223   238  \n",
       "3     40    214    310   121    82   166   147   691   313   234   238  "
      ]
     },
     "execution_count": 9,
     "metadata": {},
     "output_type": "execute_result"
    }
   ],
   "source": [
    "pop_data.head()"
   ]
  },
  {
   "cell_type": "code",
   "execution_count": 6,
   "metadata": {
    "collapsed": false
   },
   "outputs": [],
   "source": [
    "pop_data = add_bioclims(pop_data, bioclims.keys())"
   ]
  },
  {
   "cell_type": "code",
   "execution_count": 10,
   "metadata": {
    "collapsed": false
   },
   "outputs": [],
   "source": [
    "pop_data.to_csv(bioclim_dir + \"/pop_coords_and_bioclim_data.csv\",index=False)"
   ]
  },
  {
   "cell_type": "code",
   "execution_count": 25,
   "metadata": {
    "collapsed": false
   },
   "outputs": [
    {
     "data": {
      "text/html": [
       "<div>\n",
       "<table border=\"1\" class=\"dataframe\">\n",
       "  <thead>\n",
       "    <tr style=\"text-align: right;\">\n",
       "      <th></th>\n",
       "      <th>bio12</th>\n",
       "      <th>bio13</th>\n",
       "      <th>bio14</th>\n",
       "      <th>bio15</th>\n",
       "      <th>bio18</th>\n",
       "      <th>bio19</th>\n",
       "      <th>bio2</th>\n",
       "      <th>bio3</th>\n",
       "      <th>bio6</th>\n",
       "      <th>bio7</th>\n",
       "      <th>bio4</th>\n",
       "      <th>bio5</th>\n",
       "      <th>bio8</th>\n",
       "      <th>bio9</th>\n",
       "    </tr>\n",
       "  </thead>\n",
       "  <tbody>\n",
       "    <tr>\n",
       "      <th>0</th>\n",
       "      <td>1918</td>\n",
       "      <td>302</td>\n",
       "      <td>79</td>\n",
       "      <td>45</td>\n",
       "      <td>436</td>\n",
       "      <td>306</td>\n",
       "      <td>103</td>\n",
       "      <td>83</td>\n",
       "      <td>153</td>\n",
       "      <td>124</td>\n",
       "      <td>525</td>\n",
       "      <td>277</td>\n",
       "      <td>219</td>\n",
       "      <td>208</td>\n",
       "    </tr>\n",
       "    <tr>\n",
       "      <th>1</th>\n",
       "      <td>1312</td>\n",
       "      <td>194</td>\n",
       "      <td>17</td>\n",
       "      <td>51</td>\n",
       "      <td>134</td>\n",
       "      <td>447</td>\n",
       "      <td>129</td>\n",
       "      <td>79</td>\n",
       "      <td>165</td>\n",
       "      <td>163</td>\n",
       "      <td>1015</td>\n",
       "      <td>328</td>\n",
       "      <td>222</td>\n",
       "      <td>245</td>\n",
       "    </tr>\n",
       "    <tr>\n",
       "      <th>2</th>\n",
       "      <td>1330</td>\n",
       "      <td>174</td>\n",
       "      <td>33</td>\n",
       "      <td>41</td>\n",
       "      <td>186</td>\n",
       "      <td>388</td>\n",
       "      <td>119</td>\n",
       "      <td>81</td>\n",
       "      <td>166</td>\n",
       "      <td>146</td>\n",
       "      <td>795</td>\n",
       "      <td>312</td>\n",
       "      <td>223</td>\n",
       "      <td>238</td>\n",
       "    </tr>\n",
       "    <tr>\n",
       "      <th>3</th>\n",
       "      <td>1322</td>\n",
       "      <td>202</td>\n",
       "      <td>40</td>\n",
       "      <td>40</td>\n",
       "      <td>214</td>\n",
       "      <td>310</td>\n",
       "      <td>121</td>\n",
       "      <td>82</td>\n",
       "      <td>166</td>\n",
       "      <td>147</td>\n",
       "      <td>691</td>\n",
       "      <td>313</td>\n",
       "      <td>234</td>\n",
       "      <td>238</td>\n",
       "    </tr>\n",
       "  </tbody>\n",
       "</table>\n",
       "</div>"
      ],
      "text/plain": [
       "   bio12  bio13  bio14  bio15  bio18  bio19  bio2  bio3  bio6  bio7  bio4  \\\n",
       "0   1918    302     79     45    436    306   103    83   153   124   525   \n",
       "1   1312    194     17     51    134    447   129    79   165   163  1015   \n",
       "2   1330    174     33     41    186    388   119    81   166   146   795   \n",
       "3   1322    202     40     40    214    310   121    82   166   147   691   \n",
       "\n",
       "   bio5  bio8  bio9  \n",
       "0   277   219   208  \n",
       "1   328   222   245  \n",
       "2   312   223   238  \n",
       "3   313   234   238  "
      ]
     },
     "execution_count": 25,
     "metadata": {},
     "output_type": "execute_result"
    }
   ],
   "source": [
    "pop_data[[x for x in pop_data.columns if x.startswith('bio')]]"
   ]
  },
  {
   "cell_type": "code",
   "execution_count": 205,
   "metadata": {
    "collapsed": false
   },
   "outputs": [
    {
     "data": {
      "text/html": [
       "<div>\n",
       "<table border=\"1\" class=\"dataframe\">\n",
       "  <thead>\n",
       "    <tr style=\"text-align: right;\">\n",
       "      <th></th>\n",
       "      <th>bio2</th>\n",
       "      <th>bio3</th>\n",
       "      <th>bio4</th>\n",
       "      <th>bio5</th>\n",
       "      <th>bio6</th>\n",
       "      <th>bio7</th>\n",
       "      <th>bio8</th>\n",
       "      <th>bio9</th>\n",
       "      <th>bio12</th>\n",
       "      <th>bio13</th>\n",
       "      <th>bio14</th>\n",
       "      <th>bio15</th>\n",
       "      <th>bio18</th>\n",
       "      <th>bio19</th>\n",
       "      <th>site</th>\n",
       "    </tr>\n",
       "  </thead>\n",
       "  <tbody>\n",
       "    <tr>\n",
       "      <th>0</th>\n",
       "      <td>-0.576923</td>\n",
       "      <td>0.4375</td>\n",
       "      <td>-0.472449</td>\n",
       "      <td>-0.598039</td>\n",
       "      <td>-0.730769</td>\n",
       "      <td>-0.538462</td>\n",
       "      <td>-0.366667</td>\n",
       "      <td>-0.655405</td>\n",
       "      <td>0.738449</td>\n",
       "      <td>0.65625</td>\n",
       "      <td>0.592742</td>\n",
       "      <td>0.068182</td>\n",
       "      <td>0.640728</td>\n",
       "      <td>-0.402482</td>\n",
       "      <td>KG</td>\n",
       "    </tr>\n",
       "    <tr>\n",
       "      <th>1</th>\n",
       "      <td>0.423077</td>\n",
       "      <td>-0.5625</td>\n",
       "      <td>0.527551</td>\n",
       "      <td>0.401961</td>\n",
       "      <td>0.192308</td>\n",
       "      <td>0.461538</td>\n",
       "      <td>-0.166667</td>\n",
       "      <td>0.344595</td>\n",
       "      <td>-0.261551</td>\n",
       "      <td>-0.18750</td>\n",
       "      <td>-0.407258</td>\n",
       "      <td>0.613636</td>\n",
       "      <td>-0.359272</td>\n",
       "      <td>0.597518</td>\n",
       "      <td>OT</td>\n",
       "    </tr>\n",
       "    <tr>\n",
       "      <th>2</th>\n",
       "      <td>0.038462</td>\n",
       "      <td>-0.0625</td>\n",
       "      <td>0.078571</td>\n",
       "      <td>0.088235</td>\n",
       "      <td>0.269231</td>\n",
       "      <td>0.025641</td>\n",
       "      <td>-0.100000</td>\n",
       "      <td>0.155405</td>\n",
       "      <td>-0.231848</td>\n",
       "      <td>-0.34375</td>\n",
       "      <td>-0.149194</td>\n",
       "      <td>-0.295455</td>\n",
       "      <td>-0.187086</td>\n",
       "      <td>0.179078</td>\n",
       "      <td>MS</td>\n",
       "    </tr>\n",
       "    <tr>\n",
       "      <th>3</th>\n",
       "      <td>0.115385</td>\n",
       "      <td>0.1875</td>\n",
       "      <td>-0.133673</td>\n",
       "      <td>0.107843</td>\n",
       "      <td>0.269231</td>\n",
       "      <td>0.051282</td>\n",
       "      <td>0.633333</td>\n",
       "      <td>0.155405</td>\n",
       "      <td>-0.245050</td>\n",
       "      <td>-0.12500</td>\n",
       "      <td>-0.036290</td>\n",
       "      <td>-0.386364</td>\n",
       "      <td>-0.094371</td>\n",
       "      <td>-0.374113</td>\n",
       "      <td>NB</td>\n",
       "    </tr>\n",
       "  </tbody>\n",
       "</table>\n",
       "</div>"
      ],
      "text/plain": [
       "       bio2    bio3      bio4      bio5      bio6      bio7      bio8  \\\n",
       "0 -0.576923  0.4375 -0.472449 -0.598039 -0.730769 -0.538462 -0.366667   \n",
       "1  0.423077 -0.5625  0.527551  0.401961  0.192308  0.461538 -0.166667   \n",
       "2  0.038462 -0.0625  0.078571  0.088235  0.269231  0.025641 -0.100000   \n",
       "3  0.115385  0.1875 -0.133673  0.107843  0.269231  0.051282  0.633333   \n",
       "\n",
       "       bio9     bio12    bio13     bio14     bio15     bio18     bio19 site  \n",
       "0 -0.655405  0.738449  0.65625  0.592742  0.068182  0.640728 -0.402482   KG  \n",
       "1  0.344595 -0.261551 -0.18750 -0.407258  0.613636 -0.359272  0.597518   OT  \n",
       "2  0.155405 -0.231848 -0.34375 -0.149194 -0.295455 -0.187086  0.179078   MS  \n",
       "3  0.155405 -0.245050 -0.12500 -0.036290 -0.386364 -0.094371 -0.374113   NB  "
      ]
     },
     "execution_count": 205,
     "metadata": {},
     "output_type": "execute_result"
    }
   ],
   "source": [
    "# standardize data\n",
    "\n",
    "clim_data = pop_data[bioclims.keys()]\n",
    "clim_data.columns = [int(x[3:]) for x in clim_data.columns.values]\n",
    "clim_data = clim_data.sort_index(axis=1)\n",
    "clim_data.columns = [\"bio\"+str(x) for x in clim_data.columns.values]\n",
    "clim_data_norm = (clim_data - clim_data.mean()) / (clim_data.max() - clim_data.min())\n",
    "clim_data_norm_noindex = clim_data_norm.copy()\n",
    "\n",
    "clim_data_norm[\"site\"] = pop_data.code\n",
    "clim_data_norm"
   ]
  },
  {
   "cell_type": "code",
   "execution_count": 206,
   "metadata": {
    "collapsed": true
   },
   "outputs": [],
   "source": [
    "# make melting easier\n",
    "\n",
    "def gather(df, key, value, cols):\n",
    "    id_vars = [col for col in df.columns if col not in cols]\n",
    "    id_values = cols\n",
    "    var_name = key\n",
    "    value_name = value\n",
    "    return pd.melt(df, id_vars, id_values, var_name, value_name)"
   ]
  },
  {
   "cell_type": "code",
   "execution_count": 207,
   "metadata": {
    "collapsed": false
   },
   "outputs": [
    {
     "data": {
      "text/html": [
       "<div>\n",
       "<table border=\"1\" class=\"dataframe\">\n",
       "  <thead>\n",
       "    <tr style=\"text-align: right;\">\n",
       "      <th></th>\n",
       "      <th>site</th>\n",
       "      <th>bioclim</th>\n",
       "      <th>Std Devs</th>\n",
       "    </tr>\n",
       "  </thead>\n",
       "  <tbody>\n",
       "    <tr>\n",
       "      <th>0</th>\n",
       "      <td>KG</td>\n",
       "      <td>bio12</td>\n",
       "      <td>0.738449</td>\n",
       "    </tr>\n",
       "    <tr>\n",
       "      <th>1</th>\n",
       "      <td>OT</td>\n",
       "      <td>bio12</td>\n",
       "      <td>-0.261551</td>\n",
       "    </tr>\n",
       "    <tr>\n",
       "      <th>2</th>\n",
       "      <td>MS</td>\n",
       "      <td>bio12</td>\n",
       "      <td>-0.231848</td>\n",
       "    </tr>\n",
       "    <tr>\n",
       "      <th>3</th>\n",
       "      <td>NB</td>\n",
       "      <td>bio12</td>\n",
       "      <td>-0.245050</td>\n",
       "    </tr>\n",
       "    <tr>\n",
       "      <th>4</th>\n",
       "      <td>KG</td>\n",
       "      <td>bio13</td>\n",
       "      <td>0.656250</td>\n",
       "    </tr>\n",
       "  </tbody>\n",
       "</table>\n",
       "</div>"
      ],
      "text/plain": [
       "  site bioclim  Std Devs\n",
       "0   KG   bio12  0.738449\n",
       "1   OT   bio12 -0.261551\n",
       "2   MS   bio12 -0.231848\n",
       "3   NB   bio12 -0.245050\n",
       "4   KG   bio13  0.656250"
      ]
     },
     "execution_count": 207,
     "metadata": {},
     "output_type": "execute_result"
    }
   ],
   "source": [
    "clim_data_norm_melted = gather(clim_data_norm, \n",
    "                    \"bioclim\", \n",
    "                    \"Std Devs\", \n",
    "                    bioclims.keys(),\n",
    "                   )\n",
    "clim_data_norm_melted.head()"
   ]
  },
  {
   "cell_type": "code",
   "execution_count": 208,
   "metadata": {
    "collapsed": false
   },
   "outputs": [],
   "source": [
    "g = sns.FacetGrid(clim_data_norm_melted, col=\"bioclim\", col_wrap=4, sharey=True,)\n",
    "g.map(sns.pointplot, \"site\", \"Std Devs\", color=\".3\", ci=None);"
   ]
  },
  {
   "cell_type": "code",
   "execution_count": 209,
   "metadata": {
    "collapsed": false
   },
   "outputs": [],
   "source": [
    "g = sns.clustermap(clim_data_norm_noindex)"
   ]
  },
  {
   "cell_type": "markdown",
   "metadata": {
    "collapsed": true
   },
   "source": [
    "# PCA after normalization of bioclims"
   ]
  },
  {
   "cell_type": "code",
   "execution_count": 210,
   "metadata": {
    "collapsed": false
   },
   "outputs": [
    {
     "data": {
      "text/html": [
       "<div>\n",
       "<table border=\"1\" class=\"dataframe\">\n",
       "  <thead>\n",
       "    <tr style=\"text-align: right;\">\n",
       "      <th></th>\n",
       "      <th>bio2</th>\n",
       "      <th>bio3</th>\n",
       "      <th>bio4</th>\n",
       "      <th>bio5</th>\n",
       "      <th>bio6</th>\n",
       "      <th>bio7</th>\n",
       "      <th>bio8</th>\n",
       "      <th>bio9</th>\n",
       "      <th>bio12</th>\n",
       "      <th>bio13</th>\n",
       "      <th>bio14</th>\n",
       "      <th>bio15</th>\n",
       "      <th>bio18</th>\n",
       "      <th>bio19</th>\n",
       "    </tr>\n",
       "  </thead>\n",
       "  <tbody>\n",
       "    <tr>\n",
       "      <th>KG</th>\n",
       "      <td>-0.576923</td>\n",
       "      <td>0.4375</td>\n",
       "      <td>-0.472449</td>\n",
       "      <td>-0.598039</td>\n",
       "      <td>-0.730769</td>\n",
       "      <td>-0.538462</td>\n",
       "      <td>-0.366667</td>\n",
       "      <td>-0.655405</td>\n",
       "      <td>0.738449</td>\n",
       "      <td>0.65625</td>\n",
       "      <td>0.592742</td>\n",
       "      <td>0.068182</td>\n",
       "      <td>0.640728</td>\n",
       "      <td>-0.402482</td>\n",
       "    </tr>\n",
       "    <tr>\n",
       "      <th>OT</th>\n",
       "      <td>0.423077</td>\n",
       "      <td>-0.5625</td>\n",
       "      <td>0.527551</td>\n",
       "      <td>0.401961</td>\n",
       "      <td>0.192308</td>\n",
       "      <td>0.461538</td>\n",
       "      <td>-0.166667</td>\n",
       "      <td>0.344595</td>\n",
       "      <td>-0.261551</td>\n",
       "      <td>-0.18750</td>\n",
       "      <td>-0.407258</td>\n",
       "      <td>0.613636</td>\n",
       "      <td>-0.359272</td>\n",
       "      <td>0.597518</td>\n",
       "    </tr>\n",
       "    <tr>\n",
       "      <th>MS</th>\n",
       "      <td>0.038462</td>\n",
       "      <td>-0.0625</td>\n",
       "      <td>0.078571</td>\n",
       "      <td>0.088235</td>\n",
       "      <td>0.269231</td>\n",
       "      <td>0.025641</td>\n",
       "      <td>-0.100000</td>\n",
       "      <td>0.155405</td>\n",
       "      <td>-0.231848</td>\n",
       "      <td>-0.34375</td>\n",
       "      <td>-0.149194</td>\n",
       "      <td>-0.295455</td>\n",
       "      <td>-0.187086</td>\n",
       "      <td>0.179078</td>\n",
       "    </tr>\n",
       "    <tr>\n",
       "      <th>NB</th>\n",
       "      <td>0.115385</td>\n",
       "      <td>0.1875</td>\n",
       "      <td>-0.133673</td>\n",
       "      <td>0.107843</td>\n",
       "      <td>0.269231</td>\n",
       "      <td>0.051282</td>\n",
       "      <td>0.633333</td>\n",
       "      <td>0.155405</td>\n",
       "      <td>-0.245050</td>\n",
       "      <td>-0.12500</td>\n",
       "      <td>-0.036290</td>\n",
       "      <td>-0.386364</td>\n",
       "      <td>-0.094371</td>\n",
       "      <td>-0.374113</td>\n",
       "    </tr>\n",
       "  </tbody>\n",
       "</table>\n",
       "</div>"
      ],
      "text/plain": [
       "        bio2    bio3      bio4      bio5      bio6      bio7      bio8  \\\n",
       "KG -0.576923  0.4375 -0.472449 -0.598039 -0.730769 -0.538462 -0.366667   \n",
       "OT  0.423077 -0.5625  0.527551  0.401961  0.192308  0.461538 -0.166667   \n",
       "MS  0.038462 -0.0625  0.078571  0.088235  0.269231  0.025641 -0.100000   \n",
       "NB  0.115385  0.1875 -0.133673  0.107843  0.269231  0.051282  0.633333   \n",
       "\n",
       "        bio9     bio12    bio13     bio14     bio15     bio18     bio19  \n",
       "KG -0.655405  0.738449  0.65625  0.592742  0.068182  0.640728 -0.402482  \n",
       "OT  0.344595 -0.261551 -0.18750 -0.407258  0.613636 -0.359272  0.597518  \n",
       "MS  0.155405 -0.231848 -0.34375 -0.149194 -0.295455 -0.187086  0.179078  \n",
       "NB  0.155405 -0.245050 -0.12500 -0.036290 -0.386364 -0.094371 -0.374113  "
      ]
     },
     "execution_count": 210,
     "metadata": {},
     "output_type": "execute_result"
    }
   ],
   "source": [
    "clim_data_norm_site_index = clim_data_norm_noindex.copy()\n",
    "clim_data_norm_site_index.index = pop_data.code.values\n",
    "clim_data_norm_site_index.to_clipboard\n",
    "clim_data_norm_site_index"
   ]
  },
  {
   "cell_type": "code",
   "execution_count": 211,
   "metadata": {
    "collapsed": false
   },
   "outputs": [
    {
     "data": {
      "text/plain": [
       "PCA(copy=True, n_components=3, whiten=False)"
      ]
     },
     "execution_count": 211,
     "metadata": {},
     "output_type": "execute_result"
    }
   ],
   "source": [
    "pca = PCA(n_components=3)\n",
    "clim_data_norm_pca = pca.fit(clim_data_norm_site_index)\n",
    "clim_data_norm_pca"
   ]
  },
  {
   "cell_type": "code",
   "execution_count": 212,
   "metadata": {
    "collapsed": false
   },
   "outputs": [
    {
     "data": {
      "text/plain": [
       "array([ 0.77193143,  0.19556318,  0.03250539])"
      ]
     },
     "execution_count": 212,
     "metadata": {},
     "output_type": "execute_result"
    }
   ],
   "source": [
    "clim_data_norm_pca.explained_variance_ratio_"
   ]
  },
  {
   "cell_type": "code",
   "execution_count": 213,
   "metadata": {
    "collapsed": false
   },
   "outputs": [
    {
     "data": {
      "text/html": [
       "<div>\n",
       "<table border=\"1\" class=\"dataframe\">\n",
       "  <thead>\n",
       "    <tr style=\"text-align: right;\">\n",
       "      <th></th>\n",
       "      <th>index</th>\n",
       "      <th>Component 1</th>\n",
       "      <th>Component 2</th>\n",
       "      <th>Component 3</th>\n",
       "    </tr>\n",
       "  </thead>\n",
       "  <tbody>\n",
       "    <tr>\n",
       "      <th>0</th>\n",
       "      <td>KG</td>\n",
       "      <td>-2.065423</td>\n",
       "      <td>-0.361757</td>\n",
       "      <td>0.026756</td>\n",
       "    </tr>\n",
       "    <tr>\n",
       "      <th>1</th>\n",
       "      <td>OT</td>\n",
       "      <td>1.357381</td>\n",
       "      <td>-0.771967</td>\n",
       "      <td>0.159583</td>\n",
       "    </tr>\n",
       "    <tr>\n",
       "      <th>2</th>\n",
       "      <td>MS</td>\n",
       "      <td>0.495918</td>\n",
       "      <td>0.212059</td>\n",
       "      <td>-0.429272</td>\n",
       "    </tr>\n",
       "    <tr>\n",
       "      <th>3</th>\n",
       "      <td>NB</td>\n",
       "      <td>0.212124</td>\n",
       "      <td>0.921666</td>\n",
       "      <td>0.242933</td>\n",
       "    </tr>\n",
       "  </tbody>\n",
       "</table>\n",
       "</div>"
      ],
      "text/plain": [
       "  index  Component 1  Component 2  Component 3\n",
       "0    KG    -2.065423    -0.361757     0.026756\n",
       "1    OT     1.357381    -0.771967     0.159583\n",
       "2    MS     0.495918     0.212059    -0.429272\n",
       "3    NB     0.212124     0.921666     0.242933"
      ]
     },
     "execution_count": 213,
     "metadata": {},
     "output_type": "execute_result"
    }
   ],
   "source": [
    "clim_data_norm_pca_r = pd.DataFrame(clim_data_norm_pca.transform(clim_data_norm_site_index), \n",
    "                                    index=clim_data_norm_site_index.index, \n",
    "                                    columns=[\"Component 1\",\"Component 2\",\"Component 3\"])\n",
    "clim_data_norm_pca_r.reset_index()"
   ]
  },
  {
   "cell_type": "code",
   "execution_count": 214,
   "metadata": {
    "collapsed": false
   },
   "outputs": [
    {
     "data": {
      "text/plain": [
       "<ggplot: (8744021369985)>"
      ]
     },
     "execution_count": 214,
     "metadata": {},
     "output_type": "execute_result"
    }
   ],
   "source": [
    "# plt.figure(figsize=(12,12))\n",
    "bioclim_pca_2x3 = gp.ggplot(clim_data_norm_pca_r.reset_index(), \n",
    "                            gp.aes('Component 2', 'Component 3', color=\"index\")) \n",
    "bioclim_pca_2x3 += gp.geom_point(size=50)\n",
    "bioclim_pca_2x3 += ggplot_theme\n",
    "bioclim_pca_2x3 += manual_color_scale\n",
    "bioclim_pca_2x3"
   ]
  },
  {
   "cell_type": "code",
   "execution_count": 215,
   "metadata": {
    "collapsed": false
   },
   "outputs": [
    {
     "data": {
      "text/plain": [
       "<ggplot: (8744021366453)>"
      ]
     },
     "execution_count": 215,
     "metadata": {},
     "output_type": "execute_result"
    }
   ],
   "source": [
    "# plt.figure(figsize=(12,12))\n",
    "bioclim_pca_1x2 = gp.ggplot(clim_data_norm_pca_r.reset_index(), \n",
    "                            gp.aes('Component 3', 'Component 2', color=\"index\")) \n",
    "bioclim_pca_1x2 += gp.geom_point(size=50)\n",
    "bioclim_pca_1x2 += ggplot_theme\n",
    "bioclim_pca_1x2 += manual_color_scale\n",
    "bioclim_pca_1x2"
   ]
  },
  {
   "cell_type": "code",
   "execution_count": 232,
   "metadata": {
    "collapsed": false
   },
   "outputs": [
    {
     "data": {
      "text/plain": [
       "<ggplot: (8744022112665)>"
      ]
     },
     "execution_count": 232,
     "metadata": {},
     "output_type": "execute_result"
    }
   ],
   "source": [
    "# plt.figure(figsize=(12,12))\n",
    "bioclim_pca_1x3 = gp.ggplot(clim_data_norm_pca_r.reset_index(), \n",
    "                            gp.aes('Component 1', 'Component 3', color=\"index\")) \n",
    "bioclim_pca_1x3 += gp.geom_point(size=50)\n",
    "bioclim_pca_1x3 += ggplot_theme\n",
    "bioclim_pca_1x3 += manual_color_scale\n",
    "bioclim_pca_1x3"
   ]
  },
  {
   "cell_type": "code",
   "execution_count": 230,
   "metadata": {
    "collapsed": true
   },
   "outputs": [],
   "source": []
  },
  {
   "cell_type": "code",
   "execution_count": 231,
   "metadata": {
    "collapsed": false
   },
   "outputs": [
    {
     "data": {
      "text/plain": [
       "<matplotlib.text.Text at 0x7f3e05175c50>"
      ]
     },
     "execution_count": 231,
     "metadata": {},
     "output_type": "execute_result"
    }
   ],
   "source": [
    "sns.barplot(x=clim_data_norm_site_index.columns.values,\n",
    "            y=(clim_data_norm_pca.components_[0]), color='k'\n",
    "           )\n",
    "plt.ylabel(\"Loadings\")\n",
    "plt.title(\"Component 1\")"
   ]
  },
  {
   "cell_type": "code",
   "execution_count": 218,
   "metadata": {
    "collapsed": false
   },
   "outputs": [
    {
     "data": {
      "text/plain": [
       "<matplotlib.text.Text at 0x7f3e048151d0>"
      ]
     },
     "execution_count": 218,
     "metadata": {},
     "output_type": "execute_result"
    }
   ],
   "source": [
    "sns.barplot(x=clim_data_norm_site_index.columns.values,\n",
    "            y=(clim_data_norm_pca.components_[1]), color='k'\n",
    "           )\n",
    "plt.ylabel(\"Loadings\")\n",
    "plt.title(\"Component 2\")"
   ]
  },
  {
   "cell_type": "code",
   "execution_count": 219,
   "metadata": {
    "collapsed": false
   },
   "outputs": [
    {
     "data": {
      "text/plain": [
       "<matplotlib.text.Text at 0x7f3e048151d0>"
      ]
     },
     "execution_count": 219,
     "metadata": {},
     "output_type": "execute_result"
    }
   ],
   "source": [
    "sns.barplot(x=clim_data_norm_site_index.columns.values,\n",
    "            y=(clim_data_norm_pca.components_[2]), color='k'\n",
    "           )\n",
    "plt.ylabel(\"Loadings\")\n",
    "plt.title(\"Component 3\")"
   ]
  },
  {
   "cell_type": "code",
   "execution_count": 220,
   "metadata": {
    "collapsed": false
   },
   "outputs": [
    {
     "data": {
      "text/plain": [
       "<matplotlib.axes._subplots.AxesSubplot at 0x7f3e046da2d0>"
      ]
     },
     "execution_count": 220,
     "metadata": {},
     "output_type": "execute_result"
    }
   ],
   "source": [
    "sns.barplot(x=clim_data_norm_site_index.columns.values,\n",
    "            y=(clim_data_norm_pca.components_[2]), color='k'\n",
    "           )"
   ]
  },
  {
   "cell_type": "code",
   "execution_count": 221,
   "metadata": {
    "collapsed": false
   },
   "outputs": [
    {
     "data": {
      "text/plain": [
       "<matplotlib.axes._subplots.AxesSubplot at 0x7f3e046da2d0>"
      ]
     },
     "execution_count": 221,
     "metadata": {},
     "output_type": "execute_result"
    }
   ],
   "source": [
    "sns.barplot(x=clim_data_norm_site_index.columns.values,\n",
    "            y=abs(clim_data_norm_pca.components_[0]), color='k'\n",
    "           )"
   ]
  },
  {
   "cell_type": "code",
   "execution_count": 222,
   "metadata": {
    "collapsed": false
   },
   "outputs": [
    {
     "data": {
      "text/plain": [
       "['2', '3', '4', '5', '6', '7', '8', '9', '12', '13', '14', '15', '18', '19']"
      ]
     },
     "execution_count": 222,
     "metadata": {},
     "output_type": "execute_result"
    }
   ],
   "source": [
    "[x[3:] for x in clim_data_norm_site_index.columns.values]"
   ]
  },
  {
   "cell_type": "code",
   "execution_count": null,
   "metadata": {
    "collapsed": true
   },
   "outputs": [],
   "source": []
  }
 ],
 "metadata": {
  "kernelspec": {
   "display_name": "Python 2",
   "language": "python",
   "name": "python2"
  },
  "language_info": {
   "codemirror_mode": {
    "name": "ipython",
    "version": 2
   },
   "file_extension": ".py",
   "mimetype": "text/x-python",
   "name": "python",
   "nbconvert_exporter": "python",
   "pygments_lexer": "ipython2",
   "version": "2.7.9"
  }
 },
 "nbformat": 4,
 "nbformat_minor": 0
}
