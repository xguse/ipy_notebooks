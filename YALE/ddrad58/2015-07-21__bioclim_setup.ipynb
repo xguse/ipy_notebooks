{
 "cells": [
  {
   "cell_type": "code",
   "execution_count": 1,
   "metadata": {
    "collapsed": false
   },
   "outputs": [],
   "source": [
    "%matplotlib inline\n",
    "import re\n",
    "\n",
    "import pybioclim as pbc\n",
    "\n",
    "import geopandas as gpd\n",
    "\n",
    "import numpy as np\n",
    "import pandas as pd\n",
    "import seaborn as sns\n",
    "tips = sns.load_dataset(\"tips\")\n",
    "\n",
    "import ggplot as gp\n",
    "import matplotlib.pyplot as plt\n",
    "\n",
    "import vcf"
   ]
  },
  {
   "cell_type": "code",
   "execution_count": 3,
   "metadata": {
    "collapsed": false
   },
   "outputs": [],
   "source": [
    "# set figure characteristics\n",
    "\n",
    "# size\n",
    "sns.set_context(\"poster\")\n",
    "\n",
    "# Grid style\n",
    "sns.set_style(\"whitegrid\")\n",
    "\n",
    "# colors\n",
    "sns.set_palette(sns.hls_palette(n_colors=5, h=0.59, l=0.4, s=0.75))\n",
    "\n",
    "ggplot_theme = gp.theme_seaborn(context='notebook')\n"
   ]
  },
  {
   "cell_type": "code",
   "execution_count": 2,
   "metadata": {
    "collapsed": true
   },
   "outputs": [],
   "source": [
    "# Paths\n",
    "vcf_path = \"/home/gus/remote_mounts/louise/data/genomes/glossina_fuscipes/annotations/SNPs/vcftools_out/ddrad58_populations/individuals/tsetseFINAL_14Oct2014_f2_53.recode.renamed_scaffolds.maf0_05.OT_MS_NB_indv.recode.vcf\"\n",
    "\n",
    "# pcadapt_dir = \"/home/gus/remote_mounts/louise/data/genomes/glossina_fuscipes/annotations/SNPs/vcftools_out/ddrad58_populations/individuals/PCAdapt/results\"\n",
    "\n",
    "bioclim_dir = \"/home/gus/data/ddrad/environmental/www.worldclim.org/bioclim\"\n",
    "\n",
    "pop_coords = \"/home/gus/Documents/YalePostDoc/project_stuff/g_f_fucipes_uganda/ddrad58/manuscript/locations_gps_andrea.csv\""
   ]
  },
  {
   "cell_type": "code",
   "execution_count": 43,
   "metadata": {
    "collapsed": false
   },
   "outputs": [],
   "source": [
    "# load/define stuff\n",
    "\n",
    "## my version of the bioclim data\n",
    "pbc.DATA_DIR = bioclim_dir\n",
    "\n",
    "## coord file\n",
    "pop_data = pd.DataFrame.from_csv(pop_coords).reset_index()\n",
    "\n",
    "## bioclims to use\n",
    "bioclims = {\"bio2\": \"Mean Diurnal Range (Mean of monthly (max temp - min temp))\",\n",
    "            \"bio3\": \"Isothermality (BIO2/BIO7) (* 100)\",\n",
    "            \"bio4\": \"Temperature Seasonality (standard deviation *100)\",\n",
    "            \"bio5\": \"Max Temperature of Warmest Month\",\n",
    "            \"bio6\": \"Min Temperature of Coldest Month\",\n",
    "            \"bio7\": \"Temperature Annual Range (BIO5-BIO6)\",\n",
    "            \"bio8\": \"Mean Temperature of Wettest Quarter\",\n",
    "            \"bio9\": \"Mean Temperature of Driest Quarter\",\n",
    "            \"bio12\": \"Annual Precipitation\",\n",
    "            \"bio13\": \"Precipitation of Wettest Month\",\n",
    "            \"bio14\": \"Precipitation of Driest Month\",\n",
    "            \"bio15\": \"Precipitation Seasonality (Coefficient of Variation)\",\n",
    "            \"bio18\": \"Precipitation of Warmest Quarter\",\n",
    "            \"bio19\": \"Precipitation of Coldest Quarter\"}"
   ]
  },
  {
   "cell_type": "code",
   "execution_count": 44,
   "metadata": {
    "collapsed": true
   },
   "outputs": [],
   "source": [
    "# get data we care about\n",
    "def add_bioclims(df, clim_list):\n",
    "    for clim in clim_list:\n",
    "        df[clim] = pbc.get_values(clim,df[['lat','long']].as_matrix())\n",
    "    return df"
   ]
  },
  {
   "cell_type": "code",
   "execution_count": 45,
   "metadata": {
    "collapsed": false
   },
   "outputs": [],
   "source": [
    "pop_data = add_bioclims(pop_data, bioclims.keys())"
   ]
  },
  {
   "cell_type": "code",
   "execution_count": 46,
   "metadata": {
    "collapsed": false
   },
   "outputs": [
    {
     "data": {
      "text/html": [
       "<div>\n",
       "<table border=\"1\" class=\"dataframe\">\n",
       "  <thead>\n",
       "    <tr style=\"text-align: right;\">\n",
       "      <th></th>\n",
       "      <th>code</th>\n",
       "      <th>name</th>\n",
       "      <th>lat</th>\n",
       "      <th>long</th>\n",
       "      <th>color</th>\n",
       "      <th>indivs</th>\n",
       "      <th>bio12</th>\n",
       "      <th>bio13</th>\n",
       "      <th>bio14</th>\n",
       "      <th>bio15</th>\n",
       "      <th>bio18</th>\n",
       "      <th>bio19</th>\n",
       "      <th>bio2</th>\n",
       "      <th>bio3</th>\n",
       "      <th>bio6</th>\n",
       "      <th>bio7</th>\n",
       "      <th>bio4</th>\n",
       "      <th>bio5</th>\n",
       "      <th>bio8</th>\n",
       "      <th>bio9</th>\n",
       "    </tr>\n",
       "  </thead>\n",
       "  <tbody>\n",
       "    <tr>\n",
       "      <th>0</th>\n",
       "      <td>KG</td>\n",
       "      <td>Kalangala</td>\n",
       "      <td>-0.323734</td>\n",
       "      <td>32.293724</td>\n",
       "      <td>#FF0000</td>\n",
       "      <td>3</td>\n",
       "      <td>1918</td>\n",
       "      <td>302</td>\n",
       "      <td>79</td>\n",
       "      <td>45</td>\n",
       "      <td>436</td>\n",
       "      <td>306</td>\n",
       "      <td>103</td>\n",
       "      <td>83</td>\n",
       "      <td>153</td>\n",
       "      <td>124</td>\n",
       "      <td>525</td>\n",
       "      <td>277</td>\n",
       "      <td>219</td>\n",
       "      <td>208</td>\n",
       "    </tr>\n",
       "    <tr>\n",
       "      <th>1</th>\n",
       "      <td>OT</td>\n",
       "      <td>Otuboi</td>\n",
       "      <td>1.918258</td>\n",
       "      <td>33.302457</td>\n",
       "      <td>#000000</td>\n",
       "      <td>14</td>\n",
       "      <td>1312</td>\n",
       "      <td>194</td>\n",
       "      <td>17</td>\n",
       "      <td>51</td>\n",
       "      <td>134</td>\n",
       "      <td>447</td>\n",
       "      <td>129</td>\n",
       "      <td>79</td>\n",
       "      <td>165</td>\n",
       "      <td>163</td>\n",
       "      <td>1015</td>\n",
       "      <td>328</td>\n",
       "      <td>222</td>\n",
       "      <td>245</td>\n",
       "    </tr>\n",
       "    <tr>\n",
       "      <th>2</th>\n",
       "      <td>MS</td>\n",
       "      <td>Masindi</td>\n",
       "      <td>1.683327</td>\n",
       "      <td>31.734009</td>\n",
       "      <td>#0000FF</td>\n",
       "      <td>12</td>\n",
       "      <td>1330</td>\n",
       "      <td>174</td>\n",
       "      <td>33</td>\n",
       "      <td>41</td>\n",
       "      <td>186</td>\n",
       "      <td>388</td>\n",
       "      <td>119</td>\n",
       "      <td>81</td>\n",
       "      <td>166</td>\n",
       "      <td>146</td>\n",
       "      <td>795</td>\n",
       "      <td>312</td>\n",
       "      <td>223</td>\n",
       "      <td>238</td>\n",
       "    </tr>\n",
       "    <tr>\n",
       "      <th>3</th>\n",
       "      <td>NB</td>\n",
       "      <td>Natumba</td>\n",
       "      <td>0.836069</td>\n",
       "      <td>33.685820</td>\n",
       "      <td>#00FF00</td>\n",
       "      <td>24</td>\n",
       "      <td>1322</td>\n",
       "      <td>202</td>\n",
       "      <td>40</td>\n",
       "      <td>40</td>\n",
       "      <td>214</td>\n",
       "      <td>310</td>\n",
       "      <td>121</td>\n",
       "      <td>82</td>\n",
       "      <td>166</td>\n",
       "      <td>147</td>\n",
       "      <td>691</td>\n",
       "      <td>313</td>\n",
       "      <td>234</td>\n",
       "      <td>238</td>\n",
       "    </tr>\n",
       "  </tbody>\n",
       "</table>\n",
       "</div>"
      ],
      "text/plain": [
       "  code       name       lat       long    color  indivs  bio12  bio13  bio14  \\\n",
       "0   KG  Kalangala -0.323734  32.293724  #FF0000       3   1918    302     79   \n",
       "1   OT     Otuboi  1.918258  33.302457  #000000      14   1312    194     17   \n",
       "2   MS    Masindi  1.683327  31.734009  #0000FF      12   1330    174     33   \n",
       "3   NB    Natumba  0.836069  33.685820  #00FF00      24   1322    202     40   \n",
       "\n",
       "   bio15  bio18  bio19  bio2  bio3  bio6  bio7  bio4  bio5  bio8  bio9  \n",
       "0     45    436    306   103    83   153   124   525   277   219   208  \n",
       "1     51    134    447   129    79   165   163  1015   328   222   245  \n",
       "2     41    186    388   119    81   166   146   795   312   223   238  \n",
       "3     40    214    310   121    82   166   147   691   313   234   238  "
      ]
     },
     "execution_count": 46,
     "metadata": {},
     "output_type": "execute_result"
    }
   ],
   "source": [
    "pop_data"
   ]
  },
  {
   "cell_type": "code",
   "execution_count": null,
   "metadata": {
    "collapsed": true
   },
   "outputs": [],
   "source": []
  }
 ],
 "metadata": {
  "kernelspec": {
   "display_name": "Python 2",
   "language": "python",
   "name": "python2"
  },
  "language_info": {
   "codemirror_mode": {
    "name": "ipython",
    "version": 2
   },
   "file_extension": ".py",
   "mimetype": "text/x-python",
   "name": "python",
   "nbconvert_exporter": "python",
   "pygments_lexer": "ipython2",
   "version": "2.7.9"
  }
 },
 "nbformat": 4,
 "nbformat_minor": 0
}
