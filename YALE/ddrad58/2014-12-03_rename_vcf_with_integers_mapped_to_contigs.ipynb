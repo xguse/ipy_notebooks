{
 "cells": [
  {
   "cell_type": "code",
   "execution_count": 1,
   "metadata": {
    "collapsed": true
   },
   "outputs": [],
   "source": [
    "from spartan.utils.genome_specific.GfusI1 import GfusI1_0"
   ]
  },
  {
   "cell_type": "code",
   "execution_count": 2,
   "metadata": {
    "collapsed": true
   },
   "outputs": [],
   "source": [
    "#Set up data paths\n",
    "fasta = \"/home/gus/remote_mounts/louise/data/genomes/glossina_fuscipes/assemblies/GfusI1/Glossina-fuscipes-IAEA_SCAFFOLDS_GfusI1.fa\"\n",
    "vcf_in = \"/home/gus/remote_mounts/louise/data/genomes/glossina_fuscipes/annotations/SNPs/tsetseFINAL_14Oct2014_f2_53.recode.renamed_scaffolds.vcf\"\n",
    "vcf_out = \"/home/gus/remote_mounts/louise/data/genomes/glossina_fuscipes/annotations/SNPs/tsetseFINAL_14Oct2014_f2_53.recode.contigs_as_integers.vcf\"\n",
    "contig_integer_map_out = \"/home/gus/Dropbox/repos/git/glossina_genome_stuff/data/GfusI1/contig_to_integer_map.tsv\""
   ]
  },
  {
   "cell_type": "markdown",
   "metadata": {},
   "source": [
    "# Read fasta to get original contig name map"
   ]
  },
  {
   "cell_type": "code",
   "execution_count": 3,
   "metadata": {
    "collapsed": true
   },
   "outputs": [],
   "source": [
    "name_map = GfusI1_0.get_name_map_from_fasta_headers(fasta)"
   ]
  },
  {
   "cell_type": "code",
   "execution_count": 4,
   "metadata": {
    "collapsed": false
   },
   "outputs": [
    {
     "data": {
      "text/plain": [
       "[('KK352610.1', 'Scaffold839'),\n",
       " ('KK352346.1', 'Scaffold566'),\n",
       " ('KK352241.1', 'Scaffold458'),\n",
       " ('JFJR01012964.1', 'JFJR01012964.1')]"
      ]
     },
     "execution_count": 4,
     "metadata": {},
     "output_type": "execute_result"
    }
   ],
   "source": [
    "name_map.items()[:4]"
   ]
  },
  {
   "cell_type": "markdown",
   "metadata": {},
   "source": [
    "# Use values in `name_map` dict as keys in new `integer_map` "
   ]
  },
  {
   "cell_type": "code",
   "execution_count": 5,
   "metadata": {
    "collapsed": true
   },
   "outputs": [],
   "source": [
    "i = 0\n",
    "integer_map = {}\n",
    "for contig in name_map.itervalues():\n",
    "    integer_map[contig] = str(i)\n",
    "    i += 1"
   ]
  },
  {
   "cell_type": "code",
   "execution_count": 6,
   "metadata": {
    "collapsed": false
   },
   "outputs": [
    {
     "data": {
      "text/plain": [
       "[('JFJR01012964.1', '3'), ('JFJR01013273.1', '33'), ('JFJR01013055.1', '1190')]"
      ]
     },
     "execution_count": 6,
     "metadata": {},
     "output_type": "execute_result"
    }
   ],
   "source": [
    "integer_map.items()[:3]"
   ]
  },
  {
   "cell_type": "code",
   "execution_count": 7,
   "metadata": {
    "collapsed": false
   },
   "outputs": [
    {
     "data": {
      "text/plain": [
       "'0'"
      ]
     },
     "execution_count": 7,
     "metadata": {},
     "output_type": "execute_result"
    }
   ],
   "source": [
    "integer_map['Scaffold839']"
   ]
  },
  {
   "cell_type": "code",
   "execution_count": 8,
   "metadata": {
    "collapsed": false
   },
   "outputs": [
    {
     "data": {
      "text/plain": [
       "'1'"
      ]
     },
     "execution_count": 8,
     "metadata": {},
     "output_type": "execute_result"
    }
   ],
   "source": [
    "integer_map['Scaffold566']"
   ]
  },
  {
   "cell_type": "markdown",
   "metadata": {},
   "source": [
    "# Store the new map on disk for later"
   ]
  },
  {
   "cell_type": "code",
   "execution_count": 9,
   "metadata": {
    "collapsed": true
   },
   "outputs": [],
   "source": [
    "line = \"{contig}\\t{integer}\\n\"\n",
    "\n",
    "with open(contig_integer_map_out, 'w') as int_map:\n",
    "    for contig, integer in integer_map.iteritems():\n",
    "        int_map.write(line.format(contig=contig,\n",
    "                                  integer=integer))"
   ]
  },
  {
   "cell_type": "code",
   "execution_count": 10,
   "metadata": {
    "collapsed": false
   },
   "outputs": [
    {
     "name": "stdout",
     "output_type": "stream",
     "text": [
      "JFJR01012964.1\t3\r\n",
      "JFJR01013273.1\t33\r\n",
      "JFJR01013055.1\t1190\r\n",
      "JFJR01012966.1\t9\r\n",
      "JFJR01013005.1\t11\r\n",
      "JFJR01013308.1\t14\r\n",
      "JFJR01013269.1\t15\r\n",
      "Scaffold1098\t606\r\n",
      "Scaffold1096\t1701\r\n",
      "Scaffold1097\t2100\r\n"
     ]
    }
   ],
   "source": [
    "!head $contig_integer_map_out"
   ]
  },
  {
   "cell_type": "markdown",
   "metadata": {},
   "source": [
    "# Change VCF chrom names to integers with `integer_map` "
   ]
  },
  {
   "cell_type": "code",
   "execution_count": 11,
   "metadata": {
    "collapsed": false
   },
   "outputs": [],
   "source": [
    "GfusI1_0.change_vcf_chrom_names(in_path=vcf_in, out_path=vcf_out, name_map=integer_map)"
   ]
  },
  {
   "cell_type": "code",
   "execution_count": 13,
   "metadata": {
    "collapsed": false
   },
   "outputs": [
    {
     "name": "stdout",
     "output_type": "stream",
     "text": [
      "##fileformat=VCFv4.1\r\n",
      "##samtoolsVersion=0.1.19-44428cd\r\n",
      "##reference=file:///scratch/ag674/reference/Glossina-fuscipes-IAEA_SCAFFOLDS_GfusI1.fa\r\n",
      "##contig=<ID=441,length=3329503>\r\n",
      "##contig=<ID=1289,length=2865261>\r\n",
      "##contig=<ID=434,length=2711279>\r\n",
      "##contig=<ID=1217,length=2629603>\r\n",
      "##contig=<ID=374,length=2590142>\r\n",
      "##contig=<ID=1937,length=2519330>\r\n",
      "##contig=<ID=419,length=2427971>\r\n"
     ]
    }
   ],
   "source": [
    "!head $vcf_out"
   ]
  },
  {
   "cell_type": "code",
   "execution_count": 14,
   "metadata": {
    "collapsed": false
   },
   "outputs": [
    {
     "name": "stdout",
     "output_type": "stream",
     "text": [
      "2202\t104\t.\tG\tA\t999\t.\t.\tGT:PL:DP:SP:GQ\t0/0:0,69,255:23:0:76\t0/0:0,48,255:16:0:55\t0/0:0,63,255:21:0:70\t0/0:0,96,255:32:0:99\t0/0:0,253,255:84:0:99\t0/0:0,90,255:30:0:97\t0/0:0,90,255:30:0:97\t0/0:0,66,255:22:0:73\t0/0:0,30,236:10:0:37\t0/0:0,66,255:22:0:73\t0/0:0,60,255:20:0:67\t0/0:0,48,255:16:0:55\t0/0:0,255,255:95:0:99\t0/0:0,138,255:46:0:99\t0/0:0,166,255:55:0:99\t./.:0,12,119:4:0:19\t0/0:0,166,255:55:0:99\t0/0:0,84,255:28:0:91\t0/0:0,114,255:38:0:99\t0/0:0,151,255:50:0:99\t0/0:0,72,255:24:0:79\t0/0:0,102,255:34:0:99\t0/0:0,69,255:23:0:76\t0/0:0,42,255:14:0:49\t0/0:0,72,255:24:0:79\t0/0:0,75,255:25:0:82\t0/0:0,172,255:57:0:99\t0/0:0,148,255:49:0:99\t0/0:0,102,255:34:0:99\t0/1:58,0,255:68:0:51\t0/1:104,0,255:32:0:97\t0/1:76,0,255:64:0:69\t0/1:73,0,255:24:0:66\t0/1:20,0,255:74:0:14\t0/0:0,96,255:32:0:99\t0/1:134,0,225:26:0:99\t0/1:111,0,251:27:0:99\t0/1:165,0,255:95:0:99\t0/1:152,0,255:72:0:99\t0/0:0,255,255:112:0:99\t0/1:105,0,255:48:0:98\t0/0:0,169,255:56:0:99\t0/1:74,0,188:14:0:67\t0/0:0,108,255:36:0:99\t0/0:0,84,255:28:0:91\t0/0:0,169,255:56:0:99\t0/0:0,123,255:41:0:99\t0/0:0,90,255:30:0:97\t0/0:0,138,255:46:0:99\t0/0:0,148,255:49:0:99\t0/0:0,123,255:41:0:99\t0/0:0,129,255:43:0:99\t0/0:0,160,255:53:0:99\r\n"
     ]
    }
   ],
   "source": [
    "!tail -1 $vcf_out"
   ]
  },
  {
   "cell_type": "markdown",
   "metadata": {},
   "source": [
    "# Ok, It looks like we are good. "
   ]
  }
 ],
 "metadata": {
  "kernelspec": {
   "display_name": "IPython (Python 2)",
   "name": "python2"
  },
  "language_info": {
   "codemirror_mode": {
    "name": "ipython",
    "version": 2
   },
   "mimetype": "text/x-python",
   "name": "python",
   "pygments_lexer": "ipython2"
  },
  "signature": "sha256:0b40ca7e1133f76eccab9a64ce81b42cc5ab38af36726f8094ae22c82bfa23d9"
 },
 "nbformat": 4,
 "nbformat_minor": 0
}