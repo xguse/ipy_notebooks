{
 "cells": [
  {
   "cell_type": "code",
   "execution_count": 1,
   "metadata": {
    "collapsed": true
   },
   "outputs": [],
   "source": [
    "%matplotlib inline\n",
    "import seaborn as sns"
   ]
  },
  {
   "cell_type": "code",
   "execution_count": 2,
   "metadata": {
    "collapsed": false
   },
   "outputs": [],
   "source": [
    "from __future__ import unicode_literals\n",
    "from __future__ import division\n",
    "from __future__ import print_function\n",
    "\n",
    "import os\n",
    "\n",
    "import numpy as np\n",
    "import pandas as pd\n",
    "pd.set_option('display.max_columns', 60)\n",
    "pd.set_option('display.max_rows', 300)\n",
    "pd.set_option(\"max_colwidth\",1000)\n"
   ]
  },
  {
   "cell_type": "code",
   "execution_count": 3,
   "metadata": {
    "collapsed": true
   },
   "outputs": [],
   "source": [
    "bed_headers = [\"chrom\",\n",
    "               \"chromStart\",\n",
    "               \"chromEnd\",\n",
    "               \"name\",\n",
    "               \"score\",\n",
    "               \"strand\",\n",
    "               \"thickStart\",\n",
    "               \"thickEnd\",\n",
    "               \"itemRgb\",\n",
    "               \"blockCount\",\n",
    "               \"blockSizes\",\n",
    "               \"blockStarts\"]"
   ]
  },
  {
   "cell_type": "markdown",
   "metadata": {},
   "source": [
    "# Files"
   ]
  },
  {
   "cell_type": "code",
   "execution_count": 4,
   "metadata": {
    "collapsed": true
   },
   "outputs": [],
   "source": [
    "gfusi13_ = \"/home/gus/MEGAsync/zim/main/Yale/Collaborations/Hongyu-tsetse/gmm_to_gff_pipeline/pipeline_prep/produced/Glossina-fuscipes-IAEA_BASEFEATURES_GfusI1.3.sorted.bed\""
   ]
  },
  {
   "cell_type": "code",
   "execution_count": 5,
   "metadata": {
    "collapsed": false
   },
   "outputs": [],
   "source": [
    "gfusi13 = pd.read_csv(gfusi13_, sep='\\t', names=bed_headers)"
   ]
  },
  {
   "cell_type": "code",
   "execution_count": 6,
   "metadata": {
    "collapsed": false
   },
   "outputs": [
    {
     "data": {
      "text/html": [
       "<div>\n",
       "<table border=\"1\" class=\"dataframe\">\n",
       "  <thead>\n",
       "    <tr style=\"text-align: right;\">\n",
       "      <th></th>\n",
       "      <th>chrom</th>\n",
       "      <th>chromStart</th>\n",
       "      <th>chromEnd</th>\n",
       "      <th>name</th>\n",
       "      <th>score</th>\n",
       "      <th>strand</th>\n",
       "      <th>thickStart</th>\n",
       "      <th>thickEnd</th>\n",
       "      <th>itemRgb</th>\n",
       "      <th>blockCount</th>\n",
       "      <th>blockSizes</th>\n",
       "      <th>blockStarts</th>\n",
       "    </tr>\n",
       "  </thead>\n",
       "  <tbody>\n",
       "    <tr>\n",
       "      <th>0</th>\n",
       "      <td>JFJR01006593</td>\n",
       "      <td>4031</td>\n",
       "      <td>10761</td>\n",
       "      <td>GFUI000004</td>\n",
       "      <td>0</td>\n",
       "      <td>+</td>\n",
       "      <td>4031</td>\n",
       "      <td>10758</td>\n",
       "      <td>0,0,0</td>\n",
       "      <td>6</td>\n",
       "      <td>75,33,33,79,12,74</td>\n",
       "      <td>0,151,700,1271,5027,6656</td>\n",
       "    </tr>\n",
       "    <tr>\n",
       "      <th>1</th>\n",
       "      <td>JFJR01006593</td>\n",
       "      <td>35986</td>\n",
       "      <td>48146</td>\n",
       "      <td>GFUI000006</td>\n",
       "      <td>0</td>\n",
       "      <td>-</td>\n",
       "      <td>35989</td>\n",
       "      <td>48146</td>\n",
       "      <td>0,0,0</td>\n",
       "      <td>7</td>\n",
       "      <td>166,67,28,17,91,20,16</td>\n",
       "      <td>0,763,3341,4858,8457,8629,12144</td>\n",
       "    </tr>\n",
       "    <tr>\n",
       "      <th>2</th>\n",
       "      <td>JFJR01006593</td>\n",
       "      <td>59266</td>\n",
       "      <td>71732</td>\n",
       "      <td>GFUI000002</td>\n",
       "      <td>0</td>\n",
       "      <td>+</td>\n",
       "      <td>59450</td>\n",
       "      <td>71729</td>\n",
       "      <td>0,0,0</td>\n",
       "      <td>9</td>\n",
       "      <td>476,84,111,134,112,87,488,297,3906</td>\n",
       "      <td>0,587,6226,6407,7261,7464,7636,8182,8560</td>\n",
       "    </tr>\n",
       "    <tr>\n",
       "      <th>3</th>\n",
       "      <td>JFJR01006593</td>\n",
       "      <td>95368</td>\n",
       "      <td>98696</td>\n",
       "      <td>GFUI000008</td>\n",
       "      <td>0</td>\n",
       "      <td>+</td>\n",
       "      <td>95601</td>\n",
       "      <td>98523</td>\n",
       "      <td>0,0,0</td>\n",
       "      <td>4</td>\n",
       "      <td>287,183,1962,710</td>\n",
       "      <td>0,350,592,2618</td>\n",
       "    </tr>\n",
       "    <tr>\n",
       "      <th>4</th>\n",
       "      <td>JFJR01006593</td>\n",
       "      <td>99496</td>\n",
       "      <td>112398</td>\n",
       "      <td>GFUI000010</td>\n",
       "      <td>0</td>\n",
       "      <td>-</td>\n",
       "      <td>102501</td>\n",
       "      <td>105199</td>\n",
       "      <td>0,0,0</td>\n",
       "      <td>3</td>\n",
       "      <td>3326,763,407</td>\n",
       "      <td>0,5238,12495</td>\n",
       "    </tr>\n",
       "  </tbody>\n",
       "</table>\n",
       "</div>"
      ],
      "text/plain": [
       "          chrom  chromStart  chromEnd        name  score strand  thickStart  \\\n",
       "0  JFJR01006593        4031     10761  GFUI000004      0      +        4031   \n",
       "1  JFJR01006593       35986     48146  GFUI000006      0      -       35989   \n",
       "2  JFJR01006593       59266     71732  GFUI000002      0      +       59450   \n",
       "3  JFJR01006593       95368     98696  GFUI000008      0      +       95601   \n",
       "4  JFJR01006593       99496    112398  GFUI000010      0      -      102501   \n",
       "\n",
       "   thickEnd itemRgb  blockCount                          blockSizes  \\\n",
       "0     10758   0,0,0           6                   75,33,33,79,12,74   \n",
       "1     48146   0,0,0           7               166,67,28,17,91,20,16   \n",
       "2     71729   0,0,0           9  476,84,111,134,112,87,488,297,3906   \n",
       "3     98523   0,0,0           4                    287,183,1962,710   \n",
       "4    105199   0,0,0           3                        3326,763,407   \n",
       "\n",
       "                                blockStarts  \n",
       "0                  0,151,700,1271,5027,6656  \n",
       "1           0,763,3341,4858,8457,8629,12144  \n",
       "2  0,587,6226,6407,7261,7464,7636,8182,8560  \n",
       "3                            0,350,592,2618  \n",
       "4                              0,5238,12495  "
      ]
     },
     "execution_count": 6,
     "metadata": {},
     "output_type": "execute_result"
    }
   ],
   "source": [
    "gfusi13.head()"
   ]
  },
  {
   "cell_type": "code",
   "execution_count": 7,
   "metadata": {
    "collapsed": true
   },
   "outputs": [],
   "source": [
    "exons = gfusi13[[\"chrom\",\"chromStart\",\"chromEnd\",\"name\",\"blockCount\",\"blockSizes\"]].copy()"
   ]
  },
  {
   "cell_type": "code",
   "execution_count": 8,
   "metadata": {
    "collapsed": true
   },
   "outputs": [],
   "source": [
    "# e = exons.head().copy()"
   ]
  },
  {
   "cell_type": "code",
   "execution_count": 9,
   "metadata": {
    "collapsed": true
   },
   "outputs": [],
   "source": [
    "exons['blockSizes'] = exons.blockSizes.apply(lambda i: np.array([int(x) for x in i.split(',')]))"
   ]
  },
  {
   "cell_type": "code",
   "execution_count": 10,
   "metadata": {
    "collapsed": true
   },
   "outputs": [],
   "source": [
    "exons['blockMeans'] = exons.blockSizes.apply(np.mean)"
   ]
  },
  {
   "cell_type": "code",
   "execution_count": 11,
   "metadata": {
    "collapsed": true
   },
   "outputs": [],
   "source": [
    "exons['blockMedians'] = exons.blockSizes.apply(np.median)"
   ]
  },
  {
   "cell_type": "code",
   "execution_count": 12,
   "metadata": {
    "collapsed": false
   },
   "outputs": [],
   "source": [
    "exons['genomeSpans'] = exons.apply(lambda row: row.chromEnd - row.chromStart, axis=1)"
   ]
  },
  {
   "cell_type": "code",
   "execution_count": 13,
   "metadata": {
    "collapsed": true
   },
   "outputs": [],
   "source": [
    "exons['genomeSpans_lg10'] = exons.genomeSpans.apply(np.log10)"
   ]
  },
  {
   "cell_type": "code",
   "execution_count": 17,
   "metadata": {
    "collapsed": false
   },
   "outputs": [
    {
     "data": {
      "text/html": [
       "<div>\n",
       "<table border=\"1\" class=\"dataframe\">\n",
       "  <thead>\n",
       "    <tr style=\"text-align: right;\">\n",
       "      <th></th>\n",
       "      <th>chrom</th>\n",
       "      <th>chromStart</th>\n",
       "      <th>chromEnd</th>\n",
       "      <th>name</th>\n",
       "      <th>blockCount</th>\n",
       "      <th>blockSizes</th>\n",
       "      <th>blockMeans</th>\n",
       "      <th>blockMedians</th>\n",
       "      <th>genomeSpans</th>\n",
       "      <th>genomeSpans_lg10</th>\n",
       "    </tr>\n",
       "  </thead>\n",
       "  <tbody>\n",
       "    <tr>\n",
       "      <th>0</th>\n",
       "      <td>JFJR01006593</td>\n",
       "      <td>4031</td>\n",
       "      <td>10761</td>\n",
       "      <td>GFUI000004</td>\n",
       "      <td>6</td>\n",
       "      <td>[75, 33, 33, 79, 12, 74]</td>\n",
       "      <td>51.000000</td>\n",
       "      <td>53.5</td>\n",
       "      <td>6730</td>\n",
       "      <td>3.828015</td>\n",
       "    </tr>\n",
       "    <tr>\n",
       "      <th>1</th>\n",
       "      <td>JFJR01006593</td>\n",
       "      <td>35986</td>\n",
       "      <td>48146</td>\n",
       "      <td>GFUI000006</td>\n",
       "      <td>7</td>\n",
       "      <td>[166, 67, 28, 17, 91, 20, 16]</td>\n",
       "      <td>57.857143</td>\n",
       "      <td>28.0</td>\n",
       "      <td>12160</td>\n",
       "      <td>4.084934</td>\n",
       "    </tr>\n",
       "    <tr>\n",
       "      <th>2</th>\n",
       "      <td>JFJR01006593</td>\n",
       "      <td>59266</td>\n",
       "      <td>71732</td>\n",
       "      <td>GFUI000002</td>\n",
       "      <td>9</td>\n",
       "      <td>[476, 84, 111, 134, 112, 87, 488, 297, 3906]</td>\n",
       "      <td>632.777778</td>\n",
       "      <td>134.0</td>\n",
       "      <td>12466</td>\n",
       "      <td>4.095727</td>\n",
       "    </tr>\n",
       "    <tr>\n",
       "      <th>3</th>\n",
       "      <td>JFJR01006593</td>\n",
       "      <td>95368</td>\n",
       "      <td>98696</td>\n",
       "      <td>GFUI000008</td>\n",
       "      <td>4</td>\n",
       "      <td>[287, 183, 1962, 710]</td>\n",
       "      <td>785.500000</td>\n",
       "      <td>498.5</td>\n",
       "      <td>3328</td>\n",
       "      <td>3.522183</td>\n",
       "    </tr>\n",
       "    <tr>\n",
       "      <th>4</th>\n",
       "      <td>JFJR01006593</td>\n",
       "      <td>99496</td>\n",
       "      <td>112398</td>\n",
       "      <td>GFUI000010</td>\n",
       "      <td>3</td>\n",
       "      <td>[3326, 763, 407]</td>\n",
       "      <td>1498.666667</td>\n",
       "      <td>763.0</td>\n",
       "      <td>12902</td>\n",
       "      <td>4.110657</td>\n",
       "    </tr>\n",
       "  </tbody>\n",
       "</table>\n",
       "</div>"
      ],
      "text/plain": [
       "          chrom  chromStart  chromEnd        name  blockCount  \\\n",
       "0  JFJR01006593        4031     10761  GFUI000004           6   \n",
       "1  JFJR01006593       35986     48146  GFUI000006           7   \n",
       "2  JFJR01006593       59266     71732  GFUI000002           9   \n",
       "3  JFJR01006593       95368     98696  GFUI000008           4   \n",
       "4  JFJR01006593       99496    112398  GFUI000010           3   \n",
       "\n",
       "                                     blockSizes   blockMeans  blockMedians  \\\n",
       "0                      [75, 33, 33, 79, 12, 74]    51.000000          53.5   \n",
       "1                 [166, 67, 28, 17, 91, 20, 16]    57.857143          28.0   \n",
       "2  [476, 84, 111, 134, 112, 87, 488, 297, 3906]   632.777778         134.0   \n",
       "3                         [287, 183, 1962, 710]   785.500000         498.5   \n",
       "4                              [3326, 763, 407]  1498.666667         763.0   \n",
       "\n",
       "   genomeSpans  genomeSpans_lg10  \n",
       "0         6730          3.828015  \n",
       "1        12160          4.084934  \n",
       "2        12466          4.095727  \n",
       "3         3328          3.522183  \n",
       "4        12902          4.110657  "
      ]
     },
     "execution_count": 17,
     "metadata": {},
     "output_type": "execute_result"
    }
   ],
   "source": [
    "exons.head()"
   ]
  },
  {
   "cell_type": "code",
   "execution_count": 20,
   "metadata": {
    "collapsed": false
   },
   "outputs": [
    {
     "data": {
      "text/plain": [
       "<matplotlib.axes._subplots.AxesSubplot at 0x7f008a1df0d0>"
      ]
     },
     "execution_count": 20,
     "metadata": {},
     "output_type": "execute_result"
    },
    {
     "data": {
      "image/png": "[encoded data removed]",
      "text/plain": [
       "<matplotlib.figure.Figure at 0x7f008a038f90>"
      ]
     },
     "metadata": {},
     "output_type": "display_data"
    }
   ],
   "source": [
    "sns.distplot(np.log10(exons.blockMeans),kde=False);\n",
    "             "
   ]
  },
  {
   "cell_type": "code",
   "execution_count": 22,
   "metadata": {
    "collapsed": false
   },
   "outputs": [
    {
     "data": {
      "image/png": "[encoded data removed]",
      "text/plain": [
       "<matplotlib.figure.Figure at 0x7f0089ccdf90>"
      ]
     },
     "metadata": {},
     "output_type": "display_data"
    }
   ],
   "source": [
    "sns.distplot(np.log10(exons.blockMedians),kde=False);"
   ]
  },
  {
   "cell_type": "code",
   "execution_count": 24,
   "metadata": {
    "collapsed": false
   },
   "outputs": [],
   "source": [
    "e = exons.head().copy()"
   ]
  },
  {
   "cell_type": "code",
   "execution_count": 27,
   "metadata": {
    "collapsed": false
   },
   "outputs": [
    {
     "data": {
      "text/html": [
       "<div>\n",
       "<table border=\"1\" class=\"dataframe\">\n",
       "  <thead>\n",
       "    <tr style=\"text-align: right;\">\n",
       "      <th></th>\n",
       "      <th>chrom</th>\n",
       "      <th>chromStart</th>\n",
       "      <th>chromEnd</th>\n",
       "      <th>name</th>\n",
       "      <th>blockCount</th>\n",
       "      <th>blockSizes</th>\n",
       "      <th>blockMeans</th>\n",
       "      <th>blockMedians</th>\n",
       "      <th>genomeSpans</th>\n",
       "      <th>genomeSpans_lg10</th>\n",
       "    </tr>\n",
       "  </thead>\n",
       "  <tbody>\n",
       "    <tr>\n",
       "      <th>0</th>\n",
       "      <td>JFJR01006593</td>\n",
       "      <td>4031</td>\n",
       "      <td>10761</td>\n",
       "      <td>GFUI000004</td>\n",
       "      <td>6</td>\n",
       "      <td>[75, 33, 33, 79, 12, 74]</td>\n",
       "      <td>51.000000</td>\n",
       "      <td>53.5</td>\n",
       "      <td>6730</td>\n",
       "      <td>3.828015</td>\n",
       "    </tr>\n",
       "    <tr>\n",
       "      <th>1</th>\n",
       "      <td>JFJR01006593</td>\n",
       "      <td>35986</td>\n",
       "      <td>48146</td>\n",
       "      <td>GFUI000006</td>\n",
       "      <td>7</td>\n",
       "      <td>[166, 67, 28, 17, 91, 20, 16]</td>\n",
       "      <td>57.857143</td>\n",
       "      <td>28.0</td>\n",
       "      <td>12160</td>\n",
       "      <td>4.084934</td>\n",
       "    </tr>\n",
       "    <tr>\n",
       "      <th>2</th>\n",
       "      <td>JFJR01006593</td>\n",
       "      <td>59266</td>\n",
       "      <td>71732</td>\n",
       "      <td>GFUI000002</td>\n",
       "      <td>9</td>\n",
       "      <td>[476, 84, 111, 134, 112, 87, 488, 297, 3906]</td>\n",
       "      <td>632.777778</td>\n",
       "      <td>134.0</td>\n",
       "      <td>12466</td>\n",
       "      <td>4.095727</td>\n",
       "    </tr>\n",
       "    <tr>\n",
       "      <th>3</th>\n",
       "      <td>JFJR01006593</td>\n",
       "      <td>95368</td>\n",
       "      <td>98696</td>\n",
       "      <td>GFUI000008</td>\n",
       "      <td>4</td>\n",
       "      <td>[287, 183, 1962, 710]</td>\n",
       "      <td>785.500000</td>\n",
       "      <td>498.5</td>\n",
       "      <td>3328</td>\n",
       "      <td>3.522183</td>\n",
       "    </tr>\n",
       "    <tr>\n",
       "      <th>4</th>\n",
       "      <td>JFJR01006593</td>\n",
       "      <td>99496</td>\n",
       "      <td>112398</td>\n",
       "      <td>GFUI000010</td>\n",
       "      <td>3</td>\n",
       "      <td>[3326, 763, 407]</td>\n",
       "      <td>1498.666667</td>\n",
       "      <td>763.0</td>\n",
       "      <td>12902</td>\n",
       "      <td>4.110657</td>\n",
       "    </tr>\n",
       "  </tbody>\n",
       "</table>\n",
       "</div>"
      ],
      "text/plain": [
       "          chrom  chromStart  chromEnd        name  blockCount  \\\n",
       "0  JFJR01006593        4031     10761  GFUI000004           6   \n",
       "1  JFJR01006593       35986     48146  GFUI000006           7   \n",
       "2  JFJR01006593       59266     71732  GFUI000002           9   \n",
       "3  JFJR01006593       95368     98696  GFUI000008           4   \n",
       "4  JFJR01006593       99496    112398  GFUI000010           3   \n",
       "\n",
       "                                     blockSizes   blockMeans  blockMedians  \\\n",
       "0                      [75, 33, 33, 79, 12, 74]    51.000000          53.5   \n",
       "1                 [166, 67, 28, 17, 91, 20, 16]    57.857143          28.0   \n",
       "2  [476, 84, 111, 134, 112, 87, 488, 297, 3906]   632.777778         134.0   \n",
       "3                         [287, 183, 1962, 710]   785.500000         498.5   \n",
       "4                              [3326, 763, 407]  1498.666667         763.0   \n",
       "\n",
       "   genomeSpans  genomeSpans_lg10  \n",
       "0         6730          3.828015  \n",
       "1        12160          4.084934  \n",
       "2        12466          4.095727  \n",
       "3         3328          3.522183  \n",
       "4        12902          4.110657  "
      ]
     },
     "execution_count": 27,
     "metadata": {},
     "output_type": "execute_result"
    }
   ],
   "source": [
    "e"
   ]
  },
  {
   "cell_type": "code",
   "execution_count": 39,
   "metadata": {
    "collapsed": false
   },
   "outputs": [
    {
     "ename": "TypeError",
     "evalue": "(\"ufunc 'add' did not contain a loop with signature matching types dtype('<U21') dtype('<U21') dtype('<U21')\", u'occurred at index 0')",
     "output_type": "error",
     "traceback": [
      "\u001b[1;31m---------------------------------------------------------------------------\u001b[0m",
      "\u001b[1;31mTypeError\u001b[0m                                 Traceback (most recent call last)",
      "\u001b[1;32m<ipython-input-39-debebebfce8a>\u001b[0m in \u001b[0;36m<module>\u001b[1;34m()\u001b[0m\n\u001b[1;32m----> 1\u001b[1;33m \u001b[0me\u001b[0m\u001b[1;33m.\u001b[0m\u001b[0mapply\u001b[0m\u001b[1;33m(\u001b[0m\u001b[1;32mlambda\u001b[0m \u001b[0mrow\u001b[0m\u001b[1;33m:\u001b[0m \u001b[1;33m(\u001b[0m\u001b[0mrow\u001b[0m\u001b[1;33m.\u001b[0m\u001b[0mname\u001b[0m\u001b[1;33m,\u001b[0m\u001b[0mrow\u001b[0m\u001b[1;33m.\u001b[0m\u001b[0mname\u001b[0m\u001b[1;33m+\u001b[0m\u001b[1;34m'u'\u001b[0m\u001b[1;33m)\u001b[0m\u001b[1;33m,\u001b[0m\u001b[0maxis\u001b[0m\u001b[1;33m=\u001b[0m\u001b[1;36m1\u001b[0m\u001b[1;33m)\u001b[0m\u001b[1;33m\u001b[0m\u001b[0m\n\u001b[0m",
      "\u001b[1;32m/home/gus/anaconda2/envs/stack2/lib/python2.7/site-packages/pandas/core/frame.pyc\u001b[0m in \u001b[0;36mapply\u001b[1;34m(self, func, axis, broadcast, raw, reduce, args, **kwds)\u001b[0m\n\u001b[0;32m   4040\u001b[0m                     \u001b[1;32mif\u001b[0m \u001b[0mreduce\u001b[0m \u001b[1;32mis\u001b[0m \u001b[0mNone\u001b[0m\u001b[1;33m:\u001b[0m\u001b[1;33m\u001b[0m\u001b[0m\n\u001b[0;32m   4041\u001b[0m                         \u001b[0mreduce\u001b[0m \u001b[1;33m=\u001b[0m \u001b[0mTrue\u001b[0m\u001b[1;33m\u001b[0m\u001b[0m\n\u001b[1;32m-> 4042\u001b[1;33m                     \u001b[1;32mreturn\u001b[0m \u001b[0mself\u001b[0m\u001b[1;33m.\u001b[0m\u001b[0m_apply_standard\u001b[0m\u001b[1;33m(\u001b[0m\u001b[0mf\u001b[0m\u001b[1;33m,\u001b[0m \u001b[0maxis\u001b[0m\u001b[1;33m,\u001b[0m \u001b[0mreduce\u001b[0m\u001b[1;33m=\u001b[0m\u001b[0mreduce\u001b[0m\u001b[1;33m)\u001b[0m\u001b[1;33m\u001b[0m\u001b[0m\n\u001b[0m\u001b[0;32m   4043\u001b[0m             \u001b[1;32melse\u001b[0m\u001b[1;33m:\u001b[0m\u001b[1;33m\u001b[0m\u001b[0m\n\u001b[0;32m   4044\u001b[0m                 \u001b[1;32mreturn\u001b[0m \u001b[0mself\u001b[0m\u001b[1;33m.\u001b[0m\u001b[0m_apply_broadcast\u001b[0m\u001b[1;33m(\u001b[0m\u001b[0mf\u001b[0m\u001b[1;33m,\u001b[0m \u001b[0maxis\u001b[0m\u001b[1;33m)\u001b[0m\u001b[1;33m\u001b[0m\u001b[0m\n",
      "\u001b[1;32m/home/gus/anaconda2/envs/stack2/lib/python2.7/site-packages/pandas/core/frame.pyc\u001b[0m in \u001b[0;36m_apply_standard\u001b[1;34m(self, func, axis, ignore_failures, reduce)\u001b[0m\n\u001b[0;32m   4136\u001b[0m             \u001b[1;32mtry\u001b[0m\u001b[1;33m:\u001b[0m\u001b[1;33m\u001b[0m\u001b[0m\n\u001b[0;32m   4137\u001b[0m                 \u001b[1;32mfor\u001b[0m \u001b[0mi\u001b[0m\u001b[1;33m,\u001b[0m \u001b[0mv\u001b[0m \u001b[1;32min\u001b[0m \u001b[0menumerate\u001b[0m\u001b[1;33m(\u001b[0m\u001b[0mseries_gen\u001b[0m\u001b[1;33m)\u001b[0m\u001b[1;33m:\u001b[0m\u001b[1;33m\u001b[0m\u001b[0m\n\u001b[1;32m-> 4138\u001b[1;33m                     \u001b[0mresults\u001b[0m\u001b[1;33m[\u001b[0m\u001b[0mi\u001b[0m\u001b[1;33m]\u001b[0m \u001b[1;33m=\u001b[0m \u001b[0mfunc\u001b[0m\u001b[1;33m(\u001b[0m\u001b[0mv\u001b[0m\u001b[1;33m)\u001b[0m\u001b[1;33m\u001b[0m\u001b[0m\n\u001b[0m\u001b[0;32m   4139\u001b[0m                     \u001b[0mkeys\u001b[0m\u001b[1;33m.\u001b[0m\u001b[0mappend\u001b[0m\u001b[1;33m(\u001b[0m\u001b[0mv\u001b[0m\u001b[1;33m.\u001b[0m\u001b[0mname\u001b[0m\u001b[1;33m)\u001b[0m\u001b[1;33m\u001b[0m\u001b[0m\n\u001b[0;32m   4140\u001b[0m             \u001b[1;32mexcept\u001b[0m \u001b[0mException\u001b[0m \u001b[1;32mas\u001b[0m \u001b[0me\u001b[0m\u001b[1;33m:\u001b[0m\u001b[1;33m\u001b[0m\u001b[0m\n",
      "\u001b[1;32m<ipython-input-39-debebebfce8a>\u001b[0m in \u001b[0;36m<lambda>\u001b[1;34m(row)\u001b[0m\n\u001b[1;32m----> 1\u001b[1;33m \u001b[0me\u001b[0m\u001b[1;33m.\u001b[0m\u001b[0mapply\u001b[0m\u001b[1;33m(\u001b[0m\u001b[1;32mlambda\u001b[0m \u001b[0mrow\u001b[0m\u001b[1;33m:\u001b[0m \u001b[1;33m(\u001b[0m\u001b[0mrow\u001b[0m\u001b[1;33m.\u001b[0m\u001b[0mname\u001b[0m\u001b[1;33m,\u001b[0m\u001b[0mrow\u001b[0m\u001b[1;33m.\u001b[0m\u001b[0mname\u001b[0m\u001b[1;33m+\u001b[0m\u001b[1;34m'u'\u001b[0m\u001b[1;33m)\u001b[0m\u001b[1;33m,\u001b[0m\u001b[0maxis\u001b[0m\u001b[1;33m=\u001b[0m\u001b[1;36m1\u001b[0m\u001b[1;33m)\u001b[0m\u001b[1;33m\u001b[0m\u001b[0m\n\u001b[0m",
      "\u001b[1;31mTypeError\u001b[0m: (\"ufunc 'add' did not contain a loop with signature matching types dtype('<U21') dtype('<U21') dtype('<U21')\", u'occurred at index 0')"
     ]
    }
   ],
   "source": [
    "e.name"
   ]
  },
  {
   "cell_type": "code",
   "execution_count": 38,
   "metadata": {
    "collapsed": false
   },
   "outputs": [
    {
     "data": {
      "text/plain": [
       "0    GFUI000004\n",
       "1    GFUI000006\n",
       "2    GFUI000002\n",
       "3    GFUI000008\n",
       "4    GFUI000010\n",
       "Name: name, dtype: object"
      ]
     },
     "execution_count": 38,
     "metadata": {},
     "output_type": "execute_result"
    }
   ],
   "source": [
    "e.name"
   ]
  },
  {
   "cell_type": "code",
   "execution_count": 43,
   "metadata": {
    "collapsed": false
   },
   "outputs": [
    {
     "ename": "ValueError",
     "evalue": "arrays must all be same length",
     "output_type": "error",
     "traceback": [
      "\u001b[1;31m---------------------------------------------------------------------------\u001b[0m",
      "\u001b[1;31mValueError\u001b[0m                                Traceback (most recent call last)",
      "\u001b[1;32m<ipython-input-43-2b6db8fa346b>\u001b[0m in \u001b[0;36m<module>\u001b[1;34m()\u001b[0m\n\u001b[1;32m----> 1\u001b[1;33m \u001b[0mpd\u001b[0m\u001b[1;33m.\u001b[0m\u001b[0mDataFrame\u001b[0m\u001b[1;33m(\u001b[0m\u001b[1;33m{\u001b[0m\u001b[0mk\u001b[0m\u001b[1;33m:\u001b[0m\u001b[0mv\u001b[0m \u001b[1;32mfor\u001b[0m \u001b[1;33m(\u001b[0m\u001b[0mk\u001b[0m\u001b[1;33m,\u001b[0m\u001b[0mv\u001b[0m\u001b[1;33m)\u001b[0m \u001b[1;32min\u001b[0m \u001b[0mzip\u001b[0m\u001b[1;33m(\u001b[0m\u001b[0mlist\u001b[0m\u001b[1;33m(\u001b[0m\u001b[0me\u001b[0m\u001b[1;33m.\u001b[0m\u001b[0mname\u001b[0m\u001b[1;33m)\u001b[0m\u001b[1;33m,\u001b[0m\u001b[0mlist\u001b[0m\u001b[1;33m(\u001b[0m\u001b[0me\u001b[0m\u001b[1;33m.\u001b[0m\u001b[0mblockSizes\u001b[0m\u001b[1;33m)\u001b[0m\u001b[1;33m)\u001b[0m\u001b[1;33m}\u001b[0m\u001b[1;33m)\u001b[0m\u001b[1;33m\u001b[0m\u001b[0m\n\u001b[0m",
      "\u001b[1;32m/home/gus/anaconda2/envs/stack2/lib/python2.7/site-packages/pandas/core/frame.pyc\u001b[0m in \u001b[0;36m__init__\u001b[1;34m(self, data, index, columns, dtype, copy)\u001b[0m\n\u001b[0;32m    221\u001b[0m                                  dtype=dtype, copy=copy)\n\u001b[0;32m    222\u001b[0m         \u001b[1;32melif\u001b[0m \u001b[0misinstance\u001b[0m\u001b[1;33m(\u001b[0m\u001b[0mdata\u001b[0m\u001b[1;33m,\u001b[0m \u001b[0mdict\u001b[0m\u001b[1;33m)\u001b[0m\u001b[1;33m:\u001b[0m\u001b[1;33m\u001b[0m\u001b[0m\n\u001b[1;32m--> 223\u001b[1;33m             \u001b[0mmgr\u001b[0m \u001b[1;33m=\u001b[0m \u001b[0mself\u001b[0m\u001b[1;33m.\u001b[0m\u001b[0m_init_dict\u001b[0m\u001b[1;33m(\u001b[0m\u001b[0mdata\u001b[0m\u001b[1;33m,\u001b[0m \u001b[0mindex\u001b[0m\u001b[1;33m,\u001b[0m \u001b[0mcolumns\u001b[0m\u001b[1;33m,\u001b[0m \u001b[0mdtype\u001b[0m\u001b[1;33m=\u001b[0m\u001b[0mdtype\u001b[0m\u001b[1;33m)\u001b[0m\u001b[1;33m\u001b[0m\u001b[0m\n\u001b[0m\u001b[0;32m    224\u001b[0m         \u001b[1;32melif\u001b[0m \u001b[0misinstance\u001b[0m\u001b[1;33m(\u001b[0m\u001b[0mdata\u001b[0m\u001b[1;33m,\u001b[0m \u001b[0mma\u001b[0m\u001b[1;33m.\u001b[0m\u001b[0mMaskedArray\u001b[0m\u001b[1;33m)\u001b[0m\u001b[1;33m:\u001b[0m\u001b[1;33m\u001b[0m\u001b[0m\n\u001b[0;32m    225\u001b[0m             \u001b[1;32mimport\u001b[0m \u001b[0mnumpy\u001b[0m\u001b[1;33m.\u001b[0m\u001b[0mma\u001b[0m\u001b[1;33m.\u001b[0m\u001b[0mmrecords\u001b[0m \u001b[1;32mas\u001b[0m \u001b[0mmrecords\u001b[0m\u001b[1;33m\u001b[0m\u001b[0m\n",
      "\u001b[1;32m/home/gus/anaconda2/envs/stack2/lib/python2.7/site-packages/pandas/core/frame.pyc\u001b[0m in \u001b[0;36m_init_dict\u001b[1;34m(self, data, index, columns, dtype)\u001b[0m\n\u001b[0;32m    357\u001b[0m             \u001b[0marrays\u001b[0m \u001b[1;33m=\u001b[0m \u001b[1;33m[\u001b[0m\u001b[0mdata\u001b[0m\u001b[1;33m[\u001b[0m\u001b[0mk\u001b[0m\u001b[1;33m]\u001b[0m \u001b[1;32mfor\u001b[0m \u001b[0mk\u001b[0m \u001b[1;32min\u001b[0m \u001b[0mkeys\u001b[0m\u001b[1;33m]\u001b[0m\u001b[1;33m\u001b[0m\u001b[0m\n\u001b[0;32m    358\u001b[0m \u001b[1;33m\u001b[0m\u001b[0m\n\u001b[1;32m--> 359\u001b[1;33m         \u001b[1;32mreturn\u001b[0m \u001b[0m_arrays_to_mgr\u001b[0m\u001b[1;33m(\u001b[0m\u001b[0marrays\u001b[0m\u001b[1;33m,\u001b[0m \u001b[0mdata_names\u001b[0m\u001b[1;33m,\u001b[0m \u001b[0mindex\u001b[0m\u001b[1;33m,\u001b[0m \u001b[0mcolumns\u001b[0m\u001b[1;33m,\u001b[0m \u001b[0mdtype\u001b[0m\u001b[1;33m=\u001b[0m\u001b[0mdtype\u001b[0m\u001b[1;33m)\u001b[0m\u001b[1;33m\u001b[0m\u001b[0m\n\u001b[0m\u001b[0;32m    360\u001b[0m \u001b[1;33m\u001b[0m\u001b[0m\n\u001b[0;32m    361\u001b[0m     \u001b[1;32mdef\u001b[0m \u001b[0m_init_ndarray\u001b[0m\u001b[1;33m(\u001b[0m\u001b[0mself\u001b[0m\u001b[1;33m,\u001b[0m \u001b[0mvalues\u001b[0m\u001b[1;33m,\u001b[0m \u001b[0mindex\u001b[0m\u001b[1;33m,\u001b[0m \u001b[0mcolumns\u001b[0m\u001b[1;33m,\u001b[0m \u001b[0mdtype\u001b[0m\u001b[1;33m=\u001b[0m\u001b[0mNone\u001b[0m\u001b[1;33m,\u001b[0m \u001b[0mcopy\u001b[0m\u001b[1;33m=\u001b[0m\u001b[0mFalse\u001b[0m\u001b[1;33m)\u001b[0m\u001b[1;33m:\u001b[0m\u001b[1;33m\u001b[0m\u001b[0m\n",
      "\u001b[1;32m/home/gus/anaconda2/envs/stack2/lib/python2.7/site-packages/pandas/core/frame.pyc\u001b[0m in \u001b[0;36m_arrays_to_mgr\u001b[1;34m(arrays, arr_names, index, columns, dtype)\u001b[0m\n\u001b[0;32m   5238\u001b[0m     \u001b[1;31m# figure out the index, if necessary\u001b[0m\u001b[1;33m\u001b[0m\u001b[1;33m\u001b[0m\u001b[0m\n\u001b[0;32m   5239\u001b[0m     \u001b[1;32mif\u001b[0m \u001b[0mindex\u001b[0m \u001b[1;32mis\u001b[0m \u001b[0mNone\u001b[0m\u001b[1;33m:\u001b[0m\u001b[1;33m\u001b[0m\u001b[0m\n\u001b[1;32m-> 5240\u001b[1;33m         \u001b[0mindex\u001b[0m \u001b[1;33m=\u001b[0m \u001b[0mextract_index\u001b[0m\u001b[1;33m(\u001b[0m\u001b[0marrays\u001b[0m\u001b[1;33m)\u001b[0m\u001b[1;33m\u001b[0m\u001b[0m\n\u001b[0m\u001b[0;32m   5241\u001b[0m     \u001b[1;32melse\u001b[0m\u001b[1;33m:\u001b[0m\u001b[1;33m\u001b[0m\u001b[0m\n\u001b[0;32m   5242\u001b[0m         \u001b[0mindex\u001b[0m \u001b[1;33m=\u001b[0m \u001b[0m_ensure_index\u001b[0m\u001b[1;33m(\u001b[0m\u001b[0mindex\u001b[0m\u001b[1;33m)\u001b[0m\u001b[1;33m\u001b[0m\u001b[0m\n",
      "\u001b[1;32m/home/gus/anaconda2/envs/stack2/lib/python2.7/site-packages/pandas/core/frame.pyc\u001b[0m in \u001b[0;36mextract_index\u001b[1;34m(data)\u001b[0m\n\u001b[0;32m   5286\u001b[0m             \u001b[0mlengths\u001b[0m \u001b[1;33m=\u001b[0m \u001b[0mlist\u001b[0m\u001b[1;33m(\u001b[0m\u001b[0mset\u001b[0m\u001b[1;33m(\u001b[0m\u001b[0mraw_lengths\u001b[0m\u001b[1;33m)\u001b[0m\u001b[1;33m)\u001b[0m\u001b[1;33m\u001b[0m\u001b[0m\n\u001b[0;32m   5287\u001b[0m             \u001b[1;32mif\u001b[0m \u001b[0mlen\u001b[0m\u001b[1;33m(\u001b[0m\u001b[0mlengths\u001b[0m\u001b[1;33m)\u001b[0m \u001b[1;33m>\u001b[0m \u001b[1;36m1\u001b[0m\u001b[1;33m:\u001b[0m\u001b[1;33m\u001b[0m\u001b[0m\n\u001b[1;32m-> 5288\u001b[1;33m                 \u001b[1;32mraise\u001b[0m \u001b[0mValueError\u001b[0m\u001b[1;33m(\u001b[0m\u001b[1;34m'arrays must all be same length'\u001b[0m\u001b[1;33m)\u001b[0m\u001b[1;33m\u001b[0m\u001b[0m\n\u001b[0m\u001b[0;32m   5289\u001b[0m \u001b[1;33m\u001b[0m\u001b[0m\n\u001b[0;32m   5290\u001b[0m             \u001b[1;32mif\u001b[0m \u001b[0mhave_dicts\u001b[0m\u001b[1;33m:\u001b[0m\u001b[1;33m\u001b[0m\u001b[0m\n",
      "\u001b[1;31mValueError\u001b[0m: arrays must all be same length"
     ]
    }
   ],
   "source": [
    "pd.DataFrame({k:v for (k,v) in zip(list(e.name),list(e.blockSizes))},)"
   ]
  },
  {
   "cell_type": "code",
   "execution_count": 23,
   "metadata": {
    "collapsed": false
   },
   "outputs": [
    {
     "data": {
      "text/html": [
       "<div>\n",
       "<table border=\"1\" class=\"dataframe\">\n",
       "  <thead>\n",
       "    <tr style=\"text-align: right;\">\n",
       "      <th>name</th>\n",
       "      <th>GFUI000004</th>\n",
       "      <th>GFUI000006</th>\n",
       "      <th>GFUI000002</th>\n",
       "      <th>GFUI000008</th>\n",
       "      <th>GFUI000010</th>\n",
       "    </tr>\n",
       "  </thead>\n",
       "  <tbody>\n",
       "  </tbody>\n",
       "</table>\n",
       "</div>"
      ],
      "text/plain": [
       "Empty DataFrame\n",
       "Columns: [GFUI000004, GFUI000006, GFUI000002, GFUI000008, GFUI000010]\n",
       "Index: []"
      ]
     },
     "execution_count": 23,
     "metadata": {},
     "output_type": "execute_result"
    }
   ],
   "source": [
    "pd.DataFrame(data=e.blockSizes.T, columns=e.name)"
   ]
  },
  {
   "cell_type": "code",
   "execution_count": 23,
   "metadata": {
    "collapsed": false
   },
   "outputs": [
    {
     "ename": "NameError",
     "evalue": "name 'e' is not defined",
     "output_type": "error",
     "traceback": [
      "\u001b[1;31m---------------------------------------------------------------------------\u001b[0m",
      "\u001b[1;31mNameError\u001b[0m                                 Traceback (most recent call last)",
      "\u001b[1;32m<ipython-input-23-9ffbf43126e3>\u001b[0m in \u001b[0;36m<module>\u001b[1;34m()\u001b[0m\n\u001b[1;32m----> 1\u001b[1;33m \u001b[0me\u001b[0m\u001b[1;33m\u001b[0m\u001b[0m\n\u001b[0m",
      "\u001b[1;31mNameError\u001b[0m: name 'e' is not defined"
     ]
    }
   ],
   "source": [
    "e"
   ]
  },
  {
   "cell_type": "code",
   "execution_count": null,
   "metadata": {
    "collapsed": true
   },
   "outputs": [],
   "source": []
  }
 ],
 "metadata": {
  "kernelspec": {
   "display_name": "Python 2",
   "language": "python",
   "name": "python2"
  },
  "language_info": {
   "codemirror_mode": {
    "name": "ipython",
    "version": 2
   },
   "file_extension": ".py",
   "mimetype": "text/x-python",
   "name": "python",
   "nbconvert_exporter": "python",
   "pygments_lexer": "ipython2",
   "version": "2.7.11"
  }
 },
 "nbformat": 4,
 "nbformat_minor": 0
}
