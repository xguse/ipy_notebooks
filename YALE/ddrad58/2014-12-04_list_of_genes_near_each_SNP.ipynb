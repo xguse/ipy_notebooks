{
 "cells": [
  {
   "cell_type": "markdown",
   "metadata": {},
   "source": [
    "# `Purpose:` Identifying genes in various proximity windows for the top SNPs associated with Infection or Environment"
   ]
  },
  {
   "cell_type": "markdown",
   "metadata": {},
   "source": [
    "##Script names:\n",
    "1. ddRAD58_GfusI1.1_near_SNP_set_top1_env.windows.sh\n",
    "1. ddRAD58_GfusI1.1_near_SNP_set_top5_env.windows.sh\n",
    "1. ddRAD58_GfusI1.1_near_SNP_set_top1_infection.windows.sh\n",
    "1. ddRAD58_GfusI1.1_near_SNP_set_top5_infection.windows.sh\n",
    "\n",
    "## Example code:\n",
    "\n",
    "```shell\n",
    "#!/bin/zsh\n",
    "\n",
    "OUT_DIR=$HOME/data/projects/ddrad58/SNPs_of_interest/genes_near_SNPs\n",
    "\n",
    "BED=$HOME/data/projects/ddrad58/SNPs_of_interest/Top01_PopPairwiseOverlap_Environm.bed\n",
    "GFF3=$HOME/data/genomes/glossina_fuscipes/annotations/Glossina-fuscipes-IAEA_BASEFEATURES_GfusI1.1.gff3\n",
    "\n",
    "BASENAME=tsetseFINAL_14Oct2014_f2_53_v_GfusI1.1.window\n",
    "\n",
    "WHICH_SNPS=top1_env\n",
    "\n",
    "\n",
    "LENGTH=500\n",
    "grep -P \"\\sgene\\s\" $GFF3 | bedtools window -a $BED -b stdin -w $LENGTH > ${OUT_DIR}/${BASENAME}.${LENGTH}.${WHICH_SNPS}.tsv\n",
    "\n",
    "LENGTH=1000\n",
    "grep -P \"\\sgene\\s\" $GFF3 | bedtools window -a $BED -b stdin -w $LENGTH > ${OUT_DIR}/${BASENAME}.${LENGTH}.${WHICH_SNPS}.tsv\n",
    "\n",
    "LENGTH=5000\n",
    "grep -P \"\\sgene\\s\" $GFF3 | bedtools window -a $BED -b stdin -w $LENGTH > ${OUT_DIR}/${BASENAME}.${LENGTH}.${WHICH_SNPS}.tsv\n",
    "\n",
    "```\n",
    "\n",
    "## Brief code explaination:\n",
    "For particular set of SNPs:\n",
    "- Run `bedtools window` on the SNPs of interest against the `gene` features in the `GfusI1.1` gff3 file.\n",
    "- Set the window around each SNP to 500, 1000, and 5000 bp\n",
    "- write out the results to files"
   ]
  },
  {
   "cell_type": "markdown",
   "metadata": {},
   "source": [
    "# Set up imports and file path configuration stuff"
   ]
  },
  {
   "cell_type": "code",
   "execution_count": 1,
   "metadata": {
    "collapsed": true
   },
   "outputs": [],
   "source": [
    "# imports\n",
    "from collections import defaultdict\n",
    "\n",
    "from spartan.utils.files import tableFile2namedTuple\n",
    "from spartan.utils.annotations.ensembl.gff3 import parse_gff3_attributes"
   ]
  },
  {
   "cell_type": "code",
   "execution_count": 2,
   "metadata": {
    "collapsed": true
   },
   "outputs": [],
   "source": [
    "# file paths\n",
    "\n",
    "## base directory\n",
    "base_dir = \"/home/gus/remote_mounts/louise/data/projects/ddrad58/SNPs_of_interest/genes_near_SNPs\"\n",
    "\n",
    "## In files\n",
    "top1_env_1000 = base_dir + \"/tsetseFINAL_14Oct2014_f2_53_v_GfusI1.1.window.1000.top1_env.tsv\"\n",
    "top1_inf_1000 = base_dir + \"/tsetseFINAL_14Oct2014_f2_53_v_GfusI1.1.window.1000.top1_infection.tsv\"\n",
    "\n",
    "top5_env_1000 = base_dir + \"/tsetseFINAL_14Oct2014_f2_53_v_GfusI1.1.window.1000.top5_env.tsv\"\n",
    "top5_inf_1000 = base_dir + \"/tsetseFINAL_14Oct2014_f2_53_v_GfusI1.1.window.1000.top5_infection.tsv\"\n",
    "\n",
    "top1_env_500 = base_dir + \"/tsetseFINAL_14Oct2014_f2_53_v_GfusI1.1.window.500.top1_env.tsv\"\n",
    "top1_inf_500 = base_dir + \"/tsetseFINAL_14Oct2014_f2_53_v_GfusI1.1.window.500.top1_infection.tsv\"\n",
    "\n",
    "top5_env_500 = base_dir + \"/tsetseFINAL_14Oct2014_f2_53_v_GfusI1.1.window.500.top5_env.tsv\"\n",
    "top5_inf_500 = base_dir + \"/tsetseFINAL_14Oct2014_f2_53_v_GfusI1.1.window.500.top5_infection.tsv\"\n",
    "\n",
    "top1_env_5000 = base_dir + \"/tsetseFINAL_14Oct2014_f2_53_v_GfusI1.1.window.5000.top1_env.tsv\"\n",
    "top1_inf_5000 = base_dir + \"/tsetseFINAL_14Oct2014_f2_53_v_GfusI1.1.window.5000.top1_infection.tsv\"\n",
    "\n",
    "top5_env_5000 = base_dir + \"/tsetseFINAL_14Oct2014_f2_53_v_GfusI1.1.window.5000.top5_env.tsv\"\n",
    "top5_inf_5000 = base_dir + \"/tsetseFINAL_14Oct2014_f2_53_v_GfusI1.1.window.5000.top5_infection.tsv\"\n",
    "\n",
    "## Out files\n",
    "top1_env_1000_out = base_dir + \"/tsetseFINAL_14Oct2014_f2_53_v_GfusI1.1.window.1000.top1_env.gene_list.tsv\"\n",
    "top1_inf_1000_out = base_dir + \"/tsetseFINAL_14Oct2014_f2_53_v_GfusI1.1.window.1000.top1_infection.gene_list.tsv\"\n",
    "\n",
    "top5_env_1000_out = base_dir + \"/tsetseFINAL_14Oct2014_f2_53_v_GfusI1.1.window.1000.top5_env.gene_list.tsv\"\n",
    "top5_inf_1000_out = base_dir + \"/tsetseFINAL_14Oct2014_f2_53_v_GfusI1.1.window.1000.top5_infection.gene_list.tsv\"\n",
    "\n",
    "top1_env_500_out = base_dir + \"/tsetseFINAL_14Oct2014_f2_53_v_GfusI1.1.window.500.top1_env.gene_list.tsv\"\n",
    "top1_inf_500_out = base_dir + \"/tsetseFINAL_14Oct2014_f2_53_v_GfusI1.1.window.500.top1_infection.gene_list.tsv\"\n",
    "\n",
    "top5_env_500_out = base_dir + \"/tsetseFINAL_14Oct2014_f2_53_v_GfusI1.1.window.500.top5_env.gene_list.tsv\"\n",
    "top5_inf_500_out = base_dir + \"/tsetseFINAL_14Oct2014_f2_53_v_GfusI1.1.window.500.top5_infection.gene_list.tsv\"\n",
    "\n",
    "top1_env_5000_out = base_dir + \"/tsetseFINAL_14Oct2014_f2_53_v_GfusI1.1.window.5000.top1_env.gene_list.tsv\"\n",
    "top1_inf_5000_out = base_dir + \"/tsetseFINAL_14Oct2014_f2_53_v_GfusI1.1.window.5000.top1_infection.gene_list.tsv\"\n",
    "\n",
    "top5_env_5000_out = base_dir + \"/tsetseFINAL_14Oct2014_f2_53_v_GfusI1.1.window.5000.top5_env.gene_list.tsv\"\n",
    "top5_inf_5000_out = base_dir + \"/tsetseFINAL_14Oct2014_f2_53_v_GfusI1.1.window.5000.top5_infection.gene_list.tsv\""
   ]
  },
  {
   "cell_type": "markdown",
   "metadata": {},
   "source": [
    "# Functions to get data from files"
   ]
  },
  {
   "cell_type": "code",
   "execution_count": 3,
   "metadata": {
    "collapsed": false
   },
   "outputs": [
    {
     "data": {
      "text/plain": [
       "['Scaffold191\\t251841\\t251842\\tScaffold191\\tVectorBase\\tgene\\t238121\\t247143\\t.\\t+\\t.\\tID=GFUI013677;biotype=protein_coding']"
      ]
     },
     "execution_count": 3,
     "metadata": {},
     "output_type": "execute_result"
    }
   ],
   "source": [
    "fields = !head -n 1 $top1_env_5000\n",
    "fields"
   ]
  },
  {
   "cell_type": "code",
   "execution_count": 4,
   "metadata": {
    "collapsed": false
   },
   "outputs": [
    {
     "data": {
      "text/plain": [
       "['Scaffold191',\n",
       " '251841',\n",
       " '251842',\n",
       " 'Scaffold191',\n",
       " 'VectorBase',\n",
       " 'gene',\n",
       " '238121',\n",
       " '247143',\n",
       " '.',\n",
       " '+',\n",
       " '.',\n",
       " 'ID=GFUI013677;biotype=protein_coding']"
      ]
     },
     "execution_count": 4,
     "metadata": {},
     "output_type": "execute_result"
    }
   ],
   "source": [
    "f = fields[0].strip().split('\\t')\n",
    "f"
   ]
  },
  {
   "cell_type": "code",
   "execution_count": 7,
   "metadata": {
    "collapsed": true
   },
   "outputs": [],
   "source": [
    "field_headers = [\"snp_contig\",\n",
    "                 \"snp_start\",\n",
    "                 \"snp_end\",\n",
    "                 \"gene_contig\",\n",
    "                 \"gene_source\",\n",
    "                 \"gene_type\",\n",
    "                 \"gene_start\",\n",
    "                 \"gene_end\",\n",
    "                 \"gene_score\",\n",
    "                 \"gene_strand\",\n",
    "                 \"gene_phase\",\n",
    "                 \"gene_attributes\"]"
   ]
  },
  {
   "cell_type": "code",
   "execution_count": 8,
   "metadata": {
    "collapsed": true
   },
   "outputs": [],
   "source": [
    "test = tableFile2namedTuple(top1_env_5000, sep='\\t', headers=field_headers)"
   ]
  },
  {
   "cell_type": "code",
   "execution_count": 9,
   "metadata": {
    "collapsed": false
   },
   "outputs": [
    {
     "data": {
      "text/plain": [
       "'Scaffold191'"
      ]
     },
     "execution_count": 9,
     "metadata": {},
     "output_type": "execute_result"
    }
   ],
   "source": [
    "line1 = test[0]\n",
    "line1.snp_contig"
   ]
  },
  {
   "cell_type": "code",
   "execution_count": 10,
   "metadata": {
    "collapsed": false
   },
   "outputs": [
    {
     "data": {
      "text/plain": [
       "'Scaffold191'"
      ]
     },
     "execution_count": 10,
     "metadata": {},
     "output_type": "execute_result"
    }
   ],
   "source": [
    "line1.gene_contig"
   ]
  },
  {
   "cell_type": "code",
   "execution_count": 11,
   "metadata": {
    "collapsed": false
   },
   "outputs": [
    {
     "data": {
      "text/plain": [
       "'ID=GFUI013677;biotype=protein_coding'"
      ]
     },
     "execution_count": 11,
     "metadata": {},
     "output_type": "execute_result"
    }
   ],
   "source": [
    "line1.gene_attributes"
   ]
  },
  {
   "cell_type": "code",
   "execution_count": 12,
   "metadata": {
    "collapsed": false
   },
   "outputs": [
    {
     "data": {
      "text/plain": [
       "('snp_contig',\n",
       " 'snp_start',\n",
       " 'snp_end',\n",
       " 'gene_contig',\n",
       " 'gene_source',\n",
       " 'gene_type',\n",
       " 'gene_start',\n",
       " 'gene_end',\n",
       " 'gene_score',\n",
       " 'gene_strand',\n",
       " 'gene_phase',\n",
       " 'gene_attributes')"
      ]
     },
     "execution_count": 12,
     "metadata": {},
     "output_type": "execute_result"
    }
   ],
   "source": [
    "line1._fields"
   ]
  },
  {
   "cell_type": "markdown",
   "metadata": {},
   "source": [
    "# Functions to collect genes to a SNP"
   ]
  },
  {
   "cell_type": "code",
   "execution_count": 13,
   "metadata": {
    "collapsed": true
   },
   "outputs": [],
   "source": [
    "def group_genes_to_SNP(loaded_lines):\n",
    "    \n",
    "    snp_to_genes = defaultdict(list)\n",
    "    \n",
    "    for line in loaded_lines:\n",
    "        snp_loc = \"%s:%s-%s\" % (line.snp_contig, line.snp_start, line.snp_end)\n",
    "        gene_attrbs = parse_gff3_attributes(line.gene_attributes)\n",
    "        gene_name = gene_attrbs['ID']\n",
    "        \n",
    "        snp_to_genes[snp_loc].append(gene_name)\n",
    "        \n",
    "    return snp_to_genes\n",
    "    \n",
    "        "
   ]
  },
  {
   "cell_type": "code",
   "execution_count": 14,
   "metadata": {
    "collapsed": true
   },
   "outputs": [],
   "source": [
    "collected_genes = group_genes_to_SNP(test)"
   ]
  },
  {
   "cell_type": "code",
   "execution_count": 15,
   "metadata": {
    "collapsed": false
   },
   "outputs": [
    {
     "data": {
      "text/plain": [
       "[('Scaffold191:251841-251842', ['GFUI013677'])]"
      ]
     },
     "execution_count": 15,
     "metadata": {},
     "output_type": "execute_result"
    }
   ],
   "source": [
    "collected_genes.items()[:3]"
   ]
  },
  {
   "cell_type": "markdown",
   "metadata": {},
   "source": [
    "# Functions to write data out"
   ]
  },
  {
   "cell_type": "code",
   "execution_count": 20,
   "metadata": {
    "collapsed": true
   },
   "outputs": [],
   "source": [
    "def save_snp_genes(snp_genes, out_path):\n",
    "    with open(out_path,'w') as out:\n",
    "        \n",
    "        for pair in snp_genes.iteritems():\n",
    "            line = \"%s\\t%s\\n\" % (pair[0],'\\t'.join(pair[1]))\n",
    "            out.write(line)"
   ]
  },
  {
   "cell_type": "markdown",
   "metadata": {},
   "source": [
    "# Do the work we came here to do"
   ]
  },
  {
   "cell_type": "markdown",
   "metadata": {},
   "source": [
    "### Parse all the input files"
   ]
  },
  {
   "cell_type": "code",
   "execution_count": 21,
   "metadata": {
    "collapsed": true
   },
   "outputs": [],
   "source": [
    "top1_env_1000_lines = tableFile2namedTuple(top1_env_1000, sep='\\t', headers=field_headers) \n",
    "top1_inf_1000_lines = tableFile2namedTuple(top1_inf_1000, sep='\\t', headers=field_headers) \n",
    "\n",
    "top5_env_1000_lines = tableFile2namedTuple(top5_env_1000, sep='\\t', headers=field_headers) \n",
    "top5_inf_1000_lines = tableFile2namedTuple(top5_inf_1000, sep='\\t', headers=field_headers) \n",
    "\n",
    "top1_env_500_lines  = tableFile2namedTuple(top1_env_500, sep='\\t', headers=field_headers)  \n",
    "top1_inf_500_lines  = tableFile2namedTuple(top1_inf_500, sep='\\t', headers=field_headers)  \n",
    "\n",
    "top5_env_500_lines  = tableFile2namedTuple(top5_env_500, sep='\\t', headers=field_headers)  \n",
    "top5_inf_500_lines  = tableFile2namedTuple(top5_inf_500, sep='\\t', headers=field_headers)  \n",
    "\n",
    "top1_env_5000_lines = tableFile2namedTuple(top1_env_5000, sep='\\t', headers=field_headers) \n",
    "top1_inf_5000_lines = tableFile2namedTuple(top1_inf_5000, sep='\\t', headers=field_headers) \n",
    "\n",
    "top5_env_5000_lines = tableFile2namedTuple(top5_env_5000, sep='\\t', headers=field_headers) \n",
    "top5_inf_5000_lines = tableFile2namedTuple(top5_inf_5000, sep='\\t', headers=field_headers)"
   ]
  },
  {
   "cell_type": "markdown",
   "metadata": {},
   "source": [
    "### Collect all the genes by SNPs"
   ]
  },
  {
   "cell_type": "code",
   "execution_count": 22,
   "metadata": {
    "collapsed": true
   },
   "outputs": [],
   "source": [
    "top1_env_1000_genes = group_genes_to_SNP(top1_env_1000_lines)\n",
    "top1_inf_1000_genes = group_genes_to_SNP(top1_inf_1000_lines)\n",
    "\n",
    "top5_env_1000_genes = group_genes_to_SNP(top5_env_1000_lines)\n",
    "top5_inf_1000_genes = group_genes_to_SNP(top5_inf_1000_lines)\n",
    "\n",
    "top1_env_500_genes  = group_genes_to_SNP(top1_env_500_lines )\n",
    "top1_inf_500_genes  = group_genes_to_SNP(top1_inf_500_lines )\n",
    "\n",
    "top5_env_500_genes  = group_genes_to_SNP(top5_env_500_lines )\n",
    "top5_inf_500_genes  = group_genes_to_SNP(top5_inf_500_lines )\n",
    "\n",
    "top1_env_5000_genes = group_genes_to_SNP(top1_env_5000_lines)\n",
    "top1_inf_5000_genes = group_genes_to_SNP(top1_inf_5000_lines)\n",
    "\n",
    "top5_env_5000_genes = group_genes_to_SNP(top5_env_5000_lines)\n",
    "top5_inf_5000_genes = group_genes_to_SNP(top5_inf_5000_lines)"
   ]
  },
  {
   "cell_type": "markdown",
   "metadata": {},
   "source": [
    "### Write the info out to files"
   ]
  },
  {
   "cell_type": "code",
   "execution_count": 23,
   "metadata": {
    "collapsed": true
   },
   "outputs": [],
   "source": [
    "save_snp_genes(top1_env_1000_genes, top1_env_1000_out)\n",
    "save_snp_genes(top1_inf_1000_genes, top1_inf_1000_out)\n",
    "\n",
    "save_snp_genes(top5_env_1000_genes, top5_env_1000_out)\n",
    "save_snp_genes(top5_inf_1000_genes, top5_inf_1000_out)\n",
    "\n",
    "save_snp_genes(top1_env_500_genes , top1_env_500_out )\n",
    "save_snp_genes(top1_inf_500_genes , top1_inf_500_out )\n",
    "\n",
    "save_snp_genes(top5_env_500_genes , top5_env_500_out )\n",
    "save_snp_genes(top5_inf_500_genes , top5_inf_500_out )\n",
    "\n",
    "save_snp_genes(top1_env_5000_genes, top1_env_5000_out)\n",
    "save_snp_genes(top1_inf_5000_genes, top1_inf_5000_out)\n",
    "\n",
    "save_snp_genes(top5_env_5000_genes, top5_env_5000_out)\n",
    "save_snp_genes(top5_inf_5000_genes, top5_inf_5000_out)"
   ]
  },
  {
   "cell_type": "code",
   "execution_count": null,
   "metadata": {
    "collapsed": true
   },
   "outputs": [],
   "source": []
  }
 ],
 "metadata": {
  "kernelspec": {
   "display_name": "IPython (Python 2)",
   "name": "python2"
  },
  "language_info": {
   "codemirror_mode": {
    "name": "ipython",
    "version": 2
   },
   "mimetype": "text/x-python",
   "name": "python",
   "pygments_lexer": "ipython2"
  },
  "signature": "sha256:0bacf3e11e6a1329a14328fd23482751ad5a5135f56e253834fb03ff7c8abc82"
 },
 "nbformat": 4,
 "nbformat_minor": 0
}