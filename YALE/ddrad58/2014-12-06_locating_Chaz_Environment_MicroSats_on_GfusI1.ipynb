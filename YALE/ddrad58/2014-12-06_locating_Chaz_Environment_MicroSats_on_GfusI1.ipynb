{
 "cells": [
  {
   "cell_type": "code",
   "execution_count": 1,
   "metadata": {
    "collapsed": true
   },
   "outputs": [],
   "source": [
    "from spartan.utils.genome_specific.GfusI1 import GfusI1_0\n",
    "\n",
    "import pybedtools as pbt"
   ]
  },
  {
   "cell_type": "code",
   "execution_count": 2,
   "metadata": {
    "collapsed": true
   },
   "outputs": [],
   "source": [
    "# Set up file paths\n",
    "assembly = \"/home/gus/remote_mounts/louise/data/genomes/glossina_fuscipes/assemblies/GfusI1/Glossina-fuscipes-IAEA_SCAFFOLDS_GfusI1.fa\"\n",
    "\n",
    "## SNPs of interest BED files\n",
    "top1_env_bed = \"/home/gus/remote_mounts/louise/data/projects/ddrad58/SNPs_of_interest/Top01_PopPairwiseOverlap_Environm.bed\"\n",
    "top5_env_bed = \"/home/gus/remote_mounts/louise/data/projects/ddrad58/SNPs_of_interest/Top05_PopPairwiseOverlap_Environm.bed\"\n",
    "top1_infection_bed = \"/home/gus/remote_mounts/louise/data/projects/ddrad58/SNPs_of_interest/Top01_PopPairwiseOverlap_Infection.bed\"\n",
    "top5_infection_bed = \"/home/gus/remote_mounts/louise/data/projects/ddrad58/SNPs_of_interest/Top05_PopPairwiseOverlap_Infection.bed\"\n",
    "\n",
    "## Full VCF of S"
   ]
  },
  {
   "cell_type": "markdown",
   "metadata": {},
   "source": [
    "# Locating the references to the MicroSats in email\n",
    "- found in GMAIL with this search \"`chaz.hyseni@gmail.com micro update`\"\n",
    "- he included sequence for `D101` but only a pretty useless link to a paper with only primers listed for `Gmm8`\n",
    "- `Gmm8` sequence located via google at http://goo.gl/W1nL8g"
   ]
  },
  {
   "cell_type": "markdown",
   "metadata": {},
   "source": [
    "# Seq file created\n",
    "\n",
    "### MicroSat data:\n",
    "```\n",
    "FILENAME: /home/gus/remote_mounts/louise/data/projects/ddrad58/seqs/chaz_environment_microsats.fasta\n",
    "\n",
    ">D101 with flanking regions\n",
    "GCATATATTGTGAAAAGCTCATGCGTCTGCCTTTACACTGCATACTACCAGCTATAATTGGTTGTTGCAAGAGCTGAGTCTTATTGGCTGATTGGTTGCTCATACTATATGCGCGCTCTGGTTGATTAGAGAAAACTACTGTTGCTGCTGCTGCTGCTGCTGCTGCCGCTGCTGCTATCCAACACATCATTGCTCCTCTTTTTTTTTATTGTGCATTTTTGTTTAGCAGAATATTCGCTCTTAACCTACGGTTTGTGGATAGTAATAAGCAAAAGAGAAGAAGAAAAAGAAAAAGAAGAAGAAGAAAAAGCAAAAGCAGAATATGCGATTTTTATTCTCCACATAATATGTTTATGCCTTCTCCGTTGCAATAAGATTTTCTCGTTTTTGTTGTTTTTCGAGTGTTTCATCATCTGTTGCCAATTGTCAGTTGCAACGCGTC\n",
    "\n",
    ">Gmm8 from morsitans (http://goo.gl/W1nL8g)\n",
    "CATATGACTGAACATTATATCATGCAGATGCAATGCGGAGAGAGAGAGAGAGAGAGAGAGTGAGAGAGAGTGAGATTGAA\n",
    "AGCAGCAGACTGCACGTAGGGTCGACTGGGCGTCATTGTCAGTTGCGAAAGCAAACATTGAAGCGCGCCCAAGCAAATGA\n",
    "ACGAGCAACTGAGCAAACAGACAAACAAATAAACAAACATTACAGCTAAACATTAAATACATAGAAAGT\n",
    "```\n",
    "\n"
   ]
  },
  {
   "cell_type": "markdown",
   "metadata": {},
   "source": [
    "# BLASTing Vectorbase\n",
    "\n",
    "### Unambiguous results for both seqs\n",
    "\n",
    "| Hit        \t| Query \t| Aln Length \t| E-value \t| Score \t| Identity \t| Query Start \t| Query End \t| Hit Start \t| Hit End \t|\n",
    "|------------\t|-------\t|------------\t|---------\t|-------\t|----------\t|-------------\t|-----------\t|-----------\t|---------\t|\n",
    "| KK351934.1 \t| D101  \t| 440        \t| 0.0     \t| 812   \t| 97.1%    \t| 3           \t| 442       \t| 236461    \t| 236901  \t|\n",
    "| KK352191.1 \t| Gmm8  \t| 229        \t| 4e-84   \t| 346   \t| 90.4%    \t| 1           \t| 229       \t| 103215    \t| 103434  \t|\n"
   ]
  },
  {
   "cell_type": "markdown",
   "metadata": {},
   "source": [
    "### Creating `BED` records"
   ]
  },
  {
   "cell_type": "code",
   "execution_count": 3,
   "metadata": {
    "collapsed": true
   },
   "outputs": [],
   "source": [
    "name_map = GfusI1_0.get_name_map_from_fasta_headers(assembly)"
   ]
  },
  {
   "cell_type": "code",
   "execution_count": 4,
   "metadata": {
    "collapsed": false
   },
   "outputs": [
    {
     "data": {
      "text/plain": [
       "'Scaffold149'"
      ]
     },
     "execution_count": 4,
     "metadata": {},
     "output_type": "execute_result"
    }
   ],
   "source": [
    "name_map[\"KK351934.1\"]"
   ]
  },
  {
   "cell_type": "code",
   "execution_count": 5,
   "metadata": {
    "collapsed": false
   },
   "outputs": [
    {
     "data": {
      "text/plain": [
       "'Scaffold408'"
      ]
     },
     "execution_count": 5,
     "metadata": {},
     "output_type": "execute_result"
    }
   ],
   "source": [
    "name_map[\"KK352191.1\"]"
   ]
  },
  {
   "cell_type": "code",
   "execution_count": 6,
   "metadata": {
    "collapsed": true
   },
   "outputs": [],
   "source": [
    "bed_template = \"{contig}\\t{start}\\t{end}\\t{name}\""
   ]
  },
  {
   "cell_type": "code",
   "execution_count": 7,
   "metadata": {
    "collapsed": false
   },
   "outputs": [
    {
     "name": "stdout",
     "output_type": "stream",
     "text": [
      "Scaffold149\t236460\t236901\tD101\n",
      "Scaffold408\t103214\t103434\tGmm8\n"
     ]
    }
   ],
   "source": [
    "bed_lines = []\n",
    "bed_lines.append(bed_template.format(contig=name_map[\"KK351934.1\"], start=236461-1, end=236901, name=\"D101\"))\n",
    "bed_lines.append(bed_template.format(contig=name_map[\"KK352191.1\"], start=103215-1, end=103434, name=\"Gmm8\"))\n",
    "print bed_lines[0]\n",
    "print bed_lines[1]"
   ]
  },
  {
   "cell_type": "markdown",
   "metadata": {},
   "source": [
    "### MicroSat `BED` file\n",
    "\n",
    "```\n",
    "FILENAME: /home/gus/remote_mounts/louise/data/projects/ddrad58/seqs/chaz_environment_microsats.bed\n",
    "\n",
    "KK351934.1\t236460\t236901\tD101\n",
    "KK352191.1\t103214\t103434\tGmm8\n",
    "```"
   ]
  },
  {
   "cell_type": "code",
   "execution_count": 8,
   "metadata": {
    "collapsed": true
   },
   "outputs": [],
   "source": [
    "micro_sat_bed_path = \"/home/gus/remote_mounts/louise/data/projects/ddrad58/seqs/chaz_environment_microsats.bed\"\n",
    "\n",
    "with open(micro_sat_bed_path,'w') as micro_sat_bed_file:\n",
    "    for line in bed_lines:\n",
    "        micro_sat_bed_file.write(line + '\\n')"
   ]
  },
  {
   "cell_type": "markdown",
   "metadata": {},
   "source": [
    "# Get locations of SNPs of interest near the MicroSats"
   ]
  },
  {
   "cell_type": "code",
   "execution_count": 9,
   "metadata": {
    "collapsed": false
   },
   "outputs": [],
   "source": [
    "# load our files\n",
    "top1_env = pbt.BedTool(top1_env_bed)\n",
    "top5_env = pbt.BedTool(top5_env_bed)\n",
    "top1_infection = pbt.BedTool(top1_infection_bed)\n",
    "top5_infection = pbt.BedTool(top5_infection_bed)\n",
    "\n",
    "micro_sats = pbt.BedTool('/home/gus/remote_mounts/louise/data/projects/ddrad58/seqs/chaz_environment_microsats.bed')"
   ]
  },
  {
   "cell_type": "code",
   "execution_count": 10,
   "metadata": {
    "collapsed": false
   },
   "outputs": [
    {
     "name": "stdout",
     "output_type": "stream",
     "text": [
      "Scaffold740\t14262\t14263\n",
      " Scaffold462\t241847\t241848\n",
      " Scaffold422\t60573\t60574\n",
      " Scaffold73\t811197\t811198\n",
      " Scaffold1016\t755\t756\n",
      " Scaffold775\t12872\t12873\n",
      " Scaffold466\t123761\t123762\n",
      " Scaffold661\t127096\t127097\n",
      " Scaffold73\t811201\t811202\n",
      " Scaffold249\t119775\t119776\n",
      "\n"
     ]
    }
   ],
   "source": [
    "top5_infection.head()"
   ]
  },
  {
   "cell_type": "code",
   "execution_count": 11,
   "metadata": {
    "collapsed": false
   },
   "outputs": [
    {
     "name": "stdout",
     "output_type": "stream",
     "text": [
      "Scaffold149\t236460\t236901\tD101\n",
      " Scaffold408\t103214\t103434\tGmm8\n",
      "\n"
     ]
    }
   ],
   "source": [
    "micro_sats.head()"
   ]
  },
  {
   "cell_type": "markdown",
   "metadata": {},
   "source": [
    "## Environmental SNPs"
   ]
  },
  {
   "cell_type": "code",
   "execution_count": 12,
   "metadata": {
    "collapsed": false
   },
   "outputs": [
    {
     "data": {
      "text/plain": [
       "0"
      ]
     },
     "execution_count": 12,
     "metadata": {},
     "output_type": "execute_result"
    }
   ],
   "source": [
    "top1_env_near_micro_sats = micro_sats.window(top1_env, w=100000000)\n",
    "len(top1_env_near_micro_sats)"
   ]
  },
  {
   "cell_type": "code",
   "execution_count": 13,
   "metadata": {
    "collapsed": false
   },
   "outputs": [
    {
     "data": {
      "text/plain": [
       "1"
      ]
     },
     "execution_count": 13,
     "metadata": {},
     "output_type": "execute_result"
    }
   ],
   "source": [
    "top5_env_near_micro_sats = micro_sats.window(top5_env, w=100000)\n",
    "len(top5_env_near_micro_sats)"
   ]
  },
  {
   "cell_type": "markdown",
   "metadata": {},
   "source": [
    "## Infection SNPs"
   ]
  },
  {
   "cell_type": "code",
   "execution_count": 42,
   "metadata": {
    "collapsed": false
   },
   "outputs": [
    {
     "data": {
      "text/plain": [
       "0"
      ]
     },
     "execution_count": 42,
     "metadata": {},
     "output_type": "execute_result"
    }
   ],
   "source": [
    "top1_inf_near_micro_sats = micro_sats.window(top1_infection, w=100000000)\n",
    "len(top1_inf_near_micro_sats)"
   ]
  },
  {
   "cell_type": "code",
   "execution_count": 47,
   "metadata": {
    "collapsed": false
   },
   "outputs": [
    {
     "data": {
      "text/plain": [
       "4"
      ]
     },
     "execution_count": 47,
     "metadata": {},
     "output_type": "execute_result"
    }
   ],
   "source": [
    "top5_inf_near_micro_sats = micro_sats.window(top5_infection, w=1000000)\n",
    "len(top5_inf_near_micro_sats)"
   ]
  },
  {
   "cell_type": "code",
   "execution_count": null,
   "metadata": {
    "collapsed": true
   },
   "outputs": [],
   "source": []
  }
 ],
 "metadata": {
  "kernelspec": {
   "display_name": "IPython (Python 2)",
   "name": "python2"
  },
  "language_info": {
   "codemirror_mode": {
    "name": "ipython",
    "version": 2
   },
   "mimetype": "text/x-python",
   "name": "python",
   "pygments_lexer": "ipython2"
  },
  "signature": "sha256:f15a411057a3b99ced51b46bc810b9d088eae09773ff8f70cae41dbe8d3d89a2"
 },
 "nbformat": 4,
 "nbformat_minor": 0
}