{
 "cells": [
  {
   "cell_type": "markdown",
   "metadata": {},
   "source": [
    "# Locating the references to the MicroSats in email\n",
    "- found in GMAIL with this search \"`chaz.hyseni@gmail.com micro update`\"\n",
    "- he included sequence for `D101` but only a pretty useless link to a paper with only primers listed for `Gmm8`\n",
    "- `Gmm8` sequence located via google at http://goo.gl/W1nL8g"
   ]
  },
  {
   "cell_type": "markdown",
   "metadata": {},
   "source": [
    "# Seq file created\n",
    "\n",
    "### MicroSat data:\n",
    "```\n",
    "FILENAME: /home/gus/remote_mounts/louise/data/projects/ddrad58/seqs/chaz_environment_microsats.fasta\n",
    "\n",
    ">D101 with flanking regions\n",
    "GCATATATTGTGAAAAGCTCATGCGTCTGCCTTTACACTGCATACTACCAGCTATAATTGGTTGTTGCAAGAGCTGAGTCTTATTGGCTGATTGGTTGCTCATACTATATGCGCGCTCTGGTTGATTAGAGAAAACTACTGTTGCTGCTGCTGCTGCTGCTGCTGCCGCTGCTGCTATCCAACACATCATTGCTCCTCTTTTTTTTTATTGTGCATTTTTGTTTAGCAGAATATTCGCTCTTAACCTACGGTTTGTGGATAGTAATAAGCAAAAGAGAAGAAGAAAAAGAAAAAGAAGAAGAAGAAAAAGCAAAAGCAGAATATGCGATTTTTATTCTCCACATAATATGTTTATGCCTTCTCCGTTGCAATAAGATTTTCTCGTTTTTGTTGTTTTTCGAGTGTTTCATCATCTGTTGCCAATTGTCAGTTGCAACGCGTC\n",
    "\n",
    ">Gmm8 from morsitans (http://goo.gl/W1nL8g)\n",
    "CATATGACTGAACATTATATCATGCAGATGCAATGCGGAGAGAGAGAGAGAGAGAGAGAGTGAGAGAGAGTGAGATTGAA\n",
    "AGCAGCAGACTGCACGTAGGGTCGACTGGGCGTCATTGTCAGTTGCGAAAGCAAACATTGAAGCGCGCCCAAGCAAATGA\n",
    "ACGAGCAACTGAGCAAACAGACAAACAAATAAACAAACATTACAGCTAAACATTAAATACATAGAAAGT\n",
    "```\n",
    "\n"
   ]
  },
  {
   "cell_type": "markdown",
   "metadata": {},
   "source": [
    "# BLASTing Vectorbase\n"
   ]
  }
 ],
 "metadata": {
  "kernelspec": {
   "display_name": "IPython (Python 2)",
   "name": "python2"
  },
  "language_info": {
   "codemirror_mode": {
    "name": "ipython",
    "version": 2
   },
   "mimetype": "text/x-python",
   "name": "python",
   "pygments_lexer": "ipython2"
  },
  "signature": "sha256:5ef249ae00e89243aa001d478766c4b7de6a99dbc5d2ee0c6c68f451cc25fa82"
 },
 "nbformat": 4,
 "nbformat_minor": 0
}