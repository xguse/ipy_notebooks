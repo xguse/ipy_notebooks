{
 "cells": [
  {
   "cell_type": "markdown",
   "metadata": {},
   "source": [
    "## Imports:"
   ]
  },
  {
   "cell_type": "code",
   "execution_count": 70,
   "metadata": {
    "collapsed": true
   },
   "outputs": [],
   "source": [
    "%matplotlib inline\n",
    "import matplotlib.pyplot as plt\n",
    "import seaborn as sns\n",
    "import ggplot as gp\n",
    "\n",
    "\n",
    "import numpy as np\n",
    "import pandas as pd\n",
    "pd.set_option('display.max_columns', 60)\n",
    "# import tables as h5\n",
    "\n",
    "import itertools as it\n",
    "from collections import defaultdict\n",
    "\n",
    "import numpy as np\n",
    "import pandas as pd\n",
    "\n",
    "xls_writer = pd.ExcelWriter\n",
    "\n",
    "\n",
    "import scipy\n",
    "from scikits import bootstrap as bs\n",
    "import statsmodels.api as sm\n",
    "import statsmodels.stats.multitest as smm\n",
    "\n",
    "import munch\n",
    "\n",
    "import pymc as mc\n",
    "\n",
    "from spartan.utils.genome_specific.GfusI1 import GfusI1_0\n",
    "from spartan.utils.fastas import ParseFastA\n"
   ]
  },
  {
   "cell_type": "markdown",
   "metadata": {},
   "source": [
    "## File paths:"
   ]
  },
  {
   "cell_type": "code",
   "execution_count": 98,
   "metadata": {
    "collapsed": false
   },
   "outputs": [],
   "source": [
    "# define paths to files\n",
    "\n",
    "base_out_dir = \"/home/gus/Documents/YalePostDoc/project_stuff/g_f_fucipes_uganda/ddrad58/manuscript/rename_contig_in_files\"\n",
    "\n",
    "\n",
    "contig_name_length_path = \"/home/gus/Dropbox/uganda_data/data_repos/genome_info/assembly_info/contig_name_length.csv\"\n",
    "\n",
    "TajD_only_nonzero_path = base_out_dir + \"/TajD_only_nonzero.txt\"\n",
    "TableS1_Top10_summary_path = base_out_dir + \"/TableS1_Top10_summary.xlsx\"\n",
    "FileS2_Env_outlierLoci_path = base_out_dir + \"/FileS2_Env_outlierLoci.xlsx\"\n"
   ]
  },
  {
   "cell_type": "code",
   "execution_count": 99,
   "metadata": {
    "collapsed": true
   },
   "outputs": [],
   "source": [
    "# HELPER FUNCTIONS\n",
    "\n",
    "def recode_taj_chrom(df, name_map):\n",
    "    recode_func1 = lambda x: x.split(':')[-1]\n",
    "    recode_func2 = lambda x: name_map[x]\n",
    "    \n",
    "    CHROM = df.CHROM.apply(recode_func1)\n",
    "    df.CHROM = CHROM\n",
    "    \n",
    "    CHROM = df.CHROM.apply(recode_func2)\n",
    "    df.CHROM = CHROM\n",
    "    \n",
    "    return df\n",
    "\n",
    "def recode_Top10_summary_Scaffold(df, name_map):\n",
    "    recode_func1 = lambda x: name_map[x]\n",
    "    \n",
    "    Scaffold = df.Scaffold.apply(recode_func1)\n",
    "    df.Scaffold = Scaffold\n",
    "    \n",
    "    return df\n",
    "\n",
    "def get_contig_name_map(df):\n",
    "    return {key:value for key,value in zip(contig_info.kk_name.values,contig_info.scaf_name.values)}\n",
    "\n",
    "def save_multi_sheet_xls(dict_dfs, xls_path):\n",
    "    writer = xls_writer(xls_path)\n",
    "    for name,table in dict_dfs.items():\n",
    "        table.to_excel(writer,sheet_name=name,index=False)\n",
    "    writer.save()"
   ]
  },
  {
   "cell_type": "code",
   "execution_count": 41,
   "metadata": {
    "collapsed": false
   },
   "outputs": [
    {
     "data": {
      "text/html": [
       "<div>\n",
       "<table border=\"1\" class=\"dataframe\">\n",
       "  <thead>\n",
       "    <tr style=\"text-align: right;\">\n",
       "      <th></th>\n",
       "      <th>kk_name</th>\n",
       "      <th>scaf_name</th>\n",
       "      <th>length</th>\n",
       "    </tr>\n",
       "  </thead>\n",
       "  <tbody>\n",
       "    <tr>\n",
       "      <th>0</th>\n",
       "      <td>KK352346.1</td>\n",
       "      <td>Scaffold566</td>\n",
       "      <td>193315</td>\n",
       "    </tr>\n",
       "    <tr>\n",
       "      <th>1</th>\n",
       "      <td>KK352610.1</td>\n",
       "      <td>Scaffold839</td>\n",
       "      <td>83110</td>\n",
       "    </tr>\n",
       "    <tr>\n",
       "      <th>2</th>\n",
       "      <td>KK352241.1</td>\n",
       "      <td>Scaffold458</td>\n",
       "      <td>243873</td>\n",
       "    </tr>\n",
       "    <tr>\n",
       "      <th>3</th>\n",
       "      <td>JFJR01012964.1</td>\n",
       "      <td>JFJR01012964.1</td>\n",
       "      <td>3083</td>\n",
       "    </tr>\n",
       "    <tr>\n",
       "      <th>4</th>\n",
       "      <td>KK352052.1</td>\n",
       "      <td>Scaffold268</td>\n",
       "      <td>427914</td>\n",
       "    </tr>\n",
       "  </tbody>\n",
       "</table>\n",
       "</div>"
      ],
      "text/plain": [
       "          kk_name       scaf_name  length\n",
       "0      KK352346.1     Scaffold566  193315\n",
       "1      KK352610.1     Scaffold839   83110\n",
       "2      KK352241.1     Scaffold458  243873\n",
       "3  JFJR01012964.1  JFJR01012964.1    3083\n",
       "4      KK352052.1     Scaffold268  427914"
      ]
     },
     "execution_count": 41,
     "metadata": {},
     "output_type": "execute_result"
    }
   ],
   "source": [
    "# load contig info file\n",
    "contig_info = pd.read_csv(contig_name_length_path)\n",
    "contig_info.head()"
   ]
  },
  {
   "cell_type": "code",
   "execution_count": 42,
   "metadata": {
    "collapsed": false
   },
   "outputs": [
    {
     "data": {
      "text/plain": [
       "'Scaffold0'"
      ]
     },
     "execution_count": 42,
     "metadata": {},
     "output_type": "execute_result"
    }
   ],
   "source": [
    "contig_name_map = get_contig_name_map(contig_info)\n",
    "contig_name_map[\"KK351785.1\"]"
   ]
  },
  {
   "cell_type": "code",
   "execution_count": 49,
   "metadata": {
    "collapsed": false
   },
   "outputs": [
    {
     "data": {
      "text/plain": [
       "'JFJR01006593.1'"
      ]
     },
     "execution_count": 49,
     "metadata": {},
     "output_type": "execute_result"
    }
   ],
   "source": [
    "contig_name_map[\"JFJR01006593.1\"]"
   ]
  },
  {
   "cell_type": "markdown",
   "metadata": {},
   "source": [
    "------------------\n",
    "\n",
    "#  Convert `TajD_only_nonzero`"
   ]
  },
  {
   "cell_type": "code",
   "execution_count": 46,
   "metadata": {
    "collapsed": false
   },
   "outputs": [
    {
     "name": "stdout",
     "output_type": "stream",
     "text": [
      "\tCHROM\tBIN_START\tN_SNPS\tTajimaD\tchrom_num\r",
      "\r",
      "\r\n",
      "0\tGFvariants_VB2014a_tvcf:KK351785.1\t13000\t1\t0.0\t1\r",
      "\r",
      "\r\n",
      "10\tGFvariants_VB2014a_tvcf:KK351785.1\t23000\t4\t2.35852\t1\r",
      "\r",
      "\r\n",
      "17\tGFvariants_VB2014a_tvcf:KK351785.1\t30000\t1\t0.0\t1\r",
      "\r",
      "\r\n",
      "31\tGFvariants_VB2014a_tvcf:KK351785.1\t44000\t1\t0.0\t1\r",
      "\r",
      "\r\n",
      "38\tGFvariants_VB2014a_tvcf:KK351785.1\t51000\t1\t0.0\t1\r",
      "\r",
      "\r\n",
      "43\tGFvariants_VB2014a_tvcf:KK351785.1\t56000\t1\t0.0\t1\r",
      "\r",
      "\r\n",
      "53\tGFvariants_VB2014a_tvcf:KK351785.1\t66000\t1\t0.0\t1\r",
      "\r",
      "\r\n",
      "65\tGFvariants_VB2014a_tvcf:KK351785.1\t78000\t1\t0.0\t1\r",
      "\r",
      "\r\n",
      "70\tGFvariants_VB2014a_tvcf:KK351785.1\t83000\t1\t0.0\t1\r",
      "\r",
      "\r\n"
     ]
    }
   ],
   "source": [
    "!head $TajD_only_nonzero_path"
   ]
  },
  {
   "cell_type": "code",
   "execution_count": 43,
   "metadata": {
    "collapsed": false,
    "scrolled": true
   },
   "outputs": [
    {
     "data": {
      "text/html": [
       "<div>\n",
       "<table border=\"1\" class=\"dataframe\">\n",
       "  <thead>\n",
       "    <tr style=\"text-align: right;\">\n",
       "      <th></th>\n",
       "      <th>Unnamed: 0</th>\n",
       "      <th>CHROM</th>\n",
       "      <th>BIN_START</th>\n",
       "      <th>N_SNPS</th>\n",
       "      <th>TajimaD</th>\n",
       "      <th>chrom_num</th>\n",
       "    </tr>\n",
       "  </thead>\n",
       "  <tbody>\n",
       "    <tr>\n",
       "      <th>0</th>\n",
       "      <td>0</td>\n",
       "      <td>Scaffold0</td>\n",
       "      <td>13000</td>\n",
       "      <td>1</td>\n",
       "      <td>0.00000</td>\n",
       "      <td>1</td>\n",
       "    </tr>\n",
       "    <tr>\n",
       "      <th>1</th>\n",
       "      <td>10</td>\n",
       "      <td>Scaffold0</td>\n",
       "      <td>23000</td>\n",
       "      <td>4</td>\n",
       "      <td>2.35852</td>\n",
       "      <td>1</td>\n",
       "    </tr>\n",
       "    <tr>\n",
       "      <th>2</th>\n",
       "      <td>17</td>\n",
       "      <td>Scaffold0</td>\n",
       "      <td>30000</td>\n",
       "      <td>1</td>\n",
       "      <td>0.00000</td>\n",
       "      <td>1</td>\n",
       "    </tr>\n",
       "    <tr>\n",
       "      <th>3</th>\n",
       "      <td>31</td>\n",
       "      <td>Scaffold0</td>\n",
       "      <td>44000</td>\n",
       "      <td>1</td>\n",
       "      <td>0.00000</td>\n",
       "      <td>1</td>\n",
       "    </tr>\n",
       "    <tr>\n",
       "      <th>4</th>\n",
       "      <td>38</td>\n",
       "      <td>Scaffold0</td>\n",
       "      <td>51000</td>\n",
       "      <td>1</td>\n",
       "      <td>0.00000</td>\n",
       "      <td>1</td>\n",
       "    </tr>\n",
       "  </tbody>\n",
       "</table>\n",
       "</div>"
      ],
      "text/plain": [
       "   Unnamed: 0      CHROM  BIN_START  N_SNPS  TajimaD  chrom_num\n",
       "0           0  Scaffold0      13000       1  0.00000          1\n",
       "1          10  Scaffold0      23000       4  2.35852          1\n",
       "2          17  Scaffold0      30000       1  0.00000          1\n",
       "3          31  Scaffold0      44000       1  0.00000          1\n",
       "4          38  Scaffold0      51000       1  0.00000          1"
      ]
     },
     "execution_count": 43,
     "metadata": {},
     "output_type": "execute_result"
    }
   ],
   "source": [
    "TajD_only_nonzero = pd.read_csv(TajD_only_nonzero_path, sep='\\t')\n",
    "TajD_only_nonzero = recode_taj_chrom(TajD_only_nonzero, name_map=contig_name_map)\n",
    "TajD_only_nonzero.head()"
   ]
  },
  {
   "cell_type": "markdown",
   "metadata": {},
   "source": [
    "### Write out file."
   ]
  },
  {
   "cell_type": "code",
   "execution_count": 48,
   "metadata": {
    "collapsed": true
   },
   "outputs": [],
   "source": [
    "TajD_only_nonzero.to_excel(xls_writer(base_out_dir + \"/TajD_only_nonzero.xls\"),\n",
    "                           sheet_name='Sheet1', \n",
    "                           na_rep='', float_format=None, columns=None, \n",
    "                           header=True, index=False, index_label=None, \n",
    "                           startrow=0, startcol=0, \n",
    "                           engine=None, merge_cells=True, encoding=None, inf_rep='inf')"
   ]
  },
  {
   "cell_type": "markdown",
   "metadata": {},
   "source": [
    "-------------------\n",
    "\n",
    "#  Convert `TableS1_Top10_summary`"
   ]
  },
  {
   "cell_type": "code",
   "execution_count": 84,
   "metadata": {
    "collapsed": false
   },
   "outputs": [
    {
     "data": {
      "text/plain": [
       "[u'Infection_Overall', u'Infection_Overlap_inPopulations']"
      ]
     },
     "execution_count": 84,
     "metadata": {},
     "output_type": "execute_result"
    }
   ],
   "source": [
    "TableS1_Top10_summary = pd.read_excel(TableS1_Top10_summary_path, sep='\\t', sheetname=None)\n",
    "TableS1_Top10_summary.keys()"
   ]
  },
  {
   "cell_type": "code",
   "execution_count": 85,
   "metadata": {
    "collapsed": false
   },
   "outputs": [],
   "source": [
    "for sheet in  TableS1_Top10_summary.keys():\n",
    "    TableS1_Top10_summary[sheet] = recode_Top10_summary_Scaffold(TableS1_Top10_summary[sheet], name_map=contig_name_map)"
   ]
  },
  {
   "cell_type": "code",
   "execution_count": 87,
   "metadata": {
    "collapsed": false
   },
   "outputs": [
    {
     "data": {
      "text/html": [
       "<div>\n",
       "<table border=\"1\" class=\"dataframe\">\n",
       "  <thead>\n",
       "    <tr style=\"text-align: right;\">\n",
       "      <th></th>\n",
       "      <th>SNP</th>\n",
       "      <th>Scaffold</th>\n",
       "      <th>Position</th>\n",
       "      <th>Included in top 5% alpha values</th>\n",
       "    </tr>\n",
       "  </thead>\n",
       "  <tbody>\n",
       "    <tr>\n",
       "      <th>0</th>\n",
       "      <td>1</td>\n",
       "      <td>Scaffold203</td>\n",
       "      <td>479273</td>\n",
       "      <td>NaN</td>\n",
       "    </tr>\n",
       "    <tr>\n",
       "      <th>1</th>\n",
       "      <td>2</td>\n",
       "      <td>Scaffold23</td>\n",
       "      <td>449944</td>\n",
       "      <td>NaN</td>\n",
       "    </tr>\n",
       "    <tr>\n",
       "      <th>2</th>\n",
       "      <td>3</td>\n",
       "      <td>Scaffold2</td>\n",
       "      <td>2593209</td>\n",
       "      <td>NaN</td>\n",
       "    </tr>\n",
       "    <tr>\n",
       "      <th>3</th>\n",
       "      <td>4</td>\n",
       "      <td>Scaffold73</td>\n",
       "      <td>149768</td>\n",
       "      <td>*</td>\n",
       "    </tr>\n",
       "    <tr>\n",
       "      <th>4</th>\n",
       "      <td>5</td>\n",
       "      <td>Scaffold355</td>\n",
       "      <td>306768</td>\n",
       "      <td>NaN</td>\n",
       "    </tr>\n",
       "  </tbody>\n",
       "</table>\n",
       "</div>"
      ],
      "text/plain": [
       "   SNP     Scaffold  Position Included in top 5% alpha values\n",
       "0    1  Scaffold203    479273                             NaN\n",
       "1    2   Scaffold23    449944                             NaN\n",
       "2    3    Scaffold2   2593209                             NaN\n",
       "3    4   Scaffold73    149768                               *\n",
       "4    5  Scaffold355    306768                             NaN"
      ]
     },
     "execution_count": 87,
     "metadata": {},
     "output_type": "execute_result"
    }
   ],
   "source": [
    "TableS1_Top10_summary['Infection_Overlap_inPopulations'].head()\n",
    "# TableS1_Top10_summary['Infection_Overall'].head()"
   ]
  },
  {
   "cell_type": "markdown",
   "metadata": {},
   "source": [
    "### Write out file"
   ]
  },
  {
   "cell_type": "code",
   "execution_count": 95,
   "metadata": {
    "collapsed": false
   },
   "outputs": [],
   "source": [
    "xls_path = base_out_dir + \"/TableS1_Top10_summary_kk_name_to_scaf_name.xls\"\n",
    "save_multi_sheet_xls(dict_dfs=TableS1_Top10_summary, xls_path=xls_path)"
   ]
  },
  {
   "cell_type": "markdown",
   "metadata": {},
   "source": [
    "----------\n",
    "\n",
    "#  Convert `FileS2_Env_outlierLoci`"
   ]
  },
  {
   "cell_type": "markdown",
   "metadata": {},
   "source": [
    "### Write out file"
   ]
  },
  {
   "cell_type": "code",
   "execution_count": 100,
   "metadata": {
    "collapsed": false
   },
   "outputs": [
    {
     "data": {
      "text/plain": [
       "[u'Outlier_MSNB', u'Outliers_MSOT']"
      ]
     },
     "execution_count": 100,
     "metadata": {},
     "output_type": "execute_result"
    }
   ],
   "source": [
    "FileS2_Env_outlierLoci = pd.read_excel(FileS2_Env_outlierLoci_path, sheetname=None)\n",
    "FileS2_Env_outlierLoci.keys()"
   ]
  },
  {
   "cell_type": "code",
   "execution_count": 101,
   "metadata": {
    "collapsed": false
   },
   "outputs": [],
   "source": [
    "for sheet in  FileS2_Env_outlierLoci.keys():\n",
    "    FileS2_Env_outlierLoci[sheet] = recode_Top10_summary_Scaffold(FileS2_Env_outlierLoci[sheet], name_map=contig_name_map)"
   ]
  },
  {
   "cell_type": "code",
   "execution_count": 102,
   "metadata": {
    "collapsed": false,
    "scrolled": true
   },
   "outputs": [
    {
     "data": {
      "text/html": [
       "<div>\n",
       "<table border=\"1\" class=\"dataframe\">\n",
       "  <thead>\n",
       "    <tr style=\"text-align: right;\">\n",
       "      <th></th>\n",
       "      <th>SNP</th>\n",
       "      <th>Scaffold</th>\n",
       "      <th>Position</th>\n",
       "    </tr>\n",
       "  </thead>\n",
       "  <tbody>\n",
       "    <tr>\n",
       "      <th>0</th>\n",
       "      <td>1</td>\n",
       "      <td>Scaffold8</td>\n",
       "      <td>1482581</td>\n",
       "    </tr>\n",
       "    <tr>\n",
       "      <th>1</th>\n",
       "      <td>2</td>\n",
       "      <td>Scaffold85</td>\n",
       "      <td>94213</td>\n",
       "    </tr>\n",
       "    <tr>\n",
       "      <th>2</th>\n",
       "      <td>3</td>\n",
       "      <td>Scaffold107</td>\n",
       "      <td>378349</td>\n",
       "    </tr>\n",
       "    <tr>\n",
       "      <th>3</th>\n",
       "      <td>4</td>\n",
       "      <td>Scaffold206</td>\n",
       "      <td>259639</td>\n",
       "    </tr>\n",
       "    <tr>\n",
       "      <th>4</th>\n",
       "      <td>5</td>\n",
       "      <td>Scaffold427</td>\n",
       "      <td>13828</td>\n",
       "    </tr>\n",
       "  </tbody>\n",
       "</table>\n",
       "</div>"
      ],
      "text/plain": [
       "   SNP     Scaffold  Position\n",
       "0    1    Scaffold8   1482581\n",
       "1    2   Scaffold85     94213\n",
       "2    3  Scaffold107    378349\n",
       "3    4  Scaffold206    259639\n",
       "4    5  Scaffold427     13828"
      ]
     },
     "execution_count": 102,
     "metadata": {},
     "output_type": "execute_result"
    }
   ],
   "source": [
    "FileS2_Env_outlierLoci['Outlier_MSNB'].head()"
   ]
  },
  {
   "cell_type": "code",
   "execution_count": 103,
   "metadata": {
    "collapsed": false
   },
   "outputs": [],
   "source": [
    "xls_path = base_out_dir + \"/FileS2_Env_outlierLoci_kk_name_to_scaf_name.xls\"\n",
    "save_multi_sheet_xls(dict_dfs=FileS2_Env_outlierLoci, xls_path=xls_path)"
   ]
  },
  {
   "cell_type": "code",
   "execution_count": null,
   "metadata": {
    "collapsed": true
   },
   "outputs": [],
   "source": []
  }
 ],
 "metadata": {
  "kernelspec": {
   "display_name": "Python 2",
   "language": "python",
   "name": "python2"
  },
  "language_info": {
   "codemirror_mode": {
    "name": "ipython",
    "version": 2
   },
   "file_extension": ".py",
   "mimetype": "text/x-python",
   "name": "python",
   "nbconvert_exporter": "python",
   "pygments_lexer": "ipython2",
   "version": "2.7.9"
  }
 },
 "nbformat": 4,
 "nbformat_minor": 0
}
