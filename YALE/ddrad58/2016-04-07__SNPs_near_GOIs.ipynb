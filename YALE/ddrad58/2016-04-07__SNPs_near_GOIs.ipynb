{
 "cells": [
  {
   "cell_type": "markdown",
   "metadata": {
    "toc": "true"
   },
   "source": [
    "# Table of Contents\n",
    " <p><div class=\"lev1\"><a href=\"#Files\"><span class=\"toc-item-num\">1&nbsp;&nbsp;</span>Files</a></div><div class=\"lev2\"><a href=\"#pipeline-results\"><span class=\"toc-item-num\">1.1&nbsp;&nbsp;</span>pipeline results</a></div><div class=\"lev2\"><a href=\"#Genes-of-Interest\"><span class=\"toc-item-num\">1.2&nbsp;&nbsp;</span>Genes of Interest</a></div><div class=\"lev1\"><a href=\"#Which-if-any-&quot;Gff-gene-ID&quot;-names-occur-in-knearest_combo?\"><span class=\"toc-item-num\">2&nbsp;&nbsp;</span>Which if any \"<em>Gff gene ID</em>\" names occur in knearest_combo?</a></div>"
   ]
  },
  {
   "cell_type": "code",
   "execution_count": 1,
   "metadata": {
    "ExecuteTime": {
     "end_time": "2016-05-19T15:06:47.998067",
     "start_time": "2016-05-19T15:06:42.352889"
    },
    "collapsed": true
   },
   "outputs": [],
   "source": [
    "%matplotlib inline\n",
    "import seaborn as sns"
   ]
  },
  {
   "cell_type": "code",
   "execution_count": 2,
   "metadata": {
    "ExecuteTime": {
     "end_time": "2016-05-19T15:06:48.010580",
     "start_time": "2016-05-19T15:06:48.000747"
    },
    "collapsed": true
   },
   "outputs": [],
   "source": [
    "from IPython.display import HTML"
   ]
  },
  {
   "cell_type": "code",
   "execution_count": 6,
   "metadata": {
    "ExecuteTime": {
     "end_time": "2016-05-19T15:07:58.834496",
     "start_time": "2016-05-19T15:07:58.818663"
    },
    "collapsed": false
   },
   "outputs": [],
   "source": [
    "from __future__ import unicode_literals\n",
    "from __future__ import division\n",
    "from __future__ import print_function\n",
    "\n",
    "import os\n",
    "\n",
    "import numpy as np\n",
    "import pandas as pd\n",
    "pd.set_option('display.max_columns', 60)\n",
    "pd.set_option('display.max_rows', 300)\n",
    "pd.set_option(\"max_colwidth\",1000)\n",
    "\n",
    "\n",
    "from collections import defaultdict\n",
    "\n",
    "import munch\n",
    "\n",
    "from IPython.display import display, HTML"
   ]
  },
  {
   "cell_type": "code",
   "execution_count": 7,
   "metadata": {
    "ExecuteTime": {
     "end_time": "2016-05-19T15:07:59.315734",
     "start_time": "2016-05-19T15:07:59.309156"
    },
    "collapsed": true
   },
   "outputs": [],
   "source": [
    "def prefilter_lines(path):\n",
    "    with open(path,'rU') as f:\n",
    "        for line in f:\n",
    "            fields = line.rstrip('\\n').split('\\t')\n",
    "            if len(fields) == 17:\n",
    "                yield fields"
   ]
  },
  {
   "cell_type": "markdown",
   "metadata": {},
   "source": [
    "# Files"
   ]
  },
  {
   "cell_type": "markdown",
   "metadata": {},
   "source": [
    "## pipeline results"
   ]
  },
  {
   "cell_type": "code",
   "execution_count": 8,
   "metadata": {
    "ExecuteTime": {
     "end_time": "2016-05-19T15:08:00.187824",
     "start_time": "2016-05-19T15:08:00.176040"
    },
    "collapsed": true
   },
   "outputs": [],
   "source": [
    "basedir = \"/home/gus/MEGAsync/zim/main/Yale/Collaborations/Hongyu-tsetse/gmm_to_gff_pipeline/pipeline_runs/gmm_to_gff_testing_filterPSL_100bp/get_nearest_k_features/\"\n",
    "\n",
    "knearest_ALL_ = basedir+\"snp_list_afterFS_with_p_value_LD_1.nearest.bed\"\n",
    "knearest_MS_ = basedir+\"snp_list_MS_1_with_p_value.nearest.bed\"\n",
    "knearest_NB_ = basedir+\"snp_list_NB_1_with_p_value.nearest.bed\"\n",
    "knearest_OT_ = basedir+\"snp_list_OT_1_with_p_value.nearest.bed\""
   ]
  },
  {
   "cell_type": "code",
   "execution_count": 9,
   "metadata": {
    "ExecuteTime": {
     "end_time": "2016-05-19T15:08:00.411321",
     "start_time": "2016-05-19T15:08:00.404250"
    },
    "collapsed": false,
    "scrolled": true
   },
   "outputs": [],
   "source": [
    "lines = prefilter_lines(knearest_ALL_)"
   ]
  },
  {
   "cell_type": "code",
   "execution_count": 10,
   "metadata": {
    "ExecuteTime": {
     "end_time": "2016-05-19T15:08:00.859825",
     "start_time": "2016-05-19T15:08:00.607399"
    },
    "collapsed": false
   },
   "outputs": [],
   "source": [
    "headers = [\"SNP_chrom\",\n",
    "           \"SNP_start\",\n",
    "           \"SNP_end\",\n",
    "           \"feature_set_name\",\n",
    "           \"chrom\",\n",
    "           \"chromStart\",\n",
    "           \"chromEnd\",\n",
    "           \"name\",\n",
    "           \"score\",\n",
    "           \"strand\",\n",
    "           \"thickStart\",\n",
    "           \"thickEnd\",\n",
    "           \"itemRgb\",\n",
    "           \"blockCount\",\n",
    "           \"blockSizes\",\n",
    "           \"blockStarts\",\n",
    "           \"distance\"\n",
    "          ]\n",
    "\n",
    "\n",
    "\n",
    "knearest_ALL = pd.DataFrame(prefilter_lines(knearest_ALL_), columns=headers)\n",
    "knearest_MS = pd.DataFrame(prefilter_lines(knearest_MS_), columns=headers)\n",
    "knearest_NB = pd.DataFrame(prefilter_lines(knearest_NB_), columns=headers)\n",
    "knearest_OT = pd.DataFrame(prefilter_lines(knearest_OT_), columns=headers)\n",
    "\n",
    "knearest = {'knearest_ALL': knearest_ALL,\n",
    "            'knearest_MS': knearest_MS,\n",
    "            'knearest_NB': knearest_NB,\n",
    "            'knearest_OT': knearest_OT}\n"
   ]
  },
  {
   "cell_type": "code",
   "execution_count": 11,
   "metadata": {
    "ExecuteTime": {
     "end_time": "2016-05-19T15:08:00.878159",
     "start_time": "2016-05-19T15:08:00.867341"
    },
    "collapsed": false
   },
   "outputs": [],
   "source": [
    "for name, df in knearest.items():\n",
    "    df[\"source\"] = name"
   ]
  },
  {
   "cell_type": "code",
   "execution_count": 12,
   "metadata": {
    "ExecuteTime": {
     "end_time": "2016-05-19T15:08:01.013317",
     "start_time": "2016-05-19T15:08:00.997188"
    },
    "collapsed": true
   },
   "outputs": [],
   "source": [
    "knearest_combo = pd.concat(knearest.values())"
   ]
  },
  {
   "cell_type": "code",
   "execution_count": 13,
   "metadata": {
    "ExecuteTime": {
     "end_time": "2016-05-19T15:08:01.275617",
     "start_time": "2016-05-19T15:08:01.189491"
    },
    "collapsed": false
   },
   "outputs": [
    {
     "data": {
      "text/html": [
       "<div>\n",
       "<table border=\"1\" class=\"dataframe\">\n",
       "  <thead>\n",
       "    <tr style=\"text-align: right;\">\n",
       "      <th></th>\n",
       "      <th>SNP_chrom</th>\n",
       "      <th>SNP_start</th>\n",
       "      <th>SNP_end</th>\n",
       "      <th>feature_set_name</th>\n",
       "      <th>chrom</th>\n",
       "      <th>chromStart</th>\n",
       "      <th>chromEnd</th>\n",
       "      <th>name</th>\n",
       "      <th>score</th>\n",
       "      <th>strand</th>\n",
       "      <th>thickStart</th>\n",
       "      <th>thickEnd</th>\n",
       "      <th>itemRgb</th>\n",
       "      <th>blockCount</th>\n",
       "      <th>blockSizes</th>\n",
       "      <th>blockStarts</th>\n",
       "      <th>distance</th>\n",
       "      <th>source</th>\n",
       "    </tr>\n",
       "  </thead>\n",
       "  <tbody>\n",
       "    <tr>\n",
       "      <th>0</th>\n",
       "      <td>Scaffold106</td>\n",
       "      <td>349186</td>\n",
       "      <td>349187</td>\n",
       "      <td>novel_mapped_tx</td>\n",
       "      <td>Scaffold106</td>\n",
       "      <td>320040</td>\n",
       "      <td>320102</td>\n",
       "      <td>TCONS_00083698</td>\n",
       "      <td>0</td>\n",
       "      <td>+</td>\n",
       "      <td>319095</td>\n",
       "      <td>320102</td>\n",
       "      <td>0,0,0</td>\n",
       "      <td>3</td>\n",
       "      <td>481,465,40,</td>\n",
       "      <td>319095,319597,320062,</td>\n",
       "      <td>-29085</td>\n",
       "      <td>knearest_MS</td>\n",
       "    </tr>\n",
       "    <tr>\n",
       "      <th>1</th>\n",
       "      <td>Scaffold106</td>\n",
       "      <td>349186</td>\n",
       "      <td>349187</td>\n",
       "      <td>novel_mapped_tx</td>\n",
       "      <td>Scaffold106</td>\n",
       "      <td>319095</td>\n",
       "      <td>319104</td>\n",
       "      <td>TCONS_00083698</td>\n",
       "      <td>0</td>\n",
       "      <td>+</td>\n",
       "      <td>319095</td>\n",
       "      <td>320102</td>\n",
       "      <td>0,0,0</td>\n",
       "      <td>3</td>\n",
       "      <td>481,465,40,</td>\n",
       "      <td>319095,319597,320062,</td>\n",
       "      <td>-30083</td>\n",
       "      <td>knearest_MS</td>\n",
       "    </tr>\n",
       "    <tr>\n",
       "      <th>2</th>\n",
       "      <td>Scaffold106</td>\n",
       "      <td>349186</td>\n",
       "      <td>349187</td>\n",
       "      <td>novel_mapped_tx</td>\n",
       "      <td>Scaffold106</td>\n",
       "      <td>383136</td>\n",
       "      <td>402324</td>\n",
       "      <td>TCONS_00083693</td>\n",
       "      <td>0</td>\n",
       "      <td>+</td>\n",
       "      <td>383136</td>\n",
       "      <td>587072</td>\n",
       "      <td>0,0,0</td>\n",
       "      <td>33</td>\n",
       "      <td>74,156,55,158,82,47,6,72,141,38,113,83,210,5,63,82,184,95,5,159,327,210,45,110,181,461,212,268,443,129,15,33,6,</td>\n",
       "      <td>383136,383424,383583,383638,383796,383878,403015,403022,403095,403236,403274,403387,403471,403682,403688,403751,403833,404017,404112,404117,404276,529998,539024,548782,567119,568950,569478,584255,586305,586754,586883,586898,587066,</td>\n",
       "      <td>33950</td>\n",
       "      <td>knearest_MS</td>\n",
       "    </tr>\n",
       "    <tr>\n",
       "      <th>3</th>\n",
       "      <td>Scaffold106</td>\n",
       "      <td>349186</td>\n",
       "      <td>349187</td>\n",
       "      <td>novel_mapped_tx</td>\n",
       "      <td>Scaffold106</td>\n",
       "      <td>383136</td>\n",
       "      <td>402324</td>\n",
       "      <td>TCONS_00083694</td>\n",
       "      <td>0</td>\n",
       "      <td>+</td>\n",
       "      <td>383136</td>\n",
       "      <td>587072</td>\n",
       "      <td>0,0,0</td>\n",
       "      <td>33</td>\n",
       "      <td>74,156,55,158,82,47,6,72,141,38,113,83,210,5,63,82,184,95,5,159,327,210,45,110,181,461,212,241,443,129,15,33,6,</td>\n",
       "      <td>383136,383424,383583,383638,383796,383878,403015,403022,403095,403236,403274,403387,403471,403682,403688,403751,403833,404017,404112,404117,404276,529998,539024,548782,567119,568950,569478,584255,586305,586754,586883,586898,587066,</td>\n",
       "      <td>33950</td>\n",
       "      <td>knearest_MS</td>\n",
       "    </tr>\n",
       "    <tr>\n",
       "      <th>4</th>\n",
       "      <td>Scaffold106</td>\n",
       "      <td>349186</td>\n",
       "      <td>349187</td>\n",
       "      <td>novel_mapped_tx</td>\n",
       "      <td>Scaffold106</td>\n",
       "      <td>405951</td>\n",
       "      <td>433030</td>\n",
       "      <td>TCONS_00083688</td>\n",
       "      <td>0</td>\n",
       "      <td>+</td>\n",
       "      <td>403014</td>\n",
       "      <td>584462</td>\n",
       "      <td>0,0,0</td>\n",
       "      <td>23</td>\n",
       "      <td>7,72,141,38,113,83,210,5,63,82,184,95,5,159,89,186,210,45,110,181,411,212,207,</td>\n",
       "      <td>403014,403022,403095,403236,403274,403387,403471,403682,403688,403751,403833,404017,404112,404117,404276,404417,529998,539024,548782,567119,568950,569478,584255,</td>\n",
       "      <td>56765</td>\n",
       "      <td>knearest_MS</td>\n",
       "    </tr>\n",
       "  </tbody>\n",
       "</table>\n",
       "</div>"
      ],
      "text/plain": [
       "     SNP_chrom SNP_start SNP_end feature_set_name        chrom chromStart  \\\n",
       "0  Scaffold106    349186  349187  novel_mapped_tx  Scaffold106     320040   \n",
       "1  Scaffold106    349186  349187  novel_mapped_tx  Scaffold106     319095   \n",
       "2  Scaffold106    349186  349187  novel_mapped_tx  Scaffold106     383136   \n",
       "3  Scaffold106    349186  349187  novel_mapped_tx  Scaffold106     383136   \n",
       "4  Scaffold106    349186  349187  novel_mapped_tx  Scaffold106     405951   \n",
       "\n",
       "  chromEnd            name score strand thickStart thickEnd itemRgb  \\\n",
       "0   320102  TCONS_00083698     0      +     319095   320102   0,0,0   \n",
       "1   319104  TCONS_00083698     0      +     319095   320102   0,0,0   \n",
       "2   402324  TCONS_00083693     0      +     383136   587072   0,0,0   \n",
       "3   402324  TCONS_00083694     0      +     383136   587072   0,0,0   \n",
       "4   433030  TCONS_00083688     0      +     403014   584462   0,0,0   \n",
       "\n",
       "  blockCount  \\\n",
       "0          3   \n",
       "1          3   \n",
       "2         33   \n",
       "3         33   \n",
       "4         23   \n",
       "\n",
       "                                                                                                        blockSizes  \\\n",
       "0                                                                                                      481,465,40,   \n",
       "1                                                                                                      481,465,40,   \n",
       "2  74,156,55,158,82,47,6,72,141,38,113,83,210,5,63,82,184,95,5,159,327,210,45,110,181,461,212,268,443,129,15,33,6,   \n",
       "3  74,156,55,158,82,47,6,72,141,38,113,83,210,5,63,82,184,95,5,159,327,210,45,110,181,461,212,241,443,129,15,33,6,   \n",
       "4                                   7,72,141,38,113,83,210,5,63,82,184,95,5,159,89,186,210,45,110,181,411,212,207,   \n",
       "\n",
       "                                                                                                                                                                                                                               blockStarts  \\\n",
       "0                                                                                                                                                                                                                    319095,319597,320062,   \n",
       "1                                                                                                                                                                                                                    319095,319597,320062,   \n",
       "2  383136,383424,383583,383638,383796,383878,403015,403022,403095,403236,403274,403387,403471,403682,403688,403751,403833,404017,404112,404117,404276,529998,539024,548782,567119,568950,569478,584255,586305,586754,586883,586898,587066,   \n",
       "3  383136,383424,383583,383638,383796,383878,403015,403022,403095,403236,403274,403387,403471,403682,403688,403751,403833,404017,404112,404117,404276,529998,539024,548782,567119,568950,569478,584255,586305,586754,586883,586898,587066,   \n",
       "4                                                                        403014,403022,403095,403236,403274,403387,403471,403682,403688,403751,403833,404017,404112,404117,404276,404417,529998,539024,548782,567119,568950,569478,584255,   \n",
       "\n",
       "  distance       source  \n",
       "0   -29085  knearest_MS  \n",
       "1   -30083  knearest_MS  \n",
       "2    33950  knearest_MS  \n",
       "3    33950  knearest_MS  \n",
       "4    56765  knearest_MS  "
      ]
     },
     "execution_count": 13,
     "metadata": {},
     "output_type": "execute_result"
    }
   ],
   "source": [
    "knearest_combo.head()"
   ]
  },
  {
   "cell_type": "markdown",
   "metadata": {
    "collapsed": true
   },
   "source": [
    "## Genes of Interest"
   ]
  },
  {
   "cell_type": "code",
   "execution_count": 17,
   "metadata": {
    "ExecuteTime": {
     "end_time": "2016-05-19T15:10:54.455310",
     "start_time": "2016-05-19T15:10:54.404627"
    },
    "collapsed": false
   },
   "outputs": [
    {
     "data": {
      "text/html": [
       "<div>\n",
       "<table border=\"1\" class=\"dataframe\">\n",
       "  <thead>\n",
       "    <tr style=\"text-align: right;\">\n",
       "      <th></th>\n",
       "      <th>gene name</th>\n",
       "      <th>Gmm gene ID</th>\n",
       "      <th>Gff gene ID</th>\n",
       "      <th>putative function</th>\n",
       "    </tr>\n",
       "  </thead>\n",
       "  <tbody>\n",
       "    <tr>\n",
       "      <th>0</th>\n",
       "      <td>peritrophin 1 (pro1)</td>\n",
       "      <td>GMOY011809</td>\n",
       "      <td>GFUI000254</td>\n",
       "      <td>peritrophic matrix</td>\n",
       "    </tr>\n",
       "    <tr>\n",
       "      <th>1</th>\n",
       "      <td>peritrophin 2 (pro2)</td>\n",
       "      <td>GMOY009587</td>\n",
       "      <td>GFUI019092</td>\n",
       "      <td>peritrophic matrix</td>\n",
       "    </tr>\n",
       "    <tr>\n",
       "      <th>2</th>\n",
       "      <td>peritrophin 3 (pro3)</td>\n",
       "      <td>GMOY009756</td>\n",
       "      <td>GFUI029963</td>\n",
       "      <td>peritrophic matrix</td>\n",
       "    </tr>\n",
       "    <tr>\n",
       "      <th>3</th>\n",
       "      <td>PGRP-LB</td>\n",
       "      <td>GMOY006730</td>\n",
       "      <td>GFUI044336</td>\n",
       "      <td>peptidoglycan regonition protein</td>\n",
       "    </tr>\n",
       "    <tr>\n",
       "      <th>4</th>\n",
       "      <td>PGRP-LA</td>\n",
       "      <td>GMOY006093</td>\n",
       "      <td>GFUI041246</td>\n",
       "      <td>peptidoglycan regonition protein</td>\n",
       "    </tr>\n",
       "    <tr>\n",
       "      <th>5</th>\n",
       "      <td>PGRP-LC</td>\n",
       "      <td>GMOY006094</td>\n",
       "      <td>GFUI041261</td>\n",
       "      <td>peptidoglycan regonition protein</td>\n",
       "    </tr>\n",
       "    <tr>\n",
       "      <th>6</th>\n",
       "      <td>PGRP-SA</td>\n",
       "      <td>GMOY009549</td>\n",
       "      <td>GFUI025172</td>\n",
       "      <td>peptidoglycan regonition protein</td>\n",
       "    </tr>\n",
       "    <tr>\n",
       "      <th>7</th>\n",
       "      <td>PGRP-SB</td>\n",
       "      <td>GMOY012025</td>\n",
       "      <td>GFUI006552</td>\n",
       "      <td>peptidoglycan regonition protein</td>\n",
       "    </tr>\n",
       "    <tr>\n",
       "      <th>8</th>\n",
       "      <td>attacin</td>\n",
       "      <td>GMOY010521</td>\n",
       "      <td>GFUI014658</td>\n",
       "      <td>antimicrobial peptide</td>\n",
       "    </tr>\n",
       "    <tr>\n",
       "      <th>9</th>\n",
       "      <td>cecropin</td>\n",
       "      <td>GMOY011562</td>\n",
       "      <td>GFUI16707</td>\n",
       "      <td>antimicrobial peptide</td>\n",
       "    </tr>\n",
       "    <tr>\n",
       "      <th>10</th>\n",
       "      <td>cecropin-like</td>\n",
       "      <td>GMOY011563</td>\n",
       "      <td>GFUI001082</td>\n",
       "      <td>antimicrobial peptide</td>\n",
       "    </tr>\n",
       "    <tr>\n",
       "      <th>11</th>\n",
       "      <td>cecropin-like</td>\n",
       "      <td>GMOY011563</td>\n",
       "      <td>GFUI016704</td>\n",
       "      <td>antimicrobial peptide</td>\n",
       "    </tr>\n",
       "    <tr>\n",
       "      <th>12</th>\n",
       "      <td>cactus</td>\n",
       "      <td>GMOY007166</td>\n",
       "      <td>GFUI040289</td>\n",
       "      <td>toll pathway effector</td>\n",
       "    </tr>\n",
       "    <tr>\n",
       "      <th>13</th>\n",
       "      <td>tsetse EP protein</td>\n",
       "      <td>GMOY003306</td>\n",
       "      <td>GFUI003889</td>\n",
       "      <td>antitrypanosomal peptide</td>\n",
       "    </tr>\n",
       "    <tr>\n",
       "      <th>14</th>\n",
       "      <td>dual oxidase (DUOX)</td>\n",
       "      <td>GMOY011234</td>\n",
       "      <td>GFUI006673</td>\n",
       "      <td>reactive oxygen intermediate</td>\n",
       "    </tr>\n",
       "    <tr>\n",
       "      <th>15</th>\n",
       "      <td>nitric oxide sythase (NOS)</td>\n",
       "      <td>GMOY003093</td>\n",
       "      <td>GFUI023260</td>\n",
       "      <td>reactive oxygen intermediate</td>\n",
       "    </tr>\n",
       "    <tr>\n",
       "      <th>16</th>\n",
       "      <td>wingless</td>\n",
       "      <td>GMOY004912</td>\n",
       "      <td>GFUI030130</td>\n",
       "      <td>transcription factor in winlgess signaling pathway</td>\n",
       "    </tr>\n",
       "    <tr>\n",
       "      <th>17</th>\n",
       "      <td>caupolican</td>\n",
       "      <td>GMOY010195</td>\n",
       "      <td>GFUI047114</td>\n",
       "      <td>transcription factor in winlgess signaling pathway</td>\n",
       "    </tr>\n",
       "    <tr>\n",
       "      <th>18</th>\n",
       "      <td>araucan</td>\n",
       "      <td>GMOY010197</td>\n",
       "      <td>GFUI0099220</td>\n",
       "      <td>transcription factor in winlgess signaling pathway</td>\n",
       "    </tr>\n",
       "    <tr>\n",
       "      <th>19</th>\n",
       "      <td>mirror</td>\n",
       "      <td>GMOY000379</td>\n",
       "      <td>GFUI047135</td>\n",
       "      <td>transcription factor in winlgess signaling pathway</td>\n",
       "    </tr>\n",
       "    <tr>\n",
       "      <th>20</th>\n",
       "      <td>thioester-containing protein 2 (tep2)</td>\n",
       "      <td>GMOY0109967</td>\n",
       "      <td>GFUI030630</td>\n",
       "      <td>pathogen recognition</td>\n",
       "    </tr>\n",
       "    <tr>\n",
       "      <th>21</th>\n",
       "      <td>tep3</td>\n",
       "      <td>GMOY010998</td>\n",
       "      <td>GFUI030635</td>\n",
       "      <td>pathogen recognition</td>\n",
       "    </tr>\n",
       "    <tr>\n",
       "      <th>22</th>\n",
       "      <td>tep4</td>\n",
       "      <td>GMOY008955</td>\n",
       "      <td>GFUI021278</td>\n",
       "      <td>pathogen recognition</td>\n",
       "    </tr>\n",
       "    <tr>\n",
       "      <th>23</th>\n",
       "      <td>down syndrom cell adhesion molecule (dscam)</td>\n",
       "      <td>GMOY009093</td>\n",
       "      <td>GFUI015409</td>\n",
       "      <td>pathogen recognition</td>\n",
       "    </tr>\n",
       "  </tbody>\n",
       "</table>\n",
       "</div>"
      ],
      "text/plain": [
       "                                      gene name  Gmm gene ID  Gff gene ID  \\\n",
       "0                          peritrophin 1 (pro1)   GMOY011809   GFUI000254   \n",
       "1                          peritrophin 2 (pro2)   GMOY009587   GFUI019092   \n",
       "2                          peritrophin 3 (pro3)   GMOY009756   GFUI029963   \n",
       "3                                       PGRP-LB   GMOY006730   GFUI044336   \n",
       "4                                       PGRP-LA   GMOY006093   GFUI041246   \n",
       "5                                       PGRP-LC   GMOY006094   GFUI041261   \n",
       "6                                       PGRP-SA   GMOY009549   GFUI025172   \n",
       "7                                       PGRP-SB   GMOY012025   GFUI006552   \n",
       "8                                       attacin   GMOY010521   GFUI014658   \n",
       "9                                      cecropin   GMOY011562    GFUI16707   \n",
       "10                                cecropin-like   GMOY011563   GFUI001082   \n",
       "11                                cecropin-like   GMOY011563   GFUI016704   \n",
       "12                                       cactus   GMOY007166   GFUI040289   \n",
       "13                            tsetse EP protein   GMOY003306   GFUI003889   \n",
       "14                          dual oxidase (DUOX)   GMOY011234   GFUI006673   \n",
       "15                   nitric oxide sythase (NOS)  GMOY003093    GFUI023260   \n",
       "16                                     wingless   GMOY004912   GFUI030130   \n",
       "17                                   caupolican   GMOY010195   GFUI047114   \n",
       "18                                      araucan   GMOY010197  GFUI0099220   \n",
       "19                                       mirror   GMOY000379   GFUI047135   \n",
       "20        thioester-containing protein 2 (tep2)  GMOY0109967   GFUI030630   \n",
       "21                                         tep3   GMOY010998   GFUI030635   \n",
       "22                                         tep4   GMOY008955   GFUI021278   \n",
       "23  down syndrom cell adhesion molecule (dscam)   GMOY009093   GFUI015409   \n",
       "\n",
       "                                     putative function  \n",
       "0                                   peritrophic matrix  \n",
       "1                                   peritrophic matrix  \n",
       "2                                   peritrophic matrix  \n",
       "3                     peptidoglycan regonition protein  \n",
       "4                     peptidoglycan regonition protein  \n",
       "5                     peptidoglycan regonition protein  \n",
       "6                     peptidoglycan regonition protein  \n",
       "7                     peptidoglycan regonition protein  \n",
       "8                                antimicrobial peptide  \n",
       "9                                antimicrobial peptide  \n",
       "10                               antimicrobial peptide  \n",
       "11                               antimicrobial peptide  \n",
       "12                               toll pathway effector  \n",
       "13                            antitrypanosomal peptide  \n",
       "14                        reactive oxygen intermediate  \n",
       "15                        reactive oxygen intermediate  \n",
       "16  transcription factor in winlgess signaling pathway  \n",
       "17  transcription factor in winlgess signaling pathway  \n",
       "18  transcription factor in winlgess signaling pathway  \n",
       "19  transcription factor in winlgess signaling pathway  \n",
       "20                                pathogen recognition  \n",
       "21                                pathogen recognition  \n",
       "22                                pathogen recognition  \n",
       "23                                pathogen recognition  "
      ]
     },
     "execution_count": 17,
     "metadata": {},
     "output_type": "execute_result"
    }
   ],
   "source": [
    "goi_ = \"/home/gus/MEGAsync/zim/main/Yale/Collaborations/Hongyu-tsetse/find_snps_near_gene_of_interest/genes_of_interest.csv\"\n",
    "goi = pd.read_csv(goi_)\n",
    "goi"
   ]
  },
  {
   "cell_type": "code",
   "execution_count": 16,
   "metadata": {
    "ExecuteTime": {
     "end_time": "2016-05-19T15:10:01.197887",
     "start_time": "2016-05-19T15:10:01.193563"
    },
    "collapsed": false
   },
   "outputs": [
    {
     "data": {
      "text/plain": [
       "(24, 4)"
      ]
     },
     "execution_count": 16,
     "metadata": {},
     "output_type": "execute_result"
    }
   ],
   "source": [
    "goi.shape"
   ]
  },
  {
   "cell_type": "markdown",
   "metadata": {},
   "source": [
    "# Which if any \"_Gff gene ID_\" names occur in knearest_combo?"
   ]
  },
  {
   "cell_type": "code",
   "execution_count": 15,
   "metadata": {
    "ExecuteTime": {
     "end_time": "2016-05-19T15:08:02.137727",
     "start_time": "2016-05-19T15:08:01.921516"
    },
    "collapsed": false
   },
   "outputs": [
    {
     "data": {
      "text/html": [
       "<div>\n",
       "<table border=\"1\" class=\"dataframe\">\n",
       "  <thead>\n",
       "    <tr style=\"text-align: right;\">\n",
       "      <th></th>\n",
       "      <th>gene name</th>\n",
       "      <th>Gmm gene ID</th>\n",
       "      <th>Gff gene ID</th>\n",
       "      <th>putative function</th>\n",
       "      <th>SNP_chrom</th>\n",
       "      <th>SNP_start</th>\n",
       "      <th>SNP_end</th>\n",
       "      <th>distance</th>\n",
       "      <th>source</th>\n",
       "    </tr>\n",
       "  </thead>\n",
       "  <tbody>\n",
       "    <tr>\n",
       "      <th>0</th>\n",
       "      <td>PGRP-LA</td>\n",
       "      <td>GMOY006093</td>\n",
       "      <td>GFUI041246</td>\n",
       "      <td>peptidoglycan regonition protein</td>\n",
       "      <td>Scaffold5</td>\n",
       "      <td>2342537</td>\n",
       "      <td>2342538</td>\n",
       "      <td>23332</td>\n",
       "      <td>knearest_OT</td>\n",
       "    </tr>\n",
       "  </tbody>\n",
       "</table>\n",
       "</div>"
      ],
      "text/plain": [
       "  gene name Gmm gene ID Gff gene ID                 putative function  \\\n",
       "0   PGRP-LA  GMOY006093  GFUI041246  peptidoglycan regonition protein   \n",
       "\n",
       "   SNP_chrom SNP_start  SNP_end distance       source  \n",
       "0  Scaffold5   2342537  2342538    23332  knearest_OT  "
      ]
     },
     "execution_count": 15,
     "metadata": {},
     "output_type": "execute_result"
    }
   ],
   "source": [
    "knear = knearest_combo[[\"SNP_chrom\",\"SNP_start\",\"SNP_end\",\"name\",\"distance\",\"source\"]]\n",
    "\n",
    "snps_near_goi = pd.merge(left=goi, right=knear, \n",
    "                         how='inner', on=None, \n",
    "                         left_on=\"Gff gene ID\", right_on=\"name\",).drop(\"name\", axis=1)\n",
    "snps_near_goi"
   ]
  },
  {
   "cell_type": "code",
   "execution_count": null,
   "metadata": {
    "collapsed": true
   },
   "outputs": [],
   "source": []
  },
  {
   "cell_type": "code",
   "execution_count": null,
   "metadata": {
    "collapsed": true
   },
   "outputs": [],
   "source": []
  },
  {
   "cell_type": "code",
   "execution_count": null,
   "metadata": {
    "collapsed": true
   },
   "outputs": [],
   "source": []
  }
 ],
 "metadata": {
  "kernelspec": {
   "display_name": "Python2 (stack2)",
   "language": "python",
   "name": "stack2"
  },
  "language_info": {
   "codemirror_mode": {
    "name": "ipython",
    "version": 2
   },
   "file_extension": ".py",
   "mimetype": "text/x-python",
   "name": "python",
   "nbconvert_exporter": "python",
   "pygments_lexer": "ipython2",
   "version": "2.7.11"
  },
  "toc": {
   "toc_cell": true,
   "toc_number_sections": true,
   "toc_threshold": 6,
   "toc_window_display": true
  }
 },
 "nbformat": 4,
 "nbformat_minor": 0
}
