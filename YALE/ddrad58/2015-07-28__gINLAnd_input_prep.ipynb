{
 "cells": [
  {
   "cell_type": "markdown",
   "metadata": {},
   "source": [
    "# Input file descriptions:\n",
    "\n",
    "The data required are\n",
    "\n",
    "- Allele counts for various sampling units with the following requirements:\n",
    "    - This should be a matrix with one row per geographical sampling site and one column per locus\n",
    "    - The markers should be bi-allelic co-dominant or dominant.\n",
    "    - The sampling units can be either individuals or groups of individuals observed at the same site\n",
    "    - Missing data are allowed\n",
    "- Sample sizes\n",
    "    - This should be a matrix with one row per geographical sampling site and one column per locus\n",
    "    - This should be haploid sample sizes, so two times the number of individuals for diploid organisms and so on.\n",
    "- Spatial coordinates of the sampling units.\n",
    "    - This should be a matrix with two columns and one row per sampling site. It can be Lon-Lat coordinates or UTM - coordinates.\n",
    "- Measurements of environmental variables at the same geographcial locations as genetic data.\n",
    "    - This should be a matrix with one row per sampling site and one column per environmental variable.\n"
   ]
  },
  {
   "cell_type": "code",
   "execution_count": 1,
   "metadata": {
    "collapsed": false
   },
   "outputs": [
    {
     "name": "stdout",
     "output_type": "stream",
     "text": [
      "Using matplotlib backend: TkAgg\n"
     ]
    }
   ],
   "source": [
    "# %matplotlib inline\n",
    "%matplotlib\n",
    "import re\n",
    "from collections import defaultdict\n",
    "\n",
    "\n",
    "import numpy as np\n",
    "import pandas as pd\n",
    "import seaborn as sns\n",
    "\n",
    "import ggplot as gp\n",
    "import matplotlib.pyplot as plt\n",
    "\n",
    "import vcf"
   ]
  },
  {
   "cell_type": "code",
   "execution_count": 2,
   "metadata": {
    "collapsed": true
   },
   "outputs": [],
   "source": [
    "# IN Paths\n",
    "vcf_path = \"/home/gus/remote_mounts/louise/data/genomes/glossina_fuscipes/annotations/SNPs/vcftools_out/ddrad58_populations/individuals/tsetseFINAL_14Oct2014_f2_53.recode.renamed_scaffolds.maf0_05.OT_MS_NB_indv.recode.vcf\"\n",
    "pop_coords_and_bioclim_data_path = \"/home/gus/data/ddrad/environmental/www.worldclim.org/bioclim/pop_coords_and_bioclim_data.csv\"\n"
   ]
  },
  {
   "cell_type": "code",
   "execution_count": 3,
   "metadata": {
    "collapsed": true
   },
   "outputs": [],
   "source": [
    "# OUT Paths\n",
    "ginland_dir = \"/home/gus/data/ddrad/gINLAnd_input\"\n",
    "\n",
    "allele_count_path = ginland_dir + \"/allele_count\"\n",
    "sample_sizes_path = ginland_dir + \"/sample_sizes\"\n",
    "site_coords_path = ginland_dir + \"/site_coords\"\n",
    "environmental_data_path = ginland_dir + \"/environmental_data\""
   ]
  },
  {
   "cell_type": "code",
   "execution_count": 4,
   "metadata": {
    "collapsed": true
   },
   "outputs": [],
   "source": [
    "# helper functions\n",
    "\n",
    "def nested_defaultdict():\n",
    "    return defaultdict(nested_defaultdict)"
   ]
  },
  {
   "cell_type": "markdown",
   "metadata": {},
   "source": [
    "# Prepare allele_count file\n",
    "\n",
    "- Allele counts for various sampling units with the following requirements:\n",
    "    - This should be a matrix with one row per geographical sampling site and one column per locus\n",
    "    - The markers should be bi-allelic co-dominant or dominant.\n",
    "    - The sampling units can be either individuals or groups of individuals observed at the same site\n",
    "    - Missing data are allowed\n",
    "    \n",
    "## Notes:\n",
    "\n",
    "- each \"cell\" in the table is the count of alternative base at that site for all members of the sample site.\n",
    "    - homo-REF = 0\n",
    "    - hetero = 1\n",
    "    - homo-ALT = 2\n",
    "\n",
    "-----------\n",
    "\n",
    "# Prepare sample_sizes file\n",
    "\n",
    "- Sample sizes\n",
    "    - This should be a matrix with one row per geographical sampling site and one column per locus\n",
    "    - This should be haploid sample sizes, so two times the number of individuals for diploid organisms and so on.\n",
    "    \n",
    "## Notes:\n",
    "\n",
    "- this is important because not all individuals have called SNPs at all loci and the `allele_count` data needs to know which loci have how many chroms to get the ALT:REF ratio correct\n",
    "\n",
    "--------------"
   ]
  },
  {
   "cell_type": "code",
   "execution_count": 5,
   "metadata": {
    "collapsed": false
   },
   "outputs": [],
   "source": [
    "vcf_reader = vcf.Reader(open(vcf_path, 'r'))"
   ]
  },
  {
   "cell_type": "code",
   "execution_count": 6,
   "metadata": {
    "collapsed": false
   },
   "outputs": [
    {
     "name": "stdout",
     "output_type": "stream",
     "text": [
      "Record(CHROM=Scaffold0, POS=13388, REF=T, ALT=[C])\n"
     ]
    }
   ],
   "source": [
    "r = vcf_reader.next()\n",
    "print r"
   ]
  },
  {
   "cell_type": "code",
   "execution_count": 9,
   "metadata": {
    "collapsed": false
   },
   "outputs": [
    {
     "name": "stdout",
     "output_type": "stream",
     "text": [
      "75728 /home/gus/remote_mounts/louise/data/genomes/glossina_fuscipes/annotations/SNPs/vcftools_out/ddrad58_populations/individuals/tsetseFINAL_14Oct2014_f2_53.recode.renamed_scaffolds.maf0_05.OT_MS_NB_indv.recode.vcf\r\n"
     ]
    }
   ],
   "source": [
    "!wc -l $vcf_path"
   ]
  },
  {
   "cell_type": "code",
   "execution_count": 8,
   "metadata": {
    "collapsed": false
   },
   "outputs": [
    {
     "data": {
      "text/plain": [
       "Call(sample=MS11_0001, CallData(GT=1/1, PL=[255, 72, 0], DP=24, SP=0, GQ=73))"
      ]
     },
     "execution_count": 8,
     "metadata": {},
     "output_type": "execute_result"
    }
   ],
   "source": [
    "s = r.samples[0]\n",
    "s"
   ]
  },
  {
   "cell_type": "code",
   "execution_count": 89,
   "metadata": {
    "collapsed": false
   },
   "outputs": [
    {
     "data": {
      "text/plain": [
       "True"
      ]
     },
     "execution_count": 89,
     "metadata": {},
     "output_type": "execute_result"
    }
   ],
   "source": [
    "s.called"
   ]
  },
  {
   "cell_type": "code",
   "execution_count": 98,
   "metadata": {
    "collapsed": false
   },
   "outputs": [],
   "source": [
    "def vcf_to_allele_count_and_sample_sizes(vcf_path):\n",
    "    \"\"\"Generate dataframes with per-locus allele_count and sample_sizes gINLAnd data.\n",
    "\n",
    "    Args:\n",
    "        vcf_path (str): Path to source VCF\n",
    "\n",
    "    Returns:\n",
    "        allele_count (pandas.DataFrame)\n",
    "        sample_sizes (pandas.DataFrame)\n",
    "\n",
    "    \"\"\"\n",
    "    allele_count_dict = nested_defaultdict()\n",
    "    sample_sizes_dict = nested_defaultdict()\n",
    "    site_members = map_site_members_to_site_code(vcf_path=vcf_path)\n",
    "    site_codes = tuple(set(site_members.values()))\n",
    "    vcf_reader = vcf.Reader(open(vcf_path, 'r'))\n",
    "    \n",
    "    for snp_rec in vcf_reader:\n",
    "        chrom_pos = init_nested_dicts_for_locus(allele_count_dict, sample_sizes_dict, snp_rec, site_codes)\n",
    "\n",
    "        for sample in snp_rec.samples:\n",
    "            sample_name = sample.sample\n",
    "            sample_site = site_members[sample_name]\n",
    "\n",
    "            try:\n",
    "                allele_count_dict[chrom_pos][sample_site] += sum_hap_gt(sample=sample)\n",
    "                sample_sizes_dict[chrom_pos][sample_site] += 2\n",
    "            except TypeError:\n",
    "                pass\n",
    "                \n",
    "    allele_count = pd.DataFrame(data=allele_count_dict).sort(axis=0).sort(axis=1)\n",
    "    sample_sizes = pd.DataFrame(data=sample_sizes_dict).sort(axis=0).sort(axis=1)\n",
    "    \n",
    "    return allele_count,sample_sizes\n",
    "\n",
    "\n",
    "def map_site_members_to_site_code(vcf_path):\n",
    "    \"\"\"maps site members to site codes.\n",
    "\n",
    "    Args:\n",
    "        vcf_path (str): Path to source VCF\n",
    "\n",
    "    Returns:\n",
    "        site_members (dict): `dict` containing individual site codes as `key` and group name as `value`\n",
    "\n",
    "    \"\"\"\n",
    "    \n",
    "    vcf_reader = vcf.Reader(open(vcf_path, 'r'))\n",
    "    \n",
    "    site_members = defaultdict(str)\n",
    "    \n",
    "    for sample in vcf_reader.samples:\n",
    "        site_members[sample] = sample[:2]\n",
    "        \n",
    "    return site_members\n",
    "\n",
    "\n",
    "def init_nested_dicts_for_locus(allele_count_dict, sample_sizes_dict, snp_rec, site_codes):\n",
    "    chrom_pos = \"{chrom}:{pos}\".format(chrom=snp_rec.CHROM,pos=snp_rec.POS)\n",
    "    for site in site_codes:\n",
    "        allele_count_dict[chrom_pos][site] = 0\n",
    "        sample_sizes_dict[chrom_pos][site] = 0\n",
    "    return chrom_pos\n",
    "\n",
    "\n",
    "def sum_hap_gt(sample):\n",
    "    gt = sample.data.GT\n",
    "    assert '/' in gt\n",
    "    \n",
    "    hap_gts = [int(hap) for hap in gt.split('/')]\n",
    "    assert set(hap_gts).issubset(set([0,1]))\n",
    "    \n",
    "    return sum(hap_gts)"
   ]
  },
  {
   "cell_type": "code",
   "execution_count": 94,
   "metadata": {
    "collapsed": false
   },
   "outputs": [],
   "source": [
    "allele_count,sample_sizes = vcf_to_allele_count_and_sample_sizes(vcf_path=vcf_path)"
   ]
  },
  {
   "cell_type": "code",
   "execution_count": 95,
   "metadata": {
    "collapsed": false
   },
   "outputs": [
    {
     "data": {
      "text/html": [
       "<div>\n",
       "<table border=\"1\" class=\"dataframe\">\n",
       "  <thead>\n",
       "    <tr style=\"text-align: right;\">\n",
       "      <th></th>\n",
       "      <th>JFJR01006593.1:10330</th>\n",
       "      <th>JFJR01006593.1:10357</th>\n",
       "      <th>JFJR01006593.1:119566</th>\n",
       "      <th>JFJR01006593.1:119582</th>\n",
       "      <th>JFJR01006593.1:119584</th>\n",
       "      <th>JFJR01006593.1:123271</th>\n",
       "      <th>JFJR01006593.1:123276</th>\n",
       "      <th>JFJR01006593.1:123278</th>\n",
       "      <th>JFJR01006593.1:124260</th>\n",
       "      <th>JFJR01006593.1:132284</th>\n",
       "      <th>...</th>\n",
       "      <th>Scaffold9:972035</th>\n",
       "      <th>Scaffold9:972069</th>\n",
       "      <th>Scaffold9:979793</th>\n",
       "      <th>Scaffold9:979801</th>\n",
       "      <th>Scaffold9:984986</th>\n",
       "      <th>Scaffold9:985024</th>\n",
       "      <th>Scaffold9:988009</th>\n",
       "      <th>Scaffold9:99</th>\n",
       "      <th>Scaffold9:997698</th>\n",
       "      <th>Scaffold9:997702</th>\n",
       "    </tr>\n",
       "  </thead>\n",
       "  <tbody>\n",
       "    <tr>\n",
       "      <th>MS</th>\n",
       "      <td>4</td>\n",
       "      <td>4</td>\n",
       "      <td>0</td>\n",
       "      <td>11</td>\n",
       "      <td>11</td>\n",
       "      <td>5</td>\n",
       "      <td>5</td>\n",
       "      <td>5</td>\n",
       "      <td>7</td>\n",
       "      <td>4</td>\n",
       "      <td>...</td>\n",
       "      <td>9</td>\n",
       "      <td>4</td>\n",
       "      <td>0</td>\n",
       "      <td>8</td>\n",
       "      <td>16</td>\n",
       "      <td>0</td>\n",
       "      <td>0</td>\n",
       "      <td>2</td>\n",
       "      <td>9</td>\n",
       "      <td>0</td>\n",
       "    </tr>\n",
       "    <tr>\n",
       "      <th>NB</th>\n",
       "      <td>3</td>\n",
       "      <td>3</td>\n",
       "      <td>0</td>\n",
       "      <td>20</td>\n",
       "      <td>20</td>\n",
       "      <td>0</td>\n",
       "      <td>0</td>\n",
       "      <td>0</td>\n",
       "      <td>12</td>\n",
       "      <td>13</td>\n",
       "      <td>...</td>\n",
       "      <td>0</td>\n",
       "      <td>26</td>\n",
       "      <td>22</td>\n",
       "      <td>0</td>\n",
       "      <td>21</td>\n",
       "      <td>0</td>\n",
       "      <td>19</td>\n",
       "      <td>2</td>\n",
       "      <td>5</td>\n",
       "      <td>43</td>\n",
       "    </tr>\n",
       "    <tr>\n",
       "      <th>OT</th>\n",
       "      <td>0</td>\n",
       "      <td>0</td>\n",
       "      <td>12</td>\n",
       "      <td>4</td>\n",
       "      <td>3</td>\n",
       "      <td>8</td>\n",
       "      <td>8</td>\n",
       "      <td>8</td>\n",
       "      <td>1</td>\n",
       "      <td>4</td>\n",
       "      <td>...</td>\n",
       "      <td>0</td>\n",
       "      <td>0</td>\n",
       "      <td>0</td>\n",
       "      <td>0</td>\n",
       "      <td>16</td>\n",
       "      <td>8</td>\n",
       "      <td>0</td>\n",
       "      <td>7</td>\n",
       "      <td>8</td>\n",
       "      <td>0</td>\n",
       "    </tr>\n",
       "  </tbody>\n",
       "</table>\n",
       "<p>3 rows × 73297 columns</p>\n",
       "</div>"
      ],
      "text/plain": [
       "    JFJR01006593.1:10330  JFJR01006593.1:10357  JFJR01006593.1:119566  \\\n",
       "MS                     4                     4                      0   \n",
       "NB                     3                     3                      0   \n",
       "OT                     0                     0                     12   \n",
       "\n",
       "    JFJR01006593.1:119582  JFJR01006593.1:119584  JFJR01006593.1:123271  \\\n",
       "MS                     11                     11                      5   \n",
       "NB                     20                     20                      0   \n",
       "OT                      4                      3                      8   \n",
       "\n",
       "    JFJR01006593.1:123276  JFJR01006593.1:123278  JFJR01006593.1:124260  \\\n",
       "MS                      5                      5                      7   \n",
       "NB                      0                      0                     12   \n",
       "OT                      8                      8                      1   \n",
       "\n",
       "    JFJR01006593.1:132284        ...         Scaffold9:972035  \\\n",
       "MS                      4        ...                        9   \n",
       "NB                     13        ...                        0   \n",
       "OT                      4        ...                        0   \n",
       "\n",
       "    Scaffold9:972069  Scaffold9:979793  Scaffold9:979801  Scaffold9:984986  \\\n",
       "MS                 4                 0                 8                16   \n",
       "NB                26                22                 0                21   \n",
       "OT                 0                 0                 0                16   \n",
       "\n",
       "    Scaffold9:985024  Scaffold9:988009  Scaffold9:99  Scaffold9:997698  \\\n",
       "MS                 0                 0             2                 9   \n",
       "NB                 0                19             2                 5   \n",
       "OT                 8                 0             7                 8   \n",
       "\n",
       "    Scaffold9:997702  \n",
       "MS                 0  \n",
       "NB                43  \n",
       "OT                 0  \n",
       "\n",
       "[3 rows x 73297 columns]"
      ]
     },
     "execution_count": 95,
     "metadata": {},
     "output_type": "execute_result"
    }
   ],
   "source": [
    "allele_count.head()"
   ]
  },
  {
   "cell_type": "code",
   "execution_count": 97,
   "metadata": {
    "collapsed": false
   },
   "outputs": [
    {
     "data": {
      "text/html": [
       "<div>\n",
       "<table border=\"1\" class=\"dataframe\">\n",
       "  <thead>\n",
       "    <tr style=\"text-align: right;\">\n",
       "      <th></th>\n",
       "      <th>JFJR01006593.1:10330</th>\n",
       "      <th>JFJR01006593.1:10357</th>\n",
       "      <th>JFJR01006593.1:119566</th>\n",
       "      <th>JFJR01006593.1:119582</th>\n",
       "      <th>JFJR01006593.1:119584</th>\n",
       "      <th>JFJR01006593.1:123271</th>\n",
       "      <th>JFJR01006593.1:123276</th>\n",
       "      <th>JFJR01006593.1:123278</th>\n",
       "      <th>JFJR01006593.1:124260</th>\n",
       "      <th>JFJR01006593.1:132284</th>\n",
       "      <th>...</th>\n",
       "      <th>Scaffold9:972035</th>\n",
       "      <th>Scaffold9:972069</th>\n",
       "      <th>Scaffold9:979793</th>\n",
       "      <th>Scaffold9:979801</th>\n",
       "      <th>Scaffold9:984986</th>\n",
       "      <th>Scaffold9:985024</th>\n",
       "      <th>Scaffold9:988009</th>\n",
       "      <th>Scaffold9:99</th>\n",
       "      <th>Scaffold9:997698</th>\n",
       "      <th>Scaffold9:997702</th>\n",
       "    </tr>\n",
       "  </thead>\n",
       "  <tbody>\n",
       "    <tr>\n",
       "      <th>MS</th>\n",
       "      <td>24</td>\n",
       "      <td>24</td>\n",
       "      <td>22</td>\n",
       "      <td>22</td>\n",
       "      <td>22</td>\n",
       "      <td>24</td>\n",
       "      <td>24</td>\n",
       "      <td>24</td>\n",
       "      <td>24</td>\n",
       "      <td>24</td>\n",
       "      <td>...</td>\n",
       "      <td>24</td>\n",
       "      <td>24</td>\n",
       "      <td>24</td>\n",
       "      <td>24</td>\n",
       "      <td>24</td>\n",
       "      <td>24</td>\n",
       "      <td>24</td>\n",
       "      <td>24</td>\n",
       "      <td>22</td>\n",
       "      <td>22</td>\n",
       "    </tr>\n",
       "    <tr>\n",
       "      <th>NB</th>\n",
       "      <td>48</td>\n",
       "      <td>48</td>\n",
       "      <td>48</td>\n",
       "      <td>48</td>\n",
       "      <td>48</td>\n",
       "      <td>48</td>\n",
       "      <td>48</td>\n",
       "      <td>48</td>\n",
       "      <td>46</td>\n",
       "      <td>48</td>\n",
       "      <td>...</td>\n",
       "      <td>48</td>\n",
       "      <td>48</td>\n",
       "      <td>48</td>\n",
       "      <td>48</td>\n",
       "      <td>46</td>\n",
       "      <td>46</td>\n",
       "      <td>48</td>\n",
       "      <td>48</td>\n",
       "      <td>48</td>\n",
       "      <td>48</td>\n",
       "    </tr>\n",
       "    <tr>\n",
       "      <th>OT</th>\n",
       "      <td>28</td>\n",
       "      <td>28</td>\n",
       "      <td>28</td>\n",
       "      <td>28</td>\n",
       "      <td>28</td>\n",
       "      <td>28</td>\n",
       "      <td>28</td>\n",
       "      <td>28</td>\n",
       "      <td>26</td>\n",
       "      <td>28</td>\n",
       "      <td>...</td>\n",
       "      <td>28</td>\n",
       "      <td>28</td>\n",
       "      <td>28</td>\n",
       "      <td>28</td>\n",
       "      <td>26</td>\n",
       "      <td>26</td>\n",
       "      <td>28</td>\n",
       "      <td>28</td>\n",
       "      <td>24</td>\n",
       "      <td>24</td>\n",
       "    </tr>\n",
       "  </tbody>\n",
       "</table>\n",
       "<p>3 rows × 73297 columns</p>\n",
       "</div>"
      ],
      "text/plain": [
       "    JFJR01006593.1:10330  JFJR01006593.1:10357  JFJR01006593.1:119566  \\\n",
       "MS                    24                    24                     22   \n",
       "NB                    48                    48                     48   \n",
       "OT                    28                    28                     28   \n",
       "\n",
       "    JFJR01006593.1:119582  JFJR01006593.1:119584  JFJR01006593.1:123271  \\\n",
       "MS                     22                     22                     24   \n",
       "NB                     48                     48                     48   \n",
       "OT                     28                     28                     28   \n",
       "\n",
       "    JFJR01006593.1:123276  JFJR01006593.1:123278  JFJR01006593.1:124260  \\\n",
       "MS                     24                     24                     24   \n",
       "NB                     48                     48                     46   \n",
       "OT                     28                     28                     26   \n",
       "\n",
       "    JFJR01006593.1:132284        ...         Scaffold9:972035  \\\n",
       "MS                     24        ...                       24   \n",
       "NB                     48        ...                       48   \n",
       "OT                     28        ...                       28   \n",
       "\n",
       "    Scaffold9:972069  Scaffold9:979793  Scaffold9:979801  Scaffold9:984986  \\\n",
       "MS                24                24                24                24   \n",
       "NB                48                48                48                46   \n",
       "OT                28                28                28                26   \n",
       "\n",
       "    Scaffold9:985024  Scaffold9:988009  Scaffold9:99  Scaffold9:997698  \\\n",
       "MS                24                24            24                22   \n",
       "NB                46                48            48                48   \n",
       "OT                26                28            28                24   \n",
       "\n",
       "    Scaffold9:997702  \n",
       "MS                22  \n",
       "NB                48  \n",
       "OT                24  \n",
       "\n",
       "[3 rows x 73297 columns]"
      ]
     },
     "execution_count": 97,
     "metadata": {},
     "output_type": "execute_result"
    }
   ],
   "source": [
    "sample_sizes."
   ]
  },
  {
   "cell_type": "markdown",
   "metadata": {},
   "source": [
    "# Prepare  site_coords file\n",
    "\n",
    "- Spatial coordinates of the sampling units.\n",
    "    - This should be a matrix with two columns and one row per sampling site. It can be Lon-Lat coordinates or UTM - coordinates.\n",
    "    \n",
    "--------\n",
    "\n",
    "# Prepare  environmental_data file\n",
    "\n",
    "- Measurements of environmental variables at the same geographcial locations as genetic data.\n",
    "    - This should be a matrix with one row per sampling site and one column per environmental variable.\n",
    "\n",
    "---------"
   ]
  },
  {
   "cell_type": "code",
   "execution_count": 110,
   "metadata": {
    "collapsed": true
   },
   "outputs": [],
   "source": [
    "def bioclim_pop_data_to_site_coords_and_env_data(pop_coords_and_bioclim_data_path,geo_sites):\n",
    "    \"\"\"\"\"\"\n",
    "    coords_and_bioclim = pd.read_csv(pop_coords_and_bioclim_data_path)\n",
    "    \n",
    "    # filter for sites we actually have\n",
    "    geo_site_mask = coords_and_bioclim.code.apply(lambda row: row in geo_sites)\n",
    "    coords_and_bioclim_filtered = coords_and_bioclim[geo_site_mask]\n",
    "    \n",
    "    site_coords = coords_and_bioclim_filtered[[\"lat\",\"long\"]].set_index(coords_and_bioclim_filtered.code.values)\n",
    "    environmental_data = coords_and_bioclim_filtered[[x for x in coords_and_bioclim_filtered.columns if x.startswith('bio')]].set_index(coords_and_bioclim_filtered.code.values)\n",
    "    \n",
    "    return site_coords.sort(axis=0),environmental_data.sort(axis=0).sort(axis=1)"
   ]
  },
  {
   "cell_type": "markdown",
   "metadata": {},
   "source": [
    "# Run the functions\n",
    "\n",
    "- because gINLAnd does not expect column or row headers, the files will be written once without headers.\n",
    "- because it is MUCH easier to trace interesting results back to loci if there are labels, will ALSO be written once WITH header info."
   ]
  },
  {
   "cell_type": "code",
   "execution_count": 105,
   "metadata": {
    "collapsed": true
   },
   "outputs": [],
   "source": [
    "allele_count,sample_sizes = vcf_to_allele_count_and_sample_sizes(vcf_path=vcf_path)"
   ]
  },
  {
   "cell_type": "code",
   "execution_count": 106,
   "metadata": {
    "collapsed": false
   },
   "outputs": [
    {
     "data": {
      "text/plain": [
       "array(['MS', 'NB', 'OT'], dtype=object)"
      ]
     },
     "execution_count": 106,
     "metadata": {},
     "output_type": "execute_result"
    }
   ],
   "source": [
    "geo_sites = allele_count.index.values\n",
    "geo_sites"
   ]
  },
  {
   "cell_type": "code",
   "execution_count": 113,
   "metadata": {
    "collapsed": true
   },
   "outputs": [],
   "source": [
    "site_coords,environmental_data = bioclim_pop_data_to_site_coords_and_env_data(pop_coords_and_bioclim_data_path=pop_coords_and_bioclim_data_path,\n",
    "                                                                              geo_sites=geo_sites)"
   ]
  },
  {
   "cell_type": "code",
   "execution_count": 114,
   "metadata": {
    "collapsed": false
   },
   "outputs": [
    {
     "data": {
      "text/html": [
       "<div>\n",
       "<table border=\"1\" class=\"dataframe\">\n",
       "  <thead>\n",
       "    <tr style=\"text-align: right;\">\n",
       "      <th></th>\n",
       "      <th>lat</th>\n",
       "      <th>long</th>\n",
       "    </tr>\n",
       "  </thead>\n",
       "  <tbody>\n",
       "    <tr>\n",
       "      <th>MS</th>\n",
       "      <td>1.683327</td>\n",
       "      <td>31.734009</td>\n",
       "    </tr>\n",
       "    <tr>\n",
       "      <th>NB</th>\n",
       "      <td>0.836069</td>\n",
       "      <td>33.685820</td>\n",
       "    </tr>\n",
       "    <tr>\n",
       "      <th>OT</th>\n",
       "      <td>1.918258</td>\n",
       "      <td>33.302457</td>\n",
       "    </tr>\n",
       "  </tbody>\n",
       "</table>\n",
       "</div>"
      ],
      "text/plain": [
       "         lat       long\n",
       "MS  1.683327  31.734009\n",
       "NB  0.836069  33.685820\n",
       "OT  1.918258  33.302457"
      ]
     },
     "execution_count": 114,
     "metadata": {},
     "output_type": "execute_result"
    }
   ],
   "source": [
    "site_coords"
   ]
  },
  {
   "cell_type": "code",
   "execution_count": 115,
   "metadata": {
    "collapsed": false
   },
   "outputs": [
    {
     "data": {
      "text/html": [
       "<div>\n",
       "<table border=\"1\" class=\"dataframe\">\n",
       "  <thead>\n",
       "    <tr style=\"text-align: right;\">\n",
       "      <th></th>\n",
       "      <th>bio12</th>\n",
       "      <th>bio13</th>\n",
       "      <th>bio14</th>\n",
       "      <th>bio15</th>\n",
       "      <th>bio18</th>\n",
       "      <th>bio19</th>\n",
       "      <th>bio2</th>\n",
       "      <th>bio3</th>\n",
       "      <th>bio4</th>\n",
       "      <th>bio5</th>\n",
       "      <th>bio6</th>\n",
       "      <th>bio7</th>\n",
       "      <th>bio8</th>\n",
       "      <th>bio9</th>\n",
       "    </tr>\n",
       "  </thead>\n",
       "  <tbody>\n",
       "    <tr>\n",
       "      <th>MS</th>\n",
       "      <td>1330</td>\n",
       "      <td>174</td>\n",
       "      <td>33</td>\n",
       "      <td>41</td>\n",
       "      <td>186</td>\n",
       "      <td>388</td>\n",
       "      <td>119</td>\n",
       "      <td>81</td>\n",
       "      <td>795</td>\n",
       "      <td>312</td>\n",
       "      <td>166</td>\n",
       "      <td>146</td>\n",
       "      <td>223</td>\n",
       "      <td>238</td>\n",
       "    </tr>\n",
       "    <tr>\n",
       "      <th>NB</th>\n",
       "      <td>1322</td>\n",
       "      <td>202</td>\n",
       "      <td>40</td>\n",
       "      <td>40</td>\n",
       "      <td>214</td>\n",
       "      <td>310</td>\n",
       "      <td>121</td>\n",
       "      <td>82</td>\n",
       "      <td>691</td>\n",
       "      <td>313</td>\n",
       "      <td>166</td>\n",
       "      <td>147</td>\n",
       "      <td>234</td>\n",
       "      <td>238</td>\n",
       "    </tr>\n",
       "    <tr>\n",
       "      <th>OT</th>\n",
       "      <td>1312</td>\n",
       "      <td>194</td>\n",
       "      <td>17</td>\n",
       "      <td>51</td>\n",
       "      <td>134</td>\n",
       "      <td>447</td>\n",
       "      <td>129</td>\n",
       "      <td>79</td>\n",
       "      <td>1015</td>\n",
       "      <td>328</td>\n",
       "      <td>165</td>\n",
       "      <td>163</td>\n",
       "      <td>222</td>\n",
       "      <td>245</td>\n",
       "    </tr>\n",
       "  </tbody>\n",
       "</table>\n",
       "</div>"
      ],
      "text/plain": [
       "    bio12  bio13  bio14  bio15  bio18  bio19  bio2  bio3  bio4  bio5  bio6  \\\n",
       "MS   1330    174     33     41    186    388   119    81   795   312   166   \n",
       "NB   1322    202     40     40    214    310   121    82   691   313   166   \n",
       "OT   1312    194     17     51    134    447   129    79  1015   328   165   \n",
       "\n",
       "    bio7  bio8  bio9  \n",
       "MS   146   223   238  \n",
       "NB   147   234   238  \n",
       "OT   163   222   245  "
      ]
     },
     "execution_count": 115,
     "metadata": {},
     "output_type": "execute_result"
    }
   ],
   "source": [
    "environmental_data"
   ]
  },
  {
   "cell_type": "markdown",
   "metadata": {},
   "source": [
    "## Write files WITHOUT header info"
   ]
  },
  {
   "cell_type": "code",
   "execution_count": 119,
   "metadata": {
    "collapsed": true
   },
   "outputs": [],
   "source": [
    "allele_count.to_csv(allele_count_path,index=False,header=False)\n",
    "sample_sizes.to_csv(sample_sizes_path,index=False,header=False)\n",
    "site_coords.to_csv(site_coords_path,index=False,header=False)\n",
    "environmental_data.to_csv(environmental_data_path,index=False,header=False)"
   ]
  },
  {
   "cell_type": "markdown",
   "metadata": {},
   "source": [
    "## Write files WITH header info"
   ]
  },
  {
   "cell_type": "code",
   "execution_count": 117,
   "metadata": {
    "collapsed": true
   },
   "outputs": [],
   "source": [
    "allele_count.to_csv(allele_count_path + \".with_headers.csv\")\n",
    "sample_sizes.to_csv(sample_sizes_path + \".with_headers.csv\")\n",
    "site_coords.to_csv(site_coords_path + \".with_headers.csv\")\n",
    "environmental_data.to_csv(environmental_data_path + \".with_headers.csv\")"
   ]
  },
  {
   "cell_type": "code",
   "execution_count": 118,
   "metadata": {
    "collapsed": false
   },
   "outputs": [
    {
     "data": {
      "text/plain": [
       "'/home/gus/data/ddrad/gINLAnd_input'"
      ]
     },
     "execution_count": 118,
     "metadata": {},
     "output_type": "execute_result"
    }
   ],
   "source": [
    "ginland_dir"
   ]
  },
  {
   "cell_type": "code",
   "execution_count": null,
   "metadata": {
    "collapsed": true
   },
   "outputs": [],
   "source": []
  }
 ],
 "metadata": {
  "kernelspec": {
   "display_name": "Python 2",
   "language": "python",
   "name": "python2"
  },
  "language_info": {
   "codemirror_mode": {
    "name": "ipython",
    "version": 2
   },
   "file_extension": ".py",
   "mimetype": "text/x-python",
   "name": "python",
   "nbconvert_exporter": "python",
   "pygments_lexer": "ipython2",
   "version": "2.7.9"
  }
 },
 "nbformat": 4,
 "nbformat_minor": 0
}
