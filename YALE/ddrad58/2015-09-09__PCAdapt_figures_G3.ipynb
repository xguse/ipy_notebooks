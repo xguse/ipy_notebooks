{
 "cells": [
  {
   "cell_type": "code",
   "execution_count": 1,
   "metadata": {
    "collapsed": false
   },
   "outputs": [
    {
     "name": "stdout",
     "output_type": "stream",
     "text": [
      "Using matplotlib backend: TkAgg\n"
     ]
    }
   ],
   "source": [
    "# %matplotlib inline\n",
    "%matplotlib\n",
    "import re\n",
    "\n",
    "import numpy as np\n",
    "import pandas as pd\n",
    "import seaborn as sns\n",
    "\n",
    "import ggplot as gp\n",
    "import matplotlib.pyplot as plt\n",
    "\n",
    "import munch\n",
    "\n",
    "import vcf"
   ]
  },
  {
   "cell_type": "code",
   "execution_count": 2,
   "metadata": {
    "collapsed": false
   },
   "outputs": [],
   "source": [
    "# set figure characteristics\n",
    "\n",
    "# size\n",
    "sns.set_context(\"poster\")\n",
    "\n",
    "# Grid style\n",
    "sns.set_style(\"whitegrid\")\n",
    "\n",
    "# colors\n",
    "sns.set_palette(sns.hls_palette(n_colors=5, h=0.59, l=0.4, s=0.75))\n",
    "\n",
    "ggplot_theme = gp.theme_seaborn(context='poster')\n",
    "ggplot_theme._rcParams['axes.labelsize'] = 26\n",
    "ggplot_theme._rcParams['font.size'] = 20\n",
    "\n",
    "color_list = [\"#0000FF\",\"#00FF00\",\"#000000\"]\n",
    "\n",
    "site_cmap =     {\"KG\": \"#FF0000\",\n",
    "                 \"OT\": \"#000000\",\n",
    "                 \"MS\": \"#0000FF\",\n",
    "                 \"NB\": \"#00FF00\"}\n",
    "manual_color_scale = gp.scale_color_manual(values=color_list)\n",
    "\n"
   ]
  },
  {
   "cell_type": "code",
   "execution_count": 3,
   "metadata": {
    "collapsed": false
   },
   "outputs": [],
   "source": [
    "# ggplot_theme._rcParams"
   ]
  },
  {
   "cell_type": "code",
   "execution_count": 4,
   "metadata": {
    "collapsed": true
   },
   "outputs": [],
   "source": [
    "# Paths\n",
    "vcf_path = \"/home/gus/remote_mounts/louise/data/genomes/glossina_fuscipes/annotations/SNPs/vcftools_out/ddrad58_populations/individuals/tsetseFINAL_14Oct2014_f2_53.recode.renamed_scaffolds.maf0_05.OT_MS_NB_indv.recode.vcf\"\n",
    "\n",
    "xls_with_infection_status = \"/home/gus/Documents/YalePostDoc/project_stuff/g_f_fucipes_uganda/ddrad58/data_from_andrea/2015-07-28_infection_status/Infection_Glossina_ddRADs_STATUS.xls\"\n",
    "\n",
    "pcadapt_err = \"/home/gus/remote_mounts/louise/data/genomes/glossina_fuscipes/annotations/SNPs/vcftools_out/ddrad58_populations/individuals/PCAdapt/results/PCAdapt_s1000_b500_k{k}.stats\"\n",
    "\n",
    "pcadapt_dir = \"/home/gus/remote_mounts/louise/data/genomes/glossina_fuscipes/annotations/SNPs/vcftools_out/ddrad58_populations/individuals/PCAdapt/results\"\n",
    "\n",
    "pcadapt_snps = \"/home/gus/remote_mounts/louise/data/genomes/glossina_fuscipes/annotations/SNPs/vcftools_out/ddrad58_populations/individuals/tsetseFINAL_14Oct2014_f2_53.recode.renamed_scaffolds.maf0_05.OT_MS_NB_indv.recode.vcfsnp\"\n",
    "\n",
    "\n",
    "\n",
    "# # Paths\n",
    "# vcf_path = \"/run/media/gus/Storage/louise/data/genomes/glossina_fuscipes/annotations/SNPs/vcftools_out/ddrad58_populations/individuals/tsetseFINAL_14Oct2014_f2_53.recode.renamed_scaffolds.maf0_05.OT_MS_NB_indv.recode.vcf\"\n",
    "\n",
    "# xls_with_infection_status = \"/home/gus/Documents/YalePostDoc/project_stuff/g_f_fucipes_uganda/ddrad58/data_from_andrea/2015-07-28_infection_status/Infection_Glossina_ddRADs_STATUS.xls\"\n",
    "\n",
    "# pcadapt_err = \"/run/media/gus/Storage/louise/data/genomes/glossina_fuscipes/annotations/SNPs/vcftools_out/ddrad58_populations/individuals/PCAdapt/results/PCAdapt_s1000_b500_k{k}.stats\"\n",
    "\n",
    "# pcadapt_dir = \"/run/media/gus/Storage/louise/data/genomes/glossina_fuscipes/annotations/SNPs/vcftools_out/ddrad58_populations/individuals/PCAdapt/results\"\n",
    "\n",
    "# pcadapt_snps = \"/run/media/gus/Storage/louise/data/genomes/glossina_fuscipes/annotations/SNPs/vcftools_out/ddrad58_populations/individuals/tsetseFINAL_14Oct2014_f2_53.recode.renamed_scaffolds.maf0_05.OT_MS_NB_indv.recode.vcfsnp\""
   ]
  },
  {
   "cell_type": "code",
   "execution_count": 5,
   "metadata": {
    "collapsed": true
   },
   "outputs": [],
   "source": [
    "def get_errors():\n",
    "    errors = munch.Munch({'k':[], 'error':[]})\n",
    "    \n",
    "    for i in range(10):\n",
    "        k = i+1\n",
    "        with open(pcadapt_err.format(k=k), 'rU') as stats:\n",
    "            errors.k.append(k)\n",
    "            errors.error.append(float(stats.readline().rstrip('\\n').split(' ')[-1]))\n",
    "    return pd.DataFrame(errors)\n",
    "\n",
    "def recode_column(column_name):\n",
    "    \n",
    "    if isinstance(column_name,int):\n",
    "        i = column_name + 1\n",
    "        return \"Factor {i}\".format(i=i)\n",
    "    \n",
    "    if column_name.upper() == \"INDEX\":\n",
    "        return \"sample\"\n",
    "    \n",
    "def load_scores(pcadapt_scores_path, vcf_path):\n",
    "    vcf_reader = vcf.Reader(open(vcf_path, 'r'))\n",
    "    indiv_names = vcf_reader.samples\n",
    "    \n",
    "    df = pd.read_table(filepath_or_buffer=pcadapt_scores_path, sep='\\s', \n",
    "                                             header=None, names=indiv_names,\n",
    "                                             engine='python').T.reset_index()\n",
    "    df = df.rename(columns=recode_column)\n",
    "    \n",
    "    return df\n",
    "\n",
    "def load_main(pcadapt_path):\n",
    "    \n",
    "    return pd.read_table(filepath_or_buffer=pcadapt_path, sep='\\t', engine='python').dropna(axis=1)\n",
    "\n",
    "def recode_infection_data(df):\n",
    "    \n",
    "    sample_func = lambda name: \"{collection}_{individual}\".format(collection=name.replace('_','')[:4],\n",
    "                                                                  individual=name.replace('_','')[4:])\n",
    "    infection_func = lambda status: \"*\" if status == 'yes' else \"\"\n",
    "    \n",
    "    df[\"Sample\"] = df.Sample.apply(sample_func)\n",
    "    df[\"Infection\"] = df.Infection.apply(infection_func)\n",
    "    \n",
    "    return df"
   ]
  },
  {
   "cell_type": "code",
   "execution_count": 6,
   "metadata": {
    "collapsed": false
   },
   "outputs": [
    {
     "ename": "IOError",
     "evalue": "[Errno 2] No such file or directory: '/run/media/gus/Storage/louise/data/genomes/glossina_fuscipes/annotations/SNPs/vcftools_out/ddrad58_populations/individuals/PCAdapt/results/PCAdapt_s1000_b500_k1.stats'",
     "output_type": "error",
     "traceback": [
      "\u001b[1;31m---------------------------------------------------------------------------\u001b[0m",
      "\u001b[1;31mIOError\u001b[0m                                   Traceback (most recent call last)",
      "\u001b[1;32m<ipython-input-6-21135d01451c>\u001b[0m in \u001b[0;36m<module>\u001b[1;34m()\u001b[0m\n\u001b[0;32m      1\u001b[0m \u001b[1;31m# load errors\u001b[0m\u001b[1;33m\u001b[0m\u001b[1;33m\u001b[0m\u001b[0m\n\u001b[1;32m----> 2\u001b[1;33m \u001b[0merrors\u001b[0m \u001b[1;33m=\u001b[0m \u001b[0mget_errors\u001b[0m\u001b[1;33m(\u001b[0m\u001b[1;33m)\u001b[0m\u001b[1;33m\u001b[0m\u001b[0m\n\u001b[0m\u001b[0;32m      3\u001b[0m \u001b[0merrors\u001b[0m\u001b[1;33m\u001b[0m\u001b[0m\n",
      "\u001b[1;32m<ipython-input-5-6baba8fcb03c>\u001b[0m in \u001b[0;36mget_errors\u001b[1;34m()\u001b[0m\n\u001b[0;32m      4\u001b[0m     \u001b[1;32mfor\u001b[0m \u001b[0mi\u001b[0m \u001b[1;32min\u001b[0m \u001b[0mrange\u001b[0m\u001b[1;33m(\u001b[0m\u001b[1;36m10\u001b[0m\u001b[1;33m)\u001b[0m\u001b[1;33m:\u001b[0m\u001b[1;33m\u001b[0m\u001b[0m\n\u001b[0;32m      5\u001b[0m         \u001b[0mk\u001b[0m \u001b[1;33m=\u001b[0m \u001b[0mi\u001b[0m\u001b[1;33m+\u001b[0m\u001b[1;36m1\u001b[0m\u001b[1;33m\u001b[0m\u001b[0m\n\u001b[1;32m----> 6\u001b[1;33m         \u001b[1;32mwith\u001b[0m \u001b[0mopen\u001b[0m\u001b[1;33m(\u001b[0m\u001b[0mpcadapt_err\u001b[0m\u001b[1;33m.\u001b[0m\u001b[0mformat\u001b[0m\u001b[1;33m(\u001b[0m\u001b[0mk\u001b[0m\u001b[1;33m=\u001b[0m\u001b[0mk\u001b[0m\u001b[1;33m)\u001b[0m\u001b[1;33m,\u001b[0m \u001b[1;34m'rU'\u001b[0m\u001b[1;33m)\u001b[0m \u001b[1;32mas\u001b[0m \u001b[0mstats\u001b[0m\u001b[1;33m:\u001b[0m\u001b[1;33m\u001b[0m\u001b[0m\n\u001b[0m\u001b[0;32m      7\u001b[0m             \u001b[0merrors\u001b[0m\u001b[1;33m.\u001b[0m\u001b[0mk\u001b[0m\u001b[1;33m.\u001b[0m\u001b[0mappend\u001b[0m\u001b[1;33m(\u001b[0m\u001b[0mk\u001b[0m\u001b[1;33m)\u001b[0m\u001b[1;33m\u001b[0m\u001b[0m\n\u001b[0;32m      8\u001b[0m             \u001b[0merrors\u001b[0m\u001b[1;33m.\u001b[0m\u001b[0merror\u001b[0m\u001b[1;33m.\u001b[0m\u001b[0mappend\u001b[0m\u001b[1;33m(\u001b[0m\u001b[0mfloat\u001b[0m\u001b[1;33m(\u001b[0m\u001b[0mstats\u001b[0m\u001b[1;33m.\u001b[0m\u001b[0mreadline\u001b[0m\u001b[1;33m(\u001b[0m\u001b[1;33m)\u001b[0m\u001b[1;33m.\u001b[0m\u001b[0mrstrip\u001b[0m\u001b[1;33m(\u001b[0m\u001b[1;34m'\\n'\u001b[0m\u001b[1;33m)\u001b[0m\u001b[1;33m.\u001b[0m\u001b[0msplit\u001b[0m\u001b[1;33m(\u001b[0m\u001b[1;34m' '\u001b[0m\u001b[1;33m)\u001b[0m\u001b[1;33m[\u001b[0m\u001b[1;33m-\u001b[0m\u001b[1;36m1\u001b[0m\u001b[1;33m]\u001b[0m\u001b[1;33m)\u001b[0m\u001b[1;33m)\u001b[0m\u001b[1;33m\u001b[0m\u001b[0m\n",
      "\u001b[1;31mIOError\u001b[0m: [Errno 2] No such file or directory: '/run/media/gus/Storage/louise/data/genomes/glossina_fuscipes/annotations/SNPs/vcftools_out/ddrad58_populations/individuals/PCAdapt/results/PCAdapt_s1000_b500_k1.stats'"
     ]
    }
   ],
   "source": [
    "# # load errors\n",
    "# errors = get_errors()\n",
    "# errors"
   ]
  },
  {
   "cell_type": "code",
   "execution_count": null,
   "metadata": {
    "collapsed": false
   },
   "outputs": [],
   "source": [
    "# gp_errors = gp.ggplot(errors, gp.aes('k', 'error')) \\\n",
    "#     + gp.geom_point(size=80) \\\n",
    "#     + ggplot_theme\n",
    "\n",
    "# my_plots[\"gp_errors\"] = gp_errors \n",
    "# gp_errors"
   ]
  },
  {
   "cell_type": "code",
   "execution_count": null,
   "metadata": {
    "collapsed": true
   },
   "outputs": [],
   "source": []
  },
  {
   "cell_type": "code",
   "execution_count": 8,
   "metadata": {
    "collapsed": false
   },
   "outputs": [
    {
     "data": {
      "text/html": [
       "<div>\n",
       "<table border=\"1\" class=\"dataframe\">\n",
       "  <thead>\n",
       "    <tr style=\"text-align: right;\">\n",
       "      <th></th>\n",
       "      <th>Sample</th>\n",
       "      <th>Infection</th>\n",
       "    </tr>\n",
       "  </thead>\n",
       "  <tbody>\n",
       "    <tr>\n",
       "      <th>0</th>\n",
       "      <td>KG10_044</td>\n",
       "      <td>*</td>\n",
       "    </tr>\n",
       "    <tr>\n",
       "      <th>1</th>\n",
       "      <td>KG10_057</td>\n",
       "      <td>*</td>\n",
       "    </tr>\n",
       "    <tr>\n",
       "      <th>2</th>\n",
       "      <td>OT11_0052</td>\n",
       "      <td>*</td>\n",
       "    </tr>\n",
       "    <tr>\n",
       "      <th>3</th>\n",
       "      <td>OT11_0072</td>\n",
       "      <td>*</td>\n",
       "    </tr>\n",
       "    <tr>\n",
       "      <th>4</th>\n",
       "      <td>OT11_0073</td>\n",
       "      <td>*</td>\n",
       "    </tr>\n",
       "    <tr>\n",
       "      <th>5</th>\n",
       "      <td>OT11_0079</td>\n",
       "      <td>*</td>\n",
       "    </tr>\n",
       "    <tr>\n",
       "      <th>6</th>\n",
       "      <td>OT11_0047</td>\n",
       "      <td></td>\n",
       "    </tr>\n",
       "    <tr>\n",
       "      <th>7</th>\n",
       "      <td>OT11_0048</td>\n",
       "      <td></td>\n",
       "    </tr>\n",
       "    <tr>\n",
       "      <th>8</th>\n",
       "      <td>OT11_0049</td>\n",
       "      <td></td>\n",
       "    </tr>\n",
       "    <tr>\n",
       "      <th>9</th>\n",
       "      <td>NB11_005</td>\n",
       "      <td>*</td>\n",
       "    </tr>\n",
       "  </tbody>\n",
       "</table>\n",
       "</div>"
      ],
      "text/plain": [
       "      Sample Infection\n",
       "0   KG10_044         *\n",
       "1   KG10_057         *\n",
       "2  OT11_0052         *\n",
       "3  OT11_0072         *\n",
       "4  OT11_0073         *\n",
       "5  OT11_0079         *\n",
       "6  OT11_0047          \n",
       "7  OT11_0048          \n",
       "8  OT11_0049          \n",
       "9   NB11_005         *"
      ]
     },
     "execution_count": 8,
     "metadata": {},
     "output_type": "execute_result"
    }
   ],
   "source": [
    "# load infection status tables\n",
    "infection_data = pd.read_excel(xls_with_infection_status, sheetname=\"InfectionState\")\n",
    "infection_data = recode_infection_data(infection_data[[\"Sample\",\"Infection\"]].dropna())\n",
    "infection_data.head(10)"
   ]
  },
  {
   "cell_type": "code",
   "execution_count": 9,
   "metadata": {
    "collapsed": false
   },
   "outputs": [
    {
     "ename": "IOError",
     "evalue": "[Errno 2] No such file or directory: '/run/media/gus/Storage/louise/data/genomes/glossina_fuscipes/annotations/SNPs/vcftools_out/ddrad58_populations/individuals/tsetseFINAL_14Oct2014_f2_53.recode.renamed_scaffolds.maf0_05.OT_MS_NB_indv.recode.vcf'",
     "output_type": "error",
     "traceback": [
      "\u001b[1;31m---------------------------------------------------------------------------\u001b[0m",
      "\u001b[1;31mIOError\u001b[0m                                   Traceback (most recent call last)",
      "\u001b[1;32m<ipython-input-9-acdc9e11a952>\u001b[0m in \u001b[0;36m<module>\u001b[1;34m()\u001b[0m\n\u001b[0;32m      1\u001b[0m \u001b[1;31m# load scores\u001b[0m\u001b[1;33m\u001b[0m\u001b[1;33m\u001b[0m\u001b[0m\n\u001b[0;32m      2\u001b[0m PCAdapt_s1000_b500_k2_scores = load_scores(pcadapt_scores_path=pcadapt_dir+\"/PCAdapt_s1000_b500_k2.scores\",\n\u001b[1;32m----> 3\u001b[1;33m                                            vcf_path=vcf_path)\n\u001b[0m\u001b[0;32m      4\u001b[0m \u001b[1;33m\u001b[0m\u001b[0m\n\u001b[0;32m      5\u001b[0m \u001b[1;33m\u001b[0m\u001b[0m\n",
      "\u001b[1;32m<ipython-input-5-6baba8fcb03c>\u001b[0m in \u001b[0;36mload_scores\u001b[1;34m(pcadapt_scores_path, vcf_path)\u001b[0m\n\u001b[0;32m     19\u001b[0m \u001b[1;33m\u001b[0m\u001b[0m\n\u001b[0;32m     20\u001b[0m \u001b[1;32mdef\u001b[0m \u001b[0mload_scores\u001b[0m\u001b[1;33m(\u001b[0m\u001b[0mpcadapt_scores_path\u001b[0m\u001b[1;33m,\u001b[0m \u001b[0mvcf_path\u001b[0m\u001b[1;33m)\u001b[0m\u001b[1;33m:\u001b[0m\u001b[1;33m\u001b[0m\u001b[0m\n\u001b[1;32m---> 21\u001b[1;33m     \u001b[0mvcf_reader\u001b[0m \u001b[1;33m=\u001b[0m \u001b[0mvcf\u001b[0m\u001b[1;33m.\u001b[0m\u001b[0mReader\u001b[0m\u001b[1;33m(\u001b[0m\u001b[0mopen\u001b[0m\u001b[1;33m(\u001b[0m\u001b[0mvcf_path\u001b[0m\u001b[1;33m,\u001b[0m \u001b[1;34m'r'\u001b[0m\u001b[1;33m)\u001b[0m\u001b[1;33m)\u001b[0m\u001b[1;33m\u001b[0m\u001b[0m\n\u001b[0m\u001b[0;32m     22\u001b[0m     \u001b[0mindiv_names\u001b[0m \u001b[1;33m=\u001b[0m \u001b[0mvcf_reader\u001b[0m\u001b[1;33m.\u001b[0m\u001b[0msamples\u001b[0m\u001b[1;33m\u001b[0m\u001b[0m\n\u001b[0;32m     23\u001b[0m \u001b[1;33m\u001b[0m\u001b[0m\n",
      "\u001b[1;31mIOError\u001b[0m: [Errno 2] No such file or directory: '/run/media/gus/Storage/louise/data/genomes/glossina_fuscipes/annotations/SNPs/vcftools_out/ddrad58_populations/individuals/tsetseFINAL_14Oct2014_f2_53.recode.renamed_scaffolds.maf0_05.OT_MS_NB_indv.recode.vcf'"
     ]
    }
   ],
   "source": [
    "# load scores\n",
    "PCAdapt_s1000_b500_k2_scores = load_scores(pcadapt_scores_path=pcadapt_dir+\"/PCAdapt_s1000_b500_k2.scores\",\n",
    "                                           vcf_path=vcf_path)\n",
    "\n",
    "\n",
    "PCAdapt_s1000_b500_k2_scores.head()"
   ]
  },
  {
   "cell_type": "code",
   "execution_count": null,
   "metadata": {
    "collapsed": false
   },
   "outputs": [],
   "source": [
    "# Load main pcadapt result file\n",
    "PCAdapt_s1000_b500_k2 = load_main(pcadapt_path=pcadapt_dir+\"/PCAdapt_s1000_b500_k2\")\n",
    "PCAdapt_s1000_b500_k2.head()"
   ]
  },
  {
   "cell_type": "markdown",
   "metadata": {},
   "source": [
    "# Plotting functions"
   ]
  },
  {
   "cell_type": "code",
   "execution_count": null,
   "metadata": {
    "collapsed": false
   },
   "outputs": [],
   "source": [
    "# set labels\n",
    "def set_site_names(df):\n",
    "    re_site = re.compile('\\A\\D{,3}')\n",
    "    df[\"site\"] = df['sample'].apply(lambda indiv: re_site.findall(indiv)[0])\n",
    "    df.sort(columns='sample', inplace=True)\n",
    "    df.reset_index(inplace=True)\n",
    "    df[\"individuals\"] = df.index.values + 1\n",
    "\n",
    "    return df.drop([\"index\"], axis=1)\n",
    "\n",
    "# plot factors vs individuals\n",
    "\n",
    "def plot_factors_v_indivs(df):\n",
    "    \n",
    "    plt.figure(figsize=(20, 6))\n",
    "    f = sns.stripplot(x=\"Factor 2\", y=\"Factor 1\", hue=\"site\", data=df, jitter=False, split=True)\n",
    "#     f = plt.scatter(x=df[\"Factor 1\"], y=df[\"Factor 2\"], c=df[\"site\"],cmap=sns.cmap)\n",
    "    return f\n",
    "    \n"
   ]
  },
  {
   "cell_type": "code",
   "execution_count": null,
   "metadata": {
    "collapsed": true
   },
   "outputs": [],
   "source": [
    "my_plots = {}"
   ]
  },
  {
   "cell_type": "code",
   "execution_count": null,
   "metadata": {
    "collapsed": true
   },
   "outputs": [],
   "source": [
    "PCAdapt_s1000_b500_k2_scores = set_site_names(PCAdapt_s1000_b500_k2_scores)"
   ]
  },
  {
   "cell_type": "code",
   "execution_count": null,
   "metadata": {
    "collapsed": false
   },
   "outputs": [],
   "source": [
    "PCAdapt_s1000_b500_k2_scores.sort(\"Factor 2\", inplace=True)\n",
    "PCAdapt_s1000_b500_k2_scores.head(15)"
   ]
  },
  {
   "cell_type": "code",
   "execution_count": null,
   "metadata": {
    "collapsed": false
   },
   "outputs": [],
   "source": [
    "# join infection state to the scores table\n",
    "PCAdapt_s1000_b500_k2_scores = PCAdapt_s1000_b500_k2_scores.merge(right= infection_data, \n",
    "                                                                  how='left', \n",
    "                                                                  on=None, left_on=\"sample\", right_on=\"Sample\", \n",
    "                                                                  left_index=False, right_index=False, \n",
    "                                                                  sort=False, suffixes=('_x', '_y'), \n",
    "                                                                  copy=True)\n",
    "PCAdapt_s1000_b500_k2_scores.head()"
   ]
  },
  {
   "cell_type": "code",
   "execution_count": null,
   "metadata": {
    "collapsed": false
   },
   "outputs": [],
   "source": [
    "gp_factor1 = gp.ggplot(PCAdapt_s1000_b500_k2_scores, gp.aes('individuals', 'Factor 1', color='site')) \\\n",
    "    + gp.geom_point(size=80) \\\n",
    "    + ggplot_theme + manual_color_scale\n",
    "\n",
    "my_plots[\"gp_factor1\"] = gp_factor1 \n",
    "gp_factor1"
   ]
  },
  {
   "cell_type": "code",
   "execution_count": null,
   "metadata": {
    "collapsed": false
   },
   "outputs": [],
   "source": [
    "gp_factor2 = gp.ggplot(PCAdapt_s1000_b500_k2_scores, gp.aes('individuals', 'Factor 2', color='site')) \\\n",
    "    + gp.geom_point(size=80) \\\n",
    "    + ggplot_theme + manual_color_scale\n",
    "my_plots[\"gp_factor2\"] = gp_factor2\n",
    "gp_factor2"
   ]
  },
  {
   "cell_type": "code",
   "execution_count": null,
   "metadata": {
    "collapsed": false
   },
   "outputs": [],
   "source": [
    "# plt.figure(figsize=(12,12))\n",
    "gp_factor1x2 = gp.ggplot(PCAdapt_s1000_b500_k2_scores, gp.aes('Factor 1', 'Factor 2', color='site')) \n",
    "gp_factor1x2 += gp.geom_point(size=80)\n",
    "gp_factor1x2 += ggplot_theme\n",
    "gp_factor1x2 += manual_color_scale\n",
    "my_plots[\"gp_factor1x2\"] = gp_factor1x2\n",
    "gp_factor1x2"
   ]
  },
  {
   "cell_type": "code",
   "execution_count": null,
   "metadata": {
    "collapsed": false
   },
   "outputs": [],
   "source": [
    "gp_factor1x2_inf = gp.ggplot(PCAdapt_s1000_b500_k2_scores, gp.aes('Factor 1', 'Factor 2', color='site', label=\"Infection\")) \n",
    "gp_factor1x2_inf += gp.geom_point(size=80)\n",
    "gp_factor1x2_inf += ggplot_theme\n",
    "gp_factor1x2_inf += gp.geom_text(color=\"m\",size=20)\n",
    "gp_factor1x2_inf += manual_color_scale\n",
    "my_plots[\"gp_factor1x2_inf\"] = gp_factor1x2_inf\n",
    "gp_factor1x2_inf"
   ]
  },
  {
   "cell_type": "code",
   "execution_count": null,
   "metadata": {
    "collapsed": false
   },
   "outputs": [],
   "source": [
    "def get_factors_rename_map(df):    \n",
    "    column_map = {}\n",
    "    for k,v in zip(df.columns, list(np.arange(0,len(df.columns))+1)):\n",
    "        column_map[k] = \"Factor {v}\".format(v=str(v))\n",
    "\n",
    "    return column_map\n",
    "\n",
    "def assign_factors_to_snps(df):\n",
    "    factor_ps = df.iloc[:,2:]\n",
    "    factor_name_map = get_factors_rename_map(factor_ps)\n",
    "    factor_ps = factor_ps.rename(columns=factor_name_map)\n",
    "    \n",
    "    factor_id = factor_ps.apply(lambda x: x.argmax(), axis = 1)\n",
    "    \n",
    "    df['Factor'] = factor_id\n",
    "    df.rename(columns=factor_name_map, inplace=True)\n",
    "    \n",
    "    return df\n",
    "\n",
    "def add_snp_number(df):\n",
    "    df[\"SNP\"] = df.index +1\n",
    "    return df\n",
    "\n",
    "def plot_factor_SNPs(df):\n",
    "    pass\n",
    "    "
   ]
  },
  {
   "cell_type": "code",
   "execution_count": null,
   "metadata": {
    "collapsed": false
   },
   "outputs": [],
   "source": [
    "PCAdapt_s1000_b500_k2.head()"
   ]
  },
  {
   "cell_type": "code",
   "execution_count": null,
   "metadata": {
    "collapsed": false
   },
   "outputs": [],
   "source": [
    "PCAdapt_s1000_b500_k2_ = PCAdapt_s1000_b500_k2.copy()\n",
    "PCAdapt_s1000_b500_k2_.head()"
   ]
  },
  {
   "cell_type": "code",
   "execution_count": null,
   "metadata": {
    "collapsed": false
   },
   "outputs": [],
   "source": [
    "# pdb"
   ]
  },
  {
   "cell_type": "code",
   "execution_count": null,
   "metadata": {
    "collapsed": false,
    "scrolled": false
   },
   "outputs": [],
   "source": [
    "f = assign_factors_to_snps(PCAdapt_s1000_b500_k2_)"
   ]
  },
  {
   "cell_type": "code",
   "execution_count": null,
   "metadata": {
    "collapsed": false,
    "scrolled": true
   },
   "outputs": [],
   "source": [
    "f.head(18)"
   ]
  },
  {
   "cell_type": "code",
   "execution_count": null,
   "metadata": {
    "collapsed": true
   },
   "outputs": [],
   "source": [
    "f = add_snp_number(f)"
   ]
  },
  {
   "cell_type": "code",
   "execution_count": null,
   "metadata": {
    "collapsed": false
   },
   "outputs": [],
   "source": [
    "f.head()"
   ]
  },
  {
   "cell_type": "code",
   "execution_count": null,
   "metadata": {
    "collapsed": false
   },
   "outputs": [],
   "source": [
    "zones = pd.DataFrame(data={'Strength of evidence':[\"Worth a mention\",\"Substantial\"],\n",
    "                           'logBF':[0,0.5],\n",
    "                           'SNP':[75000,75000],\n",
    "                          })"
   ]
  },
  {
   "cell_type": "code",
   "execution_count": null,
   "metadata": {
    "collapsed": false
   },
   "outputs": [],
   "source": [
    "zones.head()"
   ]
  },
  {
   "cell_type": "code",
   "execution_count": null,
   "metadata": {
    "collapsed": false
   },
   "outputs": [],
   "source": [
    "aes_lines = gp.aes(#linetype=None,\n",
    "                   color=\"Strength of evidence\",\n",
    "                   x='SNP',\n",
    "                   y='logBF', \n",
    "                   ) \n",
    "\n",
    "aes_dots = gp.aes(x='SNP', \n",
    "                  y='logBF', \n",
    "                  color='Factor')"
   ]
  },
  {
   "cell_type": "code",
   "execution_count": null,
   "metadata": {
    "collapsed": false
   },
   "outputs": [],
   "source": [
    "lines = gp.geom_line(aes_lines, \n",
    "                     size=3, \n",
    "                     data=zones)\n",
    "\n",
    "dots = gp.geom_point(aes_dots, \n",
    "                     alpha=0.6, \n",
    "                     data=f)"
   ]
  },
  {
   "cell_type": "code",
   "execution_count": null,
   "metadata": {
    "collapsed": false,
    "scrolled": false
   },
   "outputs": [],
   "source": [
    "# gp_local_adapt = gp.ggplot(aes_dots,f)\n",
    "# gp_local_adapt += gp.theme_seaborn()\n",
    "# my_plots[\"gp_local_adapt\"] = gp_local_adapt\n",
    "# gp_local_adapt + lines + dots + ggplot_theme"
   ]
  },
  {
   "cell_type": "code",
   "execution_count": null,
   "metadata": {
    "collapsed": false
   },
   "outputs": [],
   "source": [
    "gp_local_adapt = gp.ggplot(f, gp.aes('SNP', 'logBF', color='Factor', xmin=0, xmax=len(f)))\n",
    "gp_local_adapt += gp.geom_point(alpha=0.6, size=60)\n",
    "gp_local_adapt += gp.geom_hline(yintercept=[0], show_guide=True, color='k', linetype='--', size=3)\n",
    "# gp_local_adapt += gp.geom_text(gp.aes(x=\"x\", y=\"y\", label=\"LineKind\"),data=zones)\n",
    "gp_local_adapt += ggplot_theme\n",
    "my_plots[\"gp_local_adapt\"] = gp_local_adapt\n",
    "\n",
    "gp_local_adapt"
   ]
  },
  {
   "cell_type": "markdown",
   "metadata": {},
   "source": [
    "# Identify which SNPs are the probable outliers"
   ]
  },
  {
   "cell_type": "code",
   "execution_count": 33,
   "metadata": {
    "collapsed": false
   },
   "outputs": [
    {
     "data": {
      "text/html": [
       "<div>\n",
       "<table border=\"1\" class=\"dataframe\">\n",
       "  <thead>\n",
       "    <tr style=\"text-align: right;\">\n",
       "      <th></th>\n",
       "      <th>logBF</th>\n",
       "      <th>logPO</th>\n",
       "      <th>Factor 1</th>\n",
       "      <th>Factor 2</th>\n",
       "      <th>Factor</th>\n",
       "      <th>SNP</th>\n",
       "    </tr>\n",
       "  </thead>\n",
       "  <tbody>\n",
       "    <tr>\n",
       "      <th>22488</th>\n",
       "      <td>0.145904</td>\n",
       "      <td>-2.809855</td>\n",
       "      <td>0.022371</td>\n",
       "      <td>0.977629</td>\n",
       "      <td>Factor 2</td>\n",
       "      <td>22489</td>\n",
       "    </tr>\n",
       "    <tr>\n",
       "      <th>22487</th>\n",
       "      <td>0.145718</td>\n",
       "      <td>-2.810041</td>\n",
       "      <td>0.022444</td>\n",
       "      <td>0.977556</td>\n",
       "      <td>Factor 2</td>\n",
       "      <td>22488</td>\n",
       "    </tr>\n",
       "    <tr>\n",
       "      <th>40971</th>\n",
       "      <td>0.098694</td>\n",
       "      <td>-2.857064</td>\n",
       "      <td>0.025200</td>\n",
       "      <td>0.974800</td>\n",
       "      <td>Factor 2</td>\n",
       "      <td>40972</td>\n",
       "    </tr>\n",
       "    <tr>\n",
       "      <th>22278</th>\n",
       "      <td>0.054760</td>\n",
       "      <td>-2.900998</td>\n",
       "      <td>0.028083</td>\n",
       "      <td>0.971917</td>\n",
       "      <td>Factor 2</td>\n",
       "      <td>22279</td>\n",
       "    </tr>\n",
       "    <tr>\n",
       "      <th>39523</th>\n",
       "      <td>0.012381</td>\n",
       "      <td>-2.943377</td>\n",
       "      <td>0.030552</td>\n",
       "      <td>0.969448</td>\n",
       "      <td>Factor 2</td>\n",
       "      <td>39524</td>\n",
       "    </tr>\n",
       "    <tr>\n",
       "      <th>55935</th>\n",
       "      <td>0.001190</td>\n",
       "      <td>-2.954569</td>\n",
       "      <td>0.031516</td>\n",
       "      <td>0.968484</td>\n",
       "      <td>Factor 2</td>\n",
       "      <td>55936</td>\n",
       "    </tr>\n",
       "  </tbody>\n",
       "</table>\n",
       "</div>"
      ],
      "text/plain": [
       "          logBF     logPO  Factor 1  Factor 2    Factor    SNP\n",
       "22488  0.145904 -2.809855  0.022371  0.977629  Factor 2  22489\n",
       "22487  0.145718 -2.810041  0.022444  0.977556  Factor 2  22488\n",
       "40971  0.098694 -2.857064  0.025200  0.974800  Factor 2  40972\n",
       "22278  0.054760 -2.900998  0.028083  0.971917  Factor 2  22279\n",
       "39523  0.012381 -2.943377  0.030552  0.969448  Factor 2  39524\n",
       "55935  0.001190 -2.954569  0.031516  0.968484  Factor 2  55936"
      ]
     },
     "execution_count": 33,
     "metadata": {},
     "output_type": "execute_result"
    }
   ],
   "source": [
    "snp_outliers = f.query(\"logBF >= 0\").sort('logBF',ascending=False)\n",
    "snp_outliers"
   ]
  },
  {
   "cell_type": "code",
   "execution_count": 34,
   "metadata": {
    "collapsed": false
   },
   "outputs": [],
   "source": [
    "snps = pd.read_table(pcadapt_snps, sep=' ', header=None)"
   ]
  },
  {
   "cell_type": "code",
   "execution_count": 35,
   "metadata": {
    "collapsed": true
   },
   "outputs": [],
   "source": [
    "snps[\"SNP\"] = snps.index.values + 1"
   ]
  },
  {
   "cell_type": "code",
   "execution_count": 36,
   "metadata": {
    "collapsed": false
   },
   "outputs": [
    {
     "data": {
      "text/html": [
       "<div>\n",
       "<table border=\"1\" class=\"dataframe\">\n",
       "  <thead>\n",
       "    <tr style=\"text-align: right;\">\n",
       "      <th></th>\n",
       "      <th>0</th>\n",
       "      <th>1</th>\n",
       "      <th>2</th>\n",
       "      <th>3</th>\n",
       "      <th>4</th>\n",
       "      <th>5</th>\n",
       "      <th>6</th>\n",
       "      <th>7</th>\n",
       "      <th>8</th>\n",
       "      <th>9</th>\n",
       "      <th>SNP</th>\n",
       "    </tr>\n",
       "  </thead>\n",
       "  <tbody>\n",
       "    <tr>\n",
       "      <th>0</th>\n",
       "      <td>Scaffold0</td>\n",
       "      <td>13388</td>\n",
       "      <td>.</td>\n",
       "      <td>T</td>\n",
       "      <td>C</td>\n",
       "      <td>999</td>\n",
       "      <td>.</td>\n",
       "      <td>.</td>\n",
       "      <td>GT:PL:DP:SP:GQ</td>\n",
       "      <td>NaN</td>\n",
       "      <td>1</td>\n",
       "    </tr>\n",
       "    <tr>\n",
       "      <th>1</th>\n",
       "      <td>Scaffold0</td>\n",
       "      <td>23408</td>\n",
       "      <td>.</td>\n",
       "      <td>T</td>\n",
       "      <td>G</td>\n",
       "      <td>999</td>\n",
       "      <td>.</td>\n",
       "      <td>.</td>\n",
       "      <td>GT:PL:DP:SP:GQ</td>\n",
       "      <td>NaN</td>\n",
       "      <td>2</td>\n",
       "    </tr>\n",
       "    <tr>\n",
       "      <th>2</th>\n",
       "      <td>Scaffold0</td>\n",
       "      <td>23418</td>\n",
       "      <td>.</td>\n",
       "      <td>G</td>\n",
       "      <td>C</td>\n",
       "      <td>999</td>\n",
       "      <td>.</td>\n",
       "      <td>.</td>\n",
       "      <td>GT:PL:DP:SP:GQ</td>\n",
       "      <td>NaN</td>\n",
       "      <td>3</td>\n",
       "    </tr>\n",
       "    <tr>\n",
       "      <th>3</th>\n",
       "      <td>Scaffold0</td>\n",
       "      <td>23421</td>\n",
       "      <td>.</td>\n",
       "      <td>T</td>\n",
       "      <td>C</td>\n",
       "      <td>999</td>\n",
       "      <td>.</td>\n",
       "      <td>.</td>\n",
       "      <td>GT:PL:DP:SP:GQ</td>\n",
       "      <td>NaN</td>\n",
       "      <td>4</td>\n",
       "    </tr>\n",
       "    <tr>\n",
       "      <th>4</th>\n",
       "      <td>Scaffold0</td>\n",
       "      <td>23431</td>\n",
       "      <td>.</td>\n",
       "      <td>G</td>\n",
       "      <td>A</td>\n",
       "      <td>999</td>\n",
       "      <td>.</td>\n",
       "      <td>.</td>\n",
       "      <td>GT:PL:DP:SP:GQ</td>\n",
       "      <td>NaN</td>\n",
       "      <td>5</td>\n",
       "    </tr>\n",
       "  </tbody>\n",
       "</table>\n",
       "</div>"
      ],
      "text/plain": [
       "           0      1  2  3  4    5  6  7               8   9  SNP\n",
       "0  Scaffold0  13388  .  T  C  999  .  .  GT:PL:DP:SP:GQ NaN    1\n",
       "1  Scaffold0  23408  .  T  G  999  .  .  GT:PL:DP:SP:GQ NaN    2\n",
       "2  Scaffold0  23418  .  G  C  999  .  .  GT:PL:DP:SP:GQ NaN    3\n",
       "3  Scaffold0  23421  .  T  C  999  .  .  GT:PL:DP:SP:GQ NaN    4\n",
       "4  Scaffold0  23431  .  G  A  999  .  .  GT:PL:DP:SP:GQ NaN    5"
      ]
     },
     "execution_count": 36,
     "metadata": {},
     "output_type": "execute_result"
    }
   ],
   "source": [
    "snps.head()"
   ]
  },
  {
   "cell_type": "code",
   "execution_count": 44,
   "metadata": {
    "collapsed": false
   },
   "outputs": [
    {
     "data": {
      "text/html": [
       "<div>\n",
       "<table border=\"1\" class=\"dataframe\">\n",
       "  <thead>\n",
       "    <tr style=\"text-align: right;\">\n",
       "      <th></th>\n",
       "      <th>logBF</th>\n",
       "      <th>logPO</th>\n",
       "      <th>Factor 1</th>\n",
       "      <th>Factor 2</th>\n",
       "      <th>Factor</th>\n",
       "      <th>SNP</th>\n",
       "      <th>0</th>\n",
       "      <th>1</th>\n",
       "      <th>2</th>\n",
       "      <th>3</th>\n",
       "      <th>4</th>\n",
       "      <th>5</th>\n",
       "      <th>6</th>\n",
       "      <th>7</th>\n",
       "      <th>8</th>\n",
       "      <th>9</th>\n",
       "    </tr>\n",
       "  </thead>\n",
       "  <tbody>\n",
       "    <tr>\n",
       "      <th>0</th>\n",
       "      <td>-0.879953</td>\n",
       "      <td>-3.835711</td>\n",
       "      <td>0.809018</td>\n",
       "      <td>0.190982</td>\n",
       "      <td>Factor 1</td>\n",
       "      <td>1</td>\n",
       "      <td>Scaffold0</td>\n",
       "      <td>13388</td>\n",
       "      <td>.</td>\n",
       "      <td>T</td>\n",
       "      <td>C</td>\n",
       "      <td>999</td>\n",
       "      <td>.</td>\n",
       "      <td>.</td>\n",
       "      <td>GT:PL:DP:SP:GQ</td>\n",
       "      <td>NaN</td>\n",
       "    </tr>\n",
       "    <tr>\n",
       "      <th>1</th>\n",
       "      <td>-0.951201</td>\n",
       "      <td>-3.906960</td>\n",
       "      <td>0.786001</td>\n",
       "      <td>0.213999</td>\n",
       "      <td>Factor 1</td>\n",
       "      <td>2</td>\n",
       "      <td>Scaffold0</td>\n",
       "      <td>23408</td>\n",
       "      <td>.</td>\n",
       "      <td>T</td>\n",
       "      <td>G</td>\n",
       "      <td>999</td>\n",
       "      <td>.</td>\n",
       "      <td>.</td>\n",
       "      <td>GT:PL:DP:SP:GQ</td>\n",
       "      <td>NaN</td>\n",
       "    </tr>\n",
       "    <tr>\n",
       "      <th>2</th>\n",
       "      <td>-0.913359</td>\n",
       "      <td>-3.869118</td>\n",
       "      <td>0.800658</td>\n",
       "      <td>0.199342</td>\n",
       "      <td>Factor 1</td>\n",
       "      <td>3</td>\n",
       "      <td>Scaffold0</td>\n",
       "      <td>23418</td>\n",
       "      <td>.</td>\n",
       "      <td>G</td>\n",
       "      <td>C</td>\n",
       "      <td>999</td>\n",
       "      <td>.</td>\n",
       "      <td>.</td>\n",
       "      <td>GT:PL:DP:SP:GQ</td>\n",
       "      <td>NaN</td>\n",
       "    </tr>\n",
       "    <tr>\n",
       "      <th>3</th>\n",
       "      <td>-0.913434</td>\n",
       "      <td>-3.869192</td>\n",
       "      <td>0.800617</td>\n",
       "      <td>0.199383</td>\n",
       "      <td>Factor 1</td>\n",
       "      <td>4</td>\n",
       "      <td>Scaffold0</td>\n",
       "      <td>23421</td>\n",
       "      <td>.</td>\n",
       "      <td>T</td>\n",
       "      <td>C</td>\n",
       "      <td>999</td>\n",
       "      <td>.</td>\n",
       "      <td>.</td>\n",
       "      <td>GT:PL:DP:SP:GQ</td>\n",
       "      <td>NaN</td>\n",
       "    </tr>\n",
       "    <tr>\n",
       "      <th>4</th>\n",
       "      <td>-0.921170</td>\n",
       "      <td>-3.876929</td>\n",
       "      <td>0.798722</td>\n",
       "      <td>0.201278</td>\n",
       "      <td>Factor 1</td>\n",
       "      <td>5</td>\n",
       "      <td>Scaffold0</td>\n",
       "      <td>23431</td>\n",
       "      <td>.</td>\n",
       "      <td>G</td>\n",
       "      <td>A</td>\n",
       "      <td>999</td>\n",
       "      <td>.</td>\n",
       "      <td>.</td>\n",
       "      <td>GT:PL:DP:SP:GQ</td>\n",
       "      <td>NaN</td>\n",
       "    </tr>\n",
       "  </tbody>\n",
       "</table>\n",
       "</div>"
      ],
      "text/plain": [
       "      logBF     logPO  Factor 1  Factor 2    Factor  SNP          0      1  2  \\\n",
       "0 -0.879953 -3.835711  0.809018  0.190982  Factor 1    1  Scaffold0  13388  .   \n",
       "1 -0.951201 -3.906960  0.786001  0.213999  Factor 1    2  Scaffold0  23408  .   \n",
       "2 -0.913359 -3.869118  0.800658  0.199342  Factor 1    3  Scaffold0  23418  .   \n",
       "3 -0.913434 -3.869192  0.800617  0.199383  Factor 1    4  Scaffold0  23421  .   \n",
       "4 -0.921170 -3.876929  0.798722  0.201278  Factor 1    5  Scaffold0  23431  .   \n",
       "\n",
       "   3  4    5  6  7               8   9  \n",
       "0  T  C  999  .  .  GT:PL:DP:SP:GQ NaN  \n",
       "1  T  G  999  .  .  GT:PL:DP:SP:GQ NaN  \n",
       "2  G  C  999  .  .  GT:PL:DP:SP:GQ NaN  \n",
       "3  T  C  999  .  .  GT:PL:DP:SP:GQ NaN  \n",
       "4  G  A  999  .  .  GT:PL:DP:SP:GQ NaN  "
      ]
     },
     "execution_count": 44,
     "metadata": {},
     "output_type": "execute_result"
    }
   ],
   "source": [
    "snps_joined_location = f.join(snps[range(0,10)], how='inner', lsuffix='outlier')\n",
    "snps_joined_location.head()"
   ]
  },
  {
   "cell_type": "code",
   "execution_count": 49,
   "metadata": {
    "collapsed": true
   },
   "outputs": [],
   "source": [
    "snps_joined_location.to_csv(pcadapt_dir+'/snps_joined_location.csv', index=False)"
   ]
  },
  {
   "cell_type": "code",
   "execution_count": 37,
   "metadata": {
    "collapsed": false
   },
   "outputs": [
    {
     "data": {
      "text/html": [
       "<div>\n",
       "<table border=\"1\" class=\"dataframe\">\n",
       "  <thead>\n",
       "    <tr style=\"text-align: right;\">\n",
       "      <th></th>\n",
       "      <th>logBF</th>\n",
       "      <th>logPO</th>\n",
       "      <th>Factor 1</th>\n",
       "      <th>Factor 2</th>\n",
       "      <th>Factor</th>\n",
       "      <th>SNPoutlier</th>\n",
       "      <th>0</th>\n",
       "      <th>1</th>\n",
       "      <th>2</th>\n",
       "      <th>3</th>\n",
       "      <th>4</th>\n",
       "      <th>5</th>\n",
       "      <th>6</th>\n",
       "      <th>7</th>\n",
       "      <th>8</th>\n",
       "      <th>9</th>\n",
       "      <th>SNP</th>\n",
       "    </tr>\n",
       "  </thead>\n",
       "  <tbody>\n",
       "    <tr>\n",
       "      <th>22488</th>\n",
       "      <td>0.145904</td>\n",
       "      <td>-2.809855</td>\n",
       "      <td>0.022371</td>\n",
       "      <td>0.977629</td>\n",
       "      <td>Factor 2</td>\n",
       "      <td>22489</td>\n",
       "      <td>Scaffold150</td>\n",
       "      <td>13773</td>\n",
       "      <td>.</td>\n",
       "      <td>G</td>\n",
       "      <td>A</td>\n",
       "      <td>999</td>\n",
       "      <td>.</td>\n",
       "      <td>.</td>\n",
       "      <td>GT:PL:DP:SP:GQ</td>\n",
       "      <td>NaN</td>\n",
       "      <td>22490</td>\n",
       "    </tr>\n",
       "    <tr>\n",
       "      <th>22487</th>\n",
       "      <td>0.145718</td>\n",
       "      <td>-2.810041</td>\n",
       "      <td>0.022444</td>\n",
       "      <td>0.977556</td>\n",
       "      <td>Factor 2</td>\n",
       "      <td>22488</td>\n",
       "      <td>Scaffold150</td>\n",
       "      <td>13772</td>\n",
       "      <td>.</td>\n",
       "      <td>G</td>\n",
       "      <td>A</td>\n",
       "      <td>999</td>\n",
       "      <td>.</td>\n",
       "      <td>.</td>\n",
       "      <td>GT:PL:DP:SP:GQ</td>\n",
       "      <td>NaN</td>\n",
       "      <td>22489</td>\n",
       "    </tr>\n",
       "    <tr>\n",
       "      <th>40971</th>\n",
       "      <td>0.098694</td>\n",
       "      <td>-2.857064</td>\n",
       "      <td>0.025200</td>\n",
       "      <td>0.974800</td>\n",
       "      <td>Factor 2</td>\n",
       "      <td>40972</td>\n",
       "      <td>Scaffold250</td>\n",
       "      <td>396214</td>\n",
       "      <td>.</td>\n",
       "      <td>G</td>\n",
       "      <td>C</td>\n",
       "      <td>999</td>\n",
       "      <td>.</td>\n",
       "      <td>.</td>\n",
       "      <td>GT:PL:DP:SP:GQ</td>\n",
       "      <td>NaN</td>\n",
       "      <td>40973</td>\n",
       "    </tr>\n",
       "    <tr>\n",
       "      <th>22278</th>\n",
       "      <td>0.054760</td>\n",
       "      <td>-2.900998</td>\n",
       "      <td>0.028083</td>\n",
       "      <td>0.971917</td>\n",
       "      <td>Factor 2</td>\n",
       "      <td>22279</td>\n",
       "      <td>Scaffold144</td>\n",
       "      <td>565217</td>\n",
       "      <td>.</td>\n",
       "      <td>A</td>\n",
       "      <td>T</td>\n",
       "      <td>999</td>\n",
       "      <td>.</td>\n",
       "      <td>.</td>\n",
       "      <td>GT:PL:DP:SP:GQ</td>\n",
       "      <td>NaN</td>\n",
       "      <td>22280</td>\n",
       "    </tr>\n",
       "    <tr>\n",
       "      <th>39523</th>\n",
       "      <td>0.012381</td>\n",
       "      <td>-2.943377</td>\n",
       "      <td>0.030552</td>\n",
       "      <td>0.969448</td>\n",
       "      <td>Factor 2</td>\n",
       "      <td>39524</td>\n",
       "      <td>Scaffold207</td>\n",
       "      <td>475992</td>\n",
       "      <td>.</td>\n",
       "      <td>A</td>\n",
       "      <td>C</td>\n",
       "      <td>999</td>\n",
       "      <td>.</td>\n",
       "      <td>.</td>\n",
       "      <td>GT:PL:DP:SP:GQ</td>\n",
       "      <td>NaN</td>\n",
       "      <td>39525</td>\n",
       "    </tr>\n",
       "    <tr>\n",
       "      <th>55935</th>\n",
       "      <td>0.001190</td>\n",
       "      <td>-2.954569</td>\n",
       "      <td>0.031516</td>\n",
       "      <td>0.968484</td>\n",
       "      <td>Factor 2</td>\n",
       "      <td>55936</td>\n",
       "      <td>Scaffold368</td>\n",
       "      <td>310507</td>\n",
       "      <td>.</td>\n",
       "      <td>T</td>\n",
       "      <td>C</td>\n",
       "      <td>999</td>\n",
       "      <td>.</td>\n",
       "      <td>.</td>\n",
       "      <td>GT:PL:DP:SP:GQ</td>\n",
       "      <td>NaN</td>\n",
       "      <td>55937</td>\n",
       "    </tr>\n",
       "  </tbody>\n",
       "</table>\n",
       "</div>"
      ],
      "text/plain": [
       "          logBF     logPO  Factor 1  Factor 2    Factor  SNPoutlier  \\\n",
       "22488  0.145904 -2.809855  0.022371  0.977629  Factor 2       22489   \n",
       "22487  0.145718 -2.810041  0.022444  0.977556  Factor 2       22488   \n",
       "40971  0.098694 -2.857064  0.025200  0.974800  Factor 2       40972   \n",
       "22278  0.054760 -2.900998  0.028083  0.971917  Factor 2       22279   \n",
       "39523  0.012381 -2.943377  0.030552  0.969448  Factor 2       39524   \n",
       "55935  0.001190 -2.954569  0.031516  0.968484  Factor 2       55936   \n",
       "\n",
       "                 0       1  2  3  4    5  6  7               8   9    SNP  \n",
       "22488  Scaffold150   13773  .  G  A  999  .  .  GT:PL:DP:SP:GQ NaN  22490  \n",
       "22487  Scaffold150   13772  .  G  A  999  .  .  GT:PL:DP:SP:GQ NaN  22489  \n",
       "40971  Scaffold250  396214  .  G  C  999  .  .  GT:PL:DP:SP:GQ NaN  40973  \n",
       "22278  Scaffold144  565217  .  A  T  999  .  .  GT:PL:DP:SP:GQ NaN  22280  \n",
       "39523  Scaffold207  475992  .  A  C  999  .  .  GT:PL:DP:SP:GQ NaN  39525  \n",
       "55935  Scaffold368  310507  .  T  C  999  .  .  GT:PL:DP:SP:GQ NaN  55937  "
      ]
     },
     "execution_count": 37,
     "metadata": {},
     "output_type": "execute_result"
    }
   ],
   "source": [
    "snp_outliers_joined_location = snp_outliers.join(snps, on='SNP', how='inner', lsuffix='outlier')\n",
    "snp_outliers_joined_location"
   ]
  },
  {
   "cell_type": "code",
   "execution_count": 42,
   "metadata": {
    "collapsed": true
   },
   "outputs": [],
   "source": [
    "snp_outliers_joined_location.to_clipboard()"
   ]
  },
  {
   "cell_type": "code",
   "execution_count": 38,
   "metadata": {
    "collapsed": false
   },
   "outputs": [
    {
     "data": {
      "text/html": [
       "<div>\n",
       "<table border=\"1\" class=\"dataframe\">\n",
       "  <thead>\n",
       "    <tr style=\"text-align: right;\">\n",
       "      <th></th>\n",
       "      <th>logBF</th>\n",
       "      <th>0</th>\n",
       "      <th>1</th>\n",
       "    </tr>\n",
       "  </thead>\n",
       "  <tbody>\n",
       "    <tr>\n",
       "      <th>22488</th>\n",
       "      <td>0.145904</td>\n",
       "      <td>Scaffold150</td>\n",
       "      <td>13773</td>\n",
       "    </tr>\n",
       "    <tr>\n",
       "      <th>22487</th>\n",
       "      <td>0.145718</td>\n",
       "      <td>Scaffold150</td>\n",
       "      <td>13772</td>\n",
       "    </tr>\n",
       "    <tr>\n",
       "      <th>40971</th>\n",
       "      <td>0.098694</td>\n",
       "      <td>Scaffold250</td>\n",
       "      <td>396214</td>\n",
       "    </tr>\n",
       "    <tr>\n",
       "      <th>22278</th>\n",
       "      <td>0.054760</td>\n",
       "      <td>Scaffold144</td>\n",
       "      <td>565217</td>\n",
       "    </tr>\n",
       "    <tr>\n",
       "      <th>39523</th>\n",
       "      <td>0.012381</td>\n",
       "      <td>Scaffold207</td>\n",
       "      <td>475992</td>\n",
       "    </tr>\n",
       "    <tr>\n",
       "      <th>55935</th>\n",
       "      <td>0.001190</td>\n",
       "      <td>Scaffold368</td>\n",
       "      <td>310507</td>\n",
       "    </tr>\n",
       "  </tbody>\n",
       "</table>\n",
       "</div>"
      ],
      "text/plain": [
       "          logBF            0       1\n",
       "22488  0.145904  Scaffold150   13773\n",
       "22487  0.145718  Scaffold150   13772\n",
       "40971  0.098694  Scaffold250  396214\n",
       "22278  0.054760  Scaffold144  565217\n",
       "39523  0.012381  Scaffold207  475992\n",
       "55935  0.001190  Scaffold368  310507"
      ]
     },
     "execution_count": 38,
     "metadata": {},
     "output_type": "execute_result"
    }
   ],
   "source": [
    "snp_outliers_joined_location[[\"logBF\",0,1]]"
   ]
  },
  {
   "cell_type": "code",
   "execution_count": 39,
   "metadata": {
    "collapsed": false
   },
   "outputs": [
    {
     "name": "stderr",
     "output_type": "stream",
     "text": [
      "-c:5: SettingWithCopyWarning: \n",
      "A value is trying to be set on a copy of a slice from a DataFrame.\n",
      "Try using .loc[row_indexer,col_indexer] = value instead\n",
      "\n",
      "See the the caveats in the documentation: http://pandas.pydata.org/pandas-docs/stable/indexing.html#indexing-view-versus-copy\n"
     ]
    },
    {
     "data": {
      "text/html": [
       "<div>\n",
       "<table border=\"1\" class=\"dataframe\">\n",
       "  <thead>\n",
       "    <tr style=\"text-align: right;\">\n",
       "      <th></th>\n",
       "      <th>Seq</th>\n",
       "      <th>end</th>\n",
       "      <th>start</th>\n",
       "    </tr>\n",
       "  </thead>\n",
       "  <tbody>\n",
       "    <tr>\n",
       "      <th>22488</th>\n",
       "      <td>Scaffold150</td>\n",
       "      <td>13773</td>\n",
       "      <td>13772</td>\n",
       "    </tr>\n",
       "    <tr>\n",
       "      <th>22487</th>\n",
       "      <td>Scaffold150</td>\n",
       "      <td>13772</td>\n",
       "      <td>13771</td>\n",
       "    </tr>\n",
       "    <tr>\n",
       "      <th>40971</th>\n",
       "      <td>Scaffold250</td>\n",
       "      <td>396214</td>\n",
       "      <td>396213</td>\n",
       "    </tr>\n",
       "    <tr>\n",
       "      <th>22278</th>\n",
       "      <td>Scaffold144</td>\n",
       "      <td>565217</td>\n",
       "      <td>565216</td>\n",
       "    </tr>\n",
       "    <tr>\n",
       "      <th>39523</th>\n",
       "      <td>Scaffold207</td>\n",
       "      <td>475992</td>\n",
       "      <td>475991</td>\n",
       "    </tr>\n",
       "    <tr>\n",
       "      <th>55935</th>\n",
       "      <td>Scaffold368</td>\n",
       "      <td>310507</td>\n",
       "      <td>310506</td>\n",
       "    </tr>\n",
       "  </tbody>\n",
       "</table>\n",
       "</div>"
      ],
      "text/plain": [
       "               Seq     end   start\n",
       "22488  Scaffold150   13773   13772\n",
       "22487  Scaffold150   13772   13771\n",
       "40971  Scaffold250  396214  396213\n",
       "22278  Scaffold144  565217  565216\n",
       "39523  Scaffold207  475992  475991\n",
       "55935  Scaffold368  310507  310506"
      ]
     },
     "execution_count": 39,
     "metadata": {},
     "output_type": "execute_result"
    }
   ],
   "source": [
    "# create bed string \n",
    "\n",
    "snp_outliers_joined_location_bed = snp_outliers_joined_location[[0,1]]\n",
    "snp_outliers_joined_location_bed.columns = [\"Seq\",\"end\"]\n",
    "snp_outliers_joined_location_bed[\"start\"] = snp_outliers_joined_location_bed['end'] - 1\n",
    "snp_outliers_joined_location_bed"
   ]
  },
  {
   "cell_type": "code",
   "execution_count": 40,
   "metadata": {
    "collapsed": false
   },
   "outputs": [
    {
     "name": "stdout",
     "output_type": "stream",
     "text": [
      "               Seq     end   start\n",
      "22488  Scaffold150   13773   13772\n",
      "22487  Scaffold150   13772   13771\n",
      "40971  Scaffold250  396214  396213\n",
      "22278  Scaffold144  565217  565216\n",
      "39523  Scaffold207  475992  475991\n",
      "55935  Scaffold368  310507  310506\n"
     ]
    }
   ],
   "source": [
    "print snp_outliers_joined_location_bed.to_string()"
   ]
  },
  {
   "cell_type": "code",
   "execution_count": null,
   "metadata": {
    "collapsed": true
   },
   "outputs": [],
   "source": []
  }
 ],
 "metadata": {
  "kernelspec": {
   "display_name": "Python 2",
   "language": "python",
   "name": "python2"
  },
  "language_info": {
   "codemirror_mode": {
    "name": "ipython",
    "version": 2
   },
   "file_extension": ".py",
   "mimetype": "text/x-python",
   "name": "python",
   "nbconvert_exporter": "python",
   "pygments_lexer": "ipython2",
   "version": "2.7.10"
  }
 },
 "nbformat": 4,
 "nbformat_minor": 0
}
