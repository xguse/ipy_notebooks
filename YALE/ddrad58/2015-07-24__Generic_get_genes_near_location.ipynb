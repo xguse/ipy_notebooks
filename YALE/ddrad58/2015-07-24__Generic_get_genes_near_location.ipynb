{
 "cells": [
  {
   "cell_type": "markdown",
   "metadata": {},
   "source": [
    "## Imports:"
   ]
  },
  {
   "cell_type": "code",
   "execution_count": 1,
   "metadata": {
    "collapsed": false
   },
   "outputs": [],
   "source": [
    "# imports\n",
    "import csv\n",
    "\n",
    "from collections import defaultdict\n",
    "\n",
    "import pandas as pd\n",
    "pd.set_option('display.max_columns', 60)\n",
    "\n",
    "import munch\n",
    "\n",
    "from IPython.display import display, HTML\n",
    "\n",
    "import pybedtools as pbt\n",
    "\n",
    "import sh\n",
    "\n",
    "import tabulate\n",
    "tbl = tabulate.tabulate\n",
    "\n",
    "from spartan.utils.annotations.ensembl.gff3 import parse_gff3\n",
    "from spartan.utils.annotations.ensembl.gff3 import parse_gff3_attributes\n",
    "\n",
    "from spartan.utils.fastas import ParseFastA\n",
    "\n",
    "from spartan.utils.files import tableFile2namedTuple\n",
    "\n",
    "from spartan.utils.genome_specific.GfusI1 import GfusI1_0"
   ]
  },
  {
   "cell_type": "markdown",
   "metadata": {},
   "source": [
    "## File paths:"
   ]
  },
  {
   "cell_type": "code",
   "execution_count": 2,
   "metadata": {
    "collapsed": false
   },
   "outputs": [],
   "source": [
    "# File Paths\n",
    "\n",
    "## Fasta file for renaming contigs ----------------------------------------------------------\n",
    "fasta = \"/home/gus/remote_mounts/louise/data/genomes/glossina_fuscipes/assemblies/GfusI1/Glossina-fuscipes-IAEA_SCAFFOLDS_GfusI1.fa\"\n",
    "\n",
    "## Functional annatation (Argot2)\n",
    "fanno = \"/home/gus/remote_mounts/louise/data/genomes/glossina_fuscipes/annotations/functional/GfusI1.1_pre/argot2_out/argot_functional_annotations_ts150.h5\"\n",
    "\n",
    "## For setting up the BEDTOOLS phase\n",
    "btools_gene_models_gff3 = \"/home/gus/remote_mounts/louise/data/genomes/glossina_fuscipes/annotations/Glossina-fuscipes-IAEA_BASEFEATURES_GfusI1.1.gff3\"\n",
    "\n",
    "## Input BED etc if using file\n",
    "bed_path = \"\"\n",
    "\n",
    "## Input small bed coordinats as string if thats what youre into\n",
    "bed_string = \"\"\"Scaffold150 13770 13771\n",
    "\"\"\""
   ]
  },
  {
   "cell_type": "code",
   "execution_count": 3,
   "metadata": {
    "collapsed": false
   },
   "outputs": [],
   "source": [
    "query_bedtool = pbt.BedTool(bed_string, from_string=True)"
   ]
  },
  {
   "cell_type": "code",
   "execution_count": 4,
   "metadata": {
    "collapsed": false
   },
   "outputs": [],
   "source": [
    "name_map = GfusI1_0.get_name_map_from_fasta_headers(fasta)"
   ]
  },
  {
   "cell_type": "code",
   "execution_count": 5,
   "metadata": {
    "collapsed": false
   },
   "outputs": [
    {
     "data": {
      "text/plain": [
       "'Scaffold150'"
      ]
     },
     "execution_count": 5,
     "metadata": {},
     "output_type": "execute_result"
    }
   ],
   "source": [
    "name_map['KK351935.1']"
   ]
  },
  {
   "cell_type": "code",
   "execution_count": 6,
   "metadata": {
    "collapsed": false
   },
   "outputs": [],
   "source": [
    "# load gene models into pybedtools object and filter for only gene features\n",
    "btools_gene_models_pbt = pbt.BedTool(btools_gene_models_gff3)\n",
    "genes = btools_gene_models_pbt.filter(lambda x: x[2] == 'gene').saveas()"
   ]
  },
  {
   "cell_type": "code",
   "execution_count": 7,
   "metadata": {
    "collapsed": false
   },
   "outputs": [],
   "source": [
    "# load functional annotations\n",
    "argot2 = pd.read_hdf(path_or_buf=fanno, key='dataframe')"
   ]
  },
  {
   "cell_type": "code",
   "execution_count": 8,
   "metadata": {
    "collapsed": false
   },
   "outputs": [
    {
     "data": {
      "text/html": [
       "<div>\n",
       "<table border=\"1\" class=\"dataframe\">\n",
       "  <thead>\n",
       "    <tr style=\"text-align: right;\">\n",
       "      <th></th>\n",
       "      <th>Sequence</th>\n",
       "      <th>Aspect</th>\n",
       "      <th>GO ID</th>\n",
       "      <th>Name</th>\n",
       "      <th>Total Score</th>\n",
       "      <th>Internal Confidence</th>\n",
       "      <th>Information Content</th>\n",
       "      <th>gene_id</th>\n",
       "    </tr>\n",
       "  </thead>\n",
       "  <tbody>\n",
       "    <tr>\n",
       "      <th>0</th>\n",
       "      <td>GFUI034947-PA</td>\n",
       "      <td>P</td>\n",
       "      <td>GO:0006508</td>\n",
       "      <td>proteolysis</td>\n",
       "      <td>270.313447</td>\n",
       "      <td>0.496543</td>\n",
       "      <td>8.247696</td>\n",
       "      <td>GFUI034947</td>\n",
       "    </tr>\n",
       "    <tr>\n",
       "      <th>1</th>\n",
       "      <td>GFUI035874-PA</td>\n",
       "      <td>F</td>\n",
       "      <td>GO:0005515</td>\n",
       "      <td>protein binding</td>\n",
       "      <td>529.038456</td>\n",
       "      <td>0.500000</td>\n",
       "      <td>5.471582</td>\n",
       "      <td>GFUI035874</td>\n",
       "    </tr>\n",
       "    <tr>\n",
       "      <th>2</th>\n",
       "      <td>GFUI033625-PA</td>\n",
       "      <td>P</td>\n",
       "      <td>GO:0005980</td>\n",
       "      <td>glycogen catabolic process</td>\n",
       "      <td>307.758251</td>\n",
       "      <td>0.284597</td>\n",
       "      <td>13.424450</td>\n",
       "      <td>GFUI033625</td>\n",
       "    </tr>\n",
       "    <tr>\n",
       "      <th>3</th>\n",
       "      <td>GFUI033625-PA</td>\n",
       "      <td>F</td>\n",
       "      <td>GO:0004134</td>\n",
       "      <td>4-alpha-glucanotransferase activity</td>\n",
       "      <td>159.513252</td>\n",
       "      <td>0.177063</td>\n",
       "      <td>10.153643</td>\n",
       "      <td>GFUI033625</td>\n",
       "    </tr>\n",
       "    <tr>\n",
       "      <th>4</th>\n",
       "      <td>GFUI033625-PA</td>\n",
       "      <td>F</td>\n",
       "      <td>GO:0004135</td>\n",
       "      <td>amylo-alpha-1,6-glucosidase activity</td>\n",
       "      <td>184.352303</td>\n",
       "      <td>0.177063</td>\n",
       "      <td>11.734746</td>\n",
       "      <td>GFUI033625</td>\n",
       "    </tr>\n",
       "  </tbody>\n",
       "</table>\n",
       "</div>"
      ],
      "text/plain": [
       "        Sequence Aspect       GO ID                                  Name  \\\n",
       "0  GFUI034947-PA      P  GO:0006508                           proteolysis   \n",
       "1  GFUI035874-PA      F  GO:0005515                       protein binding   \n",
       "2  GFUI033625-PA      P  GO:0005980            glycogen catabolic process   \n",
       "3  GFUI033625-PA      F  GO:0004134   4-alpha-glucanotransferase activity   \n",
       "4  GFUI033625-PA      F  GO:0004135  amylo-alpha-1,6-glucosidase activity   \n",
       "\n",
       "   Total Score  Internal Confidence  Information Content     gene_id  \n",
       "0   270.313447             0.496543             8.247696  GFUI034947  \n",
       "1   529.038456             0.500000             5.471582  GFUI035874  \n",
       "2   307.758251             0.284597            13.424450  GFUI033625  \n",
       "3   159.513252             0.177063            10.153643  GFUI033625  \n",
       "4   184.352303             0.177063            11.734746  GFUI033625  "
      ]
     },
     "execution_count": 8,
     "metadata": {},
     "output_type": "execute_result"
    }
   ],
   "source": [
    "argot2['gene_id'] = argot2.Sequence.apply(lambda x: x[:-3])\n",
    "argot2_200 = argot2[argot2['Total Score'] >= 200]\n",
    "argot2.head()"
   ]
  },
  {
   "cell_type": "markdown",
   "metadata": {},
   "source": [
    "#### Function to create dictionary-based retrieval object for gene/SNP data:"
   ]
  },
  {
   "cell_type": "code",
   "execution_count": 15,
   "metadata": {
    "collapsed": true
   },
   "outputs": [],
   "source": [
    "def snp_vs_gff_to_DF(bedtools_out):\n",
    "    headers = [\"bed3_seq\",\n",
    "               \"bed3_start\",\n",
    "               \"bed3_end\",\n",
    "               \"gff3_seq\",\n",
    "               \"gff3_source\",\n",
    "               \"gff3_type\",\n",
    "               \"gff3_start\",\n",
    "               \"gff3_end\",\n",
    "               \"gff3_score\",\n",
    "               \"gff3_strand\",\n",
    "               \"gff3_phase\",\n",
    "               \"gff3_attributes\",]\n",
    "    df = pd.read_csv(bedtools_out.fn, sep='\\t', names=headers)\n",
    "    \n",
    "    gene_id = lambda x: parse_gff3_attributes(x)['ID']\n",
    "    \n",
    "    df['gff3_rec'] = df.gff3_attributes.apply(gene_id)\n",
    "    \n",
    "    return df\n",
    "\n",
    "def genes_near_bed(query_bedtool, gene_bedtool, annotations, w=1000):\n",
    "    df = snp_vs_gff_to_DF(query_bedtool.window(gene_bedtool, w=w))\n",
    "    df = df.merge(right=annotations,\n",
    "                  how='left',\n",
    "                  on=None,\n",
    "                  left_on='gff3_rec', \n",
    "                  right_on='gene_id')\n",
    "    return df"
   ]
  },
  {
   "cell_type": "markdown",
   "metadata": {
    "collapsed": true
   },
   "source": [
    "#  Genes located near by `query_bedtool`"
   ]
  },
  {
   "cell_type": "code",
   "execution_count": 11,
   "metadata": {
    "collapsed": false
   },
   "outputs": [],
   "source": [
    "query_out = snp_vs_gff_to_DF(query_bedtool.window(genes, w=1000))"
   ]
  },
  {
   "cell_type": "code",
   "execution_count": 12,
   "metadata": {
    "collapsed": false
   },
   "outputs": [
    {
     "data": {
      "text/html": [
       "<div>\n",
       "<table border=\"1\" class=\"dataframe\">\n",
       "  <thead>\n",
       "    <tr style=\"text-align: right;\">\n",
       "      <th></th>\n",
       "      <th>bed3_seq</th>\n",
       "      <th>bed3_start</th>\n",
       "      <th>bed3_end</th>\n",
       "      <th>gff3_seq</th>\n",
       "      <th>gff3_source</th>\n",
       "      <th>gff3_type</th>\n",
       "      <th>gff3_start</th>\n",
       "      <th>gff3_end</th>\n",
       "      <th>gff3_score</th>\n",
       "      <th>gff3_strand</th>\n",
       "      <th>gff3_phase</th>\n",
       "      <th>gff3_attributes</th>\n",
       "      <th>gff3_rec</th>\n",
       "    </tr>\n",
       "  </thead>\n",
       "  <tbody>\n",
       "    <tr>\n",
       "      <th>0</th>\n",
       "      <td>Scaffold150</td>\n",
       "      <td>13770</td>\n",
       "      <td>13771</td>\n",
       "      <td>Scaffold150</td>\n",
       "      <td>VectorBase</td>\n",
       "      <td>gene</td>\n",
       "      <td>13476</td>\n",
       "      <td>16476</td>\n",
       "      <td>.</td>\n",
       "      <td>-</td>\n",
       "      <td>.</td>\n",
       "      <td>ID=GFUI009284;biotype=protein_coding</td>\n",
       "      <td>GFUI009284</td>\n",
       "    </tr>\n",
       "    <tr>\n",
       "      <th>1</th>\n",
       "      <td>Scaffold150</td>\n",
       "      <td>13770</td>\n",
       "      <td>13771</td>\n",
       "      <td>Scaffold150</td>\n",
       "      <td>VectorBase</td>\n",
       "      <td>gene</td>\n",
       "      <td>14669</td>\n",
       "      <td>18725</td>\n",
       "      <td>.</td>\n",
       "      <td>+</td>\n",
       "      <td>.</td>\n",
       "      <td>ID=GFUI009279;biotype=protein_coding</td>\n",
       "      <td>GFUI009279</td>\n",
       "    </tr>\n",
       "  </tbody>\n",
       "</table>\n",
       "</div>"
      ],
      "text/plain": [
       "      bed3_seq  bed3_start  bed3_end     gff3_seq gff3_source gff3_type  \\\n",
       "0  Scaffold150       13770     13771  Scaffold150  VectorBase      gene   \n",
       "1  Scaffold150       13770     13771  Scaffold150  VectorBase      gene   \n",
       "\n",
       "   gff3_start  gff3_end gff3_score gff3_strand gff3_phase  \\\n",
       "0       13476     16476          .           -          .   \n",
       "1       14669     18725          .           +          .   \n",
       "\n",
       "                        gff3_attributes    gff3_rec  \n",
       "0  ID=GFUI009284;biotype=protein_coding  GFUI009284  \n",
       "1  ID=GFUI009279;biotype=protein_coding  GFUI009279  "
      ]
     },
     "execution_count": 12,
     "metadata": {},
     "output_type": "execute_result"
    }
   ],
   "source": [
    "query_out.head()"
   ]
  },
  {
   "cell_type": "code",
   "execution_count": 13,
   "metadata": {
    "collapsed": false
   },
   "outputs": [
    {
     "data": {
      "text/html": [
       "<div>\n",
       "<table border=\"1\" class=\"dataframe\">\n",
       "  <thead>\n",
       "    <tr style=\"text-align: right;\">\n",
       "      <th></th>\n",
       "      <th>bed3_seq</th>\n",
       "      <th>bed3_start</th>\n",
       "      <th>bed3_end</th>\n",
       "      <th>gff3_seq</th>\n",
       "      <th>gff3_source</th>\n",
       "      <th>gff3_type</th>\n",
       "      <th>gff3_start</th>\n",
       "      <th>gff3_end</th>\n",
       "      <th>gff3_score</th>\n",
       "      <th>gff3_strand</th>\n",
       "      <th>gff3_phase</th>\n",
       "      <th>gff3_attributes</th>\n",
       "      <th>gff3_rec</th>\n",
       "      <th>Sequence</th>\n",
       "      <th>Aspect</th>\n",
       "      <th>GO ID</th>\n",
       "      <th>Name</th>\n",
       "      <th>Total Score</th>\n",
       "      <th>Internal Confidence</th>\n",
       "      <th>Information Content</th>\n",
       "      <th>gene_id</th>\n",
       "    </tr>\n",
       "  </thead>\n",
       "  <tbody>\n",
       "    <tr>\n",
       "      <th>0</th>\n",
       "      <td>Scaffold150</td>\n",
       "      <td>13770</td>\n",
       "      <td>13771</td>\n",
       "      <td>Scaffold150</td>\n",
       "      <td>VectorBase</td>\n",
       "      <td>gene</td>\n",
       "      <td>13476</td>\n",
       "      <td>16476</td>\n",
       "      <td>.</td>\n",
       "      <td>-</td>\n",
       "      <td>.</td>\n",
       "      <td>ID=GFUI009284;biotype=protein_coding</td>\n",
       "      <td>GFUI009284</td>\n",
       "      <td>NaN</td>\n",
       "      <td>NaN</td>\n",
       "      <td>NaN</td>\n",
       "      <td>NaN</td>\n",
       "      <td>NaN</td>\n",
       "      <td>NaN</td>\n",
       "      <td>NaN</td>\n",
       "      <td>NaN</td>\n",
       "    </tr>\n",
       "    <tr>\n",
       "      <th>1</th>\n",
       "      <td>Scaffold150</td>\n",
       "      <td>13770</td>\n",
       "      <td>13771</td>\n",
       "      <td>Scaffold150</td>\n",
       "      <td>VectorBase</td>\n",
       "      <td>gene</td>\n",
       "      <td>14669</td>\n",
       "      <td>18725</td>\n",
       "      <td>.</td>\n",
       "      <td>+</td>\n",
       "      <td>.</td>\n",
       "      <td>ID=GFUI009279;biotype=protein_coding</td>\n",
       "      <td>GFUI009279</td>\n",
       "      <td>NaN</td>\n",
       "      <td>NaN</td>\n",
       "      <td>NaN</td>\n",
       "      <td>NaN</td>\n",
       "      <td>NaN</td>\n",
       "      <td>NaN</td>\n",
       "      <td>NaN</td>\n",
       "      <td>NaN</td>\n",
       "    </tr>\n",
       "  </tbody>\n",
       "</table>\n",
       "</div>"
      ],
      "text/plain": [
       "      bed3_seq  bed3_start  bed3_end     gff3_seq gff3_source gff3_type  \\\n",
       "0  Scaffold150       13770     13771  Scaffold150  VectorBase      gene   \n",
       "1  Scaffold150       13770     13771  Scaffold150  VectorBase      gene   \n",
       "\n",
       "   gff3_start  gff3_end gff3_score gff3_strand gff3_phase  \\\n",
       "0       13476     16476          .           -          .   \n",
       "1       14669     18725          .           +          .   \n",
       "\n",
       "                        gff3_attributes    gff3_rec Sequence Aspect GO ID  \\\n",
       "0  ID=GFUI009284;biotype=protein_coding  GFUI009284      NaN    NaN   NaN   \n",
       "1  ID=GFUI009279;biotype=protein_coding  GFUI009279      NaN    NaN   NaN   \n",
       "\n",
       "  Name  Total Score  Internal Confidence  Information Content gene_id  \n",
       "0  NaN          NaN                  NaN                  NaN     NaN  \n",
       "1  NaN          NaN                  NaN                  NaN     NaN  "
      ]
     },
     "execution_count": 13,
     "metadata": {},
     "output_type": "execute_result"
    }
   ],
   "source": [
    "genes_near_bed(query_bedtool=query_bedtool, gene_bedtool=genes, annotations=argot2)"
   ]
  }
 ],
 "metadata": {
  "kernelspec": {
   "display_name": "Python 2",
   "language": "python",
   "name": "python2"
  },
  "language_info": {
   "codemirror_mode": {
    "name": "ipython",
    "version": 2
   },
   "file_extension": ".py",
   "mimetype": "text/x-python",
   "name": "python",
   "nbconvert_exporter": "python",
   "pygments_lexer": "ipython2",
   "version": "2.7.11"
  }
 },
 "nbformat": 4,
 "nbformat_minor": 0
}
