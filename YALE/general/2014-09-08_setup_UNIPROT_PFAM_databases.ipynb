{
 "metadata": {
  "kernelspec": {
   "codemirror_mode": {
    "name": "ipython",
    "version": 2
   },
   "display_name": "IPython (Python 2)",
   "language": "python",
   "name": "python2"
  },
  "name": "",
  "signature": "sha256:7ff3f6d1bc116dc1cef91d6bed8964c45aaf966a8563bf81fa943bfc6fcaf9d5"
 },
 "nbformat": 3,
 "nbformat_minor": 0,
 "worksheets": [
  {
   "cells": [
    {
     "cell_type": "heading",
     "level": 1,
     "metadata": {},
     "source": [
      "Set up databases for protein function induction"
     ]
    },
    {
     "cell_type": "heading",
     "level": 3,
     "metadata": {},
     "source": [
      "The basic set up is guided by the following Argot2 help page:"
     ]
    },
    {
     "cell_type": "code",
     "collapsed": false,
     "input": [
      "%%html\n",
      "<iframe src=http://www.medcomp.medicina.unipd.it/Argot2/help/batch.html width=900 height=650></iframe>"
     ],
     "language": "python",
     "metadata": {},
     "outputs": [
      {
       "html": [
        "<iframe src=http://www.medcomp.medicina.unipd.it/Argot2/help/batch.html width=900 height=650></iframe>"
       ],
       "metadata": {},
       "output_type": "display_data",
       "text": [
        "<IPython.core.display.HTML object>"
       ]
      }
     ],
     "prompt_number": 1
    },
    {
     "cell_type": "heading",
     "level": 2,
     "metadata": {},
     "source": [
      "PFAM database retrieval:"
     ]
    },
    {
     "cell_type": "markdown",
     "metadata": {},
     "source": [
      "I used the ftp site below to get the current release as of today: **`2014-09-08`**"
     ]
    },
    {
     "cell_type": "code",
     "collapsed": false,
     "input": [
      "%%html\n",
      "<iframe src=ftp://ftp.ebi.ac.uk/pub/databases/Pfam/current_release width=900 height=650></iframe>"
     ],
     "language": "python",
     "metadata": {},
     "outputs": [
      {
       "html": [
        "<iframe src=ftp://ftp.ebi.ac.uk/pub/databases/Pfam/current_release width=900 height=650></iframe>"
       ],
       "metadata": {},
       "output_type": "display_data",
       "text": [
        "<IPython.core.display.HTML object>"
       ]
      }
     ],
     "prompt_number": 2
    },
    {
     "cell_type": "markdown",
     "metadata": {},
     "source": [
      "Used: \n",
      "\n",
      "- PFAM-A: ftp://ftp.ebi.ac.uk/pub/databases/Pfam/current_release/Pfam-A.hmm.gz\n",
      "- PFAM-B: ftp://ftp.ebi.ac.uk/pub/databases/Pfam/current_release/Pfam-B.hmm.gz\n",
      "\n",
      "Located:\n",
      "\n",
      "- Louise:\n",
      "    - /home2/wd238/data/external_multispecies_databases/PFAM \n"
     ]
    },
    {
     "cell_type": "heading",
     "level": 2,
     "metadata": {},
     "source": [
      "UNIPROT/TREMBL database retrieval:"
     ]
    },
    {
     "cell_type": "markdown",
     "metadata": {},
     "source": [
      "I used the site below to get the current release as of today: **`2014-09-08`**"
     ]
    },
    {
     "cell_type": "code",
     "collapsed": false,
     "input": [
      "%%html\n",
      "<iframe src=http://www.uniprot.org/downloads width=900 height=650></iframe>"
     ],
     "language": "python",
     "metadata": {},
     "outputs": [
      {
       "html": [
        "<iframe src=http://www.uniprot.org/downloads width=900 height=650></iframe>"
       ],
       "metadata": {},
       "output_type": "display_data",
       "text": [
        "<IPython.core.display.HTML object>"
       ]
      }
     ],
     "prompt_number": 3
    },
    {
     "cell_type": "markdown",
     "metadata": {},
     "source": [
      "Used: \n",
      "\n",
      "- UNIPROT: <ftp://ftp.uniprot.org/pub/databases/uniprot/current_release/knowledgebase/complete/uniprot_sprot.fasta.gz>\n",
      "- TrEMBL: <ftp://ftp.uniprot.org/pub/databases/uniprot/current_release/knowledgebase/complete/uniprot_trembl.fasta.gz>\n",
      "\n",
      "\n",
      "\n",
      "\n",
      "**<font color=\"red\">NOTE -- Mon Sep  8 09:14:12 EDT 2014:</font>** \n",
      "\n",
      "    - the TrEMBL database is ~17G. I am suspending download for now.  If we decided we need it, I will continue.\n",
      "\n",
      "\n",
      "Located:\n",
      "\n",
      "- Louise:\n",
      "    - `/home2/wd238/data/external_multispecies_databases/UNIPROT`\n"
     ]
    },
    {
     "cell_type": "heading",
     "level": 2,
     "metadata": {},
     "source": [
      "Local NCBI BLAST installation:"
     ]
    },
    {
     "cell_type": "markdown",
     "metadata": {},
     "source": [
      "Obtained from:\n",
      "\n",
      "- <ftp://ftp.ncbi.nlm.nih.gov/blast/executables/blast+/LATEST/ncbi-blast-2.2.29+-x64-linux.tar.gz>\n",
      "\n",
      "Downloaded to:\n",
      "\n",
      "- Louise:\n",
      "    - `/home2/wd238/src`\n",
      "    \n",
      "Installed to:\n",
      "\n",
      "- Louise:\n",
      "    - symlinked to: `/home2/wd238/local/bin`"
     ]
    },
    {
     "cell_type": "heading",
     "level": 2,
     "metadata": {},
     "source": [
      "Local HMMR installation:"
     ]
    },
    {
     "cell_type": "markdown",
     "metadata": {},
     "source": [
      "Obtained from:\n",
      "\n",
      "- <ftp://ftp.ncbi.nlm.nih.gov/blast/executables/blast+/LATEST/ncbi-blast-2.2.29+-x64-linux.tar.gz>\n",
      "\n",
      "Downloaded to:\n",
      "\n",
      "- Louise:\n",
      "    - `/home2/wd238/src`\n",
      "    \n",
      "Installed to:\n",
      "\n",
      "- Louise:\n",
      "    - symlinked to: `/home2/wd238/local/bin`"
     ]
    },
    {
     "cell_type": "markdown",
     "metadata": {},
     "source": []
    }
   ],
   "metadata": {}
  }
 ]
}