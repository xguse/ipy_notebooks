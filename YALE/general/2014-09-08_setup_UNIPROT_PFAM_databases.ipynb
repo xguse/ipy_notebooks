{
 "metadata": {
  "kernelspec": {
   "codemirror_mode": {
    "name": "ipython",
    "version": 2
   },
   "display_name": "IPython (Python 2)",
   "language": "python",
   "name": "python2"
  },
  "name": "",
  "signature": "sha256:44809d9fc287ce9a8f19da0cdc1abed8ad7cfce17760294d734ba2dfda26f40e"
 },
 "nbformat": 3,
 "nbformat_minor": 0,
 "worksheets": [
  {
   "cells": [
    {
     "cell_type": "heading",
     "level": 1,
     "metadata": {},
     "source": [
      "Set up databases for protein function induction"
     ]
    },
    {
     "cell_type": "heading",
     "level": 3,
     "metadata": {},
     "source": [
      "The basic set up is guided by the following Argot2 help page:"
     ]
    },
    {
     "cell_type": "code",
     "collapsed": false,
     "input": [
      "%%html\n",
      "<iframe src=http://www.medcomp.medicina.unipd.it/Argot2/help/batch.html width=900 height=650></iframe>"
     ],
     "language": "python",
     "metadata": {},
     "outputs": [
      {
       "html": [
        "<iframe src=http://www.medcomp.medicina.unipd.it/Argot2/help/batch.html width=900 height=650></iframe>"
       ],
       "metadata": {},
       "output_type": "display_data",
       "text": [
        "<IPython.core.display.HTML object>"
       ]
      }
     ],
     "prompt_number": 1
    },
    {
     "cell_type": "heading",
     "level": 2,
     "metadata": {},
     "source": [
      "PFAM database retrieval:"
     ]
    },
    {
     "cell_type": "markdown",
     "metadata": {},
     "source": [
      "I used the ftp site below to get the current release as of today: **`2014-09-08`**"
     ]
    },
    {
     "cell_type": "code",
     "collapsed": false,
     "input": [
      "%%html\n",
      "<iframe src=ftp://ftp.ebi.ac.uk/pub/databases/Pfam/current_release width=900 height=650></iframe>"
     ],
     "language": "python",
     "metadata": {},
     "outputs": [
      {
       "html": [
        "<iframe src=ftp://ftp.ebi.ac.uk/pub/databases/Pfam/current_release width=900 height=650></iframe>"
       ],
       "metadata": {},
       "output_type": "display_data",
       "text": [
        "<IPython.core.display.HTML object>"
       ]
      }
     ],
     "prompt_number": 2
    },
    {
     "cell_type": "markdown",
     "metadata": {},
     "source": [
      "Used: \n",
      "\n",
      "- PFAM-A: <ftp://ftp.ebi.ac.uk/pub/databases/Pfam/current_release/Pfam-A.hmm.gz>\n",
      "- PFAM-B: <ftp://ftp.ebi.ac.uk/pub/databases/Pfam/current_release/Pfam-B.hmm.gz>\n",
      "\n",
      "Located:\n",
      "\n",
      "- Louise:\n",
      "    - /home2/wd238/data/external_multispecies_databases/PFAM \n"
     ]
    },
    {
     "cell_type": "heading",
     "level": 2,
     "metadata": {},
     "source": [
      "UNIPROT/TREMBL database retrieval:"
     ]
    },
    {
     "cell_type": "markdown",
     "metadata": {},
     "source": [
      "I used the site below to get the current release as of today: **`2014-09-08`**"
     ]
    },
    {
     "cell_type": "code",
     "collapsed": false,
     "input": [
      "%%html\n",
      "<iframe src=http://www.uniprot.org/downloads width=900 height=650></iframe>"
     ],
     "language": "python",
     "metadata": {},
     "outputs": [
      {
       "html": [
        "<iframe src=http://www.uniprot.org/downloads width=900 height=650></iframe>"
       ],
       "metadata": {},
       "output_type": "display_data",
       "text": [
        "<IPython.core.display.HTML object>"
       ]
      }
     ],
     "prompt_number": 3
    },
    {
     "cell_type": "markdown",
     "metadata": {},
     "source": [
      "Used: \n",
      "\n",
      "- UNIPROT: <ftp://ftp.uniprot.org/pub/databases/uniprot/current_release/knowledgebase/complete/uniprot_sprot.fasta.gz>\n",
      "- TrEMBL: <ftp://ftp.uniprot.org/pub/databases/uniprot/current_release/knowledgebase/complete/uniprot_trembl.fasta.gz>\n",
      "\n",
      "\n",
      "\n",
      "\n",
      "**<font color=\"red\">NOTE -- Mon Sep  8 09:14:12 EDT 2014:</font>** \n",
      "\n",
      "    - the TrEMBL database is ~17G. I am suspending download for now.  If we decided we need it, I will continue.\n",
      "\n",
      "\n",
      "Located:\n",
      "\n",
      "- Louise:\n",
      "    - `/home2/wd238/data/external_multispecies_databases/UNIPROT`\n"
     ]
    },
    {
     "cell_type": "heading",
     "level": 2,
     "metadata": {},
     "source": [
      "Local NCBI BLAST installation:"
     ]
    },
    {
     "cell_type": "markdown",
     "metadata": {},
     "source": [
      "Obtained from:\n",
      "\n",
      "- <ftp://ftp.ncbi.nlm.nih.gov/blast/executables/blast+/LATEST/ncbi-blast-2.2.29+-x64-linux.tar.gz>\n",
      "\n",
      "Downloaded to:\n",
      "\n",
      "- Louise:\n",
      "    - `/home2/wd238/src`\n",
      "    \n",
      "Installed to:\n",
      "\n",
      "- Louise:\n",
      "    - symlinked to: `/home2/wd238/local/bin`"
     ]
    },
    {
     "cell_type": "heading",
     "level": 2,
     "metadata": {},
     "source": [
      "Local HMMR installation:"
     ]
    },
    {
     "cell_type": "markdown",
     "metadata": {},
     "source": [
      "Obtained from:\n",
      "\n",
      "- <http://selab.janelia.org/software/hmmer3/3.1b1/hmmer-3.1b1-linux-intel-x86_64.tar.gz>\n",
      "\n",
      "Downloaded to:\n",
      "\n",
      "- Louise:\n",
      "    - `/home2/wd238/src`\n",
      "    \n",
      "Installed to:\n",
      "\n",
      "- Louise:\n",
      "    - `/home2/wd238/local/bin`"
     ]
    },
    {
     "cell_type": "heading",
     "level": 2,
     "metadata": {},
     "source": [
      "Building UNIPROT blast databases:"
     ]
    },
    {
     "cell_type": "markdown",
     "metadata": {},
     "source": [
      "```\n",
      "makeblastdb -in $DATA/external_multispecies_databases/UNIPROT/uniprot_sprot.fasta -dbtype prot -out $INDEXES/blast/uniprot_sprot.fasta\n",
      "```"
     ]
    },
    {
     "cell_type": "markdown",
     "metadata": {},
     "source": [
      "Output:\n",
      "```\n",
      "Building a new DB, current time: 09/08/2014 14:01:06\n",
      "New DB name:   /home2/wd238/data/indexes/blast/uniprot_sprot.fasta\n",
      "New DB title:  /home2/wd238/data/external_multispecies_databases/UNIPROT/uniprot_sprot.fasta\n",
      "Sequence type: Protein\n",
      "Keep Linkouts: T\n",
      "Keep MBits: T\n",
      "Maximum file size: 1000000000B\n",
      "Adding sequences from FASTA; added 546238 sequences in 37.2087 seconds.\n",
      "```"
     ]
    },
    {
     "cell_type": "heading",
     "level": 2,
     "metadata": {},
     "source": [
      "Building PFAM hmmr databases:"
     ]
    },
    {
     "cell_type": "markdown",
     "metadata": {},
     "source": [
      "Concatonate the PFAM databases to a new combined A+B db and `hmmpress` all to speed up searches.\n",
      "```\n",
      "cd ~DATA/external_multispecies_databases/PFAM\n",
      "\n",
      "cat Pfam-A.hmm Pfam-B.hmm > Pfam-AB.hmm\n",
      "\n",
      "hmmpress Pfam-A.hmm\n",
      "hmmpress Pfam-AB.hmm\n",
      "hmmpress Pfam-B.hmm\n",
      "\n",
      "mv *.hmm.* /home2/wd238/data/indexes/hmmer/\n",
      "```"
     ]
    },
    {
     "cell_type": "markdown",
     "metadata": {},
     "source": []
    }
   ],
   "metadata": {}
  }
 ]
}