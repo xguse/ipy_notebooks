{
 "cells": [
  {
   "cell_type": "markdown",
   "metadata": {},
   "source": [
    "# Spiroplasma vs Fly Sampling Locations\n",
    "\n",
    "These are the analyses and results regarding the spiroplasma assays and any putative biased sex distribution etc.\n",
    "\n",
    "__<font color=\"red\">ATTENTION:</font> Click here to skip directly to the [Results](#Final-Results)__:\n",
    "- [Methods Overview](#Overview-of-what-was-done:)\n",
    "- [Sex Bias Results](#Sex-Bias-Results:)\n",
    "    - [Conclusions](#Sex-Bias-Conclusions:)\n",
    "- [Geographical Bias Results](#Geographical-Bias-Results:)\n",
    "    - [Conclusions](#Geographical-Bias-Conclusions:)\n",
    "    \n",
    " ----"
   ]
  },
  {
   "cell_type": "code",
   "execution_count": 44,
   "metadata": {
    "collapsed": false
   },
   "outputs": [],
   "source": [
    "%matplotlib inline\n",
    "\n",
    "from StringIO import StringIO  # got moved to io in python3.\n",
    "\n",
    "import requests\n",
    "\n",
    "import seaborn as sns\n",
    "import pandas as pd\n",
    "pd.set_option(\"max_rows\", 100)\n",
    "pd.set_option(\"max_columns\", 100)\n",
    "\n",
    "import patsy\n",
    "import numpy as np\n",
    "import scipy as sp\n",
    "import statsmodels as smd\n",
    "import statsmodels.api as sm\n",
    "from statsmodels.formula.api import logit, glm\n",
    "\n",
    "from scipy.stats import fisher_exact\n",
    "from scipy.stats import f_oneway\n",
    "\n",
    "from spartan.utils import spandas as spd"
   ]
  },
  {
   "cell_type": "markdown",
   "metadata": {},
   "source": [
    "# Load spreadsheets"
   ]
  },
  {
   "cell_type": "code",
   "execution_count": 31,
   "metadata": {
    "collapsed": false
   },
   "outputs": [],
   "source": [
    "# get openrefined google spreadsheet data\n",
    "table_gsh = pd.read_csv(\"/home/gus/Documents/YalePostDoc/project_stuff/Spiroplasma/MF_Spiro_gsh.csv\")"
   ]
  },
  {
   "cell_type": "code",
   "execution_count": 32,
   "metadata": {
    "collapsed": false
   },
   "outputs": [],
   "source": [
    "# Get openrefined excel file data\n",
    "table_xls = pd.read_csv(\"/home/gus/Documents/YalePostDoc/project_stuff/Spiroplasma/MF_Spiro_xls.csv\")"
   ]
  },
  {
   "cell_type": "markdown",
   "metadata": {},
   "source": [
    "## Run script to load main database info into this notebook"
   ]
  },
  {
   "cell_type": "code",
   "execution_count": 4,
   "metadata": {
    "collapsed": false
   },
   "outputs": [
    {
     "name": "stdout",
     "output_type": "stream",
     "text": [
      "Main dataframe is dfp: and is only Gff.\n"
     ]
    }
   ],
   "source": [
    "%run /home/gus/Documents/YalePostDoc/project_stuff/g_f_fucipes_uganda/scripts/gff_pandas_database.py"
   ]
  },
  {
   "cell_type": "code",
   "execution_count": 5,
   "metadata": {
    "collapsed": true
   },
   "outputs": [],
   "source": [
    "def recode_dfp(df):\n",
    "    df['Collection Year'] = pd.DatetimeIndex(df.Date).year\n",
    "    df = df.rename(columns={\"Village\": \"Location Code\", \"Fly_Number\": \"Fly Number\"})\n",
    "    return df[[\"Location Code\",\"Collection Year\",\"Fly Number\",\"Sex\"]]"
   ]
  },
  {
   "cell_type": "code",
   "execution_count": 6,
   "metadata": {
    "collapsed": false
   },
   "outputs": [
    {
     "data": {
      "text/html": [
       "<div>\n",
       "<table border=\"1\" class=\"dataframe\">\n",
       "  <thead>\n",
       "    <tr style=\"text-align: right;\">\n",
       "      <th></th>\n",
       "      <th>Location Code</th>\n",
       "      <th>Collection Year</th>\n",
       "      <th>Fly Number</th>\n",
       "      <th>Sex</th>\n",
       "    </tr>\n",
       "  </thead>\n",
       "  <tbody>\n",
       "    <tr>\n",
       "      <th>0</th>\n",
       "      <td>UWA</td>\n",
       "      <td>2014</td>\n",
       "      <td>1</td>\n",
       "      <td>F</td>\n",
       "    </tr>\n",
       "    <tr>\n",
       "      <th>1</th>\n",
       "      <td>UWA</td>\n",
       "      <td>2014</td>\n",
       "      <td>2</td>\n",
       "      <td>F</td>\n",
       "    </tr>\n",
       "    <tr>\n",
       "      <th>2</th>\n",
       "      <td>UWA</td>\n",
       "      <td>2014</td>\n",
       "      <td>3</td>\n",
       "      <td>M</td>\n",
       "    </tr>\n",
       "    <tr>\n",
       "      <th>3</th>\n",
       "      <td>UWA</td>\n",
       "      <td>2014</td>\n",
       "      <td>4</td>\n",
       "      <td>M</td>\n",
       "    </tr>\n",
       "    <tr>\n",
       "      <th>4</th>\n",
       "      <td>UWA</td>\n",
       "      <td>2014</td>\n",
       "      <td>5</td>\n",
       "      <td>M</td>\n",
       "    </tr>\n",
       "  </tbody>\n",
       "</table>\n",
       "</div>"
      ],
      "text/plain": [
       "  Location Code  Collection Year  Fly Number Sex\n",
       "0           UWA             2014           1   F\n",
       "1           UWA             2014           2   F\n",
       "2           UWA             2014           3   M\n",
       "3           UWA             2014           4   M\n",
       "4           UWA             2014           5   M"
      ]
     },
     "execution_count": 6,
     "metadata": {},
     "output_type": "execute_result"
    }
   ],
   "source": [
    "d = recode_dfp(dfp.copy())\n",
    "d.head()"
   ]
  },
  {
   "cell_type": "markdown",
   "metadata": {},
   "source": [
    "## Recover sex data into `table_gsh` by crossref with `dfp`"
   ]
  },
  {
   "cell_type": "code",
   "execution_count": 7,
   "metadata": {
    "collapsed": false
   },
   "outputs": [],
   "source": [
    "# recover sex data into table_gsh by joining with dfp\n",
    "table_gsh = pd.merge(left=table_gsh.copy(), right=recode_dfp(dfp.copy()), \n",
    "                     how='left', \n",
    "                     on=[\"Location Code\",\"Collection Year\",\"Fly Number\"], \n",
    "                     left_on=None, right_on=None, \n",
    "                     left_index=False, right_index=False, \n",
    "                     sort=False, suffixes=('_x', '_y'), copy=True)"
   ]
  },
  {
   "cell_type": "code",
   "execution_count": 8,
   "metadata": {
    "collapsed": false
   },
   "outputs": [
    {
     "data": {
      "text/html": [
       "<div>\n",
       "<table border=\"1\" class=\"dataframe\">\n",
       "  <thead>\n",
       "    <tr style=\"text-align: right;\">\n",
       "      <th></th>\n",
       "      <th>Location Code</th>\n",
       "      <th>Collection Year</th>\n",
       "      <th>Fly Number</th>\n",
       "      <th>Spiroplasma</th>\n",
       "      <th>Sex</th>\n",
       "    </tr>\n",
       "  </thead>\n",
       "  <tbody>\n",
       "    <tr>\n",
       "      <th>0</th>\n",
       "      <td>CHU</td>\n",
       "      <td>2014</td>\n",
       "      <td>4</td>\n",
       "      <td>True</td>\n",
       "      <td>F</td>\n",
       "    </tr>\n",
       "    <tr>\n",
       "      <th>1</th>\n",
       "      <td>CHU</td>\n",
       "      <td>2014</td>\n",
       "      <td>6</td>\n",
       "      <td>False</td>\n",
       "      <td>F</td>\n",
       "    </tr>\n",
       "    <tr>\n",
       "      <th>2</th>\n",
       "      <td>CHU</td>\n",
       "      <td>2014</td>\n",
       "      <td>7</td>\n",
       "      <td>False</td>\n",
       "      <td>M</td>\n",
       "    </tr>\n",
       "    <tr>\n",
       "      <th>3</th>\n",
       "      <td>CHU</td>\n",
       "      <td>2014</td>\n",
       "      <td>10</td>\n",
       "      <td>False</td>\n",
       "      <td>M</td>\n",
       "    </tr>\n",
       "    <tr>\n",
       "      <th>4</th>\n",
       "      <td>CHU</td>\n",
       "      <td>2014</td>\n",
       "      <td>31</td>\n",
       "      <td>False</td>\n",
       "      <td>M</td>\n",
       "    </tr>\n",
       "  </tbody>\n",
       "</table>\n",
       "</div>"
      ],
      "text/plain": [
       "  Location Code  Collection Year  Fly Number Spiroplasma Sex\n",
       "0           CHU             2014           4        True   F\n",
       "1           CHU             2014           6       False   F\n",
       "2           CHU             2014           7       False   M\n",
       "3           CHU             2014          10       False   M\n",
       "4           CHU             2014          31       False   M"
      ]
     },
     "execution_count": 8,
     "metadata": {},
     "output_type": "execute_result"
    }
   ],
   "source": [
    "table_gsh.head()"
   ]
  },
  {
   "cell_type": "code",
   "execution_count": 9,
   "metadata": {
    "collapsed": false
   },
   "outputs": [
    {
     "data": {
      "text/html": [
       "<div>\n",
       "<table border=\"1\" class=\"dataframe\">\n",
       "  <thead>\n",
       "    <tr style=\"text-align: right;\">\n",
       "      <th></th>\n",
       "      <th>Collection Year</th>\n",
       "      <th>Fly Number</th>\n",
       "      <th>Location Code</th>\n",
       "      <th>Sex</th>\n",
       "      <th>Spiroplasma</th>\n",
       "    </tr>\n",
       "  </thead>\n",
       "  <tbody>\n",
       "    <tr>\n",
       "      <th>0</th>\n",
       "      <td>2014</td>\n",
       "      <td>4</td>\n",
       "      <td>CHU</td>\n",
       "      <td>F</td>\n",
       "      <td>True</td>\n",
       "    </tr>\n",
       "    <tr>\n",
       "      <th>1</th>\n",
       "      <td>2014</td>\n",
       "      <td>6</td>\n",
       "      <td>CHU</td>\n",
       "      <td>F</td>\n",
       "      <td>False</td>\n",
       "    </tr>\n",
       "    <tr>\n",
       "      <th>2</th>\n",
       "      <td>2014</td>\n",
       "      <td>7</td>\n",
       "      <td>CHU</td>\n",
       "      <td>M</td>\n",
       "      <td>False</td>\n",
       "    </tr>\n",
       "    <tr>\n",
       "      <th>3</th>\n",
       "      <td>2014</td>\n",
       "      <td>10</td>\n",
       "      <td>CHU</td>\n",
       "      <td>M</td>\n",
       "      <td>False</td>\n",
       "    </tr>\n",
       "    <tr>\n",
       "      <th>4</th>\n",
       "      <td>2014</td>\n",
       "      <td>31</td>\n",
       "      <td>CHU</td>\n",
       "      <td>M</td>\n",
       "      <td>False</td>\n",
       "    </tr>\n",
       "  </tbody>\n",
       "</table>\n",
       "</div>"
      ],
      "text/plain": [
       "   Collection Year  Fly Number Location Code Sex Spiroplasma\n",
       "0             2014           4           CHU   F        True\n",
       "1             2014           6           CHU   F       False\n",
       "2             2014           7           CHU   M       False\n",
       "3             2014          10           CHU   M       False\n",
       "4             2014          31           CHU   M       False"
      ]
     },
     "execution_count": 9,
     "metadata": {},
     "output_type": "execute_result"
    }
   ],
   "source": [
    "table_all = pd.concat([table_gsh.dropna(),\n",
    "                       table_xls[[\"Location Code\",\"Collection Year\",\"Fly Number\",\"Sex\",\"Spiroplasma\"]].dropna()])\n",
    "table_all.head()"
   ]
  },
  {
   "cell_type": "markdown",
   "metadata": {},
   "source": [
    "-----------------"
   ]
  },
  {
   "cell_type": "markdown",
   "metadata": {},
   "source": [
    "# Group data by number of flies belonging to any combination of +/- vs M/F"
   ]
  },
  {
   "cell_type": "code",
   "execution_count": 10,
   "metadata": {
    "collapsed": false
   },
   "outputs": [
    {
     "data": {
      "text/html": [
       "<div>\n",
       "<table border=\"1\" class=\"dataframe\">\n",
       "  <thead>\n",
       "    <tr>\n",
       "      <th>Spiroplasma</th>\n",
       "      <th colspan=\"2\" halign=\"left\">False</th>\n",
       "      <th colspan=\"2\" halign=\"left\">True</th>\n",
       "    </tr>\n",
       "    <tr>\n",
       "      <th>Sex</th>\n",
       "      <th>F</th>\n",
       "      <th>M</th>\n",
       "      <th>F</th>\n",
       "      <th>M</th>\n",
       "    </tr>\n",
       "    <tr>\n",
       "      <th>Location Code</th>\n",
       "      <th></th>\n",
       "      <th></th>\n",
       "      <th></th>\n",
       "      <th></th>\n",
       "    </tr>\n",
       "  </thead>\n",
       "  <tbody>\n",
       "    <tr>\n",
       "      <th>AMI</th>\n",
       "      <td>10</td>\n",
       "      <td>10</td>\n",
       "      <td>0</td>\n",
       "      <td>1</td>\n",
       "    </tr>\n",
       "    <tr>\n",
       "      <th>BOL</th>\n",
       "      <td>6</td>\n",
       "      <td>6</td>\n",
       "      <td>3</td>\n",
       "      <td>1</td>\n",
       "    </tr>\n",
       "    <tr>\n",
       "      <th>CHU</th>\n",
       "      <td>7</td>\n",
       "      <td>8</td>\n",
       "      <td>3</td>\n",
       "      <td>0</td>\n",
       "    </tr>\n",
       "    <tr>\n",
       "      <th>DUK</th>\n",
       "      <td>3</td>\n",
       "      <td>6</td>\n",
       "      <td>6</td>\n",
       "      <td>4</td>\n",
       "    </tr>\n",
       "    <tr>\n",
       "      <th>GAN</th>\n",
       "      <td>11</td>\n",
       "      <td>3</td>\n",
       "      <td>8</td>\n",
       "      <td>3</td>\n",
       "    </tr>\n",
       "    <tr>\n",
       "      <th>KIL</th>\n",
       "      <td>12</td>\n",
       "      <td>3</td>\n",
       "      <td>2</td>\n",
       "      <td>0</td>\n",
       "    </tr>\n",
       "    <tr>\n",
       "      <th>NGO</th>\n",
       "      <td>12</td>\n",
       "      <td>5</td>\n",
       "      <td>0</td>\n",
       "      <td>0</td>\n",
       "    </tr>\n",
       "    <tr>\n",
       "      <th>OCU</th>\n",
       "      <td>6</td>\n",
       "      <td>5</td>\n",
       "      <td>1</td>\n",
       "      <td>1</td>\n",
       "    </tr>\n",
       "    <tr>\n",
       "      <th>ORB</th>\n",
       "      <td>22</td>\n",
       "      <td>6</td>\n",
       "      <td>19</td>\n",
       "      <td>7</td>\n",
       "    </tr>\n",
       "    <tr>\n",
       "      <th>TUM</th>\n",
       "      <td>9</td>\n",
       "      <td>7</td>\n",
       "      <td>0</td>\n",
       "      <td>0</td>\n",
       "    </tr>\n",
       "  </tbody>\n",
       "</table>\n",
       "</div>"
      ],
      "text/plain": [
       "Spiroplasma   False     True    \n",
       "Sex               F   M     F  M\n",
       "Location Code                   \n",
       "AMI              10  10     0  1\n",
       "BOL               6   6     3  1\n",
       "CHU               7   8     3  0\n",
       "DUK               3   6     6  4\n",
       "GAN              11   3     8  3\n",
       "KIL              12   3     2  0\n",
       "NGO              12   5     0  0\n",
       "OCU               6   5     1  1\n",
       "ORB              22   6    19  7\n",
       "TUM               9   7     0  0"
      ]
     },
     "execution_count": 10,
     "metadata": {},
     "output_type": "execute_result"
    }
   ],
   "source": [
    "table_all_pivot = table_all.pivot_table(values=\"Fly Number\", \n",
    "                                        index=[\"Location Code\"], \n",
    "                                        columns=[\"Spiroplasma\",\"Sex\"], \n",
    "                                        aggfunc=[len], \n",
    "                                        fill_value=0, margins=False, dropna=True)\n",
    "\n",
    "table_all_pivot.columns = table_all_pivot.columns.droplevel() # removes useless 'len' top multilevel index\n",
    "table_all_pivot"
   ]
  },
  {
   "cell_type": "markdown",
   "metadata": {},
   "source": [
    "# Hypotheses tests of locations and multiple testing corrections"
   ]
  },
  {
   "cell_type": "code",
   "execution_count": 11,
   "metadata": {
    "collapsed": false
   },
   "outputs": [],
   "source": [
    "def do_tests(df):\n",
    "    \n",
    "    locations = df.index.values\n",
    "    \n",
    "    tests = {}\n",
    "    \n",
    "    for loc in locations:\n",
    "        \n",
    "        locdf = df.loc[loc,:]\n",
    "        contingency_table = locdf.reshape((2,2))\n",
    "        \n",
    "        odds_ratio, p_val = fisher_exact(contingency_table)\n",
    "        \n",
    "        tests[loc] = (odds_ratio, p_val)\n",
    "        \n",
    "    contingency_table_all = df.sum().reshape((2,2))\n",
    "    odds_ratio_all, p_val_all = fisher_exact(contingency_table_all)\n",
    "    \n",
    "    tests['all'] = (odds_ratio_all, p_val_all)\n",
    "    \n",
    "    testsdf = pd.DataFrame(data=tests, index=[\"Odds ratio\",\"pvals\"], columns=tests.keys(), dtype=None, copy=False)\n",
    "    return testsdf.T\n",
    "\n",
    "def add_fdr(df):\n",
    "    multitests =smd.stats.multitest.multipletests \n",
    "    \n",
    "    # do the fdr correction\n",
    "    reject_or_not,corrected_pval = multitests(pvals=df.pvals, alpha=0.05, method='fdr_bh')[:2]\n",
    "    \n",
    "    # add results to dataframe\n",
    "    df[\"Reject the null?\"],df[\"adjusted pvals\"] = reject_or_not,corrected_pval"
   ]
  },
  {
   "cell_type": "code",
   "execution_count": 12,
   "metadata": {
    "collapsed": false
   },
   "outputs": [
    {
     "data": {
      "text/html": [
       "<div>\n",
       "<table border=\"1\" class=\"dataframe\">\n",
       "  <thead>\n",
       "    <tr style=\"text-align: right;\">\n",
       "      <th></th>\n",
       "      <th>Odds ratio</th>\n",
       "      <th>pvals</th>\n",
       "      <th>Reject the null?</th>\n",
       "      <th>adjusted pvals</th>\n",
       "    </tr>\n",
       "  </thead>\n",
       "  <tbody>\n",
       "    <tr>\n",
       "      <th>AMI</th>\n",
       "      <td>inf</td>\n",
       "      <td>1.000000</td>\n",
       "      <td>False</td>\n",
       "      <td>1</td>\n",
       "    </tr>\n",
       "    <tr>\n",
       "      <th>BOL</th>\n",
       "      <td>0.333333</td>\n",
       "      <td>0.584615</td>\n",
       "      <td>False</td>\n",
       "      <td>1</td>\n",
       "    </tr>\n",
       "    <tr>\n",
       "      <th>CHU</th>\n",
       "      <td>0.000000</td>\n",
       "      <td>0.215686</td>\n",
       "      <td>False</td>\n",
       "      <td>1</td>\n",
       "    </tr>\n",
       "    <tr>\n",
       "      <th>DUK</th>\n",
       "      <td>0.333333</td>\n",
       "      <td>0.369850</td>\n",
       "      <td>False</td>\n",
       "      <td>1</td>\n",
       "    </tr>\n",
       "    <tr>\n",
       "      <th>GAN</th>\n",
       "      <td>1.375000</td>\n",
       "      <td>1.000000</td>\n",
       "      <td>False</td>\n",
       "      <td>1</td>\n",
       "    </tr>\n",
       "    <tr>\n",
       "      <th>KIL</th>\n",
       "      <td>0.000000</td>\n",
       "      <td>1.000000</td>\n",
       "      <td>False</td>\n",
       "      <td>1</td>\n",
       "    </tr>\n",
       "    <tr>\n",
       "      <th>NGO</th>\n",
       "      <td>NaN</td>\n",
       "      <td>1.000000</td>\n",
       "      <td>False</td>\n",
       "      <td>1</td>\n",
       "    </tr>\n",
       "    <tr>\n",
       "      <th>OCU</th>\n",
       "      <td>1.200000</td>\n",
       "      <td>1.000000</td>\n",
       "      <td>False</td>\n",
       "      <td>1</td>\n",
       "    </tr>\n",
       "    <tr>\n",
       "      <th>ORB</th>\n",
       "      <td>1.350877</td>\n",
       "      <td>0.754009</td>\n",
       "      <td>False</td>\n",
       "      <td>1</td>\n",
       "    </tr>\n",
       "    <tr>\n",
       "      <th>TUM</th>\n",
       "      <td>NaN</td>\n",
       "      <td>1.000000</td>\n",
       "      <td>False</td>\n",
       "      <td>1</td>\n",
       "    </tr>\n",
       "    <tr>\n",
       "      <th>all</th>\n",
       "      <td>0.672316</td>\n",
       "      <td>0.264796</td>\n",
       "      <td>False</td>\n",
       "      <td>1</td>\n",
       "    </tr>\n",
       "  </tbody>\n",
       "</table>\n",
       "</div>"
      ],
      "text/plain": [
       "     Odds ratio     pvals Reject the null?  adjusted pvals\n",
       "AMI         inf  1.000000            False               1\n",
       "BOL    0.333333  0.584615            False               1\n",
       "CHU    0.000000  0.215686            False               1\n",
       "DUK    0.333333  0.369850            False               1\n",
       "GAN    1.375000  1.000000            False               1\n",
       "KIL    0.000000  1.000000            False               1\n",
       "NGO         NaN  1.000000            False               1\n",
       "OCU    1.200000  1.000000            False               1\n",
       "ORB    1.350877  0.754009            False               1\n",
       "TUM         NaN  1.000000            False               1\n",
       "all    0.672316  0.264796            False               1"
      ]
     },
     "execution_count": 12,
     "metadata": {},
     "output_type": "execute_result"
    }
   ],
   "source": [
    "results = do_tests(table_all_pivot)\n",
    "add_fdr(results)\n",
    "results.sort()"
   ]
  },
  {
   "cell_type": "markdown",
   "metadata": {},
   "source": [
    "# Is there a significant difference of Spiroplasma prevalence between populations?\n",
    "\n",
    "- will NOT use one way ANOVA bc the data is categorical\n",
    "- will use logit regression probably\n",
    "- may run both `scipy` and `statsmodels` version out of curiousity and to double check results"
   ]
  },
  {
   "cell_type": "markdown",
   "metadata": {},
   "source": [
    "## To make the easier to interpret going to pull in the GPS coords of the locations\n",
    "\n",
    "- this will let me run the comparison vs location name (categorical) and location coords (numerical) "
   ]
  },
  {
   "cell_type": "code",
   "execution_count": 33,
   "metadata": {
    "collapsed": true
   },
   "outputs": [],
   "source": [
    "location_gps = pd.read_csv('/home/gus/Dropbox/uganda_data/data_repos/field_data/locations/gps/villages/uganda_villages_gps.csv',\n",
    "                           sep='\\t'\n",
    "                          )"
   ]
  },
  {
   "cell_type": "code",
   "execution_count": 34,
   "metadata": {
    "collapsed": false
   },
   "outputs": [
    {
     "data": {
      "text/html": [
       "<div>\n",
       "<table border=\"1\" class=\"dataframe\">\n",
       "  <thead>\n",
       "    <tr style=\"text-align: right;\">\n",
       "      <th></th>\n",
       "      <th>Location</th>\n",
       "      <th>Latitude</th>\n",
       "      <th>Longitude</th>\n",
       "    </tr>\n",
       "  </thead>\n",
       "  <tbody>\n",
       "    <tr>\n",
       "      <th>0</th>\n",
       "      <td>ACA</td>\n",
       "      <td>2.27008</td>\n",
       "      <td>32.520530</td>\n",
       "    </tr>\n",
       "    <tr>\n",
       "      <th>1</th>\n",
       "      <td>OD</td>\n",
       "      <td>2.44749</td>\n",
       "      <td>32.660240</td>\n",
       "    </tr>\n",
       "    <tr>\n",
       "      <th>2</th>\n",
       "      <td>OCL</td>\n",
       "      <td>2.46757</td>\n",
       "      <td>32.568320</td>\n",
       "    </tr>\n",
       "    <tr>\n",
       "      <th>3</th>\n",
       "      <td>LIB</td>\n",
       "      <td>3.28078</td>\n",
       "      <td>32.854265</td>\n",
       "    </tr>\n",
       "    <tr>\n",
       "      <th>4</th>\n",
       "      <td>PAW</td>\n",
       "      <td>3.61199</td>\n",
       "      <td>32.681670</td>\n",
       "    </tr>\n",
       "  </tbody>\n",
       "</table>\n",
       "</div>"
      ],
      "text/plain": [
       "  Location  Latitude  Longitude\n",
       "0      ACA   2.27008  32.520530\n",
       "1       OD   2.44749  32.660240\n",
       "2      OCL   2.46757  32.568320\n",
       "3      LIB   3.28078  32.854265\n",
       "4      PAW   3.61199  32.681670"
      ]
     },
     "execution_count": 34,
     "metadata": {},
     "output_type": "execute_result"
    }
   ],
   "source": [
    "location_gps.head()"
   ]
  },
  {
   "cell_type": "code",
   "execution_count": 39,
   "metadata": {
    "collapsed": false
   },
   "outputs": [
    {
     "data": {
      "text/html": [
       "<div>\n",
       "<table border=\"1\" class=\"dataframe\">\n",
       "  <thead>\n",
       "    <tr style=\"text-align: right;\">\n",
       "      <th></th>\n",
       "      <th>Collection Year</th>\n",
       "      <th>Fly Number</th>\n",
       "      <th>Location Code</th>\n",
       "      <th>Sex</th>\n",
       "      <th>Spiroplasma</th>\n",
       "      <th>Latitude</th>\n",
       "      <th>Longitude</th>\n",
       "    </tr>\n",
       "  </thead>\n",
       "  <tbody>\n",
       "    <tr>\n",
       "      <th>0</th>\n",
       "      <td>2014</td>\n",
       "      <td>4</td>\n",
       "      <td>CHU</td>\n",
       "      <td>F</td>\n",
       "      <td>True</td>\n",
       "      <td>2.606845</td>\n",
       "      <td>32.93758</td>\n",
       "    </tr>\n",
       "    <tr>\n",
       "      <th>1</th>\n",
       "      <td>2014</td>\n",
       "      <td>6</td>\n",
       "      <td>CHU</td>\n",
       "      <td>F</td>\n",
       "      <td>False</td>\n",
       "      <td>2.606845</td>\n",
       "      <td>32.93758</td>\n",
       "    </tr>\n",
       "    <tr>\n",
       "      <th>2</th>\n",
       "      <td>2014</td>\n",
       "      <td>7</td>\n",
       "      <td>CHU</td>\n",
       "      <td>M</td>\n",
       "      <td>False</td>\n",
       "      <td>2.606845</td>\n",
       "      <td>32.93758</td>\n",
       "    </tr>\n",
       "    <tr>\n",
       "      <th>3</th>\n",
       "      <td>2014</td>\n",
       "      <td>10</td>\n",
       "      <td>CHU</td>\n",
       "      <td>M</td>\n",
       "      <td>False</td>\n",
       "      <td>2.606845</td>\n",
       "      <td>32.93758</td>\n",
       "    </tr>\n",
       "    <tr>\n",
       "      <th>4</th>\n",
       "      <td>2014</td>\n",
       "      <td>31</td>\n",
       "      <td>CHU</td>\n",
       "      <td>M</td>\n",
       "      <td>False</td>\n",
       "      <td>2.606845</td>\n",
       "      <td>32.93758</td>\n",
       "    </tr>\n",
       "  </tbody>\n",
       "</table>\n",
       "</div>"
      ],
      "text/plain": [
       "   Collection Year  Fly Number Location Code Sex Spiroplasma  Latitude  \\\n",
       "0             2014           4           CHU   F        True  2.606845   \n",
       "1             2014           6           CHU   F       False  2.606845   \n",
       "2             2014           7           CHU   M       False  2.606845   \n",
       "3             2014          10           CHU   M       False  2.606845   \n",
       "4             2014          31           CHU   M       False  2.606845   \n",
       "\n",
       "   Longitude  \n",
       "0   32.93758  \n",
       "1   32.93758  \n",
       "2   32.93758  \n",
       "3   32.93758  \n",
       "4   32.93758  "
      ]
     },
     "execution_count": 39,
     "metadata": {},
     "output_type": "execute_result"
    }
   ],
   "source": [
    "table_all_gps = pd.merge(left=table_all, \n",
    "                         right=location_gps, \n",
    "                         how='left', \n",
    "                         on=None, \n",
    "                         left_on=\"Location Code\", right_on=\"Location\", \n",
    "                         left_index=False, right_index=False, \n",
    "                         sort=False, suffixes=('_x', '_y'), copy=True).drop(labels=[\"Location\"],axis=1)\n",
    "table_all_gps.head()"
   ]
  },
  {
   "cell_type": "code",
   "execution_count": 41,
   "metadata": {
    "collapsed": false
   },
   "outputs": [
    {
     "data": {
      "text/html": [
       "<div>\n",
       "<table border=\"1\" class=\"dataframe\">\n",
       "  <thead>\n",
       "    <tr style=\"text-align: right;\">\n",
       "      <th></th>\n",
       "      <th>Collection Year</th>\n",
       "      <th>Fly Number</th>\n",
       "      <th>Location Code</th>\n",
       "      <th>Sex</th>\n",
       "      <th>Spiroplasma</th>\n",
       "      <th>Latitude</th>\n",
       "      <th>Longitude</th>\n",
       "      <th>Infected</th>\n",
       "    </tr>\n",
       "  </thead>\n",
       "  <tbody>\n",
       "    <tr>\n",
       "      <th>0</th>\n",
       "      <td>2014</td>\n",
       "      <td>4</td>\n",
       "      <td>CHU</td>\n",
       "      <td>F</td>\n",
       "      <td>True</td>\n",
       "      <td>2.606845</td>\n",
       "      <td>32.93758</td>\n",
       "      <td>1</td>\n",
       "    </tr>\n",
       "    <tr>\n",
       "      <th>1</th>\n",
       "      <td>2014</td>\n",
       "      <td>6</td>\n",
       "      <td>CHU</td>\n",
       "      <td>F</td>\n",
       "      <td>False</td>\n",
       "      <td>2.606845</td>\n",
       "      <td>32.93758</td>\n",
       "      <td>0</td>\n",
       "    </tr>\n",
       "    <tr>\n",
       "      <th>2</th>\n",
       "      <td>2014</td>\n",
       "      <td>7</td>\n",
       "      <td>CHU</td>\n",
       "      <td>M</td>\n",
       "      <td>False</td>\n",
       "      <td>2.606845</td>\n",
       "      <td>32.93758</td>\n",
       "      <td>0</td>\n",
       "    </tr>\n",
       "    <tr>\n",
       "      <th>3</th>\n",
       "      <td>2014</td>\n",
       "      <td>10</td>\n",
       "      <td>CHU</td>\n",
       "      <td>M</td>\n",
       "      <td>False</td>\n",
       "      <td>2.606845</td>\n",
       "      <td>32.93758</td>\n",
       "      <td>0</td>\n",
       "    </tr>\n",
       "    <tr>\n",
       "      <th>4</th>\n",
       "      <td>2014</td>\n",
       "      <td>31</td>\n",
       "      <td>CHU</td>\n",
       "      <td>M</td>\n",
       "      <td>False</td>\n",
       "      <td>2.606845</td>\n",
       "      <td>32.93758</td>\n",
       "      <td>0</td>\n",
       "    </tr>\n",
       "  </tbody>\n",
       "</table>\n",
       "</div>"
      ],
      "text/plain": [
       "   Collection Year  Fly Number Location Code Sex Spiroplasma  Latitude  \\\n",
       "0             2014           4           CHU   F        True  2.606845   \n",
       "1             2014           6           CHU   F       False  2.606845   \n",
       "2             2014           7           CHU   M       False  2.606845   \n",
       "3             2014          10           CHU   M       False  2.606845   \n",
       "4             2014          31           CHU   M       False  2.606845   \n",
       "\n",
       "   Longitude  Infected  \n",
       "0   32.93758         1  \n",
       "1   32.93758         0  \n",
       "2   32.93758         0  \n",
       "3   32.93758         0  \n",
       "4   32.93758         0  "
      ]
     },
     "execution_count": 41,
     "metadata": {},
     "output_type": "execute_result"
    }
   ],
   "source": [
    "# recode Spiroplasma as 0/1 vs True/False\n",
    "table_all_gps[\"Infected\"] = table_all_gps.Spiroplasma.map({True:1,False:0})\n",
    "table_all_gps.head()"
   ]
  },
  {
   "cell_type": "markdown",
   "metadata": {},
   "source": [
    "## Run the logistic regression model"
   ]
  },
  {
   "cell_type": "code",
   "execution_count": 70,
   "metadata": {
    "collapsed": false
   },
   "outputs": [
    {
     "name": "stdout",
     "output_type": "stream",
     "text": [
      "Optimization terminated successfully.\n",
      "         Current function value: 0.547521\n",
      "         Iterations 6\n"
     ]
    },
    {
     "data": {
      "text/html": [
       "<table class=\"simpletable\">\n",
       "<caption>Logit Regression Results</caption>\n",
       "<tr>\n",
       "  <th>Dep. Variable:</th>     <td>Infected</td>     <th>  No. Observations:  </th>  <td>   182</td>  \n",
       "</tr>\n",
       "<tr>\n",
       "  <th>Model:</th>               <td>Logit</td>      <th>  Df Residuals:      </th>  <td>   179</td>  \n",
       "</tr>\n",
       "<tr>\n",
       "  <th>Method:</th>               <td>MLE</td>       <th>  Df Model:          </th>  <td>     2</td>  \n",
       "</tr>\n",
       "<tr>\n",
       "  <th>Date:</th>          <td>Mon, 24 Aug 2015</td> <th>  Pseudo R-squ.:     </th>  <td>0.1130</td>  \n",
       "</tr>\n",
       "<tr>\n",
       "  <th>Time:</th>              <td>17:02:08</td>     <th>  Log-Likelihood:    </th> <td> -99.649</td> \n",
       "</tr>\n",
       "<tr>\n",
       "  <th>converged:</th>           <td>True</td>       <th>  LL-Null:           </th> <td> -112.34</td> \n",
       "</tr>\n",
       "<tr>\n",
       "  <th> </th>                      <td> </td>        <th>  LLR p-value:       </th> <td>3.085e-06</td>\n",
       "</tr>\n",
       "</table>\n",
       "<table class=\"simpletable\">\n",
       "<tr>\n",
       "      <td></td>         <th>coef</th>     <th>std err</th>      <th>z</th>      <th>P>|z|</th> <th>[95.0% Conf. Int.]</th> \n",
       "</tr>\n",
       "<tr>\n",
       "  <th>Intercept</th> <td>   34.9301</td> <td>    9.268</td> <td>    3.769</td> <td> 0.000</td> <td>   16.765    53.095</td>\n",
       "</tr>\n",
       "<tr>\n",
       "  <th>Longitude</th> <td>   -1.1576</td> <td>    0.271</td> <td>   -4.279</td> <td> 0.000</td> <td>   -1.688    -0.627</td>\n",
       "</tr>\n",
       "<tr>\n",
       "  <th>Latitude</th>  <td>    0.3796</td> <td>    0.570</td> <td>    0.666</td> <td> 0.505</td> <td>   -0.737     1.496</td>\n",
       "</tr>\n",
       "</table>"
      ],
      "text/plain": [
       "<class 'statsmodels.iolib.summary.Summary'>\n",
       "\"\"\"\n",
       "                           Logit Regression Results                           \n",
       "==============================================================================\n",
       "Dep. Variable:               Infected   No. Observations:                  182\n",
       "Model:                          Logit   Df Residuals:                      179\n",
       "Method:                           MLE   Df Model:                            2\n",
       "Date:                Mon, 24 Aug 2015   Pseudo R-squ.:                  0.1130\n",
       "Time:                        17:02:08   Log-Likelihood:                -99.649\n",
       "converged:                       True   LL-Null:                       -112.34\n",
       "                                        LLR p-value:                 3.085e-06\n",
       "==============================================================================\n",
       "                 coef    std err          z      P>|z|      [95.0% Conf. Int.]\n",
       "------------------------------------------------------------------------------\n",
       "Intercept     34.9301      9.268      3.769      0.000        16.765    53.095\n",
       "Longitude     -1.1576      0.271     -4.279      0.000        -1.688    -0.627\n",
       "Latitude       0.3796      0.570      0.666      0.505        -0.737     1.496\n",
       "==============================================================================\n",
       "\"\"\""
      ]
     },
     "execution_count": 70,
     "metadata": {},
     "output_type": "execute_result"
    }
   ],
   "source": [
    "logit_gps = logit('Infected ~ Longitude + Latitude',\n",
    "                data=table_all_gps,\n",
    "               ).fit()\n",
    "logit_gps.summary()"
   ]
  },
  {
   "cell_type": "markdown",
   "metadata": {},
   "source": [
    "-------------------"
   ]
  },
  {
   "cell_type": "markdown",
   "metadata": {
    "collapsed": true
   },
   "source": [
    "# Final Results\n",
    "\n",
    "### Overview of what was done:\n",
    "\n",
    "#### Sex Bias\n",
    "1. Tables were cleaned using [OpenRefine](http://openrefine.org/) to standardize things like\n",
    "    - \"positive\"\n",
    "    - \"Positive\"\n",
    "    - \"yes\"\n",
    "    - \"Yes\"\n",
    "\n",
    "2. Tables were read into this notebook and the table without Sex information was cross-referenced with the original database entries to recover any sex information availible.\n",
    "3. Tables were further cleaned to remove any columns that were not needed to unambiguously identify each fly or represent the Sex/Spiroplasma data.\n",
    "    - Flies that had missing data or needed to be re-run were removed.\n",
    "4. Tables were combined to a single table and the data were grouped by the number of flies belonging to any combination of __Spiroplasma results__ (pos/neg) vs __Sex__ (M/F).\n",
    "    - This table represents contingency table information for each location.\n",
    "5. The contingency tables for each location as well as the summed contingency table for all data combined, were used to calculate [Fisher's exact test of independence](http://www.biostathandbook.com/fishers.html) to yield odds ratios and initial p-values for all sub-sets of data examined.\n",
    "6. Multiple testing correction (Benjamini-Hochberg) was applied and adjusted p-values along with rejection of null hypothese recommentations appened to the table.\n",
    "\n",
    "#### Geographical Location Bias\n",
    "\n",
    "1. Started with the same data as used above but brought in the representative latitude and longitude coordinates of each location to use as the independent variables.\n",
    "2. Logistic regression was run with the model: `infection ~ lat + long`:\n",
    "    - _independent variables:_ `lat`, `long`\n",
    "    - _dependent variables:_ `infection`\n",
    "\n",
    "---------------------"
   ]
  },
  {
   "cell_type": "markdown",
   "metadata": {},
   "source": [
    "# Sex Bias Results:"
   ]
  },
  {
   "cell_type": "markdown",
   "metadata": {},
   "source": [
    "## Contingency Data:"
   ]
  },
  {
   "cell_type": "code",
   "execution_count": 14,
   "metadata": {
    "collapsed": false
   },
   "outputs": [
    {
     "data": {
      "text/html": [
       "<div>\n",
       "<table border=\"1\" class=\"dataframe\">\n",
       "  <thead>\n",
       "    <tr>\n",
       "      <th>Spiroplasma</th>\n",
       "      <th colspan=\"2\" halign=\"left\">False</th>\n",
       "      <th colspan=\"2\" halign=\"left\">True</th>\n",
       "    </tr>\n",
       "    <tr>\n",
       "      <th>Sex</th>\n",
       "      <th>F</th>\n",
       "      <th>M</th>\n",
       "      <th>F</th>\n",
       "      <th>M</th>\n",
       "    </tr>\n",
       "    <tr>\n",
       "      <th>Location Code</th>\n",
       "      <th></th>\n",
       "      <th></th>\n",
       "      <th></th>\n",
       "      <th></th>\n",
       "    </tr>\n",
       "  </thead>\n",
       "  <tbody>\n",
       "    <tr>\n",
       "      <th>AMI</th>\n",
       "      <td>10</td>\n",
       "      <td>10</td>\n",
       "      <td>0</td>\n",
       "      <td>1</td>\n",
       "    </tr>\n",
       "    <tr>\n",
       "      <th>BOL</th>\n",
       "      <td>6</td>\n",
       "      <td>6</td>\n",
       "      <td>3</td>\n",
       "      <td>1</td>\n",
       "    </tr>\n",
       "    <tr>\n",
       "      <th>CHU</th>\n",
       "      <td>7</td>\n",
       "      <td>8</td>\n",
       "      <td>3</td>\n",
       "      <td>0</td>\n",
       "    </tr>\n",
       "    <tr>\n",
       "      <th>DUK</th>\n",
       "      <td>3</td>\n",
       "      <td>6</td>\n",
       "      <td>6</td>\n",
       "      <td>4</td>\n",
       "    </tr>\n",
       "    <tr>\n",
       "      <th>GAN</th>\n",
       "      <td>11</td>\n",
       "      <td>3</td>\n",
       "      <td>8</td>\n",
       "      <td>3</td>\n",
       "    </tr>\n",
       "    <tr>\n",
       "      <th>KIL</th>\n",
       "      <td>12</td>\n",
       "      <td>3</td>\n",
       "      <td>2</td>\n",
       "      <td>0</td>\n",
       "    </tr>\n",
       "    <tr>\n",
       "      <th>NGO</th>\n",
       "      <td>12</td>\n",
       "      <td>5</td>\n",
       "      <td>0</td>\n",
       "      <td>0</td>\n",
       "    </tr>\n",
       "    <tr>\n",
       "      <th>OCU</th>\n",
       "      <td>6</td>\n",
       "      <td>5</td>\n",
       "      <td>1</td>\n",
       "      <td>1</td>\n",
       "    </tr>\n",
       "    <tr>\n",
       "      <th>ORB</th>\n",
       "      <td>22</td>\n",
       "      <td>6</td>\n",
       "      <td>19</td>\n",
       "      <td>7</td>\n",
       "    </tr>\n",
       "    <tr>\n",
       "      <th>TUM</th>\n",
       "      <td>9</td>\n",
       "      <td>7</td>\n",
       "      <td>0</td>\n",
       "      <td>0</td>\n",
       "    </tr>\n",
       "  </tbody>\n",
       "</table>\n",
       "</div>"
      ],
      "text/plain": [
       "Spiroplasma   False     True    \n",
       "Sex               F   M     F  M\n",
       "Location Code                   \n",
       "AMI              10  10     0  1\n",
       "BOL               6   6     3  1\n",
       "CHU               7   8     3  0\n",
       "DUK               3   6     6  4\n",
       "GAN              11   3     8  3\n",
       "KIL              12   3     2  0\n",
       "NGO              12   5     0  0\n",
       "OCU               6   5     1  1\n",
       "ORB              22   6    19  7\n",
       "TUM               9   7     0  0"
      ]
     },
     "execution_count": 14,
     "metadata": {},
     "output_type": "execute_result"
    }
   ],
   "source": [
    "table_all_pivot"
   ]
  },
  {
   "cell_type": "markdown",
   "metadata": {},
   "source": [
    "## Significance tests:"
   ]
  },
  {
   "cell_type": "code",
   "execution_count": 15,
   "metadata": {
    "collapsed": false
   },
   "outputs": [
    {
     "data": {
      "text/html": [
       "<div>\n",
       "<table border=\"1\" class=\"dataframe\">\n",
       "  <thead>\n",
       "    <tr style=\"text-align: right;\">\n",
       "      <th></th>\n",
       "      <th>Odds ratio</th>\n",
       "      <th>pvals</th>\n",
       "      <th>Reject the null?</th>\n",
       "      <th>adjusted pvals</th>\n",
       "    </tr>\n",
       "  </thead>\n",
       "  <tbody>\n",
       "    <tr>\n",
       "      <th>AMI</th>\n",
       "      <td>inf</td>\n",
       "      <td>1.000000</td>\n",
       "      <td>False</td>\n",
       "      <td>1</td>\n",
       "    </tr>\n",
       "    <tr>\n",
       "      <th>BOL</th>\n",
       "      <td>0.333333</td>\n",
       "      <td>0.584615</td>\n",
       "      <td>False</td>\n",
       "      <td>1</td>\n",
       "    </tr>\n",
       "    <tr>\n",
       "      <th>CHU</th>\n",
       "      <td>0.000000</td>\n",
       "      <td>0.215686</td>\n",
       "      <td>False</td>\n",
       "      <td>1</td>\n",
       "    </tr>\n",
       "    <tr>\n",
       "      <th>DUK</th>\n",
       "      <td>0.333333</td>\n",
       "      <td>0.369850</td>\n",
       "      <td>False</td>\n",
       "      <td>1</td>\n",
       "    </tr>\n",
       "    <tr>\n",
       "      <th>GAN</th>\n",
       "      <td>1.375000</td>\n",
       "      <td>1.000000</td>\n",
       "      <td>False</td>\n",
       "      <td>1</td>\n",
       "    </tr>\n",
       "    <tr>\n",
       "      <th>KIL</th>\n",
       "      <td>0.000000</td>\n",
       "      <td>1.000000</td>\n",
       "      <td>False</td>\n",
       "      <td>1</td>\n",
       "    </tr>\n",
       "    <tr>\n",
       "      <th>NGO</th>\n",
       "      <td>NaN</td>\n",
       "      <td>1.000000</td>\n",
       "      <td>False</td>\n",
       "      <td>1</td>\n",
       "    </tr>\n",
       "    <tr>\n",
       "      <th>OCU</th>\n",
       "      <td>1.200000</td>\n",
       "      <td>1.000000</td>\n",
       "      <td>False</td>\n",
       "      <td>1</td>\n",
       "    </tr>\n",
       "    <tr>\n",
       "      <th>ORB</th>\n",
       "      <td>1.350877</td>\n",
       "      <td>0.754009</td>\n",
       "      <td>False</td>\n",
       "      <td>1</td>\n",
       "    </tr>\n",
       "    <tr>\n",
       "      <th>TUM</th>\n",
       "      <td>NaN</td>\n",
       "      <td>1.000000</td>\n",
       "      <td>False</td>\n",
       "      <td>1</td>\n",
       "    </tr>\n",
       "    <tr>\n",
       "      <th>all</th>\n",
       "      <td>0.672316</td>\n",
       "      <td>0.264796</td>\n",
       "      <td>False</td>\n",
       "      <td>1</td>\n",
       "    </tr>\n",
       "  </tbody>\n",
       "</table>\n",
       "</div>"
      ],
      "text/plain": [
       "     Odds ratio     pvals Reject the null?  adjusted pvals\n",
       "AMI         inf  1.000000            False               1\n",
       "BOL    0.333333  0.584615            False               1\n",
       "CHU    0.000000  0.215686            False               1\n",
       "DUK    0.333333  0.369850            False               1\n",
       "GAN    1.375000  1.000000            False               1\n",
       "KIL    0.000000  1.000000            False               1\n",
       "NGO         NaN  1.000000            False               1\n",
       "OCU    1.200000  1.000000            False               1\n",
       "ORB    1.350877  0.754009            False               1\n",
       "TUM         NaN  1.000000            False               1\n",
       "all    0.672316  0.264796            False               1"
      ]
     },
     "execution_count": 15,
     "metadata": {},
     "output_type": "execute_result"
    }
   ],
   "source": [
    "results.sort()"
   ]
  },
  {
   "cell_type": "markdown",
   "metadata": {},
   "source": [
    "# Sex Bias Conclusions:\n",
    "\n",
    "There is <b><font color=\"red\">no sex bias detected</font></b> for probability of being infected with Spiroplasma based on these data at the location level nor over all.\n",
    "\n",
    " ----"
   ]
  },
  {
   "cell_type": "markdown",
   "metadata": {},
   "source": [
    "# Geographical Bias Results:"
   ]
  },
  {
   "cell_type": "code",
   "execution_count": 72,
   "metadata": {
    "collapsed": false
   },
   "outputs": [
    {
     "data": {
      "text/html": [
       "<table class=\"simpletable\">\n",
       "<tr>\n",
       "        <td>Model:</td>              <td>Logit</td>      <td>Pseudo R-squared:</td>    <td>0.113</td>  \n",
       "</tr>\n",
       "<tr>\n",
       "  <td>Dependent Variable:</td>     <td>Infected</td>           <td>AIC:</td>         <td>205.2978</td> \n",
       "</tr>\n",
       "<tr>\n",
       "         <td>Date:</td>        <td>2015-08-24 17:21</td>       <td>BIC:</td>         <td>214.9098</td> \n",
       "</tr>\n",
       "<tr>\n",
       "   <td>No. Observations:</td>         <td>182</td>        <td>Log-Likelihood:</td>    <td>-99.649</td> \n",
       "</tr>\n",
       "<tr>\n",
       "       <td>Df Model:</td>              <td>2</td>            <td>LL-Null:</td>        <td>-112.34</td> \n",
       "</tr>\n",
       "<tr>\n",
       "     <td>Df Residuals:</td>           <td>179</td>         <td>LLR p-value:</td>    <td>3.0845e-06</td>\n",
       "</tr>\n",
       "<tr>\n",
       "      <td>Converged:</td>           <td>1.0000</td>           <td>Scale:</td>         <td>1.0000</td>  \n",
       "</tr>\n",
       "<tr>\n",
       "    <td>No. Iterations:</td>        <td>6.0000</td>              <td></td>               <td></td>     \n",
       "</tr>\n",
       "</table>\n",
       "<table class=\"simpletable\">\n",
       "<tr>\n",
       "      <td></td>       <th>Coef.</th>  <th>Std.Err.</th>    <th>z</th>     <th>P>|z|</th> <th>[0.025</th>  <th>0.975]</th> \n",
       "</tr>\n",
       "<tr>\n",
       "  <th>Intercept</th> <td>34.9301</td>  <td>9.2678</td>  <td>3.7690</td>  <td>0.0002</td> <td>16.7655</td> <td>53.0947</td>\n",
       "</tr>\n",
       "<tr>\n",
       "  <th>Longitude</th> <td>-1.1576</td>  <td>0.2705</td>  <td>-4.2786</td> <td>0.0000</td> <td>-1.6878</td> <td>-0.6273</td>\n",
       "</tr>\n",
       "<tr>\n",
       "  <th>Latitude</th>  <td>0.3796</td>   <td>0.5696</td>  <td>0.6664</td>  <td>0.5051</td> <td>-0.7368</td> <td>1.4960</td> \n",
       "</tr>\n",
       "</table>"
      ],
      "text/plain": [
       "<class 'statsmodels.iolib.summary2.Summary'>\n",
       "\"\"\"\n",
       "                         Results: Logit\n",
       "=================================================================\n",
       "Model:              Logit            Pseudo R-squared: 0.113     \n",
       "Dependent Variable: Infected         AIC:              205.2978  \n",
       "Date:               2015-08-24 17:21 BIC:              214.9098  \n",
       "No. Observations:   182              Log-Likelihood:   -99.649   \n",
       "Df Model:           2                LL-Null:          -112.34   \n",
       "Df Residuals:       179              LLR p-value:      3.0845e-06\n",
       "Converged:          1.0000           Scale:            1.0000    \n",
       "No. Iterations:     6.0000                                       \n",
       "------------------------------------------------------------------\n",
       "               Coef.   Std.Err.     z     P>|z|    [0.025   0.975]\n",
       "------------------------------------------------------------------\n",
       "Intercept     34.9301    9.2678   3.7690  0.0002  16.7655  53.0947\n",
       "Longitude     -1.1576    0.2705  -4.2786  0.0000  -1.6878  -0.6273\n",
       "Latitude       0.3796    0.5696   0.6664  0.5051  -0.7368   1.4960\n",
       "=================================================================\n",
       "\n",
       "\"\"\""
      ]
     },
     "execution_count": 72,
     "metadata": {},
     "output_type": "execute_result"
    }
   ],
   "source": [
    "logit_gps.summary2()"
   ]
  },
  {
   "cell_type": "markdown",
   "metadata": {},
   "source": [
    "# Geographical Bias Conclusions:\n",
    "\n",
    "There <b><font color=\"green\">is geographical bias detected</font></b> for probability of being infected with Spiroplasma based on these data.\n",
    "\n",
    "- The overall significance of the analysis is $p_{_{LLR}} = 3.0845\\times10^{-06}$ which is easily significant.\n",
    "- Particularly, the coefficient for __Longitude__ (-1.1576, $p < 10^{-4}$) suggests that as __Longitude__ increases, the probability of infection DE-creases.\n",
    "- The effect of __Latitude__ is predicted to be that its increase would result in less pronounced IN-crease of infection probability.  _However this prediction was __not__ significant in the current data._ \n",
    "\n",
    " ----"
   ]
  },
  {
   "cell_type": "code",
   "execution_count": null,
   "metadata": {
    "collapsed": true
   },
   "outputs": [],
   "source": []
  }
 ],
 "metadata": {
  "kernelspec": {
   "display_name": "Python 2",
   "language": "python",
   "name": "python2"
  },
  "language_info": {
   "codemirror_mode": {
    "name": "ipython",
    "version": 2
   },
   "file_extension": ".py",
   "mimetype": "text/x-python",
   "name": "python",
   "nbconvert_exporter": "python",
   "pygments_lexer": "ipython2",
   "version": "2.7.10"
  }
 },
 "nbformat": 4,
 "nbformat_minor": 0
}
