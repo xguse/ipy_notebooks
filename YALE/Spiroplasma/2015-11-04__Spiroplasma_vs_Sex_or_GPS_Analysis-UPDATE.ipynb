{
 "cells": [
  {
   "cell_type": "markdown",
   "metadata": {},
   "source": [
    "# Spiroplasma vs Fly Sampling Locations\n",
    "\n",
    "These are the analyses and results regarding the spiroplasma assays and any putative biased sex distribution etc.\n",
    "\n",
    "__<font color=\"red\">ATTENTION:</font> Click here to skip directly to the [Results](#Final-Results)__:\n",
    "- [Methods Overview](#Overview-of-what-was-done:)\n",
    "- [Sex Bias Results](#Sex-Bias-Results:)\n",
    "    - [Conclusions](#Sex-Bias-Conclusions:)\n",
    "- [Geographical Bias Results](#Geographical-Bias-Results:)\n",
    "    - [Conclusions](#Geographical-Bias-Conclusions:)\n",
    "    \n",
    " ----"
   ]
  },
  {
   "cell_type": "code",
   "execution_count": 1,
   "metadata": {
    "collapsed": false
   },
   "outputs": [],
   "source": [
    "%matplotlib inline\n",
    "\n",
    "from StringIO import StringIO  # got moved to io in python3.\n",
    "\n",
    "import requests\n",
    "\n",
    "import seaborn as sns\n",
    "import pandas as pd\n",
    "pd.set_option(\"max_rows\", 100)\n",
    "pd.set_option(\"max_columns\", 100)\n",
    "\n",
    "import patsy\n",
    "import numpy as np\n",
    "import scipy as sp\n",
    "import statsmodels as smd\n",
    "import statsmodels.api as sm\n",
    "from statsmodels.formula.api import logit, glm\n",
    "\n",
    "from scipy.stats import fisher_exact\n",
    "from scipy.stats import f_oneway\n",
    "\n",
    "from spartan.utils import spandas as spd"
   ]
  },
  {
   "cell_type": "markdown",
   "metadata": {},
   "source": [
    "# Load spreadsheets"
   ]
  },
  {
   "cell_type": "code",
   "execution_count": 10,
   "metadata": {
    "collapsed": false
   },
   "outputs": [],
   "source": [
    "# spreadsheet data\n",
    "table_all = pd.read_csv(\"/home/gus/MEGAsync/zim/main/Yale/Projects/Spiroplasma/related_files/2015_11_04__Spiroplasma_tested_samples_REFINED.csv\")"
   ]
  },
  {
   "cell_type": "markdown",
   "metadata": {},
   "source": [
    "## Run script to load main database info into this notebook"
   ]
  },
  {
   "cell_type": "code",
   "execution_count": 3,
   "metadata": {
    "collapsed": false
   },
   "outputs": [],
   "source": [
    "# %run /home/gus/Documents/YalePostDoc/project_stuff/g_f_fucipes_uganda/scripts/gff_pandas_database.py"
   ]
  },
  {
   "cell_type": "code",
   "execution_count": 4,
   "metadata": {
    "collapsed": true
   },
   "outputs": [],
   "source": [
    "# def recode_dfp(df):\n",
    "#     df['Collection Year'] = pd.DatetimeIndex(df.Date).year\n",
    "#     df = df.rename(columns={\"Village\": \"Location Code\", \"Fly_Number\": \"Fly Number\"})\n",
    "#     return df[[\"Location Code\",\"Collection Year\",\"Fly Number\",\"Sex\"]]"
   ]
  },
  {
   "cell_type": "code",
   "execution_count": 5,
   "metadata": {
    "collapsed": false
   },
   "outputs": [],
   "source": [
    "# d = recode_dfp(dfp.copy())\n",
    "# d.head()"
   ]
  },
  {
   "cell_type": "markdown",
   "metadata": {},
   "source": [
    "## Recover sex data into `table_gsh` by crossref with `dfp`"
   ]
  },
  {
   "cell_type": "code",
   "execution_count": 6,
   "metadata": {
    "collapsed": false
   },
   "outputs": [],
   "source": [
    "# # recover sex data into table_gsh by joining with dfp\n",
    "# table_gsh = pd.merge(left=table_gsh.copy(), right=recode_dfp(dfp.copy()), \n",
    "#                      how='left', \n",
    "#                      on=[\"Location Code\",\"Collection Year\",\"Fly Number\"], \n",
    "#                      left_on=None, right_on=None, \n",
    "#                      left_index=False, right_index=False, \n",
    "#                      sort=False, suffixes=('_x', '_y'), copy=True)"
   ]
  },
  {
   "cell_type": "code",
   "execution_count": 7,
   "metadata": {
    "collapsed": false
   },
   "outputs": [],
   "source": [
    "# table_gsh.head()"
   ]
  },
  {
   "cell_type": "code",
   "execution_count": 8,
   "metadata": {
    "collapsed": false
   },
   "outputs": [],
   "source": [
    "# table_all = pd.concat([table_gsh.dropna(),\n",
    "#                        table_xls[[\"Location Code\",\"Collection Year\",\"Fly Number\",\"Sex\",\"Spiroplasma\"]].dropna()])\n",
    "# table_all.head()"
   ]
  },
  {
   "cell_type": "markdown",
   "metadata": {},
   "source": [
    "-----------------"
   ]
  },
  {
   "cell_type": "markdown",
   "metadata": {},
   "source": [
    "# Group data by number of flies belonging to any combination of +/- vs M/F"
   ]
  },
  {
   "cell_type": "code",
   "execution_count": 11,
   "metadata": {
    "collapsed": false
   },
   "outputs": [
    {
     "data": {
      "text/html": [
       "<div>\n",
       "<table border=\"1\" class=\"dataframe\">\n",
       "  <thead>\n",
       "    <tr style=\"text-align: right;\">\n",
       "      <th></th>\n",
       "      <th>Box</th>\n",
       "      <th>Location Code</th>\n",
       "      <th>Numbers on Vial</th>\n",
       "      <th>Fly Number</th>\n",
       "      <th>Month</th>\n",
       "      <th>Sex</th>\n",
       "      <th>DNA made</th>\n",
       "      <th>Wolbachia</th>\n",
       "      <th>Spiroplasma</th>\n",
       "    </tr>\n",
       "  </thead>\n",
       "  <tbody>\n",
       "    <tr>\n",
       "      <th>0</th>\n",
       "      <td>RP4</td>\n",
       "      <td>DUK</td>\n",
       "      <td>AR14016 T20</td>\n",
       "      <td>16</td>\n",
       "      <td>41812</td>\n",
       "      <td>F</td>\n",
       "      <td>Yrp</td>\n",
       "      <td>False</td>\n",
       "      <td>False</td>\n",
       "    </tr>\n",
       "    <tr>\n",
       "      <th>1</th>\n",
       "      <td>RP4</td>\n",
       "      <td>DUK</td>\n",
       "      <td>AR14001 T20</td>\n",
       "      <td>1</td>\n",
       "      <td>41812</td>\n",
       "      <td>M</td>\n",
       "      <td>Yrp</td>\n",
       "      <td>False</td>\n",
       "      <td>False</td>\n",
       "    </tr>\n",
       "    <tr>\n",
       "      <th>2</th>\n",
       "      <td>RP4</td>\n",
       "      <td>DUK</td>\n",
       "      <td>AR14002 T20</td>\n",
       "      <td>2</td>\n",
       "      <td>41812</td>\n",
       "      <td>M</td>\n",
       "      <td>Yrp</td>\n",
       "      <td>False</td>\n",
       "      <td>False</td>\n",
       "    </tr>\n",
       "    <tr>\n",
       "      <th>3</th>\n",
       "      <td>RP4</td>\n",
       "      <td>DUK</td>\n",
       "      <td>AR14004 T20</td>\n",
       "      <td>4</td>\n",
       "      <td>41812</td>\n",
       "      <td>F</td>\n",
       "      <td>Yrp</td>\n",
       "      <td>False</td>\n",
       "      <td>False</td>\n",
       "    </tr>\n",
       "    <tr>\n",
       "      <th>4</th>\n",
       "      <td>RP4</td>\n",
       "      <td>DUK</td>\n",
       "      <td>AR14007 T20</td>\n",
       "      <td>7</td>\n",
       "      <td>41812</td>\n",
       "      <td>M</td>\n",
       "      <td>Yrp</td>\n",
       "      <td>False</td>\n",
       "      <td>False</td>\n",
       "    </tr>\n",
       "  </tbody>\n",
       "</table>\n",
       "</div>"
      ],
      "text/plain": [
       "   Box Location Code Numbers on Vial Fly Number  Month Sex DNA made Wolbachia  \\\n",
       "0  RP4           DUK     AR14016 T20         16  41812   F      Yrp     False   \n",
       "1  RP4           DUK     AR14001 T20          1  41812   M      Yrp     False   \n",
       "2  RP4           DUK     AR14002 T20          2  41812   M      Yrp     False   \n",
       "3  RP4           DUK     AR14004 T20          4  41812   F      Yrp     False   \n",
       "4  RP4           DUK     AR14007 T20          7  41812   M      Yrp     False   \n",
       "\n",
       "  Spiroplasma  \n",
       "0       False  \n",
       "1       False  \n",
       "2       False  \n",
       "3       False  \n",
       "4       False  "
      ]
     },
     "execution_count": 11,
     "metadata": {},
     "output_type": "execute_result"
    }
   ],
   "source": [
    "table_all.head()"
   ]
  },
  {
   "cell_type": "code",
   "execution_count": 14,
   "metadata": {
    "collapsed": false
   },
   "outputs": [
    {
     "data": {
      "text/html": [
       "<div>\n",
       "<table border=\"1\" class=\"dataframe\">\n",
       "  <thead>\n",
       "    <tr>\n",
       "      <th>Spiroplasma</th>\n",
       "      <th colspan=\"2\" halign=\"left\">False</th>\n",
       "      <th colspan=\"2\" halign=\"left\">True</th>\n",
       "    </tr>\n",
       "    <tr>\n",
       "      <th>Sex</th>\n",
       "      <th>F</th>\n",
       "      <th>M</th>\n",
       "      <th>F</th>\n",
       "      <th>M</th>\n",
       "    </tr>\n",
       "    <tr>\n",
       "      <th>Location Code</th>\n",
       "      <th></th>\n",
       "      <th></th>\n",
       "      <th></th>\n",
       "      <th></th>\n",
       "    </tr>\n",
       "  </thead>\n",
       "  <tbody>\n",
       "    <tr>\n",
       "      <th>AMI</th>\n",
       "      <td>12</td>\n",
       "      <td>10</td>\n",
       "      <td>0</td>\n",
       "      <td>1</td>\n",
       "    </tr>\n",
       "    <tr>\n",
       "      <th>BOL</th>\n",
       "      <td>9</td>\n",
       "      <td>6</td>\n",
       "      <td>2</td>\n",
       "      <td>1</td>\n",
       "    </tr>\n",
       "    <tr>\n",
       "      <th>CHU</th>\n",
       "      <td>9</td>\n",
       "      <td>8</td>\n",
       "      <td>1</td>\n",
       "      <td>0</td>\n",
       "    </tr>\n",
       "    <tr>\n",
       "      <th>DUK</th>\n",
       "      <td>5</td>\n",
       "      <td>7</td>\n",
       "      <td>5</td>\n",
       "      <td>3</td>\n",
       "    </tr>\n",
       "    <tr>\n",
       "      <th>GAN</th>\n",
       "      <td>16</td>\n",
       "      <td>4</td>\n",
       "      <td>9</td>\n",
       "      <td>3</td>\n",
       "    </tr>\n",
       "    <tr>\n",
       "      <th>KIL</th>\n",
       "      <td>12</td>\n",
       "      <td>3</td>\n",
       "      <td>2</td>\n",
       "      <td>0</td>\n",
       "    </tr>\n",
       "    <tr>\n",
       "      <th>NGO</th>\n",
       "      <td>12</td>\n",
       "      <td>5</td>\n",
       "      <td>0</td>\n",
       "      <td>0</td>\n",
       "    </tr>\n",
       "    <tr>\n",
       "      <th>OCU</th>\n",
       "      <td>7</td>\n",
       "      <td>6</td>\n",
       "      <td>1</td>\n",
       "      <td>1</td>\n",
       "    </tr>\n",
       "    <tr>\n",
       "      <th>ORB</th>\n",
       "      <td>26</td>\n",
       "      <td>8</td>\n",
       "      <td>19</td>\n",
       "      <td>7</td>\n",
       "    </tr>\n",
       "    <tr>\n",
       "      <th>TUM</th>\n",
       "      <td>9</td>\n",
       "      <td>7</td>\n",
       "      <td>0</td>\n",
       "      <td>0</td>\n",
       "    </tr>\n",
       "  </tbody>\n",
       "</table>\n",
       "</div>"
      ],
      "text/plain": [
       "Spiroplasma   False     True    \n",
       "Sex               F   M     F  M\n",
       "Location Code                   \n",
       "AMI              12  10     0  1\n",
       "BOL               9   6     2  1\n",
       "CHU               9   8     1  0\n",
       "DUK               5   7     5  3\n",
       "GAN              16   4     9  3\n",
       "KIL              12   3     2  0\n",
       "NGO              12   5     0  0\n",
       "OCU               7   6     1  1\n",
       "ORB              26   8    19  7\n",
       "TUM               9   7     0  0"
      ]
     },
     "execution_count": 14,
     "metadata": {},
     "output_type": "execute_result"
    }
   ],
   "source": [
    "table_all_pivot = table_all.pivot_table(values=\"Fly Number\", \n",
    "                                        index=[\"Location Code\"], \n",
    "                                        columns=[\"Spiroplasma\",\"Sex\"], \n",
    "                                        aggfunc=[len], \n",
    "                                        fill_value=0, margins=False, dropna=True)\n",
    "\n",
    "table_all_pivot.columns = table_all_pivot.columns.droplevel() # removes useless 'len' top multilevel index\n",
    "table_all_pivot"
   ]
  },
  {
   "cell_type": "markdown",
   "metadata": {},
   "source": [
    "# Hypotheses tests of locations and multiple testing corrections"
   ]
  },
  {
   "cell_type": "code",
   "execution_count": 15,
   "metadata": {
    "collapsed": false
   },
   "outputs": [],
   "source": [
    "def do_tests(df):\n",
    "    \n",
    "    locations = df.index.values\n",
    "    \n",
    "    tests = {}\n",
    "    \n",
    "    for loc in locations:\n",
    "        \n",
    "        locdf = df.loc[loc,:]\n",
    "        contingency_table = locdf.reshape((2,2))\n",
    "        \n",
    "        odds_ratio, p_val = fisher_exact(contingency_table)\n",
    "        \n",
    "        tests[loc] = (odds_ratio, p_val)\n",
    "        \n",
    "    contingency_table_all = df.sum().reshape((2,2))\n",
    "    odds_ratio_all, p_val_all = fisher_exact(contingency_table_all)\n",
    "    \n",
    "    tests['all'] = (odds_ratio_all, p_val_all)\n",
    "    \n",
    "    testsdf = pd.DataFrame(data=tests, index=[\"Odds ratio\",\"pvals\"], columns=tests.keys(), dtype=None, copy=False)\n",
    "    return testsdf.T\n",
    "\n",
    "def add_fdr(df):\n",
    "    multitests =smd.stats.multitest.multipletests \n",
    "    \n",
    "    # do the fdr correction\n",
    "    reject_or_not,corrected_pval = multitests(pvals=df.pvals, alpha=0.05, method='fdr_bh')[:2]\n",
    "    \n",
    "    # add results to dataframe\n",
    "    df[\"Reject the null?\"],df[\"adjusted pvals\"] = reject_or_not,corrected_pval"
   ]
  },
  {
   "cell_type": "code",
   "execution_count": 16,
   "metadata": {
    "collapsed": false
   },
   "outputs": [
    {
     "name": "stderr",
     "output_type": "stream",
     "text": [
      "/home/gus/anaconda2/envs/stack2/lib/python2.7/site-packages/ipykernel/__main__.py:3: FutureWarning: sort(....) is deprecated, use sort_index(.....)\n",
      "  app.launch_new_instance()\n"
     ]
    },
    {
     "data": {
      "text/html": [
       "<div>\n",
       "<table border=\"1\" class=\"dataframe\">\n",
       "  <thead>\n",
       "    <tr style=\"text-align: right;\">\n",
       "      <th></th>\n",
       "      <th>Odds ratio</th>\n",
       "      <th>pvals</th>\n",
       "      <th>Reject the null?</th>\n",
       "      <th>adjusted pvals</th>\n",
       "    </tr>\n",
       "  </thead>\n",
       "  <tbody>\n",
       "    <tr>\n",
       "      <th>AMI</th>\n",
       "      <td>inf</td>\n",
       "      <td>0.478261</td>\n",
       "      <td>False</td>\n",
       "      <td>1</td>\n",
       "    </tr>\n",
       "    <tr>\n",
       "      <th>BOL</th>\n",
       "      <td>0.750000</td>\n",
       "      <td>1.000000</td>\n",
       "      <td>False</td>\n",
       "      <td>1</td>\n",
       "    </tr>\n",
       "    <tr>\n",
       "      <th>CHU</th>\n",
       "      <td>0.000000</td>\n",
       "      <td>1.000000</td>\n",
       "      <td>False</td>\n",
       "      <td>1</td>\n",
       "    </tr>\n",
       "    <tr>\n",
       "      <th>DUK</th>\n",
       "      <td>0.428571</td>\n",
       "      <td>0.649917</td>\n",
       "      <td>False</td>\n",
       "      <td>1</td>\n",
       "    </tr>\n",
       "    <tr>\n",
       "      <th>GAN</th>\n",
       "      <td>1.333333</td>\n",
       "      <td>1.000000</td>\n",
       "      <td>False</td>\n",
       "      <td>1</td>\n",
       "    </tr>\n",
       "    <tr>\n",
       "      <th>KIL</th>\n",
       "      <td>0.000000</td>\n",
       "      <td>1.000000</td>\n",
       "      <td>False</td>\n",
       "      <td>1</td>\n",
       "    </tr>\n",
       "    <tr>\n",
       "      <th>NGO</th>\n",
       "      <td>NaN</td>\n",
       "      <td>1.000000</td>\n",
       "      <td>False</td>\n",
       "      <td>1</td>\n",
       "    </tr>\n",
       "    <tr>\n",
       "      <th>OCU</th>\n",
       "      <td>1.166667</td>\n",
       "      <td>1.000000</td>\n",
       "      <td>False</td>\n",
       "      <td>1</td>\n",
       "    </tr>\n",
       "    <tr>\n",
       "      <th>ORB</th>\n",
       "      <td>1.197368</td>\n",
       "      <td>0.772985</td>\n",
       "      <td>False</td>\n",
       "      <td>1</td>\n",
       "    </tr>\n",
       "    <tr>\n",
       "      <th>TUM</th>\n",
       "      <td>NaN</td>\n",
       "      <td>1.000000</td>\n",
       "      <td>False</td>\n",
       "      <td>1</td>\n",
       "    </tr>\n",
       "    <tr>\n",
       "      <th>all</th>\n",
       "      <td>0.750000</td>\n",
       "      <td>0.420572</td>\n",
       "      <td>False</td>\n",
       "      <td>1</td>\n",
       "    </tr>\n",
       "  </tbody>\n",
       "</table>\n",
       "</div>"
      ],
      "text/plain": [
       "     Odds ratio     pvals Reject the null?  adjusted pvals\n",
       "AMI         inf  0.478261            False               1\n",
       "BOL    0.750000  1.000000            False               1\n",
       "CHU    0.000000  1.000000            False               1\n",
       "DUK    0.428571  0.649917            False               1\n",
       "GAN    1.333333  1.000000            False               1\n",
       "KIL    0.000000  1.000000            False               1\n",
       "NGO         NaN  1.000000            False               1\n",
       "OCU    1.166667  1.000000            False               1\n",
       "ORB    1.197368  0.772985            False               1\n",
       "TUM         NaN  1.000000            False               1\n",
       "all    0.750000  0.420572            False               1"
      ]
     },
     "execution_count": 16,
     "metadata": {},
     "output_type": "execute_result"
    }
   ],
   "source": [
    "results = do_tests(table_all_pivot)\n",
    "add_fdr(results)\n",
    "results.sort()"
   ]
  },
  {
   "cell_type": "markdown",
   "metadata": {},
   "source": [
    "# Is there a significant difference of Spiroplasma prevalence between populations?\n",
    "\n",
    "- will NOT use one way ANOVA bc the data is categorical\n",
    "- will use logit regression probably\n",
    "- may run both `scipy` and `statsmodels` version out of curiousity and to double check results"
   ]
  },
  {
   "cell_type": "markdown",
   "metadata": {},
   "source": [
    "## To make the easier to interpret going to pull in the GPS coords of the locations\n",
    "\n",
    "- this will let me run the comparison vs location name (categorical) and location coords (numerical) "
   ]
  },
  {
   "cell_type": "code",
   "execution_count": 19,
   "metadata": {
    "collapsed": true
   },
   "outputs": [],
   "source": [
    "location_gps = pd.read_csv('/home/gus/Dropbox/uganda_data/data_repos/field_data/locations/gps/villages/uganda_villages_gps.csv',\n",
    "                           sep=','\n",
    "                          )"
   ]
  },
  {
   "cell_type": "code",
   "execution_count": 20,
   "metadata": {
    "collapsed": false
   },
   "outputs": [
    {
     "data": {
      "text/html": [
       "<div>\n",
       "<table border=\"1\" class=\"dataframe\">\n",
       "  <thead>\n",
       "    <tr style=\"text-align: right;\">\n",
       "      <th></th>\n",
       "      <th>Location</th>\n",
       "      <th>Latitude</th>\n",
       "      <th>Longitude</th>\n",
       "    </tr>\n",
       "  </thead>\n",
       "  <tbody>\n",
       "    <tr>\n",
       "      <th>0</th>\n",
       "      <td>ABO</td>\n",
       "      <td>2.466775</td>\n",
       "      <td>32.56499</td>\n",
       "    </tr>\n",
       "    <tr>\n",
       "      <th>1</th>\n",
       "      <td>ACA</td>\n",
       "      <td>2.270080</td>\n",
       "      <td>32.52053</td>\n",
       "    </tr>\n",
       "    <tr>\n",
       "      <th>2</th>\n",
       "      <td>AG</td>\n",
       "      <td>2.413985</td>\n",
       "      <td>32.59915</td>\n",
       "    </tr>\n",
       "    <tr>\n",
       "      <th>3</th>\n",
       "      <td>AIN</td>\n",
       "      <td>3.304225</td>\n",
       "      <td>31.11941</td>\n",
       "    </tr>\n",
       "    <tr>\n",
       "      <th>4</th>\n",
       "      <td>AKA</td>\n",
       "      <td>2.372580</td>\n",
       "      <td>32.67495</td>\n",
       "    </tr>\n",
       "  </tbody>\n",
       "</table>\n",
       "</div>"
      ],
      "text/plain": [
       "  Location  Latitude  Longitude\n",
       "0      ABO  2.466775   32.56499\n",
       "1      ACA  2.270080   32.52053\n",
       "2       AG  2.413985   32.59915\n",
       "3      AIN  3.304225   31.11941\n",
       "4      AKA  2.372580   32.67495"
      ]
     },
     "execution_count": 20,
     "metadata": {},
     "output_type": "execute_result"
    }
   ],
   "source": [
    "location_gps.head()"
   ]
  },
  {
   "cell_type": "code",
   "execution_count": 21,
   "metadata": {
    "collapsed": false
   },
   "outputs": [
    {
     "data": {
      "text/html": [
       "<div>\n",
       "<table border=\"1\" class=\"dataframe\">\n",
       "  <thead>\n",
       "    <tr style=\"text-align: right;\">\n",
       "      <th></th>\n",
       "      <th>Box</th>\n",
       "      <th>Location Code</th>\n",
       "      <th>Numbers on Vial</th>\n",
       "      <th>Fly Number</th>\n",
       "      <th>Month</th>\n",
       "      <th>Sex</th>\n",
       "      <th>DNA made</th>\n",
       "      <th>Wolbachia</th>\n",
       "      <th>Spiroplasma</th>\n",
       "      <th>Latitude</th>\n",
       "      <th>Longitude</th>\n",
       "    </tr>\n",
       "  </thead>\n",
       "  <tbody>\n",
       "    <tr>\n",
       "      <th>0</th>\n",
       "      <td>RP4</td>\n",
       "      <td>DUK</td>\n",
       "      <td>AR14016 T20</td>\n",
       "      <td>16</td>\n",
       "      <td>41812</td>\n",
       "      <td>F</td>\n",
       "      <td>Yrp</td>\n",
       "      <td>False</td>\n",
       "      <td>False</td>\n",
       "      <td>3.2668</td>\n",
       "      <td>31.134205</td>\n",
       "    </tr>\n",
       "    <tr>\n",
       "      <th>1</th>\n",
       "      <td>RP4</td>\n",
       "      <td>DUK</td>\n",
       "      <td>AR14001 T20</td>\n",
       "      <td>1</td>\n",
       "      <td>41812</td>\n",
       "      <td>M</td>\n",
       "      <td>Yrp</td>\n",
       "      <td>False</td>\n",
       "      <td>False</td>\n",
       "      <td>3.2668</td>\n",
       "      <td>31.134205</td>\n",
       "    </tr>\n",
       "    <tr>\n",
       "      <th>2</th>\n",
       "      <td>RP4</td>\n",
       "      <td>DUK</td>\n",
       "      <td>AR14002 T20</td>\n",
       "      <td>2</td>\n",
       "      <td>41812</td>\n",
       "      <td>M</td>\n",
       "      <td>Yrp</td>\n",
       "      <td>False</td>\n",
       "      <td>False</td>\n",
       "      <td>3.2668</td>\n",
       "      <td>31.134205</td>\n",
       "    </tr>\n",
       "    <tr>\n",
       "      <th>3</th>\n",
       "      <td>RP4</td>\n",
       "      <td>DUK</td>\n",
       "      <td>AR14004 T20</td>\n",
       "      <td>4</td>\n",
       "      <td>41812</td>\n",
       "      <td>F</td>\n",
       "      <td>Yrp</td>\n",
       "      <td>False</td>\n",
       "      <td>False</td>\n",
       "      <td>3.2668</td>\n",
       "      <td>31.134205</td>\n",
       "    </tr>\n",
       "    <tr>\n",
       "      <th>4</th>\n",
       "      <td>RP4</td>\n",
       "      <td>DUK</td>\n",
       "      <td>AR14007 T20</td>\n",
       "      <td>7</td>\n",
       "      <td>41812</td>\n",
       "      <td>M</td>\n",
       "      <td>Yrp</td>\n",
       "      <td>False</td>\n",
       "      <td>False</td>\n",
       "      <td>3.2668</td>\n",
       "      <td>31.134205</td>\n",
       "    </tr>\n",
       "  </tbody>\n",
       "</table>\n",
       "</div>"
      ],
      "text/plain": [
       "   Box Location Code Numbers on Vial Fly Number  Month Sex DNA made Wolbachia  \\\n",
       "0  RP4           DUK     AR14016 T20         16  41812   F      Yrp     False   \n",
       "1  RP4           DUK     AR14001 T20          1  41812   M      Yrp     False   \n",
       "2  RP4           DUK     AR14002 T20          2  41812   M      Yrp     False   \n",
       "3  RP4           DUK     AR14004 T20          4  41812   F      Yrp     False   \n",
       "4  RP4           DUK     AR14007 T20          7  41812   M      Yrp     False   \n",
       "\n",
       "  Spiroplasma  Latitude  Longitude  \n",
       "0       False    3.2668  31.134205  \n",
       "1       False    3.2668  31.134205  \n",
       "2       False    3.2668  31.134205  \n",
       "3       False    3.2668  31.134205  \n",
       "4       False    3.2668  31.134205  "
      ]
     },
     "execution_count": 21,
     "metadata": {},
     "output_type": "execute_result"
    }
   ],
   "source": [
    "table_all_gps = pd.merge(left=table_all, \n",
    "                         right=location_gps, \n",
    "                         how='left', \n",
    "                         on=None, \n",
    "                         left_on=\"Location Code\", right_on=\"Location\", \n",
    "                         left_index=False, right_index=False, \n",
    "                         sort=False, suffixes=('_x', '_y'), copy=True).drop(labels=[\"Location\"],axis=1)\n",
    "table_all_gps.head()"
   ]
  },
  {
   "cell_type": "code",
   "execution_count": 22,
   "metadata": {
    "collapsed": false
   },
   "outputs": [
    {
     "data": {
      "text/html": [
       "<div>\n",
       "<table border=\"1\" class=\"dataframe\">\n",
       "  <thead>\n",
       "    <tr style=\"text-align: right;\">\n",
       "      <th></th>\n",
       "      <th>Box</th>\n",
       "      <th>Location Code</th>\n",
       "      <th>Numbers on Vial</th>\n",
       "      <th>Fly Number</th>\n",
       "      <th>Month</th>\n",
       "      <th>Sex</th>\n",
       "      <th>DNA made</th>\n",
       "      <th>Wolbachia</th>\n",
       "      <th>Spiroplasma</th>\n",
       "      <th>Latitude</th>\n",
       "      <th>Longitude</th>\n",
       "    </tr>\n",
       "  </thead>\n",
       "  <tbody>\n",
       "    <tr>\n",
       "      <th>0</th>\n",
       "      <td>RP4</td>\n",
       "      <td>DUK</td>\n",
       "      <td>AR14016 T20</td>\n",
       "      <td>16</td>\n",
       "      <td>41812</td>\n",
       "      <td>F</td>\n",
       "      <td>Yrp</td>\n",
       "      <td>False</td>\n",
       "      <td>0</td>\n",
       "      <td>3.2668</td>\n",
       "      <td>31.134205</td>\n",
       "    </tr>\n",
       "    <tr>\n",
       "      <th>1</th>\n",
       "      <td>RP4</td>\n",
       "      <td>DUK</td>\n",
       "      <td>AR14001 T20</td>\n",
       "      <td>1</td>\n",
       "      <td>41812</td>\n",
       "      <td>M</td>\n",
       "      <td>Yrp</td>\n",
       "      <td>False</td>\n",
       "      <td>0</td>\n",
       "      <td>3.2668</td>\n",
       "      <td>31.134205</td>\n",
       "    </tr>\n",
       "    <tr>\n",
       "      <th>2</th>\n",
       "      <td>RP4</td>\n",
       "      <td>DUK</td>\n",
       "      <td>AR14002 T20</td>\n",
       "      <td>2</td>\n",
       "      <td>41812</td>\n",
       "      <td>M</td>\n",
       "      <td>Yrp</td>\n",
       "      <td>False</td>\n",
       "      <td>0</td>\n",
       "      <td>3.2668</td>\n",
       "      <td>31.134205</td>\n",
       "    </tr>\n",
       "    <tr>\n",
       "      <th>3</th>\n",
       "      <td>RP4</td>\n",
       "      <td>DUK</td>\n",
       "      <td>AR14004 T20</td>\n",
       "      <td>4</td>\n",
       "      <td>41812</td>\n",
       "      <td>F</td>\n",
       "      <td>Yrp</td>\n",
       "      <td>False</td>\n",
       "      <td>0</td>\n",
       "      <td>3.2668</td>\n",
       "      <td>31.134205</td>\n",
       "    </tr>\n",
       "    <tr>\n",
       "      <th>4</th>\n",
       "      <td>RP4</td>\n",
       "      <td>DUK</td>\n",
       "      <td>AR14007 T20</td>\n",
       "      <td>7</td>\n",
       "      <td>41812</td>\n",
       "      <td>M</td>\n",
       "      <td>Yrp</td>\n",
       "      <td>False</td>\n",
       "      <td>0</td>\n",
       "      <td>3.2668</td>\n",
       "      <td>31.134205</td>\n",
       "    </tr>\n",
       "  </tbody>\n",
       "</table>\n",
       "</div>"
      ],
      "text/plain": [
       "   Box Location Code Numbers on Vial Fly Number  Month Sex DNA made Wolbachia  \\\n",
       "0  RP4           DUK     AR14016 T20         16  41812   F      Yrp     False   \n",
       "1  RP4           DUK     AR14001 T20          1  41812   M      Yrp     False   \n",
       "2  RP4           DUK     AR14002 T20          2  41812   M      Yrp     False   \n",
       "3  RP4           DUK     AR14004 T20          4  41812   F      Yrp     False   \n",
       "4  RP4           DUK     AR14007 T20          7  41812   M      Yrp     False   \n",
       "\n",
       "   Spiroplasma  Latitude  Longitude  \n",
       "0            0    3.2668  31.134205  \n",
       "1            0    3.2668  31.134205  \n",
       "2            0    3.2668  31.134205  \n",
       "3            0    3.2668  31.134205  \n",
       "4            0    3.2668  31.134205  "
      ]
     },
     "execution_count": 22,
     "metadata": {},
     "output_type": "execute_result"
    }
   ],
   "source": [
    "# recode Spiroplasma as 0/1 vs True/False\n",
    "table_all_gps[\"Spiroplasma\"] = table_all_gps.Spiroplasma.map({True:1,False:0})\n",
    "table_all_gps.head()"
   ]
  },
  {
   "cell_type": "markdown",
   "metadata": {},
   "source": [
    "## Run the logistic regression model"
   ]
  },
  {
   "cell_type": "code",
   "execution_count": 24,
   "metadata": {
    "collapsed": false
   },
   "outputs": [
    {
     "name": "stdout",
     "output_type": "stream",
     "text": [
      "Optimization terminated successfully.\n",
      "         Current function value: 0.485212\n",
      "         Iterations 6\n"
     ]
    },
    {
     "data": {
      "text/html": [
       "<table class=\"simpletable\">\n",
       "<caption>Logit Regression Results</caption>\n",
       "<tr>\n",
       "  <th>Dep. Variable:</th>    <td>Spiroplasma</td>   <th>  No. Observations:  </th>  <td>   252</td>  \n",
       "</tr>\n",
       "<tr>\n",
       "  <th>Model:</th>               <td>Logit</td>      <th>  Df Residuals:      </th>  <td>   249</td>  \n",
       "</tr>\n",
       "<tr>\n",
       "  <th>Method:</th>               <td>MLE</td>       <th>  Df Model:          </th>  <td>     2</td>  \n",
       "</tr>\n",
       "<tr>\n",
       "  <th>Date:</th>          <td>Wed, 04 Nov 2015</td> <th>  Pseudo R-squ.:     </th>  <td>0.1006</td>  \n",
       "</tr>\n",
       "<tr>\n",
       "  <th>Time:</th>              <td>15:13:44</td>     <th>  Log-Likelihood:    </th> <td> -122.27</td> \n",
       "</tr>\n",
       "<tr>\n",
       "  <th>converged:</th>           <td>True</td>       <th>  LL-Null:           </th> <td> -135.95</td> \n",
       "</tr>\n",
       "<tr>\n",
       "  <th> </th>                      <td> </td>        <th>  LLR p-value:       </th> <td>1.154e-06</td>\n",
       "</tr>\n",
       "</table>\n",
       "<table class=\"simpletable\">\n",
       "<tr>\n",
       "      <td></td>         <th>coef</th>     <th>std err</th>      <th>z</th>      <th>P>|z|</th> <th>[95.0% Conf. Int.]</th> \n",
       "</tr>\n",
       "<tr>\n",
       "  <th>Intercept</th> <td>   33.2038</td> <td>    8.907</td> <td>    3.728</td> <td> 0.000</td> <td>   15.746    50.661</td>\n",
       "</tr>\n",
       "<tr>\n",
       "  <th>Longitude</th> <td>   -1.0600</td> <td>    0.258</td> <td>   -4.107</td> <td> 0.000</td> <td>   -1.566    -0.554</td>\n",
       "</tr>\n",
       "<tr>\n",
       "  <th>Latitude</th>  <td>   -0.1084</td> <td>    0.312</td> <td>   -0.347</td> <td> 0.729</td> <td>   -0.721     0.504</td>\n",
       "</tr>\n",
       "</table>"
      ],
      "text/plain": [
       "<class 'statsmodels.iolib.summary.Summary'>\n",
       "\"\"\"\n",
       "                           Logit Regression Results                           \n",
       "==============================================================================\n",
       "Dep. Variable:            Spiroplasma   No. Observations:                  252\n",
       "Model:                          Logit   Df Residuals:                      249\n",
       "Method:                           MLE   Df Model:                            2\n",
       "Date:                Wed, 04 Nov 2015   Pseudo R-squ.:                  0.1006\n",
       "Time:                        15:13:44   Log-Likelihood:                -122.27\n",
       "converged:                       True   LL-Null:                       -135.95\n",
       "                                        LLR p-value:                 1.154e-06\n",
       "==============================================================================\n",
       "                 coef    std err          z      P>|z|      [95.0% Conf. Int.]\n",
       "------------------------------------------------------------------------------\n",
       "Intercept     33.2038      8.907      3.728      0.000        15.746    50.661\n",
       "Longitude     -1.0600      0.258     -4.107      0.000        -1.566    -0.554\n",
       "Latitude      -0.1084      0.312     -0.347      0.729        -0.721     0.504\n",
       "==============================================================================\n",
       "\"\"\""
      ]
     },
     "execution_count": 24,
     "metadata": {},
     "output_type": "execute_result"
    }
   ],
   "source": [
    "logit_gps = logit('Spiroplasma ~ Longitude + Latitude',\n",
    "                data=table_all_gps,\n",
    "               ).fit()\n",
    "logit_gps.summary()"
   ]
  },
  {
   "cell_type": "code",
   "execution_count": 25,
   "metadata": {
    "collapsed": false,
    "scrolled": true
   },
   "outputs": [
    {
     "data": {
      "text/html": [
       "<table class=\"simpletable\">\n",
       "<caption>Logit Marginal Effects</caption>\n",
       "<tr>\n",
       "  <th>Dep. Variable:</th> <td>Spiroplasma</td>\n",
       "</tr>\n",
       "<tr>\n",
       "  <th>Method:</th>           <td>dydx</td>    \n",
       "</tr>\n",
       "<tr>\n",
       "  <th>At:</th>              <td>overall</td>  \n",
       "</tr>\n",
       "</table>\n",
       "<table class=\"simpletable\">\n",
       "<tr>\n",
       "      <th></th>         <th>dy/dx</th>    <th>std err</th>      <th>z</th>      <th>P>|z|</th> <th>[95.0% Conf. Int.]</th> \n",
       "</tr>\n",
       "<tr>\n",
       "  <th>Longitude</th> <td>   -0.1670</td> <td>    0.036</td> <td>   -4.645</td> <td> 0.000</td> <td>   -0.238    -0.097</td>\n",
       "</tr>\n",
       "<tr>\n",
       "  <th>Latitude</th>  <td>   -0.0171</td> <td>    0.049</td> <td>   -0.348</td> <td> 0.728</td> <td>   -0.113     0.079</td>\n",
       "</tr>\n",
       "</table>"
      ],
      "text/plain": [
       "<class 'statsmodels.iolib.summary.Summary'>\n",
       "\"\"\"\n",
       "        Logit Marginal Effects       \n",
       "=====================================\n",
       "Dep. Variable:            Spiroplasma\n",
       "Method:                          dydx\n",
       "At:                           overall\n",
       "==============================================================================\n",
       "                dy/dx    std err          z      P>|z|      [95.0% Conf. Int.]\n",
       "------------------------------------------------------------------------------\n",
       "Longitude     -0.1670      0.036     -4.645      0.000        -0.238    -0.097\n",
       "Latitude      -0.0171      0.049     -0.348      0.728        -0.113     0.079\n",
       "==============================================================================\n",
       "\"\"\""
      ]
     },
     "execution_count": 25,
     "metadata": {},
     "output_type": "execute_result"
    }
   ],
   "source": [
    "logit_gps.get_margeff().summary()"
   ]
  },
  {
   "cell_type": "markdown",
   "metadata": {},
   "source": [
    "-------------------"
   ]
  },
  {
   "cell_type": "markdown",
   "metadata": {
    "collapsed": true
   },
   "source": [
    "# Final Results\n",
    "\n",
    "### Overview of what was done:\n",
    "\n",
    "#### Sex Bias\n",
    "1. Tables were cleaned using [OpenRefine](http://openrefine.org/) to standardize things like\n",
    "    - \"positive\"\n",
    "    - \"Positive\"\n",
    "    - \"yes\"\n",
    "    - \"Yes\"\n",
    "\n",
    "2. Tables were read into this notebook and the table without Sex information was cross-referenced with the original database entries to recover any sex information availible.\n",
    "3. Tables were further cleaned to remove any columns that were not needed to unambiguously identify each fly or represent the Sex/Spiroplasma data.\n",
    "    - Flies that had missing data or needed to be re-run were removed.\n",
    "4. Tables were combined to a single table and the data were grouped by the number of flies belonging to any combination of __Spiroplasma results__ (pos/neg) vs __Sex__ (M/F).\n",
    "    - This table represents contingency table information for each location.\n",
    "5. The contingency tables for each location as well as the summed contingency table for all data combined, were used to calculate [Fisher's exact test of independence](http://www.biostathandbook.com/fishers.html) to yield odds ratios and initial p-values for all sub-sets of data examined.\n",
    "6. Multiple testing correction (Benjamini-Hochberg) was applied and adjusted p-values along with rejection of null hypothese recommentations appened to the table.\n",
    "\n",
    "#### Geographical Location Bias\n",
    "\n",
    "1. Started with the same data as used above but brought in the representative latitude and longitude coordinates of each location to use as the independent variables.\n",
    "2. Logistic regression was run with the model: `infection ~ lat + long`:\n",
    "    - _independent variables:_ `lat`, `long`\n",
    "    - _dependent variables:_ `infection`\n",
    "\n",
    "---------------------"
   ]
  },
  {
   "cell_type": "markdown",
   "metadata": {},
   "source": [
    "# Sex Bias Results:"
   ]
  },
  {
   "cell_type": "markdown",
   "metadata": {},
   "source": [
    "## Contingency Data:"
   ]
  },
  {
   "cell_type": "code",
   "execution_count": 26,
   "metadata": {
    "collapsed": false
   },
   "outputs": [
    {
     "data": {
      "text/html": [
       "<div>\n",
       "<table border=\"1\" class=\"dataframe\">\n",
       "  <thead>\n",
       "    <tr>\n",
       "      <th>Spiroplasma</th>\n",
       "      <th colspan=\"2\" halign=\"left\">False</th>\n",
       "      <th colspan=\"2\" halign=\"left\">True</th>\n",
       "    </tr>\n",
       "    <tr>\n",
       "      <th>Sex</th>\n",
       "      <th>F</th>\n",
       "      <th>M</th>\n",
       "      <th>F</th>\n",
       "      <th>M</th>\n",
       "    </tr>\n",
       "    <tr>\n",
       "      <th>Location Code</th>\n",
       "      <th></th>\n",
       "      <th></th>\n",
       "      <th></th>\n",
       "      <th></th>\n",
       "    </tr>\n",
       "  </thead>\n",
       "  <tbody>\n",
       "    <tr>\n",
       "      <th>AMI</th>\n",
       "      <td>12</td>\n",
       "      <td>10</td>\n",
       "      <td>0</td>\n",
       "      <td>1</td>\n",
       "    </tr>\n",
       "    <tr>\n",
       "      <th>BOL</th>\n",
       "      <td>9</td>\n",
       "      <td>6</td>\n",
       "      <td>2</td>\n",
       "      <td>1</td>\n",
       "    </tr>\n",
       "    <tr>\n",
       "      <th>CHU</th>\n",
       "      <td>9</td>\n",
       "      <td>8</td>\n",
       "      <td>1</td>\n",
       "      <td>0</td>\n",
       "    </tr>\n",
       "    <tr>\n",
       "      <th>DUK</th>\n",
       "      <td>5</td>\n",
       "      <td>7</td>\n",
       "      <td>5</td>\n",
       "      <td>3</td>\n",
       "    </tr>\n",
       "    <tr>\n",
       "      <th>GAN</th>\n",
       "      <td>16</td>\n",
       "      <td>4</td>\n",
       "      <td>9</td>\n",
       "      <td>3</td>\n",
       "    </tr>\n",
       "    <tr>\n",
       "      <th>KIL</th>\n",
       "      <td>12</td>\n",
       "      <td>3</td>\n",
       "      <td>2</td>\n",
       "      <td>0</td>\n",
       "    </tr>\n",
       "    <tr>\n",
       "      <th>NGO</th>\n",
       "      <td>12</td>\n",
       "      <td>5</td>\n",
       "      <td>0</td>\n",
       "      <td>0</td>\n",
       "    </tr>\n",
       "    <tr>\n",
       "      <th>OCU</th>\n",
       "      <td>7</td>\n",
       "      <td>6</td>\n",
       "      <td>1</td>\n",
       "      <td>1</td>\n",
       "    </tr>\n",
       "    <tr>\n",
       "      <th>ORB</th>\n",
       "      <td>26</td>\n",
       "      <td>8</td>\n",
       "      <td>19</td>\n",
       "      <td>7</td>\n",
       "    </tr>\n",
       "    <tr>\n",
       "      <th>TUM</th>\n",
       "      <td>9</td>\n",
       "      <td>7</td>\n",
       "      <td>0</td>\n",
       "      <td>0</td>\n",
       "    </tr>\n",
       "  </tbody>\n",
       "</table>\n",
       "</div>"
      ],
      "text/plain": [
       "Spiroplasma   False     True    \n",
       "Sex               F   M     F  M\n",
       "Location Code                   \n",
       "AMI              12  10     0  1\n",
       "BOL               9   6     2  1\n",
       "CHU               9   8     1  0\n",
       "DUK               5   7     5  3\n",
       "GAN              16   4     9  3\n",
       "KIL              12   3     2  0\n",
       "NGO              12   5     0  0\n",
       "OCU               7   6     1  1\n",
       "ORB              26   8    19  7\n",
       "TUM               9   7     0  0"
      ]
     },
     "execution_count": 26,
     "metadata": {},
     "output_type": "execute_result"
    }
   ],
   "source": [
    "table_all_pivot"
   ]
  },
  {
   "cell_type": "markdown",
   "metadata": {},
   "source": [
    "## Significance tests:"
   ]
  },
  {
   "cell_type": "code",
   "execution_count": 27,
   "metadata": {
    "collapsed": false
   },
   "outputs": [
    {
     "name": "stderr",
     "output_type": "stream",
     "text": [
      "/home/gus/anaconda2/envs/stack2/lib/python2.7/site-packages/ipykernel/__main__.py:1: FutureWarning: sort(....) is deprecated, use sort_index(.....)\n",
      "  if __name__ == '__main__':\n"
     ]
    },
    {
     "data": {
      "text/html": [
       "<div>\n",
       "<table border=\"1\" class=\"dataframe\">\n",
       "  <thead>\n",
       "    <tr style=\"text-align: right;\">\n",
       "      <th></th>\n",
       "      <th>Odds ratio</th>\n",
       "      <th>pvals</th>\n",
       "      <th>Reject the null?</th>\n",
       "      <th>adjusted pvals</th>\n",
       "    </tr>\n",
       "  </thead>\n",
       "  <tbody>\n",
       "    <tr>\n",
       "      <th>AMI</th>\n",
       "      <td>inf</td>\n",
       "      <td>0.478261</td>\n",
       "      <td>False</td>\n",
       "      <td>1</td>\n",
       "    </tr>\n",
       "    <tr>\n",
       "      <th>BOL</th>\n",
       "      <td>0.750000</td>\n",
       "      <td>1.000000</td>\n",
       "      <td>False</td>\n",
       "      <td>1</td>\n",
       "    </tr>\n",
       "    <tr>\n",
       "      <th>CHU</th>\n",
       "      <td>0.000000</td>\n",
       "      <td>1.000000</td>\n",
       "      <td>False</td>\n",
       "      <td>1</td>\n",
       "    </tr>\n",
       "    <tr>\n",
       "      <th>DUK</th>\n",
       "      <td>0.428571</td>\n",
       "      <td>0.649917</td>\n",
       "      <td>False</td>\n",
       "      <td>1</td>\n",
       "    </tr>\n",
       "    <tr>\n",
       "      <th>GAN</th>\n",
       "      <td>1.333333</td>\n",
       "      <td>1.000000</td>\n",
       "      <td>False</td>\n",
       "      <td>1</td>\n",
       "    </tr>\n",
       "    <tr>\n",
       "      <th>KIL</th>\n",
       "      <td>0.000000</td>\n",
       "      <td>1.000000</td>\n",
       "      <td>False</td>\n",
       "      <td>1</td>\n",
       "    </tr>\n",
       "    <tr>\n",
       "      <th>NGO</th>\n",
       "      <td>NaN</td>\n",
       "      <td>1.000000</td>\n",
       "      <td>False</td>\n",
       "      <td>1</td>\n",
       "    </tr>\n",
       "    <tr>\n",
       "      <th>OCU</th>\n",
       "      <td>1.166667</td>\n",
       "      <td>1.000000</td>\n",
       "      <td>False</td>\n",
       "      <td>1</td>\n",
       "    </tr>\n",
       "    <tr>\n",
       "      <th>ORB</th>\n",
       "      <td>1.197368</td>\n",
       "      <td>0.772985</td>\n",
       "      <td>False</td>\n",
       "      <td>1</td>\n",
       "    </tr>\n",
       "    <tr>\n",
       "      <th>TUM</th>\n",
       "      <td>NaN</td>\n",
       "      <td>1.000000</td>\n",
       "      <td>False</td>\n",
       "      <td>1</td>\n",
       "    </tr>\n",
       "    <tr>\n",
       "      <th>all</th>\n",
       "      <td>0.750000</td>\n",
       "      <td>0.420572</td>\n",
       "      <td>False</td>\n",
       "      <td>1</td>\n",
       "    </tr>\n",
       "  </tbody>\n",
       "</table>\n",
       "</div>"
      ],
      "text/plain": [
       "     Odds ratio     pvals Reject the null?  adjusted pvals\n",
       "AMI         inf  0.478261            False               1\n",
       "BOL    0.750000  1.000000            False               1\n",
       "CHU    0.000000  1.000000            False               1\n",
       "DUK    0.428571  0.649917            False               1\n",
       "GAN    1.333333  1.000000            False               1\n",
       "KIL    0.000000  1.000000            False               1\n",
       "NGO         NaN  1.000000            False               1\n",
       "OCU    1.166667  1.000000            False               1\n",
       "ORB    1.197368  0.772985            False               1\n",
       "TUM         NaN  1.000000            False               1\n",
       "all    0.750000  0.420572            False               1"
      ]
     },
     "execution_count": 27,
     "metadata": {},
     "output_type": "execute_result"
    }
   ],
   "source": [
    "results.sort()"
   ]
  },
  {
   "cell_type": "markdown",
   "metadata": {},
   "source": [
    "# Sex Bias Conclusions:\n",
    "\n",
    "There is <b><font color=\"red\">no sex bias detected</font></b> for probability of being infected with Spiroplasma based on these data at the location level nor over all.\n",
    "\n",
    " ----"
   ]
  },
  {
   "cell_type": "markdown",
   "metadata": {},
   "source": [
    "# Geographical Bias Results:"
   ]
  },
  {
   "cell_type": "code",
   "execution_count": 28,
   "metadata": {
    "collapsed": false
   },
   "outputs": [
    {
     "data": {
      "text/html": [
       "<table class=\"simpletable\">\n",
       "<caption>Logit Regression Results</caption>\n",
       "<tr>\n",
       "  <th>Dep. Variable:</th>    <td>Spiroplasma</td>   <th>  No. Observations:  </th>  <td>   252</td>  \n",
       "</tr>\n",
       "<tr>\n",
       "  <th>Model:</th>               <td>Logit</td>      <th>  Df Residuals:      </th>  <td>   249</td>  \n",
       "</tr>\n",
       "<tr>\n",
       "  <th>Method:</th>               <td>MLE</td>       <th>  Df Model:          </th>  <td>     2</td>  \n",
       "</tr>\n",
       "<tr>\n",
       "  <th>Date:</th>          <td>Wed, 04 Nov 2015</td> <th>  Pseudo R-squ.:     </th>  <td>0.1006</td>  \n",
       "</tr>\n",
       "<tr>\n",
       "  <th>Time:</th>              <td>15:16:17</td>     <th>  Log-Likelihood:    </th> <td> -122.27</td> \n",
       "</tr>\n",
       "<tr>\n",
       "  <th>converged:</th>           <td>True</td>       <th>  LL-Null:           </th> <td> -135.95</td> \n",
       "</tr>\n",
       "<tr>\n",
       "  <th> </th>                      <td> </td>        <th>  LLR p-value:       </th> <td>1.154e-06</td>\n",
       "</tr>\n",
       "</table>\n",
       "<table class=\"simpletable\">\n",
       "<tr>\n",
       "      <td></td>         <th>coef</th>     <th>std err</th>      <th>z</th>      <th>P>|z|</th> <th>[95.0% Conf. Int.]</th> \n",
       "</tr>\n",
       "<tr>\n",
       "  <th>Intercept</th> <td>   33.2038</td> <td>    8.907</td> <td>    3.728</td> <td> 0.000</td> <td>   15.746    50.661</td>\n",
       "</tr>\n",
       "<tr>\n",
       "  <th>Longitude</th> <td>   -1.0600</td> <td>    0.258</td> <td>   -4.107</td> <td> 0.000</td> <td>   -1.566    -0.554</td>\n",
       "</tr>\n",
       "<tr>\n",
       "  <th>Latitude</th>  <td>   -0.1084</td> <td>    0.312</td> <td>   -0.347</td> <td> 0.729</td> <td>   -0.721     0.504</td>\n",
       "</tr>\n",
       "</table>"
      ],
      "text/plain": [
       "<class 'statsmodels.iolib.summary.Summary'>\n",
       "\"\"\"\n",
       "                           Logit Regression Results                           \n",
       "==============================================================================\n",
       "Dep. Variable:            Spiroplasma   No. Observations:                  252\n",
       "Model:                          Logit   Df Residuals:                      249\n",
       "Method:                           MLE   Df Model:                            2\n",
       "Date:                Wed, 04 Nov 2015   Pseudo R-squ.:                  0.1006\n",
       "Time:                        15:16:17   Log-Likelihood:                -122.27\n",
       "converged:                       True   LL-Null:                       -135.95\n",
       "                                        LLR p-value:                 1.154e-06\n",
       "==============================================================================\n",
       "                 coef    std err          z      P>|z|      [95.0% Conf. Int.]\n",
       "------------------------------------------------------------------------------\n",
       "Intercept     33.2038      8.907      3.728      0.000        15.746    50.661\n",
       "Longitude     -1.0600      0.258     -4.107      0.000        -1.566    -0.554\n",
       "Latitude      -0.1084      0.312     -0.347      0.729        -0.721     0.504\n",
       "==============================================================================\n",
       "\"\"\""
      ]
     },
     "execution_count": 28,
     "metadata": {},
     "output_type": "execute_result"
    }
   ],
   "source": [
    "logit_gps.summary()"
   ]
  },
  {
   "cell_type": "code",
   "execution_count": 29,
   "metadata": {
    "collapsed": false
   },
   "outputs": [
    {
     "data": {
      "text/html": [
       "<table class=\"simpletable\">\n",
       "<caption>Logit Marginal Effects</caption>\n",
       "<tr>\n",
       "  <th>Dep. Variable:</th> <td>Spiroplasma</td>\n",
       "</tr>\n",
       "<tr>\n",
       "  <th>Method:</th>           <td>dydx</td>    \n",
       "</tr>\n",
       "<tr>\n",
       "  <th>At:</th>              <td>overall</td>  \n",
       "</tr>\n",
       "</table>\n",
       "<table class=\"simpletable\">\n",
       "<tr>\n",
       "      <th></th>         <th>dy/dx</th>    <th>std err</th>      <th>z</th>      <th>P>|z|</th> <th>[95.0% Conf. Int.]</th> \n",
       "</tr>\n",
       "<tr>\n",
       "  <th>Longitude</th> <td>   -0.1670</td> <td>    0.036</td> <td>   -4.645</td> <td> 0.000</td> <td>   -0.238    -0.097</td>\n",
       "</tr>\n",
       "<tr>\n",
       "  <th>Latitude</th>  <td>   -0.0171</td> <td>    0.049</td> <td>   -0.348</td> <td> 0.728</td> <td>   -0.113     0.079</td>\n",
       "</tr>\n",
       "</table>"
      ],
      "text/plain": [
       "<class 'statsmodels.iolib.summary.Summary'>\n",
       "\"\"\"\n",
       "        Logit Marginal Effects       \n",
       "=====================================\n",
       "Dep. Variable:            Spiroplasma\n",
       "Method:                          dydx\n",
       "At:                           overall\n",
       "==============================================================================\n",
       "                dy/dx    std err          z      P>|z|      [95.0% Conf. Int.]\n",
       "------------------------------------------------------------------------------\n",
       "Longitude     -0.1670      0.036     -4.645      0.000        -0.238    -0.097\n",
       "Latitude      -0.0171      0.049     -0.348      0.728        -0.113     0.079\n",
       "==============================================================================\n",
       "\"\"\""
      ]
     },
     "execution_count": 29,
     "metadata": {},
     "output_type": "execute_result"
    }
   ],
   "source": [
    "logit_gps.get_margeff().summary()"
   ]
  },
  {
   "cell_type": "markdown",
   "metadata": {},
   "source": [
    "# Geographical Bias Conclusions:\n",
    "\n",
    "There <b><font color=\"green\">is geographical bias detected</font></b> for probability of being infected with Spiroplasma based on these data.\n",
    "\n",
    "- The overall significance of the analysis is $p_{_{LLR}} = 1.154\\times10^{-06}$ which is easily significant.\n",
    "- Particularly, the marginal effects value for __Longitude__ (-0.1670, $p < 10^{-4}$) suggests that as __Longitude__ increases, the probability of infection __DE__-creases.\n",
    "- The effect of __Latitude__ is predicted to be that its increase would result in less pronounced IN-crease of infection probability.  _However this prediction was __not__ significant in the current data._ \n",
    "\n",
    "## Comparison with results from last time:\n",
    "\n",
    "- The marginal effect of Longitude decreased slightly from last time:\n",
    "    - `[then]` -0.2139 ($p < 10^{-4}$)\n",
    "    - `[now]` -0.1670 ($p < 10^{-4}$)\n",
    "\n",
    "- Likewise so did the non-statistically significant marginal effect of Latitude decrease (AND change direction) from last time:\n",
    "    - `[then]` 0.0701 ($p = 0.505 $)\n",
    "    - `[now]` -0.0171($p = 0.728 $)\n",
    "\n",
    "- The Latitude effect switch in direction is likely beacuse it is noise as the p-values in both analyses suggest. \n",
    "\n",
    "----"
   ]
  },
  {
   "cell_type": "code",
   "execution_count": null,
   "metadata": {
    "collapsed": true
   },
   "outputs": [],
   "source": []
  }
 ],
 "metadata": {
  "kernelspec": {
   "display_name": "Python 2",
   "language": "python",
   "name": "python2"
  },
  "language_info": {
   "codemirror_mode": {
    "name": "ipython",
    "version": 2
   },
   "file_extension": ".py",
   "mimetype": "text/x-python",
   "name": "python",
   "nbconvert_exporter": "python",
   "pygments_lexer": "ipython2",
   "version": "2.7.10"
  }
 },
 "nbformat": 4,
 "nbformat_minor": 0
}
