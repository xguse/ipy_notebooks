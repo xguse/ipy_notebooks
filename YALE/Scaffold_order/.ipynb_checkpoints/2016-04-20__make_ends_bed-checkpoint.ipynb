{
 "cells": [
  {
   "cell_type": "markdown",
   "metadata": {
    "toc": "true"
   },
   "source": [
    "# Table of Contents\n",
    " <p><div class=\"lev1\"><a href=\"#Imports\"><span class=\"toc-item-num\">1&nbsp;&nbsp;</span>Imports</a></div><div class=\"lev1\"><a href=\"#Paths\"><span class=\"toc-item-num\">2&nbsp;&nbsp;</span>Paths</a></div><div class=\"lev1\"><a href=\"#Functions\"><span class=\"toc-item-num\">3&nbsp;&nbsp;</span>Functions</a></div><div class=\"lev1\"><a href=\"#Fooling-around\"><span class=\"toc-item-num\">4&nbsp;&nbsp;</span>Fooling around</a></div>"
   ]
  },
  {
   "cell_type": "markdown",
   "metadata": {
    "collapsed": true
   },
   "source": [
    "# Imports"
   ]
  },
  {
   "cell_type": "code",
   "execution_count": 3,
   "metadata": {
    "ExecuteTime": {
     "end_time": "2016-04-20T18:12:53.422526",
     "start_time": "2016-04-20T18:12:53.419246"
    },
    "collapsed": false
   },
   "outputs": [],
   "source": [
    "from pyfaidx import Fasta\n",
    "\n",
    "import pandas as pd"
   ]
  },
  {
   "cell_type": "markdown",
   "metadata": {
    "collapsed": true
   },
   "source": [
    "# Paths"
   ]
  },
  {
   "cell_type": "code",
   "execution_count": 2,
   "metadata": {
    "ExecuteTime": {
     "end_time": "2016-04-20T18:12:02.010693",
     "start_time": "2016-04-20T18:12:02.007779"
    },
    "collapsed": true
   },
   "outputs": [],
   "source": [
    "fas_ = \"/run/media/gus/Storage/louise/data/genomes/glossina_fuscipes/assemblies/GfusI1/Glossina-fuscipes-IAEA_SCAFFOLDS_GfusI1.renamed.fa\""
   ]
  },
  {
   "cell_type": "markdown",
   "metadata": {
    "collapsed": true
   },
   "source": [
    "# Functions"
   ]
  },
  {
   "cell_type": "code",
   "execution_count": 26,
   "metadata": {
    "ExecuteTime": {
     "end_time": "2016-04-20T18:40:03.433242",
     "start_time": "2016-04-20T18:40:03.415232"
    },
    "collapsed": true
   },
   "outputs": [],
   "source": [
    "def make_ends_bed(fasta, window):\n",
    "\n",
    "    for name, seq in list(dict(fas.records).items())[:10]:\n",
    "        seq_range = len(seq)\n",
    "\n",
    "        chrom = name\n",
    "        startL = 0\n",
    "        endL = window\n",
    "        startR = seq_range - window\n",
    "        endR = seq_range\n",
    "\n",
    "        if seq_range < (window * 2) + 1:\n",
    "            continue\n",
    "\n",
    "        yield \"{chrom}\\t{startL}\\t{endL}\\n{chrom}\\t{startR}\\t{endR}\".format(chrom=chrom,\n",
    "                                                                        startL=startL,\n",
    "                                                                        endL=endL,\n",
    "                                                                        startR=startR,\n",
    "                                                                        endR=endR,\n",
    "                                                                       )"
   ]
  },
  {
   "cell_type": "markdown",
   "metadata": {},
   "source": [
    "# Fooling around"
   ]
  },
  {
   "cell_type": "code",
   "execution_count": 4,
   "metadata": {
    "ExecuteTime": {
     "end_time": "2016-04-20T18:14:31.876799",
     "start_time": "2016-04-20T18:14:31.262055"
    },
    "collapsed": true
   },
   "outputs": [],
   "source": [
    "fas = Fasta(fas_)"
   ]
  },
  {
   "cell_type": "code",
   "execution_count": 13,
   "metadata": {
    "ExecuteTime": {
     "end_time": "2016-04-20T18:18:54.321779",
     "start_time": "2016-04-20T18:18:54.318575"
    },
    "collapsed": false
   },
   "outputs": [],
   "source": [
    "fas.records.keys()[]"
   ]
  },
  {
   "cell_type": "code",
   "execution_count": 19,
   "metadata": {
    "ExecuteTime": {
     "end_time": "2016-04-20T18:21:52.956604",
     "start_time": "2016-04-20T18:21:52.946344"
    },
    "collapsed": false
   },
   "outputs": [
    {
     "name": "stdout",
     "output_type": "stream",
     "text": [
      "Scaffold566: 193315\n",
      "Scaffold839: 83110\n",
      "Scaffold458: 243873\n",
      "JFJR01012964: 3083\n",
      "Scaffold268: 427914\n",
      "Scaffold153: 581351\n",
      "Scaffold652: 148373\n",
      "Scaffold74: 941631\n",
      "Scaffold1159: 26017\n",
      "JFJR01012966: 3020\n"
     ]
    }
   ],
   "source": [
    "for k in list(fas.keys())[:10]:\n",
    "    print(\"{key}: {leng}\".format(key=k, leng=len(fas[k][:].seq)))"
   ]
  },
  {
   "cell_type": "code",
   "execution_count": 25,
   "metadata": {
    "ExecuteTime": {
     "end_time": "2016-04-20T18:37:45.380703",
     "start_time": "2016-04-20T18:37:45.366042"
    },
    "collapsed": false
   },
   "outputs": [
    {
     "name": "stdout",
     "output_type": "stream",
     "text": [
      "Scaffold454\t0\t10000\n",
      "Scaffold454\t239179\t249179\n",
      "JFJR01012815\t0\t10000\n",
      "JFJR01012815\t100393\t110393\n",
      "Scaffold259\t0\t10000\n",
      "Scaffold259\t412848\t422848\n",
      "Scaffold461\t0\t10000\n",
      "Scaffold461\t229610\t239610\n",
      "Scaffold174\t0\t10000\n",
      "Scaffold174\t562034\t572034\n",
      "Scaffold222\t0\t10000\n",
      "Scaffold222\t457466\t467466\n",
      "Scaffold21\t0\t10000\n",
      "Scaffold21\t1677493\t1687493\n",
      "Scaffold552\t0\t10000\n",
      "Scaffold552\t191236\t201236\n",
      "Scaffold41\t0\t10000\n",
      "Scaffold41\t1246002\t1256002\n"
     ]
    }
   ],
   "source": [
    "\n",
    "window = 10000\n",
    "\n",
    "for name, seq in list(dict(fas.records).items())[:10]:\n",
    "    seq_range = len(seq)\n",
    "    \n",
    "    chrom = name\n",
    "    startL = 0\n",
    "    endL = window\n",
    "    startR = seq_range - window\n",
    "    endR = seq_range\n",
    "    \n",
    "    if seq_range < (window * 2) + 1:\n",
    "        continue\n",
    "    \n",
    "    print(\"{chrom}\\t{startL}\\t{endL}\\n{chrom}\\t{startR}\\t{endR}\".format(chrom=chrom,\n",
    "                                                                    startL=startL,\n",
    "                                                                    endL=endL,\n",
    "                                                                    startR=startR,\n",
    "                                                                    endR=endR,\n",
    "                                                                   ))\n",
    "    "
   ]
  },
  {
   "cell_type": "code",
   "execution_count": 35,
   "metadata": {
    "ExecuteTime": {
     "end_time": "2016-04-20T18:44:29.715957",
     "start_time": "2016-04-20T18:44:29.713366"
    },
    "collapsed": true
   },
   "outputs": [],
   "source": [
    "bed = make_ends_bed(fasta=fas_, window=10000)"
   ]
  },
  {
   "cell_type": "code",
   "execution_count": 36,
   "metadata": {
    "ExecuteTime": {
     "end_time": "2016-04-20T18:44:30.933348",
     "start_time": "2016-04-20T18:44:30.928664"
    },
    "collapsed": false
   },
   "outputs": [
    {
     "name": "stdout",
     "output_type": "stream",
     "text": [
      "Scaffold454\t0\t10000\n",
      "Scaffold454\t239179\t249179\n"
     ]
    }
   ],
   "source": [
    "print(next(bed))"
   ]
  },
  {
   "cell_type": "code",
   "execution_count": 37,
   "metadata": {
    "ExecuteTime": {
     "end_time": "2016-04-20T18:45:14.012807",
     "start_time": "2016-04-20T18:45:14.008081"
    },
    "collapsed": false
   },
   "outputs": [
    {
     "name": "stdout",
     "output_type": "stream",
     "text": [
      "JFJR01012815\t0\t10000\n",
      "JFJR01012815\t100393\t110393\n",
      "Scaffold259\t0\t10000\n",
      "Scaffold259\t412848\t422848\n",
      "Scaffold461\t0\t10000\n",
      "Scaffold461\t229610\t239610\n",
      "Scaffold174\t0\t10000\n",
      "Scaffold174\t562034\t572034\n",
      "Scaffold222\t0\t10000\n",
      "Scaffold222\t457466\t467466\n",
      "Scaffold21\t0\t10000\n",
      "Scaffold21\t1677493\t1687493\n",
      "Scaffold552\t0\t10000\n",
      "Scaffold552\t191236\t201236\n",
      "Scaffold41\t0\t10000\n",
      "Scaffold41\t1246002\t1256002\n"
     ]
    }
   ],
   "source": [
    "for rec in bed:\n",
    "    print(rec)"
   ]
  },
  {
   "cell_type": "code",
   "execution_count": null,
   "metadata": {
    "collapsed": true
   },
   "outputs": [],
   "source": []
  }
 ],
 "metadata": {
  "kernelspec": {
   "display_name": "Python 3",
   "language": "python",
   "name": "python3"
  },
  "language_info": {
   "codemirror_mode": {
    "name": "ipython",
    "version": 3
   },
   "file_extension": ".py",
   "mimetype": "text/x-python",
   "name": "python",
   "nbconvert_exporter": "python",
   "pygments_lexer": "ipython3",
   "version": "3.5.1"
  },
  "toc": {
   "toc_cell": true,
   "toc_number_sections": true,
   "toc_threshold": 6,
   "toc_window_display": true
  }
 },
 "nbformat": 4,
 "nbformat_minor": 0
}
