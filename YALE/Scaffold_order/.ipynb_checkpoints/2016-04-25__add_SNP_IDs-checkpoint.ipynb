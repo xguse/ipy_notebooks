{
 "cells": [
  {
   "cell_type": "markdown",
   "metadata": {
    "toc": "true"
   },
   "source": [
    "# Table of Contents\n",
    " <p><div class=\"lev1\"><a href=\"#Imports\"><span class=\"toc-item-num\">1&nbsp;&nbsp;</span>Imports</a></div><div class=\"lev1\"><a href=\"#Paths\"><span class=\"toc-item-num\">2&nbsp;&nbsp;</span>Paths</a></div><div class=\"lev1\"><a href=\"#Functions\"><span class=\"toc-item-num\">3&nbsp;&nbsp;</span>Functions</a></div><div class=\"lev1\"><a href=\"#Fooling-around\"><span class=\"toc-item-num\">4&nbsp;&nbsp;</span>Fooling around</a></div>"
   ]
  },
  {
   "cell_type": "markdown",
   "metadata": {
    "collapsed": true
   },
   "source": [
    "# Imports"
   ]
  },
  {
   "cell_type": "code",
   "execution_count": 14,
   "metadata": {
    "ExecuteTime": {
     "end_time": "2016-04-25T16:22:26.268381",
     "start_time": "2016-04-25T16:22:26.265543"
    },
    "collapsed": false
   },
   "outputs": [],
   "source": [
    "import vcf\n",
    "\n",
    "import pandas as pd"
   ]
  },
  {
   "cell_type": "markdown",
   "metadata": {
    "collapsed": true
   },
   "source": [
    "# Paths"
   ]
  },
  {
   "cell_type": "code",
   "execution_count": 38,
   "metadata": {
    "ExecuteTime": {
     "end_time": "2016-04-25T16:55:43.876490",
     "start_time": "2016-04-25T16:55:43.872749"
    },
    "collapsed": true
   },
   "outputs": [],
   "source": [
    "vcf_in = \"/run/media/gus/Storage/louise/data/genomes/glossina_fuscipes/annotations/SNPs/vcftools_out/ddrad58_populations/individuals/tsetseFINAL_14Oct2014_f2_53.recode.renamed_scaffolds.maf0_05.OT_MS_NB_indv.recode.snpEff_ann.vcf\"\n",
    "vcf_out = \"/run/media/gus/Storage/louise/data/genomes/glossina_fuscipes/annotations/SNPs/vcftools_out/ddrad58_populations/individuals/tsetseFINAL_14Oct2014_f2_53.recode.renamed_scaffolds.maf0_05.OT_MS_NB_indv.recode.snpEff_ann.with_IDs.vcf\""
   ]
  },
  {
   "cell_type": "markdown",
   "metadata": {
    "collapsed": true
   },
   "source": [
    "# Functions"
   ]
  },
  {
   "cell_type": "code",
   "execution_count": 31,
   "metadata": {
    "ExecuteTime": {
     "end_time": "2016-04-25T16:49:16.913602",
     "start_time": "2016-04-25T16:49:16.908116"
    },
    "collapsed": true
   },
   "outputs": [],
   "source": [
    "def add_IDs(vcf_in, vcf_out):\n",
    "    \"\"\"Write a new VCF file with position-derived SNP IDs added.\"\"\"\n",
    "    reader = vcf.Reader(open(vcf_in, 'r'))\n",
    "    writer = vcf.Writer(open(vcf_out, 'w'), reader)\n",
    "    \n",
    "    for rec in reader:\n",
    "        rec.ID = \"{chrom}:{pos}\".format(chrom=rec.CHROM,pos=rec.POS)\n",
    "        writer.write_record(rec)"
   ]
  },
  {
   "cell_type": "markdown",
   "metadata": {},
   "source": [
    "# Fooling around"
   ]
  },
  {
   "cell_type": "code",
   "execution_count": 39,
   "metadata": {
    "ExecuteTime": {
     "end_time": "2016-04-25T16:58:19.837482",
     "start_time": "2016-04-25T16:55:50.528293"
    },
    "collapsed": false
   },
   "outputs": [],
   "source": [
    "add_IDs(vcf_in=vcf_in, vcf_out=vcf_out)"
   ]
  },
  {
   "cell_type": "code",
   "execution_count": 40,
   "metadata": {
    "ExecuteTime": {
     "end_time": "2016-04-25T16:58:19.881747",
     "start_time": "2016-04-25T16:58:19.839441"
    },
    "collapsed": false
   },
   "outputs": [
    {
     "data": {
      "text/plain": [
       "'Scaffold0:13388'"
      ]
     },
     "execution_count": 40,
     "metadata": {},
     "output_type": "execute_result"
    }
   ],
   "source": [
    "reader = vcf.Reader(open(vcf_out, 'r'))\n",
    "rec = next(reader)\n",
    "rec.ID"
   ]
  },
  {
   "cell_type": "code",
   "execution_count": null,
   "metadata": {
    "collapsed": true
   },
   "outputs": [],
   "source": []
  }
 ],
 "metadata": {
  "kernelspec": {
   "display_name": "Python 3",
   "language": "python",
   "name": "python3"
  },
  "language_info": {
   "codemirror_mode": {
    "name": "ipython",
    "version": 3
   },
   "file_extension": ".py",
   "mimetype": "text/x-python",
   "name": "python",
   "nbconvert_exporter": "python",
   "pygments_lexer": "ipython3",
   "version": "3.5.1"
  },
  "toc": {
   "toc_cell": true,
   "toc_number_sections": true,
   "toc_threshold": 6,
   "toc_window_display": true
  },
  "toc_position": {
   "height": "341px",
   "left": "2007.38px",
   "right": "20px",
   "top": "133px",
   "width": "306px"
  }
 },
 "nbformat": 4,
 "nbformat_minor": 0
}
