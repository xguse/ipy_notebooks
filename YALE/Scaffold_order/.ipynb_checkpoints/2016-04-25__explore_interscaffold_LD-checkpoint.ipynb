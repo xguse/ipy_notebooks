{
 "cells": [
  {
   "cell_type": "markdown",
   "metadata": {
    "toc": "true"
   },
   "source": [
    "# Table of Contents\n",
    " <p><div class=\"lev1\"><a href=\"#Imports\"><span class=\"toc-item-num\">1&nbsp;&nbsp;</span>Imports</a></div><div class=\"lev1\"><a href=\"#Paths\"><span class=\"toc-item-num\">2&nbsp;&nbsp;</span>Paths</a></div><div class=\"lev1\"><a href=\"#Functions\"><span class=\"toc-item-num\">3&nbsp;&nbsp;</span>Functions</a></div><div class=\"lev1\"><a href=\"#Load-and-recode\"><span class=\"toc-item-num\">4&nbsp;&nbsp;</span>Load and recode</a></div><div class=\"lev2\"><a href=\"#Add-left/right-labels-for-CHR1/CHR2\"><span class=\"toc-item-num\">4.1&nbsp;&nbsp;</span>Add left/right labels for CHR1/CHR2</a></div><div class=\"lev1\"><a href=\"#How-many-SNPs-do-we-have-per-single-scaffold-end?\"><span class=\"toc-item-num\">5&nbsp;&nbsp;</span>How many SNPs do we have per single scaffold end?</a></div><div class=\"lev1\"><a href=\"#Look-at-distributions-of-R2-for-a-single-scaffold-end\"><span class=\"toc-item-num\">6&nbsp;&nbsp;</span>Look at distributions of R2 for a single scaffold end</a></div>"
   ]
  },
  {
   "cell_type": "markdown",
   "metadata": {
    "collapsed": true
   },
   "source": [
    "# Imports"
   ]
  },
  {
   "cell_type": "code",
   "execution_count": 2,
   "metadata": {
    "ExecuteTime": {
     "end_time": "2016-04-26T15:40:06.483450",
     "start_time": "2016-04-26T15:40:05.828003"
    },
    "collapsed": true
   },
   "outputs": [],
   "source": [
    "%matplotlib inline"
   ]
  },
  {
   "cell_type": "code",
   "execution_count": 3,
   "metadata": {
    "ExecuteTime": {
     "end_time": "2016-04-26T15:40:07.651609",
     "start_time": "2016-04-26T15:40:06.484884"
    },
    "collapsed": false
   },
   "outputs": [],
   "source": [
    "import seaborn as sns\n",
    "\n",
    "import pandas as pd"
   ]
  },
  {
   "cell_type": "code",
   "execution_count": 54,
   "metadata": {
    "ExecuteTime": {
     "end_time": "2016-04-26T17:34:18.474782",
     "start_time": "2016-04-26T17:34:18.469136"
    },
    "collapsed": true
   },
   "outputs": [],
   "source": [
    "sns.set_context('talk')"
   ]
  },
  {
   "cell_type": "markdown",
   "metadata": {
    "collapsed": true
   },
   "source": [
    "# Paths"
   ]
  },
  {
   "cell_type": "code",
   "execution_count": 4,
   "metadata": {
    "ExecuteTime": {
     "end_time": "2016-04-26T15:40:07.662377",
     "start_time": "2016-04-26T15:40:07.654158"
    },
    "collapsed": true
   },
   "outputs": [],
   "source": [
    "WIN = 100000\n",
    "ld_= \"/home/gus/MEGAsync/zim/main/Yale/Projects/G_fuscipes/ddRAD/scaffold_organization_ld/pipeline_results/testing_development_ends_100K_win_10kb/interscaff_ld/scaffold_ends.indep.interchrom.geno.ld\""
   ]
  },
  {
   "cell_type": "markdown",
   "metadata": {
    "collapsed": true
   },
   "source": [
    "# Functions"
   ]
  },
  {
   "cell_type": "code",
   "execution_count": 5,
   "metadata": {
    "ExecuteTime": {
     "end_time": "2016-04-26T15:40:07.773136",
     "start_time": "2016-04-26T15:40:07.665353"
    },
    "collapsed": true
   },
   "outputs": [],
   "source": [
    "def recode_and_add_end_labels(df, win):\n",
    "    df.rename(columns={'R^2': 'R2'}, inplace=True)\n",
    "    df[\"CHR1_END\"] = df.POS1.apply(lambda i: \"left\" if i < win else \"right\")\n",
    "    df[\"CHR2_END\"] = df.POS2.apply(lambda i: \"left\" if i < win else \"right\")"
   ]
  },
  {
   "cell_type": "markdown",
   "metadata": {},
   "source": [
    "# Load and recode"
   ]
  },
  {
   "cell_type": "code",
   "execution_count": 6,
   "metadata": {
    "ExecuteTime": {
     "end_time": "2016-04-26T15:40:39.898532",
     "start_time": "2016-04-26T15:40:07.776059"
    },
    "collapsed": false
   },
   "outputs": [],
   "source": [
    "ld = pd.read_csv(ld_, sep='\\t')"
   ]
  },
  {
   "cell_type": "code",
   "execution_count": 7,
   "metadata": {
    "ExecuteTime": {
     "end_time": "2016-04-26T15:40:39.929340",
     "start_time": "2016-04-26T15:40:39.900768"
    },
    "collapsed": false
   },
   "outputs": [
    {
     "data": {
      "text/html": [
       "<div>\n",
       "<table border=\"1\" class=\"dataframe\">\n",
       "  <thead>\n",
       "    <tr style=\"text-align: right;\">\n",
       "      <th></th>\n",
       "      <th>CHR1</th>\n",
       "      <th>POS1</th>\n",
       "      <th>CHR2</th>\n",
       "      <th>POS2</th>\n",
       "      <th>N_INDV</th>\n",
       "      <th>R^2</th>\n",
       "    </tr>\n",
       "  </thead>\n",
       "  <tbody>\n",
       "    <tr>\n",
       "      <th>0</th>\n",
       "      <td>Scaffold0</td>\n",
       "      <td>30544</td>\n",
       "      <td>Scaffold2</td>\n",
       "      <td>22664</td>\n",
       "      <td>46</td>\n",
       "      <td>0.001151</td>\n",
       "    </tr>\n",
       "    <tr>\n",
       "      <th>1</th>\n",
       "      <td>Scaffold0</td>\n",
       "      <td>30544</td>\n",
       "      <td>Scaffold2</td>\n",
       "      <td>34926</td>\n",
       "      <td>44</td>\n",
       "      <td>0.001149</td>\n",
       "    </tr>\n",
       "    <tr>\n",
       "      <th>2</th>\n",
       "      <td>Scaffold0</td>\n",
       "      <td>30544</td>\n",
       "      <td>Scaffold2</td>\n",
       "      <td>34934</td>\n",
       "      <td>44</td>\n",
       "      <td>0.006327</td>\n",
       "    </tr>\n",
       "    <tr>\n",
       "      <th>3</th>\n",
       "      <td>Scaffold0</td>\n",
       "      <td>30544</td>\n",
       "      <td>Scaffold2</td>\n",
       "      <td>34945</td>\n",
       "      <td>44</td>\n",
       "      <td>0.000766</td>\n",
       "    </tr>\n",
       "    <tr>\n",
       "      <th>4</th>\n",
       "      <td>Scaffold0</td>\n",
       "      <td>30544</td>\n",
       "      <td>Scaffold2</td>\n",
       "      <td>34956</td>\n",
       "      <td>44</td>\n",
       "      <td>0.016272</td>\n",
       "    </tr>\n",
       "  </tbody>\n",
       "</table>\n",
       "</div>"
      ],
      "text/plain": [
       "        CHR1   POS1       CHR2   POS2  N_INDV       R^2\n",
       "0  Scaffold0  30544  Scaffold2  22664      46  0.001151\n",
       "1  Scaffold0  30544  Scaffold2  34926      44  0.001149\n",
       "2  Scaffold0  30544  Scaffold2  34934      44  0.006327\n",
       "3  Scaffold0  30544  Scaffold2  34945      44  0.000766\n",
       "4  Scaffold0  30544  Scaffold2  34956      44  0.016272"
      ]
     },
     "execution_count": 7,
     "metadata": {},
     "output_type": "execute_result"
    }
   ],
   "source": [
    "ld.head()"
   ]
  },
  {
   "cell_type": "markdown",
   "metadata": {},
   "source": [
    "## Add left/right labels for CHR1/CHR2"
   ]
  },
  {
   "cell_type": "code",
   "execution_count": 8,
   "metadata": {
    "ExecuteTime": {
     "end_time": "2016-04-26T15:41:14.916248",
     "start_time": "2016-04-26T15:40:39.930972"
    },
    "collapsed": true
   },
   "outputs": [],
   "source": [
    "recode_and_add_end_labels(ld,WIN)"
   ]
  },
  {
   "cell_type": "code",
   "execution_count": 9,
   "metadata": {
    "ExecuteTime": {
     "end_time": "2016-04-26T15:41:14.938015",
     "start_time": "2016-04-26T15:41:14.918489"
    },
    "collapsed": false
   },
   "outputs": [
    {
     "data": {
      "text/html": [
       "<div>\n",
       "<table border=\"1\" class=\"dataframe\">\n",
       "  <thead>\n",
       "    <tr style=\"text-align: right;\">\n",
       "      <th></th>\n",
       "      <th>CHR1</th>\n",
       "      <th>POS1</th>\n",
       "      <th>CHR2</th>\n",
       "      <th>POS2</th>\n",
       "      <th>N_INDV</th>\n",
       "      <th>R2</th>\n",
       "      <th>CHR1_END</th>\n",
       "      <th>CHR2_END</th>\n",
       "    </tr>\n",
       "  </thead>\n",
       "  <tbody>\n",
       "    <tr>\n",
       "      <th>0</th>\n",
       "      <td>Scaffold0</td>\n",
       "      <td>30544</td>\n",
       "      <td>Scaffold2</td>\n",
       "      <td>22664</td>\n",
       "      <td>46</td>\n",
       "      <td>0.001151</td>\n",
       "      <td>left</td>\n",
       "      <td>left</td>\n",
       "    </tr>\n",
       "    <tr>\n",
       "      <th>1</th>\n",
       "      <td>Scaffold0</td>\n",
       "      <td>30544</td>\n",
       "      <td>Scaffold2</td>\n",
       "      <td>34926</td>\n",
       "      <td>44</td>\n",
       "      <td>0.001149</td>\n",
       "      <td>left</td>\n",
       "      <td>left</td>\n",
       "    </tr>\n",
       "    <tr>\n",
       "      <th>2</th>\n",
       "      <td>Scaffold0</td>\n",
       "      <td>30544</td>\n",
       "      <td>Scaffold2</td>\n",
       "      <td>34934</td>\n",
       "      <td>44</td>\n",
       "      <td>0.006327</td>\n",
       "      <td>left</td>\n",
       "      <td>left</td>\n",
       "    </tr>\n",
       "    <tr>\n",
       "      <th>3</th>\n",
       "      <td>Scaffold0</td>\n",
       "      <td>30544</td>\n",
       "      <td>Scaffold2</td>\n",
       "      <td>34945</td>\n",
       "      <td>44</td>\n",
       "      <td>0.000766</td>\n",
       "      <td>left</td>\n",
       "      <td>left</td>\n",
       "    </tr>\n",
       "    <tr>\n",
       "      <th>4</th>\n",
       "      <td>Scaffold0</td>\n",
       "      <td>30544</td>\n",
       "      <td>Scaffold2</td>\n",
       "      <td>34956</td>\n",
       "      <td>44</td>\n",
       "      <td>0.016272</td>\n",
       "      <td>left</td>\n",
       "      <td>left</td>\n",
       "    </tr>\n",
       "  </tbody>\n",
       "</table>\n",
       "</div>"
      ],
      "text/plain": [
       "        CHR1   POS1       CHR2   POS2  N_INDV        R2 CHR1_END CHR2_END\n",
       "0  Scaffold0  30544  Scaffold2  22664      46  0.001151     left     left\n",
       "1  Scaffold0  30544  Scaffold2  34926      44  0.001149     left     left\n",
       "2  Scaffold0  30544  Scaffold2  34934      44  0.006327     left     left\n",
       "3  Scaffold0  30544  Scaffold2  34945      44  0.000766     left     left\n",
       "4  Scaffold0  30544  Scaffold2  34956      44  0.016272     left     left"
      ]
     },
     "execution_count": 9,
     "metadata": {},
     "output_type": "execute_result"
    }
   ],
   "source": [
    "ld.head()"
   ]
  },
  {
   "cell_type": "markdown",
   "metadata": {},
   "source": [
    "# How many SNPs do we have per single scaffold end?"
   ]
  },
  {
   "cell_type": "code",
   "execution_count": 45,
   "metadata": {
    "ExecuteTime": {
     "end_time": "2016-04-26T17:21:39.840255",
     "start_time": "2016-04-26T17:21:23.875741"
    },
    "collapsed": false
   },
   "outputs": [],
   "source": [
    "snps_per_end = ld.groupby([\"CHR1\",\"CHR1_END\"])['POS1'].unique().apply(lambda x: len(x))"
   ]
  },
  {
   "cell_type": "code",
   "execution_count": 51,
   "metadata": {
    "ExecuteTime": {
     "end_time": "2016-04-26T17:31:25.140214",
     "start_time": "2016-04-26T17:30:34.301925"
    },
    "collapsed": false
   },
   "outputs": [
    {
     "ename": "KeyboardInterrupt",
     "evalue": "",
     "output_type": "error",
     "traceback": [
      "\u001b[1;31m---------------------------------------------------------------------------\u001b[0m",
      "\u001b[1;31mKeyboardInterrupt\u001b[0m                         Traceback (most recent call last)",
      "\u001b[1;32m<ipython-input-51-d7e0a194f7ae>\u001b[0m in \u001b[0;36m<module>\u001b[1;34m()\u001b[0m\n\u001b[1;32m----> 1\u001b[1;33m \u001b[0mld\u001b[0m\u001b[1;33m.\u001b[0m\u001b[0mgroupby\u001b[0m\u001b[1;33m(\u001b[0m\u001b[1;33m[\u001b[0m\u001b[1;34m\"CHR1\"\u001b[0m\u001b[1;33m,\u001b[0m\u001b[1;34m\"CHR1_END\"\u001b[0m\u001b[1;33m]\u001b[0m\u001b[1;33m)\u001b[0m\u001b[1;33m.\u001b[0m\u001b[0mgroups\u001b[0m\u001b[1;33m\u001b[0m\u001b[0m\n\u001b[0m",
      "\u001b[1;32m/home/gus/anaconda2/envs/jupyter/lib/python3.5/site-packages/pandas/core/groupby.py\u001b[0m in \u001b[0;36mgroups\u001b[1;34m(self)\u001b[0m\n\u001b[0;32m    368\u001b[0m         \u001b[1;34m\"\"\" dict {group name -> group labels} \"\"\"\u001b[0m\u001b[1;33m\u001b[0m\u001b[0m\n\u001b[0;32m    369\u001b[0m         \u001b[0mself\u001b[0m\u001b[1;33m.\u001b[0m\u001b[0m_assure_grouper\u001b[0m\u001b[1;33m(\u001b[0m\u001b[1;33m)\u001b[0m\u001b[1;33m\u001b[0m\u001b[0m\n\u001b[1;32m--> 370\u001b[1;33m         \u001b[1;32mreturn\u001b[0m \u001b[0mself\u001b[0m\u001b[1;33m.\u001b[0m\u001b[0mgrouper\u001b[0m\u001b[1;33m.\u001b[0m\u001b[0mgroups\u001b[0m\u001b[1;33m\u001b[0m\u001b[0m\n\u001b[0m\u001b[0;32m    371\u001b[0m \u001b[1;33m\u001b[0m\u001b[0m\n\u001b[0;32m    372\u001b[0m     \u001b[1;33m@\u001b[0m\u001b[0mproperty\u001b[0m\u001b[1;33m\u001b[0m\u001b[0m\n",
      "\u001b[1;32mpandas/src/properties.pyx\u001b[0m in \u001b[0;36mpandas.lib.cache_readonly.__get__ (pandas/lib.c:44357)\u001b[1;34m()\u001b[0m\n",
      "\u001b[1;32m/home/gus/anaconda2/envs/jupyter/lib/python3.5/site-packages/pandas/core/groupby.py\u001b[0m in \u001b[0;36mgroups\u001b[1;34m(self)\u001b[0m\n\u001b[0;32m   1583\u001b[0m             \u001b[0mto_groupby\u001b[0m \u001b[1;33m=\u001b[0m \u001b[0mlzip\u001b[0m\u001b[1;33m(\u001b[0m\u001b[1;33m*\u001b[0m\u001b[1;33m(\u001b[0m\u001b[0mping\u001b[0m\u001b[1;33m.\u001b[0m\u001b[0mgrouper\u001b[0m \u001b[1;32mfor\u001b[0m \u001b[0mping\u001b[0m \u001b[1;32min\u001b[0m \u001b[0mself\u001b[0m\u001b[1;33m.\u001b[0m\u001b[0mgroupings\u001b[0m\u001b[1;33m)\u001b[0m\u001b[1;33m)\u001b[0m\u001b[1;33m\u001b[0m\u001b[0m\n\u001b[0;32m   1584\u001b[0m             \u001b[0mto_groupby\u001b[0m \u001b[1;33m=\u001b[0m \u001b[0mIndex\u001b[0m\u001b[1;33m(\u001b[0m\u001b[0mto_groupby\u001b[0m\u001b[1;33m)\u001b[0m\u001b[1;33m\u001b[0m\u001b[0m\n\u001b[1;32m-> 1585\u001b[1;33m             \u001b[1;32mreturn\u001b[0m \u001b[0mself\u001b[0m\u001b[1;33m.\u001b[0m\u001b[0maxis\u001b[0m\u001b[1;33m.\u001b[0m\u001b[0mgroupby\u001b[0m\u001b[1;33m(\u001b[0m\u001b[0mto_groupby\u001b[0m\u001b[1;33m.\u001b[0m\u001b[0mvalues\u001b[0m\u001b[1;33m)\u001b[0m\u001b[1;33m\u001b[0m\u001b[0m\n\u001b[0m\u001b[0;32m   1586\u001b[0m \u001b[1;33m\u001b[0m\u001b[0m\n\u001b[0;32m   1587\u001b[0m     \u001b[1;33m@\u001b[0m\u001b[0mcache_readonly\u001b[0m\u001b[1;33m\u001b[0m\u001b[0m\n",
      "\u001b[1;32m/home/gus/anaconda2/envs/jupyter/lib/python3.5/site-packages/pandas/indexes/base.py\u001b[0m in \u001b[0;36mgroupby\u001b[1;34m(self, to_groupby)\u001b[0m\n\u001b[0;32m   2155\u001b[0m \u001b[1;33m\u001b[0m\u001b[0m\n\u001b[0;32m   2156\u001b[0m         \"\"\"\n\u001b[1;32m-> 2157\u001b[1;33m         \u001b[1;32mreturn\u001b[0m \u001b[0mself\u001b[0m\u001b[1;33m.\u001b[0m\u001b[0m_groupby\u001b[0m\u001b[1;33m(\u001b[0m\u001b[0mself\u001b[0m\u001b[1;33m.\u001b[0m\u001b[0mvalues\u001b[0m\u001b[1;33m,\u001b[0m \u001b[0m_values_from_object\u001b[0m\u001b[1;33m(\u001b[0m\u001b[0mto_groupby\u001b[0m\u001b[1;33m)\u001b[0m\u001b[1;33m)\u001b[0m\u001b[1;33m\u001b[0m\u001b[0m\n\u001b[0m\u001b[0;32m   2158\u001b[0m \u001b[1;33m\u001b[0m\u001b[0m\n\u001b[0;32m   2159\u001b[0m     \u001b[1;32mdef\u001b[0m \u001b[0mmap\u001b[0m\u001b[1;33m(\u001b[0m\u001b[0mself\u001b[0m\u001b[1;33m,\u001b[0m \u001b[0mmapper\u001b[0m\u001b[1;33m)\u001b[0m\u001b[1;33m:\u001b[0m\u001b[1;33m\u001b[0m\u001b[0m\n",
      "\u001b[1;31mKeyboardInterrupt\u001b[0m: "
     ]
    }
   ],
   "source": [
    "ld.groupby([\"CHR1\",\"CHR1_END\"]).groups"
   ]
  },
  {
   "cell_type": "code",
   "execution_count": 55,
   "metadata": {
    "ExecuteTime": {
     "end_time": "2016-04-26T17:34:24.226365",
     "start_time": "2016-04-26T17:34:23.673041"
    },
    "collapsed": false
   },
   "outputs": [
    {
     "data": {
      "image/png": "[encoded data removed]",
      "text/plain": [
       "<matplotlib.figure.Figure at 0x7f89f00a85c0>"
      ]
     },
     "metadata": {},
     "output_type": "display_data"
    }
   ],
   "source": [
    "sns.distplot(snps_per_end,kde=False);"
   ]
  },
  {
   "cell_type": "code",
   "execution_count": 53,
   "metadata": {
    "ExecuteTime": {
     "end_time": "2016-04-26T17:32:41.516257",
     "start_time": "2016-04-26T17:32:41.506876"
    },
    "collapsed": false
   },
   "outputs": [
    {
     "data": {
      "text/plain": [
       "CHR1          CHR1_END\n",
       "JFJR01006593  left         2\n",
       "              right        8\n",
       "JFJR01008464  left         4\n",
       "              right        8\n",
       "JFJR01008577  left        10\n",
       "Name: POS1, dtype: int64"
      ]
     },
     "execution_count": 53,
     "metadata": {},
     "output_type": "execute_result"
    }
   ],
   "source": [
    "snps_per_end.head()"
   ]
  },
  {
   "cell_type": "markdown",
   "metadata": {},
   "source": [
    "# Look at distributions of R2 for a single scaffold end"
   ]
  },
  {
   "cell_type": "code",
   "execution_count": 19,
   "metadata": {
    "ExecuteTime": {
     "end_time": "2016-04-26T15:49:41.613566",
     "start_time": "2016-04-26T15:49:39.005041"
    },
    "collapsed": false
   },
   "outputs": [],
   "source": [
    "df = ld.query(\"\"\" CHR1 == 'Scaffold365' \"\"\").query(\"\"\" CHR1_END == 'left' \"\"\")"
   ]
  },
  {
   "cell_type": "code",
   "execution_count": 20,
   "metadata": {
    "ExecuteTime": {
     "end_time": "2016-04-26T15:49:41.634161",
     "start_time": "2016-04-26T15:49:41.615314"
    },
    "collapsed": false
   },
   "outputs": [
    {
     "data": {
      "text/html": [
       "<div>\n",
       "<table border=\"1\" class=\"dataframe\">\n",
       "  <thead>\n",
       "    <tr style=\"text-align: right;\">\n",
       "      <th></th>\n",
       "      <th>CHR1</th>\n",
       "      <th>POS1</th>\n",
       "      <th>CHR2</th>\n",
       "      <th>POS2</th>\n",
       "      <th>N_INDV</th>\n",
       "      <th>R2</th>\n",
       "      <th>CHR1_END</th>\n",
       "      <th>CHR2_END</th>\n",
       "    </tr>\n",
       "  </thead>\n",
       "  <tbody>\n",
       "    <tr>\n",
       "      <th>29431738</th>\n",
       "      <td>Scaffold365</td>\n",
       "      <td>13132</td>\n",
       "      <td>Scaffold368</td>\n",
       "      <td>1183</td>\n",
       "      <td>41</td>\n",
       "      <td>0.011227</td>\n",
       "      <td>left</td>\n",
       "      <td>left</td>\n",
       "    </tr>\n",
       "    <tr>\n",
       "      <th>29431739</th>\n",
       "      <td>Scaffold365</td>\n",
       "      <td>13132</td>\n",
       "      <td>Scaffold368</td>\n",
       "      <td>1185</td>\n",
       "      <td>41</td>\n",
       "      <td>0.012524</td>\n",
       "      <td>left</td>\n",
       "      <td>left</td>\n",
       "    </tr>\n",
       "    <tr>\n",
       "      <th>29431740</th>\n",
       "      <td>Scaffold365</td>\n",
       "      <td>13132</td>\n",
       "      <td>Scaffold368</td>\n",
       "      <td>19928</td>\n",
       "      <td>43</td>\n",
       "      <td>0.040179</td>\n",
       "      <td>left</td>\n",
       "      <td>left</td>\n",
       "    </tr>\n",
       "    <tr>\n",
       "      <th>29431741</th>\n",
       "      <td>Scaffold365</td>\n",
       "      <td>13132</td>\n",
       "      <td>Scaffold368</td>\n",
       "      <td>33427</td>\n",
       "      <td>46</td>\n",
       "      <td>0.064349</td>\n",
       "      <td>left</td>\n",
       "      <td>left</td>\n",
       "    </tr>\n",
       "    <tr>\n",
       "      <th>29431742</th>\n",
       "      <td>Scaffold365</td>\n",
       "      <td>13132</td>\n",
       "      <td>Scaffold368</td>\n",
       "      <td>48144</td>\n",
       "      <td>46</td>\n",
       "      <td>0.011887</td>\n",
       "      <td>left</td>\n",
       "      <td>left</td>\n",
       "    </tr>\n",
       "  </tbody>\n",
       "</table>\n",
       "</div>"
      ],
      "text/plain": [
       "                 CHR1   POS1         CHR2   POS2  N_INDV        R2 CHR1_END  \\\n",
       "29431738  Scaffold365  13132  Scaffold368   1183      41  0.011227     left   \n",
       "29431739  Scaffold365  13132  Scaffold368   1185      41  0.012524     left   \n",
       "29431740  Scaffold365  13132  Scaffold368  19928      43  0.040179     left   \n",
       "29431741  Scaffold365  13132  Scaffold368  33427      46  0.064349     left   \n",
       "29431742  Scaffold365  13132  Scaffold368  48144      46  0.011887     left   \n",
       "\n",
       "         CHR2_END  \n",
       "29431738     left  \n",
       "29431739     left  \n",
       "29431740     left  \n",
       "29431741     left  \n",
       "29431742     left  "
      ]
     },
     "execution_count": 20,
     "metadata": {},
     "output_type": "execute_result"
    }
   ],
   "source": [
    "df.head()"
   ]
  },
  {
   "cell_type": "code",
   "execution_count": 21,
   "metadata": {
    "ExecuteTime": {
     "end_time": "2016-04-26T16:01:05.514917",
     "start_time": "2016-04-26T16:01:05.506936"
    },
    "collapsed": false
   },
   "outputs": [
    {
     "data": {
      "text/plain": [
       "array([13132, 31216])"
      ]
     },
     "execution_count": 21,
     "metadata": {},
     "output_type": "execute_result"
    }
   ],
   "source": [
    "df.POS1.unique()"
   ]
  },
  {
   "cell_type": "code",
   "execution_count": 37,
   "metadata": {
    "ExecuteTime": {
     "end_time": "2016-04-26T17:15:34.850732",
     "start_time": "2016-04-26T17:15:34.839316"
    },
    "collapsed": false
   },
   "outputs": [
    {
     "data": {
      "text/plain": [
       "CHR1\n",
       "Scaffold365    [13132, 31216]\n",
       "Name: POS1, dtype: object"
      ]
     },
     "execution_count": 37,
     "metadata": {},
     "output_type": "execute_result"
    }
   ],
   "source": [
    "df.groupby([\"CHR1\"])[\"POS1\"].unique()"
   ]
  },
  {
   "cell_type": "code",
   "execution_count": null,
   "metadata": {
    "collapsed": true
   },
   "outputs": [],
   "source": []
  }
 ],
 "metadata": {
  "kernelspec": {
   "display_name": "Python 3",
   "language": "python",
   "name": "python3"
  },
  "language_info": {
   "codemirror_mode": {
    "name": "ipython",
    "version": 3
   },
   "file_extension": ".py",
   "mimetype": "text/x-python",
   "name": "python",
   "nbconvert_exporter": "python",
   "pygments_lexer": "ipython3",
   "version": "3.5.1"
  },
  "toc": {
   "toc_cell": true,
   "toc_number_sections": true,
   "toc_threshold": 6,
   "toc_window_display": true
  },
  "toc_position": {
   "height": "341px",
   "left": "1993.38px",
   "right": "20px",
   "top": "335px",
   "width": "306px"
  }
 },
 "nbformat": 4,
 "nbformat_minor": 0
}
