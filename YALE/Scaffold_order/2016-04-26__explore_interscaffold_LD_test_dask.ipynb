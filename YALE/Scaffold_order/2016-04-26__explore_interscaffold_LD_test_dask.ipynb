{
 "cells": [
  {
   "cell_type": "markdown",
   "metadata": {
    "toc": "true"
   },
   "source": [
    "# Table of Contents\n",
    " <p><div class=\"lev1\"><a href=\"#Imports\"><span class=\"toc-item-num\">1&nbsp;&nbsp;</span>Imports</a></div><div class=\"lev1\"><a href=\"#Paths\"><span class=\"toc-item-num\">2&nbsp;&nbsp;</span>Paths</a></div><div class=\"lev1\"><a href=\"#Functions\"><span class=\"toc-item-num\">3&nbsp;&nbsp;</span>Functions</a></div><div class=\"lev1\"><a href=\"#Load-and-recode\"><span class=\"toc-item-num\">4&nbsp;&nbsp;</span>Load and recode</a></div><div class=\"lev2\"><a href=\"#Add-left/right-labels-for-CHR1/CHR2\"><span class=\"toc-item-num\">4.1&nbsp;&nbsp;</span>Add left/right labels for CHR1/CHR2</a></div><div class=\"lev1\"><a href=\"#How-many-SNPs-do-we-have-per-single-scaffold-end?\"><span class=\"toc-item-num\">5&nbsp;&nbsp;</span>How many SNPs do we have per single scaffold end?</a></div><div class=\"lev1\"><a href=\"#Look-at-distributions-of-R2-for-a-single-scaffold-end\"><span class=\"toc-item-num\">6&nbsp;&nbsp;</span>Look at distributions of R2 for a single scaffold end</a></div>"
   ]
  },
  {
   "cell_type": "markdown",
   "metadata": {
    "collapsed": true
   },
   "source": [
    "# Imports"
   ]
  },
  {
   "cell_type": "code",
   "execution_count": 2,
   "metadata": {
    "ExecuteTime": {
     "end_time": "2016-04-26T18:27:09.176450",
     "start_time": "2016-04-26T18:27:08.968828"
    },
    "collapsed": true
   },
   "outputs": [],
   "source": [
    "%matplotlib inline"
   ]
  },
  {
   "cell_type": "code",
   "execution_count": 6,
   "metadata": {
    "ExecuteTime": {
     "end_time": "2016-04-26T18:28:29.750532",
     "start_time": "2016-04-26T18:28:29.544561"
    },
    "collapsed": false
   },
   "outputs": [],
   "source": [
    "import seaborn as sns\n",
    "\n",
    "import pandas as pd\n",
    "\n",
    "import dask.dataframe as dd"
   ]
  },
  {
   "cell_type": "code",
   "execution_count": 3,
   "metadata": {
    "ExecuteTime": {
     "end_time": "2016-04-26T18:27:11.553471",
     "start_time": "2016-04-26T18:27:11.549707"
    },
    "collapsed": true
   },
   "outputs": [],
   "source": [
    "sns.set_context('talk')"
   ]
  },
  {
   "cell_type": "markdown",
   "metadata": {
    "collapsed": true
   },
   "source": [
    "# Paths"
   ]
  },
  {
   "cell_type": "code",
   "execution_count": 4,
   "metadata": {
    "ExecuteTime": {
     "end_time": "2016-04-26T18:27:13.024423",
     "start_time": "2016-04-26T18:27:13.021336"
    },
    "collapsed": true
   },
   "outputs": [],
   "source": [
    "WIN = 100000\n",
    "ld_= \"/home/gus/MEGAsync/zim/main/Yale/Projects/G_fuscipes/ddRAD/scaffold_organization_ld/pipeline_results/testing_development_ends_100K_win_10kb/interscaff_ld/scaffold_ends.indep.interchrom.geno.ld\""
   ]
  },
  {
   "cell_type": "markdown",
   "metadata": {
    "collapsed": true
   },
   "source": [
    "# Functions"
   ]
  },
  {
   "cell_type": "code",
   "execution_count": 16,
   "metadata": {
    "ExecuteTime": {
     "end_time": "2016-04-26T18:35:20.175690",
     "start_time": "2016-04-26T18:35:20.168946"
    },
    "collapsed": true
   },
   "outputs": [],
   "source": [
    "def recode_and_add_end_labels(df, win):\n",
    "    df2 = df.rename(columns={'R^2': 'R2'})\n",
    "    df2 = df2.assign(CHR1_END=df2.POS1.apply(lambda i: \"left\" if i < win else \"right\"))\n",
    "    df2 = df2.assign(CHR2_END=df2.POS2.apply(lambda i: \"left\" if i < win else \"right\"))\n",
    "    \n",
    "    return df2"
   ]
  },
  {
   "cell_type": "markdown",
   "metadata": {},
   "source": [
    "# Load and recode"
   ]
  },
  {
   "cell_type": "code",
   "execution_count": null,
   "metadata": {
    "collapsed": true
   },
   "outputs": [],
   "source": [
    "dd.a"
   ]
  },
  {
   "cell_type": "code",
   "execution_count": 13,
   "metadata": {
    "ExecuteTime": {
     "end_time": "2016-04-26T18:31:09.063952",
     "start_time": "2016-04-26T18:31:09.053583"
    },
    "collapsed": false
   },
   "outputs": [],
   "source": [
    "ld = dd.read_csv(ld_, sep='\\t')"
   ]
  },
  {
   "cell_type": "code",
   "execution_count": 8,
   "metadata": {
    "ExecuteTime": {
     "end_time": "2016-04-26T18:28:57.648805",
     "start_time": "2016-04-26T18:28:56.031478"
    },
    "collapsed": false
   },
   "outputs": [
    {
     "data": {
      "text/html": [
       "<div>\n",
       "<table border=\"1\" class=\"dataframe\">\n",
       "  <thead>\n",
       "    <tr style=\"text-align: right;\">\n",
       "      <th></th>\n",
       "      <th>CHR1</th>\n",
       "      <th>POS1</th>\n",
       "      <th>CHR2</th>\n",
       "      <th>POS2</th>\n",
       "      <th>N_INDV</th>\n",
       "      <th>R^2</th>\n",
       "    </tr>\n",
       "  </thead>\n",
       "  <tbody>\n",
       "    <tr>\n",
       "      <th>0</th>\n",
       "      <td>Scaffold0</td>\n",
       "      <td>13388</td>\n",
       "      <td>Scaffold2</td>\n",
       "      <td>22610</td>\n",
       "      <td>48</td>\n",
       "      <td>0.155145</td>\n",
       "    </tr>\n",
       "    <tr>\n",
       "      <th>1</th>\n",
       "      <td>Scaffold0</td>\n",
       "      <td>13388</td>\n",
       "      <td>Scaffold2</td>\n",
       "      <td>22664</td>\n",
       "      <td>45</td>\n",
       "      <td>0.024699</td>\n",
       "    </tr>\n",
       "    <tr>\n",
       "      <th>2</th>\n",
       "      <td>Scaffold0</td>\n",
       "      <td>13388</td>\n",
       "      <td>Scaffold2</td>\n",
       "      <td>34926</td>\n",
       "      <td>43</td>\n",
       "      <td>0.021882</td>\n",
       "    </tr>\n",
       "    <tr>\n",
       "      <th>3</th>\n",
       "      <td>Scaffold0</td>\n",
       "      <td>13388</td>\n",
       "      <td>Scaffold2</td>\n",
       "      <td>34934</td>\n",
       "      <td>43</td>\n",
       "      <td>0.019785</td>\n",
       "    </tr>\n",
       "    <tr>\n",
       "      <th>4</th>\n",
       "      <td>Scaffold0</td>\n",
       "      <td>13388</td>\n",
       "      <td>Scaffold2</td>\n",
       "      <td>34945</td>\n",
       "      <td>43</td>\n",
       "      <td>0.027440</td>\n",
       "    </tr>\n",
       "  </tbody>\n",
       "</table>\n",
       "</div>"
      ],
      "text/plain": [
       "        CHR1   POS1       CHR2   POS2  N_INDV       R^2\n",
       "0  Scaffold0  13388  Scaffold2  22610      48  0.155145\n",
       "1  Scaffold0  13388  Scaffold2  22664      45  0.024699\n",
       "2  Scaffold0  13388  Scaffold2  34926      43  0.021882\n",
       "3  Scaffold0  13388  Scaffold2  34934      43  0.019785\n",
       "4  Scaffold0  13388  Scaffold2  34945      43  0.027440"
      ]
     },
     "execution_count": 8,
     "metadata": {},
     "output_type": "execute_result"
    }
   ],
   "source": [
    "ld.head()"
   ]
  },
  {
   "cell_type": "markdown",
   "metadata": {},
   "source": [
    "## Add left/right labels for CHR1/CHR2"
   ]
  },
  {
   "cell_type": "code",
   "execution_count": 17,
   "metadata": {
    "ExecuteTime": {
     "end_time": "2016-04-26T18:35:28.283114",
     "start_time": "2016-04-26T18:35:24.650968"
    },
    "collapsed": false
   },
   "outputs": [
    {
     "name": "stderr",
     "output_type": "stream",
     "text": [
      "/home/gus/anaconda2/envs/jupyter/lib/python3.5/site-packages/dask/dataframe/core.py:1205: UserWarning: name is not specified, inferred from partial data. Please provide name if the result is unexpected.\n",
      "  Before: .apply(func)\n",
      "  After:  .apply(func, name=['x', 'y']) for dataframe result\n",
      "  or:     .apply(func, name='x')        for series result\n",
      "  warnings.warn(msg)\n"
     ]
    }
   ],
   "source": [
    "ld = recode_and_add_end_labels(ld,WIN)"
   ]
  },
  {
   "cell_type": "code",
   "execution_count": 18,
   "metadata": {
    "ExecuteTime": {
     "end_time": "2016-04-26T18:35:36.235965",
     "start_time": "2016-04-26T18:35:33.512929"
    },
    "collapsed": false
   },
   "outputs": [
    {
     "data": {
      "text/html": [
       "<div>\n",
       "<table border=\"1\" class=\"dataframe\">\n",
       "  <thead>\n",
       "    <tr style=\"text-align: right;\">\n",
       "      <th></th>\n",
       "      <th>CHR1</th>\n",
       "      <th>POS1</th>\n",
       "      <th>CHR2</th>\n",
       "      <th>POS2</th>\n",
       "      <th>N_INDV</th>\n",
       "      <th>R2</th>\n",
       "      <th>CHR1_END</th>\n",
       "      <th>CHR2_END</th>\n",
       "    </tr>\n",
       "  </thead>\n",
       "  <tbody>\n",
       "    <tr>\n",
       "      <th>0</th>\n",
       "      <td>Scaffold0</td>\n",
       "      <td>13388</td>\n",
       "      <td>Scaffold2</td>\n",
       "      <td>22610</td>\n",
       "      <td>48</td>\n",
       "      <td>0.155145</td>\n",
       "      <td>left</td>\n",
       "      <td>left</td>\n",
       "    </tr>\n",
       "    <tr>\n",
       "      <th>1</th>\n",
       "      <td>Scaffold0</td>\n",
       "      <td>13388</td>\n",
       "      <td>Scaffold2</td>\n",
       "      <td>22664</td>\n",
       "      <td>45</td>\n",
       "      <td>0.024699</td>\n",
       "      <td>left</td>\n",
       "      <td>left</td>\n",
       "    </tr>\n",
       "    <tr>\n",
       "      <th>2</th>\n",
       "      <td>Scaffold0</td>\n",
       "      <td>13388</td>\n",
       "      <td>Scaffold2</td>\n",
       "      <td>34926</td>\n",
       "      <td>43</td>\n",
       "      <td>0.021882</td>\n",
       "      <td>left</td>\n",
       "      <td>left</td>\n",
       "    </tr>\n",
       "    <tr>\n",
       "      <th>3</th>\n",
       "      <td>Scaffold0</td>\n",
       "      <td>13388</td>\n",
       "      <td>Scaffold2</td>\n",
       "      <td>34934</td>\n",
       "      <td>43</td>\n",
       "      <td>0.019785</td>\n",
       "      <td>left</td>\n",
       "      <td>left</td>\n",
       "    </tr>\n",
       "    <tr>\n",
       "      <th>4</th>\n",
       "      <td>Scaffold0</td>\n",
       "      <td>13388</td>\n",
       "      <td>Scaffold2</td>\n",
       "      <td>34945</td>\n",
       "      <td>43</td>\n",
       "      <td>0.027440</td>\n",
       "      <td>left</td>\n",
       "      <td>left</td>\n",
       "    </tr>\n",
       "  </tbody>\n",
       "</table>\n",
       "</div>"
      ],
      "text/plain": [
       "        CHR1   POS1       CHR2   POS2  N_INDV        R2 CHR1_END CHR2_END\n",
       "0  Scaffold0  13388  Scaffold2  22610      48  0.155145     left     left\n",
       "1  Scaffold0  13388  Scaffold2  22664      45  0.024699     left     left\n",
       "2  Scaffold0  13388  Scaffold2  34926      43  0.021882     left     left\n",
       "3  Scaffold0  13388  Scaffold2  34934      43  0.019785     left     left\n",
       "4  Scaffold0  13388  Scaffold2  34945      43  0.027440     left     left"
      ]
     },
     "execution_count": 18,
     "metadata": {},
     "output_type": "execute_result"
    }
   ],
   "source": [
    "ld.head()"
   ]
  },
  {
   "cell_type": "markdown",
   "metadata": {},
   "source": [
    "# How many SNPs do we have per single scaffold end?"
   ]
  },
  {
   "cell_type": "code",
   "execution_count": 24,
   "metadata": {
    "ExecuteTime": {
     "end_time": "2016-04-26T18:37:39.965296",
     "start_time": "2016-04-26T18:37:39.962003"
    },
    "collapsed": false
   },
   "outputs": [],
   "source": [
    "snps_per_end = ld.groupby([\"CHR1\",\"CHR1_END\"])"
   ]
  },
  {
   "cell_type": "code",
   "execution_count": null,
   "metadata": {
    "ExecuteTime": {
     "start_time": "2016-04-26T22:38:08.124Z"
    },
    "collapsed": false
   },
   "outputs": [],
   "source": [
    "snps_per_end.count().head()"
   ]
  },
  {
   "cell_type": "code",
   "execution_count": null,
   "metadata": {
    "ExecuteTime": {
     "start_time": "2016-04-26T21:41:15.013Z"
    },
    "collapsed": false
   },
   "outputs": [],
   "source": [
    "sns.distplot(snps_per_end,kde=False);"
   ]
  },
  {
   "cell_type": "markdown",
   "metadata": {},
   "source": [
    "# Look at distributions of R2 for a single scaffold end"
   ]
  },
  {
   "cell_type": "code",
   "execution_count": 19,
   "metadata": {
    "ExecuteTime": {
     "end_time": "2016-04-26T15:49:41.613566",
     "start_time": "2016-04-26T15:49:39.005041"
    },
    "collapsed": false
   },
   "outputs": [],
   "source": [
    "df = ld.query(\"\"\" CHR1 == 'Scaffold365' \"\"\").query(\"\"\" CHR1_END == 'left' \"\"\")"
   ]
  },
  {
   "cell_type": "code",
   "execution_count": 20,
   "metadata": {
    "ExecuteTime": {
     "end_time": "2016-04-26T15:49:41.634161",
     "start_time": "2016-04-26T15:49:41.615314"
    },
    "collapsed": false
   },
   "outputs": [
    {
     "data": {
      "text/html": [
       "<div>\n",
       "<table border=\"1\" class=\"dataframe\">\n",
       "  <thead>\n",
       "    <tr style=\"text-align: right;\">\n",
       "      <th></th>\n",
       "      <th>CHR1</th>\n",
       "      <th>POS1</th>\n",
       "      <th>CHR2</th>\n",
       "      <th>POS2</th>\n",
       "      <th>N_INDV</th>\n",
       "      <th>R2</th>\n",
       "      <th>CHR1_END</th>\n",
       "      <th>CHR2_END</th>\n",
       "    </tr>\n",
       "  </thead>\n",
       "  <tbody>\n",
       "    <tr>\n",
       "      <th>29431738</th>\n",
       "      <td>Scaffold365</td>\n",
       "      <td>13132</td>\n",
       "      <td>Scaffold368</td>\n",
       "      <td>1183</td>\n",
       "      <td>41</td>\n",
       "      <td>0.011227</td>\n",
       "      <td>left</td>\n",
       "      <td>left</td>\n",
       "    </tr>\n",
       "    <tr>\n",
       "      <th>29431739</th>\n",
       "      <td>Scaffold365</td>\n",
       "      <td>13132</td>\n",
       "      <td>Scaffold368</td>\n",
       "      <td>1185</td>\n",
       "      <td>41</td>\n",
       "      <td>0.012524</td>\n",
       "      <td>left</td>\n",
       "      <td>left</td>\n",
       "    </tr>\n",
       "    <tr>\n",
       "      <th>29431740</th>\n",
       "      <td>Scaffold365</td>\n",
       "      <td>13132</td>\n",
       "      <td>Scaffold368</td>\n",
       "      <td>19928</td>\n",
       "      <td>43</td>\n",
       "      <td>0.040179</td>\n",
       "      <td>left</td>\n",
       "      <td>left</td>\n",
       "    </tr>\n",
       "    <tr>\n",
       "      <th>29431741</th>\n",
       "      <td>Scaffold365</td>\n",
       "      <td>13132</td>\n",
       "      <td>Scaffold368</td>\n",
       "      <td>33427</td>\n",
       "      <td>46</td>\n",
       "      <td>0.064349</td>\n",
       "      <td>left</td>\n",
       "      <td>left</td>\n",
       "    </tr>\n",
       "    <tr>\n",
       "      <th>29431742</th>\n",
       "      <td>Scaffold365</td>\n",
       "      <td>13132</td>\n",
       "      <td>Scaffold368</td>\n",
       "      <td>48144</td>\n",
       "      <td>46</td>\n",
       "      <td>0.011887</td>\n",
       "      <td>left</td>\n",
       "      <td>left</td>\n",
       "    </tr>\n",
       "  </tbody>\n",
       "</table>\n",
       "</div>"
      ],
      "text/plain": [
       "                 CHR1   POS1         CHR2   POS2  N_INDV        R2 CHR1_END  \\\n",
       "29431738  Scaffold365  13132  Scaffold368   1183      41  0.011227     left   \n",
       "29431739  Scaffold365  13132  Scaffold368   1185      41  0.012524     left   \n",
       "29431740  Scaffold365  13132  Scaffold368  19928      43  0.040179     left   \n",
       "29431741  Scaffold365  13132  Scaffold368  33427      46  0.064349     left   \n",
       "29431742  Scaffold365  13132  Scaffold368  48144      46  0.011887     left   \n",
       "\n",
       "         CHR2_END  \n",
       "29431738     left  \n",
       "29431739     left  \n",
       "29431740     left  \n",
       "29431741     left  \n",
       "29431742     left  "
      ]
     },
     "execution_count": 20,
     "metadata": {},
     "output_type": "execute_result"
    }
   ],
   "source": [
    "df.head()"
   ]
  },
  {
   "cell_type": "code",
   "execution_count": 21,
   "metadata": {
    "ExecuteTime": {
     "end_time": "2016-04-26T16:01:05.514917",
     "start_time": "2016-04-26T16:01:05.506936"
    },
    "collapsed": false
   },
   "outputs": [
    {
     "data": {
      "text/plain": [
       "array([13132, 31216])"
      ]
     },
     "execution_count": 21,
     "metadata": {},
     "output_type": "execute_result"
    }
   ],
   "source": [
    "df.POS1.unique()"
   ]
  },
  {
   "cell_type": "code",
   "execution_count": 37,
   "metadata": {
    "ExecuteTime": {
     "end_time": "2016-04-26T17:15:34.850732",
     "start_time": "2016-04-26T17:15:34.839316"
    },
    "collapsed": false
   },
   "outputs": [
    {
     "data": {
      "text/plain": [
       "CHR1\n",
       "Scaffold365    [13132, 31216]\n",
       "Name: POS1, dtype: object"
      ]
     },
     "execution_count": 37,
     "metadata": {},
     "output_type": "execute_result"
    }
   ],
   "source": [
    "df.groupby([\"CHR1\"])[\"POS1\"].unique()"
   ]
  },
  {
   "cell_type": "code",
   "execution_count": null,
   "metadata": {
    "collapsed": true
   },
   "outputs": [],
   "source": []
  }
 ],
 "metadata": {
  "kernelspec": {
   "display_name": "Python 3",
   "language": "python",
   "name": "python3"
  },
  "language_info": {
   "codemirror_mode": {
    "name": "ipython",
    "version": 3
   },
   "file_extension": ".py",
   "mimetype": "text/x-python",
   "name": "python",
   "nbconvert_exporter": "python",
   "pygments_lexer": "ipython3",
   "version": "3.5.1"
  },
  "toc": {
   "toc_cell": true,
   "toc_number_sections": true,
   "toc_threshold": 6,
   "toc_window_display": true
  },
  "toc_position": {
   "height": "341px",
   "left": "1963.38px",
   "right": "20px",
   "top": "292px",
   "width": "306px"
  }
 },
 "nbformat": 4,
 "nbformat_minor": 0
}
