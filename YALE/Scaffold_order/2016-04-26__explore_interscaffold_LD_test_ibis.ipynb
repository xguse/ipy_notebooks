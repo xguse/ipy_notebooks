{
 "cells": [
  {
   "cell_type": "markdown",
   "metadata": {
    "toc": "true"
   },
   "source": [
    "# Table of Contents\n",
    " <p><div class=\"lev1\"><a href=\"#Imports\"><span class=\"toc-item-num\">1&nbsp;&nbsp;</span>Imports</a></div><div class=\"lev1\"><a href=\"#Paths\"><span class=\"toc-item-num\">2&nbsp;&nbsp;</span>Paths</a></div><div class=\"lev1\"><a href=\"#Functions\"><span class=\"toc-item-num\">3&nbsp;&nbsp;</span>Functions</a></div><div class=\"lev1\"><a href=\"#Load,-recode,-and-dump-to-sqlite\"><span class=\"toc-item-num\">4&nbsp;&nbsp;</span>Load, recode, and dump to sqlite</a></div><div class=\"lev2\"><a href=\"#Add-left/right-labels-for-CHR1/CHR2\"><span class=\"toc-item-num\">4.1&nbsp;&nbsp;</span>Add left/right labels for CHR1/CHR2</a></div><div class=\"lev2\"><a href=\"#Dump-to-sqlite\"><span class=\"toc-item-num\">4.2&nbsp;&nbsp;</span>Dump to sqlite</a></div><div class=\"lev1\"><a href=\"#How-many-SNPs-do-we-have-per-single-scaffold-end?\"><span class=\"toc-item-num\">5&nbsp;&nbsp;</span>How many SNPs do we have per single scaffold end?</a></div><div class=\"lev1\"><a href=\"#Look-at-distributions-of-R2-for-a-single-scaffold-end\"><span class=\"toc-item-num\">6&nbsp;&nbsp;</span>Look at distributions of R2 for a single scaffold end</a></div>"
   ]
  },
  {
   "cell_type": "markdown",
   "metadata": {
    "collapsed": true
   },
   "source": [
    "# Imports"
   ]
  },
  {
   "cell_type": "code",
   "execution_count": 1,
   "metadata": {
    "ExecuteTime": {
     "end_time": "2016-04-28T13:38:02.600017",
     "start_time": "2016-04-28T13:38:00.901681"
    },
    "collapsed": true
   },
   "outputs": [],
   "source": [
    "%matplotlib inline"
   ]
  },
  {
   "cell_type": "code",
   "execution_count": 3,
   "metadata": {
    "ExecuteTime": {
     "end_time": "2016-04-28T13:38:23.087555",
     "start_time": "2016-04-28T13:38:22.195515"
    },
    "collapsed": false
   },
   "outputs": [],
   "source": [
    "import sqlalchemy\n",
    "from sqlalchemy import create_engine\n",
    "\n",
    "import ibis\n",
    "ibis.options.interactive = True\n",
    "\n",
    "import seaborn as sns\n",
    "\n",
    "import pandas as pd\n",
    "\n",
    "import dask.dataframe as dd\n",
    "\n",
    "import blaze"
   ]
  },
  {
   "cell_type": "code",
   "execution_count": 5,
   "metadata": {
    "ExecuteTime": {
     "end_time": "2016-04-28T13:39:10.654666",
     "start_time": "2016-04-28T13:39:10.648436"
    },
    "collapsed": true
   },
   "outputs": [],
   "source": [
    "sns.set_context('talk')"
   ]
  },
  {
   "cell_type": "markdown",
   "metadata": {
    "collapsed": true
   },
   "source": [
    "# Paths"
   ]
  },
  {
   "cell_type": "code",
   "execution_count": 6,
   "metadata": {
    "ExecuteTime": {
     "end_time": "2016-04-28T13:39:11.611424",
     "start_time": "2016-04-28T13:39:11.608182"
    },
    "collapsed": true
   },
   "outputs": [],
   "source": [
    "WIN = 50000\n",
    "ld_= \"/home/gus/MEGAsync/zim/main/Yale/Projects/G_fuscipes/ddRAD/scaffold_organization_ld/pipeline_results/testing_development_ends_50K/interscaff_ld/scaffold_ends.indep.interchrom.geno.ld\""
   ]
  },
  {
   "cell_type": "markdown",
   "metadata": {
    "collapsed": true
   },
   "source": [
    "# Functions"
   ]
  },
  {
   "cell_type": "code",
   "execution_count": 7,
   "metadata": {
    "ExecuteTime": {
     "end_time": "2016-04-28T13:39:12.867381",
     "start_time": "2016-04-28T13:39:12.856428"
    },
    "collapsed": true
   },
   "outputs": [],
   "source": [
    "def recode_and_add_end_labels(df, win):\n",
    "    df2 = df.rename(columns={'R^2': 'R2'})\n",
    "    df2 = df2.assign(CHR1_END=df2.POS1.apply(lambda i: \"left\" if i < win else \"right\"))\n",
    "    df2 = df2.assign(CHR2_END=df2.POS2.apply(lambda i: \"left\" if i < win else \"right\"))\n",
    "    \n",
    "    return df2"
   ]
  },
  {
   "cell_type": "markdown",
   "metadata": {},
   "source": [
    "# Load, recode, and dump to sqlite"
   ]
  },
  {
   "cell_type": "code",
   "execution_count": 8,
   "metadata": {
    "ExecuteTime": {
     "end_time": "2016-04-28T13:39:14.324847",
     "start_time": "2016-04-28T13:39:14.186251"
    },
    "collapsed": false
   },
   "outputs": [],
   "source": [
    "ld = dd.read_csv(ld_, sep='\\t')"
   ]
  },
  {
   "cell_type": "code",
   "execution_count": 9,
   "metadata": {
    "ExecuteTime": {
     "end_time": "2016-04-28T13:39:16.416434",
     "start_time": "2016-04-28T13:39:14.677344"
    },
    "collapsed": false
   },
   "outputs": [
    {
     "data": {
      "text/html": [
       "<div>\n",
       "<table border=\"1\" class=\"dataframe\">\n",
       "  <thead>\n",
       "    <tr style=\"text-align: right;\">\n",
       "      <th></th>\n",
       "      <th>CHR1</th>\n",
       "      <th>POS1</th>\n",
       "      <th>CHR2</th>\n",
       "      <th>POS2</th>\n",
       "      <th>N_INDV</th>\n",
       "      <th>R^2</th>\n",
       "    </tr>\n",
       "  </thead>\n",
       "  <tbody>\n",
       "    <tr>\n",
       "      <th>0</th>\n",
       "      <td>Scaffold0</td>\n",
       "      <td>30544</td>\n",
       "      <td>Scaffold2</td>\n",
       "      <td>22664</td>\n",
       "      <td>46</td>\n",
       "      <td>0.001151</td>\n",
       "    </tr>\n",
       "    <tr>\n",
       "      <th>1</th>\n",
       "      <td>Scaffold0</td>\n",
       "      <td>30544</td>\n",
       "      <td>Scaffold2</td>\n",
       "      <td>34926</td>\n",
       "      <td>44</td>\n",
       "      <td>0.001149</td>\n",
       "    </tr>\n",
       "    <tr>\n",
       "      <th>2</th>\n",
       "      <td>Scaffold0</td>\n",
       "      <td>30544</td>\n",
       "      <td>Scaffold2</td>\n",
       "      <td>34934</td>\n",
       "      <td>44</td>\n",
       "      <td>0.006327</td>\n",
       "    </tr>\n",
       "    <tr>\n",
       "      <th>3</th>\n",
       "      <td>Scaffold0</td>\n",
       "      <td>30544</td>\n",
       "      <td>Scaffold2</td>\n",
       "      <td>34945</td>\n",
       "      <td>44</td>\n",
       "      <td>0.000766</td>\n",
       "    </tr>\n",
       "    <tr>\n",
       "      <th>4</th>\n",
       "      <td>Scaffold0</td>\n",
       "      <td>30544</td>\n",
       "      <td>Scaffold2</td>\n",
       "      <td>34956</td>\n",
       "      <td>44</td>\n",
       "      <td>0.016272</td>\n",
       "    </tr>\n",
       "  </tbody>\n",
       "</table>\n",
       "</div>"
      ],
      "text/plain": [
       "        CHR1   POS1       CHR2   POS2  N_INDV       R^2\n",
       "0  Scaffold0  30544  Scaffold2  22664      46  0.001151\n",
       "1  Scaffold0  30544  Scaffold2  34926      44  0.001149\n",
       "2  Scaffold0  30544  Scaffold2  34934      44  0.006327\n",
       "3  Scaffold0  30544  Scaffold2  34945      44  0.000766\n",
       "4  Scaffold0  30544  Scaffold2  34956      44  0.016272"
      ]
     },
     "execution_count": 9,
     "metadata": {},
     "output_type": "execute_result"
    }
   ],
   "source": [
    "ld.head()"
   ]
  },
  {
   "cell_type": "markdown",
   "metadata": {},
   "source": [
    "## Add left/right labels for CHR1/CHR2"
   ]
  },
  {
   "cell_type": "code",
   "execution_count": 10,
   "metadata": {
    "ExecuteTime": {
     "end_time": "2016-04-28T13:39:20.089353",
     "start_time": "2016-04-28T13:39:16.419013"
    },
    "collapsed": false
   },
   "outputs": [
    {
     "name": "stderr",
     "output_type": "stream",
     "text": [
      "/home/gus/anaconda2/envs/jupyter/lib/python3.5/site-packages/dask/dataframe/core.py:1205: UserWarning: name is not specified, inferred from partial data. Please provide name if the result is unexpected.\n",
      "  Before: .apply(func)\n",
      "  After:  .apply(func, name=['x', 'y']) for dataframe result\n",
      "  or:     .apply(func, name='x')        for series result\n",
      "  warnings.warn(msg)\n"
     ]
    }
   ],
   "source": [
    "ld = recode_and_add_end_labels(ld,WIN)"
   ]
  },
  {
   "cell_type": "code",
   "execution_count": 11,
   "metadata": {
    "ExecuteTime": {
     "end_time": "2016-04-28T13:39:22.495097",
     "start_time": "2016-04-28T13:39:20.091864"
    },
    "collapsed": false
   },
   "outputs": [
    {
     "data": {
      "text/html": [
       "<div>\n",
       "<table border=\"1\" class=\"dataframe\">\n",
       "  <thead>\n",
       "    <tr style=\"text-align: right;\">\n",
       "      <th></th>\n",
       "      <th>CHR1</th>\n",
       "      <th>POS1</th>\n",
       "      <th>CHR2</th>\n",
       "      <th>POS2</th>\n",
       "      <th>N_INDV</th>\n",
       "      <th>R2</th>\n",
       "      <th>CHR1_END</th>\n",
       "      <th>CHR2_END</th>\n",
       "    </tr>\n",
       "  </thead>\n",
       "  <tbody>\n",
       "    <tr>\n",
       "      <th>0</th>\n",
       "      <td>Scaffold0</td>\n",
       "      <td>30544</td>\n",
       "      <td>Scaffold2</td>\n",
       "      <td>22664</td>\n",
       "      <td>46</td>\n",
       "      <td>0.001151</td>\n",
       "      <td>left</td>\n",
       "      <td>left</td>\n",
       "    </tr>\n",
       "    <tr>\n",
       "      <th>1</th>\n",
       "      <td>Scaffold0</td>\n",
       "      <td>30544</td>\n",
       "      <td>Scaffold2</td>\n",
       "      <td>34926</td>\n",
       "      <td>44</td>\n",
       "      <td>0.001149</td>\n",
       "      <td>left</td>\n",
       "      <td>left</td>\n",
       "    </tr>\n",
       "    <tr>\n",
       "      <th>2</th>\n",
       "      <td>Scaffold0</td>\n",
       "      <td>30544</td>\n",
       "      <td>Scaffold2</td>\n",
       "      <td>34934</td>\n",
       "      <td>44</td>\n",
       "      <td>0.006327</td>\n",
       "      <td>left</td>\n",
       "      <td>left</td>\n",
       "    </tr>\n",
       "    <tr>\n",
       "      <th>3</th>\n",
       "      <td>Scaffold0</td>\n",
       "      <td>30544</td>\n",
       "      <td>Scaffold2</td>\n",
       "      <td>34945</td>\n",
       "      <td>44</td>\n",
       "      <td>0.000766</td>\n",
       "      <td>left</td>\n",
       "      <td>left</td>\n",
       "    </tr>\n",
       "    <tr>\n",
       "      <th>4</th>\n",
       "      <td>Scaffold0</td>\n",
       "      <td>30544</td>\n",
       "      <td>Scaffold2</td>\n",
       "      <td>34956</td>\n",
       "      <td>44</td>\n",
       "      <td>0.016272</td>\n",
       "      <td>left</td>\n",
       "      <td>left</td>\n",
       "    </tr>\n",
       "  </tbody>\n",
       "</table>\n",
       "</div>"
      ],
      "text/plain": [
       "        CHR1   POS1       CHR2   POS2  N_INDV        R2 CHR1_END CHR2_END\n",
       "0  Scaffold0  30544  Scaffold2  22664      46  0.001151     left     left\n",
       "1  Scaffold0  30544  Scaffold2  34926      44  0.001149     left     left\n",
       "2  Scaffold0  30544  Scaffold2  34934      44  0.006327     left     left\n",
       "3  Scaffold0  30544  Scaffold2  34945      44  0.000766     left     left\n",
       "4  Scaffold0  30544  Scaffold2  34956      44  0.016272     left     left"
      ]
     },
     "execution_count": 11,
     "metadata": {},
     "output_type": "execute_result"
    }
   ],
   "source": [
    "ld.head()"
   ]
  },
  {
   "cell_type": "markdown",
   "metadata": {},
   "source": [
    "## Dump to sqlite"
   ]
  },
  {
   "cell_type": "code",
   "execution_count": 12,
   "metadata": {
    "ExecuteTime": {
     "end_time": "2016-04-28T13:41:27.392588",
     "start_time": "2016-04-28T13:39:22.498688"
    },
    "collapsed": false
   },
   "outputs": [],
   "source": [
    "lddf = ld.compute()"
   ]
  },
  {
   "cell_type": "code",
   "execution_count": 19,
   "metadata": {
    "ExecuteTime": {
     "end_time": "2016-04-28T13:44:28.167910",
     "start_time": "2016-04-28T13:44:28.164265"
    },
    "collapsed": false
   },
   "outputs": [
    {
     "data": {
      "text/plain": [
       "'sqlite:////home/gus/MEGAsync/zim/main/Yale/Projects/G_fuscipes/ddRAD/scaffold_organization_ld/pipeline_results/testing_development_ends_50K/interscaff_ld/scaffold_ends.indep.interchrom.geno.ld.db'"
      ]
     },
     "execution_count": 19,
     "metadata": {},
     "output_type": "execute_result"
    }
   ],
   "source": [
    "sqlite_db"
   ]
  },
  {
   "cell_type": "code",
   "execution_count": 16,
   "metadata": {
    "ExecuteTime": {
     "end_time": "2016-04-28T13:43:34.736139",
     "start_time": "2016-04-28T13:43:34.732838"
    },
    "collapsed": false
   },
   "outputs": [],
   "source": [
    "sqlite_db = \"sqlite:///{base}.db\".format(base=ld_)"
   ]
  },
  {
   "cell_type": "code",
   "execution_count": 17,
   "metadata": {
    "ExecuteTime": {
     "end_time": "2016-04-28T13:43:37.587536",
     "start_time": "2016-04-28T13:43:37.583440"
    },
    "collapsed": false
   },
   "outputs": [],
   "source": [
    "engine = create_engine(sqlite_db)"
   ]
  },
  {
   "cell_type": "code",
   "execution_count": 23,
   "metadata": {
    "ExecuteTime": {
     "end_time": "2016-04-28T13:50:06.877056",
     "start_time": "2016-04-28T13:50:06.869383"
    },
    "collapsed": true
   },
   "outputs": [],
   "source": [
    "con = engine.connect()"
   ]
  },
  {
   "cell_type": "code",
   "execution_count": 24,
   "metadata": {
    "ExecuteTime": {
     "end_time": "2016-04-28T13:50:10.976103",
     "start_time": "2016-04-28T13:50:10.973062"
    },
    "collapsed": false
   },
   "outputs": [],
   "source": [
    "# con = ibis.sqlite.connect(sqlite_db)"
   ]
  },
  {
   "cell_type": "code",
   "execution_count": null,
   "metadata": {
    "ExecuteTime": {
     "start_time": "2016-04-28T17:50:42.470Z"
    },
    "collapsed": false
   },
   "outputs": [],
   "source": [
    "lddf.to_sql(name='main', con=con, flavor='sqlite', schema=None, if_exists='fail', index=True, index_label=None, chunksize=None, dtype=None)"
   ]
  },
  {
   "cell_type": "markdown",
   "metadata": {},
   "source": [
    "# How many SNPs do we have per single scaffold end?"
   ]
  },
  {
   "cell_type": "code",
   "execution_count": 39,
   "metadata": {
    "ExecuteTime": {
     "end_time": "2016-04-27T14:31:19.070179",
     "start_time": "2016-04-27T14:31:19.065980"
    },
    "collapsed": false
   },
   "outputs": [],
   "source": [
    "# snps_per_end = ld.groupby([\"CHR1\",\"CHR1_END\"])['POS1'].unique().apply(lambda x: len(x)).unstack()\n",
    "snps_per_end = ld.groupby([\"CHR1\",\"CHR1_END\"])"
   ]
  },
  {
   "cell_type": "code",
   "execution_count": 44,
   "metadata": {
    "ExecuteTime": {
     "end_time": "2016-04-27T14:32:44.624993",
     "start_time": "2016-04-27T14:32:44.621523"
    },
    "collapsed": false
   },
   "outputs": [],
   "source": [
    "t = snps_per_end.POS1.nunique()"
   ]
  },
  {
   "cell_type": "code",
   "execution_count": null,
   "metadata": {
    "ExecuteTime": {
     "start_time": "2016-04-27T18:33:06.024Z"
    },
    "collapsed": false
   },
   "outputs": [],
   "source": [
    "t.compute()"
   ]
  },
  {
   "cell_type": "code",
   "execution_count": null,
   "metadata": {
    "ExecuteTime": {
     "start_time": "2016-04-27T18:33:18.963Z"
    },
    "collapsed": true
   },
   "outputs": [],
   "source": [
    "t.head()"
   ]
  },
  {
   "cell_type": "code",
   "execution_count": null,
   "metadata": {
    "ExecuteTime": {
     "start_time": "2016-04-26T21:41:15.013Z"
    },
    "collapsed": false
   },
   "outputs": [],
   "source": [
    "sns.distplot(snps_per_end,kde=False);"
   ]
  },
  {
   "cell_type": "markdown",
   "metadata": {},
   "source": [
    "# Look at distributions of R2 for a single scaffold end"
   ]
  },
  {
   "cell_type": "code",
   "execution_count": 25,
   "metadata": {
    "ExecuteTime": {
     "end_time": "2016-04-27T14:08:30.918997",
     "start_time": "2016-04-27T14:08:30.913528"
    },
    "collapsed": false
   },
   "outputs": [],
   "source": [
    "df = ld.query(\"\"\" CHR1 == 'Scaffold0' \"\"\")"
   ]
  },
  {
   "cell_type": "code",
   "execution_count": 24,
   "metadata": {
    "ExecuteTime": {
     "end_time": "2016-04-27T14:08:14.669512",
     "start_time": "2016-04-27T14:08:12.113928"
    },
    "collapsed": false
   },
   "outputs": [
    {
     "data": {
      "text/html": [
       "<div>\n",
       "<table border=\"1\" class=\"dataframe\">\n",
       "  <thead>\n",
       "    <tr style=\"text-align: right;\">\n",
       "      <th></th>\n",
       "      <th>CHR1</th>\n",
       "      <th>POS1</th>\n",
       "      <th>CHR2</th>\n",
       "      <th>POS2</th>\n",
       "      <th>N_INDV</th>\n",
       "      <th>R2</th>\n",
       "      <th>CHR1_END</th>\n",
       "      <th>CHR2_END</th>\n",
       "    </tr>\n",
       "  </thead>\n",
       "  <tbody>\n",
       "    <tr>\n",
       "      <th>0</th>\n",
       "      <td>Scaffold0</td>\n",
       "      <td>30544</td>\n",
       "      <td>Scaffold2</td>\n",
       "      <td>22664</td>\n",
       "      <td>46</td>\n",
       "      <td>0.001151</td>\n",
       "      <td>left</td>\n",
       "      <td>left</td>\n",
       "    </tr>\n",
       "    <tr>\n",
       "      <th>1</th>\n",
       "      <td>Scaffold0</td>\n",
       "      <td>30544</td>\n",
       "      <td>Scaffold2</td>\n",
       "      <td>34926</td>\n",
       "      <td>44</td>\n",
       "      <td>0.001149</td>\n",
       "      <td>left</td>\n",
       "      <td>left</td>\n",
       "    </tr>\n",
       "    <tr>\n",
       "      <th>2</th>\n",
       "      <td>Scaffold0</td>\n",
       "      <td>30544</td>\n",
       "      <td>Scaffold2</td>\n",
       "      <td>34934</td>\n",
       "      <td>44</td>\n",
       "      <td>0.006327</td>\n",
       "      <td>left</td>\n",
       "      <td>left</td>\n",
       "    </tr>\n",
       "    <tr>\n",
       "      <th>3</th>\n",
       "      <td>Scaffold0</td>\n",
       "      <td>30544</td>\n",
       "      <td>Scaffold2</td>\n",
       "      <td>34945</td>\n",
       "      <td>44</td>\n",
       "      <td>0.000766</td>\n",
       "      <td>left</td>\n",
       "      <td>left</td>\n",
       "    </tr>\n",
       "    <tr>\n",
       "      <th>4</th>\n",
       "      <td>Scaffold0</td>\n",
       "      <td>30544</td>\n",
       "      <td>Scaffold2</td>\n",
       "      <td>34956</td>\n",
       "      <td>44</td>\n",
       "      <td>0.016272</td>\n",
       "      <td>left</td>\n",
       "      <td>left</td>\n",
       "    </tr>\n",
       "  </tbody>\n",
       "</table>\n",
       "</div>"
      ],
      "text/plain": [
       "        CHR1   POS1       CHR2   POS2  N_INDV        R2 CHR1_END CHR2_END\n",
       "0  Scaffold0  30544  Scaffold2  22664      46  0.001151     left     left\n",
       "1  Scaffold0  30544  Scaffold2  34926      44  0.001149     left     left\n",
       "2  Scaffold0  30544  Scaffold2  34934      44  0.006327     left     left\n",
       "3  Scaffold0  30544  Scaffold2  34945      44  0.000766     left     left\n",
       "4  Scaffold0  30544  Scaffold2  34956      44  0.016272     left     left"
      ]
     },
     "execution_count": 24,
     "metadata": {},
     "output_type": "execute_result"
    }
   ],
   "source": [
    "ld.head()"
   ]
  },
  {
   "cell_type": "code",
   "execution_count": 26,
   "metadata": {
    "ExecuteTime": {
     "end_time": "2016-04-27T14:08:40.962933",
     "start_time": "2016-04-27T14:08:38.345015"
    },
    "collapsed": false
   },
   "outputs": [
    {
     "data": {
      "text/html": [
       "<div>\n",
       "<table border=\"1\" class=\"dataframe\">\n",
       "  <thead>\n",
       "    <tr style=\"text-align: right;\">\n",
       "      <th></th>\n",
       "      <th>CHR1</th>\n",
       "      <th>POS1</th>\n",
       "      <th>CHR2</th>\n",
       "      <th>POS2</th>\n",
       "      <th>N_INDV</th>\n",
       "      <th>R2</th>\n",
       "      <th>CHR1_END</th>\n",
       "      <th>CHR2_END</th>\n",
       "    </tr>\n",
       "  </thead>\n",
       "  <tbody>\n",
       "    <tr>\n",
       "      <th>0</th>\n",
       "      <td>Scaffold0</td>\n",
       "      <td>30544</td>\n",
       "      <td>Scaffold2</td>\n",
       "      <td>22664</td>\n",
       "      <td>46</td>\n",
       "      <td>0.001151</td>\n",
       "      <td>left</td>\n",
       "      <td>left</td>\n",
       "    </tr>\n",
       "    <tr>\n",
       "      <th>1</th>\n",
       "      <td>Scaffold0</td>\n",
       "      <td>30544</td>\n",
       "      <td>Scaffold2</td>\n",
       "      <td>34926</td>\n",
       "      <td>44</td>\n",
       "      <td>0.001149</td>\n",
       "      <td>left</td>\n",
       "      <td>left</td>\n",
       "    </tr>\n",
       "    <tr>\n",
       "      <th>2</th>\n",
       "      <td>Scaffold0</td>\n",
       "      <td>30544</td>\n",
       "      <td>Scaffold2</td>\n",
       "      <td>34934</td>\n",
       "      <td>44</td>\n",
       "      <td>0.006327</td>\n",
       "      <td>left</td>\n",
       "      <td>left</td>\n",
       "    </tr>\n",
       "    <tr>\n",
       "      <th>3</th>\n",
       "      <td>Scaffold0</td>\n",
       "      <td>30544</td>\n",
       "      <td>Scaffold2</td>\n",
       "      <td>34945</td>\n",
       "      <td>44</td>\n",
       "      <td>0.000766</td>\n",
       "      <td>left</td>\n",
       "      <td>left</td>\n",
       "    </tr>\n",
       "    <tr>\n",
       "      <th>4</th>\n",
       "      <td>Scaffold0</td>\n",
       "      <td>30544</td>\n",
       "      <td>Scaffold2</td>\n",
       "      <td>34956</td>\n",
       "      <td>44</td>\n",
       "      <td>0.016272</td>\n",
       "      <td>left</td>\n",
       "      <td>left</td>\n",
       "    </tr>\n",
       "  </tbody>\n",
       "</table>\n",
       "</div>"
      ],
      "text/plain": [
       "        CHR1   POS1       CHR2   POS2  N_INDV        R2 CHR1_END CHR2_END\n",
       "0  Scaffold0  30544  Scaffold2  22664      46  0.001151     left     left\n",
       "1  Scaffold0  30544  Scaffold2  34926      44  0.001149     left     left\n",
       "2  Scaffold0  30544  Scaffold2  34934      44  0.006327     left     left\n",
       "3  Scaffold0  30544  Scaffold2  34945      44  0.000766     left     left\n",
       "4  Scaffold0  30544  Scaffold2  34956      44  0.016272     left     left"
      ]
     },
     "execution_count": 26,
     "metadata": {},
     "output_type": "execute_result"
    }
   ],
   "source": [
    "df.head()"
   ]
  },
  {
   "cell_type": "code",
   "execution_count": 21,
   "metadata": {
    "ExecuteTime": {
     "end_time": "2016-04-26T16:01:05.514917",
     "start_time": "2016-04-26T16:01:05.506936"
    },
    "collapsed": false
   },
   "outputs": [
    {
     "data": {
      "text/plain": [
       "array([13132, 31216])"
      ]
     },
     "execution_count": 21,
     "metadata": {},
     "output_type": "execute_result"
    }
   ],
   "source": [
    "df.POS1.unique()"
   ]
  },
  {
   "cell_type": "code",
   "execution_count": 37,
   "metadata": {
    "ExecuteTime": {
     "end_time": "2016-04-26T17:15:34.850732",
     "start_time": "2016-04-26T17:15:34.839316"
    },
    "collapsed": false
   },
   "outputs": [
    {
     "data": {
      "text/plain": [
       "CHR1\n",
       "Scaffold365    [13132, 31216]\n",
       "Name: POS1, dtype: object"
      ]
     },
     "execution_count": 37,
     "metadata": {},
     "output_type": "execute_result"
    }
   ],
   "source": [
    "df.groupby([\"CHR1\"])[\"POS1\"].unique()"
   ]
  },
  {
   "cell_type": "code",
   "execution_count": null,
   "metadata": {
    "collapsed": true
   },
   "outputs": [],
   "source": []
  }
 ],
 "metadata": {
  "kernelspec": {
   "display_name": "Python 3",
   "language": "python",
   "name": "python3"
  },
  "language_info": {
   "codemirror_mode": {
    "name": "ipython",
    "version": 3
   },
   "file_extension": ".py",
   "mimetype": "text/x-python",
   "name": "python",
   "nbconvert_exporter": "python",
   "pygments_lexer": "ipython3",
   "version": "3.5.1"
  },
  "notify_time": "0",
  "toc": {
   "toc_cell": true,
   "toc_number_sections": true,
   "toc_threshold": 6,
   "toc_window_display": true
  },
  "toc_position": {
   "height": "341px",
   "left": "1952.38px",
   "right": "20px",
   "top": "152px",
   "width": "306px"
  }
 },
 "nbformat": 4,
 "nbformat_minor": 0
}
