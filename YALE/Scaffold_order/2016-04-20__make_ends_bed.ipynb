{
 "cells": [
  {
   "cell_type": "markdown",
   "metadata": {
    "toc": "true"
   },
   "source": [
    "# Table of Contents\n",
    " <p><div class=\"lev1\"><a href=\"#Imports\"><span class=\"toc-item-num\">1&nbsp;&nbsp;</span>Imports</a></div><div class=\"lev1\"><a href=\"#Paths\"><span class=\"toc-item-num\">2&nbsp;&nbsp;</span>Paths</a></div><div class=\"lev1\"><a href=\"#Functions\"><span class=\"toc-item-num\">3&nbsp;&nbsp;</span>Functions</a></div><div class=\"lev1\"><a href=\"#Fooling-around\"><span class=\"toc-item-num\">4&nbsp;&nbsp;</span>Fooling around</a></div><div class=\"lev2\"><a href=\"#How-many-base-pairs-do-we-get-with-various-end-lengths?\"><span class=\"toc-item-num\">4.1&nbsp;&nbsp;</span>How many base-pairs do we get with various end lengths?</a></div>"
   ]
  },
  {
   "cell_type": "markdown",
   "metadata": {
    "collapsed": true
   },
   "source": [
    "# Imports"
   ]
  },
  {
   "cell_type": "code",
   "execution_count": 3,
   "metadata": {
    "ExecuteTime": {
     "end_time": "2016-04-25T11:33:07.394973",
     "start_time": "2016-04-25T11:33:07.391539"
    },
    "collapsed": false
   },
   "outputs": [],
   "source": [
    "from pyfaidx import Fasta\n",
    "\n",
    "import pandas as pd"
   ]
  },
  {
   "cell_type": "markdown",
   "metadata": {
    "collapsed": true
   },
   "source": [
    "# Paths"
   ]
  },
  {
   "cell_type": "code",
   "execution_count": 4,
   "metadata": {
    "ExecuteTime": {
     "end_time": "2016-04-25T11:33:08.298132",
     "start_time": "2016-04-25T11:33:08.295116"
    },
    "collapsed": true
   },
   "outputs": [],
   "source": [
    "fas_ = \"/run/media/gus/Storage/louise/data/genomes/glossina_fuscipes/assemblies/GfusI1/Glossina-fuscipes-IAEA_SCAFFOLDS_GfusI1.renamed.fa\""
   ]
  },
  {
   "cell_type": "markdown",
   "metadata": {
    "collapsed": true
   },
   "source": [
    "# Functions"
   ]
  },
  {
   "cell_type": "code",
   "execution_count": 15,
   "metadata": {
    "ExecuteTime": {
     "end_time": "2016-04-25T11:37:42.262974",
     "start_time": "2016-04-25T11:37:42.248088"
    },
    "collapsed": true
   },
   "outputs": [],
   "source": [
    "def make_ends_bed_recs(fasta, window, excluded):\n",
    "    \"\"\"Use the scaffold fasta to produce a bed file representing the ends of each scaffold.\n",
    "\n",
    "    Scaffolds are only included if they are at least as 2x as long as the supplied window.\n",
    "    \"\"\"\n",
    "    for name, seq in fasta.records.items():\n",
    "        seq_range = len(seq)\n",
    "\n",
    "        chrom = name\n",
    "        startL = 0\n",
    "        endL = window\n",
    "        startR = seq_range - window\n",
    "        endR = seq_range\n",
    "\n",
    "        if seq_range < (window * 2) + 1:\n",
    "            excluded.append(chrom)\n",
    "            print(\" {chrom} with length {range} was excluded from bed.\".format(chrom=chrom,\n",
    "                                                                                     range=seq_range))\n",
    "            continue\n",
    "\n",
    "        yield \"{chrom}\\t{startL}\\t{endL}\\n{chrom}\\t{startR}\\t{endR}\\n\".format(chrom=chrom,\n",
    "                                                                        startL=startL,\n",
    "                                                                        endL=endL,\n",
    "                                                                        startR=startR,\n",
    "                                                                        endR=endR,\n",
    "                                                                       )"
   ]
  },
  {
   "cell_type": "markdown",
   "metadata": {},
   "source": [
    "# Fooling around"
   ]
  },
  {
   "cell_type": "code",
   "execution_count": 16,
   "metadata": {
    "ExecuteTime": {
     "end_time": "2016-04-25T11:37:43.893708",
     "start_time": "2016-04-25T11:37:43.853161"
    },
    "collapsed": true
   },
   "outputs": [],
   "source": [
    "fas = Fasta(fas_)"
   ]
  },
  {
   "cell_type": "code",
   "execution_count": 17,
   "metadata": {
    "ExecuteTime": {
     "end_time": "2016-04-25T11:37:44.288955",
     "start_time": "2016-04-25T11:37:44.284893"
    },
    "collapsed": false
   },
   "outputs": [
    {
     "data": {
      "text/plain": [
       "2395"
      ]
     },
     "execution_count": 17,
     "metadata": {},
     "output_type": "execute_result"
    }
   ],
   "source": [
    "len(fas.records)"
   ]
  },
  {
   "cell_type": "code",
   "execution_count": 18,
   "metadata": {
    "ExecuteTime": {
     "end_time": "2016-04-25T11:37:45.369823",
     "start_time": "2016-04-25T11:37:45.367489"
    },
    "collapsed": false
   },
   "outputs": [],
   "source": [
    "# for k in list(fas.keys())[:10]:\n",
    "#     print(\"{key}: {leng}\".format(key=k, leng=len(fas[k][:].seq)))"
   ]
  },
  {
   "cell_type": "code",
   "execution_count": 28,
   "metadata": {
    "ExecuteTime": {
     "end_time": "2016-04-25T11:42:13.663403",
     "start_time": "2016-04-25T11:42:13.659857"
    },
    "collapsed": false
   },
   "outputs": [
    {
     "data": {
      "text/plain": [
       "0.5010438413361169"
      ]
     },
     "execution_count": 28,
     "metadata": {},
     "output_type": "execute_result"
    }
   ],
   "source": [
    "1200/2395"
   ]
  },
  {
   "cell_type": "code",
   "execution_count": 27,
   "metadata": {
    "ExecuteTime": {
     "end_time": "2016-04-25T11:40:52.676555",
     "start_time": "2016-04-25T11:40:52.668590"
    },
    "collapsed": false
   },
   "outputs": [
    {
     "data": {
      "text/plain": [
       "1200"
      ]
     },
     "execution_count": 27,
     "metadata": {},
     "output_type": "execute_result"
    }
   ],
   "source": [
    "len(excluded)"
   ]
  },
  {
   "cell_type": "code",
   "execution_count": 10,
   "metadata": {
    "ExecuteTime": {
     "end_time": "2016-04-25T11:33:45.835275",
     "start_time": "2016-04-25T11:33:45.831023"
    },
    "collapsed": false
   },
   "outputs": [
    {
     "data": {
      "text/plain": [
       "['Scaffold1311',\n",
       " 'JFJR01012682',\n",
       " 'JFJR01013424',\n",
       " 'JFJR01012647',\n",
       " 'JFJR01013313']"
      ]
     },
     "execution_count": 10,
     "metadata": {},
     "output_type": "execute_result"
    }
   ],
   "source": [
    "excluded"
   ]
  },
  {
   "cell_type": "code",
   "execution_count": 24,
   "metadata": {
    "ExecuteTime": {
     "end_time": "2016-04-25T11:40:00.841666",
     "start_time": "2016-04-25T11:40:00.837745"
    },
    "collapsed": false
   },
   "outputs": [
    {
     "name": "stdout",
     "output_type": "stream",
     "text": [
      "Scaffold607 162067\n"
     ]
    }
   ],
   "source": [
    "for name, seq in fas.records.items():\n",
    "        seq_range = len(seq)\n",
    "        print(name+ \" \" + str(seq_range))\n",
    "        break"
   ]
  },
  {
   "cell_type": "code",
   "execution_count": 13,
   "metadata": {
    "ExecuteTime": {
     "end_time": "2016-04-25T11:35:18.067920",
     "start_time": "2016-04-25T11:35:18.064565"
    },
    "collapsed": false
   },
   "outputs": [
    {
     "data": {
      "text/plain": [
       "'Scaffold607'"
      ]
     },
     "execution_count": 13,
     "metadata": {},
     "output_type": "execute_result"
    }
   ],
   "source": [
    "x"
   ]
  },
  {
   "cell_type": "markdown",
   "metadata": {},
   "source": [
    "## How many base-pairs do we get with various end lengths?"
   ]
  },
  {
   "cell_type": "code",
   "execution_count": 29,
   "metadata": {
    "ExecuteTime": {
     "end_time": "2016-04-25T11:50:26.351967",
     "start_time": "2016-04-25T11:50:26.346000"
    },
    "collapsed": true
   },
   "outputs": [],
   "source": [
    "def scaff_lengths(fasta):\n",
    "    lengths = {}\n",
    "    for name, seq in fasta.records.items():\n",
    "        lengths[name] = len(seq)\n",
    "        \n",
    "    return lengths"
   ]
  },
  {
   "cell_type": "code",
   "execution_count": 30,
   "metadata": {
    "ExecuteTime": {
     "end_time": "2016-04-25T11:50:37.964231",
     "start_time": "2016-04-25T11:50:37.952157"
    },
    "collapsed": true
   },
   "outputs": [],
   "source": [
    "lengths = scaff_lengths(fas)"
   ]
  },
  {
   "cell_type": "code",
   "execution_count": 31,
   "metadata": {
    "ExecuteTime": {
     "end_time": "2016-04-25T11:50:44.352117",
     "start_time": "2016-04-25T11:50:44.345392"
    },
    "collapsed": false
   },
   "outputs": [
    {
     "data": {
      "text/plain": [
       "2395"
      ]
     },
     "execution_count": 31,
     "metadata": {},
     "output_type": "execute_result"
    }
   ],
   "source": [
    "len(lengths)"
   ]
  },
  {
   "cell_type": "code",
   "execution_count": 34,
   "metadata": {
    "ExecuteTime": {
     "end_time": "2016-04-25T11:51:34.567754",
     "start_time": "2016-04-25T11:51:34.563855"
    },
    "collapsed": false
   },
   "outputs": [
    {
     "data": {
      "text/plain": [
       "374774708"
      ]
     },
     "execution_count": 34,
     "metadata": {},
     "output_type": "execute_result"
    }
   ],
   "source": [
    "total_bp = sum(lengths.values())\n",
    "total_bp"
   ]
  },
  {
   "cell_type": "code",
   "execution_count": 38,
   "metadata": {
    "ExecuteTime": {
     "end_time": "2016-04-25T11:55:33.767240",
     "start_time": "2016-04-25T11:55:33.751653"
    },
    "collapsed": false
   },
   "outputs": [
    {
     "data": {
      "text/plain": [
       "370538898"
      ]
     },
     "execution_count": 38,
     "metadata": {},
     "output_type": "execute_result"
    }
   ],
   "source": [
    "win10K_bp = sum([len(l) for l in fas.records.values() if len(l) >= 10000*2+1])\n",
    "win10K_bp"
   ]
  },
  {
   "cell_type": "code",
   "execution_count": 40,
   "metadata": {
    "ExecuteTime": {
     "end_time": "2016-04-25T11:56:07.891794",
     "start_time": "2016-04-25T11:56:07.885381"
    },
    "collapsed": false
   },
   "outputs": [
    {
     "data": {
      "text/plain": [
       "0.9886977164958528"
      ]
     },
     "execution_count": 40,
     "metadata": {},
     "output_type": "execute_result"
    }
   ],
   "source": [
    "win10K_bp / total_bp"
   ]
  },
  {
   "cell_type": "code",
   "execution_count": null,
   "metadata": {
    "collapsed": true
   },
   "outputs": [],
   "source": []
  }
 ],
 "metadata": {
  "kernelspec": {
   "display_name": "Python 3",
   "language": "python",
   "name": "python3"
  },
  "language_info": {
   "codemirror_mode": {
    "name": "ipython",
    "version": 3
   },
   "file_extension": ".py",
   "mimetype": "text/x-python",
   "name": "python",
   "nbconvert_exporter": "python",
   "pygments_lexer": "ipython3",
   "version": "3.5.1"
  },
  "toc": {
   "toc_cell": true,
   "toc_number_sections": true,
   "toc_threshold": 6,
   "toc_window_display": true
  },
  "toc_position": {
   "height": "341px",
   "left": "1909.38px",
   "right": "20px",
   "top": "178px",
   "width": "306px"
  }
 },
 "nbformat": 4,
 "nbformat_minor": 0
}
