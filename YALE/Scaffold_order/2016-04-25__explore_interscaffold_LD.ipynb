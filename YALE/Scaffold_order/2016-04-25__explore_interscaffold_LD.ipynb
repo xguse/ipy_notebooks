{
 "cells": [
  {
   "cell_type": "markdown",
   "metadata": {
    "toc": "true"
   },
   "source": [
    "# Table of Contents\n",
    " <p><div class=\"lev1\"><a href=\"#Imports\"><span class=\"toc-item-num\">1&nbsp;&nbsp;</span>Imports</a></div><div class=\"lev1\"><a href=\"#Paths\"><span class=\"toc-item-num\">2&nbsp;&nbsp;</span>Paths</a></div><div class=\"lev1\"><a href=\"#Functions\"><span class=\"toc-item-num\">3&nbsp;&nbsp;</span>Functions</a></div><div class=\"lev1\"><a href=\"#Load-and-recode\"><span class=\"toc-item-num\">4&nbsp;&nbsp;</span>Load and recode</a></div><div class=\"lev2\"><a href=\"#Add-left/right-labels-for-CHR1/CHR2\"><span class=\"toc-item-num\">4.1&nbsp;&nbsp;</span>Add left/right labels for CHR1/CHR2</a></div><div class=\"lev1\"><a href=\"#How-many-SNPs-do-we-have-per-single-scaffold-end?\"><span class=\"toc-item-num\">5&nbsp;&nbsp;</span>How many SNPs do we have per single scaffold end?</a></div><div class=\"lev1\"><a href=\"#Look-at-distributions-of-R2-for-a-single-scaffold-end\"><span class=\"toc-item-num\">6&nbsp;&nbsp;</span>Look at distributions of R2 for a single scaffold end</a></div>"
   ]
  },
  {
   "cell_type": "markdown",
   "metadata": {
    "collapsed": true
   },
   "source": [
    "# Imports"
   ]
  },
  {
   "cell_type": "code",
   "execution_count": 1,
   "metadata": {
    "ExecuteTime": {
     "end_time": "2016-04-29T13:05:07.606557",
     "start_time": "2016-04-29T13:05:07.185619"
    },
    "collapsed": true
   },
   "outputs": [],
   "source": [
    "%matplotlib inline"
   ]
  },
  {
   "cell_type": "code",
   "execution_count": 31,
   "metadata": {
    "ExecuteTime": {
     "end_time": "2016-04-29T13:16:53.598528",
     "start_time": "2016-04-29T13:16:53.592613"
    },
    "collapsed": false
   },
   "outputs": [],
   "source": [
    "import seaborn as sns\n",
    "\n",
    "import pandas as pd\n",
    "\n",
    "from multiprocessing import Pool"
   ]
  },
  {
   "cell_type": "code",
   "execution_count": 3,
   "metadata": {
    "ExecuteTime": {
     "end_time": "2016-04-29T13:05:08.382286",
     "start_time": "2016-04-29T13:05:08.379449"
    },
    "collapsed": true
   },
   "outputs": [],
   "source": [
    "sns.set_context('talk')"
   ]
  },
  {
   "cell_type": "markdown",
   "metadata": {
    "collapsed": true
   },
   "source": [
    "# Paths"
   ]
  },
  {
   "cell_type": "code",
   "execution_count": 5,
   "metadata": {
    "ExecuteTime": {
     "end_time": "2016-04-29T13:05:19.797826",
     "start_time": "2016-04-29T13:05:19.794299"
    },
    "collapsed": true
   },
   "outputs": [],
   "source": [
    "WIN = 100000\n",
    "ld_= \"/home/gus/MEGAsync/zim/main/Yale/Projects/G_fuscipes/ddRAD/scaffold_organization_ld/pipeline_results/testing_development_ends_100K_win_10kb/interscaff_ld/scaffold_ends.indep.interchrom.geno.ld.head\""
   ]
  },
  {
   "cell_type": "markdown",
   "metadata": {
    "collapsed": true
   },
   "source": [
    "# Functions"
   ]
  },
  {
   "cell_type": "code",
   "execution_count": 6,
   "metadata": {
    "ExecuteTime": {
     "end_time": "2016-04-29T13:05:21.561202",
     "start_time": "2016-04-29T13:05:21.550431"
    },
    "collapsed": true
   },
   "outputs": [],
   "source": [
    "def recode_and_add_end_labels(df, win):\n",
    "    df.rename(columns={'R^2': 'R2'}, inplace=True)\n",
    "    df[\"CHR1_END\"] = df.POS1.apply(lambda i: \"left\" if i < win else \"right\")\n",
    "    df[\"CHR2_END\"] = df.POS2.apply(lambda i: \"left\" if i < win else \"right\")"
   ]
  },
  {
   "cell_type": "markdown",
   "metadata": {},
   "source": [
    "# Load and recode"
   ]
  },
  {
   "cell_type": "code",
   "execution_count": 24,
   "metadata": {
    "ExecuteTime": {
     "end_time": "2016-04-29T13:07:09.428934",
     "start_time": "2016-04-29T13:07:06.737441"
    },
    "collapsed": false
   },
   "outputs": [],
   "source": [
    "ld = pd.read_csv(ld_, sep='\\t')"
   ]
  },
  {
   "cell_type": "code",
   "execution_count": 14,
   "metadata": {
    "ExecuteTime": {
     "end_time": "2016-04-29T13:06:20.739388",
     "start_time": "2016-04-29T13:06:20.722671"
    },
    "collapsed": false
   },
   "outputs": [
    {
     "data": {
      "text/html": [
       "<div>\n",
       "<table border=\"1\" class=\"dataframe\">\n",
       "  <thead>\n",
       "    <tr style=\"text-align: right;\">\n",
       "      <th></th>\n",
       "      <th>CHR1</th>\n",
       "      <th>POS1</th>\n",
       "      <th>CHR2</th>\n",
       "      <th>POS2</th>\n",
       "      <th>N_INDV</th>\n",
       "      <th>R^2</th>\n",
       "    </tr>\n",
       "  </thead>\n",
       "  <tbody>\n",
       "    <tr>\n",
       "      <th>0</th>\n",
       "      <td>Scaffold0</td>\n",
       "      <td>13388</td>\n",
       "      <td>Scaffold2</td>\n",
       "      <td>22610</td>\n",
       "      <td>48</td>\n",
       "      <td>0.155145</td>\n",
       "    </tr>\n",
       "    <tr>\n",
       "      <th>1</th>\n",
       "      <td>Scaffold0</td>\n",
       "      <td>13388</td>\n",
       "      <td>Scaffold2</td>\n",
       "      <td>22664</td>\n",
       "      <td>45</td>\n",
       "      <td>0.024699</td>\n",
       "    </tr>\n",
       "    <tr>\n",
       "      <th>2</th>\n",
       "      <td>Scaffold0</td>\n",
       "      <td>13388</td>\n",
       "      <td>Scaffold2</td>\n",
       "      <td>34926</td>\n",
       "      <td>43</td>\n",
       "      <td>0.021882</td>\n",
       "    </tr>\n",
       "    <tr>\n",
       "      <th>3</th>\n",
       "      <td>Scaffold0</td>\n",
       "      <td>13388</td>\n",
       "      <td>Scaffold2</td>\n",
       "      <td>34934</td>\n",
       "      <td>43</td>\n",
       "      <td>0.019785</td>\n",
       "    </tr>\n",
       "    <tr>\n",
       "      <th>4</th>\n",
       "      <td>Scaffold0</td>\n",
       "      <td>13388</td>\n",
       "      <td>Scaffold2</td>\n",
       "      <td>34945</td>\n",
       "      <td>43</td>\n",
       "      <td>0.027440</td>\n",
       "    </tr>\n",
       "  </tbody>\n",
       "</table>\n",
       "</div>"
      ],
      "text/plain": [
       "        CHR1   POS1       CHR2   POS2  N_INDV       R^2\n",
       "0  Scaffold0  13388  Scaffold2  22610      48  0.155145\n",
       "1  Scaffold0  13388  Scaffold2  22664      45  0.024699\n",
       "2  Scaffold0  13388  Scaffold2  34926      43  0.021882\n",
       "3  Scaffold0  13388  Scaffold2  34934      43  0.019785\n",
       "4  Scaffold0  13388  Scaffold2  34945      43  0.027440"
      ]
     },
     "execution_count": 14,
     "metadata": {},
     "output_type": "execute_result"
    }
   ],
   "source": [
    "# ld.head()"
   ]
  },
  {
   "cell_type": "markdown",
   "metadata": {},
   "source": [
    "## Add left/right labels for CHR1/CHR2"
   ]
  },
  {
   "cell_type": "code",
   "execution_count": 25,
   "metadata": {
    "ExecuteTime": {
     "end_time": "2016-04-29T13:07:12.724854",
     "start_time": "2016-04-29T13:07:09.431674"
    },
    "collapsed": true
   },
   "outputs": [],
   "source": [
    "recode_and_add_end_labels(ld,WIN)"
   ]
  },
  {
   "cell_type": "code",
   "execution_count": 21,
   "metadata": {
    "ExecuteTime": {
     "end_time": "2016-04-29T13:06:57.035532",
     "start_time": "2016-04-29T13:06:57.033165"
    },
    "collapsed": false
   },
   "outputs": [],
   "source": [
    "# ld.head()"
   ]
  },
  {
   "cell_type": "markdown",
   "metadata": {},
   "source": [
    "# How many SNPs do we have per single scaffold end?"
   ]
  },
  {
   "cell_type": "code",
   "execution_count": 26,
   "metadata": {
    "ExecuteTime": {
     "end_time": "2016-04-29T13:07:14.436312",
     "start_time": "2016-04-29T13:07:13.369547"
    },
    "collapsed": false
   },
   "outputs": [],
   "source": [
    "snps_per_end = ld.groupby([\"CHR1\",\"CHR1_END\"])['POS1'].unique().apply(lambda x: len(x)).unstack()"
   ]
  },
  {
   "cell_type": "code",
   "execution_count": 27,
   "metadata": {
    "ExecuteTime": {
     "end_time": "2016-04-29T13:07:14.450454",
     "start_time": "2016-04-29T13:07:14.440646"
    },
    "collapsed": false
   },
   "outputs": [
    {
     "data": {
      "text/html": [
       "<div>\n",
       "<table border=\"1\" class=\"dataframe\">\n",
       "  <thead>\n",
       "    <tr style=\"text-align: right;\">\n",
       "      <th>CHR1_END</th>\n",
       "      <th>left</th>\n",
       "      <th>right</th>\n",
       "    </tr>\n",
       "    <tr>\n",
       "      <th>CHR1</th>\n",
       "      <th></th>\n",
       "      <th></th>\n",
       "    </tr>\n",
       "  </thead>\n",
       "  <tbody>\n",
       "    <tr>\n",
       "      <th>Scaffold0</th>\n",
       "      <td>13.0</td>\n",
       "      <td>14.0</td>\n",
       "    </tr>\n",
       "    <tr>\n",
       "      <th>Scaffold14</th>\n",
       "      <td>18.0</td>\n",
       "      <td>NaN</td>\n",
       "    </tr>\n",
       "    <tr>\n",
       "      <th>Scaffold2</th>\n",
       "      <td>15.0</td>\n",
       "      <td>10.0</td>\n",
       "    </tr>\n",
       "    <tr>\n",
       "      <th>Scaffold4</th>\n",
       "      <td>14.0</td>\n",
       "      <td>16.0</td>\n",
       "    </tr>\n",
       "    <tr>\n",
       "      <th>Scaffold6</th>\n",
       "      <td>15.0</td>\n",
       "      <td>14.0</td>\n",
       "    </tr>\n",
       "    <tr>\n",
       "      <th>Scaffold8</th>\n",
       "      <td>9.0</td>\n",
       "      <td>9.0</td>\n",
       "    </tr>\n",
       "    <tr>\n",
       "      <th>Scaffold9</th>\n",
       "      <td>5.0</td>\n",
       "      <td>28.0</td>\n",
       "    </tr>\n",
       "  </tbody>\n",
       "</table>\n",
       "</div>"
      ],
      "text/plain": [
       "CHR1_END    left  right\n",
       "CHR1                   \n",
       "Scaffold0   13.0   14.0\n",
       "Scaffold14  18.0    NaN\n",
       "Scaffold2   15.0   10.0\n",
       "Scaffold4   14.0   16.0\n",
       "Scaffold6   15.0   14.0\n",
       "Scaffold8    9.0    9.0\n",
       "Scaffold9    5.0   28.0"
      ]
     },
     "execution_count": 27,
     "metadata": {},
     "output_type": "execute_result"
    }
   ],
   "source": [
    "snps_per_end"
   ]
  },
  {
   "cell_type": "code",
   "execution_count": 30,
   "metadata": {
    "ExecuteTime": {
     "end_time": "2016-04-29T13:10:42.748927",
     "start_time": "2016-04-29T13:10:42.177179"
    },
    "collapsed": false
   },
   "outputs": [
    {
     "data": {
      "text/plain": [
       "7"
      ]
     },
     "execution_count": 30,
     "metadata": {},
     "output_type": "execute_result"
    }
   ],
   "source": [
    "gather = []\n",
    "for g1 in ld.groupby(\"CHR1\"):\n",
    "    for g2 in g1.groupby(\"CHR1_END\"):\n",
    "        "
   ]
  },
  {
   "cell_type": "code",
   "execution_count": null,
   "metadata": {
    "ExecuteTime": {
     "start_time": "2016-04-26T21:41:15.013Z"
    },
    "collapsed": false
   },
   "outputs": [],
   "source": [
    "sns.distplot(snps_per_end,kde=False);"
   ]
  },
  {
   "cell_type": "markdown",
   "metadata": {},
   "source": [
    "# Look at distributions of R2 for a single scaffold end"
   ]
  },
  {
   "cell_type": "code",
   "execution_count": 10,
   "metadata": {
    "ExecuteTime": {
     "end_time": "2016-04-27T14:21:42.179866",
     "start_time": "2016-04-27T14:21:38.166344"
    },
    "collapsed": false
   },
   "outputs": [],
   "source": [
    "df = ld.query(\"\"\" CHR1 == 'Scaffold365' \"\"\").query(\"\"\" CHR1_END == 'left' \"\"\")"
   ]
  },
  {
   "cell_type": "code",
   "execution_count": 11,
   "metadata": {
    "ExecuteTime": {
     "end_time": "2016-04-27T14:21:43.054333",
     "start_time": "2016-04-27T14:21:43.032831"
    },
    "collapsed": false
   },
   "outputs": [
    {
     "data": {
      "text/html": [
       "<div>\n",
       "<table border=\"1\" class=\"dataframe\">\n",
       "  <thead>\n",
       "    <tr style=\"text-align: right;\">\n",
       "      <th></th>\n",
       "      <th>CHR1</th>\n",
       "      <th>POS1</th>\n",
       "      <th>CHR2</th>\n",
       "      <th>POS2</th>\n",
       "      <th>N_INDV</th>\n",
       "      <th>R2</th>\n",
       "      <th>CHR1_END</th>\n",
       "      <th>CHR2_END</th>\n",
       "    </tr>\n",
       "  </thead>\n",
       "  <tbody>\n",
       "    <tr>\n",
       "      <th>29431738</th>\n",
       "      <td>Scaffold365</td>\n",
       "      <td>13132</td>\n",
       "      <td>Scaffold368</td>\n",
       "      <td>1183</td>\n",
       "      <td>41</td>\n",
       "      <td>0.011227</td>\n",
       "      <td>left</td>\n",
       "      <td>left</td>\n",
       "    </tr>\n",
       "    <tr>\n",
       "      <th>29431739</th>\n",
       "      <td>Scaffold365</td>\n",
       "      <td>13132</td>\n",
       "      <td>Scaffold368</td>\n",
       "      <td>1185</td>\n",
       "      <td>41</td>\n",
       "      <td>0.012524</td>\n",
       "      <td>left</td>\n",
       "      <td>left</td>\n",
       "    </tr>\n",
       "    <tr>\n",
       "      <th>29431740</th>\n",
       "      <td>Scaffold365</td>\n",
       "      <td>13132</td>\n",
       "      <td>Scaffold368</td>\n",
       "      <td>19928</td>\n",
       "      <td>43</td>\n",
       "      <td>0.040179</td>\n",
       "      <td>left</td>\n",
       "      <td>left</td>\n",
       "    </tr>\n",
       "    <tr>\n",
       "      <th>29431741</th>\n",
       "      <td>Scaffold365</td>\n",
       "      <td>13132</td>\n",
       "      <td>Scaffold368</td>\n",
       "      <td>33427</td>\n",
       "      <td>46</td>\n",
       "      <td>0.064349</td>\n",
       "      <td>left</td>\n",
       "      <td>left</td>\n",
       "    </tr>\n",
       "    <tr>\n",
       "      <th>29431742</th>\n",
       "      <td>Scaffold365</td>\n",
       "      <td>13132</td>\n",
       "      <td>Scaffold368</td>\n",
       "      <td>48144</td>\n",
       "      <td>46</td>\n",
       "      <td>0.011887</td>\n",
       "      <td>left</td>\n",
       "      <td>left</td>\n",
       "    </tr>\n",
       "  </tbody>\n",
       "</table>\n",
       "</div>"
      ],
      "text/plain": [
       "                 CHR1   POS1         CHR2   POS2  N_INDV        R2 CHR1_END  \\\n",
       "29431738  Scaffold365  13132  Scaffold368   1183      41  0.011227     left   \n",
       "29431739  Scaffold365  13132  Scaffold368   1185      41  0.012524     left   \n",
       "29431740  Scaffold365  13132  Scaffold368  19928      43  0.040179     left   \n",
       "29431741  Scaffold365  13132  Scaffold368  33427      46  0.064349     left   \n",
       "29431742  Scaffold365  13132  Scaffold368  48144      46  0.011887     left   \n",
       "\n",
       "         CHR2_END  \n",
       "29431738     left  \n",
       "29431739     left  \n",
       "29431740     left  \n",
       "29431741     left  \n",
       "29431742     left  "
      ]
     },
     "execution_count": 11,
     "metadata": {},
     "output_type": "execute_result"
    }
   ],
   "source": [
    "df.head()"
   ]
  },
  {
   "cell_type": "code",
   "execution_count": 21,
   "metadata": {
    "ExecuteTime": {
     "end_time": "2016-04-26T16:01:05.514917",
     "start_time": "2016-04-26T16:01:05.506936"
    },
    "collapsed": false
   },
   "outputs": [
    {
     "data": {
      "text/plain": [
       "array([13132, 31216])"
      ]
     },
     "execution_count": 21,
     "metadata": {},
     "output_type": "execute_result"
    }
   ],
   "source": [
    "df.POS1.unique()"
   ]
  },
  {
   "cell_type": "code",
   "execution_count": 37,
   "metadata": {
    "ExecuteTime": {
     "end_time": "2016-04-26T17:15:34.850732",
     "start_time": "2016-04-26T17:15:34.839316"
    },
    "collapsed": false
   },
   "outputs": [
    {
     "data": {
      "text/plain": [
       "CHR1\n",
       "Scaffold365    [13132, 31216]\n",
       "Name: POS1, dtype: object"
      ]
     },
     "execution_count": 37,
     "metadata": {},
     "output_type": "execute_result"
    }
   ],
   "source": [
    "df.groupby([\"CHR1\"])[\"POS1\"].unique()"
   ]
  },
  {
   "cell_type": "code",
   "execution_count": null,
   "metadata": {
    "collapsed": true
   },
   "outputs": [],
   "source": []
  }
 ],
 "metadata": {
  "kernelspec": {
   "display_name": "Python3 (scaff-ord)",
   "language": "python",
   "name": "scaff-ord"
  },
  "language_info": {
   "codemirror_mode": {
    "name": "ipython",
    "version": 3
   },
   "file_extension": ".py",
   "mimetype": "text/x-python",
   "name": "python",
   "nbconvert_exporter": "python",
   "pygments_lexer": "ipython3",
   "version": "3.5.1"
  },
  "toc": {
   "toc_cell": true,
   "toc_number_sections": true,
   "toc_threshold": 6,
   "toc_window_display": true
  },
  "toc_position": {
   "height": "341px",
   "left": "2011.38px",
   "right": "20px",
   "top": "121px",
   "width": "306px"
  }
 },
 "nbformat": 4,
 "nbformat_minor": 0
}
