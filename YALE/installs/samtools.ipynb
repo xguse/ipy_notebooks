{
 "metadata": {
  "kernelspec": {
   "codemirror_mode": {
    "name": "ipython",
    "version": 2
   },
   "display_name": "IPython (Python 2)",
   "language": "python",
   "name": "python2"
  },
  "name": "",
  "signature": "sha256:83958d94f7acb8b9e10656f6169cd6f341574f73e1a0f4cbf7dc070a848731f4"
 },
 "nbformat": 3,
 "nbformat_minor": 0,
 "worksheets": [
  {
   "cells": [
    {
     "cell_type": "heading",
     "level": 1,
     "metadata": {},
     "source": [
      "Installation of `samtools`, `htslib`, and `bcftools`"
     ]
    },
    {
     "cell_type": "code",
     "collapsed": false,
     "input": [
      "%%html\n",
      "<iframe src=http://www.htslib.org/ width=900 height=650></iframe>"
     ],
     "language": "python",
     "metadata": {},
     "outputs": [
      {
       "html": [
        "<iframe src=http://www.htslib.org/ width=900 height=650></iframe>"
       ],
       "metadata": {},
       "output_type": "display_data",
       "text": [
        "<IPython.core.display.HTML object>"
       ]
      }
     ],
     "prompt_number": 1
    },
    {
     "cell_type": "markdown",
     "metadata": {},
     "source": [
      "<font color=\"red\">NOTES:</font>\n",
      "\n",
      " - 2014-09-09\n",
      "     - it seems that the below install is precompiled (<http://downloads.sourceforge.net/project/samtools/samtools/1.0/samtools-bcftools-htslib-1.0_x64-linux.tar.bz2>)\n",
      "     - as such there is no need for anything except symlinking the contents of the folders to the local executable loacations."
     ]
    },
    {
     "cell_type": "heading",
     "level": 2,
     "metadata": {},
     "source": [
      "Installation procedure and location on `louise`:"
     ]
    },
    {
     "cell_type": "markdown",
     "metadata": {},
     "source": [
      "```\n",
      "$ cd src\n",
      "\n",
      "$ wget http://downloads.sourceforge.net/project/samtools/samtools/1.0/samtools-bcftools-htslib-1.0_x64-linux.tar.bz2\n",
      "\n",
      "$ tar -xf samtools-bcftools-htslib-1.0_x64-linux.tar.bz2\n",
      "\n",
      "$ cd samtools-bcftools-htslib-1.0_x64-linux\n",
      "\n",
      "$ ll .\n",
      "total 160K\n",
      "-rw-r--r-- 1 wd238 caccone  661 Aug 15 11:37 00README.txt\n",
      "drwxr-xr-x 2 wd238 caccone 2.0K Aug 15 11:33 bin\n",
      "drwxr-xr-x 3 wd238 caccone 2.0K Aug 15 09:54 include\n",
      "drwxr-xr-x 2 wd238 caccone 2.0K Aug 15 11:33 lib\n",
      "drwxr-xr-x 3 wd238 caccone 2.0K Aug 15 09:54 share\n",
      "\n",
      "$ ln -s $PWD/bin/* $HOME/local/bin\n",
      "\n",
      "$ ln -s $PWD/include/* $HOME/local/include\n",
      "\n",
      "$ ln -s $PWD/lib/* $HOME/local/lib\n",
      "\n",
      "### make sure we have specific target locations for the links in share/\n",
      "$ mkdir -p $HOME/local/share/man/man5\n",
      "\n",
      "$ mkdir -p $HOME/local/share/man/man1\n",
      "\n",
      "$ ln -s $PWD/share/man/man1/* $HOME/local/share/man/man1/\n",
      "\n",
      "$ ln -s $PWD/share/man/man5/* $HOME/local/share/man/man5/\n",
      "```"
     ]
    },
    {
     "cell_type": "markdown",
     "metadata": {},
     "source": []
    }
   ],
   "metadata": {}
  }
 ]
}