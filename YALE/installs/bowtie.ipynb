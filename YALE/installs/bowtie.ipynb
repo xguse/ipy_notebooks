{
 "metadata": {
  "kernelspec": {
   "codemirror_mode": {
    "name": "ipython",
    "version": 2
   },
   "display_name": "IPython (Python 2)",
   "language": "python",
   "name": "python2"
  },
  "name": "",
  "signature": "sha256:0daa48204c4477b59586a589335b31219573f4a5c5d3ba44e5403845f96e685d"
 },
 "nbformat": 3,
 "nbformat_minor": 0,
 "worksheets": [
  {
   "cells": [
    {
     "cell_type": "heading",
     "level": 1,
     "metadata": {},
     "source": [
      "Installation of `bowtie2`"
     ]
    },
    {
     "cell_type": "code",
     "collapsed": false,
     "input": [
      "%%html\n",
      "<iframe src=http://bowtie-bio.sourceforge.net/bowtie2/index.shtml width=900 height=650></iframe>"
     ],
     "language": "python",
     "metadata": {},
     "outputs": [
      {
       "html": [
        "<iframe src=http://bowtie-bio.sourceforge.net/bowtie2/index.shtml width=900 height=650></iframe>"
       ],
       "metadata": {},
       "output_type": "display_data",
       "text": [
        "<IPython.core.display.HTML object>"
       ]
      }
     ],
     "prompt_number": 2
    },
    {
     "cell_type": "heading",
     "level": 3,
     "metadata": {},
     "source": [
      "On `louise`:"
     ]
    },
    {
     "cell_type": "markdown",
     "metadata": {},
     "source": [
      "```\n",
      "$ cd src\n",
      "$ wget http://downloads.sourceforge.net/project/bowtie-bio/bowtie2/2.2.3/bowtie2-2.2.3-linux-x86_64.zip\n",
      "$ unzip bowtie2-2.2.3-linux-x86_64.zip\n",
      "$ cd bowtie2-2.2.3\n",
      "$ ln -s $PWD/bowtie2* $HOME/local/bin/\n",
      "\n",
      "\n",
      "$ ll $HOME/local/bin/bowtie2*\n",
      "/home2/wd238/local/bin/bowtie2 -> /home2/wd238/src/bowtie2-2.2.3/bowtie2\n",
      "/home2/wd238/local/bin/bowtie2-align-l -> /home2/wd238/src/bowtie2-2.2.3/bowtie2-align-l\n",
      "/home2/wd238/local/bin/bowtie2-align-l-debug -> /home2/wd238/src/bowtie2-2.2.3/bowtie2-align-l-debug\n",
      "/home2/wd238/local/bin/bowtie2-align-s -> /home2/wd238/src/bowtie2-2.2.3/bowtie2-align-s\n",
      "/home2/wd238/local/bin/bowtie2-align-s-debug -> /home2/wd238/src/bowtie2-2.2.3/bowtie2-align-s-debug\n",
      "/home2/wd238/local/bin/bowtie2-build -> /home2/wd238/src/bowtie2-2.2.3/bowtie2-build\n",
      "/home2/wd238/local/bin/bowtie2-build-l -> /home2/wd238/src/bowtie2-2.2.3/bowtie2-build-l\n",
      "/home2/wd238/local/bin/bowtie2-build-l-debug -> /home2/wd238/src/bowtie2-2.2.3/bowtie2-build-l-debug\n",
      "/home2/wd238/local/bin/bowtie2-build-s -> /home2/wd238/src/bowtie2-2.2.3/bowtie2-build-s\n",
      "/home2/wd238/local/bin/bowtie2-build-s-debug -> /home2/wd238/src/bowtie2-2.2.3/bowtie2-build-s-debug\n",
      "/home2/wd238/local/bin/bowtie2-inspect -> /home2/wd238/src/bowtie2-2.2.3/bowtie2-inspect\n",
      "/home2/wd238/local/bin/bowtie2-inspect-l -> /home2/wd238/src/bowtie2-2.2.3/bowtie2-inspect-l\n",
      "/home2/wd238/local/bin/bowtie2-inspect-l-debug -> /home2/wd238/src/bowtie2-2.2.3/bowtie2-inspect-l-debug\n",
      "/home2/wd238/local/bin/bowtie2-inspect-s -> /home2/wd238/src/bowtie2-2.2.3/bowtie2-inspect-s\n",
      "/home2/wd238/local/bin/bowtie2-inspect-s-debug -> /home2/wd238/src/bowtie2-2.2.3/bowtie2-inspect-s-debug\n",
      "/home2/wd238/local/bin/bowtie2sam.pl -> /home2/wd238/src/samtools-bcftools-htslib-1.0_x64-linux/bin/bowtie2sam.pl\n",
      "\n",
      "\n",
      "```"
     ]
    },
    {
     "cell_type": "markdown",
     "metadata": {},
     "source": []
    }
   ],
   "metadata": {}
  }
 ]
}