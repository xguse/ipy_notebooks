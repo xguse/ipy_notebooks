{
 "metadata": {
  "kernelspec": {
   "codemirror_mode": {
    "name": "ipython",
    "version": 2
   },
   "display_name": "IPython (Python 2)",
   "language": "python",
   "name": "python2"
  },
  "name": "",
  "signature": "sha256:f7fc5ffcc9f8bc16c0f05a3394e1e4c9758cce56929a8754b6c4ee6ddeb9a14e"
 },
 "nbformat": 3,
 "nbformat_minor": 0,
 "worksheets": [
  {
   "cells": [
    {
     "cell_type": "heading",
     "level": 1,
     "metadata": {},
     "source": [
      "Installation of `cmake`"
     ]
    },
    {
     "cell_type": "code",
     "collapsed": false,
     "input": [
      "%%html\n",
      "<iframe src=http://www.cmake.org/download/ width=900 height=650></iframe>"
     ],
     "language": "python",
     "metadata": {},
     "outputs": [
      {
       "html": [
        "<iframe src=http://www.cmake.org/download/ width=900 height=650></iframe>"
       ],
       "metadata": {},
       "output_type": "display_data",
       "text": [
        "<IPython.core.display.HTML object>"
       ]
      }
     ],
     "prompt_number": 3
    },
    {
     "cell_type": "markdown",
     "metadata": {},
     "source": [
      "```\n",
      "$ cd src\n",
      "$ wget http://www.cmake.org/files/v3.0/cmake-3.0.1.tar.gz\n",
      "$ tar -xf cmake-3.0.1.tar.gz\n",
      "$ cd cmake-3.0.1\n",
      "$ ./configure --prefix=$HOME/local\n",
      "$ gmake\n",
      "$ make\n",
      "$ vim Makefile\n",
      "$ make install\n",
      "```"
     ]
    }
   ],
   "metadata": {}
  }
 ]
}