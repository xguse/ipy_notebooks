{
 "metadata": {
  "kernelspec": {
   "codemirror_mode": {
    "name": "ipython",
    "version": 2
   },
   "display_name": "IPython (Python 2)",
   "language": "python",
   "name": "python2"
  },
  "name": "",
  "signature": "sha256:64505e13e671ab75e6f296c7fa697ea9cd0094b1797041e4897a36f160a7a769"
 },
 "nbformat": 3,
 "nbformat_minor": 0,
 "worksheets": [
  {
   "cells": [
    {
     "cell_type": "heading",
     "level": 1,
     "metadata": {},
     "source": [
      "Installation of `freebayes`"
     ]
    },
    {
     "cell_type": "code",
     "collapsed": false,
     "input": [
      "%%html\n",
      "<iframe src=https://github.com/ekg/freebayes width=900 height=650></iframe>"
     ],
     "language": "python",
     "metadata": {},
     "outputs": [
      {
       "html": [
        "<iframe src=https://github.com/ekg/freebayes width=900 height=650></iframe>"
       ],
       "metadata": {},
       "output_type": "display_data",
       "text": [
        "<IPython.core.display.HTML object>"
       ]
      }
     ],
     "prompt_number": 4
    },
    {
     "cell_type": "heading",
     "level": 2,
     "metadata": {},
     "source": [
      "Installation procedure and location on `louise`:"
     ]
    },
    {
     "cell_type": "markdown",
     "metadata": {},
     "source": [
      "<font color=\"red\">NOTES:</font>\n",
      "\n",
      " - 2014-09-09:\n",
      "     - looks like there is no `./configure` script\n",
      "     - I had to install cmake on `louise`...\n",
      "     - I also had to modify the `Makefile`'s hard-coded `install` and `uninstall` commands to point to `$HOME/local/bin`"
     ]
    },
    {
     "cell_type": "markdown",
     "metadata": {},
     "source": [
      "```\n",
      "$ cd /home2/wd238/src/repos/git\n",
      "$ git clone --recursive https://github.com/ekg/freebayes.git\n",
      "$ cd freebayes\n",
      "$ make\n",
      "\n",
      "## Changed `Makefile`: see note above\n",
      "$ make install\n",
      "\n",
      "\n",
      "```"
     ]
    },
    {
     "cell_type": "markdown",
     "metadata": {},
     "source": []
    }
   ],
   "metadata": {}
  }
 ]
}