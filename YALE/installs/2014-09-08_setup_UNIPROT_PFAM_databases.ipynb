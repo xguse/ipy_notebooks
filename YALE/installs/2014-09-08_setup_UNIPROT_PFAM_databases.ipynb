{
 "cells": [
  {
   "cell_type": "markdown",
   "metadata": {},
   "source": [
    "# Set up databases for protein function induction"
   ]
  },
  {
   "cell_type": "markdown",
   "metadata": {},
   "source": [
    "### The basic set up is guided by the following Argot2 help page:"
   ]
  },
  {
   "cell_type": "code",
   "execution_count": 1,
   "metadata": {
    "collapsed": false
   },
   "outputs": [
    {
     "data": {
      "text/html": [
       "<iframe src=http://www.medcomp.medicina.unipd.it/Argot2/help/batch.html width=900 height=650></iframe>"
      ],
      "text/plain": [
       "<IPython.core.display.HTML object>"
      ]
     },
     "metadata": {},
     "output_type": "display_data"
    }
   ],
   "source": [
    "%%html\n",
    "<iframe src=http://www.medcomp.medicina.unipd.it/Argot2/help/batch.html width=900 height=650></iframe>"
   ]
  },
  {
   "cell_type": "markdown",
   "metadata": {},
   "source": [
    "## PFAM database retrieval:"
   ]
  },
  {
   "cell_type": "markdown",
   "metadata": {},
   "source": [
    "I used the ftp site below to get the current release as of today: **`2014-09-08`**"
   ]
  },
  {
   "cell_type": "code",
   "execution_count": 2,
   "metadata": {
    "collapsed": false
   },
   "outputs": [
    {
     "data": {
      "text/html": [
       "<iframe src=ftp://ftp.ebi.ac.uk/pub/databases/Pfam/current_release width=900 height=650></iframe>"
      ],
      "text/plain": [
       "<IPython.core.display.HTML object>"
      ]
     },
     "metadata": {},
     "output_type": "display_data"
    }
   ],
   "source": [
    "%%html\n",
    "<iframe src=ftp://ftp.ebi.ac.uk/pub/databases/Pfam/current_release width=900 height=650></iframe>"
   ]
  },
  {
   "cell_type": "markdown",
   "metadata": {},
   "source": [
    "Used: \n",
    "\n",
    "- PFAM-A: <ftp://ftp.ebi.ac.uk/pub/databases/Pfam/current_release/Pfam-A.hmm.gz>\n",
    "- PFAM-B: <ftp://ftp.ebi.ac.uk/pub/databases/Pfam/current_release/Pfam-B.hmm.gz>\n",
    "\n",
    "Located:\n",
    "\n",
    "- Louise:\n",
    "    - /home2/wd238/data/external_multispecies_databases/PFAM \n"
   ]
  },
  {
   "cell_type": "markdown",
   "metadata": {},
   "source": [
    "## UNIPROT/TREMBL database retrieval:"
   ]
  },
  {
   "cell_type": "markdown",
   "metadata": {},
   "source": [
    "I used the site below to get the current release as of today: **`2014-09-08`**"
   ]
  },
  {
   "cell_type": "code",
   "execution_count": 3,
   "metadata": {
    "collapsed": false
   },
   "outputs": [
    {
     "data": {
      "text/html": [
       "<iframe src=http://www.uniprot.org/downloads width=900 height=650></iframe>"
      ],
      "text/plain": [
       "<IPython.core.display.HTML object>"
      ]
     },
     "metadata": {},
     "output_type": "display_data"
    }
   ],
   "source": [
    "%%html\n",
    "<iframe src=http://www.uniprot.org/downloads width=900 height=650></iframe>"
   ]
  },
  {
   "cell_type": "markdown",
   "metadata": {},
   "source": [
    "Used: \n",
    "\n",
    "- UNIPROT: <ftp://ftp.uniprot.org/pub/databases/uniprot/current_release/knowledgebase/complete/uniprot_sprot.fasta.gz>\n",
    "- TrEMBL: <ftp://ftp.uniprot.org/pub/databases/uniprot/current_release/knowledgebase/complete/uniprot_trembl.fasta.gz>\n",
    "\n",
    "\n",
    "\n",
    "\n",
    "**<font color=\"red\">NOTE -- Mon Sep  8 09:14:12 EDT 2014:</font>** \n",
    "\n",
    "    - the TrEMBL database is ~17G. I am suspending download for now.  If we decided we need it, I will continue.\n",
    "\n",
    "\n",
    "Located:\n",
    "\n",
    "- Louise:\n",
    "    - `/home2/wd238/data/external_multispecies_databases/UNIPROT`\n"
   ]
  },
  {
   "cell_type": "markdown",
   "metadata": {},
   "source": [
    "## Local NCBI BLAST installation:"
   ]
  },
  {
   "cell_type": "markdown",
   "metadata": {},
   "source": [
    "Obtained from:\n",
    "\n",
    "- <ftp://ftp.ncbi.nlm.nih.gov/blast/executables/blast+/LATEST/ncbi-blast-2.2.29+-x64-linux.tar.gz>\n",
    "\n",
    "Downloaded to:\n",
    "\n",
    "- Louise:\n",
    "    - `/home2/wd238/src`\n",
    "    \n",
    "Installed to:\n",
    "\n",
    "- Louise:\n",
    "    - symlinked to: `/home2/wd238/local/bin`"
   ]
  },
  {
   "cell_type": "markdown",
   "metadata": {},
   "source": [
    "## Local HMMR installation:"
   ]
  },
  {
   "cell_type": "markdown",
   "metadata": {},
   "source": [
    "Obtained from:\n",
    "\n",
    "- <http://selab.janelia.org/software/hmmer3/3.1b1/hmmer-3.1b1-linux-intel-x86_64.tar.gz>\n",
    "\n",
    "Downloaded to:\n",
    "\n",
    "- Louise:\n",
    "    - `/home2/wd238/src`\n",
    "    \n",
    "Installed to:\n",
    "\n",
    "- Louise:\n",
    "    - `/home2/wd238/local/bin`"
   ]
  },
  {
   "cell_type": "markdown",
   "metadata": {},
   "source": [
    "## Building UNIPROT blast databases:"
   ]
  },
  {
   "cell_type": "markdown",
   "metadata": {},
   "source": [
    "```\n",
    "makeblastdb -in $DATA/external_multispecies_databases/UNIPROT/uniprot_sprot.fasta -dbtype prot -out $INDEXES/blast/uniprot_sprot.fasta\n",
    "```"
   ]
  },
  {
   "cell_type": "markdown",
   "metadata": {},
   "source": [
    "Output:\n",
    "```\n",
    "Building a new DB, current time: 09/08/2014 14:01:06\n",
    "New DB name:   /home2/wd238/data/indexes/blast/uniprot_sprot.fasta\n",
    "New DB title:  /home2/wd238/data/external_multispecies_databases/UNIPROT/uniprot_sprot.fasta\n",
    "Sequence type: Protein\n",
    "Keep Linkouts: T\n",
    "Keep MBits: T\n",
    "Maximum file size: 1000000000B\n",
    "Adding sequences from FASTA; added 546238 sequences in 37.2087 seconds.\n",
    "```"
   ]
  },
  {
   "cell_type": "markdown",
   "metadata": {},
   "source": [
    "## Building PFAM hmmr databases:"
   ]
  },
  {
   "cell_type": "markdown",
   "metadata": {},
   "source": [
    "Concatonate the PFAM databases to a new combined A+B db and `hmmpress` all to speed up searches.\n",
    "```\n",
    "cd ~DATA/external_multispecies_databases/PFAM\n",
    "\n",
    "cat Pfam-A.hmm Pfam-B.hmm > Pfam-AB.hmm\n",
    "\n",
    "hmmpress Pfam-A.hmm\n",
    "hmmpress Pfam-AB.hmm\n",
    "hmmpress Pfam-B.hmm\n",
    "\n",
    "mv *.hmm.* /home2/wd238/data/indexes/hmmer/\n",
    "```"
   ]
  },
  {
   "cell_type": "markdown",
   "metadata": {},
   "source": []
  }
 ],
 "metadata": {
  "kernelspec": {
   "display_name": "IPython (Python 2)",
   "name": "python2"
  },
  "language_info": {
   "codemirror_mode": {
    "name": "ipython",
    "version": 2
   },
   "file_extension": ".py",
   "mimetype": "text/x-python",
   "name": "python",
   "nbconvert_exporter": "python",
   "pygments_lexer": "ipython2",
   "version": "2.7.9"
  }
 },
 "nbformat": 4,
 "nbformat_minor": 0
}