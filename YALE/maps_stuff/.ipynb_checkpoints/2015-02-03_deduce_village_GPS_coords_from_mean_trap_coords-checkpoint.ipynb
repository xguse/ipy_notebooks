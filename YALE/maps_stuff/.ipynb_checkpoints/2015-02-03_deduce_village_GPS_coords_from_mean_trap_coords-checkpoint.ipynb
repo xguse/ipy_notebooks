{
 "cells": [
  {
   "cell_type": "markdown",
   "metadata": {},
   "source": [
    "# Purpose:\n",
    "\n",
    "2015-02-03 (Tuesday)\n",
    "\n",
    "Generate Village-specific GPS Coords for the purpose of plotting each village location to GIS map."
   ]
  },
  {
   "cell_type": "markdown",
   "metadata": {},
   "source": [
    "# Implementation:"
   ]
  },
  {
   "cell_type": "markdown",
   "metadata": {},
   "source": [
    "## Imports:"
   ]
  },
  {
   "cell_type": "code",
   "execution_count": 1,
   "metadata": {
    "collapsed": true
   },
   "outputs": [],
   "source": [
    "# imports\n",
    "from spartan.utils.maps import gps"
   ]
  },
  {
   "cell_type": "markdown",
   "metadata": {},
   "source": [
    "## File paths:"
   ]
  },
  {
   "cell_type": "code",
   "execution_count": 13,
   "metadata": {
    "collapsed": true
   },
   "outputs": [],
   "source": [
    "# define paths to files\n",
    "\n",
    "field_data_base = \"/home/gus/Dropbox/uganda_data/data_repos/field_data\"\n",
    "\n",
    "trap_locations = field_data_base + \"/locations/gps/traps/uganda_traps_gps.csv\"\n",
    "\n",
    "village_out_path = field_data_base + \"/locations/gps/villages/uganda_villages_gps.csv\"\n"
   ]
  },
  {
   "cell_type": "code",
   "execution_count": 14,
   "metadata": {
    "collapsed": false
   },
   "outputs": [],
   "source": [
    "traps = gps.load_gps_coords(trap_locations)"
   ]
  },
  {
   "cell_type": "code",
   "execution_count": 15,
   "metadata": {
    "collapsed": false
   },
   "outputs": [
    {
     "data": {
      "text/plain": [
       "GPSCoord(location=AKA, lat=2.37234272727, lon=32.6751636364, trace=AKA)"
      ]
     },
     "execution_count": 15,
     "metadata": {},
     "output_type": "execute_result"
    }
   ],
   "source": [
    "traps.mean(trace='AKA')"
   ]
  },
  {
   "cell_type": "code",
   "execution_count": 16,
   "metadata": {
    "collapsed": false
   },
   "outputs": [],
   "source": [
    "villages = [key for key in traps.tree.keys() if key != 'members']"
   ]
  },
  {
   "cell_type": "code",
   "execution_count": 17,
   "metadata": {
    "collapsed": false
   },
   "outputs": [
    {
     "data": {
      "text/plain": [
       "['ACA',\n",
       " 'OD',\n",
       " 'OCL',\n",
       " 'LIB',\n",
       " 'PAW',\n",
       " 'OCA',\n",
       " 'ATM',\n",
       " 'MWA',\n",
       " 'AIN',\n",
       " 'BOL',\n",
       " 'LEA',\n",
       " 'AKA',\n",
       " 'ASW',\n",
       " 'OLE',\n",
       " 'TEO',\n",
       " 'OLO',\n",
       " 'GAN',\n",
       " 'MOP',\n",
       " 'KTC',\n",
       " 'OSG',\n",
       " 'DUK',\n",
       " 'AG',\n",
       " 'JIA',\n",
       " 'OLW',\n",
       " 'WEN',\n",
       " 'CE',\n",
       " 'ABO',\n",
       " 'CHU',\n",
       " 'ALE',\n",
       " 'GOR',\n",
       " 'OPU',\n",
       " 'OKS',\n",
       " 'ALI',\n",
       " 'NGO',\n",
       " 'LAK',\n",
       " 'OGU',\n",
       " 'OMI',\n",
       " 'LAG',\n",
       " 'APU',\n",
       " 'ORV',\n",
       " 'TUM',\n",
       " 'KIL',\n",
       " 'ORI',\n",
       " 'UWA',\n",
       " 'ORB']"
      ]
     },
     "execution_count": 17,
     "metadata": {},
     "output_type": "execute_result"
    }
   ],
   "source": [
    "villages"
   ]
  },
  {
   "cell_type": "markdown",
   "metadata": {},
   "source": [
    "## Do work:"
   ]
  },
  {
   "cell_type": "code",
   "execution_count": 21,
   "metadata": {
    "collapsed": false
   },
   "outputs": [
    {
     "name": "stdout",
     "output_type": "stream",
     "text": [
      "Location\tLatitude\tLongitude\r\n",
      "ACA\t2.27014666667\t32.5206533333\r\n",
      "OD\t2.44709727273\t32.6598909091\r\n",
      "OCL\t2.46757\t32.56832\r\n",
      "LIB\t3.2807675\t32.85432\r\n",
      "PAW\t3.61186\t32.6817925\r\n",
      "OCA\t2.4271405\t32.6285975\r\n",
      "ATM\t3.03063\t32.76735\r\n",
      "MWA\t2.36222\t32.71497\r\n",
      "AIN\t3.304295\t31.11936\r\n"
     ]
    }
   ],
   "source": [
    "with open(village_out_path, 'w') as villages_out:\n",
    "    out_template = \"{loc}\\t{lat}\\t{lon}\\n\"\n",
    "    villages_out.write(out_template.format(loc=\"Location\", lat=\"Latitude\", lon=\"Longitude\" ))\n",
    "    for village in villages:\n",
    "        median_gps = traps.median(trace=village)\n",
    "        \n",
    "        villages_out.write(out_template.format(loc=median_gps.location, lat=median_gps.lat, lon=median_gps.lon))\n",
    "\n",
    "!head {village_out_path}"
   ]
  },
  {
   "cell_type": "code",
   "execution_count": null,
   "metadata": {
    "collapsed": true
   },
   "outputs": [],
   "source": []
  }
 ],
 "metadata": {
  "kernelspec": {
   "display_name": "IPython (Python 2)",
   "name": "python2"
  },
  "language_info": {
   "codemirror_mode": {
    "name": "ipython",
    "version": 2
   },
   "file_extension": ".py",
   "mimetype": "text/x-python",
   "name": "python",
   "nbconvert_exporter": "python",
   "pygments_lexer": "ipython2",
   "version": "2.7.9"
  }
 },
 "nbformat": 4,
 "nbformat_minor": 0
}