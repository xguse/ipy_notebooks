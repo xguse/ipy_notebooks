{
 "cells": [
  {
   "cell_type": "markdown",
   "metadata": {},
   "source": [
    "# Purpose:\n",
    "\n",
    "2015-01-16 (Friday)\n",
    "\n",
    "Convert village names to location code for file: [2014_Fall_village_GPS_all_traps.tsv](file:///home/gus/Dropbox/uganda\\ data/2014_Collections_info_Fall/2014_Fall_village_GPS_all_traps.tsv)"
   ]
  },
  {
   "cell_type": "markdown",
   "metadata": {},
   "source": [
    "# Implementation:"
   ]
  },
  {
   "cell_type": "markdown",
   "metadata": {},
   "source": [
    "## Imports:"
   ]
  },
  {
   "cell_type": "code",
   "execution_count": 1,
   "metadata": {
    "collapsed": false
   },
   "outputs": [],
   "source": [
    "# imports\n",
    "import csv\n",
    "\n",
    "import spartan.utils as su"
   ]
  },
  {
   "cell_type": "markdown",
   "metadata": {},
   "source": [
    "## File paths:"
   ]
  },
  {
   "cell_type": "code",
   "execution_count": 2,
   "metadata": {
    "collapsed": true
   },
   "outputs": [],
   "source": [
    "# define paths to files\n",
    "\n",
    "field_data_base = \"/home/gus/Dropbox/uganda data/data_repos/field_data\"\n",
    "\n",
    "village_id_map_path = field_data_base + \"/locations/names/uganda_village_id_map.csv\"\n",
    "\n",
    "trap_locations_out = field_data_base + \"/locations/gps/traps/uganda_traps_gps.csv\"\n",
    "\n",
    "trap_locations_partial = \"/home/gus/Dropbox/uganda data/GIS/2014_ALL_TRAP_GPS.tsv\"\n"
   ]
  },
  {
   "cell_type": "markdown",
   "metadata": {},
   "source": [
    "## Utililty functions:"
   ]
  },
  {
   "cell_type": "code",
   "execution_count": 3,
   "metadata": {
    "collapsed": true
   },
   "outputs": [],
   "source": [
    "def get_village_id_map(village_id_map_path):\n",
    "    \"\"\"\n",
    "    Generates and returns a `dict` mapping the two-way mappings of long-form village names\n",
    "    and their unique 2 or 3 letter id symbols.  Enforces both be all UPPERcase to allow case insensitivity as long as\n",
    "    the map is used like: `map[text.upper()]`.\n",
    "    :return: `dict`\n",
    "    \"\"\"\n",
    "\n",
    "    village_id_map = {}\n",
    "\n",
    "    with open(village_id_map_path, 'rb') as csv_file:\n",
    "        village_ids = csv.reader(csv_file, delimiter=',')\n",
    "        for pair in village_ids:\n",
    "            village_id_map[pair[0].upper()] = pair[1].upper()\n",
    "            village_id_map[pair[1].upper()] = pair[0].upper()\n",
    "\n",
    "    return village_id_map"
   ]
  },
  {
   "cell_type": "markdown",
   "metadata": {},
   "source": [
    "## Do job:"
   ]
  },
  {
   "cell_type": "code",
   "execution_count": 4,
   "metadata": {
    "collapsed": false
   },
   "outputs": [],
   "source": [
    "vim = get_village_id_map(village_id_map_path)"
   ]
  },
  {
   "cell_type": "code",
   "execution_count": 5,
   "metadata": {
    "collapsed": false
   },
   "outputs": [
    {
     "data": {
      "text/plain": [
       "['ATANGA MISSION', 'LIB', 'PAW', 'ACANKOMA', 'LAKWALA']"
      ]
     },
     "execution_count": 5,
     "metadata": {},
     "output_type": "execute_result"
    }
   ],
   "source": [
    "vim.keys()[:5]"
   ]
  },
  {
   "cell_type": "code",
   "execution_count": 6,
   "metadata": {
    "collapsed": false
   },
   "outputs": [
    {
     "name": "stdout",
     "output_type": "stream",
     "text": [
      "Location\tLatitude\tLongitude\r\n",
      "KTC\tN02.18943\tE032.41249\r\n",
      "KTC\tN03.16336\tE032.52251\r\n",
      "KTC\tN03.16335\tE032.52278\r\n",
      "KTC\tN03.16335\tE032.52275\r\n",
      "KTC\tN03.16370\tE032.52215\r\n",
      "KTC\tN03.16364\tE032.52207\r\n",
      "LIB\tN03.28084\tE032.85400\r\n",
      "LIB\tN03.28086\tE032.85418\r\n",
      "LIB\tN03.28072\tE032.85435\r\n"
     ]
    }
   ],
   "source": [
    "with open(trap_locations_partial,'rb') as csv_file:\n",
    "    with open(trap_locations_out, 'w') as traps_out:\n",
    "        traps_in = csv.reader(csv_file, delimiter='\\t')\n",
    "        \n",
    "        out_template = \"{code}\\t{lat}\\t{lon}\\n\"\n",
    "        \n",
    "        for trap_info in traps_in:\n",
    "            \n",
    "            # deal with header line\n",
    "            if \"LOCATION\" in trap_info[0].upper():\n",
    "                traps_out.write(out_template.format(code='Location',lat='Latitude',lon='Longitude'))\n",
    "                continue\n",
    "            \n",
    "            # Do conversion only if long name used\n",
    "            if len(trap_info[0]) <= 3:\n",
    "                code = trap_info[0]\n",
    "            else:\n",
    "                code = vim[trap_info[0].upper()]\n",
    "            \n",
    "            lat = trap_info[1]\n",
    "            lon = trap_info[2]\n",
    "            \n",
    "            \n",
    "            # Write to new file\n",
    "            traps_out.write(out_template.format(code=code,lat=lat,lon=lon))\n",
    "            \n",
    "\n",
    "# show that things worked as expected\n",
    "!head {trap_locations_out.replace(' ','\\ ')}"
   ]
  },
  {
   "cell_type": "code",
   "execution_count": 6,
   "metadata": {
    "collapsed": true
   },
   "outputs": [],
   "source": []
  }
 ],
 "metadata": {
  "kernelspec": {
   "display_name": "IPython (Python 2)",
   "name": "python2"
  },
  "language_info": {
   "codemirror_mode": {
    "name": "ipython",
    "version": 2
   },
   "file_extension": ".py",
   "mimetype": "text/x-python",
   "name": "python",
   "nbconvert_exporter": "python",
   "pygments_lexer": "ipython2",
   "version": "2.7.9"
  }
 },
 "nbformat": 4,
 "nbformat_minor": 0
}