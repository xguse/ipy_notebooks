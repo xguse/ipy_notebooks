{
 "cells": [
  {
   "cell_type": "markdown",
   "metadata": {},
   "source": [
    "[Final Tally](#Final-Tally)"
   ]
  },
  {
   "cell_type": "code",
   "execution_count": 1,
   "metadata": {
    "collapsed": false
   },
   "outputs": [
    {
     "name": "stdout",
     "output_type": "stream",
     "text": [
      "OLD DISSECTION DATA-OYA:\t334\n",
      "OLD DISSECTION DATA-KOLE:\t182\n",
      "OLD DISSECTION DATA ARUA:\t200\n",
      "OLD DISSECTION DATA MOYO:\t39\n",
      "OLD DISSECTION DATA-OYAMKOLE2:\t328\n",
      "OLD DISSECTION DATA-ADJUMANI:\t45\n",
      "OLD DISSECTION DATA-AMURU:\t90\n",
      "OLD DISSECTION DATA-NWOYA:\t272\n",
      "TOTAL:\t\t\t\t1490\n"
     ]
    }
   ],
   "source": [
    "%run -i 2014-09-30__Count_dead_non_tenerals.ipynb"
   ]
  },
  {
   "cell_type": "code",
   "execution_count": 2,
   "metadata": {
    "collapsed": false
   },
   "outputs": [],
   "source": [
    "old_ws_rows = frozenset().union(*get_col_hit_sets(worksheet=ws, func=f, target='dead'))"
   ]
  },
  {
   "cell_type": "code",
   "execution_count": 3,
   "metadata": {
    "collapsed": true
   },
   "outputs": [
    {
     "data": {
      "text/plain": [
       "frozenset({4,\n",
       "           11,\n",
       "           15,\n",
       "           18,\n",
       "           19,\n",
       "           40,\n",
       "           41,\n",
       "           42,\n",
       "           43,\n",
       "           44,\n",
       "           45,\n",
       "           58,\n",
       "           61,\n",
       "           62,\n",
       "           63,\n",
       "           64,\n",
       "           77,\n",
       "           78,\n",
       "           79,\n",
       "           80,\n",
       "           89,\n",
       "           90,\n",
       "           91,\n",
       "           92,\n",
       "           93,\n",
       "           94,\n",
       "           95,\n",
       "           96,\n",
       "           97,\n",
       "           101,\n",
       "           102,\n",
       "           103,\n",
       "           104,\n",
       "           105,\n",
       "           106,\n",
       "           107,\n",
       "           108,\n",
       "           109,\n",
       "           116,\n",
       "           117,\n",
       "           118,\n",
       "           119,\n",
       "           120,\n",
       "           132,\n",
       "           133,\n",
       "           137,\n",
       "           138,\n",
       "           143,\n",
       "           154,\n",
       "           155,\n",
       "           156,\n",
       "           157,\n",
       "           158,\n",
       "           163,\n",
       "           164,\n",
       "           166,\n",
       "           167,\n",
       "           168,\n",
       "           172,\n",
       "           174,\n",
       "           183,\n",
       "           184,\n",
       "           185,\n",
       "           186,\n",
       "           187,\n",
       "           188,\n",
       "           189,\n",
       "           190,\n",
       "           191,\n",
       "           192,\n",
       "           193,\n",
       "           194,\n",
       "           195,\n",
       "           196,\n",
       "           198,\n",
       "           199,\n",
       "           200,\n",
       "           201,\n",
       "           202,\n",
       "           212,\n",
       "           213,\n",
       "           214,\n",
       "           215,\n",
       "           216,\n",
       "           226,\n",
       "           227,\n",
       "           228,\n",
       "           229,\n",
       "           230,\n",
       "           231,\n",
       "           232,\n",
       "           233,\n",
       "           235,\n",
       "           245,\n",
       "           246,\n",
       "           256,\n",
       "           257,\n",
       "           258,\n",
       "           259,\n",
       "           260,\n",
       "           261,\n",
       "           262,\n",
       "           263,\n",
       "           264,\n",
       "           265,\n",
       "           266,\n",
       "           267,\n",
       "           276,\n",
       "           277,\n",
       "           278,\n",
       "           286,\n",
       "           287,\n",
       "           288,\n",
       "           289,\n",
       "           290,\n",
       "           301,\n",
       "           302,\n",
       "           303,\n",
       "           309,\n",
       "           310,\n",
       "           313,\n",
       "           314,\n",
       "           322,\n",
       "           323,\n",
       "           324,\n",
       "           325,\n",
       "           326,\n",
       "           327,\n",
       "           328,\n",
       "           339,\n",
       "           340,\n",
       "           341,\n",
       "           342,\n",
       "           343,\n",
       "           350,\n",
       "           351,\n",
       "           352,\n",
       "           353,\n",
       "           354,\n",
       "           355,\n",
       "           356,\n",
       "           357,\n",
       "           358,\n",
       "           359,\n",
       "           360,\n",
       "           361,\n",
       "           362,\n",
       "           363,\n",
       "           364,\n",
       "           365,\n",
       "           366,\n",
       "           367,\n",
       "           368,\n",
       "           369,\n",
       "           370,\n",
       "           376,\n",
       "           377,\n",
       "           378,\n",
       "           379,\n",
       "           380,\n",
       "           381,\n",
       "           382,\n",
       "           383,\n",
       "           384,\n",
       "           385,\n",
       "           386,\n",
       "           387,\n",
       "           388,\n",
       "           389,\n",
       "           390,\n",
       "           391,\n",
       "           392,\n",
       "           393,\n",
       "           394,\n",
       "           395,\n",
       "           396,\n",
       "           397,\n",
       "           398,\n",
       "           399,\n",
       "           400,\n",
       "           401,\n",
       "           402,\n",
       "           403,\n",
       "           405,\n",
       "           406,\n",
       "           409,\n",
       "           410,\n",
       "           411,\n",
       "           412,\n",
       "           413,\n",
       "           414,\n",
       "           415,\n",
       "           416,\n",
       "           417,\n",
       "           418,\n",
       "           419,\n",
       "           420,\n",
       "           421,\n",
       "           422,\n",
       "           423,\n",
       "           424,\n",
       "           425,\n",
       "           426,\n",
       "           427,\n",
       "           428,\n",
       "           429,\n",
       "           430,\n",
       "           431,\n",
       "           432,\n",
       "           433,\n",
       "           434,\n",
       "           435,\n",
       "           436,\n",
       "           437,\n",
       "           438,\n",
       "           439,\n",
       "           440,\n",
       "           441,\n",
       "           442,\n",
       "           447,\n",
       "           448,\n",
       "           449,\n",
       "           450,\n",
       "           451,\n",
       "           452,\n",
       "           453,\n",
       "           454,\n",
       "           455,\n",
       "           458,\n",
       "           459,\n",
       "           460,\n",
       "           461,\n",
       "           462,\n",
       "           465,\n",
       "           466,\n",
       "           467,\n",
       "           468,\n",
       "           469,\n",
       "           470,\n",
       "           471,\n",
       "           472,\n",
       "           473,\n",
       "           474,\n",
       "           475,\n",
       "           477,\n",
       "           478,\n",
       "           479,\n",
       "           480,\n",
       "           481,\n",
       "           482,\n",
       "           483,\n",
       "           484,\n",
       "           485,\n",
       "           486,\n",
       "           487,\n",
       "           488,\n",
       "           489,\n",
       "           490,\n",
       "           491,\n",
       "           492,\n",
       "           503,\n",
       "           504,\n",
       "           505,\n",
       "           506,\n",
       "           507,\n",
       "           519,\n",
       "           520,\n",
       "           534,\n",
       "           535,\n",
       "           536,\n",
       "           553,\n",
       "           554,\n",
       "           555,\n",
       "           556,\n",
       "           557,\n",
       "           558,\n",
       "           559,\n",
       "           560,\n",
       "           561,\n",
       "           562,\n",
       "           569,\n",
       "           596,\n",
       "           597,\n",
       "           598,\n",
       "           599,\n",
       "           611,\n",
       "           638,\n",
       "           639,\n",
       "           644,\n",
       "           645,\n",
       "           646,\n",
       "           647,\n",
       "           665,\n",
       "           666,\n",
       "           667,\n",
       "           668,\n",
       "           669,\n",
       "           670,\n",
       "           671,\n",
       "           672,\n",
       "           673,\n",
       "           674,\n",
       "           675,\n",
       "           676,\n",
       "           677,\n",
       "           684,\n",
       "           685,\n",
       "           686,\n",
       "           687,\n",
       "           688,\n",
       "           689,\n",
       "           690,\n",
       "           691,\n",
       "           692,\n",
       "           693,\n",
       "           694,\n",
       "           695,\n",
       "           696,\n",
       "           697,\n",
       "           698,\n",
       "           699,\n",
       "           700,\n",
       "           701,\n",
       "           702,\n",
       "           703,\n",
       "           704,\n",
       "           707,\n",
       "           708,\n",
       "           709,\n",
       "           710,\n",
       "           711,\n",
       "           716,\n",
       "           717,\n",
       "           718})"
      ]
     },
     "execution_count": 3,
     "metadata": {},
     "output_type": "execute_result"
    }
   ],
   "source": [
    "old_ws_rows"
   ]
  },
  {
   "cell_type": "markdown",
   "metadata": {},
   "source": [
    "# Getting an estimate of the number of DEADs we have to deal with "
   ]
  },
  {
   "cell_type": "code",
   "execution_count": 4,
   "metadata": {
    "collapsed": false
   },
   "outputs": [],
   "source": [
    "from spartan.utils import spreadsheets as ss"
   ]
  },
  {
   "cell_type": "code",
   "execution_count": 5,
   "metadata": {
    "collapsed": false
   },
   "outputs": [],
   "source": [
    "ug_spring_summer = \"/home/gus/Dropbox/uganda data/2014_Collection_Sheets_Spring-Summer/2014_full_surveyreport_20140820/Dissection data.xls\""
   ]
  },
  {
   "cell_type": "code",
   "execution_count": 6,
   "metadata": {
    "collapsed": false
   },
   "outputs": [],
   "source": [
    "ug_wb = ss.get_workbook(ug_spring_summer)"
   ]
  },
  {
   "cell_type": "code",
   "execution_count": 7,
   "metadata": {
    "collapsed": false
   },
   "outputs": [],
   "source": [
    "ug_ws = ss.get_worksheets(ug_wb)"
   ]
  },
  {
   "cell_type": "code",
   "execution_count": 8,
   "metadata": {
    "collapsed": false
   },
   "outputs": [],
   "source": [
    "ws = ug_ws[0]"
   ]
  },
  {
   "cell_type": "code",
   "execution_count": 9,
   "metadata": {
    "collapsed": false
   },
   "outputs": [
    {
     "data": {
      "text/plain": [
       "719"
      ]
     },
     "execution_count": 9,
     "metadata": {},
     "output_type": "execute_result"
    }
   ],
   "source": [
    "ws.nrows"
   ]
  },
  {
   "cell_type": "code",
   "execution_count": 10,
   "metadata": {
    "collapsed": false
   },
   "outputs": [
    {
     "data": {
      "text/plain": [
       "u'Dissection Data-Oya'"
      ]
     },
     "execution_count": 10,
     "metadata": {},
     "output_type": "execute_result"
    }
   ],
   "source": [
    "ws.name"
   ]
  },
  {
   "cell_type": "code",
   "execution_count": 11,
   "metadata": {
    "collapsed": false
   },
   "outputs": [],
   "source": [
    "def get_dead_nonteneral_rows(worksheet):\n",
    "    hits = []\n",
    "    \n",
    "    for row_num in range(0, worksheet.nrows):\n",
    "        \n",
    "        row_vals = worksheet.row_values(row_num)\n",
    "        # test for Teneral\n",
    "        row_vals = [unicode(x).upper() for x in row_vals]\n",
    "        if ('T' in row_vals) or ('TENERAL' in row_vals):\n",
    "            continue\n",
    "        \n",
    "        if \"DEAD\" in \" \".join(row_vals):\n",
    "            hits.append(row_num)\n",
    "            \n",
    "    return hits"
   ]
  },
  {
   "cell_type": "code",
   "execution_count": 12,
   "metadata": {
    "collapsed": false
   },
   "outputs": [
    {
     "data": {
      "text/plain": [
       "230"
      ]
     },
     "execution_count": 12,
     "metadata": {},
     "output_type": "execute_result"
    }
   ],
   "source": [
    "new_ws_rows = set(get_dead_nonteneral_rows(ws))\n",
    "len(new_ws_rows)"
   ]
  },
  {
   "cell_type": "code",
   "execution_count": 13,
   "metadata": {
    "collapsed": false
   },
   "outputs": [
    {
     "data": {
      "text/plain": [
       "230"
      ]
     },
     "execution_count": 13,
     "metadata": {},
     "output_type": "execute_result"
    }
   ],
   "source": [
    "len(new_ws_rows.intersection(old_ws_rows))"
   ]
  },
  {
   "cell_type": "markdown",
   "metadata": {},
   "source": [
    "## Compare results from old method"
   ]
  },
  {
   "cell_type": "code",
   "execution_count": 14,
   "metadata": {
    "collapsed": false
   },
   "outputs": [
    {
     "data": {
      "text/plain": [
       "frozenset({256,\n",
       "           258,\n",
       "           287,\n",
       "           288,\n",
       "           352,\n",
       "           353,\n",
       "           354,\n",
       "           355,\n",
       "           362,\n",
       "           363,\n",
       "           364,\n",
       "           365,\n",
       "           377,\n",
       "           378,\n",
       "           379,\n",
       "           380,\n",
       "           387,\n",
       "           388,\n",
       "           389,\n",
       "           390,\n",
       "           398,\n",
       "           399,\n",
       "           400,\n",
       "           401,\n",
       "           402,\n",
       "           403,\n",
       "           416,\n",
       "           417,\n",
       "           418,\n",
       "           419,\n",
       "           420,\n",
       "           421,\n",
       "           425,\n",
       "           426,\n",
       "           427,\n",
       "           428,\n",
       "           429,\n",
       "           430,\n",
       "           431,\n",
       "           432,\n",
       "           433,\n",
       "           434,\n",
       "           449,\n",
       "           450,\n",
       "           451,\n",
       "           452,\n",
       "           460,\n",
       "           461,\n",
       "           462,\n",
       "           466,\n",
       "           467,\n",
       "           470,\n",
       "           471,\n",
       "           472,\n",
       "           473,\n",
       "           474,\n",
       "           475,\n",
       "           479,\n",
       "           480,\n",
       "           481,\n",
       "           482,\n",
       "           488,\n",
       "           506,\n",
       "           507,\n",
       "           534,\n",
       "           535,\n",
       "           536,\n",
       "           554,\n",
       "           555,\n",
       "           556,\n",
       "           557,\n",
       "           558,\n",
       "           559,\n",
       "           560,\n",
       "           597,\n",
       "           598,\n",
       "           644,\n",
       "           645,\n",
       "           667,\n",
       "           668,\n",
       "           669,\n",
       "           670,\n",
       "           671,\n",
       "           672,\n",
       "           673,\n",
       "           675,\n",
       "           676,\n",
       "           677,\n",
       "           686,\n",
       "           687,\n",
       "           688,\n",
       "           689,\n",
       "           691,\n",
       "           692,\n",
       "           693,\n",
       "           694,\n",
       "           696,\n",
       "           703,\n",
       "           704,\n",
       "           707,\n",
       "           708,\n",
       "           709,\n",
       "           710,\n",
       "           711})"
      ]
     },
     "execution_count": 14,
     "metadata": {},
     "output_type": "execute_result"
    }
   ],
   "source": [
    "old_ws_rows.difference(new_ws_rows)"
   ]
  },
  {
   "cell_type": "markdown",
   "metadata": {},
   "source": [
    "It seems that the new method correctly differentiates dead from dead AND teneral in the OYA data sheet."
   ]
  },
  {
   "cell_type": "markdown",
   "metadata": {},
   "source": [
    "# Final Tally"
   ]
  },
  {
   "cell_type": "code",
   "execution_count": 15,
   "metadata": {
    "collapsed": false
   },
   "outputs": [],
   "source": [
    "def get_estimates_by_sheet_new(workbook):\n",
    "    s = []\n",
    "    for ws in workbook.sheets():\n",
    "        est = len(get_dead_nonteneral_rows(ws))\n",
    "        s.append(est)\n",
    "        print \"NEW {0}:\\t{1}\".format(ws.name.upper(), est)\n",
    "    \n",
    "    print \"NEW TOTAL:\\t\\t\\t{0}\".format(sum(s))"
   ]
  },
  {
   "cell_type": "markdown",
   "metadata": {},
   "source": [
    "### NEW method"
   ]
  },
  {
   "cell_type": "code",
   "execution_count": 16,
   "metadata": {
    "collapsed": false
   },
   "outputs": [
    {
     "name": "stdout",
     "output_type": "stream",
     "text": [
      "NEW DISSECTION DATA-OYA:\t230\n",
      "NEW DISSECTION DATA-KOLE:\t182\n",
      "NEW DISSECTION DATA ARUA:\t200\n",
      "NEW DISSECTION DATA MOYO:\t39\n",
      "NEW DISSECTION DATA-OYAMKOLE2:\t310\n",
      "NEW DISSECTION DATA-ADJUMANI:\t45\n",
      "NEW DISSECTION DATA-AMURU:\t90\n",
      "NEW DISSECTION DATA-NWOYA:\t272\n",
      "NEW TOTAL:\t\t\t1368\n"
     ]
    }
   ],
   "source": [
    "get_estimates_by_sheet_new(ug_wb)"
   ]
  },
  {
   "cell_type": "markdown",
   "metadata": {},
   "source": [
    "### OLD method"
   ]
  },
  {
   "cell_type": "code",
   "execution_count": 17,
   "metadata": {
    "collapsed": false
   },
   "outputs": [
    {
     "name": "stdout",
     "output_type": "stream",
     "text": [
      "OLD DISSECTION DATA-OYA:\t334\n",
      "OLD DISSECTION DATA-KOLE:\t182\n",
      "OLD DISSECTION DATA ARUA:\t200\n",
      "OLD DISSECTION DATA MOYO:\t39\n",
      "OLD DISSECTION DATA-OYAMKOLE2:\t328\n",
      "OLD DISSECTION DATA-ADJUMANI:\t45\n",
      "OLD DISSECTION DATA-AMURU:\t90\n",
      "OLD DISSECTION DATA-NWOYA:\t272\n",
      "TOTAL:\t\t\t\t1490\n"
     ]
    }
   ],
   "source": [
    "get_estimates_by_sheet(ug_wb, f, 'dead')"
   ]
  },
  {
   "cell_type": "code",
   "execution_count": 17,
   "metadata": {
    "collapsed": false
   },
   "outputs": [],
   "source": []
  }
 ],
 "metadata": {
  "kernelspec": {
   "display_name": "IPython (Python 2)",
   "name": "python2"
  },
  "language_info": {
   "codemirror_mode": {
    "name": "ipython",
    "version": 2
   },
   "mimetype": "text/x-python",
   "name": "python",
   "pygments_lexer": "ipython2"
  },
  "signature": "sha256:acb4891b383d5b358af108f9b861e516318908fb43dcb35ec87a6d5d1ff5c6af"
 },
 "nbformat": 4,
 "nbformat_minor": 0
}